{
 "cells": [
  {
   "cell_type": "markdown",
   "id": "88a45b06-0c2e-495c-8130-a3b2b9b21bd8",
   "metadata": {
    "jp-MarkdownHeadingCollapsed": true
   },
   "source": [
    "# Preparation"
   ]
  },
  {
   "cell_type": "code",
   "execution_count": 3,
   "id": "a8d1a5a8-1e28-4abe-bbe4-1188621c64ca",
   "metadata": {},
   "outputs": [],
   "source": [
    "%run programs\\\\Characteristic_Pair.py\n",
    "import copy\n",
    "\n",
    "fanlikes_index=34\n",
    "projectied_vertex=6\n",
    "link_index=22\n",
    "\n",
    "K = Simplicial_Complex(json.loads(read_file('programs\\\\fanlikes')[fanlikes_index]))\n",
    "M = initial_char(K.n)\n",
    "C0 = Characteristic_Pair(K, M)\n",
    "fans = []\n",
    "\n",
    "a = sp.symbols('a0:%d'%K.n)\n",
    "b = sp.symbols('b0:%d'%K.n)\n",
    "c = sp.symbols('c0:%d'%K.n)\n",
    "d = sp.symbols('d0:%d'%K.n)\n",
    "\n",
    "a0, a1, a2, a3, a4, a5 = a[:]\n",
    "b0, b1, b2, b3, b4, b5 = b[:]\n",
    "c0, c1, c2, c3, c4, c5 = c[:]\n",
    "d0, d1, d2, d3, d4, d5 = d[:]"
   ]
  },
  {
   "cell_type": "code",
   "execution_count": 4,
   "id": "22341429-16ec-4752-9dab-2c617ed14844",
   "metadata": {},
   "outputs": [
    {
     "data": {
      "text/latex": [
       "$\\displaystyle \\left[\\begin{matrix}1 & 0 & 0 & 0 & 0 & 0 & a_{0} & b_{0} & c_{0} & d_{0}\\\\0 & 1 & 0 & 0 & 0 & 0 & a_{1} & b_{1} & c_{1} & d_{1}\\\\0 & 0 & 1 & 0 & 0 & 0 & a_{2} & b_{2} & c_{2} & d_{2}\\\\0 & 0 & 0 & 1 & 0 & 0 & a_{3} & b_{3} & c_{3} & d_{3}\\\\0 & 0 & 0 & 0 & 1 & 0 & a_{4} & b_{4} & c_{4} & d_{4}\\\\0 & 0 & 0 & 0 & 0 & 1 & a_{5} & b_{5} & c_{5} & d_{5}\\end{matrix}\\right]$"
      ],
      "text/plain": [
       "Matrix([\n",
       "[1, 0, 0, 0, 0, 0, a0, b0, c0, d0],\n",
       "[0, 1, 0, 0, 0, 0, a1, b1, c1, d1],\n",
       "[0, 0, 1, 0, 0, 0, a2, b2, c2, d2],\n",
       "[0, 0, 0, 1, 0, 0, a3, b3, c3, d3],\n",
       "[0, 0, 0, 0, 1, 0, a4, b4, c4, d4],\n",
       "[0, 0, 0, 0, 0, 1, a5, b5, c5, d5]])"
      ]
     },
     "execution_count": 4,
     "metadata": {},
     "output_type": "execute_result"
    }
   ],
   "source": [
    "C = C0\n",
    "C.char"
   ]
  },
  {
   "cell_type": "code",
   "execution_count": 5,
   "id": "0d4234c5-d2ad-43f2-bcf2-53df6f518fc0",
   "metadata": {},
   "outputs": [
    {
     "name": "stdout",
     "output_type": "stream",
     "text": [
      "facet number: 8\n"
     ]
    },
    {
     "data": {
      "text/latex": [
       "$\\displaystyle a_{1} = -1$"
      ],
      "text/plain": [
       "Eq(a1, -1)"
      ]
     },
     "metadata": {},
     "output_type": "display_data"
    },
    {
     "name": "stdout",
     "output_type": "stream",
     "text": [
      "facet number: 24\n"
     ]
    },
    {
     "data": {
      "text/latex": [
       "$\\displaystyle - b_{0} = 1$"
      ],
      "text/plain": [
       "Eq(-b0, 1)"
      ]
     },
     "metadata": {},
     "output_type": "display_data"
    },
    {
     "name": "stdout",
     "output_type": "stream",
     "text": [
      "facet number: 2\n"
     ]
    },
    {
     "data": {
      "text/latex": [
       "$\\displaystyle - c_{4} = 1$"
      ],
      "text/plain": [
       "Eq(-c4, 1)"
      ]
     },
     "metadata": {},
     "output_type": "display_data"
    },
    {
     "name": "stdout",
     "output_type": "stream",
     "text": [
      "facet number: 6\n"
     ]
    },
    {
     "data": {
      "text/latex": [
       "$\\displaystyle - d_{2} = 1$"
      ],
      "text/plain": [
       "Eq(-d2, 1)"
      ]
     },
     "metadata": {},
     "output_type": "display_data"
    },
    {
     "name": "stdout",
     "output_type": "stream",
     "text": [
      "facet number: 4\n"
     ]
    },
    {
     "data": {
      "text/latex": [
       "$\\displaystyle d_{3} = -1$"
      ],
      "text/plain": [
       "Eq(d3, -1)"
      ]
     },
     "metadata": {},
     "output_type": "display_data"
    },
    {
     "name": "stdout",
     "output_type": "stream",
     "text": [
      "facet number: 1\n"
     ]
    },
    {
     "data": {
      "text/latex": [
       "$\\displaystyle d_{5} = -1$"
      ],
      "text/plain": [
       "Eq(d5, -1)"
      ]
     },
     "metadata": {},
     "output_type": "display_data"
    }
   ],
   "source": [
    "i=8\n",
    "print('facet number:', i)\n",
    "display(sp.Eq(C.determinants[i], C.orientation[i]))\n",
    "\n",
    "i=24\n",
    "print('facet number:', i)\n",
    "display(sp.Eq(C.determinants[i], C.orientation[i]))\n",
    "\n",
    "i=2\n",
    "print('facet number:', i)\n",
    "display(sp.Eq(C.determinants[i], C.orientation[i]))\n",
    "\n",
    "i=6\n",
    "print('facet number:', i)\n",
    "display(sp.Eq(C.determinants[i], C.orientation[i]))\n",
    "\n",
    "i=4\n",
    "print('facet number:', i)\n",
    "display(sp.Eq(C.determinants[i], C.orientation[i]))\n",
    "\n",
    "i=1\n",
    "print('facet number:', i)\n",
    "display(sp.Eq(C.determinants[i], C.orientation[i]))\n",
    "\n",
    "C.subs(a1, -1)\n",
    "C.subs(b0, -1)\n",
    "C.subs(c4, -1)\n",
    "C.subs(d2, -1)\n",
    "C.subs(d3, -1)\n",
    "C.subs(d5, -1)"
   ]
  },
  {
   "cell_type": "markdown",
   "id": "7ccb2119-3126-4c0b-8022-d88dc46dd725",
   "metadata": {
    "jp-MarkdownHeadingCollapsed": true
   },
   "source": [
    "# The projection with respect to 6"
   ]
  },
  {
   "cell_type": "code",
   "execution_count": 6,
   "id": "0e323cef-c0a2-46e2-9a4a-ae5e50771989",
   "metadata": {},
   "outputs": [
    {
     "name": "stdout",
     "output_type": "stream",
     "text": [
      "[[8, 10], [1, 2, 7], [1, 2, 8], [2, 4, 7], [3, 4, 10], [3, 5, 9], [4, 7, 9], [4, 7, 10], [1, 2, 5, 9], [1, 3, 5, 8]]\n"
     ]
    }
   ],
   "source": [
    "print(Link(K, [projectied_vertex]).mnf)"
   ]
  },
  {
   "cell_type": "code",
   "execution_count": 7,
   "id": "f30eb303-c49a-4ce3-8acd-ff8035ccc85e",
   "metadata": {},
   "outputs": [
    {
     "name": "stdout",
     "output_type": "stream",
     "text": [
      "[[7, 9], [1, 2, 6], [1, 2, 7], [2, 4, 6], [3, 4, 9], [3, 5, 8], [4, 6, 8], [4, 6, 9], [1, 2, 5, 8], [1, 3, 5, 7]]\n"
     ]
    }
   ],
   "source": [
    "print(Simplicial_Complex(json.loads(read_file('programs\\\\fanlikes')[link_index])).mnf)"
   ]
  },
  {
   "cell_type": "code",
   "execution_count": 8,
   "id": "df140542-cdf9-4552-9612-b989fd3da923",
   "metadata": {},
   "outputs": [
    {
     "name": "stdout",
     "output_type": "stream",
     "text": [
      "[[7, 9], [1, 2, 6], [1, 2, 7], [2, 4, 6], [3, 4, 9], [3, 5, 8], [4, 6, 8], [4, 6, 9], [1, 2, 5, 8], [1, 3, 5, 7]]\n"
     ]
    },
    {
     "data": {
      "text/plain": [
       "True"
      ]
     },
     "execution_count": 8,
     "metadata": {},
     "output_type": "execute_result"
    }
   ],
   "source": [
    "L=[] # making the vertices of the link consecutive\n",
    "for l in Link(K, [projectied_vertex]).cpx:\n",
    "    L.append([])\n",
    "    for v in l:\n",
    "        if v>projectied_vertex:\n",
    "            L[-1].append(v-1)\n",
    "        else:\n",
    "            L[-1].append(v)\n",
    "print(Simplicial_Complex(L).mnf)\n",
    "L==json.loads(read_file('programs\\\\fanlikes')[link_index])"
   ]
  },
  {
   "cell_type": "code",
   "execution_count": 9,
   "id": "819b93af-0d9f-4aa9-912b-371f2dda7836",
   "metadata": {},
   "outputs": [
    {
     "data": {
      "text/latex": [
       "$\\displaystyle \\left[\\begin{matrix}1 & 0 & 0 & 0 & 0 & a_{0} & -1 & c_{0} & d_{0}\\\\0 & 1 & 0 & 0 & 0 & -1 & b_{1} & c_{1} & d_{1}\\\\0 & 0 & 1 & 0 & 0 & a_{2} & b_{2} & c_{2} & -1\\\\0 & 0 & 0 & 1 & 0 & a_{3} & b_{3} & c_{3} & -1\\\\0 & 0 & 0 & 0 & 1 & a_{4} & b_{4} & -1 & d_{4}\\end{matrix}\\right]$"
      ],
      "text/plain": [
       "Matrix([\n",
       "[1, 0, 0, 0, 0, a0, -1, c0, d0],\n",
       "[0, 1, 0, 0, 0, -1, b1, c1, d1],\n",
       "[0, 0, 1, 0, 0, a2, b2, c2, -1],\n",
       "[0, 0, 0, 1, 0, a3, b3, c3, -1],\n",
       "[0, 0, 0, 0, 1, a4, b4, -1, d4]])"
      ]
     },
     "metadata": {},
     "output_type": "display_data"
    }
   ],
   "source": [
    "display(C.proj([projectied_vertex]))"
   ]
  },
  {
   "cell_type": "markdown",
   "id": "dbcfd1c6-d2b6-4db0-81c1-f5fb1408a298",
   "metadata": {
    "jp-MarkdownHeadingCollapsed": true
   },
   "source": [
    "# The projection has 2 types of fans up to D-J equivalence"
   ]
  },
  {
   "cell_type": "code",
   "execution_count": 10,
   "id": "ed179421-0afe-4afc-b868-2c1c3dbe28e5",
   "metadata": {},
   "outputs": [],
   "source": [
    "import pickle\n",
    "with open('programs\\\\pickle_files\\\\%d_up_to_DJ.p'%(link_index), 'rb') as f:\n",
    "    fans_link = pickle.load(f)"
   ]
  },
  {
   "cell_type": "code",
   "execution_count": 11,
   "id": "934c9089-0a81-48c2-b920-150496633535",
   "metadata": {},
   "outputs": [
    {
     "data": {
      "text/latex": [
       "$\\displaystyle \\left[\\begin{matrix}1 & 0 & 0 & 0 & 0 & -1 & -1 & 0 & 1\\\\0 & 1 & 0 & 0 & 0 & -1 & 0 & 1 & 2\\\\0 & 0 & 1 & 0 & 0 & 0 & -1 & -1 & -1\\\\0 & 0 & 0 & 1 & 0 & 0 & 1 & 0 & -1\\\\0 & 0 & 0 & 0 & 1 & 0 & -1 & -1 & 0\\end{matrix}\\right]$"
      ],
      "text/plain": [
       "Matrix([\n",
       "[1, 0, 0, 0, 0, -1, -1,  0,  1],\n",
       "[0, 1, 0, 0, 0, -1,  0,  1,  2],\n",
       "[0, 0, 1, 0, 0,  0, -1, -1, -1],\n",
       "[0, 0, 0, 1, 0,  0,  1,  0, -1],\n",
       "[0, 0, 0, 0, 1,  0, -1, -1,  0]])"
      ]
     },
     "metadata": {},
     "output_type": "display_data"
    },
    {
     "data": {
      "text/latex": [
       "$\\displaystyle \\left[\\begin{matrix}1 & 0 & 0 & 0 & 0 & 0 & -1 & 0 & 1\\\\0 & 1 & 0 & 0 & 0 & -1 & -2 & -1 & 0\\\\0 & 0 & 1 & 0 & 0 & 0 & -1 & -1 & -1\\\\0 & 0 & 0 & 1 & 0 & -1 & -1 & -1 & -1\\\\0 & 0 & 0 & 0 & 1 & 0 & -1 & -1 & 0\\end{matrix}\\right]$"
      ],
      "text/plain": [
       "Matrix([\n",
       "[1, 0, 0, 0, 0,  0, -1,  0,  1],\n",
       "[0, 1, 0, 0, 0, -1, -2, -1,  0],\n",
       "[0, 0, 1, 0, 0,  0, -1, -1, -1],\n",
       "[0, 0, 0, 1, 0, -1, -1, -1, -1],\n",
       "[0, 0, 0, 0, 1,  0, -1, -1,  0]])"
      ]
     },
     "metadata": {},
     "output_type": "display_data"
    }
   ],
   "source": [
    "for f in fans_link:\n",
    "    display(f)"
   ]
  },
  {
   "cell_type": "markdown",
   "id": "ff605ab7-f715-404f-810b-92bbab3fc765",
   "metadata": {
    "jp-MarkdownHeadingCollapsed": true
   },
   "source": [
    "# Type 0 of the projection"
   ]
  },
  {
   "cell_type": "code",
   "execution_count": 14,
   "id": "aa377bcd-fa7a-48f6-92c4-ac15a279853d",
   "metadata": {},
   "outputs": [
    {
     "data": {
      "text/latex": [
       "$\\displaystyle \\left[\\begin{matrix}1 & 0 & 0 & 0 & 0 & a_{0} & -1 & c_{0} & d_{0}\\\\0 & 1 & 0 & 0 & 0 & -1 & b_{1} & c_{1} & d_{1}\\\\0 & 0 & 1 & 0 & 0 & a_{2} & b_{2} & c_{2} & -1\\\\0 & 0 & 0 & 1 & 0 & a_{3} & b_{3} & c_{3} & -1\\\\0 & 0 & 0 & 0 & 1 & a_{4} & b_{4} & -1 & d_{4}\\end{matrix}\\right] = \\left[\\begin{matrix}1 & 0 & 0 & 0 & 0 & -1 & -1 & 0 & 1\\\\0 & 1 & 0 & 0 & 0 & -1 & 0 & 1 & 2\\\\0 & 0 & 1 & 0 & 0 & 0 & -1 & -1 & -1\\\\0 & 0 & 0 & 1 & 0 & 0 & 1 & 0 & -1\\\\0 & 0 & 0 & 0 & 1 & 0 & -1 & -1 & 0\\end{matrix}\\right]$"
      ],
      "text/plain": [
       "Eq(Matrix([\n",
       "[1, 0, 0, 0, 0, a0, -1, c0, d0],\n",
       "[0, 1, 0, 0, 0, -1, b1, c1, d1],\n",
       "[0, 0, 1, 0, 0, a2, b2, c2, -1],\n",
       "[0, 0, 0, 1, 0, a3, b3, c3, -1],\n",
       "[0, 0, 0, 0, 1, a4, b4, -1, d4]]), Matrix([\n",
       "[1, 0, 0, 0, 0, -1, -1,  0,  1],\n",
       "[0, 1, 0, 0, 0, -1,  0,  1,  2],\n",
       "[0, 0, 1, 0, 0,  0, -1, -1, -1],\n",
       "[0, 0, 0, 1, 0,  0,  1,  0, -1],\n",
       "[0, 0, 0, 0, 1,  0, -1, -1,  0]]))"
      ]
     },
     "metadata": {},
     "output_type": "display_data"
    }
   ],
   "source": [
    "C1 = copy.deepcopy(C0)\n",
    "C = C1\n",
    "t=0\n",
    "\n",
    "proj = C.proj([projectied_vertex])\n",
    "with sp.evaluate(False):\n",
    "    display(sp.Eq(proj, fans_link[t]))"
   ]
  },
  {
   "cell_type": "code",
   "execution_count": 15,
   "id": "41ea0310-b5cf-41e4-bb0a-cfb79222eb08",
   "metadata": {},
   "outputs": [
    {
     "data": {
      "text/latex": [
       "$\\displaystyle \\text{True}$"
      ],
      "text/plain": [
       "True"
      ]
     },
     "metadata": {},
     "output_type": "display_data"
    }
   ],
   "source": [
    "C.subs(a0, -1)\n",
    "C.subs(a2, 0)\n",
    "C.subs(a3, 0)\n",
    "C.subs(a4, 0)\n",
    "C.subs(b1, 0)\n",
    "C.subs(b2, -1)\n",
    "C.subs(b3, 1)\n",
    "C.subs(b4, -1)\n",
    "C.subs(c0, 0)\n",
    "C.subs(c1, 1)\n",
    "C.subs(c2, -1)\n",
    "C.subs(c3, 0)\n",
    "C.subs(d0, 1)\n",
    "C.subs(d1, 2)\n",
    "C.subs(d4, 0)\n",
    "\n",
    "display(sp.Eq(C.proj([projectied_vertex]), fans_link[t]))"
   ]
  },
  {
   "cell_type": "code",
   "execution_count": 16,
   "id": "4019583a-9beb-4672-8c92-223ddea7e7e6",
   "metadata": {},
   "outputs": [
    {
     "name": "stdout",
     "output_type": "stream",
     "text": [
      "facet number: 25\n"
     ]
    },
    {
     "data": {
      "text/latex": [
       "$\\displaystyle - c_{5} = 1$"
      ],
      "text/plain": [
       "Eq(-c5, 1)"
      ]
     },
     "metadata": {},
     "output_type": "display_data"
    }
   ],
   "source": [
    "i=25\n",
    "print('facet number:', i)\n",
    "display(sp.Eq(C.determinants[i], C.orientation[i]))\n",
    "\n",
    "C.subs(c5, -1)"
   ]
  },
  {
   "cell_type": "code",
   "execution_count": 17,
   "id": "ca66f451-edc0-4a7c-aca4-b47f348805c3",
   "metadata": {},
   "outputs": [
    {
     "name": "stdout",
     "output_type": "stream",
     "text": [
      "facet number: 9\n"
     ]
    },
    {
     "data": {
      "text/latex": [
       "$\\displaystyle a_{5} - 1 = -1$"
      ],
      "text/plain": [
       "Eq(a5 - 1, -1)"
      ]
     },
     "metadata": {},
     "output_type": "display_data"
    }
   ],
   "source": [
    "i=9\n",
    "print('facet number:', i)\n",
    "display(sp.Eq(C.determinants[i], C.orientation[i]))\n",
    "\n",
    "C.subs(a5, 0)"
   ]
  },
  {
   "cell_type": "code",
   "execution_count": 18,
   "id": "a50c0884-74ce-4f71-a892-251cdd86384a",
   "metadata": {},
   "outputs": [
    {
     "name": "stdout",
     "output_type": "stream",
     "text": [
      "facet number: 39\n"
     ]
    },
    {
     "data": {
      "text/latex": [
       "$\\displaystyle b_{5} + 1 = 1$"
      ],
      "text/plain": [
       "Eq(b5 + 1, 1)"
      ]
     },
     "metadata": {},
     "output_type": "display_data"
    }
   ],
   "source": [
    "i=39\n",
    "print('facet number:', i)\n",
    "display(sp.Eq(C.determinants[i], C.orientation[i]))\n",
    "\n",
    "C.subs(b5, 0)"
   ]
  },
  {
   "cell_type": "code",
   "execution_count": 20,
   "id": "7a7b0f65-1085-41b6-85fb-e489033a7576",
   "metadata": {},
   "outputs": [
    {
     "data": {
      "text/latex": [
       "$\\displaystyle \\left[\\begin{matrix}1 & 0 & 0 & 0 & 0 & 0 & -1 & -1 & 0 & 1\\\\0 & 1 & 0 & 0 & 0 & 0 & -1 & 0 & 1 & 2\\\\0 & 0 & 1 & 0 & 0 & 0 & 0 & -1 & -1 & -1\\\\0 & 0 & 0 & 1 & 0 & 0 & 0 & 1 & 0 & -1\\\\0 & 0 & 0 & 0 & 1 & 0 & 0 & -1 & -1 & 0\\\\0 & 0 & 0 & 0 & 0 & 1 & 0 & 0 & -1 & -1\\end{matrix}\\right]$"
      ],
      "text/plain": [
       "Matrix([\n",
       "[1, 0, 0, 0, 0, 0, -1, -1,  0,  1],\n",
       "[0, 1, 0, 0, 0, 0, -1,  0,  1,  2],\n",
       "[0, 0, 1, 0, 0, 0,  0, -1, -1, -1],\n",
       "[0, 0, 0, 1, 0, 0,  0,  1,  0, -1],\n",
       "[0, 0, 0, 0, 1, 0,  0, -1, -1,  0],\n",
       "[0, 0, 0, 0, 0, 1,  0,  0, -1, -1]])"
      ]
     },
     "metadata": {},
     "output_type": "display_data"
    },
    {
     "name": "stdout",
     "output_type": "stream",
     "text": [
      "1\n"
     ]
    }
   ],
   "source": [
    "display(C.char)\n",
    "print(C.is_fangiving)\n",
    "fans.append(C.char)"
   ]
  },
  {
   "cell_type": "markdown",
   "id": "a7d16530-a1e4-4d26-8520-a6500c55086a",
   "metadata": {
    "jp-MarkdownHeadingCollapsed": true
   },
   "source": [
    "# Type 1 of the projection"
   ]
  },
  {
   "cell_type": "code",
   "execution_count": 21,
   "id": "fe961236-6c80-4a69-9c7c-3233152f28f2",
   "metadata": {},
   "outputs": [
    {
     "data": {
      "text/latex": [
       "$\\displaystyle \\left[\\begin{matrix}1 & 0 & 0 & 0 & 0 & a_{0} & -1 & c_{0} & d_{0}\\\\0 & 1 & 0 & 0 & 0 & -1 & b_{1} & c_{1} & d_{1}\\\\0 & 0 & 1 & 0 & 0 & a_{2} & b_{2} & c_{2} & -1\\\\0 & 0 & 0 & 1 & 0 & a_{3} & b_{3} & c_{3} & -1\\\\0 & 0 & 0 & 0 & 1 & a_{4} & b_{4} & -1 & d_{4}\\end{matrix}\\right] = \\left[\\begin{matrix}1 & 0 & 0 & 0 & 0 & 0 & -1 & 0 & 1\\\\0 & 1 & 0 & 0 & 0 & -1 & -2 & -1 & 0\\\\0 & 0 & 1 & 0 & 0 & 0 & -1 & -1 & -1\\\\0 & 0 & 0 & 1 & 0 & -1 & -1 & -1 & -1\\\\0 & 0 & 0 & 0 & 1 & 0 & -1 & -1 & 0\\end{matrix}\\right]$"
      ],
      "text/plain": [
       "Eq(Matrix([\n",
       "[1, 0, 0, 0, 0, a0, -1, c0, d0],\n",
       "[0, 1, 0, 0, 0, -1, b1, c1, d1],\n",
       "[0, 0, 1, 0, 0, a2, b2, c2, -1],\n",
       "[0, 0, 0, 1, 0, a3, b3, c3, -1],\n",
       "[0, 0, 0, 0, 1, a4, b4, -1, d4]]), Matrix([\n",
       "[1, 0, 0, 0, 0,  0, -1,  0,  1],\n",
       "[0, 1, 0, 0, 0, -1, -2, -1,  0],\n",
       "[0, 0, 1, 0, 0,  0, -1, -1, -1],\n",
       "[0, 0, 0, 1, 0, -1, -1, -1, -1],\n",
       "[0, 0, 0, 0, 1,  0, -1, -1,  0]]))"
      ]
     },
     "metadata": {},
     "output_type": "display_data"
    }
   ],
   "source": [
    "C1 = copy.deepcopy(C0)\n",
    "C = C1\n",
    "t=1\n",
    "\n",
    "proj = C.proj([projectied_vertex])\n",
    "with sp.evaluate(False):\n",
    "    display(sp.Eq(proj, fans_link[t]))"
   ]
  },
  {
   "cell_type": "code",
   "execution_count": 22,
   "id": "59c5c8c4-0a81-48e8-92d8-99e8af161d3b",
   "metadata": {},
   "outputs": [
    {
     "data": {
      "text/latex": [
       "$\\displaystyle \\text{True}$"
      ],
      "text/plain": [
       "True"
      ]
     },
     "metadata": {},
     "output_type": "display_data"
    }
   ],
   "source": [
    "C.subs(a0, 0)\n",
    "C.subs(a2, 0)\n",
    "C.subs(a3, -1)\n",
    "C.subs(a4, 0)\n",
    "C.subs(b1, -2)\n",
    "C.subs(b2, -1)\n",
    "C.subs(b3, -1)\n",
    "C.subs(b4, -1)\n",
    "C.subs(c0, 0)\n",
    "C.subs(c1, -1)\n",
    "C.subs(c2, -1)\n",
    "C.subs(c3, -1)\n",
    "C.subs(d0, 1)\n",
    "C.subs(d1, 0)\n",
    "C.subs(d4, 0)\n",
    "\n",
    "display(sp.Eq(C.proj([projectied_vertex]), fans_link[t]))"
   ]
  },
  {
   "cell_type": "code",
   "execution_count": 23,
   "id": "6bc70476-43f2-448a-803a-4906a9ed882a",
   "metadata": {},
   "outputs": [
    {
     "name": "stdout",
     "output_type": "stream",
     "text": [
      "facet number: 25\n"
     ]
    },
    {
     "data": {
      "text/latex": [
       "$\\displaystyle - c_{5} = 1$"
      ],
      "text/plain": [
       "Eq(-c5, 1)"
      ]
     },
     "metadata": {},
     "output_type": "display_data"
    }
   ],
   "source": [
    "i=25\n",
    "print('facet number:', i)\n",
    "display(sp.Eq(C.determinants[i], C.orientation[i]))\n",
    "\n",
    "C.subs(c5, -1)"
   ]
  },
  {
   "cell_type": "code",
   "execution_count": 24,
   "id": "79690574-de1e-4416-a0c5-3470a9055b78",
   "metadata": {},
   "outputs": [
    {
     "name": "stdout",
     "output_type": "stream",
     "text": [
      "facet number: 30\n"
     ]
    },
    {
     "data": {
      "text/latex": [
       "$\\displaystyle a_{5} + 1 = 1$"
      ],
      "text/plain": [
       "Eq(a5 + 1, 1)"
      ]
     },
     "metadata": {},
     "output_type": "display_data"
    }
   ],
   "source": [
    "i=30\n",
    "print('facet number:', i)\n",
    "display(sp.Eq(C.determinants[i], C.orientation[i]))\n",
    "\n",
    "C.subs(a5, 0)"
   ]
  },
  {
   "cell_type": "code",
   "execution_count": 25,
   "id": "0fea8a6c-f264-430d-bdba-8a72d0a732c2",
   "metadata": {},
   "outputs": [
    {
     "name": "stdout",
     "output_type": "stream",
     "text": [
      "facet number: 13\n"
     ]
    },
    {
     "data": {
      "text/latex": [
       "$\\displaystyle - b_{5} - 1 = -1$"
      ],
      "text/plain": [
       "Eq(-b5 - 1, -1)"
      ]
     },
     "metadata": {},
     "output_type": "display_data"
    }
   ],
   "source": [
    "i=13\n",
    "print('facet number:', i)\n",
    "display(sp.Eq(C.determinants[i], C.orientation[i]))\n",
    "\n",
    "C.subs(b5, 0)"
   ]
  },
  {
   "cell_type": "code",
   "execution_count": 27,
   "id": "421cab8b-991a-47d5-bb07-eb384302ab05",
   "metadata": {},
   "outputs": [
    {
     "data": {
      "text/latex": [
       "$\\displaystyle \\left[\\begin{matrix}1 & 0 & 0 & 0 & 0 & 0 & 0 & -1 & 0 & 1\\\\0 & 1 & 0 & 0 & 0 & 0 & -1 & -2 & -1 & 0\\\\0 & 0 & 1 & 0 & 0 & 0 & 0 & -1 & -1 & -1\\\\0 & 0 & 0 & 1 & 0 & 0 & -1 & -1 & -1 & -1\\\\0 & 0 & 0 & 0 & 1 & 0 & 0 & -1 & -1 & 0\\\\0 & 0 & 0 & 0 & 0 & 1 & 0 & 0 & -1 & -1\\end{matrix}\\right]$"
      ],
      "text/plain": [
       "Matrix([\n",
       "[1, 0, 0, 0, 0, 0,  0, -1,  0,  1],\n",
       "[0, 1, 0, 0, 0, 0, -1, -2, -1,  0],\n",
       "[0, 0, 1, 0, 0, 0,  0, -1, -1, -1],\n",
       "[0, 0, 0, 1, 0, 0, -1, -1, -1, -1],\n",
       "[0, 0, 0, 0, 1, 0,  0, -1, -1,  0],\n",
       "[0, 0, 0, 0, 0, 1,  0,  0, -1, -1]])"
      ]
     },
     "metadata": {},
     "output_type": "display_data"
    },
    {
     "name": "stdout",
     "output_type": "stream",
     "text": [
      "1\n"
     ]
    }
   ],
   "source": [
    "display(C.char)\n",
    "print(C.is_fangiving)\n",
    "fans.append(C.char)"
   ]
  },
  {
   "cell_type": "markdown",
   "id": "4f26fee5-c29b-45b7-8b10-90384808406e",
   "metadata": {
    "jp-MarkdownHeadingCollapsed": true
   },
   "source": [
    "# There are 2 types of fans up to D-J equivalence"
   ]
  },
  {
   "cell_type": "code",
   "execution_count": 28,
   "id": "70a6fda2-396f-4fc1-a2c6-b7b385d8319f",
   "metadata": {},
   "outputs": [
    {
     "data": {
      "text/latex": [
       "$\\displaystyle \\left[\\begin{matrix}1 & 0 & 0 & 0 & 0 & 0 & -1 & -1 & 0 & 1\\\\0 & 1 & 0 & 0 & 0 & 0 & -1 & 0 & 1 & 2\\\\0 & 0 & 1 & 0 & 0 & 0 & 0 & -1 & -1 & -1\\\\0 & 0 & 0 & 1 & 0 & 0 & 0 & 1 & 0 & -1\\\\0 & 0 & 0 & 0 & 1 & 0 & 0 & -1 & -1 & 0\\\\0 & 0 & 0 & 0 & 0 & 1 & 0 & 0 & -1 & -1\\end{matrix}\\right]$"
      ],
      "text/plain": [
       "Matrix([\n",
       "[1, 0, 0, 0, 0, 0, -1, -1,  0,  1],\n",
       "[0, 1, 0, 0, 0, 0, -1,  0,  1,  2],\n",
       "[0, 0, 1, 0, 0, 0,  0, -1, -1, -1],\n",
       "[0, 0, 0, 1, 0, 0,  0,  1,  0, -1],\n",
       "[0, 0, 0, 0, 1, 0,  0, -1, -1,  0],\n",
       "[0, 0, 0, 0, 0, 1,  0,  0, -1, -1]])"
      ]
     },
     "metadata": {},
     "output_type": "display_data"
    },
    {
     "data": {
      "text/latex": [
       "$\\displaystyle \\left[\\begin{matrix}1 & 0 & 0 & 0 & 0 & 0 & 0 & -1 & 0 & 1\\\\0 & 1 & 0 & 0 & 0 & 0 & -1 & -2 & -1 & 0\\\\0 & 0 & 1 & 0 & 0 & 0 & 0 & -1 & -1 & -1\\\\0 & 0 & 0 & 1 & 0 & 0 & -1 & -1 & -1 & -1\\\\0 & 0 & 0 & 0 & 1 & 0 & 0 & -1 & -1 & 0\\\\0 & 0 & 0 & 0 & 0 & 1 & 0 & 0 & -1 & -1\\end{matrix}\\right]$"
      ],
      "text/plain": [
       "Matrix([\n",
       "[1, 0, 0, 0, 0, 0,  0, -1,  0,  1],\n",
       "[0, 1, 0, 0, 0, 0, -1, -2, -1,  0],\n",
       "[0, 0, 1, 0, 0, 0,  0, -1, -1, -1],\n",
       "[0, 0, 0, 1, 0, 0, -1, -1, -1, -1],\n",
       "[0, 0, 0, 0, 1, 0,  0, -1, -1,  0],\n",
       "[0, 0, 0, 0, 0, 1,  0,  0, -1, -1]])"
      ]
     },
     "metadata": {},
     "output_type": "display_data"
    }
   ],
   "source": [
    "for f in fans:\n",
    "    display(f)"
   ]
  },
  {
   "cell_type": "markdown",
   "id": "0d8d8e04-5f3e-41c1-aef0-63fbe399e3b0",
   "metadata": {
    "jp-MarkdownHeadingCollapsed": true
   },
   "source": [
    "# There is 1 type of fan up to D-J equivalence and symmetry"
   ]
  },
  {
   "cell_type": "code",
   "execution_count": 29,
   "id": "abf8f74a-910d-47f9-87db-44b49951c7fb",
   "metadata": {},
   "outputs": [
    {
     "data": {
      "text/plain": [
       "[[1, 2, 3, 4, 5, 6, 7, 8, 9, 10], [4, 7, 3, 1, 6, 5, 2, 10, 9, 8]]"
      ]
     },
     "execution_count": 29,
     "metadata": {},
     "output_type": "execute_result"
    }
   ],
   "source": [
    "K.symmetries"
   ]
  },
  {
   "cell_type": "code",
   "execution_count": 30,
   "id": "f95934a9-dbf1-44f3-9eb1-a3704b841528",
   "metadata": {},
   "outputs": [],
   "source": [
    "symm_index = [(np.array(i)-1).tolist() for i in K.symmetries]"
   ]
  },
  {
   "cell_type": "code",
   "execution_count": 31,
   "id": "c342a63d-9519-4fb8-a194-5a40485bf101",
   "metadata": {},
   "outputs": [
    {
     "data": {
      "text/latex": [
       "$\\displaystyle \\left[\\begin{matrix}1 & 0 & 0 & 0 & 0 & 0 & 0 & -1 & 0 & 1\\\\0 & 1 & 0 & 0 & 0 & 0 & -1 & -2 & -1 & 0\\\\0 & 0 & 1 & 0 & 0 & 0 & 0 & -1 & -1 & -1\\\\0 & 0 & 0 & 1 & 0 & 0 & -1 & -1 & -1 & -1\\\\0 & 0 & 0 & 0 & 1 & 0 & 0 & -1 & -1 & 0\\\\0 & 0 & 0 & 0 & 0 & 1 & 0 & 0 & -1 & -1\\end{matrix}\\right]$"
      ],
      "text/plain": [
       "Matrix([\n",
       "[1, 0, 0, 0, 0, 0,  0, -1,  0,  1],\n",
       "[0, 1, 0, 0, 0, 0, -1, -2, -1,  0],\n",
       "[0, 0, 1, 0, 0, 0,  0, -1, -1, -1],\n",
       "[0, 0, 0, 1, 0, 0, -1, -1, -1, -1],\n",
       "[0, 0, 0, 0, 1, 0,  0, -1, -1,  0],\n",
       "[0, 0, 0, 0, 0, 1,  0,  0, -1, -1]])"
      ]
     },
     "metadata": {},
     "output_type": "display_data"
    },
    {
     "data": {
      "text/latex": [
       "$\\displaystyle \\left[\\begin{matrix}1 & 0 & 0 & 0 & 0 & 0 & 0 & -1 & 0 & 1\\\\0 & 1 & 0 & 0 & 0 & 0 & -1 & -2 & -1 & 0\\\\0 & 0 & 1 & 0 & 0 & 0 & 0 & -1 & -1 & -1\\\\0 & 0 & 0 & 1 & 0 & 0 & -1 & -1 & -1 & -1\\\\0 & 0 & 0 & 0 & 1 & 0 & 0 & -1 & -1 & 0\\\\0 & 0 & 0 & 0 & 0 & 1 & 0 & 0 & -1 & -1\\end{matrix}\\right]$"
      ],
      "text/plain": [
       "Matrix([\n",
       "[1, 0, 0, 0, 0, 0,  0, -1,  0,  1],\n",
       "[0, 1, 0, 0, 0, 0, -1, -2, -1,  0],\n",
       "[0, 0, 1, 0, 0, 0,  0, -1, -1, -1],\n",
       "[0, 0, 0, 1, 0, 0, -1, -1, -1, -1],\n",
       "[0, 0, 0, 0, 1, 0,  0, -1, -1,  0],\n",
       "[0, 0, 0, 0, 0, 1,  0,  0, -1, -1]])"
      ]
     },
     "metadata": {},
     "output_type": "display_data"
    }
   ],
   "source": [
    "display(fans[0][:, symm_index[1]].rref()[0])\n",
    "display(fans[1])"
   ]
  }
 ],
 "metadata": {
  "kernelspec": {
   "display_name": "Python 3 (ipykernel)",
   "language": "python",
   "name": "python3"
  },
  "language_info": {
   "codemirror_mode": {
    "name": "ipython",
    "version": 3
   },
   "file_extension": ".py",
   "mimetype": "text/x-python",
   "name": "python",
   "nbconvert_exporter": "python",
   "pygments_lexer": "ipython3",
   "version": "3.12.7"
  }
 },
 "nbformat": 4,
 "nbformat_minor": 5
}
