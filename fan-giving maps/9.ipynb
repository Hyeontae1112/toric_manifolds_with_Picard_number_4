{
 "cells": [
  {
   "cell_type": "markdown",
   "id": "b71913e6-fc2b-4c87-8c7e-8198ef986642",
   "metadata": {
    "jp-MarkdownHeadingCollapsed": true
   },
   "source": [
    "# Preparation"
   ]
  },
  {
   "cell_type": "code",
   "execution_count": 1,
   "id": "8df49a58-1da4-4c08-b37d-5555772874a6",
   "metadata": {},
   "outputs": [],
   "source": [
    "%run programs\\\\Characteristic_Pair.py\n",
    "import copy\n",
    "from tqdm import trange\n",
    "K = Simplicial_Complex(json.loads(read_file('programs\\\\fanlikes')[9]))\n",
    "M = initial_char(K.n)\n",
    "C0 = Characteristic_Pair(K, M)\n",
    "fans = []\n",
    "\n",
    "a = sp.symbols('a0:%d'%K.n)\n",
    "b = sp.symbols('b0:%d'%K.n)\n",
    "c = sp.symbols('c0:%d'%K.n)\n",
    "d = sp.symbols('d0:%d'%K.n)\n",
    "\n",
    "a0, a1, a2, a3 = a[:]\n",
    "b0, b1, b2, b3 = b[:]\n",
    "c0, c1, c2, c3 = c[:]\n",
    "d0, d1, d2, d3 = d[:]"
   ]
  },
  {
   "cell_type": "code",
   "execution_count": 2,
   "id": "729111c5-a014-4695-bdff-bc5bfbb9fb62",
   "metadata": {},
   "outputs": [
    {
     "data": {
      "text/latex": [
       "$\\displaystyle \\left[\\begin{matrix}1 & 0 & 0 & 0 & a_{0} & b_{0} & c_{0} & d_{0}\\\\0 & 1 & 0 & 0 & a_{1} & b_{1} & c_{1} & d_{1}\\\\0 & 0 & 1 & 0 & a_{2} & b_{2} & c_{2} & d_{2}\\\\0 & 0 & 0 & 1 & a_{3} & b_{3} & c_{3} & d_{3}\\end{matrix}\\right]$"
      ],
      "text/plain": [
       "Matrix([\n",
       "[1, 0, 0, 0, a0, b0, c0, d0],\n",
       "[0, 1, 0, 0, a1, b1, c1, d1],\n",
       "[0, 0, 1, 0, a2, b2, c2, d2],\n",
       "[0, 0, 0, 1, a3, b3, c3, d3]])"
      ]
     },
     "execution_count": 2,
     "metadata": {},
     "output_type": "execute_result"
    }
   ],
   "source": [
    "C = C0\n",
    "C.char"
   ]
  },
  {
   "cell_type": "code",
   "execution_count": 3,
   "id": "251b947d-f9b4-4dc3-85bf-e22ad23c1754",
   "metadata": {},
   "outputs": [
    {
     "name": "stdout",
     "output_type": "stream",
     "text": [
      "facet number: 3\n"
     ]
    },
    {
     "data": {
      "text/latex": [
       "$\\displaystyle a_{1} = -1$"
      ],
      "text/plain": [
       "Eq(a1, -1)"
      ]
     },
     "metadata": {},
     "output_type": "display_data"
    },
    {
     "name": "stdout",
     "output_type": "stream",
     "text": [
      "facet number: 10\n"
     ]
    },
    {
     "data": {
      "text/latex": [
       "$\\displaystyle - b_{0} = 1$"
      ],
      "text/plain": [
       "Eq(-b0, 1)"
      ]
     },
     "metadata": {},
     "output_type": "display_data"
    },
    {
     "name": "stdout",
     "output_type": "stream",
     "text": [
      "facet number: 2\n"
     ]
    },
    {
     "data": {
      "text/latex": [
       "$\\displaystyle - d_{2} = 1$"
      ],
      "text/plain": [
       "Eq(-d2, 1)"
      ]
     },
     "metadata": {},
     "output_type": "display_data"
    },
    {
     "name": "stdout",
     "output_type": "stream",
     "text": [
      "facet number: 1\n"
     ]
    },
    {
     "data": {
      "text/latex": [
       "$\\displaystyle d_{3} = -1$"
      ],
      "text/plain": [
       "Eq(d3, -1)"
      ]
     },
     "metadata": {},
     "output_type": "display_data"
    }
   ],
   "source": [
    "i=3\n",
    "print('facet number:', i)\n",
    "display(sp.Eq(C.determinants[i], C.orientation[i]))\n",
    "\n",
    "i=10\n",
    "print('facet number:', i)\n",
    "display(sp.Eq(C.determinants[i], C.orientation[i]))\n",
    "\n",
    "i=2\n",
    "print('facet number:', i)\n",
    "display(sp.Eq(C.determinants[i], C.orientation[i]))\n",
    "\n",
    "i=1\n",
    "print('facet number:', i)\n",
    "display(sp.Eq(C.determinants[i], C.orientation[i]))\n",
    "\n",
    "C.subs(a1, -1)\n",
    "C.subs(b0, -1)\n",
    "C.subs(d2, -1)\n",
    "C.subs(d3, -1)"
   ]
  },
  {
   "cell_type": "markdown",
   "id": "1ae9051d-c42d-444f-a43d-b80bf866feee",
   "metadata": {
    "jp-MarkdownHeadingCollapsed": true
   },
   "source": [
    "# The projection with respect to 4"
   ]
  },
  {
   "cell_type": "code",
   "execution_count": 4,
   "id": "7ce50f26-bef7-4d5c-8afa-c598e8ede6d0",
   "metadata": {},
   "outputs": [
    {
     "name": "stdout",
     "output_type": "stream",
     "text": [
      "[[1, 2, 3], [1, 2, 8], [1, 3, 5], [1, 5, 6], [1, 6, 7], [1, 7, 8], [2, 3, 6], [2, 6, 7], [2, 7, 8], [3, 5, 6]]\n"
     ]
    }
   ],
   "source": [
    "print(Link(K, [4]).cpx)"
   ]
  },
  {
   "cell_type": "code",
   "execution_count": 5,
   "id": "7c68c33d-98f3-434a-a796-bff0ecc76144",
   "metadata": {},
   "outputs": [
    {
     "name": "stdout",
     "output_type": "stream",
     "text": [
      "[[1, 2, 3], [1, 2, 7], [1, 3, 4], [1, 4, 5], [1, 5, 6], [1, 6, 7], [2, 3, 5], [2, 5, 6], [2, 6, 7], [3, 4, 5]]\n"
     ]
    }
   ],
   "source": [
    "print(json.loads(read_file('programs\\\\fanlikes')[1]))"
   ]
  },
  {
   "cell_type": "code",
   "execution_count": 6,
   "id": "a383c82b-fb1d-4d14-bad1-9556acb2c47a",
   "metadata": {},
   "outputs": [
    {
     "name": "stdout",
     "output_type": "stream",
     "text": [
      "[[1, 2, 3], [1, 2, 7], [1, 3, 4], [1, 4, 5], [1, 5, 6], [1, 6, 7], [2, 3, 5], [2, 5, 6], [2, 6, 7], [3, 4, 5]]\n"
     ]
    },
    {
     "data": {
      "text/plain": [
       "True"
      ]
     },
     "execution_count": 6,
     "metadata": {},
     "output_type": "execute_result"
    }
   ],
   "source": [
    "L=[] # making the vertices of the link consecutive\n",
    "for l in Link(K, [4]).cpx:\n",
    "    L.append([])\n",
    "    for v in l:\n",
    "        if v>4:\n",
    "            L[-1].append(v-1)\n",
    "        else:\n",
    "            L[-1].append(v)\n",
    "print(L)\n",
    "L==json.loads(read_file('programs\\\\fanlikes')[1])"
   ]
  },
  {
   "cell_type": "code",
   "execution_count": 7,
   "id": "a2f8b731-6414-4f4c-91e8-9b6e06e2209f",
   "metadata": {},
   "outputs": [
    {
     "data": {
      "text/latex": [
       "$\\displaystyle \\left[\\begin{matrix}1 & 0 & 0 & a_{0} & -1 & c_{0} & d_{0}\\\\0 & 1 & 0 & -1 & b_{1} & c_{1} & d_{1}\\\\0 & 0 & 1 & a_{2} & b_{2} & c_{2} & -1\\end{matrix}\\right]$"
      ],
      "text/plain": [
       "Matrix([\n",
       "[1, 0, 0, a0, -1, c0, d0],\n",
       "[0, 1, 0, -1, b1, c1, d1],\n",
       "[0, 0, 1, a2, b2, c2, -1]])"
      ]
     },
     "metadata": {},
     "output_type": "display_data"
    }
   ],
   "source": [
    "display(C.proj([4]))"
   ]
  },
  {
   "cell_type": "markdown",
   "id": "1e6b7f21-17e0-4d28-a1ed-362e755ebb64",
   "metadata": {
    "jp-MarkdownHeadingCollapsed": true
   },
   "source": [
    "# The projection has 13 types of fans up to D-J equivalence"
   ]
  },
  {
   "cell_type": "code",
   "execution_count": 8,
   "id": "4d0c070c-d674-43b8-a334-0c1615f292a4",
   "metadata": {},
   "outputs": [],
   "source": [
    "import pickle\n",
    "with open('programs\\\\pickle_files\\\\1_up_to_DJ.p', 'rb') as f:\n",
    "    fans_link = pickle.load(f)"
   ]
  },
  {
   "cell_type": "code",
   "execution_count": 9,
   "id": "a1683bb4-0db5-4e22-b2ee-effdfee6cbe7",
   "metadata": {
    "scrolled": true
   },
   "outputs": [
    {
     "data": {
      "text/latex": [
       "$\\displaystyle \\left[\\begin{matrix}1 & 0 & 0 & a_{0} & -1 & 0 & 1\\\\0 & 1 & 0 & -1 & 0 & 1 & 2\\\\0 & 0 & 1 & a_{2} & -1 & -1 & -1\\end{matrix}\\right]$"
      ],
      "text/plain": [
       "Matrix([\n",
       "[1, 0, 0, a0, -1,  0,  1],\n",
       "[0, 1, 0, -1,  0,  1,  2],\n",
       "[0, 0, 1, a2, -1, -1, -1]])"
      ]
     },
     "metadata": {},
     "output_type": "display_data"
    },
    {
     "data": {
      "text/latex": [
       "$\\displaystyle \\left[\\begin{matrix}1 & 0 & 0 & a_{0} & -1 & -1 & 0\\\\0 & 1 & 0 & -1 & 0 & 1 & 1\\\\0 & 0 & 1 & a_{2} & -1 & -2 & -1\\end{matrix}\\right]$"
      ],
      "text/plain": [
       "Matrix([\n",
       "[1, 0, 0, a0, -1, -1,  0],\n",
       "[0, 1, 0, -1,  0,  1,  1],\n",
       "[0, 0, 1, a2, -1, -2, -1]])"
      ]
     },
     "metadata": {},
     "output_type": "display_data"
    },
    {
     "data": {
      "text/latex": [
       "$\\displaystyle \\left[\\begin{matrix}1 & 0 & 0 & 0 & -1 & -1 & d_{0}\\\\0 & 1 & 0 & -1 & -2 & -1 & d_{1}\\\\0 & 0 & 1 & 1 & 1 & 0 & -1\\end{matrix}\\right]$"
      ],
      "text/plain": [
       "Matrix([\n",
       "[1, 0, 0,  0, -1, -1, d0],\n",
       "[0, 1, 0, -1, -2, -1, d1],\n",
       "[0, 0, 1,  1,  1,  0, -1]])"
      ]
     },
     "metadata": {},
     "output_type": "display_data"
    },
    {
     "data": {
      "text/latex": [
       "$\\displaystyle \\left[\\begin{matrix}1 & 0 & 0 & 0 & -1 & -1 & d_{0}\\\\0 & 1 & 0 & -1 & -1 & -1 & d_{1}\\\\0 & 0 & 1 & 2 & 1 & 0 & -1\\end{matrix}\\right]$"
      ],
      "text/plain": [
       "Matrix([\n",
       "[1, 0, 0,  0, -1, -1, d0],\n",
       "[0, 1, 0, -1, -1, -1, d1],\n",
       "[0, 0, 1,  2,  1,  0, -1]])"
      ]
     },
     "metadata": {},
     "output_type": "display_data"
    },
    {
     "data": {
      "text/latex": [
       "$\\displaystyle \\left[\\begin{matrix}1 & 0 & 0 & 0 & -1 & 0 & 1\\\\0 & 1 & 0 & -1 & d_{1} - 2 & d_{1} - 1 & d_{1}\\\\0 & 0 & 1 & 0 & -1 & -1 & -1\\end{matrix}\\right]$"
      ],
      "text/plain": [
       "Matrix([\n",
       "[1, 0, 0,  0,     -1,      0,  1],\n",
       "[0, 1, 0, -1, d1 - 2, d1 - 1, d1],\n",
       "[0, 0, 1,  0,     -1,     -1, -1]])"
      ]
     },
     "metadata": {},
     "output_type": "display_data"
    },
    {
     "data": {
      "text/latex": [
       "$\\displaystyle \\left[\\begin{matrix}1 & 0 & 0 & 0 & -1 & -1 & 0\\\\0 & 1 & 0 & -1 & d_{1} - 1 & 2 d_{1} - 1 & d_{1}\\\\0 & 0 & 1 & 0 & -1 & -2 & -1\\end{matrix}\\right]$"
      ],
      "text/plain": [
       "Matrix([\n",
       "[1, 0, 0,  0,     -1,       -1,  0],\n",
       "[0, 1, 0, -1, d1 - 1, 2*d1 - 1, d1],\n",
       "[0, 0, 1,  0,     -1,       -2, -1]])"
      ]
     },
     "metadata": {},
     "output_type": "display_data"
    },
    {
     "data": {
      "text/latex": [
       "$\\displaystyle \\left[\\begin{matrix}1 & 0 & 0 & 0 & -1 & - c_{2} - 1 & 1\\\\0 & 1 & 0 & -1 & -2 & - 2 c_{2} - 1 & 2\\\\0 & 0 & 1 & 1 & 1 & c_{2} & -1\\end{matrix}\\right]$"
      ],
      "text/plain": [
       "Matrix([\n",
       "[1, 0, 0,  0, -1,   -c2 - 1,  1],\n",
       "[0, 1, 0, -1, -2, -2*c2 - 1,  2],\n",
       "[0, 0, 1,  1,  1,        c2, -1]])"
      ]
     },
     "metadata": {},
     "output_type": "display_data"
    },
    {
     "data": {
      "text/latex": [
       "$\\displaystyle \\left[\\begin{matrix}1 & 0 & 0 & 0 & -1 & d_{0} - 1 & d_{0}\\\\0 & 1 & 0 & -1 & -1 & d_{1} - 1 & d_{1}\\\\0 & 0 & 1 & 1 & 0 & -1 & -1\\end{matrix}\\right]$"
      ],
      "text/plain": [
       "Matrix([\n",
       "[1, 0, 0,  0, -1, d0 - 1, d0],\n",
       "[0, 1, 0, -1, -1, d1 - 1, d1],\n",
       "[0, 0, 1,  1,  0,     -1, -1]])"
      ]
     },
     "metadata": {},
     "output_type": "display_data"
    },
    {
     "data": {
      "text/latex": [
       "$\\displaystyle \\left[\\begin{matrix}1 & 0 & 0 & 0 & -1 & 0 & 1\\\\0 & 1 & 0 & -1 & b_{1} & 1 & 2\\\\0 & 0 & 1 & 1 & - b_{1} - 1 & -1 & -1\\end{matrix}\\right]$"
      ],
      "text/plain": [
       "Matrix([\n",
       "[1, 0, 0,  0,      -1,  0,  1],\n",
       "[0, 1, 0, -1,      b1,  1,  2],\n",
       "[0, 0, 1,  1, -b1 - 1, -1, -1]])"
      ]
     },
     "metadata": {},
     "output_type": "display_data"
    },
    {
     "data": {
      "text/latex": [
       "$\\displaystyle \\left[\\begin{matrix}1 & 0 & 0 & 0 & -1 & -1 & 0\\\\0 & 1 & 0 & -1 & - c_{2} - 2 & - c_{2} - 1 & 1\\\\0 & 0 & 1 & 1 & c_{2} + 1 & c_{2} & -1\\end{matrix}\\right]$"
      ],
      "text/plain": [
       "Matrix([\n",
       "[1, 0, 0,  0,      -1,      -1,  0],\n",
       "[0, 1, 0, -1, -c2 - 2, -c2 - 1,  1],\n",
       "[0, 0, 1,  1,  c2 + 1,      c2, -1]])"
      ]
     },
     "metadata": {},
     "output_type": "display_data"
    },
    {
     "data": {
      "text/latex": [
       "$\\displaystyle \\left[\\begin{matrix}1 & 0 & 0 & 0 & -1 & -1 & 0\\\\0 & 1 & 0 & -1 & -1 & -1 & 0\\\\0 & 0 & 1 & c_{2} + 2 & c_{2} + 1 & c_{2} & -1\\end{matrix}\\right]$"
      ],
      "text/plain": [
       "Matrix([\n",
       "[1, 0, 0,      0,     -1, -1,  0],\n",
       "[0, 1, 0,     -1,     -1, -1,  0],\n",
       "[0, 0, 1, c2 + 2, c2 + 1, c2, -1]])"
      ]
     },
     "metadata": {},
     "output_type": "display_data"
    },
    {
     "data": {
      "text/latex": [
       "$\\displaystyle \\left[\\begin{matrix}1 & 0 & 0 & 0 & -1 & - c_{2} - 1 & 1\\\\0 & 1 & 0 & -1 & -1 & - c_{2} - 1 & 1\\\\0 & 0 & 1 & 2 & 1 & c_{2} & -1\\end{matrix}\\right]$"
      ],
      "text/plain": [
       "Matrix([\n",
       "[1, 0, 0,  0, -1, -c2 - 1,  1],\n",
       "[0, 1, 0, -1, -1, -c2 - 1,  1],\n",
       "[0, 0, 1,  2,  1,      c2, -1]])"
      ]
     },
     "metadata": {},
     "output_type": "display_data"
    },
    {
     "data": {
      "text/latex": [
       "$\\displaystyle \\left[\\begin{matrix}1 & 0 & 0 & 0 & -1 & 0 & 1\\\\0 & 1 & 0 & -1 & -1 & 0 & 1\\\\0 & 0 & 1 & a_{2} & a_{2} - 1 & -1 & -1\\end{matrix}\\right]$"
      ],
      "text/plain": [
       "Matrix([\n",
       "[1, 0, 0,  0,     -1,  0,  1],\n",
       "[0, 1, 0, -1,     -1,  0,  1],\n",
       "[0, 0, 1, a2, a2 - 1, -1, -1]])"
      ]
     },
     "metadata": {},
     "output_type": "display_data"
    }
   ],
   "source": [
    "for f in fans_link:\n",
    "    display(f)"
   ]
  },
  {
   "cell_type": "markdown",
   "id": "51b31318-e902-4751-a3e1-f31c28c2b7b9",
   "metadata": {
    "jp-MarkdownHeadingCollapsed": true
   },
   "source": [
    "# Type 0 of the projection"
   ]
  },
  {
   "cell_type": "code",
   "execution_count": 10,
   "id": "b8e96e6c-1a75-4756-8a28-e77ccdf1bb8f",
   "metadata": {},
   "outputs": [],
   "source": [
    "C1 = copy.deepcopy(C0)\n",
    "C = C1\n",
    "t=0"
   ]
  },
  {
   "cell_type": "code",
   "execution_count": 11,
   "id": "9354a72b-7a59-471a-8f2b-b887df995273",
   "metadata": {},
   "outputs": [
    {
     "data": {
      "text/latex": [
       "$\\displaystyle \\left[\\begin{matrix}1 & 0 & 0 & a_{0} & -1 & c_{0} & d_{0}\\\\0 & 1 & 0 & -1 & b_{1} & c_{1} & d_{1}\\\\0 & 0 & 1 & a_{2} & b_{2} & c_{2} & -1\\end{matrix}\\right] = \\left[\\begin{matrix}1 & 0 & 0 & a_{0} & -1 & 0 & 1\\\\0 & 1 & 0 & -1 & 0 & 1 & 2\\\\0 & 0 & 1 & a_{2} & -1 & -1 & -1\\end{matrix}\\right]$"
      ],
      "text/plain": [
       "Eq(Matrix([\n",
       "[1, 0, 0, a0, -1, c0, d0],\n",
       "[0, 1, 0, -1, b1, c1, d1],\n",
       "[0, 0, 1, a2, b2, c2, -1]]), Matrix([\n",
       "[1, 0, 0, a0, -1,  0,  1],\n",
       "[0, 1, 0, -1,  0,  1,  2],\n",
       "[0, 0, 1, a2, -1, -1, -1]]))"
      ]
     },
     "metadata": {},
     "output_type": "display_data"
    },
    {
     "data": {
      "text/latex": [
       "$\\displaystyle \\text{True}$"
      ],
      "text/plain": [
       "True"
      ]
     },
     "metadata": {},
     "output_type": "display_data"
    }
   ],
   "source": [
    "proj = C.proj([4])\n",
    "with sp.evaluate(False):\n",
    "    display(sp.Eq(proj, fans_link[t]))\n",
    "\n",
    "C.subs(b1, 0)\n",
    "C.subs(b2, -1)\n",
    "C.subs(c0, 0)\n",
    "C.subs(c1, 1)\n",
    "C.subs(c2, -1)\n",
    "C.subs(d0, 1)\n",
    "C.subs(d1, 2)\n",
    "\n",
    "display(sp.Eq(C.proj([4]), fans_link[t]))"
   ]
  },
  {
   "cell_type": "code",
   "execution_count": 12,
   "id": "1e844470-b32f-48de-b42d-c9860ea69bc1",
   "metadata": {},
   "outputs": [
    {
     "name": "stdout",
     "output_type": "stream",
     "text": [
      "facet number: 11\n"
     ]
    },
    {
     "data": {
      "text/latex": [
       "$\\displaystyle - c_{3} = 1$"
      ],
      "text/plain": [
       "Eq(-c3, 1)"
      ]
     },
     "metadata": {},
     "output_type": "display_data"
    }
   ],
   "source": [
    "i=11\n",
    "print('facet number:', i)\n",
    "display(sp.Eq(C.determinants[i], C.orientation[i]))\n",
    "\n",
    "C.subs(c3, -1)"
   ]
  },
  {
   "cell_type": "code",
   "execution_count": 13,
   "id": "08d19811-866c-4756-ae8b-49d833bf3e5c",
   "metadata": {},
   "outputs": [
    {
     "name": "stdout",
     "output_type": "stream",
     "text": [
      "facet number: 4\n"
     ]
    },
    {
     "data": {
      "text/latex": [
       "$\\displaystyle a_{3} - 1 = -1$"
      ],
      "text/plain": [
       "Eq(a3 - 1, -1)"
      ]
     },
     "metadata": {},
     "output_type": "display_data"
    }
   ],
   "source": [
    "i=4\n",
    "print('facet number:', i)\n",
    "display(sp.Eq(C.determinants[i], C.orientation[i]))\n",
    "\n",
    "C.subs(a3, 0)"
   ]
  },
  {
   "cell_type": "code",
   "execution_count": 14,
   "id": "c41b3277-cb5e-497f-b8c6-468fb703e1a3",
   "metadata": {},
   "outputs": [
    {
     "name": "stdout",
     "output_type": "stream",
     "text": [
      "facet number: 16\n"
     ]
    },
    {
     "data": {
      "text/latex": [
       "$\\displaystyle - a_{0} b_{3} + 1 = 1$"
      ],
      "text/plain": [
       "Eq(-a0*b3 + 1, 1)"
      ]
     },
     "metadata": {},
     "output_type": "display_data"
    }
   ],
   "source": [
    "i=16\n",
    "print('facet number:', i)\n",
    "display(sp.Eq(C.determinants[i], C.orientation[i]))"
   ]
  },
  {
   "cell_type": "markdown",
   "id": "8722c04d-b814-4328-8f32-73838f981808",
   "metadata": {
    "jp-MarkdownHeadingCollapsed": true
   },
   "source": [
    "## $b_3=0$"
   ]
  },
  {
   "cell_type": "code",
   "execution_count": 15,
   "id": "5f357255-5762-4e23-b21e-37858b454ecc",
   "metadata": {},
   "outputs": [],
   "source": [
    "C2 = copy.deepcopy(C1)\n",
    "C = C2\n",
    "C.subs(b3, 0)"
   ]
  },
  {
   "cell_type": "code",
   "execution_count": 16,
   "id": "caf79858-034e-4564-bab4-e84e4aca7f85",
   "metadata": {},
   "outputs": [
    {
     "data": {
      "text/latex": [
       "$\\displaystyle \\left[\\begin{matrix}1 & 0 & 0 & 0 & a_{0} & -1 & 0 & 1\\\\0 & 1 & 0 & 0 & -1 & 0 & 1 & 2\\\\0 & 0 & 1 & 0 & a_{2} & -1 & -1 & -1\\\\0 & 0 & 0 & 1 & 0 & 0 & -1 & -1\\end{matrix}\\right]$"
      ],
      "text/plain": [
       "Matrix([\n",
       "[1, 0, 0, 0, a0, -1,  0,  1],\n",
       "[0, 1, 0, 0, -1,  0,  1,  2],\n",
       "[0, 0, 1, 0, a2, -1, -1, -1],\n",
       "[0, 0, 0, 1,  0,  0, -1, -1]])"
      ]
     },
     "metadata": {},
     "output_type": "display_data"
    },
    {
     "name": "stdout",
     "output_type": "stream",
     "text": [
      "1\n"
     ]
    }
   ],
   "source": [
    "display(C.char)\n",
    "print(C.is_fangiving)\n",
    "fans.append(C.char)"
   ]
  },
  {
   "cell_type": "markdown",
   "id": "5bf1e7d3-a2c6-4f8a-bbb4-82e0e0ed2e20",
   "metadata": {
    "jp-MarkdownHeadingCollapsed": true
   },
   "source": [
    "## $a_0=0$ ($b_3 \\not= 0$)"
   ]
  },
  {
   "cell_type": "code",
   "execution_count": 17,
   "id": "8540ab2f-58b4-4d49-993a-8a352480920f",
   "metadata": {},
   "outputs": [],
   "source": [
    "C2 = copy.deepcopy(C1)\n",
    "C = C2\n",
    "C.subs(a0, 0)"
   ]
  },
  {
   "cell_type": "code",
   "execution_count": 18,
   "id": "e21cb177-bd3e-4227-9223-ecff63252f4b",
   "metadata": {},
   "outputs": [
    {
     "name": "stdout",
     "output_type": "stream",
     "text": [
      "facet number: 9\n"
     ]
    },
    {
     "data": {
      "text/latex": [
       "$\\displaystyle a_{2} b_{3} - b_{3} - 1 = -1$"
      ],
      "text/plain": [
       "Eq(a2*b3 - b3 - 1, -1)"
      ]
     },
     "metadata": {},
     "output_type": "display_data"
    }
   ],
   "source": [
    "i=9\n",
    "print('facet number:', i)\n",
    "display(sp.Eq(C.determinants[i], C.orientation[i]))\n",
    "\n",
    "C.subs(a2, 1)"
   ]
  },
  {
   "cell_type": "code",
   "execution_count": 19,
   "id": "6e263bc4-a308-4a75-9385-79d95d277d06",
   "metadata": {},
   "outputs": [
    {
     "data": {
      "text/latex": [
       "$\\displaystyle \\left[\\begin{matrix}1 & 0 & 0 & 0 & 0 & -1 & 0 & 1\\\\0 & 1 & 0 & 0 & -1 & 0 & 1 & 2\\\\0 & 0 & 1 & 0 & 1 & -1 & -1 & -1\\\\0 & 0 & 0 & 1 & 0 & b_{3} & -1 & -1\\end{matrix}\\right]$"
      ],
      "text/plain": [
       "Matrix([\n",
       "[1, 0, 0, 0,  0, -1,  0,  1],\n",
       "[0, 1, 0, 0, -1,  0,  1,  2],\n",
       "[0, 0, 1, 0,  1, -1, -1, -1],\n",
       "[0, 0, 0, 1,  0, b3, -1, -1]])"
      ]
     },
     "metadata": {},
     "output_type": "display_data"
    },
    {
     "name": "stdout",
     "output_type": "stream",
     "text": [
      "1\n"
     ]
    }
   ],
   "source": [
    "display(C.char)\n",
    "print(C.is_fangiving)\n",
    "fans.append(C.char)"
   ]
  },
  {
   "cell_type": "markdown",
   "id": "be5cccb3-d37d-42f9-80cb-7a9ef647a13c",
   "metadata": {
    "jp-MarkdownHeadingCollapsed": true
   },
   "source": [
    "# Type 1 of the projection"
   ]
  },
  {
   "cell_type": "code",
   "execution_count": 20,
   "id": "770dfbea-93ef-45dc-a340-33761e5bc975",
   "metadata": {},
   "outputs": [],
   "source": [
    "C1 = copy.deepcopy(C0)\n",
    "C = C1\n",
    "t=1"
   ]
  },
  {
   "cell_type": "code",
   "execution_count": 21,
   "id": "cb38053a-25ca-465b-b7d1-f8fc17e76098",
   "metadata": {},
   "outputs": [
    {
     "data": {
      "text/latex": [
       "$\\displaystyle \\left[\\begin{matrix}1 & 0 & 0 & a_{0} & -1 & c_{0} & d_{0}\\\\0 & 1 & 0 & -1 & b_{1} & c_{1} & d_{1}\\\\0 & 0 & 1 & a_{2} & b_{2} & c_{2} & -1\\end{matrix}\\right] = \\left[\\begin{matrix}1 & 0 & 0 & a_{0} & -1 & -1 & 0\\\\0 & 1 & 0 & -1 & 0 & 1 & 1\\\\0 & 0 & 1 & a_{2} & -1 & -2 & -1\\end{matrix}\\right]$"
      ],
      "text/plain": [
       "Eq(Matrix([\n",
       "[1, 0, 0, a0, -1, c0, d0],\n",
       "[0, 1, 0, -1, b1, c1, d1],\n",
       "[0, 0, 1, a2, b2, c2, -1]]), Matrix([\n",
       "[1, 0, 0, a0, -1, -1,  0],\n",
       "[0, 1, 0, -1,  0,  1,  1],\n",
       "[0, 0, 1, a2, -1, -2, -1]]))"
      ]
     },
     "metadata": {},
     "output_type": "display_data"
    },
    {
     "data": {
      "text/latex": [
       "$\\displaystyle \\text{True}$"
      ],
      "text/plain": [
       "True"
      ]
     },
     "metadata": {},
     "output_type": "display_data"
    }
   ],
   "source": [
    "proj = C.proj([4])\n",
    "with sp.evaluate(False):\n",
    "    display(sp.Eq(proj, fans_link[t]))\n",
    "\n",
    "C.subs(b1, 0)\n",
    "C.subs(b2, -1)\n",
    "C.subs(c0, -1)\n",
    "C.subs(c1, 1)\n",
    "C.subs(c2, -2)\n",
    "C.subs(d0, 0)\n",
    "C.subs(d1, 1)\n",
    "\n",
    "display(sp.Eq(C.proj([4]), fans_link[t]))"
   ]
  },
  {
   "cell_type": "code",
   "execution_count": 22,
   "id": "468773a9-7d10-42d7-b8d8-6c984ab34934",
   "metadata": {},
   "outputs": [
    {
     "name": "stdout",
     "output_type": "stream",
     "text": [
      "facet number: 5\n"
     ]
    },
    {
     "data": {
      "text/latex": [
       "$\\displaystyle c_{3} + 1 = -1$"
      ],
      "text/plain": [
       "Eq(c3 + 1, -1)"
      ]
     },
     "metadata": {},
     "output_type": "display_data"
    }
   ],
   "source": [
    "i=5\n",
    "print('facet number:', i)\n",
    "display(sp.Eq(C.determinants[i], C.orientation[i]))\n",
    "\n",
    "C.subs(c3, -2)"
   ]
  },
  {
   "cell_type": "code",
   "execution_count": 23,
   "id": "9b2b5bcc-bf10-4109-918e-a038613a9be9",
   "metadata": {},
   "outputs": [
    {
     "name": "stdout",
     "output_type": "stream",
     "text": [
      "facet number: 11\n"
     ]
    },
    {
     "data": {
      "text/latex": [
       "$\\displaystyle b_{3} + 2 = 1$"
      ],
      "text/plain": [
       "Eq(b3 + 2, 1)"
      ]
     },
     "metadata": {},
     "output_type": "display_data"
    }
   ],
   "source": [
    "i=11\n",
    "print('facet number:', i)\n",
    "display(sp.Eq(C.determinants[i], C.orientation[i]))\n",
    "\n",
    "C.subs(b3, -1)"
   ]
  },
  {
   "cell_type": "code",
   "execution_count": 24,
   "id": "0259ac51-b076-42e5-b1cd-2ef5ed1688f4",
   "metadata": {},
   "outputs": [
    {
     "name": "stdout",
     "output_type": "stream",
     "text": [
      "facet number: 4\n"
     ]
    },
    {
     "data": {
      "text/latex": [
       "$\\displaystyle a_{3} - 2 = -1$"
      ],
      "text/plain": [
       "Eq(a3 - 2, -1)"
      ]
     },
     "metadata": {},
     "output_type": "display_data"
    }
   ],
   "source": [
    "i=4\n",
    "print('facet number:', i)\n",
    "display(sp.Eq(C.determinants[i], C.orientation[i]))\n",
    "\n",
    "C.subs(a3, 1)"
   ]
  },
  {
   "cell_type": "code",
   "execution_count": 25,
   "id": "ec1ca023-3021-4223-bc94-827a68afcab2",
   "metadata": {},
   "outputs": [
    {
     "name": "stdout",
     "output_type": "stream",
     "text": [
      "facet number: 9\n"
     ]
    },
    {
     "data": {
      "text/latex": [
       "$\\displaystyle 1 - a_{2} = -1$"
      ],
      "text/plain": [
       "Eq(1 - a2, -1)"
      ]
     },
     "metadata": {},
     "output_type": "display_data"
    }
   ],
   "source": [
    "i=9\n",
    "print('facet number:', i)\n",
    "display(sp.Eq(C.determinants[i], C.orientation[i]))\n",
    "\n",
    "C.subs(a2, 2)"
   ]
  },
  {
   "cell_type": "code",
   "execution_count": 26,
   "id": "a151cabf-98f5-423c-9df5-a1a5978a2dab",
   "metadata": {},
   "outputs": [
    {
     "name": "stdout",
     "output_type": "stream",
     "text": [
      "facet number: 16\n"
     ]
    },
    {
     "data": {
      "text/latex": [
       "$\\displaystyle a_{0} = 1$"
      ],
      "text/plain": [
       "Eq(a0, 1)"
      ]
     },
     "metadata": {},
     "output_type": "display_data"
    }
   ],
   "source": [
    "i=16\n",
    "print('facet number:', i)\n",
    "display(sp.Eq(C.determinants[i], C.orientation[i]))\n",
    "\n",
    "C.subs(a0, 1)"
   ]
  },
  {
   "cell_type": "code",
   "execution_count": 27,
   "id": "d48f418a-100f-4891-8800-7d761e8975d6",
   "metadata": {},
   "outputs": [
    {
     "data": {
      "text/latex": [
       "$\\displaystyle \\left[\\begin{matrix}1 & 0 & 0 & 0 & 1 & -1 & -1 & 0\\\\0 & 1 & 0 & 0 & -1 & 0 & 1 & 1\\\\0 & 0 & 1 & 0 & 2 & -1 & -2 & -1\\\\0 & 0 & 0 & 1 & 1 & -1 & -2 & -1\\end{matrix}\\right]$"
      ],
      "text/plain": [
       "Matrix([\n",
       "[1, 0, 0, 0,  1, -1, -1,  0],\n",
       "[0, 1, 0, 0, -1,  0,  1,  1],\n",
       "[0, 0, 1, 0,  2, -1, -2, -1],\n",
       "[0, 0, 0, 1,  1, -1, -2, -1]])"
      ]
     },
     "metadata": {},
     "output_type": "display_data"
    },
    {
     "name": "stdout",
     "output_type": "stream",
     "text": [
      "1\n"
     ]
    }
   ],
   "source": [
    "display(C.char)\n",
    "print(C.is_fangiving)\n",
    "fans.append(C.char)"
   ]
  },
  {
   "cell_type": "markdown",
   "id": "fa0d947f-1da8-4e8e-9e15-d88aec5f4af0",
   "metadata": {
    "jp-MarkdownHeadingCollapsed": true
   },
   "source": [
    "# Type 2 of the projection"
   ]
  },
  {
   "cell_type": "code",
   "execution_count": 28,
   "id": "b085de42-7855-419a-bfae-1a498ec27b95",
   "metadata": {},
   "outputs": [],
   "source": [
    "C1 = copy.deepcopy(C0)\n",
    "C = C1\n",
    "t=2"
   ]
  },
  {
   "cell_type": "code",
   "execution_count": 29,
   "id": "b8ea4370-5496-491c-8616-6515e90a8b2f",
   "metadata": {},
   "outputs": [
    {
     "data": {
      "text/latex": [
       "$\\displaystyle \\left[\\begin{matrix}1 & 0 & 0 & a_{0} & -1 & c_{0} & d_{0}\\\\0 & 1 & 0 & -1 & b_{1} & c_{1} & d_{1}\\\\0 & 0 & 1 & a_{2} & b_{2} & c_{2} & -1\\end{matrix}\\right] = \\left[\\begin{matrix}1 & 0 & 0 & 0 & -1 & -1 & d_{0}\\\\0 & 1 & 0 & -1 & -2 & -1 & d_{1}\\\\0 & 0 & 1 & 1 & 1 & 0 & -1\\end{matrix}\\right]$"
      ],
      "text/plain": [
       "Eq(Matrix([\n",
       "[1, 0, 0, a0, -1, c0, d0],\n",
       "[0, 1, 0, -1, b1, c1, d1],\n",
       "[0, 0, 1, a2, b2, c2, -1]]), Matrix([\n",
       "[1, 0, 0,  0, -1, -1, d0],\n",
       "[0, 1, 0, -1, -2, -1, d1],\n",
       "[0, 0, 1,  1,  1,  0, -1]]))"
      ]
     },
     "metadata": {},
     "output_type": "display_data"
    },
    {
     "data": {
      "text/latex": [
       "$\\displaystyle \\text{True}$"
      ],
      "text/plain": [
       "True"
      ]
     },
     "metadata": {},
     "output_type": "display_data"
    }
   ],
   "source": [
    "proj = C.proj([4])\n",
    "with sp.evaluate(False):\n",
    "    display(sp.Eq(proj, fans_link[t]))\n",
    "\n",
    "C.subs(a0, 0)\n",
    "C.subs(a2, 1)\n",
    "C.subs(b1, -2)\n",
    "C.subs(b2, 1)\n",
    "C.subs(c0, -1)\n",
    "C.subs(c1, -1)\n",
    "C.subs(c2, 0)\n",
    "\n",
    "display(sp.Eq(C.proj([4]), fans_link[t]))"
   ]
  },
  {
   "cell_type": "code",
   "execution_count": 30,
   "id": "53656aac-e8cf-4b04-8112-683ebc900fad",
   "metadata": {},
   "outputs": [
    {
     "name": "stdout",
     "output_type": "stream",
     "text": [
      "facet number: 11\n"
     ]
    },
    {
     "data": {
      "text/latex": [
       "$\\displaystyle b_{3} - c_{3} = 1$"
      ],
      "text/plain": [
       "Eq(b3 - c3, 1)"
      ]
     },
     "metadata": {},
     "output_type": "display_data"
    }
   ],
   "source": [
    "i=11\n",
    "print('facet number:', i)\n",
    "display(sp.Eq(C.determinants[i], C.orientation[i]))\n",
    "\n",
    "C.subs(b3, c3+1)"
   ]
  },
  {
   "cell_type": "code",
   "execution_count": 31,
   "id": "959c9388-19c9-41bd-a1ed-22f32fb81d09",
   "metadata": {},
   "outputs": [
    {
     "name": "stdout",
     "output_type": "stream",
     "text": [
      "facet number: 9\n"
     ]
    },
    {
     "data": {
      "text/latex": [
       "$\\displaystyle a_{3} - 1 = -1$"
      ],
      "text/plain": [
       "Eq(a3 - 1, -1)"
      ]
     },
     "metadata": {},
     "output_type": "display_data"
    }
   ],
   "source": [
    "i=9\n",
    "print('facet number:', i)\n",
    "display(sp.Eq(C.determinants[i], C.orientation[i]))\n",
    "\n",
    "C.subs(a3, 0)"
   ]
  },
  {
   "cell_type": "code",
   "execution_count": 32,
   "id": "c7e80fc2-ae6a-4004-a711-90f02c3251c6",
   "metadata": {},
   "outputs": [
    {
     "name": "stdout",
     "output_type": "stream",
     "text": [
      "facet number: 4\n"
     ]
    },
    {
     "data": {
      "text/latex": [
       "$\\displaystyle c_{3} = -1$"
      ],
      "text/plain": [
       "Eq(c3, -1)"
      ]
     },
     "metadata": {},
     "output_type": "display_data"
    }
   ],
   "source": [
    "i=4\n",
    "print('facet number:', i)\n",
    "display(sp.Eq(C.determinants[i], C.orientation[i]))\n",
    "\n",
    "C.subs(c3, -1)"
   ]
  },
  {
   "cell_type": "code",
   "execution_count": 33,
   "id": "dbffeb95-4880-4b83-b494-d53c186f4065",
   "metadata": {},
   "outputs": [
    {
     "name": "stdout",
     "output_type": "stream",
     "text": [
      "facet number: 5\n"
     ]
    },
    {
     "data": {
      "text/latex": [
       "$\\displaystyle - d_{1} - 1 = -1$"
      ],
      "text/plain": [
       "Eq(-d1 - 1, -1)"
      ]
     },
     "metadata": {},
     "output_type": "display_data"
    }
   ],
   "source": [
    "i=5\n",
    "print('facet number:', i)\n",
    "display(sp.Eq(C.determinants[i], C.orientation[i]))\n",
    "\n",
    "C.subs(d1, 0)"
   ]
  },
  {
   "cell_type": "code",
   "execution_count": 34,
   "id": "7faa108b-11c1-4264-9966-63775bb2551f",
   "metadata": {},
   "outputs": [
    {
     "name": "stdout",
     "output_type": "stream",
     "text": [
      "facet number: 12\n"
     ]
    },
    {
     "data": {
      "text/latex": [
       "$\\displaystyle d_{0} + 1 = 1$"
      ],
      "text/plain": [
       "Eq(d0 + 1, 1)"
      ]
     },
     "metadata": {},
     "output_type": "display_data"
    }
   ],
   "source": [
    "i=12\n",
    "print('facet number:', i)\n",
    "display(sp.Eq(C.determinants[i], C.orientation[i]))\n",
    "\n",
    "C.subs(d0, 0)"
   ]
  },
  {
   "cell_type": "code",
   "execution_count": 35,
   "id": "99a225fb-eac7-48b1-abf0-d81f5c9aaca6",
   "metadata": {},
   "outputs": [
    {
     "data": {
      "text/latex": [
       "$\\displaystyle \\left[\\begin{matrix}1 & 0 & 0 & 0 & 0 & -1 & -1 & 0\\\\0 & 1 & 0 & 0 & -1 & -2 & -1 & 0\\\\0 & 0 & 1 & 0 & 1 & 1 & 0 & -1\\\\0 & 0 & 0 & 1 & 0 & 0 & -1 & -1\\end{matrix}\\right]$"
      ],
      "text/plain": [
       "Matrix([\n",
       "[1, 0, 0, 0,  0, -1, -1,  0],\n",
       "[0, 1, 0, 0, -1, -2, -1,  0],\n",
       "[0, 0, 1, 0,  1,  1,  0, -1],\n",
       "[0, 0, 0, 1,  0,  0, -1, -1]])"
      ]
     },
     "metadata": {},
     "output_type": "display_data"
    },
    {
     "name": "stdout",
     "output_type": "stream",
     "text": [
      "1\n"
     ]
    }
   ],
   "source": [
    "display(C.char)\n",
    "print(C.is_fangiving)\n",
    "fans.append(C.char)"
   ]
  },
  {
   "cell_type": "markdown",
   "id": "f666a2b7-07f0-4750-8cb6-01a6a3d75496",
   "metadata": {
    "jp-MarkdownHeadingCollapsed": true
   },
   "source": [
    "# Type 3 of the projection"
   ]
  },
  {
   "cell_type": "code",
   "execution_count": 36,
   "id": "d94b7ecd-1bdb-451a-950e-37c72e4fa372",
   "metadata": {},
   "outputs": [],
   "source": [
    "C1 = copy.deepcopy(C0)\n",
    "C = C1\n",
    "t=3"
   ]
  },
  {
   "cell_type": "code",
   "execution_count": 37,
   "id": "01b34dcb-8da8-4f92-a2fe-39bd38b521c3",
   "metadata": {},
   "outputs": [
    {
     "data": {
      "text/latex": [
       "$\\displaystyle \\left[\\begin{matrix}1 & 0 & 0 & a_{0} & -1 & c_{0} & d_{0}\\\\0 & 1 & 0 & -1 & b_{1} & c_{1} & d_{1}\\\\0 & 0 & 1 & a_{2} & b_{2} & c_{2} & -1\\end{matrix}\\right] = \\left[\\begin{matrix}1 & 0 & 0 & 0 & -1 & -1 & d_{0}\\\\0 & 1 & 0 & -1 & -1 & -1 & d_{1}\\\\0 & 0 & 1 & 2 & 1 & 0 & -1\\end{matrix}\\right]$"
      ],
      "text/plain": [
       "Eq(Matrix([\n",
       "[1, 0, 0, a0, -1, c0, d0],\n",
       "[0, 1, 0, -1, b1, c1, d1],\n",
       "[0, 0, 1, a2, b2, c2, -1]]), Matrix([\n",
       "[1, 0, 0,  0, -1, -1, d0],\n",
       "[0, 1, 0, -1, -1, -1, d1],\n",
       "[0, 0, 1,  2,  1,  0, -1]]))"
      ]
     },
     "metadata": {},
     "output_type": "display_data"
    },
    {
     "data": {
      "text/latex": [
       "$\\displaystyle \\text{True}$"
      ],
      "text/plain": [
       "True"
      ]
     },
     "metadata": {},
     "output_type": "display_data"
    }
   ],
   "source": [
    "proj = C.proj([4])\n",
    "with sp.evaluate(False):\n",
    "    display(sp.Eq(proj, fans_link[t]))\n",
    "\n",
    "C.subs(a0, 0)\n",
    "C.subs(a2, 2)\n",
    "C.subs(b1, -1)\n",
    "C.subs(b2, 1)\n",
    "C.subs(c0, -1)\n",
    "C.subs(c1, -1)\n",
    "C.subs(c2, 0)\n",
    "\n",
    "display(sp.Eq(C.proj([4]), fans_link[t]))"
   ]
  },
  {
   "cell_type": "code",
   "execution_count": 38,
   "id": "0f703f17-7de9-48e7-b9bc-656b34792cd3",
   "metadata": {},
   "outputs": [
    {
     "name": "stdout",
     "output_type": "stream",
     "text": [
      "facet number: 11\n"
     ]
    },
    {
     "data": {
      "text/latex": [
       "$\\displaystyle b_{3} - c_{3} = 1$"
      ],
      "text/plain": [
       "Eq(b3 - c3, 1)"
      ]
     },
     "metadata": {},
     "output_type": "display_data"
    }
   ],
   "source": [
    "i=11\n",
    "print('facet number:', i)\n",
    "display(sp.Eq(C.determinants[i], C.orientation[i]))\n",
    "\n",
    "C.subs(b3, c3+1)"
   ]
  },
  {
   "cell_type": "code",
   "execution_count": 39,
   "id": "ad2bc3ab-c67f-43d2-8815-7ff7ac15ca46",
   "metadata": {},
   "outputs": [
    {
     "name": "stdout",
     "output_type": "stream",
     "text": [
      "facet number: 4\n"
     ]
    },
    {
     "data": {
      "text/latex": [
       "$\\displaystyle - a_{3} + c_{3} = -1$"
      ],
      "text/plain": [
       "Eq(-a3 + c3, -1)"
      ]
     },
     "metadata": {},
     "output_type": "display_data"
    }
   ],
   "source": [
    "i=4\n",
    "print('facet number:', i)\n",
    "display(sp.Eq(C.determinants[i], C.orientation[i]))\n",
    "\n",
    "C.subs(a3, c3+1)"
   ]
  },
  {
   "cell_type": "code",
   "execution_count": 40,
   "id": "0cc95556-c092-4a3f-88be-c2e116d75f25",
   "metadata": {},
   "outputs": [
    {
     "name": "stdout",
     "output_type": "stream",
     "text": [
      "facet number: 5\n"
     ]
    },
    {
     "data": {
      "text/latex": [
       "$\\displaystyle c_{3} d_{1} - 1 = -1$"
      ],
      "text/plain": [
       "Eq(c3*d1 - 1, -1)"
      ]
     },
     "metadata": {},
     "output_type": "display_data"
    }
   ],
   "source": [
    "i=5\n",
    "print('facet number:', i)\n",
    "display(sp.Eq(C.determinants[i], C.orientation[i]))"
   ]
  },
  {
   "cell_type": "markdown",
   "id": "e83375b2-9480-4b05-a432-251eb5c910c7",
   "metadata": {
    "jp-MarkdownHeadingCollapsed": true
   },
   "source": [
    "## $c_3=0$"
   ]
  },
  {
   "cell_type": "code",
   "execution_count": 41,
   "id": "4530ca31-1c1c-451e-867b-edd3199fcf87",
   "metadata": {},
   "outputs": [],
   "source": [
    "C2 = copy.deepcopy(C1)\n",
    "C = C2\n",
    "C.subs(c3, 0)"
   ]
  },
  {
   "cell_type": "code",
   "execution_count": 42,
   "id": "a62ab506-ad9e-437d-ba3c-e7778648588b",
   "metadata": {},
   "outputs": [
    {
     "data": {
      "text/latex": [
       "$\\displaystyle \\left[\\begin{matrix}1 & 0 & 0 & 0 & 0 & -1 & -1 & d_{0}\\\\0 & 1 & 0 & 0 & -1 & -1 & -1 & d_{1}\\\\0 & 0 & 1 & 0 & 2 & 1 & 0 & -1\\\\0 & 0 & 0 & 1 & 1 & 1 & 0 & -1\\end{matrix}\\right]$"
      ],
      "text/plain": [
       "Matrix([\n",
       "[1, 0, 0, 0,  0, -1, -1, d0],\n",
       "[0, 1, 0, 0, -1, -1, -1, d1],\n",
       "[0, 0, 1, 0,  2,  1,  0, -1],\n",
       "[0, 0, 0, 1,  1,  1,  0, -1]])"
      ]
     },
     "metadata": {},
     "output_type": "display_data"
    },
    {
     "name": "stdout",
     "output_type": "stream",
     "text": [
      "1\n"
     ]
    }
   ],
   "source": [
    "display(C.char)\n",
    "print(C.is_fangiving)\n",
    "fans.append(C.char)"
   ]
  },
  {
   "cell_type": "markdown",
   "id": "ad1d4874-ca73-4e4d-b899-5b478c21f737",
   "metadata": {
    "jp-MarkdownHeadingCollapsed": true
   },
   "source": [
    "## $d_1=0$ ($c_3 \\not= 0$)"
   ]
  },
  {
   "cell_type": "code",
   "execution_count": 43,
   "id": "50bf49f2-f959-4b63-b8d9-584d68450002",
   "metadata": {},
   "outputs": [],
   "source": [
    "C2 = copy.deepcopy(C1)\n",
    "C = C2\n",
    "C.subs(d1, 0)"
   ]
  },
  {
   "cell_type": "code",
   "execution_count": 44,
   "id": "66084e30-805a-4a56-b976-38a6168c131a",
   "metadata": {},
   "outputs": [
    {
     "name": "stdout",
     "output_type": "stream",
     "text": [
      "facet number: 12\n"
     ]
    },
    {
     "data": {
      "text/latex": [
       "$\\displaystyle - c_{3} d_{0} + 1 = 1$"
      ],
      "text/plain": [
       "Eq(-c3*d0 + 1, 1)"
      ]
     },
     "metadata": {},
     "output_type": "display_data"
    }
   ],
   "source": [
    "i=12\n",
    "print('facet number:', i)\n",
    "display(sp.Eq(C.determinants[i], C.orientation[i]))\n",
    "\n",
    "C.subs(d0, 0)"
   ]
  },
  {
   "cell_type": "code",
   "execution_count": 45,
   "id": "8f97cd7d-17fb-48c6-bfe2-e873469d596b",
   "metadata": {},
   "outputs": [
    {
     "data": {
      "text/latex": [
       "$\\displaystyle \\left[\\begin{matrix}1 & 0 & 0 & 0 & 0 & -1 & -1 & 0\\\\0 & 1 & 0 & 0 & -1 & -1 & -1 & 0\\\\0 & 0 & 1 & 0 & 2 & 1 & 0 & -1\\\\0 & 0 & 0 & 1 & c_{3} + 1 & c_{3} + 1 & c_{3} & -1\\end{matrix}\\right]$"
      ],
      "text/plain": [
       "Matrix([\n",
       "[1, 0, 0, 0,      0,     -1, -1,  0],\n",
       "[0, 1, 0, 0,     -1,     -1, -1,  0],\n",
       "[0, 0, 1, 0,      2,      1,  0, -1],\n",
       "[0, 0, 0, 1, c3 + 1, c3 + 1, c3, -1]])"
      ]
     },
     "metadata": {},
     "output_type": "display_data"
    },
    {
     "name": "stdout",
     "output_type": "stream",
     "text": [
      "1\n"
     ]
    }
   ],
   "source": [
    "display(C.char)\n",
    "print(C.is_fangiving)\n",
    "fans.append(C.char)"
   ]
  },
  {
   "cell_type": "markdown",
   "id": "9d8bd48b-9547-4da8-988e-9af22b0381b8",
   "metadata": {
    "jp-MarkdownHeadingCollapsed": true
   },
   "source": [
    "# Type 4 of the projection"
   ]
  },
  {
   "cell_type": "code",
   "execution_count": 46,
   "id": "f5bf8f97-2c6b-4a83-a82c-aaff8877588c",
   "metadata": {},
   "outputs": [],
   "source": [
    "C1 = copy.deepcopy(C0)\n",
    "C = C1\n",
    "t=4"
   ]
  },
  {
   "cell_type": "code",
   "execution_count": 47,
   "id": "c46bb6bc-51b5-46ad-b546-a8b243d96db0",
   "metadata": {},
   "outputs": [
    {
     "data": {
      "text/latex": [
       "$\\displaystyle \\left[\\begin{matrix}1 & 0 & 0 & a_{0} & -1 & c_{0} & d_{0}\\\\0 & 1 & 0 & -1 & b_{1} & c_{1} & d_{1}\\\\0 & 0 & 1 & a_{2} & b_{2} & c_{2} & -1\\end{matrix}\\right] = \\left[\\begin{matrix}1 & 0 & 0 & 0 & -1 & 0 & 1\\\\0 & 1 & 0 & -1 & d_{1} - 2 & d_{1} - 1 & d_{1}\\\\0 & 0 & 1 & 0 & -1 & -1 & -1\\end{matrix}\\right]$"
      ],
      "text/plain": [
       "Eq(Matrix([\n",
       "[1, 0, 0, a0, -1, c0, d0],\n",
       "[0, 1, 0, -1, b1, c1, d1],\n",
       "[0, 0, 1, a2, b2, c2, -1]]), Matrix([\n",
       "[1, 0, 0,  0,     -1,      0,  1],\n",
       "[0, 1, 0, -1, d1 - 2, d1 - 1, d1],\n",
       "[0, 0, 1,  0,     -1,     -1, -1]]))"
      ]
     },
     "metadata": {},
     "output_type": "display_data"
    },
    {
     "data": {
      "text/latex": [
       "$\\displaystyle \\text{True}$"
      ],
      "text/plain": [
       "True"
      ]
     },
     "metadata": {},
     "output_type": "display_data"
    }
   ],
   "source": [
    "proj = C.proj([4])\n",
    "with sp.evaluate(False):\n",
    "    display(sp.Eq(proj, fans_link[t]))\n",
    "\n",
    "C.subs(a0, 0)\n",
    "C.subs(a2, 0)\n",
    "C.subs(b1, d1-2)\n",
    "C.subs(b2, -1)\n",
    "C.subs(c0, 0)\n",
    "C.subs(c1, d1-1)\n",
    "C.subs(c2, -1)\n",
    "C.subs(d0, 1)\n",
    "\n",
    "display(sp.Eq(C.proj([4]), fans_link[t]))"
   ]
  },
  {
   "cell_type": "code",
   "execution_count": 48,
   "id": "49aa72c3-f516-4aca-adc9-2b947ddbb5ad",
   "metadata": {},
   "outputs": [
    {
     "name": "stdout",
     "output_type": "stream",
     "text": [
      "facet number: 11\n"
     ]
    },
    {
     "data": {
      "text/latex": [
       "$\\displaystyle - c_{3} = 1$"
      ],
      "text/plain": [
       "Eq(-c3, 1)"
      ]
     },
     "metadata": {},
     "output_type": "display_data"
    }
   ],
   "source": [
    "i=11\n",
    "print('facet number:', i)\n",
    "display(sp.Eq(C.determinants[i], C.orientation[i]))\n",
    "\n",
    "C.subs(c3, -1)"
   ]
  },
  {
   "cell_type": "code",
   "execution_count": 49,
   "id": "9ccfa8a3-eccc-4908-9d6e-dfb8dfac4166",
   "metadata": {},
   "outputs": [
    {
     "name": "stdout",
     "output_type": "stream",
     "text": [
      "facet number: 9\n"
     ]
    },
    {
     "data": {
      "text/latex": [
       "$\\displaystyle a_{3} - b_{3} - 1 = -1$"
      ],
      "text/plain": [
       "Eq(a3 - b3 - 1, -1)"
      ]
     },
     "metadata": {},
     "output_type": "display_data"
    }
   ],
   "source": [
    "i=9\n",
    "print('facet number:', i)\n",
    "display(sp.Eq(C.determinants[i], C.orientation[i]))\n",
    "\n",
    "C.subs(a3, b3)"
   ]
  },
  {
   "cell_type": "code",
   "execution_count": 50,
   "id": "b6c1a4b0-ecab-492e-a325-649220afdc29",
   "metadata": {},
   "outputs": [
    {
     "name": "stdout",
     "output_type": "stream",
     "text": [
      "facet number: 4\n"
     ]
    },
    {
     "data": {
      "text/latex": [
       "$\\displaystyle b_{3} d_{1} - b_{3} - 1 = -1$"
      ],
      "text/plain": [
       "Eq(b3*d1 - b3 - 1, -1)"
      ]
     },
     "metadata": {},
     "output_type": "display_data"
    }
   ],
   "source": [
    "i=4\n",
    "print('facet number:', i)\n",
    "display(sp.Eq(C.determinants[i], C.orientation[i]))"
   ]
  },
  {
   "cell_type": "markdown",
   "id": "9da7db0f-22ff-42ed-aa9e-ff7f0f69cf8f",
   "metadata": {
    "jp-MarkdownHeadingCollapsed": true
   },
   "source": [
    "## $b_3=0$"
   ]
  },
  {
   "cell_type": "code",
   "execution_count": 51,
   "id": "b015e94a-b005-49d8-b497-4ce12f2400ea",
   "metadata": {},
   "outputs": [],
   "source": [
    "C2 = copy.deepcopy(C1)\n",
    "C = C2\n",
    "C.subs(b3, 0)"
   ]
  },
  {
   "cell_type": "code",
   "execution_count": 52,
   "id": "4a0e5f73-11f0-47a1-88c3-243b042cfc21",
   "metadata": {},
   "outputs": [
    {
     "data": {
      "text/latex": [
       "$\\displaystyle \\left[\\begin{matrix}1 & 0 & 0 & 0 & 0 & -1 & 0 & 1\\\\0 & 1 & 0 & 0 & -1 & d_{1} - 2 & d_{1} - 1 & d_{1}\\\\0 & 0 & 1 & 0 & 0 & -1 & -1 & -1\\\\0 & 0 & 0 & 1 & 0 & 0 & -1 & -1\\end{matrix}\\right]$"
      ],
      "text/plain": [
       "Matrix([\n",
       "[1, 0, 0, 0,  0,     -1,      0,  1],\n",
       "[0, 1, 0, 0, -1, d1 - 2, d1 - 1, d1],\n",
       "[0, 0, 1, 0,  0,     -1,     -1, -1],\n",
       "[0, 0, 0, 1,  0,      0,     -1, -1]])"
      ]
     },
     "metadata": {},
     "output_type": "display_data"
    },
    {
     "name": "stdout",
     "output_type": "stream",
     "text": [
      "1\n"
     ]
    }
   ],
   "source": [
    "display(C.char)\n",
    "print(C.is_fangiving)\n",
    "fans.append(C.char)"
   ]
  },
  {
   "cell_type": "markdown",
   "id": "aa93426e-599b-4f53-9abd-d4a9ba394c0f",
   "metadata": {
    "jp-MarkdownHeadingCollapsed": true
   },
   "source": [
    "## $d_1=1$ ($b_3 \\not= 0$)"
   ]
  },
  {
   "cell_type": "code",
   "execution_count": 53,
   "id": "e2ec5974-316f-49b2-a124-9c00fbf13b0d",
   "metadata": {},
   "outputs": [],
   "source": [
    "C2 = copy.deepcopy(C1)\n",
    "C = C2\n",
    "C.subs(d1, 1)"
   ]
  },
  {
   "cell_type": "code",
   "execution_count": 54,
   "id": "24282f56-3be2-4b22-8fb4-67a82788fdcc",
   "metadata": {},
   "outputs": [
    {
     "data": {
      "text/latex": [
       "$\\displaystyle \\left[\\begin{matrix}1 & 0 & 0 & 0 & 0 & -1 & 0 & 1\\\\0 & 1 & 0 & 0 & -1 & -1 & 0 & 1\\\\0 & 0 & 1 & 0 & 0 & -1 & -1 & -1\\\\0 & 0 & 0 & 1 & b_{3} & b_{3} & -1 & -1\\end{matrix}\\right]$"
      ],
      "text/plain": [
       "Matrix([\n",
       "[1, 0, 0, 0,  0, -1,  0,  1],\n",
       "[0, 1, 0, 0, -1, -1,  0,  1],\n",
       "[0, 0, 1, 0,  0, -1, -1, -1],\n",
       "[0, 0, 0, 1, b3, b3, -1, -1]])"
      ]
     },
     "metadata": {},
     "output_type": "display_data"
    },
    {
     "name": "stdout",
     "output_type": "stream",
     "text": [
      "1\n"
     ]
    }
   ],
   "source": [
    "display(C.char)\n",
    "print(C.is_fangiving)\n",
    "fans.append(C.char)"
   ]
  },
  {
   "cell_type": "markdown",
   "id": "34e24e7a-d795-4ca3-9cb0-5c5fdbbc5d74",
   "metadata": {
    "jp-MarkdownHeadingCollapsed": true
   },
   "source": [
    "# Type 5 of the projection"
   ]
  },
  {
   "cell_type": "code",
   "execution_count": 55,
   "id": "6d44faa7-542a-441c-8cb0-506678e62a1b",
   "metadata": {},
   "outputs": [],
   "source": [
    "C1 = copy.deepcopy(C0)\n",
    "C = C1\n",
    "t=5"
   ]
  },
  {
   "cell_type": "code",
   "execution_count": 56,
   "id": "0b8385d6-30f7-4586-bfc7-f9af764959e9",
   "metadata": {},
   "outputs": [
    {
     "data": {
      "text/latex": [
       "$\\displaystyle \\left[\\begin{matrix}1 & 0 & 0 & a_{0} & -1 & c_{0} & d_{0}\\\\0 & 1 & 0 & -1 & b_{1} & c_{1} & d_{1}\\\\0 & 0 & 1 & a_{2} & b_{2} & c_{2} & -1\\end{matrix}\\right] = \\left[\\begin{matrix}1 & 0 & 0 & 0 & -1 & -1 & 0\\\\0 & 1 & 0 & -1 & d_{1} - 1 & 2 d_{1} - 1 & d_{1}\\\\0 & 0 & 1 & 0 & -1 & -2 & -1\\end{matrix}\\right]$"
      ],
      "text/plain": [
       "Eq(Matrix([\n",
       "[1, 0, 0, a0, -1, c0, d0],\n",
       "[0, 1, 0, -1, b1, c1, d1],\n",
       "[0, 0, 1, a2, b2, c2, -1]]), Matrix([\n",
       "[1, 0, 0,  0,     -1,       -1,  0],\n",
       "[0, 1, 0, -1, d1 - 1, 2*d1 - 1, d1],\n",
       "[0, 0, 1,  0,     -1,       -2, -1]]))"
      ]
     },
     "metadata": {},
     "output_type": "display_data"
    },
    {
     "data": {
      "text/latex": [
       "$\\displaystyle \\text{True}$"
      ],
      "text/plain": [
       "True"
      ]
     },
     "metadata": {},
     "output_type": "display_data"
    }
   ],
   "source": [
    "proj = C.proj([4])\n",
    "with sp.evaluate(False):\n",
    "    display(sp.Eq(proj, fans_link[t]))\n",
    "\n",
    "C.subs(a0, 0)\n",
    "C.subs(a2, 0)\n",
    "C.subs(b1, d1-1)\n",
    "C.subs(b2, -1)\n",
    "C.subs(c0, -1)\n",
    "C.subs(c1, 2*d1-1)\n",
    "C.subs(c2, -2)\n",
    "C.subs(d0, 0)\n",
    "\n",
    "display(sp.Eq(C.proj([4]), fans_link[t]))"
   ]
  },
  {
   "cell_type": "code",
   "execution_count": 57,
   "id": "72003286-1ac7-4ab5-8f30-2ee17e34dde5",
   "metadata": {},
   "outputs": [
    {
     "name": "stdout",
     "output_type": "stream",
     "text": [
      "facet number: 11\n"
     ]
    },
    {
     "data": {
      "text/latex": [
       "$\\displaystyle b_{3} - c_{3} = 1$"
      ],
      "text/plain": [
       "Eq(b3 - c3, 1)"
      ]
     },
     "metadata": {},
     "output_type": "display_data"
    }
   ],
   "source": [
    "i=11\n",
    "print('facet number:', i)\n",
    "display(sp.Eq(C.determinants[i], C.orientation[i]))\n",
    "\n",
    "C.subs(b3, c3+1)"
   ]
  },
  {
   "cell_type": "code",
   "execution_count": 58,
   "id": "a0f2d7c7-4470-465b-9cd6-c82d1c2d500f",
   "metadata": {},
   "outputs": [
    {
     "name": "stdout",
     "output_type": "stream",
     "text": [
      "facet number: 9\n"
     ]
    },
    {
     "data": {
      "text/latex": [
       "$\\displaystyle a_{3} - c_{3} - 2 = -1$"
      ],
      "text/plain": [
       "Eq(a3 - c3 - 2, -1)"
      ]
     },
     "metadata": {},
     "output_type": "display_data"
    }
   ],
   "source": [
    "i=9\n",
    "print('facet number:', i)\n",
    "display(sp.Eq(C.determinants[i], C.orientation[i]))\n",
    "\n",
    "C.subs(a3, c3+1)"
   ]
  },
  {
   "cell_type": "code",
   "execution_count": 59,
   "id": "5b8f5c88-3ebf-43d2-84e9-0151c28b0b44",
   "metadata": {},
   "outputs": [
    {
     "name": "stdout",
     "output_type": "stream",
     "text": [
      "facet number: 5\n"
     ]
    },
    {
     "data": {
      "text/latex": [
       "$\\displaystyle c_{3} d_{1} + 2 d_{1} - 1 = -1$"
      ],
      "text/plain": [
       "Eq(c3*d1 + 2*d1 - 1, -1)"
      ]
     },
     "metadata": {},
     "output_type": "display_data"
    },
    {
     "name": "stdout",
     "output_type": "stream",
     "text": [
      "facet number: 16\n"
     ]
    },
    {
     "data": {
      "text/latex": [
       "$\\displaystyle - c_{3} d_{1} - d_{1} + 1 = 1$"
      ],
      "text/plain": [
       "Eq(-c3*d1 - d1 + 1, 1)"
      ]
     },
     "metadata": {},
     "output_type": "display_data"
    },
    {
     "data": {
      "text/latex": [
       "$\\displaystyle d_{1} = 0$"
      ],
      "text/plain": [
       "Eq(d1, 0)"
      ]
     },
     "metadata": {},
     "output_type": "display_data"
    }
   ],
   "source": [
    "i=5\n",
    "print('facet number:', i)\n",
    "display(sp.Eq(C.determinants[i], C.orientation[i]))\n",
    "\n",
    "i=16\n",
    "print('facet number:', i)\n",
    "display(sp.Eq(C.determinants[i], C.orientation[i]))\n",
    "\n",
    "display(sp.Eq(C.determinants[5]+C.determinants[16], C.orientation[5]+C.orientation[16]))\n",
    "\n",
    "C.subs(d1, 0)"
   ]
  },
  {
   "cell_type": "code",
   "execution_count": 60,
   "id": "25ec1d73-4ece-45ad-b263-e9e9f9b440f8",
   "metadata": {},
   "outputs": [
    {
     "data": {
      "text/latex": [
       "$\\displaystyle \\left[\\begin{matrix}1 & 0 & 0 & 0 & 0 & -1 & -1 & 0\\\\0 & 1 & 0 & 0 & -1 & -1 & -1 & 0\\\\0 & 0 & 1 & 0 & 0 & -1 & -2 & -1\\\\0 & 0 & 0 & 1 & c_{3} + 1 & c_{3} + 1 & c_{3} & -1\\end{matrix}\\right]$"
      ],
      "text/plain": [
       "Matrix([\n",
       "[1, 0, 0, 0,      0,     -1, -1,  0],\n",
       "[0, 1, 0, 0,     -1,     -1, -1,  0],\n",
       "[0, 0, 1, 0,      0,     -1, -2, -1],\n",
       "[0, 0, 0, 1, c3 + 1, c3 + 1, c3, -1]])"
      ]
     },
     "metadata": {},
     "output_type": "display_data"
    },
    {
     "name": "stdout",
     "output_type": "stream",
     "text": [
      "1\n"
     ]
    }
   ],
   "source": [
    "display(C.char)\n",
    "print(C.is_fangiving)\n",
    "fans.append(C.char)"
   ]
  },
  {
   "cell_type": "markdown",
   "id": "56b7e35a-06c7-496e-bd2d-3f56aa38698c",
   "metadata": {
    "jp-MarkdownHeadingCollapsed": true
   },
   "source": [
    "# Type 6 of the projection"
   ]
  },
  {
   "cell_type": "code",
   "execution_count": 61,
   "id": "5c4ea951-ab25-48ec-8221-48fcc8a2014b",
   "metadata": {},
   "outputs": [],
   "source": [
    "C1 = copy.deepcopy(C0)\n",
    "C = C1\n",
    "t=6"
   ]
  },
  {
   "cell_type": "code",
   "execution_count": 62,
   "id": "7a048f08-466d-404e-9a08-4c399c930c70",
   "metadata": {},
   "outputs": [
    {
     "data": {
      "text/latex": [
       "$\\displaystyle \\left[\\begin{matrix}1 & 0 & 0 & a_{0} & -1 & c_{0} & d_{0}\\\\0 & 1 & 0 & -1 & b_{1} & c_{1} & d_{1}\\\\0 & 0 & 1 & a_{2} & b_{2} & c_{2} & -1\\end{matrix}\\right] = \\left[\\begin{matrix}1 & 0 & 0 & 0 & -1 & - c_{2} - 1 & 1\\\\0 & 1 & 0 & -1 & -2 & - 2 c_{2} - 1 & 2\\\\0 & 0 & 1 & 1 & 1 & c_{2} & -1\\end{matrix}\\right]$"
      ],
      "text/plain": [
       "Eq(Matrix([\n",
       "[1, 0, 0, a0, -1, c0, d0],\n",
       "[0, 1, 0, -1, b1, c1, d1],\n",
       "[0, 0, 1, a2, b2, c2, -1]]), Matrix([\n",
       "[1, 0, 0,  0, -1,   -c2 - 1,  1],\n",
       "[0, 1, 0, -1, -2, -2*c2 - 1,  2],\n",
       "[0, 0, 1,  1,  1,        c2, -1]]))"
      ]
     },
     "metadata": {},
     "output_type": "display_data"
    },
    {
     "data": {
      "text/latex": [
       "$\\displaystyle \\text{True}$"
      ],
      "text/plain": [
       "True"
      ]
     },
     "metadata": {},
     "output_type": "display_data"
    }
   ],
   "source": [
    "proj = C.proj([4])\n",
    "with sp.evaluate(False):\n",
    "    display(sp.Eq(proj, fans_link[t]))\n",
    "\n",
    "C.subs(a0, 0)\n",
    "C.subs(a2, 1)\n",
    "C.subs(b1, -2)\n",
    "C.subs(b2, 1)\n",
    "C.subs(c0, -c2-1)\n",
    "C.subs(c1, -2*c2-1)\n",
    "C.subs(d0, 1)\n",
    "C.subs(d1, 2)\n",
    "\n",
    "display(sp.Eq(C.proj([4]), fans_link[t]))"
   ]
  },
  {
   "cell_type": "code",
   "execution_count": 63,
   "id": "226f6b17-a0f3-451e-aa34-1363dc32dad5",
   "metadata": {},
   "outputs": [
    {
     "name": "stdout",
     "output_type": "stream",
     "text": [
      "facet number: 12\n"
     ]
    },
    {
     "data": {
      "text/latex": [
       "$\\displaystyle c_{2} - c_{3} + 1 = 1$"
      ],
      "text/plain": [
       "Eq(c2 - c3 + 1, 1)"
      ]
     },
     "metadata": {},
     "output_type": "display_data"
    }
   ],
   "source": [
    "i=12\n",
    "print('facet number:', i)\n",
    "display(sp.Eq(C.determinants[i], C.orientation[i]))\n",
    "\n",
    "C.subs(c3, c2)"
   ]
  },
  {
   "cell_type": "code",
   "execution_count": 64,
   "id": "df0523f4-9c04-4afc-b272-a56cbdcda99d",
   "metadata": {},
   "outputs": [
    {
     "name": "stdout",
     "output_type": "stream",
     "text": [
      "facet number: 9\n"
     ]
    },
    {
     "data": {
      "text/latex": [
       "$\\displaystyle a_{3} - b_{3} c_{2} - b_{3} + c_{2} = -1$"
      ],
      "text/plain": [
       "Eq(a3 - b3*c2 - b3 + c2, -1)"
      ]
     },
     "metadata": {},
     "output_type": "display_data"
    },
    {
     "name": "stdout",
     "output_type": "stream",
     "text": [
      "facet number: 11\n"
     ]
    },
    {
     "data": {
      "text/latex": [
       "$\\displaystyle b_{3} c_{2} + b_{3} - c_{2} = 1$"
      ],
      "text/plain": [
       "Eq(b3*c2 + b3 - c2, 1)"
      ]
     },
     "metadata": {},
     "output_type": "display_data"
    },
    {
     "data": {
      "text/latex": [
       "$\\displaystyle a_{3} = 0$"
      ],
      "text/plain": [
       "Eq(a3, 0)"
      ]
     },
     "metadata": {},
     "output_type": "display_data"
    }
   ],
   "source": [
    "i=9\n",
    "print('facet number:', i)\n",
    "display(sp.Eq(C.determinants[i], C.orientation[i]))\n",
    "\n",
    "i=11\n",
    "print('facet number:', i)\n",
    "display(sp.Eq(C.determinants[i], C.orientation[i]))\n",
    "\n",
    "display(sp.Eq(C.determinants[9]+C.determinants[11], C.orientation[9]+C.orientation[11]))\n",
    "\n",
    "C.subs(a3, 0)"
   ]
  },
  {
   "cell_type": "code",
   "execution_count": 65,
   "id": "8e2aacb2-94f4-4d40-a2f6-2e8dca06a0a2",
   "metadata": {},
   "outputs": [
    {
     "name": "stdout",
     "output_type": "stream",
     "text": [
      "facet number: 4\n"
     ]
    },
    {
     "data": {
      "text/latex": [
       "$\\displaystyle c_{2} = -1$"
      ],
      "text/plain": [
       "Eq(c2, -1)"
      ]
     },
     "metadata": {},
     "output_type": "display_data"
    }
   ],
   "source": [
    "i=4\n",
    "print('facet number:', i)\n",
    "display(sp.Eq(C.determinants[i], C.orientation[i]))\n",
    "\n",
    "C.subs(c2, -1)"
   ]
  },
  {
   "cell_type": "code",
   "execution_count": 66,
   "id": "913ff0ef-160d-4d1c-9c9c-6a4c9181c338",
   "metadata": {},
   "outputs": [
    {
     "data": {
      "text/latex": [
       "$\\displaystyle \\left[\\begin{matrix}1 & 0 & 0 & 0 & 0 & -1 & 0 & 1\\\\0 & 1 & 0 & 0 & -1 & -2 & 1 & 2\\\\0 & 0 & 1 & 0 & 1 & 1 & -1 & -1\\\\0 & 0 & 0 & 1 & 0 & b_{3} & -1 & -1\\end{matrix}\\right]$"
      ],
      "text/plain": [
       "Matrix([\n",
       "[1, 0, 0, 0,  0, -1,  0,  1],\n",
       "[0, 1, 0, 0, -1, -2,  1,  2],\n",
       "[0, 0, 1, 0,  1,  1, -1, -1],\n",
       "[0, 0, 0, 1,  0, b3, -1, -1]])"
      ]
     },
     "metadata": {},
     "output_type": "display_data"
    },
    {
     "name": "stdout",
     "output_type": "stream",
     "text": [
      "1\n"
     ]
    }
   ],
   "source": [
    "display(C.char)\n",
    "print(C.is_fangiving)\n",
    "fans.append(C.char)"
   ]
  },
  {
   "cell_type": "markdown",
   "id": "3b05c352-4187-4ddb-8069-ee1452845bad",
   "metadata": {
    "jp-MarkdownHeadingCollapsed": true
   },
   "source": [
    "# Type 7 of the projection"
   ]
  },
  {
   "cell_type": "code",
   "execution_count": 67,
   "id": "5358663a-c1a5-4beb-af87-00e315331a37",
   "metadata": {},
   "outputs": [],
   "source": [
    "C1 = copy.deepcopy(C0)\n",
    "C = C1\n",
    "t=7"
   ]
  },
  {
   "cell_type": "code",
   "execution_count": 68,
   "id": "a2ffd8f2-a250-4044-ba19-ad2888db6932",
   "metadata": {},
   "outputs": [
    {
     "data": {
      "text/latex": [
       "$\\displaystyle \\left[\\begin{matrix}1 & 0 & 0 & a_{0} & -1 & c_{0} & d_{0}\\\\0 & 1 & 0 & -1 & b_{1} & c_{1} & d_{1}\\\\0 & 0 & 1 & a_{2} & b_{2} & c_{2} & -1\\end{matrix}\\right] = \\left[\\begin{matrix}1 & 0 & 0 & 0 & -1 & d_{0} - 1 & d_{0}\\\\0 & 1 & 0 & -1 & -1 & d_{1} - 1 & d_{1}\\\\0 & 0 & 1 & 1 & 0 & -1 & -1\\end{matrix}\\right]$"
      ],
      "text/plain": [
       "Eq(Matrix([\n",
       "[1, 0, 0, a0, -1, c0, d0],\n",
       "[0, 1, 0, -1, b1, c1, d1],\n",
       "[0, 0, 1, a2, b2, c2, -1]]), Matrix([\n",
       "[1, 0, 0,  0, -1, d0 - 1, d0],\n",
       "[0, 1, 0, -1, -1, d1 - 1, d1],\n",
       "[0, 0, 1,  1,  0,     -1, -1]]))"
      ]
     },
     "metadata": {},
     "output_type": "display_data"
    },
    {
     "data": {
      "text/latex": [
       "$\\displaystyle \\text{True}$"
      ],
      "text/plain": [
       "True"
      ]
     },
     "metadata": {},
     "output_type": "display_data"
    }
   ],
   "source": [
    "proj = C.proj([4])\n",
    "with sp.evaluate(False):\n",
    "    display(sp.Eq(proj, fans_link[t]))\n",
    "\n",
    "C.subs(a0, 0)\n",
    "C.subs(a2, 1)\n",
    "C.subs(b1, -1)\n",
    "C.subs(b2, 0)\n",
    "C.subs(c0, d0-1)\n",
    "C.subs(c1, d1-1)\n",
    "C.subs(c2, -1)\n",
    "\n",
    "display(sp.Eq(C.proj([4]), fans_link[t]))"
   ]
  },
  {
   "cell_type": "code",
   "execution_count": 69,
   "id": "40873ac5-014c-4098-a2c5-cbf3d7498163",
   "metadata": {},
   "outputs": [
    {
     "name": "stdout",
     "output_type": "stream",
     "text": [
      "facet number: 5\n"
     ]
    },
    {
     "data": {
      "text/latex": [
       "$\\displaystyle c_{3} d_{1} + d_{1} - 1 = -1$"
      ],
      "text/plain": [
       "Eq(c3*d1 + d1 - 1, -1)"
      ]
     },
     "metadata": {},
     "output_type": "display_data"
    }
   ],
   "source": [
    "i=5\n",
    "print('facet number:', i)\n",
    "display(sp.Eq(C.determinants[i], C.orientation[i]))"
   ]
  },
  {
   "cell_type": "markdown",
   "id": "75b8ccb0-68f3-45c4-8a9e-30591ee5a777",
   "metadata": {
    "jp-MarkdownHeadingCollapsed": true
   },
   "source": [
    "## $c_3=-1$"
   ]
  },
  {
   "cell_type": "code",
   "execution_count": 70,
   "id": "7d182dc5-a205-43a3-be71-28377cffe7af",
   "metadata": {},
   "outputs": [],
   "source": [
    "C2 = copy.deepcopy(C1)\n",
    "C = C2\n",
    "C.subs(c3, -1)"
   ]
  },
  {
   "cell_type": "code",
   "execution_count": 71,
   "id": "34d5c253-8fe8-457f-b814-d841d6b63557",
   "metadata": {},
   "outputs": [
    {
     "name": "stdout",
     "output_type": "stream",
     "text": [
      "facet number: 4\n"
     ]
    },
    {
     "data": {
      "text/latex": [
       "$\\displaystyle a_{3} d_{1} - a_{3} - 1 = -1$"
      ],
      "text/plain": [
       "Eq(a3*d1 - a3 - 1, -1)"
      ]
     },
     "metadata": {},
     "output_type": "display_data"
    }
   ],
   "source": [
    "i=4\n",
    "print('facet number:', i)\n",
    "display(sp.Eq(C.determinants[i], C.orientation[i]))"
   ]
  },
  {
   "cell_type": "markdown",
   "id": "e50e264f-17b3-4e36-b3bb-4e500d63004c",
   "metadata": {
    "jp-MarkdownHeadingCollapsed": true
   },
   "source": [
    "### $a_3=0$"
   ]
  },
  {
   "cell_type": "code",
   "execution_count": 72,
   "id": "1b9f57ee-1889-41c2-9e55-5a07cef93f71",
   "metadata": {},
   "outputs": [],
   "source": [
    "C3 = copy.deepcopy(C2)\n",
    "C = C3\n",
    "C.subs(a3, 0)"
   ]
  },
  {
   "cell_type": "code",
   "execution_count": 73,
   "id": "ccbe99b0-a597-41e4-b934-6c18ae1f906b",
   "metadata": {},
   "outputs": [
    {
     "name": "stdout",
     "output_type": "stream",
     "text": [
      "facet number: 9\n"
     ]
    },
    {
     "data": {
      "text/latex": [
       "$\\displaystyle b_{3} d_{1} - 2 b_{3} - 1 = -1$"
      ],
      "text/plain": [
       "Eq(b3*d1 - 2*b3 - 1, -1)"
      ]
     },
     "metadata": {},
     "output_type": "display_data"
    }
   ],
   "source": [
    "i=9\n",
    "print('facet number:', i)\n",
    "display(sp.Eq(C.determinants[i], C.orientation[i]))"
   ]
  },
  {
   "cell_type": "markdown",
   "id": "a3ab7b67-b6e9-4068-baf8-a3a06399ffbc",
   "metadata": {
    "jp-MarkdownHeadingCollapsed": true
   },
   "source": [
    "#### $b_3=0$"
   ]
  },
  {
   "cell_type": "code",
   "execution_count": 74,
   "id": "c695091a-4251-452b-8996-2541a616dd34",
   "metadata": {},
   "outputs": [],
   "source": [
    "C4 = copy.deepcopy(C3)\n",
    "C = C4\n",
    "C.subs(b3, 0)"
   ]
  },
  {
   "cell_type": "code",
   "execution_count": 75,
   "id": "e63bb993-56c0-4fe4-a9bf-72f0a3684654",
   "metadata": {},
   "outputs": [
    {
     "data": {
      "text/latex": [
       "$\\displaystyle \\left[\\begin{matrix}1 & 0 & 0 & 0 & 0 & -1 & d_{0} - 1 & d_{0}\\\\0 & 1 & 0 & 0 & -1 & -1 & d_{1} - 1 & d_{1}\\\\0 & 0 & 1 & 0 & 1 & 0 & -1 & -1\\\\0 & 0 & 0 & 1 & 0 & 0 & -1 & -1\\end{matrix}\\right]$"
      ],
      "text/plain": [
       "Matrix([\n",
       "[1, 0, 0, 0,  0, -1, d0 - 1, d0],\n",
       "[0, 1, 0, 0, -1, -1, d1 - 1, d1],\n",
       "[0, 0, 1, 0,  1,  0,     -1, -1],\n",
       "[0, 0, 0, 1,  0,  0,     -1, -1]])"
      ]
     },
     "metadata": {},
     "output_type": "display_data"
    },
    {
     "name": "stdout",
     "output_type": "stream",
     "text": [
      "1\n"
     ]
    }
   ],
   "source": [
    "display(C.char)\n",
    "print(C.is_fangiving)\n",
    "fans.append(C.char)"
   ]
  },
  {
   "cell_type": "markdown",
   "id": "bdda1a78-02e8-41d2-888a-8f1dc6f3b1b0",
   "metadata": {
    "jp-MarkdownHeadingCollapsed": true
   },
   "source": [
    "#### $d_1=2$ ($b_3 \\not= 0$)"
   ]
  },
  {
   "cell_type": "code",
   "execution_count": 76,
   "id": "3e9d388e-22f5-46ea-9b25-34268e863932",
   "metadata": {},
   "outputs": [],
   "source": [
    "C4 = copy.deepcopy(C3)\n",
    "C = C4\n",
    "C.subs(d1, 2)"
   ]
  },
  {
   "cell_type": "code",
   "execution_count": 77,
   "id": "145920b2-8872-45a7-b7bb-ce6695a1d7ba",
   "metadata": {},
   "outputs": [
    {
     "name": "stdout",
     "output_type": "stream",
     "text": [
      "facet number: 11\n"
     ]
    },
    {
     "data": {
      "text/latex": [
       "$\\displaystyle - b_{3} d_{0} + b_{3} + 1 = 1$"
      ],
      "text/plain": [
       "Eq(-b3*d0 + b3 + 1, 1)"
      ]
     },
     "metadata": {},
     "output_type": "display_data"
    }
   ],
   "source": [
    "i=11\n",
    "print('facet number:', i)\n",
    "display(sp.Eq(C.determinants[i], C.orientation[i]))\n",
    "\n",
    "C.subs(d0, 1)"
   ]
  },
  {
   "cell_type": "code",
   "execution_count": 78,
   "id": "2cd6e330-3b5c-4bce-b4d2-4e49a9e21f27",
   "metadata": {},
   "outputs": [
    {
     "data": {
      "text/latex": [
       "$\\displaystyle \\left[\\begin{matrix}1 & 0 & 0 & 0 & 0 & -1 & 0 & 1\\\\0 & 1 & 0 & 0 & -1 & -1 & 1 & 2\\\\0 & 0 & 1 & 0 & 1 & 0 & -1 & -1\\\\0 & 0 & 0 & 1 & 0 & b_{3} & -1 & -1\\end{matrix}\\right]$"
      ],
      "text/plain": [
       "Matrix([\n",
       "[1, 0, 0, 0,  0, -1,  0,  1],\n",
       "[0, 1, 0, 0, -1, -1,  1,  2],\n",
       "[0, 0, 1, 0,  1,  0, -1, -1],\n",
       "[0, 0, 0, 1,  0, b3, -1, -1]])"
      ]
     },
     "metadata": {},
     "output_type": "display_data"
    },
    {
     "name": "stdout",
     "output_type": "stream",
     "text": [
      "1\n"
     ]
    }
   ],
   "source": [
    "display(C.char)\n",
    "print(C.is_fangiving)\n",
    "fans.append(C.char)"
   ]
  },
  {
   "cell_type": "markdown",
   "id": "8a3341f8-9946-4091-af19-2eab5b4ae01e",
   "metadata": {
    "jp-MarkdownHeadingCollapsed": true
   },
   "source": [
    "### $d_1=1$ ($a_3 \\not= 0$)"
   ]
  },
  {
   "cell_type": "code",
   "execution_count": 79,
   "id": "8ec61a08-6bf3-4b5f-b72a-0936c906ea75",
   "metadata": {},
   "outputs": [],
   "source": [
    "C3 = copy.deepcopy(C2)\n",
    "C = C3\n",
    "C.subs(d1, 1)"
   ]
  },
  {
   "cell_type": "code",
   "execution_count": 80,
   "id": "16aaea6f-384b-4764-ba5a-bd7608b57dd4",
   "metadata": {},
   "outputs": [
    {
     "name": "stdout",
     "output_type": "stream",
     "text": [
      "facet number: 9\n"
     ]
    },
    {
     "data": {
      "text/latex": [
       "$\\displaystyle a_{3} - b_{3} - 1 = -1$"
      ],
      "text/plain": [
       "Eq(a3 - b3 - 1, -1)"
      ]
     },
     "metadata": {},
     "output_type": "display_data"
    }
   ],
   "source": [
    "i=9\n",
    "print('facet number:', i)\n",
    "display(sp.Eq(C.determinants[i], C.orientation[i]))\n",
    "\n",
    "C.subs(b3, a3)"
   ]
  },
  {
   "cell_type": "code",
   "execution_count": 81,
   "id": "089f7fa4-1014-45aa-b3cb-cdf40969b637",
   "metadata": {},
   "outputs": [
    {
     "name": "stdout",
     "output_type": "stream",
     "text": [
      "facet number: 11\n"
     ]
    },
    {
     "data": {
      "text/latex": [
       "$\\displaystyle - a_{3} d_{0} + a_{3} + 1 = 1$"
      ],
      "text/plain": [
       "Eq(-a3*d0 + a3 + 1, 1)"
      ]
     },
     "metadata": {},
     "output_type": "display_data"
    }
   ],
   "source": [
    "i=11\n",
    "print('facet number:', i)\n",
    "display(sp.Eq(C.determinants[i], C.orientation[i]))\n",
    "\n",
    "C.subs(d0, 1)"
   ]
  },
  {
   "cell_type": "code",
   "execution_count": 82,
   "id": "57e73fa6-bbb5-49a4-b3bd-a668a12cb89a",
   "metadata": {},
   "outputs": [
    {
     "data": {
      "text/latex": [
       "$\\displaystyle \\left[\\begin{matrix}1 & 0 & 0 & 0 & 0 & -1 & 0 & 1\\\\0 & 1 & 0 & 0 & -1 & -1 & 0 & 1\\\\0 & 0 & 1 & 0 & 1 & 0 & -1 & -1\\\\0 & 0 & 0 & 1 & a_{3} & a_{3} & -1 & -1\\end{matrix}\\right]$"
      ],
      "text/plain": [
       "Matrix([\n",
       "[1, 0, 0, 0,  0, -1,  0,  1],\n",
       "[0, 1, 0, 0, -1, -1,  0,  1],\n",
       "[0, 0, 1, 0,  1,  0, -1, -1],\n",
       "[0, 0, 0, 1, a3, a3, -1, -1]])"
      ]
     },
     "metadata": {},
     "output_type": "display_data"
    },
    {
     "name": "stdout",
     "output_type": "stream",
     "text": [
      "1\n"
     ]
    }
   ],
   "source": [
    "display(C.char)\n",
    "print(C.is_fangiving)\n",
    "fans.append(C.char)"
   ]
  },
  {
   "cell_type": "markdown",
   "id": "b9e4156f-ab0e-465f-9b0a-f52c35266712",
   "metadata": {
    "jp-MarkdownHeadingCollapsed": true
   },
   "source": [
    "## $d_1=0$ ($c_3 \\not= -1$)"
   ]
  },
  {
   "cell_type": "code",
   "execution_count": 83,
   "id": "039ec9e4-550b-4c72-8f24-0d34196bcf3f",
   "metadata": {},
   "outputs": [],
   "source": [
    "C2 = copy.deepcopy(C1)\n",
    "C = C2\n",
    "C.subs(d1, 0)"
   ]
  },
  {
   "cell_type": "code",
   "execution_count": 84,
   "id": "45c7ac14-50aa-453d-8c8b-291e6048bef8",
   "metadata": {},
   "outputs": [
    {
     "name": "stdout",
     "output_type": "stream",
     "text": [
      "facet number: 4\n"
     ]
    },
    {
     "data": {
      "text/latex": [
       "$\\displaystyle - a_{3} + c_{3} = -1$"
      ],
      "text/plain": [
       "Eq(-a3 + c3, -1)"
      ]
     },
     "metadata": {},
     "output_type": "display_data"
    }
   ],
   "source": [
    "i=4\n",
    "print('facet number:', i)\n",
    "display(sp.Eq(C.determinants[i], C.orientation[i]))\n",
    "\n",
    "C.subs(a3, c3+1)"
   ]
  },
  {
   "cell_type": "code",
   "execution_count": 85,
   "id": "026941a3-4a5c-4cb0-89bb-0138341a4b87",
   "metadata": {},
   "outputs": [
    {
     "name": "stdout",
     "output_type": "stream",
     "text": [
      "facet number: 9\n"
     ]
    },
    {
     "data": {
      "text/latex": [
       "$\\displaystyle - 2 b_{3} + 2 c_{3} + 1 = -1$"
      ],
      "text/plain": [
       "Eq(-2*b3 + 2*c3 + 1, -1)"
      ]
     },
     "metadata": {},
     "output_type": "display_data"
    }
   ],
   "source": [
    "i=9\n",
    "print('facet number:', i)\n",
    "display(sp.Eq(C.determinants[i], C.orientation[i]))\n",
    "\n",
    "C.subs(b3, c3+1)"
   ]
  },
  {
   "cell_type": "code",
   "execution_count": 86,
   "id": "4408ff42-bb45-4d2b-9181-b12b322daa19",
   "metadata": {},
   "outputs": [
    {
     "name": "stdout",
     "output_type": "stream",
     "text": [
      "facet number: 11\n"
     ]
    },
    {
     "data": {
      "text/latex": [
       "$\\displaystyle - c_{3} d_{0} - d_{0} + 1 = 1$"
      ],
      "text/plain": [
       "Eq(-c3*d0 - d0 + 1, 1)"
      ]
     },
     "metadata": {},
     "output_type": "display_data"
    }
   ],
   "source": [
    "i=11\n",
    "print('facet number:', i)\n",
    "display(sp.Eq(C.determinants[i], C.orientation[i]))\n",
    "\n",
    "C.subs(d0, 0)"
   ]
  },
  {
   "cell_type": "code",
   "execution_count": 87,
   "id": "5c8b8cfc-d181-4fd1-a2f9-85cf63728d4d",
   "metadata": {},
   "outputs": [
    {
     "data": {
      "text/latex": [
       "$\\displaystyle \\left[\\begin{matrix}1 & 0 & 0 & 0 & 0 & -1 & -1 & 0\\\\0 & 1 & 0 & 0 & -1 & -1 & -1 & 0\\\\0 & 0 & 1 & 0 & 1 & 0 & -1 & -1\\\\0 & 0 & 0 & 1 & c_{3} + 1 & c_{3} + 1 & c_{3} & -1\\end{matrix}\\right]$"
      ],
      "text/plain": [
       "Matrix([\n",
       "[1, 0, 0, 0,      0,     -1, -1,  0],\n",
       "[0, 1, 0, 0,     -1,     -1, -1,  0],\n",
       "[0, 0, 1, 0,      1,      0, -1, -1],\n",
       "[0, 0, 0, 1, c3 + 1, c3 + 1, c3, -1]])"
      ]
     },
     "metadata": {},
     "output_type": "display_data"
    },
    {
     "name": "stdout",
     "output_type": "stream",
     "text": [
      "1\n"
     ]
    }
   ],
   "source": [
    "display(C.char)\n",
    "print(C.is_fangiving)\n",
    "fans.append(C.char)"
   ]
  },
  {
   "cell_type": "markdown",
   "id": "006c348f-97a0-46d1-8daa-7ebb0c321045",
   "metadata": {
    "jp-MarkdownHeadingCollapsed": true
   },
   "source": [
    "# Type 8 of the projection"
   ]
  },
  {
   "cell_type": "code",
   "execution_count": 88,
   "id": "37119b66-80cd-4ebc-87a7-d95eedb22c4d",
   "metadata": {},
   "outputs": [],
   "source": [
    "C1 = copy.deepcopy(C0)\n",
    "C = C1\n",
    "t=8"
   ]
  },
  {
   "cell_type": "code",
   "execution_count": 89,
   "id": "fe1180f8-4fb3-49ec-a23a-7cba190360d5",
   "metadata": {},
   "outputs": [
    {
     "data": {
      "text/latex": [
       "$\\displaystyle \\left[\\begin{matrix}1 & 0 & 0 & a_{0} & -1 & c_{0} & d_{0}\\\\0 & 1 & 0 & -1 & b_{1} & c_{1} & d_{1}\\\\0 & 0 & 1 & a_{2} & b_{2} & c_{2} & -1\\end{matrix}\\right] = \\left[\\begin{matrix}1 & 0 & 0 & 0 & -1 & 0 & 1\\\\0 & 1 & 0 & -1 & b_{1} & 1 & 2\\\\0 & 0 & 1 & 1 & - b_{1} - 1 & -1 & -1\\end{matrix}\\right]$"
      ],
      "text/plain": [
       "Eq(Matrix([\n",
       "[1, 0, 0, a0, -1, c0, d0],\n",
       "[0, 1, 0, -1, b1, c1, d1],\n",
       "[0, 0, 1, a2, b2, c2, -1]]), Matrix([\n",
       "[1, 0, 0,  0,      -1,  0,  1],\n",
       "[0, 1, 0, -1,      b1,  1,  2],\n",
       "[0, 0, 1,  1, -b1 - 1, -1, -1]]))"
      ]
     },
     "metadata": {},
     "output_type": "display_data"
    },
    {
     "data": {
      "text/latex": [
       "$\\displaystyle \\text{True}$"
      ],
      "text/plain": [
       "True"
      ]
     },
     "metadata": {},
     "output_type": "display_data"
    }
   ],
   "source": [
    "proj = C.proj([4])\n",
    "with sp.evaluate(False):\n",
    "    display(sp.Eq(proj, fans_link[t]))\n",
    "\n",
    "C.subs(a0, 0)\n",
    "C.subs(a2, 1)\n",
    "C.subs(b2, -b1-1)\n",
    "C.subs(c0, 0)\n",
    "C.subs(c1, 1)\n",
    "C.subs(c2, -1)\n",
    "C.subs(d0, 1)\n",
    "C.subs(d1, 2)\n",
    "\n",
    "display(sp.Eq(C.proj([4]), fans_link[t]))"
   ]
  },
  {
   "cell_type": "code",
   "execution_count": 90,
   "id": "509f6e9c-9b34-45d3-99e0-1c9bcc4d69da",
   "metadata": {},
   "outputs": [
    {
     "name": "stdout",
     "output_type": "stream",
     "text": [
      "facet number: 11\n"
     ]
    },
    {
     "data": {
      "text/latex": [
       "$\\displaystyle - c_{3} = 1$"
      ],
      "text/plain": [
       "Eq(-c3, 1)"
      ]
     },
     "metadata": {},
     "output_type": "display_data"
    }
   ],
   "source": [
    "i=11\n",
    "print('facet number:', i)\n",
    "display(sp.Eq(C.determinants[i], C.orientation[i]))\n",
    "\n",
    "C.subs(c3, -1)"
   ]
  },
  {
   "cell_type": "code",
   "execution_count": 91,
   "id": "e19241bc-009d-461d-b417-928fbe9c4cfe",
   "metadata": {},
   "outputs": [
    {
     "name": "stdout",
     "output_type": "stream",
     "text": [
      "facet number: 4\n"
     ]
    },
    {
     "data": {
      "text/latex": [
       "$\\displaystyle a_{3} - 1 = -1$"
      ],
      "text/plain": [
       "Eq(a3 - 1, -1)"
      ]
     },
     "metadata": {},
     "output_type": "display_data"
    }
   ],
   "source": [
    "i=4\n",
    "print('facet number:', i)\n",
    "display(sp.Eq(C.determinants[i], C.orientation[i]))\n",
    "\n",
    "C.subs(a3, 0)"
   ]
  },
  {
   "cell_type": "code",
   "execution_count": 92,
   "id": "672f5b8d-51ca-4936-8c40-8a10ce5dad5a",
   "metadata": {},
   "outputs": [
    {
     "data": {
      "text/latex": [
       "$\\displaystyle \\left[\\begin{matrix}1 & 0 & 0 & 0 & 0 & -1 & 0 & 1\\\\0 & 1 & 0 & 0 & -1 & b_{1} & 1 & 2\\\\0 & 0 & 1 & 0 & 1 & - b_{1} - 1 & -1 & -1\\\\0 & 0 & 0 & 1 & 0 & b_{3} & -1 & -1\\end{matrix}\\right]$"
      ],
      "text/plain": [
       "Matrix([\n",
       "[1, 0, 0, 0,  0,      -1,  0,  1],\n",
       "[0, 1, 0, 0, -1,      b1,  1,  2],\n",
       "[0, 0, 1, 0,  1, -b1 - 1, -1, -1],\n",
       "[0, 0, 0, 1,  0,      b3, -1, -1]])"
      ]
     },
     "metadata": {},
     "output_type": "display_data"
    },
    {
     "name": "stdout",
     "output_type": "stream",
     "text": [
      "1\n"
     ]
    }
   ],
   "source": [
    "display(C.char)\n",
    "print(C.is_fangiving)\n",
    "fans.append(C.char)"
   ]
  },
  {
   "cell_type": "markdown",
   "id": "99c36c38-b8f1-4c66-8182-5f74838f1f91",
   "metadata": {
    "jp-MarkdownHeadingCollapsed": true
   },
   "source": [
    "# Type 9 of the projection"
   ]
  },
  {
   "cell_type": "code",
   "execution_count": 93,
   "id": "0ae52e9f-6db9-4b8c-84b2-811c226f9dc8",
   "metadata": {},
   "outputs": [],
   "source": [
    "C1 = copy.deepcopy(C0)\n",
    "C = C1\n",
    "t=9"
   ]
  },
  {
   "cell_type": "code",
   "execution_count": 94,
   "id": "04070d0b-9bd9-4103-b93e-95096b431082",
   "metadata": {},
   "outputs": [
    {
     "data": {
      "text/latex": [
       "$\\displaystyle \\left[\\begin{matrix}1 & 0 & 0 & a_{0} & -1 & c_{0} & d_{0}\\\\0 & 1 & 0 & -1 & b_{1} & c_{1} & d_{1}\\\\0 & 0 & 1 & a_{2} & b_{2} & c_{2} & -1\\end{matrix}\\right] = \\left[\\begin{matrix}1 & 0 & 0 & 0 & -1 & -1 & 0\\\\0 & 1 & 0 & -1 & - c_{2} - 2 & - c_{2} - 1 & 1\\\\0 & 0 & 1 & 1 & c_{2} + 1 & c_{2} & -1\\end{matrix}\\right]$"
      ],
      "text/plain": [
       "Eq(Matrix([\n",
       "[1, 0, 0, a0, -1, c0, d0],\n",
       "[0, 1, 0, -1, b1, c1, d1],\n",
       "[0, 0, 1, a2, b2, c2, -1]]), Matrix([\n",
       "[1, 0, 0,  0,      -1,      -1,  0],\n",
       "[0, 1, 0, -1, -c2 - 2, -c2 - 1,  1],\n",
       "[0, 0, 1,  1,  c2 + 1,      c2, -1]]))"
      ]
     },
     "metadata": {},
     "output_type": "display_data"
    },
    {
     "data": {
      "text/latex": [
       "$\\displaystyle \\text{True}$"
      ],
      "text/plain": [
       "True"
      ]
     },
     "metadata": {},
     "output_type": "display_data"
    }
   ],
   "source": [
    "proj = C.proj([4])\n",
    "with sp.evaluate(False):\n",
    "    display(sp.Eq(proj, fans_link[t]))\n",
    "\n",
    "C.subs(a0, 0)\n",
    "C.subs(a2, 1)\n",
    "C.subs(b1, -c2-2)\n",
    "C.subs(b2, c2+1)\n",
    "C.subs(c0, -1)\n",
    "C.subs(c1, -c2-1)\n",
    "C.subs(d0, 0)\n",
    "C.subs(d1, 1)\n",
    "\n",
    "display(sp.Eq(C.proj([4]), fans_link[t]))"
   ]
  },
  {
   "cell_type": "code",
   "execution_count": 95,
   "id": "aaf96f11-00eb-416a-9731-07b746dd926d",
   "metadata": {},
   "outputs": [
    {
     "name": "stdout",
     "output_type": "stream",
     "text": [
      "facet number: 5\n"
     ]
    },
    {
     "data": {
      "text/latex": [
       "$\\displaystyle - c_{2} + c_{3} - 1 = -1$"
      ],
      "text/plain": [
       "Eq(-c2 + c3 - 1, -1)"
      ]
     },
     "metadata": {},
     "output_type": "display_data"
    }
   ],
   "source": [
    "i=5\n",
    "print('facet number:', i)\n",
    "display(sp.Eq(C.determinants[i], C.orientation[i]))\n",
    "\n",
    "C.subs(c3, c2)"
   ]
  },
  {
   "cell_type": "code",
   "execution_count": 96,
   "id": "04244cf5-76c5-41ff-a1f0-86a72a784ae0",
   "metadata": {},
   "outputs": [
    {
     "name": "stdout",
     "output_type": "stream",
     "text": [
      "facet number: 9\n"
     ]
    },
    {
     "data": {
      "text/latex": [
       "$\\displaystyle a_{3} - b_{3} + c_{2} = -1$"
      ],
      "text/plain": [
       "Eq(a3 - b3 + c2, -1)"
      ]
     },
     "metadata": {},
     "output_type": "display_data"
    },
    {
     "name": "stdout",
     "output_type": "stream",
     "text": [
      "facet number: 9\n"
     ]
    },
    {
     "data": {
      "text/latex": [
       "$\\displaystyle a_{3} - b_{3} + c_{2} = -1$"
      ],
      "text/plain": [
       "Eq(a3 - b3 + c2, -1)"
      ]
     },
     "metadata": {},
     "output_type": "display_data"
    },
    {
     "data": {
      "text/latex": [
       "$\\displaystyle a_{3} = 0$"
      ],
      "text/plain": [
       "Eq(a3, 0)"
      ]
     },
     "metadata": {},
     "output_type": "display_data"
    }
   ],
   "source": [
    "i=9\n",
    "print('facet number:', i)\n",
    "display(sp.Eq(C.determinants[i], C.orientation[i]))\n",
    "\n",
    "i=9\n",
    "print('facet number:', i)\n",
    "display(sp.Eq(C.determinants[i], C.orientation[i]))\n",
    "\n",
    "display(sp.Eq(C.determinants[9]+C.determinants[11], C.orientation[9]+C.orientation[11]))\n",
    "\n",
    "C.subs(a3, 0)"
   ]
  },
  {
   "cell_type": "code",
   "execution_count": 97,
   "id": "c4c90ebc-0bf9-4569-87c1-1ac0209e77ff",
   "metadata": {},
   "outputs": [
    {
     "name": "stdout",
     "output_type": "stream",
     "text": [
      "facet number: 4\n"
     ]
    },
    {
     "data": {
      "text/latex": [
       "$\\displaystyle c_{2} = -1$"
      ],
      "text/plain": [
       "Eq(c2, -1)"
      ]
     },
     "metadata": {},
     "output_type": "display_data"
    },
    {
     "name": "stdout",
     "output_type": "stream",
     "text": [
      "c2=-1 => type 7\n"
     ]
    }
   ],
   "source": [
    "i=4\n",
    "print('facet number:', i)\n",
    "display(sp.Eq(C.determinants[i], C.orientation[i]))\n",
    "\n",
    "print('c2=-1 => type 7')"
   ]
  },
  {
   "cell_type": "markdown",
   "id": "90fae21d-bf38-452b-8fb2-6490a8d6a1a9",
   "metadata": {
    "jp-MarkdownHeadingCollapsed": true
   },
   "source": [
    "# Type 10 of the projection"
   ]
  },
  {
   "cell_type": "code",
   "execution_count": 98,
   "id": "edd4f22c-0361-412e-be4d-c081794b1359",
   "metadata": {},
   "outputs": [],
   "source": [
    "C1 = copy.deepcopy(C0)\n",
    "C = C1\n",
    "t=10"
   ]
  },
  {
   "cell_type": "code",
   "execution_count": 99,
   "id": "04fe9cea-71fc-4ca6-88eb-98c40f929c23",
   "metadata": {},
   "outputs": [
    {
     "data": {
      "text/latex": [
       "$\\displaystyle \\left[\\begin{matrix}1 & 0 & 0 & a_{0} & -1 & c_{0} & d_{0}\\\\0 & 1 & 0 & -1 & b_{1} & c_{1} & d_{1}\\\\0 & 0 & 1 & a_{2} & b_{2} & c_{2} & -1\\end{matrix}\\right] = \\left[\\begin{matrix}1 & 0 & 0 & 0 & -1 & -1 & 0\\\\0 & 1 & 0 & -1 & -1 & -1 & 0\\\\0 & 0 & 1 & c_{2} + 2 & c_{2} + 1 & c_{2} & -1\\end{matrix}\\right]$"
      ],
      "text/plain": [
       "Eq(Matrix([\n",
       "[1, 0, 0, a0, -1, c0, d0],\n",
       "[0, 1, 0, -1, b1, c1, d1],\n",
       "[0, 0, 1, a2, b2, c2, -1]]), Matrix([\n",
       "[1, 0, 0,      0,     -1, -1,  0],\n",
       "[0, 1, 0,     -1,     -1, -1,  0],\n",
       "[0, 0, 1, c2 + 2, c2 + 1, c2, -1]]))"
      ]
     },
     "metadata": {},
     "output_type": "display_data"
    },
    {
     "data": {
      "text/latex": [
       "$\\displaystyle \\text{True}$"
      ],
      "text/plain": [
       "True"
      ]
     },
     "metadata": {},
     "output_type": "display_data"
    }
   ],
   "source": [
    "proj = C.proj([4])\n",
    "with sp.evaluate(False):\n",
    "    display(sp.Eq(proj, fans_link[t]))\n",
    "\n",
    "C.subs(a0, 0)\n",
    "C.subs(a2, c2+2)\n",
    "C.subs(b1, -1)\n",
    "C.subs(b2, c2+1)\n",
    "C.subs(c0, -1)\n",
    "C.subs(c1, -1)\n",
    "C.subs(d0, 0)\n",
    "C.subs(d1, 0)\n",
    "\n",
    "display(sp.Eq(C.proj([4]), fans_link[t]))"
   ]
  },
  {
   "cell_type": "code",
   "execution_count": 100,
   "id": "11bee403-ef39-4e45-92b6-a35762b1fcbe",
   "metadata": {},
   "outputs": [
    {
     "name": "stdout",
     "output_type": "stream",
     "text": [
      "facet number: 11\n"
     ]
    },
    {
     "data": {
      "text/latex": [
       "$\\displaystyle b_{3} - c_{3} = 1$"
      ],
      "text/plain": [
       "Eq(b3 - c3, 1)"
      ]
     },
     "metadata": {},
     "output_type": "display_data"
    }
   ],
   "source": [
    "i=11\n",
    "print('facet number:', i)\n",
    "display(sp.Eq(C.determinants[i], C.orientation[i]))\n",
    "\n",
    "C.subs(b3, c3+1)"
   ]
  },
  {
   "cell_type": "code",
   "execution_count": 101,
   "id": "93adedab-5386-4bf7-8073-1b90851dfa97",
   "metadata": {},
   "outputs": [
    {
     "name": "stdout",
     "output_type": "stream",
     "text": [
      "facet number: 9\n"
     ]
    },
    {
     "data": {
      "text/latex": [
       "$\\displaystyle a_{3} - c_{3} - 2 = -1$"
      ],
      "text/plain": [
       "Eq(a3 - c3 - 2, -1)"
      ]
     },
     "metadata": {},
     "output_type": "display_data"
    }
   ],
   "source": [
    "i=9\n",
    "print('facet number:', i)\n",
    "display(sp.Eq(C.determinants[i], C.orientation[i]))\n",
    "\n",
    "C.subs(a3, c3+1)"
   ]
  },
  {
   "cell_type": "code",
   "execution_count": 102,
   "id": "5de9cf54-70af-4f8f-b4ac-7f519cffb3aa",
   "metadata": {},
   "outputs": [
    {
     "data": {
      "text/latex": [
       "$\\displaystyle \\left[\\begin{matrix}1 & 0 & 0 & 0 & 0 & -1 & -1 & 0\\\\0 & 1 & 0 & 0 & -1 & -1 & -1 & 0\\\\0 & 0 & 1 & 0 & c_{2} + 2 & c_{2} + 1 & c_{2} & -1\\\\0 & 0 & 0 & 1 & c_{3} + 1 & c_{3} + 1 & c_{3} & -1\\end{matrix}\\right]$"
      ],
      "text/plain": [
       "Matrix([\n",
       "[1, 0, 0, 0,      0,     -1, -1,  0],\n",
       "[0, 1, 0, 0,     -1,     -1, -1,  0],\n",
       "[0, 0, 1, 0, c2 + 2, c2 + 1, c2, -1],\n",
       "[0, 0, 0, 1, c3 + 1, c3 + 1, c3, -1]])"
      ]
     },
     "metadata": {},
     "output_type": "display_data"
    },
    {
     "name": "stdout",
     "output_type": "stream",
     "text": [
      "1\n"
     ]
    }
   ],
   "source": [
    "display(C.char)\n",
    "print(C.is_fangiving)\n",
    "fans.append(C.char)"
   ]
  },
  {
   "cell_type": "markdown",
   "id": "039f42c3-8a5d-4d20-b07e-2da3404b47b8",
   "metadata": {
    "jp-MarkdownHeadingCollapsed": true
   },
   "source": [
    "# Type 11 of the projection"
   ]
  },
  {
   "cell_type": "code",
   "execution_count": 103,
   "id": "20b21257-33c9-47ae-a8a6-153e076462fb",
   "metadata": {},
   "outputs": [],
   "source": [
    "C1 = copy.deepcopy(C0)\n",
    "C = C1\n",
    "t=11"
   ]
  },
  {
   "cell_type": "code",
   "execution_count": 104,
   "id": "4065a52f-6098-45e9-aa6b-7189002c7354",
   "metadata": {},
   "outputs": [
    {
     "data": {
      "text/latex": [
       "$\\displaystyle \\left[\\begin{matrix}1 & 0 & 0 & a_{0} & -1 & c_{0} & d_{0}\\\\0 & 1 & 0 & -1 & b_{1} & c_{1} & d_{1}\\\\0 & 0 & 1 & a_{2} & b_{2} & c_{2} & -1\\end{matrix}\\right] = \\left[\\begin{matrix}1 & 0 & 0 & 0 & -1 & - c_{2} - 1 & 1\\\\0 & 1 & 0 & -1 & -1 & - c_{2} - 1 & 1\\\\0 & 0 & 1 & 2 & 1 & c_{2} & -1\\end{matrix}\\right]$"
      ],
      "text/plain": [
       "Eq(Matrix([\n",
       "[1, 0, 0, a0, -1, c0, d0],\n",
       "[0, 1, 0, -1, b1, c1, d1],\n",
       "[0, 0, 1, a2, b2, c2, -1]]), Matrix([\n",
       "[1, 0, 0,  0, -1, -c2 - 1,  1],\n",
       "[0, 1, 0, -1, -1, -c2 - 1,  1],\n",
       "[0, 0, 1,  2,  1,      c2, -1]]))"
      ]
     },
     "metadata": {},
     "output_type": "display_data"
    },
    {
     "data": {
      "text/latex": [
       "$\\displaystyle \\text{True}$"
      ],
      "text/plain": [
       "True"
      ]
     },
     "metadata": {},
     "output_type": "display_data"
    }
   ],
   "source": [
    "proj = C.proj([4])\n",
    "with sp.evaluate(False):\n",
    "    display(sp.Eq(proj, fans_link[t]))\n",
    "\n",
    "C.subs(a0, 0)\n",
    "C.subs(a2, 2)\n",
    "C.subs(b1, -1)\n",
    "C.subs(b2, 1)\n",
    "C.subs(c0, -c2-1)\n",
    "C.subs(c1, -c2-1)\n",
    "C.subs(d0, 1)\n",
    "C.subs(d1, 1)\n",
    "\n",
    "display(sp.Eq(C.proj([4]), fans_link[t]))"
   ]
  },
  {
   "cell_type": "code",
   "execution_count": 105,
   "id": "f95b890f-539b-40b1-8ba2-2eaee2ae0952",
   "metadata": {},
   "outputs": [
    {
     "name": "stdout",
     "output_type": "stream",
     "text": [
      "facet number: 5\n"
     ]
    },
    {
     "data": {
      "text/latex": [
       "$\\displaystyle - c_{2} + c_{3} - 1 = -1$"
      ],
      "text/plain": [
       "Eq(-c2 + c3 - 1, -1)"
      ]
     },
     "metadata": {},
     "output_type": "display_data"
    }
   ],
   "source": [
    "i=5\n",
    "print('facet number:', i)\n",
    "display(sp.Eq(C.determinants[i], C.orientation[i]))\n",
    "\n",
    "C.subs(c3, c2)"
   ]
  },
  {
   "cell_type": "code",
   "execution_count": 106,
   "id": "be0684f3-04cb-4cb6-8bda-388c2e3affde",
   "metadata": {},
   "outputs": [
    {
     "name": "stdout",
     "output_type": "stream",
     "text": [
      "facet number: 9\n"
     ]
    },
    {
     "data": {
      "text/latex": [
       "$\\displaystyle a_{3} - b_{3} c_{2} - 2 b_{3} + c_{2} = -1$"
      ],
      "text/plain": [
       "Eq(a3 - b3*c2 - 2*b3 + c2, -1)"
      ]
     },
     "metadata": {},
     "output_type": "display_data"
    },
    {
     "name": "stdout",
     "output_type": "stream",
     "text": [
      "facet number: 11\n"
     ]
    },
    {
     "data": {
      "text/latex": [
       "$\\displaystyle b_{3} c_{2} + b_{3} - c_{2} = 1$"
      ],
      "text/plain": [
       "Eq(b3*c2 + b3 - c2, 1)"
      ]
     },
     "metadata": {},
     "output_type": "display_data"
    },
    {
     "data": {
      "text/latex": [
       "$\\displaystyle a_{3} - b_{3} = 0$"
      ],
      "text/plain": [
       "Eq(a3 - b3, 0)"
      ]
     },
     "metadata": {},
     "output_type": "display_data"
    }
   ],
   "source": [
    "i=9\n",
    "print('facet number:', i)\n",
    "display(sp.Eq(C.determinants[i], C.orientation[i]))\n",
    "\n",
    "i=11\n",
    "print('facet number:', i)\n",
    "display(sp.Eq(C.determinants[i], C.orientation[i]))\n",
    "\n",
    "display(sp.Eq(C.determinants[9]+C.determinants[11], C.orientation[9]+C.orientation[11]))\n",
    "\n",
    "C.subs(a3, b3)"
   ]
  },
  {
   "cell_type": "code",
   "execution_count": 107,
   "id": "4f68edec-46c5-40ee-a0f2-dcc56769dabf",
   "metadata": {},
   "outputs": [
    {
     "name": "stdout",
     "output_type": "stream",
     "text": [
      "facet number: 11\n"
     ]
    },
    {
     "data": {
      "text/latex": [
       "$\\displaystyle b_{3} c_{2} + b_{3} - c_{2} = 1$"
      ],
      "text/plain": [
       "Eq(b3*c2 + b3 - c2, 1)"
      ]
     },
     "metadata": {},
     "output_type": "display_data"
    },
    {
     "data": {
      "text/latex": [
       "$\\displaystyle \\left(b_{3} - 1\\right) \\left(c_{2} + 1\\right) = 0$"
      ],
      "text/plain": [
       "Eq((b3 - 1)*(c2 + 1), 0)"
      ]
     },
     "metadata": {},
     "output_type": "display_data"
    }
   ],
   "source": [
    "i=11\n",
    "print('facet number:', i)\n",
    "display(sp.Eq(C.determinants[i], C.orientation[i]))\n",
    "display(sp.Eq((b3-1)*(c2+1), 0))"
   ]
  },
  {
   "cell_type": "markdown",
   "id": "6ece3b3f-eb2e-4149-ad76-91e5e23735d1",
   "metadata": {
    "jp-MarkdownHeadingCollapsed": true
   },
   "source": [
    "## $b_3=1$"
   ]
  },
  {
   "cell_type": "code",
   "execution_count": 108,
   "id": "43ec7971-e9e5-49b4-8b79-1cd09255401a",
   "metadata": {},
   "outputs": [],
   "source": [
    "C2 = copy.deepcopy(C1)\n",
    "C = C2\n",
    "C.subs(b3, 1)"
   ]
  },
  {
   "cell_type": "code",
   "execution_count": 109,
   "id": "8680ba77-c80d-41b5-881e-f16a2c05e8c3",
   "metadata": {},
   "outputs": [
    {
     "data": {
      "text/latex": [
       "$\\displaystyle \\left[\\begin{matrix}1 & 0 & 0 & 0 & 0 & -1 & - c_{2} - 1 & 1\\\\0 & 1 & 0 & 0 & -1 & -1 & - c_{2} - 1 & 1\\\\0 & 0 & 1 & 0 & 2 & 1 & c_{2} & -1\\\\0 & 0 & 0 & 1 & 1 & 1 & c_{2} & -1\\end{matrix}\\right]$"
      ],
      "text/plain": [
       "Matrix([\n",
       "[1, 0, 0, 0,  0, -1, -c2 - 1,  1],\n",
       "[0, 1, 0, 0, -1, -1, -c2 - 1,  1],\n",
       "[0, 0, 1, 0,  2,  1,      c2, -1],\n",
       "[0, 0, 0, 1,  1,  1,      c2, -1]])"
      ]
     },
     "metadata": {},
     "output_type": "display_data"
    },
    {
     "name": "stdout",
     "output_type": "stream",
     "text": [
      "1\n"
     ]
    }
   ],
   "source": [
    "display(C.char)\n",
    "print(C.is_fangiving)\n",
    "fans.append(C.char)"
   ]
  },
  {
   "cell_type": "markdown",
   "id": "0fb71b59-8942-419d-bef0-de89f93bf64c",
   "metadata": {
    "jp-MarkdownHeadingCollapsed": true
   },
   "source": [
    "## $c_2=-1$"
   ]
  },
  {
   "cell_type": "code",
   "execution_count": 110,
   "id": "55dd116c-7312-4f14-9c5e-63a9915d2f74",
   "metadata": {},
   "outputs": [],
   "source": [
    "C2 = copy.deepcopy(C1)\n",
    "C = C2\n",
    "C.subs(c2, -1)"
   ]
  },
  {
   "cell_type": "code",
   "execution_count": 111,
   "id": "c8034524-bcf9-42a0-af44-589a4a986c55",
   "metadata": {},
   "outputs": [
    {
     "data": {
      "text/latex": [
       "$\\displaystyle \\left[\\begin{matrix}1 & 0 & 0 & 0 & 0 & -1 & 0 & 1\\\\0 & 1 & 0 & 0 & -1 & -1 & 0 & 1\\\\0 & 0 & 1 & 0 & 2 & 1 & -1 & -1\\\\0 & 0 & 0 & 1 & b_{3} & b_{3} & -1 & -1\\end{matrix}\\right]$"
      ],
      "text/plain": [
       "Matrix([\n",
       "[1, 0, 0, 0,  0, -1,  0,  1],\n",
       "[0, 1, 0, 0, -1, -1,  0,  1],\n",
       "[0, 0, 1, 0,  2,  1, -1, -1],\n",
       "[0, 0, 0, 1, b3, b3, -1, -1]])"
      ]
     },
     "metadata": {},
     "output_type": "display_data"
    },
    {
     "name": "stdout",
     "output_type": "stream",
     "text": [
      "1\n"
     ]
    }
   ],
   "source": [
    "display(C.char)\n",
    "print(C.is_fangiving)\n",
    "fans.append(C.char)"
   ]
  },
  {
   "cell_type": "markdown",
   "id": "05fee63f-58d5-4f34-b7a3-4327560976aa",
   "metadata": {
    "jp-MarkdownHeadingCollapsed": true
   },
   "source": [
    "# Type 12 of the projection"
   ]
  },
  {
   "cell_type": "code",
   "execution_count": 112,
   "id": "142dfd8b-c9a7-49bf-b97c-62e633536b34",
   "metadata": {},
   "outputs": [],
   "source": [
    "C1 = copy.deepcopy(C0)\n",
    "C = C1\n",
    "t=12"
   ]
  },
  {
   "cell_type": "code",
   "execution_count": 113,
   "id": "a83d38bc-d922-4696-ae96-dd8d8df915a1",
   "metadata": {},
   "outputs": [
    {
     "data": {
      "text/latex": [
       "$\\displaystyle \\left[\\begin{matrix}1 & 0 & 0 & a_{0} & -1 & c_{0} & d_{0}\\\\0 & 1 & 0 & -1 & b_{1} & c_{1} & d_{1}\\\\0 & 0 & 1 & a_{2} & b_{2} & c_{2} & -1\\end{matrix}\\right] = \\left[\\begin{matrix}1 & 0 & 0 & 0 & -1 & 0 & 1\\\\0 & 1 & 0 & -1 & -1 & 0 & 1\\\\0 & 0 & 1 & a_{2} & a_{2} - 1 & -1 & -1\\end{matrix}\\right]$"
      ],
      "text/plain": [
       "Eq(Matrix([\n",
       "[1, 0, 0, a0, -1, c0, d0],\n",
       "[0, 1, 0, -1, b1, c1, d1],\n",
       "[0, 0, 1, a2, b2, c2, -1]]), Matrix([\n",
       "[1, 0, 0,  0,     -1,  0,  1],\n",
       "[0, 1, 0, -1,     -1,  0,  1],\n",
       "[0, 0, 1, a2, a2 - 1, -1, -1]]))"
      ]
     },
     "metadata": {},
     "output_type": "display_data"
    },
    {
     "data": {
      "text/latex": [
       "$\\displaystyle \\text{True}$"
      ],
      "text/plain": [
       "True"
      ]
     },
     "metadata": {},
     "output_type": "display_data"
    }
   ],
   "source": [
    "proj = C.proj([4])\n",
    "with sp.evaluate(False):\n",
    "    display(sp.Eq(proj, fans_link[t]))\n",
    "\n",
    "C.subs(a0, 0)\n",
    "C.subs(b1, -1)\n",
    "C.subs(b2, a2-1)\n",
    "C.subs(c0, 0)\n",
    "C.subs(c1, 0)\n",
    "C.subs(c2, -1)\n",
    "C.subs(d0, 1)\n",
    "C.subs(d1, 1)\n",
    "\n",
    "display(sp.Eq(C.proj([4]), fans_link[t]))"
   ]
  },
  {
   "cell_type": "code",
   "execution_count": 114,
   "id": "ba876332-75d9-4640-92da-e7d672c85a9b",
   "metadata": {},
   "outputs": [
    {
     "name": "stdout",
     "output_type": "stream",
     "text": [
      "facet number: 4\n"
     ]
    },
    {
     "data": {
      "text/latex": [
       "$\\displaystyle c_{3} = -1$"
      ],
      "text/plain": [
       "Eq(c3, -1)"
      ]
     },
     "metadata": {},
     "output_type": "display_data"
    }
   ],
   "source": [
    "i=4\n",
    "print('facet number:', i)\n",
    "display(sp.Eq(C.determinants[i], C.orientation[i]))\n",
    "\n",
    "C.subs(c3, -1)"
   ]
  },
  {
   "cell_type": "code",
   "execution_count": 115,
   "id": "e358ae8a-f0b7-4c39-a5fe-0fe3711f4ebf",
   "metadata": {},
   "outputs": [
    {
     "name": "stdout",
     "output_type": "stream",
     "text": [
      "facet number: 9\n"
     ]
    },
    {
     "data": {
      "text/latex": [
       "$\\displaystyle a_{3} - b_{3} - 1 = -1$"
      ],
      "text/plain": [
       "Eq(a3 - b3 - 1, -1)"
      ]
     },
     "metadata": {},
     "output_type": "display_data"
    }
   ],
   "source": [
    "i=9\n",
    "print('facet number:', i)\n",
    "display(sp.Eq(C.determinants[i], C.orientation[i]))\n",
    "\n",
    "C.subs(b3, a3)"
   ]
  },
  {
   "cell_type": "code",
   "execution_count": 116,
   "id": "240ea279-a3de-41d0-a9ad-da45e501ab9a",
   "metadata": {},
   "outputs": [
    {
     "data": {
      "text/latex": [
       "$\\displaystyle \\left[\\begin{matrix}1 & 0 & 0 & 0 & 0 & -1 & 0 & 1\\\\0 & 1 & 0 & 0 & -1 & -1 & 0 & 1\\\\0 & 0 & 1 & 0 & a_{2} & a_{2} - 1 & -1 & -1\\\\0 & 0 & 0 & 1 & a_{3} & a_{3} & -1 & -1\\end{matrix}\\right]$"
      ],
      "text/plain": [
       "Matrix([\n",
       "[1, 0, 0, 0,  0,     -1,  0,  1],\n",
       "[0, 1, 0, 0, -1,     -1,  0,  1],\n",
       "[0, 0, 1, 0, a2, a2 - 1, -1, -1],\n",
       "[0, 0, 0, 1, a3,     a3, -1, -1]])"
      ]
     },
     "metadata": {},
     "output_type": "display_data"
    },
    {
     "name": "stdout",
     "output_type": "stream",
     "text": [
      "1\n"
     ]
    }
   ],
   "source": [
    "display(C.char)\n",
    "print(C.is_fangiving)\n",
    "fans.append(C.char)"
   ]
  },
  {
   "cell_type": "markdown",
   "id": "9d65daf0-7cd6-4595-bbed-9b5bcbec756a",
   "metadata": {
    "jp-MarkdownHeadingCollapsed": true
   },
   "source": [
    "# There are 10 types of fans up to D-J equivalence"
   ]
  },
  {
   "cell_type": "markdown",
   "id": "8b723536-4088-4ffc-8de8-da8b6bb1e758",
   "metadata": {
    "jp-MarkdownHeadingCollapsed": true
   },
   "source": [
    "## removing redundant ones"
   ]
  },
  {
   "cell_type": "code",
   "execution_count": 126,
   "id": "04318305-4329-422b-a6b7-9024a4270fc8",
   "metadata": {},
   "outputs": [
    {
     "data": {
      "text/latex": [
       "$\\displaystyle \\left[\\begin{matrix}1 & 0 & 0 & 0 & 0 & -1 & 0 & 1\\\\0 & 1 & 0 & 0 & -1 & 0 & 1 & 2\\\\0 & 0 & 1 & 0 & 1 & -1 & -1 & -1\\\\0 & 0 & 0 & 1 & 0 & b_{3} & -1 & -1\\end{matrix}\\right]$"
      ],
      "text/plain": [
       "Matrix([\n",
       "[1, 0, 0, 0,  0, -1,  0,  1],\n",
       "[0, 1, 0, 0, -1,  0,  1,  2],\n",
       "[0, 0, 1, 0,  1, -1, -1, -1],\n",
       "[0, 0, 0, 1,  0, b3, -1, -1]])"
      ]
     },
     "metadata": {},
     "output_type": "display_data"
    },
    {
     "data": {
      "text/latex": [
       "$\\displaystyle \\left[\\begin{matrix}1 & 0 & 0 & 0 & 0 & -1 & 0 & 1\\\\0 & 1 & 0 & 0 & -1 & b_{1} & 1 & 2\\\\0 & 0 & 1 & 0 & 1 & - b_{1} - 1 & -1 & -1\\\\0 & 0 & 0 & 1 & 0 & b_{3} & -1 & -1\\end{matrix}\\right]$"
      ],
      "text/plain": [
       "Matrix([\n",
       "[1, 0, 0, 0,  0,      -1,  0,  1],\n",
       "[0, 1, 0, 0, -1,      b1,  1,  2],\n",
       "[0, 0, 1, 0,  1, -b1 - 1, -1, -1],\n",
       "[0, 0, 0, 1,  0,      b3, -1, -1]])"
      ]
     },
     "metadata": {},
     "output_type": "display_data"
    },
    {
     "data": {
      "text/latex": [
       "$\\displaystyle \\text{True}$"
      ],
      "text/plain": [
       "True"
      ]
     },
     "metadata": {},
     "output_type": "display_data"
    }
   ],
   "source": [
    "i, j =1, 14\n",
    "display(fans[i], fans[j])\n",
    "display(sp.Eq(fans[i],fans[j].subs(b1, 0)))\n",
    "fans.remove(fans[i])"
   ]
  },
  {
   "cell_type": "code",
   "execution_count": 137,
   "id": "aedcde83-08d0-433e-8349-aad96b0d6a11",
   "metadata": {},
   "outputs": [
    {
     "data": {
      "text/latex": [
       "$\\displaystyle \\left[\\begin{matrix}1 & 0 & 0 & 0 & 0 & -1 & -1 & 0\\\\0 & 1 & 0 & 0 & -1 & -1 & -1 & 0\\\\0 & 0 & 1 & 0 & 2 & 1 & 0 & -1\\\\0 & 0 & 0 & 1 & c_{3} + 1 & c_{3} + 1 & c_{3} & -1\\end{matrix}\\right]$"
      ],
      "text/plain": [
       "Matrix([\n",
       "[1, 0, 0, 0,      0,     -1, -1,  0],\n",
       "[0, 1, 0, 0,     -1,     -1, -1,  0],\n",
       "[0, 0, 1, 0,      2,      1,  0, -1],\n",
       "[0, 0, 0, 1, c3 + 1, c3 + 1, c3, -1]])"
      ]
     },
     "metadata": {},
     "output_type": "display_data"
    },
    {
     "data": {
      "text/latex": [
       "$\\displaystyle \\left[\\begin{matrix}1 & 0 & 0 & 0 & 0 & -1 & -1 & 0\\\\0 & 1 & 0 & 0 & -1 & -1 & -1 & 0\\\\0 & 0 & 1 & 0 & c_{2} + 2 & c_{2} + 1 & c_{2} & -1\\\\0 & 0 & 0 & 1 & c_{3} + 1 & c_{3} + 1 & c_{3} & -1\\end{matrix}\\right]$"
      ],
      "text/plain": [
       "Matrix([\n",
       "[1, 0, 0, 0,      0,     -1, -1,  0],\n",
       "[0, 1, 0, 0,     -1,     -1, -1,  0],\n",
       "[0, 0, 1, 0, c2 + 2, c2 + 1, c2, -1],\n",
       "[0, 0, 0, 1, c3 + 1, c3 + 1, c3, -1]])"
      ]
     },
     "metadata": {},
     "output_type": "display_data"
    },
    {
     "data": {
      "text/latex": [
       "$\\displaystyle \\text{True}$"
      ],
      "text/plain": [
       "True"
      ]
     },
     "metadata": {},
     "output_type": "display_data"
    }
   ],
   "source": [
    "i, j =4, 14\n",
    "display(fans[i], fans[j])\n",
    "display(sp.Eq(fans[i],fans[j].subs(c2, 0)))\n",
    "fans.remove(fans[i])"
   ]
  },
  {
   "cell_type": "code",
   "execution_count": 146,
   "id": "182bbdb1-c637-4772-8bd4-489c6ef0e96a",
   "metadata": {},
   "outputs": [
    {
     "data": {
      "text/latex": [
       "$\\displaystyle \\left[\\begin{matrix}1 & 0 & 0 & 0 & 0 & -1 & 0 & 1\\\\0 & 1 & 0 & 0 & -1 & -1 & 0 & 1\\\\0 & 0 & 1 & 0 & 0 & -1 & -1 & -1\\\\0 & 0 & 0 & 1 & b_{3} & b_{3} & -1 & -1\\end{matrix}\\right]$"
      ],
      "text/plain": [
       "Matrix([\n",
       "[1, 0, 0, 0,  0, -1,  0,  1],\n",
       "[0, 1, 0, 0, -1, -1,  0,  1],\n",
       "[0, 0, 1, 0,  0, -1, -1, -1],\n",
       "[0, 0, 0, 1, b3, b3, -1, -1]])"
      ]
     },
     "metadata": {},
     "output_type": "display_data"
    },
    {
     "data": {
      "text/latex": [
       "$\\displaystyle \\left[\\begin{matrix}1 & 0 & 0 & 0 & 0 & -1 & 0 & 1\\\\0 & 1 & 0 & 0 & -1 & -1 & 0 & 1\\\\0 & 0 & 1 & 0 & a_{2} & a_{2} - 1 & -1 & -1\\\\0 & 0 & 0 & 1 & a_{3} & a_{3} & -1 & -1\\end{matrix}\\right]$"
      ],
      "text/plain": [
       "Matrix([\n",
       "[1, 0, 0, 0,  0,     -1,  0,  1],\n",
       "[0, 1, 0, 0, -1,     -1,  0,  1],\n",
       "[0, 0, 1, 0, a2, a2 - 1, -1, -1],\n",
       "[0, 0, 0, 1, a3,     a3, -1, -1]])"
      ]
     },
     "metadata": {},
     "output_type": "display_data"
    },
    {
     "data": {
      "text/latex": [
       "$\\displaystyle \\text{True}$"
      ],
      "text/plain": [
       "True"
      ]
     },
     "metadata": {},
     "output_type": "display_data"
    }
   ],
   "source": [
    "i, j =5, 16\n",
    "display(fans[i], fans[j])\n",
    "display(sp.Eq(fans[i],fans[j].subs(a2, 0).subs(a3, b3)))\n",
    "fans.remove(fans[i])"
   ]
  },
  {
   "cell_type": "code",
   "execution_count": 151,
   "id": "44868720-1b25-4de4-b5eb-b52c8ff20c44",
   "metadata": {},
   "outputs": [
    {
     "data": {
      "text/latex": [
       "$\\displaystyle \\left[\\begin{matrix}1 & 0 & 0 & 0 & 0 & -1 & -1 & 0\\\\0 & 1 & 0 & 0 & -1 & -1 & -1 & 0\\\\0 & 0 & 1 & 0 & 0 & -1 & -2 & -1\\\\0 & 0 & 0 & 1 & c_{3} + 1 & c_{3} + 1 & c_{3} & -1\\end{matrix}\\right]$"
      ],
      "text/plain": [
       "Matrix([\n",
       "[1, 0, 0, 0,      0,     -1, -1,  0],\n",
       "[0, 1, 0, 0,     -1,     -1, -1,  0],\n",
       "[0, 0, 1, 0,      0,     -1, -2, -1],\n",
       "[0, 0, 0, 1, c3 + 1, c3 + 1, c3, -1]])"
      ]
     },
     "metadata": {},
     "output_type": "display_data"
    },
    {
     "data": {
      "text/latex": [
       "$\\displaystyle \\left[\\begin{matrix}1 & 0 & 0 & 0 & 0 & -1 & -1 & 0\\\\0 & 1 & 0 & 0 & -1 & -1 & -1 & 0\\\\0 & 0 & 1 & 0 & c_{2} + 2 & c_{2} + 1 & c_{2} & -1\\\\0 & 0 & 0 & 1 & c_{3} + 1 & c_{3} + 1 & c_{3} & -1\\end{matrix}\\right]$"
      ],
      "text/plain": [
       "Matrix([\n",
       "[1, 0, 0, 0,      0,     -1, -1,  0],\n",
       "[0, 1, 0, 0,     -1,     -1, -1,  0],\n",
       "[0, 0, 1, 0, c2 + 2, c2 + 1, c2, -1],\n",
       "[0, 0, 0, 1, c3 + 1, c3 + 1, c3, -1]])"
      ]
     },
     "metadata": {},
     "output_type": "display_data"
    },
    {
     "data": {
      "text/latex": [
       "$\\displaystyle \\text{True}$"
      ],
      "text/plain": [
       "True"
      ]
     },
     "metadata": {},
     "output_type": "display_data"
    }
   ],
   "source": [
    "i, j =5, 12\n",
    "display(fans[i], fans[j])\n",
    "display(sp.Eq(fans[i],fans[j].subs(c2, -2)))\n",
    "fans.remove(fans[i])"
   ]
  },
  {
   "cell_type": "code",
   "execution_count": 156,
   "id": "46dd0f2a-08f2-4776-92bb-deeec2160b88",
   "metadata": {},
   "outputs": [
    {
     "data": {
      "text/latex": [
       "$\\displaystyle \\left[\\begin{matrix}1 & 0 & 0 & 0 & 0 & -1 & 0 & 1\\\\0 & 1 & 0 & 0 & -1 & -2 & 1 & 2\\\\0 & 0 & 1 & 0 & 1 & 1 & -1 & -1\\\\0 & 0 & 0 & 1 & 0 & b_{3} & -1 & -1\\end{matrix}\\right]$"
      ],
      "text/plain": [
       "Matrix([\n",
       "[1, 0, 0, 0,  0, -1,  0,  1],\n",
       "[0, 1, 0, 0, -1, -2,  1,  2],\n",
       "[0, 0, 1, 0,  1,  1, -1, -1],\n",
       "[0, 0, 0, 1,  0, b3, -1, -1]])"
      ]
     },
     "metadata": {},
     "output_type": "display_data"
    },
    {
     "data": {
      "text/latex": [
       "$\\displaystyle \\left[\\begin{matrix}1 & 0 & 0 & 0 & 0 & -1 & 0 & 1\\\\0 & 1 & 0 & 0 & -1 & b_{1} & 1 & 2\\\\0 & 0 & 1 & 0 & 1 & - b_{1} - 1 & -1 & -1\\\\0 & 0 & 0 & 1 & 0 & b_{3} & -1 & -1\\end{matrix}\\right]$"
      ],
      "text/plain": [
       "Matrix([\n",
       "[1, 0, 0, 0,  0,      -1,  0,  1],\n",
       "[0, 1, 0, 0, -1,      b1,  1,  2],\n",
       "[0, 0, 1, 0,  1, -b1 - 1, -1, -1],\n",
       "[0, 0, 0, 1,  0,      b3, -1, -1]])"
      ]
     },
     "metadata": {},
     "output_type": "display_data"
    },
    {
     "data": {
      "text/latex": [
       "$\\displaystyle \\text{True}$"
      ],
      "text/plain": [
       "True"
      ]
     },
     "metadata": {},
     "output_type": "display_data"
    }
   ],
   "source": [
    "i, j =5, 10\n",
    "display(fans[i], fans[j])\n",
    "display(sp.Eq(fans[i],fans[j].subs(b1, -2)))\n",
    "fans.remove(fans[i])"
   ]
  },
  {
   "cell_type": "code",
   "execution_count": 176,
   "id": "8420fcb5-c1bc-48e6-9bcb-62ce737233d6",
   "metadata": {},
   "outputs": [
    {
     "data": {
      "text/latex": [
       "$\\displaystyle \\left[\\begin{matrix}1 & 0 & 0 & 0 & 0 & -1 & 0 & 1\\\\0 & 1 & 0 & 0 & -1 & -1 & 1 & 2\\\\0 & 0 & 1 & 0 & 1 & 0 & -1 & -1\\\\0 & 0 & 0 & 1 & 0 & b_{3} & -1 & -1\\end{matrix}\\right]$"
      ],
      "text/plain": [
       "Matrix([\n",
       "[1, 0, 0, 0,  0, -1,  0,  1],\n",
       "[0, 1, 0, 0, -1, -1,  1,  2],\n",
       "[0, 0, 1, 0,  1,  0, -1, -1],\n",
       "[0, 0, 0, 1,  0, b3, -1, -1]])"
      ]
     },
     "metadata": {},
     "output_type": "display_data"
    },
    {
     "data": {
      "text/latex": [
       "$\\displaystyle \\left[\\begin{matrix}1 & 0 & 0 & 0 & 0 & -1 & 0 & 1\\\\0 & 1 & 0 & 0 & -1 & b_{1} & 1 & 2\\\\0 & 0 & 1 & 0 & 1 & - b_{1} - 1 & -1 & -1\\\\0 & 0 & 0 & 1 & 0 & b_{3} & -1 & -1\\end{matrix}\\right]$"
      ],
      "text/plain": [
       "Matrix([\n",
       "[1, 0, 0, 0,  0,      -1,  0,  1],\n",
       "[0, 1, 0, 0, -1,      b1,  1,  2],\n",
       "[0, 0, 1, 0,  1, -b1 - 1, -1, -1],\n",
       "[0, 0, 0, 1,  0,      b3, -1, -1]])"
      ]
     },
     "metadata": {},
     "output_type": "display_data"
    },
    {
     "data": {
      "text/latex": [
       "$\\displaystyle \\text{True}$"
      ],
      "text/plain": [
       "True"
      ]
     },
     "metadata": {},
     "output_type": "display_data"
    }
   ],
   "source": [
    "i, j = 6, 9\n",
    "display(fans[i], fans[j])\n",
    "display(sp.Eq(fans[i],fans[j].subs(b1, -1)))\n",
    "fans.remove(fans[i])"
   ]
  },
  {
   "cell_type": "code",
   "execution_count": 181,
   "id": "ad70ffb5-a2ba-42dd-9fb8-39f62cad5a85",
   "metadata": {},
   "outputs": [
    {
     "data": {
      "text/latex": [
       "$\\displaystyle \\left[\\begin{matrix}1 & 0 & 0 & 0 & 0 & -1 & 0 & 1\\\\0 & 1 & 0 & 0 & -1 & -1 & 0 & 1\\\\0 & 0 & 1 & 0 & 1 & 0 & -1 & -1\\\\0 & 0 & 0 & 1 & a_{3} & a_{3} & -1 & -1\\end{matrix}\\right]$"
      ],
      "text/plain": [
       "Matrix([\n",
       "[1, 0, 0, 0,  0, -1,  0,  1],\n",
       "[0, 1, 0, 0, -1, -1,  0,  1],\n",
       "[0, 0, 1, 0,  1,  0, -1, -1],\n",
       "[0, 0, 0, 1, a3, a3, -1, -1]])"
      ]
     },
     "metadata": {},
     "output_type": "display_data"
    },
    {
     "data": {
      "text/latex": [
       "$\\displaystyle \\left[\\begin{matrix}1 & 0 & 0 & 0 & 0 & -1 & 0 & 1\\\\0 & 1 & 0 & 0 & -1 & -1 & 0 & 1\\\\0 & 0 & 1 & 0 & a_{2} & a_{2} - 1 & -1 & -1\\\\0 & 0 & 0 & 1 & a_{3} & a_{3} & -1 & -1\\end{matrix}\\right]$"
      ],
      "text/plain": [
       "Matrix([\n",
       "[1, 0, 0, 0,  0,     -1,  0,  1],\n",
       "[0, 1, 0, 0, -1,     -1,  0,  1],\n",
       "[0, 0, 1, 0, a2, a2 - 1, -1, -1],\n",
       "[0, 0, 0, 1, a3,     a3, -1, -1]])"
      ]
     },
     "metadata": {},
     "output_type": "display_data"
    },
    {
     "data": {
      "text/latex": [
       "$\\displaystyle \\text{True}$"
      ],
      "text/plain": [
       "True"
      ]
     },
     "metadata": {},
     "output_type": "display_data"
    }
   ],
   "source": [
    "i, j = 6, 12\n",
    "display(fans[i], fans[j])\n",
    "display(sp.Eq(fans[i],fans[j].subs(a2, 1)))\n",
    "fans.remove(fans[i])"
   ]
  },
  {
   "cell_type": "code",
   "execution_count": 186,
   "id": "95f2a27f-a21b-4c17-8fe9-1bb8af0be1d1",
   "metadata": {},
   "outputs": [
    {
     "data": {
      "text/latex": [
       "$\\displaystyle \\left[\\begin{matrix}1 & 0 & 0 & 0 & 0 & -1 & -1 & 0\\\\0 & 1 & 0 & 0 & -1 & -1 & -1 & 0\\\\0 & 0 & 1 & 0 & 1 & 0 & -1 & -1\\\\0 & 0 & 0 & 1 & c_{3} + 1 & c_{3} + 1 & c_{3} & -1\\end{matrix}\\right]$"
      ],
      "text/plain": [
       "Matrix([\n",
       "[1, 0, 0, 0,      0,     -1, -1,  0],\n",
       "[0, 1, 0, 0,     -1,     -1, -1,  0],\n",
       "[0, 0, 1, 0,      1,      0, -1, -1],\n",
       "[0, 0, 0, 1, c3 + 1, c3 + 1, c3, -1]])"
      ]
     },
     "metadata": {},
     "output_type": "display_data"
    },
    {
     "data": {
      "text/latex": [
       "$\\displaystyle \\left[\\begin{matrix}1 & 0 & 0 & 0 & 0 & -1 & -1 & 0\\\\0 & 1 & 0 & 0 & -1 & -1 & -1 & 0\\\\0 & 0 & 1 & 0 & c_{2} + 2 & c_{2} + 1 & c_{2} & -1\\\\0 & 0 & 0 & 1 & c_{3} + 1 & c_{3} + 1 & c_{3} & -1\\end{matrix}\\right]$"
      ],
      "text/plain": [
       "Matrix([\n",
       "[1, 0, 0, 0,      0,     -1, -1,  0],\n",
       "[0, 1, 0, 0,     -1,     -1, -1,  0],\n",
       "[0, 0, 1, 0, c2 + 2, c2 + 1, c2, -1],\n",
       "[0, 0, 0, 1, c3 + 1, c3 + 1, c3, -1]])"
      ]
     },
     "metadata": {},
     "output_type": "display_data"
    },
    {
     "data": {
      "text/latex": [
       "$\\displaystyle \\text{True}$"
      ],
      "text/plain": [
       "True"
      ]
     },
     "metadata": {},
     "output_type": "display_data"
    }
   ],
   "source": [
    "i, j = 6, 8\n",
    "display(fans[i], fans[j])\n",
    "display(sp.Eq(fans[i],fans[j].subs(c2, -1)))\n",
    "fans.remove(fans[i])"
   ]
  },
  {
   "cell_type": "code",
   "execution_count": 196,
   "id": "16652e00-9a04-485a-90ed-7b1d2598c128",
   "metadata": {},
   "outputs": [
    {
     "data": {
      "text/latex": [
       "$\\displaystyle \\left[\\begin{matrix}1 & 0 & 0 & 0 & 0 & -1 & 0 & 1\\\\0 & 1 & 0 & 0 & -1 & -1 & 0 & 1\\\\0 & 0 & 1 & 0 & 2 & 1 & -1 & -1\\\\0 & 0 & 0 & 1 & b_{3} & b_{3} & -1 & -1\\end{matrix}\\right]$"
      ],
      "text/plain": [
       "Matrix([\n",
       "[1, 0, 0, 0,  0, -1,  0,  1],\n",
       "[0, 1, 0, 0, -1, -1,  0,  1],\n",
       "[0, 0, 1, 0,  2,  1, -1, -1],\n",
       "[0, 0, 0, 1, b3, b3, -1, -1]])"
      ]
     },
     "metadata": {},
     "output_type": "display_data"
    },
    {
     "data": {
      "text/latex": [
       "$\\displaystyle \\left[\\begin{matrix}1 & 0 & 0 & 0 & 0 & -1 & 0 & 1\\\\0 & 1 & 0 & 0 & -1 & -1 & 0 & 1\\\\0 & 0 & 1 & 0 & a_{2} & a_{2} - 1 & -1 & -1\\\\0 & 0 & 0 & 1 & a_{3} & a_{3} & -1 & -1\\end{matrix}\\right]$"
      ],
      "text/plain": [
       "Matrix([\n",
       "[1, 0, 0, 0,  0,     -1,  0,  1],\n",
       "[0, 1, 0, 0, -1,     -1,  0,  1],\n",
       "[0, 0, 1, 0, a2, a2 - 1, -1, -1],\n",
       "[0, 0, 0, 1, a3,     a3, -1, -1]])"
      ]
     },
     "metadata": {},
     "output_type": "display_data"
    },
    {
     "data": {
      "text/latex": [
       "$\\displaystyle \\text{True}$"
      ],
      "text/plain": [
       "True"
      ]
     },
     "metadata": {},
     "output_type": "display_data"
    }
   ],
   "source": [
    "i, j = 9, 10\n",
    "display(fans[i], fans[j])\n",
    "display(sp.Eq(fans[i],fans[j].subs(a2, 2)).subs(a3, b3))\n",
    "fans.remove(fans[i])"
   ]
  },
  {
   "cell_type": "markdown",
   "id": "8d2922ee-6998-42a0-9a0e-9e9225a6366a",
   "metadata": {
    "jp-MarkdownHeadingCollapsed": true
   },
   "source": [
    "## list"
   ]
  },
  {
   "cell_type": "code",
   "execution_count": 202,
   "id": "727b38c5-3e62-420c-8a2b-067322fc4137",
   "metadata": {},
   "outputs": [
    {
     "data": {
      "text/latex": [
       "$\\displaystyle \\left[\\begin{matrix}1 & 0 & 0 & 0 & a_{0} & -1 & 0 & 1\\\\0 & 1 & 0 & 0 & -1 & 0 & 1 & 2\\\\0 & 0 & 1 & 0 & a_{2} & -1 & -1 & -1\\\\0 & 0 & 0 & 1 & 0 & 0 & -1 & -1\\end{matrix}\\right]$"
      ],
      "text/plain": [
       "Matrix([\n",
       "[1, 0, 0, 0, a0, -1,  0,  1],\n",
       "[0, 1, 0, 0, -1,  0,  1,  2],\n",
       "[0, 0, 1, 0, a2, -1, -1, -1],\n",
       "[0, 0, 0, 1,  0,  0, -1, -1]])"
      ]
     },
     "metadata": {},
     "output_type": "display_data"
    },
    {
     "data": {
      "text/latex": [
       "$\\displaystyle \\left[\\begin{matrix}1 & 0 & 0 & 0 & 1 & -1 & -1 & 0\\\\0 & 1 & 0 & 0 & -1 & 0 & 1 & 1\\\\0 & 0 & 1 & 0 & 2 & -1 & -2 & -1\\\\0 & 0 & 0 & 1 & 1 & -1 & -2 & -1\\end{matrix}\\right]$"
      ],
      "text/plain": [
       "Matrix([\n",
       "[1, 0, 0, 0,  1, -1, -1,  0],\n",
       "[0, 1, 0, 0, -1,  0,  1,  1],\n",
       "[0, 0, 1, 0,  2, -1, -2, -1],\n",
       "[0, 0, 0, 1,  1, -1, -2, -1]])"
      ]
     },
     "metadata": {},
     "output_type": "display_data"
    },
    {
     "data": {
      "text/latex": [
       "$\\displaystyle \\left[\\begin{matrix}1 & 0 & 0 & 0 & 0 & -1 & -1 & 0\\\\0 & 1 & 0 & 0 & -1 & -2 & -1 & 0\\\\0 & 0 & 1 & 0 & 1 & 1 & 0 & -1\\\\0 & 0 & 0 & 1 & 0 & 0 & -1 & -1\\end{matrix}\\right]$"
      ],
      "text/plain": [
       "Matrix([\n",
       "[1, 0, 0, 0,  0, -1, -1,  0],\n",
       "[0, 1, 0, 0, -1, -2, -1,  0],\n",
       "[0, 0, 1, 0,  1,  1,  0, -1],\n",
       "[0, 0, 0, 1,  0,  0, -1, -1]])"
      ]
     },
     "metadata": {},
     "output_type": "display_data"
    },
    {
     "data": {
      "text/latex": [
       "$\\displaystyle \\left[\\begin{matrix}1 & 0 & 0 & 0 & 0 & -1 & -1 & d_{0}\\\\0 & 1 & 0 & 0 & -1 & -1 & -1 & d_{1}\\\\0 & 0 & 1 & 0 & 2 & 1 & 0 & -1\\\\0 & 0 & 0 & 1 & 1 & 1 & 0 & -1\\end{matrix}\\right]$"
      ],
      "text/plain": [
       "Matrix([\n",
       "[1, 0, 0, 0,  0, -1, -1, d0],\n",
       "[0, 1, 0, 0, -1, -1, -1, d1],\n",
       "[0, 0, 1, 0,  2,  1,  0, -1],\n",
       "[0, 0, 0, 1,  1,  1,  0, -1]])"
      ]
     },
     "metadata": {},
     "output_type": "display_data"
    },
    {
     "data": {
      "text/latex": [
       "$\\displaystyle \\left[\\begin{matrix}1 & 0 & 0 & 0 & 0 & -1 & 0 & 1\\\\0 & 1 & 0 & 0 & -1 & d_{1} - 2 & d_{1} - 1 & d_{1}\\\\0 & 0 & 1 & 0 & 0 & -1 & -1 & -1\\\\0 & 0 & 0 & 1 & 0 & 0 & -1 & -1\\end{matrix}\\right]$"
      ],
      "text/plain": [
       "Matrix([\n",
       "[1, 0, 0, 0,  0,     -1,      0,  1],\n",
       "[0, 1, 0, 0, -1, d1 - 2, d1 - 1, d1],\n",
       "[0, 0, 1, 0,  0,     -1,     -1, -1],\n",
       "[0, 0, 0, 1,  0,      0,     -1, -1]])"
      ]
     },
     "metadata": {},
     "output_type": "display_data"
    },
    {
     "data": {
      "text/latex": [
       "$\\displaystyle \\left[\\begin{matrix}1 & 0 & 0 & 0 & 0 & -1 & d_{0} - 1 & d_{0}\\\\0 & 1 & 0 & 0 & -1 & -1 & d_{1} - 1 & d_{1}\\\\0 & 0 & 1 & 0 & 1 & 0 & -1 & -1\\\\0 & 0 & 0 & 1 & 0 & 0 & -1 & -1\\end{matrix}\\right]$"
      ],
      "text/plain": [
       "Matrix([\n",
       "[1, 0, 0, 0,  0, -1, d0 - 1, d0],\n",
       "[0, 1, 0, 0, -1, -1, d1 - 1, d1],\n",
       "[0, 0, 1, 0,  1,  0,     -1, -1],\n",
       "[0, 0, 0, 1,  0,  0,     -1, -1]])"
      ]
     },
     "metadata": {},
     "output_type": "display_data"
    },
    {
     "data": {
      "text/latex": [
       "$\\displaystyle \\left[\\begin{matrix}1 & 0 & 0 & 0 & 0 & -1 & 0 & 1\\\\0 & 1 & 0 & 0 & -1 & b_{1} & 1 & 2\\\\0 & 0 & 1 & 0 & 1 & - b_{1} - 1 & -1 & -1\\\\0 & 0 & 0 & 1 & 0 & b_{3} & -1 & -1\\end{matrix}\\right]$"
      ],
      "text/plain": [
       "Matrix([\n",
       "[1, 0, 0, 0,  0,      -1,  0,  1],\n",
       "[0, 1, 0, 0, -1,      b1,  1,  2],\n",
       "[0, 0, 1, 0,  1, -b1 - 1, -1, -1],\n",
       "[0, 0, 0, 1,  0,      b3, -1, -1]])"
      ]
     },
     "metadata": {},
     "output_type": "display_data"
    },
    {
     "data": {
      "text/latex": [
       "$\\displaystyle \\left[\\begin{matrix}1 & 0 & 0 & 0 & 0 & -1 & -1 & 0\\\\0 & 1 & 0 & 0 & -1 & -1 & -1 & 0\\\\0 & 0 & 1 & 0 & c_{2} + 2 & c_{2} + 1 & c_{2} & -1\\\\0 & 0 & 0 & 1 & c_{3} + 1 & c_{3} + 1 & c_{3} & -1\\end{matrix}\\right]$"
      ],
      "text/plain": [
       "Matrix([\n",
       "[1, 0, 0, 0,      0,     -1, -1,  0],\n",
       "[0, 1, 0, 0,     -1,     -1, -1,  0],\n",
       "[0, 0, 1, 0, c2 + 2, c2 + 1, c2, -1],\n",
       "[0, 0, 0, 1, c3 + 1, c3 + 1, c3, -1]])"
      ]
     },
     "metadata": {},
     "output_type": "display_data"
    },
    {
     "data": {
      "text/latex": [
       "$\\displaystyle \\left[\\begin{matrix}1 & 0 & 0 & 0 & 0 & -1 & - c_{2} - 1 & 1\\\\0 & 1 & 0 & 0 & -1 & -1 & - c_{2} - 1 & 1\\\\0 & 0 & 1 & 0 & 2 & 1 & c_{2} & -1\\\\0 & 0 & 0 & 1 & 1 & 1 & c_{2} & -1\\end{matrix}\\right]$"
      ],
      "text/plain": [
       "Matrix([\n",
       "[1, 0, 0, 0,  0, -1, -c2 - 1,  1],\n",
       "[0, 1, 0, 0, -1, -1, -c2 - 1,  1],\n",
       "[0, 0, 1, 0,  2,  1,      c2, -1],\n",
       "[0, 0, 0, 1,  1,  1,      c2, -1]])"
      ]
     },
     "metadata": {},
     "output_type": "display_data"
    },
    {
     "data": {
      "text/latex": [
       "$\\displaystyle \\left[\\begin{matrix}1 & 0 & 0 & 0 & 0 & -1 & 0 & 1\\\\0 & 1 & 0 & 0 & -1 & -1 & 0 & 1\\\\0 & 0 & 1 & 0 & a_{2} & a_{2} - 1 & -1 & -1\\\\0 & 0 & 0 & 1 & a_{3} & a_{3} & -1 & -1\\end{matrix}\\right]$"
      ],
      "text/plain": [
       "Matrix([\n",
       "[1, 0, 0, 0,  0,     -1,  0,  1],\n",
       "[0, 1, 0, 0, -1,     -1,  0,  1],\n",
       "[0, 0, 1, 0, a2, a2 - 1, -1, -1],\n",
       "[0, 0, 0, 1, a3,     a3, -1, -1]])"
      ]
     },
     "metadata": {},
     "output_type": "display_data"
    }
   ],
   "source": [
    "for f in fans:\n",
    "    display(f)"
   ]
  },
  {
   "cell_type": "markdown",
   "id": "4537a3eb-904a-45a3-bd8c-e8f96cca5593",
   "metadata": {
    "jp-MarkdownHeadingCollapsed": true
   },
   "source": [
    "# Connections between types"
   ]
  },
  {
   "cell_type": "markdown",
   "id": "3b9253fe-71aa-44a6-8d7e-1fed9cf6e22e",
   "metadata": {
    "jp-MarkdownHeadingCollapsed": true
   },
   "source": [
    "## fan 0"
   ]
  },
  {
   "cell_type": "markdown",
   "id": "fdd8ef00-1879-483a-9b10-9476e02c46aa",
   "metadata": {
    "jp-MarkdownHeadingCollapsed": true
   },
   "source": [
    "### fan 4 ($a_0=0$, $a_2=0$, $d_1=2$)"
   ]
  },
  {
   "cell_type": "code",
   "execution_count": 237,
   "id": "f7ab6a51-aee0-4938-bbad-d4bccff3e7a3",
   "metadata": {},
   "outputs": [
    {
     "data": {
      "text/latex": [
       "$\\displaystyle \\left[\\begin{matrix}1 & 0 & 0 & 0 & a_{0} & -1 & 0 & 1\\\\0 & 1 & 0 & 0 & -1 & 0 & 1 & 2\\\\0 & 0 & 1 & 0 & a_{2} & -1 & -1 & -1\\\\0 & 0 & 0 & 1 & 0 & 0 & -1 & -1\\end{matrix}\\right] = \\left[\\begin{matrix}1 & 0 & 0 & 0 & 0 & -1 & 0 & 1\\\\0 & 1 & 0 & 0 & -1 & d_{1} - 2 & d_{1} - 1 & d_{1}\\\\0 & 0 & 1 & 0 & 0 & -1 & -1 & -1\\\\0 & 0 & 0 & 1 & 0 & 0 & -1 & -1\\end{matrix}\\right]$"
      ],
      "text/plain": [
       "Eq(Matrix([\n",
       "[1, 0, 0, 0, a0, -1,  0,  1],\n",
       "[0, 1, 0, 0, -1,  0,  1,  2],\n",
       "[0, 0, 1, 0, a2, -1, -1, -1],\n",
       "[0, 0, 0, 1,  0,  0, -1, -1]]), Matrix([\n",
       "[1, 0, 0, 0,  0,     -1,      0,  1],\n",
       "[0, 1, 0, 0, -1, d1 - 2, d1 - 1, d1],\n",
       "[0, 0, 1, 0,  0,     -1,     -1, -1],\n",
       "[0, 0, 0, 1,  0,      0,     -1, -1]]))"
      ]
     },
     "metadata": {},
     "output_type": "display_data"
    },
    {
     "data": {
      "text/latex": [
       "$\\displaystyle \\text{True}$"
      ],
      "text/plain": [
       "True"
      ]
     },
     "execution_count": 237,
     "metadata": {},
     "output_type": "execute_result"
    }
   ],
   "source": [
    "i, j = 0, 4\n",
    "display(sp.Eq(fans[i], fans[j], evaluate=False))\n",
    "sp.Eq(fans[i].subs(a0,0).subs(a2,0), fans[j].subs(d1,2))"
   ]
  },
  {
   "cell_type": "markdown",
   "id": "9fc16d0a-057f-4d4a-b495-46e34c5e4e9c",
   "metadata": {
    "jp-MarkdownHeadingCollapsed": true
   },
   "source": [
    "### fan 6 ($a_0=0$, $a_2=1$, $b_1=0$, $b_3=0$)"
   ]
  },
  {
   "cell_type": "code",
   "execution_count": 252,
   "id": "a591ec93-69eb-4b17-be6c-7d5287da2c80",
   "metadata": {},
   "outputs": [
    {
     "data": {
      "text/latex": [
       "$\\displaystyle \\left[\\begin{matrix}1 & 0 & 0 & 0 & a_{0} & -1 & 0 & 1\\\\0 & 1 & 0 & 0 & -1 & 0 & 1 & 2\\\\0 & 0 & 1 & 0 & a_{2} & -1 & -1 & -1\\\\0 & 0 & 0 & 1 & 0 & 0 & -1 & -1\\end{matrix}\\right] = \\left[\\begin{matrix}1 & 0 & 0 & 0 & 0 & -1 & 0 & 1\\\\0 & 1 & 0 & 0 & -1 & b_{1} & 1 & 2\\\\0 & 0 & 1 & 0 & 1 & - b_{1} - 1 & -1 & -1\\\\0 & 0 & 0 & 1 & 0 & b_{3} & -1 & -1\\end{matrix}\\right]$"
      ],
      "text/plain": [
       "Eq(Matrix([\n",
       "[1, 0, 0, 0, a0, -1,  0,  1],\n",
       "[0, 1, 0, 0, -1,  0,  1,  2],\n",
       "[0, 0, 1, 0, a2, -1, -1, -1],\n",
       "[0, 0, 0, 1,  0,  0, -1, -1]]), Matrix([\n",
       "[1, 0, 0, 0,  0,      -1,  0,  1],\n",
       "[0, 1, 0, 0, -1,      b1,  1,  2],\n",
       "[0, 0, 1, 0,  1, -b1 - 1, -1, -1],\n",
       "[0, 0, 0, 1,  0,      b3, -1, -1]]))"
      ]
     },
     "metadata": {},
     "output_type": "display_data"
    },
    {
     "data": {
      "text/latex": [
       "$\\displaystyle \\text{True}$"
      ],
      "text/plain": [
       "True"
      ]
     },
     "execution_count": 252,
     "metadata": {},
     "output_type": "execute_result"
    }
   ],
   "source": [
    "i, j = 0, 6\n",
    "display(sp.Eq(fans[i], fans[j], evaluate=False))\n",
    "sp.Eq(fans[i].subs(a0,0).subs(a2,1), fans[j].subs(b1,0).subs(b3,0))"
   ]
  },
  {
   "cell_type": "markdown",
   "id": "da639791-9ad1-43f5-aa03-4e7b581fca84",
   "metadata": {},
   "source": [
    "## fan 1"
   ]
  },
  {
   "cell_type": "markdown",
   "id": "8f4f6871-5aca-4643-860b-5084e2586a1c",
   "metadata": {},
   "source": [
    "## fan 2"
   ]
  },
  {
   "cell_type": "markdown",
   "id": "82468f00-f77d-42a5-aca8-6729333d1b2f",
   "metadata": {
    "jp-MarkdownHeadingCollapsed": true
   },
   "source": [
    "## fan 3"
   ]
  },
  {
   "cell_type": "markdown",
   "id": "f39517cf-d855-431c-b2bf-d0f6306af634",
   "metadata": {
    "jp-MarkdownHeadingCollapsed": true
   },
   "source": [
    "### fan 7 ($c_2=0$, $c_3=0$, $d_0=0$, $d_1=0$)"
   ]
  },
  {
   "cell_type": "code",
   "execution_count": 281,
   "id": "015495f3-f09c-48b0-954f-e9938e142a55",
   "metadata": {},
   "outputs": [
    {
     "data": {
      "text/latex": [
       "$\\displaystyle \\left[\\begin{matrix}1 & 0 & 0 & 0 & 0 & -1 & -1 & d_{0}\\\\0 & 1 & 0 & 0 & -1 & -1 & -1 & d_{1}\\\\0 & 0 & 1 & 0 & 2 & 1 & 0 & -1\\\\0 & 0 & 0 & 1 & 1 & 1 & 0 & -1\\end{matrix}\\right] = \\left[\\begin{matrix}1 & 0 & 0 & 0 & 0 & -1 & -1 & 0\\\\0 & 1 & 0 & 0 & -1 & -1 & -1 & 0\\\\0 & 0 & 1 & 0 & c_{2} + 2 & c_{2} + 1 & c_{2} & -1\\\\0 & 0 & 0 & 1 & c_{3} + 1 & c_{3} + 1 & c_{3} & -1\\end{matrix}\\right]$"
      ],
      "text/plain": [
       "Eq(Matrix([\n",
       "[1, 0, 0, 0,  0, -1, -1, d0],\n",
       "[0, 1, 0, 0, -1, -1, -1, d1],\n",
       "[0, 0, 1, 0,  2,  1,  0, -1],\n",
       "[0, 0, 0, 1,  1,  1,  0, -1]]), Matrix([\n",
       "[1, 0, 0, 0,      0,     -1, -1,  0],\n",
       "[0, 1, 0, 0,     -1,     -1, -1,  0],\n",
       "[0, 0, 1, 0, c2 + 2, c2 + 1, c2, -1],\n",
       "[0, 0, 0, 1, c3 + 1, c3 + 1, c3, -1]]))"
      ]
     },
     "metadata": {},
     "output_type": "display_data"
    },
    {
     "data": {
      "text/latex": [
       "$\\displaystyle \\text{True}$"
      ],
      "text/plain": [
       "True"
      ]
     },
     "execution_count": 281,
     "metadata": {},
     "output_type": "execute_result"
    }
   ],
   "source": [
    "i, j = 3, 7\n",
    "display(sp.Eq(fans[i], fans[j], evaluate=False))\n",
    "sp.Eq(fans[i].subs(d0,0).subs(d1,0), fans[j].subs(c2,0).subs(c3,0))"
   ]
  },
  {
   "cell_type": "markdown",
   "id": "49e7bc89-1bb4-480d-85fa-de359a092eb6",
   "metadata": {
    "jp-MarkdownHeadingCollapsed": true
   },
   "source": [
    "### fan 8 ($c_2=0$, $d_0=1$, $d_1=1$)"
   ]
  },
  {
   "cell_type": "code",
   "execution_count": 283,
   "id": "33c4ff35-fd1b-4908-ba8c-90c19f73072a",
   "metadata": {},
   "outputs": [
    {
     "data": {
      "text/latex": [
       "$\\displaystyle \\left[\\begin{matrix}1 & 0 & 0 & 0 & 0 & -1 & -1 & d_{0}\\\\0 & 1 & 0 & 0 & -1 & -1 & -1 & d_{1}\\\\0 & 0 & 1 & 0 & 2 & 1 & 0 & -1\\\\0 & 0 & 0 & 1 & 1 & 1 & 0 & -1\\end{matrix}\\right] = \\left[\\begin{matrix}1 & 0 & 0 & 0 & 0 & -1 & - c_{2} - 1 & 1\\\\0 & 1 & 0 & 0 & -1 & -1 & - c_{2} - 1 & 1\\\\0 & 0 & 1 & 0 & 2 & 1 & c_{2} & -1\\\\0 & 0 & 0 & 1 & 1 & 1 & c_{2} & -1\\end{matrix}\\right]$"
      ],
      "text/plain": [
       "Eq(Matrix([\n",
       "[1, 0, 0, 0,  0, -1, -1, d0],\n",
       "[0, 1, 0, 0, -1, -1, -1, d1],\n",
       "[0, 0, 1, 0,  2,  1,  0, -1],\n",
       "[0, 0, 0, 1,  1,  1,  0, -1]]), Matrix([\n",
       "[1, 0, 0, 0,  0, -1, -c2 - 1,  1],\n",
       "[0, 1, 0, 0, -1, -1, -c2 - 1,  1],\n",
       "[0, 0, 1, 0,  2,  1,      c2, -1],\n",
       "[0, 0, 0, 1,  1,  1,      c2, -1]]))"
      ]
     },
     "metadata": {},
     "output_type": "display_data"
    },
    {
     "data": {
      "text/latex": [
       "$\\displaystyle \\text{True}$"
      ],
      "text/plain": [
       "True"
      ]
     },
     "execution_count": 283,
     "metadata": {},
     "output_type": "execute_result"
    }
   ],
   "source": [
    "i, j = 3, 8\n",
    "display(sp.Eq(fans[i], fans[j], evaluate=False))\n",
    "sp.Eq(fans[i].subs(d0,1).subs(d1,1), fans[j].subs(c2,0))"
   ]
  },
  {
   "cell_type": "markdown",
   "id": "77b6632d-1912-4713-84cb-a85d6d3b1d6e",
   "metadata": {
    "jp-MarkdownHeadingCollapsed": true
   },
   "source": [
    "## fan 4"
   ]
  },
  {
   "cell_type": "markdown",
   "id": "c308c239-d695-4d15-8289-9252931cecd7",
   "metadata": {
    "jp-MarkdownHeadingCollapsed": true
   },
   "source": [
    "### fan 0 ($a_0=0$, $a_2=0$, $d_1=2$)"
   ]
  },
  {
   "cell_type": "code",
   "execution_count": 237,
   "id": "e8d30450-2fd4-49c9-bb24-9cb0a1e3ce21",
   "metadata": {},
   "outputs": [
    {
     "data": {
      "text/latex": [
       "$\\displaystyle \\left[\\begin{matrix}1 & 0 & 0 & 0 & a_{0} & -1 & 0 & 1\\\\0 & 1 & 0 & 0 & -1 & 0 & 1 & 2\\\\0 & 0 & 1 & 0 & a_{2} & -1 & -1 & -1\\\\0 & 0 & 0 & 1 & 0 & 0 & -1 & -1\\end{matrix}\\right] = \\left[\\begin{matrix}1 & 0 & 0 & 0 & 0 & -1 & 0 & 1\\\\0 & 1 & 0 & 0 & -1 & d_{1} - 2 & d_{1} - 1 & d_{1}\\\\0 & 0 & 1 & 0 & 0 & -1 & -1 & -1\\\\0 & 0 & 0 & 1 & 0 & 0 & -1 & -1\\end{matrix}\\right]$"
      ],
      "text/plain": [
       "Eq(Matrix([\n",
       "[1, 0, 0, 0, a0, -1,  0,  1],\n",
       "[0, 1, 0, 0, -1,  0,  1,  2],\n",
       "[0, 0, 1, 0, a2, -1, -1, -1],\n",
       "[0, 0, 0, 1,  0,  0, -1, -1]]), Matrix([\n",
       "[1, 0, 0, 0,  0,     -1,      0,  1],\n",
       "[0, 1, 0, 0, -1, d1 - 2, d1 - 1, d1],\n",
       "[0, 0, 1, 0,  0,     -1,     -1, -1],\n",
       "[0, 0, 0, 1,  0,      0,     -1, -1]]))"
      ]
     },
     "metadata": {},
     "output_type": "display_data"
    },
    {
     "data": {
      "text/latex": [
       "$\\displaystyle \\text{True}$"
      ],
      "text/plain": [
       "True"
      ]
     },
     "execution_count": 237,
     "metadata": {},
     "output_type": "execute_result"
    }
   ],
   "source": [
    "i, j = 0, 4\n",
    "display(sp.Eq(fans[i], fans[j], evaluate=False))\n",
    "sp.Eq(fans[i].subs(a0,0).subs(a2,0), fans[j].subs(d1,2))"
   ]
  },
  {
   "cell_type": "markdown",
   "id": "c0bfd340-7762-4e47-9ec9-8cb8872ed813",
   "metadata": {
    "jp-MarkdownHeadingCollapsed": true
   },
   "source": [
    "### fan 9 ($a_2=0$, $a_3=0$, $d_1=1$)"
   ]
  },
  {
   "cell_type": "code",
   "execution_count": 286,
   "id": "1cdf26c5-eb6c-4f13-922f-a96f337bbed9",
   "metadata": {},
   "outputs": [
    {
     "data": {
      "text/latex": [
       "$\\displaystyle \\left[\\begin{matrix}1 & 0 & 0 & 0 & 0 & -1 & 0 & 1\\\\0 & 1 & 0 & 0 & -1 & d_{1} - 2 & d_{1} - 1 & d_{1}\\\\0 & 0 & 1 & 0 & 0 & -1 & -1 & -1\\\\0 & 0 & 0 & 1 & 0 & 0 & -1 & -1\\end{matrix}\\right] = \\left[\\begin{matrix}1 & 0 & 0 & 0 & 0 & -1 & 0 & 1\\\\0 & 1 & 0 & 0 & -1 & -1 & 0 & 1\\\\0 & 0 & 1 & 0 & a_{2} & a_{2} - 1 & -1 & -1\\\\0 & 0 & 0 & 1 & a_{3} & a_{3} & -1 & -1\\end{matrix}\\right]$"
      ],
      "text/plain": [
       "Eq(Matrix([\n",
       "[1, 0, 0, 0,  0,     -1,      0,  1],\n",
       "[0, 1, 0, 0, -1, d1 - 2, d1 - 1, d1],\n",
       "[0, 0, 1, 0,  0,     -1,     -1, -1],\n",
       "[0, 0, 0, 1,  0,      0,     -1, -1]]), Matrix([\n",
       "[1, 0, 0, 0,  0,     -1,  0,  1],\n",
       "[0, 1, 0, 0, -1,     -1,  0,  1],\n",
       "[0, 0, 1, 0, a2, a2 - 1, -1, -1],\n",
       "[0, 0, 0, 1, a3,     a3, -1, -1]]))"
      ]
     },
     "metadata": {},
     "output_type": "display_data"
    },
    {
     "data": {
      "text/latex": [
       "$\\displaystyle \\text{True}$"
      ],
      "text/plain": [
       "True"
      ]
     },
     "execution_count": 286,
     "metadata": {},
     "output_type": "execute_result"
    }
   ],
   "source": [
    "i, j = 4, 9\n",
    "display(sp.Eq(fans[i], fans[j], evaluate=False))\n",
    "sp.Eq(fans[i].subs(d1,1), fans[j].subs(a2,0).subs(a3,0))"
   ]
  },
  {
   "cell_type": "markdown",
   "id": "d93ef25d-4ba9-4f51-aec0-742cfc814001",
   "metadata": {
    "jp-MarkdownHeadingCollapsed": true
   },
   "source": [
    "## fan 5"
   ]
  },
  {
   "cell_type": "markdown",
   "id": "eb529219-ea2f-42a4-a8df-b50570b7cea3",
   "metadata": {
    "jp-MarkdownHeadingCollapsed": true
   },
   "source": [
    "### fan 6 ($b_1=-1$, $b_3=0$, $d_0=1$, $d_1=2$)"
   ]
  },
  {
   "cell_type": "code",
   "execution_count": 288,
   "id": "be393ef5-914e-471f-8ef0-0fbc3f299de5",
   "metadata": {},
   "outputs": [
    {
     "data": {
      "text/latex": [
       "$\\displaystyle \\left[\\begin{matrix}1 & 0 & 0 & 0 & 0 & -1 & d_{0} - 1 & d_{0}\\\\0 & 1 & 0 & 0 & -1 & -1 & d_{1} - 1 & d_{1}\\\\0 & 0 & 1 & 0 & 1 & 0 & -1 & -1\\\\0 & 0 & 0 & 1 & 0 & 0 & -1 & -1\\end{matrix}\\right] = \\left[\\begin{matrix}1 & 0 & 0 & 0 & 0 & -1 & 0 & 1\\\\0 & 1 & 0 & 0 & -1 & b_{1} & 1 & 2\\\\0 & 0 & 1 & 0 & 1 & - b_{1} - 1 & -1 & -1\\\\0 & 0 & 0 & 1 & 0 & b_{3} & -1 & -1\\end{matrix}\\right]$"
      ],
      "text/plain": [
       "Eq(Matrix([\n",
       "[1, 0, 0, 0,  0, -1, d0 - 1, d0],\n",
       "[0, 1, 0, 0, -1, -1, d1 - 1, d1],\n",
       "[0, 0, 1, 0,  1,  0,     -1, -1],\n",
       "[0, 0, 0, 1,  0,  0,     -1, -1]]), Matrix([\n",
       "[1, 0, 0, 0,  0,      -1,  0,  1],\n",
       "[0, 1, 0, 0, -1,      b1,  1,  2],\n",
       "[0, 0, 1, 0,  1, -b1 - 1, -1, -1],\n",
       "[0, 0, 0, 1,  0,      b3, -1, -1]]))"
      ]
     },
     "metadata": {},
     "output_type": "display_data"
    },
    {
     "data": {
      "text/latex": [
       "$\\displaystyle \\text{True}$"
      ],
      "text/plain": [
       "True"
      ]
     },
     "execution_count": 288,
     "metadata": {},
     "output_type": "execute_result"
    }
   ],
   "source": [
    "i, j = 5, 6\n",
    "display(sp.Eq(fans[i], fans[j], evaluate=False))\n",
    "sp.Eq(fans[i].subs(d0,1).subs(d1,2), fans[j].subs(b1,-1).subs(b3,0))"
   ]
  },
  {
   "cell_type": "markdown",
   "id": "ed39fb1e-ef48-4e16-9964-199eba183994",
   "metadata": {
    "jp-MarkdownHeadingCollapsed": true
   },
   "source": [
    "### fan 7 ($c_2=-1$, $c_3=-1$, $d_0=0$, $d_1=0$)"
   ]
  },
  {
   "cell_type": "code",
   "execution_count": 292,
   "id": "70142883-ce5f-4268-909d-ac9f80b3b80c",
   "metadata": {},
   "outputs": [
    {
     "data": {
      "text/latex": [
       "$\\displaystyle \\left[\\begin{matrix}1 & 0 & 0 & 0 & 0 & -1 & d_{0} - 1 & d_{0}\\\\0 & 1 & 0 & 0 & -1 & -1 & d_{1} - 1 & d_{1}\\\\0 & 0 & 1 & 0 & 1 & 0 & -1 & -1\\\\0 & 0 & 0 & 1 & 0 & 0 & -1 & -1\\end{matrix}\\right] = \\left[\\begin{matrix}1 & 0 & 0 & 0 & 0 & -1 & -1 & 0\\\\0 & 1 & 0 & 0 & -1 & -1 & -1 & 0\\\\0 & 0 & 1 & 0 & c_{2} + 2 & c_{2} + 1 & c_{2} & -1\\\\0 & 0 & 0 & 1 & c_{3} + 1 & c_{3} + 1 & c_{3} & -1\\end{matrix}\\right]$"
      ],
      "text/plain": [
       "Eq(Matrix([\n",
       "[1, 0, 0, 0,  0, -1, d0 - 1, d0],\n",
       "[0, 1, 0, 0, -1, -1, d1 - 1, d1],\n",
       "[0, 0, 1, 0,  1,  0,     -1, -1],\n",
       "[0, 0, 0, 1,  0,  0,     -1, -1]]), Matrix([\n",
       "[1, 0, 0, 0,      0,     -1, -1,  0],\n",
       "[0, 1, 0, 0,     -1,     -1, -1,  0],\n",
       "[0, 0, 1, 0, c2 + 2, c2 + 1, c2, -1],\n",
       "[0, 0, 0, 1, c3 + 1, c3 + 1, c3, -1]]))"
      ]
     },
     "metadata": {},
     "output_type": "display_data"
    },
    {
     "data": {
      "text/latex": [
       "$\\displaystyle \\text{True}$"
      ],
      "text/plain": [
       "True"
      ]
     },
     "execution_count": 292,
     "metadata": {},
     "output_type": "execute_result"
    }
   ],
   "source": [
    "i, j = 5, 7\n",
    "display(sp.Eq(fans[i], fans[j], evaluate=False))\n",
    "sp.Eq(fans[i].subs(d0,0).subs(d1,0), fans[j].subs(c2,-1).subs(c3,-1))"
   ]
  },
  {
   "cell_type": "markdown",
   "id": "a95ffe2b-a738-4854-84fb-cc61a51085cd",
   "metadata": {
    "jp-MarkdownHeadingCollapsed": true
   },
   "source": [
    "### fan 9 ($a_2=1$, $a_3=0$, $d_0=1$, $d_1=1$)"
   ]
  },
  {
   "cell_type": "code",
   "execution_count": 294,
   "id": "5d7d1bf0-3b8c-460e-a675-2eb0085499b2",
   "metadata": {},
   "outputs": [
    {
     "data": {
      "text/latex": [
       "$\\displaystyle \\left[\\begin{matrix}1 & 0 & 0 & 0 & 0 & -1 & d_{0} - 1 & d_{0}\\\\0 & 1 & 0 & 0 & -1 & -1 & d_{1} - 1 & d_{1}\\\\0 & 0 & 1 & 0 & 1 & 0 & -1 & -1\\\\0 & 0 & 0 & 1 & 0 & 0 & -1 & -1\\end{matrix}\\right] = \\left[\\begin{matrix}1 & 0 & 0 & 0 & 0 & -1 & 0 & 1\\\\0 & 1 & 0 & 0 & -1 & -1 & 0 & 1\\\\0 & 0 & 1 & 0 & a_{2} & a_{2} - 1 & -1 & -1\\\\0 & 0 & 0 & 1 & a_{3} & a_{3} & -1 & -1\\end{matrix}\\right]$"
      ],
      "text/plain": [
       "Eq(Matrix([\n",
       "[1, 0, 0, 0,  0, -1, d0 - 1, d0],\n",
       "[0, 1, 0, 0, -1, -1, d1 - 1, d1],\n",
       "[0, 0, 1, 0,  1,  0,     -1, -1],\n",
       "[0, 0, 0, 1,  0,  0,     -1, -1]]), Matrix([\n",
       "[1, 0, 0, 0,  0,     -1,  0,  1],\n",
       "[0, 1, 0, 0, -1,     -1,  0,  1],\n",
       "[0, 0, 1, 0, a2, a2 - 1, -1, -1],\n",
       "[0, 0, 0, 1, a3,     a3, -1, -1]]))"
      ]
     },
     "metadata": {},
     "output_type": "display_data"
    },
    {
     "data": {
      "text/latex": [
       "$\\displaystyle \\text{True}$"
      ],
      "text/plain": [
       "True"
      ]
     },
     "execution_count": 294,
     "metadata": {},
     "output_type": "execute_result"
    }
   ],
   "source": [
    "i, j = 5, 9\n",
    "display(sp.Eq(fans[i], fans[j], evaluate=False))\n",
    "sp.Eq(fans[i].subs(d0,1).subs(d1,1), fans[j].subs(a2,1).subs(a3,0))"
   ]
  },
  {
   "cell_type": "markdown",
   "id": "fa2462b2-6307-4834-a4e4-2093205e0867",
   "metadata": {
    "jp-MarkdownHeadingCollapsed": true
   },
   "source": [
    "## fan 6"
   ]
  },
  {
   "cell_type": "markdown",
   "id": "8f51ceda-ab0d-48bf-a2df-af6e35fedefe",
   "metadata": {
    "jp-MarkdownHeadingCollapsed": true
   },
   "source": [
    "### fan 0 ($a_0=0$, $a_2=1$, $b_1=0$, $b_3=0$)"
   ]
  },
  {
   "cell_type": "code",
   "execution_count": 252,
   "id": "724ca718-4ffe-4d57-8462-4474687ce8b7",
   "metadata": {},
   "outputs": [
    {
     "data": {
      "text/latex": [
       "$\\displaystyle \\left[\\begin{matrix}1 & 0 & 0 & 0 & a_{0} & -1 & 0 & 1\\\\0 & 1 & 0 & 0 & -1 & 0 & 1 & 2\\\\0 & 0 & 1 & 0 & a_{2} & -1 & -1 & -1\\\\0 & 0 & 0 & 1 & 0 & 0 & -1 & -1\\end{matrix}\\right] = \\left[\\begin{matrix}1 & 0 & 0 & 0 & 0 & -1 & 0 & 1\\\\0 & 1 & 0 & 0 & -1 & b_{1} & 1 & 2\\\\0 & 0 & 1 & 0 & 1 & - b_{1} - 1 & -1 & -1\\\\0 & 0 & 0 & 1 & 0 & b_{3} & -1 & -1\\end{matrix}\\right]$"
      ],
      "text/plain": [
       "Eq(Matrix([\n",
       "[1, 0, 0, 0, a0, -1,  0,  1],\n",
       "[0, 1, 0, 0, -1,  0,  1,  2],\n",
       "[0, 0, 1, 0, a2, -1, -1, -1],\n",
       "[0, 0, 0, 1,  0,  0, -1, -1]]), Matrix([\n",
       "[1, 0, 0, 0,  0,      -1,  0,  1],\n",
       "[0, 1, 0, 0, -1,      b1,  1,  2],\n",
       "[0, 0, 1, 0,  1, -b1 - 1, -1, -1],\n",
       "[0, 0, 0, 1,  0,      b3, -1, -1]]))"
      ]
     },
     "metadata": {},
     "output_type": "display_data"
    },
    {
     "data": {
      "text/latex": [
       "$\\displaystyle \\text{True}$"
      ],
      "text/plain": [
       "True"
      ]
     },
     "execution_count": 252,
     "metadata": {},
     "output_type": "execute_result"
    }
   ],
   "source": [
    "i, j = 0, 6\n",
    "display(sp.Eq(fans[i], fans[j], evaluate=False))\n",
    "sp.Eq(fans[i].subs(a0,0).subs(a2,1), fans[j].subs(b1,0).subs(b3,0))"
   ]
  },
  {
   "cell_type": "markdown",
   "id": "a197b4f9-c660-4201-ab95-61de55fcfc51",
   "metadata": {
    "jp-MarkdownHeadingCollapsed": true
   },
   "source": [
    "### fan 5 ($b_1=-1$, $b_3=0$, $d_0=1$, $d_1=2$)"
   ]
  },
  {
   "cell_type": "code",
   "execution_count": 288,
   "id": "90d0998b-3070-41d3-8256-0e8fac546311",
   "metadata": {},
   "outputs": [
    {
     "data": {
      "text/latex": [
       "$\\displaystyle \\left[\\begin{matrix}1 & 0 & 0 & 0 & 0 & -1 & d_{0} - 1 & d_{0}\\\\0 & 1 & 0 & 0 & -1 & -1 & d_{1} - 1 & d_{1}\\\\0 & 0 & 1 & 0 & 1 & 0 & -1 & -1\\\\0 & 0 & 0 & 1 & 0 & 0 & -1 & -1\\end{matrix}\\right] = \\left[\\begin{matrix}1 & 0 & 0 & 0 & 0 & -1 & 0 & 1\\\\0 & 1 & 0 & 0 & -1 & b_{1} & 1 & 2\\\\0 & 0 & 1 & 0 & 1 & - b_{1} - 1 & -1 & -1\\\\0 & 0 & 0 & 1 & 0 & b_{3} & -1 & -1\\end{matrix}\\right]$"
      ],
      "text/plain": [
       "Eq(Matrix([\n",
       "[1, 0, 0, 0,  0, -1, d0 - 1, d0],\n",
       "[0, 1, 0, 0, -1, -1, d1 - 1, d1],\n",
       "[0, 0, 1, 0,  1,  0,     -1, -1],\n",
       "[0, 0, 0, 1,  0,  0,     -1, -1]]), Matrix([\n",
       "[1, 0, 0, 0,  0,      -1,  0,  1],\n",
       "[0, 1, 0, 0, -1,      b1,  1,  2],\n",
       "[0, 0, 1, 0,  1, -b1 - 1, -1, -1],\n",
       "[0, 0, 0, 1,  0,      b3, -1, -1]]))"
      ]
     },
     "metadata": {},
     "output_type": "display_data"
    },
    {
     "data": {
      "text/latex": [
       "$\\displaystyle \\text{True}$"
      ],
      "text/plain": [
       "True"
      ]
     },
     "execution_count": 288,
     "metadata": {},
     "output_type": "execute_result"
    }
   ],
   "source": [
    "i, j = 5, 6\n",
    "display(sp.Eq(fans[i], fans[j], evaluate=False))\n",
    "sp.Eq(fans[i].subs(d0,1).subs(d1,2), fans[j].subs(b1,-1).subs(b3,0))"
   ]
  },
  {
   "cell_type": "markdown",
   "id": "f67854e7-c63a-4f1e-8f54-c869bfcf596f",
   "metadata": {
    "jp-MarkdownHeadingCollapsed": true
   },
   "source": [
    "## fan 7"
   ]
  },
  {
   "cell_type": "markdown",
   "id": "630c9dbb-e092-4ccd-b3f1-92c6abcd9c47",
   "metadata": {
    "jp-MarkdownHeadingCollapsed": true
   },
   "source": [
    "### fan 3 ($c_2=0$, $c_3=0$, $d_0=0$, $d_1=0$)"
   ]
  },
  {
   "cell_type": "code",
   "execution_count": 281,
   "id": "d2fc499c-713b-49cf-96ad-a35e8192d49b",
   "metadata": {},
   "outputs": [
    {
     "data": {
      "text/latex": [
       "$\\displaystyle \\left[\\begin{matrix}1 & 0 & 0 & 0 & 0 & -1 & -1 & d_{0}\\\\0 & 1 & 0 & 0 & -1 & -1 & -1 & d_{1}\\\\0 & 0 & 1 & 0 & 2 & 1 & 0 & -1\\\\0 & 0 & 0 & 1 & 1 & 1 & 0 & -1\\end{matrix}\\right] = \\left[\\begin{matrix}1 & 0 & 0 & 0 & 0 & -1 & -1 & 0\\\\0 & 1 & 0 & 0 & -1 & -1 & -1 & 0\\\\0 & 0 & 1 & 0 & c_{2} + 2 & c_{2} + 1 & c_{2} & -1\\\\0 & 0 & 0 & 1 & c_{3} + 1 & c_{3} + 1 & c_{3} & -1\\end{matrix}\\right]$"
      ],
      "text/plain": [
       "Eq(Matrix([\n",
       "[1, 0, 0, 0,  0, -1, -1, d0],\n",
       "[0, 1, 0, 0, -1, -1, -1, d1],\n",
       "[0, 0, 1, 0,  2,  1,  0, -1],\n",
       "[0, 0, 0, 1,  1,  1,  0, -1]]), Matrix([\n",
       "[1, 0, 0, 0,      0,     -1, -1,  0],\n",
       "[0, 1, 0, 0,     -1,     -1, -1,  0],\n",
       "[0, 0, 1, 0, c2 + 2, c2 + 1, c2, -1],\n",
       "[0, 0, 0, 1, c3 + 1, c3 + 1, c3, -1]]))"
      ]
     },
     "metadata": {},
     "output_type": "display_data"
    },
    {
     "data": {
      "text/latex": [
       "$\\displaystyle \\text{True}$"
      ],
      "text/plain": [
       "True"
      ]
     },
     "execution_count": 281,
     "metadata": {},
     "output_type": "execute_result"
    }
   ],
   "source": [
    "i, j = 3, 7\n",
    "display(sp.Eq(fans[i], fans[j], evaluate=False))\n",
    "sp.Eq(fans[i].subs(d0,0).subs(d1,0), fans[j].subs(c2,0).subs(c3,0))"
   ]
  },
  {
   "cell_type": "markdown",
   "id": "dcb046fd-bcbe-4a1e-aaff-fc6859e76063",
   "metadata": {
    "jp-MarkdownHeadingCollapsed": true
   },
   "source": [
    "### fan 5 ($c_2=-1$, $c_3=-1$, $d_0=0$, $d_1=0$)"
   ]
  },
  {
   "cell_type": "code",
   "execution_count": 292,
   "id": "fa12db4b-9596-40ba-8306-d79397c4fe05",
   "metadata": {},
   "outputs": [
    {
     "data": {
      "text/latex": [
       "$\\displaystyle \\left[\\begin{matrix}1 & 0 & 0 & 0 & 0 & -1 & d_{0} - 1 & d_{0}\\\\0 & 1 & 0 & 0 & -1 & -1 & d_{1} - 1 & d_{1}\\\\0 & 0 & 1 & 0 & 1 & 0 & -1 & -1\\\\0 & 0 & 0 & 1 & 0 & 0 & -1 & -1\\end{matrix}\\right] = \\left[\\begin{matrix}1 & 0 & 0 & 0 & 0 & -1 & -1 & 0\\\\0 & 1 & 0 & 0 & -1 & -1 & -1 & 0\\\\0 & 0 & 1 & 0 & c_{2} + 2 & c_{2} + 1 & c_{2} & -1\\\\0 & 0 & 0 & 1 & c_{3} + 1 & c_{3} + 1 & c_{3} & -1\\end{matrix}\\right]$"
      ],
      "text/plain": [
       "Eq(Matrix([\n",
       "[1, 0, 0, 0,  0, -1, d0 - 1, d0],\n",
       "[0, 1, 0, 0, -1, -1, d1 - 1, d1],\n",
       "[0, 0, 1, 0,  1,  0,     -1, -1],\n",
       "[0, 0, 0, 1,  0,  0,     -1, -1]]), Matrix([\n",
       "[1, 0, 0, 0,      0,     -1, -1,  0],\n",
       "[0, 1, 0, 0,     -1,     -1, -1,  0],\n",
       "[0, 0, 1, 0, c2 + 2, c2 + 1, c2, -1],\n",
       "[0, 0, 0, 1, c3 + 1, c3 + 1, c3, -1]]))"
      ]
     },
     "metadata": {},
     "output_type": "display_data"
    },
    {
     "data": {
      "text/latex": [
       "$\\displaystyle \\text{True}$"
      ],
      "text/plain": [
       "True"
      ]
     },
     "execution_count": 292,
     "metadata": {},
     "output_type": "execute_result"
    }
   ],
   "source": [
    "i, j = 5, 7\n",
    "display(sp.Eq(fans[i], fans[j], evaluate=False))\n",
    "sp.Eq(fans[i].subs(d0,0).subs(d1,0), fans[j].subs(c2,-1).subs(c3,-1))"
   ]
  },
  {
   "cell_type": "markdown",
   "id": "75821b42-1ffe-43bb-aeb8-056de95d9059",
   "metadata": {
    "jp-MarkdownHeadingCollapsed": true
   },
   "source": [
    "## fan 8"
   ]
  },
  {
   "cell_type": "markdown",
   "id": "9f5ef148-1d34-498a-a03a-5cd59afb4629",
   "metadata": {
    "jp-MarkdownHeadingCollapsed": true
   },
   "source": [
    "### fan 3 ($c_2=0$, $d_0=1$, $d_1=1$)"
   ]
  },
  {
   "cell_type": "code",
   "execution_count": 283,
   "id": "e88ef4ef-09f6-4404-b810-de10a1acbbeb",
   "metadata": {},
   "outputs": [
    {
     "data": {
      "text/latex": [
       "$\\displaystyle \\left[\\begin{matrix}1 & 0 & 0 & 0 & 0 & -1 & -1 & d_{0}\\\\0 & 1 & 0 & 0 & -1 & -1 & -1 & d_{1}\\\\0 & 0 & 1 & 0 & 2 & 1 & 0 & -1\\\\0 & 0 & 0 & 1 & 1 & 1 & 0 & -1\\end{matrix}\\right] = \\left[\\begin{matrix}1 & 0 & 0 & 0 & 0 & -1 & - c_{2} - 1 & 1\\\\0 & 1 & 0 & 0 & -1 & -1 & - c_{2} - 1 & 1\\\\0 & 0 & 1 & 0 & 2 & 1 & c_{2} & -1\\\\0 & 0 & 0 & 1 & 1 & 1 & c_{2} & -1\\end{matrix}\\right]$"
      ],
      "text/plain": [
       "Eq(Matrix([\n",
       "[1, 0, 0, 0,  0, -1, -1, d0],\n",
       "[0, 1, 0, 0, -1, -1, -1, d1],\n",
       "[0, 0, 1, 0,  2,  1,  0, -1],\n",
       "[0, 0, 0, 1,  1,  1,  0, -1]]), Matrix([\n",
       "[1, 0, 0, 0,  0, -1, -c2 - 1,  1],\n",
       "[0, 1, 0, 0, -1, -1, -c2 - 1,  1],\n",
       "[0, 0, 1, 0,  2,  1,      c2, -1],\n",
       "[0, 0, 0, 1,  1,  1,      c2, -1]]))"
      ]
     },
     "metadata": {},
     "output_type": "display_data"
    },
    {
     "data": {
      "text/latex": [
       "$\\displaystyle \\text{True}$"
      ],
      "text/plain": [
       "True"
      ]
     },
     "execution_count": 283,
     "metadata": {},
     "output_type": "execute_result"
    }
   ],
   "source": [
    "i, j = 3, 8\n",
    "display(sp.Eq(fans[i], fans[j], evaluate=False))\n",
    "sp.Eq(fans[i].subs(d0,1).subs(d1,1), fans[j].subs(c2,0))"
   ]
  },
  {
   "cell_type": "markdown",
   "id": "c26acf0c-1b7b-4900-83db-64f1d9f4ffa0",
   "metadata": {
    "jp-MarkdownHeadingCollapsed": true
   },
   "source": [
    "### fan 9 ($a_2=2$, $a_3=1$, $c_2=-1$)"
   ]
  },
  {
   "cell_type": "code",
   "execution_count": 296,
   "id": "6eb994be-7ad1-4533-8ae0-8ea55e2588c1",
   "metadata": {},
   "outputs": [
    {
     "data": {
      "text/latex": [
       "$\\displaystyle \\left[\\begin{matrix}1 & 0 & 0 & 0 & 0 & -1 & - c_{2} - 1 & 1\\\\0 & 1 & 0 & 0 & -1 & -1 & - c_{2} - 1 & 1\\\\0 & 0 & 1 & 0 & 2 & 1 & c_{2} & -1\\\\0 & 0 & 0 & 1 & 1 & 1 & c_{2} & -1\\end{matrix}\\right] = \\left[\\begin{matrix}1 & 0 & 0 & 0 & 0 & -1 & 0 & 1\\\\0 & 1 & 0 & 0 & -1 & -1 & 0 & 1\\\\0 & 0 & 1 & 0 & a_{2} & a_{2} - 1 & -1 & -1\\\\0 & 0 & 0 & 1 & a_{3} & a_{3} & -1 & -1\\end{matrix}\\right]$"
      ],
      "text/plain": [
       "Eq(Matrix([\n",
       "[1, 0, 0, 0,  0, -1, -c2 - 1,  1],\n",
       "[0, 1, 0, 0, -1, -1, -c2 - 1,  1],\n",
       "[0, 0, 1, 0,  2,  1,      c2, -1],\n",
       "[0, 0, 0, 1,  1,  1,      c2, -1]]), Matrix([\n",
       "[1, 0, 0, 0,  0,     -1,  0,  1],\n",
       "[0, 1, 0, 0, -1,     -1,  0,  1],\n",
       "[0, 0, 1, 0, a2, a2 - 1, -1, -1],\n",
       "[0, 0, 0, 1, a3,     a3, -1, -1]]))"
      ]
     },
     "metadata": {},
     "output_type": "display_data"
    },
    {
     "data": {
      "text/latex": [
       "$\\displaystyle \\text{True}$"
      ],
      "text/plain": [
       "True"
      ]
     },
     "execution_count": 296,
     "metadata": {},
     "output_type": "execute_result"
    }
   ],
   "source": [
    "i, j = 8, 9\n",
    "display(sp.Eq(fans[i], fans[j], evaluate=False))\n",
    "sp.Eq(fans[i].subs(c2,-1), fans[j].subs(a2,2).subs(a3,1))"
   ]
  },
  {
   "cell_type": "markdown",
   "id": "2158dd76-b59b-49e0-bb3a-36093ab252b4",
   "metadata": {},
   "source": [
    "## fan 9"
   ]
  },
  {
   "cell_type": "markdown",
   "id": "65bdddad-aa47-4cd5-ada7-d8e5484cb9c8",
   "metadata": {
    "jp-MarkdownHeadingCollapsed": true
   },
   "source": [
    "### fan 4 ($a_2=0$, $a_3=0$, $d_1=1$)"
   ]
  },
  {
   "cell_type": "code",
   "execution_count": 285,
   "id": "4e62939a-c930-497e-bbd0-efeae6a9cb53",
   "metadata": {},
   "outputs": [
    {
     "data": {
      "text/latex": [
       "$\\displaystyle \\left[\\begin{matrix}1 & 0 & 0 & 0 & 0 & -1 & 0 & 1\\\\0 & 1 & 0 & 0 & -1 & d_{1} - 2 & d_{1} - 1 & d_{1}\\\\0 & 0 & 1 & 0 & 0 & -1 & -1 & -1\\\\0 & 0 & 0 & 1 & 0 & 0 & -1 & -1\\end{matrix}\\right] = \\left[\\begin{matrix}1 & 0 & 0 & 0 & 0 & -1 & 0 & 1\\\\0 & 1 & 0 & 0 & -1 & -1 & 0 & 1\\\\0 & 0 & 1 & 0 & a_{2} & a_{2} - 1 & -1 & -1\\\\0 & 0 & 0 & 1 & a_{3} & a_{3} & -1 & -1\\end{matrix}\\right]$"
      ],
      "text/plain": [
       "Eq(Matrix([\n",
       "[1, 0, 0, 0,  0,     -1,      0,  1],\n",
       "[0, 1, 0, 0, -1, d1 - 2, d1 - 1, d1],\n",
       "[0, 0, 1, 0,  0,     -1,     -1, -1],\n",
       "[0, 0, 0, 1,  0,      0,     -1, -1]]), Matrix([\n",
       "[1, 0, 0, 0,  0,     -1,  0,  1],\n",
       "[0, 1, 0, 0, -1,     -1,  0,  1],\n",
       "[0, 0, 1, 0, a2, a2 - 1, -1, -1],\n",
       "[0, 0, 0, 1, a3,     a3, -1, -1]]))"
      ]
     },
     "metadata": {},
     "output_type": "display_data"
    },
    {
     "data": {
      "text/latex": [
       "$\\displaystyle \\text{True}$"
      ],
      "text/plain": [
       "True"
      ]
     },
     "execution_count": 285,
     "metadata": {},
     "output_type": "execute_result"
    }
   ],
   "source": [
    "i, j = 4, 9\n",
    "display(sp.Eq(fans[i], fans[j], evaluate=False))\n",
    "sp.Eq(fans[i].subs(d1,1), fans[j].subs(a2,0).subs(a3,0))"
   ]
  },
  {
   "cell_type": "markdown",
   "id": "3d406a8c-0659-4282-a5e3-f0668b0c348d",
   "metadata": {
    "jp-MarkdownHeadingCollapsed": true
   },
   "source": [
    "### fan 5 ($a_2=1$, $a_3=0$, $d_0=1$, $d_1=1$)"
   ]
  },
  {
   "cell_type": "code",
   "execution_count": 294,
   "id": "6864c40e-e19e-419f-9d7d-869a9bb608f5",
   "metadata": {},
   "outputs": [
    {
     "data": {
      "text/latex": [
       "$\\displaystyle \\left[\\begin{matrix}1 & 0 & 0 & 0 & 0 & -1 & d_{0} - 1 & d_{0}\\\\0 & 1 & 0 & 0 & -1 & -1 & d_{1} - 1 & d_{1}\\\\0 & 0 & 1 & 0 & 1 & 0 & -1 & -1\\\\0 & 0 & 0 & 1 & 0 & 0 & -1 & -1\\end{matrix}\\right] = \\left[\\begin{matrix}1 & 0 & 0 & 0 & 0 & -1 & 0 & 1\\\\0 & 1 & 0 & 0 & -1 & -1 & 0 & 1\\\\0 & 0 & 1 & 0 & a_{2} & a_{2} - 1 & -1 & -1\\\\0 & 0 & 0 & 1 & a_{3} & a_{3} & -1 & -1\\end{matrix}\\right]$"
      ],
      "text/plain": [
       "Eq(Matrix([\n",
       "[1, 0, 0, 0,  0, -1, d0 - 1, d0],\n",
       "[0, 1, 0, 0, -1, -1, d1 - 1, d1],\n",
       "[0, 0, 1, 0,  1,  0,     -1, -1],\n",
       "[0, 0, 0, 1,  0,  0,     -1, -1]]), Matrix([\n",
       "[1, 0, 0, 0,  0,     -1,  0,  1],\n",
       "[0, 1, 0, 0, -1,     -1,  0,  1],\n",
       "[0, 0, 1, 0, a2, a2 - 1, -1, -1],\n",
       "[0, 0, 0, 1, a3,     a3, -1, -1]]))"
      ]
     },
     "metadata": {},
     "output_type": "display_data"
    },
    {
     "data": {
      "text/latex": [
       "$\\displaystyle \\text{True}$"
      ],
      "text/plain": [
       "True"
      ]
     },
     "execution_count": 294,
     "metadata": {},
     "output_type": "execute_result"
    }
   ],
   "source": [
    "i, j = 5, 9\n",
    "display(sp.Eq(fans[i], fans[j], evaluate=False))\n",
    "sp.Eq(fans[i].subs(d0,1).subs(d1,1), fans[j].subs(a2,1).subs(a3,0))"
   ]
  },
  {
   "cell_type": "markdown",
   "id": "29645450-55df-48dc-9481-385383b0e0ad",
   "metadata": {
    "jp-MarkdownHeadingCollapsed": true
   },
   "source": [
    "### fan 8 ($a_2=2$, $a_3=1$, $c_2=-1$)"
   ]
  },
  {
   "cell_type": "code",
   "execution_count": 297,
   "id": "10da2302-7f3b-40ae-b4c3-d19906c4e024",
   "metadata": {},
   "outputs": [
    {
     "data": {
      "text/latex": [
       "$\\displaystyle \\left[\\begin{matrix}1 & 0 & 0 & 0 & 0 & -1 & - c_{2} - 1 & 1\\\\0 & 1 & 0 & 0 & -1 & -1 & - c_{2} - 1 & 1\\\\0 & 0 & 1 & 0 & 2 & 1 & c_{2} & -1\\\\0 & 0 & 0 & 1 & 1 & 1 & c_{2} & -1\\end{matrix}\\right] = \\left[\\begin{matrix}1 & 0 & 0 & 0 & 0 & -1 & 0 & 1\\\\0 & 1 & 0 & 0 & -1 & -1 & 0 & 1\\\\0 & 0 & 1 & 0 & a_{2} & a_{2} - 1 & -1 & -1\\\\0 & 0 & 0 & 1 & a_{3} & a_{3} & -1 & -1\\end{matrix}\\right]$"
      ],
      "text/plain": [
       "Eq(Matrix([\n",
       "[1, 0, 0, 0,  0, -1, -c2 - 1,  1],\n",
       "[0, 1, 0, 0, -1, -1, -c2 - 1,  1],\n",
       "[0, 0, 1, 0,  2,  1,      c2, -1],\n",
       "[0, 0, 0, 1,  1,  1,      c2, -1]]), Matrix([\n",
       "[1, 0, 0, 0,  0,     -1,  0,  1],\n",
       "[0, 1, 0, 0, -1,     -1,  0,  1],\n",
       "[0, 0, 1, 0, a2, a2 - 1, -1, -1],\n",
       "[0, 0, 0, 1, a3,     a3, -1, -1]]))"
      ]
     },
     "metadata": {},
     "output_type": "display_data"
    },
    {
     "data": {
      "text/latex": [
       "$\\displaystyle \\text{True}$"
      ],
      "text/plain": [
       "True"
      ]
     },
     "execution_count": 297,
     "metadata": {},
     "output_type": "execute_result"
    }
   ],
   "source": [
    "i, j = 8, 9\n",
    "display(sp.Eq(fans[i], fans[j], evaluate=False))\n",
    "sp.Eq(fans[i].subs(c2,-1), fans[j].subs(a2,2).subs(a3,1))"
   ]
  },
  {
   "cell_type": "markdown",
   "id": "29a16090-c9e5-469b-ac56-af458cb5d0fb",
   "metadata": {
    "jp-MarkdownHeadingCollapsed": true
   },
   "source": [
    "# There are 6 types of fans up to D-J equivalence and symmetry"
   ]
  },
  {
   "cell_type": "code",
   "execution_count": 203,
   "id": "ec03eb33-84e2-47d1-bed1-6e0b8679565d",
   "metadata": {},
   "outputs": [
    {
     "data": {
      "text/plain": [
       "[[1, 2, 3, 4, 5, 6, 7, 8], [1, 6, 7, 4, 8, 2, 3, 5]]"
      ]
     },
     "execution_count": 203,
     "metadata": {},
     "output_type": "execute_result"
    }
   ],
   "source": [
    "K.symmetries"
   ]
  },
  {
   "cell_type": "code",
   "execution_count": 204,
   "id": "7e7aea7e-2f34-47cf-8734-29f70fdf7422",
   "metadata": {},
   "outputs": [],
   "source": [
    "symm_index = [(np.array(i)-1).tolist() for i in K.symmetries]"
   ]
  },
  {
   "cell_type": "markdown",
   "id": "43bfc68f-05a4-40a0-9a11-b4c2ba69c1c5",
   "metadata": {
    "jp-MarkdownHeadingCollapsed": true
   },
   "source": [
    "## types 0, 3"
   ]
  },
  {
   "cell_type": "code",
   "execution_count": 207,
   "id": "d968452b-12ba-4f3d-845e-1907e93270d9",
   "metadata": {},
   "outputs": [
    {
     "data": {
      "text/latex": [
       "$\\displaystyle \\left[\\begin{matrix}1 & 0 & 0 & 0 & 0 & -1 & -1 & a_{0} - a_{2} + 1\\\\0 & 1 & 0 & 0 & -1 & -1 & -1 & 1 - a_{2}\\\\0 & 0 & 1 & 0 & 2 & 1 & 0 & -1\\\\0 & 0 & 0 & 1 & 1 & 1 & 0 & -1\\end{matrix}\\right]$"
      ],
      "text/plain": [
       "Matrix([\n",
       "[1, 0, 0, 0,  0, -1, -1, a0 - a2 + 1],\n",
       "[0, 1, 0, 0, -1, -1, -1,      1 - a2],\n",
       "[0, 0, 1, 0,  2,  1,  0,          -1],\n",
       "[0, 0, 0, 1,  1,  1,  0,          -1]])"
      ]
     },
     "metadata": {},
     "output_type": "display_data"
    },
    {
     "data": {
      "text/latex": [
       "$\\displaystyle \\left[\\begin{matrix}1 & 0 & 0 & 0 & 0 & -1 & -1 & d_{0}\\\\0 & 1 & 0 & 0 & -1 & -1 & -1 & d_{1}\\\\0 & 0 & 1 & 0 & 2 & 1 & 0 & -1\\\\0 & 0 & 0 & 1 & 1 & 1 & 0 & -1\\end{matrix}\\right]$"
      ],
      "text/plain": [
       "Matrix([\n",
       "[1, 0, 0, 0,  0, -1, -1, d0],\n",
       "[0, 1, 0, 0, -1, -1, -1, d1],\n",
       "[0, 0, 1, 0,  2,  1,  0, -1],\n",
       "[0, 0, 0, 1,  1,  1,  0, -1]])"
      ]
     },
     "metadata": {},
     "output_type": "display_data"
    }
   ],
   "source": [
    "display(fans[0][:, symm_index[1]].rref()[0])\n",
    "display(fans[3])"
   ]
  },
  {
   "cell_type": "markdown",
   "id": "b4ceea50-76c8-4367-8e70-a77c9fbddd7a",
   "metadata": {
    "jp-MarkdownHeadingCollapsed": true
   },
   "source": [
    "## types 1, 2"
   ]
  },
  {
   "cell_type": "code",
   "execution_count": 209,
   "id": "d01482a2-12b8-47bd-96ec-e29b21b7a592",
   "metadata": {},
   "outputs": [
    {
     "data": {
      "text/latex": [
       "$\\displaystyle \\left[\\begin{matrix}1 & 0 & 0 & 0 & 0 & -1 & -1 & 0\\\\0 & 1 & 0 & 0 & -1 & -2 & -1 & 0\\\\0 & 0 & 1 & 0 & 1 & 1 & 0 & -1\\\\0 & 0 & 0 & 1 & 0 & 0 & -1 & -1\\end{matrix}\\right]$"
      ],
      "text/plain": [
       "Matrix([\n",
       "[1, 0, 0, 0,  0, -1, -1,  0],\n",
       "[0, 1, 0, 0, -1, -2, -1,  0],\n",
       "[0, 0, 1, 0,  1,  1,  0, -1],\n",
       "[0, 0, 0, 1,  0,  0, -1, -1]])"
      ]
     },
     "metadata": {},
     "output_type": "display_data"
    },
    {
     "data": {
      "text/latex": [
       "$\\displaystyle \\left[\\begin{matrix}1 & 0 & 0 & 0 & 0 & -1 & -1 & 0\\\\0 & 1 & 0 & 0 & -1 & -2 & -1 & 0\\\\0 & 0 & 1 & 0 & 1 & 1 & 0 & -1\\\\0 & 0 & 0 & 1 & 0 & 0 & -1 & -1\\end{matrix}\\right]$"
      ],
      "text/plain": [
       "Matrix([\n",
       "[1, 0, 0, 0,  0, -1, -1,  0],\n",
       "[0, 1, 0, 0, -1, -2, -1,  0],\n",
       "[0, 0, 1, 0,  1,  1,  0, -1],\n",
       "[0, 0, 0, 1,  0,  0, -1, -1]])"
      ]
     },
     "metadata": {},
     "output_type": "display_data"
    }
   ],
   "source": [
    "display(fans[1][:, symm_index[1]].rref()[0])\n",
    "display(fans[2])"
   ]
  },
  {
   "cell_type": "markdown",
   "id": "79d2617e-f9d4-4555-8054-178f933fad2a",
   "metadata": {
    "jp-MarkdownHeadingCollapsed": true
   },
   "source": [
    "## types 4, 8"
   ]
  },
  {
   "cell_type": "code",
   "execution_count": 221,
   "id": "2da13dd2-3759-4eda-a562-878c07d310a2",
   "metadata": {},
   "outputs": [
    {
     "data": {
      "text/latex": [
       "$\\displaystyle \\left[\\begin{matrix}1 & 0 & 0 & 0 & 0 & -1 & 1 - d_{1} & 1\\\\0 & 1 & 0 & 0 & -1 & -1 & 1 - d_{1} & 1\\\\0 & 0 & 1 & 0 & 2 & 1 & d_{1} - 2 & -1\\\\0 & 0 & 0 & 1 & 1 & 1 & d_{1} - 2 & -1\\end{matrix}\\right]$"
      ],
      "text/plain": [
       "Matrix([\n",
       "[1, 0, 0, 0,  0, -1, 1 - d1,  1],\n",
       "[0, 1, 0, 0, -1, -1, 1 - d1,  1],\n",
       "[0, 0, 1, 0,  2,  1, d1 - 2, -1],\n",
       "[0, 0, 0, 1,  1,  1, d1 - 2, -1]])"
      ]
     },
     "metadata": {},
     "output_type": "display_data"
    },
    {
     "data": {
      "text/latex": [
       "$\\displaystyle \\left[\\begin{matrix}1 & 0 & 0 & 0 & 0 & -1 & - c_{2} - 1 & 1\\\\0 & 1 & 0 & 0 & -1 & -1 & - c_{2} - 1 & 1\\\\0 & 0 & 1 & 0 & 2 & 1 & c_{2} & -1\\\\0 & 0 & 0 & 1 & 1 & 1 & c_{2} & -1\\end{matrix}\\right]$"
      ],
      "text/plain": [
       "Matrix([\n",
       "[1, 0, 0, 0,  0, -1, -c2 - 1,  1],\n",
       "[0, 1, 0, 0, -1, -1, -c2 - 1,  1],\n",
       "[0, 0, 1, 0,  2,  1,      c2, -1],\n",
       "[0, 0, 0, 1,  1,  1,      c2, -1]])"
      ]
     },
     "metadata": {},
     "output_type": "display_data"
    }
   ],
   "source": [
    "display(fans[4][:, symm_index[1]].rref()[0])\n",
    "display(fans[8])"
   ]
  },
  {
   "cell_type": "markdown",
   "id": "882256ab-7e55-4598-882b-13aa710ee81c",
   "metadata": {
    "jp-MarkdownHeadingCollapsed": true
   },
   "source": [
    "## type 5"
   ]
  },
  {
   "cell_type": "code",
   "execution_count": 223,
   "id": "67afd1b2-3655-4224-b20e-553b37ab31f2",
   "metadata": {},
   "outputs": [
    {
     "data": {
      "text/latex": [
       "$\\displaystyle \\left[\\begin{matrix}1 & 0 & 0 & 0 & 0 & -1 & d_{0} - d_{1} & d_{0} - d_{1} + 1\\\\0 & 1 & 0 & 0 & -1 & -1 & 1 - d_{1} & 2 - d_{1}\\\\0 & 0 & 1 & 0 & 1 & 0 & -1 & -1\\\\0 & 0 & 0 & 1 & 0 & 0 & -1 & -1\\end{matrix}\\right]$"
      ],
      "text/plain": [
       "Matrix([\n",
       "[1, 0, 0, 0,  0, -1, d0 - d1, d0 - d1 + 1],\n",
       "[0, 1, 0, 0, -1, -1,  1 - d1,      2 - d1],\n",
       "[0, 0, 1, 0,  1,  0,      -1,          -1],\n",
       "[0, 0, 0, 1,  0,  0,      -1,          -1]])"
      ]
     },
     "metadata": {},
     "output_type": "display_data"
    },
    {
     "data": {
      "text/latex": [
       "$\\displaystyle \\left[\\begin{matrix}1 & 0 & 0 & 0 & 0 & -1 & d_{0} - 1 & d_{0}\\\\0 & 1 & 0 & 0 & -1 & -1 & d_{1} - 1 & d_{1}\\\\0 & 0 & 1 & 0 & 1 & 0 & -1 & -1\\\\0 & 0 & 0 & 1 & 0 & 0 & -1 & -1\\end{matrix}\\right]$"
      ],
      "text/plain": [
       "Matrix([\n",
       "[1, 0, 0, 0,  0, -1, d0 - 1, d0],\n",
       "[0, 1, 0, 0, -1, -1, d1 - 1, d1],\n",
       "[0, 0, 1, 0,  1,  0,     -1, -1],\n",
       "[0, 0, 0, 1,  0,  0,     -1, -1]])"
      ]
     },
     "metadata": {},
     "output_type": "display_data"
    }
   ],
   "source": [
    "display(fans[5][:, symm_index[1]].rref()[0])\n",
    "display(fans[5])"
   ]
  },
  {
   "cell_type": "markdown",
   "id": "17cae8b8-d280-44c2-a1b2-fe480bb02fb9",
   "metadata": {
    "jp-MarkdownHeadingCollapsed": true
   },
   "source": [
    "## types 6, 7"
   ]
  },
  {
   "cell_type": "code",
   "execution_count": 226,
   "id": "56dc7a99-22c5-44ca-90d8-e21a663ab409",
   "metadata": {},
   "outputs": [
    {
     "data": {
      "text/latex": [
       "$\\displaystyle \\left[\\begin{matrix}1 & 0 & 0 & 0 & 0 & -1 & -1 & 0\\\\0 & 1 & 0 & 0 & -1 & -1 & -1 & 0\\\\0 & 0 & 1 & 0 & b_{1} + 2 & b_{1} + 1 & b_{1} & -1\\\\0 & 0 & 0 & 1 & b_{1} + b_{3} + 1 & b_{1} + b_{3} + 1 & b_{1} + b_{3} & -1\\end{matrix}\\right]$"
      ],
      "text/plain": [
       "Matrix([\n",
       "[1, 0, 0, 0,           0,          -1,      -1,  0],\n",
       "[0, 1, 0, 0,          -1,          -1,      -1,  0],\n",
       "[0, 0, 1, 0,      b1 + 2,      b1 + 1,      b1, -1],\n",
       "[0, 0, 0, 1, b1 + b3 + 1, b1 + b3 + 1, b1 + b3, -1]])"
      ]
     },
     "metadata": {},
     "output_type": "display_data"
    },
    {
     "data": {
      "text/latex": [
       "$\\displaystyle \\left[\\begin{matrix}1 & 0 & 0 & 0 & 0 & -1 & -1 & 0\\\\0 & 1 & 0 & 0 & -1 & -1 & -1 & 0\\\\0 & 0 & 1 & 0 & c_{2} + 2 & c_{2} + 1 & c_{2} & -1\\\\0 & 0 & 0 & 1 & c_{3} + 1 & c_{3} + 1 & c_{3} & -1\\end{matrix}\\right]$"
      ],
      "text/plain": [
       "Matrix([\n",
       "[1, 0, 0, 0,      0,     -1, -1,  0],\n",
       "[0, 1, 0, 0,     -1,     -1, -1,  0],\n",
       "[0, 0, 1, 0, c2 + 2, c2 + 1, c2, -1],\n",
       "[0, 0, 0, 1, c3 + 1, c3 + 1, c3, -1]])"
      ]
     },
     "metadata": {},
     "output_type": "display_data"
    }
   ],
   "source": [
    "display(fans[6][:, symm_index[1]].rref()[0])\n",
    "display(fans[7])"
   ]
  },
  {
   "cell_type": "markdown",
   "id": "8d924a41-1f35-4ce7-a645-479f290e6d73",
   "metadata": {
    "jp-MarkdownHeadingCollapsed": true
   },
   "source": [
    "## type 9"
   ]
  },
  {
   "cell_type": "code",
   "execution_count": 227,
   "id": "be461f07-30de-4733-9efc-20940203c15b",
   "metadata": {},
   "outputs": [
    {
     "data": {
      "text/latex": [
       "$\\displaystyle \\left[\\begin{matrix}1 & 0 & 0 & 0 & 0 & -1 & 0 & 1\\\\0 & 1 & 0 & 0 & -1 & -1 & 0 & 1\\\\0 & 0 & 1 & 0 & 2 - a_{2} & 1 - a_{2} & -1 & -1\\\\0 & 0 & 0 & 1 & - a_{2} + a_{3} + 1 & - a_{2} + a_{3} + 1 & -1 & -1\\end{matrix}\\right]$"
      ],
      "text/plain": [
       "Matrix([\n",
       "[1, 0, 0, 0,            0,           -1,  0,  1],\n",
       "[0, 1, 0, 0,           -1,           -1,  0,  1],\n",
       "[0, 0, 1, 0,       2 - a2,       1 - a2, -1, -1],\n",
       "[0, 0, 0, 1, -a2 + a3 + 1, -a2 + a3 + 1, -1, -1]])"
      ]
     },
     "metadata": {},
     "output_type": "display_data"
    },
    {
     "data": {
      "text/latex": [
       "$\\displaystyle \\left[\\begin{matrix}1 & 0 & 0 & 0 & 0 & -1 & 0 & 1\\\\0 & 1 & 0 & 0 & -1 & -1 & 0 & 1\\\\0 & 0 & 1 & 0 & a_{2} & a_{2} - 1 & -1 & -1\\\\0 & 0 & 0 & 1 & a_{3} & a_{3} & -1 & -1\\end{matrix}\\right]$"
      ],
      "text/plain": [
       "Matrix([\n",
       "[1, 0, 0, 0,  0,     -1,  0,  1],\n",
       "[0, 1, 0, 0, -1,     -1,  0,  1],\n",
       "[0, 0, 1, 0, a2, a2 - 1, -1, -1],\n",
       "[0, 0, 0, 1, a3,     a3, -1, -1]])"
      ]
     },
     "metadata": {},
     "output_type": "display_data"
    }
   ],
   "source": [
    "display(fans[9][:, symm_index[1]].rref()[0])\n",
    "display(fans[9])"
   ]
  }
 ],
 "metadata": {
  "kernelspec": {
   "display_name": "Python 3 (ipykernel)",
   "language": "python",
   "name": "python3"
  },
  "language_info": {
   "codemirror_mode": {
    "name": "ipython",
    "version": 3
   },
   "file_extension": ".py",
   "mimetype": "text/x-python",
   "name": "python",
   "nbconvert_exporter": "python",
   "pygments_lexer": "ipython3",
   "version": "3.12.7"
  }
 },
 "nbformat": 4,
 "nbformat_minor": 5
}
