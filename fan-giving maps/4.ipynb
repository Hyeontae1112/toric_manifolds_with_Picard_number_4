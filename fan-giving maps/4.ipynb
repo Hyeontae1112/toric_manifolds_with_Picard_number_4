{
 "cells": [
  {
   "cell_type": "markdown",
   "id": "db66120f-b758-4b92-ae97-b0858a0a13f0",
   "metadata": {
    "jp-MarkdownHeadingCollapsed": true
   },
   "source": [
    "# Preparation"
   ]
  },
  {
   "cell_type": "code",
   "execution_count": 19,
   "id": "6f6bc158-959e-482c-ad48-e4f2b3fe9a4b",
   "metadata": {},
   "outputs": [],
   "source": [
    "%run programs\\\\Characteristic_Pair.py\n",
    "import copy\n",
    "from tqdm import trange\n",
    "K = Simplicial_Complex(json.loads(read_file('programs\\\\fanlikes')[4]))\n",
    "M = initial_char(K.n)\n",
    "C0 = Characteristic_Pair(K, M)\n",
    "fans = []\n",
    "\n",
    "a = sp.symbols('a0:%d'%K.n)\n",
    "b = sp.symbols('b0:%d'%K.n)\n",
    "c = sp.symbols('c0:%d'%K.n)\n",
    "d = sp.symbols('d0:%d'%K.n)\n",
    "\n",
    "a0, a1, a2 = a[:]\n",
    "b0, b1, b2 = b[:]\n",
    "c0, c1, c2 = c[:]\n",
    "d0, d1, d2 = d[:]\n",
    "x=sp.Symbol('x')"
   ]
  },
  {
   "cell_type": "code",
   "execution_count": 20,
   "id": "2cfbeb58-6167-462d-8320-1dc6383dfb3b",
   "metadata": {},
   "outputs": [
    {
     "data": {
      "text/latex": [
       "$\\displaystyle \\left[\\begin{matrix}1 & 0 & 0 & a_{0} & b_{0} & c_{0} & d_{0}\\\\0 & 1 & 0 & a_{1} & b_{1} & c_{1} & d_{1}\\\\0 & 0 & 1 & a_{2} & b_{2} & c_{2} & d_{2}\\end{matrix}\\right]$"
      ],
      "text/plain": [
       "Matrix([\n",
       "[1, 0, 0, a0, b0, c0, d0],\n",
       "[0, 1, 0, a1, b1, c1, d1],\n",
       "[0, 0, 1, a2, b2, c2, d2]])"
      ]
     },
     "execution_count": 20,
     "metadata": {},
     "output_type": "execute_result"
    }
   ],
   "source": [
    "C = C0\n",
    "C.char"
   ]
  },
  {
   "cell_type": "code",
   "execution_count": 21,
   "id": "a6f6a608-46c9-454e-97d2-ff913d002034",
   "metadata": {},
   "outputs": [
    {
     "name": "stdout",
     "output_type": "stream",
     "text": [
      "facet number: 6\n"
     ]
    },
    {
     "data": {
      "text/latex": [
       "$\\displaystyle a_{0} = -1$"
      ],
      "text/plain": [
       "Eq(a0, -1)"
      ]
     },
     "metadata": {},
     "output_type": "display_data"
    },
    {
     "name": "stdout",
     "output_type": "stream",
     "text": [
      "facet number: 2\n"
     ]
    },
    {
     "data": {
      "text/latex": [
       "$\\displaystyle - a_{1} = 1$"
      ],
      "text/plain": [
       "Eq(-a1, 1)"
      ]
     },
     "metadata": {},
     "output_type": "display_data"
    },
    {
     "name": "stdout",
     "output_type": "stream",
     "text": [
      "facet number: 1\n"
     ]
    },
    {
     "data": {
      "text/latex": [
       "$\\displaystyle d_{2} = -1$"
      ],
      "text/plain": [
       "Eq(d2, -1)"
      ]
     },
     "metadata": {},
     "output_type": "display_data"
    }
   ],
   "source": [
    "i=6\n",
    "print('facet number:', i)\n",
    "display(sp.Eq(C.determinants[i], C.orientation[i]))\n",
    "\n",
    "i=2\n",
    "print('facet number:', i)\n",
    "display(sp.Eq(C.determinants[i], C.orientation[i]))\n",
    "\n",
    "i=1\n",
    "print('facet number:', i)\n",
    "display(sp.Eq(C.determinants[i], C.orientation[i]))\n",
    "\n",
    "C.subs(a0, -1)\n",
    "C.subs(a1, -1)\n",
    "C.subs(d2, -1)"
   ]
  },
  {
   "cell_type": "markdown",
   "id": "04c51120-8c2b-4007-860d-4cc1733c74dc",
   "metadata": {
    "jp-MarkdownHeadingCollapsed": true
   },
   "source": [
    "# The projection with respect to 1"
   ]
  },
  {
   "cell_type": "code",
   "execution_count": 22,
   "id": "0737b1f8-328e-499a-b95b-fab81be9cbd0",
   "metadata": {},
   "outputs": [
    {
     "data": {
      "text/plain": [
       "[[2, 3], [2, 7], [3, 4], [4, 5], [5, 6], [6, 7]]"
      ]
     },
     "execution_count": 22,
     "metadata": {},
     "output_type": "execute_result"
    }
   ],
   "source": [
    "Link(K, [1]).cpx"
   ]
  },
  {
   "cell_type": "code",
   "execution_count": 23,
   "id": "d97c7cf3-5e3f-46ed-b38e-9cb2aceac662",
   "metadata": {},
   "outputs": [
    {
     "data": {
      "text/latex": [
       "$\\displaystyle \\left[\\begin{matrix}1 & 0 & -1 & b_{1} & c_{1} & d_{1}\\\\0 & 1 & a_{2} & b_{2} & c_{2} & -1\\end{matrix}\\right]$"
      ],
      "text/plain": [
       "Matrix([\n",
       "[1, 0, -1, b1, c1, d1],\n",
       "[0, 1, a2, b2, c2, -1]])"
      ]
     },
     "metadata": {},
     "output_type": "display_data"
    }
   ],
   "source": [
    "display(C.proj([1]))"
   ]
  },
  {
   "cell_type": "markdown",
   "id": "b16b4e57-10ab-44c6-8d0c-fb93e2dcfd5d",
   "metadata": {
    "jp-MarkdownHeadingCollapsed": true
   },
   "source": [
    "# The projection has 15 types of fans up to D-J equivalence"
   ]
  },
  {
   "cell_type": "code",
   "execution_count": 11,
   "id": "ca7b27ef-fb91-41f7-8f63-a0684cbcfea2",
   "metadata": {},
   "outputs": [],
   "source": [
    "import pickle\n",
    "with open('programs\\\\pickle_files\\\\0_up_to_DJ.p', 'rb') as f:\n",
    "    fans_hex = pickle.load(f)"
   ]
  },
  {
   "cell_type": "code",
   "execution_count": 12,
   "id": "6da369b6-eb8c-46df-ade0-53daad3117c3",
   "metadata": {},
   "outputs": [
    {
     "data": {
      "text/latex": [
       "$\\displaystyle \\left[\\begin{matrix}1 & 0 & -1 & 0 & 1 & 2\\\\0 & 1 & a & -1 & -1 & -1\\end{matrix}\\right]$"
      ],
      "text/plain": [
       "Matrix([\n",
       "[1, 0, -1,  0,  1,  2],\n",
       "[0, 1,  a, -1, -1, -1]])"
      ]
     },
     "metadata": {},
     "output_type": "display_data"
    },
    {
     "data": {
      "text/latex": [
       "$\\displaystyle \\left[\\begin{matrix}1 & 0 & -1 & 0 & 1 & 1\\\\0 & 1 & a & -1 & -2 & -1\\end{matrix}\\right]$"
      ],
      "text/plain": [
       "Matrix([\n",
       "[1, 0, -1,  0,  1,  1],\n",
       "[0, 1,  a, -1, -2, -1]])"
      ]
     },
     "metadata": {},
     "output_type": "display_data"
    },
    {
     "data": {
      "text/latex": [
       "$\\displaystyle \\left[\\begin{matrix}1 & 0 & -1 & -2 & -1 & d\\\\0 & 1 & 1 & 1 & 0 & -1\\end{matrix}\\right]$"
      ],
      "text/plain": [
       "Matrix([\n",
       "[1, 0, -1, -2, -1,  d],\n",
       "[0, 1,  1,  1,  0, -1]])"
      ]
     },
     "metadata": {},
     "output_type": "display_data"
    },
    {
     "data": {
      "text/latex": [
       "$\\displaystyle \\left[\\begin{matrix}1 & 0 & -1 & -1 & -1 & d\\\\0 & 1 & 2 & 1 & 0 & -1\\end{matrix}\\right]$"
      ],
      "text/plain": [
       "Matrix([\n",
       "[1, 0, -1, -1, -1,  d],\n",
       "[0, 1,  2,  1,  0, -1]])"
      ]
     },
     "metadata": {},
     "output_type": "display_data"
    },
    {
     "data": {
      "text/latex": [
       "$\\displaystyle \\left[\\begin{matrix}1 & 0 & -1 & d - 2 & d - 1 & d\\\\0 & 1 & 0 & -1 & -1 & -1\\end{matrix}\\right]$"
      ],
      "text/plain": [
       "Matrix([\n",
       "[1, 0, -1, d - 2, d - 1,  d],\n",
       "[0, 1,  0,    -1,    -1, -1]])"
      ]
     },
     "metadata": {},
     "output_type": "display_data"
    },
    {
     "data": {
      "text/latex": [
       "$\\displaystyle \\left[\\begin{matrix}1 & 0 & -1 & d - 1 & 2 d - 1 & d\\\\0 & 1 & 0 & -1 & -2 & -1\\end{matrix}\\right]$"
      ],
      "text/plain": [
       "Matrix([\n",
       "[1, 0, -1, d - 1, 2*d - 1,  d],\n",
       "[0, 1,  0,    -1,      -2, -1]])"
      ]
     },
     "metadata": {},
     "output_type": "display_data"
    },
    {
     "data": {
      "text/latex": [
       "$\\displaystyle \\left[\\begin{matrix}1 & 0 & -1 & -2 & - 2 c - 1 & 2\\\\0 & 1 & 1 & 1 & c & -1\\end{matrix}\\right]$"
      ],
      "text/plain": [
       "Matrix([\n",
       "[1, 0, -1, -2, -2*c - 1,  2],\n",
       "[0, 1,  1,  1,        c, -1]])"
      ]
     },
     "metadata": {},
     "output_type": "display_data"
    },
    {
     "data": {
      "text/latex": [
       "$\\displaystyle \\left[\\begin{matrix}1 & 0 & -1 & -1 & d - 1 & d\\\\0 & 1 & 1 & 0 & -1 & -1\\end{matrix}\\right]$"
      ],
      "text/plain": [
       "Matrix([\n",
       "[1, 0, -1, -1, d - 1,  d],\n",
       "[0, 1,  1,  0,    -1, -1]])"
      ]
     },
     "metadata": {},
     "output_type": "display_data"
    },
    {
     "data": {
      "text/latex": [
       "$\\displaystyle \\left[\\begin{matrix}1 & 0 & -1 & b & 1 & 2\\\\0 & 1 & 1 & - b - 1 & -1 & -1\\end{matrix}\\right]$"
      ],
      "text/plain": [
       "Matrix([\n",
       "[1, 0, -1,      b,  1,  2],\n",
       "[0, 1,  1, -b - 1, -1, -1]])"
      ]
     },
     "metadata": {},
     "output_type": "display_data"
    },
    {
     "data": {
      "text/latex": [
       "$\\displaystyle \\left[\\begin{matrix}1 & 0 & -1 & - c - 2 & - c - 1 & 1\\\\0 & 1 & 1 & c + 1 & c & -1\\end{matrix}\\right]$"
      ],
      "text/plain": [
       "Matrix([\n",
       "[1, 0, -1, -c - 2, -c - 1,  1],\n",
       "[0, 1,  1,  c + 1,      c, -1]])"
      ]
     },
     "metadata": {},
     "output_type": "display_data"
    },
    {
     "data": {
      "text/latex": [
       "$\\displaystyle \\left[\\begin{matrix}1 & 0 & -1 & -1 & -1 & 0\\\\0 & 1 & c + 2 & c + 1 & c & -1\\end{matrix}\\right]$"
      ],
      "text/plain": [
       "Matrix([\n",
       "[1, 0,    -1,    -1, -1,  0],\n",
       "[0, 1, c + 2, c + 1,  c, -1]])"
      ]
     },
     "metadata": {},
     "output_type": "display_data"
    },
    {
     "data": {
      "text/latex": [
       "$\\displaystyle \\left[\\begin{matrix}1 & 0 & -1 & -2 & -1 & 0\\\\0 & 1 & c + 1 & 2 c + 1 & c & -1\\end{matrix}\\right]$"
      ],
      "text/plain": [
       "Matrix([\n",
       "[1, 0,    -1,      -2, -1,  0],\n",
       "[0, 1, c + 1, 2*c + 1,  c, -1]])"
      ]
     },
     "metadata": {},
     "output_type": "display_data"
    },
    {
     "data": {
      "text/latex": [
       "$\\displaystyle \\left[\\begin{matrix}1 & 0 & -1 & b & 1 & 1\\\\0 & 1 & 2 & - 2 b - 1 & -2 & -1\\end{matrix}\\right]$"
      ],
      "text/plain": [
       "Matrix([\n",
       "[1, 0, -1,        b,  1,  1],\n",
       "[0, 1,  2, -2*b - 1, -2, -1]])"
      ]
     },
     "metadata": {},
     "output_type": "display_data"
    },
    {
     "data": {
      "text/latex": [
       "$\\displaystyle \\left[\\begin{matrix}1 & 0 & -1 & -1 & - c - 1 & 1\\\\0 & 1 & 2 & 1 & c & -1\\end{matrix}\\right]$"
      ],
      "text/plain": [
       "Matrix([\n",
       "[1, 0, -1, -1, -c - 1,  1],\n",
       "[0, 1,  2,  1,      c, -1]])"
      ]
     },
     "metadata": {},
     "output_type": "display_data"
    },
    {
     "data": {
      "text/latex": [
       "$\\displaystyle \\left[\\begin{matrix}1 & 0 & -1 & -1 & 0 & 1\\\\0 & 1 & a & a - 1 & -1 & -1\\end{matrix}\\right]$"
      ],
      "text/plain": [
       "Matrix([\n",
       "[1, 0, -1,    -1,  0,  1],\n",
       "[0, 1,  a, a - 1, -1, -1]])"
      ]
     },
     "metadata": {},
     "output_type": "display_data"
    }
   ],
   "source": [
    "for f in fans_hex:\n",
    "    display(f)"
   ]
  },
  {
   "cell_type": "markdown",
   "id": "a3c0dbf5-b701-4e8c-a35f-63e697d804e1",
   "metadata": {
    "jp-MarkdownHeadingCollapsed": true
   },
   "source": [
    "# Type 0 of the projection"
   ]
  },
  {
   "cell_type": "code",
   "execution_count": 8,
   "id": "ee5a30a7-df4a-4fad-8d8c-033310ffdc68",
   "metadata": {},
   "outputs": [],
   "source": [
    "C1 = copy.deepcopy(C0)\n",
    "C = C1\n",
    "t=0"
   ]
  },
  {
   "cell_type": "code",
   "execution_count": 9,
   "id": "068b0a64-e5ec-4278-9a5b-79ae22da7728",
   "metadata": {},
   "outputs": [
    {
     "data": {
      "text/latex": [
       "$\\displaystyle \\left[\\begin{matrix}1 & 0 & -1 & 0 & 1 & 2\\\\0 & 1 & x & -1 & -1 & -1\\end{matrix}\\right]$"
      ],
      "text/plain": [
       "Matrix([\n",
       "[1, 0, -1,  0,  1,  2],\n",
       "[0, 1,  x, -1, -1, -1]])"
      ]
     },
     "metadata": {},
     "output_type": "display_data"
    }
   ],
   "source": [
    "fans_hex[t]=fans_hex[t].subs(sp.Symbol('a'), x) # to distinguish indeterminates\n",
    "display(fans_hex[t])"
   ]
  },
  {
   "cell_type": "code",
   "execution_count": 10,
   "id": "137cd178-57fd-43d0-840f-37d28d9f87db",
   "metadata": {},
   "outputs": [
    {
     "data": {
      "text/latex": [
       "$\\displaystyle \\left[\\begin{matrix}1 & 0 & -1 & b_{1} & c_{1} & d_{1}\\\\0 & 1 & a_{2} & b_{2} & c_{2} & -1\\end{matrix}\\right] = \\left[\\begin{matrix}1 & 0 & -1 & 0 & 1 & 2\\\\0 & 1 & x & -1 & -1 & -1\\end{matrix}\\right]$"
      ],
      "text/plain": [
       "Eq(Matrix([\n",
       "[1, 0, -1, b1, c1, d1],\n",
       "[0, 1, a2, b2, c2, -1]]), Matrix([\n",
       "[1, 0, -1,  0,  1,  2],\n",
       "[0, 1,  x, -1, -1, -1]]))"
      ]
     },
     "metadata": {},
     "output_type": "display_data"
    }
   ],
   "source": [
    "proj = C.proj([1])\n",
    "with sp.evaluate(False):\n",
    "    display(sp.Eq(proj, fans_hex[t]))\n",
    "\n",
    "C.subs(b1, 0)\n",
    "C.subs(b2, -1)\n",
    "C.subs(c1, 1)\n",
    "C.subs(c2, -1)\n",
    "C.subs(d1, 2)"
   ]
  },
  {
   "cell_type": "code",
   "execution_count": 11,
   "id": "238b04c8-7de9-428d-9610-ba697b09ff6a",
   "metadata": {},
   "outputs": [
    {
     "name": "stdout",
     "output_type": "stream",
     "text": [
      "facet number: 8\n"
     ]
    },
    {
     "data": {
      "text/latex": [
       "$\\displaystyle c_{0} - d_{0} = -1$"
      ],
      "text/plain": [
       "Eq(c0 - d0, -1)"
      ]
     },
     "metadata": {},
     "output_type": "display_data"
    }
   ],
   "source": [
    "i=8\n",
    "print('facet number:', i)\n",
    "display(sp.Eq(C.determinants[i], C.orientation[i]))\n",
    "\n",
    "C.subs(c0, d0-1)"
   ]
  },
  {
   "cell_type": "code",
   "execution_count": 12,
   "id": "2bf9685d-8741-46b0-a505-8032944ac918",
   "metadata": {},
   "outputs": [
    {
     "name": "stdout",
     "output_type": "stream",
     "text": [
      "facet number: 7\n"
     ]
    },
    {
     "data": {
      "text/latex": [
       "$\\displaystyle a_{2} d_{0} - a_{2} - 1 = -1$"
      ],
      "text/plain": [
       "Eq(a2*d0 - a2 - 1, -1)"
      ]
     },
     "metadata": {},
     "output_type": "display_data"
    }
   ],
   "source": [
    "i=7\n",
    "print('facet number:', i)\n",
    "display(sp.Eq(C.determinants[i], C.orientation[i]))"
   ]
  },
  {
   "cell_type": "markdown",
   "id": "c6eda0e7-8a28-4f9f-a862-1902b9b29fa4",
   "metadata": {},
   "source": [
    "## $a_2 = 0$"
   ]
  },
  {
   "cell_type": "code",
   "execution_count": 13,
   "id": "1fcce890-b8ab-4828-981a-96b7d75fe87e",
   "metadata": {},
   "outputs": [],
   "source": [
    "C2 = copy.deepcopy(C1)\n",
    "C = C2\n",
    "C.subs(a2, 0)"
   ]
  },
  {
   "cell_type": "code",
   "execution_count": 14,
   "id": "d08e150c-d007-469d-9459-a8845415c0fc",
   "metadata": {},
   "outputs": [
    {
     "name": "stdout",
     "output_type": "stream",
     "text": [
      "facet number: 9\n"
     ]
    },
    {
     "data": {
      "text/latex": [
       "$\\displaystyle - b_{0} + d_{0} - 2 = -1$"
      ],
      "text/plain": [
       "Eq(-b0 + d0 - 2, -1)"
      ]
     },
     "metadata": {},
     "output_type": "display_data"
    }
   ],
   "source": [
    "i=9\n",
    "print('facet number:', i)\n",
    "display(sp.Eq(C.determinants[i], C.orientation[i]))\n",
    "\n",
    "C.subs(b0, d0-1)"
   ]
  },
  {
   "cell_type": "code",
   "execution_count": 15,
   "id": "4c9cb1fc-0125-459b-8470-2ad4924f7c7f",
   "metadata": {},
   "outputs": [
    {
     "data": {
      "text/latex": [
       "$\\displaystyle \\left[\\begin{matrix}1 & 0 & 0 & -1 & d_{0} - 1 & d_{0} - 1 & d_{0}\\\\0 & 1 & 0 & -1 & 0 & 1 & 2\\\\0 & 0 & 1 & 0 & -1 & -1 & -1\\end{matrix}\\right]$"
      ],
      "text/plain": [
       "Matrix([\n",
       "[1, 0, 0, -1, d0 - 1, d0 - 1, d0],\n",
       "[0, 1, 0, -1,      0,      1,  2],\n",
       "[0, 0, 1,  0,     -1,     -1, -1]])"
      ]
     },
     "metadata": {},
     "output_type": "display_data"
    },
    {
     "name": "stdout",
     "output_type": "stream",
     "text": [
      "1\n"
     ]
    }
   ],
   "source": [
    "display(C.char)\n",
    "print(C.is_fangiving)\n",
    "fans.append(C.char)"
   ]
  },
  {
   "cell_type": "markdown",
   "id": "0b821099-f13b-4e24-a9f9-5c8057bdb21c",
   "metadata": {},
   "source": [
    "## $d_0 = 1$"
   ]
  },
  {
   "cell_type": "code",
   "execution_count": 16,
   "id": "28c7f295-e1c8-4b0b-ba79-3e549b4119c5",
   "metadata": {},
   "outputs": [],
   "source": [
    "C2 = copy.deepcopy(C1)\n",
    "C = C2\n",
    "C.subs(d0, 1)"
   ]
  },
  {
   "cell_type": "code",
   "execution_count": 17,
   "id": "e555cf97-be07-40c8-9349-3e250d99d9c1",
   "metadata": {},
   "outputs": [
    {
     "name": "stdout",
     "output_type": "stream",
     "text": [
      "facet number: 9\n"
     ]
    },
    {
     "data": {
      "text/latex": [
       "$\\displaystyle a_{2} b_{0} - b_{0} - 1 = -1$"
      ],
      "text/plain": [
       "Eq(a2*b0 - b0 - 1, -1)"
      ]
     },
     "metadata": {},
     "output_type": "display_data"
    }
   ],
   "source": [
    "i=9\n",
    "print('facet number:', i)\n",
    "display(sp.Eq(C.determinants[i], C.orientation[i]))"
   ]
  },
  {
   "cell_type": "markdown",
   "id": "34806d49-502b-4071-afdf-369661d3ef37",
   "metadata": {},
   "source": [
    "### $a_2 = 1$"
   ]
  },
  {
   "cell_type": "code",
   "execution_count": 18,
   "id": "0b939f7c-62a4-4052-a58f-37fe8e014e09",
   "metadata": {},
   "outputs": [],
   "source": [
    "C3 = copy.deepcopy(C2)\n",
    "C = C3\n",
    "C.subs(a2, 1)"
   ]
  },
  {
   "cell_type": "code",
   "execution_count": 19,
   "id": "661375d4-3f8a-41c6-b4e7-4694eaf15efc",
   "metadata": {},
   "outputs": [
    {
     "data": {
      "text/latex": [
       "$\\displaystyle \\left[\\begin{matrix}1 & 0 & 0 & -1 & b_{0} & 0 & 1\\\\0 & 1 & 0 & -1 & 0 & 1 & 2\\\\0 & 0 & 1 & 1 & -1 & -1 & -1\\end{matrix}\\right]$"
      ],
      "text/plain": [
       "Matrix([\n",
       "[1, 0, 0, -1, b0,  0,  1],\n",
       "[0, 1, 0, -1,  0,  1,  2],\n",
       "[0, 0, 1,  1, -1, -1, -1]])"
      ]
     },
     "metadata": {},
     "output_type": "display_data"
    },
    {
     "name": "stdout",
     "output_type": "stream",
     "text": [
      "1\n"
     ]
    }
   ],
   "source": [
    "display(C.char)\n",
    "print(C.is_fangiving)\n",
    "fans.append(C.char)"
   ]
  },
  {
   "cell_type": "markdown",
   "id": "91c98375-8d65-4a4c-8bea-682fd1f7bd55",
   "metadata": {},
   "source": [
    "### $b_0 = 0$"
   ]
  },
  {
   "cell_type": "code",
   "execution_count": 20,
   "id": "35964211-6903-477d-bf3a-2e9990d7f2fb",
   "metadata": {},
   "outputs": [],
   "source": [
    "C3 = copy.deepcopy(C2)\n",
    "C = C3\n",
    "C.subs(b0, 0)"
   ]
  },
  {
   "cell_type": "code",
   "execution_count": 21,
   "id": "9bd4c4f7-6b9d-4738-a19a-f9e90aef4313",
   "metadata": {},
   "outputs": [
    {
     "data": {
      "text/latex": [
       "$\\displaystyle \\left[\\begin{matrix}1 & 0 & 0 & -1 & 0 & 0 & 1\\\\0 & 1 & 0 & -1 & 0 & 1 & 2\\\\0 & 0 & 1 & a_{2} & -1 & -1 & -1\\end{matrix}\\right]$"
      ],
      "text/plain": [
       "Matrix([\n",
       "[1, 0, 0, -1,  0,  0,  1],\n",
       "[0, 1, 0, -1,  0,  1,  2],\n",
       "[0, 0, 1, a2, -1, -1, -1]])"
      ]
     },
     "metadata": {},
     "output_type": "display_data"
    },
    {
     "name": "stdout",
     "output_type": "stream",
     "text": [
      "1\n"
     ]
    }
   ],
   "source": [
    "display(C.char)\n",
    "print(C.is_fangiving)\n",
    "fans.append(C.char)"
   ]
  },
  {
   "cell_type": "markdown",
   "id": "de5904a5-99cf-4b3a-a7e1-76a6b9f9209a",
   "metadata": {
    "jp-MarkdownHeadingCollapsed": true
   },
   "source": [
    "# Type 1 of the projection"
   ]
  },
  {
   "cell_type": "code",
   "execution_count": 22,
   "id": "3f22d349-8c95-4922-8f41-48978f8054cc",
   "metadata": {},
   "outputs": [],
   "source": [
    "C1 = copy.deepcopy(C0)\n",
    "C = C1\n",
    "t=1"
   ]
  },
  {
   "cell_type": "code",
   "execution_count": 23,
   "id": "a4f3b694-5ca6-4bd4-bd4f-42c40b7dae1f",
   "metadata": {},
   "outputs": [
    {
     "data": {
      "text/latex": [
       "$\\displaystyle \\left[\\begin{matrix}1 & 0 & -1 & 0 & 1 & 1\\\\0 & 1 & x & -1 & -2 & -1\\end{matrix}\\right]$"
      ],
      "text/plain": [
       "Matrix([\n",
       "[1, 0, -1,  0,  1,  1],\n",
       "[0, 1,  x, -1, -2, -1]])"
      ]
     },
     "metadata": {},
     "output_type": "display_data"
    }
   ],
   "source": [
    "fans_hex[t]=fans_hex[t].subs(sp.Symbol('a'), x) # to distinguish indeterminates\n",
    "display(fans_hex[t])"
   ]
  },
  {
   "cell_type": "code",
   "execution_count": 24,
   "id": "1a9d2737-08e9-41a6-8aae-3fdd09d2463f",
   "metadata": {},
   "outputs": [
    {
     "data": {
      "text/latex": [
       "$\\displaystyle \\left[\\begin{matrix}1 & 0 & -1 & b_{1} & c_{1} & d_{1}\\\\0 & 1 & a_{2} & b_{2} & c_{2} & -1\\end{matrix}\\right] = \\left[\\begin{matrix}1 & 0 & -1 & 0 & 1 & 1\\\\0 & 1 & x & -1 & -2 & -1\\end{matrix}\\right]$"
      ],
      "text/plain": [
       "Eq(Matrix([\n",
       "[1, 0, -1, b1, c1, d1],\n",
       "[0, 1, a2, b2, c2, -1]]), Matrix([\n",
       "[1, 0, -1,  0,  1,  1],\n",
       "[0, 1,  x, -1, -2, -1]]))"
      ]
     },
     "metadata": {},
     "output_type": "display_data"
    }
   ],
   "source": [
    "proj = C.proj([1])\n",
    "with sp.evaluate(False):\n",
    "    display(sp.Eq(proj, fans_hex[t]))\n",
    "\n",
    "C.subs(b1, 0)\n",
    "C.subs(b2, -1)\n",
    "C.subs(c1, 1)\n",
    "C.subs(c2, -2)\n",
    "C.subs(d1, 1)"
   ]
  },
  {
   "cell_type": "code",
   "execution_count": 25,
   "id": "d67d9247-a58a-4e82-bf43-7e8867e57b10",
   "metadata": {},
   "outputs": [
    {
     "name": "stdout",
     "output_type": "stream",
     "text": [
      "facet number: 8\n"
     ]
    },
    {
     "data": {
      "text/latex": [
       "$\\displaystyle c_{0} - 2 d_{0} = -1$"
      ],
      "text/plain": [
       "Eq(c0 - 2*d0, -1)"
      ]
     },
     "metadata": {},
     "output_type": "display_data"
    }
   ],
   "source": [
    "i=8\n",
    "print('facet number:', i)\n",
    "display(sp.Eq(C.determinants[i], C.orientation[i]))\n",
    "\n",
    "C.subs(c0, 2*d0-1)"
   ]
  },
  {
   "cell_type": "code",
   "execution_count": 26,
   "id": "8fa603cb-fe15-461b-b5e9-a939518bafe3",
   "metadata": {},
   "outputs": [
    {
     "name": "stdout",
     "output_type": "stream",
     "text": [
      "facet number: 7\n"
     ]
    },
    {
     "data": {
      "text/latex": [
       "$\\displaystyle 2 a_{2} d_{0} - a_{2} - 2 = -1$"
      ],
      "text/plain": [
       "Eq(2*a2*d0 - a2 - 2, -1)"
      ]
     },
     "metadata": {},
     "output_type": "display_data"
    },
    {
     "data": {
      "text/latex": [
       "$\\displaystyle a_{2} \\left(2 d_{0} - 1\\right) = 1$"
      ],
      "text/plain": [
       "Eq(a2*(2*d0 - 1), 1)"
      ]
     },
     "metadata": {},
     "output_type": "display_data"
    }
   ],
   "source": [
    "i=7\n",
    "print('facet number:', i)\n",
    "display(sp.Eq(C.determinants[i], C.orientation[i]))\n",
    "\n",
    "display(sp.Eq(a2*(2*d0-1), 1))"
   ]
  },
  {
   "cell_type": "markdown",
   "id": "308248fb-f9f5-4ec0-95ed-a2247ee342f6",
   "metadata": {},
   "source": [
    "## $a2 = 1$"
   ]
  },
  {
   "cell_type": "code",
   "execution_count": 27,
   "id": "781b7baa-5759-40c4-b67b-a45abbbba430",
   "metadata": {},
   "outputs": [],
   "source": [
    "C2 = copy.deepcopy(C1)\n",
    "C = C2\n",
    "C.subs(a2, 1)\n",
    "C.subs(d0, 1)"
   ]
  },
  {
   "cell_type": "code",
   "execution_count": 28,
   "id": "60e265f3-3870-409f-be30-b15359abe4e8",
   "metadata": {},
   "outputs": [
    {
     "name": "stdout",
     "output_type": "stream",
     "text": [
      "facet number: 9\n"
     ]
    },
    {
     "data": {
      "text/latex": [
       "$\\displaystyle - b_{0} = -1$"
      ],
      "text/plain": [
       "Eq(-b0, -1)"
      ]
     },
     "metadata": {},
     "output_type": "display_data"
    }
   ],
   "source": [
    "i=9\n",
    "print('facet number:', i)\n",
    "display(sp.Eq(C.determinants[i], C.orientation[i]))\n",
    "\n",
    "C.subs(b0, 1)"
   ]
  },
  {
   "cell_type": "code",
   "execution_count": 29,
   "id": "eb604a7c-9e46-49f1-85b3-0ccdaef8acf2",
   "metadata": {},
   "outputs": [
    {
     "data": {
      "text/latex": [
       "$\\displaystyle \\left[\\begin{matrix}1 & 0 & 0 & -1 & 1 & 1 & 1\\\\0 & 1 & 0 & -1 & 0 & 1 & 1\\\\0 & 0 & 1 & 1 & -1 & -2 & -1\\end{matrix}\\right]$"
      ],
      "text/plain": [
       "Matrix([\n",
       "[1, 0, 0, -1,  1,  1,  1],\n",
       "[0, 1, 0, -1,  0,  1,  1],\n",
       "[0, 0, 1,  1, -1, -2, -1]])"
      ]
     },
     "metadata": {},
     "output_type": "display_data"
    },
    {
     "name": "stdout",
     "output_type": "stream",
     "text": [
      "1\n"
     ]
    }
   ],
   "source": [
    "display(C.char)\n",
    "print(C.is_fangiving)\n",
    "fans.append(C.char)"
   ]
  },
  {
   "cell_type": "markdown",
   "id": "68b3ee0a-9c40-4580-bbef-dc1106e7c930",
   "metadata": {},
   "source": [
    "## $a2 = -1$"
   ]
  },
  {
   "cell_type": "code",
   "execution_count": 30,
   "id": "cca56b07-067d-4d90-abb7-9b61c21cd03c",
   "metadata": {},
   "outputs": [],
   "source": [
    "C2 = copy.deepcopy(C1)\n",
    "C = C2\n",
    "C.subs(a2, -1)\n",
    "C.subs(d0, 0)"
   ]
  },
  {
   "cell_type": "code",
   "execution_count": 31,
   "id": "8b513256-9cba-420c-b282-eaf0d13917b1",
   "metadata": {},
   "outputs": [
    {
     "name": "stdout",
     "output_type": "stream",
     "text": [
      "facet number: 9\n"
     ]
    },
    {
     "data": {
      "text/latex": [
       "$\\displaystyle - 3 b_{0} - 2 = -1$"
      ],
      "text/plain": [
       "Eq(-3*b0 - 2, -1)"
      ]
     },
     "metadata": {},
     "output_type": "display_data"
    },
    {
     "name": "stdout",
     "output_type": "stream",
     "text": [
      "no solution\n"
     ]
    }
   ],
   "source": [
    "i=9\n",
    "print('facet number:', i)\n",
    "display(sp.Eq(C.determinants[i], C.orientation[i]))\n",
    "\n",
    "print('no solution')"
   ]
  },
  {
   "cell_type": "markdown",
   "id": "bfeb20f8-49a0-4098-ad9c-cb7e05ad7b7a",
   "metadata": {
    "jp-MarkdownHeadingCollapsed": true
   },
   "source": [
    "# Type 2 of the projection"
   ]
  },
  {
   "cell_type": "code",
   "execution_count": 32,
   "id": "82c26812-0fdb-4f61-b390-45e491ab4c21",
   "metadata": {},
   "outputs": [],
   "source": [
    "C1 = copy.deepcopy(C0)\n",
    "C = C1\n",
    "t=2"
   ]
  },
  {
   "cell_type": "code",
   "execution_count": 33,
   "id": "cc44ee7d-0dd0-472d-b078-564fa701ef5a",
   "metadata": {},
   "outputs": [
    {
     "data": {
      "text/latex": [
       "$\\displaystyle \\left[\\begin{matrix}1 & 0 & -1 & -2 & -1 & x\\\\0 & 1 & 1 & 1 & 0 & -1\\end{matrix}\\right]$"
      ],
      "text/plain": [
       "Matrix([\n",
       "[1, 0, -1, -2, -1,  x],\n",
       "[0, 1,  1,  1,  0, -1]])"
      ]
     },
     "metadata": {},
     "output_type": "display_data"
    }
   ],
   "source": [
    "fans_hex[t]=fans_hex[t].subs(sp.Symbol('d'), x) # to distinguish indeterminates\n",
    "display(fans_hex[t])"
   ]
  },
  {
   "cell_type": "code",
   "execution_count": 34,
   "id": "0af6c682-e569-41a4-810a-665339027db1",
   "metadata": {},
   "outputs": [
    {
     "data": {
      "text/latex": [
       "$\\displaystyle \\left[\\begin{matrix}1 & 0 & -1 & b_{1} & c_{1} & d_{1}\\\\0 & 1 & a_{2} & b_{2} & c_{2} & -1\\end{matrix}\\right] = \\left[\\begin{matrix}1 & 0 & -1 & -2 & -1 & x\\\\0 & 1 & 1 & 1 & 0 & -1\\end{matrix}\\right]$"
      ],
      "text/plain": [
       "Eq(Matrix([\n",
       "[1, 0, -1, b1, c1, d1],\n",
       "[0, 1, a2, b2, c2, -1]]), Matrix([\n",
       "[1, 0, -1, -2, -1,  x],\n",
       "[0, 1,  1,  1,  0, -1]]))"
      ]
     },
     "metadata": {},
     "output_type": "display_data"
    }
   ],
   "source": [
    "proj = C.proj([1])\n",
    "with sp.evaluate(False):\n",
    "    display(sp.Eq(proj, fans_hex[t]))\n",
    "\n",
    "C.subs(a2, 1)\n",
    "C.subs(b1, -2)\n",
    "C.subs(b2, 1)\n",
    "C.subs(c1, -1)\n",
    "C.subs(c2, 0)"
   ]
  },
  {
   "cell_type": "code",
   "execution_count": 35,
   "id": "3008bfd7-a567-448a-8a13-ad341339918e",
   "metadata": {},
   "outputs": [
    {
     "name": "stdout",
     "output_type": "stream",
     "text": [
      "facet number: 7\n"
     ]
    },
    {
     "data": {
      "text/latex": [
       "$\\displaystyle c_{0} = -1$"
      ],
      "text/plain": [
       "Eq(c0, -1)"
      ]
     },
     "metadata": {},
     "output_type": "display_data"
    }
   ],
   "source": [
    "i=7\n",
    "print('facet number:', i)\n",
    "display(sp.Eq(C.determinants[i], C.orientation[i]))\n",
    "\n",
    "C.subs(c0, -1)"
   ]
  },
  {
   "cell_type": "code",
   "execution_count": 36,
   "id": "17c466bf-1528-4d69-b9dc-6ecd48b88e1b",
   "metadata": {},
   "outputs": [
    {
     "name": "stdout",
     "output_type": "stream",
     "text": [
      "facet number: 9\n"
     ]
    },
    {
     "data": {
      "text/latex": [
       "$\\displaystyle - b_{0} - 2 = -1$"
      ],
      "text/plain": [
       "Eq(-b0 - 2, -1)"
      ]
     },
     "metadata": {},
     "output_type": "display_data"
    }
   ],
   "source": [
    "i=9\n",
    "print('facet number:', i)\n",
    "display(sp.Eq(C.determinants[i], C.orientation[i]))\n",
    "\n",
    "C.subs(b0, -1)"
   ]
  },
  {
   "cell_type": "code",
   "execution_count": 37,
   "id": "44ba10cb-4725-40c5-b47a-bb0fde4ade6b",
   "metadata": {},
   "outputs": [
    {
     "data": {
      "text/latex": [
       "$\\displaystyle \\left[\\begin{matrix}1 & 0 & 0 & -1 & -1 & -1 & d_{0}\\\\0 & 1 & 0 & -1 & -2 & -1 & d_{1}\\\\0 & 0 & 1 & 1 & 1 & 0 & -1\\end{matrix}\\right]$"
      ],
      "text/plain": [
       "Matrix([\n",
       "[1, 0, 0, -1, -1, -1, d0],\n",
       "[0, 1, 0, -1, -2, -1, d1],\n",
       "[0, 0, 1,  1,  1,  0, -1]])"
      ]
     },
     "metadata": {},
     "output_type": "display_data"
    },
    {
     "name": "stdout",
     "output_type": "stream",
     "text": [
      "1\n"
     ]
    }
   ],
   "source": [
    "display(C.char)\n",
    "print(C.is_fangiving)\n",
    "fans.append(C.char)"
   ]
  },
  {
   "cell_type": "markdown",
   "id": "70ebb503-4cb4-4bf0-b013-6d8fb2f11819",
   "metadata": {
    "jp-MarkdownHeadingCollapsed": true
   },
   "source": [
    "# Type 3 of the projection"
   ]
  },
  {
   "cell_type": "code",
   "execution_count": 38,
   "id": "491bfc9f-c747-40e7-9b28-af5c3eb515ee",
   "metadata": {},
   "outputs": [],
   "source": [
    "C1 = copy.deepcopy(C0)\n",
    "C = C1\n",
    "t=3"
   ]
  },
  {
   "cell_type": "code",
   "execution_count": 39,
   "id": "30c256b8-0912-4fed-bd2e-cdf171cca049",
   "metadata": {},
   "outputs": [
    {
     "data": {
      "text/latex": [
       "$\\displaystyle \\left[\\begin{matrix}1 & 0 & -1 & -1 & -1 & x\\\\0 & 1 & 2 & 1 & 0 & -1\\end{matrix}\\right]$"
      ],
      "text/plain": [
       "Matrix([\n",
       "[1, 0, -1, -1, -1,  x],\n",
       "[0, 1,  2,  1,  0, -1]])"
      ]
     },
     "metadata": {},
     "output_type": "display_data"
    }
   ],
   "source": [
    "fans_hex[t]=fans_hex[t].subs(sp.Symbol('d'), x) # to distinguish indeterminates\n",
    "display(fans_hex[t])"
   ]
  },
  {
   "cell_type": "code",
   "execution_count": 40,
   "id": "0ae49cf6-5ce1-4b2e-8508-92fd3d5f7713",
   "metadata": {},
   "outputs": [
    {
     "data": {
      "text/latex": [
       "$\\displaystyle \\left[\\begin{matrix}1 & 0 & -1 & b_{1} & c_{1} & d_{1}\\\\0 & 1 & a_{2} & b_{2} & c_{2} & -1\\end{matrix}\\right] = \\left[\\begin{matrix}1 & 0 & -1 & -1 & -1 & x\\\\0 & 1 & 2 & 1 & 0 & -1\\end{matrix}\\right]$"
      ],
      "text/plain": [
       "Eq(Matrix([\n",
       "[1, 0, -1, b1, c1, d1],\n",
       "[0, 1, a2, b2, c2, -1]]), Matrix([\n",
       "[1, 0, -1, -1, -1,  x],\n",
       "[0, 1,  2,  1,  0, -1]]))"
      ]
     },
     "metadata": {},
     "output_type": "display_data"
    }
   ],
   "source": [
    "proj = C.proj([1])\n",
    "with sp.evaluate(False):\n",
    "    display(sp.Eq(proj, fans_hex[t]))\n",
    "\n",
    "C.subs(a2, 2)\n",
    "C.subs(b1, -1)\n",
    "C.subs(b2, 1)\n",
    "C.subs(c1, -1)\n",
    "C.subs(c2, 0)"
   ]
  },
  {
   "cell_type": "code",
   "execution_count": 41,
   "id": "8f2b8533-afa0-43b5-9ba0-df878672edfc",
   "metadata": {},
   "outputs": [
    {
     "name": "stdout",
     "output_type": "stream",
     "text": [
      "facet number: 7\n"
     ]
    },
    {
     "data": {
      "text/latex": [
       "$\\displaystyle 2 c_{0} = -1$"
      ],
      "text/plain": [
       "Eq(2*c0, -1)"
      ]
     },
     "metadata": {},
     "output_type": "display_data"
    },
    {
     "name": "stdout",
     "output_type": "stream",
     "text": [
      "facet number: 8\n"
     ]
    },
    {
     "data": {
      "text/latex": [
       "$\\displaystyle c_{0} = -1$"
      ],
      "text/plain": [
       "Eq(c0, -1)"
      ]
     },
     "metadata": {},
     "output_type": "display_data"
    },
    {
     "name": "stdout",
     "output_type": "stream",
     "text": [
      "no solution\n"
     ]
    }
   ],
   "source": [
    "i=7\n",
    "print('facet number:', i)\n",
    "display(sp.Eq(C.determinants[i], C.orientation[i]))\n",
    "\n",
    "i=8\n",
    "print('facet number:', i)\n",
    "display(sp.Eq(C.determinants[i], C.orientation[i]))\n",
    "\n",
    "print('no solution')"
   ]
  },
  {
   "cell_type": "markdown",
   "id": "44941c64-ee84-437d-8ee1-9c135bc1ceed",
   "metadata": {
    "jp-MarkdownHeadingCollapsed": true
   },
   "source": [
    "# Type 4 of the projection"
   ]
  },
  {
   "cell_type": "code",
   "execution_count": 42,
   "id": "a0917927-1490-4016-87e0-74bd9a1cf8e4",
   "metadata": {},
   "outputs": [],
   "source": [
    "C1 = copy.deepcopy(C0)\n",
    "C = C1\n",
    "t=4"
   ]
  },
  {
   "cell_type": "code",
   "execution_count": 43,
   "id": "a4935de8-a515-4832-809c-f249361d668c",
   "metadata": {},
   "outputs": [
    {
     "data": {
      "text/latex": [
       "$\\displaystyle \\left[\\begin{matrix}1 & 0 & -1 & x - 2 & x - 1 & x\\\\0 & 1 & 0 & -1 & -1 & -1\\end{matrix}\\right]$"
      ],
      "text/plain": [
       "Matrix([\n",
       "[1, 0, -1, x - 2, x - 1,  x],\n",
       "[0, 1,  0,    -1,    -1, -1]])"
      ]
     },
     "metadata": {},
     "output_type": "display_data"
    }
   ],
   "source": [
    "fans_hex[t]=fans_hex[t].subs(sp.Symbol('d'), x) # to distinguish indeterminates\n",
    "display(fans_hex[t])"
   ]
  },
  {
   "cell_type": "code",
   "execution_count": 44,
   "id": "6be8408c-470c-45f8-8795-86914d9aa45f",
   "metadata": {},
   "outputs": [
    {
     "data": {
      "text/latex": [
       "$\\displaystyle \\left[\\begin{matrix}1 & 0 & -1 & b_{1} & c_{1} & d_{1}\\\\0 & 1 & a_{2} & b_{2} & c_{2} & -1\\end{matrix}\\right] = \\left[\\begin{matrix}1 & 0 & -1 & x - 2 & x - 1 & x\\\\0 & 1 & 0 & -1 & -1 & -1\\end{matrix}\\right]$"
      ],
      "text/plain": [
       "Eq(Matrix([\n",
       "[1, 0, -1, b1, c1, d1],\n",
       "[0, 1, a2, b2, c2, -1]]), Matrix([\n",
       "[1, 0, -1, x - 2, x - 1,  x],\n",
       "[0, 1,  0,    -1,    -1, -1]]))"
      ]
     },
     "metadata": {},
     "output_type": "display_data"
    }
   ],
   "source": [
    "proj = C.proj([1])\n",
    "with sp.evaluate(False):\n",
    "    display(sp.Eq(proj, fans_hex[t]))\n",
    "\n",
    "C.subs(a2, 0)\n",
    "C.subs(b1, d1-2)\n",
    "C.subs(b2, -1)\n",
    "C.subs(c1, d1-1)\n",
    "C.subs(c2, -1)"
   ]
  },
  {
   "cell_type": "code",
   "execution_count": 45,
   "id": "e2095587-3cd6-4475-ab11-9d16d26f3fe5",
   "metadata": {},
   "outputs": [
    {
     "name": "stdout",
     "output_type": "stream",
     "text": [
      "facet number: 8\n"
     ]
    },
    {
     "data": {
      "text/latex": [
       "$\\displaystyle c_{0} - d_{0} = -1$"
      ],
      "text/plain": [
       "Eq(c0 - d0, -1)"
      ]
     },
     "metadata": {},
     "output_type": "display_data"
    }
   ],
   "source": [
    "i=8\n",
    "print('facet number:', i)\n",
    "display(sp.Eq(C.determinants[i], C.orientation[i]))\n",
    "\n",
    "C.subs(c0, d0-1)"
   ]
  },
  {
   "cell_type": "code",
   "execution_count": 46,
   "id": "9deac59e-f7d1-4f1d-a9dd-14276c23eebe",
   "metadata": {},
   "outputs": [
    {
     "name": "stdout",
     "output_type": "stream",
     "text": [
      "facet number: 9\n"
     ]
    },
    {
     "data": {
      "text/latex": [
       "$\\displaystyle - b_{0} + d_{0} - 2 = -1$"
      ],
      "text/plain": [
       "Eq(-b0 + d0 - 2, -1)"
      ]
     },
     "metadata": {},
     "output_type": "display_data"
    }
   ],
   "source": [
    "i=9\n",
    "print('facet number:', i)\n",
    "display(sp.Eq(C.determinants[i], C.orientation[i]))\n",
    "\n",
    "C.subs(b0, d0-1)"
   ]
  },
  {
   "cell_type": "code",
   "execution_count": 47,
   "id": "d5d9b141-1967-4fcb-996e-65fada12e339",
   "metadata": {},
   "outputs": [
    {
     "data": {
      "text/latex": [
       "$\\displaystyle \\left[\\begin{matrix}1 & 0 & 0 & -1 & d_{0} - 1 & d_{0} - 1 & d_{0}\\\\0 & 1 & 0 & -1 & d_{1} - 2 & d_{1} - 1 & d_{1}\\\\0 & 0 & 1 & 0 & -1 & -1 & -1\\end{matrix}\\right]$"
      ],
      "text/plain": [
       "Matrix([\n",
       "[1, 0, 0, -1, d0 - 1, d0 - 1, d0],\n",
       "[0, 1, 0, -1, d1 - 2, d1 - 1, d1],\n",
       "[0, 0, 1,  0,     -1,     -1, -1]])"
      ]
     },
     "metadata": {},
     "output_type": "display_data"
    },
    {
     "name": "stdout",
     "output_type": "stream",
     "text": [
      "1\n"
     ]
    }
   ],
   "source": [
    "display(C.char)\n",
    "print(C.is_fangiving)\n",
    "fans.append(C.char)"
   ]
  },
  {
   "cell_type": "markdown",
   "id": "e13cca1c-6fa1-4033-b8df-92608592359d",
   "metadata": {
    "jp-MarkdownHeadingCollapsed": true
   },
   "source": [
    "# Type 5 of the projection"
   ]
  },
  {
   "cell_type": "code",
   "execution_count": 48,
   "id": "0cf79787-98da-46cf-826b-cf3abeac846e",
   "metadata": {},
   "outputs": [],
   "source": [
    "C1 = copy.deepcopy(C0)\n",
    "C = C1\n",
    "t=5"
   ]
  },
  {
   "cell_type": "code",
   "execution_count": 49,
   "id": "c679ad20-bbc5-4158-9760-34256d1282f5",
   "metadata": {},
   "outputs": [
    {
     "data": {
      "text/latex": [
       "$\\displaystyle \\left[\\begin{matrix}1 & 0 & -1 & x - 1 & 2 x - 1 & x\\\\0 & 1 & 0 & -1 & -2 & -1\\end{matrix}\\right]$"
      ],
      "text/plain": [
       "Matrix([\n",
       "[1, 0, -1, x - 1, 2*x - 1,  x],\n",
       "[0, 1,  0,    -1,      -2, -1]])"
      ]
     },
     "metadata": {},
     "output_type": "display_data"
    }
   ],
   "source": [
    "fans_hex[t]=fans_hex[t].subs(sp.Symbol('d'), x) # to distinguish indeterminates\n",
    "display(fans_hex[t])"
   ]
  },
  {
   "cell_type": "code",
   "execution_count": 50,
   "id": "a75667e6-fa4a-488e-8d87-c76f84533e1f",
   "metadata": {},
   "outputs": [
    {
     "data": {
      "text/latex": [
       "$\\displaystyle \\left[\\begin{matrix}1 & 0 & -1 & b_{1} & c_{1} & d_{1}\\\\0 & 1 & a_{2} & b_{2} & c_{2} & -1\\end{matrix}\\right] = \\left[\\begin{matrix}1 & 0 & -1 & x - 1 & 2 x - 1 & x\\\\0 & 1 & 0 & -1 & -2 & -1\\end{matrix}\\right]$"
      ],
      "text/plain": [
       "Eq(Matrix([\n",
       "[1, 0, -1, b1, c1, d1],\n",
       "[0, 1, a2, b2, c2, -1]]), Matrix([\n",
       "[1, 0, -1, x - 1, 2*x - 1,  x],\n",
       "[0, 1,  0,    -1,      -2, -1]]))"
      ]
     },
     "metadata": {},
     "output_type": "display_data"
    },
    {
     "name": "stdout",
     "output_type": "stream",
     "text": [
      "facet number: 7\n"
     ]
    },
    {
     "data": {
      "text/latex": [
       "$\\displaystyle a_{2} c_{0} + c_{2} = -1$"
      ],
      "text/plain": [
       "Eq(a2*c0 + c2, -1)"
      ]
     },
     "metadata": {},
     "output_type": "display_data"
    },
    {
     "name": "stdout",
     "output_type": "stream",
     "text": [
      "no solution\n"
     ]
    }
   ],
   "source": [
    "proj = C.proj([1])\n",
    "with sp.evaluate(False):\n",
    "    display(sp.Eq(proj, fans_hex[t]))\n",
    "\n",
    "i=7\n",
    "print('facet number:', i)\n",
    "display(sp.Eq(C.determinants[i], C.orientation[i]))\n",
    "\n",
    "print('no solution')"
   ]
  },
  {
   "cell_type": "markdown",
   "id": "a9addbe1-2134-4a54-aef6-e40546c71d0b",
   "metadata": {
    "jp-MarkdownHeadingCollapsed": true
   },
   "source": [
    "# Type 6 of the projection"
   ]
  },
  {
   "cell_type": "code",
   "execution_count": 51,
   "id": "fb9f3032-456d-43ee-acee-16d675323d6e",
   "metadata": {},
   "outputs": [],
   "source": [
    "C1 = copy.deepcopy(C0)\n",
    "C = C1\n",
    "t=6"
   ]
  },
  {
   "cell_type": "code",
   "execution_count": 52,
   "id": "7714115a-d95f-4300-849a-009d53b7faa8",
   "metadata": {},
   "outputs": [
    {
     "data": {
      "text/latex": [
       "$\\displaystyle \\left[\\begin{matrix}1 & 0 & -1 & -2 & - 2 x - 1 & 2\\\\0 & 1 & 1 & 1 & x & -1\\end{matrix}\\right]$"
      ],
      "text/plain": [
       "Matrix([\n",
       "[1, 0, -1, -2, -2*x - 1,  2],\n",
       "[0, 1,  1,  1,        x, -1]])"
      ]
     },
     "metadata": {},
     "output_type": "display_data"
    }
   ],
   "source": [
    "fans_hex[t]=fans_hex[t].subs(sp.Symbol('c'), x) # to distinguish indeterminates\n",
    "display(fans_hex[t])"
   ]
  },
  {
   "cell_type": "code",
   "execution_count": 53,
   "id": "1698b00a-ced3-4c81-b539-08034194fd0a",
   "metadata": {},
   "outputs": [
    {
     "data": {
      "text/latex": [
       "$\\displaystyle \\left[\\begin{matrix}1 & 0 & -1 & b_{1} & c_{1} & d_{1}\\\\0 & 1 & a_{2} & b_{2} & c_{2} & -1\\end{matrix}\\right] = \\left[\\begin{matrix}1 & 0 & -1 & -2 & - 2 x - 1 & 2\\\\0 & 1 & 1 & 1 & x & -1\\end{matrix}\\right]$"
      ],
      "text/plain": [
       "Eq(Matrix([\n",
       "[1, 0, -1, b1, c1, d1],\n",
       "[0, 1, a2, b2, c2, -1]]), Matrix([\n",
       "[1, 0, -1, -2, -2*x - 1,  2],\n",
       "[0, 1,  1,  1,        x, -1]]))"
      ]
     },
     "metadata": {},
     "output_type": "display_data"
    }
   ],
   "source": [
    "proj = C.proj([1])\n",
    "with sp.evaluate(False):\n",
    "    display(sp.Eq(proj, fans_hex[t]))\n",
    "\n",
    "C.subs(a2, 1)\n",
    "C.subs(b1, -2)\n",
    "C.subs(b2, 1)\n",
    "C.subs(c1, -2*c2-1)\n",
    "C.subs(d1, 2)"
   ]
  },
  {
   "cell_type": "code",
   "execution_count": 54,
   "id": "ddd792ff-8087-4bb2-872d-9c6460401106",
   "metadata": {},
   "outputs": [
    {
     "name": "stdout",
     "output_type": "stream",
     "text": [
      "facet number: 7\n"
     ]
    },
    {
     "data": {
      "text/latex": [
       "$\\displaystyle c_{0} + c_{2} = -1$"
      ],
      "text/plain": [
       "Eq(c0 + c2, -1)"
      ]
     },
     "metadata": {},
     "output_type": "display_data"
    }
   ],
   "source": [
    "i=7\n",
    "print('facet number:', i)\n",
    "display(sp.Eq(C.determinants[i], C.orientation[i]))\n",
    "\n",
    "C.subs(c0, -1-c2)"
   ]
  },
  {
   "cell_type": "code",
   "execution_count": 55,
   "id": "da20b23b-c174-421f-a74b-5ea49eb8d529",
   "metadata": {},
   "outputs": [
    {
     "name": "stdout",
     "output_type": "stream",
     "text": [
      "facet number: 8\n"
     ]
    },
    {
     "data": {
      "text/latex": [
       "$\\displaystyle c_{2} d_{0} - c_{2} - 1 = -1$"
      ],
      "text/plain": [
       "Eq(c2*d0 - c2 - 1, -1)"
      ]
     },
     "metadata": {},
     "output_type": "display_data"
    },
    {
     "name": "stdout",
     "output_type": "stream",
     "text": [
      "c2=0 => type 2\n"
     ]
    }
   ],
   "source": [
    "i=8\n",
    "print('facet number:', i)\n",
    "display(sp.Eq(C.determinants[i], C.orientation[i]))\n",
    "\n",
    "print('c2=0 => type 2')\n",
    "C.subs(d0, 1)"
   ]
  },
  {
   "cell_type": "code",
   "execution_count": 56,
   "id": "c4f507c5-b2ec-43ba-a210-3608647d808d",
   "metadata": {},
   "outputs": [
    {
     "name": "stdout",
     "output_type": "stream",
     "text": [
      "facet number: 9\n"
     ]
    },
    {
     "data": {
      "text/latex": [
       "$\\displaystyle - b_{0} c_{2} - b_{0} - c_{2} - 2 = -1$"
      ],
      "text/plain": [
       "Eq(-b0*c2 - b0 - c2 - 2, -1)"
      ]
     },
     "metadata": {},
     "output_type": "display_data"
    },
    {
     "data": {
      "text/latex": [
       "$\\displaystyle \\left(b_{0} + 1\\right) \\left(c_{2} + 1\\right) = 0$"
      ],
      "text/plain": [
       "Eq((b0 + 1)*(c2 + 1), 0)"
      ]
     },
     "metadata": {},
     "output_type": "display_data"
    }
   ],
   "source": [
    "i=9\n",
    "print('facet number:', i)\n",
    "display(sp.Eq(C.determinants[i], C.orientation[i]))\n",
    "display(sp.Eq((b0+1)*(c2+1), 0))"
   ]
  },
  {
   "cell_type": "markdown",
   "id": "21e2d789-5ae9-4dd2-bf85-e922fa092825",
   "metadata": {},
   "source": [
    "## $b_0 = -1$"
   ]
  },
  {
   "cell_type": "code",
   "execution_count": 57,
   "id": "d54464ac-6895-44f2-b8e9-d9b8679b4a30",
   "metadata": {},
   "outputs": [],
   "source": [
    "C2 = copy.deepcopy(C1)\n",
    "C = C2\n",
    "C.subs(b0, -1)"
   ]
  },
  {
   "cell_type": "code",
   "execution_count": 58,
   "id": "ba4decc2-8f19-4773-8279-cd162c8c5716",
   "metadata": {},
   "outputs": [
    {
     "data": {
      "text/latex": [
       "$\\displaystyle \\left[\\begin{matrix}1 & 0 & 0 & -1 & -1 & - c_{2} - 1 & 1\\\\0 & 1 & 0 & -1 & -2 & - 2 c_{2} - 1 & 2\\\\0 & 0 & 1 & 1 & 1 & c_{2} & -1\\end{matrix}\\right]$"
      ],
      "text/plain": [
       "Matrix([\n",
       "[1, 0, 0, -1, -1,   -c2 - 1,  1],\n",
       "[0, 1, 0, -1, -2, -2*c2 - 1,  2],\n",
       "[0, 0, 1,  1,  1,        c2, -1]])"
      ]
     },
     "metadata": {},
     "output_type": "display_data"
    },
    {
     "name": "stdout",
     "output_type": "stream",
     "text": [
      "1\n"
     ]
    }
   ],
   "source": [
    "display(C.char)\n",
    "print(C.is_fangiving)\n",
    "fans.append(C.char)"
   ]
  },
  {
   "cell_type": "markdown",
   "id": "2155e511-c638-47a6-b081-10492d2e8500",
   "metadata": {},
   "source": [
    "## $c_2 = -1$"
   ]
  },
  {
   "cell_type": "code",
   "execution_count": 59,
   "id": "d03b90c2-8e88-44db-b83a-bdc3ab86b165",
   "metadata": {},
   "outputs": [],
   "source": [
    "C2 = copy.deepcopy(C1)\n",
    "C = C2\n",
    "C.subs(c2, -1)"
   ]
  },
  {
   "cell_type": "code",
   "execution_count": 60,
   "id": "2de1860a-d812-4bf5-b696-2fe51d7f982e",
   "metadata": {},
   "outputs": [
    {
     "data": {
      "text/latex": [
       "$\\displaystyle \\left[\\begin{matrix}1 & 0 & 0 & -1 & b_{0} & 0 & 1\\\\0 & 1 & 0 & -1 & -2 & 1 & 2\\\\0 & 0 & 1 & 1 & 1 & -1 & -1\\end{matrix}\\right]$"
      ],
      "text/plain": [
       "Matrix([\n",
       "[1, 0, 0, -1, b0,  0,  1],\n",
       "[0, 1, 0, -1, -2,  1,  2],\n",
       "[0, 0, 1,  1,  1, -1, -1]])"
      ]
     },
     "metadata": {},
     "output_type": "display_data"
    },
    {
     "name": "stdout",
     "output_type": "stream",
     "text": [
      "1\n"
     ]
    }
   ],
   "source": [
    "display(C.char)\n",
    "print(C.is_fangiving)\n",
    "fans.append(C.char)"
   ]
  },
  {
   "cell_type": "markdown",
   "id": "b506c72e-381a-4e3a-9403-4f40dd498cce",
   "metadata": {
    "jp-MarkdownHeadingCollapsed": true
   },
   "source": [
    "# Type 7 of the projection"
   ]
  },
  {
   "cell_type": "code",
   "execution_count": 61,
   "id": "41f03709-f6af-4806-8598-51cb5aa2ad5f",
   "metadata": {},
   "outputs": [],
   "source": [
    "C1 = copy.deepcopy(C0)\n",
    "C = C1\n",
    "t=7"
   ]
  },
  {
   "cell_type": "code",
   "execution_count": 62,
   "id": "ea6fd2df-e85c-417a-9147-dbeb0ed1e37f",
   "metadata": {},
   "outputs": [
    {
     "data": {
      "text/latex": [
       "$\\displaystyle \\left[\\begin{matrix}1 & 0 & -1 & -1 & x - 1 & x\\\\0 & 1 & 1 & 0 & -1 & -1\\end{matrix}\\right]$"
      ],
      "text/plain": [
       "Matrix([\n",
       "[1, 0, -1, -1, x - 1,  x],\n",
       "[0, 1,  1,  0,    -1, -1]])"
      ]
     },
     "metadata": {},
     "output_type": "display_data"
    }
   ],
   "source": [
    "fans_hex[t]=fans_hex[t].subs(sp.Symbol('d'), x) # to distinguish indeterminates\n",
    "display(fans_hex[t])"
   ]
  },
  {
   "cell_type": "code",
   "execution_count": 63,
   "id": "8875a70e-573a-454d-bd78-19f5504c2160",
   "metadata": {},
   "outputs": [
    {
     "data": {
      "text/latex": [
       "$\\displaystyle \\left[\\begin{matrix}1 & 0 & -1 & b_{1} & c_{1} & d_{1}\\\\0 & 1 & a_{2} & b_{2} & c_{2} & -1\\end{matrix}\\right] = \\left[\\begin{matrix}1 & 0 & -1 & -1 & x - 1 & x\\\\0 & 1 & 1 & 0 & -1 & -1\\end{matrix}\\right]$"
      ],
      "text/plain": [
       "Eq(Matrix([\n",
       "[1, 0, -1, b1, c1, d1],\n",
       "[0, 1, a2, b2, c2, -1]]), Matrix([\n",
       "[1, 0, -1, -1, x - 1,  x],\n",
       "[0, 1,  1,  0,    -1, -1]]))"
      ]
     },
     "metadata": {},
     "output_type": "display_data"
    }
   ],
   "source": [
    "proj = C.proj([1])\n",
    "with sp.evaluate(False):\n",
    "    display(sp.Eq(proj, fans_hex[t]))\n",
    "\n",
    "C.subs(a2, 1)\n",
    "C.subs(b1, -1)\n",
    "C.subs(b2, 0)\n",
    "C.subs(c1, d1-1)\n",
    "C.subs(c2, -1)"
   ]
  },
  {
   "cell_type": "code",
   "execution_count": 64,
   "id": "bf40ebf0-c224-4c8d-b27b-ad4c86365323",
   "metadata": {},
   "outputs": [
    {
     "name": "stdout",
     "output_type": "stream",
     "text": [
      "facet number: 7\n"
     ]
    },
    {
     "data": {
      "text/latex": [
       "$\\displaystyle c_{0} - 1 = -1$"
      ],
      "text/plain": [
       "Eq(c0 - 1, -1)"
      ]
     },
     "metadata": {},
     "output_type": "display_data"
    }
   ],
   "source": [
    "i=7\n",
    "print('facet number:', i)\n",
    "display(sp.Eq(C.determinants[i], C.orientation[i]))\n",
    "\n",
    "C.subs(c0, 0)"
   ]
  },
  {
   "cell_type": "code",
   "execution_count": 65,
   "id": "3ddefb90-25f3-4e3f-b0fd-a03cdb8642dd",
   "metadata": {},
   "outputs": [
    {
     "name": "stdout",
     "output_type": "stream",
     "text": [
      "facet number: 8\n"
     ]
    },
    {
     "data": {
      "text/latex": [
       "$\\displaystyle - d_{0} = -1$"
      ],
      "text/plain": [
       "Eq(-d0, -1)"
      ]
     },
     "metadata": {},
     "output_type": "display_data"
    }
   ],
   "source": [
    "i=8\n",
    "print('facet number:', i)\n",
    "display(sp.Eq(C.determinants[i], C.orientation[i]))\n",
    "\n",
    "C.subs(d0, 1)"
   ]
  },
  {
   "cell_type": "code",
   "execution_count": 66,
   "id": "e932bd25-7cb8-4179-bb12-7ea65ccd2809",
   "metadata": {},
   "outputs": [
    {
     "name": "stdout",
     "output_type": "stream",
     "text": [
      "facet number: 9\n"
     ]
    },
    {
     "data": {
      "text/latex": [
       "$\\displaystyle b_{0} d_{1} - 2 b_{0} - 1 = -1$"
      ],
      "text/plain": [
       "Eq(b0*d1 - 2*b0 - 1, -1)"
      ]
     },
     "metadata": {},
     "output_type": "display_data"
    },
    {
     "data": {
      "text/latex": [
       "$\\displaystyle b_{0} \\left(d_{1} - 2\\right) = 0$"
      ],
      "text/plain": [
       "Eq(b0*(d1 - 2), 0)"
      ]
     },
     "metadata": {},
     "output_type": "display_data"
    }
   ],
   "source": [
    "i=9\n",
    "print('facet number:', i)\n",
    "display(sp.Eq(C.determinants[i], C.orientation[i]))\n",
    "display(sp.Eq(b0*(d1-2),0))"
   ]
  },
  {
   "cell_type": "markdown",
   "id": "e3842126-0eee-42be-ae90-d1f5206e2db0",
   "metadata": {},
   "source": [
    "## $b_0 = 0$"
   ]
  },
  {
   "cell_type": "code",
   "execution_count": 67,
   "id": "1057f426-148b-4dec-afdd-4b234c862b25",
   "metadata": {},
   "outputs": [],
   "source": [
    "C2 = copy.deepcopy(C1)\n",
    "C = C2\n",
    "C.subs(b0, 0)"
   ]
  },
  {
   "cell_type": "code",
   "execution_count": 68,
   "id": "db46f453-07fb-47dc-b74b-424c63a26a91",
   "metadata": {},
   "outputs": [
    {
     "data": {
      "text/latex": [
       "$\\displaystyle \\left[\\begin{matrix}1 & 0 & 0 & -1 & 0 & 0 & 1\\\\0 & 1 & 0 & -1 & -1 & d_{1} - 1 & d_{1}\\\\0 & 0 & 1 & 1 & 0 & -1 & -1\\end{matrix}\\right]$"
      ],
      "text/plain": [
       "Matrix([\n",
       "[1, 0, 0, -1,  0,      0,  1],\n",
       "[0, 1, 0, -1, -1, d1 - 1, d1],\n",
       "[0, 0, 1,  1,  0,     -1, -1]])"
      ]
     },
     "metadata": {},
     "output_type": "display_data"
    },
    {
     "name": "stdout",
     "output_type": "stream",
     "text": [
      "1\n"
     ]
    }
   ],
   "source": [
    "display(C.char)\n",
    "print(C.is_fangiving)\n",
    "fans.append(C.char)"
   ]
  },
  {
   "cell_type": "markdown",
   "id": "b2a96375-6226-4999-a010-49312cdc3208",
   "metadata": {},
   "source": [
    "## $d_1 = 2$"
   ]
  },
  {
   "cell_type": "code",
   "execution_count": 69,
   "id": "b4b4af6e-8b67-4b58-9062-024eaa1b17a9",
   "metadata": {},
   "outputs": [],
   "source": [
    "C2 = copy.deepcopy(C1)\n",
    "C = C2\n",
    "C.subs(d1, 2)"
   ]
  },
  {
   "cell_type": "code",
   "execution_count": 70,
   "id": "1da4f127-65ac-4094-a556-b799567b3ca4",
   "metadata": {},
   "outputs": [
    {
     "data": {
      "text/latex": [
       "$\\displaystyle \\left[\\begin{matrix}1 & 0 & 0 & -1 & b_{0} & 0 & 1\\\\0 & 1 & 0 & -1 & -1 & 1 & 2\\\\0 & 0 & 1 & 1 & 0 & -1 & -1\\end{matrix}\\right]$"
      ],
      "text/plain": [
       "Matrix([\n",
       "[1, 0, 0, -1, b0,  0,  1],\n",
       "[0, 1, 0, -1, -1,  1,  2],\n",
       "[0, 0, 1,  1,  0, -1, -1]])"
      ]
     },
     "metadata": {},
     "output_type": "display_data"
    },
    {
     "name": "stdout",
     "output_type": "stream",
     "text": [
      "1\n"
     ]
    }
   ],
   "source": [
    "display(C.char)\n",
    "print(C.is_fangiving)\n",
    "fans.append(C.char)"
   ]
  },
  {
   "cell_type": "markdown",
   "id": "a1883151-e4d5-43c4-b699-857d4f47dfd3",
   "metadata": {
    "jp-MarkdownHeadingCollapsed": true
   },
   "source": [
    "# Type 8 of the projection"
   ]
  },
  {
   "cell_type": "code",
   "execution_count": 24,
   "id": "89d314fc-4712-4100-8ad5-3f5783b234d0",
   "metadata": {},
   "outputs": [],
   "source": [
    "C1 = copy.deepcopy(C0)\n",
    "C = C1\n",
    "t=8"
   ]
  },
  {
   "cell_type": "code",
   "execution_count": 25,
   "id": "4f942631-efc8-490a-a5da-ef2047ecb815",
   "metadata": {},
   "outputs": [
    {
     "data": {
      "text/latex": [
       "$\\displaystyle \\left[\\begin{matrix}1 & 0 & -1 & x & 1 & 2\\\\0 & 1 & 1 & - x - 1 & -1 & -1\\end{matrix}\\right]$"
      ],
      "text/plain": [
       "Matrix([\n",
       "[1, 0, -1,      x,  1,  2],\n",
       "[0, 1,  1, -x - 1, -1, -1]])"
      ]
     },
     "metadata": {},
     "output_type": "display_data"
    }
   ],
   "source": [
    "fans_hex[t]=fans_hex[t].subs(sp.Symbol('b'), x) # to distinguish indeterminates\n",
    "display(fans_hex[t])"
   ]
  },
  {
   "cell_type": "code",
   "execution_count": 26,
   "id": "6ba5a60e-bc55-4445-bfac-df31ce406585",
   "metadata": {},
   "outputs": [
    {
     "data": {
      "text/latex": [
       "$\\displaystyle \\left[\\begin{matrix}1 & 0 & -1 & b_{1} & c_{1} & d_{1}\\\\0 & 1 & a_{2} & b_{2} & c_{2} & -1\\end{matrix}\\right] = \\left[\\begin{matrix}1 & 0 & -1 & x & 1 & 2\\\\0 & 1 & 1 & - x - 1 & -1 & -1\\end{matrix}\\right]$"
      ],
      "text/plain": [
       "Eq(Matrix([\n",
       "[1, 0, -1, b1, c1, d1],\n",
       "[0, 1, a2, b2, c2, -1]]), Matrix([\n",
       "[1, 0, -1,      x,  1,  2],\n",
       "[0, 1,  1, -x - 1, -1, -1]]))"
      ]
     },
     "metadata": {},
     "output_type": "display_data"
    }
   ],
   "source": [
    "proj = C.proj([1])\n",
    "with sp.evaluate(False):\n",
    "    display(sp.Eq(proj, fans_hex[t]))\n",
    "\n",
    "C.subs(a2, 1)\n",
    "C.subs(b2, -b1-1)\n",
    "C.subs(c1, 1)\n",
    "C.subs(c2, -1)\n",
    "C.subs(d1, 2)"
   ]
  },
  {
   "cell_type": "code",
   "execution_count": 27,
   "id": "166754be-ce0c-4ded-bf79-d8dfb56adcc4",
   "metadata": {},
   "outputs": [
    {
     "name": "stdout",
     "output_type": "stream",
     "text": [
      "facet number: 7\n"
     ]
    },
    {
     "data": {
      "text/latex": [
       "$\\displaystyle c_{0} - 1 = -1$"
      ],
      "text/plain": [
       "Eq(c0 - 1, -1)"
      ]
     },
     "metadata": {},
     "output_type": "display_data"
    }
   ],
   "source": [
    "i=7\n",
    "print('facet number:', i)\n",
    "display(sp.Eq(C.determinants[i], C.orientation[i]))\n",
    "\n",
    "C.subs(c0, 0)"
   ]
  },
  {
   "cell_type": "code",
   "execution_count": 28,
   "id": "9d14dcf2-4779-4502-80f1-2aeabdc303ff",
   "metadata": {},
   "outputs": [
    {
     "name": "stdout",
     "output_type": "stream",
     "text": [
      "facet number: 8\n"
     ]
    },
    {
     "data": {
      "text/latex": [
       "$\\displaystyle - d_{0} = -1$"
      ],
      "text/plain": [
       "Eq(-d0, -1)"
      ]
     },
     "metadata": {},
     "output_type": "display_data"
    }
   ],
   "source": [
    "i=8\n",
    "print('facet number:', i)\n",
    "display(sp.Eq(C.determinants[i], C.orientation[i]))\n",
    "\n",
    "C.subs(d0, 1)"
   ]
  },
  {
   "cell_type": "code",
   "execution_count": 34,
   "id": "61eb6f39-ebac-40c5-ad64-b3a995216d6c",
   "metadata": {},
   "outputs": [
    {
     "data": {
      "text/latex": [
       "$\\displaystyle \\left[\\begin{matrix}1 & 0 & 0 & -1 & b_{0} & 0 & 1\\\\0 & 1 & 0 & -1 & b_{1} & 1 & 2\\\\0 & 0 & 1 & 1 & - b_{1} - 1 & -1 & -1\\end{matrix}\\right]$"
      ],
      "text/plain": [
       "Matrix([\n",
       "[1, 0, 0, -1,      b0,  0,  1],\n",
       "[0, 1, 0, -1,      b1,  1,  2],\n",
       "[0, 0, 1,  1, -b1 - 1, -1, -1]])"
      ]
     },
     "metadata": {},
     "output_type": "display_data"
    }
   ],
   "source": [
    "display(C.char)\n",
    "C.is_fangiving\n",
    "fans.append(C.char)"
   ]
  },
  {
   "cell_type": "markdown",
   "id": "7eb0b337-7b16-49e7-adf3-f7fb9324e798",
   "metadata": {
    "jp-MarkdownHeadingCollapsed": true
   },
   "source": [
    "# Type 9 of the projection"
   ]
  },
  {
   "cell_type": "code",
   "execution_count": 467,
   "id": "e2ac2d48-b4c1-48b9-9ce1-afec26178f40",
   "metadata": {},
   "outputs": [],
   "source": [
    "C1 = copy.deepcopy(C0)\n",
    "C = C1\n",
    "t=9"
   ]
  },
  {
   "cell_type": "code",
   "execution_count": 468,
   "id": "14f8eb6b-5a89-45d9-a0a6-bfd3c1a3b9c7",
   "metadata": {},
   "outputs": [
    {
     "data": {
      "text/latex": [
       "$\\displaystyle \\left[\\begin{matrix}1 & 0 & -1 & - x - 2 & - x - 1 & 1\\\\0 & 1 & 1 & x + 1 & x & -1\\end{matrix}\\right]$"
      ],
      "text/plain": [
       "Matrix([\n",
       "[1, 0, -1, -x - 2, -x - 1,  1],\n",
       "[0, 1,  1,  x + 1,      x, -1]])"
      ]
     },
     "metadata": {},
     "output_type": "display_data"
    }
   ],
   "source": [
    "fans_hex[t]=fans_hex[t].subs(sp.Symbol('c'), x) # to distinguish indeterminates\n",
    "display(fans_hex[t])"
   ]
  },
  {
   "cell_type": "code",
   "execution_count": 469,
   "id": "64621928-2530-4083-9071-ba8d80d09ce1",
   "metadata": {},
   "outputs": [
    {
     "data": {
      "text/latex": [
       "$\\displaystyle \\left[\\begin{matrix}1 & 0 & -1 & b_{1} & c_{1} & d_{1}\\\\0 & 1 & a_{2} & b_{2} & c_{2} & -1\\end{matrix}\\right] = \\left[\\begin{matrix}1 & 0 & -1 & - x - 2 & - x - 1 & 1\\\\0 & 1 & 1 & x + 1 & x & -1\\end{matrix}\\right]$"
      ],
      "text/plain": [
       "Eq(Matrix([\n",
       "[1, 0, -1, b1, c1, d1],\n",
       "[0, 1, a2, b2, c2, -1]]), Matrix([\n",
       "[1, 0, -1, -x - 2, -x - 1,  1],\n",
       "[0, 1,  1,  x + 1,      x, -1]]))"
      ]
     },
     "metadata": {},
     "output_type": "display_data"
    }
   ],
   "source": [
    "proj = C.proj([1])\n",
    "with sp.evaluate(False):\n",
    "    display(sp.Eq(proj, fans_hex[t]))\n",
    "\n",
    "C.subs(a2, 1)\n",
    "C.subs(b1, -c2-2)\n",
    "C.subs(b2, c2+1)\n",
    "C.subs(c1, -c2-1)\n",
    "C.subs(d1, 1)"
   ]
  },
  {
   "cell_type": "code",
   "execution_count": 470,
   "id": "e9f70391-3b80-4fb7-9335-bb8f0f63f95d",
   "metadata": {},
   "outputs": [
    {
     "name": "stdout",
     "output_type": "stream",
     "text": [
      "facet number: 9\n"
     ]
    },
    {
     "data": {
      "text/latex": [
       "$\\displaystyle - b_{0} + c_{0} - 1 = -1$"
      ],
      "text/plain": [
       "Eq(-b0 + c0 - 1, -1)"
      ]
     },
     "metadata": {},
     "output_type": "display_data"
    }
   ],
   "source": [
    "i=9\n",
    "print('facet number:', i)\n",
    "display(sp.Eq(C.determinants[i], C.orientation[i]))\n",
    "\n",
    "C.subs(b0, c0)"
   ]
  },
  {
   "cell_type": "code",
   "execution_count": 471,
   "id": "d7e27808-a127-48f0-b099-51446c3e75bf",
   "metadata": {},
   "outputs": [
    {
     "name": "stdout",
     "output_type": "stream",
     "text": [
      "facet number: 7\n"
     ]
    },
    {
     "data": {
      "text/latex": [
       "$\\displaystyle c_{0} + c_{2} = -1$"
      ],
      "text/plain": [
       "Eq(c0 + c2, -1)"
      ]
     },
     "metadata": {},
     "output_type": "display_data"
    }
   ],
   "source": [
    "i=7\n",
    "print('facet number:', i)\n",
    "display(sp.Eq(C.determinants[i], C.orientation[i]))\n",
    "\n",
    "C.subs(c0, -1-c2)"
   ]
  },
  {
   "cell_type": "code",
   "execution_count": 472,
   "id": "2d2c9ea7-9161-403f-a643-505098f41491",
   "metadata": {},
   "outputs": [
    {
     "name": "stdout",
     "output_type": "stream",
     "text": [
      "facet number: 8\n"
     ]
    },
    {
     "data": {
      "text/latex": [
       "$\\displaystyle c_{2} d_{0} - c_{2} - 1 = -1$"
      ],
      "text/plain": [
       "Eq(c2*d0 - c2 - 1, -1)"
      ]
     },
     "metadata": {},
     "output_type": "display_data"
    },
    {
     "name": "stdout",
     "output_type": "stream",
     "text": [
      "c2=0 => type 2\n"
     ]
    }
   ],
   "source": [
    "i=8\n",
    "print('facet number:', i)\n",
    "display(sp.Eq(C.determinants[i], C.orientation[i]))\n",
    "\n",
    "print('c2=0 => type 2')\n",
    "C.subs(d0, 1)"
   ]
  },
  {
   "cell_type": "code",
   "execution_count": 473,
   "id": "6275b84d-18c3-441d-8646-331f8fc0ce87",
   "metadata": {},
   "outputs": [
    {
     "data": {
      "text/latex": [
       "$\\displaystyle \\left[\\begin{matrix}1 & 0 & 0 & -1 & - c_{2} - 1 & - c_{2} - 1 & 1\\\\0 & 1 & 0 & -1 & - c_{2} - 2 & - c_{2} - 1 & 1\\\\0 & 0 & 1 & 1 & c_{2} + 1 & c_{2} & -1\\end{matrix}\\right]$"
      ],
      "text/plain": [
       "Matrix([\n",
       "[1, 0, 0, -1, -c2 - 1, -c2 - 1,  1],\n",
       "[0, 1, 0, -1, -c2 - 2, -c2 - 1,  1],\n",
       "[0, 0, 1,  1,  c2 + 1,      c2, -1]])"
      ]
     },
     "metadata": {},
     "output_type": "display_data"
    },
    {
     "name": "stdout",
     "output_type": "stream",
     "text": [
      "1\n"
     ]
    }
   ],
   "source": [
    "display(C.char)\n",
    "print(C.is_fangiving)\n",
    "fans.append(C.char)"
   ]
  },
  {
   "cell_type": "markdown",
   "id": "73dfaea8-d291-45e8-9e5e-535387e31baf",
   "metadata": {
    "jp-MarkdownHeadingCollapsed": true
   },
   "source": [
    "# Type 10 of the projection"
   ]
  },
  {
   "cell_type": "code",
   "execution_count": 474,
   "id": "473351cb-9f0c-4b00-9883-423219ed0ed8",
   "metadata": {},
   "outputs": [],
   "source": [
    "C1 = copy.deepcopy(C0)\n",
    "C = C1\n",
    "t=10"
   ]
  },
  {
   "cell_type": "code",
   "execution_count": 475,
   "id": "88b338fd-95ae-4f72-818c-0459e352268a",
   "metadata": {},
   "outputs": [
    {
     "data": {
      "text/latex": [
       "$\\displaystyle \\left[\\begin{matrix}1 & 0 & -1 & -1 & -1 & 0\\\\0 & 1 & x + 2 & x + 1 & x & -1\\end{matrix}\\right]$"
      ],
      "text/plain": [
       "Matrix([\n",
       "[1, 0,    -1,    -1, -1,  0],\n",
       "[0, 1, x + 2, x + 1,  x, -1]])"
      ]
     },
     "metadata": {},
     "output_type": "display_data"
    }
   ],
   "source": [
    "fans_hex[t]=fans_hex[t].subs(sp.Symbol('c'), x) # to distinguish indeterminates\n",
    "display(fans_hex[t])"
   ]
  },
  {
   "cell_type": "code",
   "execution_count": 476,
   "id": "a81163f7-0f29-4975-af11-bd3708cc0930",
   "metadata": {},
   "outputs": [
    {
     "data": {
      "text/latex": [
       "$\\displaystyle \\left[\\begin{matrix}1 & 0 & -1 & b_{1} & c_{1} & d_{1}\\\\0 & 1 & a_{2} & b_{2} & c_{2} & -1\\end{matrix}\\right] = \\left[\\begin{matrix}1 & 0 & -1 & -1 & -1 & 0\\\\0 & 1 & x + 2 & x + 1 & x & -1\\end{matrix}\\right]$"
      ],
      "text/plain": [
       "Eq(Matrix([\n",
       "[1, 0, -1, b1, c1, d1],\n",
       "[0, 1, a2, b2, c2, -1]]), Matrix([\n",
       "[1, 0,    -1,    -1, -1,  0],\n",
       "[0, 1, x + 2, x + 1,  x, -1]]))"
      ]
     },
     "metadata": {},
     "output_type": "display_data"
    }
   ],
   "source": [
    "proj = C.proj([1])\n",
    "with sp.evaluate(False):\n",
    "    display(sp.Eq(proj, fans_hex[t]))\n",
    "\n",
    "C.subs(a2, c2+2)\n",
    "C.subs(b1, -1)\n",
    "C.subs(b2, c2+1)\n",
    "C.subs(c1, -1)\n",
    "C.subs(d1, 0)"
   ]
  },
  {
   "cell_type": "code",
   "execution_count": 477,
   "id": "ec64baca-90a7-4097-a492-5ba6e9d77f06",
   "metadata": {},
   "outputs": [
    {
     "name": "stdout",
     "output_type": "stream",
     "text": [
      "facet number: 9\n"
     ]
    },
    {
     "data": {
      "text/latex": [
       "$\\displaystyle - 2 b_{0} + c_{0} - 1 = -1$"
      ],
      "text/plain": [
       "Eq(-2*b0 + c0 - 1, -1)"
      ]
     },
     "metadata": {},
     "output_type": "display_data"
    }
   ],
   "source": [
    "i=9\n",
    "print('facet number:', i)\n",
    "display(sp.Eq(C.determinants[i], C.orientation[i]))\n",
    "\n",
    "C.subs(c0, 2*b0)"
   ]
  },
  {
   "cell_type": "code",
   "execution_count": 478,
   "id": "cca20623-fb65-47c6-91e1-b2a1f81b5ce9",
   "metadata": {},
   "outputs": [
    {
     "name": "stdout",
     "output_type": "stream",
     "text": [
      "facet number: 7\n"
     ]
    },
    {
     "data": {
      "text/latex": [
       "$\\displaystyle 2 b_{0} c_{2} + 4 b_{0} + c_{2} = -1$"
      ],
      "text/plain": [
       "Eq(2*b0*c2 + 4*b0 + c2, -1)"
      ]
     },
     "metadata": {},
     "output_type": "display_data"
    },
    {
     "data": {
      "text/latex": [
       "$\\displaystyle \\left(2 b_{0} + 1\\right) \\left(c_{2} + 2\\right) = 1$"
      ],
      "text/plain": [
       "Eq((2*b0 + 1)*(c2 + 2), 1)"
      ]
     },
     "metadata": {},
     "output_type": "display_data"
    },
    {
     "name": "stdout",
     "output_type": "stream",
     "text": [
      "c2=-1 => type 7\n"
     ]
    }
   ],
   "source": [
    "i=7\n",
    "print('facet number:', i)\n",
    "display(sp.Eq(C.determinants[i], C.orientation[i]))\n",
    "\n",
    "display(sp.Eq((2*b0+1)*(c2+2), 1))\n",
    "print('c2=-1 => type 7')\n",
    "C.subs(c2, -3)\n",
    "C.subs(b0, -1)"
   ]
  },
  {
   "cell_type": "code",
   "execution_count": 479,
   "id": "4d63d1db-fd77-4ada-9df9-246bd2725993",
   "metadata": {},
   "outputs": [
    {
     "name": "stdout",
     "output_type": "stream",
     "text": [
      "facet number: 8\n"
     ]
    },
    {
     "data": {
      "text/latex": [
       "$\\displaystyle - 3 d_{0} - 2 = -1$"
      ],
      "text/plain": [
       "Eq(-3*d0 - 2, -1)"
      ]
     },
     "metadata": {},
     "output_type": "display_data"
    },
    {
     "name": "stdout",
     "output_type": "stream",
     "text": [
      "no solution\n"
     ]
    }
   ],
   "source": [
    "i=8\n",
    "print('facet number:', i)\n",
    "display(sp.Eq(C.determinants[i], C.orientation[i]))\n",
    "print('no solution')"
   ]
  },
  {
   "cell_type": "markdown",
   "id": "00fa780e-c4a1-45a2-8b0a-e9fd62f23364",
   "metadata": {
    "jp-MarkdownHeadingCollapsed": true
   },
   "source": [
    "# Type 11 of the projection"
   ]
  },
  {
   "cell_type": "code",
   "execution_count": 480,
   "id": "bf80dc44-3849-4799-a3a9-681f9d60d100",
   "metadata": {},
   "outputs": [],
   "source": [
    "C1 = copy.deepcopy(C0)\n",
    "C = C1\n",
    "t=11"
   ]
  },
  {
   "cell_type": "code",
   "execution_count": 481,
   "id": "d2d29868-b2a6-4704-a701-55d9c4e6ee9a",
   "metadata": {},
   "outputs": [
    {
     "data": {
      "text/latex": [
       "$\\displaystyle \\left[\\begin{matrix}1 & 0 & -1 & -2 & -1 & 0\\\\0 & 1 & x + 1 & 2 x + 1 & x & -1\\end{matrix}\\right]$"
      ],
      "text/plain": [
       "Matrix([\n",
       "[1, 0,    -1,      -2, -1,  0],\n",
       "[0, 1, x + 1, 2*x + 1,  x, -1]])"
      ]
     },
     "metadata": {},
     "output_type": "display_data"
    }
   ],
   "source": [
    "fans_hex[t]=fans_hex[t].subs(sp.Symbol('c'), x) # to distinguish indeterminates\n",
    "display(fans_hex[t])"
   ]
  },
  {
   "cell_type": "code",
   "execution_count": 482,
   "id": "a52d8dc4-79dc-48ae-859d-2fd1231c72e3",
   "metadata": {},
   "outputs": [
    {
     "data": {
      "text/latex": [
       "$\\displaystyle \\left[\\begin{matrix}1 & 0 & -1 & b_{1} & c_{1} & d_{1}\\\\0 & 1 & a_{2} & b_{2} & c_{2} & -1\\end{matrix}\\right] = \\left[\\begin{matrix}1 & 0 & -1 & -2 & -1 & 0\\\\0 & 1 & x + 1 & 2 x + 1 & x & -1\\end{matrix}\\right]$"
      ],
      "text/plain": [
       "Eq(Matrix([\n",
       "[1, 0, -1, b1, c1, d1],\n",
       "[0, 1, a2, b2, c2, -1]]), Matrix([\n",
       "[1, 0,    -1,      -2, -1,  0],\n",
       "[0, 1, x + 1, 2*x + 1,  x, -1]]))"
      ]
     },
     "metadata": {},
     "output_type": "display_data"
    }
   ],
   "source": [
    "proj = C.proj([1])\n",
    "with sp.evaluate(False):\n",
    "    display(sp.Eq(proj, fans_hex[t]))\n",
    "\n",
    "C.subs(a2, c2+1)\n",
    "C.subs(b1, -2)\n",
    "C.subs(b2, 2*c2+1)\n",
    "C.subs(c1, -1)\n",
    "C.subs(d1, 0)"
   ]
  },
  {
   "cell_type": "code",
   "execution_count": 483,
   "id": "7d97d334-d26d-45a0-99d3-a620811a5de9",
   "metadata": {},
   "outputs": [
    {
     "name": "stdout",
     "output_type": "stream",
     "text": [
      "facet number: 9\n"
     ]
    },
    {
     "data": {
      "text/latex": [
       "$\\displaystyle - b_{0} + c_{0} - 1 = -1$"
      ],
      "text/plain": [
       "Eq(-b0 + c0 - 1, -1)"
      ]
     },
     "metadata": {},
     "output_type": "display_data"
    }
   ],
   "source": [
    "i=9\n",
    "print('facet number:', i)\n",
    "display(sp.Eq(C.determinants[i], C.orientation[i]))\n",
    "\n",
    "C.subs(b0, c0)"
   ]
  },
  {
   "cell_type": "code",
   "execution_count": 484,
   "id": "0a3f1c72-dbf6-4c40-bf07-d064ea5550af",
   "metadata": {},
   "outputs": [
    {
     "name": "stdout",
     "output_type": "stream",
     "text": [
      "facet number: 7\n"
     ]
    },
    {
     "data": {
      "text/latex": [
       "$\\displaystyle c_{0} c_{2} + c_{0} + c_{2} = -1$"
      ],
      "text/plain": [
       "Eq(c0*c2 + c0 + c2, -1)"
      ]
     },
     "metadata": {},
     "output_type": "display_data"
    },
    {
     "data": {
      "text/latex": [
       "$\\displaystyle \\left(c_{0} + 1\\right) \\left(c_{2} + 1\\right) = 0$"
      ],
      "text/plain": [
       "Eq((c0 + 1)*(c2 + 1), 0)"
      ]
     },
     "metadata": {},
     "output_type": "display_data"
    },
    {
     "name": "stdout",
     "output_type": "stream",
     "text": [
      "c2=-1 => type 4\n"
     ]
    }
   ],
   "source": [
    "i=7\n",
    "print('facet number:', i)\n",
    "display(sp.Eq(C.determinants[i], C.orientation[i]))\n",
    "\n",
    "display(sp.Eq((c0+1)*(c2+1), 0))\n",
    "print('c2=-1 => type 4')\n",
    "C.subs(c0, -1)"
   ]
  },
  {
   "cell_type": "code",
   "execution_count": 485,
   "id": "04d704b6-2bcb-4eed-b60a-f5486d3f1c96",
   "metadata": {},
   "outputs": [
    {
     "name": "stdout",
     "output_type": "stream",
     "text": [
      "facet number: 8\n"
     ]
    },
    {
     "data": {
      "text/latex": [
       "$\\displaystyle c_{2} d_{0} - 1 = -1$"
      ],
      "text/plain": [
       "Eq(c2*d0 - 1, -1)"
      ]
     },
     "metadata": {},
     "output_type": "display_data"
    },
    {
     "name": "stdout",
     "output_type": "stream",
     "text": [
      "c2=0 => type 2\n"
     ]
    }
   ],
   "source": [
    "i=8\n",
    "print('facet number:', i)\n",
    "display(sp.Eq(C.determinants[i], C.orientation[i]))\n",
    "\n",
    "print('c2=0 => type 2')\n",
    "C.subs(d0, 0)"
   ]
  },
  {
   "cell_type": "code",
   "execution_count": 486,
   "id": "ce0e1905-476e-4bbb-aaf1-46ee45e6e076",
   "metadata": {},
   "outputs": [
    {
     "data": {
      "text/latex": [
       "$\\displaystyle \\left[\\begin{matrix}1 & 0 & 0 & -1 & -1 & -1 & 0\\\\0 & 1 & 0 & -1 & -2 & -1 & 0\\\\0 & 0 & 1 & c_{2} + 1 & 2 c_{2} + 1 & c_{2} & -1\\end{matrix}\\right]$"
      ],
      "text/plain": [
       "Matrix([\n",
       "[1, 0, 0,     -1,       -1, -1,  0],\n",
       "[0, 1, 0,     -1,       -2, -1,  0],\n",
       "[0, 0, 1, c2 + 1, 2*c2 + 1, c2, -1]])"
      ]
     },
     "metadata": {},
     "output_type": "display_data"
    },
    {
     "name": "stdout",
     "output_type": "stream",
     "text": [
      "1\n"
     ]
    }
   ],
   "source": [
    "display(C.char)\n",
    "print(C.is_fangiving)\n",
    "fans.append(C.char)"
   ]
  },
  {
   "cell_type": "markdown",
   "id": "1614184b-d9a4-4cb9-baf0-c16a6042819b",
   "metadata": {
    "jp-MarkdownHeadingCollapsed": true
   },
   "source": [
    "# Type 12 of the projection"
   ]
  },
  {
   "cell_type": "code",
   "execution_count": 487,
   "id": "ce0f80f1-0820-4659-a191-138ddd7d358e",
   "metadata": {},
   "outputs": [],
   "source": [
    "C1 = copy.deepcopy(C0)\n",
    "C = C1\n",
    "t=12"
   ]
  },
  {
   "cell_type": "code",
   "execution_count": 488,
   "id": "ce7c6685-3415-4ccc-a7ca-674486b947b1",
   "metadata": {},
   "outputs": [
    {
     "data": {
      "text/latex": [
       "$\\displaystyle \\left[\\begin{matrix}1 & 0 & -1 & x & 1 & 1\\\\0 & 1 & 2 & - 2 x - 1 & -2 & -1\\end{matrix}\\right]$"
      ],
      "text/plain": [
       "Matrix([\n",
       "[1, 0, -1,        x,  1,  1],\n",
       "[0, 1,  2, -2*x - 1, -2, -1]])"
      ]
     },
     "metadata": {},
     "output_type": "display_data"
    }
   ],
   "source": [
    "fans_hex[t]=fans_hex[t].subs(sp.Symbol('b'), x) # to distinguish indeterminates\n",
    "display(fans_hex[t])"
   ]
  },
  {
   "cell_type": "code",
   "execution_count": 489,
   "id": "98ba9123-0848-406e-87e2-6d5dea762e86",
   "metadata": {},
   "outputs": [
    {
     "data": {
      "text/latex": [
       "$\\displaystyle \\left[\\begin{matrix}1 & 0 & -1 & b_{1} & c_{1} & d_{1}\\\\0 & 1 & a_{2} & b_{2} & c_{2} & -1\\end{matrix}\\right] = \\left[\\begin{matrix}1 & 0 & -1 & x & 1 & 1\\\\0 & 1 & 2 & - 2 x - 1 & -2 & -1\\end{matrix}\\right]$"
      ],
      "text/plain": [
       "Eq(Matrix([\n",
       "[1, 0, -1, b1, c1, d1],\n",
       "[0, 1, a2, b2, c2, -1]]), Matrix([\n",
       "[1, 0, -1,        x,  1,  1],\n",
       "[0, 1,  2, -2*x - 1, -2, -1]]))"
      ]
     },
     "metadata": {},
     "output_type": "display_data"
    }
   ],
   "source": [
    "proj = C.proj([1])\n",
    "with sp.evaluate(False):\n",
    "    display(sp.Eq(proj, fans_hex[t]))\n",
    "\n",
    "C.subs(a2, 2)\n",
    "C.subs(b2, -2*b1-1)\n",
    "C.subs(c1, 1)\n",
    "C.subs(c2, -2)\n",
    "C.subs(d1, 1)"
   ]
  },
  {
   "cell_type": "code",
   "execution_count": 490,
   "id": "35d66829-306d-419f-8c06-3db5392f60a7",
   "metadata": {},
   "outputs": [
    {
     "name": "stdout",
     "output_type": "stream",
     "text": [
      "facet number: 7\n"
     ]
    },
    {
     "data": {
      "text/latex": [
       "$\\displaystyle 2 c_{0} - 2 = -1$"
      ],
      "text/plain": [
       "Eq(2*c0 - 2, -1)"
      ]
     },
     "metadata": {},
     "output_type": "display_data"
    },
    {
     "name": "stdout",
     "output_type": "stream",
     "text": [
      "no solution\n"
     ]
    }
   ],
   "source": [
    "i=7\n",
    "print('facet number:', i)\n",
    "display(sp.Eq(C.determinants[i], C.orientation[i]))\n",
    "\n",
    "print('no solution')"
   ]
  },
  {
   "cell_type": "markdown",
   "id": "ce13db23-11ea-4a8e-ada8-1c8bfa3147f4",
   "metadata": {
    "jp-MarkdownHeadingCollapsed": true
   },
   "source": [
    "# Type 13 of the projection"
   ]
  },
  {
   "cell_type": "code",
   "execution_count": 491,
   "id": "1f7f6b79-3dee-46b8-9672-0c8102f2e334",
   "metadata": {},
   "outputs": [],
   "source": [
    "C1 = copy.deepcopy(C0)\n",
    "C = C1\n",
    "t=13"
   ]
  },
  {
   "cell_type": "code",
   "execution_count": 492,
   "id": "a1598852-ec68-4fa7-9ea5-5fad7b3f2aa1",
   "metadata": {},
   "outputs": [
    {
     "data": {
      "text/latex": [
       "$\\displaystyle \\left[\\begin{matrix}1 & 0 & -1 & -1 & - x - 1 & 1\\\\0 & 1 & 2 & 1 & x & -1\\end{matrix}\\right]$"
      ],
      "text/plain": [
       "Matrix([\n",
       "[1, 0, -1, -1, -x - 1,  1],\n",
       "[0, 1,  2,  1,      x, -1]])"
      ]
     },
     "metadata": {},
     "output_type": "display_data"
    }
   ],
   "source": [
    "fans_hex[t]=fans_hex[t].subs(sp.Symbol('c'), x) # to distinguish indeterminates\n",
    "display(fans_hex[t])"
   ]
  },
  {
   "cell_type": "code",
   "execution_count": 493,
   "id": "0b868bcd-c15d-42bc-b433-fc89816ee287",
   "metadata": {},
   "outputs": [
    {
     "data": {
      "text/latex": [
       "$\\displaystyle \\left[\\begin{matrix}1 & 0 & -1 & b_{1} & c_{1} & d_{1}\\\\0 & 1 & a_{2} & b_{2} & c_{2} & -1\\end{matrix}\\right] = \\left[\\begin{matrix}1 & 0 & -1 & -1 & - x - 1 & 1\\\\0 & 1 & 2 & 1 & x & -1\\end{matrix}\\right]$"
      ],
      "text/plain": [
       "Eq(Matrix([\n",
       "[1, 0, -1, b1, c1, d1],\n",
       "[0, 1, a2, b2, c2, -1]]), Matrix([\n",
       "[1, 0, -1, -1, -x - 1,  1],\n",
       "[0, 1,  2,  1,      x, -1]]))"
      ]
     },
     "metadata": {},
     "output_type": "display_data"
    }
   ],
   "source": [
    "proj = C.proj([1])\n",
    "with sp.evaluate(False):\n",
    "    display(sp.Eq(proj, fans_hex[t]))\n",
    "\n",
    "C.subs(a2, 2)\n",
    "C.subs(b1, -1)\n",
    "C.subs(b2, 1)\n",
    "C.subs(c1, -c2-1)\n",
    "C.subs(d1, 1)"
   ]
  },
  {
   "cell_type": "code",
   "execution_count": 494,
   "id": "9b8e2c38-2b64-4692-bf34-5463832b1cc4",
   "metadata": {},
   "outputs": [
    {
     "name": "stdout",
     "output_type": "stream",
     "text": [
      "facet number: 7\n"
     ]
    },
    {
     "data": {
      "text/latex": [
       "$\\displaystyle 2 c_{0} + c_{2} = -1$"
      ],
      "text/plain": [
       "Eq(2*c0 + c2, -1)"
      ]
     },
     "metadata": {},
     "output_type": "display_data"
    }
   ],
   "source": [
    "i=7\n",
    "print('facet number:', i)\n",
    "display(sp.Eq(C.determinants[i], C.orientation[i]))\n",
    "\n",
    "C.subs(c2, -1-2*c0)"
   ]
  },
  {
   "cell_type": "code",
   "execution_count": 495,
   "id": "26092ff1-2018-4877-80c6-407427f04214",
   "metadata": {},
   "outputs": [
    {
     "name": "stdout",
     "output_type": "stream",
     "text": [
      "facet number: 9\n"
     ]
    },
    {
     "data": {
      "text/latex": [
       "$\\displaystyle 2 b_{0} c_{0} - b_{0} + c_{0} - 1 = -1$"
      ],
      "text/plain": [
       "Eq(2*b0*c0 - b0 + c0 - 1, -1)"
      ]
     },
     "metadata": {},
     "output_type": "display_data"
    }
   ],
   "source": [
    "i=9\n",
    "print('facet number:', i)\n",
    "display(sp.Eq(C.determinants[i], C.orientation[i]))"
   ]
  },
  {
   "cell_type": "code",
   "execution_count": 496,
   "id": "96c86bfe-b0ff-4d38-9d25-230b2c1285a1",
   "metadata": {},
   "outputs": [
    {
     "name": "stdout",
     "output_type": "stream",
     "text": [
      "[b0 = 0, c0 = 0]\n",
      "[b0 = -1, c0 = 1]\n"
     ]
    }
   ],
   "source": [
    "i=9\n",
    "z3_vars, z3_var_map = sympy_to_z3_var([b0, c0])\n",
    "s=z3.Solver()\n",
    "s.add(sympy_to_z3_eq(z3_var_map, C.determinants[i])==C.orientation[i])\n",
    "for i in all_smt(s, z3_vars):\n",
    "    print(i)"
   ]
  },
  {
   "cell_type": "markdown",
   "id": "b499b30c-a528-434f-8f8f-30eda4607ad0",
   "metadata": {
    "jp-MarkdownHeadingCollapsed": true
   },
   "source": [
    "## $b_0=0$, $c_0=0$"
   ]
  },
  {
   "cell_type": "code",
   "execution_count": 497,
   "id": "00d8b316-36d4-4873-8804-e89aaf7b65bc",
   "metadata": {},
   "outputs": [],
   "source": [
    "C2 = copy.deepcopy(C1)\n",
    "C = C2\n",
    "C.subs(b0, 0)\n",
    "C.subs(c0, 0)"
   ]
  },
  {
   "cell_type": "code",
   "execution_count": 498,
   "id": "f3784db9-552b-4e15-aaea-f4737aef2068",
   "metadata": {},
   "outputs": [
    {
     "name": "stdout",
     "output_type": "stream",
     "text": [
      "facet number: 8\n"
     ]
    },
    {
     "data": {
      "text/latex": [
       "$\\displaystyle - d_{0} = -1$"
      ],
      "text/plain": [
       "Eq(-d0, -1)"
      ]
     },
     "metadata": {},
     "output_type": "display_data"
    }
   ],
   "source": [
    "i=8\n",
    "print('facet number:', i)\n",
    "display(sp.Eq(C.determinants[i], C.orientation[i]))\n",
    "\n",
    "C.subs(d0, 1)"
   ]
  },
  {
   "cell_type": "code",
   "execution_count": 499,
   "id": "0b24e9fd-1b14-485b-bd25-0f0041da8465",
   "metadata": {},
   "outputs": [
    {
     "data": {
      "text/latex": [
       "$\\displaystyle \\left[\\begin{matrix}1 & 0 & 0 & -1 & 0 & 0 & 1\\\\0 & 1 & 0 & -1 & -1 & 0 & 1\\\\0 & 0 & 1 & 2 & 1 & -1 & -1\\end{matrix}\\right]$"
      ],
      "text/plain": [
       "Matrix([\n",
       "[1, 0, 0, -1,  0,  0,  1],\n",
       "[0, 1, 0, -1, -1,  0,  1],\n",
       "[0, 0, 1,  2,  1, -1, -1]])"
      ]
     },
     "metadata": {},
     "output_type": "display_data"
    },
    {
     "name": "stdout",
     "output_type": "stream",
     "text": [
      "1\n"
     ]
    }
   ],
   "source": [
    "display(C.char)\n",
    "print(C.is_fangiving)\n",
    "fans.append(C.char)"
   ]
  },
  {
   "cell_type": "markdown",
   "id": "fac81b1e-cc38-43e8-a055-23641eda8b7f",
   "metadata": {
    "jp-MarkdownHeadingCollapsed": true
   },
   "source": [
    "## $b_0=-1$, $c_0=1$"
   ]
  },
  {
   "cell_type": "code",
   "execution_count": 500,
   "id": "36c74061-eec6-4699-b4af-eea18e14e365",
   "metadata": {},
   "outputs": [],
   "source": [
    "C2 = copy.deepcopy(C1)\n",
    "C = C2\n",
    "C.subs(b0, -1)\n",
    "C.subs(c0, 1)"
   ]
  },
  {
   "cell_type": "code",
   "execution_count": 501,
   "id": "a2f91d0d-125c-4012-8256-172b5ecfe195",
   "metadata": {},
   "outputs": [
    {
     "name": "stdout",
     "output_type": "stream",
     "text": [
      "facet number: 8\n"
     ]
    },
    {
     "data": {
      "text/latex": [
       "$\\displaystyle 1 - 3 d_{0} = -1$"
      ],
      "text/plain": [
       "Eq(1 - 3*d0, -1)"
      ]
     },
     "metadata": {},
     "output_type": "display_data"
    },
    {
     "name": "stdout",
     "output_type": "stream",
     "text": [
      "no solution\n"
     ]
    }
   ],
   "source": [
    "i=8\n",
    "print('facet number:', i)\n",
    "display(sp.Eq(C.determinants[i], C.orientation[i]))\n",
    "\n",
    "print('no solution')"
   ]
  },
  {
   "cell_type": "markdown",
   "id": "e49a6d14-f874-4fc1-a41d-bf499dff6a3d",
   "metadata": {
    "jp-MarkdownHeadingCollapsed": true
   },
   "source": [
    "# Type 14 of the projection"
   ]
  },
  {
   "cell_type": "code",
   "execution_count": 502,
   "id": "2957709c-0ffa-4c49-9f6d-17b9329071c1",
   "metadata": {},
   "outputs": [],
   "source": [
    "C1 = copy.deepcopy(C0)\n",
    "C = C1\n",
    "t=14"
   ]
  },
  {
   "cell_type": "code",
   "execution_count": 503,
   "id": "437a9612-f996-4c8d-a88f-856c1c9e3ecc",
   "metadata": {},
   "outputs": [
    {
     "data": {
      "text/latex": [
       "$\\displaystyle \\left[\\begin{matrix}1 & 0 & -1 & -1 & 0 & 1\\\\0 & 1 & x & x - 1 & -1 & -1\\end{matrix}\\right]$"
      ],
      "text/plain": [
       "Matrix([\n",
       "[1, 0, -1,    -1,  0,  1],\n",
       "[0, 1,  x, x - 1, -1, -1]])"
      ]
     },
     "metadata": {},
     "output_type": "display_data"
    }
   ],
   "source": [
    "fans_hex[t]=fans_hex[t].subs(sp.Symbol('a'), x) # to distinguish indeterminates\n",
    "display(fans_hex[t])"
   ]
  },
  {
   "cell_type": "code",
   "execution_count": 504,
   "id": "da88f6ac-c63e-4115-9e56-58924e511c51",
   "metadata": {},
   "outputs": [
    {
     "data": {
      "text/latex": [
       "$\\displaystyle \\left[\\begin{matrix}1 & 0 & -1 & b_{1} & c_{1} & d_{1}\\\\0 & 1 & a_{2} & b_{2} & c_{2} & -1\\end{matrix}\\right] = \\left[\\begin{matrix}1 & 0 & -1 & -1 & 0 & 1\\\\0 & 1 & x & x - 1 & -1 & -1\\end{matrix}\\right]$"
      ],
      "text/plain": [
       "Eq(Matrix([\n",
       "[1, 0, -1, b1, c1, d1],\n",
       "[0, 1, a2, b2, c2, -1]]), Matrix([\n",
       "[1, 0, -1,    -1,  0,  1],\n",
       "[0, 1,  x, x - 1, -1, -1]]))"
      ]
     },
     "metadata": {},
     "output_type": "display_data"
    }
   ],
   "source": [
    "proj = C.proj([1])\n",
    "with sp.evaluate(False):\n",
    "    display(sp.Eq(proj, fans_hex[t]))\n",
    "\n",
    "C.subs(b1, -1)\n",
    "C.subs(b2, a2-1)\n",
    "C.subs(c1, 0)\n",
    "C.subs(c2, -1)\n",
    "C.subs(d1, 1)"
   ]
  },
  {
   "cell_type": "code",
   "execution_count": 505,
   "id": "b9028d5a-4829-4591-8231-a438b83fe088",
   "metadata": {},
   "outputs": [
    {
     "name": "stdout",
     "output_type": "stream",
     "text": [
      "facet number: 7\n"
     ]
    },
    {
     "data": {
      "text/latex": [
       "$\\displaystyle a_{2} c_{0} - 1 = -1$"
      ],
      "text/plain": [
       "Eq(a2*c0 - 1, -1)"
      ]
     },
     "metadata": {},
     "output_type": "display_data"
    },
    {
     "name": "stdout",
     "output_type": "stream",
     "text": [
      "a2=0 => type 4\n"
     ]
    }
   ],
   "source": [
    "i=7\n",
    "print('facet number:', i)\n",
    "display(sp.Eq(C.determinants[i], C.orientation[i]))\n",
    "\n",
    "print('a2=0 => type 4')\n",
    "C.subs(c0, 0)"
   ]
  },
  {
   "cell_type": "code",
   "execution_count": 506,
   "id": "9ef3b68e-3c60-4703-8a34-6ea91ef98f51",
   "metadata": {},
   "outputs": [
    {
     "name": "stdout",
     "output_type": "stream",
     "text": [
      "facet number: 8\n"
     ]
    },
    {
     "data": {
      "text/latex": [
       "$\\displaystyle - d_{0} = -1$"
      ],
      "text/plain": [
       "Eq(-d0, -1)"
      ]
     },
     "metadata": {},
     "output_type": "display_data"
    }
   ],
   "source": [
    "i=8\n",
    "print('facet number:', i)\n",
    "display(sp.Eq(C.determinants[i], C.orientation[i]))\n",
    "\n",
    "C.subs(d0, 1)"
   ]
  },
  {
   "cell_type": "code",
   "execution_count": 507,
   "id": "0543a7f5-fbd9-4f91-b0e5-a539caf6e9d4",
   "metadata": {},
   "outputs": [
    {
     "name": "stdout",
     "output_type": "stream",
     "text": [
      "facet number: 9\n"
     ]
    },
    {
     "data": {
      "text/latex": [
       "$\\displaystyle - b_{0} - 1 = -1$"
      ],
      "text/plain": [
       "Eq(-b0 - 1, -1)"
      ]
     },
     "metadata": {},
     "output_type": "display_data"
    }
   ],
   "source": [
    "i=9\n",
    "print('facet number:', i)\n",
    "display(sp.Eq(C.determinants[i], C.orientation[i]))\n",
    "\n",
    "C.subs(b0, 0)"
   ]
  },
  {
   "cell_type": "code",
   "execution_count": 508,
   "id": "295c5bfb-6820-455b-9c58-3c5cdeb66f24",
   "metadata": {},
   "outputs": [
    {
     "data": {
      "text/latex": [
       "$\\displaystyle \\left[\\begin{matrix}1 & 0 & 0 & -1 & 0 & 0 & 1\\\\0 & 1 & 0 & -1 & -1 & 0 & 1\\\\0 & 0 & 1 & a_{2} & a_{2} - 1 & -1 & -1\\end{matrix}\\right]$"
      ],
      "text/plain": [
       "Matrix([\n",
       "[1, 0, 0, -1,      0,  0,  1],\n",
       "[0, 1, 0, -1,     -1,  0,  1],\n",
       "[0, 0, 1, a2, a2 - 1, -1, -1]])"
      ]
     },
     "metadata": {},
     "output_type": "display_data"
    },
    {
     "name": "stdout",
     "output_type": "stream",
     "text": [
      "1\n"
     ]
    }
   ],
   "source": [
    "display(C.char)\n",
    "print(C.is_fangiving)\n",
    "fans.append(C.char)"
   ]
  },
  {
   "cell_type": "markdown",
   "id": "ccf279a5-46d8-4bff-88a6-766fe2893607",
   "metadata": {},
   "source": [
    "# There are 9 types of fans up to D-J equivalence"
   ]
  },
  {
   "cell_type": "markdown",
   "id": "beb9fcdc-a4f0-424d-b62f-9dad445eb412",
   "metadata": {
    "jp-MarkdownHeadingCollapsed": true
   },
   "source": [
    "## removing redundant ones"
   ]
  },
  {
   "cell_type": "code",
   "execution_count": 511,
   "id": "da725475-5c55-4815-b6f5-613b616d93c1",
   "metadata": {},
   "outputs": [
    {
     "data": {
      "text/latex": [
       "$\\displaystyle \\left[\\begin{matrix}1 & 0 & 0 & -1 & d_{0} - 1 & d_{0} - 1 & d_{0}\\\\0 & 1 & 0 & -1 & 0 & 1 & 2\\\\0 & 0 & 1 & 0 & -1 & -1 & -1\\end{matrix}\\right]$"
      ],
      "text/plain": [
       "Matrix([\n",
       "[1, 0, 0, -1, d0 - 1, d0 - 1, d0],\n",
       "[0, 1, 0, -1,      0,      1,  2],\n",
       "[0, 0, 1,  0,     -1,     -1, -1]])"
      ]
     },
     "metadata": {},
     "output_type": "display_data"
    },
    {
     "data": {
      "text/latex": [
       "$\\displaystyle \\left[\\begin{matrix}1 & 0 & 0 & -1 & d_{0} - 1 & d_{0} - 1 & d_{0}\\\\0 & 1 & 0 & -1 & d_{1} - 2 & d_{1} - 1 & d_{1}\\\\0 & 0 & 1 & 0 & -1 & -1 & -1\\end{matrix}\\right]$"
      ],
      "text/plain": [
       "Matrix([\n",
       "[1, 0, 0, -1, d0 - 1, d0 - 1, d0],\n",
       "[0, 1, 0, -1, d1 - 2, d1 - 1, d1],\n",
       "[0, 0, 1,  0,     -1,     -1, -1]])"
      ]
     },
     "metadata": {},
     "output_type": "display_data"
    }
   ],
   "source": [
    "display(fans[0], fans[5])\n",
    "fans.remove(fans[0])"
   ]
  },
  {
   "cell_type": "code",
   "execution_count": 512,
   "id": "df038f35-94f3-469f-b69e-9ab70e1996e1",
   "metadata": {},
   "outputs": [
    {
     "data": {
      "text/latex": [
       "$\\displaystyle \\left[\\begin{matrix}1 & 0 & 0 & -1 & b_{0} & 0 & 1\\\\0 & 1 & 0 & -1 & 0 & 1 & 2\\\\0 & 0 & 1 & 1 & -1 & -1 & -1\\end{matrix}\\right]$"
      ],
      "text/plain": [
       "Matrix([\n",
       "[1, 0, 0, -1, b0,  0,  1],\n",
       "[0, 1, 0, -1,  0,  1,  2],\n",
       "[0, 0, 1,  1, -1, -1, -1]])"
      ]
     },
     "metadata": {},
     "output_type": "display_data"
    },
    {
     "data": {
      "text/latex": [
       "$\\displaystyle \\left[\\begin{matrix}1 & 0 & 0 & -1 & b_{0} & 0 & 1\\\\0 & 1 & 0 & -1 & b_{1} & 1 & 2\\\\0 & 0 & 1 & 1 & - b_{1} - 1 & -1 & -1\\end{matrix}\\right]$"
      ],
      "text/plain": [
       "Matrix([\n",
       "[1, 0, 0, -1,      b0,  0,  1],\n",
       "[0, 1, 0, -1,      b1,  1,  2],\n",
       "[0, 0, 1,  1, -b1 - 1, -1, -1]])"
      ]
     },
     "metadata": {},
     "output_type": "display_data"
    }
   ],
   "source": [
    "display(fans[0], fans[9])\n",
    "fans.remove(fans[0])"
   ]
  },
  {
   "cell_type": "code",
   "execution_count": 513,
   "id": "ba042dea-dff2-4a76-b4f4-4972607f065b",
   "metadata": {},
   "outputs": [
    {
     "data": {
      "text/latex": [
       "$\\displaystyle \\left[\\begin{matrix}1 & 0 & 0 & -1 & 1 & 1 & 1\\\\0 & 1 & 0 & -1 & 0 & 1 & 1\\\\0 & 0 & 1 & 1 & -1 & -2 & -1\\end{matrix}\\right]$"
      ],
      "text/plain": [
       "Matrix([\n",
       "[1, 0, 0, -1,  1,  1,  1],\n",
       "[0, 1, 0, -1,  0,  1,  1],\n",
       "[0, 0, 1,  1, -1, -2, -1]])"
      ]
     },
     "metadata": {},
     "output_type": "display_data"
    },
    {
     "data": {
      "text/latex": [
       "$\\displaystyle \\left[\\begin{matrix}1 & 0 & 0 & -1 & - c_{2} - 1 & - c_{2} - 1 & 1\\\\0 & 1 & 0 & -1 & - c_{2} - 2 & - c_{2} - 1 & 1\\\\0 & 0 & 1 & 1 & c_{2} + 1 & c_{2} & -1\\end{matrix}\\right]$"
      ],
      "text/plain": [
       "Matrix([\n",
       "[1, 0, 0, -1, -c2 - 1, -c2 - 1,  1],\n",
       "[0, 1, 0, -1, -c2 - 2, -c2 - 1,  1],\n",
       "[0, 0, 1,  1,  c2 + 1,      c2, -1]])"
      ]
     },
     "metadata": {},
     "output_type": "display_data"
    }
   ],
   "source": [
    "display(fans[1], fans[9])\n",
    "fans.remove(fans[1])"
   ]
  },
  {
   "cell_type": "code",
   "execution_count": 514,
   "id": "3e18888e-b3e8-45b9-bac3-1ac294c1a72a",
   "metadata": {},
   "outputs": [
    {
     "data": {
      "text/latex": [
       "$\\displaystyle \\left[\\begin{matrix}1 & 0 & 0 & -1 & b_{0} & 0 & 1\\\\0 & 1 & 0 & -1 & -2 & 1 & 2\\\\0 & 0 & 1 & 1 & 1 & -1 & -1\\end{matrix}\\right]$"
      ],
      "text/plain": [
       "Matrix([\n",
       "[1, 0, 0, -1, b0,  0,  1],\n",
       "[0, 1, 0, -1, -2,  1,  2],\n",
       "[0, 0, 1,  1,  1, -1, -1]])"
      ]
     },
     "metadata": {},
     "output_type": "display_data"
    },
    {
     "data": {
      "text/latex": [
       "$\\displaystyle \\left[\\begin{matrix}1 & 0 & 0 & -1 & b_{0} & 0 & 1\\\\0 & 1 & 0 & -1 & b_{1} & 1 & 2\\\\0 & 0 & 1 & 1 & - b_{1} - 1 & -1 & -1\\end{matrix}\\right]$"
      ],
      "text/plain": [
       "Matrix([\n",
       "[1, 0, 0, -1,      b0,  0,  1],\n",
       "[0, 1, 0, -1,      b1,  1,  2],\n",
       "[0, 0, 1,  1, -b1 - 1, -1, -1]])"
      ]
     },
     "metadata": {},
     "output_type": "display_data"
    }
   ],
   "source": [
    "display(fans[4], fans[7])\n",
    "fans.remove(fans[4])"
   ]
  },
  {
   "cell_type": "code",
   "execution_count": 515,
   "id": "45ffa6f0-440c-4fbf-b4a3-d9602873d336",
   "metadata": {},
   "outputs": [
    {
     "data": {
      "text/latex": [
       "$\\displaystyle \\left[\\begin{matrix}1 & 0 & 0 & -1 & b_{0} & 0 & 1\\\\0 & 1 & 0 & -1 & -1 & 1 & 2\\\\0 & 0 & 1 & 1 & 0 & -1 & -1\\end{matrix}\\right]$"
      ],
      "text/plain": [
       "Matrix([\n",
       "[1, 0, 0, -1, b0,  0,  1],\n",
       "[0, 1, 0, -1, -1,  1,  2],\n",
       "[0, 0, 1,  1,  0, -1, -1]])"
      ]
     },
     "metadata": {},
     "output_type": "display_data"
    },
    {
     "data": {
      "text/latex": [
       "$\\displaystyle \\left[\\begin{matrix}1 & 0 & 0 & -1 & b_{0} & 0 & 1\\\\0 & 1 & 0 & -1 & b_{1} & 1 & 2\\\\0 & 0 & 1 & 1 & - b_{1} - 1 & -1 & -1\\end{matrix}\\right]$"
      ],
      "text/plain": [
       "Matrix([\n",
       "[1, 0, 0, -1,      b0,  0,  1],\n",
       "[0, 1, 0, -1,      b1,  1,  2],\n",
       "[0, 0, 1,  1, -b1 - 1, -1, -1]])"
      ]
     },
     "metadata": {},
     "output_type": "display_data"
    }
   ],
   "source": [
    "display(fans[5], fans[6])\n",
    "fans.remove(fans[5])"
   ]
  },
  {
   "cell_type": "code",
   "execution_count": 516,
   "id": "5c0cd3ff-106a-44d1-8411-ef233e26f0f7",
   "metadata": {},
   "outputs": [
    {
     "data": {
      "text/latex": [
       "$\\displaystyle \\left[\\begin{matrix}1 & 0 & 0 & -1 & 0 & 0 & 1\\\\0 & 1 & 0 & -1 & -1 & 0 & 1\\\\0 & 0 & 1 & 2 & 1 & -1 & -1\\end{matrix}\\right]$"
      ],
      "text/plain": [
       "Matrix([\n",
       "[1, 0, 0, -1,  0,  0,  1],\n",
       "[0, 1, 0, -1, -1,  0,  1],\n",
       "[0, 0, 1,  2,  1, -1, -1]])"
      ]
     },
     "metadata": {},
     "output_type": "display_data"
    },
    {
     "data": {
      "text/latex": [
       "$\\displaystyle \\left[\\begin{matrix}1 & 0 & 0 & -1 & 0 & 0 & 1\\\\0 & 1 & 0 & -1 & -1 & 0 & 1\\\\0 & 0 & 1 & a_{2} & a_{2} - 1 & -1 & -1\\end{matrix}\\right]$"
      ],
      "text/plain": [
       "Matrix([\n",
       "[1, 0, 0, -1,      0,  0,  1],\n",
       "[0, 1, 0, -1,     -1,  0,  1],\n",
       "[0, 0, 1, a2, a2 - 1, -1, -1]])"
      ]
     },
     "metadata": {},
     "output_type": "display_data"
    }
   ],
   "source": [
    "display(fans[8], fans[9])\n",
    "fans.remove(fans[8])"
   ]
  },
  {
   "cell_type": "code",
   "execution_count": 517,
   "id": "6e3ce46a-6eeb-4b24-838c-f12954c1e0a1",
   "metadata": {},
   "outputs": [
    {
     "data": {
      "text/plain": [
       "9"
      ]
     },
     "execution_count": 517,
     "metadata": {},
     "output_type": "execute_result"
    }
   ],
   "source": [
    "len(fans)"
   ]
  },
  {
   "cell_type": "markdown",
   "id": "d3b946ab-d17d-4fcb-bda2-878911435852",
   "metadata": {
    "jp-MarkdownHeadingCollapsed": true
   },
   "source": [
    "## list"
   ]
  },
  {
   "cell_type": "code",
   "execution_count": 518,
   "id": "c288913d-6807-40c5-866c-77b2d0c23417",
   "metadata": {},
   "outputs": [
    {
     "data": {
      "text/latex": [
       "$\\displaystyle \\left[\\begin{matrix}1 & 0 & 0 & -1 & 0 & 0 & 1\\\\0 & 1 & 0 & -1 & 0 & 1 & 2\\\\0 & 0 & 1 & a_{2} & -1 & -1 & -1\\end{matrix}\\right]$"
      ],
      "text/plain": [
       "Matrix([\n",
       "[1, 0, 0, -1,  0,  0,  1],\n",
       "[0, 1, 0, -1,  0,  1,  2],\n",
       "[0, 0, 1, a2, -1, -1, -1]])"
      ]
     },
     "metadata": {},
     "output_type": "display_data"
    },
    {
     "data": {
      "text/latex": [
       "$\\displaystyle \\left[\\begin{matrix}1 & 0 & 0 & -1 & -1 & -1 & d_{0}\\\\0 & 1 & 0 & -1 & -2 & -1 & d_{1}\\\\0 & 0 & 1 & 1 & 1 & 0 & -1\\end{matrix}\\right]$"
      ],
      "text/plain": [
       "Matrix([\n",
       "[1, 0, 0, -1, -1, -1, d0],\n",
       "[0, 1, 0, -1, -2, -1, d1],\n",
       "[0, 0, 1,  1,  1,  0, -1]])"
      ]
     },
     "metadata": {},
     "output_type": "display_data"
    },
    {
     "data": {
      "text/latex": [
       "$\\displaystyle \\left[\\begin{matrix}1 & 0 & 0 & -1 & d_{0} - 1 & d_{0} - 1 & d_{0}\\\\0 & 1 & 0 & -1 & d_{1} - 2 & d_{1} - 1 & d_{1}\\\\0 & 0 & 1 & 0 & -1 & -1 & -1\\end{matrix}\\right]$"
      ],
      "text/plain": [
       "Matrix([\n",
       "[1, 0, 0, -1, d0 - 1, d0 - 1, d0],\n",
       "[0, 1, 0, -1, d1 - 2, d1 - 1, d1],\n",
       "[0, 0, 1,  0,     -1,     -1, -1]])"
      ]
     },
     "metadata": {},
     "output_type": "display_data"
    },
    {
     "data": {
      "text/latex": [
       "$\\displaystyle \\left[\\begin{matrix}1 & 0 & 0 & -1 & -1 & - c_{2} - 1 & 1\\\\0 & 1 & 0 & -1 & -2 & - 2 c_{2} - 1 & 2\\\\0 & 0 & 1 & 1 & 1 & c_{2} & -1\\end{matrix}\\right]$"
      ],
      "text/plain": [
       "Matrix([\n",
       "[1, 0, 0, -1, -1,   -c2 - 1,  1],\n",
       "[0, 1, 0, -1, -2, -2*c2 - 1,  2],\n",
       "[0, 0, 1,  1,  1,        c2, -1]])"
      ]
     },
     "metadata": {},
     "output_type": "display_data"
    },
    {
     "data": {
      "text/latex": [
       "$\\displaystyle \\left[\\begin{matrix}1 & 0 & 0 & -1 & 0 & 0 & 1\\\\0 & 1 & 0 & -1 & -1 & d_{1} - 1 & d_{1}\\\\0 & 0 & 1 & 1 & 0 & -1 & -1\\end{matrix}\\right]$"
      ],
      "text/plain": [
       "Matrix([\n",
       "[1, 0, 0, -1,  0,      0,  1],\n",
       "[0, 1, 0, -1, -1, d1 - 1, d1],\n",
       "[0, 0, 1,  1,  0,     -1, -1]])"
      ]
     },
     "metadata": {},
     "output_type": "display_data"
    },
    {
     "data": {
      "text/latex": [
       "$\\displaystyle \\left[\\begin{matrix}1 & 0 & 0 & -1 & b_{0} & 0 & 1\\\\0 & 1 & 0 & -1 & b_{1} & 1 & 2\\\\0 & 0 & 1 & 1 & - b_{1} - 1 & -1 & -1\\end{matrix}\\right]$"
      ],
      "text/plain": [
       "Matrix([\n",
       "[1, 0, 0, -1,      b0,  0,  1],\n",
       "[0, 1, 0, -1,      b1,  1,  2],\n",
       "[0, 0, 1,  1, -b1 - 1, -1, -1]])"
      ]
     },
     "metadata": {},
     "output_type": "display_data"
    },
    {
     "data": {
      "text/latex": [
       "$\\displaystyle \\left[\\begin{matrix}1 & 0 & 0 & -1 & - c_{2} - 1 & - c_{2} - 1 & 1\\\\0 & 1 & 0 & -1 & - c_{2} - 2 & - c_{2} - 1 & 1\\\\0 & 0 & 1 & 1 & c_{2} + 1 & c_{2} & -1\\end{matrix}\\right]$"
      ],
      "text/plain": [
       "Matrix([\n",
       "[1, 0, 0, -1, -c2 - 1, -c2 - 1,  1],\n",
       "[0, 1, 0, -1, -c2 - 2, -c2 - 1,  1],\n",
       "[0, 0, 1,  1,  c2 + 1,      c2, -1]])"
      ]
     },
     "metadata": {},
     "output_type": "display_data"
    },
    {
     "data": {
      "text/latex": [
       "$\\displaystyle \\left[\\begin{matrix}1 & 0 & 0 & -1 & -1 & -1 & 0\\\\0 & 1 & 0 & -1 & -2 & -1 & 0\\\\0 & 0 & 1 & c_{2} + 1 & 2 c_{2} + 1 & c_{2} & -1\\end{matrix}\\right]$"
      ],
      "text/plain": [
       "Matrix([\n",
       "[1, 0, 0,     -1,       -1, -1,  0],\n",
       "[0, 1, 0,     -1,       -2, -1,  0],\n",
       "[0, 0, 1, c2 + 1, 2*c2 + 1, c2, -1]])"
      ]
     },
     "metadata": {},
     "output_type": "display_data"
    },
    {
     "data": {
      "text/latex": [
       "$\\displaystyle \\left[\\begin{matrix}1 & 0 & 0 & -1 & 0 & 0 & 1\\\\0 & 1 & 0 & -1 & -1 & 0 & 1\\\\0 & 0 & 1 & a_{2} & a_{2} - 1 & -1 & -1\\end{matrix}\\right]$"
      ],
      "text/plain": [
       "Matrix([\n",
       "[1, 0, 0, -1,      0,  0,  1],\n",
       "[0, 1, 0, -1,     -1,  0,  1],\n",
       "[0, 0, 1, a2, a2 - 1, -1, -1]])"
      ]
     },
     "metadata": {},
     "output_type": "display_data"
    }
   ],
   "source": [
    "for f in fans:\n",
    "    display(f)"
   ]
  },
  {
   "cell_type": "markdown",
   "id": "cb75847c-6dd8-4587-b02f-ed952ee8d8ba",
   "metadata": {
    "jp-MarkdownHeadingCollapsed": true
   },
   "source": [
    "# Connections between types"
   ]
  },
  {
   "cell_type": "markdown",
   "id": "588de9be-15c7-4723-8a53-85ffe5b9456f",
   "metadata": {
    "jp-MarkdownHeadingCollapsed": true
   },
   "source": [
    "## fan 0"
   ]
  },
  {
   "cell_type": "markdown",
   "id": "ed29e03d-b6a3-46b1-ace6-2c758edf8386",
   "metadata": {
    "jp-MarkdownHeadingCollapsed": true
   },
   "source": [
    "### fan 2 ($a_2 = 0$, $d_0 = 1$, $d_1 = 2$)"
   ]
  },
  {
   "cell_type": "code",
   "execution_count": 556,
   "id": "c9b85b86-842c-4969-b000-265e6e551cfd",
   "metadata": {},
   "outputs": [
    {
     "data": {
      "text/latex": [
       "$\\displaystyle \\left[\\begin{matrix}1 & 0 & 0 & -1 & 0 & 0 & 1\\\\0 & 1 & 0 & -1 & 0 & 1 & 2\\\\0 & 0 & 1 & a_{2} & -1 & -1 & -1\\end{matrix}\\right] = \\left[\\begin{matrix}1 & 0 & 0 & -1 & d_{0} - 1 & d_{0} - 1 & d_{0}\\\\0 & 1 & 0 & -1 & d_{1} - 2 & d_{1} - 1 & d_{1}\\\\0 & 0 & 1 & 0 & -1 & -1 & -1\\end{matrix}\\right]$"
      ],
      "text/plain": [
       "Eq(Matrix([\n",
       "[1, 0, 0, -1,  0,  0,  1],\n",
       "[0, 1, 0, -1,  0,  1,  2],\n",
       "[0, 0, 1, a2, -1, -1, -1]]), Matrix([\n",
       "[1, 0, 0, -1, d0 - 1, d0 - 1, d0],\n",
       "[0, 1, 0, -1, d1 - 2, d1 - 1, d1],\n",
       "[0, 0, 1,  0,     -1,     -1, -1]]))"
      ]
     },
     "metadata": {},
     "output_type": "display_data"
    },
    {
     "data": {
      "text/latex": [
       "$\\displaystyle \\text{True}$"
      ],
      "text/plain": [
       "True"
      ]
     },
     "execution_count": 556,
     "metadata": {},
     "output_type": "execute_result"
    }
   ],
   "source": [
    "display(sp.Eq(fans[0], fans[2], evaluate=False))\n",
    "sp.Eq(fans[0].subs(a2,0), fans[2].subs(d0,1).subs(d1,2))"
   ]
  },
  {
   "cell_type": "markdown",
   "id": "81c3973b-e3fc-4952-836b-837dc01b4a34",
   "metadata": {
    "jp-MarkdownHeadingCollapsed": true
   },
   "source": [
    "### fan 5 ($a_2 = 1$, $b_0 = 0$, $b_1=0$)"
   ]
  },
  {
   "cell_type": "code",
   "execution_count": 557,
   "id": "24eed601-7422-4b77-8b2b-c30f3c11aa6b",
   "metadata": {},
   "outputs": [
    {
     "data": {
      "text/latex": [
       "$\\displaystyle \\left[\\begin{matrix}1 & 0 & 0 & -1 & 0 & 0 & 1\\\\0 & 1 & 0 & -1 & 0 & 1 & 2\\\\0 & 0 & 1 & a_{2} & -1 & -1 & -1\\end{matrix}\\right] = \\left[\\begin{matrix}1 & 0 & 0 & -1 & b_{0} & 0 & 1\\\\0 & 1 & 0 & -1 & b_{1} & 1 & 2\\\\0 & 0 & 1 & 1 & - b_{1} - 1 & -1 & -1\\end{matrix}\\right]$"
      ],
      "text/plain": [
       "Eq(Matrix([\n",
       "[1, 0, 0, -1,  0,  0,  1],\n",
       "[0, 1, 0, -1,  0,  1,  2],\n",
       "[0, 0, 1, a2, -1, -1, -1]]), Matrix([\n",
       "[1, 0, 0, -1,      b0,  0,  1],\n",
       "[0, 1, 0, -1,      b1,  1,  2],\n",
       "[0, 0, 1,  1, -b1 - 1, -1, -1]]))"
      ]
     },
     "metadata": {},
     "output_type": "display_data"
    },
    {
     "data": {
      "text/latex": [
       "$\\displaystyle \\text{True}$"
      ],
      "text/plain": [
       "True"
      ]
     },
     "execution_count": 557,
     "metadata": {},
     "output_type": "execute_result"
    }
   ],
   "source": [
    "display(sp.Eq(fans[0], fans[5], evaluate=False))\n",
    "sp.Eq(fans[0].subs(a2,1), fans[5].subs(b0,0).subs(b1,0))"
   ]
  },
  {
   "cell_type": "markdown",
   "id": "46314d47-e2ef-4c34-bcb1-4463254a799b",
   "metadata": {
    "jp-MarkdownHeadingCollapsed": true
   },
   "source": [
    "## fan 1"
   ]
  },
  {
   "cell_type": "markdown",
   "id": "e0bc77c4-f80c-4d0a-a03d-ae8efed6a171",
   "metadata": {
    "jp-MarkdownHeadingCollapsed": true
   },
   "source": [
    "### fan 3 ($c_2 = 0$, $d_0 = 1$, $d_1 = 2$)"
   ]
  },
  {
   "cell_type": "code",
   "execution_count": 555,
   "id": "9e5d3d7e-28a4-42f3-9ad2-4fd94dea60cc",
   "metadata": {},
   "outputs": [
    {
     "data": {
      "text/latex": [
       "$\\displaystyle \\left[\\begin{matrix}1 & 0 & 0 & -1 & -1 & -1 & d_{0}\\\\0 & 1 & 0 & -1 & -2 & -1 & d_{1}\\\\0 & 0 & 1 & 1 & 1 & 0 & -1\\end{matrix}\\right] = \\left[\\begin{matrix}1 & 0 & 0 & -1 & -1 & - c_{2} - 1 & 1\\\\0 & 1 & 0 & -1 & -2 & - 2 c_{2} - 1 & 2\\\\0 & 0 & 1 & 1 & 1 & c_{2} & -1\\end{matrix}\\right]$"
      ],
      "text/plain": [
       "Eq(Matrix([\n",
       "[1, 0, 0, -1, -1, -1, d0],\n",
       "[0, 1, 0, -1, -2, -1, d1],\n",
       "[0, 0, 1,  1,  1,  0, -1]]), Matrix([\n",
       "[1, 0, 0, -1, -1,   -c2 - 1,  1],\n",
       "[0, 1, 0, -1, -2, -2*c2 - 1,  2],\n",
       "[0, 0, 1,  1,  1,        c2, -1]]))"
      ]
     },
     "metadata": {},
     "output_type": "display_data"
    },
    {
     "data": {
      "text/latex": [
       "$\\displaystyle \\text{True}$"
      ],
      "text/plain": [
       "True"
      ]
     },
     "execution_count": 555,
     "metadata": {},
     "output_type": "execute_result"
    }
   ],
   "source": [
    "display(sp.Eq(fans[1], fans[3], evaluate=False))\n",
    "sp.Eq(fans[1].subs(d0,1).subs(d1,2), fans[3].subs(c2,0))"
   ]
  },
  {
   "cell_type": "markdown",
   "id": "ebca8b5d-49f7-44b6-a592-db4f82b569cb",
   "metadata": {
    "jp-MarkdownHeadingCollapsed": true
   },
   "source": [
    "### fan 6 ($c_2 = 0$, $d_0 = 1$, $d_1 = 1$)"
   ]
  },
  {
   "cell_type": "code",
   "execution_count": 554,
   "id": "99fd7439-5be6-4513-b2ed-0f649a8bc664",
   "metadata": {},
   "outputs": [
    {
     "data": {
      "text/latex": [
       "$\\displaystyle \\left[\\begin{matrix}1 & 0 & 0 & -1 & -1 & -1 & d_{0}\\\\0 & 1 & 0 & -1 & -2 & -1 & d_{1}\\\\0 & 0 & 1 & 1 & 1 & 0 & -1\\end{matrix}\\right] = \\left[\\begin{matrix}1 & 0 & 0 & -1 & - c_{2} - 1 & - c_{2} - 1 & 1\\\\0 & 1 & 0 & -1 & - c_{2} - 2 & - c_{2} - 1 & 1\\\\0 & 0 & 1 & 1 & c_{2} + 1 & c_{2} & -1\\end{matrix}\\right]$"
      ],
      "text/plain": [
       "Eq(Matrix([\n",
       "[1, 0, 0, -1, -1, -1, d0],\n",
       "[0, 1, 0, -1, -2, -1, d1],\n",
       "[0, 0, 1,  1,  1,  0, -1]]), Matrix([\n",
       "[1, 0, 0, -1, -c2 - 1, -c2 - 1,  1],\n",
       "[0, 1, 0, -1, -c2 - 2, -c2 - 1,  1],\n",
       "[0, 0, 1,  1,  c2 + 1,      c2, -1]]))"
      ]
     },
     "metadata": {},
     "output_type": "display_data"
    },
    {
     "data": {
      "text/latex": [
       "$\\displaystyle \\text{True}$"
      ],
      "text/plain": [
       "True"
      ]
     },
     "execution_count": 554,
     "metadata": {},
     "output_type": "execute_result"
    }
   ],
   "source": [
    "display(sp.Eq(fans[1], fans[6], evaluate=False))\n",
    "sp.Eq(fans[1].subs(d0,1).subs(d1,1), fans[6].subs(c2,0))"
   ]
  },
  {
   "cell_type": "markdown",
   "id": "8434ee59-c591-4407-ac48-94593869a760",
   "metadata": {
    "jp-MarkdownHeadingCollapsed": true
   },
   "source": [
    "### fan 7 ($c_2 = 0$, $d_0 = 0$, $d_1 = 0$)"
   ]
  },
  {
   "cell_type": "code",
   "execution_count": 553,
   "id": "17af4932-3b40-4618-b14b-259c8365696f",
   "metadata": {},
   "outputs": [
    {
     "data": {
      "text/latex": [
       "$\\displaystyle \\left[\\begin{matrix}1 & 0 & 0 & -1 & -1 & -1 & d_{0}\\\\0 & 1 & 0 & -1 & -2 & -1 & d_{1}\\\\0 & 0 & 1 & 1 & 1 & 0 & -1\\end{matrix}\\right] = \\left[\\begin{matrix}1 & 0 & 0 & -1 & -1 & -1 & 0\\\\0 & 1 & 0 & -1 & -2 & -1 & 0\\\\0 & 0 & 1 & c_{2} + 1 & 2 c_{2} + 1 & c_{2} & -1\\end{matrix}\\right]$"
      ],
      "text/plain": [
       "Eq(Matrix([\n",
       "[1, 0, 0, -1, -1, -1, d0],\n",
       "[0, 1, 0, -1, -2, -1, d1],\n",
       "[0, 0, 1,  1,  1,  0, -1]]), Matrix([\n",
       "[1, 0, 0,     -1,       -1, -1,  0],\n",
       "[0, 1, 0,     -1,       -2, -1,  0],\n",
       "[0, 0, 1, c2 + 1, 2*c2 + 1, c2, -1]]))"
      ]
     },
     "metadata": {},
     "output_type": "display_data"
    },
    {
     "data": {
      "text/latex": [
       "$\\displaystyle \\text{True}$"
      ],
      "text/plain": [
       "True"
      ]
     },
     "execution_count": 553,
     "metadata": {},
     "output_type": "execute_result"
    }
   ],
   "source": [
    "display(sp.Eq(fans[1], fans[7], evaluate=False))\n",
    "sp.Eq(fans[1].subs(d0,0).subs(d1,0), fans[7].subs(c2,0))"
   ]
  },
  {
   "cell_type": "markdown",
   "id": "eab8683e-b564-4170-bf59-681415d054fb",
   "metadata": {
    "jp-MarkdownHeadingCollapsed": true
   },
   "source": [
    "## fan 2"
   ]
  },
  {
   "cell_type": "markdown",
   "id": "66415c8e-e7dd-4f9e-9873-ffb0afb0b9b1",
   "metadata": {
    "jp-MarkdownHeadingCollapsed": true
   },
   "source": [
    "### fan 0 ($a_2 = 0$, $d_0 = 1$, $d_1 = 2$)"
   ]
  },
  {
   "cell_type": "code",
   "execution_count": 559,
   "id": "a1ce4b37-410d-4f38-8be5-e3a48a8e9a8a",
   "metadata": {},
   "outputs": [
    {
     "data": {
      "text/latex": [
       "$\\displaystyle \\left[\\begin{matrix}1 & 0 & 0 & -1 & 0 & 0 & 1\\\\0 & 1 & 0 & -1 & 0 & 1 & 2\\\\0 & 0 & 1 & a_{2} & -1 & -1 & -1\\end{matrix}\\right] = \\left[\\begin{matrix}1 & 0 & 0 & -1 & d_{0} - 1 & d_{0} - 1 & d_{0}\\\\0 & 1 & 0 & -1 & d_{1} - 2 & d_{1} - 1 & d_{1}\\\\0 & 0 & 1 & 0 & -1 & -1 & -1\\end{matrix}\\right]$"
      ],
      "text/plain": [
       "Eq(Matrix([\n",
       "[1, 0, 0, -1,  0,  0,  1],\n",
       "[0, 1, 0, -1,  0,  1,  2],\n",
       "[0, 0, 1, a2, -1, -1, -1]]), Matrix([\n",
       "[1, 0, 0, -1, d0 - 1, d0 - 1, d0],\n",
       "[0, 1, 0, -1, d1 - 2, d1 - 1, d1],\n",
       "[0, 0, 1,  0,     -1,     -1, -1]]))"
      ]
     },
     "metadata": {},
     "output_type": "display_data"
    },
    {
     "data": {
      "text/latex": [
       "$\\displaystyle \\text{True}$"
      ],
      "text/plain": [
       "True"
      ]
     },
     "execution_count": 559,
     "metadata": {},
     "output_type": "execute_result"
    }
   ],
   "source": [
    "display(sp.Eq(fans[0], fans[2], evaluate=False))\n",
    "sp.Eq(fans[0].subs(a2,0), fans[2].subs(d0,1).subs(d1,2))"
   ]
  },
  {
   "cell_type": "markdown",
   "id": "f2e2ee07-6bb4-4597-ac3e-fbda679621a2",
   "metadata": {
    "jp-MarkdownHeadingCollapsed": true
   },
   "source": [
    "### fan 7 ($c_2 = -1$, $d_0 = 0$, $d_1 = 0$)"
   ]
  },
  {
   "cell_type": "code",
   "execution_count": 567,
   "id": "e8fa5f1f-3832-4b68-a919-725320af5e18",
   "metadata": {},
   "outputs": [
    {
     "data": {
      "text/latex": [
       "$\\displaystyle \\left[\\begin{matrix}1 & 0 & 0 & -1 & d_{0} - 1 & d_{0} - 1 & d_{0}\\\\0 & 1 & 0 & -1 & d_{1} - 2 & d_{1} - 1 & d_{1}\\\\0 & 0 & 1 & 0 & -1 & -1 & -1\\end{matrix}\\right] = \\left[\\begin{matrix}1 & 0 & 0 & -1 & -1 & -1 & 0\\\\0 & 1 & 0 & -1 & -2 & -1 & 0\\\\0 & 0 & 1 & c_{2} + 1 & 2 c_{2} + 1 & c_{2} & -1\\end{matrix}\\right]$"
      ],
      "text/plain": [
       "Eq(Matrix([\n",
       "[1, 0, 0, -1, d0 - 1, d0 - 1, d0],\n",
       "[0, 1, 0, -1, d1 - 2, d1 - 1, d1],\n",
       "[0, 0, 1,  0,     -1,     -1, -1]]), Matrix([\n",
       "[1, 0, 0,     -1,       -1, -1,  0],\n",
       "[0, 1, 0,     -1,       -2, -1,  0],\n",
       "[0, 0, 1, c2 + 1, 2*c2 + 1, c2, -1]]))"
      ]
     },
     "metadata": {},
     "output_type": "display_data"
    },
    {
     "data": {
      "text/latex": [
       "$\\displaystyle \\text{True}$"
      ],
      "text/plain": [
       "True"
      ]
     },
     "execution_count": 567,
     "metadata": {},
     "output_type": "execute_result"
    }
   ],
   "source": [
    "display(sp.Eq(fans[2], fans[7], evaluate=False))\n",
    "sp.Eq(fans[2].subs(d0,0).subs(d1,0), fans[7].subs(c2,-1))"
   ]
  },
  {
   "cell_type": "markdown",
   "id": "b4f218bd-d6f9-400f-94a6-c52e6d3bd5a5",
   "metadata": {
    "jp-MarkdownHeadingCollapsed": true
   },
   "source": [
    "### fan 8 ($a_2 = 0$, $d_0 = 1$, $d_1 = 1$)"
   ]
  },
  {
   "cell_type": "code",
   "execution_count": 569,
   "id": "a9374d37-07c6-4b34-b49e-cc2f54c5e456",
   "metadata": {},
   "outputs": [
    {
     "data": {
      "text/latex": [
       "$\\displaystyle \\left[\\begin{matrix}1 & 0 & 0 & -1 & d_{0} - 1 & d_{0} - 1 & d_{0}\\\\0 & 1 & 0 & -1 & d_{1} - 2 & d_{1} - 1 & d_{1}\\\\0 & 0 & 1 & 0 & -1 & -1 & -1\\end{matrix}\\right] = \\left[\\begin{matrix}1 & 0 & 0 & -1 & 0 & 0 & 1\\\\0 & 1 & 0 & -1 & -1 & 0 & 1\\\\0 & 0 & 1 & a_{2} & a_{2} - 1 & -1 & -1\\end{matrix}\\right]$"
      ],
      "text/plain": [
       "Eq(Matrix([\n",
       "[1, 0, 0, -1, d0 - 1, d0 - 1, d0],\n",
       "[0, 1, 0, -1, d1 - 2, d1 - 1, d1],\n",
       "[0, 0, 1,  0,     -1,     -1, -1]]), Matrix([\n",
       "[1, 0, 0, -1,      0,  0,  1],\n",
       "[0, 1, 0, -1,     -1,  0,  1],\n",
       "[0, 0, 1, a2, a2 - 1, -1, -1]]))"
      ]
     },
     "metadata": {},
     "output_type": "display_data"
    },
    {
     "data": {
      "text/latex": [
       "$\\displaystyle \\text{True}$"
      ],
      "text/plain": [
       "True"
      ]
     },
     "execution_count": 569,
     "metadata": {},
     "output_type": "execute_result"
    }
   ],
   "source": [
    "display(sp.Eq(fans[2], fans[8], evaluate=False))\n",
    "sp.Eq(fans[2].subs(d0,1).subs(d1,1), fans[8].subs(a2,0))"
   ]
  },
  {
   "cell_type": "markdown",
   "id": "4e4f504c-075a-48f3-a347-67f2620a3c5a",
   "metadata": {
    "jp-MarkdownHeadingCollapsed": true
   },
   "source": [
    "## fan 3"
   ]
  },
  {
   "cell_type": "markdown",
   "id": "7435c0ba-ce6b-4399-aee7-b1120f4a527c",
   "metadata": {
    "jp-MarkdownHeadingCollapsed": true
   },
   "source": [
    "### fan 1 ($c_2 = 0$, $d_0 = 1$, $d_1 = 2$)"
   ]
  },
  {
   "cell_type": "code",
   "execution_count": 560,
   "id": "a8caf26e-ae92-45b3-a748-8072c6817ee5",
   "metadata": {},
   "outputs": [
    {
     "data": {
      "text/latex": [
       "$\\displaystyle \\left[\\begin{matrix}1 & 0 & 0 & -1 & -1 & -1 & d_{0}\\\\0 & 1 & 0 & -1 & -2 & -1 & d_{1}\\\\0 & 0 & 1 & 1 & 1 & 0 & -1\\end{matrix}\\right] = \\left[\\begin{matrix}1 & 0 & 0 & -1 & -1 & - c_{2} - 1 & 1\\\\0 & 1 & 0 & -1 & -2 & - 2 c_{2} - 1 & 2\\\\0 & 0 & 1 & 1 & 1 & c_{2} & -1\\end{matrix}\\right]$"
      ],
      "text/plain": [
       "Eq(Matrix([\n",
       "[1, 0, 0, -1, -1, -1, d0],\n",
       "[0, 1, 0, -1, -2, -1, d1],\n",
       "[0, 0, 1,  1,  1,  0, -1]]), Matrix([\n",
       "[1, 0, 0, -1, -1,   -c2 - 1,  1],\n",
       "[0, 1, 0, -1, -2, -2*c2 - 1,  2],\n",
       "[0, 0, 1,  1,  1,        c2, -1]]))"
      ]
     },
     "metadata": {},
     "output_type": "display_data"
    },
    {
     "data": {
      "text/latex": [
       "$\\displaystyle \\text{True}$"
      ],
      "text/plain": [
       "True"
      ]
     },
     "execution_count": 560,
     "metadata": {},
     "output_type": "execute_result"
    }
   ],
   "source": [
    "display(sp.Eq(fans[1], fans[3], evaluate=False))\n",
    "sp.Eq(fans[1].subs(d0,1).subs(d1,2), fans[3].subs(c2,0))"
   ]
  },
  {
   "cell_type": "markdown",
   "id": "6e6e75a5-62a2-4dde-9a58-ac5cba9c0ba5",
   "metadata": {
    "jp-MarkdownHeadingCollapsed": true
   },
   "source": [
    "### fan 5 ($b_0 = -1$, $b_1 = -2$, $c_2 = -1$)"
   ]
  },
  {
   "cell_type": "code",
   "execution_count": 575,
   "id": "66fe3341-666d-4cd8-aeb0-deb47afbf2ba",
   "metadata": {},
   "outputs": [
    {
     "data": {
      "text/latex": [
       "$\\displaystyle \\left[\\begin{matrix}1 & 0 & 0 & -1 & -1 & - c_{2} - 1 & 1\\\\0 & 1 & 0 & -1 & -2 & - 2 c_{2} - 1 & 2\\\\0 & 0 & 1 & 1 & 1 & c_{2} & -1\\end{matrix}\\right] = \\left[\\begin{matrix}1 & 0 & 0 & -1 & b_{0} & 0 & 1\\\\0 & 1 & 0 & -1 & b_{1} & 1 & 2\\\\0 & 0 & 1 & 1 & - b_{1} - 1 & -1 & -1\\end{matrix}\\right]$"
      ],
      "text/plain": [
       "Eq(Matrix([\n",
       "[1, 0, 0, -1, -1,   -c2 - 1,  1],\n",
       "[0, 1, 0, -1, -2, -2*c2 - 1,  2],\n",
       "[0, 0, 1,  1,  1,        c2, -1]]), Matrix([\n",
       "[1, 0, 0, -1,      b0,  0,  1],\n",
       "[0, 1, 0, -1,      b1,  1,  2],\n",
       "[0, 0, 1,  1, -b1 - 1, -1, -1]]))"
      ]
     },
     "metadata": {},
     "output_type": "display_data"
    },
    {
     "data": {
      "text/latex": [
       "$\\displaystyle \\text{True}$"
      ],
      "text/plain": [
       "True"
      ]
     },
     "execution_count": 575,
     "metadata": {},
     "output_type": "execute_result"
    }
   ],
   "source": [
    "display(sp.Eq(fans[3], fans[5], evaluate=False))\n",
    "sp.Eq(fans[3].subs(c2,-1), fans[5].subs(b0,-1).subs(b1,-2))"
   ]
  },
  {
   "cell_type": "markdown",
   "id": "f2231c43-3f65-4c09-9856-08f7a6177bdf",
   "metadata": {
    "jp-MarkdownHeadingCollapsed": true
   },
   "source": [
    "## fan 4"
   ]
  },
  {
   "cell_type": "markdown",
   "id": "ac6dc388-064e-45b4-b9e7-43aaebb95c85",
   "metadata": {
    "jp-MarkdownHeadingCollapsed": true
   },
   "source": [
    "### fan 5 ($b_0 = 0$, $b_1 = -1$, $d_1 = 2$)"
   ]
  },
  {
   "cell_type": "code",
   "execution_count": 580,
   "id": "40db54f2-7a5e-4e28-a007-b7cc912c12da",
   "metadata": {},
   "outputs": [
    {
     "data": {
      "text/latex": [
       "$\\displaystyle \\left[\\begin{matrix}1 & 0 & 0 & -1 & 0 & 0 & 1\\\\0 & 1 & 0 & -1 & -1 & d_{1} - 1 & d_{1}\\\\0 & 0 & 1 & 1 & 0 & -1 & -1\\end{matrix}\\right] = \\left[\\begin{matrix}1 & 0 & 0 & -1 & b_{0} & 0 & 1\\\\0 & 1 & 0 & -1 & b_{1} & 1 & 2\\\\0 & 0 & 1 & 1 & - b_{1} - 1 & -1 & -1\\end{matrix}\\right]$"
      ],
      "text/plain": [
       "Eq(Matrix([\n",
       "[1, 0, 0, -1,  0,      0,  1],\n",
       "[0, 1, 0, -1, -1, d1 - 1, d1],\n",
       "[0, 0, 1,  1,  0,     -1, -1]]), Matrix([\n",
       "[1, 0, 0, -1,      b0,  0,  1],\n",
       "[0, 1, 0, -1,      b1,  1,  2],\n",
       "[0, 0, 1,  1, -b1 - 1, -1, -1]]))"
      ]
     },
     "metadata": {},
     "output_type": "display_data"
    },
    {
     "data": {
      "text/latex": [
       "$\\displaystyle \\text{True}$"
      ],
      "text/plain": [
       "True"
      ]
     },
     "execution_count": 580,
     "metadata": {},
     "output_type": "execute_result"
    }
   ],
   "source": [
    "display(sp.Eq(fans[4], fans[5], evaluate=False))\n",
    "sp.Eq(fans[4].subs(d1,2), fans[5].subs(b0,0).subs(b1,-1))"
   ]
  },
  {
   "cell_type": "markdown",
   "id": "0919cc14-564a-46c9-9982-a89c30f063c1",
   "metadata": {
    "jp-MarkdownHeadingCollapsed": true
   },
   "source": [
    "### fan 6 ($c_2 = -1$, $d_1 = 1$)"
   ]
  },
  {
   "cell_type": "code",
   "execution_count": 582,
   "id": "bb6cd165-d3c5-44bd-8a91-b858717cd396",
   "metadata": {},
   "outputs": [
    {
     "data": {
      "text/latex": [
       "$\\displaystyle \\left[\\begin{matrix}1 & 0 & 0 & -1 & 0 & 0 & 1\\\\0 & 1 & 0 & -1 & -1 & d_{1} - 1 & d_{1}\\\\0 & 0 & 1 & 1 & 0 & -1 & -1\\end{matrix}\\right] = \\left[\\begin{matrix}1 & 0 & 0 & -1 & - c_{2} - 1 & - c_{2} - 1 & 1\\\\0 & 1 & 0 & -1 & - c_{2} - 2 & - c_{2} - 1 & 1\\\\0 & 0 & 1 & 1 & c_{2} + 1 & c_{2} & -1\\end{matrix}\\right]$"
      ],
      "text/plain": [
       "Eq(Matrix([\n",
       "[1, 0, 0, -1,  0,      0,  1],\n",
       "[0, 1, 0, -1, -1, d1 - 1, d1],\n",
       "[0, 0, 1,  1,  0,     -1, -1]]), Matrix([\n",
       "[1, 0, 0, -1, -c2 - 1, -c2 - 1,  1],\n",
       "[0, 1, 0, -1, -c2 - 2, -c2 - 1,  1],\n",
       "[0, 0, 1,  1,  c2 + 1,      c2, -1]]))"
      ]
     },
     "metadata": {},
     "output_type": "display_data"
    },
    {
     "data": {
      "text/latex": [
       "$\\displaystyle \\text{True}$"
      ],
      "text/plain": [
       "True"
      ]
     },
     "execution_count": 582,
     "metadata": {},
     "output_type": "execute_result"
    }
   ],
   "source": [
    "display(sp.Eq(fans[4], fans[6], evaluate=False))\n",
    "sp.Eq(fans[4].subs(d1,1), fans[6].subs(c2,-1))"
   ]
  },
  {
   "cell_type": "markdown",
   "id": "78bc2096-aa9b-4814-97fb-53bfe24753af",
   "metadata": {
    "jp-MarkdownHeadingCollapsed": true
   },
   "source": [
    "### fan 8 ($a_2 = 1$, $d_1 = 1$)"
   ]
  },
  {
   "cell_type": "code",
   "execution_count": 586,
   "id": "81ab6b17-5a76-48c2-953f-1d8141499e5c",
   "metadata": {},
   "outputs": [
    {
     "data": {
      "text/latex": [
       "$\\displaystyle \\left[\\begin{matrix}1 & 0 & 0 & -1 & 0 & 0 & 1\\\\0 & 1 & 0 & -1 & -1 & d_{1} - 1 & d_{1}\\\\0 & 0 & 1 & 1 & 0 & -1 & -1\\end{matrix}\\right] = \\left[\\begin{matrix}1 & 0 & 0 & -1 & 0 & 0 & 1\\\\0 & 1 & 0 & -1 & -1 & 0 & 1\\\\0 & 0 & 1 & a_{2} & a_{2} - 1 & -1 & -1\\end{matrix}\\right]$"
      ],
      "text/plain": [
       "Eq(Matrix([\n",
       "[1, 0, 0, -1,  0,      0,  1],\n",
       "[0, 1, 0, -1, -1, d1 - 1, d1],\n",
       "[0, 0, 1,  1,  0,     -1, -1]]), Matrix([\n",
       "[1, 0, 0, -1,      0,  0,  1],\n",
       "[0, 1, 0, -1,     -1,  0,  1],\n",
       "[0, 0, 1, a2, a2 - 1, -1, -1]]))"
      ]
     },
     "metadata": {},
     "output_type": "display_data"
    },
    {
     "data": {
      "text/latex": [
       "$\\displaystyle \\text{True}$"
      ],
      "text/plain": [
       "True"
      ]
     },
     "execution_count": 586,
     "metadata": {},
     "output_type": "execute_result"
    }
   ],
   "source": [
    "display(sp.Eq(fans[4], fans[8], evaluate=False))\n",
    "sp.Eq(fans[4].subs(d1,1), fans[8].subs(a2,1))"
   ]
  },
  {
   "cell_type": "markdown",
   "id": "662f2b8f-4f3a-4a13-994a-3f005745c1dd",
   "metadata": {
    "jp-MarkdownHeadingCollapsed": true
   },
   "source": [
    "## fan 5"
   ]
  },
  {
   "cell_type": "markdown",
   "id": "2668b843-cce7-451b-828b-88a2c22191ba",
   "metadata": {
    "jp-MarkdownHeadingCollapsed": true
   },
   "source": [
    "### fan 0 ($a_2 = 1$, $b_0 = 0$, $b_1=0$)"
   ]
  },
  {
   "cell_type": "code",
   "execution_count": 561,
   "id": "be74ac6f-60fc-43ca-9afe-095d0257f0db",
   "metadata": {},
   "outputs": [
    {
     "data": {
      "text/latex": [
       "$\\displaystyle \\left[\\begin{matrix}1 & 0 & 0 & -1 & 0 & 0 & 1\\\\0 & 1 & 0 & -1 & 0 & 1 & 2\\\\0 & 0 & 1 & a_{2} & -1 & -1 & -1\\end{matrix}\\right] = \\left[\\begin{matrix}1 & 0 & 0 & -1 & b_{0} & 0 & 1\\\\0 & 1 & 0 & -1 & b_{1} & 1 & 2\\\\0 & 0 & 1 & 1 & - b_{1} - 1 & -1 & -1\\end{matrix}\\right]$"
      ],
      "text/plain": [
       "Eq(Matrix([\n",
       "[1, 0, 0, -1,  0,  0,  1],\n",
       "[0, 1, 0, -1,  0,  1,  2],\n",
       "[0, 0, 1, a2, -1, -1, -1]]), Matrix([\n",
       "[1, 0, 0, -1,      b0,  0,  1],\n",
       "[0, 1, 0, -1,      b1,  1,  2],\n",
       "[0, 0, 1,  1, -b1 - 1, -1, -1]]))"
      ]
     },
     "metadata": {},
     "output_type": "display_data"
    },
    {
     "data": {
      "text/latex": [
       "$\\displaystyle \\text{True}$"
      ],
      "text/plain": [
       "True"
      ]
     },
     "execution_count": 561,
     "metadata": {},
     "output_type": "execute_result"
    }
   ],
   "source": [
    "display(sp.Eq(fans[0], fans[5], evaluate=False))\n",
    "sp.Eq(fans[0].subs(a2,1), fans[5].subs(b0,0).subs(b1,0))"
   ]
  },
  {
   "cell_type": "markdown",
   "id": "146f188a-38f6-4381-9536-37a338af1425",
   "metadata": {
    "jp-MarkdownHeadingCollapsed": true
   },
   "source": [
    "### fan 3 ($b_0 = -1$, $b_1 = -2$, $c_2 = -1$)"
   ]
  },
  {
   "cell_type": "code",
   "execution_count": 575,
   "id": "3f64e152-9efd-45ba-aeb9-57eee70dacf8",
   "metadata": {},
   "outputs": [
    {
     "data": {
      "text/latex": [
       "$\\displaystyle \\left[\\begin{matrix}1 & 0 & 0 & -1 & -1 & - c_{2} - 1 & 1\\\\0 & 1 & 0 & -1 & -2 & - 2 c_{2} - 1 & 2\\\\0 & 0 & 1 & 1 & 1 & c_{2} & -1\\end{matrix}\\right] = \\left[\\begin{matrix}1 & 0 & 0 & -1 & b_{0} & 0 & 1\\\\0 & 1 & 0 & -1 & b_{1} & 1 & 2\\\\0 & 0 & 1 & 1 & - b_{1} - 1 & -1 & -1\\end{matrix}\\right]$"
      ],
      "text/plain": [
       "Eq(Matrix([\n",
       "[1, 0, 0, -1, -1,   -c2 - 1,  1],\n",
       "[0, 1, 0, -1, -2, -2*c2 - 1,  2],\n",
       "[0, 0, 1,  1,  1,        c2, -1]]), Matrix([\n",
       "[1, 0, 0, -1,      b0,  0,  1],\n",
       "[0, 1, 0, -1,      b1,  1,  2],\n",
       "[0, 0, 1,  1, -b1 - 1, -1, -1]]))"
      ]
     },
     "metadata": {},
     "output_type": "display_data"
    },
    {
     "data": {
      "text/latex": [
       "$\\displaystyle \\text{True}$"
      ],
      "text/plain": [
       "True"
      ]
     },
     "execution_count": 575,
     "metadata": {},
     "output_type": "execute_result"
    }
   ],
   "source": [
    "display(sp.Eq(fans[3], fans[5], evaluate=False))\n",
    "sp.Eq(fans[3].subs(c2,-1), fans[5].subs(b0,-1).subs(b1,-2))"
   ]
  },
  {
   "cell_type": "markdown",
   "id": "b74ff6fe-6933-4949-818f-40acf2891e43",
   "metadata": {
    "jp-MarkdownHeadingCollapsed": true
   },
   "source": [
    "### fan 4 ($b_0 = 0$, $b_1 = -1$, $d_1 = 2$)"
   ]
  },
  {
   "cell_type": "code",
   "execution_count": 580,
   "id": "bea30d27-9885-4b65-aba0-46e9cec74c7b",
   "metadata": {},
   "outputs": [
    {
     "data": {
      "text/latex": [
       "$\\displaystyle \\left[\\begin{matrix}1 & 0 & 0 & -1 & 0 & 0 & 1\\\\0 & 1 & 0 & -1 & -1 & d_{1} - 1 & d_{1}\\\\0 & 0 & 1 & 1 & 0 & -1 & -1\\end{matrix}\\right] = \\left[\\begin{matrix}1 & 0 & 0 & -1 & b_{0} & 0 & 1\\\\0 & 1 & 0 & -1 & b_{1} & 1 & 2\\\\0 & 0 & 1 & 1 & - b_{1} - 1 & -1 & -1\\end{matrix}\\right]$"
      ],
      "text/plain": [
       "Eq(Matrix([\n",
       "[1, 0, 0, -1,  0,      0,  1],\n",
       "[0, 1, 0, -1, -1, d1 - 1, d1],\n",
       "[0, 0, 1,  1,  0,     -1, -1]]), Matrix([\n",
       "[1, 0, 0, -1,      b0,  0,  1],\n",
       "[0, 1, 0, -1,      b1,  1,  2],\n",
       "[0, 0, 1,  1, -b1 - 1, -1, -1]]))"
      ]
     },
     "metadata": {},
     "output_type": "display_data"
    },
    {
     "data": {
      "text/latex": [
       "$\\displaystyle \\text{True}$"
      ],
      "text/plain": [
       "True"
      ]
     },
     "execution_count": 580,
     "metadata": {},
     "output_type": "execute_result"
    }
   ],
   "source": [
    "display(sp.Eq(fans[4], fans[5], evaluate=False))\n",
    "sp.Eq(fans[4].subs(d1,2), fans[5].subs(b0,0).subs(b1,-1))"
   ]
  },
  {
   "cell_type": "markdown",
   "id": "63adfdef-a615-4665-850a-db54c87cc1ae",
   "metadata": {
    "jp-MarkdownHeadingCollapsed": true
   },
   "source": [
    "## fan 6"
   ]
  },
  {
   "cell_type": "markdown",
   "id": "4e243a19-9262-4c95-ab12-b9256930ca97",
   "metadata": {
    "jp-MarkdownHeadingCollapsed": true
   },
   "source": [
    "### fan 1 ($c_2 = 0$, $d_0 = 1$, $d_1 = 1$)"
   ]
  },
  {
   "cell_type": "code",
   "execution_count": 562,
   "id": "bd2bf62b-9518-4a07-889e-5455acdf8b32",
   "metadata": {},
   "outputs": [
    {
     "data": {
      "text/latex": [
       "$\\displaystyle \\left[\\begin{matrix}1 & 0 & 0 & -1 & -1 & -1 & d_{0}\\\\0 & 1 & 0 & -1 & -2 & -1 & d_{1}\\\\0 & 0 & 1 & 1 & 1 & 0 & -1\\end{matrix}\\right] = \\left[\\begin{matrix}1 & 0 & 0 & -1 & - c_{2} - 1 & - c_{2} - 1 & 1\\\\0 & 1 & 0 & -1 & - c_{2} - 2 & - c_{2} - 1 & 1\\\\0 & 0 & 1 & 1 & c_{2} + 1 & c_{2} & -1\\end{matrix}\\right]$"
      ],
      "text/plain": [
       "Eq(Matrix([\n",
       "[1, 0, 0, -1, -1, -1, d0],\n",
       "[0, 1, 0, -1, -2, -1, d1],\n",
       "[0, 0, 1,  1,  1,  0, -1]]), Matrix([\n",
       "[1, 0, 0, -1, -c2 - 1, -c2 - 1,  1],\n",
       "[0, 1, 0, -1, -c2 - 2, -c2 - 1,  1],\n",
       "[0, 0, 1,  1,  c2 + 1,      c2, -1]]))"
      ]
     },
     "metadata": {},
     "output_type": "display_data"
    },
    {
     "data": {
      "text/latex": [
       "$\\displaystyle \\text{True}$"
      ],
      "text/plain": [
       "True"
      ]
     },
     "execution_count": 562,
     "metadata": {},
     "output_type": "execute_result"
    }
   ],
   "source": [
    "display(sp.Eq(fans[1], fans[6], evaluate=False))\n",
    "sp.Eq(fans[1].subs(d0,1).subs(d1,1), fans[6].subs(c2,0))"
   ]
  },
  {
   "cell_type": "markdown",
   "id": "23c16c03-cb19-4aba-937a-f7949c7a6bc7",
   "metadata": {
    "jp-MarkdownHeadingCollapsed": true
   },
   "source": [
    "### fan 4 ($c_2 = -1$, $d_1 = 1$)"
   ]
  },
  {
   "cell_type": "code",
   "execution_count": 582,
   "id": "b74656ac-e170-4937-8dd5-81cfd950e032",
   "metadata": {},
   "outputs": [
    {
     "data": {
      "text/latex": [
       "$\\displaystyle \\left[\\begin{matrix}1 & 0 & 0 & -1 & 0 & 0 & 1\\\\0 & 1 & 0 & -1 & -1 & d_{1} - 1 & d_{1}\\\\0 & 0 & 1 & 1 & 0 & -1 & -1\\end{matrix}\\right] = \\left[\\begin{matrix}1 & 0 & 0 & -1 & - c_{2} - 1 & - c_{2} - 1 & 1\\\\0 & 1 & 0 & -1 & - c_{2} - 2 & - c_{2} - 1 & 1\\\\0 & 0 & 1 & 1 & c_{2} + 1 & c_{2} & -1\\end{matrix}\\right]$"
      ],
      "text/plain": [
       "Eq(Matrix([\n",
       "[1, 0, 0, -1,  0,      0,  1],\n",
       "[0, 1, 0, -1, -1, d1 - 1, d1],\n",
       "[0, 0, 1,  1,  0,     -1, -1]]), Matrix([\n",
       "[1, 0, 0, -1, -c2 - 1, -c2 - 1,  1],\n",
       "[0, 1, 0, -1, -c2 - 2, -c2 - 1,  1],\n",
       "[0, 0, 1,  1,  c2 + 1,      c2, -1]]))"
      ]
     },
     "metadata": {},
     "output_type": "display_data"
    },
    {
     "data": {
      "text/latex": [
       "$\\displaystyle \\text{True}$"
      ],
      "text/plain": [
       "True"
      ]
     },
     "execution_count": 582,
     "metadata": {},
     "output_type": "execute_result"
    }
   ],
   "source": [
    "display(sp.Eq(fans[4], fans[6], evaluate=False))\n",
    "sp.Eq(fans[4].subs(d1,1), fans[6].subs(c2,-1))"
   ]
  },
  {
   "cell_type": "markdown",
   "id": "669e62b1-d605-4700-bc63-a41d6a1a110a",
   "metadata": {
    "jp-MarkdownHeadingCollapsed": true
   },
   "source": [
    "### fan 8 ($a_2 = 1$, $c_2 = -1$)"
   ]
  },
  {
   "cell_type": "code",
   "execution_count": 592,
   "id": "a8e2174d-5093-4b80-970e-d35ca4636122",
   "metadata": {},
   "outputs": [
    {
     "data": {
      "text/latex": [
       "$\\displaystyle \\left[\\begin{matrix}1 & 0 & 0 & -1 & - c_{2} - 1 & - c_{2} - 1 & 1\\\\0 & 1 & 0 & -1 & - c_{2} - 2 & - c_{2} - 1 & 1\\\\0 & 0 & 1 & 1 & c_{2} + 1 & c_{2} & -1\\end{matrix}\\right] = \\left[\\begin{matrix}1 & 0 & 0 & -1 & 0 & 0 & 1\\\\0 & 1 & 0 & -1 & -1 & 0 & 1\\\\0 & 0 & 1 & a_{2} & a_{2} - 1 & -1 & -1\\end{matrix}\\right]$"
      ],
      "text/plain": [
       "Eq(Matrix([\n",
       "[1, 0, 0, -1, -c2 - 1, -c2 - 1,  1],\n",
       "[0, 1, 0, -1, -c2 - 2, -c2 - 1,  1],\n",
       "[0, 0, 1,  1,  c2 + 1,      c2, -1]]), Matrix([\n",
       "[1, 0, 0, -1,      0,  0,  1],\n",
       "[0, 1, 0, -1,     -1,  0,  1],\n",
       "[0, 0, 1, a2, a2 - 1, -1, -1]]))"
      ]
     },
     "metadata": {},
     "output_type": "display_data"
    },
    {
     "data": {
      "text/latex": [
       "$\\displaystyle \\text{True}$"
      ],
      "text/plain": [
       "True"
      ]
     },
     "execution_count": 592,
     "metadata": {},
     "output_type": "execute_result"
    }
   ],
   "source": [
    "display(sp.Eq(fans[6], fans[8], evaluate=False))\n",
    "sp.Eq(fans[6].subs(c2,-1), fans[8].subs(a2,1))"
   ]
  },
  {
   "cell_type": "markdown",
   "id": "6ae299d6-6a21-4b27-ad35-fc2a41eb078b",
   "metadata": {
    "jp-MarkdownHeadingCollapsed": true
   },
   "source": [
    "## fan 7"
   ]
  },
  {
   "cell_type": "markdown",
   "id": "5107d398-3dc7-4e4d-a3a9-4db91d2de956",
   "metadata": {
    "jp-MarkdownHeadingCollapsed": true
   },
   "source": [
    "### fan 1 ($c_2 = 0$, $d_0 = 0$, $d_1 = 0$)"
   ]
  },
  {
   "cell_type": "code",
   "execution_count": 553,
   "id": "c73d0d8f-d584-4c18-9b1b-64fddb8112dd",
   "metadata": {},
   "outputs": [
    {
     "data": {
      "text/latex": [
       "$\\displaystyle \\left[\\begin{matrix}1 & 0 & 0 & -1 & -1 & -1 & d_{0}\\\\0 & 1 & 0 & -1 & -2 & -1 & d_{1}\\\\0 & 0 & 1 & 1 & 1 & 0 & -1\\end{matrix}\\right] = \\left[\\begin{matrix}1 & 0 & 0 & -1 & -1 & -1 & 0\\\\0 & 1 & 0 & -1 & -2 & -1 & 0\\\\0 & 0 & 1 & c_{2} + 1 & 2 c_{2} + 1 & c_{2} & -1\\end{matrix}\\right]$"
      ],
      "text/plain": [
       "Eq(Matrix([\n",
       "[1, 0, 0, -1, -1, -1, d0],\n",
       "[0, 1, 0, -1, -2, -1, d1],\n",
       "[0, 0, 1,  1,  1,  0, -1]]), Matrix([\n",
       "[1, 0, 0,     -1,       -1, -1,  0],\n",
       "[0, 1, 0,     -1,       -2, -1,  0],\n",
       "[0, 0, 1, c2 + 1, 2*c2 + 1, c2, -1]]))"
      ]
     },
     "metadata": {},
     "output_type": "display_data"
    },
    {
     "data": {
      "text/latex": [
       "$\\displaystyle \\text{True}$"
      ],
      "text/plain": [
       "True"
      ]
     },
     "execution_count": 553,
     "metadata": {},
     "output_type": "execute_result"
    }
   ],
   "source": [
    "display(sp.Eq(fans[1], fans[7], evaluate=False))\n",
    "sp.Eq(fans[1].subs(d0,0).subs(d1,0), fans[7].subs(c2,0))"
   ]
  },
  {
   "cell_type": "markdown",
   "id": "03bb513f-5f53-4fe7-8b7d-28ff248b0aef",
   "metadata": {
    "jp-MarkdownHeadingCollapsed": true
   },
   "source": [
    "### fan 2 ($c_2 = -1$, $d_0 = 0$, $d_1 = 0$)"
   ]
  },
  {
   "cell_type": "code",
   "execution_count": 567,
   "id": "87639874-e2b5-4d2e-bebd-c61c6fa49d0a",
   "metadata": {},
   "outputs": [
    {
     "data": {
      "text/latex": [
       "$\\displaystyle \\left[\\begin{matrix}1 & 0 & 0 & -1 & d_{0} - 1 & d_{0} - 1 & d_{0}\\\\0 & 1 & 0 & -1 & d_{1} - 2 & d_{1} - 1 & d_{1}\\\\0 & 0 & 1 & 0 & -1 & -1 & -1\\end{matrix}\\right] = \\left[\\begin{matrix}1 & 0 & 0 & -1 & -1 & -1 & 0\\\\0 & 1 & 0 & -1 & -2 & -1 & 0\\\\0 & 0 & 1 & c_{2} + 1 & 2 c_{2} + 1 & c_{2} & -1\\end{matrix}\\right]$"
      ],
      "text/plain": [
       "Eq(Matrix([\n",
       "[1, 0, 0, -1, d0 - 1, d0 - 1, d0],\n",
       "[0, 1, 0, -1, d1 - 2, d1 - 1, d1],\n",
       "[0, 0, 1,  0,     -1,     -1, -1]]), Matrix([\n",
       "[1, 0, 0,     -1,       -1, -1,  0],\n",
       "[0, 1, 0,     -1,       -2, -1,  0],\n",
       "[0, 0, 1, c2 + 1, 2*c2 + 1, c2, -1]]))"
      ]
     },
     "metadata": {},
     "output_type": "display_data"
    },
    {
     "data": {
      "text/latex": [
       "$\\displaystyle \\text{True}$"
      ],
      "text/plain": [
       "True"
      ]
     },
     "execution_count": 567,
     "metadata": {},
     "output_type": "execute_result"
    }
   ],
   "source": [
    "display(sp.Eq(fans[2], fans[7], evaluate=False))\n",
    "sp.Eq(fans[2].subs(d0,0).subs(d1,0), fans[7].subs(c2,-1))"
   ]
  },
  {
   "cell_type": "markdown",
   "id": "2688323d-0481-497c-bfa2-1b4b03344ab8",
   "metadata": {
    "jp-MarkdownHeadingCollapsed": true
   },
   "source": [
    "## fan 8"
   ]
  },
  {
   "cell_type": "markdown",
   "id": "d2a4f7dc-05bb-4301-a385-c4740ba420e4",
   "metadata": {
    "jp-MarkdownHeadingCollapsed": true
   },
   "source": [
    "### fan 2 ($a_2 = 0$, $d_0 = 1$, $d_1 = 1$)"
   ]
  },
  {
   "cell_type": "code",
   "execution_count": 569,
   "id": "f8f6f7e8-54d0-444d-8c00-92aee4a88d23",
   "metadata": {},
   "outputs": [
    {
     "data": {
      "text/latex": [
       "$\\displaystyle \\left[\\begin{matrix}1 & 0 & 0 & -1 & d_{0} - 1 & d_{0} - 1 & d_{0}\\\\0 & 1 & 0 & -1 & d_{1} - 2 & d_{1} - 1 & d_{1}\\\\0 & 0 & 1 & 0 & -1 & -1 & -1\\end{matrix}\\right] = \\left[\\begin{matrix}1 & 0 & 0 & -1 & 0 & 0 & 1\\\\0 & 1 & 0 & -1 & -1 & 0 & 1\\\\0 & 0 & 1 & a_{2} & a_{2} - 1 & -1 & -1\\end{matrix}\\right]$"
      ],
      "text/plain": [
       "Eq(Matrix([\n",
       "[1, 0, 0, -1, d0 - 1, d0 - 1, d0],\n",
       "[0, 1, 0, -1, d1 - 2, d1 - 1, d1],\n",
       "[0, 0, 1,  0,     -1,     -1, -1]]), Matrix([\n",
       "[1, 0, 0, -1,      0,  0,  1],\n",
       "[0, 1, 0, -1,     -1,  0,  1],\n",
       "[0, 0, 1, a2, a2 - 1, -1, -1]]))"
      ]
     },
     "metadata": {},
     "output_type": "display_data"
    },
    {
     "data": {
      "text/latex": [
       "$\\displaystyle \\text{True}$"
      ],
      "text/plain": [
       "True"
      ]
     },
     "execution_count": 569,
     "metadata": {},
     "output_type": "execute_result"
    }
   ],
   "source": [
    "display(sp.Eq(fans[2], fans[8], evaluate=False))\n",
    "sp.Eq(fans[2].subs(d0,1).subs(d1,1), fans[8].subs(a2,0))"
   ]
  },
  {
   "cell_type": "markdown",
   "id": "547ddf49-cc41-4837-b901-80b80a2236a1",
   "metadata": {
    "jp-MarkdownHeadingCollapsed": true
   },
   "source": [
    "### fan 4 ($a_2 = 1$, $d_1 = 1$)"
   ]
  },
  {
   "cell_type": "code",
   "execution_count": 586,
   "id": "44ca9848-5ef4-4ec2-b40c-30228855decc",
   "metadata": {},
   "outputs": [
    {
     "data": {
      "text/latex": [
       "$\\displaystyle \\left[\\begin{matrix}1 & 0 & 0 & -1 & 0 & 0 & 1\\\\0 & 1 & 0 & -1 & -1 & d_{1} - 1 & d_{1}\\\\0 & 0 & 1 & 1 & 0 & -1 & -1\\end{matrix}\\right] = \\left[\\begin{matrix}1 & 0 & 0 & -1 & 0 & 0 & 1\\\\0 & 1 & 0 & -1 & -1 & 0 & 1\\\\0 & 0 & 1 & a_{2} & a_{2} - 1 & -1 & -1\\end{matrix}\\right]$"
      ],
      "text/plain": [
       "Eq(Matrix([\n",
       "[1, 0, 0, -1,  0,      0,  1],\n",
       "[0, 1, 0, -1, -1, d1 - 1, d1],\n",
       "[0, 0, 1,  1,  0,     -1, -1]]), Matrix([\n",
       "[1, 0, 0, -1,      0,  0,  1],\n",
       "[0, 1, 0, -1,     -1,  0,  1],\n",
       "[0, 0, 1, a2, a2 - 1, -1, -1]]))"
      ]
     },
     "metadata": {},
     "output_type": "display_data"
    },
    {
     "data": {
      "text/latex": [
       "$\\displaystyle \\text{True}$"
      ],
      "text/plain": [
       "True"
      ]
     },
     "execution_count": 586,
     "metadata": {},
     "output_type": "execute_result"
    }
   ],
   "source": [
    "display(sp.Eq(fans[4], fans[8], evaluate=False))\n",
    "sp.Eq(fans[4].subs(d1,1), fans[8].subs(a2,1))"
   ]
  },
  {
   "cell_type": "markdown",
   "id": "339b35f5-a025-4a6a-8ce6-715423c2d852",
   "metadata": {
    "jp-MarkdownHeadingCollapsed": true
   },
   "source": [
    "### fan 6 ($a_2 = 1$, $c_2 = -1$)"
   ]
  },
  {
   "cell_type": "code",
   "execution_count": 592,
   "id": "73d0f344-f5b1-49d1-893a-646f54a7d36f",
   "metadata": {},
   "outputs": [
    {
     "data": {
      "text/latex": [
       "$\\displaystyle \\left[\\begin{matrix}1 & 0 & 0 & -1 & - c_{2} - 1 & - c_{2} - 1 & 1\\\\0 & 1 & 0 & -1 & - c_{2} - 2 & - c_{2} - 1 & 1\\\\0 & 0 & 1 & 1 & c_{2} + 1 & c_{2} & -1\\end{matrix}\\right] = \\left[\\begin{matrix}1 & 0 & 0 & -1 & 0 & 0 & 1\\\\0 & 1 & 0 & -1 & -1 & 0 & 1\\\\0 & 0 & 1 & a_{2} & a_{2} - 1 & -1 & -1\\end{matrix}\\right]$"
      ],
      "text/plain": [
       "Eq(Matrix([\n",
       "[1, 0, 0, -1, -c2 - 1, -c2 - 1,  1],\n",
       "[0, 1, 0, -1, -c2 - 2, -c2 - 1,  1],\n",
       "[0, 0, 1,  1,  c2 + 1,      c2, -1]]), Matrix([\n",
       "[1, 0, 0, -1,      0,  0,  1],\n",
       "[0, 1, 0, -1,     -1,  0,  1],\n",
       "[0, 0, 1, a2, a2 - 1, -1, -1]]))"
      ]
     },
     "metadata": {},
     "output_type": "display_data"
    },
    {
     "data": {
      "text/latex": [
       "$\\displaystyle \\text{True}$"
      ],
      "text/plain": [
       "True"
      ]
     },
     "execution_count": 592,
     "metadata": {},
     "output_type": "execute_result"
    }
   ],
   "source": [
    "display(sp.Eq(fans[6], fans[8], evaluate=False))\n",
    "sp.Eq(fans[6].subs(c2,-1), fans[8].subs(a2,1))"
   ]
  },
  {
   "cell_type": "markdown",
   "id": "74593b70-40f6-4f2f-bec3-6d3f43647295",
   "metadata": {
    "jp-MarkdownHeadingCollapsed": true
   },
   "source": [
    "# There are 3 types of fans up to D-J equivalence and symmetry"
   ]
  },
  {
   "cell_type": "code",
   "execution_count": 594,
   "id": "7181df65-5ad6-4828-9f52-8423e752d6c4",
   "metadata": {},
   "outputs": [
    {
     "data": {
      "text/plain": [
       "[[1, 2, 3, 4, 5, 6, 7],\n",
       " [1, 2, 7, 6, 5, 4, 3],\n",
       " [1, 4, 3, 2, 7, 6, 5],\n",
       " [1, 4, 5, 6, 7, 2, 3],\n",
       " [1, 6, 7, 2, 3, 4, 5],\n",
       " [1, 6, 5, 4, 3, 2, 7]]"
      ]
     },
     "execution_count": 594,
     "metadata": {},
     "output_type": "execute_result"
    }
   ],
   "source": [
    "K.symmetries"
   ]
  },
  {
   "cell_type": "code",
   "execution_count": 595,
   "id": "fc39d93e-ad45-44bb-af68-278e0ba27840",
   "metadata": {},
   "outputs": [],
   "source": [
    "symm_index = [(np.array(i)-1).tolist() for i in K.symmetries]"
   ]
  },
  {
   "cell_type": "markdown",
   "id": "43af3d55-a1a0-4d13-a54e-38dd0762a3b4",
   "metadata": {
    "jp-MarkdownHeadingCollapsed": true
   },
   "source": [
    "## types 0, 3, 7"
   ]
  },
  {
   "cell_type": "code",
   "execution_count": 602,
   "id": "5d4c3d6a-2085-4cb9-8c12-205a7c032c1f",
   "metadata": {},
   "outputs": [
    {
     "data": {
      "text/latex": [
       "$\\displaystyle \\left[\\begin{matrix}1 & 0 & 0 & -1 & -1 & a_{2} - 1 & 1\\\\0 & 1 & 0 & -1 & -2 & 2 a_{2} - 1 & 2\\\\0 & 0 & 1 & 1 & 1 & - a_{2} & -1\\end{matrix}\\right]$"
      ],
      "text/plain": [
       "Matrix([\n",
       "[1, 0, 0, -1, -1,   a2 - 1,  1],\n",
       "[0, 1, 0, -1, -2, 2*a2 - 1,  2],\n",
       "[0, 0, 1,  1,  1,      -a2, -1]])"
      ]
     },
     "metadata": {},
     "output_type": "display_data"
    },
    {
     "data": {
      "text/latex": [
       "$\\displaystyle \\left[\\begin{matrix}1 & 0 & 0 & -1 & -1 & - c_{2} - 1 & 1\\\\0 & 1 & 0 & -1 & -2 & - 2 c_{2} - 1 & 2\\\\0 & 0 & 1 & 1 & 1 & c_{2} & -1\\end{matrix}\\right]$"
      ],
      "text/plain": [
       "Matrix([\n",
       "[1, 0, 0, -1, -1,   -c2 - 1,  1],\n",
       "[0, 1, 0, -1, -2, -2*c2 - 1,  2],\n",
       "[0, 0, 1,  1,  1,        c2, -1]])"
      ]
     },
     "metadata": {},
     "output_type": "display_data"
    }
   ],
   "source": [
    "display(fans[0][:, symm_index[1]].rref()[0])\n",
    "display(fans[3])"
   ]
  },
  {
   "cell_type": "code",
   "execution_count": 604,
   "id": "21991643-10db-4329-8608-5b032dbed220",
   "metadata": {},
   "outputs": [
    {
     "data": {
      "text/latex": [
       "$\\displaystyle \\left[\\begin{matrix}1 & 0 & 0 & -1 & -1 & -1 & 0\\\\0 & 1 & 0 & -1 & -2 & -1 & 0\\\\0 & 0 & 1 & a_{2} & 2 a_{2} - 1 & a_{2} - 1 & -1\\end{matrix}\\right]$"
      ],
      "text/plain": [
       "Matrix([\n",
       "[1, 0, 0, -1,       -1,     -1,  0],\n",
       "[0, 1, 0, -1,       -2,     -1,  0],\n",
       "[0, 0, 1, a2, 2*a2 - 1, a2 - 1, -1]])"
      ]
     },
     "metadata": {},
     "output_type": "display_data"
    },
    {
     "data": {
      "text/latex": [
       "$\\displaystyle \\left[\\begin{matrix}1 & 0 & 0 & -1 & -1 & -1 & 0\\\\0 & 1 & 0 & -1 & -2 & -1 & 0\\\\0 & 0 & 1 & c_{2} + 1 & 2 c_{2} + 1 & c_{2} & -1\\end{matrix}\\right]$"
      ],
      "text/plain": [
       "Matrix([\n",
       "[1, 0, 0,     -1,       -1, -1,  0],\n",
       "[0, 1, 0,     -1,       -2, -1,  0],\n",
       "[0, 0, 1, c2 + 1, 2*c2 + 1, c2, -1]])"
      ]
     },
     "metadata": {},
     "output_type": "display_data"
    }
   ],
   "source": [
    "display(fans[0][:, symm_index[2]].rref()[0])\n",
    "display(fans[7])"
   ]
  },
  {
   "cell_type": "code",
   "execution_count": 606,
   "id": "fc248fe8-58aa-4fb0-bac9-57a864a2c860",
   "metadata": {},
   "outputs": [
    {
     "data": {
      "text/latex": [
       "$\\displaystyle \\left[\\begin{matrix}1 & 0 & 0 & -1 & -1 & -1 & 0\\\\0 & 1 & 0 & -1 & -2 & -1 & 0\\\\0 & 0 & 1 & 1 - a_{2} & 1 - 2 a_{2} & - a_{2} & -1\\end{matrix}\\right]$"
      ],
      "text/plain": [
       "Matrix([\n",
       "[1, 0, 0,     -1,       -1,  -1,  0],\n",
       "[0, 1, 0,     -1,       -2,  -1,  0],\n",
       "[0, 0, 1, 1 - a2, 1 - 2*a2, -a2, -1]])"
      ]
     },
     "metadata": {},
     "output_type": "display_data"
    },
    {
     "data": {
      "text/latex": [
       "$\\displaystyle \\left[\\begin{matrix}1 & 0 & 0 & -1 & -1 & -1 & 0\\\\0 & 1 & 0 & -1 & -2 & -1 & 0\\\\0 & 0 & 1 & c_{2} + 1 & 2 c_{2} + 1 & c_{2} & -1\\end{matrix}\\right]$"
      ],
      "text/plain": [
       "Matrix([\n",
       "[1, 0, 0,     -1,       -1, -1,  0],\n",
       "[0, 1, 0,     -1,       -2, -1,  0],\n",
       "[0, 0, 1, c2 + 1, 2*c2 + 1, c2, -1]])"
      ]
     },
     "metadata": {},
     "output_type": "display_data"
    }
   ],
   "source": [
    "display(fans[0][:, symm_index[3]].rref()[0])\n",
    "display(fans[7])"
   ]
  },
  {
   "cell_type": "code",
   "execution_count": 607,
   "id": "7158092e-b8f1-42c7-9745-a40f07e6c36b",
   "metadata": {},
   "outputs": [
    {
     "data": {
      "text/latex": [
       "$\\displaystyle \\left[\\begin{matrix}1 & 0 & 0 & -1 & -1 & - a_{2} & 1\\\\0 & 1 & 0 & -1 & -2 & 1 - 2 a_{2} & 2\\\\0 & 0 & 1 & 1 & 1 & a_{2} - 1 & -1\\end{matrix}\\right]$"
      ],
      "text/plain": [
       "Matrix([\n",
       "[1, 0, 0, -1, -1,      -a2,  1],\n",
       "[0, 1, 0, -1, -2, 1 - 2*a2,  2],\n",
       "[0, 0, 1,  1,  1,   a2 - 1, -1]])"
      ]
     },
     "metadata": {},
     "output_type": "display_data"
    },
    {
     "data": {
      "text/latex": [
       "$\\displaystyle \\left[\\begin{matrix}1 & 0 & 0 & -1 & -1 & - c_{2} - 1 & 1\\\\0 & 1 & 0 & -1 & -2 & - 2 c_{2} - 1 & 2\\\\0 & 0 & 1 & 1 & 1 & c_{2} & -1\\end{matrix}\\right]$"
      ],
      "text/plain": [
       "Matrix([\n",
       "[1, 0, 0, -1, -1,   -c2 - 1,  1],\n",
       "[0, 1, 0, -1, -2, -2*c2 - 1,  2],\n",
       "[0, 0, 1,  1,  1,        c2, -1]])"
      ]
     },
     "metadata": {},
     "output_type": "display_data"
    }
   ],
   "source": [
    "display(fans[0][:, symm_index[4]].rref()[0])\n",
    "display(fans[3])"
   ]
  },
  {
   "cell_type": "code",
   "execution_count": 608,
   "id": "071bc44f-b394-4338-b8be-3a4f58b727d8",
   "metadata": {},
   "outputs": [
    {
     "data": {
      "text/latex": [
       "$\\displaystyle \\left[\\begin{matrix}1 & 0 & 0 & -1 & 0 & 0 & 1\\\\0 & 1 & 0 & -1 & 0 & 1 & 2\\\\0 & 0 & 1 & 1 - a_{2} & -1 & -1 & -1\\end{matrix}\\right]$"
      ],
      "text/plain": [
       "Matrix([\n",
       "[1, 0, 0,     -1,  0,  0,  1],\n",
       "[0, 1, 0,     -1,  0,  1,  2],\n",
       "[0, 0, 1, 1 - a2, -1, -1, -1]])"
      ]
     },
     "metadata": {},
     "output_type": "display_data"
    },
    {
     "data": {
      "text/latex": [
       "$\\displaystyle \\left[\\begin{matrix}1 & 0 & 0 & -1 & 0 & 0 & 1\\\\0 & 1 & 0 & -1 & 0 & 1 & 2\\\\0 & 0 & 1 & a_{2} & -1 & -1 & -1\\end{matrix}\\right]$"
      ],
      "text/plain": [
       "Matrix([\n",
       "[1, 0, 0, -1,  0,  0,  1],\n",
       "[0, 1, 0, -1,  0,  1,  2],\n",
       "[0, 0, 1, a2, -1, -1, -1]])"
      ]
     },
     "metadata": {},
     "output_type": "display_data"
    }
   ],
   "source": [
    "display(fans[0][:, symm_index[5]].rref()[0])\n",
    "display(fans[0])"
   ]
  },
  {
   "cell_type": "markdown",
   "id": "bc809ae4-9aef-468c-9d68-2f2ace4a3621",
   "metadata": {
    "jp-MarkdownHeadingCollapsed": true
   },
   "source": [
    "## types 1, 2, 5"
   ]
  },
  {
   "cell_type": "code",
   "execution_count": 610,
   "id": "459230e7-21ff-4b17-ac76-cfaed84181dd",
   "metadata": {},
   "outputs": [
    {
     "data": {
      "text/latex": [
       "$\\displaystyle \\left[\\begin{matrix}1 & 0 & 0 & -1 & d_{0} - 1 & d_{0} - 1 & d_{0}\\\\0 & 1 & 0 & -1 & d_{1} - 2 & d_{1} - 1 & d_{1}\\\\0 & 0 & 1 & 0 & -1 & -1 & -1\\end{matrix}\\right]$"
      ],
      "text/plain": [
       "Matrix([\n",
       "[1, 0, 0, -1, d0 - 1, d0 - 1, d0],\n",
       "[0, 1, 0, -1, d1 - 2, d1 - 1, d1],\n",
       "[0, 0, 1,  0,     -1,     -1, -1]])"
      ]
     },
     "metadata": {},
     "output_type": "display_data"
    },
    {
     "data": {
      "text/latex": [
       "$\\displaystyle \\left[\\begin{matrix}1 & 0 & 0 & -1 & d_{0} - 1 & d_{0} - 1 & d_{0}\\\\0 & 1 & 0 & -1 & d_{1} - 2 & d_{1} - 1 & d_{1}\\\\0 & 0 & 1 & 0 & -1 & -1 & -1\\end{matrix}\\right]$"
      ],
      "text/plain": [
       "Matrix([\n",
       "[1, 0, 0, -1, d0 - 1, d0 - 1, d0],\n",
       "[0, 1, 0, -1, d1 - 2, d1 - 1, d1],\n",
       "[0, 0, 1,  0,     -1,     -1, -1]])"
      ]
     },
     "metadata": {},
     "output_type": "display_data"
    }
   ],
   "source": [
    "display(fans[1][:, symm_index[1]].rref()[0])\n",
    "display(fans[2])"
   ]
  },
  {
   "cell_type": "code",
   "execution_count": 613,
   "id": "4fc555f2-aeaf-4457-99ad-426b59e591f9",
   "metadata": {},
   "outputs": [
    {
     "data": {
      "text/latex": [
       "$\\displaystyle \\left[\\begin{matrix}1 & 0 & 0 & -1 & d_{0} - d_{1} & 0 & 1\\\\0 & 1 & 0 & -1 & - d_{1} & 1 & 2\\\\0 & 0 & 1 & 1 & d_{1} - 1 & -1 & -1\\end{matrix}\\right]$"
      ],
      "text/plain": [
       "Matrix([\n",
       "[1, 0, 0, -1, d0 - d1,  0,  1],\n",
       "[0, 1, 0, -1,     -d1,  1,  2],\n",
       "[0, 0, 1,  1,  d1 - 1, -1, -1]])"
      ]
     },
     "metadata": {},
     "output_type": "display_data"
    },
    {
     "data": {
      "text/latex": [
       "$\\displaystyle \\left[\\begin{matrix}1 & 0 & 0 & -1 & b_{0} & 0 & 1\\\\0 & 1 & 0 & -1 & b_{1} & 1 & 2\\\\0 & 0 & 1 & 1 & - b_{1} - 1 & -1 & -1\\end{matrix}\\right]$"
      ],
      "text/plain": [
       "Matrix([\n",
       "[1, 0, 0, -1,      b0,  0,  1],\n",
       "[0, 1, 0, -1,      b1,  1,  2],\n",
       "[0, 0, 1,  1, -b1 - 1, -1, -1]])"
      ]
     },
     "metadata": {},
     "output_type": "display_data"
    }
   ],
   "source": [
    "display(fans[1][:, symm_index[2]].rref()[0])\n",
    "display(fans[5])"
   ]
  },
  {
   "cell_type": "code",
   "execution_count": 619,
   "id": "5b004cb0-2930-4716-a87d-8efb8786ec28",
   "metadata": {},
   "outputs": [
    {
     "data": {
      "text/latex": [
       "$\\displaystyle \\left[\\begin{matrix}1 & 0 & 0 & -1 & d_{0} - 1 & 0 & 1\\\\0 & 1 & 0 & -1 & d_{1} - 2 & 1 & 2\\\\0 & 0 & 1 & 1 & 1 - d_{1} & -1 & -1\\end{matrix}\\right]$"
      ],
      "text/plain": [
       "Matrix([\n",
       "[1, 0, 0, -1, d0 - 1,  0,  1],\n",
       "[0, 1, 0, -1, d1 - 2,  1,  2],\n",
       "[0, 0, 1,  1, 1 - d1, -1, -1]])"
      ]
     },
     "metadata": {},
     "output_type": "display_data"
    },
    {
     "data": {
      "text/latex": [
       "$\\displaystyle \\left[\\begin{matrix}1 & 0 & 0 & -1 & b_{0} & 0 & 1\\\\0 & 1 & 0 & -1 & b_{1} & 1 & 2\\\\0 & 0 & 1 & 1 & - b_{1} - 1 & -1 & -1\\end{matrix}\\right]$"
      ],
      "text/plain": [
       "Matrix([\n",
       "[1, 0, 0, -1,      b0,  0,  1],\n",
       "[0, 1, 0, -1,      b1,  1,  2],\n",
       "[0, 0, 1,  1, -b1 - 1, -1, -1]])"
      ]
     },
     "metadata": {},
     "output_type": "display_data"
    }
   ],
   "source": [
    "display(fans[1][:, symm_index[3]].rref()[0])\n",
    "display(fans[5])"
   ]
  },
  {
   "cell_type": "code",
   "execution_count": 620,
   "id": "ce342081-7fe2-4eb8-a63b-54f265bb6d11",
   "metadata": {},
   "outputs": [
    {
     "data": {
      "text/latex": [
       "$\\displaystyle \\left[\\begin{matrix}1 & 0 & 0 & -1 & d_{0} - d_{1} & d_{0} - d_{1} & d_{0} - d_{1} + 1\\\\0 & 1 & 0 & -1 & - d_{1} & 1 - d_{1} & 2 - d_{1}\\\\0 & 0 & 1 & 0 & -1 & -1 & -1\\end{matrix}\\right]$"
      ],
      "text/plain": [
       "Matrix([\n",
       "[1, 0, 0, -1, d0 - d1, d0 - d1, d0 - d1 + 1],\n",
       "[0, 1, 0, -1,     -d1,  1 - d1,      2 - d1],\n",
       "[0, 0, 1,  0,      -1,      -1,          -1]])"
      ]
     },
     "metadata": {},
     "output_type": "display_data"
    },
    {
     "data": {
      "text/latex": [
       "$\\displaystyle \\left[\\begin{matrix}1 & 0 & 0 & -1 & d_{0} - 1 & d_{0} - 1 & d_{0}\\\\0 & 1 & 0 & -1 & d_{1} - 2 & d_{1} - 1 & d_{1}\\\\0 & 0 & 1 & 0 & -1 & -1 & -1\\end{matrix}\\right]$"
      ],
      "text/plain": [
       "Matrix([\n",
       "[1, 0, 0, -1, d0 - 1, d0 - 1, d0],\n",
       "[0, 1, 0, -1, d1 - 2, d1 - 1, d1],\n",
       "[0, 0, 1,  0,     -1,     -1, -1]])"
      ]
     },
     "metadata": {},
     "output_type": "display_data"
    }
   ],
   "source": [
    "display(fans[1][:, symm_index[4]].rref()[0])\n",
    "display(fans[2])"
   ]
  },
  {
   "cell_type": "code",
   "execution_count": 621,
   "id": "6fadb815-dd0b-40d6-9778-90d0a2dd6aaf",
   "metadata": {},
   "outputs": [
    {
     "data": {
      "text/latex": [
       "$\\displaystyle \\left[\\begin{matrix}1 & 0 & 0 & -1 & -1 & -1 & d_{0} - d_{1} + 1\\\\0 & 1 & 0 & -1 & -2 & -1 & 2 - d_{1}\\\\0 & 0 & 1 & 1 & 1 & 0 & -1\\end{matrix}\\right]$"
      ],
      "text/plain": [
       "Matrix([\n",
       "[1, 0, 0, -1, -1, -1, d0 - d1 + 1],\n",
       "[0, 1, 0, -1, -2, -1,      2 - d1],\n",
       "[0, 0, 1,  1,  1,  0,          -1]])"
      ]
     },
     "metadata": {},
     "output_type": "display_data"
    },
    {
     "data": {
      "text/latex": [
       "$\\displaystyle \\left[\\begin{matrix}1 & 0 & 0 & -1 & -1 & -1 & d_{0}\\\\0 & 1 & 0 & -1 & -2 & -1 & d_{1}\\\\0 & 0 & 1 & 1 & 1 & 0 & -1\\end{matrix}\\right]$"
      ],
      "text/plain": [
       "Matrix([\n",
       "[1, 0, 0, -1, -1, -1, d0],\n",
       "[0, 1, 0, -1, -2, -1, d1],\n",
       "[0, 0, 1,  1,  1,  0, -1]])"
      ]
     },
     "metadata": {},
     "output_type": "display_data"
    }
   ],
   "source": [
    "display(fans[1][:, symm_index[5]].rref()[0])\n",
    "display(fans[1])"
   ]
  },
  {
   "cell_type": "markdown",
   "id": "82cd08dc-ca53-4f7f-8637-257b2797d47e",
   "metadata": {
    "jp-MarkdownHeadingCollapsed": true
   },
   "source": [
    "## type 4, 6, 8"
   ]
  },
  {
   "cell_type": "code",
   "execution_count": 624,
   "id": "83e797d6-4b32-4098-ab80-738132da5b33",
   "metadata": {},
   "outputs": [
    {
     "data": {
      "text/latex": [
       "$\\displaystyle \\left[\\begin{matrix}1 & 0 & 0 & -1 & 0 & 0 & 1\\\\0 & 1 & 0 & -1 & -1 & d_{1} - 1 & d_{1}\\\\0 & 0 & 1 & 1 & 0 & -1 & -1\\end{matrix}\\right]$"
      ],
      "text/plain": [
       "Matrix([\n",
       "[1, 0, 0, -1,  0,      0,  1],\n",
       "[0, 1, 0, -1, -1, d1 - 1, d1],\n",
       "[0, 0, 1,  1,  0,     -1, -1]])"
      ]
     },
     "metadata": {},
     "output_type": "display_data"
    },
    {
     "data": {
      "text/latex": [
       "$\\displaystyle \\left[\\begin{matrix}1 & 0 & 0 & -1 & 0 & 0 & 1\\\\0 & 1 & 0 & -1 & -1 & d_{1} - 1 & d_{1}\\\\0 & 0 & 1 & 1 & 0 & -1 & -1\\end{matrix}\\right]$"
      ],
      "text/plain": [
       "Matrix([\n",
       "[1, 0, 0, -1,  0,      0,  1],\n",
       "[0, 1, 0, -1, -1, d1 - 1, d1],\n",
       "[0, 0, 1,  1,  0,     -1, -1]])"
      ]
     },
     "metadata": {},
     "output_type": "display_data"
    }
   ],
   "source": [
    "display(fans[4][:, symm_index[1]].rref()[0])\n",
    "display(fans[4])"
   ]
  },
  {
   "cell_type": "code",
   "execution_count": 625,
   "id": "6139c718-1269-49b5-8ff4-38b5f574dcea",
   "metadata": {},
   "outputs": [
    {
     "data": {
      "text/latex": [
       "$\\displaystyle \\left[\\begin{matrix}1 & 0 & 0 & -1 & 1 - d_{1} & 1 - d_{1} & 1\\\\0 & 1 & 0 & -1 & - d_{1} & 1 - d_{1} & 1\\\\0 & 0 & 1 & 1 & d_{1} - 1 & d_{1} - 2 & -1\\end{matrix}\\right]$"
      ],
      "text/plain": [
       "Matrix([\n",
       "[1, 0, 0, -1, 1 - d1, 1 - d1,  1],\n",
       "[0, 1, 0, -1,    -d1, 1 - d1,  1],\n",
       "[0, 0, 1,  1, d1 - 1, d1 - 2, -1]])"
      ]
     },
     "metadata": {},
     "output_type": "display_data"
    },
    {
     "data": {
      "text/latex": [
       "$\\displaystyle \\left[\\begin{matrix}1 & 0 & 0 & -1 & - c_{2} - 1 & - c_{2} - 1 & 1\\\\0 & 1 & 0 & -1 & - c_{2} - 2 & - c_{2} - 1 & 1\\\\0 & 0 & 1 & 1 & c_{2} + 1 & c_{2} & -1\\end{matrix}\\right]$"
      ],
      "text/plain": [
       "Matrix([\n",
       "[1, 0, 0, -1, -c2 - 1, -c2 - 1,  1],\n",
       "[0, 1, 0, -1, -c2 - 2, -c2 - 1,  1],\n",
       "[0, 0, 1,  1,  c2 + 1,      c2, -1]])"
      ]
     },
     "metadata": {},
     "output_type": "display_data"
    }
   ],
   "source": [
    "display(fans[4][:, symm_index[2]].rref()[0])\n",
    "display(fans[6])"
   ]
  },
  {
   "cell_type": "code",
   "execution_count": 626,
   "id": "bec0b2cb-9ccf-437e-80df-e5d3d437d97b",
   "metadata": {},
   "outputs": [
    {
     "data": {
      "text/latex": [
       "$\\displaystyle \\left[\\begin{matrix}1 & 0 & 0 & -1 & 0 & 0 & 1\\\\0 & 1 & 0 & -1 & -1 & 0 & 1\\\\0 & 0 & 1 & 2 - d_{1} & 1 - d_{1} & -1 & -1\\end{matrix}\\right]$"
      ],
      "text/plain": [
       "Matrix([\n",
       "[1, 0, 0,     -1,      0,  0,  1],\n",
       "[0, 1, 0,     -1,     -1,  0,  1],\n",
       "[0, 0, 1, 2 - d1, 1 - d1, -1, -1]])"
      ]
     },
     "metadata": {},
     "output_type": "display_data"
    },
    {
     "data": {
      "text/latex": [
       "$\\displaystyle \\left[\\begin{matrix}1 & 0 & 0 & -1 & 0 & 0 & 1\\\\0 & 1 & 0 & -1 & -1 & 0 & 1\\\\0 & 0 & 1 & a_{2} & a_{2} - 1 & -1 & -1\\end{matrix}\\right]$"
      ],
      "text/plain": [
       "Matrix([\n",
       "[1, 0, 0, -1,      0,  0,  1],\n",
       "[0, 1, 0, -1,     -1,  0,  1],\n",
       "[0, 0, 1, a2, a2 - 1, -1, -1]])"
      ]
     },
     "metadata": {},
     "output_type": "display_data"
    }
   ],
   "source": [
    "display(fans[4][:, symm_index[3]].rref()[0])\n",
    "display(fans[8])"
   ]
  },
  {
   "cell_type": "code",
   "execution_count": 628,
   "id": "569d879c-6718-4ffb-bf22-a94f807e8884",
   "metadata": {},
   "outputs": [
    {
     "data": {
      "text/latex": [
       "$\\displaystyle \\left[\\begin{matrix}1 & 0 & 0 & -1 & 1 - d_{1} & 1 - d_{1} & 1\\\\0 & 1 & 0 & -1 & - d_{1} & 1 - d_{1} & 1\\\\0 & 0 & 1 & 1 & d_{1} - 1 & d_{1} - 2 & -1\\end{matrix}\\right]$"
      ],
      "text/plain": [
       "Matrix([\n",
       "[1, 0, 0, -1, 1 - d1, 1 - d1,  1],\n",
       "[0, 1, 0, -1,    -d1, 1 - d1,  1],\n",
       "[0, 0, 1,  1, d1 - 1, d1 - 2, -1]])"
      ]
     },
     "metadata": {},
     "output_type": "display_data"
    },
    {
     "data": {
      "text/latex": [
       "$\\displaystyle \\left[\\begin{matrix}1 & 0 & 0 & -1 & - c_{2} - 1 & - c_{2} - 1 & 1\\\\0 & 1 & 0 & -1 & - c_{2} - 2 & - c_{2} - 1 & 1\\\\0 & 0 & 1 & 1 & c_{2} + 1 & c_{2} & -1\\end{matrix}\\right]$"
      ],
      "text/plain": [
       "Matrix([\n",
       "[1, 0, 0, -1, -c2 - 1, -c2 - 1,  1],\n",
       "[0, 1, 0, -1, -c2 - 2, -c2 - 1,  1],\n",
       "[0, 0, 1,  1,  c2 + 1,      c2, -1]])"
      ]
     },
     "metadata": {},
     "output_type": "display_data"
    }
   ],
   "source": [
    "display(fans[4][:, symm_index[4]].rref()[0])\n",
    "display(fans[6])"
   ]
  },
  {
   "cell_type": "code",
   "execution_count": 637,
   "id": "727b168d-f3bc-4e40-bd62-f0b7ca1663e8",
   "metadata": {},
   "outputs": [
    {
     "data": {
      "text/latex": [
       "$\\displaystyle \\left[\\begin{matrix}1 & 0 & 0 & -1 & 0 & 0 & 1\\\\0 & 1 & 0 & -1 & -1 & 0 & 1\\\\0 & 0 & 1 & 2 - d_{1} & 1 - d_{1} & -1 & -1\\end{matrix}\\right]$"
      ],
      "text/plain": [
       "Matrix([\n",
       "[1, 0, 0,     -1,      0,  0,  1],\n",
       "[0, 1, 0,     -1,     -1,  0,  1],\n",
       "[0, 0, 1, 2 - d1, 1 - d1, -1, -1]])"
      ]
     },
     "metadata": {},
     "output_type": "display_data"
    },
    {
     "data": {
      "text/latex": [
       "$\\displaystyle \\left[\\begin{matrix}1 & 0 & 0 & -1 & 0 & 0 & 1\\\\0 & 1 & 0 & -1 & -1 & 0 & 1\\\\0 & 0 & 1 & a_{2} & a_{2} - 1 & -1 & -1\\end{matrix}\\right]$"
      ],
      "text/plain": [
       "Matrix([\n",
       "[1, 0, 0, -1,      0,  0,  1],\n",
       "[0, 1, 0, -1,     -1,  0,  1],\n",
       "[0, 0, 1, a2, a2 - 1, -1, -1]])"
      ]
     },
     "metadata": {},
     "output_type": "display_data"
    }
   ],
   "source": [
    "display(fans[4][:, symm_index[5]].rref()[0])\n",
    "display(fans[8])"
   ]
  }
 ],
 "metadata": {
  "kernelspec": {
   "display_name": "Python 3 (ipykernel)",
   "language": "python",
   "name": "python3"
  },
  "language_info": {
   "codemirror_mode": {
    "name": "ipython",
    "version": 3
   },
   "file_extension": ".py",
   "mimetype": "text/x-python",
   "name": "python",
   "nbconvert_exporter": "python",
   "pygments_lexer": "ipython3",
   "version": "3.12.7"
  }
 },
 "nbformat": 4,
 "nbformat_minor": 5
}
