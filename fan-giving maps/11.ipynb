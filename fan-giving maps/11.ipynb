{
 "cells": [
  {
   "cell_type": "markdown",
   "id": "bc642bf8-ec06-4a43-a4cb-3a6b37755607",
   "metadata": {
    "jp-MarkdownHeadingCollapsed": true
   },
   "source": [
    "# Preparation"
   ]
  },
  {
   "cell_type": "code",
   "execution_count": 1,
   "id": "7efb1254-e403-4bc5-a3ed-c4979ef128b5",
   "metadata": {},
   "outputs": [],
   "source": [
    "%run programs\\\\Characteristic_Pair.py\n",
    "import copy\n",
    "from tqdm import trange\n",
    "K = Simplicial_Complex(json.loads(read_file('programs\\\\fanlikes')[11]))\n",
    "M = initial_char(K.n)\n",
    "C0 = Characteristic_Pair(K, M)\n",
    "fans = []\n",
    "\n",
    "a = sp.symbols('a0:%d'%K.n)\n",
    "b = sp.symbols('b0:%d'%K.n)\n",
    "c = sp.symbols('c0:%d'%K.n)\n",
    "d = sp.symbols('d0:%d'%K.n)\n",
    "\n",
    "a0, a1, a2, a3 = a[:]\n",
    "b0, b1, b2, b3 = b[:]\n",
    "c0, c1, c2, c3 = c[:]\n",
    "d0, d1, d2, d3 = d[:]"
   ]
  },
  {
   "cell_type": "code",
   "execution_count": 2,
   "id": "7ebd3bf2-9aa3-4a96-903b-90f3504e8940",
   "metadata": {},
   "outputs": [
    {
     "data": {
      "text/latex": [
       "$\\displaystyle \\left[\\begin{matrix}1 & 0 & 0 & 0 & a_{0} & b_{0} & c_{0} & d_{0}\\\\0 & 1 & 0 & 0 & a_{1} & b_{1} & c_{1} & d_{1}\\\\0 & 0 & 1 & 0 & a_{2} & b_{2} & c_{2} & d_{2}\\\\0 & 0 & 0 & 1 & a_{3} & b_{3} & c_{3} & d_{3}\\end{matrix}\\right]$"
      ],
      "text/plain": [
       "Matrix([\n",
       "[1, 0, 0, 0, a0, b0, c0, d0],\n",
       "[0, 1, 0, 0, a1, b1, c1, d1],\n",
       "[0, 0, 1, 0, a2, b2, c2, d2],\n",
       "[0, 0, 0, 1, a3, b3, c3, d3]])"
      ]
     },
     "execution_count": 2,
     "metadata": {},
     "output_type": "execute_result"
    }
   ],
   "source": [
    "C = C0\n",
    "C.char"
   ]
  },
  {
   "cell_type": "code",
   "execution_count": 4,
   "id": "a8c3c39a-2f35-46d0-b5cf-ff5e22d6a6b3",
   "metadata": {},
   "outputs": [
    {
     "name": "stdout",
     "output_type": "stream",
     "text": [
      "facet number: 10\n"
     ]
    },
    {
     "data": {
      "text/latex": [
       "$\\displaystyle - a_{0} = 1$"
      ],
      "text/plain": [
       "Eq(-a0, 1)"
      ]
     },
     "metadata": {},
     "output_type": "display_data"
    },
    {
     "name": "stdout",
     "output_type": "stream",
     "text": [
      "facet number: 3\n"
     ]
    },
    {
     "data": {
      "text/latex": [
       "$\\displaystyle b_{1} = -1$"
      ],
      "text/plain": [
       "Eq(b1, -1)"
      ]
     },
     "metadata": {},
     "output_type": "display_data"
    },
    {
     "name": "stdout",
     "output_type": "stream",
     "text": [
      "facet number: 2\n"
     ]
    },
    {
     "data": {
      "text/latex": [
       "$\\displaystyle - c_{2} = 1$"
      ],
      "text/plain": [
       "Eq(-c2, 1)"
      ]
     },
     "metadata": {},
     "output_type": "display_data"
    },
    {
     "name": "stdout",
     "output_type": "stream",
     "text": [
      "facet number: 1\n"
     ]
    },
    {
     "data": {
      "text/latex": [
       "$\\displaystyle c_{3} = -1$"
      ],
      "text/plain": [
       "Eq(c3, -1)"
      ]
     },
     "metadata": {},
     "output_type": "display_data"
    }
   ],
   "source": [
    "i=10\n",
    "print('facet number:', i)\n",
    "display(sp.Eq(C.determinants[i], C.orientation[i]))\n",
    "\n",
    "i=3\n",
    "print('facet number:', i)\n",
    "display(sp.Eq(C.determinants[i], C.orientation[i]))\n",
    "\n",
    "i=2\n",
    "print('facet number:', i)\n",
    "display(sp.Eq(C.determinants[i], C.orientation[i]))\n",
    "\n",
    "i=1\n",
    "print('facet number:', i)\n",
    "display(sp.Eq(C.determinants[i], C.orientation[i]))\n",
    "\n",
    "C.subs(a0, -1)\n",
    "C.subs(b1, -1)\n",
    "C.subs(c2, -1)\n",
    "C.subs(c3, -1)"
   ]
  },
  {
   "cell_type": "markdown",
   "id": "985feb44-fb13-4664-acdc-42341de7e95e",
   "metadata": {
    "jp-MarkdownHeadingCollapsed": true
   },
   "source": [
    "# The projection with respect to 4"
   ]
  },
  {
   "cell_type": "code",
   "execution_count": 5,
   "id": "5b8c546b-9be5-4e39-9e79-966c1af3bc26",
   "metadata": {},
   "outputs": [
    {
     "name": "stdout",
     "output_type": "stream",
     "text": [
      "[[1, 2, 3], [1, 2, 7], [1, 3, 6], [1, 6, 7], [2, 3, 5], [2, 5, 7], [3, 5, 6], [5, 6, 8], [5, 7, 8], [6, 7, 8]]\n"
     ]
    }
   ],
   "source": [
    "print(Link(K, [4]).cpx)"
   ]
  },
  {
   "cell_type": "code",
   "execution_count": 7,
   "id": "4712461c-8521-40f3-a043-d7c65065d3d5",
   "metadata": {},
   "outputs": [
    {
     "name": "stdout",
     "output_type": "stream",
     "text": [
      "[[1, 2, 3], [1, 2, 6], [1, 3, 5], [1, 5, 6], [2, 3, 4], [2, 4, 6], [3, 4, 5], [4, 5, 7], [4, 6, 7], [5, 6, 7]]\n"
     ]
    }
   ],
   "source": [
    "print(json.loads(read_file('programs\\\\fanlikes')[2]))"
   ]
  },
  {
   "cell_type": "code",
   "execution_count": 8,
   "id": "b65cb89b-193c-44e8-85c1-f5cbc917e092",
   "metadata": {},
   "outputs": [
    {
     "name": "stdout",
     "output_type": "stream",
     "text": [
      "[[1, 2, 3], [1, 2, 6], [1, 3, 5], [1, 5, 6], [2, 3, 4], [2, 4, 6], [3, 4, 5], [4, 5, 7], [4, 6, 7], [5, 6, 7]]\n"
     ]
    },
    {
     "data": {
      "text/plain": [
       "True"
      ]
     },
     "execution_count": 8,
     "metadata": {},
     "output_type": "execute_result"
    }
   ],
   "source": [
    "L=[] # making the vertices of the link consecutive\n",
    "for l in Link(K, [4]).cpx:\n",
    "    L.append([])\n",
    "    for v in l:\n",
    "        if v>4:\n",
    "            L[-1].append(v-1)\n",
    "        else:\n",
    "            L[-1].append(v)\n",
    "print(L)\n",
    "L==json.loads(read_file('programs\\\\fanlikes')[2])"
   ]
  },
  {
   "cell_type": "code",
   "execution_count": 9,
   "id": "99065914-ec8d-4ab4-9328-7b83d55c8d19",
   "metadata": {},
   "outputs": [
    {
     "data": {
      "text/latex": [
       "$\\displaystyle \\left[\\begin{matrix}1 & 0 & 0 & -1 & b_{0} & c_{0} & d_{0}\\\\0 & 1 & 0 & a_{1} & -1 & c_{1} & d_{1}\\\\0 & 0 & 1 & a_{2} & b_{2} & -1 & d_{2}\\end{matrix}\\right]$"
      ],
      "text/plain": [
       "Matrix([\n",
       "[1, 0, 0, -1, b0, c0, d0],\n",
       "[0, 1, 0, a1, -1, c1, d1],\n",
       "[0, 0, 1, a2, b2, -1, d2]])"
      ]
     },
     "metadata": {},
     "output_type": "display_data"
    }
   ],
   "source": [
    "display(C.proj([4]))"
   ]
  },
  {
   "cell_type": "markdown",
   "id": "5b6f8783-ffe0-4a72-85c6-8ab9e077eb7a",
   "metadata": {
    "jp-MarkdownHeadingCollapsed": true
   },
   "source": [
    "# The projection has 16 types of fans up to D-J equivalence"
   ]
  },
  {
   "cell_type": "code",
   "execution_count": 10,
   "id": "1fdf4312-05b2-442a-9e48-f0b9b3821de1",
   "metadata": {},
   "outputs": [],
   "source": [
    "import pickle\n",
    "with open('programs\\\\pickle_files\\\\2_up_to_DJ.p', 'rb') as f:\n",
    "    fans_link = pickle.load(f)"
   ]
  },
  {
   "cell_type": "code",
   "execution_count": 11,
   "id": "19dc2a53-889b-4c7d-8b30-93bb33f13732",
   "metadata": {},
   "outputs": [
    {
     "data": {
      "text/latex": [
       "$\\displaystyle \\left[\\begin{matrix}1 & 0 & 0 & -1 & 1 & 0 & 0\\\\0 & 1 & 0 & 0 & -1 & c_{1} & -1\\\\0 & 0 & 1 & 1 & 0 & -1 & 0\\end{matrix}\\right]$"
      ],
      "text/plain": [
       "Matrix([\n",
       "[1, 0, 0, -1,  1,  0,  0],\n",
       "[0, 1, 0,  0, -1, c1, -1],\n",
       "[0, 0, 1,  1,  0, -1,  0]])"
      ]
     },
     "metadata": {},
     "output_type": "display_data"
    },
    {
     "data": {
      "text/latex": [
       "$\\displaystyle \\left[\\begin{matrix}1 & 0 & 0 & -1 & -1 & 0 & -1\\\\0 & 1 & 0 & 0 & -1 & -1 & -1\\\\0 & 0 & 1 & -1 & 0 & -1 & -1\\end{matrix}\\right]$"
      ],
      "text/plain": [
       "Matrix([\n",
       "[1, 0, 0, -1, -1,  0, -1],\n",
       "[0, 1, 0,  0, -1, -1, -1],\n",
       "[0, 0, 1, -1,  0, -1, -1]])"
      ]
     },
     "metadata": {},
     "output_type": "display_data"
    },
    {
     "data": {
      "text/latex": [
       "$\\displaystyle \\left[\\begin{matrix}1 & 0 & 0 & -1 & 0 & c_{0} & -1\\\\0 & 1 & 0 & 1 & -1 & 0 & 0\\\\0 & 0 & 1 & 0 & 1 & -1 & 0\\end{matrix}\\right]$"
      ],
      "text/plain": [
       "Matrix([\n",
       "[1, 0, 0, -1,  0, c0, -1],\n",
       "[0, 1, 0,  1, -1,  0,  0],\n",
       "[0, 0, 1,  0,  1, -1,  0]])"
      ]
     },
     "metadata": {},
     "output_type": "display_data"
    },
    {
     "data": {
      "text/latex": [
       "$\\displaystyle \\left[\\begin{matrix}1 & 0 & 0 & -1 & 0 & 1 & 0\\\\0 & 1 & 0 & a_{1} & -1 & 0 & -1\\\\0 & 0 & 1 & 0 & 1 & -1 & 0\\end{matrix}\\right]$"
      ],
      "text/plain": [
       "Matrix([\n",
       "[1, 0, 0, -1,  0,  1,  0],\n",
       "[0, 1, 0, a1, -1,  0, -1],\n",
       "[0, 0, 1,  0,  1, -1,  0]])"
      ]
     },
     "metadata": {},
     "output_type": "display_data"
    },
    {
     "data": {
      "text/latex": [
       "$\\displaystyle \\left[\\begin{matrix}1 & 0 & 0 & -1 & b_{0} & 0 & b_{0} - 1\\\\0 & 1 & 0 & 0 & -1 & 0 & -1\\\\0 & 0 & 1 & a_{2} & b_{2} & -1 & a_{2} + b_{2} - 1\\end{matrix}\\right]$"
      ],
      "text/plain": [
       "Matrix([\n",
       "[1, 0, 0, -1, b0,  0,      b0 - 1],\n",
       "[0, 1, 0,  0, -1,  0,          -1],\n",
       "[0, 0, 1, a2, b2, -1, a2 + b2 - 1]])"
      ]
     },
     "metadata": {},
     "output_type": "display_data"
    },
    {
     "data": {
      "text/latex": [
       "$\\displaystyle \\left[\\begin{matrix}1 & 0 & 0 & -1 & 0 & 0 & -1\\\\0 & 1 & 0 & a_{1} & -1 & 0 & a_{1} - 1\\\\0 & 0 & 1 & a_{2} & b_{2} & -1 & a_{2} + b_{2} - 1\\end{matrix}\\right]$"
      ],
      "text/plain": [
       "Matrix([\n",
       "[1, 0, 0, -1,  0,  0,          -1],\n",
       "[0, 1, 0, a1, -1,  0,      a1 - 1],\n",
       "[0, 0, 1, a2, b2, -1, a2 + b2 - 1]])"
      ]
     },
     "metadata": {},
     "output_type": "display_data"
    },
    {
     "data": {
      "text/latex": [
       "$\\displaystyle \\left[\\begin{matrix}1 & 0 & 0 & -1 & b_{0} & c_{0} & b_{0} + c_{0} - 1\\\\0 & 1 & 0 & 0 & -1 & 0 & -1\\\\0 & 0 & 1 & 0 & b_{2} & -1 & b_{2} - 1\\end{matrix}\\right]$"
      ],
      "text/plain": [
       "Matrix([\n",
       "[1, 0, 0, -1, b0, c0, b0 + c0 - 1],\n",
       "[0, 1, 0,  0, -1,  0,          -1],\n",
       "[0, 0, 1,  0, b2, -1,      b2 - 1]])"
      ]
     },
     "metadata": {},
     "output_type": "display_data"
    },
    {
     "data": {
      "text/latex": [
       "$\\displaystyle \\left[\\begin{matrix}1 & 0 & 0 & -1 & b_{0} & c_{0} & b_{0} + c_{0} - 1\\\\0 & 1 & 0 & 0 & -1 & c_{1} & c_{1} - 1\\\\0 & 0 & 1 & 0 & 0 & -1 & -1\\end{matrix}\\right]$"
      ],
      "text/plain": [
       "Matrix([\n",
       "[1, 0, 0, -1, b0, c0, b0 + c0 - 1],\n",
       "[0, 1, 0,  0, -1, c1,      c1 - 1],\n",
       "[0, 0, 1,  0,  0, -1,          -1]])"
      ]
     },
     "metadata": {},
     "output_type": "display_data"
    },
    {
     "data": {
      "text/latex": [
       "$\\displaystyle \\left[\\begin{matrix}1 & 0 & 0 & -1 & 0 & c_{0} & c_{0} - 1\\\\0 & 1 & 0 & a_{1} & -1 & c_{1} & a_{1} + c_{1} - 1\\\\0 & 0 & 1 & 0 & 0 & -1 & -1\\end{matrix}\\right]$"
      ],
      "text/plain": [
       "Matrix([\n",
       "[1, 0, 0, -1,  0, c0,      c0 - 1],\n",
       "[0, 1, 0, a1, -1, c1, a1 + c1 - 1],\n",
       "[0, 0, 1,  0,  0, -1,          -1]])"
      ]
     },
     "metadata": {},
     "output_type": "display_data"
    },
    {
     "data": {
      "text/latex": [
       "$\\displaystyle \\left[\\begin{matrix}1 & 0 & 0 & -1 & 0 & 0 & -1\\\\0 & 1 & 0 & a_{1} & -1 & c_{1} & a_{1} + c_{1} - 1\\\\0 & 0 & 1 & a_{2} & 0 & -1 & a_{2} - 1\\end{matrix}\\right]$"
      ],
      "text/plain": [
       "Matrix([\n",
       "[1, 0, 0, -1,  0,  0,          -1],\n",
       "[0, 1, 0, a1, -1, c1, a1 + c1 - 1],\n",
       "[0, 0, 1, a2,  0, -1,      a2 - 1]])"
      ]
     },
     "metadata": {},
     "output_type": "display_data"
    },
    {
     "data": {
      "text/latex": [
       "$\\displaystyle \\left[\\begin{matrix}1 & 0 & 0 & -1 & 0 & 1 & 0\\\\0 & 1 & 0 & 1 & -1 & 0 & 0\\\\0 & 0 & 1 & 0 & b_{2} & -1 & -1\\end{matrix}\\right]$"
      ],
      "text/plain": [
       "Matrix([\n",
       "[1, 0, 0, -1,  0,  1,  0],\n",
       "[0, 1, 0,  1, -1,  0,  0],\n",
       "[0, 0, 1,  0, b2, -1, -1]])"
      ]
     },
     "metadata": {},
     "output_type": "display_data"
    },
    {
     "data": {
      "text/latex": [
       "$\\displaystyle \\left[\\begin{matrix}1 & 0 & 0 & -1 & 0 & -1 & -1\\\\0 & 1 & 0 & -1 & -1 & 0 & -1\\\\0 & 0 & 1 & 0 & -1 & -1 & -1\\end{matrix}\\right]$"
      ],
      "text/plain": [
       "Matrix([\n",
       "[1, 0, 0, -1,  0, -1, -1],\n",
       "[0, 1, 0, -1, -1,  0, -1],\n",
       "[0, 0, 1,  0, -1, -1, -1]])"
      ]
     },
     "metadata": {},
     "output_type": "display_data"
    },
    {
     "data": {
      "text/latex": [
       "$\\displaystyle \\left[\\begin{matrix}1 & 0 & 0 & -1 & b_{0} & 0 & -1\\\\0 & 1 & 0 & 0 & -1 & 1 & 0\\\\0 & 0 & 1 & 1 & 0 & -1 & 0\\end{matrix}\\right]$"
      ],
      "text/plain": [
       "Matrix([\n",
       "[1, 0, 0, -1, b0,  0, -1],\n",
       "[0, 1, 0,  0, -1,  1,  0],\n",
       "[0, 0, 1,  1,  0, -1,  0]])"
      ]
     },
     "metadata": {},
     "output_type": "display_data"
    },
    {
     "data": {
      "text/latex": [
       "$\\displaystyle \\left[\\begin{matrix}1 & 0 & 0 & -1 & 1 & 0 & 0\\\\0 & 1 & 0 & 0 & -1 & 1 & 0\\\\0 & 0 & 1 & a_{2} & 0 & -1 & -1\\end{matrix}\\right]$"
      ],
      "text/plain": [
       "Matrix([\n",
       "[1, 0, 0, -1,  1,  0,  0],\n",
       "[0, 1, 0,  0, -1,  1,  0],\n",
       "[0, 0, 1, a2,  0, -1, -1]])"
      ]
     },
     "metadata": {},
     "output_type": "display_data"
    },
    {
     "data": {
      "text/latex": [
       "$\\displaystyle \\left[\\begin{matrix}1 & 0 & 0 & -1 & 1 & 0 & d_{0}\\\\0 & 1 & 0 & 0 & -1 & 1 & d_{1}\\\\0 & 0 & 1 & 1 & 0 & -1 & - d_{0} - d_{1} - 1\\end{matrix}\\right]$"
      ],
      "text/plain": [
       "Matrix([\n",
       "[1, 0, 0, -1,  1,  0,           d0],\n",
       "[0, 1, 0,  0, -1,  1,           d1],\n",
       "[0, 0, 1,  1,  0, -1, -d0 - d1 - 1]])"
      ]
     },
     "metadata": {},
     "output_type": "display_data"
    },
    {
     "data": {
      "text/latex": [
       "$\\displaystyle \\left[\\begin{matrix}1 & 0 & 0 & -1 & 0 & 1 & d_{0}\\\\0 & 1 & 0 & 1 & -1 & 0 & d_{1}\\\\0 & 0 & 1 & 0 & 1 & -1 & - d_{0} - d_{1} - 1\\end{matrix}\\right]$"
      ],
      "text/plain": [
       "Matrix([\n",
       "[1, 0, 0, -1,  0,  1,           d0],\n",
       "[0, 1, 0,  1, -1,  0,           d1],\n",
       "[0, 0, 1,  0,  1, -1, -d0 - d1 - 1]])"
      ]
     },
     "metadata": {},
     "output_type": "display_data"
    }
   ],
   "source": [
    "for f in fans_link:\n",
    "    display(f)"
   ]
  },
  {
   "cell_type": "markdown",
   "id": "677956ac-93e0-480e-b4a7-47fdfbc1a80c",
   "metadata": {
    "jp-MarkdownHeadingCollapsed": true
   },
   "source": [
    "# Type 0 of the projection"
   ]
  },
  {
   "cell_type": "code",
   "execution_count": 12,
   "id": "8b7952eb-ca49-4504-91d6-390c7df0e021",
   "metadata": {},
   "outputs": [],
   "source": [
    "C1 = copy.deepcopy(C0)\n",
    "C = C1\n",
    "t=0"
   ]
  },
  {
   "cell_type": "code",
   "execution_count": 14,
   "id": "6fad62a2-f63b-4c47-9216-7942f9c19283",
   "metadata": {},
   "outputs": [
    {
     "data": {
      "text/latex": [
       "$\\displaystyle \\left[\\begin{matrix}1 & 0 & 0 & -1 & b_{0} & c_{0} & d_{0}\\\\0 & 1 & 0 & a_{1} & -1 & c_{1} & d_{1}\\\\0 & 0 & 1 & a_{2} & b_{2} & -1 & d_{2}\\end{matrix}\\right] = \\left[\\begin{matrix}1 & 0 & 0 & -1 & 1 & 0 & 0\\\\0 & 1 & 0 & 0 & -1 & c_{1} & -1\\\\0 & 0 & 1 & 1 & 0 & -1 & 0\\end{matrix}\\right]$"
      ],
      "text/plain": [
       "Eq(Matrix([\n",
       "[1, 0, 0, -1, b0, c0, d0],\n",
       "[0, 1, 0, a1, -1, c1, d1],\n",
       "[0, 0, 1, a2, b2, -1, d2]]), Matrix([\n",
       "[1, 0, 0, -1,  1,  0,  0],\n",
       "[0, 1, 0,  0, -1, c1, -1],\n",
       "[0, 0, 1,  1,  0, -1,  0]]))"
      ]
     },
     "metadata": {},
     "output_type": "display_data"
    },
    {
     "data": {
      "text/latex": [
       "$\\displaystyle \\text{True}$"
      ],
      "text/plain": [
       "True"
      ]
     },
     "metadata": {},
     "output_type": "display_data"
    }
   ],
   "source": [
    "proj = C.proj([4])\n",
    "with sp.evaluate(False):\n",
    "    display(sp.Eq(proj, fans_link[t]))\n",
    "\n",
    "C.subs(a1, 0)\n",
    "C.subs(a2, 1)\n",
    "C.subs(b0, 1)\n",
    "C.subs(b2, 0)\n",
    "C.subs(c0, 0)\n",
    "C.subs(d0, 0)\n",
    "C.subs(d1, -1)\n",
    "C.subs(d2, 0)\n",
    "\n",
    "display(sp.Eq(C.proj([4]), fans_link[t]))"
   ]
  },
  {
   "cell_type": "code",
   "execution_count": 16,
   "id": "faf7a051-35f0-45ec-ab81-8a3e2e1b336a",
   "metadata": {},
   "outputs": [
    {
     "name": "stdout",
     "output_type": "stream",
     "text": [
      "facet number: 4\n"
     ]
    },
    {
     "data": {
      "text/latex": [
       "$\\displaystyle - a_{3} = 1$"
      ],
      "text/plain": [
       "Eq(-a3, 1)"
      ]
     },
     "metadata": {},
     "output_type": "display_data"
    },
    {
     "name": "stdout",
     "output_type": "stream",
     "text": [
      "facet number: 5\n"
     ]
    },
    {
     "data": {
      "text/latex": [
       "$\\displaystyle - a_{3} = -1$"
      ],
      "text/plain": [
       "Eq(-a3, -1)"
      ]
     },
     "metadata": {},
     "output_type": "display_data"
    },
    {
     "name": "stdout",
     "output_type": "stream",
     "text": [
      "no solution\n"
     ]
    }
   ],
   "source": [
    "i=4\n",
    "print('facet number:', i)\n",
    "display(sp.Eq(C.determinants[i], C.orientation[i]))\n",
    "\n",
    "i=5\n",
    "print('facet number:', i)\n",
    "display(sp.Eq(C.determinants[i], C.orientation[i]))\n",
    "\n",
    "print('no solution')"
   ]
  },
  {
   "cell_type": "markdown",
   "id": "cee05c5b-7782-4930-9d65-e7916b80e208",
   "metadata": {
    "jp-MarkdownHeadingCollapsed": true
   },
   "source": [
    "# Type 1 of the projection"
   ]
  },
  {
   "cell_type": "code",
   "execution_count": 17,
   "id": "1cb66239-c201-4aaf-83dc-cc1c6d2ff24c",
   "metadata": {},
   "outputs": [],
   "source": [
    "C1 = copy.deepcopy(C0)\n",
    "C = C1\n",
    "t=1"
   ]
  },
  {
   "cell_type": "code",
   "execution_count": 19,
   "id": "189fab14-48cc-42b1-b55e-8323d38e5c44",
   "metadata": {},
   "outputs": [
    {
     "data": {
      "text/latex": [
       "$\\displaystyle \\left[\\begin{matrix}1 & 0 & 0 & -1 & b_{0} & c_{0} & d_{0}\\\\0 & 1 & 0 & a_{1} & -1 & c_{1} & d_{1}\\\\0 & 0 & 1 & a_{2} & b_{2} & -1 & d_{2}\\end{matrix}\\right] = \\left[\\begin{matrix}1 & 0 & 0 & -1 & -1 & 0 & -1\\\\0 & 1 & 0 & 0 & -1 & -1 & -1\\\\0 & 0 & 1 & -1 & 0 & -1 & -1\\end{matrix}\\right]$"
      ],
      "text/plain": [
       "Eq(Matrix([\n",
       "[1, 0, 0, -1, b0, c0, d0],\n",
       "[0, 1, 0, a1, -1, c1, d1],\n",
       "[0, 0, 1, a2, b2, -1, d2]]), Matrix([\n",
       "[1, 0, 0, -1, -1,  0, -1],\n",
       "[0, 1, 0,  0, -1, -1, -1],\n",
       "[0, 0, 1, -1,  0, -1, -1]]))"
      ]
     },
     "metadata": {},
     "output_type": "display_data"
    },
    {
     "data": {
      "text/latex": [
       "$\\displaystyle \\text{True}$"
      ],
      "text/plain": [
       "True"
      ]
     },
     "metadata": {},
     "output_type": "display_data"
    }
   ],
   "source": [
    "proj = C.proj([4])\n",
    "with sp.evaluate(False):\n",
    "    display(sp.Eq(proj, fans_link[t]))\n",
    "    \n",
    "C.subs(a1, 0)\n",
    "C.subs(a2, -1)\n",
    "C.subs(b0, -1)\n",
    "C.subs(b2, 0)\n",
    "C.subs(c0, 0)\n",
    "C.subs(c1, -1)\n",
    "C.subs(d0, -1)\n",
    "C.subs(d1, -1)\n",
    "C.subs(d2, -1)\n",
    "\n",
    "display(sp.Eq(C.proj([4]), fans_link[t]))"
   ]
  },
  {
   "cell_type": "code",
   "execution_count": 20,
   "id": "cfe249c5-6fa8-46ac-978a-9687f3869cd0",
   "metadata": {},
   "outputs": [
    {
     "name": "stdout",
     "output_type": "stream",
     "text": [
      "facet number: 4\n"
     ]
    },
    {
     "data": {
      "text/latex": [
       "$\\displaystyle - a_{3} = 1$"
      ],
      "text/plain": [
       "Eq(-a3, 1)"
      ]
     },
     "metadata": {},
     "output_type": "display_data"
    },
    {
     "name": "stdout",
     "output_type": "stream",
     "text": [
      "facet number: 5\n"
     ]
    },
    {
     "data": {
      "text/latex": [
       "$\\displaystyle - a_{3} = -1$"
      ],
      "text/plain": [
       "Eq(-a3, -1)"
      ]
     },
     "metadata": {},
     "output_type": "display_data"
    },
    {
     "name": "stdout",
     "output_type": "stream",
     "text": [
      "no solution\n"
     ]
    }
   ],
   "source": [
    "i=4\n",
    "print('facet number:', i)\n",
    "display(sp.Eq(C.determinants[i], C.orientation[i]))\n",
    "\n",
    "i=5\n",
    "print('facet number:', i)\n",
    "display(sp.Eq(C.determinants[i], C.orientation[i]))\n",
    "\n",
    "print('no solution')"
   ]
  },
  {
   "cell_type": "markdown",
   "id": "a263ae9c-ac24-4b19-9add-11380dfcdc2c",
   "metadata": {
    "jp-MarkdownHeadingCollapsed": true
   },
   "source": [
    "# Type 2 of the projection"
   ]
  },
  {
   "cell_type": "code",
   "execution_count": 25,
   "id": "5af26929-c4eb-40b2-b4f3-2020280961f6",
   "metadata": {},
   "outputs": [],
   "source": [
    "C1 = copy.deepcopy(C0)\n",
    "C = C1\n",
    "t=2"
   ]
  },
  {
   "cell_type": "code",
   "execution_count": 26,
   "id": "54de3be4-f9cd-498d-8c71-33dd8e2fa2fc",
   "metadata": {},
   "outputs": [
    {
     "data": {
      "text/latex": [
       "$\\displaystyle \\left[\\begin{matrix}1 & 0 & 0 & -1 & b_{0} & c_{0} & d_{0}\\\\0 & 1 & 0 & a_{1} & -1 & c_{1} & d_{1}\\\\0 & 0 & 1 & a_{2} & b_{2} & -1 & d_{2}\\end{matrix}\\right] = \\left[\\begin{matrix}1 & 0 & 0 & -1 & 0 & c_{0} & -1\\\\0 & 1 & 0 & 1 & -1 & 0 & 0\\\\0 & 0 & 1 & 0 & 1 & -1 & 0\\end{matrix}\\right]$"
      ],
      "text/plain": [
       "Eq(Matrix([\n",
       "[1, 0, 0, -1, b0, c0, d0],\n",
       "[0, 1, 0, a1, -1, c1, d1],\n",
       "[0, 0, 1, a2, b2, -1, d2]]), Matrix([\n",
       "[1, 0, 0, -1,  0, c0, -1],\n",
       "[0, 1, 0,  1, -1,  0,  0],\n",
       "[0, 0, 1,  0,  1, -1,  0]]))"
      ]
     },
     "metadata": {},
     "output_type": "display_data"
    },
    {
     "name": "stdout",
     "output_type": "stream",
     "text": [
      "facet number: 6\n"
     ]
    },
    {
     "data": {
      "text/latex": [
       "$\\displaystyle - c_{1} d_{3} - d_{1} = 1$"
      ],
      "text/plain": [
       "Eq(-c1*d3 - d1, 1)"
      ]
     },
     "metadata": {},
     "output_type": "display_data"
    },
    {
     "name": "stdout",
     "output_type": "stream",
     "text": [
      "no solution\n"
     ]
    }
   ],
   "source": [
    "proj = C.proj([4])\n",
    "with sp.evaluate(False):\n",
    "    display(sp.Eq(proj, fans_link[t]))\n",
    "\n",
    "i=6\n",
    "print('facet number:', i)\n",
    "display(sp.Eq(C.determinants[i], C.orientation[i]))\n",
    "\n",
    "print('no solution')"
   ]
  },
  {
   "cell_type": "code",
   "execution_count": null,
   "id": "d4ea58da-d8ac-4b3c-9423-3be61b02cf52",
   "metadata": {},
   "outputs": [],
   "source": [
    "i=\n",
    "print('facet number:', i)\n",
    "display(sp.Eq(C.determinants[i], C.orientation[i]))"
   ]
  },
  {
   "cell_type": "markdown",
   "id": "caaa51a0-2688-4fdc-851f-c00eb74a4614",
   "metadata": {
    "jp-MarkdownHeadingCollapsed": true
   },
   "source": [
    "# Type 3 of the projection"
   ]
  },
  {
   "cell_type": "code",
   "execution_count": 27,
   "id": "16137d39-48c7-42b0-bd55-0261c6fde3b8",
   "metadata": {},
   "outputs": [],
   "source": [
    "C1 = copy.deepcopy(C0)\n",
    "C = C1\n",
    "t=3"
   ]
  },
  {
   "cell_type": "code",
   "execution_count": 29,
   "id": "1cd4e52d-cc6c-49b5-8e7b-f7641582d5fa",
   "metadata": {},
   "outputs": [
    {
     "data": {
      "text/latex": [
       "$\\displaystyle \\left[\\begin{matrix}1 & 0 & 0 & -1 & b_{0} & c_{0} & d_{0}\\\\0 & 1 & 0 & a_{1} & -1 & c_{1} & d_{1}\\\\0 & 0 & 1 & a_{2} & b_{2} & -1 & d_{2}\\end{matrix}\\right] = \\left[\\begin{matrix}1 & 0 & 0 & -1 & 0 & 1 & 0\\\\0 & 1 & 0 & a_{1} & -1 & 0 & -1\\\\0 & 0 & 1 & 0 & 1 & -1 & 0\\end{matrix}\\right]$"
      ],
      "text/plain": [
       "Eq(Matrix([\n",
       "[1, 0, 0, -1, b0, c0, d0],\n",
       "[0, 1, 0, a1, -1, c1, d1],\n",
       "[0, 0, 1, a2, b2, -1, d2]]), Matrix([\n",
       "[1, 0, 0, -1,  0,  1,  0],\n",
       "[0, 1, 0, a1, -1,  0, -1],\n",
       "[0, 0, 1,  0,  1, -1,  0]]))"
      ]
     },
     "metadata": {},
     "output_type": "display_data"
    },
    {
     "data": {
      "text/latex": [
       "$\\displaystyle \\text{True}$"
      ],
      "text/plain": [
       "True"
      ]
     },
     "metadata": {},
     "output_type": "display_data"
    }
   ],
   "source": [
    "proj = C.proj([4])\n",
    "with sp.evaluate(False):\n",
    "    display(sp.Eq(proj, fans_link[t]))\n",
    "\n",
    "C.subs(a2, 0)\n",
    "C.subs(b0, 0)\n",
    "C.subs(b2, 1)\n",
    "C.subs(c0, 1)\n",
    "C.subs(c1, 0)\n",
    "C.subs(d0, 0)\n",
    "C.subs(d1, -1)\n",
    "C.subs(d2, 0)\n",
    "\n",
    "display(sp.Eq(C.proj([4]), fans_link[t]))"
   ]
  },
  {
   "cell_type": "code",
   "execution_count": 31,
   "id": "34c05e42-15b9-4bbf-8367-dc3605f8fd4d",
   "metadata": {},
   "outputs": [
    {
     "name": "stdout",
     "output_type": "stream",
     "text": [
      "facet number: 11\n"
     ]
    },
    {
     "data": {
      "text/latex": [
       "$\\displaystyle 1 - a_{3} = 1$"
      ],
      "text/plain": [
       "Eq(1 - a3, 1)"
      ]
     },
     "metadata": {},
     "output_type": "display_data"
    }
   ],
   "source": [
    "i=11\n",
    "print('facet number:', i)\n",
    "display(sp.Eq(C.determinants[i], C.orientation[i]))\n",
    "\n",
    "C.subs(a3, 0)"
   ]
  },
  {
   "cell_type": "code",
   "execution_count": 32,
   "id": "64ac525a-f66b-464f-8089-c33ff240d91d",
   "metadata": {},
   "outputs": [
    {
     "name": "stdout",
     "output_type": "stream",
     "text": [
      "facet number: 8\n"
     ]
    },
    {
     "data": {
      "text/latex": [
       "$\\displaystyle a_{1} d_{3} = -1$"
      ],
      "text/plain": [
       "Eq(a1*d3, -1)"
      ]
     },
     "metadata": {},
     "output_type": "display_data"
    },
    {
     "name": "stdout",
     "output_type": "stream",
     "text": [
      "facet number: 14\n"
     ]
    },
    {
     "data": {
      "text/latex": [
       "$\\displaystyle - a_{1} d_{3} + 1 = 1$"
      ],
      "text/plain": [
       "Eq(-a1*d3 + 1, 1)"
      ]
     },
     "metadata": {},
     "output_type": "display_data"
    },
    {
     "name": "stdout",
     "output_type": "stream",
     "text": [
      "no solution\n"
     ]
    }
   ],
   "source": [
    "i=8\n",
    "print('facet number:', i)\n",
    "display(sp.Eq(C.determinants[i], C.orientation[i]))\n",
    "\n",
    "i=14\n",
    "print('facet number:', i)\n",
    "display(sp.Eq(C.determinants[i], C.orientation[i]))\n",
    "\n",
    "print('no solution')"
   ]
  },
  {
   "cell_type": "markdown",
   "id": "8433c43b-faee-485d-89ea-32bd02e38127",
   "metadata": {
    "jp-MarkdownHeadingCollapsed": true
   },
   "source": [
    "# Type 4 of the projection"
   ]
  },
  {
   "cell_type": "code",
   "execution_count": 37,
   "id": "7c1bf359-96ce-4051-b15f-d9fbcbaa8870",
   "metadata": {},
   "outputs": [],
   "source": [
    "C1 = copy.deepcopy(C0)\n",
    "C = C1\n",
    "t=4"
   ]
  },
  {
   "cell_type": "code",
   "execution_count": 39,
   "id": "30c41a65-8d37-4ed9-a9ad-6a1e684efdc3",
   "metadata": {},
   "outputs": [
    {
     "data": {
      "text/latex": [
       "$\\displaystyle \\left[\\begin{matrix}1 & 0 & 0 & -1 & b_{0} & c_{0} & d_{0}\\\\0 & 1 & 0 & a_{1} & -1 & c_{1} & d_{1}\\\\0 & 0 & 1 & a_{2} & b_{2} & -1 & d_{2}\\end{matrix}\\right] = \\left[\\begin{matrix}1 & 0 & 0 & -1 & b_{0} & 0 & b_{0} - 1\\\\0 & 1 & 0 & 0 & -1 & 0 & -1\\\\0 & 0 & 1 & a_{2} & b_{2} & -1 & a_{2} + b_{2} - 1\\end{matrix}\\right]$"
      ],
      "text/plain": [
       "Eq(Matrix([\n",
       "[1, 0, 0, -1, b0, c0, d0],\n",
       "[0, 1, 0, a1, -1, c1, d1],\n",
       "[0, 0, 1, a2, b2, -1, d2]]), Matrix([\n",
       "[1, 0, 0, -1, b0,  0,      b0 - 1],\n",
       "[0, 1, 0,  0, -1,  0,          -1],\n",
       "[0, 0, 1, a2, b2, -1, a2 + b2 - 1]]))"
      ]
     },
     "metadata": {},
     "output_type": "display_data"
    },
    {
     "data": {
      "text/latex": [
       "$\\displaystyle \\text{True}$"
      ],
      "text/plain": [
       "True"
      ]
     },
     "metadata": {},
     "output_type": "display_data"
    }
   ],
   "source": [
    "proj = C.proj([4])\n",
    "with sp.evaluate(False):\n",
    "    display(sp.Eq(proj, fans_link[t]))\n",
    "\n",
    "C.subs(a1, 0)\n",
    "C.subs(c0, 0)\n",
    "C.subs(c1, 0)\n",
    "C.subs(d0, b0-1)\n",
    "C.subs(d1, -1)\n",
    "C.subs(d2, a2+b2-1)\n",
    "\n",
    "display(sp.Eq(C.proj([4]), fans_link[t]))"
   ]
  },
  {
   "cell_type": "code",
   "execution_count": 40,
   "id": "60088eae-834a-4abd-834f-e3563d8eab3d",
   "metadata": {},
   "outputs": [
    {
     "name": "stdout",
     "output_type": "stream",
     "text": [
      "facet number: 4\n"
     ]
    },
    {
     "data": {
      "text/latex": [
       "$\\displaystyle - a_{3} = 1$"
      ],
      "text/plain": [
       "Eq(-a3, 1)"
      ]
     },
     "metadata": {},
     "output_type": "display_data"
    },
    {
     "name": "stdout",
     "output_type": "stream",
     "text": [
      "facet number: 5\n"
     ]
    },
    {
     "data": {
      "text/latex": [
       "$\\displaystyle - a_{3} = -1$"
      ],
      "text/plain": [
       "Eq(-a3, -1)"
      ]
     },
     "metadata": {},
     "output_type": "display_data"
    },
    {
     "name": "stdout",
     "output_type": "stream",
     "text": [
      "no solution\n"
     ]
    }
   ],
   "source": [
    "i=4\n",
    "print('facet number:', i)\n",
    "display(sp.Eq(C.determinants[i], C.orientation[i]))\n",
    "\n",
    "i=5\n",
    "print('facet number:', i)\n",
    "display(sp.Eq(C.determinants[i], C.orientation[i]))\n",
    "\n",
    "print('no solution')"
   ]
  },
  {
   "cell_type": "markdown",
   "id": "5bbc2f45-099d-44ba-a505-894792d23f1c",
   "metadata": {
    "jp-MarkdownHeadingCollapsed": true
   },
   "source": [
    "# Type 5 of the projection"
   ]
  },
  {
   "cell_type": "code",
   "execution_count": 41,
   "id": "655060d8-254a-4125-aa97-139eae994d2c",
   "metadata": {},
   "outputs": [],
   "source": [
    "C1 = copy.deepcopy(C0)\n",
    "C = C1\n",
    "t=5"
   ]
  },
  {
   "cell_type": "code",
   "execution_count": 43,
   "id": "17af5ea8-b94e-402c-aec2-d7ea09e26257",
   "metadata": {},
   "outputs": [
    {
     "data": {
      "text/latex": [
       "$\\displaystyle \\left[\\begin{matrix}1 & 0 & 0 & -1 & b_{0} & c_{0} & d_{0}\\\\0 & 1 & 0 & a_{1} & -1 & c_{1} & d_{1}\\\\0 & 0 & 1 & a_{2} & b_{2} & -1 & d_{2}\\end{matrix}\\right] = \\left[\\begin{matrix}1 & 0 & 0 & -1 & 0 & 0 & -1\\\\0 & 1 & 0 & a_{1} & -1 & 0 & a_{1} - 1\\\\0 & 0 & 1 & a_{2} & b_{2} & -1 & a_{2} + b_{2} - 1\\end{matrix}\\right]$"
      ],
      "text/plain": [
       "Eq(Matrix([\n",
       "[1, 0, 0, -1, b0, c0, d0],\n",
       "[0, 1, 0, a1, -1, c1, d1],\n",
       "[0, 0, 1, a2, b2, -1, d2]]), Matrix([\n",
       "[1, 0, 0, -1,  0,  0,          -1],\n",
       "[0, 1, 0, a1, -1,  0,      a1 - 1],\n",
       "[0, 0, 1, a2, b2, -1, a2 + b2 - 1]]))"
      ]
     },
     "metadata": {},
     "output_type": "display_data"
    },
    {
     "data": {
      "text/latex": [
       "$\\displaystyle \\text{True}$"
      ],
      "text/plain": [
       "True"
      ]
     },
     "metadata": {},
     "output_type": "display_data"
    }
   ],
   "source": [
    "proj = C.proj([4])\n",
    "with sp.evaluate(False):\n",
    "    display(sp.Eq(proj, fans_link[t]))\n",
    "\n",
    "C.subs(b0, 0)\n",
    "C.subs(c0, 0)\n",
    "C.subs(c1, 0)\n",
    "C.subs(d0, -1)\n",
    "C.subs(d1, a1-1)\n",
    "C.subs(d2, a2+b2-1)\n",
    "\n",
    "display(sp.Eq(C.proj([4]), fans_link[t]))"
   ]
  },
  {
   "cell_type": "code",
   "execution_count": 44,
   "id": "d6a84f92-222e-4028-b212-5845694294ea",
   "metadata": {},
   "outputs": [
    {
     "name": "stdout",
     "output_type": "stream",
     "text": [
      "facet number: 6\n"
     ]
    },
    {
     "data": {
      "text/latex": [
       "$\\displaystyle 1 - a_{1} = 1$"
      ],
      "text/plain": [
       "Eq(1 - a1, 1)"
      ]
     },
     "metadata": {},
     "output_type": "display_data"
    }
   ],
   "source": [
    "i=6\n",
    "print('facet number:', i)\n",
    "display(sp.Eq(C.determinants[i], C.orientation[i]))\n",
    "\n",
    "C.subs(a1, 0)"
   ]
  },
  {
   "cell_type": "code",
   "execution_count": 45,
   "id": "e821b676-c72a-436a-8ef9-eb1399673b20",
   "metadata": {},
   "outputs": [
    {
     "name": "stdout",
     "output_type": "stream",
     "text": [
      "facet number: 4\n"
     ]
    },
    {
     "data": {
      "text/latex": [
       "$\\displaystyle - a_{3} = 1$"
      ],
      "text/plain": [
       "Eq(-a3, 1)"
      ]
     },
     "metadata": {},
     "output_type": "display_data"
    },
    {
     "name": "stdout",
     "output_type": "stream",
     "text": [
      "facet number: 5\n"
     ]
    },
    {
     "data": {
      "text/latex": [
       "$\\displaystyle - a_{3} = -1$"
      ],
      "text/plain": [
       "Eq(-a3, -1)"
      ]
     },
     "metadata": {},
     "output_type": "display_data"
    },
    {
     "name": "stdout",
     "output_type": "stream",
     "text": [
      "no solution\n"
     ]
    }
   ],
   "source": [
    "i=4\n",
    "print('facet number:', i)\n",
    "display(sp.Eq(C.determinants[i], C.orientation[i]))\n",
    "\n",
    "i=5\n",
    "print('facet number:', i)\n",
    "display(sp.Eq(C.determinants[i], C.orientation[i]))\n",
    "\n",
    "print('no solution')"
   ]
  },
  {
   "cell_type": "markdown",
   "id": "553b567d-2a07-408c-b39a-5ba880087a52",
   "metadata": {
    "jp-MarkdownHeadingCollapsed": true
   },
   "source": [
    "# Type 6 of the projection"
   ]
  },
  {
   "cell_type": "code",
   "execution_count": 46,
   "id": "a065be91-ab43-4469-8621-d5afde9c85c5",
   "metadata": {},
   "outputs": [],
   "source": [
    "C1 = copy.deepcopy(C0)\n",
    "C = C1\n",
    "t=6"
   ]
  },
  {
   "cell_type": "code",
   "execution_count": 48,
   "id": "d41006a8-cc94-47d8-8180-5236a2c7bd0e",
   "metadata": {},
   "outputs": [
    {
     "data": {
      "text/latex": [
       "$\\displaystyle \\left[\\begin{matrix}1 & 0 & 0 & -1 & b_{0} & c_{0} & d_{0}\\\\0 & 1 & 0 & a_{1} & -1 & c_{1} & d_{1}\\\\0 & 0 & 1 & a_{2} & b_{2} & -1 & d_{2}\\end{matrix}\\right] = \\left[\\begin{matrix}1 & 0 & 0 & -1 & b_{0} & c_{0} & b_{0} + c_{0} - 1\\\\0 & 1 & 0 & 0 & -1 & 0 & -1\\\\0 & 0 & 1 & 0 & b_{2} & -1 & b_{2} - 1\\end{matrix}\\right]$"
      ],
      "text/plain": [
       "Eq(Matrix([\n",
       "[1, 0, 0, -1, b0, c0, d0],\n",
       "[0, 1, 0, a1, -1, c1, d1],\n",
       "[0, 0, 1, a2, b2, -1, d2]]), Matrix([\n",
       "[1, 0, 0, -1, b0, c0, b0 + c0 - 1],\n",
       "[0, 1, 0,  0, -1,  0,          -1],\n",
       "[0, 0, 1,  0, b2, -1,      b2 - 1]]))"
      ]
     },
     "metadata": {},
     "output_type": "display_data"
    },
    {
     "data": {
      "text/latex": [
       "$\\displaystyle \\text{True}$"
      ],
      "text/plain": [
       "True"
      ]
     },
     "metadata": {},
     "output_type": "display_data"
    }
   ],
   "source": [
    "proj = C.proj([4])\n",
    "with sp.evaluate(False):\n",
    "    display(sp.Eq(proj, fans_link[t]))\n",
    "\n",
    "C.subs(a1, 0)\n",
    "C.subs(a2, 0)\n",
    "C.subs(c1, 0)\n",
    "C.subs(d0, b0+c0-1)\n",
    "C.subs(d1, -1)\n",
    "C.subs(d2, b2-1)\n",
    "\n",
    "display(sp.Eq(C.proj([4]), fans_link[t]))"
   ]
  },
  {
   "cell_type": "code",
   "execution_count": 49,
   "id": "194fcfb8-33d9-4d60-97d4-7b69224b07b6",
   "metadata": {},
   "outputs": [
    {
     "name": "stdout",
     "output_type": "stream",
     "text": [
      "facet number: 4\n"
     ]
    },
    {
     "data": {
      "text/latex": [
       "$\\displaystyle - a_{3} = 1$"
      ],
      "text/plain": [
       "Eq(-a3, 1)"
      ]
     },
     "metadata": {},
     "output_type": "display_data"
    },
    {
     "name": "stdout",
     "output_type": "stream",
     "text": [
      "facet number: 5\n"
     ]
    },
    {
     "data": {
      "text/latex": [
       "$\\displaystyle - a_{3} = -1$"
      ],
      "text/plain": [
       "Eq(-a3, -1)"
      ]
     },
     "metadata": {},
     "output_type": "display_data"
    },
    {
     "name": "stdout",
     "output_type": "stream",
     "text": [
      "no solution\n"
     ]
    }
   ],
   "source": [
    "i=4\n",
    "print('facet number:', i)\n",
    "display(sp.Eq(C.determinants[i], C.orientation[i]))\n",
    "\n",
    "i=5\n",
    "print('facet number:', i)\n",
    "display(sp.Eq(C.determinants[i], C.orientation[i]))\n",
    "\n",
    "print('no solution')"
   ]
  },
  {
   "cell_type": "markdown",
   "id": "b1650450-bb17-4b36-b79b-9d3212cf6d97",
   "metadata": {
    "jp-MarkdownHeadingCollapsed": true
   },
   "source": [
    "# Type 7 of the projection"
   ]
  },
  {
   "cell_type": "code",
   "execution_count": 50,
   "id": "56880bc9-255d-42d5-af35-fed581dd85d8",
   "metadata": {},
   "outputs": [],
   "source": [
    "C1 = copy.deepcopy(C0)\n",
    "C = C1\n",
    "t=7"
   ]
  },
  {
   "cell_type": "code",
   "execution_count": 52,
   "id": "db1e053b-d51b-48ec-b4e4-355e7e7abe2b",
   "metadata": {},
   "outputs": [
    {
     "data": {
      "text/latex": [
       "$\\displaystyle \\left[\\begin{matrix}1 & 0 & 0 & -1 & b_{0} & c_{0} & d_{0}\\\\0 & 1 & 0 & a_{1} & -1 & c_{1} & d_{1}\\\\0 & 0 & 1 & a_{2} & b_{2} & -1 & d_{2}\\end{matrix}\\right] = \\left[\\begin{matrix}1 & 0 & 0 & -1 & b_{0} & c_{0} & b_{0} + c_{0} - 1\\\\0 & 1 & 0 & 0 & -1 & c_{1} & c_{1} - 1\\\\0 & 0 & 1 & 0 & 0 & -1 & -1\\end{matrix}\\right]$"
      ],
      "text/plain": [
       "Eq(Matrix([\n",
       "[1, 0, 0, -1, b0, c0, d0],\n",
       "[0, 1, 0, a1, -1, c1, d1],\n",
       "[0, 0, 1, a2, b2, -1, d2]]), Matrix([\n",
       "[1, 0, 0, -1, b0, c0, b0 + c0 - 1],\n",
       "[0, 1, 0,  0, -1, c1,      c1 - 1],\n",
       "[0, 0, 1,  0,  0, -1,          -1]]))"
      ]
     },
     "metadata": {},
     "output_type": "display_data"
    },
    {
     "data": {
      "text/latex": [
       "$\\displaystyle \\text{True}$"
      ],
      "text/plain": [
       "True"
      ]
     },
     "metadata": {},
     "output_type": "display_data"
    }
   ],
   "source": [
    "proj = C.proj([4])\n",
    "with sp.evaluate(False):\n",
    "    display(sp.Eq(proj, fans_link[t]))\n",
    "\n",
    "C.subs(a1, 0)\n",
    "C.subs(a2, 0)\n",
    "C.subs(b2, 0)\n",
    "C.subs(d0, b0+c0-1)\n",
    "C.subs(d1, c1-1)\n",
    "C.subs(d2, -1)\n",
    "\n",
    "display(sp.Eq(C.proj([4]), fans_link[t]))"
   ]
  },
  {
   "cell_type": "code",
   "execution_count": 53,
   "id": "9da45807-9e78-446b-9ffe-677cfd39689b",
   "metadata": {},
   "outputs": [
    {
     "name": "stdout",
     "output_type": "stream",
     "text": [
      "facet number: 8\n"
     ]
    },
    {
     "data": {
      "text/latex": [
       "$\\displaystyle a_{3} = -1$"
      ],
      "text/plain": [
       "Eq(a3, -1)"
      ]
     },
     "metadata": {},
     "output_type": "display_data"
    }
   ],
   "source": [
    "i=8\n",
    "print('facet number:', i)\n",
    "display(sp.Eq(C.determinants[i], C.orientation[i]))\n",
    "\n",
    "C.subs(a3, -1)"
   ]
  },
  {
   "cell_type": "code",
   "execution_count": 55,
   "id": "dad9bdab-3f7e-4074-b975-e583e675850b",
   "metadata": {},
   "outputs": [
    {
     "name": "stdout",
     "output_type": "stream",
     "text": [
      "facet number: 5\n"
     ]
    },
    {
     "data": {
      "text/latex": [
       "$\\displaystyle 1 - c_{1} = -1$"
      ],
      "text/plain": [
       "Eq(1 - c1, -1)"
      ]
     },
     "metadata": {},
     "output_type": "display_data"
    }
   ],
   "source": [
    "i=5\n",
    "print('facet number:', i)\n",
    "display(sp.Eq(C.determinants[i], C.orientation[i]))\n",
    "\n",
    "C.subs(c1, 2)"
   ]
  },
  {
   "cell_type": "code",
   "execution_count": 57,
   "id": "29a0493e-c7ce-4f6f-9bd9-c52f6bfe4b47",
   "metadata": {},
   "outputs": [
    {
     "name": "stdout",
     "output_type": "stream",
     "text": [
      "facet number: 6\n"
     ]
    },
    {
     "data": {
      "text/latex": [
       "$\\displaystyle - 2 d_{3} - 1 = 1$"
      ],
      "text/plain": [
       "Eq(-2*d3 - 1, 1)"
      ]
     },
     "metadata": {},
     "output_type": "display_data"
    }
   ],
   "source": [
    "i=6\n",
    "print('facet number:', i)\n",
    "display(sp.Eq(C.determinants[i], C.orientation[i]))\n",
    "\n",
    "C.subs(d3, -1)"
   ]
  },
  {
   "cell_type": "code",
   "execution_count": 59,
   "id": "f579d463-9b3b-4286-8dc3-416997bbcd20",
   "metadata": {},
   "outputs": [
    {
     "name": "stdout",
     "output_type": "stream",
     "text": [
      "facet number: 9\n"
     ]
    },
    {
     "data": {
      "text/latex": [
       "$\\displaystyle - b_{3} = -1$"
      ],
      "text/plain": [
       "Eq(-b3, -1)"
      ]
     },
     "metadata": {},
     "output_type": "display_data"
    }
   ],
   "source": [
    "i=9\n",
    "print('facet number:', i)\n",
    "display(sp.Eq(C.determinants[i], C.orientation[i]))\n",
    "\n",
    "C.subs(b3, 1)"
   ]
  },
  {
   "cell_type": "code",
   "execution_count": 61,
   "id": "c8969a3b-334f-431e-967a-5da169368565",
   "metadata": {},
   "outputs": [
    {
     "name": "stdout",
     "output_type": "stream",
     "text": [
      "facet number: 11\n"
     ]
    },
    {
     "data": {
      "text/latex": [
       "$\\displaystyle c_{0} + 1 = 1$"
      ],
      "text/plain": [
       "Eq(c0 + 1, 1)"
      ]
     },
     "metadata": {},
     "output_type": "display_data"
    }
   ],
   "source": [
    "i=11\n",
    "print('facet number:', i)\n",
    "display(sp.Eq(C.determinants[i], C.orientation[i]))\n",
    "\n",
    "C.subs(c0, 0)"
   ]
  },
  {
   "cell_type": "code",
   "execution_count": 63,
   "id": "90e06977-2e34-4ed5-ad4c-a3d7946f51ec",
   "metadata": {},
   "outputs": [
    {
     "name": "stdout",
     "output_type": "stream",
     "text": [
      "facet number: 14\n"
     ]
    },
    {
     "data": {
      "text/latex": [
       "$\\displaystyle 2 b_{0} - 1 = 1$"
      ],
      "text/plain": [
       "Eq(2*b0 - 1, 1)"
      ]
     },
     "metadata": {},
     "output_type": "display_data"
    }
   ],
   "source": [
    "i=14\n",
    "print('facet number:', i)\n",
    "display(sp.Eq(C.determinants[i], C.orientation[i]))\n",
    "\n",
    "C.subs(b0, 1)"
   ]
  },
  {
   "cell_type": "code",
   "execution_count": 65,
   "id": "bfd7110d-72da-4a92-bb55-a58847068a48",
   "metadata": {},
   "outputs": [
    {
     "data": {
      "text/latex": [
       "$\\displaystyle \\left[\\begin{matrix}1 & 0 & 0 & 0 & -1 & 1 & 0 & 0\\\\0 & 1 & 0 & 0 & 0 & -1 & 2 & 1\\\\0 & 0 & 1 & 0 & 0 & 0 & -1 & -1\\\\0 & 0 & 0 & 1 & -1 & 1 & -1 & -1\\end{matrix}\\right]$"
      ],
      "text/plain": [
       "Matrix([\n",
       "[1, 0, 0, 0, -1,  1,  0,  0],\n",
       "[0, 1, 0, 0,  0, -1,  2,  1],\n",
       "[0, 0, 1, 0,  0,  0, -1, -1],\n",
       "[0, 0, 0, 1, -1,  1, -1, -1]])"
      ]
     },
     "metadata": {},
     "output_type": "display_data"
    },
    {
     "name": "stdout",
     "output_type": "stream",
     "text": [
      "1\n"
     ]
    }
   ],
   "source": [
    "display(C.char)\n",
    "print(C.is_fangiving)\n",
    "fans.append(C.char)"
   ]
  },
  {
   "cell_type": "markdown",
   "id": "ace90d43-be3d-4999-8020-d5a86adc845f",
   "metadata": {
    "jp-MarkdownHeadingCollapsed": true
   },
   "source": [
    "# Type 8 of the projection"
   ]
  },
  {
   "cell_type": "code",
   "execution_count": 66,
   "id": "c79eec82-4698-4f3f-aed5-239830553ddd",
   "metadata": {},
   "outputs": [],
   "source": [
    "C1 = copy.deepcopy(C0)\n",
    "C = C1\n",
    "t=8"
   ]
  },
  {
   "cell_type": "code",
   "execution_count": 68,
   "id": "69b33d85-6b0c-47be-9091-7318c338451e",
   "metadata": {},
   "outputs": [
    {
     "data": {
      "text/latex": [
       "$\\displaystyle \\left[\\begin{matrix}1 & 0 & 0 & -1 & b_{0} & c_{0} & d_{0}\\\\0 & 1 & 0 & a_{1} & -1 & c_{1} & d_{1}\\\\0 & 0 & 1 & a_{2} & b_{2} & -1 & d_{2}\\end{matrix}\\right] = \\left[\\begin{matrix}1 & 0 & 0 & -1 & 0 & c_{0} & c_{0} - 1\\\\0 & 1 & 0 & a_{1} & -1 & c_{1} & a_{1} + c_{1} - 1\\\\0 & 0 & 1 & 0 & 0 & -1 & -1\\end{matrix}\\right]$"
      ],
      "text/plain": [
       "Eq(Matrix([\n",
       "[1, 0, 0, -1, b0, c0, d0],\n",
       "[0, 1, 0, a1, -1, c1, d1],\n",
       "[0, 0, 1, a2, b2, -1, d2]]), Matrix([\n",
       "[1, 0, 0, -1,  0, c0,      c0 - 1],\n",
       "[0, 1, 0, a1, -1, c1, a1 + c1 - 1],\n",
       "[0, 0, 1,  0,  0, -1,          -1]]))"
      ]
     },
     "metadata": {},
     "output_type": "display_data"
    },
    {
     "data": {
      "text/latex": [
       "$\\displaystyle \\text{True}$"
      ],
      "text/plain": [
       "True"
      ]
     },
     "metadata": {},
     "output_type": "display_data"
    }
   ],
   "source": [
    "proj = C.proj([4])\n",
    "with sp.evaluate(False):\n",
    "    display(sp.Eq(proj, fans_link[t]))\n",
    "\n",
    "C.subs(a2, 0)\n",
    "C.subs(b0, 0)\n",
    "C.subs(b2, 0)\n",
    "C.subs(d0, c0-1)\n",
    "C.subs(d1, a1+c1-1)\n",
    "C.subs(d2, -1)\n",
    "\n",
    "display(sp.Eq(C.proj([4]), fans_link[t]))"
   ]
  },
  {
   "cell_type": "code",
   "execution_count": 69,
   "id": "bb68f5d9-7655-46bb-8df5-69cc2e76091a",
   "metadata": {},
   "outputs": [
    {
     "name": "stdout",
     "output_type": "stream",
     "text": [
      "facet number: 11\n"
     ]
    },
    {
     "data": {
      "text/latex": [
       "$\\displaystyle - a_{3} c_{0} + 1 = 1$"
      ],
      "text/plain": [
       "Eq(-a3*c0 + 1, 1)"
      ]
     },
     "metadata": {},
     "output_type": "display_data"
    }
   ],
   "source": [
    "i=11\n",
    "print('facet number:', i)\n",
    "display(sp.Eq(C.determinants[i], C.orientation[i]))"
   ]
  },
  {
   "cell_type": "markdown",
   "id": "9234c255-c4f0-4919-b3f2-3fc37767946d",
   "metadata": {
    "jp-MarkdownHeadingCollapsed": true
   },
   "source": [
    "## $a_3=0$"
   ]
  },
  {
   "cell_type": "code",
   "execution_count": 70,
   "id": "dc457515-9009-4c1e-aeae-408325c198fd",
   "metadata": {},
   "outputs": [],
   "source": [
    "C2 = copy.deepcopy(C1)\n",
    "C = C2\n",
    "C.subs(a3, 0)"
   ]
  },
  {
   "cell_type": "code",
   "execution_count": 71,
   "id": "7d5fc272-3c4d-403a-a7b8-95f4d94d1143",
   "metadata": {},
   "outputs": [
    {
     "name": "stdout",
     "output_type": "stream",
     "text": [
      "facet number: 4\n"
     ]
    },
    {
     "data": {
      "text/latex": [
       "$\\displaystyle - a_{1} b_{3} = 1$"
      ],
      "text/plain": [
       "Eq(-a1*b3, 1)"
      ]
     },
     "metadata": {},
     "output_type": "display_data"
    }
   ],
   "source": [
    "i=4\n",
    "print('facet number:', i)\n",
    "display(sp.Eq(C.determinants[i], C.orientation[i]))"
   ]
  },
  {
   "cell_type": "markdown",
   "id": "e238f33d-5e4c-4e6f-a1c9-cbbcb4fc353a",
   "metadata": {
    "jp-MarkdownHeadingCollapsed": true
   },
   "source": [
    "### $a_1=1$"
   ]
  },
  {
   "cell_type": "code",
   "execution_count": 74,
   "id": "21fbec9b-287c-4ee6-ac42-06aea7148b32",
   "metadata": {},
   "outputs": [],
   "source": [
    "C3 = copy.deepcopy(C2)\n",
    "C = C3\n",
    "C.subs(a1, 1)"
   ]
  },
  {
   "cell_type": "code",
   "execution_count": 75,
   "id": "f3df8723-474a-4b81-bd5a-48b95c6849fc",
   "metadata": {},
   "outputs": [
    {
     "name": "stdout",
     "output_type": "stream",
     "text": [
      "facet number: 5\n"
     ]
    },
    {
     "data": {
      "text/latex": [
       "$\\displaystyle - d_{3} = -1$"
      ],
      "text/plain": [
       "Eq(-d3, -1)"
      ]
     },
     "metadata": {},
     "output_type": "display_data"
    },
    {
     "name": "stdout",
     "output_type": "stream",
     "text": [
      "facet number: 9\n"
     ]
    },
    {
     "data": {
      "text/latex": [
       "$\\displaystyle d_{3} + 1 = -1$"
      ],
      "text/plain": [
       "Eq(d3 + 1, -1)"
      ]
     },
     "metadata": {},
     "output_type": "display_data"
    },
    {
     "name": "stdout",
     "output_type": "stream",
     "text": [
      "no solution\n"
     ]
    }
   ],
   "source": [
    "i=5\n",
    "print('facet number:', i)\n",
    "display(sp.Eq(C.determinants[i], C.orientation[i]))\n",
    "\n",
    "i=9\n",
    "print('facet number:', i)\n",
    "display(sp.Eq(C.determinants[i], C.orientation[i]))\n",
    "\n",
    "print('no solution')"
   ]
  },
  {
   "cell_type": "markdown",
   "id": "60cfb94d-d84f-4392-8db9-3e9863415f41",
   "metadata": {
    "jp-MarkdownHeadingCollapsed": true
   },
   "source": [
    "### $a_1=-1$"
   ]
  },
  {
   "cell_type": "code",
   "execution_count": 77,
   "id": "87a4d5bf-06b3-42f8-b916-3a321196dd2a",
   "metadata": {},
   "outputs": [],
   "source": [
    "C3 = copy.deepcopy(C2)\n",
    "C = C3\n",
    "C.subs(a1, -1)\n",
    "C.subs(b3, 1)"
   ]
  },
  {
   "cell_type": "code",
   "execution_count": 79,
   "id": "b3977cc0-dbdc-4a5f-9baa-91696ec3b125",
   "metadata": {},
   "outputs": [
    {
     "name": "stdout",
     "output_type": "stream",
     "text": [
      "facet number: 5\n"
     ]
    },
    {
     "data": {
      "text/latex": [
       "$\\displaystyle d_{3} = -1$"
      ],
      "text/plain": [
       "Eq(d3, -1)"
      ]
     },
     "metadata": {},
     "output_type": "display_data"
    },
    {
     "name": "stdout",
     "output_type": "stream",
     "text": [
      "facet number: 9\n"
     ]
    },
    {
     "data": {
      "text/latex": [
       "$\\displaystyle d_{3} - 1 = -1$"
      ],
      "text/plain": [
       "Eq(d3 - 1, -1)"
      ]
     },
     "metadata": {},
     "output_type": "display_data"
    },
    {
     "name": "stdout",
     "output_type": "stream",
     "text": [
      "no solution\n"
     ]
    }
   ],
   "source": [
    "i=5\n",
    "print('facet number:', i)\n",
    "display(sp.Eq(C.determinants[i], C.orientation[i]))\n",
    "\n",
    "i=9\n",
    "print('facet number:', i)\n",
    "display(sp.Eq(C.determinants[i], C.orientation[i]))\n",
    "\n",
    "print('no solution')"
   ]
  },
  {
   "cell_type": "markdown",
   "id": "5c24d0ab-eeba-46d3-acc0-d4f46f10dcde",
   "metadata": {
    "jp-MarkdownHeadingCollapsed": true
   },
   "source": [
    "## $c_0=0$"
   ]
  },
  {
   "cell_type": "code",
   "execution_count": 81,
   "id": "11b9dc0f-114e-4da7-bd60-ab7cd270414c",
   "metadata": {},
   "outputs": [],
   "source": [
    "C2 = copy.deepcopy(C1)\n",
    "C = C2\n",
    "C.subs(c0, 0)"
   ]
  },
  {
   "cell_type": "code",
   "execution_count": 82,
   "id": "dc8a8f0b-26b5-4d8b-ad8e-84ca8a3a5e4e",
   "metadata": {},
   "outputs": [
    {
     "name": "stdout",
     "output_type": "stream",
     "text": [
      "facet number: 14\n"
     ]
    },
    {
     "data": {
      "text/latex": [
       "$\\displaystyle a_{3} c_{1} - c_{1} d_{3} - c_{1} + 1 = 1$"
      ],
      "text/plain": [
       "Eq(a3*c1 - c1*d3 - c1 + 1, 1)"
      ]
     },
     "metadata": {},
     "output_type": "display_data"
    }
   ],
   "source": [
    "i=14\n",
    "print('facet number:', i)\n",
    "display(sp.Eq(C.determinants[i], C.orientation[i]))"
   ]
  },
  {
   "cell_type": "markdown",
   "id": "58ed4e7b-ccd2-496f-9cea-9fcf0d8194c5",
   "metadata": {
    "jp-MarkdownHeadingCollapsed": true
   },
   "source": [
    "### $c_1=0$"
   ]
  },
  {
   "cell_type": "code",
   "execution_count": 87,
   "id": "4f68fed1-e091-4706-99d1-a832de322c1b",
   "metadata": {},
   "outputs": [],
   "source": [
    "C3 = copy.deepcopy(C2)\n",
    "C = C3\n",
    "C.subs(c1, 0)"
   ]
  },
  {
   "cell_type": "code",
   "execution_count": 91,
   "id": "7d318b8c-4142-4dc4-aff1-3c0877a70c80",
   "metadata": {},
   "outputs": [
    {
     "name": "stdout",
     "output_type": "stream",
     "text": [
      "facet number: 6\n"
     ]
    },
    {
     "data": {
      "text/latex": [
       "$\\displaystyle 1 - a_{1} = 1$"
      ],
      "text/plain": [
       "Eq(1 - a1, 1)"
      ]
     },
     "metadata": {},
     "output_type": "display_data"
    }
   ],
   "source": [
    "i=6\n",
    "print('facet number:', i)\n",
    "display(sp.Eq(C.determinants[i], C.orientation[i]))\n",
    "\n",
    "C.subs(a1, 0)"
   ]
  },
  {
   "cell_type": "code",
   "execution_count": 92,
   "id": "599aed8c-cf66-48a2-b3c3-2afd4fe04766",
   "metadata": {},
   "outputs": [
    {
     "name": "stdout",
     "output_type": "stream",
     "text": [
      "a1=c0=c1=0 => type 4\n"
     ]
    },
    {
     "data": {
      "text/latex": [
       "$\\displaystyle \\left[\\begin{matrix}1 & 0 & 0 & -1 & 0 & 0 & -1\\\\0 & 1 & 0 & 0 & -1 & 0 & -1\\\\0 & 0 & 1 & 0 & 0 & -1 & -1\\end{matrix}\\right]$"
      ],
      "text/plain": [
       "Matrix([\n",
       "[1, 0, 0, -1,  0,  0, -1],\n",
       "[0, 1, 0,  0, -1,  0, -1],\n",
       "[0, 0, 1,  0,  0, -1, -1]])"
      ]
     },
     "metadata": {},
     "output_type": "display_data"
    },
    {
     "data": {
      "text/latex": [
       "$\\displaystyle \\left[\\begin{matrix}1 & 0 & 0 & -1 & b_{0} & 0 & b_{0} - 1\\\\0 & 1 & 0 & 0 & -1 & 0 & -1\\\\0 & 0 & 1 & a_{2} & b_{2} & -1 & a_{2} + b_{2} - 1\\end{matrix}\\right]$"
      ],
      "text/plain": [
       "Matrix([\n",
       "[1, 0, 0, -1, b0,  0,      b0 - 1],\n",
       "[0, 1, 0,  0, -1,  0,          -1],\n",
       "[0, 0, 1, a2, b2, -1, a2 + b2 - 1]])"
      ]
     },
     "metadata": {},
     "output_type": "display_data"
    }
   ],
   "source": [
    "print('a1=c0=c1=0 => type 4')\n",
    "display(C.proj([4]))\n",
    "display(fans_link[4])"
   ]
  },
  {
   "cell_type": "markdown",
   "id": "f05c901f-640e-4512-82bd-d1faf804c472",
   "metadata": {
    "jp-MarkdownHeadingCollapsed": true
   },
   "source": [
    "### $a_3 = d_3 + 1$"
   ]
  },
  {
   "cell_type": "code",
   "execution_count": 94,
   "id": "282a0b57-0588-49ea-ae98-a515a85a4745",
   "metadata": {},
   "outputs": [],
   "source": [
    "C3 = copy.deepcopy(C2)\n",
    "C = C3\n",
    "C.subs(a3, d3+1)"
   ]
  },
  {
   "cell_type": "code",
   "execution_count": 96,
   "id": "a5fd6a9b-2506-4c41-86fc-de5d94839cc8",
   "metadata": {},
   "outputs": [
    {
     "name": "stdout",
     "output_type": "stream",
     "text": [
      "facet number: 4\n"
     ]
    },
    {
     "data": {
      "text/latex": [
       "$\\displaystyle - a_{1} b_{3} - d_{3} - 1 = 1$"
      ],
      "text/plain": [
       "Eq(-a1*b3 - d3 - 1, 1)"
      ]
     },
     "metadata": {},
     "output_type": "display_data"
    },
    {
     "name": "stdout",
     "output_type": "stream",
     "text": [
      "facet number: 9\n"
     ]
    },
    {
     "data": {
      "text/latex": [
       "$\\displaystyle a_{1} b_{3} - b_{3} + d_{3} + 1 = -1$"
      ],
      "text/plain": [
       "Eq(a1*b3 - b3 + d3 + 1, -1)"
      ]
     },
     "metadata": {},
     "output_type": "display_data"
    },
    {
     "data": {
      "text/latex": [
       "$\\displaystyle - b_{3} = 0$"
      ],
      "text/plain": [
       "Eq(-b3, 0)"
      ]
     },
     "metadata": {},
     "output_type": "display_data"
    }
   ],
   "source": [
    "i=4\n",
    "print('facet number:', i)\n",
    "display(sp.Eq(C.determinants[i], C.orientation[i]))\n",
    "\n",
    "i=9\n",
    "print('facet number:', i)\n",
    "display(sp.Eq(C.determinants[i], C.orientation[i]))\n",
    "\n",
    "display(sp.Eq(C.determinants[4] + C.determinants[9], C.orientation[4] + C.orientation[9]))\n",
    "\n",
    "C.subs(b3, 0)"
   ]
  },
  {
   "cell_type": "code",
   "execution_count": 97,
   "id": "0c69ab3b-1682-4997-984d-22cab00bc202",
   "metadata": {},
   "outputs": [
    {
     "name": "stdout",
     "output_type": "stream",
     "text": [
      "facet number: 9\n"
     ]
    },
    {
     "data": {
      "text/latex": [
       "$\\displaystyle d_{3} + 1 = -1$"
      ],
      "text/plain": [
       "Eq(d3 + 1, -1)"
      ]
     },
     "metadata": {},
     "output_type": "display_data"
    }
   ],
   "source": [
    "i=9\n",
    "print('facet number:', i)\n",
    "display(sp.Eq(C.determinants[i], C.orientation[i]))\n",
    "\n",
    "C.subs(d3, -2)"
   ]
  },
  {
   "cell_type": "code",
   "execution_count": 102,
   "id": "8d8b0f91-f830-4332-9406-34a19f8a31d0",
   "metadata": {},
   "outputs": [
    {
     "name": "stdout",
     "output_type": "stream",
     "text": [
      "facet number: 5\n"
     ]
    },
    {
     "data": {
      "text/latex": [
       "$\\displaystyle a_{1} - c_{1} + 1 = -1$"
      ],
      "text/plain": [
       "Eq(a1 - c1 + 1, -1)"
      ]
     },
     "metadata": {},
     "output_type": "display_data"
    },
    {
     "name": "stdout",
     "output_type": "stream",
     "text": [
      "facet number: 6\n"
     ]
    },
    {
     "data": {
      "text/latex": [
       "$\\displaystyle - a_{1} + c_{1} + 1 = 1$"
      ],
      "text/plain": [
       "Eq(-a1 + c1 + 1, 1)"
      ]
     },
     "metadata": {},
     "output_type": "display_data"
    },
    {
     "data": {
      "text/latex": [
       "$\\displaystyle 2 = 0$"
      ],
      "text/plain": [
       "Eq(2, 0)"
      ]
     },
     "metadata": {},
     "output_type": "display_data"
    },
    {
     "name": "stdout",
     "output_type": "stream",
     "text": [
      "no solution\n"
     ]
    }
   ],
   "source": [
    "i=5\n",
    "print('facet number:', i)\n",
    "display(sp.Eq(C.determinants[i], C.orientation[i]))\n",
    "\n",
    "i=6\n",
    "print('facet number:', i)\n",
    "display(sp.Eq(C.determinants[i], C.orientation[i]))\n",
    "\n",
    "display(sp.Eq(C.determinants[5] + C.determinants[6], C.orientation[5] + C.orientation[6], evaluate=False))\n",
    "\n",
    "print('no solution')"
   ]
  },
  {
   "cell_type": "markdown",
   "id": "97948c79-d396-425b-a6fb-5069767ebbf1",
   "metadata": {
    "jp-MarkdownHeadingCollapsed": true
   },
   "source": [
    "# Type 9 of the projection"
   ]
  },
  {
   "cell_type": "code",
   "execution_count": 103,
   "id": "8254f58f-6fe6-49e3-867d-6e8a46a369b0",
   "metadata": {},
   "outputs": [],
   "source": [
    "C1 = copy.deepcopy(C0)\n",
    "C = C1\n",
    "t=9"
   ]
  },
  {
   "cell_type": "code",
   "execution_count": 105,
   "id": "11c21e60-4427-420c-81d0-4b1c1465b068",
   "metadata": {},
   "outputs": [
    {
     "data": {
      "text/latex": [
       "$\\displaystyle \\left[\\begin{matrix}1 & 0 & 0 & -1 & b_{0} & c_{0} & d_{0}\\\\0 & 1 & 0 & a_{1} & -1 & c_{1} & d_{1}\\\\0 & 0 & 1 & a_{2} & b_{2} & -1 & d_{2}\\end{matrix}\\right] = \\left[\\begin{matrix}1 & 0 & 0 & -1 & 0 & 0 & -1\\\\0 & 1 & 0 & a_{1} & -1 & c_{1} & a_{1} + c_{1} - 1\\\\0 & 0 & 1 & a_{2} & 0 & -1 & a_{2} - 1\\end{matrix}\\right]$"
      ],
      "text/plain": [
       "Eq(Matrix([\n",
       "[1, 0, 0, -1, b0, c0, d0],\n",
       "[0, 1, 0, a1, -1, c1, d1],\n",
       "[0, 0, 1, a2, b2, -1, d2]]), Matrix([\n",
       "[1, 0, 0, -1,  0,  0,          -1],\n",
       "[0, 1, 0, a1, -1, c1, a1 + c1 - 1],\n",
       "[0, 0, 1, a2,  0, -1,      a2 - 1]]))"
      ]
     },
     "metadata": {},
     "output_type": "display_data"
    },
    {
     "data": {
      "text/latex": [
       "$\\displaystyle \\text{True}$"
      ],
      "text/plain": [
       "True"
      ]
     },
     "metadata": {},
     "output_type": "display_data"
    }
   ],
   "source": [
    "proj = C.proj([4])\n",
    "with sp.evaluate(False):\n",
    "    display(sp.Eq(proj, fans_link[t]))\n",
    "\n",
    "C.subs(b0, 0)\n",
    "C.subs(b2, 0)\n",
    "C.subs(c0, 0)\n",
    "C.subs(d0, -1)\n",
    "C.subs(d1, a1+c1-1)\n",
    "C.subs(d2, a2-1)\n",
    "\n",
    "display(sp.Eq(C.proj([4]), fans_link[t]))"
   ]
  },
  {
   "cell_type": "code",
   "execution_count": 108,
   "id": "8bcd496a-2642-4a59-9288-3eae4860d370",
   "metadata": {},
   "outputs": [
    {
     "name": "stdout",
     "output_type": "stream",
     "text": [
      "facet number: 14\n"
     ]
    },
    {
     "data": {
      "text/latex": [
       "$\\displaystyle a_{3} c_{1} - c_{1} d_{3} - c_{1} + 1 = 1$"
      ],
      "text/plain": [
       "Eq(a3*c1 - c1*d3 - c1 + 1, 1)"
      ]
     },
     "metadata": {},
     "output_type": "display_data"
    },
    {
     "name": "stdout",
     "output_type": "stream",
     "text": [
      "c1=0 => type 5\n"
     ]
    }
   ],
   "source": [
    "i=14\n",
    "print('facet number:', i)\n",
    "display(sp.Eq(C.determinants[i], C.orientation[i]))\n",
    "\n",
    "print('c1=0 => type 5')\n",
    "\n",
    "C.subs(a3, d3+1)"
   ]
  },
  {
   "cell_type": "code",
   "execution_count": 110,
   "id": "1dac7775-4a00-43f8-8054-346dff5f9728",
   "metadata": {},
   "outputs": [
    {
     "name": "stdout",
     "output_type": "stream",
     "text": [
      "facet number: 5\n"
     ]
    },
    {
     "data": {
      "text/latex": [
       "$\\displaystyle a_{1} + c_{1} d_{3} + c_{1} - d_{3} - 1 = -1$"
      ],
      "text/plain": [
       "Eq(a1 + c1*d3 + c1 - d3 - 1, -1)"
      ]
     },
     "metadata": {},
     "output_type": "display_data"
    },
    {
     "name": "stdout",
     "output_type": "stream",
     "text": [
      "facet number: 6\n"
     ]
    },
    {
     "data": {
      "text/latex": [
       "$\\displaystyle - a_{1} - c_{1} d_{3} - c_{1} + 1 = 1$"
      ],
      "text/plain": [
       "Eq(-a1 - c1*d3 - c1 + 1, 1)"
      ]
     },
     "metadata": {},
     "output_type": "display_data"
    },
    {
     "data": {
      "text/latex": [
       "$\\displaystyle - d_{3} = 0$"
      ],
      "text/plain": [
       "Eq(-d3, 0)"
      ]
     },
     "metadata": {},
     "output_type": "display_data"
    }
   ],
   "source": [
    "i=5\n",
    "print('facet number:', i)\n",
    "display(sp.Eq(C.determinants[i], C.orientation[i]))\n",
    "\n",
    "i=6\n",
    "print('facet number:', i)\n",
    "display(sp.Eq(C.determinants[i], C.orientation[i]))\n",
    "\n",
    "display(sp.Eq(C.determinants[5] + C.determinants[6], C.orientation[5] + C.orientation[6]))\n",
    "\n",
    "C.subs(d3, 0)"
   ]
  },
  {
   "cell_type": "code",
   "execution_count": 113,
   "id": "71df9f71-2765-4091-8436-983816aa54f6",
   "metadata": {},
   "outputs": [
    {
     "name": "stdout",
     "output_type": "stream",
     "text": [
      "facet number: 4\n"
     ]
    },
    {
     "data": {
      "text/latex": [
       "$\\displaystyle - a_{1} b_{3} - 1 = 1$"
      ],
      "text/plain": [
       "Eq(-a1*b3 - 1, 1)"
      ]
     },
     "metadata": {},
     "output_type": "display_data"
    },
    {
     "name": "stdout",
     "output_type": "stream",
     "text": [
      "facet number: 8\n"
     ]
    },
    {
     "data": {
      "text/latex": [
       "$\\displaystyle a_{1} b_{3} + a_{2} b_{3} c_{1} - a_{2} b_{3} - a_{2} + 1 = -1$"
      ],
      "text/plain": [
       "Eq(a1*b3 + a2*b3*c1 - a2*b3 - a2 + 1, -1)"
      ]
     },
     "metadata": {},
     "output_type": "display_data"
    },
    {
     "name": "stdout",
     "output_type": "stream",
     "text": [
      "facet number: 9\n"
     ]
    },
    {
     "data": {
      "text/latex": [
       "$\\displaystyle a_{1} b_{3} + a_{2} b_{3} c_{1} - a_{2} - b_{3} + 1 = -1$"
      ],
      "text/plain": [
       "Eq(a1*b3 + a2*b3*c1 - a2 - b3 + 1, -1)"
      ]
     },
     "metadata": {},
     "output_type": "display_data"
    },
    {
     "data": {
      "text/latex": [
       "$\\displaystyle - a_{2} b_{3} + b_{3} = 0$"
      ],
      "text/plain": [
       "Eq(-a2*b3 + b3, 0)"
      ]
     },
     "metadata": {},
     "output_type": "display_data"
    }
   ],
   "source": [
    "i=4\n",
    "print('facet number:', i)\n",
    "display(sp.Eq(C.determinants[i], C.orientation[i]))\n",
    "\n",
    "i=8\n",
    "print('facet number:', i)\n",
    "display(sp.Eq(C.determinants[i], C.orientation[i]))\n",
    "\n",
    "i=9\n",
    "print('facet number:', i)\n",
    "display(sp.Eq(C.determinants[i], C.orientation[i]))\n",
    "\n",
    "display(sp.Eq(C.determinants[8] - C.determinants[9], C.orientation[8] - C.orientation[9]))\n",
    "\n",
    "C.subs(a2, 1)"
   ]
  },
  {
   "cell_type": "code",
   "execution_count": 114,
   "id": "cc89dee1-9a96-4132-8d41-adc5f4e2ed8e",
   "metadata": {},
   "outputs": [
    {
     "name": "stdout",
     "output_type": "stream",
     "text": [
      "facet number: 5\n"
     ]
    },
    {
     "data": {
      "text/latex": [
       "$\\displaystyle a_{1} + c_{1} - 1 = -1$"
      ],
      "text/plain": [
       "Eq(a1 + c1 - 1, -1)"
      ]
     },
     "metadata": {},
     "output_type": "display_data"
    }
   ],
   "source": [
    "i=5\n",
    "print('facet number:', i)\n",
    "display(sp.Eq(C.determinants[i], C.orientation[i]))\n",
    "\n",
    "C.subs(a1, -c1)"
   ]
  },
  {
   "cell_type": "code",
   "execution_count": 116,
   "id": "d25e722e-2b61-4abd-b511-7700c82e274f",
   "metadata": {},
   "outputs": [
    {
     "name": "stdout",
     "output_type": "stream",
     "text": [
      "facet number: 8\n"
     ]
    },
    {
     "data": {
      "text/latex": [
       "$\\displaystyle - b_{3} = -1$"
      ],
      "text/plain": [
       "Eq(-b3, -1)"
      ]
     },
     "metadata": {},
     "output_type": "display_data"
    }
   ],
   "source": [
    "i=8\n",
    "print('facet number:', i)\n",
    "display(sp.Eq(C.determinants[i], C.orientation[i]))\n",
    "\n",
    "C.subs(b3, 1)"
   ]
  },
  {
   "cell_type": "code",
   "execution_count": 117,
   "id": "f7f58068-bfef-47e3-8888-7f51b5f56e69",
   "metadata": {},
   "outputs": [
    {
     "name": "stdout",
     "output_type": "stream",
     "text": [
      "facet number: 4\n"
     ]
    },
    {
     "data": {
      "text/latex": [
       "$\\displaystyle c_{1} - 1 = 1$"
      ],
      "text/plain": [
       "Eq(c1 - 1, 1)"
      ]
     },
     "metadata": {},
     "output_type": "display_data"
    }
   ],
   "source": [
    "i=4\n",
    "print('facet number:', i)\n",
    "display(sp.Eq(C.determinants[i], C.orientation[i]))\n",
    "\n",
    "C.subs(c1, 2)"
   ]
  },
  {
   "cell_type": "code",
   "execution_count": 119,
   "id": "72eb6a4e-9254-48c6-ba9c-b2c1a21bcee9",
   "metadata": {},
   "outputs": [
    {
     "data": {
      "text/latex": [
       "$\\displaystyle \\left[\\begin{matrix}1 & 0 & 0 & 0 & -1 & 0 & 0 & -1\\\\0 & 1 & 0 & 0 & -2 & -1 & 2 & -1\\\\0 & 0 & 1 & 0 & 1 & 0 & -1 & 0\\\\0 & 0 & 0 & 1 & 1 & 1 & -1 & 0\\end{matrix}\\right]$"
      ],
      "text/plain": [
       "Matrix([\n",
       "[1, 0, 0, 0, -1,  0,  0, -1],\n",
       "[0, 1, 0, 0, -2, -1,  2, -1],\n",
       "[0, 0, 1, 0,  1,  0, -1,  0],\n",
       "[0, 0, 0, 1,  1,  1, -1,  0]])"
      ]
     },
     "metadata": {},
     "output_type": "display_data"
    },
    {
     "name": "stdout",
     "output_type": "stream",
     "text": [
      "1\n"
     ]
    }
   ],
   "source": [
    "display(C.char)\n",
    "print(C.is_fangiving)\n",
    "fans.append(C.char)"
   ]
  },
  {
   "cell_type": "markdown",
   "id": "978f134f-a9e5-462b-9c33-756b6e63678a",
   "metadata": {
    "jp-MarkdownHeadingCollapsed": true
   },
   "source": [
    "# Type 10 of the projection"
   ]
  },
  {
   "cell_type": "code",
   "execution_count": 124,
   "id": "87042b5e-dd32-4e46-8829-424da4758a02",
   "metadata": {},
   "outputs": [],
   "source": [
    "C1 = copy.deepcopy(C0)\n",
    "C = C1\n",
    "t=10"
   ]
  },
  {
   "cell_type": "code",
   "execution_count": 125,
   "id": "32f11ea8-8dc1-427e-9e42-d04e645eecb3",
   "metadata": {},
   "outputs": [
    {
     "data": {
      "text/latex": [
       "$\\displaystyle \\left[\\begin{matrix}1 & 0 & 0 & -1 & b_{0} & c_{0} & d_{0}\\\\0 & 1 & 0 & a_{1} & -1 & c_{1} & d_{1}\\\\0 & 0 & 1 & a_{2} & b_{2} & -1 & d_{2}\\end{matrix}\\right] = \\left[\\begin{matrix}1 & 0 & 0 & -1 & 0 & 1 & 0\\\\0 & 1 & 0 & 1 & -1 & 0 & 0\\\\0 & 0 & 1 & 0 & b_{2} & -1 & -1\\end{matrix}\\right]$"
      ],
      "text/plain": [
       "Eq(Matrix([\n",
       "[1, 0, 0, -1, b0, c0, d0],\n",
       "[0, 1, 0, a1, -1, c1, d1],\n",
       "[0, 0, 1, a2, b2, -1, d2]]), Matrix([\n",
       "[1, 0, 0, -1,  0,  1,  0],\n",
       "[0, 1, 0,  1, -1,  0,  0],\n",
       "[0, 0, 1,  0, b2, -1, -1]]))"
      ]
     },
     "metadata": {},
     "output_type": "display_data"
    },
    {
     "name": "stdout",
     "output_type": "stream",
     "text": [
      "facet number: 6\n"
     ]
    },
    {
     "data": {
      "text/latex": [
       "$\\displaystyle - c_{1} d_{3} - d_{1} = 1$"
      ],
      "text/plain": [
       "Eq(-c1*d3 - d1, 1)"
      ]
     },
     "metadata": {},
     "output_type": "display_data"
    },
    {
     "name": "stdout",
     "output_type": "stream",
     "text": [
      "no solution\n"
     ]
    }
   ],
   "source": [
    "proj = C.proj([4])\n",
    "with sp.evaluate(False):\n",
    "    display(sp.Eq(proj, fans_link[t]))\n",
    "\n",
    "i=6\n",
    "print('facet number:', i)\n",
    "display(sp.Eq(C.determinants[i], C.orientation[i]))\n",
    "\n",
    "print('no solution')"
   ]
  },
  {
   "cell_type": "markdown",
   "id": "f2b8d6cd-29b2-49d6-9544-0a15db3054fa",
   "metadata": {
    "jp-MarkdownHeadingCollapsed": true
   },
   "source": [
    "# Type 11 of the projection"
   ]
  },
  {
   "cell_type": "code",
   "execution_count": 126,
   "id": "136e99ba-ec31-4c73-b438-b6ffd51feda6",
   "metadata": {},
   "outputs": [],
   "source": [
    "C1 = copy.deepcopy(C0)\n",
    "C = C1\n",
    "t=11"
   ]
  },
  {
   "cell_type": "code",
   "execution_count": 128,
   "id": "c9281956-2d41-4f89-aa8b-fb19b0846108",
   "metadata": {},
   "outputs": [
    {
     "data": {
      "text/latex": [
       "$\\displaystyle \\left[\\begin{matrix}1 & 0 & 0 & -1 & b_{0} & c_{0} & d_{0}\\\\0 & 1 & 0 & a_{1} & -1 & c_{1} & d_{1}\\\\0 & 0 & 1 & a_{2} & b_{2} & -1 & d_{2}\\end{matrix}\\right] = \\left[\\begin{matrix}1 & 0 & 0 & -1 & 0 & -1 & -1\\\\0 & 1 & 0 & -1 & -1 & 0 & -1\\\\0 & 0 & 1 & 0 & -1 & -1 & -1\\end{matrix}\\right]$"
      ],
      "text/plain": [
       "Eq(Matrix([\n",
       "[1, 0, 0, -1, b0, c0, d0],\n",
       "[0, 1, 0, a1, -1, c1, d1],\n",
       "[0, 0, 1, a2, b2, -1, d2]]), Matrix([\n",
       "[1, 0, 0, -1,  0, -1, -1],\n",
       "[0, 1, 0, -1, -1,  0, -1],\n",
       "[0, 0, 1,  0, -1, -1, -1]]))"
      ]
     },
     "metadata": {},
     "output_type": "display_data"
    },
    {
     "data": {
      "text/latex": [
       "$\\displaystyle \\text{True}$"
      ],
      "text/plain": [
       "True"
      ]
     },
     "metadata": {},
     "output_type": "display_data"
    }
   ],
   "source": [
    "proj = C.proj([4])\n",
    "with sp.evaluate(False):\n",
    "    display(sp.Eq(proj, fans_link[t]))\n",
    "\n",
    "C.subs(a1, -1)\n",
    "C.subs(a2, 0)\n",
    "C.subs(b0, 0)\n",
    "C.subs(b2, -1)\n",
    "C.subs(c0, -1)\n",
    "C.subs(c1, 0)\n",
    "C.subs(d0, -1)\n",
    "C.subs(d1, -1)\n",
    "C.subs(d2, -1)\n",
    "\n",
    "display(sp.Eq(C.proj([4]), fans_link[t]))"
   ]
  },
  {
   "cell_type": "code",
   "execution_count": 129,
   "id": "71fa0416-af18-409a-a68a-a066df15786e",
   "metadata": {},
   "outputs": [
    {
     "name": "stdout",
     "output_type": "stream",
     "text": [
      "facet number: 11\n"
     ]
    },
    {
     "data": {
      "text/latex": [
       "$\\displaystyle a_{3} + 1 = 1$"
      ],
      "text/plain": [
       "Eq(a3 + 1, 1)"
      ]
     },
     "metadata": {},
     "output_type": "display_data"
    }
   ],
   "source": [
    "i=11\n",
    "print('facet number:', i)\n",
    "display(sp.Eq(C.determinants[i], C.orientation[i]))\n",
    "\n",
    "C.subs(a3, 0)"
   ]
  },
  {
   "cell_type": "code",
   "execution_count": 130,
   "id": "4f42b4b9-492a-4b97-bd81-7b8951c6b259",
   "metadata": {},
   "outputs": [
    {
     "name": "stdout",
     "output_type": "stream",
     "text": [
      "facet number: 4\n"
     ]
    },
    {
     "data": {
      "text/latex": [
       "$\\displaystyle b_{3} = 1$"
      ],
      "text/plain": [
       "Eq(b3, 1)"
      ]
     },
     "metadata": {},
     "output_type": "display_data"
    },
    {
     "name": "stdout",
     "output_type": "stream",
     "text": [
      "facet number: 5\n"
     ]
    },
    {
     "data": {
      "text/latex": [
       "$\\displaystyle d_{3} = -1$"
      ],
      "text/plain": [
       "Eq(d3, -1)"
      ]
     },
     "metadata": {},
     "output_type": "display_data"
    },
    {
     "name": "stdout",
     "output_type": "stream",
     "text": [
      "facet number: 8\n"
     ]
    },
    {
     "data": {
      "text/latex": [
       "$\\displaystyle - b_{3} + d_{3} = -1$"
      ],
      "text/plain": [
       "Eq(-b3 + d3, -1)"
      ]
     },
     "metadata": {},
     "output_type": "display_data"
    },
    {
     "name": "stdout",
     "output_type": "stream",
     "text": [
      "no solution\n"
     ]
    }
   ],
   "source": [
    "i=4\n",
    "print('facet number:', i)\n",
    "display(sp.Eq(C.determinants[i], C.orientation[i]))\n",
    "\n",
    "i=5\n",
    "print('facet number:', i)\n",
    "display(sp.Eq(C.determinants[i], C.orientation[i]))\n",
    "\n",
    "i=8\n",
    "print('facet number:', i)\n",
    "display(sp.Eq(C.determinants[i], C.orientation[i]))\n",
    "\n",
    "print('no solution')"
   ]
  },
  {
   "cell_type": "markdown",
   "id": "6c536295-baf4-4dc4-8950-2d33285c4627",
   "metadata": {
    "jp-MarkdownHeadingCollapsed": true
   },
   "source": [
    "# Type 12 of the projection"
   ]
  },
  {
   "cell_type": "code",
   "execution_count": 135,
   "id": "9444023f-2284-46e8-bcbb-55340c4ee9cd",
   "metadata": {},
   "outputs": [],
   "source": [
    "C1 = copy.deepcopy(C0)\n",
    "C = C1\n",
    "t=12"
   ]
  },
  {
   "cell_type": "code",
   "execution_count": 136,
   "id": "401dcb88-b11b-47c1-a5d1-e26972bddc4f",
   "metadata": {},
   "outputs": [
    {
     "data": {
      "text/latex": [
       "$\\displaystyle \\left[\\begin{matrix}1 & 0 & 0 & -1 & b_{0} & c_{0} & d_{0}\\\\0 & 1 & 0 & a_{1} & -1 & c_{1} & d_{1}\\\\0 & 0 & 1 & a_{2} & b_{2} & -1 & d_{2}\\end{matrix}\\right] = \\left[\\begin{matrix}1 & 0 & 0 & -1 & b_{0} & 0 & -1\\\\0 & 1 & 0 & 0 & -1 & 1 & 0\\\\0 & 0 & 1 & 1 & 0 & -1 & 0\\end{matrix}\\right]$"
      ],
      "text/plain": [
       "Eq(Matrix([\n",
       "[1, 0, 0, -1, b0, c0, d0],\n",
       "[0, 1, 0, a1, -1, c1, d1],\n",
       "[0, 0, 1, a2, b2, -1, d2]]), Matrix([\n",
       "[1, 0, 0, -1, b0,  0, -1],\n",
       "[0, 1, 0,  0, -1,  1,  0],\n",
       "[0, 0, 1,  1,  0, -1,  0]]))"
      ]
     },
     "metadata": {},
     "output_type": "display_data"
    },
    {
     "name": "stdout",
     "output_type": "stream",
     "text": [
      "facet number: 5\n"
     ]
    },
    {
     "data": {
      "text/latex": [
       "$\\displaystyle - a_{1} d_{3} + a_{3} d_{1} = -1$"
      ],
      "text/plain": [
       "Eq(-a1*d3 + a3*d1, -1)"
      ]
     },
     "metadata": {},
     "output_type": "display_data"
    },
    {
     "name": "stdout",
     "output_type": "stream",
     "text": [
      "no solution\n"
     ]
    }
   ],
   "source": [
    "proj = C.proj([4])\n",
    "with sp.evaluate(False):\n",
    "    display(sp.Eq(proj, fans_link[t]))\n",
    "\n",
    "i=5\n",
    "print('facet number:', i)\n",
    "display(sp.Eq(C.determinants[i], C.orientation[i]))\n",
    "\n",
    "print('no solution')"
   ]
  },
  {
   "cell_type": "markdown",
   "id": "323451f1-918e-4f64-886d-6b4f0587bd16",
   "metadata": {
    "jp-MarkdownHeadingCollapsed": true
   },
   "source": [
    "# Type 13 of the projection"
   ]
  },
  {
   "cell_type": "code",
   "execution_count": 137,
   "id": "0f83da57-89c8-4f7d-8fcd-ce517d024723",
   "metadata": {},
   "outputs": [],
   "source": [
    "C1 = copy.deepcopy(C0)\n",
    "C = C1\n",
    "t=13"
   ]
  },
  {
   "cell_type": "code",
   "execution_count": 139,
   "id": "0203dba6-0058-403e-af3a-a2a54eb9841e",
   "metadata": {},
   "outputs": [
    {
     "data": {
      "text/latex": [
       "$\\displaystyle \\left[\\begin{matrix}1 & 0 & 0 & -1 & b_{0} & c_{0} & d_{0}\\\\0 & 1 & 0 & a_{1} & -1 & c_{1} & d_{1}\\\\0 & 0 & 1 & a_{2} & b_{2} & -1 & d_{2}\\end{matrix}\\right] = \\left[\\begin{matrix}1 & 0 & 0 & -1 & 1 & 0 & 0\\\\0 & 1 & 0 & 0 & -1 & 1 & 0\\\\0 & 0 & 1 & a_{2} & 0 & -1 & -1\\end{matrix}\\right]$"
      ],
      "text/plain": [
       "Eq(Matrix([\n",
       "[1, 0, 0, -1, b0, c0, d0],\n",
       "[0, 1, 0, a1, -1, c1, d1],\n",
       "[0, 0, 1, a2, b2, -1, d2]]), Matrix([\n",
       "[1, 0, 0, -1,  1,  0,  0],\n",
       "[0, 1, 0,  0, -1,  1,  0],\n",
       "[0, 0, 1, a2,  0, -1, -1]]))"
      ]
     },
     "metadata": {},
     "output_type": "display_data"
    },
    {
     "name": "stdout",
     "output_type": "stream",
     "text": [
      "facet number: 5\n"
     ]
    },
    {
     "data": {
      "text/latex": [
       "$\\displaystyle - a_{1} d_{3} + a_{3} d_{1} = -1$"
      ],
      "text/plain": [
       "Eq(-a1*d3 + a3*d1, -1)"
      ]
     },
     "metadata": {},
     "output_type": "display_data"
    },
    {
     "name": "stdout",
     "output_type": "stream",
     "text": [
      "no solution\n"
     ]
    }
   ],
   "source": [
    "proj = C.proj([4])\n",
    "with sp.evaluate(False):\n",
    "    display(sp.Eq(proj, fans_link[t]))\n",
    "\n",
    "i=5\n",
    "print('facet number:', i)\n",
    "display(sp.Eq(C.determinants[i], C.orientation[i]))\n",
    "\n",
    "print('no solution')"
   ]
  },
  {
   "cell_type": "markdown",
   "id": "bdffdfa7-0f39-433c-b80e-47e8cc0a5490",
   "metadata": {
    "jp-MarkdownHeadingCollapsed": true
   },
   "source": [
    "# Type 14 of the projection"
   ]
  },
  {
   "cell_type": "code",
   "execution_count": 145,
   "id": "10ad727a-68e0-469f-b325-0c3fc05addda",
   "metadata": {},
   "outputs": [],
   "source": [
    "C1 = copy.deepcopy(C0)\n",
    "C = C1\n",
    "t=14"
   ]
  },
  {
   "cell_type": "code",
   "execution_count": 146,
   "id": "24193565-5699-4f86-ba1f-130eac554d5f",
   "metadata": {},
   "outputs": [
    {
     "data": {
      "text/latex": [
       "$\\displaystyle \\left[\\begin{matrix}1 & 0 & 0 & -1 & b_{0} & c_{0} & d_{0}\\\\0 & 1 & 0 & a_{1} & -1 & c_{1} & d_{1}\\\\0 & 0 & 1 & a_{2} & b_{2} & -1 & d_{2}\\end{matrix}\\right] = \\left[\\begin{matrix}1 & 0 & 0 & -1 & 1 & 0 & d_{0}\\\\0 & 1 & 0 & 0 & -1 & 1 & d_{1}\\\\0 & 0 & 1 & 1 & 0 & -1 & - d_{0} - d_{1} - 1\\end{matrix}\\right]$"
      ],
      "text/plain": [
       "Eq(Matrix([\n",
       "[1, 0, 0, -1, b0, c0, d0],\n",
       "[0, 1, 0, a1, -1, c1, d1],\n",
       "[0, 0, 1, a2, b2, -1, d2]]), Matrix([\n",
       "[1, 0, 0, -1,  1,  0,           d0],\n",
       "[0, 1, 0,  0, -1,  1,           d1],\n",
       "[0, 0, 1,  1,  0, -1, -d0 - d1 - 1]]))"
      ]
     },
     "metadata": {},
     "output_type": "display_data"
    },
    {
     "data": {
      "text/latex": [
       "$\\displaystyle \\text{True}$"
      ],
      "text/plain": [
       "True"
      ]
     },
     "metadata": {},
     "output_type": "display_data"
    }
   ],
   "source": [
    "proj = C.proj([4])\n",
    "with sp.evaluate(False):\n",
    "    display(sp.Eq(proj, fans_link[t]))\n",
    "\n",
    "C.subs(a1, 0)\n",
    "C.subs(a2, 1)\n",
    "C.subs(b0, 1)\n",
    "C.subs(b2, 0)\n",
    "C.subs(c0, 0)\n",
    "C.subs(c1, 1)\n",
    "C.subs(d2, -d0-d1-1)\n",
    "\n",
    "display(sp.Eq(C.proj([4]), fans_link[t]))"
   ]
  },
  {
   "cell_type": "code",
   "execution_count": 147,
   "id": "5ce41925-a3ec-48ce-829f-cea94a9b3f8f",
   "metadata": {},
   "outputs": [
    {
     "name": "stdout",
     "output_type": "stream",
     "text": [
      "facet number: 4\n"
     ]
    },
    {
     "data": {
      "text/latex": [
       "$\\displaystyle - a_{3} = 1$"
      ],
      "text/plain": [
       "Eq(-a3, 1)"
      ]
     },
     "metadata": {},
     "output_type": "display_data"
    }
   ],
   "source": [
    "i=4\n",
    "print('facet number:', i)\n",
    "display(sp.Eq(C.determinants[i], C.orientation[i]))\n",
    "\n",
    "C.subs(a3, -1)"
   ]
  },
  {
   "cell_type": "code",
   "execution_count": 148,
   "id": "3080f8d0-64cf-4be0-a77b-2e33a1e170a0",
   "metadata": {},
   "outputs": [
    {
     "name": "stdout",
     "output_type": "stream",
     "text": [
      "facet number: 5\n"
     ]
    },
    {
     "data": {
      "text/latex": [
       "$\\displaystyle - d_{1} = -1$"
      ],
      "text/plain": [
       "Eq(-d1, -1)"
      ]
     },
     "metadata": {},
     "output_type": "display_data"
    }
   ],
   "source": [
    "i=5\n",
    "print('facet number:', i)\n",
    "display(sp.Eq(C.determinants[i], C.orientation[i]))\n",
    "\n",
    "C.subs(d1, 1)"
   ]
  },
  {
   "cell_type": "code",
   "execution_count": 149,
   "id": "a7b0ab82-cd5a-492f-9473-2cf1f39e9877",
   "metadata": {},
   "outputs": [
    {
     "name": "stdout",
     "output_type": "stream",
     "text": [
      "facet number: 6\n"
     ]
    },
    {
     "data": {
      "text/latex": [
       "$\\displaystyle - d_{3} - 1 = 1$"
      ],
      "text/plain": [
       "Eq(-d3 - 1, 1)"
      ]
     },
     "metadata": {},
     "output_type": "display_data"
    }
   ],
   "source": [
    "i=6\n",
    "print('facet number:', i)\n",
    "display(sp.Eq(C.determinants[i], C.orientation[i]))\n",
    "\n",
    "C.subs(d3, -2)"
   ]
  },
  {
   "cell_type": "code",
   "execution_count": 150,
   "id": "e99a0bed-4462-4276-b91d-c90cf7ad5202",
   "metadata": {},
   "outputs": [
    {
     "name": "stdout",
     "output_type": "stream",
     "text": [
      "facet number: 14\n"
     ]
    },
    {
     "data": {
      "text/latex": [
       "$\\displaystyle d_{0} + 1 = 1$"
      ],
      "text/plain": [
       "Eq(d0 + 1, 1)"
      ]
     },
     "metadata": {},
     "output_type": "display_data"
    }
   ],
   "source": [
    "i=14\n",
    "print('facet number:', i)\n",
    "display(sp.Eq(C.determinants[i], C.orientation[i]))\n",
    "\n",
    "C.subs(d0, 0)"
   ]
  },
  {
   "cell_type": "code",
   "execution_count": 152,
   "id": "d3f87879-87eb-4489-8e47-38f3b7531dbb",
   "metadata": {},
   "outputs": [
    {
     "name": "stdout",
     "output_type": "stream",
     "text": [
      "facet number: 8\n"
     ]
    },
    {
     "data": {
      "text/latex": [
       "$\\displaystyle b_{3} - 4 = -1$"
      ],
      "text/plain": [
       "Eq(b3 - 4, -1)"
      ]
     },
     "metadata": {},
     "output_type": "display_data"
    },
    {
     "name": "stdout",
     "output_type": "stream",
     "text": [
      "facet number: 9\n"
     ]
    },
    {
     "data": {
      "text/latex": [
       "$\\displaystyle - b_{3} = -1$"
      ],
      "text/plain": [
       "Eq(-b3, -1)"
      ]
     },
     "metadata": {},
     "output_type": "display_data"
    },
    {
     "name": "stdout",
     "output_type": "stream",
     "text": [
      "no solution\n"
     ]
    }
   ],
   "source": [
    "i=8\n",
    "print('facet number:', i)\n",
    "display(sp.Eq(C.determinants[i], C.orientation[i]))\n",
    "\n",
    "i=9\n",
    "print('facet number:', i)\n",
    "display(sp.Eq(C.determinants[i], C.orientation[i]))\n",
    "\n",
    "print('no solution')"
   ]
  },
  {
   "cell_type": "markdown",
   "id": "b7b93f75-083d-4441-a8c2-844a38f2c6cf",
   "metadata": {
    "jp-MarkdownHeadingCollapsed": true
   },
   "source": [
    "# Type 15 of the projection"
   ]
  },
  {
   "cell_type": "code",
   "execution_count": 153,
   "id": "af59d645-c8dc-4b33-b527-4510e69a84b5",
   "metadata": {},
   "outputs": [],
   "source": [
    "C1 = copy.deepcopy(C0)\n",
    "C = C1\n",
    "t=15"
   ]
  },
  {
   "cell_type": "code",
   "execution_count": 155,
   "id": "6aa4a4a1-f47c-434e-8bdd-fb6defbe50bd",
   "metadata": {},
   "outputs": [
    {
     "data": {
      "text/latex": [
       "$\\displaystyle \\left[\\begin{matrix}1 & 0 & 0 & -1 & b_{0} & c_{0} & d_{0}\\\\0 & 1 & 0 & a_{1} & -1 & c_{1} & d_{1}\\\\0 & 0 & 1 & a_{2} & b_{2} & -1 & d_{2}\\end{matrix}\\right] = \\left[\\begin{matrix}1 & 0 & 0 & -1 & 0 & 1 & d_{0}\\\\0 & 1 & 0 & 1 & -1 & 0 & d_{1}\\\\0 & 0 & 1 & 0 & 1 & -1 & - d_{0} - d_{1} - 1\\end{matrix}\\right]$"
      ],
      "text/plain": [
       "Eq(Matrix([\n",
       "[1, 0, 0, -1, b0, c0, d0],\n",
       "[0, 1, 0, a1, -1, c1, d1],\n",
       "[0, 0, 1, a2, b2, -1, d2]]), Matrix([\n",
       "[1, 0, 0, -1,  0,  1,           d0],\n",
       "[0, 1, 0,  1, -1,  0,           d1],\n",
       "[0, 0, 1,  0,  1, -1, -d0 - d1 - 1]]))"
      ]
     },
     "metadata": {},
     "output_type": "display_data"
    },
    {
     "data": {
      "text/latex": [
       "$\\displaystyle \\text{True}$"
      ],
      "text/plain": [
       "True"
      ]
     },
     "metadata": {},
     "output_type": "display_data"
    }
   ],
   "source": [
    "proj = C.proj([4])\n",
    "with sp.evaluate(False):\n",
    "    display(sp.Eq(proj, fans_link[t]))\n",
    "\n",
    "C.subs(a1, 1)\n",
    "C.subs(a2, 0)\n",
    "C.subs(b0, 0)\n",
    "C.subs(b2, 1)\n",
    "C.subs(c0, 1)\n",
    "C.subs(c1, 0)\n",
    "C.subs(d2, -d0-d1-1)\n",
    "\n",
    "display(sp.Eq(C.proj([4]), fans_link[t]))"
   ]
  },
  {
   "cell_type": "code",
   "execution_count": 157,
   "id": "ddac9404-b90f-45f4-b3ba-ac754d04a135",
   "metadata": {},
   "outputs": [
    {
     "name": "stdout",
     "output_type": "stream",
     "text": [
      "facet number: 11\n"
     ]
    },
    {
     "data": {
      "text/latex": [
       "$\\displaystyle 1 - a_{3} = 1$"
      ],
      "text/plain": [
       "Eq(1 - a3, 1)"
      ]
     },
     "metadata": {},
     "output_type": "display_data"
    }
   ],
   "source": [
    "i=11\n",
    "print('facet number:', i)\n",
    "display(sp.Eq(C.determinants[i], C.orientation[i]))\n",
    "\n",
    "C.subs(a3, 0)"
   ]
  },
  {
   "cell_type": "code",
   "execution_count": 159,
   "id": "862dda12-2427-4ac9-87fb-03b9ebdb1cf7",
   "metadata": {},
   "outputs": [
    {
     "name": "stdout",
     "output_type": "stream",
     "text": [
      "facet number: 4\n"
     ]
    },
    {
     "data": {
      "text/latex": [
       "$\\displaystyle - b_{3} = 1$"
      ],
      "text/plain": [
       "Eq(-b3, 1)"
      ]
     },
     "metadata": {},
     "output_type": "display_data"
    }
   ],
   "source": [
    "i=4\n",
    "print('facet number:', i)\n",
    "display(sp.Eq(C.determinants[i], C.orientation[i]))\n",
    "\n",
    "C.subs(b3, -1)"
   ]
  },
  {
   "cell_type": "code",
   "execution_count": 161,
   "id": "cb8f2217-1881-43b4-91b6-6cfbe363bbc5",
   "metadata": {},
   "outputs": [
    {
     "name": "stdout",
     "output_type": "stream",
     "text": [
      "facet number: 5\n"
     ]
    },
    {
     "data": {
      "text/latex": [
       "$\\displaystyle - d_{3} = -1$"
      ],
      "text/plain": [
       "Eq(-d3, -1)"
      ]
     },
     "metadata": {},
     "output_type": "display_data"
    }
   ],
   "source": [
    "i=5\n",
    "print('facet number:', i)\n",
    "display(sp.Eq(C.determinants[i], C.orientation[i]))\n",
    "\n",
    "C.subs(d3, 1)"
   ]
  },
  {
   "cell_type": "code",
   "execution_count": 163,
   "id": "4bec698a-978d-48be-800c-4b2b6902c665",
   "metadata": {},
   "outputs": [
    {
     "name": "stdout",
     "output_type": "stream",
     "text": [
      "facet number: 6\n"
     ]
    },
    {
     "data": {
      "text/latex": [
       "$\\displaystyle - d_{1} = 1$"
      ],
      "text/plain": [
       "Eq(-d1, 1)"
      ]
     },
     "metadata": {},
     "output_type": "display_data"
    }
   ],
   "source": [
    "i=6\n",
    "print('facet number:', i)\n",
    "display(sp.Eq(C.determinants[i], C.orientation[i]))\n",
    "\n",
    "C.subs(d1, -1)"
   ]
  },
  {
   "cell_type": "code",
   "execution_count": 165,
   "id": "60099f83-85b0-4b83-b65e-9708454042d5",
   "metadata": {},
   "outputs": [
    {
     "name": "stdout",
     "output_type": "stream",
     "text": [
      "facet number: 8\n"
     ]
    },
    {
     "data": {
      "text/latex": [
       "$\\displaystyle 1 - d_{0} = -1$"
      ],
      "text/plain": [
       "Eq(1 - d0, -1)"
      ]
     },
     "metadata": {},
     "output_type": "display_data"
    },
    {
     "name": "stdout",
     "output_type": "stream",
     "text": [
      "facet number: 9\n"
     ]
    },
    {
     "data": {
      "text/latex": [
       "$\\displaystyle d_{0} + 3 = -1$"
      ],
      "text/plain": [
       "Eq(d0 + 3, -1)"
      ]
     },
     "metadata": {},
     "output_type": "display_data"
    },
    {
     "name": "stdout",
     "output_type": "stream",
     "text": [
      "no solution\n"
     ]
    }
   ],
   "source": [
    "i=8\n",
    "print('facet number:', i)\n",
    "display(sp.Eq(C.determinants[i], C.orientation[i]))\n",
    "\n",
    "i=9\n",
    "print('facet number:', i)\n",
    "display(sp.Eq(C.determinants[i], C.orientation[i]))\n",
    "\n",
    "print('no solution')"
   ]
  },
  {
   "cell_type": "markdown",
   "id": "846c9b34-89a7-4855-93eb-d5752f5ba74d",
   "metadata": {
    "jp-MarkdownHeadingCollapsed": true
   },
   "source": [
    "# There are 2 types of fans up to D-J equivalence"
   ]
  },
  {
   "cell_type": "code",
   "execution_count": 168,
   "id": "62ac35e4-4bfd-4e6f-9319-cd2b91b42bb0",
   "metadata": {},
   "outputs": [
    {
     "data": {
      "text/latex": [
       "$\\displaystyle \\left[\\begin{matrix}1 & 0 & 0 & 0 & -1 & 1 & 0 & 0\\\\0 & 1 & 0 & 0 & 0 & -1 & 2 & 1\\\\0 & 0 & 1 & 0 & 0 & 0 & -1 & -1\\\\0 & 0 & 0 & 1 & -1 & 1 & -1 & -1\\end{matrix}\\right]$"
      ],
      "text/plain": [
       "Matrix([\n",
       "[1, 0, 0, 0, -1,  1,  0,  0],\n",
       "[0, 1, 0, 0,  0, -1,  2,  1],\n",
       "[0, 0, 1, 0,  0,  0, -1, -1],\n",
       "[0, 0, 0, 1, -1,  1, -1, -1]])"
      ]
     },
     "metadata": {},
     "output_type": "display_data"
    },
    {
     "data": {
      "text/latex": [
       "$\\displaystyle \\left[\\begin{matrix}1 & 0 & 0 & 0 & -1 & 0 & 0 & -1\\\\0 & 1 & 0 & 0 & -2 & -1 & 2 & -1\\\\0 & 0 & 1 & 0 & 1 & 0 & -1 & 0\\\\0 & 0 & 0 & 1 & 1 & 1 & -1 & 0\\end{matrix}\\right]$"
      ],
      "text/plain": [
       "Matrix([\n",
       "[1, 0, 0, 0, -1,  0,  0, -1],\n",
       "[0, 1, 0, 0, -2, -1,  2, -1],\n",
       "[0, 0, 1, 0,  1,  0, -1,  0],\n",
       "[0, 0, 0, 1,  1,  1, -1,  0]])"
      ]
     },
     "metadata": {},
     "output_type": "display_data"
    }
   ],
   "source": [
    "for f in fans:\n",
    "    display(f)"
   ]
  },
  {
   "cell_type": "markdown",
   "id": "9604d723-2ba9-489c-baed-59f9f00dc1e2",
   "metadata": {
    "jp-MarkdownHeadingCollapsed": true
   },
   "source": [
    "# There is 1 type of fan up to D-J equivalence and symmetry"
   ]
  },
  {
   "cell_type": "code",
   "execution_count": 169,
   "id": "8411fb09-77c4-4df5-b61b-dcf4f2a273e7",
   "metadata": {},
   "outputs": [
    {
     "data": {
      "text/plain": [
       "[[1, 2, 3, 4, 5, 6, 7, 8], [5, 2, 3, 7, 1, 8, 4, 6]]"
      ]
     },
     "execution_count": 169,
     "metadata": {},
     "output_type": "execute_result"
    }
   ],
   "source": [
    "K.symmetries"
   ]
  },
  {
   "cell_type": "code",
   "execution_count": 170,
   "id": "36fd3099-b185-42ea-b098-65c2a3d9612e",
   "metadata": {},
   "outputs": [],
   "source": [
    "symm_index = [(np.array(i)-1).tolist() for i in K.symmetries]"
   ]
  },
  {
   "cell_type": "code",
   "execution_count": 171,
   "id": "3b0d000c-1528-4004-af53-87e2a14458d5",
   "metadata": {},
   "outputs": [
    {
     "data": {
      "text/latex": [
       "$\\displaystyle \\left[\\begin{matrix}1 & 0 & 0 & 0 & -1 & 0 & 0 & -1\\\\0 & 1 & 0 & 0 & -2 & -1 & 2 & -1\\\\0 & 0 & 1 & 0 & 1 & 0 & -1 & 0\\\\0 & 0 & 0 & 1 & 1 & 1 & -1 & 0\\end{matrix}\\right]$"
      ],
      "text/plain": [
       "Matrix([\n",
       "[1, 0, 0, 0, -1,  0,  0, -1],\n",
       "[0, 1, 0, 0, -2, -1,  2, -1],\n",
       "[0, 0, 1, 0,  1,  0, -1,  0],\n",
       "[0, 0, 0, 1,  1,  1, -1,  0]])"
      ]
     },
     "metadata": {},
     "output_type": "display_data"
    },
    {
     "data": {
      "text/latex": [
       "$\\displaystyle \\left[\\begin{matrix}1 & 0 & 0 & 0 & -1 & 0 & 0 & -1\\\\0 & 1 & 0 & 0 & -2 & -1 & 2 & -1\\\\0 & 0 & 1 & 0 & 1 & 0 & -1 & 0\\\\0 & 0 & 0 & 1 & 1 & 1 & -1 & 0\\end{matrix}\\right]$"
      ],
      "text/plain": [
       "Matrix([\n",
       "[1, 0, 0, 0, -1,  0,  0, -1],\n",
       "[0, 1, 0, 0, -2, -1,  2, -1],\n",
       "[0, 0, 1, 0,  1,  0, -1,  0],\n",
       "[0, 0, 0, 1,  1,  1, -1,  0]])"
      ]
     },
     "metadata": {},
     "output_type": "display_data"
    }
   ],
   "source": [
    "display(fans[0][:, symm_index[1]].rref()[0])\n",
    "display(fans[1])"
   ]
  }
 ],
 "metadata": {
  "kernelspec": {
   "display_name": "Python 3 (ipykernel)",
   "language": "python",
   "name": "python3"
  },
  "language_info": {
   "codemirror_mode": {
    "name": "ipython",
    "version": 3
   },
   "file_extension": ".py",
   "mimetype": "text/x-python",
   "name": "python",
   "nbconvert_exporter": "python",
   "pygments_lexer": "ipython3",
   "version": "3.12.7"
  }
 },
 "nbformat": 4,
 "nbformat_minor": 5
}
