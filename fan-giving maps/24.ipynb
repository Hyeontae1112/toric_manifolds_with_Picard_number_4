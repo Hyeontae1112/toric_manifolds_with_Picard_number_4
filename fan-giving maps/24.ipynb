{
 "cells": [
  {
   "cell_type": "markdown",
   "id": "88a45b06-0c2e-495c-8130-a3b2b9b21bd8",
   "metadata": {
    "jp-MarkdownHeadingCollapsed": true
   },
   "source": [
    "# Preparation"
   ]
  },
  {
   "cell_type": "code",
   "execution_count": 1,
   "id": "a8d1a5a8-1e28-4abe-bbe4-1188621c64ca",
   "metadata": {},
   "outputs": [],
   "source": [
    "%run programs\\\\Characteristic_Pair.py\n",
    "import copy\n",
    "\n",
    "fanlikes_index=24\n",
    "projectied_vertex=5\n",
    "link_index=12\n",
    "\n",
    "K = Simplicial_Complex(json.loads(read_file('programs\\\\fanlikes')[fanlikes_index]))\n",
    "M = initial_char(K.n)\n",
    "C0 = Characteristic_Pair(K, M)\n",
    "fans = []\n",
    "\n",
    "a = sp.symbols('a0:%d'%K.n)\n",
    "b = sp.symbols('b0:%d'%K.n)\n",
    "c = sp.symbols('c0:%d'%K.n)\n",
    "d = sp.symbols('d0:%d'%K.n)\n",
    "\n",
    "a0, a1, a2, a3, a4 = a[:]\n",
    "b0, b1, b2, b3, b4 = b[:]\n",
    "c0, c1, c2, c3, c4 = c[:]\n",
    "d0, d1, d2, d3, d4 = d[:]"
   ]
  },
  {
   "cell_type": "code",
   "execution_count": 2,
   "id": "22341429-16ec-4752-9dab-2c617ed14844",
   "metadata": {},
   "outputs": [
    {
     "data": {
      "text/latex": [
       "$\\displaystyle \\left[\\begin{matrix}1 & 0 & 0 & 0 & 0 & a_{0} & b_{0} & c_{0} & d_{0}\\\\0 & 1 & 0 & 0 & 0 & a_{1} & b_{1} & c_{1} & d_{1}\\\\0 & 0 & 1 & 0 & 0 & a_{2} & b_{2} & c_{2} & d_{2}\\\\0 & 0 & 0 & 1 & 0 & a_{3} & b_{3} & c_{3} & d_{3}\\\\0 & 0 & 0 & 0 & 1 & a_{4} & b_{4} & c_{4} & d_{4}\\end{matrix}\\right]$"
      ],
      "text/plain": [
       "Matrix([\n",
       "[1, 0, 0, 0, 0, a0, b0, c0, d0],\n",
       "[0, 1, 0, 0, 0, a1, b1, c1, d1],\n",
       "[0, 0, 1, 0, 0, a2, b2, c2, d2],\n",
       "[0, 0, 0, 1, 0, a3, b3, c3, d3],\n",
       "[0, 0, 0, 0, 1, a4, b4, c4, d4]])"
      ]
     },
     "execution_count": 2,
     "metadata": {},
     "output_type": "execute_result"
    }
   ],
   "source": [
    "C = C0\n",
    "C.char"
   ]
  },
  {
   "cell_type": "code",
   "execution_count": 4,
   "id": "0d4234c5-d2ad-43f2-bcf2-53df6f518fc0",
   "metadata": {},
   "outputs": [
    {
     "name": "stdout",
     "output_type": "stream",
     "text": [
      "facet number: 6\n"
     ]
    },
    {
     "data": {
      "text/latex": [
       "$\\displaystyle - a_{1} = 1$"
      ],
      "text/plain": [
       "Eq(-a1, 1)"
      ]
     },
     "metadata": {},
     "output_type": "display_data"
    },
    {
     "name": "stdout",
     "output_type": "stream",
     "text": [
      "facet number: 1\n"
     ]
    },
    {
     "data": {
      "text/latex": [
       "$\\displaystyle a_{4} = -1$"
      ],
      "text/plain": [
       "Eq(a4, -1)"
      ]
     },
     "metadata": {},
     "output_type": "display_data"
    },
    {
     "name": "stdout",
     "output_type": "stream",
     "text": [
      "facet number: 16\n"
     ]
    },
    {
     "data": {
      "text/latex": [
       "$\\displaystyle b_{0} = -1$"
      ],
      "text/plain": [
       "Eq(b0, -1)"
      ]
     },
     "metadata": {},
     "output_type": "display_data"
    },
    {
     "name": "stdout",
     "output_type": "stream",
     "text": [
      "facet number: 4\n"
     ]
    },
    {
     "data": {
      "text/latex": [
       "$\\displaystyle d_{2} = -1$"
      ],
      "text/plain": [
       "Eq(d2, -1)"
      ]
     },
     "metadata": {},
     "output_type": "display_data"
    },
    {
     "name": "stdout",
     "output_type": "stream",
     "text": [
      "facet number: 2\n"
     ]
    },
    {
     "data": {
      "text/latex": [
       "$\\displaystyle - d_{3} = 1$"
      ],
      "text/plain": [
       "Eq(-d3, 1)"
      ]
     },
     "metadata": {},
     "output_type": "display_data"
    }
   ],
   "source": [
    "i=6\n",
    "print('facet number:', i)\n",
    "display(sp.Eq(C.determinants[i], C.orientation[i]))\n",
    "\n",
    "i=1\n",
    "print('facet number:', i)\n",
    "display(sp.Eq(C.determinants[i], C.orientation[i]))\n",
    "\n",
    "i=16\n",
    "print('facet number:', i)\n",
    "display(sp.Eq(C.determinants[i], C.orientation[i]))\n",
    "\n",
    "i=4\n",
    "print('facet number:', i)\n",
    "display(sp.Eq(C.determinants[i], C.orientation[i]))\n",
    "\n",
    "i=2\n",
    "print('facet number:', i)\n",
    "display(sp.Eq(C.determinants[i], C.orientation[i]))\n",
    "\n",
    "C.subs(a1, -1)\n",
    "C.subs(a4, -1)\n",
    "C.subs(b0, -1)\n",
    "C.subs(d2, -1)\n",
    "C.subs(d3, -1)"
   ]
  },
  {
   "cell_type": "markdown",
   "id": "7ccb2119-3126-4c0b-8022-d88dc46dd725",
   "metadata": {
    "jp-MarkdownHeadingCollapsed": true
   },
   "source": [
    "# The projection with respect to 5"
   ]
  },
  {
   "cell_type": "code",
   "execution_count": 5,
   "id": "0e323cef-c0a2-46e2-9a4a-ae5e50771989",
   "metadata": {},
   "outputs": [
    {
     "name": "stdout",
     "output_type": "stream",
     "text": [
      "[[1, 2, 3, 4], [1, 2, 3, 9], [1, 2, 4, 9], [1, 3, 4, 6], [1, 3, 6, 9], [1, 4, 6, 7], [1, 4, 7, 8], [1, 4, 8, 9], [1, 6, 7, 8], [1, 6, 8, 9], [2, 3, 4, 7], [2, 3, 7, 8], [2, 3, 8, 9], [2, 4, 7, 8], [2, 4, 8, 9], [3, 4, 6, 7], [3, 6, 7, 8], [3, 6, 8, 9]]\n"
     ]
    }
   ],
   "source": [
    "print(Link(K, [projectied_vertex]).cpx)"
   ]
  },
  {
   "cell_type": "code",
   "execution_count": 6,
   "id": "f30eb303-c49a-4ce3-8acd-ff8035ccc85e",
   "metadata": {},
   "outputs": [
    {
     "name": "stdout",
     "output_type": "stream",
     "text": [
      "[[1, 2, 3, 4], [1, 2, 3, 8], [1, 2, 4, 8], [1, 3, 4, 5], [1, 3, 5, 8], [1, 4, 5, 6], [1, 4, 6, 7], [1, 4, 7, 8], [1, 5, 6, 7], [1, 5, 7, 8], [2, 3, 4, 6], [2, 3, 6, 7], [2, 3, 7, 8], [2, 4, 6, 7], [2, 4, 7, 8], [3, 4, 5, 6], [3, 5, 6, 7], [3, 5, 7, 8]]\n"
     ]
    }
   ],
   "source": [
    "print(json.loads(read_file('programs\\\\fanlikes')[link_index]))"
   ]
  },
  {
   "cell_type": "code",
   "execution_count": 7,
   "id": "df140542-cdf9-4552-9612-b989fd3da923",
   "metadata": {},
   "outputs": [
    {
     "name": "stdout",
     "output_type": "stream",
     "text": [
      "[[1, 2, 3, 4], [1, 2, 3, 8], [1, 2, 4, 8], [1, 3, 4, 5], [1, 3, 5, 8], [1, 4, 5, 6], [1, 4, 6, 7], [1, 4, 7, 8], [1, 5, 6, 7], [1, 5, 7, 8], [2, 3, 4, 6], [2, 3, 6, 7], [2, 3, 7, 8], [2, 4, 6, 7], [2, 4, 7, 8], [3, 4, 5, 6], [3, 5, 6, 7], [3, 5, 7, 8]]\n"
     ]
    },
    {
     "data": {
      "text/plain": [
       "True"
      ]
     },
     "execution_count": 7,
     "metadata": {},
     "output_type": "execute_result"
    }
   ],
   "source": [
    "L=[] # making the vertices of the link consecutive\n",
    "for l in Link(K, [projectied_vertex]).cpx:\n",
    "    L.append([])\n",
    "    for v in l:\n",
    "        if v>projectied_vertex:\n",
    "            L[-1].append(v-1)\n",
    "        else:\n",
    "            L[-1].append(v)\n",
    "print(L)\n",
    "L==json.loads(read_file('programs\\\\fanlikes')[link_index])"
   ]
  },
  {
   "cell_type": "code",
   "execution_count": 8,
   "id": "819b93af-0d9f-4aa9-912b-371f2dda7836",
   "metadata": {},
   "outputs": [
    {
     "data": {
      "text/latex": [
       "$\\displaystyle \\left[\\begin{matrix}1 & 0 & 0 & 0 & a_{0} & -1 & c_{0} & d_{0}\\\\0 & 1 & 0 & 0 & -1 & b_{1} & c_{1} & d_{1}\\\\0 & 0 & 1 & 0 & a_{2} & b_{2} & c_{2} & -1\\\\0 & 0 & 0 & 1 & a_{3} & b_{3} & c_{3} & -1\\end{matrix}\\right]$"
      ],
      "text/plain": [
       "Matrix([\n",
       "[1, 0, 0, 0, a0, -1, c0, d0],\n",
       "[0, 1, 0, 0, -1, b1, c1, d1],\n",
       "[0, 0, 1, 0, a2, b2, c2, -1],\n",
       "[0, 0, 0, 1, a3, b3, c3, -1]])"
      ]
     },
     "metadata": {},
     "output_type": "display_data"
    }
   ],
   "source": [
    "display(C.proj([projectied_vertex]))"
   ]
  },
  {
   "cell_type": "markdown",
   "id": "dbcfd1c6-d2b6-4db0-81c1-f5fb1408a298",
   "metadata": {
    "jp-MarkdownHeadingCollapsed": true
   },
   "source": [
    "# The projection has 8 types of fans up to D-J equivalence"
   ]
  },
  {
   "cell_type": "code",
   "execution_count": 9,
   "id": "ed179421-0afe-4afc-b868-2c1c3dbe28e5",
   "metadata": {},
   "outputs": [],
   "source": [
    "import pickle\n",
    "with open('programs\\\\pickle_files\\\\%d_up_to_DJ.p'%(link_index), 'rb') as f:\n",
    "    fans_link = pickle.load(f)"
   ]
  },
  {
   "cell_type": "code",
   "execution_count": 10,
   "id": "934c9089-0a81-48c2-b920-150496633535",
   "metadata": {},
   "outputs": [
    {
     "data": {
      "text/latex": [
       "$\\displaystyle \\left[\\begin{matrix}1 & 0 & 0 & 0 & a_{0} & -1 & -1 & 0\\\\0 & 1 & 0 & 0 & -1 & 0 & 1 & 1\\\\0 & 0 & 1 & 0 & a_{2} & -1 & -2 & -1\\\\0 & 0 & 0 & 1 & 0 & 0 & -1 & -1\\end{matrix}\\right]$"
      ],
      "text/plain": [
       "Matrix([\n",
       "[1, 0, 0, 0, a0, -1, -1,  0],\n",
       "[0, 1, 0, 0, -1,  0,  1,  1],\n",
       "[0, 0, 1, 0, a2, -1, -2, -1],\n",
       "[0, 0, 0, 1,  0,  0, -1, -1]])"
      ]
     },
     "metadata": {},
     "output_type": "display_data"
    },
    {
     "data": {
      "text/latex": [
       "$\\displaystyle \\left[\\begin{matrix}1 & 0 & 0 & 0 & 0 & -1 & -1 & d_{0}\\\\0 & 1 & 0 & 0 & -1 & -2 & -1 & d_{1}\\\\0 & 0 & 1 & 0 & 1 & 1 & 0 & -1\\\\0 & 0 & 0 & 1 & 0 & 1 & 0 & -1\\end{matrix}\\right]$"
      ],
      "text/plain": [
       "Matrix([\n",
       "[1, 0, 0, 0,  0, -1, -1, d0],\n",
       "[0, 1, 0, 0, -1, -2, -1, d1],\n",
       "[0, 0, 1, 0,  1,  1,  0, -1],\n",
       "[0, 0, 0, 1,  0,  1,  0, -1]])"
      ]
     },
     "metadata": {},
     "output_type": "display_data"
    },
    {
     "data": {
      "text/latex": [
       "$\\displaystyle \\left[\\begin{matrix}1 & 0 & 0 & 0 & 0 & -1 & -1 & 0\\\\0 & 1 & 0 & 0 & -1 & d_{1} - 1 & 2 d_{1} - 1 & d_{1}\\\\0 & 0 & 1 & 0 & 0 & -1 & -2 & -1\\\\0 & 0 & 0 & 1 & 0 & 0 & -1 & -1\\end{matrix}\\right]$"
      ],
      "text/plain": [
       "Matrix([\n",
       "[1, 0, 0, 0,  0,     -1,       -1,  0],\n",
       "[0, 1, 0, 0, -1, d1 - 1, 2*d1 - 1, d1],\n",
       "[0, 0, 1, 0,  0,     -1,       -2, -1],\n",
       "[0, 0, 0, 1,  0,      0,       -1, -1]])"
      ]
     },
     "metadata": {},
     "output_type": "display_data"
    },
    {
     "data": {
      "text/latex": [
       "$\\displaystyle \\left[\\begin{matrix}1 & 0 & 0 & 0 & 0 & -1 & - c_{3} - 1 & 1\\\\0 & 1 & 0 & 0 & -1 & -2 & - 2 c_{3} - 1 & 2\\\\0 & 0 & 1 & 0 & 1 & 1 & c_{3} & -1\\\\0 & 0 & 0 & 1 & 0 & 1 & c_{3} & -1\\end{matrix}\\right]$"
      ],
      "text/plain": [
       "Matrix([\n",
       "[1, 0, 0, 0,  0, -1,   -c3 - 1,  1],\n",
       "[0, 1, 0, 0, -1, -2, -2*c3 - 1,  2],\n",
       "[0, 0, 1, 0,  1,  1,        c3, -1],\n",
       "[0, 0, 0, 1,  0,  1,        c3, -1]])"
      ]
     },
     "metadata": {},
     "output_type": "display_data"
    },
    {
     "data": {
      "text/latex": [
       "$\\displaystyle \\left[\\begin{matrix}1 & 0 & 0 & 0 & 0 & -1 & d_{0} - 1 & d_{0}\\\\0 & 1 & 0 & 0 & -1 & -1 & d_{1} - 1 & d_{1}\\\\0 & 0 & 1 & 0 & 1 & 0 & -1 & -1\\\\0 & 0 & 0 & 1 & 0 & 0 & -1 & -1\\end{matrix}\\right]$"
      ],
      "text/plain": [
       "Matrix([\n",
       "[1, 0, 0, 0,  0, -1, d0 - 1, d0],\n",
       "[0, 1, 0, 0, -1, -1, d1 - 1, d1],\n",
       "[0, 0, 1, 0,  1,  0,     -1, -1],\n",
       "[0, 0, 0, 1,  0,  0,     -1, -1]])"
      ]
     },
     "metadata": {},
     "output_type": "display_data"
    },
    {
     "data": {
      "text/latex": [
       "$\\displaystyle \\left[\\begin{matrix}1 & 0 & 0 & 0 & 0 & -1 & 0 & 1\\\\0 & 1 & 0 & 0 & -1 & b_{1} & 1 & 2\\\\0 & 0 & 1 & 0 & 1 & - b_{1} - 1 & -1 & -1\\\\0 & 0 & 0 & 1 & 0 & b_{3} & -1 & -1\\end{matrix}\\right]$"
      ],
      "text/plain": [
       "Matrix([\n",
       "[1, 0, 0, 0,  0,      -1,  0,  1],\n",
       "[0, 1, 0, 0, -1,      b1,  1,  2],\n",
       "[0, 0, 1, 0,  1, -b1 - 1, -1, -1],\n",
       "[0, 0, 0, 1,  0,      b3, -1, -1]])"
      ]
     },
     "metadata": {},
     "output_type": "display_data"
    },
    {
     "data": {
      "text/latex": [
       "$\\displaystyle \\left[\\begin{matrix}1 & 0 & 0 & 0 & 0 & -1 & -1 & 0\\\\0 & 1 & 0 & 0 & -1 & - c_{2} - 2 & - c_{2} - 1 & 1\\\\0 & 0 & 1 & 0 & 1 & c_{2} + 1 & c_{2} & -1\\\\0 & 0 & 0 & 1 & 0 & c_{3} + 1 & c_{3} & -1\\end{matrix}\\right]$"
      ],
      "text/plain": [
       "Matrix([\n",
       "[1, 0, 0, 0,  0,      -1,      -1,  0],\n",
       "[0, 1, 0, 0, -1, -c2 - 2, -c2 - 1,  1],\n",
       "[0, 0, 1, 0,  1,  c2 + 1,      c2, -1],\n",
       "[0, 0, 0, 1,  0,  c3 + 1,      c3, -1]])"
      ]
     },
     "metadata": {},
     "output_type": "display_data"
    },
    {
     "data": {
      "text/latex": [
       "$\\displaystyle \\left[\\begin{matrix}1 & 0 & 0 & 0 & 0 & -1 & -1 & 0\\\\0 & 1 & 0 & 0 & -1 & -1 & -1 & 0\\\\0 & 0 & 1 & 0 & c_{2} + 2 & c_{2} + 1 & c_{2} & -1\\\\0 & 0 & 0 & 1 & c_{3} + 1 & c_{3} + 1 & c_{3} & -1\\end{matrix}\\right]$"
      ],
      "text/plain": [
       "Matrix([\n",
       "[1, 0, 0, 0,      0,     -1, -1,  0],\n",
       "[0, 1, 0, 0,     -1,     -1, -1,  0],\n",
       "[0, 0, 1, 0, c2 + 2, c2 + 1, c2, -1],\n",
       "[0, 0, 0, 1, c3 + 1, c3 + 1, c3, -1]])"
      ]
     },
     "metadata": {},
     "output_type": "display_data"
    }
   ],
   "source": [
    "for f in fans_link:\n",
    "    display(f)"
   ]
  },
  {
   "cell_type": "markdown",
   "id": "ff605ab7-f715-404f-810b-92bbab3fc765",
   "metadata": {
    "jp-MarkdownHeadingCollapsed": true
   },
   "source": [
    "# Type 0 of the projection"
   ]
  },
  {
   "cell_type": "code",
   "execution_count": 45,
   "id": "aa377bcd-fa7a-48f6-92c4-ac15a279853d",
   "metadata": {},
   "outputs": [
    {
     "data": {
      "text/latex": [
       "$\\displaystyle \\left[\\begin{matrix}1 & 0 & 0 & 0 & a_{0} & -1 & c_{0} & d_{0}\\\\0 & 1 & 0 & 0 & -1 & b_{1} & c_{1} & d_{1}\\\\0 & 0 & 1 & 0 & a_{2} & b_{2} & c_{2} & -1\\\\0 & 0 & 0 & 1 & a_{3} & b_{3} & c_{3} & -1\\end{matrix}\\right] = \\left[\\begin{matrix}1 & 0 & 0 & 0 & a_{0} & -1 & -1 & 0\\\\0 & 1 & 0 & 0 & -1 & 0 & 1 & 1\\\\0 & 0 & 1 & 0 & a_{2} & -1 & -2 & -1\\\\0 & 0 & 0 & 1 & 0 & 0 & -1 & -1\\end{matrix}\\right]$"
      ],
      "text/plain": [
       "Eq(Matrix([\n",
       "[1, 0, 0, 0, a0, -1, c0, d0],\n",
       "[0, 1, 0, 0, -1, b1, c1, d1],\n",
       "[0, 0, 1, 0, a2, b2, c2, -1],\n",
       "[0, 0, 0, 1, a3, b3, c3, -1]]), Matrix([\n",
       "[1, 0, 0, 0, a0, -1, -1,  0],\n",
       "[0, 1, 0, 0, -1,  0,  1,  1],\n",
       "[0, 0, 1, 0, a2, -1, -2, -1],\n",
       "[0, 0, 0, 1,  0,  0, -1, -1]]))"
      ]
     },
     "metadata": {},
     "output_type": "display_data"
    }
   ],
   "source": [
    "C1 = copy.deepcopy(C0)\n",
    "C = C1\n",
    "t=0\n",
    "\n",
    "proj = C.proj([projectied_vertex])\n",
    "with sp.evaluate(False):\n",
    "    display(sp.Eq(proj, fans_link[t]))"
   ]
  },
  {
   "cell_type": "code",
   "execution_count": 46,
   "id": "41ea0310-b5cf-41e4-bb0a-cfb79222eb08",
   "metadata": {},
   "outputs": [
    {
     "data": {
      "text/latex": [
       "$\\displaystyle \\text{True}$"
      ],
      "text/plain": [
       "True"
      ]
     },
     "metadata": {},
     "output_type": "display_data"
    }
   ],
   "source": [
    "C.subs(a3, 0)\n",
    "C.subs(b1, 0)\n",
    "C.subs(b2, -1)\n",
    "C.subs(b3, 0)\n",
    "C.subs(c0, -1)\n",
    "C.subs(c1, 1)\n",
    "C.subs(c2, -2)\n",
    "C.subs(c3, -1)\n",
    "C.subs(d0, 0)\n",
    "C.subs(d1, 1)\n",
    "\n",
    "display(sp.Eq(C.proj([projectied_vertex]), fans_link[t]))"
   ]
  },
  {
   "cell_type": "code",
   "execution_count": 47,
   "id": "4019583a-9beb-4672-8c92-223ddea7e7e6",
   "metadata": {},
   "outputs": [
    {
     "name": "stdout",
     "output_type": "stream",
     "text": [
      "facet number: 17\n"
     ]
    },
    {
     "data": {
      "text/latex": [
       "$\\displaystyle - a_{0} b_{4} + 1 = 1$"
      ],
      "text/plain": [
       "Eq(-a0*b4 + 1, 1)"
      ]
     },
     "metadata": {},
     "output_type": "display_data"
    }
   ],
   "source": [
    "i=17\n",
    "print('facet number:', i)\n",
    "display(sp.Eq(C.determinants[i], C.orientation[i]))"
   ]
  },
  {
   "cell_type": "markdown",
   "id": "0ff80efa-8720-40b7-b2e9-e3f4140d4612",
   "metadata": {
    "jp-MarkdownHeadingCollapsed": true
   },
   "source": [
    "## $b_4=0$"
   ]
  },
  {
   "cell_type": "code",
   "execution_count": 48,
   "id": "cf418309-e443-4353-a003-8b164a07ee87",
   "metadata": {},
   "outputs": [],
   "source": [
    "C2 = copy.deepcopy(C1)\n",
    "C = C2\n",
    "C.subs(b4, 0)"
   ]
  },
  {
   "cell_type": "code",
   "execution_count": 49,
   "id": "9aa934ad-bddd-4c16-ba4d-5cedb9f344eb",
   "metadata": {},
   "outputs": [
    {
     "name": "stdout",
     "output_type": "stream",
     "text": [
      "facet number: 11\n"
     ]
    },
    {
     "data": {
      "text/latex": [
       "$\\displaystyle d_{4} - 1 = -1$"
      ],
      "text/plain": [
       "Eq(d4 - 1, -1)"
      ]
     },
     "metadata": {},
     "output_type": "display_data"
    }
   ],
   "source": [
    "i=11\n",
    "print('facet number:', i)\n",
    "display(sp.Eq(C.determinants[i], C.orientation[i]))\n",
    "\n",
    "C.subs(d4, 0)"
   ]
  },
  {
   "cell_type": "code",
   "execution_count": 50,
   "id": "66dc095e-9a18-4ea2-8401-6291c237e44c",
   "metadata": {},
   "outputs": [
    {
     "name": "stdout",
     "output_type": "stream",
     "text": [
      "facet number: 15\n"
     ]
    },
    {
     "data": {
      "text/latex": [
       "$\\displaystyle c_{4} = 1$"
      ],
      "text/plain": [
       "Eq(c4, 1)"
      ]
     },
     "metadata": {},
     "output_type": "display_data"
    }
   ],
   "source": [
    "i=15\n",
    "print('facet number:', i)\n",
    "display(sp.Eq(C.determinants[i], C.orientation[i]))\n",
    "\n",
    "C.subs(c4, 1)"
   ]
  },
  {
   "cell_type": "code",
   "execution_count": 52,
   "id": "1b3da9f8-2612-4ef4-a5da-4ed8f3886605",
   "metadata": {},
   "outputs": [
    {
     "name": "stdout",
     "output_type": "stream",
     "text": [
      "facet number: 21\n"
     ]
    },
    {
     "data": {
      "text/latex": [
       "$\\displaystyle a_{0} - 1 = -1$"
      ],
      "text/plain": [
       "Eq(a0 - 1, -1)"
      ]
     },
     "metadata": {},
     "output_type": "display_data"
    }
   ],
   "source": [
    "i=21\n",
    "print('facet number:', i)\n",
    "display(sp.Eq(C.determinants[i], C.orientation[i]))\n",
    "\n",
    "C.subs(a0, 0)"
   ]
  },
  {
   "cell_type": "code",
   "execution_count": 53,
   "id": "77d7a4b2-7cf2-4c5f-ab30-fc1cd6757fcc",
   "metadata": {},
   "outputs": [
    {
     "name": "stdout",
     "output_type": "stream",
     "text": [
      "facet number: 26\n"
     ]
    },
    {
     "data": {
      "text/latex": [
       "$\\displaystyle - a_{2} = -1$"
      ],
      "text/plain": [
       "Eq(-a2, -1)"
      ]
     },
     "metadata": {},
     "output_type": "display_data"
    }
   ],
   "source": [
    "i=26\n",
    "print('facet number:', i)\n",
    "display(sp.Eq(C.determinants[i], C.orientation[i]))\n",
    "\n",
    "C.subs(a2, 1)"
   ]
  },
  {
   "cell_type": "code",
   "execution_count": 55,
   "id": "caa63ec3-7095-4b75-80f0-55aa5e7c86fb",
   "metadata": {},
   "outputs": [
    {
     "data": {
      "text/latex": [
       "$\\displaystyle \\left[\\begin{matrix}1 & 0 & 0 & 0 & 0 & 0 & -1 & -1 & 0\\\\0 & 1 & 0 & 0 & 0 & -1 & 0 & 1 & 1\\\\0 & 0 & 1 & 0 & 0 & 1 & -1 & -2 & -1\\\\0 & 0 & 0 & 1 & 0 & 0 & 0 & -1 & -1\\\\0 & 0 & 0 & 0 & 1 & -1 & 0 & 1 & 0\\end{matrix}\\right]$"
      ],
      "text/plain": [
       "Matrix([\n",
       "[1, 0, 0, 0, 0,  0, -1, -1,  0],\n",
       "[0, 1, 0, 0, 0, -1,  0,  1,  1],\n",
       "[0, 0, 1, 0, 0,  1, -1, -2, -1],\n",
       "[0, 0, 0, 1, 0,  0,  0, -1, -1],\n",
       "[0, 0, 0, 0, 1, -1,  0,  1,  0]])"
      ]
     },
     "metadata": {},
     "output_type": "display_data"
    },
    {
     "name": "stdout",
     "output_type": "stream",
     "text": [
      "1\n"
     ]
    }
   ],
   "source": [
    "display(C.char)\n",
    "print(C.is_fangiving)\n",
    "fans.append(C.char)"
   ]
  },
  {
   "cell_type": "markdown",
   "id": "be62eb02-beb1-4982-b417-bb22d8b5e969",
   "metadata": {
    "jp-MarkdownHeadingCollapsed": true
   },
   "source": [
    "## $a_0=0$ ($b_4 \\not= 0$)"
   ]
  },
  {
   "cell_type": "code",
   "execution_count": 56,
   "id": "043dd1a4-999a-4425-a51c-fa200851aafe",
   "metadata": {},
   "outputs": [],
   "source": [
    "C2 = copy.deepcopy(C1)\n",
    "C = C2\n",
    "C.subs(a0, 0)"
   ]
  },
  {
   "cell_type": "code",
   "execution_count": 57,
   "id": "ece36fef-8574-43ee-917f-5d7a53f7008b",
   "metadata": {},
   "outputs": [
    {
     "name": "stdout",
     "output_type": "stream",
     "text": [
      "facet number: 5\n"
     ]
    },
    {
     "data": {
      "text/latex": [
       "$\\displaystyle - a_{2} d_{4} + 1 = 1$"
      ],
      "text/plain": [
       "Eq(-a2*d4 + 1, 1)"
      ]
     },
     "metadata": {},
     "output_type": "display_data"
    },
    {
     "name": "stdout",
     "output_type": "stream",
     "text": [
      "facet number: 26\n"
     ]
    },
    {
     "data": {
      "text/latex": [
       "$\\displaystyle a_{2} \\left(b_{4} - c_{4} + d_{4}\\right) = -1$"
      ],
      "text/plain": [
       "Eq(a2*(b4 - c4 + d4), -1)"
      ]
     },
     "metadata": {},
     "output_type": "display_data"
    }
   ],
   "source": [
    "i=5\n",
    "print('facet number:', i)\n",
    "display(sp.Eq(C.determinants[i], C.orientation[i]))\n",
    "\n",
    "i=26\n",
    "print('facet number:', i)\n",
    "display(sp.Eq(C.determinants[i], C.orientation[i]))\n",
    "\n",
    "C.subs(d4, 0)"
   ]
  },
  {
   "cell_type": "code",
   "execution_count": 58,
   "id": "6d2b420b-f1d3-48fe-b19c-a1d21ce7eef4",
   "metadata": {},
   "outputs": [
    {
     "name": "stdout",
     "output_type": "stream",
     "text": [
      "facet number: 11\n"
     ]
    },
    {
     "data": {
      "text/latex": [
       "$\\displaystyle a_{2} b_{4} - b_{4} - 1 = -1$"
      ],
      "text/plain": [
       "Eq(a2*b4 - b4 - 1, -1)"
      ]
     },
     "metadata": {},
     "output_type": "display_data"
    }
   ],
   "source": [
    "i=11\n",
    "print('facet number:', i)\n",
    "display(sp.Eq(C.determinants[i], C.orientation[i]))\n",
    "\n",
    "C.subs(a2, 1)"
   ]
  },
  {
   "cell_type": "code",
   "execution_count": 59,
   "id": "a3bb68f2-e5c9-4018-8d64-d529b4af8ab6",
   "metadata": {},
   "outputs": [
    {
     "name": "stdout",
     "output_type": "stream",
     "text": [
      "facet number: 12\n"
     ]
    },
    {
     "data": {
      "text/latex": [
       "$\\displaystyle b_{4} - c_{4} = -1$"
      ],
      "text/plain": [
       "Eq(b4 - c4, -1)"
      ]
     },
     "metadata": {},
     "output_type": "display_data"
    }
   ],
   "source": [
    "i=12\n",
    "print('facet number:', i)\n",
    "display(sp.Eq(C.determinants[i], C.orientation[i]))\n",
    "\n",
    "C.subs(c4, b4+1)"
   ]
  },
  {
   "cell_type": "code",
   "execution_count": 61,
   "id": "a1aff4c2-22e5-4496-9259-9afd47c43b94",
   "metadata": {},
   "outputs": [
    {
     "data": {
      "text/latex": [
       "$\\displaystyle \\left[\\begin{matrix}1 & 0 & 0 & 0 & 0 & 0 & -1 & -1 & 0\\\\0 & 1 & 0 & 0 & 0 & -1 & 0 & 1 & 1\\\\0 & 0 & 1 & 0 & 0 & 1 & -1 & -2 & -1\\\\0 & 0 & 0 & 1 & 0 & 0 & 0 & -1 & -1\\\\0 & 0 & 0 & 0 & 1 & -1 & b_{4} & b_{4} + 1 & 0\\end{matrix}\\right]$"
      ],
      "text/plain": [
       "Matrix([\n",
       "[1, 0, 0, 0, 0,  0, -1,     -1,  0],\n",
       "[0, 1, 0, 0, 0, -1,  0,      1,  1],\n",
       "[0, 0, 1, 0, 0,  1, -1,     -2, -1],\n",
       "[0, 0, 0, 1, 0,  0,  0,     -1, -1],\n",
       "[0, 0, 0, 0, 1, -1, b4, b4 + 1,  0]])"
      ]
     },
     "metadata": {},
     "output_type": "display_data"
    },
    {
     "name": "stdout",
     "output_type": "stream",
     "text": [
      "1\n"
     ]
    }
   ],
   "source": [
    "display(C.char)\n",
    "print(C.is_fangiving)\n",
    "fans.append(C.char)"
   ]
  },
  {
   "cell_type": "markdown",
   "id": "a7d16530-a1e4-4d26-8520-a6500c55086a",
   "metadata": {
    "jp-MarkdownHeadingCollapsed": true
   },
   "source": [
    "# Type 1 of the projection"
   ]
  },
  {
   "cell_type": "code",
   "execution_count": 62,
   "id": "fe961236-6c80-4a69-9c7c-3233152f28f2",
   "metadata": {},
   "outputs": [
    {
     "data": {
      "text/latex": [
       "$\\displaystyle \\left[\\begin{matrix}1 & 0 & 0 & 0 & a_{0} & -1 & c_{0} & d_{0}\\\\0 & 1 & 0 & 0 & -1 & b_{1} & c_{1} & d_{1}\\\\0 & 0 & 1 & 0 & a_{2} & b_{2} & c_{2} & -1\\\\0 & 0 & 0 & 1 & a_{3} & b_{3} & c_{3} & -1\\end{matrix}\\right] = \\left[\\begin{matrix}1 & 0 & 0 & 0 & 0 & -1 & -1 & d_{0}\\\\0 & 1 & 0 & 0 & -1 & -2 & -1 & d_{1}\\\\0 & 0 & 1 & 0 & 1 & 1 & 0 & -1\\\\0 & 0 & 0 & 1 & 0 & 1 & 0 & -1\\end{matrix}\\right]$"
      ],
      "text/plain": [
       "Eq(Matrix([\n",
       "[1, 0, 0, 0, a0, -1, c0, d0],\n",
       "[0, 1, 0, 0, -1, b1, c1, d1],\n",
       "[0, 0, 1, 0, a2, b2, c2, -1],\n",
       "[0, 0, 0, 1, a3, b3, c3, -1]]), Matrix([\n",
       "[1, 0, 0, 0,  0, -1, -1, d0],\n",
       "[0, 1, 0, 0, -1, -2, -1, d1],\n",
       "[0, 0, 1, 0,  1,  1,  0, -1],\n",
       "[0, 0, 0, 1,  0,  1,  0, -1]]))"
      ]
     },
     "metadata": {},
     "output_type": "display_data"
    }
   ],
   "source": [
    "C1 = copy.deepcopy(C0)\n",
    "C = C1\n",
    "t=1\n",
    "\n",
    "proj = C.proj([projectied_vertex])\n",
    "with sp.evaluate(False):\n",
    "    display(sp.Eq(proj, fans_link[t]))"
   ]
  },
  {
   "cell_type": "code",
   "execution_count": 63,
   "id": "4f4b7761-eb21-42a8-bf7c-7d8a7c7027db",
   "metadata": {},
   "outputs": [
    {
     "data": {
      "text/latex": [
       "$\\displaystyle \\text{True}$"
      ],
      "text/plain": [
       "True"
      ]
     },
     "metadata": {},
     "output_type": "display_data"
    }
   ],
   "source": [
    "C.subs(a0, 0)\n",
    "C.subs(a2, 1)\n",
    "C.subs(a3, 0)\n",
    "C.subs(b1, -2)\n",
    "C.subs(b2, 1)\n",
    "C.subs(b3, 1)\n",
    "C.subs(c0, -1)\n",
    "C.subs(c1, -1)\n",
    "C.subs(c2, 0)\n",
    "C.subs(c3, 0)\n",
    "\n",
    "display(sp.Eq(C.proj([projectied_vertex]), fans_link[t]))"
   ]
  },
  {
   "cell_type": "code",
   "execution_count": 64,
   "id": "6bc70476-43f2-448a-803a-4906a9ed882a",
   "metadata": {},
   "outputs": [
    {
     "name": "stdout",
     "output_type": "stream",
     "text": [
      "facet number: 5\n"
     ]
    },
    {
     "data": {
      "text/latex": [
       "$\\displaystyle 1 - d_{4} = 1$"
      ],
      "text/plain": [
       "Eq(1 - d4, 1)"
      ]
     },
     "metadata": {},
     "output_type": "display_data"
    }
   ],
   "source": [
    "i=5\n",
    "print('facet number:', i)\n",
    "display(sp.Eq(C.determinants[i], C.orientation[i]))\n",
    "\n",
    "C.subs(d4, 0)"
   ]
  },
  {
   "cell_type": "code",
   "execution_count": 65,
   "id": "084d37c9-4073-4378-9e36-f90f00a5c064",
   "metadata": {},
   "outputs": [
    {
     "name": "stdout",
     "output_type": "stream",
     "text": [
      "facet number: 24\n"
     ]
    },
    {
     "data": {
      "text/latex": [
       "$\\displaystyle - b_{4} d_{0} - d_{0} + 1 = 1$"
      ],
      "text/plain": [
       "Eq(-b4*d0 - d0 + 1, 1)"
      ]
     },
     "metadata": {},
     "output_type": "display_data"
    }
   ],
   "source": [
    "i=24\n",
    "print('facet number:', i)\n",
    "display(sp.Eq(C.determinants[i], C.orientation[i]))"
   ]
  },
  {
   "cell_type": "markdown",
   "id": "e9cc870d-6b97-4097-abd9-c04421cd8a15",
   "metadata": {
    "jp-MarkdownHeadingCollapsed": true
   },
   "source": [
    "## $b_4=-1$"
   ]
  },
  {
   "cell_type": "code",
   "execution_count": 66,
   "id": "c446f06b-3e1e-4075-9806-0ece05bf13b3",
   "metadata": {},
   "outputs": [],
   "source": [
    "C2 = copy.deepcopy(C1)\n",
    "C = C2\n",
    "C.subs(b4, -1)"
   ]
  },
  {
   "cell_type": "code",
   "execution_count": 67,
   "id": "2d7c6722-ef01-41dd-8118-6ca344f93944",
   "metadata": {},
   "outputs": [
    {
     "name": "stdout",
     "output_type": "stream",
     "text": [
      "facet number: 12\n"
     ]
    },
    {
     "data": {
      "text/latex": [
       "$\\displaystyle c_{4} d_{1} - 2 c_{4} - 1 = -1$"
      ],
      "text/plain": [
       "Eq(c4*d1 - 2*c4 - 1, -1)"
      ]
     },
     "metadata": {},
     "output_type": "display_data"
    }
   ],
   "source": [
    "i=12\n",
    "print('facet number:', i)\n",
    "display(sp.Eq(C.determinants[i], C.orientation[i]))"
   ]
  },
  {
   "cell_type": "markdown",
   "id": "bc35dea6-76c0-4979-b07e-cbff1cee9da5",
   "metadata": {
    "jp-MarkdownHeadingCollapsed": true
   },
   "source": [
    "### $c_4=0$"
   ]
  },
  {
   "cell_type": "code",
   "execution_count": 68,
   "id": "0904afe4-e58e-4caa-803b-2d57ac3b832d",
   "metadata": {},
   "outputs": [],
   "source": [
    "C3 = copy.deepcopy(C2)\n",
    "C = C3\n",
    "C.subs(c4, 0)"
   ]
  },
  {
   "cell_type": "code",
   "execution_count": 70,
   "id": "f5eeedb1-9ce5-407c-be89-43dd14ab3dfa",
   "metadata": {},
   "outputs": [
    {
     "data": {
      "text/latex": [
       "$\\displaystyle \\left[\\begin{matrix}1 & 0 & 0 & 0 & 0 & 0 & -1 & -1 & d_{0}\\\\0 & 1 & 0 & 0 & 0 & -1 & -2 & -1 & d_{1}\\\\0 & 0 & 1 & 0 & 0 & 1 & 1 & 0 & -1\\\\0 & 0 & 0 & 1 & 0 & 0 & 1 & 0 & -1\\\\0 & 0 & 0 & 0 & 1 & -1 & -1 & 0 & 0\\end{matrix}\\right]$"
      ],
      "text/plain": [
       "Matrix([\n",
       "[1, 0, 0, 0, 0,  0, -1, -1, d0],\n",
       "[0, 1, 0, 0, 0, -1, -2, -1, d1],\n",
       "[0, 0, 1, 0, 0,  1,  1,  0, -1],\n",
       "[0, 0, 0, 1, 0,  0,  1,  0, -1],\n",
       "[0, 0, 0, 0, 1, -1, -1,  0,  0]])"
      ]
     },
     "metadata": {},
     "output_type": "display_data"
    },
    {
     "name": "stdout",
     "output_type": "stream",
     "text": [
      "1\n"
     ]
    }
   ],
   "source": [
    "display(C.char)\n",
    "print(C.is_fangiving)\n",
    "fans.append(C.char)"
   ]
  },
  {
   "cell_type": "markdown",
   "id": "154f0249-2223-48a4-9ebc-9465272e00e7",
   "metadata": {
    "jp-MarkdownHeadingCollapsed": true
   },
   "source": [
    "### $d_1=2$ ($c_4 \\not= 0$)"
   ]
  },
  {
   "cell_type": "code",
   "execution_count": 74,
   "id": "8481777b-11f4-48a5-87b5-7ffc1dc112d3",
   "metadata": {},
   "outputs": [],
   "source": [
    "C3 = copy.deepcopy(C2)\n",
    "C = C3\n",
    "C.subs(d1, 2)"
   ]
  },
  {
   "cell_type": "code",
   "execution_count": 75,
   "id": "fad05071-2575-476a-adaf-16fdebd16f46",
   "metadata": {},
   "outputs": [
    {
     "name": "stdout",
     "output_type": "stream",
     "text": [
      "facet number: 26\n"
     ]
    },
    {
     "data": {
      "text/latex": [
       "$\\displaystyle c_{4} d_{0} - c_{4} - 1 = -1$"
      ],
      "text/plain": [
       "Eq(c4*d0 - c4 - 1, -1)"
      ]
     },
     "metadata": {},
     "output_type": "display_data"
    }
   ],
   "source": [
    "i=26\n",
    "print('facet number:', i)\n",
    "display(sp.Eq(C.determinants[i], C.orientation[i]))\n",
    "\n",
    "C.subs(d0, 1)"
   ]
  },
  {
   "cell_type": "code",
   "execution_count": 77,
   "id": "83a39f28-6d9f-4576-9e61-5e5ae4c589c6",
   "metadata": {},
   "outputs": [
    {
     "data": {
      "text/latex": [
       "$\\displaystyle \\left[\\begin{matrix}1 & 0 & 0 & 0 & 0 & 0 & -1 & -1 & 1\\\\0 & 1 & 0 & 0 & 0 & -1 & -2 & -1 & 2\\\\0 & 0 & 1 & 0 & 0 & 1 & 1 & 0 & -1\\\\0 & 0 & 0 & 1 & 0 & 0 & 1 & 0 & -1\\\\0 & 0 & 0 & 0 & 1 & -1 & -1 & c_{4} & 0\\end{matrix}\\right]$"
      ],
      "text/plain": [
       "Matrix([\n",
       "[1, 0, 0, 0, 0,  0, -1, -1,  1],\n",
       "[0, 1, 0, 0, 0, -1, -2, -1,  2],\n",
       "[0, 0, 1, 0, 0,  1,  1,  0, -1],\n",
       "[0, 0, 0, 1, 0,  0,  1,  0, -1],\n",
       "[0, 0, 0, 0, 1, -1, -1, c4,  0]])"
      ]
     },
     "metadata": {},
     "output_type": "display_data"
    },
    {
     "name": "stdout",
     "output_type": "stream",
     "text": [
      "1\n"
     ]
    }
   ],
   "source": [
    "display(C.char)\n",
    "print(C.is_fangiving)\n",
    "fans.append(C.char)"
   ]
  },
  {
   "cell_type": "markdown",
   "id": "447df04a-59e3-4337-b3e8-6a036de683af",
   "metadata": {
    "jp-MarkdownHeadingCollapsed": true
   },
   "source": [
    "## $d_0=0$ ($b_4 \\not= -1$)"
   ]
  },
  {
   "cell_type": "code",
   "execution_count": 78,
   "id": "7a7c07d3-c9e8-46c5-9c78-d414aff4f837",
   "metadata": {},
   "outputs": [],
   "source": [
    "C2 = copy.deepcopy(C1)\n",
    "C = C2\n",
    "C.subs(d0, 0)"
   ]
  },
  {
   "cell_type": "code",
   "execution_count": 79,
   "id": "d5c8d2e7-15c7-48bf-911c-e92bd7956672",
   "metadata": {},
   "outputs": [
    {
     "name": "stdout",
     "output_type": "stream",
     "text": [
      "facet number: 25\n"
     ]
    },
    {
     "data": {
      "text/latex": [
       "$\\displaystyle - b_{4} + c_{4} = 1$"
      ],
      "text/plain": [
       "Eq(-b4 + c4, 1)"
      ]
     },
     "metadata": {},
     "output_type": "display_data"
    }
   ],
   "source": [
    "i=25\n",
    "print('facet number:', i)\n",
    "display(sp.Eq(C.determinants[i], C.orientation[i]))\n",
    "\n",
    "C.subs(c4, b4+1)"
   ]
  },
  {
   "cell_type": "code",
   "execution_count": 82,
   "id": "95a1e295-7550-454c-a953-9e028b5722a7",
   "metadata": {},
   "outputs": [
    {
     "name": "stdout",
     "output_type": "stream",
     "text": [
      "facet number: 11\n"
     ]
    },
    {
     "data": {
      "text/latex": [
       "$\\displaystyle b_{4} d_{1} - b_{4} + d_{1} - 2 = -1$"
      ],
      "text/plain": [
       "Eq(b4*d1 - b4 + d1 - 2, -1)"
      ]
     },
     "metadata": {},
     "output_type": "display_data"
    },
    {
     "data": {
      "text/latex": [
       "$\\displaystyle \\left(b_{4} + 1\\right) \\left(d_{1} - 1\\right) = 0$"
      ],
      "text/plain": [
       "Eq((b4 + 1)*(d1 - 1), 0)"
      ]
     },
     "metadata": {},
     "output_type": "display_data"
    }
   ],
   "source": [
    "i=11\n",
    "print('facet number:', i)\n",
    "display(sp.Eq(C.determinants[i], C.orientation[i]))\n",
    "display(sp.Eq((b4+1)*(d1-1), 0))\n",
    "\n",
    "C.subs(d1, 1)"
   ]
  },
  {
   "cell_type": "code",
   "execution_count": 84,
   "id": "14fcd439-17c7-4a7b-bf84-6ecca987d6f8",
   "metadata": {},
   "outputs": [
    {
     "data": {
      "text/latex": [
       "$\\displaystyle \\left[\\begin{matrix}1 & 0 & 0 & 0 & 0 & 0 & -1 & -1 & 0\\\\0 & 1 & 0 & 0 & 0 & -1 & -2 & -1 & 1\\\\0 & 0 & 1 & 0 & 0 & 1 & 1 & 0 & -1\\\\0 & 0 & 0 & 1 & 0 & 0 & 1 & 0 & -1\\\\0 & 0 & 0 & 0 & 1 & -1 & b_{4} & b_{4} + 1 & 0\\end{matrix}\\right]$"
      ],
      "text/plain": [
       "Matrix([\n",
       "[1, 0, 0, 0, 0,  0, -1,     -1,  0],\n",
       "[0, 1, 0, 0, 0, -1, -2,     -1,  1],\n",
       "[0, 0, 1, 0, 0,  1,  1,      0, -1],\n",
       "[0, 0, 0, 1, 0,  0,  1,      0, -1],\n",
       "[0, 0, 0, 0, 1, -1, b4, b4 + 1,  0]])"
      ]
     },
     "metadata": {},
     "output_type": "display_data"
    },
    {
     "name": "stdout",
     "output_type": "stream",
     "text": [
      "1\n"
     ]
    }
   ],
   "source": [
    "display(C.char)\n",
    "print(C.is_fangiving)\n",
    "fans.append(C.char)"
   ]
  },
  {
   "cell_type": "markdown",
   "id": "869f5253-4188-4f1e-aa2c-e119083ed1f1",
   "metadata": {
    "jp-MarkdownHeadingCollapsed": true
   },
   "source": [
    "# Type 2 of the projection"
   ]
  },
  {
   "cell_type": "code",
   "execution_count": 97,
   "id": "81b9bb5b-3021-432f-9a90-8cf18d41424e",
   "metadata": {},
   "outputs": [
    {
     "data": {
      "text/latex": [
       "$\\displaystyle \\left[\\begin{matrix}1 & 0 & 0 & 0 & a_{0} & -1 & c_{0} & d_{0}\\\\0 & 1 & 0 & 0 & -1 & b_{1} & c_{1} & d_{1}\\\\0 & 0 & 1 & 0 & a_{2} & b_{2} & c_{2} & -1\\\\0 & 0 & 0 & 1 & a_{3} & b_{3} & c_{3} & -1\\end{matrix}\\right] = \\left[\\begin{matrix}1 & 0 & 0 & 0 & 0 & -1 & -1 & 0\\\\0 & 1 & 0 & 0 & -1 & d_{1} - 1 & 2 d_{1} - 1 & d_{1}\\\\0 & 0 & 1 & 0 & 0 & -1 & -2 & -1\\\\0 & 0 & 0 & 1 & 0 & 0 & -1 & -1\\end{matrix}\\right]$"
      ],
      "text/plain": [
       "Eq(Matrix([\n",
       "[1, 0, 0, 0, a0, -1, c0, d0],\n",
       "[0, 1, 0, 0, -1, b1, c1, d1],\n",
       "[0, 0, 1, 0, a2, b2, c2, -1],\n",
       "[0, 0, 0, 1, a3, b3, c3, -1]]), Matrix([\n",
       "[1, 0, 0, 0,  0,     -1,       -1,  0],\n",
       "[0, 1, 0, 0, -1, d1 - 1, 2*d1 - 1, d1],\n",
       "[0, 0, 1, 0,  0,     -1,       -2, -1],\n",
       "[0, 0, 0, 1,  0,      0,       -1, -1]]))"
      ]
     },
     "metadata": {},
     "output_type": "display_data"
    }
   ],
   "source": [
    "C1 = copy.deepcopy(C0)\n",
    "C = C1\n",
    "t=2\n",
    "\n",
    "proj = C.proj([projectied_vertex])\n",
    "with sp.evaluate(False):\n",
    "    display(sp.Eq(proj, fans_link[t]))"
   ]
  },
  {
   "cell_type": "code",
   "execution_count": 98,
   "id": "ea487863-d266-488d-a39f-c7997450891c",
   "metadata": {},
   "outputs": [
    {
     "name": "stdout",
     "output_type": "stream",
     "text": [
      "facet number: 26\n"
     ]
    },
    {
     "data": {
      "text/latex": [
       "$\\displaystyle - d_{0} = -1$"
      ],
      "text/plain": [
       "Eq(-d0, -1)"
      ]
     },
     "metadata": {},
     "output_type": "display_data"
    },
    {
     "name": "stdout",
     "output_type": "stream",
     "text": [
      "no solution\n"
     ]
    }
   ],
   "source": [
    "C.subs(a0, 0)\n",
    "C.subs(a2, 0)\n",
    "C.subs(a3, 0)\n",
    "C.subs(b2, -1)\n",
    "C.subs(b3, 0)\n",
    "C.subs(c0, -1)\n",
    "C.subs(c2, -2)\n",
    "C.subs(c3, -1)\n",
    "\n",
    "i=26\n",
    "print('facet number:', i)\n",
    "display(sp.Eq(C.determinants[i], C.orientation[i]))\n",
    "\n",
    "print('no solution')"
   ]
  },
  {
   "cell_type": "markdown",
   "id": "f157ad45-0ad0-4178-895f-62f20e0e597a",
   "metadata": {
    "jp-MarkdownHeadingCollapsed": true
   },
   "source": [
    "# Type 3 of the projection"
   ]
  },
  {
   "cell_type": "code",
   "execution_count": 99,
   "id": "47954903-6c06-4003-9d5d-f7696a041b2c",
   "metadata": {},
   "outputs": [
    {
     "data": {
      "text/latex": [
       "$\\displaystyle \\left[\\begin{matrix}1 & 0 & 0 & 0 & a_{0} & -1 & c_{0} & d_{0}\\\\0 & 1 & 0 & 0 & -1 & b_{1} & c_{1} & d_{1}\\\\0 & 0 & 1 & 0 & a_{2} & b_{2} & c_{2} & -1\\\\0 & 0 & 0 & 1 & a_{3} & b_{3} & c_{3} & -1\\end{matrix}\\right] = \\left[\\begin{matrix}1 & 0 & 0 & 0 & 0 & -1 & - c_{3} - 1 & 1\\\\0 & 1 & 0 & 0 & -1 & -2 & - 2 c_{3} - 1 & 2\\\\0 & 0 & 1 & 0 & 1 & 1 & c_{3} & -1\\\\0 & 0 & 0 & 1 & 0 & 1 & c_{3} & -1\\end{matrix}\\right]$"
      ],
      "text/plain": [
       "Eq(Matrix([\n",
       "[1, 0, 0, 0, a0, -1, c0, d0],\n",
       "[0, 1, 0, 0, -1, b1, c1, d1],\n",
       "[0, 0, 1, 0, a2, b2, c2, -1],\n",
       "[0, 0, 0, 1, a3, b3, c3, -1]]), Matrix([\n",
       "[1, 0, 0, 0,  0, -1,   -c3 - 1,  1],\n",
       "[0, 1, 0, 0, -1, -2, -2*c3 - 1,  2],\n",
       "[0, 0, 1, 0,  1,  1,        c3, -1],\n",
       "[0, 0, 0, 1,  0,  1,        c3, -1]]))"
      ]
     },
     "metadata": {},
     "output_type": "display_data"
    }
   ],
   "source": [
    "C1 = copy.deepcopy(C0)\n",
    "C = C1\n",
    "t=3\n",
    "\n",
    "proj = C.proj([projectied_vertex])\n",
    "with sp.evaluate(False):\n",
    "    display(sp.Eq(proj, fans_link[t]))"
   ]
  },
  {
   "cell_type": "code",
   "execution_count": 100,
   "id": "27a1724b-188e-4d85-ac09-1e352e4d850f",
   "metadata": {},
   "outputs": [
    {
     "data": {
      "text/latex": [
       "$\\displaystyle \\text{True}$"
      ],
      "text/plain": [
       "True"
      ]
     },
     "metadata": {},
     "output_type": "display_data"
    }
   ],
   "source": [
    "C.subs(a0, 0)\n",
    "C.subs(a2, 1)\n",
    "C.subs(a3, 0)\n",
    "C.subs(b1, -2)\n",
    "C.subs(b2, 1)\n",
    "C.subs(b3, 1)\n",
    "C.subs(c0, -c3-1)\n",
    "C.subs(c1, -2*c3-1)\n",
    "C.subs(c2, c3)\n",
    "C.subs(d0, 1)\n",
    "C.subs(d1, 2)\n",
    "\n",
    "display(sp.Eq(C.proj([projectied_vertex]), fans_link[t]))"
   ]
  },
  {
   "cell_type": "code",
   "execution_count": 101,
   "id": "cd49a829-8096-4365-aa05-80e66870d8c6",
   "metadata": {},
   "outputs": [
    {
     "name": "stdout",
     "output_type": "stream",
     "text": [
      "facet number: 5\n"
     ]
    },
    {
     "data": {
      "text/latex": [
       "$\\displaystyle 1 - d_{4} = 1$"
      ],
      "text/plain": [
       "Eq(1 - d4, 1)"
      ]
     },
     "metadata": {},
     "output_type": "display_data"
    }
   ],
   "source": [
    "i=5\n",
    "print('facet number:', i)\n",
    "display(sp.Eq(C.determinants[i], C.orientation[i]))\n",
    "\n",
    "C.subs(d4, 0)"
   ]
  },
  {
   "cell_type": "code",
   "execution_count": 103,
   "id": "42b9fff7-17c4-4e1c-b3ce-d613ab4aeeb4",
   "metadata": {},
   "outputs": [
    {
     "name": "stdout",
     "output_type": "stream",
     "text": [
      "facet number: 11\n"
     ]
    },
    {
     "data": {
      "text/latex": [
       "$\\displaystyle b_{4} = -1$"
      ],
      "text/plain": [
       "Eq(b4, -1)"
      ]
     },
     "metadata": {},
     "output_type": "display_data"
    }
   ],
   "source": [
    "i=11\n",
    "print('facet number:', i)\n",
    "display(sp.Eq(C.determinants[i], C.orientation[i]))\n",
    "\n",
    "C.subs(b4, -1)"
   ]
  },
  {
   "cell_type": "code",
   "execution_count": 105,
   "id": "f6f05150-f94c-4193-952a-af6584c0f95f",
   "metadata": {},
   "outputs": [
    {
     "data": {
      "text/latex": [
       "$\\displaystyle \\left[\\begin{matrix}1 & 0 & 0 & 0 & 0 & 0 & -1 & - c_{3} - 1 & 1\\\\0 & 1 & 0 & 0 & 0 & -1 & -2 & - 2 c_{3} - 1 & 2\\\\0 & 0 & 1 & 0 & 0 & 1 & 1 & c_{3} & -1\\\\0 & 0 & 0 & 1 & 0 & 0 & 1 & c_{3} & -1\\\\0 & 0 & 0 & 0 & 1 & -1 & -1 & c_{4} & 0\\end{matrix}\\right]$"
      ],
      "text/plain": [
       "Matrix([\n",
       "[1, 0, 0, 0, 0,  0, -1,   -c3 - 1,  1],\n",
       "[0, 1, 0, 0, 0, -1, -2, -2*c3 - 1,  2],\n",
       "[0, 0, 1, 0, 0,  1,  1,        c3, -1],\n",
       "[0, 0, 0, 1, 0,  0,  1,        c3, -1],\n",
       "[0, 0, 0, 0, 1, -1, -1,        c4,  0]])"
      ]
     },
     "metadata": {},
     "output_type": "display_data"
    },
    {
     "name": "stdout",
     "output_type": "stream",
     "text": [
      "1\n"
     ]
    }
   ],
   "source": [
    "display(C.char)\n",
    "print(C.is_fangiving)\n",
    "fans.append(C.char)"
   ]
  },
  {
   "cell_type": "markdown",
   "id": "8ab52fdb-bc4c-4dda-b92f-0a47dd32949d",
   "metadata": {
    "jp-MarkdownHeadingCollapsed": true
   },
   "source": [
    "# Type 4 of the projection"
   ]
  },
  {
   "cell_type": "code",
   "execution_count": 106,
   "id": "e5fe9134-df6a-4757-9aca-11bec84d13eb",
   "metadata": {},
   "outputs": [
    {
     "data": {
      "text/latex": [
       "$\\displaystyle \\left[\\begin{matrix}1 & 0 & 0 & 0 & a_{0} & -1 & c_{0} & d_{0}\\\\0 & 1 & 0 & 0 & -1 & b_{1} & c_{1} & d_{1}\\\\0 & 0 & 1 & 0 & a_{2} & b_{2} & c_{2} & -1\\\\0 & 0 & 0 & 1 & a_{3} & b_{3} & c_{3} & -1\\end{matrix}\\right] = \\left[\\begin{matrix}1 & 0 & 0 & 0 & 0 & -1 & d_{0} - 1 & d_{0}\\\\0 & 1 & 0 & 0 & -1 & -1 & d_{1} - 1 & d_{1}\\\\0 & 0 & 1 & 0 & 1 & 0 & -1 & -1\\\\0 & 0 & 0 & 1 & 0 & 0 & -1 & -1\\end{matrix}\\right]$"
      ],
      "text/plain": [
       "Eq(Matrix([\n",
       "[1, 0, 0, 0, a0, -1, c0, d0],\n",
       "[0, 1, 0, 0, -1, b1, c1, d1],\n",
       "[0, 0, 1, 0, a2, b2, c2, -1],\n",
       "[0, 0, 0, 1, a3, b3, c3, -1]]), Matrix([\n",
       "[1, 0, 0, 0,  0, -1, d0 - 1, d0],\n",
       "[0, 1, 0, 0, -1, -1, d1 - 1, d1],\n",
       "[0, 0, 1, 0,  1,  0,     -1, -1],\n",
       "[0, 0, 0, 1,  0,  0,     -1, -1]]))"
      ]
     },
     "metadata": {},
     "output_type": "display_data"
    }
   ],
   "source": [
    "C1 = copy.deepcopy(C0)\n",
    "C = C1\n",
    "t=4\n",
    "\n",
    "proj = C.proj([projectied_vertex])\n",
    "with sp.evaluate(False):\n",
    "    display(sp.Eq(proj, fans_link[t]))"
   ]
  },
  {
   "cell_type": "code",
   "execution_count": 107,
   "id": "cc6bec51-568b-410c-b502-05a99e37354a",
   "metadata": {},
   "outputs": [
    {
     "data": {
      "text/latex": [
       "$\\displaystyle \\text{True}$"
      ],
      "text/plain": [
       "True"
      ]
     },
     "metadata": {},
     "output_type": "display_data"
    }
   ],
   "source": [
    "C.subs(a0, 0)\n",
    "C.subs(a2, 1)\n",
    "C.subs(a3, 0)\n",
    "C.subs(b1, -1)\n",
    "C.subs(b2, 0)\n",
    "C.subs(b3, 0)\n",
    "C.subs(c0, d0-1)\n",
    "C.subs(c1, d1-1)\n",
    "C.subs(c2, -1)\n",
    "C.subs(c3, -1)\n",
    "\n",
    "display(sp.Eq(C.proj([projectied_vertex]), fans_link[t]))"
   ]
  },
  {
   "cell_type": "code",
   "execution_count": 108,
   "id": "50692365-6f6c-4a2f-a785-488122b3b354",
   "metadata": {},
   "outputs": [
    {
     "name": "stdout",
     "output_type": "stream",
     "text": [
      "facet number: 5\n"
     ]
    },
    {
     "data": {
      "text/latex": [
       "$\\displaystyle 1 - d_{4} = 1$"
      ],
      "text/plain": [
       "Eq(1 - d4, 1)"
      ]
     },
     "metadata": {},
     "output_type": "display_data"
    }
   ],
   "source": [
    "i=5\n",
    "print('facet number:', i)\n",
    "display(sp.Eq(C.determinants[i], C.orientation[i]))\n",
    "\n",
    "C.subs(d4, 0)"
   ]
  },
  {
   "cell_type": "code",
   "execution_count": 109,
   "id": "2adfcdd9-0a88-4243-9016-1fe95d1c5e9a",
   "metadata": {},
   "outputs": [
    {
     "name": "stdout",
     "output_type": "stream",
     "text": [
      "facet number: 24\n"
     ]
    },
    {
     "data": {
      "text/latex": [
       "$\\displaystyle - b_{4} d_{0} + 1 = 1$"
      ],
      "text/plain": [
       "Eq(-b4*d0 + 1, 1)"
      ]
     },
     "metadata": {},
     "output_type": "display_data"
    }
   ],
   "source": [
    "i=24\n",
    "print('facet number:', i)\n",
    "display(sp.Eq(C.determinants[i], C.orientation[i]))"
   ]
  },
  {
   "cell_type": "markdown",
   "id": "21849a08-d042-4bd2-91b3-ae98a28791c1",
   "metadata": {
    "jp-MarkdownHeadingCollapsed": true
   },
   "source": [
    "## $b_4=0$"
   ]
  },
  {
   "cell_type": "code",
   "execution_count": 110,
   "id": "b33fd8bf-eb86-4cb8-a7e6-15bf93319985",
   "metadata": {},
   "outputs": [],
   "source": [
    "C2 = copy.deepcopy(C1)\n",
    "C = C2\n",
    "C.subs(b4, 0)"
   ]
  },
  {
   "cell_type": "code",
   "execution_count": 111,
   "id": "714a3412-c8db-4b88-9763-d3c019ef880e",
   "metadata": {},
   "outputs": [
    {
     "name": "stdout",
     "output_type": "stream",
     "text": [
      "facet number: 15\n"
     ]
    },
    {
     "data": {
      "text/latex": [
       "$\\displaystyle c_{4} = 1$"
      ],
      "text/plain": [
       "Eq(c4, 1)"
      ]
     },
     "metadata": {},
     "output_type": "display_data"
    }
   ],
   "source": [
    "i=15\n",
    "print('facet number:', i)\n",
    "display(sp.Eq(C.determinants[i], C.orientation[i]))\n",
    "\n",
    "C.subs(c4, 1)"
   ]
  },
  {
   "cell_type": "code",
   "execution_count": 113,
   "id": "1ae41c7a-347a-4b70-a945-3da553776a18",
   "metadata": {},
   "outputs": [
    {
     "data": {
      "text/latex": [
       "$\\displaystyle \\left[\\begin{matrix}1 & 0 & 0 & 0 & 0 & 0 & -1 & d_{0} - 1 & d_{0}\\\\0 & 1 & 0 & 0 & 0 & -1 & -1 & d_{1} - 1 & d_{1}\\\\0 & 0 & 1 & 0 & 0 & 1 & 0 & -1 & -1\\\\0 & 0 & 0 & 1 & 0 & 0 & 0 & -1 & -1\\\\0 & 0 & 0 & 0 & 1 & -1 & 0 & 1 & 0\\end{matrix}\\right]$"
      ],
      "text/plain": [
       "Matrix([\n",
       "[1, 0, 0, 0, 0,  0, -1, d0 - 1, d0],\n",
       "[0, 1, 0, 0, 0, -1, -1, d1 - 1, d1],\n",
       "[0, 0, 1, 0, 0,  1,  0,     -1, -1],\n",
       "[0, 0, 0, 1, 0,  0,  0,     -1, -1],\n",
       "[0, 0, 0, 0, 1, -1,  0,      1,  0]])"
      ]
     },
     "metadata": {},
     "output_type": "display_data"
    },
    {
     "name": "stdout",
     "output_type": "stream",
     "text": [
      "1\n"
     ]
    }
   ],
   "source": [
    "display(C.char)\n",
    "print(C.is_fangiving)\n",
    "fans.append(C.char)"
   ]
  },
  {
   "cell_type": "markdown",
   "id": "caa84351-4fad-443e-bc44-a0bc7c9ac7a6",
   "metadata": {
    "jp-MarkdownHeadingCollapsed": true
   },
   "source": [
    "## $d_0=0$ ($b_4 \\not= 0$)"
   ]
  },
  {
   "cell_type": "code",
   "execution_count": 114,
   "id": "45e505c8-0d10-4fd0-8b3e-279dda8e4949",
   "metadata": {},
   "outputs": [],
   "source": [
    "C2 = copy.deepcopy(C1)\n",
    "C = C2\n",
    "C.subs(d0, 0)"
   ]
  },
  {
   "cell_type": "code",
   "execution_count": 115,
   "id": "28569247-c46d-4a7c-bb16-046e9d902563",
   "metadata": {},
   "outputs": [
    {
     "name": "stdout",
     "output_type": "stream",
     "text": [
      "facet number: 11\n"
     ]
    },
    {
     "data": {
      "text/latex": [
       "$\\displaystyle b_{4} d_{1} - b_{4} - 1 = -1$"
      ],
      "text/plain": [
       "Eq(b4*d1 - b4 - 1, -1)"
      ]
     },
     "metadata": {},
     "output_type": "display_data"
    }
   ],
   "source": [
    "i=11\n",
    "print('facet number:', i)\n",
    "display(sp.Eq(C.determinants[i], C.orientation[i]))\n",
    "\n",
    "C.subs(d1, 1)"
   ]
  },
  {
   "cell_type": "code",
   "execution_count": 117,
   "id": "4e56629a-d782-4206-8904-0f401853ebe7",
   "metadata": {},
   "outputs": [
    {
     "name": "stdout",
     "output_type": "stream",
     "text": [
      "facet number: 12\n"
     ]
    },
    {
     "data": {
      "text/latex": [
       "$\\displaystyle b_{4} - c_{4} = -1$"
      ],
      "text/plain": [
       "Eq(b4 - c4, -1)"
      ]
     },
     "metadata": {},
     "output_type": "display_data"
    }
   ],
   "source": [
    "i=12\n",
    "print('facet number:', i)\n",
    "display(sp.Eq(C.determinants[i], C.orientation[i]))\n",
    "\n",
    "C.subs(b4, c4-1)"
   ]
  },
  {
   "cell_type": "code",
   "execution_count": 119,
   "id": "40c380a2-ddc7-48ae-9da4-d1b250345cc3",
   "metadata": {},
   "outputs": [
    {
     "data": {
      "text/latex": [
       "$\\displaystyle \\left[\\begin{matrix}1 & 0 & 0 & 0 & 0 & 0 & -1 & -1 & 0\\\\0 & 1 & 0 & 0 & 0 & -1 & -1 & 0 & 1\\\\0 & 0 & 1 & 0 & 0 & 1 & 0 & -1 & -1\\\\0 & 0 & 0 & 1 & 0 & 0 & 0 & -1 & -1\\\\0 & 0 & 0 & 0 & 1 & -1 & c_{4} - 1 & c_{4} & 0\\end{matrix}\\right]$"
      ],
      "text/plain": [
       "Matrix([\n",
       "[1, 0, 0, 0, 0,  0,     -1, -1,  0],\n",
       "[0, 1, 0, 0, 0, -1,     -1,  0,  1],\n",
       "[0, 0, 1, 0, 0,  1,      0, -1, -1],\n",
       "[0, 0, 0, 1, 0,  0,      0, -1, -1],\n",
       "[0, 0, 0, 0, 1, -1, c4 - 1, c4,  0]])"
      ]
     },
     "metadata": {},
     "output_type": "display_data"
    },
    {
     "name": "stdout",
     "output_type": "stream",
     "text": [
      "1\n"
     ]
    }
   ],
   "source": [
    "display(C.char)\n",
    "print(C.is_fangiving)\n",
    "fans.append(C.char)"
   ]
  },
  {
   "cell_type": "markdown",
   "id": "57001740-048a-4cbb-bd6b-6092144394f6",
   "metadata": {
    "jp-MarkdownHeadingCollapsed": true
   },
   "source": [
    "# Type 5 of the projection"
   ]
  },
  {
   "cell_type": "code",
   "execution_count": 120,
   "id": "1402029f-d56d-4b42-b109-f58e1fa50ec3",
   "metadata": {},
   "outputs": [
    {
     "data": {
      "text/latex": [
       "$\\displaystyle \\left[\\begin{matrix}1 & 0 & 0 & 0 & a_{0} & -1 & c_{0} & d_{0}\\\\0 & 1 & 0 & 0 & -1 & b_{1} & c_{1} & d_{1}\\\\0 & 0 & 1 & 0 & a_{2} & b_{2} & c_{2} & -1\\\\0 & 0 & 0 & 1 & a_{3} & b_{3} & c_{3} & -1\\end{matrix}\\right] = \\left[\\begin{matrix}1 & 0 & 0 & 0 & 0 & -1 & 0 & 1\\\\0 & 1 & 0 & 0 & -1 & b_{1} & 1 & 2\\\\0 & 0 & 1 & 0 & 1 & - b_{1} - 1 & -1 & -1\\\\0 & 0 & 0 & 1 & 0 & b_{3} & -1 & -1\\end{matrix}\\right]$"
      ],
      "text/plain": [
       "Eq(Matrix([\n",
       "[1, 0, 0, 0, a0, -1, c0, d0],\n",
       "[0, 1, 0, 0, -1, b1, c1, d1],\n",
       "[0, 0, 1, 0, a2, b2, c2, -1],\n",
       "[0, 0, 0, 1, a3, b3, c3, -1]]), Matrix([\n",
       "[1, 0, 0, 0,  0,      -1,  0,  1],\n",
       "[0, 1, 0, 0, -1,      b1,  1,  2],\n",
       "[0, 0, 1, 0,  1, -b1 - 1, -1, -1],\n",
       "[0, 0, 0, 1,  0,      b3, -1, -1]]))"
      ]
     },
     "metadata": {},
     "output_type": "display_data"
    }
   ],
   "source": [
    "C1 = copy.deepcopy(C0)\n",
    "C = C1\n",
    "t=5\n",
    "\n",
    "proj = C.proj([projectied_vertex])\n",
    "with sp.evaluate(False):\n",
    "    display(sp.Eq(proj, fans_link[t]))"
   ]
  },
  {
   "cell_type": "code",
   "execution_count": 121,
   "id": "cc1f1bea-5181-4a5d-b3bc-4ba19aa8ff49",
   "metadata": {},
   "outputs": [
    {
     "data": {
      "text/latex": [
       "$\\displaystyle \\text{True}$"
      ],
      "text/plain": [
       "True"
      ]
     },
     "metadata": {},
     "output_type": "display_data"
    }
   ],
   "source": [
    "C.subs(a0, 0)\n",
    "C.subs(a2, 1)\n",
    "C.subs(a3, 0)\n",
    "C.subs(b2, -b1-1)\n",
    "C.subs(c0, 0)\n",
    "C.subs(c1, 1)\n",
    "C.subs(c2, -1)\n",
    "C.subs(c3, -1)\n",
    "C.subs(d0, 1)\n",
    "C.subs(d1, 2)\n",
    "\n",
    "display(sp.Eq(C.proj([projectied_vertex]), fans_link[t]))"
   ]
  },
  {
   "cell_type": "code",
   "execution_count": 122,
   "id": "6086cb94-02c4-4191-8680-c8a85764d5ac",
   "metadata": {},
   "outputs": [
    {
     "name": "stdout",
     "output_type": "stream",
     "text": [
      "facet number: 5\n"
     ]
    },
    {
     "data": {
      "text/latex": [
       "$\\displaystyle 1 - d_{4} = 1$"
      ],
      "text/plain": [
       "Eq(1 - d4, 1)"
      ]
     },
     "metadata": {},
     "output_type": "display_data"
    }
   ],
   "source": [
    "i=5\n",
    "print('facet number:', i)\n",
    "display(sp.Eq(C.determinants[i], C.orientation[i]))\n",
    "\n",
    "C.subs(d4, 0)"
   ]
  },
  {
   "cell_type": "code",
   "execution_count": 123,
   "id": "b0938949-877b-4b37-be41-1f89f6acde1b",
   "metadata": {},
   "outputs": [
    {
     "name": "stdout",
     "output_type": "stream",
     "text": [
      "facet number: 11\n"
     ]
    },
    {
     "data": {
      "text/latex": [
       "$\\displaystyle - b_{1} + b_{4} - 2 = -1$"
      ],
      "text/plain": [
       "Eq(-b1 + b4 - 2, -1)"
      ]
     },
     "metadata": {},
     "output_type": "display_data"
    }
   ],
   "source": [
    "i=11\n",
    "print('facet number:', i)\n",
    "display(sp.Eq(C.determinants[i], C.orientation[i]))\n",
    "\n",
    "C.subs(b4, b1+1)"
   ]
  },
  {
   "cell_type": "code",
   "execution_count": 124,
   "id": "6cf8860a-e560-4d1c-ab87-9f8656e762e3",
   "metadata": {},
   "outputs": [
    {
     "name": "stdout",
     "output_type": "stream",
     "text": [
      "facet number: 26\n"
     ]
    },
    {
     "data": {
      "text/latex": [
       "$\\displaystyle b_{3} c_{4} - b_{3} - c_{4} = -1$"
      ],
      "text/plain": [
       "Eq(b3*c4 - b3 - c4, -1)"
      ]
     },
     "metadata": {},
     "output_type": "display_data"
    },
    {
     "data": {
      "text/latex": [
       "$\\displaystyle \\left(b_{3} - 1\\right) \\left(c_{4} - 1\\right) = 0$"
      ],
      "text/plain": [
       "Eq((b3 - 1)*(c4 - 1), 0)"
      ]
     },
     "metadata": {},
     "output_type": "display_data"
    }
   ],
   "source": [
    "i=26\n",
    "print('facet number:', i)\n",
    "display(sp.Eq(C.determinants[i], C.orientation[i]))\n",
    "display(sp.Eq((b3-1)*(c4-1), 0))"
   ]
  },
  {
   "cell_type": "markdown",
   "id": "a2e29a52-ff5e-4e3a-99fb-828993e5daf3",
   "metadata": {
    "jp-MarkdownHeadingCollapsed": true
   },
   "source": [
    "## $c_4=1$"
   ]
  },
  {
   "cell_type": "code",
   "execution_count": 126,
   "id": "86b998f6-5e27-46a4-b836-3f8f1a5728b7",
   "metadata": {},
   "outputs": [],
   "source": [
    "C2 = copy.deepcopy(C1)\n",
    "C = C2\n",
    "C.subs(c4, 1)"
   ]
  },
  {
   "cell_type": "code",
   "execution_count": 128,
   "id": "41d4f099-c380-4e7d-bab7-cfac6e4b6be7",
   "metadata": {},
   "outputs": [
    {
     "data": {
      "text/latex": [
       "$\\displaystyle \\left[\\begin{matrix}1 & 0 & 0 & 0 & 0 & 0 & -1 & 0 & 1\\\\0 & 1 & 0 & 0 & 0 & -1 & b_{1} & 1 & 2\\\\0 & 0 & 1 & 0 & 0 & 1 & - b_{1} - 1 & -1 & -1\\\\0 & 0 & 0 & 1 & 0 & 0 & b_{3} & -1 & -1\\\\0 & 0 & 0 & 0 & 1 & -1 & b_{1} + 1 & 1 & 0\\end{matrix}\\right]$"
      ],
      "text/plain": [
       "Matrix([\n",
       "[1, 0, 0, 0, 0,  0,      -1,  0,  1],\n",
       "[0, 1, 0, 0, 0, -1,      b1,  1,  2],\n",
       "[0, 0, 1, 0, 0,  1, -b1 - 1, -1, -1],\n",
       "[0, 0, 0, 1, 0,  0,      b3, -1, -1],\n",
       "[0, 0, 0, 0, 1, -1,  b1 + 1,  1,  0]])"
      ]
     },
     "metadata": {},
     "output_type": "display_data"
    },
    {
     "name": "stdout",
     "output_type": "stream",
     "text": [
      "1\n"
     ]
    }
   ],
   "source": [
    "display(C.char)\n",
    "print(C.is_fangiving)\n",
    "fans.append(C.char)"
   ]
  },
  {
   "cell_type": "markdown",
   "id": "3cb2fc64-3f6b-454b-a6e9-6ca0efca310b",
   "metadata": {
    "jp-MarkdownHeadingCollapsed": true
   },
   "source": [
    "## $b_3=1$ ($c_4 \\not= 1$)"
   ]
  },
  {
   "cell_type": "code",
   "execution_count": 138,
   "id": "73fe77d4-5088-431c-a696-e51e16cce8a6",
   "metadata": {},
   "outputs": [],
   "source": [
    "C2 = copy.deepcopy(C1)\n",
    "C = C2\n",
    "C.subs(b3, 1)"
   ]
  },
  {
   "cell_type": "code",
   "execution_count": 139,
   "id": "048ccf86-e12c-4be8-84ca-0e8488ea94da",
   "metadata": {},
   "outputs": [
    {
     "name": "stdout",
     "output_type": "stream",
     "text": [
      "facet number: 25\n"
     ]
    },
    {
     "data": {
      "text/latex": [
       "$\\displaystyle b_{1} c_{4} - b_{1} + 2 c_{4} - 1 = 1$"
      ],
      "text/plain": [
       "Eq(b1*c4 - b1 + 2*c4 - 1, 1)"
      ]
     },
     "metadata": {},
     "output_type": "display_data"
    },
    {
     "data": {
      "text/latex": [
       "$\\displaystyle \\left(b_{1} + 2\\right) \\left(c_{4} - 1\\right) = 0$"
      ],
      "text/plain": [
       "Eq((b1 + 2)*(c4 - 1), 0)"
      ]
     },
     "metadata": {},
     "output_type": "display_data"
    },
    {
     "name": "stdout",
     "output_type": "stream",
     "text": [
      "b1=-2, b3=1 => type 3\n"
     ]
    }
   ],
   "source": [
    "i=25\n",
    "print('facet number:', i)\n",
    "display(sp.Eq(C.determinants[i], C.orientation[i]))\n",
    "display(sp.Eq((b1+2)*(c4-1), 0))\n",
    "\n",
    "print('b1=-2, b3=1 => type 3')"
   ]
  },
  {
   "cell_type": "markdown",
   "id": "3d775529-1950-48f5-a17e-9375d5ad7273",
   "metadata": {
    "jp-MarkdownHeadingCollapsed": true
   },
   "source": [
    "# Type 6 of the projection"
   ]
  },
  {
   "cell_type": "code",
   "execution_count": 147,
   "id": "ac99d4de-fccc-429f-a055-d21ae0c5949d",
   "metadata": {},
   "outputs": [
    {
     "data": {
      "text/latex": [
       "$\\displaystyle \\left[\\begin{matrix}1 & 0 & 0 & 0 & a_{0} & -1 & c_{0} & d_{0}\\\\0 & 1 & 0 & 0 & -1 & b_{1} & c_{1} & d_{1}\\\\0 & 0 & 1 & 0 & a_{2} & b_{2} & c_{2} & -1\\\\0 & 0 & 0 & 1 & a_{3} & b_{3} & c_{3} & -1\\end{matrix}\\right] = \\left[\\begin{matrix}1 & 0 & 0 & 0 & 0 & -1 & -1 & 0\\\\0 & 1 & 0 & 0 & -1 & - c_{2} - 2 & - c_{2} - 1 & 1\\\\0 & 0 & 1 & 0 & 1 & c_{2} + 1 & c_{2} & -1\\\\0 & 0 & 0 & 1 & 0 & c_{3} + 1 & c_{3} & -1\\end{matrix}\\right]$"
      ],
      "text/plain": [
       "Eq(Matrix([\n",
       "[1, 0, 0, 0, a0, -1, c0, d0],\n",
       "[0, 1, 0, 0, -1, b1, c1, d1],\n",
       "[0, 0, 1, 0, a2, b2, c2, -1],\n",
       "[0, 0, 0, 1, a3, b3, c3, -1]]), Matrix([\n",
       "[1, 0, 0, 0,  0,      -1,      -1,  0],\n",
       "[0, 1, 0, 0, -1, -c2 - 2, -c2 - 1,  1],\n",
       "[0, 0, 1, 0,  1,  c2 + 1,      c2, -1],\n",
       "[0, 0, 0, 1,  0,  c3 + 1,      c3, -1]]))"
      ]
     },
     "metadata": {},
     "output_type": "display_data"
    }
   ],
   "source": [
    "C1 = copy.deepcopy(C0)\n",
    "C = C1\n",
    "t=6\n",
    "\n",
    "proj = C.proj([projectied_vertex])\n",
    "with sp.evaluate(False):\n",
    "    display(sp.Eq(proj, fans_link[t]))"
   ]
  },
  {
   "cell_type": "code",
   "execution_count": 148,
   "id": "bb8210d0-0e5c-4962-ac59-dc67932126cf",
   "metadata": {},
   "outputs": [
    {
     "data": {
      "text/latex": [
       "$\\displaystyle \\text{True}$"
      ],
      "text/plain": [
       "True"
      ]
     },
     "metadata": {},
     "output_type": "display_data"
    }
   ],
   "source": [
    "C.subs(a0, 0)\n",
    "C.subs(a2, 1)\n",
    "C.subs(a3, 0)\n",
    "C.subs(b1, -c2-2)\n",
    "C.subs(b2, c2+1)\n",
    "C.subs(b3, c3+1)\n",
    "C.subs(c0, -1)\n",
    "C.subs(c1, -c2-1)\n",
    "C.subs(d0, 0)\n",
    "C.subs(d1, 1)\n",
    "\n",
    "display(sp.Eq(C.proj([projectied_vertex]), fans_link[t]))"
   ]
  },
  {
   "cell_type": "code",
   "execution_count": 149,
   "id": "f17c963f-62c9-40a3-bc06-cffbd5fab104",
   "metadata": {},
   "outputs": [
    {
     "name": "stdout",
     "output_type": "stream",
     "text": [
      "facet number: 5\n"
     ]
    },
    {
     "data": {
      "text/latex": [
       "$\\displaystyle 1 - d_{4} = 1$"
      ],
      "text/plain": [
       "Eq(1 - d4, 1)"
      ]
     },
     "metadata": {},
     "output_type": "display_data"
    }
   ],
   "source": [
    "i=5\n",
    "print('facet number:', i)\n",
    "display(sp.Eq(C.determinants[i], C.orientation[i]))\n",
    "\n",
    "C.subs(d4, 0)"
   ]
  },
  {
   "cell_type": "code",
   "execution_count": 150,
   "id": "a312c787-c1db-4cc7-9157-8243b40bdb00",
   "metadata": {},
   "outputs": [
    {
     "name": "stdout",
     "output_type": "stream",
     "text": [
      "facet number: 12\n"
     ]
    },
    {
     "data": {
      "text/latex": [
       "$\\displaystyle b_{4} - c_{4} = -1$"
      ],
      "text/plain": [
       "Eq(b4 - c4, -1)"
      ]
     },
     "metadata": {},
     "output_type": "display_data"
    }
   ],
   "source": [
    "i=12\n",
    "print('facet number:', i)\n",
    "display(sp.Eq(C.determinants[i], C.orientation[i]))\n",
    "\n",
    "C.subs(b4, c4-1)"
   ]
  },
  {
   "cell_type": "code",
   "execution_count": 152,
   "id": "1b556921-12af-408f-bfc8-de9e14410397",
   "metadata": {},
   "outputs": [
    {
     "data": {
      "text/latex": [
       "$\\displaystyle \\left[\\begin{matrix}1 & 0 & 0 & 0 & 0 & 0 & -1 & -1 & 0\\\\0 & 1 & 0 & 0 & 0 & -1 & - c_{2} - 2 & - c_{2} - 1 & 1\\\\0 & 0 & 1 & 0 & 0 & 1 & c_{2} + 1 & c_{2} & -1\\\\0 & 0 & 0 & 1 & 0 & 0 & c_{3} + 1 & c_{3} & -1\\\\0 & 0 & 0 & 0 & 1 & -1 & c_{4} - 1 & c_{4} & 0\\end{matrix}\\right]$"
      ],
      "text/plain": [
       "Matrix([\n",
       "[1, 0, 0, 0, 0,  0,      -1,      -1,  0],\n",
       "[0, 1, 0, 0, 0, -1, -c2 - 2, -c2 - 1,  1],\n",
       "[0, 0, 1, 0, 0,  1,  c2 + 1,      c2, -1],\n",
       "[0, 0, 0, 1, 0,  0,  c3 + 1,      c3, -1],\n",
       "[0, 0, 0, 0, 1, -1,  c4 - 1,      c4,  0]])"
      ]
     },
     "metadata": {},
     "output_type": "display_data"
    },
    {
     "name": "stdout",
     "output_type": "stream",
     "text": [
      "1\n"
     ]
    }
   ],
   "source": [
    "display(C.char)\n",
    "print(C.is_fangiving)\n",
    "fans.append(C.char)"
   ]
  },
  {
   "cell_type": "markdown",
   "id": "9b8590f3-d93a-4249-ae81-982db5b374cb",
   "metadata": {
    "jp-MarkdownHeadingCollapsed": true
   },
   "source": [
    "# Type 7 of the projection"
   ]
  },
  {
   "cell_type": "code",
   "execution_count": 163,
   "id": "5e575465-867d-444a-98cc-2856cdc63d6a",
   "metadata": {},
   "outputs": [
    {
     "data": {
      "text/latex": [
       "$\\displaystyle \\left[\\begin{matrix}1 & 0 & 0 & 0 & a_{0} & -1 & c_{0} & d_{0}\\\\0 & 1 & 0 & 0 & -1 & b_{1} & c_{1} & d_{1}\\\\0 & 0 & 1 & 0 & a_{2} & b_{2} & c_{2} & -1\\\\0 & 0 & 0 & 1 & a_{3} & b_{3} & c_{3} & -1\\end{matrix}\\right] = \\left[\\begin{matrix}1 & 0 & 0 & 0 & 0 & -1 & -1 & 0\\\\0 & 1 & 0 & 0 & -1 & -1 & -1 & 0\\\\0 & 0 & 1 & 0 & c_{2} + 2 & c_{2} + 1 & c_{2} & -1\\\\0 & 0 & 0 & 1 & c_{3} + 1 & c_{3} + 1 & c_{3} & -1\\end{matrix}\\right]$"
      ],
      "text/plain": [
       "Eq(Matrix([\n",
       "[1, 0, 0, 0, a0, -1, c0, d0],\n",
       "[0, 1, 0, 0, -1, b1, c1, d1],\n",
       "[0, 0, 1, 0, a2, b2, c2, -1],\n",
       "[0, 0, 0, 1, a3, b3, c3, -1]]), Matrix([\n",
       "[1, 0, 0, 0,      0,     -1, -1,  0],\n",
       "[0, 1, 0, 0,     -1,     -1, -1,  0],\n",
       "[0, 0, 1, 0, c2 + 2, c2 + 1, c2, -1],\n",
       "[0, 0, 0, 1, c3 + 1, c3 + 1, c3, -1]]))"
      ]
     },
     "metadata": {},
     "output_type": "display_data"
    }
   ],
   "source": [
    "C1 = copy.deepcopy(C0)\n",
    "C = C1\n",
    "t=7\n",
    "\n",
    "proj = C.proj([projectied_vertex])\n",
    "with sp.evaluate(False):\n",
    "    display(sp.Eq(proj, fans_link[t]))"
   ]
  },
  {
   "cell_type": "code",
   "execution_count": 164,
   "id": "bd29ef90-bd15-4d82-97fd-8b5df6b5abc8",
   "metadata": {},
   "outputs": [
    {
     "data": {
      "text/latex": [
       "$\\displaystyle \\text{True}$"
      ],
      "text/plain": [
       "True"
      ]
     },
     "metadata": {},
     "output_type": "display_data"
    }
   ],
   "source": [
    "C.subs(a0, 0)\n",
    "C.subs(a2, c2+2)\n",
    "C.subs(a3, c3+1)\n",
    "C.subs(b1, -1)\n",
    "C.subs(b2, c2+1)\n",
    "C.subs(b3, c3+1)\n",
    "C.subs(c0, -1)\n",
    "C.subs(c1, -1)\n",
    "C.subs(d0, 0)\n",
    "C.subs(d1, 0)\n",
    "\n",
    "display(sp.Eq(C.proj([projectied_vertex]), fans_link[t]))"
   ]
  },
  {
   "cell_type": "code",
   "execution_count": 165,
   "id": "8bb1ce49-6baa-4b1e-a9ee-ce0556c64268",
   "metadata": {},
   "outputs": [
    {
     "name": "stdout",
     "output_type": "stream",
     "text": [
      "facet number: 11\n"
     ]
    },
    {
     "data": {
      "text/latex": [
       "$\\displaystyle - b_{4} + d_{4} - 1 = -1$"
      ],
      "text/plain": [
       "Eq(-b4 + d4 - 1, -1)"
      ]
     },
     "metadata": {},
     "output_type": "display_data"
    }
   ],
   "source": [
    "i=11\n",
    "print('facet number:', i)\n",
    "display(sp.Eq(C.determinants[i], C.orientation[i]))\n",
    "\n",
    "C.subs(b4, d4)"
   ]
  },
  {
   "cell_type": "code",
   "execution_count": 166,
   "id": "8cfe8bb5-c8c6-4690-8468-0d6fb9662635",
   "metadata": {},
   "outputs": [
    {
     "name": "stdout",
     "output_type": "stream",
     "text": [
      "facet number: 21\n"
     ]
    },
    {
     "data": {
      "text/latex": [
       "$\\displaystyle c_{3} d_{4} + d_{4} - 1 = -1$"
      ],
      "text/plain": [
       "Eq(c3*d4 + d4 - 1, -1)"
      ]
     },
     "metadata": {},
     "output_type": "display_data"
    }
   ],
   "source": [
    "i=21\n",
    "print('facet number:', i)\n",
    "display(sp.Eq(C.determinants[i], C.orientation[i]))"
   ]
  },
  {
   "cell_type": "markdown",
   "id": "f65d4f5f-6e2e-4fcf-b857-8dfaea09ac04",
   "metadata": {
    "jp-MarkdownHeadingCollapsed": true
   },
   "source": [
    "## $d_4=0$"
   ]
  },
  {
   "cell_type": "code",
   "execution_count": 167,
   "id": "86f9a33c-1b97-476f-a65f-a6702e1ea2e4",
   "metadata": {},
   "outputs": [],
   "source": [
    "C2 = copy.deepcopy(C1)\n",
    "C = C2\n",
    "C.subs(d4, 0)"
   ]
  },
  {
   "cell_type": "code",
   "execution_count": 168,
   "id": "fb7674f9-58a0-4ad4-aceb-4b53a9794382",
   "metadata": {},
   "outputs": [
    {
     "name": "stdout",
     "output_type": "stream",
     "text": [
      "facet number: 15\n"
     ]
    },
    {
     "data": {
      "text/latex": [
       "$\\displaystyle c_{4} = 1$"
      ],
      "text/plain": [
       "Eq(c4, 1)"
      ]
     },
     "metadata": {},
     "output_type": "display_data"
    }
   ],
   "source": [
    "i=15\n",
    "print('facet number:', i)\n",
    "display(sp.Eq(C.determinants[i], C.orientation[i]))\n",
    "\n",
    "C.subs(c4, 1)"
   ]
  },
  {
   "cell_type": "code",
   "execution_count": 169,
   "id": "5ea8ed0a-a747-452e-9acf-a01a4240a1ec",
   "metadata": {},
   "outputs": [
    {
     "name": "stdout",
     "output_type": "stream",
     "text": [
      "facet number: 20\n"
     ]
    },
    {
     "data": {
      "text/latex": [
       "$\\displaystyle c_{3} = -1$"
      ],
      "text/plain": [
       "Eq(c3, -1)"
      ]
     },
     "metadata": {},
     "output_type": "display_data"
    }
   ],
   "source": [
    "i=20\n",
    "print('facet number:', i)\n",
    "display(sp.Eq(C.determinants[i], C.orientation[i]))\n",
    "\n",
    "C.subs(c3, -1)"
   ]
  },
  {
   "cell_type": "code",
   "execution_count": 171,
   "id": "b5a00e4c-5cca-45d0-beb8-9aea7eb38dcb",
   "metadata": {},
   "outputs": [
    {
     "name": "stdout",
     "output_type": "stream",
     "text": [
      "facet number: 26\n"
     ]
    },
    {
     "data": {
      "text/latex": [
       "$\\displaystyle - c_{2} - 2 = -1$"
      ],
      "text/plain": [
       "Eq(-c2 - 2, -1)"
      ]
     },
     "metadata": {},
     "output_type": "display_data"
    },
    {
     "name": "stdout",
     "output_type": "stream",
     "text": [
      "c2=-1, c3=-1 => type 4\n"
     ]
    }
   ],
   "source": [
    "i=26\n",
    "print('facet number:', i)\n",
    "display(sp.Eq(C.determinants[i], C.orientation[i]))\n",
    "\n",
    "print('c2=-1, c3=-1 => type 4')"
   ]
  },
  {
   "cell_type": "markdown",
   "id": "48f1d37e-4a1d-4590-93de-27878bf23308",
   "metadata": {
    "jp-MarkdownHeadingCollapsed": true
   },
   "source": [
    "## $c_3=-1$ ($d_4 \\not= 0$)"
   ]
  },
  {
   "cell_type": "code",
   "execution_count": 178,
   "id": "e0a1dd37-52cd-46ad-b004-e77c4eac884e",
   "metadata": {},
   "outputs": [],
   "source": [
    "C2 = copy.deepcopy(C1)\n",
    "C = C2\n",
    "C.subs(c3, -1)"
   ]
  },
  {
   "cell_type": "code",
   "execution_count": 180,
   "id": "68d0c994-b635-4e28-86a5-1cdbc5d6a8ac",
   "metadata": {},
   "outputs": [
    {
     "name": "stdout",
     "output_type": "stream",
     "text": [
      "facet number: 5\n"
     ]
    },
    {
     "data": {
      "text/latex": [
       "$\\displaystyle - c_{2} d_{4} - 2 d_{4} + 1 = 1$"
      ],
      "text/plain": [
       "Eq(-c2*d4 - 2*d4 + 1, 1)"
      ]
     },
     "metadata": {},
     "output_type": "display_data"
    },
    {
     "name": "stdout",
     "output_type": "stream",
     "text": [
      "c2=-2, c3=-1 => type 2\n"
     ]
    }
   ],
   "source": [
    "i=5\n",
    "print('facet number:', i)\n",
    "display(sp.Eq(C.determinants[i], C.orientation[i]))\n",
    "\n",
    "print('c2=-2, c3=-1 => type 2')"
   ]
  },
  {
   "cell_type": "markdown",
   "id": "4f26fee5-c29b-45b7-8b10-90384808406e",
   "metadata": {
    "jp-MarkdownHeadingCollapsed": true
   },
   "source": [
    "# There are 5 types of fans up to D-J equivalence"
   ]
  },
  {
   "cell_type": "markdown",
   "id": "a15f2171-c6f5-4b81-b34a-b136a2025094",
   "metadata": {
    "jp-MarkdownHeadingCollapsed": true
   },
   "source": [
    "## removing redundatnt ones"
   ]
  },
  {
   "cell_type": "code",
   "execution_count": 186,
   "id": "2febc058-1864-4f1b-8d8d-5ddcc343d413",
   "metadata": {},
   "outputs": [
    {
     "data": {
      "text/latex": [
       "$\\displaystyle \\left[\\begin{matrix}1 & 0 & 0 & 0 & 0 & 0 & -1 & -1 & 0\\\\0 & 1 & 0 & 0 & 0 & -1 & 0 & 1 & 1\\\\0 & 0 & 1 & 0 & 0 & 1 & -1 & -2 & -1\\\\0 & 0 & 0 & 1 & 0 & 0 & 0 & -1 & -1\\\\0 & 0 & 0 & 0 & 1 & -1 & 0 & 1 & 0\\end{matrix}\\right]$"
      ],
      "text/plain": [
       "Matrix([\n",
       "[1, 0, 0, 0, 0,  0, -1, -1,  0],\n",
       "[0, 1, 0, 0, 0, -1,  0,  1,  1],\n",
       "[0, 0, 1, 0, 0,  1, -1, -2, -1],\n",
       "[0, 0, 0, 1, 0,  0,  0, -1, -1],\n",
       "[0, 0, 0, 0, 1, -1,  0,  1,  0]])"
      ]
     },
     "metadata": {},
     "output_type": "display_data"
    },
    {
     "data": {
      "text/latex": [
       "$\\displaystyle \\left[\\begin{matrix}1 & 0 & 0 & 0 & 0 & 0 & -1 & -1 & 0\\\\0 & 1 & 0 & 0 & 0 & -1 & 0 & 1 & 1\\\\0 & 0 & 1 & 0 & 0 & 1 & -1 & -2 & -1\\\\0 & 0 & 0 & 1 & 0 & 0 & 0 & -1 & -1\\\\0 & 0 & 0 & 0 & 1 & -1 & b_{4} & b_{4} + 1 & 0\\end{matrix}\\right]$"
      ],
      "text/plain": [
       "Matrix([\n",
       "[1, 0, 0, 0, 0,  0, -1,     -1,  0],\n",
       "[0, 1, 0, 0, 0, -1,  0,      1,  1],\n",
       "[0, 0, 1, 0, 0,  1, -1,     -2, -1],\n",
       "[0, 0, 0, 1, 0,  0,  0,     -1, -1],\n",
       "[0, 0, 0, 0, 1, -1, b4, b4 + 1,  0]])"
      ]
     },
     "metadata": {},
     "output_type": "display_data"
    },
    {
     "data": {
      "text/latex": [
       "$\\displaystyle \\text{True}$"
      ],
      "text/plain": [
       "True"
      ]
     },
     "metadata": {},
     "output_type": "display_data"
    }
   ],
   "source": [
    "i, j = 0, 1\n",
    "display(fans[i], fans[j])\n",
    "display(sp.Eq(fans[i],fans[j].subs(b4, 0)))\n",
    "fans.remove(fans[i])"
   ]
  },
  {
   "cell_type": "code",
   "execution_count": 191,
   "id": "4950a76b-d807-4477-aab9-7a4e3a017faa",
   "metadata": {},
   "outputs": [
    {
     "data": {
      "text/latex": [
       "$\\displaystyle \\left[\\begin{matrix}1 & 0 & 0 & 0 & 0 & 0 & -1 & -1 & 0\\\\0 & 1 & 0 & 0 & 0 & -1 & 0 & 1 & 1\\\\0 & 0 & 1 & 0 & 0 & 1 & -1 & -2 & -1\\\\0 & 0 & 0 & 1 & 0 & 0 & 0 & -1 & -1\\\\0 & 0 & 0 & 0 & 1 & -1 & b_{4} & b_{4} + 1 & 0\\end{matrix}\\right]$"
      ],
      "text/plain": [
       "Matrix([\n",
       "[1, 0, 0, 0, 0,  0, -1,     -1,  0],\n",
       "[0, 1, 0, 0, 0, -1,  0,      1,  1],\n",
       "[0, 0, 1, 0, 0,  1, -1,     -2, -1],\n",
       "[0, 0, 0, 1, 0,  0,  0,     -1, -1],\n",
       "[0, 0, 0, 0, 1, -1, b4, b4 + 1,  0]])"
      ]
     },
     "metadata": {},
     "output_type": "display_data"
    },
    {
     "data": {
      "text/latex": [
       "$\\displaystyle \\left[\\begin{matrix}1 & 0 & 0 & 0 & 0 & 0 & -1 & -1 & 0\\\\0 & 1 & 0 & 0 & 0 & -1 & - c_{2} - 2 & - c_{2} - 1 & 1\\\\0 & 0 & 1 & 0 & 0 & 1 & c_{2} + 1 & c_{2} & -1\\\\0 & 0 & 0 & 1 & 0 & 0 & c_{3} + 1 & c_{3} & -1\\\\0 & 0 & 0 & 0 & 1 & -1 & c_{4} - 1 & c_{4} & 0\\end{matrix}\\right]$"
      ],
      "text/plain": [
       "Matrix([\n",
       "[1, 0, 0, 0, 0,  0,      -1,      -1,  0],\n",
       "[0, 1, 0, 0, 0, -1, -c2 - 2, -c2 - 1,  1],\n",
       "[0, 0, 1, 0, 0,  1,  c2 + 1,      c2, -1],\n",
       "[0, 0, 0, 1, 0,  0,  c3 + 1,      c3, -1],\n",
       "[0, 0, 0, 0, 1, -1,  c4 - 1,      c4,  0]])"
      ]
     },
     "metadata": {},
     "output_type": "display_data"
    },
    {
     "data": {
      "text/latex": [
       "$\\displaystyle \\text{True}$"
      ],
      "text/plain": [
       "True"
      ]
     },
     "metadata": {},
     "output_type": "display_data"
    }
   ],
   "source": [
    "i, j = 0, 8\n",
    "display(fans[i], fans[j])\n",
    "display(sp.Eq(fans[i],fans[j].subs(c2,-2).subs(c3,-1).subs(c4, b4+1)))\n",
    "fans.remove(fans[i])"
   ]
  },
  {
   "cell_type": "code",
   "execution_count": 201,
   "id": "5caa0a9d-2899-4d83-b93c-7b060b706711",
   "metadata": {},
   "outputs": [
    {
     "data": {
      "text/latex": [
       "$\\displaystyle \\left[\\begin{matrix}1 & 0 & 0 & 0 & 0 & 0 & -1 & -1 & 1\\\\0 & 1 & 0 & 0 & 0 & -1 & -2 & -1 & 2\\\\0 & 0 & 1 & 0 & 0 & 1 & 1 & 0 & -1\\\\0 & 0 & 0 & 1 & 0 & 0 & 1 & 0 & -1\\\\0 & 0 & 0 & 0 & 1 & -1 & -1 & c_{4} & 0\\end{matrix}\\right]$"
      ],
      "text/plain": [
       "Matrix([\n",
       "[1, 0, 0, 0, 0,  0, -1, -1,  1],\n",
       "[0, 1, 0, 0, 0, -1, -2, -1,  2],\n",
       "[0, 0, 1, 0, 0,  1,  1,  0, -1],\n",
       "[0, 0, 0, 1, 0,  0,  1,  0, -1],\n",
       "[0, 0, 0, 0, 1, -1, -1, c4,  0]])"
      ]
     },
     "metadata": {},
     "output_type": "display_data"
    },
    {
     "data": {
      "text/latex": [
       "$\\displaystyle \\left[\\begin{matrix}1 & 0 & 0 & 0 & 0 & 0 & -1 & - c_{3} - 1 & 1\\\\0 & 1 & 0 & 0 & 0 & -1 & -2 & - 2 c_{3} - 1 & 2\\\\0 & 0 & 1 & 0 & 0 & 1 & 1 & c_{3} & -1\\\\0 & 0 & 0 & 1 & 0 & 0 & 1 & c_{3} & -1\\\\0 & 0 & 0 & 0 & 1 & -1 & -1 & c_{4} & 0\\end{matrix}\\right]$"
      ],
      "text/plain": [
       "Matrix([\n",
       "[1, 0, 0, 0, 0,  0, -1,   -c3 - 1,  1],\n",
       "[0, 1, 0, 0, 0, -1, -2, -2*c3 - 1,  2],\n",
       "[0, 0, 1, 0, 0,  1,  1,        c3, -1],\n",
       "[0, 0, 0, 1, 0,  0,  1,        c3, -1],\n",
       "[0, 0, 0, 0, 1, -1, -1,        c4,  0]])"
      ]
     },
     "metadata": {},
     "output_type": "display_data"
    },
    {
     "data": {
      "text/latex": [
       "$\\displaystyle \\text{True}$"
      ],
      "text/plain": [
       "True"
      ]
     },
     "metadata": {},
     "output_type": "display_data"
    }
   ],
   "source": [
    "i, j = 1, 3\n",
    "display(fans[i], fans[j])\n",
    "display(sp.Eq(fans[i],fans[j].subs(c3,0)))\n",
    "fans.remove(fans[i])"
   ]
  },
  {
   "cell_type": "code",
   "execution_count": 206,
   "id": "8030fb55-f38f-47b7-9c62-b8ffc25ec8f2",
   "metadata": {},
   "outputs": [
    {
     "data": {
      "text/latex": [
       "$\\displaystyle \\left[\\begin{matrix}1 & 0 & 0 & 0 & 0 & 0 & -1 & -1 & 0\\\\0 & 1 & 0 & 0 & 0 & -1 & -2 & -1 & 1\\\\0 & 0 & 1 & 0 & 0 & 1 & 1 & 0 & -1\\\\0 & 0 & 0 & 1 & 0 & 0 & 1 & 0 & -1\\\\0 & 0 & 0 & 0 & 1 & -1 & b_{4} & b_{4} + 1 & 0\\end{matrix}\\right]$"
      ],
      "text/plain": [
       "Matrix([\n",
       "[1, 0, 0, 0, 0,  0, -1,     -1,  0],\n",
       "[0, 1, 0, 0, 0, -1, -2,     -1,  1],\n",
       "[0, 0, 1, 0, 0,  1,  1,      0, -1],\n",
       "[0, 0, 0, 1, 0,  0,  1,      0, -1],\n",
       "[0, 0, 0, 0, 1, -1, b4, b4 + 1,  0]])"
      ]
     },
     "metadata": {},
     "output_type": "display_data"
    },
    {
     "data": {
      "text/latex": [
       "$\\displaystyle \\left[\\begin{matrix}1 & 0 & 0 & 0 & 0 & 0 & -1 & -1 & 0\\\\0 & 1 & 0 & 0 & 0 & -1 & - c_{2} - 2 & - c_{2} - 1 & 1\\\\0 & 0 & 1 & 0 & 0 & 1 & c_{2} + 1 & c_{2} & -1\\\\0 & 0 & 0 & 1 & 0 & 0 & c_{3} + 1 & c_{3} & -1\\\\0 & 0 & 0 & 0 & 1 & -1 & c_{4} - 1 & c_{4} & 0\\end{matrix}\\right]$"
      ],
      "text/plain": [
       "Matrix([\n",
       "[1, 0, 0, 0, 0,  0,      -1,      -1,  0],\n",
       "[0, 1, 0, 0, 0, -1, -c2 - 2, -c2 - 1,  1],\n",
       "[0, 0, 1, 0, 0,  1,  c2 + 1,      c2, -1],\n",
       "[0, 0, 0, 1, 0,  0,  c3 + 1,      c3, -1],\n",
       "[0, 0, 0, 0, 1, -1,  c4 - 1,      c4,  0]])"
      ]
     },
     "metadata": {},
     "output_type": "display_data"
    },
    {
     "data": {
      "text/latex": [
       "$\\displaystyle \\text{True}$"
      ],
      "text/plain": [
       "True"
      ]
     },
     "metadata": {},
     "output_type": "display_data"
    }
   ],
   "source": [
    "i, j = 1, 6\n",
    "display(fans[i], fans[j])\n",
    "display(sp.Eq(fans[i],fans[j].subs(c2,0).subs(c3,0).subs(c4,b4+1)))\n",
    "fans.remove(fans[i])"
   ]
  },
  {
   "cell_type": "code",
   "execution_count": 217,
   "id": "2b5feb74-19c7-4953-9f45-ace3a8410938",
   "metadata": {},
   "outputs": [
    {
     "data": {
      "text/latex": [
       "$\\displaystyle \\left[\\begin{matrix}1 & 0 & 0 & 0 & 0 & 0 & -1 & -1 & 0\\\\0 & 1 & 0 & 0 & 0 & -1 & -1 & 0 & 1\\\\0 & 0 & 1 & 0 & 0 & 1 & 0 & -1 & -1\\\\0 & 0 & 0 & 1 & 0 & 0 & 0 & -1 & -1\\\\0 & 0 & 0 & 0 & 1 & -1 & c_{4} - 1 & c_{4} & 0\\end{matrix}\\right]$"
      ],
      "text/plain": [
       "Matrix([\n",
       "[1, 0, 0, 0, 0,  0,     -1, -1,  0],\n",
       "[0, 1, 0, 0, 0, -1,     -1,  0,  1],\n",
       "[0, 0, 1, 0, 0,  1,      0, -1, -1],\n",
       "[0, 0, 0, 1, 0,  0,      0, -1, -1],\n",
       "[0, 0, 0, 0, 1, -1, c4 - 1, c4,  0]])"
      ]
     },
     "metadata": {},
     "output_type": "display_data"
    },
    {
     "data": {
      "text/latex": [
       "$\\displaystyle \\left[\\begin{matrix}1 & 0 & 0 & 0 & 0 & 0 & -1 & -1 & 0\\\\0 & 1 & 0 & 0 & 0 & -1 & - c_{2} - 2 & - c_{2} - 1 & 1\\\\0 & 0 & 1 & 0 & 0 & 1 & c_{2} + 1 & c_{2} & -1\\\\0 & 0 & 0 & 1 & 0 & 0 & c_{3} + 1 & c_{3} & -1\\\\0 & 0 & 0 & 0 & 1 & -1 & c_{4} - 1 & c_{4} & 0\\end{matrix}\\right]$"
      ],
      "text/plain": [
       "Matrix([\n",
       "[1, 0, 0, 0, 0,  0,      -1,      -1,  0],\n",
       "[0, 1, 0, 0, 0, -1, -c2 - 2, -c2 - 1,  1],\n",
       "[0, 0, 1, 0, 0,  1,  c2 + 1,      c2, -1],\n",
       "[0, 0, 0, 1, 0,  0,  c3 + 1,      c3, -1],\n",
       "[0, 0, 0, 0, 1, -1,  c4 - 1,      c4,  0]])"
      ]
     },
     "metadata": {},
     "output_type": "display_data"
    },
    {
     "data": {
      "text/latex": [
       "$\\displaystyle \\text{True}$"
      ],
      "text/plain": [
       "True"
      ]
     },
     "metadata": {},
     "output_type": "display_data"
    }
   ],
   "source": [
    "i, j = 3, 5\n",
    "display(fans[i], fans[j])\n",
    "display(sp.Eq(fans[i],fans[j].subs(c2,-1).subs(c3,-1)))\n",
    "fans.remove(fans[i])"
   ]
  },
  {
   "cell_type": "markdown",
   "id": "ad880c11-a2bf-4410-8385-17707aeebec7",
   "metadata": {
    "jp-MarkdownHeadingCollapsed": true
   },
   "source": [
    "## list"
   ]
  },
  {
   "cell_type": "code",
   "execution_count": 223,
   "id": "70a6fda2-396f-4fc1-a2c6-b7b385d8319f",
   "metadata": {},
   "outputs": [
    {
     "data": {
      "text/latex": [
       "$\\displaystyle \\left[\\begin{matrix}1 & 0 & 0 & 0 & 0 & 0 & -1 & -1 & d_{0}\\\\0 & 1 & 0 & 0 & 0 & -1 & -2 & -1 & d_{1}\\\\0 & 0 & 1 & 0 & 0 & 1 & 1 & 0 & -1\\\\0 & 0 & 0 & 1 & 0 & 0 & 1 & 0 & -1\\\\0 & 0 & 0 & 0 & 1 & -1 & -1 & 0 & 0\\end{matrix}\\right]$"
      ],
      "text/plain": [
       "Matrix([\n",
       "[1, 0, 0, 0, 0,  0, -1, -1, d0],\n",
       "[0, 1, 0, 0, 0, -1, -2, -1, d1],\n",
       "[0, 0, 1, 0, 0,  1,  1,  0, -1],\n",
       "[0, 0, 0, 1, 0,  0,  1,  0, -1],\n",
       "[0, 0, 0, 0, 1, -1, -1,  0,  0]])"
      ]
     },
     "metadata": {},
     "output_type": "display_data"
    },
    {
     "data": {
      "text/latex": [
       "$\\displaystyle \\left[\\begin{matrix}1 & 0 & 0 & 0 & 0 & 0 & -1 & - c_{3} - 1 & 1\\\\0 & 1 & 0 & 0 & 0 & -1 & -2 & - 2 c_{3} - 1 & 2\\\\0 & 0 & 1 & 0 & 0 & 1 & 1 & c_{3} & -1\\\\0 & 0 & 0 & 1 & 0 & 0 & 1 & c_{3} & -1\\\\0 & 0 & 0 & 0 & 1 & -1 & -1 & c_{4} & 0\\end{matrix}\\right]$"
      ],
      "text/plain": [
       "Matrix([\n",
       "[1, 0, 0, 0, 0,  0, -1,   -c3 - 1,  1],\n",
       "[0, 1, 0, 0, 0, -1, -2, -2*c3 - 1,  2],\n",
       "[0, 0, 1, 0, 0,  1,  1,        c3, -1],\n",
       "[0, 0, 0, 1, 0,  0,  1,        c3, -1],\n",
       "[0, 0, 0, 0, 1, -1, -1,        c4,  0]])"
      ]
     },
     "metadata": {},
     "output_type": "display_data"
    },
    {
     "data": {
      "text/latex": [
       "$\\displaystyle \\left[\\begin{matrix}1 & 0 & 0 & 0 & 0 & 0 & -1 & d_{0} - 1 & d_{0}\\\\0 & 1 & 0 & 0 & 0 & -1 & -1 & d_{1} - 1 & d_{1}\\\\0 & 0 & 1 & 0 & 0 & 1 & 0 & -1 & -1\\\\0 & 0 & 0 & 1 & 0 & 0 & 0 & -1 & -1\\\\0 & 0 & 0 & 0 & 1 & -1 & 0 & 1 & 0\\end{matrix}\\right]$"
      ],
      "text/plain": [
       "Matrix([\n",
       "[1, 0, 0, 0, 0,  0, -1, d0 - 1, d0],\n",
       "[0, 1, 0, 0, 0, -1, -1, d1 - 1, d1],\n",
       "[0, 0, 1, 0, 0,  1,  0,     -1, -1],\n",
       "[0, 0, 0, 1, 0,  0,  0,     -1, -1],\n",
       "[0, 0, 0, 0, 1, -1,  0,      1,  0]])"
      ]
     },
     "metadata": {},
     "output_type": "display_data"
    },
    {
     "data": {
      "text/latex": [
       "$\\displaystyle \\left[\\begin{matrix}1 & 0 & 0 & 0 & 0 & 0 & -1 & 0 & 1\\\\0 & 1 & 0 & 0 & 0 & -1 & b_{1} & 1 & 2\\\\0 & 0 & 1 & 0 & 0 & 1 & - b_{1} - 1 & -1 & -1\\\\0 & 0 & 0 & 1 & 0 & 0 & b_{3} & -1 & -1\\\\0 & 0 & 0 & 0 & 1 & -1 & b_{1} + 1 & 1 & 0\\end{matrix}\\right]$"
      ],
      "text/plain": [
       "Matrix([\n",
       "[1, 0, 0, 0, 0,  0,      -1,  0,  1],\n",
       "[0, 1, 0, 0, 0, -1,      b1,  1,  2],\n",
       "[0, 0, 1, 0, 0,  1, -b1 - 1, -1, -1],\n",
       "[0, 0, 0, 1, 0,  0,      b3, -1, -1],\n",
       "[0, 0, 0, 0, 1, -1,  b1 + 1,  1,  0]])"
      ]
     },
     "metadata": {},
     "output_type": "display_data"
    },
    {
     "data": {
      "text/latex": [
       "$\\displaystyle \\left[\\begin{matrix}1 & 0 & 0 & 0 & 0 & 0 & -1 & -1 & 0\\\\0 & 1 & 0 & 0 & 0 & -1 & - c_{2} - 2 & - c_{2} - 1 & 1\\\\0 & 0 & 1 & 0 & 0 & 1 & c_{2} + 1 & c_{2} & -1\\\\0 & 0 & 0 & 1 & 0 & 0 & c_{3} + 1 & c_{3} & -1\\\\0 & 0 & 0 & 0 & 1 & -1 & c_{4} - 1 & c_{4} & 0\\end{matrix}\\right]$"
      ],
      "text/plain": [
       "Matrix([\n",
       "[1, 0, 0, 0, 0,  0,      -1,      -1,  0],\n",
       "[0, 1, 0, 0, 0, -1, -c2 - 2, -c2 - 1,  1],\n",
       "[0, 0, 1, 0, 0,  1,  c2 + 1,      c2, -1],\n",
       "[0, 0, 0, 1, 0,  0,  c3 + 1,      c3, -1],\n",
       "[0, 0, 0, 0, 1, -1,  c4 - 1,      c4,  0]])"
      ]
     },
     "metadata": {},
     "output_type": "display_data"
    }
   ],
   "source": [
    "for f in fans:\n",
    "    display(f)"
   ]
  },
  {
   "cell_type": "markdown",
   "id": "4531c34f-35ce-4da2-b3e8-f734d740f065",
   "metadata": {
    "jp-MarkdownHeadingCollapsed": true
   },
   "source": [
    "# Connections between types"
   ]
  },
  {
   "cell_type": "markdown",
   "id": "f6158e70-a423-4b66-bac9-e56d7ebeb946",
   "metadata": {
    "jp-MarkdownHeadingCollapsed": true
   },
   "source": [
    "## fan 0"
   ]
  },
  {
   "cell_type": "markdown",
   "id": "5de7cf27-c85f-4494-b7f2-bbda57dbc715",
   "metadata": {
    "jp-MarkdownHeadingCollapsed": true
   },
   "source": [
    "### fan 1 ($c_3=0$, $c_4=0$, $d_0=1$, $d_1=2$)"
   ]
  },
  {
   "cell_type": "code",
   "execution_count": 247,
   "id": "4ac936af-2ac5-4681-8929-82bae1e0f5c4",
   "metadata": {},
   "outputs": [
    {
     "data": {
      "text/latex": [
       "$\\displaystyle \\left[\\begin{matrix}1 & 0 & 0 & 0 & 0 & 0 & -1 & -1 & d_{0}\\\\0 & 1 & 0 & 0 & 0 & -1 & -2 & -1 & d_{1}\\\\0 & 0 & 1 & 0 & 0 & 1 & 1 & 0 & -1\\\\0 & 0 & 0 & 1 & 0 & 0 & 1 & 0 & -1\\\\0 & 0 & 0 & 0 & 1 & -1 & -1 & 0 & 0\\end{matrix}\\right]$"
      ],
      "text/plain": [
       "Matrix([\n",
       "[1, 0, 0, 0, 0,  0, -1, -1, d0],\n",
       "[0, 1, 0, 0, 0, -1, -2, -1, d1],\n",
       "[0, 0, 1, 0, 0,  1,  1,  0, -1],\n",
       "[0, 0, 0, 1, 0,  0,  1,  0, -1],\n",
       "[0, 0, 0, 0, 1, -1, -1,  0,  0]])"
      ]
     },
     "metadata": {},
     "output_type": "display_data"
    },
    {
     "data": {
      "text/latex": [
       "$\\displaystyle \\left[\\begin{matrix}1 & 0 & 0 & 0 & 0 & 0 & -1 & - c_{3} - 1 & 1\\\\0 & 1 & 0 & 0 & 0 & -1 & -2 & - 2 c_{3} - 1 & 2\\\\0 & 0 & 1 & 0 & 0 & 1 & 1 & c_{3} & -1\\\\0 & 0 & 0 & 1 & 0 & 0 & 1 & c_{3} & -1\\\\0 & 0 & 0 & 0 & 1 & -1 & -1 & c_{4} & 0\\end{matrix}\\right]$"
      ],
      "text/plain": [
       "Matrix([\n",
       "[1, 0, 0, 0, 0,  0, -1,   -c3 - 1,  1],\n",
       "[0, 1, 0, 0, 0, -1, -2, -2*c3 - 1,  2],\n",
       "[0, 0, 1, 0, 0,  1,  1,        c3, -1],\n",
       "[0, 0, 0, 1, 0,  0,  1,        c3, -1],\n",
       "[0, 0, 0, 0, 1, -1, -1,        c4,  0]])"
      ]
     },
     "metadata": {},
     "output_type": "display_data"
    },
    {
     "data": {
      "text/latex": [
       "$\\displaystyle \\text{True}$"
      ],
      "text/plain": [
       "True"
      ]
     },
     "metadata": {},
     "output_type": "display_data"
    }
   ],
   "source": [
    "i, j = 0, 1\n",
    "display(fans[i], fans[j])\n",
    "display(sp.Eq(fans[i].subs(d0,1).subs(d1,2),fans[j].subs(c3, 0).subs(c4,0)))"
   ]
  },
  {
   "cell_type": "markdown",
   "id": "0e7fd0ae-cefd-4430-ac78-e87893eddddd",
   "metadata": {
    "jp-MarkdownHeadingCollapsed": true
   },
   "source": [
    "### fan 4 ($c_2=0$, $c_3=0$, $c_4=0$, $d_0=0$, $d_1=1$)"
   ]
  },
  {
   "cell_type": "code",
   "execution_count": 251,
   "id": "6638300b-55eb-4aad-ae3d-ef782067da72",
   "metadata": {},
   "outputs": [
    {
     "data": {
      "text/latex": [
       "$\\displaystyle \\left[\\begin{matrix}1 & 0 & 0 & 0 & 0 & 0 & -1 & -1 & d_{0}\\\\0 & 1 & 0 & 0 & 0 & -1 & -2 & -1 & d_{1}\\\\0 & 0 & 1 & 0 & 0 & 1 & 1 & 0 & -1\\\\0 & 0 & 0 & 1 & 0 & 0 & 1 & 0 & -1\\\\0 & 0 & 0 & 0 & 1 & -1 & -1 & 0 & 0\\end{matrix}\\right]$"
      ],
      "text/plain": [
       "Matrix([\n",
       "[1, 0, 0, 0, 0,  0, -1, -1, d0],\n",
       "[0, 1, 0, 0, 0, -1, -2, -1, d1],\n",
       "[0, 0, 1, 0, 0,  1,  1,  0, -1],\n",
       "[0, 0, 0, 1, 0,  0,  1,  0, -1],\n",
       "[0, 0, 0, 0, 1, -1, -1,  0,  0]])"
      ]
     },
     "metadata": {},
     "output_type": "display_data"
    },
    {
     "data": {
      "text/latex": [
       "$\\displaystyle \\left[\\begin{matrix}1 & 0 & 0 & 0 & 0 & 0 & -1 & -1 & 0\\\\0 & 1 & 0 & 0 & 0 & -1 & - c_{2} - 2 & - c_{2} - 1 & 1\\\\0 & 0 & 1 & 0 & 0 & 1 & c_{2} + 1 & c_{2} & -1\\\\0 & 0 & 0 & 1 & 0 & 0 & c_{3} + 1 & c_{3} & -1\\\\0 & 0 & 0 & 0 & 1 & -1 & c_{4} - 1 & c_{4} & 0\\end{matrix}\\right]$"
      ],
      "text/plain": [
       "Matrix([\n",
       "[1, 0, 0, 0, 0,  0,      -1,      -1,  0],\n",
       "[0, 1, 0, 0, 0, -1, -c2 - 2, -c2 - 1,  1],\n",
       "[0, 0, 1, 0, 0,  1,  c2 + 1,      c2, -1],\n",
       "[0, 0, 0, 1, 0,  0,  c3 + 1,      c3, -1],\n",
       "[0, 0, 0, 0, 1, -1,  c4 - 1,      c4,  0]])"
      ]
     },
     "metadata": {},
     "output_type": "display_data"
    },
    {
     "data": {
      "text/latex": [
       "$\\displaystyle \\text{True}$"
      ],
      "text/plain": [
       "True"
      ]
     },
     "metadata": {},
     "output_type": "display_data"
    }
   ],
   "source": [
    "i, j = 0, 4\n",
    "display(fans[i], fans[j])\n",
    "display(sp.Eq(fans[i].subs(d0,0).subs(d1,1),fans[j].subs(c2,0).subs(c3, 0).subs(c4,0)))"
   ]
  },
  {
   "cell_type": "markdown",
   "id": "e7512130-44fd-4a78-ac56-a09e6defb666",
   "metadata": {
    "jp-MarkdownHeadingCollapsed": true
   },
   "source": [
    "## fan 1"
   ]
  },
  {
   "cell_type": "markdown",
   "id": "730eff46-7b87-4064-a020-92d746f3befc",
   "metadata": {
    "jp-MarkdownHeadingCollapsed": true
   },
   "source": [
    "### fan 0 ($c_3=0$, $c_4=0$, $d_0=1$, $d_1=2$)"
   ]
  },
  {
   "cell_type": "code",
   "execution_count": 247,
   "id": "4443d4b5-3af7-48cb-8dbd-aa2743b4106f",
   "metadata": {},
   "outputs": [
    {
     "data": {
      "text/latex": [
       "$\\displaystyle \\left[\\begin{matrix}1 & 0 & 0 & 0 & 0 & 0 & -1 & -1 & d_{0}\\\\0 & 1 & 0 & 0 & 0 & -1 & -2 & -1 & d_{1}\\\\0 & 0 & 1 & 0 & 0 & 1 & 1 & 0 & -1\\\\0 & 0 & 0 & 1 & 0 & 0 & 1 & 0 & -1\\\\0 & 0 & 0 & 0 & 1 & -1 & -1 & 0 & 0\\end{matrix}\\right]$"
      ],
      "text/plain": [
       "Matrix([\n",
       "[1, 0, 0, 0, 0,  0, -1, -1, d0],\n",
       "[0, 1, 0, 0, 0, -1, -2, -1, d1],\n",
       "[0, 0, 1, 0, 0,  1,  1,  0, -1],\n",
       "[0, 0, 0, 1, 0,  0,  1,  0, -1],\n",
       "[0, 0, 0, 0, 1, -1, -1,  0,  0]])"
      ]
     },
     "metadata": {},
     "output_type": "display_data"
    },
    {
     "data": {
      "text/latex": [
       "$\\displaystyle \\left[\\begin{matrix}1 & 0 & 0 & 0 & 0 & 0 & -1 & - c_{3} - 1 & 1\\\\0 & 1 & 0 & 0 & 0 & -1 & -2 & - 2 c_{3} - 1 & 2\\\\0 & 0 & 1 & 0 & 0 & 1 & 1 & c_{3} & -1\\\\0 & 0 & 0 & 1 & 0 & 0 & 1 & c_{3} & -1\\\\0 & 0 & 0 & 0 & 1 & -1 & -1 & c_{4} & 0\\end{matrix}\\right]$"
      ],
      "text/plain": [
       "Matrix([\n",
       "[1, 0, 0, 0, 0,  0, -1,   -c3 - 1,  1],\n",
       "[0, 1, 0, 0, 0, -1, -2, -2*c3 - 1,  2],\n",
       "[0, 0, 1, 0, 0,  1,  1,        c3, -1],\n",
       "[0, 0, 0, 1, 0,  0,  1,        c3, -1],\n",
       "[0, 0, 0, 0, 1, -1, -1,        c4,  0]])"
      ]
     },
     "metadata": {},
     "output_type": "display_data"
    },
    {
     "data": {
      "text/latex": [
       "$\\displaystyle \\text{True}$"
      ],
      "text/plain": [
       "True"
      ]
     },
     "metadata": {},
     "output_type": "display_data"
    }
   ],
   "source": [
    "i, j = 0, 1\n",
    "display(fans[i], fans[j])\n",
    "display(sp.Eq(fans[i].subs(d0,1).subs(d1,2),fans[j].subs(c3, 0).subs(c4,0)))"
   ]
  },
  {
   "cell_type": "markdown",
   "id": "a07b713c-151b-4276-ad74-33b15ff0b850",
   "metadata": {
    "jp-MarkdownHeadingCollapsed": true
   },
   "source": [
    "### fan 3 ($b_1=-2$, $b_3=1$, $c_3=-1$, $c_4=1$)"
   ]
  },
  {
   "cell_type": "code",
   "execution_count": 255,
   "id": "43d9c00f-263b-4e19-86ad-152cbf5e79e1",
   "metadata": {},
   "outputs": [
    {
     "data": {
      "text/latex": [
       "$\\displaystyle \\left[\\begin{matrix}1 & 0 & 0 & 0 & 0 & 0 & -1 & - c_{3} - 1 & 1\\\\0 & 1 & 0 & 0 & 0 & -1 & -2 & - 2 c_{3} - 1 & 2\\\\0 & 0 & 1 & 0 & 0 & 1 & 1 & c_{3} & -1\\\\0 & 0 & 0 & 1 & 0 & 0 & 1 & c_{3} & -1\\\\0 & 0 & 0 & 0 & 1 & -1 & -1 & c_{4} & 0\\end{matrix}\\right]$"
      ],
      "text/plain": [
       "Matrix([\n",
       "[1, 0, 0, 0, 0,  0, -1,   -c3 - 1,  1],\n",
       "[0, 1, 0, 0, 0, -1, -2, -2*c3 - 1,  2],\n",
       "[0, 0, 1, 0, 0,  1,  1,        c3, -1],\n",
       "[0, 0, 0, 1, 0,  0,  1,        c3, -1],\n",
       "[0, 0, 0, 0, 1, -1, -1,        c4,  0]])"
      ]
     },
     "metadata": {},
     "output_type": "display_data"
    },
    {
     "data": {
      "text/latex": [
       "$\\displaystyle \\left[\\begin{matrix}1 & 0 & 0 & 0 & 0 & 0 & -1 & 0 & 1\\\\0 & 1 & 0 & 0 & 0 & -1 & b_{1} & 1 & 2\\\\0 & 0 & 1 & 0 & 0 & 1 & - b_{1} - 1 & -1 & -1\\\\0 & 0 & 0 & 1 & 0 & 0 & b_{3} & -1 & -1\\\\0 & 0 & 0 & 0 & 1 & -1 & b_{1} + 1 & 1 & 0\\end{matrix}\\right]$"
      ],
      "text/plain": [
       "Matrix([\n",
       "[1, 0, 0, 0, 0,  0,      -1,  0,  1],\n",
       "[0, 1, 0, 0, 0, -1,      b1,  1,  2],\n",
       "[0, 0, 1, 0, 0,  1, -b1 - 1, -1, -1],\n",
       "[0, 0, 0, 1, 0,  0,      b3, -1, -1],\n",
       "[0, 0, 0, 0, 1, -1,  b1 + 1,  1,  0]])"
      ]
     },
     "metadata": {},
     "output_type": "display_data"
    },
    {
     "data": {
      "text/latex": [
       "$\\displaystyle \\text{True}$"
      ],
      "text/plain": [
       "True"
      ]
     },
     "metadata": {},
     "output_type": "display_data"
    }
   ],
   "source": [
    "i, j = 1, 3\n",
    "display(fans[i], fans[j])\n",
    "display(sp.Eq(fans[i].subs(c3,-1).subs(c4,1),fans[j].subs(b1,-2).subs(b3, 1)))"
   ]
  },
  {
   "cell_type": "markdown",
   "id": "1b3317e3-db30-4f42-8080-a0905a956649",
   "metadata": {
    "jp-MarkdownHeadingCollapsed": true
   },
   "source": [
    "## fan 2"
   ]
  },
  {
   "cell_type": "markdown",
   "id": "ed8b643b-f168-43cf-b098-64c991e362a1",
   "metadata": {
    "jp-MarkdownHeadingCollapsed": true
   },
   "source": [
    "### fan 3 ($b_1=-1$, $b_3=0$, $d_0=1$, $d_1=2$)"
   ]
  },
  {
   "cell_type": "code",
   "execution_count": 258,
   "id": "bcfeed45-c4d9-48fe-8801-0342f6295f0d",
   "metadata": {},
   "outputs": [
    {
     "data": {
      "text/latex": [
       "$\\displaystyle \\left[\\begin{matrix}1 & 0 & 0 & 0 & 0 & 0 & -1 & d_{0} - 1 & d_{0}\\\\0 & 1 & 0 & 0 & 0 & -1 & -1 & d_{1} - 1 & d_{1}\\\\0 & 0 & 1 & 0 & 0 & 1 & 0 & -1 & -1\\\\0 & 0 & 0 & 1 & 0 & 0 & 0 & -1 & -1\\\\0 & 0 & 0 & 0 & 1 & -1 & 0 & 1 & 0\\end{matrix}\\right]$"
      ],
      "text/plain": [
       "Matrix([\n",
       "[1, 0, 0, 0, 0,  0, -1, d0 - 1, d0],\n",
       "[0, 1, 0, 0, 0, -1, -1, d1 - 1, d1],\n",
       "[0, 0, 1, 0, 0,  1,  0,     -1, -1],\n",
       "[0, 0, 0, 1, 0,  0,  0,     -1, -1],\n",
       "[0, 0, 0, 0, 1, -1,  0,      1,  0]])"
      ]
     },
     "metadata": {},
     "output_type": "display_data"
    },
    {
     "data": {
      "text/latex": [
       "$\\displaystyle \\left[\\begin{matrix}1 & 0 & 0 & 0 & 0 & 0 & -1 & 0 & 1\\\\0 & 1 & 0 & 0 & 0 & -1 & b_{1} & 1 & 2\\\\0 & 0 & 1 & 0 & 0 & 1 & - b_{1} - 1 & -1 & -1\\\\0 & 0 & 0 & 1 & 0 & 0 & b_{3} & -1 & -1\\\\0 & 0 & 0 & 0 & 1 & -1 & b_{1} + 1 & 1 & 0\\end{matrix}\\right]$"
      ],
      "text/plain": [
       "Matrix([\n",
       "[1, 0, 0, 0, 0,  0,      -1,  0,  1],\n",
       "[0, 1, 0, 0, 0, -1,      b1,  1,  2],\n",
       "[0, 0, 1, 0, 0,  1, -b1 - 1, -1, -1],\n",
       "[0, 0, 0, 1, 0,  0,      b3, -1, -1],\n",
       "[0, 0, 0, 0, 1, -1,  b1 + 1,  1,  0]])"
      ]
     },
     "metadata": {},
     "output_type": "display_data"
    },
    {
     "data": {
      "text/latex": [
       "$\\displaystyle \\text{True}$"
      ],
      "text/plain": [
       "True"
      ]
     },
     "metadata": {},
     "output_type": "display_data"
    }
   ],
   "source": [
    "i, j = 2, 3\n",
    "display(fans[i], fans[j])\n",
    "display(sp.Eq(fans[i].subs(d0,1).subs(d1,2),fans[j].subs(b1,-1).subs(b3,0)))"
   ]
  },
  {
   "cell_type": "markdown",
   "id": "be3b28a2-0dfb-4b1e-80b1-bd7fe37b83db",
   "metadata": {
    "jp-MarkdownHeadingCollapsed": true
   },
   "source": [
    "### fan 4 ($c_2=-1$, $c_3=-1$, $c_4=1$, $d_0=0$, $d_1=1$)"
   ]
  },
  {
   "cell_type": "code",
   "execution_count": 260,
   "id": "d49011b9-960e-4a53-9d31-d348049e40ce",
   "metadata": {},
   "outputs": [
    {
     "data": {
      "text/latex": [
       "$\\displaystyle \\left[\\begin{matrix}1 & 0 & 0 & 0 & 0 & 0 & -1 & d_{0} - 1 & d_{0}\\\\0 & 1 & 0 & 0 & 0 & -1 & -1 & d_{1} - 1 & d_{1}\\\\0 & 0 & 1 & 0 & 0 & 1 & 0 & -1 & -1\\\\0 & 0 & 0 & 1 & 0 & 0 & 0 & -1 & -1\\\\0 & 0 & 0 & 0 & 1 & -1 & 0 & 1 & 0\\end{matrix}\\right]$"
      ],
      "text/plain": [
       "Matrix([\n",
       "[1, 0, 0, 0, 0,  0, -1, d0 - 1, d0],\n",
       "[0, 1, 0, 0, 0, -1, -1, d1 - 1, d1],\n",
       "[0, 0, 1, 0, 0,  1,  0,     -1, -1],\n",
       "[0, 0, 0, 1, 0,  0,  0,     -1, -1],\n",
       "[0, 0, 0, 0, 1, -1,  0,      1,  0]])"
      ]
     },
     "metadata": {},
     "output_type": "display_data"
    },
    {
     "data": {
      "text/latex": [
       "$\\displaystyle \\left[\\begin{matrix}1 & 0 & 0 & 0 & 0 & 0 & -1 & -1 & 0\\\\0 & 1 & 0 & 0 & 0 & -1 & - c_{2} - 2 & - c_{2} - 1 & 1\\\\0 & 0 & 1 & 0 & 0 & 1 & c_{2} + 1 & c_{2} & -1\\\\0 & 0 & 0 & 1 & 0 & 0 & c_{3} + 1 & c_{3} & -1\\\\0 & 0 & 0 & 0 & 1 & -1 & c_{4} - 1 & c_{4} & 0\\end{matrix}\\right]$"
      ],
      "text/plain": [
       "Matrix([\n",
       "[1, 0, 0, 0, 0,  0,      -1,      -1,  0],\n",
       "[0, 1, 0, 0, 0, -1, -c2 - 2, -c2 - 1,  1],\n",
       "[0, 0, 1, 0, 0,  1,  c2 + 1,      c2, -1],\n",
       "[0, 0, 0, 1, 0,  0,  c3 + 1,      c3, -1],\n",
       "[0, 0, 0, 0, 1, -1,  c4 - 1,      c4,  0]])"
      ]
     },
     "metadata": {},
     "output_type": "display_data"
    },
    {
     "data": {
      "text/latex": [
       "$\\displaystyle \\text{True}$"
      ],
      "text/plain": [
       "True"
      ]
     },
     "metadata": {},
     "output_type": "display_data"
    }
   ],
   "source": [
    "i, j = 2, 4\n",
    "display(fans[i], fans[j])\n",
    "display(sp.Eq(fans[i].subs(d0,0).subs(d1,1),fans[j].subs(c2,-1).subs(c3,-1).subs(c4,1)))"
   ]
  },
  {
   "cell_type": "markdown",
   "id": "454b9727-eb20-44e7-acd3-0b13b04f81ab",
   "metadata": {
    "jp-MarkdownHeadingCollapsed": true
   },
   "source": [
    "## fan 3"
   ]
  },
  {
   "cell_type": "markdown",
   "id": "ec85ef7f-4c78-4b2b-b5c9-acc6dd1b6c7f",
   "metadata": {
    "jp-MarkdownHeadingCollapsed": true
   },
   "source": [
    "### fan 1 ($b_1=-2$, $b_3=1$, $c_3=-1$, $c_4=1$)"
   ]
  },
  {
   "cell_type": "code",
   "execution_count": 255,
   "id": "4fd87b04-d1f3-47ec-a47c-273011ce4c50",
   "metadata": {},
   "outputs": [
    {
     "data": {
      "text/latex": [
       "$\\displaystyle \\left[\\begin{matrix}1 & 0 & 0 & 0 & 0 & 0 & -1 & - c_{3} - 1 & 1\\\\0 & 1 & 0 & 0 & 0 & -1 & -2 & - 2 c_{3} - 1 & 2\\\\0 & 0 & 1 & 0 & 0 & 1 & 1 & c_{3} & -1\\\\0 & 0 & 0 & 1 & 0 & 0 & 1 & c_{3} & -1\\\\0 & 0 & 0 & 0 & 1 & -1 & -1 & c_{4} & 0\\end{matrix}\\right]$"
      ],
      "text/plain": [
       "Matrix([\n",
       "[1, 0, 0, 0, 0,  0, -1,   -c3 - 1,  1],\n",
       "[0, 1, 0, 0, 0, -1, -2, -2*c3 - 1,  2],\n",
       "[0, 0, 1, 0, 0,  1,  1,        c3, -1],\n",
       "[0, 0, 0, 1, 0,  0,  1,        c3, -1],\n",
       "[0, 0, 0, 0, 1, -1, -1,        c4,  0]])"
      ]
     },
     "metadata": {},
     "output_type": "display_data"
    },
    {
     "data": {
      "text/latex": [
       "$\\displaystyle \\left[\\begin{matrix}1 & 0 & 0 & 0 & 0 & 0 & -1 & 0 & 1\\\\0 & 1 & 0 & 0 & 0 & -1 & b_{1} & 1 & 2\\\\0 & 0 & 1 & 0 & 0 & 1 & - b_{1} - 1 & -1 & -1\\\\0 & 0 & 0 & 1 & 0 & 0 & b_{3} & -1 & -1\\\\0 & 0 & 0 & 0 & 1 & -1 & b_{1} + 1 & 1 & 0\\end{matrix}\\right]$"
      ],
      "text/plain": [
       "Matrix([\n",
       "[1, 0, 0, 0, 0,  0,      -1,  0,  1],\n",
       "[0, 1, 0, 0, 0, -1,      b1,  1,  2],\n",
       "[0, 0, 1, 0, 0,  1, -b1 - 1, -1, -1],\n",
       "[0, 0, 0, 1, 0,  0,      b3, -1, -1],\n",
       "[0, 0, 0, 0, 1, -1,  b1 + 1,  1,  0]])"
      ]
     },
     "metadata": {},
     "output_type": "display_data"
    },
    {
     "data": {
      "text/latex": [
       "$\\displaystyle \\text{True}$"
      ],
      "text/plain": [
       "True"
      ]
     },
     "metadata": {},
     "output_type": "display_data"
    }
   ],
   "source": [
    "i, j = 1, 3\n",
    "display(fans[i], fans[j])\n",
    "display(sp.Eq(fans[i].subs(c3,-1).subs(c4,1),fans[j].subs(b1,-2).subs(b3, 1)))"
   ]
  },
  {
   "cell_type": "markdown",
   "id": "25f2bcf1-58f1-4e07-9a20-8da37dbfba65",
   "metadata": {
    "jp-MarkdownHeadingCollapsed": true
   },
   "source": [
    "### fan 2 ($b_1=-1$, $b_3=0$, $d_0=1$, $d_1=2$)"
   ]
  },
  {
   "cell_type": "code",
   "execution_count": 258,
   "id": "ac55b4ad-7587-4c5a-b9f7-4267d78aed7a",
   "metadata": {},
   "outputs": [
    {
     "data": {
      "text/latex": [
       "$\\displaystyle \\left[\\begin{matrix}1 & 0 & 0 & 0 & 0 & 0 & -1 & d_{0} - 1 & d_{0}\\\\0 & 1 & 0 & 0 & 0 & -1 & -1 & d_{1} - 1 & d_{1}\\\\0 & 0 & 1 & 0 & 0 & 1 & 0 & -1 & -1\\\\0 & 0 & 0 & 1 & 0 & 0 & 0 & -1 & -1\\\\0 & 0 & 0 & 0 & 1 & -1 & 0 & 1 & 0\\end{matrix}\\right]$"
      ],
      "text/plain": [
       "Matrix([\n",
       "[1, 0, 0, 0, 0,  0, -1, d0 - 1, d0],\n",
       "[0, 1, 0, 0, 0, -1, -1, d1 - 1, d1],\n",
       "[0, 0, 1, 0, 0,  1,  0,     -1, -1],\n",
       "[0, 0, 0, 1, 0,  0,  0,     -1, -1],\n",
       "[0, 0, 0, 0, 1, -1,  0,      1,  0]])"
      ]
     },
     "metadata": {},
     "output_type": "display_data"
    },
    {
     "data": {
      "text/latex": [
       "$\\displaystyle \\left[\\begin{matrix}1 & 0 & 0 & 0 & 0 & 0 & -1 & 0 & 1\\\\0 & 1 & 0 & 0 & 0 & -1 & b_{1} & 1 & 2\\\\0 & 0 & 1 & 0 & 0 & 1 & - b_{1} - 1 & -1 & -1\\\\0 & 0 & 0 & 1 & 0 & 0 & b_{3} & -1 & -1\\\\0 & 0 & 0 & 0 & 1 & -1 & b_{1} + 1 & 1 & 0\\end{matrix}\\right]$"
      ],
      "text/plain": [
       "Matrix([\n",
       "[1, 0, 0, 0, 0,  0,      -1,  0,  1],\n",
       "[0, 1, 0, 0, 0, -1,      b1,  1,  2],\n",
       "[0, 0, 1, 0, 0,  1, -b1 - 1, -1, -1],\n",
       "[0, 0, 0, 1, 0,  0,      b3, -1, -1],\n",
       "[0, 0, 0, 0, 1, -1,  b1 + 1,  1,  0]])"
      ]
     },
     "metadata": {},
     "output_type": "display_data"
    },
    {
     "data": {
      "text/latex": [
       "$\\displaystyle \\text{True}$"
      ],
      "text/plain": [
       "True"
      ]
     },
     "metadata": {},
     "output_type": "display_data"
    }
   ],
   "source": [
    "i, j = 2, 3\n",
    "display(fans[i], fans[j])\n",
    "display(sp.Eq(fans[i].subs(d0,1).subs(d1,2),fans[j].subs(b1,-1).subs(b3,0)))"
   ]
  },
  {
   "cell_type": "markdown",
   "id": "562f1726-1690-4b37-bcbf-b58a3eeba88a",
   "metadata": {
    "jp-MarkdownHeadingCollapsed": true
   },
   "source": [
    "## fan 4"
   ]
  },
  {
   "cell_type": "markdown",
   "id": "372a5aaa-ac04-49a8-855b-3d47d475e0a2",
   "metadata": {
    "jp-MarkdownHeadingCollapsed": true
   },
   "source": [
    "### fan 0 ($c_2=0$, $c_3=0$, $c_4=0$, $d_0=0$, $d_1=1$)"
   ]
  },
  {
   "cell_type": "code",
   "execution_count": 251,
   "id": "0216eaf7-9c36-493e-a1d9-d3408675cedf",
   "metadata": {},
   "outputs": [
    {
     "data": {
      "text/latex": [
       "$\\displaystyle \\left[\\begin{matrix}1 & 0 & 0 & 0 & 0 & 0 & -1 & -1 & d_{0}\\\\0 & 1 & 0 & 0 & 0 & -1 & -2 & -1 & d_{1}\\\\0 & 0 & 1 & 0 & 0 & 1 & 1 & 0 & -1\\\\0 & 0 & 0 & 1 & 0 & 0 & 1 & 0 & -1\\\\0 & 0 & 0 & 0 & 1 & -1 & -1 & 0 & 0\\end{matrix}\\right]$"
      ],
      "text/plain": [
       "Matrix([\n",
       "[1, 0, 0, 0, 0,  0, -1, -1, d0],\n",
       "[0, 1, 0, 0, 0, -1, -2, -1, d1],\n",
       "[0, 0, 1, 0, 0,  1,  1,  0, -1],\n",
       "[0, 0, 0, 1, 0,  0,  1,  0, -1],\n",
       "[0, 0, 0, 0, 1, -1, -1,  0,  0]])"
      ]
     },
     "metadata": {},
     "output_type": "display_data"
    },
    {
     "data": {
      "text/latex": [
       "$\\displaystyle \\left[\\begin{matrix}1 & 0 & 0 & 0 & 0 & 0 & -1 & -1 & 0\\\\0 & 1 & 0 & 0 & 0 & -1 & - c_{2} - 2 & - c_{2} - 1 & 1\\\\0 & 0 & 1 & 0 & 0 & 1 & c_{2} + 1 & c_{2} & -1\\\\0 & 0 & 0 & 1 & 0 & 0 & c_{3} + 1 & c_{3} & -1\\\\0 & 0 & 0 & 0 & 1 & -1 & c_{4} - 1 & c_{4} & 0\\end{matrix}\\right]$"
      ],
      "text/plain": [
       "Matrix([\n",
       "[1, 0, 0, 0, 0,  0,      -1,      -1,  0],\n",
       "[0, 1, 0, 0, 0, -1, -c2 - 2, -c2 - 1,  1],\n",
       "[0, 0, 1, 0, 0,  1,  c2 + 1,      c2, -1],\n",
       "[0, 0, 0, 1, 0,  0,  c3 + 1,      c3, -1],\n",
       "[0, 0, 0, 0, 1, -1,  c4 - 1,      c4,  0]])"
      ]
     },
     "metadata": {},
     "output_type": "display_data"
    },
    {
     "data": {
      "text/latex": [
       "$\\displaystyle \\text{True}$"
      ],
      "text/plain": [
       "True"
      ]
     },
     "metadata": {},
     "output_type": "display_data"
    }
   ],
   "source": [
    "i, j = 0, 4\n",
    "display(fans[i], fans[j])\n",
    "display(sp.Eq(fans[i].subs(d0,0).subs(d1,1),fans[j].subs(c2,0).subs(c3, 0).subs(c4,0)))"
   ]
  },
  {
   "cell_type": "markdown",
   "id": "9b0d5738-f844-4e7d-bb46-7294de8a55b0",
   "metadata": {
    "jp-MarkdownHeadingCollapsed": true
   },
   "source": [
    "### fan 2 ($c_2=-1$, $c_3=-1$, $c_4=1$, $d_0=0$, $d_1=1$)"
   ]
  },
  {
   "cell_type": "code",
   "execution_count": 260,
   "id": "8bb60af2-3e8d-4556-8c4d-a77ae29723a6",
   "metadata": {},
   "outputs": [
    {
     "data": {
      "text/latex": [
       "$\\displaystyle \\left[\\begin{matrix}1 & 0 & 0 & 0 & 0 & 0 & -1 & d_{0} - 1 & d_{0}\\\\0 & 1 & 0 & 0 & 0 & -1 & -1 & d_{1} - 1 & d_{1}\\\\0 & 0 & 1 & 0 & 0 & 1 & 0 & -1 & -1\\\\0 & 0 & 0 & 1 & 0 & 0 & 0 & -1 & -1\\\\0 & 0 & 0 & 0 & 1 & -1 & 0 & 1 & 0\\end{matrix}\\right]$"
      ],
      "text/plain": [
       "Matrix([\n",
       "[1, 0, 0, 0, 0,  0, -1, d0 - 1, d0],\n",
       "[0, 1, 0, 0, 0, -1, -1, d1 - 1, d1],\n",
       "[0, 0, 1, 0, 0,  1,  0,     -1, -1],\n",
       "[0, 0, 0, 1, 0,  0,  0,     -1, -1],\n",
       "[0, 0, 0, 0, 1, -1,  0,      1,  0]])"
      ]
     },
     "metadata": {},
     "output_type": "display_data"
    },
    {
     "data": {
      "text/latex": [
       "$\\displaystyle \\left[\\begin{matrix}1 & 0 & 0 & 0 & 0 & 0 & -1 & -1 & 0\\\\0 & 1 & 0 & 0 & 0 & -1 & - c_{2} - 2 & - c_{2} - 1 & 1\\\\0 & 0 & 1 & 0 & 0 & 1 & c_{2} + 1 & c_{2} & -1\\\\0 & 0 & 0 & 1 & 0 & 0 & c_{3} + 1 & c_{3} & -1\\\\0 & 0 & 0 & 0 & 1 & -1 & c_{4} - 1 & c_{4} & 0\\end{matrix}\\right]$"
      ],
      "text/plain": [
       "Matrix([\n",
       "[1, 0, 0, 0, 0,  0,      -1,      -1,  0],\n",
       "[0, 1, 0, 0, 0, -1, -c2 - 2, -c2 - 1,  1],\n",
       "[0, 0, 1, 0, 0,  1,  c2 + 1,      c2, -1],\n",
       "[0, 0, 0, 1, 0,  0,  c3 + 1,      c3, -1],\n",
       "[0, 0, 0, 0, 1, -1,  c4 - 1,      c4,  0]])"
      ]
     },
     "metadata": {},
     "output_type": "display_data"
    },
    {
     "data": {
      "text/latex": [
       "$\\displaystyle \\text{True}$"
      ],
      "text/plain": [
       "True"
      ]
     },
     "metadata": {},
     "output_type": "display_data"
    }
   ],
   "source": [
    "i, j = 2, 4\n",
    "display(fans[i], fans[j])\n",
    "display(sp.Eq(fans[i].subs(d0,0).subs(d1,1),fans[j].subs(c2,-1).subs(c3,-1).subs(c4,1)))"
   ]
  },
  {
   "cell_type": "markdown",
   "id": "0d8d8e04-5f3e-41c1-aef0-63fbe399e3b0",
   "metadata": {
    "jp-MarkdownHeadingCollapsed": true
   },
   "source": [
    "# There are 3 types of fans up to D-J equivalence and symmetry"
   ]
  },
  {
   "cell_type": "code",
   "execution_count": 224,
   "id": "abf8f74a-910d-47f9-87db-44b49951c7fb",
   "metadata": {},
   "outputs": [
    {
     "data": {
      "text/plain": [
       "[[1, 2, 3, 4, 5, 6, 7, 8, 9], [1, 2, 3, 9, 6, 5, 8, 7, 4]]"
      ]
     },
     "execution_count": 224,
     "metadata": {},
     "output_type": "execute_result"
    }
   ],
   "source": [
    "K.symmetries"
   ]
  },
  {
   "cell_type": "code",
   "execution_count": 225,
   "id": "f95934a9-dbf1-44f3-9eb1-a3704b841528",
   "metadata": {},
   "outputs": [],
   "source": [
    "symm_index = [(np.array(i)-1).tolist() for i in K.symmetries]"
   ]
  },
  {
   "cell_type": "markdown",
   "id": "e13a7f3c-8f33-4b1b-9640-bb164aba42ce",
   "metadata": {
    "jp-MarkdownHeadingCollapsed": true
   },
   "source": [
    "## types 0, 2"
   ]
  },
  {
   "cell_type": "code",
   "execution_count": 228,
   "id": "c342a63d-9519-4fb8-a194-5a40485bf101",
   "metadata": {},
   "outputs": [
    {
     "data": {
      "text/latex": [
       "$\\displaystyle \\left[\\begin{matrix}1 & 0 & 0 & 0 & 0 & 0 & -1 & d_{0} - 1 & d_{0}\\\\0 & 1 & 0 & 0 & 0 & -1 & -1 & d_{1} - 1 & d_{1}\\\\0 & 0 & 1 & 0 & 0 & 1 & 0 & -1 & -1\\\\0 & 0 & 0 & 1 & 0 & 0 & 0 & -1 & -1\\\\0 & 0 & 0 & 0 & 1 & -1 & 0 & 1 & 0\\end{matrix}\\right]$"
      ],
      "text/plain": [
       "Matrix([\n",
       "[1, 0, 0, 0, 0,  0, -1, d0 - 1, d0],\n",
       "[0, 1, 0, 0, 0, -1, -1, d1 - 1, d1],\n",
       "[0, 0, 1, 0, 0,  1,  0,     -1, -1],\n",
       "[0, 0, 0, 1, 0,  0,  0,     -1, -1],\n",
       "[0, 0, 0, 0, 1, -1,  0,      1,  0]])"
      ]
     },
     "metadata": {},
     "output_type": "display_data"
    },
    {
     "data": {
      "text/latex": [
       "$\\displaystyle \\left[\\begin{matrix}1 & 0 & 0 & 0 & 0 & 0 & -1 & d_{0} - 1 & d_{0}\\\\0 & 1 & 0 & 0 & 0 & -1 & -1 & d_{1} - 1 & d_{1}\\\\0 & 0 & 1 & 0 & 0 & 1 & 0 & -1 & -1\\\\0 & 0 & 0 & 1 & 0 & 0 & 0 & -1 & -1\\\\0 & 0 & 0 & 0 & 1 & -1 & 0 & 1 & 0\\end{matrix}\\right]$"
      ],
      "text/plain": [
       "Matrix([\n",
       "[1, 0, 0, 0, 0,  0, -1, d0 - 1, d0],\n",
       "[0, 1, 0, 0, 0, -1, -1, d1 - 1, d1],\n",
       "[0, 0, 1, 0, 0,  1,  0,     -1, -1],\n",
       "[0, 0, 0, 1, 0,  0,  0,     -1, -1],\n",
       "[0, 0, 0, 0, 1, -1,  0,      1,  0]])"
      ]
     },
     "metadata": {},
     "output_type": "display_data"
    }
   ],
   "source": [
    "display(fans[0][:, symm_index[1]].rref()[0])\n",
    "display(fans[2])"
   ]
  },
  {
   "cell_type": "markdown",
   "id": "1c2a537e-ca6e-406e-98e2-1e49aed6dc02",
   "metadata": {
    "jp-MarkdownHeadingCollapsed": true
   },
   "source": [
    "## types 1, 3"
   ]
  },
  {
   "cell_type": "code",
   "execution_count": 231,
   "id": "6876c180-380f-4d9f-9071-6437ffe803a2",
   "metadata": {},
   "outputs": [
    {
     "data": {
      "text/latex": [
       "$\\displaystyle \\left[\\begin{matrix}1 & 0 & 0 & 0 & 0 & 0 & -1 & 0 & 1\\\\0 & 1 & 0 & 0 & 0 & -1 & - c_{4} - 1 & 1 & 2\\\\0 & 0 & 1 & 0 & 0 & 1 & c_{4} & -1 & -1\\\\0 & 0 & 0 & 1 & 0 & 0 & - c_{3} & -1 & -1\\\\0 & 0 & 0 & 0 & 1 & -1 & - c_{4} & 1 & 0\\end{matrix}\\right]$"
      ],
      "text/plain": [
       "Matrix([\n",
       "[1, 0, 0, 0, 0,  0,      -1,  0,  1],\n",
       "[0, 1, 0, 0, 0, -1, -c4 - 1,  1,  2],\n",
       "[0, 0, 1, 0, 0,  1,      c4, -1, -1],\n",
       "[0, 0, 0, 1, 0,  0,     -c3, -1, -1],\n",
       "[0, 0, 0, 0, 1, -1,     -c4,  1,  0]])"
      ]
     },
     "metadata": {},
     "output_type": "display_data"
    },
    {
     "data": {
      "text/latex": [
       "$\\displaystyle \\left[\\begin{matrix}1 & 0 & 0 & 0 & 0 & 0 & -1 & 0 & 1\\\\0 & 1 & 0 & 0 & 0 & -1 & b_{1} & 1 & 2\\\\0 & 0 & 1 & 0 & 0 & 1 & - b_{1} - 1 & -1 & -1\\\\0 & 0 & 0 & 1 & 0 & 0 & b_{3} & -1 & -1\\\\0 & 0 & 0 & 0 & 1 & -1 & b_{1} + 1 & 1 & 0\\end{matrix}\\right]$"
      ],
      "text/plain": [
       "Matrix([\n",
       "[1, 0, 0, 0, 0,  0,      -1,  0,  1],\n",
       "[0, 1, 0, 0, 0, -1,      b1,  1,  2],\n",
       "[0, 0, 1, 0, 0,  1, -b1 - 1, -1, -1],\n",
       "[0, 0, 0, 1, 0,  0,      b3, -1, -1],\n",
       "[0, 0, 0, 0, 1, -1,  b1 + 1,  1,  0]])"
      ]
     },
     "metadata": {},
     "output_type": "display_data"
    }
   ],
   "source": [
    "display(fans[1][:, symm_index[1]].rref()[0])\n",
    "display(fans[3])"
   ]
  },
  {
   "cell_type": "markdown",
   "id": "aaed44b8-eac2-4bf3-9df6-305252feb232",
   "metadata": {
    "jp-MarkdownHeadingCollapsed": true
   },
   "source": [
    "## type 4"
   ]
  },
  {
   "cell_type": "code",
   "execution_count": 232,
   "id": "bfeaaebc-f7f5-437c-9649-d94661145d4c",
   "metadata": {},
   "outputs": [
    {
     "data": {
      "text/latex": [
       "$\\displaystyle \\left[\\begin{matrix}1 & 0 & 0 & 0 & 0 & 0 & -1 & -1 & 0\\\\0 & 1 & 0 & 0 & 0 & -1 & - c_{2} + c_{3} - c_{4} - 1 & - c_{2} + c_{3} - c_{4} & 1\\\\0 & 0 & 1 & 0 & 0 & 1 & c_{2} - c_{3} + c_{4} & c_{2} - c_{3} + c_{4} - 1 & -1\\\\0 & 0 & 0 & 1 & 0 & 0 & - c_{3} & - c_{3} - 1 & -1\\\\0 & 0 & 0 & 0 & 1 & -1 & - c_{4} & 1 - c_{4} & 0\\end{matrix}\\right]$"
      ],
      "text/plain": [
       "Matrix([\n",
       "[1, 0, 0, 0, 0,  0,                -1,               -1,  0],\n",
       "[0, 1, 0, 0, 0, -1, -c2 + c3 - c4 - 1,    -c2 + c3 - c4,  1],\n",
       "[0, 0, 1, 0, 0,  1,      c2 - c3 + c4, c2 - c3 + c4 - 1, -1],\n",
       "[0, 0, 0, 1, 0,  0,               -c3,          -c3 - 1, -1],\n",
       "[0, 0, 0, 0, 1, -1,               -c4,           1 - c4,  0]])"
      ]
     },
     "metadata": {},
     "output_type": "display_data"
    },
    {
     "data": {
      "text/latex": [
       "$\\displaystyle \\left[\\begin{matrix}1 & 0 & 0 & 0 & 0 & 0 & -1 & -1 & 0\\\\0 & 1 & 0 & 0 & 0 & -1 & - c_{2} - 2 & - c_{2} - 1 & 1\\\\0 & 0 & 1 & 0 & 0 & 1 & c_{2} + 1 & c_{2} & -1\\\\0 & 0 & 0 & 1 & 0 & 0 & c_{3} + 1 & c_{3} & -1\\\\0 & 0 & 0 & 0 & 1 & -1 & c_{4} - 1 & c_{4} & 0\\end{matrix}\\right]$"
      ],
      "text/plain": [
       "Matrix([\n",
       "[1, 0, 0, 0, 0,  0,      -1,      -1,  0],\n",
       "[0, 1, 0, 0, 0, -1, -c2 - 2, -c2 - 1,  1],\n",
       "[0, 0, 1, 0, 0,  1,  c2 + 1,      c2, -1],\n",
       "[0, 0, 0, 1, 0,  0,  c3 + 1,      c3, -1],\n",
       "[0, 0, 0, 0, 1, -1,  c4 - 1,      c4,  0]])"
      ]
     },
     "metadata": {},
     "output_type": "display_data"
    }
   ],
   "source": [
    "display(fans[4][:, symm_index[1]].rref()[0])\n",
    "display(fans[4])"
   ]
  }
 ],
 "metadata": {
  "kernelspec": {
   "display_name": "Python 3 (ipykernel)",
   "language": "python",
   "name": "python3"
  },
  "language_info": {
   "codemirror_mode": {
    "name": "ipython",
    "version": 3
   },
   "file_extension": ".py",
   "mimetype": "text/x-python",
   "name": "python",
   "nbconvert_exporter": "python",
   "pygments_lexer": "ipython3",
   "version": "3.12.7"
  }
 },
 "nbformat": 4,
 "nbformat_minor": 5
}
