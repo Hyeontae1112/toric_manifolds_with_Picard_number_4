{
 "cells": [
  {
   "cell_type": "markdown",
   "id": "bbe50b2f-3e60-4c39-8260-5c4af5280724",
   "metadata": {
    "jp-MarkdownHeadingCollapsed": true
   },
   "source": [
    "# Preparation"
   ]
  },
  {
   "cell_type": "code",
   "execution_count": 1,
   "id": "71a173c3-696c-4e13-b54a-761c02ad8099",
   "metadata": {},
   "outputs": [],
   "source": [
    "%run programs\\\\Characteristic_Pair.py\n",
    "import copy\n",
    "from tqdm import trange\n",
    "K = Simplicial_Complex(json.loads(read_file('programs\\\\fanlikes')[2]))\n",
    "M = initial_char(K.n)[:, [3,0,2,1,4,5,6]]\n",
    "C0 = Characteristic_Pair(K, M)\n",
    "fans = []\n",
    "\n",
    "a = sp.symbols('a0:%d'%K.n)\n",
    "b = sp.symbols('b0:%d'%K.n)\n",
    "c = sp.symbols('c0:%d'%K.n)\n",
    "d = sp.symbols('d0:%d'%K.n)\n",
    "\n",
    "a0, a1, a2 = a[:]\n",
    "b0, b1, b2 = b[:]\n",
    "c0, c1, c2 = c[:]\n",
    "d0, d1, d2 = d[:]\n",
    "x=sp.Symbol('x')"
   ]
  },
  {
   "cell_type": "code",
   "execution_count": 2,
   "id": "61038c9a-cf3d-4d67-b729-f5ce68afcd56",
   "metadata": {},
   "outputs": [
    {
     "data": {
      "text/latex": [
       "$\\displaystyle \\left[\\begin{matrix}a_{0} & 1 & 0 & 0 & b_{0} & c_{0} & d_{0}\\\\a_{1} & 0 & 0 & 1 & b_{1} & c_{1} & d_{1}\\\\a_{2} & 0 & 1 & 0 & b_{2} & c_{2} & d_{2}\\end{matrix}\\right]$"
      ],
      "text/plain": [
       "Matrix([\n",
       "[a0, 1, 0, 0, b0, c0, d0],\n",
       "[a1, 0, 0, 1, b1, c1, d1],\n",
       "[a2, 0, 1, 0, b2, c2, d2]])"
      ]
     },
     "execution_count": 2,
     "metadata": {},
     "output_type": "execute_result"
    }
   ],
   "source": [
    "C = C0\n",
    "C.char"
   ]
  },
  {
   "cell_type": "code",
   "execution_count": 3,
   "id": "275ea8c0-39b6-4f93-8b53-c7814b430bda",
   "metadata": {},
   "outputs": [
    {
     "name": "stdout",
     "output_type": "stream",
     "text": [
      "facet number: 0\n"
     ]
    },
    {
     "data": {
      "text/latex": [
       "$\\displaystyle - a_{1} = 1$"
      ],
      "text/plain": [
       "Eq(-a1, 1)"
      ]
     },
     "metadata": {},
     "output_type": "display_data"
    },
    {
     "name": "stdout",
     "output_type": "stream",
     "text": [
      "facet number: 6\n"
     ]
    },
    {
     "data": {
      "text/latex": [
       "$\\displaystyle - b_{0} = 1$"
      ],
      "text/plain": [
       "Eq(-b0, 1)"
      ]
     },
     "metadata": {},
     "output_type": "display_data"
    },
    {
     "name": "stdout",
     "output_type": "stream",
     "text": [
      "facet number: 5\n"
     ]
    },
    {
     "data": {
      "text/latex": [
       "$\\displaystyle c_{2} = -1$"
      ],
      "text/plain": [
       "Eq(c2, -1)"
      ]
     },
     "metadata": {},
     "output_type": "display_data"
    }
   ],
   "source": [
    "i=0\n",
    "print('facet number:', i)\n",
    "display(sp.Eq(C.determinants[i], C.orientation[i]))\n",
    "\n",
    "i=6\n",
    "print('facet number:', i)\n",
    "display(sp.Eq(C.determinants[i], C.orientation[i]))\n",
    "\n",
    "i=5\n",
    "print('facet number:', i)\n",
    "display(sp.Eq(C.determinants[i], C.orientation[i]))\n",
    "\n",
    "C.subs(a1, -1)\n",
    "C.subs(b0, -1)\n",
    "C.subs(c2, -1)"
   ]
  },
  {
   "cell_type": "markdown",
   "id": "63cefe99-2cbf-4216-8c50-b555fc9265c2",
   "metadata": {
    "jp-MarkdownHeadingCollapsed": true
   },
   "source": [
    "# The projection with respect to 4"
   ]
  },
  {
   "cell_type": "code",
   "execution_count": 4,
   "id": "001cc255-e8ad-4ae6-9ac2-53f309b38194",
   "metadata": {},
   "outputs": [
    {
     "data": {
      "text/plain": [
       "[[2, 3], [2, 6], [3, 5], [5, 7], [6, 7]]"
      ]
     },
     "execution_count": 4,
     "metadata": {},
     "output_type": "execute_result"
    }
   ],
   "source": [
    "Link(K, [4]).cpx # rotational ordering of vertices: 2,3,5,7,6"
   ]
  },
  {
   "cell_type": "code",
   "execution_count": 5,
   "id": "a7981c4d-9e66-4c6c-ae4c-f5bb43da13d2",
   "metadata": {},
   "outputs": [
    {
     "data": {
      "text/latex": [
       "$\\displaystyle \\left[\\begin{matrix}1 & 0 & -1 & d_{0} & c_{0}\\\\0 & 1 & b_{2} & d_{2} & -1\\end{matrix}\\right]$"
      ],
      "text/plain": [
       "Matrix([\n",
       "[1, 0, -1, d0, c0],\n",
       "[0, 1, b2, d2, -1]])"
      ]
     },
     "metadata": {},
     "output_type": "display_data"
    }
   ],
   "source": [
    "display(C.proj([4])[:, [0,1,2,4,3]])"
   ]
  },
  {
   "cell_type": "markdown",
   "id": "c62580bd-fbde-4ad9-bd0a-844f48f45dcf",
   "metadata": {
    "jp-MarkdownHeadingCollapsed": true
   },
   "source": [
    "# The projection has 5 types of fans up to D-J equivalence"
   ]
  },
  {
   "cell_type": "code",
   "execution_count": 6,
   "id": "481c6d8f-262d-474f-baf1-da8f3ed8ff86",
   "metadata": {},
   "outputs": [
    {
     "data": {
      "text/latex": [
       "$\\displaystyle \\left[\\begin{matrix}1 & 0 & -1 & -1 & x\\\\0 & 1 & 1 & 0 & -1\\end{matrix}\\right]$"
      ],
      "text/plain": [
       "Matrix([\n",
       "[1, 0, -1, -1,  x],\n",
       "[0, 1,  1,  0, -1]])"
      ]
     },
     "metadata": {},
     "output_type": "display_data"
    },
    {
     "data": {
      "text/latex": [
       "$\\displaystyle \\left[\\begin{matrix}1 & 0 & -1 & -1 & 0\\\\0 & 1 & x & x - 1 & -1\\end{matrix}\\right]$"
      ],
      "text/plain": [
       "Matrix([\n",
       "[1, 0, -1,    -1,  0],\n",
       "[0, 1,  x, x - 1, -1]])"
      ]
     },
     "metadata": {},
     "output_type": "display_data"
    },
    {
     "data": {
      "text/latex": [
       "$\\displaystyle \\left[\\begin{matrix}1 & 0 & -1 & - x & 1 - x\\\\0 & 1 & 0 & -1 & -1\\end{matrix}\\right]$"
      ],
      "text/plain": [
       "Matrix([\n",
       "[1, 0, -1, -x, 1 - x],\n",
       "[0, 1,  0, -1,    -1]])"
      ]
     },
     "metadata": {},
     "output_type": "display_data"
    },
    {
     "data": {
      "text/latex": [
       "$\\displaystyle \\left[\\begin{matrix}1 & 0 & -1 & 0 & 1\\\\0 & 1 & 1 - x & -1 & -1\\end{matrix}\\right]$"
      ],
      "text/plain": [
       "Matrix([\n",
       "[1, 0,    -1,  0,  1],\n",
       "[0, 1, 1 - x, -1, -1]])"
      ]
     },
     "metadata": {},
     "output_type": "display_data"
    },
    {
     "data": {
      "text/latex": [
       "$\\displaystyle \\left[\\begin{matrix}1 & 0 & -1 & x - 1 & 1\\\\0 & 1 & 1 & - x & -1\\end{matrix}\\right]$"
      ],
      "text/plain": [
       "Matrix([\n",
       "[1, 0, -1, x - 1,  1],\n",
       "[0, 1,  1,    -x, -1]])"
      ]
     },
     "metadata": {},
     "output_type": "display_data"
    }
   ],
   "source": [
    "fans_link = []\n",
    "fans_link.append(sp.Matrix([[1,0,-1,-1,x], [0,1,1,0,-1]]))\n",
    "display(fans_link[-1])\n",
    "fans_link.append(fans_link[0][:, [4,0,1,2,3]].rref()[0])\n",
    "display(fans_link[-1])\n",
    "fans_link.append(fans_link[0][:, [3,4,0,1,2]].rref()[0])\n",
    "display(fans_link[-1])\n",
    "fans_link.append(fans_link[0][:, [2,3,4,0,1]].rref()[0])\n",
    "display(fans_link[-1])\n",
    "fans_link.append(fans_link[0][:, [1,2,3,4,0]].rref()[0])\n",
    "display(fans_link[-1])"
   ]
  },
  {
   "cell_type": "markdown",
   "id": "0a6fab4d-4ebf-420d-b02f-c0d497b78738",
   "metadata": {
    "jp-MarkdownHeadingCollapsed": true
   },
   "source": [
    "# Type 0 of the projection"
   ]
  },
  {
   "cell_type": "code",
   "execution_count": 94,
   "id": "6931509d-05bb-4ed0-b77d-a335a0be99ff",
   "metadata": {},
   "outputs": [],
   "source": [
    "C1 = copy.deepcopy(C0)\n",
    "C = C1\n",
    "t=0"
   ]
  },
  {
   "cell_type": "code",
   "execution_count": 95,
   "id": "81d24005-969d-4823-b5c0-3212fe9d0c4e",
   "metadata": {},
   "outputs": [
    {
     "data": {
      "text/latex": [
       "$\\displaystyle \\left[\\begin{matrix}1 & 0 & -1 & d_{0} & c_{0}\\\\0 & 1 & b_{2} & d_{2} & -1\\end{matrix}\\right] = \\left[\\begin{matrix}1 & 0 & -1 & -1 & x\\\\0 & 1 & 1 & 0 & -1\\end{matrix}\\right]$"
      ],
      "text/plain": [
       "Eq(Matrix([\n",
       "[1, 0, -1, d0, c0],\n",
       "[0, 1, b2, d2, -1]]), Matrix([\n",
       "[1, 0, -1, -1,  x],\n",
       "[0, 1,  1,  0, -1]]))"
      ]
     },
     "metadata": {},
     "output_type": "display_data"
    }
   ],
   "source": [
    "proj = C.proj([4])[:, [0,1,2,4,3]]\n",
    "with sp.evaluate(False):\n",
    "    display(sp.Eq(proj, fans_link[t]))\n",
    "\n",
    "C.subs(b2, 1)\n",
    "C.subs(d0, -1)\n",
    "C.subs(d2, 0)"
   ]
  },
  {
   "cell_type": "code",
   "execution_count": 96,
   "id": "c12731d2-ca7d-4ac2-b171-6a92d1e92b0d",
   "metadata": {},
   "outputs": [
    {
     "name": "stdout",
     "output_type": "stream",
     "text": [
      "facet number: 1\n"
     ]
    },
    {
     "data": {
      "text/latex": [
       "$\\displaystyle a_{2} c_{1} - 1 = -1$"
      ],
      "text/plain": [
       "Eq(a2*c1 - 1, -1)"
      ]
     },
     "metadata": {},
     "output_type": "display_data"
    }
   ],
   "source": [
    "i=1\n",
    "print('facet number:', i)\n",
    "display(sp.Eq(C.determinants[i], C.orientation[i]))"
   ]
  },
  {
   "cell_type": "markdown",
   "id": "532483aa-3cf8-41fd-bbc9-f3d50a26a519",
   "metadata": {
    "jp-MarkdownHeadingCollapsed": true
   },
   "source": [
    "## $c_1=0$"
   ]
  },
  {
   "cell_type": "code",
   "execution_count": 14,
   "id": "58857a6c-3480-48b4-9203-d6dd71e073a7",
   "metadata": {},
   "outputs": [],
   "source": [
    "C2 = copy.deepcopy(C1)\n",
    "C = C2\n",
    "C.subs(c1, 0)"
   ]
  },
  {
   "cell_type": "code",
   "execution_count": 15,
   "id": "d6bc86e2-f9bb-4432-b70e-d649f6390362",
   "metadata": {},
   "outputs": [
    {
     "name": "stdout",
     "output_type": "stream",
     "text": [
      "facet number: 2\n"
     ]
    },
    {
     "data": {
      "text/latex": [
       "$\\displaystyle - a_{0} b_{1} + 1 = 1$"
      ],
      "text/plain": [
       "Eq(-a0*b1 + 1, 1)"
      ]
     },
     "metadata": {},
     "output_type": "display_data"
    }
   ],
   "source": [
    "i=2\n",
    "print('facet number:', i)\n",
    "display(sp.Eq(C.determinants[i], C.orientation[i]))"
   ]
  },
  {
   "cell_type": "markdown",
   "id": "da51cc12-82ad-49a9-a8ed-b0ff0b79e956",
   "metadata": {},
   "source": [
    "### $a_0=0$"
   ]
  },
  {
   "cell_type": "code",
   "execution_count": 16,
   "id": "5549ac30-997f-416c-8792-62a189498895",
   "metadata": {},
   "outputs": [],
   "source": [
    "C3 = copy.deepcopy(C2)\n",
    "C = C3\n",
    "C.subs(a0, 0)"
   ]
  },
  {
   "cell_type": "code",
   "execution_count": 17,
   "id": "8d8e6bde-500f-4dc7-b315-7463de329ad3",
   "metadata": {},
   "outputs": [
    {
     "name": "stdout",
     "output_type": "stream",
     "text": [
      "facet number: 3\n"
     ]
    },
    {
     "data": {
      "text/latex": [
       "$\\displaystyle - a_{2} b_{1} c_{0} - c_{0} + 1 = 1$"
      ],
      "text/plain": [
       "Eq(-a2*b1*c0 - c0 + 1, 1)"
      ]
     },
     "metadata": {},
     "output_type": "display_data"
    }
   ],
   "source": [
    "i=3\n",
    "print('facet number:', i)\n",
    "display(sp.Eq(C.determinants[i], C.orientation[i]))"
   ]
  },
  {
   "cell_type": "markdown",
   "id": "3def210e-1b9b-4317-b1c8-eb38ddbaa191",
   "metadata": {},
   "source": [
    "#### $c_0=0$"
   ]
  },
  {
   "cell_type": "code",
   "execution_count": 18,
   "id": "bdf9a071-96c3-481a-9e40-f1247bb69e4f",
   "metadata": {},
   "outputs": [],
   "source": [
    "C4 = copy.deepcopy(C3)\n",
    "C = C4\n",
    "C.subs(c0, 0)"
   ]
  },
  {
   "cell_type": "code",
   "execution_count": 19,
   "id": "22f925d7-7386-46a7-bfcf-76998ae7bd27",
   "metadata": {},
   "outputs": [
    {
     "name": "stdout",
     "output_type": "stream",
     "text": [
      "facet number: 9\n"
     ]
    },
    {
     "data": {
      "text/latex": [
       "$\\displaystyle b_{1} - d_{1} = -1$"
      ],
      "text/plain": [
       "Eq(b1 - d1, -1)"
      ]
     },
     "metadata": {},
     "output_type": "display_data"
    }
   ],
   "source": [
    "i=9\n",
    "print('facet number:', i)\n",
    "display(sp.Eq(C.determinants[i], C.orientation[i]))\n",
    "\n",
    "C.subs(b1, d1-1)"
   ]
  },
  {
   "cell_type": "code",
   "execution_count": 20,
   "id": "e41b6028-3b53-4c1b-a55f-ce3b39a1571e",
   "metadata": {},
   "outputs": [
    {
     "data": {
      "text/latex": [
       "$\\displaystyle \\left[\\begin{matrix}0 & 1 & 0 & 0 & -1 & 0 & -1\\\\-1 & 0 & 0 & 1 & d_{1} - 1 & 0 & d_{1}\\\\a_{2} & 0 & 1 & 0 & 1 & -1 & 0\\end{matrix}\\right]$"
      ],
      "text/plain": [
       "Matrix([\n",
       "[ 0, 1, 0, 0,     -1,  0, -1],\n",
       "[-1, 0, 0, 1, d1 - 1,  0, d1],\n",
       "[a2, 0, 1, 0,      1, -1,  0]])"
      ]
     },
     "metadata": {},
     "output_type": "display_data"
    },
    {
     "name": "stdout",
     "output_type": "stream",
     "text": [
      "1\n"
     ]
    }
   ],
   "source": [
    "display(C.char)\n",
    "print(C.is_fangiving)\n",
    "fans.append(C.char)"
   ]
  },
  {
   "cell_type": "markdown",
   "id": "a7ddef6e-08d2-4666-822d-653f8317bad8",
   "metadata": {},
   "source": [
    "#### $a_2=1$, $b_1=-1$ ($c_0 \\not= 0$)"
   ]
  },
  {
   "cell_type": "code",
   "execution_count": 21,
   "id": "c57a2326-18e8-4b6f-bc0f-01c024299189",
   "metadata": {},
   "outputs": [],
   "source": [
    "C4 = copy.deepcopy(C3)\n",
    "C = C4\n",
    "C.subs(a2, 1)\n",
    "C.subs(b1, -1)"
   ]
  },
  {
   "cell_type": "code",
   "execution_count": 22,
   "id": "d7238fcf-2851-4b44-85b1-f519ad92eb19",
   "metadata": {},
   "outputs": [
    {
     "name": "stdout",
     "output_type": "stream",
     "text": [
      "facet number: 9\n"
     ]
    },
    {
     "data": {
      "text/latex": [
       "$\\displaystyle c_{0} d_{1} - d_{1} - 1 = -1$"
      ],
      "text/plain": [
       "Eq(c0*d1 - d1 - 1, -1)"
      ]
     },
     "metadata": {},
     "output_type": "display_data"
    }
   ],
   "source": [
    "i=9\n",
    "print('facet number:', i)\n",
    "display(sp.Eq(C.determinants[i], C.orientation[i]))"
   ]
  },
  {
   "cell_type": "markdown",
   "id": "31e2a90a-b728-4a71-b624-6ac0496b6451",
   "metadata": {},
   "source": [
    "##### $c_0=1$"
   ]
  },
  {
   "cell_type": "code",
   "execution_count": 23,
   "id": "5995860a-a279-485e-87d6-4dd19cf972ff",
   "metadata": {},
   "outputs": [],
   "source": [
    "C5 = copy.deepcopy(C4)\n",
    "C = C5\n",
    "C.subs(c0, 1)"
   ]
  },
  {
   "cell_type": "code",
   "execution_count": 24,
   "id": "ffccc302-8d42-468f-9ac8-dcf099615b5a",
   "metadata": {},
   "outputs": [
    {
     "data": {
      "text/latex": [
       "$\\displaystyle \\left[\\begin{matrix}0 & 1 & 0 & 0 & -1 & 1 & -1\\\\-1 & 0 & 0 & 1 & -1 & 0 & d_{1}\\\\1 & 0 & 1 & 0 & 1 & -1 & 0\\end{matrix}\\right]$"
      ],
      "text/plain": [
       "Matrix([\n",
       "[ 0, 1, 0, 0, -1,  1, -1],\n",
       "[-1, 0, 0, 1, -1,  0, d1],\n",
       "[ 1, 0, 1, 0,  1, -1,  0]])"
      ]
     },
     "metadata": {},
     "output_type": "display_data"
    },
    {
     "name": "stdout",
     "output_type": "stream",
     "text": [
      "1\n"
     ]
    }
   ],
   "source": [
    "display(C.char)\n",
    "print(C.is_fangiving)\n",
    "fans.append(C.char)"
   ]
  },
  {
   "cell_type": "markdown",
   "id": "09562c8e-301e-4448-8816-cacbb805bbdd",
   "metadata": {},
   "source": [
    "##### $d_1=0$"
   ]
  },
  {
   "cell_type": "code",
   "execution_count": 25,
   "id": "963443bc-9c50-4c5f-a3c2-c4ae7ad83824",
   "metadata": {},
   "outputs": [],
   "source": [
    "C5 = copy.deepcopy(C4)\n",
    "C = C5\n",
    "C.subs(d1, 0)"
   ]
  },
  {
   "cell_type": "code",
   "execution_count": 26,
   "id": "8d0ce57b-5a27-453c-9424-cfdf35ed8381",
   "metadata": {},
   "outputs": [
    {
     "data": {
      "text/latex": [
       "$\\displaystyle \\left[\\begin{matrix}0 & 1 & 0 & 0 & -1 & c_{0} & -1\\\\-1 & 0 & 0 & 1 & -1 & 0 & 0\\\\1 & 0 & 1 & 0 & 1 & -1 & 0\\end{matrix}\\right]$"
      ],
      "text/plain": [
       "Matrix([\n",
       "[ 0, 1, 0, 0, -1, c0, -1],\n",
       "[-1, 0, 0, 1, -1,  0,  0],\n",
       "[ 1, 0, 1, 0,  1, -1,  0]])"
      ]
     },
     "metadata": {},
     "output_type": "display_data"
    },
    {
     "name": "stdout",
     "output_type": "stream",
     "text": [
      "1\n"
     ]
    }
   ],
   "source": [
    "display(C.char)\n",
    "print(C.is_fangiving)\n",
    "fans.append(C.char)"
   ]
  },
  {
   "cell_type": "markdown",
   "id": "b4270cbf-e5f1-4ed9-bf95-017fad42a016",
   "metadata": {
    "jp-MarkdownHeadingCollapsed": true
   },
   "source": [
    "#### $a_2=-1$, $b_1=1$ ($c_0 \\not= 0$)"
   ]
  },
  {
   "cell_type": "code",
   "execution_count": 27,
   "id": "e4e2631a-4a7a-4f7e-a9a2-54f9f934079b",
   "metadata": {},
   "outputs": [],
   "source": [
    "C4 = copy.deepcopy(C3)\n",
    "C = C4\n",
    "C.subs(a2, -1)\n",
    "C.subs(b1, 1)"
   ]
  },
  {
   "cell_type": "code",
   "execution_count": 28,
   "id": "7e62a0a1-80a2-471b-9d9c-a1d1748c998e",
   "metadata": {},
   "outputs": [
    {
     "name": "stdout",
     "output_type": "stream",
     "text": [
      "facet number: 9\n"
     ]
    },
    {
     "data": {
      "text/latex": [
       "$\\displaystyle c_{0} d_{1} - d_{1} + 1 = -1$"
      ],
      "text/plain": [
       "Eq(c0*d1 - d1 + 1, -1)"
      ]
     },
     "metadata": {},
     "output_type": "display_data"
    }
   ],
   "source": [
    "i=9\n",
    "print('facet number:', i)\n",
    "display(sp.Eq(C.determinants[i], C.orientation[i]))"
   ]
  },
  {
   "cell_type": "markdown",
   "id": "97195ea5-e4dd-41e8-99f4-544861a012f9",
   "metadata": {},
   "source": [
    "##### $c_0=-1$, $d_1=1$"
   ]
  },
  {
   "cell_type": "code",
   "execution_count": 29,
   "id": "ced87ec6-2c03-4c0c-8061-d250c3b7a453",
   "metadata": {},
   "outputs": [],
   "source": [
    "C5 = copy.deepcopy(C4)\n",
    "C = C5\n",
    "C.subs(d1, 1)\n",
    "C.subs(c0, -1)"
   ]
  },
  {
   "cell_type": "code",
   "execution_count": 30,
   "id": "8767f70d-0fd7-4c01-ae13-bb748eb0ca82",
   "metadata": {},
   "outputs": [
    {
     "data": {
      "text/latex": [
       "$\\displaystyle \\left[\\begin{matrix}0 & 1 & 0 & 0 & -1 & -1 & -1\\\\-1 & 0 & 0 & 1 & 1 & 0 & 1\\\\-1 & 0 & 1 & 0 & 1 & -1 & 0\\end{matrix}\\right]$"
      ],
      "text/plain": [
       "Matrix([\n",
       "[ 0, 1, 0, 0, -1, -1, -1],\n",
       "[-1, 0, 0, 1,  1,  0,  1],\n",
       "[-1, 0, 1, 0,  1, -1,  0]])"
      ]
     },
     "metadata": {},
     "output_type": "display_data"
    },
    {
     "name": "stdout",
     "output_type": "stream",
     "text": [
      "1\n"
     ]
    }
   ],
   "source": [
    "display(C.char)\n",
    "print(C.is_fangiving)\n",
    "fans.append(C.char)"
   ]
  },
  {
   "cell_type": "markdown",
   "id": "a30c22b8-0fa8-47ee-a5b4-5a7f66e6d1b9",
   "metadata": {},
   "source": [
    "##### $c_0=3$, $d_1=-1$"
   ]
  },
  {
   "cell_type": "code",
   "execution_count": 31,
   "id": "428d8e11-3316-459f-977c-c9e250550998",
   "metadata": {},
   "outputs": [],
   "source": [
    "C5 = copy.deepcopy(C4)\n",
    "C = C5\n",
    "C.subs(d1, -1)\n",
    "C.subs(c0, 3)"
   ]
  },
  {
   "cell_type": "code",
   "execution_count": 34,
   "id": "9310b9b1-71fe-44f1-8c69-c414ee254499",
   "metadata": {},
   "outputs": [
    {
     "data": {
      "text/latex": [
       "$\\displaystyle \\left[\\begin{matrix}2\\\\-1\\\\-1\\end{matrix}\\right]$"
      ],
      "text/plain": [
       "Matrix([\n",
       "[ 2],\n",
       "[-1],\n",
       "[-1]])"
      ]
     },
     "execution_count": 34,
     "metadata": {},
     "output_type": "execute_result"
    }
   ],
   "source": [
    "C.vector_sum(K.cpx[0], [1,2,0])"
   ]
  },
  {
   "cell_type": "code",
   "execution_count": 35,
   "id": "8c6a88a5-6c87-4249-8da5-635fbc4dc430",
   "metadata": {},
   "outputs": [
    {
     "data": {
      "text/latex": [
       "$\\displaystyle \\left[\\begin{matrix}2\\\\-1\\\\-1\\end{matrix}\\right]$"
      ],
      "text/plain": [
       "Matrix([\n",
       "[ 2],\n",
       "[-1],\n",
       "[-1]])"
      ]
     },
     "execution_count": 35,
     "metadata": {},
     "output_type": "execute_result"
    }
   ],
   "source": [
    "C.vector_sum(K.cpx[8], [0,1,1])"
   ]
  },
  {
   "cell_type": "markdown",
   "id": "01a80d9a-38df-4b83-b317-07d0800541e9",
   "metadata": {},
   "source": [
    "##### $c_0=2$, $d_1=-2$"
   ]
  },
  {
   "cell_type": "code",
   "execution_count": 36,
   "id": "e3231771-6ef1-475f-aecb-4ec3071c6ee6",
   "metadata": {},
   "outputs": [],
   "source": [
    "C5 = copy.deepcopy(C4)\n",
    "C = C5\n",
    "C.subs(d1, -2)\n",
    "C.subs(c0, 2)"
   ]
  },
  {
   "cell_type": "code",
   "execution_count": 31,
   "id": "8ce8da6d-0839-4c4e-8d7a-cf6fb487113b",
   "metadata": {},
   "outputs": [
    {
     "data": {
      "text/latex": [
       "$\\displaystyle \\left[\\begin{matrix}1\\\\-1\\\\-1\\end{matrix}\\right]$"
      ],
      "text/plain": [
       "Matrix([\n",
       "[ 1],\n",
       "[-1],\n",
       "[-1]])"
      ]
     },
     "execution_count": 31,
     "metadata": {},
     "output_type": "execute_result"
    }
   ],
   "source": [
    "C.vector_sum(K.cpx[0], [1,1,0])"
   ]
  },
  {
   "cell_type": "code",
   "execution_count": 32,
   "id": "14e83937-e550-40fa-a56f-5add52ed8f2f",
   "metadata": {},
   "outputs": [
    {
     "data": {
      "text/latex": [
       "$\\displaystyle \\left[\\begin{matrix}1\\\\-1\\\\-1\\end{matrix}\\right]$"
      ],
      "text/plain": [
       "Matrix([\n",
       "[ 1],\n",
       "[-1],\n",
       "[-1]])"
      ]
     },
     "execution_count": 32,
     "metadata": {},
     "output_type": "execute_result"
    }
   ],
   "source": [
    "C.vector_sum(K.cpx[8], [1,1,1])"
   ]
  },
  {
   "cell_type": "markdown",
   "id": "7716ac4f-160c-4e3a-9930-f7a40ff64af2",
   "metadata": {
    "jp-MarkdownHeadingCollapsed": true
   },
   "source": [
    "### $b_1=0$ ($a_0 \\not= 0$)"
   ]
  },
  {
   "cell_type": "code",
   "execution_count": 33,
   "id": "59778262-3473-4ac0-a2b7-106dff14c03c",
   "metadata": {},
   "outputs": [],
   "source": [
    "C3 = copy.deepcopy(C2)\n",
    "C = C3\n",
    "C.subs(b1, 0)"
   ]
  },
  {
   "cell_type": "code",
   "execution_count": 34,
   "id": "7cc469c7-be7a-4bdb-888c-147e75ec63b3",
   "metadata": {},
   "outputs": [
    {
     "name": "stdout",
     "output_type": "stream",
     "text": [
      "facet number: 3\n"
     ]
    },
    {
     "data": {
      "text/latex": [
       "$\\displaystyle 1 - c_{0} = 1$"
      ],
      "text/plain": [
       "Eq(1 - c0, 1)"
      ]
     },
     "metadata": {},
     "output_type": "display_data"
    }
   ],
   "source": [
    "i=3\n",
    "print('facet number:', i)\n",
    "display(sp.Eq(C.determinants[i], C.orientation[i]))\n",
    "\n",
    "C.subs(c0, 0)"
   ]
  },
  {
   "cell_type": "code",
   "execution_count": 35,
   "id": "816ef060-1c86-4e3d-a822-bf2ff7a18502",
   "metadata": {},
   "outputs": [
    {
     "name": "stdout",
     "output_type": "stream",
     "text": [
      "facet number: 9\n"
     ]
    },
    {
     "data": {
      "text/latex": [
       "$\\displaystyle - d_{1} = -1$"
      ],
      "text/plain": [
       "Eq(-d1, -1)"
      ]
     },
     "metadata": {},
     "output_type": "display_data"
    }
   ],
   "source": [
    "i=9\n",
    "print('facet number:', i)\n",
    "display(sp.Eq(C.determinants[i], C.orientation[i]))\n",
    "\n",
    "C.subs(d1, 1)"
   ]
  },
  {
   "cell_type": "code",
   "execution_count": 36,
   "id": "6ac1551f-0c84-4f94-8820-abd14da7b5bb",
   "metadata": {},
   "outputs": [
    {
     "data": {
      "text/latex": [
       "$\\displaystyle \\left[\\begin{matrix}a_{0} & 1 & 0 & 0 & -1 & 0 & -1\\\\-1 & 0 & 0 & 1 & 0 & 0 & 1\\\\a_{2} & 0 & 1 & 0 & 1 & -1 & 0\\end{matrix}\\right]$"
      ],
      "text/plain": [
       "Matrix([\n",
       "[a0, 1, 0, 0, -1,  0, -1],\n",
       "[-1, 0, 0, 1,  0,  0,  1],\n",
       "[a2, 0, 1, 0,  1, -1,  0]])"
      ]
     },
     "metadata": {},
     "output_type": "display_data"
    },
    {
     "name": "stdout",
     "output_type": "stream",
     "text": [
      "1\n"
     ]
    }
   ],
   "source": [
    "display(C.char)\n",
    "print(C.is_fangiving)\n",
    "fans.append(C.char)"
   ]
  },
  {
   "cell_type": "markdown",
   "id": "ace74eee-f448-40ea-a7f0-5e6a968dbd14",
   "metadata": {
    "jp-MarkdownHeadingCollapsed": true
   },
   "source": [
    "## $a_2=0$ ($c_1 \\not= 0$)"
   ]
  },
  {
   "cell_type": "code",
   "execution_count": 97,
   "id": "89a0f3d3-8ff1-4ce0-9d20-d8609f4af49e",
   "metadata": {},
   "outputs": [],
   "source": [
    "C2 = copy.deepcopy(C1)\n",
    "C = C2\n",
    "C.subs(a2, 0)"
   ]
  },
  {
   "cell_type": "code",
   "execution_count": 98,
   "id": "0932a13f-64aa-4ae1-a55b-3fee2bd7af60",
   "metadata": {},
   "outputs": [
    {
     "name": "stdout",
     "output_type": "stream",
     "text": [
      "facet number: 2\n"
     ]
    },
    {
     "data": {
      "text/latex": [
       "$\\displaystyle - a_{0} b_{1} + 1 = 1$"
      ],
      "text/plain": [
       "Eq(-a0*b1 + 1, 1)"
      ]
     },
     "metadata": {},
     "output_type": "display_data"
    }
   ],
   "source": [
    "i=2\n",
    "print('facet number:', i)\n",
    "display(sp.Eq(C.determinants[i], C.orientation[i]))"
   ]
  },
  {
   "cell_type": "markdown",
   "id": "c268074f-f993-4af8-be20-2d24c607a978",
   "metadata": {
    "jp-MarkdownHeadingCollapsed": true
   },
   "source": [
    "### $a_0=0$ ($c_1 \\not= 0$)"
   ]
  },
  {
   "cell_type": "code",
   "execution_count": 39,
   "id": "aeb611de-8a5c-4cdd-b3f8-925c42d9285c",
   "metadata": {},
   "outputs": [],
   "source": [
    "C3 = copy.deepcopy(C2)\n",
    "C = C3\n",
    "C.subs(a0, 0)"
   ]
  },
  {
   "cell_type": "code",
   "execution_count": 40,
   "id": "c6b600b8-217b-46e8-80b7-097288e5a44b",
   "metadata": {},
   "outputs": [
    {
     "name": "stdout",
     "output_type": "stream",
     "text": [
      "facet number: 3\n"
     ]
    },
    {
     "data": {
      "text/latex": [
       "$\\displaystyle 1 - c_{0} = 1$"
      ],
      "text/plain": [
       "Eq(1 - c0, 1)"
      ]
     },
     "metadata": {},
     "output_type": "display_data"
    }
   ],
   "source": [
    "i=3\n",
    "print('facet number:', i)\n",
    "display(sp.Eq(C.determinants[i], C.orientation[i]))\n",
    "\n",
    "C.subs(c0, 0)"
   ]
  },
  {
   "cell_type": "code",
   "execution_count": 41,
   "id": "cbdfd0c8-da3a-4eb7-985e-9b26eb6ce75c",
   "metadata": {},
   "outputs": [
    {
     "name": "stdout",
     "output_type": "stream",
     "text": [
      "facet number: 9\n"
     ]
    },
    {
     "data": {
      "text/latex": [
       "$\\displaystyle b_{1} + c_{1} - d_{1} = -1$"
      ],
      "text/plain": [
       "Eq(b1 + c1 - d1, -1)"
      ]
     },
     "metadata": {},
     "output_type": "display_data"
    }
   ],
   "source": [
    "i=9\n",
    "print('facet number:', i)\n",
    "display(sp.Eq(C.determinants[i], C.orientation[i]))\n",
    "\n",
    "C.subs(d1, b1+c1+1)"
   ]
  },
  {
   "cell_type": "code",
   "execution_count": 42,
   "id": "13c7e5d4-6bb4-4f38-8a6f-0826263a8730",
   "metadata": {},
   "outputs": [
    {
     "data": {
      "text/latex": [
       "$\\displaystyle \\left[\\begin{matrix}0 & 1 & 0 & 0 & -1 & 0 & -1\\\\-1 & 0 & 0 & 1 & b_{1} & c_{1} & b_{1} + c_{1} + 1\\\\0 & 0 & 1 & 0 & 1 & -1 & 0\\end{matrix}\\right]$"
      ],
      "text/plain": [
       "Matrix([\n",
       "[ 0, 1, 0, 0, -1,  0,          -1],\n",
       "[-1, 0, 0, 1, b1, c1, b1 + c1 + 1],\n",
       "[ 0, 0, 1, 0,  1, -1,           0]])"
      ]
     },
     "metadata": {},
     "output_type": "display_data"
    },
    {
     "name": "stdout",
     "output_type": "stream",
     "text": [
      "1\n"
     ]
    }
   ],
   "source": [
    "display(C.char)\n",
    "print(C.is_fangiving)\n",
    "fans.append(C.char)"
   ]
  },
  {
   "cell_type": "markdown",
   "id": "1c59bd80-268b-4f0a-977b-3858febcfb01",
   "metadata": {
    "jp-MarkdownHeadingCollapsed": true
   },
   "source": [
    "### $b_1=0$ ($a_0 \\not= 0$, $c_1 \\not= 0$)"
   ]
  },
  {
   "cell_type": "code",
   "execution_count": 99,
   "id": "32aca77b-f74a-4335-b329-5b7fd7485539",
   "metadata": {},
   "outputs": [],
   "source": [
    "C3 = copy.deepcopy(C2)\n",
    "C = C3\n",
    "C.subs(b1, 0)"
   ]
  },
  {
   "cell_type": "code",
   "execution_count": 100,
   "id": "1c57bf46-5aac-4ad2-bcd5-150b68fccb29",
   "metadata": {},
   "outputs": [
    {
     "name": "stdout",
     "output_type": "stream",
     "text": [
      "facet number: 3\n"
     ]
    },
    {
     "data": {
      "text/latex": [
       "$\\displaystyle - a_{0} c_{1} - c_{0} + 1 = 1$"
      ],
      "text/plain": [
       "Eq(-a0*c1 - c0 + 1, 1)"
      ]
     },
     "metadata": {},
     "output_type": "display_data"
    },
    {
     "name": "stdout",
     "output_type": "stream",
     "text": [
      "facet number: 9\n"
     ]
    },
    {
     "data": {
      "text/latex": [
       "$\\displaystyle c_{0} d_{1} + c_{1} - d_{1} = -1$"
      ],
      "text/plain": [
       "Eq(c0*d1 + c1 - d1, -1)"
      ]
     },
     "metadata": {},
     "output_type": "display_data"
    },
    {
     "data": {
      "text/latex": [
       "$\\displaystyle c_{1} = \\frac{1 - d_{1}}{a_{0} d_{1} - 1}$"
      ],
      "text/plain": [
       "Eq(c1, (1 - d1)/(a0*d1 - 1))"
      ]
     },
     "metadata": {},
     "output_type": "display_data"
    }
   ],
   "source": [
    "i=3\n",
    "print('facet number:', i)\n",
    "display(sp.Eq(C.determinants[i], C.orientation[i]))\n",
    "\n",
    "i=9\n",
    "print('facet number:', i)\n",
    "display(sp.Eq(C.determinants[i], C.orientation[i]))\n",
    "\n",
    "display(sp.Eq(c1, (1-d1)/(-1+a0*d1)))"
   ]
  },
  {
   "cell_type": "markdown",
   "id": "8d36d519-6e2e-4681-894b-e2a1b0f27388",
   "metadata": {
    "jp-MarkdownHeadingCollapsed": true
   },
   "source": [
    "#### $a_0 = 1$ ($c_1 \\not= 0$)"
   ]
  },
  {
   "cell_type": "code",
   "execution_count": 45,
   "id": "82771992-a346-452d-b9b9-aba586b977f8",
   "metadata": {},
   "outputs": [],
   "source": [
    "C4 = copy.deepcopy(C3)\n",
    "C = C4\n",
    "C.subs(a0, 1)"
   ]
  },
  {
   "cell_type": "code",
   "execution_count": 46,
   "id": "442834da-f0e6-40c7-a9e9-3223eca5c020",
   "metadata": {},
   "outputs": [
    {
     "name": "stdout",
     "output_type": "stream",
     "text": [
      "facet number: 3\n"
     ]
    },
    {
     "data": {
      "text/latex": [
       "$\\displaystyle - c_{0} - c_{1} + 1 = 1$"
      ],
      "text/plain": [
       "Eq(-c0 - c1 + 1, 1)"
      ]
     },
     "metadata": {},
     "output_type": "display_data"
    }
   ],
   "source": [
    "i=3\n",
    "print('facet number:', i)\n",
    "display(sp.Eq(C.determinants[i], C.orientation[i]))\n",
    "\n",
    "C.subs(c0, -c1)"
   ]
  },
  {
   "cell_type": "code",
   "execution_count": 47,
   "id": "0ff02702-d78c-4248-93aa-87b5ed4dd567",
   "metadata": {},
   "outputs": [
    {
     "name": "stdout",
     "output_type": "stream",
     "text": [
      "facet number: 9\n"
     ]
    },
    {
     "data": {
      "text/latex": [
       "$\\displaystyle - c_{1} d_{1} + c_{1} - d_{1} = -1$"
      ],
      "text/plain": [
       "Eq(-c1*d1 + c1 - d1, -1)"
      ]
     },
     "metadata": {},
     "output_type": "display_data"
    },
    {
     "data": {
      "text/latex": [
       "$\\displaystyle \\left(c_{1} + 1\\right) \\left(d_{1} - 1\\right) = 0$"
      ],
      "text/plain": [
       "Eq((c1 + 1)*(d1 - 1), 0)"
      ]
     },
     "metadata": {},
     "output_type": "display_data"
    }
   ],
   "source": [
    "i=9\n",
    "print('facet number:', i)\n",
    "display(sp.Eq(C.determinants[i], C.orientation[i]))\n",
    "\n",
    "display(sp.Eq((c1+1)*(d1-1), 0))"
   ]
  },
  {
   "cell_type": "markdown",
   "id": "dfdaf1f2-6458-402e-83f9-8eedfd127d54",
   "metadata": {
    "jp-MarkdownHeadingCollapsed": true
   },
   "source": [
    "##### $c_1=-1$"
   ]
  },
  {
   "cell_type": "code",
   "execution_count": 48,
   "id": "e4e1645f-0375-49be-8601-45db518ee1b0",
   "metadata": {},
   "outputs": [],
   "source": [
    "C5 = copy.deepcopy(C4)\n",
    "C = C5\n",
    "C.subs(c1, -1)"
   ]
  },
  {
   "cell_type": "code",
   "execution_count": 49,
   "id": "bf6fa791-6011-4be0-a698-f3781cf63dd3",
   "metadata": {},
   "outputs": [
    {
     "data": {
      "text/latex": [
       "$\\displaystyle \\left[\\begin{matrix}1 & 1 & 0 & 0 & -1 & 1 & -1\\\\-1 & 0 & 0 & 1 & 0 & -1 & d_{1}\\\\0 & 0 & 1 & 0 & 1 & -1 & 0\\end{matrix}\\right]$"
      ],
      "text/plain": [
       "Matrix([\n",
       "[ 1, 1, 0, 0, -1,  1, -1],\n",
       "[-1, 0, 0, 1,  0, -1, d1],\n",
       "[ 0, 0, 1, 0,  1, -1,  0]])"
      ]
     },
     "metadata": {},
     "output_type": "display_data"
    },
    {
     "name": "stdout",
     "output_type": "stream",
     "text": [
      "1\n"
     ]
    }
   ],
   "source": [
    "display(C.char)\n",
    "print(C.is_fangiving)\n",
    "fans.append(C.char)"
   ]
  },
  {
   "cell_type": "markdown",
   "id": "d8e74350-595f-42ee-b9e3-f9bdd8265917",
   "metadata": {
    "jp-MarkdownHeadingCollapsed": true
   },
   "source": [
    "##### $d_1=1$"
   ]
  },
  {
   "cell_type": "code",
   "execution_count": 50,
   "id": "6366263c-3750-411b-acf2-2ae9b22975c2",
   "metadata": {},
   "outputs": [],
   "source": [
    "C5 = copy.deepcopy(C4)\n",
    "C = C5\n",
    "C.subs(d1, 1)"
   ]
  },
  {
   "cell_type": "code",
   "execution_count": 51,
   "id": "42ae0152-e266-48b6-8298-7759e5bee0ee",
   "metadata": {},
   "outputs": [
    {
     "data": {
      "text/latex": [
       "$\\displaystyle \\left[\\begin{matrix}1 & 1 & 0 & 0 & -1 & - c_{1} & -1\\\\-1 & 0 & 0 & 1 & 0 & c_{1} & 1\\\\0 & 0 & 1 & 0 & 1 & -1 & 0\\end{matrix}\\right]$"
      ],
      "text/plain": [
       "Matrix([\n",
       "[ 1, 1, 0, 0, -1, -c1, -1],\n",
       "[-1, 0, 0, 1,  0,  c1,  1],\n",
       "[ 0, 0, 1, 0,  1,  -1,  0]])"
      ]
     },
     "metadata": {},
     "output_type": "display_data"
    },
    {
     "name": "stdout",
     "output_type": "stream",
     "text": [
      "1\n"
     ]
    }
   ],
   "source": [
    "display(C.char)\n",
    "print(C.is_fangiving)\n",
    "fans.append(C.char)"
   ]
  },
  {
   "cell_type": "markdown",
   "id": "4a79dc7b-3b43-4b05-befd-74271ad51f60",
   "metadata": {
    "jp-MarkdownHeadingCollapsed": true
   },
   "source": [
    "#### $d_1 = 0$ ($a_0 \\not= 0, 1$, $c_1 \\not= 0$)"
   ]
  },
  {
   "cell_type": "code",
   "execution_count": 52,
   "id": "165c7733-d198-4259-9f6b-a9757f15495f",
   "metadata": {},
   "outputs": [],
   "source": [
    "C4 = copy.deepcopy(C3)\n",
    "C = C4\n",
    "C.subs(d1, 0)"
   ]
  },
  {
   "cell_type": "code",
   "execution_count": 53,
   "id": "c30248f6-2e9f-46f3-85c5-1d279971bb92",
   "metadata": {},
   "outputs": [
    {
     "name": "stdout",
     "output_type": "stream",
     "text": [
      "facet number: 9\n"
     ]
    },
    {
     "data": {
      "text/latex": [
       "$\\displaystyle c_{1} = -1$"
      ],
      "text/plain": [
       "Eq(c1, -1)"
      ]
     },
     "metadata": {},
     "output_type": "display_data"
    }
   ],
   "source": [
    "i=9\n",
    "print('facet number:', i)\n",
    "display(sp.Eq(C.determinants[i], C.orientation[i]))\n",
    "\n",
    "C.subs(c1, -1)"
   ]
  },
  {
   "cell_type": "code",
   "execution_count": 54,
   "id": "8f2fccc1-f9cd-4662-b40d-075b0efac5d9",
   "metadata": {},
   "outputs": [
    {
     "name": "stdout",
     "output_type": "stream",
     "text": [
      "facet number: 3\n"
     ]
    },
    {
     "data": {
      "text/latex": [
       "$\\displaystyle a_{0} - c_{0} + 1 = 1$"
      ],
      "text/plain": [
       "Eq(a0 - c0 + 1, 1)"
      ]
     },
     "metadata": {},
     "output_type": "display_data"
    }
   ],
   "source": [
    "i=3\n",
    "print('facet number:', i)\n",
    "display(sp.Eq(C.determinants[i], C.orientation[i]))\n",
    "\n",
    "C.subs(c0, a0)"
   ]
  },
  {
   "cell_type": "code",
   "execution_count": 55,
   "id": "d8111ff6-83ae-47c5-a348-9ff1eefd8bb4",
   "metadata": {},
   "outputs": [
    {
     "data": {
      "text/latex": [
       "$\\displaystyle \\left[\\begin{matrix}a_{0} & 1 & 0 & 0 & -1 & a_{0} & -1\\\\-1 & 0 & 0 & 1 & 0 & -1 & 0\\\\0 & 0 & 1 & 0 & 1 & -1 & 0\\end{matrix}\\right]$"
      ],
      "text/plain": [
       "Matrix([\n",
       "[a0, 1, 0, 0, -1, a0, -1],\n",
       "[-1, 0, 0, 1,  0, -1,  0],\n",
       "[ 0, 0, 1, 0,  1, -1,  0]])"
      ]
     },
     "metadata": {},
     "output_type": "display_data"
    },
    {
     "name": "stdout",
     "output_type": "stream",
     "text": [
      "1\n"
     ]
    }
   ],
   "source": [
    "display(C.char)\n",
    "print(C.is_fangiving)\n",
    "fans.append(C.char)"
   ]
  },
  {
   "cell_type": "markdown",
   "id": "9ba4d880-c3fc-41bc-b51f-30659d8b596a",
   "metadata": {
    "jp-MarkdownHeadingCollapsed": true
   },
   "source": [
    "#### $d_1=1$ ($a_0 \\not= 0, 1$, $c_1 \\not= 0$)"
   ]
  },
  {
   "cell_type": "code",
   "execution_count": 56,
   "id": "f3f3d6d4-e4b7-4e90-b05d-2f5fbf2ff3fc",
   "metadata": {},
   "outputs": [],
   "source": [
    "C4 = copy.deepcopy(C3)\n",
    "C = C4\n",
    "C.subs(d1, 1)"
   ]
  },
  {
   "cell_type": "code",
   "execution_count": 57,
   "id": "007d95a4-5bd3-47e6-af55-9ab320ae0c3c",
   "metadata": {},
   "outputs": [
    {
     "name": "stdout",
     "output_type": "stream",
     "text": [
      "facet number: 9\n"
     ]
    },
    {
     "data": {
      "text/latex": [
       "$\\displaystyle c_{0} + c_{1} - 1 = -1$"
      ],
      "text/plain": [
       "Eq(c0 + c1 - 1, -1)"
      ]
     },
     "metadata": {},
     "output_type": "display_data"
    }
   ],
   "source": [
    "i=9\n",
    "print('facet number:', i)\n",
    "display(sp.Eq(C.determinants[i], C.orientation[i]))\n",
    "\n",
    "C.subs(c0, -c1)"
   ]
  },
  {
   "cell_type": "code",
   "execution_count": 58,
   "id": "18368868-7b0c-402e-8154-1fca3eac02a2",
   "metadata": {},
   "outputs": [
    {
     "name": "stdout",
     "output_type": "stream",
     "text": [
      "facet number: 3\n"
     ]
    },
    {
     "data": {
      "text/latex": [
       "$\\displaystyle - a_{0} c_{1} + c_{1} + 1 = 1$"
      ],
      "text/plain": [
       "Eq(-a0*c1 + c1 + 1, 1)"
      ]
     },
     "metadata": {},
     "output_type": "display_data"
    }
   ],
   "source": [
    "i=3\n",
    "print('facet number:', i)\n",
    "display(sp.Eq(C.determinants[i], C.orientation[i]))"
   ]
  },
  {
   "cell_type": "markdown",
   "id": "6bd1e79b-9551-428d-8b4d-d088b0e2d752",
   "metadata": {
    "jp-MarkdownHeadingCollapsed": true
   },
   "source": [
    "#### ($a_0 \\not= 0, 1$, $d_1 \\not= 0, 1$)"
   ]
  },
  {
   "cell_type": "code",
   "execution_count": 101,
   "id": "13fe1a44-1550-4b1e-8343-cbd9f005630a",
   "metadata": {},
   "outputs": [],
   "source": [
    "C4 = copy.deepcopy(C3)\n",
    "C = C4"
   ]
  },
  {
   "cell_type": "code",
   "execution_count": 102,
   "id": "713f7745-31ae-48f2-a3db-0639113c2d8e",
   "metadata": {},
   "outputs": [
    {
     "name": "stdout",
     "output_type": "stream",
     "text": [
      "[a0 = -2, c1 = 1, d1 = -2]\n",
      "[c1 = 1, a0 = -3, d1 = -1]\n",
      "[c1 = 3, a0 = -1, d1 = -2]\n",
      "[c1 = 2, a0 = -1, d1 = -3]\n",
      "[c1 = 2, a0 = -2, d1 = -1]\n"
     ]
    }
   ],
   "source": [
    "z3_vars, z3_var_map = sympy_to_z3_var([a0, d1, c1])\n",
    "s=z3.Solver()\n",
    "s.add(z3_var_map[a0.name] != 0)\n",
    "s.add(z3_var_map[a0.name] != 1)\n",
    "s.add(z3_var_map[d1.name] != 0)\n",
    "s.add(z3_var_map[d1.name] != 1)\n",
    "s.add(sympy_to_z3_eq(z3_var_map, (a0*d1-1)*c1) == sympy_to_z3_eq(z3_var_map, (1-d1)))\n",
    "for i in all_smt(s, z3_vars):\n",
    "    print(i)"
   ]
  },
  {
   "cell_type": "markdown",
   "id": "16cdb6f6-299a-4072-99be-ac9574bcf7c0",
   "metadata": {
    "jp-MarkdownHeadingCollapsed": true
   },
   "source": [
    "##### $a_0 = -2$, $c_1 = 1$, $d_1 = -2$"
   ]
  },
  {
   "cell_type": "code",
   "execution_count": 103,
   "id": "a5c8b243-9585-4c66-8deb-26cd8fd1223a",
   "metadata": {},
   "outputs": [],
   "source": [
    "C5 = copy.deepcopy(C4)\n",
    "C = C5\n",
    "C.subs(a0, -2)\n",
    "C.subs(c1, 1)\n",
    "C.subs(d1, -2)"
   ]
  },
  {
   "cell_type": "code",
   "execution_count": 105,
   "id": "60ca41e3-780a-49e3-841f-e102043ba798",
   "metadata": {},
   "outputs": [
    {
     "name": "stdout",
     "output_type": "stream",
     "text": [
      "facet number: 3\n"
     ]
    },
    {
     "data": {
      "text/latex": [
       "$\\displaystyle 3 - c_{0} = 1$"
      ],
      "text/plain": [
       "Eq(3 - c0, 1)"
      ]
     },
     "metadata": {},
     "output_type": "display_data"
    }
   ],
   "source": [
    "i=3\n",
    "print('facet number:', i)\n",
    "display(sp.Eq(C.determinants[i], C.orientation[i]))\n",
    "\n",
    "C.subs(c0, 2)"
   ]
  },
  {
   "cell_type": "code",
   "execution_count": 109,
   "id": "274cf81e-7db2-4977-a87d-f258f99b3aee",
   "metadata": {},
   "outputs": [
    {
     "data": {
      "text/latex": [
       "$\\displaystyle \\left[\\begin{matrix}-1\\\\-1\\\\0\\end{matrix}\\right]$"
      ],
      "text/plain": [
       "Matrix([\n",
       "[-1],\n",
       "[-1],\n",
       "[ 0]])"
      ]
     },
     "execution_count": 109,
     "metadata": {},
     "output_type": "execute_result"
    }
   ],
   "source": [
    "C.vector_sum(C.cpx.cpx[0], [1,1,0])"
   ]
  },
  {
   "cell_type": "code",
   "execution_count": 110,
   "id": "2bbb3342-bfe4-425b-8ba2-08df3aa6bacf",
   "metadata": {},
   "outputs": [
    {
     "data": {
      "text/latex": [
       "$\\displaystyle \\left[\\begin{matrix}-1\\\\-1\\\\0\\end{matrix}\\right]$"
      ],
      "text/plain": [
       "Matrix([\n",
       "[-1],\n",
       "[-1],\n",
       "[ 0]])"
      ]
     },
     "execution_count": 110,
     "metadata": {},
     "output_type": "execute_result"
    }
   ],
   "source": [
    "C.vector_sum(C.cpx.cpx[7], [1,0,1])"
   ]
  },
  {
   "cell_type": "markdown",
   "id": "46ac497c-2215-48ab-8095-984055a6c90b",
   "metadata": {
    "jp-MarkdownHeadingCollapsed": true
   },
   "source": [
    "##### $a_0 = -3$, $c_1 = 1$, $d_1 = -1$"
   ]
  },
  {
   "cell_type": "code",
   "execution_count": 112,
   "id": "1f724524-51c2-497e-ab12-ea7a66ace9fb",
   "metadata": {},
   "outputs": [],
   "source": [
    "C5 = copy.deepcopy(C4)\n",
    "C = C5\n",
    "C.subs(a0, -3)\n",
    "C.subs(c1, 1)\n",
    "C.subs(d1, -1)"
   ]
  },
  {
   "cell_type": "code",
   "execution_count": 115,
   "id": "13225901-cd91-4957-a586-4f4381b812d3",
   "metadata": {},
   "outputs": [
    {
     "name": "stdout",
     "output_type": "stream",
     "text": [
      "facet number: 3\n"
     ]
    },
    {
     "data": {
      "text/latex": [
       "$\\displaystyle 4 - c_{0} = 1$"
      ],
      "text/plain": [
       "Eq(4 - c0, 1)"
      ]
     },
     "metadata": {},
     "output_type": "display_data"
    }
   ],
   "source": [
    "i=3\n",
    "print('facet number:', i)\n",
    "display(sp.Eq(C.determinants[i], C.orientation[i]))\n",
    "\n",
    "C.subs(c0, 3)"
   ]
  },
  {
   "cell_type": "code",
   "execution_count": 119,
   "id": "0ab8e2a2-2c6c-41e5-b4f6-1f53967e22b8",
   "metadata": {},
   "outputs": [
    {
     "data": {
      "text/latex": [
       "$\\displaystyle \\left[\\begin{matrix}-1\\\\-1\\\\0\\end{matrix}\\right]$"
      ],
      "text/plain": [
       "Matrix([\n",
       "[-1],\n",
       "[-1],\n",
       "[ 0]])"
      ]
     },
     "execution_count": 119,
     "metadata": {},
     "output_type": "execute_result"
    }
   ],
   "source": [
    "C.vector_sum(K.cpx[0], [1,2,0])"
   ]
  },
  {
   "cell_type": "code",
   "execution_count": 118,
   "id": "77735e92-3c44-498c-a00d-8d37beb816a7",
   "metadata": {},
   "outputs": [
    {
     "data": {
      "text/latex": [
       "$\\displaystyle \\left[\\begin{matrix}-1\\\\-1\\\\0\\end{matrix}\\right]$"
      ],
      "text/plain": [
       "Matrix([\n",
       "[-1],\n",
       "[-1],\n",
       "[ 0]])"
      ]
     },
     "execution_count": 118,
     "metadata": {},
     "output_type": "execute_result"
    }
   ],
   "source": [
    "C.vector_sum(K.cpx[7], [0,0,1])"
   ]
  },
  {
   "cell_type": "markdown",
   "id": "d038be03-1c29-40fb-a9e6-1f569005037e",
   "metadata": {
    "jp-MarkdownHeadingCollapsed": true
   },
   "source": [
    "##### $a_0 = -1$, $c_1 = 3$, $d_1 = -2$"
   ]
  },
  {
   "cell_type": "code",
   "execution_count": 121,
   "id": "44cc0b57-a4fe-426a-88de-62eeed04f69c",
   "metadata": {},
   "outputs": [],
   "source": [
    "C5 = copy.deepcopy(C4)\n",
    "C = C5\n",
    "C.subs(a0, -1)\n",
    "C.subs(c1, 3)\n",
    "C.subs(d1, -2)"
   ]
  },
  {
   "cell_type": "code",
   "execution_count": 123,
   "id": "718ae44e-6d03-4272-b42f-97a436d2a945",
   "metadata": {},
   "outputs": [
    {
     "name": "stdout",
     "output_type": "stream",
     "text": [
      "facet number: 3\n"
     ]
    },
    {
     "data": {
      "text/latex": [
       "$\\displaystyle 4 - c_{0} = 1$"
      ],
      "text/plain": [
       "Eq(4 - c0, 1)"
      ]
     },
     "metadata": {},
     "output_type": "display_data"
    }
   ],
   "source": [
    "i=3\n",
    "print('facet number:', i)\n",
    "display(sp.Eq(C.determinants[i], C.orientation[i]))\n",
    "\n",
    "C.subs(c0, 3)"
   ]
  },
  {
   "cell_type": "code",
   "execution_count": 125,
   "id": "06e332a6-9237-4954-a8d9-c4563ba77ea7",
   "metadata": {},
   "outputs": [
    {
     "data": {
      "text/latex": [
       "$\\displaystyle \\left[\\begin{matrix}-1\\\\-1\\\\0\\end{matrix}\\right]$"
      ],
      "text/plain": [
       "Matrix([\n",
       "[-1],\n",
       "[-1],\n",
       "[ 0]])"
      ]
     },
     "execution_count": 125,
     "metadata": {},
     "output_type": "execute_result"
    }
   ],
   "source": [
    "C.vector_sum(K.cpx[0], [1,0,0])"
   ]
  },
  {
   "cell_type": "code",
   "execution_count": 126,
   "id": "05373377-8e2b-4010-936f-7bf29837f1be",
   "metadata": {},
   "outputs": [
    {
     "data": {
      "text/latex": [
       "$\\displaystyle \\left[\\begin{matrix}-1\\\\-1\\\\0\\end{matrix}\\right]$"
      ],
      "text/plain": [
       "Matrix([\n",
       "[-1],\n",
       "[-1],\n",
       "[ 0]])"
      ]
     },
     "execution_count": 126,
     "metadata": {},
     "output_type": "execute_result"
    }
   ],
   "source": [
    "C.vector_sum(K.cpx[7], [1,0,1])"
   ]
  },
  {
   "cell_type": "markdown",
   "id": "fa77f9d7-3642-4078-9705-3e746cc6cc8b",
   "metadata": {
    "jp-MarkdownHeadingCollapsed": true
   },
   "source": [
    "##### $a_0 = -1$, $c_1 = 2$, $d_1 = -3$"
   ]
  },
  {
   "cell_type": "code",
   "execution_count": 128,
   "id": "09606327-ec33-4c0b-a339-5b6f8461b902",
   "metadata": {},
   "outputs": [],
   "source": [
    "C5 = copy.deepcopy(C4)\n",
    "C = C5\n",
    "C.subs(a0, -1)\n",
    "C.subs(c1, 2)\n",
    "C.subs(d1, -3)"
   ]
  },
  {
   "cell_type": "code",
   "execution_count": 130,
   "id": "352b7bff-c714-4596-a916-301994825306",
   "metadata": {},
   "outputs": [
    {
     "name": "stdout",
     "output_type": "stream",
     "text": [
      "facet number: 3\n"
     ]
    },
    {
     "data": {
      "text/latex": [
       "$\\displaystyle 3 - c_{0} = 1$"
      ],
      "text/plain": [
       "Eq(3 - c0, 1)"
      ]
     },
     "metadata": {},
     "output_type": "display_data"
    }
   ],
   "source": [
    "i=3\n",
    "print('facet number:', i)\n",
    "display(sp.Eq(C.determinants[i], C.orientation[i]))\n",
    "\n",
    "C.subs(c0, 2)"
   ]
  },
  {
   "cell_type": "code",
   "execution_count": 132,
   "id": "f607b4e0-16a7-47b5-9b80-4e03aa9e2896",
   "metadata": {},
   "outputs": [
    {
     "data": {
      "text/latex": [
       "$\\displaystyle \\left[\\begin{matrix}-1\\\\-1\\\\0\\end{matrix}\\right]$"
      ],
      "text/plain": [
       "Matrix([\n",
       "[-1],\n",
       "[-1],\n",
       "[ 0]])"
      ]
     },
     "execution_count": 132,
     "metadata": {},
     "output_type": "execute_result"
    }
   ],
   "source": [
    "C.vector_sum(K.cpx[0], [1,0,0])"
   ]
  },
  {
   "cell_type": "code",
   "execution_count": 133,
   "id": "37ae1104-2d92-4047-bd82-d77fd32b8089",
   "metadata": {},
   "outputs": [
    {
     "data": {
      "text/latex": [
       "$\\displaystyle \\left[\\begin{matrix}-1\\\\-1\\\\0\\end{matrix}\\right]$"
      ],
      "text/plain": [
       "Matrix([\n",
       "[-1],\n",
       "[-1],\n",
       "[ 0]])"
      ]
     },
     "execution_count": 133,
     "metadata": {},
     "output_type": "execute_result"
    }
   ],
   "source": [
    "C.vector_sum(K.cpx[7], [2,0,1])"
   ]
  },
  {
   "cell_type": "markdown",
   "id": "e1bca3b6-942a-4101-b600-e9ebdbbe351b",
   "metadata": {
    "jp-MarkdownHeadingCollapsed": true
   },
   "source": [
    "##### $a_0 = -2$, $c_1 = 2$, $d_1 = -1$"
   ]
  },
  {
   "cell_type": "code",
   "execution_count": 135,
   "id": "4369d5d8-e3de-4619-b79e-ba244769c469",
   "metadata": {},
   "outputs": [],
   "source": [
    "C5 = copy.deepcopy(C4)\n",
    "C = C5\n",
    "C.subs(a0, -2)\n",
    "C.subs(c1, 2)\n",
    "C.subs(d1, -1)"
   ]
  },
  {
   "cell_type": "code",
   "execution_count": 137,
   "id": "cabea449-ba89-4a50-a744-f15177155666",
   "metadata": {},
   "outputs": [
    {
     "name": "stdout",
     "output_type": "stream",
     "text": [
      "facet number: 3\n"
     ]
    },
    {
     "data": {
      "text/latex": [
       "$\\displaystyle 5 - c_{0} = 1$"
      ],
      "text/plain": [
       "Eq(5 - c0, 1)"
      ]
     },
     "metadata": {},
     "output_type": "display_data"
    }
   ],
   "source": [
    "i=3\n",
    "print('facet number:', i)\n",
    "display(sp.Eq(C.determinants[i], C.orientation[i]))\n",
    "\n",
    "C.subs(c0, 4)"
   ]
  },
  {
   "cell_type": "code",
   "execution_count": 139,
   "id": "d1f2dcaa-3edf-4798-bdeb-39f726853635",
   "metadata": {},
   "outputs": [
    {
     "data": {
      "text/latex": [
       "$\\displaystyle \\left[\\begin{matrix}-1\\\\-1\\\\0\\end{matrix}\\right]$"
      ],
      "text/plain": [
       "Matrix([\n",
       "[-1],\n",
       "[-1],\n",
       "[ 0]])"
      ]
     },
     "execution_count": 139,
     "metadata": {},
     "output_type": "execute_result"
    }
   ],
   "source": [
    "C.vector_sum(K.cpx[0], [1,1,0])"
   ]
  },
  {
   "cell_type": "code",
   "execution_count": 140,
   "id": "79ebe9fa-c5be-4bf5-8482-ea5381a68295",
   "metadata": {},
   "outputs": [
    {
     "data": {
      "text/latex": [
       "$\\displaystyle \\left[\\begin{matrix}-1\\\\-1\\\\0\\end{matrix}\\right]$"
      ],
      "text/plain": [
       "Matrix([\n",
       "[-1],\n",
       "[-1],\n",
       "[ 0]])"
      ]
     },
     "execution_count": 140,
     "metadata": {},
     "output_type": "execute_result"
    }
   ],
   "source": [
    "C.vector_sum(K.cpx[7], [0,0,1])"
   ]
  },
  {
   "cell_type": "markdown",
   "id": "cb2bd8d2-0707-4096-84e9-c1e1b7f39f56",
   "metadata": {
    "jp-MarkdownHeadingCollapsed": true
   },
   "source": [
    "# Type 1 of the projection"
   ]
  },
  {
   "cell_type": "code",
   "execution_count": 71,
   "id": "ef0478a7-01ea-436a-9ef3-56921701af00",
   "metadata": {},
   "outputs": [],
   "source": [
    "C1 = copy.deepcopy(C0)\n",
    "C = C1\n",
    "t=1"
   ]
  },
  {
   "cell_type": "code",
   "execution_count": 72,
   "id": "7a852d0e-f666-4c79-979b-77c5527fa93e",
   "metadata": {},
   "outputs": [
    {
     "data": {
      "text/latex": [
       "$\\displaystyle \\left[\\begin{matrix}1 & 0 & -1 & d_{0} & c_{0}\\\\0 & 1 & b_{2} & d_{2} & -1\\end{matrix}\\right] = \\left[\\begin{matrix}1 & 0 & -1 & -1 & 0\\\\0 & 1 & x & x - 1 & -1\\end{matrix}\\right]$"
      ],
      "text/plain": [
       "Eq(Matrix([\n",
       "[1, 0, -1, d0, c0],\n",
       "[0, 1, b2, d2, -1]]), Matrix([\n",
       "[1, 0, -1,    -1,  0],\n",
       "[0, 1,  x, x - 1, -1]]))"
      ]
     },
     "metadata": {},
     "output_type": "display_data"
    }
   ],
   "source": [
    "proj = C.proj([4])[:, [0,1,2,4,3]]\n",
    "with sp.evaluate(False):\n",
    "    display(sp.Eq(proj, fans_link[t]))\n",
    "\n",
    "C.subs(c0, 0)\n",
    "C.subs(d0, -1)\n",
    "C.subs(d2, b2-1)"
   ]
  },
  {
   "cell_type": "code",
   "execution_count": 73,
   "id": "7b33f900-060d-4c95-8263-486fd7544860",
   "metadata": {},
   "outputs": [
    {
     "name": "stdout",
     "output_type": "stream",
     "text": [
      "facet number: 9\n"
     ]
    },
    {
     "data": {
      "text/latex": [
       "$\\displaystyle b_{1} + c_{1} - d_{1} = -1$"
      ],
      "text/plain": [
       "Eq(b1 + c1 - d1, -1)"
      ]
     },
     "metadata": {},
     "output_type": "display_data"
    }
   ],
   "source": [
    "i=9\n",
    "print('facet number:', i)\n",
    "display(sp.Eq(C.determinants[i], C.orientation[i]))\n",
    "\n",
    "C.subs(d1, b1+c1+1)"
   ]
  },
  {
   "cell_type": "code",
   "execution_count": 74,
   "id": "72bac499-c143-44d4-bc0b-b02d6e4be68a",
   "metadata": {},
   "outputs": [
    {
     "name": "stdout",
     "output_type": "stream",
     "text": [
      "facet number: 1\n"
     ]
    },
    {
     "data": {
      "text/latex": [
       "$\\displaystyle a_{2} c_{1} - 1 = -1$"
      ],
      "text/plain": [
       "Eq(a2*c1 - 1, -1)"
      ]
     },
     "metadata": {},
     "output_type": "display_data"
    }
   ],
   "source": [
    "i=1\n",
    "print('facet number:', i)\n",
    "display(sp.Eq(C.determinants[i], C.orientation[i]))"
   ]
  },
  {
   "cell_type": "markdown",
   "id": "5d22c06e-53e6-4992-9ad1-70584abca96f",
   "metadata": {
    "jp-MarkdownHeadingCollapsed": true
   },
   "source": [
    "## $c_1=0$"
   ]
  },
  {
   "cell_type": "code",
   "execution_count": 75,
   "id": "e4226842-366a-4639-ad43-9589fd2c1bfb",
   "metadata": {},
   "outputs": [],
   "source": [
    "C2 = copy.deepcopy(C1)\n",
    "C = C2\n",
    "C.subs(c1, 0)"
   ]
  },
  {
   "cell_type": "code",
   "execution_count": 76,
   "id": "d860b8f4-bec9-4088-99e5-d8df8ec55101",
   "metadata": {},
   "outputs": [
    {
     "name": "stdout",
     "output_type": "stream",
     "text": [
      "facet number: 2\n"
     ]
    },
    {
     "data": {
      "text/latex": [
       "$\\displaystyle - a_{0} b_{1} + 1 = 1$"
      ],
      "text/plain": [
       "Eq(-a0*b1 + 1, 1)"
      ]
     },
     "metadata": {},
     "output_type": "display_data"
    }
   ],
   "source": [
    "i=2\n",
    "print('facet number:', i)\n",
    "display(sp.Eq(C.determinants[i], C.orientation[i]))"
   ]
  },
  {
   "cell_type": "markdown",
   "id": "6d965988-ff0e-4d3b-bac2-58cf3c943b8e",
   "metadata": {
    "jp-MarkdownHeadingCollapsed": true
   },
   "source": [
    "### $a_0=0$"
   ]
  },
  {
   "cell_type": "code",
   "execution_count": 77,
   "id": "0427eedc-0f3b-40a1-acb7-d949bae72cc1",
   "metadata": {},
   "outputs": [],
   "source": [
    "C3 = copy.deepcopy(C2)\n",
    "C = C3\n",
    "C.subs(a0, 0)"
   ]
  },
  {
   "cell_type": "code",
   "execution_count": 78,
   "id": "05f40bc4-9d56-40ca-9fae-6ff0a452d565",
   "metadata": {},
   "outputs": [
    {
     "data": {
      "text/latex": [
       "$\\displaystyle \\left[\\begin{matrix}0 & 1 & 0 & 0 & -1 & 0 & -1\\\\-1 & 0 & 0 & 1 & b_{1} & 0 & b_{1} + 1\\\\a_{2} & 0 & 1 & 0 & b_{2} & -1 & b_{2} - 1\\end{matrix}\\right]$"
      ],
      "text/plain": [
       "Matrix([\n",
       "[ 0, 1, 0, 0, -1,  0,     -1],\n",
       "[-1, 0, 0, 1, b1,  0, b1 + 1],\n",
       "[a2, 0, 1, 0, b2, -1, b2 - 1]])"
      ]
     },
     "metadata": {},
     "output_type": "display_data"
    },
    {
     "name": "stdout",
     "output_type": "stream",
     "text": [
      "1\n"
     ]
    }
   ],
   "source": [
    "display(C.char)\n",
    "print(C.is_fangiving)\n",
    "fans.append(C.char)"
   ]
  },
  {
   "cell_type": "markdown",
   "id": "abeb2c10-a8d1-4678-8759-93438c0bef47",
   "metadata": {
    "jp-MarkdownHeadingCollapsed": true
   },
   "source": [
    "### $b_1=0$ ($a_0 \\not= 0$)"
   ]
  },
  {
   "cell_type": "code",
   "execution_count": 79,
   "id": "879a8fc3-aab5-452e-80fe-329b84b32e36",
   "metadata": {},
   "outputs": [],
   "source": [
    "C3 = copy.deepcopy(C2)\n",
    "C = C3\n",
    "C.subs(b1, 0)"
   ]
  },
  {
   "cell_type": "code",
   "execution_count": 80,
   "id": "07092d85-93f5-481a-a320-3ea6136be2b8",
   "metadata": {},
   "outputs": [
    {
     "data": {
      "text/latex": [
       "$\\displaystyle \\left[\\begin{matrix}a_{0} & 1 & 0 & 0 & -1 & 0 & -1\\\\-1 & 0 & 0 & 1 & 0 & 0 & 1\\\\a_{2} & 0 & 1 & 0 & b_{2} & -1 & b_{2} - 1\\end{matrix}\\right]$"
      ],
      "text/plain": [
       "Matrix([\n",
       "[a0, 1, 0, 0, -1,  0,     -1],\n",
       "[-1, 0, 0, 1,  0,  0,      1],\n",
       "[a2, 0, 1, 0, b2, -1, b2 - 1]])"
      ]
     },
     "metadata": {},
     "output_type": "display_data"
    },
    {
     "name": "stdout",
     "output_type": "stream",
     "text": [
      "1\n"
     ]
    }
   ],
   "source": [
    "display(C.char)\n",
    "print(C.is_fangiving)\n",
    "fans.append(C.char)"
   ]
  },
  {
   "cell_type": "markdown",
   "id": "771ecefe-78a8-4713-b4db-af906d428cd2",
   "metadata": {
    "jp-MarkdownHeadingCollapsed": true
   },
   "source": [
    "## $a_2=0$ ($c_1 \\not= 0$)"
   ]
  },
  {
   "cell_type": "code",
   "execution_count": 81,
   "id": "06a20518-d85d-4398-8d7c-e3c226ee8cfb",
   "metadata": {},
   "outputs": [],
   "source": [
    "C2 = copy.deepcopy(C1)\n",
    "C = C2\n",
    "C.subs(a2, 0)"
   ]
  },
  {
   "cell_type": "code",
   "execution_count": 82,
   "id": "0fe4a90e-1f5e-47fb-b742-27ee67ad0ae5",
   "metadata": {},
   "outputs": [
    {
     "name": "stdout",
     "output_type": "stream",
     "text": [
      "facet number: 2\n"
     ]
    },
    {
     "data": {
      "text/latex": [
       "$\\displaystyle - a_{0} b_{1} + 1 = 1$"
      ],
      "text/plain": [
       "Eq(-a0*b1 + 1, 1)"
      ]
     },
     "metadata": {},
     "output_type": "display_data"
    }
   ],
   "source": [
    "i=2\n",
    "print('facet number:', i)\n",
    "display(sp.Eq(C.determinants[i], C.orientation[i]))"
   ]
  },
  {
   "cell_type": "markdown",
   "id": "d3748ce0-b299-4012-93db-cdbdacc73de6",
   "metadata": {
    "jp-MarkdownHeadingCollapsed": true
   },
   "source": [
    "### $a_0=0$ ($c_1 \\not= 0$)"
   ]
  },
  {
   "cell_type": "code",
   "execution_count": 83,
   "id": "ccf123fb-c383-45cc-9e10-d0d4eb12c68a",
   "metadata": {},
   "outputs": [],
   "source": [
    "C3 = copy.deepcopy(C2)\n",
    "C = C3\n",
    "C.subs(a0, 0)"
   ]
  },
  {
   "cell_type": "code",
   "execution_count": 84,
   "id": "312d0595-96ec-46a2-8aab-cb4bd771c72d",
   "metadata": {},
   "outputs": [
    {
     "data": {
      "text/latex": [
       "$\\displaystyle \\left[\\begin{matrix}0 & 1 & 0 & 0 & -1 & 0 & -1\\\\-1 & 0 & 0 & 1 & b_{1} & c_{1} & b_{1} + c_{1} + 1\\\\0 & 0 & 1 & 0 & b_{2} & -1 & b_{2} - 1\\end{matrix}\\right]$"
      ],
      "text/plain": [
       "Matrix([\n",
       "[ 0, 1, 0, 0, -1,  0,          -1],\n",
       "[-1, 0, 0, 1, b1, c1, b1 + c1 + 1],\n",
       "[ 0, 0, 1, 0, b2, -1,      b2 - 1]])"
      ]
     },
     "metadata": {},
     "output_type": "display_data"
    },
    {
     "name": "stdout",
     "output_type": "stream",
     "text": [
      "1\n"
     ]
    }
   ],
   "source": [
    "display(C.char)\n",
    "print(C.is_fangiving)\n",
    "fans.append(C.char)"
   ]
  },
  {
   "cell_type": "markdown",
   "id": "7770d63a-44f8-43d3-9747-14746854b77d",
   "metadata": {
    "jp-MarkdownHeadingCollapsed": true
   },
   "source": [
    "### $b_1=0$ ($a_0 \\not= 0$, $c_1 \\not= 0$)"
   ]
  },
  {
   "cell_type": "code",
   "execution_count": 85,
   "id": "528a8f03-a57a-41d3-a31b-8234f5c68cc7",
   "metadata": {},
   "outputs": [],
   "source": [
    "C3 = copy.deepcopy(C2)\n",
    "C = C3\n",
    "C.subs(b1, 0)"
   ]
  },
  {
   "cell_type": "code",
   "execution_count": 86,
   "id": "b2de2cfa-b4cc-47d2-a61f-918273698bca",
   "metadata": {},
   "outputs": [
    {
     "name": "stdout",
     "output_type": "stream",
     "text": [
      "facet number: 3\n"
     ]
    },
    {
     "data": {
      "text/latex": [
       "$\\displaystyle - a_{0} b_{2} c_{1} + 1 = 1$"
      ],
      "text/plain": [
       "Eq(-a0*b2*c1 + 1, 1)"
      ]
     },
     "metadata": {},
     "output_type": "display_data"
    }
   ],
   "source": [
    "i=3\n",
    "print('facet number:', i)\n",
    "display(sp.Eq(C.determinants[i], C.orientation[i]))\n",
    "\n",
    "C.subs(b2, 0)"
   ]
  },
  {
   "cell_type": "code",
   "execution_count": 87,
   "id": "a527abd3-0179-4407-b49c-bc4e00764990",
   "metadata": {},
   "outputs": [
    {
     "data": {
      "text/latex": [
       "$\\displaystyle \\left[\\begin{matrix}a_{0} & 1 & 0 & 0 & -1 & 0 & -1\\\\-1 & 0 & 0 & 1 & 0 & c_{1} & c_{1} + 1\\\\0 & 0 & 1 & 0 & 0 & -1 & -1\\end{matrix}\\right]$"
      ],
      "text/plain": [
       "Matrix([\n",
       "[a0, 1, 0, 0, -1,  0,     -1],\n",
       "[-1, 0, 0, 1,  0, c1, c1 + 1],\n",
       "[ 0, 0, 1, 0,  0, -1,     -1]])"
      ]
     },
     "metadata": {},
     "output_type": "display_data"
    },
    {
     "name": "stdout",
     "output_type": "stream",
     "text": [
      "1\n"
     ]
    }
   ],
   "source": [
    "display(C.char)\n",
    "print(C.is_fangiving)\n",
    "fans.append(C.char)"
   ]
  },
  {
   "cell_type": "markdown",
   "id": "4f3d9991-cdf4-4cf9-94a3-bd1147ad5f2a",
   "metadata": {
    "jp-MarkdownHeadingCollapsed": true
   },
   "source": [
    "# Type 2 of the projection"
   ]
  },
  {
   "cell_type": "code",
   "execution_count": 88,
   "id": "e4394ab5-c15f-4696-af99-5266dce1c605",
   "metadata": {},
   "outputs": [],
   "source": [
    "C1 = copy.deepcopy(C0)\n",
    "C = C1\n",
    "t=2"
   ]
  },
  {
   "cell_type": "code",
   "execution_count": 89,
   "id": "b2bc085a-08fe-4069-a0a4-e155c7492d62",
   "metadata": {},
   "outputs": [
    {
     "data": {
      "text/latex": [
       "$\\displaystyle \\left[\\begin{matrix}1 & 0 & -1 & d_{0} & c_{0}\\\\0 & 1 & b_{2} & d_{2} & -1\\end{matrix}\\right] = \\left[\\begin{matrix}1 & 0 & -1 & - x & 1 - x\\\\0 & 1 & 0 & -1 & -1\\end{matrix}\\right]$"
      ],
      "text/plain": [
       "Eq(Matrix([\n",
       "[1, 0, -1, d0, c0],\n",
       "[0, 1, b2, d2, -1]]), Matrix([\n",
       "[1, 0, -1, -x, 1 - x],\n",
       "[0, 1,  0, -1,    -1]]))"
      ]
     },
     "metadata": {},
     "output_type": "display_data"
    }
   ],
   "source": [
    "proj = C.proj([4])[:, [0,1,2,4,3]]\n",
    "with sp.evaluate(False):\n",
    "    display(sp.Eq(proj, fans_link[t]))\n",
    "\n",
    "C.subs(b2, 0)\n",
    "C.subs(c0, 1+d0)\n",
    "C.subs(d2, -1)"
   ]
  },
  {
   "cell_type": "code",
   "execution_count": 90,
   "id": "296d3658-5a4b-4fd3-84db-aa726a3c93db",
   "metadata": {},
   "outputs": [
    {
     "name": "stdout",
     "output_type": "stream",
     "text": [
      "facet number: 9\n"
     ]
    },
    {
     "data": {
      "text/latex": [
       "$\\displaystyle b_{1} + c_{1} - d_{1} = -1$"
      ],
      "text/plain": [
       "Eq(b1 + c1 - d1, -1)"
      ]
     },
     "metadata": {},
     "output_type": "display_data"
    }
   ],
   "source": [
    "i=9\n",
    "print('facet number:', i)\n",
    "display(sp.Eq(C.determinants[i], C.orientation[i]))\n",
    "\n",
    "C.subs(d1, b1+c1+1)"
   ]
  },
  {
   "cell_type": "code",
   "execution_count": 91,
   "id": "83f35751-668a-4b4a-88e7-5e72c116e6b6",
   "metadata": {},
   "outputs": [
    {
     "name": "stdout",
     "output_type": "stream",
     "text": [
      "facet number: 1\n"
     ]
    },
    {
     "data": {
      "text/latex": [
       "$\\displaystyle a_{2} c_{1} - 1 = -1$"
      ],
      "text/plain": [
       "Eq(a2*c1 - 1, -1)"
      ]
     },
     "metadata": {},
     "output_type": "display_data"
    }
   ],
   "source": [
    "i=1\n",
    "print('facet number:', i)\n",
    "display(sp.Eq(C.determinants[i], C.orientation[i]))"
   ]
  },
  {
   "cell_type": "markdown",
   "id": "e48ddc9b-ab5b-4b2c-9a92-bbb21d23ebad",
   "metadata": {
    "jp-MarkdownHeadingCollapsed": true
   },
   "source": [
    "## $a_2=0$"
   ]
  },
  {
   "cell_type": "code",
   "execution_count": 92,
   "id": "7bbceaa1-aea4-4033-9466-36d11f0ccd60",
   "metadata": {},
   "outputs": [],
   "source": [
    "C2 = copy.deepcopy(C1)\n",
    "C = C2\n",
    "C.subs(a2, 0)"
   ]
  },
  {
   "cell_type": "code",
   "execution_count": 93,
   "id": "c6f1bd0c-dff0-4328-b88d-951bbf4f61d9",
   "metadata": {},
   "outputs": [
    {
     "name": "stdout",
     "output_type": "stream",
     "text": [
      "facet number: 2\n"
     ]
    },
    {
     "data": {
      "text/latex": [
       "$\\displaystyle - a_{0} b_{1} + 1 = 1$"
      ],
      "text/plain": [
       "Eq(-a0*b1 + 1, 1)"
      ]
     },
     "metadata": {},
     "output_type": "display_data"
    }
   ],
   "source": [
    "i=2\n",
    "print('facet number:', i)\n",
    "display(sp.Eq(C.determinants[i], C.orientation[i]))"
   ]
  },
  {
   "cell_type": "markdown",
   "id": "b58bde13-5092-4db4-9522-831ec20d211f",
   "metadata": {
    "jp-MarkdownHeadingCollapsed": true
   },
   "source": [
    "### $a_0=0$"
   ]
  },
  {
   "cell_type": "code",
   "execution_count": 94,
   "id": "b5187718-1199-4497-9551-1944f7ed1b17",
   "metadata": {},
   "outputs": [],
   "source": [
    "C3 = copy.deepcopy(C2)\n",
    "C = C3\n",
    "C.subs(a0, 0)"
   ]
  },
  {
   "cell_type": "code",
   "execution_count": 95,
   "id": "61baa77a-1be3-4cfc-818e-753b8abd1b48",
   "metadata": {},
   "outputs": [
    {
     "data": {
      "text/latex": [
       "$\\displaystyle \\left[\\begin{matrix}0 & 1 & 0 & 0 & -1 & d_{0} + 1 & d_{0}\\\\-1 & 0 & 0 & 1 & b_{1} & c_{1} & b_{1} + c_{1} + 1\\\\0 & 0 & 1 & 0 & 0 & -1 & -1\\end{matrix}\\right]$"
      ],
      "text/plain": [
       "Matrix([\n",
       "[ 0, 1, 0, 0, -1, d0 + 1,          d0],\n",
       "[-1, 0, 0, 1, b1,     c1, b1 + c1 + 1],\n",
       "[ 0, 0, 1, 0,  0,     -1,          -1]])"
      ]
     },
     "metadata": {},
     "output_type": "display_data"
    },
    {
     "name": "stdout",
     "output_type": "stream",
     "text": [
      "1\n"
     ]
    }
   ],
   "source": [
    "display(C.char)\n",
    "print(C.is_fangiving)\n",
    "fans.append(C.char)"
   ]
  },
  {
   "cell_type": "markdown",
   "id": "4323acf1-023f-4e8e-94ba-76d234cf34fc",
   "metadata": {
    "jp-MarkdownHeadingCollapsed": true
   },
   "source": [
    "### $b_1=0$ ($a_0 \\not= 0$)"
   ]
  },
  {
   "cell_type": "code",
   "execution_count": 96,
   "id": "150f84fd-96b2-47c0-8ca5-add17265772d",
   "metadata": {},
   "outputs": [],
   "source": [
    "C3 = copy.deepcopy(C2)\n",
    "C = C3\n",
    "C.subs(b1, 0)"
   ]
  },
  {
   "cell_type": "code",
   "execution_count": 97,
   "id": "3057ab73-33fc-4e3e-99ae-f14c3a13a93b",
   "metadata": {},
   "outputs": [
    {
     "data": {
      "text/latex": [
       "$\\displaystyle \\left[\\begin{matrix}a_{0} & 1 & 0 & 0 & -1 & d_{0} + 1 & d_{0}\\\\-1 & 0 & 0 & 1 & 0 & c_{1} & c_{1} + 1\\\\0 & 0 & 1 & 0 & 0 & -1 & -1\\end{matrix}\\right]$"
      ],
      "text/plain": [
       "Matrix([\n",
       "[a0, 1, 0, 0, -1, d0 + 1,     d0],\n",
       "[-1, 0, 0, 1,  0,     c1, c1 + 1],\n",
       "[ 0, 0, 1, 0,  0,     -1,     -1]])"
      ]
     },
     "metadata": {},
     "output_type": "display_data"
    },
    {
     "name": "stdout",
     "output_type": "stream",
     "text": [
      "1\n"
     ]
    }
   ],
   "source": [
    "display(C.char)\n",
    "print(C.is_fangiving)\n",
    "fans.append(C.char)"
   ]
  },
  {
   "cell_type": "markdown",
   "id": "9e4055c1-a8c3-435b-a6f0-0c5093e127b6",
   "metadata": {
    "jp-MarkdownHeadingCollapsed": true
   },
   "source": [
    "## $c_1=0$ ($a_2 \\not= 0$)"
   ]
  },
  {
   "cell_type": "code",
   "execution_count": 98,
   "id": "0ca3255c-e243-432e-b89a-4c9bfdd82892",
   "metadata": {},
   "outputs": [],
   "source": [
    "C2 = copy.deepcopy(C1)\n",
    "C = C2\n",
    "C.subs(c1, 0)"
   ]
  },
  {
   "cell_type": "code",
   "execution_count": 99,
   "id": "70cde205-8570-4889-939f-828ba7f812f9",
   "metadata": {},
   "outputs": [
    {
     "name": "stdout",
     "output_type": "stream",
     "text": [
      "facet number: 2\n"
     ]
    },
    {
     "data": {
      "text/latex": [
       "$\\displaystyle - a_{0} b_{1} + 1 = 1$"
      ],
      "text/plain": [
       "Eq(-a0*b1 + 1, 1)"
      ]
     },
     "metadata": {},
     "output_type": "display_data"
    }
   ],
   "source": [
    "i=2\n",
    "print('facet number:', i)\n",
    "display(sp.Eq(C.determinants[i], C.orientation[i]))"
   ]
  },
  {
   "cell_type": "markdown",
   "id": "7e5b3108-95ff-4584-9d2f-8092f5febd26",
   "metadata": {
    "jp-MarkdownHeadingCollapsed": true
   },
   "source": [
    "### $b_1=0$ ($a_2 \\not= 0$)"
   ]
  },
  {
   "cell_type": "code",
   "execution_count": 100,
   "id": "88382527-da25-415c-a0d3-b51dffddf412",
   "metadata": {},
   "outputs": [],
   "source": [
    "C3 = copy.deepcopy(C2)\n",
    "C = C3\n",
    "C.subs(b1, 0)"
   ]
  },
  {
   "cell_type": "code",
   "execution_count": 101,
   "id": "fe83dccd-4626-4764-a939-167f5d8142f8",
   "metadata": {},
   "outputs": [
    {
     "data": {
      "text/latex": [
       "$\\displaystyle \\left[\\begin{matrix}a_{0} & 1 & 0 & 0 & -1 & d_{0} + 1 & d_{0}\\\\-1 & 0 & 0 & 1 & 0 & 0 & 1\\\\a_{2} & 0 & 1 & 0 & 0 & -1 & -1\\end{matrix}\\right]$"
      ],
      "text/plain": [
       "Matrix([\n",
       "[a0, 1, 0, 0, -1, d0 + 1, d0],\n",
       "[-1, 0, 0, 1,  0,      0,  1],\n",
       "[a2, 0, 1, 0,  0,     -1, -1]])"
      ]
     },
     "metadata": {},
     "output_type": "display_data"
    },
    {
     "name": "stdout",
     "output_type": "stream",
     "text": [
      "1\n"
     ]
    }
   ],
   "source": [
    "display(C.char)\n",
    "print(C.is_fangiving)\n",
    "fans.append(C.char)"
   ]
  },
  {
   "cell_type": "markdown",
   "id": "96f3f226-566f-4424-a937-8d0277fe4f58",
   "metadata": {
    "jp-MarkdownHeadingCollapsed": true
   },
   "source": [
    "### $a_0=0$ ($a_2 \\not= 0$, $b_1 \\not= 0$)"
   ]
  },
  {
   "cell_type": "code",
   "execution_count": 102,
   "id": "40c17021-61da-4131-beac-26304e33a181",
   "metadata": {},
   "outputs": [],
   "source": [
    "C3 = copy.deepcopy(C2)\n",
    "C = C3\n",
    "C.subs(a0, 0)"
   ]
  },
  {
   "cell_type": "code",
   "execution_count": 103,
   "id": "887b33d5-a21c-407e-ac5d-354ad8fb73e8",
   "metadata": {},
   "outputs": [
    {
     "name": "stdout",
     "output_type": "stream",
     "text": [
      "facet number: 3\n"
     ]
    },
    {
     "data": {
      "text/latex": [
       "$\\displaystyle - a_{2} b_{1} d_{0} - a_{2} b_{1} + 1 = 1$"
      ],
      "text/plain": [
       "Eq(-a2*b1*d0 - a2*b1 + 1, 1)"
      ]
     },
     "metadata": {},
     "output_type": "display_data"
    },
    {
     "name": "stdout",
     "output_type": "stream",
     "text": [
      "d0=-1 => type 1\n"
     ]
    }
   ],
   "source": [
    "i=3\n",
    "print('facet number:', i)\n",
    "display(sp.Eq(C.determinants[i], C.orientation[i]))\n",
    "\n",
    "print('d0=-1 => type 1')"
   ]
  },
  {
   "cell_type": "markdown",
   "id": "80a8794a-2ae1-4f4b-b2dd-ee34f20f8ebf",
   "metadata": {
    "jp-MarkdownHeadingCollapsed": true
   },
   "source": [
    "# Type 3 of the projection"
   ]
  },
  {
   "cell_type": "code",
   "execution_count": 142,
   "id": "3610e485-3b84-464f-b2c3-14629d8a35ce",
   "metadata": {},
   "outputs": [],
   "source": [
    "C1 = copy.deepcopy(C0)\n",
    "C = C1\n",
    "t=3"
   ]
  },
  {
   "cell_type": "code",
   "execution_count": 143,
   "id": "a93ba157-61e1-426b-ba4f-868391f55c53",
   "metadata": {},
   "outputs": [
    {
     "data": {
      "text/latex": [
       "$\\displaystyle \\left[\\begin{matrix}1 & 0 & -1 & d_{0} & c_{0}\\\\0 & 1 & b_{2} & d_{2} & -1\\end{matrix}\\right] = \\left[\\begin{matrix}1 & 0 & -1 & 0 & 1\\\\0 & 1 & 1 - x & -1 & -1\\end{matrix}\\right]$"
      ],
      "text/plain": [
       "Eq(Matrix([\n",
       "[1, 0, -1, d0, c0],\n",
       "[0, 1, b2, d2, -1]]), Matrix([\n",
       "[1, 0,    -1,  0,  1],\n",
       "[0, 1, 1 - x, -1, -1]]))"
      ]
     },
     "metadata": {},
     "output_type": "display_data"
    }
   ],
   "source": [
    "proj = C.proj([4])[:, [0,1,2,4,3]]\n",
    "with sp.evaluate(False):\n",
    "    display(sp.Eq(proj, fans_link[t]))\n",
    "\n",
    "C.subs(c0, 1)\n",
    "C.subs(d0, 0)\n",
    "C.subs(d2, -1)"
   ]
  },
  {
   "cell_type": "code",
   "execution_count": 144,
   "id": "1f27b3f6-1eb4-4cdb-9f13-50f216b0e9b7",
   "metadata": {},
   "outputs": [
    {
     "name": "stdout",
     "output_type": "stream",
     "text": [
      "facet number: 1\n"
     ]
    },
    {
     "data": {
      "text/latex": [
       "$\\displaystyle a_{2} c_{1} - 1 = -1$"
      ],
      "text/plain": [
       "Eq(a2*c1 - 1, -1)"
      ]
     },
     "metadata": {},
     "output_type": "display_data"
    }
   ],
   "source": [
    "i=1\n",
    "print('facet number:', i)\n",
    "display(sp.Eq(C.determinants[i], C.orientation[i]))"
   ]
  },
  {
   "cell_type": "markdown",
   "id": "8b367d8d-c1ea-468e-9aea-b5dcc2d0891e",
   "metadata": {
    "jp-MarkdownHeadingCollapsed": true
   },
   "source": [
    "## $a_2=0$"
   ]
  },
  {
   "cell_type": "code",
   "execution_count": 146,
   "id": "5dcb99c4-e533-49d8-aeee-639c6291e78f",
   "metadata": {},
   "outputs": [],
   "source": [
    "C2 = copy.deepcopy(C1)\n",
    "C = C2\n",
    "C.subs(a2, 0)"
   ]
  },
  {
   "cell_type": "code",
   "execution_count": 147,
   "id": "3567ae62-106d-4c93-a790-f3d2f12e0a76",
   "metadata": {},
   "outputs": [
    {
     "name": "stdout",
     "output_type": "stream",
     "text": [
      "facet number: 2\n"
     ]
    },
    {
     "data": {
      "text/latex": [
       "$\\displaystyle - a_{0} b_{1} + 1 = 1$"
      ],
      "text/plain": [
       "Eq(-a0*b1 + 1, 1)"
      ]
     },
     "metadata": {},
     "output_type": "display_data"
    }
   ],
   "source": [
    "i=2\n",
    "print('facet number:', i)\n",
    "display(sp.Eq(C.determinants[i], C.orientation[i]))"
   ]
  },
  {
   "cell_type": "markdown",
   "id": "0f5852f7-1286-4545-8e6a-4b1383f652d5",
   "metadata": {
    "jp-MarkdownHeadingCollapsed": true
   },
   "source": [
    "### $a_0=0$"
   ]
  },
  {
   "cell_type": "code",
   "execution_count": 43,
   "id": "f366491a-b15d-4b96-9137-53629c0eabca",
   "metadata": {},
   "outputs": [],
   "source": [
    "C3 = copy.deepcopy(C2)\n",
    "C = C3\n",
    "C.subs(a0, 0)"
   ]
  },
  {
   "cell_type": "code",
   "execution_count": 44,
   "id": "0f94c8b7-a108-4cc8-b000-ccc66c01fe20",
   "metadata": {},
   "outputs": [
    {
     "name": "stdout",
     "output_type": "stream",
     "text": [
      "facet number: 3\n"
     ]
    },
    {
     "data": {
      "text/latex": [
       "$\\displaystyle 1 - b_{2} = 1$"
      ],
      "text/plain": [
       "Eq(1 - b2, 1)"
      ]
     },
     "metadata": {},
     "output_type": "display_data"
    },
    {
     "name": "stdout",
     "output_type": "stream",
     "text": [
      "b2=0 => type 2\n"
     ]
    }
   ],
   "source": [
    "i=3\n",
    "print('facet number:', i)\n",
    "display(sp.Eq(C.determinants[i], C.orientation[i]))\n",
    "\n",
    "print('b2=0 => type 2')"
   ]
  },
  {
   "cell_type": "markdown",
   "id": "69bfec7e-cc3f-4fb0-bc8c-fe704060f78b",
   "metadata": {
    "jp-MarkdownHeadingCollapsed": true
   },
   "source": [
    "### $b_1=0$ ($a_0 \\not= 0$)"
   ]
  },
  {
   "cell_type": "code",
   "execution_count": 148,
   "id": "a7819563-c694-4967-b7c9-7be3f3146cb5",
   "metadata": {},
   "outputs": [],
   "source": [
    "C3 = copy.deepcopy(C2)\n",
    "C = C3\n",
    "C.subs(b1, 0)"
   ]
  },
  {
   "cell_type": "code",
   "execution_count": 149,
   "id": "238cd001-9061-4e88-845b-b31c30a38d09",
   "metadata": {},
   "outputs": [
    {
     "name": "stdout",
     "output_type": "stream",
     "text": [
      "facet number: 3\n"
     ]
    },
    {
     "data": {
      "text/latex": [
       "$\\displaystyle - a_{0} b_{2} c_{1} - b_{2} + 1 = 1$"
      ],
      "text/plain": [
       "Eq(-a0*b2*c1 - b2 + 1, 1)"
      ]
     },
     "metadata": {},
     "output_type": "display_data"
    },
    {
     "name": "stdout",
     "output_type": "stream",
     "text": [
      "b2=0 => type 2\n"
     ]
    }
   ],
   "source": [
    "i=3\n",
    "print('facet number:', i)\n",
    "display(sp.Eq(C.determinants[i], C.orientation[i]))\n",
    "\n",
    "print('b2=0 => type 2')"
   ]
  },
  {
   "cell_type": "markdown",
   "id": "15184a34-3608-461d-99be-e3f8fb33d478",
   "metadata": {
    "jp-MarkdownHeadingCollapsed": true
   },
   "source": [
    "#### $a_0 = 1$, $c_1 = -1$"
   ]
  },
  {
   "cell_type": "code",
   "execution_count": 47,
   "id": "673e64db-8301-4e76-a0ca-41b65e7f66a3",
   "metadata": {},
   "outputs": [],
   "source": [
    "C4 = copy.deepcopy(C3)\n",
    "C = C4\n",
    "C.subs(a0, 1)\n",
    "C.subs(c1, -1)"
   ]
  },
  {
   "cell_type": "code",
   "execution_count": 48,
   "id": "c06d9870-495b-46f0-96a9-bb985f465204",
   "metadata": {},
   "outputs": [
    {
     "name": "stdout",
     "output_type": "stream",
     "text": [
      "facet number: 9\n"
     ]
    },
    {
     "data": {
      "text/latex": [
       "$\\displaystyle b_{2} d_{1} - d_{1} - 1 = -1$"
      ],
      "text/plain": [
       "Eq(b2*d1 - d1 - 1, -1)"
      ]
     },
     "metadata": {},
     "output_type": "display_data"
    }
   ],
   "source": [
    "i=9\n",
    "print('facet number:', i)\n",
    "display(sp.Eq(C.determinants[i], C.orientation[i]))"
   ]
  },
  {
   "cell_type": "markdown",
   "id": "ab02c8f5-1909-42f4-9633-3241a2527420",
   "metadata": {},
   "source": [
    "##### $b_2=1$"
   ]
  },
  {
   "cell_type": "code",
   "execution_count": 49,
   "id": "f483cea5-461a-40e2-92d7-13e75874c136",
   "metadata": {},
   "outputs": [],
   "source": [
    "C5 = copy.deepcopy(C4)\n",
    "C = C5\n",
    "C.subs(b2, 1)"
   ]
  },
  {
   "cell_type": "code",
   "execution_count": 50,
   "id": "aa97ba6e-5aa7-4c2d-af46-b333eb8b97d2",
   "metadata": {},
   "outputs": [
    {
     "data": {
      "text/latex": [
       "$\\displaystyle \\left[\\begin{matrix}1 & 1 & 0 & 0 & -1 & 1 & 0\\\\-1 & 0 & 0 & 1 & 0 & -1 & d_{1}\\\\0 & 0 & 1 & 0 & 1 & -1 & -1\\end{matrix}\\right]$"
      ],
      "text/plain": [
       "Matrix([\n",
       "[ 1, 1, 0, 0, -1,  1,  0],\n",
       "[-1, 0, 0, 1,  0, -1, d1],\n",
       "[ 0, 0, 1, 0,  1, -1, -1]])"
      ]
     },
     "metadata": {},
     "output_type": "display_data"
    },
    {
     "name": "stdout",
     "output_type": "stream",
     "text": [
      "1\n"
     ]
    }
   ],
   "source": [
    "display(C.char)\n",
    "print(C.is_fangiving)\n",
    "fans.append(C.char)"
   ]
  },
  {
   "cell_type": "markdown",
   "id": "22a0383e-7f0f-4420-a6a2-530998603712",
   "metadata": {},
   "source": [
    "##### $d_1=0$"
   ]
  },
  {
   "cell_type": "code",
   "execution_count": 51,
   "id": "05fd50e0-2f42-4893-af7d-991b4220111b",
   "metadata": {},
   "outputs": [],
   "source": [
    "C5 = copy.deepcopy(C4)\n",
    "C = C5\n",
    "C.subs(d1, 0)"
   ]
  },
  {
   "cell_type": "code",
   "execution_count": 52,
   "id": "9d08611d-acef-4897-8a46-fc3ba56e5fdd",
   "metadata": {},
   "outputs": [
    {
     "data": {
      "text/latex": [
       "$\\displaystyle \\left[\\begin{matrix}1 & 1 & 0 & 0 & -1 & 1 & 0\\\\-1 & 0 & 0 & 1 & 0 & -1 & 0\\\\0 & 0 & 1 & 0 & b_{2} & -1 & -1\\end{matrix}\\right]$"
      ],
      "text/plain": [
       "Matrix([\n",
       "[ 1, 1, 0, 0, -1,  1,  0],\n",
       "[-1, 0, 0, 1,  0, -1,  0],\n",
       "[ 0, 0, 1, 0, b2, -1, -1]])"
      ]
     },
     "metadata": {},
     "output_type": "display_data"
    },
    {
     "name": "stdout",
     "output_type": "stream",
     "text": [
      "1\n"
     ]
    }
   ],
   "source": [
    "display(C.char)\n",
    "print(C.is_fangiving)\n",
    "fans.append(C.char)"
   ]
  },
  {
   "cell_type": "markdown",
   "id": "9858a013-1ae8-4118-8a9a-6a5cf0532a34",
   "metadata": {
    "jp-MarkdownHeadingCollapsed": true
   },
   "source": [
    "#### $a_0 = -1$, $c_1 = 1$"
   ]
  },
  {
   "cell_type": "code",
   "execution_count": 150,
   "id": "f1c3fed5-e6f7-4e6e-a1f3-43792653eba6",
   "metadata": {},
   "outputs": [],
   "source": [
    "C4 = copy.deepcopy(C3)\n",
    "C = C4\n",
    "C.subs(a0, -1)\n",
    "C.subs(c1, 1)"
   ]
  },
  {
   "cell_type": "code",
   "execution_count": 151,
   "id": "316747e0-177e-49c0-a014-787e4e130b33",
   "metadata": {},
   "outputs": [
    {
     "name": "stdout",
     "output_type": "stream",
     "text": [
      "facet number: 9\n"
     ]
    },
    {
     "data": {
      "text/latex": [
       "$\\displaystyle b_{2} d_{1} - d_{1} + 1 = -1$"
      ],
      "text/plain": [
       "Eq(b2*d1 - d1 + 1, -1)"
      ]
     },
     "metadata": {},
     "output_type": "display_data"
    },
    {
     "name": "stdout",
     "output_type": "stream",
     "text": [
      "b2=0 => type 2\n"
     ]
    }
   ],
   "source": [
    "i=9\n",
    "print('facet number:', i)\n",
    "display(sp.Eq(C.determinants[i], C.orientation[i]))\n",
    "\n",
    "print('b2=0 => type 2')"
   ]
  },
  {
   "cell_type": "markdown",
   "id": "6c8273c8-0339-4f7a-96f4-1ed84b001f64",
   "metadata": {
    "jp-MarkdownHeadingCollapsed": true
   },
   "source": [
    "##### $b_2=-1$, $d_1=1$"
   ]
  },
  {
   "cell_type": "code",
   "execution_count": 55,
   "id": "cd31bfb8-7bd3-4f84-9b0b-e33621be1a84",
   "metadata": {},
   "outputs": [],
   "source": [
    "C5 = copy.deepcopy(C4)\n",
    "C = C5\n",
    "C.subs(b2, -1)\n",
    "C.subs(d1, 1)"
   ]
  },
  {
   "cell_type": "code",
   "execution_count": 56,
   "id": "52352b58-5031-4a2a-8713-c168b44f415d",
   "metadata": {},
   "outputs": [
    {
     "data": {
      "text/latex": [
       "$\\displaystyle \\left[\\begin{matrix}-1 & 1 & 0 & 0 & -1 & 1 & 0\\\\-1 & 0 & 0 & 1 & 0 & 1 & 1\\\\0 & 0 & 1 & 0 & -1 & -1 & -1\\end{matrix}\\right]$"
      ],
      "text/plain": [
       "Matrix([\n",
       "[-1, 1, 0, 0, -1,  1,  0],\n",
       "[-1, 0, 0, 1,  0,  1,  1],\n",
       "[ 0, 0, 1, 0, -1, -1, -1]])"
      ]
     },
     "metadata": {},
     "output_type": "display_data"
    },
    {
     "name": "stdout",
     "output_type": "stream",
     "text": [
      "1\n"
     ]
    }
   ],
   "source": [
    "display(C.char)\n",
    "print(C.is_fangiving)\n",
    "fans.append(C.char)"
   ]
  },
  {
   "cell_type": "markdown",
   "id": "3ccdd533-0a1c-48fe-a404-b9ec006d5200",
   "metadata": {
    "jp-MarkdownHeadingCollapsed": true
   },
   "source": [
    "##### $b_2=3$, $d_1=-1$"
   ]
  },
  {
   "cell_type": "code",
   "execution_count": 158,
   "id": "1ce582c7-35e7-48a3-9a7b-c5481a5b055a",
   "metadata": {},
   "outputs": [],
   "source": [
    "C5 = copy.deepcopy(C4)\n",
    "C = C5\n",
    "C.subs(b2, 3)\n",
    "C.subs(d1, -1)"
   ]
  },
  {
   "cell_type": "code",
   "execution_count": 124,
   "id": "048fc77c-6388-4569-a986-9addf296af46",
   "metadata": {},
   "outputs": [
    {
     "data": {
      "text/latex": [
       "$\\displaystyle \\left[\\begin{matrix}-1\\\\-1\\\\2\\end{matrix}\\right]$"
      ],
      "text/plain": [
       "Matrix([\n",
       "[-1],\n",
       "[-1],\n",
       "[ 2]])"
      ]
     },
     "execution_count": 124,
     "metadata": {},
     "output_type": "execute_result"
    }
   ],
   "source": [
    "C.vector_sum(C.cpx.cpx[0], [1,0,2])"
   ]
  },
  {
   "cell_type": "code",
   "execution_count": 125,
   "id": "6fbd1276-1e24-4976-9620-639183ca8ecd",
   "metadata": {},
   "outputs": [
    {
     "data": {
      "text/latex": [
       "$\\displaystyle \\left[\\begin{matrix}-1\\\\-1\\\\2\\end{matrix}\\right]$"
      ],
      "text/plain": [
       "Matrix([\n",
       "[-1],\n",
       "[-1],\n",
       "[ 2]])"
      ]
     },
     "execution_count": 125,
     "metadata": {},
     "output_type": "execute_result"
    }
   ],
   "source": [
    "C.vector_sum(C.cpx.cpx[7], [0,1,1])"
   ]
  },
  {
   "cell_type": "markdown",
   "id": "fc311bed-b62d-4294-aee6-7987c913c48f",
   "metadata": {
    "jp-MarkdownHeadingCollapsed": true
   },
   "source": [
    "##### $b_2=2$, $d_1=-2$"
   ]
  },
  {
   "cell_type": "code",
   "execution_count": 160,
   "id": "6402c124-14bf-4735-9f4f-7c00b115b5b0",
   "metadata": {},
   "outputs": [],
   "source": [
    "C5 = copy.deepcopy(C4)\n",
    "C = C5\n",
    "C.subs(b2, 2)\n",
    "C.subs(d1, -2)"
   ]
  },
  {
   "cell_type": "code",
   "execution_count": 162,
   "id": "e704ff3f-649b-4e49-a235-5917ba48f40b",
   "metadata": {},
   "outputs": [
    {
     "data": {
      "text/latex": [
       "$\\displaystyle \\left[\\begin{matrix}-1 & 1 & 0 & 0 & -1 & 1 & 0\\\\-1 & 0 & 0 & 1 & 0 & 1 & -2\\\\0 & 0 & 1 & 0 & 2 & -1 & -1\\end{matrix}\\right]$"
      ],
      "text/plain": [
       "Matrix([\n",
       "[-1, 1, 0, 0, -1,  1,  0],\n",
       "[-1, 0, 0, 1,  0,  1, -2],\n",
       "[ 0, 0, 1, 0,  2, -1, -1]])"
      ]
     },
     "execution_count": 162,
     "metadata": {},
     "output_type": "execute_result"
    }
   ],
   "source": [
    "C.char"
   ]
  },
  {
   "cell_type": "code",
   "execution_count": 164,
   "id": "39302a84-0c03-48b6-a8a8-c61c590a1910",
   "metadata": {},
   "outputs": [
    {
     "data": {
      "text/latex": [
       "$\\displaystyle \\left[\\begin{matrix}-1\\\\-1\\\\1\\end{matrix}\\right]$"
      ],
      "text/plain": [
       "Matrix([\n",
       "[-1],\n",
       "[-1],\n",
       "[ 1]])"
      ]
     },
     "execution_count": 164,
     "metadata": {},
     "output_type": "execute_result"
    }
   ],
   "source": [
    "C.vector_sum(C.cpx.cpx[0], [1,0,1])"
   ]
  },
  {
   "cell_type": "code",
   "execution_count": 163,
   "id": "3c7dbeb2-1542-477f-9e28-0060ffcffedf",
   "metadata": {},
   "outputs": [
    {
     "data": {
      "text/latex": [
       "$\\displaystyle \\left[\\begin{matrix}-1\\\\-1\\\\1\\end{matrix}\\right]$"
      ],
      "text/plain": [
       "Matrix([\n",
       "[-1],\n",
       "[-1],\n",
       "[ 1]])"
      ]
     },
     "execution_count": 163,
     "metadata": {},
     "output_type": "execute_result"
    }
   ],
   "source": [
    "C.vector_sum(C.cpx.cpx[7], [1,1,1])"
   ]
  },
  {
   "cell_type": "markdown",
   "id": "551b11f0-7155-4310-bd1f-3f109a50f66e",
   "metadata": {
    "jp-MarkdownHeadingCollapsed": true
   },
   "source": [
    "## $c_1=0$ ($a_2 \\not= 0$)"
   ]
  },
  {
   "cell_type": "code",
   "execution_count": 61,
   "id": "71725428-bf45-4373-891b-44ff6a894697",
   "metadata": {},
   "outputs": [],
   "source": [
    "C2 = copy.deepcopy(C1)\n",
    "C = C2\n",
    "C.subs(c1, 0)"
   ]
  },
  {
   "cell_type": "code",
   "execution_count": 62,
   "id": "ad287b2e-6cbc-43fa-b53b-f8e9f418ae1e",
   "metadata": {},
   "outputs": [
    {
     "name": "stdout",
     "output_type": "stream",
     "text": [
      "facet number: 2\n"
     ]
    },
    {
     "data": {
      "text/latex": [
       "$\\displaystyle - a_{0} b_{1} + 1 = 1$"
      ],
      "text/plain": [
       "Eq(-a0*b1 + 1, 1)"
      ]
     },
     "metadata": {},
     "output_type": "display_data"
    }
   ],
   "source": [
    "i=2\n",
    "print('facet number:', i)\n",
    "display(sp.Eq(C.determinants[i], C.orientation[i]))"
   ]
  },
  {
   "cell_type": "markdown",
   "id": "e55dd1ad-cb2f-4689-b45f-e4a1a4c573aa",
   "metadata": {
    "jp-MarkdownHeadingCollapsed": true
   },
   "source": [
    "### $b_1=0$ ($a_2 \\not= 0$)"
   ]
  },
  {
   "cell_type": "code",
   "execution_count": 131,
   "id": "ad28ff31-32bc-48d4-99e5-d81f47e67f57",
   "metadata": {},
   "outputs": [],
   "source": [
    "C3 = copy.deepcopy(C2)\n",
    "C = C3\n",
    "C.subs(b1, 0)"
   ]
  },
  {
   "cell_type": "code",
   "execution_count": 132,
   "id": "53cbd027-2e26-4ae5-9aa4-cc5732da0732",
   "metadata": {},
   "outputs": [
    {
     "name": "stdout",
     "output_type": "stream",
     "text": [
      "facet number: 3\n"
     ]
    },
    {
     "data": {
      "text/latex": [
       "$\\displaystyle 1 - b_{2} = 1$"
      ],
      "text/plain": [
       "Eq(1 - b2, 1)"
      ]
     },
     "metadata": {},
     "output_type": "display_data"
    },
    {
     "name": "stdout",
     "output_type": "stream",
     "text": [
      "b2=0 => type 2\n"
     ]
    }
   ],
   "source": [
    "i=3\n",
    "print('facet number:', i)\n",
    "display(sp.Eq(C.determinants[i], C.orientation[i]))\n",
    "\n",
    "print('b2=0 => type 2')"
   ]
  },
  {
   "cell_type": "markdown",
   "id": "e4b225b7-b76d-483b-83e6-22d4c9f3c97c",
   "metadata": {},
   "source": [
    "### $a_0=0$ ($a_2 \\not= 0$, $b_1 \\not= 0$)"
   ]
  },
  {
   "cell_type": "code",
   "execution_count": 63,
   "id": "e9d296fd-ebe0-4921-bd86-721fe57b8893",
   "metadata": {},
   "outputs": [],
   "source": [
    "C3 = copy.deepcopy(C2)\n",
    "C = C3\n",
    "C.subs(a0, 0)"
   ]
  },
  {
   "cell_type": "code",
   "execution_count": 64,
   "id": "4d8d2b46-80b2-46c0-ba2a-941ddb99d47d",
   "metadata": {},
   "outputs": [
    {
     "name": "stdout",
     "output_type": "stream",
     "text": [
      "facet number: 3\n"
     ]
    },
    {
     "data": {
      "text/latex": [
       "$\\displaystyle - a_{2} b_{1} - b_{2} + 1 = 1$"
      ],
      "text/plain": [
       "Eq(-a2*b1 - b2 + 1, 1)"
      ]
     },
     "metadata": {},
     "output_type": "display_data"
    },
    {
     "name": "stdout",
     "output_type": "stream",
     "text": [
      "facet number: 9\n"
     ]
    },
    {
     "data": {
      "text/latex": [
       "$\\displaystyle b_{1} + b_{2} d_{1} - d_{1} = -1$"
      ],
      "text/plain": [
       "Eq(b1 + b2*d1 - d1, -1)"
      ]
     },
     "metadata": {},
     "output_type": "display_data"
    },
    {
     "data": {
      "text/latex": [
       "$\\displaystyle d_{1} = \\frac{b_{1} + 1}{a_{2} b_{1} + 1}$"
      ],
      "text/plain": [
       "Eq(d1, (b1 + 1)/(a2*b1 + 1))"
      ]
     },
     "metadata": {},
     "output_type": "display_data"
    }
   ],
   "source": [
    "i=3\n",
    "print('facet number:', i)\n",
    "display(sp.Eq(C.determinants[i], C.orientation[i]))\n",
    "\n",
    "i=9\n",
    "print('facet number:', i)\n",
    "display(sp.Eq(C.determinants[i], C.orientation[i]))\n",
    "\n",
    "display(sp.Eq(d1, (b1+1)/(a2*b1+1)))"
   ]
  },
  {
   "cell_type": "markdown",
   "id": "c67fa89f-bb8a-4d74-8566-b0c23a14882b",
   "metadata": {
    "jp-MarkdownHeadingCollapsed": true
   },
   "source": [
    "#### $a_2=1$ ($b_1 \\not= 0$)"
   ]
  },
  {
   "cell_type": "code",
   "execution_count": 135,
   "id": "4b8e12e0-5a38-4715-94aa-d4ffc2dab045",
   "metadata": {},
   "outputs": [],
   "source": [
    "C4 = copy.deepcopy(C3)\n",
    "C = C4\n",
    "C.subs(a2, 1)"
   ]
  },
  {
   "cell_type": "code",
   "execution_count": 136,
   "id": "10902441-babf-496e-a331-1b1a1b07f418",
   "metadata": {},
   "outputs": [
    {
     "name": "stdout",
     "output_type": "stream",
     "text": [
      "facet number: 3\n"
     ]
    },
    {
     "data": {
      "text/latex": [
       "$\\displaystyle - b_{1} - b_{2} + 1 = 1$"
      ],
      "text/plain": [
       "Eq(-b1 - b2 + 1, 1)"
      ]
     },
     "metadata": {},
     "output_type": "display_data"
    }
   ],
   "source": [
    "i=3\n",
    "print('facet number:', i)\n",
    "display(sp.Eq(C.determinants[i], C.orientation[i]))\n",
    "\n",
    "C.subs(b2, -b1)"
   ]
  },
  {
   "cell_type": "code",
   "execution_count": 137,
   "id": "a5862c2f-bf5d-4acd-8e9f-b100a79880b9",
   "metadata": {},
   "outputs": [
    {
     "name": "stdout",
     "output_type": "stream",
     "text": [
      "facet number: 9\n"
     ]
    },
    {
     "data": {
      "text/latex": [
       "$\\displaystyle - b_{1} d_{1} + b_{1} - d_{1} = -1$"
      ],
      "text/plain": [
       "Eq(-b1*d1 + b1 - d1, -1)"
      ]
     },
     "metadata": {},
     "output_type": "display_data"
    },
    {
     "data": {
      "text/latex": [
       "$\\displaystyle \\left(b_{1} + 1\\right) \\left(d_{1} - 1\\right) = 0$"
      ],
      "text/plain": [
       "Eq((b1 + 1)*(d1 - 1), 0)"
      ]
     },
     "metadata": {},
     "output_type": "display_data"
    }
   ],
   "source": [
    "i=9\n",
    "print('facet number:', i)\n",
    "display(sp.Eq(C.determinants[i], C.orientation[i]))\n",
    "display(sp.Eq((b1+1)*(d1-1), 0))"
   ]
  },
  {
   "cell_type": "markdown",
   "id": "bcf6884b-30c1-47c5-bae1-c6f31c84a9e2",
   "metadata": {
    "jp-MarkdownHeadingCollapsed": true
   },
   "source": [
    "##### $d_1=1$"
   ]
  },
  {
   "cell_type": "code",
   "execution_count": 138,
   "id": "83973fcc-509b-4860-848f-78ad99c1abcc",
   "metadata": {},
   "outputs": [],
   "source": [
    "C5 = copy.deepcopy(C4)\n",
    "C = C5\n",
    "C.subs(d1, 1)"
   ]
  },
  {
   "cell_type": "code",
   "execution_count": 139,
   "id": "c224b9d4-5a01-4ec0-b458-102a487d9bc1",
   "metadata": {},
   "outputs": [
    {
     "data": {
      "text/latex": [
       "$\\displaystyle \\left[\\begin{matrix}0 & 1 & 0 & 0 & -1 & 1 & 0\\\\-1 & 0 & 0 & 1 & b_{1} & 0 & 1\\\\1 & 0 & 1 & 0 & - b_{1} & -1 & -1\\end{matrix}\\right]$"
      ],
      "text/plain": [
       "Matrix([\n",
       "[ 0, 1, 0, 0,  -1,  1,  0],\n",
       "[-1, 0, 0, 1,  b1,  0,  1],\n",
       "[ 1, 0, 1, 0, -b1, -1, -1]])"
      ]
     },
     "metadata": {},
     "output_type": "display_data"
    },
    {
     "name": "stdout",
     "output_type": "stream",
     "text": [
      "1\n"
     ]
    }
   ],
   "source": [
    "display(C.char)\n",
    "print(C.is_fangiving)\n",
    "fans.append(C.char)"
   ]
  },
  {
   "cell_type": "markdown",
   "id": "cb120e9b-572d-4579-9c0d-33c623e5859e",
   "metadata": {
    "jp-MarkdownHeadingCollapsed": true
   },
   "source": [
    "##### $b_1=-1$"
   ]
  },
  {
   "cell_type": "code",
   "execution_count": 140,
   "id": "0b929b0a-fcb4-405b-92c3-624c2a9e3988",
   "metadata": {},
   "outputs": [],
   "source": [
    "C5 = copy.deepcopy(C4)\n",
    "C = C5\n",
    "C.subs(b1, -1)"
   ]
  },
  {
   "cell_type": "code",
   "execution_count": 141,
   "id": "c86042ad-7607-47ce-8751-44c31379bb44",
   "metadata": {},
   "outputs": [
    {
     "data": {
      "text/latex": [
       "$\\displaystyle \\left[\\begin{matrix}0 & 1 & 0 & 0 & -1 & 1 & 0\\\\-1 & 0 & 0 & 1 & -1 & 0 & d_{1}\\\\1 & 0 & 1 & 0 & 1 & -1 & -1\\end{matrix}\\right]$"
      ],
      "text/plain": [
       "Matrix([\n",
       "[ 0, 1, 0, 0, -1,  1,  0],\n",
       "[-1, 0, 0, 1, -1,  0, d1],\n",
       "[ 1, 0, 1, 0,  1, -1, -1]])"
      ]
     },
     "metadata": {},
     "output_type": "display_data"
    },
    {
     "name": "stdout",
     "output_type": "stream",
     "text": [
      "1\n"
     ]
    }
   ],
   "source": [
    "display(C.char)\n",
    "print(C.is_fangiving)\n",
    "fans.append(C.char)"
   ]
  },
  {
   "cell_type": "markdown",
   "id": "d0497d9e-41cc-4fb3-b357-c3b45fe9f47b",
   "metadata": {
    "jp-MarkdownHeadingCollapsed": true
   },
   "source": [
    "#### $b_1=-1$ ($a_2 \\not= 1$)"
   ]
  },
  {
   "cell_type": "code",
   "execution_count": 142,
   "id": "aa2857f2-f807-411b-aede-771f6356eee8",
   "metadata": {},
   "outputs": [],
   "source": [
    "C4 = copy.deepcopy(C3)\n",
    "C = C4\n",
    "C.subs(b1, -1)"
   ]
  },
  {
   "cell_type": "code",
   "execution_count": 143,
   "id": "1eb3fa35-1b79-4532-a16c-123b53a1c423",
   "metadata": {},
   "outputs": [
    {
     "name": "stdout",
     "output_type": "stream",
     "text": [
      "facet number: 3\n"
     ]
    },
    {
     "data": {
      "text/latex": [
       "$\\displaystyle a_{2} - b_{2} + 1 = 1$"
      ],
      "text/plain": [
       "Eq(a2 - b2 + 1, 1)"
      ]
     },
     "metadata": {},
     "output_type": "display_data"
    }
   ],
   "source": [
    "i=3\n",
    "print('facet number:', i)\n",
    "display(sp.Eq(C.determinants[i], C.orientation[i]))\n",
    "\n",
    "C.subs(b2, a2)"
   ]
  },
  {
   "cell_type": "code",
   "execution_count": 144,
   "id": "e3a49371-e129-422b-81d5-c4e06fcecec3",
   "metadata": {},
   "outputs": [
    {
     "name": "stdout",
     "output_type": "stream",
     "text": [
      "facet number: 9\n"
     ]
    },
    {
     "data": {
      "text/latex": [
       "$\\displaystyle a_{2} d_{1} - d_{1} - 1 = -1$"
      ],
      "text/plain": [
       "Eq(a2*d1 - d1 - 1, -1)"
      ]
     },
     "metadata": {},
     "output_type": "display_data"
    }
   ],
   "source": [
    "i=9\n",
    "print('facet number:', i)\n",
    "display(sp.Eq(C.determinants[i], C.orientation[i]))\n",
    "\n",
    "C.subs(d1, 0)"
   ]
  },
  {
   "cell_type": "code",
   "execution_count": 145,
   "id": "3d945069-e752-4c9d-985b-c30154fb2a75",
   "metadata": {},
   "outputs": [
    {
     "data": {
      "text/latex": [
       "$\\displaystyle \\left[\\begin{matrix}0 & 1 & 0 & 0 & -1 & 1 & 0\\\\-1 & 0 & 0 & 1 & -1 & 0 & 0\\\\a_{2} & 0 & 1 & 0 & a_{2} & -1 & -1\\end{matrix}\\right]$"
      ],
      "text/plain": [
       "Matrix([\n",
       "[ 0, 1, 0, 0, -1,  1,  0],\n",
       "[-1, 0, 0, 1, -1,  0,  0],\n",
       "[a2, 0, 1, 0, a2, -1, -1]])"
      ]
     },
     "metadata": {},
     "output_type": "display_data"
    },
    {
     "name": "stdout",
     "output_type": "stream",
     "text": [
      "1\n"
     ]
    }
   ],
   "source": [
    "display(C.char)\n",
    "print(C.is_fangiving)\n",
    "fans.append(C.char)"
   ]
  },
  {
   "cell_type": "markdown",
   "id": "0354f5e6-247e-43a4-abcf-ffe6fe6c2cfe",
   "metadata": {},
   "source": [
    "#### $a_2 \\not= 0, 1$, $b_1 \\not= 0, -1$"
   ]
  },
  {
   "cell_type": "code",
   "execution_count": 65,
   "id": "76a70dc2-64f8-4ba3-85e5-ad8057759398",
   "metadata": {},
   "outputs": [],
   "source": [
    "C4 = copy.deepcopy(C3)\n",
    "C = C4"
   ]
  },
  {
   "cell_type": "code",
   "execution_count": 66,
   "id": "a303d0ec-c917-4bcf-bf06-23d6eecafa70",
   "metadata": {},
   "outputs": [
    {
     "name": "stdout",
     "output_type": "stream",
     "text": [
      "[d1 = -2, b1 = 3, a2 = -1]\n",
      "[b1 = 1, a2 = -3, d1 = -1]\n",
      "[b1 = 2, a2 = -2, d1 = -1]\n",
      "[b1 = 1, a2 = -2, d1 = -2]\n",
      "[b1 = 2, a2 = -1, d1 = -3]\n"
     ]
    }
   ],
   "source": [
    "z3_vars, z3_var_map = sympy_to_z3_var([a2, d1, b1])\n",
    "s=z3.Solver()\n",
    "s.add(z3_var_map[a2.name] != 0)\n",
    "s.add(z3_var_map[a2.name] != 1)\n",
    "s.add(z3_var_map[b1.name] != 0)\n",
    "s.add(z3_var_map[b1.name] != -1)\n",
    "s.add(sympy_to_z3_eq(z3_var_map, (1+a2*b1)*d1) == sympy_to_z3_eq(z3_var_map, (1+b1)))\n",
    "for i in all_smt(s, z3_vars):\n",
    "    print(i)"
   ]
  },
  {
   "cell_type": "markdown",
   "id": "5d9812a7-3a06-4782-8c14-ad8193444d9f",
   "metadata": {},
   "source": [
    "##### $a_2=-1$, $b_1=3$, $d_1=-2$"
   ]
  },
  {
   "cell_type": "code",
   "execution_count": 67,
   "id": "c55a3899-c5e4-460b-9148-9643b0206de3",
   "metadata": {},
   "outputs": [],
   "source": [
    "C5 = copy.deepcopy(C4)\n",
    "C = C5\n",
    "C.subs(a2, -1)\n",
    "C.subs(b1, 3)\n",
    "C.subs(d1, -2)"
   ]
  },
  {
   "cell_type": "code",
   "execution_count": 68,
   "id": "89ff1dc5-f960-45fc-8587-f0d50de5263f",
   "metadata": {},
   "outputs": [
    {
     "name": "stdout",
     "output_type": "stream",
     "text": [
      "facet number: 3\n"
     ]
    },
    {
     "data": {
      "text/latex": [
       "$\\displaystyle 4 - b_{2} = 1$"
      ],
      "text/plain": [
       "Eq(4 - b2, 1)"
      ]
     },
     "metadata": {},
     "output_type": "display_data"
    }
   ],
   "source": [
    "i=3\n",
    "print('facet number:', i)\n",
    "display(sp.Eq(C.determinants[i], C.orientation[i]))\n",
    "\n",
    "C.subs(b2, 3)"
   ]
  },
  {
   "cell_type": "code",
   "execution_count": 150,
   "id": "14d15b94-8bb3-4f47-99fc-a7b2adc1dde2",
   "metadata": {},
   "outputs": [
    {
     "data": {
      "text/latex": [
       "$\\displaystyle \\left[\\begin{matrix}0\\\\-1\\\\-1\\end{matrix}\\right]$"
      ],
      "text/plain": [
       "Matrix([\n",
       "[ 0],\n",
       "[-1],\n",
       "[-1]])"
      ]
     },
     "execution_count": 150,
     "metadata": {},
     "output_type": "execute_result"
    }
   ],
   "source": [
    "C.vector_sum(C.cpx.cpx[0], [1,0,0])"
   ]
  },
  {
   "cell_type": "code",
   "execution_count": 151,
   "id": "66f84167-d457-4d41-bf3e-43266b599b76",
   "metadata": {},
   "outputs": [
    {
     "data": {
      "text/latex": [
       "$\\displaystyle \\left[\\begin{matrix}0\\\\-1\\\\-1\\end{matrix}\\right]$"
      ],
      "text/plain": [
       "Matrix([\n",
       "[ 0],\n",
       "[-1],\n",
       "[-1]])"
      ]
     },
     "execution_count": 151,
     "metadata": {},
     "output_type": "execute_result"
    }
   ],
   "source": [
    "C.vector_sum(C.cpx.cpx[7], [1,0,1])"
   ]
  },
  {
   "cell_type": "markdown",
   "id": "1d425ea1-2a65-4670-a9de-1838f61b6c38",
   "metadata": {},
   "source": [
    "##### $a_2=-3$, $b_1=1$, $d_1=-1$"
   ]
  },
  {
   "cell_type": "code",
   "execution_count": 70,
   "id": "84cdfa51-4ae8-4438-a170-af017f046ca8",
   "metadata": {},
   "outputs": [],
   "source": [
    "C5 = copy.deepcopy(C4)\n",
    "C = C5\n",
    "C.subs(a2, -3)\n",
    "C.subs(b1, 1)\n",
    "C.subs(d1, -1)"
   ]
  },
  {
   "cell_type": "code",
   "execution_count": 71,
   "id": "f350dd5a-af3a-4383-9962-5d8fa363ff49",
   "metadata": {},
   "outputs": [
    {
     "name": "stdout",
     "output_type": "stream",
     "text": [
      "facet number: 3\n"
     ]
    },
    {
     "data": {
      "text/latex": [
       "$\\displaystyle 4 - b_{2} = 1$"
      ],
      "text/plain": [
       "Eq(4 - b2, 1)"
      ]
     },
     "metadata": {},
     "output_type": "display_data"
    }
   ],
   "source": [
    "i=3\n",
    "print('facet number:', i)\n",
    "display(sp.Eq(C.determinants[i], C.orientation[i]))\n",
    "\n",
    "C.subs(b2, 3)"
   ]
  },
  {
   "cell_type": "code",
   "execution_count": 154,
   "id": "bbe5c0c9-0b2c-4179-86e6-48c5939a8c32",
   "metadata": {},
   "outputs": [
    {
     "data": {
      "text/latex": [
       "$\\displaystyle \\left[\\begin{matrix}0\\\\-1\\\\-1\\end{matrix}\\right]$"
      ],
      "text/plain": [
       "Matrix([\n",
       "[ 0],\n",
       "[-1],\n",
       "[-1]])"
      ]
     },
     "execution_count": 154,
     "metadata": {},
     "output_type": "execute_result"
    }
   ],
   "source": [
    "C.vector_sum(C.cpx.cpx[0], [1,0,2])"
   ]
  },
  {
   "cell_type": "code",
   "execution_count": 155,
   "id": "2aea9e70-23ba-44fb-8625-c5ba792c57f3",
   "metadata": {},
   "outputs": [
    {
     "data": {
      "text/latex": [
       "$\\displaystyle \\left[\\begin{matrix}0\\\\-1\\\\-1\\end{matrix}\\right]$"
      ],
      "text/plain": [
       "Matrix([\n",
       "[ 0],\n",
       "[-1],\n",
       "[-1]])"
      ]
     },
     "execution_count": 155,
     "metadata": {},
     "output_type": "execute_result"
    }
   ],
   "source": [
    "C.vector_sum(C.cpx.cpx[7], [0,0,1])"
   ]
  },
  {
   "cell_type": "markdown",
   "id": "9d074c2f-8359-4757-9638-6ddead96dd8a",
   "metadata": {},
   "source": [
    "##### $a_2=-2$, $b_1=2$, $d_1=-1$"
   ]
  },
  {
   "cell_type": "code",
   "execution_count": 73,
   "id": "7a68bb55-46c9-45a4-927c-35e980c1a9a5",
   "metadata": {},
   "outputs": [],
   "source": [
    "C5 = copy.deepcopy(C4)\n",
    "C = C5\n",
    "C.subs(a2, -2)\n",
    "C.subs(b1, 2)\n",
    "C.subs(d1, -1)"
   ]
  },
  {
   "cell_type": "code",
   "execution_count": 74,
   "id": "94fdd97e-2bb1-4950-9dfe-df4d6898da2a",
   "metadata": {},
   "outputs": [
    {
     "name": "stdout",
     "output_type": "stream",
     "text": [
      "facet number: 3\n"
     ]
    },
    {
     "data": {
      "text/latex": [
       "$\\displaystyle 5 - b_{2} = 1$"
      ],
      "text/plain": [
       "Eq(5 - b2, 1)"
      ]
     },
     "metadata": {},
     "output_type": "display_data"
    }
   ],
   "source": [
    "i=3\n",
    "print('facet number:', i)\n",
    "display(sp.Eq(C.determinants[i], C.orientation[i]))\n",
    "\n",
    "C.subs(b2, 4)"
   ]
  },
  {
   "cell_type": "code",
   "execution_count": 158,
   "id": "7be13375-c6b2-411a-9d7e-67ad8c48a27d",
   "metadata": {},
   "outputs": [
    {
     "data": {
      "text/latex": [
       "$\\displaystyle \\left[\\begin{matrix}0\\\\-1\\\\-1\\end{matrix}\\right]$"
      ],
      "text/plain": [
       "Matrix([\n",
       "[ 0],\n",
       "[-1],\n",
       "[-1]])"
      ]
     },
     "execution_count": 158,
     "metadata": {},
     "output_type": "execute_result"
    }
   ],
   "source": [
    "C.vector_sum(K.cpx[0], [1,0,1])"
   ]
  },
  {
   "cell_type": "code",
   "execution_count": 159,
   "id": "e4fd1f50-09ec-40f9-82b1-87dabb80e710",
   "metadata": {},
   "outputs": [
    {
     "data": {
      "text/latex": [
       "$\\displaystyle \\left[\\begin{matrix}0\\\\-1\\\\-1\\end{matrix}\\right]$"
      ],
      "text/plain": [
       "Matrix([\n",
       "[ 0],\n",
       "[-1],\n",
       "[-1]])"
      ]
     },
     "execution_count": 159,
     "metadata": {},
     "output_type": "execute_result"
    }
   ],
   "source": [
    "C.vector_sum(K.cpx[7], [0,0,1])"
   ]
  },
  {
   "cell_type": "markdown",
   "id": "6cd48fc1-dd67-4b5c-825c-6c49577bd37c",
   "metadata": {},
   "source": [
    "##### $a_2=-2$, $b_1=1$, $d_1=-2$"
   ]
  },
  {
   "cell_type": "code",
   "execution_count": 84,
   "id": "29ce6736-fc4f-46db-b60f-1a0f9b74d9aa",
   "metadata": {},
   "outputs": [],
   "source": [
    "C5 = copy.deepcopy(C4)\n",
    "C = C5\n",
    "C.subs(a2, -2)\n",
    "C.subs(b1, 1)\n",
    "C.subs(d1, -2)"
   ]
  },
  {
   "cell_type": "code",
   "execution_count": 87,
   "id": "833303b9-eed1-4846-ac8e-637ff0302716",
   "metadata": {},
   "outputs": [
    {
     "name": "stdout",
     "output_type": "stream",
     "text": [
      "facet number: 3\n"
     ]
    },
    {
     "data": {
      "text/latex": [
       "$\\displaystyle 3 - b_{2} = 1$"
      ],
      "text/plain": [
       "Eq(3 - b2, 1)"
      ]
     },
     "metadata": {},
     "output_type": "display_data"
    }
   ],
   "source": [
    "i=3\n",
    "print('facet number:', i)\n",
    "display(sp.Eq(C.determinants[i], C.orientation[i]))\n",
    "\n",
    "C.subs(b2, 2)"
   ]
  },
  {
   "cell_type": "code",
   "execution_count": 88,
   "id": "fd78994b-3add-495a-9451-0ff01867f857",
   "metadata": {},
   "outputs": [
    {
     "data": {
      "text/latex": [
       "$\\displaystyle \\left[\\begin{matrix}1 & 0 & 0 & -1 & -1 & 0 & 2\\\\0 & 1 & 0 & 0 & -1 & 1 & 0\\\\0 & 0 & 1 & -2 & 0 & -1 & 3\\end{matrix}\\right]$"
      ],
      "text/plain": [
       "Matrix([\n",
       "[1, 0, 0, -1, -1,  0, 2],\n",
       "[0, 1, 0,  0, -1,  1, 0],\n",
       "[0, 0, 1, -2,  0, -1, 3]])"
      ]
     },
     "execution_count": 88,
     "metadata": {},
     "output_type": "execute_result"
    }
   ],
   "source": [
    "C.char.rref()[0]"
   ]
  },
  {
   "cell_type": "code",
   "execution_count": 82,
   "id": "2139497c-382a-4d45-a27b-0f2e2ef24d31",
   "metadata": {},
   "outputs": [
    {
     "data": {
      "text/latex": [
       "$\\displaystyle \\left[\\begin{matrix}0\\\\-1\\\\-1\\end{matrix}\\right]$"
      ],
      "text/plain": [
       "Matrix([\n",
       "[ 0],\n",
       "[-1],\n",
       "[-1]])"
      ]
     },
     "execution_count": 82,
     "metadata": {},
     "output_type": "execute_result"
    }
   ],
   "source": [
    "C.vector_sum(K.cpx[0], [1,0,1])"
   ]
  },
  {
   "cell_type": "code",
   "execution_count": 83,
   "id": "57f8853c-ef14-41d9-b716-ebec584a65de",
   "metadata": {},
   "outputs": [
    {
     "data": {
      "text/latex": [
       "$\\displaystyle \\left[\\begin{matrix}0\\\\-1\\\\-1\\end{matrix}\\right]$"
      ],
      "text/plain": [
       "Matrix([\n",
       "[ 0],\n",
       "[-1],\n",
       "[-1]])"
      ]
     },
     "execution_count": 83,
     "metadata": {},
     "output_type": "execute_result"
    }
   ],
   "source": [
    "C.vector_sum(K.cpx[7], [1,0,1])"
   ]
  },
  {
   "cell_type": "markdown",
   "id": "91c547a1-8893-460f-8c97-9cacb5b31a25",
   "metadata": {},
   "source": [
    "##### $a_2=-1$, $b_1=2$, $d_1=-3$"
   ]
  },
  {
   "cell_type": "code",
   "execution_count": 89,
   "id": "eb48da46-f58c-43f2-af4f-d7a07658fe92",
   "metadata": {},
   "outputs": [],
   "source": [
    "C5 = copy.deepcopy(C4)\n",
    "C = C5\n",
    "C.subs(a2, -1)\n",
    "C.subs(b1, 2)\n",
    "C.subs(d1, -3)"
   ]
  },
  {
   "cell_type": "code",
   "execution_count": 90,
   "id": "57e34213-92a1-4321-a487-100ad85bed09",
   "metadata": {},
   "outputs": [
    {
     "name": "stdout",
     "output_type": "stream",
     "text": [
      "facet number: 3\n"
     ]
    },
    {
     "data": {
      "text/latex": [
       "$\\displaystyle 3 - b_{2} = 1$"
      ],
      "text/plain": [
       "Eq(3 - b2, 1)"
      ]
     },
     "metadata": {},
     "output_type": "display_data"
    }
   ],
   "source": [
    "i=3\n",
    "print('facet number:', i)\n",
    "display(sp.Eq(C.determinants[i], C.orientation[i]))\n",
    "\n",
    "C.subs(b2, 2)"
   ]
  },
  {
   "cell_type": "code",
   "execution_count": 93,
   "id": "4cd63f0a-0368-4593-a1b4-0a69c34f12de",
   "metadata": {},
   "outputs": [
    {
     "data": {
      "text/latex": [
       "$\\displaystyle \\left[\\begin{matrix}1 & 0 & 0 & -1 & -2 & 0 & 3\\\\0 & 1 & 0 & 0 & -1 & 1 & 0\\\\0 & 0 & 1 & -1 & 0 & -1 & 2\\end{matrix}\\right]$"
      ],
      "text/plain": [
       "Matrix([\n",
       "[1, 0, 0, -1, -2,  0, 3],\n",
       "[0, 1, 0,  0, -1,  1, 0],\n",
       "[0, 0, 1, -1,  0, -1, 2]])"
      ]
     },
     "execution_count": 93,
     "metadata": {},
     "output_type": "execute_result"
    }
   ],
   "source": [
    "C.char.rref()[0]"
   ]
  },
  {
   "cell_type": "code",
   "execution_count": 91,
   "id": "2664aa90-a582-4563-aa37-e7d65dbadfe5",
   "metadata": {},
   "outputs": [
    {
     "data": {
      "text/latex": [
       "$\\displaystyle \\left[\\begin{matrix}0\\\\-2\\\\-1\\end{matrix}\\right]$"
      ],
      "text/plain": [
       "Matrix([\n",
       "[ 0],\n",
       "[-2],\n",
       "[-1]])"
      ]
     },
     "execution_count": 91,
     "metadata": {},
     "output_type": "execute_result"
    }
   ],
   "source": [
    "C.vector_sum(K.cpx[0], [2,0,1])"
   ]
  },
  {
   "cell_type": "code",
   "execution_count": 92,
   "id": "8aa75e2b-9d2c-4a76-bd8d-ef2871699cc6",
   "metadata": {},
   "outputs": [
    {
     "data": {
      "text/latex": [
       "$\\displaystyle \\left[\\begin{matrix}0\\\\-2\\\\-1\\end{matrix}\\right]$"
      ],
      "text/plain": [
       "Matrix([\n",
       "[ 0],\n",
       "[-2],\n",
       "[-1]])"
      ]
     },
     "execution_count": 92,
     "metadata": {},
     "output_type": "execute_result"
    }
   ],
   "source": [
    "C.vector_sum(K.cpx[7], [1,0,1])"
   ]
  },
  {
   "cell_type": "markdown",
   "id": "b35ff901-6214-453a-966e-555a413e517e",
   "metadata": {
    "jp-MarkdownHeadingCollapsed": true
   },
   "source": [
    "# Type 4 of the projection"
   ]
  },
  {
   "cell_type": "code",
   "execution_count": 168,
   "id": "cb953f6a-ffc9-4a79-a0bd-e0a3171dce6d",
   "metadata": {},
   "outputs": [],
   "source": [
    "C1 = copy.deepcopy(C0)\n",
    "C = C1\n",
    "t=4"
   ]
  },
  {
   "cell_type": "code",
   "execution_count": 169,
   "id": "d6c621e4-03bb-477f-ba1a-573a2df55afa",
   "metadata": {},
   "outputs": [
    {
     "data": {
      "text/latex": [
       "$\\displaystyle \\left[\\begin{matrix}1 & 0 & -1 & d_{0} & c_{0}\\\\0 & 1 & b_{2} & d_{2} & -1\\end{matrix}\\right] = \\left[\\begin{matrix}1 & 0 & -1 & x - 1 & 1\\\\0 & 1 & 1 & - x & -1\\end{matrix}\\right]$"
      ],
      "text/plain": [
       "Eq(Matrix([\n",
       "[1, 0, -1, d0, c0],\n",
       "[0, 1, b2, d2, -1]]), Matrix([\n",
       "[1, 0, -1, x - 1,  1],\n",
       "[0, 1,  1,    -x, -1]]))"
      ]
     },
     "metadata": {},
     "output_type": "display_data"
    }
   ],
   "source": [
    "proj = C.proj([4])[:, [0,1,2,4,3]]\n",
    "with sp.evaluate(False):\n",
    "    display(sp.Eq(proj, fans_link[t]))\n",
    "\n",
    "C.subs(b2, 1)\n",
    "C.subs(d0, -d2-1)\n",
    "C.subs(c0, 1)"
   ]
  },
  {
   "cell_type": "code",
   "execution_count": 170,
   "id": "d9ac9779-1a16-44c0-918a-efc7f9809ffc",
   "metadata": {},
   "outputs": [
    {
     "name": "stdout",
     "output_type": "stream",
     "text": [
      "facet number: 9\n"
     ]
    },
    {
     "data": {
      "text/latex": [
       "$\\displaystyle b_{1} + c_{1} = -1$"
      ],
      "text/plain": [
       "Eq(b1 + c1, -1)"
      ]
     },
     "metadata": {},
     "output_type": "display_data"
    }
   ],
   "source": [
    "i=9\n",
    "print('facet number:', i)\n",
    "display(sp.Eq(C.determinants[i], C.orientation[i]))\n",
    "\n",
    "C.subs(c1, -b1-1)"
   ]
  },
  {
   "cell_type": "code",
   "execution_count": 171,
   "id": "10647beb-d08c-446a-8252-2aded126d2da",
   "metadata": {},
   "outputs": [
    {
     "name": "stdout",
     "output_type": "stream",
     "text": [
      "facet number: 3\n"
     ]
    },
    {
     "data": {
      "text/latex": [
       "$\\displaystyle a_{0} + a_{2} = 1$"
      ],
      "text/plain": [
       "Eq(a0 + a2, 1)"
      ]
     },
     "metadata": {},
     "output_type": "display_data"
    }
   ],
   "source": [
    "i=3\n",
    "print('facet number:', i)\n",
    "display(sp.Eq(C.determinants[i], C.orientation[i]))\n",
    "\n",
    "C.subs(a2, -a0+1)"
   ]
  },
  {
   "cell_type": "code",
   "execution_count": 172,
   "id": "93ed59d3-2338-4df6-a8f8-cde3dcbf51d8",
   "metadata": {},
   "outputs": [
    {
     "name": "stdout",
     "output_type": "stream",
     "text": [
      "facet number: 2\n"
     ]
    },
    {
     "data": {
      "text/latex": [
       "$\\displaystyle - a_{0} b_{1} + 1 = 1$"
      ],
      "text/plain": [
       "Eq(-a0*b1 + 1, 1)"
      ]
     },
     "metadata": {},
     "output_type": "display_data"
    }
   ],
   "source": [
    "i=2\n",
    "print('facet number:', i)\n",
    "display(sp.Eq(C.determinants[i], C.orientation[i]))"
   ]
  },
  {
   "cell_type": "markdown",
   "id": "1b05e17d-0ab4-4eaf-8713-88a8dd82e629",
   "metadata": {
    "jp-MarkdownHeadingCollapsed": true
   },
   "source": [
    "## $a_0=0$"
   ]
  },
  {
   "cell_type": "code",
   "execution_count": 173,
   "id": "954bdb1c-c40b-482c-b741-04aec6230640",
   "metadata": {},
   "outputs": [],
   "source": [
    "C2 = copy.deepcopy(C1)\n",
    "C = C2\n",
    "C.subs(a0, 0)"
   ]
  },
  {
   "cell_type": "code",
   "execution_count": 174,
   "id": "7963b5c0-5a73-4749-952c-ee20063ed122",
   "metadata": {},
   "outputs": [
    {
     "name": "stdout",
     "output_type": "stream",
     "text": [
      "facet number: 1\n"
     ]
    },
    {
     "data": {
      "text/latex": [
       "$\\displaystyle - b_{1} - 2 = -1$"
      ],
      "text/plain": [
       "Eq(-b1 - 2, -1)"
      ]
     },
     "metadata": {},
     "output_type": "display_data"
    }
   ],
   "source": [
    "i=1\n",
    "print('facet number:', i)\n",
    "display(sp.Eq(C.determinants[i], C.orientation[i]))\n",
    "\n",
    "C.subs(b1, -1)"
   ]
  },
  {
   "cell_type": "code",
   "execution_count": 175,
   "id": "c4303068-6df7-4a3c-9f4b-3c909429b69d",
   "metadata": {},
   "outputs": [
    {
     "data": {
      "text/latex": [
       "$\\displaystyle \\left[\\begin{matrix}0 & 1 & 0 & 0 & -1 & 1 & - d_{2} - 1\\\\-1 & 0 & 0 & 1 & -1 & 0 & d_{1}\\\\1 & 0 & 1 & 0 & 1 & -1 & d_{2}\\end{matrix}\\right]$"
      ],
      "text/plain": [
       "Matrix([\n",
       "[ 0, 1, 0, 0, -1,  1, -d2 - 1],\n",
       "[-1, 0, 0, 1, -1,  0,      d1],\n",
       "[ 1, 0, 1, 0,  1, -1,      d2]])"
      ]
     },
     "metadata": {},
     "output_type": "display_data"
    },
    {
     "name": "stdout",
     "output_type": "stream",
     "text": [
      "1\n"
     ]
    }
   ],
   "source": [
    "display(C.char)\n",
    "print(C.is_fangiving)\n",
    "fans.append(C.char)"
   ]
  },
  {
   "cell_type": "markdown",
   "id": "5e3c42e7-32a6-460c-81f2-0b8faf95a276",
   "metadata": {
    "jp-MarkdownHeadingCollapsed": true
   },
   "source": [
    "## $b_1=0$"
   ]
  },
  {
   "cell_type": "code",
   "execution_count": 176,
   "id": "a926ddef-a4da-41a7-b2fd-2a039242f0b7",
   "metadata": {},
   "outputs": [],
   "source": [
    "C2 = copy.deepcopy(C1)\n",
    "C = C2\n",
    "C.subs(b1, 0)"
   ]
  },
  {
   "cell_type": "code",
   "execution_count": 177,
   "id": "93136cac-b7b9-4ed4-8c11-af412f06fc29",
   "metadata": {},
   "outputs": [
    {
     "name": "stdout",
     "output_type": "stream",
     "text": [
      "facet number: 1\n"
     ]
    },
    {
     "data": {
      "text/latex": [
       "$\\displaystyle a_{0} - 2 = -1$"
      ],
      "text/plain": [
       "Eq(a0 - 2, -1)"
      ]
     },
     "metadata": {},
     "output_type": "display_data"
    }
   ],
   "source": [
    "i=1\n",
    "print('facet number:', i)\n",
    "display(sp.Eq(C.determinants[i], C.orientation[i]))\n",
    "\n",
    "C.subs(a0, 1)"
   ]
  },
  {
   "cell_type": "code",
   "execution_count": 178,
   "id": "5d84bdc9-fd6e-4beb-8669-d7c2af1b8948",
   "metadata": {},
   "outputs": [
    {
     "data": {
      "text/latex": [
       "$\\displaystyle \\left[\\begin{matrix}1 & 1 & 0 & 0 & -1 & 1 & - d_{2} - 1\\\\-1 & 0 & 0 & 1 & 0 & -1 & d_{1}\\\\0 & 0 & 1 & 0 & 1 & -1 & d_{2}\\end{matrix}\\right]$"
      ],
      "text/plain": [
       "Matrix([\n",
       "[ 1, 1, 0, 0, -1,  1, -d2 - 1],\n",
       "[-1, 0, 0, 1,  0, -1,      d1],\n",
       "[ 0, 0, 1, 0,  1, -1,      d2]])"
      ]
     },
     "metadata": {},
     "output_type": "display_data"
    },
    {
     "name": "stdout",
     "output_type": "stream",
     "text": [
      "1\n"
     ]
    }
   ],
   "source": [
    "display(C.char)\n",
    "print(C.is_fangiving)\n",
    "fans.append(C.char)"
   ]
  },
  {
   "cell_type": "markdown",
   "id": "2c0d20d5-5183-4fe0-9325-1e8deb008c54",
   "metadata": {
    "jp-MarkdownHeadingCollapsed": true
   },
   "source": [
    "# There are 16 types of fans up to D-J equivalence"
   ]
  },
  {
   "cell_type": "markdown",
   "id": "5956fc8d-c4a4-45c8-ac27-1024604a2c1a",
   "metadata": {
    "jp-MarkdownHeadingCollapsed": true
   },
   "source": [
    "## removing redundant ones"
   ]
  },
  {
   "cell_type": "code",
   "execution_count": 186,
   "id": "d60a8ea1-6908-4487-9dff-ac53b51bec9e",
   "metadata": {},
   "outputs": [
    {
     "data": {
      "text/latex": [
       "$\\displaystyle \\left[\\begin{matrix}0 & 1 & 0 & 0 & -1 & 0 & -1\\\\-1 & 0 & 0 & 1 & d_{1} - 1 & 0 & d_{1}\\\\a_{2} & 0 & 1 & 0 & 1 & -1 & 0\\end{matrix}\\right]$"
      ],
      "text/plain": [
       "Matrix([\n",
       "[ 0, 1, 0, 0,     -1,  0, -1],\n",
       "[-1, 0, 0, 1, d1 - 1,  0, d1],\n",
       "[a2, 0, 1, 0,      1, -1,  0]])"
      ]
     },
     "metadata": {},
     "output_type": "display_data"
    },
    {
     "data": {
      "text/latex": [
       "$\\displaystyle \\left[\\begin{matrix}0 & 1 & 0 & 0 & -1 & 0 & -1\\\\-1 & 0 & 0 & 1 & b_{1} & 0 & b_{1} + 1\\\\a_{2} & 0 & 1 & 0 & b_{2} & -1 & b_{2} - 1\\end{matrix}\\right]$"
      ],
      "text/plain": [
       "Matrix([\n",
       "[ 0, 1, 0, 0, -1,  0,     -1],\n",
       "[-1, 0, 0, 1, b1,  0, b1 + 1],\n",
       "[a2, 0, 1, 0, b2, -1, b2 - 1]])"
      ]
     },
     "metadata": {},
     "output_type": "display_data"
    },
    {
     "data": {
      "text/latex": [
       "$\\displaystyle \\text{True}$"
      ],
      "text/plain": [
       "True"
      ]
     },
     "metadata": {},
     "output_type": "display_data"
    }
   ],
   "source": [
    "display(fans[0], fans[9])\n",
    "display(sp.Eq(fans[0],fans[9].subs(b1, d1-1).subs(b2, 1)))\n",
    "fans.remove(fans[0])"
   ]
  },
  {
   "cell_type": "code",
   "execution_count": 189,
   "id": "61e8843d-d431-4376-b2ac-68efea1622d1",
   "metadata": {},
   "outputs": [
    {
     "data": {
      "text/latex": [
       "$\\displaystyle \\left[\\begin{matrix}0 & 1 & 0 & 0 & -1 & 1 & -1\\\\-1 & 0 & 0 & 1 & -1 & 0 & d_{1}\\\\1 & 0 & 1 & 0 & 1 & -1 & 0\\end{matrix}\\right]$"
      ],
      "text/plain": [
       "Matrix([\n",
       "[ 0, 1, 0, 0, -1,  1, -1],\n",
       "[-1, 0, 0, 1, -1,  0, d1],\n",
       "[ 1, 0, 1, 0,  1, -1,  0]])"
      ]
     },
     "metadata": {},
     "output_type": "display_data"
    },
    {
     "data": {
      "text/latex": [
       "$\\displaystyle \\left[\\begin{matrix}0 & 1 & 0 & 0 & -1 & 1 & - d_{2} - 1\\\\-1 & 0 & 0 & 1 & -1 & 0 & d_{1}\\\\1 & 0 & 1 & 0 & 1 & -1 & d_{2}\\end{matrix}\\right]$"
      ],
      "text/plain": [
       "Matrix([\n",
       "[ 0, 1, 0, 0, -1,  1, -d2 - 1],\n",
       "[-1, 0, 0, 1, -1,  0,      d1],\n",
       "[ 1, 0, 1, 0,  1, -1,      d2]])"
      ]
     },
     "metadata": {},
     "output_type": "display_data"
    },
    {
     "data": {
      "text/latex": [
       "$\\displaystyle \\text{True}$"
      ],
      "text/plain": [
       "True"
      ]
     },
     "metadata": {},
     "output_type": "display_data"
    }
   ],
   "source": [
    "display(fans[0], fans[21])\n",
    "display(sp.Eq(fans[0],fans[21].subs(d2,0)))\n",
    "fans.remove(fans[0])"
   ]
  },
  {
   "cell_type": "code",
   "execution_count": 197,
   "id": "d96b22db-fbb9-49d3-b706-a71bebb9d651",
   "metadata": {},
   "outputs": [
    {
     "data": {
      "text/latex": [
       "$\\displaystyle \\left[\\begin{matrix}a_{0} & 1 & 0 & 0 & -1 & 0 & -1\\\\-1 & 0 & 0 & 1 & 0 & 0 & 1\\\\a_{2} & 0 & 1 & 0 & 1 & -1 & 0\\end{matrix}\\right]$"
      ],
      "text/plain": [
       "Matrix([\n",
       "[a0, 1, 0, 0, -1,  0, -1],\n",
       "[-1, 0, 0, 1,  0,  0,  1],\n",
       "[a2, 0, 1, 0,  1, -1,  0]])"
      ]
     },
     "metadata": {},
     "output_type": "display_data"
    },
    {
     "data": {
      "text/latex": [
       "$\\displaystyle \\left[\\begin{matrix}a_{0} & 1 & 0 & 0 & -1 & 0 & -1\\\\-1 & 0 & 0 & 1 & 0 & 0 & 1\\\\a_{2} & 0 & 1 & 0 & b_{2} & -1 & b_{2} - 1\\end{matrix}\\right]$"
      ],
      "text/plain": [
       "Matrix([\n",
       "[a0, 1, 0, 0, -1,  0,     -1],\n",
       "[-1, 0, 0, 1,  0,  0,      1],\n",
       "[a2, 0, 1, 0, b2, -1, b2 - 1]])"
      ]
     },
     "metadata": {},
     "output_type": "display_data"
    },
    {
     "data": {
      "text/latex": [
       "$\\displaystyle \\text{True}$"
      ],
      "text/plain": [
       "True"
      ]
     },
     "metadata": {},
     "output_type": "display_data"
    }
   ],
   "source": [
    "display(fans[2], fans[8])\n",
    "display(sp.Eq(fans[2],fans[8].subs(b2,1)))\n",
    "fans.remove(fans[2])"
   ]
  },
  {
   "cell_type": "code",
   "execution_count": 200,
   "id": "64485c33-391e-45a3-967c-62c8c94722f1",
   "metadata": {},
   "outputs": [
    {
     "data": {
      "text/latex": [
       "$\\displaystyle \\left[\\begin{matrix}0 & 1 & 0 & 0 & -1 & 0 & -1\\\\-1 & 0 & 0 & 1 & b_{1} & c_{1} & b_{1} + c_{1} + 1\\\\0 & 0 & 1 & 0 & 1 & -1 & 0\\end{matrix}\\right]$"
      ],
      "text/plain": [
       "Matrix([\n",
       "[ 0, 1, 0, 0, -1,  0,          -1],\n",
       "[-1, 0, 0, 1, b1, c1, b1 + c1 + 1],\n",
       "[ 0, 0, 1, 0,  1, -1,           0]])"
      ]
     },
     "metadata": {},
     "output_type": "display_data"
    },
    {
     "data": {
      "text/latex": [
       "$\\displaystyle \\left[\\begin{matrix}0 & 1 & 0 & 0 & -1 & 0 & -1\\\\-1 & 0 & 0 & 1 & b_{1} & c_{1} & b_{1} + c_{1} + 1\\\\0 & 0 & 1 & 0 & b_{2} & -1 & b_{2} - 1\\end{matrix}\\right]$"
      ],
      "text/plain": [
       "Matrix([\n",
       "[ 0, 1, 0, 0, -1,  0,          -1],\n",
       "[-1, 0, 0, 1, b1, c1, b1 + c1 + 1],\n",
       "[ 0, 0, 1, 0, b2, -1,      b2 - 1]])"
      ]
     },
     "metadata": {},
     "output_type": "display_data"
    },
    {
     "data": {
      "text/latex": [
       "$\\displaystyle \\text{True}$"
      ],
      "text/plain": [
       "True"
      ]
     },
     "metadata": {},
     "output_type": "display_data"
    }
   ],
   "source": [
    "display(fans[2], fans[8])\n",
    "display(sp.Eq(fans[2],fans[8].subs(b2,1)))\n",
    "fans.remove(fans[2])"
   ]
  },
  {
   "cell_type": "code",
   "execution_count": 203,
   "id": "7296e841-c6c8-4c1c-8a39-de257af52f86",
   "metadata": {},
   "outputs": [
    {
     "data": {
      "text/latex": [
       "$\\displaystyle \\left[\\begin{matrix}1 & 1 & 0 & 0 & -1 & 1 & -1\\\\-1 & 0 & 0 & 1 & 0 & -1 & d_{1}\\\\0 & 0 & 1 & 0 & 1 & -1 & 0\\end{matrix}\\right]$"
      ],
      "text/plain": [
       "Matrix([\n",
       "[ 1, 1, 0, 0, -1,  1, -1],\n",
       "[-1, 0, 0, 1,  0, -1, d1],\n",
       "[ 0, 0, 1, 0,  1, -1,  0]])"
      ]
     },
     "metadata": {},
     "output_type": "display_data"
    },
    {
     "data": {
      "text/latex": [
       "$\\displaystyle \\left[\\begin{matrix}1 & 1 & 0 & 0 & -1 & 1 & - d_{2} - 1\\\\-1 & 0 & 0 & 1 & 0 & -1 & d_{1}\\\\0 & 0 & 1 & 0 & 1 & -1 & d_{2}\\end{matrix}\\right]$"
      ],
      "text/plain": [
       "Matrix([\n",
       "[ 1, 1, 0, 0, -1,  1, -d2 - 1],\n",
       "[-1, 0, 0, 1,  0, -1,      d1],\n",
       "[ 0, 0, 1, 0,  1, -1,      d2]])"
      ]
     },
     "metadata": {},
     "output_type": "display_data"
    },
    {
     "data": {
      "text/latex": [
       "$\\displaystyle \\text{True}$"
      ],
      "text/plain": [
       "True"
      ]
     },
     "metadata": {},
     "output_type": "display_data"
    }
   ],
   "source": [
    "display(fans[2], fans[19])\n",
    "display(sp.Eq(fans[2],fans[19].subs(d2,0)))\n",
    "fans.remove(fans[2])"
   ]
  },
  {
   "cell_type": "code",
   "execution_count": 233,
   "id": "ec566c9f-4b7b-432a-b3ae-30d332335503",
   "metadata": {},
   "outputs": [
    {
     "data": {
      "text/latex": [
       "$\\displaystyle \\left[\\begin{matrix}a_{0} & 1 & 0 & 0 & -1 & 0 & -1\\\\-1 & 0 & 0 & 1 & 0 & c_{1} & c_{1} + 1\\\\0 & 0 & 1 & 0 & 0 & -1 & -1\\end{matrix}\\right]$"
      ],
      "text/plain": [
       "Matrix([\n",
       "[a0, 1, 0, 0, -1,  0,     -1],\n",
       "[-1, 0, 0, 1,  0, c1, c1 + 1],\n",
       "[ 0, 0, 1, 0,  0, -1,     -1]])"
      ]
     },
     "metadata": {},
     "output_type": "display_data"
    },
    {
     "data": {
      "text/latex": [
       "$\\displaystyle \\left[\\begin{matrix}a_{0} & 1 & 0 & 0 & -1 & d_{0} + 1 & d_{0}\\\\-1 & 0 & 0 & 1 & 0 & c_{1} & c_{1} + 1\\\\0 & 0 & 1 & 0 & 0 & -1 & -1\\end{matrix}\\right]$"
      ],
      "text/plain": [
       "Matrix([\n",
       "[a0, 1, 0, 0, -1, d0 + 1,     d0],\n",
       "[-1, 0, 0, 1,  0,     c1, c1 + 1],\n",
       "[ 0, 0, 1, 0,  0,     -1,     -1]])"
      ]
     },
     "metadata": {},
     "output_type": "display_data"
    },
    {
     "data": {
      "text/latex": [
       "$\\displaystyle \\text{True}$"
      ],
      "text/plain": [
       "True"
      ]
     },
     "metadata": {},
     "output_type": "display_data"
    }
   ],
   "source": [
    "display(fans[7], fans[9])\n",
    "display(sp.Eq(fans[7],fans[9].subs(d0,-1)))\n",
    "fans.remove(fans[7])"
   ]
  },
  {
   "cell_type": "code",
   "execution_count": 251,
   "id": "6e99674e-fe97-4da0-8d1b-191d2ec1049b",
   "metadata": {},
   "outputs": [
    {
     "data": {
      "text/latex": [
       "$\\displaystyle \\left[\\begin{matrix}1 & 1 & 0 & 0 & -1 & 1 & 0\\\\-1 & 0 & 0 & 1 & 0 & -1 & d_{1}\\\\0 & 0 & 1 & 0 & 1 & -1 & -1\\end{matrix}\\right]$"
      ],
      "text/plain": [
       "Matrix([\n",
       "[ 1, 1, 0, 0, -1,  1,  0],\n",
       "[-1, 0, 0, 1,  0, -1, d1],\n",
       "[ 0, 0, 1, 0,  1, -1, -1]])"
      ]
     },
     "metadata": {},
     "output_type": "display_data"
    },
    {
     "data": {
      "text/latex": [
       "$\\displaystyle \\left[\\begin{matrix}1 & 1 & 0 & 0 & -1 & 1 & - d_{2} - 1\\\\-1 & 0 & 0 & 1 & 0 & -1 & d_{1}\\\\0 & 0 & 1 & 0 & 1 & -1 & d_{2}\\end{matrix}\\right]$"
      ],
      "text/plain": [
       "Matrix([\n",
       "[ 1, 1, 0, 0, -1,  1, -d2 - 1],\n",
       "[-1, 0, 0, 1,  0, -1,      d1],\n",
       "[ 0, 0, 1, 0,  1, -1,      d2]])"
      ]
     },
     "metadata": {},
     "output_type": "display_data"
    },
    {
     "data": {
      "text/latex": [
       "$\\displaystyle \\text{True}$"
      ],
      "text/plain": [
       "True"
      ]
     },
     "metadata": {},
     "output_type": "display_data"
    }
   ],
   "source": [
    "display(fans[10], fans[17])\n",
    "display(sp.Eq(fans[10],fans[17].subs(d2,-1)))\n",
    "fans.remove(fans[10])"
   ]
  },
  {
   "cell_type": "code",
   "execution_count": 264,
   "id": "12fabda6-fbe8-44c8-ac08-1236c95c9a94",
   "metadata": {},
   "outputs": [
    {
     "data": {
      "text/latex": [
       "$\\displaystyle \\left[\\begin{matrix}0 & 1 & 0 & 0 & -1 & 1 & 0\\\\-1 & 0 & 0 & 1 & -1 & 0 & d_{1}\\\\1 & 0 & 1 & 0 & 1 & -1 & -1\\end{matrix}\\right]$"
      ],
      "text/plain": [
       "Matrix([\n",
       "[ 0, 1, 0, 0, -1,  1,  0],\n",
       "[-1, 0, 0, 1, -1,  0, d1],\n",
       "[ 1, 0, 1, 0,  1, -1, -1]])"
      ]
     },
     "metadata": {},
     "output_type": "display_data"
    },
    {
     "data": {
      "text/latex": [
       "$\\displaystyle \\left[\\begin{matrix}0 & 1 & 0 & 0 & -1 & 1 & - d_{2} - 1\\\\-1 & 0 & 0 & 1 & -1 & 0 & d_{1}\\\\1 & 0 & 1 & 0 & 1 & -1 & d_{2}\\end{matrix}\\right]$"
      ],
      "text/plain": [
       "Matrix([\n",
       "[ 0, 1, 0, 0, -1,  1, -d2 - 1],\n",
       "[-1, 0, 0, 1, -1,  0,      d1],\n",
       "[ 1, 0, 1, 0,  1, -1,      d2]])"
      ]
     },
     "metadata": {},
     "output_type": "display_data"
    },
    {
     "data": {
      "text/latex": [
       "$\\displaystyle \\text{True}$"
      ],
      "text/plain": [
       "True"
      ]
     },
     "metadata": {},
     "output_type": "display_data"
    }
   ],
   "source": [
    "display(fans[13], fans[15])\n",
    "display(sp.Eq(fans[13],fans[15].subs(d2,-1)))\n",
    "fans.remove(fans[13])"
   ]
  },
  {
   "cell_type": "code",
   "execution_count": 280,
   "id": "ece42835-372b-4c2a-9f00-326bc8cf4a2c",
   "metadata": {},
   "outputs": [
    {
     "data": {
      "text/latex": [
       "$\\displaystyle \\left[\\begin{matrix}1 & 0 & 0 & -1 & 1 & 0 & 0\\\\0 & 1 & 0 & 0 & -1 & c_{0} & -1\\\\0 & 0 & 1 & 1 & 0 & -1 & 0\\end{matrix}\\right]$"
      ],
      "text/plain": [
       "Matrix([\n",
       "[1, 0, 0, -1,  1,  0,  0],\n",
       "[0, 1, 0,  0, -1, c0, -1],\n",
       "[0, 0, 1,  1,  0, -1,  0]])"
      ]
     },
     "metadata": {},
     "output_type": "display_data"
    },
    {
     "data": {
      "text/latex": [
       "$\\displaystyle \\left[\\begin{matrix}1 & 0 & 0 & -1 & 1 & 0 & 0\\\\0 & 1 & 0 & 0 & -1 & c_{1} & -1\\\\0 & 0 & 1 & 1 & 0 & -1 & 0\\end{matrix}\\right]$"
      ],
      "text/plain": [
       "Matrix([\n",
       "[1, 0, 0, -1,  1,  0,  0],\n",
       "[0, 1, 0,  0, -1, c1, -1],\n",
       "[0, 0, 1,  1,  0, -1,  0]])"
      ]
     },
     "metadata": {},
     "output_type": "display_data"
    }
   ],
   "source": [
    "i=0\n",
    "display(fans[i].rref()[0])\n",
    "fans[i]=fans[i].rref()[0].subs(c0, c1)\n",
    "display(fans[i])"
   ]
  },
  {
   "cell_type": "code",
   "execution_count": 282,
   "id": "0f8057ac-e5fd-4048-8f60-a24e539cec05",
   "metadata": {},
   "outputs": [
    {
     "data": {
      "text/latex": [
       "$\\displaystyle \\left[\\begin{matrix}1 & 0 & 0 & -1 & -1 & 0 & -1\\\\0 & 1 & 0 & 0 & -1 & -1 & -1\\\\0 & 0 & 1 & -1 & 0 & -1 & -1\\end{matrix}\\right]$"
      ],
      "text/plain": [
       "Matrix([\n",
       "[1, 0, 0, -1, -1,  0, -1],\n",
       "[0, 1, 0,  0, -1, -1, -1],\n",
       "[0, 0, 1, -1,  0, -1, -1]])"
      ]
     },
     "metadata": {},
     "output_type": "display_data"
    },
    {
     "data": {
      "text/latex": [
       "$\\displaystyle \\left[\\begin{matrix}1 & 0 & 0 & -1 & -1 & 0 & -1\\\\0 & 1 & 0 & 0 & -1 & -1 & -1\\\\0 & 0 & 1 & -1 & 0 & -1 & -1\\end{matrix}\\right]$"
      ],
      "text/plain": [
       "Matrix([\n",
       "[1, 0, 0, -1, -1,  0, -1],\n",
       "[0, 1, 0,  0, -1, -1, -1],\n",
       "[0, 0, 1, -1,  0, -1, -1]])"
      ]
     },
     "metadata": {},
     "output_type": "display_data"
    }
   ],
   "source": [
    "i=1\n",
    "display(fans[i].rref()[0])\n",
    "fans[i]=fans[i].rref()[0]\n",
    "display(fans[i])"
   ]
  },
  {
   "cell_type": "code",
   "execution_count": 284,
   "id": "5a2255c5-6dab-45e5-a691-13a4a8cbcc16",
   "metadata": {},
   "outputs": [
    {
     "data": {
      "text/latex": [
       "$\\displaystyle \\left[\\begin{matrix}1 & 0 & 0 & -1 & 0 & - c_{1} & -1\\\\0 & 1 & 0 & 1 & -1 & 0 & 0\\\\0 & 0 & 1 & 0 & 1 & -1 & 0\\end{matrix}\\right]$"
      ],
      "text/plain": [
       "Matrix([\n",
       "[1, 0, 0, -1,  0, -c1, -1],\n",
       "[0, 1, 0,  1, -1,   0,  0],\n",
       "[0, 0, 1,  0,  1,  -1,  0]])"
      ]
     },
     "metadata": {},
     "output_type": "display_data"
    },
    {
     "data": {
      "text/latex": [
       "$\\displaystyle \\left[\\begin{matrix}1 & 0 & 0 & -1 & 0 & c_{0} & -1\\\\0 & 1 & 0 & 1 & -1 & 0 & 0\\\\0 & 0 & 1 & 0 & 1 & -1 & 0\\end{matrix}\\right]$"
      ],
      "text/plain": [
       "Matrix([\n",
       "[1, 0, 0, -1,  0, c0, -1],\n",
       "[0, 1, 0,  1, -1,  0,  0],\n",
       "[0, 0, 1,  0,  1, -1,  0]])"
      ]
     },
     "metadata": {},
     "output_type": "display_data"
    }
   ],
   "source": [
    "i=2\n",
    "display(fans[i].rref()[0])\n",
    "fans[i]=fans[i].rref()[0].subs(c1, -c0)\n",
    "display(fans[i])"
   ]
  },
  {
   "cell_type": "code",
   "execution_count": 287,
   "id": "479311da-ace8-42b7-813e-de2ce9fbe4fa",
   "metadata": {},
   "outputs": [
    {
     "data": {
      "text/latex": [
       "$\\displaystyle \\left[\\begin{matrix}1 & 0 & 0 & -1 & 0 & 1 & 0\\\\0 & 1 & 0 & a_{0} & -1 & 0 & -1\\\\0 & 0 & 1 & 0 & 1 & -1 & 0\\end{matrix}\\right]$"
      ],
      "text/plain": [
       "Matrix([\n",
       "[1, 0, 0, -1,  0,  1,  0],\n",
       "[0, 1, 0, a0, -1,  0, -1],\n",
       "[0, 0, 1,  0,  1, -1,  0]])"
      ]
     },
     "metadata": {},
     "output_type": "display_data"
    },
    {
     "data": {
      "text/latex": [
       "$\\displaystyle \\left[\\begin{matrix}1 & 0 & 0 & -1 & 0 & 1 & 0\\\\0 & 1 & 0 & a_{1} & -1 & 0 & -1\\\\0 & 0 & 1 & 0 & 1 & -1 & 0\\end{matrix}\\right]$"
      ],
      "text/plain": [
       "Matrix([\n",
       "[1, 0, 0, -1,  0,  1,  0],\n",
       "[0, 1, 0, a1, -1,  0, -1],\n",
       "[0, 0, 1,  0,  1, -1,  0]])"
      ]
     },
     "metadata": {},
     "output_type": "display_data"
    }
   ],
   "source": [
    "i=3\n",
    "display(fans[i].rref()[0])\n",
    "fans[i]=fans[i].rref()[0].subs(a0, a1)\n",
    "display(fans[i])"
   ]
  },
  {
   "cell_type": "code",
   "execution_count": 289,
   "id": "bd5236d7-782f-499f-8c04-aa520a3bb47f",
   "metadata": {},
   "outputs": [
    {
     "data": {
      "text/latex": [
       "$\\displaystyle \\left[\\begin{matrix}1 & 0 & 0 & -1 & - b_{1} & 0 & - b_{1} - 1\\\\0 & 1 & 0 & 0 & -1 & 0 & -1\\\\0 & 0 & 1 & a_{2} & a_{2} b_{1} + b_{2} & -1 & a_{2} b_{1} + a_{2} + b_{2} - 1\\end{matrix}\\right]$"
      ],
      "text/plain": [
       "Matrix([\n",
       "[1, 0, 0, -1,        -b1,  0,             -b1 - 1],\n",
       "[0, 1, 0,  0,         -1,  0,                  -1],\n",
       "[0, 0, 1, a2, a2*b1 + b2, -1, a2*b1 + a2 + b2 - 1]])"
      ]
     },
     "metadata": {},
     "output_type": "display_data"
    },
    {
     "data": {
      "text/latex": [
       "$\\displaystyle \\left[\\begin{matrix}1 & 0 & 0 & -1 & b_{0} & 0 & b_{0} - 1\\\\0 & 1 & 0 & 0 & -1 & 0 & -1\\\\0 & 0 & 1 & a_{2} & b_{2} & -1 & a_{2} + b_{2} - 1\\end{matrix}\\right]$"
      ],
      "text/plain": [
       "Matrix([\n",
       "[1, 0, 0, -1, b0,  0,      b0 - 1],\n",
       "[0, 1, 0,  0, -1,  0,          -1],\n",
       "[0, 0, 1, a2, b2, -1, a2 + b2 - 1]])"
      ]
     },
     "metadata": {},
     "output_type": "display_data"
    }
   ],
   "source": [
    "i=4\n",
    "display(fans[i].rref()[0])\n",
    "fans[i]=fans[i].rref()[0].subs(b1, -b0).subs(-a2*b0+b2, b2)\n",
    "display(fans[i])"
   ]
  },
  {
   "cell_type": "code",
   "execution_count": 291,
   "id": "39bac648-f006-4c6a-828c-611731165e4f",
   "metadata": {},
   "outputs": [
    {
     "data": {
      "text/latex": [
       "$\\displaystyle \\left[\\begin{matrix}1 & 0 & 0 & -1 & 0 & 0 & -1\\\\0 & 1 & 0 & a_{0} & -1 & 0 & a_{0} - 1\\\\0 & 0 & 1 & a_{2} & b_{2} & -1 & a_{2} + b_{2} - 1\\end{matrix}\\right]$"
      ],
      "text/plain": [
       "Matrix([\n",
       "[1, 0, 0, -1,  0,  0,          -1],\n",
       "[0, 1, 0, a0, -1,  0,      a0 - 1],\n",
       "[0, 0, 1, a2, b2, -1, a2 + b2 - 1]])"
      ]
     },
     "metadata": {},
     "output_type": "display_data"
    },
    {
     "data": {
      "text/latex": [
       "$\\displaystyle \\left[\\begin{matrix}1 & 0 & 0 & -1 & 0 & 0 & -1\\\\0 & 1 & 0 & a_{1} & -1 & 0 & a_{1} - 1\\\\0 & 0 & 1 & a_{2} & b_{2} & -1 & a_{2} + b_{2} - 1\\end{matrix}\\right]$"
      ],
      "text/plain": [
       "Matrix([\n",
       "[1, 0, 0, -1,  0,  0,          -1],\n",
       "[0, 1, 0, a1, -1,  0,      a1 - 1],\n",
       "[0, 0, 1, a2, b2, -1, a2 + b2 - 1]])"
      ]
     },
     "metadata": {},
     "output_type": "display_data"
    }
   ],
   "source": [
    "i=5\n",
    "display(fans[i].rref()[0])\n",
    "fans[i]=fans[i].rref()[0].subs(a0, a1)\n",
    "display(fans[i])"
   ]
  },
  {
   "cell_type": "code",
   "execution_count": 293,
   "id": "046fc1e4-5277-4be9-a521-5a47b7f0641c",
   "metadata": {},
   "outputs": [
    {
     "data": {
      "text/latex": [
       "$\\displaystyle \\left[\\begin{matrix}1 & 0 & 0 & -1 & - b_{1} & - c_{1} & - b_{1} - c_{1} - 1\\\\0 & 1 & 0 & 0 & -1 & 0 & -1\\\\0 & 0 & 1 & 0 & b_{2} & -1 & b_{2} - 1\\end{matrix}\\right]$"
      ],
      "text/plain": [
       "Matrix([\n",
       "[1, 0, 0, -1, -b1, -c1, -b1 - c1 - 1],\n",
       "[0, 1, 0,  0,  -1,   0,           -1],\n",
       "[0, 0, 1,  0,  b2,  -1,       b2 - 1]])"
      ]
     },
     "metadata": {},
     "output_type": "display_data"
    },
    {
     "data": {
      "text/latex": [
       "$\\displaystyle \\left[\\begin{matrix}1 & 0 & 0 & -1 & b_{0} & c_{0} & b_{0} + c_{0} - 1\\\\0 & 1 & 0 & 0 & -1 & 0 & -1\\\\0 & 0 & 1 & 0 & b_{2} & -1 & b_{2} - 1\\end{matrix}\\right]$"
      ],
      "text/plain": [
       "Matrix([\n",
       "[1, 0, 0, -1, b0, c0, b0 + c0 - 1],\n",
       "[0, 1, 0,  0, -1,  0,          -1],\n",
       "[0, 0, 1,  0, b2, -1,      b2 - 1]])"
      ]
     },
     "metadata": {},
     "output_type": "display_data"
    }
   ],
   "source": [
    "i=6\n",
    "display(fans[i].rref()[0])\n",
    "fans[i]=fans[i].rref()[0].subs(b1, -b0).subs(c1, -c0)\n",
    "display(fans[i])"
   ]
  },
  {
   "cell_type": "code",
   "execution_count": 295,
   "id": "611357d9-bd11-490a-b9bc-f0cb18cbf5c6",
   "metadata": {},
   "outputs": [
    {
     "data": {
      "text/latex": [
       "$\\displaystyle \\left[\\begin{matrix}1 & 0 & 0 & -1 & - b_{1} & - c_{1} & - b_{1} - c_{1} - 1\\\\0 & 1 & 0 & 0 & -1 & d_{0} + 1 & d_{0}\\\\0 & 0 & 1 & 0 & 0 & -1 & -1\\end{matrix}\\right]$"
      ],
      "text/plain": [
       "Matrix([\n",
       "[1, 0, 0, -1, -b1,    -c1, -b1 - c1 - 1],\n",
       "[0, 1, 0,  0,  -1, d0 + 1,           d0],\n",
       "[0, 0, 1,  0,   0,     -1,           -1]])"
      ]
     },
     "metadata": {},
     "output_type": "display_data"
    },
    {
     "data": {
      "text/latex": [
       "$\\displaystyle \\left[\\begin{matrix}1 & 0 & 0 & -1 & b_{0} & c_{0} & b_{0} + c_{0} - 1\\\\0 & 1 & 0 & 0 & -1 & c_{1} & c_{1} - 1\\\\0 & 0 & 1 & 0 & 0 & -1 & -1\\end{matrix}\\right]$"
      ],
      "text/plain": [
       "Matrix([\n",
       "[1, 0, 0, -1, b0, c0, b0 + c0 - 1],\n",
       "[0, 1, 0,  0, -1, c1,      c1 - 1],\n",
       "[0, 0, 1,  0,  0, -1,          -1]])"
      ]
     },
     "metadata": {},
     "output_type": "display_data"
    }
   ],
   "source": [
    "i=7\n",
    "display(fans[i].rref()[0])\n",
    "fans[i]=fans[i].rref()[0].subs(b1, -b0).subs(c1, -c0).subs(d0, c1-1)\n",
    "display(fans[i])"
   ]
  },
  {
   "cell_type": "code",
   "execution_count": 297,
   "id": "7537a48b-7ca8-4a07-b759-2655651b5e64",
   "metadata": {},
   "outputs": [
    {
     "data": {
      "text/latex": [
       "$\\displaystyle \\left[\\begin{matrix}1 & 0 & 0 & -1 & 0 & - c_{1} & - c_{1} - 1\\\\0 & 1 & 0 & a_{0} & -1 & a_{0} c_{1} + d_{0} + 1 & a_{0} c_{1} + a_{0} + d_{0}\\\\0 & 0 & 1 & 0 & 0 & -1 & -1\\end{matrix}\\right]$"
      ],
      "text/plain": [
       "Matrix([\n",
       "[1, 0, 0, -1,  0,            -c1,         -c1 - 1],\n",
       "[0, 1, 0, a0, -1, a0*c1 + d0 + 1, a0*c1 + a0 + d0],\n",
       "[0, 0, 1,  0,  0,             -1,              -1]])"
      ]
     },
     "metadata": {},
     "output_type": "display_data"
    },
    {
     "data": {
      "text/latex": [
       "$\\displaystyle \\left[\\begin{matrix}1 & 0 & 0 & -1 & 0 & c_{0} & c_{0} - 1\\\\0 & 1 & 0 & a_{1} & -1 & c_{1} & a_{1} + c_{1} - 1\\\\0 & 0 & 1 & 0 & 0 & -1 & -1\\end{matrix}\\right]$"
      ],
      "text/plain": [
       "Matrix([\n",
       "[1, 0, 0, -1,  0, c0,      c0 - 1],\n",
       "[0, 1, 0, a1, -1, c1, a1 + c1 - 1],\n",
       "[0, 0, 1,  0,  0, -1,          -1]])"
      ]
     },
     "metadata": {},
     "output_type": "display_data"
    }
   ],
   "source": [
    "i=8\n",
    "display(fans[i].rref()[0])\n",
    "fans[i]=fans[i].rref()[0].subs(a0, a1).subs(c1, -c0).subs(d0, a1*c0-1+c1)\n",
    "display(fans[i])"
   ]
  },
  {
   "cell_type": "code",
   "execution_count": 299,
   "id": "470a3a44-0562-4b7c-b491-a5899a1435c4",
   "metadata": {},
   "outputs": [
    {
     "data": {
      "text/latex": [
       "$\\displaystyle \\left[\\begin{matrix}1 & 0 & 0 & -1 & 0 & 0 & -1\\\\0 & 1 & 0 & a_{0} & -1 & d_{0} + 1 & a_{0} + d_{0}\\\\0 & 0 & 1 & a_{2} & 0 & -1 & a_{2} - 1\\end{matrix}\\right]$"
      ],
      "text/plain": [
       "Matrix([\n",
       "[1, 0, 0, -1,  0,      0,      -1],\n",
       "[0, 1, 0, a0, -1, d0 + 1, a0 + d0],\n",
       "[0, 0, 1, a2,  0,     -1,  a2 - 1]])"
      ]
     },
     "metadata": {},
     "output_type": "display_data"
    },
    {
     "data": {
      "text/latex": [
       "$\\displaystyle \\left[\\begin{matrix}1 & 0 & 0 & -1 & 0 & 0 & -1\\\\0 & 1 & 0 & a_{1} & -1 & c_{1} & a_{1} + c_{1} - 1\\\\0 & 0 & 1 & a_{2} & 0 & -1 & a_{2} - 1\\end{matrix}\\right]$"
      ],
      "text/plain": [
       "Matrix([\n",
       "[1, 0, 0, -1,  0,  0,          -1],\n",
       "[0, 1, 0, a1, -1, c1, a1 + c1 - 1],\n",
       "[0, 0, 1, a2,  0, -1,      a2 - 1]])"
      ]
     },
     "metadata": {},
     "output_type": "display_data"
    }
   ],
   "source": [
    "i=9\n",
    "display(fans[i].rref()[0])\n",
    "fans[i]=fans[i].rref()[0].subs(a0, a1).subs(d0, c1-1)\n",
    "display(fans[i])"
   ]
  },
  {
   "cell_type": "code",
   "execution_count": 301,
   "id": "89659f96-7a84-4ff4-8a0a-5d989f1bf8dd",
   "metadata": {},
   "outputs": [
    {
     "data": {
      "text/latex": [
       "$\\displaystyle \\left[\\begin{matrix}1 & 0 & 0 & -1 & 0 & 1 & 0\\\\0 & 1 & 0 & 1 & -1 & 0 & 0\\\\0 & 0 & 1 & 0 & b_{2} & -1 & -1\\end{matrix}\\right]$"
      ],
      "text/plain": [
       "Matrix([\n",
       "[1, 0, 0, -1,  0,  1,  0],\n",
       "[0, 1, 0,  1, -1,  0,  0],\n",
       "[0, 0, 1,  0, b2, -1, -1]])"
      ]
     },
     "metadata": {},
     "output_type": "display_data"
    },
    {
     "data": {
      "text/latex": [
       "$\\displaystyle \\left[\\begin{matrix}1 & 0 & 0 & -1 & 0 & 1 & 0\\\\0 & 1 & 0 & 1 & -1 & 0 & 0\\\\0 & 0 & 1 & 0 & b_{2} & -1 & -1\\end{matrix}\\right]$"
      ],
      "text/plain": [
       "Matrix([\n",
       "[1, 0, 0, -1,  0,  1,  0],\n",
       "[0, 1, 0,  1, -1,  0,  0],\n",
       "[0, 0, 1,  0, b2, -1, -1]])"
      ]
     },
     "metadata": {},
     "output_type": "display_data"
    }
   ],
   "source": [
    "i=10\n",
    "display(fans[i].rref()[0])\n",
    "fans[i]=fans[i].rref()[0]\n",
    "display(fans[i])"
   ]
  },
  {
   "cell_type": "code",
   "execution_count": 303,
   "id": "e7948ee6-2b2d-4924-bcc7-eb20810d6f56",
   "metadata": {},
   "outputs": [
    {
     "data": {
      "text/latex": [
       "$\\displaystyle \\left[\\begin{matrix}1 & 0 & 0 & -1 & 0 & -1 & -1\\\\0 & 1 & 0 & -1 & -1 & 0 & -1\\\\0 & 0 & 1 & 0 & -1 & -1 & -1\\end{matrix}\\right]$"
      ],
      "text/plain": [
       "Matrix([\n",
       "[1, 0, 0, -1,  0, -1, -1],\n",
       "[0, 1, 0, -1, -1,  0, -1],\n",
       "[0, 0, 1,  0, -1, -1, -1]])"
      ]
     },
     "metadata": {},
     "output_type": "display_data"
    },
    {
     "data": {
      "text/latex": [
       "$\\displaystyle \\left[\\begin{matrix}1 & 0 & 0 & -1 & 0 & -1 & -1\\\\0 & 1 & 0 & -1 & -1 & 0 & -1\\\\0 & 0 & 1 & 0 & -1 & -1 & -1\\end{matrix}\\right]$"
      ],
      "text/plain": [
       "Matrix([\n",
       "[1, 0, 0, -1,  0, -1, -1],\n",
       "[0, 1, 0, -1, -1,  0, -1],\n",
       "[0, 0, 1,  0, -1, -1, -1]])"
      ]
     },
     "metadata": {},
     "output_type": "display_data"
    }
   ],
   "source": [
    "i=11\n",
    "display(fans[i].rref()[0])\n",
    "fans[i]=fans[i].rref()[0]\n",
    "display(fans[i])"
   ]
  },
  {
   "cell_type": "code",
   "execution_count": 305,
   "id": "454185db-9500-4811-8333-42a8d7562f53",
   "metadata": {},
   "outputs": [
    {
     "data": {
      "text/latex": [
       "$\\displaystyle \\left[\\begin{matrix}1 & 0 & 0 & -1 & - b_{1} & 0 & -1\\\\0 & 1 & 0 & 0 & -1 & 1 & 0\\\\0 & 0 & 1 & 1 & 0 & -1 & 0\\end{matrix}\\right]$"
      ],
      "text/plain": [
       "Matrix([\n",
       "[1, 0, 0, -1, -b1,  0, -1],\n",
       "[0, 1, 0,  0,  -1,  1,  0],\n",
       "[0, 0, 1,  1,   0, -1,  0]])"
      ]
     },
     "metadata": {},
     "output_type": "display_data"
    },
    {
     "data": {
      "text/latex": [
       "$\\displaystyle \\left[\\begin{matrix}1 & 0 & 0 & -1 & b_{0} & 0 & -1\\\\0 & 1 & 0 & 0 & -1 & 1 & 0\\\\0 & 0 & 1 & 1 & 0 & -1 & 0\\end{matrix}\\right]$"
      ],
      "text/plain": [
       "Matrix([\n",
       "[1, 0, 0, -1, b0,  0, -1],\n",
       "[0, 1, 0,  0, -1,  1,  0],\n",
       "[0, 0, 1,  1,  0, -1,  0]])"
      ]
     },
     "metadata": {},
     "output_type": "display_data"
    }
   ],
   "source": [
    "i=12\n",
    "display(fans[i].rref()[0])\n",
    "fans[i]=fans[i].rref()[0].subs(b1, -b0)\n",
    "display(fans[i])"
   ]
  },
  {
   "cell_type": "code",
   "execution_count": 307,
   "id": "f2bed6d7-2f2e-453c-b2b4-11838c112282",
   "metadata": {},
   "outputs": [
    {
     "data": {
      "text/latex": [
       "$\\displaystyle \\left[\\begin{matrix}1 & 0 & 0 & -1 & 1 & 0 & 0\\\\0 & 1 & 0 & 0 & -1 & 1 & 0\\\\0 & 0 & 1 & a_{2} & 0 & -1 & -1\\end{matrix}\\right]$"
      ],
      "text/plain": [
       "Matrix([\n",
       "[1, 0, 0, -1,  1,  0,  0],\n",
       "[0, 1, 0,  0, -1,  1,  0],\n",
       "[0, 0, 1, a2,  0, -1, -1]])"
      ]
     },
     "metadata": {},
     "output_type": "display_data"
    },
    {
     "data": {
      "text/latex": [
       "$\\displaystyle \\left[\\begin{matrix}1 & 0 & 0 & -1 & 1 & 0 & 0\\\\0 & 1 & 0 & 0 & -1 & 1 & 0\\\\0 & 0 & 1 & a_{2} & 0 & -1 & -1\\end{matrix}\\right]$"
      ],
      "text/plain": [
       "Matrix([\n",
       "[1, 0, 0, -1,  1,  0,  0],\n",
       "[0, 1, 0,  0, -1,  1,  0],\n",
       "[0, 0, 1, a2,  0, -1, -1]])"
      ]
     },
     "metadata": {},
     "output_type": "display_data"
    }
   ],
   "source": [
    "i=13\n",
    "display(fans[i].rref()[0])\n",
    "fans[i]=fans[i].rref()[0]\n",
    "display(fans[i])"
   ]
  },
  {
   "cell_type": "code",
   "execution_count": 309,
   "id": "ae0459a0-6034-494e-b20e-98cea59e72ff",
   "metadata": {},
   "outputs": [
    {
     "data": {
      "text/latex": [
       "$\\displaystyle \\left[\\begin{matrix}1 & 0 & 0 & -1 & 1 & 0 & - d_{1}\\\\0 & 1 & 0 & 0 & -1 & 1 & - d_{2} - 1\\\\0 & 0 & 1 & 1 & 0 & -1 & d_{1} + d_{2}\\end{matrix}\\right]$"
      ],
      "text/plain": [
       "Matrix([\n",
       "[1, 0, 0, -1,  1,  0,     -d1],\n",
       "[0, 1, 0,  0, -1,  1, -d2 - 1],\n",
       "[0, 0, 1,  1,  0, -1, d1 + d2]])"
      ]
     },
     "metadata": {},
     "output_type": "display_data"
    },
    {
     "data": {
      "text/latex": [
       "$\\displaystyle \\left[\\begin{matrix}1 & 0 & 0 & -1 & 1 & 0 & d_{0}\\\\0 & 1 & 0 & 0 & -1 & 1 & d_{1}\\\\0 & 0 & 1 & 1 & 0 & -1 & - d_{0} - d_{1} - 1\\end{matrix}\\right]$"
      ],
      "text/plain": [
       "Matrix([\n",
       "[1, 0, 0, -1,  1,  0,           d0],\n",
       "[0, 1, 0,  0, -1,  1,           d1],\n",
       "[0, 0, 1,  1,  0, -1, -d0 - d1 - 1]])"
      ]
     },
     "metadata": {},
     "output_type": "display_data"
    }
   ],
   "source": [
    "i=14\n",
    "display(fans[i].rref()[0])\n",
    "fans[i]=fans[i].rref()[0].subs(d1, -d0).subs(d2, -d1-1)\n",
    "display(fans[i])"
   ]
  },
  {
   "cell_type": "code",
   "execution_count": 311,
   "id": "d014819d-891d-4a31-89d0-0789a7e578b3",
   "metadata": {},
   "outputs": [
    {
     "data": {
      "text/latex": [
       "$\\displaystyle \\left[\\begin{matrix}1 & 0 & 0 & -1 & 0 & 1 & - d_{1}\\\\0 & 1 & 0 & 1 & -1 & 0 & d_{1} - d_{2} - 1\\\\0 & 0 & 1 & 0 & 1 & -1 & d_{2}\\end{matrix}\\right]$"
      ],
      "text/plain": [
       "Matrix([\n",
       "[1, 0, 0, -1,  0,  1,         -d1],\n",
       "[0, 1, 0,  1, -1,  0, d1 - d2 - 1],\n",
       "[0, 0, 1,  0,  1, -1,          d2]])"
      ]
     },
     "metadata": {},
     "output_type": "display_data"
    },
    {
     "data": {
      "text/latex": [
       "$\\displaystyle \\left[\\begin{matrix}1 & 0 & 0 & -1 & 0 & 1 & d_{0}\\\\0 & 1 & 0 & 1 & -1 & 0 & d_{1}\\\\0 & 0 & 1 & 0 & 1 & -1 & - d_{0} - d_{1} - 1\\end{matrix}\\right]$"
      ],
      "text/plain": [
       "Matrix([\n",
       "[1, 0, 0, -1,  0,  1,           d0],\n",
       "[0, 1, 0,  1, -1,  0,           d1],\n",
       "[0, 0, 1,  0,  1, -1, -d0 - d1 - 1]])"
      ]
     },
     "metadata": {},
     "output_type": "display_data"
    }
   ],
   "source": [
    "i=15\n",
    "display(fans[i].rref()[0])\n",
    "fans[i]=fans[i].rref()[0].subs(d1, -d0).subs(d2, -d0-d1-1)\n",
    "display(fans[i])"
   ]
  },
  {
   "cell_type": "markdown",
   "id": "6a7bc355-503a-403d-aec7-16248e81cb27",
   "metadata": {
    "jp-MarkdownHeadingCollapsed": true
   },
   "source": [
    "## list"
   ]
  },
  {
   "cell_type": "code",
   "execution_count": 312,
   "id": "a39998b3-422f-498e-bb9a-2efe3f053736",
   "metadata": {},
   "outputs": [
    {
     "data": {
      "text/latex": [
       "$\\displaystyle \\left[\\begin{matrix}1 & 0 & 0 & -1 & 1 & 0 & 0\\\\0 & 1 & 0 & 0 & -1 & c_{1} & -1\\\\0 & 0 & 1 & 1 & 0 & -1 & 0\\end{matrix}\\right]$"
      ],
      "text/plain": [
       "Matrix([\n",
       "[1, 0, 0, -1,  1,  0,  0],\n",
       "[0, 1, 0,  0, -1, c1, -1],\n",
       "[0, 0, 1,  1,  0, -1,  0]])"
      ]
     },
     "metadata": {},
     "output_type": "display_data"
    },
    {
     "data": {
      "text/latex": [
       "$\\displaystyle \\left[\\begin{matrix}1 & 0 & 0 & -1 & -1 & 0 & -1\\\\0 & 1 & 0 & 0 & -1 & -1 & -1\\\\0 & 0 & 1 & -1 & 0 & -1 & -1\\end{matrix}\\right]$"
      ],
      "text/plain": [
       "Matrix([\n",
       "[1, 0, 0, -1, -1,  0, -1],\n",
       "[0, 1, 0,  0, -1, -1, -1],\n",
       "[0, 0, 1, -1,  0, -1, -1]])"
      ]
     },
     "metadata": {},
     "output_type": "display_data"
    },
    {
     "data": {
      "text/latex": [
       "$\\displaystyle \\left[\\begin{matrix}1 & 0 & 0 & -1 & 0 & c_{0} & -1\\\\0 & 1 & 0 & 1 & -1 & 0 & 0\\\\0 & 0 & 1 & 0 & 1 & -1 & 0\\end{matrix}\\right]$"
      ],
      "text/plain": [
       "Matrix([\n",
       "[1, 0, 0, -1,  0, c0, -1],\n",
       "[0, 1, 0,  1, -1,  0,  0],\n",
       "[0, 0, 1,  0,  1, -1,  0]])"
      ]
     },
     "metadata": {},
     "output_type": "display_data"
    },
    {
     "data": {
      "text/latex": [
       "$\\displaystyle \\left[\\begin{matrix}1 & 0 & 0 & -1 & 0 & 1 & 0\\\\0 & 1 & 0 & a_{1} & -1 & 0 & -1\\\\0 & 0 & 1 & 0 & 1 & -1 & 0\\end{matrix}\\right]$"
      ],
      "text/plain": [
       "Matrix([\n",
       "[1, 0, 0, -1,  0,  1,  0],\n",
       "[0, 1, 0, a1, -1,  0, -1],\n",
       "[0, 0, 1,  0,  1, -1,  0]])"
      ]
     },
     "metadata": {},
     "output_type": "display_data"
    },
    {
     "data": {
      "text/latex": [
       "$\\displaystyle \\left[\\begin{matrix}1 & 0 & 0 & -1 & b_{0} & 0 & b_{0} - 1\\\\0 & 1 & 0 & 0 & -1 & 0 & -1\\\\0 & 0 & 1 & a_{2} & b_{2} & -1 & a_{2} + b_{2} - 1\\end{matrix}\\right]$"
      ],
      "text/plain": [
       "Matrix([\n",
       "[1, 0, 0, -1, b0,  0,      b0 - 1],\n",
       "[0, 1, 0,  0, -1,  0,          -1],\n",
       "[0, 0, 1, a2, b2, -1, a2 + b2 - 1]])"
      ]
     },
     "metadata": {},
     "output_type": "display_data"
    },
    {
     "data": {
      "text/latex": [
       "$\\displaystyle \\left[\\begin{matrix}1 & 0 & 0 & -1 & 0 & 0 & -1\\\\0 & 1 & 0 & a_{1} & -1 & 0 & a_{1} - 1\\\\0 & 0 & 1 & a_{2} & b_{2} & -1 & a_{2} + b_{2} - 1\\end{matrix}\\right]$"
      ],
      "text/plain": [
       "Matrix([\n",
       "[1, 0, 0, -1,  0,  0,          -1],\n",
       "[0, 1, 0, a1, -1,  0,      a1 - 1],\n",
       "[0, 0, 1, a2, b2, -1, a2 + b2 - 1]])"
      ]
     },
     "metadata": {},
     "output_type": "display_data"
    },
    {
     "data": {
      "text/latex": [
       "$\\displaystyle \\left[\\begin{matrix}1 & 0 & 0 & -1 & b_{0} & c_{0} & b_{0} + c_{0} - 1\\\\0 & 1 & 0 & 0 & -1 & 0 & -1\\\\0 & 0 & 1 & 0 & b_{2} & -1 & b_{2} - 1\\end{matrix}\\right]$"
      ],
      "text/plain": [
       "Matrix([\n",
       "[1, 0, 0, -1, b0, c0, b0 + c0 - 1],\n",
       "[0, 1, 0,  0, -1,  0,          -1],\n",
       "[0, 0, 1,  0, b2, -1,      b2 - 1]])"
      ]
     },
     "metadata": {},
     "output_type": "display_data"
    },
    {
     "data": {
      "text/latex": [
       "$\\displaystyle \\left[\\begin{matrix}1 & 0 & 0 & -1 & b_{0} & c_{0} & b_{0} + c_{0} - 1\\\\0 & 1 & 0 & 0 & -1 & c_{1} & c_{1} - 1\\\\0 & 0 & 1 & 0 & 0 & -1 & -1\\end{matrix}\\right]$"
      ],
      "text/plain": [
       "Matrix([\n",
       "[1, 0, 0, -1, b0, c0, b0 + c0 - 1],\n",
       "[0, 1, 0,  0, -1, c1,      c1 - 1],\n",
       "[0, 0, 1,  0,  0, -1,          -1]])"
      ]
     },
     "metadata": {},
     "output_type": "display_data"
    },
    {
     "data": {
      "text/latex": [
       "$\\displaystyle \\left[\\begin{matrix}1 & 0 & 0 & -1 & 0 & c_{0} & c_{0} - 1\\\\0 & 1 & 0 & a_{1} & -1 & c_{1} & a_{1} + c_{1} - 1\\\\0 & 0 & 1 & 0 & 0 & -1 & -1\\end{matrix}\\right]$"
      ],
      "text/plain": [
       "Matrix([\n",
       "[1, 0, 0, -1,  0, c0,      c0 - 1],\n",
       "[0, 1, 0, a1, -1, c1, a1 + c1 - 1],\n",
       "[0, 0, 1,  0,  0, -1,          -1]])"
      ]
     },
     "metadata": {},
     "output_type": "display_data"
    },
    {
     "data": {
      "text/latex": [
       "$\\displaystyle \\left[\\begin{matrix}1 & 0 & 0 & -1 & 0 & 0 & -1\\\\0 & 1 & 0 & a_{1} & -1 & c_{1} & a_{1} + c_{1} - 1\\\\0 & 0 & 1 & a_{2} & 0 & -1 & a_{2} - 1\\end{matrix}\\right]$"
      ],
      "text/plain": [
       "Matrix([\n",
       "[1, 0, 0, -1,  0,  0,          -1],\n",
       "[0, 1, 0, a1, -1, c1, a1 + c1 - 1],\n",
       "[0, 0, 1, a2,  0, -1,      a2 - 1]])"
      ]
     },
     "metadata": {},
     "output_type": "display_data"
    },
    {
     "data": {
      "text/latex": [
       "$\\displaystyle \\left[\\begin{matrix}1 & 0 & 0 & -1 & 0 & 1 & 0\\\\0 & 1 & 0 & 1 & -1 & 0 & 0\\\\0 & 0 & 1 & 0 & b_{2} & -1 & -1\\end{matrix}\\right]$"
      ],
      "text/plain": [
       "Matrix([\n",
       "[1, 0, 0, -1,  0,  1,  0],\n",
       "[0, 1, 0,  1, -1,  0,  0],\n",
       "[0, 0, 1,  0, b2, -1, -1]])"
      ]
     },
     "metadata": {},
     "output_type": "display_data"
    },
    {
     "data": {
      "text/latex": [
       "$\\displaystyle \\left[\\begin{matrix}1 & 0 & 0 & -1 & 0 & -1 & -1\\\\0 & 1 & 0 & -1 & -1 & 0 & -1\\\\0 & 0 & 1 & 0 & -1 & -1 & -1\\end{matrix}\\right]$"
      ],
      "text/plain": [
       "Matrix([\n",
       "[1, 0, 0, -1,  0, -1, -1],\n",
       "[0, 1, 0, -1, -1,  0, -1],\n",
       "[0, 0, 1,  0, -1, -1, -1]])"
      ]
     },
     "metadata": {},
     "output_type": "display_data"
    },
    {
     "data": {
      "text/latex": [
       "$\\displaystyle \\left[\\begin{matrix}1 & 0 & 0 & -1 & b_{0} & 0 & -1\\\\0 & 1 & 0 & 0 & -1 & 1 & 0\\\\0 & 0 & 1 & 1 & 0 & -1 & 0\\end{matrix}\\right]$"
      ],
      "text/plain": [
       "Matrix([\n",
       "[1, 0, 0, -1, b0,  0, -1],\n",
       "[0, 1, 0,  0, -1,  1,  0],\n",
       "[0, 0, 1,  1,  0, -1,  0]])"
      ]
     },
     "metadata": {},
     "output_type": "display_data"
    },
    {
     "data": {
      "text/latex": [
       "$\\displaystyle \\left[\\begin{matrix}1 & 0 & 0 & -1 & 1 & 0 & 0\\\\0 & 1 & 0 & 0 & -1 & 1 & 0\\\\0 & 0 & 1 & a_{2} & 0 & -1 & -1\\end{matrix}\\right]$"
      ],
      "text/plain": [
       "Matrix([\n",
       "[1, 0, 0, -1,  1,  0,  0],\n",
       "[0, 1, 0,  0, -1,  1,  0],\n",
       "[0, 0, 1, a2,  0, -1, -1]])"
      ]
     },
     "metadata": {},
     "output_type": "display_data"
    },
    {
     "data": {
      "text/latex": [
       "$\\displaystyle \\left[\\begin{matrix}1 & 0 & 0 & -1 & 1 & 0 & d_{0}\\\\0 & 1 & 0 & 0 & -1 & 1 & d_{1}\\\\0 & 0 & 1 & 1 & 0 & -1 & - d_{0} - d_{1} - 1\\end{matrix}\\right]$"
      ],
      "text/plain": [
       "Matrix([\n",
       "[1, 0, 0, -1,  1,  0,           d0],\n",
       "[0, 1, 0,  0, -1,  1,           d1],\n",
       "[0, 0, 1,  1,  0, -1, -d0 - d1 - 1]])"
      ]
     },
     "metadata": {},
     "output_type": "display_data"
    },
    {
     "data": {
      "text/latex": [
       "$\\displaystyle \\left[\\begin{matrix}1 & 0 & 0 & -1 & 0 & 1 & d_{0}\\\\0 & 1 & 0 & 1 & -1 & 0 & d_{1}\\\\0 & 0 & 1 & 0 & 1 & -1 & - d_{0} - d_{1} - 1\\end{matrix}\\right]$"
      ],
      "text/plain": [
       "Matrix([\n",
       "[1, 0, 0, -1,  0,  1,           d0],\n",
       "[0, 1, 0,  1, -1,  0,           d1],\n",
       "[0, 0, 1,  0,  1, -1, -d0 - d1 - 1]])"
      ]
     },
     "metadata": {},
     "output_type": "display_data"
    }
   ],
   "source": [
    "for f in fans:\n",
    "    display(f)"
   ]
  },
  {
   "cell_type": "markdown",
   "id": "beccb45b-d9a1-4b08-be45-167ed6f3adbb",
   "metadata": {
    "jp-MarkdownHeadingCollapsed": true
   },
   "source": [
    "# Connections between types"
   ]
  },
  {
   "cell_type": "markdown",
   "id": "68d1c74d-5805-4e90-b118-4af83921a538",
   "metadata": {
    "jp-MarkdownHeadingCollapsed": true
   },
   "source": [
    "## fan 0"
   ]
  },
  {
   "cell_type": "markdown",
   "id": "a6cc025e-d277-4cb5-82a0-08b1b58e2803",
   "metadata": {
    "jp-MarkdownHeadingCollapsed": true
   },
   "source": [
    "### fan 4 ($a_2=1$, $b_0=1$, $b_2=0$, $c_1=0$)"
   ]
  },
  {
   "cell_type": "code",
   "execution_count": 407,
   "id": "c786d947-7233-48b2-aa23-7182e5774cda",
   "metadata": {},
   "outputs": [
    {
     "data": {
      "text/latex": [
       "$\\displaystyle \\left[\\begin{matrix}1 & 0 & 0 & -1 & 1 & 0 & 0\\\\0 & 1 & 0 & 0 & -1 & c_{1} & -1\\\\0 & 0 & 1 & 1 & 0 & -1 & 0\\end{matrix}\\right] = \\left[\\begin{matrix}1 & 0 & 0 & -1 & b_{0} & 0 & b_{0} - 1\\\\0 & 1 & 0 & 0 & -1 & 0 & -1\\\\0 & 0 & 1 & a_{2} & b_{2} & -1 & a_{2} + b_{2} - 1\\end{matrix}\\right]$"
      ],
      "text/plain": [
       "Eq(Matrix([\n",
       "[1, 0, 0, -1,  1,  0,  0],\n",
       "[0, 1, 0,  0, -1, c1, -1],\n",
       "[0, 0, 1,  1,  0, -1,  0]]), Matrix([\n",
       "[1, 0, 0, -1, b0,  0,      b0 - 1],\n",
       "[0, 1, 0,  0, -1,  0,          -1],\n",
       "[0, 0, 1, a2, b2, -1, a2 + b2 - 1]]))"
      ]
     },
     "metadata": {},
     "output_type": "display_data"
    },
    {
     "data": {
      "text/latex": [
       "$\\displaystyle \\text{True}$"
      ],
      "text/plain": [
       "True"
      ]
     },
     "execution_count": 407,
     "metadata": {},
     "output_type": "execute_result"
    }
   ],
   "source": [
    "display(sp.Eq(fans[0], fans[4], evaluate=False))\n",
    "sp.Eq(fans[0].subs(c1,0), fans[4].subs(a2,1).subs(b0,1).subs(b2,0))"
   ]
  },
  {
   "cell_type": "markdown",
   "id": "335787be-ac76-441b-ac98-60f9bdd03801",
   "metadata": {
    "jp-MarkdownHeadingCollapsed": true
   },
   "source": [
    "### fan 14 ($c_1=1$, $d_0=0$, $d_1=-1$)"
   ]
  },
  {
   "cell_type": "code",
   "execution_count": 410,
   "id": "2f8d7c76-7cc2-4241-9c88-b1a35107f5e5",
   "metadata": {},
   "outputs": [
    {
     "data": {
      "text/latex": [
       "$\\displaystyle \\left[\\begin{matrix}1 & 0 & 0 & -1 & 1 & 0 & 0\\\\0 & 1 & 0 & 0 & -1 & c_{1} & -1\\\\0 & 0 & 1 & 1 & 0 & -1 & 0\\end{matrix}\\right] = \\left[\\begin{matrix}1 & 0 & 0 & -1 & 1 & 0 & d_{0}\\\\0 & 1 & 0 & 0 & -1 & 1 & d_{1}\\\\0 & 0 & 1 & 1 & 0 & -1 & - d_{0} - d_{1} - 1\\end{matrix}\\right]$"
      ],
      "text/plain": [
       "Eq(Matrix([\n",
       "[1, 0, 0, -1,  1,  0,  0],\n",
       "[0, 1, 0,  0, -1, c1, -1],\n",
       "[0, 0, 1,  1,  0, -1,  0]]), Matrix([\n",
       "[1, 0, 0, -1,  1,  0,           d0],\n",
       "[0, 1, 0,  0, -1,  1,           d1],\n",
       "[0, 0, 1,  1,  0, -1, -d0 - d1 - 1]]))"
      ]
     },
     "metadata": {},
     "output_type": "display_data"
    },
    {
     "data": {
      "text/latex": [
       "$\\displaystyle \\text{True}$"
      ],
      "text/plain": [
       "True"
      ]
     },
     "execution_count": 410,
     "metadata": {},
     "output_type": "execute_result"
    }
   ],
   "source": [
    "display(sp.Eq(fans[0], fans[14], evaluate=False))\n",
    "sp.Eq(fans[0].subs(c1,1), fans[14].subs(d0,0).subs(d1,-1))"
   ]
  },
  {
   "cell_type": "markdown",
   "id": "cb64f98c-ae76-43b5-8fd9-d897e1d04861",
   "metadata": {},
   "source": [
    "## fan 1"
   ]
  },
  {
   "cell_type": "markdown",
   "id": "d918f257-9291-4813-8a32-18c53c6c8b3d",
   "metadata": {
    "jp-MarkdownHeadingCollapsed": true
   },
   "source": [
    "## fan 2"
   ]
  },
  {
   "cell_type": "markdown",
   "id": "cc50b84c-4ab6-4f9a-ba86-af1857181cfc",
   "metadata": {
    "jp-MarkdownHeadingCollapsed": true
   },
   "source": [
    "### fan 5 ($a_1=1$, $a_2=0$, $b_2=1$, $c_0=0$)"
   ]
  },
  {
   "cell_type": "code",
   "execution_count": 442,
   "id": "b8f09bbd-70b4-4c44-a193-8b4a74e8cd4a",
   "metadata": {},
   "outputs": [
    {
     "data": {
      "text/latex": [
       "$\\displaystyle \\left[\\begin{matrix}1 & 0 & 0 & -1 & 0 & c_{0} & -1\\\\0 & 1 & 0 & 1 & -1 & 0 & 0\\\\0 & 0 & 1 & 0 & 1 & -1 & 0\\end{matrix}\\right] = \\left[\\begin{matrix}1 & 0 & 0 & -1 & 0 & 0 & -1\\\\0 & 1 & 0 & a_{1} & -1 & 0 & a_{1} - 1\\\\0 & 0 & 1 & a_{2} & b_{2} & -1 & a_{2} + b_{2} - 1\\end{matrix}\\right]$"
      ],
      "text/plain": [
       "Eq(Matrix([\n",
       "[1, 0, 0, -1,  0, c0, -1],\n",
       "[0, 1, 0,  1, -1,  0,  0],\n",
       "[0, 0, 1,  0,  1, -1,  0]]), Matrix([\n",
       "[1, 0, 0, -1,  0,  0,          -1],\n",
       "[0, 1, 0, a1, -1,  0,      a1 - 1],\n",
       "[0, 0, 1, a2, b2, -1, a2 + b2 - 1]]))"
      ]
     },
     "metadata": {},
     "output_type": "display_data"
    },
    {
     "data": {
      "text/latex": [
       "$\\displaystyle \\text{True}$"
      ],
      "text/plain": [
       "True"
      ]
     },
     "execution_count": 442,
     "metadata": {},
     "output_type": "execute_result"
    }
   ],
   "source": [
    "display(sp.Eq(fans[2], fans[5], evaluate=False))\n",
    "sp.Eq(fans[2].subs(c0,0), fans[5].subs(a1,1).subs(a2,0).subs(b2,1))"
   ]
  },
  {
   "cell_type": "markdown",
   "id": "0778ac88-0f80-4592-9dc0-1ebbfa93b03a",
   "metadata": {
    "jp-MarkdownHeadingCollapsed": true
   },
   "source": [
    "### fan 15 ($c_0=1$, $d_0=-1$, $d_1=0$)"
   ]
  },
  {
   "cell_type": "code",
   "execution_count": 444,
   "id": "4ea1561e-a0b1-418f-9188-2b0c428eafd4",
   "metadata": {},
   "outputs": [
    {
     "data": {
      "text/latex": [
       "$\\displaystyle \\left[\\begin{matrix}1 & 0 & 0 & -1 & 0 & c_{0} & -1\\\\0 & 1 & 0 & 1 & -1 & 0 & 0\\\\0 & 0 & 1 & 0 & 1 & -1 & 0\\end{matrix}\\right] = \\left[\\begin{matrix}1 & 0 & 0 & -1 & 0 & 1 & d_{0}\\\\0 & 1 & 0 & 1 & -1 & 0 & d_{1}\\\\0 & 0 & 1 & 0 & 1 & -1 & - d_{0} - d_{1} - 1\\end{matrix}\\right]$"
      ],
      "text/plain": [
       "Eq(Matrix([\n",
       "[1, 0, 0, -1,  0, c0, -1],\n",
       "[0, 1, 0,  1, -1,  0,  0],\n",
       "[0, 0, 1,  0,  1, -1,  0]]), Matrix([\n",
       "[1, 0, 0, -1,  0,  1,           d0],\n",
       "[0, 1, 0,  1, -1,  0,           d1],\n",
       "[0, 0, 1,  0,  1, -1, -d0 - d1 - 1]]))"
      ]
     },
     "metadata": {},
     "output_type": "display_data"
    },
    {
     "data": {
      "text/latex": [
       "$\\displaystyle \\text{True}$"
      ],
      "text/plain": [
       "True"
      ]
     },
     "execution_count": 444,
     "metadata": {},
     "output_type": "execute_result"
    }
   ],
   "source": [
    "display(sp.Eq(fans[2], fans[15], evaluate=False))\n",
    "sp.Eq(fans[2].subs(c0,1), fans[15].subs(d0,-1).subs(d1,0))"
   ]
  },
  {
   "cell_type": "markdown",
   "id": "81dea6ec-1e67-487c-b557-5c358734aea7",
   "metadata": {
    "jp-MarkdownHeadingCollapsed": true
   },
   "source": [
    "## fan 3"
   ]
  },
  {
   "cell_type": "markdown",
   "id": "b70732a6-df39-4113-8a8e-8bb5072258c9",
   "metadata": {
    "jp-MarkdownHeadingCollapsed": true
   },
   "source": [
    "### fan 6 ($a_1=0$, $b_0=0$, $b_2=1$, $c_0=1$)"
   ]
  },
  {
   "cell_type": "code",
   "execution_count": 459,
   "id": "d3c1f12c-b19c-4909-be02-768310b6f49d",
   "metadata": {},
   "outputs": [
    {
     "data": {
      "text/latex": [
       "$\\displaystyle \\left[\\begin{matrix}1 & 0 & 0 & -1 & 0 & 1 & 0\\\\0 & 1 & 0 & a_{1} & -1 & 0 & -1\\\\0 & 0 & 1 & 0 & 1 & -1 & 0\\end{matrix}\\right] = \\left[\\begin{matrix}1 & 0 & 0 & -1 & b_{0} & c_{0} & b_{0} + c_{0} - 1\\\\0 & 1 & 0 & 0 & -1 & 0 & -1\\\\0 & 0 & 1 & 0 & b_{2} & -1 & b_{2} - 1\\end{matrix}\\right]$"
      ],
      "text/plain": [
       "Eq(Matrix([\n",
       "[1, 0, 0, -1,  0,  1,  0],\n",
       "[0, 1, 0, a1, -1,  0, -1],\n",
       "[0, 0, 1,  0,  1, -1,  0]]), Matrix([\n",
       "[1, 0, 0, -1, b0, c0, b0 + c0 - 1],\n",
       "[0, 1, 0,  0, -1,  0,          -1],\n",
       "[0, 0, 1,  0, b2, -1,      b2 - 1]]))"
      ]
     },
     "metadata": {},
     "output_type": "display_data"
    },
    {
     "data": {
      "text/latex": [
       "$\\displaystyle \\text{True}$"
      ],
      "text/plain": [
       "True"
      ]
     },
     "execution_count": 459,
     "metadata": {},
     "output_type": "execute_result"
    }
   ],
   "source": [
    "i, j =3, 6\n",
    "display(sp.Eq(fans[i], fans[j], evaluate=False))\n",
    "sp.Eq(fans[i].subs(a1,0), fans[j].subs(b0,0).subs(c0,1).subs(b2,1))"
   ]
  },
  {
   "cell_type": "markdown",
   "id": "5da32af1-528b-4f15-a5da-e625e9048ffe",
   "metadata": {
    "jp-MarkdownHeadingCollapsed": true
   },
   "source": [
    "### fan 15 ($a_1=1$, $d_0=0$, $d_1=-1$)"
   ]
  },
  {
   "cell_type": "code",
   "execution_count": 461,
   "id": "3d297053-97dd-4931-9d90-fe7accd17f34",
   "metadata": {},
   "outputs": [
    {
     "data": {
      "text/latex": [
       "$\\displaystyle \\left[\\begin{matrix}1 & 0 & 0 & -1 & 0 & 1 & 0\\\\0 & 1 & 0 & a_{1} & -1 & 0 & -1\\\\0 & 0 & 1 & 0 & 1 & -1 & 0\\end{matrix}\\right] = \\left[\\begin{matrix}1 & 0 & 0 & -1 & 0 & 1 & d_{0}\\\\0 & 1 & 0 & 1 & -1 & 0 & d_{1}\\\\0 & 0 & 1 & 0 & 1 & -1 & - d_{0} - d_{1} - 1\\end{matrix}\\right]$"
      ],
      "text/plain": [
       "Eq(Matrix([\n",
       "[1, 0, 0, -1,  0,  1,  0],\n",
       "[0, 1, 0, a1, -1,  0, -1],\n",
       "[0, 0, 1,  0,  1, -1,  0]]), Matrix([\n",
       "[1, 0, 0, -1,  0,  1,           d0],\n",
       "[0, 1, 0,  1, -1,  0,           d1],\n",
       "[0, 0, 1,  0,  1, -1, -d0 - d1 - 1]]))"
      ]
     },
     "metadata": {},
     "output_type": "display_data"
    },
    {
     "data": {
      "text/latex": [
       "$\\displaystyle \\text{True}$"
      ],
      "text/plain": [
       "True"
      ]
     },
     "execution_count": 461,
     "metadata": {},
     "output_type": "execute_result"
    }
   ],
   "source": [
    "i, j =3, 15\n",
    "display(sp.Eq(fans[i], fans[j], evaluate=False))\n",
    "sp.Eq(fans[i].subs(a1,1), fans[j].subs(d0,0).subs(d1,-1))"
   ]
  },
  {
   "cell_type": "markdown",
   "id": "6add9237-ea75-4db1-bf55-3dd3e8f86b87",
   "metadata": {
    "jp-MarkdownHeadingCollapsed": true
   },
   "source": [
    "## fan 4"
   ]
  },
  {
   "cell_type": "markdown",
   "id": "3e40fdad-6abd-448f-9aaa-022795c75353",
   "metadata": {
    "jp-MarkdownHeadingCollapsed": true
   },
   "source": [
    "### fan 0 ($a_2=1$, $b_0=1$, $b_2=0$, $c_1=0$)"
   ]
  },
  {
   "cell_type": "code",
   "execution_count": 407,
   "id": "906c9ae2-1e0c-42bd-a321-bec2d829c46c",
   "metadata": {},
   "outputs": [
    {
     "data": {
      "text/latex": [
       "$\\displaystyle \\left[\\begin{matrix}1 & 0 & 0 & -1 & 1 & 0 & 0\\\\0 & 1 & 0 & 0 & -1 & c_{1} & -1\\\\0 & 0 & 1 & 1 & 0 & -1 & 0\\end{matrix}\\right] = \\left[\\begin{matrix}1 & 0 & 0 & -1 & b_{0} & 0 & b_{0} - 1\\\\0 & 1 & 0 & 0 & -1 & 0 & -1\\\\0 & 0 & 1 & a_{2} & b_{2} & -1 & a_{2} + b_{2} - 1\\end{matrix}\\right]$"
      ],
      "text/plain": [
       "Eq(Matrix([\n",
       "[1, 0, 0, -1,  1,  0,  0],\n",
       "[0, 1, 0,  0, -1, c1, -1],\n",
       "[0, 0, 1,  1,  0, -1,  0]]), Matrix([\n",
       "[1, 0, 0, -1, b0,  0,      b0 - 1],\n",
       "[0, 1, 0,  0, -1,  0,          -1],\n",
       "[0, 0, 1, a2, b2, -1, a2 + b2 - 1]]))"
      ]
     },
     "metadata": {},
     "output_type": "display_data"
    },
    {
     "data": {
      "text/latex": [
       "$\\displaystyle \\text{True}$"
      ],
      "text/plain": [
       "True"
      ]
     },
     "execution_count": 407,
     "metadata": {},
     "output_type": "execute_result"
    }
   ],
   "source": [
    "display(sp.Eq(fans[0], fans[4], evaluate=False))\n",
    "sp.Eq(fans[0].subs(c1,0), fans[4].subs(a2,1).subs(b0,1).subs(b2,0))"
   ]
  },
  {
   "cell_type": "markdown",
   "id": "34193ae5-c0ff-49ac-8266-5b93bbdaea50",
   "metadata": {
    "jp-MarkdownHeadingCollapsed": true
   },
   "source": [
    "### fan 5 ($a_1=0$, $b_0=0$)"
   ]
  },
  {
   "cell_type": "code",
   "execution_count": 471,
   "id": "8863b15f-7b41-489d-9cdb-6c5e2abb22be",
   "metadata": {},
   "outputs": [
    {
     "data": {
      "text/latex": [
       "$\\displaystyle \\left[\\begin{matrix}1 & 0 & 0 & -1 & b_{0} & 0 & b_{0} - 1\\\\0 & 1 & 0 & 0 & -1 & 0 & -1\\\\0 & 0 & 1 & a_{2} & b_{2} & -1 & a_{2} + b_{2} - 1\\end{matrix}\\right] = \\left[\\begin{matrix}1 & 0 & 0 & -1 & 0 & 0 & -1\\\\0 & 1 & 0 & a_{1} & -1 & 0 & a_{1} - 1\\\\0 & 0 & 1 & a_{2} & b_{2} & -1 & a_{2} + b_{2} - 1\\end{matrix}\\right]$"
      ],
      "text/plain": [
       "Eq(Matrix([\n",
       "[1, 0, 0, -1, b0,  0,      b0 - 1],\n",
       "[0, 1, 0,  0, -1,  0,          -1],\n",
       "[0, 0, 1, a2, b2, -1, a2 + b2 - 1]]), Matrix([\n",
       "[1, 0, 0, -1,  0,  0,          -1],\n",
       "[0, 1, 0, a1, -1,  0,      a1 - 1],\n",
       "[0, 0, 1, a2, b2, -1, a2 + b2 - 1]]))"
      ]
     },
     "metadata": {},
     "output_type": "display_data"
    },
    {
     "data": {
      "text/latex": [
       "$\\displaystyle \\text{True}$"
      ],
      "text/plain": [
       "True"
      ]
     },
     "execution_count": 471,
     "metadata": {},
     "output_type": "execute_result"
    }
   ],
   "source": [
    "i, j =4, 5\n",
    "display(sp.Eq(fans[i], fans[j], evaluate=False))\n",
    "sp.Eq(fans[i].subs(b0,0), fans[j].subs(a1,0))"
   ]
  },
  {
   "cell_type": "markdown",
   "id": "e357cc36-41a9-4900-94ee-598dec088691",
   "metadata": {
    "jp-MarkdownHeadingCollapsed": true
   },
   "source": [
    "### fan 6 ($a_2=0$, $c_0=0$)"
   ]
  },
  {
   "cell_type": "code",
   "execution_count": 473,
   "id": "809280fb-26cb-4cbc-9b69-7077b51c2a97",
   "metadata": {},
   "outputs": [
    {
     "data": {
      "text/latex": [
       "$\\displaystyle \\left[\\begin{matrix}1 & 0 & 0 & -1 & b_{0} & 0 & b_{0} - 1\\\\0 & 1 & 0 & 0 & -1 & 0 & -1\\\\0 & 0 & 1 & a_{2} & b_{2} & -1 & a_{2} + b_{2} - 1\\end{matrix}\\right] = \\left[\\begin{matrix}1 & 0 & 0 & -1 & b_{0} & c_{0} & b_{0} + c_{0} - 1\\\\0 & 1 & 0 & 0 & -1 & 0 & -1\\\\0 & 0 & 1 & 0 & b_{2} & -1 & b_{2} - 1\\end{matrix}\\right]$"
      ],
      "text/plain": [
       "Eq(Matrix([\n",
       "[1, 0, 0, -1, b0,  0,      b0 - 1],\n",
       "[0, 1, 0,  0, -1,  0,          -1],\n",
       "[0, 0, 1, a2, b2, -1, a2 + b2 - 1]]), Matrix([\n",
       "[1, 0, 0, -1, b0, c0, b0 + c0 - 1],\n",
       "[0, 1, 0,  0, -1,  0,          -1],\n",
       "[0, 0, 1,  0, b2, -1,      b2 - 1]]))"
      ]
     },
     "metadata": {},
     "output_type": "display_data"
    },
    {
     "data": {
      "text/latex": [
       "$\\displaystyle \\text{True}$"
      ],
      "text/plain": [
       "True"
      ]
     },
     "execution_count": 473,
     "metadata": {},
     "output_type": "execute_result"
    }
   ],
   "source": [
    "i, j =4, 6\n",
    "display(sp.Eq(fans[i], fans[j], evaluate=False))\n",
    "sp.Eq(fans[i].subs(a2,0), fans[j].subs(c0,0))"
   ]
  },
  {
   "cell_type": "markdown",
   "id": "49316feb-93ce-406f-8157-de35c8152620",
   "metadata": {
    "jp-MarkdownHeadingCollapsed": true
   },
   "source": [
    "### fan 7 ($a_2=0$, $b_2=0$, $c_0=0$, $c_1=0$)"
   ]
  },
  {
   "cell_type": "code",
   "execution_count": 475,
   "id": "40b8dbcd-59bf-464b-b6ff-3706b10b2963",
   "metadata": {},
   "outputs": [
    {
     "data": {
      "text/latex": [
       "$\\displaystyle \\left[\\begin{matrix}1 & 0 & 0 & -1 & b_{0} & 0 & b_{0} - 1\\\\0 & 1 & 0 & 0 & -1 & 0 & -1\\\\0 & 0 & 1 & a_{2} & b_{2} & -1 & a_{2} + b_{2} - 1\\end{matrix}\\right] = \\left[\\begin{matrix}1 & 0 & 0 & -1 & b_{0} & c_{0} & b_{0} + c_{0} - 1\\\\0 & 1 & 0 & 0 & -1 & c_{1} & c_{1} - 1\\\\0 & 0 & 1 & 0 & 0 & -1 & -1\\end{matrix}\\right]$"
      ],
      "text/plain": [
       "Eq(Matrix([\n",
       "[1, 0, 0, -1, b0,  0,      b0 - 1],\n",
       "[0, 1, 0,  0, -1,  0,          -1],\n",
       "[0, 0, 1, a2, b2, -1, a2 + b2 - 1]]), Matrix([\n",
       "[1, 0, 0, -1, b0, c0, b0 + c0 - 1],\n",
       "[0, 1, 0,  0, -1, c1,      c1 - 1],\n",
       "[0, 0, 1,  0,  0, -1,          -1]]))"
      ]
     },
     "metadata": {},
     "output_type": "display_data"
    },
    {
     "data": {
      "text/latex": [
       "$\\displaystyle \\text{True}$"
      ],
      "text/plain": [
       "True"
      ]
     },
     "execution_count": 475,
     "metadata": {},
     "output_type": "execute_result"
    }
   ],
   "source": [
    "i, j =4, 7\n",
    "display(sp.Eq(fans[i], fans[j], evaluate=False))\n",
    "sp.Eq(fans[i].subs(a2,0).subs(b2,0), fans[j].subs(c0,0).subs(c1,0))"
   ]
  },
  {
   "cell_type": "markdown",
   "id": "2f504921-4e64-4fbe-9d51-62e534b75078",
   "metadata": {
    "jp-MarkdownHeadingCollapsed": true
   },
   "source": [
    "### fan 8 ($a_1=0$, $a_2=0$, $b_0=0$, $b_2=0$, $c_0=0$, $c_1=0$)"
   ]
  },
  {
   "cell_type": "code",
   "execution_count": 477,
   "id": "4f9da22c-0e89-446f-9372-846ca30462bd",
   "metadata": {},
   "outputs": [
    {
     "data": {
      "text/latex": [
       "$\\displaystyle \\left[\\begin{matrix}1 & 0 & 0 & -1 & b_{0} & 0 & b_{0} - 1\\\\0 & 1 & 0 & 0 & -1 & 0 & -1\\\\0 & 0 & 1 & a_{2} & b_{2} & -1 & a_{2} + b_{2} - 1\\end{matrix}\\right] = \\left[\\begin{matrix}1 & 0 & 0 & -1 & 0 & c_{0} & c_{0} - 1\\\\0 & 1 & 0 & a_{1} & -1 & c_{1} & a_{1} + c_{1} - 1\\\\0 & 0 & 1 & 0 & 0 & -1 & -1\\end{matrix}\\right]$"
      ],
      "text/plain": [
       "Eq(Matrix([\n",
       "[1, 0, 0, -1, b0,  0,      b0 - 1],\n",
       "[0, 1, 0,  0, -1,  0,          -1],\n",
       "[0, 0, 1, a2, b2, -1, a2 + b2 - 1]]), Matrix([\n",
       "[1, 0, 0, -1,  0, c0,      c0 - 1],\n",
       "[0, 1, 0, a1, -1, c1, a1 + c1 - 1],\n",
       "[0, 0, 1,  0,  0, -1,          -1]]))"
      ]
     },
     "metadata": {},
     "output_type": "display_data"
    },
    {
     "data": {
      "text/latex": [
       "$\\displaystyle \\text{True}$"
      ],
      "text/plain": [
       "True"
      ]
     },
     "execution_count": 477,
     "metadata": {},
     "output_type": "execute_result"
    }
   ],
   "source": [
    "i, j =4, 8\n",
    "display(sp.Eq(fans[i], fans[j], evaluate=False))\n",
    "sp.Eq(fans[i].subs(a2,0).subs(b0,0).subs(b2,0), fans[j].subs(a1,0).subs(c0,0).subs(c1,0))"
   ]
  },
  {
   "cell_type": "markdown",
   "id": "d5c25854-2c3c-4a96-8d11-4aa6efa67d16",
   "metadata": {
    "jp-MarkdownHeadingCollapsed": true
   },
   "source": [
    "### fan 9 ($a_1=0$, $b_0=0$, $b_2=0$, $c_1=0$)"
   ]
  },
  {
   "cell_type": "code",
   "execution_count": 480,
   "id": "d37df893-3961-4218-9daf-74dadd6789e8",
   "metadata": {},
   "outputs": [
    {
     "data": {
      "text/latex": [
       "$\\displaystyle \\left[\\begin{matrix}1 & 0 & 0 & -1 & b_{0} & 0 & b_{0} - 1\\\\0 & 1 & 0 & 0 & -1 & 0 & -1\\\\0 & 0 & 1 & a_{2} & b_{2} & -1 & a_{2} + b_{2} - 1\\end{matrix}\\right] = \\left[\\begin{matrix}1 & 0 & 0 & -1 & 0 & 0 & -1\\\\0 & 1 & 0 & a_{1} & -1 & c_{1} & a_{1} + c_{1} - 1\\\\0 & 0 & 1 & a_{2} & 0 & -1 & a_{2} - 1\\end{matrix}\\right]$"
      ],
      "text/plain": [
       "Eq(Matrix([\n",
       "[1, 0, 0, -1, b0,  0,      b0 - 1],\n",
       "[0, 1, 0,  0, -1,  0,          -1],\n",
       "[0, 0, 1, a2, b2, -1, a2 + b2 - 1]]), Matrix([\n",
       "[1, 0, 0, -1,  0,  0,          -1],\n",
       "[0, 1, 0, a1, -1, c1, a1 + c1 - 1],\n",
       "[0, 0, 1, a2,  0, -1,      a2 - 1]]))"
      ]
     },
     "metadata": {},
     "output_type": "display_data"
    },
    {
     "data": {
      "text/latex": [
       "$\\displaystyle \\text{True}$"
      ],
      "text/plain": [
       "True"
      ]
     },
     "execution_count": 480,
     "metadata": {},
     "output_type": "execute_result"
    }
   ],
   "source": [
    "i, j =4, 9\n",
    "display(sp.Eq(fans[i], fans[j], evaluate=False))\n",
    "sp.Eq(fans[i].subs(b0,0).subs(b2,0), fans[j].subs(a1,0).subs(c1,0))"
   ]
  },
  {
   "cell_type": "markdown",
   "id": "73a65ec3-9053-4482-8089-9ce31fdd254f",
   "metadata": {
    "jp-MarkdownHeadingCollapsed": true
   },
   "source": [
    "## fan 5"
   ]
  },
  {
   "cell_type": "markdown",
   "id": "31b017ad-7b56-41d5-8aa0-f5d919fb7067",
   "metadata": {
    "jp-MarkdownHeadingCollapsed": true
   },
   "source": [
    "### fan 2 ($a_1=1$, $a_2=0$, $b_2=1$, $c_0=0$)"
   ]
  },
  {
   "cell_type": "code",
   "execution_count": 442,
   "id": "457b6190-52fb-4160-baa9-088d0459211f",
   "metadata": {},
   "outputs": [
    {
     "data": {
      "text/latex": [
       "$\\displaystyle \\left[\\begin{matrix}1 & 0 & 0 & -1 & 0 & c_{0} & -1\\\\0 & 1 & 0 & 1 & -1 & 0 & 0\\\\0 & 0 & 1 & 0 & 1 & -1 & 0\\end{matrix}\\right] = \\left[\\begin{matrix}1 & 0 & 0 & -1 & 0 & 0 & -1\\\\0 & 1 & 0 & a_{1} & -1 & 0 & a_{1} - 1\\\\0 & 0 & 1 & a_{2} & b_{2} & -1 & a_{2} + b_{2} - 1\\end{matrix}\\right]$"
      ],
      "text/plain": [
       "Eq(Matrix([\n",
       "[1, 0, 0, -1,  0, c0, -1],\n",
       "[0, 1, 0,  1, -1,  0,  0],\n",
       "[0, 0, 1,  0,  1, -1,  0]]), Matrix([\n",
       "[1, 0, 0, -1,  0,  0,          -1],\n",
       "[0, 1, 0, a1, -1,  0,      a1 - 1],\n",
       "[0, 0, 1, a2, b2, -1, a2 + b2 - 1]]))"
      ]
     },
     "metadata": {},
     "output_type": "display_data"
    },
    {
     "data": {
      "text/latex": [
       "$\\displaystyle \\text{True}$"
      ],
      "text/plain": [
       "True"
      ]
     },
     "execution_count": 442,
     "metadata": {},
     "output_type": "execute_result"
    }
   ],
   "source": [
    "display(sp.Eq(fans[2], fans[5], evaluate=False))\n",
    "sp.Eq(fans[2].subs(c0,0), fans[5].subs(a1,1).subs(a2,0).subs(b2,1))"
   ]
  },
  {
   "cell_type": "markdown",
   "id": "398211ce-6243-40bb-8df6-cb3977001d8d",
   "metadata": {
    "jp-MarkdownHeadingCollapsed": true
   },
   "source": [
    "### fan 4 ($a_1=0$, $b_0=0$)"
   ]
  },
  {
   "cell_type": "code",
   "execution_count": 471,
   "id": "9a4b476d-1c41-4e16-b9fb-3eabd8451888",
   "metadata": {},
   "outputs": [
    {
     "data": {
      "text/latex": [
       "$\\displaystyle \\left[\\begin{matrix}1 & 0 & 0 & -1 & b_{0} & 0 & b_{0} - 1\\\\0 & 1 & 0 & 0 & -1 & 0 & -1\\\\0 & 0 & 1 & a_{2} & b_{2} & -1 & a_{2} + b_{2} - 1\\end{matrix}\\right] = \\left[\\begin{matrix}1 & 0 & 0 & -1 & 0 & 0 & -1\\\\0 & 1 & 0 & a_{1} & -1 & 0 & a_{1} - 1\\\\0 & 0 & 1 & a_{2} & b_{2} & -1 & a_{2} + b_{2} - 1\\end{matrix}\\right]$"
      ],
      "text/plain": [
       "Eq(Matrix([\n",
       "[1, 0, 0, -1, b0,  0,      b0 - 1],\n",
       "[0, 1, 0,  0, -1,  0,          -1],\n",
       "[0, 0, 1, a2, b2, -1, a2 + b2 - 1]]), Matrix([\n",
       "[1, 0, 0, -1,  0,  0,          -1],\n",
       "[0, 1, 0, a1, -1,  0,      a1 - 1],\n",
       "[0, 0, 1, a2, b2, -1, a2 + b2 - 1]]))"
      ]
     },
     "metadata": {},
     "output_type": "display_data"
    },
    {
     "data": {
      "text/latex": [
       "$\\displaystyle \\text{True}$"
      ],
      "text/plain": [
       "True"
      ]
     },
     "execution_count": 471,
     "metadata": {},
     "output_type": "execute_result"
    }
   ],
   "source": [
    "i, j =4, 5\n",
    "display(sp.Eq(fans[i], fans[j], evaluate=False))\n",
    "sp.Eq(fans[i].subs(b0,0), fans[j].subs(a1,0))"
   ]
  },
  {
   "cell_type": "markdown",
   "id": "fdc0c7f3-c71d-4761-a7ca-0c29eb0cb81b",
   "metadata": {
    "jp-MarkdownHeadingCollapsed": true
   },
   "source": [
    "### fan 6 ($a_1=0$, $a_2=0$, $b_0=0$, $c_0=0$)"
   ]
  },
  {
   "cell_type": "code",
   "execution_count": 491,
   "id": "180d53a5-f03f-4b26-9259-db84d04bc0cc",
   "metadata": {},
   "outputs": [
    {
     "data": {
      "text/latex": [
       "$\\displaystyle \\left[\\begin{matrix}1 & 0 & 0 & -1 & 0 & 0 & -1\\\\0 & 1 & 0 & a_{1} & -1 & 0 & a_{1} - 1\\\\0 & 0 & 1 & a_{2} & b_{2} & -1 & a_{2} + b_{2} - 1\\end{matrix}\\right] = \\left[\\begin{matrix}1 & 0 & 0 & -1 & b_{0} & c_{0} & b_{0} + c_{0} - 1\\\\0 & 1 & 0 & 0 & -1 & 0 & -1\\\\0 & 0 & 1 & 0 & b_{2} & -1 & b_{2} - 1\\end{matrix}\\right]$"
      ],
      "text/plain": [
       "Eq(Matrix([\n",
       "[1, 0, 0, -1,  0,  0,          -1],\n",
       "[0, 1, 0, a1, -1,  0,      a1 - 1],\n",
       "[0, 0, 1, a2, b2, -1, a2 + b2 - 1]]), Matrix([\n",
       "[1, 0, 0, -1, b0, c0, b0 + c0 - 1],\n",
       "[0, 1, 0,  0, -1,  0,          -1],\n",
       "[0, 0, 1,  0, b2, -1,      b2 - 1]]))"
      ]
     },
     "metadata": {},
     "output_type": "display_data"
    },
    {
     "data": {
      "text/latex": [
       "$\\displaystyle \\text{True}$"
      ],
      "text/plain": [
       "True"
      ]
     },
     "execution_count": 491,
     "metadata": {},
     "output_type": "execute_result"
    }
   ],
   "source": [
    "i, j = 5, 6\n",
    "display(sp.Eq(fans[i], fans[j], evaluate=False))\n",
    "sp.Eq(fans[i].subs(a1,0).subs(a2,0), fans[j].subs(b0,0).subs(c0,0))"
   ]
  },
  {
   "cell_type": "markdown",
   "id": "2ac0b4a5-1ab2-48da-afc4-8fbd4d1ea700",
   "metadata": {
    "jp-MarkdownHeadingCollapsed": true
   },
   "source": [
    "### fan 7 ($a_1=0$, $a_2=0$, $b_0=0$, $b_2=0$, $c_0=0$, $c_1=0$)"
   ]
  },
  {
   "cell_type": "code",
   "execution_count": 493,
   "id": "fb6a3c43-6f7d-4b9f-89a6-fc5b132f0ecf",
   "metadata": {},
   "outputs": [
    {
     "data": {
      "text/latex": [
       "$\\displaystyle \\left[\\begin{matrix}1 & 0 & 0 & -1 & 0 & 0 & -1\\\\0 & 1 & 0 & a_{1} & -1 & 0 & a_{1} - 1\\\\0 & 0 & 1 & a_{2} & b_{2} & -1 & a_{2} + b_{2} - 1\\end{matrix}\\right] = \\left[\\begin{matrix}1 & 0 & 0 & -1 & b_{0} & c_{0} & b_{0} + c_{0} - 1\\\\0 & 1 & 0 & 0 & -1 & c_{1} & c_{1} - 1\\\\0 & 0 & 1 & 0 & 0 & -1 & -1\\end{matrix}\\right]$"
      ],
      "text/plain": [
       "Eq(Matrix([\n",
       "[1, 0, 0, -1,  0,  0,          -1],\n",
       "[0, 1, 0, a1, -1,  0,      a1 - 1],\n",
       "[0, 0, 1, a2, b2, -1, a2 + b2 - 1]]), Matrix([\n",
       "[1, 0, 0, -1, b0, c0, b0 + c0 - 1],\n",
       "[0, 1, 0,  0, -1, c1,      c1 - 1],\n",
       "[0, 0, 1,  0,  0, -1,          -1]]))"
      ]
     },
     "metadata": {},
     "output_type": "display_data"
    },
    {
     "data": {
      "text/latex": [
       "$\\displaystyle \\text{True}$"
      ],
      "text/plain": [
       "True"
      ]
     },
     "execution_count": 493,
     "metadata": {},
     "output_type": "execute_result"
    }
   ],
   "source": [
    "i, j = 5, 7\n",
    "display(sp.Eq(fans[i], fans[j], evaluate=False))\n",
    "sp.Eq(fans[i].subs(a1,0).subs(a2,0).subs(b2,0), fans[j].subs(b0,0).subs(c0,0).subs(c1,0))"
   ]
  },
  {
   "cell_type": "markdown",
   "id": "6049d5f7-013e-4b16-a40f-86253ffd567a",
   "metadata": {
    "jp-MarkdownHeadingCollapsed": true
   },
   "source": [
    "### fan 8 ($a_2=0$, $b_2=0$, $c_0=0$, $c_1=0$)"
   ]
  },
  {
   "cell_type": "code",
   "execution_count": 497,
   "id": "2208e969-dca2-4515-b383-34955310d873",
   "metadata": {},
   "outputs": [
    {
     "data": {
      "text/latex": [
       "$\\displaystyle \\left[\\begin{matrix}1 & 0 & 0 & -1 & 0 & 0 & -1\\\\0 & 1 & 0 & a_{1} & -1 & 0 & a_{1} - 1\\\\0 & 0 & 1 & a_{2} & b_{2} & -1 & a_{2} + b_{2} - 1\\end{matrix}\\right] = \\left[\\begin{matrix}1 & 0 & 0 & -1 & 0 & c_{0} & c_{0} - 1\\\\0 & 1 & 0 & a_{1} & -1 & c_{1} & a_{1} + c_{1} - 1\\\\0 & 0 & 1 & 0 & 0 & -1 & -1\\end{matrix}\\right]$"
      ],
      "text/plain": [
       "Eq(Matrix([\n",
       "[1, 0, 0, -1,  0,  0,          -1],\n",
       "[0, 1, 0, a1, -1,  0,      a1 - 1],\n",
       "[0, 0, 1, a2, b2, -1, a2 + b2 - 1]]), Matrix([\n",
       "[1, 0, 0, -1,  0, c0,      c0 - 1],\n",
       "[0, 1, 0, a1, -1, c1, a1 + c1 - 1],\n",
       "[0, 0, 1,  0,  0, -1,          -1]]))"
      ]
     },
     "metadata": {},
     "output_type": "display_data"
    },
    {
     "data": {
      "text/latex": [
       "$\\displaystyle \\text{True}$"
      ],
      "text/plain": [
       "True"
      ]
     },
     "execution_count": 497,
     "metadata": {},
     "output_type": "execute_result"
    }
   ],
   "source": [
    "i, j = 5, 8\n",
    "display(sp.Eq(fans[i], fans[j], evaluate=False))\n",
    "sp.Eq(fans[i].subs(a2,0).subs(b2,0), fans[j].subs(c0,0).subs(c1,0))"
   ]
  },
  {
   "cell_type": "markdown",
   "id": "536faa78-906e-4830-b025-cff481fb008a",
   "metadata": {
    "jp-MarkdownHeadingCollapsed": true
   },
   "source": [
    "### fan 9 ($b_2=0$, $c_1=0$)"
   ]
  },
  {
   "cell_type": "code",
   "execution_count": 499,
   "id": "a8412124-f515-4180-a4d4-739dd3e671dd",
   "metadata": {},
   "outputs": [
    {
     "data": {
      "text/latex": [
       "$\\displaystyle \\left[\\begin{matrix}1 & 0 & 0 & -1 & 0 & 0 & -1\\\\0 & 1 & 0 & a_{1} & -1 & 0 & a_{1} - 1\\\\0 & 0 & 1 & a_{2} & b_{2} & -1 & a_{2} + b_{2} - 1\\end{matrix}\\right] = \\left[\\begin{matrix}1 & 0 & 0 & -1 & 0 & 0 & -1\\\\0 & 1 & 0 & a_{1} & -1 & c_{1} & a_{1} + c_{1} - 1\\\\0 & 0 & 1 & a_{2} & 0 & -1 & a_{2} - 1\\end{matrix}\\right]$"
      ],
      "text/plain": [
       "Eq(Matrix([\n",
       "[1, 0, 0, -1,  0,  0,          -1],\n",
       "[0, 1, 0, a1, -1,  0,      a1 - 1],\n",
       "[0, 0, 1, a2, b2, -1, a2 + b2 - 1]]), Matrix([\n",
       "[1, 0, 0, -1,  0,  0,          -1],\n",
       "[0, 1, 0, a1, -1, c1, a1 + c1 - 1],\n",
       "[0, 0, 1, a2,  0, -1,      a2 - 1]]))"
      ]
     },
     "metadata": {},
     "output_type": "display_data"
    },
    {
     "data": {
      "text/latex": [
       "$\\displaystyle \\text{True}$"
      ],
      "text/plain": [
       "True"
      ]
     },
     "execution_count": 499,
     "metadata": {},
     "output_type": "execute_result"
    }
   ],
   "source": [
    "i, j = 5, 9\n",
    "display(sp.Eq(fans[i], fans[j], evaluate=False))\n",
    "sp.Eq(fans[i].subs(b2,0), fans[j].subs(c1,0))"
   ]
  },
  {
   "cell_type": "markdown",
   "id": "c8273e3e-d9d9-4dad-b4a4-148ff348694f",
   "metadata": {
    "jp-MarkdownHeadingCollapsed": true
   },
   "source": [
    "## fan 6"
   ]
  },
  {
   "cell_type": "markdown",
   "id": "753f358b-553f-41f0-bf08-62484455290e",
   "metadata": {
    "jp-MarkdownHeadingCollapsed": true
   },
   "source": [
    "### fan 3 ($a_1=0$, $b_0=0$, $b_2=1$, $c_0=1$)"
   ]
  },
  {
   "cell_type": "code",
   "execution_count": 459,
   "id": "2e4984f9-1af8-4121-add1-0fe0b053adbb",
   "metadata": {},
   "outputs": [
    {
     "data": {
      "text/latex": [
       "$\\displaystyle \\left[\\begin{matrix}1 & 0 & 0 & -1 & 0 & 1 & 0\\\\0 & 1 & 0 & a_{1} & -1 & 0 & -1\\\\0 & 0 & 1 & 0 & 1 & -1 & 0\\end{matrix}\\right] = \\left[\\begin{matrix}1 & 0 & 0 & -1 & b_{0} & c_{0} & b_{0} + c_{0} - 1\\\\0 & 1 & 0 & 0 & -1 & 0 & -1\\\\0 & 0 & 1 & 0 & b_{2} & -1 & b_{2} - 1\\end{matrix}\\right]$"
      ],
      "text/plain": [
       "Eq(Matrix([\n",
       "[1, 0, 0, -1,  0,  1,  0],\n",
       "[0, 1, 0, a1, -1,  0, -1],\n",
       "[0, 0, 1,  0,  1, -1,  0]]), Matrix([\n",
       "[1, 0, 0, -1, b0, c0, b0 + c0 - 1],\n",
       "[0, 1, 0,  0, -1,  0,          -1],\n",
       "[0, 0, 1,  0, b2, -1,      b2 - 1]]))"
      ]
     },
     "metadata": {},
     "output_type": "display_data"
    },
    {
     "data": {
      "text/latex": [
       "$\\displaystyle \\text{True}$"
      ],
      "text/plain": [
       "True"
      ]
     },
     "execution_count": 459,
     "metadata": {},
     "output_type": "execute_result"
    }
   ],
   "source": [
    "i, j =3, 6\n",
    "display(sp.Eq(fans[i], fans[j], evaluate=False))\n",
    "sp.Eq(fans[i].subs(a1,0), fans[j].subs(b0,0).subs(c0,1).subs(b2,1))"
   ]
  },
  {
   "cell_type": "markdown",
   "id": "b02492f5-2e53-42b1-8af8-8a7ab10ddb67",
   "metadata": {
    "jp-MarkdownHeadingCollapsed": true
   },
   "source": [
    "### fan 4 ($a_2=0$, $c_0=0$)"
   ]
  },
  {
   "cell_type": "code",
   "execution_count": 473,
   "id": "b72ee111-0dbe-4b14-8e7d-6b93168f8303",
   "metadata": {},
   "outputs": [
    {
     "data": {
      "text/latex": [
       "$\\displaystyle \\left[\\begin{matrix}1 & 0 & 0 & -1 & b_{0} & 0 & b_{0} - 1\\\\0 & 1 & 0 & 0 & -1 & 0 & -1\\\\0 & 0 & 1 & a_{2} & b_{2} & -1 & a_{2} + b_{2} - 1\\end{matrix}\\right] = \\left[\\begin{matrix}1 & 0 & 0 & -1 & b_{0} & c_{0} & b_{0} + c_{0} - 1\\\\0 & 1 & 0 & 0 & -1 & 0 & -1\\\\0 & 0 & 1 & 0 & b_{2} & -1 & b_{2} - 1\\end{matrix}\\right]$"
      ],
      "text/plain": [
       "Eq(Matrix([\n",
       "[1, 0, 0, -1, b0,  0,      b0 - 1],\n",
       "[0, 1, 0,  0, -1,  0,          -1],\n",
       "[0, 0, 1, a2, b2, -1, a2 + b2 - 1]]), Matrix([\n",
       "[1, 0, 0, -1, b0, c0, b0 + c0 - 1],\n",
       "[0, 1, 0,  0, -1,  0,          -1],\n",
       "[0, 0, 1,  0, b2, -1,      b2 - 1]]))"
      ]
     },
     "metadata": {},
     "output_type": "display_data"
    },
    {
     "data": {
      "text/latex": [
       "$\\displaystyle \\text{True}$"
      ],
      "text/plain": [
       "True"
      ]
     },
     "execution_count": 473,
     "metadata": {},
     "output_type": "execute_result"
    }
   ],
   "source": [
    "i, j =4, 6\n",
    "display(sp.Eq(fans[i], fans[j], evaluate=False))\n",
    "sp.Eq(fans[i].subs(a2,0), fans[j].subs(c0,0))"
   ]
  },
  {
   "cell_type": "markdown",
   "id": "8bcbcd43-17dd-46cb-b122-d1bd2fa77a43",
   "metadata": {
    "jp-MarkdownHeadingCollapsed": true
   },
   "source": [
    "### fan 5 ($a_1=0$, $a_2=0$, $b_0=0$, $c_0=0$)"
   ]
  },
  {
   "cell_type": "code",
   "execution_count": 491,
   "id": "98e84a0f-f36a-4244-b52c-5b882d72eecd",
   "metadata": {},
   "outputs": [
    {
     "data": {
      "text/latex": [
       "$\\displaystyle \\left[\\begin{matrix}1 & 0 & 0 & -1 & 0 & 0 & -1\\\\0 & 1 & 0 & a_{1} & -1 & 0 & a_{1} - 1\\\\0 & 0 & 1 & a_{2} & b_{2} & -1 & a_{2} + b_{2} - 1\\end{matrix}\\right] = \\left[\\begin{matrix}1 & 0 & 0 & -1 & b_{0} & c_{0} & b_{0} + c_{0} - 1\\\\0 & 1 & 0 & 0 & -1 & 0 & -1\\\\0 & 0 & 1 & 0 & b_{2} & -1 & b_{2} - 1\\end{matrix}\\right]$"
      ],
      "text/plain": [
       "Eq(Matrix([\n",
       "[1, 0, 0, -1,  0,  0,          -1],\n",
       "[0, 1, 0, a1, -1,  0,      a1 - 1],\n",
       "[0, 0, 1, a2, b2, -1, a2 + b2 - 1]]), Matrix([\n",
       "[1, 0, 0, -1, b0, c0, b0 + c0 - 1],\n",
       "[0, 1, 0,  0, -1,  0,          -1],\n",
       "[0, 0, 1,  0, b2, -1,      b2 - 1]]))"
      ]
     },
     "metadata": {},
     "output_type": "display_data"
    },
    {
     "data": {
      "text/latex": [
       "$\\displaystyle \\text{True}$"
      ],
      "text/plain": [
       "True"
      ]
     },
     "execution_count": 491,
     "metadata": {},
     "output_type": "execute_result"
    }
   ],
   "source": [
    "i, j = 5, 6\n",
    "display(sp.Eq(fans[i], fans[j], evaluate=False))\n",
    "sp.Eq(fans[i].subs(a1,0).subs(a2,0), fans[j].subs(b0,0).subs(c0,0))"
   ]
  },
  {
   "cell_type": "markdown",
   "id": "06d41f11-66c5-48bd-8525-99019bd17acb",
   "metadata": {
    "jp-MarkdownHeadingCollapsed": true
   },
   "source": [
    "### fan 7 ($b_2=0$, $c_1=0$)"
   ]
  },
  {
   "cell_type": "code",
   "execution_count": 510,
   "id": "99589603-7d4d-48b9-9441-d9f3de68fb9b",
   "metadata": {},
   "outputs": [
    {
     "data": {
      "text/latex": [
       "$\\displaystyle \\left[\\begin{matrix}1 & 0 & 0 & -1 & b_{0} & c_{0} & b_{0} + c_{0} - 1\\\\0 & 1 & 0 & 0 & -1 & 0 & -1\\\\0 & 0 & 1 & 0 & b_{2} & -1 & b_{2} - 1\\end{matrix}\\right] = \\left[\\begin{matrix}1 & 0 & 0 & -1 & b_{0} & c_{0} & b_{0} + c_{0} - 1\\\\0 & 1 & 0 & 0 & -1 & c_{1} & c_{1} - 1\\\\0 & 0 & 1 & 0 & 0 & -1 & -1\\end{matrix}\\right]$"
      ],
      "text/plain": [
       "Eq(Matrix([\n",
       "[1, 0, 0, -1, b0, c0, b0 + c0 - 1],\n",
       "[0, 1, 0,  0, -1,  0,          -1],\n",
       "[0, 0, 1,  0, b2, -1,      b2 - 1]]), Matrix([\n",
       "[1, 0, 0, -1, b0, c0, b0 + c0 - 1],\n",
       "[0, 1, 0,  0, -1, c1,      c1 - 1],\n",
       "[0, 0, 1,  0,  0, -1,          -1]]))"
      ]
     },
     "metadata": {},
     "output_type": "display_data"
    },
    {
     "data": {
      "text/latex": [
       "$\\displaystyle \\text{True}$"
      ],
      "text/plain": [
       "True"
      ]
     },
     "execution_count": 510,
     "metadata": {},
     "output_type": "execute_result"
    }
   ],
   "source": [
    "i, j = 6, 7\n",
    "display(sp.Eq(fans[i], fans[j], evaluate=False))\n",
    "sp.Eq(fans[i].subs(b2,0), fans[j].subs(c1,0))"
   ]
  },
  {
   "cell_type": "markdown",
   "id": "04a509da-2e70-42ae-8078-37dcb7c2de3b",
   "metadata": {
    "jp-MarkdownHeadingCollapsed": true
   },
   "source": [
    "### fan 8 ($a_1=0$, $b_0=0$, $b_2=0$, $c_1=0$)"
   ]
  },
  {
   "cell_type": "code",
   "execution_count": 512,
   "id": "aefec70d-ffa9-4c5c-b29d-4d4d1b81ffcf",
   "metadata": {},
   "outputs": [
    {
     "data": {
      "text/latex": [
       "$\\displaystyle \\left[\\begin{matrix}1 & 0 & 0 & -1 & b_{0} & c_{0} & b_{0} + c_{0} - 1\\\\0 & 1 & 0 & 0 & -1 & 0 & -1\\\\0 & 0 & 1 & 0 & b_{2} & -1 & b_{2} - 1\\end{matrix}\\right] = \\left[\\begin{matrix}1 & 0 & 0 & -1 & 0 & c_{0} & c_{0} - 1\\\\0 & 1 & 0 & a_{1} & -1 & c_{1} & a_{1} + c_{1} - 1\\\\0 & 0 & 1 & 0 & 0 & -1 & -1\\end{matrix}\\right]$"
      ],
      "text/plain": [
       "Eq(Matrix([\n",
       "[1, 0, 0, -1, b0, c0, b0 + c0 - 1],\n",
       "[0, 1, 0,  0, -1,  0,          -1],\n",
       "[0, 0, 1,  0, b2, -1,      b2 - 1]]), Matrix([\n",
       "[1, 0, 0, -1,  0, c0,      c0 - 1],\n",
       "[0, 1, 0, a1, -1, c1, a1 + c1 - 1],\n",
       "[0, 0, 1,  0,  0, -1,          -1]]))"
      ]
     },
     "metadata": {},
     "output_type": "display_data"
    },
    {
     "data": {
      "text/latex": [
       "$\\displaystyle \\text{True}$"
      ],
      "text/plain": [
       "True"
      ]
     },
     "execution_count": 512,
     "metadata": {},
     "output_type": "execute_result"
    }
   ],
   "source": [
    "i, j = 6, 8\n",
    "display(sp.Eq(fans[i], fans[j], evaluate=False))\n",
    "sp.Eq(fans[i].subs(b0,0).subs(b2,0), fans[j].subs(a1,0).subs(c1,0))"
   ]
  },
  {
   "cell_type": "markdown",
   "id": "17c6c18d-6d52-4baa-9aeb-6f713243c04d",
   "metadata": {
    "jp-MarkdownHeadingCollapsed": true
   },
   "source": [
    "### fan 9 ($a_1=0$, $a_2=0$, $b_0=0$, $b_2=0$, $c_0=0$, $c_1=0$)"
   ]
  },
  {
   "cell_type": "code",
   "execution_count": 527,
   "id": "31c64439-921e-4e8b-8e70-8b9331e77cc2",
   "metadata": {},
   "outputs": [
    {
     "data": {
      "text/latex": [
       "$\\displaystyle \\left[\\begin{matrix}1 & 0 & 0 & -1 & b_{0} & c_{0} & b_{0} + c_{0} - 1\\\\0 & 1 & 0 & 0 & -1 & 0 & -1\\\\0 & 0 & 1 & 0 & b_{2} & -1 & b_{2} - 1\\end{matrix}\\right] = \\left[\\begin{matrix}1 & 0 & 0 & -1 & 0 & 0 & -1\\\\0 & 1 & 0 & a_{1} & -1 & c_{1} & a_{1} + c_{1} - 1\\\\0 & 0 & 1 & a_{2} & 0 & -1 & a_{2} - 1\\end{matrix}\\right]$"
      ],
      "text/plain": [
       "Eq(Matrix([\n",
       "[1, 0, 0, -1, b0, c0, b0 + c0 - 1],\n",
       "[0, 1, 0,  0, -1,  0,          -1],\n",
       "[0, 0, 1,  0, b2, -1,      b2 - 1]]), Matrix([\n",
       "[1, 0, 0, -1,  0,  0,          -1],\n",
       "[0, 1, 0, a1, -1, c1, a1 + c1 - 1],\n",
       "[0, 0, 1, a2,  0, -1,      a2 - 1]]))"
      ]
     },
     "metadata": {},
     "output_type": "display_data"
    },
    {
     "data": {
      "text/latex": [
       "$\\displaystyle \\text{True}$"
      ],
      "text/plain": [
       "True"
      ]
     },
     "execution_count": 527,
     "metadata": {},
     "output_type": "execute_result"
    }
   ],
   "source": [
    "i, j = 6, 9\n",
    "display(sp.Eq(fans[i], fans[j], evaluate=False))\n",
    "sp.Eq(fans[i].subs(b0,0).subs(c0,0).subs(b2,0), fans[j].subs(a1,0).subs(a2,0).subs(c1,0))"
   ]
  },
  {
   "cell_type": "markdown",
   "id": "a9aa9016-35c6-45ff-8d89-62835e7c09e8",
   "metadata": {
    "jp-MarkdownHeadingCollapsed": true
   },
   "source": [
    "## fan 7"
   ]
  },
  {
   "cell_type": "markdown",
   "id": "77ceb5c7-2662-4533-90f3-d130264a59a6",
   "metadata": {
    "jp-MarkdownHeadingCollapsed": true
   },
   "source": [
    "### fan 4 ($a_2=0$, $b_2=0$, $c_0=0$, $c_1=0$)"
   ]
  },
  {
   "cell_type": "code",
   "execution_count": 475,
   "id": "f768e64b-9a49-4b3a-8b23-de3618c05101",
   "metadata": {},
   "outputs": [
    {
     "data": {
      "text/latex": [
       "$\\displaystyle \\left[\\begin{matrix}1 & 0 & 0 & -1 & b_{0} & 0 & b_{0} - 1\\\\0 & 1 & 0 & 0 & -1 & 0 & -1\\\\0 & 0 & 1 & a_{2} & b_{2} & -1 & a_{2} + b_{2} - 1\\end{matrix}\\right] = \\left[\\begin{matrix}1 & 0 & 0 & -1 & b_{0} & c_{0} & b_{0} + c_{0} - 1\\\\0 & 1 & 0 & 0 & -1 & c_{1} & c_{1} - 1\\\\0 & 0 & 1 & 0 & 0 & -1 & -1\\end{matrix}\\right]$"
      ],
      "text/plain": [
       "Eq(Matrix([\n",
       "[1, 0, 0, -1, b0,  0,      b0 - 1],\n",
       "[0, 1, 0,  0, -1,  0,          -1],\n",
       "[0, 0, 1, a2, b2, -1, a2 + b2 - 1]]), Matrix([\n",
       "[1, 0, 0, -1, b0, c0, b0 + c0 - 1],\n",
       "[0, 1, 0,  0, -1, c1,      c1 - 1],\n",
       "[0, 0, 1,  0,  0, -1,          -1]]))"
      ]
     },
     "metadata": {},
     "output_type": "display_data"
    },
    {
     "data": {
      "text/latex": [
       "$\\displaystyle \\text{True}$"
      ],
      "text/plain": [
       "True"
      ]
     },
     "execution_count": 475,
     "metadata": {},
     "output_type": "execute_result"
    }
   ],
   "source": [
    "i, j =4, 7\n",
    "display(sp.Eq(fans[i], fans[j], evaluate=False))\n",
    "sp.Eq(fans[i].subs(a2,0).subs(b2,0), fans[j].subs(c0,0).subs(c1,0))"
   ]
  },
  {
   "cell_type": "markdown",
   "id": "525cd832-7209-4637-8e40-9139b8c2e4b8",
   "metadata": {
    "jp-MarkdownHeadingCollapsed": true
   },
   "source": [
    "### fan 5 ($a_1=0$, $a_2=0$, $b_0=0$, $b_2=0$, $c_0=0$, $c_1=0$)"
   ]
  },
  {
   "cell_type": "code",
   "execution_count": 493,
   "id": "b01ccb16-ef1c-4186-b872-2bcf0d8e85b9",
   "metadata": {},
   "outputs": [
    {
     "data": {
      "text/latex": [
       "$\\displaystyle \\left[\\begin{matrix}1 & 0 & 0 & -1 & 0 & 0 & -1\\\\0 & 1 & 0 & a_{1} & -1 & 0 & a_{1} - 1\\\\0 & 0 & 1 & a_{2} & b_{2} & -1 & a_{2} + b_{2} - 1\\end{matrix}\\right] = \\left[\\begin{matrix}1 & 0 & 0 & -1 & b_{0} & c_{0} & b_{0} + c_{0} - 1\\\\0 & 1 & 0 & 0 & -1 & c_{1} & c_{1} - 1\\\\0 & 0 & 1 & 0 & 0 & -1 & -1\\end{matrix}\\right]$"
      ],
      "text/plain": [
       "Eq(Matrix([\n",
       "[1, 0, 0, -1,  0,  0,          -1],\n",
       "[0, 1, 0, a1, -1,  0,      a1 - 1],\n",
       "[0, 0, 1, a2, b2, -1, a2 + b2 - 1]]), Matrix([\n",
       "[1, 0, 0, -1, b0, c0, b0 + c0 - 1],\n",
       "[0, 1, 0,  0, -1, c1,      c1 - 1],\n",
       "[0, 0, 1,  0,  0, -1,          -1]]))"
      ]
     },
     "metadata": {},
     "output_type": "display_data"
    },
    {
     "data": {
      "text/latex": [
       "$\\displaystyle \\text{True}$"
      ],
      "text/plain": [
       "True"
      ]
     },
     "execution_count": 493,
     "metadata": {},
     "output_type": "execute_result"
    }
   ],
   "source": [
    "i, j = 5, 7\n",
    "display(sp.Eq(fans[i], fans[j], evaluate=False))\n",
    "sp.Eq(fans[i].subs(a1,0).subs(a2,0).subs(b2,0), fans[j].subs(b0,0).subs(c0,0).subs(c1,0))"
   ]
  },
  {
   "cell_type": "markdown",
   "id": "f1be3207-d6da-4edb-9e78-f1c316fb57e3",
   "metadata": {
    "jp-MarkdownHeadingCollapsed": true
   },
   "source": [
    "### fan 6 ($b_2=0$, $c_1=0$)"
   ]
  },
  {
   "cell_type": "code",
   "execution_count": 510,
   "id": "bc1c1074-b70d-4c35-946a-551f7d6e6d99",
   "metadata": {},
   "outputs": [
    {
     "data": {
      "text/latex": [
       "$\\displaystyle \\left[\\begin{matrix}1 & 0 & 0 & -1 & b_{0} & c_{0} & b_{0} + c_{0} - 1\\\\0 & 1 & 0 & 0 & -1 & 0 & -1\\\\0 & 0 & 1 & 0 & b_{2} & -1 & b_{2} - 1\\end{matrix}\\right] = \\left[\\begin{matrix}1 & 0 & 0 & -1 & b_{0} & c_{0} & b_{0} + c_{0} - 1\\\\0 & 1 & 0 & 0 & -1 & c_{1} & c_{1} - 1\\\\0 & 0 & 1 & 0 & 0 & -1 & -1\\end{matrix}\\right]$"
      ],
      "text/plain": [
       "Eq(Matrix([\n",
       "[1, 0, 0, -1, b0, c0, b0 + c0 - 1],\n",
       "[0, 1, 0,  0, -1,  0,          -1],\n",
       "[0, 0, 1,  0, b2, -1,      b2 - 1]]), Matrix([\n",
       "[1, 0, 0, -1, b0, c0, b0 + c0 - 1],\n",
       "[0, 1, 0,  0, -1, c1,      c1 - 1],\n",
       "[0, 0, 1,  0,  0, -1,          -1]]))"
      ]
     },
     "metadata": {},
     "output_type": "display_data"
    },
    {
     "data": {
      "text/latex": [
       "$\\displaystyle \\text{True}$"
      ],
      "text/plain": [
       "True"
      ]
     },
     "execution_count": 510,
     "metadata": {},
     "output_type": "execute_result"
    }
   ],
   "source": [
    "i, j = 6, 7\n",
    "display(sp.Eq(fans[i], fans[j], evaluate=False))\n",
    "sp.Eq(fans[i].subs(b2,0), fans[j].subs(c1,0))"
   ]
  },
  {
   "cell_type": "markdown",
   "id": "4a2b871e-4c04-4f3b-99ce-4d77562c695e",
   "metadata": {
    "jp-MarkdownHeadingCollapsed": true
   },
   "source": [
    "### fan 8 ($a_1=0$, $b_0=0$)"
   ]
  },
  {
   "cell_type": "code",
   "execution_count": 530,
   "id": "b33e06d2-a852-442f-8a85-c309c861575c",
   "metadata": {},
   "outputs": [
    {
     "data": {
      "text/latex": [
       "$\\displaystyle \\left[\\begin{matrix}1 & 0 & 0 & -1 & b_{0} & c_{0} & b_{0} + c_{0} - 1\\\\0 & 1 & 0 & 0 & -1 & c_{1} & c_{1} - 1\\\\0 & 0 & 1 & 0 & 0 & -1 & -1\\end{matrix}\\right] = \\left[\\begin{matrix}1 & 0 & 0 & -1 & 0 & c_{0} & c_{0} - 1\\\\0 & 1 & 0 & a_{1} & -1 & c_{1} & a_{1} + c_{1} - 1\\\\0 & 0 & 1 & 0 & 0 & -1 & -1\\end{matrix}\\right]$"
      ],
      "text/plain": [
       "Eq(Matrix([\n",
       "[1, 0, 0, -1, b0, c0, b0 + c0 - 1],\n",
       "[0, 1, 0,  0, -1, c1,      c1 - 1],\n",
       "[0, 0, 1,  0,  0, -1,          -1]]), Matrix([\n",
       "[1, 0, 0, -1,  0, c0,      c0 - 1],\n",
       "[0, 1, 0, a1, -1, c1, a1 + c1 - 1],\n",
       "[0, 0, 1,  0,  0, -1,          -1]]))"
      ]
     },
     "metadata": {},
     "output_type": "display_data"
    },
    {
     "data": {
      "text/latex": [
       "$\\displaystyle \\text{True}$"
      ],
      "text/plain": [
       "True"
      ]
     },
     "execution_count": 530,
     "metadata": {},
     "output_type": "execute_result"
    }
   ],
   "source": [
    "i, j = 7, 8\n",
    "display(sp.Eq(fans[i], fans[j], evaluate=False))\n",
    "sp.Eq(fans[i].subs(b0,0), fans[j].subs(a1,0))"
   ]
  },
  {
   "cell_type": "markdown",
   "id": "bf565b9f-ee1f-4a02-982c-013f4636ffb4",
   "metadata": {
    "jp-MarkdownHeadingCollapsed": true
   },
   "source": [
    "### fan 9 ($a_1=0$, $a_2=0$, $b_0=0$, $c_0=0$)"
   ]
  },
  {
   "cell_type": "code",
   "execution_count": 532,
   "id": "cd23227f-07cf-4cd5-8128-00288a7859da",
   "metadata": {},
   "outputs": [
    {
     "data": {
      "text/latex": [
       "$\\displaystyle \\left[\\begin{matrix}1 & 0 & 0 & -1 & b_{0} & c_{0} & b_{0} + c_{0} - 1\\\\0 & 1 & 0 & 0 & -1 & c_{1} & c_{1} - 1\\\\0 & 0 & 1 & 0 & 0 & -1 & -1\\end{matrix}\\right] = \\left[\\begin{matrix}1 & 0 & 0 & -1 & 0 & 0 & -1\\\\0 & 1 & 0 & a_{1} & -1 & c_{1} & a_{1} + c_{1} - 1\\\\0 & 0 & 1 & a_{2} & 0 & -1 & a_{2} - 1\\end{matrix}\\right]$"
      ],
      "text/plain": [
       "Eq(Matrix([\n",
       "[1, 0, 0, -1, b0, c0, b0 + c0 - 1],\n",
       "[0, 1, 0,  0, -1, c1,      c1 - 1],\n",
       "[0, 0, 1,  0,  0, -1,          -1]]), Matrix([\n",
       "[1, 0, 0, -1,  0,  0,          -1],\n",
       "[0, 1, 0, a1, -1, c1, a1 + c1 - 1],\n",
       "[0, 0, 1, a2,  0, -1,      a2 - 1]]))"
      ]
     },
     "metadata": {},
     "output_type": "display_data"
    },
    {
     "data": {
      "text/latex": [
       "$\\displaystyle \\text{True}$"
      ],
      "text/plain": [
       "True"
      ]
     },
     "execution_count": 532,
     "metadata": {},
     "output_type": "execute_result"
    }
   ],
   "source": [
    "i, j = 7, 9\n",
    "display(sp.Eq(fans[i], fans[j], evaluate=False))\n",
    "sp.Eq(fans[i].subs(b0,0).subs(c0,0), fans[j].subs(a1,0).subs(a2,0))"
   ]
  },
  {
   "cell_type": "markdown",
   "id": "b5154d72-eabe-40d2-b73f-13785246d0d7",
   "metadata": {
    "jp-MarkdownHeadingCollapsed": true
   },
   "source": [
    "### fan 13 ($a_2=0$, $b_0=1$, $c_0=0$, $c_1=1$)"
   ]
  },
  {
   "cell_type": "code",
   "execution_count": 535,
   "id": "652c3d54-7c17-4539-a207-4a7b55419bf9",
   "metadata": {},
   "outputs": [
    {
     "data": {
      "text/latex": [
       "$\\displaystyle \\left[\\begin{matrix}1 & 0 & 0 & -1 & b_{0} & c_{0} & b_{0} + c_{0} - 1\\\\0 & 1 & 0 & 0 & -1 & c_{1} & c_{1} - 1\\\\0 & 0 & 1 & 0 & 0 & -1 & -1\\end{matrix}\\right] = \\left[\\begin{matrix}1 & 0 & 0 & -1 & 1 & 0 & 0\\\\0 & 1 & 0 & 0 & -1 & 1 & 0\\\\0 & 0 & 1 & a_{2} & 0 & -1 & -1\\end{matrix}\\right]$"
      ],
      "text/plain": [
       "Eq(Matrix([\n",
       "[1, 0, 0, -1, b0, c0, b0 + c0 - 1],\n",
       "[0, 1, 0,  0, -1, c1,      c1 - 1],\n",
       "[0, 0, 1,  0,  0, -1,          -1]]), Matrix([\n",
       "[1, 0, 0, -1,  1,  0,  0],\n",
       "[0, 1, 0,  0, -1,  1,  0],\n",
       "[0, 0, 1, a2,  0, -1, -1]]))"
      ]
     },
     "metadata": {},
     "output_type": "display_data"
    },
    {
     "data": {
      "text/latex": [
       "$\\displaystyle \\text{True}$"
      ],
      "text/plain": [
       "True"
      ]
     },
     "execution_count": 535,
     "metadata": {},
     "output_type": "execute_result"
    }
   ],
   "source": [
    "i, j = 7, 13\n",
    "display(sp.Eq(fans[i], fans[j], evaluate=False))\n",
    "sp.Eq(fans[i].subs(b0,1).subs(c0,0).subs(c1,1), fans[j].subs(a2,0))"
   ]
  },
  {
   "cell_type": "markdown",
   "id": "0c71e127-9c7b-4685-9461-c055c860e343",
   "metadata": {
    "jp-MarkdownHeadingCollapsed": true
   },
   "source": [
    "## fan 8"
   ]
  },
  {
   "cell_type": "markdown",
   "id": "bc0572f0-8fad-40a7-9e22-48b282ebf419",
   "metadata": {
    "jp-MarkdownHeadingCollapsed": true
   },
   "source": [
    "### fan 4 ($a_1=0$, $a_2=0$, $b_0=0$, $b_2=0$, $c_0=0$, $c_1=0$)"
   ]
  },
  {
   "cell_type": "code",
   "execution_count": 477,
   "id": "720b9adc-ac91-4cb2-8bec-ebbceb9f5a50",
   "metadata": {},
   "outputs": [
    {
     "data": {
      "text/latex": [
       "$\\displaystyle \\left[\\begin{matrix}1 & 0 & 0 & -1 & b_{0} & 0 & b_{0} - 1\\\\0 & 1 & 0 & 0 & -1 & 0 & -1\\\\0 & 0 & 1 & a_{2} & b_{2} & -1 & a_{2} + b_{2} - 1\\end{matrix}\\right] = \\left[\\begin{matrix}1 & 0 & 0 & -1 & 0 & c_{0} & c_{0} - 1\\\\0 & 1 & 0 & a_{1} & -1 & c_{1} & a_{1} + c_{1} - 1\\\\0 & 0 & 1 & 0 & 0 & -1 & -1\\end{matrix}\\right]$"
      ],
      "text/plain": [
       "Eq(Matrix([\n",
       "[1, 0, 0, -1, b0,  0,      b0 - 1],\n",
       "[0, 1, 0,  0, -1,  0,          -1],\n",
       "[0, 0, 1, a2, b2, -1, a2 + b2 - 1]]), Matrix([\n",
       "[1, 0, 0, -1,  0, c0,      c0 - 1],\n",
       "[0, 1, 0, a1, -1, c1, a1 + c1 - 1],\n",
       "[0, 0, 1,  0,  0, -1,          -1]]))"
      ]
     },
     "metadata": {},
     "output_type": "display_data"
    },
    {
     "data": {
      "text/latex": [
       "$\\displaystyle \\text{True}$"
      ],
      "text/plain": [
       "True"
      ]
     },
     "execution_count": 477,
     "metadata": {},
     "output_type": "execute_result"
    }
   ],
   "source": [
    "i, j =4, 8\n",
    "display(sp.Eq(fans[i], fans[j], evaluate=False))\n",
    "sp.Eq(fans[i].subs(a2,0).subs(b0,0).subs(b2,0), fans[j].subs(a1,0).subs(c0,0).subs(c1,0))"
   ]
  },
  {
   "cell_type": "markdown",
   "id": "95dec0bb-5c12-42d2-bbf2-dc55549c9fd4",
   "metadata": {
    "jp-MarkdownHeadingCollapsed": true
   },
   "source": [
    "### fan 5 ($a_2=0$, $b_2=0$, $c_0=0$, $c_1=0$)"
   ]
  },
  {
   "cell_type": "code",
   "execution_count": 497,
   "id": "290e406a-95a2-4158-8b2c-5c63389bd153",
   "metadata": {},
   "outputs": [
    {
     "data": {
      "text/latex": [
       "$\\displaystyle \\left[\\begin{matrix}1 & 0 & 0 & -1 & 0 & 0 & -1\\\\0 & 1 & 0 & a_{1} & -1 & 0 & a_{1} - 1\\\\0 & 0 & 1 & a_{2} & b_{2} & -1 & a_{2} + b_{2} - 1\\end{matrix}\\right] = \\left[\\begin{matrix}1 & 0 & 0 & -1 & 0 & c_{0} & c_{0} - 1\\\\0 & 1 & 0 & a_{1} & -1 & c_{1} & a_{1} + c_{1} - 1\\\\0 & 0 & 1 & 0 & 0 & -1 & -1\\end{matrix}\\right]$"
      ],
      "text/plain": [
       "Eq(Matrix([\n",
       "[1, 0, 0, -1,  0,  0,          -1],\n",
       "[0, 1, 0, a1, -1,  0,      a1 - 1],\n",
       "[0, 0, 1, a2, b2, -1, a2 + b2 - 1]]), Matrix([\n",
       "[1, 0, 0, -1,  0, c0,      c0 - 1],\n",
       "[0, 1, 0, a1, -1, c1, a1 + c1 - 1],\n",
       "[0, 0, 1,  0,  0, -1,          -1]]))"
      ]
     },
     "metadata": {},
     "output_type": "display_data"
    },
    {
     "data": {
      "text/latex": [
       "$\\displaystyle \\text{True}$"
      ],
      "text/plain": [
       "True"
      ]
     },
     "execution_count": 497,
     "metadata": {},
     "output_type": "execute_result"
    }
   ],
   "source": [
    "i, j = 5, 8\n",
    "display(sp.Eq(fans[i], fans[j], evaluate=False))\n",
    "sp.Eq(fans[i].subs(a2,0).subs(b2,0), fans[j].subs(c0,0).subs(c1,0))"
   ]
  },
  {
   "cell_type": "markdown",
   "id": "08b2b9dc-87a7-4bf5-a8c1-19b1c1d921fd",
   "metadata": {
    "jp-MarkdownHeadingCollapsed": true
   },
   "source": [
    "### fan 6 ($a_1=0$, $b_0=0$, $b_2=0$, $c_1=0$)"
   ]
  },
  {
   "cell_type": "code",
   "execution_count": 512,
   "id": "ac9688ab-2947-4b30-9000-68949da7c68b",
   "metadata": {},
   "outputs": [
    {
     "data": {
      "text/latex": [
       "$\\displaystyle \\left[\\begin{matrix}1 & 0 & 0 & -1 & b_{0} & c_{0} & b_{0} + c_{0} - 1\\\\0 & 1 & 0 & 0 & -1 & 0 & -1\\\\0 & 0 & 1 & 0 & b_{2} & -1 & b_{2} - 1\\end{matrix}\\right] = \\left[\\begin{matrix}1 & 0 & 0 & -1 & 0 & c_{0} & c_{0} - 1\\\\0 & 1 & 0 & a_{1} & -1 & c_{1} & a_{1} + c_{1} - 1\\\\0 & 0 & 1 & 0 & 0 & -1 & -1\\end{matrix}\\right]$"
      ],
      "text/plain": [
       "Eq(Matrix([\n",
       "[1, 0, 0, -1, b0, c0, b0 + c0 - 1],\n",
       "[0, 1, 0,  0, -1,  0,          -1],\n",
       "[0, 0, 1,  0, b2, -1,      b2 - 1]]), Matrix([\n",
       "[1, 0, 0, -1,  0, c0,      c0 - 1],\n",
       "[0, 1, 0, a1, -1, c1, a1 + c1 - 1],\n",
       "[0, 0, 1,  0,  0, -1,          -1]]))"
      ]
     },
     "metadata": {},
     "output_type": "display_data"
    },
    {
     "data": {
      "text/latex": [
       "$\\displaystyle \\text{True}$"
      ],
      "text/plain": [
       "True"
      ]
     },
     "execution_count": 512,
     "metadata": {},
     "output_type": "execute_result"
    }
   ],
   "source": [
    "i, j = 6, 8\n",
    "display(sp.Eq(fans[i], fans[j], evaluate=False))\n",
    "sp.Eq(fans[i].subs(b0,0).subs(b2,0), fans[j].subs(a1,0).subs(c1,0))"
   ]
  },
  {
   "cell_type": "markdown",
   "id": "e3e24e75-7670-40d3-a625-931da50775d1",
   "metadata": {
    "jp-MarkdownHeadingCollapsed": true
   },
   "source": [
    "### fan 7 ($a_1=0$, $b_0=0$)"
   ]
  },
  {
   "cell_type": "code",
   "execution_count": 530,
   "id": "ed5f5c19-650c-49fa-a411-ae69de06e395",
   "metadata": {},
   "outputs": [
    {
     "data": {
      "text/latex": [
       "$\\displaystyle \\left[\\begin{matrix}1 & 0 & 0 & -1 & b_{0} & c_{0} & b_{0} + c_{0} - 1\\\\0 & 1 & 0 & 0 & -1 & c_{1} & c_{1} - 1\\\\0 & 0 & 1 & 0 & 0 & -1 & -1\\end{matrix}\\right] = \\left[\\begin{matrix}1 & 0 & 0 & -1 & 0 & c_{0} & c_{0} - 1\\\\0 & 1 & 0 & a_{1} & -1 & c_{1} & a_{1} + c_{1} - 1\\\\0 & 0 & 1 & 0 & 0 & -1 & -1\\end{matrix}\\right]$"
      ],
      "text/plain": [
       "Eq(Matrix([\n",
       "[1, 0, 0, -1, b0, c0, b0 + c0 - 1],\n",
       "[0, 1, 0,  0, -1, c1,      c1 - 1],\n",
       "[0, 0, 1,  0,  0, -1,          -1]]), Matrix([\n",
       "[1, 0, 0, -1,  0, c0,      c0 - 1],\n",
       "[0, 1, 0, a1, -1, c1, a1 + c1 - 1],\n",
       "[0, 0, 1,  0,  0, -1,          -1]]))"
      ]
     },
     "metadata": {},
     "output_type": "display_data"
    },
    {
     "data": {
      "text/latex": [
       "$\\displaystyle \\text{True}$"
      ],
      "text/plain": [
       "True"
      ]
     },
     "execution_count": 530,
     "metadata": {},
     "output_type": "execute_result"
    }
   ],
   "source": [
    "i, j = 7, 8\n",
    "display(sp.Eq(fans[i], fans[j], evaluate=False))\n",
    "sp.Eq(fans[i].subs(b0,0), fans[j].subs(a1,0))"
   ]
  },
  {
   "cell_type": "markdown",
   "id": "c4eb196a-3bf7-410a-8265-5cea6b91c963",
   "metadata": {
    "jp-MarkdownHeadingCollapsed": true
   },
   "source": [
    "### fan 9 ($a_2=0$, $c_0=0$)"
   ]
  },
  {
   "cell_type": "code",
   "execution_count": 543,
   "id": "aa11fec6-97b5-4ab8-8ff3-998ab071feb4",
   "metadata": {},
   "outputs": [
    {
     "data": {
      "text/latex": [
       "$\\displaystyle \\left[\\begin{matrix}1 & 0 & 0 & -1 & 0 & c_{0} & c_{0} - 1\\\\0 & 1 & 0 & a_{1} & -1 & c_{1} & a_{1} + c_{1} - 1\\\\0 & 0 & 1 & 0 & 0 & -1 & -1\\end{matrix}\\right] = \\left[\\begin{matrix}1 & 0 & 0 & -1 & 0 & 0 & -1\\\\0 & 1 & 0 & a_{1} & -1 & c_{1} & a_{1} + c_{1} - 1\\\\0 & 0 & 1 & a_{2} & 0 & -1 & a_{2} - 1\\end{matrix}\\right]$"
      ],
      "text/plain": [
       "Eq(Matrix([\n",
       "[1, 0, 0, -1,  0, c0,      c0 - 1],\n",
       "[0, 1, 0, a1, -1, c1, a1 + c1 - 1],\n",
       "[0, 0, 1,  0,  0, -1,          -1]]), Matrix([\n",
       "[1, 0, 0, -1,  0,  0,          -1],\n",
       "[0, 1, 0, a1, -1, c1, a1 + c1 - 1],\n",
       "[0, 0, 1, a2,  0, -1,      a2 - 1]]))"
      ]
     },
     "metadata": {},
     "output_type": "display_data"
    },
    {
     "data": {
      "text/latex": [
       "$\\displaystyle \\text{True}$"
      ],
      "text/plain": [
       "True"
      ]
     },
     "execution_count": 543,
     "metadata": {},
     "output_type": "execute_result"
    }
   ],
   "source": [
    "i, j = 8, 9\n",
    "display(sp.Eq(fans[i], fans[j], evaluate=False))\n",
    "sp.Eq(fans[i].subs(c0,0), fans[j].subs(a2,0))"
   ]
  },
  {
   "cell_type": "markdown",
   "id": "bcb74f3a-e986-41c2-a8a1-a38bbcbf0121",
   "metadata": {
    "jp-MarkdownHeadingCollapsed": true
   },
   "source": [
    "### fan 10 ($a_1=1$, $b_2=0$, $c_0=1$, $c_1=0$)"
   ]
  },
  {
   "cell_type": "code",
   "execution_count": 546,
   "id": "c2d05884-d7c6-4fcf-ad70-4d3cdc1a8b73",
   "metadata": {},
   "outputs": [
    {
     "data": {
      "text/latex": [
       "$\\displaystyle \\left[\\begin{matrix}1 & 0 & 0 & -1 & 0 & c_{0} & c_{0} - 1\\\\0 & 1 & 0 & a_{1} & -1 & c_{1} & a_{1} + c_{1} - 1\\\\0 & 0 & 1 & 0 & 0 & -1 & -1\\end{matrix}\\right] = \\left[\\begin{matrix}1 & 0 & 0 & -1 & 0 & 1 & 0\\\\0 & 1 & 0 & 1 & -1 & 0 & 0\\\\0 & 0 & 1 & 0 & b_{2} & -1 & -1\\end{matrix}\\right]$"
      ],
      "text/plain": [
       "Eq(Matrix([\n",
       "[1, 0, 0, -1,  0, c0,      c0 - 1],\n",
       "[0, 1, 0, a1, -1, c1, a1 + c1 - 1],\n",
       "[0, 0, 1,  0,  0, -1,          -1]]), Matrix([\n",
       "[1, 0, 0, -1,  0,  1,  0],\n",
       "[0, 1, 0,  1, -1,  0,  0],\n",
       "[0, 0, 1,  0, b2, -1, -1]]))"
      ]
     },
     "metadata": {},
     "output_type": "display_data"
    },
    {
     "data": {
      "text/latex": [
       "$\\displaystyle \\text{True}$"
      ],
      "text/plain": [
       "True"
      ]
     },
     "execution_count": 546,
     "metadata": {},
     "output_type": "execute_result"
    }
   ],
   "source": [
    "i, j = 8, 10\n",
    "display(sp.Eq(fans[i], fans[j], evaluate=False))\n",
    "sp.Eq(fans[i].subs(a1,1).subs(c0,1).subs(c1,0), fans[j].subs(b2,0))"
   ]
  },
  {
   "cell_type": "markdown",
   "id": "09a55931-daa1-4817-b61d-78994dcf0f72",
   "metadata": {},
   "source": [
    "## fan 9"
   ]
  },
  {
   "cell_type": "markdown",
   "id": "48d9a180-5e74-45f1-9b5d-6e853e536200",
   "metadata": {
    "jp-MarkdownHeadingCollapsed": true
   },
   "source": [
    "### fan 4 ($a_1=0$, $b_0=0$, $b_2=0$, $c_1=0$)"
   ]
  },
  {
   "cell_type": "code",
   "execution_count": 480,
   "id": "badcd9c4-a482-4d05-b807-d6e7f60c059b",
   "metadata": {},
   "outputs": [
    {
     "data": {
      "text/latex": [
       "$\\displaystyle \\left[\\begin{matrix}1 & 0 & 0 & -1 & b_{0} & 0 & b_{0} - 1\\\\0 & 1 & 0 & 0 & -1 & 0 & -1\\\\0 & 0 & 1 & a_{2} & b_{2} & -1 & a_{2} + b_{2} - 1\\end{matrix}\\right] = \\left[\\begin{matrix}1 & 0 & 0 & -1 & 0 & 0 & -1\\\\0 & 1 & 0 & a_{1} & -1 & c_{1} & a_{1} + c_{1} - 1\\\\0 & 0 & 1 & a_{2} & 0 & -1 & a_{2} - 1\\end{matrix}\\right]$"
      ],
      "text/plain": [
       "Eq(Matrix([\n",
       "[1, 0, 0, -1, b0,  0,      b0 - 1],\n",
       "[0, 1, 0,  0, -1,  0,          -1],\n",
       "[0, 0, 1, a2, b2, -1, a2 + b2 - 1]]), Matrix([\n",
       "[1, 0, 0, -1,  0,  0,          -1],\n",
       "[0, 1, 0, a1, -1, c1, a1 + c1 - 1],\n",
       "[0, 0, 1, a2,  0, -1,      a2 - 1]]))"
      ]
     },
     "metadata": {},
     "output_type": "display_data"
    },
    {
     "data": {
      "text/latex": [
       "$\\displaystyle \\text{True}$"
      ],
      "text/plain": [
       "True"
      ]
     },
     "execution_count": 480,
     "metadata": {},
     "output_type": "execute_result"
    }
   ],
   "source": [
    "i, j =4, 9\n",
    "display(sp.Eq(fans[i], fans[j], evaluate=False))\n",
    "sp.Eq(fans[i].subs(b0,0).subs(b2,0), fans[j].subs(a1,0).subs(c1,0))"
   ]
  },
  {
   "cell_type": "markdown",
   "id": "d534a1f6-4a3a-4a51-bdd4-277f0caca1bf",
   "metadata": {
    "jp-MarkdownHeadingCollapsed": true
   },
   "source": [
    "### fan 5 ($b_2=0$, $c_1=0$)"
   ]
  },
  {
   "cell_type": "code",
   "execution_count": 499,
   "id": "f75fdfc4-4846-4dd0-b2ec-3a33022ecbc6",
   "metadata": {},
   "outputs": [
    {
     "data": {
      "text/latex": [
       "$\\displaystyle \\left[\\begin{matrix}1 & 0 & 0 & -1 & 0 & 0 & -1\\\\0 & 1 & 0 & a_{1} & -1 & 0 & a_{1} - 1\\\\0 & 0 & 1 & a_{2} & b_{2} & -1 & a_{2} + b_{2} - 1\\end{matrix}\\right] = \\left[\\begin{matrix}1 & 0 & 0 & -1 & 0 & 0 & -1\\\\0 & 1 & 0 & a_{1} & -1 & c_{1} & a_{1} + c_{1} - 1\\\\0 & 0 & 1 & a_{2} & 0 & -1 & a_{2} - 1\\end{matrix}\\right]$"
      ],
      "text/plain": [
       "Eq(Matrix([\n",
       "[1, 0, 0, -1,  0,  0,          -1],\n",
       "[0, 1, 0, a1, -1,  0,      a1 - 1],\n",
       "[0, 0, 1, a2, b2, -1, a2 + b2 - 1]]), Matrix([\n",
       "[1, 0, 0, -1,  0,  0,          -1],\n",
       "[0, 1, 0, a1, -1, c1, a1 + c1 - 1],\n",
       "[0, 0, 1, a2,  0, -1,      a2 - 1]]))"
      ]
     },
     "metadata": {},
     "output_type": "display_data"
    },
    {
     "data": {
      "text/latex": [
       "$\\displaystyle \\text{True}$"
      ],
      "text/plain": [
       "True"
      ]
     },
     "execution_count": 499,
     "metadata": {},
     "output_type": "execute_result"
    }
   ],
   "source": [
    "i, j = 5, 9\n",
    "display(sp.Eq(fans[i], fans[j], evaluate=False))\n",
    "sp.Eq(fans[i].subs(b2,0), fans[j].subs(c1,0))"
   ]
  },
  {
   "cell_type": "markdown",
   "id": "f4931cd1-0406-4ab0-b64e-02096dac7482",
   "metadata": {
    "jp-MarkdownHeadingCollapsed": true
   },
   "source": [
    "### fan 6 ($a_1=0$, $a_2=0$, $b_0=0$, $b_2=0$, $c_0=0$, $c_1=0$)"
   ]
  },
  {
   "cell_type": "code",
   "execution_count": 527,
   "id": "96526ca5-24ab-49ff-9435-0545b529db5d",
   "metadata": {},
   "outputs": [
    {
     "data": {
      "text/latex": [
       "$\\displaystyle \\left[\\begin{matrix}1 & 0 & 0 & -1 & b_{0} & c_{0} & b_{0} + c_{0} - 1\\\\0 & 1 & 0 & 0 & -1 & 0 & -1\\\\0 & 0 & 1 & 0 & b_{2} & -1 & b_{2} - 1\\end{matrix}\\right] = \\left[\\begin{matrix}1 & 0 & 0 & -1 & 0 & 0 & -1\\\\0 & 1 & 0 & a_{1} & -1 & c_{1} & a_{1} + c_{1} - 1\\\\0 & 0 & 1 & a_{2} & 0 & -1 & a_{2} - 1\\end{matrix}\\right]$"
      ],
      "text/plain": [
       "Eq(Matrix([\n",
       "[1, 0, 0, -1, b0, c0, b0 + c0 - 1],\n",
       "[0, 1, 0,  0, -1,  0,          -1],\n",
       "[0, 0, 1,  0, b2, -1,      b2 - 1]]), Matrix([\n",
       "[1, 0, 0, -1,  0,  0,          -1],\n",
       "[0, 1, 0, a1, -1, c1, a1 + c1 - 1],\n",
       "[0, 0, 1, a2,  0, -1,      a2 - 1]]))"
      ]
     },
     "metadata": {},
     "output_type": "display_data"
    },
    {
     "data": {
      "text/latex": [
       "$\\displaystyle \\text{True}$"
      ],
      "text/plain": [
       "True"
      ]
     },
     "execution_count": 527,
     "metadata": {},
     "output_type": "execute_result"
    }
   ],
   "source": [
    "i, j = 6, 9\n",
    "display(sp.Eq(fans[i], fans[j], evaluate=False))\n",
    "sp.Eq(fans[i].subs(b0,0).subs(c0,0).subs(b2,0), fans[j].subs(a1,0).subs(a2,0).subs(c1,0))"
   ]
  },
  {
   "cell_type": "markdown",
   "id": "cfb294bd-fc09-4b10-8c64-5d8dbfbf7115",
   "metadata": {
    "jp-MarkdownHeadingCollapsed": true
   },
   "source": [
    "### fan 7 ($a_1=0$, $a_2=0$, $b_0=0$, $c_0=0$)"
   ]
  },
  {
   "cell_type": "code",
   "execution_count": 532,
   "id": "be9ceb4a-6121-4913-b20e-668e04213c1b",
   "metadata": {},
   "outputs": [
    {
     "data": {
      "text/latex": [
       "$\\displaystyle \\left[\\begin{matrix}1 & 0 & 0 & -1 & b_{0} & c_{0} & b_{0} + c_{0} - 1\\\\0 & 1 & 0 & 0 & -1 & c_{1} & c_{1} - 1\\\\0 & 0 & 1 & 0 & 0 & -1 & -1\\end{matrix}\\right] = \\left[\\begin{matrix}1 & 0 & 0 & -1 & 0 & 0 & -1\\\\0 & 1 & 0 & a_{1} & -1 & c_{1} & a_{1} + c_{1} - 1\\\\0 & 0 & 1 & a_{2} & 0 & -1 & a_{2} - 1\\end{matrix}\\right]$"
      ],
      "text/plain": [
       "Eq(Matrix([\n",
       "[1, 0, 0, -1, b0, c0, b0 + c0 - 1],\n",
       "[0, 1, 0,  0, -1, c1,      c1 - 1],\n",
       "[0, 0, 1,  0,  0, -1,          -1]]), Matrix([\n",
       "[1, 0, 0, -1,  0,  0,          -1],\n",
       "[0, 1, 0, a1, -1, c1, a1 + c1 - 1],\n",
       "[0, 0, 1, a2,  0, -1,      a2 - 1]]))"
      ]
     },
     "metadata": {},
     "output_type": "display_data"
    },
    {
     "data": {
      "text/latex": [
       "$\\displaystyle \\text{True}$"
      ],
      "text/plain": [
       "True"
      ]
     },
     "execution_count": 532,
     "metadata": {},
     "output_type": "execute_result"
    }
   ],
   "source": [
    "i, j = 7, 9\n",
    "display(sp.Eq(fans[i], fans[j], evaluate=False))\n",
    "sp.Eq(fans[i].subs(b0,0).subs(c0,0), fans[j].subs(a1,0).subs(a2,0))"
   ]
  },
  {
   "cell_type": "markdown",
   "id": "6e68edca-7a3e-491b-b0b1-715cf0c6ad23",
   "metadata": {
    "jp-MarkdownHeadingCollapsed": true
   },
   "source": [
    "### fan 8 ($a_2=0$, $c_0=0$)"
   ]
  },
  {
   "cell_type": "code",
   "execution_count": 543,
   "id": "1dbe69b2-9217-41c5-81c4-97f0026883f1",
   "metadata": {},
   "outputs": [
    {
     "data": {
      "text/latex": [
       "$\\displaystyle \\left[\\begin{matrix}1 & 0 & 0 & -1 & 0 & c_{0} & c_{0} - 1\\\\0 & 1 & 0 & a_{1} & -1 & c_{1} & a_{1} + c_{1} - 1\\\\0 & 0 & 1 & 0 & 0 & -1 & -1\\end{matrix}\\right] = \\left[\\begin{matrix}1 & 0 & 0 & -1 & 0 & 0 & -1\\\\0 & 1 & 0 & a_{1} & -1 & c_{1} & a_{1} + c_{1} - 1\\\\0 & 0 & 1 & a_{2} & 0 & -1 & a_{2} - 1\\end{matrix}\\right]$"
      ],
      "text/plain": [
       "Eq(Matrix([\n",
       "[1, 0, 0, -1,  0, c0,      c0 - 1],\n",
       "[0, 1, 0, a1, -1, c1, a1 + c1 - 1],\n",
       "[0, 0, 1,  0,  0, -1,          -1]]), Matrix([\n",
       "[1, 0, 0, -1,  0,  0,          -1],\n",
       "[0, 1, 0, a1, -1, c1, a1 + c1 - 1],\n",
       "[0, 0, 1, a2,  0, -1,      a2 - 1]]))"
      ]
     },
     "metadata": {},
     "output_type": "display_data"
    },
    {
     "data": {
      "text/latex": [
       "$\\displaystyle \\text{True}$"
      ],
      "text/plain": [
       "True"
      ]
     },
     "execution_count": 543,
     "metadata": {},
     "output_type": "execute_result"
    }
   ],
   "source": [
    "i, j = 8, 9\n",
    "display(sp.Eq(fans[i], fans[j], evaluate=False))\n",
    "sp.Eq(fans[i].subs(c0,0), fans[j].subs(a2,0))"
   ]
  },
  {
   "cell_type": "markdown",
   "id": "de7bf37c-c234-4e90-b958-b288d66f4dc8",
   "metadata": {
    "jp-MarkdownHeadingCollapsed": true
   },
   "source": [
    "### fan 12 ($a_1=0$, $a_2=1$, $b_0=0$, $c_1=1$)"
   ]
  },
  {
   "cell_type": "code",
   "execution_count": 558,
   "id": "22c584a5-1712-4540-aa53-325e52e04df2",
   "metadata": {},
   "outputs": [
    {
     "data": {
      "text/latex": [
       "$\\displaystyle \\left[\\begin{matrix}1 & 0 & 0 & -1 & 0 & 0 & -1\\\\0 & 1 & 0 & a_{1} & -1 & c_{1} & a_{1} + c_{1} - 1\\\\0 & 0 & 1 & a_{2} & 0 & -1 & a_{2} - 1\\end{matrix}\\right] = \\left[\\begin{matrix}1 & 0 & 0 & -1 & b_{0} & 0 & -1\\\\0 & 1 & 0 & 0 & -1 & 1 & 0\\\\0 & 0 & 1 & 1 & 0 & -1 & 0\\end{matrix}\\right]$"
      ],
      "text/plain": [
       "Eq(Matrix([\n",
       "[1, 0, 0, -1,  0,  0,          -1],\n",
       "[0, 1, 0, a1, -1, c1, a1 + c1 - 1],\n",
       "[0, 0, 1, a2,  0, -1,      a2 - 1]]), Matrix([\n",
       "[1, 0, 0, -1, b0,  0, -1],\n",
       "[0, 1, 0,  0, -1,  1,  0],\n",
       "[0, 0, 1,  1,  0, -1,  0]]))"
      ]
     },
     "metadata": {},
     "output_type": "display_data"
    },
    {
     "data": {
      "text/latex": [
       "$\\displaystyle \\text{True}$"
      ],
      "text/plain": [
       "True"
      ]
     },
     "execution_count": 558,
     "metadata": {},
     "output_type": "execute_result"
    }
   ],
   "source": [
    "i, j = 9, 12\n",
    "display(sp.Eq(fans[i], fans[j], evaluate=False))\n",
    "sp.Eq(fans[i].subs(a1,0).subs(a2,1).subs(c1,1), fans[j].subs(b0,0))"
   ]
  },
  {
   "cell_type": "markdown",
   "id": "a0a13e4f-f590-4698-8bf6-dd9e22873baf",
   "metadata": {
    "jp-MarkdownHeadingCollapsed": true
   },
   "source": [
    "## fan 10"
   ]
  },
  {
   "cell_type": "markdown",
   "id": "62f3734e-ac93-4afa-a715-8be4606eaa56",
   "metadata": {
    "jp-MarkdownHeadingCollapsed": true
   },
   "source": [
    "### fan 8 ($a_1=1$, $b_2=0$, $c_0=1$, $c_1=0$)"
   ]
  },
  {
   "cell_type": "code",
   "execution_count": 546,
   "id": "6b6da5c2-dd70-4948-970e-eefa69ebd4e2",
   "metadata": {},
   "outputs": [
    {
     "data": {
      "text/latex": [
       "$\\displaystyle \\left[\\begin{matrix}1 & 0 & 0 & -1 & 0 & c_{0} & c_{0} - 1\\\\0 & 1 & 0 & a_{1} & -1 & c_{1} & a_{1} + c_{1} - 1\\\\0 & 0 & 1 & 0 & 0 & -1 & -1\\end{matrix}\\right] = \\left[\\begin{matrix}1 & 0 & 0 & -1 & 0 & 1 & 0\\\\0 & 1 & 0 & 1 & -1 & 0 & 0\\\\0 & 0 & 1 & 0 & b_{2} & -1 & -1\\end{matrix}\\right]$"
      ],
      "text/plain": [
       "Eq(Matrix([\n",
       "[1, 0, 0, -1,  0, c0,      c0 - 1],\n",
       "[0, 1, 0, a1, -1, c1, a1 + c1 - 1],\n",
       "[0, 0, 1,  0,  0, -1,          -1]]), Matrix([\n",
       "[1, 0, 0, -1,  0,  1,  0],\n",
       "[0, 1, 0,  1, -1,  0,  0],\n",
       "[0, 0, 1,  0, b2, -1, -1]]))"
      ]
     },
     "metadata": {},
     "output_type": "display_data"
    },
    {
     "data": {
      "text/latex": [
       "$\\displaystyle \\text{True}$"
      ],
      "text/plain": [
       "True"
      ]
     },
     "execution_count": 546,
     "metadata": {},
     "output_type": "execute_result"
    }
   ],
   "source": [
    "i, j = 8, 10\n",
    "display(sp.Eq(fans[i], fans[j], evaluate=False))\n",
    "sp.Eq(fans[i].subs(a1,1).subs(c0,1).subs(c1,0), fans[j].subs(b2,0))"
   ]
  },
  {
   "cell_type": "markdown",
   "id": "9edb385f-ab94-4479-b5b9-0615397933a0",
   "metadata": {
    "jp-MarkdownHeadingCollapsed": true
   },
   "source": [
    "### fan 15 ($b_2=1$, $d_0=0$, $d_1=0$)"
   ]
  },
  {
   "cell_type": "code",
   "execution_count": 565,
   "id": "3b14ae06-447d-421b-af5a-977454514402",
   "metadata": {},
   "outputs": [
    {
     "data": {
      "text/latex": [
       "$\\displaystyle \\left[\\begin{matrix}1 & 0 & 0 & -1 & 0 & 1 & 0\\\\0 & 1 & 0 & 1 & -1 & 0 & 0\\\\0 & 0 & 1 & 0 & b_{2} & -1 & -1\\end{matrix}\\right] = \\left[\\begin{matrix}1 & 0 & 0 & -1 & 0 & 1 & d_{0}\\\\0 & 1 & 0 & 1 & -1 & 0 & d_{1}\\\\0 & 0 & 1 & 0 & 1 & -1 & - d_{0} - d_{1} - 1\\end{matrix}\\right]$"
      ],
      "text/plain": [
       "Eq(Matrix([\n",
       "[1, 0, 0, -1,  0,  1,  0],\n",
       "[0, 1, 0,  1, -1,  0,  0],\n",
       "[0, 0, 1,  0, b2, -1, -1]]), Matrix([\n",
       "[1, 0, 0, -1,  0,  1,           d0],\n",
       "[0, 1, 0,  1, -1,  0,           d1],\n",
       "[0, 0, 1,  0,  1, -1, -d0 - d1 - 1]]))"
      ]
     },
     "metadata": {},
     "output_type": "display_data"
    },
    {
     "data": {
      "text/latex": [
       "$\\displaystyle \\text{True}$"
      ],
      "text/plain": [
       "True"
      ]
     },
     "execution_count": 565,
     "metadata": {},
     "output_type": "execute_result"
    }
   ],
   "source": [
    "i, j = 10, 15\n",
    "display(sp.Eq(fans[i], fans[j], evaluate=False))\n",
    "sp.Eq(fans[i].subs(b2,1), fans[j].subs(d0,0).subs(d1,0))"
   ]
  },
  {
   "cell_type": "markdown",
   "id": "2f37cbc9-7f79-4dfe-86fc-0291b140b743",
   "metadata": {
    "jp-MarkdownHeadingCollapsed": true
   },
   "source": [
    "## fan 11"
   ]
  },
  {
   "cell_type": "markdown",
   "id": "f383a108-833d-4f92-8b8a-60164ebd4fda",
   "metadata": {
    "jp-MarkdownHeadingCollapsed": true
   },
   "source": [
    "## fan 12"
   ]
  },
  {
   "cell_type": "markdown",
   "id": "f05868a3-ff80-432b-b6b8-bd99af1cc25a",
   "metadata": {
    "jp-MarkdownHeadingCollapsed": true
   },
   "source": [
    "### fan 9 ($a_1=0$, $a_2=1$, $b_0=0$, $c_1=1$)"
   ]
  },
  {
   "cell_type": "code",
   "execution_count": 558,
   "id": "bde3cad6-c2df-442b-92f2-d32593d06494",
   "metadata": {},
   "outputs": [
    {
     "data": {
      "text/latex": [
       "$\\displaystyle \\left[\\begin{matrix}1 & 0 & 0 & -1 & 0 & 0 & -1\\\\0 & 1 & 0 & a_{1} & -1 & c_{1} & a_{1} + c_{1} - 1\\\\0 & 0 & 1 & a_{2} & 0 & -1 & a_{2} - 1\\end{matrix}\\right] = \\left[\\begin{matrix}1 & 0 & 0 & -1 & b_{0} & 0 & -1\\\\0 & 1 & 0 & 0 & -1 & 1 & 0\\\\0 & 0 & 1 & 1 & 0 & -1 & 0\\end{matrix}\\right]$"
      ],
      "text/plain": [
       "Eq(Matrix([\n",
       "[1, 0, 0, -1,  0,  0,          -1],\n",
       "[0, 1, 0, a1, -1, c1, a1 + c1 - 1],\n",
       "[0, 0, 1, a2,  0, -1,      a2 - 1]]), Matrix([\n",
       "[1, 0, 0, -1, b0,  0, -1],\n",
       "[0, 1, 0,  0, -1,  1,  0],\n",
       "[0, 0, 1,  1,  0, -1,  0]]))"
      ]
     },
     "metadata": {},
     "output_type": "display_data"
    },
    {
     "data": {
      "text/latex": [
       "$\\displaystyle \\text{True}$"
      ],
      "text/plain": [
       "True"
      ]
     },
     "execution_count": 558,
     "metadata": {},
     "output_type": "execute_result"
    }
   ],
   "source": [
    "i, j = 9, 12\n",
    "display(sp.Eq(fans[i], fans[j], evaluate=False))\n",
    "sp.Eq(fans[i].subs(a1,0).subs(a2,1).subs(c1,1), fans[j].subs(b0,0))"
   ]
  },
  {
   "cell_type": "markdown",
   "id": "efa3232c-6b91-4b65-aec2-407bf39d0039",
   "metadata": {
    "jp-MarkdownHeadingCollapsed": true
   },
   "source": [
    "### fan 14 ($b_0=1$, $d_0=-1$, $d_1=0$)"
   ]
  },
  {
   "cell_type": "code",
   "execution_count": 576,
   "id": "1aff62fa-88b1-40dd-86cf-8c61fd52c305",
   "metadata": {},
   "outputs": [
    {
     "data": {
      "text/latex": [
       "$\\displaystyle \\left[\\begin{matrix}1 & 0 & 0 & -1 & b_{0} & 0 & -1\\\\0 & 1 & 0 & 0 & -1 & 1 & 0\\\\0 & 0 & 1 & 1 & 0 & -1 & 0\\end{matrix}\\right] = \\left[\\begin{matrix}1 & 0 & 0 & -1 & 1 & 0 & d_{0}\\\\0 & 1 & 0 & 0 & -1 & 1 & d_{1}\\\\0 & 0 & 1 & 1 & 0 & -1 & - d_{0} - d_{1} - 1\\end{matrix}\\right]$"
      ],
      "text/plain": [
       "Eq(Matrix([\n",
       "[1, 0, 0, -1, b0,  0, -1],\n",
       "[0, 1, 0,  0, -1,  1,  0],\n",
       "[0, 0, 1,  1,  0, -1,  0]]), Matrix([\n",
       "[1, 0, 0, -1,  1,  0,           d0],\n",
       "[0, 1, 0,  0, -1,  1,           d1],\n",
       "[0, 0, 1,  1,  0, -1, -d0 - d1 - 1]]))"
      ]
     },
     "metadata": {},
     "output_type": "display_data"
    },
    {
     "data": {
      "text/latex": [
       "$\\displaystyle \\text{True}$"
      ],
      "text/plain": [
       "True"
      ]
     },
     "execution_count": 576,
     "metadata": {},
     "output_type": "execute_result"
    }
   ],
   "source": [
    "i, j = 12, 14\n",
    "display(sp.Eq(fans[i], fans[j], evaluate=False))\n",
    "sp.Eq(fans[i].subs(b0,1), fans[j].subs(d0,-1).subs(d1,0))"
   ]
  },
  {
   "cell_type": "markdown",
   "id": "78a0ca7a-f258-4e51-b694-6712217e58be",
   "metadata": {
    "jp-MarkdownHeadingCollapsed": true
   },
   "source": [
    "## fan 13"
   ]
  },
  {
   "cell_type": "markdown",
   "id": "e0dda461-ca7f-44e8-8e58-12b3a679a35a",
   "metadata": {
    "jp-MarkdownHeadingCollapsed": true
   },
   "source": [
    "### fan 7 ($a_2=0$, $b_0=1$, $c_0=0$, $c_1=1$)"
   ]
  },
  {
   "cell_type": "code",
   "execution_count": 535,
   "id": "3731a62b-164c-44ff-9be1-99b48a2c9010",
   "metadata": {},
   "outputs": [
    {
     "data": {
      "text/latex": [
       "$\\displaystyle \\left[\\begin{matrix}1 & 0 & 0 & -1 & b_{0} & c_{0} & b_{0} + c_{0} - 1\\\\0 & 1 & 0 & 0 & -1 & c_{1} & c_{1} - 1\\\\0 & 0 & 1 & 0 & 0 & -1 & -1\\end{matrix}\\right] = \\left[\\begin{matrix}1 & 0 & 0 & -1 & 1 & 0 & 0\\\\0 & 1 & 0 & 0 & -1 & 1 & 0\\\\0 & 0 & 1 & a_{2} & 0 & -1 & -1\\end{matrix}\\right]$"
      ],
      "text/plain": [
       "Eq(Matrix([\n",
       "[1, 0, 0, -1, b0, c0, b0 + c0 - 1],\n",
       "[0, 1, 0,  0, -1, c1,      c1 - 1],\n",
       "[0, 0, 1,  0,  0, -1,          -1]]), Matrix([\n",
       "[1, 0, 0, -1,  1,  0,  0],\n",
       "[0, 1, 0,  0, -1,  1,  0],\n",
       "[0, 0, 1, a2,  0, -1, -1]]))"
      ]
     },
     "metadata": {},
     "output_type": "display_data"
    },
    {
     "data": {
      "text/latex": [
       "$\\displaystyle \\text{True}$"
      ],
      "text/plain": [
       "True"
      ]
     },
     "execution_count": 535,
     "metadata": {},
     "output_type": "execute_result"
    }
   ],
   "source": [
    "i, j = 7, 13\n",
    "display(sp.Eq(fans[i], fans[j], evaluate=False))\n",
    "sp.Eq(fans[i].subs(b0,1).subs(c0,0).subs(c1,1), fans[j].subs(a2,0))"
   ]
  },
  {
   "cell_type": "markdown",
   "id": "97ca8c5c-4a76-4534-8197-483da6fddb11",
   "metadata": {
    "jp-MarkdownHeadingCollapsed": true
   },
   "source": [
    "### fan 14 ($a_2=1$, $d_0=0$, $d_1=0$)"
   ]
  },
  {
   "cell_type": "code",
   "execution_count": 580,
   "id": "5db17dbe-0a62-4218-9de5-7237101a8b04",
   "metadata": {},
   "outputs": [
    {
     "data": {
      "text/latex": [
       "$\\displaystyle \\left[\\begin{matrix}1 & 0 & 0 & -1 & 1 & 0 & 0\\\\0 & 1 & 0 & 0 & -1 & 1 & 0\\\\0 & 0 & 1 & a_{2} & 0 & -1 & -1\\end{matrix}\\right] = \\left[\\begin{matrix}1 & 0 & 0 & -1 & 1 & 0 & d_{0}\\\\0 & 1 & 0 & 0 & -1 & 1 & d_{1}\\\\0 & 0 & 1 & 1 & 0 & -1 & - d_{0} - d_{1} - 1\\end{matrix}\\right]$"
      ],
      "text/plain": [
       "Eq(Matrix([\n",
       "[1, 0, 0, -1,  1,  0,  0],\n",
       "[0, 1, 0,  0, -1,  1,  0],\n",
       "[0, 0, 1, a2,  0, -1, -1]]), Matrix([\n",
       "[1, 0, 0, -1,  1,  0,           d0],\n",
       "[0, 1, 0,  0, -1,  1,           d1],\n",
       "[0, 0, 1,  1,  0, -1, -d0 - d1 - 1]]))"
      ]
     },
     "metadata": {},
     "output_type": "display_data"
    },
    {
     "data": {
      "text/latex": [
       "$\\displaystyle \\text{True}$"
      ],
      "text/plain": [
       "True"
      ]
     },
     "execution_count": 580,
     "metadata": {},
     "output_type": "execute_result"
    }
   ],
   "source": [
    "i, j = 13, 14\n",
    "display(sp.Eq(fans[i], fans[j], evaluate=False))\n",
    "sp.Eq(fans[i].subs(a2,1), fans[j].subs(d0,0).subs(d1,0))"
   ]
  },
  {
   "cell_type": "markdown",
   "id": "765f2bef-964e-44c3-a394-9b9c91a2918d",
   "metadata": {
    "jp-MarkdownHeadingCollapsed": true
   },
   "source": [
    "## fan 14"
   ]
  },
  {
   "cell_type": "markdown",
   "id": "bd366d5c-b21d-46f0-9c51-e786693eb64f",
   "metadata": {
    "jp-MarkdownHeadingCollapsed": true
   },
   "source": [
    "### fan 0 ($c_1=1$, $d_0=0$, $d_1=-1$)"
   ]
  },
  {
   "cell_type": "code",
   "execution_count": 410,
   "id": "6f78aa76-1756-443f-9833-e019c47443ba",
   "metadata": {},
   "outputs": [
    {
     "data": {
      "text/latex": [
       "$\\displaystyle \\left[\\begin{matrix}1 & 0 & 0 & -1 & 1 & 0 & 0\\\\0 & 1 & 0 & 0 & -1 & c_{1} & -1\\\\0 & 0 & 1 & 1 & 0 & -1 & 0\\end{matrix}\\right] = \\left[\\begin{matrix}1 & 0 & 0 & -1 & 1 & 0 & d_{0}\\\\0 & 1 & 0 & 0 & -1 & 1 & d_{1}\\\\0 & 0 & 1 & 1 & 0 & -1 & - d_{0} - d_{1} - 1\\end{matrix}\\right]$"
      ],
      "text/plain": [
       "Eq(Matrix([\n",
       "[1, 0, 0, -1,  1,  0,  0],\n",
       "[0, 1, 0,  0, -1, c1, -1],\n",
       "[0, 0, 1,  1,  0, -1,  0]]), Matrix([\n",
       "[1, 0, 0, -1,  1,  0,           d0],\n",
       "[0, 1, 0,  0, -1,  1,           d1],\n",
       "[0, 0, 1,  1,  0, -1, -d0 - d1 - 1]]))"
      ]
     },
     "metadata": {},
     "output_type": "display_data"
    },
    {
     "data": {
      "text/latex": [
       "$\\displaystyle \\text{True}$"
      ],
      "text/plain": [
       "True"
      ]
     },
     "execution_count": 410,
     "metadata": {},
     "output_type": "execute_result"
    }
   ],
   "source": [
    "display(sp.Eq(fans[0], fans[14], evaluate=False))\n",
    "sp.Eq(fans[0].subs(c1,1), fans[14].subs(d0,0).subs(d1,-1))"
   ]
  },
  {
   "cell_type": "markdown",
   "id": "667ed4f5-472d-4052-a1d0-cd2f96d5e5b2",
   "metadata": {
    "jp-MarkdownHeadingCollapsed": true
   },
   "source": [
    "### fan 12 ($b_0=1$, $d_0=-1$, $d_1=0$)"
   ]
  },
  {
   "cell_type": "code",
   "execution_count": 576,
   "id": "322f59fc-b58f-439f-ab84-866e8404c555",
   "metadata": {},
   "outputs": [
    {
     "data": {
      "text/latex": [
       "$\\displaystyle \\left[\\begin{matrix}1 & 0 & 0 & -1 & b_{0} & 0 & -1\\\\0 & 1 & 0 & 0 & -1 & 1 & 0\\\\0 & 0 & 1 & 1 & 0 & -1 & 0\\end{matrix}\\right] = \\left[\\begin{matrix}1 & 0 & 0 & -1 & 1 & 0 & d_{0}\\\\0 & 1 & 0 & 0 & -1 & 1 & d_{1}\\\\0 & 0 & 1 & 1 & 0 & -1 & - d_{0} - d_{1} - 1\\end{matrix}\\right]$"
      ],
      "text/plain": [
       "Eq(Matrix([\n",
       "[1, 0, 0, -1, b0,  0, -1],\n",
       "[0, 1, 0,  0, -1,  1,  0],\n",
       "[0, 0, 1,  1,  0, -1,  0]]), Matrix([\n",
       "[1, 0, 0, -1,  1,  0,           d0],\n",
       "[0, 1, 0,  0, -1,  1,           d1],\n",
       "[0, 0, 1,  1,  0, -1, -d0 - d1 - 1]]))"
      ]
     },
     "metadata": {},
     "output_type": "display_data"
    },
    {
     "data": {
      "text/latex": [
       "$\\displaystyle \\text{True}$"
      ],
      "text/plain": [
       "True"
      ]
     },
     "execution_count": 576,
     "metadata": {},
     "output_type": "execute_result"
    }
   ],
   "source": [
    "i, j = 12, 14\n",
    "display(sp.Eq(fans[i], fans[j], evaluate=False))\n",
    "sp.Eq(fans[i].subs(b0,1), fans[j].subs(d0,-1).subs(d1,0))"
   ]
  },
  {
   "cell_type": "markdown",
   "id": "4a02b15c-7183-4898-bc4f-d3034807f1d6",
   "metadata": {
    "jp-MarkdownHeadingCollapsed": true
   },
   "source": [
    "### fan 13 ($a_2=1$, $d_0=0$, $d_1=0$)"
   ]
  },
  {
   "cell_type": "code",
   "execution_count": 586,
   "id": "2b758ac0-5649-4496-bd76-855ef1ca2b4d",
   "metadata": {},
   "outputs": [
    {
     "data": {
      "text/latex": [
       "$\\displaystyle \\left[\\begin{matrix}1 & 0 & 0 & -1 & 1 & 0 & 0\\\\0 & 1 & 0 & 0 & -1 & 1 & 0\\\\0 & 0 & 1 & a_{2} & 0 & -1 & -1\\end{matrix}\\right] = \\left[\\begin{matrix}1 & 0 & 0 & -1 & 1 & 0 & d_{0}\\\\0 & 1 & 0 & 0 & -1 & 1 & d_{1}\\\\0 & 0 & 1 & 1 & 0 & -1 & - d_{0} - d_{1} - 1\\end{matrix}\\right]$"
      ],
      "text/plain": [
       "Eq(Matrix([\n",
       "[1, 0, 0, -1,  1,  0,  0],\n",
       "[0, 1, 0,  0, -1,  1,  0],\n",
       "[0, 0, 1, a2,  0, -1, -1]]), Matrix([\n",
       "[1, 0, 0, -1,  1,  0,           d0],\n",
       "[0, 1, 0,  0, -1,  1,           d1],\n",
       "[0, 0, 1,  1,  0, -1, -d0 - d1 - 1]]))"
      ]
     },
     "metadata": {},
     "output_type": "display_data"
    },
    {
     "data": {
      "text/latex": [
       "$\\displaystyle \\text{True}$"
      ],
      "text/plain": [
       "True"
      ]
     },
     "execution_count": 586,
     "metadata": {},
     "output_type": "execute_result"
    }
   ],
   "source": [
    "i, j = 13, 14\n",
    "display(sp.Eq(fans[i], fans[j], evaluate=False))\n",
    "sp.Eq(fans[i].subs(a2,1), fans[j].subs(d0,0).subs(d1,0))"
   ]
  },
  {
   "cell_type": "markdown",
   "id": "8777ba1c-955e-4d46-9e5a-d8a61adc13ef",
   "metadata": {
    "jp-MarkdownHeadingCollapsed": true
   },
   "source": [
    "## fan 15"
   ]
  },
  {
   "cell_type": "markdown",
   "id": "3e97e57a-9619-48a7-82f5-a225ddd2aaa9",
   "metadata": {
    "jp-MarkdownHeadingCollapsed": true
   },
   "source": [
    "### fan 2 ($c_0=1$, $d_0=-1$, $d_1=0$)"
   ]
  },
  {
   "cell_type": "code",
   "execution_count": 444,
   "id": "a8380710-3c84-4542-b1f7-a2291644cb5b",
   "metadata": {},
   "outputs": [
    {
     "data": {
      "text/latex": [
       "$\\displaystyle \\left[\\begin{matrix}1 & 0 & 0 & -1 & 0 & c_{0} & -1\\\\0 & 1 & 0 & 1 & -1 & 0 & 0\\\\0 & 0 & 1 & 0 & 1 & -1 & 0\\end{matrix}\\right] = \\left[\\begin{matrix}1 & 0 & 0 & -1 & 0 & 1 & d_{0}\\\\0 & 1 & 0 & 1 & -1 & 0 & d_{1}\\\\0 & 0 & 1 & 0 & 1 & -1 & - d_{0} - d_{1} - 1\\end{matrix}\\right]$"
      ],
      "text/plain": [
       "Eq(Matrix([\n",
       "[1, 0, 0, -1,  0, c0, -1],\n",
       "[0, 1, 0,  1, -1,  0,  0],\n",
       "[0, 0, 1,  0,  1, -1,  0]]), Matrix([\n",
       "[1, 0, 0, -1,  0,  1,           d0],\n",
       "[0, 1, 0,  1, -1,  0,           d1],\n",
       "[0, 0, 1,  0,  1, -1, -d0 - d1 - 1]]))"
      ]
     },
     "metadata": {},
     "output_type": "display_data"
    },
    {
     "data": {
      "text/latex": [
       "$\\displaystyle \\text{True}$"
      ],
      "text/plain": [
       "True"
      ]
     },
     "execution_count": 444,
     "metadata": {},
     "output_type": "execute_result"
    }
   ],
   "source": [
    "display(sp.Eq(fans[2], fans[15], evaluate=False))\n",
    "sp.Eq(fans[2].subs(c0,1), fans[15].subs(d0,-1).subs(d1,0))"
   ]
  },
  {
   "cell_type": "markdown",
   "id": "0420ca5d-7844-4660-8646-4427b34f9012",
   "metadata": {
    "jp-MarkdownHeadingCollapsed": true
   },
   "source": [
    "### fan 3 ($a_1=1$, $d_0=0$, $d_1=-1$)"
   ]
  },
  {
   "cell_type": "code",
   "execution_count": 461,
   "id": "b8c79f1a-f812-48da-a351-937b0b3ed9ac",
   "metadata": {},
   "outputs": [
    {
     "data": {
      "text/latex": [
       "$\\displaystyle \\left[\\begin{matrix}1 & 0 & 0 & -1 & 0 & 1 & 0\\\\0 & 1 & 0 & a_{1} & -1 & 0 & -1\\\\0 & 0 & 1 & 0 & 1 & -1 & 0\\end{matrix}\\right] = \\left[\\begin{matrix}1 & 0 & 0 & -1 & 0 & 1 & d_{0}\\\\0 & 1 & 0 & 1 & -1 & 0 & d_{1}\\\\0 & 0 & 1 & 0 & 1 & -1 & - d_{0} - d_{1} - 1\\end{matrix}\\right]$"
      ],
      "text/plain": [
       "Eq(Matrix([\n",
       "[1, 0, 0, -1,  0,  1,  0],\n",
       "[0, 1, 0, a1, -1,  0, -1],\n",
       "[0, 0, 1,  0,  1, -1,  0]]), Matrix([\n",
       "[1, 0, 0, -1,  0,  1,           d0],\n",
       "[0, 1, 0,  1, -1,  0,           d1],\n",
       "[0, 0, 1,  0,  1, -1, -d0 - d1 - 1]]))"
      ]
     },
     "metadata": {},
     "output_type": "display_data"
    },
    {
     "data": {
      "text/latex": [
       "$\\displaystyle \\text{True}$"
      ],
      "text/plain": [
       "True"
      ]
     },
     "execution_count": 461,
     "metadata": {},
     "output_type": "execute_result"
    }
   ],
   "source": [
    "i, j =3, 15\n",
    "display(sp.Eq(fans[i], fans[j], evaluate=False))\n",
    "sp.Eq(fans[i].subs(a1,1), fans[j].subs(d0,0).subs(d1,-1))"
   ]
  },
  {
   "cell_type": "markdown",
   "id": "0da1e44f-0c0c-4bbd-9e30-83de059317fc",
   "metadata": {
    "jp-MarkdownHeadingCollapsed": true
   },
   "source": [
    "### fan 10 ($b_2=1$, $d_0=0$, $d_1=0$)"
   ]
  },
  {
   "cell_type": "code",
   "execution_count": 565,
   "id": "65544973-c1d4-4aa5-bedf-3a1d9e7f6f50",
   "metadata": {},
   "outputs": [
    {
     "data": {
      "text/latex": [
       "$\\displaystyle \\left[\\begin{matrix}1 & 0 & 0 & -1 & 0 & 1 & 0\\\\0 & 1 & 0 & 1 & -1 & 0 & 0\\\\0 & 0 & 1 & 0 & b_{2} & -1 & -1\\end{matrix}\\right] = \\left[\\begin{matrix}1 & 0 & 0 & -1 & 0 & 1 & d_{0}\\\\0 & 1 & 0 & 1 & -1 & 0 & d_{1}\\\\0 & 0 & 1 & 0 & 1 & -1 & - d_{0} - d_{1} - 1\\end{matrix}\\right]$"
      ],
      "text/plain": [
       "Eq(Matrix([\n",
       "[1, 0, 0, -1,  0,  1,  0],\n",
       "[0, 1, 0,  1, -1,  0,  0],\n",
       "[0, 0, 1,  0, b2, -1, -1]]), Matrix([\n",
       "[1, 0, 0, -1,  0,  1,           d0],\n",
       "[0, 1, 0,  1, -1,  0,           d1],\n",
       "[0, 0, 1,  0,  1, -1, -d0 - d1 - 1]]))"
      ]
     },
     "metadata": {},
     "output_type": "display_data"
    },
    {
     "data": {
      "text/latex": [
       "$\\displaystyle \\text{True}$"
      ],
      "text/plain": [
       "True"
      ]
     },
     "execution_count": 565,
     "metadata": {},
     "output_type": "execute_result"
    }
   ],
   "source": [
    "i, j = 10, 15\n",
    "display(sp.Eq(fans[i], fans[j], evaluate=False))\n",
    "sp.Eq(fans[i].subs(b2,1), fans[j].subs(d0,0).subs(d1,0))"
   ]
  },
  {
   "cell_type": "markdown",
   "id": "da93a207-21fb-4722-8310-249a49f75f79",
   "metadata": {
    "jp-MarkdownHeadingCollapsed": true
   },
   "source": [
    "# There are 4 types of fans up to D-J equivalence and symmetry"
   ]
  },
  {
   "cell_type": "code",
   "execution_count": 313,
   "id": "3b64395c-048d-4f12-a16a-f40a8bb980eb",
   "metadata": {},
   "outputs": [
    {
     "data": {
      "text/plain": [
       "[[1, 2, 3, 4, 5, 6, 7],\n",
       " [1, 3, 2, 4, 6, 5, 7],\n",
       " [2, 1, 3, 5, 4, 6, 7],\n",
       " [2, 3, 1, 5, 6, 4, 7],\n",
       " [3, 1, 2, 6, 4, 5, 7],\n",
       " [3, 2, 1, 6, 5, 4, 7]]"
      ]
     },
     "execution_count": 313,
     "metadata": {},
     "output_type": "execute_result"
    }
   ],
   "source": [
    "K.symmetries"
   ]
  },
  {
   "cell_type": "code",
   "execution_count": 314,
   "id": "f22ca28c-009b-4fcc-8a07-ce43448da741",
   "metadata": {},
   "outputs": [],
   "source": [
    "symm_index = [(np.array(i)-1).tolist() for i in K.symmetries]"
   ]
  },
  {
   "cell_type": "markdown",
   "id": "8665dd42-12db-46b6-86c0-542affd83d34",
   "metadata": {
    "jp-MarkdownHeadingCollapsed": true
   },
   "source": [
    "## types 0, 2, 3, 10, 12, 13"
   ]
  },
  {
   "cell_type": "code",
   "execution_count": 334,
   "id": "fb4eb365-6081-4169-bd65-1fe3d78c4191",
   "metadata": {},
   "outputs": [
    {
     "data": {
      "text/latex": [
       "$\\displaystyle \\left[\\begin{matrix}1 & 0 & 0 & -1 & 0 & 1 & 0\\\\0 & 1 & 0 & 1 & -1 & 0 & 0\\\\0 & 0 & 1 & 0 & c_{1} & -1 & -1\\end{matrix}\\right]$"
      ],
      "text/plain": [
       "Matrix([\n",
       "[1, 0, 0, -1,  0,  1,  0],\n",
       "[0, 1, 0,  1, -1,  0,  0],\n",
       "[0, 0, 1,  0, c1, -1, -1]])"
      ]
     },
     "metadata": {},
     "output_type": "display_data"
    },
    {
     "data": {
      "text/latex": [
       "$\\displaystyle \\left[\\begin{matrix}1 & 0 & 0 & -1 & 0 & 1 & 0\\\\0 & 1 & 0 & 1 & -1 & 0 & 0\\\\0 & 0 & 1 & 0 & b_{2} & -1 & -1\\end{matrix}\\right]$"
      ],
      "text/plain": [
       "Matrix([\n",
       "[1, 0, 0, -1,  0,  1,  0],\n",
       "[0, 1, 0,  1, -1,  0,  0],\n",
       "[0, 0, 1,  0, b2, -1, -1]])"
      ]
     },
     "metadata": {},
     "output_type": "display_data"
    }
   ],
   "source": [
    "display(fans[0][:, symm_index[1]].rref()[0])\n",
    "display(fans[10])"
   ]
  },
  {
   "cell_type": "code",
   "execution_count": 335,
   "id": "ac1061ee-793a-492c-9852-f97de73ac55a",
   "metadata": {},
   "outputs": [
    {
     "data": {
      "text/latex": [
       "$\\displaystyle \\left[\\begin{matrix}1 & 0 & 0 & -1 & 0 & c_{1} & -1\\\\0 & 1 & 0 & 1 & -1 & 0 & 0\\\\0 & 0 & 1 & 0 & 1 & -1 & 0\\end{matrix}\\right]$"
      ],
      "text/plain": [
       "Matrix([\n",
       "[1, 0, 0, -1,  0, c1, -1],\n",
       "[0, 1, 0,  1, -1,  0,  0],\n",
       "[0, 0, 1,  0,  1, -1,  0]])"
      ]
     },
     "metadata": {},
     "output_type": "display_data"
    },
    {
     "data": {
      "text/latex": [
       "$\\displaystyle \\left[\\begin{matrix}1 & 0 & 0 & -1 & 0 & c_{0} & -1\\\\0 & 1 & 0 & 1 & -1 & 0 & 0\\\\0 & 0 & 1 & 0 & 1 & -1 & 0\\end{matrix}\\right]$"
      ],
      "text/plain": [
       "Matrix([\n",
       "[1, 0, 0, -1,  0, c0, -1],\n",
       "[0, 1, 0,  1, -1,  0,  0],\n",
       "[0, 0, 1,  0,  1, -1,  0]])"
      ]
     },
     "metadata": {},
     "output_type": "display_data"
    }
   ],
   "source": [
    "display(fans[0][:, symm_index[2]].rref()[0])\n",
    "display(fans[2])"
   ]
  },
  {
   "cell_type": "code",
   "execution_count": 339,
   "id": "ba0d06c7-fa25-46a7-b5eb-a8e51fa7eefc",
   "metadata": {},
   "outputs": [
    {
     "data": {
      "text/latex": [
       "$\\displaystyle \\left[\\begin{matrix}1 & 0 & 0 & -1 & c_{1} & 0 & -1\\\\0 & 1 & 0 & 0 & -1 & 1 & 0\\\\0 & 0 & 1 & 1 & 0 & -1 & 0\\end{matrix}\\right]$"
      ],
      "text/plain": [
       "Matrix([\n",
       "[1, 0, 0, -1, c1,  0, -1],\n",
       "[0, 1, 0,  0, -1,  1,  0],\n",
       "[0, 0, 1,  1,  0, -1,  0]])"
      ]
     },
     "metadata": {},
     "output_type": "display_data"
    },
    {
     "data": {
      "text/latex": [
       "$\\displaystyle \\left[\\begin{matrix}1 & 0 & 0 & -1 & b_{0} & 0 & -1\\\\0 & 1 & 0 & 0 & -1 & 1 & 0\\\\0 & 0 & 1 & 1 & 0 & -1 & 0\\end{matrix}\\right]$"
      ],
      "text/plain": [
       "Matrix([\n",
       "[1, 0, 0, -1, b0,  0, -1],\n",
       "[0, 1, 0,  0, -1,  1,  0],\n",
       "[0, 0, 1,  1,  0, -1,  0]])"
      ]
     },
     "metadata": {},
     "output_type": "display_data"
    }
   ],
   "source": [
    "display(fans[0][:, symm_index[3]].rref()[0])\n",
    "display(fans[12])"
   ]
  },
  {
   "cell_type": "code",
   "execution_count": 344,
   "id": "c54c63e7-e5cc-4886-919d-84a89d2a1915",
   "metadata": {},
   "outputs": [
    {
     "data": {
      "text/latex": [
       "$\\displaystyle \\left[\\begin{matrix}1 & 0 & 0 & -1 & 1 & 0 & 0\\\\0 & 1 & 0 & 0 & -1 & 1 & 0\\\\0 & 0 & 1 & c_{1} & 0 & -1 & -1\\end{matrix}\\right]$"
      ],
      "text/plain": [
       "Matrix([\n",
       "[1, 0, 0, -1,  1,  0,  0],\n",
       "[0, 1, 0,  0, -1,  1,  0],\n",
       "[0, 0, 1, c1,  0, -1, -1]])"
      ]
     },
     "metadata": {},
     "output_type": "display_data"
    },
    {
     "data": {
      "text/latex": [
       "$\\displaystyle \\left[\\begin{matrix}1 & 0 & 0 & -1 & 1 & 0 & 0\\\\0 & 1 & 0 & 0 & -1 & 1 & 0\\\\0 & 0 & 1 & a_{2} & 0 & -1 & -1\\end{matrix}\\right]$"
      ],
      "text/plain": [
       "Matrix([\n",
       "[1, 0, 0, -1,  1,  0,  0],\n",
       "[0, 1, 0,  0, -1,  1,  0],\n",
       "[0, 0, 1, a2,  0, -1, -1]])"
      ]
     },
     "metadata": {},
     "output_type": "display_data"
    }
   ],
   "source": [
    "display(fans[0][:, symm_index[4]].rref()[0])\n",
    "display(fans[13])"
   ]
  },
  {
   "cell_type": "code",
   "execution_count": 348,
   "id": "3f36b641-3e65-4805-a017-885c21596cba",
   "metadata": {},
   "outputs": [
    {
     "data": {
      "text/latex": [
       "$\\displaystyle \\left[\\begin{matrix}1 & 0 & 0 & -1 & 0 & 1 & 0\\\\0 & 1 & 0 & c_{1} & -1 & 0 & -1\\\\0 & 0 & 1 & 0 & 1 & -1 & 0\\end{matrix}\\right]$"
      ],
      "text/plain": [
       "Matrix([\n",
       "[1, 0, 0, -1,  0,  1,  0],\n",
       "[0, 1, 0, c1, -1,  0, -1],\n",
       "[0, 0, 1,  0,  1, -1,  0]])"
      ]
     },
     "metadata": {},
     "output_type": "display_data"
    },
    {
     "data": {
      "text/latex": [
       "$\\displaystyle \\left[\\begin{matrix}1 & 0 & 0 & -1 & 0 & 1 & 0\\\\0 & 1 & 0 & a_{1} & -1 & 0 & -1\\\\0 & 0 & 1 & 0 & 1 & -1 & 0\\end{matrix}\\right]$"
      ],
      "text/plain": [
       "Matrix([\n",
       "[1, 0, 0, -1,  0,  1,  0],\n",
       "[0, 1, 0, a1, -1,  0, -1],\n",
       "[0, 0, 1,  0,  1, -1,  0]])"
      ]
     },
     "metadata": {},
     "output_type": "display_data"
    }
   ],
   "source": [
    "display(fans[0][:, symm_index[5]].rref()[0])\n",
    "display(fans[3])"
   ]
  },
  {
   "cell_type": "markdown",
   "id": "9f43fe09-8524-46a0-82f2-9e7e0ab1ca71",
   "metadata": {
    "jp-MarkdownHeadingCollapsed": true
   },
   "source": [
    "## types 1, 11"
   ]
  },
  {
   "cell_type": "code",
   "execution_count": 353,
   "id": "c06cde6b-a3fe-431c-9168-e4c614cce444",
   "metadata": {},
   "outputs": [
    {
     "data": {
      "text/latex": [
       "$\\displaystyle \\left[\\begin{matrix}1 & 0 & 0 & -1 & 0 & -1 & -1\\\\0 & 1 & 0 & -1 & -1 & 0 & -1\\\\0 & 0 & 1 & 0 & -1 & -1 & -1\\end{matrix}\\right]$"
      ],
      "text/plain": [
       "Matrix([\n",
       "[1, 0, 0, -1,  0, -1, -1],\n",
       "[0, 1, 0, -1, -1,  0, -1],\n",
       "[0, 0, 1,  0, -1, -1, -1]])"
      ]
     },
     "metadata": {},
     "output_type": "display_data"
    },
    {
     "data": {
      "text/latex": [
       "$\\displaystyle \\left[\\begin{matrix}1 & 0 & 0 & -1 & 0 & -1 & -1\\\\0 & 1 & 0 & -1 & -1 & 0 & -1\\\\0 & 0 & 1 & 0 & -1 & -1 & -1\\end{matrix}\\right]$"
      ],
      "text/plain": [
       "Matrix([\n",
       "[1, 0, 0, -1,  0, -1, -1],\n",
       "[0, 1, 0, -1, -1,  0, -1],\n",
       "[0, 0, 1,  0, -1, -1, -1]])"
      ]
     },
     "metadata": {},
     "output_type": "display_data"
    }
   ],
   "source": [
    "display(fans[1][:, symm_index[1]].rref()[0])\n",
    "display(fans[11])"
   ]
  },
  {
   "cell_type": "code",
   "execution_count": 355,
   "id": "2eedb8af-7801-4678-91c2-abc04b8ee5f9",
   "metadata": {},
   "outputs": [
    {
     "data": {
      "text/latex": [
       "$\\displaystyle \\left[\\begin{matrix}1 & 0 & 0 & -1 & 0 & -1 & -1\\\\0 & 1 & 0 & -1 & -1 & 0 & -1\\\\0 & 0 & 1 & 0 & -1 & -1 & -1\\end{matrix}\\right]$"
      ],
      "text/plain": [
       "Matrix([\n",
       "[1, 0, 0, -1,  0, -1, -1],\n",
       "[0, 1, 0, -1, -1,  0, -1],\n",
       "[0, 0, 1,  0, -1, -1, -1]])"
      ]
     },
     "metadata": {},
     "output_type": "display_data"
    },
    {
     "data": {
      "text/latex": [
       "$\\displaystyle \\left[\\begin{matrix}1 & 0 & 0 & -1 & 0 & -1 & -1\\\\0 & 1 & 0 & -1 & -1 & 0 & -1\\\\0 & 0 & 1 & 0 & -1 & -1 & -1\\end{matrix}\\right]$"
      ],
      "text/plain": [
       "Matrix([\n",
       "[1, 0, 0, -1,  0, -1, -1],\n",
       "[0, 1, 0, -1, -1,  0, -1],\n",
       "[0, 0, 1,  0, -1, -1, -1]])"
      ]
     },
     "metadata": {},
     "output_type": "display_data"
    }
   ],
   "source": [
    "display(fans[1][:, symm_index[2]].rref()[0])\n",
    "display(fans[11])"
   ]
  },
  {
   "cell_type": "code",
   "execution_count": 358,
   "id": "33e8f697-33d1-4a36-854e-7433fe2e825d",
   "metadata": {},
   "outputs": [
    {
     "data": {
      "text/latex": [
       "$\\displaystyle \\left[\\begin{matrix}1 & 0 & 0 & -1 & -1 & 0 & -1\\\\0 & 1 & 0 & 0 & -1 & -1 & -1\\\\0 & 0 & 1 & -1 & 0 & -1 & -1\\end{matrix}\\right]$"
      ],
      "text/plain": [
       "Matrix([\n",
       "[1, 0, 0, -1, -1,  0, -1],\n",
       "[0, 1, 0,  0, -1, -1, -1],\n",
       "[0, 0, 1, -1,  0, -1, -1]])"
      ]
     },
     "metadata": {},
     "output_type": "display_data"
    },
    {
     "data": {
      "text/latex": [
       "$\\displaystyle \\left[\\begin{matrix}1 & 0 & 0 & -1 & -1 & 0 & -1\\\\0 & 1 & 0 & 0 & -1 & -1 & -1\\\\0 & 0 & 1 & -1 & 0 & -1 & -1\\end{matrix}\\right]$"
      ],
      "text/plain": [
       "Matrix([\n",
       "[1, 0, 0, -1, -1,  0, -1],\n",
       "[0, 1, 0,  0, -1, -1, -1],\n",
       "[0, 0, 1, -1,  0, -1, -1]])"
      ]
     },
     "metadata": {},
     "output_type": "display_data"
    }
   ],
   "source": [
    "display(fans[1][:, symm_index[3]].rref()[0])\n",
    "display(fans[1])"
   ]
  },
  {
   "cell_type": "code",
   "execution_count": 360,
   "id": "0aaa70d2-ef39-4875-b145-33f8e4b833ab",
   "metadata": {},
   "outputs": [
    {
     "data": {
      "text/latex": [
       "$\\displaystyle \\left[\\begin{matrix}1 & 0 & 0 & -1 & -1 & 0 & -1\\\\0 & 1 & 0 & 0 & -1 & -1 & -1\\\\0 & 0 & 1 & -1 & 0 & -1 & -1\\end{matrix}\\right]$"
      ],
      "text/plain": [
       "Matrix([\n",
       "[1, 0, 0, -1, -1,  0, -1],\n",
       "[0, 1, 0,  0, -1, -1, -1],\n",
       "[0, 0, 1, -1,  0, -1, -1]])"
      ]
     },
     "metadata": {},
     "output_type": "display_data"
    },
    {
     "data": {
      "text/latex": [
       "$\\displaystyle \\left[\\begin{matrix}1 & 0 & 0 & -1 & -1 & 0 & -1\\\\0 & 1 & 0 & 0 & -1 & -1 & -1\\\\0 & 0 & 1 & -1 & 0 & -1 & -1\\end{matrix}\\right]$"
      ],
      "text/plain": [
       "Matrix([\n",
       "[1, 0, 0, -1, -1,  0, -1],\n",
       "[0, 1, 0,  0, -1, -1, -1],\n",
       "[0, 0, 1, -1,  0, -1, -1]])"
      ]
     },
     "metadata": {},
     "output_type": "display_data"
    }
   ],
   "source": [
    "display(fans[1][:, symm_index[4]].rref()[0])\n",
    "display(fans[1])"
   ]
  },
  {
   "cell_type": "code",
   "execution_count": 362,
   "id": "faa08ae0-a292-436b-bbc1-ed714b69b088",
   "metadata": {},
   "outputs": [
    {
     "data": {
      "text/latex": [
       "$\\displaystyle \\left[\\begin{matrix}1 & 0 & 0 & -1 & 0 & -1 & -1\\\\0 & 1 & 0 & -1 & -1 & 0 & -1\\\\0 & 0 & 1 & 0 & -1 & -1 & -1\\end{matrix}\\right]$"
      ],
      "text/plain": [
       "Matrix([\n",
       "[1, 0, 0, -1,  0, -1, -1],\n",
       "[0, 1, 0, -1, -1,  0, -1],\n",
       "[0, 0, 1,  0, -1, -1, -1]])"
      ]
     },
     "metadata": {},
     "output_type": "display_data"
    },
    {
     "data": {
      "text/latex": [
       "$\\displaystyle \\left[\\begin{matrix}1 & 0 & 0 & -1 & 0 & -1 & -1\\\\0 & 1 & 0 & -1 & -1 & 0 & -1\\\\0 & 0 & 1 & 0 & -1 & -1 & -1\\end{matrix}\\right]$"
      ],
      "text/plain": [
       "Matrix([\n",
       "[1, 0, 0, -1,  0, -1, -1],\n",
       "[0, 1, 0, -1, -1,  0, -1],\n",
       "[0, 0, 1,  0, -1, -1, -1]])"
      ]
     },
     "metadata": {},
     "output_type": "display_data"
    }
   ],
   "source": [
    "display(fans[1][:, symm_index[5]].rref()[0])\n",
    "display(fans[11])"
   ]
  },
  {
   "cell_type": "markdown",
   "id": "d5b642fa-dd45-4120-bda5-c65e8db8dfd6",
   "metadata": {
    "jp-MarkdownHeadingCollapsed": true
   },
   "source": [
    "## types 4, 5, 6, 7, 8, 9"
   ]
  },
  {
   "cell_type": "code",
   "execution_count": 367,
   "id": "0f56b9ab-8e7b-45fe-b49a-36200f498271",
   "metadata": {},
   "outputs": [
    {
     "data": {
      "text/latex": [
       "$\\displaystyle \\left[\\begin{matrix}1 & 0 & 0 & -1 & 0 & b_{0} & b_{0} - 1\\\\0 & 1 & 0 & a_{2} & -1 & b_{2} & a_{2} + b_{2} - 1\\\\0 & 0 & 1 & 0 & 0 & -1 & -1\\end{matrix}\\right]$"
      ],
      "text/plain": [
       "Matrix([\n",
       "[1, 0, 0, -1,  0, b0,      b0 - 1],\n",
       "[0, 1, 0, a2, -1, b2, a2 + b2 - 1],\n",
       "[0, 0, 1,  0,  0, -1,          -1]])"
      ]
     },
     "metadata": {},
     "output_type": "display_data"
    },
    {
     "data": {
      "text/latex": [
       "$\\displaystyle \\left[\\begin{matrix}1 & 0 & 0 & -1 & 0 & c_{0} & c_{0} - 1\\\\0 & 1 & 0 & a_{1} & -1 & c_{1} & a_{1} + c_{1} - 1\\\\0 & 0 & 1 & 0 & 0 & -1 & -1\\end{matrix}\\right]$"
      ],
      "text/plain": [
       "Matrix([\n",
       "[1, 0, 0, -1,  0, c0,      c0 - 1],\n",
       "[0, 1, 0, a1, -1, c1, a1 + c1 - 1],\n",
       "[0, 0, 1,  0,  0, -1,          -1]])"
      ]
     },
     "metadata": {},
     "output_type": "display_data"
    }
   ],
   "source": [
    "display(fans[4][:, symm_index[1]].rref()[0])\n",
    "display(fans[8])"
   ]
  },
  {
   "cell_type": "code",
   "execution_count": 370,
   "id": "e265edcf-c8bb-4bad-bfb9-e381edee4900",
   "metadata": {},
   "outputs": [
    {
     "data": {
      "text/latex": [
       "$\\displaystyle \\left[\\begin{matrix}1 & 0 & 0 & -1 & 0 & 0 & -1\\\\0 & 1 & 0 & b_{0} & -1 & 0 & b_{0} - 1\\\\0 & 0 & 1 & b_{2} & a_{2} & -1 & a_{2} + b_{2} - 1\\end{matrix}\\right]$"
      ],
      "text/plain": [
       "Matrix([\n",
       "[1, 0, 0, -1,  0,  0,          -1],\n",
       "[0, 1, 0, b0, -1,  0,      b0 - 1],\n",
       "[0, 0, 1, b2, a2, -1, a2 + b2 - 1]])"
      ]
     },
     "metadata": {},
     "output_type": "display_data"
    },
    {
     "data": {
      "text/latex": [
       "$\\displaystyle \\left[\\begin{matrix}1 & 0 & 0 & -1 & 0 & 0 & -1\\\\0 & 1 & 0 & a_{1} & -1 & 0 & a_{1} - 1\\\\0 & 0 & 1 & a_{2} & b_{2} & -1 & a_{2} + b_{2} - 1\\end{matrix}\\right]$"
      ],
      "text/plain": [
       "Matrix([\n",
       "[1, 0, 0, -1,  0,  0,          -1],\n",
       "[0, 1, 0, a1, -1,  0,      a1 - 1],\n",
       "[0, 0, 1, a2, b2, -1, a2 + b2 - 1]])"
      ]
     },
     "metadata": {},
     "output_type": "display_data"
    }
   ],
   "source": [
    "display(fans[4][:, symm_index[2]].rref()[0])\n",
    "display(fans[5])"
   ]
  },
  {
   "cell_type": "code",
   "execution_count": 374,
   "id": "fd3efd82-f5c5-4a1c-a612-a0b61c46df62",
   "metadata": {},
   "outputs": [
    {
     "data": {
      "text/latex": [
       "$\\displaystyle \\left[\\begin{matrix}1 & 0 & 0 & -1 & 0 & 0 & -1\\\\0 & 1 & 0 & b_{2} & -1 & a_{2} & a_{2} + b_{2} - 1\\\\0 & 0 & 1 & b_{0} & 0 & -1 & b_{0} - 1\\end{matrix}\\right]$"
      ],
      "text/plain": [
       "Matrix([\n",
       "[1, 0, 0, -1,  0,  0,          -1],\n",
       "[0, 1, 0, b2, -1, a2, a2 + b2 - 1],\n",
       "[0, 0, 1, b0,  0, -1,      b0 - 1]])"
      ]
     },
     "metadata": {},
     "output_type": "display_data"
    },
    {
     "data": {
      "text/latex": [
       "$\\displaystyle \\left[\\begin{matrix}1 & 0 & 0 & -1 & 0 & 0 & -1\\\\0 & 1 & 0 & a_{1} & -1 & c_{1} & a_{1} + c_{1} - 1\\\\0 & 0 & 1 & a_{2} & 0 & -1 & a_{2} - 1\\end{matrix}\\right]$"
      ],
      "text/plain": [
       "Matrix([\n",
       "[1, 0, 0, -1,  0,  0,          -1],\n",
       "[0, 1, 0, a1, -1, c1, a1 + c1 - 1],\n",
       "[0, 0, 1, a2,  0, -1,      a2 - 1]])"
      ]
     },
     "metadata": {},
     "output_type": "display_data"
    }
   ],
   "source": [
    "display(fans[4][:, symm_index[3]].rref()[0])\n",
    "display(fans[9])"
   ]
  },
  {
   "cell_type": "code",
   "execution_count": 376,
   "id": "39eff4b4-f753-4f8f-a371-2c5aa43eef6b",
   "metadata": {},
   "outputs": [
    {
     "data": {
      "text/latex": [
       "$\\displaystyle \\left[\\begin{matrix}1 & 0 & 0 & -1 & a_{2} & b_{2} & a_{2} + b_{2} - 1\\\\0 & 1 & 0 & 0 & -1 & b_{0} & b_{0} - 1\\\\0 & 0 & 1 & 0 & 0 & -1 & -1\\end{matrix}\\right]$"
      ],
      "text/plain": [
       "Matrix([\n",
       "[1, 0, 0, -1, a2, b2, a2 + b2 - 1],\n",
       "[0, 1, 0,  0, -1, b0,      b0 - 1],\n",
       "[0, 0, 1,  0,  0, -1,          -1]])"
      ]
     },
     "metadata": {},
     "output_type": "display_data"
    },
    {
     "data": {
      "text/latex": [
       "$\\displaystyle \\left[\\begin{matrix}1 & 0 & 0 & -1 & b_{0} & c_{0} & b_{0} + c_{0} - 1\\\\0 & 1 & 0 & 0 & -1 & c_{1} & c_{1} - 1\\\\0 & 0 & 1 & 0 & 0 & -1 & -1\\end{matrix}\\right]$"
      ],
      "text/plain": [
       "Matrix([\n",
       "[1, 0, 0, -1, b0, c0, b0 + c0 - 1],\n",
       "[0, 1, 0,  0, -1, c1,      c1 - 1],\n",
       "[0, 0, 1,  0,  0, -1,          -1]])"
      ]
     },
     "metadata": {},
     "output_type": "display_data"
    }
   ],
   "source": [
    "display(fans[4][:, symm_index[4]].rref()[0])\n",
    "display(fans[7])"
   ]
  },
  {
   "cell_type": "code",
   "execution_count": 377,
   "id": "dd339f0c-8fa7-4088-9355-23d19fcc6829",
   "metadata": {},
   "outputs": [
    {
     "data": {
      "text/latex": [
       "$\\displaystyle \\left[\\begin{matrix}1 & 0 & 0 & -1 & b_{2} & a_{2} & a_{2} + b_{2} - 1\\\\0 & 1 & 0 & 0 & -1 & 0 & -1\\\\0 & 0 & 1 & 0 & b_{0} & -1 & b_{0} - 1\\end{matrix}\\right]$"
      ],
      "text/plain": [
       "Matrix([\n",
       "[1, 0, 0, -1, b2, a2, a2 + b2 - 1],\n",
       "[0, 1, 0,  0, -1,  0,          -1],\n",
       "[0, 0, 1,  0, b0, -1,      b0 - 1]])"
      ]
     },
     "metadata": {},
     "output_type": "display_data"
    },
    {
     "data": {
      "text/latex": [
       "$\\displaystyle \\left[\\begin{matrix}1 & 0 & 0 & -1 & b_{0} & c_{0} & b_{0} + c_{0} - 1\\\\0 & 1 & 0 & 0 & -1 & 0 & -1\\\\0 & 0 & 1 & 0 & b_{2} & -1 & b_{2} - 1\\end{matrix}\\right]$"
      ],
      "text/plain": [
       "Matrix([\n",
       "[1, 0, 0, -1, b0, c0, b0 + c0 - 1],\n",
       "[0, 1, 0,  0, -1,  0,          -1],\n",
       "[0, 0, 1,  0, b2, -1,      b2 - 1]])"
      ]
     },
     "metadata": {},
     "output_type": "display_data"
    }
   ],
   "source": [
    "display(fans[4][:, symm_index[5]].rref()[0])\n",
    "display(fans[6])"
   ]
  },
  {
   "cell_type": "markdown",
   "id": "1f0b5a60-af8b-46e1-845a-e2450d0efb43",
   "metadata": {
    "jp-MarkdownHeadingCollapsed": true
   },
   "source": [
    "## types 14, 15"
   ]
  },
  {
   "cell_type": "code",
   "execution_count": 380,
   "id": "1d668fd6-0080-4225-876f-9849310b8019",
   "metadata": {},
   "outputs": [
    {
     "data": {
      "text/latex": [
       "$\\displaystyle \\left[\\begin{matrix}1 & 0 & 0 & -1 & 0 & 1 & d_{0}\\\\0 & 1 & 0 & 1 & -1 & 0 & - d_{0} - d_{1} - 1\\\\0 & 0 & 1 & 0 & 1 & -1 & d_{1}\\end{matrix}\\right]$"
      ],
      "text/plain": [
       "Matrix([\n",
       "[1, 0, 0, -1,  0,  1,           d0],\n",
       "[0, 1, 0,  1, -1,  0, -d0 - d1 - 1],\n",
       "[0, 0, 1,  0,  1, -1,           d1]])"
      ]
     },
     "metadata": {},
     "output_type": "display_data"
    },
    {
     "data": {
      "text/latex": [
       "$\\displaystyle \\left[\\begin{matrix}1 & 0 & 0 & -1 & 0 & 1 & d_{0}\\\\0 & 1 & 0 & 1 & -1 & 0 & d_{1}\\\\0 & 0 & 1 & 0 & 1 & -1 & - d_{0} - d_{1} - 1\\end{matrix}\\right]$"
      ],
      "text/plain": [
       "Matrix([\n",
       "[1, 0, 0, -1,  0,  1,           d0],\n",
       "[0, 1, 0,  1, -1,  0,           d1],\n",
       "[0, 0, 1,  0,  1, -1, -d0 - d1 - 1]])"
      ]
     },
     "metadata": {},
     "output_type": "display_data"
    }
   ],
   "source": [
    "display(fans[14][:, symm_index[1]].rref()[0])\n",
    "display(fans[15])"
   ]
  },
  {
   "cell_type": "code",
   "execution_count": 381,
   "id": "dc5cb18b-ba0a-4ad2-b200-a3eecf105ae5",
   "metadata": {},
   "outputs": [
    {
     "data": {
      "text/latex": [
       "$\\displaystyle \\left[\\begin{matrix}1 & 0 & 0 & -1 & 0 & 1 & d_{1}\\\\0 & 1 & 0 & 1 & -1 & 0 & d_{0}\\\\0 & 0 & 1 & 0 & 1 & -1 & - d_{0} - d_{1} - 1\\end{matrix}\\right]$"
      ],
      "text/plain": [
       "Matrix([\n",
       "[1, 0, 0, -1,  0,  1,           d1],\n",
       "[0, 1, 0,  1, -1,  0,           d0],\n",
       "[0, 0, 1,  0,  1, -1, -d0 - d1 - 1]])"
      ]
     },
     "metadata": {},
     "output_type": "display_data"
    },
    {
     "data": {
      "text/latex": [
       "$\\displaystyle \\left[\\begin{matrix}1 & 0 & 0 & -1 & 0 & 1 & d_{0}\\\\0 & 1 & 0 & 1 & -1 & 0 & d_{1}\\\\0 & 0 & 1 & 0 & 1 & -1 & - d_{0} - d_{1} - 1\\end{matrix}\\right]$"
      ],
      "text/plain": [
       "Matrix([\n",
       "[1, 0, 0, -1,  0,  1,           d0],\n",
       "[0, 1, 0,  1, -1,  0,           d1],\n",
       "[0, 0, 1,  0,  1, -1, -d0 - d1 - 1]])"
      ]
     },
     "metadata": {},
     "output_type": "display_data"
    }
   ],
   "source": [
    "display(fans[14][:, symm_index[2]].rref()[0])\n",
    "display(fans[15])"
   ]
  },
  {
   "cell_type": "code",
   "execution_count": 384,
   "id": "e76b43ca-0d5e-4ec0-8113-fa6caac7e7fd",
   "metadata": {},
   "outputs": [
    {
     "data": {
      "text/latex": [
       "$\\displaystyle \\left[\\begin{matrix}1 & 0 & 0 & -1 & 1 & 0 & d_{1}\\\\0 & 1 & 0 & 0 & -1 & 1 & - d_{0} - d_{1} - 1\\\\0 & 0 & 1 & 1 & 0 & -1 & d_{0}\\end{matrix}\\right]$"
      ],
      "text/plain": [
       "Matrix([\n",
       "[1, 0, 0, -1,  1,  0,           d1],\n",
       "[0, 1, 0,  0, -1,  1, -d0 - d1 - 1],\n",
       "[0, 0, 1,  1,  0, -1,           d0]])"
      ]
     },
     "metadata": {},
     "output_type": "display_data"
    },
    {
     "data": {
      "text/latex": [
       "$\\displaystyle \\left[\\begin{matrix}1 & 0 & 0 & -1 & 1 & 0 & d_{0}\\\\0 & 1 & 0 & 0 & -1 & 1 & d_{1}\\\\0 & 0 & 1 & 1 & 0 & -1 & - d_{0} - d_{1} - 1\\end{matrix}\\right]$"
      ],
      "text/plain": [
       "Matrix([\n",
       "[1, 0, 0, -1,  1,  0,           d0],\n",
       "[0, 1, 0,  0, -1,  1,           d1],\n",
       "[0, 0, 1,  1,  0, -1, -d0 - d1 - 1]])"
      ]
     },
     "metadata": {},
     "output_type": "display_data"
    }
   ],
   "source": [
    "display(fans[14][:, symm_index[3]].rref()[0])\n",
    "display(fans[14])"
   ]
  },
  {
   "cell_type": "code",
   "execution_count": 385,
   "id": "7667bdd6-ce84-4995-b750-30b4a0b7158d",
   "metadata": {},
   "outputs": [
    {
     "data": {
      "text/latex": [
       "$\\displaystyle \\left[\\begin{matrix}1 & 0 & 0 & -1 & 1 & 0 & - d_{0} - d_{1} - 1\\\\0 & 1 & 0 & 0 & -1 & 1 & d_{0}\\\\0 & 0 & 1 & 1 & 0 & -1 & d_{1}\\end{matrix}\\right]$"
      ],
      "text/plain": [
       "Matrix([\n",
       "[1, 0, 0, -1,  1,  0, -d0 - d1 - 1],\n",
       "[0, 1, 0,  0, -1,  1,           d0],\n",
       "[0, 0, 1,  1,  0, -1,           d1]])"
      ]
     },
     "metadata": {},
     "output_type": "display_data"
    },
    {
     "data": {
      "text/latex": [
       "$\\displaystyle \\left[\\begin{matrix}1 & 0 & 0 & -1 & 1 & 0 & d_{0}\\\\0 & 1 & 0 & 0 & -1 & 1 & d_{1}\\\\0 & 0 & 1 & 1 & 0 & -1 & - d_{0} - d_{1} - 1\\end{matrix}\\right]$"
      ],
      "text/plain": [
       "Matrix([\n",
       "[1, 0, 0, -1,  1,  0,           d0],\n",
       "[0, 1, 0,  0, -1,  1,           d1],\n",
       "[0, 0, 1,  1,  0, -1, -d0 - d1 - 1]])"
      ]
     },
     "metadata": {},
     "output_type": "display_data"
    }
   ],
   "source": [
    "display(fans[14][:, symm_index[4]].rref()[0])\n",
    "display(fans[14])"
   ]
  },
  {
   "cell_type": "code",
   "execution_count": 387,
   "id": "b94883b2-0247-4f0b-bb60-dfe2fe43a3d8",
   "metadata": {},
   "outputs": [
    {
     "data": {
      "text/latex": [
       "$\\displaystyle \\left[\\begin{matrix}1 & 0 & 0 & -1 & 0 & 1 & - d_{0} - d_{1} - 1\\\\0 & 1 & 0 & 1 & -1 & 0 & d_{1}\\\\0 & 0 & 1 & 0 & 1 & -1 & d_{0}\\end{matrix}\\right]$"
      ],
      "text/plain": [
       "Matrix([\n",
       "[1, 0, 0, -1,  0,  1, -d0 - d1 - 1],\n",
       "[0, 1, 0,  1, -1,  0,           d1],\n",
       "[0, 0, 1,  0,  1, -1,           d0]])"
      ]
     },
     "metadata": {},
     "output_type": "display_data"
    },
    {
     "data": {
      "text/latex": [
       "$\\displaystyle \\left[\\begin{matrix}1 & 0 & 0 & -1 & 0 & 1 & d_{0}\\\\0 & 1 & 0 & 1 & -1 & 0 & d_{1}\\\\0 & 0 & 1 & 0 & 1 & -1 & - d_{0} - d_{1} - 1\\end{matrix}\\right]$"
      ],
      "text/plain": [
       "Matrix([\n",
       "[1, 0, 0, -1,  0,  1,           d0],\n",
       "[0, 1, 0,  1, -1,  0,           d1],\n",
       "[0, 0, 1,  0,  1, -1, -d0 - d1 - 1]])"
      ]
     },
     "metadata": {},
     "output_type": "display_data"
    }
   ],
   "source": [
    "display(fans[14][:, symm_index[5]].rref()[0])\n",
    "display(fans[15])"
   ]
  }
 ],
 "metadata": {
  "kernelspec": {
   "display_name": "Python 3 (ipykernel)",
   "language": "python",
   "name": "python3"
  },
  "language_info": {
   "codemirror_mode": {
    "name": "ipython",
    "version": 3
   },
   "file_extension": ".py",
   "mimetype": "text/x-python",
   "name": "python",
   "nbconvert_exporter": "python",
   "pygments_lexer": "ipython3",
   "version": "3.12.7"
  }
 },
 "nbformat": 4,
 "nbformat_minor": 5
}
