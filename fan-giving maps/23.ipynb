{
 "cells": [
  {
   "cell_type": "markdown",
   "id": "88a45b06-0c2e-495c-8130-a3b2b9b21bd8",
   "metadata": {
    "jp-MarkdownHeadingCollapsed": true
   },
   "source": [
    "# Preparation"
   ]
  },
  {
   "cell_type": "code",
   "execution_count": 1,
   "id": "a8d1a5a8-1e28-4abe-bbe4-1188621c64ca",
   "metadata": {},
   "outputs": [],
   "source": [
    "%run programs\\\\Characteristic_Pair.py\n",
    "import copy\n",
    "\n",
    "fanlikes_index=23\n",
    "projectied_vertex=5\n",
    "link_index=7\n",
    "\n",
    "K = Simplicial_Complex(json.loads(read_file('programs\\\\fanlikes')[fanlikes_index]))\n",
    "M = initial_char(K.n)\n",
    "C0 = Characteristic_Pair(K, M)\n",
    "fans = []\n",
    "\n",
    "a = sp.symbols('a0:%d'%K.n)\n",
    "b = sp.symbols('b0:%d'%K.n)\n",
    "c = sp.symbols('c0:%d'%K.n)\n",
    "d = sp.symbols('d0:%d'%K.n)\n",
    "\n",
    "a0, a1, a2, a3, a4 = a[:]\n",
    "b0, b1, b2, b3, b4 = b[:]\n",
    "c0, c1, c2, c3, c4 = c[:]\n",
    "d0, d1, d2, d3, d4 = d[:]"
   ]
  },
  {
   "cell_type": "code",
   "execution_count": 2,
   "id": "22341429-16ec-4752-9dab-2c617ed14844",
   "metadata": {},
   "outputs": [
    {
     "data": {
      "text/latex": [
       "$\\displaystyle \\left[\\begin{matrix}1 & 0 & 0 & 0 & 0 & a_{0} & b_{0} & c_{0} & d_{0}\\\\0 & 1 & 0 & 0 & 0 & a_{1} & b_{1} & c_{1} & d_{1}\\\\0 & 0 & 1 & 0 & 0 & a_{2} & b_{2} & c_{2} & d_{2}\\\\0 & 0 & 0 & 1 & 0 & a_{3} & b_{3} & c_{3} & d_{3}\\\\0 & 0 & 0 & 0 & 1 & a_{4} & b_{4} & c_{4} & d_{4}\\end{matrix}\\right]$"
      ],
      "text/plain": [
       "Matrix([\n",
       "[1, 0, 0, 0, 0, a0, b0, c0, d0],\n",
       "[0, 1, 0, 0, 0, a1, b1, c1, d1],\n",
       "[0, 0, 1, 0, 0, a2, b2, c2, d2],\n",
       "[0, 0, 0, 1, 0, a3, b3, c3, d3],\n",
       "[0, 0, 0, 0, 1, a4, b4, c4, d4]])"
      ]
     },
     "execution_count": 2,
     "metadata": {},
     "output_type": "execute_result"
    }
   ],
   "source": [
    "C = C0\n",
    "C.char"
   ]
  },
  {
   "cell_type": "code",
   "execution_count": 3,
   "id": "0d4234c5-d2ad-43f2-bcf2-53df6f518fc0",
   "metadata": {},
   "outputs": [
    {
     "name": "stdout",
     "output_type": "stream",
     "text": [
      "facet number: 16\n"
     ]
    },
    {
     "data": {
      "text/latex": [
       "$\\displaystyle a_{0} = -1$"
      ],
      "text/plain": [
       "Eq(a0, -1)"
      ]
     },
     "metadata": {},
     "output_type": "display_data"
    },
    {
     "name": "stdout",
     "output_type": "stream",
     "text": [
      "facet number: 6\n"
     ]
    },
    {
     "data": {
      "text/latex": [
       "$\\displaystyle - a_{1} = 1$"
      ],
      "text/plain": [
       "Eq(-a1, 1)"
      ]
     },
     "metadata": {},
     "output_type": "display_data"
    },
    {
     "name": "stdout",
     "output_type": "stream",
     "text": [
      "facet number: 1\n"
     ]
    },
    {
     "data": {
      "text/latex": [
       "$\\displaystyle a_{4} = -1$"
      ],
      "text/plain": [
       "Eq(a4, -1)"
      ]
     },
     "metadata": {},
     "output_type": "display_data"
    },
    {
     "name": "stdout",
     "output_type": "stream",
     "text": [
      "facet number: 4\n"
     ]
    },
    {
     "data": {
      "text/latex": [
       "$\\displaystyle d_{2} = -1$"
      ],
      "text/plain": [
       "Eq(d2, -1)"
      ]
     },
     "metadata": {},
     "output_type": "display_data"
    },
    {
     "name": "stdout",
     "output_type": "stream",
     "text": [
      "facet number: 2\n"
     ]
    },
    {
     "data": {
      "text/latex": [
       "$\\displaystyle - d_{3} = 1$"
      ],
      "text/plain": [
       "Eq(-d3, 1)"
      ]
     },
     "metadata": {},
     "output_type": "display_data"
    }
   ],
   "source": [
    "i=16\n",
    "print('facet number:', i)\n",
    "display(sp.Eq(C.determinants[i], C.orientation[i]))\n",
    "\n",
    "i=6\n",
    "print('facet number:', i)\n",
    "display(sp.Eq(C.determinants[i], C.orientation[i]))\n",
    "\n",
    "i=1\n",
    "print('facet number:', i)\n",
    "display(sp.Eq(C.determinants[i], C.orientation[i]))\n",
    "\n",
    "i=4\n",
    "print('facet number:', i)\n",
    "display(sp.Eq(C.determinants[i], C.orientation[i]))\n",
    "\n",
    "i=2\n",
    "print('facet number:', i)\n",
    "display(sp.Eq(C.determinants[i], C.orientation[i]))\n",
    "\n",
    "C.subs(a0, -1)\n",
    "C.subs(a1, -1)\n",
    "C.subs(a4, -1)\n",
    "C.subs(d2, -1)\n",
    "C.subs(d3, -1)"
   ]
  },
  {
   "cell_type": "markdown",
   "id": "7ccb2119-3126-4c0b-8022-d88dc46dd725",
   "metadata": {
    "jp-MarkdownHeadingCollapsed": true
   },
   "source": [
    "# The projection with respect to 5"
   ]
  },
  {
   "cell_type": "code",
   "execution_count": 4,
   "id": "0e323cef-c0a2-46e2-9a4a-ae5e50771989",
   "metadata": {},
   "outputs": [
    {
     "name": "stdout",
     "output_type": "stream",
     "text": [
      "[[1, 2, 3, 4], [1, 2, 3, 9], [1, 2, 4, 9], [1, 3, 4, 6], [1, 3, 6, 9], [1, 4, 6, 7], [1, 4, 7, 8], [1, 4, 8, 9], [1, 6, 7, 8], [1, 6, 8, 9], [2, 3, 4, 6], [2, 3, 6, 9], [2, 4, 6, 8], [2, 4, 8, 9], [2, 6, 8, 9], [4, 6, 7, 8]]\n"
     ]
    }
   ],
   "source": [
    "print(Link(K, [projectied_vertex]).cpx)"
   ]
  },
  {
   "cell_type": "code",
   "execution_count": 5,
   "id": "f30eb303-c49a-4ce3-8acd-ff8035ccc85e",
   "metadata": {},
   "outputs": [
    {
     "name": "stdout",
     "output_type": "stream",
     "text": [
      "[[1, 2, 3, 4], [1, 2, 3, 8], [1, 2, 4, 8], [1, 3, 4, 5], [1, 3, 5, 8], [1, 4, 5, 6], [1, 4, 6, 7], [1, 4, 7, 8], [1, 5, 6, 7], [1, 5, 7, 8], [2, 3, 4, 5], [2, 3, 5, 8], [2, 4, 5, 7], [2, 4, 7, 8], [2, 5, 7, 8], [4, 5, 6, 7]]\n"
     ]
    }
   ],
   "source": [
    "print(json.loads(read_file('programs\\\\fanlikes')[link_index]))"
   ]
  },
  {
   "cell_type": "code",
   "execution_count": 6,
   "id": "df140542-cdf9-4552-9612-b989fd3da923",
   "metadata": {},
   "outputs": [
    {
     "name": "stdout",
     "output_type": "stream",
     "text": [
      "[[1, 2, 3, 4], [1, 2, 3, 8], [1, 2, 4, 8], [1, 3, 4, 5], [1, 3, 5, 8], [1, 4, 5, 6], [1, 4, 6, 7], [1, 4, 7, 8], [1, 5, 6, 7], [1, 5, 7, 8], [2, 3, 4, 5], [2, 3, 5, 8], [2, 4, 5, 7], [2, 4, 7, 8], [2, 5, 7, 8], [4, 5, 6, 7]]\n"
     ]
    },
    {
     "data": {
      "text/plain": [
       "True"
      ]
     },
     "execution_count": 6,
     "metadata": {},
     "output_type": "execute_result"
    }
   ],
   "source": [
    "L=[] # making the vertices of the link consecutive\n",
    "for l in Link(K, [projectied_vertex]).cpx:\n",
    "    L.append([])\n",
    "    for v in l:\n",
    "        if v>projectied_vertex:\n",
    "            L[-1].append(v-1)\n",
    "        else:\n",
    "            L[-1].append(v)\n",
    "print(L)\n",
    "L==json.loads(read_file('programs\\\\fanlikes')[link_index])"
   ]
  },
  {
   "cell_type": "code",
   "execution_count": 7,
   "id": "819b93af-0d9f-4aa9-912b-371f2dda7836",
   "metadata": {},
   "outputs": [
    {
     "data": {
      "text/latex": [
       "$\\displaystyle \\left[\\begin{matrix}1 & 0 & 0 & 0 & -1 & b_{0} & c_{0} & d_{0}\\\\0 & 1 & 0 & 0 & -1 & b_{1} & c_{1} & d_{1}\\\\0 & 0 & 1 & 0 & a_{2} & b_{2} & c_{2} & -1\\\\0 & 0 & 0 & 1 & a_{3} & b_{3} & c_{3} & -1\\end{matrix}\\right]$"
      ],
      "text/plain": [
       "Matrix([\n",
       "[1, 0, 0, 0, -1, b0, c0, d0],\n",
       "[0, 1, 0, 0, -1, b1, c1, d1],\n",
       "[0, 0, 1, 0, a2, b2, c2, -1],\n",
       "[0, 0, 0, 1, a3, b3, c3, -1]])"
      ]
     },
     "metadata": {},
     "output_type": "display_data"
    }
   ],
   "source": [
    "display(C.proj([projectied_vertex]))"
   ]
  },
  {
   "cell_type": "markdown",
   "id": "dbcfd1c6-d2b6-4db0-81c1-f5fb1408a298",
   "metadata": {
    "jp-MarkdownHeadingCollapsed": true
   },
   "source": [
    "# The projection has 8 types of fans up to D-J equivalence"
   ]
  },
  {
   "cell_type": "code",
   "execution_count": 8,
   "id": "ed179421-0afe-4afc-b868-2c1c3dbe28e5",
   "metadata": {},
   "outputs": [],
   "source": [
    "import pickle\n",
    "with open('programs\\\\pickle_files\\\\%d_up_to_DJ.p'%(link_index), 'rb') as f:\n",
    "    fans_link = pickle.load(f)"
   ]
  },
  {
   "cell_type": "code",
   "execution_count": 9,
   "id": "934c9089-0a81-48c2-b920-150496633535",
   "metadata": {},
   "outputs": [
    {
     "data": {
      "text/latex": [
       "$\\displaystyle \\left[\\begin{matrix}1 & 0 & 0 & 0 & -1 & -1 & -1 & d_{0}\\\\0 & 1 & 0 & 0 & -1 & -2 & -1 & d_{1}\\\\0 & 0 & 1 & 0 & 1 & 1 & 0 & -1\\\\0 & 0 & 0 & 1 & 0 & 1 & 0 & -1\\end{matrix}\\right]$"
      ],
      "text/plain": [
       "Matrix([\n",
       "[1, 0, 0, 0, -1, -1, -1, d0],\n",
       "[0, 1, 0, 0, -1, -2, -1, d1],\n",
       "[0, 0, 1, 0,  1,  1,  0, -1],\n",
       "[0, 0, 0, 1,  0,  1,  0, -1]])"
      ]
     },
     "metadata": {},
     "output_type": "display_data"
    },
    {
     "data": {
      "text/latex": [
       "$\\displaystyle \\left[\\begin{matrix}1 & 0 & 0 & 0 & -1 & d_{0} - 1 & d_{0} - 1 & d_{0}\\\\0 & 1 & 0 & 0 & -1 & d_{1} - 2 & d_{1} - 1 & d_{1}\\\\0 & 0 & 1 & 0 & 0 & -1 & -1 & -1\\\\0 & 0 & 0 & 1 & 0 & 1 & 0 & -1\\end{matrix}\\right]$"
      ],
      "text/plain": [
       "Matrix([\n",
       "[1, 0, 0, 0, -1, d0 - 1, d0 - 1, d0],\n",
       "[0, 1, 0, 0, -1, d1 - 2, d1 - 1, d1],\n",
       "[0, 0, 1, 0,  0,     -1,     -1, -1],\n",
       "[0, 0, 0, 1,  0,      1,      0, -1]])"
      ]
     },
     "metadata": {},
     "output_type": "display_data"
    },
    {
     "data": {
      "text/latex": [
       "$\\displaystyle \\left[\\begin{matrix}1 & 0 & 0 & 0 & -1 & -1 & - c_{3} - 1 & 1\\\\0 & 1 & 0 & 0 & -1 & -2 & - 2 c_{3} - 1 & 2\\\\0 & 0 & 1 & 0 & 1 & 1 & c_{3} & -1\\\\0 & 0 & 0 & 1 & 0 & 1 & c_{3} & -1\\end{matrix}\\right]$"
      ],
      "text/plain": [
       "Matrix([\n",
       "[1, 0, 0, 0, -1, -1,   -c3 - 1,  1],\n",
       "[0, 1, 0, 0, -1, -2, -2*c3 - 1,  2],\n",
       "[0, 0, 1, 0,  1,  1,        c3, -1],\n",
       "[0, 0, 0, 1,  0,  1,        c3, -1]])"
      ]
     },
     "metadata": {},
     "output_type": "display_data"
    },
    {
     "data": {
      "text/latex": [
       "$\\displaystyle \\left[\\begin{matrix}1 & 0 & 0 & 0 & -1 & 0 & 0 & 1\\\\0 & 1 & 0 & 0 & -1 & -1 & d_{1} - 1 & d_{1}\\\\0 & 0 & 1 & 0 & 1 & 0 & -1 & -1\\\\0 & 0 & 0 & 1 & 0 & 0 & -1 & -1\\end{matrix}\\right]$"
      ],
      "text/plain": [
       "Matrix([\n",
       "[1, 0, 0, 0, -1,  0,      0,  1],\n",
       "[0, 1, 0, 0, -1, -1, d1 - 1, d1],\n",
       "[0, 0, 1, 0,  1,  0,     -1, -1],\n",
       "[0, 0, 0, 1,  0,  0,     -1, -1]])"
      ]
     },
     "metadata": {},
     "output_type": "display_data"
    },
    {
     "data": {
      "text/latex": [
       "$\\displaystyle \\left[\\begin{matrix}1 & 0 & 0 & 0 & -1 & b_{0} & 0 & 1\\\\0 & 1 & 0 & 0 & -1 & b_{1} & 1 & 2\\\\0 & 0 & 1 & 0 & 1 & - b_{1} - 1 & -1 & -1\\\\0 & 0 & 0 & 1 & 0 & b_{3} & -1 & -1\\end{matrix}\\right]$"
      ],
      "text/plain": [
       "Matrix([\n",
       "[1, 0, 0, 0, -1,      b0,  0,  1],\n",
       "[0, 1, 0, 0, -1,      b1,  1,  2],\n",
       "[0, 0, 1, 0,  1, -b1 - 1, -1, -1],\n",
       "[0, 0, 0, 1,  0,      b3, -1, -1]])"
      ]
     },
     "metadata": {},
     "output_type": "display_data"
    },
    {
     "data": {
      "text/latex": [
       "$\\displaystyle \\left[\\begin{matrix}1 & 0 & 0 & 0 & -1 & - c_{2} - 1 & - c_{2} - 1 & 1\\\\0 & 1 & 0 & 0 & -1 & - c_{2} - 2 & - c_{2} - 1 & 1\\\\0 & 0 & 1 & 0 & 1 & c_{2} + 1 & c_{2} & -1\\\\0 & 0 & 0 & 1 & 0 & c_{3} + 1 & c_{3} & -1\\end{matrix}\\right]$"
      ],
      "text/plain": [
       "Matrix([\n",
       "[1, 0, 0, 0, -1, -c2 - 1, -c2 - 1,  1],\n",
       "[0, 1, 0, 0, -1, -c2 - 2, -c2 - 1,  1],\n",
       "[0, 0, 1, 0,  1,  c2 + 1,      c2, -1],\n",
       "[0, 0, 0, 1,  0,  c3 + 1,      c3, -1]])"
      ]
     },
     "metadata": {},
     "output_type": "display_data"
    },
    {
     "data": {
      "text/latex": [
       "$\\displaystyle \\left[\\begin{matrix}1 & 0 & 0 & 0 & -1 & -1 & -1 & 0\\\\0 & 1 & 0 & 0 & -1 & -2 & -1 & 0\\\\0 & 0 & 1 & 0 & c_{2} + 1 & 2 c_{2} + 1 & c_{2} & -1\\\\0 & 0 & 0 & 1 & c_{3} & 2 c_{3} + 1 & c_{3} & -1\\end{matrix}\\right]$"
      ],
      "text/plain": [
       "Matrix([\n",
       "[1, 0, 0, 0,     -1,       -1, -1,  0],\n",
       "[0, 1, 0, 0,     -1,       -2, -1,  0],\n",
       "[0, 0, 1, 0, c2 + 1, 2*c2 + 1, c2, -1],\n",
       "[0, 0, 0, 1,     c3, 2*c3 + 1, c3, -1]])"
      ]
     },
     "metadata": {},
     "output_type": "display_data"
    },
    {
     "data": {
      "text/latex": [
       "$\\displaystyle \\left[\\begin{matrix}1 & 0 & 0 & 0 & -1 & 0 & 0 & 1\\\\0 & 1 & 0 & 0 & -1 & -1 & 0 & 1\\\\0 & 0 & 1 & 0 & a_{2} & a_{2} - 1 & -1 & -1\\\\0 & 0 & 0 & 1 & 0 & 1 & 0 & -1\\end{matrix}\\right]$"
      ],
      "text/plain": [
       "Matrix([\n",
       "[1, 0, 0, 0, -1,      0,  0,  1],\n",
       "[0, 1, 0, 0, -1,     -1,  0,  1],\n",
       "[0, 0, 1, 0, a2, a2 - 1, -1, -1],\n",
       "[0, 0, 0, 1,  0,      1,  0, -1]])"
      ]
     },
     "metadata": {},
     "output_type": "display_data"
    }
   ],
   "source": [
    "for f in fans_link:\n",
    "    display(f)"
   ]
  },
  {
   "cell_type": "markdown",
   "id": "ff605ab7-f715-404f-810b-92bbab3fc765",
   "metadata": {
    "jp-MarkdownHeadingCollapsed": true
   },
   "source": [
    "# Type 0 of the projection"
   ]
  },
  {
   "cell_type": "code",
   "execution_count": 10,
   "id": "aa377bcd-fa7a-48f6-92c4-ac15a279853d",
   "metadata": {},
   "outputs": [
    {
     "data": {
      "text/latex": [
       "$\\displaystyle \\left[\\begin{matrix}1 & 0 & 0 & 0 & -1 & b_{0} & c_{0} & d_{0}\\\\0 & 1 & 0 & 0 & -1 & b_{1} & c_{1} & d_{1}\\\\0 & 0 & 1 & 0 & a_{2} & b_{2} & c_{2} & -1\\\\0 & 0 & 0 & 1 & a_{3} & b_{3} & c_{3} & -1\\end{matrix}\\right] = \\left[\\begin{matrix}1 & 0 & 0 & 0 & -1 & -1 & -1 & d_{0}\\\\0 & 1 & 0 & 0 & -1 & -2 & -1 & d_{1}\\\\0 & 0 & 1 & 0 & 1 & 1 & 0 & -1\\\\0 & 0 & 0 & 1 & 0 & 1 & 0 & -1\\end{matrix}\\right]$"
      ],
      "text/plain": [
       "Eq(Matrix([\n",
       "[1, 0, 0, 0, -1, b0, c0, d0],\n",
       "[0, 1, 0, 0, -1, b1, c1, d1],\n",
       "[0, 0, 1, 0, a2, b2, c2, -1],\n",
       "[0, 0, 0, 1, a3, b3, c3, -1]]), Matrix([\n",
       "[1, 0, 0, 0, -1, -1, -1, d0],\n",
       "[0, 1, 0, 0, -1, -2, -1, d1],\n",
       "[0, 0, 1, 0,  1,  1,  0, -1],\n",
       "[0, 0, 0, 1,  0,  1,  0, -1]]))"
      ]
     },
     "metadata": {},
     "output_type": "display_data"
    }
   ],
   "source": [
    "C1 = copy.deepcopy(C0)\n",
    "C = C1\n",
    "t=0\n",
    "\n",
    "proj = C.proj([projectied_vertex])\n",
    "with sp.evaluate(False):\n",
    "    display(sp.Eq(proj, fans_link[t]))"
   ]
  },
  {
   "cell_type": "code",
   "execution_count": 11,
   "id": "41ea0310-b5cf-41e4-bb0a-cfb79222eb08",
   "metadata": {},
   "outputs": [
    {
     "data": {
      "text/latex": [
       "$\\displaystyle \\text{True}$"
      ],
      "text/plain": [
       "True"
      ]
     },
     "metadata": {},
     "output_type": "display_data"
    }
   ],
   "source": [
    "C.subs(a2, 1)\n",
    "C.subs(a3, 0)\n",
    "C.subs(b0, -1)\n",
    "C.subs(b1, -2)\n",
    "C.subs(b2, 1)\n",
    "C.subs(b3, 1)\n",
    "C.subs(c0, -1)\n",
    "C.subs(c1, -1)\n",
    "C.subs(c2, 0)\n",
    "C.subs(c3, 0)\n",
    "\n",
    "display(sp.Eq(C.proj([projectied_vertex]), fans_link[t]))"
   ]
  },
  {
   "cell_type": "code",
   "execution_count": 12,
   "id": "4019583a-9beb-4672-8c92-223ddea7e7e6",
   "metadata": {},
   "outputs": [
    {
     "name": "stdout",
     "output_type": "stream",
     "text": [
      "facet number: 5\n"
     ]
    },
    {
     "data": {
      "text/latex": [
       "$\\displaystyle 1 - d_{4} = 1$"
      ],
      "text/plain": [
       "Eq(1 - d4, 1)"
      ]
     },
     "metadata": {},
     "output_type": "display_data"
    }
   ],
   "source": [
    "i=5\n",
    "print('facet number:', i)\n",
    "display(sp.Eq(C.determinants[i], C.orientation[i]))\n",
    "\n",
    "C.subs(d4, 0)"
   ]
  },
  {
   "cell_type": "code",
   "execution_count": 13,
   "id": "19b9cd49-d278-4aa3-8b43-785d4ef78463",
   "metadata": {},
   "outputs": [
    {
     "name": "stdout",
     "output_type": "stream",
     "text": [
      "facet number: 20\n"
     ]
    },
    {
     "data": {
      "text/latex": [
       "$\\displaystyle - c_{4} d_{0} + c_{4} + 1 = 1$"
      ],
      "text/plain": [
       "Eq(-c4*d0 + c4 + 1, 1)"
      ]
     },
     "metadata": {},
     "output_type": "display_data"
    }
   ],
   "source": [
    "i=20\n",
    "print('facet number:', i)\n",
    "display(sp.Eq(C.determinants[i], C.orientation[i]))"
   ]
  },
  {
   "cell_type": "markdown",
   "id": "84ce5b7b-0e55-455d-9f98-dc7f24032e7b",
   "metadata": {
    "jp-MarkdownHeadingCollapsed": true
   },
   "source": [
    "## $c_4=0$"
   ]
  },
  {
   "cell_type": "code",
   "execution_count": 14,
   "id": "49de688c-db2f-4110-b0e4-a4da92433822",
   "metadata": {},
   "outputs": [],
   "source": [
    "C2 = copy.deepcopy(C1)\n",
    "C = C2\n",
    "C.subs(c4, 0)"
   ]
  },
  {
   "cell_type": "code",
   "execution_count": 15,
   "id": "ef459507-ae46-4e47-a97c-e3f2db7a44f4",
   "metadata": {},
   "outputs": [
    {
     "name": "stdout",
     "output_type": "stream",
     "text": [
      "facet number: 12\n"
     ]
    },
    {
     "data": {
      "text/latex": [
       "$\\displaystyle b_{4} = -1$"
      ],
      "text/plain": [
       "Eq(b4, -1)"
      ]
     },
     "metadata": {},
     "output_type": "display_data"
    }
   ],
   "source": [
    "i=12\n",
    "print('facet number:', i)\n",
    "display(sp.Eq(C.determinants[i], C.orientation[i]))\n",
    "\n",
    "C.subs(b4, -1)"
   ]
  },
  {
   "cell_type": "code",
   "execution_count": 16,
   "id": "79cb2060-15fd-486b-8fbd-70dfb4d8a33f",
   "metadata": {},
   "outputs": [
    {
     "data": {
      "text/latex": [
       "$\\displaystyle \\left[\\begin{matrix}1 & 0 & 0 & 0 & 0 & -1 & -1 & -1 & d_{0}\\\\0 & 1 & 0 & 0 & 0 & -1 & -2 & -1 & d_{1}\\\\0 & 0 & 1 & 0 & 0 & 1 & 1 & 0 & -1\\\\0 & 0 & 0 & 1 & 0 & 0 & 1 & 0 & -1\\\\0 & 0 & 0 & 0 & 1 & -1 & -1 & 0 & 0\\end{matrix}\\right]$"
      ],
      "text/plain": [
       "Matrix([\n",
       "[1, 0, 0, 0, 0, -1, -1, -1, d0],\n",
       "[0, 1, 0, 0, 0, -1, -2, -1, d1],\n",
       "[0, 0, 1, 0, 0,  1,  1,  0, -1],\n",
       "[0, 0, 0, 1, 0,  0,  1,  0, -1],\n",
       "[0, 0, 0, 0, 1, -1, -1,  0,  0]])"
      ]
     },
     "metadata": {},
     "output_type": "display_data"
    },
    {
     "name": "stdout",
     "output_type": "stream",
     "text": [
      "1\n"
     ]
    }
   ],
   "source": [
    "display(C.char)\n",
    "print(C.is_fangiving)\n",
    "fans.append(C.char)"
   ]
  },
  {
   "cell_type": "markdown",
   "id": "3f3d8253-0a52-4654-aab3-79d54ab21e0c",
   "metadata": {
    "jp-MarkdownHeadingCollapsed": true
   },
   "source": [
    "## $d_0=1$ ($c_4 \\not= 0$)"
   ]
  },
  {
   "cell_type": "code",
   "execution_count": 17,
   "id": "83080394-685a-4c0a-a76e-c36b52873492",
   "metadata": {},
   "outputs": [],
   "source": [
    "C2 = copy.deepcopy(C1)\n",
    "C = C2\n",
    "C.subs(d0, 1)"
   ]
  },
  {
   "cell_type": "code",
   "execution_count": 18,
   "id": "d20c60e5-907b-488d-a7f3-461a5a931e6b",
   "metadata": {},
   "outputs": [
    {
     "name": "stdout",
     "output_type": "stream",
     "text": [
      "facet number: 11\n"
     ]
    },
    {
     "data": {
      "text/latex": [
       "$\\displaystyle b_{4} d_{1} - b_{4} + d_{1} - 2 = -1$"
      ],
      "text/plain": [
       "Eq(b4*d1 - b4 + d1 - 2, -1)"
      ]
     },
     "metadata": {},
     "output_type": "display_data"
    },
    {
     "data": {
      "text/latex": [
       "$\\displaystyle \\left(b_{4} + 1\\right) \\left(d_{1} - 1\\right) = 0$"
      ],
      "text/plain": [
       "Eq((b4 + 1)*(d1 - 1), 0)"
      ]
     },
     "metadata": {},
     "output_type": "display_data"
    }
   ],
   "source": [
    "i=11\n",
    "print('facet number:', i)\n",
    "display(sp.Eq(C.determinants[i], C.orientation[i]))\n",
    "display(sp.Eq((b4+1)*(d1-1), 0))"
   ]
  },
  {
   "cell_type": "markdown",
   "id": "dadfef65-5457-4369-b2a2-b00c19b417ba",
   "metadata": {
    "jp-MarkdownHeadingCollapsed": true
   },
   "source": [
    "### $b_4=-1$ ($c_4 \\not= 0$)"
   ]
  },
  {
   "cell_type": "code",
   "execution_count": 19,
   "id": "30c87a38-b9ef-4bc7-956f-f724d586d6c8",
   "metadata": {},
   "outputs": [],
   "source": [
    "C3 = copy.deepcopy(C2)\n",
    "C = C3\n",
    "C.subs(b4, -1)"
   ]
  },
  {
   "cell_type": "code",
   "execution_count": 20,
   "id": "7510cb37-cee8-425e-b8a2-3ba811c939a2",
   "metadata": {},
   "outputs": [
    {
     "name": "stdout",
     "output_type": "stream",
     "text": [
      "facet number: 12\n"
     ]
    },
    {
     "data": {
      "text/latex": [
       "$\\displaystyle c_{4} d_{1} - 2 c_{4} - 1 = -1$"
      ],
      "text/plain": [
       "Eq(c4*d1 - 2*c4 - 1, -1)"
      ]
     },
     "metadata": {},
     "output_type": "display_data"
    }
   ],
   "source": [
    "i=12\n",
    "print('facet number:', i)\n",
    "display(sp.Eq(C.determinants[i], C.orientation[i]))\n",
    "\n",
    "C.subs(d1, 2)"
   ]
  },
  {
   "cell_type": "code",
   "execution_count": 21,
   "id": "a5ff1d57-1f6c-4af3-9005-3db5b8f7dd5a",
   "metadata": {},
   "outputs": [
    {
     "data": {
      "text/latex": [
       "$\\displaystyle \\left[\\begin{matrix}1 & 0 & 0 & 0 & 0 & -1 & -1 & -1 & 1\\\\0 & 1 & 0 & 0 & 0 & -1 & -2 & -1 & 2\\\\0 & 0 & 1 & 0 & 0 & 1 & 1 & 0 & -1\\\\0 & 0 & 0 & 1 & 0 & 0 & 1 & 0 & -1\\\\0 & 0 & 0 & 0 & 1 & -1 & -1 & c_{4} & 0\\end{matrix}\\right]$"
      ],
      "text/plain": [
       "Matrix([\n",
       "[1, 0, 0, 0, 0, -1, -1, -1,  1],\n",
       "[0, 1, 0, 0, 0, -1, -2, -1,  2],\n",
       "[0, 0, 1, 0, 0,  1,  1,  0, -1],\n",
       "[0, 0, 0, 1, 0,  0,  1,  0, -1],\n",
       "[0, 0, 0, 0, 1, -1, -1, c4,  0]])"
      ]
     },
     "metadata": {},
     "output_type": "display_data"
    },
    {
     "name": "stdout",
     "output_type": "stream",
     "text": [
      "1\n"
     ]
    }
   ],
   "source": [
    "display(C.char)\n",
    "print(C.is_fangiving)\n",
    "fans.append(C.char)"
   ]
  },
  {
   "cell_type": "markdown",
   "id": "119c5124-deef-4ab4-93d4-b81ec7b0671e",
   "metadata": {
    "jp-MarkdownHeadingCollapsed": true
   },
   "source": [
    "### $d_1=1$ ($b_4 \\not= -1$, $c_4 \\not= 0$)"
   ]
  },
  {
   "cell_type": "code",
   "execution_count": 22,
   "id": "2e8234ad-ece9-45c5-a6bd-5fc89d647c25",
   "metadata": {},
   "outputs": [],
   "source": [
    "C3 = copy.deepcopy(C2)\n",
    "C = C3\n",
    "C.subs(d1, 1)"
   ]
  },
  {
   "cell_type": "code",
   "execution_count": 23,
   "id": "0d5b6304-b6cc-4a3b-bab3-a8e3c9762213",
   "metadata": {},
   "outputs": [
    {
     "name": "stdout",
     "output_type": "stream",
     "text": [
      "facet number: 12\n"
     ]
    },
    {
     "data": {
      "text/latex": [
       "$\\displaystyle b_{4} - c_{4} = -1$"
      ],
      "text/plain": [
       "Eq(b4 - c4, -1)"
      ]
     },
     "metadata": {},
     "output_type": "display_data"
    }
   ],
   "source": [
    "i=12\n",
    "print('facet number:', i)\n",
    "display(sp.Eq(C.determinants[i], C.orientation[i]))\n",
    "\n",
    "C.subs(c4, b4+1)"
   ]
  },
  {
   "cell_type": "code",
   "execution_count": 24,
   "id": "12aef16c-b623-425b-b423-735db607ac71",
   "metadata": {},
   "outputs": [
    {
     "data": {
      "text/latex": [
       "$\\displaystyle \\left[\\begin{matrix}1 & 0 & 0 & 0 & 0 & -1 & -1 & -1 & 1\\\\0 & 1 & 0 & 0 & 0 & -1 & -2 & -1 & 1\\\\0 & 0 & 1 & 0 & 0 & 1 & 1 & 0 & -1\\\\0 & 0 & 0 & 1 & 0 & 0 & 1 & 0 & -1\\\\0 & 0 & 0 & 0 & 1 & -1 & b_{4} & b_{4} + 1 & 0\\end{matrix}\\right]$"
      ],
      "text/plain": [
       "Matrix([\n",
       "[1, 0, 0, 0, 0, -1, -1,     -1,  1],\n",
       "[0, 1, 0, 0, 0, -1, -2,     -1,  1],\n",
       "[0, 0, 1, 0, 0,  1,  1,      0, -1],\n",
       "[0, 0, 0, 1, 0,  0,  1,      0, -1],\n",
       "[0, 0, 0, 0, 1, -1, b4, b4 + 1,  0]])"
      ]
     },
     "metadata": {},
     "output_type": "display_data"
    },
    {
     "name": "stdout",
     "output_type": "stream",
     "text": [
      "1\n"
     ]
    }
   ],
   "source": [
    "display(C.char)\n",
    "print(C.is_fangiving)\n",
    "fans.append(C.char)"
   ]
  },
  {
   "cell_type": "markdown",
   "id": "a7d16530-a1e4-4d26-8520-a6500c55086a",
   "metadata": {
    "jp-MarkdownHeadingCollapsed": true
   },
   "source": [
    "# Type 1 of the projection"
   ]
  },
  {
   "cell_type": "code",
   "execution_count": 25,
   "id": "fe961236-6c80-4a69-9c7c-3233152f28f2",
   "metadata": {},
   "outputs": [
    {
     "data": {
      "text/latex": [
       "$\\displaystyle \\left[\\begin{matrix}1 & 0 & 0 & 0 & -1 & b_{0} & c_{0} & d_{0}\\\\0 & 1 & 0 & 0 & -1 & b_{1} & c_{1} & d_{1}\\\\0 & 0 & 1 & 0 & a_{2} & b_{2} & c_{2} & -1\\\\0 & 0 & 0 & 1 & a_{3} & b_{3} & c_{3} & -1\\end{matrix}\\right] = \\left[\\begin{matrix}1 & 0 & 0 & 0 & -1 & d_{0} - 1 & d_{0} - 1 & d_{0}\\\\0 & 1 & 0 & 0 & -1 & d_{1} - 2 & d_{1} - 1 & d_{1}\\\\0 & 0 & 1 & 0 & 0 & -1 & -1 & -1\\\\0 & 0 & 0 & 1 & 0 & 1 & 0 & -1\\end{matrix}\\right]$"
      ],
      "text/plain": [
       "Eq(Matrix([\n",
       "[1, 0, 0, 0, -1, b0, c0, d0],\n",
       "[0, 1, 0, 0, -1, b1, c1, d1],\n",
       "[0, 0, 1, 0, a2, b2, c2, -1],\n",
       "[0, 0, 0, 1, a3, b3, c3, -1]]), Matrix([\n",
       "[1, 0, 0, 0, -1, d0 - 1, d0 - 1, d0],\n",
       "[0, 1, 0, 0, -1, d1 - 2, d1 - 1, d1],\n",
       "[0, 0, 1, 0,  0,     -1,     -1, -1],\n",
       "[0, 0, 0, 1,  0,      1,      0, -1]]))"
      ]
     },
     "metadata": {},
     "output_type": "display_data"
    }
   ],
   "source": [
    "C1 = copy.deepcopy(C0)\n",
    "C = C1\n",
    "t=1\n",
    "\n",
    "proj = C.proj([projectied_vertex])\n",
    "with sp.evaluate(False):\n",
    "    display(sp.Eq(proj, fans_link[t]))"
   ]
  },
  {
   "cell_type": "code",
   "execution_count": 26,
   "id": "53bddf75-1c0f-430e-85f0-462960dc5e30",
   "metadata": {},
   "outputs": [
    {
     "data": {
      "text/latex": [
       "$\\displaystyle \\text{True}$"
      ],
      "text/plain": [
       "True"
      ]
     },
     "metadata": {},
     "output_type": "display_data"
    }
   ],
   "source": [
    "C.subs(a2, 0)\n",
    "C.subs(a3, 0)\n",
    "C.subs(b0, d0-1)\n",
    "C.subs(b1, d1-2)\n",
    "C.subs(b2, -1)\n",
    "C.subs(b3, 1)\n",
    "C.subs(c0, d0-1)\n",
    "C.subs(c1, d1-1)\n",
    "C.subs(c2, -1)\n",
    "C.subs(c3, 0)\n",
    "\n",
    "display(sp.Eq(C.proj([projectied_vertex]), fans_link[t]))"
   ]
  },
  {
   "cell_type": "code",
   "execution_count": 27,
   "id": "6bc70476-43f2-448a-803a-4906a9ed882a",
   "metadata": {},
   "outputs": [
    {
     "name": "stdout",
     "output_type": "stream",
     "text": [
      "facet number: 11\n"
     ]
    },
    {
     "data": {
      "text/latex": [
       "$\\displaystyle - b_{4} + d_{4} - 2 = -1$"
      ],
      "text/plain": [
       "Eq(-b4 + d4 - 2, -1)"
      ]
     },
     "metadata": {},
     "output_type": "display_data"
    }
   ],
   "source": [
    "i=11\n",
    "print('facet number:', i)\n",
    "display(sp.Eq(C.determinants[i], C.orientation[i]))\n",
    "\n",
    "C.subs(b4, d4-1)"
   ]
  },
  {
   "cell_type": "code",
   "execution_count": 28,
   "id": "e3939d09-6aa4-42fe-b4d3-6572ce476bd7",
   "metadata": {},
   "outputs": [
    {
     "name": "stdout",
     "output_type": "stream",
     "text": [
      "facet number: 20\n"
     ]
    },
    {
     "data": {
      "text/latex": [
       "$\\displaystyle c_{4} - d_{4} + 1 = 1$"
      ],
      "text/plain": [
       "Eq(c4 - d4 + 1, 1)"
      ]
     },
     "metadata": {},
     "output_type": "display_data"
    }
   ],
   "source": [
    "i=20\n",
    "print('facet number:', i)\n",
    "display(sp.Eq(C.determinants[i], C.orientation[i]))\n",
    "\n",
    "C.subs(c4, d4)"
   ]
  },
  {
   "cell_type": "code",
   "execution_count": 29,
   "id": "01919563-bca3-41e3-a249-3a6d853670fa",
   "metadata": {},
   "outputs": [
    {
     "data": {
      "text/latex": [
       "$\\displaystyle \\left[\\begin{matrix}1 & 0 & 0 & 0 & 0 & -1 & d_{0} - 1 & d_{0} - 1 & d_{0}\\\\0 & 1 & 0 & 0 & 0 & -1 & d_{1} - 2 & d_{1} - 1 & d_{1}\\\\0 & 0 & 1 & 0 & 0 & 0 & -1 & -1 & -1\\\\0 & 0 & 0 & 1 & 0 & 0 & 1 & 0 & -1\\\\0 & 0 & 0 & 0 & 1 & -1 & d_{4} - 1 & d_{4} & d_{4}\\end{matrix}\\right]$"
      ],
      "text/plain": [
       "Matrix([\n",
       "[1, 0, 0, 0, 0, -1, d0 - 1, d0 - 1, d0],\n",
       "[0, 1, 0, 0, 0, -1, d1 - 2, d1 - 1, d1],\n",
       "[0, 0, 1, 0, 0,  0,     -1,     -1, -1],\n",
       "[0, 0, 0, 1, 0,  0,      1,      0, -1],\n",
       "[0, 0, 0, 0, 1, -1, d4 - 1,     d4, d4]])"
      ]
     },
     "metadata": {},
     "output_type": "display_data"
    },
    {
     "name": "stdout",
     "output_type": "stream",
     "text": [
      "1\n"
     ]
    }
   ],
   "source": [
    "display(C.char)\n",
    "print(C.is_fangiving)\n",
    "fans.append(C.char)"
   ]
  },
  {
   "cell_type": "markdown",
   "id": "869f5253-4188-4f1e-aa2c-e119083ed1f1",
   "metadata": {
    "jp-MarkdownHeadingCollapsed": true
   },
   "source": [
    "# Type 2 of the projection"
   ]
  },
  {
   "cell_type": "code",
   "execution_count": 30,
   "id": "81b9bb5b-3021-432f-9a90-8cf18d41424e",
   "metadata": {},
   "outputs": [
    {
     "data": {
      "text/latex": [
       "$\\displaystyle \\left[\\begin{matrix}1 & 0 & 0 & 0 & -1 & b_{0} & c_{0} & d_{0}\\\\0 & 1 & 0 & 0 & -1 & b_{1} & c_{1} & d_{1}\\\\0 & 0 & 1 & 0 & a_{2} & b_{2} & c_{2} & -1\\\\0 & 0 & 0 & 1 & a_{3} & b_{3} & c_{3} & -1\\end{matrix}\\right] = \\left[\\begin{matrix}1 & 0 & 0 & 0 & -1 & -1 & - c_{3} - 1 & 1\\\\0 & 1 & 0 & 0 & -1 & -2 & - 2 c_{3} - 1 & 2\\\\0 & 0 & 1 & 0 & 1 & 1 & c_{3} & -1\\\\0 & 0 & 0 & 1 & 0 & 1 & c_{3} & -1\\end{matrix}\\right]$"
      ],
      "text/plain": [
       "Eq(Matrix([\n",
       "[1, 0, 0, 0, -1, b0, c0, d0],\n",
       "[0, 1, 0, 0, -1, b1, c1, d1],\n",
       "[0, 0, 1, 0, a2, b2, c2, -1],\n",
       "[0, 0, 0, 1, a3, b3, c3, -1]]), Matrix([\n",
       "[1, 0, 0, 0, -1, -1,   -c3 - 1,  1],\n",
       "[0, 1, 0, 0, -1, -2, -2*c3 - 1,  2],\n",
       "[0, 0, 1, 0,  1,  1,        c3, -1],\n",
       "[0, 0, 0, 1,  0,  1,        c3, -1]]))"
      ]
     },
     "metadata": {},
     "output_type": "display_data"
    }
   ],
   "source": [
    "C1 = copy.deepcopy(C0)\n",
    "C = C1\n",
    "t=2\n",
    "\n",
    "proj = C.proj([projectied_vertex])\n",
    "with sp.evaluate(False):\n",
    "    display(sp.Eq(proj, fans_link[t]))"
   ]
  },
  {
   "cell_type": "code",
   "execution_count": 31,
   "id": "40c51283-1daa-47eb-b13c-3ca78aa62b89",
   "metadata": {},
   "outputs": [
    {
     "data": {
      "text/latex": [
       "$\\displaystyle \\text{True}$"
      ],
      "text/plain": [
       "True"
      ]
     },
     "metadata": {},
     "output_type": "display_data"
    }
   ],
   "source": [
    "C.subs(a2, 1)\n",
    "C.subs(a3, 0)\n",
    "C.subs(b0, -1)\n",
    "C.subs(b1, -2)\n",
    "C.subs(b2, 1)\n",
    "C.subs(b3, 1)\n",
    "C.subs(c0, -c3-1)\n",
    "C.subs(c1, -2*c3-1)\n",
    "C.subs(c2, c3)\n",
    "C.subs(d0, 1)\n",
    "C.subs(d1, 2)\n",
    "\n",
    "display(sp.Eq(C.proj([projectied_vertex]), fans_link[t]))"
   ]
  },
  {
   "cell_type": "code",
   "execution_count": 32,
   "id": "ea487863-d266-488d-a39f-c7997450891c",
   "metadata": {},
   "outputs": [
    {
     "name": "stdout",
     "output_type": "stream",
     "text": [
      "facet number: 5\n"
     ]
    },
    {
     "data": {
      "text/latex": [
       "$\\displaystyle 1 - d_{4} = 1$"
      ],
      "text/plain": [
       "Eq(1 - d4, 1)"
      ]
     },
     "metadata": {},
     "output_type": "display_data"
    }
   ],
   "source": [
    "i=5\n",
    "print('facet number:', i)\n",
    "display(sp.Eq(C.determinants[i], C.orientation[i]))\n",
    "\n",
    "C.subs(d4, 0)"
   ]
  },
  {
   "cell_type": "code",
   "execution_count": 33,
   "id": "f838147c-68a3-45c4-a5c2-6a04550cc132",
   "metadata": {},
   "outputs": [
    {
     "name": "stdout",
     "output_type": "stream",
     "text": [
      "facet number: 11\n"
     ]
    },
    {
     "data": {
      "text/latex": [
       "$\\displaystyle b_{4} = -1$"
      ],
      "text/plain": [
       "Eq(b4, -1)"
      ]
     },
     "metadata": {},
     "output_type": "display_data"
    }
   ],
   "source": [
    "i=11\n",
    "print('facet number:', i)\n",
    "display(sp.Eq(C.determinants[i], C.orientation[i]))\n",
    "\n",
    "C.subs(b4, -1)"
   ]
  },
  {
   "cell_type": "code",
   "execution_count": 34,
   "id": "8d676780-e8ab-4bb2-8bb6-8ed9aebd44a2",
   "metadata": {},
   "outputs": [
    {
     "data": {
      "text/latex": [
       "$\\displaystyle \\left[\\begin{matrix}1 & 0 & 0 & 0 & 0 & -1 & -1 & - c_{3} - 1 & 1\\\\0 & 1 & 0 & 0 & 0 & -1 & -2 & - 2 c_{3} - 1 & 2\\\\0 & 0 & 1 & 0 & 0 & 1 & 1 & c_{3} & -1\\\\0 & 0 & 0 & 1 & 0 & 0 & 1 & c_{3} & -1\\\\0 & 0 & 0 & 0 & 1 & -1 & -1 & c_{4} & 0\\end{matrix}\\right]$"
      ],
      "text/plain": [
       "Matrix([\n",
       "[1, 0, 0, 0, 0, -1, -1,   -c3 - 1,  1],\n",
       "[0, 1, 0, 0, 0, -1, -2, -2*c3 - 1,  2],\n",
       "[0, 0, 1, 0, 0,  1,  1,        c3, -1],\n",
       "[0, 0, 0, 1, 0,  0,  1,        c3, -1],\n",
       "[0, 0, 0, 0, 1, -1, -1,        c4,  0]])"
      ]
     },
     "metadata": {},
     "output_type": "display_data"
    },
    {
     "name": "stdout",
     "output_type": "stream",
     "text": [
      "1\n"
     ]
    }
   ],
   "source": [
    "display(C.char)\n",
    "print(C.is_fangiving)\n",
    "fans.append(C.char)"
   ]
  },
  {
   "cell_type": "markdown",
   "id": "f157ad45-0ad0-4178-895f-62f20e0e597a",
   "metadata": {
    "jp-MarkdownHeadingCollapsed": true
   },
   "source": [
    "# Type 3 of the projection"
   ]
  },
  {
   "cell_type": "code",
   "execution_count": 35,
   "id": "47954903-6c06-4003-9d5d-f7696a041b2c",
   "metadata": {},
   "outputs": [
    {
     "data": {
      "text/latex": [
       "$\\displaystyle \\left[\\begin{matrix}1 & 0 & 0 & 0 & -1 & b_{0} & c_{0} & d_{0}\\\\0 & 1 & 0 & 0 & -1 & b_{1} & c_{1} & d_{1}\\\\0 & 0 & 1 & 0 & a_{2} & b_{2} & c_{2} & -1\\\\0 & 0 & 0 & 1 & a_{3} & b_{3} & c_{3} & -1\\end{matrix}\\right] = \\left[\\begin{matrix}1 & 0 & 0 & 0 & -1 & 0 & 0 & 1\\\\0 & 1 & 0 & 0 & -1 & -1 & d_{1} - 1 & d_{1}\\\\0 & 0 & 1 & 0 & 1 & 0 & -1 & -1\\\\0 & 0 & 0 & 1 & 0 & 0 & -1 & -1\\end{matrix}\\right]$"
      ],
      "text/plain": [
       "Eq(Matrix([\n",
       "[1, 0, 0, 0, -1, b0, c0, d0],\n",
       "[0, 1, 0, 0, -1, b1, c1, d1],\n",
       "[0, 0, 1, 0, a2, b2, c2, -1],\n",
       "[0, 0, 0, 1, a3, b3, c3, -1]]), Matrix([\n",
       "[1, 0, 0, 0, -1,  0,      0,  1],\n",
       "[0, 1, 0, 0, -1, -1, d1 - 1, d1],\n",
       "[0, 0, 1, 0,  1,  0,     -1, -1],\n",
       "[0, 0, 0, 1,  0,  0,     -1, -1]]))"
      ]
     },
     "metadata": {},
     "output_type": "display_data"
    }
   ],
   "source": [
    "C1 = copy.deepcopy(C0)\n",
    "C = C1\n",
    "t=3\n",
    "\n",
    "proj = C.proj([projectied_vertex])\n",
    "with sp.evaluate(False):\n",
    "    display(sp.Eq(proj, fans_link[t]))"
   ]
  },
  {
   "cell_type": "code",
   "execution_count": 36,
   "id": "cddb0877-d85c-43d6-ae9c-034468243713",
   "metadata": {},
   "outputs": [
    {
     "data": {
      "text/latex": [
       "$\\displaystyle \\text{True}$"
      ],
      "text/plain": [
       "True"
      ]
     },
     "metadata": {},
     "output_type": "display_data"
    }
   ],
   "source": [
    "C.subs(a2, 1)\n",
    "C.subs(a3, 0)\n",
    "C.subs(b0, 0)\n",
    "C.subs(b1, -1)\n",
    "C.subs(b2, 0)\n",
    "C.subs(b3, 0)\n",
    "C.subs(c0, 0)\n",
    "C.subs(c1, d1-1)\n",
    "C.subs(c2, -1)\n",
    "C.subs(c3, -1)\n",
    "C.subs(d0, 1)\n",
    "\n",
    "display(sp.Eq(C.proj([projectied_vertex]), fans_link[t]))"
   ]
  },
  {
   "cell_type": "code",
   "execution_count": 37,
   "id": "cd49a829-8096-4365-aa05-80e66870d8c6",
   "metadata": {},
   "outputs": [
    {
     "name": "stdout",
     "output_type": "stream",
     "text": [
      "facet number: 5\n"
     ]
    },
    {
     "data": {
      "text/latex": [
       "$\\displaystyle 1 - d_{4} = 1$"
      ],
      "text/plain": [
       "Eq(1 - d4, 1)"
      ]
     },
     "metadata": {},
     "output_type": "display_data"
    }
   ],
   "source": [
    "i=5\n",
    "print('facet number:', i)\n",
    "display(sp.Eq(C.determinants[i], C.orientation[i]))\n",
    "\n",
    "C.subs(d4, 0)"
   ]
  },
  {
   "cell_type": "code",
   "execution_count": 38,
   "id": "9ec62da9-93c4-493d-a1d2-ecce51f72fae",
   "metadata": {},
   "outputs": [
    {
     "name": "stdout",
     "output_type": "stream",
     "text": [
      "facet number: 12\n"
     ]
    },
    {
     "data": {
      "text/latex": [
       "$\\displaystyle b_{4} - c_{4} = -1$"
      ],
      "text/plain": [
       "Eq(b4 - c4, -1)"
      ]
     },
     "metadata": {},
     "output_type": "display_data"
    }
   ],
   "source": [
    "i=12\n",
    "print('facet number:', i)\n",
    "display(sp.Eq(C.determinants[i], C.orientation[i]))\n",
    "\n",
    "C.subs(b4, c4-1)"
   ]
  },
  {
   "cell_type": "code",
   "execution_count": 39,
   "id": "efbbdb73-b301-4d22-929f-67900d8a9027",
   "metadata": {},
   "outputs": [
    {
     "name": "stdout",
     "output_type": "stream",
     "text": [
      "facet number: 11\n"
     ]
    },
    {
     "data": {
      "text/latex": [
       "$\\displaystyle c_{4} d_{1} - c_{4} - d_{1} = -1$"
      ],
      "text/plain": [
       "Eq(c4*d1 - c4 - d1, -1)"
      ]
     },
     "metadata": {},
     "output_type": "display_data"
    },
    {
     "data": {
      "text/latex": [
       "$\\displaystyle \\left(c_{4} - 1\\right) \\left(d_{1} - 1\\right) = 0$"
      ],
      "text/plain": [
       "Eq((c4 - 1)*(d1 - 1), 0)"
      ]
     },
     "metadata": {},
     "output_type": "display_data"
    }
   ],
   "source": [
    "i=11\n",
    "print('facet number:', i)\n",
    "display(sp.Eq(C.determinants[i], C.orientation[i]))\n",
    "display(sp.Eq((c4-1)*(d1-1), 0))"
   ]
  },
  {
   "cell_type": "markdown",
   "id": "e7fa655b-1076-49d3-b896-659f9888f9ab",
   "metadata": {
    "jp-MarkdownHeadingCollapsed": true
   },
   "source": [
    "## $c_4=1$"
   ]
  },
  {
   "cell_type": "code",
   "execution_count": 40,
   "id": "45b534a2-c205-4d8d-a02d-6e7f446eefca",
   "metadata": {},
   "outputs": [],
   "source": [
    "C2 = copy.deepcopy(C1)\n",
    "C = C2\n",
    "C.subs(c4, 1)"
   ]
  },
  {
   "cell_type": "code",
   "execution_count": 41,
   "id": "4d0c10b4-dd15-40fb-b504-1015859e9887",
   "metadata": {},
   "outputs": [
    {
     "data": {
      "text/latex": [
       "$\\displaystyle \\left[\\begin{matrix}1 & 0 & 0 & 0 & 0 & -1 & 0 & 0 & 1\\\\0 & 1 & 0 & 0 & 0 & -1 & -1 & d_{1} - 1 & d_{1}\\\\0 & 0 & 1 & 0 & 0 & 1 & 0 & -1 & -1\\\\0 & 0 & 0 & 1 & 0 & 0 & 0 & -1 & -1\\\\0 & 0 & 0 & 0 & 1 & -1 & 0 & 1 & 0\\end{matrix}\\right]$"
      ],
      "text/plain": [
       "Matrix([\n",
       "[1, 0, 0, 0, 0, -1,  0,      0,  1],\n",
       "[0, 1, 0, 0, 0, -1, -1, d1 - 1, d1],\n",
       "[0, 0, 1, 0, 0,  1,  0,     -1, -1],\n",
       "[0, 0, 0, 1, 0,  0,  0,     -1, -1],\n",
       "[0, 0, 0, 0, 1, -1,  0,      1,  0]])"
      ]
     },
     "metadata": {},
     "output_type": "display_data"
    },
    {
     "name": "stdout",
     "output_type": "stream",
     "text": [
      "1\n"
     ]
    }
   ],
   "source": [
    "display(C.char)\n",
    "print(C.is_fangiving)\n",
    "fans.append(C.char)"
   ]
  },
  {
   "cell_type": "markdown",
   "id": "24eab1b3-1613-4f69-80e0-0265a56433e4",
   "metadata": {
    "jp-MarkdownHeadingCollapsed": true
   },
   "source": [
    "## $d_1=1$ ($c_4 \\not= 1$)"
   ]
  },
  {
   "cell_type": "code",
   "execution_count": 42,
   "id": "0563785c-ead2-483b-887e-68681f49ad89",
   "metadata": {},
   "outputs": [],
   "source": [
    "C2 = copy.deepcopy(C1)\n",
    "C = C2\n",
    "C.subs(d1, 1)"
   ]
  },
  {
   "cell_type": "code",
   "execution_count": 43,
   "id": "7160a468-7669-486b-a0bb-21bfec3c8a15",
   "metadata": {},
   "outputs": [
    {
     "data": {
      "text/latex": [
       "$\\displaystyle \\left[\\begin{matrix}1 & 0 & 0 & 0 & 0 & -1 & 0 & 0 & 1\\\\0 & 1 & 0 & 0 & 0 & -1 & -1 & 0 & 1\\\\0 & 0 & 1 & 0 & 0 & 1 & 0 & -1 & -1\\\\0 & 0 & 0 & 1 & 0 & 0 & 0 & -1 & -1\\\\0 & 0 & 0 & 0 & 1 & -1 & c_{4} - 1 & c_{4} & 0\\end{matrix}\\right]$"
      ],
      "text/plain": [
       "Matrix([\n",
       "[1, 0, 0, 0, 0, -1,      0,  0,  1],\n",
       "[0, 1, 0, 0, 0, -1,     -1,  0,  1],\n",
       "[0, 0, 1, 0, 0,  1,      0, -1, -1],\n",
       "[0, 0, 0, 1, 0,  0,      0, -1, -1],\n",
       "[0, 0, 0, 0, 1, -1, c4 - 1, c4,  0]])"
      ]
     },
     "metadata": {},
     "output_type": "display_data"
    },
    {
     "name": "stdout",
     "output_type": "stream",
     "text": [
      "1\n"
     ]
    }
   ],
   "source": [
    "display(C.char)\n",
    "print(C.is_fangiving)\n",
    "fans.append(C.char)"
   ]
  },
  {
   "cell_type": "markdown",
   "id": "8ab52fdb-bc4c-4dda-b92f-0a47dd32949d",
   "metadata": {
    "jp-MarkdownHeadingCollapsed": true
   },
   "source": [
    "# Type 4 of the projection"
   ]
  },
  {
   "cell_type": "code",
   "execution_count": 44,
   "id": "e5fe9134-df6a-4757-9aca-11bec84d13eb",
   "metadata": {},
   "outputs": [
    {
     "data": {
      "text/latex": [
       "$\\displaystyle \\left[\\begin{matrix}1 & 0 & 0 & 0 & -1 & b_{0} & c_{0} & d_{0}\\\\0 & 1 & 0 & 0 & -1 & b_{1} & c_{1} & d_{1}\\\\0 & 0 & 1 & 0 & a_{2} & b_{2} & c_{2} & -1\\\\0 & 0 & 0 & 1 & a_{3} & b_{3} & c_{3} & -1\\end{matrix}\\right] = \\left[\\begin{matrix}1 & 0 & 0 & 0 & -1 & b_{0} & 0 & 1\\\\0 & 1 & 0 & 0 & -1 & b_{1} & 1 & 2\\\\0 & 0 & 1 & 0 & 1 & - b_{1} - 1 & -1 & -1\\\\0 & 0 & 0 & 1 & 0 & b_{3} & -1 & -1\\end{matrix}\\right]$"
      ],
      "text/plain": [
       "Eq(Matrix([\n",
       "[1, 0, 0, 0, -1, b0, c0, d0],\n",
       "[0, 1, 0, 0, -1, b1, c1, d1],\n",
       "[0, 0, 1, 0, a2, b2, c2, -1],\n",
       "[0, 0, 0, 1, a3, b3, c3, -1]]), Matrix([\n",
       "[1, 0, 0, 0, -1,      b0,  0,  1],\n",
       "[0, 1, 0, 0, -1,      b1,  1,  2],\n",
       "[0, 0, 1, 0,  1, -b1 - 1, -1, -1],\n",
       "[0, 0, 0, 1,  0,      b3, -1, -1]]))"
      ]
     },
     "metadata": {},
     "output_type": "display_data"
    }
   ],
   "source": [
    "C1 = copy.deepcopy(C0)\n",
    "C = C1\n",
    "t=4\n",
    "\n",
    "proj = C.proj([projectied_vertex])\n",
    "with sp.evaluate(False):\n",
    "    display(sp.Eq(proj, fans_link[t]))"
   ]
  },
  {
   "cell_type": "code",
   "execution_count": 45,
   "id": "8355b357-6bad-45ce-83cc-9e6f7adf124b",
   "metadata": {},
   "outputs": [
    {
     "data": {
      "text/latex": [
       "$\\displaystyle \\text{True}$"
      ],
      "text/plain": [
       "True"
      ]
     },
     "metadata": {},
     "output_type": "display_data"
    }
   ],
   "source": [
    "C.subs(a2, 1)\n",
    "C.subs(a3, 0)\n",
    "C.subs(b2, -b1-1)\n",
    "C.subs(c0, 0)\n",
    "C.subs(c1, 1)\n",
    "C.subs(c2, -1)\n",
    "C.subs(c3, -1)\n",
    "C.subs(d0, 1)\n",
    "C.subs(d1, 2)\n",
    "\n",
    "display(sp.Eq(C.proj([projectied_vertex]), fans_link[t]))"
   ]
  },
  {
   "cell_type": "code",
   "execution_count": 46,
   "id": "50692365-6f6c-4a2f-a785-488122b3b354",
   "metadata": {},
   "outputs": [
    {
     "name": "stdout",
     "output_type": "stream",
     "text": [
      "facet number: 5\n"
     ]
    },
    {
     "data": {
      "text/latex": [
       "$\\displaystyle 1 - d_{4} = 1$"
      ],
      "text/plain": [
       "Eq(1 - d4, 1)"
      ]
     },
     "metadata": {},
     "output_type": "display_data"
    }
   ],
   "source": [
    "i=5\n",
    "print('facet number:', i)\n",
    "display(sp.Eq(C.determinants[i], C.orientation[i]))\n",
    "\n",
    "C.subs(d4, 0)"
   ]
  },
  {
   "cell_type": "code",
   "execution_count": 47,
   "id": "3c2bab29-5de9-4c08-8e06-39ec3118f85e",
   "metadata": {},
   "outputs": [
    {
     "name": "stdout",
     "output_type": "stream",
     "text": [
      "facet number: 11\n"
     ]
    },
    {
     "data": {
      "text/latex": [
       "$\\displaystyle - b_{1} + b_{4} - 2 = -1$"
      ],
      "text/plain": [
       "Eq(-b1 + b4 - 2, -1)"
      ]
     },
     "metadata": {},
     "output_type": "display_data"
    }
   ],
   "source": [
    "i=11\n",
    "print('facet number:', i)\n",
    "display(sp.Eq(C.determinants[i], C.orientation[i]))\n",
    "\n",
    "C.subs(b4, b1+1)"
   ]
  },
  {
   "cell_type": "code",
   "execution_count": 48,
   "id": "54f09f5f-8731-4d4b-874c-5aa3eba294ee",
   "metadata": {},
   "outputs": [
    {
     "name": "stdout",
     "output_type": "stream",
     "text": [
      "facet number: 15\n"
     ]
    },
    {
     "data": {
      "text/latex": [
       "$\\displaystyle - b_{3} c_{4} + b_{3} + c_{4} = 1$"
      ],
      "text/plain": [
       "Eq(-b3*c4 + b3 + c4, 1)"
      ]
     },
     "metadata": {},
     "output_type": "display_data"
    },
    {
     "data": {
      "text/latex": [
       "$\\displaystyle \\left(b_{3} - 1\\right) \\left(c_{4} - 1\\right) = 0$"
      ],
      "text/plain": [
       "Eq((b3 - 1)*(c4 - 1), 0)"
      ]
     },
     "metadata": {},
     "output_type": "display_data"
    }
   ],
   "source": [
    "i=15\n",
    "print('facet number:', i)\n",
    "display(sp.Eq(C.determinants[i], C.orientation[i]))\n",
    "display(sp.Eq((b3-1)*(c4-1), 0))"
   ]
  },
  {
   "cell_type": "markdown",
   "id": "27da851b-216e-4a30-80b2-a9620ac3e3c7",
   "metadata": {
    "jp-MarkdownHeadingCollapsed": true
   },
   "source": [
    "## $c_4=1$"
   ]
  },
  {
   "cell_type": "code",
   "execution_count": 49,
   "id": "a4e118c4-aeaa-463c-a089-a03af70d55c7",
   "metadata": {},
   "outputs": [],
   "source": [
    "C2 = copy.deepcopy(C1)\n",
    "C = C2\n",
    "C.subs(c4, 1)"
   ]
  },
  {
   "cell_type": "code",
   "execution_count": 50,
   "id": "f37fd636-5027-4c40-90ad-8e5b735b05d4",
   "metadata": {},
   "outputs": [
    {
     "data": {
      "text/latex": [
       "$\\displaystyle \\left[\\begin{matrix}1 & 0 & 0 & 0 & 0 & -1 & b_{0} & 0 & 1\\\\0 & 1 & 0 & 0 & 0 & -1 & b_{1} & 1 & 2\\\\0 & 0 & 1 & 0 & 0 & 1 & - b_{1} - 1 & -1 & -1\\\\0 & 0 & 0 & 1 & 0 & 0 & b_{3} & -1 & -1\\\\0 & 0 & 0 & 0 & 1 & -1 & b_{1} + 1 & 1 & 0\\end{matrix}\\right]$"
      ],
      "text/plain": [
       "Matrix([\n",
       "[1, 0, 0, 0, 0, -1,      b0,  0,  1],\n",
       "[0, 1, 0, 0, 0, -1,      b1,  1,  2],\n",
       "[0, 0, 1, 0, 0,  1, -b1 - 1, -1, -1],\n",
       "[0, 0, 0, 1, 0,  0,      b3, -1, -1],\n",
       "[0, 0, 0, 0, 1, -1,  b1 + 1,  1,  0]])"
      ]
     },
     "metadata": {},
     "output_type": "display_data"
    },
    {
     "name": "stdout",
     "output_type": "stream",
     "text": [
      "1\n"
     ]
    }
   ],
   "source": [
    "display(C.char)\n",
    "print(C.is_fangiving)\n",
    "fans.append(C.char)"
   ]
  },
  {
   "cell_type": "markdown",
   "id": "cf69808d-0154-4328-90f4-318b22e9f38b",
   "metadata": {
    "jp-MarkdownHeadingCollapsed": true
   },
   "source": [
    "## $b_3=1$ ($c_4 \\not= 1$)"
   ]
  },
  {
   "cell_type": "code",
   "execution_count": 51,
   "id": "e664fba5-0154-4e93-8e2d-01694b08f495",
   "metadata": {},
   "outputs": [],
   "source": [
    "C2 = copy.deepcopy(C1)\n",
    "C = C2\n",
    "C.subs(b3, 1)"
   ]
  },
  {
   "cell_type": "code",
   "execution_count": 52,
   "id": "52abdd84-3202-4998-afae-e9dfa4661f07",
   "metadata": {},
   "outputs": [
    {
     "name": "stdout",
     "output_type": "stream",
     "text": [
      "facet number: 12\n"
     ]
    },
    {
     "data": {
      "text/latex": [
       "$\\displaystyle - b_{1} c_{4} + b_{1} - 2 c_{4} + 1 = -1$"
      ],
      "text/plain": [
       "Eq(-b1*c4 + b1 - 2*c4 + 1, -1)"
      ]
     },
     "metadata": {},
     "output_type": "display_data"
    },
    {
     "data": {
      "text/latex": [
       "$\\displaystyle \\left(b_{1} + 2\\right) \\left(c_{4} - 1\\right) = 0$"
      ],
      "text/plain": [
       "Eq((b1 + 2)*(c4 - 1), 0)"
      ]
     },
     "metadata": {},
     "output_type": "display_data"
    }
   ],
   "source": [
    "i=12\n",
    "print('facet number:', i)\n",
    "display(sp.Eq(C.determinants[i], C.orientation[i]))\n",
    "display(sp.Eq((b1+2)*(c4-1), 0))\n",
    "\n",
    "C.subs(b1, -2)"
   ]
  },
  {
   "cell_type": "code",
   "execution_count": 53,
   "id": "c5fda35f-fdf6-45fc-ae71-3b15bf139fbd",
   "metadata": {},
   "outputs": [
    {
     "name": "stdout",
     "output_type": "stream",
     "text": [
      "facet number: 23\n"
     ]
    },
    {
     "data": {
      "text/latex": [
       "$\\displaystyle b_{0} c_{4} - b_{0} + c_{4} - 2 = -1$"
      ],
      "text/plain": [
       "Eq(b0*c4 - b0 + c4 - 2, -1)"
      ]
     },
     "metadata": {},
     "output_type": "display_data"
    },
    {
     "data": {
      "text/latex": [
       "$\\displaystyle \\left(b_{0} + 1\\right) \\left(c_{4} - 1\\right) = 0$"
      ],
      "text/plain": [
       "Eq((b0 + 1)*(c4 - 1), 0)"
      ]
     },
     "metadata": {},
     "output_type": "display_data"
    },
    {
     "name": "stdout",
     "output_type": "stream",
     "text": [
      "b0=-1, b1=-2, b3=1 => type 2\n"
     ]
    }
   ],
   "source": [
    "i=23\n",
    "print('facet number:', i)\n",
    "display(sp.Eq(C.determinants[i], C.orientation[i]))\n",
    "display(sp.Eq((b0+1)*(c4-1), 0))\n",
    "\n",
    "print('b0=-1, b1=-2, b3=1 => type 2')"
   ]
  },
  {
   "cell_type": "markdown",
   "id": "57001740-048a-4cbb-bd6b-6092144394f6",
   "metadata": {
    "jp-MarkdownHeadingCollapsed": true
   },
   "source": [
    "# Type 5 of the projection"
   ]
  },
  {
   "cell_type": "code",
   "execution_count": 54,
   "id": "1402029f-d56d-4b42-b109-f58e1fa50ec3",
   "metadata": {},
   "outputs": [
    {
     "data": {
      "text/latex": [
       "$\\displaystyle \\left[\\begin{matrix}1 & 0 & 0 & 0 & -1 & b_{0} & c_{0} & d_{0}\\\\0 & 1 & 0 & 0 & -1 & b_{1} & c_{1} & d_{1}\\\\0 & 0 & 1 & 0 & a_{2} & b_{2} & c_{2} & -1\\\\0 & 0 & 0 & 1 & a_{3} & b_{3} & c_{3} & -1\\end{matrix}\\right] = \\left[\\begin{matrix}1 & 0 & 0 & 0 & -1 & - c_{2} - 1 & - c_{2} - 1 & 1\\\\0 & 1 & 0 & 0 & -1 & - c_{2} - 2 & - c_{2} - 1 & 1\\\\0 & 0 & 1 & 0 & 1 & c_{2} + 1 & c_{2} & -1\\\\0 & 0 & 0 & 1 & 0 & c_{3} + 1 & c_{3} & -1\\end{matrix}\\right]$"
      ],
      "text/plain": [
       "Eq(Matrix([\n",
       "[1, 0, 0, 0, -1, b0, c0, d0],\n",
       "[0, 1, 0, 0, -1, b1, c1, d1],\n",
       "[0, 0, 1, 0, a2, b2, c2, -1],\n",
       "[0, 0, 0, 1, a3, b3, c3, -1]]), Matrix([\n",
       "[1, 0, 0, 0, -1, -c2 - 1, -c2 - 1,  1],\n",
       "[0, 1, 0, 0, -1, -c2 - 2, -c2 - 1,  1],\n",
       "[0, 0, 1, 0,  1,  c2 + 1,      c2, -1],\n",
       "[0, 0, 0, 1,  0,  c3 + 1,      c3, -1]]))"
      ]
     },
     "metadata": {},
     "output_type": "display_data"
    }
   ],
   "source": [
    "C1 = copy.deepcopy(C0)\n",
    "C = C1\n",
    "t=5\n",
    "\n",
    "proj = C.proj([projectied_vertex])\n",
    "with sp.evaluate(False):\n",
    "    display(sp.Eq(proj, fans_link[t]))"
   ]
  },
  {
   "cell_type": "code",
   "execution_count": 55,
   "id": "5a82d8f5-2a6f-413f-a59f-b140d863cb04",
   "metadata": {},
   "outputs": [
    {
     "data": {
      "text/latex": [
       "$\\displaystyle \\text{True}$"
      ],
      "text/plain": [
       "True"
      ]
     },
     "metadata": {},
     "output_type": "display_data"
    }
   ],
   "source": [
    "C.subs(a2, 1)\n",
    "C.subs(a3, 0)\n",
    "C.subs(b0, -c2-1)\n",
    "C.subs(b1, -c2-2)\n",
    "C.subs(b2, c2+1)\n",
    "C.subs(b3, c3+1)\n",
    "C.subs(c0, -c2-1)\n",
    "C.subs(c1, -c2-1)\n",
    "C.subs(d0, 1)\n",
    "C.subs(d1, 1)\n",
    "\n",
    "display(sp.Eq(C.proj([projectied_vertex]), fans_link[t]))"
   ]
  },
  {
   "cell_type": "code",
   "execution_count": 56,
   "id": "6086cb94-02c4-4191-8680-c8a85764d5ac",
   "metadata": {},
   "outputs": [
    {
     "name": "stdout",
     "output_type": "stream",
     "text": [
      "facet number: 5\n"
     ]
    },
    {
     "data": {
      "text/latex": [
       "$\\displaystyle 1 - d_{4} = 1$"
      ],
      "text/plain": [
       "Eq(1 - d4, 1)"
      ]
     },
     "metadata": {},
     "output_type": "display_data"
    }
   ],
   "source": [
    "i=5\n",
    "print('facet number:', i)\n",
    "display(sp.Eq(C.determinants[i], C.orientation[i]))\n",
    "\n",
    "C.subs(d4, 0)"
   ]
  },
  {
   "cell_type": "code",
   "execution_count": 57,
   "id": "ca24d235-eced-49ee-855f-9f29ce0dc6d9",
   "metadata": {},
   "outputs": [
    {
     "name": "stdout",
     "output_type": "stream",
     "text": [
      "facet number: 12\n"
     ]
    },
    {
     "data": {
      "text/latex": [
       "$\\displaystyle b_{4} - c_{4} = -1$"
      ],
      "text/plain": [
       "Eq(b4 - c4, -1)"
      ]
     },
     "metadata": {},
     "output_type": "display_data"
    }
   ],
   "source": [
    "i=12\n",
    "print('facet number:', i)\n",
    "display(sp.Eq(C.determinants[i], C.orientation[i]))\n",
    "\n",
    "C.subs(b4, c4-1)"
   ]
  },
  {
   "cell_type": "code",
   "execution_count": 58,
   "id": "f4d1c0b3-5d5d-41d4-b165-35e58962f6be",
   "metadata": {},
   "outputs": [
    {
     "data": {
      "text/latex": [
       "$\\displaystyle \\left[\\begin{matrix}1 & 0 & 0 & 0 & 0 & -1 & - c_{2} - 1 & - c_{2} - 1 & 1\\\\0 & 1 & 0 & 0 & 0 & -1 & - c_{2} - 2 & - c_{2} - 1 & 1\\\\0 & 0 & 1 & 0 & 0 & 1 & c_{2} + 1 & c_{2} & -1\\\\0 & 0 & 0 & 1 & 0 & 0 & c_{3} + 1 & c_{3} & -1\\\\0 & 0 & 0 & 0 & 1 & -1 & c_{4} - 1 & c_{4} & 0\\end{matrix}\\right]$"
      ],
      "text/plain": [
       "Matrix([\n",
       "[1, 0, 0, 0, 0, -1, -c2 - 1, -c2 - 1,  1],\n",
       "[0, 1, 0, 0, 0, -1, -c2 - 2, -c2 - 1,  1],\n",
       "[0, 0, 1, 0, 0,  1,  c2 + 1,      c2, -1],\n",
       "[0, 0, 0, 1, 0,  0,  c3 + 1,      c3, -1],\n",
       "[0, 0, 0, 0, 1, -1,  c4 - 1,      c4,  0]])"
      ]
     },
     "metadata": {},
     "output_type": "display_data"
    },
    {
     "name": "stdout",
     "output_type": "stream",
     "text": [
      "1\n"
     ]
    }
   ],
   "source": [
    "display(C.char)\n",
    "print(C.is_fangiving)\n",
    "fans.append(C.char)"
   ]
  },
  {
   "cell_type": "markdown",
   "id": "3d775529-1950-48f5-a17e-9375d5ad7273",
   "metadata": {
    "jp-MarkdownHeadingCollapsed": true
   },
   "source": [
    "# Type 6 of the projection"
   ]
  },
  {
   "cell_type": "code",
   "execution_count": 59,
   "id": "ac99d4de-fccc-429f-a055-d21ae0c5949d",
   "metadata": {},
   "outputs": [
    {
     "data": {
      "text/latex": [
       "$\\displaystyle \\left[\\begin{matrix}1 & 0 & 0 & 0 & -1 & b_{0} & c_{0} & d_{0}\\\\0 & 1 & 0 & 0 & -1 & b_{1} & c_{1} & d_{1}\\\\0 & 0 & 1 & 0 & a_{2} & b_{2} & c_{2} & -1\\\\0 & 0 & 0 & 1 & a_{3} & b_{3} & c_{3} & -1\\end{matrix}\\right] = \\left[\\begin{matrix}1 & 0 & 0 & 0 & -1 & -1 & -1 & 0\\\\0 & 1 & 0 & 0 & -1 & -2 & -1 & 0\\\\0 & 0 & 1 & 0 & c_{2} + 1 & 2 c_{2} + 1 & c_{2} & -1\\\\0 & 0 & 0 & 1 & c_{3} & 2 c_{3} + 1 & c_{3} & -1\\end{matrix}\\right]$"
      ],
      "text/plain": [
       "Eq(Matrix([\n",
       "[1, 0, 0, 0, -1, b0, c0, d0],\n",
       "[0, 1, 0, 0, -1, b1, c1, d1],\n",
       "[0, 0, 1, 0, a2, b2, c2, -1],\n",
       "[0, 0, 0, 1, a3, b3, c3, -1]]), Matrix([\n",
       "[1, 0, 0, 0,     -1,       -1, -1,  0],\n",
       "[0, 1, 0, 0,     -1,       -2, -1,  0],\n",
       "[0, 0, 1, 0, c2 + 1, 2*c2 + 1, c2, -1],\n",
       "[0, 0, 0, 1,     c3, 2*c3 + 1, c3, -1]]))"
      ]
     },
     "metadata": {},
     "output_type": "display_data"
    }
   ],
   "source": [
    "C1 = copy.deepcopy(C0)\n",
    "C = C1\n",
    "t=6\n",
    "\n",
    "proj = C.proj([projectied_vertex])\n",
    "with sp.evaluate(False):\n",
    "    display(sp.Eq(proj, fans_link[t]))"
   ]
  },
  {
   "cell_type": "code",
   "execution_count": 60,
   "id": "e50db197-96fa-4a73-8864-d7ed4f876754",
   "metadata": {},
   "outputs": [
    {
     "data": {
      "text/latex": [
       "$\\displaystyle \\text{True}$"
      ],
      "text/plain": [
       "True"
      ]
     },
     "metadata": {},
     "output_type": "display_data"
    }
   ],
   "source": [
    "C.subs(a2, c2+1)\n",
    "C.subs(a3, c3)\n",
    "C.subs(b0, -1)\n",
    "C.subs(b1, -2)\n",
    "C.subs(b2, 2*c2+1)\n",
    "C.subs(b3, 2*c3+1)\n",
    "C.subs(c0, -1)\n",
    "C.subs(c1, -1)\n",
    "C.subs(d0, 0)\n",
    "C.subs(d1, 0)\n",
    "\n",
    "display(sp.Eq(C.proj([projectied_vertex]), fans_link[t]))"
   ]
  },
  {
   "cell_type": "code",
   "execution_count": 61,
   "id": "f17c963f-62c9-40a3-bc06-cffbd5fab104",
   "metadata": {},
   "outputs": [
    {
     "name": "stdout",
     "output_type": "stream",
     "text": [
      "facet number: 20\n"
     ]
    },
    {
     "data": {
      "text/latex": [
       "$\\displaystyle c_{4} - d_{4} + 1 = 1$"
      ],
      "text/plain": [
       "Eq(c4 - d4 + 1, 1)"
      ]
     },
     "metadata": {},
     "output_type": "display_data"
    }
   ],
   "source": [
    "i=20\n",
    "print('facet number:', i)\n",
    "display(sp.Eq(C.determinants[i], C.orientation[i]))\n",
    "\n",
    "C.subs(d4, c4)"
   ]
  },
  {
   "cell_type": "code",
   "execution_count": 62,
   "id": "fda17d93-2ca8-475c-a303-0fb7d9991f40",
   "metadata": {},
   "outputs": [
    {
     "name": "stdout",
     "output_type": "stream",
     "text": [
      "facet number: 12\n"
     ]
    },
    {
     "data": {
      "text/latex": [
       "$\\displaystyle b_{4} - c_{4} = -1$"
      ],
      "text/plain": [
       "Eq(b4 - c4, -1)"
      ]
     },
     "metadata": {},
     "output_type": "display_data"
    }
   ],
   "source": [
    "i=12\n",
    "print('facet number:', i)\n",
    "display(sp.Eq(C.determinants[i], C.orientation[i]))\n",
    "\n",
    "C.subs(b4, c4-1)"
   ]
  },
  {
   "cell_type": "code",
   "execution_count": 63,
   "id": "97d61adf-b6d8-4a40-9860-abf90fa87b19",
   "metadata": {},
   "outputs": [
    {
     "name": "stdout",
     "output_type": "stream",
     "text": [
      "facet number: 3\n"
     ]
    },
    {
     "data": {
      "text/latex": [
       "$\\displaystyle c_{3} c_{4} - 1 = -1$"
      ],
      "text/plain": [
       "Eq(c3*c4 - 1, -1)"
      ]
     },
     "metadata": {},
     "output_type": "display_data"
    },
    {
     "name": "stdout",
     "output_type": "stream",
     "text": [
      "facet number: 5\n"
     ]
    },
    {
     "data": {
      "text/latex": [
       "$\\displaystyle - c_{2} c_{4} - c_{4} + 1 = 1$"
      ],
      "text/plain": [
       "Eq(-c2*c4 - c4 + 1, 1)"
      ]
     },
     "metadata": {},
     "output_type": "display_data"
    },
    {
     "name": "stdout",
     "output_type": "stream",
     "text": [
      "c4!=0 => c2=-1, c3=0 => type 1\n"
     ]
    }
   ],
   "source": [
    "i=3\n",
    "print('facet number:', i)\n",
    "display(sp.Eq(C.determinants[i], C.orientation[i]))\n",
    "\n",
    "i=5\n",
    "print('facet number:', i)\n",
    "display(sp.Eq(C.determinants[i], C.orientation[i]))\n",
    "\n",
    "print('c4!=0 => c2=-1, c3=0 => type 1')\n",
    "C.subs(c4, 0)"
   ]
  },
  {
   "cell_type": "code",
   "execution_count": 64,
   "id": "0cfc817e-6118-4fc7-92cd-ed04802aae88",
   "metadata": {},
   "outputs": [
    {
     "data": {
      "text/latex": [
       "$\\displaystyle \\left[\\begin{matrix}1 & 0 & 0 & 0 & 0 & -1 & -1 & -1 & 0\\\\0 & 1 & 0 & 0 & 0 & -1 & -2 & -1 & 0\\\\0 & 0 & 1 & 0 & 0 & c_{2} + 1 & 2 c_{2} + 1 & c_{2} & -1\\\\0 & 0 & 0 & 1 & 0 & c_{3} & 2 c_{3} + 1 & c_{3} & -1\\\\0 & 0 & 0 & 0 & 1 & -1 & -1 & 0 & 0\\end{matrix}\\right]$"
      ],
      "text/plain": [
       "Matrix([\n",
       "[1, 0, 0, 0, 0,     -1,       -1, -1,  0],\n",
       "[0, 1, 0, 0, 0,     -1,       -2, -1,  0],\n",
       "[0, 0, 1, 0, 0, c2 + 1, 2*c2 + 1, c2, -1],\n",
       "[0, 0, 0, 1, 0,     c3, 2*c3 + 1, c3, -1],\n",
       "[0, 0, 0, 0, 1,     -1,       -1,  0,  0]])"
      ]
     },
     "metadata": {},
     "output_type": "display_data"
    },
    {
     "name": "stdout",
     "output_type": "stream",
     "text": [
      "1\n"
     ]
    }
   ],
   "source": [
    "display(C.char)\n",
    "print(C.is_fangiving)\n",
    "fans.append(C.char)"
   ]
  },
  {
   "cell_type": "markdown",
   "id": "9b8590f3-d93a-4249-ae81-982db5b374cb",
   "metadata": {
    "jp-MarkdownHeadingCollapsed": true
   },
   "source": [
    "# Type 7 of the projection"
   ]
  },
  {
   "cell_type": "code",
   "execution_count": 65,
   "id": "5e575465-867d-444a-98cc-2856cdc63d6a",
   "metadata": {},
   "outputs": [
    {
     "data": {
      "text/latex": [
       "$\\displaystyle \\left[\\begin{matrix}1 & 0 & 0 & 0 & -1 & b_{0} & c_{0} & d_{0}\\\\0 & 1 & 0 & 0 & -1 & b_{1} & c_{1} & d_{1}\\\\0 & 0 & 1 & 0 & a_{2} & b_{2} & c_{2} & -1\\\\0 & 0 & 0 & 1 & a_{3} & b_{3} & c_{3} & -1\\end{matrix}\\right] = \\left[\\begin{matrix}1 & 0 & 0 & 0 & -1 & 0 & 0 & 1\\\\0 & 1 & 0 & 0 & -1 & -1 & 0 & 1\\\\0 & 0 & 1 & 0 & a_{2} & a_{2} - 1 & -1 & -1\\\\0 & 0 & 0 & 1 & 0 & 1 & 0 & -1\\end{matrix}\\right]$"
      ],
      "text/plain": [
       "Eq(Matrix([\n",
       "[1, 0, 0, 0, -1, b0, c0, d0],\n",
       "[0, 1, 0, 0, -1, b1, c1, d1],\n",
       "[0, 0, 1, 0, a2, b2, c2, -1],\n",
       "[0, 0, 0, 1, a3, b3, c3, -1]]), Matrix([\n",
       "[1, 0, 0, 0, -1,      0,  0,  1],\n",
       "[0, 1, 0, 0, -1,     -1,  0,  1],\n",
       "[0, 0, 1, 0, a2, a2 - 1, -1, -1],\n",
       "[0, 0, 0, 1,  0,      1,  0, -1]]))"
      ]
     },
     "metadata": {},
     "output_type": "display_data"
    }
   ],
   "source": [
    "C1 = copy.deepcopy(C0)\n",
    "C = C1\n",
    "t=7\n",
    "\n",
    "proj = C.proj([projectied_vertex])\n",
    "with sp.evaluate(False):\n",
    "    display(sp.Eq(proj, fans_link[t]))"
   ]
  },
  {
   "cell_type": "code",
   "execution_count": 66,
   "id": "5e22668d-258f-46e0-af84-101ced9f43c1",
   "metadata": {},
   "outputs": [
    {
     "data": {
      "text/latex": [
       "$\\displaystyle \\text{True}$"
      ],
      "text/plain": [
       "True"
      ]
     },
     "metadata": {},
     "output_type": "display_data"
    }
   ],
   "source": [
    "C.subs(a3, 0)\n",
    "C.subs(b0, 0)\n",
    "C.subs(b1, -1)\n",
    "C.subs(b2, a2-1)\n",
    "C.subs(b3, 1)\n",
    "C.subs(c0, 0)\n",
    "C.subs(c1, 0)\n",
    "C.subs(c2, -1)\n",
    "C.subs(c3, 0)\n",
    "C.subs(d0, 1)\n",
    "C.subs(d1, 1)\n",
    "\n",
    "display(sp.Eq(C.proj([projectied_vertex]), fans_link[t]))"
   ]
  },
  {
   "cell_type": "code",
   "execution_count": 67,
   "id": "8bb1ce49-6baa-4b1e-a9ee-ce0556c64268",
   "metadata": {},
   "outputs": [
    {
     "name": "stdout",
     "output_type": "stream",
     "text": [
      "facet number: 5\n"
     ]
    },
    {
     "data": {
      "text/latex": [
       "$\\displaystyle - a_{2} d_{4} + 1 = 1$"
      ],
      "text/plain": [
       "Eq(-a2*d4 + 1, 1)"
      ]
     },
     "metadata": {},
     "output_type": "display_data"
    },
    {
     "name": "stdout",
     "output_type": "stream",
     "text": [
      "a2=0 => type 1\n"
     ]
    }
   ],
   "source": [
    "i=5\n",
    "print('facet number:', i)\n",
    "display(sp.Eq(C.determinants[i], C.orientation[i]))\n",
    "\n",
    "print('a2=0 => type 1')\n",
    "\n",
    "C.subs(d4, 0)"
   ]
  },
  {
   "cell_type": "code",
   "execution_count": 68,
   "id": "9f483062-3043-45bb-9b42-ea277b99c1f0",
   "metadata": {},
   "outputs": [
    {
     "name": "stdout",
     "output_type": "stream",
     "text": [
      "facet number: 23\n"
     ]
    },
    {
     "data": {
      "text/latex": [
       "$\\displaystyle a_{2} c_{4} - c_{4} - 1 = -1$"
      ],
      "text/plain": [
       "Eq(a2*c4 - c4 - 1, -1)"
      ]
     },
     "metadata": {},
     "output_type": "display_data"
    },
    {
     "name": "stdout",
     "output_type": "stream",
     "text": [
      "a2=1 => type 5\n"
     ]
    }
   ],
   "source": [
    "i=23\n",
    "print('facet number:', i)\n",
    "display(sp.Eq(C.determinants[i], C.orientation[i]))\n",
    "\n",
    "print('a2=1 => type 5')\n",
    "\n",
    "C.subs(c4, 0)"
   ]
  },
  {
   "cell_type": "code",
   "execution_count": 69,
   "id": "25f5c64a-5f18-4f97-b391-43036ace17f4",
   "metadata": {},
   "outputs": [
    {
     "name": "stdout",
     "output_type": "stream",
     "text": [
      "facet number: 12\n"
     ]
    },
    {
     "data": {
      "text/latex": [
       "$\\displaystyle b_{4} = -1$"
      ],
      "text/plain": [
       "Eq(b4, -1)"
      ]
     },
     "metadata": {},
     "output_type": "display_data"
    }
   ],
   "source": [
    "i=12\n",
    "print('facet number:', i)\n",
    "display(sp.Eq(C.determinants[i], C.orientation[i]))\n",
    "\n",
    "C.subs(b4, -1)"
   ]
  },
  {
   "cell_type": "code",
   "execution_count": 70,
   "id": "e3014429-76be-4d23-8639-72e074fbc372",
   "metadata": {},
   "outputs": [
    {
     "data": {
      "text/latex": [
       "$\\displaystyle \\left[\\begin{matrix}1 & 0 & 0 & 0 & 0 & -1 & 0 & 0 & 1\\\\0 & 1 & 0 & 0 & 0 & -1 & -1 & 0 & 1\\\\0 & 0 & 1 & 0 & 0 & a_{2} & a_{2} - 1 & -1 & -1\\\\0 & 0 & 0 & 1 & 0 & 0 & 1 & 0 & -1\\\\0 & 0 & 0 & 0 & 1 & -1 & -1 & 0 & 0\\end{matrix}\\right]$"
      ],
      "text/plain": [
       "Matrix([\n",
       "[1, 0, 0, 0, 0, -1,      0,  0,  1],\n",
       "[0, 1, 0, 0, 0, -1,     -1,  0,  1],\n",
       "[0, 0, 1, 0, 0, a2, a2 - 1, -1, -1],\n",
       "[0, 0, 0, 1, 0,  0,      1,  0, -1],\n",
       "[0, 0, 0, 0, 1, -1,     -1,  0,  0]])"
      ]
     },
     "metadata": {},
     "output_type": "display_data"
    },
    {
     "name": "stdout",
     "output_type": "stream",
     "text": [
      "1\n"
     ]
    }
   ],
   "source": [
    "display(C.char)\n",
    "print(C.is_fangiving)\n",
    "fans.append(C.char)"
   ]
  },
  {
   "cell_type": "markdown",
   "id": "4f26fee5-c29b-45b7-8b10-90384808406e",
   "metadata": {
    "jp-MarkdownHeadingCollapsed": true
   },
   "source": [
    "# There are 8 types of fans up to D-J equivalence"
   ]
  },
  {
   "cell_type": "markdown",
   "id": "a15f2171-c6f5-4b81-b34a-b136a2025094",
   "metadata": {
    "jp-MarkdownHeadingCollapsed": true
   },
   "source": [
    "## removing redundatnt ones"
   ]
  },
  {
   "cell_type": "code",
   "execution_count": 75,
   "id": "2febc058-1864-4f1b-8d8d-5ddcc343d413",
   "metadata": {},
   "outputs": [
    {
     "data": {
      "text/latex": [
       "$\\displaystyle \\left[\\begin{matrix}1 & 0 & 0 & 0 & 0 & -1 & -1 & -1 & 1\\\\0 & 1 & 0 & 0 & 0 & -1 & -2 & -1 & 2\\\\0 & 0 & 1 & 0 & 0 & 1 & 1 & 0 & -1\\\\0 & 0 & 0 & 1 & 0 & 0 & 1 & 0 & -1\\\\0 & 0 & 0 & 0 & 1 & -1 & -1 & c_{4} & 0\\end{matrix}\\right]$"
      ],
      "text/plain": [
       "Matrix([\n",
       "[1, 0, 0, 0, 0, -1, -1, -1,  1],\n",
       "[0, 1, 0, 0, 0, -1, -2, -1,  2],\n",
       "[0, 0, 1, 0, 0,  1,  1,  0, -1],\n",
       "[0, 0, 0, 1, 0,  0,  1,  0, -1],\n",
       "[0, 0, 0, 0, 1, -1, -1, c4,  0]])"
      ]
     },
     "metadata": {},
     "output_type": "display_data"
    },
    {
     "data": {
      "text/latex": [
       "$\\displaystyle \\left[\\begin{matrix}1 & 0 & 0 & 0 & 0 & -1 & -1 & - c_{3} - 1 & 1\\\\0 & 1 & 0 & 0 & 0 & -1 & -2 & - 2 c_{3} - 1 & 2\\\\0 & 0 & 1 & 0 & 0 & 1 & 1 & c_{3} & -1\\\\0 & 0 & 0 & 1 & 0 & 0 & 1 & c_{3} & -1\\\\0 & 0 & 0 & 0 & 1 & -1 & -1 & c_{4} & 0\\end{matrix}\\right]$"
      ],
      "text/plain": [
       "Matrix([\n",
       "[1, 0, 0, 0, 0, -1, -1,   -c3 - 1,  1],\n",
       "[0, 1, 0, 0, 0, -1, -2, -2*c3 - 1,  2],\n",
       "[0, 0, 1, 0, 0,  1,  1,        c3, -1],\n",
       "[0, 0, 0, 1, 0,  0,  1,        c3, -1],\n",
       "[0, 0, 0, 0, 1, -1, -1,        c4,  0]])"
      ]
     },
     "metadata": {},
     "output_type": "display_data"
    },
    {
     "data": {
      "text/latex": [
       "$\\displaystyle \\text{True}$"
      ],
      "text/plain": [
       "True"
      ]
     },
     "metadata": {},
     "output_type": "display_data"
    }
   ],
   "source": [
    "i, j = 1, 4\n",
    "display(fans[i], fans[j])\n",
    "display(sp.Eq(fans[i],fans[j].subs(c3,0)))\n",
    "fans.remove(fans[i])"
   ]
  },
  {
   "cell_type": "code",
   "execution_count": 76,
   "id": "1bda65c1-25ab-4b0c-bd62-796ac7443214",
   "metadata": {},
   "outputs": [
    {
     "data": {
      "text/latex": [
       "$\\displaystyle \\left[\\begin{matrix}1 & 0 & 0 & 0 & 0 & -1 & -1 & -1 & 1\\\\0 & 1 & 0 & 0 & 0 & -1 & -2 & -1 & 1\\\\0 & 0 & 1 & 0 & 0 & 1 & 1 & 0 & -1\\\\0 & 0 & 0 & 1 & 0 & 0 & 1 & 0 & -1\\\\0 & 0 & 0 & 0 & 1 & -1 & b_{4} & b_{4} + 1 & 0\\end{matrix}\\right]$"
      ],
      "text/plain": [
       "Matrix([\n",
       "[1, 0, 0, 0, 0, -1, -1,     -1,  1],\n",
       "[0, 1, 0, 0, 0, -1, -2,     -1,  1],\n",
       "[0, 0, 1, 0, 0,  1,  1,      0, -1],\n",
       "[0, 0, 0, 1, 0,  0,  1,      0, -1],\n",
       "[0, 0, 0, 0, 1, -1, b4, b4 + 1,  0]])"
      ]
     },
     "metadata": {},
     "output_type": "display_data"
    },
    {
     "data": {
      "text/latex": [
       "$\\displaystyle \\left[\\begin{matrix}1 & 0 & 0 & 0 & 0 & -1 & - c_{2} - 1 & - c_{2} - 1 & 1\\\\0 & 1 & 0 & 0 & 0 & -1 & - c_{2} - 2 & - c_{2} - 1 & 1\\\\0 & 0 & 1 & 0 & 0 & 1 & c_{2} + 1 & c_{2} & -1\\\\0 & 0 & 0 & 1 & 0 & 0 & c_{3} + 1 & c_{3} & -1\\\\0 & 0 & 0 & 0 & 1 & -1 & c_{4} - 1 & c_{4} & 0\\end{matrix}\\right]$"
      ],
      "text/plain": [
       "Matrix([\n",
       "[1, 0, 0, 0, 0, -1, -c2 - 1, -c2 - 1,  1],\n",
       "[0, 1, 0, 0, 0, -1, -c2 - 2, -c2 - 1,  1],\n",
       "[0, 0, 1, 0, 0,  1,  c2 + 1,      c2, -1],\n",
       "[0, 0, 0, 1, 0,  0,  c3 + 1,      c3, -1],\n",
       "[0, 0, 0, 0, 1, -1,  c4 - 1,      c4,  0]])"
      ]
     },
     "metadata": {},
     "output_type": "display_data"
    },
    {
     "data": {
      "text/latex": [
       "$\\displaystyle \\text{True}$"
      ],
      "text/plain": [
       "True"
      ]
     },
     "metadata": {},
     "output_type": "display_data"
    }
   ],
   "source": [
    "i, j = 1, 7\n",
    "display(fans[i], fans[j])\n",
    "display(sp.Eq(fans[i],fans[j].subs(c2,0).subs(c3,0).subs(c4,b4+1)))\n",
    "fans.remove(fans[i])"
   ]
  },
  {
   "cell_type": "code",
   "execution_count": 77,
   "id": "8c258d74-fb07-4762-9d33-5c62a24ccc6c",
   "metadata": {},
   "outputs": [
    {
     "data": {
      "text/latex": [
       "$\\displaystyle \\left[\\begin{matrix}1 & 0 & 0 & 0 & 0 & -1 & 0 & 0 & 1\\\\0 & 1 & 0 & 0 & 0 & -1 & -1 & 0 & 1\\\\0 & 0 & 1 & 0 & 0 & 1 & 0 & -1 & -1\\\\0 & 0 & 0 & 1 & 0 & 0 & 0 & -1 & -1\\\\0 & 0 & 0 & 0 & 1 & -1 & c_{4} - 1 & c_{4} & 0\\end{matrix}\\right]$"
      ],
      "text/plain": [
       "Matrix([\n",
       "[1, 0, 0, 0, 0, -1,      0,  0,  1],\n",
       "[0, 1, 0, 0, 0, -1,     -1,  0,  1],\n",
       "[0, 0, 1, 0, 0,  1,      0, -1, -1],\n",
       "[0, 0, 0, 1, 0,  0,      0, -1, -1],\n",
       "[0, 0, 0, 0, 1, -1, c4 - 1, c4,  0]])"
      ]
     },
     "metadata": {},
     "output_type": "display_data"
    },
    {
     "data": {
      "text/latex": [
       "$\\displaystyle \\left[\\begin{matrix}1 & 0 & 0 & 0 & 0 & -1 & - c_{2} - 1 & - c_{2} - 1 & 1\\\\0 & 1 & 0 & 0 & 0 & -1 & - c_{2} - 2 & - c_{2} - 1 & 1\\\\0 & 0 & 1 & 0 & 0 & 1 & c_{2} + 1 & c_{2} & -1\\\\0 & 0 & 0 & 1 & 0 & 0 & c_{3} + 1 & c_{3} & -1\\\\0 & 0 & 0 & 0 & 1 & -1 & c_{4} - 1 & c_{4} & 0\\end{matrix}\\right]$"
      ],
      "text/plain": [
       "Matrix([\n",
       "[1, 0, 0, 0, 0, -1, -c2 - 1, -c2 - 1,  1],\n",
       "[0, 1, 0, 0, 0, -1, -c2 - 2, -c2 - 1,  1],\n",
       "[0, 0, 1, 0, 0,  1,  c2 + 1,      c2, -1],\n",
       "[0, 0, 0, 1, 0,  0,  c3 + 1,      c3, -1],\n",
       "[0, 0, 0, 0, 1, -1,  c4 - 1,      c4,  0]])"
      ]
     },
     "metadata": {},
     "output_type": "display_data"
    },
    {
     "data": {
      "text/latex": [
       "$\\displaystyle \\text{True}$"
      ],
      "text/plain": [
       "True"
      ]
     },
     "metadata": {},
     "output_type": "display_data"
    }
   ],
   "source": [
    "i, j = 4, 6\n",
    "display(fans[i], fans[j])\n",
    "display(sp.Eq(fans[i],fans[j].subs(c2,-1).subs(c3,-1)))\n",
    "fans.remove(fans[i])"
   ]
  },
  {
   "cell_type": "markdown",
   "id": "ad880c11-a2bf-4410-8385-17707aeebec7",
   "metadata": {
    "jp-MarkdownHeadingCollapsed": true
   },
   "source": [
    "## list"
   ]
  },
  {
   "cell_type": "code",
   "execution_count": 78,
   "id": "70a6fda2-396f-4fc1-a2c6-b7b385d8319f",
   "metadata": {},
   "outputs": [
    {
     "data": {
      "text/latex": [
       "$\\displaystyle \\left[\\begin{matrix}1 & 0 & 0 & 0 & 0 & -1 & -1 & -1 & d_{0}\\\\0 & 1 & 0 & 0 & 0 & -1 & -2 & -1 & d_{1}\\\\0 & 0 & 1 & 0 & 0 & 1 & 1 & 0 & -1\\\\0 & 0 & 0 & 1 & 0 & 0 & 1 & 0 & -1\\\\0 & 0 & 0 & 0 & 1 & -1 & -1 & 0 & 0\\end{matrix}\\right]$"
      ],
      "text/plain": [
       "Matrix([\n",
       "[1, 0, 0, 0, 0, -1, -1, -1, d0],\n",
       "[0, 1, 0, 0, 0, -1, -2, -1, d1],\n",
       "[0, 0, 1, 0, 0,  1,  1,  0, -1],\n",
       "[0, 0, 0, 1, 0,  0,  1,  0, -1],\n",
       "[0, 0, 0, 0, 1, -1, -1,  0,  0]])"
      ]
     },
     "metadata": {},
     "output_type": "display_data"
    },
    {
     "data": {
      "text/latex": [
       "$\\displaystyle \\left[\\begin{matrix}1 & 0 & 0 & 0 & 0 & -1 & d_{0} - 1 & d_{0} - 1 & d_{0}\\\\0 & 1 & 0 & 0 & 0 & -1 & d_{1} - 2 & d_{1} - 1 & d_{1}\\\\0 & 0 & 1 & 0 & 0 & 0 & -1 & -1 & -1\\\\0 & 0 & 0 & 1 & 0 & 0 & 1 & 0 & -1\\\\0 & 0 & 0 & 0 & 1 & -1 & d_{4} - 1 & d_{4} & d_{4}\\end{matrix}\\right]$"
      ],
      "text/plain": [
       "Matrix([\n",
       "[1, 0, 0, 0, 0, -1, d0 - 1, d0 - 1, d0],\n",
       "[0, 1, 0, 0, 0, -1, d1 - 2, d1 - 1, d1],\n",
       "[0, 0, 1, 0, 0,  0,     -1,     -1, -1],\n",
       "[0, 0, 0, 1, 0,  0,      1,      0, -1],\n",
       "[0, 0, 0, 0, 1, -1, d4 - 1,     d4, d4]])"
      ]
     },
     "metadata": {},
     "output_type": "display_data"
    },
    {
     "data": {
      "text/latex": [
       "$\\displaystyle \\left[\\begin{matrix}1 & 0 & 0 & 0 & 0 & -1 & -1 & - c_{3} - 1 & 1\\\\0 & 1 & 0 & 0 & 0 & -1 & -2 & - 2 c_{3} - 1 & 2\\\\0 & 0 & 1 & 0 & 0 & 1 & 1 & c_{3} & -1\\\\0 & 0 & 0 & 1 & 0 & 0 & 1 & c_{3} & -1\\\\0 & 0 & 0 & 0 & 1 & -1 & -1 & c_{4} & 0\\end{matrix}\\right]$"
      ],
      "text/plain": [
       "Matrix([\n",
       "[1, 0, 0, 0, 0, -1, -1,   -c3 - 1,  1],\n",
       "[0, 1, 0, 0, 0, -1, -2, -2*c3 - 1,  2],\n",
       "[0, 0, 1, 0, 0,  1,  1,        c3, -1],\n",
       "[0, 0, 0, 1, 0,  0,  1,        c3, -1],\n",
       "[0, 0, 0, 0, 1, -1, -1,        c4,  0]])"
      ]
     },
     "metadata": {},
     "output_type": "display_data"
    },
    {
     "data": {
      "text/latex": [
       "$\\displaystyle \\left[\\begin{matrix}1 & 0 & 0 & 0 & 0 & -1 & 0 & 0 & 1\\\\0 & 1 & 0 & 0 & 0 & -1 & -1 & d_{1} - 1 & d_{1}\\\\0 & 0 & 1 & 0 & 0 & 1 & 0 & -1 & -1\\\\0 & 0 & 0 & 1 & 0 & 0 & 0 & -1 & -1\\\\0 & 0 & 0 & 0 & 1 & -1 & 0 & 1 & 0\\end{matrix}\\right]$"
      ],
      "text/plain": [
       "Matrix([\n",
       "[1, 0, 0, 0, 0, -1,  0,      0,  1],\n",
       "[0, 1, 0, 0, 0, -1, -1, d1 - 1, d1],\n",
       "[0, 0, 1, 0, 0,  1,  0,     -1, -1],\n",
       "[0, 0, 0, 1, 0,  0,  0,     -1, -1],\n",
       "[0, 0, 0, 0, 1, -1,  0,      1,  0]])"
      ]
     },
     "metadata": {},
     "output_type": "display_data"
    },
    {
     "data": {
      "text/latex": [
       "$\\displaystyle \\left[\\begin{matrix}1 & 0 & 0 & 0 & 0 & -1 & b_{0} & 0 & 1\\\\0 & 1 & 0 & 0 & 0 & -1 & b_{1} & 1 & 2\\\\0 & 0 & 1 & 0 & 0 & 1 & - b_{1} - 1 & -1 & -1\\\\0 & 0 & 0 & 1 & 0 & 0 & b_{3} & -1 & -1\\\\0 & 0 & 0 & 0 & 1 & -1 & b_{1} + 1 & 1 & 0\\end{matrix}\\right]$"
      ],
      "text/plain": [
       "Matrix([\n",
       "[1, 0, 0, 0, 0, -1,      b0,  0,  1],\n",
       "[0, 1, 0, 0, 0, -1,      b1,  1,  2],\n",
       "[0, 0, 1, 0, 0,  1, -b1 - 1, -1, -1],\n",
       "[0, 0, 0, 1, 0,  0,      b3, -1, -1],\n",
       "[0, 0, 0, 0, 1, -1,  b1 + 1,  1,  0]])"
      ]
     },
     "metadata": {},
     "output_type": "display_data"
    },
    {
     "data": {
      "text/latex": [
       "$\\displaystyle \\left[\\begin{matrix}1 & 0 & 0 & 0 & 0 & -1 & - c_{2} - 1 & - c_{2} - 1 & 1\\\\0 & 1 & 0 & 0 & 0 & -1 & - c_{2} - 2 & - c_{2} - 1 & 1\\\\0 & 0 & 1 & 0 & 0 & 1 & c_{2} + 1 & c_{2} & -1\\\\0 & 0 & 0 & 1 & 0 & 0 & c_{3} + 1 & c_{3} & -1\\\\0 & 0 & 0 & 0 & 1 & -1 & c_{4} - 1 & c_{4} & 0\\end{matrix}\\right]$"
      ],
      "text/plain": [
       "Matrix([\n",
       "[1, 0, 0, 0, 0, -1, -c2 - 1, -c2 - 1,  1],\n",
       "[0, 1, 0, 0, 0, -1, -c2 - 2, -c2 - 1,  1],\n",
       "[0, 0, 1, 0, 0,  1,  c2 + 1,      c2, -1],\n",
       "[0, 0, 0, 1, 0,  0,  c3 + 1,      c3, -1],\n",
       "[0, 0, 0, 0, 1, -1,  c4 - 1,      c4,  0]])"
      ]
     },
     "metadata": {},
     "output_type": "display_data"
    },
    {
     "data": {
      "text/latex": [
       "$\\displaystyle \\left[\\begin{matrix}1 & 0 & 0 & 0 & 0 & -1 & -1 & -1 & 0\\\\0 & 1 & 0 & 0 & 0 & -1 & -2 & -1 & 0\\\\0 & 0 & 1 & 0 & 0 & c_{2} + 1 & 2 c_{2} + 1 & c_{2} & -1\\\\0 & 0 & 0 & 1 & 0 & c_{3} & 2 c_{3} + 1 & c_{3} & -1\\\\0 & 0 & 0 & 0 & 1 & -1 & -1 & 0 & 0\\end{matrix}\\right]$"
      ],
      "text/plain": [
       "Matrix([\n",
       "[1, 0, 0, 0, 0,     -1,       -1, -1,  0],\n",
       "[0, 1, 0, 0, 0,     -1,       -2, -1,  0],\n",
       "[0, 0, 1, 0, 0, c2 + 1, 2*c2 + 1, c2, -1],\n",
       "[0, 0, 0, 1, 0,     c3, 2*c3 + 1, c3, -1],\n",
       "[0, 0, 0, 0, 1,     -1,       -1,  0,  0]])"
      ]
     },
     "metadata": {},
     "output_type": "display_data"
    },
    {
     "data": {
      "text/latex": [
       "$\\displaystyle \\left[\\begin{matrix}1 & 0 & 0 & 0 & 0 & -1 & 0 & 0 & 1\\\\0 & 1 & 0 & 0 & 0 & -1 & -1 & 0 & 1\\\\0 & 0 & 1 & 0 & 0 & a_{2} & a_{2} - 1 & -1 & -1\\\\0 & 0 & 0 & 1 & 0 & 0 & 1 & 0 & -1\\\\0 & 0 & 0 & 0 & 1 & -1 & -1 & 0 & 0\\end{matrix}\\right]$"
      ],
      "text/plain": [
       "Matrix([\n",
       "[1, 0, 0, 0, 0, -1,      0,  0,  1],\n",
       "[0, 1, 0, 0, 0, -1,     -1,  0,  1],\n",
       "[0, 0, 1, 0, 0, a2, a2 - 1, -1, -1],\n",
       "[0, 0, 0, 1, 0,  0,      1,  0, -1],\n",
       "[0, 0, 0, 0, 1, -1,     -1,  0,  0]])"
      ]
     },
     "metadata": {},
     "output_type": "display_data"
    }
   ],
   "source": [
    "for f in fans:\n",
    "    display(f)"
   ]
  },
  {
   "cell_type": "markdown",
   "id": "4531c34f-35ce-4da2-b3e8-f734d740f065",
   "metadata": {
    "jp-MarkdownHeadingCollapsed": true
   },
   "source": [
    "# Connections between types"
   ]
  },
  {
   "cell_type": "markdown",
   "id": "f6158e70-a423-4b66-bac9-e56d7ebeb946",
   "metadata": {
    "jp-MarkdownHeadingCollapsed": true
   },
   "source": [
    "## fan 0"
   ]
  },
  {
   "cell_type": "markdown",
   "id": "5de7cf27-c85f-4494-b7f2-bbda57dbc715",
   "metadata": {
    "jp-MarkdownHeadingCollapsed": true
   },
   "source": [
    "### fan 2 ($c_3=0$, $c_4=0$, $d_0=1$, $d_1=2$)"
   ]
  },
  {
   "cell_type": "code",
   "execution_count": 91,
   "id": "b9cebc54-c644-4c1c-bba4-69c101a95c90",
   "metadata": {},
   "outputs": [
    {
     "data": {
      "text/latex": [
       "$\\displaystyle \\left[\\begin{matrix}1 & 0 & 0 & 0 & 0 & -1 & -1 & -1 & d_{0}\\\\0 & 1 & 0 & 0 & 0 & -1 & -2 & -1 & d_{1}\\\\0 & 0 & 1 & 0 & 0 & 1 & 1 & 0 & -1\\\\0 & 0 & 0 & 1 & 0 & 0 & 1 & 0 & -1\\\\0 & 0 & 0 & 0 & 1 & -1 & -1 & 0 & 0\\end{matrix}\\right]$"
      ],
      "text/plain": [
       "Matrix([\n",
       "[1, 0, 0, 0, 0, -1, -1, -1, d0],\n",
       "[0, 1, 0, 0, 0, -1, -2, -1, d1],\n",
       "[0, 0, 1, 0, 0,  1,  1,  0, -1],\n",
       "[0, 0, 0, 1, 0,  0,  1,  0, -1],\n",
       "[0, 0, 0, 0, 1, -1, -1,  0,  0]])"
      ]
     },
     "metadata": {},
     "output_type": "display_data"
    },
    {
     "data": {
      "text/latex": [
       "$\\displaystyle \\left[\\begin{matrix}1 & 0 & 0 & 0 & 0 & -1 & -1 & - c_{3} - 1 & 1\\\\0 & 1 & 0 & 0 & 0 & -1 & -2 & - 2 c_{3} - 1 & 2\\\\0 & 0 & 1 & 0 & 0 & 1 & 1 & c_{3} & -1\\\\0 & 0 & 0 & 1 & 0 & 0 & 1 & c_{3} & -1\\\\0 & 0 & 0 & 0 & 1 & -1 & -1 & c_{4} & 0\\end{matrix}\\right]$"
      ],
      "text/plain": [
       "Matrix([\n",
       "[1, 0, 0, 0, 0, -1, -1,   -c3 - 1,  1],\n",
       "[0, 1, 0, 0, 0, -1, -2, -2*c3 - 1,  2],\n",
       "[0, 0, 1, 0, 0,  1,  1,        c3, -1],\n",
       "[0, 0, 0, 1, 0,  0,  1,        c3, -1],\n",
       "[0, 0, 0, 0, 1, -1, -1,        c4,  0]])"
      ]
     },
     "metadata": {},
     "output_type": "display_data"
    },
    {
     "data": {
      "text/latex": [
       "$\\displaystyle \\text{True}$"
      ],
      "text/plain": [
       "True"
      ]
     },
     "metadata": {},
     "output_type": "display_data"
    }
   ],
   "source": [
    "i, j = 0, 2\n",
    "display(fans[i], fans[j])\n",
    "display(sp.Eq(fans[i].subs(d0,1).subs(d1,2),fans[j].subs(c3,0).subs(c4,0)))"
   ]
  },
  {
   "cell_type": "markdown",
   "id": "d413b48b-f030-4b20-b29f-f938fb992629",
   "metadata": {
    "jp-MarkdownHeadingCollapsed": true
   },
   "source": [
    "### fan 5 ($c_2=0$, $c_3=0$, $c_4=0$, $d_0=1$, $d_1=1$)"
   ]
  },
  {
   "cell_type": "code",
   "execution_count": 101,
   "id": "b0f033da-b4da-4b2b-966d-0a58643f144c",
   "metadata": {},
   "outputs": [
    {
     "data": {
      "text/latex": [
       "$\\displaystyle \\left[\\begin{matrix}1 & 0 & 0 & 0 & 0 & -1 & -1 & -1 & d_{0}\\\\0 & 1 & 0 & 0 & 0 & -1 & -2 & -1 & d_{1}\\\\0 & 0 & 1 & 0 & 0 & 1 & 1 & 0 & -1\\\\0 & 0 & 0 & 1 & 0 & 0 & 1 & 0 & -1\\\\0 & 0 & 0 & 0 & 1 & -1 & -1 & 0 & 0\\end{matrix}\\right]$"
      ],
      "text/plain": [
       "Matrix([\n",
       "[1, 0, 0, 0, 0, -1, -1, -1, d0],\n",
       "[0, 1, 0, 0, 0, -1, -2, -1, d1],\n",
       "[0, 0, 1, 0, 0,  1,  1,  0, -1],\n",
       "[0, 0, 0, 1, 0,  0,  1,  0, -1],\n",
       "[0, 0, 0, 0, 1, -1, -1,  0,  0]])"
      ]
     },
     "metadata": {},
     "output_type": "display_data"
    },
    {
     "data": {
      "text/latex": [
       "$\\displaystyle \\left[\\begin{matrix}1 & 0 & 0 & 0 & 0 & -1 & - c_{2} - 1 & - c_{2} - 1 & 1\\\\0 & 1 & 0 & 0 & 0 & -1 & - c_{2} - 2 & - c_{2} - 1 & 1\\\\0 & 0 & 1 & 0 & 0 & 1 & c_{2} + 1 & c_{2} & -1\\\\0 & 0 & 0 & 1 & 0 & 0 & c_{3} + 1 & c_{3} & -1\\\\0 & 0 & 0 & 0 & 1 & -1 & c_{4} - 1 & c_{4} & 0\\end{matrix}\\right]$"
      ],
      "text/plain": [
       "Matrix([\n",
       "[1, 0, 0, 0, 0, -1, -c2 - 1, -c2 - 1,  1],\n",
       "[0, 1, 0, 0, 0, -1, -c2 - 2, -c2 - 1,  1],\n",
       "[0, 0, 1, 0, 0,  1,  c2 + 1,      c2, -1],\n",
       "[0, 0, 0, 1, 0,  0,  c3 + 1,      c3, -1],\n",
       "[0, 0, 0, 0, 1, -1,  c4 - 1,      c4,  0]])"
      ]
     },
     "metadata": {},
     "output_type": "display_data"
    },
    {
     "data": {
      "text/latex": [
       "$\\displaystyle \\text{True}$"
      ],
      "text/plain": [
       "True"
      ]
     },
     "metadata": {},
     "output_type": "display_data"
    }
   ],
   "source": [
    "i, j = 0, 5\n",
    "display(fans[i], fans[j])\n",
    "display(sp.Eq(fans[i].subs(d0,1).subs(d1,1),fans[j].subs(c2,0).subs(c3,0).subs(c4,0)))"
   ]
  },
  {
   "cell_type": "markdown",
   "id": "f9f1b43d-fee7-41f2-befc-597c02fc59bf",
   "metadata": {
    "jp-MarkdownHeadingCollapsed": true
   },
   "source": [
    "### fan 6 ($c_2=0$, $c_3=0$, $d_0=0$, $d_1=0$)"
   ]
  },
  {
   "cell_type": "code",
   "execution_count": 104,
   "id": "0f6316f9-621a-48b6-9fc8-a43ca2dd3bda",
   "metadata": {},
   "outputs": [
    {
     "data": {
      "text/latex": [
       "$\\displaystyle \\left[\\begin{matrix}1 & 0 & 0 & 0 & 0 & -1 & -1 & -1 & d_{0}\\\\0 & 1 & 0 & 0 & 0 & -1 & -2 & -1 & d_{1}\\\\0 & 0 & 1 & 0 & 0 & 1 & 1 & 0 & -1\\\\0 & 0 & 0 & 1 & 0 & 0 & 1 & 0 & -1\\\\0 & 0 & 0 & 0 & 1 & -1 & -1 & 0 & 0\\end{matrix}\\right]$"
      ],
      "text/plain": [
       "Matrix([\n",
       "[1, 0, 0, 0, 0, -1, -1, -1, d0],\n",
       "[0, 1, 0, 0, 0, -1, -2, -1, d1],\n",
       "[0, 0, 1, 0, 0,  1,  1,  0, -1],\n",
       "[0, 0, 0, 1, 0,  0,  1,  0, -1],\n",
       "[0, 0, 0, 0, 1, -1, -1,  0,  0]])"
      ]
     },
     "metadata": {},
     "output_type": "display_data"
    },
    {
     "data": {
      "text/latex": [
       "$\\displaystyle \\left[\\begin{matrix}1 & 0 & 0 & 0 & 0 & -1 & -1 & -1 & 0\\\\0 & 1 & 0 & 0 & 0 & -1 & -2 & -1 & 0\\\\0 & 0 & 1 & 0 & 0 & c_{2} + 1 & 2 c_{2} + 1 & c_{2} & -1\\\\0 & 0 & 0 & 1 & 0 & c_{3} & 2 c_{3} + 1 & c_{3} & -1\\\\0 & 0 & 0 & 0 & 1 & -1 & -1 & 0 & 0\\end{matrix}\\right]$"
      ],
      "text/plain": [
       "Matrix([\n",
       "[1, 0, 0, 0, 0,     -1,       -1, -1,  0],\n",
       "[0, 1, 0, 0, 0,     -1,       -2, -1,  0],\n",
       "[0, 0, 1, 0, 0, c2 + 1, 2*c2 + 1, c2, -1],\n",
       "[0, 0, 0, 1, 0,     c3, 2*c3 + 1, c3, -1],\n",
       "[0, 0, 0, 0, 1,     -1,       -1,  0,  0]])"
      ]
     },
     "metadata": {},
     "output_type": "display_data"
    },
    {
     "data": {
      "text/latex": [
       "$\\displaystyle \\text{True}$"
      ],
      "text/plain": [
       "True"
      ]
     },
     "metadata": {},
     "output_type": "display_data"
    }
   ],
   "source": [
    "i, j = 0, 6\n",
    "display(fans[i], fans[j])\n",
    "display(sp.Eq(fans[i].subs(d0,0).subs(d1,0),fans[j].subs(c2,0).subs(c3,0)))"
   ]
  },
  {
   "cell_type": "markdown",
   "id": "e7512130-44fd-4a78-ac56-a09e6defb666",
   "metadata": {
    "jp-MarkdownHeadingCollapsed": true
   },
   "source": [
    "## fan 1"
   ]
  },
  {
   "cell_type": "markdown",
   "id": "2e246064-b58f-4d55-bf7c-69e9d235fb34",
   "metadata": {
    "jp-MarkdownHeadingCollapsed": true
   },
   "source": [
    "### fan 6 ($c_2=-1$, $c_3=0$, $d_0=0$, $d_1=0$, $d_4=0$)"
   ]
  },
  {
   "cell_type": "code",
   "execution_count": 108,
   "id": "c530a972-6954-4fa4-b2c9-c087a5bc2a51",
   "metadata": {},
   "outputs": [
    {
     "data": {
      "text/latex": [
       "$\\displaystyle \\left[\\begin{matrix}1 & 0 & 0 & 0 & 0 & -1 & d_{0} - 1 & d_{0} - 1 & d_{0}\\\\0 & 1 & 0 & 0 & 0 & -1 & d_{1} - 2 & d_{1} - 1 & d_{1}\\\\0 & 0 & 1 & 0 & 0 & 0 & -1 & -1 & -1\\\\0 & 0 & 0 & 1 & 0 & 0 & 1 & 0 & -1\\\\0 & 0 & 0 & 0 & 1 & -1 & d_{4} - 1 & d_{4} & d_{4}\\end{matrix}\\right]$"
      ],
      "text/plain": [
       "Matrix([\n",
       "[1, 0, 0, 0, 0, -1, d0 - 1, d0 - 1, d0],\n",
       "[0, 1, 0, 0, 0, -1, d1 - 2, d1 - 1, d1],\n",
       "[0, 0, 1, 0, 0,  0,     -1,     -1, -1],\n",
       "[0, 0, 0, 1, 0,  0,      1,      0, -1],\n",
       "[0, 0, 0, 0, 1, -1, d4 - 1,     d4, d4]])"
      ]
     },
     "metadata": {},
     "output_type": "display_data"
    },
    {
     "data": {
      "text/latex": [
       "$\\displaystyle \\left[\\begin{matrix}1 & 0 & 0 & 0 & 0 & -1 & -1 & -1 & 0\\\\0 & 1 & 0 & 0 & 0 & -1 & -2 & -1 & 0\\\\0 & 0 & 1 & 0 & 0 & c_{2} + 1 & 2 c_{2} + 1 & c_{2} & -1\\\\0 & 0 & 0 & 1 & 0 & c_{3} & 2 c_{3} + 1 & c_{3} & -1\\\\0 & 0 & 0 & 0 & 1 & -1 & -1 & 0 & 0\\end{matrix}\\right]$"
      ],
      "text/plain": [
       "Matrix([\n",
       "[1, 0, 0, 0, 0,     -1,       -1, -1,  0],\n",
       "[0, 1, 0, 0, 0,     -1,       -2, -1,  0],\n",
       "[0, 0, 1, 0, 0, c2 + 1, 2*c2 + 1, c2, -1],\n",
       "[0, 0, 0, 1, 0,     c3, 2*c3 + 1, c3, -1],\n",
       "[0, 0, 0, 0, 1,     -1,       -1,  0,  0]])"
      ]
     },
     "metadata": {},
     "output_type": "display_data"
    },
    {
     "data": {
      "text/latex": [
       "$\\displaystyle \\text{True}$"
      ],
      "text/plain": [
       "True"
      ]
     },
     "metadata": {},
     "output_type": "display_data"
    }
   ],
   "source": [
    "i, j = 1, 6\n",
    "display(fans[i], fans[j])\n",
    "display(sp.Eq(fans[i].subs(d0,0).subs(d1,0).subs(d4,0),fans[j].subs(c2,-1).subs(c3,0)))"
   ]
  },
  {
   "cell_type": "markdown",
   "id": "9b91f422-9bd3-4c42-9c33-e44e83277e5a",
   "metadata": {
    "jp-MarkdownHeadingCollapsed": true
   },
   "source": [
    "### fan 7 ($a_2=0$, $d_0=1$, $d_1=1$, $d_4=0$)"
   ]
  },
  {
   "cell_type": "code",
   "execution_count": 115,
   "id": "197589c3-e45f-467d-9bf9-85b133178bbf",
   "metadata": {},
   "outputs": [
    {
     "data": {
      "text/latex": [
       "$\\displaystyle \\left[\\begin{matrix}1 & 0 & 0 & 0 & 0 & -1 & d_{0} - 1 & d_{0} - 1 & d_{0}\\\\0 & 1 & 0 & 0 & 0 & -1 & d_{1} - 2 & d_{1} - 1 & d_{1}\\\\0 & 0 & 1 & 0 & 0 & 0 & -1 & -1 & -1\\\\0 & 0 & 0 & 1 & 0 & 0 & 1 & 0 & -1\\\\0 & 0 & 0 & 0 & 1 & -1 & d_{4} - 1 & d_{4} & d_{4}\\end{matrix}\\right]$"
      ],
      "text/plain": [
       "Matrix([\n",
       "[1, 0, 0, 0, 0, -1, d0 - 1, d0 - 1, d0],\n",
       "[0, 1, 0, 0, 0, -1, d1 - 2, d1 - 1, d1],\n",
       "[0, 0, 1, 0, 0,  0,     -1,     -1, -1],\n",
       "[0, 0, 0, 1, 0,  0,      1,      0, -1],\n",
       "[0, 0, 0, 0, 1, -1, d4 - 1,     d4, d4]])"
      ]
     },
     "metadata": {},
     "output_type": "display_data"
    },
    {
     "data": {
      "text/latex": [
       "$\\displaystyle \\left[\\begin{matrix}1 & 0 & 0 & 0 & 0 & -1 & 0 & 0 & 1\\\\0 & 1 & 0 & 0 & 0 & -1 & -1 & 0 & 1\\\\0 & 0 & 1 & 0 & 0 & a_{2} & a_{2} - 1 & -1 & -1\\\\0 & 0 & 0 & 1 & 0 & 0 & 1 & 0 & -1\\\\0 & 0 & 0 & 0 & 1 & -1 & -1 & 0 & 0\\end{matrix}\\right]$"
      ],
      "text/plain": [
       "Matrix([\n",
       "[1, 0, 0, 0, 0, -1,      0,  0,  1],\n",
       "[0, 1, 0, 0, 0, -1,     -1,  0,  1],\n",
       "[0, 0, 1, 0, 0, a2, a2 - 1, -1, -1],\n",
       "[0, 0, 0, 1, 0,  0,      1,  0, -1],\n",
       "[0, 0, 0, 0, 1, -1,     -1,  0,  0]])"
      ]
     },
     "metadata": {},
     "output_type": "display_data"
    },
    {
     "data": {
      "text/latex": [
       "$\\displaystyle \\text{True}$"
      ],
      "text/plain": [
       "True"
      ]
     },
     "metadata": {},
     "output_type": "display_data"
    }
   ],
   "source": [
    "i, j = 1, 7\n",
    "display(fans[i], fans[j])\n",
    "display(sp.Eq(fans[i].subs(d0,1).subs(d1,1).subs(d4,0),fans[j].subs(a2,0)))"
   ]
  },
  {
   "cell_type": "markdown",
   "id": "1b3317e3-db30-4f42-8080-a0905a956649",
   "metadata": {
    "jp-MarkdownHeadingCollapsed": true
   },
   "source": [
    "## fan 2"
   ]
  },
  {
   "cell_type": "markdown",
   "id": "b42fd9fc-106f-4db1-8f9e-7e11a0dc273a",
   "metadata": {
    "jp-MarkdownHeadingCollapsed": true
   },
   "source": [
    "### fan 0 ($c_3=0$, $c_4=0$, $d_0=1$, $d_1=2$)"
   ]
  },
  {
   "cell_type": "code",
   "execution_count": 91,
   "id": "4b9899c3-76e4-4c1f-9416-da41e57a1f1a",
   "metadata": {},
   "outputs": [
    {
     "data": {
      "text/latex": [
       "$\\displaystyle \\left[\\begin{matrix}1 & 0 & 0 & 0 & 0 & -1 & -1 & -1 & d_{0}\\\\0 & 1 & 0 & 0 & 0 & -1 & -2 & -1 & d_{1}\\\\0 & 0 & 1 & 0 & 0 & 1 & 1 & 0 & -1\\\\0 & 0 & 0 & 1 & 0 & 0 & 1 & 0 & -1\\\\0 & 0 & 0 & 0 & 1 & -1 & -1 & 0 & 0\\end{matrix}\\right]$"
      ],
      "text/plain": [
       "Matrix([\n",
       "[1, 0, 0, 0, 0, -1, -1, -1, d0],\n",
       "[0, 1, 0, 0, 0, -1, -2, -1, d1],\n",
       "[0, 0, 1, 0, 0,  1,  1,  0, -1],\n",
       "[0, 0, 0, 1, 0,  0,  1,  0, -1],\n",
       "[0, 0, 0, 0, 1, -1, -1,  0,  0]])"
      ]
     },
     "metadata": {},
     "output_type": "display_data"
    },
    {
     "data": {
      "text/latex": [
       "$\\displaystyle \\left[\\begin{matrix}1 & 0 & 0 & 0 & 0 & -1 & -1 & - c_{3} - 1 & 1\\\\0 & 1 & 0 & 0 & 0 & -1 & -2 & - 2 c_{3} - 1 & 2\\\\0 & 0 & 1 & 0 & 0 & 1 & 1 & c_{3} & -1\\\\0 & 0 & 0 & 1 & 0 & 0 & 1 & c_{3} & -1\\\\0 & 0 & 0 & 0 & 1 & -1 & -1 & c_{4} & 0\\end{matrix}\\right]$"
      ],
      "text/plain": [
       "Matrix([\n",
       "[1, 0, 0, 0, 0, -1, -1,   -c3 - 1,  1],\n",
       "[0, 1, 0, 0, 0, -1, -2, -2*c3 - 1,  2],\n",
       "[0, 0, 1, 0, 0,  1,  1,        c3, -1],\n",
       "[0, 0, 0, 1, 0,  0,  1,        c3, -1],\n",
       "[0, 0, 0, 0, 1, -1, -1,        c4,  0]])"
      ]
     },
     "metadata": {},
     "output_type": "display_data"
    },
    {
     "data": {
      "text/latex": [
       "$\\displaystyle \\text{True}$"
      ],
      "text/plain": [
       "True"
      ]
     },
     "metadata": {},
     "output_type": "display_data"
    }
   ],
   "source": [
    "i, j = 0, 2\n",
    "display(fans[i], fans[j])\n",
    "display(sp.Eq(fans[i].subs(d0,1).subs(d1,2),fans[j].subs(c3,0).subs(c4,0)))"
   ]
  },
  {
   "cell_type": "markdown",
   "id": "bd4df5dd-2a18-45de-92af-a0a31428787d",
   "metadata": {
    "jp-MarkdownHeadingCollapsed": true
   },
   "source": [
    "### fan 4 ($b_0=-1$, $b_1=-2$, $b_3=1$, $c_3=-1$, $c_4=1$)"
   ]
  },
  {
   "cell_type": "code",
   "execution_count": 121,
   "id": "c08f11a1-57b6-46e5-aacc-044b2d2e7f3d",
   "metadata": {},
   "outputs": [
    {
     "data": {
      "text/latex": [
       "$\\displaystyle \\left[\\begin{matrix}1 & 0 & 0 & 0 & 0 & -1 & -1 & - c_{3} - 1 & 1\\\\0 & 1 & 0 & 0 & 0 & -1 & -2 & - 2 c_{3} - 1 & 2\\\\0 & 0 & 1 & 0 & 0 & 1 & 1 & c_{3} & -1\\\\0 & 0 & 0 & 1 & 0 & 0 & 1 & c_{3} & -1\\\\0 & 0 & 0 & 0 & 1 & -1 & -1 & c_{4} & 0\\end{matrix}\\right]$"
      ],
      "text/plain": [
       "Matrix([\n",
       "[1, 0, 0, 0, 0, -1, -1,   -c3 - 1,  1],\n",
       "[0, 1, 0, 0, 0, -1, -2, -2*c3 - 1,  2],\n",
       "[0, 0, 1, 0, 0,  1,  1,        c3, -1],\n",
       "[0, 0, 0, 1, 0,  0,  1,        c3, -1],\n",
       "[0, 0, 0, 0, 1, -1, -1,        c4,  0]])"
      ]
     },
     "metadata": {},
     "output_type": "display_data"
    },
    {
     "data": {
      "text/latex": [
       "$\\displaystyle \\left[\\begin{matrix}1 & 0 & 0 & 0 & 0 & -1 & b_{0} & 0 & 1\\\\0 & 1 & 0 & 0 & 0 & -1 & b_{1} & 1 & 2\\\\0 & 0 & 1 & 0 & 0 & 1 & - b_{1} - 1 & -1 & -1\\\\0 & 0 & 0 & 1 & 0 & 0 & b_{3} & -1 & -1\\\\0 & 0 & 0 & 0 & 1 & -1 & b_{1} + 1 & 1 & 0\\end{matrix}\\right]$"
      ],
      "text/plain": [
       "Matrix([\n",
       "[1, 0, 0, 0, 0, -1,      b0,  0,  1],\n",
       "[0, 1, 0, 0, 0, -1,      b1,  1,  2],\n",
       "[0, 0, 1, 0, 0,  1, -b1 - 1, -1, -1],\n",
       "[0, 0, 0, 1, 0,  0,      b3, -1, -1],\n",
       "[0, 0, 0, 0, 1, -1,  b1 + 1,  1,  0]])"
      ]
     },
     "metadata": {},
     "output_type": "display_data"
    },
    {
     "data": {
      "text/latex": [
       "$\\displaystyle \\text{True}$"
      ],
      "text/plain": [
       "True"
      ]
     },
     "metadata": {},
     "output_type": "display_data"
    }
   ],
   "source": [
    "i, j = 2, 4\n",
    "display(fans[i], fans[j])\n",
    "display(sp.Eq(fans[i].subs(c3,-1).subs(c4,1),fans[j].subs(b0,-1).subs(b1,-2).subs(b3,1)))"
   ]
  },
  {
   "cell_type": "markdown",
   "id": "454b9727-eb20-44e7-acd3-0b13b04f81ab",
   "metadata": {
    "jp-MarkdownHeadingCollapsed": true
   },
   "source": [
    "## fan 3"
   ]
  },
  {
   "cell_type": "markdown",
   "id": "b351db89-24c1-44a5-ba4e-c3e30dae6b4c",
   "metadata": {
    "jp-MarkdownHeadingCollapsed": true
   },
   "source": [
    "### fan 4 ($b_0=0$, $b_1=-1$, $b_3=0$, $d_1=2$)"
   ]
  },
  {
   "cell_type": "code",
   "execution_count": 125,
   "id": "efb99d60-549e-4e54-95f8-fead7ebe3a55",
   "metadata": {},
   "outputs": [
    {
     "data": {
      "text/latex": [
       "$\\displaystyle \\left[\\begin{matrix}1 & 0 & 0 & 0 & 0 & -1 & 0 & 0 & 1\\\\0 & 1 & 0 & 0 & 0 & -1 & -1 & d_{1} - 1 & d_{1}\\\\0 & 0 & 1 & 0 & 0 & 1 & 0 & -1 & -1\\\\0 & 0 & 0 & 1 & 0 & 0 & 0 & -1 & -1\\\\0 & 0 & 0 & 0 & 1 & -1 & 0 & 1 & 0\\end{matrix}\\right]$"
      ],
      "text/plain": [
       "Matrix([\n",
       "[1, 0, 0, 0, 0, -1,  0,      0,  1],\n",
       "[0, 1, 0, 0, 0, -1, -1, d1 - 1, d1],\n",
       "[0, 0, 1, 0, 0,  1,  0,     -1, -1],\n",
       "[0, 0, 0, 1, 0,  0,  0,     -1, -1],\n",
       "[0, 0, 0, 0, 1, -1,  0,      1,  0]])"
      ]
     },
     "metadata": {},
     "output_type": "display_data"
    },
    {
     "data": {
      "text/latex": [
       "$\\displaystyle \\left[\\begin{matrix}1 & 0 & 0 & 0 & 0 & -1 & b_{0} & 0 & 1\\\\0 & 1 & 0 & 0 & 0 & -1 & b_{1} & 1 & 2\\\\0 & 0 & 1 & 0 & 0 & 1 & - b_{1} - 1 & -1 & -1\\\\0 & 0 & 0 & 1 & 0 & 0 & b_{3} & -1 & -1\\\\0 & 0 & 0 & 0 & 1 & -1 & b_{1} + 1 & 1 & 0\\end{matrix}\\right]$"
      ],
      "text/plain": [
       "Matrix([\n",
       "[1, 0, 0, 0, 0, -1,      b0,  0,  1],\n",
       "[0, 1, 0, 0, 0, -1,      b1,  1,  2],\n",
       "[0, 0, 1, 0, 0,  1, -b1 - 1, -1, -1],\n",
       "[0, 0, 0, 1, 0,  0,      b3, -1, -1],\n",
       "[0, 0, 0, 0, 1, -1,  b1 + 1,  1,  0]])"
      ]
     },
     "metadata": {},
     "output_type": "display_data"
    },
    {
     "data": {
      "text/latex": [
       "$\\displaystyle \\text{True}$"
      ],
      "text/plain": [
       "True"
      ]
     },
     "metadata": {},
     "output_type": "display_data"
    }
   ],
   "source": [
    "i, j = 3, 4\n",
    "display(fans[i], fans[j])\n",
    "display(sp.Eq(fans[i].subs(d1,2),fans[j].subs(b0,0).subs(b1,-1).subs(b3,0)))"
   ]
  },
  {
   "cell_type": "markdown",
   "id": "20559bc2-75f6-434b-85ca-58879288f7c4",
   "metadata": {
    "jp-MarkdownHeadingCollapsed": true
   },
   "source": [
    "### fan 5 ($c_2=-1$, $c_3=-1$, $c_4=1$, $d_1=1$)"
   ]
  },
  {
   "cell_type": "code",
   "execution_count": 127,
   "id": "667793c7-7296-4ff9-b72f-37e9e0624161",
   "metadata": {},
   "outputs": [
    {
     "data": {
      "text/latex": [
       "$\\displaystyle \\left[\\begin{matrix}1 & 0 & 0 & 0 & 0 & -1 & 0 & 0 & 1\\\\0 & 1 & 0 & 0 & 0 & -1 & -1 & d_{1} - 1 & d_{1}\\\\0 & 0 & 1 & 0 & 0 & 1 & 0 & -1 & -1\\\\0 & 0 & 0 & 1 & 0 & 0 & 0 & -1 & -1\\\\0 & 0 & 0 & 0 & 1 & -1 & 0 & 1 & 0\\end{matrix}\\right]$"
      ],
      "text/plain": [
       "Matrix([\n",
       "[1, 0, 0, 0, 0, -1,  0,      0,  1],\n",
       "[0, 1, 0, 0, 0, -1, -1, d1 - 1, d1],\n",
       "[0, 0, 1, 0, 0,  1,  0,     -1, -1],\n",
       "[0, 0, 0, 1, 0,  0,  0,     -1, -1],\n",
       "[0, 0, 0, 0, 1, -1,  0,      1,  0]])"
      ]
     },
     "metadata": {},
     "output_type": "display_data"
    },
    {
     "data": {
      "text/latex": [
       "$\\displaystyle \\left[\\begin{matrix}1 & 0 & 0 & 0 & 0 & -1 & - c_{2} - 1 & - c_{2} - 1 & 1\\\\0 & 1 & 0 & 0 & 0 & -1 & - c_{2} - 2 & - c_{2} - 1 & 1\\\\0 & 0 & 1 & 0 & 0 & 1 & c_{2} + 1 & c_{2} & -1\\\\0 & 0 & 0 & 1 & 0 & 0 & c_{3} + 1 & c_{3} & -1\\\\0 & 0 & 0 & 0 & 1 & -1 & c_{4} - 1 & c_{4} & 0\\end{matrix}\\right]$"
      ],
      "text/plain": [
       "Matrix([\n",
       "[1, 0, 0, 0, 0, -1, -c2 - 1, -c2 - 1,  1],\n",
       "[0, 1, 0, 0, 0, -1, -c2 - 2, -c2 - 1,  1],\n",
       "[0, 0, 1, 0, 0,  1,  c2 + 1,      c2, -1],\n",
       "[0, 0, 0, 1, 0,  0,  c3 + 1,      c3, -1],\n",
       "[0, 0, 0, 0, 1, -1,  c4 - 1,      c4,  0]])"
      ]
     },
     "metadata": {},
     "output_type": "display_data"
    },
    {
     "data": {
      "text/latex": [
       "$\\displaystyle \\text{True}$"
      ],
      "text/plain": [
       "True"
      ]
     },
     "metadata": {},
     "output_type": "display_data"
    }
   ],
   "source": [
    "i, j = 3, 5\n",
    "display(fans[i], fans[j])\n",
    "display(sp.Eq(fans[i].subs(d1,1),fans[j].subs(c2,-1).subs(c3,-1).subs(c4,1)))"
   ]
  },
  {
   "cell_type": "markdown",
   "id": "562f1726-1690-4b37-bcbf-b58a3eeba88a",
   "metadata": {
    "jp-MarkdownHeadingCollapsed": true
   },
   "source": [
    "## fan 4"
   ]
  },
  {
   "cell_type": "markdown",
   "id": "5ed96fb2-a060-4a53-96df-8042b3b465a7",
   "metadata": {
    "jp-MarkdownHeadingCollapsed": true
   },
   "source": [
    "### fan 2 ($b_0=-1$, $b_1=-2$, $b_3=1$, $c_3=-1$, $c_4=1$)"
   ]
  },
  {
   "cell_type": "code",
   "execution_count": 121,
   "id": "48862653-5171-4c50-997c-09c65be7a42f",
   "metadata": {},
   "outputs": [
    {
     "data": {
      "text/latex": [
       "$\\displaystyle \\left[\\begin{matrix}1 & 0 & 0 & 0 & 0 & -1 & -1 & - c_{3} - 1 & 1\\\\0 & 1 & 0 & 0 & 0 & -1 & -2 & - 2 c_{3} - 1 & 2\\\\0 & 0 & 1 & 0 & 0 & 1 & 1 & c_{3} & -1\\\\0 & 0 & 0 & 1 & 0 & 0 & 1 & c_{3} & -1\\\\0 & 0 & 0 & 0 & 1 & -1 & -1 & c_{4} & 0\\end{matrix}\\right]$"
      ],
      "text/plain": [
       "Matrix([\n",
       "[1, 0, 0, 0, 0, -1, -1,   -c3 - 1,  1],\n",
       "[0, 1, 0, 0, 0, -1, -2, -2*c3 - 1,  2],\n",
       "[0, 0, 1, 0, 0,  1,  1,        c3, -1],\n",
       "[0, 0, 0, 1, 0,  0,  1,        c3, -1],\n",
       "[0, 0, 0, 0, 1, -1, -1,        c4,  0]])"
      ]
     },
     "metadata": {},
     "output_type": "display_data"
    },
    {
     "data": {
      "text/latex": [
       "$\\displaystyle \\left[\\begin{matrix}1 & 0 & 0 & 0 & 0 & -1 & b_{0} & 0 & 1\\\\0 & 1 & 0 & 0 & 0 & -1 & b_{1} & 1 & 2\\\\0 & 0 & 1 & 0 & 0 & 1 & - b_{1} - 1 & -1 & -1\\\\0 & 0 & 0 & 1 & 0 & 0 & b_{3} & -1 & -1\\\\0 & 0 & 0 & 0 & 1 & -1 & b_{1} + 1 & 1 & 0\\end{matrix}\\right]$"
      ],
      "text/plain": [
       "Matrix([\n",
       "[1, 0, 0, 0, 0, -1,      b0,  0,  1],\n",
       "[0, 1, 0, 0, 0, -1,      b1,  1,  2],\n",
       "[0, 0, 1, 0, 0,  1, -b1 - 1, -1, -1],\n",
       "[0, 0, 0, 1, 0,  0,      b3, -1, -1],\n",
       "[0, 0, 0, 0, 1, -1,  b1 + 1,  1,  0]])"
      ]
     },
     "metadata": {},
     "output_type": "display_data"
    },
    {
     "data": {
      "text/latex": [
       "$\\displaystyle \\text{True}$"
      ],
      "text/plain": [
       "True"
      ]
     },
     "metadata": {},
     "output_type": "display_data"
    }
   ],
   "source": [
    "i, j = 2, 4\n",
    "display(fans[i], fans[j])\n",
    "display(sp.Eq(fans[i].subs(c3,-1).subs(c4,1),fans[j].subs(b0,-1).subs(b1,-2).subs(b3,1)))"
   ]
  },
  {
   "cell_type": "markdown",
   "id": "1037a294-0d82-4901-aba4-55f4f60394f5",
   "metadata": {
    "jp-MarkdownHeadingCollapsed": true
   },
   "source": [
    "### fan 3 ($b_0=0$, $b_1=-1$, $b_3=0$, $d_1=2$)"
   ]
  },
  {
   "cell_type": "code",
   "execution_count": 125,
   "id": "c6b0f497-fe0b-47dc-9449-4da166c95ff8",
   "metadata": {},
   "outputs": [
    {
     "data": {
      "text/latex": [
       "$\\displaystyle \\left[\\begin{matrix}1 & 0 & 0 & 0 & 0 & -1 & 0 & 0 & 1\\\\0 & 1 & 0 & 0 & 0 & -1 & -1 & d_{1} - 1 & d_{1}\\\\0 & 0 & 1 & 0 & 0 & 1 & 0 & -1 & -1\\\\0 & 0 & 0 & 1 & 0 & 0 & 0 & -1 & -1\\\\0 & 0 & 0 & 0 & 1 & -1 & 0 & 1 & 0\\end{matrix}\\right]$"
      ],
      "text/plain": [
       "Matrix([\n",
       "[1, 0, 0, 0, 0, -1,  0,      0,  1],\n",
       "[0, 1, 0, 0, 0, -1, -1, d1 - 1, d1],\n",
       "[0, 0, 1, 0, 0,  1,  0,     -1, -1],\n",
       "[0, 0, 0, 1, 0,  0,  0,     -1, -1],\n",
       "[0, 0, 0, 0, 1, -1,  0,      1,  0]])"
      ]
     },
     "metadata": {},
     "output_type": "display_data"
    },
    {
     "data": {
      "text/latex": [
       "$\\displaystyle \\left[\\begin{matrix}1 & 0 & 0 & 0 & 0 & -1 & b_{0} & 0 & 1\\\\0 & 1 & 0 & 0 & 0 & -1 & b_{1} & 1 & 2\\\\0 & 0 & 1 & 0 & 0 & 1 & - b_{1} - 1 & -1 & -1\\\\0 & 0 & 0 & 1 & 0 & 0 & b_{3} & -1 & -1\\\\0 & 0 & 0 & 0 & 1 & -1 & b_{1} + 1 & 1 & 0\\end{matrix}\\right]$"
      ],
      "text/plain": [
       "Matrix([\n",
       "[1, 0, 0, 0, 0, -1,      b0,  0,  1],\n",
       "[0, 1, 0, 0, 0, -1,      b1,  1,  2],\n",
       "[0, 0, 1, 0, 0,  1, -b1 - 1, -1, -1],\n",
       "[0, 0, 0, 1, 0,  0,      b3, -1, -1],\n",
       "[0, 0, 0, 0, 1, -1,  b1 + 1,  1,  0]])"
      ]
     },
     "metadata": {},
     "output_type": "display_data"
    },
    {
     "data": {
      "text/latex": [
       "$\\displaystyle \\text{True}$"
      ],
      "text/plain": [
       "True"
      ]
     },
     "metadata": {},
     "output_type": "display_data"
    }
   ],
   "source": [
    "i, j = 3, 4\n",
    "display(fans[i], fans[j])\n",
    "display(sp.Eq(fans[i].subs(d1,2),fans[j].subs(b0,0).subs(b1,-1).subs(b3,0)))"
   ]
  },
  {
   "cell_type": "markdown",
   "id": "384820b0-0c37-49cc-811d-7489504fe6b1",
   "metadata": {
    "jp-MarkdownHeadingCollapsed": true
   },
   "source": [
    "## fan 5"
   ]
  },
  {
   "cell_type": "markdown",
   "id": "b8fab948-967f-431c-99f0-d5f725c02bf0",
   "metadata": {
    "jp-MarkdownHeadingCollapsed": true
   },
   "source": [
    "### fan 0 ($c_2=0$, $c_3=0$, $c_4=0$, $d_0=1$, $d_1=1$)"
   ]
  },
  {
   "cell_type": "code",
   "execution_count": 102,
   "id": "efdeb86e-eaf6-4456-ab73-2c773624e0b1",
   "metadata": {},
   "outputs": [
    {
     "data": {
      "text/latex": [
       "$\\displaystyle \\left[\\begin{matrix}1 & 0 & 0 & 0 & 0 & -1 & -1 & -1 & d_{0}\\\\0 & 1 & 0 & 0 & 0 & -1 & -2 & -1 & d_{1}\\\\0 & 0 & 1 & 0 & 0 & 1 & 1 & 0 & -1\\\\0 & 0 & 0 & 1 & 0 & 0 & 1 & 0 & -1\\\\0 & 0 & 0 & 0 & 1 & -1 & -1 & 0 & 0\\end{matrix}\\right]$"
      ],
      "text/plain": [
       "Matrix([\n",
       "[1, 0, 0, 0, 0, -1, -1, -1, d0],\n",
       "[0, 1, 0, 0, 0, -1, -2, -1, d1],\n",
       "[0, 0, 1, 0, 0,  1,  1,  0, -1],\n",
       "[0, 0, 0, 1, 0,  0,  1,  0, -1],\n",
       "[0, 0, 0, 0, 1, -1, -1,  0,  0]])"
      ]
     },
     "metadata": {},
     "output_type": "display_data"
    },
    {
     "data": {
      "text/latex": [
       "$\\displaystyle \\left[\\begin{matrix}1 & 0 & 0 & 0 & 0 & -1 & - c_{2} - 1 & - c_{2} - 1 & 1\\\\0 & 1 & 0 & 0 & 0 & -1 & - c_{2} - 2 & - c_{2} - 1 & 1\\\\0 & 0 & 1 & 0 & 0 & 1 & c_{2} + 1 & c_{2} & -1\\\\0 & 0 & 0 & 1 & 0 & 0 & c_{3} + 1 & c_{3} & -1\\\\0 & 0 & 0 & 0 & 1 & -1 & c_{4} - 1 & c_{4} & 0\\end{matrix}\\right]$"
      ],
      "text/plain": [
       "Matrix([\n",
       "[1, 0, 0, 0, 0, -1, -c2 - 1, -c2 - 1,  1],\n",
       "[0, 1, 0, 0, 0, -1, -c2 - 2, -c2 - 1,  1],\n",
       "[0, 0, 1, 0, 0,  1,  c2 + 1,      c2, -1],\n",
       "[0, 0, 0, 1, 0,  0,  c3 + 1,      c3, -1],\n",
       "[0, 0, 0, 0, 1, -1,  c4 - 1,      c4,  0]])"
      ]
     },
     "metadata": {},
     "output_type": "display_data"
    },
    {
     "data": {
      "text/latex": [
       "$\\displaystyle \\text{True}$"
      ],
      "text/plain": [
       "True"
      ]
     },
     "metadata": {},
     "output_type": "display_data"
    }
   ],
   "source": [
    "i, j = 0, 5\n",
    "display(fans[i], fans[j])\n",
    "display(sp.Eq(fans[i].subs(d0,1).subs(d1,1),fans[j].subs(c2,0).subs(c3,0).subs(c4,0)))"
   ]
  },
  {
   "cell_type": "markdown",
   "id": "4c68a48c-76c1-4af4-980a-eacf3231d313",
   "metadata": {
    "jp-MarkdownHeadingCollapsed": true
   },
   "source": [
    "### fan 3 ($c_2=-1$, $c_3=-1$, $c_4=1$, $d_1=1$)"
   ]
  },
  {
   "cell_type": "code",
   "execution_count": 127,
   "id": "40a39dc0-d5b1-4275-88b6-b11b60348780",
   "metadata": {},
   "outputs": [
    {
     "data": {
      "text/latex": [
       "$\\displaystyle \\left[\\begin{matrix}1 & 0 & 0 & 0 & 0 & -1 & 0 & 0 & 1\\\\0 & 1 & 0 & 0 & 0 & -1 & -1 & d_{1} - 1 & d_{1}\\\\0 & 0 & 1 & 0 & 0 & 1 & 0 & -1 & -1\\\\0 & 0 & 0 & 1 & 0 & 0 & 0 & -1 & -1\\\\0 & 0 & 0 & 0 & 1 & -1 & 0 & 1 & 0\\end{matrix}\\right]$"
      ],
      "text/plain": [
       "Matrix([\n",
       "[1, 0, 0, 0, 0, -1,  0,      0,  1],\n",
       "[0, 1, 0, 0, 0, -1, -1, d1 - 1, d1],\n",
       "[0, 0, 1, 0, 0,  1,  0,     -1, -1],\n",
       "[0, 0, 0, 1, 0,  0,  0,     -1, -1],\n",
       "[0, 0, 0, 0, 1, -1,  0,      1,  0]])"
      ]
     },
     "metadata": {},
     "output_type": "display_data"
    },
    {
     "data": {
      "text/latex": [
       "$\\displaystyle \\left[\\begin{matrix}1 & 0 & 0 & 0 & 0 & -1 & - c_{2} - 1 & - c_{2} - 1 & 1\\\\0 & 1 & 0 & 0 & 0 & -1 & - c_{2} - 2 & - c_{2} - 1 & 1\\\\0 & 0 & 1 & 0 & 0 & 1 & c_{2} + 1 & c_{2} & -1\\\\0 & 0 & 0 & 1 & 0 & 0 & c_{3} + 1 & c_{3} & -1\\\\0 & 0 & 0 & 0 & 1 & -1 & c_{4} - 1 & c_{4} & 0\\end{matrix}\\right]$"
      ],
      "text/plain": [
       "Matrix([\n",
       "[1, 0, 0, 0, 0, -1, -c2 - 1, -c2 - 1,  1],\n",
       "[0, 1, 0, 0, 0, -1, -c2 - 2, -c2 - 1,  1],\n",
       "[0, 0, 1, 0, 0,  1,  c2 + 1,      c2, -1],\n",
       "[0, 0, 0, 1, 0,  0,  c3 + 1,      c3, -1],\n",
       "[0, 0, 0, 0, 1, -1,  c4 - 1,      c4,  0]])"
      ]
     },
     "metadata": {},
     "output_type": "display_data"
    },
    {
     "data": {
      "text/latex": [
       "$\\displaystyle \\text{True}$"
      ],
      "text/plain": [
       "True"
      ]
     },
     "metadata": {},
     "output_type": "display_data"
    }
   ],
   "source": [
    "i, j = 3, 5\n",
    "display(fans[i], fans[j])\n",
    "display(sp.Eq(fans[i].subs(d1,1),fans[j].subs(c2,-1).subs(c3,-1).subs(c4,1)))"
   ]
  },
  {
   "cell_type": "markdown",
   "id": "2cfff3af-57bf-4325-9059-f391a989c1ca",
   "metadata": {
    "jp-MarkdownHeadingCollapsed": true
   },
   "source": [
    "### fan 7 ($a_2=1$, $c_2=-1$, $c_3=0$, $c_4=0$)"
   ]
  },
  {
   "cell_type": "code",
   "execution_count": 133,
   "id": "44dc57b1-a842-4aed-95a1-bb4e795ad04d",
   "metadata": {},
   "outputs": [
    {
     "data": {
      "text/latex": [
       "$\\displaystyle \\left[\\begin{matrix}1 & 0 & 0 & 0 & 0 & -1 & - c_{2} - 1 & - c_{2} - 1 & 1\\\\0 & 1 & 0 & 0 & 0 & -1 & - c_{2} - 2 & - c_{2} - 1 & 1\\\\0 & 0 & 1 & 0 & 0 & 1 & c_{2} + 1 & c_{2} & -1\\\\0 & 0 & 0 & 1 & 0 & 0 & c_{3} + 1 & c_{3} & -1\\\\0 & 0 & 0 & 0 & 1 & -1 & c_{4} - 1 & c_{4} & 0\\end{matrix}\\right]$"
      ],
      "text/plain": [
       "Matrix([\n",
       "[1, 0, 0, 0, 0, -1, -c2 - 1, -c2 - 1,  1],\n",
       "[0, 1, 0, 0, 0, -1, -c2 - 2, -c2 - 1,  1],\n",
       "[0, 0, 1, 0, 0,  1,  c2 + 1,      c2, -1],\n",
       "[0, 0, 0, 1, 0,  0,  c3 + 1,      c3, -1],\n",
       "[0, 0, 0, 0, 1, -1,  c4 - 1,      c4,  0]])"
      ]
     },
     "metadata": {},
     "output_type": "display_data"
    },
    {
     "data": {
      "text/latex": [
       "$\\displaystyle \\left[\\begin{matrix}1 & 0 & 0 & 0 & 0 & -1 & 0 & 0 & 1\\\\0 & 1 & 0 & 0 & 0 & -1 & -1 & 0 & 1\\\\0 & 0 & 1 & 0 & 0 & a_{2} & a_{2} - 1 & -1 & -1\\\\0 & 0 & 0 & 1 & 0 & 0 & 1 & 0 & -1\\\\0 & 0 & 0 & 0 & 1 & -1 & -1 & 0 & 0\\end{matrix}\\right]$"
      ],
      "text/plain": [
       "Matrix([\n",
       "[1, 0, 0, 0, 0, -1,      0,  0,  1],\n",
       "[0, 1, 0, 0, 0, -1,     -1,  0,  1],\n",
       "[0, 0, 1, 0, 0, a2, a2 - 1, -1, -1],\n",
       "[0, 0, 0, 1, 0,  0,      1,  0, -1],\n",
       "[0, 0, 0, 0, 1, -1,     -1,  0,  0]])"
      ]
     },
     "metadata": {},
     "output_type": "display_data"
    },
    {
     "data": {
      "text/latex": [
       "$\\displaystyle \\text{True}$"
      ],
      "text/plain": [
       "True"
      ]
     },
     "metadata": {},
     "output_type": "display_data"
    }
   ],
   "source": [
    "i, j = 5, 7\n",
    "display(fans[i], fans[j])\n",
    "display(sp.Eq(fans[i].subs(c2,-1).subs(c3,0).subs(c4,0),fans[j].subs(a2,1)))"
   ]
  },
  {
   "cell_type": "markdown",
   "id": "f0e70520-0e55-4dc7-a1be-2b15e541a2d4",
   "metadata": {
    "jp-MarkdownHeadingCollapsed": true
   },
   "source": [
    "## fan 6"
   ]
  },
  {
   "cell_type": "markdown",
   "id": "6003d3d6-a400-4978-ad3b-cbf29d8b7053",
   "metadata": {
    "jp-MarkdownHeadingCollapsed": true
   },
   "source": [
    "### fan 0 ($c_2=0$, $c_3=0$, $d_0=0$, $d_1=0$)"
   ]
  },
  {
   "cell_type": "code",
   "execution_count": 104,
   "id": "360115f8-e3e4-4dbb-9404-9ffb8baf5aac",
   "metadata": {},
   "outputs": [
    {
     "data": {
      "text/latex": [
       "$\\displaystyle \\left[\\begin{matrix}1 & 0 & 0 & 0 & 0 & -1 & -1 & -1 & d_{0}\\\\0 & 1 & 0 & 0 & 0 & -1 & -2 & -1 & d_{1}\\\\0 & 0 & 1 & 0 & 0 & 1 & 1 & 0 & -1\\\\0 & 0 & 0 & 1 & 0 & 0 & 1 & 0 & -1\\\\0 & 0 & 0 & 0 & 1 & -1 & -1 & 0 & 0\\end{matrix}\\right]$"
      ],
      "text/plain": [
       "Matrix([\n",
       "[1, 0, 0, 0, 0, -1, -1, -1, d0],\n",
       "[0, 1, 0, 0, 0, -1, -2, -1, d1],\n",
       "[0, 0, 1, 0, 0,  1,  1,  0, -1],\n",
       "[0, 0, 0, 1, 0,  0,  1,  0, -1],\n",
       "[0, 0, 0, 0, 1, -1, -1,  0,  0]])"
      ]
     },
     "metadata": {},
     "output_type": "display_data"
    },
    {
     "data": {
      "text/latex": [
       "$\\displaystyle \\left[\\begin{matrix}1 & 0 & 0 & 0 & 0 & -1 & -1 & -1 & 0\\\\0 & 1 & 0 & 0 & 0 & -1 & -2 & -1 & 0\\\\0 & 0 & 1 & 0 & 0 & c_{2} + 1 & 2 c_{2} + 1 & c_{2} & -1\\\\0 & 0 & 0 & 1 & 0 & c_{3} & 2 c_{3} + 1 & c_{3} & -1\\\\0 & 0 & 0 & 0 & 1 & -1 & -1 & 0 & 0\\end{matrix}\\right]$"
      ],
      "text/plain": [
       "Matrix([\n",
       "[1, 0, 0, 0, 0,     -1,       -1, -1,  0],\n",
       "[0, 1, 0, 0, 0,     -1,       -2, -1,  0],\n",
       "[0, 0, 1, 0, 0, c2 + 1, 2*c2 + 1, c2, -1],\n",
       "[0, 0, 0, 1, 0,     c3, 2*c3 + 1, c3, -1],\n",
       "[0, 0, 0, 0, 1,     -1,       -1,  0,  0]])"
      ]
     },
     "metadata": {},
     "output_type": "display_data"
    },
    {
     "data": {
      "text/latex": [
       "$\\displaystyle \\text{True}$"
      ],
      "text/plain": [
       "True"
      ]
     },
     "metadata": {},
     "output_type": "display_data"
    }
   ],
   "source": [
    "i, j = 0, 6\n",
    "display(fans[i], fans[j])\n",
    "display(sp.Eq(fans[i].subs(d0,0).subs(d1,0),fans[j].subs(c2,0).subs(c3,0)))"
   ]
  },
  {
   "cell_type": "markdown",
   "id": "b3353577-f014-4d3e-b8df-cd2447706246",
   "metadata": {
    "jp-MarkdownHeadingCollapsed": true
   },
   "source": [
    "### fan 1 ($c_2=-1$, $c_3=0$, $d_0=0$, $d_1=0$, $d_4=0$)"
   ]
  },
  {
   "cell_type": "code",
   "execution_count": 108,
   "id": "886bfce1-725f-440f-bfc6-8ba062fc3567",
   "metadata": {},
   "outputs": [
    {
     "data": {
      "text/latex": [
       "$\\displaystyle \\left[\\begin{matrix}1 & 0 & 0 & 0 & 0 & -1 & d_{0} - 1 & d_{0} - 1 & d_{0}\\\\0 & 1 & 0 & 0 & 0 & -1 & d_{1} - 2 & d_{1} - 1 & d_{1}\\\\0 & 0 & 1 & 0 & 0 & 0 & -1 & -1 & -1\\\\0 & 0 & 0 & 1 & 0 & 0 & 1 & 0 & -1\\\\0 & 0 & 0 & 0 & 1 & -1 & d_{4} - 1 & d_{4} & d_{4}\\end{matrix}\\right]$"
      ],
      "text/plain": [
       "Matrix([\n",
       "[1, 0, 0, 0, 0, -1, d0 - 1, d0 - 1, d0],\n",
       "[0, 1, 0, 0, 0, -1, d1 - 2, d1 - 1, d1],\n",
       "[0, 0, 1, 0, 0,  0,     -1,     -1, -1],\n",
       "[0, 0, 0, 1, 0,  0,      1,      0, -1],\n",
       "[0, 0, 0, 0, 1, -1, d4 - 1,     d4, d4]])"
      ]
     },
     "metadata": {},
     "output_type": "display_data"
    },
    {
     "data": {
      "text/latex": [
       "$\\displaystyle \\left[\\begin{matrix}1 & 0 & 0 & 0 & 0 & -1 & -1 & -1 & 0\\\\0 & 1 & 0 & 0 & 0 & -1 & -2 & -1 & 0\\\\0 & 0 & 1 & 0 & 0 & c_{2} + 1 & 2 c_{2} + 1 & c_{2} & -1\\\\0 & 0 & 0 & 1 & 0 & c_{3} & 2 c_{3} + 1 & c_{3} & -1\\\\0 & 0 & 0 & 0 & 1 & -1 & -1 & 0 & 0\\end{matrix}\\right]$"
      ],
      "text/plain": [
       "Matrix([\n",
       "[1, 0, 0, 0, 0,     -1,       -1, -1,  0],\n",
       "[0, 1, 0, 0, 0,     -1,       -2, -1,  0],\n",
       "[0, 0, 1, 0, 0, c2 + 1, 2*c2 + 1, c2, -1],\n",
       "[0, 0, 0, 1, 0,     c3, 2*c3 + 1, c3, -1],\n",
       "[0, 0, 0, 0, 1,     -1,       -1,  0,  0]])"
      ]
     },
     "metadata": {},
     "output_type": "display_data"
    },
    {
     "data": {
      "text/latex": [
       "$\\displaystyle \\text{True}$"
      ],
      "text/plain": [
       "True"
      ]
     },
     "metadata": {},
     "output_type": "display_data"
    }
   ],
   "source": [
    "i, j = 1, 6\n",
    "display(fans[i], fans[j])\n",
    "display(sp.Eq(fans[i].subs(d0,0).subs(d1,0).subs(d4,0),fans[j].subs(c2,-1).subs(c3,0)))"
   ]
  },
  {
   "cell_type": "markdown",
   "id": "c4df73b1-7a69-4077-9f9d-67ab545f74cd",
   "metadata": {
    "jp-MarkdownHeadingCollapsed": true
   },
   "source": [
    "## fan 7"
   ]
  },
  {
   "cell_type": "markdown",
   "id": "d75303a6-5de3-4034-ad05-be8b45824966",
   "metadata": {
    "jp-MarkdownHeadingCollapsed": true
   },
   "source": [
    "### fan 1 ($a_2=0$, $d_0=1$, $d_1=1$, $d_4=0$)"
   ]
  },
  {
   "cell_type": "code",
   "execution_count": 115,
   "id": "0e82a8da-7a89-4ce1-8ca3-6e6fede18883",
   "metadata": {},
   "outputs": [
    {
     "data": {
      "text/latex": [
       "$\\displaystyle \\left[\\begin{matrix}1 & 0 & 0 & 0 & 0 & -1 & d_{0} - 1 & d_{0} - 1 & d_{0}\\\\0 & 1 & 0 & 0 & 0 & -1 & d_{1} - 2 & d_{1} - 1 & d_{1}\\\\0 & 0 & 1 & 0 & 0 & 0 & -1 & -1 & -1\\\\0 & 0 & 0 & 1 & 0 & 0 & 1 & 0 & -1\\\\0 & 0 & 0 & 0 & 1 & -1 & d_{4} - 1 & d_{4} & d_{4}\\end{matrix}\\right]$"
      ],
      "text/plain": [
       "Matrix([\n",
       "[1, 0, 0, 0, 0, -1, d0 - 1, d0 - 1, d0],\n",
       "[0, 1, 0, 0, 0, -1, d1 - 2, d1 - 1, d1],\n",
       "[0, 0, 1, 0, 0,  0,     -1,     -1, -1],\n",
       "[0, 0, 0, 1, 0,  0,      1,      0, -1],\n",
       "[0, 0, 0, 0, 1, -1, d4 - 1,     d4, d4]])"
      ]
     },
     "metadata": {},
     "output_type": "display_data"
    },
    {
     "data": {
      "text/latex": [
       "$\\displaystyle \\left[\\begin{matrix}1 & 0 & 0 & 0 & 0 & -1 & 0 & 0 & 1\\\\0 & 1 & 0 & 0 & 0 & -1 & -1 & 0 & 1\\\\0 & 0 & 1 & 0 & 0 & a_{2} & a_{2} - 1 & -1 & -1\\\\0 & 0 & 0 & 1 & 0 & 0 & 1 & 0 & -1\\\\0 & 0 & 0 & 0 & 1 & -1 & -1 & 0 & 0\\end{matrix}\\right]$"
      ],
      "text/plain": [
       "Matrix([\n",
       "[1, 0, 0, 0, 0, -1,      0,  0,  1],\n",
       "[0, 1, 0, 0, 0, -1,     -1,  0,  1],\n",
       "[0, 0, 1, 0, 0, a2, a2 - 1, -1, -1],\n",
       "[0, 0, 0, 1, 0,  0,      1,  0, -1],\n",
       "[0, 0, 0, 0, 1, -1,     -1,  0,  0]])"
      ]
     },
     "metadata": {},
     "output_type": "display_data"
    },
    {
     "data": {
      "text/latex": [
       "$\\displaystyle \\text{True}$"
      ],
      "text/plain": [
       "True"
      ]
     },
     "metadata": {},
     "output_type": "display_data"
    }
   ],
   "source": [
    "i, j = 1, 7\n",
    "display(fans[i], fans[j])\n",
    "display(sp.Eq(fans[i].subs(d0,1).subs(d1,1).subs(d4,0),fans[j].subs(a2,0)))"
   ]
  },
  {
   "cell_type": "markdown",
   "id": "18468936-8006-46e1-a421-961ba57fced2",
   "metadata": {
    "jp-MarkdownHeadingCollapsed": true
   },
   "source": [
    "### fan 5 ($a_2=1$, $c_2=-1$, $c_3=0$, $c_4=0$)"
   ]
  },
  {
   "cell_type": "code",
   "execution_count": 133,
   "id": "603eefbb-d03c-4cac-a0e7-25af58643555",
   "metadata": {},
   "outputs": [
    {
     "data": {
      "text/latex": [
       "$\\displaystyle \\left[\\begin{matrix}1 & 0 & 0 & 0 & 0 & -1 & - c_{2} - 1 & - c_{2} - 1 & 1\\\\0 & 1 & 0 & 0 & 0 & -1 & - c_{2} - 2 & - c_{2} - 1 & 1\\\\0 & 0 & 1 & 0 & 0 & 1 & c_{2} + 1 & c_{2} & -1\\\\0 & 0 & 0 & 1 & 0 & 0 & c_{3} + 1 & c_{3} & -1\\\\0 & 0 & 0 & 0 & 1 & -1 & c_{4} - 1 & c_{4} & 0\\end{matrix}\\right]$"
      ],
      "text/plain": [
       "Matrix([\n",
       "[1, 0, 0, 0, 0, -1, -c2 - 1, -c2 - 1,  1],\n",
       "[0, 1, 0, 0, 0, -1, -c2 - 2, -c2 - 1,  1],\n",
       "[0, 0, 1, 0, 0,  1,  c2 + 1,      c2, -1],\n",
       "[0, 0, 0, 1, 0,  0,  c3 + 1,      c3, -1],\n",
       "[0, 0, 0, 0, 1, -1,  c4 - 1,      c4,  0]])"
      ]
     },
     "metadata": {},
     "output_type": "display_data"
    },
    {
     "data": {
      "text/latex": [
       "$\\displaystyle \\left[\\begin{matrix}1 & 0 & 0 & 0 & 0 & -1 & 0 & 0 & 1\\\\0 & 1 & 0 & 0 & 0 & -1 & -1 & 0 & 1\\\\0 & 0 & 1 & 0 & 0 & a_{2} & a_{2} - 1 & -1 & -1\\\\0 & 0 & 0 & 1 & 0 & 0 & 1 & 0 & -1\\\\0 & 0 & 0 & 0 & 1 & -1 & -1 & 0 & 0\\end{matrix}\\right]$"
      ],
      "text/plain": [
       "Matrix([\n",
       "[1, 0, 0, 0, 0, -1,      0,  0,  1],\n",
       "[0, 1, 0, 0, 0, -1,     -1,  0,  1],\n",
       "[0, 0, 1, 0, 0, a2, a2 - 1, -1, -1],\n",
       "[0, 0, 0, 1, 0,  0,      1,  0, -1],\n",
       "[0, 0, 0, 0, 1, -1,     -1,  0,  0]])"
      ]
     },
     "metadata": {},
     "output_type": "display_data"
    },
    {
     "data": {
      "text/latex": [
       "$\\displaystyle \\text{True}$"
      ],
      "text/plain": [
       "True"
      ]
     },
     "metadata": {},
     "output_type": "display_data"
    }
   ],
   "source": [
    "i, j = 5, 7\n",
    "display(fans[i], fans[j])\n",
    "display(sp.Eq(fans[i].subs(c2,-1).subs(c3,0).subs(c4,0),fans[j].subs(a2,1)))"
   ]
  },
  {
   "cell_type": "markdown",
   "id": "0d8d8e04-5f3e-41c1-aef0-63fbe399e3b0",
   "metadata": {
    "jp-MarkdownHeadingCollapsed": true
   },
   "source": [
    "# There are 5 types of fans up to D-J equivalence and symmetry"
   ]
  },
  {
   "cell_type": "code",
   "execution_count": 135,
   "id": "abf8f74a-910d-47f9-87db-44b49951c7fb",
   "metadata": {},
   "outputs": [
    {
     "data": {
      "text/plain": [
       "[[1, 2, 3, 4, 5, 6, 7, 8, 9], [1, 8, 7, 5, 4, 6, 3, 2, 9]]"
      ]
     },
     "execution_count": 135,
     "metadata": {},
     "output_type": "execute_result"
    }
   ],
   "source": [
    "K.symmetries"
   ]
  },
  {
   "cell_type": "code",
   "execution_count": 136,
   "id": "f95934a9-dbf1-44f3-9eb1-a3704b841528",
   "metadata": {},
   "outputs": [],
   "source": [
    "symm_index = [(np.array(i)-1).tolist() for i in K.symmetries]"
   ]
  },
  {
   "cell_type": "markdown",
   "id": "e13a7f3c-8f33-4b1b-9640-bb164aba42ce",
   "metadata": {
    "jp-MarkdownHeadingCollapsed": true
   },
   "source": [
    "## type 0"
   ]
  },
  {
   "cell_type": "code",
   "execution_count": 139,
   "id": "c342a63d-9519-4fb8-a194-5a40485bf101",
   "metadata": {},
   "outputs": [
    {
     "data": {
      "text/latex": [
       "$\\displaystyle \\left[\\begin{matrix}1 & 0 & 0 & 0 & 0 & -1 & -1 & -1 & d_{0} - d_{1} + 1\\\\0 & 1 & 0 & 0 & 0 & -1 & -2 & -1 & 2 - d_{1}\\\\0 & 0 & 1 & 0 & 0 & 1 & 1 & 0 & -1\\\\0 & 0 & 0 & 1 & 0 & 0 & 1 & 0 & -1\\\\0 & 0 & 0 & 0 & 1 & -1 & -1 & 0 & 0\\end{matrix}\\right]$"
      ],
      "text/plain": [
       "Matrix([\n",
       "[1, 0, 0, 0, 0, -1, -1, -1, d0 - d1 + 1],\n",
       "[0, 1, 0, 0, 0, -1, -2, -1,      2 - d1],\n",
       "[0, 0, 1, 0, 0,  1,  1,  0,          -1],\n",
       "[0, 0, 0, 1, 0,  0,  1,  0,          -1],\n",
       "[0, 0, 0, 0, 1, -1, -1,  0,           0]])"
      ]
     },
     "metadata": {},
     "output_type": "display_data"
    },
    {
     "data": {
      "text/latex": [
       "$\\displaystyle \\left[\\begin{matrix}1 & 0 & 0 & 0 & 0 & -1 & -1 & -1 & d_{0}\\\\0 & 1 & 0 & 0 & 0 & -1 & -2 & -1 & d_{1}\\\\0 & 0 & 1 & 0 & 0 & 1 & 1 & 0 & -1\\\\0 & 0 & 0 & 1 & 0 & 0 & 1 & 0 & -1\\\\0 & 0 & 0 & 0 & 1 & -1 & -1 & 0 & 0\\end{matrix}\\right]$"
      ],
      "text/plain": [
       "Matrix([\n",
       "[1, 0, 0, 0, 0, -1, -1, -1, d0],\n",
       "[0, 1, 0, 0, 0, -1, -2, -1, d1],\n",
       "[0, 0, 1, 0, 0,  1,  1,  0, -1],\n",
       "[0, 0, 0, 1, 0,  0,  1,  0, -1],\n",
       "[0, 0, 0, 0, 1, -1, -1,  0,  0]])"
      ]
     },
     "metadata": {},
     "output_type": "display_data"
    }
   ],
   "source": [
    "display(fans[0][:, symm_index[1]].rref()[0])\n",
    "display(fans[0])"
   ]
  },
  {
   "cell_type": "markdown",
   "id": "3bfd25bd-e7bb-4b8c-9dc8-f0fae7648b17",
   "metadata": {
    "jp-MarkdownHeadingCollapsed": true
   },
   "source": [
    "## types 1, 4"
   ]
  },
  {
   "cell_type": "code",
   "execution_count": 141,
   "id": "96fee66f-7738-4997-ad92-5d106e59e142",
   "metadata": {},
   "outputs": [
    {
     "data": {
      "text/latex": [
       "$\\displaystyle \\left[\\begin{matrix}1 & 0 & 0 & 0 & 0 & -1 & d_{0} - 1 & 0 & 1\\\\0 & 1 & 0 & 0 & 0 & -1 & d_{1} - 2 & 1 & 2\\\\0 & 0 & 1 & 0 & 0 & 1 & 1 - d_{1} & -1 & -1\\\\0 & 0 & 0 & 1 & 0 & 0 & - d_{1} + d_{4} + 1 & -1 & -1\\\\0 & 0 & 0 & 0 & 1 & -1 & d_{1} - 1 & 1 & 0\\end{matrix}\\right]$"
      ],
      "text/plain": [
       "Matrix([\n",
       "[1, 0, 0, 0, 0, -1,       d0 - 1,  0,  1],\n",
       "[0, 1, 0, 0, 0, -1,       d1 - 2,  1,  2],\n",
       "[0, 0, 1, 0, 0,  1,       1 - d1, -1, -1],\n",
       "[0, 0, 0, 1, 0,  0, -d1 + d4 + 1, -1, -1],\n",
       "[0, 0, 0, 0, 1, -1,       d1 - 1,  1,  0]])"
      ]
     },
     "metadata": {},
     "output_type": "display_data"
    },
    {
     "data": {
      "text/latex": [
       "$\\displaystyle \\left[\\begin{matrix}1 & 0 & 0 & 0 & 0 & -1 & b_{0} & 0 & 1\\\\0 & 1 & 0 & 0 & 0 & -1 & b_{1} & 1 & 2\\\\0 & 0 & 1 & 0 & 0 & 1 & - b_{1} - 1 & -1 & -1\\\\0 & 0 & 0 & 1 & 0 & 0 & b_{3} & -1 & -1\\\\0 & 0 & 0 & 0 & 1 & -1 & b_{1} + 1 & 1 & 0\\end{matrix}\\right]$"
      ],
      "text/plain": [
       "Matrix([\n",
       "[1, 0, 0, 0, 0, -1,      b0,  0,  1],\n",
       "[0, 1, 0, 0, 0, -1,      b1,  1,  2],\n",
       "[0, 0, 1, 0, 0,  1, -b1 - 1, -1, -1],\n",
       "[0, 0, 0, 1, 0,  0,      b3, -1, -1],\n",
       "[0, 0, 0, 0, 1, -1,  b1 + 1,  1,  0]])"
      ]
     },
     "metadata": {},
     "output_type": "display_data"
    }
   ],
   "source": [
    "display(fans[1][:, symm_index[1]].rref()[0])\n",
    "display(fans[4])"
   ]
  },
  {
   "cell_type": "markdown",
   "id": "d49f0e4e-b8ff-48c8-91b1-119613aa9f0f",
   "metadata": {
    "jp-MarkdownHeadingCollapsed": true
   },
   "source": [
    "## types 2, 6"
   ]
  },
  {
   "cell_type": "code",
   "execution_count": 143,
   "id": "3e9082d3-b8ba-432c-abac-5fba089f7cc1",
   "metadata": {},
   "outputs": [
    {
     "data": {
      "text/latex": [
       "$\\displaystyle \\left[\\begin{matrix}1 & 0 & 0 & 0 & 0 & -1 & -1 & -1 & 0\\\\0 & 1 & 0 & 0 & 0 & -1 & -2 & -1 & 0\\\\0 & 0 & 1 & 0 & 0 & c_{3} + 1 & 2 c_{3} + 1 & c_{3} & -1\\\\0 & 0 & 0 & 1 & 0 & c_{3} + c_{4} & 2 c_{3} + 2 c_{4} + 1 & c_{3} + c_{4} & -1\\\\0 & 0 & 0 & 0 & 1 & -1 & -1 & 0 & 0\\end{matrix}\\right]$"
      ],
      "text/plain": [
       "Matrix([\n",
       "[1, 0, 0, 0, 0,      -1,              -1,      -1,  0],\n",
       "[0, 1, 0, 0, 0,      -1,              -2,      -1,  0],\n",
       "[0, 0, 1, 0, 0,  c3 + 1,        2*c3 + 1,      c3, -1],\n",
       "[0, 0, 0, 1, 0, c3 + c4, 2*c3 + 2*c4 + 1, c3 + c4, -1],\n",
       "[0, 0, 0, 0, 1,      -1,              -1,       0,  0]])"
      ]
     },
     "metadata": {},
     "output_type": "display_data"
    },
    {
     "data": {
      "text/latex": [
       "$\\displaystyle \\left[\\begin{matrix}1 & 0 & 0 & 0 & 0 & -1 & -1 & -1 & 0\\\\0 & 1 & 0 & 0 & 0 & -1 & -2 & -1 & 0\\\\0 & 0 & 1 & 0 & 0 & c_{2} + 1 & 2 c_{2} + 1 & c_{2} & -1\\\\0 & 0 & 0 & 1 & 0 & c_{3} & 2 c_{3} + 1 & c_{3} & -1\\\\0 & 0 & 0 & 0 & 1 & -1 & -1 & 0 & 0\\end{matrix}\\right]$"
      ],
      "text/plain": [
       "Matrix([\n",
       "[1, 0, 0, 0, 0,     -1,       -1, -1,  0],\n",
       "[0, 1, 0, 0, 0,     -1,       -2, -1,  0],\n",
       "[0, 0, 1, 0, 0, c2 + 1, 2*c2 + 1, c2, -1],\n",
       "[0, 0, 0, 1, 0,     c3, 2*c3 + 1, c3, -1],\n",
       "[0, 0, 0, 0, 1,     -1,       -1,  0,  0]])"
      ]
     },
     "metadata": {},
     "output_type": "display_data"
    }
   ],
   "source": [
    "display(fans[2][:, symm_index[1]].rref()[0])\n",
    "display(fans[6])"
   ]
  },
  {
   "cell_type": "markdown",
   "id": "9788e71f-1903-4195-ade3-544103339b6d",
   "metadata": {
    "jp-MarkdownHeadingCollapsed": true
   },
   "source": [
    "## types 3, 7"
   ]
  },
  {
   "cell_type": "code",
   "execution_count": 147,
   "id": "4c75c304-ee78-435e-a82d-7dd6a06bf4e1",
   "metadata": {},
   "outputs": [
    {
     "data": {
      "text/latex": [
       "$\\displaystyle \\left[\\begin{matrix}1 & 0 & 0 & 0 & 0 & -1 & 0 & 0 & 1\\\\0 & 1 & 0 & 0 & 0 & -1 & -1 & 0 & 1\\\\0 & 0 & 1 & 0 & 0 & 2 - d_{1} & 1 - d_{1} & -1 & -1\\\\0 & 0 & 0 & 1 & 0 & 0 & 1 & 0 & -1\\\\0 & 0 & 0 & 0 & 1 & -1 & -1 & 0 & 0\\end{matrix}\\right]$"
      ],
      "text/plain": [
       "Matrix([\n",
       "[1, 0, 0, 0, 0,     -1,      0,  0,  1],\n",
       "[0, 1, 0, 0, 0,     -1,     -1,  0,  1],\n",
       "[0, 0, 1, 0, 0, 2 - d1, 1 - d1, -1, -1],\n",
       "[0, 0, 0, 1, 0,      0,      1,  0, -1],\n",
       "[0, 0, 0, 0, 1,     -1,     -1,  0,  0]])"
      ]
     },
     "metadata": {},
     "output_type": "display_data"
    },
    {
     "data": {
      "text/latex": [
       "$\\displaystyle \\left[\\begin{matrix}1 & 0 & 0 & 0 & 0 & -1 & 0 & 0 & 1\\\\0 & 1 & 0 & 0 & 0 & -1 & -1 & 0 & 1\\\\0 & 0 & 1 & 0 & 0 & a_{2} & a_{2} - 1 & -1 & -1\\\\0 & 0 & 0 & 1 & 0 & 0 & 1 & 0 & -1\\\\0 & 0 & 0 & 0 & 1 & -1 & -1 & 0 & 0\\end{matrix}\\right]$"
      ],
      "text/plain": [
       "Matrix([\n",
       "[1, 0, 0, 0, 0, -1,      0,  0,  1],\n",
       "[0, 1, 0, 0, 0, -1,     -1,  0,  1],\n",
       "[0, 0, 1, 0, 0, a2, a2 - 1, -1, -1],\n",
       "[0, 0, 0, 1, 0,  0,      1,  0, -1],\n",
       "[0, 0, 0, 0, 1, -1,     -1,  0,  0]])"
      ]
     },
     "metadata": {},
     "output_type": "display_data"
    }
   ],
   "source": [
    "display(fans[3][:, symm_index[1]].rref()[0])\n",
    "display(fans[7])"
   ]
  },
  {
   "cell_type": "markdown",
   "id": "ec040c65-9131-4cc5-8d52-81bf3e4c23d0",
   "metadata": {
    "jp-MarkdownHeadingCollapsed": true
   },
   "source": [
    "## type 5"
   ]
  },
  {
   "cell_type": "code",
   "execution_count": 148,
   "id": "8a4ad0f7-8fe1-4539-bd56-d75f8e9fb6e2",
   "metadata": {},
   "outputs": [
    {
     "data": {
      "text/latex": [
       "$\\displaystyle \\left[\\begin{matrix}1 & 0 & 0 & 0 & 0 & -1 & - c_{2} - 1 & - c_{2} - 1 & 1\\\\0 & 1 & 0 & 0 & 0 & -1 & - c_{2} - 2 & - c_{2} - 1 & 1\\\\0 & 0 & 1 & 0 & 0 & 1 & c_{2} + 1 & c_{2} & -1\\\\0 & 0 & 0 & 1 & 0 & 0 & c_{2} + c_{4} + 1 & c_{2} + c_{4} & -1\\\\0 & 0 & 0 & 0 & 1 & -1 & - c_{2} + c_{3} - 1 & - c_{2} + c_{3} & 0\\end{matrix}\\right]$"
      ],
      "text/plain": [
       "Matrix([\n",
       "[1, 0, 0, 0, 0, -1,      -c2 - 1,  -c2 - 1,  1],\n",
       "[0, 1, 0, 0, 0, -1,      -c2 - 2,  -c2 - 1,  1],\n",
       "[0, 0, 1, 0, 0,  1,       c2 + 1,       c2, -1],\n",
       "[0, 0, 0, 1, 0,  0,  c2 + c4 + 1,  c2 + c4, -1],\n",
       "[0, 0, 0, 0, 1, -1, -c2 + c3 - 1, -c2 + c3,  0]])"
      ]
     },
     "metadata": {},
     "output_type": "display_data"
    },
    {
     "data": {
      "text/latex": [
       "$\\displaystyle \\left[\\begin{matrix}1 & 0 & 0 & 0 & 0 & -1 & - c_{2} - 1 & - c_{2} - 1 & 1\\\\0 & 1 & 0 & 0 & 0 & -1 & - c_{2} - 2 & - c_{2} - 1 & 1\\\\0 & 0 & 1 & 0 & 0 & 1 & c_{2} + 1 & c_{2} & -1\\\\0 & 0 & 0 & 1 & 0 & 0 & c_{3} + 1 & c_{3} & -1\\\\0 & 0 & 0 & 0 & 1 & -1 & c_{4} - 1 & c_{4} & 0\\end{matrix}\\right]$"
      ],
      "text/plain": [
       "Matrix([\n",
       "[1, 0, 0, 0, 0, -1, -c2 - 1, -c2 - 1,  1],\n",
       "[0, 1, 0, 0, 0, -1, -c2 - 2, -c2 - 1,  1],\n",
       "[0, 0, 1, 0, 0,  1,  c2 + 1,      c2, -1],\n",
       "[0, 0, 0, 1, 0,  0,  c3 + 1,      c3, -1],\n",
       "[0, 0, 0, 0, 1, -1,  c4 - 1,      c4,  0]])"
      ]
     },
     "metadata": {},
     "output_type": "display_data"
    }
   ],
   "source": [
    "display(fans[5][:, symm_index[1]].rref()[0])\n",
    "display(fans[5])"
   ]
  }
 ],
 "metadata": {
  "kernelspec": {
   "display_name": "Python 3 (ipykernel)",
   "language": "python",
   "name": "python3"
  },
  "language_info": {
   "codemirror_mode": {
    "name": "ipython",
    "version": 3
   },
   "file_extension": ".py",
   "mimetype": "text/x-python",
   "name": "python",
   "nbconvert_exporter": "python",
   "pygments_lexer": "ipython3",
   "version": "3.12.7"
  }
 },
 "nbformat": 4,
 "nbformat_minor": 5
}
