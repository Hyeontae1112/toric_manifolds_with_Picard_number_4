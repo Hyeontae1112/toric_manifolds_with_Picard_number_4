{
 "cells": [
  {
   "cell_type": "markdown",
   "id": "88a45b06-0c2e-495c-8130-a3b2b9b21bd8",
   "metadata": {
    "jp-MarkdownHeadingCollapsed": true
   },
   "source": [
    "# Preparation"
   ]
  },
  {
   "cell_type": "code",
   "execution_count": 13,
   "id": "a8d1a5a8-1e28-4abe-bbe4-1188621c64ca",
   "metadata": {},
   "outputs": [],
   "source": [
    "%run programs\\\\Characteristic_Pair.py\n",
    "import copy\n",
    "\n",
    "fanlikes_index=53\n",
    "projectied_vertex=7\n",
    "link_index=33\n",
    "\n",
    "K = Simplicial_Complex(json.loads(read_file('programs\\\\fanlikes')[fanlikes_index]))\n",
    "M = initial_char(K.n)\n",
    "C0 = Characteristic_Pair(K, M)\n",
    "fans = []\n",
    "\n",
    "a = sp.symbols('a0:%d'%K.n)\n",
    "b = sp.symbols('b0:%d'%K.n)\n",
    "c = sp.symbols('c0:%d'%K.n)\n",
    "d = sp.symbols('d0:%d'%K.n)\n",
    "\n",
    "a0, a1, a2, a3, a4, a5, a6 = a[:]\n",
    "b0, b1, b2, b3, b4, b5, b6 = b[:]\n",
    "c0, c1, c2, c3, c4, c5, c6 = c[:]\n",
    "d0, d1, d2, d3, d4, d5, d6 = d[:]"
   ]
  },
  {
   "cell_type": "code",
   "execution_count": 14,
   "id": "22341429-16ec-4752-9dab-2c617ed14844",
   "metadata": {},
   "outputs": [
    {
     "data": {
      "text/latex": [
       "$\\displaystyle \\left[\\begin{array}{ccccccccccc}1 & 0 & 0 & 0 & 0 & 0 & 0 & a_{0} & b_{0} & c_{0} & d_{0}\\\\0 & 1 & 0 & 0 & 0 & 0 & 0 & a_{1} & b_{1} & c_{1} & d_{1}\\\\0 & 0 & 1 & 0 & 0 & 0 & 0 & a_{2} & b_{2} & c_{2} & d_{2}\\\\0 & 0 & 0 & 1 & 0 & 0 & 0 & a_{3} & b_{3} & c_{3} & d_{3}\\\\0 & 0 & 0 & 0 & 1 & 0 & 0 & a_{4} & b_{4} & c_{4} & d_{4}\\\\0 & 0 & 0 & 0 & 0 & 1 & 0 & a_{5} & b_{5} & c_{5} & d_{5}\\\\0 & 0 & 0 & 0 & 0 & 0 & 1 & a_{6} & b_{6} & c_{6} & d_{6}\\end{array}\\right]$"
      ],
      "text/plain": [
       "Matrix([\n",
       "[1, 0, 0, 0, 0, 0, 0, a0, b0, c0, d0],\n",
       "[0, 1, 0, 0, 0, 0, 0, a1, b1, c1, d1],\n",
       "[0, 0, 1, 0, 0, 0, 0, a2, b2, c2, d2],\n",
       "[0, 0, 0, 1, 0, 0, 0, a3, b3, c3, d3],\n",
       "[0, 0, 0, 0, 1, 0, 0, a4, b4, c4, d4],\n",
       "[0, 0, 0, 0, 0, 1, 0, a5, b5, c5, d5],\n",
       "[0, 0, 0, 0, 0, 0, 1, a6, b6, c6, d6]])"
      ]
     },
     "execution_count": 14,
     "metadata": {},
     "output_type": "execute_result"
    }
   ],
   "source": [
    "C = C0\n",
    "C.char"
   ]
  },
  {
   "cell_type": "code",
   "execution_count": 15,
   "id": "0d4234c5-d2ad-43f2-bcf2-53df6f518fc0",
   "metadata": {},
   "outputs": [
    {
     "name": "stdout",
     "output_type": "stream",
     "text": [
      "facet number: 43\n"
     ]
    },
    {
     "data": {
      "text/latex": [
       "$\\displaystyle a_{0} = -1$"
      ],
      "text/plain": [
       "Eq(a0, -1)"
      ]
     },
     "metadata": {},
     "output_type": "display_data"
    },
    {
     "name": "stdout",
     "output_type": "stream",
     "text": [
      "facet number: 22\n"
     ]
    },
    {
     "data": {
      "text/latex": [
       "$\\displaystyle - a_{1} = 1$"
      ],
      "text/plain": [
       "Eq(-a1, 1)"
      ]
     },
     "metadata": {},
     "output_type": "display_data"
    },
    {
     "name": "stdout",
     "output_type": "stream",
     "text": [
      "facet number: 1\n"
     ]
    },
    {
     "data": {
      "text/latex": [
       "$\\displaystyle a_{6} = -1$"
      ],
      "text/plain": [
       "Eq(a6, -1)"
      ]
     },
     "metadata": {},
     "output_type": "display_data"
    },
    {
     "name": "stdout",
     "output_type": "stream",
     "text": [
      "facet number: 2\n"
     ]
    },
    {
     "data": {
      "text/latex": [
       "$\\displaystyle - c_{5} = 1$"
      ],
      "text/plain": [
       "Eq(-c5, 1)"
      ]
     },
     "metadata": {},
     "output_type": "display_data"
    },
    {
     "name": "stdout",
     "output_type": "stream",
     "text": [
      "facet number: 15\n"
     ]
    },
    {
     "data": {
      "text/latex": [
       "$\\displaystyle d_{2} = -1$"
      ],
      "text/plain": [
       "Eq(d2, -1)"
      ]
     },
     "metadata": {},
     "output_type": "display_data"
    },
    {
     "name": "stdout",
     "output_type": "stream",
     "text": [
      "facet number: 10\n"
     ]
    },
    {
     "data": {
      "text/latex": [
       "$\\displaystyle - d_{3} = 1$"
      ],
      "text/plain": [
       "Eq(-d3, 1)"
      ]
     },
     "metadata": {},
     "output_type": "display_data"
    },
    {
     "name": "stdout",
     "output_type": "stream",
     "text": [
      "facet number: 5\n"
     ]
    },
    {
     "data": {
      "text/latex": [
       "$\\displaystyle d_{4} = -1$"
      ],
      "text/plain": [
       "Eq(d4, -1)"
      ]
     },
     "metadata": {},
     "output_type": "display_data"
    }
   ],
   "source": [
    "i=43\n",
    "print('facet number:', i)\n",
    "display(sp.Eq(C.determinants[i], C.orientation[i]))\n",
    "\n",
    "i=22\n",
    "print('facet number:', i)\n",
    "display(sp.Eq(C.determinants[i], C.orientation[i]))\n",
    "\n",
    "i=1\n",
    "print('facet number:', i)\n",
    "display(sp.Eq(C.determinants[i], C.orientation[i]))\n",
    "\n",
    "i=2\n",
    "print('facet number:', i)\n",
    "display(sp.Eq(C.determinants[i], C.orientation[i]))\n",
    "\n",
    "i=15\n",
    "print('facet number:', i)\n",
    "display(sp.Eq(C.determinants[i], C.orientation[i]))\n",
    "\n",
    "i=10\n",
    "print('facet number:', i)\n",
    "display(sp.Eq(C.determinants[i], C.orientation[i]))\n",
    "\n",
    "i=5\n",
    "print('facet number:', i)\n",
    "display(sp.Eq(C.determinants[i], C.orientation[i]))\n",
    "\n",
    "C.subs(a0, -1)\n",
    "C.subs(a1, -1)\n",
    "C.subs(a6, -1)\n",
    "C.subs(c5, -1)\n",
    "C.subs(d2, -1)\n",
    "C.subs(d3, -1)\n",
    "C.subs(d4, -1)"
   ]
  },
  {
   "cell_type": "markdown",
   "id": "7ccb2119-3126-4c0b-8022-d88dc46dd725",
   "metadata": {
    "jp-MarkdownHeadingCollapsed": true
   },
   "source": [
    "# The projection with respect to 7"
   ]
  },
  {
   "cell_type": "code",
   "execution_count": 16,
   "id": "0e323cef-c0a2-46e2-9a4a-ae5e50771989",
   "metadata": {},
   "outputs": [
    {
     "name": "stdout",
     "output_type": "stream",
     "text": [
      "[[2, 9], [9, 11], [1, 2, 8], [3, 6, 9], [4, 8, 11], [1, 2, 6, 10], [3, 4, 5, 11], [3, 5, 6, 10], [1, 4, 5, 8, 10]]\n"
     ]
    }
   ],
   "source": [
    "print(Link(K, [projectied_vertex]).mnf)"
   ]
  },
  {
   "cell_type": "code",
   "execution_count": 17,
   "id": "f30eb303-c49a-4ce3-8acd-ff8035ccc85e",
   "metadata": {},
   "outputs": [
    {
     "name": "stdout",
     "output_type": "stream",
     "text": [
      "[[2, 8], [8, 10], [1, 2, 7], [3, 6, 8], [4, 7, 10], [1, 2, 6, 9], [3, 4, 5, 10], [3, 5, 6, 9], [1, 4, 5, 7, 9]]\n"
     ]
    }
   ],
   "source": [
    "print(Simplicial_Complex(json.loads(read_file('programs\\\\fanlikes')[link_index])).mnf)"
   ]
  },
  {
   "cell_type": "code",
   "execution_count": 18,
   "id": "df140542-cdf9-4552-9612-b989fd3da923",
   "metadata": {},
   "outputs": [
    {
     "name": "stdout",
     "output_type": "stream",
     "text": [
      "[[2, 8], [8, 10], [1, 2, 7], [3, 6, 8], [4, 7, 10], [1, 2, 6, 9], [3, 4, 5, 10], [3, 5, 6, 9], [1, 4, 5, 7, 9]]\n"
     ]
    },
    {
     "data": {
      "text/plain": [
       "True"
      ]
     },
     "execution_count": 18,
     "metadata": {},
     "output_type": "execute_result"
    }
   ],
   "source": [
    "L=[] # making the vertices of the link consecutive\n",
    "for l in Link(K, [projectied_vertex]).cpx:\n",
    "    L.append([])\n",
    "    for v in l:\n",
    "        if v>projectied_vertex:\n",
    "            L[-1].append(v-1)\n",
    "        else:\n",
    "            L[-1].append(v)\n",
    "print(Simplicial_Complex(L).mnf)\n",
    "L==json.loads(read_file('programs\\\\fanlikes')[link_index])"
   ]
  },
  {
   "cell_type": "code",
   "execution_count": 19,
   "id": "819b93af-0d9f-4aa9-912b-371f2dda7836",
   "metadata": {},
   "outputs": [
    {
     "data": {
      "text/latex": [
       "$\\displaystyle \\left[\\begin{matrix}1 & 0 & 0 & 0 & 0 & 0 & -1 & b_{0} & c_{0} & d_{0}\\\\0 & 1 & 0 & 0 & 0 & 0 & -1 & b_{1} & c_{1} & d_{1}\\\\0 & 0 & 1 & 0 & 0 & 0 & a_{2} & b_{2} & c_{2} & -1\\\\0 & 0 & 0 & 1 & 0 & 0 & a_{3} & b_{3} & c_{3} & -1\\\\0 & 0 & 0 & 0 & 1 & 0 & a_{4} & b_{4} & c_{4} & -1\\\\0 & 0 & 0 & 0 & 0 & 1 & a_{5} & b_{5} & -1 & d_{5}\\end{matrix}\\right]$"
      ],
      "text/plain": [
       "Matrix([\n",
       "[1, 0, 0, 0, 0, 0, -1, b0, c0, d0],\n",
       "[0, 1, 0, 0, 0, 0, -1, b1, c1, d1],\n",
       "[0, 0, 1, 0, 0, 0, a2, b2, c2, -1],\n",
       "[0, 0, 0, 1, 0, 0, a3, b3, c3, -1],\n",
       "[0, 0, 0, 0, 1, 0, a4, b4, c4, -1],\n",
       "[0, 0, 0, 0, 0, 1, a5, b5, -1, d5]])"
      ]
     },
     "metadata": {},
     "output_type": "display_data"
    }
   ],
   "source": [
    "display(C.proj([projectied_vertex]))"
   ]
  },
  {
   "cell_type": "markdown",
   "id": "dbcfd1c6-d2b6-4db0-81c1-f5fb1408a298",
   "metadata": {
    "jp-MarkdownHeadingCollapsed": true
   },
   "source": [
    "# The projection has 5 types of fans up to D-J equivalence"
   ]
  },
  {
   "cell_type": "code",
   "execution_count": 20,
   "id": "ed179421-0afe-4afc-b868-2c1c3dbe28e5",
   "metadata": {},
   "outputs": [],
   "source": [
    "import pickle\n",
    "with open('programs\\\\pickle_files\\\\%d_up_to_DJ.p'%(link_index), 'rb') as f:\n",
    "    fans_link = pickle.load(f)"
   ]
  },
  {
   "cell_type": "code",
   "execution_count": 21,
   "id": "934c9089-0a81-48c2-b920-150496633535",
   "metadata": {},
   "outputs": [
    {
     "data": {
      "text/latex": [
       "$\\displaystyle \\left[\\begin{matrix}1 & 0 & 0 & 0 & 0 & 0 & -1 & -1 & -1 & d_{0}\\\\0 & 1 & 0 & 0 & 0 & 0 & -1 & -2 & -1 & d_{1}\\\\0 & 0 & 1 & 0 & 0 & 0 & 1 & 1 & 0 & -1\\\\0 & 0 & 0 & 1 & 0 & 0 & 0 & 1 & 0 & -1\\\\0 & 0 & 0 & 0 & 1 & 0 & 1 & 2 & 0 & -1\\\\0 & 0 & 0 & 0 & 0 & 1 & 0 & -1 & -1 & d_{5}\\end{matrix}\\right]$"
      ],
      "text/plain": [
       "Matrix([\n",
       "[1, 0, 0, 0, 0, 0, -1, -1, -1, d0],\n",
       "[0, 1, 0, 0, 0, 0, -1, -2, -1, d1],\n",
       "[0, 0, 1, 0, 0, 0,  1,  1,  0, -1],\n",
       "[0, 0, 0, 1, 0, 0,  0,  1,  0, -1],\n",
       "[0, 0, 0, 0, 1, 0,  1,  2,  0, -1],\n",
       "[0, 0, 0, 0, 0, 1,  0, -1, -1, d5]])"
      ]
     },
     "metadata": {},
     "output_type": "display_data"
    },
    {
     "data": {
      "text/latex": [
       "$\\displaystyle \\left[\\begin{matrix}1 & 0 & 0 & 0 & 0 & 0 & -1 & d_{0} - 1 & d_{0} - 1 & d_{0}\\\\0 & 1 & 0 & 0 & 0 & 0 & -1 & d_{1} - 2 & d_{1} - 1 & d_{1}\\\\0 & 0 & 1 & 0 & 0 & 0 & 0 & -1 & -1 & -1\\\\0 & 0 & 0 & 1 & 0 & 0 & 0 & 1 & 0 & -1\\\\0 & 0 & 0 & 0 & 1 & 0 & 0 & 0 & -1 & -1\\\\0 & 0 & 0 & 0 & 0 & 1 & 0 & -1 & -1 & 0\\end{matrix}\\right]$"
      ],
      "text/plain": [
       "Matrix([\n",
       "[1, 0, 0, 0, 0, 0, -1, d0 - 1, d0 - 1, d0],\n",
       "[0, 1, 0, 0, 0, 0, -1, d1 - 2, d1 - 1, d1],\n",
       "[0, 0, 1, 0, 0, 0,  0,     -1,     -1, -1],\n",
       "[0, 0, 0, 1, 0, 0,  0,      1,      0, -1],\n",
       "[0, 0, 0, 0, 1, 0,  0,      0,     -1, -1],\n",
       "[0, 0, 0, 0, 0, 1,  0,     -1,     -1,  0]])"
      ]
     },
     "metadata": {},
     "output_type": "display_data"
    },
    {
     "data": {
      "text/latex": [
       "$\\displaystyle \\left[\\begin{matrix}1 & 0 & 0 & 0 & 0 & 0 & -1 & - c_{2} - 1 & - c_{2} - 1 & 1\\\\0 & 1 & 0 & 0 & 0 & 0 & -1 & - c_{2} - 2 & - c_{2} - 1 & 1\\\\0 & 0 & 1 & 0 & 0 & 0 & 1 & c_{2} + 1 & c_{2} & -1\\\\0 & 0 & 0 & 1 & 0 & 0 & 0 & c_{3} + 1 & c_{3} & -1\\\\0 & 0 & 0 & 0 & 1 & 0 & 1 & c_{2} + 2 & c_{2} & -1\\\\0 & 0 & 0 & 0 & 0 & 1 & 0 & -1 & -1 & 0\\end{matrix}\\right]$"
      ],
      "text/plain": [
       "Matrix([\n",
       "[1, 0, 0, 0, 0, 0, -1, -c2 - 1, -c2 - 1,  1],\n",
       "[0, 1, 0, 0, 0, 0, -1, -c2 - 2, -c2 - 1,  1],\n",
       "[0, 0, 1, 0, 0, 0,  1,  c2 + 1,      c2, -1],\n",
       "[0, 0, 0, 1, 0, 0,  0,  c3 + 1,      c3, -1],\n",
       "[0, 0, 0, 0, 1, 0,  1,  c2 + 2,      c2, -1],\n",
       "[0, 0, 0, 0, 0, 1,  0,      -1,      -1,  0]])"
      ]
     },
     "metadata": {},
     "output_type": "display_data"
    },
    {
     "data": {
      "text/latex": [
       "$\\displaystyle \\left[\\begin{matrix}1 & 0 & 0 & 0 & 0 & 0 & -1 & -1 & -1 & 0\\\\0 & 1 & 0 & 0 & 0 & 0 & -1 & -2 & -1 & 0\\\\0 & 0 & 1 & 0 & 0 & 0 & c_{2} + 1 & 2 c_{2} + 1 & c_{2} & -1\\\\0 & 0 & 0 & 1 & 0 & 0 & c_{3} & 2 c_{3} + 1 & c_{3} & -1\\\\0 & 0 & 0 & 0 & 1 & 0 & c_{4} + 1 & 2 c_{4} + 2 & c_{4} & -1\\\\0 & 0 & 0 & 0 & 0 & 1 & 0 & -1 & -1 & 0\\end{matrix}\\right]$"
      ],
      "text/plain": [
       "Matrix([\n",
       "[1, 0, 0, 0, 0, 0,     -1,       -1, -1,  0],\n",
       "[0, 1, 0, 0, 0, 0,     -1,       -2, -1,  0],\n",
       "[0, 0, 1, 0, 0, 0, c2 + 1, 2*c2 + 1, c2, -1],\n",
       "[0, 0, 0, 1, 0, 0,     c3, 2*c3 + 1, c3, -1],\n",
       "[0, 0, 0, 0, 1, 0, c4 + 1, 2*c4 + 2, c4, -1],\n",
       "[0, 0, 0, 0, 0, 1,      0,       -1, -1,  0]])"
      ]
     },
     "metadata": {},
     "output_type": "display_data"
    },
    {
     "data": {
      "text/latex": [
       "$\\displaystyle \\left[\\begin{matrix}1 & 0 & 0 & 0 & 0 & 0 & -1 & 0 & 0 & 1\\\\0 & 1 & 0 & 0 & 0 & 0 & -1 & -1 & 0 & 1\\\\0 & 0 & 1 & 0 & 0 & 0 & a_{2} & a_{2} - 1 & -1 & -1\\\\0 & 0 & 0 & 1 & 0 & 0 & 0 & 1 & 0 & -1\\\\0 & 0 & 0 & 0 & 1 & 0 & a_{4} & a_{4} & -1 & -1\\\\0 & 0 & 0 & 0 & 0 & 1 & a_{5} & a_{5} - 1 & -1 & 0\\end{matrix}\\right]$"
      ],
      "text/plain": [
       "Matrix([\n",
       "[1, 0, 0, 0, 0, 0, -1,      0,  0,  1],\n",
       "[0, 1, 0, 0, 0, 0, -1,     -1,  0,  1],\n",
       "[0, 0, 1, 0, 0, 0, a2, a2 - 1, -1, -1],\n",
       "[0, 0, 0, 1, 0, 0,  0,      1,  0, -1],\n",
       "[0, 0, 0, 0, 1, 0, a4,     a4, -1, -1],\n",
       "[0, 0, 0, 0, 0, 1, a5, a5 - 1, -1,  0]])"
      ]
     },
     "metadata": {},
     "output_type": "display_data"
    }
   ],
   "source": [
    "for f in fans_link:\n",
    "    display(f)"
   ]
  },
  {
   "cell_type": "markdown",
   "id": "ff605ab7-f715-404f-810b-92bbab3fc765",
   "metadata": {
    "jp-MarkdownHeadingCollapsed": true
   },
   "source": [
    "# Type 0 of the projection"
   ]
  },
  {
   "cell_type": "code",
   "execution_count": 24,
   "id": "aa377bcd-fa7a-48f6-92c4-ac15a279853d",
   "metadata": {},
   "outputs": [
    {
     "data": {
      "text/latex": [
       "$\\displaystyle \\left[\\begin{matrix}1 & 0 & 0 & 0 & 0 & 0 & -1 & b_{0} & c_{0} & d_{0}\\\\0 & 1 & 0 & 0 & 0 & 0 & -1 & b_{1} & c_{1} & d_{1}\\\\0 & 0 & 1 & 0 & 0 & 0 & a_{2} & b_{2} & c_{2} & -1\\\\0 & 0 & 0 & 1 & 0 & 0 & a_{3} & b_{3} & c_{3} & -1\\\\0 & 0 & 0 & 0 & 1 & 0 & a_{4} & b_{4} & c_{4} & -1\\\\0 & 0 & 0 & 0 & 0 & 1 & a_{5} & b_{5} & -1 & d_{5}\\end{matrix}\\right] = \\left[\\begin{matrix}1 & 0 & 0 & 0 & 0 & 0 & -1 & -1 & -1 & d_{0}\\\\0 & 1 & 0 & 0 & 0 & 0 & -1 & -2 & -1 & d_{1}\\\\0 & 0 & 1 & 0 & 0 & 0 & 1 & 1 & 0 & -1\\\\0 & 0 & 0 & 1 & 0 & 0 & 0 & 1 & 0 & -1\\\\0 & 0 & 0 & 0 & 1 & 0 & 1 & 2 & 0 & -1\\\\0 & 0 & 0 & 0 & 0 & 1 & 0 & -1 & -1 & d_{5}\\end{matrix}\\right]$"
      ],
      "text/plain": [
       "Eq(Matrix([\n",
       "[1, 0, 0, 0, 0, 0, -1, b0, c0, d0],\n",
       "[0, 1, 0, 0, 0, 0, -1, b1, c1, d1],\n",
       "[0, 0, 1, 0, 0, 0, a2, b2, c2, -1],\n",
       "[0, 0, 0, 1, 0, 0, a3, b3, c3, -1],\n",
       "[0, 0, 0, 0, 1, 0, a4, b4, c4, -1],\n",
       "[0, 0, 0, 0, 0, 1, a5, b5, -1, d5]]), Matrix([\n",
       "[1, 0, 0, 0, 0, 0, -1, -1, -1, d0],\n",
       "[0, 1, 0, 0, 0, 0, -1, -2, -1, d1],\n",
       "[0, 0, 1, 0, 0, 0,  1,  1,  0, -1],\n",
       "[0, 0, 0, 1, 0, 0,  0,  1,  0, -1],\n",
       "[0, 0, 0, 0, 1, 0,  1,  2,  0, -1],\n",
       "[0, 0, 0, 0, 0, 1,  0, -1, -1, d5]]))"
      ]
     },
     "metadata": {},
     "output_type": "display_data"
    }
   ],
   "source": [
    "C1 = copy.deepcopy(C0)\n",
    "C = C1\n",
    "t=0\n",
    "\n",
    "proj = C.proj([projectied_vertex])\n",
    "with sp.evaluate(False):\n",
    "    display(sp.Eq(proj, fans_link[t]))"
   ]
  },
  {
   "cell_type": "code",
   "execution_count": 25,
   "id": "41ea0310-b5cf-41e4-bb0a-cfb79222eb08",
   "metadata": {},
   "outputs": [
    {
     "data": {
      "text/latex": [
       "$\\displaystyle \\text{True}$"
      ],
      "text/plain": [
       "True"
      ]
     },
     "metadata": {},
     "output_type": "display_data"
    }
   ],
   "source": [
    "C.subs(a2, 1)\n",
    "C.subs(a3, 0)\n",
    "C.subs(a4, 1)\n",
    "C.subs(a5, 0)\n",
    "C.subs(b0, -1)\n",
    "C.subs(b1, -2)\n",
    "C.subs(b2, 1)\n",
    "C.subs(b3, 1)\n",
    "C.subs(b4, 2)\n",
    "C.subs(b5, -1)\n",
    "C.subs(c0, -1)\n",
    "C.subs(c1, -1)\n",
    "C.subs(c2, 0)\n",
    "C.subs(c3, 0)\n",
    "C.subs(c4, 0)\n",
    "\n",
    "display(sp.Eq(C.proj([projectied_vertex]), fans_link[t]))"
   ]
  },
  {
   "cell_type": "code",
   "execution_count": 26,
   "id": "4019583a-9beb-4672-8c92-223ddea7e7e6",
   "metadata": {},
   "outputs": [
    {
     "name": "stdout",
     "output_type": "stream",
     "text": [
      "facet number: 6\n"
     ]
    },
    {
     "data": {
      "text/latex": [
       "$\\displaystyle 1 - d_{6} = 1$"
      ],
      "text/plain": [
       "Eq(1 - d6, 1)"
      ]
     },
     "metadata": {},
     "output_type": "display_data"
    }
   ],
   "source": [
    "i=6\n",
    "print('facet number:', i)\n",
    "display(sp.Eq(C.determinants[i], C.orientation[i]))\n",
    "\n",
    "C.subs(d6, 0)"
   ]
  },
  {
   "cell_type": "code",
   "execution_count": 27,
   "id": "0793d293-2dca-4c7f-adac-68414613faff",
   "metadata": {},
   "outputs": [
    {
     "name": "stdout",
     "output_type": "stream",
     "text": [
      "facet number: 4\n"
     ]
    },
    {
     "data": {
      "text/latex": [
       "$\\displaystyle b_{6} - c_{6} = -1$"
      ],
      "text/plain": [
       "Eq(b6 - c6, -1)"
      ]
     },
     "metadata": {},
     "output_type": "display_data"
    }
   ],
   "source": [
    "i=4\n",
    "print('facet number:', i)\n",
    "display(sp.Eq(C.determinants[i], C.orientation[i]))\n",
    "\n",
    "C.subs(b6, c6-1)"
   ]
  },
  {
   "cell_type": "code",
   "execution_count": 28,
   "id": "9fb150fb-3f46-4913-bea3-80e89aad034b",
   "metadata": {},
   "outputs": [
    {
     "name": "stdout",
     "output_type": "stream",
     "text": [
      "facet number: 9\n"
     ]
    },
    {
     "data": {
      "text/latex": [
       "$\\displaystyle - c_{6} d_{5} + 1 = 1$"
      ],
      "text/plain": [
       "Eq(-c6*d5 + 1, 1)"
      ]
     },
     "metadata": {},
     "output_type": "display_data"
    }
   ],
   "source": [
    "i=9\n",
    "print('facet number:', i)\n",
    "display(sp.Eq(C.determinants[i], C.orientation[i]))"
   ]
  },
  {
   "cell_type": "markdown",
   "id": "d03a423f-f31d-40f0-a495-4d3991ad8c63",
   "metadata": {
    "jp-MarkdownHeadingCollapsed": true
   },
   "source": [
    "## $c_6=0$"
   ]
  },
  {
   "cell_type": "code",
   "execution_count": 29,
   "id": "dff8702d-e506-4952-b671-e83341b4c262",
   "metadata": {},
   "outputs": [],
   "source": [
    "C2 = copy.deepcopy(C1)\n",
    "C = C2\n",
    "C.subs(c6, 0)"
   ]
  },
  {
   "cell_type": "code",
   "execution_count": 31,
   "id": "ecc8158f-8ed6-427f-b50c-c9cf7241bef3",
   "metadata": {},
   "outputs": [
    {
     "data": {
      "text/latex": [
       "$\\displaystyle \\left[\\begin{array}{ccccccccccc}1 & 0 & 0 & 0 & 0 & 0 & 0 & -1 & -1 & -1 & d_{0}\\\\0 & 1 & 0 & 0 & 0 & 0 & 0 & -1 & -2 & -1 & d_{1}\\\\0 & 0 & 1 & 0 & 0 & 0 & 0 & 1 & 1 & 0 & -1\\\\0 & 0 & 0 & 1 & 0 & 0 & 0 & 0 & 1 & 0 & -1\\\\0 & 0 & 0 & 0 & 1 & 0 & 0 & 1 & 2 & 0 & -1\\\\0 & 0 & 0 & 0 & 0 & 1 & 0 & 0 & -1 & -1 & d_{5}\\\\0 & 0 & 0 & 0 & 0 & 0 & 1 & -1 & -1 & 0 & 0\\end{array}\\right]$"
      ],
      "text/plain": [
       "Matrix([\n",
       "[1, 0, 0, 0, 0, 0, 0, -1, -1, -1, d0],\n",
       "[0, 1, 0, 0, 0, 0, 0, -1, -2, -1, d1],\n",
       "[0, 0, 1, 0, 0, 0, 0,  1,  1,  0, -1],\n",
       "[0, 0, 0, 1, 0, 0, 0,  0,  1,  0, -1],\n",
       "[0, 0, 0, 0, 1, 0, 0,  1,  2,  0, -1],\n",
       "[0, 0, 0, 0, 0, 1, 0,  0, -1, -1, d5],\n",
       "[0, 0, 0, 0, 0, 0, 1, -1, -1,  0,  0]])"
      ]
     },
     "metadata": {},
     "output_type": "display_data"
    },
    {
     "name": "stdout",
     "output_type": "stream",
     "text": [
      "1\n"
     ]
    }
   ],
   "source": [
    "display(C.char)\n",
    "print(C.is_fangiving)\n",
    "fans.append(C.char)"
   ]
  },
  {
   "cell_type": "markdown",
   "id": "bdb3d162-edca-4e6c-92d7-00d62290a767",
   "metadata": {
    "jp-MarkdownHeadingCollapsed": true
   },
   "source": [
    "## $d_5=0$ ($c_6 \\not= 0$)"
   ]
  },
  {
   "cell_type": "code",
   "execution_count": 32,
   "id": "1096f111-225b-4e8c-b4c5-3e9a1bd633d9",
   "metadata": {},
   "outputs": [],
   "source": [
    "C2 = copy.deepcopy(C1)\n",
    "C = C2\n",
    "C.subs(d5, 0)"
   ]
  },
  {
   "cell_type": "code",
   "execution_count": 33,
   "id": "4ae16e31-3901-4ff4-969c-69d7e1f95a91",
   "metadata": {},
   "outputs": [
    {
     "name": "stdout",
     "output_type": "stream",
     "text": [
      "facet number: 27\n"
     ]
    },
    {
     "data": {
      "text/latex": [
       "$\\displaystyle c_{6} d_{1} - c_{6} - 1 = -1$"
      ],
      "text/plain": [
       "Eq(c6*d1 - c6 - 1, -1)"
      ]
     },
     "metadata": {},
     "output_type": "display_data"
    }
   ],
   "source": [
    "i=27\n",
    "print('facet number:', i)\n",
    "display(sp.Eq(C.determinants[i], C.orientation[i]))\n",
    "\n",
    "C.subs(d1, 1)"
   ]
  },
  {
   "cell_type": "code",
   "execution_count": 34,
   "id": "fff0986c-145a-4019-a32c-ea9308d9206c",
   "metadata": {},
   "outputs": [
    {
     "name": "stdout",
     "output_type": "stream",
     "text": [
      "facet number: 48\n"
     ]
    },
    {
     "data": {
      "text/latex": [
       "$\\displaystyle - c_{6} d_{0} + c_{6} + 1 = 1$"
      ],
      "text/plain": [
       "Eq(-c6*d0 + c6 + 1, 1)"
      ]
     },
     "metadata": {},
     "output_type": "display_data"
    }
   ],
   "source": [
    "i=48\n",
    "print('facet number:', i)\n",
    "display(sp.Eq(C.determinants[i], C.orientation[i]))\n",
    "\n",
    "C.subs(d0, 1)"
   ]
  },
  {
   "cell_type": "code",
   "execution_count": 36,
   "id": "399d8b29-620b-442d-834f-c880bbdf5528",
   "metadata": {},
   "outputs": [
    {
     "data": {
      "text/latex": [
       "$\\displaystyle \\left[\\begin{array}{ccccccccccc}1 & 0 & 0 & 0 & 0 & 0 & 0 & -1 & -1 & -1 & 1\\\\0 & 1 & 0 & 0 & 0 & 0 & 0 & -1 & -2 & -1 & 1\\\\0 & 0 & 1 & 0 & 0 & 0 & 0 & 1 & 1 & 0 & -1\\\\0 & 0 & 0 & 1 & 0 & 0 & 0 & 0 & 1 & 0 & -1\\\\0 & 0 & 0 & 0 & 1 & 0 & 0 & 1 & 2 & 0 & -1\\\\0 & 0 & 0 & 0 & 0 & 1 & 0 & 0 & -1 & -1 & 0\\\\0 & 0 & 0 & 0 & 0 & 0 & 1 & -1 & c_{6} - 1 & c_{6} & 0\\end{array}\\right]$"
      ],
      "text/plain": [
       "Matrix([\n",
       "[1, 0, 0, 0, 0, 0, 0, -1,     -1, -1,  1],\n",
       "[0, 1, 0, 0, 0, 0, 0, -1,     -2, -1,  1],\n",
       "[0, 0, 1, 0, 0, 0, 0,  1,      1,  0, -1],\n",
       "[0, 0, 0, 1, 0, 0, 0,  0,      1,  0, -1],\n",
       "[0, 0, 0, 0, 1, 0, 0,  1,      2,  0, -1],\n",
       "[0, 0, 0, 0, 0, 1, 0,  0,     -1, -1,  0],\n",
       "[0, 0, 0, 0, 0, 0, 1, -1, c6 - 1, c6,  0]])"
      ]
     },
     "metadata": {},
     "output_type": "display_data"
    },
    {
     "name": "stdout",
     "output_type": "stream",
     "text": [
      "1\n"
     ]
    }
   ],
   "source": [
    "display(C.char)\n",
    "print(C.is_fangiving)\n",
    "fans.append(C.char)"
   ]
  },
  {
   "cell_type": "markdown",
   "id": "a7d16530-a1e4-4d26-8520-a6500c55086a",
   "metadata": {
    "jp-MarkdownHeadingCollapsed": true
   },
   "source": [
    "# Type 1 of the projection"
   ]
  },
  {
   "cell_type": "code",
   "execution_count": 40,
   "id": "fe961236-6c80-4a69-9c7c-3233152f28f2",
   "metadata": {},
   "outputs": [
    {
     "data": {
      "text/latex": [
       "$\\displaystyle \\left[\\begin{matrix}1 & 0 & 0 & 0 & 0 & 0 & -1 & b_{0} & c_{0} & d_{0}\\\\0 & 1 & 0 & 0 & 0 & 0 & -1 & b_{1} & c_{1} & d_{1}\\\\0 & 0 & 1 & 0 & 0 & 0 & a_{2} & b_{2} & c_{2} & -1\\\\0 & 0 & 0 & 1 & 0 & 0 & a_{3} & b_{3} & c_{3} & -1\\\\0 & 0 & 0 & 0 & 1 & 0 & a_{4} & b_{4} & c_{4} & -1\\\\0 & 0 & 0 & 0 & 0 & 1 & a_{5} & b_{5} & -1 & d_{5}\\end{matrix}\\right] = \\left[\\begin{matrix}1 & 0 & 0 & 0 & 0 & 0 & -1 & d_{0} - 1 & d_{0} - 1 & d_{0}\\\\0 & 1 & 0 & 0 & 0 & 0 & -1 & d_{1} - 2 & d_{1} - 1 & d_{1}\\\\0 & 0 & 1 & 0 & 0 & 0 & 0 & -1 & -1 & -1\\\\0 & 0 & 0 & 1 & 0 & 0 & 0 & 1 & 0 & -1\\\\0 & 0 & 0 & 0 & 1 & 0 & 0 & 0 & -1 & -1\\\\0 & 0 & 0 & 0 & 0 & 1 & 0 & -1 & -1 & 0\\end{matrix}\\right]$"
      ],
      "text/plain": [
       "Eq(Matrix([\n",
       "[1, 0, 0, 0, 0, 0, -1, b0, c0, d0],\n",
       "[0, 1, 0, 0, 0, 0, -1, b1, c1, d1],\n",
       "[0, 0, 1, 0, 0, 0, a2, b2, c2, -1],\n",
       "[0, 0, 0, 1, 0, 0, a3, b3, c3, -1],\n",
       "[0, 0, 0, 0, 1, 0, a4, b4, c4, -1],\n",
       "[0, 0, 0, 0, 0, 1, a5, b5, -1, d5]]), Matrix([\n",
       "[1, 0, 0, 0, 0, 0, -1, d0 - 1, d0 - 1, d0],\n",
       "[0, 1, 0, 0, 0, 0, -1, d1 - 2, d1 - 1, d1],\n",
       "[0, 0, 1, 0, 0, 0,  0,     -1,     -1, -1],\n",
       "[0, 0, 0, 1, 0, 0,  0,      1,      0, -1],\n",
       "[0, 0, 0, 0, 1, 0,  0,      0,     -1, -1],\n",
       "[0, 0, 0, 0, 0, 1,  0,     -1,     -1,  0]]))"
      ]
     },
     "metadata": {},
     "output_type": "display_data"
    }
   ],
   "source": [
    "C1 = copy.deepcopy(C0)\n",
    "C = C1\n",
    "t=1\n",
    "\n",
    "proj = C.proj([projectied_vertex])\n",
    "with sp.evaluate(False):\n",
    "    display(sp.Eq(proj, fans_link[t]))"
   ]
  },
  {
   "cell_type": "code",
   "execution_count": 41,
   "id": "928d494e-7a62-4568-97c0-631c577dec7f",
   "metadata": {},
   "outputs": [
    {
     "data": {
      "text/latex": [
       "$\\displaystyle \\text{True}$"
      ],
      "text/plain": [
       "True"
      ]
     },
     "metadata": {},
     "output_type": "display_data"
    }
   ],
   "source": [
    "C.subs(a2, 0)\n",
    "C.subs(a3, 0)\n",
    "C.subs(a4, 0)\n",
    "C.subs(a5, 0)\n",
    "C.subs(b0, d0-1)\n",
    "C.subs(b1, d1-2)\n",
    "C.subs(b2, -1)\n",
    "C.subs(b3, 1)\n",
    "C.subs(b4, 0)\n",
    "C.subs(b5, -1)\n",
    "C.subs(c0, d0-1)\n",
    "C.subs(c1, d1-1)\n",
    "C.subs(c2, -1)\n",
    "C.subs(c3, 0)\n",
    "C.subs(c4, -1)\n",
    "C.subs(d5, 0)\n",
    "\n",
    "display(sp.Eq(C.proj([projectied_vertex]), fans_link[t]))"
   ]
  },
  {
   "cell_type": "code",
   "execution_count": 42,
   "id": "6bc70476-43f2-448a-803a-4906a9ed882a",
   "metadata": {},
   "outputs": [
    {
     "name": "stdout",
     "output_type": "stream",
     "text": [
      "facet number: 4\n"
     ]
    },
    {
     "data": {
      "text/latex": [
       "$\\displaystyle b_{6} - c_{6} = -1$"
      ],
      "text/plain": [
       "Eq(b6 - c6, -1)"
      ]
     },
     "metadata": {},
     "output_type": "display_data"
    }
   ],
   "source": [
    "i=4\n",
    "print('facet number:', i)\n",
    "display(sp.Eq(C.determinants[i], C.orientation[i]))\n",
    "\n",
    "C.subs(b6, c6-1)"
   ]
  },
  {
   "cell_type": "code",
   "execution_count": 43,
   "id": "52f4f3c3-9b4c-44d9-8ac2-6bc671841c9b",
   "metadata": {},
   "outputs": [
    {
     "name": "stdout",
     "output_type": "stream",
     "text": [
      "facet number: 27\n"
     ]
    },
    {
     "data": {
      "text/latex": [
       "$\\displaystyle - c_{6} + d_{6} - 1 = -1$"
      ],
      "text/plain": [
       "Eq(-c6 + d6 - 1, -1)"
      ]
     },
     "metadata": {},
     "output_type": "display_data"
    }
   ],
   "source": [
    "i=27\n",
    "print('facet number:', i)\n",
    "display(sp.Eq(C.determinants[i], C.orientation[i]))\n",
    "\n",
    "C.subs(c6, d6)"
   ]
  },
  {
   "cell_type": "code",
   "execution_count": 45,
   "id": "8d35344f-1599-44f0-a8fe-576935be4abd",
   "metadata": {},
   "outputs": [
    {
     "data": {
      "text/latex": [
       "$\\displaystyle \\left[\\begin{array}{ccccccccccc}1 & 0 & 0 & 0 & 0 & 0 & 0 & -1 & d_{0} - 1 & d_{0} - 1 & d_{0}\\\\0 & 1 & 0 & 0 & 0 & 0 & 0 & -1 & d_{1} - 2 & d_{1} - 1 & d_{1}\\\\0 & 0 & 1 & 0 & 0 & 0 & 0 & 0 & -1 & -1 & -1\\\\0 & 0 & 0 & 1 & 0 & 0 & 0 & 0 & 1 & 0 & -1\\\\0 & 0 & 0 & 0 & 1 & 0 & 0 & 0 & 0 & -1 & -1\\\\0 & 0 & 0 & 0 & 0 & 1 & 0 & 0 & -1 & -1 & 0\\\\0 & 0 & 0 & 0 & 0 & 0 & 1 & -1 & d_{6} - 1 & d_{6} & d_{6}\\end{array}\\right]$"
      ],
      "text/plain": [
       "Matrix([\n",
       "[1, 0, 0, 0, 0, 0, 0, -1, d0 - 1, d0 - 1, d0],\n",
       "[0, 1, 0, 0, 0, 0, 0, -1, d1 - 2, d1 - 1, d1],\n",
       "[0, 0, 1, 0, 0, 0, 0,  0,     -1,     -1, -1],\n",
       "[0, 0, 0, 1, 0, 0, 0,  0,      1,      0, -1],\n",
       "[0, 0, 0, 0, 1, 0, 0,  0,      0,     -1, -1],\n",
       "[0, 0, 0, 0, 0, 1, 0,  0,     -1,     -1,  0],\n",
       "[0, 0, 0, 0, 0, 0, 1, -1, d6 - 1,     d6, d6]])"
      ]
     },
     "metadata": {},
     "output_type": "display_data"
    },
    {
     "name": "stdout",
     "output_type": "stream",
     "text": [
      "1\n"
     ]
    }
   ],
   "source": [
    "display(C.char)\n",
    "print(C.is_fangiving)\n",
    "fans.append(C.char)"
   ]
  },
  {
   "cell_type": "markdown",
   "id": "869f5253-4188-4f1e-aa2c-e119083ed1f1",
   "metadata": {
    "jp-MarkdownHeadingCollapsed": true
   },
   "source": [
    "# Type 2 of the projection"
   ]
  },
  {
   "cell_type": "code",
   "execution_count": 47,
   "id": "81b9bb5b-3021-432f-9a90-8cf18d41424e",
   "metadata": {},
   "outputs": [
    {
     "data": {
      "text/latex": [
       "$\\displaystyle \\left[\\begin{matrix}1 & 0 & 0 & 0 & 0 & 0 & -1 & b_{0} & c_{0} & d_{0}\\\\0 & 1 & 0 & 0 & 0 & 0 & -1 & b_{1} & c_{1} & d_{1}\\\\0 & 0 & 1 & 0 & 0 & 0 & a_{2} & b_{2} & c_{2} & -1\\\\0 & 0 & 0 & 1 & 0 & 0 & a_{3} & b_{3} & c_{3} & -1\\\\0 & 0 & 0 & 0 & 1 & 0 & a_{4} & b_{4} & c_{4} & -1\\\\0 & 0 & 0 & 0 & 0 & 1 & a_{5} & b_{5} & -1 & d_{5}\\end{matrix}\\right] = \\left[\\begin{matrix}1 & 0 & 0 & 0 & 0 & 0 & -1 & - c_{2} - 1 & - c_{2} - 1 & 1\\\\0 & 1 & 0 & 0 & 0 & 0 & -1 & - c_{2} - 2 & - c_{2} - 1 & 1\\\\0 & 0 & 1 & 0 & 0 & 0 & 1 & c_{2} + 1 & c_{2} & -1\\\\0 & 0 & 0 & 1 & 0 & 0 & 0 & c_{3} + 1 & c_{3} & -1\\\\0 & 0 & 0 & 0 & 1 & 0 & 1 & c_{2} + 2 & c_{2} & -1\\\\0 & 0 & 0 & 0 & 0 & 1 & 0 & -1 & -1 & 0\\end{matrix}\\right]$"
      ],
      "text/plain": [
       "Eq(Matrix([\n",
       "[1, 0, 0, 0, 0, 0, -1, b0, c0, d0],\n",
       "[0, 1, 0, 0, 0, 0, -1, b1, c1, d1],\n",
       "[0, 0, 1, 0, 0, 0, a2, b2, c2, -1],\n",
       "[0, 0, 0, 1, 0, 0, a3, b3, c3, -1],\n",
       "[0, 0, 0, 0, 1, 0, a4, b4, c4, -1],\n",
       "[0, 0, 0, 0, 0, 1, a5, b5, -1, d5]]), Matrix([\n",
       "[1, 0, 0, 0, 0, 0, -1, -c2 - 1, -c2 - 1,  1],\n",
       "[0, 1, 0, 0, 0, 0, -1, -c2 - 2, -c2 - 1,  1],\n",
       "[0, 0, 1, 0, 0, 0,  1,  c2 + 1,      c2, -1],\n",
       "[0, 0, 0, 1, 0, 0,  0,  c3 + 1,      c3, -1],\n",
       "[0, 0, 0, 0, 1, 0,  1,  c2 + 2,      c2, -1],\n",
       "[0, 0, 0, 0, 0, 1,  0,      -1,      -1,  0]]))"
      ]
     },
     "metadata": {},
     "output_type": "display_data"
    }
   ],
   "source": [
    "C1 = copy.deepcopy(C0)\n",
    "C = C1\n",
    "t=2\n",
    "\n",
    "proj = C.proj([projectied_vertex])\n",
    "with sp.evaluate(False):\n",
    "    display(sp.Eq(proj, fans_link[t]))"
   ]
  },
  {
   "cell_type": "code",
   "execution_count": 48,
   "id": "2cc0e0db-a3ae-449f-be24-d3f6d4a68d4b",
   "metadata": {},
   "outputs": [
    {
     "data": {
      "text/latex": [
       "$\\displaystyle \\text{True}$"
      ],
      "text/plain": [
       "True"
      ]
     },
     "metadata": {},
     "output_type": "display_data"
    }
   ],
   "source": [
    "C.subs(a2, 1)\n",
    "C.subs(a3, 0)\n",
    "C.subs(a4, 1)\n",
    "C.subs(a5, 0)\n",
    "C.subs(b0, -c2-1)\n",
    "C.subs(b1, -c2-2)\n",
    "C.subs(b2, c2+1)\n",
    "C.subs(b3, c3+1)\n",
    "C.subs(b4, c2+2)\n",
    "C.subs(b5, -1)\n",
    "C.subs(c0, -c2-1)\n",
    "C.subs(c1, -c2-1)\n",
    "C.subs(c4, c2)\n",
    "C.subs(d0, 1)\n",
    "C.subs(d1, 1)\n",
    "C.subs(d5, 0)\n",
    "\n",
    "display(sp.Eq(C.proj([projectied_vertex]), fans_link[t]))"
   ]
  },
  {
   "cell_type": "code",
   "execution_count": 49,
   "id": "ea487863-d266-488d-a39f-c7997450891c",
   "metadata": {},
   "outputs": [
    {
     "name": "stdout",
     "output_type": "stream",
     "text": [
      "facet number: 6\n"
     ]
    },
    {
     "data": {
      "text/latex": [
       "$\\displaystyle 1 - d_{6} = 1$"
      ],
      "text/plain": [
       "Eq(1 - d6, 1)"
      ]
     },
     "metadata": {},
     "output_type": "display_data"
    }
   ],
   "source": [
    "i=6\n",
    "print('facet number:', i)\n",
    "display(sp.Eq(C.determinants[i], C.orientation[i]))\n",
    "\n",
    "C.subs(d6, 0)"
   ]
  },
  {
   "cell_type": "code",
   "execution_count": 50,
   "id": "d2663e25-415f-4ef9-a093-f0d5b2184404",
   "metadata": {},
   "outputs": [
    {
     "name": "stdout",
     "output_type": "stream",
     "text": [
      "facet number: 4\n"
     ]
    },
    {
     "data": {
      "text/latex": [
       "$\\displaystyle b_{6} - c_{6} = -1$"
      ],
      "text/plain": [
       "Eq(b6 - c6, -1)"
      ]
     },
     "metadata": {},
     "output_type": "display_data"
    }
   ],
   "source": [
    "i=4\n",
    "print('facet number:', i)\n",
    "display(sp.Eq(C.determinants[i], C.orientation[i]))\n",
    "\n",
    "C.subs(b6, c6-1)"
   ]
  },
  {
   "cell_type": "code",
   "execution_count": 52,
   "id": "3807964c-6cad-42b6-8c41-08ba43e91a64",
   "metadata": {},
   "outputs": [
    {
     "data": {
      "text/latex": [
       "$\\displaystyle \\left[\\begin{array}{ccccccccccc}1 & 0 & 0 & 0 & 0 & 0 & 0 & -1 & - c_{2} - 1 & - c_{2} - 1 & 1\\\\0 & 1 & 0 & 0 & 0 & 0 & 0 & -1 & - c_{2} - 2 & - c_{2} - 1 & 1\\\\0 & 0 & 1 & 0 & 0 & 0 & 0 & 1 & c_{2} + 1 & c_{2} & -1\\\\0 & 0 & 0 & 1 & 0 & 0 & 0 & 0 & c_{3} + 1 & c_{3} & -1\\\\0 & 0 & 0 & 0 & 1 & 0 & 0 & 1 & c_{2} + 2 & c_{2} & -1\\\\0 & 0 & 0 & 0 & 0 & 1 & 0 & 0 & -1 & -1 & 0\\\\0 & 0 & 0 & 0 & 0 & 0 & 1 & -1 & c_{6} - 1 & c_{6} & 0\\end{array}\\right]$"
      ],
      "text/plain": [
       "Matrix([\n",
       "[1, 0, 0, 0, 0, 0, 0, -1, -c2 - 1, -c2 - 1,  1],\n",
       "[0, 1, 0, 0, 0, 0, 0, -1, -c2 - 2, -c2 - 1,  1],\n",
       "[0, 0, 1, 0, 0, 0, 0,  1,  c2 + 1,      c2, -1],\n",
       "[0, 0, 0, 1, 0, 0, 0,  0,  c3 + 1,      c3, -1],\n",
       "[0, 0, 0, 0, 1, 0, 0,  1,  c2 + 2,      c2, -1],\n",
       "[0, 0, 0, 0, 0, 1, 0,  0,      -1,      -1,  0],\n",
       "[0, 0, 0, 0, 0, 0, 1, -1,  c6 - 1,      c6,  0]])"
      ]
     },
     "metadata": {},
     "output_type": "display_data"
    },
    {
     "name": "stdout",
     "output_type": "stream",
     "text": [
      "1\n"
     ]
    }
   ],
   "source": [
    "display(C.char)\n",
    "print(C.is_fangiving)\n",
    "fans.append(C.char)"
   ]
  },
  {
   "cell_type": "markdown",
   "id": "f157ad45-0ad0-4178-895f-62f20e0e597a",
   "metadata": {
    "jp-MarkdownHeadingCollapsed": true
   },
   "source": [
    "# Type 3 of the projection"
   ]
  },
  {
   "cell_type": "code",
   "execution_count": 53,
   "id": "47954903-6c06-4003-9d5d-f7696a041b2c",
   "metadata": {},
   "outputs": [
    {
     "data": {
      "text/latex": [
       "$\\displaystyle \\left[\\begin{matrix}1 & 0 & 0 & 0 & 0 & 0 & -1 & b_{0} & c_{0} & d_{0}\\\\0 & 1 & 0 & 0 & 0 & 0 & -1 & b_{1} & c_{1} & d_{1}\\\\0 & 0 & 1 & 0 & 0 & 0 & a_{2} & b_{2} & c_{2} & -1\\\\0 & 0 & 0 & 1 & 0 & 0 & a_{3} & b_{3} & c_{3} & -1\\\\0 & 0 & 0 & 0 & 1 & 0 & a_{4} & b_{4} & c_{4} & -1\\\\0 & 0 & 0 & 0 & 0 & 1 & a_{5} & b_{5} & -1 & d_{5}\\end{matrix}\\right] = \\left[\\begin{matrix}1 & 0 & 0 & 0 & 0 & 0 & -1 & -1 & -1 & 0\\\\0 & 1 & 0 & 0 & 0 & 0 & -1 & -2 & -1 & 0\\\\0 & 0 & 1 & 0 & 0 & 0 & c_{2} + 1 & 2 c_{2} + 1 & c_{2} & -1\\\\0 & 0 & 0 & 1 & 0 & 0 & c_{3} & 2 c_{3} + 1 & c_{3} & -1\\\\0 & 0 & 0 & 0 & 1 & 0 & c_{4} + 1 & 2 c_{4} + 2 & c_{4} & -1\\\\0 & 0 & 0 & 0 & 0 & 1 & 0 & -1 & -1 & 0\\end{matrix}\\right]$"
      ],
      "text/plain": [
       "Eq(Matrix([\n",
       "[1, 0, 0, 0, 0, 0, -1, b0, c0, d0],\n",
       "[0, 1, 0, 0, 0, 0, -1, b1, c1, d1],\n",
       "[0, 0, 1, 0, 0, 0, a2, b2, c2, -1],\n",
       "[0, 0, 0, 1, 0, 0, a3, b3, c3, -1],\n",
       "[0, 0, 0, 0, 1, 0, a4, b4, c4, -1],\n",
       "[0, 0, 0, 0, 0, 1, a5, b5, -1, d5]]), Matrix([\n",
       "[1, 0, 0, 0, 0, 0,     -1,       -1, -1,  0],\n",
       "[0, 1, 0, 0, 0, 0,     -1,       -2, -1,  0],\n",
       "[0, 0, 1, 0, 0, 0, c2 + 1, 2*c2 + 1, c2, -1],\n",
       "[0, 0, 0, 1, 0, 0,     c3, 2*c3 + 1, c3, -1],\n",
       "[0, 0, 0, 0, 1, 0, c4 + 1, 2*c4 + 2, c4, -1],\n",
       "[0, 0, 0, 0, 0, 1,      0,       -1, -1,  0]]))"
      ]
     },
     "metadata": {},
     "output_type": "display_data"
    }
   ],
   "source": [
    "C1 = copy.deepcopy(C0)\n",
    "C = C1\n",
    "t=3\n",
    "\n",
    "proj = C.proj([projectied_vertex])\n",
    "with sp.evaluate(False):\n",
    "    display(sp.Eq(proj, fans_link[t]))"
   ]
  },
  {
   "cell_type": "code",
   "execution_count": 54,
   "id": "edb0a8dc-3b61-496f-884c-7da2060b9b66",
   "metadata": {},
   "outputs": [
    {
     "data": {
      "text/latex": [
       "$\\displaystyle \\text{True}$"
      ],
      "text/plain": [
       "True"
      ]
     },
     "metadata": {},
     "output_type": "display_data"
    }
   ],
   "source": [
    "C.subs(a2, c2+1)\n",
    "C.subs(a3, c3)\n",
    "C.subs(a4, c4+1)\n",
    "C.subs(a5, 0)\n",
    "C.subs(b0, -1)\n",
    "C.subs(b1, -2)\n",
    "C.subs(b2, 2*c2+1)\n",
    "C.subs(b3, 2*c3+1)\n",
    "C.subs(b4, 2*c4+2)\n",
    "C.subs(b5, -1)\n",
    "C.subs(c0, -1)\n",
    "C.subs(c1, -1)\n",
    "C.subs(d0, 0)\n",
    "C.subs(d1, 0)\n",
    "C.subs(d5, 0)\n",
    "\n",
    "display(sp.Eq(C.proj([projectied_vertex]), fans_link[t]))"
   ]
  },
  {
   "cell_type": "code",
   "execution_count": 55,
   "id": "cd49a829-8096-4365-aa05-80e66870d8c6",
   "metadata": {},
   "outputs": [
    {
     "name": "stdout",
     "output_type": "stream",
     "text": [
      "facet number: 4\n"
     ]
    },
    {
     "data": {
      "text/latex": [
       "$\\displaystyle b_{6} - c_{6} = -1$"
      ],
      "text/plain": [
       "Eq(b6 - c6, -1)"
      ]
     },
     "metadata": {},
     "output_type": "display_data"
    }
   ],
   "source": [
    "i=4\n",
    "print('facet number:', i)\n",
    "display(sp.Eq(C.determinants[i], C.orientation[i]))\n",
    "\n",
    "C.subs(b6, c6-1)"
   ]
  },
  {
   "cell_type": "code",
   "execution_count": 56,
   "id": "334cc9bf-0d1c-4faf-bf0b-ce58aa8918b7",
   "metadata": {},
   "outputs": [
    {
     "name": "stdout",
     "output_type": "stream",
     "text": [
      "facet number: 27\n"
     ]
    },
    {
     "data": {
      "text/latex": [
       "$\\displaystyle - c_{6} + d_{6} - 1 = -1$"
      ],
      "text/plain": [
       "Eq(-c6 + d6 - 1, -1)"
      ]
     },
     "metadata": {},
     "output_type": "display_data"
    }
   ],
   "source": [
    "i=27\n",
    "print('facet number:', i)\n",
    "display(sp.Eq(C.determinants[i], C.orientation[i]))\n",
    "\n",
    "C.subs(d6, c6)"
   ]
  },
  {
   "cell_type": "code",
   "execution_count": 61,
   "id": "28dd569f-fae9-4e8a-a81e-15189ae15bf2",
   "metadata": {},
   "outputs": [
    {
     "name": "stdout",
     "output_type": "stream",
     "text": [
      "facet number: 16\n"
     ]
    },
    {
     "data": {
      "text/latex": [
       "$\\displaystyle - c_{2} c_{6} - c_{6} + 1 = 1$"
      ],
      "text/plain": [
       "Eq(-c2*c6 - c6 + 1, 1)"
      ]
     },
     "metadata": {},
     "output_type": "display_data"
    },
    {
     "name": "stdout",
     "output_type": "stream",
     "text": [
      "facet number: 11\n"
     ]
    },
    {
     "data": {
      "text/latex": [
       "$\\displaystyle c_{3} c_{6} - 1 = -1$"
      ],
      "text/plain": [
       "Eq(c3*c6 - 1, -1)"
      ]
     },
     "metadata": {},
     "output_type": "display_data"
    },
    {
     "name": "stdout",
     "output_type": "stream",
     "text": [
      "facet number: 6\n"
     ]
    },
    {
     "data": {
      "text/latex": [
       "$\\displaystyle - c_{4} c_{6} - c_{6} + 1 = 1$"
      ],
      "text/plain": [
       "Eq(-c4*c6 - c6 + 1, 1)"
      ]
     },
     "metadata": {},
     "output_type": "display_data"
    },
    {
     "name": "stdout",
     "output_type": "stream",
     "text": [
      "c6!=0 => c2=-1, c3=0, c4=-1 => type 1\n"
     ]
    }
   ],
   "source": [
    "i=16\n",
    "print('facet number:', i)\n",
    "display(sp.Eq(C.determinants[i], C.orientation[i]))\n",
    "\n",
    "i=11\n",
    "print('facet number:', i)\n",
    "display(sp.Eq(C.determinants[i], C.orientation[i]))\n",
    "\n",
    "i=6\n",
    "print('facet number:', i)\n",
    "display(sp.Eq(C.determinants[i], C.orientation[i]))\n",
    "\n",
    "print('c6!=0 => c2=-1, c3=0, c4=-1 => type 1')\n",
    "\n",
    "C.subs(c6, 0)"
   ]
  },
  {
   "cell_type": "code",
   "execution_count": 63,
   "id": "941ed4b7-5681-48e8-9e79-5ca12f007bda",
   "metadata": {},
   "outputs": [
    {
     "data": {
      "text/latex": [
       "$\\displaystyle \\left[\\begin{array}{ccccccccccc}1 & 0 & 0 & 0 & 0 & 0 & 0 & -1 & -1 & -1 & 0\\\\0 & 1 & 0 & 0 & 0 & 0 & 0 & -1 & -2 & -1 & 0\\\\0 & 0 & 1 & 0 & 0 & 0 & 0 & c_{2} + 1 & 2 c_{2} + 1 & c_{2} & -1\\\\0 & 0 & 0 & 1 & 0 & 0 & 0 & c_{3} & 2 c_{3} + 1 & c_{3} & -1\\\\0 & 0 & 0 & 0 & 1 & 0 & 0 & c_{4} + 1 & 2 c_{4} + 2 & c_{4} & -1\\\\0 & 0 & 0 & 0 & 0 & 1 & 0 & 0 & -1 & -1 & 0\\\\0 & 0 & 0 & 0 & 0 & 0 & 1 & -1 & -1 & 0 & 0\\end{array}\\right]$"
      ],
      "text/plain": [
       "Matrix([\n",
       "[1, 0, 0, 0, 0, 0, 0,     -1,       -1, -1,  0],\n",
       "[0, 1, 0, 0, 0, 0, 0,     -1,       -2, -1,  0],\n",
       "[0, 0, 1, 0, 0, 0, 0, c2 + 1, 2*c2 + 1, c2, -1],\n",
       "[0, 0, 0, 1, 0, 0, 0,     c3, 2*c3 + 1, c3, -1],\n",
       "[0, 0, 0, 0, 1, 0, 0, c4 + 1, 2*c4 + 2, c4, -1],\n",
       "[0, 0, 0, 0, 0, 1, 0,      0,       -1, -1,  0],\n",
       "[0, 0, 0, 0, 0, 0, 1,     -1,       -1,  0,  0]])"
      ]
     },
     "metadata": {},
     "output_type": "display_data"
    },
    {
     "name": "stdout",
     "output_type": "stream",
     "text": [
      "1\n"
     ]
    }
   ],
   "source": [
    "display(C.char)\n",
    "print(C.is_fangiving)\n",
    "fans.append(C.char)"
   ]
  },
  {
   "cell_type": "markdown",
   "id": "8ab52fdb-bc4c-4dda-b92f-0a47dd32949d",
   "metadata": {
    "jp-MarkdownHeadingCollapsed": true
   },
   "source": [
    "# Type 4 of the projection"
   ]
  },
  {
   "cell_type": "code",
   "execution_count": 64,
   "id": "e5fe9134-df6a-4757-9aca-11bec84d13eb",
   "metadata": {},
   "outputs": [
    {
     "data": {
      "text/latex": [
       "$\\displaystyle \\left[\\begin{matrix}1 & 0 & 0 & 0 & 0 & 0 & -1 & b_{0} & c_{0} & d_{0}\\\\0 & 1 & 0 & 0 & 0 & 0 & -1 & b_{1} & c_{1} & d_{1}\\\\0 & 0 & 1 & 0 & 0 & 0 & a_{2} & b_{2} & c_{2} & -1\\\\0 & 0 & 0 & 1 & 0 & 0 & a_{3} & b_{3} & c_{3} & -1\\\\0 & 0 & 0 & 0 & 1 & 0 & a_{4} & b_{4} & c_{4} & -1\\\\0 & 0 & 0 & 0 & 0 & 1 & a_{5} & b_{5} & -1 & d_{5}\\end{matrix}\\right] = \\left[\\begin{matrix}1 & 0 & 0 & 0 & 0 & 0 & -1 & 0 & 0 & 1\\\\0 & 1 & 0 & 0 & 0 & 0 & -1 & -1 & 0 & 1\\\\0 & 0 & 1 & 0 & 0 & 0 & a_{2} & a_{2} - 1 & -1 & -1\\\\0 & 0 & 0 & 1 & 0 & 0 & 0 & 1 & 0 & -1\\\\0 & 0 & 0 & 0 & 1 & 0 & a_{4} & a_{4} & -1 & -1\\\\0 & 0 & 0 & 0 & 0 & 1 & a_{5} & a_{5} - 1 & -1 & 0\\end{matrix}\\right]$"
      ],
      "text/plain": [
       "Eq(Matrix([\n",
       "[1, 0, 0, 0, 0, 0, -1, b0, c0, d0],\n",
       "[0, 1, 0, 0, 0, 0, -1, b1, c1, d1],\n",
       "[0, 0, 1, 0, 0, 0, a2, b2, c2, -1],\n",
       "[0, 0, 0, 1, 0, 0, a3, b3, c3, -1],\n",
       "[0, 0, 0, 0, 1, 0, a4, b4, c4, -1],\n",
       "[0, 0, 0, 0, 0, 1, a5, b5, -1, d5]]), Matrix([\n",
       "[1, 0, 0, 0, 0, 0, -1,      0,  0,  1],\n",
       "[0, 1, 0, 0, 0, 0, -1,     -1,  0,  1],\n",
       "[0, 0, 1, 0, 0, 0, a2, a2 - 1, -1, -1],\n",
       "[0, 0, 0, 1, 0, 0,  0,      1,  0, -1],\n",
       "[0, 0, 0, 0, 1, 0, a4,     a4, -1, -1],\n",
       "[0, 0, 0, 0, 0, 1, a5, a5 - 1, -1,  0]]))"
      ]
     },
     "metadata": {},
     "output_type": "display_data"
    }
   ],
   "source": [
    "C1 = copy.deepcopy(C0)\n",
    "C = C1\n",
    "t=4\n",
    "\n",
    "proj = C.proj([projectied_vertex])\n",
    "with sp.evaluate(False):\n",
    "    display(sp.Eq(proj, fans_link[t]))"
   ]
  },
  {
   "cell_type": "code",
   "execution_count": 65,
   "id": "a84426b1-694d-4e3d-ab4b-3fb3a3ac890e",
   "metadata": {},
   "outputs": [
    {
     "data": {
      "text/latex": [
       "$\\displaystyle \\text{True}$"
      ],
      "text/plain": [
       "True"
      ]
     },
     "metadata": {},
     "output_type": "display_data"
    }
   ],
   "source": [
    "C.subs(a3, 0)\n",
    "C.subs(b0, 0)\n",
    "C.subs(b1, -1)\n",
    "C.subs(b2, a2-1)\n",
    "C.subs(b3, 1)\n",
    "C.subs(b4, a4)\n",
    "C.subs(b5, a5-1)\n",
    "C.subs(c0, 0)\n",
    "C.subs(c1, 0)\n",
    "C.subs(c2, -1)\n",
    "C.subs(c3, 0)\n",
    "C.subs(c4, -1)\n",
    "C.subs(d0, 1)\n",
    "C.subs(d1, 1)\n",
    "C.subs(d5, 0)\n",
    "\n",
    "display(sp.Eq(C.proj([projectied_vertex]), fans_link[t]))"
   ]
  },
  {
   "cell_type": "code",
   "execution_count": 66,
   "id": "50692365-6f6c-4a2f-a785-488122b3b354",
   "metadata": {},
   "outputs": [
    {
     "name": "stdout",
     "output_type": "stream",
     "text": [
      "facet number: 13\n"
     ]
    },
    {
     "data": {
      "text/latex": [
       "$\\displaystyle a_{5} c_{6} - 1 = -1$"
      ],
      "text/plain": [
       "Eq(a5*c6 - 1, -1)"
      ]
     },
     "metadata": {},
     "output_type": "display_data"
    }
   ],
   "source": [
    "i=13\n",
    "print('facet number:', i)\n",
    "display(sp.Eq(C.determinants[i], C.orientation[i]))"
   ]
  },
  {
   "cell_type": "markdown",
   "id": "2921108a-5bfb-4f7c-a0ac-26d2b2e6a2e4",
   "metadata": {
    "jp-MarkdownHeadingCollapsed": true
   },
   "source": [
    "## $c_6=0$"
   ]
  },
  {
   "cell_type": "code",
   "execution_count": 71,
   "id": "32378cbe-fb28-4fba-aea5-d3614baff49e",
   "metadata": {},
   "outputs": [],
   "source": [
    "C2 = copy.deepcopy(C1)\n",
    "C = C2\n",
    "C.subs(c6, 0)"
   ]
  },
  {
   "cell_type": "code",
   "execution_count": 72,
   "id": "8ae6c8fc-e152-405a-bce0-0b79a40be5b9",
   "metadata": {},
   "outputs": [
    {
     "name": "stdout",
     "output_type": "stream",
     "text": [
      "facet number: 4\n"
     ]
    },
    {
     "data": {
      "text/latex": [
       "$\\displaystyle b_{6} = -1$"
      ],
      "text/plain": [
       "Eq(b6, -1)"
      ]
     },
     "metadata": {},
     "output_type": "display_data"
    }
   ],
   "source": [
    "i=4\n",
    "print('facet number:', i)\n",
    "display(sp.Eq(C.determinants[i], C.orientation[i]))\n",
    "\n",
    "C.subs(b6, -1)"
   ]
  },
  {
   "cell_type": "code",
   "execution_count": 73,
   "id": "abe3254c-773f-4b12-b558-f30407517c74",
   "metadata": {},
   "outputs": [
    {
     "name": "stdout",
     "output_type": "stream",
     "text": [
      "facet number: 27\n"
     ]
    },
    {
     "data": {
      "text/latex": [
       "$\\displaystyle d_{6} - 1 = -1$"
      ],
      "text/plain": [
       "Eq(d6 - 1, -1)"
      ]
     },
     "metadata": {},
     "output_type": "display_data"
    }
   ],
   "source": [
    "i=27\n",
    "print('facet number:', i)\n",
    "display(sp.Eq(C.determinants[i], C.orientation[i]))\n",
    "\n",
    "C.subs(d6, 0)"
   ]
  },
  {
   "cell_type": "code",
   "execution_count": 75,
   "id": "c85f9c44-a607-4b7a-a569-e5f1dac15a62",
   "metadata": {},
   "outputs": [
    {
     "data": {
      "text/latex": [
       "$\\displaystyle \\left[\\begin{array}{ccccccccccc}1 & 0 & 0 & 0 & 0 & 0 & 0 & -1 & 0 & 0 & 1\\\\0 & 1 & 0 & 0 & 0 & 0 & 0 & -1 & -1 & 0 & 1\\\\0 & 0 & 1 & 0 & 0 & 0 & 0 & a_{2} & a_{2} - 1 & -1 & -1\\\\0 & 0 & 0 & 1 & 0 & 0 & 0 & 0 & 1 & 0 & -1\\\\0 & 0 & 0 & 0 & 1 & 0 & 0 & a_{4} & a_{4} & -1 & -1\\\\0 & 0 & 0 & 0 & 0 & 1 & 0 & a_{5} & a_{5} - 1 & -1 & 0\\\\0 & 0 & 0 & 0 & 0 & 0 & 1 & -1 & -1 & 0 & 0\\end{array}\\right]$"
      ],
      "text/plain": [
       "Matrix([\n",
       "[1, 0, 0, 0, 0, 0, 0, -1,      0,  0,  1],\n",
       "[0, 1, 0, 0, 0, 0, 0, -1,     -1,  0,  1],\n",
       "[0, 0, 1, 0, 0, 0, 0, a2, a2 - 1, -1, -1],\n",
       "[0, 0, 0, 1, 0, 0, 0,  0,      1,  0, -1],\n",
       "[0, 0, 0, 0, 1, 0, 0, a4,     a4, -1, -1],\n",
       "[0, 0, 0, 0, 0, 1, 0, a5, a5 - 1, -1,  0],\n",
       "[0, 0, 0, 0, 0, 0, 1, -1,     -1,  0,  0]])"
      ]
     },
     "metadata": {},
     "output_type": "display_data"
    },
    {
     "name": "stdout",
     "output_type": "stream",
     "text": [
      "1\n"
     ]
    }
   ],
   "source": [
    "display(C.char)\n",
    "print(C.is_fangiving)\n",
    "fans.append(C.char)"
   ]
  },
  {
   "cell_type": "markdown",
   "id": "32f3ecf5-87a3-4450-9a26-e63776fae745",
   "metadata": {
    "jp-MarkdownHeadingCollapsed": true
   },
   "source": [
    "## $a_5=0$ ($c_6 \\not= 0$)"
   ]
  },
  {
   "cell_type": "code",
   "execution_count": 77,
   "id": "7aa5fd82-7cef-4f3d-9964-2e74f7fe810b",
   "metadata": {},
   "outputs": [],
   "source": [
    "C2 = copy.deepcopy(C1)\n",
    "C = C2\n",
    "C.subs(a5, 0)"
   ]
  },
  {
   "cell_type": "code",
   "execution_count": 78,
   "id": "5f67c8e8-47ea-4ca8-a29b-3918ed8c259b",
   "metadata": {},
   "outputs": [
    {
     "name": "stdout",
     "output_type": "stream",
     "text": [
      "facet number: 4\n"
     ]
    },
    {
     "data": {
      "text/latex": [
       "$\\displaystyle b_{6} - c_{6} = -1$"
      ],
      "text/plain": [
       "Eq(b6 - c6, -1)"
      ]
     },
     "metadata": {},
     "output_type": "display_data"
    }
   ],
   "source": [
    "i=4\n",
    "print('facet number:', i)\n",
    "display(sp.Eq(C.determinants[i], C.orientation[i]))\n",
    "\n",
    "C.subs(b6, c6-1)"
   ]
  },
  {
   "cell_type": "code",
   "execution_count": 79,
   "id": "2541d74e-7c92-4658-9d8d-25b296b1f512",
   "metadata": {},
   "outputs": [
    {
     "name": "stdout",
     "output_type": "stream",
     "text": [
      "facet number: 6\n"
     ]
    },
    {
     "data": {
      "text/latex": [
       "$\\displaystyle - a_{4} d_{6} + 1 = 1$"
      ],
      "text/plain": [
       "Eq(-a4*d6 + 1, 1)"
      ]
     },
     "metadata": {},
     "output_type": "display_data"
    }
   ],
   "source": [
    "i=6\n",
    "print('facet number:', i)\n",
    "display(sp.Eq(C.determinants[i], C.orientation[i]))"
   ]
  },
  {
   "cell_type": "markdown",
   "id": "9e04869d-d959-412d-a6bf-b52610d4cbef",
   "metadata": {
    "jp-MarkdownHeadingCollapsed": true
   },
   "source": [
    "### $d_6=0$ ($c_6 \\not= 0$)"
   ]
  },
  {
   "cell_type": "code",
   "execution_count": 88,
   "id": "3568d179-853a-43c8-aa17-b3e1c345a1a5",
   "metadata": {},
   "outputs": [],
   "source": [
    "C3 = copy.deepcopy(C2)\n",
    "C = C3\n",
    "C.subs(d6, 0)"
   ]
  },
  {
   "cell_type": "code",
   "execution_count": 89,
   "id": "7f044a12-eb8a-4ce9-9c10-0b5fcf05357a",
   "metadata": {},
   "outputs": [
    {
     "name": "stdout",
     "output_type": "stream",
     "text": [
      "facet number: 27\n"
     ]
    },
    {
     "data": {
      "text/latex": [
       "$\\displaystyle a_{4} c_{6} - c_{6} - 1 = -1$"
      ],
      "text/plain": [
       "Eq(a4*c6 - c6 - 1, -1)"
      ]
     },
     "metadata": {},
     "output_type": "display_data"
    },
    {
     "name": "stdout",
     "output_type": "stream",
     "text": [
      "facet number: 36\n"
     ]
    },
    {
     "data": {
      "text/latex": [
       "$\\displaystyle a_{2} c_{6} - c_{6} - 1 = -1$"
      ],
      "text/plain": [
       "Eq(a2*c6 - c6 - 1, -1)"
      ]
     },
     "metadata": {},
     "output_type": "display_data"
    },
    {
     "name": "stdout",
     "output_type": "stream",
     "text": [
      "a2=1, a4=1, a5=0 => type 2\n"
     ]
    }
   ],
   "source": [
    "i=27\n",
    "print('facet number:', i)\n",
    "display(sp.Eq(C.determinants[i], C.orientation[i]))\n",
    "\n",
    "i=36\n",
    "print('facet number:', i)\n",
    "display(sp.Eq(C.determinants[i], C.orientation[i]))\n",
    "\n",
    "print('a2=1, a4=1, a5=0 => type 2')"
   ]
  },
  {
   "cell_type": "markdown",
   "id": "d5d66e62-5170-4eeb-87c9-901af66122f9",
   "metadata": {
    "jp-MarkdownHeadingCollapsed": true
   },
   "source": [
    "### $a_4=0$ ($c_6 \\not= 0$, $d_6 \\not= 0$)"
   ]
  },
  {
   "cell_type": "code",
   "execution_count": 91,
   "id": "5000e2f6-a9a6-4bf9-bc51-c798ebb903c3",
   "metadata": {},
   "outputs": [],
   "source": [
    "C3 = copy.deepcopy(C2)\n",
    "C = C3\n",
    "C.subs(a4, 0)"
   ]
  },
  {
   "cell_type": "code",
   "execution_count": 92,
   "id": "73a365bc-e01b-49f1-90fb-5d838c59a80c",
   "metadata": {},
   "outputs": [
    {
     "name": "stdout",
     "output_type": "stream",
     "text": [
      "facet number: 16\n"
     ]
    },
    {
     "data": {
      "text/latex": [
       "$\\displaystyle - a_{2} d_{6} + 1 = 1$"
      ],
      "text/plain": [
       "Eq(-a2*d6 + 1, 1)"
      ]
     },
     "metadata": {},
     "output_type": "display_data"
    },
    {
     "name": "stdout",
     "output_type": "stream",
     "text": [
      "a2=a4=a5=0 => type 1\n"
     ]
    }
   ],
   "source": [
    "i=16\n",
    "print('facet number:', i)\n",
    "display(sp.Eq(C.determinants[i], C.orientation[i]))\n",
    "\n",
    "print('a2=a4=a5=0 => type 1')"
   ]
  },
  {
   "cell_type": "markdown",
   "id": "4f26fee5-c29b-45b7-8b10-90384808406e",
   "metadata": {},
   "source": [
    "# There are 5 types of fans up to D-J equivalence"
   ]
  },
  {
   "cell_type": "markdown",
   "id": "a15f2171-c6f5-4b81-b34a-b136a2025094",
   "metadata": {
    "jp-MarkdownHeadingCollapsed": true
   },
   "source": [
    "## removing redundant ones"
   ]
  },
  {
   "cell_type": "code",
   "execution_count": 105,
   "id": "2febc058-1864-4f1b-8d8d-5ddcc343d413",
   "metadata": {},
   "outputs": [
    {
     "data": {
      "text/latex": [
       "$\\displaystyle \\left[\\begin{array}{ccccccccccc}1 & 0 & 0 & 0 & 0 & 0 & 0 & -1 & -1 & -1 & 1\\\\0 & 1 & 0 & 0 & 0 & 0 & 0 & -1 & -2 & -1 & 1\\\\0 & 0 & 1 & 0 & 0 & 0 & 0 & 1 & 1 & 0 & -1\\\\0 & 0 & 0 & 1 & 0 & 0 & 0 & 0 & 1 & 0 & -1\\\\0 & 0 & 0 & 0 & 1 & 0 & 0 & 1 & 2 & 0 & -1\\\\0 & 0 & 0 & 0 & 0 & 1 & 0 & 0 & -1 & -1 & 0\\\\0 & 0 & 0 & 0 & 0 & 0 & 1 & -1 & c_{6} - 1 & c_{6} & 0\\end{array}\\right]$"
      ],
      "text/plain": [
       "Matrix([\n",
       "[1, 0, 0, 0, 0, 0, 0, -1,     -1, -1,  1],\n",
       "[0, 1, 0, 0, 0, 0, 0, -1,     -2, -1,  1],\n",
       "[0, 0, 1, 0, 0, 0, 0,  1,      1,  0, -1],\n",
       "[0, 0, 0, 1, 0, 0, 0,  0,      1,  0, -1],\n",
       "[0, 0, 0, 0, 1, 0, 0,  1,      2,  0, -1],\n",
       "[0, 0, 0, 0, 0, 1, 0,  0,     -1, -1,  0],\n",
       "[0, 0, 0, 0, 0, 0, 1, -1, c6 - 1, c6,  0]])"
      ]
     },
     "metadata": {},
     "output_type": "display_data"
    },
    {
     "data": {
      "text/latex": [
       "$\\displaystyle \\left[\\begin{array}{ccccccccccc}1 & 0 & 0 & 0 & 0 & 0 & 0 & -1 & - c_{2} - 1 & - c_{2} - 1 & 1\\\\0 & 1 & 0 & 0 & 0 & 0 & 0 & -1 & - c_{2} - 2 & - c_{2} - 1 & 1\\\\0 & 0 & 1 & 0 & 0 & 0 & 0 & 1 & c_{2} + 1 & c_{2} & -1\\\\0 & 0 & 0 & 1 & 0 & 0 & 0 & 0 & c_{3} + 1 & c_{3} & -1\\\\0 & 0 & 0 & 0 & 1 & 0 & 0 & 1 & c_{2} + 2 & c_{2} & -1\\\\0 & 0 & 0 & 0 & 0 & 1 & 0 & 0 & -1 & -1 & 0\\\\0 & 0 & 0 & 0 & 0 & 0 & 1 & -1 & c_{6} - 1 & c_{6} & 0\\end{array}\\right]$"
      ],
      "text/plain": [
       "Matrix([\n",
       "[1, 0, 0, 0, 0, 0, 0, -1, -c2 - 1, -c2 - 1,  1],\n",
       "[0, 1, 0, 0, 0, 0, 0, -1, -c2 - 2, -c2 - 1,  1],\n",
       "[0, 0, 1, 0, 0, 0, 0,  1,  c2 + 1,      c2, -1],\n",
       "[0, 0, 0, 1, 0, 0, 0,  0,  c3 + 1,      c3, -1],\n",
       "[0, 0, 0, 0, 1, 0, 0,  1,  c2 + 2,      c2, -1],\n",
       "[0, 0, 0, 0, 0, 1, 0,  0,      -1,      -1,  0],\n",
       "[0, 0, 0, 0, 0, 0, 1, -1,  c6 - 1,      c6,  0]])"
      ]
     },
     "metadata": {},
     "output_type": "display_data"
    },
    {
     "data": {
      "text/latex": [
       "$\\displaystyle \\text{True}$"
      ],
      "text/plain": [
       "True"
      ]
     },
     "metadata": {},
     "output_type": "display_data"
    }
   ],
   "source": [
    "i, j = 1, 3\n",
    "display(fans[i], fans[j])\n",
    "display(sp.Eq(fans[i],fans[j].subs(c2, 0).subs(c3,0)))\n",
    "fans.remove(fans[i])"
   ]
  },
  {
   "cell_type": "markdown",
   "id": "ad880c11-a2bf-4410-8385-17707aeebec7",
   "metadata": {},
   "source": [
    "## list"
   ]
  },
  {
   "cell_type": "code",
   "execution_count": 116,
   "id": "70a6fda2-396f-4fc1-a2c6-b7b385d8319f",
   "metadata": {},
   "outputs": [
    {
     "data": {
      "text/latex": [
       "$\\displaystyle \\left[\\begin{array}{ccccccccccc}1 & 0 & 0 & 0 & 0 & 0 & 0 & -1 & -1 & -1 & d_{0}\\\\0 & 1 & 0 & 0 & 0 & 0 & 0 & -1 & -2 & -1 & d_{1}\\\\0 & 0 & 1 & 0 & 0 & 0 & 0 & 1 & 1 & 0 & -1\\\\0 & 0 & 0 & 1 & 0 & 0 & 0 & 0 & 1 & 0 & -1\\\\0 & 0 & 0 & 0 & 1 & 0 & 0 & 1 & 2 & 0 & -1\\\\0 & 0 & 0 & 0 & 0 & 1 & 0 & 0 & -1 & -1 & d_{5}\\\\0 & 0 & 0 & 0 & 0 & 0 & 1 & -1 & -1 & 0 & 0\\end{array}\\right]$"
      ],
      "text/plain": [
       "Matrix([\n",
       "[1, 0, 0, 0, 0, 0, 0, -1, -1, -1, d0],\n",
       "[0, 1, 0, 0, 0, 0, 0, -1, -2, -1, d1],\n",
       "[0, 0, 1, 0, 0, 0, 0,  1,  1,  0, -1],\n",
       "[0, 0, 0, 1, 0, 0, 0,  0,  1,  0, -1],\n",
       "[0, 0, 0, 0, 1, 0, 0,  1,  2,  0, -1],\n",
       "[0, 0, 0, 0, 0, 1, 0,  0, -1, -1, d5],\n",
       "[0, 0, 0, 0, 0, 0, 1, -1, -1,  0,  0]])"
      ]
     },
     "metadata": {},
     "output_type": "display_data"
    },
    {
     "data": {
      "text/latex": [
       "$\\displaystyle \\left[\\begin{array}{ccccccccccc}1 & 0 & 0 & 0 & 0 & 0 & 0 & -1 & d_{0} - 1 & d_{0} - 1 & d_{0}\\\\0 & 1 & 0 & 0 & 0 & 0 & 0 & -1 & d_{1} - 2 & d_{1} - 1 & d_{1}\\\\0 & 0 & 1 & 0 & 0 & 0 & 0 & 0 & -1 & -1 & -1\\\\0 & 0 & 0 & 1 & 0 & 0 & 0 & 0 & 1 & 0 & -1\\\\0 & 0 & 0 & 0 & 1 & 0 & 0 & 0 & 0 & -1 & -1\\\\0 & 0 & 0 & 0 & 0 & 1 & 0 & 0 & -1 & -1 & 0\\\\0 & 0 & 0 & 0 & 0 & 0 & 1 & -1 & d_{6} - 1 & d_{6} & d_{6}\\end{array}\\right]$"
      ],
      "text/plain": [
       "Matrix([\n",
       "[1, 0, 0, 0, 0, 0, 0, -1, d0 - 1, d0 - 1, d0],\n",
       "[0, 1, 0, 0, 0, 0, 0, -1, d1 - 2, d1 - 1, d1],\n",
       "[0, 0, 1, 0, 0, 0, 0,  0,     -1,     -1, -1],\n",
       "[0, 0, 0, 1, 0, 0, 0,  0,      1,      0, -1],\n",
       "[0, 0, 0, 0, 1, 0, 0,  0,      0,     -1, -1],\n",
       "[0, 0, 0, 0, 0, 1, 0,  0,     -1,     -1,  0],\n",
       "[0, 0, 0, 0, 0, 0, 1, -1, d6 - 1,     d6, d6]])"
      ]
     },
     "metadata": {},
     "output_type": "display_data"
    },
    {
     "data": {
      "text/latex": [
       "$\\displaystyle \\left[\\begin{array}{ccccccccccc}1 & 0 & 0 & 0 & 0 & 0 & 0 & -1 & - c_{2} - 1 & - c_{2} - 1 & 1\\\\0 & 1 & 0 & 0 & 0 & 0 & 0 & -1 & - c_{2} - 2 & - c_{2} - 1 & 1\\\\0 & 0 & 1 & 0 & 0 & 0 & 0 & 1 & c_{2} + 1 & c_{2} & -1\\\\0 & 0 & 0 & 1 & 0 & 0 & 0 & 0 & c_{3} + 1 & c_{3} & -1\\\\0 & 0 & 0 & 0 & 1 & 0 & 0 & 1 & c_{2} + 2 & c_{2} & -1\\\\0 & 0 & 0 & 0 & 0 & 1 & 0 & 0 & -1 & -1 & 0\\\\0 & 0 & 0 & 0 & 0 & 0 & 1 & -1 & c_{6} - 1 & c_{6} & 0\\end{array}\\right]$"
      ],
      "text/plain": [
       "Matrix([\n",
       "[1, 0, 0, 0, 0, 0, 0, -1, -c2 - 1, -c2 - 1,  1],\n",
       "[0, 1, 0, 0, 0, 0, 0, -1, -c2 - 2, -c2 - 1,  1],\n",
       "[0, 0, 1, 0, 0, 0, 0,  1,  c2 + 1,      c2, -1],\n",
       "[0, 0, 0, 1, 0, 0, 0,  0,  c3 + 1,      c3, -1],\n",
       "[0, 0, 0, 0, 1, 0, 0,  1,  c2 + 2,      c2, -1],\n",
       "[0, 0, 0, 0, 0, 1, 0,  0,      -1,      -1,  0],\n",
       "[0, 0, 0, 0, 0, 0, 1, -1,  c6 - 1,      c6,  0]])"
      ]
     },
     "metadata": {},
     "output_type": "display_data"
    },
    {
     "data": {
      "text/latex": [
       "$\\displaystyle \\left[\\begin{array}{ccccccccccc}1 & 0 & 0 & 0 & 0 & 0 & 0 & -1 & -1 & -1 & 0\\\\0 & 1 & 0 & 0 & 0 & 0 & 0 & -1 & -2 & -1 & 0\\\\0 & 0 & 1 & 0 & 0 & 0 & 0 & c_{2} + 1 & 2 c_{2} + 1 & c_{2} & -1\\\\0 & 0 & 0 & 1 & 0 & 0 & 0 & c_{3} & 2 c_{3} + 1 & c_{3} & -1\\\\0 & 0 & 0 & 0 & 1 & 0 & 0 & c_{4} + 1 & 2 c_{4} + 2 & c_{4} & -1\\\\0 & 0 & 0 & 0 & 0 & 1 & 0 & 0 & -1 & -1 & 0\\\\0 & 0 & 0 & 0 & 0 & 0 & 1 & -1 & -1 & 0 & 0\\end{array}\\right]$"
      ],
      "text/plain": [
       "Matrix([\n",
       "[1, 0, 0, 0, 0, 0, 0,     -1,       -1, -1,  0],\n",
       "[0, 1, 0, 0, 0, 0, 0,     -1,       -2, -1,  0],\n",
       "[0, 0, 1, 0, 0, 0, 0, c2 + 1, 2*c2 + 1, c2, -1],\n",
       "[0, 0, 0, 1, 0, 0, 0,     c3, 2*c3 + 1, c3, -1],\n",
       "[0, 0, 0, 0, 1, 0, 0, c4 + 1, 2*c4 + 2, c4, -1],\n",
       "[0, 0, 0, 0, 0, 1, 0,      0,       -1, -1,  0],\n",
       "[0, 0, 0, 0, 0, 0, 1,     -1,       -1,  0,  0]])"
      ]
     },
     "metadata": {},
     "output_type": "display_data"
    },
    {
     "data": {
      "text/latex": [
       "$\\displaystyle \\left[\\begin{array}{ccccccccccc}1 & 0 & 0 & 0 & 0 & 0 & 0 & -1 & 0 & 0 & 1\\\\0 & 1 & 0 & 0 & 0 & 0 & 0 & -1 & -1 & 0 & 1\\\\0 & 0 & 1 & 0 & 0 & 0 & 0 & a_{2} & a_{2} - 1 & -1 & -1\\\\0 & 0 & 0 & 1 & 0 & 0 & 0 & 0 & 1 & 0 & -1\\\\0 & 0 & 0 & 0 & 1 & 0 & 0 & a_{4} & a_{4} & -1 & -1\\\\0 & 0 & 0 & 0 & 0 & 1 & 0 & a_{5} & a_{5} - 1 & -1 & 0\\\\0 & 0 & 0 & 0 & 0 & 0 & 1 & -1 & -1 & 0 & 0\\end{array}\\right]$"
      ],
      "text/plain": [
       "Matrix([\n",
       "[1, 0, 0, 0, 0, 0, 0, -1,      0,  0,  1],\n",
       "[0, 1, 0, 0, 0, 0, 0, -1,     -1,  0,  1],\n",
       "[0, 0, 1, 0, 0, 0, 0, a2, a2 - 1, -1, -1],\n",
       "[0, 0, 0, 1, 0, 0, 0,  0,      1,  0, -1],\n",
       "[0, 0, 0, 0, 1, 0, 0, a4,     a4, -1, -1],\n",
       "[0, 0, 0, 0, 0, 1, 0, a5, a5 - 1, -1,  0],\n",
       "[0, 0, 0, 0, 0, 0, 1, -1,     -1,  0,  0]])"
      ]
     },
     "metadata": {},
     "output_type": "display_data"
    }
   ],
   "source": [
    "for f in fans:\n",
    "    display(f)"
   ]
  },
  {
   "cell_type": "markdown",
   "id": "4531c34f-35ce-4da2-b3e8-f734d740f065",
   "metadata": {
    "jp-MarkdownHeadingCollapsed": true
   },
   "source": [
    "# Connections between types"
   ]
  },
  {
   "cell_type": "markdown",
   "id": "f6158e70-a423-4b66-bac9-e56d7ebeb946",
   "metadata": {
    "jp-MarkdownHeadingCollapsed": true
   },
   "source": [
    "## fan 0"
   ]
  },
  {
   "cell_type": "markdown",
   "id": "5de7cf27-c85f-4494-b7f2-bbda57dbc715",
   "metadata": {
    "jp-MarkdownHeadingCollapsed": true
   },
   "source": [
    "### fan 2 ($c_2=0$, $c_3=0$, $c_6=0$, $d_0=1$, $d_1=1$, $d_5=0$)"
   ]
  },
  {
   "cell_type": "code",
   "execution_count": 149,
   "id": "68cd13f0-696f-4746-a574-adb72c093b1b",
   "metadata": {},
   "outputs": [
    {
     "data": {
      "text/latex": [
       "$\\displaystyle \\left[\\begin{array}{ccccccccccc}1 & 0 & 0 & 0 & 0 & 0 & 0 & -1 & -1 & -1 & d_{0}\\\\0 & 1 & 0 & 0 & 0 & 0 & 0 & -1 & -2 & -1 & d_{1}\\\\0 & 0 & 1 & 0 & 0 & 0 & 0 & 1 & 1 & 0 & -1\\\\0 & 0 & 0 & 1 & 0 & 0 & 0 & 0 & 1 & 0 & -1\\\\0 & 0 & 0 & 0 & 1 & 0 & 0 & 1 & 2 & 0 & -1\\\\0 & 0 & 0 & 0 & 0 & 1 & 0 & 0 & -1 & -1 & d_{5}\\\\0 & 0 & 0 & 0 & 0 & 0 & 1 & -1 & -1 & 0 & 0\\end{array}\\right]$"
      ],
      "text/plain": [
       "Matrix([\n",
       "[1, 0, 0, 0, 0, 0, 0, -1, -1, -1, d0],\n",
       "[0, 1, 0, 0, 0, 0, 0, -1, -2, -1, d1],\n",
       "[0, 0, 1, 0, 0, 0, 0,  1,  1,  0, -1],\n",
       "[0, 0, 0, 1, 0, 0, 0,  0,  1,  0, -1],\n",
       "[0, 0, 0, 0, 1, 0, 0,  1,  2,  0, -1],\n",
       "[0, 0, 0, 0, 0, 1, 0,  0, -1, -1, d5],\n",
       "[0, 0, 0, 0, 0, 0, 1, -1, -1,  0,  0]])"
      ]
     },
     "metadata": {},
     "output_type": "display_data"
    },
    {
     "data": {
      "text/latex": [
       "$\\displaystyle \\left[\\begin{array}{ccccccccccc}1 & 0 & 0 & 0 & 0 & 0 & 0 & -1 & - c_{2} - 1 & - c_{2} - 1 & 1\\\\0 & 1 & 0 & 0 & 0 & 0 & 0 & -1 & - c_{2} - 2 & - c_{2} - 1 & 1\\\\0 & 0 & 1 & 0 & 0 & 0 & 0 & 1 & c_{2} + 1 & c_{2} & -1\\\\0 & 0 & 0 & 1 & 0 & 0 & 0 & 0 & c_{3} + 1 & c_{3} & -1\\\\0 & 0 & 0 & 0 & 1 & 0 & 0 & 1 & c_{2} + 2 & c_{2} & -1\\\\0 & 0 & 0 & 0 & 0 & 1 & 0 & 0 & -1 & -1 & 0\\\\0 & 0 & 0 & 0 & 0 & 0 & 1 & -1 & c_{6} - 1 & c_{6} & 0\\end{array}\\right]$"
      ],
      "text/plain": [
       "Matrix([\n",
       "[1, 0, 0, 0, 0, 0, 0, -1, -c2 - 1, -c2 - 1,  1],\n",
       "[0, 1, 0, 0, 0, 0, 0, -1, -c2 - 2, -c2 - 1,  1],\n",
       "[0, 0, 1, 0, 0, 0, 0,  1,  c2 + 1,      c2, -1],\n",
       "[0, 0, 0, 1, 0, 0, 0,  0,  c3 + 1,      c3, -1],\n",
       "[0, 0, 0, 0, 1, 0, 0,  1,  c2 + 2,      c2, -1],\n",
       "[0, 0, 0, 0, 0, 1, 0,  0,      -1,      -1,  0],\n",
       "[0, 0, 0, 0, 0, 0, 1, -1,  c6 - 1,      c6,  0]])"
      ]
     },
     "metadata": {},
     "output_type": "display_data"
    },
    {
     "data": {
      "text/latex": [
       "$\\displaystyle \\text{True}$"
      ],
      "text/plain": [
       "True"
      ]
     },
     "metadata": {},
     "output_type": "display_data"
    }
   ],
   "source": [
    "i, j = 0, 2\n",
    "display(fans[i], fans[j])\n",
    "display(sp.Eq(fans[i].subs(d0,1).subs(d1,1).subs(d5,0),fans[j].subs(c2,0).subs(c3,0).subs(c6,0)))"
   ]
  },
  {
   "cell_type": "markdown",
   "id": "f9a89ef7-4e43-43dc-ba11-aa524dfad920",
   "metadata": {
    "jp-MarkdownHeadingCollapsed": true
   },
   "source": [
    "### fan 3 ($c_2=0$, $c_3=0$, $c_4=0$, $d_0=0$, $d_1=0$, $d_5=0$)"
   ]
  },
  {
   "cell_type": "code",
   "execution_count": 151,
   "id": "873fa1f1-ee03-4a4d-b1de-902ceef7f9fb",
   "metadata": {},
   "outputs": [
    {
     "data": {
      "text/latex": [
       "$\\displaystyle \\left[\\begin{array}{ccccccccccc}1 & 0 & 0 & 0 & 0 & 0 & 0 & -1 & -1 & -1 & d_{0}\\\\0 & 1 & 0 & 0 & 0 & 0 & 0 & -1 & -2 & -1 & d_{1}\\\\0 & 0 & 1 & 0 & 0 & 0 & 0 & 1 & 1 & 0 & -1\\\\0 & 0 & 0 & 1 & 0 & 0 & 0 & 0 & 1 & 0 & -1\\\\0 & 0 & 0 & 0 & 1 & 0 & 0 & 1 & 2 & 0 & -1\\\\0 & 0 & 0 & 0 & 0 & 1 & 0 & 0 & -1 & -1 & d_{5}\\\\0 & 0 & 0 & 0 & 0 & 0 & 1 & -1 & -1 & 0 & 0\\end{array}\\right]$"
      ],
      "text/plain": [
       "Matrix([\n",
       "[1, 0, 0, 0, 0, 0, 0, -1, -1, -1, d0],\n",
       "[0, 1, 0, 0, 0, 0, 0, -1, -2, -1, d1],\n",
       "[0, 0, 1, 0, 0, 0, 0,  1,  1,  0, -1],\n",
       "[0, 0, 0, 1, 0, 0, 0,  0,  1,  0, -1],\n",
       "[0, 0, 0, 0, 1, 0, 0,  1,  2,  0, -1],\n",
       "[0, 0, 0, 0, 0, 1, 0,  0, -1, -1, d5],\n",
       "[0, 0, 0, 0, 0, 0, 1, -1, -1,  0,  0]])"
      ]
     },
     "metadata": {},
     "output_type": "display_data"
    },
    {
     "data": {
      "text/latex": [
       "$\\displaystyle \\left[\\begin{array}{ccccccccccc}1 & 0 & 0 & 0 & 0 & 0 & 0 & -1 & -1 & -1 & 0\\\\0 & 1 & 0 & 0 & 0 & 0 & 0 & -1 & -2 & -1 & 0\\\\0 & 0 & 1 & 0 & 0 & 0 & 0 & c_{2} + 1 & 2 c_{2} + 1 & c_{2} & -1\\\\0 & 0 & 0 & 1 & 0 & 0 & 0 & c_{3} & 2 c_{3} + 1 & c_{3} & -1\\\\0 & 0 & 0 & 0 & 1 & 0 & 0 & c_{4} + 1 & 2 c_{4} + 2 & c_{4} & -1\\\\0 & 0 & 0 & 0 & 0 & 1 & 0 & 0 & -1 & -1 & 0\\\\0 & 0 & 0 & 0 & 0 & 0 & 1 & -1 & -1 & 0 & 0\\end{array}\\right]$"
      ],
      "text/plain": [
       "Matrix([\n",
       "[1, 0, 0, 0, 0, 0, 0,     -1,       -1, -1,  0],\n",
       "[0, 1, 0, 0, 0, 0, 0,     -1,       -2, -1,  0],\n",
       "[0, 0, 1, 0, 0, 0, 0, c2 + 1, 2*c2 + 1, c2, -1],\n",
       "[0, 0, 0, 1, 0, 0, 0,     c3, 2*c3 + 1, c3, -1],\n",
       "[0, 0, 0, 0, 1, 0, 0, c4 + 1, 2*c4 + 2, c4, -1],\n",
       "[0, 0, 0, 0, 0, 1, 0,      0,       -1, -1,  0],\n",
       "[0, 0, 0, 0, 0, 0, 1,     -1,       -1,  0,  0]])"
      ]
     },
     "metadata": {},
     "output_type": "display_data"
    },
    {
     "data": {
      "text/latex": [
       "$\\displaystyle \\text{True}$"
      ],
      "text/plain": [
       "True"
      ]
     },
     "metadata": {},
     "output_type": "display_data"
    }
   ],
   "source": [
    "i, j = 0, 3\n",
    "display(fans[i], fans[j])\n",
    "display(sp.Eq(fans[i].subs(d0,0).subs(d1,0).subs(d5,0),fans[j].subs(c2, 0).subs(c3,0).subs(c4,0)))"
   ]
  },
  {
   "cell_type": "markdown",
   "id": "e7512130-44fd-4a78-ac56-a09e6defb666",
   "metadata": {
    "jp-MarkdownHeadingCollapsed": true
   },
   "source": [
    "## fan 1"
   ]
  },
  {
   "cell_type": "markdown",
   "id": "1009810b-e4d0-443e-8ec9-fcc4a6237d89",
   "metadata": {
    "jp-MarkdownHeadingCollapsed": true
   },
   "source": [
    "### fan 3 ($c_2=-1$, $c_3=0$, $c_4=-1$, $d_0=0$, $d_1=0$, $d_6=0$)"
   ]
  },
  {
   "cell_type": "code",
   "execution_count": 155,
   "id": "848bedc7-b706-4a92-bf8a-c38d07788f61",
   "metadata": {},
   "outputs": [
    {
     "data": {
      "text/latex": [
       "$\\displaystyle \\left[\\begin{array}{ccccccccccc}1 & 0 & 0 & 0 & 0 & 0 & 0 & -1 & d_{0} - 1 & d_{0} - 1 & d_{0}\\\\0 & 1 & 0 & 0 & 0 & 0 & 0 & -1 & d_{1} - 2 & d_{1} - 1 & d_{1}\\\\0 & 0 & 1 & 0 & 0 & 0 & 0 & 0 & -1 & -1 & -1\\\\0 & 0 & 0 & 1 & 0 & 0 & 0 & 0 & 1 & 0 & -1\\\\0 & 0 & 0 & 0 & 1 & 0 & 0 & 0 & 0 & -1 & -1\\\\0 & 0 & 0 & 0 & 0 & 1 & 0 & 0 & -1 & -1 & 0\\\\0 & 0 & 0 & 0 & 0 & 0 & 1 & -1 & d_{6} - 1 & d_{6} & d_{6}\\end{array}\\right]$"
      ],
      "text/plain": [
       "Matrix([\n",
       "[1, 0, 0, 0, 0, 0, 0, -1, d0 - 1, d0 - 1, d0],\n",
       "[0, 1, 0, 0, 0, 0, 0, -1, d1 - 2, d1 - 1, d1],\n",
       "[0, 0, 1, 0, 0, 0, 0,  0,     -1,     -1, -1],\n",
       "[0, 0, 0, 1, 0, 0, 0,  0,      1,      0, -1],\n",
       "[0, 0, 0, 0, 1, 0, 0,  0,      0,     -1, -1],\n",
       "[0, 0, 0, 0, 0, 1, 0,  0,     -1,     -1,  0],\n",
       "[0, 0, 0, 0, 0, 0, 1, -1, d6 - 1,     d6, d6]])"
      ]
     },
     "metadata": {},
     "output_type": "display_data"
    },
    {
     "data": {
      "text/latex": [
       "$\\displaystyle \\left[\\begin{array}{ccccccccccc}1 & 0 & 0 & 0 & 0 & 0 & 0 & -1 & -1 & -1 & 0\\\\0 & 1 & 0 & 0 & 0 & 0 & 0 & -1 & -2 & -1 & 0\\\\0 & 0 & 1 & 0 & 0 & 0 & 0 & c_{2} + 1 & 2 c_{2} + 1 & c_{2} & -1\\\\0 & 0 & 0 & 1 & 0 & 0 & 0 & c_{3} & 2 c_{3} + 1 & c_{3} & -1\\\\0 & 0 & 0 & 0 & 1 & 0 & 0 & c_{4} + 1 & 2 c_{4} + 2 & c_{4} & -1\\\\0 & 0 & 0 & 0 & 0 & 1 & 0 & 0 & -1 & -1 & 0\\\\0 & 0 & 0 & 0 & 0 & 0 & 1 & -1 & -1 & 0 & 0\\end{array}\\right]$"
      ],
      "text/plain": [
       "Matrix([\n",
       "[1, 0, 0, 0, 0, 0, 0,     -1,       -1, -1,  0],\n",
       "[0, 1, 0, 0, 0, 0, 0,     -1,       -2, -1,  0],\n",
       "[0, 0, 1, 0, 0, 0, 0, c2 + 1, 2*c2 + 1, c2, -1],\n",
       "[0, 0, 0, 1, 0, 0, 0,     c3, 2*c3 + 1, c3, -1],\n",
       "[0, 0, 0, 0, 1, 0, 0, c4 + 1, 2*c4 + 2, c4, -1],\n",
       "[0, 0, 0, 0, 0, 1, 0,      0,       -1, -1,  0],\n",
       "[0, 0, 0, 0, 0, 0, 1,     -1,       -1,  0,  0]])"
      ]
     },
     "metadata": {},
     "output_type": "display_data"
    },
    {
     "data": {
      "text/latex": [
       "$\\displaystyle \\text{True}$"
      ],
      "text/plain": [
       "True"
      ]
     },
     "metadata": {},
     "output_type": "display_data"
    }
   ],
   "source": [
    "i, j = 1, 3\n",
    "display(fans[i], fans[j])\n",
    "display(sp.Eq(fans[i].subs(d0,0).subs(d1,0).subs(d6,0),fans[j].subs(c2, -1).subs(c3,0).subs(c4,-1)))"
   ]
  },
  {
   "cell_type": "markdown",
   "id": "dfa84513-a9e5-4b81-bd2c-1ae3f1ae6fdd",
   "metadata": {
    "jp-MarkdownHeadingCollapsed": true
   },
   "source": [
    "### fan 4 ($a_2=0$, $a_4=0$, $a_5=0$, $d_0=1$, $d_1=1$, $d_6=0$)"
   ]
  },
  {
   "cell_type": "code",
   "execution_count": 158,
   "id": "3570147f-4be2-412f-aa8d-10717fa1cc82",
   "metadata": {},
   "outputs": [
    {
     "data": {
      "text/latex": [
       "$\\displaystyle \\left[\\begin{array}{ccccccccccc}1 & 0 & 0 & 0 & 0 & 0 & 0 & -1 & d_{0} - 1 & d_{0} - 1 & d_{0}\\\\0 & 1 & 0 & 0 & 0 & 0 & 0 & -1 & d_{1} - 2 & d_{1} - 1 & d_{1}\\\\0 & 0 & 1 & 0 & 0 & 0 & 0 & 0 & -1 & -1 & -1\\\\0 & 0 & 0 & 1 & 0 & 0 & 0 & 0 & 1 & 0 & -1\\\\0 & 0 & 0 & 0 & 1 & 0 & 0 & 0 & 0 & -1 & -1\\\\0 & 0 & 0 & 0 & 0 & 1 & 0 & 0 & -1 & -1 & 0\\\\0 & 0 & 0 & 0 & 0 & 0 & 1 & -1 & d_{6} - 1 & d_{6} & d_{6}\\end{array}\\right]$"
      ],
      "text/plain": [
       "Matrix([\n",
       "[1, 0, 0, 0, 0, 0, 0, -1, d0 - 1, d0 - 1, d0],\n",
       "[0, 1, 0, 0, 0, 0, 0, -1, d1 - 2, d1 - 1, d1],\n",
       "[0, 0, 1, 0, 0, 0, 0,  0,     -1,     -1, -1],\n",
       "[0, 0, 0, 1, 0, 0, 0,  0,      1,      0, -1],\n",
       "[0, 0, 0, 0, 1, 0, 0,  0,      0,     -1, -1],\n",
       "[0, 0, 0, 0, 0, 1, 0,  0,     -1,     -1,  0],\n",
       "[0, 0, 0, 0, 0, 0, 1, -1, d6 - 1,     d6, d6]])"
      ]
     },
     "metadata": {},
     "output_type": "display_data"
    },
    {
     "data": {
      "text/latex": [
       "$\\displaystyle \\left[\\begin{array}{ccccccccccc}1 & 0 & 0 & 0 & 0 & 0 & 0 & -1 & 0 & 0 & 1\\\\0 & 1 & 0 & 0 & 0 & 0 & 0 & -1 & -1 & 0 & 1\\\\0 & 0 & 1 & 0 & 0 & 0 & 0 & a_{2} & a_{2} - 1 & -1 & -1\\\\0 & 0 & 0 & 1 & 0 & 0 & 0 & 0 & 1 & 0 & -1\\\\0 & 0 & 0 & 0 & 1 & 0 & 0 & a_{4} & a_{4} & -1 & -1\\\\0 & 0 & 0 & 0 & 0 & 1 & 0 & a_{5} & a_{5} - 1 & -1 & 0\\\\0 & 0 & 0 & 0 & 0 & 0 & 1 & -1 & -1 & 0 & 0\\end{array}\\right]$"
      ],
      "text/plain": [
       "Matrix([\n",
       "[1, 0, 0, 0, 0, 0, 0, -1,      0,  0,  1],\n",
       "[0, 1, 0, 0, 0, 0, 0, -1,     -1,  0,  1],\n",
       "[0, 0, 1, 0, 0, 0, 0, a2, a2 - 1, -1, -1],\n",
       "[0, 0, 0, 1, 0, 0, 0,  0,      1,  0, -1],\n",
       "[0, 0, 0, 0, 1, 0, 0, a4,     a4, -1, -1],\n",
       "[0, 0, 0, 0, 0, 1, 0, a5, a5 - 1, -1,  0],\n",
       "[0, 0, 0, 0, 0, 0, 1, -1,     -1,  0,  0]])"
      ]
     },
     "metadata": {},
     "output_type": "display_data"
    },
    {
     "data": {
      "text/latex": [
       "$\\displaystyle \\text{True}$"
      ],
      "text/plain": [
       "True"
      ]
     },
     "metadata": {},
     "output_type": "display_data"
    }
   ],
   "source": [
    "i, j = 1, 4\n",
    "display(fans[i], fans[j])\n",
    "display(sp.Eq(fans[i].subs(d0,1).subs(d1,1).subs(d6,0),fans[j].subs(a2,0).subs(a4,0).subs(a5,0)))"
   ]
  },
  {
   "cell_type": "markdown",
   "id": "1b3317e3-db30-4f42-8080-a0905a956649",
   "metadata": {
    "jp-MarkdownHeadingCollapsed": true
   },
   "source": [
    "## fan 2"
   ]
  },
  {
   "cell_type": "markdown",
   "id": "840b7988-4d37-4bfe-8df3-88df2cdb970b",
   "metadata": {
    "jp-MarkdownHeadingCollapsed": true
   },
   "source": [
    "### fan 0 ($c_2=0$, $c_3=0$, $c_6=0$, $d_0=1$, $d_1=1$, $d_5=0$)"
   ]
  },
  {
   "cell_type": "code",
   "execution_count": 148,
   "id": "48c145d3-6958-4a38-97bc-dc228bb96980",
   "metadata": {},
   "outputs": [
    {
     "data": {
      "text/latex": [
       "$\\displaystyle \\left[\\begin{array}{ccccccccccc}1 & 0 & 0 & 0 & 0 & 0 & 0 & -1 & -1 & -1 & d_{0}\\\\0 & 1 & 0 & 0 & 0 & 0 & 0 & -1 & -2 & -1 & d_{1}\\\\0 & 0 & 1 & 0 & 0 & 0 & 0 & 1 & 1 & 0 & -1\\\\0 & 0 & 0 & 1 & 0 & 0 & 0 & 0 & 1 & 0 & -1\\\\0 & 0 & 0 & 0 & 1 & 0 & 0 & 1 & 2 & 0 & -1\\\\0 & 0 & 0 & 0 & 0 & 1 & 0 & 0 & -1 & -1 & d_{5}\\\\0 & 0 & 0 & 0 & 0 & 0 & 1 & -1 & -1 & 0 & 0\\end{array}\\right]$"
      ],
      "text/plain": [
       "Matrix([\n",
       "[1, 0, 0, 0, 0, 0, 0, -1, -1, -1, d0],\n",
       "[0, 1, 0, 0, 0, 0, 0, -1, -2, -1, d1],\n",
       "[0, 0, 1, 0, 0, 0, 0,  1,  1,  0, -1],\n",
       "[0, 0, 0, 1, 0, 0, 0,  0,  1,  0, -1],\n",
       "[0, 0, 0, 0, 1, 0, 0,  1,  2,  0, -1],\n",
       "[0, 0, 0, 0, 0, 1, 0,  0, -1, -1, d5],\n",
       "[0, 0, 0, 0, 0, 0, 1, -1, -1,  0,  0]])"
      ]
     },
     "metadata": {},
     "output_type": "display_data"
    },
    {
     "data": {
      "text/latex": [
       "$\\displaystyle \\left[\\begin{array}{ccccccccccc}1 & 0 & 0 & 0 & 0 & 0 & 0 & -1 & - c_{2} - 1 & - c_{2} - 1 & 1\\\\0 & 1 & 0 & 0 & 0 & 0 & 0 & -1 & - c_{2} - 2 & - c_{2} - 1 & 1\\\\0 & 0 & 1 & 0 & 0 & 0 & 0 & 1 & c_{2} + 1 & c_{2} & -1\\\\0 & 0 & 0 & 1 & 0 & 0 & 0 & 0 & c_{3} + 1 & c_{3} & -1\\\\0 & 0 & 0 & 0 & 1 & 0 & 0 & 1 & c_{2} + 2 & c_{2} & -1\\\\0 & 0 & 0 & 0 & 0 & 1 & 0 & 0 & -1 & -1 & 0\\\\0 & 0 & 0 & 0 & 0 & 0 & 1 & -1 & c_{6} - 1 & c_{6} & 0\\end{array}\\right]$"
      ],
      "text/plain": [
       "Matrix([\n",
       "[1, 0, 0, 0, 0, 0, 0, -1, -c2 - 1, -c2 - 1,  1],\n",
       "[0, 1, 0, 0, 0, 0, 0, -1, -c2 - 2, -c2 - 1,  1],\n",
       "[0, 0, 1, 0, 0, 0, 0,  1,  c2 + 1,      c2, -1],\n",
       "[0, 0, 0, 1, 0, 0, 0,  0,  c3 + 1,      c3, -1],\n",
       "[0, 0, 0, 0, 1, 0, 0,  1,  c2 + 2,      c2, -1],\n",
       "[0, 0, 0, 0, 0, 1, 0,  0,      -1,      -1,  0],\n",
       "[0, 0, 0, 0, 0, 0, 1, -1,  c6 - 1,      c6,  0]])"
      ]
     },
     "metadata": {},
     "output_type": "display_data"
    },
    {
     "data": {
      "text/latex": [
       "$\\displaystyle \\text{True}$"
      ],
      "text/plain": [
       "True"
      ]
     },
     "metadata": {},
     "output_type": "display_data"
    }
   ],
   "source": [
    "i, j = 0, 2\n",
    "display(fans[i], fans[j])\n",
    "display(sp.Eq(fans[i].subs(d0,1).subs(d1,1).subs(d5,0),fans[j].subs(c2,0).subs(c3,0).subs(c6,0)))"
   ]
  },
  {
   "cell_type": "markdown",
   "id": "210fc5ae-fe75-46bb-ad44-677772e6cc30",
   "metadata": {
    "jp-MarkdownHeadingCollapsed": true
   },
   "source": [
    "### fan 4 ($a_2=1$, $a_4=1$, $a_5=0$, $c_2=-1$, $c_3=0$, $c_6=0$)"
   ]
  },
  {
   "cell_type": "code",
   "execution_count": 160,
   "id": "f35e568a-6ef9-4948-8f8b-64ed012cbca8",
   "metadata": {},
   "outputs": [
    {
     "data": {
      "text/latex": [
       "$\\displaystyle \\left[\\begin{array}{ccccccccccc}1 & 0 & 0 & 0 & 0 & 0 & 0 & -1 & - c_{2} - 1 & - c_{2} - 1 & 1\\\\0 & 1 & 0 & 0 & 0 & 0 & 0 & -1 & - c_{2} - 2 & - c_{2} - 1 & 1\\\\0 & 0 & 1 & 0 & 0 & 0 & 0 & 1 & c_{2} + 1 & c_{2} & -1\\\\0 & 0 & 0 & 1 & 0 & 0 & 0 & 0 & c_{3} + 1 & c_{3} & -1\\\\0 & 0 & 0 & 0 & 1 & 0 & 0 & 1 & c_{2} + 2 & c_{2} & -1\\\\0 & 0 & 0 & 0 & 0 & 1 & 0 & 0 & -1 & -1 & 0\\\\0 & 0 & 0 & 0 & 0 & 0 & 1 & -1 & c_{6} - 1 & c_{6} & 0\\end{array}\\right]$"
      ],
      "text/plain": [
       "Matrix([\n",
       "[1, 0, 0, 0, 0, 0, 0, -1, -c2 - 1, -c2 - 1,  1],\n",
       "[0, 1, 0, 0, 0, 0, 0, -1, -c2 - 2, -c2 - 1,  1],\n",
       "[0, 0, 1, 0, 0, 0, 0,  1,  c2 + 1,      c2, -1],\n",
       "[0, 0, 0, 1, 0, 0, 0,  0,  c3 + 1,      c3, -1],\n",
       "[0, 0, 0, 0, 1, 0, 0,  1,  c2 + 2,      c2, -1],\n",
       "[0, 0, 0, 0, 0, 1, 0,  0,      -1,      -1,  0],\n",
       "[0, 0, 0, 0, 0, 0, 1, -1,  c6 - 1,      c6,  0]])"
      ]
     },
     "metadata": {},
     "output_type": "display_data"
    },
    {
     "data": {
      "text/latex": [
       "$\\displaystyle \\left[\\begin{array}{ccccccccccc}1 & 0 & 0 & 0 & 0 & 0 & 0 & -1 & 0 & 0 & 1\\\\0 & 1 & 0 & 0 & 0 & 0 & 0 & -1 & -1 & 0 & 1\\\\0 & 0 & 1 & 0 & 0 & 0 & 0 & a_{2} & a_{2} - 1 & -1 & -1\\\\0 & 0 & 0 & 1 & 0 & 0 & 0 & 0 & 1 & 0 & -1\\\\0 & 0 & 0 & 0 & 1 & 0 & 0 & a_{4} & a_{4} & -1 & -1\\\\0 & 0 & 0 & 0 & 0 & 1 & 0 & a_{5} & a_{5} - 1 & -1 & 0\\\\0 & 0 & 0 & 0 & 0 & 0 & 1 & -1 & -1 & 0 & 0\\end{array}\\right]$"
      ],
      "text/plain": [
       "Matrix([\n",
       "[1, 0, 0, 0, 0, 0, 0, -1,      0,  0,  1],\n",
       "[0, 1, 0, 0, 0, 0, 0, -1,     -1,  0,  1],\n",
       "[0, 0, 1, 0, 0, 0, 0, a2, a2 - 1, -1, -1],\n",
       "[0, 0, 0, 1, 0, 0, 0,  0,      1,  0, -1],\n",
       "[0, 0, 0, 0, 1, 0, 0, a4,     a4, -1, -1],\n",
       "[0, 0, 0, 0, 0, 1, 0, a5, a5 - 1, -1,  0],\n",
       "[0, 0, 0, 0, 0, 0, 1, -1,     -1,  0,  0]])"
      ]
     },
     "metadata": {},
     "output_type": "display_data"
    },
    {
     "data": {
      "text/latex": [
       "$\\displaystyle \\text{True}$"
      ],
      "text/plain": [
       "True"
      ]
     },
     "metadata": {},
     "output_type": "display_data"
    }
   ],
   "source": [
    "i, j = 2, 4\n",
    "display(fans[i], fans[j])\n",
    "display(sp.Eq(fans[i].subs(c2,-1).subs(c3,0).subs(c6,0),fans[j].subs(a2,1).subs(a4,1).subs(a5,0)))"
   ]
  },
  {
   "cell_type": "markdown",
   "id": "454b9727-eb20-44e7-acd3-0b13b04f81ab",
   "metadata": {
    "jp-MarkdownHeadingCollapsed": true
   },
   "source": [
    "## fan 3"
   ]
  },
  {
   "cell_type": "markdown",
   "id": "9d1f7b71-6f59-4b59-97ee-7a36e0f62983",
   "metadata": {
    "jp-MarkdownHeadingCollapsed": true
   },
   "source": [
    "### fan 0 ($c_2=0$, $c_3=0$, $c_4=0$, $d_0=0$, $d_1=0$, $d_5=0$)"
   ]
  },
  {
   "cell_type": "code",
   "execution_count": 151,
   "id": "65493d5e-be6a-463a-9542-6efc3dbde53c",
   "metadata": {},
   "outputs": [
    {
     "data": {
      "text/latex": [
       "$\\displaystyle \\left[\\begin{array}{ccccccccccc}1 & 0 & 0 & 0 & 0 & 0 & 0 & -1 & -1 & -1 & d_{0}\\\\0 & 1 & 0 & 0 & 0 & 0 & 0 & -1 & -2 & -1 & d_{1}\\\\0 & 0 & 1 & 0 & 0 & 0 & 0 & 1 & 1 & 0 & -1\\\\0 & 0 & 0 & 1 & 0 & 0 & 0 & 0 & 1 & 0 & -1\\\\0 & 0 & 0 & 0 & 1 & 0 & 0 & 1 & 2 & 0 & -1\\\\0 & 0 & 0 & 0 & 0 & 1 & 0 & 0 & -1 & -1 & d_{5}\\\\0 & 0 & 0 & 0 & 0 & 0 & 1 & -1 & -1 & 0 & 0\\end{array}\\right]$"
      ],
      "text/plain": [
       "Matrix([\n",
       "[1, 0, 0, 0, 0, 0, 0, -1, -1, -1, d0],\n",
       "[0, 1, 0, 0, 0, 0, 0, -1, -2, -1, d1],\n",
       "[0, 0, 1, 0, 0, 0, 0,  1,  1,  0, -1],\n",
       "[0, 0, 0, 1, 0, 0, 0,  0,  1,  0, -1],\n",
       "[0, 0, 0, 0, 1, 0, 0,  1,  2,  0, -1],\n",
       "[0, 0, 0, 0, 0, 1, 0,  0, -1, -1, d5],\n",
       "[0, 0, 0, 0, 0, 0, 1, -1, -1,  0,  0]])"
      ]
     },
     "metadata": {},
     "output_type": "display_data"
    },
    {
     "data": {
      "text/latex": [
       "$\\displaystyle \\left[\\begin{array}{ccccccccccc}1 & 0 & 0 & 0 & 0 & 0 & 0 & -1 & -1 & -1 & 0\\\\0 & 1 & 0 & 0 & 0 & 0 & 0 & -1 & -2 & -1 & 0\\\\0 & 0 & 1 & 0 & 0 & 0 & 0 & c_{2} + 1 & 2 c_{2} + 1 & c_{2} & -1\\\\0 & 0 & 0 & 1 & 0 & 0 & 0 & c_{3} & 2 c_{3} + 1 & c_{3} & -1\\\\0 & 0 & 0 & 0 & 1 & 0 & 0 & c_{4} + 1 & 2 c_{4} + 2 & c_{4} & -1\\\\0 & 0 & 0 & 0 & 0 & 1 & 0 & 0 & -1 & -1 & 0\\\\0 & 0 & 0 & 0 & 0 & 0 & 1 & -1 & -1 & 0 & 0\\end{array}\\right]$"
      ],
      "text/plain": [
       "Matrix([\n",
       "[1, 0, 0, 0, 0, 0, 0,     -1,       -1, -1,  0],\n",
       "[0, 1, 0, 0, 0, 0, 0,     -1,       -2, -1,  0],\n",
       "[0, 0, 1, 0, 0, 0, 0, c2 + 1, 2*c2 + 1, c2, -1],\n",
       "[0, 0, 0, 1, 0, 0, 0,     c3, 2*c3 + 1, c3, -1],\n",
       "[0, 0, 0, 0, 1, 0, 0, c4 + 1, 2*c4 + 2, c4, -1],\n",
       "[0, 0, 0, 0, 0, 1, 0,      0,       -1, -1,  0],\n",
       "[0, 0, 0, 0, 0, 0, 1,     -1,       -1,  0,  0]])"
      ]
     },
     "metadata": {},
     "output_type": "display_data"
    },
    {
     "data": {
      "text/latex": [
       "$\\displaystyle \\text{True}$"
      ],
      "text/plain": [
       "True"
      ]
     },
     "metadata": {},
     "output_type": "display_data"
    }
   ],
   "source": [
    "i, j = 0, 3\n",
    "display(fans[i], fans[j])\n",
    "display(sp.Eq(fans[i].subs(d0,0).subs(d1,0).subs(d5,0),fans[j].subs(c2, 0).subs(c3,0).subs(c4,0)))"
   ]
  },
  {
   "cell_type": "markdown",
   "id": "949aee9b-8cd3-44e0-8b43-58500cb27ce8",
   "metadata": {
    "jp-MarkdownHeadingCollapsed": true
   },
   "source": [
    "### fan 1 ($c_2=-1$, $c_3=0$, $c_4=-1$, $d_0=0$, $d_1=0$, $d_6=0$)"
   ]
  },
  {
   "cell_type": "code",
   "execution_count": 155,
   "id": "efdc001b-4f05-4cb0-a461-46992c6e2356",
   "metadata": {},
   "outputs": [
    {
     "data": {
      "text/latex": [
       "$\\displaystyle \\left[\\begin{array}{ccccccccccc}1 & 0 & 0 & 0 & 0 & 0 & 0 & -1 & d_{0} - 1 & d_{0} - 1 & d_{0}\\\\0 & 1 & 0 & 0 & 0 & 0 & 0 & -1 & d_{1} - 2 & d_{1} - 1 & d_{1}\\\\0 & 0 & 1 & 0 & 0 & 0 & 0 & 0 & -1 & -1 & -1\\\\0 & 0 & 0 & 1 & 0 & 0 & 0 & 0 & 1 & 0 & -1\\\\0 & 0 & 0 & 0 & 1 & 0 & 0 & 0 & 0 & -1 & -1\\\\0 & 0 & 0 & 0 & 0 & 1 & 0 & 0 & -1 & -1 & 0\\\\0 & 0 & 0 & 0 & 0 & 0 & 1 & -1 & d_{6} - 1 & d_{6} & d_{6}\\end{array}\\right]$"
      ],
      "text/plain": [
       "Matrix([\n",
       "[1, 0, 0, 0, 0, 0, 0, -1, d0 - 1, d0 - 1, d0],\n",
       "[0, 1, 0, 0, 0, 0, 0, -1, d1 - 2, d1 - 1, d1],\n",
       "[0, 0, 1, 0, 0, 0, 0,  0,     -1,     -1, -1],\n",
       "[0, 0, 0, 1, 0, 0, 0,  0,      1,      0, -1],\n",
       "[0, 0, 0, 0, 1, 0, 0,  0,      0,     -1, -1],\n",
       "[0, 0, 0, 0, 0, 1, 0,  0,     -1,     -1,  0],\n",
       "[0, 0, 0, 0, 0, 0, 1, -1, d6 - 1,     d6, d6]])"
      ]
     },
     "metadata": {},
     "output_type": "display_data"
    },
    {
     "data": {
      "text/latex": [
       "$\\displaystyle \\left[\\begin{array}{ccccccccccc}1 & 0 & 0 & 0 & 0 & 0 & 0 & -1 & -1 & -1 & 0\\\\0 & 1 & 0 & 0 & 0 & 0 & 0 & -1 & -2 & -1 & 0\\\\0 & 0 & 1 & 0 & 0 & 0 & 0 & c_{2} + 1 & 2 c_{2} + 1 & c_{2} & -1\\\\0 & 0 & 0 & 1 & 0 & 0 & 0 & c_{3} & 2 c_{3} + 1 & c_{3} & -1\\\\0 & 0 & 0 & 0 & 1 & 0 & 0 & c_{4} + 1 & 2 c_{4} + 2 & c_{4} & -1\\\\0 & 0 & 0 & 0 & 0 & 1 & 0 & 0 & -1 & -1 & 0\\\\0 & 0 & 0 & 0 & 0 & 0 & 1 & -1 & -1 & 0 & 0\\end{array}\\right]$"
      ],
      "text/plain": [
       "Matrix([\n",
       "[1, 0, 0, 0, 0, 0, 0,     -1,       -1, -1,  0],\n",
       "[0, 1, 0, 0, 0, 0, 0,     -1,       -2, -1,  0],\n",
       "[0, 0, 1, 0, 0, 0, 0, c2 + 1, 2*c2 + 1, c2, -1],\n",
       "[0, 0, 0, 1, 0, 0, 0,     c3, 2*c3 + 1, c3, -1],\n",
       "[0, 0, 0, 0, 1, 0, 0, c4 + 1, 2*c4 + 2, c4, -1],\n",
       "[0, 0, 0, 0, 0, 1, 0,      0,       -1, -1,  0],\n",
       "[0, 0, 0, 0, 0, 0, 1,     -1,       -1,  0,  0]])"
      ]
     },
     "metadata": {},
     "output_type": "display_data"
    },
    {
     "data": {
      "text/latex": [
       "$\\displaystyle \\text{True}$"
      ],
      "text/plain": [
       "True"
      ]
     },
     "metadata": {},
     "output_type": "display_data"
    }
   ],
   "source": [
    "i, j = 1, 3\n",
    "display(fans[i], fans[j])\n",
    "display(sp.Eq(fans[i].subs(d0,0).subs(d1,0).subs(d6,0),fans[j].subs(c2, -1).subs(c3,0).subs(c4,-1)))"
   ]
  },
  {
   "cell_type": "markdown",
   "id": "562f1726-1690-4b37-bcbf-b58a3eeba88a",
   "metadata": {
    "jp-MarkdownHeadingCollapsed": true
   },
   "source": [
    "## fan 4"
   ]
  },
  {
   "cell_type": "markdown",
   "id": "72c7eb7a-0e8a-422b-b9a8-b2b7fa0f550a",
   "metadata": {
    "jp-MarkdownHeadingCollapsed": true
   },
   "source": [
    "### fan 1 ($a_2=0$, $a_4=0$, $a_5=0$, $d_0=1$, $d_1=1$, $d_6=0$)"
   ]
  },
  {
   "cell_type": "code",
   "execution_count": 157,
   "id": "d28a55c1-433d-4363-a610-528ddba4d585",
   "metadata": {},
   "outputs": [
    {
     "data": {
      "text/latex": [
       "$\\displaystyle \\left[\\begin{array}{ccccccccccc}1 & 0 & 0 & 0 & 0 & 0 & 0 & -1 & d_{0} - 1 & d_{0} - 1 & d_{0}\\\\0 & 1 & 0 & 0 & 0 & 0 & 0 & -1 & d_{1} - 2 & d_{1} - 1 & d_{1}\\\\0 & 0 & 1 & 0 & 0 & 0 & 0 & 0 & -1 & -1 & -1\\\\0 & 0 & 0 & 1 & 0 & 0 & 0 & 0 & 1 & 0 & -1\\\\0 & 0 & 0 & 0 & 1 & 0 & 0 & 0 & 0 & -1 & -1\\\\0 & 0 & 0 & 0 & 0 & 1 & 0 & 0 & -1 & -1 & 0\\\\0 & 0 & 0 & 0 & 0 & 0 & 1 & -1 & d_{6} - 1 & d_{6} & d_{6}\\end{array}\\right]$"
      ],
      "text/plain": [
       "Matrix([\n",
       "[1, 0, 0, 0, 0, 0, 0, -1, d0 - 1, d0 - 1, d0],\n",
       "[0, 1, 0, 0, 0, 0, 0, -1, d1 - 2, d1 - 1, d1],\n",
       "[0, 0, 1, 0, 0, 0, 0,  0,     -1,     -1, -1],\n",
       "[0, 0, 0, 1, 0, 0, 0,  0,      1,      0, -1],\n",
       "[0, 0, 0, 0, 1, 0, 0,  0,      0,     -1, -1],\n",
       "[0, 0, 0, 0, 0, 1, 0,  0,     -1,     -1,  0],\n",
       "[0, 0, 0, 0, 0, 0, 1, -1, d6 - 1,     d6, d6]])"
      ]
     },
     "metadata": {},
     "output_type": "display_data"
    },
    {
     "data": {
      "text/latex": [
       "$\\displaystyle \\left[\\begin{array}{ccccccccccc}1 & 0 & 0 & 0 & 0 & 0 & 0 & -1 & 0 & 0 & 1\\\\0 & 1 & 0 & 0 & 0 & 0 & 0 & -1 & -1 & 0 & 1\\\\0 & 0 & 1 & 0 & 0 & 0 & 0 & a_{2} & a_{2} - 1 & -1 & -1\\\\0 & 0 & 0 & 1 & 0 & 0 & 0 & 0 & 1 & 0 & -1\\\\0 & 0 & 0 & 0 & 1 & 0 & 0 & a_{4} & a_{4} & -1 & -1\\\\0 & 0 & 0 & 0 & 0 & 1 & 0 & a_{5} & a_{5} - 1 & -1 & 0\\\\0 & 0 & 0 & 0 & 0 & 0 & 1 & -1 & -1 & 0 & 0\\end{array}\\right]$"
      ],
      "text/plain": [
       "Matrix([\n",
       "[1, 0, 0, 0, 0, 0, 0, -1,      0,  0,  1],\n",
       "[0, 1, 0, 0, 0, 0, 0, -1,     -1,  0,  1],\n",
       "[0, 0, 1, 0, 0, 0, 0, a2, a2 - 1, -1, -1],\n",
       "[0, 0, 0, 1, 0, 0, 0,  0,      1,  0, -1],\n",
       "[0, 0, 0, 0, 1, 0, 0, a4,     a4, -1, -1],\n",
       "[0, 0, 0, 0, 0, 1, 0, a5, a5 - 1, -1,  0],\n",
       "[0, 0, 0, 0, 0, 0, 1, -1,     -1,  0,  0]])"
      ]
     },
     "metadata": {},
     "output_type": "display_data"
    },
    {
     "data": {
      "text/latex": [
       "$\\displaystyle \\text{True}$"
      ],
      "text/plain": [
       "True"
      ]
     },
     "metadata": {},
     "output_type": "display_data"
    }
   ],
   "source": [
    "i, j = 1, 4\n",
    "display(fans[i], fans[j])\n",
    "display(sp.Eq(fans[i].subs(d0,1).subs(d1,1).subs(d6,0),fans[j].subs(a2,0).subs(a4,0).subs(a5,0)))"
   ]
  },
  {
   "cell_type": "markdown",
   "id": "b53f2e2b-9b51-4327-95ea-65c54626710c",
   "metadata": {
    "jp-MarkdownHeadingCollapsed": true
   },
   "source": [
    "### fan 2 ($a_2=1$, $a_4=1$, $a_5=0$, $c_2=-1$, $c_3=0$, $c_6=0$)"
   ]
  },
  {
   "cell_type": "code",
   "execution_count": 160,
   "id": "786babaf-4bec-4680-9866-c85977bebab6",
   "metadata": {},
   "outputs": [
    {
     "data": {
      "text/latex": [
       "$\\displaystyle \\left[\\begin{array}{ccccccccccc}1 & 0 & 0 & 0 & 0 & 0 & 0 & -1 & - c_{2} - 1 & - c_{2} - 1 & 1\\\\0 & 1 & 0 & 0 & 0 & 0 & 0 & -1 & - c_{2} - 2 & - c_{2} - 1 & 1\\\\0 & 0 & 1 & 0 & 0 & 0 & 0 & 1 & c_{2} + 1 & c_{2} & -1\\\\0 & 0 & 0 & 1 & 0 & 0 & 0 & 0 & c_{3} + 1 & c_{3} & -1\\\\0 & 0 & 0 & 0 & 1 & 0 & 0 & 1 & c_{2} + 2 & c_{2} & -1\\\\0 & 0 & 0 & 0 & 0 & 1 & 0 & 0 & -1 & -1 & 0\\\\0 & 0 & 0 & 0 & 0 & 0 & 1 & -1 & c_{6} - 1 & c_{6} & 0\\end{array}\\right]$"
      ],
      "text/plain": [
       "Matrix([\n",
       "[1, 0, 0, 0, 0, 0, 0, -1, -c2 - 1, -c2 - 1,  1],\n",
       "[0, 1, 0, 0, 0, 0, 0, -1, -c2 - 2, -c2 - 1,  1],\n",
       "[0, 0, 1, 0, 0, 0, 0,  1,  c2 + 1,      c2, -1],\n",
       "[0, 0, 0, 1, 0, 0, 0,  0,  c3 + 1,      c3, -1],\n",
       "[0, 0, 0, 0, 1, 0, 0,  1,  c2 + 2,      c2, -1],\n",
       "[0, 0, 0, 0, 0, 1, 0,  0,      -1,      -1,  0],\n",
       "[0, 0, 0, 0, 0, 0, 1, -1,  c6 - 1,      c6,  0]])"
      ]
     },
     "metadata": {},
     "output_type": "display_data"
    },
    {
     "data": {
      "text/latex": [
       "$\\displaystyle \\left[\\begin{array}{ccccccccccc}1 & 0 & 0 & 0 & 0 & 0 & 0 & -1 & 0 & 0 & 1\\\\0 & 1 & 0 & 0 & 0 & 0 & 0 & -1 & -1 & 0 & 1\\\\0 & 0 & 1 & 0 & 0 & 0 & 0 & a_{2} & a_{2} - 1 & -1 & -1\\\\0 & 0 & 0 & 1 & 0 & 0 & 0 & 0 & 1 & 0 & -1\\\\0 & 0 & 0 & 0 & 1 & 0 & 0 & a_{4} & a_{4} & -1 & -1\\\\0 & 0 & 0 & 0 & 0 & 1 & 0 & a_{5} & a_{5} - 1 & -1 & 0\\\\0 & 0 & 0 & 0 & 0 & 0 & 1 & -1 & -1 & 0 & 0\\end{array}\\right]$"
      ],
      "text/plain": [
       "Matrix([\n",
       "[1, 0, 0, 0, 0, 0, 0, -1,      0,  0,  1],\n",
       "[0, 1, 0, 0, 0, 0, 0, -1,     -1,  0,  1],\n",
       "[0, 0, 1, 0, 0, 0, 0, a2, a2 - 1, -1, -1],\n",
       "[0, 0, 0, 1, 0, 0, 0,  0,      1,  0, -1],\n",
       "[0, 0, 0, 0, 1, 0, 0, a4,     a4, -1, -1],\n",
       "[0, 0, 0, 0, 0, 1, 0, a5, a5 - 1, -1,  0],\n",
       "[0, 0, 0, 0, 0, 0, 1, -1,     -1,  0,  0]])"
      ]
     },
     "metadata": {},
     "output_type": "display_data"
    },
    {
     "data": {
      "text/latex": [
       "$\\displaystyle \\text{True}$"
      ],
      "text/plain": [
       "True"
      ]
     },
     "metadata": {},
     "output_type": "display_data"
    }
   ],
   "source": [
    "i, j = 2, 4\n",
    "display(fans[i], fans[j])\n",
    "display(sp.Eq(fans[i].subs(c2,-1).subs(c3,0).subs(c6,0),fans[j].subs(a2,1).subs(a4,1).subs(a5,0)))"
   ]
  },
  {
   "cell_type": "markdown",
   "id": "0d8d8e04-5f3e-41c1-aef0-63fbe399e3b0",
   "metadata": {
    "jp-MarkdownHeadingCollapsed": true
   },
   "source": [
    "# There is 1 type of fan up to D-J equivalence and symmetry"
   ]
  },
  {
   "cell_type": "code",
   "execution_count": 117,
   "id": "abf8f74a-910d-47f9-87db-44b49951c7fb",
   "metadata": {},
   "outputs": [
    {
     "data": {
      "text/plain": [
       "[[1, 2, 3, 4, 5, 6, 7, 8, 9, 10, 11],\n",
       " [1, 2, 11, 5, 4, 7, 6, 10, 9, 8, 3],\n",
       " [4, 11, 6, 1, 10, 3, 7, 8, 9, 5, 2],\n",
       " [4, 11, 2, 10, 1, 7, 3, 5, 9, 8, 6],\n",
       " [5, 3, 7, 1, 8, 11, 6, 10, 9, 4, 2],\n",
       " [5, 3, 2, 8, 1, 6, 11, 4, 9, 10, 7],\n",
       " [8, 7, 6, 5, 10, 2, 11, 4, 9, 1, 3],\n",
       " [8, 7, 3, 10, 5, 11, 2, 1, 9, 4, 6],\n",
       " [10, 6, 7, 4, 8, 2, 3, 5, 9, 1, 11],\n",
       " [10, 6, 11, 8, 4, 3, 2, 1, 9, 5, 7]]"
      ]
     },
     "execution_count": 117,
     "metadata": {},
     "output_type": "execute_result"
    }
   ],
   "source": [
    "K.symmetries"
   ]
  },
  {
   "cell_type": "code",
   "execution_count": 118,
   "id": "f95934a9-dbf1-44f3-9eb1-a3704b841528",
   "metadata": {},
   "outputs": [],
   "source": [
    "symm_index = [(np.array(i)-1).tolist() for i in K.symmetries]"
   ]
  },
  {
   "cell_type": "code",
   "execution_count": 119,
   "id": "c342a63d-9519-4fb8-a194-5a40485bf101",
   "metadata": {},
   "outputs": [
    {
     "data": {
      "text/latex": [
       "$\\displaystyle \\left[\\begin{array}{ccccccccccc}1 & 0 & 0 & 0 & 0 & 0 & 0 & -1 & d_{0} - 1 & d_{0} - 1 & d_{0}\\\\0 & 1 & 0 & 0 & 0 & 0 & 0 & -1 & d_{1} - 2 & d_{1} - 1 & d_{1}\\\\0 & 0 & 1 & 0 & 0 & 0 & 0 & 0 & -1 & -1 & -1\\\\0 & 0 & 0 & 1 & 0 & 0 & 0 & 0 & 1 & 0 & -1\\\\0 & 0 & 0 & 0 & 1 & 0 & 0 & 0 & 0 & -1 & -1\\\\0 & 0 & 0 & 0 & 0 & 1 & 0 & 0 & -1 & -1 & 0\\\\0 & 0 & 0 & 0 & 0 & 0 & 1 & -1 & d_{5} - 1 & d_{5} & d_{5}\\end{array}\\right]$"
      ],
      "text/plain": [
       "Matrix([\n",
       "[1, 0, 0, 0, 0, 0, 0, -1, d0 - 1, d0 - 1, d0],\n",
       "[0, 1, 0, 0, 0, 0, 0, -1, d1 - 2, d1 - 1, d1],\n",
       "[0, 0, 1, 0, 0, 0, 0,  0,     -1,     -1, -1],\n",
       "[0, 0, 0, 1, 0, 0, 0,  0,      1,      0, -1],\n",
       "[0, 0, 0, 0, 1, 0, 0,  0,      0,     -1, -1],\n",
       "[0, 0, 0, 0, 0, 1, 0,  0,     -1,     -1,  0],\n",
       "[0, 0, 0, 0, 0, 0, 1, -1, d5 - 1,     d5, d5]])"
      ]
     },
     "metadata": {},
     "output_type": "display_data"
    },
    {
     "data": {
      "text/latex": [
       "$\\displaystyle \\left[\\begin{array}{ccccccccccc}1 & 0 & 0 & 0 & 0 & 0 & 0 & -1 & d_{0} - 1 & d_{0} - 1 & d_{0}\\\\0 & 1 & 0 & 0 & 0 & 0 & 0 & -1 & d_{1} - 2 & d_{1} - 1 & d_{1}\\\\0 & 0 & 1 & 0 & 0 & 0 & 0 & 0 & -1 & -1 & -1\\\\0 & 0 & 0 & 1 & 0 & 0 & 0 & 0 & 1 & 0 & -1\\\\0 & 0 & 0 & 0 & 1 & 0 & 0 & 0 & 0 & -1 & -1\\\\0 & 0 & 0 & 0 & 0 & 1 & 0 & 0 & -1 & -1 & 0\\\\0 & 0 & 0 & 0 & 0 & 0 & 1 & -1 & d_{6} - 1 & d_{6} & d_{6}\\end{array}\\right]$"
      ],
      "text/plain": [
       "Matrix([\n",
       "[1, 0, 0, 0, 0, 0, 0, -1, d0 - 1, d0 - 1, d0],\n",
       "[0, 1, 0, 0, 0, 0, 0, -1, d1 - 2, d1 - 1, d1],\n",
       "[0, 0, 1, 0, 0, 0, 0,  0,     -1,     -1, -1],\n",
       "[0, 0, 0, 1, 0, 0, 0,  0,      1,      0, -1],\n",
       "[0, 0, 0, 0, 1, 0, 0,  0,      0,     -1, -1],\n",
       "[0, 0, 0, 0, 0, 1, 0,  0,     -1,     -1,  0],\n",
       "[0, 0, 0, 0, 0, 0, 1, -1, d6 - 1,     d6, d6]])"
      ]
     },
     "metadata": {},
     "output_type": "display_data"
    }
   ],
   "source": [
    "display(fans[0][:, symm_index[1]].rref()[0])\n",
    "display(fans[1])"
   ]
  },
  {
   "cell_type": "code",
   "execution_count": 123,
   "id": "2f8659ff-c6da-4c83-b0cd-4028e94ef84b",
   "metadata": {},
   "outputs": [
    {
     "data": {
      "text/latex": [
       "$\\displaystyle \\left[\\begin{array}{ccccccccccc}1 & 0 & 0 & 0 & 0 & 0 & 0 & -1 & -1 & -1 & 0\\\\0 & 1 & 0 & 0 & 0 & 0 & 0 & -1 & -2 & -1 & 0\\\\0 & 0 & 1 & 0 & 0 & 0 & 0 & - d_{1} + d_{5} + 1 & - 2 d_{1} + 2 d_{5} + 1 & - d_{1} + d_{5} & -1\\\\0 & 0 & 0 & 1 & 0 & 0 & 0 & d_{0} - d_{1} & 2 d_{0} - 2 d_{1} + 1 & d_{0} - d_{1} & -1\\\\0 & 0 & 0 & 0 & 1 & 0 & 0 & 1 - d_{1} & 2 - 2 d_{1} & - d_{1} & -1\\\\0 & 0 & 0 & 0 & 0 & 1 & 0 & 0 & -1 & -1 & 0\\\\0 & 0 & 0 & 0 & 0 & 0 & 1 & -1 & -1 & 0 & 0\\end{array}\\right]$"
      ],
      "text/plain": [
       "Matrix([\n",
       "[1, 0, 0, 0, 0, 0, 0,           -1,               -1,       -1,  0],\n",
       "[0, 1, 0, 0, 0, 0, 0,           -1,               -2,       -1,  0],\n",
       "[0, 0, 1, 0, 0, 0, 0, -d1 + d5 + 1, -2*d1 + 2*d5 + 1, -d1 + d5, -1],\n",
       "[0, 0, 0, 1, 0, 0, 0,      d0 - d1,  2*d0 - 2*d1 + 1,  d0 - d1, -1],\n",
       "[0, 0, 0, 0, 1, 0, 0,       1 - d1,         2 - 2*d1,      -d1, -1],\n",
       "[0, 0, 0, 0, 0, 1, 0,            0,               -1,       -1,  0],\n",
       "[0, 0, 0, 0, 0, 0, 1,           -1,               -1,        0,  0]])"
      ]
     },
     "metadata": {},
     "output_type": "display_data"
    },
    {
     "data": {
      "text/latex": [
       "$\\displaystyle \\left[\\begin{array}{ccccccccccc}1 & 0 & 0 & 0 & 0 & 0 & 0 & -1 & -1 & -1 & 0\\\\0 & 1 & 0 & 0 & 0 & 0 & 0 & -1 & -2 & -1 & 0\\\\0 & 0 & 1 & 0 & 0 & 0 & 0 & c_{2} + 1 & 2 c_{2} + 1 & c_{2} & -1\\\\0 & 0 & 0 & 1 & 0 & 0 & 0 & c_{3} & 2 c_{3} + 1 & c_{3} & -1\\\\0 & 0 & 0 & 0 & 1 & 0 & 0 & c_{4} + 1 & 2 c_{4} + 2 & c_{4} & -1\\\\0 & 0 & 0 & 0 & 0 & 1 & 0 & 0 & -1 & -1 & 0\\\\0 & 0 & 0 & 0 & 0 & 0 & 1 & -1 & -1 & 0 & 0\\end{array}\\right]$"
      ],
      "text/plain": [
       "Matrix([\n",
       "[1, 0, 0, 0, 0, 0, 0,     -1,       -1, -1,  0],\n",
       "[0, 1, 0, 0, 0, 0, 0,     -1,       -2, -1,  0],\n",
       "[0, 0, 1, 0, 0, 0, 0, c2 + 1, 2*c2 + 1, c2, -1],\n",
       "[0, 0, 0, 1, 0, 0, 0,     c3, 2*c3 + 1, c3, -1],\n",
       "[0, 0, 0, 0, 1, 0, 0, c4 + 1, 2*c4 + 2, c4, -1],\n",
       "[0, 0, 0, 0, 0, 1, 0,      0,       -1, -1,  0],\n",
       "[0, 0, 0, 0, 0, 0, 1,     -1,       -1,  0,  0]])"
      ]
     },
     "metadata": {},
     "output_type": "display_data"
    }
   ],
   "source": [
    "display(fans[0][:, symm_index[2]].rref()[0])\n",
    "display(fans[3])"
   ]
  },
  {
   "cell_type": "code",
   "execution_count": 124,
   "id": "ad7e8dd8-e7ad-4cc5-897e-934680e92088",
   "metadata": {},
   "outputs": [
    {
     "data": {
      "text/latex": [
       "$\\displaystyle \\left[\\begin{array}{ccccccccccc}1 & 0 & 0 & 0 & 0 & 0 & 0 & -1 & -1 & -1 & 0\\\\0 & 1 & 0 & 0 & 0 & 0 & 0 & -1 & -2 & -1 & 0\\\\0 & 0 & 1 & 0 & 0 & 0 & 0 & d_{1} - d_{5} & 2 d_{1} - 2 d_{5} - 1 & d_{1} - d_{5} - 1 & -1\\\\0 & 0 & 0 & 1 & 0 & 0 & 0 & - d_{5} & 1 - 2 d_{5} & - d_{5} & -1\\\\0 & 0 & 0 & 0 & 1 & 0 & 0 & d_{0} - d_{5} & 2 d_{0} - 2 d_{5} & d_{0} - d_{5} - 1 & -1\\\\0 & 0 & 0 & 0 & 0 & 1 & 0 & 0 & -1 & -1 & 0\\\\0 & 0 & 0 & 0 & 0 & 0 & 1 & -1 & -1 & 0 & 0\\end{array}\\right]$"
      ],
      "text/plain": [
       "Matrix([\n",
       "[1, 0, 0, 0, 0, 0, 0,      -1,              -1,          -1,  0],\n",
       "[0, 1, 0, 0, 0, 0, 0,      -1,              -2,          -1,  0],\n",
       "[0, 0, 1, 0, 0, 0, 0, d1 - d5, 2*d1 - 2*d5 - 1, d1 - d5 - 1, -1],\n",
       "[0, 0, 0, 1, 0, 0, 0,     -d5,        1 - 2*d5,         -d5, -1],\n",
       "[0, 0, 0, 0, 1, 0, 0, d0 - d5,     2*d0 - 2*d5, d0 - d5 - 1, -1],\n",
       "[0, 0, 0, 0, 0, 1, 0,       0,              -1,          -1,  0],\n",
       "[0, 0, 0, 0, 0, 0, 1,      -1,              -1,           0,  0]])"
      ]
     },
     "metadata": {},
     "output_type": "display_data"
    },
    {
     "data": {
      "text/latex": [
       "$\\displaystyle \\left[\\begin{array}{ccccccccccc}1 & 0 & 0 & 0 & 0 & 0 & 0 & -1 & -1 & -1 & 0\\\\0 & 1 & 0 & 0 & 0 & 0 & 0 & -1 & -2 & -1 & 0\\\\0 & 0 & 1 & 0 & 0 & 0 & 0 & c_{2} + 1 & 2 c_{2} + 1 & c_{2} & -1\\\\0 & 0 & 0 & 1 & 0 & 0 & 0 & c_{3} & 2 c_{3} + 1 & c_{3} & -1\\\\0 & 0 & 0 & 0 & 1 & 0 & 0 & c_{4} + 1 & 2 c_{4} + 2 & c_{4} & -1\\\\0 & 0 & 0 & 0 & 0 & 1 & 0 & 0 & -1 & -1 & 0\\\\0 & 0 & 0 & 0 & 0 & 0 & 1 & -1 & -1 & 0 & 0\\end{array}\\right]$"
      ],
      "text/plain": [
       "Matrix([\n",
       "[1, 0, 0, 0, 0, 0, 0,     -1,       -1, -1,  0],\n",
       "[0, 1, 0, 0, 0, 0, 0,     -1,       -2, -1,  0],\n",
       "[0, 0, 1, 0, 0, 0, 0, c2 + 1, 2*c2 + 1, c2, -1],\n",
       "[0, 0, 0, 1, 0, 0, 0,     c3, 2*c3 + 1, c3, -1],\n",
       "[0, 0, 0, 0, 1, 0, 0, c4 + 1, 2*c4 + 2, c4, -1],\n",
       "[0, 0, 0, 0, 0, 1, 0,      0,       -1, -1,  0],\n",
       "[0, 0, 0, 0, 0, 0, 1,     -1,       -1,  0,  0]])"
      ]
     },
     "metadata": {},
     "output_type": "display_data"
    }
   ],
   "source": [
    "display(fans[0][:, symm_index[3]].rref()[0])\n",
    "display(fans[3])"
   ]
  },
  {
   "cell_type": "code",
   "execution_count": 125,
   "id": "11a9d058-e01d-46ea-b0a2-1667ab34d878",
   "metadata": {},
   "outputs": [
    {
     "data": {
      "text/latex": [
       "$\\displaystyle \\left[\\begin{array}{ccccccccccc}1 & 0 & 0 & 0 & 0 & 0 & 0 & -1 & d_{1} - 1 & d_{1} - 1 & 1\\\\0 & 1 & 0 & 0 & 0 & 0 & 0 & -1 & d_{1} - 2 & d_{1} - 1 & 1\\\\0 & 0 & 1 & 0 & 0 & 0 & 0 & 1 & 1 - d_{1} & - d_{1} & -1\\\\0 & 0 & 0 & 1 & 0 & 0 & 0 & 0 & d_{0} - d_{1} + 1 & d_{0} - d_{1} & -1\\\\0 & 0 & 0 & 0 & 1 & 0 & 0 & 1 & 2 - d_{1} & - d_{1} & -1\\\\0 & 0 & 0 & 0 & 0 & 1 & 0 & 0 & -1 & -1 & 0\\\\0 & 0 & 0 & 0 & 0 & 0 & 1 & -1 & d_{5} - 1 & d_{5} & 0\\end{array}\\right]$"
      ],
      "text/plain": [
       "Matrix([\n",
       "[1, 0, 0, 0, 0, 0, 0, -1,      d1 - 1,  d1 - 1,  1],\n",
       "[0, 1, 0, 0, 0, 0, 0, -1,      d1 - 2,  d1 - 1,  1],\n",
       "[0, 0, 1, 0, 0, 0, 0,  1,      1 - d1,     -d1, -1],\n",
       "[0, 0, 0, 1, 0, 0, 0,  0, d0 - d1 + 1, d0 - d1, -1],\n",
       "[0, 0, 0, 0, 1, 0, 0,  1,      2 - d1,     -d1, -1],\n",
       "[0, 0, 0, 0, 0, 1, 0,  0,          -1,      -1,  0],\n",
       "[0, 0, 0, 0, 0, 0, 1, -1,      d5 - 1,      d5,  0]])"
      ]
     },
     "metadata": {},
     "output_type": "display_data"
    },
    {
     "data": {
      "text/latex": [
       "$\\displaystyle \\left[\\begin{array}{ccccccccccc}1 & 0 & 0 & 0 & 0 & 0 & 0 & -1 & - c_{2} - 1 & - c_{2} - 1 & 1\\\\0 & 1 & 0 & 0 & 0 & 0 & 0 & -1 & - c_{2} - 2 & - c_{2} - 1 & 1\\\\0 & 0 & 1 & 0 & 0 & 0 & 0 & 1 & c_{2} + 1 & c_{2} & -1\\\\0 & 0 & 0 & 1 & 0 & 0 & 0 & 0 & c_{3} + 1 & c_{3} & -1\\\\0 & 0 & 0 & 0 & 1 & 0 & 0 & 1 & c_{2} + 2 & c_{2} & -1\\\\0 & 0 & 0 & 0 & 0 & 1 & 0 & 0 & -1 & -1 & 0\\\\0 & 0 & 0 & 0 & 0 & 0 & 1 & -1 & c_{6} - 1 & c_{6} & 0\\end{array}\\right]$"
      ],
      "text/plain": [
       "Matrix([\n",
       "[1, 0, 0, 0, 0, 0, 0, -1, -c2 - 1, -c2 - 1,  1],\n",
       "[0, 1, 0, 0, 0, 0, 0, -1, -c2 - 2, -c2 - 1,  1],\n",
       "[0, 0, 1, 0, 0, 0, 0,  1,  c2 + 1,      c2, -1],\n",
       "[0, 0, 0, 1, 0, 0, 0,  0,  c3 + 1,      c3, -1],\n",
       "[0, 0, 0, 0, 1, 0, 0,  1,  c2 + 2,      c2, -1],\n",
       "[0, 0, 0, 0, 0, 1, 0,  0,      -1,      -1,  0],\n",
       "[0, 0, 0, 0, 0, 0, 1, -1,  c6 - 1,      c6,  0]])"
      ]
     },
     "metadata": {},
     "output_type": "display_data"
    }
   ],
   "source": [
    "display(fans[0][:, symm_index[4]].rref()[0])\n",
    "display(fans[2])"
   ]
  },
  {
   "cell_type": "code",
   "execution_count": 126,
   "id": "0957053b-92f2-4507-82ac-3f3ce40e84d3",
   "metadata": {},
   "outputs": [
    {
     "data": {
      "text/latex": [
       "$\\displaystyle \\left[\\begin{array}{ccccccccccc}1 & 0 & 0 & 0 & 0 & 0 & 0 & -1 & 0 & 0 & 1\\\\0 & 1 & 0 & 0 & 0 & 0 & 0 & -1 & -1 & 0 & 1\\\\0 & 0 & 1 & 0 & 0 & 0 & 0 & d_{1} & d_{1} - 1 & -1 & -1\\\\0 & 0 & 0 & 1 & 0 & 0 & 0 & 0 & 1 & 0 & -1\\\\0 & 0 & 0 & 0 & 1 & 0 & 0 & d_{0} & d_{0} & -1 & -1\\\\0 & 0 & 0 & 0 & 0 & 1 & 0 & d_{5} & d_{5} - 1 & -1 & 0\\\\0 & 0 & 0 & 0 & 0 & 0 & 1 & -1 & -1 & 0 & 0\\end{array}\\right]$"
      ],
      "text/plain": [
       "Matrix([\n",
       "[1, 0, 0, 0, 0, 0, 0, -1,      0,  0,  1],\n",
       "[0, 1, 0, 0, 0, 0, 0, -1,     -1,  0,  1],\n",
       "[0, 0, 1, 0, 0, 0, 0, d1, d1 - 1, -1, -1],\n",
       "[0, 0, 0, 1, 0, 0, 0,  0,      1,  0, -1],\n",
       "[0, 0, 0, 0, 1, 0, 0, d0,     d0, -1, -1],\n",
       "[0, 0, 0, 0, 0, 1, 0, d5, d5 - 1, -1,  0],\n",
       "[0, 0, 0, 0, 0, 0, 1, -1,     -1,  0,  0]])"
      ]
     },
     "metadata": {},
     "output_type": "display_data"
    },
    {
     "data": {
      "text/latex": [
       "$\\displaystyle \\left[\\begin{array}{ccccccccccc}1 & 0 & 0 & 0 & 0 & 0 & 0 & -1 & 0 & 0 & 1\\\\0 & 1 & 0 & 0 & 0 & 0 & 0 & -1 & -1 & 0 & 1\\\\0 & 0 & 1 & 0 & 0 & 0 & 0 & a_{2} & a_{2} - 1 & -1 & -1\\\\0 & 0 & 0 & 1 & 0 & 0 & 0 & 0 & 1 & 0 & -1\\\\0 & 0 & 0 & 0 & 1 & 0 & 0 & a_{4} & a_{4} & -1 & -1\\\\0 & 0 & 0 & 0 & 0 & 1 & 0 & a_{5} & a_{5} - 1 & -1 & 0\\\\0 & 0 & 0 & 0 & 0 & 0 & 1 & -1 & -1 & 0 & 0\\end{array}\\right]$"
      ],
      "text/plain": [
       "Matrix([\n",
       "[1, 0, 0, 0, 0, 0, 0, -1,      0,  0,  1],\n",
       "[0, 1, 0, 0, 0, 0, 0, -1,     -1,  0,  1],\n",
       "[0, 0, 1, 0, 0, 0, 0, a2, a2 - 1, -1, -1],\n",
       "[0, 0, 0, 1, 0, 0, 0,  0,      1,  0, -1],\n",
       "[0, 0, 0, 0, 1, 0, 0, a4,     a4, -1, -1],\n",
       "[0, 0, 0, 0, 0, 1, 0, a5, a5 - 1, -1,  0],\n",
       "[0, 0, 0, 0, 0, 0, 1, -1,     -1,  0,  0]])"
      ]
     },
     "metadata": {},
     "output_type": "display_data"
    }
   ],
   "source": [
    "display(fans[0][:, symm_index[5]].rref()[0])\n",
    "display(fans[4])"
   ]
  },
  {
   "cell_type": "code",
   "execution_count": 130,
   "id": "8591511a-5d76-41fc-9b01-054e3beb2bd1",
   "metadata": {},
   "outputs": [
    {
     "data": {
      "text/latex": [
       "$\\displaystyle \\left[\\begin{array}{ccccccccccc}1 & 0 & 0 & 0 & 0 & 0 & 0 & -1 & 0 & 0 & 1\\\\0 & 1 & 0 & 0 & 0 & 0 & 0 & -1 & -1 & 0 & 1\\\\0 & 0 & 1 & 0 & 0 & 0 & 0 & - d_{0} + d_{5} + 1 & - d_{0} + d_{5} & -1 & -1\\\\0 & 0 & 0 & 1 & 0 & 0 & 0 & 0 & 1 & 0 & -1\\\\0 & 0 & 0 & 0 & 1 & 0 & 0 & 1 - d_{0} & 1 - d_{0} & -1 & -1\\\\0 & 0 & 0 & 0 & 0 & 1 & 0 & - d_{0} + d_{1} & - d_{0} + d_{1} - 1 & -1 & 0\\\\0 & 0 & 0 & 0 & 0 & 0 & 1 & -1 & -1 & 0 & 0\\end{array}\\right]$"
      ],
      "text/plain": [
       "Matrix([\n",
       "[1, 0, 0, 0, 0, 0, 0,           -1,            0,  0,  1],\n",
       "[0, 1, 0, 0, 0, 0, 0,           -1,           -1,  0,  1],\n",
       "[0, 0, 1, 0, 0, 0, 0, -d0 + d5 + 1,     -d0 + d5, -1, -1],\n",
       "[0, 0, 0, 1, 0, 0, 0,            0,            1,  0, -1],\n",
       "[0, 0, 0, 0, 1, 0, 0,       1 - d0,       1 - d0, -1, -1],\n",
       "[0, 0, 0, 0, 0, 1, 0,     -d0 + d1, -d0 + d1 - 1, -1,  0],\n",
       "[0, 0, 0, 0, 0, 0, 1,           -1,           -1,  0,  0]])"
      ]
     },
     "metadata": {},
     "output_type": "display_data"
    },
    {
     "data": {
      "text/latex": [
       "$\\displaystyle \\left[\\begin{array}{ccccccccccc}1 & 0 & 0 & 0 & 0 & 0 & 0 & -1 & 0 & 0 & 1\\\\0 & 1 & 0 & 0 & 0 & 0 & 0 & -1 & -1 & 0 & 1\\\\0 & 0 & 1 & 0 & 0 & 0 & 0 & a_{2} & a_{2} - 1 & -1 & -1\\\\0 & 0 & 0 & 1 & 0 & 0 & 0 & 0 & 1 & 0 & -1\\\\0 & 0 & 0 & 0 & 1 & 0 & 0 & a_{4} & a_{4} & -1 & -1\\\\0 & 0 & 0 & 0 & 0 & 1 & 0 & a_{5} & a_{5} - 1 & -1 & 0\\\\0 & 0 & 0 & 0 & 0 & 0 & 1 & -1 & -1 & 0 & 0\\end{array}\\right]$"
      ],
      "text/plain": [
       "Matrix([\n",
       "[1, 0, 0, 0, 0, 0, 0, -1,      0,  0,  1],\n",
       "[0, 1, 0, 0, 0, 0, 0, -1,     -1,  0,  1],\n",
       "[0, 0, 1, 0, 0, 0, 0, a2, a2 - 1, -1, -1],\n",
       "[0, 0, 0, 1, 0, 0, 0,  0,      1,  0, -1],\n",
       "[0, 0, 0, 0, 1, 0, 0, a4,     a4, -1, -1],\n",
       "[0, 0, 0, 0, 0, 1, 0, a5, a5 - 1, -1,  0],\n",
       "[0, 0, 0, 0, 0, 0, 1, -1,     -1,  0,  0]])"
      ]
     },
     "metadata": {},
     "output_type": "display_data"
    }
   ],
   "source": [
    "display(fans[0][:, symm_index[6]].rref()[0])\n",
    "display(fans[4])"
   ]
  },
  {
   "cell_type": "code",
   "execution_count": 132,
   "id": "c2bda382-c3f6-450e-af75-29fb68faa872",
   "metadata": {},
   "outputs": [
    {
     "data": {
      "text/latex": [
       "$\\displaystyle \\left[\\begin{array}{ccccccccccc}1 & 0 & 0 & 0 & 0 & 0 & 0 & -1 & - d_{0} + d_{5} & - d_{0} + d_{5} & 1\\\\0 & 1 & 0 & 0 & 0 & 0 & 0 & -1 & - d_{0} + d_{5} - 1 & - d_{0} + d_{5} & 1\\\\0 & 0 & 1 & 0 & 0 & 0 & 0 & 1 & d_{0} - d_{5} & d_{0} - d_{5} - 1 & -1\\\\0 & 0 & 0 & 1 & 0 & 0 & 0 & 0 & 1 - d_{5} & - d_{5} & -1\\\\0 & 0 & 0 & 0 & 1 & 0 & 0 & 1 & d_{0} - d_{5} + 1 & d_{0} - d_{5} - 1 & -1\\\\0 & 0 & 0 & 0 & 0 & 1 & 0 & 0 & -1 & -1 & 0\\\\0 & 0 & 0 & 0 & 0 & 0 & 1 & -1 & - d_{0} + d_{1} - 1 & - d_{0} + d_{1} & 0\\end{array}\\right]$"
      ],
      "text/plain": [
       "Matrix([\n",
       "[1, 0, 0, 0, 0, 0, 0, -1,     -d0 + d5,    -d0 + d5,  1],\n",
       "[0, 1, 0, 0, 0, 0, 0, -1, -d0 + d5 - 1,    -d0 + d5,  1],\n",
       "[0, 0, 1, 0, 0, 0, 0,  1,      d0 - d5, d0 - d5 - 1, -1],\n",
       "[0, 0, 0, 1, 0, 0, 0,  0,       1 - d5,         -d5, -1],\n",
       "[0, 0, 0, 0, 1, 0, 0,  1,  d0 - d5 + 1, d0 - d5 - 1, -1],\n",
       "[0, 0, 0, 0, 0, 1, 0,  0,           -1,          -1,  0],\n",
       "[0, 0, 0, 0, 0, 0, 1, -1, -d0 + d1 - 1,    -d0 + d1,  0]])"
      ]
     },
     "metadata": {},
     "output_type": "display_data"
    },
    {
     "data": {
      "text/latex": [
       "$\\displaystyle \\left[\\begin{array}{ccccccccccc}1 & 0 & 0 & 0 & 0 & 0 & 0 & -1 & - c_{2} - 1 & - c_{2} - 1 & 1\\\\0 & 1 & 0 & 0 & 0 & 0 & 0 & -1 & - c_{2} - 2 & - c_{2} - 1 & 1\\\\0 & 0 & 1 & 0 & 0 & 0 & 0 & 1 & c_{2} + 1 & c_{2} & -1\\\\0 & 0 & 0 & 1 & 0 & 0 & 0 & 0 & c_{3} + 1 & c_{3} & -1\\\\0 & 0 & 0 & 0 & 1 & 0 & 0 & 1 & c_{2} + 2 & c_{2} & -1\\\\0 & 0 & 0 & 0 & 0 & 1 & 0 & 0 & -1 & -1 & 0\\\\0 & 0 & 0 & 0 & 0 & 0 & 1 & -1 & c_{6} - 1 & c_{6} & 0\\end{array}\\right]$"
      ],
      "text/plain": [
       "Matrix([\n",
       "[1, 0, 0, 0, 0, 0, 0, -1, -c2 - 1, -c2 - 1,  1],\n",
       "[0, 1, 0, 0, 0, 0, 0, -1, -c2 - 2, -c2 - 1,  1],\n",
       "[0, 0, 1, 0, 0, 0, 0,  1,  c2 + 1,      c2, -1],\n",
       "[0, 0, 0, 1, 0, 0, 0,  0,  c3 + 1,      c3, -1],\n",
       "[0, 0, 0, 0, 1, 0, 0,  1,  c2 + 2,      c2, -1],\n",
       "[0, 0, 0, 0, 0, 1, 0,  0,      -1,      -1,  0],\n",
       "[0, 0, 0, 0, 0, 0, 1, -1,  c6 - 1,      c6,  0]])"
      ]
     },
     "metadata": {},
     "output_type": "display_data"
    }
   ],
   "source": [
    "display(fans[0][:, symm_index[7]].rref()[0])\n",
    "display(fans[2])"
   ]
  },
  {
   "cell_type": "code",
   "execution_count": 133,
   "id": "d46457fe-640f-44be-977e-a53ddc67b692",
   "metadata": {},
   "outputs": [
    {
     "data": {
      "text/latex": [
       "$\\displaystyle \\left[\\begin{array}{ccccccccccc}1 & 0 & 0 & 0 & 0 & 0 & 0 & -1 & -1 & -1 & 1 - d_{0}\\\\0 & 1 & 0 & 0 & 0 & 0 & 0 & -1 & -2 & -1 & - d_{0} + d_{5} + 1\\\\0 & 0 & 1 & 0 & 0 & 0 & 0 & 1 & 1 & 0 & -1\\\\0 & 0 & 0 & 1 & 0 & 0 & 0 & 0 & 1 & 0 & -1\\\\0 & 0 & 0 & 0 & 1 & 0 & 0 & 1 & 2 & 0 & -1\\\\0 & 0 & 0 & 0 & 0 & 1 & 0 & 0 & -1 & -1 & - d_{0} + d_{1}\\\\0 & 0 & 0 & 0 & 0 & 0 & 1 & -1 & -1 & 0 & 0\\end{array}\\right]$"
      ],
      "text/plain": [
       "Matrix([\n",
       "[1, 0, 0, 0, 0, 0, 0, -1, -1, -1,       1 - d0],\n",
       "[0, 1, 0, 0, 0, 0, 0, -1, -2, -1, -d0 + d5 + 1],\n",
       "[0, 0, 1, 0, 0, 0, 0,  1,  1,  0,           -1],\n",
       "[0, 0, 0, 1, 0, 0, 0,  0,  1,  0,           -1],\n",
       "[0, 0, 0, 0, 1, 0, 0,  1,  2,  0,           -1],\n",
       "[0, 0, 0, 0, 0, 1, 0,  0, -1, -1,     -d0 + d1],\n",
       "[0, 0, 0, 0, 0, 0, 1, -1, -1,  0,            0]])"
      ]
     },
     "metadata": {},
     "output_type": "display_data"
    },
    {
     "data": {
      "text/latex": [
       "$\\displaystyle \\left[\\begin{array}{ccccccccccc}1 & 0 & 0 & 0 & 0 & 0 & 0 & -1 & -1 & -1 & d_{0}\\\\0 & 1 & 0 & 0 & 0 & 0 & 0 & -1 & -2 & -1 & d_{1}\\\\0 & 0 & 1 & 0 & 0 & 0 & 0 & 1 & 1 & 0 & -1\\\\0 & 0 & 0 & 1 & 0 & 0 & 0 & 0 & 1 & 0 & -1\\\\0 & 0 & 0 & 0 & 1 & 0 & 0 & 1 & 2 & 0 & -1\\\\0 & 0 & 0 & 0 & 0 & 1 & 0 & 0 & -1 & -1 & d_{5}\\\\0 & 0 & 0 & 0 & 0 & 0 & 1 & -1 & -1 & 0 & 0\\end{array}\\right]$"
      ],
      "text/plain": [
       "Matrix([\n",
       "[1, 0, 0, 0, 0, 0, 0, -1, -1, -1, d0],\n",
       "[0, 1, 0, 0, 0, 0, 0, -1, -2, -1, d1],\n",
       "[0, 0, 1, 0, 0, 0, 0,  1,  1,  0, -1],\n",
       "[0, 0, 0, 1, 0, 0, 0,  0,  1,  0, -1],\n",
       "[0, 0, 0, 0, 1, 0, 0,  1,  2,  0, -1],\n",
       "[0, 0, 0, 0, 0, 1, 0,  0, -1, -1, d5],\n",
       "[0, 0, 0, 0, 0, 0, 1, -1, -1,  0,  0]])"
      ]
     },
     "metadata": {},
     "output_type": "display_data"
    }
   ],
   "source": [
    "display(fans[0][:, symm_index[8]].rref()[0])\n",
    "display(fans[0])"
   ]
  },
  {
   "cell_type": "code",
   "execution_count": 134,
   "id": "9e5b489b-fd35-4314-89b8-df70f5676dc7",
   "metadata": {},
   "outputs": [
    {
     "data": {
      "text/latex": [
       "$\\displaystyle \\left[\\begin{array}{ccccccccccc}1 & 0 & 0 & 0 & 0 & 0 & 0 & -1 & - d_{0} & - d_{0} & 1 - d_{0}\\\\0 & 1 & 0 & 0 & 0 & 0 & 0 & -1 & - d_{0} + d_{5} - 1 & - d_{0} + d_{5} & - d_{0} + d_{5} + 1\\\\0 & 0 & 1 & 0 & 0 & 0 & 0 & 0 & -1 & -1 & -1\\\\0 & 0 & 0 & 1 & 0 & 0 & 0 & 0 & 1 & 0 & -1\\\\0 & 0 & 0 & 0 & 1 & 0 & 0 & 0 & 0 & -1 & -1\\\\0 & 0 & 0 & 0 & 0 & 1 & 0 & 0 & -1 & -1 & 0\\\\0 & 0 & 0 & 0 & 0 & 0 & 1 & -1 & - d_{0} + d_{1} - 1 & - d_{0} + d_{1} & - d_{0} + d_{1}\\end{array}\\right]$"
      ],
      "text/plain": [
       "Matrix([\n",
       "[1, 0, 0, 0, 0, 0, 0, -1,          -d0,      -d0,       1 - d0],\n",
       "[0, 1, 0, 0, 0, 0, 0, -1, -d0 + d5 - 1, -d0 + d5, -d0 + d5 + 1],\n",
       "[0, 0, 1, 0, 0, 0, 0,  0,           -1,       -1,           -1],\n",
       "[0, 0, 0, 1, 0, 0, 0,  0,            1,        0,           -1],\n",
       "[0, 0, 0, 0, 1, 0, 0,  0,            0,       -1,           -1],\n",
       "[0, 0, 0, 0, 0, 1, 0,  0,           -1,       -1,            0],\n",
       "[0, 0, 0, 0, 0, 0, 1, -1, -d0 + d1 - 1, -d0 + d1,     -d0 + d1]])"
      ]
     },
     "metadata": {},
     "output_type": "display_data"
    },
    {
     "data": {
      "text/latex": [
       "$\\displaystyle \\left[\\begin{array}{ccccccccccc}1 & 0 & 0 & 0 & 0 & 0 & 0 & -1 & d_{0} - 1 & d_{0} - 1 & d_{0}\\\\0 & 1 & 0 & 0 & 0 & 0 & 0 & -1 & d_{1} - 2 & d_{1} - 1 & d_{1}\\\\0 & 0 & 1 & 0 & 0 & 0 & 0 & 0 & -1 & -1 & -1\\\\0 & 0 & 0 & 1 & 0 & 0 & 0 & 0 & 1 & 0 & -1\\\\0 & 0 & 0 & 0 & 1 & 0 & 0 & 0 & 0 & -1 & -1\\\\0 & 0 & 0 & 0 & 0 & 1 & 0 & 0 & -1 & -1 & 0\\\\0 & 0 & 0 & 0 & 0 & 0 & 1 & -1 & d_{6} - 1 & d_{6} & d_{6}\\end{array}\\right]$"
      ],
      "text/plain": [
       "Matrix([\n",
       "[1, 0, 0, 0, 0, 0, 0, -1, d0 - 1, d0 - 1, d0],\n",
       "[0, 1, 0, 0, 0, 0, 0, -1, d1 - 2, d1 - 1, d1],\n",
       "[0, 0, 1, 0, 0, 0, 0,  0,     -1,     -1, -1],\n",
       "[0, 0, 0, 1, 0, 0, 0,  0,      1,      0, -1],\n",
       "[0, 0, 0, 0, 1, 0, 0,  0,      0,     -1, -1],\n",
       "[0, 0, 0, 0, 0, 1, 0,  0,     -1,     -1,  0],\n",
       "[0, 0, 0, 0, 0, 0, 1, -1, d6 - 1,     d6, d6]])"
      ]
     },
     "metadata": {},
     "output_type": "display_data"
    }
   ],
   "source": [
    "display(fans[0][:, symm_index[9]].rref()[0])\n",
    "display(fans[1])"
   ]
  }
 ],
 "metadata": {
  "kernelspec": {
   "display_name": "Python 3 (ipykernel)",
   "language": "python",
   "name": "python3"
  },
  "language_info": {
   "codemirror_mode": {
    "name": "ipython",
    "version": 3
   },
   "file_extension": ".py",
   "mimetype": "text/x-python",
   "name": "python",
   "nbconvert_exporter": "python",
   "pygments_lexer": "ipython3",
   "version": "3.12.7"
  }
 },
 "nbformat": 4,
 "nbformat_minor": 5
}
