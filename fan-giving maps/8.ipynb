{
 "cells": [
  {
   "cell_type": "markdown",
   "id": "fc9e9158-d2ea-4985-b6c0-66e659456fc8",
   "metadata": {
    "jp-MarkdownHeadingCollapsed": true
   },
   "source": [
    "# Preparation"
   ]
  },
  {
   "cell_type": "code",
   "execution_count": 1,
   "id": "9d7a181e-0dec-41db-a2e2-c5c0284f864b",
   "metadata": {},
   "outputs": [],
   "source": [
    "%run programs\\\\Characteristic_Pair.py\n",
    "import copy\n",
    "from tqdm import trange\n",
    "K = Simplicial_Complex(json.loads(read_file('programs\\\\fanlikes')[8]))\n",
    "M = initial_char(K.n)\n",
    "C0 = Characteristic_Pair(K, M)\n",
    "fans = []\n",
    "\n",
    "a = sp.symbols('a0:%d'%K.n)\n",
    "b = sp.symbols('b0:%d'%K.n)\n",
    "c = sp.symbols('c0:%d'%K.n)\n",
    "d = sp.symbols('d0:%d'%K.n)\n",
    "\n",
    "a0, a1, a2, a3 = a[:]\n",
    "b0, b1, b2, b3 = b[:]\n",
    "c0, c1, c2, c3 = c[:]\n",
    "d0, d1, d2, d3 = d[:]"
   ]
  },
  {
   "cell_type": "code",
   "execution_count": 2,
   "id": "986fdc17-3aea-436b-8d1a-cd8609f17931",
   "metadata": {},
   "outputs": [
    {
     "data": {
      "text/latex": [
       "$\\displaystyle \\left[\\begin{matrix}1 & 0 & 0 & 0 & a_{0} & b_{0} & c_{0} & d_{0}\\\\0 & 1 & 0 & 0 & a_{1} & b_{1} & c_{1} & d_{1}\\\\0 & 0 & 1 & 0 & a_{2} & b_{2} & c_{2} & d_{2}\\\\0 & 0 & 0 & 1 & a_{3} & b_{3} & c_{3} & d_{3}\\end{matrix}\\right]$"
      ],
      "text/plain": [
       "Matrix([\n",
       "[1, 0, 0, 0, a0, b0, c0, d0],\n",
       "[0, 1, 0, 0, a1, b1, c1, d1],\n",
       "[0, 0, 1, 0, a2, b2, c2, d2],\n",
       "[0, 0, 0, 1, a3, b3, c3, d3]])"
      ]
     },
     "execution_count": 2,
     "metadata": {},
     "output_type": "execute_result"
    }
   ],
   "source": [
    "C = C0\n",
    "C.char"
   ]
  },
  {
   "cell_type": "code",
   "execution_count": 3,
   "id": "98e24b52-f3e4-43c5-88b4-0aafa8c373e0",
   "metadata": {},
   "outputs": [
    {
     "name": "stdout",
     "output_type": "stream",
     "text": [
      "facet number: 10\n"
     ]
    },
    {
     "data": {
      "text/latex": [
       "$\\displaystyle - a_{0} = 1$"
      ],
      "text/plain": [
       "Eq(-a0, 1)"
      ]
     },
     "metadata": {},
     "output_type": "display_data"
    },
    {
     "name": "stdout",
     "output_type": "stream",
     "text": [
      "facet number: 1\n"
     ]
    },
    {
     "data": {
      "text/latex": [
       "$\\displaystyle a_{3} = -1$"
      ],
      "text/plain": [
       "Eq(a3, -1)"
      ]
     },
     "metadata": {},
     "output_type": "display_data"
    },
    {
     "name": "stdout",
     "output_type": "stream",
     "text": [
      "facet number: 4\n"
     ]
    },
    {
     "data": {
      "text/latex": [
       "$\\displaystyle b_{1} = -1$"
      ],
      "text/plain": [
       "Eq(b1, -1)"
      ]
     },
     "metadata": {},
     "output_type": "display_data"
    },
    {
     "name": "stdout",
     "output_type": "stream",
     "text": [
      "facet number: 2\n"
     ]
    },
    {
     "data": {
      "text/latex": [
       "$\\displaystyle - c_{2} = 1$"
      ],
      "text/plain": [
       "Eq(-c2, 1)"
      ]
     },
     "metadata": {},
     "output_type": "display_data"
    }
   ],
   "source": [
    "i=10\n",
    "print('facet number:', i)\n",
    "display(sp.Eq(C.determinants[i], C.orientation[i]))\n",
    "\n",
    "i=1\n",
    "print('facet number:', i)\n",
    "display(sp.Eq(C.determinants[i], C.orientation[i]))\n",
    "\n",
    "i=4\n",
    "print('facet number:', i)\n",
    "display(sp.Eq(C.determinants[i], C.orientation[i]))\n",
    "\n",
    "i=2\n",
    "print('facet number:', i)\n",
    "display(sp.Eq(C.determinants[i], C.orientation[i]))\n",
    "\n",
    "C.subs(a0, -1)\n",
    "C.subs(a3, -1)\n",
    "C.subs(b1, -1)\n",
    "C.subs(c2, -1)"
   ]
  },
  {
   "cell_type": "markdown",
   "id": "631f4016-0ab5-4f6e-9f25-521a01eb8d1b",
   "metadata": {
    "jp-MarkdownHeadingCollapsed": true
   },
   "source": [
    "# The projection with respect to 4"
   ]
  },
  {
   "cell_type": "code",
   "execution_count": 4,
   "id": "c3571460-0f45-45eb-9890-eb374207c92c",
   "metadata": {},
   "outputs": [
    {
     "name": "stdout",
     "output_type": "stream",
     "text": [
      "[[1, 2, 3], [1, 2, 7], [1, 3, 6], [1, 6, 7], [2, 3, 5], [2, 5, 7], [3, 5, 6], [5, 6, 8], [5, 7, 8], [6, 7, 8]]\n"
     ]
    }
   ],
   "source": [
    "print(Link(K, [4]).cpx)"
   ]
  },
  {
   "cell_type": "code",
   "execution_count": 5,
   "id": "7741a5f8-3450-4262-968c-95773233cfaf",
   "metadata": {},
   "outputs": [
    {
     "name": "stdout",
     "output_type": "stream",
     "text": [
      "[[1, 2, 3], [1, 2, 6], [1, 3, 5], [1, 5, 6], [2, 3, 4], [2, 4, 6], [3, 4, 5], [4, 5, 7], [4, 6, 7], [5, 6, 7]]\n"
     ]
    }
   ],
   "source": [
    "print(json.loads(read_file('programs\\\\fanlikes')[2]))"
   ]
  },
  {
   "cell_type": "code",
   "execution_count": 6,
   "id": "fccd4456-16c5-4069-a636-eb0f6a628e7c",
   "metadata": {},
   "outputs": [
    {
     "name": "stdout",
     "output_type": "stream",
     "text": [
      "[[1, 2, 3], [1, 2, 6], [1, 3, 5], [1, 5, 6], [2, 3, 4], [2, 4, 6], [3, 4, 5], [4, 5, 7], [4, 6, 7], [5, 6, 7]]\n"
     ]
    },
    {
     "data": {
      "text/plain": [
       "True"
      ]
     },
     "execution_count": 6,
     "metadata": {},
     "output_type": "execute_result"
    }
   ],
   "source": [
    "L=[] # making the vertices of the link consecutive\n",
    "for l in Link(K, [4]).cpx:\n",
    "    L.append([])\n",
    "    for v in l:\n",
    "        if v>4:\n",
    "            L[-1].append(v-1)\n",
    "        else:\n",
    "            L[-1].append(v)\n",
    "print(L)\n",
    "L==json.loads(read_file('programs\\\\fanlikes')[2])"
   ]
  },
  {
   "cell_type": "code",
   "execution_count": 7,
   "id": "faef009c-c38a-484f-b426-cc183a86c848",
   "metadata": {},
   "outputs": [
    {
     "data": {
      "text/latex": [
       "$\\displaystyle \\left[\\begin{matrix}1 & 0 & 0 & -1 & b_{0} & c_{0} & d_{0}\\\\0 & 1 & 0 & a_{1} & -1 & c_{1} & d_{1}\\\\0 & 0 & 1 & a_{2} & b_{2} & -1 & d_{2}\\end{matrix}\\right]$"
      ],
      "text/plain": [
       "Matrix([\n",
       "[1, 0, 0, -1, b0, c0, d0],\n",
       "[0, 1, 0, a1, -1, c1, d1],\n",
       "[0, 0, 1, a2, b2, -1, d2]])"
      ]
     },
     "metadata": {},
     "output_type": "display_data"
    }
   ],
   "source": [
    "display(C.proj([4]))"
   ]
  },
  {
   "cell_type": "markdown",
   "id": "c49bc3ef-64d0-49f2-9227-f0bafa173034",
   "metadata": {
    "jp-MarkdownHeadingCollapsed": true
   },
   "source": [
    "# The projection has 16 types of fans up to D-J equivalence"
   ]
  },
  {
   "cell_type": "code",
   "execution_count": 8,
   "id": "24f52878-1cd6-41e8-9f26-443eb7aa58f4",
   "metadata": {},
   "outputs": [],
   "source": [
    "import pickle\n",
    "with open('programs\\\\pickle_files\\\\2_up_to_DJ.p', 'rb') as f:\n",
    "    fans_link = pickle.load(f)"
   ]
  },
  {
   "cell_type": "code",
   "execution_count": 9,
   "id": "5406de59-6268-4d8e-9361-074083c46f5a",
   "metadata": {
    "scrolled": true
   },
   "outputs": [
    {
     "data": {
      "text/latex": [
       "$\\displaystyle \\left[\\begin{matrix}1 & 0 & 0 & -1 & 1 & 0 & 0\\\\0 & 1 & 0 & 0 & -1 & c_{1} & -1\\\\0 & 0 & 1 & 1 & 0 & -1 & 0\\end{matrix}\\right]$"
      ],
      "text/plain": [
       "Matrix([\n",
       "[1, 0, 0, -1,  1,  0,  0],\n",
       "[0, 1, 0,  0, -1, c1, -1],\n",
       "[0, 0, 1,  1,  0, -1,  0]])"
      ]
     },
     "metadata": {},
     "output_type": "display_data"
    },
    {
     "data": {
      "text/latex": [
       "$\\displaystyle \\left[\\begin{matrix}1 & 0 & 0 & -1 & -1 & 0 & -1\\\\0 & 1 & 0 & 0 & -1 & -1 & -1\\\\0 & 0 & 1 & -1 & 0 & -1 & -1\\end{matrix}\\right]$"
      ],
      "text/plain": [
       "Matrix([\n",
       "[1, 0, 0, -1, -1,  0, -1],\n",
       "[0, 1, 0,  0, -1, -1, -1],\n",
       "[0, 0, 1, -1,  0, -1, -1]])"
      ]
     },
     "metadata": {},
     "output_type": "display_data"
    },
    {
     "data": {
      "text/latex": [
       "$\\displaystyle \\left[\\begin{matrix}1 & 0 & 0 & -1 & 0 & c_{0} & -1\\\\0 & 1 & 0 & 1 & -1 & 0 & 0\\\\0 & 0 & 1 & 0 & 1 & -1 & 0\\end{matrix}\\right]$"
      ],
      "text/plain": [
       "Matrix([\n",
       "[1, 0, 0, -1,  0, c0, -1],\n",
       "[0, 1, 0,  1, -1,  0,  0],\n",
       "[0, 0, 1,  0,  1, -1,  0]])"
      ]
     },
     "metadata": {},
     "output_type": "display_data"
    },
    {
     "data": {
      "text/latex": [
       "$\\displaystyle \\left[\\begin{matrix}1 & 0 & 0 & -1 & 0 & 1 & 0\\\\0 & 1 & 0 & a_{1} & -1 & 0 & -1\\\\0 & 0 & 1 & 0 & 1 & -1 & 0\\end{matrix}\\right]$"
      ],
      "text/plain": [
       "Matrix([\n",
       "[1, 0, 0, -1,  0,  1,  0],\n",
       "[0, 1, 0, a1, -1,  0, -1],\n",
       "[0, 0, 1,  0,  1, -1,  0]])"
      ]
     },
     "metadata": {},
     "output_type": "display_data"
    },
    {
     "data": {
      "text/latex": [
       "$\\displaystyle \\left[\\begin{matrix}1 & 0 & 0 & -1 & b_{0} & 0 & b_{0} - 1\\\\0 & 1 & 0 & 0 & -1 & 0 & -1\\\\0 & 0 & 1 & a_{2} & b_{2} & -1 & a_{2} + b_{2} - 1\\end{matrix}\\right]$"
      ],
      "text/plain": [
       "Matrix([\n",
       "[1, 0, 0, -1, b0,  0,      b0 - 1],\n",
       "[0, 1, 0,  0, -1,  0,          -1],\n",
       "[0, 0, 1, a2, b2, -1, a2 + b2 - 1]])"
      ]
     },
     "metadata": {},
     "output_type": "display_data"
    },
    {
     "data": {
      "text/latex": [
       "$\\displaystyle \\left[\\begin{matrix}1 & 0 & 0 & -1 & 0 & 0 & -1\\\\0 & 1 & 0 & a_{1} & -1 & 0 & a_{1} - 1\\\\0 & 0 & 1 & a_{2} & b_{2} & -1 & a_{2} + b_{2} - 1\\end{matrix}\\right]$"
      ],
      "text/plain": [
       "Matrix([\n",
       "[1, 0, 0, -1,  0,  0,          -1],\n",
       "[0, 1, 0, a1, -1,  0,      a1 - 1],\n",
       "[0, 0, 1, a2, b2, -1, a2 + b2 - 1]])"
      ]
     },
     "metadata": {},
     "output_type": "display_data"
    },
    {
     "data": {
      "text/latex": [
       "$\\displaystyle \\left[\\begin{matrix}1 & 0 & 0 & -1 & b_{0} & c_{0} & b_{0} + c_{0} - 1\\\\0 & 1 & 0 & 0 & -1 & 0 & -1\\\\0 & 0 & 1 & 0 & b_{2} & -1 & b_{2} - 1\\end{matrix}\\right]$"
      ],
      "text/plain": [
       "Matrix([\n",
       "[1, 0, 0, -1, b0, c0, b0 + c0 - 1],\n",
       "[0, 1, 0,  0, -1,  0,          -1],\n",
       "[0, 0, 1,  0, b2, -1,      b2 - 1]])"
      ]
     },
     "metadata": {},
     "output_type": "display_data"
    },
    {
     "data": {
      "text/latex": [
       "$\\displaystyle \\left[\\begin{matrix}1 & 0 & 0 & -1 & b_{0} & c_{0} & b_{0} + c_{0} - 1\\\\0 & 1 & 0 & 0 & -1 & c_{1} & c_{1} - 1\\\\0 & 0 & 1 & 0 & 0 & -1 & -1\\end{matrix}\\right]$"
      ],
      "text/plain": [
       "Matrix([\n",
       "[1, 0, 0, -1, b0, c0, b0 + c0 - 1],\n",
       "[0, 1, 0,  0, -1, c1,      c1 - 1],\n",
       "[0, 0, 1,  0,  0, -1,          -1]])"
      ]
     },
     "metadata": {},
     "output_type": "display_data"
    },
    {
     "data": {
      "text/latex": [
       "$\\displaystyle \\left[\\begin{matrix}1 & 0 & 0 & -1 & 0 & c_{0} & c_{0} - 1\\\\0 & 1 & 0 & a_{1} & -1 & c_{1} & a_{1} + c_{1} - 1\\\\0 & 0 & 1 & 0 & 0 & -1 & -1\\end{matrix}\\right]$"
      ],
      "text/plain": [
       "Matrix([\n",
       "[1, 0, 0, -1,  0, c0,      c0 - 1],\n",
       "[0, 1, 0, a1, -1, c1, a1 + c1 - 1],\n",
       "[0, 0, 1,  0,  0, -1,          -1]])"
      ]
     },
     "metadata": {},
     "output_type": "display_data"
    },
    {
     "data": {
      "text/latex": [
       "$\\displaystyle \\left[\\begin{matrix}1 & 0 & 0 & -1 & 0 & 0 & -1\\\\0 & 1 & 0 & a_{1} & -1 & c_{1} & a_{1} + c_{1} - 1\\\\0 & 0 & 1 & a_{2} & 0 & -1 & a_{2} - 1\\end{matrix}\\right]$"
      ],
      "text/plain": [
       "Matrix([\n",
       "[1, 0, 0, -1,  0,  0,          -1],\n",
       "[0, 1, 0, a1, -1, c1, a1 + c1 - 1],\n",
       "[0, 0, 1, a2,  0, -1,      a2 - 1]])"
      ]
     },
     "metadata": {},
     "output_type": "display_data"
    },
    {
     "data": {
      "text/latex": [
       "$\\displaystyle \\left[\\begin{matrix}1 & 0 & 0 & -1 & 0 & 1 & 0\\\\0 & 1 & 0 & 1 & -1 & 0 & 0\\\\0 & 0 & 1 & 0 & b_{2} & -1 & -1\\end{matrix}\\right]$"
      ],
      "text/plain": [
       "Matrix([\n",
       "[1, 0, 0, -1,  0,  1,  0],\n",
       "[0, 1, 0,  1, -1,  0,  0],\n",
       "[0, 0, 1,  0, b2, -1, -1]])"
      ]
     },
     "metadata": {},
     "output_type": "display_data"
    },
    {
     "data": {
      "text/latex": [
       "$\\displaystyle \\left[\\begin{matrix}1 & 0 & 0 & -1 & 0 & -1 & -1\\\\0 & 1 & 0 & -1 & -1 & 0 & -1\\\\0 & 0 & 1 & 0 & -1 & -1 & -1\\end{matrix}\\right]$"
      ],
      "text/plain": [
       "Matrix([\n",
       "[1, 0, 0, -1,  0, -1, -1],\n",
       "[0, 1, 0, -1, -1,  0, -1],\n",
       "[0, 0, 1,  0, -1, -1, -1]])"
      ]
     },
     "metadata": {},
     "output_type": "display_data"
    },
    {
     "data": {
      "text/latex": [
       "$\\displaystyle \\left[\\begin{matrix}1 & 0 & 0 & -1 & b_{0} & 0 & -1\\\\0 & 1 & 0 & 0 & -1 & 1 & 0\\\\0 & 0 & 1 & 1 & 0 & -1 & 0\\end{matrix}\\right]$"
      ],
      "text/plain": [
       "Matrix([\n",
       "[1, 0, 0, -1, b0,  0, -1],\n",
       "[0, 1, 0,  0, -1,  1,  0],\n",
       "[0, 0, 1,  1,  0, -1,  0]])"
      ]
     },
     "metadata": {},
     "output_type": "display_data"
    },
    {
     "data": {
      "text/latex": [
       "$\\displaystyle \\left[\\begin{matrix}1 & 0 & 0 & -1 & 1 & 0 & 0\\\\0 & 1 & 0 & 0 & -1 & 1 & 0\\\\0 & 0 & 1 & a_{2} & 0 & -1 & -1\\end{matrix}\\right]$"
      ],
      "text/plain": [
       "Matrix([\n",
       "[1, 0, 0, -1,  1,  0,  0],\n",
       "[0, 1, 0,  0, -1,  1,  0],\n",
       "[0, 0, 1, a2,  0, -1, -1]])"
      ]
     },
     "metadata": {},
     "output_type": "display_data"
    },
    {
     "data": {
      "text/latex": [
       "$\\displaystyle \\left[\\begin{matrix}1 & 0 & 0 & -1 & 1 & 0 & d_{0}\\\\0 & 1 & 0 & 0 & -1 & 1 & d_{1}\\\\0 & 0 & 1 & 1 & 0 & -1 & - d_{0} - d_{1} - 1\\end{matrix}\\right]$"
      ],
      "text/plain": [
       "Matrix([\n",
       "[1, 0, 0, -1,  1,  0,           d0],\n",
       "[0, 1, 0,  0, -1,  1,           d1],\n",
       "[0, 0, 1,  1,  0, -1, -d0 - d1 - 1]])"
      ]
     },
     "metadata": {},
     "output_type": "display_data"
    },
    {
     "data": {
      "text/latex": [
       "$\\displaystyle \\left[\\begin{matrix}1 & 0 & 0 & -1 & 0 & 1 & d_{0}\\\\0 & 1 & 0 & 1 & -1 & 0 & d_{1}\\\\0 & 0 & 1 & 0 & 1 & -1 & - d_{0} - d_{1} - 1\\end{matrix}\\right]$"
      ],
      "text/plain": [
       "Matrix([\n",
       "[1, 0, 0, -1,  0,  1,           d0],\n",
       "[0, 1, 0,  1, -1,  0,           d1],\n",
       "[0, 0, 1,  0,  1, -1, -d0 - d1 - 1]])"
      ]
     },
     "metadata": {},
     "output_type": "display_data"
    }
   ],
   "source": [
    "for f in fans_link:\n",
    "    display(f)"
   ]
  },
  {
   "cell_type": "markdown",
   "id": "457ca9f5-c334-49a4-9dff-5f7e756153f6",
   "metadata": {
    "jp-MarkdownHeadingCollapsed": true
   },
   "source": [
    "# Type 0 of the projection"
   ]
  },
  {
   "cell_type": "code",
   "execution_count": 10,
   "id": "d76abe7a-0698-462b-afa1-46b0e8f2999a",
   "metadata": {},
   "outputs": [],
   "source": [
    "C1 = copy.deepcopy(C0)\n",
    "C = C1\n",
    "t=0"
   ]
  },
  {
   "cell_type": "code",
   "execution_count": 11,
   "id": "f7ffd1dd-73a1-4e46-8a57-b0e0fc63699e",
   "metadata": {},
   "outputs": [
    {
     "data": {
      "text/latex": [
       "$\\displaystyle \\left[\\begin{matrix}1 & 0 & 0 & -1 & b_{0} & c_{0} & d_{0}\\\\0 & 1 & 0 & a_{1} & -1 & c_{1} & d_{1}\\\\0 & 0 & 1 & a_{2} & b_{2} & -1 & d_{2}\\end{matrix}\\right] = \\left[\\begin{matrix}1 & 0 & 0 & -1 & 1 & 0 & 0\\\\0 & 1 & 0 & 0 & -1 & c_{1} & -1\\\\0 & 0 & 1 & 1 & 0 & -1 & 0\\end{matrix}\\right]$"
      ],
      "text/plain": [
       "Eq(Matrix([\n",
       "[1, 0, 0, -1, b0, c0, d0],\n",
       "[0, 1, 0, a1, -1, c1, d1],\n",
       "[0, 0, 1, a2, b2, -1, d2]]), Matrix([\n",
       "[1, 0, 0, -1,  1,  0,  0],\n",
       "[0, 1, 0,  0, -1, c1, -1],\n",
       "[0, 0, 1,  1,  0, -1,  0]]))"
      ]
     },
     "metadata": {},
     "output_type": "display_data"
    },
    {
     "data": {
      "text/latex": [
       "$\\displaystyle \\text{True}$"
      ],
      "text/plain": [
       "True"
      ]
     },
     "metadata": {},
     "output_type": "display_data"
    }
   ],
   "source": [
    "proj = C.proj([4])\n",
    "with sp.evaluate(False):\n",
    "    display(sp.Eq(proj, fans_link[t]))\n",
    "\n",
    "C.subs(a1, 0)\n",
    "C.subs(a2, 1)\n",
    "C.subs(b0, 1)\n",
    "C.subs(b2, 0)\n",
    "C.subs(c0, 0)\n",
    "C.subs(d0, 0)\n",
    "C.subs(d1, -1)\n",
    "C.subs(d2, 0)\n",
    "\n",
    "display(sp.Eq(C.proj([4]), fans_link[t]))"
   ]
  },
  {
   "cell_type": "code",
   "execution_count": 12,
   "id": "7d36f051-f65c-416b-be9c-57bb34cccce2",
   "metadata": {},
   "outputs": [
    {
     "name": "stdout",
     "output_type": "stream",
     "text": [
      "facet number: 6\n"
     ]
    },
    {
     "data": {
      "text/latex": [
       "$\\displaystyle - b_{3} + d_{3} = -1$"
      ],
      "text/plain": [
       "Eq(-b3 + d3, -1)"
      ]
     },
     "metadata": {},
     "output_type": "display_data"
    },
    {
     "name": "stdout",
     "output_type": "stream",
     "text": [
      "facet number: 13\n"
     ]
    },
    {
     "data": {
      "text/latex": [
       "$\\displaystyle - b_{3} + d_{3} + 1 = -1$"
      ],
      "text/plain": [
       "Eq(-b3 + d3 + 1, -1)"
      ]
     },
     "metadata": {},
     "output_type": "display_data"
    },
    {
     "name": "stdout",
     "output_type": "stream",
     "text": [
      "no solution\n"
     ]
    }
   ],
   "source": [
    "i=6\n",
    "print('facet number:', i)\n",
    "display(sp.Eq(C.determinants[i], C.orientation[i]))\n",
    "\n",
    "i=13\n",
    "print('facet number:', i)\n",
    "display(sp.Eq(C.determinants[i], C.orientation[i]))\n",
    "\n",
    "print('no solution')"
   ]
  },
  {
   "cell_type": "markdown",
   "id": "aa855fa4-6cb7-47d4-b27e-884e8c627e74",
   "metadata": {
    "jp-MarkdownHeadingCollapsed": true
   },
   "source": [
    "# Type 1 of the projection"
   ]
  },
  {
   "cell_type": "code",
   "execution_count": 13,
   "id": "5cf59d8c-1bd4-426f-9286-fdbd40bcfbb8",
   "metadata": {},
   "outputs": [],
   "source": [
    "C1 = copy.deepcopy(C0)\n",
    "C = C1\n",
    "t=1"
   ]
  },
  {
   "cell_type": "code",
   "execution_count": 14,
   "id": "5faafd5f-4ed0-43d1-aa66-6883de844427",
   "metadata": {},
   "outputs": [
    {
     "data": {
      "text/latex": [
       "$\\displaystyle \\left[\\begin{matrix}1 & 0 & 0 & -1 & b_{0} & c_{0} & d_{0}\\\\0 & 1 & 0 & a_{1} & -1 & c_{1} & d_{1}\\\\0 & 0 & 1 & a_{2} & b_{2} & -1 & d_{2}\\end{matrix}\\right] = \\left[\\begin{matrix}1 & 0 & 0 & -1 & -1 & 0 & -1\\\\0 & 1 & 0 & 0 & -1 & -1 & -1\\\\0 & 0 & 1 & -1 & 0 & -1 & -1\\end{matrix}\\right]$"
      ],
      "text/plain": [
       "Eq(Matrix([\n",
       "[1, 0, 0, -1, b0, c0, d0],\n",
       "[0, 1, 0, a1, -1, c1, d1],\n",
       "[0, 0, 1, a2, b2, -1, d2]]), Matrix([\n",
       "[1, 0, 0, -1, -1,  0, -1],\n",
       "[0, 1, 0,  0, -1, -1, -1],\n",
       "[0, 0, 1, -1,  0, -1, -1]]))"
      ]
     },
     "metadata": {},
     "output_type": "display_data"
    },
    {
     "data": {
      "text/latex": [
       "$\\displaystyle \\text{True}$"
      ],
      "text/plain": [
       "True"
      ]
     },
     "metadata": {},
     "output_type": "display_data"
    }
   ],
   "source": [
    "proj = C.proj([4])\n",
    "with sp.evaluate(False):\n",
    "    display(sp.Eq(proj, fans_link[t]))\n",
    "\n",
    "C.subs(a1, 0)\n",
    "C.subs(a2, -1)\n",
    "C.subs(b0, -1)\n",
    "C.subs(b2, 0)\n",
    "C.subs(c0, 0)\n",
    "C.subs(c1, -1)\n",
    "C.subs(d0, -1)\n",
    "C.subs(d1, -1)\n",
    "C.subs(d2, -1)\n",
    "\n",
    "display(sp.Eq(C.proj([4]), fans_link[t]))"
   ]
  },
  {
   "cell_type": "code",
   "execution_count": 15,
   "id": "d8a99deb-3173-402f-a7b7-b8eaf8227855",
   "metadata": {},
   "outputs": [
    {
     "name": "stdout",
     "output_type": "stream",
     "text": [
      "facet number: 3\n"
     ]
    },
    {
     "data": {
      "text/latex": [
       "$\\displaystyle - c_{3} - 1 = -1$"
      ],
      "text/plain": [
       "Eq(-c3 - 1, -1)"
      ]
     },
     "metadata": {},
     "output_type": "display_data"
    }
   ],
   "source": [
    "i=3\n",
    "print('facet number:', i)\n",
    "display(sp.Eq(C.determinants[i], C.orientation[i]))\n",
    "\n",
    "C.subs(c3, 0)"
   ]
  },
  {
   "cell_type": "code",
   "execution_count": 16,
   "id": "ecc63669-17ca-47ed-b96b-000071196697",
   "metadata": {},
   "outputs": [
    {
     "name": "stdout",
     "output_type": "stream",
     "text": [
      "facet number: 8\n"
     ]
    },
    {
     "data": {
      "text/latex": [
       "$\\displaystyle - d_{3} = 1$"
      ],
      "text/plain": [
       "Eq(-d3, 1)"
      ]
     },
     "metadata": {},
     "output_type": "display_data"
    }
   ],
   "source": [
    "i=8\n",
    "print('facet number:', i)\n",
    "display(sp.Eq(C.determinants[i], C.orientation[i]))\n",
    "\n",
    "C.subs(d3, -1)"
   ]
  },
  {
   "cell_type": "code",
   "execution_count": 17,
   "id": "b77c6a08-1a42-468d-a346-7304cdae0249",
   "metadata": {},
   "outputs": [
    {
     "name": "stdout",
     "output_type": "stream",
     "text": [
      "facet number: 6\n"
     ]
    },
    {
     "data": {
      "text/latex": [
       "$\\displaystyle - b_{3} - 1 = -1$"
      ],
      "text/plain": [
       "Eq(-b3 - 1, -1)"
      ]
     },
     "metadata": {},
     "output_type": "display_data"
    }
   ],
   "source": [
    "i=6\n",
    "print('facet number:', i)\n",
    "display(sp.Eq(C.determinants[i], C.orientation[i]))\n",
    "\n",
    "C.subs(b3, 0)"
   ]
  },
  {
   "cell_type": "code",
   "execution_count": 18,
   "id": "77c280fd-8764-4636-8c2b-aa1772785e03",
   "metadata": {},
   "outputs": [
    {
     "data": {
      "text/latex": [
       "$\\displaystyle \\left[\\begin{matrix}1 & 0 & 0 & 0 & -1 & -1 & 0 & -1\\\\0 & 1 & 0 & 0 & 0 & -1 & -1 & -1\\\\0 & 0 & 1 & 0 & -1 & 0 & -1 & -1\\\\0 & 0 & 0 & 1 & -1 & 0 & 0 & -1\\end{matrix}\\right]$"
      ],
      "text/plain": [
       "Matrix([\n",
       "[1, 0, 0, 0, -1, -1,  0, -1],\n",
       "[0, 1, 0, 0,  0, -1, -1, -1],\n",
       "[0, 0, 1, 0, -1,  0, -1, -1],\n",
       "[0, 0, 0, 1, -1,  0,  0, -1]])"
      ]
     },
     "metadata": {},
     "output_type": "display_data"
    },
    {
     "name": "stdout",
     "output_type": "stream",
     "text": [
      "1\n"
     ]
    }
   ],
   "source": [
    "display(C.char)\n",
    "print(C.is_fangiving)\n",
    "fans.append(C.char)"
   ]
  },
  {
   "cell_type": "markdown",
   "id": "0c211e38-6111-4695-968e-77c42822a24f",
   "metadata": {
    "jp-MarkdownHeadingCollapsed": true
   },
   "source": [
    "# Type 2 of the projection"
   ]
  },
  {
   "cell_type": "code",
   "execution_count": 19,
   "id": "e11d1670-ae17-4384-89f0-aade2686ca2e",
   "metadata": {},
   "outputs": [],
   "source": [
    "C1 = copy.deepcopy(C0)\n",
    "C = C1\n",
    "t=2"
   ]
  },
  {
   "cell_type": "code",
   "execution_count": 20,
   "id": "99b76632-417f-41e2-b362-7be577c7273a",
   "metadata": {},
   "outputs": [
    {
     "data": {
      "text/latex": [
       "$\\displaystyle \\left[\\begin{matrix}1 & 0 & 0 & -1 & b_{0} & c_{0} & d_{0}\\\\0 & 1 & 0 & a_{1} & -1 & c_{1} & d_{1}\\\\0 & 0 & 1 & a_{2} & b_{2} & -1 & d_{2}\\end{matrix}\\right] = \\left[\\begin{matrix}1 & 0 & 0 & -1 & 0 & c_{0} & -1\\\\0 & 1 & 0 & 1 & -1 & 0 & 0\\\\0 & 0 & 1 & 0 & 1 & -1 & 0\\end{matrix}\\right]$"
      ],
      "text/plain": [
       "Eq(Matrix([\n",
       "[1, 0, 0, -1, b0, c0, d0],\n",
       "[0, 1, 0, a1, -1, c1, d1],\n",
       "[0, 0, 1, a2, b2, -1, d2]]), Matrix([\n",
       "[1, 0, 0, -1,  0, c0, -1],\n",
       "[0, 1, 0,  1, -1,  0,  0],\n",
       "[0, 0, 1,  0,  1, -1,  0]]))"
      ]
     },
     "metadata": {},
     "output_type": "display_data"
    },
    {
     "data": {
      "text/latex": [
       "$\\displaystyle \\text{True}$"
      ],
      "text/plain": [
       "True"
      ]
     },
     "metadata": {},
     "output_type": "display_data"
    }
   ],
   "source": [
    "proj = C.proj([4])\n",
    "with sp.evaluate(False):\n",
    "    display(sp.Eq(proj, fans_link[t]))\n",
    "\n",
    "C.subs(a1, 1)\n",
    "C.subs(a2, 0)\n",
    "C.subs(b0, 0)\n",
    "C.subs(b2, 1)\n",
    "C.subs(c1, 0)\n",
    "C.subs(d0, -1)\n",
    "C.subs(d1, 0)\n",
    "C.subs(d2, 0)\n",
    "\n",
    "display(sp.Eq(C.proj([4]), fans_link[t]))"
   ]
  },
  {
   "cell_type": "code",
   "execution_count": 21,
   "id": "19ef98d8-d8c6-4c85-b582-5158f12881ac",
   "metadata": {},
   "outputs": [
    {
     "name": "stdout",
     "output_type": "stream",
     "text": [
      "facet number: 6\n"
     ]
    },
    {
     "data": {
      "text/latex": [
       "$\\displaystyle d_{3} = -1$"
      ],
      "text/plain": [
       "Eq(d3, -1)"
      ]
     },
     "metadata": {},
     "output_type": "display_data"
    }
   ],
   "source": [
    "i=6\n",
    "print('facet number:', i)\n",
    "display(sp.Eq(C.determinants[i], C.orientation[i]))\n",
    "\n",
    "C.subs(d3, -1)"
   ]
  },
  {
   "cell_type": "code",
   "execution_count": 22,
   "id": "11c18eee-9bbe-43fd-a157-e5d0d7a0b65b",
   "metadata": {},
   "outputs": [
    {
     "name": "stdout",
     "output_type": "stream",
     "text": [
      "facet number: 13\n"
     ]
    },
    {
     "data": {
      "text/latex": [
       "$\\displaystyle - b_{3} = -1$"
      ],
      "text/plain": [
       "Eq(-b3, -1)"
      ]
     },
     "metadata": {},
     "output_type": "display_data"
    }
   ],
   "source": [
    "i=13\n",
    "print('facet number:', i)\n",
    "display(sp.Eq(C.determinants[i], C.orientation[i]))\n",
    "\n",
    "C.subs(b3, 1)"
   ]
  },
  {
   "cell_type": "code",
   "execution_count": 23,
   "id": "f25e32e0-7638-4f0a-8193-837b5df2f02c",
   "metadata": {},
   "outputs": [
    {
     "data": {
      "text/latex": [
       "$\\displaystyle \\left[\\begin{matrix}1 & 0 & 0 & 0 & -1 & 0 & c_{0} & -1\\\\0 & 1 & 0 & 0 & 1 & -1 & 0 & 0\\\\0 & 0 & 1 & 0 & 0 & 1 & -1 & 0\\\\0 & 0 & 0 & 1 & -1 & 1 & c_{3} & -1\\end{matrix}\\right]$"
      ],
      "text/plain": [
       "Matrix([\n",
       "[1, 0, 0, 0, -1,  0, c0, -1],\n",
       "[0, 1, 0, 0,  1, -1,  0,  0],\n",
       "[0, 0, 1, 0,  0,  1, -1,  0],\n",
       "[0, 0, 0, 1, -1,  1, c3, -1]])"
      ]
     },
     "metadata": {},
     "output_type": "display_data"
    },
    {
     "name": "stdout",
     "output_type": "stream",
     "text": [
      "1\n"
     ]
    }
   ],
   "source": [
    "display(C.char)\n",
    "print(C.is_fangiving)\n",
    "fans.append(C.char)"
   ]
  },
  {
   "cell_type": "markdown",
   "id": "baba74c8-3ed7-41ee-9cdf-76aee9993af8",
   "metadata": {
    "jp-MarkdownHeadingCollapsed": true
   },
   "source": [
    "# Type 3 of the projection"
   ]
  },
  {
   "cell_type": "code",
   "execution_count": 24,
   "id": "7762bdbd-50e0-4bf9-a737-c709f35e6d01",
   "metadata": {},
   "outputs": [],
   "source": [
    "C1 = copy.deepcopy(C0)\n",
    "C = C1\n",
    "t=3"
   ]
  },
  {
   "cell_type": "code",
   "execution_count": 25,
   "id": "d32da7d0-c73e-4224-af96-2d3ce0bdfd12",
   "metadata": {},
   "outputs": [
    {
     "data": {
      "text/latex": [
       "$\\displaystyle \\left[\\begin{matrix}1 & 0 & 0 & -1 & b_{0} & c_{0} & d_{0}\\\\0 & 1 & 0 & a_{1} & -1 & c_{1} & d_{1}\\\\0 & 0 & 1 & a_{2} & b_{2} & -1 & d_{2}\\end{matrix}\\right] = \\left[\\begin{matrix}1 & 0 & 0 & -1 & 0 & 1 & 0\\\\0 & 1 & 0 & a_{1} & -1 & 0 & -1\\\\0 & 0 & 1 & 0 & 1 & -1 & 0\\end{matrix}\\right]$"
      ],
      "text/plain": [
       "Eq(Matrix([\n",
       "[1, 0, 0, -1, b0, c0, d0],\n",
       "[0, 1, 0, a1, -1, c1, d1],\n",
       "[0, 0, 1, a2, b2, -1, d2]]), Matrix([\n",
       "[1, 0, 0, -1,  0,  1,  0],\n",
       "[0, 1, 0, a1, -1,  0, -1],\n",
       "[0, 0, 1,  0,  1, -1,  0]]))"
      ]
     },
     "metadata": {},
     "output_type": "display_data"
    }
   ],
   "source": [
    "proj = C.proj([4])\n",
    "with sp.evaluate(False):\n",
    "    display(sp.Eq(proj, fans_link[t]))"
   ]
  },
  {
   "cell_type": "code",
   "execution_count": 26,
   "id": "43710e24-6314-4e47-9489-f34f1559dfa4",
   "metadata": {},
   "outputs": [
    {
     "data": {
      "text/latex": [
       "$\\displaystyle \\left[\\begin{matrix}1 & 0 & 0 & -1 & b_{0} & c_{0} & d_{0}\\\\0 & 1 & 0 & a_{1} & -1 & c_{1} & d_{1}\\\\0 & 0 & 1 & a_{2} & b_{2} & -1 & d_{2}\\end{matrix}\\right] = \\left[\\begin{matrix}1 & 0 & 0 & -1 & 0 & 1 & 0\\\\0 & 1 & 0 & a_{1} & -1 & 0 & -1\\\\0 & 0 & 1 & 0 & 1 & -1 & 0\\end{matrix}\\right]$"
      ],
      "text/plain": [
       "Eq(Matrix([\n",
       "[1, 0, 0, -1, b0, c0, d0],\n",
       "[0, 1, 0, a1, -1, c1, d1],\n",
       "[0, 0, 1, a2, b2, -1, d2]]), Matrix([\n",
       "[1, 0, 0, -1,  0,  1,  0],\n",
       "[0, 1, 0, a1, -1,  0, -1],\n",
       "[0, 0, 1,  0,  1, -1,  0]]))"
      ]
     },
     "metadata": {},
     "output_type": "display_data"
    },
    {
     "data": {
      "text/latex": [
       "$\\displaystyle \\text{True}$"
      ],
      "text/plain": [
       "True"
      ]
     },
     "metadata": {},
     "output_type": "display_data"
    }
   ],
   "source": [
    "proj = C.proj([4])\n",
    "with sp.evaluate(False):\n",
    "    display(sp.Eq(proj, fans_link[t]))\n",
    "\n",
    "C.subs(a2, 0)\n",
    "C.subs(b0, 0)\n",
    "C.subs(b2, 1)\n",
    "C.subs(c0, 1)\n",
    "C.subs(c1, 0)\n",
    "C.subs(d0, 0)\n",
    "C.subs(d1, -1)\n",
    "C.subs(d2, 0)\n",
    "\n",
    "display(sp.Eq(C.proj([4]), fans_link[t]))"
   ]
  },
  {
   "cell_type": "code",
   "execution_count": 27,
   "id": "d7d80ab5-06c0-4116-8468-98ea8247c214",
   "metadata": {},
   "outputs": [
    {
     "name": "stdout",
     "output_type": "stream",
     "text": [
      "facet number: 6\n"
     ]
    },
    {
     "data": {
      "text/latex": [
       "$\\displaystyle - b_{3} + d_{3} = -1$"
      ],
      "text/plain": [
       "Eq(-b3 + d3, -1)"
      ]
     },
     "metadata": {},
     "output_type": "display_data"
    }
   ],
   "source": [
    "i=6\n",
    "print('facet number:', i)\n",
    "display(sp.Eq(C.determinants[i], C.orientation[i]))\n",
    "\n",
    "C.subs(d3, b3-1)"
   ]
  },
  {
   "cell_type": "code",
   "execution_count": 28,
   "id": "211d5d44-9fc5-4396-9e33-3fc705607e62",
   "metadata": {},
   "outputs": [
    {
     "name": "stdout",
     "output_type": "stream",
     "text": [
      "facet number: 9\n"
     ]
    },
    {
     "data": {
      "text/latex": [
       "$\\displaystyle - c_{3} - 1 = -1$"
      ],
      "text/plain": [
       "Eq(-c3 - 1, -1)"
      ]
     },
     "metadata": {},
     "output_type": "display_data"
    }
   ],
   "source": [
    "i=9\n",
    "print('facet number:', i)\n",
    "display(sp.Eq(C.determinants[i], C.orientation[i]))\n",
    "\n",
    "C.subs(c3, 0)"
   ]
  },
  {
   "cell_type": "code",
   "execution_count": 29,
   "id": "fdb6cdf5-1551-49d8-b631-656bb79d0141",
   "metadata": {},
   "outputs": [
    {
     "name": "stdout",
     "output_type": "stream",
     "text": [
      "facet number: 5\n"
     ]
    },
    {
     "data": {
      "text/latex": [
       "$\\displaystyle - a_{1} b_{3} + a_{1} + 1 = 1$"
      ],
      "text/plain": [
       "Eq(-a1*b3 + a1 + 1, 1)"
      ]
     },
     "metadata": {},
     "output_type": "display_data"
    }
   ],
   "source": [
    "i=5\n",
    "print('facet number:', i)\n",
    "display(sp.Eq(C.determinants[i], C.orientation[i]))"
   ]
  },
  {
   "cell_type": "markdown",
   "id": "fff65bf0-b3e3-4399-8df5-6e4b9f49a8d2",
   "metadata": {
    "jp-MarkdownHeadingCollapsed": true
   },
   "source": [
    "## $a_1=0$"
   ]
  },
  {
   "cell_type": "code",
   "execution_count": 30,
   "id": "0e4705f3-f6d3-4840-a47e-330e047210e9",
   "metadata": {},
   "outputs": [],
   "source": [
    "C2 = copy.deepcopy(C1)\n",
    "C = C2\n",
    "C.subs(a1, 0)"
   ]
  },
  {
   "cell_type": "code",
   "execution_count": 31,
   "id": "4b4846f6-cbee-4e03-aeda-cde59b9b8516",
   "metadata": {},
   "outputs": [
    {
     "data": {
      "text/latex": [
       "$\\displaystyle \\left[\\begin{matrix}1 & 0 & 0 & 0 & -1 & 0 & 1 & 0\\\\0 & 1 & 0 & 0 & 0 & -1 & 0 & -1\\\\0 & 0 & 1 & 0 & 0 & 1 & -1 & 0\\\\0 & 0 & 0 & 1 & -1 & b_{3} & 0 & b_{3} - 1\\end{matrix}\\right]$"
      ],
      "text/plain": [
       "Matrix([\n",
       "[1, 0, 0, 0, -1,  0,  1,      0],\n",
       "[0, 1, 0, 0,  0, -1,  0,     -1],\n",
       "[0, 0, 1, 0,  0,  1, -1,      0],\n",
       "[0, 0, 0, 1, -1, b3,  0, b3 - 1]])"
      ]
     },
     "metadata": {},
     "output_type": "display_data"
    },
    {
     "name": "stdout",
     "output_type": "stream",
     "text": [
      "1\n"
     ]
    }
   ],
   "source": [
    "display(C.char)\n",
    "print(C.is_fangiving)\n",
    "fans.append(C.char)"
   ]
  },
  {
   "cell_type": "markdown",
   "id": "0d737900-d9f4-416a-8ffa-354ba3bc85d8",
   "metadata": {
    "jp-MarkdownHeadingCollapsed": true
   },
   "source": [
    "## $b_3=1$"
   ]
  },
  {
   "cell_type": "code",
   "execution_count": 32,
   "id": "b159652a-b0af-42ee-8b5a-6bf1fc0f1615",
   "metadata": {},
   "outputs": [],
   "source": [
    "C2 = copy.deepcopy(C1)\n",
    "C = C2\n",
    "C.subs(b3, 1)"
   ]
  },
  {
   "cell_type": "code",
   "execution_count": 33,
   "id": "01a96300-aa4d-405b-b76e-d8ef3e073053",
   "metadata": {},
   "outputs": [
    {
     "data": {
      "text/latex": [
       "$\\displaystyle \\left[\\begin{matrix}1 & 0 & 0 & 0 & -1 & 0 & 1 & 0\\\\0 & 1 & 0 & 0 & a_{1} & -1 & 0 & -1\\\\0 & 0 & 1 & 0 & 0 & 1 & -1 & 0\\\\0 & 0 & 0 & 1 & -1 & 1 & 0 & 0\\end{matrix}\\right]$"
      ],
      "text/plain": [
       "Matrix([\n",
       "[1, 0, 0, 0, -1,  0,  1,  0],\n",
       "[0, 1, 0, 0, a1, -1,  0, -1],\n",
       "[0, 0, 1, 0,  0,  1, -1,  0],\n",
       "[0, 0, 0, 1, -1,  1,  0,  0]])"
      ]
     },
     "metadata": {},
     "output_type": "display_data"
    },
    {
     "name": "stdout",
     "output_type": "stream",
     "text": [
      "1\n"
     ]
    }
   ],
   "source": [
    "display(C.char)\n",
    "print(C.is_fangiving)\n",
    "fans.append(C.char)"
   ]
  },
  {
   "cell_type": "markdown",
   "id": "d699c9c7-9d00-4283-ae1a-51cf8d3a8430",
   "metadata": {
    "jp-MarkdownHeadingCollapsed": true
   },
   "source": [
    "# Type 4 of the projection"
   ]
  },
  {
   "cell_type": "code",
   "execution_count": 34,
   "id": "2162d949-b036-4636-a33b-3ed41054c146",
   "metadata": {},
   "outputs": [],
   "source": [
    "C1 = copy.deepcopy(C0)\n",
    "C = C1\n",
    "t=4"
   ]
  },
  {
   "cell_type": "code",
   "execution_count": 35,
   "id": "2af41d94-5544-4895-8cb4-b22188cddbaf",
   "metadata": {},
   "outputs": [
    {
     "data": {
      "text/latex": [
       "$\\displaystyle \\left[\\begin{matrix}1 & 0 & 0 & -1 & b_{0} & c_{0} & d_{0}\\\\0 & 1 & 0 & a_{1} & -1 & c_{1} & d_{1}\\\\0 & 0 & 1 & a_{2} & b_{2} & -1 & d_{2}\\end{matrix}\\right] = \\left[\\begin{matrix}1 & 0 & 0 & -1 & b_{0} & 0 & b_{0} - 1\\\\0 & 1 & 0 & 0 & -1 & 0 & -1\\\\0 & 0 & 1 & a_{2} & b_{2} & -1 & a_{2} + b_{2} - 1\\end{matrix}\\right]$"
      ],
      "text/plain": [
       "Eq(Matrix([\n",
       "[1, 0, 0, -1, b0, c0, d0],\n",
       "[0, 1, 0, a1, -1, c1, d1],\n",
       "[0, 0, 1, a2, b2, -1, d2]]), Matrix([\n",
       "[1, 0, 0, -1, b0,  0,      b0 - 1],\n",
       "[0, 1, 0,  0, -1,  0,          -1],\n",
       "[0, 0, 1, a2, b2, -1, a2 + b2 - 1]]))"
      ]
     },
     "metadata": {},
     "output_type": "display_data"
    },
    {
     "data": {
      "text/latex": [
       "$\\displaystyle \\text{True}$"
      ],
      "text/plain": [
       "True"
      ]
     },
     "metadata": {},
     "output_type": "display_data"
    }
   ],
   "source": [
    "proj = C.proj([4])\n",
    "with sp.evaluate(False):\n",
    "    display(sp.Eq(proj, fans_link[t]))\n",
    "\n",
    "C.subs(a1, 0)\n",
    "C.subs(c0, 0)\n",
    "C.subs(c1, 0)\n",
    "C.subs(d0, b0-1)\n",
    "C.subs(d1, -1)\n",
    "C.subs(d2, a2+b2-1)\n",
    "\n",
    "display(sp.Eq(C.proj([4]), fans_link[t]))"
   ]
  },
  {
   "cell_type": "code",
   "execution_count": 36,
   "id": "cfe8478c-7c0f-4901-b934-0ddc5b67130a",
   "metadata": {},
   "outputs": [
    {
     "name": "stdout",
     "output_type": "stream",
     "text": [
      "facet number: 6\n"
     ]
    },
    {
     "data": {
      "text/latex": [
       "$\\displaystyle - b_{3} + d_{3} = -1$"
      ],
      "text/plain": [
       "Eq(-b3 + d3, -1)"
      ]
     },
     "metadata": {},
     "output_type": "display_data"
    },
    {
     "name": "stdout",
     "output_type": "stream",
     "text": [
      "facet number: 13\n"
     ]
    },
    {
     "data": {
      "text/latex": [
       "$\\displaystyle - b_{3} + d_{3} + 1 = -1$"
      ],
      "text/plain": [
       "Eq(-b3 + d3 + 1, -1)"
      ]
     },
     "metadata": {},
     "output_type": "display_data"
    },
    {
     "name": "stdout",
     "output_type": "stream",
     "text": [
      "no solution\n"
     ]
    }
   ],
   "source": [
    "i=6\n",
    "print('facet number:', i)\n",
    "display(sp.Eq(C.determinants[i], C.orientation[i]))\n",
    "\n",
    "i=13\n",
    "print('facet number:', i)\n",
    "display(sp.Eq(C.determinants[i], C.orientation[i]))\n",
    "\n",
    "print('no solution')"
   ]
  },
  {
   "cell_type": "markdown",
   "id": "c7a6a3f3-5825-41be-bda4-edeb5bfc334e",
   "metadata": {
    "jp-MarkdownHeadingCollapsed": true
   },
   "source": [
    "# Type 5 of the projection"
   ]
  },
  {
   "cell_type": "code",
   "execution_count": 37,
   "id": "ef778577-ff15-4249-a756-b4a42417285b",
   "metadata": {},
   "outputs": [],
   "source": [
    "C1 = copy.deepcopy(C0)\n",
    "C = C1\n",
    "t=5"
   ]
  },
  {
   "cell_type": "code",
   "execution_count": 38,
   "id": "f004efe9-87f6-415e-8e54-cfb56b364c38",
   "metadata": {},
   "outputs": [
    {
     "data": {
      "text/latex": [
       "$\\displaystyle \\left[\\begin{matrix}1 & 0 & 0 & -1 & b_{0} & c_{0} & d_{0}\\\\0 & 1 & 0 & a_{1} & -1 & c_{1} & d_{1}\\\\0 & 0 & 1 & a_{2} & b_{2} & -1 & d_{2}\\end{matrix}\\right] = \\left[\\begin{matrix}1 & 0 & 0 & -1 & 0 & 0 & -1\\\\0 & 1 & 0 & a_{1} & -1 & 0 & a_{1} - 1\\\\0 & 0 & 1 & a_{2} & b_{2} & -1 & a_{2} + b_{2} - 1\\end{matrix}\\right]$"
      ],
      "text/plain": [
       "Eq(Matrix([\n",
       "[1, 0, 0, -1, b0, c0, d0],\n",
       "[0, 1, 0, a1, -1, c1, d1],\n",
       "[0, 0, 1, a2, b2, -1, d2]]), Matrix([\n",
       "[1, 0, 0, -1,  0,  0,          -1],\n",
       "[0, 1, 0, a1, -1,  0,      a1 - 1],\n",
       "[0, 0, 1, a2, b2, -1, a2 + b2 - 1]]))"
      ]
     },
     "metadata": {},
     "output_type": "display_data"
    },
    {
     "data": {
      "text/latex": [
       "$\\displaystyle \\text{True}$"
      ],
      "text/plain": [
       "True"
      ]
     },
     "metadata": {},
     "output_type": "display_data"
    }
   ],
   "source": [
    "proj = C.proj([4])\n",
    "with sp.evaluate(False):\n",
    "    display(sp.Eq(proj, fans_link[t]))\n",
    "\n",
    "C.subs(b0, 0)\n",
    "C.subs(c0, 0)\n",
    "C.subs(c1, 0)\n",
    "C.subs(d0, -1)\n",
    "C.subs(d1, a1-1)\n",
    "C.subs(d2, a2+b2-1)\n",
    "\n",
    "display(sp.Eq(C.proj([4]), fans_link[t]))"
   ]
  },
  {
   "cell_type": "code",
   "execution_count": 39,
   "id": "c0ae635d-6233-46bc-9a93-6368dba61fe6",
   "metadata": {},
   "outputs": [
    {
     "name": "stdout",
     "output_type": "stream",
     "text": [
      "facet number: 13\n"
     ]
    },
    {
     "data": {
      "text/latex": [
       "$\\displaystyle - b_{3} + d_{3} + 1 = -1$"
      ],
      "text/plain": [
       "Eq(-b3 + d3 + 1, -1)"
      ]
     },
     "metadata": {},
     "output_type": "display_data"
    }
   ],
   "source": [
    "i=13\n",
    "print('facet number:', i)\n",
    "display(sp.Eq(C.determinants[i], C.orientation[i]))\n",
    "\n",
    "C.subs(d3, b3-2)"
   ]
  },
  {
   "cell_type": "code",
   "execution_count": 40,
   "id": "7def1753-aa00-4bd5-b518-f19623faaf09",
   "metadata": {},
   "outputs": [
    {
     "name": "stdout",
     "output_type": "stream",
     "text": [
      "facet number: 5\n"
     ]
    },
    {
     "data": {
      "text/latex": [
       "$\\displaystyle - a_{1} b_{3} + a_{1} + 1 = 1$"
      ],
      "text/plain": [
       "Eq(-a1*b3 + a1 + 1, 1)"
      ]
     },
     "metadata": {},
     "output_type": "display_data"
    },
    {
     "name": "stdout",
     "output_type": "stream",
     "text": [
      "facet number: 6\n"
     ]
    },
    {
     "data": {
      "text/latex": [
       "$\\displaystyle a_{1} b_{3} - 2 = -1$"
      ],
      "text/plain": [
       "Eq(a1*b3 - 2, -1)"
      ]
     },
     "metadata": {},
     "output_type": "display_data"
    },
    {
     "data": {
      "text/latex": [
       "$\\displaystyle a_{1} - 1 = 0$"
      ],
      "text/plain": [
       "Eq(a1 - 1, 0)"
      ]
     },
     "metadata": {},
     "output_type": "display_data"
    }
   ],
   "source": [
    "i=5\n",
    "print('facet number:', i)\n",
    "display(sp.Eq(C.determinants[i], C.orientation[i]))\n",
    "\n",
    "i=6\n",
    "print('facet number:', i)\n",
    "display(sp.Eq(C.determinants[i], C.orientation[i]))\n",
    "\n",
    "display(sp.Eq(C.determinants[5]+C.determinants[6], C.orientation[5]+C.orientation[6]))\n",
    "\n",
    "C.subs(a1, 1)"
   ]
  },
  {
   "cell_type": "code",
   "execution_count": 41,
   "id": "7e9b20f0-332b-43cd-8d49-7e65f7ae2024",
   "metadata": {},
   "outputs": [
    {
     "name": "stdout",
     "output_type": "stream",
     "text": [
      "facet number: 6\n"
     ]
    },
    {
     "data": {
      "text/latex": [
       "$\\displaystyle b_{3} - 2 = -1$"
      ],
      "text/plain": [
       "Eq(b3 - 2, -1)"
      ]
     },
     "metadata": {},
     "output_type": "display_data"
    }
   ],
   "source": [
    "i=6\n",
    "print('facet number:', i)\n",
    "display(sp.Eq(C.determinants[i], C.orientation[i]))\n",
    "\n",
    "C.subs(b3, 1)"
   ]
  },
  {
   "cell_type": "code",
   "execution_count": 42,
   "id": "e3447a49-053a-47cf-964a-4230384a9754",
   "metadata": {},
   "outputs": [
    {
     "name": "stdout",
     "output_type": "stream",
     "text": [
      "facet number: 3\n"
     ]
    },
    {
     "data": {
      "text/latex": [
       "$\\displaystyle a_{2} c_{3} - 1 = -1$"
      ],
      "text/plain": [
       "Eq(a2*c3 - 1, -1)"
      ]
     },
     "metadata": {},
     "output_type": "display_data"
    }
   ],
   "source": [
    "i=3\n",
    "print('facet number:', i)\n",
    "display(sp.Eq(C.determinants[i], C.orientation[i]))"
   ]
  },
  {
   "cell_type": "markdown",
   "id": "367a70c2-818a-4285-b5c9-148b8d0d509b",
   "metadata": {
    "jp-MarkdownHeadingCollapsed": true
   },
   "source": [
    "## $c_3=0$"
   ]
  },
  {
   "cell_type": "code",
   "execution_count": 43,
   "id": "e9ff30a2-b54b-4680-a27c-51e893cf6ac9",
   "metadata": {},
   "outputs": [],
   "source": [
    "C2 = copy.deepcopy(C1)\n",
    "C = C2\n",
    "C.subs(c3, 0)"
   ]
  },
  {
   "cell_type": "code",
   "execution_count": 44,
   "id": "9d34f5ee-c640-4786-8366-80670ddff0bc",
   "metadata": {},
   "outputs": [
    {
     "data": {
      "text/latex": [
       "$\\displaystyle \\left[\\begin{matrix}1 & 0 & 0 & 0 & -1 & 0 & 0 & -1\\\\0 & 1 & 0 & 0 & 1 & -1 & 0 & 0\\\\0 & 0 & 1 & 0 & a_{2} & b_{2} & -1 & a_{2} + b_{2} - 1\\\\0 & 0 & 0 & 1 & -1 & 1 & 0 & -1\\end{matrix}\\right]$"
      ],
      "text/plain": [
       "Matrix([\n",
       "[1, 0, 0, 0, -1,  0,  0,          -1],\n",
       "[0, 1, 0, 0,  1, -1,  0,           0],\n",
       "[0, 0, 1, 0, a2, b2, -1, a2 + b2 - 1],\n",
       "[0, 0, 0, 1, -1,  1,  0,          -1]])"
      ]
     },
     "metadata": {},
     "output_type": "display_data"
    },
    {
     "name": "stdout",
     "output_type": "stream",
     "text": [
      "1\n"
     ]
    }
   ],
   "source": [
    "display(C.char)\n",
    "print(C.is_fangiving)\n",
    "fans.append(C.char)"
   ]
  },
  {
   "cell_type": "markdown",
   "id": "2cebb053-2458-48ba-9c12-e3dcd5314017",
   "metadata": {
    "jp-MarkdownHeadingCollapsed": true
   },
   "source": [
    "## $a_2=0$ ($c_3 \\not= 0$)"
   ]
  },
  {
   "cell_type": "code",
   "execution_count": 45,
   "id": "46347a77-7d03-43d0-86b8-d43e6d108f4f",
   "metadata": {},
   "outputs": [],
   "source": [
    "C2 = copy.deepcopy(C1)\n",
    "C = C2\n",
    "C.subs(a2, 0)"
   ]
  },
  {
   "cell_type": "code",
   "execution_count": 46,
   "id": "07fe891e-09ec-4699-a9c8-40100720893e",
   "metadata": {},
   "outputs": [
    {
     "name": "stdout",
     "output_type": "stream",
     "text": [
      "facet number: 9\n"
     ]
    },
    {
     "data": {
      "text/latex": [
       "$\\displaystyle b_{2} c_{3} - c_{3} - 1 = -1$"
      ],
      "text/plain": [
       "Eq(b2*c3 - c3 - 1, -1)"
      ]
     },
     "metadata": {},
     "output_type": "display_data"
    }
   ],
   "source": [
    "i=9\n",
    "print('facet number:', i)\n",
    "display(sp.Eq(C.determinants[i], C.orientation[i]))\n",
    "\n",
    "C.subs(b2, 1)"
   ]
  },
  {
   "cell_type": "code",
   "execution_count": 47,
   "id": "6e80798f-5422-475e-a356-75fd9895d11b",
   "metadata": {},
   "outputs": [
    {
     "data": {
      "text/latex": [
       "$\\displaystyle \\left[\\begin{matrix}1 & 0 & 0 & -1 & 0 & 0 & -1\\\\0 & 1 & 0 & 1 & -1 & 0 & 0\\\\0 & 0 & 1 & 0 & 1 & -1 & 0\\end{matrix}\\right]$"
      ],
      "text/plain": [
       "Matrix([\n",
       "[1, 0, 0, -1,  0,  0, -1],\n",
       "[0, 1, 0,  1, -1,  0,  0],\n",
       "[0, 0, 1,  0,  1, -1,  0]])"
      ]
     },
     "metadata": {},
     "output_type": "display_data"
    },
    {
     "name": "stdout",
     "output_type": "stream",
     "text": [
      "type 2\n"
     ]
    }
   ],
   "source": [
    "display(C.proj([4]))\n",
    "print('type 2')"
   ]
  },
  {
   "cell_type": "code",
   "execution_count": 48,
   "id": "068d04ce-f573-494c-9436-18c466635829",
   "metadata": {},
   "outputs": [
    {
     "data": {
      "text/latex": [
       "$\\displaystyle \\left[\\begin{matrix}1 & 0 & 0 & -1 & 0 & c_{0} & -1\\\\0 & 1 & 0 & 1 & -1 & 0 & 0\\\\0 & 0 & 1 & 0 & 1 & -1 & 0\\end{matrix}\\right]$"
      ],
      "text/plain": [
       "Matrix([\n",
       "[1, 0, 0, -1,  0, c0, -1],\n",
       "[0, 1, 0,  1, -1,  0,  0],\n",
       "[0, 0, 1,  0,  1, -1,  0]])"
      ]
     },
     "execution_count": 48,
     "metadata": {},
     "output_type": "execute_result"
    }
   ],
   "source": [
    "fans_link[2]"
   ]
  },
  {
   "cell_type": "markdown",
   "id": "8d9c9282-5c8d-4011-b622-8d3bf48ac98f",
   "metadata": {
    "jp-MarkdownHeadingCollapsed": true
   },
   "source": [
    "# Type 6 of the projection"
   ]
  },
  {
   "cell_type": "code",
   "execution_count": 49,
   "id": "860f201f-ccde-4447-96b0-d12ac50e9316",
   "metadata": {},
   "outputs": [],
   "source": [
    "C1 = copy.deepcopy(C0)\n",
    "C = C1\n",
    "t=6"
   ]
  },
  {
   "cell_type": "code",
   "execution_count": 50,
   "id": "bf7384ff-47a4-49b2-89a3-e811e90db636",
   "metadata": {},
   "outputs": [
    {
     "data": {
      "text/latex": [
       "$\\displaystyle \\left[\\begin{matrix}1 & 0 & 0 & -1 & b_{0} & c_{0} & d_{0}\\\\0 & 1 & 0 & a_{1} & -1 & c_{1} & d_{1}\\\\0 & 0 & 1 & a_{2} & b_{2} & -1 & d_{2}\\end{matrix}\\right] = \\left[\\begin{matrix}1 & 0 & 0 & -1 & b_{0} & c_{0} & b_{0} + c_{0} - 1\\\\0 & 1 & 0 & 0 & -1 & 0 & -1\\\\0 & 0 & 1 & 0 & b_{2} & -1 & b_{2} - 1\\end{matrix}\\right]$"
      ],
      "text/plain": [
       "Eq(Matrix([\n",
       "[1, 0, 0, -1, b0, c0, d0],\n",
       "[0, 1, 0, a1, -1, c1, d1],\n",
       "[0, 0, 1, a2, b2, -1, d2]]), Matrix([\n",
       "[1, 0, 0, -1, b0, c0, b0 + c0 - 1],\n",
       "[0, 1, 0,  0, -1,  0,          -1],\n",
       "[0, 0, 1,  0, b2, -1,      b2 - 1]]))"
      ]
     },
     "metadata": {},
     "output_type": "display_data"
    }
   ],
   "source": [
    "proj = C.proj([4])\n",
    "with sp.evaluate(False):\n",
    "    display(sp.Eq(proj, fans_link[t]))"
   ]
  },
  {
   "cell_type": "code",
   "execution_count": 51,
   "id": "93586bf6-f7ef-4afb-b319-9413ee3e112c",
   "metadata": {},
   "outputs": [
    {
     "data": {
      "text/latex": [
       "$\\displaystyle \\left[\\begin{matrix}1 & 0 & 0 & -1 & b_{0} & c_{0} & d_{0}\\\\0 & 1 & 0 & a_{1} & -1 & c_{1} & d_{1}\\\\0 & 0 & 1 & a_{2} & b_{2} & -1 & d_{2}\\end{matrix}\\right] = \\left[\\begin{matrix}1 & 0 & 0 & -1 & b_{0} & c_{0} & b_{0} + c_{0} - 1\\\\0 & 1 & 0 & 0 & -1 & 0 & -1\\\\0 & 0 & 1 & 0 & b_{2} & -1 & b_{2} - 1\\end{matrix}\\right]$"
      ],
      "text/plain": [
       "Eq(Matrix([\n",
       "[1, 0, 0, -1, b0, c0, d0],\n",
       "[0, 1, 0, a1, -1, c1, d1],\n",
       "[0, 0, 1, a2, b2, -1, d2]]), Matrix([\n",
       "[1, 0, 0, -1, b0, c0, b0 + c0 - 1],\n",
       "[0, 1, 0,  0, -1,  0,          -1],\n",
       "[0, 0, 1,  0, b2, -1,      b2 - 1]]))"
      ]
     },
     "metadata": {},
     "output_type": "display_data"
    },
    {
     "data": {
      "text/latex": [
       "$\\displaystyle \\text{True}$"
      ],
      "text/plain": [
       "True"
      ]
     },
     "metadata": {},
     "output_type": "display_data"
    }
   ],
   "source": [
    "proj = C.proj([4])\n",
    "with sp.evaluate(False):\n",
    "    display(sp.Eq(proj, fans_link[t]))\n",
    "\n",
    "C.subs(a1, 0)\n",
    "C.subs(a2, 0)\n",
    "C.subs(c1, 0)\n",
    "C.subs(d0, b0+c0-1)\n",
    "C.subs(d1, -1)\n",
    "C.subs(d2, b2-1)\n",
    "\n",
    "display(sp.Eq(C.proj([4]), fans_link[t]))"
   ]
  },
  {
   "cell_type": "code",
   "execution_count": 52,
   "id": "486705b1-7fc6-4486-8ceb-ebc3fd3dd3ab",
   "metadata": {},
   "outputs": [
    {
     "name": "stdout",
     "output_type": "stream",
     "text": [
      "facet number: 6\n"
     ]
    },
    {
     "data": {
      "text/latex": [
       "$\\displaystyle - b_{3} + d_{3} = -1$"
      ],
      "text/plain": [
       "Eq(-b3 + d3, -1)"
      ]
     },
     "metadata": {},
     "output_type": "display_data"
    }
   ],
   "source": [
    "i=6\n",
    "print('facet number:', i)\n",
    "display(sp.Eq(C.determinants[i], C.orientation[i]))\n",
    "\n",
    "C.subs(d3, b3-1)"
   ]
  },
  {
   "cell_type": "code",
   "execution_count": 53,
   "id": "5d4dfe70-3dc9-4e1b-9b9f-7ea7665b7458",
   "metadata": {},
   "outputs": [
    {
     "name": "stdout",
     "output_type": "stream",
     "text": [
      "facet number: 9\n"
     ]
    },
    {
     "data": {
      "text/latex": [
       "$\\displaystyle - c_{3} - 1 = -1$"
      ],
      "text/plain": [
       "Eq(-c3 - 1, -1)"
      ]
     },
     "metadata": {},
     "output_type": "display_data"
    }
   ],
   "source": [
    "i=9\n",
    "print('facet number:', i)\n",
    "display(sp.Eq(C.determinants[i], C.orientation[i]))\n",
    "\n",
    "C.subs(c3, 0)"
   ]
  },
  {
   "cell_type": "code",
   "execution_count": 54,
   "id": "c6812adb-f829-4db6-aea4-90f60950a91d",
   "metadata": {},
   "outputs": [
    {
     "name": "stdout",
     "output_type": "stream",
     "text": [
      "facet number: 13\n"
     ]
    },
    {
     "data": {
      "text/latex": [
       "$\\displaystyle - c_{0} = -1$"
      ],
      "text/plain": [
       "Eq(-c0, -1)"
      ]
     },
     "metadata": {},
     "output_type": "display_data"
    }
   ],
   "source": [
    "i=13\n",
    "print('facet number:', i)\n",
    "display(sp.Eq(C.determinants[i], C.orientation[i]))\n",
    "\n",
    "C.subs(c0, 1)"
   ]
  },
  {
   "cell_type": "code",
   "execution_count": 55,
   "id": "4597d096-767f-47f3-b320-8c613d1a435b",
   "metadata": {},
   "outputs": [
    {
     "data": {
      "text/latex": [
       "$\\displaystyle \\left[\\begin{matrix}1 & 0 & 0 & 0 & -1 & b_{0} & 1 & b_{0}\\\\0 & 1 & 0 & 0 & 0 & -1 & 0 & -1\\\\0 & 0 & 1 & 0 & 0 & b_{2} & -1 & b_{2} - 1\\\\0 & 0 & 0 & 1 & -1 & b_{3} & 0 & b_{3} - 1\\end{matrix}\\right]$"
      ],
      "text/plain": [
       "Matrix([\n",
       "[1, 0, 0, 0, -1, b0,  1,     b0],\n",
       "[0, 1, 0, 0,  0, -1,  0,     -1],\n",
       "[0, 0, 1, 0,  0, b2, -1, b2 - 1],\n",
       "[0, 0, 0, 1, -1, b3,  0, b3 - 1]])"
      ]
     },
     "metadata": {},
     "output_type": "display_data"
    },
    {
     "name": "stdout",
     "output_type": "stream",
     "text": [
      "1\n"
     ]
    }
   ],
   "source": [
    "display(C.char)\n",
    "print(C.is_fangiving)\n",
    "fans.append(C.char)"
   ]
  },
  {
   "cell_type": "markdown",
   "id": "6382d1f3-c568-4494-9aaa-9973a180ae5b",
   "metadata": {
    "jp-MarkdownHeadingCollapsed": true
   },
   "source": [
    "# Type 7 of the projection"
   ]
  },
  {
   "cell_type": "code",
   "execution_count": 56,
   "id": "4a068c15-cb36-4646-b802-0e3449b30d66",
   "metadata": {},
   "outputs": [],
   "source": [
    "C1 = copy.deepcopy(C0)\n",
    "C = C1\n",
    "t=7"
   ]
  },
  {
   "cell_type": "code",
   "execution_count": 57,
   "id": "ed60d9b3-ecf6-4789-8a66-bdba97ddd410",
   "metadata": {},
   "outputs": [
    {
     "data": {
      "text/latex": [
       "$\\displaystyle \\left[\\begin{matrix}1 & 0 & 0 & -1 & b_{0} & c_{0} & d_{0}\\\\0 & 1 & 0 & a_{1} & -1 & c_{1} & d_{1}\\\\0 & 0 & 1 & a_{2} & b_{2} & -1 & d_{2}\\end{matrix}\\right] = \\left[\\begin{matrix}1 & 0 & 0 & -1 & b_{0} & c_{0} & b_{0} + c_{0} - 1\\\\0 & 1 & 0 & 0 & -1 & c_{1} & c_{1} - 1\\\\0 & 0 & 1 & 0 & 0 & -1 & -1\\end{matrix}\\right]$"
      ],
      "text/plain": [
       "Eq(Matrix([\n",
       "[1, 0, 0, -1, b0, c0, d0],\n",
       "[0, 1, 0, a1, -1, c1, d1],\n",
       "[0, 0, 1, a2, b2, -1, d2]]), Matrix([\n",
       "[1, 0, 0, -1, b0, c0, b0 + c0 - 1],\n",
       "[0, 1, 0,  0, -1, c1,      c1 - 1],\n",
       "[0, 0, 1,  0,  0, -1,          -1]]))"
      ]
     },
     "metadata": {},
     "output_type": "display_data"
    },
    {
     "data": {
      "text/latex": [
       "$\\displaystyle \\text{True}$"
      ],
      "text/plain": [
       "True"
      ]
     },
     "metadata": {},
     "output_type": "display_data"
    }
   ],
   "source": [
    "proj = C.proj([4])\n",
    "with sp.evaluate(False):\n",
    "    display(sp.Eq(proj, fans_link[t]))\n",
    "\n",
    "C.subs(a1, 0)\n",
    "C.subs(a2, 0)\n",
    "C.subs(b2, 0)\n",
    "C.subs(d0, b0+c0-1)\n",
    "C.subs(d1, c1-1)\n",
    "C.subs(d2, -1)\n",
    "\n",
    "display(sp.Eq(C.proj([4]), fans_link[t]))"
   ]
  },
  {
   "cell_type": "code",
   "execution_count": 58,
   "id": "ab0fc16e-dc95-4e95-a9bd-007dc7ea4318",
   "metadata": {},
   "outputs": [
    {
     "name": "stdout",
     "output_type": "stream",
     "text": [
      "facet number: 5\n"
     ]
    },
    {
     "data": {
      "text/latex": [
       "$\\displaystyle 1 - c_{1} = 1$"
      ],
      "text/plain": [
       "Eq(1 - c1, 1)"
      ]
     },
     "metadata": {},
     "output_type": "display_data"
    },
    {
     "name": "stdout",
     "output_type": "stream",
     "text": [
      "c1=0 => type 6\n"
     ]
    }
   ],
   "source": [
    "i=5\n",
    "print('facet number:', i)\n",
    "display(sp.Eq(C.determinants[i], C.orientation[i]))\n",
    "\n",
    "print('c1=0 => type 6')"
   ]
  },
  {
   "cell_type": "markdown",
   "id": "7227e359-80ec-4083-8e80-0d61ec03db5b",
   "metadata": {
    "jp-MarkdownHeadingCollapsed": true
   },
   "source": [
    "# Type 8 of the projection"
   ]
  },
  {
   "cell_type": "code",
   "execution_count": 59,
   "id": "06f13276-6276-471c-ac29-37649d93c078",
   "metadata": {},
   "outputs": [],
   "source": [
    "C1 = copy.deepcopy(C0)\n",
    "C = C1\n",
    "t=8"
   ]
  },
  {
   "cell_type": "code",
   "execution_count": 60,
   "id": "4ffd3977-2cb3-4511-acd8-a36a71ce0da3",
   "metadata": {},
   "outputs": [
    {
     "data": {
      "text/latex": [
       "$\\displaystyle \\left[\\begin{matrix}1 & 0 & 0 & -1 & b_{0} & c_{0} & d_{0}\\\\0 & 1 & 0 & a_{1} & -1 & c_{1} & d_{1}\\\\0 & 0 & 1 & a_{2} & b_{2} & -1 & d_{2}\\end{matrix}\\right] = \\left[\\begin{matrix}1 & 0 & 0 & -1 & 0 & c_{0} & c_{0} - 1\\\\0 & 1 & 0 & a_{1} & -1 & c_{1} & a_{1} + c_{1} - 1\\\\0 & 0 & 1 & 0 & 0 & -1 & -1\\end{matrix}\\right]$"
      ],
      "text/plain": [
       "Eq(Matrix([\n",
       "[1, 0, 0, -1, b0, c0, d0],\n",
       "[0, 1, 0, a1, -1, c1, d1],\n",
       "[0, 0, 1, a2, b2, -1, d2]]), Matrix([\n",
       "[1, 0, 0, -1,  0, c0,      c0 - 1],\n",
       "[0, 1, 0, a1, -1, c1, a1 + c1 - 1],\n",
       "[0, 0, 1,  0,  0, -1,          -1]]))"
      ]
     },
     "metadata": {},
     "output_type": "display_data"
    },
    {
     "data": {
      "text/latex": [
       "$\\displaystyle \\text{True}$"
      ],
      "text/plain": [
       "True"
      ]
     },
     "metadata": {},
     "output_type": "display_data"
    }
   ],
   "source": [
    "proj = C.proj([4])\n",
    "with sp.evaluate(False):\n",
    "    display(sp.Eq(proj, fans_link[t]))\n",
    "\n",
    "C.subs(a2, 0)\n",
    "C.subs(b0, 0)\n",
    "C.subs(b2, 0)\n",
    "C.subs(d0, c0-1)\n",
    "C.subs(d1, a1+c1-1)\n",
    "C.subs(d2, -1)\n",
    "\n",
    "display(sp.Eq(C.proj([4]), fans_link[t]))"
   ]
  },
  {
   "cell_type": "code",
   "execution_count": 61,
   "id": "ca3d44c7-6260-476d-8b5d-78f00fbb8ad7",
   "metadata": {},
   "outputs": [
    {
     "name": "stdout",
     "output_type": "stream",
     "text": [
      "facet number: 8\n"
     ]
    },
    {
     "data": {
      "text/latex": [
       "$\\displaystyle a_{1} c_{3} - a_{1} d_{3} - a_{1} + 1 = 1$"
      ],
      "text/plain": [
       "Eq(a1*c3 - a1*d3 - a1 + 1, 1)"
      ]
     },
     "metadata": {},
     "output_type": "display_data"
    },
    {
     "name": "stdout",
     "output_type": "stream",
     "text": [
      "a1=0 => type 7\n"
     ]
    }
   ],
   "source": [
    "i=8\n",
    "print('facet number:', i)\n",
    "display(sp.Eq(C.determinants[i], C.orientation[i]))\n",
    "\n",
    "print('a1=0 => type 7')\n",
    "\n",
    "C.subs(c3, d3+1)"
   ]
  },
  {
   "cell_type": "code",
   "execution_count": 62,
   "id": "4fd99405-c8d0-4f77-9145-4c8007dfb6bb",
   "metadata": {},
   "outputs": [
    {
     "name": "stdout",
     "output_type": "stream",
     "text": [
      "facet number: 9\n"
     ]
    },
    {
     "data": {
      "text/latex": [
       "$\\displaystyle a_{1} b_{3} - b_{3} - 1 = -1$"
      ],
      "text/plain": [
       "Eq(a1*b3 - b3 - 1, -1)"
      ]
     },
     "metadata": {},
     "output_type": "display_data"
    }
   ],
   "source": [
    "i=9\n",
    "print('facet number:', i)\n",
    "display(sp.Eq(C.determinants[i], C.orientation[i]))"
   ]
  },
  {
   "cell_type": "markdown",
   "id": "9ea9505a-c476-4a41-bc46-4bf5467c51e1",
   "metadata": {
    "jp-MarkdownHeadingCollapsed": true
   },
   "source": [
    "## $a_1=1$"
   ]
  },
  {
   "cell_type": "code",
   "execution_count": 63,
   "id": "466d4ad6-1c56-4c71-a295-191d63542cbd",
   "metadata": {},
   "outputs": [],
   "source": [
    "C2 = copy.deepcopy(C1)\n",
    "C = C2\n",
    "C.subs(a1, 1)"
   ]
  },
  {
   "cell_type": "code",
   "execution_count": 64,
   "id": "ca0ea7ad-e1ff-42a5-bc0f-0563707051d6",
   "metadata": {},
   "outputs": [
    {
     "name": "stdout",
     "output_type": "stream",
     "text": [
      "facet number: 5\n"
     ]
    },
    {
     "data": {
      "text/latex": [
       "$\\displaystyle - c_{1} - d_{3} = 1$"
      ],
      "text/plain": [
       "Eq(-c1 - d3, 1)"
      ]
     },
     "metadata": {},
     "output_type": "display_data"
    }
   ],
   "source": [
    "i=5\n",
    "print('facet number:', i)\n",
    "display(sp.Eq(C.determinants[i], C.orientation[i]))\n",
    "\n",
    "C.subs(c1, -d3-1)"
   ]
  },
  {
   "cell_type": "code",
   "execution_count": 65,
   "id": "ffc75d2d-35b2-4534-b4cc-2e30e75740d7",
   "metadata": {},
   "outputs": [
    {
     "name": "stdout",
     "output_type": "stream",
     "text": [
      "facet number: 6\n"
     ]
    },
    {
     "data": {
      "text/latex": [
       "$\\displaystyle - b_{3} d_{3} - b_{3} + d_{3} = -1$"
      ],
      "text/plain": [
       "Eq(-b3*d3 - b3 + d3, -1)"
      ]
     },
     "metadata": {},
     "output_type": "display_data"
    },
    {
     "data": {
      "text/latex": [
       "$\\displaystyle \\left(b_{3} - 1\\right) \\left(d_{3} + 1\\right) = 0$"
      ],
      "text/plain": [
       "Eq((b3 - 1)*(d3 + 1), 0)"
      ]
     },
     "metadata": {},
     "output_type": "display_data"
    }
   ],
   "source": [
    "i=6\n",
    "print('facet number:', i)\n",
    "display(sp.Eq(C.determinants[i], C.orientation[i]))\n",
    "\n",
    "display(sp.Eq((b3-1)*(d3+1), 0))"
   ]
  },
  {
   "cell_type": "markdown",
   "id": "f287f472-dec4-450c-a693-1c3305360658",
   "metadata": {
    "jp-MarkdownHeadingCollapsed": true
   },
   "source": [
    "### $b_3=1$"
   ]
  },
  {
   "cell_type": "code",
   "execution_count": 66,
   "id": "f27979ff-5603-4742-a57b-d51dcc8a26f4",
   "metadata": {},
   "outputs": [],
   "source": [
    "C3 = copy.deepcopy(C2)\n",
    "C = C3\n",
    "C.subs(b3, 1)"
   ]
  },
  {
   "cell_type": "code",
   "execution_count": 67,
   "id": "722c65b5-71e4-4b1b-9fa5-26b03402db3f",
   "metadata": {},
   "outputs": [
    {
     "data": {
      "text/latex": [
       "$\\displaystyle \\left[\\begin{matrix}1 & 0 & 0 & 0 & -1 & 0 & c_{0} & c_{0} - 1\\\\0 & 1 & 0 & 0 & 1 & -1 & - d_{3} - 1 & - d_{3} - 1\\\\0 & 0 & 1 & 0 & 0 & 0 & -1 & -1\\\\0 & 0 & 0 & 1 & -1 & 1 & d_{3} + 1 & d_{3}\\end{matrix}\\right]$"
      ],
      "text/plain": [
       "Matrix([\n",
       "[1, 0, 0, 0, -1,  0,      c0,  c0 - 1],\n",
       "[0, 1, 0, 0,  1, -1, -d3 - 1, -d3 - 1],\n",
       "[0, 0, 1, 0,  0,  0,      -1,      -1],\n",
       "[0, 0, 0, 1, -1,  1,  d3 + 1,      d3]])"
      ]
     },
     "metadata": {},
     "output_type": "display_data"
    },
    {
     "name": "stdout",
     "output_type": "stream",
     "text": [
      "1\n"
     ]
    }
   ],
   "source": [
    "display(C.char)\n",
    "print(C.is_fangiving)\n",
    "fans.append(C.char)"
   ]
  },
  {
   "cell_type": "markdown",
   "id": "fef7155a-e7d3-440c-af1c-8ebc43c3a100",
   "metadata": {
    "jp-MarkdownHeadingCollapsed": true
   },
   "source": [
    "### $d_3=-1$ ($b_3 \\not= 1$)"
   ]
  },
  {
   "cell_type": "code",
   "execution_count": 68,
   "id": "449180ee-4a70-4718-94cc-5a1b419777d3",
   "metadata": {},
   "outputs": [],
   "source": [
    "C3 = copy.deepcopy(C2)\n",
    "C = C3\n",
    "C.subs(d3, -1)"
   ]
  },
  {
   "cell_type": "code",
   "execution_count": 69,
   "id": "eaf6623e-f4a7-452e-b4a6-e6a9ca4c05ad",
   "metadata": {},
   "outputs": [
    {
     "name": "stdout",
     "output_type": "stream",
     "text": [
      "facet number: 13\n"
     ]
    },
    {
     "data": {
      "text/latex": [
       "$\\displaystyle b_{3} c_{0} - b_{3} - c_{0} = -1$"
      ],
      "text/plain": [
       "Eq(b3*c0 - b3 - c0, -1)"
      ]
     },
     "metadata": {},
     "output_type": "display_data"
    },
    {
     "data": {
      "text/latex": [
       "$\\displaystyle \\left(b_{3} - 1\\right) \\left(c_{0} - 1\\right) = 0$"
      ],
      "text/plain": [
       "Eq((b3 - 1)*(c0 - 1), 0)"
      ]
     },
     "metadata": {},
     "output_type": "display_data"
    }
   ],
   "source": [
    "i=13\n",
    "print('facet number:', i)\n",
    "display(sp.Eq(C.determinants[i], C.orientation[i]))\n",
    "\n",
    "display(sp.Eq((b3-1)*(c0-1), 0))\n",
    "C.subs(c0, 1)"
   ]
  },
  {
   "cell_type": "code",
   "execution_count": 70,
   "id": "9da151e7-6db2-4bb5-87ab-23071f487e41",
   "metadata": {},
   "outputs": [
    {
     "data": {
      "text/latex": [
       "$\\displaystyle \\left[\\begin{matrix}1 & 0 & 0 & 0 & -1 & 0 & 1 & 0\\\\0 & 1 & 0 & 0 & 1 & -1 & 0 & 0\\\\0 & 0 & 1 & 0 & 0 & 0 & -1 & -1\\\\0 & 0 & 0 & 1 & -1 & b_{3} & 0 & -1\\end{matrix}\\right]$"
      ],
      "text/plain": [
       "Matrix([\n",
       "[1, 0, 0, 0, -1,  0,  1,  0],\n",
       "[0, 1, 0, 0,  1, -1,  0,  0],\n",
       "[0, 0, 1, 0,  0,  0, -1, -1],\n",
       "[0, 0, 0, 1, -1, b3,  0, -1]])"
      ]
     },
     "metadata": {},
     "output_type": "display_data"
    },
    {
     "name": "stdout",
     "output_type": "stream",
     "text": [
      "1\n"
     ]
    }
   ],
   "source": [
    "display(C.char)\n",
    "print(C.is_fangiving)\n",
    "fans.append(C.char)"
   ]
  },
  {
   "cell_type": "markdown",
   "id": "622994c2-9eba-4acf-a526-a11ae9f5c69b",
   "metadata": {
    "jp-MarkdownHeadingCollapsed": true
   },
   "source": [
    "## $b_3=0$ ($a_1 \\not= 1$)"
   ]
  },
  {
   "cell_type": "code",
   "execution_count": 71,
   "id": "8b4de6c1-8f15-4007-828b-81ff39c87699",
   "metadata": {},
   "outputs": [],
   "source": [
    "C2 = copy.deepcopy(C1)\n",
    "C = C2\n",
    "C.subs(b3, 0)"
   ]
  },
  {
   "cell_type": "code",
   "execution_count": 72,
   "id": "72fc315c-cdf4-43fb-8a78-0353ee8b8d3c",
   "metadata": {},
   "outputs": [
    {
     "name": "stdout",
     "output_type": "stream",
     "text": [
      "facet number: 6\n"
     ]
    },
    {
     "data": {
      "text/latex": [
       "$\\displaystyle d_{3} = -1$"
      ],
      "text/plain": [
       "Eq(d3, -1)"
      ]
     },
     "metadata": {},
     "output_type": "display_data"
    }
   ],
   "source": [
    "i=6\n",
    "print('facet number:', i)\n",
    "display(sp.Eq(C.determinants[i], C.orientation[i]))\n",
    "\n",
    "C.subs(d3, -1)"
   ]
  },
  {
   "cell_type": "code",
   "execution_count": 73,
   "id": "f8387de7-7483-418e-8266-41d8e9a462ae",
   "metadata": {},
   "outputs": [
    {
     "name": "stdout",
     "output_type": "stream",
     "text": [
      "facet number: 13\n"
     ]
    },
    {
     "data": {
      "text/latex": [
       "$\\displaystyle - c_{0} = -1$"
      ],
      "text/plain": [
       "Eq(-c0, -1)"
      ]
     },
     "metadata": {},
     "output_type": "display_data"
    }
   ],
   "source": [
    "i=13\n",
    "print('facet number:', i)\n",
    "display(sp.Eq(C.determinants[i], C.orientation[i]))\n",
    "\n",
    "C.subs(c0, 1)"
   ]
  },
  {
   "cell_type": "code",
   "execution_count": 74,
   "id": "6945dfe0-4dd6-4726-b0dd-b857683f8ab4",
   "metadata": {},
   "outputs": [
    {
     "name": "stdout",
     "output_type": "stream",
     "text": [
      "facet number: 5\n"
     ]
    },
    {
     "data": {
      "text/latex": [
       "$\\displaystyle 1 - c_{1} = 1$"
      ],
      "text/plain": [
       "Eq(1 - c1, 1)"
      ]
     },
     "metadata": {},
     "output_type": "display_data"
    }
   ],
   "source": [
    "i=5\n",
    "print('facet number:', i)\n",
    "display(sp.Eq(C.determinants[i], C.orientation[i]))\n",
    "\n",
    "C.subs(c1, 0)"
   ]
  },
  {
   "cell_type": "code",
   "execution_count": 75,
   "id": "dab8a388-8c8a-4a5e-bc14-690569162c7c",
   "metadata": {},
   "outputs": [
    {
     "data": {
      "text/latex": [
       "$\\displaystyle \\left[\\begin{matrix}1 & 0 & 0 & 0 & -1 & 0 & 1 & 0\\\\0 & 1 & 0 & 0 & a_{1} & -1 & 0 & a_{1} - 1\\\\0 & 0 & 1 & 0 & 0 & 0 & -1 & -1\\\\0 & 0 & 0 & 1 & -1 & 0 & 0 & -1\\end{matrix}\\right]$"
      ],
      "text/plain": [
       "Matrix([\n",
       "[1, 0, 0, 0, -1,  0,  1,      0],\n",
       "[0, 1, 0, 0, a1, -1,  0, a1 - 1],\n",
       "[0, 0, 1, 0,  0,  0, -1,     -1],\n",
       "[0, 0, 0, 1, -1,  0,  0,     -1]])"
      ]
     },
     "metadata": {},
     "output_type": "display_data"
    },
    {
     "name": "stdout",
     "output_type": "stream",
     "text": [
      "1\n"
     ]
    }
   ],
   "source": [
    "display(C.char)\n",
    "print(C.is_fangiving)\n",
    "fans.append(C.char)"
   ]
  },
  {
   "cell_type": "markdown",
   "id": "f45f2501-6e50-4840-90d4-ca0f1efd60c8",
   "metadata": {
    "jp-MarkdownHeadingCollapsed": true
   },
   "source": [
    "# Type 9 of the projection"
   ]
  },
  {
   "cell_type": "code",
   "execution_count": 76,
   "id": "e1753a65-ffc5-4ecd-8ddf-c92dcf9168ca",
   "metadata": {},
   "outputs": [],
   "source": [
    "C1 = copy.deepcopy(C0)\n",
    "C = C1\n",
    "t=9"
   ]
  },
  {
   "cell_type": "code",
   "execution_count": 77,
   "id": "f92d6981-7794-4a74-b351-9d0ab58608f5",
   "metadata": {},
   "outputs": [
    {
     "data": {
      "text/latex": [
       "$\\displaystyle \\left[\\begin{matrix}1 & 0 & 0 & -1 & b_{0} & c_{0} & d_{0}\\\\0 & 1 & 0 & a_{1} & -1 & c_{1} & d_{1}\\\\0 & 0 & 1 & a_{2} & b_{2} & -1 & d_{2}\\end{matrix}\\right] = \\left[\\begin{matrix}1 & 0 & 0 & -1 & 0 & 0 & -1\\\\0 & 1 & 0 & a_{1} & -1 & c_{1} & a_{1} + c_{1} - 1\\\\0 & 0 & 1 & a_{2} & 0 & -1 & a_{2} - 1\\end{matrix}\\right]$"
      ],
      "text/plain": [
       "Eq(Matrix([\n",
       "[1, 0, 0, -1, b0, c0, d0],\n",
       "[0, 1, 0, a1, -1, c1, d1],\n",
       "[0, 0, 1, a2, b2, -1, d2]]), Matrix([\n",
       "[1, 0, 0, -1,  0,  0,          -1],\n",
       "[0, 1, 0, a1, -1, c1, a1 + c1 - 1],\n",
       "[0, 0, 1, a2,  0, -1,      a2 - 1]]))"
      ]
     },
     "metadata": {},
     "output_type": "display_data"
    },
    {
     "data": {
      "text/latex": [
       "$\\displaystyle \\text{True}$"
      ],
      "text/plain": [
       "True"
      ]
     },
     "metadata": {},
     "output_type": "display_data"
    }
   ],
   "source": [
    "proj = C.proj([4])\n",
    "with sp.evaluate(False):\n",
    "    display(sp.Eq(proj, fans_link[t]))\n",
    "\n",
    "C.subs(b0, 0)\n",
    "C.subs(b2, 0)\n",
    "C.subs(c0, 0)\n",
    "C.subs(d0, -1)\n",
    "C.subs(d1, a1+c1-1)\n",
    "C.subs(d2, a2-1)\n",
    "\n",
    "display(sp.Eq(C.proj([4]), fans_link[t]))"
   ]
  },
  {
   "cell_type": "code",
   "execution_count": 78,
   "id": "05b9e103-a7bc-4aba-abbe-49406b0e6e1f",
   "metadata": {},
   "outputs": [
    {
     "name": "stdout",
     "output_type": "stream",
     "text": [
      "facet number: 3\n"
     ]
    },
    {
     "data": {
      "text/latex": [
       "$\\displaystyle a_{2} c_{3} - 1 = -1$"
      ],
      "text/plain": [
       "Eq(a2*c3 - 1, -1)"
      ]
     },
     "metadata": {},
     "output_type": "display_data"
    },
    {
     "name": "stdout",
     "output_type": "stream",
     "text": [
      "a2=0 => type 8\n"
     ]
    }
   ],
   "source": [
    "i=3\n",
    "print('facet number:', i)\n",
    "display(sp.Eq(C.determinants[i], C.orientation[i]))\n",
    "\n",
    "print('a2=0 => type 8')\n",
    "\n",
    "C.subs(c3, 0)"
   ]
  },
  {
   "cell_type": "code",
   "execution_count": 79,
   "id": "bf9abaf8-acd0-4040-85e6-4af003710c5b",
   "metadata": {},
   "outputs": [
    {
     "name": "stdout",
     "output_type": "stream",
     "text": [
      "facet number: 6\n"
     ]
    },
    {
     "data": {
      "text/latex": [
       "$\\displaystyle a_{1} b_{3} + b_{3} c_{1} - b_{3} + d_{3} = -1$"
      ],
      "text/plain": [
       "Eq(a1*b3 + b3*c1 - b3 + d3, -1)"
      ]
     },
     "metadata": {},
     "output_type": "display_data"
    },
    {
     "name": "stdout",
     "output_type": "stream",
     "text": [
      "facet number: 13\n"
     ]
    },
    {
     "data": {
      "text/latex": [
       "$\\displaystyle b_{3} c_{1} - b_{3} + d_{3} + 1 = -1$"
      ],
      "text/plain": [
       "Eq(b3*c1 - b3 + d3 + 1, -1)"
      ]
     },
     "metadata": {},
     "output_type": "display_data"
    },
    {
     "data": {
      "text/latex": [
       "$\\displaystyle a_{1} b_{3} - 1 = 0$"
      ],
      "text/plain": [
       "Eq(a1*b3 - 1, 0)"
      ]
     },
     "metadata": {},
     "output_type": "display_data"
    }
   ],
   "source": [
    "i=6\n",
    "print('facet number:', i)\n",
    "display(sp.Eq(C.determinants[i], C.orientation[i]))\n",
    "\n",
    "i=13\n",
    "print('facet number:', i)\n",
    "display(sp.Eq(C.determinants[i], C.orientation[i]))\n",
    "\n",
    "display(sp.Eq(C.determinants[6]-C.determinants[13], C.orientation[6]-C.orientation[13]))"
   ]
  },
  {
   "cell_type": "markdown",
   "id": "623a47ab-4aed-44d4-b4e2-7b929394898f",
   "metadata": {
    "jp-MarkdownHeadingCollapsed": true
   },
   "source": [
    "## $a_1=1$, $b_3=1$"
   ]
  },
  {
   "cell_type": "code",
   "execution_count": 80,
   "id": "a9912c5e-300a-46c8-b3e4-5a9a21ef6ba7",
   "metadata": {},
   "outputs": [],
   "source": [
    "C2 = copy.deepcopy(C1)\n",
    "C = C2\n",
    "C.subs(a1, 1)\n",
    "C.subs(b3, 1)"
   ]
  },
  {
   "cell_type": "code",
   "execution_count": 81,
   "id": "7872b117-3a21-48fa-a362-b1009fbeffbc",
   "metadata": {},
   "outputs": [
    {
     "name": "stdout",
     "output_type": "stream",
     "text": [
      "facet number: 6\n"
     ]
    },
    {
     "data": {
      "text/latex": [
       "$\\displaystyle c_{1} + d_{3} = -1$"
      ],
      "text/plain": [
       "Eq(c1 + d3, -1)"
      ]
     },
     "metadata": {},
     "output_type": "display_data"
    }
   ],
   "source": [
    "i=6\n",
    "print('facet number:', i)\n",
    "display(sp.Eq(C.determinants[i], C.orientation[i]))\n",
    "\n",
    "C.subs(d3, -c1-1)"
   ]
  },
  {
   "cell_type": "code",
   "execution_count": 82,
   "id": "327bb3ce-9c12-4679-ab29-5d568c18d606",
   "metadata": {},
   "outputs": [
    {
     "name": "stdout",
     "output_type": "stream",
     "text": [
      "facet number: 9\n"
     ]
    },
    {
     "data": {
      "text/latex": [
       "$\\displaystyle a_{2} c_{1} - c_{1} - 1 = -1$"
      ],
      "text/plain": [
       "Eq(a2*c1 - c1 - 1, -1)"
      ]
     },
     "metadata": {},
     "output_type": "display_data"
    },
    {
     "name": "stdout",
     "output_type": "stream",
     "text": [
      "c1=0 => type 5\n"
     ]
    }
   ],
   "source": [
    "i=9\n",
    "print('facet number:', i)\n",
    "display(sp.Eq(C.determinants[i], C.orientation[i]))\n",
    "\n",
    "print('c1=0 => type 5')\n",
    "\n",
    "C.subs(a2, 1)"
   ]
  },
  {
   "cell_type": "code",
   "execution_count": 83,
   "id": "069eb259-196e-4b51-8201-c63f93190da4",
   "metadata": {},
   "outputs": [
    {
     "name": "stdout",
     "output_type": "stream",
     "text": [
      "facet number: 8\n"
     ]
    },
    {
     "data": {
      "text/latex": [
       "$\\displaystyle c_{1}^{2} + c_{1} + 1 = 1$"
      ],
      "text/plain": [
       "Eq(c1**2 + c1 + 1, 1)"
      ]
     },
     "metadata": {},
     "output_type": "display_data"
    },
    {
     "name": "stdout",
     "output_type": "stream",
     "text": [
      "c1=0 => type 5\n"
     ]
    }
   ],
   "source": [
    "i=8\n",
    "print('facet number:', i)\n",
    "display(sp.Eq(C.determinants[i], C.orientation[i]))\n",
    "\n",
    "print('c1=0 => type 5')\n",
    "\n",
    "C.subs(c1, -1)"
   ]
  },
  {
   "cell_type": "code",
   "execution_count": 84,
   "id": "11ce2b9e-444f-4e45-acfe-a54d04d2eb8d",
   "metadata": {},
   "outputs": [
    {
     "data": {
      "text/latex": [
       "$\\displaystyle \\left[\\begin{matrix}1 & 0 & 0 & 0 & -1 & 0 & 0 & -1\\\\0 & 1 & 0 & 0 & 1 & -1 & -1 & -1\\\\0 & 0 & 1 & 0 & 1 & 0 & -1 & 0\\\\0 & 0 & 0 & 1 & -1 & 1 & 0 & 0\\end{matrix}\\right]$"
      ],
      "text/plain": [
       "Matrix([\n",
       "[1, 0, 0, 0, -1,  0,  0, -1],\n",
       "[0, 1, 0, 0,  1, -1, -1, -1],\n",
       "[0, 0, 1, 0,  1,  0, -1,  0],\n",
       "[0, 0, 0, 1, -1,  1,  0,  0]])"
      ]
     },
     "metadata": {},
     "output_type": "display_data"
    },
    {
     "name": "stdout",
     "output_type": "stream",
     "text": [
      "1\n"
     ]
    }
   ],
   "source": [
    "display(C.char)\n",
    "print(C.is_fangiving)\n",
    "fans.append(C.char)"
   ]
  },
  {
   "cell_type": "markdown",
   "id": "fbd25421-bcac-44c1-ad09-03727d1212d2",
   "metadata": {
    "jp-MarkdownHeadingCollapsed": true
   },
   "source": [
    "## $a_1=-1$, $b_3=-1$"
   ]
  },
  {
   "cell_type": "code",
   "execution_count": 85,
   "id": "21059370-7b57-49df-9ca5-832a0c2b6ca0",
   "metadata": {},
   "outputs": [],
   "source": [
    "C2 = copy.deepcopy(C1)\n",
    "C = C2\n",
    "C.subs(a1, -1)\n",
    "C.subs(b3, -1)"
   ]
  },
  {
   "cell_type": "code",
   "execution_count": 86,
   "id": "04520e4e-78fa-4c54-bc2e-a27e777e570e",
   "metadata": {},
   "outputs": [
    {
     "name": "stdout",
     "output_type": "stream",
     "text": [
      "facet number: 5\n"
     ]
    },
    {
     "data": {
      "text/latex": [
       "$\\displaystyle - c_{1} + d_{3} + 2 = 1$"
      ],
      "text/plain": [
       "Eq(-c1 + d3 + 2, 1)"
      ]
     },
     "metadata": {},
     "output_type": "display_data"
    },
    {
     "name": "stdout",
     "output_type": "stream",
     "text": [
      "facet number: 6\n"
     ]
    },
    {
     "data": {
      "text/latex": [
       "$\\displaystyle - c_{1} + d_{3} + 2 = -1$"
      ],
      "text/plain": [
       "Eq(-c1 + d3 + 2, -1)"
      ]
     },
     "metadata": {},
     "output_type": "display_data"
    },
    {
     "name": "stdout",
     "output_type": "stream",
     "text": [
      "no solution\n"
     ]
    }
   ],
   "source": [
    "i=5\n",
    "print('facet number:', i)\n",
    "display(sp.Eq(C.determinants[i], C.orientation[i]))\n",
    "\n",
    "i=6\n",
    "print('facet number:', i)\n",
    "display(sp.Eq(C.determinants[i], C.orientation[i]))\n",
    "\n",
    "print('no solution')"
   ]
  },
  {
   "cell_type": "markdown",
   "id": "92b2226f-bc9e-48c4-b846-c5a5a2160c27",
   "metadata": {
    "jp-MarkdownHeadingCollapsed": true
   },
   "source": [
    "# Type 10 of the projection"
   ]
  },
  {
   "cell_type": "code",
   "execution_count": 87,
   "id": "e6fcb085-2efa-4ba8-9a9c-b70cb29f9c72",
   "metadata": {},
   "outputs": [],
   "source": [
    "C1 = copy.deepcopy(C0)\n",
    "C = C1\n",
    "t=10"
   ]
  },
  {
   "cell_type": "code",
   "execution_count": 88,
   "id": "e5f2840e-69e8-41b1-94e6-2e90eb824d1b",
   "metadata": {},
   "outputs": [
    {
     "data": {
      "text/latex": [
       "$\\displaystyle \\left[\\begin{matrix}1 & 0 & 0 & -1 & b_{0} & c_{0} & d_{0}\\\\0 & 1 & 0 & a_{1} & -1 & c_{1} & d_{1}\\\\0 & 0 & 1 & a_{2} & b_{2} & -1 & d_{2}\\end{matrix}\\right] = \\left[\\begin{matrix}1 & 0 & 0 & -1 & 0 & 1 & 0\\\\0 & 1 & 0 & 1 & -1 & 0 & 0\\\\0 & 0 & 1 & 0 & b_{2} & -1 & -1\\end{matrix}\\right]$"
      ],
      "text/plain": [
       "Eq(Matrix([\n",
       "[1, 0, 0, -1, b0, c0, d0],\n",
       "[0, 1, 0, a1, -1, c1, d1],\n",
       "[0, 0, 1, a2, b2, -1, d2]]), Matrix([\n",
       "[1, 0, 0, -1,  0,  1,  0],\n",
       "[0, 1, 0,  1, -1,  0,  0],\n",
       "[0, 0, 1,  0, b2, -1, -1]]))"
      ]
     },
     "metadata": {},
     "output_type": "display_data"
    },
    {
     "data": {
      "text/latex": [
       "$\\displaystyle \\text{True}$"
      ],
      "text/plain": [
       "True"
      ]
     },
     "metadata": {},
     "output_type": "display_data"
    }
   ],
   "source": [
    "proj = C.proj([4])\n",
    "with sp.evaluate(False):\n",
    "    display(sp.Eq(proj, fans_link[t]))\n",
    "\n",
    "C.subs(a1, 1)\n",
    "C.subs(a2, 0)\n",
    "C.subs(b0, 0)\n",
    "C.subs(c0, 1)\n",
    "C.subs(c1, 0)\n",
    "C.subs(d0, 0)\n",
    "C.subs(d1, 0)\n",
    "C.subs(d2, -1)\n",
    "\n",
    "display(sp.Eq(C.proj([4]), fans_link[t]))"
   ]
  },
  {
   "cell_type": "code",
   "execution_count": 89,
   "id": "286568d8-8853-4cbd-b927-246a88899d0e",
   "metadata": {},
   "outputs": [
    {
     "name": "stdout",
     "output_type": "stream",
     "text": [
      "facet number: 6\n"
     ]
    },
    {
     "data": {
      "text/latex": [
       "$\\displaystyle d_{3} = -1$"
      ],
      "text/plain": [
       "Eq(d3, -1)"
      ]
     },
     "metadata": {},
     "output_type": "display_data"
    }
   ],
   "source": [
    "i=6\n",
    "print('facet number:', i)\n",
    "display(sp.Eq(C.determinants[i], C.orientation[i]))\n",
    "\n",
    "C.subs(d3, -1)"
   ]
  },
  {
   "cell_type": "code",
   "execution_count": 90,
   "id": "9c774e80-3ce3-4992-9e0b-950b5fe53645",
   "metadata": {},
   "outputs": [
    {
     "name": "stdout",
     "output_type": "stream",
     "text": [
      "facet number: 8\n"
     ]
    },
    {
     "data": {
      "text/latex": [
       "$\\displaystyle c_{3} + 1 = 1$"
      ],
      "text/plain": [
       "Eq(c3 + 1, 1)"
      ]
     },
     "metadata": {},
     "output_type": "display_data"
    }
   ],
   "source": [
    "i=8\n",
    "print('facet number:', i)\n",
    "display(sp.Eq(C.determinants[i], C.orientation[i]))\n",
    "\n",
    "C.subs(c3, 0)"
   ]
  },
  {
   "cell_type": "code",
   "execution_count": 91,
   "id": "e4dc6976-ce0d-4e05-b3fa-9d1f9d7f3b1e",
   "metadata": {},
   "outputs": [
    {
     "data": {
      "text/latex": [
       "$\\displaystyle \\left[\\begin{matrix}1 & 0 & 0 & 0 & -1 & 0 & 1 & 0\\\\0 & 1 & 0 & 0 & 1 & -1 & 0 & 0\\\\0 & 0 & 1 & 0 & 0 & b_{2} & -1 & -1\\\\0 & 0 & 0 & 1 & -1 & b_{3} & 0 & -1\\end{matrix}\\right]$"
      ],
      "text/plain": [
       "Matrix([\n",
       "[1, 0, 0, 0, -1,  0,  1,  0],\n",
       "[0, 1, 0, 0,  1, -1,  0,  0],\n",
       "[0, 0, 1, 0,  0, b2, -1, -1],\n",
       "[0, 0, 0, 1, -1, b3,  0, -1]])"
      ]
     },
     "metadata": {},
     "output_type": "display_data"
    },
    {
     "name": "stdout",
     "output_type": "stream",
     "text": [
      "1\n"
     ]
    }
   ],
   "source": [
    "display(C.char)\n",
    "print(C.is_fangiving)\n",
    "fans.append(C.char)"
   ]
  },
  {
   "cell_type": "markdown",
   "id": "657bc556-e61b-4712-95ef-90a8e4515ac1",
   "metadata": {
    "jp-MarkdownHeadingCollapsed": true
   },
   "source": [
    "# Type 11 of the projection"
   ]
  },
  {
   "cell_type": "code",
   "execution_count": 92,
   "id": "355b64a1-e06f-4e09-864c-558982f5e46e",
   "metadata": {},
   "outputs": [],
   "source": [
    "C1 = copy.deepcopy(C0)\n",
    "C = C1\n",
    "t=11"
   ]
  },
  {
   "cell_type": "code",
   "execution_count": 93,
   "id": "4e47edc5-72ff-4847-b3c0-1337c7f3528c",
   "metadata": {},
   "outputs": [
    {
     "data": {
      "text/latex": [
       "$\\displaystyle \\left[\\begin{matrix}1 & 0 & 0 & -1 & b_{0} & c_{0} & d_{0}\\\\0 & 1 & 0 & a_{1} & -1 & c_{1} & d_{1}\\\\0 & 0 & 1 & a_{2} & b_{2} & -1 & d_{2}\\end{matrix}\\right] = \\left[\\begin{matrix}1 & 0 & 0 & -1 & 0 & -1 & -1\\\\0 & 1 & 0 & -1 & -1 & 0 & -1\\\\0 & 0 & 1 & 0 & -1 & -1 & -1\\end{matrix}\\right]$"
      ],
      "text/plain": [
       "Eq(Matrix([\n",
       "[1, 0, 0, -1, b0, c0, d0],\n",
       "[0, 1, 0, a1, -1, c1, d1],\n",
       "[0, 0, 1, a2, b2, -1, d2]]), Matrix([\n",
       "[1, 0, 0, -1,  0, -1, -1],\n",
       "[0, 1, 0, -1, -1,  0, -1],\n",
       "[0, 0, 1,  0, -1, -1, -1]]))"
      ]
     },
     "metadata": {},
     "output_type": "display_data"
    },
    {
     "data": {
      "text/latex": [
       "$\\displaystyle \\text{True}$"
      ],
      "text/plain": [
       "True"
      ]
     },
     "metadata": {},
     "output_type": "display_data"
    }
   ],
   "source": [
    "proj = C.proj([4])\n",
    "with sp.evaluate(False):\n",
    "    display(sp.Eq(proj, fans_link[t]))\n",
    "\n",
    "C.subs(a1, -1)\n",
    "C.subs(a2, 0)\n",
    "C.subs(b0, 0)\n",
    "C.subs(b2, -1)\n",
    "C.subs(c0, -1)\n",
    "C.subs(c1, 0)\n",
    "C.subs(d0, -1)\n",
    "C.subs(d1, -1)\n",
    "C.subs(d2, -1)\n",
    "\n",
    "display(sp.Eq(C.proj([4]), fans_link[t]))"
   ]
  },
  {
   "cell_type": "code",
   "execution_count": 94,
   "id": "9ee2da3b-366a-455b-b5c7-3962762410ba",
   "metadata": {},
   "outputs": [
    {
     "name": "stdout",
     "output_type": "stream",
     "text": [
      "facet number: 5\n"
     ]
    },
    {
     "data": {
      "text/latex": [
       "$\\displaystyle d_{3} + 1 = 1$"
      ],
      "text/plain": [
       "Eq(d3 + 1, 1)"
      ]
     },
     "metadata": {},
     "output_type": "display_data"
    },
    {
     "name": "stdout",
     "output_type": "stream",
     "text": [
      "facet number: 13\n"
     ]
    },
    {
     "data": {
      "text/latex": [
       "$\\displaystyle d_{3} + 1 = -1$"
      ],
      "text/plain": [
       "Eq(d3 + 1, -1)"
      ]
     },
     "metadata": {},
     "output_type": "display_data"
    },
    {
     "name": "stdout",
     "output_type": "stream",
     "text": [
      "no solution\n"
     ]
    }
   ],
   "source": [
    "i=5\n",
    "print('facet number:', i)\n",
    "display(sp.Eq(C.determinants[i], C.orientation[i]))\n",
    "\n",
    "i=13\n",
    "print('facet number:', i)\n",
    "display(sp.Eq(C.determinants[i], C.orientation[i]))\n",
    "\n",
    "print('no solution')"
   ]
  },
  {
   "cell_type": "markdown",
   "id": "d926493e-a45b-4eee-a039-069f54b4bf7b",
   "metadata": {
    "jp-MarkdownHeadingCollapsed": true
   },
   "source": [
    "# Type 12 of the projection"
   ]
  },
  {
   "cell_type": "code",
   "execution_count": 95,
   "id": "5fc81ee5-3c06-4f10-b591-f6df11cd3148",
   "metadata": {},
   "outputs": [],
   "source": [
    "C1 = copy.deepcopy(C0)\n",
    "C = C1\n",
    "t=12"
   ]
  },
  {
   "cell_type": "code",
   "execution_count": 96,
   "id": "e2dfd510-55a3-4277-9436-a11cf9586ec5",
   "metadata": {},
   "outputs": [
    {
     "data": {
      "text/latex": [
       "$\\displaystyle \\left[\\begin{matrix}1 & 0 & 0 & -1 & b_{0} & c_{0} & d_{0}\\\\0 & 1 & 0 & a_{1} & -1 & c_{1} & d_{1}\\\\0 & 0 & 1 & a_{2} & b_{2} & -1 & d_{2}\\end{matrix}\\right] = \\left[\\begin{matrix}1 & 0 & 0 & -1 & b_{0} & 0 & -1\\\\0 & 1 & 0 & 0 & -1 & 1 & 0\\\\0 & 0 & 1 & 1 & 0 & -1 & 0\\end{matrix}\\right]$"
      ],
      "text/plain": [
       "Eq(Matrix([\n",
       "[1, 0, 0, -1, b0, c0, d0],\n",
       "[0, 1, 0, a1, -1, c1, d1],\n",
       "[0, 0, 1, a2, b2, -1, d2]]), Matrix([\n",
       "[1, 0, 0, -1, b0,  0, -1],\n",
       "[0, 1, 0,  0, -1,  1,  0],\n",
       "[0, 0, 1,  1,  0, -1,  0]]))"
      ]
     },
     "metadata": {},
     "output_type": "display_data"
    },
    {
     "name": "stdout",
     "output_type": "stream",
     "text": [
      "facet number: 5\n"
     ]
    },
    {
     "data": {
      "text/latex": [
       "$\\displaystyle - a_{1} d_{3} - d_{1} = 1$"
      ],
      "text/plain": [
       "Eq(-a1*d3 - d1, 1)"
      ]
     },
     "metadata": {},
     "output_type": "display_data"
    },
    {
     "name": "stdout",
     "output_type": "stream",
     "text": [
      "no solution\n"
     ]
    }
   ],
   "source": [
    "proj = C.proj([4])\n",
    "with sp.evaluate(False):\n",
    "    display(sp.Eq(proj, fans_link[t]))\n",
    "\n",
    "i=5\n",
    "print('facet number:', i)\n",
    "display(sp.Eq(C.determinants[i], C.orientation[i]))\n",
    "\n",
    "print('no solution')"
   ]
  },
  {
   "cell_type": "markdown",
   "id": "8f27d5ce-79d3-477b-8a7e-e4973a804e77",
   "metadata": {
    "jp-MarkdownHeadingCollapsed": true
   },
   "source": [
    "# Type 13 of the projection"
   ]
  },
  {
   "cell_type": "code",
   "execution_count": 97,
   "id": "c2de3992-32fe-4cbf-9bea-39ce4c5e8ea7",
   "metadata": {},
   "outputs": [],
   "source": [
    "C1 = copy.deepcopy(C0)\n",
    "C = C1\n",
    "t=13"
   ]
  },
  {
   "cell_type": "code",
   "execution_count": 98,
   "id": "bf954a66-b1bb-4ad1-b1d2-919054a81303",
   "metadata": {},
   "outputs": [
    {
     "data": {
      "text/latex": [
       "$\\displaystyle \\left[\\begin{matrix}1 & 0 & 0 & -1 & b_{0} & c_{0} & d_{0}\\\\0 & 1 & 0 & a_{1} & -1 & c_{1} & d_{1}\\\\0 & 0 & 1 & a_{2} & b_{2} & -1 & d_{2}\\end{matrix}\\right] = \\left[\\begin{matrix}1 & 0 & 0 & -1 & 1 & 0 & 0\\\\0 & 1 & 0 & 0 & -1 & 1 & 0\\\\0 & 0 & 1 & a_{2} & 0 & -1 & -1\\end{matrix}\\right]$"
      ],
      "text/plain": [
       "Eq(Matrix([\n",
       "[1, 0, 0, -1, b0, c0, d0],\n",
       "[0, 1, 0, a1, -1, c1, d1],\n",
       "[0, 0, 1, a2, b2, -1, d2]]), Matrix([\n",
       "[1, 0, 0, -1,  1,  0,  0],\n",
       "[0, 1, 0,  0, -1,  1,  0],\n",
       "[0, 0, 1, a2,  0, -1, -1]]))"
      ]
     },
     "metadata": {},
     "output_type": "display_data"
    },
    {
     "name": "stdout",
     "output_type": "stream",
     "text": [
      "facet number: 5\n"
     ]
    },
    {
     "data": {
      "text/latex": [
       "$\\displaystyle - a_{1} d_{3} - d_{1} = 1$"
      ],
      "text/plain": [
       "Eq(-a1*d3 - d1, 1)"
      ]
     },
     "metadata": {},
     "output_type": "display_data"
    },
    {
     "name": "stdout",
     "output_type": "stream",
     "text": [
      "no solution\n"
     ]
    }
   ],
   "source": [
    "proj = C.proj([4])\n",
    "with sp.evaluate(False):\n",
    "    display(sp.Eq(proj, fans_link[t]))\n",
    "\n",
    "i=5\n",
    "print('facet number:', i)\n",
    "display(sp.Eq(C.determinants[i], C.orientation[i]))\n",
    "\n",
    "print('no solution')"
   ]
  },
  {
   "cell_type": "markdown",
   "id": "4b57af45-52a7-4659-9268-3c74d7b81c62",
   "metadata": {
    "jp-MarkdownHeadingCollapsed": true
   },
   "source": [
    "# Type 14 of the projection"
   ]
  },
  {
   "cell_type": "code",
   "execution_count": 99,
   "id": "5b30dfaf-c24b-46cf-b01a-9dac886bad54",
   "metadata": {},
   "outputs": [],
   "source": [
    "C1 = copy.deepcopy(C0)\n",
    "C = C1\n",
    "t=14"
   ]
  },
  {
   "cell_type": "code",
   "execution_count": 100,
   "id": "9e5830d5-119d-46b3-a93d-28053994e747",
   "metadata": {},
   "outputs": [
    {
     "data": {
      "text/latex": [
       "$\\displaystyle \\left[\\begin{matrix}1 & 0 & 0 & -1 & b_{0} & c_{0} & d_{0}\\\\0 & 1 & 0 & a_{1} & -1 & c_{1} & d_{1}\\\\0 & 0 & 1 & a_{2} & b_{2} & -1 & d_{2}\\end{matrix}\\right] = \\left[\\begin{matrix}1 & 0 & 0 & -1 & 1 & 0 & d_{0}\\\\0 & 1 & 0 & 0 & -1 & 1 & d_{1}\\\\0 & 0 & 1 & 1 & 0 & -1 & - d_{0} - d_{1} - 1\\end{matrix}\\right]$"
      ],
      "text/plain": [
       "Eq(Matrix([\n",
       "[1, 0, 0, -1, b0, c0, d0],\n",
       "[0, 1, 0, a1, -1, c1, d1],\n",
       "[0, 0, 1, a2, b2, -1, d2]]), Matrix([\n",
       "[1, 0, 0, -1,  1,  0,           d0],\n",
       "[0, 1, 0,  0, -1,  1,           d1],\n",
       "[0, 0, 1,  1,  0, -1, -d0 - d1 - 1]]))"
      ]
     },
     "metadata": {},
     "output_type": "display_data"
    }
   ],
   "source": [
    "proj = C.proj([4])\n",
    "with sp.evaluate(False):\n",
    "    display(sp.Eq(proj, fans_link[t]))"
   ]
  },
  {
   "cell_type": "code",
   "execution_count": 101,
   "id": "2c8bfac9-3dac-45d1-9077-433fd61029ea",
   "metadata": {},
   "outputs": [
    {
     "data": {
      "text/latex": [
       "$\\displaystyle \\left[\\begin{matrix}1 & 0 & 0 & -1 & b_{0} & c_{0} & d_{0}\\\\0 & 1 & 0 & a_{1} & -1 & c_{1} & d_{1}\\\\0 & 0 & 1 & a_{2} & b_{2} & -1 & d_{2}\\end{matrix}\\right] = \\left[\\begin{matrix}1 & 0 & 0 & -1 & 1 & 0 & d_{0}\\\\0 & 1 & 0 & 0 & -1 & 1 & d_{1}\\\\0 & 0 & 1 & 1 & 0 & -1 & - d_{0} - d_{1} - 1\\end{matrix}\\right]$"
      ],
      "text/plain": [
       "Eq(Matrix([\n",
       "[1, 0, 0, -1, b0, c0, d0],\n",
       "[0, 1, 0, a1, -1, c1, d1],\n",
       "[0, 0, 1, a2, b2, -1, d2]]), Matrix([\n",
       "[1, 0, 0, -1,  1,  0,           d0],\n",
       "[0, 1, 0,  0, -1,  1,           d1],\n",
       "[0, 0, 1,  1,  0, -1, -d0 - d1 - 1]]))"
      ]
     },
     "metadata": {},
     "output_type": "display_data"
    },
    {
     "data": {
      "text/latex": [
       "$\\displaystyle \\text{True}$"
      ],
      "text/plain": [
       "True"
      ]
     },
     "metadata": {},
     "output_type": "display_data"
    }
   ],
   "source": [
    "proj = C.proj([4])\n",
    "with sp.evaluate(False):\n",
    "    display(sp.Eq(proj, fans_link[t]))\n",
    "\n",
    "C.subs(a1, 0)\n",
    "C.subs(a2, 1)\n",
    "C.subs(b0, 1)\n",
    "C.subs(b2, 0)\n",
    "C.subs(c0, 0)\n",
    "C.subs(c1, 1)\n",
    "C.subs(d2, -d0-d1-1)\n",
    "\n",
    "display(sp.Eq(C.proj([4]), fans_link[t]))"
   ]
  },
  {
   "cell_type": "code",
   "execution_count": 102,
   "id": "8782200d-3ce2-4ee2-a56d-33fe643a83fd",
   "metadata": {},
   "outputs": [
    {
     "name": "stdout",
     "output_type": "stream",
     "text": [
      "facet number: 3\n"
     ]
    },
    {
     "data": {
      "text/latex": [
       "$\\displaystyle c_{3} - 1 = -1$"
      ],
      "text/plain": [
       "Eq(c3 - 1, -1)"
      ]
     },
     "metadata": {},
     "output_type": "display_data"
    }
   ],
   "source": [
    "i=3\n",
    "print('facet number:', i)\n",
    "display(sp.Eq(C.determinants[i], C.orientation[i]))\n",
    "\n",
    "C.subs(c3, 0)"
   ]
  },
  {
   "cell_type": "code",
   "execution_count": 103,
   "id": "43043af7-e363-452f-ac8f-f739d5ee4b3b",
   "metadata": {},
   "outputs": [
    {
     "name": "stdout",
     "output_type": "stream",
     "text": [
      "facet number: 5\n"
     ]
    },
    {
     "data": {
      "text/latex": [
       "$\\displaystyle - d_{1} = 1$"
      ],
      "text/plain": [
       "Eq(-d1, 1)"
      ]
     },
     "metadata": {},
     "output_type": "display_data"
    }
   ],
   "source": [
    "i=5\n",
    "print('facet number:', i)\n",
    "display(sp.Eq(C.determinants[i], C.orientation[i]))\n",
    "\n",
    "C.subs(d1, -1)"
   ]
  },
  {
   "cell_type": "code",
   "execution_count": 104,
   "id": "fd3db6d9-418d-44f8-9a2f-a6199933224c",
   "metadata": {},
   "outputs": [
    {
     "name": "stdout",
     "output_type": "stream",
     "text": [
      "facet number: 8\n"
     ]
    },
    {
     "data": {
      "text/latex": [
       "$\\displaystyle d_{0} - d_{3} + 1 = 1$"
      ],
      "text/plain": [
       "Eq(d0 - d3 + 1, 1)"
      ]
     },
     "metadata": {},
     "output_type": "display_data"
    }
   ],
   "source": [
    "i=8\n",
    "print('facet number:', i)\n",
    "display(sp.Eq(C.determinants[i], C.orientation[i]))\n",
    "\n",
    "C.subs(d3, d0)"
   ]
  },
  {
   "cell_type": "code",
   "execution_count": 105,
   "id": "792bf68b-2063-4040-8dd9-967f59a63087",
   "metadata": {},
   "outputs": [
    {
     "name": "stdout",
     "output_type": "stream",
     "text": [
      "facet number: 13\n"
     ]
    },
    {
     "data": {
      "text/latex": [
       "$\\displaystyle 1 - b_{3} = -1$"
      ],
      "text/plain": [
       "Eq(1 - b3, -1)"
      ]
     },
     "metadata": {},
     "output_type": "display_data"
    }
   ],
   "source": [
    "i=13\n",
    "print('facet number:', i)\n",
    "display(sp.Eq(C.determinants[i], C.orientation[i]))\n",
    "\n",
    "C.subs(b3, 2)"
   ]
  },
  {
   "cell_type": "code",
   "execution_count": 106,
   "id": "7a2fb3cb-53fb-4403-8a32-c5c35bd531cc",
   "metadata": {},
   "outputs": [
    {
     "name": "stdout",
     "output_type": "stream",
     "text": [
      "facet number: 6\n"
     ]
    },
    {
     "data": {
      "text/latex": [
       "$\\displaystyle d_{0} - 2 = -1$"
      ],
      "text/plain": [
       "Eq(d0 - 2, -1)"
      ]
     },
     "metadata": {},
     "output_type": "display_data"
    },
    {
     "name": "stdout",
     "output_type": "stream",
     "text": [
      "facet number: 9\n"
     ]
    },
    {
     "data": {
      "text/latex": [
       "$\\displaystyle - d_{0} - 2 = -1$"
      ],
      "text/plain": [
       "Eq(-d0 - 2, -1)"
      ]
     },
     "metadata": {},
     "output_type": "display_data"
    },
    {
     "name": "stdout",
     "output_type": "stream",
     "text": [
      "no solution\n"
     ]
    }
   ],
   "source": [
    "i=6\n",
    "print('facet number:', i)\n",
    "display(sp.Eq(C.determinants[i], C.orientation[i]))\n",
    "\n",
    "i=9\n",
    "print('facet number:', i)\n",
    "display(sp.Eq(C.determinants[i], C.orientation[i]))\n",
    "\n",
    "print('no solution')"
   ]
  },
  {
   "cell_type": "markdown",
   "id": "9ecdfa09-448c-4490-97c5-ce10827da434",
   "metadata": {
    "jp-MarkdownHeadingCollapsed": true
   },
   "source": [
    "# Type 15 of the projection"
   ]
  },
  {
   "cell_type": "code",
   "execution_count": 107,
   "id": "408a52e5-4fed-4119-9f30-d4446aa408a5",
   "metadata": {},
   "outputs": [],
   "source": [
    "C1 = copy.deepcopy(C0)\n",
    "C = C1\n",
    "t=15"
   ]
  },
  {
   "cell_type": "code",
   "execution_count": 108,
   "id": "2a1d9697-307b-4bbb-940e-fd644f6987f0",
   "metadata": {},
   "outputs": [
    {
     "data": {
      "text/latex": [
       "$\\displaystyle \\left[\\begin{matrix}1 & 0 & 0 & -1 & b_{0} & c_{0} & d_{0}\\\\0 & 1 & 0 & a_{1} & -1 & c_{1} & d_{1}\\\\0 & 0 & 1 & a_{2} & b_{2} & -1 & d_{2}\\end{matrix}\\right] = \\left[\\begin{matrix}1 & 0 & 0 & -1 & 0 & 1 & d_{0}\\\\0 & 1 & 0 & 1 & -1 & 0 & d_{1}\\\\0 & 0 & 1 & 0 & 1 & -1 & - d_{0} - d_{1} - 1\\end{matrix}\\right]$"
      ],
      "text/plain": [
       "Eq(Matrix([\n",
       "[1, 0, 0, -1, b0, c0, d0],\n",
       "[0, 1, 0, a1, -1, c1, d1],\n",
       "[0, 0, 1, a2, b2, -1, d2]]), Matrix([\n",
       "[1, 0, 0, -1,  0,  1,           d0],\n",
       "[0, 1, 0,  1, -1,  0,           d1],\n",
       "[0, 0, 1,  0,  1, -1, -d0 - d1 - 1]]))"
      ]
     },
     "metadata": {},
     "output_type": "display_data"
    },
    {
     "data": {
      "text/latex": [
       "$\\displaystyle \\text{True}$"
      ],
      "text/plain": [
       "True"
      ]
     },
     "metadata": {},
     "output_type": "display_data"
    }
   ],
   "source": [
    "proj = C.proj([4])\n",
    "with sp.evaluate(False):\n",
    "    display(sp.Eq(proj, fans_link[t]))\n",
    "\n",
    "C.subs(a1, 1)\n",
    "C.subs(a2, 0)\n",
    "C.subs(b0, 0)\n",
    "C.subs(b2, 1)\n",
    "C.subs(c0, 1)\n",
    "C.subs(c1, 0)\n",
    "C.subs(d2, -d0-d1-1)\n",
    "\n",
    "display(sp.Eq(C.proj([4]), fans_link[t]))"
   ]
  },
  {
   "cell_type": "code",
   "execution_count": 109,
   "id": "adf202fa-0b88-42a6-b77c-4ad20ef0db11",
   "metadata": {},
   "outputs": [
    {
     "name": "stdout",
     "output_type": "stream",
     "text": [
      "facet number: 5\n"
     ]
    },
    {
     "data": {
      "text/latex": [
       "$\\displaystyle - d_{1} - d_{3} = 1$"
      ],
      "text/plain": [
       "Eq(-d1 - d3, 1)"
      ]
     },
     "metadata": {},
     "output_type": "display_data"
    }
   ],
   "source": [
    "i=5\n",
    "print('facet number:', i)\n",
    "display(sp.Eq(C.determinants[i], C.orientation[i]))\n",
    "\n",
    "C.subs(d3, -d1-1)"
   ]
  },
  {
   "cell_type": "code",
   "execution_count": 110,
   "id": "787a9086-0ea6-4616-a60e-bffa47e95e62",
   "metadata": {},
   "outputs": [
    {
     "name": "stdout",
     "output_type": "stream",
     "text": [
      "facet number: 6\n"
     ]
    },
    {
     "data": {
      "text/latex": [
       "$\\displaystyle b_{3} d_{1} - d_{1} - 1 = -1$"
      ],
      "text/plain": [
       "Eq(b3*d1 - d1 - 1, -1)"
      ]
     },
     "metadata": {},
     "output_type": "display_data"
    }
   ],
   "source": [
    "i=6\n",
    "print('facet number:', i)\n",
    "display(sp.Eq(C.determinants[i], C.orientation[i]))"
   ]
  },
  {
   "cell_type": "markdown",
   "id": "6f6ece07-ba7b-40f6-b2ab-ab0b51988046",
   "metadata": {
    "jp-MarkdownHeadingCollapsed": true
   },
   "source": [
    "## $d_1=0$"
   ]
  },
  {
   "cell_type": "code",
   "execution_count": 111,
   "id": "625d4365-6dfc-487a-8699-4e45f58192b3",
   "metadata": {},
   "outputs": [],
   "source": [
    "C2 = copy.deepcopy(C1)\n",
    "C = C2\n",
    "C.subs(d1, 0)"
   ]
  },
  {
   "cell_type": "code",
   "execution_count": 112,
   "id": "41ae80c0-0f76-4a80-b92c-365342e76408",
   "metadata": {},
   "outputs": [
    {
     "name": "stdout",
     "output_type": "stream",
     "text": [
      "facet number: 13\n"
     ]
    },
    {
     "data": {
      "text/latex": [
       "$\\displaystyle b_{3} d_{0} - d_{0} - 1 = -1$"
      ],
      "text/plain": [
       "Eq(b3*d0 - d0 - 1, -1)"
      ]
     },
     "metadata": {},
     "output_type": "display_data"
    },
    {
     "name": "stdout",
     "output_type": "stream",
     "text": [
      "d0=0 => type 10\n"
     ]
    }
   ],
   "source": [
    "i=13\n",
    "print('facet number:', i)\n",
    "display(sp.Eq(C.determinants[i], C.orientation[i]))\n",
    "\n",
    "print('d0=0 => type 10')\n",
    "\n",
    "C.subs(b3, 1)"
   ]
  },
  {
   "cell_type": "code",
   "execution_count": 113,
   "id": "6ee05435-081a-4274-86fa-fedf1782d48e",
   "metadata": {},
   "outputs": [
    {
     "name": "stdout",
     "output_type": "stream",
     "text": [
      "facet number: 8\n"
     ]
    },
    {
     "data": {
      "text/latex": [
       "$\\displaystyle c_{3} d_{0} + c_{3} + 1 = 1$"
      ],
      "text/plain": [
       "Eq(c3*d0 + c3 + 1, 1)"
      ]
     },
     "metadata": {},
     "output_type": "display_data"
    },
    {
     "name": "stdout",
     "output_type": "stream",
     "text": [
      "d0=-1 => type 2\n"
     ]
    }
   ],
   "source": [
    "i=8\n",
    "print('facet number:', i)\n",
    "display(sp.Eq(C.determinants[i], C.orientation[i]))\n",
    "\n",
    "print('d0=-1 => type 2')\n",
    "\n",
    "C.subs(c3, 0)"
   ]
  },
  {
   "cell_type": "code",
   "execution_count": 114,
   "id": "2e4a8b23-f284-4335-8dd5-cc7d97471fd0",
   "metadata": {},
   "outputs": [
    {
     "data": {
      "text/latex": [
       "$\\displaystyle \\left[\\begin{matrix}1 & 0 & 0 & 0 & -1 & 0 & 1 & d_{0}\\\\0 & 1 & 0 & 0 & 1 & -1 & 0 & 0\\\\0 & 0 & 1 & 0 & 0 & 1 & -1 & - d_{0} - 1\\\\0 & 0 & 0 & 1 & -1 & 1 & 0 & -1\\end{matrix}\\right]$"
      ],
      "text/plain": [
       "Matrix([\n",
       "[1, 0, 0, 0, -1,  0,  1,      d0],\n",
       "[0, 1, 0, 0,  1, -1,  0,       0],\n",
       "[0, 0, 1, 0,  0,  1, -1, -d0 - 1],\n",
       "[0, 0, 0, 1, -1,  1,  0,      -1]])"
      ]
     },
     "metadata": {},
     "output_type": "display_data"
    },
    {
     "name": "stdout",
     "output_type": "stream",
     "text": [
      "1\n"
     ]
    }
   ],
   "source": [
    "display(C.char)\n",
    "print(C.is_fangiving)\n",
    "fans.append(C.char)"
   ]
  },
  {
   "cell_type": "markdown",
   "id": "1cedd46c-1852-400c-b0b7-b00fb506aeb0",
   "metadata": {
    "jp-MarkdownHeadingCollapsed": true
   },
   "source": [
    "## $b_3=1$ ($d_1 \\not= 0$)"
   ]
  },
  {
   "cell_type": "code",
   "execution_count": 115,
   "id": "bb73ec70-eb6f-4406-ae94-5b89cdcfdff9",
   "metadata": {},
   "outputs": [],
   "source": [
    "C2 = copy.deepcopy(C1)\n",
    "C = C2\n",
    "C.subs(b3, 1)"
   ]
  },
  {
   "cell_type": "code",
   "execution_count": 116,
   "id": "94d4e4c5-822a-47a6-ab49-2829e9b87ab8",
   "metadata": {},
   "outputs": [
    {
     "name": "stdout",
     "output_type": "stream",
     "text": [
      "facet number: 8\n"
     ]
    },
    {
     "data": {
      "text/latex": [
       "$\\displaystyle c_{3} d_{0} + c_{3} d_{1} + c_{3} + 1 = 1$"
      ],
      "text/plain": [
       "Eq(c3*d0 + c3*d1 + c3 + 1, 1)"
      ]
     },
     "metadata": {},
     "output_type": "display_data"
    },
    {
     "name": "stdout",
     "output_type": "stream",
     "text": [
      "facet number: 9\n"
     ]
    },
    {
     "data": {
      "text/latex": [
       "$\\displaystyle - c_{3} d_{0} - c_{3} - 1 = -1$"
      ],
      "text/plain": [
       "Eq(-c3*d0 - c3 - 1, -1)"
      ]
     },
     "metadata": {},
     "output_type": "display_data"
    },
    {
     "data": {
      "text/latex": [
       "$\\displaystyle c_{3} d_{1} = 0$"
      ],
      "text/plain": [
       "Eq(c3*d1, 0)"
      ]
     },
     "metadata": {},
     "output_type": "display_data"
    }
   ],
   "source": [
    "i=8\n",
    "print('facet number:', i)\n",
    "display(sp.Eq(C.determinants[i], C.orientation[i]))\n",
    "\n",
    "i=9\n",
    "print('facet number:', i)\n",
    "display(sp.Eq(C.determinants[i], C.orientation[i]))\n",
    "\n",
    "display(sp.Eq(C.determinants[8]+C.determinants[9], C.orientation[8]+C.orientation[9]))\n",
    "\n",
    "C.subs(c3, 0)"
   ]
  },
  {
   "cell_type": "code",
   "execution_count": 117,
   "id": "7bfb8016-bae0-45f9-b4d6-61d295bf932f",
   "metadata": {},
   "outputs": [
    {
     "data": {
      "text/latex": [
       "$\\displaystyle \\left[\\begin{matrix}1 & 0 & 0 & 0 & -1 & 0 & 1 & d_{0}\\\\0 & 1 & 0 & 0 & 1 & -1 & 0 & d_{1}\\\\0 & 0 & 1 & 0 & 0 & 1 & -1 & - d_{0} - d_{1} - 1\\\\0 & 0 & 0 & 1 & -1 & 1 & 0 & - d_{1} - 1\\end{matrix}\\right]$"
      ],
      "text/plain": [
       "Matrix([\n",
       "[1, 0, 0, 0, -1,  0,  1,           d0],\n",
       "[0, 1, 0, 0,  1, -1,  0,           d1],\n",
       "[0, 0, 1, 0,  0,  1, -1, -d0 - d1 - 1],\n",
       "[0, 0, 0, 1, -1,  1,  0,      -d1 - 1]])"
      ]
     },
     "metadata": {},
     "output_type": "display_data"
    },
    {
     "name": "stdout",
     "output_type": "stream",
     "text": [
      "1\n"
     ]
    }
   ],
   "source": [
    "display(C.char)\n",
    "print(C.is_fangiving)\n",
    "fans.append(C.char)"
   ]
  },
  {
   "cell_type": "markdown",
   "id": "b4748054-288a-4d3e-b919-06c9cadfa284",
   "metadata": {
    "jp-MarkdownHeadingCollapsed": true
   },
   "source": [
    "# There are 10 types of fans up to D-J equivalence"
   ]
  },
  {
   "cell_type": "markdown",
   "id": "ce86c27e-0371-432a-ba71-ddce5fc591cf",
   "metadata": {
    "jp-MarkdownHeadingCollapsed": true
   },
   "source": [
    "## removing redundant ones"
   ]
  },
  {
   "cell_type": "code",
   "execution_count": 118,
   "id": "d32b3a99-0ee6-4cb9-a49d-c6ac87aaa9ec",
   "metadata": {},
   "outputs": [
    {
     "data": {
      "text/latex": [
       "$\\displaystyle \\left[\\begin{matrix}1 & 0 & 0 & 0 & -1 & 0 & 1 & 0\\\\0 & 1 & 0 & 0 & 0 & -1 & 0 & -1\\\\0 & 0 & 1 & 0 & 0 & 1 & -1 & 0\\\\0 & 0 & 0 & 1 & -1 & b_{3} & 0 & b_{3} - 1\\end{matrix}\\right]$"
      ],
      "text/plain": [
       "Matrix([\n",
       "[1, 0, 0, 0, -1,  0,  1,      0],\n",
       "[0, 1, 0, 0,  0, -1,  0,     -1],\n",
       "[0, 0, 1, 0,  0,  1, -1,      0],\n",
       "[0, 0, 0, 1, -1, b3,  0, b3 - 1]])"
      ]
     },
     "metadata": {},
     "output_type": "display_data"
    },
    {
     "data": {
      "text/latex": [
       "$\\displaystyle \\left[\\begin{matrix}1 & 0 & 0 & 0 & -1 & b_{0} & 1 & b_{0}\\\\0 & 1 & 0 & 0 & 0 & -1 & 0 & -1\\\\0 & 0 & 1 & 0 & 0 & b_{2} & -1 & b_{2} - 1\\\\0 & 0 & 0 & 1 & -1 & b_{3} & 0 & b_{3} - 1\\end{matrix}\\right]$"
      ],
      "text/plain": [
       "Matrix([\n",
       "[1, 0, 0, 0, -1, b0,  1,     b0],\n",
       "[0, 1, 0, 0,  0, -1,  0,     -1],\n",
       "[0, 0, 1, 0,  0, b2, -1, b2 - 1],\n",
       "[0, 0, 0, 1, -1, b3,  0, b3 - 1]])"
      ]
     },
     "metadata": {},
     "output_type": "display_data"
    },
    {
     "data": {
      "text/latex": [
       "$\\displaystyle \\text{True}$"
      ],
      "text/plain": [
       "True"
      ]
     },
     "metadata": {},
     "output_type": "display_data"
    }
   ],
   "source": [
    "i, j =2, 5\n",
    "display(fans[i], fans[j])\n",
    "display(sp.Eq(fans[i],fans[j].subs(b0, 0).subs(b2, 1)))\n",
    "fans.remove(fans[i])"
   ]
  },
  {
   "cell_type": "code",
   "execution_count": 119,
   "id": "4b846673-ad3e-4ed1-abcf-6f53fb339676",
   "metadata": {},
   "outputs": [
    {
     "data": {
      "text/latex": [
       "$\\displaystyle \\left[\\begin{matrix}1 & 0 & 0 & 0 & -1 & 0 & 1 & 0\\\\0 & 1 & 0 & 0 & 1 & -1 & 0 & 0\\\\0 & 0 & 1 & 0 & 0 & 0 & -1 & -1\\\\0 & 0 & 0 & 1 & -1 & b_{3} & 0 & -1\\end{matrix}\\right]$"
      ],
      "text/plain": [
       "Matrix([\n",
       "[1, 0, 0, 0, -1,  0,  1,  0],\n",
       "[0, 1, 0, 0,  1, -1,  0,  0],\n",
       "[0, 0, 1, 0,  0,  0, -1, -1],\n",
       "[0, 0, 0, 1, -1, b3,  0, -1]])"
      ]
     },
     "metadata": {},
     "output_type": "display_data"
    },
    {
     "data": {
      "text/latex": [
       "$\\displaystyle \\left[\\begin{matrix}1 & 0 & 0 & 0 & -1 & 0 & 1 & 0\\\\0 & 1 & 0 & 0 & 1 & -1 & 0 & 0\\\\0 & 0 & 1 & 0 & 0 & b_{2} & -1 & -1\\\\0 & 0 & 0 & 1 & -1 & b_{3} & 0 & -1\\end{matrix}\\right]$"
      ],
      "text/plain": [
       "Matrix([\n",
       "[1, 0, 0, 0, -1,  0,  1,  0],\n",
       "[0, 1, 0, 0,  1, -1,  0,  0],\n",
       "[0, 0, 1, 0,  0, b2, -1, -1],\n",
       "[0, 0, 0, 1, -1, b3,  0, -1]])"
      ]
     },
     "metadata": {},
     "output_type": "display_data"
    },
    {
     "data": {
      "text/latex": [
       "$\\displaystyle \\text{True}$"
      ],
      "text/plain": [
       "True"
      ]
     },
     "metadata": {},
     "output_type": "display_data"
    }
   ],
   "source": [
    "i, j = 6, 9\n",
    "display(fans[i], fans[j])\n",
    "display(sp.Eq(fans[i],fans[j].subs(b2, 0)))\n",
    "fans.remove(fans[i])"
   ]
  },
  {
   "cell_type": "code",
   "execution_count": 120,
   "id": "bdd82721-8bbd-4200-bbbf-9baa08e8e508",
   "metadata": {},
   "outputs": [
    {
     "data": {
      "text/latex": [
       "$\\displaystyle \\left[\\begin{matrix}1 & 0 & 0 & 0 & -1 & 0 & 1 & d_{0}\\\\0 & 1 & 0 & 0 & 1 & -1 & 0 & 0\\\\0 & 0 & 1 & 0 & 0 & 1 & -1 & - d_{0} - 1\\\\0 & 0 & 0 & 1 & -1 & 1 & 0 & -1\\end{matrix}\\right]$"
      ],
      "text/plain": [
       "Matrix([\n",
       "[1, 0, 0, 0, -1,  0,  1,      d0],\n",
       "[0, 1, 0, 0,  1, -1,  0,       0],\n",
       "[0, 0, 1, 0,  0,  1, -1, -d0 - 1],\n",
       "[0, 0, 0, 1, -1,  1,  0,      -1]])"
      ]
     },
     "metadata": {},
     "output_type": "display_data"
    },
    {
     "data": {
      "text/latex": [
       "$\\displaystyle \\left[\\begin{matrix}1 & 0 & 0 & 0 & -1 & 0 & 1 & d_{0}\\\\0 & 1 & 0 & 0 & 1 & -1 & 0 & d_{1}\\\\0 & 0 & 1 & 0 & 0 & 1 & -1 & - d_{0} - d_{1} - 1\\\\0 & 0 & 0 & 1 & -1 & 1 & 0 & - d_{1} - 1\\end{matrix}\\right]$"
      ],
      "text/plain": [
       "Matrix([\n",
       "[1, 0, 0, 0, -1,  0,  1,           d0],\n",
       "[0, 1, 0, 0,  1, -1,  0,           d1],\n",
       "[0, 0, 1, 0,  0,  1, -1, -d0 - d1 - 1],\n",
       "[0, 0, 0, 1, -1,  1,  0,      -d1 - 1]])"
      ]
     },
     "metadata": {},
     "output_type": "display_data"
    },
    {
     "data": {
      "text/latex": [
       "$\\displaystyle \\text{True}$"
      ],
      "text/plain": [
       "True"
      ]
     },
     "metadata": {},
     "output_type": "display_data"
    }
   ],
   "source": [
    "i, j = 9, 10\n",
    "display(fans[i], fans[j])\n",
    "display(sp.Eq(fans[i],fans[j].subs(d1, 0)))\n",
    "fans.remove(fans[i])"
   ]
  },
  {
   "cell_type": "markdown",
   "id": "f1e60f53-9d38-43e1-93ed-4d6e66ce4385",
   "metadata": {
    "jp-MarkdownHeadingCollapsed": true
   },
   "source": [
    "## list"
   ]
  },
  {
   "cell_type": "code",
   "execution_count": 121,
   "id": "32e79688-f396-465d-9713-e2361e13ee6d",
   "metadata": {},
   "outputs": [
    {
     "data": {
      "text/latex": [
       "$\\displaystyle \\left[\\begin{matrix}1 & 0 & 0 & 0 & -1 & -1 & 0 & -1\\\\0 & 1 & 0 & 0 & 0 & -1 & -1 & -1\\\\0 & 0 & 1 & 0 & -1 & 0 & -1 & -1\\\\0 & 0 & 0 & 1 & -1 & 0 & 0 & -1\\end{matrix}\\right]$"
      ],
      "text/plain": [
       "Matrix([\n",
       "[1, 0, 0, 0, -1, -1,  0, -1],\n",
       "[0, 1, 0, 0,  0, -1, -1, -1],\n",
       "[0, 0, 1, 0, -1,  0, -1, -1],\n",
       "[0, 0, 0, 1, -1,  0,  0, -1]])"
      ]
     },
     "metadata": {},
     "output_type": "display_data"
    },
    {
     "data": {
      "text/latex": [
       "$\\displaystyle \\left[\\begin{matrix}1 & 0 & 0 & 0 & -1 & 0 & c_{0} & -1\\\\0 & 1 & 0 & 0 & 1 & -1 & 0 & 0\\\\0 & 0 & 1 & 0 & 0 & 1 & -1 & 0\\\\0 & 0 & 0 & 1 & -1 & 1 & c_{3} & -1\\end{matrix}\\right]$"
      ],
      "text/plain": [
       "Matrix([\n",
       "[1, 0, 0, 0, -1,  0, c0, -1],\n",
       "[0, 1, 0, 0,  1, -1,  0,  0],\n",
       "[0, 0, 1, 0,  0,  1, -1,  0],\n",
       "[0, 0, 0, 1, -1,  1, c3, -1]])"
      ]
     },
     "metadata": {},
     "output_type": "display_data"
    },
    {
     "data": {
      "text/latex": [
       "$\\displaystyle \\left[\\begin{matrix}1 & 0 & 0 & 0 & -1 & 0 & 1 & 0\\\\0 & 1 & 0 & 0 & a_{1} & -1 & 0 & -1\\\\0 & 0 & 1 & 0 & 0 & 1 & -1 & 0\\\\0 & 0 & 0 & 1 & -1 & 1 & 0 & 0\\end{matrix}\\right]$"
      ],
      "text/plain": [
       "Matrix([\n",
       "[1, 0, 0, 0, -1,  0,  1,  0],\n",
       "[0, 1, 0, 0, a1, -1,  0, -1],\n",
       "[0, 0, 1, 0,  0,  1, -1,  0],\n",
       "[0, 0, 0, 1, -1,  1,  0,  0]])"
      ]
     },
     "metadata": {},
     "output_type": "display_data"
    },
    {
     "data": {
      "text/latex": [
       "$\\displaystyle \\left[\\begin{matrix}1 & 0 & 0 & 0 & -1 & 0 & 0 & -1\\\\0 & 1 & 0 & 0 & 1 & -1 & 0 & 0\\\\0 & 0 & 1 & 0 & a_{2} & b_{2} & -1 & a_{2} + b_{2} - 1\\\\0 & 0 & 0 & 1 & -1 & 1 & 0 & -1\\end{matrix}\\right]$"
      ],
      "text/plain": [
       "Matrix([\n",
       "[1, 0, 0, 0, -1,  0,  0,          -1],\n",
       "[0, 1, 0, 0,  1, -1,  0,           0],\n",
       "[0, 0, 1, 0, a2, b2, -1, a2 + b2 - 1],\n",
       "[0, 0, 0, 1, -1,  1,  0,          -1]])"
      ]
     },
     "metadata": {},
     "output_type": "display_data"
    },
    {
     "data": {
      "text/latex": [
       "$\\displaystyle \\left[\\begin{matrix}1 & 0 & 0 & 0 & -1 & b_{0} & 1 & b_{0}\\\\0 & 1 & 0 & 0 & 0 & -1 & 0 & -1\\\\0 & 0 & 1 & 0 & 0 & b_{2} & -1 & b_{2} - 1\\\\0 & 0 & 0 & 1 & -1 & b_{3} & 0 & b_{3} - 1\\end{matrix}\\right]$"
      ],
      "text/plain": [
       "Matrix([\n",
       "[1, 0, 0, 0, -1, b0,  1,     b0],\n",
       "[0, 1, 0, 0,  0, -1,  0,     -1],\n",
       "[0, 0, 1, 0,  0, b2, -1, b2 - 1],\n",
       "[0, 0, 0, 1, -1, b3,  0, b3 - 1]])"
      ]
     },
     "metadata": {},
     "output_type": "display_data"
    },
    {
     "data": {
      "text/latex": [
       "$\\displaystyle \\left[\\begin{matrix}1 & 0 & 0 & 0 & -1 & 0 & c_{0} & c_{0} - 1\\\\0 & 1 & 0 & 0 & 1 & -1 & - d_{3} - 1 & - d_{3} - 1\\\\0 & 0 & 1 & 0 & 0 & 0 & -1 & -1\\\\0 & 0 & 0 & 1 & -1 & 1 & d_{3} + 1 & d_{3}\\end{matrix}\\right]$"
      ],
      "text/plain": [
       "Matrix([\n",
       "[1, 0, 0, 0, -1,  0,      c0,  c0 - 1],\n",
       "[0, 1, 0, 0,  1, -1, -d3 - 1, -d3 - 1],\n",
       "[0, 0, 1, 0,  0,  0,      -1,      -1],\n",
       "[0, 0, 0, 1, -1,  1,  d3 + 1,      d3]])"
      ]
     },
     "metadata": {},
     "output_type": "display_data"
    },
    {
     "data": {
      "text/latex": [
       "$\\displaystyle \\left[\\begin{matrix}1 & 0 & 0 & 0 & -1 & 0 & 1 & 0\\\\0 & 1 & 0 & 0 & a_{1} & -1 & 0 & a_{1} - 1\\\\0 & 0 & 1 & 0 & 0 & 0 & -1 & -1\\\\0 & 0 & 0 & 1 & -1 & 0 & 0 & -1\\end{matrix}\\right]$"
      ],
      "text/plain": [
       "Matrix([\n",
       "[1, 0, 0, 0, -1,  0,  1,      0],\n",
       "[0, 1, 0, 0, a1, -1,  0, a1 - 1],\n",
       "[0, 0, 1, 0,  0,  0, -1,     -1],\n",
       "[0, 0, 0, 1, -1,  0,  0,     -1]])"
      ]
     },
     "metadata": {},
     "output_type": "display_data"
    },
    {
     "data": {
      "text/latex": [
       "$\\displaystyle \\left[\\begin{matrix}1 & 0 & 0 & 0 & -1 & 0 & 0 & -1\\\\0 & 1 & 0 & 0 & 1 & -1 & -1 & -1\\\\0 & 0 & 1 & 0 & 1 & 0 & -1 & 0\\\\0 & 0 & 0 & 1 & -1 & 1 & 0 & 0\\end{matrix}\\right]$"
      ],
      "text/plain": [
       "Matrix([\n",
       "[1, 0, 0, 0, -1,  0,  0, -1],\n",
       "[0, 1, 0, 0,  1, -1, -1, -1],\n",
       "[0, 0, 1, 0,  1,  0, -1,  0],\n",
       "[0, 0, 0, 1, -1,  1,  0,  0]])"
      ]
     },
     "metadata": {},
     "output_type": "display_data"
    },
    {
     "data": {
      "text/latex": [
       "$\\displaystyle \\left[\\begin{matrix}1 & 0 & 0 & 0 & -1 & 0 & 1 & 0\\\\0 & 1 & 0 & 0 & 1 & -1 & 0 & 0\\\\0 & 0 & 1 & 0 & 0 & b_{2} & -1 & -1\\\\0 & 0 & 0 & 1 & -1 & b_{3} & 0 & -1\\end{matrix}\\right]$"
      ],
      "text/plain": [
       "Matrix([\n",
       "[1, 0, 0, 0, -1,  0,  1,  0],\n",
       "[0, 1, 0, 0,  1, -1,  0,  0],\n",
       "[0, 0, 1, 0,  0, b2, -1, -1],\n",
       "[0, 0, 0, 1, -1, b3,  0, -1]])"
      ]
     },
     "metadata": {},
     "output_type": "display_data"
    },
    {
     "data": {
      "text/latex": [
       "$\\displaystyle \\left[\\begin{matrix}1 & 0 & 0 & 0 & -1 & 0 & 1 & d_{0}\\\\0 & 1 & 0 & 0 & 1 & -1 & 0 & d_{1}\\\\0 & 0 & 1 & 0 & 0 & 1 & -1 & - d_{0} - d_{1} - 1\\\\0 & 0 & 0 & 1 & -1 & 1 & 0 & - d_{1} - 1\\end{matrix}\\right]$"
      ],
      "text/plain": [
       "Matrix([\n",
       "[1, 0, 0, 0, -1,  0,  1,           d0],\n",
       "[0, 1, 0, 0,  1, -1,  0,           d1],\n",
       "[0, 0, 1, 0,  0,  1, -1, -d0 - d1 - 1],\n",
       "[0, 0, 0, 1, -1,  1,  0,      -d1 - 1]])"
      ]
     },
     "metadata": {},
     "output_type": "display_data"
    }
   ],
   "source": [
    "for f in fans:\n",
    "    display(f)"
   ]
  },
  {
   "cell_type": "markdown",
   "id": "24693e30-bffe-4f1c-8286-502808ade9a5",
   "metadata": {
    "jp-MarkdownHeadingCollapsed": true
   },
   "source": [
    "# Connections between types"
   ]
  },
  {
   "cell_type": "markdown",
   "id": "1231ba1b-41e9-4aa9-8b82-88fa4257025f",
   "metadata": {
    "jp-MarkdownHeadingCollapsed": true
   },
   "source": [
    "## fan 0"
   ]
  },
  {
   "cell_type": "markdown",
   "id": "fe98e67e-b66e-45ff-8476-58b2f17eb97b",
   "metadata": {
    "jp-MarkdownHeadingCollapsed": true
   },
   "source": [
    "## fan 1"
   ]
  },
  {
   "cell_type": "markdown",
   "id": "5980f813-60ac-4fb8-9678-c833aef6d122",
   "metadata": {
    "jp-MarkdownHeadingCollapsed": true
   },
   "source": [
    "### fan 3 ($a_2=0$, $b_2=0$, $c_0=0$, $c_3=0$)"
   ]
  },
  {
   "cell_type": "code",
   "execution_count": 177,
   "id": "dde03c9e-6c8a-43c4-b809-1591e751d0f8",
   "metadata": {},
   "outputs": [
    {
     "data": {
      "text/latex": [
       "$\\displaystyle \\left[\\begin{matrix}1 & 0 & 0 & 0 & -1 & 0 & c_{0} & -1\\\\0 & 1 & 0 & 0 & 1 & -1 & 0 & 0\\\\0 & 0 & 1 & 0 & 0 & 1 & -1 & 0\\\\0 & 0 & 0 & 1 & -1 & 1 & c_{3} & -1\\end{matrix}\\right] = \\left[\\begin{matrix}1 & 0 & 0 & 0 & -1 & 0 & 0 & -1\\\\0 & 1 & 0 & 0 & 1 & -1 & 0 & 0\\\\0 & 0 & 1 & 0 & a_{2} & b_{2} & -1 & a_{2} + b_{2} - 1\\\\0 & 0 & 0 & 1 & -1 & 1 & 0 & -1\\end{matrix}\\right]$"
      ],
      "text/plain": [
       "Eq(Matrix([\n",
       "[1, 0, 0, 0, -1,  0, c0, -1],\n",
       "[0, 1, 0, 0,  1, -1,  0,  0],\n",
       "[0, 0, 1, 0,  0,  1, -1,  0],\n",
       "[0, 0, 0, 1, -1,  1, c3, -1]]), Matrix([\n",
       "[1, 0, 0, 0, -1,  0,  0,          -1],\n",
       "[0, 1, 0, 0,  1, -1,  0,           0],\n",
       "[0, 0, 1, 0, a2, b2, -1, a2 + b2 - 1],\n",
       "[0, 0, 0, 1, -1,  1,  0,          -1]]))"
      ]
     },
     "metadata": {},
     "output_type": "display_data"
    },
    {
     "data": {
      "text/latex": [
       "$\\displaystyle \\text{True}$"
      ],
      "text/plain": [
       "True"
      ]
     },
     "execution_count": 177,
     "metadata": {},
     "output_type": "execute_result"
    }
   ],
   "source": [
    "i, j = 1, 3\n",
    "display(sp.Eq(fans[i], fans[j], evaluate=False))\n",
    "sp.Eq(fans[i].subs(c0,0).subs(c3,0), fans[j].subs(a2,0).subs(b2,1))"
   ]
  },
  {
   "cell_type": "markdown",
   "id": "68286240-1aa5-45a3-bcc6-b46d11f8bd9f",
   "metadata": {
    "jp-MarkdownHeadingCollapsed": true
   },
   "source": [
    "### fan 9 ($c_0=1$, $c_3=0$, $d_0=-1$, $d_1=0$)"
   ]
  },
  {
   "cell_type": "code",
   "execution_count": 180,
   "id": "d534f539-96ef-4bd5-8b6e-5359ff15189f",
   "metadata": {},
   "outputs": [
    {
     "data": {
      "text/latex": [
       "$\\displaystyle \\left[\\begin{matrix}1 & 0 & 0 & 0 & -1 & 0 & c_{0} & -1\\\\0 & 1 & 0 & 0 & 1 & -1 & 0 & 0\\\\0 & 0 & 1 & 0 & 0 & 1 & -1 & 0\\\\0 & 0 & 0 & 1 & -1 & 1 & c_{3} & -1\\end{matrix}\\right] = \\left[\\begin{matrix}1 & 0 & 0 & 0 & -1 & 0 & 1 & d_{0}\\\\0 & 1 & 0 & 0 & 1 & -1 & 0 & d_{1}\\\\0 & 0 & 1 & 0 & 0 & 1 & -1 & - d_{0} - d_{1} - 1\\\\0 & 0 & 0 & 1 & -1 & 1 & 0 & - d_{1} - 1\\end{matrix}\\right]$"
      ],
      "text/plain": [
       "Eq(Matrix([\n",
       "[1, 0, 0, 0, -1,  0, c0, -1],\n",
       "[0, 1, 0, 0,  1, -1,  0,  0],\n",
       "[0, 0, 1, 0,  0,  1, -1,  0],\n",
       "[0, 0, 0, 1, -1,  1, c3, -1]]), Matrix([\n",
       "[1, 0, 0, 0, -1,  0,  1,           d0],\n",
       "[0, 1, 0, 0,  1, -1,  0,           d1],\n",
       "[0, 0, 1, 0,  0,  1, -1, -d0 - d1 - 1],\n",
       "[0, 0, 0, 1, -1,  1,  0,      -d1 - 1]]))"
      ]
     },
     "metadata": {},
     "output_type": "display_data"
    },
    {
     "data": {
      "text/latex": [
       "$\\displaystyle \\text{True}$"
      ],
      "text/plain": [
       "True"
      ]
     },
     "execution_count": 180,
     "metadata": {},
     "output_type": "execute_result"
    }
   ],
   "source": [
    "i, j = 1, 9\n",
    "display(sp.Eq(fans[i], fans[j], evaluate=False))\n",
    "sp.Eq(fans[i].subs(c0,1).subs(c3,0), fans[j].subs(d0,-1).subs(d1,0))"
   ]
  },
  {
   "cell_type": "markdown",
   "id": "451da488-af7f-4847-9619-c61b8240c666",
   "metadata": {
    "jp-MarkdownHeadingCollapsed": true
   },
   "source": [
    "## fan 2"
   ]
  },
  {
   "cell_type": "markdown",
   "id": "42b3dbc6-efae-4dd8-8723-c8aa846fd773",
   "metadata": {
    "jp-MarkdownHeadingCollapsed": true
   },
   "source": [
    "### fan 4 ($a_1=0$, $b_0=0$, $b_2=1$, $b_3=1$)"
   ]
  },
  {
   "cell_type": "code",
   "execution_count": 182,
   "id": "9565a80b-d884-4c15-8749-dc88b0d6729a",
   "metadata": {},
   "outputs": [
    {
     "data": {
      "text/latex": [
       "$\\displaystyle \\left[\\begin{matrix}1 & 0 & 0 & 0 & -1 & 0 & 1 & 0\\\\0 & 1 & 0 & 0 & a_{1} & -1 & 0 & -1\\\\0 & 0 & 1 & 0 & 0 & 1 & -1 & 0\\\\0 & 0 & 0 & 1 & -1 & 1 & 0 & 0\\end{matrix}\\right] = \\left[\\begin{matrix}1 & 0 & 0 & 0 & -1 & b_{0} & 1 & b_{0}\\\\0 & 1 & 0 & 0 & 0 & -1 & 0 & -1\\\\0 & 0 & 1 & 0 & 0 & b_{2} & -1 & b_{2} - 1\\\\0 & 0 & 0 & 1 & -1 & b_{3} & 0 & b_{3} - 1\\end{matrix}\\right]$"
      ],
      "text/plain": [
       "Eq(Matrix([\n",
       "[1, 0, 0, 0, -1,  0,  1,  0],\n",
       "[0, 1, 0, 0, a1, -1,  0, -1],\n",
       "[0, 0, 1, 0,  0,  1, -1,  0],\n",
       "[0, 0, 0, 1, -1,  1,  0,  0]]), Matrix([\n",
       "[1, 0, 0, 0, -1, b0,  1,     b0],\n",
       "[0, 1, 0, 0,  0, -1,  0,     -1],\n",
       "[0, 0, 1, 0,  0, b2, -1, b2 - 1],\n",
       "[0, 0, 0, 1, -1, b3,  0, b3 - 1]]))"
      ]
     },
     "metadata": {},
     "output_type": "display_data"
    },
    {
     "data": {
      "text/latex": [
       "$\\displaystyle \\text{True}$"
      ],
      "text/plain": [
       "True"
      ]
     },
     "execution_count": 182,
     "metadata": {},
     "output_type": "execute_result"
    }
   ],
   "source": [
    "i, j = 2, 4\n",
    "display(sp.Eq(fans[i], fans[j], evaluate=False))\n",
    "sp.Eq(fans[i].subs(a1,0), fans[j].subs(b0,0).subs(b2,1).subs(b3,1))"
   ]
  },
  {
   "cell_type": "markdown",
   "id": "ebe7afe8-cf17-4589-aa9c-77f68396655e",
   "metadata": {
    "jp-MarkdownHeadingCollapsed": true
   },
   "source": [
    "### fan 9 ($a_1=1$, $d_0=0$, $d_1=-1$)"
   ]
  },
  {
   "cell_type": "code",
   "execution_count": 185,
   "id": "402e1427-2295-4178-a53f-da8a683c63dc",
   "metadata": {},
   "outputs": [
    {
     "data": {
      "text/latex": [
       "$\\displaystyle \\left[\\begin{matrix}1 & 0 & 0 & 0 & -1 & 0 & 1 & 0\\\\0 & 1 & 0 & 0 & a_{1} & -1 & 0 & -1\\\\0 & 0 & 1 & 0 & 0 & 1 & -1 & 0\\\\0 & 0 & 0 & 1 & -1 & 1 & 0 & 0\\end{matrix}\\right] = \\left[\\begin{matrix}1 & 0 & 0 & 0 & -1 & 0 & 1 & d_{0}\\\\0 & 1 & 0 & 0 & 1 & -1 & 0 & d_{1}\\\\0 & 0 & 1 & 0 & 0 & 1 & -1 & - d_{0} - d_{1} - 1\\\\0 & 0 & 0 & 1 & -1 & 1 & 0 & - d_{1} - 1\\end{matrix}\\right]$"
      ],
      "text/plain": [
       "Eq(Matrix([\n",
       "[1, 0, 0, 0, -1,  0,  1,  0],\n",
       "[0, 1, 0, 0, a1, -1,  0, -1],\n",
       "[0, 0, 1, 0,  0,  1, -1,  0],\n",
       "[0, 0, 0, 1, -1,  1,  0,  0]]), Matrix([\n",
       "[1, 0, 0, 0, -1,  0,  1,           d0],\n",
       "[0, 1, 0, 0,  1, -1,  0,           d1],\n",
       "[0, 0, 1, 0,  0,  1, -1, -d0 - d1 - 1],\n",
       "[0, 0, 0, 1, -1,  1,  0,      -d1 - 1]]))"
      ]
     },
     "metadata": {},
     "output_type": "display_data"
    },
    {
     "data": {
      "text/latex": [
       "$\\displaystyle \\text{True}$"
      ],
      "text/plain": [
       "True"
      ]
     },
     "execution_count": 185,
     "metadata": {},
     "output_type": "execute_result"
    }
   ],
   "source": [
    "i, j = 2, 9\n",
    "display(sp.Eq(fans[i], fans[j], evaluate=False))\n",
    "sp.Eq(fans[i].subs(a1,1), fans[j].subs(d0,0).subs(d1,-1))"
   ]
  },
  {
   "cell_type": "markdown",
   "id": "d56466a3-dd42-443d-a881-df60f8f09ad9",
   "metadata": {
    "jp-MarkdownHeadingCollapsed": true
   },
   "source": [
    "## fan 3"
   ]
  },
  {
   "cell_type": "markdown",
   "id": "6df30c28-7ab6-4786-87fe-0f93153f2404",
   "metadata": {
    "jp-MarkdownHeadingCollapsed": true
   },
   "source": [
    "### fan 1 ($a_2=0$, $b_2=0$, $c_0=0$, $c_3=0$)"
   ]
  },
  {
   "cell_type": "code",
   "execution_count": 177,
   "id": "8520937d-6ab8-4290-b19a-1ed9261304cf",
   "metadata": {},
   "outputs": [
    {
     "data": {
      "text/latex": [
       "$\\displaystyle \\left[\\begin{matrix}1 & 0 & 0 & 0 & -1 & 0 & c_{0} & -1\\\\0 & 1 & 0 & 0 & 1 & -1 & 0 & 0\\\\0 & 0 & 1 & 0 & 0 & 1 & -1 & 0\\\\0 & 0 & 0 & 1 & -1 & 1 & c_{3} & -1\\end{matrix}\\right] = \\left[\\begin{matrix}1 & 0 & 0 & 0 & -1 & 0 & 0 & -1\\\\0 & 1 & 0 & 0 & 1 & -1 & 0 & 0\\\\0 & 0 & 1 & 0 & a_{2} & b_{2} & -1 & a_{2} + b_{2} - 1\\\\0 & 0 & 0 & 1 & -1 & 1 & 0 & -1\\end{matrix}\\right]$"
      ],
      "text/plain": [
       "Eq(Matrix([\n",
       "[1, 0, 0, 0, -1,  0, c0, -1],\n",
       "[0, 1, 0, 0,  1, -1,  0,  0],\n",
       "[0, 0, 1, 0,  0,  1, -1,  0],\n",
       "[0, 0, 0, 1, -1,  1, c3, -1]]), Matrix([\n",
       "[1, 0, 0, 0, -1,  0,  0,          -1],\n",
       "[0, 1, 0, 0,  1, -1,  0,           0],\n",
       "[0, 0, 1, 0, a2, b2, -1, a2 + b2 - 1],\n",
       "[0, 0, 0, 1, -1,  1,  0,          -1]]))"
      ]
     },
     "metadata": {},
     "output_type": "display_data"
    },
    {
     "data": {
      "text/latex": [
       "$\\displaystyle \\text{True}$"
      ],
      "text/plain": [
       "True"
      ]
     },
     "execution_count": 177,
     "metadata": {},
     "output_type": "execute_result"
    }
   ],
   "source": [
    "i, j = 1, 3\n",
    "display(sp.Eq(fans[i], fans[j], evaluate=False))\n",
    "sp.Eq(fans[i].subs(c0,0).subs(c3,0), fans[j].subs(a2,0).subs(b2,1))"
   ]
  },
  {
   "cell_type": "markdown",
   "id": "1fae055b-de2e-4d0d-a587-f0d59be9ad17",
   "metadata": {
    "jp-MarkdownHeadingCollapsed": true
   },
   "source": [
    "### fan 5 ($a_2=0$, $b_2=0$, $c_0=0$, $d_3=-1$)"
   ]
  },
  {
   "cell_type": "code",
   "execution_count": 187,
   "id": "afe3c1e3-f8cf-4614-9844-5182f4f3ebf5",
   "metadata": {},
   "outputs": [
    {
     "data": {
      "text/latex": [
       "$\\displaystyle \\left[\\begin{matrix}1 & 0 & 0 & 0 & -1 & 0 & 0 & -1\\\\0 & 1 & 0 & 0 & 1 & -1 & 0 & 0\\\\0 & 0 & 1 & 0 & a_{2} & b_{2} & -1 & a_{2} + b_{2} - 1\\\\0 & 0 & 0 & 1 & -1 & 1 & 0 & -1\\end{matrix}\\right] = \\left[\\begin{matrix}1 & 0 & 0 & 0 & -1 & 0 & c_{0} & c_{0} - 1\\\\0 & 1 & 0 & 0 & 1 & -1 & - d_{3} - 1 & - d_{3} - 1\\\\0 & 0 & 1 & 0 & 0 & 0 & -1 & -1\\\\0 & 0 & 0 & 1 & -1 & 1 & d_{3} + 1 & d_{3}\\end{matrix}\\right]$"
      ],
      "text/plain": [
       "Eq(Matrix([\n",
       "[1, 0, 0, 0, -1,  0,  0,          -1],\n",
       "[0, 1, 0, 0,  1, -1,  0,           0],\n",
       "[0, 0, 1, 0, a2, b2, -1, a2 + b2 - 1],\n",
       "[0, 0, 0, 1, -1,  1,  0,          -1]]), Matrix([\n",
       "[1, 0, 0, 0, -1,  0,      c0,  c0 - 1],\n",
       "[0, 1, 0, 0,  1, -1, -d3 - 1, -d3 - 1],\n",
       "[0, 0, 1, 0,  0,  0,      -1,      -1],\n",
       "[0, 0, 0, 1, -1,  1,  d3 + 1,      d3]]))"
      ]
     },
     "metadata": {},
     "output_type": "display_data"
    },
    {
     "data": {
      "text/latex": [
       "$\\displaystyle \\text{True}$"
      ],
      "text/plain": [
       "True"
      ]
     },
     "execution_count": 187,
     "metadata": {},
     "output_type": "execute_result"
    }
   ],
   "source": [
    "i, j = 3, 5\n",
    "display(sp.Eq(fans[i], fans[j], evaluate=False))\n",
    "sp.Eq(fans[i].subs(a2,0).subs(b2,0), fans[j].subs(c0,0).subs(d3,-1))"
   ]
  },
  {
   "cell_type": "markdown",
   "id": "76f99253-ba02-4d6e-b836-7a79f7392656",
   "metadata": {
    "jp-MarkdownHeadingCollapsed": true
   },
   "source": [
    "## fan 4"
   ]
  },
  {
   "cell_type": "markdown",
   "id": "6aaee0dc-e55c-4d2a-a0eb-5cabbe124db4",
   "metadata": {
    "jp-MarkdownHeadingCollapsed": true
   },
   "source": [
    "### fan 2 ($a_1=0$, $b_0=0$, $b_2=1$, $b_3=1$)"
   ]
  },
  {
   "cell_type": "code",
   "execution_count": 183,
   "id": "6c87102e-beef-4bd0-a9c1-34a12b28f7b4",
   "metadata": {},
   "outputs": [
    {
     "data": {
      "text/latex": [
       "$\\displaystyle \\left[\\begin{matrix}1 & 0 & 0 & 0 & -1 & 0 & 1 & 0\\\\0 & 1 & 0 & 0 & a_{1} & -1 & 0 & -1\\\\0 & 0 & 1 & 0 & 0 & 1 & -1 & 0\\\\0 & 0 & 0 & 1 & -1 & 1 & 0 & 0\\end{matrix}\\right] = \\left[\\begin{matrix}1 & 0 & 0 & 0 & -1 & b_{0} & 1 & b_{0}\\\\0 & 1 & 0 & 0 & 0 & -1 & 0 & -1\\\\0 & 0 & 1 & 0 & 0 & b_{2} & -1 & b_{2} - 1\\\\0 & 0 & 0 & 1 & -1 & b_{3} & 0 & b_{3} - 1\\end{matrix}\\right]$"
      ],
      "text/plain": [
       "Eq(Matrix([\n",
       "[1, 0, 0, 0, -1,  0,  1,  0],\n",
       "[0, 1, 0, 0, a1, -1,  0, -1],\n",
       "[0, 0, 1, 0,  0,  1, -1,  0],\n",
       "[0, 0, 0, 1, -1,  1,  0,  0]]), Matrix([\n",
       "[1, 0, 0, 0, -1, b0,  1,     b0],\n",
       "[0, 1, 0, 0,  0, -1,  0,     -1],\n",
       "[0, 0, 1, 0,  0, b2, -1, b2 - 1],\n",
       "[0, 0, 0, 1, -1, b3,  0, b3 - 1]]))"
      ]
     },
     "metadata": {},
     "output_type": "display_data"
    },
    {
     "data": {
      "text/latex": [
       "$\\displaystyle \\text{True}$"
      ],
      "text/plain": [
       "True"
      ]
     },
     "execution_count": 183,
     "metadata": {},
     "output_type": "execute_result"
    }
   ],
   "source": [
    "i, j = 2, 4\n",
    "display(sp.Eq(fans[i], fans[j], evaluate=False))\n",
    "sp.Eq(fans[i].subs(a1,0), fans[j].subs(b0,0).subs(b2,1).subs(b3,1))"
   ]
  },
  {
   "cell_type": "markdown",
   "id": "427567d6-c7bf-41a2-b8e8-f06c8bbf41b6",
   "metadata": {
    "jp-MarkdownHeadingCollapsed": true
   },
   "source": [
    "### fan 6 ($a_1=0$, $b_0=0$, $b_2=0$, $b_3=0$)"
   ]
  },
  {
   "cell_type": "code",
   "execution_count": 191,
   "id": "3666a5ce-7666-4877-8219-27f36afa165d",
   "metadata": {},
   "outputs": [
    {
     "data": {
      "text/latex": [
       "$\\displaystyle \\left[\\begin{matrix}1 & 0 & 0 & 0 & -1 & b_{0} & 1 & b_{0}\\\\0 & 1 & 0 & 0 & 0 & -1 & 0 & -1\\\\0 & 0 & 1 & 0 & 0 & b_{2} & -1 & b_{2} - 1\\\\0 & 0 & 0 & 1 & -1 & b_{3} & 0 & b_{3} - 1\\end{matrix}\\right] = \\left[\\begin{matrix}1 & 0 & 0 & 0 & -1 & 0 & 1 & 0\\\\0 & 1 & 0 & 0 & a_{1} & -1 & 0 & a_{1} - 1\\\\0 & 0 & 1 & 0 & 0 & 0 & -1 & -1\\\\0 & 0 & 0 & 1 & -1 & 0 & 0 & -1\\end{matrix}\\right]$"
      ],
      "text/plain": [
       "Eq(Matrix([\n",
       "[1, 0, 0, 0, -1, b0,  1,     b0],\n",
       "[0, 1, 0, 0,  0, -1,  0,     -1],\n",
       "[0, 0, 1, 0,  0, b2, -1, b2 - 1],\n",
       "[0, 0, 0, 1, -1, b3,  0, b3 - 1]]), Matrix([\n",
       "[1, 0, 0, 0, -1,  0,  1,      0],\n",
       "[0, 1, 0, 0, a1, -1,  0, a1 - 1],\n",
       "[0, 0, 1, 0,  0,  0, -1,     -1],\n",
       "[0, 0, 0, 1, -1,  0,  0,     -1]]))"
      ]
     },
     "metadata": {},
     "output_type": "display_data"
    },
    {
     "data": {
      "text/latex": [
       "$\\displaystyle \\text{True}$"
      ],
      "text/plain": [
       "True"
      ]
     },
     "execution_count": 191,
     "metadata": {},
     "output_type": "execute_result"
    }
   ],
   "source": [
    "i, j = 4, 6\n",
    "display(sp.Eq(fans[i], fans[j], evaluate=False))\n",
    "sp.Eq(fans[i].subs(b0,0).subs(b2,0).subs(b3,0), fans[j].subs(a1,0))"
   ]
  },
  {
   "cell_type": "markdown",
   "id": "69e29c36-3754-46a2-aa3d-c8c98b6af40e",
   "metadata": {
    "jp-MarkdownHeadingCollapsed": true
   },
   "source": [
    "## fan 5"
   ]
  },
  {
   "cell_type": "markdown",
   "id": "719769dd-c225-4afb-8263-a1cef2b62b24",
   "metadata": {
    "jp-MarkdownHeadingCollapsed": true
   },
   "source": [
    "### fan 3 ($a_2=0$, $b_2=0$, $c_0=0$, $d_3=-1$)"
   ]
  },
  {
   "cell_type": "code",
   "execution_count": 188,
   "id": "8a293afc-b2b9-4f3d-9680-e4285bd7bdb3",
   "metadata": {},
   "outputs": [
    {
     "data": {
      "text/latex": [
       "$\\displaystyle \\left[\\begin{matrix}1 & 0 & 0 & 0 & -1 & 0 & 0 & -1\\\\0 & 1 & 0 & 0 & 1 & -1 & 0 & 0\\\\0 & 0 & 1 & 0 & a_{2} & b_{2} & -1 & a_{2} + b_{2} - 1\\\\0 & 0 & 0 & 1 & -1 & 1 & 0 & -1\\end{matrix}\\right] = \\left[\\begin{matrix}1 & 0 & 0 & 0 & -1 & 0 & c_{0} & c_{0} - 1\\\\0 & 1 & 0 & 0 & 1 & -1 & - d_{3} - 1 & - d_{3} - 1\\\\0 & 0 & 1 & 0 & 0 & 0 & -1 & -1\\\\0 & 0 & 0 & 1 & -1 & 1 & d_{3} + 1 & d_{3}\\end{matrix}\\right]$"
      ],
      "text/plain": [
       "Eq(Matrix([\n",
       "[1, 0, 0, 0, -1,  0,  0,          -1],\n",
       "[0, 1, 0, 0,  1, -1,  0,           0],\n",
       "[0, 0, 1, 0, a2, b2, -1, a2 + b2 - 1],\n",
       "[0, 0, 0, 1, -1,  1,  0,          -1]]), Matrix([\n",
       "[1, 0, 0, 0, -1,  0,      c0,  c0 - 1],\n",
       "[0, 1, 0, 0,  1, -1, -d3 - 1, -d3 - 1],\n",
       "[0, 0, 1, 0,  0,  0,      -1,      -1],\n",
       "[0, 0, 0, 1, -1,  1,  d3 + 1,      d3]]))"
      ]
     },
     "metadata": {},
     "output_type": "display_data"
    },
    {
     "data": {
      "text/latex": [
       "$\\displaystyle \\text{True}$"
      ],
      "text/plain": [
       "True"
      ]
     },
     "execution_count": 188,
     "metadata": {},
     "output_type": "execute_result"
    }
   ],
   "source": [
    "i, j = 3, 5\n",
    "display(sp.Eq(fans[i], fans[j], evaluate=False))\n",
    "sp.Eq(fans[i].subs(a2,0).subs(b2,0), fans[j].subs(c0,0).subs(d3,-1))"
   ]
  },
  {
   "cell_type": "markdown",
   "id": "2bb6720f-be9c-4d46-b0cf-52eb1b1551fc",
   "metadata": {
    "jp-MarkdownHeadingCollapsed": true
   },
   "source": [
    "### fan 8 ($b_2=0$, $b_3=1$, $c_0=1$, $d_3=-1$)"
   ]
  },
  {
   "cell_type": "code",
   "execution_count": 194,
   "id": "0e3710c8-794a-49c0-8ecd-dafa5b575c30",
   "metadata": {},
   "outputs": [
    {
     "data": {
      "text/latex": [
       "$\\displaystyle \\left[\\begin{matrix}1 & 0 & 0 & 0 & -1 & 0 & c_{0} & c_{0} - 1\\\\0 & 1 & 0 & 0 & 1 & -1 & - d_{3} - 1 & - d_{3} - 1\\\\0 & 0 & 1 & 0 & 0 & 0 & -1 & -1\\\\0 & 0 & 0 & 1 & -1 & 1 & d_{3} + 1 & d_{3}\\end{matrix}\\right] = \\left[\\begin{matrix}1 & 0 & 0 & 0 & -1 & 0 & 1 & 0\\\\0 & 1 & 0 & 0 & 1 & -1 & 0 & 0\\\\0 & 0 & 1 & 0 & 0 & b_{2} & -1 & -1\\\\0 & 0 & 0 & 1 & -1 & b_{3} & 0 & -1\\end{matrix}\\right]$"
      ],
      "text/plain": [
       "Eq(Matrix([\n",
       "[1, 0, 0, 0, -1,  0,      c0,  c0 - 1],\n",
       "[0, 1, 0, 0,  1, -1, -d3 - 1, -d3 - 1],\n",
       "[0, 0, 1, 0,  0,  0,      -1,      -1],\n",
       "[0, 0, 0, 1, -1,  1,  d3 + 1,      d3]]), Matrix([\n",
       "[1, 0, 0, 0, -1,  0,  1,  0],\n",
       "[0, 1, 0, 0,  1, -1,  0,  0],\n",
       "[0, 0, 1, 0,  0, b2, -1, -1],\n",
       "[0, 0, 0, 1, -1, b3,  0, -1]]))"
      ]
     },
     "metadata": {},
     "output_type": "display_data"
    },
    {
     "data": {
      "text/latex": [
       "$\\displaystyle \\text{True}$"
      ],
      "text/plain": [
       "True"
      ]
     },
     "execution_count": 194,
     "metadata": {},
     "output_type": "execute_result"
    }
   ],
   "source": [
    "i, j = 5, 8\n",
    "display(sp.Eq(fans[i], fans[j], evaluate=False))\n",
    "sp.Eq(fans[i].subs(c0,1).subs(d3,-1), fans[j].subs(b2,0).subs(b3,1))"
   ]
  },
  {
   "cell_type": "markdown",
   "id": "2b630070-079d-44c1-a6cc-dda999a31d51",
   "metadata": {
    "jp-MarkdownHeadingCollapsed": true
   },
   "source": [
    "## fan 6"
   ]
  },
  {
   "cell_type": "markdown",
   "id": "818f7214-bc67-45d6-92e4-5ea09eb63cc4",
   "metadata": {
    "jp-MarkdownHeadingCollapsed": true
   },
   "source": [
    "### fan 4 ($a_1=0$, $b_0=0$, $b_2=0$, $b_3=0$)"
   ]
  },
  {
   "cell_type": "code",
   "execution_count": 191,
   "id": "d7ec6675-d28e-4227-bf49-95f799e4308b",
   "metadata": {},
   "outputs": [
    {
     "data": {
      "text/latex": [
       "$\\displaystyle \\left[\\begin{matrix}1 & 0 & 0 & 0 & -1 & b_{0} & 1 & b_{0}\\\\0 & 1 & 0 & 0 & 0 & -1 & 0 & -1\\\\0 & 0 & 1 & 0 & 0 & b_{2} & -1 & b_{2} - 1\\\\0 & 0 & 0 & 1 & -1 & b_{3} & 0 & b_{3} - 1\\end{matrix}\\right] = \\left[\\begin{matrix}1 & 0 & 0 & 0 & -1 & 0 & 1 & 0\\\\0 & 1 & 0 & 0 & a_{1} & -1 & 0 & a_{1} - 1\\\\0 & 0 & 1 & 0 & 0 & 0 & -1 & -1\\\\0 & 0 & 0 & 1 & -1 & 0 & 0 & -1\\end{matrix}\\right]$"
      ],
      "text/plain": [
       "Eq(Matrix([\n",
       "[1, 0, 0, 0, -1, b0,  1,     b0],\n",
       "[0, 1, 0, 0,  0, -1,  0,     -1],\n",
       "[0, 0, 1, 0,  0, b2, -1, b2 - 1],\n",
       "[0, 0, 0, 1, -1, b3,  0, b3 - 1]]), Matrix([\n",
       "[1, 0, 0, 0, -1,  0,  1,      0],\n",
       "[0, 1, 0, 0, a1, -1,  0, a1 - 1],\n",
       "[0, 0, 1, 0,  0,  0, -1,     -1],\n",
       "[0, 0, 0, 1, -1,  0,  0,     -1]]))"
      ]
     },
     "metadata": {},
     "output_type": "display_data"
    },
    {
     "data": {
      "text/latex": [
       "$\\displaystyle \\text{True}$"
      ],
      "text/plain": [
       "True"
      ]
     },
     "execution_count": 191,
     "metadata": {},
     "output_type": "execute_result"
    }
   ],
   "source": [
    "i, j = 4, 6\n",
    "display(sp.Eq(fans[i], fans[j], evaluate=False))\n",
    "sp.Eq(fans[i].subs(b0,0).subs(b2,0).subs(b3,0), fans[j].subs(a1,0))"
   ]
  },
  {
   "cell_type": "markdown",
   "id": "1271930d-0458-4b45-88b3-87b339796c19",
   "metadata": {
    "jp-MarkdownHeadingCollapsed": true
   },
   "source": [
    "### fan 8 ($a_1=1$, $b_2=0$, $b_3=0$)"
   ]
  },
  {
   "cell_type": "code",
   "execution_count": 198,
   "id": "a05c4412-7205-4476-9194-9fa54a494098",
   "metadata": {},
   "outputs": [
    {
     "data": {
      "text/latex": [
       "$\\displaystyle \\left[\\begin{matrix}1 & 0 & 0 & 0 & -1 & 0 & 1 & 0\\\\0 & 1 & 0 & 0 & a_{1} & -1 & 0 & a_{1} - 1\\\\0 & 0 & 1 & 0 & 0 & 0 & -1 & -1\\\\0 & 0 & 0 & 1 & -1 & 0 & 0 & -1\\end{matrix}\\right] = \\left[\\begin{matrix}1 & 0 & 0 & 0 & -1 & 0 & 1 & 0\\\\0 & 1 & 0 & 0 & 1 & -1 & 0 & 0\\\\0 & 0 & 1 & 0 & 0 & b_{2} & -1 & -1\\\\0 & 0 & 0 & 1 & -1 & b_{3} & 0 & -1\\end{matrix}\\right]$"
      ],
      "text/plain": [
       "Eq(Matrix([\n",
       "[1, 0, 0, 0, -1,  0,  1,      0],\n",
       "[0, 1, 0, 0, a1, -1,  0, a1 - 1],\n",
       "[0, 0, 1, 0,  0,  0, -1,     -1],\n",
       "[0, 0, 0, 1, -1,  0,  0,     -1]]), Matrix([\n",
       "[1, 0, 0, 0, -1,  0,  1,  0],\n",
       "[0, 1, 0, 0,  1, -1,  0,  0],\n",
       "[0, 0, 1, 0,  0, b2, -1, -1],\n",
       "[0, 0, 0, 1, -1, b3,  0, -1]]))"
      ]
     },
     "metadata": {},
     "output_type": "display_data"
    },
    {
     "data": {
      "text/latex": [
       "$\\displaystyle \\text{True}$"
      ],
      "text/plain": [
       "True"
      ]
     },
     "execution_count": 198,
     "metadata": {},
     "output_type": "execute_result"
    }
   ],
   "source": [
    "i, j = 6, 8\n",
    "display(sp.Eq(fans[i], fans[j], evaluate=False))\n",
    "sp.Eq(fans[i].subs(a1,1), fans[j].subs(b2,0).subs(b3,0))"
   ]
  },
  {
   "cell_type": "markdown",
   "id": "a75fa8a3-1055-4f6a-a191-95f5057f1262",
   "metadata": {},
   "source": [
    "## fan 7"
   ]
  },
  {
   "cell_type": "markdown",
   "id": "67aed94f-17fa-47ec-a7a4-0830ceb25ce2",
   "metadata": {
    "jp-MarkdownHeadingCollapsed": true
   },
   "source": [
    "## fan 8"
   ]
  },
  {
   "cell_type": "markdown",
   "id": "63903207-5452-4a24-8ccd-f71b05491fd4",
   "metadata": {
    "jp-MarkdownHeadingCollapsed": true
   },
   "source": [
    "### fan 5 ($b_2=0$, $b_3=1$, $c_0=1$, $d_3=-1$)"
   ]
  },
  {
   "cell_type": "code",
   "execution_count": 194,
   "id": "4b764259-ee6d-47a1-bb1a-144f3a9fdea2",
   "metadata": {},
   "outputs": [
    {
     "data": {
      "text/latex": [
       "$\\displaystyle \\left[\\begin{matrix}1 & 0 & 0 & 0 & -1 & 0 & c_{0} & c_{0} - 1\\\\0 & 1 & 0 & 0 & 1 & -1 & - d_{3} - 1 & - d_{3} - 1\\\\0 & 0 & 1 & 0 & 0 & 0 & -1 & -1\\\\0 & 0 & 0 & 1 & -1 & 1 & d_{3} + 1 & d_{3}\\end{matrix}\\right] = \\left[\\begin{matrix}1 & 0 & 0 & 0 & -1 & 0 & 1 & 0\\\\0 & 1 & 0 & 0 & 1 & -1 & 0 & 0\\\\0 & 0 & 1 & 0 & 0 & b_{2} & -1 & -1\\\\0 & 0 & 0 & 1 & -1 & b_{3} & 0 & -1\\end{matrix}\\right]$"
      ],
      "text/plain": [
       "Eq(Matrix([\n",
       "[1, 0, 0, 0, -1,  0,      c0,  c0 - 1],\n",
       "[0, 1, 0, 0,  1, -1, -d3 - 1, -d3 - 1],\n",
       "[0, 0, 1, 0,  0,  0,      -1,      -1],\n",
       "[0, 0, 0, 1, -1,  1,  d3 + 1,      d3]]), Matrix([\n",
       "[1, 0, 0, 0, -1,  0,  1,  0],\n",
       "[0, 1, 0, 0,  1, -1,  0,  0],\n",
       "[0, 0, 1, 0,  0, b2, -1, -1],\n",
       "[0, 0, 0, 1, -1, b3,  0, -1]]))"
      ]
     },
     "metadata": {},
     "output_type": "display_data"
    },
    {
     "data": {
      "text/latex": [
       "$\\displaystyle \\text{True}$"
      ],
      "text/plain": [
       "True"
      ]
     },
     "execution_count": 194,
     "metadata": {},
     "output_type": "execute_result"
    }
   ],
   "source": [
    "i, j = 5, 8\n",
    "display(sp.Eq(fans[i], fans[j], evaluate=False))\n",
    "sp.Eq(fans[i].subs(c0,1).subs(d3,-1), fans[j].subs(b2,0).subs(b3,1))"
   ]
  },
  {
   "cell_type": "markdown",
   "id": "74681376-0720-4093-9e32-a4b0eb0d298c",
   "metadata": {
    "jp-MarkdownHeadingCollapsed": true
   },
   "source": [
    "### fan 6 ($a_1=1$, $b_2=0$, $b_3=0$)"
   ]
  },
  {
   "cell_type": "code",
   "execution_count": 198,
   "id": "54f9c7d1-f381-4e05-be4c-8c8cdfe4aa47",
   "metadata": {},
   "outputs": [
    {
     "data": {
      "text/latex": [
       "$\\displaystyle \\left[\\begin{matrix}1 & 0 & 0 & 0 & -1 & 0 & 1 & 0\\\\0 & 1 & 0 & 0 & a_{1} & -1 & 0 & a_{1} - 1\\\\0 & 0 & 1 & 0 & 0 & 0 & -1 & -1\\\\0 & 0 & 0 & 1 & -1 & 0 & 0 & -1\\end{matrix}\\right] = \\left[\\begin{matrix}1 & 0 & 0 & 0 & -1 & 0 & 1 & 0\\\\0 & 1 & 0 & 0 & 1 & -1 & 0 & 0\\\\0 & 0 & 1 & 0 & 0 & b_{2} & -1 & -1\\\\0 & 0 & 0 & 1 & -1 & b_{3} & 0 & -1\\end{matrix}\\right]$"
      ],
      "text/plain": [
       "Eq(Matrix([\n",
       "[1, 0, 0, 0, -1,  0,  1,      0],\n",
       "[0, 1, 0, 0, a1, -1,  0, a1 - 1],\n",
       "[0, 0, 1, 0,  0,  0, -1,     -1],\n",
       "[0, 0, 0, 1, -1,  0,  0,     -1]]), Matrix([\n",
       "[1, 0, 0, 0, -1,  0,  1,  0],\n",
       "[0, 1, 0, 0,  1, -1,  0,  0],\n",
       "[0, 0, 1, 0,  0, b2, -1, -1],\n",
       "[0, 0, 0, 1, -1, b3,  0, -1]]))"
      ]
     },
     "metadata": {},
     "output_type": "display_data"
    },
    {
     "data": {
      "text/latex": [
       "$\\displaystyle \\text{True}$"
      ],
      "text/plain": [
       "True"
      ]
     },
     "execution_count": 198,
     "metadata": {},
     "output_type": "execute_result"
    }
   ],
   "source": [
    "i, j = 6, 8\n",
    "display(sp.Eq(fans[i], fans[j], evaluate=False))\n",
    "sp.Eq(fans[i].subs(a1,1), fans[j].subs(b2,0).subs(b3,0))"
   ]
  },
  {
   "cell_type": "markdown",
   "id": "1dcdd03b-ff8a-4812-abf1-74c5e77727b4",
   "metadata": {
    "jp-MarkdownHeadingCollapsed": true
   },
   "source": [
    "### fan 9 ($b_2=1$, $b_3=1$, $d_0=0$, $d_1=0$)"
   ]
  },
  {
   "cell_type": "code",
   "execution_count": 200,
   "id": "51a7aa44-192e-461b-8824-13ef8772ee73",
   "metadata": {},
   "outputs": [
    {
     "data": {
      "text/latex": [
       "$\\displaystyle \\left[\\begin{matrix}1 & 0 & 0 & 0 & -1 & 0 & 1 & 0\\\\0 & 1 & 0 & 0 & 1 & -1 & 0 & 0\\\\0 & 0 & 1 & 0 & 0 & b_{2} & -1 & -1\\\\0 & 0 & 0 & 1 & -1 & b_{3} & 0 & -1\\end{matrix}\\right] = \\left[\\begin{matrix}1 & 0 & 0 & 0 & -1 & 0 & 1 & d_{0}\\\\0 & 1 & 0 & 0 & 1 & -1 & 0 & d_{1}\\\\0 & 0 & 1 & 0 & 0 & 1 & -1 & - d_{0} - d_{1} - 1\\\\0 & 0 & 0 & 1 & -1 & 1 & 0 & - d_{1} - 1\\end{matrix}\\right]$"
      ],
      "text/plain": [
       "Eq(Matrix([\n",
       "[1, 0, 0, 0, -1,  0,  1,  0],\n",
       "[0, 1, 0, 0,  1, -1,  0,  0],\n",
       "[0, 0, 1, 0,  0, b2, -1, -1],\n",
       "[0, 0, 0, 1, -1, b3,  0, -1]]), Matrix([\n",
       "[1, 0, 0, 0, -1,  0,  1,           d0],\n",
       "[0, 1, 0, 0,  1, -1,  0,           d1],\n",
       "[0, 0, 1, 0,  0,  1, -1, -d0 - d1 - 1],\n",
       "[0, 0, 0, 1, -1,  1,  0,      -d1 - 1]]))"
      ]
     },
     "metadata": {},
     "output_type": "display_data"
    },
    {
     "data": {
      "text/latex": [
       "$\\displaystyle \\text{True}$"
      ],
      "text/plain": [
       "True"
      ]
     },
     "execution_count": 200,
     "metadata": {},
     "output_type": "execute_result"
    }
   ],
   "source": [
    "i, j = 8, 9\n",
    "display(sp.Eq(fans[i], fans[j], evaluate=False))\n",
    "sp.Eq(fans[i].subs(b2,1).subs(b3,1), fans[j].subs(d0,0).subs(d1,0))"
   ]
  },
  {
   "cell_type": "markdown",
   "id": "7c836e07-06da-4f06-b499-9e81b8cfb639",
   "metadata": {
    "jp-MarkdownHeadingCollapsed": true
   },
   "source": [
    "## fan 9"
   ]
  },
  {
   "cell_type": "markdown",
   "id": "8b8f0b48-b30b-4946-a7fd-edfb2111601e",
   "metadata": {
    "jp-MarkdownHeadingCollapsed": true
   },
   "source": [
    "### fan 1 ($c_0=1$, $c_3=0$, $d_0=-1$, $d_1=0$)"
   ]
  },
  {
   "cell_type": "code",
   "execution_count": 180,
   "id": "cdf30299-3e20-47f7-81d6-77ea0a2c483e",
   "metadata": {},
   "outputs": [
    {
     "data": {
      "text/latex": [
       "$\\displaystyle \\left[\\begin{matrix}1 & 0 & 0 & 0 & -1 & 0 & c_{0} & -1\\\\0 & 1 & 0 & 0 & 1 & -1 & 0 & 0\\\\0 & 0 & 1 & 0 & 0 & 1 & -1 & 0\\\\0 & 0 & 0 & 1 & -1 & 1 & c_{3} & -1\\end{matrix}\\right] = \\left[\\begin{matrix}1 & 0 & 0 & 0 & -1 & 0 & 1 & d_{0}\\\\0 & 1 & 0 & 0 & 1 & -1 & 0 & d_{1}\\\\0 & 0 & 1 & 0 & 0 & 1 & -1 & - d_{0} - d_{1} - 1\\\\0 & 0 & 0 & 1 & -1 & 1 & 0 & - d_{1} - 1\\end{matrix}\\right]$"
      ],
      "text/plain": [
       "Eq(Matrix([\n",
       "[1, 0, 0, 0, -1,  0, c0, -1],\n",
       "[0, 1, 0, 0,  1, -1,  0,  0],\n",
       "[0, 0, 1, 0,  0,  1, -1,  0],\n",
       "[0, 0, 0, 1, -1,  1, c3, -1]]), Matrix([\n",
       "[1, 0, 0, 0, -1,  0,  1,           d0],\n",
       "[0, 1, 0, 0,  1, -1,  0,           d1],\n",
       "[0, 0, 1, 0,  0,  1, -1, -d0 - d1 - 1],\n",
       "[0, 0, 0, 1, -1,  1,  0,      -d1 - 1]]))"
      ]
     },
     "metadata": {},
     "output_type": "display_data"
    },
    {
     "data": {
      "text/latex": [
       "$\\displaystyle \\text{True}$"
      ],
      "text/plain": [
       "True"
      ]
     },
     "execution_count": 180,
     "metadata": {},
     "output_type": "execute_result"
    }
   ],
   "source": [
    "i, j = 1, 9\n",
    "display(sp.Eq(fans[i], fans[j], evaluate=False))\n",
    "sp.Eq(fans[i].subs(c0,1).subs(c3,0), fans[j].subs(d0,-1).subs(d1,0))"
   ]
  },
  {
   "cell_type": "markdown",
   "id": "80a33930-a988-460f-a74e-e8d9068f7125",
   "metadata": {
    "jp-MarkdownHeadingCollapsed": true
   },
   "source": [
    "### fan 2 ($a_1=1$, $d_0=0$, $d_1=-1$)"
   ]
  },
  {
   "cell_type": "code",
   "execution_count": 185,
   "id": "760053f8-1fb5-466f-9b1a-3a66852df3b2",
   "metadata": {},
   "outputs": [
    {
     "data": {
      "text/latex": [
       "$\\displaystyle \\left[\\begin{matrix}1 & 0 & 0 & 0 & -1 & 0 & 1 & 0\\\\0 & 1 & 0 & 0 & a_{1} & -1 & 0 & -1\\\\0 & 0 & 1 & 0 & 0 & 1 & -1 & 0\\\\0 & 0 & 0 & 1 & -1 & 1 & 0 & 0\\end{matrix}\\right] = \\left[\\begin{matrix}1 & 0 & 0 & 0 & -1 & 0 & 1 & d_{0}\\\\0 & 1 & 0 & 0 & 1 & -1 & 0 & d_{1}\\\\0 & 0 & 1 & 0 & 0 & 1 & -1 & - d_{0} - d_{1} - 1\\\\0 & 0 & 0 & 1 & -1 & 1 & 0 & - d_{1} - 1\\end{matrix}\\right]$"
      ],
      "text/plain": [
       "Eq(Matrix([\n",
       "[1, 0, 0, 0, -1,  0,  1,  0],\n",
       "[0, 1, 0, 0, a1, -1,  0, -1],\n",
       "[0, 0, 1, 0,  0,  1, -1,  0],\n",
       "[0, 0, 0, 1, -1,  1,  0,  0]]), Matrix([\n",
       "[1, 0, 0, 0, -1,  0,  1,           d0],\n",
       "[0, 1, 0, 0,  1, -1,  0,           d1],\n",
       "[0, 0, 1, 0,  0,  1, -1, -d0 - d1 - 1],\n",
       "[0, 0, 0, 1, -1,  1,  0,      -d1 - 1]]))"
      ]
     },
     "metadata": {},
     "output_type": "display_data"
    },
    {
     "data": {
      "text/latex": [
       "$\\displaystyle \\text{True}$"
      ],
      "text/plain": [
       "True"
      ]
     },
     "execution_count": 185,
     "metadata": {},
     "output_type": "execute_result"
    }
   ],
   "source": [
    "i, j = 2, 9\n",
    "display(sp.Eq(fans[i], fans[j], evaluate=False))\n",
    "sp.Eq(fans[i].subs(a1,1), fans[j].subs(d0,0).subs(d1,-1))"
   ]
  },
  {
   "cell_type": "markdown",
   "id": "26d6c45b-ea4b-46c0-9248-c3bb404628fa",
   "metadata": {
    "jp-MarkdownHeadingCollapsed": true
   },
   "source": [
    "### fan 8 ($b_2=1$, $b_3=1$, $d_0=0$, $d_1=0$)"
   ]
  },
  {
   "cell_type": "code",
   "execution_count": 201,
   "id": "aad3e415-80e3-477a-a77b-d1d2b1287bf0",
   "metadata": {},
   "outputs": [
    {
     "data": {
      "text/latex": [
       "$\\displaystyle \\left[\\begin{matrix}1 & 0 & 0 & 0 & -1 & 0 & 1 & 0\\\\0 & 1 & 0 & 0 & 1 & -1 & 0 & 0\\\\0 & 0 & 1 & 0 & 0 & b_{2} & -1 & -1\\\\0 & 0 & 0 & 1 & -1 & b_{3} & 0 & -1\\end{matrix}\\right] = \\left[\\begin{matrix}1 & 0 & 0 & 0 & -1 & 0 & 1 & d_{0}\\\\0 & 1 & 0 & 0 & 1 & -1 & 0 & d_{1}\\\\0 & 0 & 1 & 0 & 0 & 1 & -1 & - d_{0} - d_{1} - 1\\\\0 & 0 & 0 & 1 & -1 & 1 & 0 & - d_{1} - 1\\end{matrix}\\right]$"
      ],
      "text/plain": [
       "Eq(Matrix([\n",
       "[1, 0, 0, 0, -1,  0,  1,  0],\n",
       "[0, 1, 0, 0,  1, -1,  0,  0],\n",
       "[0, 0, 1, 0,  0, b2, -1, -1],\n",
       "[0, 0, 0, 1, -1, b3,  0, -1]]), Matrix([\n",
       "[1, 0, 0, 0, -1,  0,  1,           d0],\n",
       "[0, 1, 0, 0,  1, -1,  0,           d1],\n",
       "[0, 0, 1, 0,  0,  1, -1, -d0 - d1 - 1],\n",
       "[0, 0, 0, 1, -1,  1,  0,      -d1 - 1]]))"
      ]
     },
     "metadata": {},
     "output_type": "display_data"
    },
    {
     "data": {
      "text/latex": [
       "$\\displaystyle \\text{True}$"
      ],
      "text/plain": [
       "True"
      ]
     },
     "execution_count": 201,
     "metadata": {},
     "output_type": "execute_result"
    }
   ],
   "source": [
    "i, j = 8, 9\n",
    "display(sp.Eq(fans[i], fans[j], evaluate=False))\n",
    "sp.Eq(fans[i].subs(b2,1).subs(b3,1), fans[j].subs(d0,0).subs(d1,0))"
   ]
  },
  {
   "cell_type": "markdown",
   "id": "72cd4384-42bb-48b0-883d-64a59138f4f8",
   "metadata": {
    "jp-MarkdownHeadingCollapsed": true
   },
   "source": [
    "# There are 6 types of fans up to D-J equivalence and symmetry"
   ]
  },
  {
   "cell_type": "code",
   "execution_count": 202,
   "id": "d1c2b8a2-c5b5-49eb-b5e7-14629a2f5eb9",
   "metadata": {},
   "outputs": [
    {
     "data": {
      "text/plain": [
       "[[1, 2, 3, 4, 5, 6, 7, 8], [1, 2, 7, 5, 4, 8, 3, 6]]"
      ]
     },
     "execution_count": 202,
     "metadata": {},
     "output_type": "execute_result"
    }
   ],
   "source": [
    "K.symmetries"
   ]
  },
  {
   "cell_type": "code",
   "execution_count": 203,
   "id": "6784c18d-32a0-4d06-b9a4-8c37d8dfc98e",
   "metadata": {},
   "outputs": [],
   "source": [
    "symm_index = [(np.array(i)-1).tolist() for i in K.symmetries]"
   ]
  },
  {
   "cell_type": "markdown",
   "id": "f8d956e8-08ab-4d6a-9272-20b5195f49e7",
   "metadata": {
    "jp-MarkdownHeadingCollapsed": true
   },
   "source": [
    "## types 0, 7"
   ]
  },
  {
   "cell_type": "code",
   "execution_count": 204,
   "id": "8266d211-355d-4d30-9516-dc78717be1cd",
   "metadata": {},
   "outputs": [
    {
     "data": {
      "text/latex": [
       "$\\displaystyle \\left[\\begin{matrix}1 & 0 & 0 & 0 & -1 & 0 & 0 & -1\\\\0 & 1 & 0 & 0 & 1 & -1 & -1 & -1\\\\0 & 0 & 1 & 0 & 1 & 0 & -1 & 0\\\\0 & 0 & 0 & 1 & -1 & 1 & 0 & 0\\end{matrix}\\right]$"
      ],
      "text/plain": [
       "Matrix([\n",
       "[1, 0, 0, 0, -1,  0,  0, -1],\n",
       "[0, 1, 0, 0,  1, -1, -1, -1],\n",
       "[0, 0, 1, 0,  1,  0, -1,  0],\n",
       "[0, 0, 0, 1, -1,  1,  0,  0]])"
      ]
     },
     "metadata": {},
     "output_type": "display_data"
    },
    {
     "data": {
      "text/latex": [
       "$\\displaystyle \\left[\\begin{matrix}1 & 0 & 0 & 0 & -1 & 0 & 0 & -1\\\\0 & 1 & 0 & 0 & 1 & -1 & -1 & -1\\\\0 & 0 & 1 & 0 & 1 & 0 & -1 & 0\\\\0 & 0 & 0 & 1 & -1 & 1 & 0 & 0\\end{matrix}\\right]$"
      ],
      "text/plain": [
       "Matrix([\n",
       "[1, 0, 0, 0, -1,  0,  0, -1],\n",
       "[0, 1, 0, 0,  1, -1, -1, -1],\n",
       "[0, 0, 1, 0,  1,  0, -1,  0],\n",
       "[0, 0, 0, 1, -1,  1,  0,  0]])"
      ]
     },
     "metadata": {},
     "output_type": "display_data"
    }
   ],
   "source": [
    "display(fans[0][:, symm_index[1]].rref()[0])\n",
    "display(fans[7])"
   ]
  },
  {
   "cell_type": "markdown",
   "id": "1dfd787c-8a46-45bd-82c6-acafe425f905",
   "metadata": {
    "jp-MarkdownHeadingCollapsed": true
   },
   "source": [
    "## types 1, 5"
   ]
  },
  {
   "cell_type": "code",
   "execution_count": 205,
   "id": "700230ab-a2ad-496b-b625-bc2b7bfbd9db",
   "metadata": {},
   "outputs": [
    {
     "data": {
      "text/latex": [
       "$\\displaystyle \\left[\\begin{matrix}1 & 0 & 0 & 0 & -1 & 0 & c_{0} - c_{3} & c_{0} - c_{3} - 1\\\\0 & 1 & 0 & 0 & 1 & -1 & c_{3} & c_{3}\\\\0 & 0 & 1 & 0 & 0 & 0 & -1 & -1\\\\0 & 0 & 0 & 1 & -1 & 1 & - c_{3} & - c_{3} - 1\\end{matrix}\\right]$"
      ],
      "text/plain": [
       "Matrix([\n",
       "[1, 0, 0, 0, -1,  0, c0 - c3, c0 - c3 - 1],\n",
       "[0, 1, 0, 0,  1, -1,      c3,          c3],\n",
       "[0, 0, 1, 0,  0,  0,      -1,          -1],\n",
       "[0, 0, 0, 1, -1,  1,     -c3,     -c3 - 1]])"
      ]
     },
     "metadata": {},
     "output_type": "display_data"
    },
    {
     "data": {
      "text/latex": [
       "$\\displaystyle \\left[\\begin{matrix}1 & 0 & 0 & 0 & -1 & 0 & c_{0} & c_{0} - 1\\\\0 & 1 & 0 & 0 & 1 & -1 & - d_{3} - 1 & - d_{3} - 1\\\\0 & 0 & 1 & 0 & 0 & 0 & -1 & -1\\\\0 & 0 & 0 & 1 & -1 & 1 & d_{3} + 1 & d_{3}\\end{matrix}\\right]$"
      ],
      "text/plain": [
       "Matrix([\n",
       "[1, 0, 0, 0, -1,  0,      c0,  c0 - 1],\n",
       "[0, 1, 0, 0,  1, -1, -d3 - 1, -d3 - 1],\n",
       "[0, 0, 1, 0,  0,  0,      -1,      -1],\n",
       "[0, 0, 0, 1, -1,  1,  d3 + 1,      d3]])"
      ]
     },
     "metadata": {},
     "output_type": "display_data"
    }
   ],
   "source": [
    "display(fans[1][:, symm_index[1]].rref()[0])\n",
    "display(fans[5])"
   ]
  },
  {
   "cell_type": "markdown",
   "id": "6688855d-aa03-4582-b1e7-078c35245f07",
   "metadata": {
    "jp-MarkdownHeadingCollapsed": true
   },
   "source": [
    "## types 2, 6"
   ]
  },
  {
   "cell_type": "code",
   "execution_count": 206,
   "id": "a000079e-cf75-46a7-aec0-873b5222d1e5",
   "metadata": {},
   "outputs": [
    {
     "data": {
      "text/latex": [
       "$\\displaystyle \\left[\\begin{matrix}1 & 0 & 0 & 0 & -1 & 0 & 1 & 0\\\\0 & 1 & 0 & 0 & a_{1} & -1 & 0 & a_{1} - 1\\\\0 & 0 & 1 & 0 & 0 & 0 & -1 & -1\\\\0 & 0 & 0 & 1 & -1 & 0 & 0 & -1\\end{matrix}\\right]$"
      ],
      "text/plain": [
       "Matrix([\n",
       "[1, 0, 0, 0, -1,  0,  1,      0],\n",
       "[0, 1, 0, 0, a1, -1,  0, a1 - 1],\n",
       "[0, 0, 1, 0,  0,  0, -1,     -1],\n",
       "[0, 0, 0, 1, -1,  0,  0,     -1]])"
      ]
     },
     "metadata": {},
     "output_type": "display_data"
    },
    {
     "data": {
      "text/latex": [
       "$\\displaystyle \\left[\\begin{matrix}1 & 0 & 0 & 0 & -1 & 0 & 1 & 0\\\\0 & 1 & 0 & 0 & a_{1} & -1 & 0 & a_{1} - 1\\\\0 & 0 & 1 & 0 & 0 & 0 & -1 & -1\\\\0 & 0 & 0 & 1 & -1 & 0 & 0 & -1\\end{matrix}\\right]$"
      ],
      "text/plain": [
       "Matrix([\n",
       "[1, 0, 0, 0, -1,  0,  1,      0],\n",
       "[0, 1, 0, 0, a1, -1,  0, a1 - 1],\n",
       "[0, 0, 1, 0,  0,  0, -1,     -1],\n",
       "[0, 0, 0, 1, -1,  0,  0,     -1]])"
      ]
     },
     "metadata": {},
     "output_type": "display_data"
    }
   ],
   "source": [
    "display(fans[2][:, symm_index[1]].rref()[0])\n",
    "display(fans[6])"
   ]
  },
  {
   "cell_type": "markdown",
   "id": "4092c3dc-0b60-44c6-aae6-a2fc810e2431",
   "metadata": {
    "jp-MarkdownHeadingCollapsed": true
   },
   "source": [
    "## type 3 "
   ]
  },
  {
   "cell_type": "code",
   "execution_count": 207,
   "id": "6af28e10-4904-4be4-8a1c-7b843f4f2529",
   "metadata": {},
   "outputs": [
    {
     "data": {
      "text/latex": [
       "$\\displaystyle \\left[\\begin{matrix}1 & 0 & 0 & 0 & -1 & 0 & 0 & -1\\\\0 & 1 & 0 & 0 & 1 & -1 & 0 & 0\\\\0 & 0 & 1 & 0 & - a_{2} & 1 - b_{2} & -1 & - a_{2} - b_{2}\\\\0 & 0 & 0 & 1 & -1 & 1 & 0 & -1\\end{matrix}\\right]$"
      ],
      "text/plain": [
       "Matrix([\n",
       "[1, 0, 0, 0,  -1,      0,  0,       -1],\n",
       "[0, 1, 0, 0,   1,     -1,  0,        0],\n",
       "[0, 0, 1, 0, -a2, 1 - b2, -1, -a2 - b2],\n",
       "[0, 0, 0, 1,  -1,      1,  0,       -1]])"
      ]
     },
     "metadata": {},
     "output_type": "display_data"
    },
    {
     "data": {
      "text/latex": [
       "$\\displaystyle \\left[\\begin{matrix}1 & 0 & 0 & 0 & -1 & 0 & 0 & -1\\\\0 & 1 & 0 & 0 & 1 & -1 & 0 & 0\\\\0 & 0 & 1 & 0 & a_{2} & b_{2} & -1 & a_{2} + b_{2} - 1\\\\0 & 0 & 0 & 1 & -1 & 1 & 0 & -1\\end{matrix}\\right]$"
      ],
      "text/plain": [
       "Matrix([\n",
       "[1, 0, 0, 0, -1,  0,  0,          -1],\n",
       "[0, 1, 0, 0,  1, -1,  0,           0],\n",
       "[0, 0, 1, 0, a2, b2, -1, a2 + b2 - 1],\n",
       "[0, 0, 0, 1, -1,  1,  0,          -1]])"
      ]
     },
     "metadata": {},
     "output_type": "display_data"
    }
   ],
   "source": [
    "display(fans[3][:, symm_index[1]].rref()[0])\n",
    "display(fans[3])"
   ]
  },
  {
   "cell_type": "markdown",
   "id": "fd54a895-529d-4082-834a-62b44a9b4153",
   "metadata": {
    "jp-MarkdownHeadingCollapsed": true
   },
   "source": [
    "## type 4 "
   ]
  },
  {
   "cell_type": "code",
   "execution_count": 208,
   "id": "e90e330a-d9a7-411b-bc80-c99914dd3834",
   "metadata": {},
   "outputs": [
    {
     "data": {
      "text/latex": [
       "$\\displaystyle \\left[\\begin{matrix}1 & 0 & 0 & 0 & -1 & b_{0} + b_{2} - b_{3} & 1 & b_{0} + b_{2} - b_{3}\\\\0 & 1 & 0 & 0 & 0 & -1 & 0 & -1\\\\0 & 0 & 1 & 0 & 0 & 1 - b_{2} & -1 & - b_{2}\\\\0 & 0 & 0 & 1 & -1 & 1 - b_{3} & 0 & - b_{3}\\end{matrix}\\right]$"
      ],
      "text/plain": [
       "Matrix([\n",
       "[1, 0, 0, 0, -1, b0 + b2 - b3,  1, b0 + b2 - b3],\n",
       "[0, 1, 0, 0,  0,           -1,  0,           -1],\n",
       "[0, 0, 1, 0,  0,       1 - b2, -1,          -b2],\n",
       "[0, 0, 0, 1, -1,       1 - b3,  0,          -b3]])"
      ]
     },
     "metadata": {},
     "output_type": "display_data"
    },
    {
     "data": {
      "text/latex": [
       "$\\displaystyle \\left[\\begin{matrix}1 & 0 & 0 & 0 & -1 & b_{0} & 1 & b_{0}\\\\0 & 1 & 0 & 0 & 0 & -1 & 0 & -1\\\\0 & 0 & 1 & 0 & 0 & b_{2} & -1 & b_{2} - 1\\\\0 & 0 & 0 & 1 & -1 & b_{3} & 0 & b_{3} - 1\\end{matrix}\\right]$"
      ],
      "text/plain": [
       "Matrix([\n",
       "[1, 0, 0, 0, -1, b0,  1,     b0],\n",
       "[0, 1, 0, 0,  0, -1,  0,     -1],\n",
       "[0, 0, 1, 0,  0, b2, -1, b2 - 1],\n",
       "[0, 0, 0, 1, -1, b3,  0, b3 - 1]])"
      ]
     },
     "metadata": {},
     "output_type": "display_data"
    }
   ],
   "source": [
    "display(fans[4][:, symm_index[1]].rref()[0])\n",
    "display(fans[4])"
   ]
  },
  {
   "cell_type": "markdown",
   "id": "459fcf8e-7193-4f45-a398-69869fa0c84b",
   "metadata": {
    "jp-MarkdownHeadingCollapsed": true
   },
   "source": [
    "## types 8, 9"
   ]
  },
  {
   "cell_type": "code",
   "execution_count": 209,
   "id": "548dd6ac-e0f7-4b1a-b206-a8929592bd13",
   "metadata": {},
   "outputs": [
    {
     "data": {
      "text/latex": [
       "$\\displaystyle \\left[\\begin{matrix}1 & 0 & 0 & 0 & -1 & 0 & 1 & b_{2} - b_{3}\\\\0 & 1 & 0 & 0 & 1 & -1 & 0 & b_{3} - 1\\\\0 & 0 & 1 & 0 & 0 & 1 & -1 & - b_{2}\\\\0 & 0 & 0 & 1 & -1 & 1 & 0 & - b_{3}\\end{matrix}\\right]$"
      ],
      "text/plain": [
       "Matrix([\n",
       "[1, 0, 0, 0, -1,  0,  1, b2 - b3],\n",
       "[0, 1, 0, 0,  1, -1,  0,  b3 - 1],\n",
       "[0, 0, 1, 0,  0,  1, -1,     -b2],\n",
       "[0, 0, 0, 1, -1,  1,  0,     -b3]])"
      ]
     },
     "metadata": {},
     "output_type": "display_data"
    },
    {
     "data": {
      "text/latex": [
       "$\\displaystyle \\left[\\begin{matrix}1 & 0 & 0 & 0 & -1 & 0 & 1 & d_{0}\\\\0 & 1 & 0 & 0 & 1 & -1 & 0 & d_{1}\\\\0 & 0 & 1 & 0 & 0 & 1 & -1 & - d_{0} - d_{1} - 1\\\\0 & 0 & 0 & 1 & -1 & 1 & 0 & - d_{1} - 1\\end{matrix}\\right]$"
      ],
      "text/plain": [
       "Matrix([\n",
       "[1, 0, 0, 0, -1,  0,  1,           d0],\n",
       "[0, 1, 0, 0,  1, -1,  0,           d1],\n",
       "[0, 0, 1, 0,  0,  1, -1, -d0 - d1 - 1],\n",
       "[0, 0, 0, 1, -1,  1,  0,      -d1 - 1]])"
      ]
     },
     "metadata": {},
     "output_type": "display_data"
    }
   ],
   "source": [
    "display(fans[8][:, symm_index[1]].rref()[0])\n",
    "display(fans[9])"
   ]
  }
 ],
 "metadata": {
  "kernelspec": {
   "display_name": "Python 3 (ipykernel)",
   "language": "python",
   "name": "python3"
  },
  "language_info": {
   "codemirror_mode": {
    "name": "ipython",
    "version": 3
   },
   "file_extension": ".py",
   "mimetype": "text/x-python",
   "name": "python",
   "nbconvert_exporter": "python",
   "pygments_lexer": "ipython3",
   "version": "3.12.7"
  }
 },
 "nbformat": 4,
 "nbformat_minor": 5
}
