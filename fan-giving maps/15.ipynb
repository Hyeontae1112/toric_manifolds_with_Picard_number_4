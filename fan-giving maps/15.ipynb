{
 "cells": [
  {
   "cell_type": "markdown",
   "id": "88a45b06-0c2e-495c-8130-a3b2b9b21bd8",
   "metadata": {
    "jp-MarkdownHeadingCollapsed": true
   },
   "source": [
    "# Preparation"
   ]
  },
  {
   "cell_type": "code",
   "execution_count": 1,
   "id": "a8d1a5a8-1e28-4abe-bbe4-1188621c64ca",
   "metadata": {},
   "outputs": [],
   "source": [
    "%run programs\\\\Characteristic_Pair.py\n",
    "import copy\n",
    "\n",
    "fanlikes_index=15\n",
    "projectied_vertex=5\n",
    "link_index=8\n",
    "\n",
    "K = Simplicial_Complex(json.loads(read_file('programs\\\\fanlikes')[fanlikes_index]))\n",
    "M = initial_char(K.n)\n",
    "C0 = Characteristic_Pair(K, M)\n",
    "fans = []\n",
    "\n",
    "a = sp.symbols('a0:%d'%K.n)\n",
    "b = sp.symbols('b0:%d'%K.n)\n",
    "c = sp.symbols('c0:%d'%K.n)\n",
    "d = sp.symbols('d0:%d'%K.n)\n",
    "\n",
    "a0, a1, a2, a3, a4 = a[:]\n",
    "b0, b1, b2, b3, b4 = b[:]\n",
    "c0, c1, c2, c3, c4 = c[:]\n",
    "d0, d1, d2, d3, d4 = d[:]"
   ]
  },
  {
   "cell_type": "code",
   "execution_count": 2,
   "id": "22341429-16ec-4752-9dab-2c617ed14844",
   "metadata": {},
   "outputs": [
    {
     "data": {
      "text/latex": [
       "$\\displaystyle \\left[\\begin{matrix}1 & 0 & 0 & 0 & 0 & a_{0} & b_{0} & c_{0} & d_{0}\\\\0 & 1 & 0 & 0 & 0 & a_{1} & b_{1} & c_{1} & d_{1}\\\\0 & 0 & 1 & 0 & 0 & a_{2} & b_{2} & c_{2} & d_{2}\\\\0 & 0 & 0 & 1 & 0 & a_{3} & b_{3} & c_{3} & d_{3}\\\\0 & 0 & 0 & 0 & 1 & a_{4} & b_{4} & c_{4} & d_{4}\\end{matrix}\\right]$"
      ],
      "text/plain": [
       "Matrix([\n",
       "[1, 0, 0, 0, 0, a0, b0, c0, d0],\n",
       "[0, 1, 0, 0, 0, a1, b1, c1, d1],\n",
       "[0, 0, 1, 0, 0, a2, b2, c2, d2],\n",
       "[0, 0, 0, 1, 0, a3, b3, c3, d3],\n",
       "[0, 0, 0, 0, 1, a4, b4, c4, d4]])"
      ]
     },
     "execution_count": 2,
     "metadata": {},
     "output_type": "execute_result"
    }
   ],
   "source": [
    "C = C0\n",
    "C.char"
   ]
  },
  {
   "cell_type": "code",
   "execution_count": 3,
   "id": "0d4234c5-d2ad-43f2-bcf2-53df6f518fc0",
   "metadata": {},
   "outputs": [
    {
     "name": "stdout",
     "output_type": "stream",
     "text": [
      "facet number: 16\n"
     ]
    },
    {
     "data": {
      "text/latex": [
       "$\\displaystyle a_{0} = -1$"
      ],
      "text/plain": [
       "Eq(a0, -1)"
      ]
     },
     "metadata": {},
     "output_type": "display_data"
    },
    {
     "name": "stdout",
     "output_type": "stream",
     "text": [
      "facet number: 2\n"
     ]
    },
    {
     "data": {
      "text/latex": [
       "$\\displaystyle - a_{3} = 1$"
      ],
      "text/plain": [
       "Eq(-a3, 1)"
      ]
     },
     "metadata": {},
     "output_type": "display_data"
    },
    {
     "name": "stdout",
     "output_type": "stream",
     "text": [
      "facet number: 8\n"
     ]
    },
    {
     "data": {
      "text/latex": [
       "$\\displaystyle - b_{1} = 1$"
      ],
      "text/plain": [
       "Eq(-b1, 1)"
      ]
     },
     "metadata": {},
     "output_type": "display_data"
    },
    {
     "name": "stdout",
     "output_type": "stream",
     "text": [
      "facet number: 5\n"
     ]
    },
    {
     "data": {
      "text/latex": [
       "$\\displaystyle c_{2} = -1$"
      ],
      "text/plain": [
       "Eq(c2, -1)"
      ]
     },
     "metadata": {},
     "output_type": "display_data"
    },
    {
     "name": "stdout",
     "output_type": "stream",
     "text": [
      "facet number: 1\n"
     ]
    },
    {
     "data": {
      "text/latex": [
       "$\\displaystyle c_{4} = -1$"
      ],
      "text/plain": [
       "Eq(c4, -1)"
      ]
     },
     "metadata": {},
     "output_type": "display_data"
    }
   ],
   "source": [
    "i=16\n",
    "print('facet number:', i)\n",
    "display(sp.Eq(C.determinants[i], C.orientation[i]))\n",
    "\n",
    "i=2\n",
    "print('facet number:', i)\n",
    "display(sp.Eq(C.determinants[i], C.orientation[i]))\n",
    "\n",
    "i=8\n",
    "print('facet number:', i)\n",
    "display(sp.Eq(C.determinants[i], C.orientation[i]))\n",
    "\n",
    "i=5\n",
    "print('facet number:', i)\n",
    "display(sp.Eq(C.determinants[i], C.orientation[i]))\n",
    "\n",
    "i=1\n",
    "print('facet number:', i)\n",
    "display(sp.Eq(C.determinants[i], C.orientation[i]))\n",
    "\n",
    "C.subs(a0, -1)\n",
    "C.subs(a3, -1)\n",
    "C.subs(b1, -1)\n",
    "C.subs(c2, -1)\n",
    "C.subs(c4, -1)"
   ]
  },
  {
   "cell_type": "markdown",
   "id": "7ccb2119-3126-4c0b-8022-d88dc46dd725",
   "metadata": {
    "jp-MarkdownHeadingCollapsed": true
   },
   "source": [
    "# The projection with respect to 5"
   ]
  },
  {
   "cell_type": "code",
   "execution_count": 4,
   "id": "0e323cef-c0a2-46e2-9a4a-ae5e50771989",
   "metadata": {},
   "outputs": [
    {
     "name": "stdout",
     "output_type": "stream",
     "text": [
      "[[1, 2, 3, 4], [1, 2, 3, 6], [1, 2, 4, 8], [1, 2, 6, 8], [1, 3, 4, 7], [1, 3, 6, 9], [1, 3, 7, 9], [1, 4, 7, 8], [1, 6, 8, 9], [1, 7, 8, 9], [2, 3, 4, 6], [2, 4, 6, 8], [3, 4, 6, 7], [3, 6, 7, 9], [4, 6, 7, 9], [4, 6, 8, 9], [4, 7, 8, 9]]\n"
     ]
    }
   ],
   "source": [
    "print(Link(K, [projectied_vertex]).cpx)"
   ]
  },
  {
   "cell_type": "code",
   "execution_count": 5,
   "id": "f30eb303-c49a-4ce3-8acd-ff8035ccc85e",
   "metadata": {},
   "outputs": [
    {
     "name": "stdout",
     "output_type": "stream",
     "text": [
      "[[1, 2, 3, 4], [1, 2, 3, 5], [1, 2, 4, 7], [1, 2, 5, 7], [1, 3, 4, 6], [1, 3, 5, 8], [1, 3, 6, 8], [1, 4, 6, 7], [1, 5, 7, 8], [1, 6, 7, 8], [2, 3, 4, 5], [2, 4, 5, 7], [3, 4, 5, 6], [3, 5, 6, 8], [4, 5, 6, 8], [4, 5, 7, 8], [4, 6, 7, 8]]\n"
     ]
    }
   ],
   "source": [
    "print(json.loads(read_file('programs\\\\fanlikes')[link_index]))"
   ]
  },
  {
   "cell_type": "code",
   "execution_count": 6,
   "id": "df140542-cdf9-4552-9612-b989fd3da923",
   "metadata": {},
   "outputs": [
    {
     "name": "stdout",
     "output_type": "stream",
     "text": [
      "[[1, 2, 3, 4], [1, 2, 3, 5], [1, 2, 4, 7], [1, 2, 5, 7], [1, 3, 4, 6], [1, 3, 5, 8], [1, 3, 6, 8], [1, 4, 6, 7], [1, 5, 7, 8], [1, 6, 7, 8], [2, 3, 4, 5], [2, 4, 5, 7], [3, 4, 5, 6], [3, 5, 6, 8], [4, 5, 6, 8], [4, 5, 7, 8], [4, 6, 7, 8]]\n"
     ]
    },
    {
     "data": {
      "text/plain": [
       "True"
      ]
     },
     "execution_count": 6,
     "metadata": {},
     "output_type": "execute_result"
    }
   ],
   "source": [
    "L=[] # making the vertices of the link consecutive\n",
    "for l in Link(K, [projectied_vertex]).cpx:\n",
    "    L.append([])\n",
    "    for v in l:\n",
    "        if v>projectied_vertex:\n",
    "            L[-1].append(v-1)\n",
    "        else:\n",
    "            L[-1].append(v)\n",
    "print(L)\n",
    "L==json.loads(read_file('programs\\\\fanlikes')[link_index])"
   ]
  },
  {
   "cell_type": "code",
   "execution_count": 7,
   "id": "819b93af-0d9f-4aa9-912b-371f2dda7836",
   "metadata": {},
   "outputs": [
    {
     "data": {
      "text/latex": [
       "$\\displaystyle \\left[\\begin{matrix}1 & 0 & 0 & 0 & -1 & b_{0} & c_{0} & d_{0}\\\\0 & 1 & 0 & 0 & a_{1} & -1 & c_{1} & d_{1}\\\\0 & 0 & 1 & 0 & a_{2} & b_{2} & -1 & d_{2}\\\\0 & 0 & 0 & 1 & -1 & b_{3} & c_{3} & d_{3}\\end{matrix}\\right]$"
      ],
      "text/plain": [
       "Matrix([\n",
       "[1, 0, 0, 0, -1, b0, c0, d0],\n",
       "[0, 1, 0, 0, a1, -1, c1, d1],\n",
       "[0, 0, 1, 0, a2, b2, -1, d2],\n",
       "[0, 0, 0, 1, -1, b3, c3, d3]])"
      ]
     },
     "metadata": {},
     "output_type": "display_data"
    }
   ],
   "source": [
    "display(C.proj([projectied_vertex]))"
   ]
  },
  {
   "cell_type": "markdown",
   "id": "dbcfd1c6-d2b6-4db0-81c1-f5fb1408a298",
   "metadata": {
    "jp-MarkdownHeadingCollapsed": true
   },
   "source": [
    "# The projection has 10 types of fans up to D-J equivalence"
   ]
  },
  {
   "cell_type": "code",
   "execution_count": 8,
   "id": "ed179421-0afe-4afc-b868-2c1c3dbe28e5",
   "metadata": {},
   "outputs": [],
   "source": [
    "import pickle\n",
    "with open('programs\\\\pickle_files\\\\%d_up_to_DJ.p'%(link_index), 'rb') as f:\n",
    "    fans_link = pickle.load(f)"
   ]
  },
  {
   "cell_type": "code",
   "execution_count": 9,
   "id": "934c9089-0a81-48c2-b920-150496633535",
   "metadata": {},
   "outputs": [
    {
     "data": {
      "text/latex": [
       "$\\displaystyle \\left[\\begin{matrix}1 & 0 & 0 & 0 & -1 & -1 & 0 & -1\\\\0 & 1 & 0 & 0 & 0 & -1 & -1 & -1\\\\0 & 0 & 1 & 0 & -1 & 0 & -1 & -1\\\\0 & 0 & 0 & 1 & -1 & 0 & 0 & -1\\end{matrix}\\right]$"
      ],
      "text/plain": [
       "Matrix([\n",
       "[1, 0, 0, 0, -1, -1,  0, -1],\n",
       "[0, 1, 0, 0,  0, -1, -1, -1],\n",
       "[0, 0, 1, 0, -1,  0, -1, -1],\n",
       "[0, 0, 0, 1, -1,  0,  0, -1]])"
      ]
     },
     "metadata": {},
     "output_type": "display_data"
    },
    {
     "data": {
      "text/latex": [
       "$\\displaystyle \\left[\\begin{matrix}1 & 0 & 0 & 0 & -1 & 0 & c_{0} & -1\\\\0 & 1 & 0 & 0 & 1 & -1 & 0 & 0\\\\0 & 0 & 1 & 0 & 0 & 1 & -1 & 0\\\\0 & 0 & 0 & 1 & -1 & 1 & c_{3} & -1\\end{matrix}\\right]$"
      ],
      "text/plain": [
       "Matrix([\n",
       "[1, 0, 0, 0, -1,  0, c0, -1],\n",
       "[0, 1, 0, 0,  1, -1,  0,  0],\n",
       "[0, 0, 1, 0,  0,  1, -1,  0],\n",
       "[0, 0, 0, 1, -1,  1, c3, -1]])"
      ]
     },
     "metadata": {},
     "output_type": "display_data"
    },
    {
     "data": {
      "text/latex": [
       "$\\displaystyle \\left[\\begin{matrix}1 & 0 & 0 & 0 & -1 & 0 & 1 & 0\\\\0 & 1 & 0 & 0 & a_{1} & -1 & 0 & -1\\\\0 & 0 & 1 & 0 & 0 & 1 & -1 & 0\\\\0 & 0 & 0 & 1 & -1 & 1 & 0 & 0\\end{matrix}\\right]$"
      ],
      "text/plain": [
       "Matrix([\n",
       "[1, 0, 0, 0, -1,  0,  1,  0],\n",
       "[0, 1, 0, 0, a1, -1,  0, -1],\n",
       "[0, 0, 1, 0,  0,  1, -1,  0],\n",
       "[0, 0, 0, 1, -1,  1,  0,  0]])"
      ]
     },
     "metadata": {},
     "output_type": "display_data"
    },
    {
     "data": {
      "text/latex": [
       "$\\displaystyle \\left[\\begin{matrix}1 & 0 & 0 & 0 & -1 & 0 & 0 & -1\\\\0 & 1 & 0 & 0 & 1 & -1 & 0 & 0\\\\0 & 0 & 1 & 0 & a_{2} & b_{2} & -1 & a_{2} + b_{2} - 1\\\\0 & 0 & 0 & 1 & -1 & 1 & 0 & -1\\end{matrix}\\right]$"
      ],
      "text/plain": [
       "Matrix([\n",
       "[1, 0, 0, 0, -1,  0,  0,          -1],\n",
       "[0, 1, 0, 0,  1, -1,  0,           0],\n",
       "[0, 0, 1, 0, a2, b2, -1, a2 + b2 - 1],\n",
       "[0, 0, 0, 1, -1,  1,  0,          -1]])"
      ]
     },
     "metadata": {},
     "output_type": "display_data"
    },
    {
     "data": {
      "text/latex": [
       "$\\displaystyle \\left[\\begin{matrix}1 & 0 & 0 & 0 & -1 & b_{0} & 1 & b_{0}\\\\0 & 1 & 0 & 0 & 0 & -1 & 0 & -1\\\\0 & 0 & 1 & 0 & 0 & b_{2} & -1 & b_{2} - 1\\\\0 & 0 & 0 & 1 & -1 & b_{3} & 0 & b_{3} - 1\\end{matrix}\\right]$"
      ],
      "text/plain": [
       "Matrix([\n",
       "[1, 0, 0, 0, -1, b0,  1,     b0],\n",
       "[0, 1, 0, 0,  0, -1,  0,     -1],\n",
       "[0, 0, 1, 0,  0, b2, -1, b2 - 1],\n",
       "[0, 0, 0, 1, -1, b3,  0, b3 - 1]])"
      ]
     },
     "metadata": {},
     "output_type": "display_data"
    },
    {
     "data": {
      "text/latex": [
       "$\\displaystyle \\left[\\begin{matrix}1 & 0 & 0 & 0 & -1 & 0 & c_{0} & c_{0} - 1\\\\0 & 1 & 0 & 0 & 1 & -1 & - d_{3} - 1 & - d_{3} - 1\\\\0 & 0 & 1 & 0 & 0 & 0 & -1 & -1\\\\0 & 0 & 0 & 1 & -1 & 1 & d_{3} + 1 & d_{3}\\end{matrix}\\right]$"
      ],
      "text/plain": [
       "Matrix([\n",
       "[1, 0, 0, 0, -1,  0,      c0,  c0 - 1],\n",
       "[0, 1, 0, 0,  1, -1, -d3 - 1, -d3 - 1],\n",
       "[0, 0, 1, 0,  0,  0,      -1,      -1],\n",
       "[0, 0, 0, 1, -1,  1,  d3 + 1,      d3]])"
      ]
     },
     "metadata": {},
     "output_type": "display_data"
    },
    {
     "data": {
      "text/latex": [
       "$\\displaystyle \\left[\\begin{matrix}1 & 0 & 0 & 0 & -1 & 0 & 1 & 0\\\\0 & 1 & 0 & 0 & a_{1} & -1 & 0 & a_{1} - 1\\\\0 & 0 & 1 & 0 & 0 & 0 & -1 & -1\\\\0 & 0 & 0 & 1 & -1 & 0 & 0 & -1\\end{matrix}\\right]$"
      ],
      "text/plain": [
       "Matrix([\n",
       "[1, 0, 0, 0, -1,  0,  1,      0],\n",
       "[0, 1, 0, 0, a1, -1,  0, a1 - 1],\n",
       "[0, 0, 1, 0,  0,  0, -1,     -1],\n",
       "[0, 0, 0, 1, -1,  0,  0,     -1]])"
      ]
     },
     "metadata": {},
     "output_type": "display_data"
    },
    {
     "data": {
      "text/latex": [
       "$\\displaystyle \\left[\\begin{matrix}1 & 0 & 0 & 0 & -1 & 0 & 0 & -1\\\\0 & 1 & 0 & 0 & 1 & -1 & -1 & -1\\\\0 & 0 & 1 & 0 & 1 & 0 & -1 & 0\\\\0 & 0 & 0 & 1 & -1 & 1 & 0 & 0\\end{matrix}\\right]$"
      ],
      "text/plain": [
       "Matrix([\n",
       "[1, 0, 0, 0, -1,  0,  0, -1],\n",
       "[0, 1, 0, 0,  1, -1, -1, -1],\n",
       "[0, 0, 1, 0,  1,  0, -1,  0],\n",
       "[0, 0, 0, 1, -1,  1,  0,  0]])"
      ]
     },
     "metadata": {},
     "output_type": "display_data"
    },
    {
     "data": {
      "text/latex": [
       "$\\displaystyle \\left[\\begin{matrix}1 & 0 & 0 & 0 & -1 & 0 & 1 & 0\\\\0 & 1 & 0 & 0 & 1 & -1 & 0 & 0\\\\0 & 0 & 1 & 0 & 0 & b_{2} & -1 & -1\\\\0 & 0 & 0 & 1 & -1 & b_{3} & 0 & -1\\end{matrix}\\right]$"
      ],
      "text/plain": [
       "Matrix([\n",
       "[1, 0, 0, 0, -1,  0,  1,  0],\n",
       "[0, 1, 0, 0,  1, -1,  0,  0],\n",
       "[0, 0, 1, 0,  0, b2, -1, -1],\n",
       "[0, 0, 0, 1, -1, b3,  0, -1]])"
      ]
     },
     "metadata": {},
     "output_type": "display_data"
    },
    {
     "data": {
      "text/latex": [
       "$\\displaystyle \\left[\\begin{matrix}1 & 0 & 0 & 0 & -1 & 0 & 1 & d_{0}\\\\0 & 1 & 0 & 0 & 1 & -1 & 0 & d_{1}\\\\0 & 0 & 1 & 0 & 0 & 1 & -1 & - d_{0} - d_{1} - 1\\\\0 & 0 & 0 & 1 & -1 & 1 & 0 & - d_{1} - 1\\end{matrix}\\right]$"
      ],
      "text/plain": [
       "Matrix([\n",
       "[1, 0, 0, 0, -1,  0,  1,           d0],\n",
       "[0, 1, 0, 0,  1, -1,  0,           d1],\n",
       "[0, 0, 1, 0,  0,  1, -1, -d0 - d1 - 1],\n",
       "[0, 0, 0, 1, -1,  1,  0,      -d1 - 1]])"
      ]
     },
     "metadata": {},
     "output_type": "display_data"
    }
   ],
   "source": [
    "for f in fans_link:\n",
    "    display(f)"
   ]
  },
  {
   "cell_type": "markdown",
   "id": "ff605ab7-f715-404f-810b-92bbab3fc765",
   "metadata": {
    "jp-MarkdownHeadingCollapsed": true
   },
   "source": [
    "# Type 0 of the projection"
   ]
  },
  {
   "cell_type": "code",
   "execution_count": 10,
   "id": "aa377bcd-fa7a-48f6-92c4-ac15a279853d",
   "metadata": {},
   "outputs": [
    {
     "data": {
      "text/latex": [
       "$\\displaystyle \\left[\\begin{matrix}1 & 0 & 0 & 0 & -1 & b_{0} & c_{0} & d_{0}\\\\0 & 1 & 0 & 0 & a_{1} & -1 & c_{1} & d_{1}\\\\0 & 0 & 1 & 0 & a_{2} & b_{2} & -1 & d_{2}\\\\0 & 0 & 0 & 1 & -1 & b_{3} & c_{3} & d_{3}\\end{matrix}\\right] = \\left[\\begin{matrix}1 & 0 & 0 & 0 & -1 & -1 & 0 & -1\\\\0 & 1 & 0 & 0 & 0 & -1 & -1 & -1\\\\0 & 0 & 1 & 0 & -1 & 0 & -1 & -1\\\\0 & 0 & 0 & 1 & -1 & 0 & 0 & -1\\end{matrix}\\right]$"
      ],
      "text/plain": [
       "Eq(Matrix([\n",
       "[1, 0, 0, 0, -1, b0, c0, d0],\n",
       "[0, 1, 0, 0, a1, -1, c1, d1],\n",
       "[0, 0, 1, 0, a2, b2, -1, d2],\n",
       "[0, 0, 0, 1, -1, b3, c3, d3]]), Matrix([\n",
       "[1, 0, 0, 0, -1, -1,  0, -1],\n",
       "[0, 1, 0, 0,  0, -1, -1, -1],\n",
       "[0, 0, 1, 0, -1,  0, -1, -1],\n",
       "[0, 0, 0, 1, -1,  0,  0, -1]]))"
      ]
     },
     "metadata": {},
     "output_type": "display_data"
    }
   ],
   "source": [
    "C1 = copy.deepcopy(C0)\n",
    "C = C1\n",
    "t=0\n",
    "\n",
    "proj = C.proj([projectied_vertex])\n",
    "with sp.evaluate(False):\n",
    "    display(sp.Eq(proj, fans_link[t]))"
   ]
  },
  {
   "cell_type": "code",
   "execution_count": 11,
   "id": "41ea0310-b5cf-41e4-bb0a-cfb79222eb08",
   "metadata": {},
   "outputs": [
    {
     "data": {
      "text/latex": [
       "$\\displaystyle \\text{True}$"
      ],
      "text/plain": [
       "True"
      ]
     },
     "metadata": {},
     "output_type": "display_data"
    }
   ],
   "source": [
    "C.subs(a1, 0)\n",
    "C.subs(a2, -1)\n",
    "C.subs(b0, -1)\n",
    "C.subs(b2, 0)\n",
    "C.subs(b3, 0)\n",
    "C.subs(c0, 0)\n",
    "C.subs(c1, -1)\n",
    "C.subs(c3, 0)\n",
    "C.subs(d0, -1)\n",
    "C.subs(d1, -1)\n",
    "C.subs(d2, -1)\n",
    "C.subs(d3, -1)\n",
    "\n",
    "display(sp.Eq(C.proj([projectied_vertex]), fans_link[t]))"
   ]
  },
  {
   "cell_type": "code",
   "execution_count": 12,
   "id": "4019583a-9beb-4672-8c92-223ddea7e7e6",
   "metadata": {},
   "outputs": [
    {
     "name": "stdout",
     "output_type": "stream",
     "text": [
      "facet number: 9\n"
     ]
    },
    {
     "data": {
      "text/latex": [
       "$\\displaystyle b_{4} + 1 = 1$"
      ],
      "text/plain": [
       "Eq(b4 + 1, 1)"
      ]
     },
     "metadata": {},
     "output_type": "display_data"
    }
   ],
   "source": [
    "i=9\n",
    "print('facet number:', i)\n",
    "display(sp.Eq(C.determinants[i], C.orientation[i]))\n",
    "\n",
    "C.subs(b4, 0)"
   ]
  },
  {
   "cell_type": "code",
   "execution_count": 13,
   "id": "a9b13377-b9b4-4385-afca-e6ab82cbaaef",
   "metadata": {},
   "outputs": [
    {
     "name": "stdout",
     "output_type": "stream",
     "text": [
      "facet number: 22\n"
     ]
    },
    {
     "data": {
      "text/latex": [
       "$\\displaystyle d_{4} = -1$"
      ],
      "text/plain": [
       "Eq(d4, -1)"
      ]
     },
     "metadata": {},
     "output_type": "display_data"
    }
   ],
   "source": [
    "i=22\n",
    "print('facet number:', i)\n",
    "display(sp.Eq(C.determinants[i], C.orientation[i]))\n",
    "\n",
    "C.subs(d4, -1)"
   ]
  },
  {
   "cell_type": "code",
   "execution_count": 14,
   "id": "c3b260c0-50c7-4447-a8d7-6c2dade2fa65",
   "metadata": {},
   "outputs": [
    {
     "name": "stdout",
     "output_type": "stream",
     "text": [
      "facet number: 3\n"
     ]
    },
    {
     "data": {
      "text/latex": [
       "$\\displaystyle a_{4} + 1 = 1$"
      ],
      "text/plain": [
       "Eq(a4 + 1, 1)"
      ]
     },
     "metadata": {},
     "output_type": "display_data"
    }
   ],
   "source": [
    "i=3\n",
    "print('facet number:', i)\n",
    "display(sp.Eq(C.determinants[i], C.orientation[i]))\n",
    "\n",
    "C.subs(a4, 0)"
   ]
  },
  {
   "cell_type": "code",
   "execution_count": 15,
   "id": "aa4ae1c9-ade5-4b6a-9cb1-ce5f2a62aab6",
   "metadata": {},
   "outputs": [
    {
     "data": {
      "text/latex": [
       "$\\displaystyle \\left[\\begin{matrix}1 & 0 & 0 & 0 & 0 & -1 & -1 & 0 & -1\\\\0 & 1 & 0 & 0 & 0 & 0 & -1 & -1 & -1\\\\0 & 0 & 1 & 0 & 0 & -1 & 0 & -1 & -1\\\\0 & 0 & 0 & 1 & 0 & -1 & 0 & 0 & -1\\\\0 & 0 & 0 & 0 & 1 & 0 & 0 & -1 & -1\\end{matrix}\\right]$"
      ],
      "text/plain": [
       "Matrix([\n",
       "[1, 0, 0, 0, 0, -1, -1,  0, -1],\n",
       "[0, 1, 0, 0, 0,  0, -1, -1, -1],\n",
       "[0, 0, 1, 0, 0, -1,  0, -1, -1],\n",
       "[0, 0, 0, 1, 0, -1,  0,  0, -1],\n",
       "[0, 0, 0, 0, 1,  0,  0, -1, -1]])"
      ]
     },
     "metadata": {},
     "output_type": "display_data"
    },
    {
     "name": "stdout",
     "output_type": "stream",
     "text": [
      "1\n"
     ]
    }
   ],
   "source": [
    "display(C.char)\n",
    "print(C.is_fangiving)\n",
    "fans.append(C.char)"
   ]
  },
  {
   "cell_type": "markdown",
   "id": "a7d16530-a1e4-4d26-8520-a6500c55086a",
   "metadata": {
    "jp-MarkdownHeadingCollapsed": true
   },
   "source": [
    "# Type 1 of the projection"
   ]
  },
  {
   "cell_type": "code",
   "execution_count": 16,
   "id": "fe961236-6c80-4a69-9c7c-3233152f28f2",
   "metadata": {},
   "outputs": [
    {
     "data": {
      "text/latex": [
       "$\\displaystyle \\left[\\begin{matrix}1 & 0 & 0 & 0 & -1 & b_{0} & c_{0} & d_{0}\\\\0 & 1 & 0 & 0 & a_{1} & -1 & c_{1} & d_{1}\\\\0 & 0 & 1 & 0 & a_{2} & b_{2} & -1 & d_{2}\\\\0 & 0 & 0 & 1 & -1 & b_{3} & c_{3} & d_{3}\\end{matrix}\\right] = \\left[\\begin{matrix}1 & 0 & 0 & 0 & -1 & 0 & c_{0} & -1\\\\0 & 1 & 0 & 0 & 1 & -1 & 0 & 0\\\\0 & 0 & 1 & 0 & 0 & 1 & -1 & 0\\\\0 & 0 & 0 & 1 & -1 & 1 & c_{3} & -1\\end{matrix}\\right]$"
      ],
      "text/plain": [
       "Eq(Matrix([\n",
       "[1, 0, 0, 0, -1, b0, c0, d0],\n",
       "[0, 1, 0, 0, a1, -1, c1, d1],\n",
       "[0, 0, 1, 0, a2, b2, -1, d2],\n",
       "[0, 0, 0, 1, -1, b3, c3, d3]]), Matrix([\n",
       "[1, 0, 0, 0, -1,  0, c0, -1],\n",
       "[0, 1, 0, 0,  1, -1,  0,  0],\n",
       "[0, 0, 1, 0,  0,  1, -1,  0],\n",
       "[0, 0, 0, 1, -1,  1, c3, -1]]))"
      ]
     },
     "metadata": {},
     "output_type": "display_data"
    }
   ],
   "source": [
    "C1 = copy.deepcopy(C0)\n",
    "C = C1\n",
    "t=1\n",
    "\n",
    "proj = C.proj([projectied_vertex])\n",
    "with sp.evaluate(False):\n",
    "    display(sp.Eq(proj, fans_link[t]))"
   ]
  },
  {
   "cell_type": "code",
   "execution_count": 17,
   "id": "024540d4-6b47-4233-b28a-1fcfb4f53e14",
   "metadata": {},
   "outputs": [
    {
     "data": {
      "text/latex": [
       "$\\displaystyle \\text{True}$"
      ],
      "text/plain": [
       "True"
      ]
     },
     "metadata": {},
     "output_type": "display_data"
    }
   ],
   "source": [
    "C.subs(a1, 1)\n",
    "C.subs(a2, 0)\n",
    "C.subs(b0, 0)\n",
    "C.subs(b2, 1)\n",
    "C.subs(b3, 1)\n",
    "C.subs(c1, 0)\n",
    "C.subs(d0, -1)\n",
    "C.subs(d1, 0)\n",
    "C.subs(d2, 0)\n",
    "C.subs(d3, -1)\n",
    "\n",
    "display(sp.Eq(C.proj([projectied_vertex]), fans_link[t]))"
   ]
  },
  {
   "cell_type": "code",
   "execution_count": 18,
   "id": "65382120-a8b4-43dd-a687-11b4de1ff979",
   "metadata": {},
   "outputs": [
    {
     "name": "stdout",
     "output_type": "stream",
     "text": [
      "facet number: 3\n"
     ]
    },
    {
     "data": {
      "text/latex": [
       "$\\displaystyle a_{4} - d_{4} = 1$"
      ],
      "text/plain": [
       "Eq(a4 - d4, 1)"
      ]
     },
     "metadata": {},
     "output_type": "display_data"
    }
   ],
   "source": [
    "i=3\n",
    "print('facet number:', i)\n",
    "display(sp.Eq(C.determinants[i], C.orientation[i]))\n",
    "\n",
    "C.subs(a4, d4+1)"
   ]
  },
  {
   "cell_type": "code",
   "execution_count": 19,
   "id": "6bc70476-43f2-448a-803a-4906a9ed882a",
   "metadata": {},
   "outputs": [
    {
     "name": "stdout",
     "output_type": "stream",
     "text": [
      "facet number: 22\n"
     ]
    },
    {
     "data": {
      "text/latex": [
       "$\\displaystyle - b_{4} - 1 = -1$"
      ],
      "text/plain": [
       "Eq(-b4 - 1, -1)"
      ]
     },
     "metadata": {},
     "output_type": "display_data"
    }
   ],
   "source": [
    "i=22\n",
    "print('facet number:', i)\n",
    "display(sp.Eq(C.determinants[i], C.orientation[i]))\n",
    "\n",
    "C.subs(b4, 0)"
   ]
  },
  {
   "cell_type": "code",
   "execution_count": 20,
   "id": "e0a83ec8-c4d4-4ffd-825e-f8cfd3aa4a2c",
   "metadata": {},
   "outputs": [
    {
     "name": "stdout",
     "output_type": "stream",
     "text": [
      "facet number: 4\n"
     ]
    },
    {
     "data": {
      "text/latex": [
       "$\\displaystyle c_{3} d_{4} - 1 = -1$"
      ],
      "text/plain": [
       "Eq(c3*d4 - 1, -1)"
      ]
     },
     "metadata": {},
     "output_type": "display_data"
    }
   ],
   "source": [
    "i=4\n",
    "print('facet number:', i)\n",
    "display(sp.Eq(C.determinants[i], C.orientation[i]))"
   ]
  },
  {
   "cell_type": "markdown",
   "id": "04d803b5-8879-48e6-8bee-579c5bf2c7f6",
   "metadata": {
    "jp-MarkdownHeadingCollapsed": true
   },
   "source": [
    "## $d_4=0$"
   ]
  },
  {
   "cell_type": "code",
   "execution_count": 21,
   "id": "abbb0f27-e338-44fc-a1e1-07ddb964ad4a",
   "metadata": {},
   "outputs": [],
   "source": [
    "C2 = copy.deepcopy(C1)\n",
    "C = C2\n",
    "C.subs(d4, 0)"
   ]
  },
  {
   "cell_type": "code",
   "execution_count": 22,
   "id": "1bd9e884-cb4d-46b1-8495-fa74ff3ce5c2",
   "metadata": {},
   "outputs": [
    {
     "data": {
      "text/latex": [
       "$\\displaystyle \\left[\\begin{matrix}1 & 0 & 0 & 0 & 0 & -1 & 0 & c_{0} & -1\\\\0 & 1 & 0 & 0 & 0 & 1 & -1 & 0 & 0\\\\0 & 0 & 1 & 0 & 0 & 0 & 1 & -1 & 0\\\\0 & 0 & 0 & 1 & 0 & -1 & 1 & c_{3} & -1\\\\0 & 0 & 0 & 0 & 1 & 1 & 0 & -1 & 0\\end{matrix}\\right]$"
      ],
      "text/plain": [
       "Matrix([\n",
       "[1, 0, 0, 0, 0, -1,  0, c0, -1],\n",
       "[0, 1, 0, 0, 0,  1, -1,  0,  0],\n",
       "[0, 0, 1, 0, 0,  0,  1, -1,  0],\n",
       "[0, 0, 0, 1, 0, -1,  1, c3, -1],\n",
       "[0, 0, 0, 0, 1,  1,  0, -1,  0]])"
      ]
     },
     "metadata": {},
     "output_type": "display_data"
    },
    {
     "name": "stdout",
     "output_type": "stream",
     "text": [
      "1\n"
     ]
    }
   ],
   "source": [
    "display(C.char)\n",
    "print(C.is_fangiving)\n",
    "fans.append(C.char)"
   ]
  },
  {
   "cell_type": "markdown",
   "id": "31d71095-a4b6-4134-8f3d-b5d56a3fdd8b",
   "metadata": {
    "jp-MarkdownHeadingCollapsed": true
   },
   "source": [
    "## $c_3=0$ ($d_4 \\not= 0$)"
   ]
  },
  {
   "cell_type": "code",
   "execution_count": 23,
   "id": "6d125a83-84b4-453e-8cef-f575c4f76e93",
   "metadata": {},
   "outputs": [],
   "source": [
    "C2 = copy.deepcopy(C1)\n",
    "C = C2\n",
    "C.subs(c3, 0)"
   ]
  },
  {
   "cell_type": "code",
   "execution_count": 24,
   "id": "0fb9aa4e-06fd-4a2a-b0eb-7d8d56896aef",
   "metadata": {},
   "outputs": [
    {
     "name": "stdout",
     "output_type": "stream",
     "text": [
      "facet number: 18\n"
     ]
    },
    {
     "data": {
      "text/latex": [
       "$\\displaystyle - c_{0} d_{4} + 1 = 1$"
      ],
      "text/plain": [
       "Eq(-c0*d4 + 1, 1)"
      ]
     },
     "metadata": {},
     "output_type": "display_data"
    }
   ],
   "source": [
    "i=18\n",
    "print('facet number:', i)\n",
    "display(sp.Eq(C.determinants[i], C.orientation[i]))\n",
    "\n",
    "C.subs(c0, 0)"
   ]
  },
  {
   "cell_type": "code",
   "execution_count": 25,
   "id": "78677b14-8705-4656-88f3-4501704faed0",
   "metadata": {},
   "outputs": [
    {
     "data": {
      "text/latex": [
       "$\\displaystyle \\left[\\begin{matrix}1 & 0 & 0 & 0 & 0 & -1 & 0 & 0 & -1\\\\0 & 1 & 0 & 0 & 0 & 1 & -1 & 0 & 0\\\\0 & 0 & 1 & 0 & 0 & 0 & 1 & -1 & 0\\\\0 & 0 & 0 & 1 & 0 & -1 & 1 & 0 & -1\\\\0 & 0 & 0 & 0 & 1 & d_{4} + 1 & 0 & -1 & d_{4}\\end{matrix}\\right]$"
      ],
      "text/plain": [
       "Matrix([\n",
       "[1, 0, 0, 0, 0,     -1,  0,  0, -1],\n",
       "[0, 1, 0, 0, 0,      1, -1,  0,  0],\n",
       "[0, 0, 1, 0, 0,      0,  1, -1,  0],\n",
       "[0, 0, 0, 1, 0,     -1,  1,  0, -1],\n",
       "[0, 0, 0, 0, 1, d4 + 1,  0, -1, d4]])"
      ]
     },
     "metadata": {},
     "output_type": "display_data"
    },
    {
     "name": "stdout",
     "output_type": "stream",
     "text": [
      "1\n"
     ]
    }
   ],
   "source": [
    "display(C.char)\n",
    "print(C.is_fangiving)\n",
    "fans.append(C.char)"
   ]
  },
  {
   "cell_type": "markdown",
   "id": "869f5253-4188-4f1e-aa2c-e119083ed1f1",
   "metadata": {
    "jp-MarkdownHeadingCollapsed": true
   },
   "source": [
    "# Type 2 of the projection"
   ]
  },
  {
   "cell_type": "code",
   "execution_count": 26,
   "id": "81b9bb5b-3021-432f-9a90-8cf18d41424e",
   "metadata": {},
   "outputs": [
    {
     "data": {
      "text/latex": [
       "$\\displaystyle \\left[\\begin{matrix}1 & 0 & 0 & 0 & -1 & b_{0} & c_{0} & d_{0}\\\\0 & 1 & 0 & 0 & a_{1} & -1 & c_{1} & d_{1}\\\\0 & 0 & 1 & 0 & a_{2} & b_{2} & -1 & d_{2}\\\\0 & 0 & 0 & 1 & -1 & b_{3} & c_{3} & d_{3}\\end{matrix}\\right] = \\left[\\begin{matrix}1 & 0 & 0 & 0 & -1 & 0 & 1 & 0\\\\0 & 1 & 0 & 0 & a_{1} & -1 & 0 & -1\\\\0 & 0 & 1 & 0 & 0 & 1 & -1 & 0\\\\0 & 0 & 0 & 1 & -1 & 1 & 0 & 0\\end{matrix}\\right]$"
      ],
      "text/plain": [
       "Eq(Matrix([\n",
       "[1, 0, 0, 0, -1, b0, c0, d0],\n",
       "[0, 1, 0, 0, a1, -1, c1, d1],\n",
       "[0, 0, 1, 0, a2, b2, -1, d2],\n",
       "[0, 0, 0, 1, -1, b3, c3, d3]]), Matrix([\n",
       "[1, 0, 0, 0, -1,  0,  1,  0],\n",
       "[0, 1, 0, 0, a1, -1,  0, -1],\n",
       "[0, 0, 1, 0,  0,  1, -1,  0],\n",
       "[0, 0, 0, 1, -1,  1,  0,  0]]))"
      ]
     },
     "metadata": {},
     "output_type": "display_data"
    }
   ],
   "source": [
    "C1 = copy.deepcopy(C0)\n",
    "C = C1\n",
    "t=2\n",
    "\n",
    "proj = C.proj([projectied_vertex])\n",
    "with sp.evaluate(False):\n",
    "    display(sp.Eq(proj, fans_link[t]))"
   ]
  },
  {
   "cell_type": "code",
   "execution_count": 27,
   "id": "ea487863-d266-488d-a39f-c7997450891c",
   "metadata": {},
   "outputs": [
    {
     "name": "stdout",
     "output_type": "stream",
     "text": [
      "facet number: 4\n"
     ]
    },
    {
     "data": {
      "text/latex": [
       "$\\displaystyle c_{3} d_{4} + d_{3} = -1$"
      ],
      "text/plain": [
       "Eq(c3*d4 + d3, -1)"
      ]
     },
     "metadata": {},
     "output_type": "display_data"
    },
    {
     "name": "stdout",
     "output_type": "stream",
     "text": [
      "no solution\n"
     ]
    }
   ],
   "source": [
    "i=4\n",
    "print('facet number:', i)\n",
    "display(sp.Eq(C.determinants[i], C.orientation[i]))\n",
    "\n",
    "print('no solution')"
   ]
  },
  {
   "cell_type": "markdown",
   "id": "f157ad45-0ad0-4178-895f-62f20e0e597a",
   "metadata": {
    "jp-MarkdownHeadingCollapsed": true
   },
   "source": [
    "# Type 3 of the projection"
   ]
  },
  {
   "cell_type": "code",
   "execution_count": 28,
   "id": "47954903-6c06-4003-9d5d-f7696a041b2c",
   "metadata": {},
   "outputs": [
    {
     "data": {
      "text/latex": [
       "$\\displaystyle \\left[\\begin{matrix}1 & 0 & 0 & 0 & -1 & b_{0} & c_{0} & d_{0}\\\\0 & 1 & 0 & 0 & a_{1} & -1 & c_{1} & d_{1}\\\\0 & 0 & 1 & 0 & a_{2} & b_{2} & -1 & d_{2}\\\\0 & 0 & 0 & 1 & -1 & b_{3} & c_{3} & d_{3}\\end{matrix}\\right] = \\left[\\begin{matrix}1 & 0 & 0 & 0 & -1 & 0 & 0 & -1\\\\0 & 1 & 0 & 0 & 1 & -1 & 0 & 0\\\\0 & 0 & 1 & 0 & a_{2} & b_{2} & -1 & a_{2} + b_{2} - 1\\\\0 & 0 & 0 & 1 & -1 & 1 & 0 & -1\\end{matrix}\\right]$"
      ],
      "text/plain": [
       "Eq(Matrix([\n",
       "[1, 0, 0, 0, -1, b0, c0, d0],\n",
       "[0, 1, 0, 0, a1, -1, c1, d1],\n",
       "[0, 0, 1, 0, a2, b2, -1, d2],\n",
       "[0, 0, 0, 1, -1, b3, c3, d3]]), Matrix([\n",
       "[1, 0, 0, 0, -1,  0,  0,          -1],\n",
       "[0, 1, 0, 0,  1, -1,  0,           0],\n",
       "[0, 0, 1, 0, a2, b2, -1, a2 + b2 - 1],\n",
       "[0, 0, 0, 1, -1,  1,  0,          -1]]))"
      ]
     },
     "metadata": {},
     "output_type": "display_data"
    }
   ],
   "source": [
    "C1 = copy.deepcopy(C0)\n",
    "C = C1\n",
    "t=3\n",
    "\n",
    "proj = C.proj([projectied_vertex])\n",
    "with sp.evaluate(False):\n",
    "    display(sp.Eq(proj, fans_link[t]))"
   ]
  },
  {
   "cell_type": "code",
   "execution_count": 29,
   "id": "c6460e56-c3fd-4006-89d5-55ddc6901acb",
   "metadata": {},
   "outputs": [
    {
     "data": {
      "text/latex": [
       "$\\displaystyle \\text{True}$"
      ],
      "text/plain": [
       "True"
      ]
     },
     "metadata": {},
     "output_type": "display_data"
    }
   ],
   "source": [
    "C.subs(a1, 1)\n",
    "C.subs(b0, 0)\n",
    "C.subs(b3, 1)\n",
    "C.subs(c0, 0)\n",
    "C.subs(c1, 0)\n",
    "C.subs(c3, 0)\n",
    "C.subs(d0, -1)\n",
    "C.subs(d1, 0)\n",
    "C.subs(d2, a2+b2-1)\n",
    "C.subs(d3, -1)\n",
    "\n",
    "display(sp.Eq(C.proj([projectied_vertex]), fans_link[t]))"
   ]
  },
  {
   "cell_type": "code",
   "execution_count": 30,
   "id": "cd49a829-8096-4365-aa05-80e66870d8c6",
   "metadata": {},
   "outputs": [
    {
     "name": "stdout",
     "output_type": "stream",
     "text": [
      "facet number: 3\n"
     ]
    },
    {
     "data": {
      "text/latex": [
       "$\\displaystyle a_{4} - d_{4} = 1$"
      ],
      "text/plain": [
       "Eq(a4 - d4, 1)"
      ]
     },
     "metadata": {},
     "output_type": "display_data"
    }
   ],
   "source": [
    "i=3\n",
    "print('facet number:', i)\n",
    "display(sp.Eq(C.determinants[i], C.orientation[i]))\n",
    "\n",
    "C.subs(a4, d4+1)"
   ]
  },
  {
   "cell_type": "code",
   "execution_count": 31,
   "id": "1a5602a4-2807-4bce-8508-2a6ab2c47ad5",
   "metadata": {},
   "outputs": [
    {
     "name": "stdout",
     "output_type": "stream",
     "text": [
      "facet number: 7\n"
     ]
    },
    {
     "data": {
      "text/latex": [
       "$\\displaystyle b_{2} = 1$"
      ],
      "text/plain": [
       "Eq(b2, 1)"
      ]
     },
     "metadata": {},
     "output_type": "display_data"
    }
   ],
   "source": [
    "i=7\n",
    "print('facet number:', i)\n",
    "display(sp.Eq(C.determinants[i], C.orientation[i]))\n",
    "\n",
    "C.subs(b2, 1)"
   ]
  },
  {
   "cell_type": "code",
   "execution_count": 32,
   "id": "2ff902f0-f963-44ca-949e-8682dfea03cc",
   "metadata": {},
   "outputs": [
    {
     "name": "stdout",
     "output_type": "stream",
     "text": [
      "facet number: 22\n"
     ]
    },
    {
     "data": {
      "text/latex": [
       "$\\displaystyle - b_{4} - 1 = -1$"
      ],
      "text/plain": [
       "Eq(-b4 - 1, -1)"
      ]
     },
     "metadata": {},
     "output_type": "display_data"
    }
   ],
   "source": [
    "i=22\n",
    "print('facet number:', i)\n",
    "display(sp.Eq(C.determinants[i], C.orientation[i]))\n",
    "\n",
    "C.subs(b4, 0)"
   ]
  },
  {
   "cell_type": "code",
   "execution_count": 33,
   "id": "c99d4038-86b6-4598-8546-98e4703fecda",
   "metadata": {},
   "outputs": [
    {
     "data": {
      "text/latex": [
       "$\\displaystyle \\left[\\begin{matrix}1 & 0 & 0 & 0 & 0 & -1 & 0 & 0 & -1\\\\0 & 1 & 0 & 0 & 0 & 1 & -1 & 0 & 0\\\\0 & 0 & 1 & 0 & 0 & a_{2} & 1 & -1 & a_{2}\\\\0 & 0 & 0 & 1 & 0 & -1 & 1 & 0 & -1\\\\0 & 0 & 0 & 0 & 1 & d_{4} + 1 & 0 & -1 & d_{4}\\end{matrix}\\right]$"
      ],
      "text/plain": [
       "Matrix([\n",
       "[1, 0, 0, 0, 0,     -1,  0,  0, -1],\n",
       "[0, 1, 0, 0, 0,      1, -1,  0,  0],\n",
       "[0, 0, 1, 0, 0,     a2,  1, -1, a2],\n",
       "[0, 0, 0, 1, 0,     -1,  1,  0, -1],\n",
       "[0, 0, 0, 0, 1, d4 + 1,  0, -1, d4]])"
      ]
     },
     "metadata": {},
     "output_type": "display_data"
    },
    {
     "name": "stdout",
     "output_type": "stream",
     "text": [
      "1\n"
     ]
    }
   ],
   "source": [
    "display(C.char)\n",
    "print(C.is_fangiving)\n",
    "fans.append(C.char)"
   ]
  },
  {
   "cell_type": "markdown",
   "id": "8ab52fdb-bc4c-4dda-b92f-0a47dd32949d",
   "metadata": {
    "jp-MarkdownHeadingCollapsed": true
   },
   "source": [
    "# Type 4 of the projection"
   ]
  },
  {
   "cell_type": "code",
   "execution_count": 34,
   "id": "e5fe9134-df6a-4757-9aca-11bec84d13eb",
   "metadata": {},
   "outputs": [
    {
     "data": {
      "text/latex": [
       "$\\displaystyle \\left[\\begin{matrix}1 & 0 & 0 & 0 & -1 & b_{0} & c_{0} & d_{0}\\\\0 & 1 & 0 & 0 & a_{1} & -1 & c_{1} & d_{1}\\\\0 & 0 & 1 & 0 & a_{2} & b_{2} & -1 & d_{2}\\\\0 & 0 & 0 & 1 & -1 & b_{3} & c_{3} & d_{3}\\end{matrix}\\right] = \\left[\\begin{matrix}1 & 0 & 0 & 0 & -1 & b_{0} & 1 & b_{0}\\\\0 & 1 & 0 & 0 & 0 & -1 & 0 & -1\\\\0 & 0 & 1 & 0 & 0 & b_{2} & -1 & b_{2} - 1\\\\0 & 0 & 0 & 1 & -1 & b_{3} & 0 & b_{3} - 1\\end{matrix}\\right]$"
      ],
      "text/plain": [
       "Eq(Matrix([\n",
       "[1, 0, 0, 0, -1, b0, c0, d0],\n",
       "[0, 1, 0, 0, a1, -1, c1, d1],\n",
       "[0, 0, 1, 0, a2, b2, -1, d2],\n",
       "[0, 0, 0, 1, -1, b3, c3, d3]]), Matrix([\n",
       "[1, 0, 0, 0, -1, b0,  1,     b0],\n",
       "[0, 1, 0, 0,  0, -1,  0,     -1],\n",
       "[0, 0, 1, 0,  0, b2, -1, b2 - 1],\n",
       "[0, 0, 0, 1, -1, b3,  0, b3 - 1]]))"
      ]
     },
     "metadata": {},
     "output_type": "display_data"
    }
   ],
   "source": [
    "C1 = copy.deepcopy(C0)\n",
    "C = C1\n",
    "t=4\n",
    "\n",
    "proj = C.proj([projectied_vertex])\n",
    "with sp.evaluate(False):\n",
    "    display(sp.Eq(proj, fans_link[t]))"
   ]
  },
  {
   "cell_type": "code",
   "execution_count": 35,
   "id": "642350ef-1e23-4b50-ba0f-8289ee6357fa",
   "metadata": {},
   "outputs": [
    {
     "data": {
      "text/latex": [
       "$\\displaystyle \\text{True}$"
      ],
      "text/plain": [
       "True"
      ]
     },
     "metadata": {},
     "output_type": "display_data"
    }
   ],
   "source": [
    "C.subs(a1, 0)\n",
    "C.subs(a2, 0)\n",
    "C.subs(c0, 1)\n",
    "C.subs(c1, 0)\n",
    "C.subs(c3, 0)\n",
    "C.subs(d0, b0)\n",
    "C.subs(d1, -1)\n",
    "C.subs(d2, b2-1)\n",
    "C.subs(d3, b3-1)\n",
    "\n",
    "display(sp.Eq(C.proj([projectied_vertex]), fans_link[t]))"
   ]
  },
  {
   "cell_type": "code",
   "execution_count": 36,
   "id": "50692365-6f6c-4a2f-a785-488122b3b354",
   "metadata": {},
   "outputs": [
    {
     "name": "stdout",
     "output_type": "stream",
     "text": [
      "facet number: 4\n"
     ]
    },
    {
     "data": {
      "text/latex": [
       "$\\displaystyle b_{3} - 1 = -1$"
      ],
      "text/plain": [
       "Eq(b3 - 1, -1)"
      ]
     },
     "metadata": {},
     "output_type": "display_data"
    }
   ],
   "source": [
    "i=4\n",
    "print('facet number:', i)\n",
    "display(sp.Eq(C.determinants[i], C.orientation[i]))\n",
    "\n",
    "C.subs(b3, 0)"
   ]
  },
  {
   "cell_type": "code",
   "execution_count": 37,
   "id": "08fc7b0a-f3c8-49ce-9bc0-4788a0f6f735",
   "metadata": {},
   "outputs": [
    {
     "name": "stdout",
     "output_type": "stream",
     "text": [
      "facet number: 3\n"
     ]
    },
    {
     "data": {
      "text/latex": [
       "$\\displaystyle a_{4} - d_{4} = 1$"
      ],
      "text/plain": [
       "Eq(a4 - d4, 1)"
      ]
     },
     "metadata": {},
     "output_type": "display_data"
    }
   ],
   "source": [
    "i=3\n",
    "print('facet number:', i)\n",
    "display(sp.Eq(C.determinants[i], C.orientation[i]))\n",
    "\n",
    "C.subs(a4, d4+1)"
   ]
  },
  {
   "cell_type": "code",
   "execution_count": 38,
   "id": "ceb45f7d-2ad5-45d4-a91c-f501af4210a1",
   "metadata": {},
   "outputs": [
    {
     "name": "stdout",
     "output_type": "stream",
     "text": [
      "facet number: 7\n"
     ]
    },
    {
     "data": {
      "text/latex": [
       "$\\displaystyle b_{2} = 1$"
      ],
      "text/plain": [
       "Eq(b2, 1)"
      ]
     },
     "metadata": {},
     "output_type": "display_data"
    }
   ],
   "source": [
    "i=7\n",
    "print('facet number:', i)\n",
    "display(sp.Eq(C.determinants[i], C.orientation[i]))\n",
    "\n",
    "C.subs(b2, 1)"
   ]
  },
  {
   "cell_type": "code",
   "execution_count": 39,
   "id": "1f7ed423-070d-47ca-a9bd-0738f6a87b87",
   "metadata": {},
   "outputs": [
    {
     "name": "stdout",
     "output_type": "stream",
     "text": [
      "facet number: 18\n"
     ]
    },
    {
     "data": {
      "text/latex": [
       "$\\displaystyle - b_{0} - d_{4} = 1$"
      ],
      "text/plain": [
       "Eq(-b0 - d4, 1)"
      ]
     },
     "metadata": {},
     "output_type": "display_data"
    }
   ],
   "source": [
    "i=18\n",
    "print('facet number:', i)\n",
    "display(sp.Eq(C.determinants[i], C.orientation[i]))\n",
    "\n",
    "C.subs(d4, -b0-1)"
   ]
  },
  {
   "cell_type": "code",
   "execution_count": 40,
   "id": "62e29954-0094-4bf2-a937-4fb12f2f3b2e",
   "metadata": {},
   "outputs": [
    {
     "name": "stdout",
     "output_type": "stream",
     "text": [
      "facet number: 22\n"
     ]
    },
    {
     "data": {
      "text/latex": [
       "$\\displaystyle - b_{0} - b_{4} - 1 = -1$"
      ],
      "text/plain": [
       "Eq(-b0 - b4 - 1, -1)"
      ]
     },
     "metadata": {},
     "output_type": "display_data"
    }
   ],
   "source": [
    "i=22\n",
    "print('facet number:', i)\n",
    "display(sp.Eq(C.determinants[i], C.orientation[i]))\n",
    "\n",
    "C.subs(b4, -b0)"
   ]
  },
  {
   "cell_type": "code",
   "execution_count": 41,
   "id": "68fe068b-cdd7-455a-8b75-be79dfc63395",
   "metadata": {},
   "outputs": [
    {
     "name": "stdout",
     "output_type": "stream",
     "text": [
      "facet number: 20\n"
     ]
    },
    {
     "data": {
      "text/latex": [
       "$\\displaystyle b_{0}^{2} + b_{0} + 1 = 1$"
      ],
      "text/plain": [
       "Eq(b0**2 + b0 + 1, 1)"
      ]
     },
     "metadata": {},
     "output_type": "display_data"
    }
   ],
   "source": [
    "i=20\n",
    "print('facet number:', i)\n",
    "display(sp.Eq(C.determinants[i], C.orientation[i]))"
   ]
  },
  {
   "cell_type": "markdown",
   "id": "03ba4eb7-5dcb-44ad-b673-3f261afead8e",
   "metadata": {
    "jp-MarkdownHeadingCollapsed": true
   },
   "source": [
    "## $b_0=0$"
   ]
  },
  {
   "cell_type": "code",
   "execution_count": 42,
   "id": "acf13902-bd33-4969-b67c-810ed603f68c",
   "metadata": {},
   "outputs": [],
   "source": [
    "C2 = copy.deepcopy(C1)\n",
    "C = C2\n",
    "C.subs(b0, 0)"
   ]
  },
  {
   "cell_type": "code",
   "execution_count": 43,
   "id": "e71c9682-635d-4b40-b853-1a2989ad1f64",
   "metadata": {},
   "outputs": [
    {
     "data": {
      "text/latex": [
       "$\\displaystyle \\left[\\begin{matrix}1 & 0 & 0 & 0 & 0 & -1 & 0 & 1 & 0\\\\0 & 1 & 0 & 0 & 0 & 0 & -1 & 0 & -1\\\\0 & 0 & 1 & 0 & 0 & 0 & 1 & -1 & 0\\\\0 & 0 & 0 & 1 & 0 & -1 & 0 & 0 & -1\\\\0 & 0 & 0 & 0 & 1 & 0 & 0 & -1 & -1\\end{matrix}\\right]$"
      ],
      "text/plain": [
       "Matrix([\n",
       "[1, 0, 0, 0, 0, -1,  0,  1,  0],\n",
       "[0, 1, 0, 0, 0,  0, -1,  0, -1],\n",
       "[0, 0, 1, 0, 0,  0,  1, -1,  0],\n",
       "[0, 0, 0, 1, 0, -1,  0,  0, -1],\n",
       "[0, 0, 0, 0, 1,  0,  0, -1, -1]])"
      ]
     },
     "metadata": {},
     "output_type": "display_data"
    },
    {
     "name": "stdout",
     "output_type": "stream",
     "text": [
      "1\n"
     ]
    }
   ],
   "source": [
    "display(C.char)\n",
    "print(C.is_fangiving)\n",
    "fans.append(C.char)"
   ]
  },
  {
   "cell_type": "markdown",
   "id": "5852cbf8-87d1-4066-a439-493e472ae81a",
   "metadata": {
    "jp-MarkdownHeadingCollapsed": true
   },
   "source": [
    "## $b_0=-1$"
   ]
  },
  {
   "cell_type": "code",
   "execution_count": 44,
   "id": "853247b8-1c1a-445c-b0ef-5b508aae801f",
   "metadata": {},
   "outputs": [],
   "source": [
    "C2 = copy.deepcopy(C1)\n",
    "C = C2\n",
    "C.subs(b0, -1)"
   ]
  },
  {
   "cell_type": "code",
   "execution_count": 45,
   "id": "52ebfa78-de7f-4af4-aa41-f2bea0916812",
   "metadata": {},
   "outputs": [
    {
     "data": {
      "text/latex": [
       "$\\displaystyle \\left[\\begin{matrix}1 & 0 & 0 & 0 & 0 & -1 & -1 & 1 & -1\\\\0 & 1 & 0 & 0 & 0 & 0 & -1 & 0 & -1\\\\0 & 0 & 1 & 0 & 0 & 0 & 1 & -1 & 0\\\\0 & 0 & 0 & 1 & 0 & -1 & 0 & 0 & -1\\\\0 & 0 & 0 & 0 & 1 & 1 & 1 & -1 & 0\\end{matrix}\\right]$"
      ],
      "text/plain": [
       "Matrix([\n",
       "[1, 0, 0, 0, 0, -1, -1,  1, -1],\n",
       "[0, 1, 0, 0, 0,  0, -1,  0, -1],\n",
       "[0, 0, 1, 0, 0,  0,  1, -1,  0],\n",
       "[0, 0, 0, 1, 0, -1,  0,  0, -1],\n",
       "[0, 0, 0, 0, 1,  1,  1, -1,  0]])"
      ]
     },
     "metadata": {},
     "output_type": "display_data"
    },
    {
     "name": "stdout",
     "output_type": "stream",
     "text": [
      "1\n"
     ]
    }
   ],
   "source": [
    "display(C.char)\n",
    "print(C.is_fangiving)\n",
    "fans.append(C.char)"
   ]
  },
  {
   "cell_type": "markdown",
   "id": "57001740-048a-4cbb-bd6b-6092144394f6",
   "metadata": {
    "jp-MarkdownHeadingCollapsed": true
   },
   "source": [
    "# Type 5 of the projection"
   ]
  },
  {
   "cell_type": "code",
   "execution_count": 46,
   "id": "1402029f-d56d-4b42-b109-f58e1fa50ec3",
   "metadata": {},
   "outputs": [
    {
     "data": {
      "text/latex": [
       "$\\displaystyle \\left[\\begin{matrix}1 & 0 & 0 & 0 & -1 & b_{0} & c_{0} & d_{0}\\\\0 & 1 & 0 & 0 & a_{1} & -1 & c_{1} & d_{1}\\\\0 & 0 & 1 & 0 & a_{2} & b_{2} & -1 & d_{2}\\\\0 & 0 & 0 & 1 & -1 & b_{3} & c_{3} & d_{3}\\end{matrix}\\right] = \\left[\\begin{matrix}1 & 0 & 0 & 0 & -1 & 0 & c_{0} & c_{0} - 1\\\\0 & 1 & 0 & 0 & 1 & -1 & - d_{3} - 1 & - d_{3} - 1\\\\0 & 0 & 1 & 0 & 0 & 0 & -1 & -1\\\\0 & 0 & 0 & 1 & -1 & 1 & d_{3} + 1 & d_{3}\\end{matrix}\\right]$"
      ],
      "text/plain": [
       "Eq(Matrix([\n",
       "[1, 0, 0, 0, -1, b0, c0, d0],\n",
       "[0, 1, 0, 0, a1, -1, c1, d1],\n",
       "[0, 0, 1, 0, a2, b2, -1, d2],\n",
       "[0, 0, 0, 1, -1, b3, c3, d3]]), Matrix([\n",
       "[1, 0, 0, 0, -1,  0,      c0,  c0 - 1],\n",
       "[0, 1, 0, 0,  1, -1, -d3 - 1, -d3 - 1],\n",
       "[0, 0, 1, 0,  0,  0,      -1,      -1],\n",
       "[0, 0, 0, 1, -1,  1,  d3 + 1,      d3]]))"
      ]
     },
     "metadata": {},
     "output_type": "display_data"
    }
   ],
   "source": [
    "C1 = copy.deepcopy(C0)\n",
    "C = C1\n",
    "t=5\n",
    "\n",
    "proj = C.proj([projectied_vertex])\n",
    "with sp.evaluate(False):\n",
    "    display(sp.Eq(proj, fans_link[t]))"
   ]
  },
  {
   "cell_type": "code",
   "execution_count": 47,
   "id": "6905e4f3-f7a9-43a9-bf7b-25e7c3e65765",
   "metadata": {},
   "outputs": [
    {
     "data": {
      "text/latex": [
       "$\\displaystyle \\text{True}$"
      ],
      "text/plain": [
       "True"
      ]
     },
     "metadata": {},
     "output_type": "display_data"
    }
   ],
   "source": [
    "C.subs(a1, 1)\n",
    "C.subs(a2, 0)\n",
    "C.subs(b0, 0)\n",
    "C.subs(b2, 0)\n",
    "C.subs(b3, 1)\n",
    "C.subs(c1, -d3-1)\n",
    "C.subs(c3, d3+1)\n",
    "C.subs(d0, c0-1)\n",
    "C.subs(d1, -d3-1)\n",
    "C.subs(d2, -1)\n",
    "\n",
    "display(sp.Eq(C.proj([projectied_vertex]), fans_link[t]))"
   ]
  },
  {
   "cell_type": "code",
   "execution_count": 48,
   "id": "6086cb94-02c4-4191-8680-c8a85764d5ac",
   "metadata": {},
   "outputs": [
    {
     "name": "stdout",
     "output_type": "stream",
     "text": [
      "facet number: 7\n"
     ]
    },
    {
     "data": {
      "text/latex": [
       "$\\displaystyle a_{4} - d_{4} - 1 = 1$"
      ],
      "text/plain": [
       "Eq(a4 - d4 - 1, 1)"
      ]
     },
     "metadata": {},
     "output_type": "display_data"
    }
   ],
   "source": [
    "i=7\n",
    "print('facet number:', i)\n",
    "display(sp.Eq(C.determinants[i], C.orientation[i]))\n",
    "\n",
    "C.subs(a4, d4+2)"
   ]
  },
  {
   "cell_type": "code",
   "execution_count": 49,
   "id": "3cfc9a5c-d5c3-40e4-8c2b-8ad984933622",
   "metadata": {},
   "outputs": [
    {
     "name": "stdout",
     "output_type": "stream",
     "text": [
      "facet number: 17\n"
     ]
    },
    {
     "data": {
      "text/latex": [
       "$\\displaystyle c_{0} d_{4} + 2 c_{0} - 2 = -1$"
      ],
      "text/plain": [
       "Eq(c0*d4 + 2*c0 - 2, -1)"
      ]
     },
     "metadata": {},
     "output_type": "display_data"
    },
    {
     "name": "stdout",
     "output_type": "stream",
     "text": [
      "facet number: 18\n"
     ]
    },
    {
     "data": {
      "text/latex": [
       "$\\displaystyle - c_{0} d_{4} - c_{0} + 1 = 1$"
      ],
      "text/plain": [
       "Eq(-c0*d4 - c0 + 1, 1)"
      ]
     },
     "metadata": {},
     "output_type": "display_data"
    },
    {
     "data": {
      "text/latex": [
       "$\\displaystyle c_{0} - 1 = 0$"
      ],
      "text/plain": [
       "Eq(c0 - 1, 0)"
      ]
     },
     "metadata": {},
     "output_type": "display_data"
    }
   ],
   "source": [
    "i=17\n",
    "print('facet number:', i)\n",
    "display(sp.Eq(C.determinants[i], C.orientation[i]))\n",
    "\n",
    "i=18\n",
    "print('facet number:', i)\n",
    "display(sp.Eq(C.determinants[i], C.orientation[i]))\n",
    "\n",
    "display(sp.Eq(C.determinants[17] + C.determinants[18], C.orientation[17] + C.orientation[18]))\n",
    "\n",
    "C.subs(c0, 1)"
   ]
  },
  {
   "cell_type": "code",
   "execution_count": 50,
   "id": "d25e3c76-641d-4d66-be88-da4f67371590",
   "metadata": {},
   "outputs": [
    {
     "name": "stdout",
     "output_type": "stream",
     "text": [
      "facet number: 17\n"
     ]
    },
    {
     "data": {
      "text/latex": [
       "$\\displaystyle d_{4} = -1$"
      ],
      "text/plain": [
       "Eq(d4, -1)"
      ]
     },
     "metadata": {},
     "output_type": "display_data"
    }
   ],
   "source": [
    "i=17\n",
    "print('facet number:', i)\n",
    "display(sp.Eq(C.determinants[i], C.orientation[i]))\n",
    "\n",
    "C.subs(d4, -1)"
   ]
  },
  {
   "cell_type": "code",
   "execution_count": 51,
   "id": "6eb46bc9-9755-45e3-ac4d-78c32ccd5a00",
   "metadata": {},
   "outputs": [
    {
     "name": "stdout",
     "output_type": "stream",
     "text": [
      "facet number: 3\n"
     ]
    },
    {
     "data": {
      "text/latex": [
       "$\\displaystyle 1 - d_{3} = 1$"
      ],
      "text/plain": [
       "Eq(1 - d3, 1)"
      ]
     },
     "metadata": {},
     "output_type": "display_data"
    }
   ],
   "source": [
    "i=3\n",
    "print('facet number:', i)\n",
    "display(sp.Eq(C.determinants[i], C.orientation[i]))\n",
    "\n",
    "C.subs(d3, 0)"
   ]
  },
  {
   "cell_type": "code",
   "execution_count": 52,
   "id": "c0875215-677b-4f1c-a7d9-9078fa9a613c",
   "metadata": {},
   "outputs": [
    {
     "name": "stdout",
     "output_type": "stream",
     "text": [
      "facet number: 9\n"
     ]
    },
    {
     "data": {
      "text/latex": [
       "$\\displaystyle b_{4} + 1 = 1$"
      ],
      "text/plain": [
       "Eq(b4 + 1, 1)"
      ]
     },
     "metadata": {},
     "output_type": "display_data"
    }
   ],
   "source": [
    "i=9\n",
    "print('facet number:', i)\n",
    "display(sp.Eq(C.determinants[i], C.orientation[i]))\n",
    "\n",
    "C.subs(b4, 0)"
   ]
  },
  {
   "cell_type": "code",
   "execution_count": 53,
   "id": "d1f587dc-8dd5-4f19-8386-af776413a278",
   "metadata": {},
   "outputs": [
    {
     "data": {
      "text/latex": [
       "$\\displaystyle \\left[\\begin{matrix}1 & 0 & 0 & 0 & 0 & -1 & 0 & 1 & 0\\\\0 & 1 & 0 & 0 & 0 & 1 & -1 & -1 & -1\\\\0 & 0 & 1 & 0 & 0 & 0 & 0 & -1 & -1\\\\0 & 0 & 0 & 1 & 0 & -1 & 1 & 1 & 0\\\\0 & 0 & 0 & 0 & 1 & 1 & 0 & -1 & -1\\end{matrix}\\right]$"
      ],
      "text/plain": [
       "Matrix([\n",
       "[1, 0, 0, 0, 0, -1,  0,  1,  0],\n",
       "[0, 1, 0, 0, 0,  1, -1, -1, -1],\n",
       "[0, 0, 1, 0, 0,  0,  0, -1, -1],\n",
       "[0, 0, 0, 1, 0, -1,  1,  1,  0],\n",
       "[0, 0, 0, 0, 1,  1,  0, -1, -1]])"
      ]
     },
     "metadata": {},
     "output_type": "display_data"
    },
    {
     "name": "stdout",
     "output_type": "stream",
     "text": [
      "1\n"
     ]
    }
   ],
   "source": [
    "display(C.char)\n",
    "print(C.is_fangiving)\n",
    "fans.append(C.char)"
   ]
  },
  {
   "cell_type": "markdown",
   "id": "3d775529-1950-48f5-a17e-9375d5ad7273",
   "metadata": {
    "jp-MarkdownHeadingCollapsed": true
   },
   "source": [
    "# Type 6 of the projection"
   ]
  },
  {
   "cell_type": "code",
   "execution_count": 54,
   "id": "ac99d4de-fccc-429f-a055-d21ae0c5949d",
   "metadata": {},
   "outputs": [
    {
     "data": {
      "text/latex": [
       "$\\displaystyle \\left[\\begin{matrix}1 & 0 & 0 & 0 & -1 & b_{0} & c_{0} & d_{0}\\\\0 & 1 & 0 & 0 & a_{1} & -1 & c_{1} & d_{1}\\\\0 & 0 & 1 & 0 & a_{2} & b_{2} & -1 & d_{2}\\\\0 & 0 & 0 & 1 & -1 & b_{3} & c_{3} & d_{3}\\end{matrix}\\right] = \\left[\\begin{matrix}1 & 0 & 0 & 0 & -1 & 0 & 1 & 0\\\\0 & 1 & 0 & 0 & a_{1} & -1 & 0 & a_{1} - 1\\\\0 & 0 & 1 & 0 & 0 & 0 & -1 & -1\\\\0 & 0 & 0 & 1 & -1 & 0 & 0 & -1\\end{matrix}\\right]$"
      ],
      "text/plain": [
       "Eq(Matrix([\n",
       "[1, 0, 0, 0, -1, b0, c0, d0],\n",
       "[0, 1, 0, 0, a1, -1, c1, d1],\n",
       "[0, 0, 1, 0, a2, b2, -1, d2],\n",
       "[0, 0, 0, 1, -1, b3, c3, d3]]), Matrix([\n",
       "[1, 0, 0, 0, -1,  0,  1,      0],\n",
       "[0, 1, 0, 0, a1, -1,  0, a1 - 1],\n",
       "[0, 0, 1, 0,  0,  0, -1,     -1],\n",
       "[0, 0, 0, 1, -1,  0,  0,     -1]]))"
      ]
     },
     "metadata": {},
     "output_type": "display_data"
    }
   ],
   "source": [
    "C1 = copy.deepcopy(C0)\n",
    "C = C1\n",
    "t=6\n",
    "\n",
    "proj = C.proj([projectied_vertex])\n",
    "with sp.evaluate(False):\n",
    "    display(sp.Eq(proj, fans_link[t]))"
   ]
  },
  {
   "cell_type": "code",
   "execution_count": 55,
   "id": "05ed0372-e1d3-4f7b-9f55-b9564890c690",
   "metadata": {},
   "outputs": [
    {
     "data": {
      "text/latex": [
       "$\\displaystyle \\text{True}$"
      ],
      "text/plain": [
       "True"
      ]
     },
     "metadata": {},
     "output_type": "display_data"
    }
   ],
   "source": [
    "C.subs(a2, 0)\n",
    "C.subs(b0, 0)\n",
    "C.subs(b2, 0)\n",
    "C.subs(b3, 0)\n",
    "C.subs(c0, 1)\n",
    "C.subs(c1, 0)\n",
    "C.subs(c3, 0)\n",
    "C.subs(d0, 0)\n",
    "C.subs(d1, a1-1)\n",
    "C.subs(d2, -1)\n",
    "C.subs(d3, -1)\n",
    "\n",
    "display(sp.Eq(C.proj([projectied_vertex]), fans_link[t]))"
   ]
  },
  {
   "cell_type": "code",
   "execution_count": 56,
   "id": "f17c963f-62c9-40a3-bc06-cffbd5fab104",
   "metadata": {},
   "outputs": [
    {
     "name": "stdout",
     "output_type": "stream",
     "text": [
      "facet number: 17\n"
     ]
    },
    {
     "data": {
      "text/latex": [
       "$\\displaystyle d_{4} = -1$"
      ],
      "text/plain": [
       "Eq(d4, -1)"
      ]
     },
     "metadata": {},
     "output_type": "display_data"
    }
   ],
   "source": [
    "i=17\n",
    "print('facet number:', i)\n",
    "display(sp.Eq(C.determinants[i], C.orientation[i]))\n",
    "\n",
    "C.subs(d4, -1)"
   ]
  },
  {
   "cell_type": "code",
   "execution_count": 57,
   "id": "383af9c9-605f-4f5d-9bad-cb2f856fcd29",
   "metadata": {},
   "outputs": [
    {
     "name": "stdout",
     "output_type": "stream",
     "text": [
      "facet number: 3\n"
     ]
    },
    {
     "data": {
      "text/latex": [
       "$\\displaystyle a_{4} + 1 = 1$"
      ],
      "text/plain": [
       "Eq(a4 + 1, 1)"
      ]
     },
     "metadata": {},
     "output_type": "display_data"
    },
    {
     "name": "stdout",
     "output_type": "stream",
     "text": [
      "facet number: 7\n"
     ]
    },
    {
     "data": {
      "text/latex": [
       "$\\displaystyle a_{4} = 1$"
      ],
      "text/plain": [
       "Eq(a4, 1)"
      ]
     },
     "metadata": {},
     "output_type": "display_data"
    },
    {
     "name": "stdout",
     "output_type": "stream",
     "text": [
      "no solution\n"
     ]
    }
   ],
   "source": [
    "i=3\n",
    "print('facet number:', i)\n",
    "display(sp.Eq(C.determinants[i], C.orientation[i]))\n",
    "\n",
    "i=7\n",
    "print('facet number:', i)\n",
    "display(sp.Eq(C.determinants[i], C.orientation[i]))\n",
    "\n",
    "print('no solution')"
   ]
  },
  {
   "cell_type": "markdown",
   "id": "9b8590f3-d93a-4249-ae81-982db5b374cb",
   "metadata": {
    "jp-MarkdownHeadingCollapsed": true
   },
   "source": [
    "# Type 7 of the projection"
   ]
  },
  {
   "cell_type": "code",
   "execution_count": 58,
   "id": "5e575465-867d-444a-98cc-2856cdc63d6a",
   "metadata": {},
   "outputs": [
    {
     "data": {
      "text/latex": [
       "$\\displaystyle \\left[\\begin{matrix}1 & 0 & 0 & 0 & -1 & b_{0} & c_{0} & d_{0}\\\\0 & 1 & 0 & 0 & a_{1} & -1 & c_{1} & d_{1}\\\\0 & 0 & 1 & 0 & a_{2} & b_{2} & -1 & d_{2}\\\\0 & 0 & 0 & 1 & -1 & b_{3} & c_{3} & d_{3}\\end{matrix}\\right] = \\left[\\begin{matrix}1 & 0 & 0 & 0 & -1 & 0 & 0 & -1\\\\0 & 1 & 0 & 0 & 1 & -1 & -1 & -1\\\\0 & 0 & 1 & 0 & 1 & 0 & -1 & 0\\\\0 & 0 & 0 & 1 & -1 & 1 & 0 & 0\\end{matrix}\\right]$"
      ],
      "text/plain": [
       "Eq(Matrix([\n",
       "[1, 0, 0, 0, -1, b0, c0, d0],\n",
       "[0, 1, 0, 0, a1, -1, c1, d1],\n",
       "[0, 0, 1, 0, a2, b2, -1, d2],\n",
       "[0, 0, 0, 1, -1, b3, c3, d3]]), Matrix([\n",
       "[1, 0, 0, 0, -1,  0,  0, -1],\n",
       "[0, 1, 0, 0,  1, -1, -1, -1],\n",
       "[0, 0, 1, 0,  1,  0, -1,  0],\n",
       "[0, 0, 0, 1, -1,  1,  0,  0]]))"
      ]
     },
     "metadata": {},
     "output_type": "display_data"
    }
   ],
   "source": [
    "C1 = copy.deepcopy(C0)\n",
    "C = C1\n",
    "t=7\n",
    "\n",
    "proj = C.proj([projectied_vertex])\n",
    "with sp.evaluate(False):\n",
    "    display(sp.Eq(proj, fans_link[t]))"
   ]
  },
  {
   "cell_type": "code",
   "execution_count": 59,
   "id": "8bb1ce49-6baa-4b1e-a9ee-ce0556c64268",
   "metadata": {},
   "outputs": [
    {
     "name": "stdout",
     "output_type": "stream",
     "text": [
      "facet number: 4\n"
     ]
    },
    {
     "data": {
      "text/latex": [
       "$\\displaystyle c_{3} d_{4} + d_{3} = -1$"
      ],
      "text/plain": [
       "Eq(c3*d4 + d3, -1)"
      ]
     },
     "metadata": {},
     "output_type": "display_data"
    },
    {
     "name": "stdout",
     "output_type": "stream",
     "text": [
      "no solution\n"
     ]
    }
   ],
   "source": [
    "i=4\n",
    "print('facet number:', i)\n",
    "display(sp.Eq(C.determinants[i], C.orientation[i]))\n",
    "\n",
    "print('no solution')"
   ]
  },
  {
   "cell_type": "markdown",
   "id": "af5a802a-d2a8-4ff9-9030-b54d53195012",
   "metadata": {
    "jp-MarkdownHeadingCollapsed": true
   },
   "source": [
    "# Type 8 of the projection"
   ]
  },
  {
   "cell_type": "code",
   "execution_count": 60,
   "id": "a9e7924c-9f6a-45da-a051-74499b95ac0a",
   "metadata": {},
   "outputs": [
    {
     "data": {
      "text/latex": [
       "$\\displaystyle \\left[\\begin{matrix}1 & 0 & 0 & 0 & -1 & b_{0} & c_{0} & d_{0}\\\\0 & 1 & 0 & 0 & a_{1} & -1 & c_{1} & d_{1}\\\\0 & 0 & 1 & 0 & a_{2} & b_{2} & -1 & d_{2}\\\\0 & 0 & 0 & 1 & -1 & b_{3} & c_{3} & d_{3}\\end{matrix}\\right] = \\left[\\begin{matrix}1 & 0 & 0 & 0 & -1 & 0 & 1 & 0\\\\0 & 1 & 0 & 0 & 1 & -1 & 0 & 0\\\\0 & 0 & 1 & 0 & 0 & b_{2} & -1 & -1\\\\0 & 0 & 0 & 1 & -1 & b_{3} & 0 & -1\\end{matrix}\\right]$"
      ],
      "text/plain": [
       "Eq(Matrix([\n",
       "[1, 0, 0, 0, -1, b0, c0, d0],\n",
       "[0, 1, 0, 0, a1, -1, c1, d1],\n",
       "[0, 0, 1, 0, a2, b2, -1, d2],\n",
       "[0, 0, 0, 1, -1, b3, c3, d3]]), Matrix([\n",
       "[1, 0, 0, 0, -1,  0,  1,  0],\n",
       "[0, 1, 0, 0,  1, -1,  0,  0],\n",
       "[0, 0, 1, 0,  0, b2, -1, -1],\n",
       "[0, 0, 0, 1, -1, b3,  0, -1]]))"
      ]
     },
     "metadata": {},
     "output_type": "display_data"
    }
   ],
   "source": [
    "C1 = copy.deepcopy(C0)\n",
    "C = C1\n",
    "t=8\n",
    "\n",
    "proj = C.proj([projectied_vertex])\n",
    "with sp.evaluate(False):\n",
    "    display(sp.Eq(proj, fans_link[t]))"
   ]
  },
  {
   "cell_type": "code",
   "execution_count": 61,
   "id": "91675ffc-3eff-4207-802f-34c296a8ad69",
   "metadata": {},
   "outputs": [
    {
     "data": {
      "text/latex": [
       "$\\displaystyle \\text{True}$"
      ],
      "text/plain": [
       "True"
      ]
     },
     "metadata": {},
     "output_type": "display_data"
    }
   ],
   "source": [
    "C.subs(a1, 1)\n",
    "C.subs(a2, 0)\n",
    "C.subs(b0, 0)\n",
    "C.subs(c0, 1)\n",
    "C.subs(c1, 0)\n",
    "C.subs(c3, 0)\n",
    "C.subs(d0, 0)\n",
    "C.subs(d1, 0)\n",
    "C.subs(d2, -1)\n",
    "C.subs(d3, -1)\n",
    "\n",
    "display(sp.Eq(C.proj([projectied_vertex]), fans_link[t]))"
   ]
  },
  {
   "cell_type": "code",
   "execution_count": 62,
   "id": "b968fa0f-6d20-4185-8e25-b64485b36362",
   "metadata": {},
   "outputs": [
    {
     "name": "stdout",
     "output_type": "stream",
     "text": [
      "facet number: 3\n"
     ]
    },
    {
     "data": {
      "text/latex": [
       "$\\displaystyle a_{4} - d_{4} = 1$"
      ],
      "text/plain": [
       "Eq(a4 - d4, 1)"
      ]
     },
     "metadata": {},
     "output_type": "display_data"
    },
    {
     "name": "stdout",
     "output_type": "stream",
     "text": [
      "facet number: 7\n"
     ]
    },
    {
     "data": {
      "text/latex": [
       "$\\displaystyle a_{4} - d_{4} - 1 = 1$"
      ],
      "text/plain": [
       "Eq(a4 - d4 - 1, 1)"
      ]
     },
     "metadata": {},
     "output_type": "display_data"
    },
    {
     "name": "stdout",
     "output_type": "stream",
     "text": [
      "no solution\n"
     ]
    }
   ],
   "source": [
    "i=3\n",
    "print('facet number:', i)\n",
    "display(sp.Eq(C.determinants[i], C.orientation[i]))\n",
    "\n",
    "i=7\n",
    "print('facet number:', i)\n",
    "display(sp.Eq(C.determinants[i], C.orientation[i]))\n",
    "\n",
    "print('no solution')"
   ]
  },
  {
   "cell_type": "markdown",
   "id": "25f4bb67-f759-4d99-8c0f-ad8c3b0e1d8d",
   "metadata": {
    "jp-MarkdownHeadingCollapsed": true
   },
   "source": [
    "# Type 9 of the projection"
   ]
  },
  {
   "cell_type": "code",
   "execution_count": 63,
   "id": "1cc65d76-3a9d-467b-8a54-d2b47d504c26",
   "metadata": {},
   "outputs": [
    {
     "data": {
      "text/latex": [
       "$\\displaystyle \\left[\\begin{matrix}1 & 0 & 0 & 0 & -1 & b_{0} & c_{0} & d_{0}\\\\0 & 1 & 0 & 0 & a_{1} & -1 & c_{1} & d_{1}\\\\0 & 0 & 1 & 0 & a_{2} & b_{2} & -1 & d_{2}\\\\0 & 0 & 0 & 1 & -1 & b_{3} & c_{3} & d_{3}\\end{matrix}\\right] = \\left[\\begin{matrix}1 & 0 & 0 & 0 & -1 & 0 & 1 & d_{0}\\\\0 & 1 & 0 & 0 & 1 & -1 & 0 & d_{1}\\\\0 & 0 & 1 & 0 & 0 & 1 & -1 & - d_{0} - d_{1} - 1\\\\0 & 0 & 0 & 1 & -1 & 1 & 0 & - d_{1} - 1\\end{matrix}\\right]$"
      ],
      "text/plain": [
       "Eq(Matrix([\n",
       "[1, 0, 0, 0, -1, b0, c0, d0],\n",
       "[0, 1, 0, 0, a1, -1, c1, d1],\n",
       "[0, 0, 1, 0, a2, b2, -1, d2],\n",
       "[0, 0, 0, 1, -1, b3, c3, d3]]), Matrix([\n",
       "[1, 0, 0, 0, -1,  0,  1,           d0],\n",
       "[0, 1, 0, 0,  1, -1,  0,           d1],\n",
       "[0, 0, 1, 0,  0,  1, -1, -d0 - d1 - 1],\n",
       "[0, 0, 0, 1, -1,  1,  0,      -d1 - 1]]))"
      ]
     },
     "metadata": {},
     "output_type": "display_data"
    }
   ],
   "source": [
    "C1 = copy.deepcopy(C0)\n",
    "C = C1\n",
    "t=9\n",
    "\n",
    "proj = C.proj([projectied_vertex])\n",
    "with sp.evaluate(False):\n",
    "    display(sp.Eq(proj, fans_link[t]))"
   ]
  },
  {
   "cell_type": "code",
   "execution_count": 64,
   "id": "dbe45104-d823-40c7-8983-80eb0f2b777d",
   "metadata": {},
   "outputs": [
    {
     "data": {
      "text/latex": [
       "$\\displaystyle \\text{True}$"
      ],
      "text/plain": [
       "True"
      ]
     },
     "metadata": {},
     "output_type": "display_data"
    }
   ],
   "source": [
    "C.subs(a1, 1)\n",
    "C.subs(a2, 0)\n",
    "C.subs(b0, 0)\n",
    "C.subs(b2, 1)\n",
    "C.subs(b3, 1)\n",
    "C.subs(c0, 1)\n",
    "C.subs(c1, 0)\n",
    "C.subs(c3, 0)\n",
    "C.subs(d2, -d0-d1-1)\n",
    "C.subs(d3, -d1-1)\n",
    "\n",
    "display(sp.Eq(C.proj([projectied_vertex]), fans_link[t]))"
   ]
  },
  {
   "cell_type": "code",
   "execution_count": 65,
   "id": "c68bb881-c313-4519-8c1d-d717e4ea39e0",
   "metadata": {},
   "outputs": [
    {
     "name": "stdout",
     "output_type": "stream",
     "text": [
      "facet number: 4\n"
     ]
    },
    {
     "data": {
      "text/latex": [
       "$\\displaystyle - d_{1} - 1 = -1$"
      ],
      "text/plain": [
       "Eq(-d1 - 1, -1)"
      ]
     },
     "metadata": {},
     "output_type": "display_data"
    }
   ],
   "source": [
    "i=4\n",
    "print('facet number:', i)\n",
    "display(sp.Eq(C.determinants[i], C.orientation[i]))\n",
    "\n",
    "C.subs(d1, 0)"
   ]
  },
  {
   "cell_type": "code",
   "execution_count": 66,
   "id": "bee5922d-35b8-425e-93df-24109e0dc760",
   "metadata": {},
   "outputs": [
    {
     "name": "stdout",
     "output_type": "stream",
     "text": [
      "facet number: 3\n"
     ]
    },
    {
     "data": {
      "text/latex": [
       "$\\displaystyle a_{4} - d_{4} = 1$"
      ],
      "text/plain": [
       "Eq(a4 - d4, 1)"
      ]
     },
     "metadata": {},
     "output_type": "display_data"
    },
    {
     "name": "stdout",
     "output_type": "stream",
     "text": [
      "facet number: 7\n"
     ]
    },
    {
     "data": {
      "text/latex": [
       "$\\displaystyle a_{4} - d_{0} - d_{4} - 1 = 1$"
      ],
      "text/plain": [
       "Eq(a4 - d0 - d4 - 1, 1)"
      ]
     },
     "metadata": {},
     "output_type": "display_data"
    },
    {
     "data": {
      "text/latex": [
       "$\\displaystyle d_{0} + 1 = 0$"
      ],
      "text/plain": [
       "Eq(d0 + 1, 0)"
      ]
     },
     "metadata": {},
     "output_type": "display_data"
    },
    {
     "name": "stdout",
     "output_type": "stream",
     "text": [
      "d0=-1, d1=0 => type 1\n"
     ]
    }
   ],
   "source": [
    "i=3\n",
    "print('facet number:', i)\n",
    "display(sp.Eq(C.determinants[i], C.orientation[i]))\n",
    "\n",
    "i=7\n",
    "print('facet number:', i)\n",
    "display(sp.Eq(C.determinants[i], C.orientation[i]))\n",
    "\n",
    "display(sp.Eq(C.determinants[3] - C.determinants[7], C.orientation[3] - C.orientation[7]))\n",
    "\n",
    "print('d0=-1, d1=0 => type 1')"
   ]
  },
  {
   "cell_type": "markdown",
   "id": "2b9903b9-36c5-4dd2-a5bf-08e4f22d0be3",
   "metadata": {
    "jp-MarkdownHeadingCollapsed": true
   },
   "source": [
    "# There are 6 types of fans up to D-J equivalence"
   ]
  },
  {
   "cell_type": "markdown",
   "id": "863d39e9-acad-43fb-87d7-22288b6e6d32",
   "metadata": {
    "jp-MarkdownHeadingCollapsed": true
   },
   "source": [
    "## removing redundant ones"
   ]
  },
  {
   "cell_type": "code",
   "execution_count": 78,
   "id": "0bb0f36e-9e28-45cc-b3c2-5add1ad1ee4d",
   "metadata": {},
   "outputs": [
    {
     "data": {
      "text/latex": [
       "$\\displaystyle \\left[\\begin{matrix}1 & 0 & 0 & 0 & 0 & -1 & 0 & 0 & -1\\\\0 & 1 & 0 & 0 & 0 & 1 & -1 & 0 & 0\\\\0 & 0 & 1 & 0 & 0 & 0 & 1 & -1 & 0\\\\0 & 0 & 0 & 1 & 0 & -1 & 1 & 0 & -1\\\\0 & 0 & 0 & 0 & 1 & d_{4} + 1 & 0 & -1 & d_{4}\\end{matrix}\\right]$"
      ],
      "text/plain": [
       "Matrix([\n",
       "[1, 0, 0, 0, 0,     -1,  0,  0, -1],\n",
       "[0, 1, 0, 0, 0,      1, -1,  0,  0],\n",
       "[0, 0, 1, 0, 0,      0,  1, -1,  0],\n",
       "[0, 0, 0, 1, 0,     -1,  1,  0, -1],\n",
       "[0, 0, 0, 0, 1, d4 + 1,  0, -1, d4]])"
      ]
     },
     "metadata": {},
     "output_type": "display_data"
    },
    {
     "data": {
      "text/latex": [
       "$\\displaystyle \\left[\\begin{matrix}1 & 0 & 0 & 0 & 0 & -1 & 0 & 0 & -1\\\\0 & 1 & 0 & 0 & 0 & 1 & -1 & 0 & 0\\\\0 & 0 & 1 & 0 & 0 & a_{2} & 1 & -1 & a_{2}\\\\0 & 0 & 0 & 1 & 0 & -1 & 1 & 0 & -1\\\\0 & 0 & 0 & 0 & 1 & d_{4} + 1 & 0 & -1 & d_{4}\\end{matrix}\\right]$"
      ],
      "text/plain": [
       "Matrix([\n",
       "[1, 0, 0, 0, 0,     -1,  0,  0, -1],\n",
       "[0, 1, 0, 0, 0,      1, -1,  0,  0],\n",
       "[0, 0, 1, 0, 0,     a2,  1, -1, a2],\n",
       "[0, 0, 0, 1, 0,     -1,  1,  0, -1],\n",
       "[0, 0, 0, 0, 1, d4 + 1,  0, -1, d4]])"
      ]
     },
     "metadata": {},
     "output_type": "display_data"
    },
    {
     "data": {
      "text/latex": [
       "$\\displaystyle \\text{True}$"
      ],
      "text/plain": [
       "True"
      ]
     },
     "metadata": {},
     "output_type": "display_data"
    }
   ],
   "source": [
    "i, j = 2, 3\n",
    "display(fans[i], fans[j])\n",
    "display(sp.Eq(fans[i],fans[j].subs(a2, 0)))\n",
    "fans.remove(fans[i])"
   ]
  },
  {
   "cell_type": "markdown",
   "id": "1ae87191-21a8-4367-b338-3734acd62028",
   "metadata": {
    "jp-MarkdownHeadingCollapsed": true
   },
   "source": [
    "## list"
   ]
  },
  {
   "cell_type": "code",
   "execution_count": 86,
   "id": "1e703cb5-63da-45e7-a131-0217b540e760",
   "metadata": {},
   "outputs": [
    {
     "data": {
      "text/latex": [
       "$\\displaystyle \\left[\\begin{matrix}1 & 0 & 0 & 0 & 0 & -1 & -1 & 0 & -1\\\\0 & 1 & 0 & 0 & 0 & 0 & -1 & -1 & -1\\\\0 & 0 & 1 & 0 & 0 & -1 & 0 & -1 & -1\\\\0 & 0 & 0 & 1 & 0 & -1 & 0 & 0 & -1\\\\0 & 0 & 0 & 0 & 1 & 0 & 0 & -1 & -1\\end{matrix}\\right]$"
      ],
      "text/plain": [
       "Matrix([\n",
       "[1, 0, 0, 0, 0, -1, -1,  0, -1],\n",
       "[0, 1, 0, 0, 0,  0, -1, -1, -1],\n",
       "[0, 0, 1, 0, 0, -1,  0, -1, -1],\n",
       "[0, 0, 0, 1, 0, -1,  0,  0, -1],\n",
       "[0, 0, 0, 0, 1,  0,  0, -1, -1]])"
      ]
     },
     "metadata": {},
     "output_type": "display_data"
    },
    {
     "data": {
      "text/latex": [
       "$\\displaystyle \\left[\\begin{matrix}1 & 0 & 0 & 0 & 0 & -1 & 0 & c_{0} & -1\\\\0 & 1 & 0 & 0 & 0 & 1 & -1 & 0 & 0\\\\0 & 0 & 1 & 0 & 0 & 0 & 1 & -1 & 0\\\\0 & 0 & 0 & 1 & 0 & -1 & 1 & c_{3} & -1\\\\0 & 0 & 0 & 0 & 1 & 1 & 0 & -1 & 0\\end{matrix}\\right]$"
      ],
      "text/plain": [
       "Matrix([\n",
       "[1, 0, 0, 0, 0, -1,  0, c0, -1],\n",
       "[0, 1, 0, 0, 0,  1, -1,  0,  0],\n",
       "[0, 0, 1, 0, 0,  0,  1, -1,  0],\n",
       "[0, 0, 0, 1, 0, -1,  1, c3, -1],\n",
       "[0, 0, 0, 0, 1,  1,  0, -1,  0]])"
      ]
     },
     "metadata": {},
     "output_type": "display_data"
    },
    {
     "data": {
      "text/latex": [
       "$\\displaystyle \\left[\\begin{matrix}1 & 0 & 0 & 0 & 0 & -1 & 0 & 0 & -1\\\\0 & 1 & 0 & 0 & 0 & 1 & -1 & 0 & 0\\\\0 & 0 & 1 & 0 & 0 & a_{2} & 1 & -1 & a_{2}\\\\0 & 0 & 0 & 1 & 0 & -1 & 1 & 0 & -1\\\\0 & 0 & 0 & 0 & 1 & d_{4} + 1 & 0 & -1 & d_{4}\\end{matrix}\\right]$"
      ],
      "text/plain": [
       "Matrix([\n",
       "[1, 0, 0, 0, 0,     -1,  0,  0, -1],\n",
       "[0, 1, 0, 0, 0,      1, -1,  0,  0],\n",
       "[0, 0, 1, 0, 0,     a2,  1, -1, a2],\n",
       "[0, 0, 0, 1, 0,     -1,  1,  0, -1],\n",
       "[0, 0, 0, 0, 1, d4 + 1,  0, -1, d4]])"
      ]
     },
     "metadata": {},
     "output_type": "display_data"
    },
    {
     "data": {
      "text/latex": [
       "$\\displaystyle \\left[\\begin{matrix}1 & 0 & 0 & 0 & 0 & -1 & 0 & 1 & 0\\\\0 & 1 & 0 & 0 & 0 & 0 & -1 & 0 & -1\\\\0 & 0 & 1 & 0 & 0 & 0 & 1 & -1 & 0\\\\0 & 0 & 0 & 1 & 0 & -1 & 0 & 0 & -1\\\\0 & 0 & 0 & 0 & 1 & 0 & 0 & -1 & -1\\end{matrix}\\right]$"
      ],
      "text/plain": [
       "Matrix([\n",
       "[1, 0, 0, 0, 0, -1,  0,  1,  0],\n",
       "[0, 1, 0, 0, 0,  0, -1,  0, -1],\n",
       "[0, 0, 1, 0, 0,  0,  1, -1,  0],\n",
       "[0, 0, 0, 1, 0, -1,  0,  0, -1],\n",
       "[0, 0, 0, 0, 1,  0,  0, -1, -1]])"
      ]
     },
     "metadata": {},
     "output_type": "display_data"
    },
    {
     "data": {
      "text/latex": [
       "$\\displaystyle \\left[\\begin{matrix}1 & 0 & 0 & 0 & 0 & -1 & -1 & 1 & -1\\\\0 & 1 & 0 & 0 & 0 & 0 & -1 & 0 & -1\\\\0 & 0 & 1 & 0 & 0 & 0 & 1 & -1 & 0\\\\0 & 0 & 0 & 1 & 0 & -1 & 0 & 0 & -1\\\\0 & 0 & 0 & 0 & 1 & 1 & 1 & -1 & 0\\end{matrix}\\right]$"
      ],
      "text/plain": [
       "Matrix([\n",
       "[1, 0, 0, 0, 0, -1, -1,  1, -1],\n",
       "[0, 1, 0, 0, 0,  0, -1,  0, -1],\n",
       "[0, 0, 1, 0, 0,  0,  1, -1,  0],\n",
       "[0, 0, 0, 1, 0, -1,  0,  0, -1],\n",
       "[0, 0, 0, 0, 1,  1,  1, -1,  0]])"
      ]
     },
     "metadata": {},
     "output_type": "display_data"
    },
    {
     "data": {
      "text/latex": [
       "$\\displaystyle \\left[\\begin{matrix}1 & 0 & 0 & 0 & 0 & -1 & 0 & 1 & 0\\\\0 & 1 & 0 & 0 & 0 & 1 & -1 & -1 & -1\\\\0 & 0 & 1 & 0 & 0 & 0 & 0 & -1 & -1\\\\0 & 0 & 0 & 1 & 0 & -1 & 1 & 1 & 0\\\\0 & 0 & 0 & 0 & 1 & 1 & 0 & -1 & -1\\end{matrix}\\right]$"
      ],
      "text/plain": [
       "Matrix([\n",
       "[1, 0, 0, 0, 0, -1,  0,  1,  0],\n",
       "[0, 1, 0, 0, 0,  1, -1, -1, -1],\n",
       "[0, 0, 1, 0, 0,  0,  0, -1, -1],\n",
       "[0, 0, 0, 1, 0, -1,  1,  1,  0],\n",
       "[0, 0, 0, 0, 1,  1,  0, -1, -1]])"
      ]
     },
     "metadata": {},
     "output_type": "display_data"
    }
   ],
   "source": [
    "for f in fans:\n",
    "    display(f)"
   ]
  },
  {
   "cell_type": "markdown",
   "id": "ac1a1c8d-2db1-4778-b4fa-275a7cbf67f7",
   "metadata": {
    "jp-MarkdownHeadingCollapsed": true
   },
   "source": [
    "# Connections between types"
   ]
  },
  {
   "cell_type": "markdown",
   "id": "5fd87f3e-bc68-46d4-8c39-e8f357d2cb61",
   "metadata": {
    "jp-MarkdownHeadingCollapsed": true
   },
   "source": [
    "## fan 0"
   ]
  },
  {
   "cell_type": "markdown",
   "id": "fe985d71-db2f-4168-8e90-f5e9bc39ec11",
   "metadata": {
    "jp-MarkdownHeadingCollapsed": true
   },
   "source": [
    "## fan 1"
   ]
  },
  {
   "cell_type": "markdown",
   "id": "c664ef8c-e609-43b2-95aa-49ea425df47f",
   "metadata": {
    "jp-MarkdownHeadingCollapsed": true
   },
   "source": [
    "### fan 2 ($a_2=0$, $c_0=0$, $c_3=0$, $d_4=0$)"
   ]
  },
  {
   "cell_type": "code",
   "execution_count": 109,
   "id": "d0f5e102-6a79-41e1-94a7-e2f562129be6",
   "metadata": {},
   "outputs": [
    {
     "data": {
      "text/latex": [
       "$\\displaystyle \\left[\\begin{matrix}1 & 0 & 0 & 0 & 0 & -1 & 0 & c_{0} & -1\\\\0 & 1 & 0 & 0 & 0 & 1 & -1 & 0 & 0\\\\0 & 0 & 1 & 0 & 0 & 0 & 1 & -1 & 0\\\\0 & 0 & 0 & 1 & 0 & -1 & 1 & c_{3} & -1\\\\0 & 0 & 0 & 0 & 1 & 1 & 0 & -1 & 0\\end{matrix}\\right] = \\left[\\begin{matrix}1 & 0 & 0 & 0 & 0 & -1 & 0 & 0 & -1\\\\0 & 1 & 0 & 0 & 0 & 1 & -1 & 0 & 0\\\\0 & 0 & 1 & 0 & 0 & a_{2} & 1 & -1 & a_{2}\\\\0 & 0 & 0 & 1 & 0 & -1 & 1 & 0 & -1\\\\0 & 0 & 0 & 0 & 1 & d_{4} + 1 & 0 & -1 & d_{4}\\end{matrix}\\right]$"
      ],
      "text/plain": [
       "Eq(Matrix([\n",
       "[1, 0, 0, 0, 0, -1,  0, c0, -1],\n",
       "[0, 1, 0, 0, 0,  1, -1,  0,  0],\n",
       "[0, 0, 1, 0, 0,  0,  1, -1,  0],\n",
       "[0, 0, 0, 1, 0, -1,  1, c3, -1],\n",
       "[0, 0, 0, 0, 1,  1,  0, -1,  0]]), Matrix([\n",
       "[1, 0, 0, 0, 0,     -1,  0,  0, -1],\n",
       "[0, 1, 0, 0, 0,      1, -1,  0,  0],\n",
       "[0, 0, 1, 0, 0,     a2,  1, -1, a2],\n",
       "[0, 0, 0, 1, 0,     -1,  1,  0, -1],\n",
       "[0, 0, 0, 0, 1, d4 + 1,  0, -1, d4]]))"
      ]
     },
     "metadata": {},
     "output_type": "display_data"
    },
    {
     "data": {
      "text/latex": [
       "$\\displaystyle \\text{True}$"
      ],
      "text/plain": [
       "True"
      ]
     },
     "execution_count": 109,
     "metadata": {},
     "output_type": "execute_result"
    }
   ],
   "source": [
    "i, j = 1, 2\n",
    "display(sp.Eq(fans[i], fans[j], evaluate=False))\n",
    "sp.Eq(fans[i].subs(c0,0).subs(c3,0), fans[j].subs(a2,0).subs(d4,0))"
   ]
  },
  {
   "cell_type": "markdown",
   "id": "8f595659-f328-44fd-bad0-22f3d9da08ee",
   "metadata": {
    "jp-MarkdownHeadingCollapsed": true
   },
   "source": [
    "## fan 2"
   ]
  },
  {
   "cell_type": "markdown",
   "id": "b9b8437f-5909-4681-98ee-d4ef67b77d9e",
   "metadata": {
    "jp-MarkdownHeadingCollapsed": true
   },
   "source": [
    "### fan 1 ($a_2=0$, $c_0=0$, $c_3=0$, $d_4=0$)"
   ]
  },
  {
   "cell_type": "code",
   "execution_count": 110,
   "id": "ec8263d5-8b27-4ec1-bf45-5e4f2575057a",
   "metadata": {},
   "outputs": [
    {
     "data": {
      "text/latex": [
       "$\\displaystyle \\left[\\begin{matrix}1 & 0 & 0 & 0 & 0 & -1 & 0 & c_{0} & -1\\\\0 & 1 & 0 & 0 & 0 & 1 & -1 & 0 & 0\\\\0 & 0 & 1 & 0 & 0 & 0 & 1 & -1 & 0\\\\0 & 0 & 0 & 1 & 0 & -1 & 1 & c_{3} & -1\\\\0 & 0 & 0 & 0 & 1 & 1 & 0 & -1 & 0\\end{matrix}\\right] = \\left[\\begin{matrix}1 & 0 & 0 & 0 & 0 & -1 & 0 & 0 & -1\\\\0 & 1 & 0 & 0 & 0 & 1 & -1 & 0 & 0\\\\0 & 0 & 1 & 0 & 0 & a_{2} & 1 & -1 & a_{2}\\\\0 & 0 & 0 & 1 & 0 & -1 & 1 & 0 & -1\\\\0 & 0 & 0 & 0 & 1 & d_{4} + 1 & 0 & -1 & d_{4}\\end{matrix}\\right]$"
      ],
      "text/plain": [
       "Eq(Matrix([\n",
       "[1, 0, 0, 0, 0, -1,  0, c0, -1],\n",
       "[0, 1, 0, 0, 0,  1, -1,  0,  0],\n",
       "[0, 0, 1, 0, 0,  0,  1, -1,  0],\n",
       "[0, 0, 0, 1, 0, -1,  1, c3, -1],\n",
       "[0, 0, 0, 0, 1,  1,  0, -1,  0]]), Matrix([\n",
       "[1, 0, 0, 0, 0,     -1,  0,  0, -1],\n",
       "[0, 1, 0, 0, 0,      1, -1,  0,  0],\n",
       "[0, 0, 1, 0, 0,     a2,  1, -1, a2],\n",
       "[0, 0, 0, 1, 0,     -1,  1,  0, -1],\n",
       "[0, 0, 0, 0, 1, d4 + 1,  0, -1, d4]]))"
      ]
     },
     "metadata": {},
     "output_type": "display_data"
    },
    {
     "data": {
      "text/latex": [
       "$\\displaystyle \\text{True}$"
      ],
      "text/plain": [
       "True"
      ]
     },
     "execution_count": 110,
     "metadata": {},
     "output_type": "execute_result"
    }
   ],
   "source": [
    "i, j = 1, 2\n",
    "display(sp.Eq(fans[i], fans[j], evaluate=False))\n",
    "sp.Eq(fans[i].subs(c0,0).subs(c3,0), fans[j].subs(a2,0).subs(d4,0))"
   ]
  },
  {
   "cell_type": "markdown",
   "id": "6b3598e4-8421-49d3-b46e-383b365ff98c",
   "metadata": {},
   "source": [
    "## fan 3"
   ]
  },
  {
   "cell_type": "markdown",
   "id": "41401885-69f8-46ea-91f4-c926fd36eddd",
   "metadata": {},
   "source": [
    "## fan 4"
   ]
  },
  {
   "cell_type": "markdown",
   "id": "9aa0d1dd-a7c4-498c-b14a-4b3dad54ebbb",
   "metadata": {},
   "source": [
    "## fan 5"
   ]
  },
  {
   "cell_type": "markdown",
   "id": "f93a2040-d313-40e2-a91b-699dab4c22ad",
   "metadata": {
    "jp-MarkdownHeadingCollapsed": true
   },
   "source": [
    "# There are 3 types of fans up to D-J equivalence and symmetry"
   ]
  },
  {
   "cell_type": "code",
   "execution_count": 88,
   "id": "0b3d4669-01db-40fb-9901-0f48cce360f6",
   "metadata": {},
   "outputs": [
    {
     "data": {
      "text/plain": [
       "[[1, 2, 3, 4, 5, 6, 7, 8, 9], [8, 2, 4, 3, 9, 6, 7, 1, 5]]"
      ]
     },
     "execution_count": 88,
     "metadata": {},
     "output_type": "execute_result"
    }
   ],
   "source": [
    "K.symmetries"
   ]
  },
  {
   "cell_type": "code",
   "execution_count": 89,
   "id": "fbf66356-2b51-40ca-9c02-3397573fd54d",
   "metadata": {},
   "outputs": [],
   "source": [
    "symm_index = [(np.array(i)-1).tolist() for i in K.symmetries]"
   ]
  },
  {
   "cell_type": "markdown",
   "id": "0fb7e652-947f-4718-b23d-792533f82777",
   "metadata": {
    "jp-MarkdownHeadingCollapsed": true
   },
   "source": [
    "## types 0, 4"
   ]
  },
  {
   "cell_type": "code",
   "execution_count": 94,
   "id": "4c1e2f7f-c345-48f3-ac9e-c7b27707496a",
   "metadata": {},
   "outputs": [
    {
     "data": {
      "text/latex": [
       "$\\displaystyle \\left[\\begin{matrix}1 & 0 & 0 & 0 & 0 & -1 & -1 & 1 & -1\\\\0 & 1 & 0 & 0 & 0 & 0 & -1 & 0 & -1\\\\0 & 0 & 1 & 0 & 0 & 0 & 1 & -1 & 0\\\\0 & 0 & 0 & 1 & 0 & -1 & 0 & 0 & -1\\\\0 & 0 & 0 & 0 & 1 & 1 & 1 & -1 & 0\\end{matrix}\\right]$"
      ],
      "text/plain": [
       "Matrix([\n",
       "[1, 0, 0, 0, 0, -1, -1,  1, -1],\n",
       "[0, 1, 0, 0, 0,  0, -1,  0, -1],\n",
       "[0, 0, 1, 0, 0,  0,  1, -1,  0],\n",
       "[0, 0, 0, 1, 0, -1,  0,  0, -1],\n",
       "[0, 0, 0, 0, 1,  1,  1, -1,  0]])"
      ]
     },
     "metadata": {},
     "output_type": "display_data"
    },
    {
     "data": {
      "text/latex": [
       "$\\displaystyle \\left[\\begin{matrix}1 & 0 & 0 & 0 & 0 & -1 & -1 & 1 & -1\\\\0 & 1 & 0 & 0 & 0 & 0 & -1 & 0 & -1\\\\0 & 0 & 1 & 0 & 0 & 0 & 1 & -1 & 0\\\\0 & 0 & 0 & 1 & 0 & -1 & 0 & 0 & -1\\\\0 & 0 & 0 & 0 & 1 & 1 & 1 & -1 & 0\\end{matrix}\\right]$"
      ],
      "text/plain": [
       "Matrix([\n",
       "[1, 0, 0, 0, 0, -1, -1,  1, -1],\n",
       "[0, 1, 0, 0, 0,  0, -1,  0, -1],\n",
       "[0, 0, 1, 0, 0,  0,  1, -1,  0],\n",
       "[0, 0, 0, 1, 0, -1,  0,  0, -1],\n",
       "[0, 0, 0, 0, 1,  1,  1, -1,  0]])"
      ]
     },
     "metadata": {},
     "output_type": "display_data"
    }
   ],
   "source": [
    "display(fans[0][:, symm_index[1]].rref()[0])\n",
    "display(fans[4])"
   ]
  },
  {
   "cell_type": "markdown",
   "id": "b265e440-404a-427b-94d3-c6208c7ca397",
   "metadata": {
    "jp-MarkdownHeadingCollapsed": true
   },
   "source": [
    "## types 1, 2"
   ]
  },
  {
   "cell_type": "code",
   "execution_count": 95,
   "id": "fe316335-9175-40f9-9c16-25f87b04cc51",
   "metadata": {},
   "outputs": [
    {
     "data": {
      "text/latex": [
       "$\\displaystyle \\left[\\begin{matrix}1 & 0 & 0 & 0 & 0 & -1 & 0 & 0 & -1\\\\0 & 1 & 0 & 0 & 0 & 1 & -1 & 0 & 0\\\\0 & 0 & 1 & 0 & 0 & - c_{0} + c_{3} & 1 & -1 & - c_{0} + c_{3}\\\\0 & 0 & 0 & 1 & 0 & -1 & 1 & 0 & -1\\\\0 & 0 & 0 & 0 & 1 & 1 - c_{0} & 0 & -1 & - c_{0}\\end{matrix}\\right]$"
      ],
      "text/plain": [
       "Matrix([\n",
       "[1, 0, 0, 0, 0,       -1,  0,  0,       -1],\n",
       "[0, 1, 0, 0, 0,        1, -1,  0,        0],\n",
       "[0, 0, 1, 0, 0, -c0 + c3,  1, -1, -c0 + c3],\n",
       "[0, 0, 0, 1, 0,       -1,  1,  0,       -1],\n",
       "[0, 0, 0, 0, 1,   1 - c0,  0, -1,      -c0]])"
      ]
     },
     "metadata": {},
     "output_type": "display_data"
    },
    {
     "data": {
      "text/latex": [
       "$\\displaystyle \\left[\\begin{matrix}1 & 0 & 0 & 0 & 0 & -1 & 0 & 0 & -1\\\\0 & 1 & 0 & 0 & 0 & 1 & -1 & 0 & 0\\\\0 & 0 & 1 & 0 & 0 & a_{2} & 1 & -1 & a_{2}\\\\0 & 0 & 0 & 1 & 0 & -1 & 1 & 0 & -1\\\\0 & 0 & 0 & 0 & 1 & d_{4} + 1 & 0 & -1 & d_{4}\\end{matrix}\\right]$"
      ],
      "text/plain": [
       "Matrix([\n",
       "[1, 0, 0, 0, 0,     -1,  0,  0, -1],\n",
       "[0, 1, 0, 0, 0,      1, -1,  0,  0],\n",
       "[0, 0, 1, 0, 0,     a2,  1, -1, a2],\n",
       "[0, 0, 0, 1, 0,     -1,  1,  0, -1],\n",
       "[0, 0, 0, 0, 1, d4 + 1,  0, -1, d4]])"
      ]
     },
     "metadata": {},
     "output_type": "display_data"
    }
   ],
   "source": [
    "display(fans[1][:, symm_index[1]].rref()[0])\n",
    "display(fans[2])"
   ]
  },
  {
   "cell_type": "markdown",
   "id": "1f62f763-aefc-4e05-97d4-47aa367850d4",
   "metadata": {
    "jp-MarkdownHeadingCollapsed": true
   },
   "source": [
    "## types 3, 5"
   ]
  },
  {
   "cell_type": "code",
   "execution_count": 96,
   "id": "4bfc4d9d-1d90-42d1-ae00-10a7875fb3e7",
   "metadata": {},
   "outputs": [
    {
     "data": {
      "text/latex": [
       "$\\displaystyle \\left[\\begin{matrix}1 & 0 & 0 & 0 & 0 & -1 & 0 & 1 & 0\\\\0 & 1 & 0 & 0 & 0 & 1 & -1 & -1 & -1\\\\0 & 0 & 1 & 0 & 0 & 0 & 0 & -1 & -1\\\\0 & 0 & 0 & 1 & 0 & -1 & 1 & 1 & 0\\\\0 & 0 & 0 & 0 & 1 & 1 & 0 & -1 & -1\\end{matrix}\\right]$"
      ],
      "text/plain": [
       "Matrix([\n",
       "[1, 0, 0, 0, 0, -1,  0,  1,  0],\n",
       "[0, 1, 0, 0, 0,  1, -1, -1, -1],\n",
       "[0, 0, 1, 0, 0,  0,  0, -1, -1],\n",
       "[0, 0, 0, 1, 0, -1,  1,  1,  0],\n",
       "[0, 0, 0, 0, 1,  1,  0, -1, -1]])"
      ]
     },
     "metadata": {},
     "output_type": "display_data"
    },
    {
     "data": {
      "text/latex": [
       "$\\displaystyle \\left[\\begin{matrix}1 & 0 & 0 & 0 & 0 & -1 & 0 & 1 & 0\\\\0 & 1 & 0 & 0 & 0 & 1 & -1 & -1 & -1\\\\0 & 0 & 1 & 0 & 0 & 0 & 0 & -1 & -1\\\\0 & 0 & 0 & 1 & 0 & -1 & 1 & 1 & 0\\\\0 & 0 & 0 & 0 & 1 & 1 & 0 & -1 & -1\\end{matrix}\\right]$"
      ],
      "text/plain": [
       "Matrix([\n",
       "[1, 0, 0, 0, 0, -1,  0,  1,  0],\n",
       "[0, 1, 0, 0, 0,  1, -1, -1, -1],\n",
       "[0, 0, 1, 0, 0,  0,  0, -1, -1],\n",
       "[0, 0, 0, 1, 0, -1,  1,  1,  0],\n",
       "[0, 0, 0, 0, 1,  1,  0, -1, -1]])"
      ]
     },
     "metadata": {},
     "output_type": "display_data"
    }
   ],
   "source": [
    "display(fans[3][:, symm_index[1]].rref()[0])\n",
    "display(fans[5])"
   ]
  }
 ],
 "metadata": {
  "kernelspec": {
   "display_name": "Python 3 (ipykernel)",
   "language": "python",
   "name": "python3"
  },
  "language_info": {
   "codemirror_mode": {
    "name": "ipython",
    "version": 3
   },
   "file_extension": ".py",
   "mimetype": "text/x-python",
   "name": "python",
   "nbconvert_exporter": "python",
   "pygments_lexer": "ipython3",
   "version": "3.12.7"
  }
 },
 "nbformat": 4,
 "nbformat_minor": 5
}
