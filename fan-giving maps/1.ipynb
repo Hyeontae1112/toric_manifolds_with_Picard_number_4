{
 "cells": [
  {
   "cell_type": "markdown",
   "id": "757fe0a8-3ffc-4f50-a668-28def78d7cc7",
   "metadata": {
    "jp-MarkdownHeadingCollapsed": true
   },
   "source": [
    "# Preparation"
   ]
  },
  {
   "cell_type": "code",
   "execution_count": 1,
   "id": "1f59e990-d7c6-4215-bcf7-afda925ee2f9",
   "metadata": {},
   "outputs": [],
   "source": [
    "%run programs\\\\Characteristic_Pair.py\n",
    "import copy\n",
    "from tqdm import trange\n",
    "K = Simplicial_Complex(json.loads(read_file('programs\\\\fanlikes')[1]))\n",
    "M = initial_char(K.n)\n",
    "C0 = Characteristic_Pair(K, M)\n",
    "fans = []\n",
    "\n",
    "a = sp.symbols('a0:%d'%K.n)\n",
    "b = sp.symbols('b0:%d'%K.n)\n",
    "c = sp.symbols('c0:%d'%K.n)\n",
    "d = sp.symbols('d0:%d'%K.n)\n",
    "\n",
    "a0, a1, a2 = a[:]\n",
    "b0, b1, b2 = b[:]\n",
    "c0, c1, c2 = c[:]\n",
    "d0, d1, d2 = d[:]\n",
    "x=sp.Symbol('x')"
   ]
  },
  {
   "cell_type": "code",
   "execution_count": 2,
   "id": "d58f5b29-e464-4b96-8def-6deee62df125",
   "metadata": {},
   "outputs": [
    {
     "data": {
      "text/latex": [
       "$\\displaystyle \\left[\\begin{matrix}1 & 0 & 0 & a_{0} & b_{0} & c_{0} & d_{0}\\\\0 & 1 & 0 & a_{1} & b_{1} & c_{1} & d_{1}\\\\0 & 0 & 1 & a_{2} & b_{2} & c_{2} & d_{2}\\end{matrix}\\right]$"
      ],
      "text/plain": [
       "Matrix([\n",
       "[1, 0, 0, a0, b0, c0, d0],\n",
       "[0, 1, 0, a1, b1, c1, d1],\n",
       "[0, 0, 1, a2, b2, c2, d2]])"
      ]
     },
     "execution_count": 2,
     "metadata": {},
     "output_type": "execute_result"
    }
   ],
   "source": [
    "C = C0\n",
    "C.char"
   ]
  },
  {
   "cell_type": "code",
   "execution_count": 3,
   "id": "2457f889-4844-40f5-9440-a38550ab5761",
   "metadata": {},
   "outputs": [
    {
     "name": "stdout",
     "output_type": "stream",
     "text": [
      "facet number: 2\n"
     ]
    },
    {
     "data": {
      "text/latex": [
       "$\\displaystyle - a_{1} = 1$"
      ],
      "text/plain": [
       "Eq(-a1, 1)"
      ]
     },
     "metadata": {},
     "output_type": "display_data"
    },
    {
     "name": "stdout",
     "output_type": "stream",
     "text": [
      "facet number: 6\n"
     ]
    },
    {
     "data": {
      "text/latex": [
       "$\\displaystyle b_{0} = -1$"
      ],
      "text/plain": [
       "Eq(b0, -1)"
      ]
     },
     "metadata": {},
     "output_type": "display_data"
    },
    {
     "name": "stdout",
     "output_type": "stream",
     "text": [
      "facet number: 1\n"
     ]
    },
    {
     "data": {
      "text/latex": [
       "$\\displaystyle d_{2} = -1$"
      ],
      "text/plain": [
       "Eq(d2, -1)"
      ]
     },
     "metadata": {},
     "output_type": "display_data"
    }
   ],
   "source": [
    "i=2\n",
    "print('facet number:', i)\n",
    "display(sp.Eq(C.determinants[i], C.orientation[i]))\n",
    "\n",
    "i=6\n",
    "print('facet number:', i)\n",
    "display(sp.Eq(C.determinants[i], C.orientation[i]))\n",
    "\n",
    "i=1\n",
    "print('facet number:', i)\n",
    "display(sp.Eq(C.determinants[i], C.orientation[i]))\n",
    "\n",
    "C.subs(a1, -1)\n",
    "C.subs(b0, -1)\n",
    "C.subs(d2, -1)"
   ]
  },
  {
   "cell_type": "markdown",
   "id": "8f8e0950-8120-48ff-85d9-8eb30b63db6b",
   "metadata": {
    "jp-MarkdownHeadingCollapsed": true
   },
   "source": [
    "# The projection with respect to 1"
   ]
  },
  {
   "cell_type": "code",
   "execution_count": 4,
   "id": "890e2f8f-ead5-4553-b588-f1ed977aa719",
   "metadata": {},
   "outputs": [
    {
     "data": {
      "text/plain": [
       "[[2, 3], [2, 7], [3, 4], [4, 5], [5, 6], [6, 7]]"
      ]
     },
     "execution_count": 4,
     "metadata": {},
     "output_type": "execute_result"
    }
   ],
   "source": [
    "Link(K, [1]).cpx"
   ]
  },
  {
   "cell_type": "code",
   "execution_count": 5,
   "id": "85f16a25-8b79-4f78-832a-1a9718201693",
   "metadata": {},
   "outputs": [
    {
     "data": {
      "text/latex": [
       "$\\displaystyle \\left[\\begin{matrix}1 & 0 & -1 & b_{1} & c_{1} & d_{1}\\\\0 & 1 & a_{2} & b_{2} & c_{2} & -1\\end{matrix}\\right]$"
      ],
      "text/plain": [
       "Matrix([\n",
       "[1, 0, -1, b1, c1, d1],\n",
       "[0, 1, a2, b2, c2, -1]])"
      ]
     },
     "metadata": {},
     "output_type": "display_data"
    }
   ],
   "source": [
    "display(C.proj([1]))"
   ]
  },
  {
   "cell_type": "markdown",
   "id": "5572100e-5e53-49b7-877e-78c357029f8b",
   "metadata": {
    "jp-MarkdownHeadingCollapsed": true
   },
   "source": [
    "# The projection has 15 types of fans up to D-J equivalence"
   ]
  },
  {
   "cell_type": "code",
   "execution_count": 6,
   "id": "2581aa35-5ed3-422d-81ab-9b8762b7949a",
   "metadata": {},
   "outputs": [],
   "source": [
    "import pickle\n",
    "with open('programs\\\\pickle_files\\\\0_up_to_DJ.p', 'rb') as f:\n",
    "    fans_hex = pickle.load(f)"
   ]
  },
  {
   "cell_type": "code",
   "execution_count": 7,
   "id": "d1a48835-dac2-41d2-9ecf-60eff66dd359",
   "metadata": {},
   "outputs": [
    {
     "data": {
      "text/latex": [
       "$\\displaystyle \\left[\\begin{matrix}1 & 0 & -1 & 0 & 1 & 2\\\\0 & 1 & a & -1 & -1 & -1\\end{matrix}\\right]$"
      ],
      "text/plain": [
       "Matrix([\n",
       "[1, 0, -1,  0,  1,  2],\n",
       "[0, 1,  a, -1, -1, -1]])"
      ]
     },
     "metadata": {},
     "output_type": "display_data"
    },
    {
     "data": {
      "text/latex": [
       "$\\displaystyle \\left[\\begin{matrix}1 & 0 & -1 & 0 & 1 & 1\\\\0 & 1 & a & -1 & -2 & -1\\end{matrix}\\right]$"
      ],
      "text/plain": [
       "Matrix([\n",
       "[1, 0, -1,  0,  1,  1],\n",
       "[0, 1,  a, -1, -2, -1]])"
      ]
     },
     "metadata": {},
     "output_type": "display_data"
    },
    {
     "data": {
      "text/latex": [
       "$\\displaystyle \\left[\\begin{matrix}1 & 0 & -1 & -2 & -1 & d\\\\0 & 1 & 1 & 1 & 0 & -1\\end{matrix}\\right]$"
      ],
      "text/plain": [
       "Matrix([\n",
       "[1, 0, -1, -2, -1,  d],\n",
       "[0, 1,  1,  1,  0, -1]])"
      ]
     },
     "metadata": {},
     "output_type": "display_data"
    },
    {
     "data": {
      "text/latex": [
       "$\\displaystyle \\left[\\begin{matrix}1 & 0 & -1 & -1 & -1 & d\\\\0 & 1 & 2 & 1 & 0 & -1\\end{matrix}\\right]$"
      ],
      "text/plain": [
       "Matrix([\n",
       "[1, 0, -1, -1, -1,  d],\n",
       "[0, 1,  2,  1,  0, -1]])"
      ]
     },
     "metadata": {},
     "output_type": "display_data"
    },
    {
     "data": {
      "text/latex": [
       "$\\displaystyle \\left[\\begin{matrix}1 & 0 & -1 & d - 2 & d - 1 & d\\\\0 & 1 & 0 & -1 & -1 & -1\\end{matrix}\\right]$"
      ],
      "text/plain": [
       "Matrix([\n",
       "[1, 0, -1, d - 2, d - 1,  d],\n",
       "[0, 1,  0,    -1,    -1, -1]])"
      ]
     },
     "metadata": {},
     "output_type": "display_data"
    },
    {
     "data": {
      "text/latex": [
       "$\\displaystyle \\left[\\begin{matrix}1 & 0 & -1 & d - 1 & 2 d - 1 & d\\\\0 & 1 & 0 & -1 & -2 & -1\\end{matrix}\\right]$"
      ],
      "text/plain": [
       "Matrix([\n",
       "[1, 0, -1, d - 1, 2*d - 1,  d],\n",
       "[0, 1,  0,    -1,      -2, -1]])"
      ]
     },
     "metadata": {},
     "output_type": "display_data"
    },
    {
     "data": {
      "text/latex": [
       "$\\displaystyle \\left[\\begin{matrix}1 & 0 & -1 & -2 & - 2 c - 1 & 2\\\\0 & 1 & 1 & 1 & c & -1\\end{matrix}\\right]$"
      ],
      "text/plain": [
       "Matrix([\n",
       "[1, 0, -1, -2, -2*c - 1,  2],\n",
       "[0, 1,  1,  1,        c, -1]])"
      ]
     },
     "metadata": {},
     "output_type": "display_data"
    },
    {
     "data": {
      "text/latex": [
       "$\\displaystyle \\left[\\begin{matrix}1 & 0 & -1 & -1 & d - 1 & d\\\\0 & 1 & 1 & 0 & -1 & -1\\end{matrix}\\right]$"
      ],
      "text/plain": [
       "Matrix([\n",
       "[1, 0, -1, -1, d - 1,  d],\n",
       "[0, 1,  1,  0,    -1, -1]])"
      ]
     },
     "metadata": {},
     "output_type": "display_data"
    },
    {
     "data": {
      "text/latex": [
       "$\\displaystyle \\left[\\begin{matrix}1 & 0 & -1 & b & 1 & 2\\\\0 & 1 & 1 & - b - 1 & -1 & -1\\end{matrix}\\right]$"
      ],
      "text/plain": [
       "Matrix([\n",
       "[1, 0, -1,      b,  1,  2],\n",
       "[0, 1,  1, -b - 1, -1, -1]])"
      ]
     },
     "metadata": {},
     "output_type": "display_data"
    },
    {
     "data": {
      "text/latex": [
       "$\\displaystyle \\left[\\begin{matrix}1 & 0 & -1 & - c - 2 & - c - 1 & 1\\\\0 & 1 & 1 & c + 1 & c & -1\\end{matrix}\\right]$"
      ],
      "text/plain": [
       "Matrix([\n",
       "[1, 0, -1, -c - 2, -c - 1,  1],\n",
       "[0, 1,  1,  c + 1,      c, -1]])"
      ]
     },
     "metadata": {},
     "output_type": "display_data"
    },
    {
     "data": {
      "text/latex": [
       "$\\displaystyle \\left[\\begin{matrix}1 & 0 & -1 & -1 & -1 & 0\\\\0 & 1 & c + 2 & c + 1 & c & -1\\end{matrix}\\right]$"
      ],
      "text/plain": [
       "Matrix([\n",
       "[1, 0,    -1,    -1, -1,  0],\n",
       "[0, 1, c + 2, c + 1,  c, -1]])"
      ]
     },
     "metadata": {},
     "output_type": "display_data"
    },
    {
     "data": {
      "text/latex": [
       "$\\displaystyle \\left[\\begin{matrix}1 & 0 & -1 & -2 & -1 & 0\\\\0 & 1 & c + 1 & 2 c + 1 & c & -1\\end{matrix}\\right]$"
      ],
      "text/plain": [
       "Matrix([\n",
       "[1, 0,    -1,      -2, -1,  0],\n",
       "[0, 1, c + 1, 2*c + 1,  c, -1]])"
      ]
     },
     "metadata": {},
     "output_type": "display_data"
    },
    {
     "data": {
      "text/latex": [
       "$\\displaystyle \\left[\\begin{matrix}1 & 0 & -1 & b & 1 & 1\\\\0 & 1 & 2 & - 2 b - 1 & -2 & -1\\end{matrix}\\right]$"
      ],
      "text/plain": [
       "Matrix([\n",
       "[1, 0, -1,        b,  1,  1],\n",
       "[0, 1,  2, -2*b - 1, -2, -1]])"
      ]
     },
     "metadata": {},
     "output_type": "display_data"
    },
    {
     "data": {
      "text/latex": [
       "$\\displaystyle \\left[\\begin{matrix}1 & 0 & -1 & -1 & - c - 1 & 1\\\\0 & 1 & 2 & 1 & c & -1\\end{matrix}\\right]$"
      ],
      "text/plain": [
       "Matrix([\n",
       "[1, 0, -1, -1, -c - 1,  1],\n",
       "[0, 1,  2,  1,      c, -1]])"
      ]
     },
     "metadata": {},
     "output_type": "display_data"
    },
    {
     "data": {
      "text/latex": [
       "$\\displaystyle \\left[\\begin{matrix}1 & 0 & -1 & -1 & 0 & 1\\\\0 & 1 & a & a - 1 & -1 & -1\\end{matrix}\\right]$"
      ],
      "text/plain": [
       "Matrix([\n",
       "[1, 0, -1,    -1,  0,  1],\n",
       "[0, 1,  a, a - 1, -1, -1]])"
      ]
     },
     "metadata": {},
     "output_type": "display_data"
    }
   ],
   "source": [
    "for f in fans_hex:\n",
    "    display(f)"
   ]
  },
  {
   "cell_type": "markdown",
   "id": "eaf24b65-3508-4aff-80da-a6a69073b0dc",
   "metadata": {
    "jp-MarkdownHeadingCollapsed": true
   },
   "source": [
    "# Type 0 of the projection"
   ]
  },
  {
   "cell_type": "code",
   "execution_count": 8,
   "id": "6293a2a4-b97c-4b4b-b7ae-44414fc09522",
   "metadata": {},
   "outputs": [],
   "source": [
    "C1 = copy.deepcopy(C0)\n",
    "C = C1\n",
    "t=0"
   ]
  },
  {
   "cell_type": "code",
   "execution_count": 9,
   "id": "7e785acd-3171-4a23-9d97-a345e711adbd",
   "metadata": {},
   "outputs": [
    {
     "data": {
      "text/latex": [
       "$\\displaystyle \\left[\\begin{matrix}1 & 0 & -1 & 0 & 1 & 2\\\\0 & 1 & x & -1 & -1 & -1\\end{matrix}\\right]$"
      ],
      "text/plain": [
       "Matrix([\n",
       "[1, 0, -1,  0,  1,  2],\n",
       "[0, 1,  x, -1, -1, -1]])"
      ]
     },
     "metadata": {},
     "output_type": "display_data"
    }
   ],
   "source": [
    "fans_hex[t]=fans_hex[t].subs(sp.Symbol('a'), x) # to distinguish indeterminates\n",
    "display(fans_hex[t])"
   ]
  },
  {
   "cell_type": "code",
   "execution_count": 10,
   "id": "a1d42862-32fe-44fb-936f-3ce1906811f2",
   "metadata": {},
   "outputs": [
    {
     "data": {
      "text/latex": [
       "$\\displaystyle \\left[\\begin{matrix}1 & 0 & -1 & b_{1} & c_{1} & d_{1}\\\\0 & 1 & a_{2} & b_{2} & c_{2} & -1\\end{matrix}\\right] = \\left[\\begin{matrix}1 & 0 & -1 & 0 & 1 & 2\\\\0 & 1 & x & -1 & -1 & -1\\end{matrix}\\right]$"
      ],
      "text/plain": [
       "Eq(Matrix([\n",
       "[1, 0, -1, b1, c1, d1],\n",
       "[0, 1, a2, b2, c2, -1]]), Matrix([\n",
       "[1, 0, -1,  0,  1,  2],\n",
       "[0, 1,  x, -1, -1, -1]]))"
      ]
     },
     "metadata": {},
     "output_type": "display_data"
    }
   ],
   "source": [
    "proj = C.proj([1])\n",
    "with sp.evaluate(False):\n",
    "    display(sp.Eq(proj, fans_hex[t]))\n",
    "\n",
    "C.subs(b1, 0)\n",
    "C.subs(b2, -1)\n",
    "C.subs(c1, 1)\n",
    "C.subs(c2, -1)\n",
    "C.subs(d1, 2)"
   ]
  },
  {
   "cell_type": "code",
   "execution_count": 11,
   "id": "2233de82-5e5a-47e0-b6f6-5cd7916c2692",
   "metadata": {},
   "outputs": [
    {
     "name": "stdout",
     "output_type": "stream",
     "text": [
      "facet number: 7\n"
     ]
    },
    {
     "data": {
      "text/latex": [
       "$\\displaystyle - c_{0} - 1 = -1$"
      ],
      "text/plain": [
       "Eq(-c0 - 1, -1)"
      ]
     },
     "metadata": {},
     "output_type": "display_data"
    }
   ],
   "source": [
    "i=7\n",
    "print('facet number:', i)\n",
    "display(sp.Eq(C.determinants[i], C.orientation[i]))\n",
    "\n",
    "C.subs(c0, 0)"
   ]
  },
  {
   "cell_type": "code",
   "execution_count": 12,
   "id": "dc00cd07-7dd1-4ad5-a953-1c8a0436da8f",
   "metadata": {},
   "outputs": [
    {
     "name": "stdout",
     "output_type": "stream",
     "text": [
      "facet number: 8\n"
     ]
    },
    {
     "data": {
      "text/latex": [
       "$\\displaystyle - d_{0} = -1$"
      ],
      "text/plain": [
       "Eq(-d0, -1)"
      ]
     },
     "metadata": {},
     "output_type": "display_data"
    }
   ],
   "source": [
    "i=8\n",
    "print('facet number:', i)\n",
    "display(sp.Eq(C.determinants[i], C.orientation[i]))\n",
    "\n",
    "C.subs(d0, 1)"
   ]
  },
  {
   "cell_type": "code",
   "execution_count": 13,
   "id": "50210c0d-8734-46b4-8cf8-705c8a37503a",
   "metadata": {},
   "outputs": [
    {
     "data": {
      "text/latex": [
       "$\\displaystyle \\left[\\begin{matrix}1 & 0 & 0 & a_{0} & -1 & 0 & 1\\\\0 & 1 & 0 & -1 & 0 & 1 & 2\\\\0 & 0 & 1 & a_{2} & -1 & -1 & -1\\end{matrix}\\right]$"
      ],
      "text/plain": [
       "Matrix([\n",
       "[1, 0, 0, a0, -1,  0,  1],\n",
       "[0, 1, 0, -1,  0,  1,  2],\n",
       "[0, 0, 1, a2, -1, -1, -1]])"
      ]
     },
     "metadata": {},
     "output_type": "display_data"
    },
    {
     "data": {
      "text/plain": [
       "1"
      ]
     },
     "execution_count": 13,
     "metadata": {},
     "output_type": "execute_result"
    }
   ],
   "source": [
    "display(C.char)\n",
    "C.is_fangiving"
   ]
  },
  {
   "cell_type": "code",
   "execution_count": 14,
   "id": "5d941026-6266-4f20-bf1d-8067c4ea3cce",
   "metadata": {},
   "outputs": [],
   "source": [
    "fans.append(C.char)"
   ]
  },
  {
   "cell_type": "markdown",
   "id": "ba4baff5-4cfb-4ef1-a703-1cd48181fb8a",
   "metadata": {
    "jp-MarkdownHeadingCollapsed": true
   },
   "source": [
    "# Type 1 of the projection"
   ]
  },
  {
   "cell_type": "code",
   "execution_count": 15,
   "id": "4d8289e6-6248-4d16-9208-7b2e63ab6f43",
   "metadata": {},
   "outputs": [],
   "source": [
    "C1 = copy.deepcopy(C0)\n",
    "C = C1\n",
    "t=1"
   ]
  },
  {
   "cell_type": "code",
   "execution_count": 16,
   "id": "b57a15a8-2c91-4443-9a98-3ad619e71bd5",
   "metadata": {},
   "outputs": [
    {
     "data": {
      "text/latex": [
       "$\\displaystyle \\left[\\begin{matrix}1 & 0 & -1 & 0 & 1 & 1\\\\0 & 1 & x & -1 & -2 & -1\\end{matrix}\\right]$"
      ],
      "text/plain": [
       "Matrix([\n",
       "[1, 0, -1,  0,  1,  1],\n",
       "[0, 1,  x, -1, -2, -1]])"
      ]
     },
     "metadata": {},
     "output_type": "display_data"
    }
   ],
   "source": [
    "fans_hex[t]=fans_hex[t].subs(sp.Symbol('a'), x) # to distinguish indeterminates\n",
    "display(fans_hex[t])"
   ]
  },
  {
   "cell_type": "code",
   "execution_count": 17,
   "id": "a07d1174-442b-4e2e-8fe0-293f572fd621",
   "metadata": {},
   "outputs": [
    {
     "data": {
      "text/latex": [
       "$\\displaystyle \\left[\\begin{matrix}1 & 0 & -1 & b_{1} & c_{1} & d_{1}\\\\0 & 1 & a_{2} & b_{2} & c_{2} & -1\\end{matrix}\\right] = \\left[\\begin{matrix}1 & 0 & -1 & 0 & 1 & 1\\\\0 & 1 & x & -1 & -2 & -1\\end{matrix}\\right]$"
      ],
      "text/plain": [
       "Eq(Matrix([\n",
       "[1, 0, -1, b1, c1, d1],\n",
       "[0, 1, a2, b2, c2, -1]]), Matrix([\n",
       "[1, 0, -1,  0,  1,  1],\n",
       "[0, 1,  x, -1, -2, -1]]))"
      ]
     },
     "metadata": {},
     "output_type": "display_data"
    }
   ],
   "source": [
    "proj = C.proj([1])\n",
    "with sp.evaluate(False):\n",
    "    display(sp.Eq(proj, fans_hex[t]))\n",
    "\n",
    "C.subs(b1, 0)\n",
    "C.subs(b2, -1)\n",
    "C.subs(c1, 1)\n",
    "C.subs(c2, -2)\n",
    "C.subs(d1, 1)"
   ]
  },
  {
   "cell_type": "code",
   "execution_count": 18,
   "id": "6b14c4ab-e8fe-4592-b8fe-8a4b706e1c82",
   "metadata": {},
   "outputs": [
    {
     "name": "stdout",
     "output_type": "stream",
     "text": [
      "facet number: 7\n"
     ]
    },
    {
     "data": {
      "text/latex": [
       "$\\displaystyle - c_{0} - 2 = -1$"
      ],
      "text/plain": [
       "Eq(-c0 - 2, -1)"
      ]
     },
     "metadata": {},
     "output_type": "display_data"
    }
   ],
   "source": [
    "i=7\n",
    "print('facet number:', i)\n",
    "display(sp.Eq(C.determinants[i], C.orientation[i]))\n",
    "\n",
    "C.subs(c0, -1)"
   ]
  },
  {
   "cell_type": "code",
   "execution_count": 19,
   "id": "0ea2748f-776d-482c-9dea-a53860da6e2b",
   "metadata": {},
   "outputs": [
    {
     "name": "stdout",
     "output_type": "stream",
     "text": [
      "facet number: 8\n"
     ]
    },
    {
     "data": {
      "text/latex": [
       "$\\displaystyle - 2 d_{0} - 1 = -1$"
      ],
      "text/plain": [
       "Eq(-2*d0 - 1, -1)"
      ]
     },
     "metadata": {},
     "output_type": "display_data"
    }
   ],
   "source": [
    "i=8\n",
    "print('facet number:', i)\n",
    "display(sp.Eq(C.determinants[i], C.orientation[i]))\n",
    "\n",
    "C.subs(d0, 0)"
   ]
  },
  {
   "cell_type": "code",
   "execution_count": 20,
   "id": "e6c9b9cd-5b32-467f-b159-1efe2fae4039",
   "metadata": {},
   "outputs": [
    {
     "data": {
      "text/latex": [
       "$\\displaystyle \\left[\\begin{matrix}1 & 0 & 0 & a_{0} & -1 & -1 & 0\\\\0 & 1 & 0 & -1 & 0 & 1 & 1\\\\0 & 0 & 1 & a_{2} & -1 & -2 & -1\\end{matrix}\\right]$"
      ],
      "text/plain": [
       "Matrix([\n",
       "[1, 0, 0, a0, -1, -1,  0],\n",
       "[0, 1, 0, -1,  0,  1,  1],\n",
       "[0, 0, 1, a2, -1, -2, -1]])"
      ]
     },
     "metadata": {},
     "output_type": "display_data"
    },
    {
     "data": {
      "text/plain": [
       "1"
      ]
     },
     "execution_count": 20,
     "metadata": {},
     "output_type": "execute_result"
    }
   ],
   "source": [
    "display(C.char)\n",
    "C.is_fangiving"
   ]
  },
  {
   "cell_type": "code",
   "execution_count": 21,
   "id": "af8c38f9-3f5d-4c3b-a6e7-a485b6c9a263",
   "metadata": {},
   "outputs": [],
   "source": [
    "fans.append(C.char)"
   ]
  },
  {
   "cell_type": "markdown",
   "id": "e4e90942-82a1-48f2-b3a7-96f16a5cb298",
   "metadata": {
    "jp-MarkdownHeadingCollapsed": true
   },
   "source": [
    "# Type 2 of the projection"
   ]
  },
  {
   "cell_type": "code",
   "execution_count": 22,
   "id": "29d683c9-db39-4652-b2d3-5c5555ec28a9",
   "metadata": {},
   "outputs": [],
   "source": [
    "C1 = copy.deepcopy(C0)\n",
    "C = C1\n",
    "t=2"
   ]
  },
  {
   "cell_type": "code",
   "execution_count": 23,
   "id": "5ebce7f2-c978-4d0e-84e5-0f007b8841fb",
   "metadata": {},
   "outputs": [
    {
     "data": {
      "text/latex": [
       "$\\displaystyle \\left[\\begin{matrix}1 & 0 & -1 & -2 & -1 & x\\\\0 & 1 & 1 & 1 & 0 & -1\\end{matrix}\\right]$"
      ],
      "text/plain": [
       "Matrix([\n",
       "[1, 0, -1, -2, -1,  x],\n",
       "[0, 1,  1,  1,  0, -1]])"
      ]
     },
     "metadata": {},
     "output_type": "display_data"
    }
   ],
   "source": [
    "fans_hex[t]=fans_hex[t].subs(sp.Symbol('d'), x) # to distinguish indeterminates\n",
    "display(fans_hex[t])"
   ]
  },
  {
   "cell_type": "code",
   "execution_count": 24,
   "id": "11330a6b-d65f-4768-89f0-a476ab68492d",
   "metadata": {},
   "outputs": [
    {
     "data": {
      "text/latex": [
       "$\\displaystyle \\left[\\begin{matrix}1 & 0 & -1 & b_{1} & c_{1} & d_{1}\\\\0 & 1 & a_{2} & b_{2} & c_{2} & -1\\end{matrix}\\right] = \\left[\\begin{matrix}1 & 0 & -1 & -2 & -1 & x\\\\0 & 1 & 1 & 1 & 0 & -1\\end{matrix}\\right]$"
      ],
      "text/plain": [
       "Eq(Matrix([\n",
       "[1, 0, -1, b1, c1, d1],\n",
       "[0, 1, a2, b2, c2, -1]]), Matrix([\n",
       "[1, 0, -1, -2, -1,  x],\n",
       "[0, 1,  1,  1,  0, -1]]))"
      ]
     },
     "metadata": {},
     "output_type": "display_data"
    }
   ],
   "source": [
    "proj = C.proj([1])\n",
    "with sp.evaluate(False):\n",
    "    display(sp.Eq(proj, fans_hex[t]))\n",
    "\n",
    "C.subs(a2, 1)\n",
    "C.subs(b1, -2)\n",
    "C.subs(b2, 1)\n",
    "C.subs(c1, -1)\n",
    "C.subs(c2, 0)"
   ]
  },
  {
   "cell_type": "code",
   "execution_count": 25,
   "id": "18446eff-e678-4db2-a9f2-f8754c47dbbd",
   "metadata": {},
   "outputs": [
    {
     "name": "stdout",
     "output_type": "stream",
     "text": [
      "facet number: 7\n"
     ]
    },
    {
     "data": {
      "text/latex": [
       "$\\displaystyle c_{0} = -1$"
      ],
      "text/plain": [
       "Eq(c0, -1)"
      ]
     },
     "metadata": {},
     "output_type": "display_data"
    }
   ],
   "source": [
    "i=7\n",
    "print('facet number:', i)\n",
    "display(sp.Eq(C.determinants[i], C.orientation[i]))\n",
    "\n",
    "C.subs(c0, -1)"
   ]
  },
  {
   "cell_type": "code",
   "execution_count": 26,
   "id": "c82c534c-6d7c-4e2e-bb87-69578ea05de5",
   "metadata": {},
   "outputs": [
    {
     "name": "stdout",
     "output_type": "stream",
     "text": [
      "facet number: 9\n"
     ]
    },
    {
     "data": {
      "text/latex": [
       "$\\displaystyle - 2 a_{0} - 1 = -1$"
      ],
      "text/plain": [
       "Eq(-2*a0 - 1, -1)"
      ]
     },
     "metadata": {},
     "output_type": "display_data"
    }
   ],
   "source": [
    "i=9\n",
    "print('facet number:', i)\n",
    "display(sp.Eq(C.determinants[i], C.orientation[i]))\n",
    "\n",
    "C.subs(a0, 0)"
   ]
  },
  {
   "cell_type": "code",
   "execution_count": 27,
   "id": "2f72229d-9a28-4ead-a8f0-29a30be97f6f",
   "metadata": {},
   "outputs": [
    {
     "data": {
      "text/latex": [
       "$\\displaystyle \\left[\\begin{matrix}1 & 0 & 0 & 0 & -1 & -1 & d_{0}\\\\0 & 1 & 0 & -1 & -2 & -1 & d_{1}\\\\0 & 0 & 1 & 1 & 1 & 0 & -1\\end{matrix}\\right]$"
      ],
      "text/plain": [
       "Matrix([\n",
       "[1, 0, 0,  0, -1, -1, d0],\n",
       "[0, 1, 0, -1, -2, -1, d1],\n",
       "[0, 0, 1,  1,  1,  0, -1]])"
      ]
     },
     "metadata": {},
     "output_type": "display_data"
    },
    {
     "data": {
      "text/plain": [
       "1"
      ]
     },
     "execution_count": 27,
     "metadata": {},
     "output_type": "execute_result"
    }
   ],
   "source": [
    "display(C.char)\n",
    "C.is_fangiving"
   ]
  },
  {
   "cell_type": "code",
   "execution_count": 28,
   "id": "2b646d11-ee65-4f64-8de9-19103394389d",
   "metadata": {},
   "outputs": [],
   "source": [
    "fans.append(C.char)"
   ]
  },
  {
   "cell_type": "markdown",
   "id": "8abfc9da-f225-4642-98bc-443fbb8bb418",
   "metadata": {
    "jp-MarkdownHeadingCollapsed": true
   },
   "source": [
    "# Type 3 of the projection"
   ]
  },
  {
   "cell_type": "code",
   "execution_count": 29,
   "id": "b07cece3-0d21-43f2-8f3a-27f5483f7e55",
   "metadata": {},
   "outputs": [],
   "source": [
    "C1 = copy.deepcopy(C0)\n",
    "C = C1\n",
    "t=3"
   ]
  },
  {
   "cell_type": "code",
   "execution_count": 30,
   "id": "57fdce63-9ba1-4a82-bf40-b7e1e532bf6c",
   "metadata": {},
   "outputs": [
    {
     "data": {
      "text/latex": [
       "$\\displaystyle \\left[\\begin{matrix}1 & 0 & -1 & -1 & -1 & x\\\\0 & 1 & 2 & 1 & 0 & -1\\end{matrix}\\right]$"
      ],
      "text/plain": [
       "Matrix([\n",
       "[1, 0, -1, -1, -1,  x],\n",
       "[0, 1,  2,  1,  0, -1]])"
      ]
     },
     "metadata": {},
     "output_type": "display_data"
    }
   ],
   "source": [
    "fans_hex[t]=fans_hex[t].subs(sp.Symbol('d'), x) # to distinguish indeterminates\n",
    "display(fans_hex[t])"
   ]
  },
  {
   "cell_type": "code",
   "execution_count": 31,
   "id": "8583361e-76c0-4322-84b2-5324207045ec",
   "metadata": {},
   "outputs": [
    {
     "data": {
      "text/latex": [
       "$\\displaystyle \\left[\\begin{matrix}1 & 0 & -1 & b_{1} & c_{1} & d_{1}\\\\0 & 1 & a_{2} & b_{2} & c_{2} & -1\\end{matrix}\\right] = \\left[\\begin{matrix}1 & 0 & -1 & -1 & -1 & x\\\\0 & 1 & 2 & 1 & 0 & -1\\end{matrix}\\right]$"
      ],
      "text/plain": [
       "Eq(Matrix([\n",
       "[1, 0, -1, b1, c1, d1],\n",
       "[0, 1, a2, b2, c2, -1]]), Matrix([\n",
       "[1, 0, -1, -1, -1,  x],\n",
       "[0, 1,  2,  1,  0, -1]]))"
      ]
     },
     "metadata": {},
     "output_type": "display_data"
    }
   ],
   "source": [
    "proj = C.proj([1])\n",
    "with sp.evaluate(False):\n",
    "    display(sp.Eq(proj, fans_hex[t]))\n",
    "\n",
    "C.subs(a2, 2)\n",
    "C.subs(b1, -1)\n",
    "C.subs(b2, 1)\n",
    "C.subs(c1, -1)\n",
    "C.subs(c2, 0)"
   ]
  },
  {
   "cell_type": "code",
   "execution_count": 32,
   "id": "93844c7f-fb95-40c1-a6b6-485074aa86d9",
   "metadata": {},
   "outputs": [
    {
     "name": "stdout",
     "output_type": "stream",
     "text": [
      "facet number: 7\n"
     ]
    },
    {
     "data": {
      "text/latex": [
       "$\\displaystyle c_{0} = -1$"
      ],
      "text/plain": [
       "Eq(c0, -1)"
      ]
     },
     "metadata": {},
     "output_type": "display_data"
    }
   ],
   "source": [
    "i=7\n",
    "print('facet number:', i)\n",
    "display(sp.Eq(C.determinants[i], C.orientation[i]))\n",
    "\n",
    "C.subs(c0, -1)"
   ]
  },
  {
   "cell_type": "code",
   "execution_count": 33,
   "id": "c6704f9b-c572-445d-a520-9986be4f9974",
   "metadata": {},
   "outputs": [
    {
     "name": "stdout",
     "output_type": "stream",
     "text": [
      "facet number: 9\n"
     ]
    },
    {
     "data": {
      "text/latex": [
       "$\\displaystyle - a_{0} - 1 = -1$"
      ],
      "text/plain": [
       "Eq(-a0 - 1, -1)"
      ]
     },
     "metadata": {},
     "output_type": "display_data"
    }
   ],
   "source": [
    "i=9\n",
    "print('facet number:', i)\n",
    "display(sp.Eq(C.determinants[i], C.orientation[i]))\n",
    "\n",
    "C.subs(a0, 0)"
   ]
  },
  {
   "cell_type": "code",
   "execution_count": 34,
   "id": "0f6a17b2-6637-4501-beb4-ce2c7c6a27e2",
   "metadata": {},
   "outputs": [
    {
     "data": {
      "text/latex": [
       "$\\displaystyle \\left[\\begin{matrix}1 & 0 & 0 & 0 & -1 & -1 & d_{0}\\\\0 & 1 & 0 & -1 & -1 & -1 & d_{1}\\\\0 & 0 & 1 & 2 & 1 & 0 & -1\\end{matrix}\\right]$"
      ],
      "text/plain": [
       "Matrix([\n",
       "[1, 0, 0,  0, -1, -1, d0],\n",
       "[0, 1, 0, -1, -1, -1, d1],\n",
       "[0, 0, 1,  2,  1,  0, -1]])"
      ]
     },
     "metadata": {},
     "output_type": "display_data"
    },
    {
     "data": {
      "text/plain": [
       "1"
      ]
     },
     "execution_count": 34,
     "metadata": {},
     "output_type": "execute_result"
    }
   ],
   "source": [
    "display(C.char)\n",
    "C.is_fangiving"
   ]
  },
  {
   "cell_type": "code",
   "execution_count": 35,
   "id": "24755eb9-6e40-4fcf-a6d4-035117b2c036",
   "metadata": {},
   "outputs": [],
   "source": [
    "fans.append(C.char)"
   ]
  },
  {
   "cell_type": "markdown",
   "id": "d27dd821-ecd6-4b7c-8978-06d43784cbcb",
   "metadata": {
    "jp-MarkdownHeadingCollapsed": true
   },
   "source": [
    "# Type 4 of the projection"
   ]
  },
  {
   "cell_type": "code",
   "execution_count": 36,
   "id": "15e1496b-2411-40f3-a494-450511be36c6",
   "metadata": {},
   "outputs": [],
   "source": [
    "C1 = copy.deepcopy(C0)\n",
    "C = C1\n",
    "t=4"
   ]
  },
  {
   "cell_type": "code",
   "execution_count": 37,
   "id": "a3ea43df-80d6-403d-9a84-fab2a21c7f32",
   "metadata": {},
   "outputs": [
    {
     "data": {
      "text/latex": [
       "$\\displaystyle \\left[\\begin{matrix}1 & 0 & -1 & x - 2 & x - 1 & x\\\\0 & 1 & 0 & -1 & -1 & -1\\end{matrix}\\right]$"
      ],
      "text/plain": [
       "Matrix([\n",
       "[1, 0, -1, x - 2, x - 1,  x],\n",
       "[0, 1,  0,    -1,    -1, -1]])"
      ]
     },
     "metadata": {},
     "output_type": "display_data"
    }
   ],
   "source": [
    "fans_hex[t]=fans_hex[t].subs(sp.Symbol('d'), x) # to distinguish indeterminates\n",
    "display(fans_hex[t])"
   ]
  },
  {
   "cell_type": "code",
   "execution_count": 38,
   "id": "72c4e918-b510-40e3-934b-f9a5600c031a",
   "metadata": {},
   "outputs": [
    {
     "data": {
      "text/latex": [
       "$\\displaystyle \\left[\\begin{matrix}1 & 0 & -1 & b_{1} & c_{1} & d_{1}\\\\0 & 1 & a_{2} & b_{2} & c_{2} & -1\\end{matrix}\\right] = \\left[\\begin{matrix}1 & 0 & -1 & x - 2 & x - 1 & x\\\\0 & 1 & 0 & -1 & -1 & -1\\end{matrix}\\right]$"
      ],
      "text/plain": [
       "Eq(Matrix([\n",
       "[1, 0, -1, b1, c1, d1],\n",
       "[0, 1, a2, b2, c2, -1]]), Matrix([\n",
       "[1, 0, -1, x - 2, x - 1,  x],\n",
       "[0, 1,  0,    -1,    -1, -1]]))"
      ]
     },
     "metadata": {},
     "output_type": "display_data"
    }
   ],
   "source": [
    "proj = C.proj([1])\n",
    "with sp.evaluate(False):\n",
    "    display(sp.Eq(proj, fans_hex[t]))\n",
    "\n",
    "C.subs(a2, 0)\n",
    "C.subs(b1, d1-2)\n",
    "C.subs(b2, -1)\n",
    "C.subs(c1, d1-1)\n",
    "C.subs(c2, -1)"
   ]
  },
  {
   "cell_type": "code",
   "execution_count": 39,
   "id": "305c4586-e717-47ef-bd8c-4e7ac57960bf",
   "metadata": {},
   "outputs": [
    {
     "name": "stdout",
     "output_type": "stream",
     "text": [
      "facet number: 7\n"
     ]
    },
    {
     "data": {
      "text/latex": [
       "$\\displaystyle - c_{0} - 1 = -1$"
      ],
      "text/plain": [
       "Eq(-c0 - 1, -1)"
      ]
     },
     "metadata": {},
     "output_type": "display_data"
    }
   ],
   "source": [
    "i=7\n",
    "print('facet number:', i)\n",
    "display(sp.Eq(C.determinants[i], C.orientation[i]))\n",
    "\n",
    "C.subs(c0, 0)"
   ]
  },
  {
   "cell_type": "code",
   "execution_count": 40,
   "id": "3a98e793-0e64-4b65-9b85-be2fab965ac2",
   "metadata": {},
   "outputs": [
    {
     "name": "stdout",
     "output_type": "stream",
     "text": [
      "facet number: 8\n"
     ]
    },
    {
     "data": {
      "text/latex": [
       "$\\displaystyle - d_{0} = -1$"
      ],
      "text/plain": [
       "Eq(-d0, -1)"
      ]
     },
     "metadata": {},
     "output_type": "display_data"
    }
   ],
   "source": [
    "i=8\n",
    "print('facet number:', i)\n",
    "display(sp.Eq(C.determinants[i], C.orientation[i]))\n",
    "\n",
    "C.subs(d0, 1)"
   ]
  },
  {
   "cell_type": "code",
   "execution_count": 43,
   "id": "b680427d-3317-4c37-8894-d0e2df47eaf7",
   "metadata": {},
   "outputs": [
    {
     "name": "stdout",
     "output_type": "stream",
     "text": [
      "facet number: 9\n"
     ]
    },
    {
     "data": {
      "text/latex": [
       "$\\displaystyle a_{0} d_{1} - 2 a_{0} - 1 = -1$"
      ],
      "text/plain": [
       "Eq(a0*d1 - 2*a0 - 1, -1)"
      ]
     },
     "metadata": {},
     "output_type": "display_data"
    },
    {
     "name": "stdout",
     "output_type": "stream",
     "text": [
      "d1=0 => type 0\n"
     ]
    }
   ],
   "source": [
    "i=9\n",
    "print('facet number:', i)\n",
    "display(sp.Eq(C.determinants[i], C.orientation[i]))\n",
    "\n",
    "print('d1=0 => type 0')\n",
    "C.subs(a0, 0)"
   ]
  },
  {
   "cell_type": "code",
   "execution_count": 44,
   "id": "7516981f-ca3d-45c4-9d0b-58993d70751b",
   "metadata": {},
   "outputs": [
    {
     "data": {
      "text/latex": [
       "$\\displaystyle \\left[\\begin{matrix}1 & 0 & 0 & 0 & -1 & 0 & 1\\\\0 & 1 & 0 & -1 & d_{1} - 2 & d_{1} - 1 & d_{1}\\\\0 & 0 & 1 & 0 & -1 & -1 & -1\\end{matrix}\\right]$"
      ],
      "text/plain": [
       "Matrix([\n",
       "[1, 0, 0,  0,     -1,      0,  1],\n",
       "[0, 1, 0, -1, d1 - 2, d1 - 1, d1],\n",
       "[0, 0, 1,  0,     -1,     -1, -1]])"
      ]
     },
     "metadata": {},
     "output_type": "display_data"
    },
    {
     "data": {
      "text/plain": [
       "1"
      ]
     },
     "execution_count": 44,
     "metadata": {},
     "output_type": "execute_result"
    }
   ],
   "source": [
    "display(C.char)\n",
    "C.is_fangiving"
   ]
  },
  {
   "cell_type": "code",
   "execution_count": 45,
   "id": "3656ef3b-1dd5-4d5f-926a-bd8fcd5a4c19",
   "metadata": {},
   "outputs": [],
   "source": [
    "fans.append(C.char)"
   ]
  },
  {
   "cell_type": "markdown",
   "id": "df6c8c4e-da2a-4241-b993-a07cce647ab1",
   "metadata": {
    "jp-MarkdownHeadingCollapsed": true
   },
   "source": [
    "# Type 5 of the projection"
   ]
  },
  {
   "cell_type": "code",
   "execution_count": 46,
   "id": "79cc4447-d47f-4371-9775-01e728a8ecfe",
   "metadata": {},
   "outputs": [],
   "source": [
    "C1 = copy.deepcopy(C0)\n",
    "C = C1\n",
    "t=5"
   ]
  },
  {
   "cell_type": "code",
   "execution_count": 47,
   "id": "04f88b3c-c6e2-4486-a458-674377631ab9",
   "metadata": {},
   "outputs": [
    {
     "data": {
      "text/latex": [
       "$\\displaystyle \\left[\\begin{matrix}1 & 0 & -1 & x - 1 & 2 x - 1 & x\\\\0 & 1 & 0 & -1 & -2 & -1\\end{matrix}\\right]$"
      ],
      "text/plain": [
       "Matrix([\n",
       "[1, 0, -1, x - 1, 2*x - 1,  x],\n",
       "[0, 1,  0,    -1,      -2, -1]])"
      ]
     },
     "metadata": {},
     "output_type": "display_data"
    }
   ],
   "source": [
    "fans_hex[t]=fans_hex[t].subs(sp.Symbol('d'), x) # to distinguish indeterminates\n",
    "display(fans_hex[t])"
   ]
  },
  {
   "cell_type": "code",
   "execution_count": 48,
   "id": "96dcace1-fef5-4782-bab5-8cb6f989a15f",
   "metadata": {},
   "outputs": [
    {
     "data": {
      "text/latex": [
       "$\\displaystyle \\left[\\begin{matrix}1 & 0 & -1 & b_{1} & c_{1} & d_{1}\\\\0 & 1 & a_{2} & b_{2} & c_{2} & -1\\end{matrix}\\right] = \\left[\\begin{matrix}1 & 0 & -1 & x - 1 & 2 x - 1 & x\\\\0 & 1 & 0 & -1 & -2 & -1\\end{matrix}\\right]$"
      ],
      "text/plain": [
       "Eq(Matrix([\n",
       "[1, 0, -1, b1, c1, d1],\n",
       "[0, 1, a2, b2, c2, -1]]), Matrix([\n",
       "[1, 0, -1, x - 1, 2*x - 1,  x],\n",
       "[0, 1,  0,    -1,      -2, -1]]))"
      ]
     },
     "metadata": {},
     "output_type": "display_data"
    }
   ],
   "source": [
    "proj = C.proj([1])\n",
    "with sp.evaluate(False):\n",
    "    display(sp.Eq(proj, fans_hex[t]))\n",
    "\n",
    "C.subs(a2, 0)\n",
    "C.subs(b1, d1-1)\n",
    "C.subs(b2, -1)\n",
    "C.subs(c1, 2*d1-1)\n",
    "C.subs(c2, -2)"
   ]
  },
  {
   "cell_type": "code",
   "execution_count": 49,
   "id": "484de300-a5b6-42cb-b3df-bca87988394e",
   "metadata": {},
   "outputs": [
    {
     "name": "stdout",
     "output_type": "stream",
     "text": [
      "facet number: 7\n"
     ]
    },
    {
     "data": {
      "text/latex": [
       "$\\displaystyle - c_{0} - 2 = -1$"
      ],
      "text/plain": [
       "Eq(-c0 - 2, -1)"
      ]
     },
     "metadata": {},
     "output_type": "display_data"
    }
   ],
   "source": [
    "i=7\n",
    "print('facet number:', i)\n",
    "display(sp.Eq(C.determinants[i], C.orientation[i]))\n",
    "\n",
    "C.subs(c0, -1)"
   ]
  },
  {
   "cell_type": "code",
   "execution_count": 50,
   "id": "ca9fa6ea-59bb-4b61-9110-8b0c34c994ed",
   "metadata": {},
   "outputs": [
    {
     "name": "stdout",
     "output_type": "stream",
     "text": [
      "facet number: 8\n"
     ]
    },
    {
     "data": {
      "text/latex": [
       "$\\displaystyle - 2 d_{0} - 1 = -1$"
      ],
      "text/plain": [
       "Eq(-2*d0 - 1, -1)"
      ]
     },
     "metadata": {},
     "output_type": "display_data"
    }
   ],
   "source": [
    "i=8\n",
    "print('facet number:', i)\n",
    "display(sp.Eq(C.determinants[i], C.orientation[i]))\n",
    "\n",
    "C.subs(d0, 0)"
   ]
  },
  {
   "cell_type": "code",
   "execution_count": 51,
   "id": "2a17e82d-f241-4f03-a1eb-b5b3725957fd",
   "metadata": {},
   "outputs": [
    {
     "name": "stdout",
     "output_type": "stream",
     "text": [
      "facet number: 9\n"
     ]
    },
    {
     "data": {
      "text/latex": [
       "$\\displaystyle a_{0} d_{1} - a_{0} - 1 = -1$"
      ],
      "text/plain": [
       "Eq(a0*d1 - a0 - 1, -1)"
      ]
     },
     "metadata": {},
     "output_type": "display_data"
    },
    {
     "name": "stdout",
     "output_type": "stream",
     "text": [
      "d1=0 => type 1\n"
     ]
    }
   ],
   "source": [
    "i=9\n",
    "print('facet number:', i)\n",
    "display(sp.Eq(C.determinants[i], C.orientation[i]))\n",
    "\n",
    "print('d1=0 => type 1')\n",
    "C.subs(a0, 0)"
   ]
  },
  {
   "cell_type": "code",
   "execution_count": 52,
   "id": "6816d527-06a0-4a8b-af8f-960ce12e85cf",
   "metadata": {},
   "outputs": [
    {
     "data": {
      "text/latex": [
       "$\\displaystyle \\left[\\begin{matrix}1 & 0 & 0 & 0 & -1 & -1 & 0\\\\0 & 1 & 0 & -1 & d_{1} - 1 & 2 d_{1} - 1 & d_{1}\\\\0 & 0 & 1 & 0 & -1 & -2 & -1\\end{matrix}\\right]$"
      ],
      "text/plain": [
       "Matrix([\n",
       "[1, 0, 0,  0,     -1,       -1,  0],\n",
       "[0, 1, 0, -1, d1 - 1, 2*d1 - 1, d1],\n",
       "[0, 0, 1,  0,     -1,       -2, -1]])"
      ]
     },
     "metadata": {},
     "output_type": "display_data"
    },
    {
     "data": {
      "text/plain": [
       "1"
      ]
     },
     "execution_count": 52,
     "metadata": {},
     "output_type": "execute_result"
    }
   ],
   "source": [
    "display(C.char)\n",
    "C.is_fangiving"
   ]
  },
  {
   "cell_type": "code",
   "execution_count": 53,
   "id": "2bcfa291-e0a3-4a16-b144-ea4687bf7447",
   "metadata": {},
   "outputs": [],
   "source": [
    "fans.append(C.char)"
   ]
  },
  {
   "cell_type": "markdown",
   "id": "f7153dde-d4ef-46ce-ba94-0e92f9c86e07",
   "metadata": {
    "jp-MarkdownHeadingCollapsed": true
   },
   "source": [
    "# Type 6 of the projection"
   ]
  },
  {
   "cell_type": "code",
   "execution_count": 54,
   "id": "77ed16ce-e0a8-4f8d-93ad-2aa3bbf55e60",
   "metadata": {},
   "outputs": [],
   "source": [
    "C1 = copy.deepcopy(C0)\n",
    "C = C1\n",
    "t=6"
   ]
  },
  {
   "cell_type": "code",
   "execution_count": 55,
   "id": "39f11a70-c1a0-4aa1-a70d-86f2c606e6e2",
   "metadata": {},
   "outputs": [
    {
     "data": {
      "text/latex": [
       "$\\displaystyle \\left[\\begin{matrix}1 & 0 & -1 & -2 & - 2 x - 1 & 2\\\\0 & 1 & 1 & 1 & x & -1\\end{matrix}\\right]$"
      ],
      "text/plain": [
       "Matrix([\n",
       "[1, 0, -1, -2, -2*x - 1,  2],\n",
       "[0, 1,  1,  1,        x, -1]])"
      ]
     },
     "metadata": {},
     "output_type": "display_data"
    }
   ],
   "source": [
    "fans_hex[t]=fans_hex[t].subs(sp.Symbol('c'), x) # to distinguish indeterminates\n",
    "display(fans_hex[t])"
   ]
  },
  {
   "cell_type": "code",
   "execution_count": 56,
   "id": "2d3f0bb1-ccdc-4049-804f-6f2b355814a5",
   "metadata": {},
   "outputs": [
    {
     "data": {
      "text/latex": [
       "$\\displaystyle \\left[\\begin{matrix}1 & 0 & -1 & b_{1} & c_{1} & d_{1}\\\\0 & 1 & a_{2} & b_{2} & c_{2} & -1\\end{matrix}\\right] = \\left[\\begin{matrix}1 & 0 & -1 & -2 & - 2 x - 1 & 2\\\\0 & 1 & 1 & 1 & x & -1\\end{matrix}\\right]$"
      ],
      "text/plain": [
       "Eq(Matrix([\n",
       "[1, 0, -1, b1, c1, d1],\n",
       "[0, 1, a2, b2, c2, -1]]), Matrix([\n",
       "[1, 0, -1, -2, -2*x - 1,  2],\n",
       "[0, 1,  1,  1,        x, -1]]))"
      ]
     },
     "metadata": {},
     "output_type": "display_data"
    }
   ],
   "source": [
    "proj = C.proj([1])\n",
    "with sp.evaluate(False):\n",
    "    display(sp.Eq(proj, fans_hex[t]))\n",
    "\n",
    "C.subs(a2, 1)\n",
    "C.subs(b1, -2)\n",
    "C.subs(b2, 1)\n",
    "C.subs(c1, -2*c2-1)\n",
    "C.subs(d1, 2)"
   ]
  },
  {
   "cell_type": "code",
   "execution_count": 57,
   "id": "87bf9878-7901-451d-a0c3-7aa1898f84de",
   "metadata": {},
   "outputs": [
    {
     "name": "stdout",
     "output_type": "stream",
     "text": [
      "facet number: 9\n"
     ]
    },
    {
     "data": {
      "text/latex": [
       "$\\displaystyle - 2 a_{0} - 1 = -1$"
      ],
      "text/plain": [
       "Eq(-2*a0 - 1, -1)"
      ]
     },
     "metadata": {},
     "output_type": "display_data"
    }
   ],
   "source": [
    "i=9\n",
    "print('facet number:', i)\n",
    "display(sp.Eq(C.determinants[i], C.orientation[i]))\n",
    "\n",
    "C.subs(a0, 0)"
   ]
  },
  {
   "cell_type": "code",
   "execution_count": 58,
   "id": "cb8899bf-4504-43c6-8c59-36eb670fa1ff",
   "metadata": {},
   "outputs": [
    {
     "name": "stdout",
     "output_type": "stream",
     "text": [
      "facet number: 7\n"
     ]
    },
    {
     "data": {
      "text/latex": [
       "$\\displaystyle c_{0} + c_{2} = -1$"
      ],
      "text/plain": [
       "Eq(c0 + c2, -1)"
      ]
     },
     "metadata": {},
     "output_type": "display_data"
    }
   ],
   "source": [
    "i=7\n",
    "print('facet number:', i)\n",
    "display(sp.Eq(C.determinants[i], C.orientation[i]))\n",
    "\n",
    "C.subs(c0, -c2-1)"
   ]
  },
  {
   "cell_type": "code",
   "execution_count": 60,
   "id": "63fcb26d-a810-4eec-8893-d3d1280ab54d",
   "metadata": {},
   "outputs": [
    {
     "name": "stdout",
     "output_type": "stream",
     "text": [
      "facet number: 8\n"
     ]
    },
    {
     "data": {
      "text/latex": [
       "$\\displaystyle c_{2} d_{0} - c_{2} - 1 = -1$"
      ],
      "text/plain": [
       "Eq(c2*d0 - c2 - 1, -1)"
      ]
     },
     "metadata": {},
     "output_type": "display_data"
    },
    {
     "name": "stdout",
     "output_type": "stream",
     "text": [
      "c2=0 => type 2\n"
     ]
    }
   ],
   "source": [
    "i=8\n",
    "print('facet number:', i)\n",
    "display(sp.Eq(C.determinants[i], C.orientation[i]))\n",
    "\n",
    "print('c2=0 => type 2')\n",
    "C.subs(d0, 1)"
   ]
  },
  {
   "cell_type": "code",
   "execution_count": 61,
   "id": "8cdc6dc6-005a-4576-a7cf-1b61f909cc5f",
   "metadata": {},
   "outputs": [
    {
     "data": {
      "text/latex": [
       "$\\displaystyle \\left[\\begin{matrix}1 & 0 & 0 & 0 & -1 & - c_{2} - 1 & 1\\\\0 & 1 & 0 & -1 & -2 & - 2 c_{2} - 1 & 2\\\\0 & 0 & 1 & 1 & 1 & c_{2} & -1\\end{matrix}\\right]$"
      ],
      "text/plain": [
       "Matrix([\n",
       "[1, 0, 0,  0, -1,   -c2 - 1,  1],\n",
       "[0, 1, 0, -1, -2, -2*c2 - 1,  2],\n",
       "[0, 0, 1,  1,  1,        c2, -1]])"
      ]
     },
     "metadata": {},
     "output_type": "display_data"
    },
    {
     "data": {
      "text/plain": [
       "1"
      ]
     },
     "execution_count": 61,
     "metadata": {},
     "output_type": "execute_result"
    }
   ],
   "source": [
    "display(C.char)\n",
    "C.is_fangiving"
   ]
  },
  {
   "cell_type": "code",
   "execution_count": 62,
   "id": "2f784cb6-1c44-411f-ba45-80b2e2fd4ba0",
   "metadata": {},
   "outputs": [],
   "source": [
    "fans.append(C.char)"
   ]
  },
  {
   "cell_type": "markdown",
   "id": "8e5ce670-222d-4349-9254-e2d3d1843ed8",
   "metadata": {
    "jp-MarkdownHeadingCollapsed": true
   },
   "source": [
    "# Type 7 of the projection"
   ]
  },
  {
   "cell_type": "code",
   "execution_count": 63,
   "id": "859e9c7f-0950-4bab-a60b-8047efbf34aa",
   "metadata": {},
   "outputs": [],
   "source": [
    "C1 = copy.deepcopy(C0)\n",
    "C = C1\n",
    "t=7"
   ]
  },
  {
   "cell_type": "code",
   "execution_count": 64,
   "id": "d34b3226-f9c2-4488-8d2e-f51886d3f583",
   "metadata": {},
   "outputs": [
    {
     "data": {
      "text/latex": [
       "$\\displaystyle \\left[\\begin{matrix}1 & 0 & -1 & -1 & x - 1 & x\\\\0 & 1 & 1 & 0 & -1 & -1\\end{matrix}\\right]$"
      ],
      "text/plain": [
       "Matrix([\n",
       "[1, 0, -1, -1, x - 1,  x],\n",
       "[0, 1,  1,  0,    -1, -1]])"
      ]
     },
     "metadata": {},
     "output_type": "display_data"
    }
   ],
   "source": [
    "fans_hex[t]=fans_hex[t].subs(sp.Symbol('d'), x) # to distinguish indeterminates\n",
    "display(fans_hex[t])"
   ]
  },
  {
   "cell_type": "code",
   "execution_count": 65,
   "id": "b3af95e3-9bc5-4c8c-b3f7-c883b34e46a7",
   "metadata": {},
   "outputs": [
    {
     "data": {
      "text/latex": [
       "$\\displaystyle \\left[\\begin{matrix}1 & 0 & -1 & b_{1} & c_{1} & d_{1}\\\\0 & 1 & a_{2} & b_{2} & c_{2} & -1\\end{matrix}\\right] = \\left[\\begin{matrix}1 & 0 & -1 & -1 & x - 1 & x\\\\0 & 1 & 1 & 0 & -1 & -1\\end{matrix}\\right]$"
      ],
      "text/plain": [
       "Eq(Matrix([\n",
       "[1, 0, -1, b1, c1, d1],\n",
       "[0, 1, a2, b2, c2, -1]]), Matrix([\n",
       "[1, 0, -1, -1, x - 1,  x],\n",
       "[0, 1,  1,  0,    -1, -1]]))"
      ]
     },
     "metadata": {},
     "output_type": "display_data"
    }
   ],
   "source": [
    "proj = C.proj([1])\n",
    "with sp.evaluate(False):\n",
    "    display(sp.Eq(proj, fans_hex[t]))\n",
    "\n",
    "C.subs(a2, 1)\n",
    "C.subs(b1, -1)\n",
    "C.subs(b2, 0)\n",
    "C.subs(c1, d1-1)\n",
    "C.subs(c2, -1)"
   ]
  },
  {
   "cell_type": "code",
   "execution_count": 66,
   "id": "f082386d-f95b-4077-b439-60efba5c78c0",
   "metadata": {},
   "outputs": [
    {
     "name": "stdout",
     "output_type": "stream",
     "text": [
      "facet number: 9\n"
     ]
    },
    {
     "data": {
      "text/latex": [
       "$\\displaystyle - a_{0} - 1 = -1$"
      ],
      "text/plain": [
       "Eq(-a0 - 1, -1)"
      ]
     },
     "metadata": {},
     "output_type": "display_data"
    }
   ],
   "source": [
    "i=9\n",
    "print('facet number:', i)\n",
    "display(sp.Eq(C.determinants[i], C.orientation[i]))\n",
    "\n",
    "C.subs(a0, 0)"
   ]
  },
  {
   "cell_type": "code",
   "execution_count": 67,
   "id": "aaf9ab31-46b0-42b0-95c3-74e59629bc1d",
   "metadata": {},
   "outputs": [
    {
     "name": "stdout",
     "output_type": "stream",
     "text": [
      "facet number: 8\n"
     ]
    },
    {
     "data": {
      "text/latex": [
       "$\\displaystyle c_{0} - d_{0} = -1$"
      ],
      "text/plain": [
       "Eq(c0 - d0, -1)"
      ]
     },
     "metadata": {},
     "output_type": "display_data"
    }
   ],
   "source": [
    "i=8\n",
    "print('facet number:', i)\n",
    "display(sp.Eq(C.determinants[i], C.orientation[i]))\n",
    "\n",
    "C.subs(c0, d0-1)"
   ]
  },
  {
   "cell_type": "code",
   "execution_count": 68,
   "id": "17a43177-1ac5-4931-b639-01d2c89ad4ab",
   "metadata": {},
   "outputs": [
    {
     "data": {
      "text/latex": [
       "$\\displaystyle \\left[\\begin{matrix}1 & 0 & 0 & 0 & -1 & d_{0} - 1 & d_{0}\\\\0 & 1 & 0 & -1 & -1 & d_{1} - 1 & d_{1}\\\\0 & 0 & 1 & 1 & 0 & -1 & -1\\end{matrix}\\right]$"
      ],
      "text/plain": [
       "Matrix([\n",
       "[1, 0, 0,  0, -1, d0 - 1, d0],\n",
       "[0, 1, 0, -1, -1, d1 - 1, d1],\n",
       "[0, 0, 1,  1,  0,     -1, -1]])"
      ]
     },
     "metadata": {},
     "output_type": "display_data"
    },
    {
     "data": {
      "text/plain": [
       "1"
      ]
     },
     "execution_count": 68,
     "metadata": {},
     "output_type": "execute_result"
    }
   ],
   "source": [
    "display(C.char)\n",
    "C.is_fangiving"
   ]
  },
  {
   "cell_type": "code",
   "execution_count": 69,
   "id": "83b7b5a4-80db-4e38-a285-0ea780e61c24",
   "metadata": {},
   "outputs": [],
   "source": [
    "fans.append(C.char)"
   ]
  },
  {
   "cell_type": "markdown",
   "id": "8e81669b-ce82-4a5b-bff1-da643c4c5e01",
   "metadata": {
    "jp-MarkdownHeadingCollapsed": true
   },
   "source": [
    "# Type 8 of the projection"
   ]
  },
  {
   "cell_type": "code",
   "execution_count": 76,
   "id": "61d7490b-f9a8-415d-86ed-48503ad3aba9",
   "metadata": {},
   "outputs": [],
   "source": [
    "C1 = copy.deepcopy(C0)\n",
    "C = C1\n",
    "t=8"
   ]
  },
  {
   "cell_type": "code",
   "execution_count": 77,
   "id": "cb1fbcc8-92c6-4590-bdc6-bf21e3ccba8c",
   "metadata": {},
   "outputs": [
    {
     "data": {
      "text/latex": [
       "$\\displaystyle \\left[\\begin{matrix}1 & 0 & -1 & x & 1 & 2\\\\0 & 1 & 1 & - x - 1 & -1 & -1\\end{matrix}\\right]$"
      ],
      "text/plain": [
       "Matrix([\n",
       "[1, 0, -1,      x,  1,  2],\n",
       "[0, 1,  1, -x - 1, -1, -1]])"
      ]
     },
     "metadata": {},
     "output_type": "display_data"
    }
   ],
   "source": [
    "fans_hex[t]=fans_hex[t].subs(sp.Symbol('b'), x) # to distinguish indeterminates\n",
    "display(fans_hex[t])"
   ]
  },
  {
   "cell_type": "code",
   "execution_count": 78,
   "id": "7fc8a3b3-1304-4032-9a3e-648d2a1b2301",
   "metadata": {},
   "outputs": [
    {
     "data": {
      "text/latex": [
       "$\\displaystyle \\left[\\begin{matrix}1 & 0 & -1 & b_{1} & c_{1} & d_{1}\\\\0 & 1 & a_{2} & b_{2} & c_{2} & -1\\end{matrix}\\right] = \\left[\\begin{matrix}1 & 0 & -1 & x & 1 & 2\\\\0 & 1 & 1 & - x - 1 & -1 & -1\\end{matrix}\\right]$"
      ],
      "text/plain": [
       "Eq(Matrix([\n",
       "[1, 0, -1, b1, c1, d1],\n",
       "[0, 1, a2, b2, c2, -1]]), Matrix([\n",
       "[1, 0, -1,      x,  1,  2],\n",
       "[0, 1,  1, -x - 1, -1, -1]]))"
      ]
     },
     "metadata": {},
     "output_type": "display_data"
    }
   ],
   "source": [
    "proj = C.proj([1])\n",
    "with sp.evaluate(False):\n",
    "    display(sp.Eq(proj, fans_hex[t]))\n",
    "\n",
    "C.subs(a2, 1)\n",
    "C.subs(b2, -b1-1)\n",
    "C.subs(c1, 1)\n",
    "C.subs(c2, -1)\n",
    "C.subs(d1, 2)"
   ]
  },
  {
   "cell_type": "code",
   "execution_count": 79,
   "id": "a26bf736-ca22-40f4-9c5a-6f9e89e1624c",
   "metadata": {},
   "outputs": [
    {
     "name": "stdout",
     "output_type": "stream",
     "text": [
      "facet number: 8\n"
     ]
    },
    {
     "data": {
      "text/latex": [
       "$\\displaystyle c_{0} - d_{0} = -1$"
      ],
      "text/plain": [
       "Eq(c0 - d0, -1)"
      ]
     },
     "metadata": {},
     "output_type": "display_data"
    }
   ],
   "source": [
    "i=8\n",
    "print('facet number:', i)\n",
    "display(sp.Eq(C.determinants[i], C.orientation[i]))\n",
    "\n",
    "C.subs(c0, d0-1)"
   ]
  },
  {
   "cell_type": "code",
   "execution_count": 80,
   "id": "3c765fdf-510a-4b40-9921-f29f5b7bae5e",
   "metadata": {},
   "outputs": [
    {
     "name": "stdout",
     "output_type": "stream",
     "text": [
      "facet number: 7\n"
     ]
    },
    {
     "data": {
      "text/latex": [
       "$\\displaystyle - b_{1} d_{0} + b_{1} - d_{0} = -1$"
      ],
      "text/plain": [
       "Eq(-b1*d0 + b1 - d0, -1)"
      ]
     },
     "metadata": {},
     "output_type": "display_data"
    },
    {
     "name": "stdout",
     "output_type": "stream",
     "text": [
      "b1=-1 => type 7\n"
     ]
    }
   ],
   "source": [
    "i=7 # (b1+1)(d0-1)=0\n",
    "print('facet number:', i)\n",
    "display(sp.Eq(C.determinants[i], C.orientation[i]))\n",
    "\n",
    "print('b1=-1 => type 7')\n",
    "C.subs(d0, 1)"
   ]
  },
  {
   "cell_type": "code",
   "execution_count": 81,
   "id": "ae5ac745-9b85-4ace-9fb9-76cc3a335df0",
   "metadata": {},
   "outputs": [
    {
     "name": "stdout",
     "output_type": "stream",
     "text": [
      "facet number: 9\n"
     ]
    },
    {
     "data": {
      "text/latex": [
       "$\\displaystyle a_{0} b_{1} - 1 = -1$"
      ],
      "text/plain": [
       "Eq(a0*b1 - 1, -1)"
      ]
     },
     "metadata": {},
     "output_type": "display_data"
    },
    {
     "name": "stdout",
     "output_type": "stream",
     "text": [
      "b1=0 => type 0\n"
     ]
    }
   ],
   "source": [
    "i=9\n",
    "print('facet number:', i)\n",
    "display(sp.Eq(C.determinants[i], C.orientation[i]))\n",
    "\n",
    "print('b1=0 => type 0')\n",
    "C.subs(a0, 0)"
   ]
  },
  {
   "cell_type": "code",
   "execution_count": 82,
   "id": "d0f2824b-b2e9-4ac6-bd87-10f0c7436db2",
   "metadata": {},
   "outputs": [
    {
     "data": {
      "text/latex": [
       "$\\displaystyle \\left[\\begin{matrix}1 & 0 & 0 & 0 & -1 & 0 & 1\\\\0 & 1 & 0 & -1 & b_{1} & 1 & 2\\\\0 & 0 & 1 & 1 & - b_{1} - 1 & -1 & -1\\end{matrix}\\right]$"
      ],
      "text/plain": [
       "Matrix([\n",
       "[1, 0, 0,  0,      -1,  0,  1],\n",
       "[0, 1, 0, -1,      b1,  1,  2],\n",
       "[0, 0, 1,  1, -b1 - 1, -1, -1]])"
      ]
     },
     "metadata": {},
     "output_type": "display_data"
    },
    {
     "data": {
      "text/plain": [
       "1"
      ]
     },
     "execution_count": 82,
     "metadata": {},
     "output_type": "execute_result"
    }
   ],
   "source": [
    "display(C.char)\n",
    "C.is_fangiving"
   ]
  },
  {
   "cell_type": "code",
   "execution_count": 83,
   "id": "8f5019c0-3925-4767-97e6-d21624e4bd0a",
   "metadata": {},
   "outputs": [],
   "source": [
    "fans.append(C.char)"
   ]
  },
  {
   "cell_type": "markdown",
   "id": "a68944ab-57a2-4eb7-ada4-5c94db593962",
   "metadata": {
    "jp-MarkdownHeadingCollapsed": true
   },
   "source": [
    "# Type 9 of the projection"
   ]
  },
  {
   "cell_type": "code",
   "execution_count": 84,
   "id": "b7828cf9-776f-4ca7-b553-45467e8c8cab",
   "metadata": {},
   "outputs": [],
   "source": [
    "C1 = copy.deepcopy(C0)\n",
    "C = C1\n",
    "t=9"
   ]
  },
  {
   "cell_type": "code",
   "execution_count": 85,
   "id": "97697da9-5597-48c5-9494-a0c706672eec",
   "metadata": {},
   "outputs": [
    {
     "data": {
      "text/latex": [
       "$\\displaystyle \\left[\\begin{matrix}1 & 0 & -1 & - x - 2 & - x - 1 & 1\\\\0 & 1 & 1 & x + 1 & x & -1\\end{matrix}\\right]$"
      ],
      "text/plain": [
       "Matrix([\n",
       "[1, 0, -1, -x - 2, -x - 1,  1],\n",
       "[0, 1,  1,  x + 1,      x, -1]])"
      ]
     },
     "metadata": {},
     "output_type": "display_data"
    }
   ],
   "source": [
    "fans_hex[t]=fans_hex[t].subs(sp.Symbol('c'), x) # to distinguish indeterminates\n",
    "display(fans_hex[t])"
   ]
  },
  {
   "cell_type": "code",
   "execution_count": 86,
   "id": "2f89f6be-9e09-423b-9230-9f6032491170",
   "metadata": {},
   "outputs": [
    {
     "data": {
      "text/latex": [
       "$\\displaystyle \\left[\\begin{matrix}1 & 0 & -1 & b_{1} & c_{1} & d_{1}\\\\0 & 1 & a_{2} & b_{2} & c_{2} & -1\\end{matrix}\\right] = \\left[\\begin{matrix}1 & 0 & -1 & - x - 2 & - x - 1 & 1\\\\0 & 1 & 1 & x + 1 & x & -1\\end{matrix}\\right]$"
      ],
      "text/plain": [
       "Eq(Matrix([\n",
       "[1, 0, -1, b1, c1, d1],\n",
       "[0, 1, a2, b2, c2, -1]]), Matrix([\n",
       "[1, 0, -1, -x - 2, -x - 1,  1],\n",
       "[0, 1,  1,  x + 1,      x, -1]]))"
      ]
     },
     "metadata": {},
     "output_type": "display_data"
    }
   ],
   "source": [
    "proj = C.proj([1])\n",
    "with sp.evaluate(False):\n",
    "    display(sp.Eq(proj, fans_hex[t]))\n",
    "\n",
    "C.subs(a2, 1)\n",
    "C.subs(b1, -c2-2)\n",
    "C.subs(b2, c2+1)\n",
    "C.subs(c1, -c2-1)\n",
    "C.subs(d1, 1)"
   ]
  },
  {
   "cell_type": "code",
   "execution_count": 87,
   "id": "6ee88067-38cc-4eab-b6af-a1f5f235b8ea",
   "metadata": {},
   "outputs": [
    {
     "name": "stdout",
     "output_type": "stream",
     "text": [
      "facet number: 7\n"
     ]
    },
    {
     "data": {
      "text/latex": [
       "$\\displaystyle c_{0} c_{2} + c_{0} + c_{2} = -1$"
      ],
      "text/plain": [
       "Eq(c0*c2 + c0 + c2, -1)"
      ]
     },
     "metadata": {},
     "output_type": "display_data"
    },
    {
     "name": "stdout",
     "output_type": "stream",
     "text": [
      "c2=-1 => type 7\n"
     ]
    }
   ],
   "source": [
    "i=7 # (c0+1)(c2+1)=0\n",
    "print('facet number:', i)\n",
    "display(sp.Eq(C.determinants[i], C.orientation[i]))\n",
    "\n",
    "print('c2=-1 => type 7')\n",
    "C.subs(c0, -1)"
   ]
  },
  {
   "cell_type": "code",
   "execution_count": 89,
   "id": "7e63543c-e271-4b5a-97d7-b0cfc8f56ef8",
   "metadata": {},
   "outputs": [
    {
     "name": "stdout",
     "output_type": "stream",
     "text": [
      "facet number: 8\n"
     ]
    },
    {
     "data": {
      "text/latex": [
       "$\\displaystyle c_{2} d_{0} - 1 = -1$"
      ],
      "text/plain": [
       "Eq(c2*d0 - 1, -1)"
      ]
     },
     "metadata": {},
     "output_type": "display_data"
    },
    {
     "name": "stdout",
     "output_type": "stream",
     "text": [
      "c2=0 => type 2\n"
     ]
    }
   ],
   "source": [
    "i=8\n",
    "print('facet number:', i)\n",
    "display(sp.Eq(C.determinants[i], C.orientation[i]))\n",
    "\n",
    "print('c2=0 => type 2')\n",
    "C.subs(d0, 0)"
   ]
  },
  {
   "cell_type": "code",
   "execution_count": 91,
   "id": "bccf5388-7cbe-4610-a6e4-d42c5d003046",
   "metadata": {},
   "outputs": [
    {
     "name": "stdout",
     "output_type": "stream",
     "text": [
      "facet number: 9\n"
     ]
    },
    {
     "data": {
      "text/latex": [
       "$\\displaystyle - a_{0} c_{2} - 2 a_{0} - 1 = -1$"
      ],
      "text/plain": [
       "Eq(-a0*c2 - 2*a0 - 1, -1)"
      ]
     },
     "metadata": {},
     "output_type": "display_data"
    },
    {
     "name": "stdout",
     "output_type": "stream",
     "text": [
      "c2=-2 => type 1\n"
     ]
    }
   ],
   "source": [
    "i=9\n",
    "print('facet number:', i)\n",
    "display(sp.Eq(C.determinants[i], C.orientation[i]))\n",
    "\n",
    "print('c2=-2 => type 1')\n",
    "C.subs(a0, 0)"
   ]
  },
  {
   "cell_type": "code",
   "execution_count": 92,
   "id": "bcafb2dd-3aa9-418d-b414-2071988a3829",
   "metadata": {},
   "outputs": [
    {
     "data": {
      "text/latex": [
       "$\\displaystyle \\left[\\begin{matrix}1 & 0 & 0 & 0 & -1 & -1 & 0\\\\0 & 1 & 0 & -1 & - c_{2} - 2 & - c_{2} - 1 & 1\\\\0 & 0 & 1 & 1 & c_{2} + 1 & c_{2} & -1\\end{matrix}\\right]$"
      ],
      "text/plain": [
       "Matrix([\n",
       "[1, 0, 0,  0,      -1,      -1,  0],\n",
       "[0, 1, 0, -1, -c2 - 2, -c2 - 1,  1],\n",
       "[0, 0, 1,  1,  c2 + 1,      c2, -1]])"
      ]
     },
     "metadata": {},
     "output_type": "display_data"
    },
    {
     "data": {
      "text/plain": [
       "1"
      ]
     },
     "execution_count": 92,
     "metadata": {},
     "output_type": "execute_result"
    }
   ],
   "source": [
    "display(C.char)\n",
    "C.is_fangiving"
   ]
  },
  {
   "cell_type": "code",
   "execution_count": 93,
   "id": "cb055a4b-a577-46ea-92cf-f8152539cf1f",
   "metadata": {},
   "outputs": [],
   "source": [
    "fans.append(C.char)"
   ]
  },
  {
   "cell_type": "markdown",
   "id": "fc3aaeff-2a73-454d-9adf-58504364ab52",
   "metadata": {
    "jp-MarkdownHeadingCollapsed": true
   },
   "source": [
    "# Type 10 of the projection"
   ]
  },
  {
   "cell_type": "code",
   "execution_count": 94,
   "id": "f9bf005b-6c8c-4f83-8c1d-943599be863f",
   "metadata": {},
   "outputs": [],
   "source": [
    "C1 = copy.deepcopy(C0)\n",
    "C = C1\n",
    "t=10"
   ]
  },
  {
   "cell_type": "code",
   "execution_count": 95,
   "id": "d7a5de54-d66c-4368-8b96-ee44775cfd01",
   "metadata": {},
   "outputs": [
    {
     "data": {
      "text/latex": [
       "$\\displaystyle \\left[\\begin{matrix}1 & 0 & -1 & -1 & -1 & 0\\\\0 & 1 & x + 2 & x + 1 & x & -1\\end{matrix}\\right]$"
      ],
      "text/plain": [
       "Matrix([\n",
       "[1, 0,    -1,    -1, -1,  0],\n",
       "[0, 1, x + 2, x + 1,  x, -1]])"
      ]
     },
     "metadata": {},
     "output_type": "display_data"
    }
   ],
   "source": [
    "fans_hex[t]=fans_hex[t].subs(sp.Symbol('c'), x) # to distinguish indeterminates\n",
    "display(fans_hex[t])"
   ]
  },
  {
   "cell_type": "code",
   "execution_count": 96,
   "id": "323255e9-95dc-4911-9072-7459195e80ea",
   "metadata": {},
   "outputs": [
    {
     "data": {
      "text/latex": [
       "$\\displaystyle \\left[\\begin{matrix}1 & 0 & -1 & b_{1} & c_{1} & d_{1}\\\\0 & 1 & a_{2} & b_{2} & c_{2} & -1\\end{matrix}\\right] = \\left[\\begin{matrix}1 & 0 & -1 & -1 & -1 & 0\\\\0 & 1 & x + 2 & x + 1 & x & -1\\end{matrix}\\right]$"
      ],
      "text/plain": [
       "Eq(Matrix([\n",
       "[1, 0, -1, b1, c1, d1],\n",
       "[0, 1, a2, b2, c2, -1]]), Matrix([\n",
       "[1, 0,    -1,    -1, -1,  0],\n",
       "[0, 1, x + 2, x + 1,  x, -1]]))"
      ]
     },
     "metadata": {},
     "output_type": "display_data"
    }
   ],
   "source": [
    "proj = C.proj([1])\n",
    "with sp.evaluate(False):\n",
    "    display(sp.Eq(proj, fans_hex[t]))\n",
    "\n",
    "C.subs(a2, c2+2)\n",
    "C.subs(b1, -1)\n",
    "C.subs(b2, c2+1)\n",
    "C.subs(c1, -1)\n",
    "C.subs(d1, 0)"
   ]
  },
  {
   "cell_type": "code",
   "execution_count": 97,
   "id": "fb3224ea-e3a4-4bbb-904f-8940adcd644c",
   "metadata": {},
   "outputs": [
    {
     "name": "stdout",
     "output_type": "stream",
     "text": [
      "facet number: 9\n"
     ]
    },
    {
     "data": {
      "text/latex": [
       "$\\displaystyle - a_{0} - 1 = -1$"
      ],
      "text/plain": [
       "Eq(-a0 - 1, -1)"
      ]
     },
     "metadata": {},
     "output_type": "display_data"
    }
   ],
   "source": [
    "i=9\n",
    "print('facet number:', i)\n",
    "display(sp.Eq(C.determinants[i], C.orientation[i]))\n",
    "\n",
    "C.subs(a0, 0)"
   ]
  },
  {
   "cell_type": "code",
   "execution_count": 98,
   "id": "8d88dbc5-168d-4565-a809-16452fb442b3",
   "metadata": {},
   "outputs": [
    {
     "name": "stdout",
     "output_type": "stream",
     "text": [
      "facet number: 7\n"
     ]
    },
    {
     "data": {
      "text/latex": [
       "$\\displaystyle c_{0} c_{2} + c_{0} + c_{2} = -1$"
      ],
      "text/plain": [
       "Eq(c0*c2 + c0 + c2, -1)"
      ]
     },
     "metadata": {},
     "output_type": "display_data"
    },
    {
     "name": "stdout",
     "output_type": "stream",
     "text": [
      "c2=-1 => type 7\n"
     ]
    }
   ],
   "source": [
    "i=7 # (c0+1)(c2+1)=0\n",
    "print('facet number:', i)\n",
    "display(sp.Eq(C.determinants[i], C.orientation[i]))\n",
    "\n",
    "print('c2=-1 => type 7')\n",
    "C.subs(c0, -1)"
   ]
  },
  {
   "cell_type": "code",
   "execution_count": 100,
   "id": "cbdf8d7d-821b-4653-aabe-ca0c2505f924",
   "metadata": {},
   "outputs": [
    {
     "name": "stdout",
     "output_type": "stream",
     "text": [
      "facet number: 8\n"
     ]
    },
    {
     "data": {
      "text/latex": [
       "$\\displaystyle c_{2} d_{0} - 1 = -1$"
      ],
      "text/plain": [
       "Eq(c2*d0 - 1, -1)"
      ]
     },
     "metadata": {},
     "output_type": "display_data"
    },
    {
     "name": "stdout",
     "output_type": "stream",
     "text": [
      "c2=0 => type 3\n"
     ]
    }
   ],
   "source": [
    "i=8\n",
    "print('facet number:', i)\n",
    "display(sp.Eq(C.determinants[i], C.orientation[i]))\n",
    "\n",
    "print('c2=0 => type 3')\n",
    "C.subs(d0, 0)"
   ]
  },
  {
   "cell_type": "code",
   "execution_count": 101,
   "id": "9a08b40d-f0bc-4b28-a6d5-18407afde364",
   "metadata": {},
   "outputs": [
    {
     "data": {
      "text/latex": [
       "$\\displaystyle \\left[\\begin{matrix}1 & 0 & 0 & 0 & -1 & -1 & 0\\\\0 & 1 & 0 & -1 & -1 & -1 & 0\\\\0 & 0 & 1 & c_{2} + 2 & c_{2} + 1 & c_{2} & -1\\end{matrix}\\right]$"
      ],
      "text/plain": [
       "Matrix([\n",
       "[1, 0, 0,      0,     -1, -1,  0],\n",
       "[0, 1, 0,     -1,     -1, -1,  0],\n",
       "[0, 0, 1, c2 + 2, c2 + 1, c2, -1]])"
      ]
     },
     "metadata": {},
     "output_type": "display_data"
    },
    {
     "data": {
      "text/plain": [
       "1"
      ]
     },
     "execution_count": 101,
     "metadata": {},
     "output_type": "execute_result"
    }
   ],
   "source": [
    "display(C.char)\n",
    "C.is_fangiving"
   ]
  },
  {
   "cell_type": "code",
   "execution_count": 102,
   "id": "fdfb1a6c-3703-4cbd-a8f3-83f2da1c1db8",
   "metadata": {},
   "outputs": [],
   "source": [
    "fans.append(C.char)"
   ]
  },
  {
   "cell_type": "markdown",
   "id": "c6c354a7-b578-45fc-9a08-cd41fb777403",
   "metadata": {
    "jp-MarkdownHeadingCollapsed": true
   },
   "source": [
    "# Type 11 of the projection"
   ]
  },
  {
   "cell_type": "code",
   "execution_count": 103,
   "id": "bfc7f651-6874-443f-aeda-8db9114f6f3c",
   "metadata": {},
   "outputs": [],
   "source": [
    "C1 = copy.deepcopy(C0)\n",
    "C = C1\n",
    "t=11"
   ]
  },
  {
   "cell_type": "code",
   "execution_count": 104,
   "id": "3b8b46c9-6c47-44aa-8daf-98581f704357",
   "metadata": {},
   "outputs": [
    {
     "data": {
      "text/latex": [
       "$\\displaystyle \\left[\\begin{matrix}1 & 0 & -1 & -2 & -1 & 0\\\\0 & 1 & x + 1 & 2 x + 1 & x & -1\\end{matrix}\\right]$"
      ],
      "text/plain": [
       "Matrix([\n",
       "[1, 0,    -1,      -2, -1,  0],\n",
       "[0, 1, x + 1, 2*x + 1,  x, -1]])"
      ]
     },
     "metadata": {},
     "output_type": "display_data"
    }
   ],
   "source": [
    "fans_hex[t]=fans_hex[t].subs(sp.Symbol('c'), x) # to distinguish indeterminates\n",
    "display(fans_hex[t])"
   ]
  },
  {
   "cell_type": "code",
   "execution_count": 105,
   "id": "8a85d1e1-816c-4ddc-9acd-1b83203625ab",
   "metadata": {},
   "outputs": [
    {
     "data": {
      "text/latex": [
       "$\\displaystyle \\left[\\begin{matrix}1 & 0 & -1 & b_{1} & c_{1} & d_{1}\\\\0 & 1 & a_{2} & b_{2} & c_{2} & -1\\end{matrix}\\right] = \\left[\\begin{matrix}1 & 0 & -1 & -2 & -1 & 0\\\\0 & 1 & x + 1 & 2 x + 1 & x & -1\\end{matrix}\\right]$"
      ],
      "text/plain": [
       "Eq(Matrix([\n",
       "[1, 0, -1, b1, c1, d1],\n",
       "[0, 1, a2, b2, c2, -1]]), Matrix([\n",
       "[1, 0,    -1,      -2, -1,  0],\n",
       "[0, 1, x + 1, 2*x + 1,  x, -1]]))"
      ]
     },
     "metadata": {},
     "output_type": "display_data"
    }
   ],
   "source": [
    "proj = C.proj([1])\n",
    "with sp.evaluate(False):\n",
    "    display(sp.Eq(proj, fans_hex[t]))\n",
    "\n",
    "C.subs(a2, c2+1)\n",
    "C.subs(b1, -2)\n",
    "C.subs(b2, 2*c2+1)\n",
    "C.subs(c1, -1)\n",
    "C.subs(d1, 0)"
   ]
  },
  {
   "cell_type": "code",
   "execution_count": 106,
   "id": "67c6614b-19e8-4a37-b52f-e2a85595bba0",
   "metadata": {},
   "outputs": [
    {
     "name": "stdout",
     "output_type": "stream",
     "text": [
      "facet number: 9\n"
     ]
    },
    {
     "data": {
      "text/latex": [
       "$\\displaystyle - 2 a_{0} - 1 = -1$"
      ],
      "text/plain": [
       "Eq(-2*a0 - 1, -1)"
      ]
     },
     "metadata": {},
     "output_type": "display_data"
    }
   ],
   "source": [
    "i=9\n",
    "print('facet number:', i)\n",
    "display(sp.Eq(C.determinants[i], C.orientation[i]))\n",
    "\n",
    "C.subs(a0, 0)"
   ]
  },
  {
   "cell_type": "code",
   "execution_count": 107,
   "id": "31ee5994-a738-4e0d-a953-f8a3068999df",
   "metadata": {},
   "outputs": [
    {
     "name": "stdout",
     "output_type": "stream",
     "text": [
      "facet number: 7\n"
     ]
    },
    {
     "data": {
      "text/latex": [
       "$\\displaystyle 2 c_{0} c_{2} + c_{0} + c_{2} = -1$"
      ],
      "text/plain": [
       "Eq(2*c0*c2 + c0 + c2, -1)"
      ]
     },
     "metadata": {},
     "output_type": "display_data"
    },
    {
     "name": "stdout",
     "output_type": "stream",
     "text": [
      "c2=0 => type 2\n",
      "c2=-1 => type 4\n"
     ]
    }
   ],
   "source": [
    "i=7 # c0 = (-c2-1)/(2c2+1) => (c2 = -1, c0 = 0) or (c2 = 0, c0 = -1)\n",
    "print('facet number:', i)\n",
    "display(sp.Eq(C.determinants[i], C.orientation[i]))\n",
    "\n",
    "print('c2=0 => type 2')\n",
    "print('c2=-1 => type 4')"
   ]
  },
  {
   "cell_type": "markdown",
   "id": "031411d6-17b7-4071-81d5-34e678ebf0c5",
   "metadata": {
    "jp-MarkdownHeadingCollapsed": true
   },
   "source": [
    "# Type 12 of the projection"
   ]
  },
  {
   "cell_type": "code",
   "execution_count": 108,
   "id": "efed4bd7-a816-4ba6-9d53-7d77ca80663a",
   "metadata": {},
   "outputs": [],
   "source": [
    "C1 = copy.deepcopy(C0)\n",
    "C = C1\n",
    "t=12"
   ]
  },
  {
   "cell_type": "code",
   "execution_count": 109,
   "id": "29a43b08-6a40-43c8-becd-bc779468a201",
   "metadata": {},
   "outputs": [
    {
     "data": {
      "text/latex": [
       "$\\displaystyle \\left[\\begin{matrix}1 & 0 & -1 & x & 1 & 1\\\\0 & 1 & 2 & - 2 x - 1 & -2 & -1\\end{matrix}\\right]$"
      ],
      "text/plain": [
       "Matrix([\n",
       "[1, 0, -1,        x,  1,  1],\n",
       "[0, 1,  2, -2*x - 1, -2, -1]])"
      ]
     },
     "metadata": {},
     "output_type": "display_data"
    }
   ],
   "source": [
    "fans_hex[t]=fans_hex[t].subs(sp.Symbol('b'), x) # to distinguish indeterminates\n",
    "display(fans_hex[t])"
   ]
  },
  {
   "cell_type": "code",
   "execution_count": 110,
   "id": "2daee8f2-cb0c-40dd-881f-020091075195",
   "metadata": {},
   "outputs": [
    {
     "data": {
      "text/latex": [
       "$\\displaystyle \\left[\\begin{matrix}1 & 0 & -1 & b_{1} & c_{1} & d_{1}\\\\0 & 1 & a_{2} & b_{2} & c_{2} & -1\\end{matrix}\\right] = \\left[\\begin{matrix}1 & 0 & -1 & x & 1 & 1\\\\0 & 1 & 2 & - 2 x - 1 & -2 & -1\\end{matrix}\\right]$"
      ],
      "text/plain": [
       "Eq(Matrix([\n",
       "[1, 0, -1, b1, c1, d1],\n",
       "[0, 1, a2, b2, c2, -1]]), Matrix([\n",
       "[1, 0, -1,        x,  1,  1],\n",
       "[0, 1,  2, -2*x - 1, -2, -1]]))"
      ]
     },
     "metadata": {},
     "output_type": "display_data"
    }
   ],
   "source": [
    "proj = C.proj([1])\n",
    "with sp.evaluate(False):\n",
    "    display(sp.Eq(proj, fans_hex[t]))\n",
    "\n",
    "C.subs(a2, 2)\n",
    "C.subs(b2, -2*b1-1)\n",
    "C.subs(c1, 1)\n",
    "C.subs(c2, -2)\n",
    "C.subs(d1, 1)"
   ]
  },
  {
   "cell_type": "code",
   "execution_count": 111,
   "id": "59dfc98c-32d2-471f-a106-477964519a64",
   "metadata": {},
   "outputs": [
    {
     "name": "stdout",
     "output_type": "stream",
     "text": [
      "facet number: 7\n"
     ]
    },
    {
     "data": {
      "text/latex": [
       "$\\displaystyle - 2 b_{1} c_{0} - c_{0} - 2 = -1$"
      ],
      "text/plain": [
       "Eq(-2*b1*c0 - c0 - 2, -1)"
      ]
     },
     "metadata": {},
     "output_type": "display_data"
    },
    {
     "name": "stdout",
     "output_type": "stream",
     "text": [
      "b1=0 => type 1\n"
     ]
    }
   ],
   "source": [
    "i=7 # c0(2b1+1) = -1\n",
    "print('facet number:', i)\n",
    "display(sp.Eq(C.determinants[i], C.orientation[i]))\n",
    "\n",
    "print('b1=0 => type 1')\n",
    "C.subs(b1, -1)\n",
    "C.subs(c0, 1)"
   ]
  },
  {
   "cell_type": "code",
   "execution_count": 112,
   "id": "fd0338ca-b480-413e-9b54-c354c9149519",
   "metadata": {},
   "outputs": [
    {
     "name": "stdout",
     "output_type": "stream",
     "text": [
      "facet number: 8\n"
     ]
    },
    {
     "data": {
      "text/latex": [
       "$\\displaystyle 1 - 2 d_{0} = -1$"
      ],
      "text/plain": [
       "Eq(1 - 2*d0, -1)"
      ]
     },
     "metadata": {},
     "output_type": "display_data"
    }
   ],
   "source": [
    "i=8\n",
    "print('facet number:', i)\n",
    "display(sp.Eq(C.determinants[i], C.orientation[i]))\n",
    "\n",
    "C.subs(d0, 1)"
   ]
  },
  {
   "cell_type": "code",
   "execution_count": 113,
   "id": "c5fe6987-3ee3-442b-91b3-5ded5bdfad92",
   "metadata": {},
   "outputs": [
    {
     "name": "stdout",
     "output_type": "stream",
     "text": [
      "facet number: 9\n"
     ]
    },
    {
     "data": {
      "text/latex": [
       "$\\displaystyle - a_{0} - 1 = -1$"
      ],
      "text/plain": [
       "Eq(-a0 - 1, -1)"
      ]
     },
     "metadata": {},
     "output_type": "display_data"
    }
   ],
   "source": [
    "i=9\n",
    "print('facet number:', i)\n",
    "display(sp.Eq(C.determinants[i], C.orientation[i]))\n",
    "\n",
    "C.subs(a0, 0)"
   ]
  },
  {
   "cell_type": "code",
   "execution_count": 114,
   "id": "afce0353-ddaa-418e-9c07-b3f65db16f77",
   "metadata": {},
   "outputs": [
    {
     "data": {
      "text/latex": [
       "$\\displaystyle \\left[\\begin{matrix}1 & 0 & 0 & 0 & -1 & 1 & 1\\\\0 & 1 & 0 & -1 & -1 & 1 & 1\\\\0 & 0 & 1 & 2 & 1 & -2 & -1\\end{matrix}\\right]$"
      ],
      "text/plain": [
       "Matrix([\n",
       "[1, 0, 0,  0, -1,  1,  1],\n",
       "[0, 1, 0, -1, -1,  1,  1],\n",
       "[0, 0, 1,  2,  1, -2, -1]])"
      ]
     },
     "metadata": {},
     "output_type": "display_data"
    },
    {
     "data": {
      "text/plain": [
       "1"
      ]
     },
     "execution_count": 114,
     "metadata": {},
     "output_type": "execute_result"
    }
   ],
   "source": [
    "display(C.char)\n",
    "C.is_fangiving"
   ]
  },
  {
   "cell_type": "code",
   "execution_count": 115,
   "id": "d95799c7-6e99-4db3-ba78-57c62de37ce8",
   "metadata": {},
   "outputs": [],
   "source": [
    "fans.append(C.char)"
   ]
  },
  {
   "cell_type": "markdown",
   "id": "1d4fe68e-47a5-40de-a1a7-7bacda1aafb3",
   "metadata": {
    "jp-MarkdownHeadingCollapsed": true
   },
   "source": [
    "# Type 13 of the projection"
   ]
  },
  {
   "cell_type": "code",
   "execution_count": 116,
   "id": "05fcd608-da54-4bf8-bf20-cf4a0d2a8340",
   "metadata": {},
   "outputs": [],
   "source": [
    "C1 = copy.deepcopy(C0)\n",
    "C = C1\n",
    "t=13"
   ]
  },
  {
   "cell_type": "code",
   "execution_count": 117,
   "id": "b15656e2-ffd6-4941-8eec-f487530989d5",
   "metadata": {},
   "outputs": [
    {
     "data": {
      "text/latex": [
       "$\\displaystyle \\left[\\begin{matrix}1 & 0 & -1 & -1 & - x - 1 & 1\\\\0 & 1 & 2 & 1 & x & -1\\end{matrix}\\right]$"
      ],
      "text/plain": [
       "Matrix([\n",
       "[1, 0, -1, -1, -x - 1,  1],\n",
       "[0, 1,  2,  1,      x, -1]])"
      ]
     },
     "metadata": {},
     "output_type": "display_data"
    }
   ],
   "source": [
    "fans_hex[t]=fans_hex[t].subs(sp.Symbol('c'), x) # to distinguish indeterminates\n",
    "display(fans_hex[t])"
   ]
  },
  {
   "cell_type": "code",
   "execution_count": 118,
   "id": "d62f70c6-6938-4776-8d47-a083a1c6880a",
   "metadata": {},
   "outputs": [
    {
     "data": {
      "text/latex": [
       "$\\displaystyle \\left[\\begin{matrix}1 & 0 & -1 & b_{1} & c_{1} & d_{1}\\\\0 & 1 & a_{2} & b_{2} & c_{2} & -1\\end{matrix}\\right] = \\left[\\begin{matrix}1 & 0 & -1 & -1 & - x - 1 & 1\\\\0 & 1 & 2 & 1 & x & -1\\end{matrix}\\right]$"
      ],
      "text/plain": [
       "Eq(Matrix([\n",
       "[1, 0, -1, b1, c1, d1],\n",
       "[0, 1, a2, b2, c2, -1]]), Matrix([\n",
       "[1, 0, -1, -1, -x - 1,  1],\n",
       "[0, 1,  2,  1,      x, -1]]))"
      ]
     },
     "metadata": {},
     "output_type": "display_data"
    }
   ],
   "source": [
    "proj = C.proj([1])\n",
    "with sp.evaluate(False):\n",
    "    display(sp.Eq(proj, fans_hex[t]))\n",
    "\n",
    "C.subs(a2, 2)\n",
    "C.subs(b1, -1)\n",
    "C.subs(b2, 1)\n",
    "C.subs(c1, -c2-1)\n",
    "C.subs(d1, 1)"
   ]
  },
  {
   "cell_type": "code",
   "execution_count": 119,
   "id": "d3144cd3-aae0-42cf-a478-eee51777eb7f",
   "metadata": {},
   "outputs": [
    {
     "name": "stdout",
     "output_type": "stream",
     "text": [
      "facet number: 9\n"
     ]
    },
    {
     "data": {
      "text/latex": [
       "$\\displaystyle - a_{0} - 1 = -1$"
      ],
      "text/plain": [
       "Eq(-a0 - 1, -1)"
      ]
     },
     "metadata": {},
     "output_type": "display_data"
    }
   ],
   "source": [
    "i=9\n",
    "print('facet number:', i)\n",
    "display(sp.Eq(C.determinants[i], C.orientation[i]))\n",
    "\n",
    "C.subs(a0, 0)"
   ]
  },
  {
   "cell_type": "code",
   "execution_count": 120,
   "id": "e1b93527-5c76-407c-8ec5-dfccac4e5d40",
   "metadata": {},
   "outputs": [
    {
     "name": "stdout",
     "output_type": "stream",
     "text": [
      "facet number: 7\n"
     ]
    },
    {
     "data": {
      "text/latex": [
       "$\\displaystyle c_{0} + c_{2} = -1$"
      ],
      "text/plain": [
       "Eq(c0 + c2, -1)"
      ]
     },
     "metadata": {},
     "output_type": "display_data"
    }
   ],
   "source": [
    "i=7\n",
    "print('facet number:', i)\n",
    "display(sp.Eq(C.determinants[i], C.orientation[i]))\n",
    "\n",
    "C.subs(c0, -c2-1)"
   ]
  },
  {
   "cell_type": "code",
   "execution_count": 121,
   "id": "a19a71cd-4a74-407a-a8f9-684465414bfa",
   "metadata": {},
   "outputs": [
    {
     "name": "stdout",
     "output_type": "stream",
     "text": [
      "facet number: 8\n"
     ]
    },
    {
     "data": {
      "text/latex": [
       "$\\displaystyle c_{2} d_{0} - c_{2} - 1 = -1$"
      ],
      "text/plain": [
       "Eq(c2*d0 - c2 - 1, -1)"
      ]
     },
     "metadata": {},
     "output_type": "display_data"
    },
    {
     "name": "stdout",
     "output_type": "stream",
     "text": [
      "c2=0 => type 3\n"
     ]
    }
   ],
   "source": [
    "i=8\n",
    "print('facet number:', i)\n",
    "display(sp.Eq(C.determinants[i], C.orientation[i]))\n",
    "\n",
    "print('c2=0 => type 3')\n",
    "C.subs(d0, 1)"
   ]
  },
  {
   "cell_type": "code",
   "execution_count": 122,
   "id": "c9b909fc-6a66-4764-a46a-8bed13eae348",
   "metadata": {},
   "outputs": [
    {
     "data": {
      "text/latex": [
       "$\\displaystyle \\left[\\begin{matrix}1 & 0 & 0 & 0 & -1 & - c_{2} - 1 & 1\\\\0 & 1 & 0 & -1 & -1 & - c_{2} - 1 & 1\\\\0 & 0 & 1 & 2 & 1 & c_{2} & -1\\end{matrix}\\right]$"
      ],
      "text/plain": [
       "Matrix([\n",
       "[1, 0, 0,  0, -1, -c2 - 1,  1],\n",
       "[0, 1, 0, -1, -1, -c2 - 1,  1],\n",
       "[0, 0, 1,  2,  1,      c2, -1]])"
      ]
     },
     "metadata": {},
     "output_type": "display_data"
    },
    {
     "data": {
      "text/plain": [
       "1"
      ]
     },
     "execution_count": 122,
     "metadata": {},
     "output_type": "execute_result"
    }
   ],
   "source": [
    "display(C.char)\n",
    "C.is_fangiving"
   ]
  },
  {
   "cell_type": "code",
   "execution_count": 123,
   "id": "b64305ce-e3e2-47ed-a3dc-4eefa3048725",
   "metadata": {},
   "outputs": [],
   "source": [
    "fans.append(C.char)"
   ]
  },
  {
   "cell_type": "markdown",
   "id": "76b9c2ff-dd1b-480d-8749-8a6c106f6793",
   "metadata": {
    "jp-MarkdownHeadingCollapsed": true
   },
   "source": [
    "# Type 14 of the projection"
   ]
  },
  {
   "cell_type": "code",
   "execution_count": 137,
   "id": "83baeafb-dd3d-45a9-966c-d8db2fc77f0e",
   "metadata": {},
   "outputs": [],
   "source": [
    "C1 = copy.deepcopy(C0)\n",
    "C = C1\n",
    "t=14"
   ]
  },
  {
   "cell_type": "code",
   "execution_count": 138,
   "id": "9c8747f1-3fd2-4ad6-a1c6-3851b0cb3fd6",
   "metadata": {},
   "outputs": [
    {
     "data": {
      "text/latex": [
       "$\\displaystyle \\left[\\begin{matrix}1 & 0 & -1 & -1 & 0 & 1\\\\0 & 1 & x & x - 1 & -1 & -1\\end{matrix}\\right]$"
      ],
      "text/plain": [
       "Matrix([\n",
       "[1, 0, -1,    -1,  0,  1],\n",
       "[0, 1,  x, x - 1, -1, -1]])"
      ]
     },
     "metadata": {},
     "output_type": "display_data"
    }
   ],
   "source": [
    "fans_hex[t]=fans_hex[t].subs(sp.Symbol('a'), x) # to distinguish indeterminates\n",
    "display(fans_hex[t])"
   ]
  },
  {
   "cell_type": "code",
   "execution_count": 139,
   "id": "d0997a4d-2ce5-46de-a23b-5915d98c16ec",
   "metadata": {},
   "outputs": [
    {
     "data": {
      "text/latex": [
       "$\\displaystyle \\left[\\begin{matrix}1 & 0 & -1 & b_{1} & c_{1} & d_{1}\\\\0 & 1 & a_{2} & b_{2} & c_{2} & -1\\end{matrix}\\right] = \\left[\\begin{matrix}1 & 0 & -1 & -1 & 0 & 1\\\\0 & 1 & x & x - 1 & -1 & -1\\end{matrix}\\right]$"
      ],
      "text/plain": [
       "Eq(Matrix([\n",
       "[1, 0, -1, b1, c1, d1],\n",
       "[0, 1, a2, b2, c2, -1]]), Matrix([\n",
       "[1, 0, -1,    -1,  0,  1],\n",
       "[0, 1,  x, x - 1, -1, -1]]))"
      ]
     },
     "metadata": {},
     "output_type": "display_data"
    }
   ],
   "source": [
    "proj = C.proj([1])\n",
    "with sp.evaluate(False):\n",
    "    display(sp.Eq(proj, fans_hex[t]))\n",
    "\n",
    "C.subs(b1, -1)\n",
    "C.subs(b2, a2-1)\n",
    "C.subs(c1, 0)\n",
    "C.subs(c2, -1)\n",
    "C.subs(d1, 1)"
   ]
  },
  {
   "cell_type": "code",
   "execution_count": 140,
   "id": "c25e0cc9-6f74-40a3-bdae-dcd35b5ae010",
   "metadata": {},
   "outputs": [
    {
     "name": "stdout",
     "output_type": "stream",
     "text": [
      "facet number: 9\n"
     ]
    },
    {
     "data": {
      "text/latex": [
       "$\\displaystyle - a_{0} - 1 = -1$"
      ],
      "text/plain": [
       "Eq(-a0 - 1, -1)"
      ]
     },
     "metadata": {},
     "output_type": "display_data"
    }
   ],
   "source": [
    "i=9\n",
    "print('facet number:', i)\n",
    "display(sp.Eq(C.determinants[i], C.orientation[i]))\n",
    "\n",
    "C.subs(a0, 0)"
   ]
  },
  {
   "cell_type": "code",
   "execution_count": 141,
   "id": "714dafa5-8eef-49ae-b362-f415a37abd8d",
   "metadata": {},
   "outputs": [
    {
     "name": "stdout",
     "output_type": "stream",
     "text": [
      "facet number: 8\n"
     ]
    },
    {
     "data": {
      "text/latex": [
       "$\\displaystyle c_{0} - d_{0} = -1$"
      ],
      "text/plain": [
       "Eq(c0 - d0, -1)"
      ]
     },
     "metadata": {},
     "output_type": "display_data"
    }
   ],
   "source": [
    "i=8\n",
    "print('facet number:', i)\n",
    "display(sp.Eq(C.determinants[i], C.orientation[i]))\n",
    "\n",
    "C.subs(c0, d0-1)"
   ]
  },
  {
   "cell_type": "code",
   "execution_count": 142,
   "id": "70d3c86f-b8c5-434a-a08c-b4fb513ee7f4",
   "metadata": {},
   "outputs": [
    {
     "name": "stdout",
     "output_type": "stream",
     "text": [
      "facet number: 7\n"
     ]
    },
    {
     "data": {
      "text/latex": [
       "$\\displaystyle a_{2} d_{0} - a_{2} - d_{0} = -1$"
      ],
      "text/plain": [
       "Eq(a2*d0 - a2 - d0, -1)"
      ]
     },
     "metadata": {},
     "output_type": "display_data"
    },
    {
     "name": "stdout",
     "output_type": "stream",
     "text": [
      "a2=1 => type 7\n"
     ]
    }
   ],
   "source": [
    "i=7 # (a2-1)(d0-1) = 0\n",
    "print('facet number:', i)\n",
    "display(sp.Eq(C.determinants[i], C.orientation[i]))\n",
    "\n",
    "print('a2=1 => type 7')\n",
    "C.subs(d0, 1)"
   ]
  },
  {
   "cell_type": "code",
   "execution_count": 143,
   "id": "163ed69e-35f7-4447-9fa7-078639cc994b",
   "metadata": {},
   "outputs": [
    {
     "data": {
      "text/latex": [
       "$\\displaystyle \\left[\\begin{matrix}1 & 0 & 0 & 0 & -1 & 0 & 1\\\\0 & 1 & 0 & -1 & -1 & 0 & 1\\\\0 & 0 & 1 & a_{2} & a_{2} - 1 & -1 & -1\\end{matrix}\\right]$"
      ],
      "text/plain": [
       "Matrix([\n",
       "[1, 0, 0,  0,     -1,  0,  1],\n",
       "[0, 1, 0, -1,     -1,  0,  1],\n",
       "[0, 0, 1, a2, a2 - 1, -1, -1]])"
      ]
     },
     "metadata": {},
     "output_type": "display_data"
    },
    {
     "data": {
      "text/plain": [
       "1"
      ]
     },
     "execution_count": 143,
     "metadata": {},
     "output_type": "execute_result"
    }
   ],
   "source": [
    "display(C.char)\n",
    "C.is_fangiving"
   ]
  },
  {
   "cell_type": "code",
   "execution_count": 144,
   "id": "ca8edd3d-1997-40f7-979b-fe91bb0fed7f",
   "metadata": {},
   "outputs": [],
   "source": [
    "fans.append(C.char)"
   ]
  },
  {
   "cell_type": "markdown",
   "id": "f011f1c4-3b1f-41e7-85fd-75d1882d23e6",
   "metadata": {
    "jp-MarkdownHeadingCollapsed": true
   },
   "source": [
    "# There are 13 types of fans up to D-J equivalence"
   ]
  },
  {
   "cell_type": "markdown",
   "id": "4cb06943-c825-4e45-8239-8c22663c896a",
   "metadata": {
    "jp-MarkdownHeadingCollapsed": true
   },
   "source": [
    "## removing redundant ones"
   ]
  },
  {
   "cell_type": "code",
   "execution_count": 146,
   "id": "5b1ef972-ab1d-41e9-bf01-fdf596670222",
   "metadata": {},
   "outputs": [
    {
     "name": "stdout",
     "output_type": "stream",
     "text": [
      "If c2 = -2,\n"
     ]
    },
    {
     "data": {
      "text/latex": [
       "$\\displaystyle \\left[\\begin{matrix}1 & 0 & 0 & 0 & -1 & 1 & 1\\\\0 & 1 & 0 & -1 & -1 & 1 & 1\\\\0 & 0 & 1 & 2 & 1 & -2 & -1\\end{matrix}\\right] = \\left[\\begin{matrix}1 & 0 & 0 & 0 & -1 & - c_{2} - 1 & 1\\\\0 & 1 & 0 & -1 & -1 & - c_{2} - 1 & 1\\\\0 & 0 & 1 & 2 & 1 & c_{2} & -1\\end{matrix}\\right]$"
      ],
      "text/plain": [
       "Eq(Matrix([\n",
       "[1, 0, 0,  0, -1,  1,  1],\n",
       "[0, 1, 0, -1, -1,  1,  1],\n",
       "[0, 0, 1,  2,  1, -2, -1]]), Matrix([\n",
       "[1, 0, 0,  0, -1, -c2 - 1,  1],\n",
       "[0, 1, 0, -1, -1, -c2 - 1,  1],\n",
       "[0, 0, 1,  2,  1,      c2, -1]]))"
      ]
     },
     "metadata": {},
     "output_type": "display_data"
    }
   ],
   "source": [
    "print('If c2 = -2,')\n",
    "display(sp.Eq(fans[11], fans[12], evaluate=False))"
   ]
  },
  {
   "cell_type": "code",
   "execution_count": 147,
   "id": "5e74cc26-8939-49e5-9745-1b4679947e04",
   "metadata": {},
   "outputs": [],
   "source": [
    "fans = fans[:11] + fans[12:]"
   ]
  },
  {
   "cell_type": "markdown",
   "id": "46b9f68c-8e31-44be-9480-158c3fc2cc70",
   "metadata": {
    "jp-MarkdownHeadingCollapsed": true
   },
   "source": [
    "## list"
   ]
  },
  {
   "cell_type": "code",
   "execution_count": 148,
   "id": "57761b3b-5dbe-4736-9ac9-b3d6795b1a02",
   "metadata": {},
   "outputs": [
    {
     "data": {
      "text/latex": [
       "$\\displaystyle \\left[\\begin{matrix}1 & 0 & 0 & a_{0} & -1 & 0 & 1\\\\0 & 1 & 0 & -1 & 0 & 1 & 2\\\\0 & 0 & 1 & a_{2} & -1 & -1 & -1\\end{matrix}\\right]$"
      ],
      "text/plain": [
       "Matrix([\n",
       "[1, 0, 0, a0, -1,  0,  1],\n",
       "[0, 1, 0, -1,  0,  1,  2],\n",
       "[0, 0, 1, a2, -1, -1, -1]])"
      ]
     },
     "metadata": {},
     "output_type": "display_data"
    },
    {
     "data": {
      "text/latex": [
       "$\\displaystyle \\left[\\begin{matrix}1 & 0 & 0 & a_{0} & -1 & -1 & 0\\\\0 & 1 & 0 & -1 & 0 & 1 & 1\\\\0 & 0 & 1 & a_{2} & -1 & -2 & -1\\end{matrix}\\right]$"
      ],
      "text/plain": [
       "Matrix([\n",
       "[1, 0, 0, a0, -1, -1,  0],\n",
       "[0, 1, 0, -1,  0,  1,  1],\n",
       "[0, 0, 1, a2, -1, -2, -1]])"
      ]
     },
     "metadata": {},
     "output_type": "display_data"
    },
    {
     "data": {
      "text/latex": [
       "$\\displaystyle \\left[\\begin{matrix}1 & 0 & 0 & 0 & -1 & -1 & d_{0}\\\\0 & 1 & 0 & -1 & -2 & -1 & d_{1}\\\\0 & 0 & 1 & 1 & 1 & 0 & -1\\end{matrix}\\right]$"
      ],
      "text/plain": [
       "Matrix([\n",
       "[1, 0, 0,  0, -1, -1, d0],\n",
       "[0, 1, 0, -1, -2, -1, d1],\n",
       "[0, 0, 1,  1,  1,  0, -1]])"
      ]
     },
     "metadata": {},
     "output_type": "display_data"
    },
    {
     "data": {
      "text/latex": [
       "$\\displaystyle \\left[\\begin{matrix}1 & 0 & 0 & 0 & -1 & -1 & d_{0}\\\\0 & 1 & 0 & -1 & -1 & -1 & d_{1}\\\\0 & 0 & 1 & 2 & 1 & 0 & -1\\end{matrix}\\right]$"
      ],
      "text/plain": [
       "Matrix([\n",
       "[1, 0, 0,  0, -1, -1, d0],\n",
       "[0, 1, 0, -1, -1, -1, d1],\n",
       "[0, 0, 1,  2,  1,  0, -1]])"
      ]
     },
     "metadata": {},
     "output_type": "display_data"
    },
    {
     "data": {
      "text/latex": [
       "$\\displaystyle \\left[\\begin{matrix}1 & 0 & 0 & 0 & -1 & 0 & 1\\\\0 & 1 & 0 & -1 & d_{1} - 2 & d_{1} - 1 & d_{1}\\\\0 & 0 & 1 & 0 & -1 & -1 & -1\\end{matrix}\\right]$"
      ],
      "text/plain": [
       "Matrix([\n",
       "[1, 0, 0,  0,     -1,      0,  1],\n",
       "[0, 1, 0, -1, d1 - 2, d1 - 1, d1],\n",
       "[0, 0, 1,  0,     -1,     -1, -1]])"
      ]
     },
     "metadata": {},
     "output_type": "display_data"
    },
    {
     "data": {
      "text/latex": [
       "$\\displaystyle \\left[\\begin{matrix}1 & 0 & 0 & 0 & -1 & -1 & 0\\\\0 & 1 & 0 & -1 & d_{1} - 1 & 2 d_{1} - 1 & d_{1}\\\\0 & 0 & 1 & 0 & -1 & -2 & -1\\end{matrix}\\right]$"
      ],
      "text/plain": [
       "Matrix([\n",
       "[1, 0, 0,  0,     -1,       -1,  0],\n",
       "[0, 1, 0, -1, d1 - 1, 2*d1 - 1, d1],\n",
       "[0, 0, 1,  0,     -1,       -2, -1]])"
      ]
     },
     "metadata": {},
     "output_type": "display_data"
    },
    {
     "data": {
      "text/latex": [
       "$\\displaystyle \\left[\\begin{matrix}1 & 0 & 0 & 0 & -1 & - c_{2} - 1 & 1\\\\0 & 1 & 0 & -1 & -2 & - 2 c_{2} - 1 & 2\\\\0 & 0 & 1 & 1 & 1 & c_{2} & -1\\end{matrix}\\right]$"
      ],
      "text/plain": [
       "Matrix([\n",
       "[1, 0, 0,  0, -1,   -c2 - 1,  1],\n",
       "[0, 1, 0, -1, -2, -2*c2 - 1,  2],\n",
       "[0, 0, 1,  1,  1,        c2, -1]])"
      ]
     },
     "metadata": {},
     "output_type": "display_data"
    },
    {
     "data": {
      "text/latex": [
       "$\\displaystyle \\left[\\begin{matrix}1 & 0 & 0 & 0 & -1 & d_{0} - 1 & d_{0}\\\\0 & 1 & 0 & -1 & -1 & d_{1} - 1 & d_{1}\\\\0 & 0 & 1 & 1 & 0 & -1 & -1\\end{matrix}\\right]$"
      ],
      "text/plain": [
       "Matrix([\n",
       "[1, 0, 0,  0, -1, d0 - 1, d0],\n",
       "[0, 1, 0, -1, -1, d1 - 1, d1],\n",
       "[0, 0, 1,  1,  0,     -1, -1]])"
      ]
     },
     "metadata": {},
     "output_type": "display_data"
    },
    {
     "data": {
      "text/latex": [
       "$\\displaystyle \\left[\\begin{matrix}1 & 0 & 0 & 0 & -1 & 0 & 1\\\\0 & 1 & 0 & -1 & b_{1} & 1 & 2\\\\0 & 0 & 1 & 1 & - b_{1} - 1 & -1 & -1\\end{matrix}\\right]$"
      ],
      "text/plain": [
       "Matrix([\n",
       "[1, 0, 0,  0,      -1,  0,  1],\n",
       "[0, 1, 0, -1,      b1,  1,  2],\n",
       "[0, 0, 1,  1, -b1 - 1, -1, -1]])"
      ]
     },
     "metadata": {},
     "output_type": "display_data"
    },
    {
     "data": {
      "text/latex": [
       "$\\displaystyle \\left[\\begin{matrix}1 & 0 & 0 & 0 & -1 & -1 & 0\\\\0 & 1 & 0 & -1 & - c_{2} - 2 & - c_{2} - 1 & 1\\\\0 & 0 & 1 & 1 & c_{2} + 1 & c_{2} & -1\\end{matrix}\\right]$"
      ],
      "text/plain": [
       "Matrix([\n",
       "[1, 0, 0,  0,      -1,      -1,  0],\n",
       "[0, 1, 0, -1, -c2 - 2, -c2 - 1,  1],\n",
       "[0, 0, 1,  1,  c2 + 1,      c2, -1]])"
      ]
     },
     "metadata": {},
     "output_type": "display_data"
    },
    {
     "data": {
      "text/latex": [
       "$\\displaystyle \\left[\\begin{matrix}1 & 0 & 0 & 0 & -1 & -1 & 0\\\\0 & 1 & 0 & -1 & -1 & -1 & 0\\\\0 & 0 & 1 & c_{2} + 2 & c_{2} + 1 & c_{2} & -1\\end{matrix}\\right]$"
      ],
      "text/plain": [
       "Matrix([\n",
       "[1, 0, 0,      0,     -1, -1,  0],\n",
       "[0, 1, 0,     -1,     -1, -1,  0],\n",
       "[0, 0, 1, c2 + 2, c2 + 1, c2, -1]])"
      ]
     },
     "metadata": {},
     "output_type": "display_data"
    },
    {
     "data": {
      "text/latex": [
       "$\\displaystyle \\left[\\begin{matrix}1 & 0 & 0 & 0 & -1 & - c_{2} - 1 & 1\\\\0 & 1 & 0 & -1 & -1 & - c_{2} - 1 & 1\\\\0 & 0 & 1 & 2 & 1 & c_{2} & -1\\end{matrix}\\right]$"
      ],
      "text/plain": [
       "Matrix([\n",
       "[1, 0, 0,  0, -1, -c2 - 1,  1],\n",
       "[0, 1, 0, -1, -1, -c2 - 1,  1],\n",
       "[0, 0, 1,  2,  1,      c2, -1]])"
      ]
     },
     "metadata": {},
     "output_type": "display_data"
    },
    {
     "data": {
      "text/latex": [
       "$\\displaystyle \\left[\\begin{matrix}1 & 0 & 0 & 0 & -1 & 0 & 1\\\\0 & 1 & 0 & -1 & -1 & 0 & 1\\\\0 & 0 & 1 & a_{2} & a_{2} - 1 & -1 & -1\\end{matrix}\\right]$"
      ],
      "text/plain": [
       "Matrix([\n",
       "[1, 0, 0,  0,     -1,  0,  1],\n",
       "[0, 1, 0, -1,     -1,  0,  1],\n",
       "[0, 0, 1, a2, a2 - 1, -1, -1]])"
      ]
     },
     "metadata": {},
     "output_type": "display_data"
    }
   ],
   "source": [
    "for f in fans:\n",
    "    display(f)"
   ]
  },
  {
   "cell_type": "markdown",
   "id": "f2b75ecb-9844-4b5e-aaeb-eb91db5f72a9",
   "metadata": {
    "jp-MarkdownHeadingCollapsed": true
   },
   "source": [
    "# Connections between types"
   ]
  },
  {
   "cell_type": "markdown",
   "id": "d9a46a33-7308-4305-8a69-1dde8a05d91d",
   "metadata": {
    "jp-MarkdownHeadingCollapsed": true
   },
   "source": [
    "## fan 0"
   ]
  },
  {
   "cell_type": "markdown",
   "id": "fb186a7c-1971-45a1-bbe0-7980e132540a",
   "metadata": {
    "jp-MarkdownHeadingCollapsed": true
   },
   "source": [
    "### fan 4 ($a_0=0$, $a_2=0$, $d_1=2$)"
   ]
  },
  {
   "cell_type": "code",
   "execution_count": 151,
   "id": "5e5b4530-058a-4a79-afdb-cc8d3be03cdc",
   "metadata": {},
   "outputs": [
    {
     "data": {
      "text/latex": [
       "$\\displaystyle \\left[\\begin{matrix}1 & 0 & 0 & a_{0} & -1 & 0 & 1\\\\0 & 1 & 0 & -1 & 0 & 1 & 2\\\\0 & 0 & 1 & a_{2} & -1 & -1 & -1\\end{matrix}\\right] = \\left[\\begin{matrix}1 & 0 & 0 & 0 & -1 & 0 & 1\\\\0 & 1 & 0 & -1 & d_{1} - 2 & d_{1} - 1 & d_{1}\\\\0 & 0 & 1 & 0 & -1 & -1 & -1\\end{matrix}\\right]$"
      ],
      "text/plain": [
       "Eq(Matrix([\n",
       "[1, 0, 0, a0, -1,  0,  1],\n",
       "[0, 1, 0, -1,  0,  1,  2],\n",
       "[0, 0, 1, a2, -1, -1, -1]]), Matrix([\n",
       "[1, 0, 0,  0,     -1,      0,  1],\n",
       "[0, 1, 0, -1, d1 - 2, d1 - 1, d1],\n",
       "[0, 0, 1,  0,     -1,     -1, -1]]))"
      ]
     },
     "metadata": {},
     "output_type": "display_data"
    },
    {
     "data": {
      "text/latex": [
       "$\\displaystyle \\text{True}$"
      ],
      "text/plain": [
       "True"
      ]
     },
     "execution_count": 151,
     "metadata": {},
     "output_type": "execute_result"
    }
   ],
   "source": [
    "display(sp.Eq(fans[0], fans[4], evaluate=False))\n",
    "sp.Eq(fans[0].subs(a0,0).subs(a2,0), fans[4].subs(d1,2))"
   ]
  },
  {
   "cell_type": "markdown",
   "id": "f55efdb2-9821-4f9a-91ee-1ddbc54a53c1",
   "metadata": {
    "jp-MarkdownHeadingCollapsed": true
   },
   "source": [
    "### fan 8 ($a_0=0$, $a_2=1$, $b_1=0$)"
   ]
  },
  {
   "cell_type": "code",
   "execution_count": 159,
   "id": "d0c8511a-eeed-4f3a-8e88-6e13e5656f29",
   "metadata": {},
   "outputs": [
    {
     "data": {
      "text/latex": [
       "$\\displaystyle \\left[\\begin{matrix}1 & 0 & 0 & a_{0} & -1 & 0 & 1\\\\0 & 1 & 0 & -1 & 0 & 1 & 2\\\\0 & 0 & 1 & a_{2} & -1 & -1 & -1\\end{matrix}\\right] = \\left[\\begin{matrix}1 & 0 & 0 & 0 & -1 & 0 & 1\\\\0 & 1 & 0 & -1 & b_{1} & 1 & 2\\\\0 & 0 & 1 & 1 & - b_{1} - 1 & -1 & -1\\end{matrix}\\right]$"
      ],
      "text/plain": [
       "Eq(Matrix([\n",
       "[1, 0, 0, a0, -1,  0,  1],\n",
       "[0, 1, 0, -1,  0,  1,  2],\n",
       "[0, 0, 1, a2, -1, -1, -1]]), Matrix([\n",
       "[1, 0, 0,  0,      -1,  0,  1],\n",
       "[0, 1, 0, -1,      b1,  1,  2],\n",
       "[0, 0, 1,  1, -b1 - 1, -1, -1]]))"
      ]
     },
     "metadata": {},
     "output_type": "display_data"
    },
    {
     "data": {
      "text/latex": [
       "$\\displaystyle \\text{True}$"
      ],
      "text/plain": [
       "True"
      ]
     },
     "execution_count": 159,
     "metadata": {},
     "output_type": "execute_result"
    }
   ],
   "source": [
    "display(sp.Eq(fans[0], fans[8], evaluate=False))\n",
    "sp.Eq(fans[0].subs(a0,0).subs(a2,1), fans[8].subs(b1,0))"
   ]
  },
  {
   "cell_type": "markdown",
   "id": "997cb58b-b224-4dc4-84e0-b18d0db2fe5a",
   "metadata": {
    "jp-MarkdownHeadingCollapsed": true
   },
   "source": [
    "## fan 1"
   ]
  },
  {
   "cell_type": "markdown",
   "id": "67b99159-fd70-4140-8087-4f9ecd59fc2f",
   "metadata": {
    "jp-MarkdownHeadingCollapsed": true
   },
   "source": [
    "### fan 5 ($a_0=0$, $a_2=0$, $d_1=1$)"
   ]
  },
  {
   "cell_type": "code",
   "execution_count": 177,
   "id": "2c7878c8-c743-44f1-84c6-a3feb911093b",
   "metadata": {},
   "outputs": [
    {
     "data": {
      "text/latex": [
       "$\\displaystyle \\left[\\begin{matrix}1 & 0 & 0 & a_{0} & -1 & -1 & 0\\\\0 & 1 & 0 & -1 & 0 & 1 & 1\\\\0 & 0 & 1 & a_{2} & -1 & -2 & -1\\end{matrix}\\right] = \\left[\\begin{matrix}1 & 0 & 0 & 0 & -1 & -1 & 0\\\\0 & 1 & 0 & -1 & d_{1} - 1 & 2 d_{1} - 1 & d_{1}\\\\0 & 0 & 1 & 0 & -1 & -2 & -1\\end{matrix}\\right]$"
      ],
      "text/plain": [
       "Eq(Matrix([\n",
       "[1, 0, 0, a0, -1, -1,  0],\n",
       "[0, 1, 0, -1,  0,  1,  1],\n",
       "[0, 0, 1, a2, -1, -2, -1]]), Matrix([\n",
       "[1, 0, 0,  0,     -1,       -1,  0],\n",
       "[0, 1, 0, -1, d1 - 1, 2*d1 - 1, d1],\n",
       "[0, 0, 1,  0,     -1,       -2, -1]]))"
      ]
     },
     "metadata": {},
     "output_type": "display_data"
    },
    {
     "data": {
      "text/latex": [
       "$\\displaystyle \\text{True}$"
      ],
      "text/plain": [
       "True"
      ]
     },
     "execution_count": 177,
     "metadata": {},
     "output_type": "execute_result"
    }
   ],
   "source": [
    "display(sp.Eq(fans[1], fans[5], evaluate=False))\n",
    "sp.Eq(fans[1].subs(a0,0).subs(a2,0), fans[5].subs(d1,1))"
   ]
  },
  {
   "cell_type": "markdown",
   "id": "17733032-5edf-479f-9e0a-4402d6895874",
   "metadata": {
    "jp-MarkdownHeadingCollapsed": true
   },
   "source": [
    "### fan 9 ($a_0=0$, $a_2=1$, $c_2=-2$)"
   ]
  },
  {
   "cell_type": "code",
   "execution_count": 179,
   "id": "2d862394-599c-4284-94f7-48e2788f4694",
   "metadata": {},
   "outputs": [
    {
     "data": {
      "text/latex": [
       "$\\displaystyle \\left[\\begin{matrix}1 & 0 & 0 & a_{0} & -1 & -1 & 0\\\\0 & 1 & 0 & -1 & 0 & 1 & 1\\\\0 & 0 & 1 & a_{2} & -1 & -2 & -1\\end{matrix}\\right] = \\left[\\begin{matrix}1 & 0 & 0 & 0 & -1 & -1 & 0\\\\0 & 1 & 0 & -1 & - c_{2} - 2 & - c_{2} - 1 & 1\\\\0 & 0 & 1 & 1 & c_{2} + 1 & c_{2} & -1\\end{matrix}\\right]$"
      ],
      "text/plain": [
       "Eq(Matrix([\n",
       "[1, 0, 0, a0, -1, -1,  0],\n",
       "[0, 1, 0, -1,  0,  1,  1],\n",
       "[0, 0, 1, a2, -1, -2, -1]]), Matrix([\n",
       "[1, 0, 0,  0,      -1,      -1,  0],\n",
       "[0, 1, 0, -1, -c2 - 2, -c2 - 1,  1],\n",
       "[0, 0, 1,  1,  c2 + 1,      c2, -1]]))"
      ]
     },
     "metadata": {},
     "output_type": "display_data"
    },
    {
     "data": {
      "text/latex": [
       "$\\displaystyle \\text{True}$"
      ],
      "text/plain": [
       "True"
      ]
     },
     "execution_count": 179,
     "metadata": {},
     "output_type": "execute_result"
    }
   ],
   "source": [
    "display(sp.Eq(fans[1], fans[9], evaluate=False))\n",
    "sp.Eq(fans[1].subs(a0,0).subs(a2,1), fans[9].subs(c2,-2))"
   ]
  },
  {
   "cell_type": "markdown",
   "id": "5dfc232b-e263-48bf-a755-cd0e2cb7fa80",
   "metadata": {
    "jp-MarkdownHeadingCollapsed": true
   },
   "source": [
    "## fan 2"
   ]
  },
  {
   "cell_type": "markdown",
   "id": "4725fa37-602f-4f78-af45-e3bdfe66a604",
   "metadata": {
    "jp-MarkdownHeadingCollapsed": true
   },
   "source": [
    "### fan 6 ($c_2=0$, $d_0=1$, $d_1=2$)"
   ]
  },
  {
   "cell_type": "code",
   "execution_count": 194,
   "id": "7c62eb23-d57b-4b7e-ae6f-1df4a64afd49",
   "metadata": {},
   "outputs": [
    {
     "data": {
      "text/latex": [
       "$\\displaystyle \\left[\\begin{matrix}1 & 0 & 0 & 0 & -1 & -1 & d_{0}\\\\0 & 1 & 0 & -1 & -2 & -1 & d_{1}\\\\0 & 0 & 1 & 1 & 1 & 0 & -1\\end{matrix}\\right] = \\left[\\begin{matrix}1 & 0 & 0 & 0 & -1 & - c_{2} - 1 & 1\\\\0 & 1 & 0 & -1 & -2 & - 2 c_{2} - 1 & 2\\\\0 & 0 & 1 & 1 & 1 & c_{2} & -1\\end{matrix}\\right]$"
      ],
      "text/plain": [
       "Eq(Matrix([\n",
       "[1, 0, 0,  0, -1, -1, d0],\n",
       "[0, 1, 0, -1, -2, -1, d1],\n",
       "[0, 0, 1,  1,  1,  0, -1]]), Matrix([\n",
       "[1, 0, 0,  0, -1,   -c2 - 1,  1],\n",
       "[0, 1, 0, -1, -2, -2*c2 - 1,  2],\n",
       "[0, 0, 1,  1,  1,        c2, -1]]))"
      ]
     },
     "metadata": {},
     "output_type": "display_data"
    },
    {
     "data": {
      "text/latex": [
       "$\\displaystyle \\text{True}$"
      ],
      "text/plain": [
       "True"
      ]
     },
     "execution_count": 194,
     "metadata": {},
     "output_type": "execute_result"
    }
   ],
   "source": [
    "display(sp.Eq(fans[2], fans[6], evaluate=False))\n",
    "sp.Eq(fans[2].subs(d0,1).subs(d1,2), fans[6].subs(c2,0))"
   ]
  },
  {
   "cell_type": "markdown",
   "id": "b44550cc-9582-4090-9649-29d88af78646",
   "metadata": {
    "jp-MarkdownHeadingCollapsed": true
   },
   "source": [
    "### fan 9 ($c_2=0$, $d_0=0$, $d_1=1$)"
   ]
  },
  {
   "cell_type": "code",
   "execution_count": 196,
   "id": "7b92d1a6-f852-4fc0-8308-2afba9ed7df3",
   "metadata": {},
   "outputs": [
    {
     "data": {
      "text/latex": [
       "$\\displaystyle \\left[\\begin{matrix}1 & 0 & 0 & 0 & -1 & -1 & d_{0}\\\\0 & 1 & 0 & -1 & -2 & -1 & d_{1}\\\\0 & 0 & 1 & 1 & 1 & 0 & -1\\end{matrix}\\right] = \\left[\\begin{matrix}1 & 0 & 0 & 0 & -1 & -1 & 0\\\\0 & 1 & 0 & -1 & - c_{2} - 2 & - c_{2} - 1 & 1\\\\0 & 0 & 1 & 1 & c_{2} + 1 & c_{2} & -1\\end{matrix}\\right]$"
      ],
      "text/plain": [
       "Eq(Matrix([\n",
       "[1, 0, 0,  0, -1, -1, d0],\n",
       "[0, 1, 0, -1, -2, -1, d1],\n",
       "[0, 0, 1,  1,  1,  0, -1]]), Matrix([\n",
       "[1, 0, 0,  0,      -1,      -1,  0],\n",
       "[0, 1, 0, -1, -c2 - 2, -c2 - 1,  1],\n",
       "[0, 0, 1,  1,  c2 + 1,      c2, -1]]))"
      ]
     },
     "metadata": {},
     "output_type": "display_data"
    },
    {
     "data": {
      "text/latex": [
       "$\\displaystyle \\text{True}$"
      ],
      "text/plain": [
       "True"
      ]
     },
     "execution_count": 196,
     "metadata": {},
     "output_type": "execute_result"
    }
   ],
   "source": [
    "display(sp.Eq(fans[2], fans[9], evaluate=False))\n",
    "sp.Eq(fans[2].subs(d0,0).subs(d1,1), fans[9].subs(c2,0))"
   ]
  },
  {
   "cell_type": "markdown",
   "id": "d71d9674-38eb-4508-b95a-49623ec84b7f",
   "metadata": {
    "jp-MarkdownHeadingCollapsed": true
   },
   "source": [
    "## fan 3"
   ]
  },
  {
   "cell_type": "markdown",
   "id": "af9047d8-e577-4ed0-9f1a-403f770fa5fc",
   "metadata": {
    "jp-MarkdownHeadingCollapsed": true
   },
   "source": [
    "### fan 10 ($c_2=0$, $d_0=0$, $d_1=0$)"
   ]
  },
  {
   "cell_type": "code",
   "execution_count": 208,
   "id": "a151f71b-d870-443d-b438-382261731cdf",
   "metadata": {},
   "outputs": [
    {
     "data": {
      "text/latex": [
       "$\\displaystyle \\left[\\begin{matrix}1 & 0 & 0 & 0 & -1 & -1 & d_{0}\\\\0 & 1 & 0 & -1 & -1 & -1 & d_{1}\\\\0 & 0 & 1 & 2 & 1 & 0 & -1\\end{matrix}\\right] = \\left[\\begin{matrix}1 & 0 & 0 & 0 & -1 & -1 & 0\\\\0 & 1 & 0 & -1 & -1 & -1 & 0\\\\0 & 0 & 1 & c_{2} + 2 & c_{2} + 1 & c_{2} & -1\\end{matrix}\\right]$"
      ],
      "text/plain": [
       "Eq(Matrix([\n",
       "[1, 0, 0,  0, -1, -1, d0],\n",
       "[0, 1, 0, -1, -1, -1, d1],\n",
       "[0, 0, 1,  2,  1,  0, -1]]), Matrix([\n",
       "[1, 0, 0,      0,     -1, -1,  0],\n",
       "[0, 1, 0,     -1,     -1, -1,  0],\n",
       "[0, 0, 1, c2 + 2, c2 + 1, c2, -1]]))"
      ]
     },
     "metadata": {},
     "output_type": "display_data"
    },
    {
     "data": {
      "text/latex": [
       "$\\displaystyle \\text{True}$"
      ],
      "text/plain": [
       "True"
      ]
     },
     "execution_count": 208,
     "metadata": {},
     "output_type": "execute_result"
    }
   ],
   "source": [
    "display(sp.Eq(fans[3], fans[10], evaluate=False))\n",
    "sp.Eq(fans[3].subs(d0,0).subs(d1,0), fans[10].subs(c2,0))"
   ]
  },
  {
   "cell_type": "markdown",
   "id": "82ff91e6-ab67-40c2-b3be-4c8fb2e650ae",
   "metadata": {
    "jp-MarkdownHeadingCollapsed": true
   },
   "source": [
    "### fan 11 ($c_2=0$, $d_0=1$, $d_1=1$)"
   ]
  },
  {
   "cell_type": "code",
   "execution_count": 210,
   "id": "e17fbe60-cd8f-4d7b-b8fa-c5973f0f845f",
   "metadata": {},
   "outputs": [
    {
     "data": {
      "text/latex": [
       "$\\displaystyle \\left[\\begin{matrix}1 & 0 & 0 & 0 & -1 & -1 & d_{0}\\\\0 & 1 & 0 & -1 & -1 & -1 & d_{1}\\\\0 & 0 & 1 & 2 & 1 & 0 & -1\\end{matrix}\\right] = \\left[\\begin{matrix}1 & 0 & 0 & 0 & -1 & - c_{2} - 1 & 1\\\\0 & 1 & 0 & -1 & -1 & - c_{2} - 1 & 1\\\\0 & 0 & 1 & 2 & 1 & c_{2} & -1\\end{matrix}\\right]$"
      ],
      "text/plain": [
       "Eq(Matrix([\n",
       "[1, 0, 0,  0, -1, -1, d0],\n",
       "[0, 1, 0, -1, -1, -1, d1],\n",
       "[0, 0, 1,  2,  1,  0, -1]]), Matrix([\n",
       "[1, 0, 0,  0, -1, -c2 - 1,  1],\n",
       "[0, 1, 0, -1, -1, -c2 - 1,  1],\n",
       "[0, 0, 1,  2,  1,      c2, -1]]))"
      ]
     },
     "metadata": {},
     "output_type": "display_data"
    },
    {
     "data": {
      "text/latex": [
       "$\\displaystyle \\text{True}$"
      ],
      "text/plain": [
       "True"
      ]
     },
     "execution_count": 210,
     "metadata": {},
     "output_type": "execute_result"
    }
   ],
   "source": [
    "display(sp.Eq(fans[3], fans[11], evaluate=False))\n",
    "sp.Eq(fans[3].subs(d0,1).subs(d1,1), fans[11].subs(c2,0))"
   ]
  },
  {
   "cell_type": "markdown",
   "id": "fb7b4ea9-a0d9-4db4-bd85-69695421e60b",
   "metadata": {
    "jp-MarkdownHeadingCollapsed": true
   },
   "source": [
    "## fan 4"
   ]
  },
  {
   "cell_type": "markdown",
   "id": "e7adb1cc-9a78-4ca3-83a6-26f759dc16a9",
   "metadata": {
    "jp-MarkdownHeadingCollapsed": true
   },
   "source": [
    "### fan 0 ($a_0=0$, $a_2=0$, $d_1=2$)"
   ]
  },
  {
   "cell_type": "code",
   "execution_count": 151,
   "id": "db7ccead-cd91-4b80-836e-08ef528c1e06",
   "metadata": {},
   "outputs": [
    {
     "data": {
      "text/latex": [
       "$\\displaystyle \\left[\\begin{matrix}1 & 0 & 0 & a_{0} & -1 & 0 & 1\\\\0 & 1 & 0 & -1 & 0 & 1 & 2\\\\0 & 0 & 1 & a_{2} & -1 & -1 & -1\\end{matrix}\\right] = \\left[\\begin{matrix}1 & 0 & 0 & 0 & -1 & 0 & 1\\\\0 & 1 & 0 & -1 & d_{1} - 2 & d_{1} - 1 & d_{1}\\\\0 & 0 & 1 & 0 & -1 & -1 & -1\\end{matrix}\\right]$"
      ],
      "text/plain": [
       "Eq(Matrix([\n",
       "[1, 0, 0, a0, -1,  0,  1],\n",
       "[0, 1, 0, -1,  0,  1,  2],\n",
       "[0, 0, 1, a2, -1, -1, -1]]), Matrix([\n",
       "[1, 0, 0,  0,     -1,      0,  1],\n",
       "[0, 1, 0, -1, d1 - 2, d1 - 1, d1],\n",
       "[0, 0, 1,  0,     -1,     -1, -1]]))"
      ]
     },
     "metadata": {},
     "output_type": "display_data"
    },
    {
     "data": {
      "text/latex": [
       "$\\displaystyle \\text{True}$"
      ],
      "text/plain": [
       "True"
      ]
     },
     "execution_count": 151,
     "metadata": {},
     "output_type": "execute_result"
    }
   ],
   "source": [
    "display(sp.Eq(fans[0], fans[4], evaluate=False))\n",
    "sp.Eq(fans[0].subs(a0,0).subs(a2,0), fans[4].subs(d1,2))"
   ]
  },
  {
   "cell_type": "markdown",
   "id": "d13a952d-bf9f-4113-8d86-c2234b28d5c6",
   "metadata": {
    "jp-MarkdownHeadingCollapsed": true
   },
   "source": [
    "### fan 12 ($a_2=0$, $d_1=1$)"
   ]
  },
  {
   "cell_type": "code",
   "execution_count": 213,
   "id": "10f01a2c-c410-4c07-aa22-8bb455aa5b84",
   "metadata": {},
   "outputs": [
    {
     "data": {
      "text/latex": [
       "$\\displaystyle \\left[\\begin{matrix}1 & 0 & 0 & 0 & -1 & 0 & 1\\\\0 & 1 & 0 & -1 & d_{1} - 2 & d_{1} - 1 & d_{1}\\\\0 & 0 & 1 & 0 & -1 & -1 & -1\\end{matrix}\\right] = \\left[\\begin{matrix}1 & 0 & 0 & 0 & -1 & 0 & 1\\\\0 & 1 & 0 & -1 & -1 & 0 & 1\\\\0 & 0 & 1 & a_{2} & a_{2} - 1 & -1 & -1\\end{matrix}\\right]$"
      ],
      "text/plain": [
       "Eq(Matrix([\n",
       "[1, 0, 0,  0,     -1,      0,  1],\n",
       "[0, 1, 0, -1, d1 - 2, d1 - 1, d1],\n",
       "[0, 0, 1,  0,     -1,     -1, -1]]), Matrix([\n",
       "[1, 0, 0,  0,     -1,  0,  1],\n",
       "[0, 1, 0, -1,     -1,  0,  1],\n",
       "[0, 0, 1, a2, a2 - 1, -1, -1]]))"
      ]
     },
     "metadata": {},
     "output_type": "display_data"
    },
    {
     "data": {
      "text/latex": [
       "$\\displaystyle \\text{True}$"
      ],
      "text/plain": [
       "True"
      ]
     },
     "execution_count": 213,
     "metadata": {},
     "output_type": "execute_result"
    }
   ],
   "source": [
    "display(sp.Eq(fans[4], fans[12], evaluate=False))\n",
    "sp.Eq(fans[4].subs(d1,1), fans[12].subs(a2,0))"
   ]
  },
  {
   "cell_type": "markdown",
   "id": "b78b9fee-559c-4d02-9b71-a14123ee7c0a",
   "metadata": {
    "jp-MarkdownHeadingCollapsed": true
   },
   "source": [
    "## fan 5"
   ]
  },
  {
   "cell_type": "markdown",
   "id": "9e960aca-1c2f-4373-a06d-0274e0fd4d2b",
   "metadata": {
    "jp-MarkdownHeadingCollapsed": true
   },
   "source": [
    "### fan 1 ($a_0=0$, $a_2=0$, $d_1=1$)"
   ]
  },
  {
   "cell_type": "code",
   "execution_count": 177,
   "id": "031a278b-dc49-4b9c-96a7-0c41f4bede80",
   "metadata": {},
   "outputs": [
    {
     "data": {
      "text/latex": [
       "$\\displaystyle \\left[\\begin{matrix}1 & 0 & 0 & a_{0} & -1 & -1 & 0\\\\0 & 1 & 0 & -1 & 0 & 1 & 1\\\\0 & 0 & 1 & a_{2} & -1 & -2 & -1\\end{matrix}\\right] = \\left[\\begin{matrix}1 & 0 & 0 & 0 & -1 & -1 & 0\\\\0 & 1 & 0 & -1 & d_{1} - 1 & 2 d_{1} - 1 & d_{1}\\\\0 & 0 & 1 & 0 & -1 & -2 & -1\\end{matrix}\\right]$"
      ],
      "text/plain": [
       "Eq(Matrix([\n",
       "[1, 0, 0, a0, -1, -1,  0],\n",
       "[0, 1, 0, -1,  0,  1,  1],\n",
       "[0, 0, 1, a2, -1, -2, -1]]), Matrix([\n",
       "[1, 0, 0,  0,     -1,       -1,  0],\n",
       "[0, 1, 0, -1, d1 - 1, 2*d1 - 1, d1],\n",
       "[0, 0, 1,  0,     -1,       -2, -1]]))"
      ]
     },
     "metadata": {},
     "output_type": "display_data"
    },
    {
     "data": {
      "text/latex": [
       "$\\displaystyle \\text{True}$"
      ],
      "text/plain": [
       "True"
      ]
     },
     "execution_count": 177,
     "metadata": {},
     "output_type": "execute_result"
    }
   ],
   "source": [
    "display(sp.Eq(fans[1], fans[5], evaluate=False))\n",
    "sp.Eq(fans[1].subs(a0,0).subs(a2,0), fans[5].subs(d1,1))"
   ]
  },
  {
   "cell_type": "markdown",
   "id": "1a8860e9-a628-499d-8eb7-babe4149e605",
   "metadata": {
    "jp-MarkdownHeadingCollapsed": true
   },
   "source": [
    "### fan 10 ($c_2=-2$, $d_1=0$)"
   ]
  },
  {
   "cell_type": "code",
   "execution_count": 233,
   "id": "190af10a-4bc1-4cdf-b57b-b3eb582fc850",
   "metadata": {},
   "outputs": [
    {
     "data": {
      "text/latex": [
       "$\\displaystyle \\left[\\begin{matrix}1 & 0 & 0 & 0 & -1 & -1 & 0\\\\0 & 1 & 0 & -1 & d_{1} - 1 & 2 d_{1} - 1 & d_{1}\\\\0 & 0 & 1 & 0 & -1 & -2 & -1\\end{matrix}\\right] = \\left[\\begin{matrix}1 & 0 & 0 & 0 & -1 & -1 & 0\\\\0 & 1 & 0 & -1 & -1 & -1 & 0\\\\0 & 0 & 1 & c_{2} + 2 & c_{2} + 1 & c_{2} & -1\\end{matrix}\\right]$"
      ],
      "text/plain": [
       "Eq(Matrix([\n",
       "[1, 0, 0,  0,     -1,       -1,  0],\n",
       "[0, 1, 0, -1, d1 - 1, 2*d1 - 1, d1],\n",
       "[0, 0, 1,  0,     -1,       -2, -1]]), Matrix([\n",
       "[1, 0, 0,      0,     -1, -1,  0],\n",
       "[0, 1, 0,     -1,     -1, -1,  0],\n",
       "[0, 0, 1, c2 + 2, c2 + 1, c2, -1]]))"
      ]
     },
     "metadata": {},
     "output_type": "display_data"
    },
    {
     "data": {
      "text/latex": [
       "$\\displaystyle \\text{True}$"
      ],
      "text/plain": [
       "True"
      ]
     },
     "execution_count": 233,
     "metadata": {},
     "output_type": "execute_result"
    }
   ],
   "source": [
    "display(sp.Eq(fans[5], fans[10], evaluate=False))\n",
    "sp.Eq(fans[5].subs(d1,0), fans[10].subs(c2,-2))"
   ]
  },
  {
   "cell_type": "markdown",
   "id": "a8e40391-2677-4bd8-b16b-43c221a62eff",
   "metadata": {
    "jp-MarkdownHeadingCollapsed": true
   },
   "source": [
    "## fan 6"
   ]
  },
  {
   "cell_type": "markdown",
   "id": "cceb2302-f23d-47ea-8dfa-74152ad88ce1",
   "metadata": {
    "jp-MarkdownHeadingCollapsed": true
   },
   "source": [
    "### fan 2 ($c_2=0$, $d_0=1$, $d_1=2$)"
   ]
  },
  {
   "cell_type": "code",
   "execution_count": 194,
   "id": "5f6cc390-d163-4405-ad5f-d6698174af9d",
   "metadata": {},
   "outputs": [
    {
     "data": {
      "text/latex": [
       "$\\displaystyle \\left[\\begin{matrix}1 & 0 & 0 & 0 & -1 & -1 & d_{0}\\\\0 & 1 & 0 & -1 & -2 & -1 & d_{1}\\\\0 & 0 & 1 & 1 & 1 & 0 & -1\\end{matrix}\\right] = \\left[\\begin{matrix}1 & 0 & 0 & 0 & -1 & - c_{2} - 1 & 1\\\\0 & 1 & 0 & -1 & -2 & - 2 c_{2} - 1 & 2\\\\0 & 0 & 1 & 1 & 1 & c_{2} & -1\\end{matrix}\\right]$"
      ],
      "text/plain": [
       "Eq(Matrix([\n",
       "[1, 0, 0,  0, -1, -1, d0],\n",
       "[0, 1, 0, -1, -2, -1, d1],\n",
       "[0, 0, 1,  1,  1,  0, -1]]), Matrix([\n",
       "[1, 0, 0,  0, -1,   -c2 - 1,  1],\n",
       "[0, 1, 0, -1, -2, -2*c2 - 1,  2],\n",
       "[0, 0, 1,  1,  1,        c2, -1]]))"
      ]
     },
     "metadata": {},
     "output_type": "display_data"
    },
    {
     "data": {
      "text/latex": [
       "$\\displaystyle \\text{True}$"
      ],
      "text/plain": [
       "True"
      ]
     },
     "execution_count": 194,
     "metadata": {},
     "output_type": "execute_result"
    }
   ],
   "source": [
    "display(sp.Eq(fans[2], fans[6], evaluate=False))\n",
    "sp.Eq(fans[2].subs(d0,1).subs(d1,2), fans[6].subs(c2,0))"
   ]
  },
  {
   "cell_type": "markdown",
   "id": "13a7c424-c32c-4a4c-9d43-dbb628024021",
   "metadata": {
    "jp-MarkdownHeadingCollapsed": true
   },
   "source": [
    "### fan 8 ($b_1=-2$, $c_2=-1$)"
   ]
  },
  {
   "cell_type": "code",
   "execution_count": 243,
   "id": "48c5a3cc-1920-4651-8a0d-c811682f8c61",
   "metadata": {},
   "outputs": [
    {
     "data": {
      "text/latex": [
       "$\\displaystyle \\left[\\begin{matrix}1 & 0 & 0 & 0 & -1 & - c_{2} - 1 & 1\\\\0 & 1 & 0 & -1 & -2 & - 2 c_{2} - 1 & 2\\\\0 & 0 & 1 & 1 & 1 & c_{2} & -1\\end{matrix}\\right] = \\left[\\begin{matrix}1 & 0 & 0 & 0 & -1 & 0 & 1\\\\0 & 1 & 0 & -1 & b_{1} & 1 & 2\\\\0 & 0 & 1 & 1 & - b_{1} - 1 & -1 & -1\\end{matrix}\\right]$"
      ],
      "text/plain": [
       "Eq(Matrix([\n",
       "[1, 0, 0,  0, -1,   -c2 - 1,  1],\n",
       "[0, 1, 0, -1, -2, -2*c2 - 1,  2],\n",
       "[0, 0, 1,  1,  1,        c2, -1]]), Matrix([\n",
       "[1, 0, 0,  0,      -1,  0,  1],\n",
       "[0, 1, 0, -1,      b1,  1,  2],\n",
       "[0, 0, 1,  1, -b1 - 1, -1, -1]]))"
      ]
     },
     "metadata": {},
     "output_type": "display_data"
    },
    {
     "data": {
      "text/latex": [
       "$\\displaystyle \\text{True}$"
      ],
      "text/plain": [
       "True"
      ]
     },
     "execution_count": 243,
     "metadata": {},
     "output_type": "execute_result"
    }
   ],
   "source": [
    "display(sp.Eq(fans[6], fans[8], evaluate=False))\n",
    "sp.Eq(fans[6].subs(c2,-1), fans[8].subs(b1,-2))"
   ]
  },
  {
   "cell_type": "markdown",
   "id": "21b9308a-b1f8-454d-942d-d6ae4b8afbd0",
   "metadata": {
    "jp-MarkdownHeadingCollapsed": true
   },
   "source": [
    "## fan 7"
   ]
  },
  {
   "cell_type": "markdown",
   "id": "658ec3a8-76ee-45e8-a41e-56f7c7de72c1",
   "metadata": {
    "jp-MarkdownHeadingCollapsed": true
   },
   "source": [
    "### fan 8 ($b_1=-1$, $d_0=1$, $d_1=2$)"
   ]
  },
  {
   "cell_type": "code",
   "execution_count": 250,
   "id": "31dbc065-67f3-46e4-be82-c4af297a1c53",
   "metadata": {},
   "outputs": [
    {
     "data": {
      "text/latex": [
       "$\\displaystyle \\left[\\begin{matrix}1 & 0 & 0 & 0 & -1 & d_{0} - 1 & d_{0}\\\\0 & 1 & 0 & -1 & -1 & d_{1} - 1 & d_{1}\\\\0 & 0 & 1 & 1 & 0 & -1 & -1\\end{matrix}\\right] = \\left[\\begin{matrix}1 & 0 & 0 & 0 & -1 & 0 & 1\\\\0 & 1 & 0 & -1 & b_{1} & 1 & 2\\\\0 & 0 & 1 & 1 & - b_{1} - 1 & -1 & -1\\end{matrix}\\right]$"
      ],
      "text/plain": [
       "Eq(Matrix([\n",
       "[1, 0, 0,  0, -1, d0 - 1, d0],\n",
       "[0, 1, 0, -1, -1, d1 - 1, d1],\n",
       "[0, 0, 1,  1,  0,     -1, -1]]), Matrix([\n",
       "[1, 0, 0,  0,      -1,  0,  1],\n",
       "[0, 1, 0, -1,      b1,  1,  2],\n",
       "[0, 0, 1,  1, -b1 - 1, -1, -1]]))"
      ]
     },
     "metadata": {},
     "output_type": "display_data"
    },
    {
     "data": {
      "text/latex": [
       "$\\displaystyle \\text{True}$"
      ],
      "text/plain": [
       "True"
      ]
     },
     "execution_count": 250,
     "metadata": {},
     "output_type": "execute_result"
    }
   ],
   "source": [
    "display(sp.Eq(fans[7], fans[8], evaluate=False))\n",
    "sp.Eq(fans[7].subs(d0,1).subs(d1,2), fans[8].subs(b1,-1))"
   ]
  },
  {
   "cell_type": "markdown",
   "id": "65513ce7-9f88-4289-a7a5-87ba6823119d",
   "metadata": {
    "jp-MarkdownHeadingCollapsed": true
   },
   "source": [
    "### fan 9 ($c_2=-1$, $d_0=0$, $d_1=1$)"
   ]
  },
  {
   "cell_type": "code",
   "execution_count": 252,
   "id": "a2a57407-9692-4af7-884e-f8e520fa0787",
   "metadata": {},
   "outputs": [
    {
     "data": {
      "text/latex": [
       "$\\displaystyle \\left[\\begin{matrix}1 & 0 & 0 & 0 & -1 & d_{0} - 1 & d_{0}\\\\0 & 1 & 0 & -1 & -1 & d_{1} - 1 & d_{1}\\\\0 & 0 & 1 & 1 & 0 & -1 & -1\\end{matrix}\\right] = \\left[\\begin{matrix}1 & 0 & 0 & 0 & -1 & -1 & 0\\\\0 & 1 & 0 & -1 & - c_{2} - 2 & - c_{2} - 1 & 1\\\\0 & 0 & 1 & 1 & c_{2} + 1 & c_{2} & -1\\end{matrix}\\right]$"
      ],
      "text/plain": [
       "Eq(Matrix([\n",
       "[1, 0, 0,  0, -1, d0 - 1, d0],\n",
       "[0, 1, 0, -1, -1, d1 - 1, d1],\n",
       "[0, 0, 1,  1,  0,     -1, -1]]), Matrix([\n",
       "[1, 0, 0,  0,      -1,      -1,  0],\n",
       "[0, 1, 0, -1, -c2 - 2, -c2 - 1,  1],\n",
       "[0, 0, 1,  1,  c2 + 1,      c2, -1]]))"
      ]
     },
     "metadata": {},
     "output_type": "display_data"
    },
    {
     "data": {
      "text/latex": [
       "$\\displaystyle \\text{True}$"
      ],
      "text/plain": [
       "True"
      ]
     },
     "execution_count": 252,
     "metadata": {},
     "output_type": "execute_result"
    }
   ],
   "source": [
    "display(sp.Eq(fans[7], fans[9], evaluate=False))\n",
    "sp.Eq(fans[7].subs(d0,0).subs(d1,1), fans[9].subs(c2,-1))"
   ]
  },
  {
   "cell_type": "markdown",
   "id": "55794d98-5e07-4a6e-a55a-d52e5483ac4a",
   "metadata": {
    "jp-MarkdownHeadingCollapsed": true
   },
   "source": [
    "### fan 10 ($c_2=-1$, $d_0=0$, $d_1=0$)"
   ]
  },
  {
   "cell_type": "code",
   "execution_count": 257,
   "id": "2da8375a-d0bc-449a-892b-8b524fc2b7dd",
   "metadata": {},
   "outputs": [
    {
     "data": {
      "text/latex": [
       "$\\displaystyle \\left[\\begin{matrix}1 & 0 & 0 & 0 & -1 & d_{0} - 1 & d_{0}\\\\0 & 1 & 0 & -1 & -1 & d_{1} - 1 & d_{1}\\\\0 & 0 & 1 & 1 & 0 & -1 & -1\\end{matrix}\\right] = \\left[\\begin{matrix}1 & 0 & 0 & 0 & -1 & -1 & 0\\\\0 & 1 & 0 & -1 & -1 & -1 & 0\\\\0 & 0 & 1 & c_{2} + 2 & c_{2} + 1 & c_{2} & -1\\end{matrix}\\right]$"
      ],
      "text/plain": [
       "Eq(Matrix([\n",
       "[1, 0, 0,  0, -1, d0 - 1, d0],\n",
       "[0, 1, 0, -1, -1, d1 - 1, d1],\n",
       "[0, 0, 1,  1,  0,     -1, -1]]), Matrix([\n",
       "[1, 0, 0,      0,     -1, -1,  0],\n",
       "[0, 1, 0,     -1,     -1, -1,  0],\n",
       "[0, 0, 1, c2 + 2, c2 + 1, c2, -1]]))"
      ]
     },
     "metadata": {},
     "output_type": "display_data"
    },
    {
     "data": {
      "text/latex": [
       "$\\displaystyle \\text{True}$"
      ],
      "text/plain": [
       "True"
      ]
     },
     "execution_count": 257,
     "metadata": {},
     "output_type": "execute_result"
    }
   ],
   "source": [
    "display(sp.Eq(fans[7], fans[10], evaluate=False))\n",
    "sp.Eq(fans[7].subs(d0,0).subs(d1,0), fans[10].subs(c2,-1))"
   ]
  },
  {
   "cell_type": "markdown",
   "id": "38e8ee74-c714-4aa3-8e7f-9704c9e67250",
   "metadata": {
    "jp-MarkdownHeadingCollapsed": true
   },
   "source": [
    "### fan 12 ($a_2=1$, $d_0=1$, $d_1=1$)"
   ]
  },
  {
   "cell_type": "code",
   "execution_count": 265,
   "id": "67215a2b-aacc-4937-8fae-59ff8e59bd57",
   "metadata": {},
   "outputs": [
    {
     "data": {
      "text/latex": [
       "$\\displaystyle \\left[\\begin{matrix}1 & 0 & 0 & 0 & -1 & d_{0} - 1 & d_{0}\\\\0 & 1 & 0 & -1 & -1 & d_{1} - 1 & d_{1}\\\\0 & 0 & 1 & 1 & 0 & -1 & -1\\end{matrix}\\right] = \\left[\\begin{matrix}1 & 0 & 0 & 0 & -1 & 0 & 1\\\\0 & 1 & 0 & -1 & -1 & 0 & 1\\\\0 & 0 & 1 & a_{2} & a_{2} - 1 & -1 & -1\\end{matrix}\\right]$"
      ],
      "text/plain": [
       "Eq(Matrix([\n",
       "[1, 0, 0,  0, -1, d0 - 1, d0],\n",
       "[0, 1, 0, -1, -1, d1 - 1, d1],\n",
       "[0, 0, 1,  1,  0,     -1, -1]]), Matrix([\n",
       "[1, 0, 0,  0,     -1,  0,  1],\n",
       "[0, 1, 0, -1,     -1,  0,  1],\n",
       "[0, 0, 1, a2, a2 - 1, -1, -1]]))"
      ]
     },
     "metadata": {},
     "output_type": "display_data"
    },
    {
     "data": {
      "text/latex": [
       "$\\displaystyle \\text{True}$"
      ],
      "text/plain": [
       "True"
      ]
     },
     "execution_count": 265,
     "metadata": {},
     "output_type": "execute_result"
    }
   ],
   "source": [
    "display(sp.Eq(fans[7], fans[12], evaluate=False))\n",
    "sp.Eq(fans[7].subs(d0,1).subs(d1,1), fans[12].subs(a2,1))"
   ]
  },
  {
   "cell_type": "markdown",
   "id": "5e3bfe3f-c25e-44ce-8467-3c06b59bb3d9",
   "metadata": {
    "jp-MarkdownHeadingCollapsed": true
   },
   "source": [
    "## fan 8"
   ]
  },
  {
   "cell_type": "markdown",
   "id": "73ad152c-d775-4d05-849f-5f4c218a4909",
   "metadata": {
    "jp-MarkdownHeadingCollapsed": true
   },
   "source": [
    "### fan 0 ($a_0=0$, $a_2=1$, $b_1=0$)"
   ]
  },
  {
   "cell_type": "code",
   "execution_count": 159,
   "id": "250117d3-e55e-4b8a-8ee9-7e8231780038",
   "metadata": {},
   "outputs": [
    {
     "data": {
      "text/latex": [
       "$\\displaystyle \\left[\\begin{matrix}1 & 0 & 0 & a_{0} & -1 & 0 & 1\\\\0 & 1 & 0 & -1 & 0 & 1 & 2\\\\0 & 0 & 1 & a_{2} & -1 & -1 & -1\\end{matrix}\\right] = \\left[\\begin{matrix}1 & 0 & 0 & 0 & -1 & 0 & 1\\\\0 & 1 & 0 & -1 & b_{1} & 1 & 2\\\\0 & 0 & 1 & 1 & - b_{1} - 1 & -1 & -1\\end{matrix}\\right]$"
      ],
      "text/plain": [
       "Eq(Matrix([\n",
       "[1, 0, 0, a0, -1,  0,  1],\n",
       "[0, 1, 0, -1,  0,  1,  2],\n",
       "[0, 0, 1, a2, -1, -1, -1]]), Matrix([\n",
       "[1, 0, 0,  0,      -1,  0,  1],\n",
       "[0, 1, 0, -1,      b1,  1,  2],\n",
       "[0, 0, 1,  1, -b1 - 1, -1, -1]]))"
      ]
     },
     "metadata": {},
     "output_type": "display_data"
    },
    {
     "data": {
      "text/latex": [
       "$\\displaystyle \\text{True}$"
      ],
      "text/plain": [
       "True"
      ]
     },
     "execution_count": 159,
     "metadata": {},
     "output_type": "execute_result"
    }
   ],
   "source": [
    "display(sp.Eq(fans[0], fans[8], evaluate=False))\n",
    "sp.Eq(fans[0].subs(a0,0).subs(a2,1), fans[8].subs(b1,0))"
   ]
  },
  {
   "cell_type": "markdown",
   "id": "9f855c6a-6ef1-47c4-86e7-82a97fe4c3bc",
   "metadata": {
    "jp-MarkdownHeadingCollapsed": true
   },
   "source": [
    "### fan 6 ($b_1=-2$, $c_2=-1$)"
   ]
  },
  {
   "cell_type": "code",
   "execution_count": 243,
   "id": "454561c3-a83b-405e-b131-88ff50dfc884",
   "metadata": {},
   "outputs": [
    {
     "data": {
      "text/latex": [
       "$\\displaystyle \\left[\\begin{matrix}1 & 0 & 0 & 0 & -1 & - c_{2} - 1 & 1\\\\0 & 1 & 0 & -1 & -2 & - 2 c_{2} - 1 & 2\\\\0 & 0 & 1 & 1 & 1 & c_{2} & -1\\end{matrix}\\right] = \\left[\\begin{matrix}1 & 0 & 0 & 0 & -1 & 0 & 1\\\\0 & 1 & 0 & -1 & b_{1} & 1 & 2\\\\0 & 0 & 1 & 1 & - b_{1} - 1 & -1 & -1\\end{matrix}\\right]$"
      ],
      "text/plain": [
       "Eq(Matrix([\n",
       "[1, 0, 0,  0, -1,   -c2 - 1,  1],\n",
       "[0, 1, 0, -1, -2, -2*c2 - 1,  2],\n",
       "[0, 0, 1,  1,  1,        c2, -1]]), Matrix([\n",
       "[1, 0, 0,  0,      -1,  0,  1],\n",
       "[0, 1, 0, -1,      b1,  1,  2],\n",
       "[0, 0, 1,  1, -b1 - 1, -1, -1]]))"
      ]
     },
     "metadata": {},
     "output_type": "display_data"
    },
    {
     "data": {
      "text/latex": [
       "$\\displaystyle \\text{True}$"
      ],
      "text/plain": [
       "True"
      ]
     },
     "execution_count": 243,
     "metadata": {},
     "output_type": "execute_result"
    }
   ],
   "source": [
    "display(sp.Eq(fans[6], fans[8], evaluate=False))\n",
    "sp.Eq(fans[6].subs(c2,-1), fans[8].subs(b1,-2))"
   ]
  },
  {
   "cell_type": "markdown",
   "id": "db6927ff-dc16-46a2-9514-7a34450fde03",
   "metadata": {
    "jp-MarkdownHeadingCollapsed": true
   },
   "source": [
    "### fan 7 ($b_1=-1$, $d_0=1$, $d_1=2$)"
   ]
  },
  {
   "cell_type": "code",
   "execution_count": 250,
   "id": "c5ff501c-587f-4499-bcc3-65bd5225070b",
   "metadata": {},
   "outputs": [
    {
     "data": {
      "text/latex": [
       "$\\displaystyle \\left[\\begin{matrix}1 & 0 & 0 & 0 & -1 & d_{0} - 1 & d_{0}\\\\0 & 1 & 0 & -1 & -1 & d_{1} - 1 & d_{1}\\\\0 & 0 & 1 & 1 & 0 & -1 & -1\\end{matrix}\\right] = \\left[\\begin{matrix}1 & 0 & 0 & 0 & -1 & 0 & 1\\\\0 & 1 & 0 & -1 & b_{1} & 1 & 2\\\\0 & 0 & 1 & 1 & - b_{1} - 1 & -1 & -1\\end{matrix}\\right]$"
      ],
      "text/plain": [
       "Eq(Matrix([\n",
       "[1, 0, 0,  0, -1, d0 - 1, d0],\n",
       "[0, 1, 0, -1, -1, d1 - 1, d1],\n",
       "[0, 0, 1,  1,  0,     -1, -1]]), Matrix([\n",
       "[1, 0, 0,  0,      -1,  0,  1],\n",
       "[0, 1, 0, -1,      b1,  1,  2],\n",
       "[0, 0, 1,  1, -b1 - 1, -1, -1]]))"
      ]
     },
     "metadata": {},
     "output_type": "display_data"
    },
    {
     "data": {
      "text/latex": [
       "$\\displaystyle \\text{True}$"
      ],
      "text/plain": [
       "True"
      ]
     },
     "execution_count": 250,
     "metadata": {},
     "output_type": "execute_result"
    }
   ],
   "source": [
    "display(sp.Eq(fans[7], fans[8], evaluate=False))\n",
    "sp.Eq(fans[7].subs(d0,1).subs(d1,2), fans[8].subs(b1,-1))"
   ]
  },
  {
   "cell_type": "markdown",
   "id": "7928a9f9-4ef2-457d-a286-be01cbc0ae75",
   "metadata": {
    "jp-MarkdownHeadingCollapsed": true
   },
   "source": [
    "## fan 9"
   ]
  },
  {
   "cell_type": "markdown",
   "id": "46e8345c-8281-4404-bec2-9b4b5d5c6a5f",
   "metadata": {
    "jp-MarkdownHeadingCollapsed": true
   },
   "source": [
    "### fan 1 ($a_0=0$, $a_2=1$, $c_2=-2$)"
   ]
  },
  {
   "cell_type": "code",
   "execution_count": 179,
   "id": "e8c53880-d012-4d3b-b37f-303ba52e202c",
   "metadata": {},
   "outputs": [
    {
     "data": {
      "text/latex": [
       "$\\displaystyle \\left[\\begin{matrix}1 & 0 & 0 & a_{0} & -1 & -1 & 0\\\\0 & 1 & 0 & -1 & 0 & 1 & 1\\\\0 & 0 & 1 & a_{2} & -1 & -2 & -1\\end{matrix}\\right] = \\left[\\begin{matrix}1 & 0 & 0 & 0 & -1 & -1 & 0\\\\0 & 1 & 0 & -1 & - c_{2} - 2 & - c_{2} - 1 & 1\\\\0 & 0 & 1 & 1 & c_{2} + 1 & c_{2} & -1\\end{matrix}\\right]$"
      ],
      "text/plain": [
       "Eq(Matrix([\n",
       "[1, 0, 0, a0, -1, -1,  0],\n",
       "[0, 1, 0, -1,  0,  1,  1],\n",
       "[0, 0, 1, a2, -1, -2, -1]]), Matrix([\n",
       "[1, 0, 0,  0,      -1,      -1,  0],\n",
       "[0, 1, 0, -1, -c2 - 2, -c2 - 1,  1],\n",
       "[0, 0, 1,  1,  c2 + 1,      c2, -1]]))"
      ]
     },
     "metadata": {},
     "output_type": "display_data"
    },
    {
     "data": {
      "text/latex": [
       "$\\displaystyle \\text{True}$"
      ],
      "text/plain": [
       "True"
      ]
     },
     "execution_count": 179,
     "metadata": {},
     "output_type": "execute_result"
    }
   ],
   "source": [
    "display(sp.Eq(fans[1], fans[9], evaluate=False))\n",
    "sp.Eq(fans[1].subs(a0,0).subs(a2,1), fans[9].subs(c2,-2))"
   ]
  },
  {
   "cell_type": "markdown",
   "id": "981a9f61-0c22-43fb-9199-ae39fb5c6e86",
   "metadata": {
    "jp-MarkdownHeadingCollapsed": true
   },
   "source": [
    "### fan 2 ($c_2=0$, $d_0=0$, $d_1=1$)"
   ]
  },
  {
   "cell_type": "code",
   "execution_count": 196,
   "id": "6e1ef3da-4be5-4ab0-8fce-2105cc4204cb",
   "metadata": {},
   "outputs": [
    {
     "data": {
      "text/latex": [
       "$\\displaystyle \\left[\\begin{matrix}1 & 0 & 0 & 0 & -1 & -1 & d_{0}\\\\0 & 1 & 0 & -1 & -2 & -1 & d_{1}\\\\0 & 0 & 1 & 1 & 1 & 0 & -1\\end{matrix}\\right] = \\left[\\begin{matrix}1 & 0 & 0 & 0 & -1 & -1 & 0\\\\0 & 1 & 0 & -1 & - c_{2} - 2 & - c_{2} - 1 & 1\\\\0 & 0 & 1 & 1 & c_{2} + 1 & c_{2} & -1\\end{matrix}\\right]$"
      ],
      "text/plain": [
       "Eq(Matrix([\n",
       "[1, 0, 0,  0, -1, -1, d0],\n",
       "[0, 1, 0, -1, -2, -1, d1],\n",
       "[0, 0, 1,  1,  1,  0, -1]]), Matrix([\n",
       "[1, 0, 0,  0,      -1,      -1,  0],\n",
       "[0, 1, 0, -1, -c2 - 2, -c2 - 1,  1],\n",
       "[0, 0, 1,  1,  c2 + 1,      c2, -1]]))"
      ]
     },
     "metadata": {},
     "output_type": "display_data"
    },
    {
     "data": {
      "text/latex": [
       "$\\displaystyle \\text{True}$"
      ],
      "text/plain": [
       "True"
      ]
     },
     "execution_count": 196,
     "metadata": {},
     "output_type": "execute_result"
    }
   ],
   "source": [
    "display(sp.Eq(fans[2], fans[9], evaluate=False))\n",
    "sp.Eq(fans[2].subs(d0,0).subs(d1,1), fans[9].subs(c2,0))"
   ]
  },
  {
   "cell_type": "markdown",
   "id": "169b2a04-bd19-4fdc-ac31-e6a5b79615c8",
   "metadata": {
    "jp-MarkdownHeadingCollapsed": true
   },
   "source": [
    "### fan 7 ($c_2=-1$, $d_0=0$, $d_1=1$)"
   ]
  },
  {
   "cell_type": "code",
   "execution_count": 252,
   "id": "e6a9e265-968b-48d3-809d-a5f1a20db6b9",
   "metadata": {},
   "outputs": [
    {
     "data": {
      "text/latex": [
       "$\\displaystyle \\left[\\begin{matrix}1 & 0 & 0 & 0 & -1 & d_{0} - 1 & d_{0}\\\\0 & 1 & 0 & -1 & -1 & d_{1} - 1 & d_{1}\\\\0 & 0 & 1 & 1 & 0 & -1 & -1\\end{matrix}\\right] = \\left[\\begin{matrix}1 & 0 & 0 & 0 & -1 & -1 & 0\\\\0 & 1 & 0 & -1 & - c_{2} - 2 & - c_{2} - 1 & 1\\\\0 & 0 & 1 & 1 & c_{2} + 1 & c_{2} & -1\\end{matrix}\\right]$"
      ],
      "text/plain": [
       "Eq(Matrix([\n",
       "[1, 0, 0,  0, -1, d0 - 1, d0],\n",
       "[0, 1, 0, -1, -1, d1 - 1, d1],\n",
       "[0, 0, 1,  1,  0,     -1, -1]]), Matrix([\n",
       "[1, 0, 0,  0,      -1,      -1,  0],\n",
       "[0, 1, 0, -1, -c2 - 2, -c2 - 1,  1],\n",
       "[0, 0, 1,  1,  c2 + 1,      c2, -1]]))"
      ]
     },
     "metadata": {},
     "output_type": "display_data"
    },
    {
     "data": {
      "text/latex": [
       "$\\displaystyle \\text{True}$"
      ],
      "text/plain": [
       "True"
      ]
     },
     "execution_count": 252,
     "metadata": {},
     "output_type": "execute_result"
    }
   ],
   "source": [
    "display(sp.Eq(fans[7], fans[9], evaluate=False))\n",
    "sp.Eq(fans[7].subs(d0,0).subs(d1,1), fans[9].subs(c2,-1))"
   ]
  },
  {
   "cell_type": "markdown",
   "id": "cd8a73c3-5bb9-4a31-815c-824800a35528",
   "metadata": {
    "jp-MarkdownHeadingCollapsed": true
   },
   "source": [
    "## fan 10"
   ]
  },
  {
   "cell_type": "markdown",
   "id": "c60d9e39-975c-484c-8dd0-52bf0a631c6d",
   "metadata": {
    "jp-MarkdownHeadingCollapsed": true
   },
   "source": [
    "### fan 3 ($c_2=0$, $d_0=0$, $d_1=0$)"
   ]
  },
  {
   "cell_type": "code",
   "execution_count": 208,
   "id": "604007fc-3088-4d18-bbd9-0265184f7093",
   "metadata": {},
   "outputs": [
    {
     "data": {
      "text/latex": [
       "$\\displaystyle \\left[\\begin{matrix}1 & 0 & 0 & 0 & -1 & -1 & d_{0}\\\\0 & 1 & 0 & -1 & -1 & -1 & d_{1}\\\\0 & 0 & 1 & 2 & 1 & 0 & -1\\end{matrix}\\right] = \\left[\\begin{matrix}1 & 0 & 0 & 0 & -1 & -1 & 0\\\\0 & 1 & 0 & -1 & -1 & -1 & 0\\\\0 & 0 & 1 & c_{2} + 2 & c_{2} + 1 & c_{2} & -1\\end{matrix}\\right]$"
      ],
      "text/plain": [
       "Eq(Matrix([\n",
       "[1, 0, 0,  0, -1, -1, d0],\n",
       "[0, 1, 0, -1, -1, -1, d1],\n",
       "[0, 0, 1,  2,  1,  0, -1]]), Matrix([\n",
       "[1, 0, 0,      0,     -1, -1,  0],\n",
       "[0, 1, 0,     -1,     -1, -1,  0],\n",
       "[0, 0, 1, c2 + 2, c2 + 1, c2, -1]]))"
      ]
     },
     "metadata": {},
     "output_type": "display_data"
    },
    {
     "data": {
      "text/latex": [
       "$\\displaystyle \\text{True}$"
      ],
      "text/plain": [
       "True"
      ]
     },
     "execution_count": 208,
     "metadata": {},
     "output_type": "execute_result"
    }
   ],
   "source": [
    "display(sp.Eq(fans[3], fans[10], evaluate=False))\n",
    "sp.Eq(fans[3].subs(d0,0).subs(d1,0), fans[10].subs(c2,0))"
   ]
  },
  {
   "cell_type": "markdown",
   "id": "3e4a5f4c-af85-4b98-ba8f-dd29ede7ac87",
   "metadata": {
    "jp-MarkdownHeadingCollapsed": true
   },
   "source": [
    "### fan 5 ($c_2=-2$, $d_1=0$)"
   ]
  },
  {
   "cell_type": "code",
   "execution_count": 233,
   "id": "4f1ad5ba-ff48-487d-84c7-3881e2381856",
   "metadata": {},
   "outputs": [
    {
     "data": {
      "text/latex": [
       "$\\displaystyle \\left[\\begin{matrix}1 & 0 & 0 & 0 & -1 & -1 & 0\\\\0 & 1 & 0 & -1 & d_{1} - 1 & 2 d_{1} - 1 & d_{1}\\\\0 & 0 & 1 & 0 & -1 & -2 & -1\\end{matrix}\\right] = \\left[\\begin{matrix}1 & 0 & 0 & 0 & -1 & -1 & 0\\\\0 & 1 & 0 & -1 & -1 & -1 & 0\\\\0 & 0 & 1 & c_{2} + 2 & c_{2} + 1 & c_{2} & -1\\end{matrix}\\right]$"
      ],
      "text/plain": [
       "Eq(Matrix([\n",
       "[1, 0, 0,  0,     -1,       -1,  0],\n",
       "[0, 1, 0, -1, d1 - 1, 2*d1 - 1, d1],\n",
       "[0, 0, 1,  0,     -1,       -2, -1]]), Matrix([\n",
       "[1, 0, 0,      0,     -1, -1,  0],\n",
       "[0, 1, 0,     -1,     -1, -1,  0],\n",
       "[0, 0, 1, c2 + 2, c2 + 1, c2, -1]]))"
      ]
     },
     "metadata": {},
     "output_type": "display_data"
    },
    {
     "data": {
      "text/latex": [
       "$\\displaystyle \\text{True}$"
      ],
      "text/plain": [
       "True"
      ]
     },
     "execution_count": 233,
     "metadata": {},
     "output_type": "execute_result"
    }
   ],
   "source": [
    "display(sp.Eq(fans[5], fans[10], evaluate=False))\n",
    "sp.Eq(fans[5].subs(d1,0), fans[10].subs(c2,-2))"
   ]
  },
  {
   "cell_type": "markdown",
   "id": "0f9b7069-35d4-4d98-a87b-ec8bfc3dbdd4",
   "metadata": {
    "jp-MarkdownHeadingCollapsed": true
   },
   "source": [
    "### fan 7 ($c_2=-1$, $d_0=0$, $d_1=0$)"
   ]
  },
  {
   "cell_type": "code",
   "execution_count": 257,
   "id": "8456b992-5307-4ddc-aee0-930cf789821a",
   "metadata": {},
   "outputs": [
    {
     "data": {
      "text/latex": [
       "$\\displaystyle \\left[\\begin{matrix}1 & 0 & 0 & 0 & -1 & d_{0} - 1 & d_{0}\\\\0 & 1 & 0 & -1 & -1 & d_{1} - 1 & d_{1}\\\\0 & 0 & 1 & 1 & 0 & -1 & -1\\end{matrix}\\right] = \\left[\\begin{matrix}1 & 0 & 0 & 0 & -1 & -1 & 0\\\\0 & 1 & 0 & -1 & -1 & -1 & 0\\\\0 & 0 & 1 & c_{2} + 2 & c_{2} + 1 & c_{2} & -1\\end{matrix}\\right]$"
      ],
      "text/plain": [
       "Eq(Matrix([\n",
       "[1, 0, 0,  0, -1, d0 - 1, d0],\n",
       "[0, 1, 0, -1, -1, d1 - 1, d1],\n",
       "[0, 0, 1,  1,  0,     -1, -1]]), Matrix([\n",
       "[1, 0, 0,      0,     -1, -1,  0],\n",
       "[0, 1, 0,     -1,     -1, -1,  0],\n",
       "[0, 0, 1, c2 + 2, c2 + 1, c2, -1]]))"
      ]
     },
     "metadata": {},
     "output_type": "display_data"
    },
    {
     "data": {
      "text/latex": [
       "$\\displaystyle \\text{True}$"
      ],
      "text/plain": [
       "True"
      ]
     },
     "execution_count": 257,
     "metadata": {},
     "output_type": "execute_result"
    }
   ],
   "source": [
    "display(sp.Eq(fans[7], fans[10], evaluate=False))\n",
    "sp.Eq(fans[7].subs(d0,0).subs(d1,0), fans[10].subs(c2,-1))"
   ]
  },
  {
   "cell_type": "markdown",
   "id": "4722c8fa-7031-44ca-9ec7-4aef43261ed3",
   "metadata": {
    "jp-MarkdownHeadingCollapsed": true
   },
   "source": [
    "## fan 11"
   ]
  },
  {
   "cell_type": "markdown",
   "id": "b33af48c-b503-443d-89d1-723c51a1844f",
   "metadata": {
    "jp-MarkdownHeadingCollapsed": true
   },
   "source": [
    "### fan 3 ($c_2=0$, $d_0=1$, $d_1=1$)"
   ]
  },
  {
   "cell_type": "code",
   "execution_count": 210,
   "id": "e25e26b9-7c1f-48d1-b0bb-ce2eed7957c4",
   "metadata": {},
   "outputs": [
    {
     "data": {
      "text/latex": [
       "$\\displaystyle \\left[\\begin{matrix}1 & 0 & 0 & 0 & -1 & -1 & d_{0}\\\\0 & 1 & 0 & -1 & -1 & -1 & d_{1}\\\\0 & 0 & 1 & 2 & 1 & 0 & -1\\end{matrix}\\right] = \\left[\\begin{matrix}1 & 0 & 0 & 0 & -1 & - c_{2} - 1 & 1\\\\0 & 1 & 0 & -1 & -1 & - c_{2} - 1 & 1\\\\0 & 0 & 1 & 2 & 1 & c_{2} & -1\\end{matrix}\\right]$"
      ],
      "text/plain": [
       "Eq(Matrix([\n",
       "[1, 0, 0,  0, -1, -1, d0],\n",
       "[0, 1, 0, -1, -1, -1, d1],\n",
       "[0, 0, 1,  2,  1,  0, -1]]), Matrix([\n",
       "[1, 0, 0,  0, -1, -c2 - 1,  1],\n",
       "[0, 1, 0, -1, -1, -c2 - 1,  1],\n",
       "[0, 0, 1,  2,  1,      c2, -1]]))"
      ]
     },
     "metadata": {},
     "output_type": "display_data"
    },
    {
     "data": {
      "text/latex": [
       "$\\displaystyle \\text{True}$"
      ],
      "text/plain": [
       "True"
      ]
     },
     "execution_count": 210,
     "metadata": {},
     "output_type": "execute_result"
    }
   ],
   "source": [
    "display(sp.Eq(fans[3], fans[11], evaluate=False))\n",
    "sp.Eq(fans[3].subs(d0,1).subs(d1,1), fans[11].subs(c2,0))"
   ]
  },
  {
   "cell_type": "markdown",
   "id": "2d5bf18a-c3b3-48c3-835d-ac48a3117a55",
   "metadata": {
    "jp-MarkdownHeadingCollapsed": true
   },
   "source": [
    "### fan 12 ($a_2=2$, $c_2=-1$)"
   ]
  },
  {
   "cell_type": "code",
   "execution_count": 281,
   "id": "087f2ccb-05ac-4370-b441-b9f00ee7cdeb",
   "metadata": {},
   "outputs": [
    {
     "data": {
      "text/latex": [
       "$\\displaystyle \\left[\\begin{matrix}1 & 0 & 0 & 0 & -1 & - c_{2} - 1 & 1\\\\0 & 1 & 0 & -1 & -1 & - c_{2} - 1 & 1\\\\0 & 0 & 1 & 2 & 1 & c_{2} & -1\\end{matrix}\\right] = \\left[\\begin{matrix}1 & 0 & 0 & 0 & -1 & 0 & 1\\\\0 & 1 & 0 & -1 & -1 & 0 & 1\\\\0 & 0 & 1 & a_{2} & a_{2} - 1 & -1 & -1\\end{matrix}\\right]$"
      ],
      "text/plain": [
       "Eq(Matrix([\n",
       "[1, 0, 0,  0, -1, -c2 - 1,  1],\n",
       "[0, 1, 0, -1, -1, -c2 - 1,  1],\n",
       "[0, 0, 1,  2,  1,      c2, -1]]), Matrix([\n",
       "[1, 0, 0,  0,     -1,  0,  1],\n",
       "[0, 1, 0, -1,     -1,  0,  1],\n",
       "[0, 0, 1, a2, a2 - 1, -1, -1]]))"
      ]
     },
     "metadata": {},
     "output_type": "display_data"
    },
    {
     "data": {
      "text/latex": [
       "$\\displaystyle \\text{True}$"
      ],
      "text/plain": [
       "True"
      ]
     },
     "execution_count": 281,
     "metadata": {},
     "output_type": "execute_result"
    }
   ],
   "source": [
    "display(sp.Eq(fans[11], fans[12], evaluate=False))\n",
    "sp.Eq(fans[11].subs(c2,-1), fans[12].subs(a2,2))"
   ]
  },
  {
   "cell_type": "markdown",
   "id": "76479088-46b9-41f6-ad87-08e8c0a10a1c",
   "metadata": {
    "jp-MarkdownHeadingCollapsed": true
   },
   "source": [
    "## fan 12"
   ]
  },
  {
   "cell_type": "markdown",
   "id": "9254ca50-0e76-4f62-a479-7e2f272f2e25",
   "metadata": {
    "jp-MarkdownHeadingCollapsed": true
   },
   "source": [
    "### fan 4 ($a_2=0$, $d_1=1$)"
   ]
  },
  {
   "cell_type": "code",
   "execution_count": 213,
   "id": "7819cb12-80d3-472e-b0b5-f10157ae9ac5",
   "metadata": {},
   "outputs": [
    {
     "data": {
      "text/latex": [
       "$\\displaystyle \\left[\\begin{matrix}1 & 0 & 0 & 0 & -1 & 0 & 1\\\\0 & 1 & 0 & -1 & d_{1} - 2 & d_{1} - 1 & d_{1}\\\\0 & 0 & 1 & 0 & -1 & -1 & -1\\end{matrix}\\right] = \\left[\\begin{matrix}1 & 0 & 0 & 0 & -1 & 0 & 1\\\\0 & 1 & 0 & -1 & -1 & 0 & 1\\\\0 & 0 & 1 & a_{2} & a_{2} - 1 & -1 & -1\\end{matrix}\\right]$"
      ],
      "text/plain": [
       "Eq(Matrix([\n",
       "[1, 0, 0,  0,     -1,      0,  1],\n",
       "[0, 1, 0, -1, d1 - 2, d1 - 1, d1],\n",
       "[0, 0, 1,  0,     -1,     -1, -1]]), Matrix([\n",
       "[1, 0, 0,  0,     -1,  0,  1],\n",
       "[0, 1, 0, -1,     -1,  0,  1],\n",
       "[0, 0, 1, a2, a2 - 1, -1, -1]]))"
      ]
     },
     "metadata": {},
     "output_type": "display_data"
    },
    {
     "data": {
      "text/latex": [
       "$\\displaystyle \\text{True}$"
      ],
      "text/plain": [
       "True"
      ]
     },
     "execution_count": 213,
     "metadata": {},
     "output_type": "execute_result"
    }
   ],
   "source": [
    "display(sp.Eq(fans[4], fans[12], evaluate=False))\n",
    "sp.Eq(fans[4].subs(d1,1), fans[12].subs(a2,0))"
   ]
  },
  {
   "cell_type": "markdown",
   "id": "cca4db18-c3e9-436a-92d2-e6becd8624b2",
   "metadata": {
    "jp-MarkdownHeadingCollapsed": true
   },
   "source": [
    "### fan 7 ($a_2=1$, $d_0=1$, $d_1=1$)"
   ]
  },
  {
   "cell_type": "code",
   "execution_count": 265,
   "id": "8a76f94f-1a38-4fcc-82ca-5306895405a6",
   "metadata": {},
   "outputs": [
    {
     "data": {
      "text/latex": [
       "$\\displaystyle \\left[\\begin{matrix}1 & 0 & 0 & 0 & -1 & d_{0} - 1 & d_{0}\\\\0 & 1 & 0 & -1 & -1 & d_{1} - 1 & d_{1}\\\\0 & 0 & 1 & 1 & 0 & -1 & -1\\end{matrix}\\right] = \\left[\\begin{matrix}1 & 0 & 0 & 0 & -1 & 0 & 1\\\\0 & 1 & 0 & -1 & -1 & 0 & 1\\\\0 & 0 & 1 & a_{2} & a_{2} - 1 & -1 & -1\\end{matrix}\\right]$"
      ],
      "text/plain": [
       "Eq(Matrix([\n",
       "[1, 0, 0,  0, -1, d0 - 1, d0],\n",
       "[0, 1, 0, -1, -1, d1 - 1, d1],\n",
       "[0, 0, 1,  1,  0,     -1, -1]]), Matrix([\n",
       "[1, 0, 0,  0,     -1,  0,  1],\n",
       "[0, 1, 0, -1,     -1,  0,  1],\n",
       "[0, 0, 1, a2, a2 - 1, -1, -1]]))"
      ]
     },
     "metadata": {},
     "output_type": "display_data"
    },
    {
     "data": {
      "text/latex": [
       "$\\displaystyle \\text{True}$"
      ],
      "text/plain": [
       "True"
      ]
     },
     "execution_count": 265,
     "metadata": {},
     "output_type": "execute_result"
    }
   ],
   "source": [
    "display(sp.Eq(fans[7], fans[12], evaluate=False))\n",
    "sp.Eq(fans[7].subs(d0,1).subs(d1,1), fans[12].subs(a2,1))"
   ]
  },
  {
   "cell_type": "markdown",
   "id": "c6f67d9f-c38a-48a7-b23e-dbd8b2a20426",
   "metadata": {
    "jp-MarkdownHeadingCollapsed": true
   },
   "source": [
    "### fan 11 ($a_2=2$, $c_2=-1$)"
   ]
  },
  {
   "cell_type": "code",
   "execution_count": 281,
   "id": "103015c3-ff0a-4cd8-aebc-cb0d22aa7563",
   "metadata": {},
   "outputs": [
    {
     "data": {
      "text/latex": [
       "$\\displaystyle \\left[\\begin{matrix}1 & 0 & 0 & 0 & -1 & - c_{2} - 1 & 1\\\\0 & 1 & 0 & -1 & -1 & - c_{2} - 1 & 1\\\\0 & 0 & 1 & 2 & 1 & c_{2} & -1\\end{matrix}\\right] = \\left[\\begin{matrix}1 & 0 & 0 & 0 & -1 & 0 & 1\\\\0 & 1 & 0 & -1 & -1 & 0 & 1\\\\0 & 0 & 1 & a_{2} & a_{2} - 1 & -1 & -1\\end{matrix}\\right]$"
      ],
      "text/plain": [
       "Eq(Matrix([\n",
       "[1, 0, 0,  0, -1, -c2 - 1,  1],\n",
       "[0, 1, 0, -1, -1, -c2 - 1,  1],\n",
       "[0, 0, 1,  2,  1,      c2, -1]]), Matrix([\n",
       "[1, 0, 0,  0,     -1,  0,  1],\n",
       "[0, 1, 0, -1,     -1,  0,  1],\n",
       "[0, 0, 1, a2, a2 - 1, -1, -1]]))"
      ]
     },
     "metadata": {},
     "output_type": "display_data"
    },
    {
     "data": {
      "text/latex": [
       "$\\displaystyle \\text{True}$"
      ],
      "text/plain": [
       "True"
      ]
     },
     "execution_count": 281,
     "metadata": {},
     "output_type": "execute_result"
    }
   ],
   "source": [
    "display(sp.Eq(fans[11], fans[12], evaluate=False))\n",
    "sp.Eq(fans[11].subs(c2,-1), fans[12].subs(a2,2))"
   ]
  },
  {
   "cell_type": "markdown",
   "id": "bc11f8cd-a5b3-4c9f-81b6-a915d3e7a106",
   "metadata": {
    "jp-MarkdownHeadingCollapsed": true
   },
   "source": [
    "# There are 8 types of fans up to D-J equivalence and symmetry"
   ]
  },
  {
   "cell_type": "code",
   "execution_count": 285,
   "id": "c808ecb6-3dba-43e7-b429-297fdec87147",
   "metadata": {},
   "outputs": [
    {
     "data": {
      "text/plain": [
       "[[1, 2, 3, 4, 5, 6, 7], [1, 5, 6, 7, 2, 3, 4]]"
      ]
     },
     "execution_count": 285,
     "metadata": {},
     "output_type": "execute_result"
    }
   ],
   "source": [
    "K.symmetries"
   ]
  },
  {
   "cell_type": "code",
   "execution_count": 286,
   "id": "08f111b0-a8fb-4326-a715-25d0a23f9da3",
   "metadata": {},
   "outputs": [],
   "source": [
    "symm_index = [(np.array(i)-1).tolist() for i in K.symmetries]"
   ]
  },
  {
   "cell_type": "markdown",
   "id": "e157b395-d449-4be7-8e2b-f7ce9c8641a7",
   "metadata": {
    "jp-MarkdownHeadingCollapsed": true
   },
   "source": [
    "## types 0, 3"
   ]
  },
  {
   "cell_type": "code",
   "execution_count": 287,
   "id": "90b7b62f-63da-46cb-88a4-3d8b4ae70dc5",
   "metadata": {},
   "outputs": [
    {
     "data": {
      "text/latex": [
       "$\\displaystyle \\left[\\begin{matrix}1 & 0 & 0 & 0 & -1 & -1 & a_{0} - a_{2} + 1\\\\0 & 1 & 0 & -1 & -1 & -1 & 1 - a_{2}\\\\0 & 0 & 1 & 2 & 1 & 0 & -1\\end{matrix}\\right]$"
      ],
      "text/plain": [
       "Matrix([\n",
       "[1, 0, 0,  0, -1, -1, a0 - a2 + 1],\n",
       "[0, 1, 0, -1, -1, -1,      1 - a2],\n",
       "[0, 0, 1,  2,  1,  0,          -1]])"
      ]
     },
     "metadata": {},
     "output_type": "display_data"
    },
    {
     "data": {
      "text/latex": [
       "$\\displaystyle \\left[\\begin{matrix}1 & 0 & 0 & 0 & -1 & -1 & d_{0}\\\\0 & 1 & 0 & -1 & -1 & -1 & d_{1}\\\\0 & 0 & 1 & 2 & 1 & 0 & -1\\end{matrix}\\right]$"
      ],
      "text/plain": [
       "Matrix([\n",
       "[1, 0, 0,  0, -1, -1, d0],\n",
       "[0, 1, 0, -1, -1, -1, d1],\n",
       "[0, 0, 1,  2,  1,  0, -1]])"
      ]
     },
     "metadata": {},
     "output_type": "display_data"
    }
   ],
   "source": [
    "display(fans[0][:, symm_index[1]].rref()[0])\n",
    "display(fans[3])"
   ]
  },
  {
   "cell_type": "markdown",
   "id": "21affa15-c27a-4821-bcf1-9d1c686498e4",
   "metadata": {
    "jp-MarkdownHeadingCollapsed": true
   },
   "source": [
    "## types 1, 2"
   ]
  },
  {
   "cell_type": "code",
   "execution_count": 288,
   "id": "49dc81f1-ecf4-4287-80f8-35cfa6e2b5d8",
   "metadata": {},
   "outputs": [
    {
     "data": {
      "text/latex": [
       "$\\displaystyle \\left[\\begin{matrix}1 & 0 & 0 & 0 & -1 & -1 & a_{0} - a_{2} + 1\\\\0 & 1 & 0 & -1 & -2 & -1 & 2 - a_{2}\\\\0 & 0 & 1 & 1 & 1 & 0 & -1\\end{matrix}\\right]$"
      ],
      "text/plain": [
       "Matrix([\n",
       "[1, 0, 0,  0, -1, -1, a0 - a2 + 1],\n",
       "[0, 1, 0, -1, -2, -1,      2 - a2],\n",
       "[0, 0, 1,  1,  1,  0,          -1]])"
      ]
     },
     "metadata": {},
     "output_type": "display_data"
    },
    {
     "data": {
      "text/latex": [
       "$\\displaystyle \\left[\\begin{matrix}1 & 0 & 0 & 0 & -1 & -1 & d_{0}\\\\0 & 1 & 0 & -1 & -2 & -1 & d_{1}\\\\0 & 0 & 1 & 1 & 1 & 0 & -1\\end{matrix}\\right]$"
      ],
      "text/plain": [
       "Matrix([\n",
       "[1, 0, 0,  0, -1, -1, d0],\n",
       "[0, 1, 0, -1, -2, -1, d1],\n",
       "[0, 0, 1,  1,  1,  0, -1]])"
      ]
     },
     "metadata": {},
     "output_type": "display_data"
    }
   ],
   "source": [
    "display(fans[1][:, symm_index[1]].rref()[0])\n",
    "display(fans[2])"
   ]
  },
  {
   "cell_type": "markdown",
   "id": "47499a30-2981-4a42-8143-8e45e8e31a20",
   "metadata": {
    "jp-MarkdownHeadingCollapsed": true
   },
   "source": [
    "## types 4, 11"
   ]
  },
  {
   "cell_type": "code",
   "execution_count": 289,
   "id": "4d561cb9-fb44-4e8f-b036-39fa8497f4b9",
   "metadata": {},
   "outputs": [
    {
     "data": {
      "text/latex": [
       "$\\displaystyle \\left[\\begin{matrix}1 & 0 & 0 & 0 & -1 & 1 - d_{1} & 1\\\\0 & 1 & 0 & -1 & -1 & 1 - d_{1} & 1\\\\0 & 0 & 1 & 2 & 1 & d_{1} - 2 & -1\\end{matrix}\\right]$"
      ],
      "text/plain": [
       "Matrix([\n",
       "[1, 0, 0,  0, -1, 1 - d1,  1],\n",
       "[0, 1, 0, -1, -1, 1 - d1,  1],\n",
       "[0, 0, 1,  2,  1, d1 - 2, -1]])"
      ]
     },
     "metadata": {},
     "output_type": "display_data"
    },
    {
     "data": {
      "text/latex": [
       "$\\displaystyle \\left[\\begin{matrix}1 & 0 & 0 & 0 & -1 & - c_{2} - 1 & 1\\\\0 & 1 & 0 & -1 & -1 & - c_{2} - 1 & 1\\\\0 & 0 & 1 & 2 & 1 & c_{2} & -1\\end{matrix}\\right]$"
      ],
      "text/plain": [
       "Matrix([\n",
       "[1, 0, 0,  0, -1, -c2 - 1,  1],\n",
       "[0, 1, 0, -1, -1, -c2 - 1,  1],\n",
       "[0, 0, 1,  2,  1,      c2, -1]])"
      ]
     },
     "metadata": {},
     "output_type": "display_data"
    }
   ],
   "source": [
    "display(fans[4][:, symm_index[1]].rref()[0])\n",
    "display(fans[11])"
   ]
  },
  {
   "cell_type": "markdown",
   "id": "3a031137-22c4-4899-9d49-2fe9329d131a",
   "metadata": {
    "jp-MarkdownHeadingCollapsed": true
   },
   "source": [
    "## types 5, 6"
   ]
  },
  {
   "cell_type": "code",
   "execution_count": 290,
   "id": "ae8b3e25-ca28-45e3-a6aa-cf3f5c6edf7f",
   "metadata": {},
   "outputs": [
    {
     "data": {
      "text/latex": [
       "$\\displaystyle \\left[\\begin{matrix}1 & 0 & 0 & 0 & -1 & - d_{1} & 1\\\\0 & 1 & 0 & -1 & -2 & 1 - 2 d_{1} & 2\\\\0 & 0 & 1 & 1 & 1 & d_{1} - 1 & -1\\end{matrix}\\right]$"
      ],
      "text/plain": [
       "Matrix([\n",
       "[1, 0, 0,  0, -1,      -d1,  1],\n",
       "[0, 1, 0, -1, -2, 1 - 2*d1,  2],\n",
       "[0, 0, 1,  1,  1,   d1 - 1, -1]])"
      ]
     },
     "metadata": {},
     "output_type": "display_data"
    },
    {
     "data": {
      "text/latex": [
       "$\\displaystyle \\left[\\begin{matrix}1 & 0 & 0 & 0 & -1 & - c_{2} - 1 & 1\\\\0 & 1 & 0 & -1 & -2 & - 2 c_{2} - 1 & 2\\\\0 & 0 & 1 & 1 & 1 & c_{2} & -1\\end{matrix}\\right]$"
      ],
      "text/plain": [
       "Matrix([\n",
       "[1, 0, 0,  0, -1,   -c2 - 1,  1],\n",
       "[0, 1, 0, -1, -2, -2*c2 - 1,  2],\n",
       "[0, 0, 1,  1,  1,        c2, -1]])"
      ]
     },
     "metadata": {},
     "output_type": "display_data"
    }
   ],
   "source": [
    "display(fans[5][:, symm_index[1]].rref()[0])\n",
    "display(fans[6])"
   ]
  },
  {
   "cell_type": "markdown",
   "id": "f7f2c983-f7fa-49b6-928b-0cd460a80ab1",
   "metadata": {
    "jp-MarkdownHeadingCollapsed": true
   },
   "source": [
    "## type 7"
   ]
  },
  {
   "cell_type": "code",
   "execution_count": 291,
   "id": "6539a986-7562-4d8e-b73d-d272b32d2939",
   "metadata": {},
   "outputs": [
    {
     "data": {
      "text/latex": [
       "$\\displaystyle \\left[\\begin{matrix}1 & 0 & 0 & 0 & -1 & d_{0} - d_{1} & d_{0} - d_{1} + 1\\\\0 & 1 & 0 & -1 & -1 & 1 - d_{1} & 2 - d_{1}\\\\0 & 0 & 1 & 1 & 0 & -1 & -1\\end{matrix}\\right]$"
      ],
      "text/plain": [
       "Matrix([\n",
       "[1, 0, 0,  0, -1, d0 - d1, d0 - d1 + 1],\n",
       "[0, 1, 0, -1, -1,  1 - d1,      2 - d1],\n",
       "[0, 0, 1,  1,  0,      -1,          -1]])"
      ]
     },
     "metadata": {},
     "output_type": "display_data"
    },
    {
     "data": {
      "text/latex": [
       "$\\displaystyle \\left[\\begin{matrix}1 & 0 & 0 & 0 & -1 & d_{0} - 1 & d_{0}\\\\0 & 1 & 0 & -1 & -1 & d_{1} - 1 & d_{1}\\\\0 & 0 & 1 & 1 & 0 & -1 & -1\\end{matrix}\\right]$"
      ],
      "text/plain": [
       "Matrix([\n",
       "[1, 0, 0,  0, -1, d0 - 1, d0],\n",
       "[0, 1, 0, -1, -1, d1 - 1, d1],\n",
       "[0, 0, 1,  1,  0,     -1, -1]])"
      ]
     },
     "metadata": {},
     "output_type": "display_data"
    }
   ],
   "source": [
    "display(fans[7][:, symm_index[1]].rref()[0])\n",
    "display(fans[7])"
   ]
  },
  {
   "cell_type": "markdown",
   "id": "4dd3d903-9cef-44e0-8a45-e585e07398c1",
   "metadata": {
    "jp-MarkdownHeadingCollapsed": true
   },
   "source": [
    "## types 8, 10"
   ]
  },
  {
   "cell_type": "code",
   "execution_count": 292,
   "id": "1d1d1ccc-b99c-4f07-b221-44e8dbb0bf03",
   "metadata": {},
   "outputs": [
    {
     "data": {
      "text/latex": [
       "$\\displaystyle \\left[\\begin{matrix}1 & 0 & 0 & 0 & -1 & -1 & 0\\\\0 & 1 & 0 & -1 & -1 & -1 & 0\\\\0 & 0 & 1 & b_{1} + 2 & b_{1} + 1 & b_{1} & -1\\end{matrix}\\right]$"
      ],
      "text/plain": [
       "Matrix([\n",
       "[1, 0, 0,      0,     -1, -1,  0],\n",
       "[0, 1, 0,     -1,     -1, -1,  0],\n",
       "[0, 0, 1, b1 + 2, b1 + 1, b1, -1]])"
      ]
     },
     "metadata": {},
     "output_type": "display_data"
    },
    {
     "data": {
      "text/latex": [
       "$\\displaystyle \\left[\\begin{matrix}1 & 0 & 0 & 0 & -1 & -1 & 0\\\\0 & 1 & 0 & -1 & -1 & -1 & 0\\\\0 & 0 & 1 & c_{2} + 2 & c_{2} + 1 & c_{2} & -1\\end{matrix}\\right]$"
      ],
      "text/plain": [
       "Matrix([\n",
       "[1, 0, 0,      0,     -1, -1,  0],\n",
       "[0, 1, 0,     -1,     -1, -1,  0],\n",
       "[0, 0, 1, c2 + 2, c2 + 1, c2, -1]])"
      ]
     },
     "metadata": {},
     "output_type": "display_data"
    }
   ],
   "source": [
    "display(fans[8][:, symm_index[1]].rref()[0])\n",
    "display(fans[10])"
   ]
  },
  {
   "cell_type": "markdown",
   "id": "63c68d45-59ae-40a7-be75-6ec3bf919896",
   "metadata": {
    "jp-MarkdownHeadingCollapsed": true
   },
   "source": [
    "## types 9"
   ]
  },
  {
   "cell_type": "code",
   "execution_count": 293,
   "id": "aa0b484b-2b8b-4fd7-8608-db92c8db5d3d",
   "metadata": {},
   "outputs": [
    {
     "data": {
      "text/latex": [
       "$\\displaystyle \\left[\\begin{matrix}1 & 0 & 0 & 0 & -1 & -1 & 0\\\\0 & 1 & 0 & -1 & c_{2} & c_{2} + 1 & 1\\\\0 & 0 & 1 & 1 & - c_{2} - 1 & - c_{2} - 2 & -1\\end{matrix}\\right]$"
      ],
      "text/plain": [
       "Matrix([\n",
       "[1, 0, 0,  0,      -1,      -1,  0],\n",
       "[0, 1, 0, -1,      c2,  c2 + 1,  1],\n",
       "[0, 0, 1,  1, -c2 - 1, -c2 - 2, -1]])"
      ]
     },
     "metadata": {},
     "output_type": "display_data"
    },
    {
     "data": {
      "text/latex": [
       "$\\displaystyle \\left[\\begin{matrix}1 & 0 & 0 & 0 & -1 & -1 & 0\\\\0 & 1 & 0 & -1 & - c_{2} - 2 & - c_{2} - 1 & 1\\\\0 & 0 & 1 & 1 & c_{2} + 1 & c_{2} & -1\\end{matrix}\\right]$"
      ],
      "text/plain": [
       "Matrix([\n",
       "[1, 0, 0,  0,      -1,      -1,  0],\n",
       "[0, 1, 0, -1, -c2 - 2, -c2 - 1,  1],\n",
       "[0, 0, 1,  1,  c2 + 1,      c2, -1]])"
      ]
     },
     "metadata": {},
     "output_type": "display_data"
    }
   ],
   "source": [
    "display(fans[9][:, symm_index[1]].rref()[0])\n",
    "display(fans[9])"
   ]
  },
  {
   "cell_type": "markdown",
   "id": "ec0d4235-8702-4820-9e63-4b3d408acdd5",
   "metadata": {
    "jp-MarkdownHeadingCollapsed": true
   },
   "source": [
    "## type 12"
   ]
  },
  {
   "cell_type": "code",
   "execution_count": 294,
   "id": "981908a5-70eb-47dd-a3f8-b95b13e4d707",
   "metadata": {},
   "outputs": [
    {
     "data": {
      "text/latex": [
       "$\\displaystyle \\left[\\begin{matrix}1 & 0 & 0 & 0 & -1 & 0 & 1\\\\0 & 1 & 0 & -1 & -1 & 0 & 1\\\\0 & 0 & 1 & 2 - a_{2} & 1 - a_{2} & -1 & -1\\end{matrix}\\right]$"
      ],
      "text/plain": [
       "Matrix([\n",
       "[1, 0, 0,      0,     -1,  0,  1],\n",
       "[0, 1, 0,     -1,     -1,  0,  1],\n",
       "[0, 0, 1, 2 - a2, 1 - a2, -1, -1]])"
      ]
     },
     "metadata": {},
     "output_type": "display_data"
    },
    {
     "data": {
      "text/latex": [
       "$\\displaystyle \\left[\\begin{matrix}1 & 0 & 0 & 0 & -1 & 0 & 1\\\\0 & 1 & 0 & -1 & -1 & 0 & 1\\\\0 & 0 & 1 & a_{2} & a_{2} - 1 & -1 & -1\\end{matrix}\\right]$"
      ],
      "text/plain": [
       "Matrix([\n",
       "[1, 0, 0,  0,     -1,  0,  1],\n",
       "[0, 1, 0, -1,     -1,  0,  1],\n",
       "[0, 0, 1, a2, a2 - 1, -1, -1]])"
      ]
     },
     "metadata": {},
     "output_type": "display_data"
    }
   ],
   "source": [
    "display(fans[12][:, symm_index[1]].rref()[0])\n",
    "display(fans[12])"
   ]
  }
 ],
 "metadata": {
  "kernelspec": {
   "display_name": "Python 3 (ipykernel)",
   "language": "python",
   "name": "python3"
  },
  "language_info": {
   "codemirror_mode": {
    "name": "ipython",
    "version": 3
   },
   "file_extension": ".py",
   "mimetype": "text/x-python",
   "name": "python",
   "nbconvert_exporter": "python",
   "pygments_lexer": "ipython3",
   "version": "3.12.7"
  }
 },
 "nbformat": 4,
 "nbformat_minor": 5
}
