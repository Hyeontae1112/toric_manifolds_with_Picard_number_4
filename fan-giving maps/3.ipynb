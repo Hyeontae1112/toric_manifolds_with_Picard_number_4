{
 "cells": [
  {
   "cell_type": "markdown",
   "id": "eda34dac-02d4-42dd-a322-3b5745db1a9f",
   "metadata": {
    "jp-MarkdownHeadingCollapsed": true
   },
   "source": [
    "# Preparation"
   ]
  },
  {
   "cell_type": "code",
   "execution_count": 1,
   "id": "9c230790-c390-4576-9743-7c17b170470d",
   "metadata": {},
   "outputs": [],
   "source": [
    "%run programs\\\\Characteristic_Pair.py\n",
    "import copy\n",
    "from tqdm import trange\n",
    "K = Simplicial_Complex(json.loads(read_file('programs\\\\fanlikes')[3]))\n",
    "M = initial_char(K.n)\n",
    "C0 = Characteristic_Pair(K, M)\n",
    "fans = []\n",
    "\n",
    "a = sp.symbols('a0:%d'%K.n)\n",
    "b = sp.symbols('b0:%d'%K.n)\n",
    "c = sp.symbols('c0:%d'%K.n)\n",
    "d = sp.symbols('d0:%d'%K.n)\n",
    "\n",
    "a0, a1, a2 = a[:]\n",
    "b0, b1, b2 = b[:]\n",
    "c0, c1, c2 = c[:]\n",
    "d0, d1, d2 = d[:]\n",
    "x=sp.Symbol('x')"
   ]
  },
  {
   "cell_type": "code",
   "execution_count": 2,
   "id": "18232c5b-019f-4ab0-b1bf-ade0c3e647a9",
   "metadata": {},
   "outputs": [
    {
     "data": {
      "text/latex": [
       "$\\displaystyle \\left[\\begin{matrix}1 & 0 & 0 & a_{0} & b_{0} & c_{0} & d_{0}\\\\0 & 1 & 0 & a_{1} & b_{1} & c_{1} & d_{1}\\\\0 & 0 & 1 & a_{2} & b_{2} & c_{2} & d_{2}\\end{matrix}\\right]$"
      ],
      "text/plain": [
       "Matrix([\n",
       "[1, 0, 0, a0, b0, c0, d0],\n",
       "[0, 1, 0, a1, b1, c1, d1],\n",
       "[0, 0, 1, a2, b2, c2, d2]])"
      ]
     },
     "execution_count": 2,
     "metadata": {},
     "output_type": "execute_result"
    }
   ],
   "source": [
    "C = C0\n",
    "C.char"
   ]
  },
  {
   "cell_type": "code",
   "execution_count": 3,
   "id": "93be4d21-5216-4f7a-a256-376d88f5a86d",
   "metadata": {},
   "outputs": [
    {
     "name": "stdout",
     "output_type": "stream",
     "text": [
      "facet number: 2\n"
     ]
    },
    {
     "data": {
      "text/latex": [
       "$\\displaystyle - a_{1} = 1$"
      ],
      "text/plain": [
       "Eq(-a1, 1)"
      ]
     },
     "metadata": {},
     "output_type": "display_data"
    },
    {
     "name": "stdout",
     "output_type": "stream",
     "text": [
      "facet number: 1\n"
     ]
    },
    {
     "data": {
      "text/latex": [
       "$\\displaystyle c_{2} = -1$"
      ],
      "text/plain": [
       "Eq(c2, -1)"
      ]
     },
     "metadata": {},
     "output_type": "display_data"
    },
    {
     "name": "stdout",
     "output_type": "stream",
     "text": [
      "facet number: 5\n"
     ]
    },
    {
     "data": {
      "text/latex": [
       "$\\displaystyle d_{0} = -1$"
      ],
      "text/plain": [
       "Eq(d0, -1)"
      ]
     },
     "metadata": {},
     "output_type": "display_data"
    }
   ],
   "source": [
    "i=2\n",
    "print('facet number:', i)\n",
    "display(sp.Eq(C.determinants[i], C.orientation[i]))\n",
    "\n",
    "i=1\n",
    "print('facet number:', i)\n",
    "display(sp.Eq(C.determinants[i], C.orientation[i]))\n",
    "\n",
    "i=5\n",
    "print('facet number:', i)\n",
    "display(sp.Eq(C.determinants[i], C.orientation[i]))\n",
    "\n",
    "C.subs(a1, -1)\n",
    "C.subs(c2, -1)\n",
    "C.subs(d0, -1)"
   ]
  },
  {
   "cell_type": "markdown",
   "id": "7404fb25-d4f2-422b-ab32-d3d220870727",
   "metadata": {
    "jp-MarkdownHeadingCollapsed": true
   },
   "source": [
    "# The projection with respect to 1"
   ]
  },
  {
   "cell_type": "code",
   "execution_count": 4,
   "id": "1cec9f6d-1a88-40dd-b9c6-ded29dab880d",
   "metadata": {},
   "outputs": [
    {
     "data": {
      "text/plain": [
       "[[2, 3], [2, 6], [3, 4], [4, 5], [5, 6]]"
      ]
     },
     "execution_count": 4,
     "metadata": {},
     "output_type": "execute_result"
    }
   ],
   "source": [
    "Link(K, [1]).cpx"
   ]
  },
  {
   "cell_type": "code",
   "execution_count": 5,
   "id": "c38bf8e4-a5ff-4d57-b3c9-ebcc124049ae",
   "metadata": {},
   "outputs": [
    {
     "data": {
      "text/latex": [
       "$\\displaystyle \\left[\\begin{matrix}1 & 0 & -1 & b_{1} & c_{1}\\\\0 & 1 & a_{2} & b_{2} & -1\\end{matrix}\\right]$"
      ],
      "text/plain": [
       "Matrix([\n",
       "[1, 0, -1, b1, c1],\n",
       "[0, 1, a2, b2, -1]])"
      ]
     },
     "metadata": {},
     "output_type": "display_data"
    }
   ],
   "source": [
    "display(C.proj([1]))"
   ]
  },
  {
   "cell_type": "markdown",
   "id": "a5253e64-1760-4b06-8b9e-24b7394e2fc0",
   "metadata": {
    "jp-MarkdownHeadingCollapsed": true
   },
   "source": [
    "# The projection has 5 types of fans up to D-J equivalence"
   ]
  },
  {
   "cell_type": "code",
   "execution_count": 6,
   "id": "392995cd-7851-42a8-93d9-b88896d06eff",
   "metadata": {},
   "outputs": [
    {
     "data": {
      "text/latex": [
       "$\\displaystyle \\left[\\begin{matrix}1 & 0 & -1 & -1 & x\\\\0 & 1 & 1 & 0 & -1\\end{matrix}\\right]$"
      ],
      "text/plain": [
       "Matrix([\n",
       "[1, 0, -1, -1,  x],\n",
       "[0, 1,  1,  0, -1]])"
      ]
     },
     "metadata": {},
     "output_type": "display_data"
    },
    {
     "data": {
      "text/latex": [
       "$\\displaystyle \\left[\\begin{matrix}1 & 0 & -1 & -1 & 0\\\\0 & 1 & x & x - 1 & -1\\end{matrix}\\right]$"
      ],
      "text/plain": [
       "Matrix([\n",
       "[1, 0, -1,    -1,  0],\n",
       "[0, 1,  x, x - 1, -1]])"
      ]
     },
     "metadata": {},
     "output_type": "display_data"
    },
    {
     "data": {
      "text/latex": [
       "$\\displaystyle \\left[\\begin{matrix}1 & 0 & -1 & - x & 1 - x\\\\0 & 1 & 0 & -1 & -1\\end{matrix}\\right]$"
      ],
      "text/plain": [
       "Matrix([\n",
       "[1, 0, -1, -x, 1 - x],\n",
       "[0, 1,  0, -1,    -1]])"
      ]
     },
     "metadata": {},
     "output_type": "display_data"
    },
    {
     "data": {
      "text/latex": [
       "$\\displaystyle \\left[\\begin{matrix}1 & 0 & -1 & 0 & 1\\\\0 & 1 & 1 - x & -1 & -1\\end{matrix}\\right]$"
      ],
      "text/plain": [
       "Matrix([\n",
       "[1, 0,    -1,  0,  1],\n",
       "[0, 1, 1 - x, -1, -1]])"
      ]
     },
     "metadata": {},
     "output_type": "display_data"
    },
    {
     "data": {
      "text/latex": [
       "$\\displaystyle \\left[\\begin{matrix}1 & 0 & -1 & x - 1 & 1\\\\0 & 1 & 1 & - x & -1\\end{matrix}\\right]$"
      ],
      "text/plain": [
       "Matrix([\n",
       "[1, 0, -1, x - 1,  1],\n",
       "[0, 1,  1,    -x, -1]])"
      ]
     },
     "metadata": {},
     "output_type": "display_data"
    }
   ],
   "source": [
    "fans_link = []\n",
    "fans_link.append(sp.Matrix([[1,0,-1,-1,x], [0,1,1,0,-1]]))\n",
    "display(fans_link[-1])\n",
    "fans_link.append(fans_link[0][:, [4,0,1,2,3]].rref()[0])\n",
    "display(fans_link[-1])\n",
    "fans_link.append(fans_link[0][:, [3,4,0,1,2]].rref()[0])\n",
    "display(fans_link[-1])\n",
    "fans_link.append(fans_link[0][:, [2,3,4,0,1]].rref()[0])\n",
    "display(fans_link[-1])\n",
    "fans_link.append(fans_link[0][:, [1,2,3,4,0]].rref()[0])\n",
    "display(fans_link[-1])"
   ]
  },
  {
   "cell_type": "markdown",
   "id": "6c214c34-06cd-40a5-adb5-8b3991e3216d",
   "metadata": {
    "jp-MarkdownHeadingCollapsed": true
   },
   "source": [
    "# Type 0 of the projection"
   ]
  },
  {
   "cell_type": "code",
   "execution_count": 7,
   "id": "bfad5fc6-b563-42d0-9b3b-a62e76fcb0f2",
   "metadata": {},
   "outputs": [],
   "source": [
    "C1 = copy.deepcopy(C0)\n",
    "C = C1\n",
    "t=0"
   ]
  },
  {
   "cell_type": "code",
   "execution_count": 8,
   "id": "b492bd7b-13ec-4c64-9f9b-604d92d96185",
   "metadata": {},
   "outputs": [
    {
     "data": {
      "text/latex": [
       "$\\displaystyle \\left[\\begin{matrix}1 & 0 & -1 & -1 & x\\\\0 & 1 & 1 & 0 & -1\\end{matrix}\\right]$"
      ],
      "text/plain": [
       "Matrix([\n",
       "[1, 0, -1, -1,  x],\n",
       "[0, 1,  1,  0, -1]])"
      ]
     },
     "metadata": {},
     "output_type": "display_data"
    }
   ],
   "source": [
    "display(fans_link[t])"
   ]
  },
  {
   "cell_type": "code",
   "execution_count": 9,
   "id": "4000bb32-f978-4a79-a7eb-12ec56fbed85",
   "metadata": {},
   "outputs": [
    {
     "data": {
      "text/latex": [
       "$\\displaystyle \\left[\\begin{matrix}1 & 0 & 0 & a_{0} & b_{0} & c_{0} & -1\\\\0 & 1 & 0 & -1 & b_{1} & c_{1} & d_{1}\\\\0 & 0 & 1 & a_{2} & b_{2} & -1 & d_{2}\\end{matrix}\\right]$"
      ],
      "text/plain": [
       "Matrix([\n",
       "[1, 0, 0, a0, b0, c0, -1],\n",
       "[0, 1, 0, -1, b1, c1, d1],\n",
       "[0, 0, 1, a2, b2, -1, d2]])"
      ]
     },
     "execution_count": 9,
     "metadata": {},
     "output_type": "execute_result"
    }
   ],
   "source": [
    "C.char"
   ]
  },
  {
   "cell_type": "code",
   "execution_count": 10,
   "id": "75b73746-8250-434d-8b14-8bd5859e4208",
   "metadata": {},
   "outputs": [
    {
     "data": {
      "text/latex": [
       "$\\displaystyle \\left[\\begin{matrix}1 & 0 & -1 & b_{1} & c_{1}\\\\0 & 1 & a_{2} & b_{2} & -1\\end{matrix}\\right] = \\left[\\begin{matrix}1 & 0 & -1 & -1 & x\\\\0 & 1 & 1 & 0 & -1\\end{matrix}\\right]$"
      ],
      "text/plain": [
       "Eq(Matrix([\n",
       "[1, 0, -1, b1, c1],\n",
       "[0, 1, a2, b2, -1]]), Matrix([\n",
       "[1, 0, -1, -1,  x],\n",
       "[0, 1,  1,  0, -1]]))"
      ]
     },
     "metadata": {},
     "output_type": "display_data"
    }
   ],
   "source": [
    "proj = C.proj([1])\n",
    "with sp.evaluate(False):\n",
    "    display(sp.Eq(proj, fans_link[t]))\n",
    "\n",
    "C.subs(a2, 1)\n",
    "C.subs(b1, -1)\n",
    "C.subs(b2, 0)"
   ]
  },
  {
   "cell_type": "markdown",
   "id": "7e0ef056-b646-4f51-ab23-6288a3441c31",
   "metadata": {
    "jp-MarkdownHeadingCollapsed": true
   },
   "source": [
    "## $a_0 = 0, b_0 = 0, c_0 = 0$"
   ]
  },
  {
   "cell_type": "code",
   "execution_count": 11,
   "id": "2a736c22-3d95-486a-8392-16df0d3d50a6",
   "metadata": {},
   "outputs": [],
   "source": [
    "C2 = copy.deepcopy(C1)\n",
    "C = C2\n",
    "C.subs(a0, 0)\n",
    "C.subs(b0, 0)\n",
    "C.subs(c0, 0)"
   ]
  },
  {
   "cell_type": "code",
   "execution_count": 12,
   "id": "19feb456-e8a9-45fa-854e-dae46783a1e9",
   "metadata": {},
   "outputs": [
    {
     "data": {
      "text/latex": [
       "$\\displaystyle \\left[\\begin{matrix}1 & 0 & 0 & 0 & 0 & 0 & -1\\\\0 & 1 & 0 & -1 & -1 & c_{1} & d_{1}\\\\0 & 0 & 1 & 1 & 0 & -1 & d_{2}\\end{matrix}\\right]$"
      ],
      "text/plain": [
       "Matrix([\n",
       "[1, 0, 0,  0,  0,  0, -1],\n",
       "[0, 1, 0, -1, -1, c1, d1],\n",
       "[0, 0, 1,  1,  0, -1, d2]])"
      ]
     },
     "metadata": {},
     "output_type": "display_data"
    },
    {
     "name": "stdout",
     "output_type": "stream",
     "text": [
      "1\n"
     ]
    }
   ],
   "source": [
    "display(C.char)\n",
    "print(C.is_fangiving)\n",
    "fans.append(C.char)"
   ]
  },
  {
   "cell_type": "markdown",
   "id": "8491f805-8d4a-4d96-bcdd-805a3fbf263c",
   "metadata": {
    "jp-MarkdownHeadingCollapsed": true
   },
   "source": [
    "## $d_1 = 0, d_2 = 0$"
   ]
  },
  {
   "cell_type": "code",
   "execution_count": 13,
   "id": "bd499ef6-6d8c-41c4-93b9-5abc6c3d9848",
   "metadata": {},
   "outputs": [],
   "source": [
    "C2 = copy.deepcopy(C1)\n",
    "C = C2\n",
    "C.subs(d1, 0)\n",
    "C.subs(d2, 0)"
   ]
  },
  {
   "cell_type": "code",
   "execution_count": 14,
   "id": "2c8a6035-0c7e-4086-a714-9dc2afced4a4",
   "metadata": {},
   "outputs": [
    {
     "data": {
      "text/latex": [
       "$\\displaystyle \\left[\\begin{matrix}1 & 0 & 0 & a_{0} & b_{0} & c_{0} & -1\\\\0 & 1 & 0 & -1 & -1 & c_{1} & 0\\\\0 & 0 & 1 & 1 & 0 & -1 & 0\\end{matrix}\\right]$"
      ],
      "text/plain": [
       "Matrix([\n",
       "[1, 0, 0, a0, b0, c0, -1],\n",
       "[0, 1, 0, -1, -1, c1,  0],\n",
       "[0, 0, 1,  1,  0, -1,  0]])"
      ]
     },
     "metadata": {},
     "output_type": "display_data"
    },
    {
     "name": "stdout",
     "output_type": "stream",
     "text": [
      "1\n"
     ]
    }
   ],
   "source": [
    "display(C.char)\n",
    "print(C.is_fangiving)\n",
    "fans.append(C.char)"
   ]
  },
  {
   "cell_type": "markdown",
   "id": "15cd93be-4dbf-48fe-8c24-0f20fbc41d44",
   "metadata": {
    "jp-MarkdownHeadingCollapsed": true
   },
   "source": [
    "## $\\neg(a_0 \\not= 0, b_0 \\not= 0, c_0 \\not= 0)$ and $\\neg(d_1 \\not= 0, d_2 \\not= 0)$"
   ]
  },
  {
   "cell_type": "code",
   "execution_count": 15,
   "id": "4246596b-3b47-406b-bc63-1d6a1fce7ef0",
   "metadata": {},
   "outputs": [],
   "source": [
    "C2 = copy.deepcopy(C1)\n",
    "C = C2"
   ]
  },
  {
   "cell_type": "code",
   "execution_count": 16,
   "id": "0f204bbc-c7ee-463c-a49d-df83e48abf92",
   "metadata": {},
   "outputs": [
    {
     "name": "stdout",
     "output_type": "stream",
     "text": [
      "facet number: 6\n"
     ]
    },
    {
     "data": {
      "text/latex": [
       "$\\displaystyle - c_{0} d_{2} + 1 = 1$"
      ],
      "text/plain": [
       "Eq(-c0*d2 + 1, 1)"
      ]
     },
     "metadata": {},
     "output_type": "display_data"
    },
    {
     "name": "stdout",
     "output_type": "stream",
     "text": [
      "facet number: 7\n"
     ]
    },
    {
     "data": {
      "text/latex": [
       "$\\displaystyle a_{0} d_{1} - 1 = -1$"
      ],
      "text/plain": [
       "Eq(a0*d1 - 1, -1)"
      ]
     },
     "metadata": {},
     "output_type": "display_data"
    }
   ],
   "source": [
    "i=6\n",
    "print('facet number:', i)\n",
    "display(sp.Eq(C.determinants[i], C.orientation[i]))\n",
    "\n",
    "i=7\n",
    "print('facet number:', i)\n",
    "display(sp.Eq(C.determinants[i], C.orientation[i]))"
   ]
  },
  {
   "cell_type": "markdown",
   "id": "d48c6e3f-26fd-436c-9a98-8a7d31d37560",
   "metadata": {
    "jp-MarkdownHeadingCollapsed": true
   },
   "source": [
    "### $a_0 = 0, d_2 = 0$ $(d_1 \\not= 0)$"
   ]
  },
  {
   "cell_type": "code",
   "execution_count": 17,
   "id": "8cd35d8d-7555-4632-8a1d-0928b3f6e3db",
   "metadata": {},
   "outputs": [],
   "source": [
    "C3 = copy.deepcopy(C2)\n",
    "C = C3\n",
    "C.subs(a0, 0)\n",
    "C.subs(d2, 0)"
   ]
  },
  {
   "cell_type": "code",
   "execution_count": 18,
   "id": "e85cd312-8082-4ac7-8219-1f1593bba00e",
   "metadata": {},
   "outputs": [
    {
     "name": "stdout",
     "output_type": "stream",
     "text": [
      "facet number: 8\n"
     ]
    },
    {
     "data": {
      "text/latex": [
       "$\\displaystyle b_{0} d_{1} - 1 = -1$"
      ],
      "text/plain": [
       "Eq(b0*d1 - 1, -1)"
      ]
     },
     "metadata": {},
     "output_type": "display_data"
    }
   ],
   "source": [
    "i=8\n",
    "print('facet number:', i)\n",
    "display(sp.Eq(C.determinants[i], C.orientation[i]))\n",
    "\n",
    "C.subs(b0, 0)"
   ]
  },
  {
   "cell_type": "code",
   "execution_count": 19,
   "id": "28d46168-4c69-4eee-aa9b-c52629715de6",
   "metadata": {},
   "outputs": [
    {
     "data": {
      "text/latex": [
       "$\\displaystyle \\left[\\begin{matrix}1 & 0 & 0 & 0 & 0 & c_{0} & -1\\\\0 & 1 & 0 & -1 & -1 & c_{1} & d_{1}\\\\0 & 0 & 1 & 1 & 0 & -1 & 0\\end{matrix}\\right]$"
      ],
      "text/plain": [
       "Matrix([\n",
       "[1, 0, 0,  0,  0, c0, -1],\n",
       "[0, 1, 0, -1, -1, c1, d1],\n",
       "[0, 0, 1,  1,  0, -1,  0]])"
      ]
     },
     "metadata": {},
     "output_type": "display_data"
    },
    {
     "name": "stdout",
     "output_type": "stream",
     "text": [
      "1\n"
     ]
    }
   ],
   "source": [
    "display(C.char)\n",
    "print(C.is_fangiving)\n",
    "fans.append(C.char)"
   ]
  },
  {
   "cell_type": "markdown",
   "id": "cabeade0-831b-4b6c-adfd-909b56f29ca5",
   "metadata": {
    "jp-MarkdownHeadingCollapsed": true
   },
   "source": [
    "### $c_0 = 0, d_1 = 0$ $(d_2 \\not= 0)$"
   ]
  },
  {
   "cell_type": "code",
   "execution_count": 20,
   "id": "937ffb46-dad7-45dc-b580-2aa944af3f5b",
   "metadata": {},
   "outputs": [],
   "source": [
    "C3 = copy.deepcopy(C2)\n",
    "C = C3\n",
    "C.subs(c0, 0)\n",
    "C.subs(d1, 0)"
   ]
  },
  {
   "cell_type": "code",
   "execution_count": 21,
   "id": "4bd435f6-5535-403b-b35b-83fd446c5974",
   "metadata": {},
   "outputs": [
    {
     "name": "stdout",
     "output_type": "stream",
     "text": [
      "facet number: 8\n"
     ]
    },
    {
     "data": {
      "text/latex": [
       "$\\displaystyle - a_{0} d_{2} + b_{0} d_{2} - 1 = -1$"
      ],
      "text/plain": [
       "Eq(-a0*d2 + b0*d2 - 1, -1)"
      ]
     },
     "metadata": {},
     "output_type": "display_data"
    }
   ],
   "source": [
    "i=8\n",
    "print('facet number:', i)\n",
    "display(sp.Eq(C.determinants[i], C.orientation[i]))\n",
    "\n",
    "C.subs(a0, b0)"
   ]
  },
  {
   "cell_type": "code",
   "execution_count": 22,
   "id": "786bdf0d-533d-4a3a-888b-e38023d9f459",
   "metadata": {},
   "outputs": [
    {
     "name": "stdout",
     "output_type": "stream",
     "text": [
      "facet number: 9\n"
     ]
    },
    {
     "data": {
      "text/latex": [
       "$\\displaystyle b_{0} c_{1} d_{2} - 1 = -1$"
      ],
      "text/plain": [
       "Eq(b0*c1*d2 - 1, -1)"
      ]
     },
     "metadata": {},
     "output_type": "display_data"
    }
   ],
   "source": [
    "i=9\n",
    "print('facet number:', i)\n",
    "display(sp.Eq(C.determinants[i], C.orientation[i]))\n",
    "\n",
    "C.subs(c1, 0)"
   ]
  },
  {
   "cell_type": "code",
   "execution_count": 23,
   "id": "30e7f601-7dae-4872-8597-7c0dc03e27c1",
   "metadata": {},
   "outputs": [
    {
     "data": {
      "text/latex": [
       "$\\displaystyle \\left[\\begin{matrix}1 & 0 & 0 & b_{0} & b_{0} & 0 & -1\\\\0 & 1 & 0 & -1 & -1 & 0 & 0\\\\0 & 0 & 1 & 1 & 0 & -1 & d_{2}\\end{matrix}\\right]$"
      ],
      "text/plain": [
       "Matrix([\n",
       "[1, 0, 0, b0, b0,  0, -1],\n",
       "[0, 1, 0, -1, -1,  0,  0],\n",
       "[0, 0, 1,  1,  0, -1, d2]])"
      ]
     },
     "metadata": {},
     "output_type": "display_data"
    },
    {
     "name": "stdout",
     "output_type": "stream",
     "text": [
      "1\n"
     ]
    }
   ],
   "source": [
    "display(C.char)\n",
    "print(C.is_fangiving)\n",
    "fans.append(C.char)"
   ]
  },
  {
   "cell_type": "markdown",
   "id": "ca8291db-3733-4a0f-b85f-ef3de8111304",
   "metadata": {
    "jp-MarkdownHeadingCollapsed": true
   },
   "source": [
    "### $a_0 = 0, c_0 = 0$ $(b_0 \\not = 0, d_1 \\not= 0, d_2 \\not= 0)$"
   ]
  },
  {
   "cell_type": "code",
   "execution_count": 24,
   "id": "8b4501fd-b9c9-48fc-865c-12040192b775",
   "metadata": {},
   "outputs": [],
   "source": [
    "C3 = copy.deepcopy(C2)\n",
    "C = C3\n",
    "C.subs(a0, 0)\n",
    "C.subs(c0, 0)"
   ]
  },
  {
   "cell_type": "code",
   "execution_count": 25,
   "id": "dde87a6d-54ec-4e02-b3c3-26b85de5e479",
   "metadata": {},
   "outputs": [
    {
     "name": "stdout",
     "output_type": "stream",
     "text": [
      "facet number: 8\n"
     ]
    },
    {
     "data": {
      "text/latex": [
       "$\\displaystyle b_{0} d_{1} + b_{0} d_{2} - 1 = -1$"
      ],
      "text/plain": [
       "Eq(b0*d1 + b0*d2 - 1, -1)"
      ]
     },
     "metadata": {},
     "output_type": "display_data"
    }
   ],
   "source": [
    "i=8\n",
    "print('facet number:', i)\n",
    "display(sp.Eq(C.determinants[i], C.orientation[i]))\n",
    "\n",
    "C.subs(d1, -d2)"
   ]
  },
  {
   "cell_type": "code",
   "execution_count": 26,
   "id": "6ff0e6a4-d164-443f-bf05-ff00761e382d",
   "metadata": {},
   "outputs": [
    {
     "name": "stdout",
     "output_type": "stream",
     "text": [
      "facet number: 9\n"
     ]
    },
    {
     "data": {
      "text/latex": [
       "$\\displaystyle b_{0} c_{1} d_{2} - b_{0} d_{2} - 1 = -1$"
      ],
      "text/plain": [
       "Eq(b0*c1*d2 - b0*d2 - 1, -1)"
      ]
     },
     "metadata": {},
     "output_type": "display_data"
    }
   ],
   "source": [
    "i=9\n",
    "print('facet number:', i)\n",
    "display(sp.Eq(C.determinants[i], C.orientation[i]))\n",
    "\n",
    "C.subs(c1, 1)"
   ]
  },
  {
   "cell_type": "code",
   "execution_count": 27,
   "id": "59ded003-f548-49ea-8c2d-43b0da7b367a",
   "metadata": {},
   "outputs": [
    {
     "data": {
      "text/latex": [
       "$\\displaystyle \\left[\\begin{matrix}1 & 0 & 0 & 0 & b_{0} & 0 & -1\\\\0 & 1 & 0 & -1 & -1 & 1 & - d_{2}\\\\0 & 0 & 1 & 1 & 0 & -1 & d_{2}\\end{matrix}\\right]$"
      ],
      "text/plain": [
       "Matrix([\n",
       "[1, 0, 0,  0, b0,  0,  -1],\n",
       "[0, 1, 0, -1, -1,  1, -d2],\n",
       "[0, 0, 1,  1,  0, -1,  d2]])"
      ]
     },
     "metadata": {},
     "output_type": "display_data"
    },
    {
     "name": "stdout",
     "output_type": "stream",
     "text": [
      "1\n"
     ]
    }
   ],
   "source": [
    "display(C.char)\n",
    "print(C.is_fangiving)\n",
    "fans.append(C.char)"
   ]
  },
  {
   "cell_type": "markdown",
   "id": "c9488c0b-a993-42b7-9292-94c15dd8deba",
   "metadata": {
    "jp-MarkdownHeadingCollapsed": true
   },
   "source": [
    "# The symmetry of $K$ makes fans with the other types into fans from type 0"
   ]
  },
  {
   "cell_type": "code",
   "execution_count": 28,
   "id": "6c293536-972c-4eab-9809-54207a09294d",
   "metadata": {},
   "outputs": [],
   "source": [
    "type0 = fans[:]"
   ]
  },
  {
   "cell_type": "markdown",
   "id": "72a34f3e-874f-4199-86d1-54bbcc88b208",
   "metadata": {
    "jp-MarkdownHeadingCollapsed": true
   },
   "source": [
    "## type 1 of the projection"
   ]
  },
  {
   "cell_type": "code",
   "execution_count": 29,
   "id": "d3e20dd1-1df5-47f2-adff-8312bc3160fd",
   "metadata": {},
   "outputs": [
    {
     "data": {
      "text/latex": [
       "$\\displaystyle \\left[\\begin{matrix}1 & 0 & -1 & -1 & 0\\\\0 & 1 & x & x - 1 & -1\\end{matrix}\\right]$"
      ],
      "text/plain": [
       "Matrix([\n",
       "[1, 0, -1,    -1,  0],\n",
       "[0, 1,  x, x - 1, -1]])"
      ]
     },
     "metadata": {},
     "output_type": "display_data"
    }
   ],
   "source": [
    "C1 = copy.deepcopy(C0)\n",
    "C = C1\n",
    "t=1\n",
    "display(fans_link[t])"
   ]
  },
  {
   "cell_type": "code",
   "execution_count": 30,
   "id": "a9723e62-6659-46b5-9035-c308a7500875",
   "metadata": {},
   "outputs": [
    {
     "data": {
      "text/latex": [
       "$\\displaystyle \\left[\\begin{matrix}1 & 0 & -1 & b_{1} & c_{1}\\\\0 & 1 & a_{2} & b_{2} & -1\\end{matrix}\\right] = \\left[\\begin{matrix}1 & 0 & -1 & -1 & 0\\\\0 & 1 & x & x - 1 & -1\\end{matrix}\\right]$"
      ],
      "text/plain": [
       "Eq(Matrix([\n",
       "[1, 0, -1, b1, c1],\n",
       "[0, 1, a2, b2, -1]]), Matrix([\n",
       "[1, 0, -1,    -1,  0],\n",
       "[0, 1,  x, x - 1, -1]]))"
      ]
     },
     "metadata": {},
     "output_type": "display_data"
    }
   ],
   "source": [
    "proj = C.proj([1])\n",
    "with sp.evaluate(False):\n",
    "    display(sp.Eq(proj, fans_link[t]))\n",
    "\n",
    "C.subs(b1, -1)\n",
    "C.subs(b2, a2-1)\n",
    "C.subs(c1, 0)"
   ]
  },
  {
   "cell_type": "code",
   "execution_count": 31,
   "id": "a3e8cbcf-0edb-48de-ab4b-1439aa8b2fa5",
   "metadata": {},
   "outputs": [
    {
     "name": "stdout",
     "output_type": "stream",
     "text": [
      "[1, 3, 4, 5, 6, 2, 7]\n"
     ]
    },
    {
     "data": {
      "text/latex": [
       "$\\displaystyle \\left[\\begin{matrix}1 & 0 & 0 & - a_{0} + b_{0} & c_{0} & a_{0} & a_{0} d_{1} - 1\\\\0 & 1 & 0 & -1 & -1 & a_{2} & a_{2} d_{1} + d_{2}\\\\0 & 0 & 1 & 1 & 0 & -1 & - d_{1}\\end{matrix}\\right]$"
      ],
      "text/plain": [
       "Matrix([\n",
       "[1, 0, 0, -a0 + b0, c0, a0,  a0*d1 - 1],\n",
       "[0, 1, 0,       -1, -1, a2, a2*d1 + d2],\n",
       "[0, 0, 1,        1,  0, -1,        -d1]])"
      ]
     },
     "execution_count": 31,
     "metadata": {},
     "output_type": "execute_result"
    }
   ],
   "source": [
    "print(K.symmetries[3])\n",
    "C.char[:, (np.array(K.symmetries[3])-1).tolist()].rref()[0]"
   ]
  },
  {
   "cell_type": "code",
   "execution_count": 32,
   "id": "db1433e0-cbb0-4232-a861-0f10fb442454",
   "metadata": {},
   "outputs": [
    {
     "name": "stdout",
     "output_type": "stream",
     "text": [
      "[1, 6, 2, 3, 4, 5, 7]\n"
     ]
    },
    {
     "data": {
      "text/latex": [
       "$\\displaystyle \\left[\\begin{matrix}1 & 0 & 0 & 0 & 0 & 0 & -1\\\\0 & 1 & 0 & -1 & -1 & 0 & - d_{2}\\\\0 & 0 & 1 & c_{1} & c_{1} - 1 & -1 & c_{1} d_{2} + d_{1}\\end{matrix}\\right]$"
      ],
      "text/plain": [
       "Matrix([\n",
       "[1, 0, 0,  0,      0,  0,         -1],\n",
       "[0, 1, 0, -1,     -1,  0,        -d2],\n",
       "[0, 0, 1, c1, c1 - 1, -1, c1*d2 + d1]])"
      ]
     },
     "metadata": {},
     "output_type": "display_data"
    },
    {
     "data": {
      "text/latex": [
       "$\\displaystyle \\left[\\begin{matrix}1 & 0 & 0 & c_{0} & a_{0} + c_{0} & b_{0} & -1\\\\0 & 1 & 0 & -1 & -1 & 0 & 0\\\\0 & 0 & 1 & c_{1} & c_{1} - 1 & -1 & 0\\end{matrix}\\right]$"
      ],
      "text/plain": [
       "Matrix([\n",
       "[1, 0, 0, c0, a0 + c0, b0, -1],\n",
       "[0, 1, 0, -1,      -1,  0,  0],\n",
       "[0, 0, 1, c1,  c1 - 1, -1,  0]])"
      ]
     },
     "metadata": {},
     "output_type": "display_data"
    },
    {
     "data": {
      "text/latex": [
       "$\\displaystyle \\left[\\begin{matrix}1 & 0 & 0 & c_{0} & c_{0} & 0 & -1\\\\0 & 1 & 0 & -1 & -1 & 0 & 0\\\\0 & 0 & 1 & c_{1} & c_{1} - 1 & -1 & d_{1}\\end{matrix}\\right]$"
      ],
      "text/plain": [
       "Matrix([\n",
       "[1, 0, 0, c0,     c0,  0, -1],\n",
       "[0, 1, 0, -1,     -1,  0,  0],\n",
       "[0, 0, 1, c1, c1 - 1, -1, d1]])"
      ]
     },
     "metadata": {},
     "output_type": "display_data"
    },
    {
     "data": {
      "text/latex": [
       "$\\displaystyle \\left[\\begin{matrix}1 & 0 & 0 & 0 & b_{0} & b_{0} & -1\\\\0 & 1 & 0 & -1 & -1 & 0 & - d_{2}\\\\0 & 0 & 1 & 0 & -1 & -1 & 0\\end{matrix}\\right]$"
      ],
      "text/plain": [
       "Matrix([\n",
       "[1, 0, 0,  0, b0, b0,  -1],\n",
       "[0, 1, 0, -1, -1,  0, -d2],\n",
       "[0, 0, 1,  0, -1, -1,   0]])"
      ]
     },
     "metadata": {},
     "output_type": "display_data"
    },
    {
     "data": {
      "text/latex": [
       "$\\displaystyle \\left[\\begin{matrix}1 & 0 & 0 & 0 & 0 & b_{0} & -1\\\\0 & 1 & 0 & -1 & -1 & 0 & - d_{2}\\\\0 & 0 & 1 & 1 & 0 & -1 & 0\\end{matrix}\\right]$"
      ],
      "text/plain": [
       "Matrix([\n",
       "[1, 0, 0,  0,  0, b0,  -1],\n",
       "[0, 1, 0, -1, -1,  0, -d2],\n",
       "[0, 0, 1,  1,  0, -1,   0]])"
      ]
     },
     "metadata": {},
     "output_type": "display_data"
    }
   ],
   "source": [
    "print(K.symmetries[8])\n",
    "for f in type0:\n",
    "    fans.append(f[:, (np.array(K.symmetries[8])-1).tolist()].rref()[0])\n",
    "    display(fans[-1])"
   ]
  },
  {
   "cell_type": "markdown",
   "id": "ba8bb0b0-4f5f-47f5-b0ce-7c5aa274795b",
   "metadata": {
    "jp-MarkdownHeadingCollapsed": true
   },
   "source": [
    "## type 2 of the projection"
   ]
  },
  {
   "cell_type": "code",
   "execution_count": 33,
   "id": "6fc3ce89-ae38-47c4-b018-7e6514d6c2d8",
   "metadata": {},
   "outputs": [
    {
     "data": {
      "text/latex": [
       "$\\displaystyle \\left[\\begin{matrix}1 & 0 & -1 & - x & 1 - x\\\\0 & 1 & 0 & -1 & -1\\end{matrix}\\right]$"
      ],
      "text/plain": [
       "Matrix([\n",
       "[1, 0, -1, -x, 1 - x],\n",
       "[0, 1,  0, -1,    -1]])"
      ]
     },
     "metadata": {},
     "output_type": "display_data"
    }
   ],
   "source": [
    "C1 = copy.deepcopy(C0)\n",
    "C = C1\n",
    "t=2\n",
    "display(fans_link[t])"
   ]
  },
  {
   "cell_type": "code",
   "execution_count": 34,
   "id": "a91eebe2-ac42-4e3e-a480-3098de74bf5e",
   "metadata": {},
   "outputs": [
    {
     "data": {
      "text/latex": [
       "$\\displaystyle \\left[\\begin{matrix}1 & 0 & -1 & b_{1} & c_{1}\\\\0 & 1 & a_{2} & b_{2} & -1\\end{matrix}\\right] = \\left[\\begin{matrix}1 & 0 & -1 & - x & 1 - x\\\\0 & 1 & 0 & -1 & -1\\end{matrix}\\right]$"
      ],
      "text/plain": [
       "Eq(Matrix([\n",
       "[1, 0, -1, b1, c1],\n",
       "[0, 1, a2, b2, -1]]), Matrix([\n",
       "[1, 0, -1, -x, 1 - x],\n",
       "[0, 1,  0, -1,    -1]]))"
      ]
     },
     "metadata": {},
     "output_type": "display_data"
    }
   ],
   "source": [
    "proj = C.proj([1])\n",
    "with sp.evaluate(False):\n",
    "    display(sp.Eq(proj, fans_link[t]))\n",
    "\n",
    "C.subs(a2, 0)\n",
    "C.subs(b2, -1)\n",
    "C.subs(c1, b1+1)"
   ]
  },
  {
   "cell_type": "code",
   "execution_count": 35,
   "id": "3edeaf64-0147-4868-b755-adb7ce543401",
   "metadata": {},
   "outputs": [
    {
     "name": "stdout",
     "output_type": "stream",
     "text": [
      "[1, 4, 5, 6, 2, 3, 7]\n"
     ]
    },
    {
     "data": {
      "text/latex": [
       "$\\displaystyle \\left[\\begin{matrix}1 & 0 & 0 & a_{0} - b_{0} + c_{0} & a_{0} & a_{0} b_{1} + b_{0} & a_{0} b_{1} d_{2} + a_{0} d_{1} + b_{0} d_{2} - 1\\\\0 & 1 & 0 & -1 & -1 & - b_{1} & - b_{1} d_{2} - d_{1}\\\\0 & 0 & 1 & 1 & 0 & -1 & - d_{2}\\end{matrix}\\right]$"
      ],
      "text/plain": [
       "Matrix([\n",
       "[1, 0, 0, a0 - b0 + c0, a0, a0*b1 + b0, a0*b1*d2 + a0*d1 + b0*d2 - 1],\n",
       "[0, 1, 0,           -1, -1,        -b1,                  -b1*d2 - d1],\n",
       "[0, 0, 1,            1,  0,         -1,                          -d2]])"
      ]
     },
     "execution_count": 35,
     "metadata": {},
     "output_type": "execute_result"
    }
   ],
   "source": [
    "print(K.symmetries[5])\n",
    "C.char[:, (np.array(K.symmetries[5])-1).tolist()].rref()[0]"
   ]
  },
  {
   "cell_type": "code",
   "execution_count": 36,
   "id": "eb6488a5-734d-42f7-8867-d8500710929d",
   "metadata": {},
   "outputs": [
    {
     "name": "stdout",
     "output_type": "stream",
     "text": [
      "[1, 5, 6, 2, 3, 4, 7]\n"
     ]
    },
    {
     "data": {
      "text/latex": [
       "$\\displaystyle \\left[\\begin{matrix}1 & 0 & 0 & 0 & 0 & 0 & -1\\\\0 & 1 & 0 & -1 & - c_{1} & 1 - c_{1} & - c_{1} d_{2} - d_{1}\\\\0 & 0 & 1 & 0 & -1 & -1 & - d_{2}\\end{matrix}\\right]$"
      ],
      "text/plain": [
       "Matrix([\n",
       "[1, 0, 0,  0,   0,      0,          -1],\n",
       "[0, 1, 0, -1, -c1, 1 - c1, -c1*d2 - d1],\n",
       "[0, 0, 1,  0,  -1,     -1,         -d2]])"
      ]
     },
     "metadata": {},
     "output_type": "display_data"
    },
    {
     "data": {
      "text/latex": [
       "$\\displaystyle \\left[\\begin{matrix}1 & 0 & 0 & b_{0} & b_{0} c_{1} + c_{0} & a_{0} + b_{0} c_{1} - b_{0} + c_{0} & -1\\\\0 & 1 & 0 & -1 & - c_{1} & 1 - c_{1} & 0\\\\0 & 0 & 1 & 0 & -1 & -1 & 0\\end{matrix}\\right]$"
      ],
      "text/plain": [
       "Matrix([\n",
       "[1, 0, 0, b0, b0*c1 + c0, a0 + b0*c1 - b0 + c0, -1],\n",
       "[0, 1, 0, -1,        -c1,               1 - c1,  0],\n",
       "[0, 0, 1,  0,         -1,                   -1,  0]])"
      ]
     },
     "metadata": {},
     "output_type": "display_data"
    },
    {
     "data": {
      "text/latex": [
       "$\\displaystyle \\left[\\begin{matrix}1 & 0 & 0 & 0 & c_{0} & c_{0} & -1\\\\0 & 1 & 0 & -1 & - c_{1} & 1 - c_{1} & - d_{1}\\\\0 & 0 & 1 & 0 & -1 & -1 & 0\\end{matrix}\\right]$"
      ],
      "text/plain": [
       "Matrix([\n",
       "[1, 0, 0,  0,  c0,     c0,  -1],\n",
       "[0, 1, 0, -1, -c1, 1 - c1, -d1],\n",
       "[0, 0, 1,  0,  -1,     -1,   0]])"
      ]
     },
     "metadata": {},
     "output_type": "display_data"
    },
    {
     "data": {
      "text/latex": [
       "$\\displaystyle \\left[\\begin{matrix}1 & 0 & 0 & b_{0} & 0 & 0 & -1\\\\0 & 1 & 0 & -1 & 0 & 1 & 0\\\\0 & 0 & 1 & 0 & -1 & -1 & - d_{2}\\end{matrix}\\right]$"
      ],
      "text/plain": [
       "Matrix([\n",
       "[1, 0, 0, b0,  0,  0,  -1],\n",
       "[0, 1, 0, -1,  0,  1,   0],\n",
       "[0, 0, 1,  0, -1, -1, -d2]])"
      ]
     },
     "metadata": {},
     "output_type": "display_data"
    },
    {
     "data": {
      "text/latex": [
       "$\\displaystyle \\left[\\begin{matrix}1 & 0 & 0 & b_{0} & b_{0} & 0 & -1\\\\0 & 1 & 0 & -1 & -1 & 0 & 0\\\\0 & 0 & 1 & 0 & -1 & -1 & - d_{2}\\end{matrix}\\right]$"
      ],
      "text/plain": [
       "Matrix([\n",
       "[1, 0, 0, b0, b0,  0,  -1],\n",
       "[0, 1, 0, -1, -1,  0,   0],\n",
       "[0, 0, 1,  0, -1, -1, -d2]])"
      ]
     },
     "metadata": {},
     "output_type": "display_data"
    }
   ],
   "source": [
    "print(K.symmetries[7])\n",
    "for f in type0:\n",
    "    fans.append(f[:, (np.array(K.symmetries[7])-1).tolist()].rref()[0])\n",
    "    display(fans[-1])"
   ]
  },
  {
   "cell_type": "markdown",
   "id": "ecc5b614-3b3e-48ba-aa85-2b718b4e8b12",
   "metadata": {
    "jp-MarkdownHeadingCollapsed": true
   },
   "source": [
    "## type 3 of the projection"
   ]
  },
  {
   "cell_type": "code",
   "execution_count": 37,
   "id": "59599496-e862-48d9-8c24-e0748e1330df",
   "metadata": {},
   "outputs": [
    {
     "data": {
      "text/latex": [
       "$\\displaystyle \\left[\\begin{matrix}1 & 0 & -1 & 0 & 1\\\\0 & 1 & 1 - x & -1 & -1\\end{matrix}\\right]$"
      ],
      "text/plain": [
       "Matrix([\n",
       "[1, 0,    -1,  0,  1],\n",
       "[0, 1, 1 - x, -1, -1]])"
      ]
     },
     "metadata": {},
     "output_type": "display_data"
    }
   ],
   "source": [
    "C1 = copy.deepcopy(C0)\n",
    "C = C1\n",
    "t=3\n",
    "display(fans_link[t])"
   ]
  },
  {
   "cell_type": "code",
   "execution_count": 38,
   "id": "2c968ea0-52fa-4896-8f91-2304fd9880cf",
   "metadata": {},
   "outputs": [
    {
     "data": {
      "text/latex": [
       "$\\displaystyle \\left[\\begin{matrix}1 & 0 & -1 & b_{1} & c_{1}\\\\0 & 1 & a_{2} & b_{2} & -1\\end{matrix}\\right] = \\left[\\begin{matrix}1 & 0 & -1 & 0 & 1\\\\0 & 1 & 1 - x & -1 & -1\\end{matrix}\\right]$"
      ],
      "text/plain": [
       "Eq(Matrix([\n",
       "[1, 0, -1, b1, c1],\n",
       "[0, 1, a2, b2, -1]]), Matrix([\n",
       "[1, 0,    -1,  0,  1],\n",
       "[0, 1, 1 - x, -1, -1]]))"
      ]
     },
     "metadata": {},
     "output_type": "display_data"
    }
   ],
   "source": [
    "proj = C.proj([1])\n",
    "with sp.evaluate(False):\n",
    "    display(sp.Eq(proj, fans_link[t]))\n",
    "\n",
    "C.subs(b1, 0)\n",
    "C.subs(b2, -1)\n",
    "C.subs(c1, 1)"
   ]
  },
  {
   "cell_type": "code",
   "execution_count": 39,
   "id": "50f1f54d-a2b2-4981-a8f1-1d1df7a1eab2",
   "metadata": {},
   "outputs": [
    {
     "name": "stdout",
     "output_type": "stream",
     "text": [
      "[1, 5, 6, 2, 3, 4, 7]\n"
     ]
    },
    {
     "data": {
      "text/latex": [
       "$\\displaystyle \\left[\\begin{matrix}1 & 0 & 0 & b_{0} - c_{0} & b_{0} & a_{0} + a_{2} b_{0} - b_{0} + c_{0} & b_{0} d_{1} + b_{0} d_{2} - c_{0} d_{1} - 1\\\\0 & 1 & 0 & -1 & -1 & 1 - a_{2} & - d_{1} - d_{2}\\\\0 & 0 & 1 & 1 & 0 & -1 & d_{1}\\end{matrix}\\right]$"
      ],
      "text/plain": [
       "Matrix([\n",
       "[1, 0, 0, b0 - c0, b0, a0 + a2*b0 - b0 + c0, b0*d1 + b0*d2 - c0*d1 - 1],\n",
       "[0, 1, 0,      -1, -1,               1 - a2,                  -d1 - d2],\n",
       "[0, 0, 1,       1,  0,                   -1,                        d1]])"
      ]
     },
     "execution_count": 39,
     "metadata": {},
     "output_type": "execute_result"
    }
   ],
   "source": [
    "print(K.symmetries[7])\n",
    "C.char[:, (np.array(K.symmetries[7])-1).tolist()].rref()[0]"
   ]
  },
  {
   "cell_type": "code",
   "execution_count": 40,
   "id": "a24708cc-4aaa-4ec3-ab5d-e32a92b8582a",
   "metadata": {},
   "outputs": [
    {
     "name": "stdout",
     "output_type": "stream",
     "text": [
      "[1, 4, 5, 6, 2, 3, 7]\n"
     ]
    },
    {
     "data": {
      "text/latex": [
       "$\\displaystyle \\left[\\begin{matrix}1 & 0 & 0 & 0 & 0 & 0 & -1\\\\0 & 1 & 0 & -1 & 0 & 1 & d_{2}\\\\0 & 0 & 1 & 1 - c_{1} & -1 & -1 & - d_{1} - d_{2}\\end{matrix}\\right]$"
      ],
      "text/plain": [
       "Matrix([\n",
       "[1, 0, 0,      0,  0,  0,       -1],\n",
       "[0, 1, 0,     -1,  0,  1,       d2],\n",
       "[0, 0, 1, 1 - c1, -1, -1, -d1 - d2]])"
      ]
     },
     "metadata": {},
     "output_type": "display_data"
    },
    {
     "data": {
      "text/latex": [
       "$\\displaystyle \\left[\\begin{matrix}1 & 0 & 0 & a_{0} + b_{0} c_{1} - b_{0} + c_{0} & b_{0} & - a_{0} + b_{0} & -1\\\\0 & 1 & 0 & -1 & 0 & 1 & 0\\\\0 & 0 & 1 & 1 - c_{1} & -1 & -1 & 0\\end{matrix}\\right]$"
      ],
      "text/plain": [
       "Matrix([\n",
       "[1, 0, 0, a0 + b0*c1 - b0 + c0, b0, -a0 + b0, -1],\n",
       "[0, 1, 0,                   -1,  0,        1,  0],\n",
       "[0, 0, 1,               1 - c1, -1,       -1,  0]])"
      ]
     },
     "metadata": {},
     "output_type": "display_data"
    },
    {
     "data": {
      "text/latex": [
       "$\\displaystyle \\left[\\begin{matrix}1 & 0 & 0 & c_{0} & 0 & 0 & -1\\\\0 & 1 & 0 & -1 & 0 & 1 & 0\\\\0 & 0 & 1 & 1 - c_{1} & -1 & -1 & - d_{1}\\end{matrix}\\right]$"
      ],
      "text/plain": [
       "Matrix([\n",
       "[1, 0, 0,     c0,  0,  0,  -1],\n",
       "[0, 1, 0,     -1,  0,  1,   0],\n",
       "[0, 0, 1, 1 - c1, -1, -1, -d1]])"
      ]
     },
     "metadata": {},
     "output_type": "display_data"
    },
    {
     "data": {
      "text/latex": [
       "$\\displaystyle \\left[\\begin{matrix}1 & 0 & 0 & 0 & b_{0} & 0 & -1\\\\0 & 1 & 0 & -1 & 0 & 1 & d_{2}\\\\0 & 0 & 1 & 1 & -1 & -1 & - d_{2}\\end{matrix}\\right]$"
      ],
      "text/plain": [
       "Matrix([\n",
       "[1, 0, 0,  0, b0,  0,  -1],\n",
       "[0, 1, 0, -1,  0,  1,  d2],\n",
       "[0, 0, 1,  1, -1, -1, -d2]])"
      ]
     },
     "metadata": {},
     "output_type": "display_data"
    },
    {
     "data": {
      "text/latex": [
       "$\\displaystyle \\left[\\begin{matrix}1 & 0 & 0 & 0 & b_{0} & b_{0} & -1\\\\0 & 1 & 0 & -1 & 0 & 1 & d_{2}\\\\0 & 0 & 1 & 0 & -1 & -1 & 0\\end{matrix}\\right]$"
      ],
      "text/plain": [
       "Matrix([\n",
       "[1, 0, 0,  0, b0, b0, -1],\n",
       "[0, 1, 0, -1,  0,  1, d2],\n",
       "[0, 0, 1,  0, -1, -1,  0]])"
      ]
     },
     "metadata": {},
     "output_type": "display_data"
    }
   ],
   "source": [
    "print(K.symmetries[5])\n",
    "for f in type0:\n",
    "    fans.append(f[:, (np.array(K.symmetries[5])-1).tolist()].rref()[0])\n",
    "    display(fans[-1])"
   ]
  },
  {
   "cell_type": "markdown",
   "id": "e4c003d0-8736-4363-85bb-38dd95e66115",
   "metadata": {
    "jp-MarkdownHeadingCollapsed": true
   },
   "source": [
    "## type 4 of the projection"
   ]
  },
  {
   "cell_type": "code",
   "execution_count": 41,
   "id": "419a19af-8103-4b0d-9ed3-c9ef5b2feca2",
   "metadata": {},
   "outputs": [
    {
     "data": {
      "text/latex": [
       "$\\displaystyle \\left[\\begin{matrix}1 & 0 & -1 & x - 1 & 1\\\\0 & 1 & 1 & - x & -1\\end{matrix}\\right]$"
      ],
      "text/plain": [
       "Matrix([\n",
       "[1, 0, -1, x - 1,  1],\n",
       "[0, 1,  1,    -x, -1]])"
      ]
     },
     "metadata": {},
     "output_type": "display_data"
    }
   ],
   "source": [
    "C1 = copy.deepcopy(C0)\n",
    "C = C1\n",
    "t=4\n",
    "display(fans_link[t])"
   ]
  },
  {
   "cell_type": "code",
   "execution_count": 42,
   "id": "bdce08b5-d8eb-4df7-9163-79508023e6e8",
   "metadata": {},
   "outputs": [
    {
     "data": {
      "text/latex": [
       "$\\displaystyle \\left[\\begin{matrix}1 & 0 & -1 & b_{1} & c_{1}\\\\0 & 1 & a_{2} & b_{2} & -1\\end{matrix}\\right] = \\left[\\begin{matrix}1 & 0 & -1 & x - 1 & 1\\\\0 & 1 & 1 & - x & -1\\end{matrix}\\right]$"
      ],
      "text/plain": [
       "Eq(Matrix([\n",
       "[1, 0, -1, b1, c1],\n",
       "[0, 1, a2, b2, -1]]), Matrix([\n",
       "[1, 0, -1, x - 1,  1],\n",
       "[0, 1,  1,    -x, -1]]))"
      ]
     },
     "metadata": {},
     "output_type": "display_data"
    }
   ],
   "source": [
    "proj = C.proj([1])\n",
    "with sp.evaluate(False):\n",
    "    display(sp.Eq(proj, fans_link[t]))\n",
    "\n",
    "C.subs(a2, 1)\n",
    "C.subs(b1, -b2-1)\n",
    "C.subs(c1, 1)"
   ]
  },
  {
   "cell_type": "code",
   "execution_count": 43,
   "id": "0c8e407f-06b7-468c-a10b-86cdfcdc2a2d",
   "metadata": {},
   "outputs": [
    {
     "name": "stdout",
     "output_type": "stream",
     "text": [
      "[1, 6, 2, 3, 4, 5, 7]\n"
     ]
    },
    {
     "data": {
      "text/latex": [
       "$\\displaystyle \\left[\\begin{matrix}1 & 0 & 0 & c_{0} & a_{0} + c_{0} & b_{0} + b_{2} c_{0} & c_{0} d_{2} - 1\\\\0 & 1 & 0 & -1 & -1 & - b_{2} & - d_{2}\\\\0 & 0 & 1 & 1 & 0 & -1 & d_{1} + d_{2}\\end{matrix}\\right]$"
      ],
      "text/plain": [
       "Matrix([\n",
       "[1, 0, 0, c0, a0 + c0, b0 + b2*c0, c0*d2 - 1],\n",
       "[0, 1, 0, -1,      -1,        -b2,       -d2],\n",
       "[0, 0, 1,  1,       0,         -1,   d1 + d2]])"
      ]
     },
     "execution_count": 43,
     "metadata": {},
     "output_type": "execute_result"
    }
   ],
   "source": [
    "print(K.symmetries[8])\n",
    "C.char[:, (np.array(K.symmetries[8])-1).tolist()].rref()[0]"
   ]
  },
  {
   "cell_type": "code",
   "execution_count": 44,
   "id": "13fc2981-06c8-4a95-8211-76d0da79ae5e",
   "metadata": {},
   "outputs": [
    {
     "name": "stdout",
     "output_type": "stream",
     "text": [
      "[1, 3, 4, 5, 6, 2, 7]\n"
     ]
    },
    {
     "data": {
      "text/latex": [
       "$\\displaystyle \\left[\\begin{matrix}1 & 0 & 0 & 0 & 0 & 0 & -1\\\\0 & 1 & 0 & -1 & c_{1} - 1 & 1 & d_{1} + d_{2}\\\\0 & 0 & 1 & 1 & - c_{1} & -1 & - d_{1}\\end{matrix}\\right]$"
      ],
      "text/plain": [
       "Matrix([\n",
       "[1, 0, 0,  0,      0,  0,      -1],\n",
       "[0, 1, 0, -1, c1 - 1,  1, d1 + d2],\n",
       "[0, 0, 1,  1,    -c1, -1,     -d1]])"
      ]
     },
     "metadata": {},
     "output_type": "display_data"
    },
    {
     "data": {
      "text/latex": [
       "$\\displaystyle \\left[\\begin{matrix}1 & 0 & 0 & - a_{0} + b_{0} & a_{0} c_{1} + c_{0} & a_{0} & -1\\\\0 & 1 & 0 & -1 & c_{1} - 1 & 1 & 0\\\\0 & 0 & 1 & 1 & - c_{1} & -1 & 0\\end{matrix}\\right]$"
      ],
      "text/plain": [
       "Matrix([\n",
       "[1, 0, 0, -a0 + b0, a0*c1 + c0, a0, -1],\n",
       "[0, 1, 0,       -1,     c1 - 1,  1,  0],\n",
       "[0, 0, 1,        1,        -c1, -1,  0]])"
      ]
     },
     "metadata": {},
     "output_type": "display_data"
    },
    {
     "data": {
      "text/latex": [
       "$\\displaystyle \\left[\\begin{matrix}1 & 0 & 0 & 0 & c_{0} & 0 & -1\\\\0 & 1 & 0 & -1 & c_{1} - 1 & 1 & d_{1}\\\\0 & 0 & 1 & 1 & - c_{1} & -1 & - d_{1}\\end{matrix}\\right]$"
      ],
      "text/plain": [
       "Matrix([\n",
       "[1, 0, 0,  0,     c0,  0,  -1],\n",
       "[0, 1, 0, -1, c1 - 1,  1,  d1],\n",
       "[0, 0, 1,  1,    -c1, -1, -d1]])"
      ]
     },
     "metadata": {},
     "output_type": "display_data"
    },
    {
     "data": {
      "text/latex": [
       "$\\displaystyle \\left[\\begin{matrix}1 & 0 & 0 & 0 & 0 & b_{0} & -1\\\\0 & 1 & 0 & -1 & -1 & 1 & d_{2}\\\\0 & 0 & 1 & 1 & 0 & -1 & 0\\end{matrix}\\right]$"
      ],
      "text/plain": [
       "Matrix([\n",
       "[1, 0, 0,  0,  0, b0, -1],\n",
       "[0, 1, 0, -1, -1,  1, d2],\n",
       "[0, 0, 1,  1,  0, -1,  0]])"
      ]
     },
     "metadata": {},
     "output_type": "display_data"
    },
    {
     "data": {
      "text/latex": [
       "$\\displaystyle \\left[\\begin{matrix}1 & 0 & 0 & b_{0} & 0 & 0 & -1\\\\0 & 1 & 0 & -1 & 0 & 1 & 0\\\\0 & 0 & 1 & 1 & -1 & -1 & d_{2}\\end{matrix}\\right]$"
      ],
      "text/plain": [
       "Matrix([\n",
       "[1, 0, 0, b0,  0,  0, -1],\n",
       "[0, 1, 0, -1,  0,  1,  0],\n",
       "[0, 0, 1,  1, -1, -1, d2]])"
      ]
     },
     "metadata": {},
     "output_type": "display_data"
    }
   ],
   "source": [
    "print(K.symmetries[3])\n",
    "for f in type0:\n",
    "    fans.append(f[:, (np.array(K.symmetries[3])-1).tolist()].rref()[0])\n",
    "    display(fans[-1])"
   ]
  },
  {
   "cell_type": "markdown",
   "id": "89f3a99a-ebbe-4593-8f79-40b587bf4021",
   "metadata": {
    "jp-MarkdownHeadingCollapsed": true
   },
   "source": [
    "# There are 15 types of fans up to D-J equivalence"
   ]
  },
  {
   "cell_type": "markdown",
   "id": "38853ec4-7938-4772-bcda-610c57de5956",
   "metadata": {
    "jp-MarkdownHeadingCollapsed": true
   },
   "source": [
    "## removing redundant ones"
   ]
  },
  {
   "cell_type": "code",
   "execution_count": 45,
   "id": "a81c600c-d568-4ac0-8421-83bea43b5000",
   "metadata": {},
   "outputs": [
    {
     "data": {
      "text/latex": [
       "$\\displaystyle \\left[\\begin{matrix}1 & 0 & 0 & b_{0} & b_{0} & 0 & -1\\\\0 & 1 & 0 & -1 & -1 & 0 & 0\\\\0 & 0 & 1 & 1 & 0 & -1 & d_{2}\\end{matrix}\\right]$"
      ],
      "text/plain": [
       "Matrix([\n",
       "[1, 0, 0, b0, b0,  0, -1],\n",
       "[0, 1, 0, -1, -1,  0,  0],\n",
       "[0, 0, 1,  1,  0, -1, d2]])"
      ]
     },
     "metadata": {},
     "output_type": "display_data"
    },
    {
     "data": {
      "text/latex": [
       "$\\displaystyle \\left[\\begin{matrix}1 & 0 & 0 & c_{0} & c_{0} & 0 & -1\\\\0 & 1 & 0 & -1 & -1 & 0 & 0\\\\0 & 0 & 1 & c_{1} & c_{1} - 1 & -1 & d_{1}\\end{matrix}\\right]$"
      ],
      "text/plain": [
       "Matrix([\n",
       "[1, 0, 0, c0,     c0,  0, -1],\n",
       "[0, 1, 0, -1,     -1,  0,  0],\n",
       "[0, 0, 1, c1, c1 - 1, -1, d1]])"
      ]
     },
     "metadata": {},
     "output_type": "display_data"
    }
   ],
   "source": [
    "display(fans[3], fans[7])\n",
    "fans.remove(fans[3])"
   ]
  },
  {
   "cell_type": "code",
   "execution_count": 46,
   "id": "aaadd59e-f43f-4f54-8be9-2107fe2b071b",
   "metadata": {},
   "outputs": [
    {
     "data": {
      "text/latex": [
       "$\\displaystyle \\left[\\begin{matrix}1 & 0 & 0 & 0 & b_{0} & 0 & -1\\\\0 & 1 & 0 & -1 & -1 & 1 & - d_{2}\\\\0 & 0 & 1 & 1 & 0 & -1 & d_{2}\\end{matrix}\\right]$"
      ],
      "text/plain": [
       "Matrix([\n",
       "[1, 0, 0,  0, b0,  0,  -1],\n",
       "[0, 1, 0, -1, -1,  1, -d2],\n",
       "[0, 0, 1,  1,  0, -1,  d2]])"
      ]
     },
     "metadata": {},
     "output_type": "display_data"
    },
    {
     "data": {
      "text/latex": [
       "$\\displaystyle \\left[\\begin{matrix}1 & 0 & 0 & 0 & c_{0} & 0 & -1\\\\0 & 1 & 0 & -1 & c_{1} - 1 & 1 & d_{1}\\\\0 & 0 & 1 & 1 & - c_{1} & -1 & - d_{1}\\end{matrix}\\right]$"
      ],
      "text/plain": [
       "Matrix([\n",
       "[1, 0, 0,  0,     c0,  0,  -1],\n",
       "[0, 1, 0, -1, c1 - 1,  1,  d1],\n",
       "[0, 0, 1,  1,    -c1, -1, -d1]])"
      ]
     },
     "metadata": {},
     "output_type": "display_data"
    }
   ],
   "source": [
    "display(fans[3], fans[21])\n",
    "fans.remove(fans[3])"
   ]
  },
  {
   "cell_type": "code",
   "execution_count": 47,
   "id": "f97fbca0-1592-449e-a869-ab5b318b08c0",
   "metadata": {},
   "outputs": [
    {
     "data": {
      "text/latex": [
       "$\\displaystyle \\left[\\begin{matrix}1 & 0 & 0 & 0 & b_{0} & b_{0} & -1\\\\0 & 1 & 0 & -1 & -1 & 0 & - d_{2}\\\\0 & 0 & 1 & 0 & -1 & -1 & 0\\end{matrix}\\right]$"
      ],
      "text/plain": [
       "Matrix([\n",
       "[1, 0, 0,  0, b0, b0,  -1],\n",
       "[0, 1, 0, -1, -1,  0, -d2],\n",
       "[0, 0, 1,  0, -1, -1,   0]])"
      ]
     },
     "metadata": {},
     "output_type": "display_data"
    },
    {
     "data": {
      "text/latex": [
       "$\\displaystyle \\left[\\begin{matrix}1 & 0 & 0 & 0 & c_{0} & c_{0} & -1\\\\0 & 1 & 0 & -1 & - c_{1} & 1 - c_{1} & - d_{1}\\\\0 & 0 & 1 & 0 & -1 & -1 & 0\\end{matrix}\\right]$"
      ],
      "text/plain": [
       "Matrix([\n",
       "[1, 0, 0,  0,  c0,     c0,  -1],\n",
       "[0, 1, 0, -1, -c1, 1 - c1, -d1],\n",
       "[0, 0, 1,  0,  -1,     -1,   0]])"
      ]
     },
     "metadata": {},
     "output_type": "display_data"
    }
   ],
   "source": [
    "display(fans[6], fans[10])\n",
    "fans.remove(fans[6])"
   ]
  },
  {
   "cell_type": "code",
   "execution_count": 48,
   "id": "b86ff169-5806-4418-ad12-20ee49e600ad",
   "metadata": {},
   "outputs": [
    {
     "data": {
      "text/latex": [
       "$\\displaystyle \\left[\\begin{matrix}1 & 0 & 0 & 0 & 0 & b_{0} & -1\\\\0 & 1 & 0 & -1 & -1 & 0 & - d_{2}\\\\0 & 0 & 1 & 1 & 0 & -1 & 0\\end{matrix}\\right]$"
      ],
      "text/plain": [
       "Matrix([\n",
       "[1, 0, 0,  0,  0, b0,  -1],\n",
       "[0, 1, 0, -1, -1,  0, -d2],\n",
       "[0, 0, 1,  1,  0, -1,   0]])"
      ]
     },
     "metadata": {},
     "output_type": "display_data"
    },
    {
     "data": {
      "text/latex": [
       "$\\displaystyle \\left[\\begin{matrix}1 & 0 & 0 & 0 & 0 & c_{0} & -1\\\\0 & 1 & 0 & -1 & -1 & c_{1} & d_{1}\\\\0 & 0 & 1 & 1 & 0 & -1 & 0\\end{matrix}\\right]$"
      ],
      "text/plain": [
       "Matrix([\n",
       "[1, 0, 0,  0,  0, c0, -1],\n",
       "[0, 1, 0, -1, -1, c1, d1],\n",
       "[0, 0, 1,  1,  0, -1,  0]])"
      ]
     },
     "metadata": {},
     "output_type": "display_data"
    }
   ],
   "source": [
    "display(fans[6], fans[2])\n",
    "fans.remove(fans[6])"
   ]
  },
  {
   "cell_type": "code",
   "execution_count": 49,
   "id": "6dc4ec6b-c78e-4fc3-8b45-f2c7625ec012",
   "metadata": {},
   "outputs": [
    {
     "data": {
      "text/latex": [
       "$\\displaystyle \\left[\\begin{matrix}1 & 0 & 0 & b_{0} & 0 & 0 & -1\\\\0 & 1 & 0 & -1 & 0 & 1 & 0\\\\0 & 0 & 1 & 0 & -1 & -1 & - d_{2}\\end{matrix}\\right]$"
      ],
      "text/plain": [
       "Matrix([\n",
       "[1, 0, 0, b0,  0,  0,  -1],\n",
       "[0, 1, 0, -1,  0,  1,   0],\n",
       "[0, 0, 1,  0, -1, -1, -d2]])"
      ]
     },
     "metadata": {},
     "output_type": "display_data"
    },
    {
     "data": {
      "text/latex": [
       "$\\displaystyle \\left[\\begin{matrix}1 & 0 & 0 & c_{0} & 0 & 0 & -1\\\\0 & 1 & 0 & -1 & 0 & 1 & 0\\\\0 & 0 & 1 & 1 - c_{1} & -1 & -1 & - d_{1}\\end{matrix}\\right]$"
      ],
      "text/plain": [
       "Matrix([\n",
       "[1, 0, 0,     c0,  0,  0,  -1],\n",
       "[0, 1, 0,     -1,  0,  1,   0],\n",
       "[0, 0, 1, 1 - c1, -1, -1, -d1]])"
      ]
     },
     "metadata": {},
     "output_type": "display_data"
    }
   ],
   "source": [
    "display(fans[9], fans[13])\n",
    "fans.remove(fans[9])"
   ]
  },
  {
   "cell_type": "code",
   "execution_count": 50,
   "id": "0e182f43-0e43-45bf-a103-a6d6436a0d1b",
   "metadata": {},
   "outputs": [
    {
     "data": {
      "text/latex": [
       "$\\displaystyle \\left[\\begin{matrix}1 & 0 & 0 & b_{0} & b_{0} & 0 & -1\\\\0 & 1 & 0 & -1 & -1 & 0 & 0\\\\0 & 0 & 1 & 0 & -1 & -1 & - d_{2}\\end{matrix}\\right]$"
      ],
      "text/plain": [
       "Matrix([\n",
       "[1, 0, 0, b0, b0,  0,  -1],\n",
       "[0, 1, 0, -1, -1,  0,   0],\n",
       "[0, 0, 1,  0, -1, -1, -d2]])"
      ]
     },
     "metadata": {},
     "output_type": "display_data"
    },
    {
     "data": {
      "text/latex": [
       "$\\displaystyle \\left[\\begin{matrix}1 & 0 & 0 & c_{0} & c_{0} & 0 & -1\\\\0 & 1 & 0 & -1 & -1 & 0 & 0\\\\0 & 0 & 1 & c_{1} & c_{1} - 1 & -1 & d_{1}\\end{matrix}\\right]$"
      ],
      "text/plain": [
       "Matrix([\n",
       "[1, 0, 0, c0,     c0,  0, -1],\n",
       "[0, 1, 0, -1,     -1,  0,  0],\n",
       "[0, 0, 1, c1, c1 - 1, -1, d1]])"
      ]
     },
     "metadata": {},
     "output_type": "display_data"
    }
   ],
   "source": [
    "display(fans[9], fans[5])\n",
    "fans.remove(fans[9])"
   ]
  },
  {
   "cell_type": "code",
   "execution_count": 51,
   "id": "f4ed4a7d-a363-48ab-843a-834e2f1efe92",
   "metadata": {},
   "outputs": [
    {
     "data": {
      "text/latex": [
       "$\\displaystyle \\left[\\begin{matrix}1 & 0 & 0 & 0 & b_{0} & 0 & -1\\\\0 & 1 & 0 & -1 & 0 & 1 & d_{2}\\\\0 & 0 & 1 & 1 & -1 & -1 & - d_{2}\\end{matrix}\\right]$"
      ],
      "text/plain": [
       "Matrix([\n",
       "[1, 0, 0,  0, b0,  0,  -1],\n",
       "[0, 1, 0, -1,  0,  1,  d2],\n",
       "[0, 0, 1,  1, -1, -1, -d2]])"
      ]
     },
     "metadata": {},
     "output_type": "display_data"
    },
    {
     "data": {
      "text/latex": [
       "$\\displaystyle \\left[\\begin{matrix}1 & 0 & 0 & 0 & c_{0} & 0 & -1\\\\0 & 1 & 0 & -1 & c_{1} - 1 & 1 & d_{1}\\\\0 & 0 & 1 & 1 & - c_{1} & -1 & - d_{1}\\end{matrix}\\right]$"
      ],
      "text/plain": [
       "Matrix([\n",
       "[1, 0, 0,  0,     c0,  0,  -1],\n",
       "[0, 1, 0, -1, c1 - 1,  1,  d1],\n",
       "[0, 0, 1,  1,    -c1, -1, -d1]])"
      ]
     },
     "metadata": {},
     "output_type": "display_data"
    }
   ],
   "source": [
    "display(fans[12], fans[16])\n",
    "fans.remove(fans[12])"
   ]
  },
  {
   "cell_type": "code",
   "execution_count": 52,
   "id": "e1cfd535-9c55-48fc-95db-86950c154c48",
   "metadata": {},
   "outputs": [
    {
     "data": {
      "text/latex": [
       "$\\displaystyle \\left[\\begin{matrix}1 & 0 & 0 & 0 & b_{0} & b_{0} & -1\\\\0 & 1 & 0 & -1 & 0 & 1 & d_{2}\\\\0 & 0 & 1 & 0 & -1 & -1 & 0\\end{matrix}\\right]$"
      ],
      "text/plain": [
       "Matrix([\n",
       "[1, 0, 0,  0, b0, b0, -1],\n",
       "[0, 1, 0, -1,  0,  1, d2],\n",
       "[0, 0, 1,  0, -1, -1,  0]])"
      ]
     },
     "metadata": {},
     "output_type": "display_data"
    },
    {
     "data": {
      "text/latex": [
       "$\\displaystyle \\left[\\begin{matrix}1 & 0 & 0 & 0 & c_{0} & c_{0} & -1\\\\0 & 1 & 0 & -1 & - c_{1} & 1 - c_{1} & - d_{1}\\\\0 & 0 & 1 & 0 & -1 & -1 & 0\\end{matrix}\\right]$"
      ],
      "text/plain": [
       "Matrix([\n",
       "[1, 0, 0,  0,  c0,     c0,  -1],\n",
       "[0, 1, 0, -1, -c1, 1 - c1, -d1],\n",
       "[0, 0, 1,  0,  -1,     -1,   0]])"
      ]
     },
     "metadata": {},
     "output_type": "display_data"
    }
   ],
   "source": [
    "display(fans[12], fans[8])\n",
    "fans.remove(fans[12])"
   ]
  },
  {
   "cell_type": "code",
   "execution_count": 53,
   "id": "17eadfff-bc60-47b8-9c6f-c615b7a80309",
   "metadata": {},
   "outputs": [
    {
     "data": {
      "text/latex": [
       "$\\displaystyle \\left[\\begin{matrix}1 & 0 & 0 & 0 & 0 & b_{0} & -1\\\\0 & 1 & 0 & -1 & -1 & 1 & d_{2}\\\\0 & 0 & 1 & 1 & 0 & -1 & 0\\end{matrix}\\right]$"
      ],
      "text/plain": [
       "Matrix([\n",
       "[1, 0, 0,  0,  0, b0, -1],\n",
       "[0, 1, 0, -1, -1,  1, d2],\n",
       "[0, 0, 1,  1,  0, -1,  0]])"
      ]
     },
     "metadata": {},
     "output_type": "display_data"
    },
    {
     "data": {
      "text/latex": [
       "$\\displaystyle \\left[\\begin{matrix}1 & 0 & 0 & 0 & 0 & c_{0} & -1\\\\0 & 1 & 0 & -1 & -1 & c_{1} & d_{1}\\\\0 & 0 & 1 & 1 & 0 & -1 & 0\\end{matrix}\\right]$"
      ],
      "text/plain": [
       "Matrix([\n",
       "[1, 0, 0,  0,  0, c0, -1],\n",
       "[0, 1, 0, -1, -1, c1, d1],\n",
       "[0, 0, 1,  1,  0, -1,  0]])"
      ]
     },
     "metadata": {},
     "output_type": "display_data"
    }
   ],
   "source": [
    "display(fans[15], fans[2])\n",
    "fans.remove(fans[15])"
   ]
  },
  {
   "cell_type": "code",
   "execution_count": 54,
   "id": "7e99688e-6bcf-47b9-9578-211f2fdd5ca9",
   "metadata": {},
   "outputs": [
    {
     "data": {
      "text/latex": [
       "$\\displaystyle \\left[\\begin{matrix}1 & 0 & 0 & b_{0} & 0 & 0 & -1\\\\0 & 1 & 0 & -1 & 0 & 1 & 0\\\\0 & 0 & 1 & 1 & -1 & -1 & d_{2}\\end{matrix}\\right]$"
      ],
      "text/plain": [
       "Matrix([\n",
       "[1, 0, 0, b0,  0,  0, -1],\n",
       "[0, 1, 0, -1,  0,  1,  0],\n",
       "[0, 0, 1,  1, -1, -1, d2]])"
      ]
     },
     "metadata": {},
     "output_type": "display_data"
    },
    {
     "data": {
      "text/latex": [
       "$\\displaystyle \\left[\\begin{matrix}1 & 0 & 0 & c_{0} & 0 & 0 & -1\\\\0 & 1 & 0 & -1 & 0 & 1 & 0\\\\0 & 0 & 1 & 1 - c_{1} & -1 & -1 & - d_{1}\\end{matrix}\\right]$"
      ],
      "text/plain": [
       "Matrix([\n",
       "[1, 0, 0,     c0,  0,  0,  -1],\n",
       "[0, 1, 0,     -1,  0,  1,   0],\n",
       "[0, 0, 1, 1 - c1, -1, -1, -d1]])"
      ]
     },
     "metadata": {},
     "output_type": "display_data"
    }
   ],
   "source": [
    "display(fans[15], fans[11])\n",
    "fans.remove(fans[15])"
   ]
  },
  {
   "cell_type": "code",
   "execution_count": 55,
   "id": "c55cca86-979f-4175-9229-09e14e819727",
   "metadata": {},
   "outputs": [
    {
     "data": {
      "text/plain": [
       "15"
      ]
     },
     "execution_count": 55,
     "metadata": {},
     "output_type": "execute_result"
    }
   ],
   "source": [
    "len(fans)"
   ]
  },
  {
   "cell_type": "code",
   "execution_count": 56,
   "id": "44489f6c-c159-44eb-96ba-ca7a9e126232",
   "metadata": {},
   "outputs": [
    {
     "data": {
      "text/latex": [
       "$\\displaystyle \\left[\\begin{matrix}1 & 0 & 0 & 0 & 0 & 0 & -1\\\\0 & 1 & 0 & -1 & -1 & 0 & - d_{2}\\\\0 & 0 & 1 & c_{1} & c_{1} - 1 & -1 & c_{1} d_{2} + d_{1}\\end{matrix}\\right]$"
      ],
      "text/plain": [
       "Matrix([\n",
       "[1, 0, 0,  0,      0,  0,         -1],\n",
       "[0, 1, 0, -1,     -1,  0,        -d2],\n",
       "[0, 0, 1, c1, c1 - 1, -1, c1*d2 + d1]])"
      ]
     },
     "metadata": {},
     "output_type": "display_data"
    },
    {
     "data": {
      "text/latex": [
       "$\\displaystyle \\left[\\begin{matrix}1 & 0 & 0 & 0 & 0 & 0 & -1\\\\0 & 1 & 0 & -1 & -1 & 0 & d_{1}\\\\0 & 0 & 1 & a_{2} & a_{2} - 1 & -1 & d_{2}\\end{matrix}\\right]$"
      ],
      "text/plain": [
       "Matrix([\n",
       "[1, 0, 0,  0,      0,  0, -1],\n",
       "[0, 1, 0, -1,     -1,  0, d1],\n",
       "[0, 0, 1, a2, a2 - 1, -1, d2]])"
      ]
     },
     "metadata": {},
     "output_type": "display_data"
    }
   ],
   "source": [
    "display(fans[3])\n",
    "fans[3] = fans[3].subs(c1, a2)\n",
    "fans[3][1, 6] = d1\n",
    "fans[3][2, 6] = d2\n",
    "display(fans[3])"
   ]
  },
  {
   "cell_type": "code",
   "execution_count": 57,
   "id": "840b07c7-5769-48b2-b61e-af5946e771f8",
   "metadata": {},
   "outputs": [
    {
     "data": {
      "text/latex": [
       "$\\displaystyle \\left[\\begin{matrix}1 & 0 & 0 & c_{0} & a_{0} + c_{0} & b_{0} & -1\\\\0 & 1 & 0 & -1 & -1 & 0 & 0\\\\0 & 0 & 1 & c_{1} & c_{1} - 1 & -1 & 0\\end{matrix}\\right]$"
      ],
      "text/plain": [
       "Matrix([\n",
       "[1, 0, 0, c0, a0 + c0, b0, -1],\n",
       "[0, 1, 0, -1,      -1,  0,  0],\n",
       "[0, 0, 1, c1,  c1 - 1, -1,  0]])"
      ]
     },
     "metadata": {},
     "output_type": "display_data"
    },
    {
     "data": {
      "text/latex": [
       "$\\displaystyle \\left[\\begin{matrix}1 & 0 & 0 & a_{0} & b_{0} & c_{0} & -1\\\\0 & 1 & 0 & -1 & -1 & 0 & 0\\\\0 & 0 & 1 & a_{2} & a_{2} - 1 & -1 & 0\\end{matrix}\\right]$"
      ],
      "text/plain": [
       "Matrix([\n",
       "[1, 0, 0, a0,     b0, c0, -1],\n",
       "[0, 1, 0, -1,     -1,  0,  0],\n",
       "[0, 0, 1, a2, a2 - 1, -1,  0]])"
      ]
     },
     "metadata": {},
     "output_type": "display_data"
    }
   ],
   "source": [
    "display(fans[4])\n",
    "fans[4] = fans[4].subs(c1, a2)\n",
    "fans[4][0, 3] = a0\n",
    "fans[4][0, 4] = b0\n",
    "fans[4][0, 5] = c0\n",
    "display(fans[4])"
   ]
  },
  {
   "cell_type": "code",
   "execution_count": 58,
   "id": "9acb3cff-927a-4712-b245-d975fb46a6db",
   "metadata": {},
   "outputs": [
    {
     "data": {
      "text/latex": [
       "$\\displaystyle \\left[\\begin{matrix}1 & 0 & 0 & c_{0} & c_{0} & 0 & -1\\\\0 & 1 & 0 & -1 & -1 & 0 & 0\\\\0 & 0 & 1 & c_{1} & c_{1} - 1 & -1 & d_{1}\\end{matrix}\\right]$"
      ],
      "text/plain": [
       "Matrix([\n",
       "[1, 0, 0, c0,     c0,  0, -1],\n",
       "[0, 1, 0, -1,     -1,  0,  0],\n",
       "[0, 0, 1, c1, c1 - 1, -1, d1]])"
      ]
     },
     "metadata": {},
     "output_type": "display_data"
    },
    {
     "data": {
      "text/latex": [
       "$\\displaystyle \\left[\\begin{matrix}1 & 0 & 0 & a_{0} & a_{0} & 0 & -1\\\\0 & 1 & 0 & -1 & -1 & 0 & 0\\\\0 & 0 & 1 & a_{2} & a_{2} - 1 & -1 & d_{2}\\end{matrix}\\right]$"
      ],
      "text/plain": [
       "Matrix([\n",
       "[1, 0, 0, a0,     a0,  0, -1],\n",
       "[0, 1, 0, -1,     -1,  0,  0],\n",
       "[0, 0, 1, a2, a2 - 1, -1, d2]])"
      ]
     },
     "metadata": {},
     "output_type": "display_data"
    }
   ],
   "source": [
    "display(fans[5])\n",
    "fans[5] = fans[5].subs(c1, a2)\n",
    "fans[5][0, 3] = a0\n",
    "fans[5][0, 4] = a0\n",
    "fans[5][2, 6] = d2\n",
    "display(fans[5])"
   ]
  },
  {
   "cell_type": "code",
   "execution_count": 59,
   "id": "f286e35b-926b-4ac1-98d3-a4bb41986ffc",
   "metadata": {},
   "outputs": [
    {
     "data": {
      "text/latex": [
       "$\\displaystyle \\left[\\begin{matrix}1 & 0 & 0 & 0 & 0 & 0 & -1\\\\0 & 1 & 0 & -1 & - c_{1} & 1 - c_{1} & - c_{1} d_{2} - d_{1}\\\\0 & 0 & 1 & 0 & -1 & -1 & - d_{2}\\end{matrix}\\right]$"
      ],
      "text/plain": [
       "Matrix([\n",
       "[1, 0, 0,  0,   0,      0,          -1],\n",
       "[0, 1, 0, -1, -c1, 1 - c1, -c1*d2 - d1],\n",
       "[0, 0, 1,  0,  -1,     -1,         -d2]])"
      ]
     },
     "metadata": {},
     "output_type": "display_data"
    },
    {
     "data": {
      "text/latex": [
       "$\\displaystyle \\left[\\begin{matrix}1 & 0 & 0 & 0 & 0 & 0 & -1\\\\0 & 1 & 0 & -1 & b_{1} & b_{1} + 1 & d_{1}\\\\0 & 0 & 1 & 0 & -1 & -1 & d_{2}\\end{matrix}\\right]$"
      ],
      "text/plain": [
       "Matrix([\n",
       "[1, 0, 0,  0,  0,      0, -1],\n",
       "[0, 1, 0, -1, b1, b1 + 1, d1],\n",
       "[0, 0, 1,  0, -1,     -1, d2]])"
      ]
     },
     "metadata": {},
     "output_type": "display_data"
    }
   ],
   "source": [
    "display(fans[6])\n",
    "fans[6] = fans[6].subs(c1, -b1)\n",
    "fans[6][1, 6] = d1\n",
    "fans[6][2, 6] = d2\n",
    "display(fans[6])"
   ]
  },
  {
   "cell_type": "code",
   "execution_count": 60,
   "id": "e3d69648-94ff-49f8-abaa-a8775a7b81be",
   "metadata": {},
   "outputs": [
    {
     "data": {
      "text/latex": [
       "$\\displaystyle \\left[\\begin{matrix}1 & 0 & 0 & b_{0} & b_{0} c_{1} + c_{0} & a_{0} + b_{0} c_{1} - b_{0} + c_{0} & -1\\\\0 & 1 & 0 & -1 & - c_{1} & 1 - c_{1} & 0\\\\0 & 0 & 1 & 0 & -1 & -1 & 0\\end{matrix}\\right]$"
      ],
      "text/plain": [
       "Matrix([\n",
       "[1, 0, 0, b0, b0*c1 + c0, a0 + b0*c1 - b0 + c0, -1],\n",
       "[0, 1, 0, -1,        -c1,               1 - c1,  0],\n",
       "[0, 0, 1,  0,         -1,                   -1,  0]])"
      ]
     },
     "metadata": {},
     "output_type": "display_data"
    },
    {
     "data": {
      "text/latex": [
       "$\\displaystyle \\left[\\begin{matrix}1 & 0 & 0 & a_{0} & b_{0} & c_{0} & -1\\\\0 & 1 & 0 & -1 & b_{1} & b_{1} + 1 & 0\\\\0 & 0 & 1 & 0 & -1 & -1 & 0\\end{matrix}\\right]$"
      ],
      "text/plain": [
       "Matrix([\n",
       "[1, 0, 0, a0, b0,     c0, -1],\n",
       "[0, 1, 0, -1, b1, b1 + 1,  0],\n",
       "[0, 0, 1,  0, -1,     -1,  0]])"
      ]
     },
     "metadata": {},
     "output_type": "display_data"
    }
   ],
   "source": [
    "display(fans[7])\n",
    "fans[7] = fans[7].subs(c1, -b1)\n",
    "fans[7][0, 3] = a0\n",
    "fans[7][0, 4] = b0\n",
    "fans[7][0, 5] = c0\n",
    "display(fans[7])"
   ]
  },
  {
   "cell_type": "code",
   "execution_count": 61,
   "id": "31112325-8309-40cc-953e-e0a21a57b542",
   "metadata": {},
   "outputs": [
    {
     "data": {
      "text/latex": [
       "$\\displaystyle \\left[\\begin{matrix}1 & 0 & 0 & 0 & c_{0} & c_{0} & -1\\\\0 & 1 & 0 & -1 & - c_{1} & 1 - c_{1} & - d_{1}\\\\0 & 0 & 1 & 0 & -1 & -1 & 0\\end{matrix}\\right]$"
      ],
      "text/plain": [
       "Matrix([\n",
       "[1, 0, 0,  0,  c0,     c0,  -1],\n",
       "[0, 1, 0, -1, -c1, 1 - c1, -d1],\n",
       "[0, 0, 1,  0,  -1,     -1,   0]])"
      ]
     },
     "metadata": {},
     "output_type": "display_data"
    },
    {
     "data": {
      "text/latex": [
       "$\\displaystyle \\left[\\begin{matrix}1 & 0 & 0 & 0 & b_{0} & b_{0} & -1\\\\0 & 1 & 0 & -1 & b_{1} & b_{1} + 1 & d_{1}\\\\0 & 0 & 1 & 0 & -1 & -1 & 0\\end{matrix}\\right]$"
      ],
      "text/plain": [
       "Matrix([\n",
       "[1, 0, 0,  0, b0,     b0, -1],\n",
       "[0, 1, 0, -1, b1, b1 + 1, d1],\n",
       "[0, 0, 1,  0, -1,     -1,  0]])"
      ]
     },
     "metadata": {},
     "output_type": "display_data"
    }
   ],
   "source": [
    "display(fans[8])\n",
    "fans[8] = fans[8].subs(c1, -b1)\n",
    "fans[8][1, 6] = d1\n",
    "fans[8][0, 4] = b0\n",
    "fans[8][0, 5] = b0\n",
    "display(fans[8])"
   ]
  },
  {
   "cell_type": "code",
   "execution_count": 62,
   "id": "f7ee6551-d1d0-495b-8272-89ace2afac02",
   "metadata": {},
   "outputs": [
    {
     "data": {
      "text/latex": [
       "$\\displaystyle \\left[\\begin{matrix}1 & 0 & 0 & 0 & 0 & 0 & -1\\\\0 & 1 & 0 & -1 & 0 & 1 & d_{2}\\\\0 & 0 & 1 & 1 - c_{1} & -1 & -1 & - d_{1} - d_{2}\\end{matrix}\\right]$"
      ],
      "text/plain": [
       "Matrix([\n",
       "[1, 0, 0,      0,  0,  0,       -1],\n",
       "[0, 1, 0,     -1,  0,  1,       d2],\n",
       "[0, 0, 1, 1 - c1, -1, -1, -d1 - d2]])"
      ]
     },
     "metadata": {},
     "output_type": "display_data"
    },
    {
     "data": {
      "text/latex": [
       "$\\displaystyle \\left[\\begin{matrix}1 & 0 & 0 & 0 & 0 & 0 & -1\\\\0 & 1 & 0 & -1 & 0 & 1 & d_{1}\\\\0 & 0 & 1 & a_{2} & -1 & -1 & d_{2}\\end{matrix}\\right]$"
      ],
      "text/plain": [
       "Matrix([\n",
       "[1, 0, 0,  0,  0,  0, -1],\n",
       "[0, 1, 0, -1,  0,  1, d1],\n",
       "[0, 0, 1, a2, -1, -1, d2]])"
      ]
     },
     "metadata": {},
     "output_type": "display_data"
    }
   ],
   "source": [
    "display(fans[9])\n",
    "fans[9][2, 3] = a2\n",
    "fans[9][1, 6] = d1\n",
    "fans[9][2, 6] = d2\n",
    "display(fans[9])"
   ]
  },
  {
   "cell_type": "code",
   "execution_count": 63,
   "id": "0e36178a-8620-42aa-a8cc-b8cbca016087",
   "metadata": {},
   "outputs": [
    {
     "data": {
      "text/latex": [
       "$\\displaystyle \\left[\\begin{matrix}1 & 0 & 0 & a_{0} + b_{0} c_{1} - b_{0} + c_{0} & b_{0} & - a_{0} + b_{0} & -1\\\\0 & 1 & 0 & -1 & 0 & 1 & 0\\\\0 & 0 & 1 & 1 - c_{1} & -1 & -1 & 0\\end{matrix}\\right]$"
      ],
      "text/plain": [
       "Matrix([\n",
       "[1, 0, 0, a0 + b0*c1 - b0 + c0, b0, -a0 + b0, -1],\n",
       "[0, 1, 0,                   -1,  0,        1,  0],\n",
       "[0, 0, 1,               1 - c1, -1,       -1,  0]])"
      ]
     },
     "metadata": {},
     "output_type": "display_data"
    },
    {
     "data": {
      "text/latex": [
       "$\\displaystyle \\left[\\begin{matrix}1 & 0 & 0 & a_{0} & b_{0} & c_{0} & -1\\\\0 & 1 & 0 & -1 & 0 & 1 & 0\\\\0 & 0 & 1 & a_{2} & -1 & -1 & 0\\end{matrix}\\right]$"
      ],
      "text/plain": [
       "Matrix([\n",
       "[1, 0, 0, a0, b0, c0, -1],\n",
       "[0, 1, 0, -1,  0,  1,  0],\n",
       "[0, 0, 1, a2, -1, -1,  0]])"
      ]
     },
     "metadata": {},
     "output_type": "display_data"
    }
   ],
   "source": [
    "display(fans[10])\n",
    "fans[10][2, 3] = a2\n",
    "fans[10][0, 3] = a0\n",
    "fans[10][0, 4] = b0\n",
    "fans[10][0, 5] = c0\n",
    "display(fans[10])"
   ]
  },
  {
   "cell_type": "code",
   "execution_count": 64,
   "id": "f43ee356-678b-453b-9712-d956e20d93ca",
   "metadata": {},
   "outputs": [
    {
     "data": {
      "text/latex": [
       "$\\displaystyle \\left[\\begin{matrix}1 & 0 & 0 & c_{0} & 0 & 0 & -1\\\\0 & 1 & 0 & -1 & 0 & 1 & 0\\\\0 & 0 & 1 & 1 - c_{1} & -1 & -1 & - d_{1}\\end{matrix}\\right]$"
      ],
      "text/plain": [
       "Matrix([\n",
       "[1, 0, 0,     c0,  0,  0,  -1],\n",
       "[0, 1, 0,     -1,  0,  1,   0],\n",
       "[0, 0, 1, 1 - c1, -1, -1, -d1]])"
      ]
     },
     "metadata": {},
     "output_type": "display_data"
    },
    {
     "data": {
      "text/latex": [
       "$\\displaystyle \\left[\\begin{matrix}1 & 0 & 0 & a_{0} & 0 & 0 & -1\\\\0 & 1 & 0 & -1 & 0 & 1 & 0\\\\0 & 0 & 1 & a_{2} & -1 & -1 & d_{2}\\end{matrix}\\right]$"
      ],
      "text/plain": [
       "Matrix([\n",
       "[1, 0, 0, a0,  0,  0, -1],\n",
       "[0, 1, 0, -1,  0,  1,  0],\n",
       "[0, 0, 1, a2, -1, -1, d2]])"
      ]
     },
     "metadata": {},
     "output_type": "display_data"
    }
   ],
   "source": [
    "display(fans[11])\n",
    "fans[11][2, 3] = a2\n",
    "fans[11][0, 3] = a0\n",
    "fans[11][2, 6] = d2\n",
    "display(fans[11])"
   ]
  },
  {
   "cell_type": "code",
   "execution_count": 65,
   "id": "1c13c050-65bf-4032-80ea-b8d89d5a3502",
   "metadata": {},
   "outputs": [
    {
     "data": {
      "text/latex": [
       "$\\displaystyle \\left[\\begin{matrix}1 & 0 & 0 & 0 & 0 & 0 & -1\\\\0 & 1 & 0 & -1 & c_{1} - 1 & 1 & d_{1} + d_{2}\\\\0 & 0 & 1 & 1 & - c_{1} & -1 & - d_{1}\\end{matrix}\\right]$"
      ],
      "text/plain": [
       "Matrix([\n",
       "[1, 0, 0,  0,      0,  0,      -1],\n",
       "[0, 1, 0, -1, c1 - 1,  1, d1 + d2],\n",
       "[0, 0, 1,  1,    -c1, -1,     -d1]])"
      ]
     },
     "metadata": {},
     "output_type": "display_data"
    },
    {
     "data": {
      "text/latex": [
       "$\\displaystyle \\left[\\begin{matrix}1 & 0 & 0 & 0 & 0 & 0 & -1\\\\0 & 1 & 0 & -1 & b_{1} & 1 & d_{1}\\\\0 & 0 & 1 & 1 & - b_{1} - 1 & -1 & d_{2}\\end{matrix}\\right]$"
      ],
      "text/plain": [
       "Matrix([\n",
       "[1, 0, 0,  0,       0,  0, -1],\n",
       "[0, 1, 0, -1,      b1,  1, d1],\n",
       "[0, 0, 1,  1, -b1 - 1, -1, d2]])"
      ]
     },
     "metadata": {},
     "output_type": "display_data"
    }
   ],
   "source": [
    "display(fans[12])\n",
    "fans[12][1, 4] = b1\n",
    "fans[12][2, 4] = -b1-1\n",
    "fans[12][1, 6] = d1\n",
    "fans[12][2, 6] = d2\n",
    "display(fans[12])"
   ]
  },
  {
   "cell_type": "code",
   "execution_count": 66,
   "id": "2d45308e-d3d6-4c11-a6ab-348fb7024f78",
   "metadata": {},
   "outputs": [
    {
     "data": {
      "text/latex": [
       "$\\displaystyle \\left[\\begin{matrix}1 & 0 & 0 & - a_{0} + b_{0} & a_{0} c_{1} + c_{0} & a_{0} & -1\\\\0 & 1 & 0 & -1 & c_{1} - 1 & 1 & 0\\\\0 & 0 & 1 & 1 & - c_{1} & -1 & 0\\end{matrix}\\right]$"
      ],
      "text/plain": [
       "Matrix([\n",
       "[1, 0, 0, -a0 + b0, a0*c1 + c0, a0, -1],\n",
       "[0, 1, 0,       -1,     c1 - 1,  1,  0],\n",
       "[0, 0, 1,        1,        -c1, -1,  0]])"
      ]
     },
     "metadata": {},
     "output_type": "display_data"
    },
    {
     "data": {
      "text/latex": [
       "$\\displaystyle \\left[\\begin{matrix}1 & 0 & 0 & a_{0} & b_{0} & c_{0} & -1\\\\0 & 1 & 0 & -1 & b_{1} & 1 & 0\\\\0 & 0 & 1 & 1 & - b_{1} - 1 & -1 & 0\\end{matrix}\\right]$"
      ],
      "text/plain": [
       "Matrix([\n",
       "[1, 0, 0, a0,      b0, c0, -1],\n",
       "[0, 1, 0, -1,      b1,  1,  0],\n",
       "[0, 0, 1,  1, -b1 - 1, -1,  0]])"
      ]
     },
     "metadata": {},
     "output_type": "display_data"
    }
   ],
   "source": [
    "display(fans[13])\n",
    "fans[13][1, 4] = b1\n",
    "fans[13][2, 4] = -b1-1\n",
    "fans[13][0, 3] = a0\n",
    "fans[13][0, 4] = b0\n",
    "fans[13][0, 5] = c0\n",
    "display(fans[13])"
   ]
  },
  {
   "cell_type": "code",
   "execution_count": 67,
   "id": "6c006289-372f-44b6-bbb6-87d0d40f00a0",
   "metadata": {},
   "outputs": [
    {
     "data": {
      "text/latex": [
       "$\\displaystyle \\left[\\begin{matrix}1 & 0 & 0 & 0 & c_{0} & 0 & -1\\\\0 & 1 & 0 & -1 & c_{1} - 1 & 1 & d_{1}\\\\0 & 0 & 1 & 1 & - c_{1} & -1 & - d_{1}\\end{matrix}\\right]$"
      ],
      "text/plain": [
       "Matrix([\n",
       "[1, 0, 0,  0,     c0,  0,  -1],\n",
       "[0, 1, 0, -1, c1 - 1,  1,  d1],\n",
       "[0, 0, 1,  1,    -c1, -1, -d1]])"
      ]
     },
     "metadata": {},
     "output_type": "display_data"
    },
    {
     "data": {
      "text/latex": [
       "$\\displaystyle \\left[\\begin{matrix}1 & 0 & 0 & 0 & b_{0} & 0 & -1\\\\0 & 1 & 0 & -1 & b_{1} & 1 & d_{1}\\\\0 & 0 & 1 & 1 & - b_{1} - 1 & -1 & - d_{1}\\end{matrix}\\right]$"
      ],
      "text/plain": [
       "Matrix([\n",
       "[1, 0, 0,  0,      b0,  0,  -1],\n",
       "[0, 1, 0, -1,      b1,  1,  d1],\n",
       "[0, 0, 1,  1, -b1 - 1, -1, -d1]])"
      ]
     },
     "metadata": {},
     "output_type": "display_data"
    }
   ],
   "source": [
    "display(fans[14])\n",
    "fans[14][0, 4] = b0\n",
    "fans[14][1, 4] = b1\n",
    "fans[14][2, 4] = -b1-1\n",
    "display(fans[14])"
   ]
  },
  {
   "cell_type": "markdown",
   "id": "a2177e67-b9c6-480c-aaab-7b56530c04e0",
   "metadata": {
    "jp-MarkdownHeadingCollapsed": true
   },
   "source": [
    "## list"
   ]
  },
  {
   "cell_type": "code",
   "execution_count": 68,
   "id": "004141cb-1fae-456a-b1b3-ab5a17fc4f86",
   "metadata": {},
   "outputs": [
    {
     "data": {
      "text/latex": [
       "$\\displaystyle \\left[\\begin{matrix}1 & 0 & 0 & 0 & 0 & 0 & -1\\\\0 & 1 & 0 & -1 & -1 & c_{1} & d_{1}\\\\0 & 0 & 1 & 1 & 0 & -1 & d_{2}\\end{matrix}\\right]$"
      ],
      "text/plain": [
       "Matrix([\n",
       "[1, 0, 0,  0,  0,  0, -1],\n",
       "[0, 1, 0, -1, -1, c1, d1],\n",
       "[0, 0, 1,  1,  0, -1, d2]])"
      ]
     },
     "metadata": {},
     "output_type": "display_data"
    },
    {
     "data": {
      "text/latex": [
       "$\\displaystyle \\left[\\begin{matrix}1 & 0 & 0 & a_{0} & b_{0} & c_{0} & -1\\\\0 & 1 & 0 & -1 & -1 & c_{1} & 0\\\\0 & 0 & 1 & 1 & 0 & -1 & 0\\end{matrix}\\right]$"
      ],
      "text/plain": [
       "Matrix([\n",
       "[1, 0, 0, a0, b0, c0, -1],\n",
       "[0, 1, 0, -1, -1, c1,  0],\n",
       "[0, 0, 1,  1,  0, -1,  0]])"
      ]
     },
     "metadata": {},
     "output_type": "display_data"
    },
    {
     "data": {
      "text/latex": [
       "$\\displaystyle \\left[\\begin{matrix}1 & 0 & 0 & 0 & 0 & c_{0} & -1\\\\0 & 1 & 0 & -1 & -1 & c_{1} & d_{1}\\\\0 & 0 & 1 & 1 & 0 & -1 & 0\\end{matrix}\\right]$"
      ],
      "text/plain": [
       "Matrix([\n",
       "[1, 0, 0,  0,  0, c0, -1],\n",
       "[0, 1, 0, -1, -1, c1, d1],\n",
       "[0, 0, 1,  1,  0, -1,  0]])"
      ]
     },
     "metadata": {},
     "output_type": "display_data"
    },
    {
     "data": {
      "text/latex": [
       "$\\displaystyle \\left[\\begin{matrix}1 & 0 & 0 & 0 & 0 & 0 & -1\\\\0 & 1 & 0 & -1 & -1 & 0 & d_{1}\\\\0 & 0 & 1 & a_{2} & a_{2} - 1 & -1 & d_{2}\\end{matrix}\\right]$"
      ],
      "text/plain": [
       "Matrix([\n",
       "[1, 0, 0,  0,      0,  0, -1],\n",
       "[0, 1, 0, -1,     -1,  0, d1],\n",
       "[0, 0, 1, a2, a2 - 1, -1, d2]])"
      ]
     },
     "metadata": {},
     "output_type": "display_data"
    },
    {
     "data": {
      "text/latex": [
       "$\\displaystyle \\left[\\begin{matrix}1 & 0 & 0 & a_{0} & b_{0} & c_{0} & -1\\\\0 & 1 & 0 & -1 & -1 & 0 & 0\\\\0 & 0 & 1 & a_{2} & a_{2} - 1 & -1 & 0\\end{matrix}\\right]$"
      ],
      "text/plain": [
       "Matrix([\n",
       "[1, 0, 0, a0,     b0, c0, -1],\n",
       "[0, 1, 0, -1,     -1,  0,  0],\n",
       "[0, 0, 1, a2, a2 - 1, -1,  0]])"
      ]
     },
     "metadata": {},
     "output_type": "display_data"
    },
    {
     "data": {
      "text/latex": [
       "$\\displaystyle \\left[\\begin{matrix}1 & 0 & 0 & a_{0} & a_{0} & 0 & -1\\\\0 & 1 & 0 & -1 & -1 & 0 & 0\\\\0 & 0 & 1 & a_{2} & a_{2} - 1 & -1 & d_{2}\\end{matrix}\\right]$"
      ],
      "text/plain": [
       "Matrix([\n",
       "[1, 0, 0, a0,     a0,  0, -1],\n",
       "[0, 1, 0, -1,     -1,  0,  0],\n",
       "[0, 0, 1, a2, a2 - 1, -1, d2]])"
      ]
     },
     "metadata": {},
     "output_type": "display_data"
    },
    {
     "data": {
      "text/latex": [
       "$\\displaystyle \\left[\\begin{matrix}1 & 0 & 0 & 0 & 0 & 0 & -1\\\\0 & 1 & 0 & -1 & b_{1} & b_{1} + 1 & d_{1}\\\\0 & 0 & 1 & 0 & -1 & -1 & d_{2}\\end{matrix}\\right]$"
      ],
      "text/plain": [
       "Matrix([\n",
       "[1, 0, 0,  0,  0,      0, -1],\n",
       "[0, 1, 0, -1, b1, b1 + 1, d1],\n",
       "[0, 0, 1,  0, -1,     -1, d2]])"
      ]
     },
     "metadata": {},
     "output_type": "display_data"
    },
    {
     "data": {
      "text/latex": [
       "$\\displaystyle \\left[\\begin{matrix}1 & 0 & 0 & a_{0} & b_{0} & c_{0} & -1\\\\0 & 1 & 0 & -1 & b_{1} & b_{1} + 1 & 0\\\\0 & 0 & 1 & 0 & -1 & -1 & 0\\end{matrix}\\right]$"
      ],
      "text/plain": [
       "Matrix([\n",
       "[1, 0, 0, a0, b0,     c0, -1],\n",
       "[0, 1, 0, -1, b1, b1 + 1,  0],\n",
       "[0, 0, 1,  0, -1,     -1,  0]])"
      ]
     },
     "metadata": {},
     "output_type": "display_data"
    },
    {
     "data": {
      "text/latex": [
       "$\\displaystyle \\left[\\begin{matrix}1 & 0 & 0 & 0 & b_{0} & b_{0} & -1\\\\0 & 1 & 0 & -1 & b_{1} & b_{1} + 1 & d_{1}\\\\0 & 0 & 1 & 0 & -1 & -1 & 0\\end{matrix}\\right]$"
      ],
      "text/plain": [
       "Matrix([\n",
       "[1, 0, 0,  0, b0,     b0, -1],\n",
       "[0, 1, 0, -1, b1, b1 + 1, d1],\n",
       "[0, 0, 1,  0, -1,     -1,  0]])"
      ]
     },
     "metadata": {},
     "output_type": "display_data"
    },
    {
     "data": {
      "text/latex": [
       "$\\displaystyle \\left[\\begin{matrix}1 & 0 & 0 & 0 & 0 & 0 & -1\\\\0 & 1 & 0 & -1 & 0 & 1 & d_{1}\\\\0 & 0 & 1 & a_{2} & -1 & -1 & d_{2}\\end{matrix}\\right]$"
      ],
      "text/plain": [
       "Matrix([\n",
       "[1, 0, 0,  0,  0,  0, -1],\n",
       "[0, 1, 0, -1,  0,  1, d1],\n",
       "[0, 0, 1, a2, -1, -1, d2]])"
      ]
     },
     "metadata": {},
     "output_type": "display_data"
    },
    {
     "data": {
      "text/latex": [
       "$\\displaystyle \\left[\\begin{matrix}1 & 0 & 0 & a_{0} & b_{0} & c_{0} & -1\\\\0 & 1 & 0 & -1 & 0 & 1 & 0\\\\0 & 0 & 1 & a_{2} & -1 & -1 & 0\\end{matrix}\\right]$"
      ],
      "text/plain": [
       "Matrix([\n",
       "[1, 0, 0, a0, b0, c0, -1],\n",
       "[0, 1, 0, -1,  0,  1,  0],\n",
       "[0, 0, 1, a2, -1, -1,  0]])"
      ]
     },
     "metadata": {},
     "output_type": "display_data"
    },
    {
     "data": {
      "text/latex": [
       "$\\displaystyle \\left[\\begin{matrix}1 & 0 & 0 & a_{0} & 0 & 0 & -1\\\\0 & 1 & 0 & -1 & 0 & 1 & 0\\\\0 & 0 & 1 & a_{2} & -1 & -1 & d_{2}\\end{matrix}\\right]$"
      ],
      "text/plain": [
       "Matrix([\n",
       "[1, 0, 0, a0,  0,  0, -1],\n",
       "[0, 1, 0, -1,  0,  1,  0],\n",
       "[0, 0, 1, a2, -1, -1, d2]])"
      ]
     },
     "metadata": {},
     "output_type": "display_data"
    },
    {
     "data": {
      "text/latex": [
       "$\\displaystyle \\left[\\begin{matrix}1 & 0 & 0 & 0 & 0 & 0 & -1\\\\0 & 1 & 0 & -1 & b_{1} & 1 & d_{1}\\\\0 & 0 & 1 & 1 & - b_{1} - 1 & -1 & d_{2}\\end{matrix}\\right]$"
      ],
      "text/plain": [
       "Matrix([\n",
       "[1, 0, 0,  0,       0,  0, -1],\n",
       "[0, 1, 0, -1,      b1,  1, d1],\n",
       "[0, 0, 1,  1, -b1 - 1, -1, d2]])"
      ]
     },
     "metadata": {},
     "output_type": "display_data"
    },
    {
     "data": {
      "text/latex": [
       "$\\displaystyle \\left[\\begin{matrix}1 & 0 & 0 & a_{0} & b_{0} & c_{0} & -1\\\\0 & 1 & 0 & -1 & b_{1} & 1 & 0\\\\0 & 0 & 1 & 1 & - b_{1} - 1 & -1 & 0\\end{matrix}\\right]$"
      ],
      "text/plain": [
       "Matrix([\n",
       "[1, 0, 0, a0,      b0, c0, -1],\n",
       "[0, 1, 0, -1,      b1,  1,  0],\n",
       "[0, 0, 1,  1, -b1 - 1, -1,  0]])"
      ]
     },
     "metadata": {},
     "output_type": "display_data"
    },
    {
     "data": {
      "text/latex": [
       "$\\displaystyle \\left[\\begin{matrix}1 & 0 & 0 & 0 & b_{0} & 0 & -1\\\\0 & 1 & 0 & -1 & b_{1} & 1 & d_{1}\\\\0 & 0 & 1 & 1 & - b_{1} - 1 & -1 & - d_{1}\\end{matrix}\\right]$"
      ],
      "text/plain": [
       "Matrix([\n",
       "[1, 0, 0,  0,      b0,  0,  -1],\n",
       "[0, 1, 0, -1,      b1,  1,  d1],\n",
       "[0, 0, 1,  1, -b1 - 1, -1, -d1]])"
      ]
     },
     "metadata": {},
     "output_type": "display_data"
    }
   ],
   "source": [
    "for f in fans:\n",
    "    display(f)"
   ]
  },
  {
   "cell_type": "markdown",
   "id": "a0688633-f6a7-41c8-9706-2c001e568bb3",
   "metadata": {
    "jp-MarkdownHeadingCollapsed": true
   },
   "source": [
    "# Connections between types"
   ]
  },
  {
   "cell_type": "code",
   "execution_count": 69,
   "id": "72caa17a-05d5-4006-9026-a502d0431703",
   "metadata": {},
   "outputs": [
    {
     "name": "stdout",
     "output_type": "stream",
     "text": [
      "Two fans are same if and only if a0, b0, c0, d1, d2 = 0 and their projections with respect to 1 are same\n"
     ]
    }
   ],
   "source": [
    "print('Two fans are same if and only if a0, b0, c0, d1, d2 = 0 and their projections with respect to 1 are same')"
   ]
  },
  {
   "cell_type": "markdown",
   "id": "f6602910-3b6e-450b-bde1-e3b71a3b62f6",
   "metadata": {
    "jp-MarkdownHeadingCollapsed": true
   },
   "source": [
    "# There are 3 types of fans up to D-J equivalence and symmetry"
   ]
  },
  {
   "cell_type": "code",
   "execution_count": 70,
   "id": "bf1bb0de-21cb-4468-9320-6c9fa4d9b93c",
   "metadata": {
    "scrolled": true
   },
   "outputs": [
    {
     "data": {
      "text/plain": [
       "[[1, 2, 3, 4, 5, 6, 7],\n",
       " [1, 2, 6, 5, 4, 3, 7],\n",
       " [1, 3, 2, 6, 5, 4, 7],\n",
       " [1, 3, 4, 5, 6, 2, 7],\n",
       " [1, 4, 3, 2, 6, 5, 7],\n",
       " [1, 4, 5, 6, 2, 3, 7],\n",
       " [1, 5, 4, 3, 2, 6, 7],\n",
       " [1, 5, 6, 2, 3, 4, 7],\n",
       " [1, 6, 2, 3, 4, 5, 7],\n",
       " [1, 6, 5, 4, 3, 2, 7],\n",
       " [7, 2, 3, 4, 5, 6, 1],\n",
       " [7, 2, 6, 5, 4, 3, 1],\n",
       " [7, 3, 2, 6, 5, 4, 1],\n",
       " [7, 3, 4, 5, 6, 2, 1],\n",
       " [7, 4, 3, 2, 6, 5, 1],\n",
       " [7, 4, 5, 6, 2, 3, 1],\n",
       " [7, 5, 4, 3, 2, 6, 1],\n",
       " [7, 5, 6, 2, 3, 4, 1],\n",
       " [7, 6, 2, 3, 4, 5, 1],\n",
       " [7, 6, 5, 4, 3, 2, 1]]"
      ]
     },
     "execution_count": 70,
     "metadata": {},
     "output_type": "execute_result"
    }
   ],
   "source": [
    "K.symmetries"
   ]
  },
  {
   "cell_type": "code",
   "execution_count": 71,
   "id": "1c67796f-5e1e-49f6-8695-2dcf28321631",
   "metadata": {},
   "outputs": [],
   "source": [
    "symm_index = [(np.array(i)-1).tolist() for i in K.symmetries]"
   ]
  },
  {
   "cell_type": "markdown",
   "id": "a932c6b1-7dec-4b48-91c1-be4d91bf3e77",
   "metadata": {
    "jp-MarkdownHeadingCollapsed": true
   },
   "source": [
    "## types 0, 3, 6, 9, 12"
   ]
  },
  {
   "cell_type": "code",
   "execution_count": 72,
   "id": "dddc30f0-bf55-4b10-a61b-479e8b789725",
   "metadata": {
    "scrolled": true
   },
   "outputs": [
    {
     "name": "stdout",
     "output_type": "stream",
     "text": [
      "Types 3, 6, 9, 12 (a0, b0, c0 = 0) are all obtained by symmetries from type 0.\n",
      "Every fan obtained by symmetries from type 0 is of type with a0, b0, c0 = 0.\n"
     ]
    },
    {
     "data": {
      "text/latex": [
       "$\\displaystyle \\left[\\begin{matrix}1 & 0 & 0 & 0 & 0 & 0 & -1\\\\0 & 1 & 0 & -1 & -1 & c_{1} & d_{1}\\\\0 & 0 & 1 & 1 & 0 & -1 & d_{2}\\end{matrix}\\right]$"
      ],
      "text/plain": [
       "Matrix([\n",
       "[1, 0, 0,  0,  0,  0, -1],\n",
       "[0, 1, 0, -1, -1, c1, d1],\n",
       "[0, 0, 1,  1,  0, -1, d2]])"
      ]
     },
     "metadata": {},
     "output_type": "display_data"
    },
    {
     "data": {
      "text/latex": [
       "$\\displaystyle \\left[\\begin{matrix}1 & 0 & 0 & 0 & 0 & 0 & -1\\\\0 & 1 & 0 & -1 & c_{1} - 1 & c_{1} & c_{1} d_{2} + d_{1}\\\\0 & 0 & 1 & 0 & -1 & -1 & - d_{2}\\end{matrix}\\right]$"
      ],
      "text/plain": [
       "Matrix([\n",
       "[1, 0, 0,  0,      0,  0,         -1],\n",
       "[0, 1, 0, -1, c1 - 1, c1, c1*d2 + d1],\n",
       "[0, 0, 1,  0,     -1, -1,        -d2]])"
      ]
     },
     "metadata": {},
     "output_type": "display_data"
    },
    {
     "data": {
      "text/latex": [
       "$\\displaystyle \\left[\\begin{matrix}1 & 0 & 0 & 0 & 0 & 0 & -1\\\\0 & 1 & 0 & -1 & 0 & 1 & d_{2}\\\\0 & 0 & 1 & c_{1} & -1 & -1 & d_{1}\\end{matrix}\\right]$"
      ],
      "text/plain": [
       "Matrix([\n",
       "[1, 0, 0,  0,  0,  0, -1],\n",
       "[0, 1, 0, -1,  0,  1, d2],\n",
       "[0, 0, 1, c1, -1, -1, d1]])"
      ]
     },
     "metadata": {},
     "output_type": "display_data"
    },
    {
     "data": {
      "text/latex": [
       "$\\displaystyle \\left[\\begin{matrix}1 & 0 & 0 & 0 & 0 & 0 & -1\\\\0 & 1 & 0 & -1 & c_{1} - 1 & 1 & d_{1} + d_{2}\\\\0 & 0 & 1 & 1 & - c_{1} & -1 & - d_{1}\\end{matrix}\\right]$"
      ],
      "text/plain": [
       "Matrix([\n",
       "[1, 0, 0,  0,      0,  0,      -1],\n",
       "[0, 1, 0, -1, c1 - 1,  1, d1 + d2],\n",
       "[0, 0, 1,  1,    -c1, -1,     -d1]])"
      ]
     },
     "metadata": {},
     "output_type": "display_data"
    },
    {
     "data": {
      "text/latex": [
       "$\\displaystyle \\left[\\begin{matrix}1 & 0 & 0 & 0 & 0 & 0 & -1\\\\0 & 1 & 0 & -1 & - c_{1} & 1 & - d_{1}\\\\0 & 0 & 1 & 1 & c_{1} - 1 & -1 & d_{1} + d_{2}\\end{matrix}\\right]$"
      ],
      "text/plain": [
       "Matrix([\n",
       "[1, 0, 0,  0,      0,  0,      -1],\n",
       "[0, 1, 0, -1,    -c1,  1,     -d1],\n",
       "[0, 0, 1,  1, c1 - 1, -1, d1 + d2]])"
      ]
     },
     "metadata": {},
     "output_type": "display_data"
    },
    {
     "data": {
      "text/latex": [
       "$\\displaystyle \\left[\\begin{matrix}1 & 0 & 0 & 0 & 0 & 0 & -1\\\\0 & 1 & 0 & -1 & 0 & 1 & d_{2}\\\\0 & 0 & 1 & 1 - c_{1} & -1 & -1 & - d_{1} - d_{2}\\end{matrix}\\right]$"
      ],
      "text/plain": [
       "Matrix([\n",
       "[1, 0, 0,      0,  0,  0,       -1],\n",
       "[0, 1, 0,     -1,  0,  1,       d2],\n",
       "[0, 0, 1, 1 - c1, -1, -1, -d1 - d2]])"
      ]
     },
     "metadata": {},
     "output_type": "display_data"
    },
    {
     "data": {
      "text/latex": [
       "$\\displaystyle \\left[\\begin{matrix}1 & 0 & 0 & 0 & 0 & 0 & -1\\\\0 & 1 & 0 & -1 & -1 & 1 - c_{1} & - d_{1} - d_{2}\\\\0 & 0 & 1 & 1 & 0 & -1 & d_{2}\\end{matrix}\\right]$"
      ],
      "text/plain": [
       "Matrix([\n",
       "[1, 0, 0,  0,  0,      0,       -1],\n",
       "[0, 1, 0, -1, -1, 1 - c1, -d1 - d2],\n",
       "[0, 0, 1,  1,  0,     -1,       d2]])"
      ]
     },
     "metadata": {},
     "output_type": "display_data"
    },
    {
     "data": {
      "text/latex": [
       "$\\displaystyle \\left[\\begin{matrix}1 & 0 & 0 & 0 & 0 & 0 & -1\\\\0 & 1 & 0 & -1 & - c_{1} & 1 - c_{1} & - c_{1} d_{2} - d_{1}\\\\0 & 0 & 1 & 0 & -1 & -1 & - d_{2}\\end{matrix}\\right]$"
      ],
      "text/plain": [
       "Matrix([\n",
       "[1, 0, 0,  0,   0,      0,          -1],\n",
       "[0, 1, 0, -1, -c1, 1 - c1, -c1*d2 - d1],\n",
       "[0, 0, 1,  0,  -1,     -1,         -d2]])"
      ]
     },
     "metadata": {},
     "output_type": "display_data"
    },
    {
     "data": {
      "text/latex": [
       "$\\displaystyle \\left[\\begin{matrix}1 & 0 & 0 & 0 & 0 & 0 & -1\\\\0 & 1 & 0 & -1 & -1 & 0 & - d_{2}\\\\0 & 0 & 1 & c_{1} & c_{1} - 1 & -1 & c_{1} d_{2} + d_{1}\\end{matrix}\\right]$"
      ],
      "text/plain": [
       "Matrix([\n",
       "[1, 0, 0,  0,      0,  0,         -1],\n",
       "[0, 1, 0, -1,     -1,  0,        -d2],\n",
       "[0, 0, 1, c1, c1 - 1, -1, c1*d2 + d1]])"
      ]
     },
     "metadata": {},
     "output_type": "display_data"
    },
    {
     "data": {
      "text/latex": [
       "$\\displaystyle \\left[\\begin{matrix}1 & 0 & 0 & 0 & 0 & 0 & -1\\\\0 & 1 & 0 & -1 & -1 & 0 & - d_{2}\\\\0 & 0 & 1 & 1 - c_{1} & - c_{1} & -1 & - c_{1} d_{2} - d_{1}\\end{matrix}\\right]$"
      ],
      "text/plain": [
       "Matrix([\n",
       "[1, 0, 0,      0,   0,  0,          -1],\n",
       "[0, 1, 0,     -1,  -1,  0,         -d2],\n",
       "[0, 0, 1, 1 - c1, -c1, -1, -c1*d2 - d1]])"
      ]
     },
     "metadata": {},
     "output_type": "display_data"
    },
    {
     "data": {
      "text/latex": [
       "$\\displaystyle \\left[\\begin{matrix}1 & 0 & 0 & 0 & 0 & 0 & -1\\\\0 & 1 & 0 & -1 & -1 & c_{1} & d_{1}\\\\0 & 0 & 1 & 1 & 0 & -1 & d_{2}\\end{matrix}\\right]$"
      ],
      "text/plain": [
       "Matrix([\n",
       "[1, 0, 0,  0,  0,  0, -1],\n",
       "[0, 1, 0, -1, -1, c1, d1],\n",
       "[0, 0, 1,  1,  0, -1, d2]])"
      ]
     },
     "metadata": {},
     "output_type": "display_data"
    },
    {
     "data": {
      "text/latex": [
       "$\\displaystyle \\left[\\begin{matrix}1 & 0 & 0 & 0 & 0 & 0 & -1\\\\0 & 1 & 0 & -1 & c_{1} - 1 & c_{1} & c_{1} d_{2} + d_{1}\\\\0 & 0 & 1 & 0 & -1 & -1 & - d_{2}\\end{matrix}\\right]$"
      ],
      "text/plain": [
       "Matrix([\n",
       "[1, 0, 0,  0,      0,  0,         -1],\n",
       "[0, 1, 0, -1, c1 - 1, c1, c1*d2 + d1],\n",
       "[0, 0, 1,  0,     -1, -1,        -d2]])"
      ]
     },
     "metadata": {},
     "output_type": "display_data"
    },
    {
     "data": {
      "text/latex": [
       "$\\displaystyle \\left[\\begin{matrix}1 & 0 & 0 & 0 & 0 & 0 & -1\\\\0 & 1 & 0 & -1 & 0 & 1 & d_{2}\\\\0 & 0 & 1 & c_{1} & -1 & -1 & d_{1}\\end{matrix}\\right]$"
      ],
      "text/plain": [
       "Matrix([\n",
       "[1, 0, 0,  0,  0,  0, -1],\n",
       "[0, 1, 0, -1,  0,  1, d2],\n",
       "[0, 0, 1, c1, -1, -1, d1]])"
      ]
     },
     "metadata": {},
     "output_type": "display_data"
    },
    {
     "data": {
      "text/latex": [
       "$\\displaystyle \\left[\\begin{matrix}1 & 0 & 0 & 0 & 0 & 0 & -1\\\\0 & 1 & 0 & -1 & c_{1} - 1 & 1 & d_{1} + d_{2}\\\\0 & 0 & 1 & 1 & - c_{1} & -1 & - d_{1}\\end{matrix}\\right]$"
      ],
      "text/plain": [
       "Matrix([\n",
       "[1, 0, 0,  0,      0,  0,      -1],\n",
       "[0, 1, 0, -1, c1 - 1,  1, d1 + d2],\n",
       "[0, 0, 1,  1,    -c1, -1,     -d1]])"
      ]
     },
     "metadata": {},
     "output_type": "display_data"
    },
    {
     "data": {
      "text/latex": [
       "$\\displaystyle \\left[\\begin{matrix}1 & 0 & 0 & 0 & 0 & 0 & -1\\\\0 & 1 & 0 & -1 & - c_{1} & 1 & - d_{1}\\\\0 & 0 & 1 & 1 & c_{1} - 1 & -1 & d_{1} + d_{2}\\end{matrix}\\right]$"
      ],
      "text/plain": [
       "Matrix([\n",
       "[1, 0, 0,  0,      0,  0,      -1],\n",
       "[0, 1, 0, -1,    -c1,  1,     -d1],\n",
       "[0, 0, 1,  1, c1 - 1, -1, d1 + d2]])"
      ]
     },
     "metadata": {},
     "output_type": "display_data"
    },
    {
     "data": {
      "text/latex": [
       "$\\displaystyle \\left[\\begin{matrix}1 & 0 & 0 & 0 & 0 & 0 & -1\\\\0 & 1 & 0 & -1 & 0 & 1 & d_{2}\\\\0 & 0 & 1 & 1 - c_{1} & -1 & -1 & - d_{1} - d_{2}\\end{matrix}\\right]$"
      ],
      "text/plain": [
       "Matrix([\n",
       "[1, 0, 0,      0,  0,  0,       -1],\n",
       "[0, 1, 0,     -1,  0,  1,       d2],\n",
       "[0, 0, 1, 1 - c1, -1, -1, -d1 - d2]])"
      ]
     },
     "metadata": {},
     "output_type": "display_data"
    },
    {
     "data": {
      "text/latex": [
       "$\\displaystyle \\left[\\begin{matrix}1 & 0 & 0 & 0 & 0 & 0 & -1\\\\0 & 1 & 0 & -1 & -1 & 1 - c_{1} & - d_{1} - d_{2}\\\\0 & 0 & 1 & 1 & 0 & -1 & d_{2}\\end{matrix}\\right]$"
      ],
      "text/plain": [
       "Matrix([\n",
       "[1, 0, 0,  0,  0,      0,       -1],\n",
       "[0, 1, 0, -1, -1, 1 - c1, -d1 - d2],\n",
       "[0, 0, 1,  1,  0,     -1,       d2]])"
      ]
     },
     "metadata": {},
     "output_type": "display_data"
    },
    {
     "data": {
      "text/latex": [
       "$\\displaystyle \\left[\\begin{matrix}1 & 0 & 0 & 0 & 0 & 0 & -1\\\\0 & 1 & 0 & -1 & - c_{1} & 1 - c_{1} & - c_{1} d_{2} - d_{1}\\\\0 & 0 & 1 & 0 & -1 & -1 & - d_{2}\\end{matrix}\\right]$"
      ],
      "text/plain": [
       "Matrix([\n",
       "[1, 0, 0,  0,   0,      0,          -1],\n",
       "[0, 1, 0, -1, -c1, 1 - c1, -c1*d2 - d1],\n",
       "[0, 0, 1,  0,  -1,     -1,         -d2]])"
      ]
     },
     "metadata": {},
     "output_type": "display_data"
    },
    {
     "data": {
      "text/latex": [
       "$\\displaystyle \\left[\\begin{matrix}1 & 0 & 0 & 0 & 0 & 0 & -1\\\\0 & 1 & 0 & -1 & -1 & 0 & - d_{2}\\\\0 & 0 & 1 & c_{1} & c_{1} - 1 & -1 & c_{1} d_{2} + d_{1}\\end{matrix}\\right]$"
      ],
      "text/plain": [
       "Matrix([\n",
       "[1, 0, 0,  0,      0,  0,         -1],\n",
       "[0, 1, 0, -1,     -1,  0,        -d2],\n",
       "[0, 0, 1, c1, c1 - 1, -1, c1*d2 + d1]])"
      ]
     },
     "metadata": {},
     "output_type": "display_data"
    },
    {
     "data": {
      "text/latex": [
       "$\\displaystyle \\left[\\begin{matrix}1 & 0 & 0 & 0 & 0 & 0 & -1\\\\0 & 1 & 0 & -1 & -1 & 0 & - d_{2}\\\\0 & 0 & 1 & 1 - c_{1} & - c_{1} & -1 & - c_{1} d_{2} - d_{1}\\end{matrix}\\right]$"
      ],
      "text/plain": [
       "Matrix([\n",
       "[1, 0, 0,      0,   0,  0,          -1],\n",
       "[0, 1, 0,     -1,  -1,  0,         -d2],\n",
       "[0, 0, 1, 1 - c1, -c1, -1, -c1*d2 - d1]])"
      ]
     },
     "metadata": {},
     "output_type": "display_data"
    }
   ],
   "source": [
    "t=0\n",
    "print('Types 3, 6, 9, 12 (a0, b0, c0 = 0) are all obtained by symmetries from type 0.')\n",
    "print('Every fan obtained by symmetries from type 0 is of type with a0, b0, c0 = 0.')\n",
    "for p in symm_index:\n",
    "    display(fans[t][:, p].rref()[0])"
   ]
  },
  {
   "cell_type": "markdown",
   "id": "a0e31aec-fcf6-4993-9dd8-e4057bff9f81",
   "metadata": {
    "jp-MarkdownHeadingCollapsed": true
   },
   "source": [
    "## types 1, 4, 7, 10, 13"
   ]
  },
  {
   "cell_type": "code",
   "execution_count": 73,
   "id": "2a6b8961-8359-43b3-ba06-c7dd82b00bbe",
   "metadata": {
    "scrolled": true
   },
   "outputs": [
    {
     "name": "stdout",
     "output_type": "stream",
     "text": [
      "Types 1, 4, 7, 10, 13 (d1, d2 = 0) are all obtained by symmetries from type 1.\n",
      "Every fan obtained by symmetries from type 1 is of type with d1, d2 = 0.\n"
     ]
    },
    {
     "data": {
      "text/latex": [
       "$\\displaystyle \\left[\\begin{matrix}1 & 0 & 0 & a_{0} & b_{0} & c_{0} & -1\\\\0 & 1 & 0 & -1 & -1 & c_{1} & 0\\\\0 & 0 & 1 & 1 & 0 & -1 & 0\\end{matrix}\\right]$"
      ],
      "text/plain": [
       "Matrix([\n",
       "[1, 0, 0, a0, b0, c0, -1],\n",
       "[0, 1, 0, -1, -1, c1,  0],\n",
       "[0, 0, 1,  1,  0, -1,  0]])"
      ]
     },
     "metadata": {},
     "output_type": "display_data"
    },
    {
     "data": {
      "text/latex": [
       "$\\displaystyle \\left[\\begin{matrix}1 & 0 & 0 & b_{0} & a_{0} + c_{0} & c_{0} & -1\\\\0 & 1 & 0 & -1 & c_{1} - 1 & c_{1} & 0\\\\0 & 0 & 1 & 0 & -1 & -1 & 0\\end{matrix}\\right]$"
      ],
      "text/plain": [
       "Matrix([\n",
       "[1, 0, 0, b0, a0 + c0, c0, -1],\n",
       "[0, 1, 0, -1,  c1 - 1, c1,  0],\n",
       "[0, 0, 1,  0,      -1, -1,  0]])"
      ]
     },
     "metadata": {},
     "output_type": "display_data"
    },
    {
     "data": {
      "text/latex": [
       "$\\displaystyle \\left[\\begin{matrix}1 & 0 & 0 & c_{0} & b_{0} & a_{0} & -1\\\\0 & 1 & 0 & -1 & 0 & 1 & 0\\\\0 & 0 & 1 & c_{1} & -1 & -1 & 0\\end{matrix}\\right]$"
      ],
      "text/plain": [
       "Matrix([\n",
       "[1, 0, 0, c0, b0, a0, -1],\n",
       "[0, 1, 0, -1,  0,  1,  0],\n",
       "[0, 0, 1, c1, -1, -1,  0]])"
      ]
     },
     "metadata": {},
     "output_type": "display_data"
    },
    {
     "data": {
      "text/latex": [
       "$\\displaystyle \\left[\\begin{matrix}1 & 0 & 0 & - a_{0} + b_{0} & a_{0} c_{1} + c_{0} & a_{0} & -1\\\\0 & 1 & 0 & -1 & c_{1} - 1 & 1 & 0\\\\0 & 0 & 1 & 1 & - c_{1} & -1 & 0\\end{matrix}\\right]$"
      ],
      "text/plain": [
       "Matrix([\n",
       "[1, 0, 0, -a0 + b0, a0*c1 + c0, a0, -1],\n",
       "[0, 1, 0,       -1,     c1 - 1,  1,  0],\n",
       "[0, 0, 1,        1,        -c1, -1,  0]])"
      ]
     },
     "metadata": {},
     "output_type": "display_data"
    },
    {
     "data": {
      "text/latex": [
       "$\\displaystyle \\left[\\begin{matrix}1 & 0 & 0 & a_{0} & a_{0} c_{1} + c_{0} & - a_{0} + b_{0} & -1\\\\0 & 1 & 0 & -1 & - c_{1} & 1 & 0\\\\0 & 0 & 1 & 1 & c_{1} - 1 & -1 & 0\\end{matrix}\\right]$"
      ],
      "text/plain": [
       "Matrix([\n",
       "[1, 0, 0, a0, a0*c1 + c0, -a0 + b0, -1],\n",
       "[0, 1, 0, -1,        -c1,        1,  0],\n",
       "[0, 0, 1,  1,     c1 - 1,       -1,  0]])"
      ]
     },
     "metadata": {},
     "output_type": "display_data"
    },
    {
     "data": {
      "text/latex": [
       "$\\displaystyle \\left[\\begin{matrix}1 & 0 & 0 & a_{0} + b_{0} c_{1} - b_{0} + c_{0} & b_{0} & - a_{0} + b_{0} & -1\\\\0 & 1 & 0 & -1 & 0 & 1 & 0\\\\0 & 0 & 1 & 1 - c_{1} & -1 & -1 & 0\\end{matrix}\\right]$"
      ],
      "text/plain": [
       "Matrix([\n",
       "[1, 0, 0, a0 + b0*c1 - b0 + c0, b0, -a0 + b0, -1],\n",
       "[0, 1, 0,                   -1,  0,        1,  0],\n",
       "[0, 0, 1,               1 - c1, -1,       -1,  0]])"
      ]
     },
     "metadata": {},
     "output_type": "display_data"
    },
    {
     "data": {
      "text/latex": [
       "$\\displaystyle \\left[\\begin{matrix}1 & 0 & 0 & - a_{0} + b_{0} & b_{0} & a_{0} + b_{0} c_{1} - b_{0} + c_{0} & -1\\\\0 & 1 & 0 & -1 & -1 & 1 - c_{1} & 0\\\\0 & 0 & 1 & 1 & 0 & -1 & 0\\end{matrix}\\right]$"
      ],
      "text/plain": [
       "Matrix([\n",
       "[1, 0, 0, -a0 + b0, b0, a0 + b0*c1 - b0 + c0, -1],\n",
       "[0, 1, 0,       -1, -1,               1 - c1,  0],\n",
       "[0, 0, 1,        1,  0,                   -1,  0]])"
      ]
     },
     "metadata": {},
     "output_type": "display_data"
    },
    {
     "data": {
      "text/latex": [
       "$\\displaystyle \\left[\\begin{matrix}1 & 0 & 0 & b_{0} & b_{0} c_{1} + c_{0} & a_{0} + b_{0} c_{1} - b_{0} + c_{0} & -1\\\\0 & 1 & 0 & -1 & - c_{1} & 1 - c_{1} & 0\\\\0 & 0 & 1 & 0 & -1 & -1 & 0\\end{matrix}\\right]$"
      ],
      "text/plain": [
       "Matrix([\n",
       "[1, 0, 0, b0, b0*c1 + c0, a0 + b0*c1 - b0 + c0, -1],\n",
       "[0, 1, 0, -1,        -c1,               1 - c1,  0],\n",
       "[0, 0, 1,  0,         -1,                   -1,  0]])"
      ]
     },
     "metadata": {},
     "output_type": "display_data"
    },
    {
     "data": {
      "text/latex": [
       "$\\displaystyle \\left[\\begin{matrix}1 & 0 & 0 & c_{0} & a_{0} + c_{0} & b_{0} & -1\\\\0 & 1 & 0 & -1 & -1 & 0 & 0\\\\0 & 0 & 1 & c_{1} & c_{1} - 1 & -1 & 0\\end{matrix}\\right]$"
      ],
      "text/plain": [
       "Matrix([\n",
       "[1, 0, 0, c0, a0 + c0, b0, -1],\n",
       "[0, 1, 0, -1,      -1,  0,  0],\n",
       "[0, 0, 1, c1,  c1 - 1, -1,  0]])"
      ]
     },
     "metadata": {},
     "output_type": "display_data"
    },
    {
     "data": {
      "text/latex": [
       "$\\displaystyle \\left[\\begin{matrix}1 & 0 & 0 & a_{0} + b_{0} c_{1} - b_{0} + c_{0} & b_{0} c_{1} + c_{0} & b_{0} & -1\\\\0 & 1 & 0 & -1 & -1 & 0 & 0\\\\0 & 0 & 1 & 1 - c_{1} & - c_{1} & -1 & 0\\end{matrix}\\right]$"
      ],
      "text/plain": [
       "Matrix([\n",
       "[1, 0, 0, a0 + b0*c1 - b0 + c0, b0*c1 + c0, b0, -1],\n",
       "[0, 1, 0,                   -1,         -1,  0,  0],\n",
       "[0, 0, 1,               1 - c1,        -c1, -1,  0]])"
      ]
     },
     "metadata": {},
     "output_type": "display_data"
    },
    {
     "data": {
      "text/latex": [
       "$\\displaystyle \\left[\\begin{matrix}1 & 0 & 0 & - a_{0} & - b_{0} & - c_{0} & -1\\\\0 & 1 & 0 & -1 & -1 & c_{1} & 0\\\\0 & 0 & 1 & 1 & 0 & -1 & 0\\end{matrix}\\right]$"
      ],
      "text/plain": [
       "Matrix([\n",
       "[1, 0, 0, -a0, -b0, -c0, -1],\n",
       "[0, 1, 0,  -1,  -1,  c1,  0],\n",
       "[0, 0, 1,   1,   0,  -1,  0]])"
      ]
     },
     "metadata": {},
     "output_type": "display_data"
    },
    {
     "data": {
      "text/latex": [
       "$\\displaystyle \\left[\\begin{matrix}1 & 0 & 0 & - b_{0} & - a_{0} - c_{0} & - c_{0} & -1\\\\0 & 1 & 0 & -1 & c_{1} - 1 & c_{1} & 0\\\\0 & 0 & 1 & 0 & -1 & -1 & 0\\end{matrix}\\right]$"
      ],
      "text/plain": [
       "Matrix([\n",
       "[1, 0, 0, -b0, -a0 - c0, -c0, -1],\n",
       "[0, 1, 0,  -1,   c1 - 1,  c1,  0],\n",
       "[0, 0, 1,   0,       -1,  -1,  0]])"
      ]
     },
     "metadata": {},
     "output_type": "display_data"
    },
    {
     "data": {
      "text/latex": [
       "$\\displaystyle \\left[\\begin{matrix}1 & 0 & 0 & - c_{0} & - b_{0} & - a_{0} & -1\\\\0 & 1 & 0 & -1 & 0 & 1 & 0\\\\0 & 0 & 1 & c_{1} & -1 & -1 & 0\\end{matrix}\\right]$"
      ],
      "text/plain": [
       "Matrix([\n",
       "[1, 0, 0, -c0, -b0, -a0, -1],\n",
       "[0, 1, 0,  -1,   0,   1,  0],\n",
       "[0, 0, 1,  c1,  -1,  -1,  0]])"
      ]
     },
     "metadata": {},
     "output_type": "display_data"
    },
    {
     "data": {
      "text/latex": [
       "$\\displaystyle \\left[\\begin{matrix}1 & 0 & 0 & a_{0} - b_{0} & - a_{0} c_{1} - c_{0} & - a_{0} & -1\\\\0 & 1 & 0 & -1 & c_{1} - 1 & 1 & 0\\\\0 & 0 & 1 & 1 & - c_{1} & -1 & 0\\end{matrix}\\right]$"
      ],
      "text/plain": [
       "Matrix([\n",
       "[1, 0, 0, a0 - b0, -a0*c1 - c0, -a0, -1],\n",
       "[0, 1, 0,      -1,      c1 - 1,   1,  0],\n",
       "[0, 0, 1,       1,         -c1,  -1,  0]])"
      ]
     },
     "metadata": {},
     "output_type": "display_data"
    },
    {
     "data": {
      "text/latex": [
       "$\\displaystyle \\left[\\begin{matrix}1 & 0 & 0 & - a_{0} & - a_{0} c_{1} - c_{0} & a_{0} - b_{0} & -1\\\\0 & 1 & 0 & -1 & - c_{1} & 1 & 0\\\\0 & 0 & 1 & 1 & c_{1} - 1 & -1 & 0\\end{matrix}\\right]$"
      ],
      "text/plain": [
       "Matrix([\n",
       "[1, 0, 0, -a0, -a0*c1 - c0, a0 - b0, -1],\n",
       "[0, 1, 0,  -1,         -c1,       1,  0],\n",
       "[0, 0, 1,   1,      c1 - 1,      -1,  0]])"
      ]
     },
     "metadata": {},
     "output_type": "display_data"
    },
    {
     "data": {
      "text/latex": [
       "$\\displaystyle \\left[\\begin{matrix}1 & 0 & 0 & - a_{0} - b_{0} c_{1} + b_{0} - c_{0} & - b_{0} & a_{0} - b_{0} & -1\\\\0 & 1 & 0 & -1 & 0 & 1 & 0\\\\0 & 0 & 1 & 1 - c_{1} & -1 & -1 & 0\\end{matrix}\\right]$"
      ],
      "text/plain": [
       "Matrix([\n",
       "[1, 0, 0, -a0 - b0*c1 + b0 - c0, -b0, a0 - b0, -1],\n",
       "[0, 1, 0,                    -1,   0,       1,  0],\n",
       "[0, 0, 1,                1 - c1,  -1,      -1,  0]])"
      ]
     },
     "metadata": {},
     "output_type": "display_data"
    },
    {
     "data": {
      "text/latex": [
       "$\\displaystyle \\left[\\begin{matrix}1 & 0 & 0 & a_{0} - b_{0} & - b_{0} & - a_{0} - b_{0} c_{1} + b_{0} - c_{0} & -1\\\\0 & 1 & 0 & -1 & -1 & 1 - c_{1} & 0\\\\0 & 0 & 1 & 1 & 0 & -1 & 0\\end{matrix}\\right]$"
      ],
      "text/plain": [
       "Matrix([\n",
       "[1, 0, 0, a0 - b0, -b0, -a0 - b0*c1 + b0 - c0, -1],\n",
       "[0, 1, 0,      -1,  -1,                1 - c1,  0],\n",
       "[0, 0, 1,       1,   0,                    -1,  0]])"
      ]
     },
     "metadata": {},
     "output_type": "display_data"
    },
    {
     "data": {
      "text/latex": [
       "$\\displaystyle \\left[\\begin{matrix}1 & 0 & 0 & - b_{0} & - b_{0} c_{1} - c_{0} & - a_{0} - b_{0} c_{1} + b_{0} - c_{0} & -1\\\\0 & 1 & 0 & -1 & - c_{1} & 1 - c_{1} & 0\\\\0 & 0 & 1 & 0 & -1 & -1 & 0\\end{matrix}\\right]$"
      ],
      "text/plain": [
       "Matrix([\n",
       "[1, 0, 0, -b0, -b0*c1 - c0, -a0 - b0*c1 + b0 - c0, -1],\n",
       "[0, 1, 0,  -1,         -c1,                1 - c1,  0],\n",
       "[0, 0, 1,   0,          -1,                    -1,  0]])"
      ]
     },
     "metadata": {},
     "output_type": "display_data"
    },
    {
     "data": {
      "text/latex": [
       "$\\displaystyle \\left[\\begin{matrix}1 & 0 & 0 & - c_{0} & - a_{0} - c_{0} & - b_{0} & -1\\\\0 & 1 & 0 & -1 & -1 & 0 & 0\\\\0 & 0 & 1 & c_{1} & c_{1} - 1 & -1 & 0\\end{matrix}\\right]$"
      ],
      "text/plain": [
       "Matrix([\n",
       "[1, 0, 0, -c0, -a0 - c0, -b0, -1],\n",
       "[0, 1, 0,  -1,       -1,   0,  0],\n",
       "[0, 0, 1,  c1,   c1 - 1,  -1,  0]])"
      ]
     },
     "metadata": {},
     "output_type": "display_data"
    },
    {
     "data": {
      "text/latex": [
       "$\\displaystyle \\left[\\begin{matrix}1 & 0 & 0 & - a_{0} - b_{0} c_{1} + b_{0} - c_{0} & - b_{0} c_{1} - c_{0} & - b_{0} & -1\\\\0 & 1 & 0 & -1 & -1 & 0 & 0\\\\0 & 0 & 1 & 1 - c_{1} & - c_{1} & -1 & 0\\end{matrix}\\right]$"
      ],
      "text/plain": [
       "Matrix([\n",
       "[1, 0, 0, -a0 - b0*c1 + b0 - c0, -b0*c1 - c0, -b0, -1],\n",
       "[0, 1, 0,                    -1,          -1,   0,  0],\n",
       "[0, 0, 1,                1 - c1,         -c1,  -1,  0]])"
      ]
     },
     "metadata": {},
     "output_type": "display_data"
    }
   ],
   "source": [
    "t=1\n",
    "print('Types 1, 4, 7, 10, 13 (d1, d2 = 0) are all obtained by symmetries from type 1.')\n",
    "print('Every fan obtained by symmetries from type 1 is of type with d1, d2 = 0.')\n",
    "for p in symm_index:\n",
    "    display(fans[t][:, p].rref()[0])"
   ]
  },
  {
   "cell_type": "markdown",
   "id": "9d3c90ff-355e-4525-806c-425128622a4a",
   "metadata": {
    "jp-MarkdownHeadingCollapsed": true
   },
   "source": [
    "## types 2, 5, 8, 11, 14"
   ]
  },
  {
   "cell_type": "code",
   "execution_count": 74,
   "id": "cc04d742-3fce-49ba-98e3-d25c43096b0c",
   "metadata": {
    "scrolled": true
   },
   "outputs": [
    {
     "name": "stdout",
     "output_type": "stream",
     "text": [
      "Types 2, 5, 8, 11, 14 (the first row and the last column have indeterminates) are all obtained by symmetries from type 2.\n",
      "Every fan obtained by symmetries from type 2 is of type with indeterminates in the first row and the last column.\n"
     ]
    },
    {
     "data": {
      "text/latex": [
       "$\\displaystyle \\left[\\begin{matrix}1 & 0 & 0 & 0 & 0 & c_{0} & -1\\\\0 & 1 & 0 & -1 & -1 & c_{1} & d_{1}\\\\0 & 0 & 1 & 1 & 0 & -1 & 0\\end{matrix}\\right]$"
      ],
      "text/plain": [
       "Matrix([\n",
       "[1, 0, 0,  0,  0, c0, -1],\n",
       "[0, 1, 0, -1, -1, c1, d1],\n",
       "[0, 0, 1,  1,  0, -1,  0]])"
      ]
     },
     "metadata": {},
     "output_type": "display_data"
    },
    {
     "data": {
      "text/latex": [
       "$\\displaystyle \\left[\\begin{matrix}1 & 0 & 0 & 0 & c_{0} & c_{0} & -1\\\\0 & 1 & 0 & -1 & c_{1} - 1 & c_{1} & d_{1}\\\\0 & 0 & 1 & 0 & -1 & -1 & 0\\end{matrix}\\right]$"
      ],
      "text/plain": [
       "Matrix([\n",
       "[1, 0, 0,  0,     c0, c0, -1],\n",
       "[0, 1, 0, -1, c1 - 1, c1, d1],\n",
       "[0, 0, 1,  0,     -1, -1,  0]])"
      ]
     },
     "metadata": {},
     "output_type": "display_data"
    },
    {
     "data": {
      "text/latex": [
       "$\\displaystyle \\left[\\begin{matrix}1 & 0 & 0 & c_{0} & 0 & 0 & -1\\\\0 & 1 & 0 & -1 & 0 & 1 & 0\\\\0 & 0 & 1 & c_{1} & -1 & -1 & d_{1}\\end{matrix}\\right]$"
      ],
      "text/plain": [
       "Matrix([\n",
       "[1, 0, 0, c0,  0,  0, -1],\n",
       "[0, 1, 0, -1,  0,  1,  0],\n",
       "[0, 0, 1, c1, -1, -1, d1]])"
      ]
     },
     "metadata": {},
     "output_type": "display_data"
    },
    {
     "data": {
      "text/latex": [
       "$\\displaystyle \\left[\\begin{matrix}1 & 0 & 0 & 0 & c_{0} & 0 & -1\\\\0 & 1 & 0 & -1 & c_{1} - 1 & 1 & d_{1}\\\\0 & 0 & 1 & 1 & - c_{1} & -1 & - d_{1}\\end{matrix}\\right]$"
      ],
      "text/plain": [
       "Matrix([\n",
       "[1, 0, 0,  0,     c0,  0,  -1],\n",
       "[0, 1, 0, -1, c1 - 1,  1,  d1],\n",
       "[0, 0, 1,  1,    -c1, -1, -d1]])"
      ]
     },
     "metadata": {},
     "output_type": "display_data"
    },
    {
     "data": {
      "text/latex": [
       "$\\displaystyle \\left[\\begin{matrix}1 & 0 & 0 & 0 & c_{0} & 0 & -1\\\\0 & 1 & 0 & -1 & - c_{1} & 1 & - d_{1}\\\\0 & 0 & 1 & 1 & c_{1} - 1 & -1 & d_{1}\\end{matrix}\\right]$"
      ],
      "text/plain": [
       "Matrix([\n",
       "[1, 0, 0,  0,     c0,  0,  -1],\n",
       "[0, 1, 0, -1,    -c1,  1, -d1],\n",
       "[0, 0, 1,  1, c1 - 1, -1,  d1]])"
      ]
     },
     "metadata": {},
     "output_type": "display_data"
    },
    {
     "data": {
      "text/latex": [
       "$\\displaystyle \\left[\\begin{matrix}1 & 0 & 0 & c_{0} & 0 & 0 & -1\\\\0 & 1 & 0 & -1 & 0 & 1 & 0\\\\0 & 0 & 1 & 1 - c_{1} & -1 & -1 & - d_{1}\\end{matrix}\\right]$"
      ],
      "text/plain": [
       "Matrix([\n",
       "[1, 0, 0,     c0,  0,  0,  -1],\n",
       "[0, 1, 0,     -1,  0,  1,   0],\n",
       "[0, 0, 1, 1 - c1, -1, -1, -d1]])"
      ]
     },
     "metadata": {},
     "output_type": "display_data"
    },
    {
     "data": {
      "text/latex": [
       "$\\displaystyle \\left[\\begin{matrix}1 & 0 & 0 & 0 & 0 & c_{0} & -1\\\\0 & 1 & 0 & -1 & -1 & 1 - c_{1} & - d_{1}\\\\0 & 0 & 1 & 1 & 0 & -1 & 0\\end{matrix}\\right]$"
      ],
      "text/plain": [
       "Matrix([\n",
       "[1, 0, 0,  0,  0,     c0,  -1],\n",
       "[0, 1, 0, -1, -1, 1 - c1, -d1],\n",
       "[0, 0, 1,  1,  0,     -1,   0]])"
      ]
     },
     "metadata": {},
     "output_type": "display_data"
    },
    {
     "data": {
      "text/latex": [
       "$\\displaystyle \\left[\\begin{matrix}1 & 0 & 0 & 0 & c_{0} & c_{0} & -1\\\\0 & 1 & 0 & -1 & - c_{1} & 1 - c_{1} & - d_{1}\\\\0 & 0 & 1 & 0 & -1 & -1 & 0\\end{matrix}\\right]$"
      ],
      "text/plain": [
       "Matrix([\n",
       "[1, 0, 0,  0,  c0,     c0,  -1],\n",
       "[0, 1, 0, -1, -c1, 1 - c1, -d1],\n",
       "[0, 0, 1,  0,  -1,     -1,   0]])"
      ]
     },
     "metadata": {},
     "output_type": "display_data"
    },
    {
     "data": {
      "text/latex": [
       "$\\displaystyle \\left[\\begin{matrix}1 & 0 & 0 & c_{0} & c_{0} & 0 & -1\\\\0 & 1 & 0 & -1 & -1 & 0 & 0\\\\0 & 0 & 1 & c_{1} & c_{1} - 1 & -1 & d_{1}\\end{matrix}\\right]$"
      ],
      "text/plain": [
       "Matrix([\n",
       "[1, 0, 0, c0,     c0,  0, -1],\n",
       "[0, 1, 0, -1,     -1,  0,  0],\n",
       "[0, 0, 1, c1, c1 - 1, -1, d1]])"
      ]
     },
     "metadata": {},
     "output_type": "display_data"
    },
    {
     "data": {
      "text/latex": [
       "$\\displaystyle \\left[\\begin{matrix}1 & 0 & 0 & c_{0} & c_{0} & 0 & -1\\\\0 & 1 & 0 & -1 & -1 & 0 & 0\\\\0 & 0 & 1 & 1 - c_{1} & - c_{1} & -1 & - d_{1}\\end{matrix}\\right]$"
      ],
      "text/plain": [
       "Matrix([\n",
       "[1, 0, 0,     c0,  c0,  0,  -1],\n",
       "[0, 1, 0,     -1,  -1,  0,   0],\n",
       "[0, 0, 1, 1 - c1, -c1, -1, -d1]])"
      ]
     },
     "metadata": {},
     "output_type": "display_data"
    },
    {
     "data": {
      "text/latex": [
       "$\\displaystyle \\left[\\begin{matrix}1 & 0 & 0 & 0 & 0 & - c_{0} & -1\\\\0 & 1 & 0 & -1 & -1 & c_{0} d_{1} + c_{1} & d_{1}\\\\0 & 0 & 1 & 1 & 0 & -1 & 0\\end{matrix}\\right]$"
      ],
      "text/plain": [
       "Matrix([\n",
       "[1, 0, 0,  0,  0,        -c0, -1],\n",
       "[0, 1, 0, -1, -1, c0*d1 + c1, d1],\n",
       "[0, 0, 1,  1,  0,         -1,  0]])"
      ]
     },
     "metadata": {},
     "output_type": "display_data"
    },
    {
     "data": {
      "text/latex": [
       "$\\displaystyle \\left[\\begin{matrix}1 & 0 & 0 & 0 & - c_{0} & - c_{0} & -1\\\\0 & 1 & 0 & -1 & c_{0} d_{1} + c_{1} - 1 & c_{0} d_{1} + c_{1} & d_{1}\\\\0 & 0 & 1 & 0 & -1 & -1 & 0\\end{matrix}\\right]$"
      ],
      "text/plain": [
       "Matrix([\n",
       "[1, 0, 0,  0,            -c0,        -c0, -1],\n",
       "[0, 1, 0, -1, c0*d1 + c1 - 1, c0*d1 + c1, d1],\n",
       "[0, 0, 1,  0,             -1,         -1,  0]])"
      ]
     },
     "metadata": {},
     "output_type": "display_data"
    },
    {
     "data": {
      "text/latex": [
       "$\\displaystyle \\left[\\begin{matrix}1 & 0 & 0 & - c_{0} & 0 & 0 & -1\\\\0 & 1 & 0 & -1 & 0 & 1 & 0\\\\0 & 0 & 1 & c_{0} d_{1} + c_{1} & -1 & -1 & d_{1}\\end{matrix}\\right]$"
      ],
      "text/plain": [
       "Matrix([\n",
       "[1, 0, 0,        -c0,  0,  0, -1],\n",
       "[0, 1, 0,         -1,  0,  1,  0],\n",
       "[0, 0, 1, c0*d1 + c1, -1, -1, d1]])"
      ]
     },
     "metadata": {},
     "output_type": "display_data"
    },
    {
     "data": {
      "text/latex": [
       "$\\displaystyle \\left[\\begin{matrix}1 & 0 & 0 & 0 & - c_{0} & 0 & -1\\\\0 & 1 & 0 & -1 & c_{0} d_{1} + c_{1} - 1 & 1 & d_{1}\\\\0 & 0 & 1 & 1 & - c_{0} d_{1} - c_{1} & -1 & - d_{1}\\end{matrix}\\right]$"
      ],
      "text/plain": [
       "Matrix([\n",
       "[1, 0, 0,  0,            -c0,  0,  -1],\n",
       "[0, 1, 0, -1, c0*d1 + c1 - 1,  1,  d1],\n",
       "[0, 0, 1,  1,    -c0*d1 - c1, -1, -d1]])"
      ]
     },
     "metadata": {},
     "output_type": "display_data"
    },
    {
     "data": {
      "text/latex": [
       "$\\displaystyle \\left[\\begin{matrix}1 & 0 & 0 & 0 & - c_{0} & 0 & -1\\\\0 & 1 & 0 & -1 & - c_{0} d_{1} - c_{1} & 1 & - d_{1}\\\\0 & 0 & 1 & 1 & c_{0} d_{1} + c_{1} - 1 & -1 & d_{1}\\end{matrix}\\right]$"
      ],
      "text/plain": [
       "Matrix([\n",
       "[1, 0, 0,  0,            -c0,  0,  -1],\n",
       "[0, 1, 0, -1,    -c0*d1 - c1,  1, -d1],\n",
       "[0, 0, 1,  1, c0*d1 + c1 - 1, -1,  d1]])"
      ]
     },
     "metadata": {},
     "output_type": "display_data"
    },
    {
     "data": {
      "text/latex": [
       "$\\displaystyle \\left[\\begin{matrix}1 & 0 & 0 & - c_{0} & 0 & 0 & -1\\\\0 & 1 & 0 & -1 & 0 & 1 & 0\\\\0 & 0 & 1 & - c_{0} d_{1} - c_{1} + 1 & -1 & -1 & - d_{1}\\end{matrix}\\right]$"
      ],
      "text/plain": [
       "Matrix([\n",
       "[1, 0, 0,             -c0,  0,  0,  -1],\n",
       "[0, 1, 0,              -1,  0,  1,   0],\n",
       "[0, 0, 1, -c0*d1 - c1 + 1, -1, -1, -d1]])"
      ]
     },
     "metadata": {},
     "output_type": "display_data"
    },
    {
     "data": {
      "text/latex": [
       "$\\displaystyle \\left[\\begin{matrix}1 & 0 & 0 & 0 & 0 & - c_{0} & -1\\\\0 & 1 & 0 & -1 & -1 & - c_{0} d_{1} - c_{1} + 1 & - d_{1}\\\\0 & 0 & 1 & 1 & 0 & -1 & 0\\end{matrix}\\right]$"
      ],
      "text/plain": [
       "Matrix([\n",
       "[1, 0, 0,  0,  0,             -c0,  -1],\n",
       "[0, 1, 0, -1, -1, -c0*d1 - c1 + 1, -d1],\n",
       "[0, 0, 1,  1,  0,              -1,   0]])"
      ]
     },
     "metadata": {},
     "output_type": "display_data"
    },
    {
     "data": {
      "text/latex": [
       "$\\displaystyle \\left[\\begin{matrix}1 & 0 & 0 & 0 & - c_{0} & - c_{0} & -1\\\\0 & 1 & 0 & -1 & - c_{0} d_{1} - c_{1} & - c_{0} d_{1} - c_{1} + 1 & - d_{1}\\\\0 & 0 & 1 & 0 & -1 & -1 & 0\\end{matrix}\\right]$"
      ],
      "text/plain": [
       "Matrix([\n",
       "[1, 0, 0,  0,         -c0,             -c0,  -1],\n",
       "[0, 1, 0, -1, -c0*d1 - c1, -c0*d1 - c1 + 1, -d1],\n",
       "[0, 0, 1,  0,          -1,              -1,   0]])"
      ]
     },
     "metadata": {},
     "output_type": "display_data"
    },
    {
     "data": {
      "text/latex": [
       "$\\displaystyle \\left[\\begin{matrix}1 & 0 & 0 & - c_{0} & - c_{0} & 0 & -1\\\\0 & 1 & 0 & -1 & -1 & 0 & 0\\\\0 & 0 & 1 & c_{0} d_{1} + c_{1} & c_{0} d_{1} + c_{1} - 1 & -1 & d_{1}\\end{matrix}\\right]$"
      ],
      "text/plain": [
       "Matrix([\n",
       "[1, 0, 0,        -c0,            -c0,  0, -1],\n",
       "[0, 1, 0,         -1,             -1,  0,  0],\n",
       "[0, 0, 1, c0*d1 + c1, c0*d1 + c1 - 1, -1, d1]])"
      ]
     },
     "metadata": {},
     "output_type": "display_data"
    },
    {
     "data": {
      "text/latex": [
       "$\\displaystyle \\left[\\begin{matrix}1 & 0 & 0 & - c_{0} & - c_{0} & 0 & -1\\\\0 & 1 & 0 & -1 & -1 & 0 & 0\\\\0 & 0 & 1 & - c_{0} d_{1} - c_{1} + 1 & - c_{0} d_{1} - c_{1} & -1 & - d_{1}\\end{matrix}\\right]$"
      ],
      "text/plain": [
       "Matrix([\n",
       "[1, 0, 0,             -c0,         -c0,  0,  -1],\n",
       "[0, 1, 0,              -1,          -1,  0,   0],\n",
       "[0, 0, 1, -c0*d1 - c1 + 1, -c0*d1 - c1, -1, -d1]])"
      ]
     },
     "metadata": {},
     "output_type": "display_data"
    }
   ],
   "source": [
    "t=2\n",
    "print('Types 2, 5, 8, 11, 14 (the first row and the last column have indeterminates) are all obtained by symmetries from type 2.')\n",
    "print('Every fan obtained by symmetries from type 2 is of type with indeterminates in the first row and the last column.')\n",
    "for p in symm_index:\n",
    "    display(fans[t][:, p].rref()[0])"
   ]
  }
 ],
 "metadata": {
  "kernelspec": {
   "display_name": "Python 3 (ipykernel)",
   "language": "python",
   "name": "python3"
  },
  "language_info": {
   "codemirror_mode": {
    "name": "ipython",
    "version": 3
   },
   "file_extension": ".py",
   "mimetype": "text/x-python",
   "name": "python",
   "nbconvert_exporter": "python",
   "pygments_lexer": "ipython3",
   "version": "3.12.7"
  }
 },
 "nbformat": 4,
 "nbformat_minor": 5
}
