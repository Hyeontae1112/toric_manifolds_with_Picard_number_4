{
 "cells": [
  {
   "cell_type": "markdown",
   "id": "88a45b06-0c2e-495c-8130-a3b2b9b21bd8",
   "metadata": {
    "jp-MarkdownHeadingCollapsed": true
   },
   "source": [
    "# Preparation"
   ]
  },
  {
   "cell_type": "code",
   "execution_count": 1,
   "id": "a8d1a5a8-1e28-4abe-bbe4-1188621c64ca",
   "metadata": {},
   "outputs": [],
   "source": [
    "%run programs\\\\Characteristic_Pair.py\n",
    "import copy\n",
    "\n",
    "fanlikes_index=25\n",
    "projectied_vertex=5\n",
    "link_index=7\n",
    "\n",
    "K = Simplicial_Complex(json.loads(read_file('programs\\\\fanlikes')[fanlikes_index]))\n",
    "M = initial_char(K.n)\n",
    "C0 = Characteristic_Pair(K, M)\n",
    "fans = []\n",
    "\n",
    "a = sp.symbols('a0:%d'%K.n)\n",
    "b = sp.symbols('b0:%d'%K.n)\n",
    "c = sp.symbols('c0:%d'%K.n)\n",
    "d = sp.symbols('d0:%d'%K.n)\n",
    "\n",
    "a0, a1, a2, a3, a4 = a[:]\n",
    "b0, b1, b2, b3, b4 = b[:]\n",
    "c0, c1, c2, c3, c4 = c[:]\n",
    "d0, d1, d2, d3, d4 = d[:]"
   ]
  },
  {
   "cell_type": "code",
   "execution_count": 2,
   "id": "22341429-16ec-4752-9dab-2c617ed14844",
   "metadata": {},
   "outputs": [
    {
     "data": {
      "text/latex": [
       "$\\displaystyle \\left[\\begin{matrix}1 & 0 & 0 & 0 & 0 & a_{0} & b_{0} & c_{0} & d_{0}\\\\0 & 1 & 0 & 0 & 0 & a_{1} & b_{1} & c_{1} & d_{1}\\\\0 & 0 & 1 & 0 & 0 & a_{2} & b_{2} & c_{2} & d_{2}\\\\0 & 0 & 0 & 1 & 0 & a_{3} & b_{3} & c_{3} & d_{3}\\\\0 & 0 & 0 & 0 & 1 & a_{4} & b_{4} & c_{4} & d_{4}\\end{matrix}\\right]$"
      ],
      "text/plain": [
       "Matrix([\n",
       "[1, 0, 0, 0, 0, a0, b0, c0, d0],\n",
       "[0, 1, 0, 0, 0, a1, b1, c1, d1],\n",
       "[0, 0, 1, 0, 0, a2, b2, c2, d2],\n",
       "[0, 0, 0, 1, 0, a3, b3, c3, d3],\n",
       "[0, 0, 0, 0, 1, a4, b4, c4, d4]])"
      ]
     },
     "execution_count": 2,
     "metadata": {},
     "output_type": "execute_result"
    }
   ],
   "source": [
    "C = C0\n",
    "C.char"
   ]
  },
  {
   "cell_type": "code",
   "execution_count": 3,
   "id": "0d4234c5-d2ad-43f2-bcf2-53df6f518fc0",
   "metadata": {},
   "outputs": [
    {
     "name": "stdout",
     "output_type": "stream",
     "text": [
      "facet number: 18\n"
     ]
    },
    {
     "data": {
      "text/latex": [
       "$\\displaystyle a_{0} = -1$"
      ],
      "text/plain": [
       "Eq(a0, -1)"
      ]
     },
     "metadata": {},
     "output_type": "display_data"
    },
    {
     "name": "stdout",
     "output_type": "stream",
     "text": [
      "facet number: 8\n"
     ]
    },
    {
     "data": {
      "text/latex": [
       "$\\displaystyle - a_{1} = 1$"
      ],
      "text/plain": [
       "Eq(-a1, 1)"
      ]
     },
     "metadata": {},
     "output_type": "display_data"
    },
    {
     "name": "stdout",
     "output_type": "stream",
     "text": [
      "facet number: 1\n"
     ]
    },
    {
     "data": {
      "text/latex": [
       "$\\displaystyle b_{4} = -1$"
      ],
      "text/plain": [
       "Eq(b4, -1)"
      ]
     },
     "metadata": {},
     "output_type": "display_data"
    },
    {
     "name": "stdout",
     "output_type": "stream",
     "text": [
      "facet number: 5\n"
     ]
    },
    {
     "data": {
      "text/latex": [
       "$\\displaystyle d_{2} = -1$"
      ],
      "text/plain": [
       "Eq(d2, -1)"
      ]
     },
     "metadata": {},
     "output_type": "display_data"
    },
    {
     "name": "stdout",
     "output_type": "stream",
     "text": [
      "facet number: 2\n"
     ]
    },
    {
     "data": {
      "text/latex": [
       "$\\displaystyle - d_{3} = 1$"
      ],
      "text/plain": [
       "Eq(-d3, 1)"
      ]
     },
     "metadata": {},
     "output_type": "display_data"
    }
   ],
   "source": [
    "i=18\n",
    "print('facet number:', i)\n",
    "display(sp.Eq(C.determinants[i], C.orientation[i]))\n",
    "\n",
    "i=8\n",
    "print('facet number:', i)\n",
    "display(sp.Eq(C.determinants[i], C.orientation[i]))\n",
    "\n",
    "i=1\n",
    "print('facet number:', i)\n",
    "display(sp.Eq(C.determinants[i], C.orientation[i]))\n",
    "\n",
    "i=5\n",
    "print('facet number:', i)\n",
    "display(sp.Eq(C.determinants[i], C.orientation[i]))\n",
    "\n",
    "i=2\n",
    "print('facet number:', i)\n",
    "display(sp.Eq(C.determinants[i], C.orientation[i]))\n",
    "\n",
    "C.subs(a0, -1)\n",
    "C.subs(a1, -1)\n",
    "C.subs(b4, -1)\n",
    "C.subs(d2, -1)\n",
    "C.subs(d3, -1)"
   ]
  },
  {
   "cell_type": "markdown",
   "id": "7ccb2119-3126-4c0b-8022-d88dc46dd725",
   "metadata": {
    "jp-MarkdownHeadingCollapsed": true
   },
   "source": [
    "# The projection with respect to 5"
   ]
  },
  {
   "cell_type": "code",
   "execution_count": 4,
   "id": "0e323cef-c0a2-46e2-9a4a-ae5e50771989",
   "metadata": {},
   "outputs": [
    {
     "name": "stdout",
     "output_type": "stream",
     "text": [
      "[[1, 2, 3, 4], [1, 2, 3, 9], [1, 2, 4, 9], [1, 3, 4, 6], [1, 3, 6, 9], [1, 4, 6, 7], [1, 4, 7, 8], [1, 4, 8, 9], [1, 6, 7, 8], [1, 6, 8, 9], [2, 3, 4, 6], [2, 3, 6, 9], [2, 4, 6, 8], [2, 4, 8, 9], [2, 6, 8, 9], [4, 6, 7, 8]]\n"
     ]
    }
   ],
   "source": [
    "print(Link(K, [projectied_vertex]).cpx)"
   ]
  },
  {
   "cell_type": "code",
   "execution_count": 5,
   "id": "f30eb303-c49a-4ce3-8acd-ff8035ccc85e",
   "metadata": {},
   "outputs": [
    {
     "name": "stdout",
     "output_type": "stream",
     "text": [
      "[[1, 2, 3, 4], [1, 2, 3, 8], [1, 2, 4, 8], [1, 3, 4, 5], [1, 3, 5, 8], [1, 4, 5, 6], [1, 4, 6, 7], [1, 4, 7, 8], [1, 5, 6, 7], [1, 5, 7, 8], [2, 3, 4, 5], [2, 3, 5, 8], [2, 4, 5, 7], [2, 4, 7, 8], [2, 5, 7, 8], [4, 5, 6, 7]]\n"
     ]
    }
   ],
   "source": [
    "print(json.loads(read_file('programs\\\\fanlikes')[link_index]))"
   ]
  },
  {
   "cell_type": "code",
   "execution_count": 6,
   "id": "df140542-cdf9-4552-9612-b989fd3da923",
   "metadata": {},
   "outputs": [
    {
     "name": "stdout",
     "output_type": "stream",
     "text": [
      "[[1, 2, 3, 4], [1, 2, 3, 8], [1, 2, 4, 8], [1, 3, 4, 5], [1, 3, 5, 8], [1, 4, 5, 6], [1, 4, 6, 7], [1, 4, 7, 8], [1, 5, 6, 7], [1, 5, 7, 8], [2, 3, 4, 5], [2, 3, 5, 8], [2, 4, 5, 7], [2, 4, 7, 8], [2, 5, 7, 8], [4, 5, 6, 7]]\n"
     ]
    },
    {
     "data": {
      "text/plain": [
       "True"
      ]
     },
     "execution_count": 6,
     "metadata": {},
     "output_type": "execute_result"
    }
   ],
   "source": [
    "L=[] # making the vertices of the link consecutive\n",
    "for l in Link(K, [projectied_vertex]).cpx:\n",
    "    L.append([])\n",
    "    for v in l:\n",
    "        if v>projectied_vertex:\n",
    "            L[-1].append(v-1)\n",
    "        else:\n",
    "            L[-1].append(v)\n",
    "print(L)\n",
    "L==json.loads(read_file('programs\\\\fanlikes')[link_index])"
   ]
  },
  {
   "cell_type": "code",
   "execution_count": 7,
   "id": "819b93af-0d9f-4aa9-912b-371f2dda7836",
   "metadata": {},
   "outputs": [
    {
     "data": {
      "text/latex": [
       "$\\displaystyle \\left[\\begin{matrix}1 & 0 & 0 & 0 & -1 & b_{0} & c_{0} & d_{0}\\\\0 & 1 & 0 & 0 & -1 & b_{1} & c_{1} & d_{1}\\\\0 & 0 & 1 & 0 & a_{2} & b_{2} & c_{2} & -1\\\\0 & 0 & 0 & 1 & a_{3} & b_{3} & c_{3} & -1\\end{matrix}\\right]$"
      ],
      "text/plain": [
       "Matrix([\n",
       "[1, 0, 0, 0, -1, b0, c0, d0],\n",
       "[0, 1, 0, 0, -1, b1, c1, d1],\n",
       "[0, 0, 1, 0, a2, b2, c2, -1],\n",
       "[0, 0, 0, 1, a3, b3, c3, -1]])"
      ]
     },
     "metadata": {},
     "output_type": "display_data"
    }
   ],
   "source": [
    "display(C.proj([projectied_vertex]))"
   ]
  },
  {
   "cell_type": "markdown",
   "id": "dbcfd1c6-d2b6-4db0-81c1-f5fb1408a298",
   "metadata": {
    "jp-MarkdownHeadingCollapsed": true
   },
   "source": [
    "# The projection has 8 types of fans up to D-J equivalence"
   ]
  },
  {
   "cell_type": "code",
   "execution_count": 8,
   "id": "ed179421-0afe-4afc-b868-2c1c3dbe28e5",
   "metadata": {},
   "outputs": [],
   "source": [
    "import pickle\n",
    "with open('programs\\\\pickle_files\\\\%d_up_to_DJ.p'%(link_index), 'rb') as f:\n",
    "    fans_link = pickle.load(f)"
   ]
  },
  {
   "cell_type": "code",
   "execution_count": 9,
   "id": "934c9089-0a81-48c2-b920-150496633535",
   "metadata": {},
   "outputs": [
    {
     "data": {
      "text/latex": [
       "$\\displaystyle \\left[\\begin{matrix}1 & 0 & 0 & 0 & -1 & -1 & -1 & d_{0}\\\\0 & 1 & 0 & 0 & -1 & -2 & -1 & d_{1}\\\\0 & 0 & 1 & 0 & 1 & 1 & 0 & -1\\\\0 & 0 & 0 & 1 & 0 & 1 & 0 & -1\\end{matrix}\\right]$"
      ],
      "text/plain": [
       "Matrix([\n",
       "[1, 0, 0, 0, -1, -1, -1, d0],\n",
       "[0, 1, 0, 0, -1, -2, -1, d1],\n",
       "[0, 0, 1, 0,  1,  1,  0, -1],\n",
       "[0, 0, 0, 1,  0,  1,  0, -1]])"
      ]
     },
     "metadata": {},
     "output_type": "display_data"
    },
    {
     "data": {
      "text/latex": [
       "$\\displaystyle \\left[\\begin{matrix}1 & 0 & 0 & 0 & -1 & d_{0} - 1 & d_{0} - 1 & d_{0}\\\\0 & 1 & 0 & 0 & -1 & d_{1} - 2 & d_{1} - 1 & d_{1}\\\\0 & 0 & 1 & 0 & 0 & -1 & -1 & -1\\\\0 & 0 & 0 & 1 & 0 & 1 & 0 & -1\\end{matrix}\\right]$"
      ],
      "text/plain": [
       "Matrix([\n",
       "[1, 0, 0, 0, -1, d0 - 1, d0 - 1, d0],\n",
       "[0, 1, 0, 0, -1, d1 - 2, d1 - 1, d1],\n",
       "[0, 0, 1, 0,  0,     -1,     -1, -1],\n",
       "[0, 0, 0, 1,  0,      1,      0, -1]])"
      ]
     },
     "metadata": {},
     "output_type": "display_data"
    },
    {
     "data": {
      "text/latex": [
       "$\\displaystyle \\left[\\begin{matrix}1 & 0 & 0 & 0 & -1 & -1 & - c_{3} - 1 & 1\\\\0 & 1 & 0 & 0 & -1 & -2 & - 2 c_{3} - 1 & 2\\\\0 & 0 & 1 & 0 & 1 & 1 & c_{3} & -1\\\\0 & 0 & 0 & 1 & 0 & 1 & c_{3} & -1\\end{matrix}\\right]$"
      ],
      "text/plain": [
       "Matrix([\n",
       "[1, 0, 0, 0, -1, -1,   -c3 - 1,  1],\n",
       "[0, 1, 0, 0, -1, -2, -2*c3 - 1,  2],\n",
       "[0, 0, 1, 0,  1,  1,        c3, -1],\n",
       "[0, 0, 0, 1,  0,  1,        c3, -1]])"
      ]
     },
     "metadata": {},
     "output_type": "display_data"
    },
    {
     "data": {
      "text/latex": [
       "$\\displaystyle \\left[\\begin{matrix}1 & 0 & 0 & 0 & -1 & 0 & 0 & 1\\\\0 & 1 & 0 & 0 & -1 & -1 & d_{1} - 1 & d_{1}\\\\0 & 0 & 1 & 0 & 1 & 0 & -1 & -1\\\\0 & 0 & 0 & 1 & 0 & 0 & -1 & -1\\end{matrix}\\right]$"
      ],
      "text/plain": [
       "Matrix([\n",
       "[1, 0, 0, 0, -1,  0,      0,  1],\n",
       "[0, 1, 0, 0, -1, -1, d1 - 1, d1],\n",
       "[0, 0, 1, 0,  1,  0,     -1, -1],\n",
       "[0, 0, 0, 1,  0,  0,     -1, -1]])"
      ]
     },
     "metadata": {},
     "output_type": "display_data"
    },
    {
     "data": {
      "text/latex": [
       "$\\displaystyle \\left[\\begin{matrix}1 & 0 & 0 & 0 & -1 & b_{0} & 0 & 1\\\\0 & 1 & 0 & 0 & -1 & b_{1} & 1 & 2\\\\0 & 0 & 1 & 0 & 1 & - b_{1} - 1 & -1 & -1\\\\0 & 0 & 0 & 1 & 0 & b_{3} & -1 & -1\\end{matrix}\\right]$"
      ],
      "text/plain": [
       "Matrix([\n",
       "[1, 0, 0, 0, -1,      b0,  0,  1],\n",
       "[0, 1, 0, 0, -1,      b1,  1,  2],\n",
       "[0, 0, 1, 0,  1, -b1 - 1, -1, -1],\n",
       "[0, 0, 0, 1,  0,      b3, -1, -1]])"
      ]
     },
     "metadata": {},
     "output_type": "display_data"
    },
    {
     "data": {
      "text/latex": [
       "$\\displaystyle \\left[\\begin{matrix}1 & 0 & 0 & 0 & -1 & - c_{2} - 1 & - c_{2} - 1 & 1\\\\0 & 1 & 0 & 0 & -1 & - c_{2} - 2 & - c_{2} - 1 & 1\\\\0 & 0 & 1 & 0 & 1 & c_{2} + 1 & c_{2} & -1\\\\0 & 0 & 0 & 1 & 0 & c_{3} + 1 & c_{3} & -1\\end{matrix}\\right]$"
      ],
      "text/plain": [
       "Matrix([\n",
       "[1, 0, 0, 0, -1, -c2 - 1, -c2 - 1,  1],\n",
       "[0, 1, 0, 0, -1, -c2 - 2, -c2 - 1,  1],\n",
       "[0, 0, 1, 0,  1,  c2 + 1,      c2, -1],\n",
       "[0, 0, 0, 1,  0,  c3 + 1,      c3, -1]])"
      ]
     },
     "metadata": {},
     "output_type": "display_data"
    },
    {
     "data": {
      "text/latex": [
       "$\\displaystyle \\left[\\begin{matrix}1 & 0 & 0 & 0 & -1 & -1 & -1 & 0\\\\0 & 1 & 0 & 0 & -1 & -2 & -1 & 0\\\\0 & 0 & 1 & 0 & c_{2} + 1 & 2 c_{2} + 1 & c_{2} & -1\\\\0 & 0 & 0 & 1 & c_{3} & 2 c_{3} + 1 & c_{3} & -1\\end{matrix}\\right]$"
      ],
      "text/plain": [
       "Matrix([\n",
       "[1, 0, 0, 0,     -1,       -1, -1,  0],\n",
       "[0, 1, 0, 0,     -1,       -2, -1,  0],\n",
       "[0, 0, 1, 0, c2 + 1, 2*c2 + 1, c2, -1],\n",
       "[0, 0, 0, 1,     c3, 2*c3 + 1, c3, -1]])"
      ]
     },
     "metadata": {},
     "output_type": "display_data"
    },
    {
     "data": {
      "text/latex": [
       "$\\displaystyle \\left[\\begin{matrix}1 & 0 & 0 & 0 & -1 & 0 & 0 & 1\\\\0 & 1 & 0 & 0 & -1 & -1 & 0 & 1\\\\0 & 0 & 1 & 0 & a_{2} & a_{2} - 1 & -1 & -1\\\\0 & 0 & 0 & 1 & 0 & 1 & 0 & -1\\end{matrix}\\right]$"
      ],
      "text/plain": [
       "Matrix([\n",
       "[1, 0, 0, 0, -1,      0,  0,  1],\n",
       "[0, 1, 0, 0, -1,     -1,  0,  1],\n",
       "[0, 0, 1, 0, a2, a2 - 1, -1, -1],\n",
       "[0, 0, 0, 1,  0,      1,  0, -1]])"
      ]
     },
     "metadata": {},
     "output_type": "display_data"
    }
   ],
   "source": [
    "for f in fans_link:\n",
    "    display(f)"
   ]
  },
  {
   "cell_type": "markdown",
   "id": "ff605ab7-f715-404f-810b-92bbab3fc765",
   "metadata": {
    "jp-MarkdownHeadingCollapsed": true
   },
   "source": [
    "# Type 0 of the projection"
   ]
  },
  {
   "cell_type": "code",
   "execution_count": 10,
   "id": "aa377bcd-fa7a-48f6-92c4-ac15a279853d",
   "metadata": {},
   "outputs": [
    {
     "data": {
      "text/latex": [
       "$\\displaystyle \\left[\\begin{matrix}1 & 0 & 0 & 0 & -1 & b_{0} & c_{0} & d_{0}\\\\0 & 1 & 0 & 0 & -1 & b_{1} & c_{1} & d_{1}\\\\0 & 0 & 1 & 0 & a_{2} & b_{2} & c_{2} & -1\\\\0 & 0 & 0 & 1 & a_{3} & b_{3} & c_{3} & -1\\end{matrix}\\right] = \\left[\\begin{matrix}1 & 0 & 0 & 0 & -1 & -1 & -1 & d_{0}\\\\0 & 1 & 0 & 0 & -1 & -2 & -1 & d_{1}\\\\0 & 0 & 1 & 0 & 1 & 1 & 0 & -1\\\\0 & 0 & 0 & 1 & 0 & 1 & 0 & -1\\end{matrix}\\right]$"
      ],
      "text/plain": [
       "Eq(Matrix([\n",
       "[1, 0, 0, 0, -1, b0, c0, d0],\n",
       "[0, 1, 0, 0, -1, b1, c1, d1],\n",
       "[0, 0, 1, 0, a2, b2, c2, -1],\n",
       "[0, 0, 0, 1, a3, b3, c3, -1]]), Matrix([\n",
       "[1, 0, 0, 0, -1, -1, -1, d0],\n",
       "[0, 1, 0, 0, -1, -2, -1, d1],\n",
       "[0, 0, 1, 0,  1,  1,  0, -1],\n",
       "[0, 0, 0, 1,  0,  1,  0, -1]]))"
      ]
     },
     "metadata": {},
     "output_type": "display_data"
    }
   ],
   "source": [
    "C1 = copy.deepcopy(C0)\n",
    "C = C1\n",
    "t=0\n",
    "\n",
    "proj = C.proj([projectied_vertex])\n",
    "with sp.evaluate(False):\n",
    "    display(sp.Eq(proj, fans_link[t]))"
   ]
  },
  {
   "cell_type": "code",
   "execution_count": 11,
   "id": "41ea0310-b5cf-41e4-bb0a-cfb79222eb08",
   "metadata": {},
   "outputs": [
    {
     "data": {
      "text/latex": [
       "$\\displaystyle \\text{True}$"
      ],
      "text/plain": [
       "True"
      ]
     },
     "metadata": {},
     "output_type": "display_data"
    }
   ],
   "source": [
    "C.subs(a2, 1)\n",
    "C.subs(a3, 0)\n",
    "C.subs(b0, -1)\n",
    "C.subs(b1, -2)\n",
    "C.subs(b2, 1)\n",
    "C.subs(b3, 1)\n",
    "C.subs(c0, -1)\n",
    "C.subs(c1, -1)\n",
    "C.subs(c2, 0)\n",
    "C.subs(c3, 0)\n",
    "\n",
    "display(sp.Eq(C.proj([projectied_vertex]), fans_link[t]))"
   ]
  },
  {
   "cell_type": "code",
   "execution_count": 12,
   "id": "4019583a-9beb-4672-8c92-223ddea7e7e6",
   "metadata": {},
   "outputs": [
    {
     "name": "stdout",
     "output_type": "stream",
     "text": [
      "facet number: 3\n"
     ]
    },
    {
     "data": {
      "text/latex": [
       "$\\displaystyle c_{4} = -1$"
      ],
      "text/plain": [
       "Eq(c4, -1)"
      ]
     },
     "metadata": {},
     "output_type": "display_data"
    }
   ],
   "source": [
    "i=3\n",
    "print('facet number:', i)\n",
    "display(sp.Eq(C.determinants[i], C.orientation[i]))\n",
    "\n",
    "C.subs(c4, -1)"
   ]
  },
  {
   "cell_type": "code",
   "execution_count": 13,
   "id": "930211c2-0862-46d0-97a4-ad7a6dec1337",
   "metadata": {},
   "outputs": [
    {
     "name": "stdout",
     "output_type": "stream",
     "text": [
      "facet number: 9\n"
     ]
    },
    {
     "data": {
      "text/latex": [
       "$\\displaystyle 2 a_{4} + 1 = 1$"
      ],
      "text/plain": [
       "Eq(2*a4 + 1, 1)"
      ]
     },
     "metadata": {},
     "output_type": "display_data"
    }
   ],
   "source": [
    "i=9\n",
    "print('facet number:', i)\n",
    "display(sp.Eq(C.determinants[i], C.orientation[i]))\n",
    "\n",
    "C.subs(a4, 0)"
   ]
  },
  {
   "cell_type": "code",
   "execution_count": 14,
   "id": "9248bbd3-13fc-4598-9e80-82e45b9596c3",
   "metadata": {},
   "outputs": [
    {
     "data": {
      "text/latex": [
       "$\\displaystyle \\left[\\begin{matrix}1 & 0 & 0 & 0 & 0 & -1 & -1 & -1 & d_{0}\\\\0 & 1 & 0 & 0 & 0 & -1 & -2 & -1 & d_{1}\\\\0 & 0 & 1 & 0 & 0 & 1 & 1 & 0 & -1\\\\0 & 0 & 0 & 1 & 0 & 0 & 1 & 0 & -1\\\\0 & 0 & 0 & 0 & 1 & 0 & -1 & -1 & d_{4}\\end{matrix}\\right]$"
      ],
      "text/plain": [
       "Matrix([\n",
       "[1, 0, 0, 0, 0, -1, -1, -1, d0],\n",
       "[0, 1, 0, 0, 0, -1, -2, -1, d1],\n",
       "[0, 0, 1, 0, 0,  1,  1,  0, -1],\n",
       "[0, 0, 0, 1, 0,  0,  1,  0, -1],\n",
       "[0, 0, 0, 0, 1,  0, -1, -1, d4]])"
      ]
     },
     "metadata": {},
     "output_type": "display_data"
    },
    {
     "name": "stdout",
     "output_type": "stream",
     "text": [
      "1\n"
     ]
    }
   ],
   "source": [
    "display(C.char)\n",
    "print(C.is_fangiving)\n",
    "fans.append(C.char)"
   ]
  },
  {
   "cell_type": "markdown",
   "id": "a7d16530-a1e4-4d26-8520-a6500c55086a",
   "metadata": {
    "jp-MarkdownHeadingCollapsed": true
   },
   "source": [
    "# Type 1 of the projection"
   ]
  },
  {
   "cell_type": "code",
   "execution_count": 15,
   "id": "fe961236-6c80-4a69-9c7c-3233152f28f2",
   "metadata": {},
   "outputs": [
    {
     "data": {
      "text/latex": [
       "$\\displaystyle \\left[\\begin{matrix}1 & 0 & 0 & 0 & -1 & b_{0} & c_{0} & d_{0}\\\\0 & 1 & 0 & 0 & -1 & b_{1} & c_{1} & d_{1}\\\\0 & 0 & 1 & 0 & a_{2} & b_{2} & c_{2} & -1\\\\0 & 0 & 0 & 1 & a_{3} & b_{3} & c_{3} & -1\\end{matrix}\\right] = \\left[\\begin{matrix}1 & 0 & 0 & 0 & -1 & d_{0} - 1 & d_{0} - 1 & d_{0}\\\\0 & 1 & 0 & 0 & -1 & d_{1} - 2 & d_{1} - 1 & d_{1}\\\\0 & 0 & 1 & 0 & 0 & -1 & -1 & -1\\\\0 & 0 & 0 & 1 & 0 & 1 & 0 & -1\\end{matrix}\\right]$"
      ],
      "text/plain": [
       "Eq(Matrix([\n",
       "[1, 0, 0, 0, -1, b0, c0, d0],\n",
       "[0, 1, 0, 0, -1, b1, c1, d1],\n",
       "[0, 0, 1, 0, a2, b2, c2, -1],\n",
       "[0, 0, 0, 1, a3, b3, c3, -1]]), Matrix([\n",
       "[1, 0, 0, 0, -1, d0 - 1, d0 - 1, d0],\n",
       "[0, 1, 0, 0, -1, d1 - 2, d1 - 1, d1],\n",
       "[0, 0, 1, 0,  0,     -1,     -1, -1],\n",
       "[0, 0, 0, 1,  0,      1,      0, -1]]))"
      ]
     },
     "metadata": {},
     "output_type": "display_data"
    }
   ],
   "source": [
    "C1 = copy.deepcopy(C0)\n",
    "C = C1\n",
    "t=1\n",
    "\n",
    "proj = C.proj([projectied_vertex])\n",
    "with sp.evaluate(False):\n",
    "    display(sp.Eq(proj, fans_link[t]))"
   ]
  },
  {
   "cell_type": "code",
   "execution_count": 16,
   "id": "c71a6d90-5c7a-414b-96e8-192636b247ce",
   "metadata": {},
   "outputs": [
    {
     "data": {
      "text/latex": [
       "$\\displaystyle \\text{True}$"
      ],
      "text/plain": [
       "True"
      ]
     },
     "metadata": {},
     "output_type": "display_data"
    }
   ],
   "source": [
    "C.subs(a2, 0)\n",
    "C.subs(a3, 0)\n",
    "C.subs(b0, d0-1)\n",
    "C.subs(b1, d1-2)\n",
    "C.subs(b2, -1)\n",
    "C.subs(b3, 1)\n",
    "C.subs(c0, d0-1)\n",
    "C.subs(c1, d1-1)\n",
    "C.subs(c2, -1)\n",
    "C.subs(c3, 0)\n",
    "\n",
    "display(sp.Eq(C.proj([projectied_vertex]), fans_link[t]))"
   ]
  },
  {
   "cell_type": "code",
   "execution_count": 17,
   "id": "6bc70476-43f2-448a-803a-4906a9ed882a",
   "metadata": {},
   "outputs": [
    {
     "name": "stdout",
     "output_type": "stream",
     "text": [
      "facet number: 3\n"
     ]
    },
    {
     "data": {
      "text/latex": [
       "$\\displaystyle c_{4} = -1$"
      ],
      "text/plain": [
       "Eq(c4, -1)"
      ]
     },
     "metadata": {},
     "output_type": "display_data"
    },
    {
     "name": "stdout",
     "output_type": "stream",
     "text": [
      "facet number: 6\n"
     ]
    },
    {
     "data": {
      "text/latex": [
       "$\\displaystyle c_{4} + 1 = 1$"
      ],
      "text/plain": [
       "Eq(c4 + 1, 1)"
      ]
     },
     "metadata": {},
     "output_type": "display_data"
    },
    {
     "name": "stdout",
     "output_type": "stream",
     "text": [
      "no solution\n"
     ]
    }
   ],
   "source": [
    "i=3\n",
    "print('facet number:', i)\n",
    "display(sp.Eq(C.determinants[i], C.orientation[i]))\n",
    "\n",
    "i=6\n",
    "print('facet number:', i)\n",
    "display(sp.Eq(C.determinants[i], C.orientation[i]))\n",
    "\n",
    "print('no solution')"
   ]
  },
  {
   "cell_type": "markdown",
   "id": "869f5253-4188-4f1e-aa2c-e119083ed1f1",
   "metadata": {
    "jp-MarkdownHeadingCollapsed": true
   },
   "source": [
    "# Type 2 of the projection"
   ]
  },
  {
   "cell_type": "code",
   "execution_count": 18,
   "id": "81b9bb5b-3021-432f-9a90-8cf18d41424e",
   "metadata": {},
   "outputs": [
    {
     "data": {
      "text/latex": [
       "$\\displaystyle \\left[\\begin{matrix}1 & 0 & 0 & 0 & -1 & b_{0} & c_{0} & d_{0}\\\\0 & 1 & 0 & 0 & -1 & b_{1} & c_{1} & d_{1}\\\\0 & 0 & 1 & 0 & a_{2} & b_{2} & c_{2} & -1\\\\0 & 0 & 0 & 1 & a_{3} & b_{3} & c_{3} & -1\\end{matrix}\\right] = \\left[\\begin{matrix}1 & 0 & 0 & 0 & -1 & -1 & - c_{3} - 1 & 1\\\\0 & 1 & 0 & 0 & -1 & -2 & - 2 c_{3} - 1 & 2\\\\0 & 0 & 1 & 0 & 1 & 1 & c_{3} & -1\\\\0 & 0 & 0 & 1 & 0 & 1 & c_{3} & -1\\end{matrix}\\right]$"
      ],
      "text/plain": [
       "Eq(Matrix([\n",
       "[1, 0, 0, 0, -1, b0, c0, d0],\n",
       "[0, 1, 0, 0, -1, b1, c1, d1],\n",
       "[0, 0, 1, 0, a2, b2, c2, -1],\n",
       "[0, 0, 0, 1, a3, b3, c3, -1]]), Matrix([\n",
       "[1, 0, 0, 0, -1, -1,   -c3 - 1,  1],\n",
       "[0, 1, 0, 0, -1, -2, -2*c3 - 1,  2],\n",
       "[0, 0, 1, 0,  1,  1,        c3, -1],\n",
       "[0, 0, 0, 1,  0,  1,        c3, -1]]))"
      ]
     },
     "metadata": {},
     "output_type": "display_data"
    }
   ],
   "source": [
    "C1 = copy.deepcopy(C0)\n",
    "C = C1\n",
    "t=2\n",
    "\n",
    "proj = C.proj([projectied_vertex])\n",
    "with sp.evaluate(False):\n",
    "    display(sp.Eq(proj, fans_link[t]))"
   ]
  },
  {
   "cell_type": "code",
   "execution_count": 19,
   "id": "06d39136-1ec1-40d2-80bf-88cdd897dc89",
   "metadata": {},
   "outputs": [
    {
     "data": {
      "text/latex": [
       "$\\displaystyle \\text{True}$"
      ],
      "text/plain": [
       "True"
      ]
     },
     "metadata": {},
     "output_type": "display_data"
    }
   ],
   "source": [
    "C.subs(a2, 1)\n",
    "C.subs(a3, 0)\n",
    "C.subs(b0, -1)\n",
    "C.subs(b1, -2)\n",
    "C.subs(b2, 1)\n",
    "C.subs(b3, 1)\n",
    "C.subs(c0, -c3-1)\n",
    "C.subs(c1, -2*c3-1)\n",
    "C.subs(c2, c3)\n",
    "C.subs(d0, 1)\n",
    "C.subs(d1, 2)\n",
    "\n",
    "display(sp.Eq(C.proj([projectied_vertex]), fans_link[t]))"
   ]
  },
  {
   "cell_type": "code",
   "execution_count": 20,
   "id": "ea487863-d266-488d-a39f-c7997450891c",
   "metadata": {},
   "outputs": [
    {
     "name": "stdout",
     "output_type": "stream",
     "text": [
      "facet number: 9\n"
     ]
    },
    {
     "data": {
      "text/latex": [
       "$\\displaystyle 2 a_{4} + 1 = 1$"
      ],
      "text/plain": [
       "Eq(2*a4 + 1, 1)"
      ]
     },
     "metadata": {},
     "output_type": "display_data"
    }
   ],
   "source": [
    "i=9\n",
    "print('facet number:', i)\n",
    "display(sp.Eq(C.determinants[i], C.orientation[i]))\n",
    "\n",
    "C.subs(a4, 0)"
   ]
  },
  {
   "cell_type": "code",
   "execution_count": 21,
   "id": "9513d9ee-4bd6-47d6-8e66-d8394fd98519",
   "metadata": {},
   "outputs": [
    {
     "name": "stdout",
     "output_type": "stream",
     "text": [
      "facet number: 3\n"
     ]
    },
    {
     "data": {
      "text/latex": [
       "$\\displaystyle c_{3} + c_{4} = -1$"
      ],
      "text/plain": [
       "Eq(c3 + c4, -1)"
      ]
     },
     "metadata": {},
     "output_type": "display_data"
    }
   ],
   "source": [
    "i=3\n",
    "print('facet number:', i)\n",
    "display(sp.Eq(C.determinants[i], C.orientation[i]))\n",
    "\n",
    "C.subs(c4, -c3-1)"
   ]
  },
  {
   "cell_type": "code",
   "execution_count": 22,
   "id": "8accaad0-bc69-441c-b36f-c0a6be40663b",
   "metadata": {},
   "outputs": [
    {
     "name": "stdout",
     "output_type": "stream",
     "text": [
      "facet number: 3\n"
     ]
    },
    {
     "data": {
      "text/latex": [
       "$\\displaystyle \\text{True}$"
      ],
      "text/plain": [
       "True"
      ]
     },
     "metadata": {},
     "output_type": "display_data"
    }
   ],
   "source": [
    "i=3\n",
    "print('facet number:', i)\n",
    "display(sp.Eq(C.determinants[i], C.orientation[i]))\n",
    "\n",
    "C.subs(c4, -c3-1)"
   ]
  },
  {
   "cell_type": "code",
   "execution_count": 23,
   "id": "810b1e35-9f6b-49a2-b066-1363a7999630",
   "metadata": {},
   "outputs": [
    {
     "name": "stdout",
     "output_type": "stream",
     "text": [
      "facet number: 4\n"
     ]
    },
    {
     "data": {
      "text/latex": [
       "$\\displaystyle c_{3} d_{4} - c_{3} - 1 = -1$"
      ],
      "text/plain": [
       "Eq(c3*d4 - c3 - 1, -1)"
      ]
     },
     "metadata": {},
     "output_type": "display_data"
    },
    {
     "name": "stdout",
     "output_type": "stream",
     "text": [
      "c3=0 => type 0\n"
     ]
    }
   ],
   "source": [
    "i=4\n",
    "print('facet number:', i)\n",
    "display(sp.Eq(C.determinants[i], C.orientation[i]))\n",
    "\n",
    "print('c3=0 => type 0')\n",
    "C.subs(d4, 1)"
   ]
  },
  {
   "cell_type": "code",
   "execution_count": 24,
   "id": "c6b39cf4-a435-454a-9bb9-ad11b6ea25b5",
   "metadata": {},
   "outputs": [
    {
     "data": {
      "text/latex": [
       "$\\displaystyle \\left[\\begin{matrix}1 & 0 & 0 & 0 & 0 & -1 & -1 & - c_{3} - 1 & 1\\\\0 & 1 & 0 & 0 & 0 & -1 & -2 & - 2 c_{3} - 1 & 2\\\\0 & 0 & 1 & 0 & 0 & 1 & 1 & c_{3} & -1\\\\0 & 0 & 0 & 1 & 0 & 0 & 1 & c_{3} & -1\\\\0 & 0 & 0 & 0 & 1 & 0 & -1 & - c_{3} - 1 & 1\\end{matrix}\\right]$"
      ],
      "text/plain": [
       "Matrix([\n",
       "[1, 0, 0, 0, 0, -1, -1,   -c3 - 1,  1],\n",
       "[0, 1, 0, 0, 0, -1, -2, -2*c3 - 1,  2],\n",
       "[0, 0, 1, 0, 0,  1,  1,        c3, -1],\n",
       "[0, 0, 0, 1, 0,  0,  1,        c3, -1],\n",
       "[0, 0, 0, 0, 1,  0, -1,   -c3 - 1,  1]])"
      ]
     },
     "metadata": {},
     "output_type": "display_data"
    },
    {
     "name": "stdout",
     "output_type": "stream",
     "text": [
      "1\n"
     ]
    }
   ],
   "source": [
    "display(C.char)\n",
    "print(C.is_fangiving)\n",
    "fans.append(C.char)"
   ]
  },
  {
   "cell_type": "markdown",
   "id": "f157ad45-0ad0-4178-895f-62f20e0e597a",
   "metadata": {
    "jp-MarkdownHeadingCollapsed": true
   },
   "source": [
    "# Type 3 of the projection"
   ]
  },
  {
   "cell_type": "code",
   "execution_count": 25,
   "id": "47954903-6c06-4003-9d5d-f7696a041b2c",
   "metadata": {},
   "outputs": [
    {
     "data": {
      "text/latex": [
       "$\\displaystyle \\left[\\begin{matrix}1 & 0 & 0 & 0 & -1 & b_{0} & c_{0} & d_{0}\\\\0 & 1 & 0 & 0 & -1 & b_{1} & c_{1} & d_{1}\\\\0 & 0 & 1 & 0 & a_{2} & b_{2} & c_{2} & -1\\\\0 & 0 & 0 & 1 & a_{3} & b_{3} & c_{3} & -1\\end{matrix}\\right] = \\left[\\begin{matrix}1 & 0 & 0 & 0 & -1 & 0 & 0 & 1\\\\0 & 1 & 0 & 0 & -1 & -1 & d_{1} - 1 & d_{1}\\\\0 & 0 & 1 & 0 & 1 & 0 & -1 & -1\\\\0 & 0 & 0 & 1 & 0 & 0 & -1 & -1\\end{matrix}\\right]$"
      ],
      "text/plain": [
       "Eq(Matrix([\n",
       "[1, 0, 0, 0, -1, b0, c0, d0],\n",
       "[0, 1, 0, 0, -1, b1, c1, d1],\n",
       "[0, 0, 1, 0, a2, b2, c2, -1],\n",
       "[0, 0, 0, 1, a3, b3, c3, -1]]), Matrix([\n",
       "[1, 0, 0, 0, -1,  0,      0,  1],\n",
       "[0, 1, 0, 0, -1, -1, d1 - 1, d1],\n",
       "[0, 0, 1, 0,  1,  0,     -1, -1],\n",
       "[0, 0, 0, 1,  0,  0,     -1, -1]]))"
      ]
     },
     "metadata": {},
     "output_type": "display_data"
    }
   ],
   "source": [
    "C1 = copy.deepcopy(C0)\n",
    "C = C1\n",
    "t=3\n",
    "\n",
    "proj = C.proj([projectied_vertex])\n",
    "with sp.evaluate(False):\n",
    "    display(sp.Eq(proj, fans_link[t]))"
   ]
  },
  {
   "cell_type": "code",
   "execution_count": 26,
   "id": "cabedb40-0c21-4446-bed6-6540a9c83d28",
   "metadata": {},
   "outputs": [
    {
     "data": {
      "text/latex": [
       "$\\displaystyle \\text{True}$"
      ],
      "text/plain": [
       "True"
      ]
     },
     "metadata": {},
     "output_type": "display_data"
    }
   ],
   "source": [
    "C.subs(a2, 1)\n",
    "C.subs(a3, 0)\n",
    "C.subs(b0, 0)\n",
    "C.subs(b1, -1)\n",
    "C.subs(b2, 0)\n",
    "C.subs(b3, 0)\n",
    "C.subs(c0, 0)\n",
    "C.subs(c1, d1-1)\n",
    "C.subs(c2, -1)\n",
    "C.subs(c3, -1)\n",
    "C.subs(d0, 1)\n",
    "\n",
    "display(sp.Eq(C.proj([projectied_vertex]), fans_link[t]))"
   ]
  },
  {
   "cell_type": "code",
   "execution_count": 27,
   "id": "cd49a829-8096-4365-aa05-80e66870d8c6",
   "metadata": {},
   "outputs": [
    {
     "name": "stdout",
     "output_type": "stream",
     "text": [
      "facet number: 9\n"
     ]
    },
    {
     "data": {
      "text/latex": [
       "$\\displaystyle a_{4} + 1 = 1$"
      ],
      "text/plain": [
       "Eq(a4 + 1, 1)"
      ]
     },
     "metadata": {},
     "output_type": "display_data"
    }
   ],
   "source": [
    "i=9\n",
    "print('facet number:', i)\n",
    "display(sp.Eq(C.determinants[i], C.orientation[i]))\n",
    "\n",
    "C.subs(a4, 0)"
   ]
  },
  {
   "cell_type": "code",
   "execution_count": 28,
   "id": "7eb3617e-3965-445d-b243-53ff701c07cc",
   "metadata": {},
   "outputs": [
    {
     "name": "stdout",
     "output_type": "stream",
     "text": [
      "facet number: 4\n"
     ]
    },
    {
     "data": {
      "text/latex": [
       "$\\displaystyle c_{4} - d_{4} = -1$"
      ],
      "text/plain": [
       "Eq(c4 - d4, -1)"
      ]
     },
     "metadata": {},
     "output_type": "display_data"
    }
   ],
   "source": [
    "i=4\n",
    "print('facet number:', i)\n",
    "display(sp.Eq(C.determinants[i], C.orientation[i]))\n",
    "\n",
    "C.subs(c4, d4-1)"
   ]
  },
  {
   "cell_type": "code",
   "execution_count": 29,
   "id": "312963d9-8b1e-46be-9e44-333b9b0c9d9d",
   "metadata": {},
   "outputs": [
    {
     "data": {
      "text/latex": [
       "$\\displaystyle \\left[\\begin{matrix}1 & 0 & 0 & 0 & 0 & -1 & 0 & 0 & 1\\\\0 & 1 & 0 & 0 & 0 & -1 & -1 & d_{1} - 1 & d_{1}\\\\0 & 0 & 1 & 0 & 0 & 1 & 0 & -1 & -1\\\\0 & 0 & 0 & 1 & 0 & 0 & 0 & -1 & -1\\\\0 & 0 & 0 & 0 & 1 & 0 & -1 & d_{4} - 1 & d_{4}\\end{matrix}\\right]$"
      ],
      "text/plain": [
       "Matrix([\n",
       "[1, 0, 0, 0, 0, -1,  0,      0,  1],\n",
       "[0, 1, 0, 0, 0, -1, -1, d1 - 1, d1],\n",
       "[0, 0, 1, 0, 0,  1,  0,     -1, -1],\n",
       "[0, 0, 0, 1, 0,  0,  0,     -1, -1],\n",
       "[0, 0, 0, 0, 1,  0, -1, d4 - 1, d4]])"
      ]
     },
     "metadata": {},
     "output_type": "display_data"
    },
    {
     "name": "stdout",
     "output_type": "stream",
     "text": [
      "1\n"
     ]
    }
   ],
   "source": [
    "display(C.char)\n",
    "print(C.is_fangiving)\n",
    "fans.append(C.char)"
   ]
  },
  {
   "cell_type": "markdown",
   "id": "8ab52fdb-bc4c-4dda-b92f-0a47dd32949d",
   "metadata": {
    "jp-MarkdownHeadingCollapsed": true
   },
   "source": [
    "# Type 4 of the projection"
   ]
  },
  {
   "cell_type": "code",
   "execution_count": 30,
   "id": "e5fe9134-df6a-4757-9aca-11bec84d13eb",
   "metadata": {},
   "outputs": [
    {
     "data": {
      "text/latex": [
       "$\\displaystyle \\left[\\begin{matrix}1 & 0 & 0 & 0 & -1 & b_{0} & c_{0} & d_{0}\\\\0 & 1 & 0 & 0 & -1 & b_{1} & c_{1} & d_{1}\\\\0 & 0 & 1 & 0 & a_{2} & b_{2} & c_{2} & -1\\\\0 & 0 & 0 & 1 & a_{3} & b_{3} & c_{3} & -1\\end{matrix}\\right] = \\left[\\begin{matrix}1 & 0 & 0 & 0 & -1 & b_{0} & 0 & 1\\\\0 & 1 & 0 & 0 & -1 & b_{1} & 1 & 2\\\\0 & 0 & 1 & 0 & 1 & - b_{1} - 1 & -1 & -1\\\\0 & 0 & 0 & 1 & 0 & b_{3} & -1 & -1\\end{matrix}\\right]$"
      ],
      "text/plain": [
       "Eq(Matrix([\n",
       "[1, 0, 0, 0, -1, b0, c0, d0],\n",
       "[0, 1, 0, 0, -1, b1, c1, d1],\n",
       "[0, 0, 1, 0, a2, b2, c2, -1],\n",
       "[0, 0, 0, 1, a3, b3, c3, -1]]), Matrix([\n",
       "[1, 0, 0, 0, -1,      b0,  0,  1],\n",
       "[0, 1, 0, 0, -1,      b1,  1,  2],\n",
       "[0, 0, 1, 0,  1, -b1 - 1, -1, -1],\n",
       "[0, 0, 0, 1,  0,      b3, -1, -1]]))"
      ]
     },
     "metadata": {},
     "output_type": "display_data"
    }
   ],
   "source": [
    "C1 = copy.deepcopy(C0)\n",
    "C = C1\n",
    "t=4\n",
    "\n",
    "proj = C.proj([projectied_vertex])\n",
    "with sp.evaluate(False):\n",
    "    display(sp.Eq(proj, fans_link[t]))"
   ]
  },
  {
   "cell_type": "code",
   "execution_count": 31,
   "id": "5fc42593-d485-4a28-83a4-49eb08a291bb",
   "metadata": {},
   "outputs": [
    {
     "data": {
      "text/latex": [
       "$\\displaystyle \\text{True}$"
      ],
      "text/plain": [
       "True"
      ]
     },
     "metadata": {},
     "output_type": "display_data"
    }
   ],
   "source": [
    "C.subs(a2, 1)\n",
    "C.subs(a3, 0)\n",
    "C.subs(b2, -b1-1)\n",
    "C.subs(c0, 0)\n",
    "C.subs(c1, 1)\n",
    "C.subs(c2, -1)\n",
    "C.subs(c3, -1)\n",
    "C.subs(d0, 1)\n",
    "C.subs(d1, 2)\n",
    "\n",
    "display(sp.Eq(C.proj([projectied_vertex]), fans_link[t]))"
   ]
  },
  {
   "cell_type": "code",
   "execution_count": 32,
   "id": "50692365-6f6c-4a2f-a785-488122b3b354",
   "metadata": {},
   "outputs": [
    {
     "name": "stdout",
     "output_type": "stream",
     "text": [
      "facet number: 4\n"
     ]
    },
    {
     "data": {
      "text/latex": [
       "$\\displaystyle c_{4} - d_{4} = -1$"
      ],
      "text/plain": [
       "Eq(c4 - d4, -1)"
      ]
     },
     "metadata": {},
     "output_type": "display_data"
    }
   ],
   "source": [
    "i=4\n",
    "print('facet number:', i)\n",
    "display(sp.Eq(C.determinants[i], C.orientation[i]))\n",
    "\n",
    "C.subs(d4, c4+1)"
   ]
  },
  {
   "cell_type": "code",
   "execution_count": 33,
   "id": "40f67ee9-d94d-4ce6-a296-dbb3f506bbc9",
   "metadata": {},
   "outputs": [
    {
     "name": "stdout",
     "output_type": "stream",
     "text": [
      "facet number: 22\n"
     ]
    },
    {
     "data": {
      "text/latex": [
       "$\\displaystyle a_{4} + 1 = 1$"
      ],
      "text/plain": [
       "Eq(a4 + 1, 1)"
      ]
     },
     "metadata": {},
     "output_type": "display_data"
    }
   ],
   "source": [
    "i=22\n",
    "print('facet number:', i)\n",
    "display(sp.Eq(C.determinants[i], C.orientation[i]))\n",
    "\n",
    "C.subs(a4, 0)"
   ]
  },
  {
   "cell_type": "code",
   "execution_count": 34,
   "id": "d2ab2ce1-74fc-4a42-8445-47f16c168904",
   "metadata": {},
   "outputs": [
    {
     "name": "stdout",
     "output_type": "stream",
     "text": [
      "facet number: 3\n"
     ]
    },
    {
     "data": {
      "text/latex": [
       "$\\displaystyle b_{3} c_{4} - 1 = -1$"
      ],
      "text/plain": [
       "Eq(b3*c4 - 1, -1)"
      ]
     },
     "metadata": {},
     "output_type": "display_data"
    }
   ],
   "source": [
    "i=3\n",
    "print('facet number:', i)\n",
    "display(sp.Eq(C.determinants[i], C.orientation[i]))"
   ]
  },
  {
   "cell_type": "markdown",
   "id": "41266dda-1e05-4c1a-bd32-1f4d49ef4769",
   "metadata": {
    "jp-MarkdownHeadingCollapsed": true
   },
   "source": [
    "## $c_4=0$"
   ]
  },
  {
   "cell_type": "code",
   "execution_count": 35,
   "id": "b059cd02-f4e0-4e7e-a63d-c5834f09b415",
   "metadata": {},
   "outputs": [],
   "source": [
    "C2 = copy.deepcopy(C1)\n",
    "C = C2\n",
    "C.subs(c4, 0)"
   ]
  },
  {
   "cell_type": "code",
   "execution_count": 36,
   "id": "e3805066-5326-47a5-9474-d8efafb1c3bb",
   "metadata": {},
   "outputs": [
    {
     "data": {
      "text/latex": [
       "$\\displaystyle \\left[\\begin{matrix}1 & 0 & 0 & 0 & 0 & -1 & b_{0} & 0 & 1\\\\0 & 1 & 0 & 0 & 0 & -1 & b_{1} & 1 & 2\\\\0 & 0 & 1 & 0 & 0 & 1 & - b_{1} - 1 & -1 & -1\\\\0 & 0 & 0 & 1 & 0 & 0 & b_{3} & -1 & -1\\\\0 & 0 & 0 & 0 & 1 & 0 & -1 & 0 & 1\\end{matrix}\\right]$"
      ],
      "text/plain": [
       "Matrix([\n",
       "[1, 0, 0, 0, 0, -1,      b0,  0,  1],\n",
       "[0, 1, 0, 0, 0, -1,      b1,  1,  2],\n",
       "[0, 0, 1, 0, 0,  1, -b1 - 1, -1, -1],\n",
       "[0, 0, 0, 1, 0,  0,      b3, -1, -1],\n",
       "[0, 0, 0, 0, 1,  0,      -1,  0,  1]])"
      ]
     },
     "metadata": {},
     "output_type": "display_data"
    },
    {
     "name": "stdout",
     "output_type": "stream",
     "text": [
      "1\n"
     ]
    }
   ],
   "source": [
    "display(C.char)\n",
    "print(C.is_fangiving)\n",
    "fans.append(C.char)"
   ]
  },
  {
   "cell_type": "markdown",
   "id": "baab33d5-464e-4291-8212-fd9a6d3442cc",
   "metadata": {
    "jp-MarkdownHeadingCollapsed": true
   },
   "source": [
    "## $b_3=0$ ($c_4 \\not= 0$)"
   ]
  },
  {
   "cell_type": "code",
   "execution_count": 37,
   "id": "aacd1a19-bb86-46dc-83fc-9ecf43d9666a",
   "metadata": {},
   "outputs": [],
   "source": [
    "C2 = copy.deepcopy(C1)\n",
    "C = C2\n",
    "C.subs(b3, 0)"
   ]
  },
  {
   "cell_type": "code",
   "execution_count": 38,
   "id": "58fa59ea-bd53-4a71-86f6-497d60692867",
   "metadata": {},
   "outputs": [
    {
     "name": "stdout",
     "output_type": "stream",
     "text": [
      "facet number: 6\n"
     ]
    },
    {
     "data": {
      "text/latex": [
       "$\\displaystyle b_{1} c_{4} + c_{4} + 1 = 1$"
      ],
      "text/plain": [
       "Eq(b1*c4 + c4 + 1, 1)"
      ]
     },
     "metadata": {},
     "output_type": "display_data"
    }
   ],
   "source": [
    "i=6\n",
    "print('facet number:', i)\n",
    "display(sp.Eq(C.determinants[i], C.orientation[i]))\n",
    "\n",
    "C.subs(b1, -1)"
   ]
  },
  {
   "cell_type": "code",
   "execution_count": 39,
   "id": "34b82591-70ea-4e43-8261-c9e4e755a45b",
   "metadata": {},
   "outputs": [
    {
     "name": "stdout",
     "output_type": "stream",
     "text": [
      "facet number: 25\n"
     ]
    },
    {
     "data": {
      "text/latex": [
       "$\\displaystyle b_{0} c_{4} - 1 = -1$"
      ],
      "text/plain": [
       "Eq(b0*c4 - 1, -1)"
      ]
     },
     "metadata": {},
     "output_type": "display_data"
    },
    {
     "name": "stdout",
     "output_type": "stream",
     "text": [
      "b0=0, b1=-1,b3=0 => type 3\n"
     ]
    }
   ],
   "source": [
    "i=25\n",
    "print('facet number:', i)\n",
    "display(sp.Eq(C.determinants[i], C.orientation[i]))\n",
    "\n",
    "print('b0=0, b1=-1,b3=0 => type 3')"
   ]
  },
  {
   "cell_type": "markdown",
   "id": "57001740-048a-4cbb-bd6b-6092144394f6",
   "metadata": {
    "jp-MarkdownHeadingCollapsed": true
   },
   "source": [
    "# Type 5 of the projection"
   ]
  },
  {
   "cell_type": "code",
   "execution_count": 40,
   "id": "1402029f-d56d-4b42-b109-f58e1fa50ec3",
   "metadata": {},
   "outputs": [
    {
     "data": {
      "text/latex": [
       "$\\displaystyle \\left[\\begin{matrix}1 & 0 & 0 & 0 & -1 & b_{0} & c_{0} & d_{0}\\\\0 & 1 & 0 & 0 & -1 & b_{1} & c_{1} & d_{1}\\\\0 & 0 & 1 & 0 & a_{2} & b_{2} & c_{2} & -1\\\\0 & 0 & 0 & 1 & a_{3} & b_{3} & c_{3} & -1\\end{matrix}\\right] = \\left[\\begin{matrix}1 & 0 & 0 & 0 & -1 & - c_{2} - 1 & - c_{2} - 1 & 1\\\\0 & 1 & 0 & 0 & -1 & - c_{2} - 2 & - c_{2} - 1 & 1\\\\0 & 0 & 1 & 0 & 1 & c_{2} + 1 & c_{2} & -1\\\\0 & 0 & 0 & 1 & 0 & c_{3} + 1 & c_{3} & -1\\end{matrix}\\right]$"
      ],
      "text/plain": [
       "Eq(Matrix([\n",
       "[1, 0, 0, 0, -1, b0, c0, d0],\n",
       "[0, 1, 0, 0, -1, b1, c1, d1],\n",
       "[0, 0, 1, 0, a2, b2, c2, -1],\n",
       "[0, 0, 0, 1, a3, b3, c3, -1]]), Matrix([\n",
       "[1, 0, 0, 0, -1, -c2 - 1, -c2 - 1,  1],\n",
       "[0, 1, 0, 0, -1, -c2 - 2, -c2 - 1,  1],\n",
       "[0, 0, 1, 0,  1,  c2 + 1,      c2, -1],\n",
       "[0, 0, 0, 1,  0,  c3 + 1,      c3, -1]]))"
      ]
     },
     "metadata": {},
     "output_type": "display_data"
    }
   ],
   "source": [
    "C1 = copy.deepcopy(C0)\n",
    "C = C1\n",
    "t=5\n",
    "\n",
    "proj = C.proj([projectied_vertex])\n",
    "with sp.evaluate(False):\n",
    "    display(sp.Eq(proj, fans_link[t]))"
   ]
  },
  {
   "cell_type": "code",
   "execution_count": 41,
   "id": "44acf204-8386-4c93-b09d-048436b5bed1",
   "metadata": {},
   "outputs": [
    {
     "data": {
      "text/latex": [
       "$\\displaystyle \\text{True}$"
      ],
      "text/plain": [
       "True"
      ]
     },
     "metadata": {},
     "output_type": "display_data"
    }
   ],
   "source": [
    "C.subs(a2, 1)\n",
    "C.subs(a3, 0)\n",
    "C.subs(b0, -c2-1)\n",
    "C.subs(b1, -c2-2)\n",
    "C.subs(b2, c2+1)\n",
    "C.subs(b3, c3+1)\n",
    "C.subs(c0, -c2-1)\n",
    "C.subs(c1, -c2-1)\n",
    "C.subs(d0, 1)\n",
    "C.subs(d1, 1)\n",
    "\n",
    "display(sp.Eq(C.proj([projectied_vertex]), fans_link[t]))"
   ]
  },
  {
   "cell_type": "code",
   "execution_count": 42,
   "id": "6086cb94-02c4-4191-8680-c8a85764d5ac",
   "metadata": {},
   "outputs": [
    {
     "name": "stdout",
     "output_type": "stream",
     "text": [
      "facet number: 3\n"
     ]
    },
    {
     "data": {
      "text/latex": [
       "$\\displaystyle c_{3} c_{4} + c_{3} + c_{4} = -1$"
      ],
      "text/plain": [
       "Eq(c3*c4 + c3 + c4, -1)"
      ]
     },
     "metadata": {},
     "output_type": "display_data"
    },
    {
     "data": {
      "text/latex": [
       "$\\displaystyle \\left(c_{3} + 1\\right) \\left(c_{4} + 1\\right) = 0$"
      ],
      "text/plain": [
       "Eq((c3 + 1)*(c4 + 1), 0)"
      ]
     },
     "metadata": {},
     "output_type": "display_data"
    }
   ],
   "source": [
    "i=3\n",
    "print('facet number:', i)\n",
    "display(sp.Eq(C.determinants[i], C.orientation[i]))\n",
    "display(sp.Eq((c3+1)*(c4+1), 0))"
   ]
  },
  {
   "cell_type": "markdown",
   "id": "cac2139a-d06c-4c9a-b27a-e60471c2929e",
   "metadata": {
    "jp-MarkdownHeadingCollapsed": true
   },
   "source": [
    "## $c_4=-1$"
   ]
  },
  {
   "cell_type": "code",
   "execution_count": 43,
   "id": "2f1ba763-3205-4a01-9d46-eeeb15392767",
   "metadata": {},
   "outputs": [],
   "source": [
    "C2 = copy.deepcopy(C1)\n",
    "C = C2\n",
    "C.subs(c4, -1)"
   ]
  },
  {
   "cell_type": "code",
   "execution_count": 44,
   "id": "a711e932-0efb-4d11-b150-218914df5849",
   "metadata": {},
   "outputs": [
    {
     "name": "stdout",
     "output_type": "stream",
     "text": [
      "facet number: 4\n"
     ]
    },
    {
     "data": {
      "text/latex": [
       "$\\displaystyle c_{3} d_{4} - 1 = -1$"
      ],
      "text/plain": [
       "Eq(c3*d4 - 1, -1)"
      ]
     },
     "metadata": {},
     "output_type": "display_data"
    },
    {
     "name": "stdout",
     "output_type": "stream",
     "text": [
      "facet number: 7\n"
     ]
    },
    {
     "data": {
      "text/latex": [
       "$\\displaystyle - c_{2} d_{4} + 1 = 1$"
      ],
      "text/plain": [
       "Eq(-c2*d4 + 1, 1)"
      ]
     },
     "metadata": {},
     "output_type": "display_data"
    },
    {
     "name": "stdout",
     "output_type": "stream",
     "text": [
      "d4!=0 => c2=c3=0 => type 0\n"
     ]
    }
   ],
   "source": [
    "i=4\n",
    "print('facet number:', i)\n",
    "display(sp.Eq(C.determinants[i], C.orientation[i]))\n",
    "\n",
    "i=7\n",
    "print('facet number:', i)\n",
    "display(sp.Eq(C.determinants[i], C.orientation[i]))\n",
    "\n",
    "print('d4!=0 => c2=c3=0 => type 0')\n",
    "C.subs(d4, 0)"
   ]
  },
  {
   "cell_type": "code",
   "execution_count": 45,
   "id": "24b0160b-a141-461f-a82a-1eb47ea44a1a",
   "metadata": {},
   "outputs": [
    {
     "name": "stdout",
     "output_type": "stream",
     "text": [
      "facet number: 9\n"
     ]
    },
    {
     "data": {
      "text/latex": [
       "$\\displaystyle a_{4} c_{2} + 2 a_{4} + 1 = 1$"
      ],
      "text/plain": [
       "Eq(a4*c2 + 2*a4 + 1, 1)"
      ]
     },
     "metadata": {},
     "output_type": "display_data"
    },
    {
     "name": "stdout",
     "output_type": "stream",
     "text": [
      "facet number: 19\n"
     ]
    },
    {
     "data": {
      "text/latex": [
       "$\\displaystyle - a_{4} c_{2} - a_{4} - 1 = -1$"
      ],
      "text/plain": [
       "Eq(-a4*c2 - a4 - 1, -1)"
      ]
     },
     "metadata": {},
     "output_type": "display_data"
    },
    {
     "data": {
      "text/latex": [
       "$\\displaystyle a_{4} = 0$"
      ],
      "text/plain": [
       "Eq(a4, 0)"
      ]
     },
     "metadata": {},
     "output_type": "display_data"
    }
   ],
   "source": [
    "i=9\n",
    "print('facet number:', i)\n",
    "display(sp.Eq(C.determinants[i], C.orientation[i]))\n",
    "\n",
    "i=19\n",
    "print('facet number:', i)\n",
    "display(sp.Eq(C.determinants[i], C.orientation[i]))\n",
    "\n",
    "display(sp.Eq(C.determinants[9] + C.determinants[19], C.orientation[9] + C.orientation[19]))\n",
    "C.subs(a4, 0)"
   ]
  },
  {
   "cell_type": "code",
   "execution_count": 46,
   "id": "c7131b70-fe09-470f-9292-a0571aa4ed35",
   "metadata": {},
   "outputs": [
    {
     "data": {
      "text/latex": [
       "$\\displaystyle \\left[\\begin{matrix}1 & 0 & 0 & 0 & 0 & -1 & - c_{2} - 1 & - c_{2} - 1 & 1\\\\0 & 1 & 0 & 0 & 0 & -1 & - c_{2} - 2 & - c_{2} - 1 & 1\\\\0 & 0 & 1 & 0 & 0 & 1 & c_{2} + 1 & c_{2} & -1\\\\0 & 0 & 0 & 1 & 0 & 0 & c_{3} + 1 & c_{3} & -1\\\\0 & 0 & 0 & 0 & 1 & 0 & -1 & -1 & 0\\end{matrix}\\right]$"
      ],
      "text/plain": [
       "Matrix([\n",
       "[1, 0, 0, 0, 0, -1, -c2 - 1, -c2 - 1,  1],\n",
       "[0, 1, 0, 0, 0, -1, -c2 - 2, -c2 - 1,  1],\n",
       "[0, 0, 1, 0, 0,  1,  c2 + 1,      c2, -1],\n",
       "[0, 0, 0, 1, 0,  0,  c3 + 1,      c3, -1],\n",
       "[0, 0, 0, 0, 1,  0,      -1,      -1,  0]])"
      ]
     },
     "metadata": {},
     "output_type": "display_data"
    },
    {
     "name": "stdout",
     "output_type": "stream",
     "text": [
      "1\n"
     ]
    }
   ],
   "source": [
    "display(C.char)\n",
    "print(C.is_fangiving)\n",
    "fans.append(C.char)"
   ]
  },
  {
   "cell_type": "markdown",
   "id": "e98a5b04-b320-474e-a744-919f919211ec",
   "metadata": {
    "jp-MarkdownHeadingCollapsed": true
   },
   "source": [
    "## $c_3=-1$ ($c_4 \\not= -1$)"
   ]
  },
  {
   "cell_type": "code",
   "execution_count": 47,
   "id": "3bf5d95b-8a6d-4e01-8e94-0df9a2cabc2d",
   "metadata": {},
   "outputs": [],
   "source": [
    "C2 = copy.deepcopy(C1)\n",
    "C = C2\n",
    "C.subs(c3, -1)"
   ]
  },
  {
   "cell_type": "code",
   "execution_count": 48,
   "id": "9d2bead8-3f6b-4519-a011-381ac7685146",
   "metadata": {},
   "outputs": [
    {
     "name": "stdout",
     "output_type": "stream",
     "text": [
      "facet number: 6\n"
     ]
    },
    {
     "data": {
      "text/latex": [
       "$\\displaystyle - c_{2} c_{4} - c_{2} - c_{4} = 1$"
      ],
      "text/plain": [
       "Eq(-c2*c4 - c2 - c4, 1)"
      ]
     },
     "metadata": {},
     "output_type": "display_data"
    },
    {
     "data": {
      "text/latex": [
       "$\\displaystyle \\left(c_{2} + 1\\right) \\left(c_{4} + 1\\right) = 0$"
      ],
      "text/plain": [
       "Eq((c2 + 1)*(c4 + 1), 0)"
      ]
     },
     "metadata": {},
     "output_type": "display_data"
    },
    {
     "name": "stdout",
     "output_type": "stream",
     "text": [
      "c2=c3=-1 => type 3\n"
     ]
    }
   ],
   "source": [
    "i=6\n",
    "print('facet number:', i)\n",
    "display(sp.Eq(C.determinants[i], C.orientation[i]))\n",
    "display(sp.Eq((c2+1)*(c4+1), 0))\n",
    "\n",
    "print('c2=c3=-1 => type 3')"
   ]
  },
  {
   "cell_type": "markdown",
   "id": "3d775529-1950-48f5-a17e-9375d5ad7273",
   "metadata": {
    "jp-MarkdownHeadingCollapsed": true
   },
   "source": [
    "# Type 6 of the projection"
   ]
  },
  {
   "cell_type": "code",
   "execution_count": 49,
   "id": "ac99d4de-fccc-429f-a055-d21ae0c5949d",
   "metadata": {},
   "outputs": [
    {
     "data": {
      "text/latex": [
       "$\\displaystyle \\left[\\begin{matrix}1 & 0 & 0 & 0 & -1 & b_{0} & c_{0} & d_{0}\\\\0 & 1 & 0 & 0 & -1 & b_{1} & c_{1} & d_{1}\\\\0 & 0 & 1 & 0 & a_{2} & b_{2} & c_{2} & -1\\\\0 & 0 & 0 & 1 & a_{3} & b_{3} & c_{3} & -1\\end{matrix}\\right] = \\left[\\begin{matrix}1 & 0 & 0 & 0 & -1 & -1 & -1 & 0\\\\0 & 1 & 0 & 0 & -1 & -2 & -1 & 0\\\\0 & 0 & 1 & 0 & c_{2} + 1 & 2 c_{2} + 1 & c_{2} & -1\\\\0 & 0 & 0 & 1 & c_{3} & 2 c_{3} + 1 & c_{3} & -1\\end{matrix}\\right]$"
      ],
      "text/plain": [
       "Eq(Matrix([\n",
       "[1, 0, 0, 0, -1, b0, c0, d0],\n",
       "[0, 1, 0, 0, -1, b1, c1, d1],\n",
       "[0, 0, 1, 0, a2, b2, c2, -1],\n",
       "[0, 0, 0, 1, a3, b3, c3, -1]]), Matrix([\n",
       "[1, 0, 0, 0,     -1,       -1, -1,  0],\n",
       "[0, 1, 0, 0,     -1,       -2, -1,  0],\n",
       "[0, 0, 1, 0, c2 + 1, 2*c2 + 1, c2, -1],\n",
       "[0, 0, 0, 1,     c3, 2*c3 + 1, c3, -1]]))"
      ]
     },
     "metadata": {},
     "output_type": "display_data"
    }
   ],
   "source": [
    "C1 = copy.deepcopy(C0)\n",
    "C = C1\n",
    "t=6\n",
    "\n",
    "proj = C.proj([projectied_vertex])\n",
    "with sp.evaluate(False):\n",
    "    display(sp.Eq(proj, fans_link[t]))"
   ]
  },
  {
   "cell_type": "code",
   "execution_count": 50,
   "id": "a0f72398-3ebf-48fe-be9c-308045fad19b",
   "metadata": {},
   "outputs": [
    {
     "data": {
      "text/latex": [
       "$\\displaystyle \\text{True}$"
      ],
      "text/plain": [
       "True"
      ]
     },
     "metadata": {},
     "output_type": "display_data"
    }
   ],
   "source": [
    "C.subs(a2, c2+1)\n",
    "C.subs(a3, c3)\n",
    "C.subs(b0, -1)\n",
    "C.subs(b1, -2)\n",
    "C.subs(b2, 2*c2+1)\n",
    "C.subs(b3, 2*c3+1)\n",
    "C.subs(c0, -1)\n",
    "C.subs(c1, -1)\n",
    "C.subs(d0, 0)\n",
    "C.subs(d1, 0)\n",
    "\n",
    "display(sp.Eq(C.proj([projectied_vertex]), fans_link[t]))"
   ]
  },
  {
   "cell_type": "code",
   "execution_count": 51,
   "id": "f17c963f-62c9-40a3-bc06-cffbd5fab104",
   "metadata": {},
   "outputs": [
    {
     "name": "stdout",
     "output_type": "stream",
     "text": [
      "facet number: 9\n"
     ]
    },
    {
     "data": {
      "text/latex": [
       "$\\displaystyle 2 a_{4} + 1 = 1$"
      ],
      "text/plain": [
       "Eq(2*a4 + 1, 1)"
      ]
     },
     "metadata": {},
     "output_type": "display_data"
    }
   ],
   "source": [
    "i=9\n",
    "print('facet number:', i)\n",
    "display(sp.Eq(C.determinants[i], C.orientation[i]))\n",
    "\n",
    "C.subs(a4, 0)"
   ]
  },
  {
   "cell_type": "code",
   "execution_count": 52,
   "id": "4072eddf-aeb6-45f9-9964-3dd978cccfa7",
   "metadata": {},
   "outputs": [
    {
     "name": "stdout",
     "output_type": "stream",
     "text": [
      "facet number: 11\n"
     ]
    },
    {
     "data": {
      "text/latex": [
       "$\\displaystyle c_{4} = -1$"
      ],
      "text/plain": [
       "Eq(c4, -1)"
      ]
     },
     "metadata": {},
     "output_type": "display_data"
    }
   ],
   "source": [
    "i=11\n",
    "print('facet number:', i)\n",
    "display(sp.Eq(C.determinants[i], C.orientation[i]))\n",
    "\n",
    "C.subs(c4, -1)"
   ]
  },
  {
   "cell_type": "code",
   "execution_count": 53,
   "id": "f323afee-f0f1-4c45-8592-79902e60b286",
   "metadata": {},
   "outputs": [
    {
     "name": "stdout",
     "output_type": "stream",
     "text": [
      "facet number: 3\n"
     ]
    },
    {
     "data": {
      "text/latex": [
       "$\\displaystyle - c_{3} - 1 = -1$"
      ],
      "text/plain": [
       "Eq(-c3 - 1, -1)"
      ]
     },
     "metadata": {},
     "output_type": "display_data"
    }
   ],
   "source": [
    "i=3\n",
    "print('facet number:', i)\n",
    "display(sp.Eq(C.determinants[i], C.orientation[i]))\n",
    "\n",
    "C.subs(c3, 0)"
   ]
  },
  {
   "cell_type": "code",
   "execution_count": 54,
   "id": "0afaf593-6972-4df5-a695-fb0088851766",
   "metadata": {},
   "outputs": [
    {
     "name": "stdout",
     "output_type": "stream",
     "text": [
      "facet number: 6\n"
     ]
    },
    {
     "data": {
      "text/latex": [
       "$\\displaystyle c_{2} + 1 = 1$"
      ],
      "text/plain": [
       "Eq(c2 + 1, 1)"
      ]
     },
     "metadata": {},
     "output_type": "display_data"
    },
    {
     "name": "stdout",
     "output_type": "stream",
     "text": [
      "c2=c3=0 => type 0\n"
     ]
    }
   ],
   "source": [
    "i=6\n",
    "print('facet number:', i)\n",
    "display(sp.Eq(C.determinants[i], C.orientation[i]))\n",
    "\n",
    "print('c2=c3=0 => type 0')"
   ]
  },
  {
   "cell_type": "markdown",
   "id": "9b8590f3-d93a-4249-ae81-982db5b374cb",
   "metadata": {
    "jp-MarkdownHeadingCollapsed": true
   },
   "source": [
    "# Type 7 of the projection"
   ]
  },
  {
   "cell_type": "code",
   "execution_count": 55,
   "id": "5e575465-867d-444a-98cc-2856cdc63d6a",
   "metadata": {},
   "outputs": [
    {
     "data": {
      "text/latex": [
       "$\\displaystyle \\left[\\begin{matrix}1 & 0 & 0 & 0 & -1 & b_{0} & c_{0} & d_{0}\\\\0 & 1 & 0 & 0 & -1 & b_{1} & c_{1} & d_{1}\\\\0 & 0 & 1 & 0 & a_{2} & b_{2} & c_{2} & -1\\\\0 & 0 & 0 & 1 & a_{3} & b_{3} & c_{3} & -1\\end{matrix}\\right] = \\left[\\begin{matrix}1 & 0 & 0 & 0 & -1 & 0 & 0 & 1\\\\0 & 1 & 0 & 0 & -1 & -1 & 0 & 1\\\\0 & 0 & 1 & 0 & a_{2} & a_{2} - 1 & -1 & -1\\\\0 & 0 & 0 & 1 & 0 & 1 & 0 & -1\\end{matrix}\\right]$"
      ],
      "text/plain": [
       "Eq(Matrix([\n",
       "[1, 0, 0, 0, -1, b0, c0, d0],\n",
       "[0, 1, 0, 0, -1, b1, c1, d1],\n",
       "[0, 0, 1, 0, a2, b2, c2, -1],\n",
       "[0, 0, 0, 1, a3, b3, c3, -1]]), Matrix([\n",
       "[1, 0, 0, 0, -1,      0,  0,  1],\n",
       "[0, 1, 0, 0, -1,     -1,  0,  1],\n",
       "[0, 0, 1, 0, a2, a2 - 1, -1, -1],\n",
       "[0, 0, 0, 1,  0,      1,  0, -1]]))"
      ]
     },
     "metadata": {},
     "output_type": "display_data"
    }
   ],
   "source": [
    "C1 = copy.deepcopy(C0)\n",
    "C = C1\n",
    "t=7\n",
    "\n",
    "proj = C.proj([projectied_vertex])\n",
    "with sp.evaluate(False):\n",
    "    display(sp.Eq(proj, fans_link[t]))"
   ]
  },
  {
   "cell_type": "code",
   "execution_count": 56,
   "id": "4ac1414f-2a24-4d8e-94ce-315ef20b5600",
   "metadata": {},
   "outputs": [
    {
     "data": {
      "text/latex": [
       "$\\displaystyle \\text{True}$"
      ],
      "text/plain": [
       "True"
      ]
     },
     "metadata": {},
     "output_type": "display_data"
    }
   ],
   "source": [
    "C.subs(a3, 0)\n",
    "C.subs(b0, 0)\n",
    "C.subs(b1, -1)\n",
    "C.subs(b2, a2-1)\n",
    "C.subs(b3, 1)\n",
    "C.subs(c0, 0)\n",
    "C.subs(c1, 0)\n",
    "C.subs(c2, -1)\n",
    "C.subs(c3, 0)\n",
    "C.subs(d0, 1)\n",
    "C.subs(d1, 1)\n",
    "\n",
    "display(sp.Eq(C.proj([projectied_vertex]), fans_link[t]))"
   ]
  },
  {
   "cell_type": "code",
   "execution_count": 57,
   "id": "8bb1ce49-6baa-4b1e-a9ee-ce0556c64268",
   "metadata": {},
   "outputs": [
    {
     "name": "stdout",
     "output_type": "stream",
     "text": [
      "facet number: 3\n"
     ]
    },
    {
     "data": {
      "text/latex": [
       "$\\displaystyle c_{4} = -1$"
      ],
      "text/plain": [
       "Eq(c4, -1)"
      ]
     },
     "metadata": {},
     "output_type": "display_data"
    }
   ],
   "source": [
    "i=3\n",
    "print('facet number:', i)\n",
    "display(sp.Eq(C.determinants[i], C.orientation[i]))\n",
    "\n",
    "C.subs(c4, -1)"
   ]
  },
  {
   "cell_type": "code",
   "execution_count": 58,
   "id": "4e6c0f40-3fd3-4e55-a92b-d4df9f951e2c",
   "metadata": {},
   "outputs": [
    {
     "name": "stdout",
     "output_type": "stream",
     "text": [
      "facet number: 6\n"
     ]
    },
    {
     "data": {
      "text/latex": [
       "$\\displaystyle a_{2} = 1$"
      ],
      "text/plain": [
       "Eq(a2, 1)"
      ]
     },
     "metadata": {},
     "output_type": "display_data"
    },
    {
     "name": "stdout",
     "output_type": "stream",
     "text": [
      "a2=0 => type 5\n"
     ]
    }
   ],
   "source": [
    "i=6\n",
    "print('facet number:', i)\n",
    "display(sp.Eq(C.determinants[i], C.orientation[i]))\n",
    "\n",
    "print('a2=0 => type 5')"
   ]
  },
  {
   "cell_type": "markdown",
   "id": "4f26fee5-c29b-45b7-8b10-90384808406e",
   "metadata": {
    "jp-MarkdownHeadingCollapsed": true
   },
   "source": [
    "# There are 5 types of fans up to D-J equivalence"
   ]
  },
  {
   "cell_type": "code",
   "execution_count": 74,
   "id": "70a6fda2-396f-4fc1-a2c6-b7b385d8319f",
   "metadata": {},
   "outputs": [
    {
     "data": {
      "text/latex": [
       "$\\displaystyle \\left[\\begin{matrix}1 & 0 & 0 & 0 & 0 & -1 & -1 & -1 & d_{0}\\\\0 & 1 & 0 & 0 & 0 & -1 & -2 & -1 & d_{1}\\\\0 & 0 & 1 & 0 & 0 & 1 & 1 & 0 & -1\\\\0 & 0 & 0 & 1 & 0 & 0 & 1 & 0 & -1\\\\0 & 0 & 0 & 0 & 1 & 0 & -1 & -1 & d_{4}\\end{matrix}\\right]$"
      ],
      "text/plain": [
       "Matrix([\n",
       "[1, 0, 0, 0, 0, -1, -1, -1, d0],\n",
       "[0, 1, 0, 0, 0, -1, -2, -1, d1],\n",
       "[0, 0, 1, 0, 0,  1,  1,  0, -1],\n",
       "[0, 0, 0, 1, 0,  0,  1,  0, -1],\n",
       "[0, 0, 0, 0, 1,  0, -1, -1, d4]])"
      ]
     },
     "metadata": {},
     "output_type": "display_data"
    },
    {
     "data": {
      "text/latex": [
       "$\\displaystyle \\left[\\begin{matrix}1 & 0 & 0 & 0 & 0 & -1 & -1 & - c_{3} - 1 & 1\\\\0 & 1 & 0 & 0 & 0 & -1 & -2 & - 2 c_{3} - 1 & 2\\\\0 & 0 & 1 & 0 & 0 & 1 & 1 & c_{3} & -1\\\\0 & 0 & 0 & 1 & 0 & 0 & 1 & c_{3} & -1\\\\0 & 0 & 0 & 0 & 1 & 0 & -1 & - c_{3} - 1 & 1\\end{matrix}\\right]$"
      ],
      "text/plain": [
       "Matrix([\n",
       "[1, 0, 0, 0, 0, -1, -1,   -c3 - 1,  1],\n",
       "[0, 1, 0, 0, 0, -1, -2, -2*c3 - 1,  2],\n",
       "[0, 0, 1, 0, 0,  1,  1,        c3, -1],\n",
       "[0, 0, 0, 1, 0,  0,  1,        c3, -1],\n",
       "[0, 0, 0, 0, 1,  0, -1,   -c3 - 1,  1]])"
      ]
     },
     "metadata": {},
     "output_type": "display_data"
    },
    {
     "data": {
      "text/latex": [
       "$\\displaystyle \\left[\\begin{matrix}1 & 0 & 0 & 0 & 0 & -1 & 0 & 0 & 1\\\\0 & 1 & 0 & 0 & 0 & -1 & -1 & d_{1} - 1 & d_{1}\\\\0 & 0 & 1 & 0 & 0 & 1 & 0 & -1 & -1\\\\0 & 0 & 0 & 1 & 0 & 0 & 0 & -1 & -1\\\\0 & 0 & 0 & 0 & 1 & 0 & -1 & d_{4} - 1 & d_{4}\\end{matrix}\\right]$"
      ],
      "text/plain": [
       "Matrix([\n",
       "[1, 0, 0, 0, 0, -1,  0,      0,  1],\n",
       "[0, 1, 0, 0, 0, -1, -1, d1 - 1, d1],\n",
       "[0, 0, 1, 0, 0,  1,  0,     -1, -1],\n",
       "[0, 0, 0, 1, 0,  0,  0,     -1, -1],\n",
       "[0, 0, 0, 0, 1,  0, -1, d4 - 1, d4]])"
      ]
     },
     "metadata": {},
     "output_type": "display_data"
    },
    {
     "data": {
      "text/latex": [
       "$\\displaystyle \\left[\\begin{matrix}1 & 0 & 0 & 0 & 0 & -1 & b_{0} & 0 & 1\\\\0 & 1 & 0 & 0 & 0 & -1 & b_{1} & 1 & 2\\\\0 & 0 & 1 & 0 & 0 & 1 & - b_{1} - 1 & -1 & -1\\\\0 & 0 & 0 & 1 & 0 & 0 & b_{3} & -1 & -1\\\\0 & 0 & 0 & 0 & 1 & 0 & -1 & 0 & 1\\end{matrix}\\right]$"
      ],
      "text/plain": [
       "Matrix([\n",
       "[1, 0, 0, 0, 0, -1,      b0,  0,  1],\n",
       "[0, 1, 0, 0, 0, -1,      b1,  1,  2],\n",
       "[0, 0, 1, 0, 0,  1, -b1 - 1, -1, -1],\n",
       "[0, 0, 0, 1, 0,  0,      b3, -1, -1],\n",
       "[0, 0, 0, 0, 1,  0,      -1,  0,  1]])"
      ]
     },
     "metadata": {},
     "output_type": "display_data"
    },
    {
     "data": {
      "text/latex": [
       "$\\displaystyle \\left[\\begin{matrix}1 & 0 & 0 & 0 & 0 & -1 & - c_{2} - 1 & - c_{2} - 1 & 1\\\\0 & 1 & 0 & 0 & 0 & -1 & - c_{2} - 2 & - c_{2} - 1 & 1\\\\0 & 0 & 1 & 0 & 0 & 1 & c_{2} + 1 & c_{2} & -1\\\\0 & 0 & 0 & 1 & 0 & 0 & c_{3} + 1 & c_{3} & -1\\\\0 & 0 & 0 & 0 & 1 & 0 & -1 & -1 & 0\\end{matrix}\\right]$"
      ],
      "text/plain": [
       "Matrix([\n",
       "[1, 0, 0, 0, 0, -1, -c2 - 1, -c2 - 1,  1],\n",
       "[0, 1, 0, 0, 0, -1, -c2 - 2, -c2 - 1,  1],\n",
       "[0, 0, 1, 0, 0,  1,  c2 + 1,      c2, -1],\n",
       "[0, 0, 0, 1, 0,  0,  c3 + 1,      c3, -1],\n",
       "[0, 0, 0, 0, 1,  0,      -1,      -1,  0]])"
      ]
     },
     "metadata": {},
     "output_type": "display_data"
    }
   ],
   "source": [
    "for f in fans:\n",
    "    display(f)"
   ]
  },
  {
   "cell_type": "markdown",
   "id": "4531c34f-35ce-4da2-b3e8-f734d740f065",
   "metadata": {
    "jp-MarkdownHeadingCollapsed": true
   },
   "source": [
    "# Connections between types"
   ]
  },
  {
   "cell_type": "markdown",
   "id": "f6158e70-a423-4b66-bac9-e56d7ebeb946",
   "metadata": {
    "jp-MarkdownHeadingCollapsed": true
   },
   "source": [
    "## fan 0"
   ]
  },
  {
   "cell_type": "markdown",
   "id": "5de7cf27-c85f-4494-b7f2-bbda57dbc715",
   "metadata": {
    "jp-MarkdownHeadingCollapsed": true
   },
   "source": [
    "### fan 1 ($c_3=0$, $d_0=1$, $d_1=2$, $d_4=1$)"
   ]
  },
  {
   "cell_type": "code",
   "execution_count": 84,
   "id": "2febc058-1864-4f1b-8d8d-5ddcc343d413",
   "metadata": {},
   "outputs": [
    {
     "data": {
      "text/latex": [
       "$\\displaystyle \\left[\\begin{matrix}1 & 0 & 0 & 0 & 0 & -1 & -1 & -1 & d_{0}\\\\0 & 1 & 0 & 0 & 0 & -1 & -2 & -1 & d_{1}\\\\0 & 0 & 1 & 0 & 0 & 1 & 1 & 0 & -1\\\\0 & 0 & 0 & 1 & 0 & 0 & 1 & 0 & -1\\\\0 & 0 & 0 & 0 & 1 & 0 & -1 & -1 & d_{4}\\end{matrix}\\right]$"
      ],
      "text/plain": [
       "Matrix([\n",
       "[1, 0, 0, 0, 0, -1, -1, -1, d0],\n",
       "[0, 1, 0, 0, 0, -1, -2, -1, d1],\n",
       "[0, 0, 1, 0, 0,  1,  1,  0, -1],\n",
       "[0, 0, 0, 1, 0,  0,  1,  0, -1],\n",
       "[0, 0, 0, 0, 1,  0, -1, -1, d4]])"
      ]
     },
     "metadata": {},
     "output_type": "display_data"
    },
    {
     "data": {
      "text/latex": [
       "$\\displaystyle \\left[\\begin{matrix}1 & 0 & 0 & 0 & 0 & -1 & -1 & - c_{3} - 1 & 1\\\\0 & 1 & 0 & 0 & 0 & -1 & -2 & - 2 c_{3} - 1 & 2\\\\0 & 0 & 1 & 0 & 0 & 1 & 1 & c_{3} & -1\\\\0 & 0 & 0 & 1 & 0 & 0 & 1 & c_{3} & -1\\\\0 & 0 & 0 & 0 & 1 & 0 & -1 & - c_{3} - 1 & 1\\end{matrix}\\right]$"
      ],
      "text/plain": [
       "Matrix([\n",
       "[1, 0, 0, 0, 0, -1, -1,   -c3 - 1,  1],\n",
       "[0, 1, 0, 0, 0, -1, -2, -2*c3 - 1,  2],\n",
       "[0, 0, 1, 0, 0,  1,  1,        c3, -1],\n",
       "[0, 0, 0, 1, 0,  0,  1,        c3, -1],\n",
       "[0, 0, 0, 0, 1,  0, -1,   -c3 - 1,  1]])"
      ]
     },
     "metadata": {},
     "output_type": "display_data"
    },
    {
     "data": {
      "text/latex": [
       "$\\displaystyle \\text{True}$"
      ],
      "text/plain": [
       "True"
      ]
     },
     "metadata": {},
     "output_type": "display_data"
    }
   ],
   "source": [
    "i, j = 0, 1\n",
    "display(fans[i], fans[j])\n",
    "display(sp.Eq(fans[i].subs(d0,1).subs(d1,2).subs(d4,1),fans[j].subs(c3,0)))"
   ]
  },
  {
   "cell_type": "markdown",
   "id": "c255ca05-7054-4ac9-9dd4-4d037630b3b0",
   "metadata": {
    "jp-MarkdownHeadingCollapsed": true
   },
   "source": [
    "### fan 4 ($c_2=0$, $c_3=0$, $d_0=1$, $d_1=1$, $d_4=0$)"
   ]
  },
  {
   "cell_type": "code",
   "execution_count": 86,
   "id": "0d17c2fb-9dad-44f2-a06d-9e6e35fdb30c",
   "metadata": {},
   "outputs": [
    {
     "data": {
      "text/latex": [
       "$\\displaystyle \\left[\\begin{matrix}1 & 0 & 0 & 0 & 0 & -1 & -1 & -1 & d_{0}\\\\0 & 1 & 0 & 0 & 0 & -1 & -2 & -1 & d_{1}\\\\0 & 0 & 1 & 0 & 0 & 1 & 1 & 0 & -1\\\\0 & 0 & 0 & 1 & 0 & 0 & 1 & 0 & -1\\\\0 & 0 & 0 & 0 & 1 & 0 & -1 & -1 & d_{4}\\end{matrix}\\right]$"
      ],
      "text/plain": [
       "Matrix([\n",
       "[1, 0, 0, 0, 0, -1, -1, -1, d0],\n",
       "[0, 1, 0, 0, 0, -1, -2, -1, d1],\n",
       "[0, 0, 1, 0, 0,  1,  1,  0, -1],\n",
       "[0, 0, 0, 1, 0,  0,  1,  0, -1],\n",
       "[0, 0, 0, 0, 1,  0, -1, -1, d4]])"
      ]
     },
     "metadata": {},
     "output_type": "display_data"
    },
    {
     "data": {
      "text/latex": [
       "$\\displaystyle \\left[\\begin{matrix}1 & 0 & 0 & 0 & 0 & -1 & - c_{2} - 1 & - c_{2} - 1 & 1\\\\0 & 1 & 0 & 0 & 0 & -1 & - c_{2} - 2 & - c_{2} - 1 & 1\\\\0 & 0 & 1 & 0 & 0 & 1 & c_{2} + 1 & c_{2} & -1\\\\0 & 0 & 0 & 1 & 0 & 0 & c_{3} + 1 & c_{3} & -1\\\\0 & 0 & 0 & 0 & 1 & 0 & -1 & -1 & 0\\end{matrix}\\right]$"
      ],
      "text/plain": [
       "Matrix([\n",
       "[1, 0, 0, 0, 0, -1, -c2 - 1, -c2 - 1,  1],\n",
       "[0, 1, 0, 0, 0, -1, -c2 - 2, -c2 - 1,  1],\n",
       "[0, 0, 1, 0, 0,  1,  c2 + 1,      c2, -1],\n",
       "[0, 0, 0, 1, 0,  0,  c3 + 1,      c3, -1],\n",
       "[0, 0, 0, 0, 1,  0,      -1,      -1,  0]])"
      ]
     },
     "metadata": {},
     "output_type": "display_data"
    },
    {
     "data": {
      "text/latex": [
       "$\\displaystyle \\text{True}$"
      ],
      "text/plain": [
       "True"
      ]
     },
     "metadata": {},
     "output_type": "display_data"
    }
   ],
   "source": [
    "i, j = 0, 4\n",
    "display(fans[i], fans[j])\n",
    "display(sp.Eq(fans[i].subs(d0,1).subs(d1,1).subs(d4,0),fans[j].subs(c2,0).subs(c3,0)))"
   ]
  },
  {
   "cell_type": "markdown",
   "id": "e7512130-44fd-4a78-ac56-a09e6defb666",
   "metadata": {
    "jp-MarkdownHeadingCollapsed": true
   },
   "source": [
    "## fan 1"
   ]
  },
  {
   "cell_type": "markdown",
   "id": "a9dc6842-f505-4043-8d23-0cee75ea1d74",
   "metadata": {
    "jp-MarkdownHeadingCollapsed": true
   },
   "source": [
    "### fan 0 ($c_3=0$, $d_0=1$, $d_1=2$, $d_4=1$)"
   ]
  },
  {
   "cell_type": "code",
   "execution_count": 84,
   "id": "8a329870-2c63-48f5-a215-38b1e7ab3271",
   "metadata": {},
   "outputs": [
    {
     "data": {
      "text/latex": [
       "$\\displaystyle \\left[\\begin{matrix}1 & 0 & 0 & 0 & 0 & -1 & -1 & -1 & d_{0}\\\\0 & 1 & 0 & 0 & 0 & -1 & -2 & -1 & d_{1}\\\\0 & 0 & 1 & 0 & 0 & 1 & 1 & 0 & -1\\\\0 & 0 & 0 & 1 & 0 & 0 & 1 & 0 & -1\\\\0 & 0 & 0 & 0 & 1 & 0 & -1 & -1 & d_{4}\\end{matrix}\\right]$"
      ],
      "text/plain": [
       "Matrix([\n",
       "[1, 0, 0, 0, 0, -1, -1, -1, d0],\n",
       "[0, 1, 0, 0, 0, -1, -2, -1, d1],\n",
       "[0, 0, 1, 0, 0,  1,  1,  0, -1],\n",
       "[0, 0, 0, 1, 0,  0,  1,  0, -1],\n",
       "[0, 0, 0, 0, 1,  0, -1, -1, d4]])"
      ]
     },
     "metadata": {},
     "output_type": "display_data"
    },
    {
     "data": {
      "text/latex": [
       "$\\displaystyle \\left[\\begin{matrix}1 & 0 & 0 & 0 & 0 & -1 & -1 & - c_{3} - 1 & 1\\\\0 & 1 & 0 & 0 & 0 & -1 & -2 & - 2 c_{3} - 1 & 2\\\\0 & 0 & 1 & 0 & 0 & 1 & 1 & c_{3} & -1\\\\0 & 0 & 0 & 1 & 0 & 0 & 1 & c_{3} & -1\\\\0 & 0 & 0 & 0 & 1 & 0 & -1 & - c_{3} - 1 & 1\\end{matrix}\\right]$"
      ],
      "text/plain": [
       "Matrix([\n",
       "[1, 0, 0, 0, 0, -1, -1,   -c3 - 1,  1],\n",
       "[0, 1, 0, 0, 0, -1, -2, -2*c3 - 1,  2],\n",
       "[0, 0, 1, 0, 0,  1,  1,        c3, -1],\n",
       "[0, 0, 0, 1, 0,  0,  1,        c3, -1],\n",
       "[0, 0, 0, 0, 1,  0, -1,   -c3 - 1,  1]])"
      ]
     },
     "metadata": {},
     "output_type": "display_data"
    },
    {
     "data": {
      "text/latex": [
       "$\\displaystyle \\text{True}$"
      ],
      "text/plain": [
       "True"
      ]
     },
     "metadata": {},
     "output_type": "display_data"
    }
   ],
   "source": [
    "i, j = 0, 1\n",
    "display(fans[i], fans[j])\n",
    "display(sp.Eq(fans[i].subs(d0,1).subs(d1,2).subs(d4,1),fans[j].subs(c3,0)))"
   ]
  },
  {
   "cell_type": "markdown",
   "id": "101f4bb0-23e9-4b40-8867-a233e1e371e1",
   "metadata": {
    "jp-MarkdownHeadingCollapsed": true
   },
   "source": [
    "### fan 3 ($b_0=-1$, $b_1=-2$, $b_3=1$, $c_3=-1$)"
   ]
  },
  {
   "cell_type": "code",
   "execution_count": 90,
   "id": "a666f919-c726-4212-b209-b2c92ddbd3b0",
   "metadata": {},
   "outputs": [
    {
     "data": {
      "text/latex": [
       "$\\displaystyle \\left[\\begin{matrix}1 & 0 & 0 & 0 & 0 & -1 & -1 & - c_{3} - 1 & 1\\\\0 & 1 & 0 & 0 & 0 & -1 & -2 & - 2 c_{3} - 1 & 2\\\\0 & 0 & 1 & 0 & 0 & 1 & 1 & c_{3} & -1\\\\0 & 0 & 0 & 1 & 0 & 0 & 1 & c_{3} & -1\\\\0 & 0 & 0 & 0 & 1 & 0 & -1 & - c_{3} - 1 & 1\\end{matrix}\\right]$"
      ],
      "text/plain": [
       "Matrix([\n",
       "[1, 0, 0, 0, 0, -1, -1,   -c3 - 1,  1],\n",
       "[0, 1, 0, 0, 0, -1, -2, -2*c3 - 1,  2],\n",
       "[0, 0, 1, 0, 0,  1,  1,        c3, -1],\n",
       "[0, 0, 0, 1, 0,  0,  1,        c3, -1],\n",
       "[0, 0, 0, 0, 1,  0, -1,   -c3 - 1,  1]])"
      ]
     },
     "metadata": {},
     "output_type": "display_data"
    },
    {
     "data": {
      "text/latex": [
       "$\\displaystyle \\left[\\begin{matrix}1 & 0 & 0 & 0 & 0 & -1 & b_{0} & 0 & 1\\\\0 & 1 & 0 & 0 & 0 & -1 & b_{1} & 1 & 2\\\\0 & 0 & 1 & 0 & 0 & 1 & - b_{1} - 1 & -1 & -1\\\\0 & 0 & 0 & 1 & 0 & 0 & b_{3} & -1 & -1\\\\0 & 0 & 0 & 0 & 1 & 0 & -1 & 0 & 1\\end{matrix}\\right]$"
      ],
      "text/plain": [
       "Matrix([\n",
       "[1, 0, 0, 0, 0, -1,      b0,  0,  1],\n",
       "[0, 1, 0, 0, 0, -1,      b1,  1,  2],\n",
       "[0, 0, 1, 0, 0,  1, -b1 - 1, -1, -1],\n",
       "[0, 0, 0, 1, 0,  0,      b3, -1, -1],\n",
       "[0, 0, 0, 0, 1,  0,      -1,  0,  1]])"
      ]
     },
     "metadata": {},
     "output_type": "display_data"
    },
    {
     "data": {
      "text/latex": [
       "$\\displaystyle \\text{True}$"
      ],
      "text/plain": [
       "True"
      ]
     },
     "metadata": {},
     "output_type": "display_data"
    }
   ],
   "source": [
    "i, j = 1, 3\n",
    "display(fans[i], fans[j])\n",
    "display(sp.Eq(fans[i].subs(c3,-1),fans[j].subs(b0,-1).subs(b1,-2).subs(b3,1)))"
   ]
  },
  {
   "cell_type": "markdown",
   "id": "1b3317e3-db30-4f42-8080-a0905a956649",
   "metadata": {
    "jp-MarkdownHeadingCollapsed": true
   },
   "source": [
    "## fan 2"
   ]
  },
  {
   "cell_type": "markdown",
   "id": "c8054c7a-004a-4ed9-9419-99bee8e72a29",
   "metadata": {
    "jp-MarkdownHeadingCollapsed": true
   },
   "source": [
    "### fan 3 ($b_0=0$, $b_1=-1$, $b_3=0$, $d_1=2$, $d_4=1$)"
   ]
  },
  {
   "cell_type": "code",
   "execution_count": 93,
   "id": "3bac21e8-f697-42bb-bf0c-944bdf049848",
   "metadata": {},
   "outputs": [
    {
     "data": {
      "text/latex": [
       "$\\displaystyle \\left[\\begin{matrix}1 & 0 & 0 & 0 & 0 & -1 & 0 & 0 & 1\\\\0 & 1 & 0 & 0 & 0 & -1 & -1 & d_{1} - 1 & d_{1}\\\\0 & 0 & 1 & 0 & 0 & 1 & 0 & -1 & -1\\\\0 & 0 & 0 & 1 & 0 & 0 & 0 & -1 & -1\\\\0 & 0 & 0 & 0 & 1 & 0 & -1 & d_{4} - 1 & d_{4}\\end{matrix}\\right]$"
      ],
      "text/plain": [
       "Matrix([\n",
       "[1, 0, 0, 0, 0, -1,  0,      0,  1],\n",
       "[0, 1, 0, 0, 0, -1, -1, d1 - 1, d1],\n",
       "[0, 0, 1, 0, 0,  1,  0,     -1, -1],\n",
       "[0, 0, 0, 1, 0,  0,  0,     -1, -1],\n",
       "[0, 0, 0, 0, 1,  0, -1, d4 - 1, d4]])"
      ]
     },
     "metadata": {},
     "output_type": "display_data"
    },
    {
     "data": {
      "text/latex": [
       "$\\displaystyle \\left[\\begin{matrix}1 & 0 & 0 & 0 & 0 & -1 & b_{0} & 0 & 1\\\\0 & 1 & 0 & 0 & 0 & -1 & b_{1} & 1 & 2\\\\0 & 0 & 1 & 0 & 0 & 1 & - b_{1} - 1 & -1 & -1\\\\0 & 0 & 0 & 1 & 0 & 0 & b_{3} & -1 & -1\\\\0 & 0 & 0 & 0 & 1 & 0 & -1 & 0 & 1\\end{matrix}\\right]$"
      ],
      "text/plain": [
       "Matrix([\n",
       "[1, 0, 0, 0, 0, -1,      b0,  0,  1],\n",
       "[0, 1, 0, 0, 0, -1,      b1,  1,  2],\n",
       "[0, 0, 1, 0, 0,  1, -b1 - 1, -1, -1],\n",
       "[0, 0, 0, 1, 0,  0,      b3, -1, -1],\n",
       "[0, 0, 0, 0, 1,  0,      -1,  0,  1]])"
      ]
     },
     "metadata": {},
     "output_type": "display_data"
    },
    {
     "data": {
      "text/latex": [
       "$\\displaystyle \\text{True}$"
      ],
      "text/plain": [
       "True"
      ]
     },
     "metadata": {},
     "output_type": "display_data"
    }
   ],
   "source": [
    "i, j = 2, 3\n",
    "display(fans[i], fans[j])\n",
    "display(sp.Eq(fans[i].subs(d1,2).subs(d4,1),fans[j].subs(b0,0).subs(b1,-1).subs(b3,0)))"
   ]
  },
  {
   "cell_type": "markdown",
   "id": "fa5e77c3-ce4c-4ec9-9381-5b08e7b2a78a",
   "metadata": {
    "jp-MarkdownHeadingCollapsed": true
   },
   "source": [
    "### fan 4 ($c_2=-1$, $c_3=-1$, $d_1=1$, $d_4=0$)"
   ]
  },
  {
   "cell_type": "code",
   "execution_count": 94,
   "id": "a53f1af1-b9a3-42ad-bc8c-e7392a788d3e",
   "metadata": {},
   "outputs": [
    {
     "data": {
      "text/latex": [
       "$\\displaystyle \\left[\\begin{matrix}1 & 0 & 0 & 0 & 0 & -1 & 0 & 0 & 1\\\\0 & 1 & 0 & 0 & 0 & -1 & -1 & d_{1} - 1 & d_{1}\\\\0 & 0 & 1 & 0 & 0 & 1 & 0 & -1 & -1\\\\0 & 0 & 0 & 1 & 0 & 0 & 0 & -1 & -1\\\\0 & 0 & 0 & 0 & 1 & 0 & -1 & d_{4} - 1 & d_{4}\\end{matrix}\\right]$"
      ],
      "text/plain": [
       "Matrix([\n",
       "[1, 0, 0, 0, 0, -1,  0,      0,  1],\n",
       "[0, 1, 0, 0, 0, -1, -1, d1 - 1, d1],\n",
       "[0, 0, 1, 0, 0,  1,  0,     -1, -1],\n",
       "[0, 0, 0, 1, 0,  0,  0,     -1, -1],\n",
       "[0, 0, 0, 0, 1,  0, -1, d4 - 1, d4]])"
      ]
     },
     "metadata": {},
     "output_type": "display_data"
    },
    {
     "data": {
      "text/latex": [
       "$\\displaystyle \\left[\\begin{matrix}1 & 0 & 0 & 0 & 0 & -1 & - c_{2} - 1 & - c_{2} - 1 & 1\\\\0 & 1 & 0 & 0 & 0 & -1 & - c_{2} - 2 & - c_{2} - 1 & 1\\\\0 & 0 & 1 & 0 & 0 & 1 & c_{2} + 1 & c_{2} & -1\\\\0 & 0 & 0 & 1 & 0 & 0 & c_{3} + 1 & c_{3} & -1\\\\0 & 0 & 0 & 0 & 1 & 0 & -1 & -1 & 0\\end{matrix}\\right]$"
      ],
      "text/plain": [
       "Matrix([\n",
       "[1, 0, 0, 0, 0, -1, -c2 - 1, -c2 - 1,  1],\n",
       "[0, 1, 0, 0, 0, -1, -c2 - 2, -c2 - 1,  1],\n",
       "[0, 0, 1, 0, 0,  1,  c2 + 1,      c2, -1],\n",
       "[0, 0, 0, 1, 0,  0,  c3 + 1,      c3, -1],\n",
       "[0, 0, 0, 0, 1,  0,      -1,      -1,  0]])"
      ]
     },
     "metadata": {},
     "output_type": "display_data"
    },
    {
     "data": {
      "text/latex": [
       "$\\displaystyle \\text{True}$"
      ],
      "text/plain": [
       "True"
      ]
     },
     "metadata": {},
     "output_type": "display_data"
    }
   ],
   "source": [
    "i, j = 2, 4\n",
    "display(fans[i], fans[j])\n",
    "display(sp.Eq(fans[i].subs(d1,1).subs(d4,0),fans[j].subs(c2,-1).subs(c3,-1)))"
   ]
  },
  {
   "cell_type": "markdown",
   "id": "454b9727-eb20-44e7-acd3-0b13b04f81ab",
   "metadata": {
    "jp-MarkdownHeadingCollapsed": true
   },
   "source": [
    "## fan 3"
   ]
  },
  {
   "cell_type": "markdown",
   "id": "c2cb4ee9-b468-49b2-a282-42b2d3fac91f",
   "metadata": {
    "jp-MarkdownHeadingCollapsed": true
   },
   "source": [
    "### fan 1 ($b_0=-1$, $b_1=-2$, $b_3=1$, $c_3=-1$)"
   ]
  },
  {
   "cell_type": "code",
   "execution_count": 90,
   "id": "9b5cdac7-29ae-4188-a2e3-c56ea938606b",
   "metadata": {},
   "outputs": [
    {
     "data": {
      "text/latex": [
       "$\\displaystyle \\left[\\begin{matrix}1 & 0 & 0 & 0 & 0 & -1 & -1 & - c_{3} - 1 & 1\\\\0 & 1 & 0 & 0 & 0 & -1 & -2 & - 2 c_{3} - 1 & 2\\\\0 & 0 & 1 & 0 & 0 & 1 & 1 & c_{3} & -1\\\\0 & 0 & 0 & 1 & 0 & 0 & 1 & c_{3} & -1\\\\0 & 0 & 0 & 0 & 1 & 0 & -1 & - c_{3} - 1 & 1\\end{matrix}\\right]$"
      ],
      "text/plain": [
       "Matrix([\n",
       "[1, 0, 0, 0, 0, -1, -1,   -c3 - 1,  1],\n",
       "[0, 1, 0, 0, 0, -1, -2, -2*c3 - 1,  2],\n",
       "[0, 0, 1, 0, 0,  1,  1,        c3, -1],\n",
       "[0, 0, 0, 1, 0,  0,  1,        c3, -1],\n",
       "[0, 0, 0, 0, 1,  0, -1,   -c3 - 1,  1]])"
      ]
     },
     "metadata": {},
     "output_type": "display_data"
    },
    {
     "data": {
      "text/latex": [
       "$\\displaystyle \\left[\\begin{matrix}1 & 0 & 0 & 0 & 0 & -1 & b_{0} & 0 & 1\\\\0 & 1 & 0 & 0 & 0 & -1 & b_{1} & 1 & 2\\\\0 & 0 & 1 & 0 & 0 & 1 & - b_{1} - 1 & -1 & -1\\\\0 & 0 & 0 & 1 & 0 & 0 & b_{3} & -1 & -1\\\\0 & 0 & 0 & 0 & 1 & 0 & -1 & 0 & 1\\end{matrix}\\right]$"
      ],
      "text/plain": [
       "Matrix([\n",
       "[1, 0, 0, 0, 0, -1,      b0,  0,  1],\n",
       "[0, 1, 0, 0, 0, -1,      b1,  1,  2],\n",
       "[0, 0, 1, 0, 0,  1, -b1 - 1, -1, -1],\n",
       "[0, 0, 0, 1, 0,  0,      b3, -1, -1],\n",
       "[0, 0, 0, 0, 1,  0,      -1,  0,  1]])"
      ]
     },
     "metadata": {},
     "output_type": "display_data"
    },
    {
     "data": {
      "text/latex": [
       "$\\displaystyle \\text{True}$"
      ],
      "text/plain": [
       "True"
      ]
     },
     "metadata": {},
     "output_type": "display_data"
    }
   ],
   "source": [
    "i, j = 1, 3\n",
    "display(fans[i], fans[j])\n",
    "display(sp.Eq(fans[i].subs(c3,-1),fans[j].subs(b0,-1).subs(b1,-2).subs(b3,1)))"
   ]
  },
  {
   "cell_type": "markdown",
   "id": "46749f7a-9118-4034-811b-c71dd87be2a0",
   "metadata": {
    "jp-MarkdownHeadingCollapsed": true
   },
   "source": [
    "### fan 2 ($b_0=0$, $b_1=-1$, $b_3=0$, $d_1=2$, $d_4=1$)"
   ]
  },
  {
   "cell_type": "code",
   "execution_count": 93,
   "id": "b8c66326-2c5b-4451-9fa8-4d6bfa79337a",
   "metadata": {},
   "outputs": [
    {
     "data": {
      "text/latex": [
       "$\\displaystyle \\left[\\begin{matrix}1 & 0 & 0 & 0 & 0 & -1 & 0 & 0 & 1\\\\0 & 1 & 0 & 0 & 0 & -1 & -1 & d_{1} - 1 & d_{1}\\\\0 & 0 & 1 & 0 & 0 & 1 & 0 & -1 & -1\\\\0 & 0 & 0 & 1 & 0 & 0 & 0 & -1 & -1\\\\0 & 0 & 0 & 0 & 1 & 0 & -1 & d_{4} - 1 & d_{4}\\end{matrix}\\right]$"
      ],
      "text/plain": [
       "Matrix([\n",
       "[1, 0, 0, 0, 0, -1,  0,      0,  1],\n",
       "[0, 1, 0, 0, 0, -1, -1, d1 - 1, d1],\n",
       "[0, 0, 1, 0, 0,  1,  0,     -1, -1],\n",
       "[0, 0, 0, 1, 0,  0,  0,     -1, -1],\n",
       "[0, 0, 0, 0, 1,  0, -1, d4 - 1, d4]])"
      ]
     },
     "metadata": {},
     "output_type": "display_data"
    },
    {
     "data": {
      "text/latex": [
       "$\\displaystyle \\left[\\begin{matrix}1 & 0 & 0 & 0 & 0 & -1 & b_{0} & 0 & 1\\\\0 & 1 & 0 & 0 & 0 & -1 & b_{1} & 1 & 2\\\\0 & 0 & 1 & 0 & 0 & 1 & - b_{1} - 1 & -1 & -1\\\\0 & 0 & 0 & 1 & 0 & 0 & b_{3} & -1 & -1\\\\0 & 0 & 0 & 0 & 1 & 0 & -1 & 0 & 1\\end{matrix}\\right]$"
      ],
      "text/plain": [
       "Matrix([\n",
       "[1, 0, 0, 0, 0, -1,      b0,  0,  1],\n",
       "[0, 1, 0, 0, 0, -1,      b1,  1,  2],\n",
       "[0, 0, 1, 0, 0,  1, -b1 - 1, -1, -1],\n",
       "[0, 0, 0, 1, 0,  0,      b3, -1, -1],\n",
       "[0, 0, 0, 0, 1,  0,      -1,  0,  1]])"
      ]
     },
     "metadata": {},
     "output_type": "display_data"
    },
    {
     "data": {
      "text/latex": [
       "$\\displaystyle \\text{True}$"
      ],
      "text/plain": [
       "True"
      ]
     },
     "metadata": {},
     "output_type": "display_data"
    }
   ],
   "source": [
    "i, j = 2, 3\n",
    "display(fans[i], fans[j])\n",
    "display(sp.Eq(fans[i].subs(d1,2).subs(d4,1),fans[j].subs(b0,0).subs(b1,-1).subs(b3,0)))"
   ]
  },
  {
   "cell_type": "markdown",
   "id": "562f1726-1690-4b37-bcbf-b58a3eeba88a",
   "metadata": {
    "jp-MarkdownHeadingCollapsed": true
   },
   "source": [
    "## fan 4"
   ]
  },
  {
   "cell_type": "markdown",
   "id": "80963a02-7c17-44f4-920d-628df33e8daf",
   "metadata": {
    "jp-MarkdownHeadingCollapsed": true
   },
   "source": [
    "### fan 0 ($c_2=0$, $c_3=0$, $d_0=1$, $d_1=1$, $d_4=0$)"
   ]
  },
  {
   "cell_type": "code",
   "execution_count": 86,
   "id": "9270f632-8366-49a0-8f4d-763b275745ee",
   "metadata": {},
   "outputs": [
    {
     "data": {
      "text/latex": [
       "$\\displaystyle \\left[\\begin{matrix}1 & 0 & 0 & 0 & 0 & -1 & -1 & -1 & d_{0}\\\\0 & 1 & 0 & 0 & 0 & -1 & -2 & -1 & d_{1}\\\\0 & 0 & 1 & 0 & 0 & 1 & 1 & 0 & -1\\\\0 & 0 & 0 & 1 & 0 & 0 & 1 & 0 & -1\\\\0 & 0 & 0 & 0 & 1 & 0 & -1 & -1 & d_{4}\\end{matrix}\\right]$"
      ],
      "text/plain": [
       "Matrix([\n",
       "[1, 0, 0, 0, 0, -1, -1, -1, d0],\n",
       "[0, 1, 0, 0, 0, -1, -2, -1, d1],\n",
       "[0, 0, 1, 0, 0,  1,  1,  0, -1],\n",
       "[0, 0, 0, 1, 0,  0,  1,  0, -1],\n",
       "[0, 0, 0, 0, 1,  0, -1, -1, d4]])"
      ]
     },
     "metadata": {},
     "output_type": "display_data"
    },
    {
     "data": {
      "text/latex": [
       "$\\displaystyle \\left[\\begin{matrix}1 & 0 & 0 & 0 & 0 & -1 & - c_{2} - 1 & - c_{2} - 1 & 1\\\\0 & 1 & 0 & 0 & 0 & -1 & - c_{2} - 2 & - c_{2} - 1 & 1\\\\0 & 0 & 1 & 0 & 0 & 1 & c_{2} + 1 & c_{2} & -1\\\\0 & 0 & 0 & 1 & 0 & 0 & c_{3} + 1 & c_{3} & -1\\\\0 & 0 & 0 & 0 & 1 & 0 & -1 & -1 & 0\\end{matrix}\\right]$"
      ],
      "text/plain": [
       "Matrix([\n",
       "[1, 0, 0, 0, 0, -1, -c2 - 1, -c2 - 1,  1],\n",
       "[0, 1, 0, 0, 0, -1, -c2 - 2, -c2 - 1,  1],\n",
       "[0, 0, 1, 0, 0,  1,  c2 + 1,      c2, -1],\n",
       "[0, 0, 0, 1, 0,  0,  c3 + 1,      c3, -1],\n",
       "[0, 0, 0, 0, 1,  0,      -1,      -1,  0]])"
      ]
     },
     "metadata": {},
     "output_type": "display_data"
    },
    {
     "data": {
      "text/latex": [
       "$\\displaystyle \\text{True}$"
      ],
      "text/plain": [
       "True"
      ]
     },
     "metadata": {},
     "output_type": "display_data"
    }
   ],
   "source": [
    "i, j = 0, 4\n",
    "display(fans[i], fans[j])\n",
    "display(sp.Eq(fans[i].subs(d0,1).subs(d1,1).subs(d4,0),fans[j].subs(c2,0).subs(c3,0)))"
   ]
  },
  {
   "cell_type": "markdown",
   "id": "0c498444-236b-41a5-93d8-a70df51ad9da",
   "metadata": {
    "jp-MarkdownHeadingCollapsed": true
   },
   "source": [
    "### fan 2 ($c_2=-1$, $c_3=-1$, $d_1=1$, $d_4=0$)"
   ]
  },
  {
   "cell_type": "code",
   "execution_count": 94,
   "id": "439237de-8b96-4855-a7b8-57500473bc48",
   "metadata": {},
   "outputs": [
    {
     "data": {
      "text/latex": [
       "$\\displaystyle \\left[\\begin{matrix}1 & 0 & 0 & 0 & 0 & -1 & 0 & 0 & 1\\\\0 & 1 & 0 & 0 & 0 & -1 & -1 & d_{1} - 1 & d_{1}\\\\0 & 0 & 1 & 0 & 0 & 1 & 0 & -1 & -1\\\\0 & 0 & 0 & 1 & 0 & 0 & 0 & -1 & -1\\\\0 & 0 & 0 & 0 & 1 & 0 & -1 & d_{4} - 1 & d_{4}\\end{matrix}\\right]$"
      ],
      "text/plain": [
       "Matrix([\n",
       "[1, 0, 0, 0, 0, -1,  0,      0,  1],\n",
       "[0, 1, 0, 0, 0, -1, -1, d1 - 1, d1],\n",
       "[0, 0, 1, 0, 0,  1,  0,     -1, -1],\n",
       "[0, 0, 0, 1, 0,  0,  0,     -1, -1],\n",
       "[0, 0, 0, 0, 1,  0, -1, d4 - 1, d4]])"
      ]
     },
     "metadata": {},
     "output_type": "display_data"
    },
    {
     "data": {
      "text/latex": [
       "$\\displaystyle \\left[\\begin{matrix}1 & 0 & 0 & 0 & 0 & -1 & - c_{2} - 1 & - c_{2} - 1 & 1\\\\0 & 1 & 0 & 0 & 0 & -1 & - c_{2} - 2 & - c_{2} - 1 & 1\\\\0 & 0 & 1 & 0 & 0 & 1 & c_{2} + 1 & c_{2} & -1\\\\0 & 0 & 0 & 1 & 0 & 0 & c_{3} + 1 & c_{3} & -1\\\\0 & 0 & 0 & 0 & 1 & 0 & -1 & -1 & 0\\end{matrix}\\right]$"
      ],
      "text/plain": [
       "Matrix([\n",
       "[1, 0, 0, 0, 0, -1, -c2 - 1, -c2 - 1,  1],\n",
       "[0, 1, 0, 0, 0, -1, -c2 - 2, -c2 - 1,  1],\n",
       "[0, 0, 1, 0, 0,  1,  c2 + 1,      c2, -1],\n",
       "[0, 0, 0, 1, 0,  0,  c3 + 1,      c3, -1],\n",
       "[0, 0, 0, 0, 1,  0,      -1,      -1,  0]])"
      ]
     },
     "metadata": {},
     "output_type": "display_data"
    },
    {
     "data": {
      "text/latex": [
       "$\\displaystyle \\text{True}$"
      ],
      "text/plain": [
       "True"
      ]
     },
     "metadata": {},
     "output_type": "display_data"
    }
   ],
   "source": [
    "i, j = 2, 4\n",
    "display(fans[i], fans[j])\n",
    "display(sp.Eq(fans[i].subs(d1,1).subs(d4,0),fans[j].subs(c2,-1).subs(c3,-1)))"
   ]
  },
  {
   "cell_type": "markdown",
   "id": "0d8d8e04-5f3e-41c1-aef0-63fbe399e3b0",
   "metadata": {
    "jp-MarkdownHeadingCollapsed": true
   },
   "source": [
    "# There are 3 types of fans up to D-J equivalence and symmetry"
   ]
  },
  {
   "cell_type": "code",
   "execution_count": 97,
   "id": "abf8f74a-910d-47f9-87db-44b49951c7fb",
   "metadata": {},
   "outputs": [
    {
     "data": {
      "text/plain": [
       "[[1, 2, 3, 4, 5, 6, 7, 8, 9], [1, 6, 3, 5, 4, 2, 9, 8, 7]]"
      ]
     },
     "execution_count": 97,
     "metadata": {},
     "output_type": "execute_result"
    }
   ],
   "source": [
    "K.symmetries"
   ]
  },
  {
   "cell_type": "code",
   "execution_count": 98,
   "id": "f95934a9-dbf1-44f3-9eb1-a3704b841528",
   "metadata": {},
   "outputs": [],
   "source": [
    "symm_index = [(np.array(i)-1).tolist() for i in K.symmetries]"
   ]
  },
  {
   "cell_type": "markdown",
   "id": "e13a7f3c-8f33-4b1b-9640-bb164aba42ce",
   "metadata": {
    "jp-MarkdownHeadingCollapsed": true
   },
   "source": [
    "## types 0, 3"
   ]
  },
  {
   "cell_type": "code",
   "execution_count": 100,
   "id": "c342a63d-9519-4fb8-a194-5a40485bf101",
   "metadata": {},
   "outputs": [
    {
     "data": {
      "text/latex": [
       "$\\displaystyle \\left[\\begin{matrix}1 & 0 & 0 & 0 & 0 & -1 & d_{0} - d_{1} & 0 & 1\\\\0 & 1 & 0 & 0 & 0 & -1 & - d_{1} & 1 & 2\\\\0 & 0 & 1 & 0 & 0 & 1 & d_{1} - 1 & -1 & -1\\\\0 & 0 & 0 & 1 & 0 & 0 & d_{4} & -1 & -1\\\\0 & 0 & 0 & 0 & 1 & 0 & -1 & 0 & 1\\end{matrix}\\right]$"
      ],
      "text/plain": [
       "Matrix([\n",
       "[1, 0, 0, 0, 0, -1, d0 - d1,  0,  1],\n",
       "[0, 1, 0, 0, 0, -1,     -d1,  1,  2],\n",
       "[0, 0, 1, 0, 0,  1,  d1 - 1, -1, -1],\n",
       "[0, 0, 0, 1, 0,  0,      d4, -1, -1],\n",
       "[0, 0, 0, 0, 1,  0,      -1,  0,  1]])"
      ]
     },
     "metadata": {},
     "output_type": "display_data"
    },
    {
     "data": {
      "text/latex": [
       "$\\displaystyle \\left[\\begin{matrix}1 & 0 & 0 & 0 & 0 & -1 & b_{0} & 0 & 1\\\\0 & 1 & 0 & 0 & 0 & -1 & b_{1} & 1 & 2\\\\0 & 0 & 1 & 0 & 0 & 1 & - b_{1} - 1 & -1 & -1\\\\0 & 0 & 0 & 1 & 0 & 0 & b_{3} & -1 & -1\\\\0 & 0 & 0 & 0 & 1 & 0 & -1 & 0 & 1\\end{matrix}\\right]$"
      ],
      "text/plain": [
       "Matrix([\n",
       "[1, 0, 0, 0, 0, -1,      b0,  0,  1],\n",
       "[0, 1, 0, 0, 0, -1,      b1,  1,  2],\n",
       "[0, 0, 1, 0, 0,  1, -b1 - 1, -1, -1],\n",
       "[0, 0, 0, 1, 0,  0,      b3, -1, -1],\n",
       "[0, 0, 0, 0, 1,  0,      -1,  0,  1]])"
      ]
     },
     "metadata": {},
     "output_type": "display_data"
    }
   ],
   "source": [
    "display(fans[0][:, symm_index[1]].rref()[0])\n",
    "display(fans[3])"
   ]
  },
  {
   "cell_type": "markdown",
   "id": "af432d80-7fe7-4cb3-9702-bd6411d67f52",
   "metadata": {
    "jp-MarkdownHeadingCollapsed": true
   },
   "source": [
    "## type 1"
   ]
  },
  {
   "cell_type": "code",
   "execution_count": 101,
   "id": "afeb416c-7b27-48ad-afe0-555b340ed461",
   "metadata": {},
   "outputs": [
    {
     "data": {
      "text/latex": [
       "$\\displaystyle \\left[\\begin{matrix}1 & 0 & 0 & 0 & 0 & -1 & -1 & c_{3} & 1\\\\0 & 1 & 0 & 0 & 0 & -1 & -2 & 2 c_{3} + 1 & 2\\\\0 & 0 & 1 & 0 & 0 & 1 & 1 & - c_{3} - 1 & -1\\\\0 & 0 & 0 & 1 & 0 & 0 & 1 & - c_{3} - 1 & -1\\\\0 & 0 & 0 & 0 & 1 & 0 & -1 & c_{3} & 1\\end{matrix}\\right]$"
      ],
      "text/plain": [
       "Matrix([\n",
       "[1, 0, 0, 0, 0, -1, -1,       c3,  1],\n",
       "[0, 1, 0, 0, 0, -1, -2, 2*c3 + 1,  2],\n",
       "[0, 0, 1, 0, 0,  1,  1,  -c3 - 1, -1],\n",
       "[0, 0, 0, 1, 0,  0,  1,  -c3 - 1, -1],\n",
       "[0, 0, 0, 0, 1,  0, -1,       c3,  1]])"
      ]
     },
     "metadata": {},
     "output_type": "display_data"
    },
    {
     "data": {
      "text/latex": [
       "$\\displaystyle \\left[\\begin{matrix}1 & 0 & 0 & 0 & 0 & -1 & -1 & - c_{3} - 1 & 1\\\\0 & 1 & 0 & 0 & 0 & -1 & -2 & - 2 c_{3} - 1 & 2\\\\0 & 0 & 1 & 0 & 0 & 1 & 1 & c_{3} & -1\\\\0 & 0 & 0 & 1 & 0 & 0 & 1 & c_{3} & -1\\\\0 & 0 & 0 & 0 & 1 & 0 & -1 & - c_{3} - 1 & 1\\end{matrix}\\right]$"
      ],
      "text/plain": [
       "Matrix([\n",
       "[1, 0, 0, 0, 0, -1, -1,   -c3 - 1,  1],\n",
       "[0, 1, 0, 0, 0, -1, -2, -2*c3 - 1,  2],\n",
       "[0, 0, 1, 0, 0,  1,  1,        c3, -1],\n",
       "[0, 0, 0, 1, 0,  0,  1,        c3, -1],\n",
       "[0, 0, 0, 0, 1,  0, -1,   -c3 - 1,  1]])"
      ]
     },
     "metadata": {},
     "output_type": "display_data"
    }
   ],
   "source": [
    "display(fans[1][:, symm_index[1]].rref()[0])\n",
    "display(fans[1])"
   ]
  },
  {
   "cell_type": "markdown",
   "id": "fc59b0f0-3e4c-42ac-b8b7-cab0b337648b",
   "metadata": {
    "jp-MarkdownHeadingCollapsed": true
   },
   "source": [
    "## type 2, 4"
   ]
  },
  {
   "cell_type": "code",
   "execution_count": 102,
   "id": "108c4670-bb46-4a39-9e6f-662184e3428d",
   "metadata": {},
   "outputs": [
    {
     "data": {
      "text/latex": [
       "$\\displaystyle \\left[\\begin{matrix}1 & 0 & 0 & 0 & 0 & -1 & 1 - d_{1} & 1 - d_{1} & 1\\\\0 & 1 & 0 & 0 & 0 & -1 & - d_{1} & 1 - d_{1} & 1\\\\0 & 0 & 1 & 0 & 0 & 1 & d_{1} - 1 & d_{1} - 2 & -1\\\\0 & 0 & 0 & 1 & 0 & 0 & d_{4} & d_{4} - 1 & -1\\\\0 & 0 & 0 & 0 & 1 & 0 & -1 & -1 & 0\\end{matrix}\\right]$"
      ],
      "text/plain": [
       "Matrix([\n",
       "[1, 0, 0, 0, 0, -1, 1 - d1, 1 - d1,  1],\n",
       "[0, 1, 0, 0, 0, -1,    -d1, 1 - d1,  1],\n",
       "[0, 0, 1, 0, 0,  1, d1 - 1, d1 - 2, -1],\n",
       "[0, 0, 0, 1, 0,  0,     d4, d4 - 1, -1],\n",
       "[0, 0, 0, 0, 1,  0,     -1,     -1,  0]])"
      ]
     },
     "metadata": {},
     "output_type": "display_data"
    },
    {
     "data": {
      "text/latex": [
       "$\\displaystyle \\left[\\begin{matrix}1 & 0 & 0 & 0 & 0 & -1 & - c_{2} - 1 & - c_{2} - 1 & 1\\\\0 & 1 & 0 & 0 & 0 & -1 & - c_{2} - 2 & - c_{2} - 1 & 1\\\\0 & 0 & 1 & 0 & 0 & 1 & c_{2} + 1 & c_{2} & -1\\\\0 & 0 & 0 & 1 & 0 & 0 & c_{3} + 1 & c_{3} & -1\\\\0 & 0 & 0 & 0 & 1 & 0 & -1 & -1 & 0\\end{matrix}\\right]$"
      ],
      "text/plain": [
       "Matrix([\n",
       "[1, 0, 0, 0, 0, -1, -c2 - 1, -c2 - 1,  1],\n",
       "[0, 1, 0, 0, 0, -1, -c2 - 2, -c2 - 1,  1],\n",
       "[0, 0, 1, 0, 0,  1,  c2 + 1,      c2, -1],\n",
       "[0, 0, 0, 1, 0,  0,  c3 + 1,      c3, -1],\n",
       "[0, 0, 0, 0, 1,  0,      -1,      -1,  0]])"
      ]
     },
     "metadata": {},
     "output_type": "display_data"
    }
   ],
   "source": [
    "display(fans[2][:, symm_index[1]].rref()[0])\n",
    "display(fans[4])"
   ]
  }
 ],
 "metadata": {
  "kernelspec": {
   "display_name": "Python 3 (ipykernel)",
   "language": "python",
   "name": "python3"
  },
  "language_info": {
   "codemirror_mode": {
    "name": "ipython",
    "version": 3
   },
   "file_extension": ".py",
   "mimetype": "text/x-python",
   "name": "python",
   "nbconvert_exporter": "python",
   "pygments_lexer": "ipython3",
   "version": "3.12.7"
  }
 },
 "nbformat": 4,
 "nbformat_minor": 5
}
