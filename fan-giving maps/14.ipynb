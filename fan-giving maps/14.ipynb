{
 "cells": [
  {
   "cell_type": "markdown",
   "id": "88a45b06-0c2e-495c-8130-a3b2b9b21bd8",
   "metadata": {
    "jp-MarkdownHeadingCollapsed": true
   },
   "source": [
    "# Preparation"
   ]
  },
  {
   "cell_type": "code",
   "execution_count": 1,
   "id": "a8d1a5a8-1e28-4abe-bbe4-1188621c64ca",
   "metadata": {},
   "outputs": [],
   "source": [
    "%run programs\\\\Characteristic_Pair.py\n",
    "import copy\n",
    "\n",
    "fanlikes_index=14\n",
    "projectied_vertex=4\n",
    "link_index=4\n",
    "\n",
    "K = Simplicial_Complex(json.loads(read_file('programs\\\\fanlikes')[fanlikes_index]))\n",
    "M = initial_char(K.n)\n",
    "C0 = Characteristic_Pair(K, M)\n",
    "fans = []\n",
    "\n",
    "a = sp.symbols('a0:%d'%K.n)\n",
    "b = sp.symbols('b0:%d'%K.n)\n",
    "c = sp.symbols('c0:%d'%K.n)\n",
    "d = sp.symbols('d0:%d'%K.n)\n",
    "\n",
    "a0, a1, a2, a3 = a[:]\n",
    "b0, b1, b2, b3 = b[:]\n",
    "c0, c1, c2, c3 = c[:]\n",
    "d0, d1, d2, d3 = d[:]"
   ]
  },
  {
   "cell_type": "code",
   "execution_count": 2,
   "id": "22341429-16ec-4752-9dab-2c617ed14844",
   "metadata": {},
   "outputs": [
    {
     "data": {
      "text/latex": [
       "$\\displaystyle \\left[\\begin{matrix}1 & 0 & 0 & 0 & a_{0} & b_{0} & c_{0} & d_{0}\\\\0 & 1 & 0 & 0 & a_{1} & b_{1} & c_{1} & d_{1}\\\\0 & 0 & 1 & 0 & a_{2} & b_{2} & c_{2} & d_{2}\\\\0 & 0 & 0 & 1 & a_{3} & b_{3} & c_{3} & d_{3}\\end{matrix}\\right]$"
      ],
      "text/plain": [
       "Matrix([\n",
       "[1, 0, 0, 0, a0, b0, c0, d0],\n",
       "[0, 1, 0, 0, a1, b1, c1, d1],\n",
       "[0, 0, 1, 0, a2, b2, c2, d2],\n",
       "[0, 0, 0, 1, a3, b3, c3, d3]])"
      ]
     },
     "execution_count": 2,
     "metadata": {},
     "output_type": "execute_result"
    }
   ],
   "source": [
    "C = C0\n",
    "C.char"
   ]
  },
  {
   "cell_type": "code",
   "execution_count": 3,
   "id": "0d4234c5-d2ad-43f2-bcf2-53df6f518fc0",
   "metadata": {},
   "outputs": [
    {
     "name": "stdout",
     "output_type": "stream",
     "text": [
      "facet number: 10\n"
     ]
    },
    {
     "data": {
      "text/latex": [
       "$\\displaystyle - a_{0} = 1$"
      ],
      "text/plain": [
       "Eq(-a0, 1)"
      ]
     },
     "metadata": {},
     "output_type": "display_data"
    },
    {
     "name": "stdout",
     "output_type": "stream",
     "text": [
      "facet number: 3\n"
     ]
    },
    {
     "data": {
      "text/latex": [
       "$\\displaystyle a_{1} = -1$"
      ],
      "text/plain": [
       "Eq(a1, -1)"
      ]
     },
     "metadata": {},
     "output_type": "display_data"
    },
    {
     "name": "stdout",
     "output_type": "stream",
     "text": [
      "facet number: 2\n"
     ]
    },
    {
     "data": {
      "text/latex": [
       "$\\displaystyle - d_{2} = 1$"
      ],
      "text/plain": [
       "Eq(-d2, 1)"
      ]
     },
     "metadata": {},
     "output_type": "display_data"
    },
    {
     "name": "stdout",
     "output_type": "stream",
     "text": [
      "facet number: 1\n"
     ]
    },
    {
     "data": {
      "text/latex": [
       "$\\displaystyle d_{3} = -1$"
      ],
      "text/plain": [
       "Eq(d3, -1)"
      ]
     },
     "metadata": {},
     "output_type": "display_data"
    }
   ],
   "source": [
    "i=10\n",
    "print('facet number:', i)\n",
    "display(sp.Eq(C.determinants[i], C.orientation[i]))\n",
    "\n",
    "i=3\n",
    "print('facet number:', i)\n",
    "display(sp.Eq(C.determinants[i], C.orientation[i]))\n",
    "\n",
    "i=2\n",
    "print('facet number:', i)\n",
    "display(sp.Eq(C.determinants[i], C.orientation[i]))\n",
    "\n",
    "i=1\n",
    "print('facet number:', i)\n",
    "display(sp.Eq(C.determinants[i], C.orientation[i]))\n",
    "\n",
    "C.subs(a0, -1)\n",
    "C.subs(a1, -1)\n",
    "C.subs(d2, -1)\n",
    "C.subs(d3, -1)"
   ]
  },
  {
   "cell_type": "markdown",
   "id": "7ccb2119-3126-4c0b-8022-d88dc46dd725",
   "metadata": {
    "jp-MarkdownHeadingCollapsed": true
   },
   "source": [
    "# The projection with respect to 4"
   ]
  },
  {
   "cell_type": "code",
   "execution_count": 4,
   "id": "0e323cef-c0a2-46e2-9a4a-ae5e50771989",
   "metadata": {},
   "outputs": [
    {
     "name": "stdout",
     "output_type": "stream",
     "text": [
      "[[1, 2, 3], [1, 2, 8], [1, 3, 5], [1, 5, 6], [1, 6, 7], [1, 7, 8], [2, 3, 5], [2, 5, 7], [2, 7, 8], [5, 6, 7]]\n"
     ]
    }
   ],
   "source": [
    "print(Link(K, [projectied_vertex]).cpx)"
   ]
  },
  {
   "cell_type": "code",
   "execution_count": 5,
   "id": "f30eb303-c49a-4ce3-8acd-ff8035ccc85e",
   "metadata": {},
   "outputs": [
    {
     "name": "stdout",
     "output_type": "stream",
     "text": [
      "[[1, 2, 3], [1, 2, 7], [1, 3, 4], [1, 4, 5], [1, 5, 6], [1, 6, 7], [2, 3, 4], [2, 4, 6], [2, 6, 7], [4, 5, 6]]\n"
     ]
    }
   ],
   "source": [
    "print(json.loads(read_file('programs\\\\fanlikes')[link_index]))"
   ]
  },
  {
   "cell_type": "code",
   "execution_count": 6,
   "id": "df140542-cdf9-4552-9612-b989fd3da923",
   "metadata": {},
   "outputs": [
    {
     "name": "stdout",
     "output_type": "stream",
     "text": [
      "[[1, 2, 3], [1, 2, 7], [1, 3, 4], [1, 4, 5], [1, 5, 6], [1, 6, 7], [2, 3, 4], [2, 4, 6], [2, 6, 7], [4, 5, 6]]\n"
     ]
    },
    {
     "data": {
      "text/plain": [
       "True"
      ]
     },
     "execution_count": 6,
     "metadata": {},
     "output_type": "execute_result"
    }
   ],
   "source": [
    "L=[] # making the vertices of the link consecutive\n",
    "for l in Link(K, [projectied_vertex]).cpx:\n",
    "    L.append([])\n",
    "    for v in l:\n",
    "        if v>projectied_vertex:\n",
    "            L[-1].append(v-1)\n",
    "        else:\n",
    "            L[-1].append(v)\n",
    "print(L)\n",
    "L==json.loads(read_file('programs\\\\fanlikes')[link_index])"
   ]
  },
  {
   "cell_type": "code",
   "execution_count": 7,
   "id": "819b93af-0d9f-4aa9-912b-371f2dda7836",
   "metadata": {},
   "outputs": [
    {
     "data": {
      "text/latex": [
       "$\\displaystyle \\left[\\begin{matrix}1 & 0 & 0 & -1 & b_{0} & c_{0} & d_{0}\\\\0 & 1 & 0 & -1 & b_{1} & c_{1} & d_{1}\\\\0 & 0 & 1 & a_{2} & b_{2} & c_{2} & -1\\end{matrix}\\right]$"
      ],
      "text/plain": [
       "Matrix([\n",
       "[1, 0, 0, -1, b0, c0, d0],\n",
       "[0, 1, 0, -1, b1, c1, d1],\n",
       "[0, 0, 1, a2, b2, c2, -1]])"
      ]
     },
     "metadata": {},
     "output_type": "display_data"
    }
   ],
   "source": [
    "display(C.proj([projectied_vertex]))"
   ]
  },
  {
   "cell_type": "markdown",
   "id": "dbcfd1c6-d2b6-4db0-81c1-f5fb1408a298",
   "metadata": {
    "jp-MarkdownHeadingCollapsed": true
   },
   "source": [
    "# The projection has 9 types of fans up to D-J equivalence"
   ]
  },
  {
   "cell_type": "code",
   "execution_count": 8,
   "id": "ed179421-0afe-4afc-b868-2c1c3dbe28e5",
   "metadata": {},
   "outputs": [],
   "source": [
    "import pickle\n",
    "with open('programs\\\\pickle_files\\\\%d_up_to_DJ.p'%(link_index), 'rb') as f:\n",
    "    fans_link = pickle.load(f)"
   ]
  },
  {
   "cell_type": "code",
   "execution_count": 9,
   "id": "934c9089-0a81-48c2-b920-150496633535",
   "metadata": {},
   "outputs": [
    {
     "data": {
      "text/latex": [
       "$\\displaystyle \\left[\\begin{matrix}1 & 0 & 0 & -1 & 0 & 0 & 1\\\\0 & 1 & 0 & -1 & 0 & 1 & 2\\\\0 & 0 & 1 & a_{2} & -1 & -1 & -1\\end{matrix}\\right]$"
      ],
      "text/plain": [
       "Matrix([\n",
       "[1, 0, 0, -1,  0,  0,  1],\n",
       "[0, 1, 0, -1,  0,  1,  2],\n",
       "[0, 0, 1, a2, -1, -1, -1]])"
      ]
     },
     "metadata": {},
     "output_type": "display_data"
    },
    {
     "data": {
      "text/latex": [
       "$\\displaystyle \\left[\\begin{matrix}1 & 0 & 0 & -1 & -1 & -1 & d_{0}\\\\0 & 1 & 0 & -1 & -2 & -1 & d_{1}\\\\0 & 0 & 1 & 1 & 1 & 0 & -1\\end{matrix}\\right]$"
      ],
      "text/plain": [
       "Matrix([\n",
       "[1, 0, 0, -1, -1, -1, d0],\n",
       "[0, 1, 0, -1, -2, -1, d1],\n",
       "[0, 0, 1,  1,  1,  0, -1]])"
      ]
     },
     "metadata": {},
     "output_type": "display_data"
    },
    {
     "data": {
      "text/latex": [
       "$\\displaystyle \\left[\\begin{matrix}1 & 0 & 0 & -1 & d_{0} - 1 & d_{0} - 1 & d_{0}\\\\0 & 1 & 0 & -1 & d_{1} - 2 & d_{1} - 1 & d_{1}\\\\0 & 0 & 1 & 0 & -1 & -1 & -1\\end{matrix}\\right]$"
      ],
      "text/plain": [
       "Matrix([\n",
       "[1, 0, 0, -1, d0 - 1, d0 - 1, d0],\n",
       "[0, 1, 0, -1, d1 - 2, d1 - 1, d1],\n",
       "[0, 0, 1,  0,     -1,     -1, -1]])"
      ]
     },
     "metadata": {},
     "output_type": "display_data"
    },
    {
     "data": {
      "text/latex": [
       "$\\displaystyle \\left[\\begin{matrix}1 & 0 & 0 & -1 & -1 & - c_{2} - 1 & 1\\\\0 & 1 & 0 & -1 & -2 & - 2 c_{2} - 1 & 2\\\\0 & 0 & 1 & 1 & 1 & c_{2} & -1\\end{matrix}\\right]$"
      ],
      "text/plain": [
       "Matrix([\n",
       "[1, 0, 0, -1, -1,   -c2 - 1,  1],\n",
       "[0, 1, 0, -1, -2, -2*c2 - 1,  2],\n",
       "[0, 0, 1,  1,  1,        c2, -1]])"
      ]
     },
     "metadata": {},
     "output_type": "display_data"
    },
    {
     "data": {
      "text/latex": [
       "$\\displaystyle \\left[\\begin{matrix}1 & 0 & 0 & -1 & 0 & 0 & 1\\\\0 & 1 & 0 & -1 & -1 & d_{1} - 1 & d_{1}\\\\0 & 0 & 1 & 1 & 0 & -1 & -1\\end{matrix}\\right]$"
      ],
      "text/plain": [
       "Matrix([\n",
       "[1, 0, 0, -1,  0,      0,  1],\n",
       "[0, 1, 0, -1, -1, d1 - 1, d1],\n",
       "[0, 0, 1,  1,  0,     -1, -1]])"
      ]
     },
     "metadata": {},
     "output_type": "display_data"
    },
    {
     "data": {
      "text/latex": [
       "$\\displaystyle \\left[\\begin{matrix}1 & 0 & 0 & -1 & b_{0} & 0 & 1\\\\0 & 1 & 0 & -1 & b_{1} & 1 & 2\\\\0 & 0 & 1 & 1 & - b_{1} - 1 & -1 & -1\\end{matrix}\\right]$"
      ],
      "text/plain": [
       "Matrix([\n",
       "[1, 0, 0, -1,      b0,  0,  1],\n",
       "[0, 1, 0, -1,      b1,  1,  2],\n",
       "[0, 0, 1,  1, -b1 - 1, -1, -1]])"
      ]
     },
     "metadata": {},
     "output_type": "display_data"
    },
    {
     "data": {
      "text/latex": [
       "$\\displaystyle \\left[\\begin{matrix}1 & 0 & 0 & -1 & - c_{2} - 1 & - c_{2} - 1 & 1\\\\0 & 1 & 0 & -1 & - c_{2} - 2 & - c_{2} - 1 & 1\\\\0 & 0 & 1 & 1 & c_{2} + 1 & c_{2} & -1\\end{matrix}\\right]$"
      ],
      "text/plain": [
       "Matrix([\n",
       "[1, 0, 0, -1, -c2 - 1, -c2 - 1,  1],\n",
       "[0, 1, 0, -1, -c2 - 2, -c2 - 1,  1],\n",
       "[0, 0, 1,  1,  c2 + 1,      c2, -1]])"
      ]
     },
     "metadata": {},
     "output_type": "display_data"
    },
    {
     "data": {
      "text/latex": [
       "$\\displaystyle \\left[\\begin{matrix}1 & 0 & 0 & -1 & -1 & -1 & 0\\\\0 & 1 & 0 & -1 & -2 & -1 & 0\\\\0 & 0 & 1 & c_{2} + 1 & 2 c_{2} + 1 & c_{2} & -1\\end{matrix}\\right]$"
      ],
      "text/plain": [
       "Matrix([\n",
       "[1, 0, 0,     -1,       -1, -1,  0],\n",
       "[0, 1, 0,     -1,       -2, -1,  0],\n",
       "[0, 0, 1, c2 + 1, 2*c2 + 1, c2, -1]])"
      ]
     },
     "metadata": {},
     "output_type": "display_data"
    },
    {
     "data": {
      "text/latex": [
       "$\\displaystyle \\left[\\begin{matrix}1 & 0 & 0 & -1 & 0 & 0 & 1\\\\0 & 1 & 0 & -1 & -1 & 0 & 1\\\\0 & 0 & 1 & a_{2} & a_{2} - 1 & -1 & -1\\end{matrix}\\right]$"
      ],
      "text/plain": [
       "Matrix([\n",
       "[1, 0, 0, -1,      0,  0,  1],\n",
       "[0, 1, 0, -1,     -1,  0,  1],\n",
       "[0, 0, 1, a2, a2 - 1, -1, -1]])"
      ]
     },
     "metadata": {},
     "output_type": "display_data"
    }
   ],
   "source": [
    "for f in fans_link:\n",
    "    display(f)"
   ]
  },
  {
   "cell_type": "markdown",
   "id": "ff605ab7-f715-404f-810b-92bbab3fc765",
   "metadata": {
    "jp-MarkdownHeadingCollapsed": true
   },
   "source": [
    "# Type 0 of the projection"
   ]
  },
  {
   "cell_type": "code",
   "execution_count": 11,
   "id": "aa377bcd-fa7a-48f6-92c4-ac15a279853d",
   "metadata": {},
   "outputs": [
    {
     "data": {
      "text/latex": [
       "$\\displaystyle \\left[\\begin{matrix}1 & 0 & 0 & -1 & b_{0} & c_{0} & d_{0}\\\\0 & 1 & 0 & -1 & b_{1} & c_{1} & d_{1}\\\\0 & 0 & 1 & a_{2} & b_{2} & c_{2} & -1\\end{matrix}\\right] = \\left[\\begin{matrix}1 & 0 & 0 & -1 & 0 & 0 & 1\\\\0 & 1 & 0 & -1 & 0 & 1 & 2\\\\0 & 0 & 1 & a_{2} & -1 & -1 & -1\\end{matrix}\\right]$"
      ],
      "text/plain": [
       "Eq(Matrix([\n",
       "[1, 0, 0, -1, b0, c0, d0],\n",
       "[0, 1, 0, -1, b1, c1, d1],\n",
       "[0, 0, 1, a2, b2, c2, -1]]), Matrix([\n",
       "[1, 0, 0, -1,  0,  0,  1],\n",
       "[0, 1, 0, -1,  0,  1,  2],\n",
       "[0, 0, 1, a2, -1, -1, -1]]))"
      ]
     },
     "metadata": {},
     "output_type": "display_data"
    }
   ],
   "source": [
    "C1 = copy.deepcopy(C0)\n",
    "C = C1\n",
    "t=0\n",
    "\n",
    "proj = C.proj([projectied_vertex])\n",
    "with sp.evaluate(False):\n",
    "    display(sp.Eq(proj, fans_link[t]))"
   ]
  },
  {
   "cell_type": "code",
   "execution_count": 12,
   "id": "41ea0310-b5cf-41e4-bb0a-cfb79222eb08",
   "metadata": {},
   "outputs": [
    {
     "data": {
      "text/latex": [
       "$\\displaystyle \\text{True}$"
      ],
      "text/plain": [
       "True"
      ]
     },
     "metadata": {},
     "output_type": "display_data"
    }
   ],
   "source": [
    "C.subs(b0, 0)\n",
    "C.subs(b1, 0)\n",
    "C.subs(b2, -1)\n",
    "C.subs(c0, 0)\n",
    "C.subs(c1, 1)\n",
    "C.subs(c2, -1)\n",
    "C.subs(d0, 1)\n",
    "C.subs(d1, 2)\n",
    "\n",
    "display(sp.Eq(C.proj([projectied_vertex]), fans_link[t]))"
   ]
  },
  {
   "cell_type": "code",
   "execution_count": 16,
   "id": "4019583a-9beb-4672-8c92-223ddea7e7e6",
   "metadata": {},
   "outputs": [
    {
     "name": "stdout",
     "output_type": "stream",
     "text": [
      "facet number: 5\n"
     ]
    },
    {
     "data": {
      "text/latex": [
       "$\\displaystyle 2 b_{3} = -1$"
      ],
      "text/plain": [
       "Eq(2*b3, -1)"
      ]
     },
     "metadata": {},
     "output_type": "display_data"
    },
    {
     "name": "stdout",
     "output_type": "stream",
     "text": [
      "no solution\n"
     ]
    }
   ],
   "source": [
    "i=5\n",
    "print('facet number:', i)\n",
    "display(sp.Eq(C.determinants[i], C.orientation[i]))\n",
    "\n",
    "print('no solution')"
   ]
  },
  {
   "cell_type": "markdown",
   "id": "a7d16530-a1e4-4d26-8520-a6500c55086a",
   "metadata": {
    "jp-MarkdownHeadingCollapsed": true
   },
   "source": [
    "# Type 1 of the projection"
   ]
  },
  {
   "cell_type": "code",
   "execution_count": 27,
   "id": "fe961236-6c80-4a69-9c7c-3233152f28f2",
   "metadata": {},
   "outputs": [
    {
     "data": {
      "text/latex": [
       "$\\displaystyle \\left[\\begin{matrix}1 & 0 & 0 & -1 & b_{0} & c_{0} & d_{0}\\\\0 & 1 & 0 & -1 & b_{1} & c_{1} & d_{1}\\\\0 & 0 & 1 & a_{2} & b_{2} & c_{2} & -1\\end{matrix}\\right] = \\left[\\begin{matrix}1 & 0 & 0 & -1 & -1 & -1 & d_{0}\\\\0 & 1 & 0 & -1 & -2 & -1 & d_{1}\\\\0 & 0 & 1 & 1 & 1 & 0 & -1\\end{matrix}\\right]$"
      ],
      "text/plain": [
       "Eq(Matrix([\n",
       "[1, 0, 0, -1, b0, c0, d0],\n",
       "[0, 1, 0, -1, b1, c1, d1],\n",
       "[0, 0, 1, a2, b2, c2, -1]]), Matrix([\n",
       "[1, 0, 0, -1, -1, -1, d0],\n",
       "[0, 1, 0, -1, -2, -1, d1],\n",
       "[0, 0, 1,  1,  1,  0, -1]]))"
      ]
     },
     "metadata": {},
     "output_type": "display_data"
    }
   ],
   "source": [
    "C1 = copy.deepcopy(C0)\n",
    "C = C1\n",
    "t=1\n",
    "\n",
    "proj = C.proj([projectied_vertex])\n",
    "with sp.evaluate(False):\n",
    "    display(sp.Eq(proj, fans_link[t]))"
   ]
  },
  {
   "cell_type": "code",
   "execution_count": 28,
   "id": "26285127-b6e0-4c6e-8c87-eaabf046cb1a",
   "metadata": {},
   "outputs": [
    {
     "data": {
      "text/latex": [
       "$\\displaystyle \\text{True}$"
      ],
      "text/plain": [
       "True"
      ]
     },
     "metadata": {},
     "output_type": "display_data"
    }
   ],
   "source": [
    "C.subs(a2, 1)\n",
    "C.subs(b0, -1)\n",
    "C.subs(b1, -2)\n",
    "C.subs(b2, 1)\n",
    "C.subs(c0, -1)\n",
    "C.subs(c1, -1)\n",
    "C.subs(c2, 0)\n",
    "\n",
    "display(sp.Eq(C.proj([projectied_vertex]), fans_link[t]))"
   ]
  },
  {
   "cell_type": "code",
   "execution_count": 29,
   "id": "6bc70476-43f2-448a-803a-4906a9ed882a",
   "metadata": {},
   "outputs": [
    {
     "name": "stdout",
     "output_type": "stream",
     "text": [
      "facet number: 4\n"
     ]
    },
    {
     "data": {
      "text/latex": [
       "$\\displaystyle - 2 a_{3} + b_{3} = -1$"
      ],
      "text/plain": [
       "Eq(-2*a3 + b3, -1)"
      ]
     },
     "metadata": {},
     "output_type": "display_data"
    }
   ],
   "source": [
    "i=4\n",
    "print('facet number:', i)\n",
    "display(sp.Eq(C.determinants[i], C.orientation[i]))\n",
    "\n",
    "C.subs(b3, 2*a3-1)"
   ]
  },
  {
   "cell_type": "code",
   "execution_count": 30,
   "id": "edaacf33-db5d-498b-a255-049ac79f582b",
   "metadata": {},
   "outputs": [
    {
     "name": "stdout",
     "output_type": "stream",
     "text": [
      "facet number: 11\n"
     ]
    },
    {
     "data": {
      "text/latex": [
       "$\\displaystyle a_{3} - c_{3} = 1$"
      ],
      "text/plain": [
       "Eq(a3 - c3, 1)"
      ]
     },
     "metadata": {},
     "output_type": "display_data"
    }
   ],
   "source": [
    "i=11\n",
    "print('facet number:', i)\n",
    "display(sp.Eq(C.determinants[i], C.orientation[i]))\n",
    "\n",
    "C.subs(c3, a3-1)"
   ]
  },
  {
   "cell_type": "code",
   "execution_count": 31,
   "id": "c0403cdc-cd88-4f96-a0cd-b824b52e2830",
   "metadata": {},
   "outputs": [
    {
     "name": "stdout",
     "output_type": "stream",
     "text": [
      "facet number: 5\n"
     ]
    },
    {
     "data": {
      "text/latex": [
       "$\\displaystyle 2 a_{3} d_{1} - d_{1} - 2 = -1$"
      ],
      "text/plain": [
       "Eq(2*a3*d1 - d1 - 2, -1)"
      ]
     },
     "metadata": {},
     "output_type": "display_data"
    },
    {
     "name": "stdout",
     "output_type": "stream",
     "text": [
      "facet number: 9\n"
     ]
    },
    {
     "data": {
      "text/latex": [
       "$\\displaystyle d_{1} \\left(a_{3} - 1\\right) = -1$"
      ],
      "text/plain": [
       "Eq(d1*(a3 - 1), -1)"
      ]
     },
     "metadata": {},
     "output_type": "display_data"
    },
    {
     "name": "stdout",
     "output_type": "stream",
     "text": [
      "facet number: 16\n"
     ]
    },
    {
     "data": {
      "text/latex": [
       "$\\displaystyle - a_{3} d_{1} + d_{0} + 1 = 1$"
      ],
      "text/plain": [
       "Eq(-a3*d1 + d0 + 1, 1)"
      ]
     },
     "metadata": {},
     "output_type": "display_data"
    },
    {
     "data": {
      "text/latex": [
       "$\\displaystyle d_{0} - 1 = 1$"
      ],
      "text/plain": [
       "Eq(d0 - 1, 1)"
      ]
     },
     "metadata": {},
     "output_type": "display_data"
    }
   ],
   "source": [
    "i=5\n",
    "print('facet number:', i)\n",
    "display(sp.Eq(C.determinants[i], C.orientation[i]))\n",
    "\n",
    "i=9\n",
    "print('facet number:', i)\n",
    "display(sp.Eq(C.determinants[i], C.orientation[i]))\n",
    "\n",
    "i=16\n",
    "print('facet number:', i)\n",
    "display(sp.Eq(C.determinants[i], C.orientation[i]))\n",
    "\n",
    "display(sp.Eq(sp.expand(C.determinants[5] - C.determinants[9] + C.determinants[16]), C.orientation[5] - C.orientation[9] + C.orientation[16]))\n",
    "\n",
    "C.subs(d0, 2)"
   ]
  },
  {
   "cell_type": "code",
   "execution_count": 33,
   "id": "47e7cece-6e51-43ed-b131-a4d14ff55df1",
   "metadata": {},
   "outputs": [
    {
     "name": "stdout",
     "output_type": "stream",
     "text": [
      "facet number: 9\n"
     ]
    },
    {
     "data": {
      "text/latex": [
       "$\\displaystyle d_{1} \\left(a_{3} - 1\\right) = -1$"
      ],
      "text/plain": [
       "Eq(d1*(a3 - 1), -1)"
      ]
     },
     "metadata": {},
     "output_type": "display_data"
    },
    {
     "name": "stdout",
     "output_type": "stream",
     "text": [
      "facet number: 12\n"
     ]
    },
    {
     "data": {
      "text/latex": [
       "$\\displaystyle 3 - 2 a_{3} = 1$"
      ],
      "text/plain": [
       "Eq(3 - 2*a3, 1)"
      ]
     },
     "metadata": {},
     "output_type": "display_data"
    },
    {
     "name": "stdout",
     "output_type": "stream",
     "text": [
      "no solution\n"
     ]
    }
   ],
   "source": [
    "i=9\n",
    "print('facet number:', i)\n",
    "display(sp.Eq(C.determinants[i], C.orientation[i]))\n",
    "\n",
    "i=12\n",
    "print('facet number:', i)\n",
    "display(sp.Eq(C.determinants[i], C.orientation[i]))\n",
    "\n",
    "print('no solution')"
   ]
  },
  {
   "cell_type": "markdown",
   "id": "869f5253-4188-4f1e-aa2c-e119083ed1f1",
   "metadata": {
    "jp-MarkdownHeadingCollapsed": true
   },
   "source": [
    "# Type 2 of the projection"
   ]
  },
  {
   "cell_type": "code",
   "execution_count": 50,
   "id": "81b9bb5b-3021-432f-9a90-8cf18d41424e",
   "metadata": {},
   "outputs": [
    {
     "data": {
      "text/latex": [
       "$\\displaystyle \\left[\\begin{matrix}1 & 0 & 0 & -1 & b_{0} & c_{0} & d_{0}\\\\0 & 1 & 0 & -1 & b_{1} & c_{1} & d_{1}\\\\0 & 0 & 1 & a_{2} & b_{2} & c_{2} & -1\\end{matrix}\\right] = \\left[\\begin{matrix}1 & 0 & 0 & -1 & d_{0} - 1 & d_{0} - 1 & d_{0}\\\\0 & 1 & 0 & -1 & d_{1} - 2 & d_{1} - 1 & d_{1}\\\\0 & 0 & 1 & 0 & -1 & -1 & -1\\end{matrix}\\right]$"
      ],
      "text/plain": [
       "Eq(Matrix([\n",
       "[1, 0, 0, -1, b0, c0, d0],\n",
       "[0, 1, 0, -1, b1, c1, d1],\n",
       "[0, 0, 1, a2, b2, c2, -1]]), Matrix([\n",
       "[1, 0, 0, -1, d0 - 1, d0 - 1, d0],\n",
       "[0, 1, 0, -1, d1 - 2, d1 - 1, d1],\n",
       "[0, 0, 1,  0,     -1,     -1, -1]]))"
      ]
     },
     "metadata": {},
     "output_type": "display_data"
    }
   ],
   "source": [
    "C1 = copy.deepcopy(C0)\n",
    "C = C1\n",
    "t=2\n",
    "\n",
    "proj = C.proj([projectied_vertex])\n",
    "with sp.evaluate(False):\n",
    "    display(sp.Eq(proj, fans_link[t]))"
   ]
  },
  {
   "cell_type": "code",
   "execution_count": 51,
   "id": "5c29a42b-01a0-4c47-9c33-2ab5080aedc4",
   "metadata": {},
   "outputs": [
    {
     "data": {
      "text/latex": [
       "$\\displaystyle \\text{True}$"
      ],
      "text/plain": [
       "True"
      ]
     },
     "metadata": {},
     "output_type": "display_data"
    }
   ],
   "source": [
    "C.subs(a2, 0)\n",
    "C.subs(b0, d0-1)\n",
    "C.subs(b1, d1-2)\n",
    "C.subs(b2, -1)\n",
    "C.subs(c0, d0-1)\n",
    "C.subs(c1, d1-1)\n",
    "C.subs(c2, -1)\n",
    "\n",
    "display(sp.Eq(C.proj([projectied_vertex]), fans_link[t]))"
   ]
  },
  {
   "cell_type": "code",
   "execution_count": 52,
   "id": "ea487863-d266-488d-a39f-c7997450891c",
   "metadata": {},
   "outputs": [
    {
     "name": "stdout",
     "output_type": "stream",
     "text": [
      "facet number: 9\n"
     ]
    },
    {
     "data": {
      "text/latex": [
       "$\\displaystyle b_{3} - 2 c_{3} - 1 = -1$"
      ],
      "text/plain": [
       "Eq(b3 - 2*c3 - 1, -1)"
      ]
     },
     "metadata": {},
     "output_type": "display_data"
    }
   ],
   "source": [
    "i=9\n",
    "print('facet number:', i)\n",
    "display(sp.Eq(C.determinants[i], C.orientation[i]))\n",
    "\n",
    "C.subs(b3, 2*c3)"
   ]
  },
  {
   "cell_type": "code",
   "execution_count": 53,
   "id": "e5ddc2ff-1d91-4fda-9b93-2361ee165092",
   "metadata": {},
   "outputs": [
    {
     "name": "stdout",
     "output_type": "stream",
     "text": [
      "facet number: 5\n"
     ]
    },
    {
     "data": {
      "text/latex": [
       "$\\displaystyle 2 c_{3} d_{1} + d_{1} - 2 = -1$"
      ],
      "text/plain": [
       "Eq(2*c3*d1 + d1 - 2, -1)"
      ]
     },
     "metadata": {},
     "output_type": "display_data"
    },
    {
     "name": "stdout",
     "output_type": "stream",
     "text": [
      "facet number: 16\n"
     ]
    },
    {
     "data": {
      "text/latex": [
       "$\\displaystyle - c_{3} d_{1} - d_{0} + 1 = 1$"
      ],
      "text/plain": [
       "Eq(-c3*d1 - d0 + 1, 1)"
      ]
     },
     "metadata": {},
     "output_type": "display_data"
    },
    {
     "data": {
      "text/latex": [
       "$\\displaystyle - 2 d_{0} + d_{1} = 1$"
      ],
      "text/plain": [
       "Eq(-2*d0 + d1, 1)"
      ]
     },
     "metadata": {},
     "output_type": "display_data"
    }
   ],
   "source": [
    "i=5\n",
    "print('facet number:', i)\n",
    "display(sp.Eq(C.determinants[i], C.orientation[i]))\n",
    "\n",
    "i=16\n",
    "print('facet number:', i)\n",
    "display(sp.Eq(C.determinants[i], C.orientation[i]))\n",
    "\n",
    "display(sp.Eq(sp.expand(C.determinants[5] + 2*C.determinants[16]), C.orientation[5] + 2*C.orientation[16]))\n",
    "\n",
    "C.subs(d1, 2*d0+1)"
   ]
  },
  {
   "cell_type": "code",
   "execution_count": 54,
   "id": "24d6c4e5-79fa-40be-8ff6-e306787ba0e8",
   "metadata": {},
   "outputs": [
    {
     "name": "stdout",
     "output_type": "stream",
     "text": [
      "facet number: 12\n"
     ]
    },
    {
     "data": {
      "text/latex": [
       "$\\displaystyle - c_{3} d_{0} - d_{0} + 1 = 1$"
      ],
      "text/plain": [
       "Eq(-c3*d0 - d0 + 1, 1)"
      ]
     },
     "metadata": {},
     "output_type": "display_data"
    },
    {
     "name": "stdout",
     "output_type": "stream",
     "text": [
      "facet number: 16\n"
     ]
    },
    {
     "data": {
      "text/latex": [
       "$\\displaystyle - 2 c_{3} d_{0} - c_{3} - d_{0} + 1 = 1$"
      ],
      "text/plain": [
       "Eq(-2*c3*d0 - c3 - d0 + 1, 1)"
      ]
     },
     "metadata": {},
     "output_type": "display_data"
    },
    {
     "data": {
      "text/latex": [
       "$\\displaystyle - c_{3} + d_{0} - 1 = -1$"
      ],
      "text/plain": [
       "Eq(-c3 + d0 - 1, -1)"
      ]
     },
     "metadata": {},
     "output_type": "display_data"
    }
   ],
   "source": [
    "i=12\n",
    "print('facet number:', i)\n",
    "display(sp.Eq(C.determinants[i], C.orientation[i]))\n",
    "\n",
    "i=16\n",
    "print('facet number:', i)\n",
    "display(sp.Eq(C.determinants[i], C.orientation[i]))\n",
    "\n",
    "display(sp.Eq(sp.expand(C.determinants[16] - 2*C.determinants[12]), C.orientation[16] - 2*C.orientation[12]))\n",
    "\n",
    "C.subs(c3, d0)"
   ]
  },
  {
   "cell_type": "code",
   "execution_count": 56,
   "id": "e5b33ddf-5941-4ca2-894c-894255fa73e9",
   "metadata": {},
   "outputs": [
    {
     "name": "stdout",
     "output_type": "stream",
     "text": [
      "facet number: 4\n"
     ]
    },
    {
     "data": {
      "text/latex": [
       "$\\displaystyle 2 a_{3} d_{0} - a_{3} + 2 d_{0} = -1$"
      ],
      "text/plain": [
       "Eq(2*a3*d0 - a3 + 2*d0, -1)"
      ]
     },
     "metadata": {},
     "output_type": "display_data"
    },
    {
     "name": "stdout",
     "output_type": "stream",
     "text": [
      "facet number: 11\n"
     ]
    },
    {
     "data": {
      "text/latex": [
       "$\\displaystyle - a_{3} d_{0} + a_{3} - d_{0} = 1$"
      ],
      "text/plain": [
       "Eq(-a3*d0 + a3 - d0, 1)"
      ]
     },
     "metadata": {},
     "output_type": "display_data"
    },
    {
     "data": {
      "text/latex": [
       "$\\displaystyle a_{3} = 1$"
      ],
      "text/plain": [
       "Eq(a3, 1)"
      ]
     },
     "metadata": {},
     "output_type": "display_data"
    }
   ],
   "source": [
    "i=4\n",
    "print('facet number:', i)\n",
    "display(sp.Eq(C.determinants[i], C.orientation[i]))\n",
    "\n",
    "i=11\n",
    "print('facet number:', i)\n",
    "display(sp.Eq(C.determinants[i], C.orientation[i]))\n",
    "\n",
    "display(sp.Eq(sp.expand(C.determinants[4] + 2*C.determinants[11]), C.orientation[4] + 2*C.orientation[11]))\n",
    "\n",
    "C.subs(a3, 1)"
   ]
  },
  {
   "cell_type": "code",
   "execution_count": 57,
   "id": "5fbbfd97-421d-43ae-81ac-e090fc53735b",
   "metadata": {},
   "outputs": [
    {
     "name": "stdout",
     "output_type": "stream",
     "text": [
      "facet number: 4\n"
     ]
    },
    {
     "data": {
      "text/latex": [
       "$\\displaystyle 4 d_{0} - 1 = -1$"
      ],
      "text/plain": [
       "Eq(4*d0 - 1, -1)"
      ]
     },
     "metadata": {},
     "output_type": "display_data"
    }
   ],
   "source": [
    "i=4\n",
    "print('facet number:', i)\n",
    "display(sp.Eq(C.determinants[i], C.orientation[i]))\n",
    "\n",
    "C.subs(d0, 0)"
   ]
  },
  {
   "cell_type": "code",
   "execution_count": 59,
   "id": "863c5f95-07a2-4d4e-b61d-b6124dcc5af4",
   "metadata": {},
   "outputs": [
    {
     "data": {
      "text/latex": [
       "$\\displaystyle \\left[\\begin{matrix}1 & 0 & 0 & 0 & -1 & -1 & -1 & 0\\\\0 & 1 & 0 & 0 & -1 & -1 & 0 & 1\\\\0 & 0 & 1 & 0 & 0 & -1 & -1 & -1\\\\0 & 0 & 0 & 1 & 1 & 0 & 0 & -1\\end{matrix}\\right]$"
      ],
      "text/plain": [
       "Matrix([\n",
       "[1, 0, 0, 0, -1, -1, -1,  0],\n",
       "[0, 1, 0, 0, -1, -1,  0,  1],\n",
       "[0, 0, 1, 0,  0, -1, -1, -1],\n",
       "[0, 0, 0, 1,  1,  0,  0, -1]])"
      ]
     },
     "metadata": {},
     "output_type": "display_data"
    },
    {
     "name": "stdout",
     "output_type": "stream",
     "text": [
      "1\n"
     ]
    }
   ],
   "source": [
    "display(C.char)\n",
    "print(C.is_fangiving)\n",
    "fans.append(C.char)"
   ]
  },
  {
   "cell_type": "markdown",
   "id": "f157ad45-0ad0-4178-895f-62f20e0e597a",
   "metadata": {
    "jp-MarkdownHeadingCollapsed": true
   },
   "source": [
    "# Type 3 of the projection"
   ]
  },
  {
   "cell_type": "code",
   "execution_count": 64,
   "id": "47954903-6c06-4003-9d5d-f7696a041b2c",
   "metadata": {},
   "outputs": [
    {
     "data": {
      "text/latex": [
       "$\\displaystyle \\left[\\begin{matrix}1 & 0 & 0 & -1 & b_{0} & c_{0} & d_{0}\\\\0 & 1 & 0 & -1 & b_{1} & c_{1} & d_{1}\\\\0 & 0 & 1 & a_{2} & b_{2} & c_{2} & -1\\end{matrix}\\right] = \\left[\\begin{matrix}1 & 0 & 0 & -1 & -1 & - c_{2} - 1 & 1\\\\0 & 1 & 0 & -1 & -2 & - 2 c_{2} - 1 & 2\\\\0 & 0 & 1 & 1 & 1 & c_{2} & -1\\end{matrix}\\right]$"
      ],
      "text/plain": [
       "Eq(Matrix([\n",
       "[1, 0, 0, -1, b0, c0, d0],\n",
       "[0, 1, 0, -1, b1, c1, d1],\n",
       "[0, 0, 1, a2, b2, c2, -1]]), Matrix([\n",
       "[1, 0, 0, -1, -1,   -c2 - 1,  1],\n",
       "[0, 1, 0, -1, -2, -2*c2 - 1,  2],\n",
       "[0, 0, 1,  1,  1,        c2, -1]]))"
      ]
     },
     "metadata": {},
     "output_type": "display_data"
    }
   ],
   "source": [
    "C1 = copy.deepcopy(C0)\n",
    "C = C1\n",
    "t=3\n",
    "\n",
    "proj = C.proj([projectied_vertex])\n",
    "with sp.evaluate(False):\n",
    "    display(sp.Eq(proj, fans_link[t]))"
   ]
  },
  {
   "cell_type": "code",
   "execution_count": 65,
   "id": "a5641eea-1104-476d-8caf-dcf5a0211b88",
   "metadata": {},
   "outputs": [
    {
     "data": {
      "text/latex": [
       "$\\displaystyle \\text{True}$"
      ],
      "text/plain": [
       "True"
      ]
     },
     "metadata": {},
     "output_type": "display_data"
    }
   ],
   "source": [
    "C.subs(a2, 1)\n",
    "C.subs(b0, -1)\n",
    "C.subs(b1, -2)\n",
    "C.subs(b2, 1)\n",
    "C.subs(c0, -c2-1)\n",
    "C.subs(c1, -2*c2-1)\n",
    "C.subs(d0, 1)\n",
    "C.subs(d1, 2)\n",
    "\n",
    "display(sp.Eq(C.proj([projectied_vertex]), fans_link[t]))"
   ]
  },
  {
   "cell_type": "code",
   "execution_count": 66,
   "id": "cd49a829-8096-4365-aa05-80e66870d8c6",
   "metadata": {},
   "outputs": [
    {
     "name": "stdout",
     "output_type": "stream",
     "text": [
      "facet number: 5\n"
     ]
    },
    {
     "data": {
      "text/latex": [
       "$\\displaystyle 2 b_{3} - 2 = -1$"
      ],
      "text/plain": [
       "Eq(2*b3 - 2, -1)"
      ]
     },
     "metadata": {},
     "output_type": "display_data"
    },
    {
     "name": "stdout",
     "output_type": "stream",
     "text": [
      "no solution\n"
     ]
    }
   ],
   "source": [
    "i=5\n",
    "print('facet number:', i)\n",
    "display(sp.Eq(C.determinants[i], C.orientation[i]))\n",
    "\n",
    "print('no solution')"
   ]
  },
  {
   "cell_type": "markdown",
   "id": "8ab52fdb-bc4c-4dda-b92f-0a47dd32949d",
   "metadata": {
    "jp-MarkdownHeadingCollapsed": true
   },
   "source": [
    "# Type 4 of the projection"
   ]
  },
  {
   "cell_type": "code",
   "execution_count": 67,
   "id": "e5fe9134-df6a-4757-9aca-11bec84d13eb",
   "metadata": {},
   "outputs": [
    {
     "data": {
      "text/latex": [
       "$\\displaystyle \\left[\\begin{matrix}1 & 0 & 0 & -1 & b_{0} & c_{0} & d_{0}\\\\0 & 1 & 0 & -1 & b_{1} & c_{1} & d_{1}\\\\0 & 0 & 1 & a_{2} & b_{2} & c_{2} & -1\\end{matrix}\\right] = \\left[\\begin{matrix}1 & 0 & 0 & -1 & 0 & 0 & 1\\\\0 & 1 & 0 & -1 & -1 & d_{1} - 1 & d_{1}\\\\0 & 0 & 1 & 1 & 0 & -1 & -1\\end{matrix}\\right]$"
      ],
      "text/plain": [
       "Eq(Matrix([\n",
       "[1, 0, 0, -1, b0, c0, d0],\n",
       "[0, 1, 0, -1, b1, c1, d1],\n",
       "[0, 0, 1, a2, b2, c2, -1]]), Matrix([\n",
       "[1, 0, 0, -1,  0,      0,  1],\n",
       "[0, 1, 0, -1, -1, d1 - 1, d1],\n",
       "[0, 0, 1,  1,  0,     -1, -1]]))"
      ]
     },
     "metadata": {},
     "output_type": "display_data"
    }
   ],
   "source": [
    "C1 = copy.deepcopy(C0)\n",
    "C = C1\n",
    "t=4\n",
    "\n",
    "proj = C.proj([projectied_vertex])\n",
    "with sp.evaluate(False):\n",
    "    display(sp.Eq(proj, fans_link[t]))"
   ]
  },
  {
   "cell_type": "code",
   "execution_count": 68,
   "id": "4b6364a3-9ad7-4716-a5dd-111727d1d5b2",
   "metadata": {},
   "outputs": [
    {
     "data": {
      "text/latex": [
       "$\\displaystyle \\text{True}$"
      ],
      "text/plain": [
       "True"
      ]
     },
     "metadata": {},
     "output_type": "display_data"
    }
   ],
   "source": [
    "C.subs(a2, 1)\n",
    "C.subs(b0, 0)\n",
    "C.subs(b1, -1)\n",
    "C.subs(b2, 0)\n",
    "C.subs(c0, 0)\n",
    "C.subs(c1, d1-1)\n",
    "C.subs(c2, -1)\n",
    "C.subs(d0, 1)\n",
    "\n",
    "display(sp.Eq(C.proj([projectied_vertex]), fans_link[t]))"
   ]
  },
  {
   "cell_type": "code",
   "execution_count": 71,
   "id": "50692365-6f6c-4a2f-a785-488122b3b354",
   "metadata": {},
   "outputs": [
    {
     "name": "stdout",
     "output_type": "stream",
     "text": [
      "facet number: 11\n"
     ]
    },
    {
     "data": {
      "text/latex": [
       "$\\displaystyle - c_{3} = 1$"
      ],
      "text/plain": [
       "Eq(-c3, 1)"
      ]
     },
     "metadata": {},
     "output_type": "display_data"
    }
   ],
   "source": [
    "i=11\n",
    "print('facet number:', i)\n",
    "display(sp.Eq(C.determinants[i], C.orientation[i]))\n",
    "\n",
    "C.subs(c3, -1)"
   ]
  },
  {
   "cell_type": "code",
   "execution_count": 72,
   "id": "3f4d409d-a8f5-4b5e-8f25-9e3553fc8eae",
   "metadata": {},
   "outputs": [
    {
     "name": "stdout",
     "output_type": "stream",
     "text": [
      "facet number: 9\n"
     ]
    },
    {
     "data": {
      "text/latex": [
       "$\\displaystyle b_{3} = -1$"
      ],
      "text/plain": [
       "Eq(b3, -1)"
      ]
     },
     "metadata": {},
     "output_type": "display_data"
    }
   ],
   "source": [
    "i=9\n",
    "print('facet number:', i)\n",
    "display(sp.Eq(C.determinants[i], C.orientation[i]))\n",
    "\n",
    "C.subs(b3, -1)"
   ]
  },
  {
   "cell_type": "code",
   "execution_count": 73,
   "id": "3cb2a23a-e836-4451-a846-50915d049a35",
   "metadata": {},
   "outputs": [
    {
     "name": "stdout",
     "output_type": "stream",
     "text": [
      "facet number: 5\n"
     ]
    },
    {
     "data": {
      "text/latex": [
       "$\\displaystyle - d_{1} - 1 = -1$"
      ],
      "text/plain": [
       "Eq(-d1 - 1, -1)"
      ]
     },
     "metadata": {},
     "output_type": "display_data"
    },
    {
     "name": "stdout",
     "output_type": "stream",
     "text": [
      "facet number: 15\n"
     ]
    },
    {
     "data": {
      "text/latex": [
       "$\\displaystyle - d_{1} = -1$"
      ],
      "text/plain": [
       "Eq(-d1, -1)"
      ]
     },
     "metadata": {},
     "output_type": "display_data"
    },
    {
     "name": "stdout",
     "output_type": "stream",
     "text": [
      "no solution\n"
     ]
    }
   ],
   "source": [
    "i=5\n",
    "print('facet number:', i)\n",
    "display(sp.Eq(C.determinants[i], C.orientation[i]))\n",
    "\n",
    "i=15\n",
    "print('facet number:', i)\n",
    "display(sp.Eq(C.determinants[i], C.orientation[i]))\n",
    "\n",
    "print('no solution')"
   ]
  },
  {
   "cell_type": "markdown",
   "id": "57001740-048a-4cbb-bd6b-6092144394f6",
   "metadata": {
    "jp-MarkdownHeadingCollapsed": true
   },
   "source": [
    "# Type 5 of the projection"
   ]
  },
  {
   "cell_type": "code",
   "execution_count": 83,
   "id": "1402029f-d56d-4b42-b109-f58e1fa50ec3",
   "metadata": {},
   "outputs": [
    {
     "data": {
      "text/latex": [
       "$\\displaystyle \\left[\\begin{matrix}1 & 0 & 0 & -1 & b_{0} & c_{0} & d_{0}\\\\0 & 1 & 0 & -1 & b_{1} & c_{1} & d_{1}\\\\0 & 0 & 1 & a_{2} & b_{2} & c_{2} & -1\\end{matrix}\\right] = \\left[\\begin{matrix}1 & 0 & 0 & -1 & b_{0} & 0 & 1\\\\0 & 1 & 0 & -1 & b_{1} & 1 & 2\\\\0 & 0 & 1 & 1 & - b_{1} - 1 & -1 & -1\\end{matrix}\\right]$"
      ],
      "text/plain": [
       "Eq(Matrix([\n",
       "[1, 0, 0, -1, b0, c0, d0],\n",
       "[0, 1, 0, -1, b1, c1, d1],\n",
       "[0, 0, 1, a2, b2, c2, -1]]), Matrix([\n",
       "[1, 0, 0, -1,      b0,  0,  1],\n",
       "[0, 1, 0, -1,      b1,  1,  2],\n",
       "[0, 0, 1,  1, -b1 - 1, -1, -1]]))"
      ]
     },
     "metadata": {},
     "output_type": "display_data"
    }
   ],
   "source": [
    "C1 = copy.deepcopy(C0)\n",
    "C = C1\n",
    "t=5\n",
    "\n",
    "proj = C.proj([projectied_vertex])\n",
    "with sp.evaluate(False):\n",
    "    display(sp.Eq(proj, fans_link[t]))"
   ]
  },
  {
   "cell_type": "code",
   "execution_count": 84,
   "id": "69281e98-0f40-4a87-a235-921095bd07c3",
   "metadata": {},
   "outputs": [
    {
     "data": {
      "text/latex": [
       "$\\displaystyle \\text{True}$"
      ],
      "text/plain": [
       "True"
      ]
     },
     "metadata": {},
     "output_type": "display_data"
    }
   ],
   "source": [
    "C.subs(a2, 1)\n",
    "C.subs(b2, -b1-1)\n",
    "C.subs(c0, 0)\n",
    "C.subs(c1, 1)\n",
    "C.subs(c2, -1)\n",
    "C.subs(d0, 1)\n",
    "C.subs(d1, 2)\n",
    "\n",
    "display(sp.Eq(C.proj([projectied_vertex]), fans_link[t]))"
   ]
  },
  {
   "cell_type": "code",
   "execution_count": 85,
   "id": "6086cb94-02c4-4191-8680-c8a85764d5ac",
   "metadata": {},
   "outputs": [
    {
     "name": "stdout",
     "output_type": "stream",
     "text": [
      "facet number: 11\n"
     ]
    },
    {
     "data": {
      "text/latex": [
       "$\\displaystyle - c_{3} = 1$"
      ],
      "text/plain": [
       "Eq(-c3, 1)"
      ]
     },
     "metadata": {},
     "output_type": "display_data"
    }
   ],
   "source": [
    "i=11\n",
    "print('facet number:', i)\n",
    "display(sp.Eq(C.determinants[i], C.orientation[i]))\n",
    "\n",
    "C.subs(c3, -1)"
   ]
  },
  {
   "cell_type": "code",
   "execution_count": 86,
   "id": "c6f16710-cc6a-41cb-a15c-71db4e942220",
   "metadata": {},
   "outputs": [
    {
     "name": "stdout",
     "output_type": "stream",
     "text": [
      "facet number: 9\n"
     ]
    },
    {
     "data": {
      "text/latex": [
       "$\\displaystyle b_{1} + b_{3} + 1 = -1$"
      ],
      "text/plain": [
       "Eq(b1 + b3 + 1, -1)"
      ]
     },
     "metadata": {},
     "output_type": "display_data"
    },
    {
     "name": "stdout",
     "output_type": "stream",
     "text": [
      "facet number: 16\n"
     ]
    },
    {
     "data": {
      "text/latex": [
       "$\\displaystyle b_{0} - b_{1} - b_{3} = 1$"
      ],
      "text/plain": [
       "Eq(b0 - b1 - b3, 1)"
      ]
     },
     "metadata": {},
     "output_type": "display_data"
    },
    {
     "data": {
      "text/latex": [
       "$\\displaystyle b_{0} + 1 = 0$"
      ],
      "text/plain": [
       "Eq(b0 + 1, 0)"
      ]
     },
     "metadata": {},
     "output_type": "display_data"
    }
   ],
   "source": [
    "i=9\n",
    "print('facet number:', i)\n",
    "display(sp.Eq(C.determinants[i], C.orientation[i]))\n",
    "\n",
    "i=16\n",
    "print('facet number:', i)\n",
    "display(sp.Eq(C.determinants[i], C.orientation[i]))\n",
    "\n",
    "display(sp.Eq(C.determinants[9] + C.determinants[16], C.orientation[9] + C.orientation[16]))\n",
    "\n",
    "C.subs(b0, -1)"
   ]
  },
  {
   "cell_type": "code",
   "execution_count": 87,
   "id": "ba374c80-666f-4959-b0b1-69f1fb65ad2b",
   "metadata": {},
   "outputs": [
    {
     "name": "stdout",
     "output_type": "stream",
     "text": [
      "facet number: 5\n"
     ]
    },
    {
     "data": {
      "text/latex": [
       "$\\displaystyle b_{1} + 2 b_{3} = -1$"
      ],
      "text/plain": [
       "Eq(b1 + 2*b3, -1)"
      ]
     },
     "metadata": {},
     "output_type": "display_data"
    },
    {
     "name": "stdout",
     "output_type": "stream",
     "text": [
      "facet number: 16\n"
     ]
    },
    {
     "data": {
      "text/latex": [
       "$\\displaystyle - b_{1} - b_{3} - 1 = 1$"
      ],
      "text/plain": [
       "Eq(-b1 - b3 - 1, 1)"
      ]
     },
     "metadata": {},
     "output_type": "display_data"
    },
    {
     "data": {
      "text/latex": [
       "$\\displaystyle b_{3} - 1 = 0$"
      ],
      "text/plain": [
       "Eq(b3 - 1, 0)"
      ]
     },
     "metadata": {},
     "output_type": "display_data"
    }
   ],
   "source": [
    "i=5\n",
    "print('facet number:', i)\n",
    "display(sp.Eq(C.determinants[i], C.orientation[i]))\n",
    "\n",
    "i=16\n",
    "print('facet number:', i)\n",
    "display(sp.Eq(C.determinants[i], C.orientation[i]))\n",
    "\n",
    "display(sp.Eq(C.determinants[5] + C.determinants[16], C.orientation[5] + C.orientation[16]))\n",
    "\n",
    "C.subs(b3, 1)"
   ]
  },
  {
   "cell_type": "code",
   "execution_count": 88,
   "id": "7d462410-fdab-45c2-9c8b-74abb9516cef",
   "metadata": {},
   "outputs": [
    {
     "name": "stdout",
     "output_type": "stream",
     "text": [
      "facet number: 9\n"
     ]
    },
    {
     "data": {
      "text/latex": [
       "$\\displaystyle b_{1} + 2 = -1$"
      ],
      "text/plain": [
       "Eq(b1 + 2, -1)"
      ]
     },
     "metadata": {},
     "output_type": "display_data"
    }
   ],
   "source": [
    "i=9\n",
    "print('facet number:', i)\n",
    "display(sp.Eq(C.determinants[i], C.orientation[i]))\n",
    "\n",
    "C.subs(b1, -3)"
   ]
  },
  {
   "cell_type": "code",
   "execution_count": 90,
   "id": "84488cca-e9a9-425f-a226-f6c92d626674",
   "metadata": {},
   "outputs": [
    {
     "name": "stdout",
     "output_type": "stream",
     "text": [
      "facet number: 4\n"
     ]
    },
    {
     "data": {
      "text/latex": [
       "$\\displaystyle 1 - 3 a_{3} = -1$"
      ],
      "text/plain": [
       "Eq(1 - 3*a3, -1)"
      ]
     },
     "metadata": {},
     "output_type": "display_data"
    },
    {
     "name": "stdout",
     "output_type": "stream",
     "text": [
      "no solution\n"
     ]
    }
   ],
   "source": [
    "i=4\n",
    "print('facet number:', i)\n",
    "display(sp.Eq(C.determinants[i], C.orientation[i]))\n",
    "\n",
    "print('no solution')"
   ]
  },
  {
   "cell_type": "markdown",
   "id": "3d775529-1950-48f5-a17e-9375d5ad7273",
   "metadata": {
    "jp-MarkdownHeadingCollapsed": true
   },
   "source": [
    "# Type 6 of the projection"
   ]
  },
  {
   "cell_type": "code",
   "execution_count": 91,
   "id": "ac99d4de-fccc-429f-a055-d21ae0c5949d",
   "metadata": {},
   "outputs": [
    {
     "data": {
      "text/latex": [
       "$\\displaystyle \\left[\\begin{matrix}1 & 0 & 0 & -1 & b_{0} & c_{0} & d_{0}\\\\0 & 1 & 0 & -1 & b_{1} & c_{1} & d_{1}\\\\0 & 0 & 1 & a_{2} & b_{2} & c_{2} & -1\\end{matrix}\\right] = \\left[\\begin{matrix}1 & 0 & 0 & -1 & - c_{2} - 1 & - c_{2} - 1 & 1\\\\0 & 1 & 0 & -1 & - c_{2} - 2 & - c_{2} - 1 & 1\\\\0 & 0 & 1 & 1 & c_{2} + 1 & c_{2} & -1\\end{matrix}\\right]$"
      ],
      "text/plain": [
       "Eq(Matrix([\n",
       "[1, 0, 0, -1, b0, c0, d0],\n",
       "[0, 1, 0, -1, b1, c1, d1],\n",
       "[0, 0, 1, a2, b2, c2, -1]]), Matrix([\n",
       "[1, 0, 0, -1, -c2 - 1, -c2 - 1,  1],\n",
       "[0, 1, 0, -1, -c2 - 2, -c2 - 1,  1],\n",
       "[0, 0, 1,  1,  c2 + 1,      c2, -1]]))"
      ]
     },
     "metadata": {},
     "output_type": "display_data"
    }
   ],
   "source": [
    "C1 = copy.deepcopy(C0)\n",
    "C = C1\n",
    "t=6\n",
    "\n",
    "proj = C.proj([projectied_vertex])\n",
    "with sp.evaluate(False):\n",
    "    display(sp.Eq(proj, fans_link[t]))"
   ]
  },
  {
   "cell_type": "code",
   "execution_count": 92,
   "id": "2af46114-a7ca-42ad-a41f-e2813a96373d",
   "metadata": {},
   "outputs": [
    {
     "data": {
      "text/latex": [
       "$\\displaystyle \\text{True}$"
      ],
      "text/plain": [
       "True"
      ]
     },
     "metadata": {},
     "output_type": "display_data"
    }
   ],
   "source": [
    "C.subs(a2, 1)\n",
    "C.subs(b0, -c2-1)\n",
    "C.subs(b1, -c2-2)\n",
    "C.subs(b2, c2+1)\n",
    "C.subs(c0, -c2-1)\n",
    "C.subs(c1, -c2-1)\n",
    "C.subs(d0, 1)\n",
    "C.subs(d1, 1)\n",
    "\n",
    "display(sp.Eq(C.proj([projectied_vertex]), fans_link[t]))"
   ]
  },
  {
   "cell_type": "code",
   "execution_count": 93,
   "id": "f17c963f-62c9-40a3-bc06-cffbd5fab104",
   "metadata": {},
   "outputs": [
    {
     "name": "stdout",
     "output_type": "stream",
     "text": [
      "facet number: 16\n"
     ]
    },
    {
     "data": {
      "text/latex": [
       "$\\displaystyle c_{2} - c_{3} + 1 = 1$"
      ],
      "text/plain": [
       "Eq(c2 - c3 + 1, 1)"
      ]
     },
     "metadata": {},
     "output_type": "display_data"
    }
   ],
   "source": [
    "i=16\n",
    "print('facet number:', i)\n",
    "display(sp.Eq(C.determinants[i], C.orientation[i]))\n",
    "\n",
    "C.subs(c3, c2)"
   ]
  },
  {
   "cell_type": "code",
   "execution_count": 94,
   "id": "e4f93da2-1d0a-4a9e-8471-42c7f97aee32",
   "metadata": {},
   "outputs": [
    {
     "name": "stdout",
     "output_type": "stream",
     "text": [
      "facet number: 5\n"
     ]
    },
    {
     "data": {
      "text/latex": [
       "$\\displaystyle b_{3} - c_{2} - 2 = -1$"
      ],
      "text/plain": [
       "Eq(b3 - c2 - 2, -1)"
      ]
     },
     "metadata": {},
     "output_type": "display_data"
    },
    {
     "name": "stdout",
     "output_type": "stream",
     "text": [
      "facet number: 9\n"
     ]
    },
    {
     "data": {
      "text/latex": [
       "$\\displaystyle b_{3} - c_{2} - 1 = -1$"
      ],
      "text/plain": [
       "Eq(b3 - c2 - 1, -1)"
      ]
     },
     "metadata": {},
     "output_type": "display_data"
    },
    {
     "name": "stdout",
     "output_type": "stream",
     "text": [
      "no solution\n"
     ]
    }
   ],
   "source": [
    "i=5\n",
    "print('facet number:', i)\n",
    "display(sp.Eq(C.determinants[i], C.orientation[i]))\n",
    "\n",
    "i=9\n",
    "print('facet number:', i)\n",
    "display(sp.Eq(C.determinants[i], C.orientation[i]))\n",
    "\n",
    "print('no solution')"
   ]
  },
  {
   "cell_type": "markdown",
   "id": "9b8590f3-d93a-4249-ae81-982db5b374cb",
   "metadata": {
    "jp-MarkdownHeadingCollapsed": true
   },
   "source": [
    "# Type 7 of the projection"
   ]
  },
  {
   "cell_type": "code",
   "execution_count": 99,
   "id": "5e575465-867d-444a-98cc-2856cdc63d6a",
   "metadata": {},
   "outputs": [
    {
     "data": {
      "text/latex": [
       "$\\displaystyle \\left[\\begin{matrix}1 & 0 & 0 & -1 & b_{0} & c_{0} & d_{0}\\\\0 & 1 & 0 & -1 & b_{1} & c_{1} & d_{1}\\\\0 & 0 & 1 & a_{2} & b_{2} & c_{2} & -1\\end{matrix}\\right] = \\left[\\begin{matrix}1 & 0 & 0 & -1 & -1 & -1 & 0\\\\0 & 1 & 0 & -1 & -2 & -1 & 0\\\\0 & 0 & 1 & c_{2} + 1 & 2 c_{2} + 1 & c_{2} & -1\\end{matrix}\\right]$"
      ],
      "text/plain": [
       "Eq(Matrix([\n",
       "[1, 0, 0, -1, b0, c0, d0],\n",
       "[0, 1, 0, -1, b1, c1, d1],\n",
       "[0, 0, 1, a2, b2, c2, -1]]), Matrix([\n",
       "[1, 0, 0,     -1,       -1, -1,  0],\n",
       "[0, 1, 0,     -1,       -2, -1,  0],\n",
       "[0, 0, 1, c2 + 1, 2*c2 + 1, c2, -1]]))"
      ]
     },
     "metadata": {},
     "output_type": "display_data"
    }
   ],
   "source": [
    "C1 = copy.deepcopy(C0)\n",
    "C = C1\n",
    "t=7\n",
    "\n",
    "proj = C.proj([projectied_vertex])\n",
    "with sp.evaluate(False):\n",
    "    display(sp.Eq(proj, fans_link[t]))"
   ]
  },
  {
   "cell_type": "code",
   "execution_count": 100,
   "id": "8bb1ce49-6baa-4b1e-a9ee-ce0556c64268",
   "metadata": {},
   "outputs": [
    {
     "name": "stdout",
     "output_type": "stream",
     "text": [
      "facet number: 5\n"
     ]
    },
    {
     "data": {
      "text/latex": [
       "$\\displaystyle b_{1} + b_{3} d_{1} = -1$"
      ],
      "text/plain": [
       "Eq(b1 + b3*d1, -1)"
      ]
     },
     "metadata": {},
     "output_type": "display_data"
    },
    {
     "name": "stdout",
     "output_type": "stream",
     "text": [
      "no solution\n"
     ]
    }
   ],
   "source": [
    "i=5\n",
    "print('facet number:', i)\n",
    "display(sp.Eq(C.determinants[i], C.orientation[i]))\n",
    "\n",
    "print('no solution')"
   ]
  },
  {
   "cell_type": "markdown",
   "id": "af5a802a-d2a8-4ff9-9030-b54d53195012",
   "metadata": {
    "jp-MarkdownHeadingCollapsed": true
   },
   "source": [
    "# Type 8 of the projection"
   ]
  },
  {
   "cell_type": "code",
   "execution_count": 101,
   "id": "a9e7924c-9f6a-45da-a051-74499b95ac0a",
   "metadata": {},
   "outputs": [
    {
     "data": {
      "text/latex": [
       "$\\displaystyle \\left[\\begin{matrix}1 & 0 & 0 & -1 & b_{0} & c_{0} & d_{0}\\\\0 & 1 & 0 & -1 & b_{1} & c_{1} & d_{1}\\\\0 & 0 & 1 & a_{2} & b_{2} & c_{2} & -1\\end{matrix}\\right] = \\left[\\begin{matrix}1 & 0 & 0 & -1 & 0 & 0 & 1\\\\0 & 1 & 0 & -1 & -1 & 0 & 1\\\\0 & 0 & 1 & a_{2} & a_{2} - 1 & -1 & -1\\end{matrix}\\right]$"
      ],
      "text/plain": [
       "Eq(Matrix([\n",
       "[1, 0, 0, -1, b0, c0, d0],\n",
       "[0, 1, 0, -1, b1, c1, d1],\n",
       "[0, 0, 1, a2, b2, c2, -1]]), Matrix([\n",
       "[1, 0, 0, -1,      0,  0,  1],\n",
       "[0, 1, 0, -1,     -1,  0,  1],\n",
       "[0, 0, 1, a2, a2 - 1, -1, -1]]))"
      ]
     },
     "metadata": {},
     "output_type": "display_data"
    }
   ],
   "source": [
    "C1 = copy.deepcopy(C0)\n",
    "C = C1\n",
    "t=8\n",
    "\n",
    "proj = C.proj([projectied_vertex])\n",
    "with sp.evaluate(False):\n",
    "    display(sp.Eq(proj, fans_link[t]))"
   ]
  },
  {
   "cell_type": "code",
   "execution_count": 102,
   "id": "d67485f3-1f4a-4b8c-b255-61e080dc5a38",
   "metadata": {},
   "outputs": [
    {
     "data": {
      "text/latex": [
       "$\\displaystyle \\text{True}$"
      ],
      "text/plain": [
       "True"
      ]
     },
     "metadata": {},
     "output_type": "display_data"
    }
   ],
   "source": [
    "C.subs(b0, 0)\n",
    "C.subs(b1, -1)\n",
    "C.subs(b2, a2-1)\n",
    "C.subs(c0, 0)\n",
    "C.subs(c1, 0)\n",
    "C.subs(c2, -1)\n",
    "C.subs(d0, 1)\n",
    "C.subs(d1, 1)\n",
    "\n",
    "display(sp.Eq(C.proj([projectied_vertex]), fans_link[t]))"
   ]
  },
  {
   "cell_type": "code",
   "execution_count": 104,
   "id": "b968fa0f-6d20-4185-8e25-b64485b36362",
   "metadata": {},
   "outputs": [
    {
     "name": "stdout",
     "output_type": "stream",
     "text": [
      "facet number: 5\n"
     ]
    },
    {
     "data": {
      "text/latex": [
       "$\\displaystyle b_{3} - 1 = -1$"
      ],
      "text/plain": [
       "Eq(b3 - 1, -1)"
      ]
     },
     "metadata": {},
     "output_type": "display_data"
    }
   ],
   "source": [
    "i=5\n",
    "print('facet number:', i)\n",
    "display(sp.Eq(C.determinants[i], C.orientation[i]))\n",
    "\n",
    "C.subs(b3, 0)"
   ]
  },
  {
   "cell_type": "code",
   "execution_count": 105,
   "id": "fb4e2741-26b1-4cf6-bf00-4f06940085cf",
   "metadata": {},
   "outputs": [
    {
     "name": "stdout",
     "output_type": "stream",
     "text": [
      "facet number: 15\n"
     ]
    },
    {
     "data": {
      "text/latex": [
       "$\\displaystyle c_{3} = -1$"
      ],
      "text/plain": [
       "Eq(c3, -1)"
      ]
     },
     "metadata": {},
     "output_type": "display_data"
    }
   ],
   "source": [
    "i=15\n",
    "print('facet number:', i)\n",
    "display(sp.Eq(C.determinants[i], C.orientation[i]))\n",
    "\n",
    "C.subs(c3, -1)"
   ]
  },
  {
   "cell_type": "code",
   "execution_count": 106,
   "id": "a0f1c495-2868-4bb2-aa68-5c672fa8939f",
   "metadata": {},
   "outputs": [
    {
     "name": "stdout",
     "output_type": "stream",
     "text": [
      "facet number: 4\n"
     ]
    },
    {
     "data": {
      "text/latex": [
       "$\\displaystyle - a_{3} = -1$"
      ],
      "text/plain": [
       "Eq(-a3, -1)"
      ]
     },
     "metadata": {},
     "output_type": "display_data"
    }
   ],
   "source": [
    "i=4\n",
    "print('facet number:', i)\n",
    "display(sp.Eq(C.determinants[i], C.orientation[i]))\n",
    "\n",
    "C.subs(a3, 1)"
   ]
  },
  {
   "cell_type": "code",
   "execution_count": 107,
   "id": "565765bb-a72d-403e-b05b-ced3653c6597",
   "metadata": {},
   "outputs": [
    {
     "name": "stdout",
     "output_type": "stream",
     "text": [
      "facet number: 9\n"
     ]
    },
    {
     "data": {
      "text/latex": [
       "$\\displaystyle 1 - a_{2} = -1$"
      ],
      "text/plain": [
       "Eq(1 - a2, -1)"
      ]
     },
     "metadata": {},
     "output_type": "display_data"
    }
   ],
   "source": [
    "i=9\n",
    "print('facet number:', i)\n",
    "display(sp.Eq(C.determinants[i], C.orientation[i]))\n",
    "\n",
    "C.subs(a2, 2)"
   ]
  },
  {
   "cell_type": "code",
   "execution_count": 109,
   "id": "9438f90c-e62a-48c1-835c-594e195e8816",
   "metadata": {},
   "outputs": [
    {
     "data": {
      "text/latex": [
       "$\\displaystyle \\left[\\begin{matrix}1 & 0 & 0 & 0 & -1 & 0 & 0 & 1\\\\0 & 1 & 0 & 0 & -1 & -1 & 0 & 1\\\\0 & 0 & 1 & 0 & 2 & 1 & -1 & -1\\\\0 & 0 & 0 & 1 & 1 & 0 & -1 & -1\\end{matrix}\\right]$"
      ],
      "text/plain": [
       "Matrix([\n",
       "[1, 0, 0, 0, -1,  0,  0,  1],\n",
       "[0, 1, 0, 0, -1, -1,  0,  1],\n",
       "[0, 0, 1, 0,  2,  1, -1, -1],\n",
       "[0, 0, 0, 1,  1,  0, -1, -1]])"
      ]
     },
     "metadata": {},
     "output_type": "display_data"
    },
    {
     "name": "stdout",
     "output_type": "stream",
     "text": [
      "1\n"
     ]
    }
   ],
   "source": [
    "display(C.char)\n",
    "print(C.is_fangiving)\n",
    "fans.append(C.char)"
   ]
  },
  {
   "cell_type": "markdown",
   "id": "8277432f-9abc-4258-a6a4-a948c01f5bc9",
   "metadata": {
    "jp-MarkdownHeadingCollapsed": true
   },
   "source": [
    "# There are 2 types of fans up to D-J equivalence"
   ]
  },
  {
   "cell_type": "code",
   "execution_count": 111,
   "id": "7d2ec1cf-e3d1-4ee7-8ac2-bb72970c73d1",
   "metadata": {},
   "outputs": [
    {
     "data": {
      "text/latex": [
       "$\\displaystyle \\left[\\begin{matrix}1 & 0 & 0 & 0 & -1 & -1 & -1 & 0\\\\0 & 1 & 0 & 0 & -1 & -1 & 0 & 1\\\\0 & 0 & 1 & 0 & 0 & -1 & -1 & -1\\\\0 & 0 & 0 & 1 & 1 & 0 & 0 & -1\\end{matrix}\\right]$"
      ],
      "text/plain": [
       "Matrix([\n",
       "[1, 0, 0, 0, -1, -1, -1,  0],\n",
       "[0, 1, 0, 0, -1, -1,  0,  1],\n",
       "[0, 0, 1, 0,  0, -1, -1, -1],\n",
       "[0, 0, 0, 1,  1,  0,  0, -1]])"
      ]
     },
     "metadata": {},
     "output_type": "display_data"
    },
    {
     "data": {
      "text/latex": [
       "$\\displaystyle \\left[\\begin{matrix}1 & 0 & 0 & 0 & -1 & 0 & 0 & 1\\\\0 & 1 & 0 & 0 & -1 & -1 & 0 & 1\\\\0 & 0 & 1 & 0 & 2 & 1 & -1 & -1\\\\0 & 0 & 0 & 1 & 1 & 0 & -1 & -1\\end{matrix}\\right]$"
      ],
      "text/plain": [
       "Matrix([\n",
       "[1, 0, 0, 0, -1,  0,  0,  1],\n",
       "[0, 1, 0, 0, -1, -1,  0,  1],\n",
       "[0, 0, 1, 0,  2,  1, -1, -1],\n",
       "[0, 0, 0, 1,  1,  0, -1, -1]])"
      ]
     },
     "metadata": {},
     "output_type": "display_data"
    }
   ],
   "source": [
    "for f in fans:\n",
    "    display(f)"
   ]
  },
  {
   "cell_type": "markdown",
   "id": "16dc39bd-1a2f-4ba0-8b08-4d67366696a6",
   "metadata": {
    "jp-MarkdownHeadingCollapsed": true
   },
   "source": [
    "# There is 1 type of fan up to D-J equivalence and symmetry"
   ]
  },
  {
   "cell_type": "code",
   "execution_count": 112,
   "id": "6d820904-fc8c-4044-b29b-a52814af1a3c",
   "metadata": {},
   "outputs": [
    {
     "data": {
      "text/plain": [
       "[[1, 2, 3, 4, 5, 6, 7, 8],\n",
       " [1, 5, 3, 4, 2, 8, 7, 6],\n",
       " [4, 6, 7, 1, 8, 2, 3, 5],\n",
       " [4, 8, 7, 1, 6, 5, 3, 2]]"
      ]
     },
     "execution_count": 112,
     "metadata": {},
     "output_type": "execute_result"
    }
   ],
   "source": [
    "K.symmetries"
   ]
  },
  {
   "cell_type": "code",
   "execution_count": 113,
   "id": "1ff70a19-4de0-47e7-827f-16d806dd9a2b",
   "metadata": {},
   "outputs": [],
   "source": [
    "symm_index = [(np.array(i)-1).tolist() for i in K.symmetries]"
   ]
  },
  {
   "cell_type": "code",
   "execution_count": 115,
   "id": "72c9de68-30c6-4350-b064-5ea076ecbbc1",
   "metadata": {},
   "outputs": [
    {
     "data": {
      "text/latex": [
       "$\\displaystyle \\left[\\begin{matrix}1 & 0 & 0 & 0 & -1 & -1 & -1 & 0\\\\0 & 1 & 0 & 0 & -1 & -1 & 0 & 1\\\\0 & 0 & 1 & 0 & 0 & -1 & -1 & -1\\\\0 & 0 & 0 & 1 & 1 & 0 & 0 & -1\\end{matrix}\\right]$"
      ],
      "text/plain": [
       "Matrix([\n",
       "[1, 0, 0, 0, -1, -1, -1,  0],\n",
       "[0, 1, 0, 0, -1, -1,  0,  1],\n",
       "[0, 0, 1, 0,  0, -1, -1, -1],\n",
       "[0, 0, 0, 1,  1,  0,  0, -1]])"
      ]
     },
     "metadata": {},
     "output_type": "display_data"
    },
    {
     "data": {
      "text/latex": [
       "$\\displaystyle \\left[\\begin{matrix}1 & 0 & 0 & 0 & -1 & -1 & -1 & 0\\\\0 & 1 & 0 & 0 & -1 & -1 & 0 & 1\\\\0 & 0 & 1 & 0 & 0 & -1 & -1 & -1\\\\0 & 0 & 0 & 1 & 1 & 0 & 0 & -1\\end{matrix}\\right]$"
      ],
      "text/plain": [
       "Matrix([\n",
       "[1, 0, 0, 0, -1, -1, -1,  0],\n",
       "[0, 1, 0, 0, -1, -1,  0,  1],\n",
       "[0, 0, 1, 0,  0, -1, -1, -1],\n",
       "[0, 0, 0, 1,  1,  0,  0, -1]])"
      ]
     },
     "metadata": {},
     "output_type": "display_data"
    }
   ],
   "source": [
    "display(fans[0][:, symm_index[1]].rref()[0])\n",
    "display(fans[0])"
   ]
  },
  {
   "cell_type": "code",
   "execution_count": 116,
   "id": "0c688ff4-0f8b-4993-8c99-5917c8c554ef",
   "metadata": {},
   "outputs": [
    {
     "data": {
      "text/latex": [
       "$\\displaystyle \\left[\\begin{matrix}1 & 0 & 0 & 0 & -1 & 0 & 0 & 1\\\\0 & 1 & 0 & 0 & -1 & -1 & 0 & 1\\\\0 & 0 & 1 & 0 & 2 & 1 & -1 & -1\\\\0 & 0 & 0 & 1 & 1 & 0 & -1 & -1\\end{matrix}\\right]$"
      ],
      "text/plain": [
       "Matrix([\n",
       "[1, 0, 0, 0, -1,  0,  0,  1],\n",
       "[0, 1, 0, 0, -1, -1,  0,  1],\n",
       "[0, 0, 1, 0,  2,  1, -1, -1],\n",
       "[0, 0, 0, 1,  1,  0, -1, -1]])"
      ]
     },
     "metadata": {},
     "output_type": "display_data"
    },
    {
     "data": {
      "text/latex": [
       "$\\displaystyle \\left[\\begin{matrix}1 & 0 & 0 & 0 & -1 & 0 & 0 & 1\\\\0 & 1 & 0 & 0 & -1 & -1 & 0 & 1\\\\0 & 0 & 1 & 0 & 2 & 1 & -1 & -1\\\\0 & 0 & 0 & 1 & 1 & 0 & -1 & -1\\end{matrix}\\right]$"
      ],
      "text/plain": [
       "Matrix([\n",
       "[1, 0, 0, 0, -1,  0,  0,  1],\n",
       "[0, 1, 0, 0, -1, -1,  0,  1],\n",
       "[0, 0, 1, 0,  2,  1, -1, -1],\n",
       "[0, 0, 0, 1,  1,  0, -1, -1]])"
      ]
     },
     "metadata": {},
     "output_type": "display_data"
    }
   ],
   "source": [
    "display(fans[0][:, symm_index[2]].rref()[0])\n",
    "display(fans[1])"
   ]
  },
  {
   "cell_type": "code",
   "execution_count": 117,
   "id": "01de6d4d-5c26-47fc-b03d-76030c815e7a",
   "metadata": {},
   "outputs": [
    {
     "data": {
      "text/latex": [
       "$\\displaystyle \\left[\\begin{matrix}1 & 0 & 0 & 0 & -1 & 0 & 0 & 1\\\\0 & 1 & 0 & 0 & -1 & -1 & 0 & 1\\\\0 & 0 & 1 & 0 & 2 & 1 & -1 & -1\\\\0 & 0 & 0 & 1 & 1 & 0 & -1 & -1\\end{matrix}\\right]$"
      ],
      "text/plain": [
       "Matrix([\n",
       "[1, 0, 0, 0, -1,  0,  0,  1],\n",
       "[0, 1, 0, 0, -1, -1,  0,  1],\n",
       "[0, 0, 1, 0,  2,  1, -1, -1],\n",
       "[0, 0, 0, 1,  1,  0, -1, -1]])"
      ]
     },
     "metadata": {},
     "output_type": "display_data"
    },
    {
     "data": {
      "text/latex": [
       "$\\displaystyle \\left[\\begin{matrix}1 & 0 & 0 & 0 & -1 & 0 & 0 & 1\\\\0 & 1 & 0 & 0 & -1 & -1 & 0 & 1\\\\0 & 0 & 1 & 0 & 2 & 1 & -1 & -1\\\\0 & 0 & 0 & 1 & 1 & 0 & -1 & -1\\end{matrix}\\right]$"
      ],
      "text/plain": [
       "Matrix([\n",
       "[1, 0, 0, 0, -1,  0,  0,  1],\n",
       "[0, 1, 0, 0, -1, -1,  0,  1],\n",
       "[0, 0, 1, 0,  2,  1, -1, -1],\n",
       "[0, 0, 0, 1,  1,  0, -1, -1]])"
      ]
     },
     "metadata": {},
     "output_type": "display_data"
    }
   ],
   "source": [
    "display(fans[0][:, symm_index[3]].rref()[0])\n",
    "display(fans[1])"
   ]
  }
 ],
 "metadata": {
  "kernelspec": {
   "display_name": "Python 3 (ipykernel)",
   "language": "python",
   "name": "python3"
  },
  "language_info": {
   "codemirror_mode": {
    "name": "ipython",
    "version": 3
   },
   "file_extension": ".py",
   "mimetype": "text/x-python",
   "name": "python",
   "nbconvert_exporter": "python",
   "pygments_lexer": "ipython3",
   "version": "3.12.7"
  }
 },
 "nbformat": 4,
 "nbformat_minor": 5
}
