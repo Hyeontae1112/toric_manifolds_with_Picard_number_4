{
 "cells": [
  {
   "cell_type": "markdown",
   "id": "342d3f69-6c01-4882-9efb-bfce48ae52e3",
   "metadata": {
    "jp-MarkdownHeadingCollapsed": true
   },
   "source": [
    "# Preparation"
   ]
  },
  {
   "cell_type": "code",
   "execution_count": 1,
   "id": "e04f7749-e581-4078-aafe-9ba935cc552d",
   "metadata": {},
   "outputs": [],
   "source": [
    "%run programs\\\\Characteristic_Pair.py\n",
    "import copy\n",
    "from tqdm import trange\n",
    "K = Simplicial_Complex(json.loads(read_file('programs\\\\fanlikes')[6]))\n",
    "M = initial_char(K.n)\n",
    "C0 = Characteristic_Pair(K, M)\n",
    "fans = []\n",
    "\n",
    "a = sp.symbols('a0:%d'%K.n)\n",
    "b = sp.symbols('b0:%d'%K.n)\n",
    "c = sp.symbols('c0:%d'%K.n)\n",
    "d = sp.symbols('d0:%d'%K.n)\n",
    "\n",
    "a0, a1, a2, a3 = a[:]\n",
    "b0, b1, b2, b3 = b[:]\n",
    "c0, c1, c2, c3 = c[:]\n",
    "d0, d1, d2, d3 = d[:]"
   ]
  },
  {
   "cell_type": "code",
   "execution_count": 2,
   "id": "caf2d7df-b4b4-4c75-95df-aa0a475e40a0",
   "metadata": {},
   "outputs": [
    {
     "data": {
      "text/latex": [
       "$\\displaystyle \\left[\\begin{matrix}1 & 0 & 0 & 0 & a_{0} & b_{0} & c_{0} & d_{0}\\\\0 & 1 & 0 & 0 & a_{1} & b_{1} & c_{1} & d_{1}\\\\0 & 0 & 1 & 0 & a_{2} & b_{2} & c_{2} & d_{2}\\\\0 & 0 & 0 & 1 & a_{3} & b_{3} & c_{3} & d_{3}\\end{matrix}\\right]$"
      ],
      "text/plain": [
       "Matrix([\n",
       "[1, 0, 0, 0, a0, b0, c0, d0],\n",
       "[0, 1, 0, 0, a1, b1, c1, d1],\n",
       "[0, 0, 1, 0, a2, b2, c2, d2],\n",
       "[0, 0, 0, 1, a3, b3, c3, d3]])"
      ]
     },
     "execution_count": 2,
     "metadata": {},
     "output_type": "execute_result"
    }
   ],
   "source": [
    "C = C0\n",
    "C.char"
   ]
  },
  {
   "cell_type": "code",
   "execution_count": 3,
   "id": "1b4834b1-6b39-4fea-a6ae-8371f733fb9f",
   "metadata": {},
   "outputs": [
    {
     "name": "stdout",
     "output_type": "stream",
     "text": [
      "facet number: 5\n"
     ]
    },
    {
     "data": {
      "text/latex": [
       "$\\displaystyle a_{1} = -1$"
      ],
      "text/plain": [
       "Eq(a1, -1)"
      ]
     },
     "metadata": {},
     "output_type": "display_data"
    },
    {
     "name": "stdout",
     "output_type": "stream",
     "text": [
      "facet number: 1\n"
     ]
    },
    {
     "data": {
      "text/latex": [
       "$\\displaystyle a_{3} = -1$"
      ],
      "text/plain": [
       "Eq(a3, -1)"
      ]
     },
     "metadata": {},
     "output_type": "display_data"
    },
    {
     "name": "stdout",
     "output_type": "stream",
     "text": [
      "facet number: 10\n"
     ]
    },
    {
     "data": {
      "text/latex": [
       "$\\displaystyle - b_{0} = 1$"
      ],
      "text/plain": [
       "Eq(-b0, 1)"
      ]
     },
     "metadata": {},
     "output_type": "display_data"
    },
    {
     "name": "stdout",
     "output_type": "stream",
     "text": [
      "facet number: 2\n"
     ]
    },
    {
     "data": {
      "text/latex": [
       "$\\displaystyle - d_{2} = 1$"
      ],
      "text/plain": [
       "Eq(-d2, 1)"
      ]
     },
     "metadata": {},
     "output_type": "display_data"
    }
   ],
   "source": [
    "i=5\n",
    "print('facet number:', i)\n",
    "display(sp.Eq(C.determinants[i], C.orientation[i]))\n",
    "\n",
    "i=1\n",
    "print('facet number:', i)\n",
    "display(sp.Eq(C.determinants[i], C.orientation[i]))\n",
    "\n",
    "i=10\n",
    "print('facet number:', i)\n",
    "display(sp.Eq(C.determinants[i], C.orientation[i]))\n",
    "\n",
    "i=2\n",
    "print('facet number:', i)\n",
    "display(sp.Eq(C.determinants[i], C.orientation[i]))\n",
    "\n",
    "C.subs(a1, -1)\n",
    "C.subs(a3, -1)\n",
    "C.subs(b0, -1)\n",
    "C.subs(d2, -1)"
   ]
  },
  {
   "cell_type": "markdown",
   "id": "af756a56-e59d-4395-adec-2b1d5b1c5d18",
   "metadata": {
    "jp-MarkdownHeadingCollapsed": true
   },
   "source": [
    "# The projection with respect to 4"
   ]
  },
  {
   "cell_type": "code",
   "execution_count": 4,
   "id": "50014b9a-3578-4387-afae-1ff1645e7449",
   "metadata": {},
   "outputs": [
    {
     "name": "stdout",
     "output_type": "stream",
     "text": [
      "[[1, 2, 3], [1, 2, 8], [1, 3, 5], [1, 5, 6], [1, 6, 7], [1, 7, 8], [2, 3, 6], [2, 6, 7], [2, 7, 8], [3, 5, 6]]\n"
     ]
    }
   ],
   "source": [
    "print(Link(K, [4]).cpx)"
   ]
  },
  {
   "cell_type": "code",
   "execution_count": 5,
   "id": "fcddb56f-4c2f-4496-82b9-c81d4cc1ba41",
   "metadata": {},
   "outputs": [
    {
     "name": "stdout",
     "output_type": "stream",
     "text": [
      "[[1, 2, 3], [1, 2, 7], [1, 3, 4], [1, 4, 5], [1, 5, 6], [1, 6, 7], [2, 3, 5], [2, 5, 6], [2, 6, 7], [3, 4, 5]]\n"
     ]
    }
   ],
   "source": [
    "print(json.loads(read_file('programs\\\\fanlikes')[1]))"
   ]
  },
  {
   "cell_type": "code",
   "execution_count": 6,
   "id": "527a2ec7-cb57-4630-9cc0-e55de5eb243b",
   "metadata": {},
   "outputs": [
    {
     "name": "stdout",
     "output_type": "stream",
     "text": [
      "[[1, 2, 3], [1, 2, 7], [1, 3, 4], [1, 4, 5], [1, 5, 6], [1, 6, 7], [2, 3, 5], [2, 5, 6], [2, 6, 7], [3, 4, 5]]\n"
     ]
    },
    {
     "data": {
      "text/plain": [
       "True"
      ]
     },
     "execution_count": 6,
     "metadata": {},
     "output_type": "execute_result"
    }
   ],
   "source": [
    "L=[] # making the vertices of the link consecutive\n",
    "for l in Link(K, [4]).cpx:\n",
    "    L.append([])\n",
    "    for v in l:\n",
    "        if v>4:\n",
    "            L[-1].append(v-1)\n",
    "        else:\n",
    "            L[-1].append(v)\n",
    "print(L)\n",
    "L==json.loads(read_file('programs\\\\fanlikes')[1])"
   ]
  },
  {
   "cell_type": "code",
   "execution_count": 7,
   "id": "6b8a9990-f82e-4374-9ff9-c842fd595e46",
   "metadata": {},
   "outputs": [
    {
     "data": {
      "text/latex": [
       "$\\displaystyle \\left[\\begin{matrix}1 & 0 & 0 & a_{0} & -1 & c_{0} & d_{0}\\\\0 & 1 & 0 & -1 & b_{1} & c_{1} & d_{1}\\\\0 & 0 & 1 & a_{2} & b_{2} & c_{2} & -1\\end{matrix}\\right]$"
      ],
      "text/plain": [
       "Matrix([\n",
       "[1, 0, 0, a0, -1, c0, d0],\n",
       "[0, 1, 0, -1, b1, c1, d1],\n",
       "[0, 0, 1, a2, b2, c2, -1]])"
      ]
     },
     "metadata": {},
     "output_type": "display_data"
    }
   ],
   "source": [
    "display(C.proj([4]))"
   ]
  },
  {
   "cell_type": "markdown",
   "id": "60469ad4-c2b9-4561-9667-544644e84ef6",
   "metadata": {
    "jp-MarkdownHeadingCollapsed": true
   },
   "source": [
    "# The projection has 13 types of fans up to D-J equivalence"
   ]
  },
  {
   "cell_type": "code",
   "execution_count": 8,
   "id": "5eaf1f8c-1bd6-4483-b3e5-198df9bffa88",
   "metadata": {},
   "outputs": [],
   "source": [
    "import pickle\n",
    "with open('programs\\\\pickle_files\\\\1_up_to_DJ.p', 'rb') as f:\n",
    "    fans_link = pickle.load(f)"
   ]
  },
  {
   "cell_type": "code",
   "execution_count": 9,
   "id": "35d58d5e-9829-41f6-b79b-20f8c8774672",
   "metadata": {},
   "outputs": [
    {
     "data": {
      "text/latex": [
       "$\\displaystyle \\left[\\begin{matrix}1 & 0 & 0 & a_{0} & -1 & 0 & 1\\\\0 & 1 & 0 & -1 & 0 & 1 & 2\\\\0 & 0 & 1 & a_{2} & -1 & -1 & -1\\end{matrix}\\right]$"
      ],
      "text/plain": [
       "Matrix([\n",
       "[1, 0, 0, a0, -1,  0,  1],\n",
       "[0, 1, 0, -1,  0,  1,  2],\n",
       "[0, 0, 1, a2, -1, -1, -1]])"
      ]
     },
     "metadata": {},
     "output_type": "display_data"
    },
    {
     "data": {
      "text/latex": [
       "$\\displaystyle \\left[\\begin{matrix}1 & 0 & 0 & a_{0} & -1 & -1 & 0\\\\0 & 1 & 0 & -1 & 0 & 1 & 1\\\\0 & 0 & 1 & a_{2} & -1 & -2 & -1\\end{matrix}\\right]$"
      ],
      "text/plain": [
       "Matrix([\n",
       "[1, 0, 0, a0, -1, -1,  0],\n",
       "[0, 1, 0, -1,  0,  1,  1],\n",
       "[0, 0, 1, a2, -1, -2, -1]])"
      ]
     },
     "metadata": {},
     "output_type": "display_data"
    },
    {
     "data": {
      "text/latex": [
       "$\\displaystyle \\left[\\begin{matrix}1 & 0 & 0 & 0 & -1 & -1 & d_{0}\\\\0 & 1 & 0 & -1 & -2 & -1 & d_{1}\\\\0 & 0 & 1 & 1 & 1 & 0 & -1\\end{matrix}\\right]$"
      ],
      "text/plain": [
       "Matrix([\n",
       "[1, 0, 0,  0, -1, -1, d0],\n",
       "[0, 1, 0, -1, -2, -1, d1],\n",
       "[0, 0, 1,  1,  1,  0, -1]])"
      ]
     },
     "metadata": {},
     "output_type": "display_data"
    },
    {
     "data": {
      "text/latex": [
       "$\\displaystyle \\left[\\begin{matrix}1 & 0 & 0 & 0 & -1 & -1 & d_{0}\\\\0 & 1 & 0 & -1 & -1 & -1 & d_{1}\\\\0 & 0 & 1 & 2 & 1 & 0 & -1\\end{matrix}\\right]$"
      ],
      "text/plain": [
       "Matrix([\n",
       "[1, 0, 0,  0, -1, -1, d0],\n",
       "[0, 1, 0, -1, -1, -1, d1],\n",
       "[0, 0, 1,  2,  1,  0, -1]])"
      ]
     },
     "metadata": {},
     "output_type": "display_data"
    },
    {
     "data": {
      "text/latex": [
       "$\\displaystyle \\left[\\begin{matrix}1 & 0 & 0 & 0 & -1 & 0 & 1\\\\0 & 1 & 0 & -1 & d_{1} - 2 & d_{1} - 1 & d_{1}\\\\0 & 0 & 1 & 0 & -1 & -1 & -1\\end{matrix}\\right]$"
      ],
      "text/plain": [
       "Matrix([\n",
       "[1, 0, 0,  0,     -1,      0,  1],\n",
       "[0, 1, 0, -1, d1 - 2, d1 - 1, d1],\n",
       "[0, 0, 1,  0,     -1,     -1, -1]])"
      ]
     },
     "metadata": {},
     "output_type": "display_data"
    },
    {
     "data": {
      "text/latex": [
       "$\\displaystyle \\left[\\begin{matrix}1 & 0 & 0 & 0 & -1 & -1 & 0\\\\0 & 1 & 0 & -1 & d_{1} - 1 & 2 d_{1} - 1 & d_{1}\\\\0 & 0 & 1 & 0 & -1 & -2 & -1\\end{matrix}\\right]$"
      ],
      "text/plain": [
       "Matrix([\n",
       "[1, 0, 0,  0,     -1,       -1,  0],\n",
       "[0, 1, 0, -1, d1 - 1, 2*d1 - 1, d1],\n",
       "[0, 0, 1,  0,     -1,       -2, -1]])"
      ]
     },
     "metadata": {},
     "output_type": "display_data"
    },
    {
     "data": {
      "text/latex": [
       "$\\displaystyle \\left[\\begin{matrix}1 & 0 & 0 & 0 & -1 & - c_{2} - 1 & 1\\\\0 & 1 & 0 & -1 & -2 & - 2 c_{2} - 1 & 2\\\\0 & 0 & 1 & 1 & 1 & c_{2} & -1\\end{matrix}\\right]$"
      ],
      "text/plain": [
       "Matrix([\n",
       "[1, 0, 0,  0, -1,   -c2 - 1,  1],\n",
       "[0, 1, 0, -1, -2, -2*c2 - 1,  2],\n",
       "[0, 0, 1,  1,  1,        c2, -1]])"
      ]
     },
     "metadata": {},
     "output_type": "display_data"
    },
    {
     "data": {
      "text/latex": [
       "$\\displaystyle \\left[\\begin{matrix}1 & 0 & 0 & 0 & -1 & d_{0} - 1 & d_{0}\\\\0 & 1 & 0 & -1 & -1 & d_{1} - 1 & d_{1}\\\\0 & 0 & 1 & 1 & 0 & -1 & -1\\end{matrix}\\right]$"
      ],
      "text/plain": [
       "Matrix([\n",
       "[1, 0, 0,  0, -1, d0 - 1, d0],\n",
       "[0, 1, 0, -1, -1, d1 - 1, d1],\n",
       "[0, 0, 1,  1,  0,     -1, -1]])"
      ]
     },
     "metadata": {},
     "output_type": "display_data"
    },
    {
     "data": {
      "text/latex": [
       "$\\displaystyle \\left[\\begin{matrix}1 & 0 & 0 & 0 & -1 & 0 & 1\\\\0 & 1 & 0 & -1 & b_{1} & 1 & 2\\\\0 & 0 & 1 & 1 & - b_{1} - 1 & -1 & -1\\end{matrix}\\right]$"
      ],
      "text/plain": [
       "Matrix([\n",
       "[1, 0, 0,  0,      -1,  0,  1],\n",
       "[0, 1, 0, -1,      b1,  1,  2],\n",
       "[0, 0, 1,  1, -b1 - 1, -1, -1]])"
      ]
     },
     "metadata": {},
     "output_type": "display_data"
    },
    {
     "data": {
      "text/latex": [
       "$\\displaystyle \\left[\\begin{matrix}1 & 0 & 0 & 0 & -1 & -1 & 0\\\\0 & 1 & 0 & -1 & - c_{2} - 2 & - c_{2} - 1 & 1\\\\0 & 0 & 1 & 1 & c_{2} + 1 & c_{2} & -1\\end{matrix}\\right]$"
      ],
      "text/plain": [
       "Matrix([\n",
       "[1, 0, 0,  0,      -1,      -1,  0],\n",
       "[0, 1, 0, -1, -c2 - 2, -c2 - 1,  1],\n",
       "[0, 0, 1,  1,  c2 + 1,      c2, -1]])"
      ]
     },
     "metadata": {},
     "output_type": "display_data"
    },
    {
     "data": {
      "text/latex": [
       "$\\displaystyle \\left[\\begin{matrix}1 & 0 & 0 & 0 & -1 & -1 & 0\\\\0 & 1 & 0 & -1 & -1 & -1 & 0\\\\0 & 0 & 1 & c_{2} + 2 & c_{2} + 1 & c_{2} & -1\\end{matrix}\\right]$"
      ],
      "text/plain": [
       "Matrix([\n",
       "[1, 0, 0,      0,     -1, -1,  0],\n",
       "[0, 1, 0,     -1,     -1, -1,  0],\n",
       "[0, 0, 1, c2 + 2, c2 + 1, c2, -1]])"
      ]
     },
     "metadata": {},
     "output_type": "display_data"
    },
    {
     "data": {
      "text/latex": [
       "$\\displaystyle \\left[\\begin{matrix}1 & 0 & 0 & 0 & -1 & - c_{2} - 1 & 1\\\\0 & 1 & 0 & -1 & -1 & - c_{2} - 1 & 1\\\\0 & 0 & 1 & 2 & 1 & c_{2} & -1\\end{matrix}\\right]$"
      ],
      "text/plain": [
       "Matrix([\n",
       "[1, 0, 0,  0, -1, -c2 - 1,  1],\n",
       "[0, 1, 0, -1, -1, -c2 - 1,  1],\n",
       "[0, 0, 1,  2,  1,      c2, -1]])"
      ]
     },
     "metadata": {},
     "output_type": "display_data"
    },
    {
     "data": {
      "text/latex": [
       "$\\displaystyle \\left[\\begin{matrix}1 & 0 & 0 & 0 & -1 & 0 & 1\\\\0 & 1 & 0 & -1 & -1 & 0 & 1\\\\0 & 0 & 1 & a_{2} & a_{2} - 1 & -1 & -1\\end{matrix}\\right]$"
      ],
      "text/plain": [
       "Matrix([\n",
       "[1, 0, 0,  0,     -1,  0,  1],\n",
       "[0, 1, 0, -1,     -1,  0,  1],\n",
       "[0, 0, 1, a2, a2 - 1, -1, -1]])"
      ]
     },
     "metadata": {},
     "output_type": "display_data"
    }
   ],
   "source": [
    "for f in fans_link:\n",
    "    display(f)"
   ]
  },
  {
   "cell_type": "markdown",
   "id": "5ae09f31-9bfc-4ae9-ba37-9282c37524e2",
   "metadata": {
    "jp-MarkdownHeadingCollapsed": true
   },
   "source": [
    "# Type 0 of the projection"
   ]
  },
  {
   "cell_type": "code",
   "execution_count": 10,
   "id": "b544d1b6-e964-4567-8d17-33420440a1d6",
   "metadata": {},
   "outputs": [
    {
     "data": {
      "text/latex": [
       "$\\displaystyle \\left[\\begin{matrix}1 & 0 & 0 & a_{0} & -1 & 0 & 1\\\\0 & 1 & 0 & -1 & 0 & 1 & 2\\\\0 & 0 & 1 & a_{2} & -1 & -1 & -1\\end{matrix}\\right]$"
      ],
      "text/plain": [
       "Matrix([\n",
       "[1, 0, 0, a0, -1,  0,  1],\n",
       "[0, 1, 0, -1,  0,  1,  2],\n",
       "[0, 0, 1, a2, -1, -1, -1]])"
      ]
     },
     "metadata": {},
     "output_type": "display_data"
    }
   ],
   "source": [
    "C1 = copy.deepcopy(C0)\n",
    "C = C1\n",
    "t=0\n",
    "display(fans_link[t])"
   ]
  },
  {
   "cell_type": "code",
   "execution_count": 11,
   "id": "4b245801-ccf3-4ed4-b0a9-836534f11935",
   "metadata": {},
   "outputs": [
    {
     "data": {
      "text/latex": [
       "$\\displaystyle \\left[\\begin{matrix}1 & 0 & 0 & a_{0} & -1 & c_{0} & d_{0}\\\\0 & 1 & 0 & -1 & b_{1} & c_{1} & d_{1}\\\\0 & 0 & 1 & a_{2} & b_{2} & c_{2} & -1\\end{matrix}\\right] = \\left[\\begin{matrix}1 & 0 & 0 & a_{0} & -1 & 0 & 1\\\\0 & 1 & 0 & -1 & 0 & 1 & 2\\\\0 & 0 & 1 & a_{2} & -1 & -1 & -1\\end{matrix}\\right]$"
      ],
      "text/plain": [
       "Eq(Matrix([\n",
       "[1, 0, 0, a0, -1, c0, d0],\n",
       "[0, 1, 0, -1, b1, c1, d1],\n",
       "[0, 0, 1, a2, b2, c2, -1]]), Matrix([\n",
       "[1, 0, 0, a0, -1,  0,  1],\n",
       "[0, 1, 0, -1,  0,  1,  2],\n",
       "[0, 0, 1, a2, -1, -1, -1]]))"
      ]
     },
     "metadata": {},
     "output_type": "display_data"
    }
   ],
   "source": [
    "proj = C.proj([4])\n",
    "with sp.evaluate(False):\n",
    "    display(sp.Eq(proj, fans_link[t]))\n",
    "\n",
    "C.subs(b1, 0)\n",
    "C.subs(b2, -1)\n",
    "\n",
    "C.subs(c0, 0)\n",
    "C.subs(c1, 1)\n",
    "C.subs(c2, -1)\n",
    "\n",
    "C.subs(d0, 1)\n",
    "C.subs(d1, 2)"
   ]
  },
  {
   "cell_type": "code",
   "execution_count": 12,
   "id": "f3267bc8-e3d9-4380-8c89-cc122770f09e",
   "metadata": {},
   "outputs": [
    {
     "name": "stdout",
     "output_type": "stream",
     "text": [
      "facet number: 4\n"
     ]
    },
    {
     "data": {
      "text/latex": [
       "$\\displaystyle b_{3} - d_{3} = -1$"
      ],
      "text/plain": [
       "Eq(b3 - d3, -1)"
      ]
     },
     "metadata": {},
     "output_type": "display_data"
    }
   ],
   "source": [
    "i=4\n",
    "print('facet number:', i)\n",
    "display(sp.Eq(C.determinants[i], C.orientation[i]))\n",
    "\n",
    "C.subs(b3, d3-1)"
   ]
  },
  {
   "cell_type": "code",
   "execution_count": 13,
   "id": "6cd25ace-d32d-4092-91bf-7168f964939a",
   "metadata": {},
   "outputs": [
    {
     "name": "stdout",
     "output_type": "stream",
     "text": [
      "facet number: 9\n"
     ]
    },
    {
     "data": {
      "text/latex": [
       "$\\displaystyle - 2 c_{3} + 2 d_{3} - 1 = -1$"
      ],
      "text/plain": [
       "Eq(-2*c3 + 2*d3 - 1, -1)"
      ]
     },
     "metadata": {},
     "output_type": "display_data"
    }
   ],
   "source": [
    "i=9\n",
    "print('facet number:', i)\n",
    "display(sp.Eq(C.determinants[i], C.orientation[i]))\n",
    "\n",
    "C.subs(c3, d3)"
   ]
  },
  {
   "cell_type": "code",
   "execution_count": 14,
   "id": "ca34f938-79e7-49bc-9b7c-1ade026c9c99",
   "metadata": {},
   "outputs": [
    {
     "name": "stdout",
     "output_type": "stream",
     "text": [
      "facet number: 3\n"
     ]
    },
    {
     "data": {
      "text/latex": [
       "$\\displaystyle a_{2} d_{3} - a_{2} - 1 = -1$"
      ],
      "text/plain": [
       "Eq(a2*d3 - a2 - 1, -1)"
      ]
     },
     "metadata": {},
     "output_type": "display_data"
    }
   ],
   "source": [
    "i=3\n",
    "print('facet number:', i)\n",
    "display(sp.Eq(C.determinants[i], C.orientation[i]))"
   ]
  },
  {
   "cell_type": "markdown",
   "id": "a116b892-1df3-4471-a051-e2e072309b60",
   "metadata": {
    "jp-MarkdownHeadingCollapsed": true
   },
   "source": [
    "## $d_3=1$"
   ]
  },
  {
   "cell_type": "code",
   "execution_count": 15,
   "id": "592b76fb-961d-48b6-bccb-cc348a04cdc8",
   "metadata": {},
   "outputs": [],
   "source": [
    "C2 = copy.deepcopy(C1)\n",
    "C = C2\n",
    "C.subs(d3, 1)"
   ]
  },
  {
   "cell_type": "code",
   "execution_count": 16,
   "id": "fd42c012-aba3-442d-ae95-21e2efc91ff8",
   "metadata": {},
   "outputs": [
    {
     "data": {
      "text/latex": [
       "$\\displaystyle \\left[\\begin{matrix}1 & 0 & 0 & 0 & a_{0} & -1 & 0 & 1\\\\0 & 1 & 0 & 0 & -1 & 0 & 1 & 2\\\\0 & 0 & 1 & 0 & a_{2} & -1 & -1 & -1\\\\0 & 0 & 0 & 1 & -1 & 0 & 1 & 1\\end{matrix}\\right]$"
      ],
      "text/plain": [
       "Matrix([\n",
       "[1, 0, 0, 0, a0, -1,  0,  1],\n",
       "[0, 1, 0, 0, -1,  0,  1,  2],\n",
       "[0, 0, 1, 0, a2, -1, -1, -1],\n",
       "[0, 0, 0, 1, -1,  0,  1,  1]])"
      ]
     },
     "metadata": {},
     "output_type": "display_data"
    },
    {
     "name": "stdout",
     "output_type": "stream",
     "text": [
      "1\n"
     ]
    }
   ],
   "source": [
    "display(C.char)\n",
    "print(C.is_fangiving)\n",
    "fans.append(C.char)"
   ]
  },
  {
   "cell_type": "markdown",
   "id": "0a67262d-36b8-420f-b022-158d7a9344ed",
   "metadata": {
    "jp-MarkdownHeadingCollapsed": true
   },
   "source": [
    "## $a_2=0$ ($d_3 \\not= 1$)"
   ]
  },
  {
   "cell_type": "code",
   "execution_count": 17,
   "id": "91672ae2-266c-4c4f-b517-72eb90821317",
   "metadata": {},
   "outputs": [],
   "source": [
    "C2 = copy.deepcopy(C1)\n",
    "C = C2\n",
    "C.subs(a2, 0)"
   ]
  },
  {
   "cell_type": "code",
   "execution_count": 18,
   "id": "1cc2647c-ba8b-490d-98d0-ed55980954c7",
   "metadata": {},
   "outputs": [
    {
     "name": "stdout",
     "output_type": "stream",
     "text": [
      "facet number: 11\n"
     ]
    },
    {
     "data": {
      "text/latex": [
       "$\\displaystyle a_{0} d_{3} - a_{0} - 1 = -1$"
      ],
      "text/plain": [
       "Eq(a0*d3 - a0 - 1, -1)"
      ]
     },
     "metadata": {},
     "output_type": "display_data"
    }
   ],
   "source": [
    "i=11\n",
    "print('facet number:', i)\n",
    "display(sp.Eq(C.determinants[i], C.orientation[i]))\n",
    "\n",
    "C.subs(a0, 0)"
   ]
  },
  {
   "cell_type": "code",
   "execution_count": 19,
   "id": "b8a1fbd6-bbc7-4d44-a813-315327082c6c",
   "metadata": {},
   "outputs": [
    {
     "data": {
      "text/latex": [
       "$\\displaystyle \\left[\\begin{matrix}1 & 0 & 0 & 0 & 0 & -1 & 0 & 1\\\\0 & 1 & 0 & 0 & -1 & 0 & 1 & 2\\\\0 & 0 & 1 & 0 & 0 & -1 & -1 & -1\\\\0 & 0 & 0 & 1 & -1 & d_{3} - 1 & d_{3} & d_{3}\\end{matrix}\\right]$"
      ],
      "text/plain": [
       "Matrix([\n",
       "[1, 0, 0, 0,  0,     -1,  0,  1],\n",
       "[0, 1, 0, 0, -1,      0,  1,  2],\n",
       "[0, 0, 1, 0,  0,     -1, -1, -1],\n",
       "[0, 0, 0, 1, -1, d3 - 1, d3, d3]])"
      ]
     },
     "metadata": {},
     "output_type": "display_data"
    },
    {
     "name": "stdout",
     "output_type": "stream",
     "text": [
      "1\n"
     ]
    }
   ],
   "source": [
    "display(C.char)\n",
    "print(C.is_fangiving)\n",
    "fans.append(C.char)"
   ]
  },
  {
   "cell_type": "markdown",
   "id": "3163192a-a977-4c09-ab35-e1013e9e1099",
   "metadata": {
    "jp-MarkdownHeadingCollapsed": true
   },
   "source": [
    "# Type 1 of the projection"
   ]
  },
  {
   "cell_type": "code",
   "execution_count": 20,
   "id": "baf238ca-8e2a-4225-a75c-d13eb35fbf0a",
   "metadata": {},
   "outputs": [
    {
     "data": {
      "text/latex": [
       "$\\displaystyle \\left[\\begin{matrix}1 & 0 & 0 & a_{0} & -1 & -1 & 0\\\\0 & 1 & 0 & -1 & 0 & 1 & 1\\\\0 & 0 & 1 & a_{2} & -1 & -2 & -1\\end{matrix}\\right]$"
      ],
      "text/plain": [
       "Matrix([\n",
       "[1, 0, 0, a0, -1, -1,  0],\n",
       "[0, 1, 0, -1,  0,  1,  1],\n",
       "[0, 0, 1, a2, -1, -2, -1]])"
      ]
     },
     "metadata": {},
     "output_type": "display_data"
    }
   ],
   "source": [
    "C1 = copy.deepcopy(C0)\n",
    "C = C1\n",
    "t=1\n",
    "display(fans_link[t])"
   ]
  },
  {
   "cell_type": "code",
   "execution_count": 21,
   "id": "8850b307-a579-449a-9b33-a577b2e00b39",
   "metadata": {},
   "outputs": [
    {
     "data": {
      "text/latex": [
       "$\\displaystyle \\left[\\begin{matrix}1 & 0 & 0 & a_{0} & -1 & c_{0} & d_{0}\\\\0 & 1 & 0 & -1 & b_{1} & c_{1} & d_{1}\\\\0 & 0 & 1 & a_{2} & b_{2} & c_{2} & -1\\end{matrix}\\right] = \\left[\\begin{matrix}1 & 0 & 0 & a_{0} & -1 & -1 & 0\\\\0 & 1 & 0 & -1 & 0 & 1 & 1\\\\0 & 0 & 1 & a_{2} & -1 & -2 & -1\\end{matrix}\\right]$"
      ],
      "text/plain": [
       "Eq(Matrix([\n",
       "[1, 0, 0, a0, -1, c0, d0],\n",
       "[0, 1, 0, -1, b1, c1, d1],\n",
       "[0, 0, 1, a2, b2, c2, -1]]), Matrix([\n",
       "[1, 0, 0, a0, -1, -1,  0],\n",
       "[0, 1, 0, -1,  0,  1,  1],\n",
       "[0, 0, 1, a2, -1, -2, -1]]))"
      ]
     },
     "metadata": {},
     "output_type": "display_data"
    }
   ],
   "source": [
    "proj = C.proj([4])\n",
    "with sp.evaluate(False):\n",
    "    display(sp.Eq(proj, fans_link[t]))\n",
    "\n",
    "C.subs(b1, 0)\n",
    "C.subs(b2, -1)\n",
    "\n",
    "C.subs(c0, -1)\n",
    "C.subs(c1, 1)\n",
    "C.subs(c2, -2)\n",
    "\n",
    "C.subs(d0, 0)\n",
    "C.subs(d1, 1)"
   ]
  },
  {
   "cell_type": "code",
   "execution_count": 22,
   "id": "598d8b30-d56d-4323-bdcd-0c7e06315e19",
   "metadata": {},
   "outputs": [
    {
     "name": "stdout",
     "output_type": "stream",
     "text": [
      "facet number: 4\n"
     ]
    },
    {
     "data": {
      "text/latex": [
       "$\\displaystyle b_{3} - d_{3} = -1$"
      ],
      "text/plain": [
       "Eq(b3 - d3, -1)"
      ]
     },
     "metadata": {},
     "output_type": "display_data"
    }
   ],
   "source": [
    "i=4\n",
    "print('facet number:', i)\n",
    "display(sp.Eq(C.determinants[i], C.orientation[i]))\n",
    "\n",
    "C.subs(b3, d3-1)"
   ]
  },
  {
   "cell_type": "code",
   "execution_count": 23,
   "id": "6bab2055-b565-4b73-bac8-97fc793dd9fb",
   "metadata": {},
   "outputs": [
    {
     "name": "stdout",
     "output_type": "stream",
     "text": [
      "facet number: 9\n"
     ]
    },
    {
     "data": {
      "text/latex": [
       "$\\displaystyle - c_{3} + 2 d_{3} - 1 = -1$"
      ],
      "text/plain": [
       "Eq(-c3 + 2*d3 - 1, -1)"
      ]
     },
     "metadata": {},
     "output_type": "display_data"
    }
   ],
   "source": [
    "i=9\n",
    "print('facet number:', i)\n",
    "display(sp.Eq(C.determinants[i], C.orientation[i]))\n",
    "\n",
    "C.subs(c3, 2*d3)"
   ]
  },
  {
   "cell_type": "code",
   "execution_count": 24,
   "id": "a2618e56-5024-448c-8da4-8d4e20449418",
   "metadata": {},
   "outputs": [
    {
     "name": "stdout",
     "output_type": "stream",
     "text": [
      "facet number: 3\n"
     ]
    },
    {
     "data": {
      "text/latex": [
       "$\\displaystyle a_{2} d_{3} - a_{2} - 1 = -1$"
      ],
      "text/plain": [
       "Eq(a2*d3 - a2 - 1, -1)"
      ]
     },
     "metadata": {},
     "output_type": "display_data"
    }
   ],
   "source": [
    "i=3\n",
    "print('facet number:', i)\n",
    "display(sp.Eq(C.determinants[i], C.orientation[i]))"
   ]
  },
  {
   "cell_type": "markdown",
   "id": "c850b179-8498-431a-aacd-919011bd1235",
   "metadata": {
    "jp-MarkdownHeadingCollapsed": true
   },
   "source": [
    "## $d_3 = 1$"
   ]
  },
  {
   "cell_type": "code",
   "execution_count": 25,
   "id": "a4ec5445-3ced-4aa1-8976-697eba71a81a",
   "metadata": {},
   "outputs": [],
   "source": [
    "C2 = copy.deepcopy(C1)\n",
    "C = C2\n",
    "C.subs(d3, 1)"
   ]
  },
  {
   "cell_type": "code",
   "execution_count": 26,
   "id": "8e2f68db-0465-4420-8b7f-180e3027cdfe",
   "metadata": {},
   "outputs": [
    {
     "data": {
      "text/latex": [
       "$\\displaystyle \\left[\\begin{matrix}1 & 0 & 0 & 0 & a_{0} & -1 & -1 & 0\\\\0 & 1 & 0 & 0 & -1 & 0 & 1 & 1\\\\0 & 0 & 1 & 0 & a_{2} & -1 & -2 & -1\\\\0 & 0 & 0 & 1 & -1 & 0 & 2 & 1\\end{matrix}\\right]$"
      ],
      "text/plain": [
       "Matrix([\n",
       "[1, 0, 0, 0, a0, -1, -1,  0],\n",
       "[0, 1, 0, 0, -1,  0,  1,  1],\n",
       "[0, 0, 1, 0, a2, -1, -2, -1],\n",
       "[0, 0, 0, 1, -1,  0,  2,  1]])"
      ]
     },
     "metadata": {},
     "output_type": "display_data"
    },
    {
     "name": "stdout",
     "output_type": "stream",
     "text": [
      "1\n"
     ]
    }
   ],
   "source": [
    "display(C.char)\n",
    "print(C.is_fangiving)\n",
    "fans.append(C.char)"
   ]
  },
  {
   "cell_type": "markdown",
   "id": "ef685120-e032-4848-b83a-196c48749cbe",
   "metadata": {
    "jp-MarkdownHeadingCollapsed": true
   },
   "source": [
    "## $a_2 = 0$ ($d_3 \\not= 1$)"
   ]
  },
  {
   "cell_type": "code",
   "execution_count": 27,
   "id": "16bf27b8-5e81-4663-866e-6a7e8fca6f4d",
   "metadata": {},
   "outputs": [],
   "source": [
    "C2 = copy.deepcopy(C1)\n",
    "C = C2\n",
    "C.subs(a2, 0)"
   ]
  },
  {
   "cell_type": "code",
   "execution_count": 28,
   "id": "cc0f001d-ad90-45bf-8b4d-67f92aef757e",
   "metadata": {},
   "outputs": [
    {
     "name": "stdout",
     "output_type": "stream",
     "text": [
      "facet number: 11\n"
     ]
    },
    {
     "data": {
      "text/latex": [
       "$\\displaystyle a_{0} d_{3} - a_{0} - 1 = -1$"
      ],
      "text/plain": [
       "Eq(a0*d3 - a0 - 1, -1)"
      ]
     },
     "metadata": {},
     "output_type": "display_data"
    }
   ],
   "source": [
    "i=11\n",
    "print('facet number:', i)\n",
    "display(sp.Eq(C.determinants[i], C.orientation[i]))\n",
    "\n",
    "C.subs(a0, 0)"
   ]
  },
  {
   "cell_type": "code",
   "execution_count": 29,
   "id": "d1cd966b-aa3f-4c3c-a1c3-945f0edcc865",
   "metadata": {},
   "outputs": [
    {
     "data": {
      "text/latex": [
       "$\\displaystyle \\left[\\begin{matrix}1 & 0 & 0 & 0 & 0 & -1 & -1 & 0\\\\0 & 1 & 0 & 0 & -1 & 0 & 1 & 1\\\\0 & 0 & 1 & 0 & 0 & -1 & -2 & -1\\\\0 & 0 & 0 & 1 & -1 & d_{3} - 1 & 2 d_{3} & d_{3}\\end{matrix}\\right]$"
      ],
      "text/plain": [
       "Matrix([\n",
       "[1, 0, 0, 0,  0,     -1,   -1,  0],\n",
       "[0, 1, 0, 0, -1,      0,    1,  1],\n",
       "[0, 0, 1, 0,  0,     -1,   -2, -1],\n",
       "[0, 0, 0, 1, -1, d3 - 1, 2*d3, d3]])"
      ]
     },
     "metadata": {},
     "output_type": "display_data"
    },
    {
     "name": "stdout",
     "output_type": "stream",
     "text": [
      "1\n"
     ]
    }
   ],
   "source": [
    "display(C.char)\n",
    "print(C.is_fangiving)\n",
    "fans.append(C.char)"
   ]
  },
  {
   "cell_type": "markdown",
   "id": "848ced6b-d019-4cfa-9cdf-aee5f7b68eb2",
   "metadata": {
    "jp-MarkdownHeadingCollapsed": true
   },
   "source": [
    "# Type 2 of the projection"
   ]
  },
  {
   "cell_type": "code",
   "execution_count": 30,
   "id": "720c899a-6ed4-43dc-aa8e-6d1c4aaeebe1",
   "metadata": {},
   "outputs": [
    {
     "data": {
      "text/latex": [
       "$\\displaystyle \\left[\\begin{matrix}1 & 0 & 0 & 0 & -1 & -1 & d_{0}\\\\0 & 1 & 0 & -1 & -2 & -1 & d_{1}\\\\0 & 0 & 1 & 1 & 1 & 0 & -1\\end{matrix}\\right]$"
      ],
      "text/plain": [
       "Matrix([\n",
       "[1, 0, 0,  0, -1, -1, d0],\n",
       "[0, 1, 0, -1, -2, -1, d1],\n",
       "[0, 0, 1,  1,  1,  0, -1]])"
      ]
     },
     "metadata": {},
     "output_type": "display_data"
    }
   ],
   "source": [
    "C1 = copy.deepcopy(C0)\n",
    "C = C1\n",
    "t=2\n",
    "display(fans_link[t])"
   ]
  },
  {
   "cell_type": "code",
   "execution_count": 31,
   "id": "8771a51b-1e20-42fb-99be-e292147c3d38",
   "metadata": {},
   "outputs": [
    {
     "data": {
      "text/latex": [
       "$\\displaystyle \\left[\\begin{matrix}1 & 0 & 0 & a_{0} & -1 & c_{0} & d_{0}\\\\0 & 1 & 0 & -1 & b_{1} & c_{1} & d_{1}\\\\0 & 0 & 1 & a_{2} & b_{2} & c_{2} & -1\\end{matrix}\\right] = \\left[\\begin{matrix}1 & 0 & 0 & 0 & -1 & -1 & d_{0}\\\\0 & 1 & 0 & -1 & -2 & -1 & d_{1}\\\\0 & 0 & 1 & 1 & 1 & 0 & -1\\end{matrix}\\right]$"
      ],
      "text/plain": [
       "Eq(Matrix([\n",
       "[1, 0, 0, a0, -1, c0, d0],\n",
       "[0, 1, 0, -1, b1, c1, d1],\n",
       "[0, 0, 1, a2, b2, c2, -1]]), Matrix([\n",
       "[1, 0, 0,  0, -1, -1, d0],\n",
       "[0, 1, 0, -1, -2, -1, d1],\n",
       "[0, 0, 1,  1,  1,  0, -1]]))"
      ]
     },
     "metadata": {},
     "output_type": "display_data"
    }
   ],
   "source": [
    "proj = C.proj([4])\n",
    "with sp.evaluate(False):\n",
    "    display(sp.Eq(proj, fans_link[t]))\n",
    "\n",
    "C.subs(a0, 0)\n",
    "C.subs(a2, 1)\n",
    "\n",
    "C.subs(b1, -2)\n",
    "C.subs(b2, 1)\n",
    "\n",
    "C.subs(c0, -1)\n",
    "C.subs(c1, -1)\n",
    "C.subs(c2, 0)\n",
    "\n",
    "C.subs(d2, -1)"
   ]
  },
  {
   "cell_type": "code",
   "execution_count": 32,
   "id": "d53d252b-4b51-48cb-8099-25a3ceb912a7",
   "metadata": {},
   "outputs": [
    {
     "name": "stdout",
     "output_type": "stream",
     "text": [
      "facet number: 3\n"
     ]
    },
    {
     "data": {
      "text/latex": [
       "$\\displaystyle b_{3} + 1 = -1$"
      ],
      "text/plain": [
       "Eq(b3 + 1, -1)"
      ]
     },
     "metadata": {},
     "output_type": "display_data"
    }
   ],
   "source": [
    "i=3\n",
    "print('facet number:', i)\n",
    "display(sp.Eq(C.determinants[i], C.orientation[i]))\n",
    "\n",
    "C.subs(b3, -2)"
   ]
  },
  {
   "cell_type": "code",
   "execution_count": 33,
   "id": "63796a52-64e9-4402-ba04-b8c3e090f997",
   "metadata": {},
   "outputs": [
    {
     "name": "stdout",
     "output_type": "stream",
     "text": [
      "facet number: 4\n"
     ]
    },
    {
     "data": {
      "text/latex": [
       "$\\displaystyle d_{3} - 2 = -1$"
      ],
      "text/plain": [
       "Eq(d3 - 2, -1)"
      ]
     },
     "metadata": {},
     "output_type": "display_data"
    }
   ],
   "source": [
    "i=4\n",
    "print('facet number:', i)\n",
    "display(sp.Eq(C.determinants[i], C.orientation[i]))\n",
    "\n",
    "C.subs(d3, 1)"
   ]
  },
  {
   "cell_type": "code",
   "execution_count": 34,
   "id": "2f2c6c3d-e976-4a5d-b5b1-325da39cf254",
   "metadata": {},
   "outputs": [
    {
     "name": "stdout",
     "output_type": "stream",
     "text": [
      "facet number: 9\n"
     ]
    },
    {
     "data": {
      "text/latex": [
       "$\\displaystyle c_{3} d_{1} - 2 c_{3} - 1 = -1$"
      ],
      "text/plain": [
       "Eq(c3*d1 - 2*c3 - 1, -1)"
      ]
     },
     "metadata": {},
     "output_type": "display_data"
    }
   ],
   "source": [
    "i=9\n",
    "print('facet number:', i)\n",
    "display(sp.Eq(C.determinants[i], C.orientation[i]))"
   ]
  },
  {
   "cell_type": "markdown",
   "id": "7503d08f-b141-4773-85e5-e7b8e0e2dd9d",
   "metadata": {
    "jp-MarkdownHeadingCollapsed": true
   },
   "source": [
    "## $c_3=0$"
   ]
  },
  {
   "cell_type": "code",
   "execution_count": 35,
   "id": "0ee1986a-1556-4f92-b6cd-810573242279",
   "metadata": {},
   "outputs": [],
   "source": [
    "C2 = copy.deepcopy(C1)\n",
    "C = C2\n",
    "C.subs(c3, 0)"
   ]
  },
  {
   "cell_type": "code",
   "execution_count": 36,
   "id": "0360b9fa-a692-4f2b-89a7-e894c1c4add7",
   "metadata": {},
   "outputs": [
    {
     "data": {
      "text/latex": [
       "$\\displaystyle \\left[\\begin{matrix}1 & 0 & 0 & 0 & 0 & -1 & -1 & d_{0}\\\\0 & 1 & 0 & 0 & -1 & -2 & -1 & d_{1}\\\\0 & 0 & 1 & 0 & 1 & 1 & 0 & -1\\\\0 & 0 & 0 & 1 & -1 & -2 & 0 & 1\\end{matrix}\\right]$"
      ],
      "text/plain": [
       "Matrix([\n",
       "[1, 0, 0, 0,  0, -1, -1, d0],\n",
       "[0, 1, 0, 0, -1, -2, -1, d1],\n",
       "[0, 0, 1, 0,  1,  1,  0, -1],\n",
       "[0, 0, 0, 1, -1, -2,  0,  1]])"
      ]
     },
     "metadata": {},
     "output_type": "display_data"
    },
    {
     "name": "stdout",
     "output_type": "stream",
     "text": [
      "1\n"
     ]
    }
   ],
   "source": [
    "display(C.char)\n",
    "print(C.is_fangiving)\n",
    "fans.append(C.char)"
   ]
  },
  {
   "cell_type": "markdown",
   "id": "971d34b2-b614-497a-a7c2-0334bf10b468",
   "metadata": {
    "jp-MarkdownHeadingCollapsed": true
   },
   "source": [
    "## $d_1=2$ ($c_3 \\not= 0$)"
   ]
  },
  {
   "cell_type": "code",
   "execution_count": 37,
   "id": "6acd0217-4ebf-4912-b0c3-444c90fdf45c",
   "metadata": {},
   "outputs": [],
   "source": [
    "C2 = copy.deepcopy(C1)\n",
    "C = C2\n",
    "C.subs(d1, 2)"
   ]
  },
  {
   "cell_type": "code",
   "execution_count": 38,
   "id": "1645978c-b5cd-4f0b-ae0f-c2751996b173",
   "metadata": {},
   "outputs": [
    {
     "name": "stdout",
     "output_type": "stream",
     "text": [
      "facet number: 14\n"
     ]
    },
    {
     "data": {
      "text/latex": [
       "$\\displaystyle - c_{3} d_{0} + c_{3} + 1 = 1$"
      ],
      "text/plain": [
       "Eq(-c3*d0 + c3 + 1, 1)"
      ]
     },
     "metadata": {},
     "output_type": "display_data"
    }
   ],
   "source": [
    "i=14\n",
    "print('facet number:', i)\n",
    "display(sp.Eq(C.determinants[i], C.orientation[i]))\n",
    "\n",
    "C.subs(d0, 1)"
   ]
  },
  {
   "cell_type": "code",
   "execution_count": 39,
   "id": "e850782b-d1b4-430a-b47a-7fba66504cbe",
   "metadata": {},
   "outputs": [
    {
     "data": {
      "text/latex": [
       "$\\displaystyle \\left[\\begin{matrix}1 & 0 & 0 & 0 & 0 & -1 & -1 & 1\\\\0 & 1 & 0 & 0 & -1 & -2 & -1 & 2\\\\0 & 0 & 1 & 0 & 1 & 1 & 0 & -1\\\\0 & 0 & 0 & 1 & -1 & -2 & c_{3} & 1\\end{matrix}\\right]$"
      ],
      "text/plain": [
       "Matrix([\n",
       "[1, 0, 0, 0,  0, -1, -1,  1],\n",
       "[0, 1, 0, 0, -1, -2, -1,  2],\n",
       "[0, 0, 1, 0,  1,  1,  0, -1],\n",
       "[0, 0, 0, 1, -1, -2, c3,  1]])"
      ]
     },
     "metadata": {},
     "output_type": "display_data"
    },
    {
     "name": "stdout",
     "output_type": "stream",
     "text": [
      "1\n"
     ]
    }
   ],
   "source": [
    "display(C.char)\n",
    "print(C.is_fangiving)\n",
    "fans.append(C.char)"
   ]
  },
  {
   "cell_type": "markdown",
   "id": "c037ab72-be06-46e9-a8e6-34871519cdd1",
   "metadata": {
    "jp-MarkdownHeadingCollapsed": true
   },
   "source": [
    "# Type 3 of the projection"
   ]
  },
  {
   "cell_type": "code",
   "execution_count": 40,
   "id": "d508e356-7268-4dc0-8e2b-39d1e8df03f6",
   "metadata": {},
   "outputs": [
    {
     "data": {
      "text/latex": [
       "$\\displaystyle \\left[\\begin{matrix}1 & 0 & 0 & 0 & -1 & -1 & d_{0}\\\\0 & 1 & 0 & -1 & -1 & -1 & d_{1}\\\\0 & 0 & 1 & 2 & 1 & 0 & -1\\end{matrix}\\right]$"
      ],
      "text/plain": [
       "Matrix([\n",
       "[1, 0, 0,  0, -1, -1, d0],\n",
       "[0, 1, 0, -1, -1, -1, d1],\n",
       "[0, 0, 1,  2,  1,  0, -1]])"
      ]
     },
     "metadata": {},
     "output_type": "display_data"
    }
   ],
   "source": [
    "C1 = copy.deepcopy(C0)\n",
    "C = C1\n",
    "t=3\n",
    "display(fans_link[t])"
   ]
  },
  {
   "cell_type": "code",
   "execution_count": 41,
   "id": "44b75e47-007f-4c15-98b2-692313249a16",
   "metadata": {},
   "outputs": [
    {
     "data": {
      "text/latex": [
       "$\\displaystyle \\left[\\begin{matrix}1 & 0 & 0 & a_{0} & -1 & c_{0} & d_{0}\\\\0 & 1 & 0 & -1 & b_{1} & c_{1} & d_{1}\\\\0 & 0 & 1 & a_{2} & b_{2} & c_{2} & -1\\end{matrix}\\right] = \\left[\\begin{matrix}1 & 0 & 0 & 0 & -1 & -1 & d_{0}\\\\0 & 1 & 0 & -1 & -1 & -1 & d_{1}\\\\0 & 0 & 1 & 2 & 1 & 0 & -1\\end{matrix}\\right]$"
      ],
      "text/plain": [
       "Eq(Matrix([\n",
       "[1, 0, 0, a0, -1, c0, d0],\n",
       "[0, 1, 0, -1, b1, c1, d1],\n",
       "[0, 0, 1, a2, b2, c2, -1]]), Matrix([\n",
       "[1, 0, 0,  0, -1, -1, d0],\n",
       "[0, 1, 0, -1, -1, -1, d1],\n",
       "[0, 0, 1,  2,  1,  0, -1]]))"
      ]
     },
     "metadata": {},
     "output_type": "display_data"
    }
   ],
   "source": [
    "proj = C.proj([4])\n",
    "with sp.evaluate(False):\n",
    "    display(sp.Eq(proj, fans_link[t]))\n",
    "\n",
    "C.subs(a0, 0)\n",
    "C.subs(a2, 2)\n",
    "\n",
    "C.subs(b1, -1)\n",
    "C.subs(b2, 1)\n",
    "\n",
    "C.subs(c0, -1)\n",
    "C.subs(c1, -1)\n",
    "C.subs(c2, 0)"
   ]
  },
  {
   "cell_type": "code",
   "execution_count": 42,
   "id": "3d7e2bb3-c1e0-40e2-994a-1ff96a715e5b",
   "metadata": {},
   "outputs": [
    {
     "name": "stdout",
     "output_type": "stream",
     "text": [
      "facet number: 3\n"
     ]
    },
    {
     "data": {
      "text/latex": [
       "$\\displaystyle 2 b_{3} + 1 = -1$"
      ],
      "text/plain": [
       "Eq(2*b3 + 1, -1)"
      ]
     },
     "metadata": {},
     "output_type": "display_data"
    }
   ],
   "source": [
    "i=3\n",
    "print('facet number:', i)\n",
    "display(sp.Eq(C.determinants[i], C.orientation[i]))\n",
    "\n",
    "C.subs(b3, -1)"
   ]
  },
  {
   "cell_type": "code",
   "execution_count": 43,
   "id": "8da4e464-991a-4476-ab4f-de03f0bfeba3",
   "metadata": {},
   "outputs": [
    {
     "name": "stdout",
     "output_type": "stream",
     "text": [
      "facet number: 4\n"
     ]
    },
    {
     "data": {
      "text/latex": [
       "$\\displaystyle d_{3} - 1 = -1$"
      ],
      "text/plain": [
       "Eq(d3 - 1, -1)"
      ]
     },
     "metadata": {},
     "output_type": "display_data"
    }
   ],
   "source": [
    "i=4\n",
    "print('facet number:', i)\n",
    "display(sp.Eq(C.determinants[i], C.orientation[i]))\n",
    "\n",
    "C.subs(d3, 0)"
   ]
  },
  {
   "cell_type": "code",
   "execution_count": 44,
   "id": "e9d474a1-ca0c-4062-bb0e-b49f3a0303ed",
   "metadata": {},
   "outputs": [
    {
     "name": "stdout",
     "output_type": "stream",
     "text": [
      "facet number: 9\n"
     ]
    },
    {
     "data": {
      "text/latex": [
       "$\\displaystyle c_{3} d_{1} - c_{3} - 1 = -1$"
      ],
      "text/plain": [
       "Eq(c3*d1 - c3 - 1, -1)"
      ]
     },
     "metadata": {},
     "output_type": "display_data"
    }
   ],
   "source": [
    "i=9\n",
    "print('facet number:', i)\n",
    "display(sp.Eq(C.determinants[i], C.orientation[i]))"
   ]
  },
  {
   "cell_type": "markdown",
   "id": "985b9d44-56e7-41b1-84c0-de58968dc5bb",
   "metadata": {
    "jp-MarkdownHeadingCollapsed": true
   },
   "source": [
    "## $c_3=0$"
   ]
  },
  {
   "cell_type": "code",
   "execution_count": 45,
   "id": "8a50def5-96b3-47a4-9422-717c2b38a13b",
   "metadata": {},
   "outputs": [],
   "source": [
    "C2 = copy.deepcopy(C1)\n",
    "C = C2\n",
    "C.subs(c3, 0)"
   ]
  },
  {
   "cell_type": "code",
   "execution_count": 46,
   "id": "fb755ff3-e2f0-45b7-b5ba-abf545def19e",
   "metadata": {},
   "outputs": [
    {
     "data": {
      "text/latex": [
       "$\\displaystyle \\left[\\begin{matrix}1 & 0 & 0 & 0 & 0 & -1 & -1 & d_{0}\\\\0 & 1 & 0 & 0 & -1 & -1 & -1 & d_{1}\\\\0 & 0 & 1 & 0 & 2 & 1 & 0 & -1\\\\0 & 0 & 0 & 1 & -1 & -1 & 0 & 0\\end{matrix}\\right]$"
      ],
      "text/plain": [
       "Matrix([\n",
       "[1, 0, 0, 0,  0, -1, -1, d0],\n",
       "[0, 1, 0, 0, -1, -1, -1, d1],\n",
       "[0, 0, 1, 0,  2,  1,  0, -1],\n",
       "[0, 0, 0, 1, -1, -1,  0,  0]])"
      ]
     },
     "metadata": {},
     "output_type": "display_data"
    },
    {
     "name": "stdout",
     "output_type": "stream",
     "text": [
      "1\n"
     ]
    }
   ],
   "source": [
    "display(C.char)\n",
    "print(C.is_fangiving)\n",
    "fans.append(C.char)"
   ]
  },
  {
   "cell_type": "markdown",
   "id": "f1e37a81-1e14-407e-8729-fafec4bcd867",
   "metadata": {
    "jp-MarkdownHeadingCollapsed": true
   },
   "source": [
    "## $d_1=1$ ($c_3 \\not= 0$)"
   ]
  },
  {
   "cell_type": "code",
   "execution_count": 47,
   "id": "39c231cd-7fb5-4f60-8b69-2f9fef84ea58",
   "metadata": {},
   "outputs": [],
   "source": [
    "C2 = copy.deepcopy(C1)\n",
    "C = C2\n",
    "C.subs(d1, 1)"
   ]
  },
  {
   "cell_type": "code",
   "execution_count": 48,
   "id": "4b848f72-a2da-4857-8246-0b0918380c79",
   "metadata": {},
   "outputs": [
    {
     "name": "stdout",
     "output_type": "stream",
     "text": [
      "facet number: 14\n"
     ]
    },
    {
     "data": {
      "text/latex": [
       "$\\displaystyle - c_{3} d_{0} + c_{3} + 1 = 1$"
      ],
      "text/plain": [
       "Eq(-c3*d0 + c3 + 1, 1)"
      ]
     },
     "metadata": {},
     "output_type": "display_data"
    }
   ],
   "source": [
    "i=14\n",
    "print('facet number:', i)\n",
    "display(sp.Eq(C.determinants[i], C.orientation[i]))\n",
    "\n",
    "C.subs(d0, 1)"
   ]
  },
  {
   "cell_type": "code",
   "execution_count": 49,
   "id": "27e91204-e24a-4abf-a20b-d5ab31575ac3",
   "metadata": {},
   "outputs": [
    {
     "data": {
      "text/latex": [
       "$\\displaystyle \\left[\\begin{matrix}1 & 0 & 0 & 0 & 0 & -1 & -1 & 1\\\\0 & 1 & 0 & 0 & -1 & -1 & -1 & 1\\\\0 & 0 & 1 & 0 & 2 & 1 & 0 & -1\\\\0 & 0 & 0 & 1 & -1 & -1 & c_{3} & 0\\end{matrix}\\right]$"
      ],
      "text/plain": [
       "Matrix([\n",
       "[1, 0, 0, 0,  0, -1, -1,  1],\n",
       "[0, 1, 0, 0, -1, -1, -1,  1],\n",
       "[0, 0, 1, 0,  2,  1,  0, -1],\n",
       "[0, 0, 0, 1, -1, -1, c3,  0]])"
      ]
     },
     "metadata": {},
     "output_type": "display_data"
    },
    {
     "name": "stdout",
     "output_type": "stream",
     "text": [
      "1\n"
     ]
    }
   ],
   "source": [
    "display(C.char)\n",
    "print(C.is_fangiving)\n",
    "fans.append(C.char)"
   ]
  },
  {
   "cell_type": "markdown",
   "id": "535d5c36-8c08-47e4-ba26-3a9150902c40",
   "metadata": {
    "jp-MarkdownHeadingCollapsed": true
   },
   "source": [
    "# Type 4 of the projection"
   ]
  },
  {
   "cell_type": "code",
   "execution_count": 50,
   "id": "85251b5e-9e94-4126-af5e-61c3df1522a3",
   "metadata": {},
   "outputs": [
    {
     "data": {
      "text/latex": [
       "$\\displaystyle \\left[\\begin{matrix}1 & 0 & 0 & 0 & -1 & 0 & 1\\\\0 & 1 & 0 & -1 & d_{1} - 2 & d_{1} - 1 & d_{1}\\\\0 & 0 & 1 & 0 & -1 & -1 & -1\\end{matrix}\\right]$"
      ],
      "text/plain": [
       "Matrix([\n",
       "[1, 0, 0,  0,     -1,      0,  1],\n",
       "[0, 1, 0, -1, d1 - 2, d1 - 1, d1],\n",
       "[0, 0, 1,  0,     -1,     -1, -1]])"
      ]
     },
     "metadata": {},
     "output_type": "display_data"
    }
   ],
   "source": [
    "C1 = copy.deepcopy(C0)\n",
    "C = C1\n",
    "t=4\n",
    "display(fans_link[t])"
   ]
  },
  {
   "cell_type": "code",
   "execution_count": 51,
   "id": "d0d4e769-cb1e-4777-a8e2-df269cae1c9c",
   "metadata": {},
   "outputs": [
    {
     "data": {
      "text/latex": [
       "$\\displaystyle \\left[\\begin{matrix}1 & 0 & 0 & a_{0} & -1 & c_{0} & d_{0}\\\\0 & 1 & 0 & -1 & b_{1} & c_{1} & d_{1}\\\\0 & 0 & 1 & a_{2} & b_{2} & c_{2} & -1\\end{matrix}\\right] = \\left[\\begin{matrix}1 & 0 & 0 & 0 & -1 & 0 & 1\\\\0 & 1 & 0 & -1 & d_{1} - 2 & d_{1} - 1 & d_{1}\\\\0 & 0 & 1 & 0 & -1 & -1 & -1\\end{matrix}\\right]$"
      ],
      "text/plain": [
       "Eq(Matrix([\n",
       "[1, 0, 0, a0, -1, c0, d0],\n",
       "[0, 1, 0, -1, b1, c1, d1],\n",
       "[0, 0, 1, a2, b2, c2, -1]]), Matrix([\n",
       "[1, 0, 0,  0,     -1,      0,  1],\n",
       "[0, 1, 0, -1, d1 - 2, d1 - 1, d1],\n",
       "[0, 0, 1,  0,     -1,     -1, -1]]))"
      ]
     },
     "metadata": {},
     "output_type": "display_data"
    }
   ],
   "source": [
    "proj = C.proj([4])\n",
    "with sp.evaluate(False):\n",
    "    display(sp.Eq(proj, fans_link[t]))\n",
    "\n",
    "C.subs(a0, 0)\n",
    "C.subs(a2, 0)\n",
    "\n",
    "C.subs(b1, d1-2)\n",
    "C.subs(b2, -1)\n",
    "\n",
    "C.subs(c0, 0)\n",
    "C.subs(c1, d1-1)\n",
    "C.subs(c2, -1)\n",
    "\n",
    "C.subs(d0, 1)"
   ]
  },
  {
   "cell_type": "code",
   "execution_count": 52,
   "id": "ef1a4316-935b-42cd-9a8d-4622f5c9537b",
   "metadata": {},
   "outputs": [
    {
     "name": "stdout",
     "output_type": "stream",
     "text": [
      "facet number: 4\n"
     ]
    },
    {
     "data": {
      "text/latex": [
       "$\\displaystyle b_{3} - d_{3} = -1$"
      ],
      "text/plain": [
       "Eq(b3 - d3, -1)"
      ]
     },
     "metadata": {},
     "output_type": "display_data"
    }
   ],
   "source": [
    "i=4\n",
    "print('facet number:', i)\n",
    "display(sp.Eq(C.determinants[i], C.orientation[i]))\n",
    "\n",
    "C.subs(b3, d3-1)"
   ]
  },
  {
   "cell_type": "code",
   "execution_count": 53,
   "id": "b4a85ff1-d8c0-412a-b088-0a88869c8463",
   "metadata": {},
   "outputs": [
    {
     "name": "stdout",
     "output_type": "stream",
     "text": [
      "facet number: 9\n"
     ]
    },
    {
     "data": {
      "text/latex": [
       "$\\displaystyle - 2 c_{3} + 2 d_{3} - 1 = -1$"
      ],
      "text/plain": [
       "Eq(-2*c3 + 2*d3 - 1, -1)"
      ]
     },
     "metadata": {},
     "output_type": "display_data"
    }
   ],
   "source": [
    "i=9\n",
    "print('facet number:', i)\n",
    "display(sp.Eq(C.determinants[i], C.orientation[i]))\n",
    "\n",
    "C.subs(c3, d3)"
   ]
  },
  {
   "cell_type": "code",
   "execution_count": 54,
   "id": "4f52a5de-e127-4abb-9ad5-8113eb3d3cd8",
   "metadata": {},
   "outputs": [
    {
     "data": {
      "text/latex": [
       "$\\displaystyle \\left[\\begin{matrix}1 & 0 & 0 & 0 & 0 & -1 & 0 & 1\\\\0 & 1 & 0 & 0 & -1 & d_{1} - 2 & d_{1} - 1 & d_{1}\\\\0 & 0 & 1 & 0 & 0 & -1 & -1 & -1\\\\0 & 0 & 0 & 1 & -1 & d_{3} - 1 & d_{3} & d_{3}\\end{matrix}\\right]$"
      ],
      "text/plain": [
       "Matrix([\n",
       "[1, 0, 0, 0,  0,     -1,      0,  1],\n",
       "[0, 1, 0, 0, -1, d1 - 2, d1 - 1, d1],\n",
       "[0, 0, 1, 0,  0,     -1,     -1, -1],\n",
       "[0, 0, 0, 1, -1, d3 - 1,     d3, d3]])"
      ]
     },
     "metadata": {},
     "output_type": "display_data"
    },
    {
     "name": "stdout",
     "output_type": "stream",
     "text": [
      "1\n"
     ]
    }
   ],
   "source": [
    "display(C.char)\n",
    "print(C.is_fangiving)\n",
    "fans.append(C.char)"
   ]
  },
  {
   "cell_type": "markdown",
   "id": "d24e3cff-6882-4875-9cff-2b4890fc82df",
   "metadata": {
    "jp-MarkdownHeadingCollapsed": true
   },
   "source": [
    "# Type 5 of the projection"
   ]
  },
  {
   "cell_type": "code",
   "execution_count": 55,
   "id": "13062b80-241c-4a51-9f35-cab110d2abde",
   "metadata": {},
   "outputs": [
    {
     "data": {
      "text/latex": [
       "$\\displaystyle \\left[\\begin{matrix}1 & 0 & 0 & 0 & -1 & -1 & 0\\\\0 & 1 & 0 & -1 & d_{1} - 1 & 2 d_{1} - 1 & d_{1}\\\\0 & 0 & 1 & 0 & -1 & -2 & -1\\end{matrix}\\right]$"
      ],
      "text/plain": [
       "Matrix([\n",
       "[1, 0, 0,  0,     -1,       -1,  0],\n",
       "[0, 1, 0, -1, d1 - 1, 2*d1 - 1, d1],\n",
       "[0, 0, 1,  0,     -1,       -2, -1]])"
      ]
     },
     "metadata": {},
     "output_type": "display_data"
    }
   ],
   "source": [
    "C1 = copy.deepcopy(C0)\n",
    "C = C1\n",
    "t=5\n",
    "display(fans_link[t])"
   ]
  },
  {
   "cell_type": "code",
   "execution_count": 56,
   "id": "06568da2-81b0-4d3a-8ae6-d9772ab16bf5",
   "metadata": {},
   "outputs": [
    {
     "data": {
      "text/latex": [
       "$\\displaystyle \\left[\\begin{matrix}1 & 0 & 0 & a_{0} & -1 & c_{0} & d_{0}\\\\0 & 1 & 0 & -1 & b_{1} & c_{1} & d_{1}\\\\0 & 0 & 1 & a_{2} & b_{2} & c_{2} & -1\\end{matrix}\\right] = \\left[\\begin{matrix}1 & 0 & 0 & 0 & -1 & -1 & 0\\\\0 & 1 & 0 & -1 & d_{1} - 1 & 2 d_{1} - 1 & d_{1}\\\\0 & 0 & 1 & 0 & -1 & -2 & -1\\end{matrix}\\right]$"
      ],
      "text/plain": [
       "Eq(Matrix([\n",
       "[1, 0, 0, a0, -1, c0, d0],\n",
       "[0, 1, 0, -1, b1, c1, d1],\n",
       "[0, 0, 1, a2, b2, c2, -1]]), Matrix([\n",
       "[1, 0, 0,  0,     -1,       -1,  0],\n",
       "[0, 1, 0, -1, d1 - 1, 2*d1 - 1, d1],\n",
       "[0, 0, 1,  0,     -1,       -2, -1]]))"
      ]
     },
     "metadata": {},
     "output_type": "display_data"
    }
   ],
   "source": [
    "proj = C.proj([4])\n",
    "with sp.evaluate(False):\n",
    "    display(sp.Eq(proj, fans_link[t]))\n",
    "\n",
    "C.subs(a0, 0)\n",
    "C.subs(a2, 0)\n",
    "\n",
    "C.subs(b1, d1-1)\n",
    "C.subs(b2, -1)\n",
    "\n",
    "C.subs(c0, -1)\n",
    "C.subs(c1, 2*d1-1)\n",
    "C.subs(c2, -2)\n",
    "\n",
    "C.subs(d0, 0)"
   ]
  },
  {
   "cell_type": "code",
   "execution_count": 57,
   "id": "a06d14fe-2829-43ec-940c-524f7240dbd5",
   "metadata": {},
   "outputs": [
    {
     "name": "stdout",
     "output_type": "stream",
     "text": [
      "facet number: 4\n"
     ]
    },
    {
     "data": {
      "text/latex": [
       "$\\displaystyle b_{3} - d_{3} = -1$"
      ],
      "text/plain": [
       "Eq(b3 - d3, -1)"
      ]
     },
     "metadata": {},
     "output_type": "display_data"
    }
   ],
   "source": [
    "i=4\n",
    "print('facet number:', i)\n",
    "display(sp.Eq(C.determinants[i], C.orientation[i]))\n",
    "\n",
    "C.subs(b3, d3-1)"
   ]
  },
  {
   "cell_type": "code",
   "execution_count": 58,
   "id": "ae16d148-41af-4e45-a5b4-e27ccaed2cbb",
   "metadata": {},
   "outputs": [
    {
     "name": "stdout",
     "output_type": "stream",
     "text": [
      "facet number: 9\n"
     ]
    },
    {
     "data": {
      "text/latex": [
       "$\\displaystyle - c_{3} + 2 d_{3} - 1 = -1$"
      ],
      "text/plain": [
       "Eq(-c3 + 2*d3 - 1, -1)"
      ]
     },
     "metadata": {},
     "output_type": "display_data"
    }
   ],
   "source": [
    "i=9\n",
    "print('facet number:', i)\n",
    "display(sp.Eq(C.determinants[i], C.orientation[i]))\n",
    "\n",
    "C.subs(c3, 2*d3)"
   ]
  },
  {
   "cell_type": "code",
   "execution_count": 59,
   "id": "026ec919-e3e3-48cd-8f98-546298a713e3",
   "metadata": {},
   "outputs": [
    {
     "data": {
      "text/latex": [
       "$\\displaystyle \\left[\\begin{matrix}1 & 0 & 0 & 0 & 0 & -1 & -1 & 0\\\\0 & 1 & 0 & 0 & -1 & d_{1} - 1 & 2 d_{1} - 1 & d_{1}\\\\0 & 0 & 1 & 0 & 0 & -1 & -2 & -1\\\\0 & 0 & 0 & 1 & -1 & d_{3} - 1 & 2 d_{3} & d_{3}\\end{matrix}\\right]$"
      ],
      "text/plain": [
       "Matrix([\n",
       "[1, 0, 0, 0,  0,     -1,       -1,  0],\n",
       "[0, 1, 0, 0, -1, d1 - 1, 2*d1 - 1, d1],\n",
       "[0, 0, 1, 0,  0,     -1,       -2, -1],\n",
       "[0, 0, 0, 1, -1, d3 - 1,     2*d3, d3]])"
      ]
     },
     "metadata": {},
     "output_type": "display_data"
    },
    {
     "name": "stdout",
     "output_type": "stream",
     "text": [
      "1\n"
     ]
    }
   ],
   "source": [
    "display(C.char)\n",
    "print(C.is_fangiving)\n",
    "fans.append(C.char)"
   ]
  },
  {
   "cell_type": "markdown",
   "id": "12461edb-1351-4db0-93f0-09709bc22b2b",
   "metadata": {
    "jp-MarkdownHeadingCollapsed": true
   },
   "source": [
    "# Type 6 of the projection"
   ]
  },
  {
   "cell_type": "code",
   "execution_count": 60,
   "id": "c8ee22e0-1fc5-4d94-8dbe-874e70f12ae1",
   "metadata": {},
   "outputs": [
    {
     "data": {
      "text/latex": [
       "$\\displaystyle \\left[\\begin{matrix}1 & 0 & 0 & 0 & -1 & - c_{2} - 1 & 1\\\\0 & 1 & 0 & -1 & -2 & - 2 c_{2} - 1 & 2\\\\0 & 0 & 1 & 1 & 1 & c_{2} & -1\\end{matrix}\\right]$"
      ],
      "text/plain": [
       "Matrix([\n",
       "[1, 0, 0,  0, -1,   -c2 - 1,  1],\n",
       "[0, 1, 0, -1, -2, -2*c2 - 1,  2],\n",
       "[0, 0, 1,  1,  1,        c2, -1]])"
      ]
     },
     "metadata": {},
     "output_type": "display_data"
    }
   ],
   "source": [
    "C1 = copy.deepcopy(C0)\n",
    "C = C1\n",
    "t=6\n",
    "display(fans_link[t])"
   ]
  },
  {
   "cell_type": "code",
   "execution_count": 61,
   "id": "265a649b-8572-4f82-b7a2-0cd50840c349",
   "metadata": {},
   "outputs": [
    {
     "data": {
      "text/latex": [
       "$\\displaystyle \\left[\\begin{matrix}1 & 0 & 0 & a_{0} & -1 & c_{0} & d_{0}\\\\0 & 1 & 0 & -1 & b_{1} & c_{1} & d_{1}\\\\0 & 0 & 1 & a_{2} & b_{2} & c_{2} & -1\\end{matrix}\\right] = \\left[\\begin{matrix}1 & 0 & 0 & 0 & -1 & - c_{2} - 1 & 1\\\\0 & 1 & 0 & -1 & -2 & - 2 c_{2} - 1 & 2\\\\0 & 0 & 1 & 1 & 1 & c_{2} & -1\\end{matrix}\\right]$"
      ],
      "text/plain": [
       "Eq(Matrix([\n",
       "[1, 0, 0, a0, -1, c0, d0],\n",
       "[0, 1, 0, -1, b1, c1, d1],\n",
       "[0, 0, 1, a2, b2, c2, -1]]), Matrix([\n",
       "[1, 0, 0,  0, -1,   -c2 - 1,  1],\n",
       "[0, 1, 0, -1, -2, -2*c2 - 1,  2],\n",
       "[0, 0, 1,  1,  1,        c2, -1]]))"
      ]
     },
     "metadata": {},
     "output_type": "display_data"
    }
   ],
   "source": [
    "proj = C.proj([4])\n",
    "with sp.evaluate(False):\n",
    "    display(sp.Eq(proj, fans_link[t]))\n",
    "\n",
    "C.subs(a0, 0)\n",
    "C.subs(a2, 1)\n",
    "\n",
    "C.subs(b1, -2)\n",
    "C.subs(b2, 1)\n",
    "\n",
    "C.subs(c0, -c2-1)\n",
    "C.subs(c1, -2*c2-1)\n",
    "\n",
    "C.subs(d0, 1)\n",
    "C.subs(d1, 2)"
   ]
  },
  {
   "cell_type": "code",
   "execution_count": 62,
   "id": "69ef5f3c-8366-4fc4-8402-e880c3725106",
   "metadata": {},
   "outputs": [
    {
     "name": "stdout",
     "output_type": "stream",
     "text": [
      "facet number: 3\n"
     ]
    },
    {
     "data": {
      "text/latex": [
       "$\\displaystyle b_{3} + 1 = -1$"
      ],
      "text/plain": [
       "Eq(b3 + 1, -1)"
      ]
     },
     "metadata": {},
     "output_type": "display_data"
    }
   ],
   "source": [
    "i=3\n",
    "print('facet number:', i)\n",
    "display(sp.Eq(C.determinants[i], C.orientation[i]))\n",
    "\n",
    "C.subs(b3, -2)"
   ]
  },
  {
   "cell_type": "code",
   "execution_count": 63,
   "id": "acbed89f-17a3-4dd3-b9e0-12766cec5dee",
   "metadata": {},
   "outputs": [
    {
     "name": "stdout",
     "output_type": "stream",
     "text": [
      "facet number: 4\n"
     ]
    },
    {
     "data": {
      "text/latex": [
       "$\\displaystyle d_{3} - 2 = -1$"
      ],
      "text/plain": [
       "Eq(d3 - 2, -1)"
      ]
     },
     "metadata": {},
     "output_type": "display_data"
    }
   ],
   "source": [
    "i=4\n",
    "print('facet number:', i)\n",
    "display(sp.Eq(C.determinants[i], C.orientation[i]))\n",
    "\n",
    "C.subs(d3, 1)"
   ]
  },
  {
   "cell_type": "code",
   "execution_count": 64,
   "id": "99b1de93-0995-4a52-a0ed-c1825ffa4f31",
   "metadata": {},
   "outputs": [
    {
     "data": {
      "text/latex": [
       "$\\displaystyle \\left[\\begin{matrix}1 & 0 & 0 & 0 & 0 & -1 & - c_{2} - 1 & 1\\\\0 & 1 & 0 & 0 & -1 & -2 & - 2 c_{2} - 1 & 2\\\\0 & 0 & 1 & 0 & 1 & 1 & c_{2} & -1\\\\0 & 0 & 0 & 1 & -1 & -2 & c_{3} & 1\\end{matrix}\\right]$"
      ],
      "text/plain": [
       "Matrix([\n",
       "[1, 0, 0, 0,  0, -1,   -c2 - 1,  1],\n",
       "[0, 1, 0, 0, -1, -2, -2*c2 - 1,  2],\n",
       "[0, 0, 1, 0,  1,  1,        c2, -1],\n",
       "[0, 0, 0, 1, -1, -2,        c3,  1]])"
      ]
     },
     "metadata": {},
     "output_type": "display_data"
    },
    {
     "name": "stdout",
     "output_type": "stream",
     "text": [
      "1\n"
     ]
    }
   ],
   "source": [
    "display(C.char)\n",
    "print(C.is_fangiving)\n",
    "fans.append(C.char)"
   ]
  },
  {
   "cell_type": "markdown",
   "id": "0181eab4-8c80-417b-9c39-e90e5d024d25",
   "metadata": {
    "jp-MarkdownHeadingCollapsed": true
   },
   "source": [
    "# Type 7 of the projection"
   ]
  },
  {
   "cell_type": "code",
   "execution_count": 65,
   "id": "5b5f7b5e-ccd7-4ba0-8a3c-f87e6fcf9aee",
   "metadata": {},
   "outputs": [
    {
     "data": {
      "text/latex": [
       "$\\displaystyle \\left[\\begin{matrix}1 & 0 & 0 & 0 & -1 & d_{0} - 1 & d_{0}\\\\0 & 1 & 0 & -1 & -1 & d_{1} - 1 & d_{1}\\\\0 & 0 & 1 & 1 & 0 & -1 & -1\\end{matrix}\\right]$"
      ],
      "text/plain": [
       "Matrix([\n",
       "[1, 0, 0,  0, -1, d0 - 1, d0],\n",
       "[0, 1, 0, -1, -1, d1 - 1, d1],\n",
       "[0, 0, 1,  1,  0,     -1, -1]])"
      ]
     },
     "metadata": {},
     "output_type": "display_data"
    }
   ],
   "source": [
    "C1 = copy.deepcopy(C0)\n",
    "C = C1\n",
    "t=7\n",
    "display(fans_link[t])"
   ]
  },
  {
   "cell_type": "code",
   "execution_count": 66,
   "id": "23fd1975-dc28-4af9-8f6a-36758f66d0d4",
   "metadata": {},
   "outputs": [
    {
     "data": {
      "text/latex": [
       "$\\displaystyle \\left[\\begin{matrix}1 & 0 & 0 & a_{0} & -1 & c_{0} & d_{0}\\\\0 & 1 & 0 & -1 & b_{1} & c_{1} & d_{1}\\\\0 & 0 & 1 & a_{2} & b_{2} & c_{2} & -1\\end{matrix}\\right] = \\left[\\begin{matrix}1 & 0 & 0 & 0 & -1 & d_{0} - 1 & d_{0}\\\\0 & 1 & 0 & -1 & -1 & d_{1} - 1 & d_{1}\\\\0 & 0 & 1 & 1 & 0 & -1 & -1\\end{matrix}\\right]$"
      ],
      "text/plain": [
       "Eq(Matrix([\n",
       "[1, 0, 0, a0, -1, c0, d0],\n",
       "[0, 1, 0, -1, b1, c1, d1],\n",
       "[0, 0, 1, a2, b2, c2, -1]]), Matrix([\n",
       "[1, 0, 0,  0, -1, d0 - 1, d0],\n",
       "[0, 1, 0, -1, -1, d1 - 1, d1],\n",
       "[0, 0, 1,  1,  0,     -1, -1]]))"
      ]
     },
     "metadata": {},
     "output_type": "display_data"
    }
   ],
   "source": [
    "proj = C.proj([4])\n",
    "with sp.evaluate(False):\n",
    "    display(sp.Eq(proj, fans_link[t]))\n",
    "\n",
    "C.subs(a0, 0)\n",
    "C.subs(a2, 1)\n",
    "\n",
    "C.subs(b1, -1)\n",
    "C.subs(b2, 0)\n",
    "\n",
    "C.subs(c0, d0-1)\n",
    "C.subs(c1, d1-1)\n",
    "C.subs(c2, -1)"
   ]
  },
  {
   "cell_type": "code",
   "execution_count": 67,
   "id": "ab388dcc-622e-42af-96d8-dd2731378978",
   "metadata": {},
   "outputs": [
    {
     "name": "stdout",
     "output_type": "stream",
     "text": [
      "facet number: 3\n"
     ]
    },
    {
     "data": {
      "text/latex": [
       "$\\displaystyle b_{3} = -1$"
      ],
      "text/plain": [
       "Eq(b3, -1)"
      ]
     },
     "metadata": {},
     "output_type": "display_data"
    }
   ],
   "source": [
    "i=3\n",
    "print('facet number:', i)\n",
    "display(sp.Eq(C.determinants[i], C.orientation[i]))\n",
    "\n",
    "C.subs(b3, -1)"
   ]
  },
  {
   "cell_type": "code",
   "execution_count": 68,
   "id": "814becbb-6ec8-44ff-b747-5c116a52dd03",
   "metadata": {},
   "outputs": [
    {
     "name": "stdout",
     "output_type": "stream",
     "text": [
      "facet number: 9\n"
     ]
    },
    {
     "data": {
      "text/latex": [
       "$\\displaystyle - c_{3} + d_{3} - 1 = -1$"
      ],
      "text/plain": [
       "Eq(-c3 + d3 - 1, -1)"
      ]
     },
     "metadata": {},
     "output_type": "display_data"
    }
   ],
   "source": [
    "i=9\n",
    "print('facet number:', i)\n",
    "display(sp.Eq(C.determinants[i], C.orientation[i]))\n",
    "\n",
    "C.subs(c3, d3)"
   ]
  },
  {
   "cell_type": "code",
   "execution_count": 69,
   "id": "20df9ed3-27a3-44c4-aded-1a4bfa9fbf3c",
   "metadata": {},
   "outputs": [
    {
     "data": {
      "text/latex": [
       "$\\displaystyle \\left[\\begin{matrix}1 & 0 & 0 & 0 & 0 & -1 & d_{0} - 1 & d_{0}\\\\0 & 1 & 0 & 0 & -1 & -1 & d_{1} - 1 & d_{1}\\\\0 & 0 & 1 & 0 & 1 & 0 & -1 & -1\\\\0 & 0 & 0 & 1 & -1 & -1 & d_{3} & d_{3}\\end{matrix}\\right]$"
      ],
      "text/plain": [
       "Matrix([\n",
       "[1, 0, 0, 0,  0, -1, d0 - 1, d0],\n",
       "[0, 1, 0, 0, -1, -1, d1 - 1, d1],\n",
       "[0, 0, 1, 0,  1,  0,     -1, -1],\n",
       "[0, 0, 0, 1, -1, -1,     d3, d3]])"
      ]
     },
     "metadata": {},
     "output_type": "display_data"
    },
    {
     "name": "stdout",
     "output_type": "stream",
     "text": [
      "1\n"
     ]
    }
   ],
   "source": [
    "display(C.char)\n",
    "print(C.is_fangiving)\n",
    "fans.append(C.char)"
   ]
  },
  {
   "cell_type": "markdown",
   "id": "a6f0d881-7711-4706-ab26-6e72acd130b0",
   "metadata": {
    "jp-MarkdownHeadingCollapsed": true
   },
   "source": [
    "# Type 8 of the projection"
   ]
  },
  {
   "cell_type": "code",
   "execution_count": 70,
   "id": "6e118b40-f53a-4dc7-b631-ad73ce4dc519",
   "metadata": {},
   "outputs": [
    {
     "data": {
      "text/latex": [
       "$\\displaystyle \\left[\\begin{matrix}1 & 0 & 0 & 0 & -1 & 0 & 1\\\\0 & 1 & 0 & -1 & b_{1} & 1 & 2\\\\0 & 0 & 1 & 1 & - b_{1} - 1 & -1 & -1\\end{matrix}\\right]$"
      ],
      "text/plain": [
       "Matrix([\n",
       "[1, 0, 0,  0,      -1,  0,  1],\n",
       "[0, 1, 0, -1,      b1,  1,  2],\n",
       "[0, 0, 1,  1, -b1 - 1, -1, -1]])"
      ]
     },
     "metadata": {},
     "output_type": "display_data"
    }
   ],
   "source": [
    "C1 = copy.deepcopy(C0)\n",
    "C = C1\n",
    "t=8\n",
    "display(fans_link[t])"
   ]
  },
  {
   "cell_type": "code",
   "execution_count": 71,
   "id": "52a3ff09-f896-4329-936a-c90a2e7b5948",
   "metadata": {},
   "outputs": [
    {
     "data": {
      "text/latex": [
       "$\\displaystyle \\left[\\begin{matrix}1 & 0 & 0 & a_{0} & -1 & c_{0} & d_{0}\\\\0 & 1 & 0 & -1 & b_{1} & c_{1} & d_{1}\\\\0 & 0 & 1 & a_{2} & b_{2} & c_{2} & -1\\end{matrix}\\right] = \\left[\\begin{matrix}1 & 0 & 0 & 0 & -1 & 0 & 1\\\\0 & 1 & 0 & -1 & b_{1} & 1 & 2\\\\0 & 0 & 1 & 1 & - b_{1} - 1 & -1 & -1\\end{matrix}\\right]$"
      ],
      "text/plain": [
       "Eq(Matrix([\n",
       "[1, 0, 0, a0, -1, c0, d0],\n",
       "[0, 1, 0, -1, b1, c1, d1],\n",
       "[0, 0, 1, a2, b2, c2, -1]]), Matrix([\n",
       "[1, 0, 0,  0,      -1,  0,  1],\n",
       "[0, 1, 0, -1,      b1,  1,  2],\n",
       "[0, 0, 1,  1, -b1 - 1, -1, -1]]))"
      ]
     },
     "metadata": {},
     "output_type": "display_data"
    }
   ],
   "source": [
    "proj = C.proj([4])\n",
    "with sp.evaluate(False):\n",
    "    display(sp.Eq(proj, fans_link[t]))\n",
    "\n",
    "C.subs(a0, 0)\n",
    "C.subs(a2, 1)\n",
    "\n",
    "C.subs(b2, -b1-1)\n",
    "\n",
    "C.subs(c0, 0)\n",
    "C.subs(c1, 1)\n",
    "C.subs(c2, -1)\n",
    "\n",
    "C.subs(d0, 1)\n",
    "C.subs(d1, 2)"
   ]
  },
  {
   "cell_type": "code",
   "execution_count": 72,
   "id": "bfaa1560-e6ba-436c-a58c-d25672394b61",
   "metadata": {},
   "outputs": [
    {
     "name": "stdout",
     "output_type": "stream",
     "text": [
      "facet number: 3\n"
     ]
    },
    {
     "data": {
      "text/latex": [
       "$\\displaystyle - b_{1} + b_{3} - 1 = -1$"
      ],
      "text/plain": [
       "Eq(-b1 + b3 - 1, -1)"
      ]
     },
     "metadata": {},
     "output_type": "display_data"
    }
   ],
   "source": [
    "i=3\n",
    "print('facet number:', i)\n",
    "display(sp.Eq(C.determinants[i], C.orientation[i]))\n",
    "\n",
    "C.subs(b3, b1)"
   ]
  },
  {
   "cell_type": "code",
   "execution_count": 73,
   "id": "c0f265c2-89ac-4ac8-8f03-f7c4b9f119da",
   "metadata": {},
   "outputs": [
    {
     "name": "stdout",
     "output_type": "stream",
     "text": [
      "facet number: 4\n"
     ]
    },
    {
     "data": {
      "text/latex": [
       "$\\displaystyle - b_{1} d_{3} + b_{1} - d_{3} = -1$"
      ],
      "text/plain": [
       "Eq(-b1*d3 + b1 - d3, -1)"
      ]
     },
     "metadata": {},
     "output_type": "display_data"
    },
    {
     "data": {
      "text/latex": [
       "$\\displaystyle \\left(b_{1} + 1\\right) \\left(d_{3} - 1\\right) = 0$"
      ],
      "text/plain": [
       "Eq((b1 + 1)*(d3 - 1), 0)"
      ]
     },
     "metadata": {},
     "output_type": "display_data"
    },
    {
     "name": "stdout",
     "output_type": "stream",
     "text": [
      "b1=-1 => type 7\n"
     ]
    }
   ],
   "source": [
    "i=4\n",
    "print('facet number:', i)\n",
    "display(sp.Eq(C.determinants[i], C.orientation[i]))\n",
    "display(sp.Eq((b1+1)*(d3-1), 0))\n",
    "print('b1=-1 => type 7')\n",
    "C.subs(d3, 1)"
   ]
  },
  {
   "cell_type": "code",
   "execution_count": 74,
   "id": "6a891cee-12d3-4bd4-bf8b-c3bf48abced2",
   "metadata": {},
   "outputs": [
    {
     "name": "stdout",
     "output_type": "stream",
     "text": [
      "facet number: 14\n"
     ]
    },
    {
     "data": {
      "text/latex": [
       "$\\displaystyle b_{1} c_{3} - b_{1} + 2 c_{3} - 1 = 1$"
      ],
      "text/plain": [
       "Eq(b1*c3 - b1 + 2*c3 - 1, 1)"
      ]
     },
     "metadata": {},
     "output_type": "display_data"
    },
    {
     "data": {
      "text/latex": [
       "$\\displaystyle \\left(b_{1} + 2\\right) \\left(c_{3} - 1\\right) = 0$"
      ],
      "text/plain": [
       "Eq((b1 + 2)*(c3 - 1), 0)"
      ]
     },
     "metadata": {},
     "output_type": "display_data"
    },
    {
     "name": "stdout",
     "output_type": "stream",
     "text": [
      "b1=-2 => type 6\n"
     ]
    }
   ],
   "source": [
    "i=14\n",
    "print('facet number:', i)\n",
    "display(sp.Eq(C.determinants[i], C.orientation[i]))\n",
    "display(sp.Eq((b1+2)*(c3-1),0))\n",
    "print('b1=-2 => type 6')\n",
    "C.subs(c3, 1)"
   ]
  },
  {
   "cell_type": "code",
   "execution_count": 75,
   "id": "088b0122-0a28-44f9-9247-a34fdf10693f",
   "metadata": {},
   "outputs": [
    {
     "data": {
      "text/latex": [
       "$\\displaystyle \\left[\\begin{matrix}1 & 0 & 0 & 0 & 0 & -1 & 0 & 1\\\\0 & 1 & 0 & 0 & -1 & b_{1} & 1 & 2\\\\0 & 0 & 1 & 0 & 1 & - b_{1} - 1 & -1 & -1\\\\0 & 0 & 0 & 1 & -1 & b_{1} & 1 & 1\\end{matrix}\\right]$"
      ],
      "text/plain": [
       "Matrix([\n",
       "[1, 0, 0, 0,  0,      -1,  0,  1],\n",
       "[0, 1, 0, 0, -1,      b1,  1,  2],\n",
       "[0, 0, 1, 0,  1, -b1 - 1, -1, -1],\n",
       "[0, 0, 0, 1, -1,      b1,  1,  1]])"
      ]
     },
     "metadata": {},
     "output_type": "display_data"
    },
    {
     "name": "stdout",
     "output_type": "stream",
     "text": [
      "1\n"
     ]
    }
   ],
   "source": [
    "display(C.char)\n",
    "print(C.is_fangiving)\n",
    "fans.append(C.char)"
   ]
  },
  {
   "cell_type": "markdown",
   "id": "08721506-3ae5-4177-893a-ebd1a7e5c82c",
   "metadata": {
    "jp-MarkdownHeadingCollapsed": true
   },
   "source": [
    "# Type 9 of the projection"
   ]
  },
  {
   "cell_type": "code",
   "execution_count": 76,
   "id": "7208d417-a727-47f1-999a-0b25108e8da6",
   "metadata": {},
   "outputs": [
    {
     "data": {
      "text/latex": [
       "$\\displaystyle \\left[\\begin{matrix}1 & 0 & 0 & 0 & -1 & -1 & 0\\\\0 & 1 & 0 & -1 & - c_{2} - 2 & - c_{2} - 1 & 1\\\\0 & 0 & 1 & 1 & c_{2} + 1 & c_{2} & -1\\end{matrix}\\right]$"
      ],
      "text/plain": [
       "Matrix([\n",
       "[1, 0, 0,  0,      -1,      -1,  0],\n",
       "[0, 1, 0, -1, -c2 - 2, -c2 - 1,  1],\n",
       "[0, 0, 1,  1,  c2 + 1,      c2, -1]])"
      ]
     },
     "metadata": {},
     "output_type": "display_data"
    }
   ],
   "source": [
    "C1 = copy.deepcopy(C0)\n",
    "C = C1\n",
    "t=9\n",
    "display(fans_link[t])"
   ]
  },
  {
   "cell_type": "code",
   "execution_count": 77,
   "id": "d5f3e160-5818-4c21-a07b-2df9c5043310",
   "metadata": {},
   "outputs": [
    {
     "data": {
      "text/latex": [
       "$\\displaystyle \\left[\\begin{matrix}1 & 0 & 0 & a_{0} & -1 & c_{0} & d_{0}\\\\0 & 1 & 0 & -1 & b_{1} & c_{1} & d_{1}\\\\0 & 0 & 1 & a_{2} & b_{2} & c_{2} & -1\\end{matrix}\\right] = \\left[\\begin{matrix}1 & 0 & 0 & 0 & -1 & -1 & 0\\\\0 & 1 & 0 & -1 & - c_{2} - 2 & - c_{2} - 1 & 1\\\\0 & 0 & 1 & 1 & c_{2} + 1 & c_{2} & -1\\end{matrix}\\right]$"
      ],
      "text/plain": [
       "Eq(Matrix([\n",
       "[1, 0, 0, a0, -1, c0, d0],\n",
       "[0, 1, 0, -1, b1, c1, d1],\n",
       "[0, 0, 1, a2, b2, c2, -1]]), Matrix([\n",
       "[1, 0, 0,  0,      -1,      -1,  0],\n",
       "[0, 1, 0, -1, -c2 - 2, -c2 - 1,  1],\n",
       "[0, 0, 1,  1,  c2 + 1,      c2, -1]]))"
      ]
     },
     "metadata": {},
     "output_type": "display_data"
    }
   ],
   "source": [
    "proj = C.proj([4])\n",
    "with sp.evaluate(False):\n",
    "    display(sp.Eq(proj, fans_link[t]))\n",
    "\n",
    "C.subs(a0, 0)\n",
    "C.subs(a2, 1)\n",
    "\n",
    "C.subs(b1, -c2-2)\n",
    "C.subs(b2, c2+1)\n",
    "\n",
    "C.subs(c0, -1)\n",
    "C.subs(c1, -c2-1)\n",
    "\n",
    "C.subs(d0, 0)\n",
    "C.subs(d1, 1)"
   ]
  },
  {
   "cell_type": "code",
   "execution_count": 78,
   "id": "b677bfcc-c071-4dd4-a38d-64af9305048f",
   "metadata": {},
   "outputs": [
    {
     "name": "stdout",
     "output_type": "stream",
     "text": [
      "facet number: 3\n"
     ]
    },
    {
     "data": {
      "text/latex": [
       "$\\displaystyle b_{3} + c_{2} + 1 = -1$"
      ],
      "text/plain": [
       "Eq(b3 + c2 + 1, -1)"
      ]
     },
     "metadata": {},
     "output_type": "display_data"
    }
   ],
   "source": [
    "i=3\n",
    "print('facet number:', i)\n",
    "display(sp.Eq(C.determinants[i], C.orientation[i]))\n",
    "\n",
    "C.subs(b3, -c2-2)"
   ]
  },
  {
   "cell_type": "code",
   "execution_count": 79,
   "id": "68bf0cc8-fe00-4c82-803e-1e9f9dac952b",
   "metadata": {},
   "outputs": [
    {
     "name": "stdout",
     "output_type": "stream",
     "text": [
      "facet number: 4\n"
     ]
    },
    {
     "data": {
      "text/latex": [
       "$\\displaystyle c_{2} d_{3} - c_{2} + d_{3} - 2 = -1$"
      ],
      "text/plain": [
       "Eq(c2*d3 - c2 + d3 - 2, -1)"
      ]
     },
     "metadata": {},
     "output_type": "display_data"
    },
    {
     "data": {
      "text/latex": [
       "$\\displaystyle \\left(c_{2} + 1\\right) \\left(d_{3} - 1\\right) = 0$"
      ],
      "text/plain": [
       "Eq((c2 + 1)*(d3 - 1), 0)"
      ]
     },
     "metadata": {},
     "output_type": "display_data"
    },
    {
     "name": "stdout",
     "output_type": "stream",
     "text": [
      "c2=-1 => type 7\n"
     ]
    }
   ],
   "source": [
    "i=4\n",
    "print('facet number:', i)\n",
    "display(sp.Eq(C.determinants[i], C.orientation[i]))\n",
    "display(sp.Eq((c2+1)*(d3-1), 0))\n",
    "\n",
    "print('c2=-1 => type 7')\n",
    "\n",
    "C.subs(d3, 1)"
   ]
  },
  {
   "cell_type": "code",
   "execution_count": 80,
   "id": "2b2fd756-7aff-4bdf-be0c-1ce0691198ba",
   "metadata": {},
   "outputs": [
    {
     "name": "stdout",
     "output_type": "stream",
     "text": [
      "facet number: 14\n"
     ]
    },
    {
     "data": {
      "text/latex": [
       "$\\displaystyle c_{2} + c_{3} + 1 = 1$"
      ],
      "text/plain": [
       "Eq(c2 + c3 + 1, 1)"
      ]
     },
     "metadata": {},
     "output_type": "display_data"
    }
   ],
   "source": [
    "i=14\n",
    "print('facet number:', i)\n",
    "display(sp.Eq(C.determinants[i], C.orientation[i]))\n",
    "\n",
    "C.subs(c3, -c2)"
   ]
  },
  {
   "cell_type": "code",
   "execution_count": 81,
   "id": "caa51f69-da43-439b-b68b-8f850e303cf2",
   "metadata": {},
   "outputs": [
    {
     "data": {
      "text/latex": [
       "$\\displaystyle \\left[\\begin{matrix}1 & 0 & 0 & 0 & 0 & -1 & -1 & 0\\\\0 & 1 & 0 & 0 & -1 & - c_{2} - 2 & - c_{2} - 1 & 1\\\\0 & 0 & 1 & 0 & 1 & c_{2} + 1 & c_{2} & -1\\\\0 & 0 & 0 & 1 & -1 & - c_{2} - 2 & - c_{2} & 1\\end{matrix}\\right]$"
      ],
      "text/plain": [
       "Matrix([\n",
       "[1, 0, 0, 0,  0,      -1,      -1,  0],\n",
       "[0, 1, 0, 0, -1, -c2 - 2, -c2 - 1,  1],\n",
       "[0, 0, 1, 0,  1,  c2 + 1,      c2, -1],\n",
       "[0, 0, 0, 1, -1, -c2 - 2,     -c2,  1]])"
      ]
     },
     "metadata": {},
     "output_type": "display_data"
    },
    {
     "name": "stdout",
     "output_type": "stream",
     "text": [
      "1\n"
     ]
    }
   ],
   "source": [
    "display(C.char)\n",
    "print(C.is_fangiving)\n",
    "fans.append(C.char)"
   ]
  },
  {
   "cell_type": "markdown",
   "id": "bf22cd5e-7d94-410e-8ad5-07f8b75f8360",
   "metadata": {
    "jp-MarkdownHeadingCollapsed": true
   },
   "source": [
    "# Type 10 of the projection"
   ]
  },
  {
   "cell_type": "code",
   "execution_count": 82,
   "id": "4105a519-84b5-476f-993e-fe4ec0105450",
   "metadata": {},
   "outputs": [
    {
     "data": {
      "text/latex": [
       "$\\displaystyle \\left[\\begin{matrix}1 & 0 & 0 & 0 & -1 & -1 & 0\\\\0 & 1 & 0 & -1 & -1 & -1 & 0\\\\0 & 0 & 1 & c_{2} + 2 & c_{2} + 1 & c_{2} & -1\\end{matrix}\\right]$"
      ],
      "text/plain": [
       "Matrix([\n",
       "[1, 0, 0,      0,     -1, -1,  0],\n",
       "[0, 1, 0,     -1,     -1, -1,  0],\n",
       "[0, 0, 1, c2 + 2, c2 + 1, c2, -1]])"
      ]
     },
     "metadata": {},
     "output_type": "display_data"
    }
   ],
   "source": [
    "C1 = copy.deepcopy(C0)\n",
    "C = C1\n",
    "t=10\n",
    "display(fans_link[t])"
   ]
  },
  {
   "cell_type": "code",
   "execution_count": 83,
   "id": "453e2ce6-fe52-4355-bbbb-ddaa16e9b525",
   "metadata": {},
   "outputs": [
    {
     "data": {
      "text/latex": [
       "$\\displaystyle \\left[\\begin{matrix}1 & 0 & 0 & a_{0} & -1 & c_{0} & d_{0}\\\\0 & 1 & 0 & -1 & b_{1} & c_{1} & d_{1}\\\\0 & 0 & 1 & a_{2} & b_{2} & c_{2} & -1\\end{matrix}\\right] = \\left[\\begin{matrix}1 & 0 & 0 & 0 & -1 & -1 & 0\\\\0 & 1 & 0 & -1 & -1 & -1 & 0\\\\0 & 0 & 1 & c_{2} + 2 & c_{2} + 1 & c_{2} & -1\\end{matrix}\\right]$"
      ],
      "text/plain": [
       "Eq(Matrix([\n",
       "[1, 0, 0, a0, -1, c0, d0],\n",
       "[0, 1, 0, -1, b1, c1, d1],\n",
       "[0, 0, 1, a2, b2, c2, -1]]), Matrix([\n",
       "[1, 0, 0,      0,     -1, -1,  0],\n",
       "[0, 1, 0,     -1,     -1, -1,  0],\n",
       "[0, 0, 1, c2 + 2, c2 + 1, c2, -1]]))"
      ]
     },
     "metadata": {},
     "output_type": "display_data"
    }
   ],
   "source": [
    "proj = C.proj([4])\n",
    "with sp.evaluate(False):\n",
    "    display(sp.Eq(proj, fans_link[t]))\n",
    "\n",
    "C.subs(a0, 0)\n",
    "C.subs(a2, c2+2)\n",
    "\n",
    "C.subs(b1, -1)\n",
    "C.subs(b2, c2+1)\n",
    "\n",
    "C.subs(c0, -1)\n",
    "C.subs(c1, -1)\n",
    "\n",
    "C.subs(d0, 0)\n",
    "C.subs(d1, 0)"
   ]
  },
  {
   "cell_type": "code",
   "execution_count": 84,
   "id": "0f471943-b219-4dae-b963-41ecfba61cc7",
   "metadata": {},
   "outputs": [
    {
     "name": "stdout",
     "output_type": "stream",
     "text": [
      "facet number: 3\n"
     ]
    },
    {
     "data": {
      "text/latex": [
       "$\\displaystyle b_{3} c_{2} + 2 b_{3} + c_{2} + 1 = -1$"
      ],
      "text/plain": [
       "Eq(b3*c2 + 2*b3 + c2 + 1, -1)"
      ]
     },
     "metadata": {},
     "output_type": "display_data"
    },
    {
     "data": {
      "text/latex": [
       "$\\displaystyle \\left(b_{3} + 1\\right) \\left(c_{2} + 2\\right) = 0$"
      ],
      "text/plain": [
       "Eq((b3 + 1)*(c2 + 2), 0)"
      ]
     },
     "metadata": {},
     "output_type": "display_data"
    },
    {
     "name": "stdout",
     "output_type": "stream",
     "text": [
      "c2=-2 => type 5\n"
     ]
    }
   ],
   "source": [
    "i=3\n",
    "print('facet number:', i)\n",
    "display(sp.Eq(C.determinants[i], C.orientation[i]))\n",
    "display(sp.Eq((b3+1)*(c2+2), 0))\n",
    "\n",
    "print('c2=-2 => type 5')\n",
    "\n",
    "C.subs(b3, -1)"
   ]
  },
  {
   "cell_type": "code",
   "execution_count": 85,
   "id": "99b29d4a-430a-45c0-9d7f-09524aa68de3",
   "metadata": {},
   "outputs": [
    {
     "name": "stdout",
     "output_type": "stream",
     "text": [
      "facet number: 4\n"
     ]
    },
    {
     "data": {
      "text/latex": [
       "$\\displaystyle c_{2} d_{3} + d_{3} - 1 = -1$"
      ],
      "text/plain": [
       "Eq(c2*d3 + d3 - 1, -1)"
      ]
     },
     "metadata": {},
     "output_type": "display_data"
    },
    {
     "name": "stdout",
     "output_type": "stream",
     "text": [
      "c2=-1 => type 7\n"
     ]
    }
   ],
   "source": [
    "i=4\n",
    "print('facet number:', i)\n",
    "display(sp.Eq(C.determinants[i], C.orientation[i]))\n",
    "\n",
    "print('c2=-1 => type 7')\n",
    "\n",
    "C.subs(d3, 0)"
   ]
  },
  {
   "cell_type": "code",
   "execution_count": 86,
   "id": "f816ef5d-05c6-4575-bd89-d4d2263e1078",
   "metadata": {},
   "outputs": [
    {
     "name": "stdout",
     "output_type": "stream",
     "text": [
      "facet number: 14\n"
     ]
    },
    {
     "data": {
      "text/latex": [
       "$\\displaystyle c_{3} + 1 = 1$"
      ],
      "text/plain": [
       "Eq(c3 + 1, 1)"
      ]
     },
     "metadata": {},
     "output_type": "display_data"
    }
   ],
   "source": [
    "i=14\n",
    "print('facet number:', i)\n",
    "display(sp.Eq(C.determinants[i], C.orientation[i]))\n",
    "\n",
    "C.subs(c3, 0)"
   ]
  },
  {
   "cell_type": "code",
   "execution_count": 87,
   "id": "07722c9e-ff5e-46f7-a583-d4813fcbc902",
   "metadata": {},
   "outputs": [
    {
     "data": {
      "text/latex": [
       "$\\displaystyle \\left[\\begin{matrix}1 & 0 & 0 & 0 & 0 & -1 & -1 & 0\\\\0 & 1 & 0 & 0 & -1 & -1 & -1 & 0\\\\0 & 0 & 1 & 0 & c_{2} + 2 & c_{2} + 1 & c_{2} & -1\\\\0 & 0 & 0 & 1 & -1 & -1 & 0 & 0\\end{matrix}\\right]$"
      ],
      "text/plain": [
       "Matrix([\n",
       "[1, 0, 0, 0,      0,     -1, -1,  0],\n",
       "[0, 1, 0, 0,     -1,     -1, -1,  0],\n",
       "[0, 0, 1, 0, c2 + 2, c2 + 1, c2, -1],\n",
       "[0, 0, 0, 1,     -1,     -1,  0,  0]])"
      ]
     },
     "metadata": {},
     "output_type": "display_data"
    },
    {
     "name": "stdout",
     "output_type": "stream",
     "text": [
      "1\n"
     ]
    }
   ],
   "source": [
    "display(C.char)\n",
    "print(C.is_fangiving)\n",
    "fans.append(C.char)"
   ]
  },
  {
   "cell_type": "markdown",
   "id": "d0ef4af9-eaa5-4568-92c2-72c5e99f5450",
   "metadata": {
    "jp-MarkdownHeadingCollapsed": true
   },
   "source": [
    "# Type 11 of the projection"
   ]
  },
  {
   "cell_type": "code",
   "execution_count": 88,
   "id": "41b68fef-8447-489f-bf50-a0b48b02bedf",
   "metadata": {},
   "outputs": [
    {
     "data": {
      "text/latex": [
       "$\\displaystyle \\left[\\begin{matrix}1 & 0 & 0 & 0 & -1 & - c_{2} - 1 & 1\\\\0 & 1 & 0 & -1 & -1 & - c_{2} - 1 & 1\\\\0 & 0 & 1 & 2 & 1 & c_{2} & -1\\end{matrix}\\right]$"
      ],
      "text/plain": [
       "Matrix([\n",
       "[1, 0, 0,  0, -1, -c2 - 1,  1],\n",
       "[0, 1, 0, -1, -1, -c2 - 1,  1],\n",
       "[0, 0, 1,  2,  1,      c2, -1]])"
      ]
     },
     "metadata": {},
     "output_type": "display_data"
    }
   ],
   "source": [
    "C1 = copy.deepcopy(C0)\n",
    "C = C1\n",
    "t=11\n",
    "display(fans_link[t])"
   ]
  },
  {
   "cell_type": "code",
   "execution_count": 89,
   "id": "18677f64-68f3-4610-b3a0-79b4914cb6cf",
   "metadata": {},
   "outputs": [
    {
     "data": {
      "text/latex": [
       "$\\displaystyle \\left[\\begin{matrix}1 & 0 & 0 & a_{0} & -1 & c_{0} & d_{0}\\\\0 & 1 & 0 & -1 & b_{1} & c_{1} & d_{1}\\\\0 & 0 & 1 & a_{2} & b_{2} & c_{2} & -1\\end{matrix}\\right] = \\left[\\begin{matrix}1 & 0 & 0 & 0 & -1 & - c_{2} - 1 & 1\\\\0 & 1 & 0 & -1 & -1 & - c_{2} - 1 & 1\\\\0 & 0 & 1 & 2 & 1 & c_{2} & -1\\end{matrix}\\right]$"
      ],
      "text/plain": [
       "Eq(Matrix([\n",
       "[1, 0, 0, a0, -1, c0, d0],\n",
       "[0, 1, 0, -1, b1, c1, d1],\n",
       "[0, 0, 1, a2, b2, c2, -1]]), Matrix([\n",
       "[1, 0, 0,  0, -1, -c2 - 1,  1],\n",
       "[0, 1, 0, -1, -1, -c2 - 1,  1],\n",
       "[0, 0, 1,  2,  1,      c2, -1]]))"
      ]
     },
     "metadata": {},
     "output_type": "display_data"
    }
   ],
   "source": [
    "proj = C.proj([4])\n",
    "with sp.evaluate(False):\n",
    "    display(sp.Eq(proj, fans_link[t]))\n",
    "\n",
    "C.subs(a0, 0)\n",
    "C.subs(a2, 2)\n",
    "\n",
    "C.subs(b1, -1)\n",
    "C.subs(b2, 1)\n",
    "\n",
    "C.subs(c0, -c2-1)\n",
    "C.subs(c1, -c2-1)\n",
    "\n",
    "C.subs(d0, 1)\n",
    "C.subs(d1, 1)"
   ]
  },
  {
   "cell_type": "code",
   "execution_count": 90,
   "id": "2595410b-6a5d-48bc-94ed-6b70ea09d85a",
   "metadata": {},
   "outputs": [
    {
     "name": "stdout",
     "output_type": "stream",
     "text": [
      "facet number: 3\n"
     ]
    },
    {
     "data": {
      "text/latex": [
       "$\\displaystyle 2 b_{3} + 1 = -1$"
      ],
      "text/plain": [
       "Eq(2*b3 + 1, -1)"
      ]
     },
     "metadata": {},
     "output_type": "display_data"
    }
   ],
   "source": [
    "i=3\n",
    "print('facet number:', i)\n",
    "display(sp.Eq(C.determinants[i], C.orientation[i]))\n",
    "\n",
    "C.subs(b3, -1)"
   ]
  },
  {
   "cell_type": "code",
   "execution_count": 91,
   "id": "242b44f7-974c-4280-b304-7bdbebab8d09",
   "metadata": {},
   "outputs": [
    {
     "name": "stdout",
     "output_type": "stream",
     "text": [
      "facet number: 4\n"
     ]
    },
    {
     "data": {
      "text/latex": [
       "$\\displaystyle d_{3} - 1 = -1$"
      ],
      "text/plain": [
       "Eq(d3 - 1, -1)"
      ]
     },
     "metadata": {},
     "output_type": "display_data"
    }
   ],
   "source": [
    "i=4\n",
    "print('facet number:', i)\n",
    "display(sp.Eq(C.determinants[i], C.orientation[i]))\n",
    "\n",
    "C.subs(d3, 0)"
   ]
  },
  {
   "cell_type": "code",
   "execution_count": 92,
   "id": "145a02aa-f16e-40de-b6b4-1cf372d85a00",
   "metadata": {},
   "outputs": [
    {
     "data": {
      "text/latex": [
       "$\\displaystyle \\left[\\begin{matrix}1 & 0 & 0 & 0 & 0 & -1 & - c_{2} - 1 & 1\\\\0 & 1 & 0 & 0 & -1 & -1 & - c_{2} - 1 & 1\\\\0 & 0 & 1 & 0 & 2 & 1 & c_{2} & -1\\\\0 & 0 & 0 & 1 & -1 & -1 & c_{3} & 0\\end{matrix}\\right]$"
      ],
      "text/plain": [
       "Matrix([\n",
       "[1, 0, 0, 0,  0, -1, -c2 - 1,  1],\n",
       "[0, 1, 0, 0, -1, -1, -c2 - 1,  1],\n",
       "[0, 0, 1, 0,  2,  1,      c2, -1],\n",
       "[0, 0, 0, 1, -1, -1,      c3,  0]])"
      ]
     },
     "metadata": {},
     "output_type": "display_data"
    },
    {
     "name": "stdout",
     "output_type": "stream",
     "text": [
      "1\n"
     ]
    }
   ],
   "source": [
    "display(C.char)\n",
    "print(C.is_fangiving)\n",
    "fans.append(C.char)"
   ]
  },
  {
   "cell_type": "markdown",
   "id": "fc785845-ff40-4a07-8f30-5ad94362becd",
   "metadata": {
    "jp-MarkdownHeadingCollapsed": true
   },
   "source": [
    "# Type 12 of the projection"
   ]
  },
  {
   "cell_type": "code",
   "execution_count": 93,
   "id": "491242ec-45dc-4c49-8643-3df584e6f836",
   "metadata": {},
   "outputs": [
    {
     "data": {
      "text/latex": [
       "$\\displaystyle \\left[\\begin{matrix}1 & 0 & 0 & 0 & -1 & 0 & 1\\\\0 & 1 & 0 & -1 & -1 & 0 & 1\\\\0 & 0 & 1 & a_{2} & a_{2} - 1 & -1 & -1\\end{matrix}\\right]$"
      ],
      "text/plain": [
       "Matrix([\n",
       "[1, 0, 0,  0,     -1,  0,  1],\n",
       "[0, 1, 0, -1,     -1,  0,  1],\n",
       "[0, 0, 1, a2, a2 - 1, -1, -1]])"
      ]
     },
     "metadata": {},
     "output_type": "display_data"
    }
   ],
   "source": [
    "C1 = copy.deepcopy(C0)\n",
    "C = C1\n",
    "t=12\n",
    "display(fans_link[t])"
   ]
  },
  {
   "cell_type": "code",
   "execution_count": 94,
   "id": "3cad1bc5-220d-48ab-a727-bd149d416cb0",
   "metadata": {},
   "outputs": [
    {
     "data": {
      "text/latex": [
       "$\\displaystyle \\left[\\begin{matrix}1 & 0 & 0 & a_{0} & -1 & c_{0} & d_{0}\\\\0 & 1 & 0 & -1 & b_{1} & c_{1} & d_{1}\\\\0 & 0 & 1 & a_{2} & b_{2} & c_{2} & -1\\end{matrix}\\right] = \\left[\\begin{matrix}1 & 0 & 0 & 0 & -1 & 0 & 1\\\\0 & 1 & 0 & -1 & -1 & 0 & 1\\\\0 & 0 & 1 & a_{2} & a_{2} - 1 & -1 & -1\\end{matrix}\\right]$"
      ],
      "text/plain": [
       "Eq(Matrix([\n",
       "[1, 0, 0, a0, -1, c0, d0],\n",
       "[0, 1, 0, -1, b1, c1, d1],\n",
       "[0, 0, 1, a2, b2, c2, -1]]), Matrix([\n",
       "[1, 0, 0,  0,     -1,  0,  1],\n",
       "[0, 1, 0, -1,     -1,  0,  1],\n",
       "[0, 0, 1, a2, a2 - 1, -1, -1]]))"
      ]
     },
     "metadata": {},
     "output_type": "display_data"
    }
   ],
   "source": [
    "proj = C.proj([4])\n",
    "with sp.evaluate(False):\n",
    "    display(sp.Eq(proj, fans_link[t]))\n",
    "\n",
    "C.subs(a0, 0)\n",
    "\n",
    "C.subs(b1, -1)\n",
    "C.subs(b2, a2-1)\n",
    "\n",
    "C.subs(c0, 0)\n",
    "C.subs(c1, 0)\n",
    "C.subs(c2, -1)\n",
    "\n",
    "C.subs(d0, 1)\n",
    "C.subs(d1, 1)"
   ]
  },
  {
   "cell_type": "code",
   "execution_count": 95,
   "id": "e4083d77-c04c-49fe-a0f6-956d6724f51d",
   "metadata": {},
   "outputs": [
    {
     "name": "stdout",
     "output_type": "stream",
     "text": [
      "facet number: 3\n"
     ]
    },
    {
     "data": {
      "text/latex": [
       "$\\displaystyle a_{2} b_{3} + a_{2} - 1 = -1$"
      ],
      "text/plain": [
       "Eq(a2*b3 + a2 - 1, -1)"
      ]
     },
     "metadata": {},
     "output_type": "display_data"
    },
    {
     "name": "stdout",
     "output_type": "stream",
     "text": [
      "a2=0 => type 4\n"
     ]
    }
   ],
   "source": [
    "i=3\n",
    "print('facet number:', i)\n",
    "display(sp.Eq(C.determinants[i], C.orientation[i]))\n",
    "\n",
    "print('a2=0 => type 4')\n",
    "\n",
    "C.subs(b3, -1)"
   ]
  },
  {
   "cell_type": "code",
   "execution_count": 96,
   "id": "47144f8b-18df-4742-8e54-78499490cd66",
   "metadata": {},
   "outputs": [
    {
     "name": "stdout",
     "output_type": "stream",
     "text": [
      "facet number: 4\n"
     ]
    },
    {
     "data": {
      "text/latex": [
       "$\\displaystyle a_{2} d_{3} - d_{3} - 1 = -1$"
      ],
      "text/plain": [
       "Eq(a2*d3 - d3 - 1, -1)"
      ]
     },
     "metadata": {},
     "output_type": "display_data"
    },
    {
     "name": "stdout",
     "output_type": "stream",
     "text": [
      "a2=1 => type 7\n"
     ]
    }
   ],
   "source": [
    "i=4\n",
    "print('facet number:', i)\n",
    "display(sp.Eq(C.determinants[i], C.orientation[i]))\n",
    "\n",
    "print('a2=1 => type 7')\n",
    "\n",
    "C.subs(d3, 0)"
   ]
  },
  {
   "cell_type": "code",
   "execution_count": 97,
   "id": "88823b7c-1bb2-40f3-a5a7-ce36db8332cd",
   "metadata": {},
   "outputs": [
    {
     "name": "stdout",
     "output_type": "stream",
     "text": [
      "facet number: 9\n"
     ]
    },
    {
     "data": {
      "text/latex": [
       "$\\displaystyle a_{2} c_{3} - 2 c_{3} - 1 = -1$"
      ],
      "text/plain": [
       "Eq(a2*c3 - 2*c3 - 1, -1)"
      ]
     },
     "metadata": {},
     "output_type": "display_data"
    },
    {
     "name": "stdout",
     "output_type": "stream",
     "text": [
      "a2=2 => type 11\n"
     ]
    }
   ],
   "source": [
    "i=9\n",
    "print('facet number:', i)\n",
    "display(sp.Eq(C.determinants[i], C.orientation[i]))\n",
    "\n",
    "print('a2=2 => type 11')\n",
    "\n",
    "C.subs(c3, 0)"
   ]
  },
  {
   "cell_type": "code",
   "execution_count": 98,
   "id": "5bc13cc5-a8e5-4458-acef-a79b7f932625",
   "metadata": {},
   "outputs": [
    {
     "data": {
      "text/latex": [
       "$\\displaystyle \\left[\\begin{matrix}1 & 0 & 0 & 0 & 0 & -1 & 0 & 1\\\\0 & 1 & 0 & 0 & -1 & -1 & 0 & 1\\\\0 & 0 & 1 & 0 & a_{2} & a_{2} - 1 & -1 & -1\\\\0 & 0 & 0 & 1 & -1 & -1 & 0 & 0\\end{matrix}\\right]$"
      ],
      "text/plain": [
       "Matrix([\n",
       "[1, 0, 0, 0,  0,     -1,  0,  1],\n",
       "[0, 1, 0, 0, -1,     -1,  0,  1],\n",
       "[0, 0, 1, 0, a2, a2 - 1, -1, -1],\n",
       "[0, 0, 0, 1, -1,     -1,  0,  0]])"
      ]
     },
     "metadata": {},
     "output_type": "display_data"
    },
    {
     "name": "stdout",
     "output_type": "stream",
     "text": [
      "1\n"
     ]
    }
   ],
   "source": [
    "display(C.char)\n",
    "print(C.is_fangiving)\n",
    "fans.append(C.char)"
   ]
  },
  {
   "cell_type": "markdown",
   "id": "bf7561c1-163a-423b-9bdc-a76f9b03c800",
   "metadata": {
    "jp-MarkdownHeadingCollapsed": true
   },
   "source": [
    "# There are 13 types of fans up to D-J equivalence"
   ]
  },
  {
   "cell_type": "markdown",
   "id": "852d0f53-bca0-4060-bde6-b7095e95b612",
   "metadata": {
    "jp-MarkdownHeadingCollapsed": true
   },
   "source": [
    "## removing redundant ones"
   ]
  },
  {
   "cell_type": "code",
   "execution_count": 99,
   "id": "8935e6d2-4348-469f-8c97-8ed0f2785502",
   "metadata": {},
   "outputs": [
    {
     "data": {
      "text/latex": [
       "$\\displaystyle \\left[\\begin{matrix}1 & 0 & 0 & 0 & 0 & -1 & 0 & 1\\\\0 & 1 & 0 & 0 & -1 & 0 & 1 & 2\\\\0 & 0 & 1 & 0 & 0 & -1 & -1 & -1\\\\0 & 0 & 0 & 1 & -1 & d_{3} - 1 & d_{3} & d_{3}\\end{matrix}\\right]$"
      ],
      "text/plain": [
       "Matrix([\n",
       "[1, 0, 0, 0,  0,     -1,  0,  1],\n",
       "[0, 1, 0, 0, -1,      0,  1,  2],\n",
       "[0, 0, 1, 0,  0,     -1, -1, -1],\n",
       "[0, 0, 0, 1, -1, d3 - 1, d3, d3]])"
      ]
     },
     "metadata": {},
     "output_type": "display_data"
    },
    {
     "data": {
      "text/latex": [
       "$\\displaystyle \\left[\\begin{matrix}1 & 0 & 0 & 0 & 0 & -1 & 0 & 1\\\\0 & 1 & 0 & 0 & -1 & d_{1} - 2 & d_{1} - 1 & d_{1}\\\\0 & 0 & 1 & 0 & 0 & -1 & -1 & -1\\\\0 & 0 & 0 & 1 & -1 & d_{3} - 1 & d_{3} & d_{3}\\end{matrix}\\right]$"
      ],
      "text/plain": [
       "Matrix([\n",
       "[1, 0, 0, 0,  0,     -1,      0,  1],\n",
       "[0, 1, 0, 0, -1, d1 - 2, d1 - 1, d1],\n",
       "[0, 0, 1, 0,  0,     -1,     -1, -1],\n",
       "[0, 0, 0, 1, -1, d3 - 1,     d3, d3]])"
      ]
     },
     "metadata": {},
     "output_type": "display_data"
    }
   ],
   "source": [
    "display(fans[1], fans[8])\n",
    "fans.remove(fans[1])"
   ]
  },
  {
   "cell_type": "code",
   "execution_count": 100,
   "id": "703a2f24-dfcf-4eab-ab76-f08b49cfb96c",
   "metadata": {},
   "outputs": [
    {
     "data": {
      "text/latex": [
       "$\\displaystyle \\left[\\begin{matrix}1 & 0 & 0 & 0 & 0 & -1 & -1 & 0\\\\0 & 1 & 0 & 0 & -1 & 0 & 1 & 1\\\\0 & 0 & 1 & 0 & 0 & -1 & -2 & -1\\\\0 & 0 & 0 & 1 & -1 & d_{3} - 1 & 2 d_{3} & d_{3}\\end{matrix}\\right]$"
      ],
      "text/plain": [
       "Matrix([\n",
       "[1, 0, 0, 0,  0,     -1,   -1,  0],\n",
       "[0, 1, 0, 0, -1,      0,    1,  1],\n",
       "[0, 0, 1, 0,  0,     -1,   -2, -1],\n",
       "[0, 0, 0, 1, -1, d3 - 1, 2*d3, d3]])"
      ]
     },
     "metadata": {},
     "output_type": "display_data"
    },
    {
     "data": {
      "text/latex": [
       "$\\displaystyle \\left[\\begin{matrix}1 & 0 & 0 & 0 & 0 & -1 & -1 & 0\\\\0 & 1 & 0 & 0 & -1 & d_{1} - 1 & 2 d_{1} - 1 & d_{1}\\\\0 & 0 & 1 & 0 & 0 & -1 & -2 & -1\\\\0 & 0 & 0 & 1 & -1 & d_{3} - 1 & 2 d_{3} & d_{3}\\end{matrix}\\right]$"
      ],
      "text/plain": [
       "Matrix([\n",
       "[1, 0, 0, 0,  0,     -1,       -1,  0],\n",
       "[0, 1, 0, 0, -1, d1 - 1, 2*d1 - 1, d1],\n",
       "[0, 0, 1, 0,  0,     -1,       -2, -1],\n",
       "[0, 0, 0, 1, -1, d3 - 1,     2*d3, d3]])"
      ]
     },
     "metadata": {},
     "output_type": "display_data"
    }
   ],
   "source": [
    "display(fans[2], fans[8])\n",
    "fans.remove(fans[2])"
   ]
  },
  {
   "cell_type": "code",
   "execution_count": 101,
   "id": "f4c4ca77-c2b4-4363-a727-059425b375c4",
   "metadata": {},
   "outputs": [
    {
     "data": {
      "text/latex": [
       "$\\displaystyle \\left[\\begin{matrix}1 & 0 & 0 & 0 & 0 & -1 & -1 & 1\\\\0 & 1 & 0 & 0 & -1 & -2 & -1 & 2\\\\0 & 0 & 1 & 0 & 1 & 1 & 0 & -1\\\\0 & 0 & 0 & 1 & -1 & -2 & c_{3} & 1\\end{matrix}\\right]$"
      ],
      "text/plain": [
       "Matrix([\n",
       "[1, 0, 0, 0,  0, -1, -1,  1],\n",
       "[0, 1, 0, 0, -1, -2, -1,  2],\n",
       "[0, 0, 1, 0,  1,  1,  0, -1],\n",
       "[0, 0, 0, 1, -1, -2, c3,  1]])"
      ]
     },
     "metadata": {},
     "output_type": "display_data"
    },
    {
     "data": {
      "text/latex": [
       "$\\displaystyle \\left[\\begin{matrix}1 & 0 & 0 & 0 & 0 & -1 & - c_{2} - 1 & 1\\\\0 & 1 & 0 & 0 & -1 & -2 & - 2 c_{2} - 1 & 2\\\\0 & 0 & 1 & 0 & 1 & 1 & c_{2} & -1\\\\0 & 0 & 0 & 1 & -1 & -2 & c_{3} & 1\\end{matrix}\\right]$"
      ],
      "text/plain": [
       "Matrix([\n",
       "[1, 0, 0, 0,  0, -1,   -c2 - 1,  1],\n",
       "[0, 1, 0, 0, -1, -2, -2*c2 - 1,  2],\n",
       "[0, 0, 1, 0,  1,  1,        c2, -1],\n",
       "[0, 0, 0, 1, -1, -2,        c3,  1]])"
      ]
     },
     "metadata": {},
     "output_type": "display_data"
    }
   ],
   "source": [
    "display(fans[3], fans[8])\n",
    "fans.remove(fans[3])"
   ]
  },
  {
   "cell_type": "code",
   "execution_count": 102,
   "id": "18c4b337-56b3-40dd-9650-d1ea4b8dbcba",
   "metadata": {},
   "outputs": [
    {
     "data": {
      "text/latex": [
       "$\\displaystyle \\left[\\begin{matrix}1 & 0 & 0 & 0 & 0 & -1 & -1 & 1\\\\0 & 1 & 0 & 0 & -1 & -1 & -1 & 1\\\\0 & 0 & 1 & 0 & 2 & 1 & 0 & -1\\\\0 & 0 & 0 & 1 & -1 & -1 & c_{3} & 0\\end{matrix}\\right]$"
      ],
      "text/plain": [
       "Matrix([\n",
       "[1, 0, 0, 0,  0, -1, -1,  1],\n",
       "[0, 1, 0, 0, -1, -1, -1,  1],\n",
       "[0, 0, 1, 0,  2,  1,  0, -1],\n",
       "[0, 0, 0, 1, -1, -1, c3,  0]])"
      ]
     },
     "metadata": {},
     "output_type": "display_data"
    },
    {
     "data": {
      "text/latex": [
       "$\\displaystyle \\left[\\begin{matrix}1 & 0 & 0 & 0 & 0 & -1 & - c_{2} - 1 & 1\\\\0 & 1 & 0 & 0 & -1 & -1 & - c_{2} - 1 & 1\\\\0 & 0 & 1 & 0 & 2 & 1 & c_{2} & -1\\\\0 & 0 & 0 & 1 & -1 & -1 & c_{3} & 0\\end{matrix}\\right]$"
      ],
      "text/plain": [
       "Matrix([\n",
       "[1, 0, 0, 0,  0, -1, -c2 - 1,  1],\n",
       "[0, 1, 0, 0, -1, -1, -c2 - 1,  1],\n",
       "[0, 0, 1, 0,  2,  1,      c2, -1],\n",
       "[0, 0, 0, 1, -1, -1,      c3,  0]])"
      ]
     },
     "metadata": {},
     "output_type": "display_data"
    }
   ],
   "source": [
    "display(fans[4], fans[12])\n",
    "fans.remove(fans[4])"
   ]
  },
  {
   "cell_type": "markdown",
   "id": "87d61edf-51cf-471c-8794-7ff3d72c1894",
   "metadata": {
    "jp-MarkdownHeadingCollapsed": true
   },
   "source": [
    "## list"
   ]
  },
  {
   "cell_type": "code",
   "execution_count": 103,
   "id": "539f1ea7-0d3e-44d2-be5e-ef16220ed5d4",
   "metadata": {},
   "outputs": [
    {
     "data": {
      "text/plain": [
       "13"
      ]
     },
     "execution_count": 103,
     "metadata": {},
     "output_type": "execute_result"
    }
   ],
   "source": [
    "len(fans)"
   ]
  },
  {
   "cell_type": "code",
   "execution_count": 104,
   "id": "61ed0df6-8b13-4ad0-a576-b3a586f86e25",
   "metadata": {},
   "outputs": [
    {
     "data": {
      "text/latex": [
       "$\\displaystyle \\left[\\begin{matrix}1 & 0 & 0 & 0 & a_{0} & -1 & 0 & 1\\\\0 & 1 & 0 & 0 & -1 & 0 & 1 & 2\\\\0 & 0 & 1 & 0 & a_{2} & -1 & -1 & -1\\\\0 & 0 & 0 & 1 & -1 & 0 & 1 & 1\\end{matrix}\\right]$"
      ],
      "text/plain": [
       "Matrix([\n",
       "[1, 0, 0, 0, a0, -1,  0,  1],\n",
       "[0, 1, 0, 0, -1,  0,  1,  2],\n",
       "[0, 0, 1, 0, a2, -1, -1, -1],\n",
       "[0, 0, 0, 1, -1,  0,  1,  1]])"
      ]
     },
     "metadata": {},
     "output_type": "display_data"
    },
    {
     "data": {
      "text/latex": [
       "$\\displaystyle \\left[\\begin{matrix}1 & 0 & 0 & 0 & a_{0} & -1 & -1 & 0\\\\0 & 1 & 0 & 0 & -1 & 0 & 1 & 1\\\\0 & 0 & 1 & 0 & a_{2} & -1 & -2 & -1\\\\0 & 0 & 0 & 1 & -1 & 0 & 2 & 1\\end{matrix}\\right]$"
      ],
      "text/plain": [
       "Matrix([\n",
       "[1, 0, 0, 0, a0, -1, -1,  0],\n",
       "[0, 1, 0, 0, -1,  0,  1,  1],\n",
       "[0, 0, 1, 0, a2, -1, -2, -1],\n",
       "[0, 0, 0, 1, -1,  0,  2,  1]])"
      ]
     },
     "metadata": {},
     "output_type": "display_data"
    },
    {
     "data": {
      "text/latex": [
       "$\\displaystyle \\left[\\begin{matrix}1 & 0 & 0 & 0 & 0 & -1 & -1 & d_{0}\\\\0 & 1 & 0 & 0 & -1 & -2 & -1 & d_{1}\\\\0 & 0 & 1 & 0 & 1 & 1 & 0 & -1\\\\0 & 0 & 0 & 1 & -1 & -2 & 0 & 1\\end{matrix}\\right]$"
      ],
      "text/plain": [
       "Matrix([\n",
       "[1, 0, 0, 0,  0, -1, -1, d0],\n",
       "[0, 1, 0, 0, -1, -2, -1, d1],\n",
       "[0, 0, 1, 0,  1,  1,  0, -1],\n",
       "[0, 0, 0, 1, -1, -2,  0,  1]])"
      ]
     },
     "metadata": {},
     "output_type": "display_data"
    },
    {
     "data": {
      "text/latex": [
       "$\\displaystyle \\left[\\begin{matrix}1 & 0 & 0 & 0 & 0 & -1 & -1 & d_{0}\\\\0 & 1 & 0 & 0 & -1 & -1 & -1 & d_{1}\\\\0 & 0 & 1 & 0 & 2 & 1 & 0 & -1\\\\0 & 0 & 0 & 1 & -1 & -1 & 0 & 0\\end{matrix}\\right]$"
      ],
      "text/plain": [
       "Matrix([\n",
       "[1, 0, 0, 0,  0, -1, -1, d0],\n",
       "[0, 1, 0, 0, -1, -1, -1, d1],\n",
       "[0, 0, 1, 0,  2,  1,  0, -1],\n",
       "[0, 0, 0, 1, -1, -1,  0,  0]])"
      ]
     },
     "metadata": {},
     "output_type": "display_data"
    },
    {
     "data": {
      "text/latex": [
       "$\\displaystyle \\left[\\begin{matrix}1 & 0 & 0 & 0 & 0 & -1 & 0 & 1\\\\0 & 1 & 0 & 0 & -1 & d_{1} - 2 & d_{1} - 1 & d_{1}\\\\0 & 0 & 1 & 0 & 0 & -1 & -1 & -1\\\\0 & 0 & 0 & 1 & -1 & d_{3} - 1 & d_{3} & d_{3}\\end{matrix}\\right]$"
      ],
      "text/plain": [
       "Matrix([\n",
       "[1, 0, 0, 0,  0,     -1,      0,  1],\n",
       "[0, 1, 0, 0, -1, d1 - 2, d1 - 1, d1],\n",
       "[0, 0, 1, 0,  0,     -1,     -1, -1],\n",
       "[0, 0, 0, 1, -1, d3 - 1,     d3, d3]])"
      ]
     },
     "metadata": {},
     "output_type": "display_data"
    },
    {
     "data": {
      "text/latex": [
       "$\\displaystyle \\left[\\begin{matrix}1 & 0 & 0 & 0 & 0 & -1 & -1 & 0\\\\0 & 1 & 0 & 0 & -1 & d_{1} - 1 & 2 d_{1} - 1 & d_{1}\\\\0 & 0 & 1 & 0 & 0 & -1 & -2 & -1\\\\0 & 0 & 0 & 1 & -1 & d_{3} - 1 & 2 d_{3} & d_{3}\\end{matrix}\\right]$"
      ],
      "text/plain": [
       "Matrix([\n",
       "[1, 0, 0, 0,  0,     -1,       -1,  0],\n",
       "[0, 1, 0, 0, -1, d1 - 1, 2*d1 - 1, d1],\n",
       "[0, 0, 1, 0,  0,     -1,       -2, -1],\n",
       "[0, 0, 0, 1, -1, d3 - 1,     2*d3, d3]])"
      ]
     },
     "metadata": {},
     "output_type": "display_data"
    },
    {
     "data": {
      "text/latex": [
       "$\\displaystyle \\left[\\begin{matrix}1 & 0 & 0 & 0 & 0 & -1 & - c_{2} - 1 & 1\\\\0 & 1 & 0 & 0 & -1 & -2 & - 2 c_{2} - 1 & 2\\\\0 & 0 & 1 & 0 & 1 & 1 & c_{2} & -1\\\\0 & 0 & 0 & 1 & -1 & -2 & c_{3} & 1\\end{matrix}\\right]$"
      ],
      "text/plain": [
       "Matrix([\n",
       "[1, 0, 0, 0,  0, -1,   -c2 - 1,  1],\n",
       "[0, 1, 0, 0, -1, -2, -2*c2 - 1,  2],\n",
       "[0, 0, 1, 0,  1,  1,        c2, -1],\n",
       "[0, 0, 0, 1, -1, -2,        c3,  1]])"
      ]
     },
     "metadata": {},
     "output_type": "display_data"
    },
    {
     "data": {
      "text/latex": [
       "$\\displaystyle \\left[\\begin{matrix}1 & 0 & 0 & 0 & 0 & -1 & d_{0} - 1 & d_{0}\\\\0 & 1 & 0 & 0 & -1 & -1 & d_{1} - 1 & d_{1}\\\\0 & 0 & 1 & 0 & 1 & 0 & -1 & -1\\\\0 & 0 & 0 & 1 & -1 & -1 & d_{3} & d_{3}\\end{matrix}\\right]$"
      ],
      "text/plain": [
       "Matrix([\n",
       "[1, 0, 0, 0,  0, -1, d0 - 1, d0],\n",
       "[0, 1, 0, 0, -1, -1, d1 - 1, d1],\n",
       "[0, 0, 1, 0,  1,  0,     -1, -1],\n",
       "[0, 0, 0, 1, -1, -1,     d3, d3]])"
      ]
     },
     "metadata": {},
     "output_type": "display_data"
    },
    {
     "data": {
      "text/latex": [
       "$\\displaystyle \\left[\\begin{matrix}1 & 0 & 0 & 0 & 0 & -1 & 0 & 1\\\\0 & 1 & 0 & 0 & -1 & b_{1} & 1 & 2\\\\0 & 0 & 1 & 0 & 1 & - b_{1} - 1 & -1 & -1\\\\0 & 0 & 0 & 1 & -1 & b_{1} & 1 & 1\\end{matrix}\\right]$"
      ],
      "text/plain": [
       "Matrix([\n",
       "[1, 0, 0, 0,  0,      -1,  0,  1],\n",
       "[0, 1, 0, 0, -1,      b1,  1,  2],\n",
       "[0, 0, 1, 0,  1, -b1 - 1, -1, -1],\n",
       "[0, 0, 0, 1, -1,      b1,  1,  1]])"
      ]
     },
     "metadata": {},
     "output_type": "display_data"
    },
    {
     "data": {
      "text/latex": [
       "$\\displaystyle \\left[\\begin{matrix}1 & 0 & 0 & 0 & 0 & -1 & -1 & 0\\\\0 & 1 & 0 & 0 & -1 & - c_{2} - 2 & - c_{2} - 1 & 1\\\\0 & 0 & 1 & 0 & 1 & c_{2} + 1 & c_{2} & -1\\\\0 & 0 & 0 & 1 & -1 & - c_{2} - 2 & - c_{2} & 1\\end{matrix}\\right]$"
      ],
      "text/plain": [
       "Matrix([\n",
       "[1, 0, 0, 0,  0,      -1,      -1,  0],\n",
       "[0, 1, 0, 0, -1, -c2 - 2, -c2 - 1,  1],\n",
       "[0, 0, 1, 0,  1,  c2 + 1,      c2, -1],\n",
       "[0, 0, 0, 1, -1, -c2 - 2,     -c2,  1]])"
      ]
     },
     "metadata": {},
     "output_type": "display_data"
    },
    {
     "data": {
      "text/latex": [
       "$\\displaystyle \\left[\\begin{matrix}1 & 0 & 0 & 0 & 0 & -1 & -1 & 0\\\\0 & 1 & 0 & 0 & -1 & -1 & -1 & 0\\\\0 & 0 & 1 & 0 & c_{2} + 2 & c_{2} + 1 & c_{2} & -1\\\\0 & 0 & 0 & 1 & -1 & -1 & 0 & 0\\end{matrix}\\right]$"
      ],
      "text/plain": [
       "Matrix([\n",
       "[1, 0, 0, 0,      0,     -1, -1,  0],\n",
       "[0, 1, 0, 0,     -1,     -1, -1,  0],\n",
       "[0, 0, 1, 0, c2 + 2, c2 + 1, c2, -1],\n",
       "[0, 0, 0, 1,     -1,     -1,  0,  0]])"
      ]
     },
     "metadata": {},
     "output_type": "display_data"
    },
    {
     "data": {
      "text/latex": [
       "$\\displaystyle \\left[\\begin{matrix}1 & 0 & 0 & 0 & 0 & -1 & - c_{2} - 1 & 1\\\\0 & 1 & 0 & 0 & -1 & -1 & - c_{2} - 1 & 1\\\\0 & 0 & 1 & 0 & 2 & 1 & c_{2} & -1\\\\0 & 0 & 0 & 1 & -1 & -1 & c_{3} & 0\\end{matrix}\\right]$"
      ],
      "text/plain": [
       "Matrix([\n",
       "[1, 0, 0, 0,  0, -1, -c2 - 1,  1],\n",
       "[0, 1, 0, 0, -1, -1, -c2 - 1,  1],\n",
       "[0, 0, 1, 0,  2,  1,      c2, -1],\n",
       "[0, 0, 0, 1, -1, -1,      c3,  0]])"
      ]
     },
     "metadata": {},
     "output_type": "display_data"
    },
    {
     "data": {
      "text/latex": [
       "$\\displaystyle \\left[\\begin{matrix}1 & 0 & 0 & 0 & 0 & -1 & 0 & 1\\\\0 & 1 & 0 & 0 & -1 & -1 & 0 & 1\\\\0 & 0 & 1 & 0 & a_{2} & a_{2} - 1 & -1 & -1\\\\0 & 0 & 0 & 1 & -1 & -1 & 0 & 0\\end{matrix}\\right]$"
      ],
      "text/plain": [
       "Matrix([\n",
       "[1, 0, 0, 0,  0,     -1,  0,  1],\n",
       "[0, 1, 0, 0, -1,     -1,  0,  1],\n",
       "[0, 0, 1, 0, a2, a2 - 1, -1, -1],\n",
       "[0, 0, 0, 1, -1,     -1,  0,  0]])"
      ]
     },
     "metadata": {},
     "output_type": "display_data"
    }
   ],
   "source": [
    "for f in fans:\n",
    "    display(f)"
   ]
  },
  {
   "cell_type": "markdown",
   "id": "aa5e7a98-d867-4909-925d-16bd51aabe20",
   "metadata": {
    "jp-MarkdownHeadingCollapsed": true
   },
   "source": [
    "# Connections between types"
   ]
  },
  {
   "cell_type": "markdown",
   "id": "1aadaa00-cd49-40bf-aba8-948f0447c57d",
   "metadata": {
    "jp-MarkdownHeadingCollapsed": true
   },
   "source": [
    "## fan 0"
   ]
  },
  {
   "cell_type": "markdown",
   "id": "bcd2cffd-32e9-4081-882e-9a575bcbf210",
   "metadata": {
    "jp-MarkdownHeadingCollapsed": true
   },
   "source": [
    "### fan 4 ($a_0=0$, $a_2=0$, $d_1=2$, $d_3=1$)"
   ]
  },
  {
   "cell_type": "code",
   "execution_count": 105,
   "id": "e324fea6-a971-4c8a-8094-83a1f70c79d0",
   "metadata": {},
   "outputs": [
    {
     "data": {
      "text/latex": [
       "$\\displaystyle \\left[\\begin{matrix}1 & 0 & 0 & 0 & a_{0} & -1 & 0 & 1\\\\0 & 1 & 0 & 0 & -1 & 0 & 1 & 2\\\\0 & 0 & 1 & 0 & a_{2} & -1 & -1 & -1\\\\0 & 0 & 0 & 1 & -1 & 0 & 1 & 1\\end{matrix}\\right] = \\left[\\begin{matrix}1 & 0 & 0 & 0 & 0 & -1 & 0 & 1\\\\0 & 1 & 0 & 0 & -1 & d_{1} - 2 & d_{1} - 1 & d_{1}\\\\0 & 0 & 1 & 0 & 0 & -1 & -1 & -1\\\\0 & 0 & 0 & 1 & -1 & d_{3} - 1 & d_{3} & d_{3}\\end{matrix}\\right]$"
      ],
      "text/plain": [
       "Eq(Matrix([\n",
       "[1, 0, 0, 0, a0, -1,  0,  1],\n",
       "[0, 1, 0, 0, -1,  0,  1,  2],\n",
       "[0, 0, 1, 0, a2, -1, -1, -1],\n",
       "[0, 0, 0, 1, -1,  0,  1,  1]]), Matrix([\n",
       "[1, 0, 0, 0,  0,     -1,      0,  1],\n",
       "[0, 1, 0, 0, -1, d1 - 2, d1 - 1, d1],\n",
       "[0, 0, 1, 0,  0,     -1,     -1, -1],\n",
       "[0, 0, 0, 1, -1, d3 - 1,     d3, d3]]))"
      ]
     },
     "metadata": {},
     "output_type": "display_data"
    },
    {
     "data": {
      "text/latex": [
       "$\\displaystyle \\text{True}$"
      ],
      "text/plain": [
       "True"
      ]
     },
     "execution_count": 105,
     "metadata": {},
     "output_type": "execute_result"
    }
   ],
   "source": [
    "i, j = 0, 4\n",
    "display(sp.Eq(fans[i], fans[j], evaluate=False))\n",
    "sp.Eq(fans[i].subs(a0,0).subs(a2,0), fans[j].subs(d1,2).subs(d3,1))"
   ]
  },
  {
   "cell_type": "markdown",
   "id": "3d30ce14-db7a-44c2-9895-a197cca2efad",
   "metadata": {
    "jp-MarkdownHeadingCollapsed": true
   },
   "source": [
    "### fan 8 ($a_0=0$, $a_2=1$, $b_1=0$)"
   ]
  },
  {
   "cell_type": "code",
   "execution_count": 106,
   "id": "3d741550-218f-4bcd-a642-3a5e9b9eecea",
   "metadata": {},
   "outputs": [
    {
     "data": {
      "text/latex": [
       "$\\displaystyle \\left[\\begin{matrix}1 & 0 & 0 & 0 & a_{0} & -1 & 0 & 1\\\\0 & 1 & 0 & 0 & -1 & 0 & 1 & 2\\\\0 & 0 & 1 & 0 & a_{2} & -1 & -1 & -1\\\\0 & 0 & 0 & 1 & -1 & 0 & 1 & 1\\end{matrix}\\right] = \\left[\\begin{matrix}1 & 0 & 0 & 0 & 0 & -1 & 0 & 1\\\\0 & 1 & 0 & 0 & -1 & b_{1} & 1 & 2\\\\0 & 0 & 1 & 0 & 1 & - b_{1} - 1 & -1 & -1\\\\0 & 0 & 0 & 1 & -1 & b_{1} & 1 & 1\\end{matrix}\\right]$"
      ],
      "text/plain": [
       "Eq(Matrix([\n",
       "[1, 0, 0, 0, a0, -1,  0,  1],\n",
       "[0, 1, 0, 0, -1,  0,  1,  2],\n",
       "[0, 0, 1, 0, a2, -1, -1, -1],\n",
       "[0, 0, 0, 1, -1,  0,  1,  1]]), Matrix([\n",
       "[1, 0, 0, 0,  0,      -1,  0,  1],\n",
       "[0, 1, 0, 0, -1,      b1,  1,  2],\n",
       "[0, 0, 1, 0,  1, -b1 - 1, -1, -1],\n",
       "[0, 0, 0, 1, -1,      b1,  1,  1]]))"
      ]
     },
     "metadata": {},
     "output_type": "display_data"
    },
    {
     "data": {
      "text/latex": [
       "$\\displaystyle \\text{True}$"
      ],
      "text/plain": [
       "True"
      ]
     },
     "execution_count": 106,
     "metadata": {},
     "output_type": "execute_result"
    }
   ],
   "source": [
    "i, j = 0, 8\n",
    "display(sp.Eq(fans[i], fans[j], evaluate=False))\n",
    "sp.Eq(fans[i].subs(a0,0).subs(a2,1), fans[j].subs(b1,0))"
   ]
  },
  {
   "cell_type": "markdown",
   "id": "cad87c6d-225f-4a21-8446-85409aa01bb4",
   "metadata": {
    "jp-MarkdownHeadingCollapsed": true
   },
   "source": [
    "## fan 1"
   ]
  },
  {
   "cell_type": "markdown",
   "id": "2c76c0e7-af00-46b6-badc-868617375d51",
   "metadata": {
    "jp-MarkdownHeadingCollapsed": true
   },
   "source": [
    "### fan 5 ($a_0=0$, $a_2=0$, $d_1=1$, $d_3=1$)"
   ]
  },
  {
   "cell_type": "code",
   "execution_count": 107,
   "id": "c4231e1c-519e-48b7-b458-03087a782b98",
   "metadata": {},
   "outputs": [
    {
     "data": {
      "text/latex": [
       "$\\displaystyle \\left[\\begin{matrix}1 & 0 & 0 & 0 & a_{0} & -1 & -1 & 0\\\\0 & 1 & 0 & 0 & -1 & 0 & 1 & 1\\\\0 & 0 & 1 & 0 & a_{2} & -1 & -2 & -1\\\\0 & 0 & 0 & 1 & -1 & 0 & 2 & 1\\end{matrix}\\right] = \\left[\\begin{matrix}1 & 0 & 0 & 0 & 0 & -1 & -1 & 0\\\\0 & 1 & 0 & 0 & -1 & d_{1} - 1 & 2 d_{1} - 1 & d_{1}\\\\0 & 0 & 1 & 0 & 0 & -1 & -2 & -1\\\\0 & 0 & 0 & 1 & -1 & d_{3} - 1 & 2 d_{3} & d_{3}\\end{matrix}\\right]$"
      ],
      "text/plain": [
       "Eq(Matrix([\n",
       "[1, 0, 0, 0, a0, -1, -1,  0],\n",
       "[0, 1, 0, 0, -1,  0,  1,  1],\n",
       "[0, 0, 1, 0, a2, -1, -2, -1],\n",
       "[0, 0, 0, 1, -1,  0,  2,  1]]), Matrix([\n",
       "[1, 0, 0, 0,  0,     -1,       -1,  0],\n",
       "[0, 1, 0, 0, -1, d1 - 1, 2*d1 - 1, d1],\n",
       "[0, 0, 1, 0,  0,     -1,       -2, -1],\n",
       "[0, 0, 0, 1, -1, d3 - 1,     2*d3, d3]]))"
      ]
     },
     "metadata": {},
     "output_type": "display_data"
    },
    {
     "data": {
      "text/latex": [
       "$\\displaystyle \\text{True}$"
      ],
      "text/plain": [
       "True"
      ]
     },
     "execution_count": 107,
     "metadata": {},
     "output_type": "execute_result"
    }
   ],
   "source": [
    "i, j = 1, 5\n",
    "display(sp.Eq(fans[i], fans[j], evaluate=False))\n",
    "sp.Eq(fans[i].subs(a0,0).subs(a2,0), fans[j].subs(d1,1).subs(d3,1))"
   ]
  },
  {
   "cell_type": "markdown",
   "id": "376dcc55-c5a5-4ad3-b88e-59dbe5d07832",
   "metadata": {
    "jp-MarkdownHeadingCollapsed": true
   },
   "source": [
    "### fan 9 ($a_0=0$, $a_2=1$, $c_2=-2$)"
   ]
  },
  {
   "cell_type": "code",
   "execution_count": 108,
   "id": "0bf519fe-e5f4-4d05-ba58-c1c92cbcd8d5",
   "metadata": {},
   "outputs": [
    {
     "data": {
      "text/latex": [
       "$\\displaystyle \\left[\\begin{matrix}1 & 0 & 0 & 0 & a_{0} & -1 & -1 & 0\\\\0 & 1 & 0 & 0 & -1 & 0 & 1 & 1\\\\0 & 0 & 1 & 0 & a_{2} & -1 & -2 & -1\\\\0 & 0 & 0 & 1 & -1 & 0 & 2 & 1\\end{matrix}\\right] = \\left[\\begin{matrix}1 & 0 & 0 & 0 & 0 & -1 & -1 & 0\\\\0 & 1 & 0 & 0 & -1 & - c_{2} - 2 & - c_{2} - 1 & 1\\\\0 & 0 & 1 & 0 & 1 & c_{2} + 1 & c_{2} & -1\\\\0 & 0 & 0 & 1 & -1 & - c_{2} - 2 & - c_{2} & 1\\end{matrix}\\right]$"
      ],
      "text/plain": [
       "Eq(Matrix([\n",
       "[1, 0, 0, 0, a0, -1, -1,  0],\n",
       "[0, 1, 0, 0, -1,  0,  1,  1],\n",
       "[0, 0, 1, 0, a2, -1, -2, -1],\n",
       "[0, 0, 0, 1, -1,  0,  2,  1]]), Matrix([\n",
       "[1, 0, 0, 0,  0,      -1,      -1,  0],\n",
       "[0, 1, 0, 0, -1, -c2 - 2, -c2 - 1,  1],\n",
       "[0, 0, 1, 0,  1,  c2 + 1,      c2, -1],\n",
       "[0, 0, 0, 1, -1, -c2 - 2,     -c2,  1]]))"
      ]
     },
     "metadata": {},
     "output_type": "display_data"
    },
    {
     "data": {
      "text/latex": [
       "$\\displaystyle \\text{True}$"
      ],
      "text/plain": [
       "True"
      ]
     },
     "execution_count": 108,
     "metadata": {},
     "output_type": "execute_result"
    }
   ],
   "source": [
    "i, j = 1, 9\n",
    "display(sp.Eq(fans[i], fans[j], evaluate=False))\n",
    "sp.Eq(fans[i].subs(a0,0).subs(a2,1), fans[j].subs(c2,-2))"
   ]
  },
  {
   "cell_type": "markdown",
   "id": "0fbae3d1-e196-4e7e-a5e5-257e928f20c3",
   "metadata": {
    "jp-MarkdownHeadingCollapsed": true
   },
   "source": [
    "## fan 2"
   ]
  },
  {
   "cell_type": "markdown",
   "id": "cabd7f6d-4e38-458b-b92d-456dee029279",
   "metadata": {
    "jp-MarkdownHeadingCollapsed": true
   },
   "source": [
    "### fan 6 ($c_2=0$, $c_3=0$, $d_0=1$, $d_1=2$)"
   ]
  },
  {
   "cell_type": "code",
   "execution_count": 109,
   "id": "c4641774-0a16-4aac-9b3c-61f9799c4b2e",
   "metadata": {},
   "outputs": [
    {
     "data": {
      "text/latex": [
       "$\\displaystyle \\left[\\begin{matrix}1 & 0 & 0 & 0 & 0 & -1 & -1 & d_{0}\\\\0 & 1 & 0 & 0 & -1 & -2 & -1 & d_{1}\\\\0 & 0 & 1 & 0 & 1 & 1 & 0 & -1\\\\0 & 0 & 0 & 1 & -1 & -2 & 0 & 1\\end{matrix}\\right] = \\left[\\begin{matrix}1 & 0 & 0 & 0 & 0 & -1 & - c_{2} - 1 & 1\\\\0 & 1 & 0 & 0 & -1 & -2 & - 2 c_{2} - 1 & 2\\\\0 & 0 & 1 & 0 & 1 & 1 & c_{2} & -1\\\\0 & 0 & 0 & 1 & -1 & -2 & c_{3} & 1\\end{matrix}\\right]$"
      ],
      "text/plain": [
       "Eq(Matrix([\n",
       "[1, 0, 0, 0,  0, -1, -1, d0],\n",
       "[0, 1, 0, 0, -1, -2, -1, d1],\n",
       "[0, 0, 1, 0,  1,  1,  0, -1],\n",
       "[0, 0, 0, 1, -1, -2,  0,  1]]), Matrix([\n",
       "[1, 0, 0, 0,  0, -1,   -c2 - 1,  1],\n",
       "[0, 1, 0, 0, -1, -2, -2*c2 - 1,  2],\n",
       "[0, 0, 1, 0,  1,  1,        c2, -1],\n",
       "[0, 0, 0, 1, -1, -2,        c3,  1]]))"
      ]
     },
     "metadata": {},
     "output_type": "display_data"
    },
    {
     "data": {
      "text/latex": [
       "$\\displaystyle \\text{True}$"
      ],
      "text/plain": [
       "True"
      ]
     },
     "execution_count": 109,
     "metadata": {},
     "output_type": "execute_result"
    }
   ],
   "source": [
    "i, j = 2, 6\n",
    "display(sp.Eq(fans[i], fans[j], evaluate=False))\n",
    "sp.Eq(fans[i].subs(d0,1).subs(d1,2), fans[j].subs(c2,0).subs(c3,0))"
   ]
  },
  {
   "cell_type": "markdown",
   "id": "13b8448e-5299-4186-a547-3bdcf5d472b5",
   "metadata": {
    "jp-MarkdownHeadingCollapsed": true
   },
   "source": [
    "### fan 9 ($c_2=0$, $d_0=0$, $d_1=1$)"
   ]
  },
  {
   "cell_type": "code",
   "execution_count": 110,
   "id": "5ee6de0c-f8ef-4d04-a85d-018ffa662b82",
   "metadata": {},
   "outputs": [
    {
     "data": {
      "text/latex": [
       "$\\displaystyle \\left[\\begin{matrix}1 & 0 & 0 & 0 & 0 & -1 & -1 & d_{0}\\\\0 & 1 & 0 & 0 & -1 & -2 & -1 & d_{1}\\\\0 & 0 & 1 & 0 & 1 & 1 & 0 & -1\\\\0 & 0 & 0 & 1 & -1 & -2 & 0 & 1\\end{matrix}\\right] = \\left[\\begin{matrix}1 & 0 & 0 & 0 & 0 & -1 & -1 & 0\\\\0 & 1 & 0 & 0 & -1 & - c_{2} - 2 & - c_{2} - 1 & 1\\\\0 & 0 & 1 & 0 & 1 & c_{2} + 1 & c_{2} & -1\\\\0 & 0 & 0 & 1 & -1 & - c_{2} - 2 & - c_{2} & 1\\end{matrix}\\right]$"
      ],
      "text/plain": [
       "Eq(Matrix([\n",
       "[1, 0, 0, 0,  0, -1, -1, d0],\n",
       "[0, 1, 0, 0, -1, -2, -1, d1],\n",
       "[0, 0, 1, 0,  1,  1,  0, -1],\n",
       "[0, 0, 0, 1, -1, -2,  0,  1]]), Matrix([\n",
       "[1, 0, 0, 0,  0,      -1,      -1,  0],\n",
       "[0, 1, 0, 0, -1, -c2 - 2, -c2 - 1,  1],\n",
       "[0, 0, 1, 0,  1,  c2 + 1,      c2, -1],\n",
       "[0, 0, 0, 1, -1, -c2 - 2,     -c2,  1]]))"
      ]
     },
     "metadata": {},
     "output_type": "display_data"
    },
    {
     "data": {
      "text/latex": [
       "$\\displaystyle \\text{True}$"
      ],
      "text/plain": [
       "True"
      ]
     },
     "execution_count": 110,
     "metadata": {},
     "output_type": "execute_result"
    }
   ],
   "source": [
    "i, j = 2, 9\n",
    "display(sp.Eq(fans[i], fans[j], evaluate=False))\n",
    "sp.Eq(fans[i].subs(d0,0).subs(d1,1), fans[j].subs(c2,0))"
   ]
  },
  {
   "cell_type": "markdown",
   "id": "923a2708-a6c7-4450-b72c-2c30a2f80776",
   "metadata": {
    "jp-MarkdownHeadingCollapsed": true
   },
   "source": [
    "## fan 3"
   ]
  },
  {
   "cell_type": "markdown",
   "id": "9d1aec09-2867-4b57-aa96-9a2760531f5d",
   "metadata": {
    "jp-MarkdownHeadingCollapsed": true
   },
   "source": [
    "### fan 10 ($c_2=0$, $d_0=0$, $d_1=0$)"
   ]
  },
  {
   "cell_type": "code",
   "execution_count": 111,
   "id": "835d7837-ca14-46ef-9392-1526f0f66883",
   "metadata": {},
   "outputs": [
    {
     "data": {
      "text/latex": [
       "$\\displaystyle \\left[\\begin{matrix}1 & 0 & 0 & 0 & 0 & -1 & -1 & d_{0}\\\\0 & 1 & 0 & 0 & -1 & -1 & -1 & d_{1}\\\\0 & 0 & 1 & 0 & 2 & 1 & 0 & -1\\\\0 & 0 & 0 & 1 & -1 & -1 & 0 & 0\\end{matrix}\\right] = \\left[\\begin{matrix}1 & 0 & 0 & 0 & 0 & -1 & -1 & 0\\\\0 & 1 & 0 & 0 & -1 & -1 & -1 & 0\\\\0 & 0 & 1 & 0 & c_{2} + 2 & c_{2} + 1 & c_{2} & -1\\\\0 & 0 & 0 & 1 & -1 & -1 & 0 & 0\\end{matrix}\\right]$"
      ],
      "text/plain": [
       "Eq(Matrix([\n",
       "[1, 0, 0, 0,  0, -1, -1, d0],\n",
       "[0, 1, 0, 0, -1, -1, -1, d1],\n",
       "[0, 0, 1, 0,  2,  1,  0, -1],\n",
       "[0, 0, 0, 1, -1, -1,  0,  0]]), Matrix([\n",
       "[1, 0, 0, 0,      0,     -1, -1,  0],\n",
       "[0, 1, 0, 0,     -1,     -1, -1,  0],\n",
       "[0, 0, 1, 0, c2 + 2, c2 + 1, c2, -1],\n",
       "[0, 0, 0, 1,     -1,     -1,  0,  0]]))"
      ]
     },
     "metadata": {},
     "output_type": "display_data"
    },
    {
     "data": {
      "text/latex": [
       "$\\displaystyle \\text{True}$"
      ],
      "text/plain": [
       "True"
      ]
     },
     "execution_count": 111,
     "metadata": {},
     "output_type": "execute_result"
    }
   ],
   "source": [
    "i, j = 3, 10\n",
    "display(sp.Eq(fans[i], fans[j], evaluate=False))\n",
    "sp.Eq(fans[i].subs(d0,0).subs(d1,0), fans[j].subs(c2,0))"
   ]
  },
  {
   "cell_type": "markdown",
   "id": "2caeeed7-7028-4aff-9cf1-6b22d9807ec4",
   "metadata": {
    "jp-MarkdownHeadingCollapsed": true
   },
   "source": [
    "### fan 11 ($c_2=0$, $c_3=0$, $d_0=1$, $d_1=1$)"
   ]
  },
  {
   "cell_type": "code",
   "execution_count": 112,
   "id": "1b742824-980b-4001-ae06-20b9552161f2",
   "metadata": {},
   "outputs": [
    {
     "data": {
      "text/latex": [
       "$\\displaystyle \\left[\\begin{matrix}1 & 0 & 0 & 0 & 0 & -1 & -1 & d_{0}\\\\0 & 1 & 0 & 0 & -1 & -1 & -1 & d_{1}\\\\0 & 0 & 1 & 0 & 2 & 1 & 0 & -1\\\\0 & 0 & 0 & 1 & -1 & -1 & 0 & 0\\end{matrix}\\right] = \\left[\\begin{matrix}1 & 0 & 0 & 0 & 0 & -1 & - c_{2} - 1 & 1\\\\0 & 1 & 0 & 0 & -1 & -1 & - c_{2} - 1 & 1\\\\0 & 0 & 1 & 0 & 2 & 1 & c_{2} & -1\\\\0 & 0 & 0 & 1 & -1 & -1 & c_{3} & 0\\end{matrix}\\right]$"
      ],
      "text/plain": [
       "Eq(Matrix([\n",
       "[1, 0, 0, 0,  0, -1, -1, d0],\n",
       "[0, 1, 0, 0, -1, -1, -1, d1],\n",
       "[0, 0, 1, 0,  2,  1,  0, -1],\n",
       "[0, 0, 0, 1, -1, -1,  0,  0]]), Matrix([\n",
       "[1, 0, 0, 0,  0, -1, -c2 - 1,  1],\n",
       "[0, 1, 0, 0, -1, -1, -c2 - 1,  1],\n",
       "[0, 0, 1, 0,  2,  1,      c2, -1],\n",
       "[0, 0, 0, 1, -1, -1,      c3,  0]]))"
      ]
     },
     "metadata": {},
     "output_type": "display_data"
    },
    {
     "data": {
      "text/latex": [
       "$\\displaystyle \\text{True}$"
      ],
      "text/plain": [
       "True"
      ]
     },
     "execution_count": 112,
     "metadata": {},
     "output_type": "execute_result"
    }
   ],
   "source": [
    "i, j = 3, 11\n",
    "display(sp.Eq(fans[i], fans[j], evaluate=False))\n",
    "sp.Eq(fans[i].subs(d0,1).subs(d1,1), fans[j].subs(c2,0).subs(c3,0))"
   ]
  },
  {
   "cell_type": "markdown",
   "id": "5e5a3e18-2e23-49b2-babf-271ae32ac516",
   "metadata": {
    "jp-MarkdownHeadingCollapsed": true
   },
   "source": [
    "## fan 4"
   ]
  },
  {
   "cell_type": "markdown",
   "id": "668aa7b8-546e-48eb-96e0-66f999be3eae",
   "metadata": {
    "jp-MarkdownHeadingCollapsed": true
   },
   "source": [
    "### fan 0 ($a_0=0$, $a_2=0$, $d_1=2$, $d_3=1$)"
   ]
  },
  {
   "cell_type": "code",
   "execution_count": 113,
   "id": "6e3eef2e-9267-4c23-84ca-3b35f9021700",
   "metadata": {},
   "outputs": [
    {
     "data": {
      "text/latex": [
       "$\\displaystyle \\left[\\begin{matrix}1 & 0 & 0 & 0 & a_{0} & -1 & 0 & 1\\\\0 & 1 & 0 & 0 & -1 & 0 & 1 & 2\\\\0 & 0 & 1 & 0 & a_{2} & -1 & -1 & -1\\\\0 & 0 & 0 & 1 & -1 & 0 & 1 & 1\\end{matrix}\\right] = \\left[\\begin{matrix}1 & 0 & 0 & 0 & 0 & -1 & 0 & 1\\\\0 & 1 & 0 & 0 & -1 & d_{1} - 2 & d_{1} - 1 & d_{1}\\\\0 & 0 & 1 & 0 & 0 & -1 & -1 & -1\\\\0 & 0 & 0 & 1 & -1 & d_{3} - 1 & d_{3} & d_{3}\\end{matrix}\\right]$"
      ],
      "text/plain": [
       "Eq(Matrix([\n",
       "[1, 0, 0, 0, a0, -1,  0,  1],\n",
       "[0, 1, 0, 0, -1,  0,  1,  2],\n",
       "[0, 0, 1, 0, a2, -1, -1, -1],\n",
       "[0, 0, 0, 1, -1,  0,  1,  1]]), Matrix([\n",
       "[1, 0, 0, 0,  0,     -1,      0,  1],\n",
       "[0, 1, 0, 0, -1, d1 - 2, d1 - 1, d1],\n",
       "[0, 0, 1, 0,  0,     -1,     -1, -1],\n",
       "[0, 0, 0, 1, -1, d3 - 1,     d3, d3]]))"
      ]
     },
     "metadata": {},
     "output_type": "display_data"
    },
    {
     "data": {
      "text/latex": [
       "$\\displaystyle \\text{True}$"
      ],
      "text/plain": [
       "True"
      ]
     },
     "execution_count": 113,
     "metadata": {},
     "output_type": "execute_result"
    }
   ],
   "source": [
    "i, j = 0, 4\n",
    "display(sp.Eq(fans[i], fans[j], evaluate=False))\n",
    "sp.Eq(fans[i].subs(a0,0).subs(a2,0), fans[j].subs(d1,2).subs(d3,1))"
   ]
  },
  {
   "cell_type": "markdown",
   "id": "91aea2db-b831-4a90-acae-fbbedd30c195",
   "metadata": {
    "jp-MarkdownHeadingCollapsed": true
   },
   "source": [
    "### fan 12 ($a_2=0$, $d_1=1$, $d_3=0$)"
   ]
  },
  {
   "cell_type": "code",
   "execution_count": 114,
   "id": "67724917-01f3-44b6-be73-9a7713efebcd",
   "metadata": {},
   "outputs": [
    {
     "data": {
      "text/latex": [
       "$\\displaystyle \\left[\\begin{matrix}1 & 0 & 0 & 0 & 0 & -1 & 0 & 1\\\\0 & 1 & 0 & 0 & -1 & d_{1} - 2 & d_{1} - 1 & d_{1}\\\\0 & 0 & 1 & 0 & 0 & -1 & -1 & -1\\\\0 & 0 & 0 & 1 & -1 & d_{3} - 1 & d_{3} & d_{3}\\end{matrix}\\right] = \\left[\\begin{matrix}1 & 0 & 0 & 0 & 0 & -1 & 0 & 1\\\\0 & 1 & 0 & 0 & -1 & -1 & 0 & 1\\\\0 & 0 & 1 & 0 & a_{2} & a_{2} - 1 & -1 & -1\\\\0 & 0 & 0 & 1 & -1 & -1 & 0 & 0\\end{matrix}\\right]$"
      ],
      "text/plain": [
       "Eq(Matrix([\n",
       "[1, 0, 0, 0,  0,     -1,      0,  1],\n",
       "[0, 1, 0, 0, -1, d1 - 2, d1 - 1, d1],\n",
       "[0, 0, 1, 0,  0,     -1,     -1, -1],\n",
       "[0, 0, 0, 1, -1, d3 - 1,     d3, d3]]), Matrix([\n",
       "[1, 0, 0, 0,  0,     -1,  0,  1],\n",
       "[0, 1, 0, 0, -1,     -1,  0,  1],\n",
       "[0, 0, 1, 0, a2, a2 - 1, -1, -1],\n",
       "[0, 0, 0, 1, -1,     -1,  0,  0]]))"
      ]
     },
     "metadata": {},
     "output_type": "display_data"
    },
    {
     "data": {
      "text/latex": [
       "$\\displaystyle \\text{True}$"
      ],
      "text/plain": [
       "True"
      ]
     },
     "execution_count": 114,
     "metadata": {},
     "output_type": "execute_result"
    }
   ],
   "source": [
    "i, j = 4, 12\n",
    "display(sp.Eq(fans[i], fans[j], evaluate=False))\n",
    "sp.Eq(fans[i].subs(d1,1).subs(d3,0), fans[j].subs(a2,0))"
   ]
  },
  {
   "cell_type": "markdown",
   "id": "ef5e8239-f7a4-4605-97bf-ec02cb77f0b5",
   "metadata": {
    "jp-MarkdownHeadingCollapsed": true
   },
   "source": [
    "## fan 5"
   ]
  },
  {
   "cell_type": "markdown",
   "id": "65813178-6510-4d25-b9df-087a65912ba4",
   "metadata": {
    "jp-MarkdownHeadingCollapsed": true
   },
   "source": [
    "### fan 1 ($a_0=0$, $a_2=0$, $d_1=1$, $d_3=1$)"
   ]
  },
  {
   "cell_type": "code",
   "execution_count": 115,
   "id": "250845a0-a628-440f-8f89-1e67dc60b45b",
   "metadata": {},
   "outputs": [
    {
     "data": {
      "text/latex": [
       "$\\displaystyle \\left[\\begin{matrix}1 & 0 & 0 & 0 & a_{0} & -1 & -1 & 0\\\\0 & 1 & 0 & 0 & -1 & 0 & 1 & 1\\\\0 & 0 & 1 & 0 & a_{2} & -1 & -2 & -1\\\\0 & 0 & 0 & 1 & -1 & 0 & 2 & 1\\end{matrix}\\right] = \\left[\\begin{matrix}1 & 0 & 0 & 0 & 0 & -1 & -1 & 0\\\\0 & 1 & 0 & 0 & -1 & d_{1} - 1 & 2 d_{1} - 1 & d_{1}\\\\0 & 0 & 1 & 0 & 0 & -1 & -2 & -1\\\\0 & 0 & 0 & 1 & -1 & d_{3} - 1 & 2 d_{3} & d_{3}\\end{matrix}\\right]$"
      ],
      "text/plain": [
       "Eq(Matrix([\n",
       "[1, 0, 0, 0, a0, -1, -1,  0],\n",
       "[0, 1, 0, 0, -1,  0,  1,  1],\n",
       "[0, 0, 1, 0, a2, -1, -2, -1],\n",
       "[0, 0, 0, 1, -1,  0,  2,  1]]), Matrix([\n",
       "[1, 0, 0, 0,  0,     -1,       -1,  0],\n",
       "[0, 1, 0, 0, -1, d1 - 1, 2*d1 - 1, d1],\n",
       "[0, 0, 1, 0,  0,     -1,       -2, -1],\n",
       "[0, 0, 0, 1, -1, d3 - 1,     2*d3, d3]]))"
      ]
     },
     "metadata": {},
     "output_type": "display_data"
    },
    {
     "data": {
      "text/latex": [
       "$\\displaystyle \\text{True}$"
      ],
      "text/plain": [
       "True"
      ]
     },
     "execution_count": 115,
     "metadata": {},
     "output_type": "execute_result"
    }
   ],
   "source": [
    "i, j = 1, 5\n",
    "display(sp.Eq(fans[i], fans[j], evaluate=False))\n",
    "sp.Eq(fans[i].subs(a0,0).subs(a2,0), fans[j].subs(d1,1).subs(d3,1))"
   ]
  },
  {
   "cell_type": "markdown",
   "id": "e45fc5bf-68dd-40c8-82ba-b2faba82bbf5",
   "metadata": {
    "jp-MarkdownHeadingCollapsed": true
   },
   "source": [
    "### fan 10 ($c_2=-2$, $d_1=0$, $d_3=0$)"
   ]
  },
  {
   "cell_type": "code",
   "execution_count": 116,
   "id": "d87dbf34-b4f7-48e0-8408-9e2cf75fa36f",
   "metadata": {},
   "outputs": [
    {
     "data": {
      "text/latex": [
       "$\\displaystyle \\left[\\begin{matrix}1 & 0 & 0 & 0 & 0 & -1 & -1 & 0\\\\0 & 1 & 0 & 0 & -1 & d_{1} - 1 & 2 d_{1} - 1 & d_{1}\\\\0 & 0 & 1 & 0 & 0 & -1 & -2 & -1\\\\0 & 0 & 0 & 1 & -1 & d_{3} - 1 & 2 d_{3} & d_{3}\\end{matrix}\\right] = \\left[\\begin{matrix}1 & 0 & 0 & 0 & 0 & -1 & -1 & 0\\\\0 & 1 & 0 & 0 & -1 & -1 & -1 & 0\\\\0 & 0 & 1 & 0 & c_{2} + 2 & c_{2} + 1 & c_{2} & -1\\\\0 & 0 & 0 & 1 & -1 & -1 & 0 & 0\\end{matrix}\\right]$"
      ],
      "text/plain": [
       "Eq(Matrix([\n",
       "[1, 0, 0, 0,  0,     -1,       -1,  0],\n",
       "[0, 1, 0, 0, -1, d1 - 1, 2*d1 - 1, d1],\n",
       "[0, 0, 1, 0,  0,     -1,       -2, -1],\n",
       "[0, 0, 0, 1, -1, d3 - 1,     2*d3, d3]]), Matrix([\n",
       "[1, 0, 0, 0,      0,     -1, -1,  0],\n",
       "[0, 1, 0, 0,     -1,     -1, -1,  0],\n",
       "[0, 0, 1, 0, c2 + 2, c2 + 1, c2, -1],\n",
       "[0, 0, 0, 1,     -1,     -1,  0,  0]]))"
      ]
     },
     "metadata": {},
     "output_type": "display_data"
    },
    {
     "data": {
      "text/latex": [
       "$\\displaystyle \\text{True}$"
      ],
      "text/plain": [
       "True"
      ]
     },
     "execution_count": 116,
     "metadata": {},
     "output_type": "execute_result"
    }
   ],
   "source": [
    "i, j = 5, 10\n",
    "display(sp.Eq(fans[i], fans[j], evaluate=False))\n",
    "sp.Eq(fans[i].subs(d1,0).subs(d3,0), fans[j].subs(c2,-2))"
   ]
  },
  {
   "cell_type": "markdown",
   "id": "9532a509-61d0-42e3-911a-a2b406cb03fa",
   "metadata": {
    "jp-MarkdownHeadingCollapsed": true
   },
   "source": [
    "## fan 6"
   ]
  },
  {
   "cell_type": "markdown",
   "id": "a1c6644f-46ac-456a-a9b0-e3dbd63e8faa",
   "metadata": {
    "jp-MarkdownHeadingCollapsed": true
   },
   "source": [
    "### fan 2 ($c_2=0$, $c_3=0$, $d_0=1$, $d_1=2$)"
   ]
  },
  {
   "cell_type": "code",
   "execution_count": 117,
   "id": "3349be73-f62b-460c-b083-7bda98b022ce",
   "metadata": {},
   "outputs": [
    {
     "data": {
      "text/latex": [
       "$\\displaystyle \\left[\\begin{matrix}1 & 0 & 0 & 0 & 0 & -1 & -1 & d_{0}\\\\0 & 1 & 0 & 0 & -1 & -2 & -1 & d_{1}\\\\0 & 0 & 1 & 0 & 1 & 1 & 0 & -1\\\\0 & 0 & 0 & 1 & -1 & -2 & 0 & 1\\end{matrix}\\right] = \\left[\\begin{matrix}1 & 0 & 0 & 0 & 0 & -1 & - c_{2} - 1 & 1\\\\0 & 1 & 0 & 0 & -1 & -2 & - 2 c_{2} - 1 & 2\\\\0 & 0 & 1 & 0 & 1 & 1 & c_{2} & -1\\\\0 & 0 & 0 & 1 & -1 & -2 & c_{3} & 1\\end{matrix}\\right]$"
      ],
      "text/plain": [
       "Eq(Matrix([\n",
       "[1, 0, 0, 0,  0, -1, -1, d0],\n",
       "[0, 1, 0, 0, -1, -2, -1, d1],\n",
       "[0, 0, 1, 0,  1,  1,  0, -1],\n",
       "[0, 0, 0, 1, -1, -2,  0,  1]]), Matrix([\n",
       "[1, 0, 0, 0,  0, -1,   -c2 - 1,  1],\n",
       "[0, 1, 0, 0, -1, -2, -2*c2 - 1,  2],\n",
       "[0, 0, 1, 0,  1,  1,        c2, -1],\n",
       "[0, 0, 0, 1, -1, -2,        c3,  1]]))"
      ]
     },
     "metadata": {},
     "output_type": "display_data"
    },
    {
     "data": {
      "text/latex": [
       "$\\displaystyle \\text{True}$"
      ],
      "text/plain": [
       "True"
      ]
     },
     "execution_count": 117,
     "metadata": {},
     "output_type": "execute_result"
    }
   ],
   "source": [
    "i, j = 2, 6\n",
    "display(sp.Eq(fans[i], fans[j], evaluate=False))\n",
    "sp.Eq(fans[i].subs(d0,1).subs(d1,2), fans[j].subs(c2,0).subs(c3,0))"
   ]
  },
  {
   "cell_type": "markdown",
   "id": "567e615e-a20f-47b3-9779-8e36bdf240f9",
   "metadata": {
    "jp-MarkdownHeadingCollapsed": true
   },
   "source": [
    "### fan 8 ($b_1=-2$, $c_2=-1$, $c_3=1$)"
   ]
  },
  {
   "cell_type": "code",
   "execution_count": 118,
   "id": "3c2414c3-ea1d-47c3-8e7d-e3ad1039ca1d",
   "metadata": {},
   "outputs": [
    {
     "data": {
      "text/latex": [
       "$\\displaystyle \\left[\\begin{matrix}1 & 0 & 0 & 0 & 0 & -1 & - c_{2} - 1 & 1\\\\0 & 1 & 0 & 0 & -1 & -2 & - 2 c_{2} - 1 & 2\\\\0 & 0 & 1 & 0 & 1 & 1 & c_{2} & -1\\\\0 & 0 & 0 & 1 & -1 & -2 & c_{3} & 1\\end{matrix}\\right] = \\left[\\begin{matrix}1 & 0 & 0 & 0 & 0 & -1 & 0 & 1\\\\0 & 1 & 0 & 0 & -1 & b_{1} & 1 & 2\\\\0 & 0 & 1 & 0 & 1 & - b_{1} - 1 & -1 & -1\\\\0 & 0 & 0 & 1 & -1 & b_{1} & 1 & 1\\end{matrix}\\right]$"
      ],
      "text/plain": [
       "Eq(Matrix([\n",
       "[1, 0, 0, 0,  0, -1,   -c2 - 1,  1],\n",
       "[0, 1, 0, 0, -1, -2, -2*c2 - 1,  2],\n",
       "[0, 0, 1, 0,  1,  1,        c2, -1],\n",
       "[0, 0, 0, 1, -1, -2,        c3,  1]]), Matrix([\n",
       "[1, 0, 0, 0,  0,      -1,  0,  1],\n",
       "[0, 1, 0, 0, -1,      b1,  1,  2],\n",
       "[0, 0, 1, 0,  1, -b1 - 1, -1, -1],\n",
       "[0, 0, 0, 1, -1,      b1,  1,  1]]))"
      ]
     },
     "metadata": {},
     "output_type": "display_data"
    },
    {
     "data": {
      "text/latex": [
       "$\\displaystyle \\text{True}$"
      ],
      "text/plain": [
       "True"
      ]
     },
     "execution_count": 118,
     "metadata": {},
     "output_type": "execute_result"
    }
   ],
   "source": [
    "i, j = 6, 8\n",
    "display(sp.Eq(fans[i], fans[j], evaluate=False))\n",
    "sp.Eq(fans[i].subs(c2,-1).subs(c3,1), fans[j].subs(b1,-2))"
   ]
  },
  {
   "cell_type": "markdown",
   "id": "7b34e289-93ab-44d3-852a-3531214be7bd",
   "metadata": {},
   "source": [
    "## fan 7"
   ]
  },
  {
   "cell_type": "markdown",
   "id": "384b98ba-98b1-41ca-8e90-3e04a2d3dad6",
   "metadata": {
    "jp-MarkdownHeadingCollapsed": true
   },
   "source": [
    "### fan 8 ($b_1=-1$, $d_0=1$, $d_1=2$, $d_3=1$)"
   ]
  },
  {
   "cell_type": "code",
   "execution_count": 119,
   "id": "eae79156-d506-4e85-b834-901a04e305a3",
   "metadata": {},
   "outputs": [
    {
     "data": {
      "text/latex": [
       "$\\displaystyle \\left[\\begin{matrix}1 & 0 & 0 & 0 & 0 & -1 & d_{0} - 1 & d_{0}\\\\0 & 1 & 0 & 0 & -1 & -1 & d_{1} - 1 & d_{1}\\\\0 & 0 & 1 & 0 & 1 & 0 & -1 & -1\\\\0 & 0 & 0 & 1 & -1 & -1 & d_{3} & d_{3}\\end{matrix}\\right] = \\left[\\begin{matrix}1 & 0 & 0 & 0 & 0 & -1 & 0 & 1\\\\0 & 1 & 0 & 0 & -1 & b_{1} & 1 & 2\\\\0 & 0 & 1 & 0 & 1 & - b_{1} - 1 & -1 & -1\\\\0 & 0 & 0 & 1 & -1 & b_{1} & 1 & 1\\end{matrix}\\right]$"
      ],
      "text/plain": [
       "Eq(Matrix([\n",
       "[1, 0, 0, 0,  0, -1, d0 - 1, d0],\n",
       "[0, 1, 0, 0, -1, -1, d1 - 1, d1],\n",
       "[0, 0, 1, 0,  1,  0,     -1, -1],\n",
       "[0, 0, 0, 1, -1, -1,     d3, d3]]), Matrix([\n",
       "[1, 0, 0, 0,  0,      -1,  0,  1],\n",
       "[0, 1, 0, 0, -1,      b1,  1,  2],\n",
       "[0, 0, 1, 0,  1, -b1 - 1, -1, -1],\n",
       "[0, 0, 0, 1, -1,      b1,  1,  1]]))"
      ]
     },
     "metadata": {},
     "output_type": "display_data"
    },
    {
     "data": {
      "text/latex": [
       "$\\displaystyle \\text{True}$"
      ],
      "text/plain": [
       "True"
      ]
     },
     "execution_count": 119,
     "metadata": {},
     "output_type": "execute_result"
    }
   ],
   "source": [
    "i, j = 7, 8\n",
    "display(sp.Eq(fans[i], fans[j], evaluate=False))\n",
    "sp.Eq(fans[i].subs(d0,1).subs(d1,2).subs(d3,1), fans[j].subs(b1,-1))"
   ]
  },
  {
   "cell_type": "markdown",
   "id": "b6cdc3cd-d024-494f-b7c2-400194c0ad7e",
   "metadata": {
    "jp-MarkdownHeadingCollapsed": true
   },
   "source": [
    "### fan 9 ($c_2=-1$, $d_0=0$, $d_1=1$, $d_3=1$)"
   ]
  },
  {
   "cell_type": "code",
   "execution_count": 120,
   "id": "ea2655ac-3842-4f2f-879e-82e1d060be88",
   "metadata": {},
   "outputs": [
    {
     "data": {
      "text/latex": [
       "$\\displaystyle \\left[\\begin{matrix}1 & 0 & 0 & 0 & 0 & -1 & d_{0} - 1 & d_{0}\\\\0 & 1 & 0 & 0 & -1 & -1 & d_{1} - 1 & d_{1}\\\\0 & 0 & 1 & 0 & 1 & 0 & -1 & -1\\\\0 & 0 & 0 & 1 & -1 & -1 & d_{3} & d_{3}\\end{matrix}\\right] = \\left[\\begin{matrix}1 & 0 & 0 & 0 & 0 & -1 & -1 & 0\\\\0 & 1 & 0 & 0 & -1 & - c_{2} - 2 & - c_{2} - 1 & 1\\\\0 & 0 & 1 & 0 & 1 & c_{2} + 1 & c_{2} & -1\\\\0 & 0 & 0 & 1 & -1 & - c_{2} - 2 & - c_{2} & 1\\end{matrix}\\right]$"
      ],
      "text/plain": [
       "Eq(Matrix([\n",
       "[1, 0, 0, 0,  0, -1, d0 - 1, d0],\n",
       "[0, 1, 0, 0, -1, -1, d1 - 1, d1],\n",
       "[0, 0, 1, 0,  1,  0,     -1, -1],\n",
       "[0, 0, 0, 1, -1, -1,     d3, d3]]), Matrix([\n",
       "[1, 0, 0, 0,  0,      -1,      -1,  0],\n",
       "[0, 1, 0, 0, -1, -c2 - 2, -c2 - 1,  1],\n",
       "[0, 0, 1, 0,  1,  c2 + 1,      c2, -1],\n",
       "[0, 0, 0, 1, -1, -c2 - 2,     -c2,  1]]))"
      ]
     },
     "metadata": {},
     "output_type": "display_data"
    },
    {
     "data": {
      "text/latex": [
       "$\\displaystyle \\text{True}$"
      ],
      "text/plain": [
       "True"
      ]
     },
     "execution_count": 120,
     "metadata": {},
     "output_type": "execute_result"
    }
   ],
   "source": [
    "i, j = 7, 9\n",
    "display(sp.Eq(fans[i], fans[j], evaluate=False))\n",
    "sp.Eq(fans[i].subs(d0,0).subs(d1,1).subs(d3,1), fans[j].subs(c2,-1))"
   ]
  },
  {
   "cell_type": "markdown",
   "id": "46e35925-77a8-4356-a1a4-ba96fc59a8cc",
   "metadata": {
    "jp-MarkdownHeadingCollapsed": true
   },
   "source": [
    "### fan 10 ($c_2=-1$, $d_0=0$, $d_1=0$, $d_3=0$)"
   ]
  },
  {
   "cell_type": "code",
   "execution_count": 121,
   "id": "835cfbb9-3cfe-4518-9d52-a38a56fbb3da",
   "metadata": {},
   "outputs": [
    {
     "data": {
      "text/latex": [
       "$\\displaystyle \\left[\\begin{matrix}1 & 0 & 0 & 0 & 0 & -1 & d_{0} - 1 & d_{0}\\\\0 & 1 & 0 & 0 & -1 & -1 & d_{1} - 1 & d_{1}\\\\0 & 0 & 1 & 0 & 1 & 0 & -1 & -1\\\\0 & 0 & 0 & 1 & -1 & -1 & d_{3} & d_{3}\\end{matrix}\\right] = \\left[\\begin{matrix}1 & 0 & 0 & 0 & 0 & -1 & -1 & 0\\\\0 & 1 & 0 & 0 & -1 & -1 & -1 & 0\\\\0 & 0 & 1 & 0 & c_{2} + 2 & c_{2} + 1 & c_{2} & -1\\\\0 & 0 & 0 & 1 & -1 & -1 & 0 & 0\\end{matrix}\\right]$"
      ],
      "text/plain": [
       "Eq(Matrix([\n",
       "[1, 0, 0, 0,  0, -1, d0 - 1, d0],\n",
       "[0, 1, 0, 0, -1, -1, d1 - 1, d1],\n",
       "[0, 0, 1, 0,  1,  0,     -1, -1],\n",
       "[0, 0, 0, 1, -1, -1,     d3, d3]]), Matrix([\n",
       "[1, 0, 0, 0,      0,     -1, -1,  0],\n",
       "[0, 1, 0, 0,     -1,     -1, -1,  0],\n",
       "[0, 0, 1, 0, c2 + 2, c2 + 1, c2, -1],\n",
       "[0, 0, 0, 1,     -1,     -1,  0,  0]]))"
      ]
     },
     "metadata": {},
     "output_type": "display_data"
    },
    {
     "data": {
      "text/latex": [
       "$\\displaystyle \\text{True}$"
      ],
      "text/plain": [
       "True"
      ]
     },
     "execution_count": 121,
     "metadata": {},
     "output_type": "execute_result"
    }
   ],
   "source": [
    "i, j = 7, 10\n",
    "display(sp.Eq(fans[i], fans[j], evaluate=False))\n",
    "sp.Eq(fans[i].subs(d0,0).subs(d1,0).subs(d3,0), fans[j].subs(c2,-1))"
   ]
  },
  {
   "cell_type": "markdown",
   "id": "1458e80b-cd6a-4200-887c-0d4151b37650",
   "metadata": {
    "jp-MarkdownHeadingCollapsed": true
   },
   "source": [
    "### fan 12 ($a_2=1$, $d_0=1$, $d_1=1$, $d_3=0$)"
   ]
  },
  {
   "cell_type": "code",
   "execution_count": 122,
   "id": "dd3fa00b-2800-4123-83bc-ac274b389984",
   "metadata": {},
   "outputs": [
    {
     "data": {
      "text/latex": [
       "$\\displaystyle \\left[\\begin{matrix}1 & 0 & 0 & 0 & 0 & -1 & d_{0} - 1 & d_{0}\\\\0 & 1 & 0 & 0 & -1 & -1 & d_{1} - 1 & d_{1}\\\\0 & 0 & 1 & 0 & 1 & 0 & -1 & -1\\\\0 & 0 & 0 & 1 & -1 & -1 & d_{3} & d_{3}\\end{matrix}\\right] = \\left[\\begin{matrix}1 & 0 & 0 & 0 & 0 & -1 & 0 & 1\\\\0 & 1 & 0 & 0 & -1 & -1 & 0 & 1\\\\0 & 0 & 1 & 0 & a_{2} & a_{2} - 1 & -1 & -1\\\\0 & 0 & 0 & 1 & -1 & -1 & 0 & 0\\end{matrix}\\right]$"
      ],
      "text/plain": [
       "Eq(Matrix([\n",
       "[1, 0, 0, 0,  0, -1, d0 - 1, d0],\n",
       "[0, 1, 0, 0, -1, -1, d1 - 1, d1],\n",
       "[0, 0, 1, 0,  1,  0,     -1, -1],\n",
       "[0, 0, 0, 1, -1, -1,     d3, d3]]), Matrix([\n",
       "[1, 0, 0, 0,  0,     -1,  0,  1],\n",
       "[0, 1, 0, 0, -1,     -1,  0,  1],\n",
       "[0, 0, 1, 0, a2, a2 - 1, -1, -1],\n",
       "[0, 0, 0, 1, -1,     -1,  0,  0]]))"
      ]
     },
     "metadata": {},
     "output_type": "display_data"
    },
    {
     "data": {
      "text/latex": [
       "$\\displaystyle \\text{True}$"
      ],
      "text/plain": [
       "True"
      ]
     },
     "execution_count": 122,
     "metadata": {},
     "output_type": "execute_result"
    }
   ],
   "source": [
    "i, j = 7, 12\n",
    "display(sp.Eq(fans[i], fans[j], evaluate=False))\n",
    "sp.Eq(fans[i].subs(d0,1).subs(d1,1).subs(d3,0), fans[j].subs(a2,1))"
   ]
  },
  {
   "cell_type": "markdown",
   "id": "84518b8e-0d2a-4ffe-b13e-3baf04245a81",
   "metadata": {
    "jp-MarkdownHeadingCollapsed": true
   },
   "source": [
    "## fan 8"
   ]
  },
  {
   "cell_type": "markdown",
   "id": "0187a358-ceac-41d1-b73c-46c3ebf00c0a",
   "metadata": {
    "jp-MarkdownHeadingCollapsed": true
   },
   "source": [
    "### fan 0 ($a_0=0$, $a_2=1$, $b_1=0$)"
   ]
  },
  {
   "cell_type": "code",
   "execution_count": 123,
   "id": "42de9c6f-1f00-4b8b-9aaa-70c965b2a9d3",
   "metadata": {},
   "outputs": [
    {
     "data": {
      "text/latex": [
       "$\\displaystyle \\left[\\begin{matrix}1 & 0 & 0 & 0 & a_{0} & -1 & 0 & 1\\\\0 & 1 & 0 & 0 & -1 & 0 & 1 & 2\\\\0 & 0 & 1 & 0 & a_{2} & -1 & -1 & -1\\\\0 & 0 & 0 & 1 & -1 & 0 & 1 & 1\\end{matrix}\\right] = \\left[\\begin{matrix}1 & 0 & 0 & 0 & 0 & -1 & 0 & 1\\\\0 & 1 & 0 & 0 & -1 & b_{1} & 1 & 2\\\\0 & 0 & 1 & 0 & 1 & - b_{1} - 1 & -1 & -1\\\\0 & 0 & 0 & 1 & -1 & b_{1} & 1 & 1\\end{matrix}\\right]$"
      ],
      "text/plain": [
       "Eq(Matrix([\n",
       "[1, 0, 0, 0, a0, -1,  0,  1],\n",
       "[0, 1, 0, 0, -1,  0,  1,  2],\n",
       "[0, 0, 1, 0, a2, -1, -1, -1],\n",
       "[0, 0, 0, 1, -1,  0,  1,  1]]), Matrix([\n",
       "[1, 0, 0, 0,  0,      -1,  0,  1],\n",
       "[0, 1, 0, 0, -1,      b1,  1,  2],\n",
       "[0, 0, 1, 0,  1, -b1 - 1, -1, -1],\n",
       "[0, 0, 0, 1, -1,      b1,  1,  1]]))"
      ]
     },
     "metadata": {},
     "output_type": "display_data"
    },
    {
     "data": {
      "text/latex": [
       "$\\displaystyle \\text{True}$"
      ],
      "text/plain": [
       "True"
      ]
     },
     "execution_count": 123,
     "metadata": {},
     "output_type": "execute_result"
    }
   ],
   "source": [
    "i, j = 0, 8\n",
    "display(sp.Eq(fans[i], fans[j], evaluate=False))\n",
    "sp.Eq(fans[i].subs(a0,0).subs(a2,1), fans[j].subs(b1,0))"
   ]
  },
  {
   "cell_type": "markdown",
   "id": "ce4f9f77-b8ec-4877-bc8a-7861af478ee5",
   "metadata": {
    "jp-MarkdownHeadingCollapsed": true
   },
   "source": [
    "### fan 6 ($b_1=-2$, $c_2=-1$, $c_3=1$)"
   ]
  },
  {
   "cell_type": "code",
   "execution_count": 124,
   "id": "2e6012b5-e847-4c93-ae77-28848d0d6014",
   "metadata": {},
   "outputs": [
    {
     "data": {
      "text/latex": [
       "$\\displaystyle \\left[\\begin{matrix}1 & 0 & 0 & 0 & 0 & -1 & - c_{2} - 1 & 1\\\\0 & 1 & 0 & 0 & -1 & -2 & - 2 c_{2} - 1 & 2\\\\0 & 0 & 1 & 0 & 1 & 1 & c_{2} & -1\\\\0 & 0 & 0 & 1 & -1 & -2 & c_{3} & 1\\end{matrix}\\right] = \\left[\\begin{matrix}1 & 0 & 0 & 0 & 0 & -1 & 0 & 1\\\\0 & 1 & 0 & 0 & -1 & b_{1} & 1 & 2\\\\0 & 0 & 1 & 0 & 1 & - b_{1} - 1 & -1 & -1\\\\0 & 0 & 0 & 1 & -1 & b_{1} & 1 & 1\\end{matrix}\\right]$"
      ],
      "text/plain": [
       "Eq(Matrix([\n",
       "[1, 0, 0, 0,  0, -1,   -c2 - 1,  1],\n",
       "[0, 1, 0, 0, -1, -2, -2*c2 - 1,  2],\n",
       "[0, 0, 1, 0,  1,  1,        c2, -1],\n",
       "[0, 0, 0, 1, -1, -2,        c3,  1]]), Matrix([\n",
       "[1, 0, 0, 0,  0,      -1,  0,  1],\n",
       "[0, 1, 0, 0, -1,      b1,  1,  2],\n",
       "[0, 0, 1, 0,  1, -b1 - 1, -1, -1],\n",
       "[0, 0, 0, 1, -1,      b1,  1,  1]]))"
      ]
     },
     "metadata": {},
     "output_type": "display_data"
    },
    {
     "data": {
      "text/latex": [
       "$\\displaystyle \\text{True}$"
      ],
      "text/plain": [
       "True"
      ]
     },
     "execution_count": 124,
     "metadata": {},
     "output_type": "execute_result"
    }
   ],
   "source": [
    "i, j = 6, 8\n",
    "display(sp.Eq(fans[i], fans[j], evaluate=False))\n",
    "sp.Eq(fans[i].subs(c2,-1).subs(c3,1), fans[j].subs(b1,-2))"
   ]
  },
  {
   "cell_type": "markdown",
   "id": "4e4e1f36-975f-4bd0-9fde-adbec04377cc",
   "metadata": {
    "jp-MarkdownHeadingCollapsed": true
   },
   "source": [
    "### fan 7 ($b_1=-1$, $d_0=1$, $d_1=2$, $d_3=1$)"
   ]
  },
  {
   "cell_type": "code",
   "execution_count": 125,
   "id": "df03e473-4e72-48a1-b535-b4b84c25e214",
   "metadata": {},
   "outputs": [
    {
     "data": {
      "text/latex": [
       "$\\displaystyle \\left[\\begin{matrix}1 & 0 & 0 & 0 & 0 & -1 & d_{0} - 1 & d_{0}\\\\0 & 1 & 0 & 0 & -1 & -1 & d_{1} - 1 & d_{1}\\\\0 & 0 & 1 & 0 & 1 & 0 & -1 & -1\\\\0 & 0 & 0 & 1 & -1 & -1 & d_{3} & d_{3}\\end{matrix}\\right] = \\left[\\begin{matrix}1 & 0 & 0 & 0 & 0 & -1 & 0 & 1\\\\0 & 1 & 0 & 0 & -1 & b_{1} & 1 & 2\\\\0 & 0 & 1 & 0 & 1 & - b_{1} - 1 & -1 & -1\\\\0 & 0 & 0 & 1 & -1 & b_{1} & 1 & 1\\end{matrix}\\right]$"
      ],
      "text/plain": [
       "Eq(Matrix([\n",
       "[1, 0, 0, 0,  0, -1, d0 - 1, d0],\n",
       "[0, 1, 0, 0, -1, -1, d1 - 1, d1],\n",
       "[0, 0, 1, 0,  1,  0,     -1, -1],\n",
       "[0, 0, 0, 1, -1, -1,     d3, d3]]), Matrix([\n",
       "[1, 0, 0, 0,  0,      -1,  0,  1],\n",
       "[0, 1, 0, 0, -1,      b1,  1,  2],\n",
       "[0, 0, 1, 0,  1, -b1 - 1, -1, -1],\n",
       "[0, 0, 0, 1, -1,      b1,  1,  1]]))"
      ]
     },
     "metadata": {},
     "output_type": "display_data"
    },
    {
     "data": {
      "text/latex": [
       "$\\displaystyle \\text{True}$"
      ],
      "text/plain": [
       "True"
      ]
     },
     "execution_count": 125,
     "metadata": {},
     "output_type": "execute_result"
    }
   ],
   "source": [
    "i, j = 7, 8\n",
    "display(sp.Eq(fans[i], fans[j], evaluate=False))\n",
    "sp.Eq(fans[i].subs(d0,1).subs(d1,2).subs(d3,1), fans[j].subs(b1,-1))"
   ]
  },
  {
   "cell_type": "markdown",
   "id": "722e1fb0-b78c-40be-8789-57087e9838f0",
   "metadata": {
    "jp-MarkdownHeadingCollapsed": true
   },
   "source": [
    "## fan 9"
   ]
  },
  {
   "cell_type": "markdown",
   "id": "56e7e482-a257-41b6-b12b-41c59895739d",
   "metadata": {
    "jp-MarkdownHeadingCollapsed": true
   },
   "source": [
    "### fan 1 ($a_0=0$, $a_2=1$, $c_2=-2$)"
   ]
  },
  {
   "cell_type": "code",
   "execution_count": 126,
   "id": "6855df2a-c291-435f-87f3-5975c64cb32f",
   "metadata": {},
   "outputs": [
    {
     "data": {
      "text/latex": [
       "$\\displaystyle \\left[\\begin{matrix}1 & 0 & 0 & 0 & a_{0} & -1 & -1 & 0\\\\0 & 1 & 0 & 0 & -1 & 0 & 1 & 1\\\\0 & 0 & 1 & 0 & a_{2} & -1 & -2 & -1\\\\0 & 0 & 0 & 1 & -1 & 0 & 2 & 1\\end{matrix}\\right] = \\left[\\begin{matrix}1 & 0 & 0 & 0 & 0 & -1 & -1 & 0\\\\0 & 1 & 0 & 0 & -1 & - c_{2} - 2 & - c_{2} - 1 & 1\\\\0 & 0 & 1 & 0 & 1 & c_{2} + 1 & c_{2} & -1\\\\0 & 0 & 0 & 1 & -1 & - c_{2} - 2 & - c_{2} & 1\\end{matrix}\\right]$"
      ],
      "text/plain": [
       "Eq(Matrix([\n",
       "[1, 0, 0, 0, a0, -1, -1,  0],\n",
       "[0, 1, 0, 0, -1,  0,  1,  1],\n",
       "[0, 0, 1, 0, a2, -1, -2, -1],\n",
       "[0, 0, 0, 1, -1,  0,  2,  1]]), Matrix([\n",
       "[1, 0, 0, 0,  0,      -1,      -1,  0],\n",
       "[0, 1, 0, 0, -1, -c2 - 2, -c2 - 1,  1],\n",
       "[0, 0, 1, 0,  1,  c2 + 1,      c2, -1],\n",
       "[0, 0, 0, 1, -1, -c2 - 2,     -c2,  1]]))"
      ]
     },
     "metadata": {},
     "output_type": "display_data"
    },
    {
     "data": {
      "text/latex": [
       "$\\displaystyle \\text{True}$"
      ],
      "text/plain": [
       "True"
      ]
     },
     "execution_count": 126,
     "metadata": {},
     "output_type": "execute_result"
    }
   ],
   "source": [
    "i, j = 1, 9\n",
    "display(sp.Eq(fans[i], fans[j], evaluate=False))\n",
    "sp.Eq(fans[i].subs(a0,0).subs(a2,1), fans[j].subs(c2,-2))"
   ]
  },
  {
   "cell_type": "markdown",
   "id": "81cf910e-312b-476b-b985-1150d5a08433",
   "metadata": {
    "jp-MarkdownHeadingCollapsed": true
   },
   "source": [
    "### fan 2 ($c_2=0$, $d_0=0$, $d_1=1$)"
   ]
  },
  {
   "cell_type": "code",
   "execution_count": 127,
   "id": "882b0011-fe5e-458d-8516-14600b1816e2",
   "metadata": {},
   "outputs": [
    {
     "data": {
      "text/latex": [
       "$\\displaystyle \\left[\\begin{matrix}1 & 0 & 0 & 0 & 0 & -1 & -1 & d_{0}\\\\0 & 1 & 0 & 0 & -1 & -2 & -1 & d_{1}\\\\0 & 0 & 1 & 0 & 1 & 1 & 0 & -1\\\\0 & 0 & 0 & 1 & -1 & -2 & 0 & 1\\end{matrix}\\right] = \\left[\\begin{matrix}1 & 0 & 0 & 0 & 0 & -1 & -1 & 0\\\\0 & 1 & 0 & 0 & -1 & - c_{2} - 2 & - c_{2} - 1 & 1\\\\0 & 0 & 1 & 0 & 1 & c_{2} + 1 & c_{2} & -1\\\\0 & 0 & 0 & 1 & -1 & - c_{2} - 2 & - c_{2} & 1\\end{matrix}\\right]$"
      ],
      "text/plain": [
       "Eq(Matrix([\n",
       "[1, 0, 0, 0,  0, -1, -1, d0],\n",
       "[0, 1, 0, 0, -1, -2, -1, d1],\n",
       "[0, 0, 1, 0,  1,  1,  0, -1],\n",
       "[0, 0, 0, 1, -1, -2,  0,  1]]), Matrix([\n",
       "[1, 0, 0, 0,  0,      -1,      -1,  0],\n",
       "[0, 1, 0, 0, -1, -c2 - 2, -c2 - 1,  1],\n",
       "[0, 0, 1, 0,  1,  c2 + 1,      c2, -1],\n",
       "[0, 0, 0, 1, -1, -c2 - 2,     -c2,  1]]))"
      ]
     },
     "metadata": {},
     "output_type": "display_data"
    },
    {
     "data": {
      "text/latex": [
       "$\\displaystyle \\text{True}$"
      ],
      "text/plain": [
       "True"
      ]
     },
     "execution_count": 127,
     "metadata": {},
     "output_type": "execute_result"
    }
   ],
   "source": [
    "i, j = 2, 9\n",
    "display(sp.Eq(fans[i], fans[j], evaluate=False))\n",
    "sp.Eq(fans[i].subs(d0,0).subs(d1,1), fans[j].subs(c2,0))"
   ]
  },
  {
   "cell_type": "markdown",
   "id": "57e1c284-0c38-4e43-b105-e2a761251ca1",
   "metadata": {
    "jp-MarkdownHeadingCollapsed": true
   },
   "source": [
    "### fan 7 ($c_2=-1$, $d_0=0$, $d_1=1$, $d_3=1$)"
   ]
  },
  {
   "cell_type": "code",
   "execution_count": 128,
   "id": "f84693d2-2279-487d-b42e-8f33491c5a75",
   "metadata": {},
   "outputs": [
    {
     "data": {
      "text/latex": [
       "$\\displaystyle \\left[\\begin{matrix}1 & 0 & 0 & 0 & 0 & -1 & d_{0} - 1 & d_{0}\\\\0 & 1 & 0 & 0 & -1 & -1 & d_{1} - 1 & d_{1}\\\\0 & 0 & 1 & 0 & 1 & 0 & -1 & -1\\\\0 & 0 & 0 & 1 & -1 & -1 & d_{3} & d_{3}\\end{matrix}\\right] = \\left[\\begin{matrix}1 & 0 & 0 & 0 & 0 & -1 & -1 & 0\\\\0 & 1 & 0 & 0 & -1 & - c_{2} - 2 & - c_{2} - 1 & 1\\\\0 & 0 & 1 & 0 & 1 & c_{2} + 1 & c_{2} & -1\\\\0 & 0 & 0 & 1 & -1 & - c_{2} - 2 & - c_{2} & 1\\end{matrix}\\right]$"
      ],
      "text/plain": [
       "Eq(Matrix([\n",
       "[1, 0, 0, 0,  0, -1, d0 - 1, d0],\n",
       "[0, 1, 0, 0, -1, -1, d1 - 1, d1],\n",
       "[0, 0, 1, 0,  1,  0,     -1, -1],\n",
       "[0, 0, 0, 1, -1, -1,     d3, d3]]), Matrix([\n",
       "[1, 0, 0, 0,  0,      -1,      -1,  0],\n",
       "[0, 1, 0, 0, -1, -c2 - 2, -c2 - 1,  1],\n",
       "[0, 0, 1, 0,  1,  c2 + 1,      c2, -1],\n",
       "[0, 0, 0, 1, -1, -c2 - 2,     -c2,  1]]))"
      ]
     },
     "metadata": {},
     "output_type": "display_data"
    },
    {
     "data": {
      "text/latex": [
       "$\\displaystyle \\text{True}$"
      ],
      "text/plain": [
       "True"
      ]
     },
     "execution_count": 128,
     "metadata": {},
     "output_type": "execute_result"
    }
   ],
   "source": [
    "i, j = 7, 9\n",
    "display(sp.Eq(fans[i], fans[j], evaluate=False))\n",
    "sp.Eq(fans[i].subs(d0,0).subs(d1,1).subs(d3,1), fans[j].subs(c2,-1))"
   ]
  },
  {
   "cell_type": "markdown",
   "id": "617d0845-ff4c-44ef-9ed1-b76cf64b6ba7",
   "metadata": {
    "jp-MarkdownHeadingCollapsed": true
   },
   "source": [
    "## fan 10"
   ]
  },
  {
   "cell_type": "markdown",
   "id": "d994b102-e95f-41a8-8f73-43598ad0c5bf",
   "metadata": {
    "jp-MarkdownHeadingCollapsed": true
   },
   "source": [
    "### fan 3 ($c_2=0$, $d_0=0$, $d_1=0$)"
   ]
  },
  {
   "cell_type": "code",
   "execution_count": 129,
   "id": "7acef0cc-ce74-4075-9e25-1422fd6fdbaf",
   "metadata": {},
   "outputs": [
    {
     "data": {
      "text/latex": [
       "$\\displaystyle \\left[\\begin{matrix}1 & 0 & 0 & 0 & 0 & -1 & -1 & d_{0}\\\\0 & 1 & 0 & 0 & -1 & -1 & -1 & d_{1}\\\\0 & 0 & 1 & 0 & 2 & 1 & 0 & -1\\\\0 & 0 & 0 & 1 & -1 & -1 & 0 & 0\\end{matrix}\\right] = \\left[\\begin{matrix}1 & 0 & 0 & 0 & 0 & -1 & -1 & 0\\\\0 & 1 & 0 & 0 & -1 & -1 & -1 & 0\\\\0 & 0 & 1 & 0 & c_{2} + 2 & c_{2} + 1 & c_{2} & -1\\\\0 & 0 & 0 & 1 & -1 & -1 & 0 & 0\\end{matrix}\\right]$"
      ],
      "text/plain": [
       "Eq(Matrix([\n",
       "[1, 0, 0, 0,  0, -1, -1, d0],\n",
       "[0, 1, 0, 0, -1, -1, -1, d1],\n",
       "[0, 0, 1, 0,  2,  1,  0, -1],\n",
       "[0, 0, 0, 1, -1, -1,  0,  0]]), Matrix([\n",
       "[1, 0, 0, 0,      0,     -1, -1,  0],\n",
       "[0, 1, 0, 0,     -1,     -1, -1,  0],\n",
       "[0, 0, 1, 0, c2 + 2, c2 + 1, c2, -1],\n",
       "[0, 0, 0, 1,     -1,     -1,  0,  0]]))"
      ]
     },
     "metadata": {},
     "output_type": "display_data"
    },
    {
     "data": {
      "text/latex": [
       "$\\displaystyle \\text{True}$"
      ],
      "text/plain": [
       "True"
      ]
     },
     "execution_count": 129,
     "metadata": {},
     "output_type": "execute_result"
    }
   ],
   "source": [
    "i, j = 3, 10\n",
    "display(sp.Eq(fans[i], fans[j], evaluate=False))\n",
    "sp.Eq(fans[i].subs(d0,0).subs(d1,0), fans[j].subs(c2,0))"
   ]
  },
  {
   "cell_type": "markdown",
   "id": "b9f412ee-9df7-4b68-ae3a-36248e477333",
   "metadata": {
    "jp-MarkdownHeadingCollapsed": true
   },
   "source": [
    "### fan 5 ($c_2=-2$, $d_1=0$, $d_3=0$)"
   ]
  },
  {
   "cell_type": "code",
   "execution_count": 130,
   "id": "655903ef-59be-40a8-b800-639756accf53",
   "metadata": {},
   "outputs": [
    {
     "data": {
      "text/latex": [
       "$\\displaystyle \\left[\\begin{matrix}1 & 0 & 0 & 0 & 0 & -1 & -1 & 0\\\\0 & 1 & 0 & 0 & -1 & d_{1} - 1 & 2 d_{1} - 1 & d_{1}\\\\0 & 0 & 1 & 0 & 0 & -1 & -2 & -1\\\\0 & 0 & 0 & 1 & -1 & d_{3} - 1 & 2 d_{3} & d_{3}\\end{matrix}\\right] = \\left[\\begin{matrix}1 & 0 & 0 & 0 & 0 & -1 & -1 & 0\\\\0 & 1 & 0 & 0 & -1 & -1 & -1 & 0\\\\0 & 0 & 1 & 0 & c_{2} + 2 & c_{2} + 1 & c_{2} & -1\\\\0 & 0 & 0 & 1 & -1 & -1 & 0 & 0\\end{matrix}\\right]$"
      ],
      "text/plain": [
       "Eq(Matrix([\n",
       "[1, 0, 0, 0,  0,     -1,       -1,  0],\n",
       "[0, 1, 0, 0, -1, d1 - 1, 2*d1 - 1, d1],\n",
       "[0, 0, 1, 0,  0,     -1,       -2, -1],\n",
       "[0, 0, 0, 1, -1, d3 - 1,     2*d3, d3]]), Matrix([\n",
       "[1, 0, 0, 0,      0,     -1, -1,  0],\n",
       "[0, 1, 0, 0,     -1,     -1, -1,  0],\n",
       "[0, 0, 1, 0, c2 + 2, c2 + 1, c2, -1],\n",
       "[0, 0, 0, 1,     -1,     -1,  0,  0]]))"
      ]
     },
     "metadata": {},
     "output_type": "display_data"
    },
    {
     "data": {
      "text/latex": [
       "$\\displaystyle \\text{True}$"
      ],
      "text/plain": [
       "True"
      ]
     },
     "execution_count": 130,
     "metadata": {},
     "output_type": "execute_result"
    }
   ],
   "source": [
    "i, j = 5, 10\n",
    "display(sp.Eq(fans[i], fans[j], evaluate=False))\n",
    "sp.Eq(fans[i].subs(d1,0).subs(d3,0), fans[j].subs(c2,-2))"
   ]
  },
  {
   "cell_type": "markdown",
   "id": "a0017476-e80a-4d28-930f-4f05e88ca8b1",
   "metadata": {
    "jp-MarkdownHeadingCollapsed": true
   },
   "source": [
    "### fan 7 ($c_2=-1$, $d_0=0$, $d_1=0$, $d_3=0$)"
   ]
  },
  {
   "cell_type": "code",
   "execution_count": 131,
   "id": "f198818c-118a-4498-a206-9a3ad028ec1c",
   "metadata": {},
   "outputs": [
    {
     "data": {
      "text/latex": [
       "$\\displaystyle \\left[\\begin{matrix}1 & 0 & 0 & 0 & 0 & -1 & d_{0} - 1 & d_{0}\\\\0 & 1 & 0 & 0 & -1 & -1 & d_{1} - 1 & d_{1}\\\\0 & 0 & 1 & 0 & 1 & 0 & -1 & -1\\\\0 & 0 & 0 & 1 & -1 & -1 & d_{3} & d_{3}\\end{matrix}\\right] = \\left[\\begin{matrix}1 & 0 & 0 & 0 & 0 & -1 & -1 & 0\\\\0 & 1 & 0 & 0 & -1 & -1 & -1 & 0\\\\0 & 0 & 1 & 0 & c_{2} + 2 & c_{2} + 1 & c_{2} & -1\\\\0 & 0 & 0 & 1 & -1 & -1 & 0 & 0\\end{matrix}\\right]$"
      ],
      "text/plain": [
       "Eq(Matrix([\n",
       "[1, 0, 0, 0,  0, -1, d0 - 1, d0],\n",
       "[0, 1, 0, 0, -1, -1, d1 - 1, d1],\n",
       "[0, 0, 1, 0,  1,  0,     -1, -1],\n",
       "[0, 0, 0, 1, -1, -1,     d3, d3]]), Matrix([\n",
       "[1, 0, 0, 0,      0,     -1, -1,  0],\n",
       "[0, 1, 0, 0,     -1,     -1, -1,  0],\n",
       "[0, 0, 1, 0, c2 + 2, c2 + 1, c2, -1],\n",
       "[0, 0, 0, 1,     -1,     -1,  0,  0]]))"
      ]
     },
     "metadata": {},
     "output_type": "display_data"
    },
    {
     "data": {
      "text/latex": [
       "$\\displaystyle \\text{True}$"
      ],
      "text/plain": [
       "True"
      ]
     },
     "execution_count": 131,
     "metadata": {},
     "output_type": "execute_result"
    }
   ],
   "source": [
    "i, j = 7, 10\n",
    "display(sp.Eq(fans[i], fans[j], evaluate=False))\n",
    "sp.Eq(fans[i].subs(d0,0).subs(d1,0).subs(d3,0), fans[j].subs(c2,-1))"
   ]
  },
  {
   "cell_type": "markdown",
   "id": "4b55b94e-c5fa-467a-a0db-c34189972092",
   "metadata": {},
   "source": [
    "## fan 11"
   ]
  },
  {
   "cell_type": "markdown",
   "id": "2b25b6f9-38ea-4b3c-8aaf-fd58ae165ef0",
   "metadata": {
    "jp-MarkdownHeadingCollapsed": true
   },
   "source": [
    "### fan 3 ($c_2=0$, $c_3=0$, $d_0=1$, $d_1=1$)"
   ]
  },
  {
   "cell_type": "code",
   "execution_count": 132,
   "id": "3ec6d1a0-53d1-4341-8e1d-22c980c51764",
   "metadata": {},
   "outputs": [
    {
     "data": {
      "text/latex": [
       "$\\displaystyle \\left[\\begin{matrix}1 & 0 & 0 & 0 & 0 & -1 & -1 & d_{0}\\\\0 & 1 & 0 & 0 & -1 & -1 & -1 & d_{1}\\\\0 & 0 & 1 & 0 & 2 & 1 & 0 & -1\\\\0 & 0 & 0 & 1 & -1 & -1 & 0 & 0\\end{matrix}\\right] = \\left[\\begin{matrix}1 & 0 & 0 & 0 & 0 & -1 & - c_{2} - 1 & 1\\\\0 & 1 & 0 & 0 & -1 & -1 & - c_{2} - 1 & 1\\\\0 & 0 & 1 & 0 & 2 & 1 & c_{2} & -1\\\\0 & 0 & 0 & 1 & -1 & -1 & c_{3} & 0\\end{matrix}\\right]$"
      ],
      "text/plain": [
       "Eq(Matrix([\n",
       "[1, 0, 0, 0,  0, -1, -1, d0],\n",
       "[0, 1, 0, 0, -1, -1, -1, d1],\n",
       "[0, 0, 1, 0,  2,  1,  0, -1],\n",
       "[0, 0, 0, 1, -1, -1,  0,  0]]), Matrix([\n",
       "[1, 0, 0, 0,  0, -1, -c2 - 1,  1],\n",
       "[0, 1, 0, 0, -1, -1, -c2 - 1,  1],\n",
       "[0, 0, 1, 0,  2,  1,      c2, -1],\n",
       "[0, 0, 0, 1, -1, -1,      c3,  0]]))"
      ]
     },
     "metadata": {},
     "output_type": "display_data"
    },
    {
     "data": {
      "text/latex": [
       "$\\displaystyle \\text{True}$"
      ],
      "text/plain": [
       "True"
      ]
     },
     "execution_count": 132,
     "metadata": {},
     "output_type": "execute_result"
    }
   ],
   "source": [
    "i, j = 3, 11\n",
    "display(sp.Eq(fans[i], fans[j], evaluate=False))\n",
    "sp.Eq(fans[i].subs(d0,1).subs(d1,1), fans[j].subs(c2,0).subs(c3,0))"
   ]
  },
  {
   "cell_type": "markdown",
   "id": "731d5d95-5b48-4532-a034-38fc6335620f",
   "metadata": {
    "jp-MarkdownHeadingCollapsed": true
   },
   "source": [
    "### fan 12 ($a_2=2$, $c_2=-1$, $c_3=0$)"
   ]
  },
  {
   "cell_type": "code",
   "execution_count": 133,
   "id": "b22f24b3-5457-4bff-bb8a-76ea7b50b348",
   "metadata": {},
   "outputs": [
    {
     "data": {
      "text/latex": [
       "$\\displaystyle \\left[\\begin{matrix}1 & 0 & 0 & 0 & 0 & -1 & - c_{2} - 1 & 1\\\\0 & 1 & 0 & 0 & -1 & -1 & - c_{2} - 1 & 1\\\\0 & 0 & 1 & 0 & 2 & 1 & c_{2} & -1\\\\0 & 0 & 0 & 1 & -1 & -1 & c_{3} & 0\\end{matrix}\\right] = \\left[\\begin{matrix}1 & 0 & 0 & 0 & 0 & -1 & 0 & 1\\\\0 & 1 & 0 & 0 & -1 & -1 & 0 & 1\\\\0 & 0 & 1 & 0 & a_{2} & a_{2} - 1 & -1 & -1\\\\0 & 0 & 0 & 1 & -1 & -1 & 0 & 0\\end{matrix}\\right]$"
      ],
      "text/plain": [
       "Eq(Matrix([\n",
       "[1, 0, 0, 0,  0, -1, -c2 - 1,  1],\n",
       "[0, 1, 0, 0, -1, -1, -c2 - 1,  1],\n",
       "[0, 0, 1, 0,  2,  1,      c2, -1],\n",
       "[0, 0, 0, 1, -1, -1,      c3,  0]]), Matrix([\n",
       "[1, 0, 0, 0,  0,     -1,  0,  1],\n",
       "[0, 1, 0, 0, -1,     -1,  0,  1],\n",
       "[0, 0, 1, 0, a2, a2 - 1, -1, -1],\n",
       "[0, 0, 0, 1, -1,     -1,  0,  0]]))"
      ]
     },
     "metadata": {},
     "output_type": "display_data"
    },
    {
     "data": {
      "text/latex": [
       "$\\displaystyle \\text{True}$"
      ],
      "text/plain": [
       "True"
      ]
     },
     "execution_count": 133,
     "metadata": {},
     "output_type": "execute_result"
    }
   ],
   "source": [
    "i, j = 11, 12\n",
    "display(sp.Eq(fans[i], fans[j], evaluate=False))\n",
    "sp.Eq(fans[i].subs(c2,-1).subs(c3,0), fans[j].subs(a2,2))"
   ]
  },
  {
   "cell_type": "markdown",
   "id": "9f2588a4-9e7b-498f-bd2b-40ecd4173e93",
   "metadata": {
    "jp-MarkdownHeadingCollapsed": true
   },
   "source": [
    "## fan 12"
   ]
  },
  {
   "cell_type": "markdown",
   "id": "c0cbf8c8-3cb6-429b-8c3b-612decfdf1d7",
   "metadata": {
    "jp-MarkdownHeadingCollapsed": true
   },
   "source": [
    "### fan 4 ($a_2=0$, $d_1=1$, $d_3=0$)"
   ]
  },
  {
   "cell_type": "code",
   "execution_count": 134,
   "id": "f2ecac73-09c9-4fc7-978d-6c60f93405c6",
   "metadata": {},
   "outputs": [
    {
     "data": {
      "text/latex": [
       "$\\displaystyle \\left[\\begin{matrix}1 & 0 & 0 & 0 & 0 & -1 & 0 & 1\\\\0 & 1 & 0 & 0 & -1 & d_{1} - 2 & d_{1} - 1 & d_{1}\\\\0 & 0 & 1 & 0 & 0 & -1 & -1 & -1\\\\0 & 0 & 0 & 1 & -1 & d_{3} - 1 & d_{3} & d_{3}\\end{matrix}\\right] = \\left[\\begin{matrix}1 & 0 & 0 & 0 & 0 & -1 & 0 & 1\\\\0 & 1 & 0 & 0 & -1 & -1 & 0 & 1\\\\0 & 0 & 1 & 0 & a_{2} & a_{2} - 1 & -1 & -1\\\\0 & 0 & 0 & 1 & -1 & -1 & 0 & 0\\end{matrix}\\right]$"
      ],
      "text/plain": [
       "Eq(Matrix([\n",
       "[1, 0, 0, 0,  0,     -1,      0,  1],\n",
       "[0, 1, 0, 0, -1, d1 - 2, d1 - 1, d1],\n",
       "[0, 0, 1, 0,  0,     -1,     -1, -1],\n",
       "[0, 0, 0, 1, -1, d3 - 1,     d3, d3]]), Matrix([\n",
       "[1, 0, 0, 0,  0,     -1,  0,  1],\n",
       "[0, 1, 0, 0, -1,     -1,  0,  1],\n",
       "[0, 0, 1, 0, a2, a2 - 1, -1, -1],\n",
       "[0, 0, 0, 1, -1,     -1,  0,  0]]))"
      ]
     },
     "metadata": {},
     "output_type": "display_data"
    },
    {
     "data": {
      "text/latex": [
       "$\\displaystyle \\text{True}$"
      ],
      "text/plain": [
       "True"
      ]
     },
     "execution_count": 134,
     "metadata": {},
     "output_type": "execute_result"
    }
   ],
   "source": [
    "i, j = 4, 12\n",
    "display(sp.Eq(fans[i], fans[j], evaluate=False))\n",
    "sp.Eq(fans[i].subs(d1,1).subs(d3,0), fans[j].subs(a2,0))"
   ]
  },
  {
   "cell_type": "markdown",
   "id": "93293963-58f9-479d-9323-9ce961caa4ab",
   "metadata": {
    "jp-MarkdownHeadingCollapsed": true
   },
   "source": [
    "### fan 7 ($a_2=1$, $d_0=1$, $d_1=1$, $d_3=0$)"
   ]
  },
  {
   "cell_type": "code",
   "execution_count": 135,
   "id": "22d84079-4745-42ba-904a-dfca18c59948",
   "metadata": {},
   "outputs": [
    {
     "data": {
      "text/latex": [
       "$\\displaystyle \\left[\\begin{matrix}1 & 0 & 0 & 0 & 0 & -1 & d_{0} - 1 & d_{0}\\\\0 & 1 & 0 & 0 & -1 & -1 & d_{1} - 1 & d_{1}\\\\0 & 0 & 1 & 0 & 1 & 0 & -1 & -1\\\\0 & 0 & 0 & 1 & -1 & -1 & d_{3} & d_{3}\\end{matrix}\\right] = \\left[\\begin{matrix}1 & 0 & 0 & 0 & 0 & -1 & 0 & 1\\\\0 & 1 & 0 & 0 & -1 & -1 & 0 & 1\\\\0 & 0 & 1 & 0 & a_{2} & a_{2} - 1 & -1 & -1\\\\0 & 0 & 0 & 1 & -1 & -1 & 0 & 0\\end{matrix}\\right]$"
      ],
      "text/plain": [
       "Eq(Matrix([\n",
       "[1, 0, 0, 0,  0, -1, d0 - 1, d0],\n",
       "[0, 1, 0, 0, -1, -1, d1 - 1, d1],\n",
       "[0, 0, 1, 0,  1,  0,     -1, -1],\n",
       "[0, 0, 0, 1, -1, -1,     d3, d3]]), Matrix([\n",
       "[1, 0, 0, 0,  0,     -1,  0,  1],\n",
       "[0, 1, 0, 0, -1,     -1,  0,  1],\n",
       "[0, 0, 1, 0, a2, a2 - 1, -1, -1],\n",
       "[0, 0, 0, 1, -1,     -1,  0,  0]]))"
      ]
     },
     "metadata": {},
     "output_type": "display_data"
    },
    {
     "data": {
      "text/latex": [
       "$\\displaystyle \\text{True}$"
      ],
      "text/plain": [
       "True"
      ]
     },
     "execution_count": 135,
     "metadata": {},
     "output_type": "execute_result"
    }
   ],
   "source": [
    "i, j = 7, 12\n",
    "display(sp.Eq(fans[i], fans[j], evaluate=False))\n",
    "sp.Eq(fans[i].subs(d0,1).subs(d1,1).subs(d3,0), fans[j].subs(a2,1))"
   ]
  },
  {
   "cell_type": "markdown",
   "id": "79c57f34-be05-4f41-b8b7-07fbe1ff9845",
   "metadata": {
    "jp-MarkdownHeadingCollapsed": true
   },
   "source": [
    "### fan 11 ($a_2=2$, $c_2=-1$, $c_3=0$)"
   ]
  },
  {
   "cell_type": "code",
   "execution_count": 136,
   "id": "b95bfaa1-3946-4fa0-9a76-b1ce7ee7eae7",
   "metadata": {},
   "outputs": [
    {
     "data": {
      "text/latex": [
       "$\\displaystyle \\left[\\begin{matrix}1 & 0 & 0 & 0 & 0 & -1 & - c_{2} - 1 & 1\\\\0 & 1 & 0 & 0 & -1 & -1 & - c_{2} - 1 & 1\\\\0 & 0 & 1 & 0 & 2 & 1 & c_{2} & -1\\\\0 & 0 & 0 & 1 & -1 & -1 & c_{3} & 0\\end{matrix}\\right] = \\left[\\begin{matrix}1 & 0 & 0 & 0 & 0 & -1 & 0 & 1\\\\0 & 1 & 0 & 0 & -1 & -1 & 0 & 1\\\\0 & 0 & 1 & 0 & a_{2} & a_{2} - 1 & -1 & -1\\\\0 & 0 & 0 & 1 & -1 & -1 & 0 & 0\\end{matrix}\\right]$"
      ],
      "text/plain": [
       "Eq(Matrix([\n",
       "[1, 0, 0, 0,  0, -1, -c2 - 1,  1],\n",
       "[0, 1, 0, 0, -1, -1, -c2 - 1,  1],\n",
       "[0, 0, 1, 0,  2,  1,      c2, -1],\n",
       "[0, 0, 0, 1, -1, -1,      c3,  0]]), Matrix([\n",
       "[1, 0, 0, 0,  0,     -1,  0,  1],\n",
       "[0, 1, 0, 0, -1,     -1,  0,  1],\n",
       "[0, 0, 1, 0, a2, a2 - 1, -1, -1],\n",
       "[0, 0, 0, 1, -1,     -1,  0,  0]]))"
      ]
     },
     "metadata": {},
     "output_type": "display_data"
    },
    {
     "data": {
      "text/latex": [
       "$\\displaystyle \\text{True}$"
      ],
      "text/plain": [
       "True"
      ]
     },
     "execution_count": 136,
     "metadata": {},
     "output_type": "execute_result"
    }
   ],
   "source": [
    "i, j = 11, 12\n",
    "display(sp.Eq(fans[i], fans[j], evaluate=False))\n",
    "sp.Eq(fans[i].subs(c2,-1).subs(c3,0), fans[j].subs(a2,2))"
   ]
  },
  {
   "cell_type": "markdown",
   "id": "a2b67978-4012-473d-8c9a-9a325621d770",
   "metadata": {
    "jp-MarkdownHeadingCollapsed": true
   },
   "source": [
    "# There are 3 types of fans up to D-J equivalence and symmetry"
   ]
  },
  {
   "cell_type": "code",
   "execution_count": 137,
   "id": "70e9cedb-e680-40f0-9110-f17bf7a7017a",
   "metadata": {},
   "outputs": [
    {
     "data": {
      "text/plain": [
       "[[1, 2, 3, 4, 5, 6, 7, 8],\n",
       " [1, 6, 7, 4, 8, 2, 3, 5],\n",
       " [2, 1, 5, 6, 3, 4, 7, 8],\n",
       " [2, 4, 7, 6, 8, 1, 5, 3],\n",
       " [4, 2, 8, 1, 7, 6, 5, 3],\n",
       " [4, 6, 5, 1, 3, 2, 8, 7],\n",
       " [6, 1, 8, 2, 7, 4, 3, 5],\n",
       " [6, 4, 3, 2, 5, 1, 8, 7]]"
      ]
     },
     "execution_count": 137,
     "metadata": {},
     "output_type": "execute_result"
    }
   ],
   "source": [
    "K.symmetries"
   ]
  },
  {
   "cell_type": "code",
   "execution_count": 138,
   "id": "dc1d1915-aca7-4e7a-8e07-6a1651ca2317",
   "metadata": {},
   "outputs": [],
   "source": [
    "symm_index = [(np.array(i)-1).tolist() for i in K.symmetries]"
   ]
  },
  {
   "cell_type": "markdown",
   "id": "416a2988-76cb-4865-8095-5f9256642b38",
   "metadata": {
    "jp-MarkdownHeadingCollapsed": true
   },
   "source": [
    "## types 0, 1, 2, 3, 4, 5, 6, 11"
   ]
  },
  {
   "cell_type": "code",
   "execution_count": 139,
   "id": "0982a5be-1408-433a-90a4-066093a7c342",
   "metadata": {},
   "outputs": [
    {
     "data": {
      "text/latex": [
       "$\\displaystyle \\left[\\begin{matrix}1 & 0 & 0 & 0 & 0 & -1 & -1 & a_{0} - a_{2} + 1\\\\0 & 1 & 0 & 0 & -1 & -1 & -1 & 1 - a_{2}\\\\0 & 0 & 1 & 0 & 2 & 1 & 0 & -1\\\\0 & 0 & 0 & 1 & -1 & -1 & 0 & 0\\end{matrix}\\right]$"
      ],
      "text/plain": [
       "Matrix([\n",
       "[1, 0, 0, 0,  0, -1, -1, a0 - a2 + 1],\n",
       "[0, 1, 0, 0, -1, -1, -1,      1 - a2],\n",
       "[0, 0, 1, 0,  2,  1,  0,          -1],\n",
       "[0, 0, 0, 1, -1, -1,  0,           0]])"
      ]
     },
     "metadata": {},
     "output_type": "display_data"
    },
    {
     "data": {
      "text/latex": [
       "$\\displaystyle \\left[\\begin{matrix}1 & 0 & 0 & 0 & 0 & -1 & -1 & d_{0}\\\\0 & 1 & 0 & 0 & -1 & -1 & -1 & d_{1}\\\\0 & 0 & 1 & 0 & 2 & 1 & 0 & -1\\\\0 & 0 & 0 & 1 & -1 & -1 & 0 & 0\\end{matrix}\\right]$"
      ],
      "text/plain": [
       "Matrix([\n",
       "[1, 0, 0, 0,  0, -1, -1, d0],\n",
       "[0, 1, 0, 0, -1, -1, -1, d1],\n",
       "[0, 0, 1, 0,  2,  1,  0, -1],\n",
       "[0, 0, 0, 1, -1, -1,  0,  0]])"
      ]
     },
     "metadata": {},
     "output_type": "display_data"
    }
   ],
   "source": [
    "display(fans[0][:, symm_index[1]].rref()[0])\n",
    "display(fans[3])"
   ]
  },
  {
   "cell_type": "code",
   "execution_count": 140,
   "id": "a4b9d2e4-fa1a-4232-8c10-88cff07fb4f2",
   "metadata": {},
   "outputs": [
    {
     "data": {
      "text/latex": [
       "$\\displaystyle \\left[\\begin{matrix}1 & 0 & 0 & 0 & 0 & -1 & 0 & 1\\\\0 & 1 & 0 & 0 & -1 & a_{0} - a_{2} & a_{0} - a_{2} + 1 & a_{0} - a_{2} + 2\\\\0 & 0 & 1 & 0 & 0 & -1 & -1 & -1\\\\0 & 0 & 0 & 1 & -1 & - a_{2} & 1 - a_{2} & 1 - a_{2}\\end{matrix}\\right]$"
      ],
      "text/plain": [
       "Matrix([\n",
       "[1, 0, 0, 0,  0,      -1,           0,           1],\n",
       "[0, 1, 0, 0, -1, a0 - a2, a0 - a2 + 1, a0 - a2 + 2],\n",
       "[0, 0, 1, 0,  0,      -1,          -1,          -1],\n",
       "[0, 0, 0, 1, -1,     -a2,      1 - a2,      1 - a2]])"
      ]
     },
     "metadata": {},
     "output_type": "display_data"
    },
    {
     "data": {
      "text/latex": [
       "$\\displaystyle \\left[\\begin{matrix}1 & 0 & 0 & 0 & 0 & -1 & 0 & 1\\\\0 & 1 & 0 & 0 & -1 & d_{1} - 2 & d_{1} - 1 & d_{1}\\\\0 & 0 & 1 & 0 & 0 & -1 & -1 & -1\\\\0 & 0 & 0 & 1 & -1 & d_{3} - 1 & d_{3} & d_{3}\\end{matrix}\\right]$"
      ],
      "text/plain": [
       "Matrix([\n",
       "[1, 0, 0, 0,  0,     -1,      0,  1],\n",
       "[0, 1, 0, 0, -1, d1 - 2, d1 - 1, d1],\n",
       "[0, 0, 1, 0,  0,     -1,     -1, -1],\n",
       "[0, 0, 0, 1, -1, d3 - 1,     d3, d3]])"
      ]
     },
     "metadata": {},
     "output_type": "display_data"
    }
   ],
   "source": [
    "display(fans[0][:, symm_index[2]].rref()[0])\n",
    "display(fans[4])"
   ]
  },
  {
   "cell_type": "code",
   "execution_count": 141,
   "id": "86f961b1-1261-498b-be53-692765c4e54e",
   "metadata": {},
   "outputs": [
    {
     "data": {
      "text/latex": [
       "$\\displaystyle \\left[\\begin{matrix}1 & 0 & 0 & 0 & 0 & -1 & - a_{0} + a_{2} - 1 & 1\\\\0 & 1 & 0 & 0 & -1 & -1 & - a_{0} + a_{2} - 1 & 1\\\\0 & 0 & 1 & 0 & 2 & 1 & a_{0} - a_{2} & -1\\\\0 & 0 & 0 & 1 & -1 & -1 & - a_{0} & 0\\end{matrix}\\right]$"
      ],
      "text/plain": [
       "Matrix([\n",
       "[1, 0, 0, 0,  0, -1, -a0 + a2 - 1,  1],\n",
       "[0, 1, 0, 0, -1, -1, -a0 + a2 - 1,  1],\n",
       "[0, 0, 1, 0,  2,  1,      a0 - a2, -1],\n",
       "[0, 0, 0, 1, -1, -1,          -a0,  0]])"
      ]
     },
     "metadata": {},
     "output_type": "display_data"
    },
    {
     "data": {
      "text/latex": [
       "$\\displaystyle \\left[\\begin{matrix}1 & 0 & 0 & 0 & 0 & -1 & - c_{2} - 1 & 1\\\\0 & 1 & 0 & 0 & -1 & -1 & - c_{2} - 1 & 1\\\\0 & 0 & 1 & 0 & 2 & 1 & c_{2} & -1\\\\0 & 0 & 0 & 1 & -1 & -1 & c_{3} & 0\\end{matrix}\\right]$"
      ],
      "text/plain": [
       "Matrix([\n",
       "[1, 0, 0, 0,  0, -1, -c2 - 1,  1],\n",
       "[0, 1, 0, 0, -1, -1, -c2 - 1,  1],\n",
       "[0, 0, 1, 0,  2,  1,      c2, -1],\n",
       "[0, 0, 0, 1, -1, -1,      c3,  0]])"
      ]
     },
     "metadata": {},
     "output_type": "display_data"
    }
   ],
   "source": [
    "display(fans[0][:, symm_index[3]].rref()[0])\n",
    "display(fans[11])"
   ]
  },
  {
   "cell_type": "code",
   "execution_count": 142,
   "id": "55e88e5b-9543-4c60-bcba-1f33c43dd9d5",
   "metadata": {},
   "outputs": [
    {
     "data": {
      "text/latex": [
       "$\\displaystyle \\left[\\begin{matrix}1 & 0 & 0 & 0 & 0 & -1 & a_{2} - 1 & 1\\\\0 & 1 & 0 & 0 & -1 & -2 & 2 a_{2} - 1 & 2\\\\0 & 0 & 1 & 0 & 1 & 1 & - a_{2} & -1\\\\0 & 0 & 0 & 1 & -1 & -2 & a_{0} + a_{2} & 1\\end{matrix}\\right]$"
      ],
      "text/plain": [
       "Matrix([\n",
       "[1, 0, 0, 0,  0, -1,   a2 - 1,  1],\n",
       "[0, 1, 0, 0, -1, -2, 2*a2 - 1,  2],\n",
       "[0, 0, 1, 0,  1,  1,      -a2, -1],\n",
       "[0, 0, 0, 1, -1, -2,  a0 + a2,  1]])"
      ]
     },
     "metadata": {},
     "output_type": "display_data"
    },
    {
     "data": {
      "text/latex": [
       "$\\displaystyle \\left[\\begin{matrix}1 & 0 & 0 & 0 & 0 & -1 & - c_{2} - 1 & 1\\\\0 & 1 & 0 & 0 & -1 & -2 & - 2 c_{2} - 1 & 2\\\\0 & 0 & 1 & 0 & 1 & 1 & c_{2} & -1\\\\0 & 0 & 0 & 1 & -1 & -2 & c_{3} & 1\\end{matrix}\\right]$"
      ],
      "text/plain": [
       "Matrix([\n",
       "[1, 0, 0, 0,  0, -1,   -c2 - 1,  1],\n",
       "[0, 1, 0, 0, -1, -2, -2*c2 - 1,  2],\n",
       "[0, 0, 1, 0,  1,  1,        c2, -1],\n",
       "[0, 0, 0, 1, -1, -2,        c3,  1]])"
      ]
     },
     "metadata": {},
     "output_type": "display_data"
    }
   ],
   "source": [
    "display(fans[0][:, symm_index[4]].rref()[0])\n",
    "display(fans[6])"
   ]
  },
  {
   "cell_type": "code",
   "execution_count": 143,
   "id": "d3eeb22c-f8ec-42d1-b028-cafa52202822",
   "metadata": {},
   "outputs": [
    {
     "data": {
      "text/latex": [
       "$\\displaystyle \\left[\\begin{matrix}1 & 0 & 0 & 0 & 0 & -1 & -1 & 0\\\\0 & 1 & 0 & 0 & -1 & - a_{2} & 1 - 2 a_{2} & 1 - a_{2}\\\\0 & 0 & 1 & 0 & 0 & -1 & -2 & -1\\\\0 & 0 & 0 & 1 & -1 & a_{0} - a_{2} & 2 a_{0} - 2 a_{2} + 2 & a_{0} - a_{2} + 1\\end{matrix}\\right]$"
      ],
      "text/plain": [
       "Matrix([\n",
       "[1, 0, 0, 0,  0,      -1,              -1,           0],\n",
       "[0, 1, 0, 0, -1,     -a2,        1 - 2*a2,      1 - a2],\n",
       "[0, 0, 1, 0,  0,      -1,              -2,          -1],\n",
       "[0, 0, 0, 1, -1, a0 - a2, 2*a0 - 2*a2 + 2, a0 - a2 + 1]])"
      ]
     },
     "metadata": {},
     "output_type": "display_data"
    },
    {
     "data": {
      "text/latex": [
       "$\\displaystyle \\left[\\begin{matrix}1 & 0 & 0 & 0 & 0 & -1 & -1 & 0\\\\0 & 1 & 0 & 0 & -1 & d_{1} - 1 & 2 d_{1} - 1 & d_{1}\\\\0 & 0 & 1 & 0 & 0 & -1 & -2 & -1\\\\0 & 0 & 0 & 1 & -1 & d_{3} - 1 & 2 d_{3} & d_{3}\\end{matrix}\\right]$"
      ],
      "text/plain": [
       "Matrix([\n",
       "[1, 0, 0, 0,  0,     -1,       -1,  0],\n",
       "[0, 1, 0, 0, -1, d1 - 1, 2*d1 - 1, d1],\n",
       "[0, 0, 1, 0,  0,     -1,       -2, -1],\n",
       "[0, 0, 0, 1, -1, d3 - 1,     2*d3, d3]])"
      ]
     },
     "metadata": {},
     "output_type": "display_data"
    }
   ],
   "source": [
    "display(fans[0][:, symm_index[5]].rref()[0])\n",
    "display(fans[5])"
   ]
  },
  {
   "cell_type": "code",
   "execution_count": 144,
   "id": "055c675d-6061-47d7-a1dc-5fcb3168c51b",
   "metadata": {},
   "outputs": [
    {
     "data": {
      "text/latex": [
       "$\\displaystyle \\left[\\begin{matrix}1 & 0 & 0 & 0 & 0 & -1 & -1 & 1 - a_{2}\\\\0 & 1 & 0 & 0 & -1 & -2 & -1 & a_{0} - a_{2} + 2\\\\0 & 0 & 1 & 0 & 1 & 1 & 0 & -1\\\\0 & 0 & 0 & 1 & -1 & -2 & 0 & 1\\end{matrix}\\right]$"
      ],
      "text/plain": [
       "Matrix([\n",
       "[1, 0, 0, 0,  0, -1, -1,      1 - a2],\n",
       "[0, 1, 0, 0, -1, -2, -1, a0 - a2 + 2],\n",
       "[0, 0, 1, 0,  1,  1,  0,          -1],\n",
       "[0, 0, 0, 1, -1, -2,  0,           1]])"
      ]
     },
     "metadata": {},
     "output_type": "display_data"
    },
    {
     "data": {
      "text/latex": [
       "$\\displaystyle \\left[\\begin{matrix}1 & 0 & 0 & 0 & 0 & -1 & -1 & d_{0}\\\\0 & 1 & 0 & 0 & -1 & -2 & -1 & d_{1}\\\\0 & 0 & 1 & 0 & 1 & 1 & 0 & -1\\\\0 & 0 & 0 & 1 & -1 & -2 & 0 & 1\\end{matrix}\\right]$"
      ],
      "text/plain": [
       "Matrix([\n",
       "[1, 0, 0, 0,  0, -1, -1, d0],\n",
       "[0, 1, 0, 0, -1, -2, -1, d1],\n",
       "[0, 0, 1, 0,  1,  1,  0, -1],\n",
       "[0, 0, 0, 1, -1, -2,  0,  1]])"
      ]
     },
     "metadata": {},
     "output_type": "display_data"
    }
   ],
   "source": [
    "display(fans[0][:, symm_index[6]].rref()[0])\n",
    "display(fans[2])"
   ]
  },
  {
   "cell_type": "code",
   "execution_count": 145,
   "id": "8f43816d-6c0c-4ab4-8036-a00eb414a037",
   "metadata": {},
   "outputs": [
    {
     "data": {
      "text/latex": [
       "$\\displaystyle \\left[\\begin{matrix}1 & 0 & 0 & 0 & - a_{0} & -1 & -1 & 0\\\\0 & 1 & 0 & 0 & -1 & 0 & 1 & 1\\\\0 & 0 & 1 & 0 & - a_{0} + a_{2} & -1 & -2 & -1\\\\0 & 0 & 0 & 1 & -1 & 0 & 2 & 1\\end{matrix}\\right]$"
      ],
      "text/plain": [
       "Matrix([\n",
       "[1, 0, 0, 0,      -a0, -1, -1,  0],\n",
       "[0, 1, 0, 0,       -1,  0,  1,  1],\n",
       "[0, 0, 1, 0, -a0 + a2, -1, -2, -1],\n",
       "[0, 0, 0, 1,       -1,  0,  2,  1]])"
      ]
     },
     "metadata": {},
     "output_type": "display_data"
    },
    {
     "data": {
      "text/latex": [
       "$\\displaystyle \\left[\\begin{matrix}1 & 0 & 0 & 0 & a_{0} & -1 & -1 & 0\\\\0 & 1 & 0 & 0 & -1 & 0 & 1 & 1\\\\0 & 0 & 1 & 0 & a_{2} & -1 & -2 & -1\\\\0 & 0 & 0 & 1 & -1 & 0 & 2 & 1\\end{matrix}\\right]$"
      ],
      "text/plain": [
       "Matrix([\n",
       "[1, 0, 0, 0, a0, -1, -1,  0],\n",
       "[0, 1, 0, 0, -1,  0,  1,  1],\n",
       "[0, 0, 1, 0, a2, -1, -2, -1],\n",
       "[0, 0, 0, 1, -1,  0,  2,  1]])"
      ]
     },
     "metadata": {},
     "output_type": "display_data"
    }
   ],
   "source": [
    "display(fans[0][:, symm_index[7]].rref()[0])\n",
    "display(fans[1])"
   ]
  },
  {
   "cell_type": "markdown",
   "id": "33a32051-bd71-4222-8afc-eb8e9f4c6ff5",
   "metadata": {
    "jp-MarkdownHeadingCollapsed": true
   },
   "source": [
    "## type 7"
   ]
  },
  {
   "cell_type": "code",
   "execution_count": 146,
   "id": "f039ea72-8333-4fbb-85ac-aa5fbcead620",
   "metadata": {},
   "outputs": [
    {
     "data": {
      "text/latex": [
       "$\\displaystyle \\left[\\begin{matrix}1 & 0 & 0 & 0 & 0 & -1 & d_{0} - 1 & d_{0}\\\\0 & 1 & 0 & 0 & -1 & -1 & d_{1} - 1 & d_{1}\\\\0 & 0 & 1 & 0 & 1 & 0 & -1 & -1\\\\0 & 0 & 0 & 1 & -1 & -1 & d_{3} & d_{3}\\end{matrix}\\right]$"
      ],
      "text/plain": [
       "Matrix([\n",
       "[1, 0, 0, 0,  0, -1, d0 - 1, d0],\n",
       "[0, 1, 0, 0, -1, -1, d1 - 1, d1],\n",
       "[0, 0, 1, 0,  1,  0,     -1, -1],\n",
       "[0, 0, 0, 1, -1, -1,     d3, d3]])"
      ]
     },
     "metadata": {},
     "output_type": "display_data"
    },
    {
     "data": {
      "text/latex": [
       "$\\displaystyle \\left[\\begin{matrix}1 & 0 & 0 & 0 & 0 & -1 & d_{0} - d_{1} & d_{0} - d_{1} + 1\\\\0 & 1 & 0 & 0 & -1 & -1 & 1 - d_{1} & 2 - d_{1}\\\\0 & 0 & 1 & 0 & 1 & 0 & -1 & -1\\\\0 & 0 & 0 & 1 & -1 & -1 & - d_{1} + d_{3} + 1 & - d_{1} + d_{3} + 1\\end{matrix}\\right]$"
      ],
      "text/plain": [
       "Matrix([\n",
       "[1, 0, 0, 0,  0, -1,      d0 - d1,  d0 - d1 + 1],\n",
       "[0, 1, 0, 0, -1, -1,       1 - d1,       2 - d1],\n",
       "[0, 0, 1, 0,  1,  0,           -1,           -1],\n",
       "[0, 0, 0, 1, -1, -1, -d1 + d3 + 1, -d1 + d3 + 1]])"
      ]
     },
     "metadata": {},
     "output_type": "display_data"
    },
    {
     "data": {
      "text/latex": [
       "$\\displaystyle \\left[\\begin{matrix}1 & 0 & 0 & 0 & 0 & -1 & d_{1} - d_{3} - 1 & d_{1} - d_{3}\\\\0 & 1 & 0 & 0 & -1 & -1 & d_{0} - d_{3} & d_{0} - d_{3} + 1\\\\0 & 0 & 1 & 0 & 1 & 0 & -1 & -1\\\\0 & 0 & 0 & 1 & -1 & -1 & 1 - d_{3} & 1 - d_{3}\\end{matrix}\\right]$"
      ],
      "text/plain": [
       "Matrix([\n",
       "[1, 0, 0, 0,  0, -1, d1 - d3 - 1,     d1 - d3],\n",
       "[0, 1, 0, 0, -1, -1,     d0 - d3, d0 - d3 + 1],\n",
       "[0, 0, 1, 0,  1,  0,          -1,          -1],\n",
       "[0, 0, 0, 1, -1, -1,      1 - d3,      1 - d3]])"
      ]
     },
     "metadata": {},
     "output_type": "display_data"
    },
    {
     "data": {
      "text/latex": [
       "$\\displaystyle \\left[\\begin{matrix}1 & 0 & 0 & 0 & 0 & -1 & - d_{0} + d_{1} - 1 & - d_{0} + d_{1}\\\\0 & 1 & 0 & 0 & -1 & -1 & - d_{0} + d_{3} & - d_{0} + d_{3} + 1\\\\0 & 0 & 1 & 0 & 1 & 0 & -1 & -1\\\\0 & 0 & 0 & 1 & -1 & -1 & 1 - d_{0} & 1 - d_{0}\\end{matrix}\\right]$"
      ],
      "text/plain": [
       "Matrix([\n",
       "[1, 0, 0, 0,  0, -1, -d0 + d1 - 1,     -d0 + d1],\n",
       "[0, 1, 0, 0, -1, -1,     -d0 + d3, -d0 + d3 + 1],\n",
       "[0, 0, 1, 0,  1,  0,           -1,           -1],\n",
       "[0, 0, 0, 1, -1, -1,       1 - d0,       1 - d0]])"
      ]
     },
     "metadata": {},
     "output_type": "display_data"
    },
    {
     "data": {
      "text/latex": [
       "$\\displaystyle \\left[\\begin{matrix}1 & 0 & 0 & 0 & 0 & -1 & d_{3} - 1 & d_{3}\\\\0 & 1 & 0 & 0 & -1 & -1 & d_{1} - 1 & d_{1}\\\\0 & 0 & 1 & 0 & 1 & 0 & -1 & -1\\\\0 & 0 & 0 & 1 & -1 & -1 & d_{0} & d_{0}\\end{matrix}\\right]$"
      ],
      "text/plain": [
       "Matrix([\n",
       "[1, 0, 0, 0,  0, -1, d3 - 1, d3],\n",
       "[0, 1, 0, 0, -1, -1, d1 - 1, d1],\n",
       "[0, 0, 1, 0,  1,  0,     -1, -1],\n",
       "[0, 0, 0, 1, -1, -1,     d0, d0]])"
      ]
     },
     "metadata": {},
     "output_type": "display_data"
    },
    {
     "data": {
      "text/latex": [
       "$\\displaystyle \\left[\\begin{matrix}1 & 0 & 0 & 0 & 0 & -1 & - d_{1} + d_{3} & - d_{1} + d_{3} + 1\\\\0 & 1 & 0 & 0 & -1 & -1 & 1 - d_{1} & 2 - d_{1}\\\\0 & 0 & 1 & 0 & 1 & 0 & -1 & -1\\\\0 & 0 & 0 & 1 & -1 & -1 & d_{0} - d_{1} + 1 & d_{0} - d_{1} + 1\\end{matrix}\\right]$"
      ],
      "text/plain": [
       "Matrix([\n",
       "[1, 0, 0, 0,  0, -1,    -d1 + d3, -d1 + d3 + 1],\n",
       "[0, 1, 0, 0, -1, -1,      1 - d1,       2 - d1],\n",
       "[0, 0, 1, 0,  1,  0,          -1,           -1],\n",
       "[0, 0, 0, 1, -1, -1, d0 - d1 + 1,  d0 - d1 + 1]])"
      ]
     },
     "metadata": {},
     "output_type": "display_data"
    },
    {
     "data": {
      "text/latex": [
       "$\\displaystyle \\left[\\begin{matrix}1 & 0 & 0 & 0 & 0 & -1 & - d_{3} & 1 - d_{3}\\\\0 & 1 & 0 & 0 & -1 & -1 & d_{0} - d_{3} & d_{0} - d_{3} + 1\\\\0 & 0 & 1 & 0 & 1 & 0 & -1 & -1\\\\0 & 0 & 0 & 1 & -1 & -1 & d_{1} - d_{3} & d_{1} - d_{3}\\end{matrix}\\right]$"
      ],
      "text/plain": [
       "Matrix([\n",
       "[1, 0, 0, 0,  0, -1,     -d3,      1 - d3],\n",
       "[0, 1, 0, 0, -1, -1, d0 - d3, d0 - d3 + 1],\n",
       "[0, 0, 1, 0,  1,  0,      -1,          -1],\n",
       "[0, 0, 0, 1, -1, -1, d1 - d3,     d1 - d3]])"
      ]
     },
     "metadata": {},
     "output_type": "display_data"
    },
    {
     "data": {
      "text/latex": [
       "$\\displaystyle \\left[\\begin{matrix}1 & 0 & 0 & 0 & 0 & -1 & - d_{0} & 1 - d_{0}\\\\0 & 1 & 0 & 0 & -1 & -1 & - d_{0} + d_{3} & - d_{0} + d_{3} + 1\\\\0 & 0 & 1 & 0 & 1 & 0 & -1 & -1\\\\0 & 0 & 0 & 1 & -1 & -1 & - d_{0} + d_{1} & - d_{0} + d_{1}\\end{matrix}\\right]$"
      ],
      "text/plain": [
       "Matrix([\n",
       "[1, 0, 0, 0,  0, -1,      -d0,       1 - d0],\n",
       "[0, 1, 0, 0, -1, -1, -d0 + d3, -d0 + d3 + 1],\n",
       "[0, 0, 1, 0,  1,  0,       -1,           -1],\n",
       "[0, 0, 0, 1, -1, -1, -d0 + d1,     -d0 + d1]])"
      ]
     },
     "metadata": {},
     "output_type": "display_data"
    }
   ],
   "source": [
    "for p in symm_index:\n",
    "    display(fans[7][:, p].rref()[0])"
   ]
  },
  {
   "cell_type": "markdown",
   "id": "0e2b513a-fe62-4a8d-b8bf-1d2e32636669",
   "metadata": {
    "jp-MarkdownHeadingCollapsed": true
   },
   "source": [
    "## types 8, 9, 10, 12"
   ]
  },
  {
   "cell_type": "code",
   "execution_count": 147,
   "id": "baaadb32-f482-40ac-9b5a-e444abdfed3c",
   "metadata": {},
   "outputs": [
    {
     "data": {
      "text/latex": [
       "$\\displaystyle \\left[\\begin{matrix}1 & 0 & 0 & 0 & 0 & -1 & -1 & 0\\\\0 & 1 & 0 & 0 & -1 & -1 & -1 & 0\\\\0 & 0 & 1 & 0 & b_{1} + 2 & b_{1} + 1 & b_{1} & -1\\\\0 & 0 & 0 & 1 & -1 & -1 & 0 & 0\\end{matrix}\\right]$"
      ],
      "text/plain": [
       "Matrix([\n",
       "[1, 0, 0, 0,      0,     -1, -1,  0],\n",
       "[0, 1, 0, 0,     -1,     -1, -1,  0],\n",
       "[0, 0, 1, 0, b1 + 2, b1 + 1, b1, -1],\n",
       "[0, 0, 0, 1,     -1,     -1,  0,  0]])"
      ]
     },
     "metadata": {},
     "output_type": "display_data"
    },
    {
     "data": {
      "text/latex": [
       "$\\displaystyle \\left[\\begin{matrix}1 & 0 & 0 & 0 & 0 & -1 & -1 & 0\\\\0 & 1 & 0 & 0 & -1 & -1 & -1 & 0\\\\0 & 0 & 1 & 0 & c_{2} + 2 & c_{2} + 1 & c_{2} & -1\\\\0 & 0 & 0 & 1 & -1 & -1 & 0 & 0\\end{matrix}\\right]$"
      ],
      "text/plain": [
       "Matrix([\n",
       "[1, 0, 0, 0,      0,     -1, -1,  0],\n",
       "[0, 1, 0, 0,     -1,     -1, -1,  0],\n",
       "[0, 0, 1, 0, c2 + 2, c2 + 1, c2, -1],\n",
       "[0, 0, 0, 1,     -1,     -1,  0,  0]])"
      ]
     },
     "metadata": {},
     "output_type": "display_data"
    }
   ],
   "source": [
    "display(fans[8][:, symm_index[1]].rref()[0])\n",
    "display(fans[10])"
   ]
  },
  {
   "cell_type": "code",
   "execution_count": 148,
   "id": "8d68ead8-1df0-4526-9315-a1f8a9231ead",
   "metadata": {},
   "outputs": [
    {
     "data": {
      "text/latex": [
       "$\\displaystyle \\left[\\begin{matrix}1 & 0 & 0 & 0 & 0 & -1 & 0 & 1\\\\0 & 1 & 0 & 0 & -1 & -1 & 0 & 1\\\\0 & 0 & 1 & 0 & - b_{1} & - b_{1} - 1 & -1 & -1\\\\0 & 0 & 0 & 1 & -1 & -1 & 0 & 0\\end{matrix}\\right]$"
      ],
      "text/plain": [
       "Matrix([\n",
       "[1, 0, 0, 0,   0,      -1,  0,  1],\n",
       "[0, 1, 0, 0,  -1,      -1,  0,  1],\n",
       "[0, 0, 1, 0, -b1, -b1 - 1, -1, -1],\n",
       "[0, 0, 0, 1,  -1,      -1,  0,  0]])"
      ]
     },
     "metadata": {},
     "output_type": "display_data"
    },
    {
     "data": {
      "text/latex": [
       "$\\displaystyle \\left[\\begin{matrix}1 & 0 & 0 & 0 & 0 & -1 & 0 & 1\\\\0 & 1 & 0 & 0 & -1 & -1 & 0 & 1\\\\0 & 0 & 1 & 0 & a_{2} & a_{2} - 1 & -1 & -1\\\\0 & 0 & 0 & 1 & -1 & -1 & 0 & 0\\end{matrix}\\right]$"
      ],
      "text/plain": [
       "Matrix([\n",
       "[1, 0, 0, 0,  0,     -1,  0,  1],\n",
       "[0, 1, 0, 0, -1,     -1,  0,  1],\n",
       "[0, 0, 1, 0, a2, a2 - 1, -1, -1],\n",
       "[0, 0, 0, 1, -1,     -1,  0,  0]])"
      ]
     },
     "metadata": {},
     "output_type": "display_data"
    }
   ],
   "source": [
    "display(fans[8][:, symm_index[2]].rref()[0])\n",
    "display(fans[12])"
   ]
  },
  {
   "cell_type": "code",
   "execution_count": 149,
   "id": "16856e19-f795-4e69-9a4c-6f522dc62238",
   "metadata": {},
   "outputs": [
    {
     "data": {
      "text/latex": [
       "$\\displaystyle \\left[\\begin{matrix}1 & 0 & 0 & 0 & 0 & -1 & 0 & 1\\\\0 & 1 & 0 & 0 & -1 & -1 & 0 & 1\\\\0 & 0 & 1 & 0 & b_{1} + 2 & b_{1} + 1 & -1 & -1\\\\0 & 0 & 0 & 1 & -1 & -1 & 0 & 0\\end{matrix}\\right]$"
      ],
      "text/plain": [
       "Matrix([\n",
       "[1, 0, 0, 0,      0,     -1,  0,  1],\n",
       "[0, 1, 0, 0,     -1,     -1,  0,  1],\n",
       "[0, 0, 1, 0, b1 + 2, b1 + 1, -1, -1],\n",
       "[0, 0, 0, 1,     -1,     -1,  0,  0]])"
      ]
     },
     "metadata": {},
     "output_type": "display_data"
    },
    {
     "data": {
      "text/latex": [
       "$\\displaystyle \\left[\\begin{matrix}1 & 0 & 0 & 0 & 0 & -1 & 0 & 1\\\\0 & 1 & 0 & 0 & -1 & -1 & 0 & 1\\\\0 & 0 & 1 & 0 & a_{2} & a_{2} - 1 & -1 & -1\\\\0 & 0 & 0 & 1 & -1 & -1 & 0 & 0\\end{matrix}\\right]$"
      ],
      "text/plain": [
       "Matrix([\n",
       "[1, 0, 0, 0,  0,     -1,  0,  1],\n",
       "[0, 1, 0, 0, -1,     -1,  0,  1],\n",
       "[0, 0, 1, 0, a2, a2 - 1, -1, -1],\n",
       "[0, 0, 0, 1, -1,     -1,  0,  0]])"
      ]
     },
     "metadata": {},
     "output_type": "display_data"
    }
   ],
   "source": [
    "display(fans[8][:, symm_index[3]].rref()[0])\n",
    "display(fans[12])"
   ]
  },
  {
   "cell_type": "code",
   "execution_count": 150,
   "id": "8054b18b-28b5-4ca0-b195-5d03aa22b58e",
   "metadata": {},
   "outputs": [
    {
     "data": {
      "text/latex": [
       "$\\displaystyle \\left[\\begin{matrix}1 & 0 & 0 & 0 & 0 & -1 & 0 & 1\\\\0 & 1 & 0 & 0 & -1 & - b_{1} - 2 & 1 & 2\\\\0 & 0 & 1 & 0 & 1 & b_{1} + 1 & -1 & -1\\\\0 & 0 & 0 & 1 & -1 & - b_{1} - 2 & 1 & 1\\end{matrix}\\right]$"
      ],
      "text/plain": [
       "Matrix([\n",
       "[1, 0, 0, 0,  0,      -1,  0,  1],\n",
       "[0, 1, 0, 0, -1, -b1 - 2,  1,  2],\n",
       "[0, 0, 1, 0,  1,  b1 + 1, -1, -1],\n",
       "[0, 0, 0, 1, -1, -b1 - 2,  1,  1]])"
      ]
     },
     "metadata": {},
     "output_type": "display_data"
    },
    {
     "data": {
      "text/latex": [
       "$\\displaystyle \\left[\\begin{matrix}1 & 0 & 0 & 0 & 0 & -1 & 0 & 1\\\\0 & 1 & 0 & 0 & -1 & b_{1} & 1 & 2\\\\0 & 0 & 1 & 0 & 1 & - b_{1} - 1 & -1 & -1\\\\0 & 0 & 0 & 1 & -1 & b_{1} & 1 & 1\\end{matrix}\\right]$"
      ],
      "text/plain": [
       "Matrix([\n",
       "[1, 0, 0, 0,  0,      -1,  0,  1],\n",
       "[0, 1, 0, 0, -1,      b1,  1,  2],\n",
       "[0, 0, 1, 0,  1, -b1 - 1, -1, -1],\n",
       "[0, 0, 0, 1, -1,      b1,  1,  1]])"
      ]
     },
     "metadata": {},
     "output_type": "display_data"
    }
   ],
   "source": [
    "display(fans[8][:, symm_index[4]].rref()[0])\n",
    "display(fans[8])"
   ]
  },
  {
   "cell_type": "code",
   "execution_count": 151,
   "id": "060b7956-9b23-4866-8051-7f45b5098971",
   "metadata": {},
   "outputs": [
    {
     "data": {
      "text/latex": [
       "$\\displaystyle \\left[\\begin{matrix}1 & 0 & 0 & 0 & 0 & -1 & -1 & 0\\\\0 & 1 & 0 & 0 & -1 & -1 & -1 & 0\\\\0 & 0 & 1 & 0 & - b_{1} & - b_{1} - 1 & - b_{1} - 2 & -1\\\\0 & 0 & 0 & 1 & -1 & -1 & 0 & 0\\end{matrix}\\right]$"
      ],
      "text/plain": [
       "Matrix([\n",
       "[1, 0, 0, 0,   0,      -1,      -1,  0],\n",
       "[0, 1, 0, 0,  -1,      -1,      -1,  0],\n",
       "[0, 0, 1, 0, -b1, -b1 - 1, -b1 - 2, -1],\n",
       "[0, 0, 0, 1,  -1,      -1,       0,  0]])"
      ]
     },
     "metadata": {},
     "output_type": "display_data"
    },
    {
     "data": {
      "text/latex": [
       "$\\displaystyle \\left[\\begin{matrix}1 & 0 & 0 & 0 & 0 & -1 & -1 & 0\\\\0 & 1 & 0 & 0 & -1 & -1 & -1 & 0\\\\0 & 0 & 1 & 0 & c_{2} + 2 & c_{2} + 1 & c_{2} & -1\\\\0 & 0 & 0 & 1 & -1 & -1 & 0 & 0\\end{matrix}\\right]$"
      ],
      "text/plain": [
       "Matrix([\n",
       "[1, 0, 0, 0,      0,     -1, -1,  0],\n",
       "[0, 1, 0, 0,     -1,     -1, -1,  0],\n",
       "[0, 0, 1, 0, c2 + 2, c2 + 1, c2, -1],\n",
       "[0, 0, 0, 1,     -1,     -1,  0,  0]])"
      ]
     },
     "metadata": {},
     "output_type": "display_data"
    }
   ],
   "source": [
    "display(fans[8][:, symm_index[5]].rref()[0])\n",
    "display(fans[10])"
   ]
  },
  {
   "cell_type": "code",
   "execution_count": 152,
   "id": "3965d4ce-4dbe-4d0a-b10e-bef871bc2124",
   "metadata": {},
   "outputs": [
    {
     "data": {
      "text/latex": [
       "$\\displaystyle \\left[\\begin{matrix}1 & 0 & 0 & 0 & 0 & -1 & -1 & 0\\\\0 & 1 & 0 & 0 & -1 & - b_{1} - 2 & - b_{1} - 1 & 1\\\\0 & 0 & 1 & 0 & 1 & b_{1} + 1 & b_{1} & -1\\\\0 & 0 & 0 & 1 & -1 & - b_{1} - 2 & - b_{1} & 1\\end{matrix}\\right]$"
      ],
      "text/plain": [
       "Matrix([\n",
       "[1, 0, 0, 0,  0,      -1,      -1,  0],\n",
       "[0, 1, 0, 0, -1, -b1 - 2, -b1 - 1,  1],\n",
       "[0, 0, 1, 0,  1,  b1 + 1,      b1, -1],\n",
       "[0, 0, 0, 1, -1, -b1 - 2,     -b1,  1]])"
      ]
     },
     "metadata": {},
     "output_type": "display_data"
    },
    {
     "data": {
      "text/latex": [
       "$\\displaystyle \\left[\\begin{matrix}1 & 0 & 0 & 0 & 0 & -1 & -1 & 0\\\\0 & 1 & 0 & 0 & -1 & - c_{2} - 2 & - c_{2} - 1 & 1\\\\0 & 0 & 1 & 0 & 1 & c_{2} + 1 & c_{2} & -1\\\\0 & 0 & 0 & 1 & -1 & - c_{2} - 2 & - c_{2} & 1\\end{matrix}\\right]$"
      ],
      "text/plain": [
       "Matrix([\n",
       "[1, 0, 0, 0,  0,      -1,      -1,  0],\n",
       "[0, 1, 0, 0, -1, -c2 - 2, -c2 - 1,  1],\n",
       "[0, 0, 1, 0,  1,  c2 + 1,      c2, -1],\n",
       "[0, 0, 0, 1, -1, -c2 - 2,     -c2,  1]])"
      ]
     },
     "metadata": {},
     "output_type": "display_data"
    }
   ],
   "source": [
    "display(fans[8][:, symm_index[6]].rref()[0])\n",
    "display(fans[9])"
   ]
  },
  {
   "cell_type": "code",
   "execution_count": 153,
   "id": "9528fcbd-102c-4c56-b0d7-a8e052f63b18",
   "metadata": {},
   "outputs": [
    {
     "data": {
      "text/latex": [
       "$\\displaystyle \\left[\\begin{matrix}1 & 0 & 0 & 0 & 0 & -1 & -1 & 0\\\\0 & 1 & 0 & 0 & -1 & b_{1} & b_{1} + 1 & 1\\\\0 & 0 & 1 & 0 & 1 & - b_{1} - 1 & - b_{1} - 2 & -1\\\\0 & 0 & 0 & 1 & -1 & b_{1} & b_{1} + 2 & 1\\end{matrix}\\right]$"
      ],
      "text/plain": [
       "Matrix([\n",
       "[1, 0, 0, 0,  0,      -1,      -1,  0],\n",
       "[0, 1, 0, 0, -1,      b1,  b1 + 1,  1],\n",
       "[0, 0, 1, 0,  1, -b1 - 1, -b1 - 2, -1],\n",
       "[0, 0, 0, 1, -1,      b1,  b1 + 2,  1]])"
      ]
     },
     "metadata": {},
     "output_type": "display_data"
    },
    {
     "data": {
      "text/latex": [
       "$\\displaystyle \\left[\\begin{matrix}1 & 0 & 0 & 0 & 0 & -1 & -1 & 0\\\\0 & 1 & 0 & 0 & -1 & - c_{2} - 2 & - c_{2} - 1 & 1\\\\0 & 0 & 1 & 0 & 1 & c_{2} + 1 & c_{2} & -1\\\\0 & 0 & 0 & 1 & -1 & - c_{2} - 2 & - c_{2} & 1\\end{matrix}\\right]$"
      ],
      "text/plain": [
       "Matrix([\n",
       "[1, 0, 0, 0,  0,      -1,      -1,  0],\n",
       "[0, 1, 0, 0, -1, -c2 - 2, -c2 - 1,  1],\n",
       "[0, 0, 1, 0,  1,  c2 + 1,      c2, -1],\n",
       "[0, 0, 0, 1, -1, -c2 - 2,     -c2,  1]])"
      ]
     },
     "metadata": {},
     "output_type": "display_data"
    }
   ],
   "source": [
    "display(fans[8][:, symm_index[7]].rref()[0])\n",
    "display(fans[9])"
   ]
  }
 ],
 "metadata": {
  "kernelspec": {
   "display_name": "Python 3 (ipykernel)",
   "language": "python",
   "name": "python3"
  },
  "language_info": {
   "codemirror_mode": {
    "name": "ipython",
    "version": 3
   },
   "file_extension": ".py",
   "mimetype": "text/x-python",
   "name": "python",
   "nbconvert_exporter": "python",
   "pygments_lexer": "ipython3",
   "version": "3.12.7"
  }
 },
 "nbformat": 4,
 "nbformat_minor": 5
}
