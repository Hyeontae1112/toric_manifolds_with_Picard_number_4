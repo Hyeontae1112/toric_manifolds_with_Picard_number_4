{
 "cells": [
  {
   "cell_type": "markdown",
   "id": "88a45b06-0c2e-495c-8130-a3b2b9b21bd8",
   "metadata": {
    "jp-MarkdownHeadingCollapsed": true
   },
   "source": [
    "# Preparation"
   ]
  },
  {
   "cell_type": "code",
   "execution_count": 1,
   "id": "a8d1a5a8-1e28-4abe-bbe4-1188621c64ca",
   "metadata": {},
   "outputs": [],
   "source": [
    "%run programs\\\\Characteristic_Pair.py\n",
    "import copy\n",
    "\n",
    "fanlikes_index=33\n",
    "projectied_vertex=6\n",
    "link_index=19\n",
    "\n",
    "K = Simplicial_Complex(json.loads(read_file('programs\\\\fanlikes')[fanlikes_index]))\n",
    "M = initial_char(K.n)\n",
    "C0 = Characteristic_Pair(K, M)\n",
    "fans = []\n",
    "\n",
    "a = sp.symbols('a0:%d'%K.n)\n",
    "b = sp.symbols('b0:%d'%K.n)\n",
    "c = sp.symbols('c0:%d'%K.n)\n",
    "d = sp.symbols('d0:%d'%K.n)\n",
    "\n",
    "a0, a1, a2, a3, a4, a5 = a[:]\n",
    "b0, b1, b2, b3, b4, b5 = b[:]\n",
    "c0, c1, c2, c3, c4, c5 = c[:]\n",
    "d0, d1, d2, d3, d4, d5 = d[:]"
   ]
  },
  {
   "cell_type": "code",
   "execution_count": 2,
   "id": "22341429-16ec-4752-9dab-2c617ed14844",
   "metadata": {},
   "outputs": [
    {
     "data": {
      "text/latex": [
       "$\\displaystyle \\left[\\begin{matrix}1 & 0 & 0 & 0 & 0 & 0 & a_{0} & b_{0} & c_{0} & d_{0}\\\\0 & 1 & 0 & 0 & 0 & 0 & a_{1} & b_{1} & c_{1} & d_{1}\\\\0 & 0 & 1 & 0 & 0 & 0 & a_{2} & b_{2} & c_{2} & d_{2}\\\\0 & 0 & 0 & 1 & 0 & 0 & a_{3} & b_{3} & c_{3} & d_{3}\\\\0 & 0 & 0 & 0 & 1 & 0 & a_{4} & b_{4} & c_{4} & d_{4}\\\\0 & 0 & 0 & 0 & 0 & 1 & a_{5} & b_{5} & c_{5} & d_{5}\\end{matrix}\\right]$"
      ],
      "text/plain": [
       "Matrix([\n",
       "[1, 0, 0, 0, 0, 0, a0, b0, c0, d0],\n",
       "[0, 1, 0, 0, 0, 0, a1, b1, c1, d1],\n",
       "[0, 0, 1, 0, 0, 0, a2, b2, c2, d2],\n",
       "[0, 0, 0, 1, 0, 0, a3, b3, c3, d3],\n",
       "[0, 0, 0, 0, 1, 0, a4, b4, c4, d4],\n",
       "[0, 0, 0, 0, 0, 1, a5, b5, c5, d5]])"
      ]
     },
     "execution_count": 2,
     "metadata": {},
     "output_type": "execute_result"
    }
   ],
   "source": [
    "C = C0\n",
    "C.char"
   ]
  },
  {
   "cell_type": "code",
   "execution_count": 3,
   "id": "0d4234c5-d2ad-43f2-bcf2-53df6f518fc0",
   "metadata": {},
   "outputs": [
    {
     "name": "stdout",
     "output_type": "stream",
     "text": [
      "facet number: 24\n"
     ]
    },
    {
     "data": {
      "text/latex": [
       "$\\displaystyle - a_{0} = 1$"
      ],
      "text/plain": [
       "Eq(-a0, 1)"
      ]
     },
     "metadata": {},
     "output_type": "display_data"
    },
    {
     "name": "stdout",
     "output_type": "stream",
     "text": [
      "facet number: 8\n"
     ]
    },
    {
     "data": {
      "text/latex": [
       "$\\displaystyle a_{1} = -1$"
      ],
      "text/plain": [
       "Eq(a1, -1)"
      ]
     },
     "metadata": {},
     "output_type": "display_data"
    },
    {
     "name": "stdout",
     "output_type": "stream",
     "text": [
      "facet number: 1\n"
     ]
    },
    {
     "data": {
      "text/latex": [
       "$\\displaystyle c_{5} = -1$"
      ],
      "text/plain": [
       "Eq(c5, -1)"
      ]
     },
     "metadata": {},
     "output_type": "display_data"
    },
    {
     "name": "stdout",
     "output_type": "stream",
     "text": [
      "facet number: 6\n"
     ]
    },
    {
     "data": {
      "text/latex": [
       "$\\displaystyle - d_{2} = 1$"
      ],
      "text/plain": [
       "Eq(-d2, 1)"
      ]
     },
     "metadata": {},
     "output_type": "display_data"
    },
    {
     "name": "stdout",
     "output_type": "stream",
     "text": [
      "facet number: 4\n"
     ]
    },
    {
     "data": {
      "text/latex": [
       "$\\displaystyle d_{3} = -1$"
      ],
      "text/plain": [
       "Eq(d3, -1)"
      ]
     },
     "metadata": {},
     "output_type": "display_data"
    },
    {
     "name": "stdout",
     "output_type": "stream",
     "text": [
      "facet number: 2\n"
     ]
    },
    {
     "data": {
      "text/latex": [
       "$\\displaystyle - d_{4} = 1$"
      ],
      "text/plain": [
       "Eq(-d4, 1)"
      ]
     },
     "metadata": {},
     "output_type": "display_data"
    }
   ],
   "source": [
    "i=24\n",
    "print('facet number:', i)\n",
    "display(sp.Eq(C.determinants[i], C.orientation[i]))\n",
    "\n",
    "i=8\n",
    "print('facet number:', i)\n",
    "display(sp.Eq(C.determinants[i], C.orientation[i]))\n",
    "\n",
    "i=1\n",
    "print('facet number:', i)\n",
    "display(sp.Eq(C.determinants[i], C.orientation[i]))\n",
    "\n",
    "i=6\n",
    "print('facet number:', i)\n",
    "display(sp.Eq(C.determinants[i], C.orientation[i]))\n",
    "\n",
    "i=4\n",
    "print('facet number:', i)\n",
    "display(sp.Eq(C.determinants[i], C.orientation[i]))\n",
    "\n",
    "i=2\n",
    "print('facet number:', i)\n",
    "display(sp.Eq(C.determinants[i], C.orientation[i]))\n",
    "\n",
    "C.subs(a0, -1)\n",
    "C.subs(a1, -1)\n",
    "C.subs(c5, -1)\n",
    "C.subs(d2, -1)\n",
    "C.subs(d3, -1)\n",
    "C.subs(d4, -1)"
   ]
  },
  {
   "cell_type": "markdown",
   "id": "7ccb2119-3126-4c0b-8022-d88dc46dd725",
   "metadata": {
    "jp-MarkdownHeadingCollapsed": true
   },
   "source": [
    "# The projection with respect to 6"
   ]
  },
  {
   "cell_type": "code",
   "execution_count": 4,
   "id": "0e323cef-c0a2-46e2-9a4a-ae5e50771989",
   "metadata": {},
   "outputs": [
    {
     "name": "stdout",
     "output_type": "stream",
     "text": [
      "[[2, 8], [3, 8], [8, 10], [1, 2, 7], [1, 2, 9], [3, 5, 9], [4, 7, 10], [3, 4, 5, 10], [1, 4, 5, 7, 9]]\n"
     ]
    }
   ],
   "source": [
    "print(Link(K, [projectied_vertex]).mnf)"
   ]
  },
  {
   "cell_type": "code",
   "execution_count": 5,
   "id": "f30eb303-c49a-4ce3-8acd-ff8035ccc85e",
   "metadata": {},
   "outputs": [
    {
     "name": "stdout",
     "output_type": "stream",
     "text": [
      "[[2, 7], [3, 7], [7, 9], [1, 2, 6], [1, 2, 8], [3, 5, 8], [4, 6, 9], [3, 4, 5, 9], [1, 4, 5, 6, 8]]\n"
     ]
    }
   ],
   "source": [
    "print(Simplicial_Complex(json.loads(read_file('programs\\\\fanlikes')[link_index])).mnf)"
   ]
  },
  {
   "cell_type": "code",
   "execution_count": 6,
   "id": "df140542-cdf9-4552-9612-b989fd3da923",
   "metadata": {},
   "outputs": [
    {
     "name": "stdout",
     "output_type": "stream",
     "text": [
      "[[2, 7], [3, 7], [7, 9], [1, 2, 6], [1, 2, 8], [3, 5, 8], [4, 6, 9], [3, 4, 5, 9], [1, 4, 5, 6, 8]]\n"
     ]
    },
    {
     "data": {
      "text/plain": [
       "True"
      ]
     },
     "execution_count": 6,
     "metadata": {},
     "output_type": "execute_result"
    }
   ],
   "source": [
    "L=[] # making the vertices of the link consecutive\n",
    "for l in Link(K, [projectied_vertex]).cpx:\n",
    "    L.append([])\n",
    "    for v in l:\n",
    "        if v>projectied_vertex:\n",
    "            L[-1].append(v-1)\n",
    "        else:\n",
    "            L[-1].append(v)\n",
    "print(Simplicial_Complex(L).mnf)\n",
    "L==json.loads(read_file('programs\\\\fanlikes')[link_index])"
   ]
  },
  {
   "cell_type": "code",
   "execution_count": 7,
   "id": "819b93af-0d9f-4aa9-912b-371f2dda7836",
   "metadata": {},
   "outputs": [
    {
     "data": {
      "text/latex": [
       "$\\displaystyle \\left[\\begin{matrix}1 & 0 & 0 & 0 & 0 & -1 & b_{0} & c_{0} & d_{0}\\\\0 & 1 & 0 & 0 & 0 & -1 & b_{1} & c_{1} & d_{1}\\\\0 & 0 & 1 & 0 & 0 & a_{2} & b_{2} & c_{2} & -1\\\\0 & 0 & 0 & 1 & 0 & a_{3} & b_{3} & c_{3} & -1\\\\0 & 0 & 0 & 0 & 1 & a_{4} & b_{4} & c_{4} & -1\\end{matrix}\\right]$"
      ],
      "text/plain": [
       "Matrix([\n",
       "[1, 0, 0, 0, 0, -1, b0, c0, d0],\n",
       "[0, 1, 0, 0, 0, -1, b1, c1, d1],\n",
       "[0, 0, 1, 0, 0, a2, b2, c2, -1],\n",
       "[0, 0, 0, 1, 0, a3, b3, c3, -1],\n",
       "[0, 0, 0, 0, 1, a4, b4, c4, -1]])"
      ]
     },
     "metadata": {},
     "output_type": "display_data"
    }
   ],
   "source": [
    "display(C.proj([projectied_vertex]))"
   ]
  },
  {
   "cell_type": "markdown",
   "id": "dbcfd1c6-d2b6-4db0-81c1-f5fb1408a298",
   "metadata": {
    "jp-MarkdownHeadingCollapsed": true
   },
   "source": [
    "# The projection has 5 types of fans up to D-J equivalence"
   ]
  },
  {
   "cell_type": "code",
   "execution_count": 8,
   "id": "ed179421-0afe-4afc-b868-2c1c3dbe28e5",
   "metadata": {},
   "outputs": [],
   "source": [
    "import pickle\n",
    "with open('programs\\\\pickle_files\\\\%d_up_to_DJ.p'%(link_index), 'rb') as f:\n",
    "    fans_link = pickle.load(f)"
   ]
  },
  {
   "cell_type": "code",
   "execution_count": 9,
   "id": "934c9089-0a81-48c2-b920-150496633535",
   "metadata": {},
   "outputs": [
    {
     "data": {
      "text/latex": [
       "$\\displaystyle \\left[\\begin{matrix}1 & 0 & 0 & 0 & 0 & -1 & -1 & -1 & d_{0}\\\\0 & 1 & 0 & 0 & 0 & -1 & -2 & -1 & d_{1}\\\\0 & 0 & 1 & 0 & 0 & 1 & 1 & 0 & -1\\\\0 & 0 & 0 & 1 & 0 & 0 & 1 & 0 & -1\\\\0 & 0 & 0 & 0 & 1 & 1 & 2 & 0 & -1\\end{matrix}\\right]$"
      ],
      "text/plain": [
       "Matrix([\n",
       "[1, 0, 0, 0, 0, -1, -1, -1, d0],\n",
       "[0, 1, 0, 0, 0, -1, -2, -1, d1],\n",
       "[0, 0, 1, 0, 0,  1,  1,  0, -1],\n",
       "[0, 0, 0, 1, 0,  0,  1,  0, -1],\n",
       "[0, 0, 0, 0, 1,  1,  2,  0, -1]])"
      ]
     },
     "metadata": {},
     "output_type": "display_data"
    },
    {
     "data": {
      "text/latex": [
       "$\\displaystyle \\left[\\begin{matrix}1 & 0 & 0 & 0 & 0 & -1 & d_{0} - 1 & d_{0} - 1 & d_{0}\\\\0 & 1 & 0 & 0 & 0 & -1 & d_{1} - 2 & d_{1} - 1 & d_{1}\\\\0 & 0 & 1 & 0 & 0 & 0 & -1 & -1 & -1\\\\0 & 0 & 0 & 1 & 0 & 0 & 1 & 0 & -1\\\\0 & 0 & 0 & 0 & 1 & 0 & 0 & -1 & -1\\end{matrix}\\right]$"
      ],
      "text/plain": [
       "Matrix([\n",
       "[1, 0, 0, 0, 0, -1, d0 - 1, d0 - 1, d0],\n",
       "[0, 1, 0, 0, 0, -1, d1 - 2, d1 - 1, d1],\n",
       "[0, 0, 1, 0, 0,  0,     -1,     -1, -1],\n",
       "[0, 0, 0, 1, 0,  0,      1,      0, -1],\n",
       "[0, 0, 0, 0, 1,  0,      0,     -1, -1]])"
      ]
     },
     "metadata": {},
     "output_type": "display_data"
    },
    {
     "data": {
      "text/latex": [
       "$\\displaystyle \\left[\\begin{matrix}1 & 0 & 0 & 0 & 0 & -1 & - c_{2} - 1 & - c_{2} - 1 & 1\\\\0 & 1 & 0 & 0 & 0 & -1 & - c_{2} - 2 & - c_{2} - 1 & 1\\\\0 & 0 & 1 & 0 & 0 & 1 & c_{2} + 1 & c_{2} & -1\\\\0 & 0 & 0 & 1 & 0 & 0 & c_{3} + 1 & c_{3} & -1\\\\0 & 0 & 0 & 0 & 1 & 1 & c_{2} + 2 & c_{2} & -1\\end{matrix}\\right]$"
      ],
      "text/plain": [
       "Matrix([\n",
       "[1, 0, 0, 0, 0, -1, -c2 - 1, -c2 - 1,  1],\n",
       "[0, 1, 0, 0, 0, -1, -c2 - 2, -c2 - 1,  1],\n",
       "[0, 0, 1, 0, 0,  1,  c2 + 1,      c2, -1],\n",
       "[0, 0, 0, 1, 0,  0,  c3 + 1,      c3, -1],\n",
       "[0, 0, 0, 0, 1,  1,  c2 + 2,      c2, -1]])"
      ]
     },
     "metadata": {},
     "output_type": "display_data"
    },
    {
     "data": {
      "text/latex": [
       "$\\displaystyle \\left[\\begin{matrix}1 & 0 & 0 & 0 & 0 & -1 & -1 & -1 & 0\\\\0 & 1 & 0 & 0 & 0 & -1 & -2 & -1 & 0\\\\0 & 0 & 1 & 0 & 0 & c_{2} + 1 & 2 c_{2} + 1 & c_{2} & -1\\\\0 & 0 & 0 & 1 & 0 & c_{3} & 2 c_{3} + 1 & c_{3} & -1\\\\0 & 0 & 0 & 0 & 1 & c_{4} + 1 & 2 c_{4} + 2 & c_{4} & -1\\end{matrix}\\right]$"
      ],
      "text/plain": [
       "Matrix([\n",
       "[1, 0, 0, 0, 0,     -1,       -1, -1,  0],\n",
       "[0, 1, 0, 0, 0,     -1,       -2, -1,  0],\n",
       "[0, 0, 1, 0, 0, c2 + 1, 2*c2 + 1, c2, -1],\n",
       "[0, 0, 0, 1, 0,     c3, 2*c3 + 1, c3, -1],\n",
       "[0, 0, 0, 0, 1, c4 + 1, 2*c4 + 2, c4, -1]])"
      ]
     },
     "metadata": {},
     "output_type": "display_data"
    },
    {
     "data": {
      "text/latex": [
       "$\\displaystyle \\left[\\begin{matrix}1 & 0 & 0 & 0 & 0 & -1 & 0 & 0 & 1\\\\0 & 1 & 0 & 0 & 0 & -1 & -1 & 0 & 1\\\\0 & 0 & 1 & 0 & 0 & a_{2} & a_{2} - 1 & -1 & -1\\\\0 & 0 & 0 & 1 & 0 & 0 & 1 & 0 & -1\\\\0 & 0 & 0 & 0 & 1 & a_{4} & a_{4} & -1 & -1\\end{matrix}\\right]$"
      ],
      "text/plain": [
       "Matrix([\n",
       "[1, 0, 0, 0, 0, -1,      0,  0,  1],\n",
       "[0, 1, 0, 0, 0, -1,     -1,  0,  1],\n",
       "[0, 0, 1, 0, 0, a2, a2 - 1, -1, -1],\n",
       "[0, 0, 0, 1, 0,  0,      1,  0, -1],\n",
       "[0, 0, 0, 0, 1, a4,     a4, -1, -1]])"
      ]
     },
     "metadata": {},
     "output_type": "display_data"
    }
   ],
   "source": [
    "for f in fans_link:\n",
    "    display(f)"
   ]
  },
  {
   "cell_type": "markdown",
   "id": "ff605ab7-f715-404f-810b-92bbab3fc765",
   "metadata": {
    "jp-MarkdownHeadingCollapsed": true
   },
   "source": [
    "# Type 0 of the projection"
   ]
  },
  {
   "cell_type": "code",
   "execution_count": 10,
   "id": "aa377bcd-fa7a-48f6-92c4-ac15a279853d",
   "metadata": {},
   "outputs": [
    {
     "data": {
      "text/latex": [
       "$\\displaystyle \\left[\\begin{matrix}1 & 0 & 0 & 0 & 0 & -1 & b_{0} & c_{0} & d_{0}\\\\0 & 1 & 0 & 0 & 0 & -1 & b_{1} & c_{1} & d_{1}\\\\0 & 0 & 1 & 0 & 0 & a_{2} & b_{2} & c_{2} & -1\\\\0 & 0 & 0 & 1 & 0 & a_{3} & b_{3} & c_{3} & -1\\\\0 & 0 & 0 & 0 & 1 & a_{4} & b_{4} & c_{4} & -1\\end{matrix}\\right] = \\left[\\begin{matrix}1 & 0 & 0 & 0 & 0 & -1 & -1 & -1 & d_{0}\\\\0 & 1 & 0 & 0 & 0 & -1 & -2 & -1 & d_{1}\\\\0 & 0 & 1 & 0 & 0 & 1 & 1 & 0 & -1\\\\0 & 0 & 0 & 1 & 0 & 0 & 1 & 0 & -1\\\\0 & 0 & 0 & 0 & 1 & 1 & 2 & 0 & -1\\end{matrix}\\right]$"
      ],
      "text/plain": [
       "Eq(Matrix([\n",
       "[1, 0, 0, 0, 0, -1, b0, c0, d0],\n",
       "[0, 1, 0, 0, 0, -1, b1, c1, d1],\n",
       "[0, 0, 1, 0, 0, a2, b2, c2, -1],\n",
       "[0, 0, 0, 1, 0, a3, b3, c3, -1],\n",
       "[0, 0, 0, 0, 1, a4, b4, c4, -1]]), Matrix([\n",
       "[1, 0, 0, 0, 0, -1, -1, -1, d0],\n",
       "[0, 1, 0, 0, 0, -1, -2, -1, d1],\n",
       "[0, 0, 1, 0, 0,  1,  1,  0, -1],\n",
       "[0, 0, 0, 1, 0,  0,  1,  0, -1],\n",
       "[0, 0, 0, 0, 1,  1,  2,  0, -1]]))"
      ]
     },
     "metadata": {},
     "output_type": "display_data"
    }
   ],
   "source": [
    "C1 = copy.deepcopy(C0)\n",
    "C = C1\n",
    "t=0\n",
    "\n",
    "proj = C.proj([projectied_vertex])\n",
    "with sp.evaluate(False):\n",
    "    display(sp.Eq(proj, fans_link[t]))"
   ]
  },
  {
   "cell_type": "code",
   "execution_count": 11,
   "id": "41ea0310-b5cf-41e4-bb0a-cfb79222eb08",
   "metadata": {},
   "outputs": [
    {
     "data": {
      "text/latex": [
       "$\\displaystyle \\text{True}$"
      ],
      "text/plain": [
       "True"
      ]
     },
     "metadata": {},
     "output_type": "display_data"
    }
   ],
   "source": [
    "C.subs(a2, 1)\n",
    "C.subs(a3, 0)\n",
    "C.subs(a4, 1)\n",
    "C.subs(b0, -1)\n",
    "C.subs(b1, -2)\n",
    "C.subs(b2, 1)\n",
    "C.subs(b3, 1)\n",
    "C.subs(b4, 2)\n",
    "C.subs(c0, -1)\n",
    "C.subs(c1, -1)\n",
    "C.subs(c2, 0)\n",
    "C.subs(c3, 0)\n",
    "C.subs(c4, 0)\n",
    "\n",
    "display(sp.Eq(C.proj([projectied_vertex]), fans_link[t]))"
   ]
  },
  {
   "cell_type": "code",
   "execution_count": 12,
   "id": "4019583a-9beb-4672-8c92-223ddea7e7e6",
   "metadata": {},
   "outputs": [
    {
     "name": "stdout",
     "output_type": "stream",
     "text": [
      "facet number: 15\n"
     ]
    },
    {
     "data": {
      "text/latex": [
       "$\\displaystyle - a_{5} - 1 = -1$"
      ],
      "text/plain": [
       "Eq(-a5 - 1, -1)"
      ]
     },
     "metadata": {},
     "output_type": "display_data"
    }
   ],
   "source": [
    "i=15\n",
    "print('facet number:', i)\n",
    "display(sp.Eq(C.determinants[i], C.orientation[i]))\n",
    "\n",
    "C.subs(a5, 0)"
   ]
  },
  {
   "cell_type": "code",
   "execution_count": 13,
   "id": "e0d5b161-93d2-4d02-ad81-7a957c6c07ff",
   "metadata": {},
   "outputs": [
    {
     "name": "stdout",
     "output_type": "stream",
     "text": [
      "facet number: 10\n"
     ]
    },
    {
     "data": {
      "text/latex": [
       "$\\displaystyle - b_{5} - 2 = -1$"
      ],
      "text/plain": [
       "Eq(-b5 - 2, -1)"
      ]
     },
     "metadata": {},
     "output_type": "display_data"
    }
   ],
   "source": [
    "i=10\n",
    "print('facet number:', i)\n",
    "display(sp.Eq(C.determinants[i], C.orientation[i]))\n",
    "\n",
    "C.subs(b5, -1)"
   ]
  },
  {
   "cell_type": "code",
   "execution_count": 14,
   "id": "230af1db-52fd-4d0f-9500-509db27e7df0",
   "metadata": {},
   "outputs": [
    {
     "data": {
      "text/latex": [
       "$\\displaystyle \\left[\\begin{matrix}1 & 0 & 0 & 0 & 0 & 0 & -1 & -1 & -1 & d_{0}\\\\0 & 1 & 0 & 0 & 0 & 0 & -1 & -2 & -1 & d_{1}\\\\0 & 0 & 1 & 0 & 0 & 0 & 1 & 1 & 0 & -1\\\\0 & 0 & 0 & 1 & 0 & 0 & 0 & 1 & 0 & -1\\\\0 & 0 & 0 & 0 & 1 & 0 & 1 & 2 & 0 & -1\\\\0 & 0 & 0 & 0 & 0 & 1 & 0 & -1 & -1 & d_{5}\\end{matrix}\\right]$"
      ],
      "text/plain": [
       "Matrix([\n",
       "[1, 0, 0, 0, 0, 0, -1, -1, -1, d0],\n",
       "[0, 1, 0, 0, 0, 0, -1, -2, -1, d1],\n",
       "[0, 0, 1, 0, 0, 0,  1,  1,  0, -1],\n",
       "[0, 0, 0, 1, 0, 0,  0,  1,  0, -1],\n",
       "[0, 0, 0, 0, 1, 0,  1,  2,  0, -1],\n",
       "[0, 0, 0, 0, 0, 1,  0, -1, -1, d5]])"
      ]
     },
     "metadata": {},
     "output_type": "display_data"
    },
    {
     "name": "stdout",
     "output_type": "stream",
     "text": [
      "1\n"
     ]
    }
   ],
   "source": [
    "display(C.char)\n",
    "print(C.is_fangiving)\n",
    "fans.append(C.char)"
   ]
  },
  {
   "cell_type": "markdown",
   "id": "a7d16530-a1e4-4d26-8520-a6500c55086a",
   "metadata": {
    "jp-MarkdownHeadingCollapsed": true
   },
   "source": [
    "# Type 1 of the projection"
   ]
  },
  {
   "cell_type": "code",
   "execution_count": 15,
   "id": "fe961236-6c80-4a69-9c7c-3233152f28f2",
   "metadata": {},
   "outputs": [
    {
     "data": {
      "text/latex": [
       "$\\displaystyle \\left[\\begin{matrix}1 & 0 & 0 & 0 & 0 & -1 & b_{0} & c_{0} & d_{0}\\\\0 & 1 & 0 & 0 & 0 & -1 & b_{1} & c_{1} & d_{1}\\\\0 & 0 & 1 & 0 & 0 & a_{2} & b_{2} & c_{2} & -1\\\\0 & 0 & 0 & 1 & 0 & a_{3} & b_{3} & c_{3} & -1\\\\0 & 0 & 0 & 0 & 1 & a_{4} & b_{4} & c_{4} & -1\\end{matrix}\\right] = \\left[\\begin{matrix}1 & 0 & 0 & 0 & 0 & -1 & d_{0} - 1 & d_{0} - 1 & d_{0}\\\\0 & 1 & 0 & 0 & 0 & -1 & d_{1} - 2 & d_{1} - 1 & d_{1}\\\\0 & 0 & 1 & 0 & 0 & 0 & -1 & -1 & -1\\\\0 & 0 & 0 & 1 & 0 & 0 & 1 & 0 & -1\\\\0 & 0 & 0 & 0 & 1 & 0 & 0 & -1 & -1\\end{matrix}\\right]$"
      ],
      "text/plain": [
       "Eq(Matrix([\n",
       "[1, 0, 0, 0, 0, -1, b0, c0, d0],\n",
       "[0, 1, 0, 0, 0, -1, b1, c1, d1],\n",
       "[0, 0, 1, 0, 0, a2, b2, c2, -1],\n",
       "[0, 0, 0, 1, 0, a3, b3, c3, -1],\n",
       "[0, 0, 0, 0, 1, a4, b4, c4, -1]]), Matrix([\n",
       "[1, 0, 0, 0, 0, -1, d0 - 1, d0 - 1, d0],\n",
       "[0, 1, 0, 0, 0, -1, d1 - 2, d1 - 1, d1],\n",
       "[0, 0, 1, 0, 0,  0,     -1,     -1, -1],\n",
       "[0, 0, 0, 1, 0,  0,      1,      0, -1],\n",
       "[0, 0, 0, 0, 1,  0,      0,     -1, -1]]))"
      ]
     },
     "metadata": {},
     "output_type": "display_data"
    }
   ],
   "source": [
    "C1 = copy.deepcopy(C0)\n",
    "C = C1\n",
    "t=1\n",
    "\n",
    "proj = C.proj([projectied_vertex])\n",
    "with sp.evaluate(False):\n",
    "    display(sp.Eq(proj, fans_link[t]))"
   ]
  },
  {
   "cell_type": "code",
   "execution_count": 16,
   "id": "f4e5186f-4fce-41a2-af8b-cfd9bbebeea7",
   "metadata": {},
   "outputs": [
    {
     "data": {
      "text/latex": [
       "$\\displaystyle \\text{True}$"
      ],
      "text/plain": [
       "True"
      ]
     },
     "metadata": {},
     "output_type": "display_data"
    }
   ],
   "source": [
    "C.subs(a2, 0)\n",
    "C.subs(a3, 0)\n",
    "C.subs(a4, 0)\n",
    "C.subs(b0, d0-1)\n",
    "C.subs(b1, d1-2)\n",
    "C.subs(b2, -1)\n",
    "C.subs(b3, 1)\n",
    "C.subs(b4, 0)\n",
    "C.subs(c0, d0-1)\n",
    "C.subs(c1, d1-1)\n",
    "C.subs(c2, -1)\n",
    "C.subs(c3, 0)\n",
    "C.subs(c4, -1)\n",
    "\n",
    "display(sp.Eq(C.proj([projectied_vertex]), fans_link[t]))"
   ]
  },
  {
   "cell_type": "code",
   "execution_count": 17,
   "id": "6bc70476-43f2-448a-803a-4906a9ed882a",
   "metadata": {},
   "outputs": [
    {
     "name": "stdout",
     "output_type": "stream",
     "text": [
      "facet number: 3\n"
     ]
    },
    {
     "data": {
      "text/latex": [
       "$\\displaystyle - d_{5} - 1 = -1$"
      ],
      "text/plain": [
       "Eq(-d5 - 1, -1)"
      ]
     },
     "metadata": {},
     "output_type": "display_data"
    }
   ],
   "source": [
    "i=3\n",
    "print('facet number:', i)\n",
    "display(sp.Eq(C.determinants[i], C.orientation[i]))\n",
    "\n",
    "C.subs(d5, 0)"
   ]
  },
  {
   "cell_type": "code",
   "execution_count": 18,
   "id": "19a958c4-a7b7-496a-af0d-67036a4ac0fa",
   "metadata": {},
   "outputs": [
    {
     "name": "stdout",
     "output_type": "stream",
     "text": [
      "facet number: 9\n"
     ]
    },
    {
     "data": {
      "text/latex": [
       "$\\displaystyle a_{5} d_{1} - 2 a_{5} + b_{5} = -1$"
      ],
      "text/plain": [
       "Eq(a5*d1 - 2*a5 + b5, -1)"
      ]
     },
     "metadata": {},
     "output_type": "display_data"
    },
    {
     "name": "stdout",
     "output_type": "stream",
     "text": [
      "facet number: 15\n"
     ]
    },
    {
     "data": {
      "text/latex": [
       "$\\displaystyle a_{5} d_{1} - a_{5} - 1 = -1$"
      ],
      "text/plain": [
       "Eq(a5*d1 - a5 - 1, -1)"
      ]
     },
     "metadata": {},
     "output_type": "display_data"
    },
    {
     "data": {
      "text/latex": [
       "$\\displaystyle - a_{5} + b_{5} + 1 = 0$"
      ],
      "text/plain": [
       "Eq(-a5 + b5 + 1, 0)"
      ]
     },
     "metadata": {},
     "output_type": "display_data"
    }
   ],
   "source": [
    "i=9\n",
    "print('facet number:', i)\n",
    "display(sp.Eq(C.determinants[i], C.orientation[i]))\n",
    "\n",
    "i=15\n",
    "print('facet number:', i)\n",
    "display(sp.Eq(C.determinants[i], C.orientation[i]))\n",
    "\n",
    "display(sp.Eq(C.determinants[9] - C.determinants[15], C.orientation[9] - C.orientation[15]))\n",
    "\n",
    "C.subs(b5, a5-1)"
   ]
  },
  {
   "cell_type": "code",
   "execution_count": 19,
   "id": "c8a1ea4d-c732-48a0-9031-abe54457a0a8",
   "metadata": {},
   "outputs": [
    {
     "name": "stdout",
     "output_type": "stream",
     "text": [
      "facet number: 9\n"
     ]
    },
    {
     "data": {
      "text/latex": [
       "$\\displaystyle a_{5} d_{1} - a_{5} - 1 = -1$"
      ],
      "text/plain": [
       "Eq(a5*d1 - a5 - 1, -1)"
      ]
     },
     "metadata": {},
     "output_type": "display_data"
    }
   ],
   "source": [
    "i=9\n",
    "print('facet number:', i)\n",
    "display(sp.Eq(C.determinants[i], C.orientation[i]))"
   ]
  },
  {
   "cell_type": "markdown",
   "id": "617a8436-0cb8-4880-9665-b3e6a7e27432",
   "metadata": {
    "jp-MarkdownHeadingCollapsed": true
   },
   "source": [
    "## $a_5=0$"
   ]
  },
  {
   "cell_type": "code",
   "execution_count": 20,
   "id": "904e4e8d-e84a-4fd7-bc8c-e3c868afa5dc",
   "metadata": {},
   "outputs": [],
   "source": [
    "C2 = copy.deepcopy(C1)\n",
    "C = C2\n",
    "C.subs(a5, 0)"
   ]
  },
  {
   "cell_type": "code",
   "execution_count": 21,
   "id": "4892fbf0-e953-41ce-bd63-e8386c78d99b",
   "metadata": {},
   "outputs": [
    {
     "data": {
      "text/latex": [
       "$\\displaystyle \\left[\\begin{matrix}1 & 0 & 0 & 0 & 0 & 0 & -1 & d_{0} - 1 & d_{0} - 1 & d_{0}\\\\0 & 1 & 0 & 0 & 0 & 0 & -1 & d_{1} - 2 & d_{1} - 1 & d_{1}\\\\0 & 0 & 1 & 0 & 0 & 0 & 0 & -1 & -1 & -1\\\\0 & 0 & 0 & 1 & 0 & 0 & 0 & 1 & 0 & -1\\\\0 & 0 & 0 & 0 & 1 & 0 & 0 & 0 & -1 & -1\\\\0 & 0 & 0 & 0 & 0 & 1 & 0 & -1 & -1 & 0\\end{matrix}\\right]$"
      ],
      "text/plain": [
       "Matrix([\n",
       "[1, 0, 0, 0, 0, 0, -1, d0 - 1, d0 - 1, d0],\n",
       "[0, 1, 0, 0, 0, 0, -1, d1 - 2, d1 - 1, d1],\n",
       "[0, 0, 1, 0, 0, 0,  0,     -1,     -1, -1],\n",
       "[0, 0, 0, 1, 0, 0,  0,      1,      0, -1],\n",
       "[0, 0, 0, 0, 1, 0,  0,      0,     -1, -1],\n",
       "[0, 0, 0, 0, 0, 1,  0,     -1,     -1,  0]])"
      ]
     },
     "metadata": {},
     "output_type": "display_data"
    },
    {
     "name": "stdout",
     "output_type": "stream",
     "text": [
      "1\n"
     ]
    }
   ],
   "source": [
    "display(C.char)\n",
    "print(C.is_fangiving)\n",
    "fans.append(C.char)"
   ]
  },
  {
   "cell_type": "markdown",
   "id": "1c9ba85f-7345-4288-99ef-6b7ea9ae6624",
   "metadata": {
    "jp-MarkdownHeadingCollapsed": true
   },
   "source": [
    "## $d_1=1$ ($a_5 \\not= 0$)"
   ]
  },
  {
   "cell_type": "code",
   "execution_count": 22,
   "id": "751de5d7-f75c-440a-8590-4c34a0219531",
   "metadata": {},
   "outputs": [],
   "source": [
    "C2 = copy.deepcopy(C1)\n",
    "C = C2\n",
    "C.subs(d1, 1)"
   ]
  },
  {
   "cell_type": "code",
   "execution_count": 23,
   "id": "b3ef41e2-6a82-4013-a45e-5fc868b2d1ce",
   "metadata": {},
   "outputs": [
    {
     "name": "stdout",
     "output_type": "stream",
     "text": [
      "facet number: 25\n"
     ]
    },
    {
     "data": {
      "text/latex": [
       "$\\displaystyle - a_{5} d_{0} + a_{5} + 1 = 1$"
      ],
      "text/plain": [
       "Eq(-a5*d0 + a5 + 1, 1)"
      ]
     },
     "metadata": {},
     "output_type": "display_data"
    }
   ],
   "source": [
    "i=25\n",
    "print('facet number:', i)\n",
    "display(sp.Eq(C.determinants[i], C.orientation[i]))\n",
    "\n",
    "C.subs(d0, 1)"
   ]
  },
  {
   "cell_type": "code",
   "execution_count": 24,
   "id": "59e85c89-698c-40bd-8831-8acc180d1183",
   "metadata": {},
   "outputs": [
    {
     "data": {
      "text/latex": [
       "$\\displaystyle \\left[\\begin{matrix}1 & 0 & 0 & 0 & 0 & 0 & -1 & 0 & 0 & 1\\\\0 & 1 & 0 & 0 & 0 & 0 & -1 & -1 & 0 & 1\\\\0 & 0 & 1 & 0 & 0 & 0 & 0 & -1 & -1 & -1\\\\0 & 0 & 0 & 1 & 0 & 0 & 0 & 1 & 0 & -1\\\\0 & 0 & 0 & 0 & 1 & 0 & 0 & 0 & -1 & -1\\\\0 & 0 & 0 & 0 & 0 & 1 & a_{5} & a_{5} - 1 & -1 & 0\\end{matrix}\\right]$"
      ],
      "text/plain": [
       "Matrix([\n",
       "[1, 0, 0, 0, 0, 0, -1,      0,  0,  1],\n",
       "[0, 1, 0, 0, 0, 0, -1,     -1,  0,  1],\n",
       "[0, 0, 1, 0, 0, 0,  0,     -1, -1, -1],\n",
       "[0, 0, 0, 1, 0, 0,  0,      1,  0, -1],\n",
       "[0, 0, 0, 0, 1, 0,  0,      0, -1, -1],\n",
       "[0, 0, 0, 0, 0, 1, a5, a5 - 1, -1,  0]])"
      ]
     },
     "metadata": {},
     "output_type": "display_data"
    },
    {
     "name": "stdout",
     "output_type": "stream",
     "text": [
      "1\n"
     ]
    }
   ],
   "source": [
    "display(C.char)\n",
    "print(C.is_fangiving)\n",
    "fans.append(C.char)"
   ]
  },
  {
   "cell_type": "markdown",
   "id": "869f5253-4188-4f1e-aa2c-e119083ed1f1",
   "metadata": {
    "jp-MarkdownHeadingCollapsed": true
   },
   "source": [
    "# Type 2 of the projection"
   ]
  },
  {
   "cell_type": "code",
   "execution_count": 25,
   "id": "81b9bb5b-3021-432f-9a90-8cf18d41424e",
   "metadata": {},
   "outputs": [
    {
     "data": {
      "text/latex": [
       "$\\displaystyle \\left[\\begin{matrix}1 & 0 & 0 & 0 & 0 & -1 & b_{0} & c_{0} & d_{0}\\\\0 & 1 & 0 & 0 & 0 & -1 & b_{1} & c_{1} & d_{1}\\\\0 & 0 & 1 & 0 & 0 & a_{2} & b_{2} & c_{2} & -1\\\\0 & 0 & 0 & 1 & 0 & a_{3} & b_{3} & c_{3} & -1\\\\0 & 0 & 0 & 0 & 1 & a_{4} & b_{4} & c_{4} & -1\\end{matrix}\\right] = \\left[\\begin{matrix}1 & 0 & 0 & 0 & 0 & -1 & - c_{2} - 1 & - c_{2} - 1 & 1\\\\0 & 1 & 0 & 0 & 0 & -1 & - c_{2} - 2 & - c_{2} - 1 & 1\\\\0 & 0 & 1 & 0 & 0 & 1 & c_{2} + 1 & c_{2} & -1\\\\0 & 0 & 0 & 1 & 0 & 0 & c_{3} + 1 & c_{3} & -1\\\\0 & 0 & 0 & 0 & 1 & 1 & c_{2} + 2 & c_{2} & -1\\end{matrix}\\right]$"
      ],
      "text/plain": [
       "Eq(Matrix([\n",
       "[1, 0, 0, 0, 0, -1, b0, c0, d0],\n",
       "[0, 1, 0, 0, 0, -1, b1, c1, d1],\n",
       "[0, 0, 1, 0, 0, a2, b2, c2, -1],\n",
       "[0, 0, 0, 1, 0, a3, b3, c3, -1],\n",
       "[0, 0, 0, 0, 1, a4, b4, c4, -1]]), Matrix([\n",
       "[1, 0, 0, 0, 0, -1, -c2 - 1, -c2 - 1,  1],\n",
       "[0, 1, 0, 0, 0, -1, -c2 - 2, -c2 - 1,  1],\n",
       "[0, 0, 1, 0, 0,  1,  c2 + 1,      c2, -1],\n",
       "[0, 0, 0, 1, 0,  0,  c3 + 1,      c3, -1],\n",
       "[0, 0, 0, 0, 1,  1,  c2 + 2,      c2, -1]]))"
      ]
     },
     "metadata": {},
     "output_type": "display_data"
    }
   ],
   "source": [
    "C1 = copy.deepcopy(C0)\n",
    "C = C1\n",
    "t=2\n",
    "\n",
    "proj = C.proj([projectied_vertex])\n",
    "with sp.evaluate(False):\n",
    "    display(sp.Eq(proj, fans_link[t]))"
   ]
  },
  {
   "cell_type": "code",
   "execution_count": 26,
   "id": "9e021003-334a-4c8f-971b-7b52fab21c4c",
   "metadata": {},
   "outputs": [
    {
     "data": {
      "text/latex": [
       "$\\displaystyle \\text{True}$"
      ],
      "text/plain": [
       "True"
      ]
     },
     "metadata": {},
     "output_type": "display_data"
    }
   ],
   "source": [
    "C.subs(a2, 1)\n",
    "C.subs(a3, 0)\n",
    "C.subs(a4, 1)\n",
    "C.subs(b0, -c2-1)\n",
    "C.subs(b1, -c2-2)\n",
    "C.subs(b2, c2+1)\n",
    "C.subs(b3, c3+1)\n",
    "C.subs(b4, c2+2)\n",
    "C.subs(c0, -c2-1)\n",
    "C.subs(c1, -c2-1)\n",
    "C.subs(c4, c2)\n",
    "C.subs(d0, 1)\n",
    "C.subs(d1, 1)\n",
    "\n",
    "display(sp.Eq(C.proj([projectied_vertex]), fans_link[t]))"
   ]
  },
  {
   "cell_type": "code",
   "execution_count": 27,
   "id": "ea487863-d266-488d-a39f-c7997450891c",
   "metadata": {},
   "outputs": [
    {
     "name": "stdout",
     "output_type": "stream",
     "text": [
      "facet number: 9\n"
     ]
    },
    {
     "data": {
      "text/latex": [
       "$\\displaystyle - a_{5} c_{2} - 2 a_{5} + b_{5} = -1$"
      ],
      "text/plain": [
       "Eq(-a5*c2 - 2*a5 + b5, -1)"
      ]
     },
     "metadata": {},
     "output_type": "display_data"
    },
    {
     "name": "stdout",
     "output_type": "stream",
     "text": [
      "facet number: 25\n"
     ]
    },
    {
     "data": {
      "text/latex": [
       "$\\displaystyle a_{5} c_{2} + a_{5} + 1 = 1$"
      ],
      "text/plain": [
       "Eq(a5*c2 + a5 + 1, 1)"
      ]
     },
     "metadata": {},
     "output_type": "display_data"
    },
    {
     "data": {
      "text/latex": [
       "$\\displaystyle - a_{5} + b_{5} + 1 = 0$"
      ],
      "text/plain": [
       "Eq(-a5 + b5 + 1, 0)"
      ]
     },
     "metadata": {},
     "output_type": "display_data"
    }
   ],
   "source": [
    "i=9\n",
    "print('facet number:', i)\n",
    "display(sp.Eq(C.determinants[i], C.orientation[i]))\n",
    "\n",
    "i=25\n",
    "print('facet number:', i)\n",
    "display(sp.Eq(C.determinants[i], C.orientation[i]))\n",
    "\n",
    "display(sp.Eq(C.determinants[9] + C.determinants[25], C.orientation[9] + C.orientation[25]))\n",
    "\n",
    "C.subs(b5, a5-1)"
   ]
  },
  {
   "cell_type": "code",
   "execution_count": 28,
   "id": "88078003-612f-46a0-8b3a-e092b629164a",
   "metadata": {},
   "outputs": [
    {
     "name": "stdout",
     "output_type": "stream",
     "text": [
      "facet number: 3\n"
     ]
    },
    {
     "data": {
      "text/latex": [
       "$\\displaystyle c_{2} d_{5} - 1 = -1$"
      ],
      "text/plain": [
       "Eq(c2*d5 - 1, -1)"
      ]
     },
     "metadata": {},
     "output_type": "display_data"
    },
    {
     "name": "stdout",
     "output_type": "stream",
     "text": [
      "facet number: 5\n"
     ]
    },
    {
     "data": {
      "text/latex": [
       "$\\displaystyle - c_{3} d_{5} + 1 = 1$"
      ],
      "text/plain": [
       "Eq(-c3*d5 + 1, 1)"
      ]
     },
     "metadata": {},
     "output_type": "display_data"
    },
    {
     "name": "stdout",
     "output_type": "stream",
     "text": [
      "d5!=0 => c2=c3=0 => type 0\n"
     ]
    }
   ],
   "source": [
    "i=3\n",
    "print('facet number:', i)\n",
    "display(sp.Eq(C.determinants[i], C.orientation[i]))\n",
    "\n",
    "i=5\n",
    "print('facet number:', i)\n",
    "display(sp.Eq(C.determinants[i], C.orientation[i]))\n",
    "\n",
    "print('d5!=0 => c2=c3=0 => type 0')\n",
    "C.subs(d5, 0)"
   ]
  },
  {
   "cell_type": "code",
   "execution_count": 29,
   "id": "01d2e077-556d-4043-b441-00214e93d11e",
   "metadata": {},
   "outputs": [
    {
     "name": "stdout",
     "output_type": "stream",
     "text": [
      "facet number: 13\n"
     ]
    },
    {
     "data": {
      "text/latex": [
       "$\\displaystyle a_{5} c_{2} + a_{5} + 1 = 1$"
      ],
      "text/plain": [
       "Eq(a5*c2 + a5 + 1, 1)"
      ]
     },
     "metadata": {},
     "output_type": "display_data"
    }
   ],
   "source": [
    "i=13\n",
    "print('facet number:', i)\n",
    "display(sp.Eq(C.determinants[i], C.orientation[i]))"
   ]
  },
  {
   "cell_type": "markdown",
   "id": "dc31637e-5b43-4577-b1ae-b422e375f89e",
   "metadata": {
    "jp-MarkdownHeadingCollapsed": true
   },
   "source": [
    "## $a_5=0$"
   ]
  },
  {
   "cell_type": "code",
   "execution_count": 30,
   "id": "b14912c1-bb65-4448-8ec8-e790fa9b65a3",
   "metadata": {},
   "outputs": [],
   "source": [
    "C2 = copy.deepcopy(C1)\n",
    "C = C2\n",
    "C.subs(a5, 0)"
   ]
  },
  {
   "cell_type": "code",
   "execution_count": 31,
   "id": "adf95164-0ff6-40c1-ba57-37859146e8a8",
   "metadata": {},
   "outputs": [
    {
     "data": {
      "text/latex": [
       "$\\displaystyle \\left[\\begin{matrix}1 & 0 & 0 & 0 & 0 & 0 & -1 & - c_{2} - 1 & - c_{2} - 1 & 1\\\\0 & 1 & 0 & 0 & 0 & 0 & -1 & - c_{2} - 2 & - c_{2} - 1 & 1\\\\0 & 0 & 1 & 0 & 0 & 0 & 1 & c_{2} + 1 & c_{2} & -1\\\\0 & 0 & 0 & 1 & 0 & 0 & 0 & c_{3} + 1 & c_{3} & -1\\\\0 & 0 & 0 & 0 & 1 & 0 & 1 & c_{2} + 2 & c_{2} & -1\\\\0 & 0 & 0 & 0 & 0 & 1 & 0 & -1 & -1 & 0\\end{matrix}\\right]$"
      ],
      "text/plain": [
       "Matrix([\n",
       "[1, 0, 0, 0, 0, 0, -1, -c2 - 1, -c2 - 1,  1],\n",
       "[0, 1, 0, 0, 0, 0, -1, -c2 - 2, -c2 - 1,  1],\n",
       "[0, 0, 1, 0, 0, 0,  1,  c2 + 1,      c2, -1],\n",
       "[0, 0, 0, 1, 0, 0,  0,  c3 + 1,      c3, -1],\n",
       "[0, 0, 0, 0, 1, 0,  1,  c2 + 2,      c2, -1],\n",
       "[0, 0, 0, 0, 0, 1,  0,      -1,      -1,  0]])"
      ]
     },
     "metadata": {},
     "output_type": "display_data"
    },
    {
     "name": "stdout",
     "output_type": "stream",
     "text": [
      "1\n"
     ]
    }
   ],
   "source": [
    "display(C.char)\n",
    "print(C.is_fangiving)\n",
    "fans.append(C.char)"
   ]
  },
  {
   "cell_type": "markdown",
   "id": "a0170989-4687-45b7-b770-89b715f0ae14",
   "metadata": {
    "jp-MarkdownHeadingCollapsed": true
   },
   "source": [
    "## $c_2=-1$ ($a_5 \\not= 0$)"
   ]
  },
  {
   "cell_type": "code",
   "execution_count": 32,
   "id": "9a453afd-2616-46d0-a1eb-13a46acf9dd5",
   "metadata": {},
   "outputs": [],
   "source": [
    "C2 = copy.deepcopy(C1)\n",
    "C = C2\n",
    "C.subs(c2, -1)"
   ]
  },
  {
   "cell_type": "code",
   "execution_count": 33,
   "id": "44ae47a1-d21d-4b4b-8e2b-8b47cea7f5ef",
   "metadata": {},
   "outputs": [
    {
     "name": "stdout",
     "output_type": "stream",
     "text": [
      "facet number: 16\n"
     ]
    },
    {
     "data": {
      "text/latex": [
       "$\\displaystyle a_{5} c_{3} - 1 = -1$"
      ],
      "text/plain": [
       "Eq(a5*c3 - 1, -1)"
      ]
     },
     "metadata": {},
     "output_type": "display_data"
    }
   ],
   "source": [
    "i=16\n",
    "print('facet number:', i)\n",
    "display(sp.Eq(C.determinants[i], C.orientation[i]))\n",
    "\n",
    "C.subs(c3, 0)"
   ]
  },
  {
   "cell_type": "code",
   "execution_count": 34,
   "id": "b5ea0776-a399-47a9-9e29-158f6a3c29f1",
   "metadata": {},
   "outputs": [
    {
     "data": {
      "text/latex": [
       "$\\displaystyle \\left[\\begin{matrix}1 & 0 & 0 & 0 & 0 & 0 & -1 & 0 & 0 & 1\\\\0 & 1 & 0 & 0 & 0 & 0 & -1 & -1 & 0 & 1\\\\0 & 0 & 1 & 0 & 0 & 0 & 1 & 0 & -1 & -1\\\\0 & 0 & 0 & 1 & 0 & 0 & 0 & 1 & 0 & -1\\\\0 & 0 & 0 & 0 & 1 & 0 & 1 & 1 & -1 & -1\\\\0 & 0 & 0 & 0 & 0 & 1 & a_{5} & a_{5} - 1 & -1 & 0\\end{matrix}\\right]$"
      ],
      "text/plain": [
       "Matrix([\n",
       "[1, 0, 0, 0, 0, 0, -1,      0,  0,  1],\n",
       "[0, 1, 0, 0, 0, 0, -1,     -1,  0,  1],\n",
       "[0, 0, 1, 0, 0, 0,  1,      0, -1, -1],\n",
       "[0, 0, 0, 1, 0, 0,  0,      1,  0, -1],\n",
       "[0, 0, 0, 0, 1, 0,  1,      1, -1, -1],\n",
       "[0, 0, 0, 0, 0, 1, a5, a5 - 1, -1,  0]])"
      ]
     },
     "metadata": {},
     "output_type": "display_data"
    },
    {
     "name": "stdout",
     "output_type": "stream",
     "text": [
      "1\n"
     ]
    }
   ],
   "source": [
    "display(C.char)\n",
    "print(C.is_fangiving)\n",
    "fans.append(C.char)"
   ]
  },
  {
   "cell_type": "markdown",
   "id": "f157ad45-0ad0-4178-895f-62f20e0e597a",
   "metadata": {
    "jp-MarkdownHeadingCollapsed": true
   },
   "source": [
    "# Type 3 of the projection"
   ]
  },
  {
   "cell_type": "code",
   "execution_count": 35,
   "id": "47954903-6c06-4003-9d5d-f7696a041b2c",
   "metadata": {},
   "outputs": [
    {
     "data": {
      "text/latex": [
       "$\\displaystyle \\left[\\begin{matrix}1 & 0 & 0 & 0 & 0 & -1 & b_{0} & c_{0} & d_{0}\\\\0 & 1 & 0 & 0 & 0 & -1 & b_{1} & c_{1} & d_{1}\\\\0 & 0 & 1 & 0 & 0 & a_{2} & b_{2} & c_{2} & -1\\\\0 & 0 & 0 & 1 & 0 & a_{3} & b_{3} & c_{3} & -1\\\\0 & 0 & 0 & 0 & 1 & a_{4} & b_{4} & c_{4} & -1\\end{matrix}\\right] = \\left[\\begin{matrix}1 & 0 & 0 & 0 & 0 & -1 & -1 & -1 & 0\\\\0 & 1 & 0 & 0 & 0 & -1 & -2 & -1 & 0\\\\0 & 0 & 1 & 0 & 0 & c_{2} + 1 & 2 c_{2} + 1 & c_{2} & -1\\\\0 & 0 & 0 & 1 & 0 & c_{3} & 2 c_{3} + 1 & c_{3} & -1\\\\0 & 0 & 0 & 0 & 1 & c_{4} + 1 & 2 c_{4} + 2 & c_{4} & -1\\end{matrix}\\right]$"
      ],
      "text/plain": [
       "Eq(Matrix([\n",
       "[1, 0, 0, 0, 0, -1, b0, c0, d0],\n",
       "[0, 1, 0, 0, 0, -1, b1, c1, d1],\n",
       "[0, 0, 1, 0, 0, a2, b2, c2, -1],\n",
       "[0, 0, 0, 1, 0, a3, b3, c3, -1],\n",
       "[0, 0, 0, 0, 1, a4, b4, c4, -1]]), Matrix([\n",
       "[1, 0, 0, 0, 0,     -1,       -1, -1,  0],\n",
       "[0, 1, 0, 0, 0,     -1,       -2, -1,  0],\n",
       "[0, 0, 1, 0, 0, c2 + 1, 2*c2 + 1, c2, -1],\n",
       "[0, 0, 0, 1, 0,     c3, 2*c3 + 1, c3, -1],\n",
       "[0, 0, 0, 0, 1, c4 + 1, 2*c4 + 2, c4, -1]]))"
      ]
     },
     "metadata": {},
     "output_type": "display_data"
    }
   ],
   "source": [
    "C1 = copy.deepcopy(C0)\n",
    "C = C1\n",
    "t=3\n",
    "\n",
    "proj = C.proj([projectied_vertex])\n",
    "with sp.evaluate(False):\n",
    "    display(sp.Eq(proj, fans_link[t]))"
   ]
  },
  {
   "cell_type": "code",
   "execution_count": 36,
   "id": "e799aa53-939f-4a34-96d4-a3552e4354a8",
   "metadata": {},
   "outputs": [
    {
     "data": {
      "text/latex": [
       "$\\displaystyle \\text{True}$"
      ],
      "text/plain": [
       "True"
      ]
     },
     "metadata": {},
     "output_type": "display_data"
    }
   ],
   "source": [
    "C.subs(a2, c2+1)\n",
    "C.subs(a3, c3)\n",
    "C.subs(a4, c4+1)\n",
    "C.subs(b0, -1)\n",
    "C.subs(b1, -2)\n",
    "C.subs(b2, 2*c2+1)\n",
    "C.subs(b3, 2*c3+1)\n",
    "C.subs(b4, 2*c4+2)\n",
    "C.subs(c0, -1)\n",
    "C.subs(c1, -1)\n",
    "C.subs(d0, 0)\n",
    "C.subs(d1, 0)\n",
    "\n",
    "display(sp.Eq(C.proj([projectied_vertex]), fans_link[t]))"
   ]
  },
  {
   "cell_type": "code",
   "execution_count": 37,
   "id": "cd49a829-8096-4365-aa05-80e66870d8c6",
   "metadata": {},
   "outputs": [
    {
     "name": "stdout",
     "output_type": "stream",
     "text": [
      "facet number: 25\n"
     ]
    },
    {
     "data": {
      "text/latex": [
       "$\\displaystyle a_{5} + 1 = 1$"
      ],
      "text/plain": [
       "Eq(a5 + 1, 1)"
      ]
     },
     "metadata": {},
     "output_type": "display_data"
    }
   ],
   "source": [
    "i=25\n",
    "print('facet number:', i)\n",
    "display(sp.Eq(C.determinants[i], C.orientation[i]))\n",
    "\n",
    "C.subs(a5, 0)"
   ]
  },
  {
   "cell_type": "code",
   "execution_count": 38,
   "id": "3bc7ad49-9ad1-4cd5-923a-7fbb5d6091f8",
   "metadata": {},
   "outputs": [
    {
     "name": "stdout",
     "output_type": "stream",
     "text": [
      "facet number: 9\n"
     ]
    },
    {
     "data": {
      "text/latex": [
       "$\\displaystyle b_{5} = -1$"
      ],
      "text/plain": [
       "Eq(b5, -1)"
      ]
     },
     "metadata": {},
     "output_type": "display_data"
    }
   ],
   "source": [
    "i=9\n",
    "print('facet number:', i)\n",
    "display(sp.Eq(C.determinants[i], C.orientation[i]))\n",
    "\n",
    "C.subs(b5, -1)"
   ]
  },
  {
   "cell_type": "code",
   "execution_count": 39,
   "id": "b34df3a5-d55f-4447-b716-611c5c0bbb85",
   "metadata": {},
   "outputs": [
    {
     "name": "stdout",
     "output_type": "stream",
     "text": [
      "facet number: 3\n"
     ]
    },
    {
     "data": {
      "text/latex": [
       "$\\displaystyle c_{4} d_{5} - 1 = -1$"
      ],
      "text/plain": [
       "Eq(c4*d5 - 1, -1)"
      ]
     },
     "metadata": {},
     "output_type": "display_data"
    },
    {
     "name": "stdout",
     "output_type": "stream",
     "text": [
      "facet number: 5\n"
     ]
    },
    {
     "data": {
      "text/latex": [
       "$\\displaystyle - c_{3} d_{5} + 1 = 1$"
      ],
      "text/plain": [
       "Eq(-c3*d5 + 1, 1)"
      ]
     },
     "metadata": {},
     "output_type": "display_data"
    },
    {
     "name": "stdout",
     "output_type": "stream",
     "text": [
      "facet number: 7\n"
     ]
    },
    {
     "data": {
      "text/latex": [
       "$\\displaystyle c_{2} d_{5} - 1 = -1$"
      ],
      "text/plain": [
       "Eq(c2*d5 - 1, -1)"
      ]
     },
     "metadata": {},
     "output_type": "display_data"
    },
    {
     "name": "stdout",
     "output_type": "stream",
     "text": [
      "d5!=0 => c2=c3=c4=0 => type 0\n"
     ]
    }
   ],
   "source": [
    "i=3\n",
    "print('facet number:', i)\n",
    "display(sp.Eq(C.determinants[i], C.orientation[i]))\n",
    "\n",
    "i=5\n",
    "print('facet number:', i)\n",
    "display(sp.Eq(C.determinants[i], C.orientation[i]))\n",
    "\n",
    "i=7\n",
    "print('facet number:', i)\n",
    "display(sp.Eq(C.determinants[i], C.orientation[i]))\n",
    "\n",
    "print('d5!=0 => c2=c3=c4=0 => type 0')\n",
    "\n",
    "C.subs(d5, 0)"
   ]
  },
  {
   "cell_type": "code",
   "execution_count": 40,
   "id": "25680c85-1644-417d-8abd-6c4eef878dde",
   "metadata": {},
   "outputs": [
    {
     "data": {
      "text/latex": [
       "$\\displaystyle \\left[\\begin{matrix}1 & 0 & 0 & 0 & 0 & 0 & -1 & -1 & -1 & 0\\\\0 & 1 & 0 & 0 & 0 & 0 & -1 & -2 & -1 & 0\\\\0 & 0 & 1 & 0 & 0 & 0 & c_{2} + 1 & 2 c_{2} + 1 & c_{2} & -1\\\\0 & 0 & 0 & 1 & 0 & 0 & c_{3} & 2 c_{3} + 1 & c_{3} & -1\\\\0 & 0 & 0 & 0 & 1 & 0 & c_{4} + 1 & 2 c_{4} + 2 & c_{4} & -1\\\\0 & 0 & 0 & 0 & 0 & 1 & 0 & -1 & -1 & 0\\end{matrix}\\right]$"
      ],
      "text/plain": [
       "Matrix([\n",
       "[1, 0, 0, 0, 0, 0,     -1,       -1, -1,  0],\n",
       "[0, 1, 0, 0, 0, 0,     -1,       -2, -1,  0],\n",
       "[0, 0, 1, 0, 0, 0, c2 + 1, 2*c2 + 1, c2, -1],\n",
       "[0, 0, 0, 1, 0, 0,     c3, 2*c3 + 1, c3, -1],\n",
       "[0, 0, 0, 0, 1, 0, c4 + 1, 2*c4 + 2, c4, -1],\n",
       "[0, 0, 0, 0, 0, 1,      0,       -1, -1,  0]])"
      ]
     },
     "metadata": {},
     "output_type": "display_data"
    },
    {
     "name": "stdout",
     "output_type": "stream",
     "text": [
      "1\n"
     ]
    }
   ],
   "source": [
    "display(C.char)\n",
    "print(C.is_fangiving)\n",
    "fans.append(C.char)"
   ]
  },
  {
   "cell_type": "markdown",
   "id": "8ab52fdb-bc4c-4dda-b92f-0a47dd32949d",
   "metadata": {
    "jp-MarkdownHeadingCollapsed": true
   },
   "source": [
    "# Type 4 of the projection"
   ]
  },
  {
   "cell_type": "code",
   "execution_count": 41,
   "id": "e5fe9134-df6a-4757-9aca-11bec84d13eb",
   "metadata": {},
   "outputs": [
    {
     "data": {
      "text/latex": [
       "$\\displaystyle \\left[\\begin{matrix}1 & 0 & 0 & 0 & 0 & -1 & b_{0} & c_{0} & d_{0}\\\\0 & 1 & 0 & 0 & 0 & -1 & b_{1} & c_{1} & d_{1}\\\\0 & 0 & 1 & 0 & 0 & a_{2} & b_{2} & c_{2} & -1\\\\0 & 0 & 0 & 1 & 0 & a_{3} & b_{3} & c_{3} & -1\\\\0 & 0 & 0 & 0 & 1 & a_{4} & b_{4} & c_{4} & -1\\end{matrix}\\right] = \\left[\\begin{matrix}1 & 0 & 0 & 0 & 0 & -1 & 0 & 0 & 1\\\\0 & 1 & 0 & 0 & 0 & -1 & -1 & 0 & 1\\\\0 & 0 & 1 & 0 & 0 & a_{2} & a_{2} - 1 & -1 & -1\\\\0 & 0 & 0 & 1 & 0 & 0 & 1 & 0 & -1\\\\0 & 0 & 0 & 0 & 1 & a_{4} & a_{4} & -1 & -1\\end{matrix}\\right]$"
      ],
      "text/plain": [
       "Eq(Matrix([\n",
       "[1, 0, 0, 0, 0, -1, b0, c0, d0],\n",
       "[0, 1, 0, 0, 0, -1, b1, c1, d1],\n",
       "[0, 0, 1, 0, 0, a2, b2, c2, -1],\n",
       "[0, 0, 0, 1, 0, a3, b3, c3, -1],\n",
       "[0, 0, 0, 0, 1, a4, b4, c4, -1]]), Matrix([\n",
       "[1, 0, 0, 0, 0, -1,      0,  0,  1],\n",
       "[0, 1, 0, 0, 0, -1,     -1,  0,  1],\n",
       "[0, 0, 1, 0, 0, a2, a2 - 1, -1, -1],\n",
       "[0, 0, 0, 1, 0,  0,      1,  0, -1],\n",
       "[0, 0, 0, 0, 1, a4,     a4, -1, -1]]))"
      ]
     },
     "metadata": {},
     "output_type": "display_data"
    }
   ],
   "source": [
    "C1 = copy.deepcopy(C0)\n",
    "C = C1\n",
    "t=4\n",
    "\n",
    "proj = C.proj([projectied_vertex])\n",
    "with sp.evaluate(False):\n",
    "    display(sp.Eq(proj, fans_link[t]))"
   ]
  },
  {
   "cell_type": "code",
   "execution_count": 42,
   "id": "d27dd806-99ce-449f-ac65-74a93650bbfb",
   "metadata": {},
   "outputs": [
    {
     "data": {
      "text/latex": [
       "$\\displaystyle \\text{True}$"
      ],
      "text/plain": [
       "True"
      ]
     },
     "metadata": {},
     "output_type": "display_data"
    }
   ],
   "source": [
    "C.subs(a3, 0)\n",
    "C.subs(b0, 0)\n",
    "C.subs(b1, -1)\n",
    "C.subs(b2, a2-1)\n",
    "C.subs(b3, 1)\n",
    "C.subs(b4, a4)\n",
    "C.subs(c0, 0)\n",
    "C.subs(c1, 0)\n",
    "C.subs(c2, -1)\n",
    "C.subs(c3, 0)\n",
    "C.subs(c4, -1)\n",
    "C.subs(d0, 1)\n",
    "C.subs(d1, 1)\n",
    "\n",
    "display(sp.Eq(C.proj([projectied_vertex]), fans_link[t]))"
   ]
  },
  {
   "cell_type": "code",
   "execution_count": 43,
   "id": "50692365-6f6c-4a2f-a785-488122b3b354",
   "metadata": {},
   "outputs": [
    {
     "name": "stdout",
     "output_type": "stream",
     "text": [
      "facet number: 3\n"
     ]
    },
    {
     "data": {
      "text/latex": [
       "$\\displaystyle - d_{5} - 1 = -1$"
      ],
      "text/plain": [
       "Eq(-d5 - 1, -1)"
      ]
     },
     "metadata": {},
     "output_type": "display_data"
    }
   ],
   "source": [
    "i=3\n",
    "print('facet number:', i)\n",
    "display(sp.Eq(C.determinants[i], C.orientation[i]))\n",
    "\n",
    "C.subs(d5, 0)"
   ]
  },
  {
   "cell_type": "code",
   "execution_count": 44,
   "id": "fe87eff4-bab5-4bbd-b978-43e5f5ec75da",
   "metadata": {},
   "outputs": [
    {
     "name": "stdout",
     "output_type": "stream",
     "text": [
      "facet number: 9\n"
     ]
    },
    {
     "data": {
      "text/latex": [
       "$\\displaystyle - a_{5} + b_{5} = -1$"
      ],
      "text/plain": [
       "Eq(-a5 + b5, -1)"
      ]
     },
     "metadata": {},
     "output_type": "display_data"
    }
   ],
   "source": [
    "i=9\n",
    "print('facet number:', i)\n",
    "display(sp.Eq(C.determinants[i], C.orientation[i]))\n",
    "\n",
    "C.subs(b5, a5-1)"
   ]
  },
  {
   "cell_type": "code",
   "execution_count": 45,
   "id": "a086aa1e-6b75-4de3-8651-80df6d984315",
   "metadata": {},
   "outputs": [
    {
     "data": {
      "text/latex": [
       "$\\displaystyle \\left[\\begin{matrix}1 & 0 & 0 & 0 & 0 & 0 & -1 & 0 & 0 & 1\\\\0 & 1 & 0 & 0 & 0 & 0 & -1 & -1 & 0 & 1\\\\0 & 0 & 1 & 0 & 0 & 0 & a_{2} & a_{2} - 1 & -1 & -1\\\\0 & 0 & 0 & 1 & 0 & 0 & 0 & 1 & 0 & -1\\\\0 & 0 & 0 & 0 & 1 & 0 & a_{4} & a_{4} & -1 & -1\\\\0 & 0 & 0 & 0 & 0 & 1 & a_{5} & a_{5} - 1 & -1 & 0\\end{matrix}\\right]$"
      ],
      "text/plain": [
       "Matrix([\n",
       "[1, 0, 0, 0, 0, 0, -1,      0,  0,  1],\n",
       "[0, 1, 0, 0, 0, 0, -1,     -1,  0,  1],\n",
       "[0, 0, 1, 0, 0, 0, a2, a2 - 1, -1, -1],\n",
       "[0, 0, 0, 1, 0, 0,  0,      1,  0, -1],\n",
       "[0, 0, 0, 0, 1, 0, a4,     a4, -1, -1],\n",
       "[0, 0, 0, 0, 0, 1, a5, a5 - 1, -1,  0]])"
      ]
     },
     "metadata": {},
     "output_type": "display_data"
    },
    {
     "name": "stdout",
     "output_type": "stream",
     "text": [
      "1\n"
     ]
    }
   ],
   "source": [
    "display(C.char)\n",
    "print(C.is_fangiving)\n",
    "fans.append(C.char)"
   ]
  },
  {
   "cell_type": "markdown",
   "id": "4f26fee5-c29b-45b7-8b10-90384808406e",
   "metadata": {
    "jp-MarkdownHeadingCollapsed": true
   },
   "source": [
    "# There are 5 types of fans up to D-J equivalence"
   ]
  },
  {
   "cell_type": "markdown",
   "id": "a15f2171-c6f5-4b81-b34a-b136a2025094",
   "metadata": {
    "jp-MarkdownHeadingCollapsed": true
   },
   "source": [
    "## removing redundatnt ones"
   ]
  },
  {
   "cell_type": "code",
   "execution_count": 46,
   "id": "2febc058-1864-4f1b-8d8d-5ddcc343d413",
   "metadata": {},
   "outputs": [
    {
     "data": {
      "text/latex": [
       "$\\displaystyle \\left[\\begin{matrix}1 & 0 & 0 & 0 & 0 & 0 & -1 & 0 & 0 & 1\\\\0 & 1 & 0 & 0 & 0 & 0 & -1 & -1 & 0 & 1\\\\0 & 0 & 1 & 0 & 0 & 0 & 0 & -1 & -1 & -1\\\\0 & 0 & 0 & 1 & 0 & 0 & 0 & 1 & 0 & -1\\\\0 & 0 & 0 & 0 & 1 & 0 & 0 & 0 & -1 & -1\\\\0 & 0 & 0 & 0 & 0 & 1 & a_{5} & a_{5} - 1 & -1 & 0\\end{matrix}\\right]$"
      ],
      "text/plain": [
       "Matrix([\n",
       "[1, 0, 0, 0, 0, 0, -1,      0,  0,  1],\n",
       "[0, 1, 0, 0, 0, 0, -1,     -1,  0,  1],\n",
       "[0, 0, 1, 0, 0, 0,  0,     -1, -1, -1],\n",
       "[0, 0, 0, 1, 0, 0,  0,      1,  0, -1],\n",
       "[0, 0, 0, 0, 1, 0,  0,      0, -1, -1],\n",
       "[0, 0, 0, 0, 0, 1, a5, a5 - 1, -1,  0]])"
      ]
     },
     "metadata": {},
     "output_type": "display_data"
    },
    {
     "data": {
      "text/latex": [
       "$\\displaystyle \\left[\\begin{matrix}1 & 0 & 0 & 0 & 0 & 0 & -1 & 0 & 0 & 1\\\\0 & 1 & 0 & 0 & 0 & 0 & -1 & -1 & 0 & 1\\\\0 & 0 & 1 & 0 & 0 & 0 & a_{2} & a_{2} - 1 & -1 & -1\\\\0 & 0 & 0 & 1 & 0 & 0 & 0 & 1 & 0 & -1\\\\0 & 0 & 0 & 0 & 1 & 0 & a_{4} & a_{4} & -1 & -1\\\\0 & 0 & 0 & 0 & 0 & 1 & a_{5} & a_{5} - 1 & -1 & 0\\end{matrix}\\right]$"
      ],
      "text/plain": [
       "Matrix([\n",
       "[1, 0, 0, 0, 0, 0, -1,      0,  0,  1],\n",
       "[0, 1, 0, 0, 0, 0, -1,     -1,  0,  1],\n",
       "[0, 0, 1, 0, 0, 0, a2, a2 - 1, -1, -1],\n",
       "[0, 0, 0, 1, 0, 0,  0,      1,  0, -1],\n",
       "[0, 0, 0, 0, 1, 0, a4,     a4, -1, -1],\n",
       "[0, 0, 0, 0, 0, 1, a5, a5 - 1, -1,  0]])"
      ]
     },
     "metadata": {},
     "output_type": "display_data"
    },
    {
     "data": {
      "text/latex": [
       "$\\displaystyle \\text{True}$"
      ],
      "text/plain": [
       "True"
      ]
     },
     "metadata": {},
     "output_type": "display_data"
    }
   ],
   "source": [
    "i, j = 2, 6\n",
    "display(fans[i], fans[j])\n",
    "display(sp.Eq(fans[i],fans[j].subs(a2, 0).subs(a4,0)))\n",
    "fans.remove(fans[i])"
   ]
  },
  {
   "cell_type": "code",
   "execution_count": 47,
   "id": "1382d0e6-5929-4cd3-ab53-3021db5188a9",
   "metadata": {},
   "outputs": [
    {
     "data": {
      "text/latex": [
       "$\\displaystyle \\left[\\begin{matrix}1 & 0 & 0 & 0 & 0 & 0 & -1 & 0 & 0 & 1\\\\0 & 1 & 0 & 0 & 0 & 0 & -1 & -1 & 0 & 1\\\\0 & 0 & 1 & 0 & 0 & 0 & 1 & 0 & -1 & -1\\\\0 & 0 & 0 & 1 & 0 & 0 & 0 & 1 & 0 & -1\\\\0 & 0 & 0 & 0 & 1 & 0 & 1 & 1 & -1 & -1\\\\0 & 0 & 0 & 0 & 0 & 1 & a_{5} & a_{5} - 1 & -1 & 0\\end{matrix}\\right]$"
      ],
      "text/plain": [
       "Matrix([\n",
       "[1, 0, 0, 0, 0, 0, -1,      0,  0,  1],\n",
       "[0, 1, 0, 0, 0, 0, -1,     -1,  0,  1],\n",
       "[0, 0, 1, 0, 0, 0,  1,      0, -1, -1],\n",
       "[0, 0, 0, 1, 0, 0,  0,      1,  0, -1],\n",
       "[0, 0, 0, 0, 1, 0,  1,      1, -1, -1],\n",
       "[0, 0, 0, 0, 0, 1, a5, a5 - 1, -1,  0]])"
      ]
     },
     "metadata": {},
     "output_type": "display_data"
    },
    {
     "data": {
      "text/latex": [
       "$\\displaystyle \\left[\\begin{matrix}1 & 0 & 0 & 0 & 0 & 0 & -1 & 0 & 0 & 1\\\\0 & 1 & 0 & 0 & 0 & 0 & -1 & -1 & 0 & 1\\\\0 & 0 & 1 & 0 & 0 & 0 & a_{2} & a_{2} - 1 & -1 & -1\\\\0 & 0 & 0 & 1 & 0 & 0 & 0 & 1 & 0 & -1\\\\0 & 0 & 0 & 0 & 1 & 0 & a_{4} & a_{4} & -1 & -1\\\\0 & 0 & 0 & 0 & 0 & 1 & a_{5} & a_{5} - 1 & -1 & 0\\end{matrix}\\right]$"
      ],
      "text/plain": [
       "Matrix([\n",
       "[1, 0, 0, 0, 0, 0, -1,      0,  0,  1],\n",
       "[0, 1, 0, 0, 0, 0, -1,     -1,  0,  1],\n",
       "[0, 0, 1, 0, 0, 0, a2, a2 - 1, -1, -1],\n",
       "[0, 0, 0, 1, 0, 0,  0,      1,  0, -1],\n",
       "[0, 0, 0, 0, 1, 0, a4,     a4, -1, -1],\n",
       "[0, 0, 0, 0, 0, 1, a5, a5 - 1, -1,  0]])"
      ]
     },
     "metadata": {},
     "output_type": "display_data"
    },
    {
     "data": {
      "text/latex": [
       "$\\displaystyle \\text{True}$"
      ],
      "text/plain": [
       "True"
      ]
     },
     "metadata": {},
     "output_type": "display_data"
    }
   ],
   "source": [
    "i, j = 3, 5\n",
    "display(fans[i], fans[j])\n",
    "display(sp.Eq(fans[i],fans[j].subs(a2, 1).subs(a4,1)))\n",
    "fans.remove(fans[i])"
   ]
  },
  {
   "cell_type": "markdown",
   "id": "ad880c11-a2bf-4410-8385-17707aeebec7",
   "metadata": {
    "jp-MarkdownHeadingCollapsed": true
   },
   "source": [
    "## list"
   ]
  },
  {
   "cell_type": "code",
   "execution_count": 48,
   "id": "70a6fda2-396f-4fc1-a2c6-b7b385d8319f",
   "metadata": {},
   "outputs": [
    {
     "data": {
      "text/latex": [
       "$\\displaystyle \\left[\\begin{matrix}1 & 0 & 0 & 0 & 0 & 0 & -1 & -1 & -1 & d_{0}\\\\0 & 1 & 0 & 0 & 0 & 0 & -1 & -2 & -1 & d_{1}\\\\0 & 0 & 1 & 0 & 0 & 0 & 1 & 1 & 0 & -1\\\\0 & 0 & 0 & 1 & 0 & 0 & 0 & 1 & 0 & -1\\\\0 & 0 & 0 & 0 & 1 & 0 & 1 & 2 & 0 & -1\\\\0 & 0 & 0 & 0 & 0 & 1 & 0 & -1 & -1 & d_{5}\\end{matrix}\\right]$"
      ],
      "text/plain": [
       "Matrix([\n",
       "[1, 0, 0, 0, 0, 0, -1, -1, -1, d0],\n",
       "[0, 1, 0, 0, 0, 0, -1, -2, -1, d1],\n",
       "[0, 0, 1, 0, 0, 0,  1,  1,  0, -1],\n",
       "[0, 0, 0, 1, 0, 0,  0,  1,  0, -1],\n",
       "[0, 0, 0, 0, 1, 0,  1,  2,  0, -1],\n",
       "[0, 0, 0, 0, 0, 1,  0, -1, -1, d5]])"
      ]
     },
     "metadata": {},
     "output_type": "display_data"
    },
    {
     "data": {
      "text/latex": [
       "$\\displaystyle \\left[\\begin{matrix}1 & 0 & 0 & 0 & 0 & 0 & -1 & d_{0} - 1 & d_{0} - 1 & d_{0}\\\\0 & 1 & 0 & 0 & 0 & 0 & -1 & d_{1} - 2 & d_{1} - 1 & d_{1}\\\\0 & 0 & 1 & 0 & 0 & 0 & 0 & -1 & -1 & -1\\\\0 & 0 & 0 & 1 & 0 & 0 & 0 & 1 & 0 & -1\\\\0 & 0 & 0 & 0 & 1 & 0 & 0 & 0 & -1 & -1\\\\0 & 0 & 0 & 0 & 0 & 1 & 0 & -1 & -1 & 0\\end{matrix}\\right]$"
      ],
      "text/plain": [
       "Matrix([\n",
       "[1, 0, 0, 0, 0, 0, -1, d0 - 1, d0 - 1, d0],\n",
       "[0, 1, 0, 0, 0, 0, -1, d1 - 2, d1 - 1, d1],\n",
       "[0, 0, 1, 0, 0, 0,  0,     -1,     -1, -1],\n",
       "[0, 0, 0, 1, 0, 0,  0,      1,      0, -1],\n",
       "[0, 0, 0, 0, 1, 0,  0,      0,     -1, -1],\n",
       "[0, 0, 0, 0, 0, 1,  0,     -1,     -1,  0]])"
      ]
     },
     "metadata": {},
     "output_type": "display_data"
    },
    {
     "data": {
      "text/latex": [
       "$\\displaystyle \\left[\\begin{matrix}1 & 0 & 0 & 0 & 0 & 0 & -1 & - c_{2} - 1 & - c_{2} - 1 & 1\\\\0 & 1 & 0 & 0 & 0 & 0 & -1 & - c_{2} - 2 & - c_{2} - 1 & 1\\\\0 & 0 & 1 & 0 & 0 & 0 & 1 & c_{2} + 1 & c_{2} & -1\\\\0 & 0 & 0 & 1 & 0 & 0 & 0 & c_{3} + 1 & c_{3} & -1\\\\0 & 0 & 0 & 0 & 1 & 0 & 1 & c_{2} + 2 & c_{2} & -1\\\\0 & 0 & 0 & 0 & 0 & 1 & 0 & -1 & -1 & 0\\end{matrix}\\right]$"
      ],
      "text/plain": [
       "Matrix([\n",
       "[1, 0, 0, 0, 0, 0, -1, -c2 - 1, -c2 - 1,  1],\n",
       "[0, 1, 0, 0, 0, 0, -1, -c2 - 2, -c2 - 1,  1],\n",
       "[0, 0, 1, 0, 0, 0,  1,  c2 + 1,      c2, -1],\n",
       "[0, 0, 0, 1, 0, 0,  0,  c3 + 1,      c3, -1],\n",
       "[0, 0, 0, 0, 1, 0,  1,  c2 + 2,      c2, -1],\n",
       "[0, 0, 0, 0, 0, 1,  0,      -1,      -1,  0]])"
      ]
     },
     "metadata": {},
     "output_type": "display_data"
    },
    {
     "data": {
      "text/latex": [
       "$\\displaystyle \\left[\\begin{matrix}1 & 0 & 0 & 0 & 0 & 0 & -1 & -1 & -1 & 0\\\\0 & 1 & 0 & 0 & 0 & 0 & -1 & -2 & -1 & 0\\\\0 & 0 & 1 & 0 & 0 & 0 & c_{2} + 1 & 2 c_{2} + 1 & c_{2} & -1\\\\0 & 0 & 0 & 1 & 0 & 0 & c_{3} & 2 c_{3} + 1 & c_{3} & -1\\\\0 & 0 & 0 & 0 & 1 & 0 & c_{4} + 1 & 2 c_{4} + 2 & c_{4} & -1\\\\0 & 0 & 0 & 0 & 0 & 1 & 0 & -1 & -1 & 0\\end{matrix}\\right]$"
      ],
      "text/plain": [
       "Matrix([\n",
       "[1, 0, 0, 0, 0, 0,     -1,       -1, -1,  0],\n",
       "[0, 1, 0, 0, 0, 0,     -1,       -2, -1,  0],\n",
       "[0, 0, 1, 0, 0, 0, c2 + 1, 2*c2 + 1, c2, -1],\n",
       "[0, 0, 0, 1, 0, 0,     c3, 2*c3 + 1, c3, -1],\n",
       "[0, 0, 0, 0, 1, 0, c4 + 1, 2*c4 + 2, c4, -1],\n",
       "[0, 0, 0, 0, 0, 1,      0,       -1, -1,  0]])"
      ]
     },
     "metadata": {},
     "output_type": "display_data"
    },
    {
     "data": {
      "text/latex": [
       "$\\displaystyle \\left[\\begin{matrix}1 & 0 & 0 & 0 & 0 & 0 & -1 & 0 & 0 & 1\\\\0 & 1 & 0 & 0 & 0 & 0 & -1 & -1 & 0 & 1\\\\0 & 0 & 1 & 0 & 0 & 0 & a_{2} & a_{2} - 1 & -1 & -1\\\\0 & 0 & 0 & 1 & 0 & 0 & 0 & 1 & 0 & -1\\\\0 & 0 & 0 & 0 & 1 & 0 & a_{4} & a_{4} & -1 & -1\\\\0 & 0 & 0 & 0 & 0 & 1 & a_{5} & a_{5} - 1 & -1 & 0\\end{matrix}\\right]$"
      ],
      "text/plain": [
       "Matrix([\n",
       "[1, 0, 0, 0, 0, 0, -1,      0,  0,  1],\n",
       "[0, 1, 0, 0, 0, 0, -1,     -1,  0,  1],\n",
       "[0, 0, 1, 0, 0, 0, a2, a2 - 1, -1, -1],\n",
       "[0, 0, 0, 1, 0, 0,  0,      1,  0, -1],\n",
       "[0, 0, 0, 0, 1, 0, a4,     a4, -1, -1],\n",
       "[0, 0, 0, 0, 0, 1, a5, a5 - 1, -1,  0]])"
      ]
     },
     "metadata": {},
     "output_type": "display_data"
    }
   ],
   "source": [
    "for f in fans:\n",
    "    display(f)"
   ]
  },
  {
   "cell_type": "markdown",
   "id": "4531c34f-35ce-4da2-b3e8-f734d740f065",
   "metadata": {
    "jp-MarkdownHeadingCollapsed": true
   },
   "source": [
    "# Connections between types"
   ]
  },
  {
   "cell_type": "markdown",
   "id": "f6158e70-a423-4b66-bac9-e56d7ebeb946",
   "metadata": {
    "jp-MarkdownHeadingCollapsed": true
   },
   "source": [
    "## fan 0"
   ]
  },
  {
   "cell_type": "markdown",
   "id": "5de7cf27-c85f-4494-b7f2-bbda57dbc715",
   "metadata": {
    "jp-MarkdownHeadingCollapsed": true
   },
   "source": [
    "### fan 2 ($c_2=0$, $c_3=0$, $d_0=1$, $d_1=1$, $d_5=0$)"
   ]
  },
  {
   "cell_type": "code",
   "execution_count": 49,
   "id": "ecc83d24-3edc-407b-8967-3e4b8d8b7d31",
   "metadata": {},
   "outputs": [
    {
     "data": {
      "text/latex": [
       "$\\displaystyle \\left[\\begin{matrix}1 & 0 & 0 & 0 & 0 & 0 & -1 & -1 & -1 & d_{0}\\\\0 & 1 & 0 & 0 & 0 & 0 & -1 & -2 & -1 & d_{1}\\\\0 & 0 & 1 & 0 & 0 & 0 & 1 & 1 & 0 & -1\\\\0 & 0 & 0 & 1 & 0 & 0 & 0 & 1 & 0 & -1\\\\0 & 0 & 0 & 0 & 1 & 0 & 1 & 2 & 0 & -1\\\\0 & 0 & 0 & 0 & 0 & 1 & 0 & -1 & -1 & d_{5}\\end{matrix}\\right]$"
      ],
      "text/plain": [
       "Matrix([\n",
       "[1, 0, 0, 0, 0, 0, -1, -1, -1, d0],\n",
       "[0, 1, 0, 0, 0, 0, -1, -2, -1, d1],\n",
       "[0, 0, 1, 0, 0, 0,  1,  1,  0, -1],\n",
       "[0, 0, 0, 1, 0, 0,  0,  1,  0, -1],\n",
       "[0, 0, 0, 0, 1, 0,  1,  2,  0, -1],\n",
       "[0, 0, 0, 0, 0, 1,  0, -1, -1, d5]])"
      ]
     },
     "metadata": {},
     "output_type": "display_data"
    },
    {
     "data": {
      "text/latex": [
       "$\\displaystyle \\left[\\begin{matrix}1 & 0 & 0 & 0 & 0 & 0 & -1 & - c_{2} - 1 & - c_{2} - 1 & 1\\\\0 & 1 & 0 & 0 & 0 & 0 & -1 & - c_{2} - 2 & - c_{2} - 1 & 1\\\\0 & 0 & 1 & 0 & 0 & 0 & 1 & c_{2} + 1 & c_{2} & -1\\\\0 & 0 & 0 & 1 & 0 & 0 & 0 & c_{3} + 1 & c_{3} & -1\\\\0 & 0 & 0 & 0 & 1 & 0 & 1 & c_{2} + 2 & c_{2} & -1\\\\0 & 0 & 0 & 0 & 0 & 1 & 0 & -1 & -1 & 0\\end{matrix}\\right]$"
      ],
      "text/plain": [
       "Matrix([\n",
       "[1, 0, 0, 0, 0, 0, -1, -c2 - 1, -c2 - 1,  1],\n",
       "[0, 1, 0, 0, 0, 0, -1, -c2 - 2, -c2 - 1,  1],\n",
       "[0, 0, 1, 0, 0, 0,  1,  c2 + 1,      c2, -1],\n",
       "[0, 0, 0, 1, 0, 0,  0,  c3 + 1,      c3, -1],\n",
       "[0, 0, 0, 0, 1, 0,  1,  c2 + 2,      c2, -1],\n",
       "[0, 0, 0, 0, 0, 1,  0,      -1,      -1,  0]])"
      ]
     },
     "metadata": {},
     "output_type": "display_data"
    },
    {
     "data": {
      "text/latex": [
       "$\\displaystyle \\text{True}$"
      ],
      "text/plain": [
       "True"
      ]
     },
     "metadata": {},
     "output_type": "display_data"
    }
   ],
   "source": [
    "i, j = 0, 2\n",
    "display(fans[i], fans[j])\n",
    "display(sp.Eq(fans[i].subs(d0,1).subs(d1,1).subs(d5,0),fans[j].subs(c2, 0).subs(c3,0)))"
   ]
  },
  {
   "cell_type": "markdown",
   "id": "1d8d8f4e-a24b-400f-8732-6814fc7b99d1",
   "metadata": {
    "jp-MarkdownHeadingCollapsed": true
   },
   "source": [
    "### fan 3 ($c_2=0$, $c_3=0$, $c_4=0$, $d_0=0$, $d_1=0$, $d_5=0$)"
   ]
  },
  {
   "cell_type": "code",
   "execution_count": 58,
   "id": "a321ead7-77f4-4a2d-b239-1588103f0a9f",
   "metadata": {},
   "outputs": [
    {
     "data": {
      "text/latex": [
       "$\\displaystyle \\left[\\begin{matrix}1 & 0 & 0 & 0 & 0 & 0 & -1 & -1 & -1 & d_{0}\\\\0 & 1 & 0 & 0 & 0 & 0 & -1 & -2 & -1 & d_{1}\\\\0 & 0 & 1 & 0 & 0 & 0 & 1 & 1 & 0 & -1\\\\0 & 0 & 0 & 1 & 0 & 0 & 0 & 1 & 0 & -1\\\\0 & 0 & 0 & 0 & 1 & 0 & 1 & 2 & 0 & -1\\\\0 & 0 & 0 & 0 & 0 & 1 & 0 & -1 & -1 & d_{5}\\end{matrix}\\right]$"
      ],
      "text/plain": [
       "Matrix([\n",
       "[1, 0, 0, 0, 0, 0, -1, -1, -1, d0],\n",
       "[0, 1, 0, 0, 0, 0, -1, -2, -1, d1],\n",
       "[0, 0, 1, 0, 0, 0,  1,  1,  0, -1],\n",
       "[0, 0, 0, 1, 0, 0,  0,  1,  0, -1],\n",
       "[0, 0, 0, 0, 1, 0,  1,  2,  0, -1],\n",
       "[0, 0, 0, 0, 0, 1,  0, -1, -1, d5]])"
      ]
     },
     "metadata": {},
     "output_type": "display_data"
    },
    {
     "data": {
      "text/latex": [
       "$\\displaystyle \\left[\\begin{matrix}1 & 0 & 0 & 0 & 0 & 0 & -1 & -1 & -1 & 0\\\\0 & 1 & 0 & 0 & 0 & 0 & -1 & -2 & -1 & 0\\\\0 & 0 & 1 & 0 & 0 & 0 & c_{2} + 1 & 2 c_{2} + 1 & c_{2} & -1\\\\0 & 0 & 0 & 1 & 0 & 0 & c_{3} & 2 c_{3} + 1 & c_{3} & -1\\\\0 & 0 & 0 & 0 & 1 & 0 & c_{4} + 1 & 2 c_{4} + 2 & c_{4} & -1\\\\0 & 0 & 0 & 0 & 0 & 1 & 0 & -1 & -1 & 0\\end{matrix}\\right]$"
      ],
      "text/plain": [
       "Matrix([\n",
       "[1, 0, 0, 0, 0, 0,     -1,       -1, -1,  0],\n",
       "[0, 1, 0, 0, 0, 0,     -1,       -2, -1,  0],\n",
       "[0, 0, 1, 0, 0, 0, c2 + 1, 2*c2 + 1, c2, -1],\n",
       "[0, 0, 0, 1, 0, 0,     c3, 2*c3 + 1, c3, -1],\n",
       "[0, 0, 0, 0, 1, 0, c4 + 1, 2*c4 + 2, c4, -1],\n",
       "[0, 0, 0, 0, 0, 1,      0,       -1, -1,  0]])"
      ]
     },
     "metadata": {},
     "output_type": "display_data"
    },
    {
     "data": {
      "text/latex": [
       "$\\displaystyle \\text{True}$"
      ],
      "text/plain": [
       "True"
      ]
     },
     "metadata": {},
     "output_type": "display_data"
    }
   ],
   "source": [
    "i, j = 0, 3\n",
    "display(fans[i], fans[j])\n",
    "display(sp.Eq(fans[i].subs(d0,0).subs(d1,0).subs(d5,0),fans[j].subs(c2, 0).subs(c3,0).subs(c4,0)))"
   ]
  },
  {
   "cell_type": "markdown",
   "id": "e7512130-44fd-4a78-ac56-a09e6defb666",
   "metadata": {
    "jp-MarkdownHeadingCollapsed": true
   },
   "source": [
    "## fan 1"
   ]
  },
  {
   "cell_type": "markdown",
   "id": "e8b9978f-05a9-4523-904d-41bb316199b8",
   "metadata": {
    "jp-MarkdownHeadingCollapsed": true
   },
   "source": [
    "### fan 3 ($c_2=-1$, $c_3=0$, $c_4=-1$, $d_0=0$, $d_1=0$)"
   ]
  },
  {
   "cell_type": "code",
   "execution_count": 60,
   "id": "bab50622-99f4-48fe-a987-b5b8b5b2a5c6",
   "metadata": {},
   "outputs": [
    {
     "data": {
      "text/latex": [
       "$\\displaystyle \\left[\\begin{matrix}1 & 0 & 0 & 0 & 0 & 0 & -1 & d_{0} - 1 & d_{0} - 1 & d_{0}\\\\0 & 1 & 0 & 0 & 0 & 0 & -1 & d_{1} - 2 & d_{1} - 1 & d_{1}\\\\0 & 0 & 1 & 0 & 0 & 0 & 0 & -1 & -1 & -1\\\\0 & 0 & 0 & 1 & 0 & 0 & 0 & 1 & 0 & -1\\\\0 & 0 & 0 & 0 & 1 & 0 & 0 & 0 & -1 & -1\\\\0 & 0 & 0 & 0 & 0 & 1 & 0 & -1 & -1 & 0\\end{matrix}\\right]$"
      ],
      "text/plain": [
       "Matrix([\n",
       "[1, 0, 0, 0, 0, 0, -1, d0 - 1, d0 - 1, d0],\n",
       "[0, 1, 0, 0, 0, 0, -1, d1 - 2, d1 - 1, d1],\n",
       "[0, 0, 1, 0, 0, 0,  0,     -1,     -1, -1],\n",
       "[0, 0, 0, 1, 0, 0,  0,      1,      0, -1],\n",
       "[0, 0, 0, 0, 1, 0,  0,      0,     -1, -1],\n",
       "[0, 0, 0, 0, 0, 1,  0,     -1,     -1,  0]])"
      ]
     },
     "metadata": {},
     "output_type": "display_data"
    },
    {
     "data": {
      "text/latex": [
       "$\\displaystyle \\left[\\begin{matrix}1 & 0 & 0 & 0 & 0 & 0 & -1 & -1 & -1 & 0\\\\0 & 1 & 0 & 0 & 0 & 0 & -1 & -2 & -1 & 0\\\\0 & 0 & 1 & 0 & 0 & 0 & c_{2} + 1 & 2 c_{2} + 1 & c_{2} & -1\\\\0 & 0 & 0 & 1 & 0 & 0 & c_{3} & 2 c_{3} + 1 & c_{3} & -1\\\\0 & 0 & 0 & 0 & 1 & 0 & c_{4} + 1 & 2 c_{4} + 2 & c_{4} & -1\\\\0 & 0 & 0 & 0 & 0 & 1 & 0 & -1 & -1 & 0\\end{matrix}\\right]$"
      ],
      "text/plain": [
       "Matrix([\n",
       "[1, 0, 0, 0, 0, 0,     -1,       -1, -1,  0],\n",
       "[0, 1, 0, 0, 0, 0,     -1,       -2, -1,  0],\n",
       "[0, 0, 1, 0, 0, 0, c2 + 1, 2*c2 + 1, c2, -1],\n",
       "[0, 0, 0, 1, 0, 0,     c3, 2*c3 + 1, c3, -1],\n",
       "[0, 0, 0, 0, 1, 0, c4 + 1, 2*c4 + 2, c4, -1],\n",
       "[0, 0, 0, 0, 0, 1,      0,       -1, -1,  0]])"
      ]
     },
     "metadata": {},
     "output_type": "display_data"
    },
    {
     "data": {
      "text/latex": [
       "$\\displaystyle \\text{True}$"
      ],
      "text/plain": [
       "True"
      ]
     },
     "metadata": {},
     "output_type": "display_data"
    }
   ],
   "source": [
    "i, j = 1, 3\n",
    "display(fans[i], fans[j])\n",
    "display(sp.Eq(fans[i].subs(d0,0).subs(d1,0),fans[j].subs(c2, -1).subs(c3,0).subs(c4,-1)))"
   ]
  },
  {
   "cell_type": "markdown",
   "id": "3cd80094-56f2-4950-be2b-87111696279f",
   "metadata": {
    "jp-MarkdownHeadingCollapsed": true
   },
   "source": [
    "### fan 4 ($a_2=0$, $a_4=0$, $a_5=0$, $d_0=1$, $d_1=1$)"
   ]
  },
  {
   "cell_type": "code",
   "execution_count": 63,
   "id": "6a46a315-3993-46c1-a05b-fff22ff713ad",
   "metadata": {},
   "outputs": [
    {
     "data": {
      "text/latex": [
       "$\\displaystyle \\left[\\begin{matrix}1 & 0 & 0 & 0 & 0 & 0 & -1 & d_{0} - 1 & d_{0} - 1 & d_{0}\\\\0 & 1 & 0 & 0 & 0 & 0 & -1 & d_{1} - 2 & d_{1} - 1 & d_{1}\\\\0 & 0 & 1 & 0 & 0 & 0 & 0 & -1 & -1 & -1\\\\0 & 0 & 0 & 1 & 0 & 0 & 0 & 1 & 0 & -1\\\\0 & 0 & 0 & 0 & 1 & 0 & 0 & 0 & -1 & -1\\\\0 & 0 & 0 & 0 & 0 & 1 & 0 & -1 & -1 & 0\\end{matrix}\\right]$"
      ],
      "text/plain": [
       "Matrix([\n",
       "[1, 0, 0, 0, 0, 0, -1, d0 - 1, d0 - 1, d0],\n",
       "[0, 1, 0, 0, 0, 0, -1, d1 - 2, d1 - 1, d1],\n",
       "[0, 0, 1, 0, 0, 0,  0,     -1,     -1, -1],\n",
       "[0, 0, 0, 1, 0, 0,  0,      1,      0, -1],\n",
       "[0, 0, 0, 0, 1, 0,  0,      0,     -1, -1],\n",
       "[0, 0, 0, 0, 0, 1,  0,     -1,     -1,  0]])"
      ]
     },
     "metadata": {},
     "output_type": "display_data"
    },
    {
     "data": {
      "text/latex": [
       "$\\displaystyle \\left[\\begin{matrix}1 & 0 & 0 & 0 & 0 & 0 & -1 & 0 & 0 & 1\\\\0 & 1 & 0 & 0 & 0 & 0 & -1 & -1 & 0 & 1\\\\0 & 0 & 1 & 0 & 0 & 0 & a_{2} & a_{2} - 1 & -1 & -1\\\\0 & 0 & 0 & 1 & 0 & 0 & 0 & 1 & 0 & -1\\\\0 & 0 & 0 & 0 & 1 & 0 & a_{4} & a_{4} & -1 & -1\\\\0 & 0 & 0 & 0 & 0 & 1 & a_{5} & a_{5} - 1 & -1 & 0\\end{matrix}\\right]$"
      ],
      "text/plain": [
       "Matrix([\n",
       "[1, 0, 0, 0, 0, 0, -1,      0,  0,  1],\n",
       "[0, 1, 0, 0, 0, 0, -1,     -1,  0,  1],\n",
       "[0, 0, 1, 0, 0, 0, a2, a2 - 1, -1, -1],\n",
       "[0, 0, 0, 1, 0, 0,  0,      1,  0, -1],\n",
       "[0, 0, 0, 0, 1, 0, a4,     a4, -1, -1],\n",
       "[0, 0, 0, 0, 0, 1, a5, a5 - 1, -1,  0]])"
      ]
     },
     "metadata": {},
     "output_type": "display_data"
    },
    {
     "data": {
      "text/latex": [
       "$\\displaystyle \\text{True}$"
      ],
      "text/plain": [
       "True"
      ]
     },
     "metadata": {},
     "output_type": "display_data"
    }
   ],
   "source": [
    "i, j = 1, 4\n",
    "display(fans[i], fans[j])\n",
    "display(sp.Eq(fans[i].subs(d0,1).subs(d1,1),fans[j].subs(a2,0).subs(a4,0).subs(a5,0)))"
   ]
  },
  {
   "cell_type": "markdown",
   "id": "1b3317e3-db30-4f42-8080-a0905a956649",
   "metadata": {
    "jp-MarkdownHeadingCollapsed": true
   },
   "source": [
    "## fan 2"
   ]
  },
  {
   "cell_type": "markdown",
   "id": "97207545-6572-4c40-9315-5f1cfc149134",
   "metadata": {
    "jp-MarkdownHeadingCollapsed": true
   },
   "source": [
    "### fan 0 ($c_2=0$, $c_3=0$, $d_0=1$, $d_1=1$, $d_5=0$)"
   ]
  },
  {
   "cell_type": "code",
   "execution_count": 51,
   "id": "c453e8a1-8ed1-452c-a6aa-16225002f7d8",
   "metadata": {},
   "outputs": [
    {
     "data": {
      "text/latex": [
       "$\\displaystyle \\left[\\begin{matrix}1 & 0 & 0 & 0 & 0 & 0 & -1 & -1 & -1 & d_{0}\\\\0 & 1 & 0 & 0 & 0 & 0 & -1 & -2 & -1 & d_{1}\\\\0 & 0 & 1 & 0 & 0 & 0 & 1 & 1 & 0 & -1\\\\0 & 0 & 0 & 1 & 0 & 0 & 0 & 1 & 0 & -1\\\\0 & 0 & 0 & 0 & 1 & 0 & 1 & 2 & 0 & -1\\\\0 & 0 & 0 & 0 & 0 & 1 & 0 & -1 & -1 & d_{5}\\end{matrix}\\right]$"
      ],
      "text/plain": [
       "Matrix([\n",
       "[1, 0, 0, 0, 0, 0, -1, -1, -1, d0],\n",
       "[0, 1, 0, 0, 0, 0, -1, -2, -1, d1],\n",
       "[0, 0, 1, 0, 0, 0,  1,  1,  0, -1],\n",
       "[0, 0, 0, 1, 0, 0,  0,  1,  0, -1],\n",
       "[0, 0, 0, 0, 1, 0,  1,  2,  0, -1],\n",
       "[0, 0, 0, 0, 0, 1,  0, -1, -1, d5]])"
      ]
     },
     "metadata": {},
     "output_type": "display_data"
    },
    {
     "data": {
      "text/latex": [
       "$\\displaystyle \\left[\\begin{matrix}1 & 0 & 0 & 0 & 0 & 0 & -1 & - c_{2} - 1 & - c_{2} - 1 & 1\\\\0 & 1 & 0 & 0 & 0 & 0 & -1 & - c_{2} - 2 & - c_{2} - 1 & 1\\\\0 & 0 & 1 & 0 & 0 & 0 & 1 & c_{2} + 1 & c_{2} & -1\\\\0 & 0 & 0 & 1 & 0 & 0 & 0 & c_{3} + 1 & c_{3} & -1\\\\0 & 0 & 0 & 0 & 1 & 0 & 1 & c_{2} + 2 & c_{2} & -1\\\\0 & 0 & 0 & 0 & 0 & 1 & 0 & -1 & -1 & 0\\end{matrix}\\right]$"
      ],
      "text/plain": [
       "Matrix([\n",
       "[1, 0, 0, 0, 0, 0, -1, -c2 - 1, -c2 - 1,  1],\n",
       "[0, 1, 0, 0, 0, 0, -1, -c2 - 2, -c2 - 1,  1],\n",
       "[0, 0, 1, 0, 0, 0,  1,  c2 + 1,      c2, -1],\n",
       "[0, 0, 0, 1, 0, 0,  0,  c3 + 1,      c3, -1],\n",
       "[0, 0, 0, 0, 1, 0,  1,  c2 + 2,      c2, -1],\n",
       "[0, 0, 0, 0, 0, 1,  0,      -1,      -1,  0]])"
      ]
     },
     "metadata": {},
     "output_type": "display_data"
    },
    {
     "data": {
      "text/latex": [
       "$\\displaystyle \\text{True}$"
      ],
      "text/plain": [
       "True"
      ]
     },
     "metadata": {},
     "output_type": "display_data"
    }
   ],
   "source": [
    "i, j = 0, 2\n",
    "display(fans[i], fans[j])\n",
    "display(sp.Eq(fans[i].subs(d0,1).subs(d1,1).subs(d5,0),fans[j].subs(c2, 0).subs(c3,0)))"
   ]
  },
  {
   "cell_type": "markdown",
   "id": "7fd2380a-5469-4fce-a5e2-476bbb39f439",
   "metadata": {
    "jp-MarkdownHeadingCollapsed": true
   },
   "source": [
    "### fan 4 ($a_2=1$, $a_4=1$, $a_5=0$, $c_2=-1$, $c_3=0$)"
   ]
  },
  {
   "cell_type": "code",
   "execution_count": 67,
   "id": "df81d294-25e3-47f3-b1b6-95f5b6a7ae3a",
   "metadata": {},
   "outputs": [
    {
     "data": {
      "text/latex": [
       "$\\displaystyle \\left[\\begin{matrix}1 & 0 & 0 & 0 & 0 & 0 & -1 & - c_{2} - 1 & - c_{2} - 1 & 1\\\\0 & 1 & 0 & 0 & 0 & 0 & -1 & - c_{2} - 2 & - c_{2} - 1 & 1\\\\0 & 0 & 1 & 0 & 0 & 0 & 1 & c_{2} + 1 & c_{2} & -1\\\\0 & 0 & 0 & 1 & 0 & 0 & 0 & c_{3} + 1 & c_{3} & -1\\\\0 & 0 & 0 & 0 & 1 & 0 & 1 & c_{2} + 2 & c_{2} & -1\\\\0 & 0 & 0 & 0 & 0 & 1 & 0 & -1 & -1 & 0\\end{matrix}\\right]$"
      ],
      "text/plain": [
       "Matrix([\n",
       "[1, 0, 0, 0, 0, 0, -1, -c2 - 1, -c2 - 1,  1],\n",
       "[0, 1, 0, 0, 0, 0, -1, -c2 - 2, -c2 - 1,  1],\n",
       "[0, 0, 1, 0, 0, 0,  1,  c2 + 1,      c2, -1],\n",
       "[0, 0, 0, 1, 0, 0,  0,  c3 + 1,      c3, -1],\n",
       "[0, 0, 0, 0, 1, 0,  1,  c2 + 2,      c2, -1],\n",
       "[0, 0, 0, 0, 0, 1,  0,      -1,      -1,  0]])"
      ]
     },
     "metadata": {},
     "output_type": "display_data"
    },
    {
     "data": {
      "text/latex": [
       "$\\displaystyle \\left[\\begin{matrix}1 & 0 & 0 & 0 & 0 & 0 & -1 & 0 & 0 & 1\\\\0 & 1 & 0 & 0 & 0 & 0 & -1 & -1 & 0 & 1\\\\0 & 0 & 1 & 0 & 0 & 0 & a_{2} & a_{2} - 1 & -1 & -1\\\\0 & 0 & 0 & 1 & 0 & 0 & 0 & 1 & 0 & -1\\\\0 & 0 & 0 & 0 & 1 & 0 & a_{4} & a_{4} & -1 & -1\\\\0 & 0 & 0 & 0 & 0 & 1 & a_{5} & a_{5} - 1 & -1 & 0\\end{matrix}\\right]$"
      ],
      "text/plain": [
       "Matrix([\n",
       "[1, 0, 0, 0, 0, 0, -1,      0,  0,  1],\n",
       "[0, 1, 0, 0, 0, 0, -1,     -1,  0,  1],\n",
       "[0, 0, 1, 0, 0, 0, a2, a2 - 1, -1, -1],\n",
       "[0, 0, 0, 1, 0, 0,  0,      1,  0, -1],\n",
       "[0, 0, 0, 0, 1, 0, a4,     a4, -1, -1],\n",
       "[0, 0, 0, 0, 0, 1, a5, a5 - 1, -1,  0]])"
      ]
     },
     "metadata": {},
     "output_type": "display_data"
    },
    {
     "data": {
      "text/latex": [
       "$\\displaystyle \\text{True}$"
      ],
      "text/plain": [
       "True"
      ]
     },
     "metadata": {},
     "output_type": "display_data"
    }
   ],
   "source": [
    "i, j = 2, 4\n",
    "display(fans[i], fans[j])\n",
    "display(sp.Eq(fans[i].subs(c2,-1).subs(c3,0),fans[j].subs(a2,1).subs(a4,1).subs(a5,0)))"
   ]
  },
  {
   "cell_type": "markdown",
   "id": "454b9727-eb20-44e7-acd3-0b13b04f81ab",
   "metadata": {
    "jp-MarkdownHeadingCollapsed": true
   },
   "source": [
    "## fan 3"
   ]
  },
  {
   "cell_type": "markdown",
   "id": "af9cdf5c-f5af-43ce-a6cc-31aa50205689",
   "metadata": {
    "jp-MarkdownHeadingCollapsed": true
   },
   "source": [
    "### fan 0 ($c_2=0$, $c_3=0$, $c_4=0$, $d_0=0$, $d_1=0$, $d_5=0$)"
   ]
  },
  {
   "cell_type": "code",
   "execution_count": 58,
   "id": "5ad87bdf-e3ae-4e9b-8864-e9136996b616",
   "metadata": {},
   "outputs": [
    {
     "data": {
      "text/latex": [
       "$\\displaystyle \\left[\\begin{matrix}1 & 0 & 0 & 0 & 0 & 0 & -1 & -1 & -1 & d_{0}\\\\0 & 1 & 0 & 0 & 0 & 0 & -1 & -2 & -1 & d_{1}\\\\0 & 0 & 1 & 0 & 0 & 0 & 1 & 1 & 0 & -1\\\\0 & 0 & 0 & 1 & 0 & 0 & 0 & 1 & 0 & -1\\\\0 & 0 & 0 & 0 & 1 & 0 & 1 & 2 & 0 & -1\\\\0 & 0 & 0 & 0 & 0 & 1 & 0 & -1 & -1 & d_{5}\\end{matrix}\\right]$"
      ],
      "text/plain": [
       "Matrix([\n",
       "[1, 0, 0, 0, 0, 0, -1, -1, -1, d0],\n",
       "[0, 1, 0, 0, 0, 0, -1, -2, -1, d1],\n",
       "[0, 0, 1, 0, 0, 0,  1,  1,  0, -1],\n",
       "[0, 0, 0, 1, 0, 0,  0,  1,  0, -1],\n",
       "[0, 0, 0, 0, 1, 0,  1,  2,  0, -1],\n",
       "[0, 0, 0, 0, 0, 1,  0, -1, -1, d5]])"
      ]
     },
     "metadata": {},
     "output_type": "display_data"
    },
    {
     "data": {
      "text/latex": [
       "$\\displaystyle \\left[\\begin{matrix}1 & 0 & 0 & 0 & 0 & 0 & -1 & -1 & -1 & 0\\\\0 & 1 & 0 & 0 & 0 & 0 & -1 & -2 & -1 & 0\\\\0 & 0 & 1 & 0 & 0 & 0 & c_{2} + 1 & 2 c_{2} + 1 & c_{2} & -1\\\\0 & 0 & 0 & 1 & 0 & 0 & c_{3} & 2 c_{3} + 1 & c_{3} & -1\\\\0 & 0 & 0 & 0 & 1 & 0 & c_{4} + 1 & 2 c_{4} + 2 & c_{4} & -1\\\\0 & 0 & 0 & 0 & 0 & 1 & 0 & -1 & -1 & 0\\end{matrix}\\right]$"
      ],
      "text/plain": [
       "Matrix([\n",
       "[1, 0, 0, 0, 0, 0,     -1,       -1, -1,  0],\n",
       "[0, 1, 0, 0, 0, 0,     -1,       -2, -1,  0],\n",
       "[0, 0, 1, 0, 0, 0, c2 + 1, 2*c2 + 1, c2, -1],\n",
       "[0, 0, 0, 1, 0, 0,     c3, 2*c3 + 1, c3, -1],\n",
       "[0, 0, 0, 0, 1, 0, c4 + 1, 2*c4 + 2, c4, -1],\n",
       "[0, 0, 0, 0, 0, 1,      0,       -1, -1,  0]])"
      ]
     },
     "metadata": {},
     "output_type": "display_data"
    },
    {
     "data": {
      "text/latex": [
       "$\\displaystyle \\text{True}$"
      ],
      "text/plain": [
       "True"
      ]
     },
     "metadata": {},
     "output_type": "display_data"
    }
   ],
   "source": [
    "i, j = 0, 3\n",
    "display(fans[i], fans[j])\n",
    "display(sp.Eq(fans[i].subs(d0,0).subs(d1,0).subs(d5,0),fans[j].subs(c2, 0).subs(c3,0).subs(c4,0)))"
   ]
  },
  {
   "cell_type": "markdown",
   "id": "7b2e0d0d-7282-4854-b44b-30cc156fccf5",
   "metadata": {
    "jp-MarkdownHeadingCollapsed": true
   },
   "source": [
    "### fan 1 ($c_2=-1$, $c_3=0$, $c_4=-1$, $d_0=0$, $d_1=0$)"
   ]
  },
  {
   "cell_type": "code",
   "execution_count": 60,
   "id": "2a38e9a9-4826-42e7-bb79-d32e27be863a",
   "metadata": {},
   "outputs": [
    {
     "data": {
      "text/latex": [
       "$\\displaystyle \\left[\\begin{matrix}1 & 0 & 0 & 0 & 0 & 0 & -1 & d_{0} - 1 & d_{0} - 1 & d_{0}\\\\0 & 1 & 0 & 0 & 0 & 0 & -1 & d_{1} - 2 & d_{1} - 1 & d_{1}\\\\0 & 0 & 1 & 0 & 0 & 0 & 0 & -1 & -1 & -1\\\\0 & 0 & 0 & 1 & 0 & 0 & 0 & 1 & 0 & -1\\\\0 & 0 & 0 & 0 & 1 & 0 & 0 & 0 & -1 & -1\\\\0 & 0 & 0 & 0 & 0 & 1 & 0 & -1 & -1 & 0\\end{matrix}\\right]$"
      ],
      "text/plain": [
       "Matrix([\n",
       "[1, 0, 0, 0, 0, 0, -1, d0 - 1, d0 - 1, d0],\n",
       "[0, 1, 0, 0, 0, 0, -1, d1 - 2, d1 - 1, d1],\n",
       "[0, 0, 1, 0, 0, 0,  0,     -1,     -1, -1],\n",
       "[0, 0, 0, 1, 0, 0,  0,      1,      0, -1],\n",
       "[0, 0, 0, 0, 1, 0,  0,      0,     -1, -1],\n",
       "[0, 0, 0, 0, 0, 1,  0,     -1,     -1,  0]])"
      ]
     },
     "metadata": {},
     "output_type": "display_data"
    },
    {
     "data": {
      "text/latex": [
       "$\\displaystyle \\left[\\begin{matrix}1 & 0 & 0 & 0 & 0 & 0 & -1 & -1 & -1 & 0\\\\0 & 1 & 0 & 0 & 0 & 0 & -1 & -2 & -1 & 0\\\\0 & 0 & 1 & 0 & 0 & 0 & c_{2} + 1 & 2 c_{2} + 1 & c_{2} & -1\\\\0 & 0 & 0 & 1 & 0 & 0 & c_{3} & 2 c_{3} + 1 & c_{3} & -1\\\\0 & 0 & 0 & 0 & 1 & 0 & c_{4} + 1 & 2 c_{4} + 2 & c_{4} & -1\\\\0 & 0 & 0 & 0 & 0 & 1 & 0 & -1 & -1 & 0\\end{matrix}\\right]$"
      ],
      "text/plain": [
       "Matrix([\n",
       "[1, 0, 0, 0, 0, 0,     -1,       -1, -1,  0],\n",
       "[0, 1, 0, 0, 0, 0,     -1,       -2, -1,  0],\n",
       "[0, 0, 1, 0, 0, 0, c2 + 1, 2*c2 + 1, c2, -1],\n",
       "[0, 0, 0, 1, 0, 0,     c3, 2*c3 + 1, c3, -1],\n",
       "[0, 0, 0, 0, 1, 0, c4 + 1, 2*c4 + 2, c4, -1],\n",
       "[0, 0, 0, 0, 0, 1,      0,       -1, -1,  0]])"
      ]
     },
     "metadata": {},
     "output_type": "display_data"
    },
    {
     "data": {
      "text/latex": [
       "$\\displaystyle \\text{True}$"
      ],
      "text/plain": [
       "True"
      ]
     },
     "metadata": {},
     "output_type": "display_data"
    }
   ],
   "source": [
    "i, j = 1, 3\n",
    "display(fans[i], fans[j])\n",
    "display(sp.Eq(fans[i].subs(d0,0).subs(d1,0),fans[j].subs(c2, -1).subs(c3,0).subs(c4,-1)))"
   ]
  },
  {
   "cell_type": "markdown",
   "id": "562f1726-1690-4b37-bcbf-b58a3eeba88a",
   "metadata": {},
   "source": [
    "## fan 4"
   ]
  },
  {
   "cell_type": "markdown",
   "id": "b2f430f6-7b0d-4ab0-b779-516ca1c9a5f9",
   "metadata": {
    "jp-MarkdownHeadingCollapsed": true
   },
   "source": [
    "### fan 1 ($a_2=0$, $a_4=0$, $a_5=0$, $d_0=1$, $d_1=1$)"
   ]
  },
  {
   "cell_type": "code",
   "execution_count": 63,
   "id": "b53bb67a-6a0b-4094-864b-a0bcd94c69ce",
   "metadata": {},
   "outputs": [
    {
     "data": {
      "text/latex": [
       "$\\displaystyle \\left[\\begin{matrix}1 & 0 & 0 & 0 & 0 & 0 & -1 & d_{0} - 1 & d_{0} - 1 & d_{0}\\\\0 & 1 & 0 & 0 & 0 & 0 & -1 & d_{1} - 2 & d_{1} - 1 & d_{1}\\\\0 & 0 & 1 & 0 & 0 & 0 & 0 & -1 & -1 & -1\\\\0 & 0 & 0 & 1 & 0 & 0 & 0 & 1 & 0 & -1\\\\0 & 0 & 0 & 0 & 1 & 0 & 0 & 0 & -1 & -1\\\\0 & 0 & 0 & 0 & 0 & 1 & 0 & -1 & -1 & 0\\end{matrix}\\right]$"
      ],
      "text/plain": [
       "Matrix([\n",
       "[1, 0, 0, 0, 0, 0, -1, d0 - 1, d0 - 1, d0],\n",
       "[0, 1, 0, 0, 0, 0, -1, d1 - 2, d1 - 1, d1],\n",
       "[0, 0, 1, 0, 0, 0,  0,     -1,     -1, -1],\n",
       "[0, 0, 0, 1, 0, 0,  0,      1,      0, -1],\n",
       "[0, 0, 0, 0, 1, 0,  0,      0,     -1, -1],\n",
       "[0, 0, 0, 0, 0, 1,  0,     -1,     -1,  0]])"
      ]
     },
     "metadata": {},
     "output_type": "display_data"
    },
    {
     "data": {
      "text/latex": [
       "$\\displaystyle \\left[\\begin{matrix}1 & 0 & 0 & 0 & 0 & 0 & -1 & 0 & 0 & 1\\\\0 & 1 & 0 & 0 & 0 & 0 & -1 & -1 & 0 & 1\\\\0 & 0 & 1 & 0 & 0 & 0 & a_{2} & a_{2} - 1 & -1 & -1\\\\0 & 0 & 0 & 1 & 0 & 0 & 0 & 1 & 0 & -1\\\\0 & 0 & 0 & 0 & 1 & 0 & a_{4} & a_{4} & -1 & -1\\\\0 & 0 & 0 & 0 & 0 & 1 & a_{5} & a_{5} - 1 & -1 & 0\\end{matrix}\\right]$"
      ],
      "text/plain": [
       "Matrix([\n",
       "[1, 0, 0, 0, 0, 0, -1,      0,  0,  1],\n",
       "[0, 1, 0, 0, 0, 0, -1,     -1,  0,  1],\n",
       "[0, 0, 1, 0, 0, 0, a2, a2 - 1, -1, -1],\n",
       "[0, 0, 0, 1, 0, 0,  0,      1,  0, -1],\n",
       "[0, 0, 0, 0, 1, 0, a4,     a4, -1, -1],\n",
       "[0, 0, 0, 0, 0, 1, a5, a5 - 1, -1,  0]])"
      ]
     },
     "metadata": {},
     "output_type": "display_data"
    },
    {
     "data": {
      "text/latex": [
       "$\\displaystyle \\text{True}$"
      ],
      "text/plain": [
       "True"
      ]
     },
     "metadata": {},
     "output_type": "display_data"
    }
   ],
   "source": [
    "i, j = 1, 4\n",
    "display(fans[i], fans[j])\n",
    "display(sp.Eq(fans[i].subs(d0,1).subs(d1,1),fans[j].subs(a2,0).subs(a4,0).subs(a5,0)))"
   ]
  },
  {
   "cell_type": "markdown",
   "id": "d23fb42a-65f9-49d6-965e-69398326ca16",
   "metadata": {
    "jp-MarkdownHeadingCollapsed": true
   },
   "source": [
    "### fan 2 ($a_2=1$, $a_4=1$, $a_5=0$, $c_2=-1$, $c_3=0$)"
   ]
  },
  {
   "cell_type": "code",
   "execution_count": 67,
   "id": "23003526-eb1b-48a7-b366-a3e741a30533",
   "metadata": {},
   "outputs": [
    {
     "data": {
      "text/latex": [
       "$\\displaystyle \\left[\\begin{matrix}1 & 0 & 0 & 0 & 0 & 0 & -1 & - c_{2} - 1 & - c_{2} - 1 & 1\\\\0 & 1 & 0 & 0 & 0 & 0 & -1 & - c_{2} - 2 & - c_{2} - 1 & 1\\\\0 & 0 & 1 & 0 & 0 & 0 & 1 & c_{2} + 1 & c_{2} & -1\\\\0 & 0 & 0 & 1 & 0 & 0 & 0 & c_{3} + 1 & c_{3} & -1\\\\0 & 0 & 0 & 0 & 1 & 0 & 1 & c_{2} + 2 & c_{2} & -1\\\\0 & 0 & 0 & 0 & 0 & 1 & 0 & -1 & -1 & 0\\end{matrix}\\right]$"
      ],
      "text/plain": [
       "Matrix([\n",
       "[1, 0, 0, 0, 0, 0, -1, -c2 - 1, -c2 - 1,  1],\n",
       "[0, 1, 0, 0, 0, 0, -1, -c2 - 2, -c2 - 1,  1],\n",
       "[0, 0, 1, 0, 0, 0,  1,  c2 + 1,      c2, -1],\n",
       "[0, 0, 0, 1, 0, 0,  0,  c3 + 1,      c3, -1],\n",
       "[0, 0, 0, 0, 1, 0,  1,  c2 + 2,      c2, -1],\n",
       "[0, 0, 0, 0, 0, 1,  0,      -1,      -1,  0]])"
      ]
     },
     "metadata": {},
     "output_type": "display_data"
    },
    {
     "data": {
      "text/latex": [
       "$\\displaystyle \\left[\\begin{matrix}1 & 0 & 0 & 0 & 0 & 0 & -1 & 0 & 0 & 1\\\\0 & 1 & 0 & 0 & 0 & 0 & -1 & -1 & 0 & 1\\\\0 & 0 & 1 & 0 & 0 & 0 & a_{2} & a_{2} - 1 & -1 & -1\\\\0 & 0 & 0 & 1 & 0 & 0 & 0 & 1 & 0 & -1\\\\0 & 0 & 0 & 0 & 1 & 0 & a_{4} & a_{4} & -1 & -1\\\\0 & 0 & 0 & 0 & 0 & 1 & a_{5} & a_{5} - 1 & -1 & 0\\end{matrix}\\right]$"
      ],
      "text/plain": [
       "Matrix([\n",
       "[1, 0, 0, 0, 0, 0, -1,      0,  0,  1],\n",
       "[0, 1, 0, 0, 0, 0, -1,     -1,  0,  1],\n",
       "[0, 0, 1, 0, 0, 0, a2, a2 - 1, -1, -1],\n",
       "[0, 0, 0, 1, 0, 0,  0,      1,  0, -1],\n",
       "[0, 0, 0, 0, 1, 0, a4,     a4, -1, -1],\n",
       "[0, 0, 0, 0, 0, 1, a5, a5 - 1, -1,  0]])"
      ]
     },
     "metadata": {},
     "output_type": "display_data"
    },
    {
     "data": {
      "text/latex": [
       "$\\displaystyle \\text{True}$"
      ],
      "text/plain": [
       "True"
      ]
     },
     "metadata": {},
     "output_type": "display_data"
    }
   ],
   "source": [
    "i, j = 2, 4\n",
    "display(fans[i], fans[j])\n",
    "display(sp.Eq(fans[i].subs(c2,-1).subs(c3,0),fans[j].subs(a2,1).subs(a4,1).subs(a5,0)))"
   ]
  },
  {
   "cell_type": "markdown",
   "id": "0d8d8e04-5f3e-41c1-aef0-63fbe399e3b0",
   "metadata": {
    "jp-MarkdownHeadingCollapsed": true
   },
   "source": [
    "# There are 3 types of fans up to D-J equivalence and symmetry"
   ]
  },
  {
   "cell_type": "code",
   "execution_count": 52,
   "id": "abf8f74a-910d-47f9-87db-44b49951c7fb",
   "metadata": {},
   "outputs": [
    {
     "data": {
      "text/plain": [
       "[[1, 2, 3, 4, 5, 6, 7, 8, 9, 10], [4, 10, 6, 1, 9, 3, 7, 8, 5, 2]]"
      ]
     },
     "execution_count": 52,
     "metadata": {},
     "output_type": "execute_result"
    }
   ],
   "source": [
    "K.symmetries"
   ]
  },
  {
   "cell_type": "code",
   "execution_count": 53,
   "id": "f95934a9-dbf1-44f3-9eb1-a3704b841528",
   "metadata": {},
   "outputs": [],
   "source": [
    "symm_index = [(np.array(i)-1).tolist() for i in K.symmetries]"
   ]
  },
  {
   "cell_type": "markdown",
   "id": "e13a7f3c-8f33-4b1b-9640-bb164aba42ce",
   "metadata": {
    "jp-MarkdownHeadingCollapsed": true
   },
   "source": [
    "## types 0, 3"
   ]
  },
  {
   "cell_type": "code",
   "execution_count": 54,
   "id": "c342a63d-9519-4fb8-a194-5a40485bf101",
   "metadata": {},
   "outputs": [
    {
     "data": {
      "text/latex": [
       "$\\displaystyle \\left[\\begin{matrix}1 & 0 & 0 & 0 & 0 & 0 & -1 & -1 & -1 & 0\\\\0 & 1 & 0 & 0 & 0 & 0 & -1 & -2 & -1 & 0\\\\0 & 0 & 1 & 0 & 0 & 0 & - d_{1} + d_{5} + 1 & - 2 d_{1} + 2 d_{5} + 1 & - d_{1} + d_{5} & -1\\\\0 & 0 & 0 & 1 & 0 & 0 & d_{0} - d_{1} & 2 d_{0} - 2 d_{1} + 1 & d_{0} - d_{1} & -1\\\\0 & 0 & 0 & 0 & 1 & 0 & 1 - d_{1} & 2 - 2 d_{1} & - d_{1} & -1\\\\0 & 0 & 0 & 0 & 0 & 1 & 0 & -1 & -1 & 0\\end{matrix}\\right]$"
      ],
      "text/plain": [
       "Matrix([\n",
       "[1, 0, 0, 0, 0, 0,           -1,               -1,       -1,  0],\n",
       "[0, 1, 0, 0, 0, 0,           -1,               -2,       -1,  0],\n",
       "[0, 0, 1, 0, 0, 0, -d1 + d5 + 1, -2*d1 + 2*d5 + 1, -d1 + d5, -1],\n",
       "[0, 0, 0, 1, 0, 0,      d0 - d1,  2*d0 - 2*d1 + 1,  d0 - d1, -1],\n",
       "[0, 0, 0, 0, 1, 0,       1 - d1,         2 - 2*d1,      -d1, -1],\n",
       "[0, 0, 0, 0, 0, 1,            0,               -1,       -1,  0]])"
      ]
     },
     "metadata": {},
     "output_type": "display_data"
    },
    {
     "data": {
      "text/latex": [
       "$\\displaystyle \\left[\\begin{matrix}1 & 0 & 0 & 0 & 0 & 0 & -1 & -1 & -1 & 0\\\\0 & 1 & 0 & 0 & 0 & 0 & -1 & -2 & -1 & 0\\\\0 & 0 & 1 & 0 & 0 & 0 & c_{2} + 1 & 2 c_{2} + 1 & c_{2} & -1\\\\0 & 0 & 0 & 1 & 0 & 0 & c_{3} & 2 c_{3} + 1 & c_{3} & -1\\\\0 & 0 & 0 & 0 & 1 & 0 & c_{4} + 1 & 2 c_{4} + 2 & c_{4} & -1\\\\0 & 0 & 0 & 0 & 0 & 1 & 0 & -1 & -1 & 0\\end{matrix}\\right]$"
      ],
      "text/plain": [
       "Matrix([\n",
       "[1, 0, 0, 0, 0, 0,     -1,       -1, -1,  0],\n",
       "[0, 1, 0, 0, 0, 0,     -1,       -2, -1,  0],\n",
       "[0, 0, 1, 0, 0, 0, c2 + 1, 2*c2 + 1, c2, -1],\n",
       "[0, 0, 0, 1, 0, 0,     c3, 2*c3 + 1, c3, -1],\n",
       "[0, 0, 0, 0, 1, 0, c4 + 1, 2*c4 + 2, c4, -1],\n",
       "[0, 0, 0, 0, 0, 1,      0,       -1, -1,  0]])"
      ]
     },
     "metadata": {},
     "output_type": "display_data"
    }
   ],
   "source": [
    "display(fans[0][:, symm_index[1]].rref()[0])\n",
    "display(fans[3])"
   ]
  },
  {
   "cell_type": "markdown",
   "id": "81247cf1-0acf-4083-8b8f-306d34a23598",
   "metadata": {
    "jp-MarkdownHeadingCollapsed": true
   },
   "source": [
    "## types 1, 2"
   ]
  },
  {
   "cell_type": "code",
   "execution_count": 55,
   "id": "8eccf735-ea9e-4dcc-8657-023bbcf98f5e",
   "metadata": {},
   "outputs": [
    {
     "data": {
      "text/latex": [
       "$\\displaystyle \\left[\\begin{matrix}1 & 0 & 0 & 0 & 0 & 0 & -1 & d_{1} - 1 & d_{1} - 1 & 1\\\\0 & 1 & 0 & 0 & 0 & 0 & -1 & d_{1} - 2 & d_{1} - 1 & 1\\\\0 & 0 & 1 & 0 & 0 & 0 & 1 & 1 - d_{1} & - d_{1} & -1\\\\0 & 0 & 0 & 1 & 0 & 0 & 0 & d_{0} - d_{1} + 1 & d_{0} - d_{1} & -1\\\\0 & 0 & 0 & 0 & 1 & 0 & 1 & 2 - d_{1} & - d_{1} & -1\\\\0 & 0 & 0 & 0 & 0 & 1 & 0 & -1 & -1 & 0\\end{matrix}\\right]$"
      ],
      "text/plain": [
       "Matrix([\n",
       "[1, 0, 0, 0, 0, 0, -1,      d1 - 1,  d1 - 1,  1],\n",
       "[0, 1, 0, 0, 0, 0, -1,      d1 - 2,  d1 - 1,  1],\n",
       "[0, 0, 1, 0, 0, 0,  1,      1 - d1,     -d1, -1],\n",
       "[0, 0, 0, 1, 0, 0,  0, d0 - d1 + 1, d0 - d1, -1],\n",
       "[0, 0, 0, 0, 1, 0,  1,      2 - d1,     -d1, -1],\n",
       "[0, 0, 0, 0, 0, 1,  0,          -1,      -1,  0]])"
      ]
     },
     "metadata": {},
     "output_type": "display_data"
    },
    {
     "data": {
      "text/latex": [
       "$\\displaystyle \\left[\\begin{matrix}1 & 0 & 0 & 0 & 0 & 0 & -1 & - c_{2} - 1 & - c_{2} - 1 & 1\\\\0 & 1 & 0 & 0 & 0 & 0 & -1 & - c_{2} - 2 & - c_{2} - 1 & 1\\\\0 & 0 & 1 & 0 & 0 & 0 & 1 & c_{2} + 1 & c_{2} & -1\\\\0 & 0 & 0 & 1 & 0 & 0 & 0 & c_{3} + 1 & c_{3} & -1\\\\0 & 0 & 0 & 0 & 1 & 0 & 1 & c_{2} + 2 & c_{2} & -1\\\\0 & 0 & 0 & 0 & 0 & 1 & 0 & -1 & -1 & 0\\end{matrix}\\right]$"
      ],
      "text/plain": [
       "Matrix([\n",
       "[1, 0, 0, 0, 0, 0, -1, -c2 - 1, -c2 - 1,  1],\n",
       "[0, 1, 0, 0, 0, 0, -1, -c2 - 2, -c2 - 1,  1],\n",
       "[0, 0, 1, 0, 0, 0,  1,  c2 + 1,      c2, -1],\n",
       "[0, 0, 0, 1, 0, 0,  0,  c3 + 1,      c3, -1],\n",
       "[0, 0, 0, 0, 1, 0,  1,  c2 + 2,      c2, -1],\n",
       "[0, 0, 0, 0, 0, 1,  0,      -1,      -1,  0]])"
      ]
     },
     "metadata": {},
     "output_type": "display_data"
    }
   ],
   "source": [
    "display(fans[1][:, symm_index[1]].rref()[0])\n",
    "display(fans[2])"
   ]
  },
  {
   "cell_type": "markdown",
   "id": "edbc5439-01a4-4e5b-930b-01a947de2d9b",
   "metadata": {
    "jp-MarkdownHeadingCollapsed": true
   },
   "source": [
    "## type 4"
   ]
  },
  {
   "cell_type": "code",
   "execution_count": 56,
   "id": "fe05e1de-266d-4bb8-835b-789f5eff13c3",
   "metadata": {},
   "outputs": [
    {
     "data": {
      "text/latex": [
       "$\\displaystyle \\left[\\begin{matrix}1 & 0 & 0 & 0 & 0 & 0 & -1 & 0 & 0 & 1\\\\0 & 1 & 0 & 0 & 0 & 0 & -1 & -1 & 0 & 1\\\\0 & 0 & 1 & 0 & 0 & 0 & - a_{4} + a_{5} + 1 & - a_{4} + a_{5} & -1 & -1\\\\0 & 0 & 0 & 1 & 0 & 0 & 0 & 1 & 0 & -1\\\\0 & 0 & 0 & 0 & 1 & 0 & 1 - a_{4} & 1 - a_{4} & -1 & -1\\\\0 & 0 & 0 & 0 & 0 & 1 & a_{2} - a_{4} & a_{2} - a_{4} - 1 & -1 & 0\\end{matrix}\\right]$"
      ],
      "text/plain": [
       "Matrix([\n",
       "[1, 0, 0, 0, 0, 0,           -1,           0,  0,  1],\n",
       "[0, 1, 0, 0, 0, 0,           -1,          -1,  0,  1],\n",
       "[0, 0, 1, 0, 0, 0, -a4 + a5 + 1,    -a4 + a5, -1, -1],\n",
       "[0, 0, 0, 1, 0, 0,            0,           1,  0, -1],\n",
       "[0, 0, 0, 0, 1, 0,       1 - a4,      1 - a4, -1, -1],\n",
       "[0, 0, 0, 0, 0, 1,      a2 - a4, a2 - a4 - 1, -1,  0]])"
      ]
     },
     "metadata": {},
     "output_type": "display_data"
    },
    {
     "data": {
      "text/latex": [
       "$\\displaystyle \\left[\\begin{matrix}1 & 0 & 0 & 0 & 0 & 0 & -1 & 0 & 0 & 1\\\\0 & 1 & 0 & 0 & 0 & 0 & -1 & -1 & 0 & 1\\\\0 & 0 & 1 & 0 & 0 & 0 & a_{2} & a_{2} - 1 & -1 & -1\\\\0 & 0 & 0 & 1 & 0 & 0 & 0 & 1 & 0 & -1\\\\0 & 0 & 0 & 0 & 1 & 0 & a_{4} & a_{4} & -1 & -1\\\\0 & 0 & 0 & 0 & 0 & 1 & a_{5} & a_{5} - 1 & -1 & 0\\end{matrix}\\right]$"
      ],
      "text/plain": [
       "Matrix([\n",
       "[1, 0, 0, 0, 0, 0, -1,      0,  0,  1],\n",
       "[0, 1, 0, 0, 0, 0, -1,     -1,  0,  1],\n",
       "[0, 0, 1, 0, 0, 0, a2, a2 - 1, -1, -1],\n",
       "[0, 0, 0, 1, 0, 0,  0,      1,  0, -1],\n",
       "[0, 0, 0, 0, 1, 0, a4,     a4, -1, -1],\n",
       "[0, 0, 0, 0, 0, 1, a5, a5 - 1, -1,  0]])"
      ]
     },
     "metadata": {},
     "output_type": "display_data"
    }
   ],
   "source": [
    "display(fans[4][:, symm_index[1]].rref()[0])\n",
    "display(fans[4])"
   ]
  }
 ],
 "metadata": {
  "kernelspec": {
   "display_name": "Python 3 (ipykernel)",
   "language": "python",
   "name": "python3"
  },
  "language_info": {
   "codemirror_mode": {
    "name": "ipython",
    "version": 3
   },
   "file_extension": ".py",
   "mimetype": "text/x-python",
   "name": "python",
   "nbconvert_exporter": "python",
   "pygments_lexer": "ipython3",
   "version": "3.12.7"
  }
 },
 "nbformat": 4,
 "nbformat_minor": 5
}
