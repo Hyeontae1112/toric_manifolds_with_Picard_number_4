{
 "cells": [
  {
   "cell_type": "markdown",
   "id": "88a45b06-0c2e-495c-8130-a3b2b9b21bd8",
   "metadata": {
    "jp-MarkdownHeadingCollapsed": true
   },
   "source": [
    "# Preparation"
   ]
  },
  {
   "cell_type": "code",
   "execution_count": 1,
   "id": "a8d1a5a8-1e28-4abe-bbe4-1188621c64ca",
   "metadata": {},
   "outputs": [],
   "source": [
    "%run programs\\\\Characteristic_Pair.py\n",
    "import copy\n",
    "\n",
    "fanlikes_index=35\n",
    "projectied_vertex=6\n",
    "link_index=25\n",
    "\n",
    "K = Simplicial_Complex(json.loads(read_file('programs\\\\fanlikes')[fanlikes_index]))\n",
    "M = initial_char(K.n)\n",
    "C0 = Characteristic_Pair(K, M)\n",
    "fans = []\n",
    "\n",
    "a = sp.symbols('a0:%d'%K.n)\n",
    "b = sp.symbols('b0:%d'%K.n)\n",
    "c = sp.symbols('c0:%d'%K.n)\n",
    "d = sp.symbols('d0:%d'%K.n)\n",
    "\n",
    "a0, a1, a2, a3, a4, a5 = a[:]\n",
    "b0, b1, b2, b3, b4, b5 = b[:]\n",
    "c0, c1, c2, c3, c4, c5 = c[:]\n",
    "d0, d1, d2, d3, d4, d5 = d[:]"
   ]
  },
  {
   "cell_type": "code",
   "execution_count": 2,
   "id": "22341429-16ec-4752-9dab-2c617ed14844",
   "metadata": {},
   "outputs": [
    {
     "data": {
      "text/latex": [
       "$\\displaystyle \\left[\\begin{matrix}1 & 0 & 0 & 0 & 0 & 0 & a_{0} & b_{0} & c_{0} & d_{0}\\\\0 & 1 & 0 & 0 & 0 & 0 & a_{1} & b_{1} & c_{1} & d_{1}\\\\0 & 0 & 1 & 0 & 0 & 0 & a_{2} & b_{2} & c_{2} & d_{2}\\\\0 & 0 & 0 & 1 & 0 & 0 & a_{3} & b_{3} & c_{3} & d_{3}\\\\0 & 0 & 0 & 0 & 1 & 0 & a_{4} & b_{4} & c_{4} & d_{4}\\\\0 & 0 & 0 & 0 & 0 & 1 & a_{5} & b_{5} & c_{5} & d_{5}\\end{matrix}\\right]$"
      ],
      "text/plain": [
       "Matrix([\n",
       "[1, 0, 0, 0, 0, 0, a0, b0, c0, d0],\n",
       "[0, 1, 0, 0, 0, 0, a1, b1, c1, d1],\n",
       "[0, 0, 1, 0, 0, 0, a2, b2, c2, d2],\n",
       "[0, 0, 0, 1, 0, 0, a3, b3, c3, d3],\n",
       "[0, 0, 0, 0, 1, 0, a4, b4, c4, d4],\n",
       "[0, 0, 0, 0, 0, 1, a5, b5, c5, d5]])"
      ]
     },
     "execution_count": 2,
     "metadata": {},
     "output_type": "execute_result"
    }
   ],
   "source": [
    "C = C0\n",
    "C.char"
   ]
  },
  {
   "cell_type": "code",
   "execution_count": 3,
   "id": "0d4234c5-d2ad-43f2-bcf2-53df6f518fc0",
   "metadata": {},
   "outputs": [
    {
     "name": "stdout",
     "output_type": "stream",
     "text": [
      "facet number: 30\n"
     ]
    },
    {
     "data": {
      "text/latex": [
       "$\\displaystyle - a_{0} = 1$"
      ],
      "text/plain": [
       "Eq(-a0, 1)"
      ]
     },
     "metadata": {},
     "output_type": "display_data"
    },
    {
     "name": "stdout",
     "output_type": "stream",
     "text": [
      "facet number: 17\n"
     ]
    },
    {
     "data": {
      "text/latex": [
       "$\\displaystyle a_{1} = -1$"
      ],
      "text/plain": [
       "Eq(a1, -1)"
      ]
     },
     "metadata": {},
     "output_type": "display_data"
    },
    {
     "name": "stdout",
     "output_type": "stream",
     "text": [
      "facet number: 1\n"
     ]
    },
    {
     "data": {
      "text/latex": [
       "$\\displaystyle a_{5} = -1$"
      ],
      "text/plain": [
       "Eq(a5, -1)"
      ]
     },
     "metadata": {},
     "output_type": "display_data"
    },
    {
     "name": "stdout",
     "output_type": "stream",
     "text": [
      "facet number: 2\n"
     ]
    },
    {
     "data": {
      "text/latex": [
       "$\\displaystyle - b_{4} = 1$"
      ],
      "text/plain": [
       "Eq(-b4, 1)"
      ]
     },
     "metadata": {},
     "output_type": "display_data"
    },
    {
     "name": "stdout",
     "output_type": "stream",
     "text": [
      "facet number: 10\n"
     ]
    },
    {
     "data": {
      "text/latex": [
       "$\\displaystyle - d_{2} = 1$"
      ],
      "text/plain": [
       "Eq(-d2, 1)"
      ]
     },
     "metadata": {},
     "output_type": "display_data"
    },
    {
     "name": "stdout",
     "output_type": "stream",
     "text": [
      "facet number: 4\n"
     ]
    },
    {
     "data": {
      "text/latex": [
       "$\\displaystyle d_{3} = -1$"
      ],
      "text/plain": [
       "Eq(d3, -1)"
      ]
     },
     "metadata": {},
     "output_type": "display_data"
    }
   ],
   "source": [
    "i=30\n",
    "print('facet number:', i)\n",
    "display(sp.Eq(C.determinants[i], C.orientation[i]))\n",
    "\n",
    "i=17\n",
    "print('facet number:', i)\n",
    "display(sp.Eq(C.determinants[i], C.orientation[i]))\n",
    "\n",
    "i=1\n",
    "print('facet number:', i)\n",
    "display(sp.Eq(C.determinants[i], C.orientation[i]))\n",
    "\n",
    "i=2\n",
    "print('facet number:', i)\n",
    "display(sp.Eq(C.determinants[i], C.orientation[i]))\n",
    "\n",
    "i=10\n",
    "print('facet number:', i)\n",
    "display(sp.Eq(C.determinants[i], C.orientation[i]))\n",
    "\n",
    "i=4\n",
    "print('facet number:', i)\n",
    "display(sp.Eq(C.determinants[i], C.orientation[i]))\n",
    "\n",
    "C.subs(a0, -1)\n",
    "C.subs(a1, -1)\n",
    "C.subs(a5, -1)\n",
    "C.subs(b4, -1)\n",
    "C.subs(d2, -1)\n",
    "C.subs(d3, -1)"
   ]
  },
  {
   "cell_type": "markdown",
   "id": "7ccb2119-3126-4c0b-8022-d88dc46dd725",
   "metadata": {
    "jp-MarkdownHeadingCollapsed": true
   },
   "source": [
    "# The projection with respect to 6"
   ]
  },
  {
   "cell_type": "code",
   "execution_count": 4,
   "id": "0e323cef-c0a2-46e2-9a4a-ae5e50771989",
   "metadata": {},
   "outputs": [
    {
     "name": "stdout",
     "output_type": "stream",
     "text": [
      "[[8, 10], [1, 2, 7], [2, 5, 8], [3, 4, 9], [3, 4, 10], [3, 5, 8], [3, 5, 9], [4, 7, 10], [1, 2, 5, 9], [1, 4, 7, 9]]\n"
     ]
    }
   ],
   "source": [
    "print(Link(K, [projectied_vertex]).mnf)"
   ]
  },
  {
   "cell_type": "code",
   "execution_count": 5,
   "id": "f30eb303-c49a-4ce3-8acd-ff8035ccc85e",
   "metadata": {},
   "outputs": [
    {
     "name": "stdout",
     "output_type": "stream",
     "text": [
      "[[7, 9], [1, 2, 6], [2, 5, 7], [3, 4, 8], [3, 4, 9], [3, 5, 7], [3, 5, 8], [4, 6, 9], [1, 2, 5, 8], [1, 4, 6, 8]]\n"
     ]
    }
   ],
   "source": [
    "print(Simplicial_Complex(json.loads(read_file('programs\\\\fanlikes')[link_index])).mnf)"
   ]
  },
  {
   "cell_type": "code",
   "execution_count": 6,
   "id": "df140542-cdf9-4552-9612-b989fd3da923",
   "metadata": {},
   "outputs": [
    {
     "name": "stdout",
     "output_type": "stream",
     "text": [
      "[[7, 9], [1, 2, 6], [2, 5, 7], [3, 4, 8], [3, 4, 9], [3, 5, 7], [3, 5, 8], [4, 6, 9], [1, 2, 5, 8], [1, 4, 6, 8]]\n"
     ]
    },
    {
     "data": {
      "text/plain": [
       "True"
      ]
     },
     "execution_count": 6,
     "metadata": {},
     "output_type": "execute_result"
    }
   ],
   "source": [
    "L=[] # making the vertices of the link consecutive\n",
    "for l in Link(K, [projectied_vertex]).cpx:\n",
    "    L.append([])\n",
    "    for v in l:\n",
    "        if v>projectied_vertex:\n",
    "            L[-1].append(v-1)\n",
    "        else:\n",
    "            L[-1].append(v)\n",
    "print(Simplicial_Complex(L).mnf)\n",
    "L==json.loads(read_file('programs\\\\fanlikes')[link_index])"
   ]
  },
  {
   "cell_type": "code",
   "execution_count": 7,
   "id": "819b93af-0d9f-4aa9-912b-371f2dda7836",
   "metadata": {},
   "outputs": [
    {
     "data": {
      "text/latex": [
       "$\\displaystyle \\left[\\begin{matrix}1 & 0 & 0 & 0 & 0 & -1 & b_{0} & c_{0} & d_{0}\\\\0 & 1 & 0 & 0 & 0 & -1 & b_{1} & c_{1} & d_{1}\\\\0 & 0 & 1 & 0 & 0 & a_{2} & b_{2} & c_{2} & -1\\\\0 & 0 & 0 & 1 & 0 & a_{3} & b_{3} & c_{3} & -1\\\\0 & 0 & 0 & 0 & 1 & a_{4} & -1 & c_{4} & d_{4}\\end{matrix}\\right]$"
      ],
      "text/plain": [
       "Matrix([\n",
       "[1, 0, 0, 0, 0, -1, b0, c0, d0],\n",
       "[0, 1, 0, 0, 0, -1, b1, c1, d1],\n",
       "[0, 0, 1, 0, 0, a2, b2, c2, -1],\n",
       "[0, 0, 0, 1, 0, a3, b3, c3, -1],\n",
       "[0, 0, 0, 0, 1, a4, -1, c4, d4]])"
      ]
     },
     "metadata": {},
     "output_type": "display_data"
    }
   ],
   "source": [
    "display(C.proj([projectied_vertex]))"
   ]
  },
  {
   "cell_type": "markdown",
   "id": "dbcfd1c6-d2b6-4db0-81c1-f5fb1408a298",
   "metadata": {
    "jp-MarkdownHeadingCollapsed": true
   },
   "source": [
    "# The projection has 5 types of fans up to D-J equivalence"
   ]
  },
  {
   "cell_type": "code",
   "execution_count": 8,
   "id": "ed179421-0afe-4afc-b868-2c1c3dbe28e5",
   "metadata": {},
   "outputs": [],
   "source": [
    "import pickle\n",
    "with open('programs\\\\pickle_files\\\\%d_up_to_DJ.p'%(link_index), 'rb') as f:\n",
    "    fans_link = pickle.load(f)"
   ]
  },
  {
   "cell_type": "code",
   "execution_count": 9,
   "id": "934c9089-0a81-48c2-b920-150496633535",
   "metadata": {},
   "outputs": [
    {
     "data": {
      "text/latex": [
       "$\\displaystyle \\left[\\begin{matrix}1 & 0 & 0 & 0 & 0 & -1 & -1 & -1 & d_{0}\\\\0 & 1 & 0 & 0 & 0 & -1 & -2 & -1 & d_{1}\\\\0 & 0 & 1 & 0 & 0 & 1 & 1 & 0 & -1\\\\0 & 0 & 0 & 1 & 0 & 0 & 1 & 0 & -1\\\\0 & 0 & 0 & 0 & 1 & 0 & -1 & -1 & d_{4}\\end{matrix}\\right]$"
      ],
      "text/plain": [
       "Matrix([\n",
       "[1, 0, 0, 0, 0, -1, -1, -1, d0],\n",
       "[0, 1, 0, 0, 0, -1, -2, -1, d1],\n",
       "[0, 0, 1, 0, 0,  1,  1,  0, -1],\n",
       "[0, 0, 0, 1, 0,  0,  1,  0, -1],\n",
       "[0, 0, 0, 0, 1,  0, -1, -1, d4]])"
      ]
     },
     "metadata": {},
     "output_type": "display_data"
    },
    {
     "data": {
      "text/latex": [
       "$\\displaystyle \\left[\\begin{matrix}1 & 0 & 0 & 0 & 0 & -1 & -1 & - c_{3} - 1 & 1\\\\0 & 1 & 0 & 0 & 0 & -1 & -2 & - 2 c_{3} - 1 & 2\\\\0 & 0 & 1 & 0 & 0 & 1 & 1 & c_{3} & -1\\\\0 & 0 & 0 & 1 & 0 & 0 & 1 & c_{3} & -1\\\\0 & 0 & 0 & 0 & 1 & 0 & -1 & - c_{3} - 1 & 1\\end{matrix}\\right]$"
      ],
      "text/plain": [
       "Matrix([\n",
       "[1, 0, 0, 0, 0, -1, -1,   -c3 - 1,  1],\n",
       "[0, 1, 0, 0, 0, -1, -2, -2*c3 - 1,  2],\n",
       "[0, 0, 1, 0, 0,  1,  1,        c3, -1],\n",
       "[0, 0, 0, 1, 0,  0,  1,        c3, -1],\n",
       "[0, 0, 0, 0, 1,  0, -1,   -c3 - 1,  1]])"
      ]
     },
     "metadata": {},
     "output_type": "display_data"
    },
    {
     "data": {
      "text/latex": [
       "$\\displaystyle \\left[\\begin{matrix}1 & 0 & 0 & 0 & 0 & -1 & 0 & 0 & 1\\\\0 & 1 & 0 & 0 & 0 & -1 & -1 & d_{1} - 1 & d_{1}\\\\0 & 0 & 1 & 0 & 0 & 1 & 0 & -1 & -1\\\\0 & 0 & 0 & 1 & 0 & 0 & 0 & -1 & -1\\\\0 & 0 & 0 & 0 & 1 & 0 & -1 & d_{4} - 1 & d_{4}\\end{matrix}\\right]$"
      ],
      "text/plain": [
       "Matrix([\n",
       "[1, 0, 0, 0, 0, -1,  0,      0,  1],\n",
       "[0, 1, 0, 0, 0, -1, -1, d1 - 1, d1],\n",
       "[0, 0, 1, 0, 0,  1,  0,     -1, -1],\n",
       "[0, 0, 0, 1, 0,  0,  0,     -1, -1],\n",
       "[0, 0, 0, 0, 1,  0, -1, d4 - 1, d4]])"
      ]
     },
     "metadata": {},
     "output_type": "display_data"
    },
    {
     "data": {
      "text/latex": [
       "$\\displaystyle \\left[\\begin{matrix}1 & 0 & 0 & 0 & 0 & -1 & b_{0} & 0 & 1\\\\0 & 1 & 0 & 0 & 0 & -1 & b_{1} & 1 & 2\\\\0 & 0 & 1 & 0 & 0 & 1 & - b_{1} - 1 & -1 & -1\\\\0 & 0 & 0 & 1 & 0 & 0 & b_{3} & -1 & -1\\\\0 & 0 & 0 & 0 & 1 & 0 & -1 & 0 & 1\\end{matrix}\\right]$"
      ],
      "text/plain": [
       "Matrix([\n",
       "[1, 0, 0, 0, 0, -1,      b0,  0,  1],\n",
       "[0, 1, 0, 0, 0, -1,      b1,  1,  2],\n",
       "[0, 0, 1, 0, 0,  1, -b1 - 1, -1, -1],\n",
       "[0, 0, 0, 1, 0,  0,      b3, -1, -1],\n",
       "[0, 0, 0, 0, 1,  0,      -1,  0,  1]])"
      ]
     },
     "metadata": {},
     "output_type": "display_data"
    },
    {
     "data": {
      "text/latex": [
       "$\\displaystyle \\left[\\begin{matrix}1 & 0 & 0 & 0 & 0 & -1 & - c_{2} - 1 & - c_{2} - 1 & 1\\\\0 & 1 & 0 & 0 & 0 & -1 & - c_{2} - 2 & - c_{2} - 1 & 1\\\\0 & 0 & 1 & 0 & 0 & 1 & c_{2} + 1 & c_{2} & -1\\\\0 & 0 & 0 & 1 & 0 & 0 & c_{3} + 1 & c_{3} & -1\\\\0 & 0 & 0 & 0 & 1 & 0 & -1 & -1 & 0\\end{matrix}\\right]$"
      ],
      "text/plain": [
       "Matrix([\n",
       "[1, 0, 0, 0, 0, -1, -c2 - 1, -c2 - 1,  1],\n",
       "[0, 1, 0, 0, 0, -1, -c2 - 2, -c2 - 1,  1],\n",
       "[0, 0, 1, 0, 0,  1,  c2 + 1,      c2, -1],\n",
       "[0, 0, 0, 1, 0,  0,  c3 + 1,      c3, -1],\n",
       "[0, 0, 0, 0, 1,  0,      -1,      -1,  0]])"
      ]
     },
     "metadata": {},
     "output_type": "display_data"
    }
   ],
   "source": [
    "for f in fans_link:\n",
    "    display(f)"
   ]
  },
  {
   "cell_type": "markdown",
   "id": "ff605ab7-f715-404f-810b-92bbab3fc765",
   "metadata": {
    "jp-MarkdownHeadingCollapsed": true
   },
   "source": [
    "# Type 0 of the projection"
   ]
  },
  {
   "cell_type": "code",
   "execution_count": 12,
   "id": "aa377bcd-fa7a-48f6-92c4-ac15a279853d",
   "metadata": {},
   "outputs": [
    {
     "data": {
      "text/latex": [
       "$\\displaystyle \\left[\\begin{matrix}1 & 0 & 0 & 0 & 0 & -1 & b_{0} & c_{0} & d_{0}\\\\0 & 1 & 0 & 0 & 0 & -1 & b_{1} & c_{1} & d_{1}\\\\0 & 0 & 1 & 0 & 0 & a_{2} & b_{2} & c_{2} & -1\\\\0 & 0 & 0 & 1 & 0 & a_{3} & b_{3} & c_{3} & -1\\\\0 & 0 & 0 & 0 & 1 & a_{4} & -1 & c_{4} & d_{4}\\end{matrix}\\right] = \\left[\\begin{matrix}1 & 0 & 0 & 0 & 0 & -1 & -1 & -1 & d_{0}\\\\0 & 1 & 0 & 0 & 0 & -1 & -2 & -1 & d_{1}\\\\0 & 0 & 1 & 0 & 0 & 1 & 1 & 0 & -1\\\\0 & 0 & 0 & 1 & 0 & 0 & 1 & 0 & -1\\\\0 & 0 & 0 & 0 & 1 & 0 & -1 & -1 & d_{4}\\end{matrix}\\right]$"
      ],
      "text/plain": [
       "Eq(Matrix([\n",
       "[1, 0, 0, 0, 0, -1, b0, c0, d0],\n",
       "[0, 1, 0, 0, 0, -1, b1, c1, d1],\n",
       "[0, 0, 1, 0, 0, a2, b2, c2, -1],\n",
       "[0, 0, 0, 1, 0, a3, b3, c3, -1],\n",
       "[0, 0, 0, 0, 1, a4, -1, c4, d4]]), Matrix([\n",
       "[1, 0, 0, 0, 0, -1, -1, -1, d0],\n",
       "[0, 1, 0, 0, 0, -1, -2, -1, d1],\n",
       "[0, 0, 1, 0, 0,  1,  1,  0, -1],\n",
       "[0, 0, 0, 1, 0,  0,  1,  0, -1],\n",
       "[0, 0, 0, 0, 1,  0, -1, -1, d4]]))"
      ]
     },
     "metadata": {},
     "output_type": "display_data"
    }
   ],
   "source": [
    "C1 = copy.deepcopy(C0)\n",
    "C = C1\n",
    "t=0\n",
    "\n",
    "proj = C.proj([projectied_vertex])\n",
    "with sp.evaluate(False):\n",
    "    display(sp.Eq(proj, fans_link[t]))"
   ]
  },
  {
   "cell_type": "code",
   "execution_count": 13,
   "id": "41ea0310-b5cf-41e4-bb0a-cfb79222eb08",
   "metadata": {},
   "outputs": [
    {
     "data": {
      "text/latex": [
       "$\\displaystyle \\text{True}$"
      ],
      "text/plain": [
       "True"
      ]
     },
     "metadata": {},
     "output_type": "display_data"
    }
   ],
   "source": [
    "C.subs(a2, 1)\n",
    "C.subs(a3, 0)\n",
    "C.subs(a4, 0)\n",
    "C.subs(b0, -1)\n",
    "C.subs(b1, -2)\n",
    "C.subs(b2, 1)\n",
    "C.subs(b3, 1)\n",
    "C.subs(c0, -1)\n",
    "C.subs(c1, -1)\n",
    "C.subs(c2, 0)\n",
    "C.subs(c3, 0)\n",
    "C.subs(c4, -1)\n",
    "\n",
    "display(sp.Eq(C.proj([projectied_vertex]), fans_link[t]))"
   ]
  },
  {
   "cell_type": "code",
   "execution_count": 14,
   "id": "4019583a-9beb-4672-8c92-223ddea7e7e6",
   "metadata": {},
   "outputs": [
    {
     "name": "stdout",
     "output_type": "stream",
     "text": [
      "facet number: 11\n"
     ]
    },
    {
     "data": {
      "text/latex": [
       "$\\displaystyle d_{5} - 1 = -1$"
      ],
      "text/plain": [
       "Eq(d5 - 1, -1)"
      ]
     },
     "metadata": {},
     "output_type": "display_data"
    }
   ],
   "source": [
    "i=11\n",
    "print('facet number:', i)\n",
    "display(sp.Eq(C.determinants[i], C.orientation[i]))\n",
    "\n",
    "C.subs(d5, 0)"
   ]
  },
  {
   "cell_type": "code",
   "execution_count": 15,
   "id": "a7fee864-0276-4367-b803-a76183d3c1be",
   "metadata": {},
   "outputs": [
    {
     "name": "stdout",
     "output_type": "stream",
     "text": [
      "facet number: 37\n"
     ]
    },
    {
     "data": {
      "text/latex": [
       "$\\displaystyle - c_{5} d_{0} + c_{5} + 1 = 1$"
      ],
      "text/plain": [
       "Eq(-c5*d0 + c5 + 1, 1)"
      ]
     },
     "metadata": {},
     "output_type": "display_data"
    }
   ],
   "source": [
    "i=37\n",
    "print('facet number:', i)\n",
    "display(sp.Eq(C.determinants[i], C.orientation[i]))"
   ]
  },
  {
   "cell_type": "markdown",
   "id": "daaa286f-dcac-4d15-a866-402092d51226",
   "metadata": {
    "jp-MarkdownHeadingCollapsed": true
   },
   "source": [
    "## $c_5=0$"
   ]
  },
  {
   "cell_type": "code",
   "execution_count": 16,
   "id": "eac46213-0c96-4ddc-aac6-8a40640e7981",
   "metadata": {},
   "outputs": [],
   "source": [
    "C2 = copy.deepcopy(C1)\n",
    "C = C2\n",
    "C.subs(c5, 0)"
   ]
  },
  {
   "cell_type": "code",
   "execution_count": 17,
   "id": "7f5a5d41-21ca-4df5-bce2-653965935401",
   "metadata": {},
   "outputs": [
    {
     "name": "stdout",
     "output_type": "stream",
     "text": [
      "facet number: 15\n"
     ]
    },
    {
     "data": {
      "text/latex": [
       "$\\displaystyle b_{5} = -1$"
      ],
      "text/plain": [
       "Eq(b5, -1)"
      ]
     },
     "metadata": {},
     "output_type": "display_data"
    }
   ],
   "source": [
    "i=15\n",
    "print('facet number:', i)\n",
    "display(sp.Eq(C.determinants[i], C.orientation[i]))\n",
    "\n",
    "C.subs(b5, -1)"
   ]
  },
  {
   "cell_type": "code",
   "execution_count": 19,
   "id": "078ae040-3c39-409d-b6b3-fd6eaa0e00ee",
   "metadata": {},
   "outputs": [
    {
     "data": {
      "text/latex": [
       "$\\displaystyle \\left[\\begin{matrix}1 & 0 & 0 & 0 & 0 & 0 & -1 & -1 & -1 & d_{0}\\\\0 & 1 & 0 & 0 & 0 & 0 & -1 & -2 & -1 & d_{1}\\\\0 & 0 & 1 & 0 & 0 & 0 & 1 & 1 & 0 & -1\\\\0 & 0 & 0 & 1 & 0 & 0 & 0 & 1 & 0 & -1\\\\0 & 0 & 0 & 0 & 1 & 0 & 0 & -1 & -1 & d_{4}\\\\0 & 0 & 0 & 0 & 0 & 1 & -1 & -1 & 0 & 0\\end{matrix}\\right]$"
      ],
      "text/plain": [
       "Matrix([\n",
       "[1, 0, 0, 0, 0, 0, -1, -1, -1, d0],\n",
       "[0, 1, 0, 0, 0, 0, -1, -2, -1, d1],\n",
       "[0, 0, 1, 0, 0, 0,  1,  1,  0, -1],\n",
       "[0, 0, 0, 1, 0, 0,  0,  1,  0, -1],\n",
       "[0, 0, 0, 0, 1, 0,  0, -1, -1, d4],\n",
       "[0, 0, 0, 0, 0, 1, -1, -1,  0,  0]])"
      ]
     },
     "metadata": {},
     "output_type": "display_data"
    },
    {
     "name": "stdout",
     "output_type": "stream",
     "text": [
      "1\n"
     ]
    }
   ],
   "source": [
    "display(C.char)\n",
    "print(C.is_fangiving)\n",
    "fans.append(C.char)"
   ]
  },
  {
   "cell_type": "markdown",
   "id": "05b53760-a643-4705-a713-9680b2467dd0",
   "metadata": {
    "jp-MarkdownHeadingCollapsed": true
   },
   "source": [
    "## $d_0=1$ ($c_5 \\not= 0$)"
   ]
  },
  {
   "cell_type": "code",
   "execution_count": 20,
   "id": "7f9ff07f-3b2c-40cd-942b-cd3e86aa5762",
   "metadata": {},
   "outputs": [],
   "source": [
    "C2 = copy.deepcopy(C1)\n",
    "C = C2\n",
    "C.subs(d0, 1)"
   ]
  },
  {
   "cell_type": "code",
   "execution_count": 21,
   "id": "ebf4466c-ca0c-4351-9483-129d3ca342da",
   "metadata": {},
   "outputs": [
    {
     "name": "stdout",
     "output_type": "stream",
     "text": [
      "facet number: 39\n"
     ]
    },
    {
     "data": {
      "text/latex": [
       "$\\displaystyle - b_{5} d_{4} - d_{4} + 1 = 1$"
      ],
      "text/plain": [
       "Eq(-b5*d4 - d4 + 1, 1)"
      ]
     },
     "metadata": {},
     "output_type": "display_data"
    }
   ],
   "source": [
    "i=39\n",
    "print('facet number:', i)\n",
    "display(sp.Eq(C.determinants[i], C.orientation[i]))"
   ]
  },
  {
   "cell_type": "markdown",
   "id": "0a4a8386-4561-495e-b35c-4c04c8ee4ac8",
   "metadata": {
    "jp-MarkdownHeadingCollapsed": true
   },
   "source": [
    "### $d_4=0$ ($c_5 \\not= 0$)"
   ]
  },
  {
   "cell_type": "code",
   "execution_count": 22,
   "id": "6d8f0ff1-3015-4c98-a04e-f4964e682015",
   "metadata": {},
   "outputs": [],
   "source": [
    "C3 = copy.deepcopy(C2)\n",
    "C = C3\n",
    "C.subs(d4, 0)"
   ]
  },
  {
   "cell_type": "code",
   "execution_count": 23,
   "id": "c824840b-ea07-4a65-b4b2-47ec988b84bd",
   "metadata": {},
   "outputs": [
    {
     "name": "stdout",
     "output_type": "stream",
     "text": [
      "facet number: 15\n"
     ]
    },
    {
     "data": {
      "text/latex": [
       "$\\displaystyle b_{5} - c_{5} = -1$"
      ],
      "text/plain": [
       "Eq(b5 - c5, -1)"
      ]
     },
     "metadata": {},
     "output_type": "display_data"
    }
   ],
   "source": [
    "i=15\n",
    "print('facet number:', i)\n",
    "display(sp.Eq(C.determinants[i], C.orientation[i]))\n",
    "\n",
    "C.subs(b5, c5-1)"
   ]
  },
  {
   "cell_type": "code",
   "execution_count": 24,
   "id": "0daa6ff3-bb36-4ea9-835b-536093b5a080",
   "metadata": {},
   "outputs": [
    {
     "name": "stdout",
     "output_type": "stream",
     "text": [
      "facet number: 25\n"
     ]
    },
    {
     "data": {
      "text/latex": [
       "$\\displaystyle c_{5} d_{1} - c_{5} - 1 = -1$"
      ],
      "text/plain": [
       "Eq(c5*d1 - c5 - 1, -1)"
      ]
     },
     "metadata": {},
     "output_type": "display_data"
    }
   ],
   "source": [
    "i=25\n",
    "print('facet number:', i)\n",
    "display(sp.Eq(C.determinants[i], C.orientation[i]))\n",
    "\n",
    "C.subs(d1, 1)"
   ]
  },
  {
   "cell_type": "code",
   "execution_count": 26,
   "id": "7b5ee651-1fdb-4901-99d8-5a61d214a3a2",
   "metadata": {},
   "outputs": [
    {
     "data": {
      "text/latex": [
       "$\\displaystyle \\left[\\begin{matrix}1 & 0 & 0 & 0 & 0 & 0 & -1 & -1 & -1 & 1\\\\0 & 1 & 0 & 0 & 0 & 0 & -1 & -2 & -1 & 1\\\\0 & 0 & 1 & 0 & 0 & 0 & 1 & 1 & 0 & -1\\\\0 & 0 & 0 & 1 & 0 & 0 & 0 & 1 & 0 & -1\\\\0 & 0 & 0 & 0 & 1 & 0 & 0 & -1 & -1 & 0\\\\0 & 0 & 0 & 0 & 0 & 1 & -1 & c_{5} - 1 & c_{5} & 0\\end{matrix}\\right]$"
      ],
      "text/plain": [
       "Matrix([\n",
       "[1, 0, 0, 0, 0, 0, -1,     -1, -1,  1],\n",
       "[0, 1, 0, 0, 0, 0, -1,     -2, -1,  1],\n",
       "[0, 0, 1, 0, 0, 0,  1,      1,  0, -1],\n",
       "[0, 0, 0, 1, 0, 0,  0,      1,  0, -1],\n",
       "[0, 0, 0, 0, 1, 0,  0,     -1, -1,  0],\n",
       "[0, 0, 0, 0, 0, 1, -1, c5 - 1, c5,  0]])"
      ]
     },
     "metadata": {},
     "output_type": "display_data"
    },
    {
     "name": "stdout",
     "output_type": "stream",
     "text": [
      "1\n"
     ]
    }
   ],
   "source": [
    "display(C.char)\n",
    "print(C.is_fangiving)\n",
    "fans.append(C.char)"
   ]
  },
  {
   "cell_type": "markdown",
   "id": "6ae152af-0834-406d-8adc-dc89c2697503",
   "metadata": {
    "jp-MarkdownHeadingCollapsed": true
   },
   "source": [
    "### $b_5=-1$ ($c_5 \\not= 0$, $d_4 \\not= 0$)"
   ]
  },
  {
   "cell_type": "code",
   "execution_count": 27,
   "id": "9b016678-8e56-48e8-b5fb-015e46a5ef05",
   "metadata": {},
   "outputs": [],
   "source": [
    "C3 = copy.deepcopy(C2)\n",
    "C = C3\n",
    "C.subs(b5, -1)"
   ]
  },
  {
   "cell_type": "code",
   "execution_count": 29,
   "id": "04516ddc-2a77-4d8e-85e7-8222f09991dc",
   "metadata": {},
   "outputs": [
    {
     "name": "stdout",
     "output_type": "stream",
     "text": [
      "facet number: 15\n"
     ]
    },
    {
     "data": {
      "text/latex": [
       "$\\displaystyle c_{5} d_{4} - c_{5} - 1 = -1$"
      ],
      "text/plain": [
       "Eq(c5*d4 - c5 - 1, -1)"
      ]
     },
     "metadata": {},
     "output_type": "display_data"
    }
   ],
   "source": [
    "i=15\n",
    "print('facet number:', i)\n",
    "display(sp.Eq(C.determinants[i], C.orientation[i]))\n",
    "\n",
    "C.subs(d4, 1)"
   ]
  },
  {
   "cell_type": "code",
   "execution_count": 30,
   "id": "ed8e8cb9-a573-442a-9569-ba5c67453a7e",
   "metadata": {},
   "outputs": [
    {
     "name": "stdout",
     "output_type": "stream",
     "text": [
      "facet number: 26\n"
     ]
    },
    {
     "data": {
      "text/latex": [
       "$\\displaystyle c_{5} d_{1} - 2 c_{5} - 1 = -1$"
      ],
      "text/plain": [
       "Eq(c5*d1 - 2*c5 - 1, -1)"
      ]
     },
     "metadata": {},
     "output_type": "display_data"
    }
   ],
   "source": [
    "i=26\n",
    "print('facet number:', i)\n",
    "display(sp.Eq(C.determinants[i], C.orientation[i]))\n",
    "\n",
    "C.subs(d1, 2)"
   ]
  },
  {
   "cell_type": "code",
   "execution_count": 31,
   "id": "3e2dfa0f-2e28-4191-a4b1-7738bb0dd7f6",
   "metadata": {},
   "outputs": [
    {
     "data": {
      "text/latex": [
       "$\\displaystyle \\left[\\begin{matrix}1 & 0 & 0 & 0 & 0 & 0 & -1 & -1 & -1 & 1\\\\0 & 1 & 0 & 0 & 0 & 0 & -1 & -2 & -1 & 2\\\\0 & 0 & 1 & 0 & 0 & 0 & 1 & 1 & 0 & -1\\\\0 & 0 & 0 & 1 & 0 & 0 & 0 & 1 & 0 & -1\\\\0 & 0 & 0 & 0 & 1 & 0 & 0 & -1 & -1 & 1\\\\0 & 0 & 0 & 0 & 0 & 1 & -1 & -1 & c_{5} & 0\\end{matrix}\\right]$"
      ],
      "text/plain": [
       "Matrix([\n",
       "[1, 0, 0, 0, 0, 0, -1, -1, -1,  1],\n",
       "[0, 1, 0, 0, 0, 0, -1, -2, -1,  2],\n",
       "[0, 0, 1, 0, 0, 0,  1,  1,  0, -1],\n",
       "[0, 0, 0, 1, 0, 0,  0,  1,  0, -1],\n",
       "[0, 0, 0, 0, 1, 0,  0, -1, -1,  1],\n",
       "[0, 0, 0, 0, 0, 1, -1, -1, c5,  0]])"
      ]
     },
     "metadata": {},
     "output_type": "display_data"
    },
    {
     "name": "stdout",
     "output_type": "stream",
     "text": [
      "1\n"
     ]
    }
   ],
   "source": [
    "display(C.char)\n",
    "print(C.is_fangiving)\n",
    "fans.append(C.char)"
   ]
  },
  {
   "cell_type": "markdown",
   "id": "a7d16530-a1e4-4d26-8520-a6500c55086a",
   "metadata": {
    "jp-MarkdownHeadingCollapsed": true
   },
   "source": [
    "# Type 1 of the projection"
   ]
  },
  {
   "cell_type": "code",
   "execution_count": 35,
   "id": "fe961236-6c80-4a69-9c7c-3233152f28f2",
   "metadata": {},
   "outputs": [
    {
     "data": {
      "text/latex": [
       "$\\displaystyle \\left[\\begin{matrix}1 & 0 & 0 & 0 & 0 & -1 & b_{0} & c_{0} & d_{0}\\\\0 & 1 & 0 & 0 & 0 & -1 & b_{1} & c_{1} & d_{1}\\\\0 & 0 & 1 & 0 & 0 & a_{2} & b_{2} & c_{2} & -1\\\\0 & 0 & 0 & 1 & 0 & a_{3} & b_{3} & c_{3} & -1\\\\0 & 0 & 0 & 0 & 1 & a_{4} & -1 & c_{4} & d_{4}\\end{matrix}\\right] = \\left[\\begin{matrix}1 & 0 & 0 & 0 & 0 & -1 & -1 & - c_{3} - 1 & 1\\\\0 & 1 & 0 & 0 & 0 & -1 & -2 & - 2 c_{3} - 1 & 2\\\\0 & 0 & 1 & 0 & 0 & 1 & 1 & c_{3} & -1\\\\0 & 0 & 0 & 1 & 0 & 0 & 1 & c_{3} & -1\\\\0 & 0 & 0 & 0 & 1 & 0 & -1 & - c_{3} - 1 & 1\\end{matrix}\\right]$"
      ],
      "text/plain": [
       "Eq(Matrix([\n",
       "[1, 0, 0, 0, 0, -1, b0, c0, d0],\n",
       "[0, 1, 0, 0, 0, -1, b1, c1, d1],\n",
       "[0, 0, 1, 0, 0, a2, b2, c2, -1],\n",
       "[0, 0, 0, 1, 0, a3, b3, c3, -1],\n",
       "[0, 0, 0, 0, 1, a4, -1, c4, d4]]), Matrix([\n",
       "[1, 0, 0, 0, 0, -1, -1,   -c3 - 1,  1],\n",
       "[0, 1, 0, 0, 0, -1, -2, -2*c3 - 1,  2],\n",
       "[0, 0, 1, 0, 0,  1,  1,        c3, -1],\n",
       "[0, 0, 0, 1, 0,  0,  1,        c3, -1],\n",
       "[0, 0, 0, 0, 1,  0, -1,   -c3 - 1,  1]]))"
      ]
     },
     "metadata": {},
     "output_type": "display_data"
    }
   ],
   "source": [
    "C1 = copy.deepcopy(C0)\n",
    "C = C1\n",
    "t=1\n",
    "\n",
    "proj = C.proj([projectied_vertex])\n",
    "with sp.evaluate(False):\n",
    "    display(sp.Eq(proj, fans_link[t]))"
   ]
  },
  {
   "cell_type": "code",
   "execution_count": 36,
   "id": "06cf5ae3-131f-499c-8e60-944d7d9a1073",
   "metadata": {},
   "outputs": [
    {
     "data": {
      "text/latex": [
       "$\\displaystyle \\text{True}$"
      ],
      "text/plain": [
       "True"
      ]
     },
     "metadata": {},
     "output_type": "display_data"
    }
   ],
   "source": [
    "C.subs(a2, 1)\n",
    "C.subs(a3, 0)\n",
    "C.subs(a4, 0)\n",
    "C.subs(b0, -1)\n",
    "C.subs(b1, -2)\n",
    "C.subs(b2, 1)\n",
    "C.subs(b3, 1)\n",
    "C.subs(c0, -c3-1)\n",
    "C.subs(c1, -2*c3-1)\n",
    "C.subs(c2, c3)\n",
    "C.subs(c4, -c3-1)\n",
    "C.subs(d0, 1)\n",
    "C.subs(d1, 2)\n",
    "C.subs(d4, 1)\n",
    "\n",
    "display(sp.Eq(C.proj([projectied_vertex]), fans_link[t]))"
   ]
  },
  {
   "cell_type": "code",
   "execution_count": 37,
   "id": "6bc70476-43f2-448a-803a-4906a9ed882a",
   "metadata": {},
   "outputs": [
    {
     "name": "stdout",
     "output_type": "stream",
     "text": [
      "facet number: 11\n"
     ]
    },
    {
     "data": {
      "text/latex": [
       "$\\displaystyle d_{5} - 1 = -1$"
      ],
      "text/plain": [
       "Eq(d5 - 1, -1)"
      ]
     },
     "metadata": {},
     "output_type": "display_data"
    }
   ],
   "source": [
    "i=11\n",
    "print('facet number:', i)\n",
    "display(sp.Eq(C.determinants[i], C.orientation[i]))\n",
    "\n",
    "C.subs(d5, 0)"
   ]
  },
  {
   "cell_type": "code",
   "execution_count": 38,
   "id": "bce5baec-135c-44df-8650-450365b9e77b",
   "metadata": {},
   "outputs": [
    {
     "name": "stdout",
     "output_type": "stream",
     "text": [
      "facet number: 14\n"
     ]
    },
    {
     "data": {
      "text/latex": [
       "$\\displaystyle b_{5} = -1$"
      ],
      "text/plain": [
       "Eq(b5, -1)"
      ]
     },
     "metadata": {},
     "output_type": "display_data"
    }
   ],
   "source": [
    "i=14\n",
    "print('facet number:', i)\n",
    "display(sp.Eq(C.determinants[i], C.orientation[i]))\n",
    "\n",
    "C.subs(b5, -1)"
   ]
  },
  {
   "cell_type": "code",
   "execution_count": 40,
   "id": "0e2dd78a-b4d8-43ef-b2f1-2e7951da7f73",
   "metadata": {},
   "outputs": [
    {
     "data": {
      "text/latex": [
       "$\\displaystyle \\left[\\begin{matrix}1 & 0 & 0 & 0 & 0 & 0 & -1 & -1 & - c_{3} - 1 & 1\\\\0 & 1 & 0 & 0 & 0 & 0 & -1 & -2 & - 2 c_{3} - 1 & 2\\\\0 & 0 & 1 & 0 & 0 & 0 & 1 & 1 & c_{3} & -1\\\\0 & 0 & 0 & 1 & 0 & 0 & 0 & 1 & c_{3} & -1\\\\0 & 0 & 0 & 0 & 1 & 0 & 0 & -1 & - c_{3} - 1 & 1\\\\0 & 0 & 0 & 0 & 0 & 1 & -1 & -1 & c_{5} & 0\\end{matrix}\\right]$"
      ],
      "text/plain": [
       "Matrix([\n",
       "[1, 0, 0, 0, 0, 0, -1, -1,   -c3 - 1,  1],\n",
       "[0, 1, 0, 0, 0, 0, -1, -2, -2*c3 - 1,  2],\n",
       "[0, 0, 1, 0, 0, 0,  1,  1,        c3, -1],\n",
       "[0, 0, 0, 1, 0, 0,  0,  1,        c3, -1],\n",
       "[0, 0, 0, 0, 1, 0,  0, -1,   -c3 - 1,  1],\n",
       "[0, 0, 0, 0, 0, 1, -1, -1,        c5,  0]])"
      ]
     },
     "metadata": {},
     "output_type": "display_data"
    },
    {
     "name": "stdout",
     "output_type": "stream",
     "text": [
      "1\n"
     ]
    }
   ],
   "source": [
    "display(C.char)\n",
    "print(C.is_fangiving)\n",
    "fans.append(C.char)"
   ]
  },
  {
   "cell_type": "markdown",
   "id": "869f5253-4188-4f1e-aa2c-e119083ed1f1",
   "metadata": {
    "jp-MarkdownHeadingCollapsed": true
   },
   "source": [
    "# Type 2 of the projection"
   ]
  },
  {
   "cell_type": "code",
   "execution_count": 42,
   "id": "81b9bb5b-3021-432f-9a90-8cf18d41424e",
   "metadata": {},
   "outputs": [
    {
     "data": {
      "text/latex": [
       "$\\displaystyle \\left[\\begin{matrix}1 & 0 & 0 & 0 & 0 & -1 & b_{0} & c_{0} & d_{0}\\\\0 & 1 & 0 & 0 & 0 & -1 & b_{1} & c_{1} & d_{1}\\\\0 & 0 & 1 & 0 & 0 & a_{2} & b_{2} & c_{2} & -1\\\\0 & 0 & 0 & 1 & 0 & a_{3} & b_{3} & c_{3} & -1\\\\0 & 0 & 0 & 0 & 1 & a_{4} & -1 & c_{4} & d_{4}\\end{matrix}\\right] = \\left[\\begin{matrix}1 & 0 & 0 & 0 & 0 & -1 & 0 & 0 & 1\\\\0 & 1 & 0 & 0 & 0 & -1 & -1 & d_{1} - 1 & d_{1}\\\\0 & 0 & 1 & 0 & 0 & 1 & 0 & -1 & -1\\\\0 & 0 & 0 & 1 & 0 & 0 & 0 & -1 & -1\\\\0 & 0 & 0 & 0 & 1 & 0 & -1 & d_{4} - 1 & d_{4}\\end{matrix}\\right]$"
      ],
      "text/plain": [
       "Eq(Matrix([\n",
       "[1, 0, 0, 0, 0, -1, b0, c0, d0],\n",
       "[0, 1, 0, 0, 0, -1, b1, c1, d1],\n",
       "[0, 0, 1, 0, 0, a2, b2, c2, -1],\n",
       "[0, 0, 0, 1, 0, a3, b3, c3, -1],\n",
       "[0, 0, 0, 0, 1, a4, -1, c4, d4]]), Matrix([\n",
       "[1, 0, 0, 0, 0, -1,  0,      0,  1],\n",
       "[0, 1, 0, 0, 0, -1, -1, d1 - 1, d1],\n",
       "[0, 0, 1, 0, 0,  1,  0,     -1, -1],\n",
       "[0, 0, 0, 1, 0,  0,  0,     -1, -1],\n",
       "[0, 0, 0, 0, 1,  0, -1, d4 - 1, d4]]))"
      ]
     },
     "metadata": {},
     "output_type": "display_data"
    }
   ],
   "source": [
    "C1 = copy.deepcopy(C0)\n",
    "C = C1\n",
    "t=2\n",
    "\n",
    "proj = C.proj([projectied_vertex])\n",
    "with sp.evaluate(False):\n",
    "    display(sp.Eq(proj, fans_link[t]))"
   ]
  },
  {
   "cell_type": "code",
   "execution_count": 43,
   "id": "115fdc55-b864-447e-9c5c-c7704e37c7c2",
   "metadata": {},
   "outputs": [
    {
     "data": {
      "text/latex": [
       "$\\displaystyle \\text{True}$"
      ],
      "text/plain": [
       "True"
      ]
     },
     "metadata": {},
     "output_type": "display_data"
    }
   ],
   "source": [
    "C.subs(a2, 1)\n",
    "C.subs(a3, 0)\n",
    "C.subs(a4, 0)\n",
    "C.subs(b0, 0)\n",
    "C.subs(b1, -1)\n",
    "C.subs(b2, 0)\n",
    "C.subs(b3, 0)\n",
    "C.subs(c0, 0)\n",
    "C.subs(c1, d1-1)\n",
    "C.subs(c2, -1)\n",
    "C.subs(c3, -1)\n",
    "C.subs(c4, d4-1)\n",
    "C.subs(d0, 1)\n",
    "\n",
    "display(sp.Eq(C.proj([projectied_vertex]), fans_link[t]))"
   ]
  },
  {
   "cell_type": "code",
   "execution_count": 44,
   "id": "ea487863-d266-488d-a39f-c7997450891c",
   "metadata": {},
   "outputs": [
    {
     "name": "stdout",
     "output_type": "stream",
     "text": [
      "facet number: 11\n"
     ]
    },
    {
     "data": {
      "text/latex": [
       "$\\displaystyle d_{5} - 1 = -1$"
      ],
      "text/plain": [
       "Eq(d5 - 1, -1)"
      ]
     },
     "metadata": {},
     "output_type": "display_data"
    }
   ],
   "source": [
    "i=11\n",
    "print('facet number:', i)\n",
    "display(sp.Eq(C.determinants[i], C.orientation[i]))\n",
    "\n",
    "C.subs(d5, 0)"
   ]
  },
  {
   "cell_type": "code",
   "execution_count": 45,
   "id": "81459d35-7084-4546-83b8-a8320ac5d502",
   "metadata": {},
   "outputs": [
    {
     "name": "stdout",
     "output_type": "stream",
     "text": [
      "facet number: 15\n"
     ]
    },
    {
     "data": {
      "text/latex": [
       "$\\displaystyle b_{5} - c_{5} = -1$"
      ],
      "text/plain": [
       "Eq(b5 - c5, -1)"
      ]
     },
     "metadata": {},
     "output_type": "display_data"
    }
   ],
   "source": [
    "i=15\n",
    "print('facet number:', i)\n",
    "display(sp.Eq(C.determinants[i], C.orientation[i]))\n",
    "\n",
    "C.subs(b5, c5-1)"
   ]
  },
  {
   "cell_type": "code",
   "execution_count": 46,
   "id": "93f3ef2a-20af-46d1-820e-c6bd12fca271",
   "metadata": {},
   "outputs": [
    {
     "name": "stdout",
     "output_type": "stream",
     "text": [
      "facet number: 14\n"
     ]
    },
    {
     "data": {
      "text/latex": [
       "$\\displaystyle c_{5} d_{4} - d_{4} - 1 = -1$"
      ],
      "text/plain": [
       "Eq(c5*d4 - d4 - 1, -1)"
      ]
     },
     "metadata": {},
     "output_type": "display_data"
    }
   ],
   "source": [
    "i=14\n",
    "print('facet number:', i)\n",
    "display(sp.Eq(C.determinants[i], C.orientation[i]))"
   ]
  },
  {
   "cell_type": "markdown",
   "id": "c64308c5-9123-4693-af25-828307a8d997",
   "metadata": {
    "jp-MarkdownHeadingCollapsed": true
   },
   "source": [
    "## $c_5=1$"
   ]
  },
  {
   "cell_type": "code",
   "execution_count": 47,
   "id": "5105bbdc-a59d-4fad-ab5d-a1410097c632",
   "metadata": {},
   "outputs": [],
   "source": [
    "C2 = copy.deepcopy(C1)\n",
    "C = C2\n",
    "C.subs(c5, 1)"
   ]
  },
  {
   "cell_type": "code",
   "execution_count": 49,
   "id": "1335a581-0f6e-4199-86c0-e95b96b95b4b",
   "metadata": {},
   "outputs": [
    {
     "data": {
      "text/latex": [
       "$\\displaystyle \\left[\\begin{matrix}1 & 0 & 0 & 0 & 0 & 0 & -1 & 0 & 0 & 1\\\\0 & 1 & 0 & 0 & 0 & 0 & -1 & -1 & d_{1} - 1 & d_{1}\\\\0 & 0 & 1 & 0 & 0 & 0 & 1 & 0 & -1 & -1\\\\0 & 0 & 0 & 1 & 0 & 0 & 0 & 0 & -1 & -1\\\\0 & 0 & 0 & 0 & 1 & 0 & 0 & -1 & d_{4} - 1 & d_{4}\\\\0 & 0 & 0 & 0 & 0 & 1 & -1 & 0 & 1 & 0\\end{matrix}\\right]$"
      ],
      "text/plain": [
       "Matrix([\n",
       "[1, 0, 0, 0, 0, 0, -1,  0,      0,  1],\n",
       "[0, 1, 0, 0, 0, 0, -1, -1, d1 - 1, d1],\n",
       "[0, 0, 1, 0, 0, 0,  1,  0,     -1, -1],\n",
       "[0, 0, 0, 1, 0, 0,  0,  0,     -1, -1],\n",
       "[0, 0, 0, 0, 1, 0,  0, -1, d4 - 1, d4],\n",
       "[0, 0, 0, 0, 0, 1, -1,  0,      1,  0]])"
      ]
     },
     "metadata": {},
     "output_type": "display_data"
    },
    {
     "name": "stdout",
     "output_type": "stream",
     "text": [
      "1\n"
     ]
    }
   ],
   "source": [
    "display(C.char)\n",
    "print(C.is_fangiving)\n",
    "fans.append(C.char)"
   ]
  },
  {
   "cell_type": "markdown",
   "id": "6700f973-47cd-42a1-b25f-c0753a377ba0",
   "metadata": {
    "jp-MarkdownHeadingCollapsed": true
   },
   "source": [
    "## $d_4=0$ ($c_5 \\not= 1$)"
   ]
  },
  {
   "cell_type": "code",
   "execution_count": 50,
   "id": "7565cd0e-7f3e-4343-b772-59fd291d31a8",
   "metadata": {},
   "outputs": [],
   "source": [
    "C2 = copy.deepcopy(C1)\n",
    "C = C2\n",
    "C.subs(d4, 0)"
   ]
  },
  {
   "cell_type": "code",
   "execution_count": 51,
   "id": "2da0a8dd-1674-449d-b1f1-f662a047dc0b",
   "metadata": {},
   "outputs": [
    {
     "name": "stdout",
     "output_type": "stream",
     "text": [
      "facet number: 25\n"
     ]
    },
    {
     "data": {
      "text/latex": [
       "$\\displaystyle c_{5} d_{1} - c_{5} - d_{1} = -1$"
      ],
      "text/plain": [
       "Eq(c5*d1 - c5 - d1, -1)"
      ]
     },
     "metadata": {},
     "output_type": "display_data"
    }
   ],
   "source": [
    "i=25\n",
    "print('facet number:', i)\n",
    "display(sp.Eq(C.determinants[i], C.orientation[i]))\n",
    "\n",
    "C.subs(d1, 1)"
   ]
  },
  {
   "cell_type": "code",
   "execution_count": 54,
   "id": "b58a8a73-9e82-43a6-9ac1-a2366514d07b",
   "metadata": {},
   "outputs": [
    {
     "data": {
      "text/latex": [
       "$\\displaystyle \\left[\\begin{matrix}1 & 0 & 0 & 0 & 0 & 0 & -1 & 0 & 0 & 1\\\\0 & 1 & 0 & 0 & 0 & 0 & -1 & -1 & 0 & 1\\\\0 & 0 & 1 & 0 & 0 & 0 & 1 & 0 & -1 & -1\\\\0 & 0 & 0 & 1 & 0 & 0 & 0 & 0 & -1 & -1\\\\0 & 0 & 0 & 0 & 1 & 0 & 0 & -1 & -1 & 0\\\\0 & 0 & 0 & 0 & 0 & 1 & -1 & c_{5} - 1 & c_{5} & 0\\end{matrix}\\right]$"
      ],
      "text/plain": [
       "Matrix([\n",
       "[1, 0, 0, 0, 0, 0, -1,      0,  0,  1],\n",
       "[0, 1, 0, 0, 0, 0, -1,     -1,  0,  1],\n",
       "[0, 0, 1, 0, 0, 0,  1,      0, -1, -1],\n",
       "[0, 0, 0, 1, 0, 0,  0,      0, -1, -1],\n",
       "[0, 0, 0, 0, 1, 0,  0,     -1, -1,  0],\n",
       "[0, 0, 0, 0, 0, 1, -1, c5 - 1, c5,  0]])"
      ]
     },
     "metadata": {},
     "output_type": "display_data"
    },
    {
     "name": "stdout",
     "output_type": "stream",
     "text": [
      "1\n"
     ]
    }
   ],
   "source": [
    "display(C.char)\n",
    "print(C.is_fangiving)\n",
    "fans.append(C.char)"
   ]
  },
  {
   "cell_type": "markdown",
   "id": "f157ad45-0ad0-4178-895f-62f20e0e597a",
   "metadata": {
    "jp-MarkdownHeadingCollapsed": true
   },
   "source": [
    "# Type 3 of the projection"
   ]
  },
  {
   "cell_type": "code",
   "execution_count": 55,
   "id": "47954903-6c06-4003-9d5d-f7696a041b2c",
   "metadata": {},
   "outputs": [
    {
     "data": {
      "text/latex": [
       "$\\displaystyle \\left[\\begin{matrix}1 & 0 & 0 & 0 & 0 & -1 & b_{0} & c_{0} & d_{0}\\\\0 & 1 & 0 & 0 & 0 & -1 & b_{1} & c_{1} & d_{1}\\\\0 & 0 & 1 & 0 & 0 & a_{2} & b_{2} & c_{2} & -1\\\\0 & 0 & 0 & 1 & 0 & a_{3} & b_{3} & c_{3} & -1\\\\0 & 0 & 0 & 0 & 1 & a_{4} & -1 & c_{4} & d_{4}\\end{matrix}\\right] = \\left[\\begin{matrix}1 & 0 & 0 & 0 & 0 & -1 & b_{0} & 0 & 1\\\\0 & 1 & 0 & 0 & 0 & -1 & b_{1} & 1 & 2\\\\0 & 0 & 1 & 0 & 0 & 1 & - b_{1} - 1 & -1 & -1\\\\0 & 0 & 0 & 1 & 0 & 0 & b_{3} & -1 & -1\\\\0 & 0 & 0 & 0 & 1 & 0 & -1 & 0 & 1\\end{matrix}\\right]$"
      ],
      "text/plain": [
       "Eq(Matrix([\n",
       "[1, 0, 0, 0, 0, -1, b0, c0, d0],\n",
       "[0, 1, 0, 0, 0, -1, b1, c1, d1],\n",
       "[0, 0, 1, 0, 0, a2, b2, c2, -1],\n",
       "[0, 0, 0, 1, 0, a3, b3, c3, -1],\n",
       "[0, 0, 0, 0, 1, a4, -1, c4, d4]]), Matrix([\n",
       "[1, 0, 0, 0, 0, -1,      b0,  0,  1],\n",
       "[0, 1, 0, 0, 0, -1,      b1,  1,  2],\n",
       "[0, 0, 1, 0, 0,  1, -b1 - 1, -1, -1],\n",
       "[0, 0, 0, 1, 0,  0,      b3, -1, -1],\n",
       "[0, 0, 0, 0, 1,  0,      -1,  0,  1]]))"
      ]
     },
     "metadata": {},
     "output_type": "display_data"
    }
   ],
   "source": [
    "C1 = copy.deepcopy(C0)\n",
    "C = C1\n",
    "t=3\n",
    "\n",
    "proj = C.proj([projectied_vertex])\n",
    "with sp.evaluate(False):\n",
    "    display(sp.Eq(proj, fans_link[t]))"
   ]
  },
  {
   "cell_type": "code",
   "execution_count": 56,
   "id": "2ddb179f-a8cf-4810-8783-a22e19f49383",
   "metadata": {},
   "outputs": [
    {
     "data": {
      "text/latex": [
       "$\\displaystyle \\text{True}$"
      ],
      "text/plain": [
       "True"
      ]
     },
     "metadata": {},
     "output_type": "display_data"
    }
   ],
   "source": [
    "C.subs(a2, 1)\n",
    "C.subs(a3, 0)\n",
    "C.subs(a4, 0)\n",
    "C.subs(b2, -b1-1)\n",
    "C.subs(c0, 0)\n",
    "C.subs(c1, 1)\n",
    "C.subs(c2, -1)\n",
    "C.subs(c3, -1)\n",
    "C.subs(c4, 0)\n",
    "C.subs(d0, 1)\n",
    "C.subs(d1, 2)\n",
    "C.subs(d4, 1)\n",
    "\n",
    "display(sp.Eq(C.proj([projectied_vertex]), fans_link[t]))"
   ]
  },
  {
   "cell_type": "code",
   "execution_count": 57,
   "id": "cd49a829-8096-4365-aa05-80e66870d8c6",
   "metadata": {},
   "outputs": [
    {
     "name": "stdout",
     "output_type": "stream",
     "text": [
      "facet number: 11\n"
     ]
    },
    {
     "data": {
      "text/latex": [
       "$\\displaystyle d_{5} - 1 = -1$"
      ],
      "text/plain": [
       "Eq(d5 - 1, -1)"
      ]
     },
     "metadata": {},
     "output_type": "display_data"
    }
   ],
   "source": [
    "i=11\n",
    "print('facet number:', i)\n",
    "display(sp.Eq(C.determinants[i], C.orientation[i]))\n",
    "\n",
    "C.subs(d5, 0)"
   ]
  },
  {
   "cell_type": "code",
   "execution_count": 58,
   "id": "e18196df-90e0-4f46-85ba-c66abe4b231e",
   "metadata": {},
   "outputs": [
    {
     "name": "stdout",
     "output_type": "stream",
     "text": [
      "facet number: 14\n"
     ]
    },
    {
     "data": {
      "text/latex": [
       "$\\displaystyle - b_{1} + b_{5} - 2 = -1$"
      ],
      "text/plain": [
       "Eq(-b1 + b5 - 2, -1)"
      ]
     },
     "metadata": {},
     "output_type": "display_data"
    }
   ],
   "source": [
    "i=14\n",
    "print('facet number:', i)\n",
    "display(sp.Eq(C.determinants[i], C.orientation[i]))\n",
    "\n",
    "C.subs(b5, b1+1)"
   ]
  },
  {
   "cell_type": "code",
   "execution_count": 59,
   "id": "3a0e1167-5c8d-4b8e-bbb3-20887d2fa688",
   "metadata": {},
   "outputs": [
    {
     "name": "stdout",
     "output_type": "stream",
     "text": [
      "facet number: 29\n"
     ]
    },
    {
     "data": {
      "text/latex": [
       "$\\displaystyle b_{3} c_{5} - b_{3} - c_{5} = -1$"
      ],
      "text/plain": [
       "Eq(b3*c5 - b3 - c5, -1)"
      ]
     },
     "metadata": {},
     "output_type": "display_data"
    }
   ],
   "source": [
    "i=29\n",
    "print('facet number:', i)\n",
    "display(sp.Eq(C.determinants[i], C.orientation[i]))"
   ]
  },
  {
   "cell_type": "markdown",
   "id": "8a0cd18e-0c8d-48d7-bde5-d326a5ccfdf4",
   "metadata": {
    "jp-MarkdownHeadingCollapsed": true
   },
   "source": [
    "## $c_5=1$"
   ]
  },
  {
   "cell_type": "code",
   "execution_count": 62,
   "id": "844332aa-f1b9-4f39-a5af-090354a75006",
   "metadata": {},
   "outputs": [],
   "source": [
    "C2 = copy.deepcopy(C1)\n",
    "C = C2\n",
    "C.subs(c5, 1)"
   ]
  },
  {
   "cell_type": "code",
   "execution_count": 64,
   "id": "eac229f2-9ff3-4d34-89e3-bd1fd40da335",
   "metadata": {},
   "outputs": [
    {
     "data": {
      "text/latex": [
       "$\\displaystyle \\left[\\begin{matrix}1 & 0 & 0 & 0 & 0 & 0 & -1 & b_{0} & 0 & 1\\\\0 & 1 & 0 & 0 & 0 & 0 & -1 & b_{1} & 1 & 2\\\\0 & 0 & 1 & 0 & 0 & 0 & 1 & - b_{1} - 1 & -1 & -1\\\\0 & 0 & 0 & 1 & 0 & 0 & 0 & b_{3} & -1 & -1\\\\0 & 0 & 0 & 0 & 1 & 0 & 0 & -1 & 0 & 1\\\\0 & 0 & 0 & 0 & 0 & 1 & -1 & b_{1} + 1 & 1 & 0\\end{matrix}\\right]$"
      ],
      "text/plain": [
       "Matrix([\n",
       "[1, 0, 0, 0, 0, 0, -1,      b0,  0,  1],\n",
       "[0, 1, 0, 0, 0, 0, -1,      b1,  1,  2],\n",
       "[0, 0, 1, 0, 0, 0,  1, -b1 - 1, -1, -1],\n",
       "[0, 0, 0, 1, 0, 0,  0,      b3, -1, -1],\n",
       "[0, 0, 0, 0, 1, 0,  0,      -1,  0,  1],\n",
       "[0, 0, 0, 0, 0, 1, -1,  b1 + 1,  1,  0]])"
      ]
     },
     "metadata": {},
     "output_type": "display_data"
    },
    {
     "name": "stdout",
     "output_type": "stream",
     "text": [
      "1\n"
     ]
    }
   ],
   "source": [
    "display(C.char)\n",
    "print(C.is_fangiving)\n",
    "fans.append(C.char)"
   ]
  },
  {
   "cell_type": "markdown",
   "id": "af5e91fa-c63a-48e5-b9f8-f19df4b94a5c",
   "metadata": {
    "jp-MarkdownHeadingCollapsed": true
   },
   "source": [
    "## $b_3=1$ ($c_5 \\not= 1$)"
   ]
  },
  {
   "cell_type": "code",
   "execution_count": 66,
   "id": "40c41feb-8c6a-4cd9-baff-4ab2f2d99db9",
   "metadata": {},
   "outputs": [],
   "source": [
    "C2 = copy.deepcopy(C1)\n",
    "C = C2\n",
    "C.subs(b3, 1)"
   ]
  },
  {
   "cell_type": "code",
   "execution_count": 70,
   "id": "fafb38d1-5ec2-4a1c-8dc4-e4f11e9e80b8",
   "metadata": {},
   "outputs": [
    {
     "name": "stdout",
     "output_type": "stream",
     "text": [
      "facet number: 15\n"
     ]
    },
    {
     "data": {
      "text/latex": [
       "$\\displaystyle - b_{1} c_{5} + b_{1} - 2 c_{5} + 1 = -1$"
      ],
      "text/plain": [
       "Eq(-b1*c5 + b1 - 2*c5 + 1, -1)"
      ]
     },
     "metadata": {},
     "output_type": "display_data"
    },
    {
     "data": {
      "text/latex": [
       "$\\displaystyle \\left(b_{1} + 2\\right) \\left(c_{5} - 1\\right) = 0$"
      ],
      "text/plain": [
       "Eq((b1 + 2)*(c5 - 1), 0)"
      ]
     },
     "metadata": {},
     "output_type": "display_data"
    }
   ],
   "source": [
    "i=15\n",
    "print('facet number:', i)\n",
    "display(sp.Eq(C.determinants[i], C.orientation[i]))\n",
    "display(sp.Eq((b1+2)*(c5-1), 0))\n",
    "\n",
    "C.subs(b1, -2)"
   ]
  },
  {
   "cell_type": "code",
   "execution_count": 74,
   "id": "92fc26a0-fcc7-4ebd-904c-9fd1129c7883",
   "metadata": {},
   "outputs": [
    {
     "name": "stdout",
     "output_type": "stream",
     "text": [
      "facet number: 39\n"
     ]
    },
    {
     "data": {
      "text/latex": [
       "$\\displaystyle - b_{0} c_{5} + b_{0} - c_{5} + 2 = 1$"
      ],
      "text/plain": [
       "Eq(-b0*c5 + b0 - c5 + 2, 1)"
      ]
     },
     "metadata": {},
     "output_type": "display_data"
    },
    {
     "data": {
      "text/latex": [
       "$\\displaystyle \\left(b_{0} + 1\\right) \\left(c_{5} - 1\\right) = 0$"
      ],
      "text/plain": [
       "Eq((b0 + 1)*(c5 - 1), 0)"
      ]
     },
     "metadata": {},
     "output_type": "display_data"
    },
    {
     "name": "stdout",
     "output_type": "stream",
     "text": [
      "b0=-1, b1=-2, b3=1 => type 1\n"
     ]
    }
   ],
   "source": [
    "i=39\n",
    "print('facet number:', i)\n",
    "display(sp.Eq(C.determinants[i], C.orientation[i]))\n",
    "display(sp.Eq((b0+1)*(c5-1), 0))\n",
    "\n",
    "print('b0=-1, b1=-2, b3=1 => type 1')"
   ]
  },
  {
   "cell_type": "markdown",
   "id": "8ab52fdb-bc4c-4dda-b92f-0a47dd32949d",
   "metadata": {
    "jp-MarkdownHeadingCollapsed": true
   },
   "source": [
    "# Type 4 of the projection"
   ]
  },
  {
   "cell_type": "code",
   "execution_count": 80,
   "id": "e5fe9134-df6a-4757-9aca-11bec84d13eb",
   "metadata": {},
   "outputs": [
    {
     "data": {
      "text/latex": [
       "$\\displaystyle \\left[\\begin{matrix}1 & 0 & 0 & 0 & 0 & -1 & b_{0} & c_{0} & d_{0}\\\\0 & 1 & 0 & 0 & 0 & -1 & b_{1} & c_{1} & d_{1}\\\\0 & 0 & 1 & 0 & 0 & a_{2} & b_{2} & c_{2} & -1\\\\0 & 0 & 0 & 1 & 0 & a_{3} & b_{3} & c_{3} & -1\\\\0 & 0 & 0 & 0 & 1 & a_{4} & -1 & c_{4} & d_{4}\\end{matrix}\\right] = \\left[\\begin{matrix}1 & 0 & 0 & 0 & 0 & -1 & - c_{2} - 1 & - c_{2} - 1 & 1\\\\0 & 1 & 0 & 0 & 0 & -1 & - c_{2} - 2 & - c_{2} - 1 & 1\\\\0 & 0 & 1 & 0 & 0 & 1 & c_{2} + 1 & c_{2} & -1\\\\0 & 0 & 0 & 1 & 0 & 0 & c_{3} + 1 & c_{3} & -1\\\\0 & 0 & 0 & 0 & 1 & 0 & -1 & -1 & 0\\end{matrix}\\right]$"
      ],
      "text/plain": [
       "Eq(Matrix([\n",
       "[1, 0, 0, 0, 0, -1, b0, c0, d0],\n",
       "[0, 1, 0, 0, 0, -1, b1, c1, d1],\n",
       "[0, 0, 1, 0, 0, a2, b2, c2, -1],\n",
       "[0, 0, 0, 1, 0, a3, b3, c3, -1],\n",
       "[0, 0, 0, 0, 1, a4, -1, c4, d4]]), Matrix([\n",
       "[1, 0, 0, 0, 0, -1, -c2 - 1, -c2 - 1,  1],\n",
       "[0, 1, 0, 0, 0, -1, -c2 - 2, -c2 - 1,  1],\n",
       "[0, 0, 1, 0, 0,  1,  c2 + 1,      c2, -1],\n",
       "[0, 0, 0, 1, 0,  0,  c3 + 1,      c3, -1],\n",
       "[0, 0, 0, 0, 1,  0,      -1,      -1,  0]]))"
      ]
     },
     "metadata": {},
     "output_type": "display_data"
    }
   ],
   "source": [
    "C1 = copy.deepcopy(C0)\n",
    "C = C1\n",
    "t=4\n",
    "\n",
    "proj = C.proj([projectied_vertex])\n",
    "with sp.evaluate(False):\n",
    "    display(sp.Eq(proj, fans_link[t]))"
   ]
  },
  {
   "cell_type": "code",
   "execution_count": 81,
   "id": "eaaadf90-a1bf-4703-95d3-fcf085b8cd0f",
   "metadata": {},
   "outputs": [
    {
     "data": {
      "text/latex": [
       "$\\displaystyle \\text{True}$"
      ],
      "text/plain": [
       "True"
      ]
     },
     "metadata": {},
     "output_type": "display_data"
    }
   ],
   "source": [
    "C.subs(a2, 1)\n",
    "C.subs(a3, 0)\n",
    "C.subs(a4, 0)\n",
    "C.subs(b0, -c2-1)\n",
    "C.subs(b1, -c2-2)\n",
    "C.subs(b2, c2+1)\n",
    "C.subs(b3, c3+1)\n",
    "C.subs(c0, -c2-1)\n",
    "C.subs(c1, -c2-1)\n",
    "C.subs(c4, -1)\n",
    "C.subs(d0, 1)\n",
    "C.subs(d1, 1)\n",
    "C.subs(d4, 0)\n",
    "\n",
    "display(sp.Eq(C.proj([projectied_vertex]), fans_link[t]))"
   ]
  },
  {
   "cell_type": "code",
   "execution_count": 82,
   "id": "50692365-6f6c-4a2f-a785-488122b3b354",
   "metadata": {},
   "outputs": [
    {
     "name": "stdout",
     "output_type": "stream",
     "text": [
      "facet number: 11\n"
     ]
    },
    {
     "data": {
      "text/latex": [
       "$\\displaystyle d_{5} - 1 = -1$"
      ],
      "text/plain": [
       "Eq(d5 - 1, -1)"
      ]
     },
     "metadata": {},
     "output_type": "display_data"
    }
   ],
   "source": [
    "i=11\n",
    "print('facet number:', i)\n",
    "display(sp.Eq(C.determinants[i], C.orientation[i]))\n",
    "\n",
    "C.subs(d5, 0)"
   ]
  },
  {
   "cell_type": "code",
   "execution_count": 83,
   "id": "ea700334-49fb-49ee-b99f-9ec39a0277b7",
   "metadata": {},
   "outputs": [
    {
     "name": "stdout",
     "output_type": "stream",
     "text": [
      "facet number: 15\n"
     ]
    },
    {
     "data": {
      "text/latex": [
       "$\\displaystyle b_{5} - c_{5} = -1$"
      ],
      "text/plain": [
       "Eq(b5 - c5, -1)"
      ]
     },
     "metadata": {},
     "output_type": "display_data"
    }
   ],
   "source": [
    "i=15\n",
    "print('facet number:', i)\n",
    "display(sp.Eq(C.determinants[i], C.orientation[i]))\n",
    "\n",
    "C.subs(b5, c5-1)"
   ]
  },
  {
   "cell_type": "code",
   "execution_count": 85,
   "id": "a3b6d645-de6a-4ff6-8f41-99db8556d292",
   "metadata": {},
   "outputs": [
    {
     "data": {
      "text/latex": [
       "$\\displaystyle \\left[\\begin{matrix}1 & 0 & 0 & 0 & 0 & 0 & -1 & - c_{2} - 1 & - c_{2} - 1 & 1\\\\0 & 1 & 0 & 0 & 0 & 0 & -1 & - c_{2} - 2 & - c_{2} - 1 & 1\\\\0 & 0 & 1 & 0 & 0 & 0 & 1 & c_{2} + 1 & c_{2} & -1\\\\0 & 0 & 0 & 1 & 0 & 0 & 0 & c_{3} + 1 & c_{3} & -1\\\\0 & 0 & 0 & 0 & 1 & 0 & 0 & -1 & -1 & 0\\\\0 & 0 & 0 & 0 & 0 & 1 & -1 & c_{5} - 1 & c_{5} & 0\\end{matrix}\\right]$"
      ],
      "text/plain": [
       "Matrix([\n",
       "[1, 0, 0, 0, 0, 0, -1, -c2 - 1, -c2 - 1,  1],\n",
       "[0, 1, 0, 0, 0, 0, -1, -c2 - 2, -c2 - 1,  1],\n",
       "[0, 0, 1, 0, 0, 0,  1,  c2 + 1,      c2, -1],\n",
       "[0, 0, 0, 1, 0, 0,  0,  c3 + 1,      c3, -1],\n",
       "[0, 0, 0, 0, 1, 0,  0,      -1,      -1,  0],\n",
       "[0, 0, 0, 0, 0, 1, -1,  c5 - 1,      c5,  0]])"
      ]
     },
     "metadata": {},
     "output_type": "display_data"
    },
    {
     "name": "stdout",
     "output_type": "stream",
     "text": [
      "1\n"
     ]
    }
   ],
   "source": [
    "display(C.char)\n",
    "print(C.is_fangiving)\n",
    "fans.append(C.char)"
   ]
  },
  {
   "cell_type": "markdown",
   "id": "4f26fee5-c29b-45b7-8b10-90384808406e",
   "metadata": {
    "jp-MarkdownHeadingCollapsed": true
   },
   "source": [
    "# There are 5 types of fans up to D-J equivalence"
   ]
  },
  {
   "cell_type": "markdown",
   "id": "a15f2171-c6f5-4b81-b34a-b136a2025094",
   "metadata": {
    "jp-MarkdownHeadingCollapsed": true
   },
   "source": [
    "## removing redundatnt ones"
   ]
  },
  {
   "cell_type": "code",
   "execution_count": 97,
   "id": "2febc058-1864-4f1b-8d8d-5ddcc343d413",
   "metadata": {},
   "outputs": [
    {
     "data": {
      "text/latex": [
       "$\\displaystyle \\left[\\begin{matrix}1 & 0 & 0 & 0 & 0 & 0 & -1 & -1 & -1 & 1\\\\0 & 1 & 0 & 0 & 0 & 0 & -1 & -2 & -1 & 1\\\\0 & 0 & 1 & 0 & 0 & 0 & 1 & 1 & 0 & -1\\\\0 & 0 & 0 & 1 & 0 & 0 & 0 & 1 & 0 & -1\\\\0 & 0 & 0 & 0 & 1 & 0 & 0 & -1 & -1 & 0\\\\0 & 0 & 0 & 0 & 0 & 1 & -1 & c_{5} - 1 & c_{5} & 0\\end{matrix}\\right]$"
      ],
      "text/plain": [
       "Matrix([\n",
       "[1, 0, 0, 0, 0, 0, -1,     -1, -1,  1],\n",
       "[0, 1, 0, 0, 0, 0, -1,     -2, -1,  1],\n",
       "[0, 0, 1, 0, 0, 0,  1,      1,  0, -1],\n",
       "[0, 0, 0, 1, 0, 0,  0,      1,  0, -1],\n",
       "[0, 0, 0, 0, 1, 0,  0,     -1, -1,  0],\n",
       "[0, 0, 0, 0, 0, 1, -1, c5 - 1, c5,  0]])"
      ]
     },
     "metadata": {},
     "output_type": "display_data"
    },
    {
     "data": {
      "text/latex": [
       "$\\displaystyle \\left[\\begin{matrix}1 & 0 & 0 & 0 & 0 & 0 & -1 & - c_{2} - 1 & - c_{2} - 1 & 1\\\\0 & 1 & 0 & 0 & 0 & 0 & -1 & - c_{2} - 2 & - c_{2} - 1 & 1\\\\0 & 0 & 1 & 0 & 0 & 0 & 1 & c_{2} + 1 & c_{2} & -1\\\\0 & 0 & 0 & 1 & 0 & 0 & 0 & c_{3} + 1 & c_{3} & -1\\\\0 & 0 & 0 & 0 & 1 & 0 & 0 & -1 & -1 & 0\\\\0 & 0 & 0 & 0 & 0 & 1 & -1 & c_{5} - 1 & c_{5} & 0\\end{matrix}\\right]$"
      ],
      "text/plain": [
       "Matrix([\n",
       "[1, 0, 0, 0, 0, 0, -1, -c2 - 1, -c2 - 1,  1],\n",
       "[0, 1, 0, 0, 0, 0, -1, -c2 - 2, -c2 - 1,  1],\n",
       "[0, 0, 1, 0, 0, 0,  1,  c2 + 1,      c2, -1],\n",
       "[0, 0, 0, 1, 0, 0,  0,  c3 + 1,      c3, -1],\n",
       "[0, 0, 0, 0, 1, 0,  0,      -1,      -1,  0],\n",
       "[0, 0, 0, 0, 0, 1, -1,  c5 - 1,      c5,  0]])"
      ]
     },
     "metadata": {},
     "output_type": "display_data"
    },
    {
     "data": {
      "text/latex": [
       "$\\displaystyle \\text{True}$"
      ],
      "text/plain": [
       "True"
      ]
     },
     "metadata": {},
     "output_type": "display_data"
    }
   ],
   "source": [
    "i, j = 1, 7\n",
    "display(fans[i], fans[j])\n",
    "display(sp.Eq(fans[i],fans[j].subs(c2, 0).subs(c3,0)))\n",
    "fans.remove(fans[i])"
   ]
  },
  {
   "cell_type": "code",
   "execution_count": 102,
   "id": "a4357977-1d30-4977-bacf-b80513925770",
   "metadata": {},
   "outputs": [
    {
     "data": {
      "text/latex": [
       "$\\displaystyle \\left[\\begin{matrix}1 & 0 & 0 & 0 & 0 & 0 & -1 & -1 & -1 & 1\\\\0 & 1 & 0 & 0 & 0 & 0 & -1 & -2 & -1 & 2\\\\0 & 0 & 1 & 0 & 0 & 0 & 1 & 1 & 0 & -1\\\\0 & 0 & 0 & 1 & 0 & 0 & 0 & 1 & 0 & -1\\\\0 & 0 & 0 & 0 & 1 & 0 & 0 & -1 & -1 & 1\\\\0 & 0 & 0 & 0 & 0 & 1 & -1 & -1 & c_{5} & 0\\end{matrix}\\right]$"
      ],
      "text/plain": [
       "Matrix([\n",
       "[1, 0, 0, 0, 0, 0, -1, -1, -1,  1],\n",
       "[0, 1, 0, 0, 0, 0, -1, -2, -1,  2],\n",
       "[0, 0, 1, 0, 0, 0,  1,  1,  0, -1],\n",
       "[0, 0, 0, 1, 0, 0,  0,  1,  0, -1],\n",
       "[0, 0, 0, 0, 1, 0,  0, -1, -1,  1],\n",
       "[0, 0, 0, 0, 0, 1, -1, -1, c5,  0]])"
      ]
     },
     "metadata": {},
     "output_type": "display_data"
    },
    {
     "data": {
      "text/latex": [
       "$\\displaystyle \\left[\\begin{matrix}1 & 0 & 0 & 0 & 0 & 0 & -1 & -1 & - c_{3} - 1 & 1\\\\0 & 1 & 0 & 0 & 0 & 0 & -1 & -2 & - 2 c_{3} - 1 & 2\\\\0 & 0 & 1 & 0 & 0 & 0 & 1 & 1 & c_{3} & -1\\\\0 & 0 & 0 & 1 & 0 & 0 & 0 & 1 & c_{3} & -1\\\\0 & 0 & 0 & 0 & 1 & 0 & 0 & -1 & - c_{3} - 1 & 1\\\\0 & 0 & 0 & 0 & 0 & 1 & -1 & -1 & c_{5} & 0\\end{matrix}\\right]$"
      ],
      "text/plain": [
       "Matrix([\n",
       "[1, 0, 0, 0, 0, 0, -1, -1,   -c3 - 1,  1],\n",
       "[0, 1, 0, 0, 0, 0, -1, -2, -2*c3 - 1,  2],\n",
       "[0, 0, 1, 0, 0, 0,  1,  1,        c3, -1],\n",
       "[0, 0, 0, 1, 0, 0,  0,  1,        c3, -1],\n",
       "[0, 0, 0, 0, 1, 0,  0, -1,   -c3 - 1,  1],\n",
       "[0, 0, 0, 0, 0, 1, -1, -1,        c5,  0]])"
      ]
     },
     "metadata": {},
     "output_type": "display_data"
    },
    {
     "data": {
      "text/latex": [
       "$\\displaystyle \\text{True}$"
      ],
      "text/plain": [
       "True"
      ]
     },
     "metadata": {},
     "output_type": "display_data"
    }
   ],
   "source": [
    "i, j = 1, 2\n",
    "display(fans[i], fans[j])\n",
    "display(sp.Eq(fans[i],fans[j].subs(c3,0)))\n",
    "fans.remove(fans[i])"
   ]
  },
  {
   "cell_type": "code",
   "execution_count": 113,
   "id": "b2da568a-ce62-419a-9430-38dfafbcfa44",
   "metadata": {},
   "outputs": [
    {
     "data": {
      "text/latex": [
       "$\\displaystyle \\left[\\begin{matrix}1 & 0 & 0 & 0 & 0 & 0 & -1 & 0 & 0 & 1\\\\0 & 1 & 0 & 0 & 0 & 0 & -1 & -1 & 0 & 1\\\\0 & 0 & 1 & 0 & 0 & 0 & 1 & 0 & -1 & -1\\\\0 & 0 & 0 & 1 & 0 & 0 & 0 & 0 & -1 & -1\\\\0 & 0 & 0 & 0 & 1 & 0 & 0 & -1 & -1 & 0\\\\0 & 0 & 0 & 0 & 0 & 1 & -1 & c_{5} - 1 & c_{5} & 0\\end{matrix}\\right]$"
      ],
      "text/plain": [
       "Matrix([\n",
       "[1, 0, 0, 0, 0, 0, -1,      0,  0,  1],\n",
       "[0, 1, 0, 0, 0, 0, -1,     -1,  0,  1],\n",
       "[0, 0, 1, 0, 0, 0,  1,      0, -1, -1],\n",
       "[0, 0, 0, 1, 0, 0,  0,      0, -1, -1],\n",
       "[0, 0, 0, 0, 1, 0,  0,     -1, -1,  0],\n",
       "[0, 0, 0, 0, 0, 1, -1, c5 - 1, c5,  0]])"
      ]
     },
     "metadata": {},
     "output_type": "display_data"
    },
    {
     "data": {
      "text/latex": [
       "$\\displaystyle \\left[\\begin{matrix}1 & 0 & 0 & 0 & 0 & 0 & -1 & - c_{2} - 1 & - c_{2} - 1 & 1\\\\0 & 1 & 0 & 0 & 0 & 0 & -1 & - c_{2} - 2 & - c_{2} - 1 & 1\\\\0 & 0 & 1 & 0 & 0 & 0 & 1 & c_{2} + 1 & c_{2} & -1\\\\0 & 0 & 0 & 1 & 0 & 0 & 0 & c_{3} + 1 & c_{3} & -1\\\\0 & 0 & 0 & 0 & 1 & 0 & 0 & -1 & -1 & 0\\\\0 & 0 & 0 & 0 & 0 & 1 & -1 & c_{5} - 1 & c_{5} & 0\\end{matrix}\\right]$"
      ],
      "text/plain": [
       "Matrix([\n",
       "[1, 0, 0, 0, 0, 0, -1, -c2 - 1, -c2 - 1,  1],\n",
       "[0, 1, 0, 0, 0, 0, -1, -c2 - 2, -c2 - 1,  1],\n",
       "[0, 0, 1, 0, 0, 0,  1,  c2 + 1,      c2, -1],\n",
       "[0, 0, 0, 1, 0, 0,  0,  c3 + 1,      c3, -1],\n",
       "[0, 0, 0, 0, 1, 0,  0,      -1,      -1,  0],\n",
       "[0, 0, 0, 0, 0, 1, -1,  c5 - 1,      c5,  0]])"
      ]
     },
     "metadata": {},
     "output_type": "display_data"
    },
    {
     "data": {
      "text/latex": [
       "$\\displaystyle \\text{True}$"
      ],
      "text/plain": [
       "True"
      ]
     },
     "metadata": {},
     "output_type": "display_data"
    }
   ],
   "source": [
    "i, j = 3, 5\n",
    "display(fans[i], fans[j])\n",
    "display(sp.Eq(fans[i],fans[j].subs(c2, -1).subs(c3,-1)))\n",
    "fans.remove(fans[i])"
   ]
  },
  {
   "cell_type": "markdown",
   "id": "ad880c11-a2bf-4410-8385-17707aeebec7",
   "metadata": {
    "jp-MarkdownHeadingCollapsed": true
   },
   "source": [
    "## list"
   ]
  },
  {
   "cell_type": "code",
   "execution_count": 119,
   "id": "70a6fda2-396f-4fc1-a2c6-b7b385d8319f",
   "metadata": {},
   "outputs": [
    {
     "data": {
      "text/latex": [
       "$\\displaystyle \\left[\\begin{matrix}1 & 0 & 0 & 0 & 0 & 0 & -1 & -1 & -1 & d_{0}\\\\0 & 1 & 0 & 0 & 0 & 0 & -1 & -2 & -1 & d_{1}\\\\0 & 0 & 1 & 0 & 0 & 0 & 1 & 1 & 0 & -1\\\\0 & 0 & 0 & 1 & 0 & 0 & 0 & 1 & 0 & -1\\\\0 & 0 & 0 & 0 & 1 & 0 & 0 & -1 & -1 & d_{4}\\\\0 & 0 & 0 & 0 & 0 & 1 & -1 & -1 & 0 & 0\\end{matrix}\\right]$"
      ],
      "text/plain": [
       "Matrix([\n",
       "[1, 0, 0, 0, 0, 0, -1, -1, -1, d0],\n",
       "[0, 1, 0, 0, 0, 0, -1, -2, -1, d1],\n",
       "[0, 0, 1, 0, 0, 0,  1,  1,  0, -1],\n",
       "[0, 0, 0, 1, 0, 0,  0,  1,  0, -1],\n",
       "[0, 0, 0, 0, 1, 0,  0, -1, -1, d4],\n",
       "[0, 0, 0, 0, 0, 1, -1, -1,  0,  0]])"
      ]
     },
     "metadata": {},
     "output_type": "display_data"
    },
    {
     "data": {
      "text/latex": [
       "$\\displaystyle \\left[\\begin{matrix}1 & 0 & 0 & 0 & 0 & 0 & -1 & -1 & - c_{3} - 1 & 1\\\\0 & 1 & 0 & 0 & 0 & 0 & -1 & -2 & - 2 c_{3} - 1 & 2\\\\0 & 0 & 1 & 0 & 0 & 0 & 1 & 1 & c_{3} & -1\\\\0 & 0 & 0 & 1 & 0 & 0 & 0 & 1 & c_{3} & -1\\\\0 & 0 & 0 & 0 & 1 & 0 & 0 & -1 & - c_{3} - 1 & 1\\\\0 & 0 & 0 & 0 & 0 & 1 & -1 & -1 & c_{5} & 0\\end{matrix}\\right]$"
      ],
      "text/plain": [
       "Matrix([\n",
       "[1, 0, 0, 0, 0, 0, -1, -1,   -c3 - 1,  1],\n",
       "[0, 1, 0, 0, 0, 0, -1, -2, -2*c3 - 1,  2],\n",
       "[0, 0, 1, 0, 0, 0,  1,  1,        c3, -1],\n",
       "[0, 0, 0, 1, 0, 0,  0,  1,        c3, -1],\n",
       "[0, 0, 0, 0, 1, 0,  0, -1,   -c3 - 1,  1],\n",
       "[0, 0, 0, 0, 0, 1, -1, -1,        c5,  0]])"
      ]
     },
     "metadata": {},
     "output_type": "display_data"
    },
    {
     "data": {
      "text/latex": [
       "$\\displaystyle \\left[\\begin{matrix}1 & 0 & 0 & 0 & 0 & 0 & -1 & 0 & 0 & 1\\\\0 & 1 & 0 & 0 & 0 & 0 & -1 & -1 & d_{1} - 1 & d_{1}\\\\0 & 0 & 1 & 0 & 0 & 0 & 1 & 0 & -1 & -1\\\\0 & 0 & 0 & 1 & 0 & 0 & 0 & 0 & -1 & -1\\\\0 & 0 & 0 & 0 & 1 & 0 & 0 & -1 & d_{4} - 1 & d_{4}\\\\0 & 0 & 0 & 0 & 0 & 1 & -1 & 0 & 1 & 0\\end{matrix}\\right]$"
      ],
      "text/plain": [
       "Matrix([\n",
       "[1, 0, 0, 0, 0, 0, -1,  0,      0,  1],\n",
       "[0, 1, 0, 0, 0, 0, -1, -1, d1 - 1, d1],\n",
       "[0, 0, 1, 0, 0, 0,  1,  0,     -1, -1],\n",
       "[0, 0, 0, 1, 0, 0,  0,  0,     -1, -1],\n",
       "[0, 0, 0, 0, 1, 0,  0, -1, d4 - 1, d4],\n",
       "[0, 0, 0, 0, 0, 1, -1,  0,      1,  0]])"
      ]
     },
     "metadata": {},
     "output_type": "display_data"
    },
    {
     "data": {
      "text/latex": [
       "$\\displaystyle \\left[\\begin{matrix}1 & 0 & 0 & 0 & 0 & 0 & -1 & b_{0} & 0 & 1\\\\0 & 1 & 0 & 0 & 0 & 0 & -1 & b_{1} & 1 & 2\\\\0 & 0 & 1 & 0 & 0 & 0 & 1 & - b_{1} - 1 & -1 & -1\\\\0 & 0 & 0 & 1 & 0 & 0 & 0 & b_{3} & -1 & -1\\\\0 & 0 & 0 & 0 & 1 & 0 & 0 & -1 & 0 & 1\\\\0 & 0 & 0 & 0 & 0 & 1 & -1 & b_{1} + 1 & 1 & 0\\end{matrix}\\right]$"
      ],
      "text/plain": [
       "Matrix([\n",
       "[1, 0, 0, 0, 0, 0, -1,      b0,  0,  1],\n",
       "[0, 1, 0, 0, 0, 0, -1,      b1,  1,  2],\n",
       "[0, 0, 1, 0, 0, 0,  1, -b1 - 1, -1, -1],\n",
       "[0, 0, 0, 1, 0, 0,  0,      b3, -1, -1],\n",
       "[0, 0, 0, 0, 1, 0,  0,      -1,  0,  1],\n",
       "[0, 0, 0, 0, 0, 1, -1,  b1 + 1,  1,  0]])"
      ]
     },
     "metadata": {},
     "output_type": "display_data"
    },
    {
     "data": {
      "text/latex": [
       "$\\displaystyle \\left[\\begin{matrix}1 & 0 & 0 & 0 & 0 & 0 & -1 & - c_{2} - 1 & - c_{2} - 1 & 1\\\\0 & 1 & 0 & 0 & 0 & 0 & -1 & - c_{2} - 2 & - c_{2} - 1 & 1\\\\0 & 0 & 1 & 0 & 0 & 0 & 1 & c_{2} + 1 & c_{2} & -1\\\\0 & 0 & 0 & 1 & 0 & 0 & 0 & c_{3} + 1 & c_{3} & -1\\\\0 & 0 & 0 & 0 & 1 & 0 & 0 & -1 & -1 & 0\\\\0 & 0 & 0 & 0 & 0 & 1 & -1 & c_{5} - 1 & c_{5} & 0\\end{matrix}\\right]$"
      ],
      "text/plain": [
       "Matrix([\n",
       "[1, 0, 0, 0, 0, 0, -1, -c2 - 1, -c2 - 1,  1],\n",
       "[0, 1, 0, 0, 0, 0, -1, -c2 - 2, -c2 - 1,  1],\n",
       "[0, 0, 1, 0, 0, 0,  1,  c2 + 1,      c2, -1],\n",
       "[0, 0, 0, 1, 0, 0,  0,  c3 + 1,      c3, -1],\n",
       "[0, 0, 0, 0, 1, 0,  0,      -1,      -1,  0],\n",
       "[0, 0, 0, 0, 0, 1, -1,  c5 - 1,      c5,  0]])"
      ]
     },
     "metadata": {},
     "output_type": "display_data"
    }
   ],
   "source": [
    "for f in fans:\n",
    "    display(f)"
   ]
  },
  {
   "cell_type": "markdown",
   "id": "4531c34f-35ce-4da2-b3e8-f734d740f065",
   "metadata": {
    "jp-MarkdownHeadingCollapsed": true
   },
   "source": [
    "# Connections between types"
   ]
  },
  {
   "cell_type": "markdown",
   "id": "f6158e70-a423-4b66-bac9-e56d7ebeb946",
   "metadata": {
    "jp-MarkdownHeadingCollapsed": true
   },
   "source": [
    "## fan 0"
   ]
  },
  {
   "cell_type": "markdown",
   "id": "5de7cf27-c85f-4494-b7f2-bbda57dbc715",
   "metadata": {
    "jp-MarkdownHeadingCollapsed": true
   },
   "source": [
    "### fan 1 ($c_3=0$, $c_5=0$, $d_0=1$, $d_1=2$, $d_4=1$)"
   ]
  },
  {
   "cell_type": "code",
   "execution_count": 135,
   "id": "86dd61f2-dab1-42fa-a234-4aac7f41b042",
   "metadata": {},
   "outputs": [
    {
     "data": {
      "text/latex": [
       "$\\displaystyle \\left[\\begin{matrix}1 & 0 & 0 & 0 & 0 & 0 & -1 & -1 & -1 & d_{0}\\\\0 & 1 & 0 & 0 & 0 & 0 & -1 & -2 & -1 & d_{1}\\\\0 & 0 & 1 & 0 & 0 & 0 & 1 & 1 & 0 & -1\\\\0 & 0 & 0 & 1 & 0 & 0 & 0 & 1 & 0 & -1\\\\0 & 0 & 0 & 0 & 1 & 0 & 0 & -1 & -1 & d_{4}\\\\0 & 0 & 0 & 0 & 0 & 1 & -1 & -1 & 0 & 0\\end{matrix}\\right]$"
      ],
      "text/plain": [
       "Matrix([\n",
       "[1, 0, 0, 0, 0, 0, -1, -1, -1, d0],\n",
       "[0, 1, 0, 0, 0, 0, -1, -2, -1, d1],\n",
       "[0, 0, 1, 0, 0, 0,  1,  1,  0, -1],\n",
       "[0, 0, 0, 1, 0, 0,  0,  1,  0, -1],\n",
       "[0, 0, 0, 0, 1, 0,  0, -1, -1, d4],\n",
       "[0, 0, 0, 0, 0, 1, -1, -1,  0,  0]])"
      ]
     },
     "metadata": {},
     "output_type": "display_data"
    },
    {
     "data": {
      "text/latex": [
       "$\\displaystyle \\left[\\begin{matrix}1 & 0 & 0 & 0 & 0 & 0 & -1 & -1 & - c_{3} - 1 & 1\\\\0 & 1 & 0 & 0 & 0 & 0 & -1 & -2 & - 2 c_{3} - 1 & 2\\\\0 & 0 & 1 & 0 & 0 & 0 & 1 & 1 & c_{3} & -1\\\\0 & 0 & 0 & 1 & 0 & 0 & 0 & 1 & c_{3} & -1\\\\0 & 0 & 0 & 0 & 1 & 0 & 0 & -1 & - c_{3} - 1 & 1\\\\0 & 0 & 0 & 0 & 0 & 1 & -1 & -1 & c_{5} & 0\\end{matrix}\\right]$"
      ],
      "text/plain": [
       "Matrix([\n",
       "[1, 0, 0, 0, 0, 0, -1, -1,   -c3 - 1,  1],\n",
       "[0, 1, 0, 0, 0, 0, -1, -2, -2*c3 - 1,  2],\n",
       "[0, 0, 1, 0, 0, 0,  1,  1,        c3, -1],\n",
       "[0, 0, 0, 1, 0, 0,  0,  1,        c3, -1],\n",
       "[0, 0, 0, 0, 1, 0,  0, -1,   -c3 - 1,  1],\n",
       "[0, 0, 0, 0, 0, 1, -1, -1,        c5,  0]])"
      ]
     },
     "metadata": {},
     "output_type": "display_data"
    },
    {
     "data": {
      "text/latex": [
       "$\\displaystyle \\text{True}$"
      ],
      "text/plain": [
       "True"
      ]
     },
     "metadata": {},
     "output_type": "display_data"
    }
   ],
   "source": [
    "i, j = 0, 1\n",
    "display(fans[i], fans[j])\n",
    "display(sp.Eq(fans[i].subs(d0,1).subs(d1,2).subs(d4,1),fans[j].subs(c3, 0).subs(c5,0)))"
   ]
  },
  {
   "cell_type": "markdown",
   "id": "b6a9c1a2-58b8-43a4-81ad-496e7cd2e9e0",
   "metadata": {
    "jp-MarkdownHeadingCollapsed": true
   },
   "source": [
    "### fan 4 ($c_2=0$, $c_3=0$, $c_5=0$, $d_0=1$, $d_1=1$, $d_4=0$)"
   ]
  },
  {
   "cell_type": "code",
   "execution_count": 139,
   "id": "dc2dbeec-6446-46ff-9aa6-87d7a8d1c270",
   "metadata": {},
   "outputs": [
    {
     "data": {
      "text/latex": [
       "$\\displaystyle \\left[\\begin{matrix}1 & 0 & 0 & 0 & 0 & 0 & -1 & -1 & -1 & d_{0}\\\\0 & 1 & 0 & 0 & 0 & 0 & -1 & -2 & -1 & d_{1}\\\\0 & 0 & 1 & 0 & 0 & 0 & 1 & 1 & 0 & -1\\\\0 & 0 & 0 & 1 & 0 & 0 & 0 & 1 & 0 & -1\\\\0 & 0 & 0 & 0 & 1 & 0 & 0 & -1 & -1 & d_{4}\\\\0 & 0 & 0 & 0 & 0 & 1 & -1 & -1 & 0 & 0\\end{matrix}\\right]$"
      ],
      "text/plain": [
       "Matrix([\n",
       "[1, 0, 0, 0, 0, 0, -1, -1, -1, d0],\n",
       "[0, 1, 0, 0, 0, 0, -1, -2, -1, d1],\n",
       "[0, 0, 1, 0, 0, 0,  1,  1,  0, -1],\n",
       "[0, 0, 0, 1, 0, 0,  0,  1,  0, -1],\n",
       "[0, 0, 0, 0, 1, 0,  0, -1, -1, d4],\n",
       "[0, 0, 0, 0, 0, 1, -1, -1,  0,  0]])"
      ]
     },
     "metadata": {},
     "output_type": "display_data"
    },
    {
     "data": {
      "text/latex": [
       "$\\displaystyle \\left[\\begin{matrix}1 & 0 & 0 & 0 & 0 & 0 & -1 & - c_{2} - 1 & - c_{2} - 1 & 1\\\\0 & 1 & 0 & 0 & 0 & 0 & -1 & - c_{2} - 2 & - c_{2} - 1 & 1\\\\0 & 0 & 1 & 0 & 0 & 0 & 1 & c_{2} + 1 & c_{2} & -1\\\\0 & 0 & 0 & 1 & 0 & 0 & 0 & c_{3} + 1 & c_{3} & -1\\\\0 & 0 & 0 & 0 & 1 & 0 & 0 & -1 & -1 & 0\\\\0 & 0 & 0 & 0 & 0 & 1 & -1 & c_{5} - 1 & c_{5} & 0\\end{matrix}\\right]$"
      ],
      "text/plain": [
       "Matrix([\n",
       "[1, 0, 0, 0, 0, 0, -1, -c2 - 1, -c2 - 1,  1],\n",
       "[0, 1, 0, 0, 0, 0, -1, -c2 - 2, -c2 - 1,  1],\n",
       "[0, 0, 1, 0, 0, 0,  1,  c2 + 1,      c2, -1],\n",
       "[0, 0, 0, 1, 0, 0,  0,  c3 + 1,      c3, -1],\n",
       "[0, 0, 0, 0, 1, 0,  0,      -1,      -1,  0],\n",
       "[0, 0, 0, 0, 0, 1, -1,  c5 - 1,      c5,  0]])"
      ]
     },
     "metadata": {},
     "output_type": "display_data"
    },
    {
     "data": {
      "text/latex": [
       "$\\displaystyle \\text{True}$"
      ],
      "text/plain": [
       "True"
      ]
     },
     "metadata": {},
     "output_type": "display_data"
    }
   ],
   "source": [
    "i, j = 0, 4\n",
    "display(fans[i], fans[j])\n",
    "display(sp.Eq(fans[i].subs(d0,1).subs(d1,1).subs(d4,0),fans[j].subs(c2,0).subs(c3, 0).subs(c5,0)))"
   ]
  },
  {
   "cell_type": "markdown",
   "id": "e7512130-44fd-4a78-ac56-a09e6defb666",
   "metadata": {
    "jp-MarkdownHeadingCollapsed": true
   },
   "source": [
    "## fan 1"
   ]
  },
  {
   "cell_type": "markdown",
   "id": "f166240c-c41e-4dd5-8a46-49e245948487",
   "metadata": {
    "jp-MarkdownHeadingCollapsed": true
   },
   "source": [
    "### fan 0 ($c_3=0$, $c_5=0$, $d_0=1$, $d_1=2$, $d_4=1$)"
   ]
  },
  {
   "cell_type": "code",
   "execution_count": 135,
   "id": "8e583a9e-0287-4d65-addc-8b7d04baf02b",
   "metadata": {},
   "outputs": [
    {
     "data": {
      "text/latex": [
       "$\\displaystyle \\left[\\begin{matrix}1 & 0 & 0 & 0 & 0 & 0 & -1 & -1 & -1 & d_{0}\\\\0 & 1 & 0 & 0 & 0 & 0 & -1 & -2 & -1 & d_{1}\\\\0 & 0 & 1 & 0 & 0 & 0 & 1 & 1 & 0 & -1\\\\0 & 0 & 0 & 1 & 0 & 0 & 0 & 1 & 0 & -1\\\\0 & 0 & 0 & 0 & 1 & 0 & 0 & -1 & -1 & d_{4}\\\\0 & 0 & 0 & 0 & 0 & 1 & -1 & -1 & 0 & 0\\end{matrix}\\right]$"
      ],
      "text/plain": [
       "Matrix([\n",
       "[1, 0, 0, 0, 0, 0, -1, -1, -1, d0],\n",
       "[0, 1, 0, 0, 0, 0, -1, -2, -1, d1],\n",
       "[0, 0, 1, 0, 0, 0,  1,  1,  0, -1],\n",
       "[0, 0, 0, 1, 0, 0,  0,  1,  0, -1],\n",
       "[0, 0, 0, 0, 1, 0,  0, -1, -1, d4],\n",
       "[0, 0, 0, 0, 0, 1, -1, -1,  0,  0]])"
      ]
     },
     "metadata": {},
     "output_type": "display_data"
    },
    {
     "data": {
      "text/latex": [
       "$\\displaystyle \\left[\\begin{matrix}1 & 0 & 0 & 0 & 0 & 0 & -1 & -1 & - c_{3} - 1 & 1\\\\0 & 1 & 0 & 0 & 0 & 0 & -1 & -2 & - 2 c_{3} - 1 & 2\\\\0 & 0 & 1 & 0 & 0 & 0 & 1 & 1 & c_{3} & -1\\\\0 & 0 & 0 & 1 & 0 & 0 & 0 & 1 & c_{3} & -1\\\\0 & 0 & 0 & 0 & 1 & 0 & 0 & -1 & - c_{3} - 1 & 1\\\\0 & 0 & 0 & 0 & 0 & 1 & -1 & -1 & c_{5} & 0\\end{matrix}\\right]$"
      ],
      "text/plain": [
       "Matrix([\n",
       "[1, 0, 0, 0, 0, 0, -1, -1,   -c3 - 1,  1],\n",
       "[0, 1, 0, 0, 0, 0, -1, -2, -2*c3 - 1,  2],\n",
       "[0, 0, 1, 0, 0, 0,  1,  1,        c3, -1],\n",
       "[0, 0, 0, 1, 0, 0,  0,  1,        c3, -1],\n",
       "[0, 0, 0, 0, 1, 0,  0, -1,   -c3 - 1,  1],\n",
       "[0, 0, 0, 0, 0, 1, -1, -1,        c5,  0]])"
      ]
     },
     "metadata": {},
     "output_type": "display_data"
    },
    {
     "data": {
      "text/latex": [
       "$\\displaystyle \\text{True}$"
      ],
      "text/plain": [
       "True"
      ]
     },
     "metadata": {},
     "output_type": "display_data"
    }
   ],
   "source": [
    "i, j = 0, 1\n",
    "display(fans[i], fans[j])\n",
    "display(sp.Eq(fans[i].subs(d0,1).subs(d1,2).subs(d4,1),fans[j].subs(c3, 0).subs(c5,0)))"
   ]
  },
  {
   "cell_type": "markdown",
   "id": "0bf2b201-93a5-4c42-80ad-b41666d408d3",
   "metadata": {
    "jp-MarkdownHeadingCollapsed": true
   },
   "source": [
    "### fan 3 ($b_0=-1$, $b_1=-2$, $b_3=1$, $c_3=-1$, $c_5=1$)"
   ]
  },
  {
   "cell_type": "code",
   "execution_count": 143,
   "id": "02f0d6ca-679a-4fef-a89b-3f183250cfab",
   "metadata": {},
   "outputs": [
    {
     "data": {
      "text/latex": [
       "$\\displaystyle \\left[\\begin{matrix}1 & 0 & 0 & 0 & 0 & 0 & -1 & -1 & - c_{3} - 1 & 1\\\\0 & 1 & 0 & 0 & 0 & 0 & -1 & -2 & - 2 c_{3} - 1 & 2\\\\0 & 0 & 1 & 0 & 0 & 0 & 1 & 1 & c_{3} & -1\\\\0 & 0 & 0 & 1 & 0 & 0 & 0 & 1 & c_{3} & -1\\\\0 & 0 & 0 & 0 & 1 & 0 & 0 & -1 & - c_{3} - 1 & 1\\\\0 & 0 & 0 & 0 & 0 & 1 & -1 & -1 & c_{5} & 0\\end{matrix}\\right]$"
      ],
      "text/plain": [
       "Matrix([\n",
       "[1, 0, 0, 0, 0, 0, -1, -1,   -c3 - 1,  1],\n",
       "[0, 1, 0, 0, 0, 0, -1, -2, -2*c3 - 1,  2],\n",
       "[0, 0, 1, 0, 0, 0,  1,  1,        c3, -1],\n",
       "[0, 0, 0, 1, 0, 0,  0,  1,        c3, -1],\n",
       "[0, 0, 0, 0, 1, 0,  0, -1,   -c3 - 1,  1],\n",
       "[0, 0, 0, 0, 0, 1, -1, -1,        c5,  0]])"
      ]
     },
     "metadata": {},
     "output_type": "display_data"
    },
    {
     "data": {
      "text/latex": [
       "$\\displaystyle \\left[\\begin{matrix}1 & 0 & 0 & 0 & 0 & 0 & -1 & b_{0} & 0 & 1\\\\0 & 1 & 0 & 0 & 0 & 0 & -1 & b_{1} & 1 & 2\\\\0 & 0 & 1 & 0 & 0 & 0 & 1 & - b_{1} - 1 & -1 & -1\\\\0 & 0 & 0 & 1 & 0 & 0 & 0 & b_{3} & -1 & -1\\\\0 & 0 & 0 & 0 & 1 & 0 & 0 & -1 & 0 & 1\\\\0 & 0 & 0 & 0 & 0 & 1 & -1 & b_{1} + 1 & 1 & 0\\end{matrix}\\right]$"
      ],
      "text/plain": [
       "Matrix([\n",
       "[1, 0, 0, 0, 0, 0, -1,      b0,  0,  1],\n",
       "[0, 1, 0, 0, 0, 0, -1,      b1,  1,  2],\n",
       "[0, 0, 1, 0, 0, 0,  1, -b1 - 1, -1, -1],\n",
       "[0, 0, 0, 1, 0, 0,  0,      b3, -1, -1],\n",
       "[0, 0, 0, 0, 1, 0,  0,      -1,  0,  1],\n",
       "[0, 0, 0, 0, 0, 1, -1,  b1 + 1,  1,  0]])"
      ]
     },
     "metadata": {},
     "output_type": "display_data"
    },
    {
     "data": {
      "text/latex": [
       "$\\displaystyle \\text{True}$"
      ],
      "text/plain": [
       "True"
      ]
     },
     "metadata": {},
     "output_type": "display_data"
    }
   ],
   "source": [
    "i, j = 1, 3\n",
    "display(fans[i], fans[j])\n",
    "display(sp.Eq(fans[i].subs(c3,-1).subs(c5,1),fans[j].subs(b0,-1).subs(b1, -2).subs(b3,1)))"
   ]
  },
  {
   "cell_type": "markdown",
   "id": "1b3317e3-db30-4f42-8080-a0905a956649",
   "metadata": {
    "jp-MarkdownHeadingCollapsed": true
   },
   "source": [
    "## fan 2"
   ]
  },
  {
   "cell_type": "markdown",
   "id": "ad30b241-be9a-4561-9a8c-98182b40f5b9",
   "metadata": {
    "jp-MarkdownHeadingCollapsed": true
   },
   "source": [
    "### fan 3 ($b_0=0$, $b_1=-1$, $b_3=0$, $d_1=2$, $d_4=1$)"
   ]
  },
  {
   "cell_type": "code",
   "execution_count": 145,
   "id": "1c61f09c-d2fe-436f-9e2b-f8d341913319",
   "metadata": {},
   "outputs": [
    {
     "data": {
      "text/latex": [
       "$\\displaystyle \\left[\\begin{matrix}1 & 0 & 0 & 0 & 0 & 0 & -1 & 0 & 0 & 1\\\\0 & 1 & 0 & 0 & 0 & 0 & -1 & -1 & d_{1} - 1 & d_{1}\\\\0 & 0 & 1 & 0 & 0 & 0 & 1 & 0 & -1 & -1\\\\0 & 0 & 0 & 1 & 0 & 0 & 0 & 0 & -1 & -1\\\\0 & 0 & 0 & 0 & 1 & 0 & 0 & -1 & d_{4} - 1 & d_{4}\\\\0 & 0 & 0 & 0 & 0 & 1 & -1 & 0 & 1 & 0\\end{matrix}\\right]$"
      ],
      "text/plain": [
       "Matrix([\n",
       "[1, 0, 0, 0, 0, 0, -1,  0,      0,  1],\n",
       "[0, 1, 0, 0, 0, 0, -1, -1, d1 - 1, d1],\n",
       "[0, 0, 1, 0, 0, 0,  1,  0,     -1, -1],\n",
       "[0, 0, 0, 1, 0, 0,  0,  0,     -1, -1],\n",
       "[0, 0, 0, 0, 1, 0,  0, -1, d4 - 1, d4],\n",
       "[0, 0, 0, 0, 0, 1, -1,  0,      1,  0]])"
      ]
     },
     "metadata": {},
     "output_type": "display_data"
    },
    {
     "data": {
      "text/latex": [
       "$\\displaystyle \\left[\\begin{matrix}1 & 0 & 0 & 0 & 0 & 0 & -1 & b_{0} & 0 & 1\\\\0 & 1 & 0 & 0 & 0 & 0 & -1 & b_{1} & 1 & 2\\\\0 & 0 & 1 & 0 & 0 & 0 & 1 & - b_{1} - 1 & -1 & -1\\\\0 & 0 & 0 & 1 & 0 & 0 & 0 & b_{3} & -1 & -1\\\\0 & 0 & 0 & 0 & 1 & 0 & 0 & -1 & 0 & 1\\\\0 & 0 & 0 & 0 & 0 & 1 & -1 & b_{1} + 1 & 1 & 0\\end{matrix}\\right]$"
      ],
      "text/plain": [
       "Matrix([\n",
       "[1, 0, 0, 0, 0, 0, -1,      b0,  0,  1],\n",
       "[0, 1, 0, 0, 0, 0, -1,      b1,  1,  2],\n",
       "[0, 0, 1, 0, 0, 0,  1, -b1 - 1, -1, -1],\n",
       "[0, 0, 0, 1, 0, 0,  0,      b3, -1, -1],\n",
       "[0, 0, 0, 0, 1, 0,  0,      -1,  0,  1],\n",
       "[0, 0, 0, 0, 0, 1, -1,  b1 + 1,  1,  0]])"
      ]
     },
     "metadata": {},
     "output_type": "display_data"
    },
    {
     "data": {
      "text/latex": [
       "$\\displaystyle \\text{True}$"
      ],
      "text/plain": [
       "True"
      ]
     },
     "metadata": {},
     "output_type": "display_data"
    }
   ],
   "source": [
    "i, j = 2, 3\n",
    "display(fans[i], fans[j])\n",
    "display(sp.Eq(fans[i].subs(d1,2).subs(d4,1),fans[j].subs(b0,0).subs(b1, -1).subs(b3,0)))"
   ]
  },
  {
   "cell_type": "markdown",
   "id": "6082017d-639d-4193-96d4-3ed8b7844641",
   "metadata": {
    "jp-MarkdownHeadingCollapsed": true
   },
   "source": [
    "### fan 4 ($c_2=-1$, $c_3=-1$, $c_5=1$, $d_1=1$, $d_4=0$)"
   ]
  },
  {
   "cell_type": "code",
   "execution_count": 148,
   "id": "1ea584f1-05d3-4ad1-925d-f79b3f2b1e2a",
   "metadata": {},
   "outputs": [
    {
     "data": {
      "text/latex": [
       "$\\displaystyle \\left[\\begin{matrix}1 & 0 & 0 & 0 & 0 & 0 & -1 & 0 & 0 & 1\\\\0 & 1 & 0 & 0 & 0 & 0 & -1 & -1 & d_{1} - 1 & d_{1}\\\\0 & 0 & 1 & 0 & 0 & 0 & 1 & 0 & -1 & -1\\\\0 & 0 & 0 & 1 & 0 & 0 & 0 & 0 & -1 & -1\\\\0 & 0 & 0 & 0 & 1 & 0 & 0 & -1 & d_{4} - 1 & d_{4}\\\\0 & 0 & 0 & 0 & 0 & 1 & -1 & 0 & 1 & 0\\end{matrix}\\right]$"
      ],
      "text/plain": [
       "Matrix([\n",
       "[1, 0, 0, 0, 0, 0, -1,  0,      0,  1],\n",
       "[0, 1, 0, 0, 0, 0, -1, -1, d1 - 1, d1],\n",
       "[0, 0, 1, 0, 0, 0,  1,  0,     -1, -1],\n",
       "[0, 0, 0, 1, 0, 0,  0,  0,     -1, -1],\n",
       "[0, 0, 0, 0, 1, 0,  0, -1, d4 - 1, d4],\n",
       "[0, 0, 0, 0, 0, 1, -1,  0,      1,  0]])"
      ]
     },
     "metadata": {},
     "output_type": "display_data"
    },
    {
     "data": {
      "text/latex": [
       "$\\displaystyle \\left[\\begin{matrix}1 & 0 & 0 & 0 & 0 & 0 & -1 & - c_{2} - 1 & - c_{2} - 1 & 1\\\\0 & 1 & 0 & 0 & 0 & 0 & -1 & - c_{2} - 2 & - c_{2} - 1 & 1\\\\0 & 0 & 1 & 0 & 0 & 0 & 1 & c_{2} + 1 & c_{2} & -1\\\\0 & 0 & 0 & 1 & 0 & 0 & 0 & c_{3} + 1 & c_{3} & -1\\\\0 & 0 & 0 & 0 & 1 & 0 & 0 & -1 & -1 & 0\\\\0 & 0 & 0 & 0 & 0 & 1 & -1 & c_{5} - 1 & c_{5} & 0\\end{matrix}\\right]$"
      ],
      "text/plain": [
       "Matrix([\n",
       "[1, 0, 0, 0, 0, 0, -1, -c2 - 1, -c2 - 1,  1],\n",
       "[0, 1, 0, 0, 0, 0, -1, -c2 - 2, -c2 - 1,  1],\n",
       "[0, 0, 1, 0, 0, 0,  1,  c2 + 1,      c2, -1],\n",
       "[0, 0, 0, 1, 0, 0,  0,  c3 + 1,      c3, -1],\n",
       "[0, 0, 0, 0, 1, 0,  0,      -1,      -1,  0],\n",
       "[0, 0, 0, 0, 0, 1, -1,  c5 - 1,      c5,  0]])"
      ]
     },
     "metadata": {},
     "output_type": "display_data"
    },
    {
     "data": {
      "text/latex": [
       "$\\displaystyle \\text{True}$"
      ],
      "text/plain": [
       "True"
      ]
     },
     "metadata": {},
     "output_type": "display_data"
    }
   ],
   "source": [
    "i, j = 2, 4\n",
    "display(fans[i], fans[j])\n",
    "display(sp.Eq(fans[i].subs(d1,1).subs(d4,0),fans[j].subs(c2, -1).subs(c3,-1).subs(c5,1)))"
   ]
  },
  {
   "cell_type": "markdown",
   "id": "454b9727-eb20-44e7-acd3-0b13b04f81ab",
   "metadata": {
    "jp-MarkdownHeadingCollapsed": true
   },
   "source": [
    "## fan 3"
   ]
  },
  {
   "cell_type": "markdown",
   "id": "f65a2eb5-5bdc-42a8-8d27-0955e8a6cfd2",
   "metadata": {
    "jp-MarkdownHeadingCollapsed": true
   },
   "source": [
    "### fan 1 ($b_0=-1$, $b_1=-2$, $b_3=1$, $c_3=-1$, $c_5=1$)"
   ]
  },
  {
   "cell_type": "code",
   "execution_count": 143,
   "id": "ddd13850-d7e4-49bd-8cca-b358ba714812",
   "metadata": {},
   "outputs": [
    {
     "data": {
      "text/latex": [
       "$\\displaystyle \\left[\\begin{matrix}1 & 0 & 0 & 0 & 0 & 0 & -1 & -1 & - c_{3} - 1 & 1\\\\0 & 1 & 0 & 0 & 0 & 0 & -1 & -2 & - 2 c_{3} - 1 & 2\\\\0 & 0 & 1 & 0 & 0 & 0 & 1 & 1 & c_{3} & -1\\\\0 & 0 & 0 & 1 & 0 & 0 & 0 & 1 & c_{3} & -1\\\\0 & 0 & 0 & 0 & 1 & 0 & 0 & -1 & - c_{3} - 1 & 1\\\\0 & 0 & 0 & 0 & 0 & 1 & -1 & -1 & c_{5} & 0\\end{matrix}\\right]$"
      ],
      "text/plain": [
       "Matrix([\n",
       "[1, 0, 0, 0, 0, 0, -1, -1,   -c3 - 1,  1],\n",
       "[0, 1, 0, 0, 0, 0, -1, -2, -2*c3 - 1,  2],\n",
       "[0, 0, 1, 0, 0, 0,  1,  1,        c3, -1],\n",
       "[0, 0, 0, 1, 0, 0,  0,  1,        c3, -1],\n",
       "[0, 0, 0, 0, 1, 0,  0, -1,   -c3 - 1,  1],\n",
       "[0, 0, 0, 0, 0, 1, -1, -1,        c5,  0]])"
      ]
     },
     "metadata": {},
     "output_type": "display_data"
    },
    {
     "data": {
      "text/latex": [
       "$\\displaystyle \\left[\\begin{matrix}1 & 0 & 0 & 0 & 0 & 0 & -1 & b_{0} & 0 & 1\\\\0 & 1 & 0 & 0 & 0 & 0 & -1 & b_{1} & 1 & 2\\\\0 & 0 & 1 & 0 & 0 & 0 & 1 & - b_{1} - 1 & -1 & -1\\\\0 & 0 & 0 & 1 & 0 & 0 & 0 & b_{3} & -1 & -1\\\\0 & 0 & 0 & 0 & 1 & 0 & 0 & -1 & 0 & 1\\\\0 & 0 & 0 & 0 & 0 & 1 & -1 & b_{1} + 1 & 1 & 0\\end{matrix}\\right]$"
      ],
      "text/plain": [
       "Matrix([\n",
       "[1, 0, 0, 0, 0, 0, -1,      b0,  0,  1],\n",
       "[0, 1, 0, 0, 0, 0, -1,      b1,  1,  2],\n",
       "[0, 0, 1, 0, 0, 0,  1, -b1 - 1, -1, -1],\n",
       "[0, 0, 0, 1, 0, 0,  0,      b3, -1, -1],\n",
       "[0, 0, 0, 0, 1, 0,  0,      -1,  0,  1],\n",
       "[0, 0, 0, 0, 0, 1, -1,  b1 + 1,  1,  0]])"
      ]
     },
     "metadata": {},
     "output_type": "display_data"
    },
    {
     "data": {
      "text/latex": [
       "$\\displaystyle \\text{True}$"
      ],
      "text/plain": [
       "True"
      ]
     },
     "metadata": {},
     "output_type": "display_data"
    }
   ],
   "source": [
    "i, j = 1, 3\n",
    "display(fans[i], fans[j])\n",
    "display(sp.Eq(fans[i].subs(c3,-1).subs(c5,1),fans[j].subs(b0,-1).subs(b1, -2).subs(b3,1)))"
   ]
  },
  {
   "cell_type": "markdown",
   "id": "9d30d192-5b27-49ae-af9a-2d2553250b5d",
   "metadata": {
    "jp-MarkdownHeadingCollapsed": true
   },
   "source": [
    "### fan 2 ($b_0=0$, $b_1=-1$, $b_3=0$, $d_1=2$, $d_4=1$)"
   ]
  },
  {
   "cell_type": "code",
   "execution_count": 145,
   "id": "820bf608-25f8-4665-beae-5bf97525dac8",
   "metadata": {},
   "outputs": [
    {
     "data": {
      "text/latex": [
       "$\\displaystyle \\left[\\begin{matrix}1 & 0 & 0 & 0 & 0 & 0 & -1 & 0 & 0 & 1\\\\0 & 1 & 0 & 0 & 0 & 0 & -1 & -1 & d_{1} - 1 & d_{1}\\\\0 & 0 & 1 & 0 & 0 & 0 & 1 & 0 & -1 & -1\\\\0 & 0 & 0 & 1 & 0 & 0 & 0 & 0 & -1 & -1\\\\0 & 0 & 0 & 0 & 1 & 0 & 0 & -1 & d_{4} - 1 & d_{4}\\\\0 & 0 & 0 & 0 & 0 & 1 & -1 & 0 & 1 & 0\\end{matrix}\\right]$"
      ],
      "text/plain": [
       "Matrix([\n",
       "[1, 0, 0, 0, 0, 0, -1,  0,      0,  1],\n",
       "[0, 1, 0, 0, 0, 0, -1, -1, d1 - 1, d1],\n",
       "[0, 0, 1, 0, 0, 0,  1,  0,     -1, -1],\n",
       "[0, 0, 0, 1, 0, 0,  0,  0,     -1, -1],\n",
       "[0, 0, 0, 0, 1, 0,  0, -1, d4 - 1, d4],\n",
       "[0, 0, 0, 0, 0, 1, -1,  0,      1,  0]])"
      ]
     },
     "metadata": {},
     "output_type": "display_data"
    },
    {
     "data": {
      "text/latex": [
       "$\\displaystyle \\left[\\begin{matrix}1 & 0 & 0 & 0 & 0 & 0 & -1 & b_{0} & 0 & 1\\\\0 & 1 & 0 & 0 & 0 & 0 & -1 & b_{1} & 1 & 2\\\\0 & 0 & 1 & 0 & 0 & 0 & 1 & - b_{1} - 1 & -1 & -1\\\\0 & 0 & 0 & 1 & 0 & 0 & 0 & b_{3} & -1 & -1\\\\0 & 0 & 0 & 0 & 1 & 0 & 0 & -1 & 0 & 1\\\\0 & 0 & 0 & 0 & 0 & 1 & -1 & b_{1} + 1 & 1 & 0\\end{matrix}\\right]$"
      ],
      "text/plain": [
       "Matrix([\n",
       "[1, 0, 0, 0, 0, 0, -1,      b0,  0,  1],\n",
       "[0, 1, 0, 0, 0, 0, -1,      b1,  1,  2],\n",
       "[0, 0, 1, 0, 0, 0,  1, -b1 - 1, -1, -1],\n",
       "[0, 0, 0, 1, 0, 0,  0,      b3, -1, -1],\n",
       "[0, 0, 0, 0, 1, 0,  0,      -1,  0,  1],\n",
       "[0, 0, 0, 0, 0, 1, -1,  b1 + 1,  1,  0]])"
      ]
     },
     "metadata": {},
     "output_type": "display_data"
    },
    {
     "data": {
      "text/latex": [
       "$\\displaystyle \\text{True}$"
      ],
      "text/plain": [
       "True"
      ]
     },
     "metadata": {},
     "output_type": "display_data"
    }
   ],
   "source": [
    "i, j = 2, 3\n",
    "display(fans[i], fans[j])\n",
    "display(sp.Eq(fans[i].subs(d1,2).subs(d4,1),fans[j].subs(b0,0).subs(b1, -1).subs(b3,0)))"
   ]
  },
  {
   "cell_type": "markdown",
   "id": "562f1726-1690-4b37-bcbf-b58a3eeba88a",
   "metadata": {
    "jp-MarkdownHeadingCollapsed": true
   },
   "source": [
    "## fan 4"
   ]
  },
  {
   "cell_type": "markdown",
   "id": "b1b9a5bd-fd92-42cc-868b-e28314a75f12",
   "metadata": {
    "jp-MarkdownHeadingCollapsed": true
   },
   "source": [
    "### fan 0 ($c_2=0$, $c_3=0$, $c_5=0$, $d_0=1$, $d_1=1$, $d_4=0$)"
   ]
  },
  {
   "cell_type": "code",
   "execution_count": 139,
   "id": "bdafe318-aa14-4ff9-8013-fa397f143467",
   "metadata": {},
   "outputs": [
    {
     "data": {
      "text/latex": [
       "$\\displaystyle \\left[\\begin{matrix}1 & 0 & 0 & 0 & 0 & 0 & -1 & -1 & -1 & d_{0}\\\\0 & 1 & 0 & 0 & 0 & 0 & -1 & -2 & -1 & d_{1}\\\\0 & 0 & 1 & 0 & 0 & 0 & 1 & 1 & 0 & -1\\\\0 & 0 & 0 & 1 & 0 & 0 & 0 & 1 & 0 & -1\\\\0 & 0 & 0 & 0 & 1 & 0 & 0 & -1 & -1 & d_{4}\\\\0 & 0 & 0 & 0 & 0 & 1 & -1 & -1 & 0 & 0\\end{matrix}\\right]$"
      ],
      "text/plain": [
       "Matrix([\n",
       "[1, 0, 0, 0, 0, 0, -1, -1, -1, d0],\n",
       "[0, 1, 0, 0, 0, 0, -1, -2, -1, d1],\n",
       "[0, 0, 1, 0, 0, 0,  1,  1,  0, -1],\n",
       "[0, 0, 0, 1, 0, 0,  0,  1,  0, -1],\n",
       "[0, 0, 0, 0, 1, 0,  0, -1, -1, d4],\n",
       "[0, 0, 0, 0, 0, 1, -1, -1,  0,  0]])"
      ]
     },
     "metadata": {},
     "output_type": "display_data"
    },
    {
     "data": {
      "text/latex": [
       "$\\displaystyle \\left[\\begin{matrix}1 & 0 & 0 & 0 & 0 & 0 & -1 & - c_{2} - 1 & - c_{2} - 1 & 1\\\\0 & 1 & 0 & 0 & 0 & 0 & -1 & - c_{2} - 2 & - c_{2} - 1 & 1\\\\0 & 0 & 1 & 0 & 0 & 0 & 1 & c_{2} + 1 & c_{2} & -1\\\\0 & 0 & 0 & 1 & 0 & 0 & 0 & c_{3} + 1 & c_{3} & -1\\\\0 & 0 & 0 & 0 & 1 & 0 & 0 & -1 & -1 & 0\\\\0 & 0 & 0 & 0 & 0 & 1 & -1 & c_{5} - 1 & c_{5} & 0\\end{matrix}\\right]$"
      ],
      "text/plain": [
       "Matrix([\n",
       "[1, 0, 0, 0, 0, 0, -1, -c2 - 1, -c2 - 1,  1],\n",
       "[0, 1, 0, 0, 0, 0, -1, -c2 - 2, -c2 - 1,  1],\n",
       "[0, 0, 1, 0, 0, 0,  1,  c2 + 1,      c2, -1],\n",
       "[0, 0, 0, 1, 0, 0,  0,  c3 + 1,      c3, -1],\n",
       "[0, 0, 0, 0, 1, 0,  0,      -1,      -1,  0],\n",
       "[0, 0, 0, 0, 0, 1, -1,  c5 - 1,      c5,  0]])"
      ]
     },
     "metadata": {},
     "output_type": "display_data"
    },
    {
     "data": {
      "text/latex": [
       "$\\displaystyle \\text{True}$"
      ],
      "text/plain": [
       "True"
      ]
     },
     "metadata": {},
     "output_type": "display_data"
    }
   ],
   "source": [
    "i, j = 0, 4\n",
    "display(fans[i], fans[j])\n",
    "display(sp.Eq(fans[i].subs(d0,1).subs(d1,1).subs(d4,0),fans[j].subs(c2,0).subs(c3, 0).subs(c5,0)))"
   ]
  },
  {
   "cell_type": "markdown",
   "id": "ca7f03a8-26c5-4fc0-a832-ded0ac5860f9",
   "metadata": {
    "jp-MarkdownHeadingCollapsed": true
   },
   "source": [
    "### fan 2 ($c_2=-1$, $c_3=-1$, $c_5=1$, $d_1=1$, $d_4=0$)"
   ]
  },
  {
   "cell_type": "code",
   "execution_count": 148,
   "id": "dcadec52-187d-48d7-a2d2-55f347f6ada1",
   "metadata": {},
   "outputs": [
    {
     "data": {
      "text/latex": [
       "$\\displaystyle \\left[\\begin{matrix}1 & 0 & 0 & 0 & 0 & 0 & -1 & 0 & 0 & 1\\\\0 & 1 & 0 & 0 & 0 & 0 & -1 & -1 & d_{1} - 1 & d_{1}\\\\0 & 0 & 1 & 0 & 0 & 0 & 1 & 0 & -1 & -1\\\\0 & 0 & 0 & 1 & 0 & 0 & 0 & 0 & -1 & -1\\\\0 & 0 & 0 & 0 & 1 & 0 & 0 & -1 & d_{4} - 1 & d_{4}\\\\0 & 0 & 0 & 0 & 0 & 1 & -1 & 0 & 1 & 0\\end{matrix}\\right]$"
      ],
      "text/plain": [
       "Matrix([\n",
       "[1, 0, 0, 0, 0, 0, -1,  0,      0,  1],\n",
       "[0, 1, 0, 0, 0, 0, -1, -1, d1 - 1, d1],\n",
       "[0, 0, 1, 0, 0, 0,  1,  0,     -1, -1],\n",
       "[0, 0, 0, 1, 0, 0,  0,  0,     -1, -1],\n",
       "[0, 0, 0, 0, 1, 0,  0, -1, d4 - 1, d4],\n",
       "[0, 0, 0, 0, 0, 1, -1,  0,      1,  0]])"
      ]
     },
     "metadata": {},
     "output_type": "display_data"
    },
    {
     "data": {
      "text/latex": [
       "$\\displaystyle \\left[\\begin{matrix}1 & 0 & 0 & 0 & 0 & 0 & -1 & - c_{2} - 1 & - c_{2} - 1 & 1\\\\0 & 1 & 0 & 0 & 0 & 0 & -1 & - c_{2} - 2 & - c_{2} - 1 & 1\\\\0 & 0 & 1 & 0 & 0 & 0 & 1 & c_{2} + 1 & c_{2} & -1\\\\0 & 0 & 0 & 1 & 0 & 0 & 0 & c_{3} + 1 & c_{3} & -1\\\\0 & 0 & 0 & 0 & 1 & 0 & 0 & -1 & -1 & 0\\\\0 & 0 & 0 & 0 & 0 & 1 & -1 & c_{5} - 1 & c_{5} & 0\\end{matrix}\\right]$"
      ],
      "text/plain": [
       "Matrix([\n",
       "[1, 0, 0, 0, 0, 0, -1, -c2 - 1, -c2 - 1,  1],\n",
       "[0, 1, 0, 0, 0, 0, -1, -c2 - 2, -c2 - 1,  1],\n",
       "[0, 0, 1, 0, 0, 0,  1,  c2 + 1,      c2, -1],\n",
       "[0, 0, 0, 1, 0, 0,  0,  c3 + 1,      c3, -1],\n",
       "[0, 0, 0, 0, 1, 0,  0,      -1,      -1,  0],\n",
       "[0, 0, 0, 0, 0, 1, -1,  c5 - 1,      c5,  0]])"
      ]
     },
     "metadata": {},
     "output_type": "display_data"
    },
    {
     "data": {
      "text/latex": [
       "$\\displaystyle \\text{True}$"
      ],
      "text/plain": [
       "True"
      ]
     },
     "metadata": {},
     "output_type": "display_data"
    }
   ],
   "source": [
    "i, j = 2, 4\n",
    "display(fans[i], fans[j])\n",
    "display(sp.Eq(fans[i].subs(d1,1).subs(d4,0),fans[j].subs(c2, -1).subs(c3,-1).subs(c5,1)))"
   ]
  },
  {
   "cell_type": "markdown",
   "id": "0d8d8e04-5f3e-41c1-aef0-63fbe399e3b0",
   "metadata": {
    "jp-MarkdownHeadingCollapsed": true
   },
   "source": [
    "# There are 3 types of fans up to D-J equivalence and symmetry"
   ]
  },
  {
   "cell_type": "code",
   "execution_count": 120,
   "id": "abf8f74a-910d-47f9-87db-44b49951c7fb",
   "metadata": {},
   "outputs": [
    {
     "data": {
      "text/plain": [
       "[[1, 2, 3, 4, 5, 6, 7, 8, 9, 10], [7, 6, 3, 9, 10, 2, 1, 8, 4, 5]]"
      ]
     },
     "execution_count": 120,
     "metadata": {},
     "output_type": "execute_result"
    }
   ],
   "source": [
    "K.symmetries"
   ]
  },
  {
   "cell_type": "code",
   "execution_count": 121,
   "id": "f95934a9-dbf1-44f3-9eb1-a3704b841528",
   "metadata": {},
   "outputs": [],
   "source": [
    "symm_index = [(np.array(i)-1).tolist() for i in K.symmetries]"
   ]
  },
  {
   "cell_type": "markdown",
   "id": "e13a7f3c-8f33-4b1b-9640-bb164aba42ce",
   "metadata": {
    "jp-MarkdownHeadingCollapsed": true
   },
   "source": [
    "## types 0, 4"
   ]
  },
  {
   "cell_type": "code",
   "execution_count": 125,
   "id": "c342a63d-9519-4fb8-a194-5a40485bf101",
   "metadata": {},
   "outputs": [
    {
     "data": {
      "text/latex": [
       "$\\displaystyle \\left[\\begin{matrix}1 & 0 & 0 & 0 & 0 & 0 & -1 & - d_{0} + d_{4} & - d_{0} + d_{4} & 1\\\\0 & 1 & 0 & 0 & 0 & 0 & -1 & - d_{0} + d_{4} - 1 & - d_{0} + d_{4} & 1\\\\0 & 0 & 1 & 0 & 0 & 0 & 1 & d_{0} - d_{4} & d_{0} - d_{4} - 1 & -1\\\\0 & 0 & 0 & 1 & 0 & 0 & 0 & 1 - d_{4} & - d_{4} & -1\\\\0 & 0 & 0 & 0 & 1 & 0 & 0 & -1 & -1 & 0\\\\0 & 0 & 0 & 0 & 0 & 1 & -1 & - d_{0} + d_{1} - 1 & - d_{0} + d_{1} & 0\\end{matrix}\\right]$"
      ],
      "text/plain": [
       "Matrix([\n",
       "[1, 0, 0, 0, 0, 0, -1,     -d0 + d4,    -d0 + d4,  1],\n",
       "[0, 1, 0, 0, 0, 0, -1, -d0 + d4 - 1,    -d0 + d4,  1],\n",
       "[0, 0, 1, 0, 0, 0,  1,      d0 - d4, d0 - d4 - 1, -1],\n",
       "[0, 0, 0, 1, 0, 0,  0,       1 - d4,         -d4, -1],\n",
       "[0, 0, 0, 0, 1, 0,  0,           -1,          -1,  0],\n",
       "[0, 0, 0, 0, 0, 1, -1, -d0 + d1 - 1,    -d0 + d1,  0]])"
      ]
     },
     "metadata": {},
     "output_type": "display_data"
    },
    {
     "data": {
      "text/latex": [
       "$\\displaystyle \\left[\\begin{matrix}1 & 0 & 0 & 0 & 0 & 0 & -1 & - c_{2} - 1 & - c_{2} - 1 & 1\\\\0 & 1 & 0 & 0 & 0 & 0 & -1 & - c_{2} - 2 & - c_{2} - 1 & 1\\\\0 & 0 & 1 & 0 & 0 & 0 & 1 & c_{2} + 1 & c_{2} & -1\\\\0 & 0 & 0 & 1 & 0 & 0 & 0 & c_{3} + 1 & c_{3} & -1\\\\0 & 0 & 0 & 0 & 1 & 0 & 0 & -1 & -1 & 0\\\\0 & 0 & 0 & 0 & 0 & 1 & -1 & c_{5} - 1 & c_{5} & 0\\end{matrix}\\right]$"
      ],
      "text/plain": [
       "Matrix([\n",
       "[1, 0, 0, 0, 0, 0, -1, -c2 - 1, -c2 - 1,  1],\n",
       "[0, 1, 0, 0, 0, 0, -1, -c2 - 2, -c2 - 1,  1],\n",
       "[0, 0, 1, 0, 0, 0,  1,  c2 + 1,      c2, -1],\n",
       "[0, 0, 0, 1, 0, 0,  0,  c3 + 1,      c3, -1],\n",
       "[0, 0, 0, 0, 1, 0,  0,      -1,      -1,  0],\n",
       "[0, 0, 0, 0, 0, 1, -1,  c5 - 1,      c5,  0]])"
      ]
     },
     "metadata": {},
     "output_type": "display_data"
    }
   ],
   "source": [
    "display(fans[0][:, symm_index[1]].rref()[0])\n",
    "display(fans[4])"
   ]
  },
  {
   "cell_type": "markdown",
   "id": "f511bf4d-fdf5-4cd4-9eb7-f76969fcc07a",
   "metadata": {
    "jp-MarkdownHeadingCollapsed": true
   },
   "source": [
    "## types 1, 2"
   ]
  },
  {
   "cell_type": "code",
   "execution_count": 126,
   "id": "486602a2-ef81-4b92-93a9-857333aab766",
   "metadata": {},
   "outputs": [
    {
     "data": {
      "text/latex": [
       "$\\displaystyle \\left[\\begin{matrix}1 & 0 & 0 & 0 & 0 & 0 & -1 & 0 & 0 & 1\\\\0 & 1 & 0 & 0 & 0 & 0 & -1 & -1 & c_{5} & c_{5} + 1\\\\0 & 0 & 1 & 0 & 0 & 0 & 1 & 0 & -1 & -1\\\\0 & 0 & 0 & 1 & 0 & 0 & 0 & 0 & -1 & -1\\\\0 & 0 & 0 & 0 & 1 & 0 & 0 & -1 & - c_{3} - 1 & - c_{3}\\\\0 & 0 & 0 & 0 & 0 & 1 & -1 & 0 & 1 & 0\\end{matrix}\\right]$"
      ],
      "text/plain": [
       "Matrix([\n",
       "[1, 0, 0, 0, 0, 0, -1,  0,       0,      1],\n",
       "[0, 1, 0, 0, 0, 0, -1, -1,      c5, c5 + 1],\n",
       "[0, 0, 1, 0, 0, 0,  1,  0,      -1,     -1],\n",
       "[0, 0, 0, 1, 0, 0,  0,  0,      -1,     -1],\n",
       "[0, 0, 0, 0, 1, 0,  0, -1, -c3 - 1,    -c3],\n",
       "[0, 0, 0, 0, 0, 1, -1,  0,       1,      0]])"
      ]
     },
     "metadata": {},
     "output_type": "display_data"
    },
    {
     "data": {
      "text/latex": [
       "$\\displaystyle \\left[\\begin{matrix}1 & 0 & 0 & 0 & 0 & 0 & -1 & 0 & 0 & 1\\\\0 & 1 & 0 & 0 & 0 & 0 & -1 & -1 & d_{1} - 1 & d_{1}\\\\0 & 0 & 1 & 0 & 0 & 0 & 1 & 0 & -1 & -1\\\\0 & 0 & 0 & 1 & 0 & 0 & 0 & 0 & -1 & -1\\\\0 & 0 & 0 & 0 & 1 & 0 & 0 & -1 & d_{4} - 1 & d_{4}\\\\0 & 0 & 0 & 0 & 0 & 1 & -1 & 0 & 1 & 0\\end{matrix}\\right]$"
      ],
      "text/plain": [
       "Matrix([\n",
       "[1, 0, 0, 0, 0, 0, -1,  0,      0,  1],\n",
       "[0, 1, 0, 0, 0, 0, -1, -1, d1 - 1, d1],\n",
       "[0, 0, 1, 0, 0, 0,  1,  0,     -1, -1],\n",
       "[0, 0, 0, 1, 0, 0,  0,  0,     -1, -1],\n",
       "[0, 0, 0, 0, 1, 0,  0, -1, d4 - 1, d4],\n",
       "[0, 0, 0, 0, 0, 1, -1,  0,      1,  0]])"
      ]
     },
     "metadata": {},
     "output_type": "display_data"
    }
   ],
   "source": [
    "display(fans[1][:, symm_index[1]].rref()[0])\n",
    "display(fans[2])"
   ]
  },
  {
   "cell_type": "markdown",
   "id": "0d3d6690-63ee-4b44-a702-380cb428091a",
   "metadata": {
    "jp-MarkdownHeadingCollapsed": true
   },
   "source": [
    "## type 3"
   ]
  },
  {
   "cell_type": "code",
   "execution_count": 127,
   "id": "eadea7f8-ca2a-4ecf-93c3-e521c5055efd",
   "metadata": {},
   "outputs": [
    {
     "data": {
      "text/latex": [
       "$\\displaystyle \\left[\\begin{matrix}1 & 0 & 0 & 0 & 0 & 0 & -1 & - b_{0} - 1 & 0 & 1\\\\0 & 1 & 0 & 0 & 0 & 0 & -1 & - b_{0} + b_{1} + b_{3} - 1 & 1 & 2\\\\0 & 0 & 1 & 0 & 0 & 0 & 1 & b_{0} - b_{1} - b_{3} & -1 & -1\\\\0 & 0 & 0 & 1 & 0 & 0 & 0 & 1 - b_{3} & -1 & -1\\\\0 & 0 & 0 & 0 & 1 & 0 & 0 & -1 & 0 & 1\\\\0 & 0 & 0 & 0 & 0 & 1 & -1 & - b_{0} + b_{1} + b_{3} & 1 & 0\\end{matrix}\\right]$"
      ],
      "text/plain": [
       "Matrix([\n",
       "[1, 0, 0, 0, 0, 0, -1,           -b0 - 1,  0,  1],\n",
       "[0, 1, 0, 0, 0, 0, -1, -b0 + b1 + b3 - 1,  1,  2],\n",
       "[0, 0, 1, 0, 0, 0,  1,      b0 - b1 - b3, -1, -1],\n",
       "[0, 0, 0, 1, 0, 0,  0,            1 - b3, -1, -1],\n",
       "[0, 0, 0, 0, 1, 0,  0,                -1,  0,  1],\n",
       "[0, 0, 0, 0, 0, 1, -1,     -b0 + b1 + b3,  1,  0]])"
      ]
     },
     "metadata": {},
     "output_type": "display_data"
    },
    {
     "data": {
      "text/latex": [
       "$\\displaystyle \\left[\\begin{matrix}1 & 0 & 0 & 0 & 0 & 0 & -1 & b_{0} & 0 & 1\\\\0 & 1 & 0 & 0 & 0 & 0 & -1 & b_{1} & 1 & 2\\\\0 & 0 & 1 & 0 & 0 & 0 & 1 & - b_{1} - 1 & -1 & -1\\\\0 & 0 & 0 & 1 & 0 & 0 & 0 & b_{3} & -1 & -1\\\\0 & 0 & 0 & 0 & 1 & 0 & 0 & -1 & 0 & 1\\\\0 & 0 & 0 & 0 & 0 & 1 & -1 & b_{1} + 1 & 1 & 0\\end{matrix}\\right]$"
      ],
      "text/plain": [
       "Matrix([\n",
       "[1, 0, 0, 0, 0, 0, -1,      b0,  0,  1],\n",
       "[0, 1, 0, 0, 0, 0, -1,      b1,  1,  2],\n",
       "[0, 0, 1, 0, 0, 0,  1, -b1 - 1, -1, -1],\n",
       "[0, 0, 0, 1, 0, 0,  0,      b3, -1, -1],\n",
       "[0, 0, 0, 0, 1, 0,  0,      -1,  0,  1],\n",
       "[0, 0, 0, 0, 0, 1, -1,  b1 + 1,  1,  0]])"
      ]
     },
     "metadata": {},
     "output_type": "display_data"
    }
   ],
   "source": [
    "display(fans[3][:, symm_index[1]].rref()[0])\n",
    "display(fans[3])"
   ]
  }
 ],
 "metadata": {
  "kernelspec": {
   "display_name": "Python 3 (ipykernel)",
   "language": "python",
   "name": "python3"
  },
  "language_info": {
   "codemirror_mode": {
    "name": "ipython",
    "version": 3
   },
   "file_extension": ".py",
   "mimetype": "text/x-python",
   "name": "python",
   "nbconvert_exporter": "python",
   "pygments_lexer": "ipython3",
   "version": "3.12.7"
  }
 },
 "nbformat": 4,
 "nbformat_minor": 5
}
