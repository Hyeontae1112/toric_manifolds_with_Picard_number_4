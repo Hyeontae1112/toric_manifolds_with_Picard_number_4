{
 "cells": [
  {
   "cell_type": "markdown",
   "id": "88a45b06-0c2e-495c-8130-a3b2b9b21bd8",
   "metadata": {
    "jp-MarkdownHeadingCollapsed": true
   },
   "source": [
    "# Preparation"
   ]
  },
  {
   "cell_type": "code",
   "execution_count": 1,
   "id": "a8d1a5a8-1e28-4abe-bbe4-1188621c64ca",
   "metadata": {},
   "outputs": [],
   "source": [
    "%run programs\\\\Characteristic_Pair.py\n",
    "import copy\n",
    "\n",
    "fanlikes_index=20\n",
    "projectied_vertex=5\n",
    "link_index=13\n",
    "\n",
    "K = Simplicial_Complex(json.loads(read_file('programs\\\\fanlikes')[fanlikes_index]))\n",
    "M = initial_char(K.n)\n",
    "C0 = Characteristic_Pair(K, M)\n",
    "fans = []\n",
    "\n",
    "a = sp.symbols('a0:%d'%K.n)\n",
    "b = sp.symbols('b0:%d'%K.n)\n",
    "c = sp.symbols('c0:%d'%K.n)\n",
    "d = sp.symbols('d0:%d'%K.n)\n",
    "\n",
    "a0, a1, a2, a3, a4 = a[:]\n",
    "b0, b1, b2, b3, b4 = b[:]\n",
    "c0, c1, c2, c3, c4 = c[:]\n",
    "d0, d1, d2, d3, d4 = d[:]"
   ]
  },
  {
   "cell_type": "code",
   "execution_count": 2,
   "id": "22341429-16ec-4752-9dab-2c617ed14844",
   "metadata": {},
   "outputs": [
    {
     "data": {
      "text/latex": [
       "$\\displaystyle \\left[\\begin{matrix}1 & 0 & 0 & 0 & 0 & a_{0} & b_{0} & c_{0} & d_{0}\\\\0 & 1 & 0 & 0 & 0 & a_{1} & b_{1} & c_{1} & d_{1}\\\\0 & 0 & 1 & 0 & 0 & a_{2} & b_{2} & c_{2} & d_{2}\\\\0 & 0 & 0 & 1 & 0 & a_{3} & b_{3} & c_{3} & d_{3}\\\\0 & 0 & 0 & 0 & 1 & a_{4} & b_{4} & c_{4} & d_{4}\\end{matrix}\\right]$"
      ],
      "text/plain": [
       "Matrix([\n",
       "[1, 0, 0, 0, 0, a0, b0, c0, d0],\n",
       "[0, 1, 0, 0, 0, a1, b1, c1, d1],\n",
       "[0, 0, 1, 0, 0, a2, b2, c2, d2],\n",
       "[0, 0, 0, 1, 0, a3, b3, c3, d3],\n",
       "[0, 0, 0, 0, 1, a4, b4, c4, d4]])"
      ]
     },
     "execution_count": 2,
     "metadata": {},
     "output_type": "execute_result"
    }
   ],
   "source": [
    "C = C0\n",
    "C.char"
   ]
  },
  {
   "cell_type": "code",
   "execution_count": 3,
   "id": "0d4234c5-d2ad-43f2-bcf2-53df6f518fc0",
   "metadata": {},
   "outputs": [
    {
     "name": "stdout",
     "output_type": "stream",
     "text": [
      "facet number: 10\n"
     ]
    },
    {
     "data": {
      "text/latex": [
       "$\\displaystyle - a_{1} = 1$"
      ],
      "text/plain": [
       "Eq(-a1, 1)"
      ]
     },
     "metadata": {},
     "output_type": "display_data"
    },
    {
     "name": "stdout",
     "output_type": "stream",
     "text": [
      "facet number: 1\n"
     ]
    },
    {
     "data": {
      "text/latex": [
       "$\\displaystyle a_{4} = -1$"
      ],
      "text/plain": [
       "Eq(a4, -1)"
      ]
     },
     "metadata": {},
     "output_type": "display_data"
    },
    {
     "name": "stdout",
     "output_type": "stream",
     "text": [
      "facet number: 18\n"
     ]
    },
    {
     "data": {
      "text/latex": [
       "$\\displaystyle b_{0} = -1$"
      ],
      "text/plain": [
       "Eq(b0, -1)"
      ]
     },
     "metadata": {},
     "output_type": "display_data"
    },
    {
     "name": "stdout",
     "output_type": "stream",
     "text": [
      "facet number: 2\n"
     ]
    },
    {
     "data": {
      "text/latex": [
       "$\\displaystyle - c_{3} = 1$"
      ],
      "text/plain": [
       "Eq(-c3, 1)"
      ]
     },
     "metadata": {},
     "output_type": "display_data"
    },
    {
     "name": "stdout",
     "output_type": "stream",
     "text": [
      "facet number: 5\n"
     ]
    },
    {
     "data": {
      "text/latex": [
       "$\\displaystyle d_{2} = -1$"
      ],
      "text/plain": [
       "Eq(d2, -1)"
      ]
     },
     "metadata": {},
     "output_type": "display_data"
    }
   ],
   "source": [
    "i=10\n",
    "print('facet number:', i)\n",
    "display(sp.Eq(C.determinants[i], C.orientation[i]))\n",
    "\n",
    "i=1\n",
    "print('facet number:', i)\n",
    "display(sp.Eq(C.determinants[i], C.orientation[i]))\n",
    "\n",
    "i=18\n",
    "print('facet number:', i)\n",
    "display(sp.Eq(C.determinants[i], C.orientation[i]))\n",
    "\n",
    "i=2\n",
    "print('facet number:', i)\n",
    "display(sp.Eq(C.determinants[i], C.orientation[i]))\n",
    "\n",
    "i=5\n",
    "print('facet number:', i)\n",
    "display(sp.Eq(C.determinants[i], C.orientation[i]))\n",
    "\n",
    "C.subs(a1, -1)\n",
    "C.subs(a4, -1)\n",
    "C.subs(b0, -1)\n",
    "C.subs(c3, -1)\n",
    "C.subs(d2, -1)"
   ]
  },
  {
   "cell_type": "markdown",
   "id": "7ccb2119-3126-4c0b-8022-d88dc46dd725",
   "metadata": {
    "jp-MarkdownHeadingCollapsed": true
   },
   "source": [
    "# The projection with respect to "
   ]
  },
  {
   "cell_type": "code",
   "execution_count": 4,
   "id": "0e323cef-c0a2-46e2-9a4a-ae5e50771989",
   "metadata": {},
   "outputs": [
    {
     "name": "stdout",
     "output_type": "stream",
     "text": [
      "[[1, 2, 3, 4], [1, 2, 3, 8], [1, 2, 4, 9], [1, 2, 8, 9], [1, 3, 4, 6], [1, 3, 6, 7], [1, 3, 7, 8], [1, 4, 6, 7], [1, 4, 7, 8], [1, 4, 8, 9], [2, 3, 4, 7], [2, 3, 7, 8], [2, 4, 7, 8], [2, 4, 8, 9], [3, 4, 6, 7]]\n"
     ]
    }
   ],
   "source": [
    "print(Link(K, [projectied_vertex]).cpx)"
   ]
  },
  {
   "cell_type": "code",
   "execution_count": 5,
   "id": "f30eb303-c49a-4ce3-8acd-ff8035ccc85e",
   "metadata": {},
   "outputs": [
    {
     "name": "stdout",
     "output_type": "stream",
     "text": [
      "[[1, 2, 3, 4], [1, 2, 3, 7], [1, 2, 4, 8], [1, 2, 7, 8], [1, 3, 4, 5], [1, 3, 5, 6], [1, 3, 6, 7], [1, 4, 5, 6], [1, 4, 6, 7], [1, 4, 7, 8], [2, 3, 4, 6], [2, 3, 6, 7], [2, 4, 6, 7], [2, 4, 7, 8], [3, 4, 5, 6]]\n"
     ]
    }
   ],
   "source": [
    "print(json.loads(read_file('programs\\\\fanlikes')[link_index]))"
   ]
  },
  {
   "cell_type": "code",
   "execution_count": 6,
   "id": "df140542-cdf9-4552-9612-b989fd3da923",
   "metadata": {},
   "outputs": [
    {
     "name": "stdout",
     "output_type": "stream",
     "text": [
      "[[1, 2, 3, 4], [1, 2, 3, 7], [1, 2, 4, 8], [1, 2, 7, 8], [1, 3, 4, 5], [1, 3, 5, 6], [1, 3, 6, 7], [1, 4, 5, 6], [1, 4, 6, 7], [1, 4, 7, 8], [2, 3, 4, 6], [2, 3, 6, 7], [2, 4, 6, 7], [2, 4, 7, 8], [3, 4, 5, 6]]\n"
     ]
    },
    {
     "data": {
      "text/plain": [
       "True"
      ]
     },
     "execution_count": 6,
     "metadata": {},
     "output_type": "execute_result"
    }
   ],
   "source": [
    "L=[] # making the vertices of the link consecutive\n",
    "for l in Link(K, [projectied_vertex]).cpx:\n",
    "    L.append([])\n",
    "    for v in l:\n",
    "        if v>projectied_vertex:\n",
    "            L[-1].append(v-1)\n",
    "        else:\n",
    "            L[-1].append(v)\n",
    "print(L)\n",
    "L==json.loads(read_file('programs\\\\fanlikes')[link_index])"
   ]
  },
  {
   "cell_type": "code",
   "execution_count": 7,
   "id": "819b93af-0d9f-4aa9-912b-371f2dda7836",
   "metadata": {},
   "outputs": [
    {
     "data": {
      "text/latex": [
       "$\\displaystyle \\left[\\begin{matrix}1 & 0 & 0 & 0 & a_{0} & -1 & c_{0} & d_{0}\\\\0 & 1 & 0 & 0 & -1 & b_{1} & c_{1} & d_{1}\\\\0 & 0 & 1 & 0 & a_{2} & b_{2} & c_{2} & -1\\\\0 & 0 & 0 & 1 & a_{3} & b_{3} & -1 & d_{3}\\end{matrix}\\right]$"
      ],
      "text/plain": [
       "Matrix([\n",
       "[1, 0, 0, 0, a0, -1, c0, d0],\n",
       "[0, 1, 0, 0, -1, b1, c1, d1],\n",
       "[0, 0, 1, 0, a2, b2, c2, -1],\n",
       "[0, 0, 0, 1, a3, b3, -1, d3]])"
      ]
     },
     "metadata": {},
     "output_type": "display_data"
    }
   ],
   "source": [
    "display(C.proj([projectied_vertex]))"
   ]
  },
  {
   "cell_type": "markdown",
   "id": "dbcfd1c6-d2b6-4db0-81c1-f5fb1408a298",
   "metadata": {
    "jp-MarkdownHeadingCollapsed": true
   },
   "source": [
    "# The projection has 8 types of fans up to D-J equivalence"
   ]
  },
  {
   "cell_type": "code",
   "execution_count": 8,
   "id": "ed179421-0afe-4afc-b868-2c1c3dbe28e5",
   "metadata": {},
   "outputs": [],
   "source": [
    "import pickle\n",
    "with open('programs\\\\pickle_files\\\\%d_up_to_DJ.p'%(link_index), 'rb') as f:\n",
    "    fans_link = pickle.load(f)"
   ]
  },
  {
   "cell_type": "code",
   "execution_count": 9,
   "id": "934c9089-0a81-48c2-b920-150496633535",
   "metadata": {},
   "outputs": [
    {
     "data": {
      "text/latex": [
       "$\\displaystyle \\left[\\begin{matrix}1 & 0 & 0 & 0 & a_{0} & -1 & 0 & 1\\\\0 & 1 & 0 & 0 & -1 & 0 & 1 & 2\\\\0 & 0 & 1 & 0 & a_{2} & -1 & -1 & -1\\\\0 & 0 & 0 & 1 & a_{3} & -1 & -1 & 0\\end{matrix}\\right]$"
      ],
      "text/plain": [
       "Matrix([\n",
       "[1, 0, 0, 0, a0, -1,  0,  1],\n",
       "[0, 1, 0, 0, -1,  0,  1,  2],\n",
       "[0, 0, 1, 0, a2, -1, -1, -1],\n",
       "[0, 0, 0, 1, a3, -1, -1,  0]])"
      ]
     },
     "metadata": {},
     "output_type": "display_data"
    },
    {
     "data": {
      "text/latex": [
       "$\\displaystyle \\left[\\begin{matrix}1 & 0 & 0 & 0 & 0 & -1 & -1 & d_{0}\\\\0 & 1 & 0 & 0 & -1 & -1 & -1 & d_{1}\\\\0 & 0 & 1 & 0 & 2 & 1 & 0 & -1\\\\0 & 0 & 0 & 1 & 1 & 0 & -1 & d_{3}\\end{matrix}\\right]$"
      ],
      "text/plain": [
       "Matrix([\n",
       "[1, 0, 0, 0,  0, -1, -1, d0],\n",
       "[0, 1, 0, 0, -1, -1, -1, d1],\n",
       "[0, 0, 1, 0,  2,  1,  0, -1],\n",
       "[0, 0, 0, 1,  1,  0, -1, d3]])"
      ]
     },
     "metadata": {},
     "output_type": "display_data"
    },
    {
     "data": {
      "text/latex": [
       "$\\displaystyle \\left[\\begin{matrix}1 & 0 & 0 & 0 & 0 & -1 & 0 & 1\\\\0 & 1 & 0 & 0 & -1 & d_{1} - 2 & d_{1} - 1 & d_{1}\\\\0 & 0 & 1 & 0 & 0 & -1 & -1 & -1\\\\0 & 0 & 0 & 1 & 0 & -1 & -1 & 0\\end{matrix}\\right]$"
      ],
      "text/plain": [
       "Matrix([\n",
       "[1, 0, 0, 0,  0,     -1,      0,  1],\n",
       "[0, 1, 0, 0, -1, d1 - 2, d1 - 1, d1],\n",
       "[0, 0, 1, 0,  0,     -1,     -1, -1],\n",
       "[0, 0, 0, 1,  0,     -1,     -1,  0]])"
      ]
     },
     "metadata": {},
     "output_type": "display_data"
    },
    {
     "data": {
      "text/latex": [
       "$\\displaystyle \\left[\\begin{matrix}1 & 0 & 0 & 0 & 0 & -1 & d_{0} - 1 & d_{0}\\\\0 & 1 & 0 & 0 & -1 & -1 & d_{1} - 1 & d_{1}\\\\0 & 0 & 1 & 0 & 1 & 0 & -1 & -1\\\\0 & 0 & 0 & 1 & 1 & 0 & -1 & 0\\end{matrix}\\right]$"
      ],
      "text/plain": [
       "Matrix([\n",
       "[1, 0, 0, 0,  0, -1, d0 - 1, d0],\n",
       "[0, 1, 0, 0, -1, -1, d1 - 1, d1],\n",
       "[0, 0, 1, 0,  1,  0,     -1, -1],\n",
       "[0, 0, 0, 1,  1,  0,     -1,  0]])"
      ]
     },
     "metadata": {},
     "output_type": "display_data"
    },
    {
     "data": {
      "text/latex": [
       "$\\displaystyle \\left[\\begin{matrix}1 & 0 & 0 & 0 & 0 & -1 & 0 & 1\\\\0 & 1 & 0 & 0 & -1 & b_{1} & 1 & 2\\\\0 & 0 & 1 & 0 & 1 & - b_{1} - 1 & -1 & -1\\\\0 & 0 & 0 & 1 & 1 & - b_{1} - 1 & -1 & 0\\end{matrix}\\right]$"
      ],
      "text/plain": [
       "Matrix([\n",
       "[1, 0, 0, 0,  0,      -1,  0,  1],\n",
       "[0, 1, 0, 0, -1,      b1,  1,  2],\n",
       "[0, 0, 1, 0,  1, -b1 - 1, -1, -1],\n",
       "[0, 0, 0, 1,  1, -b1 - 1, -1,  0]])"
      ]
     },
     "metadata": {},
     "output_type": "display_data"
    },
    {
     "data": {
      "text/latex": [
       "$\\displaystyle \\left[\\begin{matrix}1 & 0 & 0 & 0 & 0 & -1 & -1 & 0\\\\0 & 1 & 0 & 0 & -1 & -1 & -1 & 0\\\\0 & 0 & 1 & 0 & c_{2} + 2 & c_{2} + 1 & c_{2} & -1\\\\0 & 0 & 0 & 1 & 1 & 0 & -1 & 0\\end{matrix}\\right]$"
      ],
      "text/plain": [
       "Matrix([\n",
       "[1, 0, 0, 0,      0,     -1, -1,  0],\n",
       "[0, 1, 0, 0,     -1,     -1, -1,  0],\n",
       "[0, 0, 1, 0, c2 + 2, c2 + 1, c2, -1],\n",
       "[0, 0, 0, 1,      1,      0, -1,  0]])"
      ]
     },
     "metadata": {},
     "output_type": "display_data"
    },
    {
     "data": {
      "text/latex": [
       "$\\displaystyle \\left[\\begin{matrix}1 & 0 & 0 & 0 & 0 & -1 & - c_{2} - 1 & 1\\\\0 & 1 & 0 & 0 & -1 & -1 & - c_{2} - 1 & 1\\\\0 & 0 & 1 & 0 & 2 & 1 & c_{2} & -1\\\\0 & 0 & 0 & 1 & 1 & 0 & -1 & 0\\end{matrix}\\right]$"
      ],
      "text/plain": [
       "Matrix([\n",
       "[1, 0, 0, 0,  0, -1, -c2 - 1,  1],\n",
       "[0, 1, 0, 0, -1, -1, -c2 - 1,  1],\n",
       "[0, 0, 1, 0,  2,  1,      c2, -1],\n",
       "[0, 0, 0, 1,  1,  0,      -1,  0]])"
      ]
     },
     "metadata": {},
     "output_type": "display_data"
    },
    {
     "data": {
      "text/latex": [
       "$\\displaystyle \\left[\\begin{matrix}1 & 0 & 0 & 0 & 0 & -1 & 0 & 1\\\\0 & 1 & 0 & 0 & -1 & -1 & 0 & 1\\\\0 & 0 & 1 & 0 & a_{2} & a_{2} - 1 & -1 & -1\\\\0 & 0 & 0 & 1 & a_{3} & a_{3} - 1 & -1 & 0\\end{matrix}\\right]$"
      ],
      "text/plain": [
       "Matrix([\n",
       "[1, 0, 0, 0,  0,     -1,  0,  1],\n",
       "[0, 1, 0, 0, -1,     -1,  0,  1],\n",
       "[0, 0, 1, 0, a2, a2 - 1, -1, -1],\n",
       "[0, 0, 0, 1, a3, a3 - 1, -1,  0]])"
      ]
     },
     "metadata": {},
     "output_type": "display_data"
    }
   ],
   "source": [
    "for f in fans_link:\n",
    "    display(f)"
   ]
  },
  {
   "cell_type": "markdown",
   "id": "ff605ab7-f715-404f-810b-92bbab3fc765",
   "metadata": {
    "jp-MarkdownHeadingCollapsed": true
   },
   "source": [
    "# Type 0 of the projection"
   ]
  },
  {
   "cell_type": "code",
   "execution_count": 14,
   "id": "aa377bcd-fa7a-48f6-92c4-ac15a279853d",
   "metadata": {},
   "outputs": [
    {
     "data": {
      "text/latex": [
       "$\\displaystyle \\left[\\begin{matrix}1 & 0 & 0 & 0 & a_{0} & -1 & c_{0} & d_{0}\\\\0 & 1 & 0 & 0 & -1 & b_{1} & c_{1} & d_{1}\\\\0 & 0 & 1 & 0 & a_{2} & b_{2} & c_{2} & -1\\\\0 & 0 & 0 & 1 & a_{3} & b_{3} & -1 & d_{3}\\end{matrix}\\right] = \\left[\\begin{matrix}1 & 0 & 0 & 0 & a_{0} & -1 & 0 & 1\\\\0 & 1 & 0 & 0 & -1 & 0 & 1 & 2\\\\0 & 0 & 1 & 0 & a_{2} & -1 & -1 & -1\\\\0 & 0 & 0 & 1 & a_{3} & -1 & -1 & 0\\end{matrix}\\right]$"
      ],
      "text/plain": [
       "Eq(Matrix([\n",
       "[1, 0, 0, 0, a0, -1, c0, d0],\n",
       "[0, 1, 0, 0, -1, b1, c1, d1],\n",
       "[0, 0, 1, 0, a2, b2, c2, -1],\n",
       "[0, 0, 0, 1, a3, b3, -1, d3]]), Matrix([\n",
       "[1, 0, 0, 0, a0, -1,  0,  1],\n",
       "[0, 1, 0, 0, -1,  0,  1,  2],\n",
       "[0, 0, 1, 0, a2, -1, -1, -1],\n",
       "[0, 0, 0, 1, a3, -1, -1,  0]]))"
      ]
     },
     "metadata": {},
     "output_type": "display_data"
    }
   ],
   "source": [
    "C1 = copy.deepcopy(C0)\n",
    "C = C1\n",
    "t=0\n",
    "\n",
    "proj = C.proj([projectied_vertex])\n",
    "with sp.evaluate(False):\n",
    "    display(sp.Eq(proj, fans_link[t]))"
   ]
  },
  {
   "cell_type": "code",
   "execution_count": 15,
   "id": "41ea0310-b5cf-41e4-bb0a-cfb79222eb08",
   "metadata": {},
   "outputs": [
    {
     "data": {
      "text/latex": [
       "$\\displaystyle \\text{True}$"
      ],
      "text/plain": [
       "True"
      ]
     },
     "metadata": {},
     "output_type": "display_data"
    }
   ],
   "source": [
    "C.subs(b1, 0)\n",
    "C.subs(b2, -1)\n",
    "C.subs(b3, -1)\n",
    "C.subs(c0, 0)\n",
    "C.subs(c1, 1)\n",
    "C.subs(c2, -1)\n",
    "C.subs(d0, 1)\n",
    "C.subs(d1, 2)\n",
    "C.subs(d3, 0)\n",
    "\n",
    "display(sp.Eq(C.proj([projectied_vertex]), fans_link[t]))"
   ]
  },
  {
   "cell_type": "code",
   "execution_count": 16,
   "id": "4019583a-9beb-4672-8c92-223ddea7e7e6",
   "metadata": {},
   "outputs": [
    {
     "name": "stdout",
     "output_type": "stream",
     "text": [
      "facet number: 9\n"
     ]
    },
    {
     "data": {
      "text/latex": [
       "$\\displaystyle - b_{4} + c_{4} = 1$"
      ],
      "text/plain": [
       "Eq(-b4 + c4, 1)"
      ]
     },
     "metadata": {},
     "output_type": "display_data"
    }
   ],
   "source": [
    "i=9\n",
    "print('facet number:', i)\n",
    "display(sp.Eq(C.determinants[i], C.orientation[i]))\n",
    "\n",
    "C.subs(c4, b4+1)"
   ]
  },
  {
   "cell_type": "code",
   "execution_count": 17,
   "id": "7b38fe72-5c21-4311-a8f8-7aae99aa2f52",
   "metadata": {},
   "outputs": [
    {
     "name": "stdout",
     "output_type": "stream",
     "text": [
      "facet number: 17\n"
     ]
    },
    {
     "data": {
      "text/latex": [
       "$\\displaystyle - b_{4} + d_{4} - 2 = -1$"
      ],
      "text/plain": [
       "Eq(-b4 + d4 - 2, -1)"
      ]
     },
     "metadata": {},
     "output_type": "display_data"
    }
   ],
   "source": [
    "i=17\n",
    "print('facet number:', i)\n",
    "display(sp.Eq(C.determinants[i], C.orientation[i]))\n",
    "\n",
    "C.subs(d4, b4+1)"
   ]
  },
  {
   "cell_type": "code",
   "execution_count": 18,
   "id": "cba9bc85-7710-4d24-bb3f-4dffee7f957c",
   "metadata": {},
   "outputs": [
    {
     "name": "stdout",
     "output_type": "stream",
     "text": [
      "facet number: 3\n"
     ]
    },
    {
     "data": {
      "text/latex": [
       "$\\displaystyle a_{3} b_{4} - 1 = -1$"
      ],
      "text/plain": [
       "Eq(a3*b4 - 1, -1)"
      ]
     },
     "metadata": {},
     "output_type": "display_data"
    }
   ],
   "source": [
    "i=3\n",
    "print('facet number:', i)\n",
    "display(sp.Eq(C.determinants[i], C.orientation[i]))"
   ]
  },
  {
   "cell_type": "markdown",
   "id": "aa322348-823c-4846-a792-b8b79b1e42cc",
   "metadata": {
    "jp-MarkdownHeadingCollapsed": true
   },
   "source": [
    "## $b_4=0$"
   ]
  },
  {
   "cell_type": "code",
   "execution_count": 19,
   "id": "6787d5dd-328f-4a57-bc50-f78f4acdb685",
   "metadata": {},
   "outputs": [],
   "source": [
    "C2 = copy.deepcopy(C1)\n",
    "C = C2\n",
    "C.subs(b4, 0)"
   ]
  },
  {
   "cell_type": "code",
   "execution_count": 20,
   "id": "ec0605a5-e86a-47b5-b3fb-6f9663b3fba8",
   "metadata": {},
   "outputs": [
    {
     "name": "stdout",
     "output_type": "stream",
     "text": [
      "facet number: 6\n"
     ]
    },
    {
     "data": {
      "text/latex": [
       "$\\displaystyle 1 - a_{2} = 1$"
      ],
      "text/plain": [
       "Eq(1 - a2, 1)"
      ]
     },
     "metadata": {},
     "output_type": "display_data"
    }
   ],
   "source": [
    "i=6\n",
    "print('facet number:', i)\n",
    "display(sp.Eq(C.determinants[i], C.orientation[i]))\n",
    "\n",
    "C.subs(a2, 0)"
   ]
  },
  {
   "cell_type": "code",
   "execution_count": 21,
   "id": "92fc2492-2973-45b9-8d13-0e2feea40e7f",
   "metadata": {},
   "outputs": [
    {
     "name": "stdout",
     "output_type": "stream",
     "text": [
      "facet number: 8\n"
     ]
    },
    {
     "data": {
      "text/latex": [
       "$\\displaystyle a_{3} + 1 = 1$"
      ],
      "text/plain": [
       "Eq(a3 + 1, 1)"
      ]
     },
     "metadata": {},
     "output_type": "display_data"
    }
   ],
   "source": [
    "i=8\n",
    "print('facet number:', i)\n",
    "display(sp.Eq(C.determinants[i], C.orientation[i]))\n",
    "\n",
    "C.subs(a3, 0)"
   ]
  },
  {
   "cell_type": "code",
   "execution_count": 22,
   "id": "8d822c9e-cb3d-41bc-8240-409fb1696920",
   "metadata": {},
   "outputs": [
    {
     "name": "stdout",
     "output_type": "stream",
     "text": [
      "facet number: 23\n"
     ]
    },
    {
     "data": {
      "text/latex": [
       "$\\displaystyle a_{0} + 2 = 1$"
      ],
      "text/plain": [
       "Eq(a0 + 2, 1)"
      ]
     },
     "metadata": {},
     "output_type": "display_data"
    }
   ],
   "source": [
    "i=23\n",
    "print('facet number:', i)\n",
    "display(sp.Eq(C.determinants[i], C.orientation[i]))\n",
    "\n",
    "C.subs(a0, -1)"
   ]
  },
  {
   "cell_type": "code",
   "execution_count": 24,
   "id": "8268a035-1c9c-41b4-a95f-ec2d9c36471d",
   "metadata": {},
   "outputs": [
    {
     "data": {
      "text/latex": [
       "$\\displaystyle \\left[\\begin{matrix}1 & 0 & 0 & 0 & 0 & -1 & -1 & 0 & 1\\\\0 & 1 & 0 & 0 & 0 & -1 & 0 & 1 & 2\\\\0 & 0 & 1 & 0 & 0 & 0 & -1 & -1 & -1\\\\0 & 0 & 0 & 1 & 0 & 0 & -1 & -1 & 0\\\\0 & 0 & 0 & 0 & 1 & -1 & 0 & 1 & 1\\end{matrix}\\right]$"
      ],
      "text/plain": [
       "Matrix([\n",
       "[1, 0, 0, 0, 0, -1, -1,  0,  1],\n",
       "[0, 1, 0, 0, 0, -1,  0,  1,  2],\n",
       "[0, 0, 1, 0, 0,  0, -1, -1, -1],\n",
       "[0, 0, 0, 1, 0,  0, -1, -1,  0],\n",
       "[0, 0, 0, 0, 1, -1,  0,  1,  1]])"
      ]
     },
     "metadata": {},
     "output_type": "display_data"
    },
    {
     "name": "stdout",
     "output_type": "stream",
     "text": [
      "1\n"
     ]
    }
   ],
   "source": [
    "display(C.char)\n",
    "print(C.is_fangiving)\n",
    "fans.append(C.char)"
   ]
  },
  {
   "cell_type": "markdown",
   "id": "cfdd5d2d-f7a8-42d6-9805-e958b30fa4ee",
   "metadata": {
    "jp-MarkdownHeadingCollapsed": true
   },
   "source": [
    "## $a_3=0$ ($b_4 \\not= 0$)"
   ]
  },
  {
   "cell_type": "code",
   "execution_count": 28,
   "id": "3c05e91f-c302-4908-8e03-2f933fce0d2f",
   "metadata": {},
   "outputs": [],
   "source": [
    "C2 = copy.deepcopy(C1)\n",
    "C = C2\n",
    "C.subs(a3, 0)"
   ]
  },
  {
   "cell_type": "code",
   "execution_count": 29,
   "id": "c9e2980d-377f-4f5e-a962-e0415bf4f2a2",
   "metadata": {},
   "outputs": [
    {
     "name": "stdout",
     "output_type": "stream",
     "text": [
      "facet number: 16\n"
     ]
    },
    {
     "data": {
      "text/latex": [
       "$\\displaystyle 2 a_{2} b_{4} - 1 = -1$"
      ],
      "text/plain": [
       "Eq(2*a2*b4 - 1, -1)"
      ]
     },
     "metadata": {},
     "output_type": "display_data"
    }
   ],
   "source": [
    "i=16\n",
    "print('facet number:', i)\n",
    "display(sp.Eq(C.determinants[i], C.orientation[i]))\n",
    "\n",
    "C.subs(a2, 0)"
   ]
  },
  {
   "cell_type": "code",
   "execution_count": 30,
   "id": "e7b3bc21-7c91-4690-8af3-86c05ed2e4c7",
   "metadata": {},
   "outputs": [
    {
     "name": "stdout",
     "output_type": "stream",
     "text": [
      "facet number: 23\n"
     ]
    },
    {
     "data": {
      "text/latex": [
       "$\\displaystyle a_{0} + 2 = 1$"
      ],
      "text/plain": [
       "Eq(a0 + 2, 1)"
      ]
     },
     "metadata": {},
     "output_type": "display_data"
    }
   ],
   "source": [
    "i=23\n",
    "print('facet number:', i)\n",
    "display(sp.Eq(C.determinants[i], C.orientation[i]))\n",
    "\n",
    "C.subs(a0, -1)"
   ]
  },
  {
   "cell_type": "code",
   "execution_count": 31,
   "id": "b8e0bb11-0da5-45e8-967d-d0c0f1f22dbe",
   "metadata": {},
   "outputs": [
    {
     "name": "stdout",
     "output_type": "stream",
     "text": [
      "facet number: 19\n"
     ]
    },
    {
     "data": {
      "text/latex": [
       "$\\displaystyle b_{4} + 1 = 1$"
      ],
      "text/plain": [
       "Eq(b4 + 1, 1)"
      ]
     },
     "metadata": {},
     "output_type": "display_data"
    }
   ],
   "source": [
    "i=19\n",
    "print('facet number:', i)\n",
    "display(sp.Eq(C.determinants[i], C.orientation[i]))"
   ]
  },
  {
   "cell_type": "markdown",
   "id": "a7d16530-a1e4-4d26-8520-a6500c55086a",
   "metadata": {
    "jp-MarkdownHeadingCollapsed": true
   },
   "source": [
    "# Type 1 of the projection"
   ]
  },
  {
   "cell_type": "code",
   "execution_count": 41,
   "id": "fe961236-6c80-4a69-9c7c-3233152f28f2",
   "metadata": {},
   "outputs": [
    {
     "data": {
      "text/latex": [
       "$\\displaystyle \\left[\\begin{matrix}1 & 0 & 0 & 0 & a_{0} & -1 & c_{0} & d_{0}\\\\0 & 1 & 0 & 0 & -1 & b_{1} & c_{1} & d_{1}\\\\0 & 0 & 1 & 0 & a_{2} & b_{2} & c_{2} & -1\\\\0 & 0 & 0 & 1 & a_{3} & b_{3} & -1 & d_{3}\\end{matrix}\\right] = \\left[\\begin{matrix}1 & 0 & 0 & 0 & 0 & -1 & -1 & d_{0}\\\\0 & 1 & 0 & 0 & -1 & -1 & -1 & d_{1}\\\\0 & 0 & 1 & 0 & 2 & 1 & 0 & -1\\\\0 & 0 & 0 & 1 & 1 & 0 & -1 & d_{3}\\end{matrix}\\right]$"
      ],
      "text/plain": [
       "Eq(Matrix([\n",
       "[1, 0, 0, 0, a0, -1, c0, d0],\n",
       "[0, 1, 0, 0, -1, b1, c1, d1],\n",
       "[0, 0, 1, 0, a2, b2, c2, -1],\n",
       "[0, 0, 0, 1, a3, b3, -1, d3]]), Matrix([\n",
       "[1, 0, 0, 0,  0, -1, -1, d0],\n",
       "[0, 1, 0, 0, -1, -1, -1, d1],\n",
       "[0, 0, 1, 0,  2,  1,  0, -1],\n",
       "[0, 0, 0, 1,  1,  0, -1, d3]]))"
      ]
     },
     "metadata": {},
     "output_type": "display_data"
    }
   ],
   "source": [
    "C1 = copy.deepcopy(C0)\n",
    "C = C1\n",
    "t=1\n",
    "\n",
    "proj = C.proj([projectied_vertex])\n",
    "with sp.evaluate(False):\n",
    "    display(sp.Eq(proj, fans_link[t]))"
   ]
  },
  {
   "cell_type": "code",
   "execution_count": 42,
   "id": "38c4724b-fe3f-4f06-9626-58fd39768275",
   "metadata": {},
   "outputs": [
    {
     "data": {
      "text/latex": [
       "$\\displaystyle \\text{True}$"
      ],
      "text/plain": [
       "True"
      ]
     },
     "metadata": {},
     "output_type": "display_data"
    }
   ],
   "source": [
    "C.subs(a0, 0)\n",
    "C.subs(a2, 2)\n",
    "C.subs(a3, 1)\n",
    "C.subs(b1, -1)\n",
    "C.subs(b2, 1)\n",
    "C.subs(b3, 0)\n",
    "C.subs(c0, -1)\n",
    "C.subs(c1, -1)\n",
    "C.subs(c2, 0)\n",
    "\n",
    "display(sp.Eq(C.proj([projectied_vertex]), fans_link[t]))"
   ]
  },
  {
   "cell_type": "code",
   "execution_count": 43,
   "id": "6bc70476-43f2-448a-803a-4906a9ed882a",
   "metadata": {},
   "outputs": [
    {
     "name": "stdout",
     "output_type": "stream",
     "text": [
      "facet number: 3\n"
     ]
    },
    {
     "data": {
      "text/latex": [
       "$\\displaystyle b_{4} = -1$"
      ],
      "text/plain": [
       "Eq(b4, -1)"
      ]
     },
     "metadata": {},
     "output_type": "display_data"
    }
   ],
   "source": [
    "i=3\n",
    "print('facet number:', i)\n",
    "display(sp.Eq(C.determinants[i], C.orientation[i]))\n",
    "\n",
    "C.subs(b4, -1)"
   ]
  },
  {
   "cell_type": "code",
   "execution_count": 44,
   "id": "dec2d3d0-9a47-4e7d-9b9c-41945b557fe5",
   "metadata": {},
   "outputs": [
    {
     "name": "stdout",
     "output_type": "stream",
     "text": [
      "facet number: 6\n"
     ]
    },
    {
     "data": {
      "text/latex": [
       "$\\displaystyle 1 - 2 d_{4} = 1$"
      ],
      "text/plain": [
       "Eq(1 - 2*d4, 1)"
      ]
     },
     "metadata": {},
     "output_type": "display_data"
    }
   ],
   "source": [
    "i=6\n",
    "print('facet number:', i)\n",
    "display(sp.Eq(C.determinants[i], C.orientation[i]))\n",
    "\n",
    "C.subs(d4, 0)"
   ]
  },
  {
   "cell_type": "code",
   "execution_count": 45,
   "id": "e7a9dfce-31bb-4681-b93f-a5c2e75bf521",
   "metadata": {},
   "outputs": [
    {
     "name": "stdout",
     "output_type": "stream",
     "text": [
      "facet number: 8\n"
     ]
    },
    {
     "data": {
      "text/latex": [
       "$\\displaystyle d_{3} + 1 = 1$"
      ],
      "text/plain": [
       "Eq(d3 + 1, 1)"
      ]
     },
     "metadata": {},
     "output_type": "display_data"
    }
   ],
   "source": [
    "i=8\n",
    "print('facet number:', i)\n",
    "display(sp.Eq(C.determinants[i], C.orientation[i]))\n",
    "\n",
    "C.subs(d3, 0)"
   ]
  },
  {
   "cell_type": "code",
   "execution_count": 46,
   "id": "ecda8abf-9635-49d3-a501-5b91376538ea",
   "metadata": {},
   "outputs": [
    {
     "name": "stdout",
     "output_type": "stream",
     "text": [
      "facet number: 16\n"
     ]
    },
    {
     "data": {
      "text/latex": [
       "$\\displaystyle - d_{1} = -1$"
      ],
      "text/plain": [
       "Eq(-d1, -1)"
      ]
     },
     "metadata": {},
     "output_type": "display_data"
    }
   ],
   "source": [
    "i=16\n",
    "print('facet number:', i)\n",
    "display(sp.Eq(C.determinants[i], C.orientation[i]))\n",
    "\n",
    "C.subs(d1, 1)"
   ]
  },
  {
   "cell_type": "code",
   "execution_count": 47,
   "id": "3b784fe0-dc6e-4455-ad26-f8b1c896cd31",
   "metadata": {},
   "outputs": [
    {
     "name": "stdout",
     "output_type": "stream",
     "text": [
      "facet number: 23\n"
     ]
    },
    {
     "data": {
      "text/latex": [
       "$\\displaystyle d_{0} + 1 = 1$"
      ],
      "text/plain": [
       "Eq(d0 + 1, 1)"
      ]
     },
     "metadata": {},
     "output_type": "display_data"
    }
   ],
   "source": [
    "i=23\n",
    "print('facet number:', i)\n",
    "display(sp.Eq(C.determinants[i], C.orientation[i]))\n",
    "\n",
    "C.subs(d0, 0)"
   ]
  },
  {
   "cell_type": "code",
   "execution_count": 48,
   "id": "f5648942-32ca-4228-81ab-534652179e47",
   "metadata": {},
   "outputs": [
    {
     "name": "stdout",
     "output_type": "stream",
     "text": [
      "facet number: 24\n"
     ]
    },
    {
     "data": {
      "text/latex": [
       "$\\displaystyle c_{4} + 1 = 1$"
      ],
      "text/plain": [
       "Eq(c4 + 1, 1)"
      ]
     },
     "metadata": {},
     "output_type": "display_data"
    }
   ],
   "source": [
    "i=24\n",
    "print('facet number:', i)\n",
    "display(sp.Eq(C.determinants[i], C.orientation[i]))\n",
    "\n",
    "C.subs(c4, 0)"
   ]
  },
  {
   "cell_type": "code",
   "execution_count": 50,
   "id": "8ebc0a6d-18f6-4ffd-ae51-b0b06308da01",
   "metadata": {},
   "outputs": [
    {
     "data": {
      "text/latex": [
       "$\\displaystyle \\left[\\begin{matrix}1 & 0 & 0 & 0 & 0 & 0 & -1 & -1 & 0\\\\0 & 1 & 0 & 0 & 0 & -1 & -1 & -1 & 1\\\\0 & 0 & 1 & 0 & 0 & 2 & 1 & 0 & -1\\\\0 & 0 & 0 & 1 & 0 & 1 & 0 & -1 & 0\\\\0 & 0 & 0 & 0 & 1 & -1 & -1 & 0 & 0\\end{matrix}\\right]$"
      ],
      "text/plain": [
       "Matrix([\n",
       "[1, 0, 0, 0, 0,  0, -1, -1,  0],\n",
       "[0, 1, 0, 0, 0, -1, -1, -1,  1],\n",
       "[0, 0, 1, 0, 0,  2,  1,  0, -1],\n",
       "[0, 0, 0, 1, 0,  1,  0, -1,  0],\n",
       "[0, 0, 0, 0, 1, -1, -1,  0,  0]])"
      ]
     },
     "metadata": {},
     "output_type": "display_data"
    },
    {
     "name": "stdout",
     "output_type": "stream",
     "text": [
      "1\n"
     ]
    }
   ],
   "source": [
    "display(C.char)\n",
    "print(C.is_fangiving)\n",
    "fans.append(C.char)"
   ]
  },
  {
   "cell_type": "markdown",
   "id": "869f5253-4188-4f1e-aa2c-e119083ed1f1",
   "metadata": {
    "jp-MarkdownHeadingCollapsed": true
   },
   "source": [
    "# Type 2 of the projection"
   ]
  },
  {
   "cell_type": "code",
   "execution_count": 53,
   "id": "81b9bb5b-3021-432f-9a90-8cf18d41424e",
   "metadata": {},
   "outputs": [
    {
     "data": {
      "text/latex": [
       "$\\displaystyle \\left[\\begin{matrix}1 & 0 & 0 & 0 & a_{0} & -1 & c_{0} & d_{0}\\\\0 & 1 & 0 & 0 & -1 & b_{1} & c_{1} & d_{1}\\\\0 & 0 & 1 & 0 & a_{2} & b_{2} & c_{2} & -1\\\\0 & 0 & 0 & 1 & a_{3} & b_{3} & -1 & d_{3}\\end{matrix}\\right] = \\left[\\begin{matrix}1 & 0 & 0 & 0 & 0 & -1 & 0 & 1\\\\0 & 1 & 0 & 0 & -1 & d_{1} - 2 & d_{1} - 1 & d_{1}\\\\0 & 0 & 1 & 0 & 0 & -1 & -1 & -1\\\\0 & 0 & 0 & 1 & 0 & -1 & -1 & 0\\end{matrix}\\right]$"
      ],
      "text/plain": [
       "Eq(Matrix([\n",
       "[1, 0, 0, 0, a0, -1, c0, d0],\n",
       "[0, 1, 0, 0, -1, b1, c1, d1],\n",
       "[0, 0, 1, 0, a2, b2, c2, -1],\n",
       "[0, 0, 0, 1, a3, b3, -1, d3]]), Matrix([\n",
       "[1, 0, 0, 0,  0,     -1,      0,  1],\n",
       "[0, 1, 0, 0, -1, d1 - 2, d1 - 1, d1],\n",
       "[0, 0, 1, 0,  0,     -1,     -1, -1],\n",
       "[0, 0, 0, 1,  0,     -1,     -1,  0]]))"
      ]
     },
     "metadata": {},
     "output_type": "display_data"
    }
   ],
   "source": [
    "C1 = copy.deepcopy(C0)\n",
    "C = C1\n",
    "t=2\n",
    "\n",
    "proj = C.proj([projectied_vertex])\n",
    "with sp.evaluate(False):\n",
    "    display(sp.Eq(proj, fans_link[t]))"
   ]
  },
  {
   "cell_type": "code",
   "execution_count": 54,
   "id": "ea487863-d266-488d-a39f-c7997450891c",
   "metadata": {},
   "outputs": [
    {
     "name": "stdout",
     "output_type": "stream",
     "text": [
      "facet number: 23\n"
     ]
    },
    {
     "data": {
      "text/latex": [
       "$\\displaystyle - a_{0} b_{2} d_{4} - a_{0} b_{4} - a_{2} b_{4} d_{0} - a_{2} d_{4} - b_{2} d_{0} + 1 = 1$"
      ],
      "text/plain": [
       "Eq(-a0*b2*d4 - a0*b4 - a2*b4*d0 - a2*d4 - b2*d0 + 1, 1)"
      ]
     },
     "metadata": {},
     "output_type": "display_data"
    },
    {
     "name": "stdout",
     "output_type": "stream",
     "text": [
      "no solution\n"
     ]
    }
   ],
   "source": [
    "i=23\n",
    "print('facet number:', i)\n",
    "display(sp.Eq(C.determinants[i], C.orientation[i]))\n",
    "\n",
    "print('no solution')"
   ]
  },
  {
   "cell_type": "markdown",
   "id": "f157ad45-0ad0-4178-895f-62f20e0e597a",
   "metadata": {
    "jp-MarkdownHeadingCollapsed": true
   },
   "source": [
    "# Type 3 of the projection"
   ]
  },
  {
   "cell_type": "code",
   "execution_count": 55,
   "id": "47954903-6c06-4003-9d5d-f7696a041b2c",
   "metadata": {},
   "outputs": [
    {
     "data": {
      "text/latex": [
       "$\\displaystyle \\left[\\begin{matrix}1 & 0 & 0 & 0 & a_{0} & -1 & c_{0} & d_{0}\\\\0 & 1 & 0 & 0 & -1 & b_{1} & c_{1} & d_{1}\\\\0 & 0 & 1 & 0 & a_{2} & b_{2} & c_{2} & -1\\\\0 & 0 & 0 & 1 & a_{3} & b_{3} & -1 & d_{3}\\end{matrix}\\right] = \\left[\\begin{matrix}1 & 0 & 0 & 0 & 0 & -1 & d_{0} - 1 & d_{0}\\\\0 & 1 & 0 & 0 & -1 & -1 & d_{1} - 1 & d_{1}\\\\0 & 0 & 1 & 0 & 1 & 0 & -1 & -1\\\\0 & 0 & 0 & 1 & 1 & 0 & -1 & 0\\end{matrix}\\right]$"
      ],
      "text/plain": [
       "Eq(Matrix([\n",
       "[1, 0, 0, 0, a0, -1, c0, d0],\n",
       "[0, 1, 0, 0, -1, b1, c1, d1],\n",
       "[0, 0, 1, 0, a2, b2, c2, -1],\n",
       "[0, 0, 0, 1, a3, b3, -1, d3]]), Matrix([\n",
       "[1, 0, 0, 0,  0, -1, d0 - 1, d0],\n",
       "[0, 1, 0, 0, -1, -1, d1 - 1, d1],\n",
       "[0, 0, 1, 0,  1,  0,     -1, -1],\n",
       "[0, 0, 0, 1,  1,  0,     -1,  0]]))"
      ]
     },
     "metadata": {},
     "output_type": "display_data"
    }
   ],
   "source": [
    "C1 = copy.deepcopy(C0)\n",
    "C = C1\n",
    "t=3\n",
    "\n",
    "proj = C.proj([projectied_vertex])\n",
    "with sp.evaluate(False):\n",
    "    display(sp.Eq(proj, fans_link[t]))"
   ]
  },
  {
   "cell_type": "code",
   "execution_count": 56,
   "id": "0d2bf23b-2aa9-4147-a68b-6f5a126a79f7",
   "metadata": {},
   "outputs": [
    {
     "data": {
      "text/latex": [
       "$\\displaystyle \\text{True}$"
      ],
      "text/plain": [
       "True"
      ]
     },
     "metadata": {},
     "output_type": "display_data"
    }
   ],
   "source": [
    "C.subs(a0, 0)\n",
    "C.subs(a2, 1)\n",
    "C.subs(a3, 1)\n",
    "C.subs(b1, -1)\n",
    "C.subs(b2, 0)\n",
    "C.subs(b3, 0)\n",
    "C.subs(c0, d0-1)\n",
    "C.subs(c1, d1-1)\n",
    "C.subs(c2, -1)\n",
    "C.subs(d3, 0)\n",
    "\n",
    "display(sp.Eq(C.proj([projectied_vertex]), fans_link[t]))"
   ]
  },
  {
   "cell_type": "code",
   "execution_count": 57,
   "id": "cd49a829-8096-4365-aa05-80e66870d8c6",
   "metadata": {},
   "outputs": [
    {
     "name": "stdout",
     "output_type": "stream",
     "text": [
      "facet number: 3\n"
     ]
    },
    {
     "data": {
      "text/latex": [
       "$\\displaystyle b_{4} = -1$"
      ],
      "text/plain": [
       "Eq(b4, -1)"
      ]
     },
     "metadata": {},
     "output_type": "display_data"
    }
   ],
   "source": [
    "i=3\n",
    "print('facet number:', i)\n",
    "display(sp.Eq(C.determinants[i], C.orientation[i]))\n",
    "\n",
    "C.subs(b4, -1)"
   ]
  },
  {
   "cell_type": "code",
   "execution_count": 58,
   "id": "fc571c64-18a1-41a6-92e5-28bca9ea12ca",
   "metadata": {},
   "outputs": [
    {
     "name": "stdout",
     "output_type": "stream",
     "text": [
      "facet number: 6\n"
     ]
    },
    {
     "data": {
      "text/latex": [
       "$\\displaystyle 1 - d_{4} = 1$"
      ],
      "text/plain": [
       "Eq(1 - d4, 1)"
      ]
     },
     "metadata": {},
     "output_type": "display_data"
    }
   ],
   "source": [
    "i=6\n",
    "print('facet number:', i)\n",
    "display(sp.Eq(C.determinants[i], C.orientation[i]))\n",
    "\n",
    "C.subs(d4, 0)"
   ]
  },
  {
   "cell_type": "code",
   "execution_count": 59,
   "id": "4c15019a-70e0-482f-8ebd-cdf96100fce1",
   "metadata": {},
   "outputs": [
    {
     "name": "stdout",
     "output_type": "stream",
     "text": [
      "facet number: 16\n"
     ]
    },
    {
     "data": {
      "text/latex": [
       "$\\displaystyle - d_{1} = -1$"
      ],
      "text/plain": [
       "Eq(-d1, -1)"
      ]
     },
     "metadata": {},
     "output_type": "display_data"
    }
   ],
   "source": [
    "i=16\n",
    "print('facet number:', i)\n",
    "display(sp.Eq(C.determinants[i], C.orientation[i]))\n",
    "\n",
    "C.subs(d1, 1)"
   ]
  },
  {
   "cell_type": "code",
   "execution_count": 60,
   "id": "9b747dbd-9111-4b55-89cb-33901a390881",
   "metadata": {},
   "outputs": [
    {
     "name": "stdout",
     "output_type": "stream",
     "text": [
      "facet number: 17\n"
     ]
    },
    {
     "data": {
      "text/latex": [
       "$\\displaystyle - c_{4} - 1 = -1$"
      ],
      "text/plain": [
       "Eq(-c4 - 1, -1)"
      ]
     },
     "metadata": {},
     "output_type": "display_data"
    }
   ],
   "source": [
    "i=17\n",
    "print('facet number:', i)\n",
    "display(sp.Eq(C.determinants[i], C.orientation[i]))\n",
    "\n",
    "C.subs(c4, 0)"
   ]
  },
  {
   "cell_type": "code",
   "execution_count": 61,
   "id": "fe163f76-af02-4bdd-a624-2a98e303becd",
   "metadata": {},
   "outputs": [
    {
     "name": "stdout",
     "output_type": "stream",
     "text": [
      "facet number: 23\n"
     ]
    },
    {
     "data": {
      "text/latex": [
       "$\\displaystyle d_{0} + 1 = 1$"
      ],
      "text/plain": [
       "Eq(d0 + 1, 1)"
      ]
     },
     "metadata": {},
     "output_type": "display_data"
    }
   ],
   "source": [
    "i=23\n",
    "print('facet number:', i)\n",
    "display(sp.Eq(C.determinants[i], C.orientation[i]))\n",
    "\n",
    "C.subs(d0, 0)"
   ]
  },
  {
   "cell_type": "code",
   "execution_count": 63,
   "id": "3ccfcd05-d73e-448a-8852-1cd4daa7692d",
   "metadata": {},
   "outputs": [
    {
     "data": {
      "text/latex": [
       "$\\displaystyle \\left[\\begin{matrix}1 & 0 & 0 & 0 & 0 & 0 & -1 & -1 & 0\\\\0 & 1 & 0 & 0 & 0 & -1 & -1 & 0 & 1\\\\0 & 0 & 1 & 0 & 0 & 1 & 0 & -1 & -1\\\\0 & 0 & 0 & 1 & 0 & 1 & 0 & -1 & 0\\\\0 & 0 & 0 & 0 & 1 & -1 & -1 & 0 & 0\\end{matrix}\\right]$"
      ],
      "text/plain": [
       "Matrix([\n",
       "[1, 0, 0, 0, 0,  0, -1, -1,  0],\n",
       "[0, 1, 0, 0, 0, -1, -1,  0,  1],\n",
       "[0, 0, 1, 0, 0,  1,  0, -1, -1],\n",
       "[0, 0, 0, 1, 0,  1,  0, -1,  0],\n",
       "[0, 0, 0, 0, 1, -1, -1,  0,  0]])"
      ]
     },
     "metadata": {},
     "output_type": "display_data"
    },
    {
     "name": "stdout",
     "output_type": "stream",
     "text": [
      "1\n"
     ]
    }
   ],
   "source": [
    "display(C.char)\n",
    "print(C.is_fangiving)\n",
    "fans.append(C.char)"
   ]
  },
  {
   "cell_type": "markdown",
   "id": "8ab52fdb-bc4c-4dda-b92f-0a47dd32949d",
   "metadata": {
    "jp-MarkdownHeadingCollapsed": true
   },
   "source": [
    "# Type 4 of the projection"
   ]
  },
  {
   "cell_type": "code",
   "execution_count": 64,
   "id": "e5fe9134-df6a-4757-9aca-11bec84d13eb",
   "metadata": {},
   "outputs": [
    {
     "data": {
      "text/latex": [
       "$\\displaystyle \\left[\\begin{matrix}1 & 0 & 0 & 0 & a_{0} & -1 & c_{0} & d_{0}\\\\0 & 1 & 0 & 0 & -1 & b_{1} & c_{1} & d_{1}\\\\0 & 0 & 1 & 0 & a_{2} & b_{2} & c_{2} & -1\\\\0 & 0 & 0 & 1 & a_{3} & b_{3} & -1 & d_{3}\\end{matrix}\\right] = \\left[\\begin{matrix}1 & 0 & 0 & 0 & 0 & -1 & 0 & 1\\\\0 & 1 & 0 & 0 & -1 & b_{1} & 1 & 2\\\\0 & 0 & 1 & 0 & 1 & - b_{1} - 1 & -1 & -1\\\\0 & 0 & 0 & 1 & 1 & - b_{1} - 1 & -1 & 0\\end{matrix}\\right]$"
      ],
      "text/plain": [
       "Eq(Matrix([\n",
       "[1, 0, 0, 0, a0, -1, c0, d0],\n",
       "[0, 1, 0, 0, -1, b1, c1, d1],\n",
       "[0, 0, 1, 0, a2, b2, c2, -1],\n",
       "[0, 0, 0, 1, a3, b3, -1, d3]]), Matrix([\n",
       "[1, 0, 0, 0,  0,      -1,  0,  1],\n",
       "[0, 1, 0, 0, -1,      b1,  1,  2],\n",
       "[0, 0, 1, 0,  1, -b1 - 1, -1, -1],\n",
       "[0, 0, 0, 1,  1, -b1 - 1, -1,  0]]))"
      ]
     },
     "metadata": {},
     "output_type": "display_data"
    }
   ],
   "source": [
    "C1 = copy.deepcopy(C0)\n",
    "C = C1\n",
    "t=4\n",
    "\n",
    "proj = C.proj([projectied_vertex])\n",
    "with sp.evaluate(False):\n",
    "    display(sp.Eq(proj, fans_link[t]))"
   ]
  },
  {
   "cell_type": "code",
   "execution_count": 65,
   "id": "7a643392-c5ec-448c-8a8b-e6734e1c83e8",
   "metadata": {},
   "outputs": [
    {
     "data": {
      "text/latex": [
       "$\\displaystyle \\text{True}$"
      ],
      "text/plain": [
       "True"
      ]
     },
     "metadata": {},
     "output_type": "display_data"
    }
   ],
   "source": [
    "C.subs(a0, 0)\n",
    "C.subs(a2, 1)\n",
    "C.subs(a3, 1)\n",
    "C.subs(b2, -b1-1)\n",
    "C.subs(b3, -b1-1)\n",
    "C.subs(c0, 0)\n",
    "C.subs(c1, 1)\n",
    "C.subs(c2, -1)\n",
    "C.subs(d0, 1)\n",
    "C.subs(d1, 2)\n",
    "C.subs(d3, 0)\n",
    "\n",
    "display(sp.Eq(C.proj([projectied_vertex]), fans_link[t]))"
   ]
  },
  {
   "cell_type": "code",
   "execution_count": 66,
   "id": "50692365-6f6c-4a2f-a785-488122b3b354",
   "metadata": {},
   "outputs": [
    {
     "name": "stdout",
     "output_type": "stream",
     "text": [
      "facet number: 6\n"
     ]
    },
    {
     "data": {
      "text/latex": [
       "$\\displaystyle 1 - d_{4} = 1$"
      ],
      "text/plain": [
       "Eq(1 - d4, 1)"
      ]
     },
     "metadata": {},
     "output_type": "display_data"
    }
   ],
   "source": [
    "i=6\n",
    "print('facet number:', i)\n",
    "display(sp.Eq(C.determinants[i], C.orientation[i]))\n",
    "\n",
    "C.subs(d4, 0)"
   ]
  },
  {
   "cell_type": "code",
   "execution_count": 67,
   "id": "fcab34cb-f691-4645-a2d5-2d0f770e5f8a",
   "metadata": {},
   "outputs": [
    {
     "name": "stdout",
     "output_type": "stream",
     "text": [
      "facet number: 8\n"
     ]
    },
    {
     "data": {
      "text/latex": [
       "$\\displaystyle b_{1} - b_{4} + 1 = 1$"
      ],
      "text/plain": [
       "Eq(b1 - b4 + 1, 1)"
      ]
     },
     "metadata": {},
     "output_type": "display_data"
    },
    {
     "name": "stdout",
     "output_type": "stream",
     "text": [
      "facet number: 23\n"
     ]
    },
    {
     "data": {
      "text/latex": [
       "$\\displaystyle b_{1} - b_{4} + 2 = 1$"
      ],
      "text/plain": [
       "Eq(b1 - b4 + 2, 1)"
      ]
     },
     "metadata": {},
     "output_type": "display_data"
    },
    {
     "name": "stdout",
     "output_type": "stream",
     "text": [
      "no solution\n"
     ]
    }
   ],
   "source": [
    "i=8\n",
    "print('facet number:', i)\n",
    "display(sp.Eq(C.determinants[i], C.orientation[i]))\n",
    "\n",
    "i=23\n",
    "print('facet number:', i)\n",
    "display(sp.Eq(C.determinants[i], C.orientation[i]))\n",
    "\n",
    "print('no solution')"
   ]
  },
  {
   "cell_type": "markdown",
   "id": "57001740-048a-4cbb-bd6b-6092144394f6",
   "metadata": {
    "jp-MarkdownHeadingCollapsed": true
   },
   "source": [
    "# Type 5 of the projection"
   ]
  },
  {
   "cell_type": "code",
   "execution_count": 68,
   "id": "1402029f-d56d-4b42-b109-f58e1fa50ec3",
   "metadata": {},
   "outputs": [
    {
     "data": {
      "text/latex": [
       "$\\displaystyle \\left[\\begin{matrix}1 & 0 & 0 & 0 & a_{0} & -1 & c_{0} & d_{0}\\\\0 & 1 & 0 & 0 & -1 & b_{1} & c_{1} & d_{1}\\\\0 & 0 & 1 & 0 & a_{2} & b_{2} & c_{2} & -1\\\\0 & 0 & 0 & 1 & a_{3} & b_{3} & -1 & d_{3}\\end{matrix}\\right] = \\left[\\begin{matrix}1 & 0 & 0 & 0 & 0 & -1 & -1 & 0\\\\0 & 1 & 0 & 0 & -1 & -1 & -1 & 0\\\\0 & 0 & 1 & 0 & c_{2} + 2 & c_{2} + 1 & c_{2} & -1\\\\0 & 0 & 0 & 1 & 1 & 0 & -1 & 0\\end{matrix}\\right]$"
      ],
      "text/plain": [
       "Eq(Matrix([\n",
       "[1, 0, 0, 0, a0, -1, c0, d0],\n",
       "[0, 1, 0, 0, -1, b1, c1, d1],\n",
       "[0, 0, 1, 0, a2, b2, c2, -1],\n",
       "[0, 0, 0, 1, a3, b3, -1, d3]]), Matrix([\n",
       "[1, 0, 0, 0,      0,     -1, -1,  0],\n",
       "[0, 1, 0, 0,     -1,     -1, -1,  0],\n",
       "[0, 0, 1, 0, c2 + 2, c2 + 1, c2, -1],\n",
       "[0, 0, 0, 1,      1,      0, -1,  0]]))"
      ]
     },
     "metadata": {},
     "output_type": "display_data"
    }
   ],
   "source": [
    "C1 = copy.deepcopy(C0)\n",
    "C = C1\n",
    "t=5\n",
    "\n",
    "proj = C.proj([projectied_vertex])\n",
    "with sp.evaluate(False):\n",
    "    display(sp.Eq(proj, fans_link[t]))"
   ]
  },
  {
   "cell_type": "code",
   "execution_count": 69,
   "id": "2121d48f-262f-4026-887d-b7bdf70d576d",
   "metadata": {},
   "outputs": [
    {
     "data": {
      "text/latex": [
       "$\\displaystyle \\text{True}$"
      ],
      "text/plain": [
       "True"
      ]
     },
     "metadata": {},
     "output_type": "display_data"
    }
   ],
   "source": [
    "C.subs(a0, 0)\n",
    "C.subs(a2, c2+2)\n",
    "C.subs(a3, 1)\n",
    "C.subs(b1, -1)\n",
    "C.subs(b2, c2+1)\n",
    "C.subs(b3, 0)\n",
    "C.subs(c0, -1)\n",
    "C.subs(c1, -1)\n",
    "C.subs(d0, 0)\n",
    "C.subs(d1, 0)\n",
    "C.subs(d3, 0)\n",
    "\n",
    "display(sp.Eq(C.proj([projectied_vertex]), fans_link[t]))"
   ]
  },
  {
   "cell_type": "code",
   "execution_count": 70,
   "id": "6086cb94-02c4-4191-8680-c8a85764d5ac",
   "metadata": {},
   "outputs": [
    {
     "name": "stdout",
     "output_type": "stream",
     "text": [
      "facet number: 3\n"
     ]
    },
    {
     "data": {
      "text/latex": [
       "$\\displaystyle b_{4} = -1$"
      ],
      "text/plain": [
       "Eq(b4, -1)"
      ]
     },
     "metadata": {},
     "output_type": "display_data"
    }
   ],
   "source": [
    "i=3\n",
    "print('facet number:', i)\n",
    "display(sp.Eq(C.determinants[i], C.orientation[i]))\n",
    "\n",
    "C.subs(b4, -1)"
   ]
  },
  {
   "cell_type": "code",
   "execution_count": 71,
   "id": "f9b8d101-f6ed-4184-af48-5e4d8214a33d",
   "metadata": {},
   "outputs": [
    {
     "name": "stdout",
     "output_type": "stream",
     "text": [
      "facet number: 16\n"
     ]
    },
    {
     "data": {
      "text/latex": [
       "$\\displaystyle d_{4} = -1$"
      ],
      "text/plain": [
       "Eq(d4, -1)"
      ]
     },
     "metadata": {},
     "output_type": "display_data"
    }
   ],
   "source": [
    "i=16\n",
    "print('facet number:', i)\n",
    "display(sp.Eq(C.determinants[i], C.orientation[i]))\n",
    "\n",
    "C.subs(d4, -1)"
   ]
  },
  {
   "cell_type": "code",
   "execution_count": 72,
   "id": "e21a9af2-d20e-44c8-a2e1-95b13f2ef7a1",
   "metadata": {},
   "outputs": [
    {
     "name": "stdout",
     "output_type": "stream",
     "text": [
      "facet number: 6\n"
     ]
    },
    {
     "data": {
      "text/latex": [
       "$\\displaystyle c_{2} + 3 = 1$"
      ],
      "text/plain": [
       "Eq(c2 + 3, 1)"
      ]
     },
     "metadata": {},
     "output_type": "display_data"
    },
    {
     "name": "stdout",
     "output_type": "stream",
     "text": [
      "facet number: 8\n"
     ]
    },
    {
     "data": {
      "text/latex": [
       "$\\displaystyle c_{2} + 2 = 1$"
      ],
      "text/plain": [
       "Eq(c2 + 2, 1)"
      ]
     },
     "metadata": {},
     "output_type": "display_data"
    },
    {
     "name": "stdout",
     "output_type": "stream",
     "text": [
      "no solution\n"
     ]
    }
   ],
   "source": [
    "i=6\n",
    "print('facet number:', i)\n",
    "display(sp.Eq(C.determinants[i], C.orientation[i]))\n",
    "\n",
    "i=8\n",
    "print('facet number:', i)\n",
    "display(sp.Eq(C.determinants[i], C.orientation[i]))\n",
    "\n",
    "print('no solution')"
   ]
  },
  {
   "cell_type": "markdown",
   "id": "3d775529-1950-48f5-a17e-9375d5ad7273",
   "metadata": {
    "jp-MarkdownHeadingCollapsed": true
   },
   "source": [
    "# Type 6 of the projection"
   ]
  },
  {
   "cell_type": "code",
   "execution_count": 73,
   "id": "ac99d4de-fccc-429f-a055-d21ae0c5949d",
   "metadata": {},
   "outputs": [
    {
     "data": {
      "text/latex": [
       "$\\displaystyle \\left[\\begin{matrix}1 & 0 & 0 & 0 & a_{0} & -1 & c_{0} & d_{0}\\\\0 & 1 & 0 & 0 & -1 & b_{1} & c_{1} & d_{1}\\\\0 & 0 & 1 & 0 & a_{2} & b_{2} & c_{2} & -1\\\\0 & 0 & 0 & 1 & a_{3} & b_{3} & -1 & d_{3}\\end{matrix}\\right] = \\left[\\begin{matrix}1 & 0 & 0 & 0 & 0 & -1 & - c_{2} - 1 & 1\\\\0 & 1 & 0 & 0 & -1 & -1 & - c_{2} - 1 & 1\\\\0 & 0 & 1 & 0 & 2 & 1 & c_{2} & -1\\\\0 & 0 & 0 & 1 & 1 & 0 & -1 & 0\\end{matrix}\\right]$"
      ],
      "text/plain": [
       "Eq(Matrix([\n",
       "[1, 0, 0, 0, a0, -1, c0, d0],\n",
       "[0, 1, 0, 0, -1, b1, c1, d1],\n",
       "[0, 0, 1, 0, a2, b2, c2, -1],\n",
       "[0, 0, 0, 1, a3, b3, -1, d3]]), Matrix([\n",
       "[1, 0, 0, 0,  0, -1, -c2 - 1,  1],\n",
       "[0, 1, 0, 0, -1, -1, -c2 - 1,  1],\n",
       "[0, 0, 1, 0,  2,  1,      c2, -1],\n",
       "[0, 0, 0, 1,  1,  0,      -1,  0]]))"
      ]
     },
     "metadata": {},
     "output_type": "display_data"
    }
   ],
   "source": [
    "C1 = copy.deepcopy(C0)\n",
    "C = C1\n",
    "t=6\n",
    "\n",
    "proj = C.proj([projectied_vertex])\n",
    "with sp.evaluate(False):\n",
    "    display(sp.Eq(proj, fans_link[t]))"
   ]
  },
  {
   "cell_type": "code",
   "execution_count": 74,
   "id": "6ffdb9c3-053b-4d5a-9f59-7e34065c57d7",
   "metadata": {},
   "outputs": [
    {
     "data": {
      "text/latex": [
       "$\\displaystyle \\text{True}$"
      ],
      "text/plain": [
       "True"
      ]
     },
     "metadata": {},
     "output_type": "display_data"
    }
   ],
   "source": [
    "C.subs(a0, 0)\n",
    "C.subs(a2, 2)\n",
    "C.subs(a3, 1)\n",
    "C.subs(b1, -1)\n",
    "C.subs(b2, 1)\n",
    "C.subs(b3, 0)\n",
    "C.subs(c0, -c2-1)\n",
    "C.subs(c1, -c2-1)\n",
    "C.subs(d0, 1)\n",
    "C.subs(d1, 1)\n",
    "C.subs(d3, 0)\n",
    "\n",
    "display(sp.Eq(C.proj([projectied_vertex]), fans_link[t]))"
   ]
  },
  {
   "cell_type": "code",
   "execution_count": 75,
   "id": "f17c963f-62c9-40a3-bc06-cffbd5fab104",
   "metadata": {},
   "outputs": [
    {
     "name": "stdout",
     "output_type": "stream",
     "text": [
      "facet number: 3\n"
     ]
    },
    {
     "data": {
      "text/latex": [
       "$\\displaystyle b_{4} = -1$"
      ],
      "text/plain": [
       "Eq(b4, -1)"
      ]
     },
     "metadata": {},
     "output_type": "display_data"
    }
   ],
   "source": [
    "i=3\n",
    "print('facet number:', i)\n",
    "display(sp.Eq(C.determinants[i], C.orientation[i]))\n",
    "\n",
    "C.subs(b4, -1)"
   ]
  },
  {
   "cell_type": "code",
   "execution_count": 76,
   "id": "4af73ed9-bb4c-4e01-9eb7-0f77490ab1cf",
   "metadata": {},
   "outputs": [
    {
     "name": "stdout",
     "output_type": "stream",
     "text": [
      "facet number: 6\n"
     ]
    },
    {
     "data": {
      "text/latex": [
       "$\\displaystyle 1 - 2 d_{4} = 1$"
      ],
      "text/plain": [
       "Eq(1 - 2*d4, 1)"
      ]
     },
     "metadata": {},
     "output_type": "display_data"
    },
    {
     "name": "stdout",
     "output_type": "stream",
     "text": [
      "facet number: 8\n"
     ]
    },
    {
     "data": {
      "text/latex": [
       "$\\displaystyle 1 - d_{4} = 1$"
      ],
      "text/plain": [
       "Eq(1 - d4, 1)"
      ]
     },
     "metadata": {},
     "output_type": "display_data"
    },
    {
     "name": "stdout",
     "output_type": "stream",
     "text": [
      "no solution\n"
     ]
    }
   ],
   "source": [
    "i=6\n",
    "print('facet number:', i)\n",
    "display(sp.Eq(C.determinants[i], C.orientation[i]))\n",
    "\n",
    "i=8\n",
    "print('facet number:', i)\n",
    "display(sp.Eq(C.determinants[i], C.orientation[i]))\n",
    "\n",
    "print('no solution')"
   ]
  },
  {
   "cell_type": "markdown",
   "id": "9b8590f3-d93a-4249-ae81-982db5b374cb",
   "metadata": {
    "jp-MarkdownHeadingCollapsed": true
   },
   "source": [
    "# Type 7 of the projection"
   ]
  },
  {
   "cell_type": "code",
   "execution_count": 90,
   "id": "5e575465-867d-444a-98cc-2856cdc63d6a",
   "metadata": {},
   "outputs": [
    {
     "data": {
      "text/latex": [
       "$\\displaystyle \\left[\\begin{matrix}1 & 0 & 0 & 0 & a_{0} & -1 & c_{0} & d_{0}\\\\0 & 1 & 0 & 0 & -1 & b_{1} & c_{1} & d_{1}\\\\0 & 0 & 1 & 0 & a_{2} & b_{2} & c_{2} & -1\\\\0 & 0 & 0 & 1 & a_{3} & b_{3} & -1 & d_{3}\\end{matrix}\\right] = \\left[\\begin{matrix}1 & 0 & 0 & 0 & 0 & -1 & 0 & 1\\\\0 & 1 & 0 & 0 & -1 & -1 & 0 & 1\\\\0 & 0 & 1 & 0 & a_{2} & a_{2} - 1 & -1 & -1\\\\0 & 0 & 0 & 1 & a_{3} & a_{3} - 1 & -1 & 0\\end{matrix}\\right]$"
      ],
      "text/plain": [
       "Eq(Matrix([\n",
       "[1, 0, 0, 0, a0, -1, c0, d0],\n",
       "[0, 1, 0, 0, -1, b1, c1, d1],\n",
       "[0, 0, 1, 0, a2, b2, c2, -1],\n",
       "[0, 0, 0, 1, a3, b3, -1, d3]]), Matrix([\n",
       "[1, 0, 0, 0,  0,     -1,  0,  1],\n",
       "[0, 1, 0, 0, -1,     -1,  0,  1],\n",
       "[0, 0, 1, 0, a2, a2 - 1, -1, -1],\n",
       "[0, 0, 0, 1, a3, a3 - 1, -1,  0]]))"
      ]
     },
     "metadata": {},
     "output_type": "display_data"
    }
   ],
   "source": [
    "C1 = copy.deepcopy(C0)\n",
    "C = C1\n",
    "t=7\n",
    "\n",
    "proj = C.proj([projectied_vertex])\n",
    "with sp.evaluate(False):\n",
    "    display(sp.Eq(proj, fans_link[t]))"
   ]
  },
  {
   "cell_type": "code",
   "execution_count": 91,
   "id": "02edc5f0-f952-4909-b58b-2a84a40e0cd3",
   "metadata": {},
   "outputs": [
    {
     "data": {
      "text/latex": [
       "$\\displaystyle \\text{True}$"
      ],
      "text/plain": [
       "True"
      ]
     },
     "metadata": {},
     "output_type": "display_data"
    }
   ],
   "source": [
    "C.subs(a0, 0)\n",
    "C.subs(b1, -1)\n",
    "C.subs(b2, a2-1)\n",
    "C.subs(b3, a3-1)\n",
    "C.subs(c0, 0)\n",
    "C.subs(c1, 0)\n",
    "C.subs(c2, -1)\n",
    "C.subs(d0, 1)\n",
    "C.subs(d1, 1)\n",
    "C.subs(d3, 0)\n",
    "\n",
    "display(sp.Eq(C.proj([projectied_vertex]), fans_link[t]))"
   ]
  },
  {
   "cell_type": "code",
   "execution_count": 93,
   "id": "8bb1ce49-6baa-4b1e-a9ee-ce0556c64268",
   "metadata": {},
   "outputs": [
    {
     "name": "stdout",
     "output_type": "stream",
     "text": [
      "facet number: 6\n"
     ]
    },
    {
     "data": {
      "text/latex": [
       "$\\displaystyle - a_{2} d_{4} + 1 = 1$"
      ],
      "text/plain": [
       "Eq(-a2*d4 + 1, 1)"
      ]
     },
     "metadata": {},
     "output_type": "display_data"
    },
    {
     "name": "stdout",
     "output_type": "stream",
     "text": [
      "facet number: 23\n"
     ]
    },
    {
     "data": {
      "text/latex": [
       "$\\displaystyle - a_{2} b_{4} - a_{2} d_{4} - a_{2} + 2 = 1$"
      ],
      "text/plain": [
       "Eq(-a2*b4 - a2*d4 - a2 + 2, 1)"
      ]
     },
     "metadata": {},
     "output_type": "display_data"
    }
   ],
   "source": [
    "i=6\n",
    "print('facet number:', i)\n",
    "display(sp.Eq(C.determinants[i], C.orientation[i]))\n",
    "\n",
    "i=23\n",
    "print('facet number:', i)\n",
    "display(sp.Eq(C.determinants[i], C.orientation[i]))\n",
    "\n",
    "C.subs(d4, 0)"
   ]
  },
  {
   "cell_type": "code",
   "execution_count": 94,
   "id": "dbb26db0-3780-40e7-89cd-15e4a70a95b6",
   "metadata": {},
   "outputs": [
    {
     "name": "stdout",
     "output_type": "stream",
     "text": [
      "facet number: 16\n"
     ]
    },
    {
     "data": {
      "text/latex": [
       "$\\displaystyle a_{2} b_{4} + a_{2} - b_{4} - 2 = -1$"
      ],
      "text/plain": [
       "Eq(a2*b4 + a2 - b4 - 2, -1)"
      ]
     },
     "metadata": {},
     "output_type": "display_data"
    },
    {
     "name": "stdout",
     "output_type": "stream",
     "text": [
      "facet number: 23\n"
     ]
    },
    {
     "data": {
      "text/latex": [
       "$\\displaystyle - a_{2} b_{4} - a_{2} + 2 = 1$"
      ],
      "text/plain": [
       "Eq(-a2*b4 - a2 + 2, 1)"
      ]
     },
     "metadata": {},
     "output_type": "display_data"
    },
    {
     "data": {
      "text/latex": [
       "$\\displaystyle - b_{4} = 0$"
      ],
      "text/plain": [
       "Eq(-b4, 0)"
      ]
     },
     "metadata": {},
     "output_type": "display_data"
    }
   ],
   "source": [
    "i=16\n",
    "print('facet number:', i)\n",
    "display(sp.Eq(C.determinants[i], C.orientation[i]))\n",
    "\n",
    "i=23\n",
    "print('facet number:', i)\n",
    "display(sp.Eq(C.determinants[i], C.orientation[i]))\n",
    "\n",
    "display(sp.Eq(C.determinants[16] + C.determinants[23], C.orientation[16] + C.orientation[23]))\n",
    "\n",
    "C.subs(b4, 0)"
   ]
  },
  {
   "cell_type": "code",
   "execution_count": 95,
   "id": "6eeaa953-b2b8-4f3d-ab86-de5db003e6b9",
   "metadata": {},
   "outputs": [
    {
     "name": "stdout",
     "output_type": "stream",
     "text": [
      "facet number: 3\n"
     ]
    },
    {
     "data": {
      "text/latex": [
       "$\\displaystyle a_{3} - 1 = -1$"
      ],
      "text/plain": [
       "Eq(a3 - 1, -1)"
      ]
     },
     "metadata": {},
     "output_type": "display_data"
    }
   ],
   "source": [
    "i=3\n",
    "print('facet number:', i)\n",
    "display(sp.Eq(C.determinants[i], C.orientation[i]))\n",
    "\n",
    "C.subs(a3, 0)"
   ]
  },
  {
   "cell_type": "code",
   "execution_count": 96,
   "id": "25c91f97-5b63-4d1a-a306-cf8978cc5fae",
   "metadata": {},
   "outputs": [
    {
     "name": "stdout",
     "output_type": "stream",
     "text": [
      "facet number: 9\n"
     ]
    },
    {
     "data": {
      "text/latex": [
       "$\\displaystyle c_{4} = 1$"
      ],
      "text/plain": [
       "Eq(c4, 1)"
      ]
     },
     "metadata": {},
     "output_type": "display_data"
    }
   ],
   "source": [
    "i=9\n",
    "print('facet number:', i)\n",
    "display(sp.Eq(C.determinants[i], C.orientation[i]))\n",
    "\n",
    "C.subs(c4, 1)"
   ]
  },
  {
   "cell_type": "code",
   "execution_count": 97,
   "id": "472c7bf3-4e7d-4619-b426-f309c7c79390",
   "metadata": {},
   "outputs": [
    {
     "name": "stdout",
     "output_type": "stream",
     "text": [
      "facet number: 16\n"
     ]
    },
    {
     "data": {
      "text/latex": [
       "$\\displaystyle a_{2} - 2 = -1$"
      ],
      "text/plain": [
       "Eq(a2 - 2, -1)"
      ]
     },
     "metadata": {},
     "output_type": "display_data"
    }
   ],
   "source": [
    "i=16\n",
    "print('facet number:', i)\n",
    "display(sp.Eq(C.determinants[i], C.orientation[i]))\n",
    "\n",
    "C.subs(a2, 1)"
   ]
  },
  {
   "cell_type": "code",
   "execution_count": 88,
   "id": "5f78392e-c6fa-4d05-8af5-2757b64a7a91",
   "metadata": {},
   "outputs": [
    {
     "data": {
      "text/latex": [
       "$\\displaystyle \\left[\\begin{matrix}1 & 0 & 0 & 0 & 0 & 0 & -1 & 0 & 1\\\\0 & 1 & 0 & 0 & 0 & -1 & -1 & 0 & 1\\\\0 & 0 & 1 & 0 & 0 & 1 & 0 & -1 & -1\\\\0 & 0 & 0 & 1 & 0 & 0 & -1 & -1 & 0\\\\0 & 0 & 0 & 0 & 1 & -1 & 0 & 1 & 0\\end{matrix}\\right]$"
      ],
      "text/plain": [
       "Matrix([\n",
       "[1, 0, 0, 0, 0,  0, -1,  0,  1],\n",
       "[0, 1, 0, 0, 0, -1, -1,  0,  1],\n",
       "[0, 0, 1, 0, 0,  1,  0, -1, -1],\n",
       "[0, 0, 0, 1, 0,  0, -1, -1,  0],\n",
       "[0, 0, 0, 0, 1, -1,  0,  1,  0]])"
      ]
     },
     "metadata": {},
     "output_type": "display_data"
    },
    {
     "name": "stdout",
     "output_type": "stream",
     "text": [
      "1\n"
     ]
    }
   ],
   "source": [
    "display(C.char)\n",
    "print(C.is_fangiving)\n",
    "fans.append(C.char)"
   ]
  },
  {
   "cell_type": "markdown",
   "id": "4f26fee5-c29b-45b7-8b10-90384808406e",
   "metadata": {
    "jp-MarkdownHeadingCollapsed": true
   },
   "source": [
    "# There are 4 types of fans up to D-J equivalence"
   ]
  },
  {
   "cell_type": "code",
   "execution_count": 98,
   "id": "70a6fda2-396f-4fc1-a2c6-b7b385d8319f",
   "metadata": {},
   "outputs": [
    {
     "data": {
      "text/latex": [
       "$\\displaystyle \\left[\\begin{matrix}1 & 0 & 0 & 0 & 0 & -1 & -1 & 0 & 1\\\\0 & 1 & 0 & 0 & 0 & -1 & 0 & 1 & 2\\\\0 & 0 & 1 & 0 & 0 & 0 & -1 & -1 & -1\\\\0 & 0 & 0 & 1 & 0 & 0 & -1 & -1 & 0\\\\0 & 0 & 0 & 0 & 1 & -1 & 0 & 1 & 1\\end{matrix}\\right]$"
      ],
      "text/plain": [
       "Matrix([\n",
       "[1, 0, 0, 0, 0, -1, -1,  0,  1],\n",
       "[0, 1, 0, 0, 0, -1,  0,  1,  2],\n",
       "[0, 0, 1, 0, 0,  0, -1, -1, -1],\n",
       "[0, 0, 0, 1, 0,  0, -1, -1,  0],\n",
       "[0, 0, 0, 0, 1, -1,  0,  1,  1]])"
      ]
     },
     "metadata": {},
     "output_type": "display_data"
    },
    {
     "data": {
      "text/latex": [
       "$\\displaystyle \\left[\\begin{matrix}1 & 0 & 0 & 0 & 0 & 0 & -1 & -1 & 0\\\\0 & 1 & 0 & 0 & 0 & -1 & -1 & -1 & 1\\\\0 & 0 & 1 & 0 & 0 & 2 & 1 & 0 & -1\\\\0 & 0 & 0 & 1 & 0 & 1 & 0 & -1 & 0\\\\0 & 0 & 0 & 0 & 1 & -1 & -1 & 0 & 0\\end{matrix}\\right]$"
      ],
      "text/plain": [
       "Matrix([\n",
       "[1, 0, 0, 0, 0,  0, -1, -1,  0],\n",
       "[0, 1, 0, 0, 0, -1, -1, -1,  1],\n",
       "[0, 0, 1, 0, 0,  2,  1,  0, -1],\n",
       "[0, 0, 0, 1, 0,  1,  0, -1,  0],\n",
       "[0, 0, 0, 0, 1, -1, -1,  0,  0]])"
      ]
     },
     "metadata": {},
     "output_type": "display_data"
    },
    {
     "data": {
      "text/latex": [
       "$\\displaystyle \\left[\\begin{matrix}1 & 0 & 0 & 0 & 0 & 0 & -1 & -1 & 0\\\\0 & 1 & 0 & 0 & 0 & -1 & -1 & 0 & 1\\\\0 & 0 & 1 & 0 & 0 & 1 & 0 & -1 & -1\\\\0 & 0 & 0 & 1 & 0 & 1 & 0 & -1 & 0\\\\0 & 0 & 0 & 0 & 1 & -1 & -1 & 0 & 0\\end{matrix}\\right]$"
      ],
      "text/plain": [
       "Matrix([\n",
       "[1, 0, 0, 0, 0,  0, -1, -1,  0],\n",
       "[0, 1, 0, 0, 0, -1, -1,  0,  1],\n",
       "[0, 0, 1, 0, 0,  1,  0, -1, -1],\n",
       "[0, 0, 0, 1, 0,  1,  0, -1,  0],\n",
       "[0, 0, 0, 0, 1, -1, -1,  0,  0]])"
      ]
     },
     "metadata": {},
     "output_type": "display_data"
    },
    {
     "data": {
      "text/latex": [
       "$\\displaystyle \\left[\\begin{matrix}1 & 0 & 0 & 0 & 0 & 0 & -1 & 0 & 1\\\\0 & 1 & 0 & 0 & 0 & -1 & -1 & 0 & 1\\\\0 & 0 & 1 & 0 & 0 & 1 & 0 & -1 & -1\\\\0 & 0 & 0 & 1 & 0 & 0 & -1 & -1 & 0\\\\0 & 0 & 0 & 0 & 1 & -1 & 0 & 1 & 0\\end{matrix}\\right]$"
      ],
      "text/plain": [
       "Matrix([\n",
       "[1, 0, 0, 0, 0,  0, -1,  0,  1],\n",
       "[0, 1, 0, 0, 0, -1, -1,  0,  1],\n",
       "[0, 0, 1, 0, 0,  1,  0, -1, -1],\n",
       "[0, 0, 0, 1, 0,  0, -1, -1,  0],\n",
       "[0, 0, 0, 0, 1, -1,  0,  1,  0]])"
      ]
     },
     "metadata": {},
     "output_type": "display_data"
    }
   ],
   "source": [
    "for f in fans:\n",
    "    display(f)"
   ]
  },
  {
   "cell_type": "markdown",
   "id": "0d8d8e04-5f3e-41c1-aef0-63fbe399e3b0",
   "metadata": {
    "jp-MarkdownHeadingCollapsed": true
   },
   "source": [
    "# There are 3 types of fans up to D-J equivalence and symmetry"
   ]
  },
  {
   "cell_type": "code",
   "execution_count": 99,
   "id": "abf8f74a-910d-47f9-87db-44b49951c7fb",
   "metadata": {},
   "outputs": [
    {
     "data": {
      "text/plain": [
       "[[1, 2, 3, 4, 5, 6, 7, 8, 9], [1, 7, 8, 4, 5, 9, 2, 3, 6]]"
      ]
     },
     "execution_count": 99,
     "metadata": {},
     "output_type": "execute_result"
    }
   ],
   "source": [
    "K.symmetries"
   ]
  },
  {
   "cell_type": "code",
   "execution_count": 100,
   "id": "f95934a9-dbf1-44f3-9eb1-a3704b841528",
   "metadata": {},
   "outputs": [],
   "source": [
    "symm_index = [(np.array(i)-1).tolist() for i in K.symmetries]"
   ]
  },
  {
   "cell_type": "markdown",
   "id": "e13a7f3c-8f33-4b1b-9640-bb164aba42ce",
   "metadata": {
    "jp-MarkdownHeadingCollapsed": true
   },
   "source": [
    "## types 0, 1"
   ]
  },
  {
   "cell_type": "code",
   "execution_count": 101,
   "id": "c342a63d-9519-4fb8-a194-5a40485bf101",
   "metadata": {},
   "outputs": [
    {
     "data": {
      "text/latex": [
       "$\\displaystyle \\left[\\begin{matrix}1 & 0 & 0 & 0 & 0 & 0 & -1 & -1 & 0\\\\0 & 1 & 0 & 0 & 0 & -1 & -1 & -1 & 1\\\\0 & 0 & 1 & 0 & 0 & 2 & 1 & 0 & -1\\\\0 & 0 & 0 & 1 & 0 & 1 & 0 & -1 & 0\\\\0 & 0 & 0 & 0 & 1 & -1 & -1 & 0 & 0\\end{matrix}\\right]$"
      ],
      "text/plain": [
       "Matrix([\n",
       "[1, 0, 0, 0, 0,  0, -1, -1,  0],\n",
       "[0, 1, 0, 0, 0, -1, -1, -1,  1],\n",
       "[0, 0, 1, 0, 0,  2,  1,  0, -1],\n",
       "[0, 0, 0, 1, 0,  1,  0, -1,  0],\n",
       "[0, 0, 0, 0, 1, -1, -1,  0,  0]])"
      ]
     },
     "metadata": {},
     "output_type": "display_data"
    },
    {
     "data": {
      "text/latex": [
       "$\\displaystyle \\left[\\begin{matrix}1 & 0 & 0 & 0 & 0 & 0 & -1 & -1 & 0\\\\0 & 1 & 0 & 0 & 0 & -1 & -1 & -1 & 1\\\\0 & 0 & 1 & 0 & 0 & 2 & 1 & 0 & -1\\\\0 & 0 & 0 & 1 & 0 & 1 & 0 & -1 & 0\\\\0 & 0 & 0 & 0 & 1 & -1 & -1 & 0 & 0\\end{matrix}\\right]$"
      ],
      "text/plain": [
       "Matrix([\n",
       "[1, 0, 0, 0, 0,  0, -1, -1,  0],\n",
       "[0, 1, 0, 0, 0, -1, -1, -1,  1],\n",
       "[0, 0, 1, 0, 0,  2,  1,  0, -1],\n",
       "[0, 0, 0, 1, 0,  1,  0, -1,  0],\n",
       "[0, 0, 0, 0, 1, -1, -1,  0,  0]])"
      ]
     },
     "metadata": {},
     "output_type": "display_data"
    }
   ],
   "source": [
    "display(fans[0][:, symm_index[1]].rref()[0])\n",
    "display(fans[1])"
   ]
  },
  {
   "cell_type": "markdown",
   "id": "59ec13da-3bb4-4523-a63a-9ad7ac444d68",
   "metadata": {
    "jp-MarkdownHeadingCollapsed": true
   },
   "source": [
    "## type 2"
   ]
  },
  {
   "cell_type": "code",
   "execution_count": 103,
   "id": "57c2041f-6164-4bce-bab6-28b813adce5f",
   "metadata": {},
   "outputs": [
    {
     "data": {
      "text/latex": [
       "$\\displaystyle \\left[\\begin{matrix}1 & 0 & 0 & 0 & 0 & 0 & -1 & -1 & 0\\\\0 & 1 & 0 & 0 & 0 & -1 & -1 & 0 & 1\\\\0 & 0 & 1 & 0 & 0 & 1 & 0 & -1 & -1\\\\0 & 0 & 0 & 1 & 0 & 1 & 0 & -1 & 0\\\\0 & 0 & 0 & 0 & 1 & -1 & -1 & 0 & 0\\end{matrix}\\right]$"
      ],
      "text/plain": [
       "Matrix([\n",
       "[1, 0, 0, 0, 0,  0, -1, -1,  0],\n",
       "[0, 1, 0, 0, 0, -1, -1,  0,  1],\n",
       "[0, 0, 1, 0, 0,  1,  0, -1, -1],\n",
       "[0, 0, 0, 1, 0,  1,  0, -1,  0],\n",
       "[0, 0, 0, 0, 1, -1, -1,  0,  0]])"
      ]
     },
     "metadata": {},
     "output_type": "display_data"
    },
    {
     "data": {
      "text/latex": [
       "$\\displaystyle \\left[\\begin{matrix}1 & 0 & 0 & 0 & 0 & 0 & -1 & -1 & 0\\\\0 & 1 & 0 & 0 & 0 & -1 & -1 & 0 & 1\\\\0 & 0 & 1 & 0 & 0 & 1 & 0 & -1 & -1\\\\0 & 0 & 0 & 1 & 0 & 1 & 0 & -1 & 0\\\\0 & 0 & 0 & 0 & 1 & -1 & -1 & 0 & 0\\end{matrix}\\right]$"
      ],
      "text/plain": [
       "Matrix([\n",
       "[1, 0, 0, 0, 0,  0, -1, -1,  0],\n",
       "[0, 1, 0, 0, 0, -1, -1,  0,  1],\n",
       "[0, 0, 1, 0, 0,  1,  0, -1, -1],\n",
       "[0, 0, 0, 1, 0,  1,  0, -1,  0],\n",
       "[0, 0, 0, 0, 1, -1, -1,  0,  0]])"
      ]
     },
     "metadata": {},
     "output_type": "display_data"
    }
   ],
   "source": [
    "display(fans[2][:, symm_index[1]].rref()[0])\n",
    "display(fans[2])"
   ]
  },
  {
   "cell_type": "markdown",
   "id": "9211b49e-7ce7-41d3-b513-c3b8e3568cd7",
   "metadata": {
    "jp-MarkdownHeadingCollapsed": true
   },
   "source": [
    "## type 3"
   ]
  },
  {
   "cell_type": "code",
   "execution_count": 104,
   "id": "d1d52a6e-3aca-4049-85b3-416928f1fed6",
   "metadata": {},
   "outputs": [
    {
     "data": {
      "text/latex": [
       "$\\displaystyle \\left[\\begin{matrix}1 & 0 & 0 & 0 & 0 & 0 & -1 & 0 & 1\\\\0 & 1 & 0 & 0 & 0 & -1 & -1 & 0 & 1\\\\0 & 0 & 1 & 0 & 0 & 1 & 0 & -1 & -1\\\\0 & 0 & 0 & 1 & 0 & 0 & -1 & -1 & 0\\\\0 & 0 & 0 & 0 & 1 & -1 & 0 & 1 & 0\\end{matrix}\\right]$"
      ],
      "text/plain": [
       "Matrix([\n",
       "[1, 0, 0, 0, 0,  0, -1,  0,  1],\n",
       "[0, 1, 0, 0, 0, -1, -1,  0,  1],\n",
       "[0, 0, 1, 0, 0,  1,  0, -1, -1],\n",
       "[0, 0, 0, 1, 0,  0, -1, -1,  0],\n",
       "[0, 0, 0, 0, 1, -1,  0,  1,  0]])"
      ]
     },
     "metadata": {},
     "output_type": "display_data"
    },
    {
     "data": {
      "text/latex": [
       "$\\displaystyle \\left[\\begin{matrix}1 & 0 & 0 & 0 & 0 & 0 & -1 & 0 & 1\\\\0 & 1 & 0 & 0 & 0 & -1 & -1 & 0 & 1\\\\0 & 0 & 1 & 0 & 0 & 1 & 0 & -1 & -1\\\\0 & 0 & 0 & 1 & 0 & 0 & -1 & -1 & 0\\\\0 & 0 & 0 & 0 & 1 & -1 & 0 & 1 & 0\\end{matrix}\\right]$"
      ],
      "text/plain": [
       "Matrix([\n",
       "[1, 0, 0, 0, 0,  0, -1,  0,  1],\n",
       "[0, 1, 0, 0, 0, -1, -1,  0,  1],\n",
       "[0, 0, 1, 0, 0,  1,  0, -1, -1],\n",
       "[0, 0, 0, 1, 0,  0, -1, -1,  0],\n",
       "[0, 0, 0, 0, 1, -1,  0,  1,  0]])"
      ]
     },
     "metadata": {},
     "output_type": "display_data"
    }
   ],
   "source": [
    "display(fans[3][:, symm_index[1]].rref()[0])\n",
    "display(fans[3])"
   ]
  }
 ],
 "metadata": {
  "kernelspec": {
   "display_name": "Python 3 (ipykernel)",
   "language": "python",
   "name": "python3"
  },
  "language_info": {
   "codemirror_mode": {
    "name": "ipython",
    "version": 3
   },
   "file_extension": ".py",
   "mimetype": "text/x-python",
   "name": "python",
   "nbconvert_exporter": "python",
   "pygments_lexer": "ipython3",
   "version": "3.12.7"
  }
 },
 "nbformat": 4,
 "nbformat_minor": 5
}
