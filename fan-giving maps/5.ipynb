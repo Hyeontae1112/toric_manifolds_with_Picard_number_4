{
 "cells": [
  {
   "cell_type": "code",
   "execution_count": 1,
   "id": "18fb84c7-b3b7-4c4d-9544-3fcf3409e2e3",
   "metadata": {},
   "outputs": [],
   "source": [
    "%run programs\\\\Characteristic_Pair.py\n",
    "K = Simplicial_Complex(json.loads(read_file('programs\\\\fanlikes')[5]))"
   ]
  },
  {
   "cell_type": "code",
   "execution_count": 2,
   "id": "7dfc4a1f-d642-4ae7-9541-7d3a1ecd11ef",
   "metadata": {},
   "outputs": [
    {
     "data": {
      "text/plain": [
       "[[1, 5], [2, 6], [3, 7], [4, 8]]"
      ]
     },
     "execution_count": 2,
     "metadata": {},
     "output_type": "execute_result"
    }
   ],
   "source": [
    "K.mnf"
   ]
  },
  {
   "cell_type": "code",
   "execution_count": 3,
   "id": "7fc09bb6-4460-4523-b4b1-f458fe5fd266",
   "metadata": {},
   "outputs": [
    {
     "name": "stdout",
     "output_type": "stream",
     "text": [
      "Toric manifolds over 4-cube are Bott manifolds\n"
     ]
    }
   ],
   "source": [
    "print('Toric manifolds over 4-cube are Bott manifolds')"
   ]
  }
 ],
 "metadata": {
  "kernelspec": {
   "display_name": "Python 3 (ipykernel)",
   "language": "python",
   "name": "python3"
  },
  "language_info": {
   "codemirror_mode": {
    "name": "ipython",
    "version": 3
   },
   "file_extension": ".py",
   "mimetype": "text/x-python",
   "name": "python",
   "nbconvert_exporter": "python",
   "pygments_lexer": "ipython3",
   "version": "3.12.7"
  }
 },
 "nbformat": 4,
 "nbformat_minor": 5
}
