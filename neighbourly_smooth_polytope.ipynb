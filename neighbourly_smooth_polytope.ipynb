{
 "cells": [
  {
   "cell_type": "markdown",
   "id": "c5cf8e93",
   "metadata": {},
   "source": [
    "# Projective Neighbourly smooth polytope\n",
    "\n",
    "In this notebook, we construct a simplicial polytope whose vertices are dilations of the ray generators of a fan with associated seed being $K_{27^4}$, which is neighbourly. \n",
    "This hence provides an example of a neighbourly projective fan."
   ]
  },
  {
   "cell_type": "code",
   "execution_count": 67,
   "id": "46260fbb",
   "metadata": {},
   "outputs": [],
   "source": [
    "using Oscar\n",
    "using Polymake"
   ]
  },
  {
   "cell_type": "code",
   "execution_count": 68,
   "id": "1c7fe0f6",
   "metadata": {},
   "outputs": [
    {
     "data": {
      "text/plain": [
       "true"
      ]
     },
     "execution_count": 68,
     "metadata": {},
     "output_type": "execute_result"
    }
   ],
   "source": [
    "M = [1048//3 0//1 0//1 0//1 0//1 ;0//1 1048//3 0//1 0//1 0//1; 0//1 0//1 1048//9 0//1 0//1; 0//1 0//1 0//1 0//1 2096//3; 0//1 0//1 0//1 2096//3 0//1; -23056//1917 0//1 0//1 -23056//1917 0//1; 262//1 -262//1 0//1 262//1 -262//1; 0//1 2096//9 -1048//9 -1048//9 1048//9; 0//1 23056//843 -23056//843 -23056//843 0//1]\n",
    "M_hom = hcat(ones(Rational{Int}, size(M,1)), M)\n",
    "\n",
    "p = @pm polytope.Polytope(POINTS=M_hom)\n",
    "\n",
    "# Get the facets as sets of vertex indices\n",
    "\n",
    "# Get the VERTICES_IN_FACETS property (if available)\n",
    "vertices_in_facets = p.VERTICES_IN_FACETS\n",
    "\n",
    "# If not available, you can compute which vertices are on each facet:\n",
    "# For each facet inequality, check which vertices satisfy it with equality\n",
    "verts = p.POINTS\n",
    "facet_vertex_sets = []\n",
    "for facet in eachrow(p.FACETS)\n",
    "    # facet is a vector [a0, a1, ..., an] representing the inequality a0 + a1*x1 + ... + an*xn >= 0\n",
    "    # For each vertex, check if it lies on the facet (i.e., the inequality is tight)\n",
    "    on_facet = [i for (i, v) in enumerate(eachrow(verts)) if isapprox(dot(facet, v), 0; atol=1e-8)]\n",
    "    push!(facet_vertex_sets, on_facet)\n",
    "end\n",
    "\n",
    "K_0=simplicial_complex([[Integer(i) for i in facet] for facet in facet_vertex_sets])\n",
    "K_1 = load(\"./Oscar_fanlike_seeds/K_27_4\")\n",
    "is_isomorphic(K_0, K_1)"
   ]
  }
 ],
 "metadata": {
  "kernelspec": {
   "display_name": "Julia 1.11.6",
   "language": "julia",
   "name": "julia-1.11"
  },
  "language_info": {
   "file_extension": ".jl",
   "mimetype": "application/julia",
   "name": "julia",
   "version": "1.11.6"
  }
 },
 "nbformat": 4,
 "nbformat_minor": 5
}
