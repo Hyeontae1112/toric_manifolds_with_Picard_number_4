{
 "cells": [
  {
   "cell_type": "markdown",
   "id": "db673562",
   "metadata": {},
   "source": [
    "# Fans of dimension 5\n",
    "\n",
    "Fans with $k$ indeterminates are encoded as functions with \n",
    "- **inputs**: $k$ integer\n",
    "- **output**: the corresponding fan after fixing the indeterminates to the input values."
   ]
  },
  {
   "cell_type": "code",
   "execution_count": null,
   "id": "57565b7c",
   "metadata": {
    "vscode": {
     "languageId": "julia"
    }
   },
   "outputs": [
    {
     "data": {
      "text/plain": [
       "IM (generic function with 1 method)"
      ]
     },
     "metadata": {},
     "output_type": "display_data"
    }
   ],
   "source": [
    "using Oscar\n",
    "function IM(K)\n",
    "    return(incidence_matrix([[Base.Integer(i) for i in facet] for facet in facets(K)]))\n",
    "end"
   ]
  },
  {
   "cell_type": "markdown",
   "id": "0ba78a4c",
   "metadata": {},
   "source": [
    "### $K_{15}^4$"
   ]
  },
  {
   "cell_type": "code",
   "execution_count": null,
   "id": "a25505f9",
   "metadata": {
    "vscode": {
     "languageId": "julia"
    }
   },
   "outputs": [
    {
     "data": {
      "text/plain": [
       "3-element Vector{Function}:\n",
       " #563 (generic function with 1 method)\n",
       " #565 (generic function with 1 method)\n",
       " #567 (generic function with 1 method)"
      ]
     },
     "metadata": {},
     "output_type": "display_data"
    }
   ],
   "source": [
    "K_15_4 = load(\"./Oscar_fanlike_seeds/K_15_4\")\n",
    "fans_K_15_4 =Vector{Function}()\n",
    "push!(fans_K_15_4,()->polyhedral_fan(IM(K_15_4),\n",
    "[1 0 0 0 0;0 1 0 0 0;0 0 1 0 0;0 0 0 1 0;0 0 0 0 1;-1 0 -1 -1 0;-1 -1 0 0 0;0 -1 -1 0 -1;-1 -1 -1 -1 -1]))\n",
    "push!(fans_K_15_4,(x0,x1)->polyhedral_fan(IM(K_15_4),\n",
    "[1 0 0 0 0;0 1 0 0 0;0 0 1 0 0;0 0 0 1 0;0 0 0 0 1;-1 1 0 -1 1;0 -1 1 1 0;x0 0 -1 x1 -1;-1 0 0 -1 0] ))\n",
    "push!(fans_K_15_4,()->polyhedral_fan(IM(K_15_4),\n",
    "[1 0 0 0 0;0 1 0 0 0;0 0 1 0 0;0 0 0 1 0;0 0 0 0 1;-1 0 0 -1 0;0 -1 1 0 0;1 0 -1 0 -1;0 -1 0 -1 -1] ))"
   ]
  },
  {
   "cell_type": "markdown",
   "id": "72434bf9",
   "metadata": {},
   "source": [
    "### $K_{16}^4$"
   ]
  },
  {
   "cell_type": "code",
   "execution_count": null,
   "id": "b5063d1d",
   "metadata": {
    "vscode": {
     "languageId": "julia"
    }
   },
   "outputs": [
    {
     "data": {
      "text/plain": [
       "6-element Vector{Function}:\n",
       " #569 (generic function with 1 method)\n",
       " #571 (generic function with 1 method)\n",
       " #573 (generic function with 1 method)\n",
       " #575 (generic function with 1 method)\n",
       " #577 (generic function with 1 method)\n",
       " #579 (generic function with 1 method)"
      ]
     },
     "metadata": {},
     "output_type": "display_data"
    }
   ],
   "source": [
    "K_16_4 = load(\"./Oscar_fanlike_seeds/K_16_4\")\n",
    "fans_K_16_4 =Vector{Function}()\n",
    "push!(fans_K_16_4,(x0,x1,x2)->polyhedral_fan(IM(K_16_4),\n",
    "[1 0 0 0 0;0 1 0 0 0;0 0 1 0 0;0 0 0 1 0;0 0 0 0 1;-1 -1 1 0 0;-1 -2 1 1 -1;-1 -1 0 0 -1;x0 x1 -1 -1 x2] ))\n",
    "push!(fans_K_16_4,(x0,x1)->polyhedral_fan(IM(K_16_4),\n",
    "[1 0 0 0 0;0 1 0 0 0;0 0 1 0 0;0 0 0 1 0;0 0 0 0 1;-1 -1 0 0 0;x0-1 x1-2 -1 1 -1;x0-1 x1-1 -1 0 -1;x0 x1 -1 -1 0] ))\n",
    "push!(fans_K_16_4,()->polyhedral_fan(IM(K_16_4),\n",
    "[1 0 0 0 0;0 1 0 0 0;0 0 1 0 0;0 0 0 1 0;0 0 0 0 1;-1 -1 1 0 0;0 0 -1 0 -1;0 1 -1 -1 -1;1 2 -1 -1 0] ))\n",
    "push!(fans_K_16_4,(x0,x1)->polyhedral_fan(IM(K_16_4),\n",
    "[1 0 0 0 0;0 1 0 0 0;0 0 1 0 0;0 0 0 1 0;0 0 0 0 1;-1 -1 1 0 0;-x0-1 -x0-2 x0+1 x1+1 -1;-x0-1 -x0-1 x0 x1 -1;1 1 -1 -1 0] ))\n",
    "push!(fans_K_16_4,(x0,x1)->polyhedral_fan(IM(K_16_4),\n",
    "[1 0 0 0 0;0 1 0 0 0;0 0 1 0 0;0 0 0 1 0;0 0 0 0 1;-1 -1 x0+1 x1 0;-1 -2 2x0+1 2x1+1 -1;-1 -1 x0 x1 -1;0 0 -1 -1 0] ))\n",
    "push!(fans_K_16_4,(x0,x1)->polyhedral_fan(IM(K_16_4),\n",
    "[1 0 0 0 0;0 1 0 0 0;0 0 1 0 0;0 0 0 1 0;0 0 0 0 1;-1 -1 x0 0 x1+1;0 -1 x0-1 1 x1;0 0 -1 0 -1;1 1 -1 -1 0] ))"
   ]
  },
  {
   "cell_type": "markdown",
   "id": "6028e358",
   "metadata": {},
   "source": [
    "### $K_{17}^4$"
   ]
  },
  {
   "cell_type": "code",
   "execution_count": null,
   "id": "77b4455a",
   "metadata": {
    "vscode": {
     "languageId": "julia"
    }
   },
   "outputs": [
    {
     "data": {
      "text/plain": [
       "2-element Vector{Function}:\n",
       " #581 (generic function with 1 method)\n",
       " #583 (generic function with 1 method)"
      ]
     },
     "metadata": {},
     "output_type": "display_data"
    }
   ],
   "source": [
    "K_17_4 = load(\"./Oscar_fanlike_seeds/K_17_4\")\n",
    "fans_K_17_4 =Vector{Function}()\n",
    "push!(fans_K_17_4,()->polyhedral_fan(IM(K_17_4),\n",
    "[1 0 0 0 0;0 1 0 0 0;0 0 1 0 0;0 0 0 1 0;0 0 0 0 1;-1 0 0 -1 -1;1 -1 0 1 0;0 2 -1 -1 1;0 1 -1 -1 0] ))\n",
    "push!(fans_K_17_4,()->polyhedral_fan(IM(K_17_4),\n",
    "[1 0 0 0 0;0 1 0 0 0;0 0 1 0 0;0 0 0 1 0;0 0 0 0 1;-1 -2 1 1 -1;0 -1 0 1 0;0 2 -1 -1 1;-1 -1 0 0 -1] ))"
   ]
  },
  {
   "cell_type": "markdown",
   "id": "d2a57445",
   "metadata": {},
   "source": [
    "### $K_{18}^4$"
   ]
  },
  {
   "cell_type": "code",
   "execution_count": null,
   "id": "bba78cbf",
   "metadata": {
    "vscode": {
     "languageId": "julia"
    }
   },
   "outputs": [
    {
     "data": {
      "text/plain": [
       "1-element Vector{Function}:\n",
       " #585 (generic function with 1 method)"
      ]
     },
     "metadata": {},
     "output_type": "display_data"
    }
   ],
   "source": [
    "K_18_4 = load(\"./Oscar_fanlike_seeds/K_18_4\")\n",
    "fans_K_18_4 =Vector{Function}()\n",
    "push!(fans_K_18_4,()->polyhedral_fan(IM(K_18_4),\n",
    "[1 0 0 0 0;0 1 0 0 0;0 0 1 0 0;0 0 0 1 0;0 0 0 0 1;-1 0 0 -1 -1;1 -1 0 1 0;0 2 -1 -1 0;0 1 -1 -1 -1] ))"
   ]
  },
  {
   "cell_type": "markdown",
   "id": "403ccc8a",
   "metadata": {},
   "source": [
    "### $K_{19}^4$"
   ]
  },
  {
   "cell_type": "code",
   "execution_count": null,
   "id": "7e4ed98d",
   "metadata": {
    "vscode": {
     "languageId": "julia"
    }
   },
   "outputs": [
    {
     "data": {
      "text/plain": [
       "3-element Vector{Function}:\n",
       " #587 (generic function with 1 method)\n",
       " #589 (generic function with 1 method)\n",
       " #591 (generic function with 1 method)"
      ]
     },
     "metadata": {},
     "output_type": "display_data"
    }
   ],
   "source": [
    "K_19_4 = load(\"./Oscar_fanlike_seeds/K_19_4\")\n",
    "fans_K_19_4 =Vector{Function}()\n",
    "push!(fans_K_19_4,(x0,x1)->polyhedral_fan(IM(K_19_4),\n",
    "[1 0 0 0 0;0 1 0 0 0;0 0 1 0 0;0 0 0 1 0;0 0 0 0 1;-1 -1 1 0 1;-1 -2 1 1 2;-1 -1 0 0 0;x0 x1 -1 -1 -1] ))\n",
    "push!(fans_K_19_4,(x0,x1)->polyhedral_fan(IM(K_19_4),\n",
    "[1 0 0 0 0;0 1 0 0 0;0 0 1 0 0;0 0 0 1 0;0 0 0 0 1;-1 -1 1 0 1;-x0-1 -x0-2 x0+1 x1+1 x0+2;-x0-1 -x0-1 x0 x1 x0;1 1 -1 -1 -1] ))\n",
    "push!(fans_K_19_4,(x0,x1,x2)->polyhedral_fan(IM(K_19_4),\n",
    "[1 0 0 0 0;0 1 0 0 0;0 0 1 0 0;0 0 0 1 0;0 0 0 0 1;-1 -1 x0+1 x1 x2+1;-1 -2 2x0+1 2x1+1 2x2+2;-1 -1 x0 x1 x2;0 0 -1 -1 -1] ))\n"
   ]
  },
  {
   "cell_type": "markdown",
   "id": "ba6b48a6",
   "metadata": {},
   "source": [
    "### $K_{20}^4$"
   ]
  },
  {
   "cell_type": "code",
   "execution_count": null,
   "id": "c0d8943e",
   "metadata": {
    "vscode": {
     "languageId": "julia"
    }
   },
   "outputs": [
    {
     "data": {
      "text/plain": [
       "3-element Vector{Function}:\n",
       " #593 (generic function with 1 method)\n",
       " #595 (generic function with 1 method)\n",
       " #597 (generic function with 1 method)"
      ]
     },
     "metadata": {},
     "output_type": "display_data"
    }
   ],
   "source": [
    "K_20_4 = load(\"./Oscar_fanlike_seeds/K_20_4\")\n",
    "fans_K_20_4 =Vector{Function}()\n",
    "push!(fans_K_20_4,()->polyhedral_fan(IM(K_20_4),\n",
    "[1 0 0 0 0;0 1 0 0 0;0 0 1 0 0;0 0 0 1 0;0 0 0 0 1;-1 -1 0 0 -1;-1 0 -1 -1 0;0 1 -1 -1 1;1 2 -1 0 1] ))\n",
    "push!(fans_K_20_4,()->polyhedral_fan(IM(K_20_4),\n",
    "[1 0 0 0 0;0 1 0 0 0;0 0 1 0 0;0 0 0 1 0;0 0 0 0 1;0 -1 1 1 -1;-1 -1 0 0 -1;-1 0 -1 -1 0;0 1 -1 0 0] ))\n",
    "push!(fans_K_20_4,()->polyhedral_fan(IM(K_20_4),\n",
    "[1 0 0 0 0;0 1 0 0 0;0 0 1 0 0;0 0 0 1 0;0 0 0 0 1;0 -1 1 0 -1;-1 -1 0 -1 0;0 0 -1 -1 1;1 1 -1 0 0] ))"
   ]
  },
  {
   "cell_type": "markdown",
   "id": "5863f480",
   "metadata": {},
   "source": [
    "### $K_{21}^4$"
   ]
  },
  {
   "cell_type": "code",
   "execution_count": null,
   "id": "dd95aec4",
   "metadata": {
    "vscode": {
     "languageId": "julia"
    }
   },
   "outputs": [
    {
     "data": {
      "text/plain": [
       "1-element Vector{Function}:\n",
       " #599 (generic function with 1 method)"
      ]
     },
     "metadata": {},
     "output_type": "display_data"
    }
   ],
   "source": [
    "K_21_4 = load(\"./Oscar_fanlike_seeds/K_21_4\")\n",
    "fans_K_21_4 =Vector{Function}()\n",
    "push!(fans_K_21_4,()->polyhedral_fan(IM(K_21_4),\n",
    "[1 0 0 0 0;0 1 0 0 0;0 0 1 0 0;0 0 0 1 0;0 0 0 0 1;-1 -1 0 0 -1;-1 0 -1 1 0;0 1 -1 0 0;1 2 -1 -1 1]))"
   ]
  },
  {
   "cell_type": "markdown",
   "id": "16daba9d",
   "metadata": {},
   "source": [
    "### $K_{22}^4$"
   ]
  },
  {
   "cell_type": "code",
   "execution_count": null,
   "id": "d810279b",
   "metadata": {
    "vscode": {
     "languageId": "julia"
    }
   },
   "outputs": [
    {
     "data": {
      "text/plain": [
       "2-element Vector{Function}:\n",
       " #601 (generic function with 1 method)\n",
       " #603 (generic function with 1 method)"
      ]
     },
     "metadata": {},
     "output_type": "display_data"
    }
   ],
   "source": [
    "K_22_4 = load(\"./Oscar_fanlike_seeds/K_22_4\")\n",
    "fans_K_22_4 =Vector{Function}()\n",
    "push!(fans_K_22_4,()->polyhedral_fan(IM(K_22_4),\n",
    "[1 0 0 0 0;0 1 0 0 0;0 0 1 0 0;0 0 0 1 0;0 0 0 0 1;-1 -1 0 0 0;-1 0 -1 1 -1;0 1 -1 0 -1;1 2 -1 -1 0] ))\n",
    "push!(fans_K_22_4,()->polyhedral_fan(IM(K_22_4),\n",
    "[1 0 0 0 0;0 1 0 0 0;0 0 1 0 0;0 0 0 1 0;0 0 0 0 1;0 -1 0 -1 0;-1 -2 -1 -1 -1;0 -1 -1 -1 -1;1 0 -1 -1 0] ))"
   ]
  },
  {
   "cell_type": "markdown",
   "id": "2088303f",
   "metadata": {},
   "source": [
    "### $K_{23}^4$"
   ]
  },
  {
   "cell_type": "code",
   "execution_count": null,
   "id": "7a526dad",
   "metadata": {
    "vscode": {
     "languageId": "julia"
    }
   },
   "outputs": [
    {
     "data": {
      "text/plain": [
       "5-element Vector{Function}:\n",
       " #605 (generic function with 1 method)\n",
       " #607 (generic function with 1 method)\n",
       " #609 (generic function with 1 method)\n",
       " #611 (generic function with 1 method)\n",
       " #613 (generic function with 1 method)"
      ]
     },
     "metadata": {},
     "output_type": "display_data"
    }
   ],
   "source": [
    "K_23_4 = load(\"./Oscar_fanlike_seeds/K_23_4\")\n",
    "fans_K_23_4 =Vector{Function}()\n",
    "push!(fans_K_23_4,(x0,x1)->polyhedral_fan(IM(K_23_4),\n",
    "[1 0 0 0 0;0 1 0 0 0;0 0 1 0 0;0 0 0 1 0;0 0 0 0 1;-1 -1 1 0 -1;-1 -2 1 1 -1;-1 -1 0 0 0;x0 x1 -1 -1 0] ))\n",
    "push!(fans_K_23_4,(x0,x1,x2)->polyhedral_fan(IM(K_23_4),\n",
    "[1 0 0 0 0;0 1 0 0 0;0 0 1 0 0;0 0 0 1 0;0 0 0 0 1;-1 -1 0 0 -1;x0-1 x1-2 -1 1 x2-1;x0-1 x1-1 -1 0 x2;x0 x1 -1 -1 x2] ))\n",
    "push!(fans_K_23_4,(x0,x1)->polyhedral_fan(IM(K_23_4),\n",
    "[1 0 0 0 0;0 1 0 0 0;0 0 1 0 0;0 0 0 1 0;0 0 0 0 1;-1 -1 1 0 -1;-1 -2 1 1 -1;-x0-1 -2x0-1 x0 x0 x1;1 2 -1 -1 0] ))\n",
    "push!(fans_K_23_4,(x)->polyhedral_fan(IM(K_23_4),\n",
    "[1 0 0 0 0;0 1 0 0 0;0 0 1 0 0;0 0 0 1 0;0 0 0 0 1;-1 -1 1 0 -1;0 -1 0 0 0;0 x-1 -1 -1 1;1 x -1 -1 0] ))\n",
    "push!(fans_K_23_4,(x0,x1,x2)->polyhedral_fan(IM(K_23_4),\n",
    "[1 0 0 0 0;0 1 0 0 0;0 0 1 0 0;0 0 0 1 0;0 0 0 0 1;-1 -1 1 0 -1;-x0-1 -x0-2 x0+1 x1+1 x2-1;-x0-1 -x0-1 x0 x1 x2;1 1 -1 -1 0] ))"
   ]
  },
  {
   "cell_type": "markdown",
   "id": "a92c1305",
   "metadata": {},
   "source": [
    "### $K_{24}^4$"
   ]
  },
  {
   "cell_type": "code",
   "execution_count": null,
   "id": "aa85debf",
   "metadata": {
    "vscode": {
     "languageId": "julia"
    }
   },
   "outputs": [
    {
     "data": {
      "text/plain": [
       "3-element Vector{Function}:\n",
       " #615 (generic function with 1 method)\n",
       " #617 (generic function with 1 method)\n",
       " #619 (generic function with 1 method)"
      ]
     },
     "metadata": {},
     "output_type": "display_data"
    }
   ],
   "source": [
    "K_24_4 = load(\"./Oscar_fanlike_seeds/K_24_4\")\n",
    "fans_K_24_4 =Vector{Function}()\n",
    "push!(fans_K_24_4,(x0,x1)->polyhedral_fan(IM(K_24_4),\n",
    "[1 0 0 0 0;0 1 0 0 0;0 0 1 0 0;0 0 0 1 0;0 0 0 0 1;0 -1 1 0 -1;-1 -2 1 1 -1;-1 -1 0 0 0;x0 x1 -1 -1 0] ))\n",
    "push!(fans_K_24_4,(x0,x1)->polyhedral_fan(IM(K_24_4),\n",
    "[1 0 0 0 0;0 1 0 0 0;0 0 1 0 0;0 0 0 1 0;0 0 0 0 1;0 -1 1 0 -1;-1 -2 1 1 -1;-x0-1 -2x0-1 x0 x0 x1;1 2 -1 -1 0] ))\n",
    "push!(fans_K_24_4,(x0,x1,x2)->polyhedral_fan(IM(K_24_4),\n",
    "[1 0 0 0 0;0 1 0 0 0;0 0 1 0 0;0 0 0 1 0;0 0 0 0 1;0 -1 1 0 -1;-1 -x0-2 x0+1 x1+1 x2-1;-1 -x0-1 x0 x1 x2;0 1 -1 -1 0] ))"
   ]
  },
  {
   "cell_type": "markdown",
   "id": "95b27fda",
   "metadata": {},
   "source": [
    "### $K_{25}^4$"
   ]
  },
  {
   "cell_type": "code",
   "execution_count": null,
   "id": "cb123dda",
   "metadata": {
    "vscode": {
     "languageId": "julia"
    }
   },
   "outputs": [
    {
     "data": {
      "text/plain": [
       "3-element Vector{Function}:\n",
       " #621 (generic function with 1 method)\n",
       " #623 (generic function with 1 method)\n",
       " #625 (generic function with 1 method)"
      ]
     },
     "metadata": {},
     "output_type": "display_data"
    }
   ],
   "source": [
    "K_25_4 = load(\"./Oscar_fanlike_seeds/K_25_4\")\n",
    "fans_K_25_4 =Vector{Function}()\n",
    "push!(fans_K_25_4,(x0,x1,x2)->polyhedral_fan(IM(K_25_25_4),\n",
    "[1 0 0 0 0;0 1 0 0 0;0 0 1 0 0;0 0 0 1 0;0 0 0 0 1;-1 -1 1 0 0;-1 -2 1 1 -1;-1 -1 0 0 -1;x0 x1 -1 -1 x2] ))\n",
    "push!(fans_K_25_4,(x)->polyhedral_fan(IM(K_25_25_4),\n",
    "[1 0 0 0 0;0 1 0 0 0;0 0 1 0 0;0 0 0 1 0;0 0 0 0 1;-1 -1 1 0 0;-1 -2 1 1 -1;-x-1 -2x-1 x x -x-1;1 2 -1 -1 1] ))\n",
    "push!(fans_K_25_4,(x0,x1)->polyhedral_fan(IM(K_25_25_4),\n",
    "[1 0 0 0 0;0 1 0 0 0;0 0 1 0 0;0 0 0 1 0;0 0 0 0 1;-1 -1 1 0 0;0 -1 0 0 -1;0 x0-1 -1 -1 x1-1;1 x0 -1 -1 x1] ))"
   ]
  },
  {
   "cell_type": "markdown",
   "id": "78abef0c",
   "metadata": {},
   "source": [
    "### $K_{26}^4$"
   ]
  },
  {
   "cell_type": "code",
   "execution_count": null,
   "id": "7ac464a2",
   "metadata": {
    "vscode": {
     "languageId": "julia"
    }
   },
   "outputs": [
    {
     "data": {
      "text/plain": [
       "1-element Vector{Function}:\n",
       " #627 (generic function with 1 method)"
      ]
     },
     "metadata": {},
     "output_type": "display_data"
    }
   ],
   "source": [
    "K_26_4 = load(\"./Oscar_fanlike_seeds/K_26_4\")\n",
    "fans_K_26_4 =Vector{Function}()\n",
    "push!(fans_K_26_4,()->polyhedral_fan(IM(K_26_4),\n",
    "[1 0 0 0 0;0 1 0 0 0;0 0 1 0 0;0 0 0 1 0;0 0 0 0 1;-1 -1 0 1 -1;-1 -1 -1 0 -1;-1 0 -1 0 0;0 1 -1 -1 0] ))"
   ]
  },
  {
   "cell_type": "markdown",
   "id": "0e62c9cb",
   "metadata": {},
   "source": [
    "### $K_{27}^4$"
   ]
  },
  {
   "cell_type": "code",
   "execution_count": null,
   "id": "6083d303",
   "metadata": {
    "vscode": {
     "languageId": "julia"
    }
   },
   "outputs": [
    {
     "data": {
      "text/plain": [
       "1-element Vector{Function}:\n",
       " #629 (generic function with 1 method)"
      ]
     },
     "metadata": {},
     "output_type": "display_data"
    }
   ],
   "source": [
    "K_27_4 = load(\"./Oscar_fanlike_seeds/K_27_4\")\n",
    "fans_K_27_4 =Vector{Function}()\n",
    "push!(fans_K_27_4,()->polyhedral_fan(IM(K_27_4),\n",
    "[1 0 0 0 0;0 1 0 0 0;0 0 1 0 0;0 0 0 1 0;0 0 0 0 1;-1 0 0 -1 0;1 -1 0 1 -1;0 2 -1 -1 1;0 1 -1 -1 0] ))"
   ]
  },
  {
   "cell_type": "markdown",
   "id": "5f3eefa5",
   "metadata": {},
   "source": [
    "### $K_{28}^4$"
   ]
  },
  {
   "cell_type": "code",
   "execution_count": null,
   "id": "a484a867",
   "metadata": {
    "vscode": {
     "languageId": "julia"
    }
   },
   "outputs": [
    {
     "data": {
      "text/plain": [
       "2-element Vector{Function}:\n",
       " #631 (generic function with 1 method)\n",
       " #633 (generic function with 1 method)"
      ]
     },
     "metadata": {},
     "output_type": "display_data"
    }
   ],
   "source": [
    "K_28_4 = load(\"./Oscar_fanlike_seeds/K_28_4\")\n",
    "fans_K_28_4 =Vector{Function}()\n",
    "push!(fans_K_28_4,()->polyhedral_fan(IM(K_28_4),\n",
    "[1 0 0 0 0;0 1 0 0 0;0 0 1 0 0;0 0 0 1 0;0 0 0 0 1;1 -1 2 1 -1;-1 0 -1 -1 0;-1 1 -2 -2 1;0 1 -1 -1 0] ))\n",
    "push!(fans_K_28_4,()->polyhedral_fan(IM(K_28_4),\n",
    "[1 0 0 0 0;0 1 0 0 0;0 0 1 0 0;0 0 0 1 0;0 0 0 0 1;0 -1 1 0 -1;-1 -1 0 0 -1;-1 0 -1 -1 0;0 1 -1 -1 0] ))"
   ]
  },
  {
   "cell_type": "markdown",
   "id": "9319fc3d",
   "metadata": {},
   "source": [
    "### $K_{29}^4$"
   ]
  },
  {
   "cell_type": "code",
   "execution_count": null,
   "id": "a178229f",
   "metadata": {
    "vscode": {
     "languageId": "julia"
    }
   },
   "outputs": [
    {
     "data": {
      "text/plain": [
       "1-element Vector{Function}:\n",
       " #635 (generic function with 1 method)"
      ]
     },
     "metadata": {},
     "output_type": "display_data"
    }
   ],
   "source": [
    "K_29_4 = load(\"./Oscar_fanlike_seeds/K_29_4\")\n",
    "fans_K_29_4 =Vector{Function}()\n",
    "push!(fans_K_29_4,()->polyhedral_fan(IM(K_29_4),\n",
    "[1 0 0 0 0;0 1 0 0 0;0 0 1 0 0;0 0 0 1 0;0 0 0 0 1;-1 -1 0 1 0;-1 -1 -1 0 -1;-1 0 -1 0 -1;0 1 -1 -1 0] ))"
   ]
  },
  {
   "cell_type": "markdown",
   "id": "659b2415",
   "metadata": {},
   "source": [
    "### $K_{30}^4$"
   ]
  },
  {
   "cell_type": "code",
   "execution_count": null,
   "id": "8ce2dc05",
   "metadata": {
    "vscode": {
     "languageId": "julia"
    }
   },
   "outputs": [
    {
     "data": {
      "text/plain": [
       "1-element Vector{Function}:\n",
       " #637 (generic function with 1 method)"
      ]
     },
     "metadata": {},
     "output_type": "display_data"
    }
   ],
   "source": [
    "K_30_4 = load(\"./Oscar_fanlike_seeds/K_30_4\")\n",
    "fans_K_30_4 =Vector{Function}()\n",
    "push!(fans_K_30_4,()->polyhedral_fan(IM(K_30_4),\n",
    "[1 0 0 0 0;0 1 0 0 0;0 0 1 0 0;0 0 0 1 0;0 0 0 0 1;-1 -1 0 1 0;-1 -1 -1 0 1;-1 0 -1 0 0;0 1 -1 -1 -1] ))"
   ]
  }
 ],
 "metadata": {
  "language_info": {
   "name": "python"
  }
 },
 "nbformat": 4,
 "nbformat_minor": 5
}
