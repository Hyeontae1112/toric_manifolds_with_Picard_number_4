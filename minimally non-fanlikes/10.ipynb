{
 "cells": [
  {
   "cell_type": "markdown",
   "id": "ca135da4-7a6f-486d-8610-0fb4748b4470",
   "metadata": {
    "jp-MarkdownHeadingCollapsed": true
   },
   "source": [
    "# Preparation"
   ]
  },
  {
   "cell_type": "code",
   "execution_count": 1,
   "id": "99e278ae-6436-4b9a-a908-913b6e9b7f9e",
   "metadata": {},
   "outputs": [],
   "source": [
    "%run programs\\\\Characteristic_Pair.py\n",
    "import copy\n",
    "\n",
    "minimally_non_fanlikes_index=10\n",
    "\n",
    "K = Simplicial_Complex(json.loads(read_file('programs\\\\minimally_non_fanlikes')[minimally_non_fanlikes_index]))\n",
    "M = initial_char(K.n)\n",
    "C0 = Characteristic_Pair(K, M)\n",
    "\n",
    "a0, a1, a2, a3 = sp.symbols('a0:%d'%K.n)\n",
    "b0, b1, b2, b3 = sp.symbols('b0:%d'%K.n)\n",
    "c0, c1, c2, c3 = sp.symbols('c0:%d'%K.n)\n",
    "d0, d1, d2, d3 = sp.symbols('d0:%d'%K.n)"
   ]
  },
  {
   "cell_type": "code",
   "execution_count": 2,
   "id": "0f4973fc-ab26-4bc6-97ba-f3f11d351658",
   "metadata": {},
   "outputs": [],
   "source": [
    "C=C0"
   ]
  },
  {
   "cell_type": "code",
   "execution_count": 3,
   "id": "04877898-cddc-4b4a-82d6-387041a36646",
   "metadata": {},
   "outputs": [
    {
     "name": "stdout",
     "output_type": "stream",
     "text": [
      "facet number: 3\n"
     ]
    },
    {
     "data": {
      "text/latex": [
       "$\\displaystyle a_{1} = -1$"
      ],
      "text/plain": [
       "Eq(a1, -1)"
      ]
     },
     "metadata": {},
     "output_type": "display_data"
    },
    {
     "name": "stdout",
     "output_type": "stream",
     "text": [
      "facet number: 10\n"
     ]
    },
    {
     "data": {
      "text/latex": [
       "$\\displaystyle - b_{0} = 1$"
      ],
      "text/plain": [
       "Eq(-b0, 1)"
      ]
     },
     "metadata": {},
     "output_type": "display_data"
    },
    {
     "name": "stdout",
     "output_type": "stream",
     "text": [
      "facet number: 2\n"
     ]
    },
    {
     "data": {
      "text/latex": [
       "$\\displaystyle - d_{2} = 1$"
      ],
      "text/plain": [
       "Eq(-d2, 1)"
      ]
     },
     "metadata": {},
     "output_type": "display_data"
    },
    {
     "name": "stdout",
     "output_type": "stream",
     "text": [
      "facet number: 1\n"
     ]
    },
    {
     "data": {
      "text/latex": [
       "$\\displaystyle d_{3} = -1$"
      ],
      "text/plain": [
       "Eq(d3, -1)"
      ]
     },
     "metadata": {},
     "output_type": "display_data"
    }
   ],
   "source": [
    "i=3\n",
    "print('facet number:', i)\n",
    "display(sp.Eq(C.determinants[i], C.orientation[i]))\n",
    "\n",
    "i=10\n",
    "print('facet number:', i)\n",
    "display(sp.Eq(C.determinants[i], C.orientation[i]))\n",
    "\n",
    "i=2\n",
    "print('facet number:', i)\n",
    "display(sp.Eq(C.determinants[i], C.orientation[i]))\n",
    "\n",
    "i=1\n",
    "print('facet number:', i)\n",
    "display(sp.Eq(C.determinants[i], C.orientation[i]))\n",
    "\n",
    "C.subs(a1, -1)\n",
    "C.subs(b0, -1)\n",
    "C.subs(d2, -1)\n",
    "C.subs(d3, -1)"
   ]
  },
  {
   "cell_type": "code",
   "execution_count": 4,
   "id": "5117276d-900b-4e76-b0db-e69cf09f9ec8",
   "metadata": {},
   "outputs": [
    {
     "name": "stdout",
     "output_type": "stream",
     "text": [
      "facet number: 4\n"
     ]
    },
    {
     "data": {
      "text/latex": [
       "$\\displaystyle a_{3} d_{1} - 1 = -1$"
      ],
      "text/plain": [
       "Eq(a3*d1 - 1, -1)"
      ]
     },
     "metadata": {},
     "output_type": "display_data"
    }
   ],
   "source": [
    "i=4\n",
    "print('facet number:', i)\n",
    "display(sp.Eq(C.determinants[i], C.orientation[i]))"
   ]
  },
  {
   "cell_type": "markdown",
   "id": "ea8d937f-2b65-447a-9d73-46d57d5acf02",
   "metadata": {
    "jp-MarkdownHeadingCollapsed": true
   },
   "source": [
    "# $d_1=0$"
   ]
  },
  {
   "cell_type": "code",
   "execution_count": 5,
   "id": "47e1e631-4fc7-4aef-9340-b53a0a0ca8e5",
   "metadata": {},
   "outputs": [],
   "source": [
    "C1=copy.deepcopy(C0)\n",
    "C=C1\n",
    "C.subs(d1, 0)"
   ]
  },
  {
   "cell_type": "code",
   "execution_count": 7,
   "id": "0991b051-68d7-4b9b-a100-178f2c7a4963",
   "metadata": {},
   "outputs": [
    {
     "name": "stdout",
     "output_type": "stream",
     "text": [
      "facet number: 7\n"
     ]
    },
    {
     "data": {
      "text/latex": [
       "$\\displaystyle - c_{1} = 1$"
      ],
      "text/plain": [
       "Eq(-c1, 1)"
      ]
     },
     "metadata": {},
     "output_type": "display_data"
    }
   ],
   "source": [
    "i=7\n",
    "print('facet number:', i)\n",
    "display(sp.Eq(C.determinants[i], C.orientation[i]))\n",
    "\n",
    "C.subs(c1, -1)"
   ]
  },
  {
   "cell_type": "code",
   "execution_count": 9,
   "id": "a973ca0e-e71a-4275-927e-84527079203a",
   "metadata": {},
   "outputs": [
    {
     "name": "stdout",
     "output_type": "stream",
     "text": [
      "facet number: 5\n"
     ]
    },
    {
     "data": {
      "text/latex": [
       "$\\displaystyle - a_{2} b_{1} - b_{2} = 1$"
      ],
      "text/plain": [
       "Eq(-a2*b1 - b2, 1)"
      ]
     },
     "metadata": {},
     "output_type": "display_data"
    },
    {
     "name": "stdout",
     "output_type": "stream",
     "text": [
      "facet number: 6\n"
     ]
    },
    {
     "data": {
      "text/latex": [
       "$\\displaystyle b_{1} c_{2} + b_{2} = 1$"
      ],
      "text/plain": [
       "Eq(b1*c2 + b2, 1)"
      ]
     },
     "metadata": {},
     "output_type": "display_data"
    },
    {
     "data": {
      "text/latex": [
       "$\\displaystyle - a_{2} b_{1} + b_{1} c_{2} = 2$"
      ],
      "text/plain": [
       "Eq(-a2*b1 + b1*c2, 2)"
      ]
     },
     "metadata": {},
     "output_type": "display_data"
    }
   ],
   "source": [
    "i=5\n",
    "print('facet number:', i)\n",
    "display(sp.Eq(C.determinants[i], C.orientation[i]))\n",
    "\n",
    "i=6\n",
    "print('facet number:', i)\n",
    "display(sp.Eq(C.determinants[i], C.orientation[i]))\n",
    "\n",
    "display(sp.Eq(C.determinants[5] + C.determinants[6], C.orientation[5] + C.orientation[6]))"
   ]
  },
  {
   "cell_type": "markdown",
   "id": "2a9e8a86-8752-4f8e-b7a6-f412efe2117a",
   "metadata": {
    "jp-MarkdownHeadingCollapsed": true
   },
   "source": [
    "## $b_1=1$"
   ]
  },
  {
   "cell_type": "code",
   "execution_count": 25,
   "id": "8ffa0f10-2da7-43f1-a445-2a53beae0a20",
   "metadata": {},
   "outputs": [],
   "source": [
    "C2=copy.deepcopy(C1)\n",
    "C=C2\n",
    "C.subs(b1, 1)"
   ]
  },
  {
   "cell_type": "code",
   "execution_count": 26,
   "id": "973010e3-8fe7-4270-b222-91a58f579bed",
   "metadata": {},
   "outputs": [
    {
     "name": "stdout",
     "output_type": "stream",
     "text": [
      "facet number: 5\n"
     ]
    },
    {
     "data": {
      "text/latex": [
       "$\\displaystyle - a_{2} - b_{2} = 1$"
      ],
      "text/plain": [
       "Eq(-a2 - b2, 1)"
      ]
     },
     "metadata": {},
     "output_type": "display_data"
    }
   ],
   "source": [
    "i=5\n",
    "print('facet number:', i)\n",
    "display(sp.Eq(C.determinants[i], C.orientation[i]))\n",
    "\n",
    "C.subs(a2, -b2-1)"
   ]
  },
  {
   "cell_type": "code",
   "execution_count": 27,
   "id": "6e12c27c-a934-4fed-ad75-6c2d40363466",
   "metadata": {},
   "outputs": [
    {
     "name": "stdout",
     "output_type": "stream",
     "text": [
      "facet number: 6\n"
     ]
    },
    {
     "data": {
      "text/latex": [
       "$\\displaystyle b_{2} + c_{2} = 1$"
      ],
      "text/plain": [
       "Eq(b2 + c2, 1)"
      ]
     },
     "metadata": {},
     "output_type": "display_data"
    }
   ],
   "source": [
    "i=6\n",
    "print('facet number:', i)\n",
    "display(sp.Eq(C.determinants[i], C.orientation[i]))\n",
    "\n",
    "C.subs(c2, -b2+1)"
   ]
  },
  {
   "cell_type": "code",
   "execution_count": 28,
   "id": "bdc18786-d587-46e4-97fd-62cc982d0299",
   "metadata": {},
   "outputs": [
    {
     "name": "stdout",
     "output_type": "stream",
     "text": [
      "facet number: 9\n"
     ]
    },
    {
     "data": {
      "text/latex": [
       "$\\displaystyle a_{3} - c_{3} + 2 = -1$"
      ],
      "text/plain": [
       "Eq(a3 - c3 + 2, -1)"
      ]
     },
     "metadata": {},
     "output_type": "display_data"
    }
   ],
   "source": [
    "i=9\n",
    "print('facet number:', i)\n",
    "display(sp.Eq(C.determinants[i], C.orientation[i]))\n",
    "\n",
    "C.subs(a3, c3-3)"
   ]
  },
  {
   "cell_type": "code",
   "execution_count": 29,
   "id": "a8cd2652-1a6e-471e-b3bc-efba66874ff1",
   "metadata": {},
   "outputs": [
    {
     "name": "stdout",
     "output_type": "stream",
     "text": [
      "facet number: 8\n"
     ]
    },
    {
     "data": {
      "text/latex": [
       "$\\displaystyle 2 b_{3} + 2 c_{3} - 3 = -1$"
      ],
      "text/plain": [
       "Eq(2*b3 + 2*c3 - 3, -1)"
      ]
     },
     "metadata": {},
     "output_type": "display_data"
    }
   ],
   "source": [
    "i=8\n",
    "print('facet number:', i)\n",
    "display(sp.Eq(C.determinants[i], C.orientation[i]))\n",
    "\n",
    "C.subs(b3, -c3+1)"
   ]
  },
  {
   "cell_type": "code",
   "execution_count": 30,
   "id": "09a46c0c-5d15-4ca2-aeed-4e233619c68c",
   "metadata": {},
   "outputs": [
    {
     "name": "stdout",
     "output_type": "stream",
     "text": [
      "facet number: 17\n"
     ]
    },
    {
     "data": {
      "text/latex": [
       "$\\displaystyle a_{0} - 1 = -1$"
      ],
      "text/plain": [
       "Eq(a0 - 1, -1)"
      ]
     },
     "metadata": {},
     "output_type": "display_data"
    }
   ],
   "source": [
    "i=17\n",
    "print('facet number:', i)\n",
    "display(sp.Eq(C.determinants[i], C.orientation[i]))\n",
    "\n",
    "C.subs(a0, 0)"
   ]
  },
  {
   "cell_type": "code",
   "execution_count": 31,
   "id": "c6fa5464-9a87-4dca-99de-d2f80622e8e9",
   "metadata": {},
   "outputs": [
    {
     "name": "stdout",
     "output_type": "stream",
     "text": [
      "facet number: 18\n"
     ]
    },
    {
     "data": {
      "text/latex": [
       "$\\displaystyle 2 d_{0} + 1 = 1$"
      ],
      "text/plain": [
       "Eq(2*d0 + 1, 1)"
      ]
     },
     "metadata": {},
     "output_type": "display_data"
    }
   ],
   "source": [
    "i=18\n",
    "print('facet number:', i)\n",
    "display(sp.Eq(C.determinants[i], C.orientation[i]))\n",
    "\n",
    "C.subs(d0, 0)"
   ]
  },
  {
   "cell_type": "code",
   "execution_count": 32,
   "id": "28a790c4-5dc9-4a00-9a56-afc85411ded3",
   "metadata": {},
   "outputs": [
    {
     "name": "stdout",
     "output_type": "stream",
     "text": [
      "facet number: 13\n"
     ]
    },
    {
     "data": {
      "text/latex": [
       "$\\displaystyle c_{0} = -1$"
      ],
      "text/plain": [
       "Eq(c0, -1)"
      ]
     },
     "metadata": {},
     "output_type": "display_data"
    }
   ],
   "source": [
    "i=13\n",
    "print('facet number:', i)\n",
    "display(sp.Eq(C.determinants[i], C.orientation[i]))\n",
    "\n",
    "C.subs(c0, -1)"
   ]
  },
  {
   "cell_type": "code",
   "execution_count": 34,
   "id": "4e31bcc6-ea9c-4fd9-8653-dbf037f395cf",
   "metadata": {},
   "outputs": [
    {
     "name": "stdout",
     "output_type": "stream",
     "text": [
      "facet number: 15\n"
     ]
    },
    {
     "data": {
      "text/latex": [
       "$\\displaystyle - b_{2} - c_{3} + 2 = -1$"
      ],
      "text/plain": [
       "Eq(-b2 - c3 + 2, -1)"
      ]
     },
     "metadata": {},
     "output_type": "display_data"
    },
    {
     "name": "stdout",
     "output_type": "stream",
     "text": [
      "facet number: 16\n"
     ]
    },
    {
     "data": {
      "text/latex": [
       "$\\displaystyle - b_{2} - c_{3} + 2 = 1$"
      ],
      "text/plain": [
       "Eq(-b2 - c3 + 2, 1)"
      ]
     },
     "metadata": {},
     "output_type": "display_data"
    },
    {
     "name": "stdout",
     "output_type": "stream",
     "text": [
      "no solution\n"
     ]
    }
   ],
   "source": [
    "i=15\n",
    "print('facet number:', i)\n",
    "display(sp.Eq(C.determinants[i], C.orientation[i]))\n",
    "\n",
    "i=16\n",
    "print('facet number:', i)\n",
    "display(sp.Eq(C.determinants[i], C.orientation[i]))\n",
    "\n",
    "print('no solution')"
   ]
  },
  {
   "cell_type": "markdown",
   "id": "5b386387-39b1-4ab2-aa82-94cd5b6d0fb1",
   "metadata": {
    "jp-MarkdownHeadingCollapsed": true
   },
   "source": [
    "## $b_1=-1$"
   ]
  },
  {
   "cell_type": "code",
   "execution_count": 44,
   "id": "faeaf5c0-e65d-4f16-8c41-f9aeac5a1407",
   "metadata": {},
   "outputs": [],
   "source": [
    "C2=copy.deepcopy(C1)\n",
    "C=C2\n",
    "C.subs(b1, -1)"
   ]
  },
  {
   "cell_type": "code",
   "execution_count": 45,
   "id": "7adb79ea-e844-4dec-9945-3c9f979aad2f",
   "metadata": {},
   "outputs": [
    {
     "name": "stdout",
     "output_type": "stream",
     "text": [
      "facet number: 5\n"
     ]
    },
    {
     "data": {
      "text/latex": [
       "$\\displaystyle a_{2} - b_{2} = 1$"
      ],
      "text/plain": [
       "Eq(a2 - b2, 1)"
      ]
     },
     "metadata": {},
     "output_type": "display_data"
    }
   ],
   "source": [
    "i=5\n",
    "print('facet number:', i)\n",
    "display(sp.Eq(C.determinants[i], C.orientation[i]))\n",
    "\n",
    "C.subs(a2, b2+1)"
   ]
  },
  {
   "cell_type": "code",
   "execution_count": 47,
   "id": "83363196-aa14-4518-b23d-85b73cb77b4e",
   "metadata": {},
   "outputs": [
    {
     "name": "stdout",
     "output_type": "stream",
     "text": [
      "facet number: 6\n"
     ]
    },
    {
     "data": {
      "text/latex": [
       "$\\displaystyle b_{2} - c_{2} = 1$"
      ],
      "text/plain": [
       "Eq(b2 - c2, 1)"
      ]
     },
     "metadata": {},
     "output_type": "display_data"
    }
   ],
   "source": [
    "i=6\n",
    "print('facet number:', i)\n",
    "display(sp.Eq(C.determinants[i], C.orientation[i]))\n",
    "\n",
    "C.subs(c2, b2-1)"
   ]
  },
  {
   "cell_type": "code",
   "execution_count": 49,
   "id": "58c065bc-7764-4982-87b7-01c848a5873a",
   "metadata": {},
   "outputs": [
    {
     "name": "stdout",
     "output_type": "stream",
     "text": [
      "facet number: 9\n"
     ]
    },
    {
     "data": {
      "text/latex": [
       "$\\displaystyle a_{3} - c_{3} - 2 = -1$"
      ],
      "text/plain": [
       "Eq(a3 - c3 - 2, -1)"
      ]
     },
     "metadata": {},
     "output_type": "display_data"
    }
   ],
   "source": [
    "i=9\n",
    "print('facet number:', i)\n",
    "display(sp.Eq(C.determinants[i], C.orientation[i]))\n",
    "\n",
    "C.subs(a3, c3+1)"
   ]
  },
  {
   "cell_type": "code",
   "execution_count": 51,
   "id": "e130c5a4-ec75-48a8-93a4-d7dc17520155",
   "metadata": {},
   "outputs": [
    {
     "name": "stdout",
     "output_type": "stream",
     "text": [
      "facet number: 8\n"
     ]
    },
    {
     "data": {
      "text/latex": [
       "$\\displaystyle - 2 b_{3} + 2 c_{3} + 1 = -1$"
      ],
      "text/plain": [
       "Eq(-2*b3 + 2*c3 + 1, -1)"
      ]
     },
     "metadata": {},
     "output_type": "display_data"
    }
   ],
   "source": [
    "i=8\n",
    "print('facet number:', i)\n",
    "display(sp.Eq(C.determinants[i], C.orientation[i]))\n",
    "\n",
    "C.subs(b3, c3+1)"
   ]
  },
  {
   "cell_type": "code",
   "execution_count": 53,
   "id": "65c8d4bc-0221-4f8c-9237-3f6c19824205",
   "metadata": {},
   "outputs": [
    {
     "name": "stdout",
     "output_type": "stream",
     "text": [
      "facet number: 17\n"
     ]
    },
    {
     "data": {
      "text/latex": [
       "$\\displaystyle - a_{0} - 1 = -1$"
      ],
      "text/plain": [
       "Eq(-a0 - 1, -1)"
      ]
     },
     "metadata": {},
     "output_type": "display_data"
    }
   ],
   "source": [
    "i=17\n",
    "print('facet number:', i)\n",
    "display(sp.Eq(C.determinants[i], C.orientation[i]))\n",
    "\n",
    "C.subs(a0, 0)"
   ]
  },
  {
   "cell_type": "code",
   "execution_count": 55,
   "id": "fdc94edd-61e4-41d5-aaa6-264892ee2155",
   "metadata": {},
   "outputs": [
    {
     "name": "stdout",
     "output_type": "stream",
     "text": [
      "facet number: 11\n"
     ]
    },
    {
     "data": {
      "text/latex": [
       "$\\displaystyle - c_{3} d_{0} - d_{0} + 1 = 1$"
      ],
      "text/plain": [
       "Eq(-c3*d0 - d0 + 1, 1)"
      ]
     },
     "metadata": {},
     "output_type": "display_data"
    }
   ],
   "source": [
    "i=11\n",
    "print('facet number:', i)\n",
    "display(sp.Eq(C.determinants[i], C.orientation[i]))"
   ]
  },
  {
   "cell_type": "markdown",
   "id": "516ec23f-0cdb-4e75-a3c2-a40e20de260e",
   "metadata": {
    "jp-MarkdownHeadingCollapsed": true
   },
   "source": [
    "### $d_0=0$"
   ]
  },
  {
   "cell_type": "code",
   "execution_count": 56,
   "id": "7fba7c26-e667-4ed4-bc68-dfa09d13e244",
   "metadata": {},
   "outputs": [],
   "source": [
    "C3=copy.deepcopy(C2)\n",
    "C=C3\n",
    "C.subs(d0, 0)"
   ]
  },
  {
   "cell_type": "code",
   "execution_count": 57,
   "id": "91983418-2bf5-4531-9eb2-dd12c7828d48",
   "metadata": {},
   "outputs": [
    {
     "name": "stdout",
     "output_type": "stream",
     "text": [
      "facet number: 13\n"
     ]
    },
    {
     "data": {
      "text/latex": [
       "$\\displaystyle c_{0} = -1$"
      ],
      "text/plain": [
       "Eq(c0, -1)"
      ]
     },
     "metadata": {},
     "output_type": "display_data"
    }
   ],
   "source": [
    "i=13\n",
    "print('facet number:', i)\n",
    "display(sp.Eq(C.determinants[i], C.orientation[i]))\n",
    "\n",
    "C.subs(c0, -1)"
   ]
  },
  {
   "cell_type": "code",
   "execution_count": 59,
   "id": "4b9a6f21-0498-493a-98a9-7f06d8a0e7b2",
   "metadata": {},
   "outputs": [
    {
     "name": "stdout",
     "output_type": "stream",
     "text": [
      "facet number: 14\n"
     ]
    },
    {
     "data": {
      "text/latex": [
       "$\\displaystyle b_{2} - c_{3} = 1$"
      ],
      "text/plain": [
       "Eq(b2 - c3, 1)"
      ]
     },
     "metadata": {},
     "output_type": "display_data"
    },
    {
     "name": "stdout",
     "output_type": "stream",
     "text": [
      "facet number: 15\n"
     ]
    },
    {
     "data": {
      "text/latex": [
       "$\\displaystyle b_{2} - c_{3} = -1$"
      ],
      "text/plain": [
       "Eq(b2 - c3, -1)"
      ]
     },
     "metadata": {},
     "output_type": "display_data"
    },
    {
     "name": "stdout",
     "output_type": "stream",
     "text": [
      "no solution\n"
     ]
    }
   ],
   "source": [
    "i=14\n",
    "print('facet number:', i)\n",
    "display(sp.Eq(C.determinants[i], C.orientation[i]))\n",
    "\n",
    "i=15\n",
    "print('facet number:', i)\n",
    "display(sp.Eq(C.determinants[i], C.orientation[i]))\n",
    "\n",
    "print('no solution')"
   ]
  },
  {
   "cell_type": "markdown",
   "id": "9c18da34-9751-479c-b24a-7b85059ea043",
   "metadata": {
    "jp-MarkdownHeadingCollapsed": true
   },
   "source": [
    "### $c_3=-1$ ($d_0 \\not= 0$)"
   ]
  },
  {
   "cell_type": "code",
   "execution_count": 60,
   "id": "45fa60cf-3578-409f-9e01-39b320d04378",
   "metadata": {},
   "outputs": [],
   "source": [
    "C3=copy.deepcopy(C2)\n",
    "C=C3\n",
    "C.subs(c3, -1)"
   ]
  },
  {
   "cell_type": "code",
   "execution_count": 62,
   "id": "0edd749b-5f4d-468c-b2d0-78b6b66ee3c7",
   "metadata": {},
   "outputs": [
    {
     "name": "stdout",
     "output_type": "stream",
     "text": [
      "facet number: 14\n"
     ]
    },
    {
     "data": {
      "text/latex": [
       "$\\displaystyle b_{2} + 1 = 1$"
      ],
      "text/plain": [
       "Eq(b2 + 1, 1)"
      ]
     },
     "metadata": {},
     "output_type": "display_data"
    },
    {
     "name": "stdout",
     "output_type": "stream",
     "text": [
      "facet number: 15\n"
     ]
    },
    {
     "data": {
      "text/latex": [
       "$\\displaystyle b_{2} + 1 = -1$"
      ],
      "text/plain": [
       "Eq(b2 + 1, -1)"
      ]
     },
     "metadata": {},
     "output_type": "display_data"
    },
    {
     "name": "stdout",
     "output_type": "stream",
     "text": [
      "no solution\n"
     ]
    }
   ],
   "source": [
    "i=14\n",
    "print('facet number:', i)\n",
    "display(sp.Eq(C.determinants[i], C.orientation[i]))\n",
    "\n",
    "i=15\n",
    "print('facet number:', i)\n",
    "display(sp.Eq(C.determinants[i], C.orientation[i]))\n",
    "\n",
    "print('no solution')"
   ]
  },
  {
   "cell_type": "markdown",
   "id": "037b5cc5-eb47-40ee-8838-0b461ad1e6a5",
   "metadata": {
    "jp-MarkdownHeadingCollapsed": true
   },
   "source": [
    "## $b_1=2$"
   ]
  },
  {
   "cell_type": "code",
   "execution_count": 63,
   "id": "e2100414-fd75-45f0-87d5-1d2b0de7681a",
   "metadata": {},
   "outputs": [],
   "source": [
    "C2=copy.deepcopy(C1)\n",
    "C=C2\n",
    "C.subs(b1, 2)"
   ]
  },
  {
   "cell_type": "code",
   "execution_count": 64,
   "id": "1712cfd8-5786-4ea4-a39e-4e77656e0108",
   "metadata": {},
   "outputs": [
    {
     "name": "stdout",
     "output_type": "stream",
     "text": [
      "facet number: 5\n"
     ]
    },
    {
     "data": {
      "text/latex": [
       "$\\displaystyle - 2 a_{2} - b_{2} = 1$"
      ],
      "text/plain": [
       "Eq(-2*a2 - b2, 1)"
      ]
     },
     "metadata": {},
     "output_type": "display_data"
    }
   ],
   "source": [
    "i=5\n",
    "print('facet number:', i)\n",
    "display(sp.Eq(C.determinants[i], C.orientation[i]))\n",
    "\n",
    "C.subs(b2, -2*a2-1)"
   ]
  },
  {
   "cell_type": "code",
   "execution_count": 66,
   "id": "b9aa2ab0-eb10-40d4-ae8f-b8b1b0529ec3",
   "metadata": {},
   "outputs": [
    {
     "name": "stdout",
     "output_type": "stream",
     "text": [
      "facet number: 6\n"
     ]
    },
    {
     "data": {
      "text/latex": [
       "$\\displaystyle - 2 a_{2} + 2 c_{2} - 1 = 1$"
      ],
      "text/plain": [
       "Eq(-2*a2 + 2*c2 - 1, 1)"
      ]
     },
     "metadata": {},
     "output_type": "display_data"
    }
   ],
   "source": [
    "i=6\n",
    "print('facet number:', i)\n",
    "display(sp.Eq(C.determinants[i], C.orientation[i]))\n",
    "\n",
    "C.subs(c2, a2+1)"
   ]
  },
  {
   "cell_type": "code",
   "execution_count": 68,
   "id": "d66783d0-60d9-428f-9fd4-12ff3c48a656",
   "metadata": {},
   "outputs": [
    {
     "name": "stdout",
     "output_type": "stream",
     "text": [
      "facet number: 9\n"
     ]
    },
    {
     "data": {
      "text/latex": [
       "$\\displaystyle a_{3} - c_{3} + 1 = -1$"
      ],
      "text/plain": [
       "Eq(a3 - c3 + 1, -1)"
      ]
     },
     "metadata": {},
     "output_type": "display_data"
    }
   ],
   "source": [
    "i=9\n",
    "print('facet number:', i)\n",
    "display(sp.Eq(C.determinants[i], C.orientation[i]))\n",
    "\n",
    "C.subs(c3, a3+2)"
   ]
  },
  {
   "cell_type": "code",
   "execution_count": 70,
   "id": "1dffaf29-49ff-45aa-8a6d-b1d769477ce0",
   "metadata": {},
   "outputs": [
    {
     "name": "stdout",
     "output_type": "stream",
     "text": [
      "facet number: 17\n"
     ]
    },
    {
     "data": {
      "text/latex": [
       "$\\displaystyle 2 a_{0} - 1 = -1$"
      ],
      "text/plain": [
       "Eq(2*a0 - 1, -1)"
      ]
     },
     "metadata": {},
     "output_type": "display_data"
    }
   ],
   "source": [
    "i=17\n",
    "print('facet number:', i)\n",
    "display(sp.Eq(C.determinants[i], C.orientation[i]))\n",
    "\n",
    "C.subs(a0, 0)"
   ]
  },
  {
   "cell_type": "code",
   "execution_count": 72,
   "id": "35b07f32-d4d9-4677-b410-438d890bdea0",
   "metadata": {},
   "outputs": [
    {
     "name": "stdout",
     "output_type": "stream",
     "text": [
      "facet number: 8\n"
     ]
    },
    {
     "data": {
      "text/latex": [
       "$\\displaystyle 2 a_{3} + b_{3} + 2 = -1$"
      ],
      "text/plain": [
       "Eq(2*a3 + b3 + 2, -1)"
      ]
     },
     "metadata": {},
     "output_type": "display_data"
    }
   ],
   "source": [
    "i=8\n",
    "print('facet number:', i)\n",
    "display(sp.Eq(C.determinants[i], C.orientation[i]))\n",
    "\n",
    "C.subs(b3, -2*a3-3)"
   ]
  },
  {
   "cell_type": "code",
   "execution_count": 75,
   "id": "c2085334-b94b-4550-9902-cb614ec08270",
   "metadata": {},
   "outputs": [
    {
     "name": "stdout",
     "output_type": "stream",
     "text": [
      "facet number: 18\n"
     ]
    },
    {
     "data": {
      "text/latex": [
       "$\\displaystyle 3 d_{0} + 1 = 1$"
      ],
      "text/plain": [
       "Eq(3*d0 + 1, 1)"
      ]
     },
     "metadata": {},
     "output_type": "display_data"
    }
   ],
   "source": [
    "i=18\n",
    "print('facet number:', i)\n",
    "display(sp.Eq(C.determinants[i], C.orientation[i]))\n",
    "\n",
    "C.subs(d0, 0)"
   ]
  },
  {
   "cell_type": "code",
   "execution_count": 77,
   "id": "712927ec-4bdc-4de4-87b7-551d1a8a9f80",
   "metadata": {},
   "outputs": [
    {
     "name": "stdout",
     "output_type": "stream",
     "text": [
      "facet number: 13\n"
     ]
    },
    {
     "data": {
      "text/latex": [
       "$\\displaystyle c_{0} = -1$"
      ],
      "text/plain": [
       "Eq(c0, -1)"
      ]
     },
     "metadata": {},
     "output_type": "display_data"
    }
   ],
   "source": [
    "i=13\n",
    "print('facet number:', i)\n",
    "display(sp.Eq(C.determinants[i], C.orientation[i]))\n",
    "\n",
    "C.subs(c0, -1)"
   ]
  },
  {
   "cell_type": "code",
   "execution_count": 79,
   "id": "cfaca7df-2bb4-4694-bd76-e21857ef1076",
   "metadata": {},
   "outputs": [
    {
     "name": "stdout",
     "output_type": "stream",
     "text": [
      "facet number: 15\n"
     ]
    },
    {
     "data": {
      "text/latex": [
       "$\\displaystyle a_{2} - a_{3} = -1$"
      ],
      "text/plain": [
       "Eq(a2 - a3, -1)"
      ]
     },
     "metadata": {},
     "output_type": "display_data"
    },
    {
     "name": "stdout",
     "output_type": "stream",
     "text": [
      "facet number: 16\n"
     ]
    },
    {
     "data": {
      "text/latex": [
       "$\\displaystyle a_{2} - a_{3} = 1$"
      ],
      "text/plain": [
       "Eq(a2 - a3, 1)"
      ]
     },
     "metadata": {},
     "output_type": "display_data"
    },
    {
     "name": "stdout",
     "output_type": "stream",
     "text": [
      "no solution\n"
     ]
    }
   ],
   "source": [
    "i=15\n",
    "print('facet number:', i)\n",
    "display(sp.Eq(C.determinants[i], C.orientation[i]))\n",
    "\n",
    "i=16\n",
    "print('facet number:', i)\n",
    "display(sp.Eq(C.determinants[i], C.orientation[i]))\n",
    "\n",
    "print('no solution')"
   ]
  },
  {
   "cell_type": "markdown",
   "id": "a8310951-b8f5-4b2e-a7ff-d91b588f08a4",
   "metadata": {
    "jp-MarkdownHeadingCollapsed": true
   },
   "source": [
    "## $b_1=-2$"
   ]
  },
  {
   "cell_type": "code",
   "execution_count": 80,
   "id": "8b75287d-eac8-495d-8be1-cbd3adcd649e",
   "metadata": {},
   "outputs": [],
   "source": [
    "C2=copy.deepcopy(C1)\n",
    "C=C2\n",
    "C.subs(b1, -2)"
   ]
  },
  {
   "cell_type": "code",
   "execution_count": 81,
   "id": "25757dcf-ab26-41aa-8c32-990c71eef927",
   "metadata": {},
   "outputs": [
    {
     "name": "stdout",
     "output_type": "stream",
     "text": [
      "facet number: 5\n"
     ]
    },
    {
     "data": {
      "text/latex": [
       "$\\displaystyle 2 a_{2} - b_{2} = 1$"
      ],
      "text/plain": [
       "Eq(2*a2 - b2, 1)"
      ]
     },
     "metadata": {},
     "output_type": "display_data"
    }
   ],
   "source": [
    "i=5\n",
    "print('facet number:', i)\n",
    "display(sp.Eq(C.determinants[i], C.orientation[i]))\n",
    "\n",
    "C.subs(b2, 2*a2-1)"
   ]
  },
  {
   "cell_type": "code",
   "execution_count": 83,
   "id": "e819a598-1214-4e87-ae76-3fba35f6d257",
   "metadata": {},
   "outputs": [
    {
     "name": "stdout",
     "output_type": "stream",
     "text": [
      "facet number: 6\n"
     ]
    },
    {
     "data": {
      "text/latex": [
       "$\\displaystyle 2 a_{2} - 2 c_{2} - 1 = 1$"
      ],
      "text/plain": [
       "Eq(2*a2 - 2*c2 - 1, 1)"
      ]
     },
     "metadata": {},
     "output_type": "display_data"
    }
   ],
   "source": [
    "i=6\n",
    "print('facet number:', i)\n",
    "display(sp.Eq(C.determinants[i], C.orientation[i]))\n",
    "\n",
    "C.subs(a2, c2+1)"
   ]
  },
  {
   "cell_type": "code",
   "execution_count": 85,
   "id": "6ccc822c-e4c3-4e79-9383-d2926e70b789",
   "metadata": {},
   "outputs": [
    {
     "name": "stdout",
     "output_type": "stream",
     "text": [
      "facet number: 9\n"
     ]
    },
    {
     "data": {
      "text/latex": [
       "$\\displaystyle a_{3} - c_{3} - 1 = -1$"
      ],
      "text/plain": [
       "Eq(a3 - c3 - 1, -1)"
      ]
     },
     "metadata": {},
     "output_type": "display_data"
    }
   ],
   "source": [
    "i=9\n",
    "print('facet number:', i)\n",
    "display(sp.Eq(C.determinants[i], C.orientation[i]))\n",
    "\n",
    "C.subs(a3, c3)"
   ]
  },
  {
   "cell_type": "code",
   "execution_count": 87,
   "id": "dc4f7ced-7879-4b36-bdc5-ed386028f80f",
   "metadata": {},
   "outputs": [
    {
     "name": "stdout",
     "output_type": "stream",
     "text": [
      "facet number: 8\n"
     ]
    },
    {
     "data": {
      "text/latex": [
       "$\\displaystyle - b_{3} + 2 c_{3} = -1$"
      ],
      "text/plain": [
       "Eq(-b3 + 2*c3, -1)"
      ]
     },
     "metadata": {},
     "output_type": "display_data"
    }
   ],
   "source": [
    "i=8\n",
    "print('facet number:', i)\n",
    "display(sp.Eq(C.determinants[i], C.orientation[i]))\n",
    "\n",
    "C.subs(b3, 2*c3+1)"
   ]
  },
  {
   "cell_type": "code",
   "execution_count": 89,
   "id": "3480a77e-01bc-4003-9dda-3165ed95bbb6",
   "metadata": {},
   "outputs": [
    {
     "name": "stdout",
     "output_type": "stream",
     "text": [
      "facet number: 17\n"
     ]
    },
    {
     "data": {
      "text/latex": [
       "$\\displaystyle - 2 a_{0} - 1 = -1$"
      ],
      "text/plain": [
       "Eq(-2*a0 - 1, -1)"
      ]
     },
     "metadata": {},
     "output_type": "display_data"
    }
   ],
   "source": [
    "i=17\n",
    "print('facet number:', i)\n",
    "display(sp.Eq(C.determinants[i], C.orientation[i]))\n",
    "\n",
    "C.subs(a0, 0)"
   ]
  },
  {
   "cell_type": "code",
   "execution_count": 90,
   "id": "2a7f51a3-8ad7-4c0a-858d-bb5ac65a3621",
   "metadata": {},
   "outputs": [
    {
     "name": "stdout",
     "output_type": "stream",
     "text": [
      "facet number: 18\n"
     ]
    },
    {
     "data": {
      "text/latex": [
       "$\\displaystyle 1 - d_{0} = 1$"
      ],
      "text/plain": [
       "Eq(1 - d0, 1)"
      ]
     },
     "metadata": {},
     "output_type": "display_data"
    }
   ],
   "source": [
    "i=18\n",
    "print('facet number:', i)\n",
    "display(sp.Eq(C.determinants[i], C.orientation[i]))\n",
    "\n",
    "C.subs(d0, 0)"
   ]
  },
  {
   "cell_type": "code",
   "execution_count": 92,
   "id": "5175be37-037e-437e-9597-45fd8ce9d605",
   "metadata": {},
   "outputs": [
    {
     "name": "stdout",
     "output_type": "stream",
     "text": [
      "facet number: 13\n"
     ]
    },
    {
     "data": {
      "text/latex": [
       "$\\displaystyle c_{0} = -1$"
      ],
      "text/plain": [
       "Eq(c0, -1)"
      ]
     },
     "metadata": {},
     "output_type": "display_data"
    }
   ],
   "source": [
    "i=13\n",
    "print('facet number:', i)\n",
    "display(sp.Eq(C.determinants[i], C.orientation[i]))\n",
    "\n",
    "C.subs(c0, -1)"
   ]
  },
  {
   "cell_type": "code",
   "execution_count": 94,
   "id": "0efc2f7e-c53f-4898-964e-3d2e5df72d39",
   "metadata": {},
   "outputs": [
    {
     "name": "stdout",
     "output_type": "stream",
     "text": [
      "facet number: 15\n"
     ]
    },
    {
     "data": {
      "text/latex": [
       "$\\displaystyle c_{2} - c_{3} + 1 = -1$"
      ],
      "text/plain": [
       "Eq(c2 - c3 + 1, -1)"
      ]
     },
     "metadata": {},
     "output_type": "display_data"
    },
    {
     "name": "stdout",
     "output_type": "stream",
     "text": [
      "facet number: 16\n"
     ]
    },
    {
     "data": {
      "text/latex": [
       "$\\displaystyle c_{2} - c_{3} + 1 = 1$"
      ],
      "text/plain": [
       "Eq(c2 - c3 + 1, 1)"
      ]
     },
     "metadata": {},
     "output_type": "display_data"
    },
    {
     "name": "stdout",
     "output_type": "stream",
     "text": [
      "no solution\n"
     ]
    }
   ],
   "source": [
    "i=15\n",
    "print('facet number:', i)\n",
    "display(sp.Eq(C.determinants[i], C.orientation[i]))\n",
    "\n",
    "i=16\n",
    "print('facet number:', i)\n",
    "display(sp.Eq(C.determinants[i], C.orientation[i]))\n",
    "\n",
    "print('no solution')"
   ]
  },
  {
   "cell_type": "markdown",
   "id": "d3b34122-d2a7-41c1-82d7-36b33f2b8a2c",
   "metadata": {
    "jp-MarkdownHeadingCollapsed": true
   },
   "source": [
    "# $a_3=0$ ($d_1 \\not= 0$)"
   ]
  },
  {
   "cell_type": "code",
   "execution_count": 95,
   "id": "8b1c8bb4-1c17-4d6a-994e-6367d8205e5a",
   "metadata": {},
   "outputs": [],
   "source": [
    "C1=copy.deepcopy(C0)\n",
    "C=C1\n",
    "C.subs(a3, 0)"
   ]
  },
  {
   "cell_type": "code",
   "execution_count": 97,
   "id": "5f3f2afa-3914-4bf0-91d9-f1a8a727c1ef",
   "metadata": {},
   "outputs": [
    {
     "name": "stdout",
     "output_type": "stream",
     "text": [
      "facet number: 11\n"
     ]
    },
    {
     "data": {
      "text/latex": [
       "$\\displaystyle - b_{3} d_{0} + 1 = 1$"
      ],
      "text/plain": [
       "Eq(-b3*d0 + 1, 1)"
      ]
     },
     "metadata": {},
     "output_type": "display_data"
    }
   ],
   "source": [
    "i=11\n",
    "print('facet number:', i)\n",
    "display(sp.Eq(C.determinants[i], C.orientation[i]))"
   ]
  },
  {
   "cell_type": "markdown",
   "id": "1c4ae455-a302-42d0-9ec3-ff96bc00f955",
   "metadata": {
    "jp-MarkdownHeadingCollapsed": true
   },
   "source": [
    "## $d_0=0$ ($d_1 \\not= 0$)"
   ]
  },
  {
   "cell_type": "code",
   "execution_count": 98,
   "id": "5755ac44-be40-42c2-875f-ca00f212f38a",
   "metadata": {},
   "outputs": [],
   "source": [
    "C2=copy.deepcopy(C1)\n",
    "C=C2\n",
    "C.subs(d0, 0)"
   ]
  },
  {
   "cell_type": "code",
   "execution_count": 99,
   "id": "dd0bd02f-471f-44d1-9c39-2591bea2fc76",
   "metadata": {},
   "outputs": [
    {
     "name": "stdout",
     "output_type": "stream",
     "text": [
      "facet number: 13\n"
     ]
    },
    {
     "data": {
      "text/latex": [
       "$\\displaystyle c_{0} = -1$"
      ],
      "text/plain": [
       "Eq(c0, -1)"
      ]
     },
     "metadata": {},
     "output_type": "display_data"
    }
   ],
   "source": [
    "i=13\n",
    "print('facet number:', i)\n",
    "display(sp.Eq(C.determinants[i], C.orientation[i]))\n",
    "\n",
    "C.subs(c0, -1)"
   ]
  },
  {
   "cell_type": "code",
   "execution_count": 101,
   "id": "1451eb7a-81e3-440b-ae95-587b6d35fd8e",
   "metadata": {},
   "outputs": [
    {
     "name": "stdout",
     "output_type": "stream",
     "text": [
      "facet number: 12\n"
     ]
    },
    {
     "data": {
      "text/latex": [
       "$\\displaystyle - b_{2} + c_{2} = -1$"
      ],
      "text/plain": [
       "Eq(-b2 + c2, -1)"
      ]
     },
     "metadata": {},
     "output_type": "display_data"
    }
   ],
   "source": [
    "i=12\n",
    "print('facet number:', i)\n",
    "display(sp.Eq(C.determinants[i], C.orientation[i]))\n",
    "\n",
    "C.subs(b2, c2+1)"
   ]
  },
  {
   "cell_type": "code",
   "execution_count": 103,
   "id": "f2230abc-45f3-4be5-a393-5b37ee778134",
   "metadata": {},
   "outputs": [
    {
     "name": "stdout",
     "output_type": "stream",
     "text": [
      "facet number: 17\n"
     ]
    },
    {
     "data": {
      "text/latex": [
       "$\\displaystyle a_{0} b_{1} - 1 = -1$"
      ],
      "text/plain": [
       "Eq(a0*b1 - 1, -1)"
      ]
     },
     "metadata": {},
     "output_type": "display_data"
    }
   ],
   "source": [
    "i=17\n",
    "print('facet number:', i)\n",
    "display(sp.Eq(C.determinants[i], C.orientation[i]))"
   ]
  },
  {
   "cell_type": "markdown",
   "id": "cb59bb75-c253-4e2a-b153-388b2a08e791",
   "metadata": {
    "jp-MarkdownHeadingCollapsed": true
   },
   "source": [
    "### $a_0=0$ ($d_1 \\not= 0$)"
   ]
  },
  {
   "cell_type": "code",
   "execution_count": 104,
   "id": "0441d72a-9c77-485a-bc6c-eb77b98436bf",
   "metadata": {},
   "outputs": [],
   "source": [
    "C3=copy.deepcopy(C2)\n",
    "C=C3\n",
    "C.subs(a0, 0)"
   ]
  },
  {
   "cell_type": "code",
   "execution_count": 106,
   "id": "cbc95594-d5bf-45b0-8192-25bf03487f68",
   "metadata": {},
   "outputs": [
    {
     "name": "stdout",
     "output_type": "stream",
     "text": [
      "facet number: 15\n"
     ]
    },
    {
     "data": {
      "text/latex": [
       "$\\displaystyle a_{2} = -1$"
      ],
      "text/plain": [
       "Eq(a2, -1)"
      ]
     },
     "metadata": {},
     "output_type": "display_data"
    },
    {
     "name": "stdout",
     "output_type": "stream",
     "text": [
      "facet number: 16\n"
     ]
    },
    {
     "data": {
      "text/latex": [
       "$\\displaystyle a_{2} = 1$"
      ],
      "text/plain": [
       "Eq(a2, 1)"
      ]
     },
     "metadata": {},
     "output_type": "display_data"
    },
    {
     "name": "stdout",
     "output_type": "stream",
     "text": [
      "no solution\n"
     ]
    }
   ],
   "source": [
    "i=15\n",
    "print('facet number:', i)\n",
    "display(sp.Eq(C.determinants[i], C.orientation[i]))\n",
    "\n",
    "i=16\n",
    "print('facet number:', i)\n",
    "display(sp.Eq(C.determinants[i], C.orientation[i]))\n",
    "\n",
    "print('no solution')"
   ]
  },
  {
   "cell_type": "markdown",
   "id": "f926ed7f-e9d8-45a6-8788-227d911d9aa4",
   "metadata": {
    "jp-MarkdownHeadingCollapsed": true
   },
   "source": [
    "### $b_1=0$ ($d_1 \\not= 0$)"
   ]
  },
  {
   "cell_type": "code",
   "execution_count": 107,
   "id": "667c782f-f414-428f-93ca-4e6dc54d31f7",
   "metadata": {},
   "outputs": [],
   "source": [
    "C3=copy.deepcopy(C2)\n",
    "C=C3\n",
    "C.subs(b1, 0)"
   ]
  },
  {
   "cell_type": "code",
   "execution_count": 109,
   "id": "caa166fc-a74d-4b2c-9aa2-ce3a4e54b24e",
   "metadata": {},
   "outputs": [
    {
     "name": "stdout",
     "output_type": "stream",
     "text": [
      "facet number: 5\n"
     ]
    },
    {
     "data": {
      "text/latex": [
       "$\\displaystyle - c_{2} - 1 = 1$"
      ],
      "text/plain": [
       "Eq(-c2 - 1, 1)"
      ]
     },
     "metadata": {},
     "output_type": "display_data"
    }
   ],
   "source": [
    "i=5\n",
    "print('facet number:', i)\n",
    "display(sp.Eq(C.determinants[i], C.orientation[i]))\n",
    "\n",
    "C.subs(c2, -2)"
   ]
  },
  {
   "cell_type": "code",
   "execution_count": 110,
   "id": "81f57699-31a8-4806-9601-510d2fb039cf",
   "metadata": {},
   "outputs": [
    {
     "name": "stdout",
     "output_type": "stream",
     "text": [
      "facet number: 6\n"
     ]
    },
    {
     "data": {
      "text/latex": [
       "$\\displaystyle c_{1} = 1$"
      ],
      "text/plain": [
       "Eq(c1, 1)"
      ]
     },
     "metadata": {},
     "output_type": "display_data"
    }
   ],
   "source": [
    "i=6\n",
    "print('facet number:', i)\n",
    "display(sp.Eq(C.determinants[i], C.orientation[i]))\n",
    "\n",
    "C.subs(c1, 1)"
   ]
  },
  {
   "cell_type": "code",
   "execution_count": 112,
   "id": "d6c7afc4-6dd1-41af-a3fa-d76b1d40f126",
   "metadata": {},
   "outputs": [
    {
     "name": "stdout",
     "output_type": "stream",
     "text": [
      "facet number: 7\n"
     ]
    },
    {
     "data": {
      "text/latex": [
       "$\\displaystyle 2 d_{1} - 1 = 1$"
      ],
      "text/plain": [
       "Eq(2*d1 - 1, 1)"
      ]
     },
     "metadata": {},
     "output_type": "display_data"
    }
   ],
   "source": [
    "i=7\n",
    "print('facet number:', i)\n",
    "display(sp.Eq(C.determinants[i], C.orientation[i]))\n",
    "\n",
    "C.subs(d1, 1)"
   ]
  },
  {
   "cell_type": "code",
   "execution_count": 116,
   "id": "688e8c3f-027f-4604-9681-999b6bcdab00",
   "metadata": {},
   "outputs": [
    {
     "name": "stdout",
     "output_type": "stream",
     "text": [
      "facet number: 15\n"
     ]
    },
    {
     "data": {
      "text/latex": [
       "$\\displaystyle - a_{0} b_{3} - a_{0} + a_{2} = -1$"
      ],
      "text/plain": [
       "Eq(-a0*b3 - a0 + a2, -1)"
      ]
     },
     "metadata": {},
     "output_type": "display_data"
    },
    {
     "name": "stdout",
     "output_type": "stream",
     "text": [
      "facet number: 18\n"
     ]
    },
    {
     "data": {
      "text/latex": [
       "$\\displaystyle - a_{0} b_{3} + 1 = 1$"
      ],
      "text/plain": [
       "Eq(-a0*b3 + 1, 1)"
      ]
     },
     "metadata": {},
     "output_type": "display_data"
    },
    {
     "data": {
      "text/latex": [
       "$\\displaystyle - a_{0} + a_{2} - 1 = -2$"
      ],
      "text/plain": [
       "Eq(-a0 + a2 - 1, -2)"
      ]
     },
     "metadata": {},
     "output_type": "display_data"
    }
   ],
   "source": [
    "i=15\n",
    "print('facet number:', i)\n",
    "display(sp.Eq(C.determinants[i], C.orientation[i]))\n",
    "\n",
    "i=18\n",
    "print('facet number:', i)\n",
    "display(sp.Eq(C.determinants[i], C.orientation[i]))\n",
    "\n",
    "display(sp.Eq(C.determinants[15] - C.determinants[18], C.orientation[15] - C.orientation[18]))\n",
    "\n",
    "C.subs(a0, a2+1)"
   ]
  },
  {
   "cell_type": "code",
   "execution_count": 119,
   "id": "1e09fde5-6de1-4430-851f-d3677647460e",
   "metadata": {},
   "outputs": [
    {
     "name": "stdout",
     "output_type": "stream",
     "text": [
      "facet number: 8\n"
     ]
    },
    {
     "data": {
      "text/latex": [
       "$\\displaystyle a_{2} b_{3} - 2 b_{3} + c_{3} = -1$"
      ],
      "text/plain": [
       "Eq(a2*b3 - 2*b3 + c3, -1)"
      ]
     },
     "metadata": {},
     "output_type": "display_data"
    },
    {
     "name": "stdout",
     "output_type": "stream",
     "text": [
      "facet number: 14\n"
     ]
    },
    {
     "data": {
      "text/latex": [
       "$\\displaystyle - a_{2} b_{3} - 2 b_{3} + c_{3} = 1$"
      ],
      "text/plain": [
       "Eq(-a2*b3 - 2*b3 + c3, 1)"
      ]
     },
     "metadata": {},
     "output_type": "display_data"
    },
    {
     "data": {
      "text/latex": [
       "$\\displaystyle - 4 b_{3} + 2 c_{3} = 0$"
      ],
      "text/plain": [
       "Eq(-4*b3 + 2*c3, 0)"
      ]
     },
     "metadata": {},
     "output_type": "display_data"
    }
   ],
   "source": [
    "i=8\n",
    "print('facet number:', i)\n",
    "display(sp.Eq(C.determinants[i], C.orientation[i]))\n",
    "\n",
    "i=14\n",
    "print('facet number:', i)\n",
    "display(sp.Eq(C.determinants[i], C.orientation[i]))\n",
    "\n",
    "display(sp.Eq(C.determinants[8] + C.determinants[14], C.orientation[8] + C.orientation[14]))\n",
    "\n",
    "C.subs(c3, 2*b3)"
   ]
  },
  {
   "cell_type": "code",
   "execution_count": 122,
   "id": "85126ae6-f482-46aa-b2c8-ac608b7e76ed",
   "metadata": {},
   "outputs": [
    {
     "name": "stdout",
     "output_type": "stream",
     "text": [
      "facet number: 8\n"
     ]
    },
    {
     "data": {
      "text/latex": [
       "$\\displaystyle a_{2} b_{3} = -1$"
      ],
      "text/plain": [
       "Eq(a2*b3, -1)"
      ]
     },
     "metadata": {},
     "output_type": "display_data"
    },
    {
     "name": "stdout",
     "output_type": "stream",
     "text": [
      "facet number: 15\n"
     ]
    },
    {
     "data": {
      "text/latex": [
       "$\\displaystyle - a_{2} b_{3} - b_{3} - 1 = -1$"
      ],
      "text/plain": [
       "Eq(-a2*b3 - b3 - 1, -1)"
      ]
     },
     "metadata": {},
     "output_type": "display_data"
    },
    {
     "data": {
      "text/latex": [
       "$\\displaystyle - b_{3} - 1 = -2$"
      ],
      "text/plain": [
       "Eq(-b3 - 1, -2)"
      ]
     },
     "metadata": {},
     "output_type": "display_data"
    }
   ],
   "source": [
    "i=8\n",
    "print('facet number:', i)\n",
    "display(sp.Eq(C.determinants[i], C.orientation[i]))\n",
    "\n",
    "i=15\n",
    "print('facet number:', i)\n",
    "display(sp.Eq(C.determinants[i], C.orientation[i]))\n",
    "\n",
    "display(sp.Eq(C.determinants[8] + C.determinants[15], C.orientation[8] + C.orientation[15]))\n",
    "\n",
    "C.subs(b3, 1)"
   ]
  },
  {
   "cell_type": "code",
   "execution_count": 124,
   "id": "5fa3db44-0d90-4f79-8604-07e69dcf1e2b",
   "metadata": {},
   "outputs": [
    {
     "name": "stdout",
     "output_type": "stream",
     "text": [
      "facet number: 8\n"
     ]
    },
    {
     "data": {
      "text/latex": [
       "$\\displaystyle a_{2} = -1$"
      ],
      "text/plain": [
       "Eq(a2, -1)"
      ]
     },
     "metadata": {},
     "output_type": "display_data"
    },
    {
     "name": "stdout",
     "output_type": "stream",
     "text": [
      "facet number: 9\n"
     ]
    },
    {
     "data": {
      "text/latex": [
       "$\\displaystyle 3 a_{2} - 4 = -1$"
      ],
      "text/plain": [
       "Eq(3*a2 - 4, -1)"
      ]
     },
     "metadata": {},
     "output_type": "display_data"
    },
    {
     "name": "stdout",
     "output_type": "stream",
     "text": [
      "no solution\n"
     ]
    }
   ],
   "source": [
    "i=8\n",
    "print('facet number:', i)\n",
    "display(sp.Eq(C.determinants[i], C.orientation[i]))\n",
    "\n",
    "i=9\n",
    "print('facet number:', i)\n",
    "display(sp.Eq(C.determinants[i], C.orientation[i]))\n",
    "\n",
    "print('no solution')"
   ]
  },
  {
   "cell_type": "markdown",
   "id": "23906de5-665c-4620-824f-ce8f0a54ac58",
   "metadata": {
    "jp-MarkdownHeadingCollapsed": true
   },
   "source": [
    "## $b_3=0$ ($d_0 \\not= 0$, $d_1 \\not= 0$)"
   ]
  },
  {
   "cell_type": "code",
   "execution_count": 125,
   "id": "9a20859e-8c0a-4b46-954b-5fa849ac9d4b",
   "metadata": {},
   "outputs": [],
   "source": [
    "C2=copy.deepcopy(C1)\n",
    "C=C2\n",
    "C.subs(b3, 0)"
   ]
  },
  {
   "cell_type": "code",
   "execution_count": 127,
   "id": "e7c6a08b-60bc-443e-8b79-f5907ed65283",
   "metadata": {},
   "outputs": [
    {
     "name": "stdout",
     "output_type": "stream",
     "text": [
      "facet number: 5\n"
     ]
    },
    {
     "data": {
      "text/latex": [
       "$\\displaystyle - a_{2} b_{1} - b_{2} = 1$"
      ],
      "text/plain": [
       "Eq(-a2*b1 - b2, 1)"
      ]
     },
     "metadata": {},
     "output_type": "display_data"
    },
    {
     "name": "stdout",
     "output_type": "stream",
     "text": [
      "facet number: 8\n"
     ]
    },
    {
     "data": {
      "text/latex": [
       "$\\displaystyle c_{3} \\left(- a_{2} b_{1} - b_{2}\\right) = -1$"
      ],
      "text/plain": [
       "Eq(c3*(-a2*b1 - b2), -1)"
      ]
     },
     "metadata": {},
     "output_type": "display_data"
    }
   ],
   "source": [
    "i=5\n",
    "print('facet number:', i)\n",
    "display(sp.Eq(C.determinants[i], C.orientation[i]))\n",
    "\n",
    "i=8\n",
    "print('facet number:', i)\n",
    "display(sp.Eq(C.determinants[i], C.orientation[i]))\n",
    "\n",
    "C.subs(c3, -1)"
   ]
  },
  {
   "cell_type": "code",
   "execution_count": 132,
   "id": "9b3ff2cc-a4ac-4141-ba73-db877d06dc04",
   "metadata": {},
   "outputs": [
    {
     "name": "stdout",
     "output_type": "stream",
     "text": [
      "facet number: 14\n"
     ]
    },
    {
     "data": {
      "text/latex": [
       "$\\displaystyle a_{0} b_{2} + a_{2} = 1$"
      ],
      "text/plain": [
       "Eq(a0*b2 + a2, 1)"
      ]
     },
     "metadata": {},
     "output_type": "display_data"
    },
    {
     "name": "stdout",
     "output_type": "stream",
     "text": [
      "facet number: 15\n"
     ]
    },
    {
     "data": {
      "text/latex": [
       "$\\displaystyle a_{0} b_{2} + a_{2} = -1$"
      ],
      "text/plain": [
       "Eq(a0*b2 + a2, -1)"
      ]
     },
     "metadata": {},
     "output_type": "display_data"
    },
    {
     "name": "stdout",
     "output_type": "stream",
     "text": [
      "no solution\n"
     ]
    }
   ],
   "source": [
    "i=14\n",
    "print('facet number:', i)\n",
    "display(sp.Eq(C.determinants[i], C.orientation[i]))\n",
    "\n",
    "i=15\n",
    "print('facet number:', i)\n",
    "display(sp.Eq(C.determinants[i], C.orientation[i]))\n",
    "\n",
    "print('no solution')"
   ]
  },
  {
   "cell_type": "markdown",
   "id": "7050fdfc-5609-4768-aa2b-ac499950fec2",
   "metadata": {},
   "source": [
    "# There is no positive characteristic map"
   ]
  }
 ],
 "metadata": {
  "kernelspec": {
   "display_name": "Python 3 (ipykernel)",
   "language": "python",
   "name": "python3"
  },
  "language_info": {
   "codemirror_mode": {
    "name": "ipython",
    "version": 3
   },
   "file_extension": ".py",
   "mimetype": "text/x-python",
   "name": "python",
   "nbconvert_exporter": "python",
   "pygments_lexer": "ipython3",
   "version": "3.12.7"
  }
 },
 "nbformat": 4,
 "nbformat_minor": 5
}
