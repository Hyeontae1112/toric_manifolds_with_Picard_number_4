{
 "cells": [
  {
   "cell_type": "markdown",
   "id": "a0cf9ba2-01ce-4d42-8299-1736fbd9ff9c",
   "metadata": {
    "jp-MarkdownHeadingCollapsed": true
   },
   "source": [
    "# Preparation"
   ]
  },
  {
   "cell_type": "code",
   "execution_count": 1,
   "id": "99e278ae-6436-4b9a-a908-913b6e9b7f9e",
   "metadata": {},
   "outputs": [],
   "source": [
    "%run programs\\\\Characteristic_Pair.py\n",
    "import copy\n",
    "\n",
    "minimally_non_fanlikes_index=8\n",
    "\n",
    "K = Simplicial_Complex(json.loads(read_file('programs\\\\minimally_non_fanlikes')[minimally_non_fanlikes_index]))\n",
    "M = initial_char(K.n)\n",
    "C0 = Characteristic_Pair(K, M)\n",
    "\n",
    "a0, a1, a2, a3 = sp.symbols('a0:%d'%K.n)\n",
    "b0, b1, b2, b3 = sp.symbols('b0:%d'%K.n)\n",
    "c0, c1, c2, c3 = sp.symbols('c0:%d'%K.n)\n",
    "d0, d1, d2, d3 = sp.symbols('d0:%d'%K.n)"
   ]
  },
  {
   "cell_type": "code",
   "execution_count": 2,
   "id": "0f4973fc-ab26-4bc6-97ba-f3f11d351658",
   "metadata": {},
   "outputs": [],
   "source": [
    "C=C0"
   ]
  },
  {
   "cell_type": "code",
   "execution_count": 3,
   "id": "04877898-cddc-4b4a-82d6-387041a36646",
   "metadata": {},
   "outputs": [
    {
     "name": "stdout",
     "output_type": "stream",
     "text": [
      "facet number: 4\n"
     ]
    },
    {
     "data": {
      "text/latex": [
       "$\\displaystyle a_{1} = -1$"
      ],
      "text/plain": [
       "Eq(a1, -1)"
      ]
     },
     "metadata": {},
     "output_type": "display_data"
    },
    {
     "name": "stdout",
     "output_type": "stream",
     "text": [
      "facet number: 1\n"
     ]
    },
    {
     "data": {
      "text/latex": [
       "$\\displaystyle a_{3} = -1$"
      ],
      "text/plain": [
       "Eq(a3, -1)"
      ]
     },
     "metadata": {},
     "output_type": "display_data"
    },
    {
     "name": "stdout",
     "output_type": "stream",
     "text": [
      "facet number: 10\n"
     ]
    },
    {
     "data": {
      "text/latex": [
       "$\\displaystyle - b_{0} = 1$"
      ],
      "text/plain": [
       "Eq(-b0, 1)"
      ]
     },
     "metadata": {},
     "output_type": "display_data"
    },
    {
     "name": "stdout",
     "output_type": "stream",
     "text": [
      "facet number: 2\n"
     ]
    },
    {
     "data": {
      "text/latex": [
       "$\\displaystyle - d_{2} = 1$"
      ],
      "text/plain": [
       "Eq(-d2, 1)"
      ]
     },
     "metadata": {},
     "output_type": "display_data"
    }
   ],
   "source": [
    "i=4\n",
    "print('facet number:', i)\n",
    "display(sp.Eq(C.determinants[i], C.orientation[i]))\n",
    "\n",
    "i=1\n",
    "print('facet number:', i)\n",
    "display(sp.Eq(C.determinants[i], C.orientation[i]))\n",
    "\n",
    "i=10\n",
    "print('facet number:', i)\n",
    "display(sp.Eq(C.determinants[i], C.orientation[i]))\n",
    "\n",
    "i=2\n",
    "print('facet number:', i)\n",
    "display(sp.Eq(C.determinants[i], C.orientation[i]))\n",
    "\n",
    "C.subs(a1, -1)\n",
    "C.subs(a3, -1)\n",
    "C.subs(b0, -1)\n",
    "C.subs(d2, -1)"
   ]
  },
  {
   "cell_type": "code",
   "execution_count": 4,
   "id": "5117276d-900b-4e76-b0db-e69cf09f9ec8",
   "metadata": {},
   "outputs": [
    {
     "name": "stdout",
     "output_type": "stream",
     "text": [
      "facet number: 3\n"
     ]
    },
    {
     "data": {
      "text/latex": [
       "$\\displaystyle a_{2} d_{3} - 1 = -1$"
      ],
      "text/plain": [
       "Eq(a2*d3 - 1, -1)"
      ]
     },
     "metadata": {},
     "output_type": "display_data"
    }
   ],
   "source": [
    "i=3\n",
    "print('facet number:', i)\n",
    "display(sp.Eq(C.determinants[i], C.orientation[i]))"
   ]
  },
  {
   "cell_type": "markdown",
   "id": "8d29b837-e3de-4524-9712-ec0a3f402fe9",
   "metadata": {
    "jp-MarkdownHeadingCollapsed": true
   },
   "source": [
    "# $a_2=0$"
   ]
  },
  {
   "cell_type": "code",
   "execution_count": 12,
   "id": "70739896-20ca-49b7-bb35-9990935ff3d2",
   "metadata": {},
   "outputs": [],
   "source": [
    "C1=copy.deepcopy(C0)\n",
    "C=C1\n",
    "C.subs(a2, 0)"
   ]
  },
  {
   "cell_type": "code",
   "execution_count": 13,
   "id": "ac94b0af-5264-416b-94c7-0398392d2507",
   "metadata": {},
   "outputs": [
    {
     "name": "stdout",
     "output_type": "stream",
     "text": [
      "facet number: 5\n"
     ]
    },
    {
     "data": {
      "text/latex": [
       "$\\displaystyle - b_{2} = 1$"
      ],
      "text/plain": [
       "Eq(-b2, 1)"
      ]
     },
     "metadata": {},
     "output_type": "display_data"
    }
   ],
   "source": [
    "i=5\n",
    "print('facet number:', i)\n",
    "display(sp.Eq(C.determinants[i], C.orientation[i]))\n",
    "\n",
    "C.subs(b2, -1)"
   ]
  },
  {
   "cell_type": "code",
   "execution_count": 14,
   "id": "5ea78bff-163d-4b50-bb7b-4c6428387076",
   "metadata": {},
   "outputs": [
    {
     "name": "stdout",
     "output_type": "stream",
     "text": [
      "facet number: 14\n"
     ]
    },
    {
     "data": {
      "text/latex": [
       "$\\displaystyle - c_{0} + c_{2} = -1$"
      ],
      "text/plain": [
       "Eq(-c0 + c2, -1)"
      ]
     },
     "metadata": {},
     "output_type": "display_data"
    }
   ],
   "source": [
    "i=14\n",
    "print('facet number:', i)\n",
    "display(sp.Eq(C.determinants[i], C.orientation[i]))\n",
    "\n",
    "C.subs(c0, c2+1)"
   ]
  },
  {
   "cell_type": "code",
   "execution_count": 15,
   "id": "d2dde66a-65a6-4cbe-a049-d459f155546e",
   "metadata": {},
   "outputs": [
    {
     "name": "stdout",
     "output_type": "stream",
     "text": [
      "facet number: 15\n"
     ]
    },
    {
     "data": {
      "text/latex": [
       "$\\displaystyle c_{2} d_{0} + c_{2} + 1 = -1$"
      ],
      "text/plain": [
       "Eq(c2*d0 + c2 + 1, -1)"
      ]
     },
     "metadata": {},
     "output_type": "display_data"
    }
   ],
   "source": [
    "i=15\n",
    "print('facet number:', i)\n",
    "display(sp.Eq(C.determinants[i], C.orientation[i]))"
   ]
  },
  {
   "cell_type": "markdown",
   "id": "b2727409-11e8-4abc-884b-a5c160f36b1f",
   "metadata": {
    "jp-MarkdownHeadingCollapsed": true
   },
   "source": [
    "## $c_2=1$"
   ]
  },
  {
   "cell_type": "code",
   "execution_count": 16,
   "id": "647860fd-4f3e-4c47-8ca6-feb68278417e",
   "metadata": {},
   "outputs": [],
   "source": [
    "C2=copy.deepcopy(C1)\n",
    "C=C2\n",
    "C.subs(c2, 1)"
   ]
  },
  {
   "cell_type": "code",
   "execution_count": 18,
   "id": "1722398e-205a-4fc4-8713-ec72895a8f57",
   "metadata": {},
   "outputs": [
    {
     "name": "stdout",
     "output_type": "stream",
     "text": [
      "facet number: 15\n"
     ]
    },
    {
     "data": {
      "text/latex": [
       "$\\displaystyle d_{0} + 2 = -1$"
      ],
      "text/plain": [
       "Eq(d0 + 2, -1)"
      ]
     },
     "metadata": {},
     "output_type": "display_data"
    }
   ],
   "source": [
    "i=15\n",
    "print('facet number:', i)\n",
    "display(sp.Eq(C.determinants[i], C.orientation[i]))\n",
    "\n",
    "C.subs(d0, -3)"
   ]
  },
  {
   "cell_type": "code",
   "execution_count": 21,
   "id": "05fbf462-013c-4a88-9c09-ef5c59c68679",
   "metadata": {},
   "outputs": [
    {
     "name": "stdout",
     "output_type": "stream",
     "text": [
      "facet number: 11\n"
     ]
    },
    {
     "data": {
      "text/latex": [
       "$\\displaystyle a_{0} d_{3} - 3 = -1$"
      ],
      "text/plain": [
       "Eq(a0*d3 - 3, -1)"
      ]
     },
     "metadata": {},
     "output_type": "display_data"
    },
    {
     "name": "stdout",
     "output_type": "stream",
     "text": [
      "facet number: 16\n"
     ]
    },
    {
     "data": {
      "text/latex": [
       "$\\displaystyle a_{0} b_{1} - 1 = -1$"
      ],
      "text/plain": [
       "Eq(a0*b1 - 1, -1)"
      ]
     },
     "metadata": {},
     "output_type": "display_data"
    }
   ],
   "source": [
    "i=11\n",
    "print('facet number:', i)\n",
    "display(sp.Eq(C.determinants[i], C.orientation[i]))\n",
    "\n",
    "i=16\n",
    "print('facet number:', i)\n",
    "display(sp.Eq(C.determinants[i], C.orientation[i]))\n",
    "\n",
    "C.subs(b1, 0)"
   ]
  },
  {
   "cell_type": "code",
   "execution_count": 23,
   "id": "e79b0dc4-191a-4e4e-89a3-b3f539e60ac1",
   "metadata": {},
   "outputs": [
    {
     "name": "stdout",
     "output_type": "stream",
     "text": [
      "facet number: 6\n"
     ]
    },
    {
     "data": {
      "text/latex": [
       "$\\displaystyle c_{1} = 1$"
      ],
      "text/plain": [
       "Eq(c1, 1)"
      ]
     },
     "metadata": {},
     "output_type": "display_data"
    }
   ],
   "source": [
    "i=6\n",
    "print('facet number:', i)\n",
    "display(sp.Eq(C.determinants[i], C.orientation[i]))\n",
    "\n",
    "C.subs(c1, 1)"
   ]
  },
  {
   "cell_type": "code",
   "execution_count": 26,
   "id": "9f3b3349-4b2a-462c-8b40-f4d7e1de8d25",
   "metadata": {},
   "outputs": [
    {
     "name": "stdout",
     "output_type": "stream",
     "text": [
      "facet number: 7\n"
     ]
    },
    {
     "data": {
      "text/latex": [
       "$\\displaystyle - d_{1} - 1 = 1$"
      ],
      "text/plain": [
       "Eq(-d1 - 1, 1)"
      ]
     },
     "metadata": {},
     "output_type": "display_data"
    }
   ],
   "source": [
    "i=7\n",
    "print('facet number:', i)\n",
    "display(sp.Eq(C.determinants[i], C.orientation[i]))\n",
    "\n",
    "C.subs(d1, -2)"
   ]
  },
  {
   "cell_type": "code",
   "execution_count": 28,
   "id": "c9ecbd33-1ce4-4476-9ac3-4f04bdec2e34",
   "metadata": {},
   "outputs": [
    {
     "name": "stdout",
     "output_type": "stream",
     "text": [
      "facet number: 9\n"
     ]
    },
    {
     "data": {
      "text/latex": [
       "$\\displaystyle - c_{3} - d_{3} - 1 = -1$"
      ],
      "text/plain": [
       "Eq(-c3 - d3 - 1, -1)"
      ]
     },
     "metadata": {},
     "output_type": "display_data"
    }
   ],
   "source": [
    "i=9\n",
    "print('facet number:', i)\n",
    "display(sp.Eq(C.determinants[i], C.orientation[i]))\n",
    "\n",
    "C.subs(d3, -c3)"
   ]
  },
  {
   "cell_type": "code",
   "execution_count": 30,
   "id": "b3b3c38d-7eb3-4194-b9d4-214a18e6d989",
   "metadata": {},
   "outputs": [
    {
     "name": "stdout",
     "output_type": "stream",
     "text": [
      "facet number: 13\n"
     ]
    },
    {
     "data": {
      "text/latex": [
       "$\\displaystyle c_{3} = 1$"
      ],
      "text/plain": [
       "Eq(c3, 1)"
      ]
     },
     "metadata": {},
     "output_type": "display_data"
    }
   ],
   "source": [
    "i=13\n",
    "print('facet number:', i)\n",
    "display(sp.Eq(C.determinants[i], C.orientation[i]))\n",
    "\n",
    "C.subs(c3, 1)"
   ]
  },
  {
   "cell_type": "code",
   "execution_count": 32,
   "id": "a4defd6a-0a7d-42e8-b75c-960c4fb25e4b",
   "metadata": {},
   "outputs": [
    {
     "name": "stdout",
     "output_type": "stream",
     "text": [
      "facet number: 8\n"
     ]
    },
    {
     "data": {
      "text/latex": [
       "$\\displaystyle b_{3} = -1$"
      ],
      "text/plain": [
       "Eq(b3, -1)"
      ]
     },
     "metadata": {},
     "output_type": "display_data"
    },
    {
     "name": "stdout",
     "output_type": "stream",
     "text": [
      "facet number: 18\n"
     ]
    },
    {
     "data": {
      "text/latex": [
       "$\\displaystyle - b_{3} - 1 = 1$"
      ],
      "text/plain": [
       "Eq(-b3 - 1, 1)"
      ]
     },
     "metadata": {},
     "output_type": "display_data"
    },
    {
     "name": "stdout",
     "output_type": "stream",
     "text": [
      "no solution\n"
     ]
    }
   ],
   "source": [
    "i=8\n",
    "print('facet number:', i)\n",
    "display(sp.Eq(C.determinants[i], C.orientation[i]))\n",
    "\n",
    "i=18\n",
    "print('facet number:', i)\n",
    "display(sp.Eq(C.determinants[i], C.orientation[i]))\n",
    "\n",
    "print('no solution')"
   ]
  },
  {
   "cell_type": "markdown",
   "id": "118cb1e5-b518-4e8a-a799-4717572ebea4",
   "metadata": {
    "jp-MarkdownHeadingCollapsed": true
   },
   "source": [
    "## $c_2=-1$"
   ]
  },
  {
   "cell_type": "code",
   "execution_count": 38,
   "id": "a10c7374-6932-4ec9-b258-cdd37e4d2667",
   "metadata": {},
   "outputs": [],
   "source": [
    "C2=copy.deepcopy(C1)\n",
    "C=C2\n",
    "C.subs(c2, -1)"
   ]
  },
  {
   "cell_type": "code",
   "execution_count": 39,
   "id": "d155aa23-29e6-4628-b6e0-491daabd1b7a",
   "metadata": {},
   "outputs": [
    {
     "name": "stdout",
     "output_type": "stream",
     "text": [
      "facet number: 15\n"
     ]
    },
    {
     "data": {
      "text/latex": [
       "$\\displaystyle - d_{0} = -1$"
      ],
      "text/plain": [
       "Eq(-d0, -1)"
      ]
     },
     "metadata": {},
     "output_type": "display_data"
    }
   ],
   "source": [
    "i=15\n",
    "print('facet number:', i)\n",
    "display(sp.Eq(C.determinants[i], C.orientation[i]))\n",
    "\n",
    "C.subs(d0, 1)"
   ]
  },
  {
   "cell_type": "code",
   "execution_count": 41,
   "id": "7bbca781-f7a0-4bf7-badb-4e843d75d346",
   "metadata": {},
   "outputs": [
    {
     "name": "stdout",
     "output_type": "stream",
     "text": [
      "facet number: 11\n"
     ]
    },
    {
     "data": {
      "text/latex": [
       "$\\displaystyle a_{0} d_{3} + 1 = -1$"
      ],
      "text/plain": [
       "Eq(a0*d3 + 1, -1)"
      ]
     },
     "metadata": {},
     "output_type": "display_data"
    },
    {
     "name": "stdout",
     "output_type": "stream",
     "text": [
      "facet number: 16\n"
     ]
    },
    {
     "data": {
      "text/latex": [
       "$\\displaystyle a_{0} b_{1} - 1 = -1$"
      ],
      "text/plain": [
       "Eq(a0*b1 - 1, -1)"
      ]
     },
     "metadata": {},
     "output_type": "display_data"
    }
   ],
   "source": [
    "i=11\n",
    "print('facet number:', i)\n",
    "display(sp.Eq(C.determinants[i], C.orientation[i]))\n",
    "\n",
    "i=16\n",
    "print('facet number:', i)\n",
    "display(sp.Eq(C.determinants[i], C.orientation[i]))\n",
    "\n",
    "C.subs(b1, 0)"
   ]
  },
  {
   "cell_type": "code",
   "execution_count": 44,
   "id": "4803c1a9-ed21-4fb5-80c7-2d9978586659",
   "metadata": {},
   "outputs": [
    {
     "name": "stdout",
     "output_type": "stream",
     "text": [
      "facet number: 6\n"
     ]
    },
    {
     "data": {
      "text/latex": [
       "$\\displaystyle c_{1} = 1$"
      ],
      "text/plain": [
       "Eq(c1, 1)"
      ]
     },
     "metadata": {},
     "output_type": "display_data"
    }
   ],
   "source": [
    "i=6\n",
    "print('facet number:', i)\n",
    "display(sp.Eq(C.determinants[i], C.orientation[i]))\n",
    "\n",
    "C.subs(c1, 1)"
   ]
  },
  {
   "cell_type": "code",
   "execution_count": 47,
   "id": "86dc04d5-ee69-43f0-af47-cdf9ea5595ed",
   "metadata": {},
   "outputs": [
    {
     "name": "stdout",
     "output_type": "stream",
     "text": [
      "facet number: 7\n"
     ]
    },
    {
     "data": {
      "text/latex": [
       "$\\displaystyle d_{1} - 1 = 1$"
      ],
      "text/plain": [
       "Eq(d1 - 1, 1)"
      ]
     },
     "metadata": {},
     "output_type": "display_data"
    }
   ],
   "source": [
    "i=7\n",
    "print('facet number:', i)\n",
    "display(sp.Eq(C.determinants[i], C.orientation[i]))\n",
    "\n",
    "C.subs(d1, 2)"
   ]
  },
  {
   "cell_type": "code",
   "execution_count": 50,
   "id": "cd6b95a2-2d2e-4c60-8a0a-ec0de644505f",
   "metadata": {},
   "outputs": [
    {
     "name": "stdout",
     "output_type": "stream",
     "text": [
      "facet number: 9\n"
     ]
    },
    {
     "data": {
      "text/latex": [
       "$\\displaystyle - c_{3} + d_{3} - 1 = -1$"
      ],
      "text/plain": [
       "Eq(-c3 + d3 - 1, -1)"
      ]
     },
     "metadata": {},
     "output_type": "display_data"
    }
   ],
   "source": [
    "i=9\n",
    "print('facet number:', i)\n",
    "display(sp.Eq(C.determinants[i], C.orientation[i]))\n",
    "\n",
    "C.subs(d3, c3)"
   ]
  },
  {
   "cell_type": "code",
   "execution_count": 53,
   "id": "b40e6a88-30ac-43c3-8c72-e17521971c58",
   "metadata": {},
   "outputs": [
    {
     "name": "stdout",
     "output_type": "stream",
     "text": [
      "facet number: 13\n"
     ]
    },
    {
     "data": {
      "text/latex": [
       "$\\displaystyle - c_{3} = 1$"
      ],
      "text/plain": [
       "Eq(-c3, 1)"
      ]
     },
     "metadata": {},
     "output_type": "display_data"
    }
   ],
   "source": [
    "i=13\n",
    "print('facet number:', i)\n",
    "display(sp.Eq(C.determinants[i], C.orientation[i]))\n",
    "\n",
    "C.subs(c3, -1)"
   ]
  },
  {
   "cell_type": "code",
   "execution_count": 55,
   "id": "c7c65842-1a64-420e-9ac5-c5d8b7ea57ac",
   "metadata": {},
   "outputs": [
    {
     "name": "stdout",
     "output_type": "stream",
     "text": [
      "facet number: 8\n"
     ]
    },
    {
     "data": {
      "text/latex": [
       "$\\displaystyle - b_{3} - 2 = -1$"
      ],
      "text/plain": [
       "Eq(-b3 - 2, -1)"
      ]
     },
     "metadata": {},
     "output_type": "display_data"
    },
    {
     "name": "stdout",
     "output_type": "stream",
     "text": [
      "facet number: 18\n"
     ]
    },
    {
     "data": {
      "text/latex": [
       "$\\displaystyle - b_{3} - 1 = 1$"
      ],
      "text/plain": [
       "Eq(-b3 - 1, 1)"
      ]
     },
     "metadata": {},
     "output_type": "display_data"
    },
    {
     "name": "stdout",
     "output_type": "stream",
     "text": [
      "no solution\n"
     ]
    }
   ],
   "source": [
    "i=8\n",
    "print('facet number:', i)\n",
    "display(sp.Eq(C.determinants[i], C.orientation[i]))\n",
    "\n",
    "i=18\n",
    "print('facet number:', i)\n",
    "display(sp.Eq(C.determinants[i], C.orientation[i]))\n",
    "\n",
    "print('no solution')"
   ]
  },
  {
   "cell_type": "markdown",
   "id": "4b370181-7806-4a38-9e60-2bf0a0649d60",
   "metadata": {
    "jp-MarkdownHeadingCollapsed": true
   },
   "source": [
    "## $c_2=2$"
   ]
  },
  {
   "cell_type": "code",
   "execution_count": 56,
   "id": "0fa11042-f126-4cf3-b0c4-25f62999fff9",
   "metadata": {},
   "outputs": [],
   "source": [
    "C2=copy.deepcopy(C1)\n",
    "C=C2\n",
    "C.subs(c2, 2)"
   ]
  },
  {
   "cell_type": "code",
   "execution_count": 58,
   "id": "09fcc20e-eadd-4f64-a43e-990afb3e8ae0",
   "metadata": {},
   "outputs": [
    {
     "name": "stdout",
     "output_type": "stream",
     "text": [
      "facet number: 15\n"
     ]
    },
    {
     "data": {
      "text/latex": [
       "$\\displaystyle 2 d_{0} + 3 = -1$"
      ],
      "text/plain": [
       "Eq(2*d0 + 3, -1)"
      ]
     },
     "metadata": {},
     "output_type": "display_data"
    }
   ],
   "source": [
    "i=15\n",
    "print('facet number:', i)\n",
    "display(sp.Eq(C.determinants[i], C.orientation[i]))\n",
    "\n",
    "C.subs(d0, -2)"
   ]
  },
  {
   "cell_type": "code",
   "execution_count": 61,
   "id": "72a12a9f-1e76-4d2e-ba5e-d39b06d569c4",
   "metadata": {},
   "outputs": [
    {
     "name": "stdout",
     "output_type": "stream",
     "text": [
      "facet number: 11\n"
     ]
    },
    {
     "data": {
      "text/latex": [
       "$\\displaystyle a_{0} d_{3} - 2 = -1$"
      ],
      "text/plain": [
       "Eq(a0*d3 - 2, -1)"
      ]
     },
     "metadata": {},
     "output_type": "display_data"
    },
    {
     "name": "stdout",
     "output_type": "stream",
     "text": [
      "facet number: 16\n"
     ]
    },
    {
     "data": {
      "text/latex": [
       "$\\displaystyle a_{0} b_{1} - 1 = -1$"
      ],
      "text/plain": [
       "Eq(a0*b1 - 1, -1)"
      ]
     },
     "metadata": {},
     "output_type": "display_data"
    }
   ],
   "source": [
    "i=11\n",
    "print('facet number:', i)\n",
    "display(sp.Eq(C.determinants[i], C.orientation[i]))\n",
    "\n",
    "i=16\n",
    "print('facet number:', i)\n",
    "display(sp.Eq(C.determinants[i], C.orientation[i]))\n",
    "\n",
    "C.subs(b1, 0)"
   ]
  },
  {
   "cell_type": "code",
   "execution_count": 64,
   "id": "66557a24-e671-4b8c-9cb4-efc3223f9f7e",
   "metadata": {},
   "outputs": [
    {
     "name": "stdout",
     "output_type": "stream",
     "text": [
      "facet number: 6\n"
     ]
    },
    {
     "data": {
      "text/latex": [
       "$\\displaystyle c_{1} = 1$"
      ],
      "text/plain": [
       "Eq(c1, 1)"
      ]
     },
     "metadata": {},
     "output_type": "display_data"
    }
   ],
   "source": [
    "i=6\n",
    "print('facet number:', i)\n",
    "display(sp.Eq(C.determinants[i], C.orientation[i]))\n",
    "\n",
    "C.subs(c1, 1)"
   ]
  },
  {
   "cell_type": "code",
   "execution_count": 67,
   "id": "f32ec40e-ec01-479a-b869-835c58aea1d5",
   "metadata": {},
   "outputs": [
    {
     "name": "stdout",
     "output_type": "stream",
     "text": [
      "facet number: 7\n"
     ]
    },
    {
     "data": {
      "text/latex": [
       "$\\displaystyle - 2 d_{1} - 1 = 1$"
      ],
      "text/plain": [
       "Eq(-2*d1 - 1, 1)"
      ]
     },
     "metadata": {},
     "output_type": "display_data"
    }
   ],
   "source": [
    "i=7\n",
    "print('facet number:', i)\n",
    "display(sp.Eq(C.determinants[i], C.orientation[i]))\n",
    "\n",
    "C.subs(d1, -1)"
   ]
  },
  {
   "cell_type": "code",
   "execution_count": 70,
   "id": "9bc26a36-8b45-4654-997d-c2bdd45369f4",
   "metadata": {},
   "outputs": [
    {
     "name": "stdout",
     "output_type": "stream",
     "text": [
      "facet number: 9\n"
     ]
    },
    {
     "data": {
      "text/latex": [
       "$\\displaystyle - c_{3} - 2 d_{3} - 1 = -1$"
      ],
      "text/plain": [
       "Eq(-c3 - 2*d3 - 1, -1)"
      ]
     },
     "metadata": {},
     "output_type": "display_data"
    }
   ],
   "source": [
    "i=9\n",
    "print('facet number:', i)\n",
    "display(sp.Eq(C.determinants[i], C.orientation[i]))\n",
    "\n",
    "C.subs(c3, -2*d3)"
   ]
  },
  {
   "cell_type": "code",
   "execution_count": 73,
   "id": "bd558166-371a-4f5a-96fa-498051a4acfd",
   "metadata": {},
   "outputs": [
    {
     "name": "stdout",
     "output_type": "stream",
     "text": [
      "facet number: 13\n"
     ]
    },
    {
     "data": {
      "text/latex": [
       "$\\displaystyle - d_{3} = 1$"
      ],
      "text/plain": [
       "Eq(-d3, 1)"
      ]
     },
     "metadata": {},
     "output_type": "display_data"
    }
   ],
   "source": [
    "i=13\n",
    "print('facet number:', i)\n",
    "display(sp.Eq(C.determinants[i], C.orientation[i]))\n",
    "\n",
    "C.subs(d3, -1)"
   ]
  },
  {
   "cell_type": "code",
   "execution_count": 74,
   "id": "cd506192-2a6b-4ffa-bcff-057acf2b889d",
   "metadata": {},
   "outputs": [
    {
     "name": "stdout",
     "output_type": "stream",
     "text": [
      "facet number: 8\n"
     ]
    },
    {
     "data": {
      "text/latex": [
       "$\\displaystyle 2 b_{3} + 1 = -1$"
      ],
      "text/plain": [
       "Eq(2*b3 + 1, -1)"
      ]
     },
     "metadata": {},
     "output_type": "display_data"
    },
    {
     "name": "stdout",
     "output_type": "stream",
     "text": [
      "facet number: 18\n"
     ]
    },
    {
     "data": {
      "text/latex": [
       "$\\displaystyle - b_{3} - 1 = 1$"
      ],
      "text/plain": [
       "Eq(-b3 - 1, 1)"
      ]
     },
     "metadata": {},
     "output_type": "display_data"
    },
    {
     "name": "stdout",
     "output_type": "stream",
     "text": [
      "no solution\n"
     ]
    }
   ],
   "source": [
    "i=8\n",
    "print('facet number:', i)\n",
    "display(sp.Eq(C.determinants[i], C.orientation[i]))\n",
    "\n",
    "i=18\n",
    "print('facet number:', i)\n",
    "display(sp.Eq(C.determinants[i], C.orientation[i]))\n",
    "\n",
    "print('no solution')"
   ]
  },
  {
   "cell_type": "markdown",
   "id": "0502cab9-58ba-4c7f-a893-74af9ea4ef85",
   "metadata": {
    "jp-MarkdownHeadingCollapsed": true
   },
   "source": [
    "## $c_2=-2$"
   ]
  },
  {
   "cell_type": "code",
   "execution_count": 75,
   "id": "c66a26b0-07e0-4ab9-bac6-f1d84b4838d3",
   "metadata": {},
   "outputs": [],
   "source": [
    "C2=copy.deepcopy(C1)\n",
    "C=C2\n",
    "C.subs(c2, -2)"
   ]
  },
  {
   "cell_type": "code",
   "execution_count": 77,
   "id": "0a8c0a32-3011-41d0-8b2a-f2a19a3002bc",
   "metadata": {},
   "outputs": [
    {
     "name": "stdout",
     "output_type": "stream",
     "text": [
      "facet number: 15\n"
     ]
    },
    {
     "data": {
      "text/latex": [
       "$\\displaystyle - 2 d_{0} - 1 = -1$"
      ],
      "text/plain": [
       "Eq(-2*d0 - 1, -1)"
      ]
     },
     "metadata": {},
     "output_type": "display_data"
    }
   ],
   "source": [
    "i=15\n",
    "print('facet number:', i)\n",
    "display(sp.Eq(C.determinants[i], C.orientation[i]))\n",
    "\n",
    "C.subs(d0, 0)"
   ]
  },
  {
   "cell_type": "code",
   "execution_count": 80,
   "id": "f7c0d4e4-a9f0-4d66-b782-6d0f23e2ad08",
   "metadata": {},
   "outputs": [
    {
     "name": "stdout",
     "output_type": "stream",
     "text": [
      "facet number: 11\n"
     ]
    },
    {
     "data": {
      "text/latex": [
       "$\\displaystyle a_{0} d_{3} = -1$"
      ],
      "text/plain": [
       "Eq(a0*d3, -1)"
      ]
     },
     "metadata": {},
     "output_type": "display_data"
    },
    {
     "name": "stdout",
     "output_type": "stream",
     "text": [
      "facet number: 16\n"
     ]
    },
    {
     "data": {
      "text/latex": [
       "$\\displaystyle a_{0} b_{1} - 1 = -1$"
      ],
      "text/plain": [
       "Eq(a0*b1 - 1, -1)"
      ]
     },
     "metadata": {},
     "output_type": "display_data"
    }
   ],
   "source": [
    "i=11\n",
    "print('facet number:', i)\n",
    "display(sp.Eq(C.determinants[i], C.orientation[i]))\n",
    "\n",
    "i=16\n",
    "print('facet number:', i)\n",
    "display(sp.Eq(C.determinants[i], C.orientation[i]))\n",
    "\n",
    "C.subs(b1, 0)"
   ]
  },
  {
   "cell_type": "code",
   "execution_count": 83,
   "id": "cd2a4200-9e43-406b-8f54-1e4d54e2db93",
   "metadata": {},
   "outputs": [
    {
     "name": "stdout",
     "output_type": "stream",
     "text": [
      "facet number: 6\n"
     ]
    },
    {
     "data": {
      "text/latex": [
       "$\\displaystyle c_{1} = 1$"
      ],
      "text/plain": [
       "Eq(c1, 1)"
      ]
     },
     "metadata": {},
     "output_type": "display_data"
    }
   ],
   "source": [
    "i=6\n",
    "print('facet number:', i)\n",
    "display(sp.Eq(C.determinants[i], C.orientation[i]))\n",
    "\n",
    "C.subs(c1, 1)"
   ]
  },
  {
   "cell_type": "code",
   "execution_count": 86,
   "id": "125155fb-d2eb-4c3f-93d4-c05fc5975bd4",
   "metadata": {},
   "outputs": [
    {
     "name": "stdout",
     "output_type": "stream",
     "text": [
      "facet number: 7\n"
     ]
    },
    {
     "data": {
      "text/latex": [
       "$\\displaystyle 2 d_{1} - 1 = 1$"
      ],
      "text/plain": [
       "Eq(2*d1 - 1, 1)"
      ]
     },
     "metadata": {},
     "output_type": "display_data"
    }
   ],
   "source": [
    "i=7\n",
    "print('facet number:', i)\n",
    "display(sp.Eq(C.determinants[i], C.orientation[i]))\n",
    "\n",
    "C.subs(d1, 1)"
   ]
  },
  {
   "cell_type": "code",
   "execution_count": 89,
   "id": "71809436-36ea-402c-864d-88a9699b74a4",
   "metadata": {},
   "outputs": [
    {
     "name": "stdout",
     "output_type": "stream",
     "text": [
      "facet number: 9\n"
     ]
    },
    {
     "data": {
      "text/latex": [
       "$\\displaystyle - c_{3} + 2 d_{3} - 1 = -1$"
      ],
      "text/plain": [
       "Eq(-c3 + 2*d3 - 1, -1)"
      ]
     },
     "metadata": {},
     "output_type": "display_data"
    }
   ],
   "source": [
    "i=9\n",
    "print('facet number:', i)\n",
    "display(sp.Eq(C.determinants[i], C.orientation[i]))\n",
    "\n",
    "C.subs(c3, 2*d3)"
   ]
  },
  {
   "cell_type": "code",
   "execution_count": 92,
   "id": "e9ec5f2d-85e1-45f0-bf5d-010ec0349f4c",
   "metadata": {},
   "outputs": [
    {
     "name": "stdout",
     "output_type": "stream",
     "text": [
      "facet number: 13\n"
     ]
    },
    {
     "data": {
      "text/latex": [
       "$\\displaystyle - d_{3} = 1$"
      ],
      "text/plain": [
       "Eq(-d3, 1)"
      ]
     },
     "metadata": {},
     "output_type": "display_data"
    }
   ],
   "source": [
    "i=13\n",
    "print('facet number:', i)\n",
    "display(sp.Eq(C.determinants[i], C.orientation[i]))\n",
    "\n",
    "C.subs(d3, -1)"
   ]
  },
  {
   "cell_type": "code",
   "execution_count": 95,
   "id": "48cd71a2-95bd-445b-b49d-53ce3e2d01d8",
   "metadata": {},
   "outputs": [
    {
     "name": "stdout",
     "output_type": "stream",
     "text": [
      "facet number: 8\n"
     ]
    },
    {
     "data": {
      "text/latex": [
       "$\\displaystyle - 2 b_{3} - 3 = -1$"
      ],
      "text/plain": [
       "Eq(-2*b3 - 3, -1)"
      ]
     },
     "metadata": {},
     "output_type": "display_data"
    },
    {
     "name": "stdout",
     "output_type": "stream",
     "text": [
      "facet number: 18\n"
     ]
    },
    {
     "data": {
      "text/latex": [
       "$\\displaystyle - b_{3} - 1 = 1$"
      ],
      "text/plain": [
       "Eq(-b3 - 1, 1)"
      ]
     },
     "metadata": {},
     "output_type": "display_data"
    },
    {
     "name": "stdout",
     "output_type": "stream",
     "text": [
      "no solution\n"
     ]
    }
   ],
   "source": [
    "i=8\n",
    "print('facet number:', i)\n",
    "display(sp.Eq(C.determinants[i], C.orientation[i]))\n",
    "\n",
    "i=18\n",
    "print('facet number:', i)\n",
    "display(sp.Eq(C.determinants[i], C.orientation[i]))\n",
    "\n",
    "print('no solution')"
   ]
  },
  {
   "cell_type": "markdown",
   "id": "b614b077-2de1-46ae-bdac-42cb4324a4db",
   "metadata": {
    "jp-MarkdownHeadingCollapsed": true
   },
   "source": [
    "# $d_3=0$ ($a_2 \\not= 0$)"
   ]
  },
  {
   "cell_type": "code",
   "execution_count": 109,
   "id": "eec1978f-44f0-4a5f-ac69-9f02a96829b9",
   "metadata": {},
   "outputs": [],
   "source": [
    "C1=copy.deepcopy(C0)\n",
    "C=C1\n",
    "C.subs(d3, 0)"
   ]
  },
  {
   "cell_type": "code",
   "execution_count": 110,
   "id": "72184ad6-8df2-40f0-975d-778cce860d76",
   "metadata": {},
   "outputs": [
    {
     "name": "stdout",
     "output_type": "stream",
     "text": [
      "facet number: 11\n"
     ]
    },
    {
     "data": {
      "text/latex": [
       "$\\displaystyle d_{0} = -1$"
      ],
      "text/plain": [
       "Eq(d0, -1)"
      ]
     },
     "metadata": {},
     "output_type": "display_data"
    }
   ],
   "source": [
    "i=11\n",
    "print('facet number:', i)\n",
    "display(sp.Eq(C.determinants[i], C.orientation[i]))\n",
    "\n",
    "C.subs(d0, -1)"
   ]
  },
  {
   "cell_type": "code",
   "execution_count": 111,
   "id": "48a13260-942f-4d11-a704-2d5e2ca43dc7",
   "metadata": {},
   "outputs": [
    {
     "name": "stdout",
     "output_type": "stream",
     "text": [
      "facet number: 13\n"
     ]
    },
    {
     "data": {
      "text/latex": [
       "$\\displaystyle c_{3} = 1$"
      ],
      "text/plain": [
       "Eq(c3, 1)"
      ]
     },
     "metadata": {},
     "output_type": "display_data"
    }
   ],
   "source": [
    "i=13\n",
    "print('facet number:', i)\n",
    "display(sp.Eq(C.determinants[i], C.orientation[i]))\n",
    "\n",
    "C.subs(c3, 1)"
   ]
  },
  {
   "cell_type": "code",
   "execution_count": 112,
   "id": "54a8cb71-b31c-4509-9136-e6d47ae30656",
   "metadata": {},
   "outputs": [
    {
     "name": "stdout",
     "output_type": "stream",
     "text": [
      "facet number: 7\n"
     ]
    },
    {
     "data": {
      "text/latex": [
       "$\\displaystyle - c_{1} - c_{2} d_{1} = 1$"
      ],
      "text/plain": [
       "Eq(-c1 - c2*d1, 1)"
      ]
     },
     "metadata": {},
     "output_type": "display_data"
    },
    {
     "name": "stdout",
     "output_type": "stream",
     "text": [
      "facet number: 9\n"
     ]
    },
    {
     "data": {
      "text/latex": [
       "$\\displaystyle a_{2} d_{1} + c_{1} + c_{2} d_{1} - 1 = -1$"
      ],
      "text/plain": [
       "Eq(a2*d1 + c1 + c2*d1 - 1, -1)"
      ]
     },
     "metadata": {},
     "output_type": "display_data"
    },
    {
     "data": {
      "text/latex": [
       "$\\displaystyle a_{2} d_{1} - 1 = 0$"
      ],
      "text/plain": [
       "Eq(a2*d1 - 1, 0)"
      ]
     },
     "metadata": {},
     "output_type": "display_data"
    }
   ],
   "source": [
    "i=7\n",
    "print('facet number:', i)\n",
    "display(sp.Eq(C.determinants[i], C.orientation[i]))\n",
    "\n",
    "i=9\n",
    "print('facet number:', i)\n",
    "display(sp.Eq(C.determinants[i], C.orientation[i]))\n",
    "\n",
    "display(sp.Eq(C.determinants[7] + C.determinants[9], C.orientation[7] + C.orientation[9]))"
   ]
  },
  {
   "cell_type": "markdown",
   "id": "be5b062f-646d-43cd-b180-24442a96cb36",
   "metadata": {
    "jp-MarkdownHeadingCollapsed": true
   },
   "source": [
    "## $a_2=1$"
   ]
  },
  {
   "cell_type": "code",
   "execution_count": 147,
   "id": "2294e752-8608-4cfd-8375-22c4e00f0fca",
   "metadata": {},
   "outputs": [],
   "source": [
    "C2=copy.deepcopy(C1)\n",
    "C=C2\n",
    "C.subs(a2, 1)\n",
    "C.subs(d1, 1)"
   ]
  },
  {
   "cell_type": "code",
   "execution_count": 148,
   "id": "1b0936fb-6071-4a4c-b868-e1470cbce9b4",
   "metadata": {},
   "outputs": [
    {
     "name": "stdout",
     "output_type": "stream",
     "text": [
      "facet number: 5\n"
     ]
    },
    {
     "data": {
      "text/latex": [
       "$\\displaystyle - b_{1} - b_{2} = 1$"
      ],
      "text/plain": [
       "Eq(-b1 - b2, 1)"
      ]
     },
     "metadata": {},
     "output_type": "display_data"
    }
   ],
   "source": [
    "i=5\n",
    "print('facet number:', i)\n",
    "display(sp.Eq(C.determinants[i], C.orientation[i]))\n",
    "\n",
    "C.subs(b2, -b1-1)"
   ]
  },
  {
   "cell_type": "code",
   "execution_count": 149,
   "id": "21b1464a-8c4f-4145-b355-8767dfcc82d1",
   "metadata": {},
   "outputs": [
    {
     "name": "stdout",
     "output_type": "stream",
     "text": [
      "facet number: 7\n"
     ]
    },
    {
     "data": {
      "text/latex": [
       "$\\displaystyle - c_{1} - c_{2} = 1$"
      ],
      "text/plain": [
       "Eq(-c1 - c2, 1)"
      ]
     },
     "metadata": {},
     "output_type": "display_data"
    }
   ],
   "source": [
    "i=7\n",
    "print('facet number:', i)\n",
    "display(sp.Eq(C.determinants[i], C.orientation[i]))\n",
    "\n",
    "C.subs(c2, -c1-1)"
   ]
  },
  {
   "cell_type": "code",
   "execution_count": 150,
   "id": "0c1239ae-adeb-4a22-bf96-1cec0823cad7",
   "metadata": {},
   "outputs": [
    {
     "name": "stdout",
     "output_type": "stream",
     "text": [
      "facet number: 6\n"
     ]
    },
    {
     "data": {
      "text/latex": [
       "$\\displaystyle - b_{1} + c_{1} = 1$"
      ],
      "text/plain": [
       "Eq(-b1 + c1, 1)"
      ]
     },
     "metadata": {},
     "output_type": "display_data"
    }
   ],
   "source": [
    "i=6\n",
    "print('facet number:', i)\n",
    "display(sp.Eq(C.determinants[i], C.orientation[i]))\n",
    "\n",
    "C.subs(c1, b1+1)"
   ]
  },
  {
   "cell_type": "code",
   "execution_count": 151,
   "id": "5d2a544b-3bbc-4f9e-bd68-20421afec583",
   "metadata": {},
   "outputs": [
    {
     "name": "stdout",
     "output_type": "stream",
     "text": [
      "facet number: 8\n"
     ]
    },
    {
     "data": {
      "text/latex": [
       "$\\displaystyle - b_{3} = -1$"
      ],
      "text/plain": [
       "Eq(-b3, -1)"
      ]
     },
     "metadata": {},
     "output_type": "display_data"
    }
   ],
   "source": [
    "i=8\n",
    "print('facet number:', i)\n",
    "display(sp.Eq(C.determinants[i], C.orientation[i]))\n",
    "\n",
    "C.subs(b3, 1)"
   ]
  },
  {
   "cell_type": "code",
   "execution_count": 154,
   "id": "93e782e5-cbd9-488c-94c7-ce9aabeadfa5",
   "metadata": {},
   "outputs": [
    {
     "name": "stdout",
     "output_type": "stream",
     "text": [
      "facet number: 12\n"
     ]
    },
    {
     "data": {
      "text/latex": [
       "$\\displaystyle - c_{0} - 1 = 1$"
      ],
      "text/plain": [
       "Eq(-c0 - 1, 1)"
      ]
     },
     "metadata": {},
     "output_type": "display_data"
    },
    {
     "name": "stdout",
     "output_type": "stream",
     "text": [
      "facet number: 18\n"
     ]
    },
    {
     "data": {
      "text/latex": [
       "$\\displaystyle c_{0} + 2 = 1$"
      ],
      "text/plain": [
       "Eq(c0 + 2, 1)"
      ]
     },
     "metadata": {},
     "output_type": "display_data"
    },
    {
     "name": "stdout",
     "output_type": "stream",
     "text": [
      "no solution\n"
     ]
    }
   ],
   "source": [
    "i=12\n",
    "print('facet number:', i)\n",
    "display(sp.Eq(C.determinants[i], C.orientation[i]))\n",
    "\n",
    "i=18\n",
    "print('facet number:', i)\n",
    "display(sp.Eq(C.determinants[i], C.orientation[i]))\n",
    "\n",
    "print('no solution')"
   ]
  },
  {
   "cell_type": "markdown",
   "id": "8812d520-da77-4f4f-b9a4-edf090688c73",
   "metadata": {
    "jp-MarkdownHeadingCollapsed": true
   },
   "source": [
    "## $a_2=-1$"
   ]
  },
  {
   "cell_type": "code",
   "execution_count": 155,
   "id": "bf104b52-9b70-4740-948d-e70fa8e4092d",
   "metadata": {},
   "outputs": [],
   "source": [
    "C2=copy.deepcopy(C1)\n",
    "C=C2\n",
    "C.subs(a2, -1)\n",
    "C.subs(d1, -1)"
   ]
  },
  {
   "cell_type": "code",
   "execution_count": 156,
   "id": "7ec13d5e-2de2-4ad9-9e82-3a54757bad9b",
   "metadata": {},
   "outputs": [
    {
     "name": "stdout",
     "output_type": "stream",
     "text": [
      "facet number: 5\n"
     ]
    },
    {
     "data": {
      "text/latex": [
       "$\\displaystyle b_{1} - b_{2} = 1$"
      ],
      "text/plain": [
       "Eq(b1 - b2, 1)"
      ]
     },
     "metadata": {},
     "output_type": "display_data"
    }
   ],
   "source": [
    "i=5\n",
    "print('facet number:', i)\n",
    "display(sp.Eq(C.determinants[i], C.orientation[i]))\n",
    "\n",
    "C.subs(b2, b1-1)"
   ]
  },
  {
   "cell_type": "code",
   "execution_count": 157,
   "id": "f407ac85-be3f-4fa5-9727-6e267c92c465",
   "metadata": {},
   "outputs": [
    {
     "name": "stdout",
     "output_type": "stream",
     "text": [
      "facet number: 7\n"
     ]
    },
    {
     "data": {
      "text/latex": [
       "$\\displaystyle - c_{1} + c_{2} = 1$"
      ],
      "text/plain": [
       "Eq(-c1 + c2, 1)"
      ]
     },
     "metadata": {},
     "output_type": "display_data"
    }
   ],
   "source": [
    "i=7\n",
    "print('facet number:', i)\n",
    "display(sp.Eq(C.determinants[i], C.orientation[i]))\n",
    "\n",
    "C.subs(c2, c1+1)"
   ]
  },
  {
   "cell_type": "code",
   "execution_count": 158,
   "id": "20f17daf-621d-44dd-abb1-3a4395f2b8eb",
   "metadata": {},
   "outputs": [
    {
     "name": "stdout",
     "output_type": "stream",
     "text": [
      "facet number: 6\n"
     ]
    },
    {
     "data": {
      "text/latex": [
       "$\\displaystyle b_{1} + c_{1} = 1$"
      ],
      "text/plain": [
       "Eq(b1 + c1, 1)"
      ]
     },
     "metadata": {},
     "output_type": "display_data"
    }
   ],
   "source": [
    "i=6\n",
    "print('facet number:', i)\n",
    "display(sp.Eq(C.determinants[i], C.orientation[i]))\n",
    "\n",
    "C.subs(c1, -b1+1)"
   ]
  },
  {
   "cell_type": "code",
   "execution_count": 159,
   "id": "e840c486-9f0a-49ab-ac96-f26421f81e3b",
   "metadata": {},
   "outputs": [
    {
     "name": "stdout",
     "output_type": "stream",
     "text": [
      "facet number: 8\n"
     ]
    },
    {
     "data": {
      "text/latex": [
       "$\\displaystyle b_{3} = -1$"
      ],
      "text/plain": [
       "Eq(b3, -1)"
      ]
     },
     "metadata": {},
     "output_type": "display_data"
    }
   ],
   "source": [
    "i=8\n",
    "print('facet number:', i)\n",
    "display(sp.Eq(C.determinants[i], C.orientation[i]))\n",
    "\n",
    "C.subs(b3, -1)"
   ]
  },
  {
   "cell_type": "code",
   "execution_count": 160,
   "id": "947ab1da-d27b-472a-81e3-60799d7daad1",
   "metadata": {},
   "outputs": [
    {
     "name": "stdout",
     "output_type": "stream",
     "text": [
      "facet number: 12\n"
     ]
    },
    {
     "data": {
      "text/latex": [
       "$\\displaystyle c_{0} - 1 = 1$"
      ],
      "text/plain": [
       "Eq(c0 - 1, 1)"
      ]
     },
     "metadata": {},
     "output_type": "display_data"
    },
    {
     "name": "stdout",
     "output_type": "stream",
     "text": [
      "facet number: 18\n"
     ]
    },
    {
     "data": {
      "text/latex": [
       "$\\displaystyle c_{0} - 2 = 1$"
      ],
      "text/plain": [
       "Eq(c0 - 2, 1)"
      ]
     },
     "metadata": {},
     "output_type": "display_data"
    },
    {
     "name": "stdout",
     "output_type": "stream",
     "text": [
      "no solution\n"
     ]
    }
   ],
   "source": [
    "i=12\n",
    "print('facet number:', i)\n",
    "display(sp.Eq(C.determinants[i], C.orientation[i]))\n",
    "\n",
    "i=18\n",
    "print('facet number:', i)\n",
    "display(sp.Eq(C.determinants[i], C.orientation[i]))\n",
    "\n",
    "print('no solution')"
   ]
  },
  {
   "cell_type": "markdown",
   "id": "4830e3d6-39e4-4308-a426-4595764ef9bf",
   "metadata": {},
   "source": [
    "# There is no positive characteristic map"
   ]
  }
 ],
 "metadata": {
  "kernelspec": {
   "display_name": "Python 3 (ipykernel)",
   "language": "python",
   "name": "python3"
  },
  "language_info": {
   "codemirror_mode": {
    "name": "ipython",
    "version": 3
   },
   "file_extension": ".py",
   "mimetype": "text/x-python",
   "name": "python",
   "nbconvert_exporter": "python",
   "pygments_lexer": "ipython3",
   "version": "3.12.7"
  }
 },
 "nbformat": 4,
 "nbformat_minor": 5
}
