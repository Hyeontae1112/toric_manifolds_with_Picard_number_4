{
 "cells": [
  {
   "cell_type": "markdown",
   "id": "b3d9e43c-6c45-450a-8c1e-fc402a5ae77b",
   "metadata": {
    "jp-MarkdownHeadingCollapsed": true
   },
   "source": [
    "# Preparation"
   ]
  },
  {
   "cell_type": "code",
   "execution_count": 3,
   "id": "1defd473-a932-412c-a2f8-62991d8ed552",
   "metadata": {},
   "outputs": [],
   "source": [
    "%run programs\\\\Characteristic_Pair.py\n",
    "import copy\n",
    "\n",
    "minimally_non_fanlikes_index=4\n",
    "\n",
    "K = Simplicial_Complex(json.loads(read_file('programs\\\\minimally_non_fanlikes')[minimally_non_fanlikes_index]))\n",
    "M = initial_char(K.n)\n",
    "C0 = Characteristic_Pair(K, M)\n",
    "\n",
    "a0, a1, a2, a3 = sp.symbols('a0:%d'%K.n)\n",
    "b0, b1, b2, b3 = sp.symbols('b0:%d'%K.n)\n",
    "c0, c1, c2, c3 = sp.symbols('c0:%d'%K.n)\n",
    "d0, d1, d2, d3 = sp.symbols('d0:%d'%K.n)"
   ]
  },
  {
   "cell_type": "code",
   "execution_count": 4,
   "id": "0404440b-0e46-4c8d-8ede-09fb52c0bec2",
   "metadata": {},
   "outputs": [],
   "source": [
    "C=C0"
   ]
  },
  {
   "cell_type": "code",
   "execution_count": 5,
   "id": "310c9aa8-5420-4c3b-a9e9-77495e13d091",
   "metadata": {},
   "outputs": [
    {
     "name": "stdout",
     "output_type": "stream",
     "text": [
      "facet number: 4\n"
     ]
    },
    {
     "data": {
      "text/latex": [
       "$\\displaystyle a_{1} = -1$"
      ],
      "text/plain": [
       "Eq(a1, -1)"
      ]
     },
     "metadata": {},
     "output_type": "display_data"
    },
    {
     "name": "stdout",
     "output_type": "stream",
     "text": [
      "facet number: 1\n"
     ]
    },
    {
     "data": {
      "text/latex": [
       "$\\displaystyle a_{3} = -1$"
      ],
      "text/plain": [
       "Eq(a3, -1)"
      ]
     },
     "metadata": {},
     "output_type": "display_data"
    },
    {
     "name": "stdout",
     "output_type": "stream",
     "text": [
      "facet number: 2\n"
     ]
    },
    {
     "data": {
      "text/latex": [
       "$\\displaystyle - c_{2} = 1$"
      ],
      "text/plain": [
       "Eq(-c2, 1)"
      ]
     },
     "metadata": {},
     "output_type": "display_data"
    },
    {
     "name": "stdout",
     "output_type": "stream",
     "text": [
      "facet number: 10\n"
     ]
    },
    {
     "data": {
      "text/latex": [
       "$\\displaystyle - d_{0} = 1$"
      ],
      "text/plain": [
       "Eq(-d0, 1)"
      ]
     },
     "metadata": {},
     "output_type": "display_data"
    }
   ],
   "source": [
    "i=4\n",
    "print('facet number:', i)\n",
    "display(sp.Eq(C.determinants[i], C.orientation[i]))\n",
    "\n",
    "i=1\n",
    "print('facet number:', i)\n",
    "display(sp.Eq(C.determinants[i], C.orientation[i]))\n",
    "\n",
    "i=2\n",
    "print('facet number:', i)\n",
    "display(sp.Eq(C.determinants[i], C.orientation[i]))\n",
    "\n",
    "i=10\n",
    "print('facet number:', i)\n",
    "display(sp.Eq(C.determinants[i], C.orientation[i]))\n",
    "\n",
    "C.subs(a1, -1)\n",
    "C.subs(a3, -1)\n",
    "C.subs(c2, -1)\n",
    "C.subs(d0, -1)"
   ]
  },
  {
   "cell_type": "code",
   "execution_count": 6,
   "id": "14c62f3b-9a36-4311-aa9e-f9c960193950",
   "metadata": {},
   "outputs": [
    {
     "name": "stdout",
     "output_type": "stream",
     "text": [
      "facet number: 3\n"
     ]
    },
    {
     "data": {
      "text/latex": [
       "$\\displaystyle a_{2} c_{3} - 1 = -1$"
      ],
      "text/plain": [
       "Eq(a2*c3 - 1, -1)"
      ]
     },
     "metadata": {},
     "output_type": "display_data"
    }
   ],
   "source": [
    "i=3\n",
    "print('facet number:', i)\n",
    "display(sp.Eq(C.determinants[i], C.orientation[i]))"
   ]
  },
  {
   "cell_type": "markdown",
   "id": "04c0df50-11fb-4285-9fa5-624aaa3c0634",
   "metadata": {
    "jp-MarkdownHeadingCollapsed": true
   },
   "source": [
    "# $a_2=0$"
   ]
  },
  {
   "cell_type": "code",
   "execution_count": 7,
   "id": "e2218bb5-34e6-4ae7-87c2-cbab986684f8",
   "metadata": {},
   "outputs": [],
   "source": [
    "C1=copy.deepcopy(C0)\n",
    "C=C1\n",
    "C.subs(a2, 0)"
   ]
  },
  {
   "cell_type": "code",
   "execution_count": 8,
   "id": "a11e6222-72fc-49cd-912f-11dc9531a848",
   "metadata": {},
   "outputs": [
    {
     "name": "stdout",
     "output_type": "stream",
     "text": [
      "facet number: 5\n"
     ]
    },
    {
     "data": {
      "text/latex": [
       "$\\displaystyle - b_{2} = 1$"
      ],
      "text/plain": [
       "Eq(-b2, 1)"
      ]
     },
     "metadata": {},
     "output_type": "display_data"
    }
   ],
   "source": [
    "i=5\n",
    "print('facet number:', i)\n",
    "display(sp.Eq(C.determinants[i], C.orientation[i]))\n",
    "\n",
    "C.subs(b2, -1)"
   ]
  },
  {
   "cell_type": "code",
   "execution_count": 10,
   "id": "5179024d-44f1-4658-b12a-38bd8ae6780b",
   "metadata": {},
   "outputs": [
    {
     "name": "stdout",
     "output_type": "stream",
     "text": [
      "facet number: 6\n"
     ]
    },
    {
     "data": {
      "text/latex": [
       "$\\displaystyle - b_{1} + c_{1} = 1$"
      ],
      "text/plain": [
       "Eq(-b1 + c1, 1)"
      ]
     },
     "metadata": {},
     "output_type": "display_data"
    }
   ],
   "source": [
    "i=6\n",
    "print('facet number:', i)\n",
    "display(sp.Eq(C.determinants[i], C.orientation[i]))\n",
    "\n",
    "C.subs(b1, c1-1)"
   ]
  },
  {
   "cell_type": "code",
   "execution_count": 12,
   "id": "aa84ca26-5266-4059-ab29-cb98f8c88b4d",
   "metadata": {},
   "outputs": [
    {
     "name": "stdout",
     "output_type": "stream",
     "text": [
      "facet number: 13\n"
     ]
    },
    {
     "data": {
      "text/latex": [
       "$\\displaystyle - c_{0} d_{2} + 1 = 1$"
      ],
      "text/plain": [
       "Eq(-c0*d2 + 1, 1)"
      ]
     },
     "metadata": {},
     "output_type": "display_data"
    }
   ],
   "source": [
    "i=13\n",
    "print('facet number:', i)\n",
    "display(sp.Eq(C.determinants[i], C.orientation[i]))"
   ]
  },
  {
   "cell_type": "markdown",
   "id": "a5cbf733-ccf8-493a-92a9-5e54656fb2f0",
   "metadata": {
    "jp-MarkdownHeadingCollapsed": true
   },
   "source": [
    "## $c_0=0$"
   ]
  },
  {
   "cell_type": "code",
   "execution_count": 13,
   "id": "6b194770-7719-4678-8ece-e65ff50046a9",
   "metadata": {},
   "outputs": [],
   "source": [
    "C2=copy.deepcopy(C1)\n",
    "C=C2\n",
    "C.subs(c0, 0)"
   ]
  },
  {
   "cell_type": "code",
   "execution_count": 14,
   "id": "b6a89089-cc71-4752-a57a-a4703fff3646",
   "metadata": {},
   "outputs": [
    {
     "name": "stdout",
     "output_type": "stream",
     "text": [
      "facet number: 12\n"
     ]
    },
    {
     "data": {
      "text/latex": [
       "$\\displaystyle c_{3} = -1$"
      ],
      "text/plain": [
       "Eq(c3, -1)"
      ]
     },
     "metadata": {},
     "output_type": "display_data"
    }
   ],
   "source": [
    "i=12\n",
    "print('facet number:', i)\n",
    "display(sp.Eq(C.determinants[i], C.orientation[i]))\n",
    "\n",
    "C.subs(c3, -1)"
   ]
  },
  {
   "cell_type": "code",
   "execution_count": 16,
   "id": "077f58c7-ac05-4c48-a360-e2417b206955",
   "metadata": {},
   "outputs": [
    {
     "name": "stdout",
     "output_type": "stream",
     "text": [
      "facet number: 11\n"
     ]
    },
    {
     "data": {
      "text/latex": [
       "$\\displaystyle - a_{0} = -1$"
      ],
      "text/plain": [
       "Eq(-a0, -1)"
      ]
     },
     "metadata": {},
     "output_type": "display_data"
    }
   ],
   "source": [
    "i=11\n",
    "print('facet number:', i)\n",
    "display(sp.Eq(C.determinants[i], C.orientation[i]))\n",
    "\n",
    "C.subs(a0, 1)"
   ]
  },
  {
   "cell_type": "code",
   "execution_count": 18,
   "id": "748088b2-e263-45d3-b1d6-bfe57c5f9920",
   "metadata": {},
   "outputs": [
    {
     "name": "stdout",
     "output_type": "stream",
     "text": [
      "facet number: 14\n"
     ]
    },
    {
     "data": {
      "text/latex": [
       "$\\displaystyle d_{1} - 1 = -1$"
      ],
      "text/plain": [
       "Eq(d1 - 1, -1)"
      ]
     },
     "metadata": {},
     "output_type": "display_data"
    }
   ],
   "source": [
    "i=14\n",
    "print('facet number:', i)\n",
    "display(sp.Eq(C.determinants[i], C.orientation[i]))\n",
    "\n",
    "C.subs(d1, 0)"
   ]
  },
  {
   "cell_type": "code",
   "execution_count": 20,
   "id": "7b892328-4a98-4448-8530-6b2ca887dc65",
   "metadata": {},
   "outputs": [
    {
     "name": "stdout",
     "output_type": "stream",
     "text": [
      "facet number: 15\n"
     ]
    },
    {
     "data": {
      "text/latex": [
       "$\\displaystyle c_{1} d_{3} - c_{1} - 1 = -1$"
      ],
      "text/plain": [
       "Eq(c1*d3 - c1 - 1, -1)"
      ]
     },
     "metadata": {},
     "output_type": "display_data"
    }
   ],
   "source": [
    "i=15\n",
    "print('facet number:', i)\n",
    "display(sp.Eq(C.determinants[i], C.orientation[i]))"
   ]
  },
  {
   "cell_type": "markdown",
   "id": "fd0ccc88-542b-48bd-a173-a37053bc8830",
   "metadata": {
    "jp-MarkdownHeadingCollapsed": true
   },
   "source": [
    "### $c_1=0$"
   ]
  },
  {
   "cell_type": "code",
   "execution_count": 21,
   "id": "47a1a66e-e36f-473c-8d3d-8c9d18086f02",
   "metadata": {},
   "outputs": [],
   "source": [
    "C3=copy.deepcopy(C2)\n",
    "C=C3\n",
    "C.subs(c1, 0)"
   ]
  },
  {
   "cell_type": "code",
   "execution_count": 22,
   "id": "c5e100c3-b271-428a-8755-6c00b788aa26",
   "metadata": {},
   "outputs": [
    {
     "name": "stdout",
     "output_type": "stream",
     "text": [
      "facet number: 8\n"
     ]
    },
    {
     "data": {
      "text/latex": [
       "$\\displaystyle - d_{2} + d_{3} = 1$"
      ],
      "text/plain": [
       "Eq(-d2 + d3, 1)"
      ]
     },
     "metadata": {},
     "output_type": "display_data"
    },
    {
     "name": "stdout",
     "output_type": "stream",
     "text": [
      "facet number: 9\n"
     ]
    },
    {
     "data": {
      "text/latex": [
       "$\\displaystyle - d_{2} + d_{3} = -1$"
      ],
      "text/plain": [
       "Eq(-d2 + d3, -1)"
      ]
     },
     "metadata": {},
     "output_type": "display_data"
    },
    {
     "name": "stdout",
     "output_type": "stream",
     "text": [
      "no solution\n"
     ]
    }
   ],
   "source": [
    "i=8\n",
    "print('facet number:', i)\n",
    "display(sp.Eq(C.determinants[i], C.orientation[i]))\n",
    "\n",
    "i=9\n",
    "print('facet number:', i)\n",
    "display(sp.Eq(C.determinants[i], C.orientation[i]))\n",
    "\n",
    "print('no solution')"
   ]
  },
  {
   "cell_type": "markdown",
   "id": "8717f909-6ac3-413e-8e2a-74460979860e",
   "metadata": {
    "jp-MarkdownHeadingCollapsed": true
   },
   "source": [
    "### $d_3=1$ ($c_1 \\not= 0$)"
   ]
  },
  {
   "cell_type": "code",
   "execution_count": 28,
   "id": "c368fbd0-1dc9-4104-92e7-7168d89bf3b0",
   "metadata": {},
   "outputs": [],
   "source": [
    "C3=copy.deepcopy(C2)\n",
    "C=C3\n",
    "C.subs(d3, 1)"
   ]
  },
  {
   "cell_type": "code",
   "execution_count": 29,
   "id": "725212f4-0be3-46f5-ab17-041ae107186f",
   "metadata": {},
   "outputs": [
    {
     "name": "stdout",
     "output_type": "stream",
     "text": [
      "facet number: 8\n"
     ]
    },
    {
     "data": {
      "text/latex": [
       "$\\displaystyle - c_{1} d_{2} - d_{2} + 1 = 1$"
      ],
      "text/plain": [
       "Eq(-c1*d2 - d2 + 1, 1)"
      ]
     },
     "metadata": {},
     "output_type": "display_data"
    },
    {
     "name": "stdout",
     "output_type": "stream",
     "text": [
      "facet number: 7\n"
     ]
    },
    {
     "data": {
      "text/latex": [
       "$\\displaystyle b_{3} d_{2} - c_{1} d_{2} + d_{2} + 1 = -1$"
      ],
      "text/plain": [
       "Eq(b3*d2 - c1*d2 + d2 + 1, -1)"
      ]
     },
     "metadata": {},
     "output_type": "display_data"
    },
    {
     "name": "stdout",
     "output_type": "stream",
     "text": [
      "d2 !=0\n"
     ]
    }
   ],
   "source": [
    "i=8\n",
    "print('facet number:', i)\n",
    "display(sp.Eq(C.determinants[i], C.orientation[i]))\n",
    "\n",
    "i=7\n",
    "print('facet number:', i)\n",
    "display(sp.Eq(C.determinants[i], C.orientation[i]))\n",
    "\n",
    "print('d2 !=0')\n",
    "\n",
    "C.subs(c1, -1)"
   ]
  },
  {
   "cell_type": "code",
   "execution_count": 31,
   "id": "f3cafdff-f107-4c62-bc1c-6cd8a7ab83fd",
   "metadata": {},
   "outputs": [
    {
     "name": "stdout",
     "output_type": "stream",
     "text": [
      "facet number: 16\n"
     ]
    },
    {
     "data": {
      "text/latex": [
       "$\\displaystyle - b_{0} d_{2} + 2 d_{2} + 1 = 1$"
      ],
      "text/plain": [
       "Eq(-b0*d2 + 2*d2 + 1, 1)"
      ]
     },
     "metadata": {},
     "output_type": "display_data"
    },
    {
     "name": "stdout",
     "output_type": "stream",
     "text": [
      "facet number: 17\n"
     ]
    },
    {
     "data": {
      "text/latex": [
       "$\\displaystyle b_{0} d_{2} + 1 = 1$"
      ],
      "text/plain": [
       "Eq(b0*d2 + 1, 1)"
      ]
     },
     "metadata": {},
     "output_type": "display_data"
    },
    {
     "data": {
      "text/latex": [
       "$\\displaystyle 2 d_{2} + 2 = 2$"
      ],
      "text/plain": [
       "Eq(2*d2 + 2, 2)"
      ]
     },
     "metadata": {},
     "output_type": "display_data"
    },
    {
     "name": "stdout",
     "output_type": "stream",
     "text": [
      "facet number: 7\n"
     ]
    },
    {
     "data": {
      "text/latex": [
       "$\\displaystyle b_{3} d_{2} + 2 d_{2} + 1 = -1$"
      ],
      "text/plain": [
       "Eq(b3*d2 + 2*d2 + 1, -1)"
      ]
     },
     "metadata": {},
     "output_type": "display_data"
    },
    {
     "name": "stdout",
     "output_type": "stream",
     "text": [
      "d2 != 0\n",
      "no solution\n"
     ]
    }
   ],
   "source": [
    "i=16\n",
    "print('facet number:', i)\n",
    "display(sp.Eq(C.determinants[i], C.orientation[i]))\n",
    "\n",
    "i=17\n",
    "print('facet number:', i)\n",
    "display(sp.Eq(C.determinants[i], C.orientation[i]))\n",
    "\n",
    "display(sp.Eq(C.determinants[16] + C.determinants[17], C.orientation[16] + C.orientation[17]))\n",
    "\n",
    "i=7\n",
    "print('facet number:', i)\n",
    "display(sp.Eq(C.determinants[i], C.orientation[i]))\n",
    "\n",
    "print('d2 != 0')\n",
    "print('no solution')"
   ]
  },
  {
   "cell_type": "markdown",
   "id": "f9bff07a-cd1e-4bb7-9dcd-2668c0bd92a3",
   "metadata": {
    "jp-MarkdownHeadingCollapsed": true
   },
   "source": [
    "## $d_2=0$ ($c_0 \\not= 0$)"
   ]
  },
  {
   "cell_type": "code",
   "execution_count": 32,
   "id": "c156ed39-70b3-41c9-b91f-8922bd3bb64a",
   "metadata": {},
   "outputs": [],
   "source": [
    "C2=copy.deepcopy(C1)\n",
    "C=C2\n",
    "C.subs(d2, 0)"
   ]
  },
  {
   "cell_type": "code",
   "execution_count": 33,
   "id": "8cf927df-5796-44ba-87a7-a8c0ec77a913",
   "metadata": {},
   "outputs": [
    {
     "name": "stdout",
     "output_type": "stream",
     "text": [
      "facet number: 7\n"
     ]
    },
    {
     "data": {
      "text/latex": [
       "$\\displaystyle - d_{1} + d_{3} = -1$"
      ],
      "text/plain": [
       "Eq(-d1 + d3, -1)"
      ]
     },
     "metadata": {},
     "output_type": "display_data"
    },
    {
     "name": "stdout",
     "output_type": "stream",
     "text": [
      "facet number: 8\n"
     ]
    },
    {
     "data": {
      "text/latex": [
       "$\\displaystyle - d_{1} + d_{3} = 1$"
      ],
      "text/plain": [
       "Eq(-d1 + d3, 1)"
      ]
     },
     "metadata": {},
     "output_type": "display_data"
    },
    {
     "name": "stdout",
     "output_type": "stream",
     "text": [
      "no solution\n"
     ]
    }
   ],
   "source": [
    "i=7\n",
    "print('facet number:', i)\n",
    "display(sp.Eq(C.determinants[i], C.orientation[i]))\n",
    "\n",
    "i=8\n",
    "print('facet number:', i)\n",
    "display(sp.Eq(C.determinants[i], C.orientation[i]))\n",
    "\n",
    "print('no solution')"
   ]
  },
  {
   "cell_type": "markdown",
   "id": "da9676a8-e786-4caf-a5bc-d7131668f1b5",
   "metadata": {
    "jp-MarkdownHeadingCollapsed": true
   },
   "source": [
    "# $c_3=0$ ($a_2 \\not= 0$)"
   ]
  },
  {
   "cell_type": "code",
   "execution_count": 86,
   "id": "3e8f5ab1-d866-42eb-a68c-c63251b64d6f",
   "metadata": {},
   "outputs": [],
   "source": [
    "C1=copy.deepcopy(C0)\n",
    "C=C1\n",
    "C.subs(c3, 0)"
   ]
  },
  {
   "cell_type": "code",
   "execution_count": 87,
   "id": "aa4e6268-daa6-4068-98e2-09fd1d146694",
   "metadata": {},
   "outputs": [
    {
     "name": "stdout",
     "output_type": "stream",
     "text": [
      "facet number: 11\n"
     ]
    },
    {
     "data": {
      "text/latex": [
       "$\\displaystyle c_{0} = -1$"
      ],
      "text/plain": [
       "Eq(c0, -1)"
      ]
     },
     "metadata": {},
     "output_type": "display_data"
    }
   ],
   "source": [
    "i=11\n",
    "print('facet number:', i)\n",
    "display(sp.Eq(C.determinants[i], C.orientation[i]))\n",
    "\n",
    "C.subs(c0, -1)"
   ]
  },
  {
   "cell_type": "code",
   "execution_count": 88,
   "id": "e20ee660-db3a-4392-9441-6cc7840ecdec",
   "metadata": {},
   "outputs": [
    {
     "name": "stdout",
     "output_type": "stream",
     "text": [
      "facet number: 12\n"
     ]
    },
    {
     "data": {
      "text/latex": [
       "$\\displaystyle - d_{3} = -1$"
      ],
      "text/plain": [
       "Eq(-d3, -1)"
      ]
     },
     "metadata": {},
     "output_type": "display_data"
    }
   ],
   "source": [
    "i=12\n",
    "print('facet number:', i)\n",
    "display(sp.Eq(C.determinants[i], C.orientation[i]))\n",
    "\n",
    "C.subs(d3, 1)"
   ]
  },
  {
   "cell_type": "code",
   "execution_count": 89,
   "id": "61dc8423-1b88-4a5b-ad3e-bb8c24907e84",
   "metadata": {},
   "outputs": [
    {
     "name": "stdout",
     "output_type": "stream",
     "text": [
      "facet number: 13\n"
     ]
    },
    {
     "data": {
      "text/latex": [
       "$\\displaystyle d_{2} + 1 = 1$"
      ],
      "text/plain": [
       "Eq(d2 + 1, 1)"
      ]
     },
     "metadata": {},
     "output_type": "display_data"
    }
   ],
   "source": [
    "i=13\n",
    "print('facet number:', i)\n",
    "display(sp.Eq(C.determinants[i], C.orientation[i]))\n",
    "\n",
    "C.subs(d2, 0)"
   ]
  },
  {
   "cell_type": "code",
   "execution_count": 90,
   "id": "3c0af1e4-84e7-4dd7-b6aa-279eea0f4657",
   "metadata": {},
   "outputs": [
    {
     "name": "stdout",
     "output_type": "stream",
     "text": [
      "facet number: 14\n"
     ]
    },
    {
     "data": {
      "text/latex": [
       "$\\displaystyle a_{0} d_{1} - 1 = -1$"
      ],
      "text/plain": [
       "Eq(a0*d1 - 1, -1)"
      ]
     },
     "metadata": {},
     "output_type": "display_data"
    }
   ],
   "source": [
    "i=14\n",
    "print('facet number:', i)\n",
    "display(sp.Eq(C.determinants[i], C.orientation[i]))"
   ]
  },
  {
   "cell_type": "markdown",
   "id": "d3274899-1be0-4590-8cec-5fb5aa8238da",
   "metadata": {
    "jp-MarkdownHeadingCollapsed": true
   },
   "source": [
    "## $d_1=0$ ($a_2 \\not= 0$)"
   ]
  },
  {
   "cell_type": "code",
   "execution_count": 91,
   "id": "5dfd1ee5-a2ab-4535-b899-7bd33fddc4cb",
   "metadata": {},
   "outputs": [],
   "source": [
    "C2=copy.deepcopy(C1)\n",
    "C=C2\n",
    "C.subs(d1, 0)"
   ]
  },
  {
   "cell_type": "code",
   "execution_count": 92,
   "id": "3ad1bdcc-87fd-4707-a358-e9a43bcc2f06",
   "metadata": {},
   "outputs": [
    {
     "name": "stdout",
     "output_type": "stream",
     "text": [
      "facet number: 8\n"
     ]
    },
    {
     "data": {
      "text/latex": [
       "$\\displaystyle - a_{2} c_{1} + 1 = 1$"
      ],
      "text/plain": [
       "Eq(-a2*c1 + 1, 1)"
      ]
     },
     "metadata": {},
     "output_type": "display_data"
    }
   ],
   "source": [
    "i=8\n",
    "print('facet number:', i)\n",
    "display(sp.Eq(C.determinants[i], C.orientation[i]))\n",
    "\n",
    "C.subs(c1, 0)"
   ]
  },
  {
   "cell_type": "code",
   "execution_count": 93,
   "id": "f118fb16-6558-4d1c-a7fe-15c5cbe1b44e",
   "metadata": {},
   "outputs": [
    {
     "name": "stdout",
     "output_type": "stream",
     "text": [
      "facet number: 6\n"
     ]
    },
    {
     "data": {
      "text/latex": [
       "$\\displaystyle - b_{1} = 1$"
      ],
      "text/plain": [
       "Eq(-b1, 1)"
      ]
     },
     "metadata": {},
     "output_type": "display_data"
    },
    {
     "name": "stdout",
     "output_type": "stream",
     "text": [
      "facet number: 9\n"
     ]
    },
    {
     "data": {
      "text/latex": [
       "$\\displaystyle - b_{1} = -1$"
      ],
      "text/plain": [
       "Eq(-b1, -1)"
      ]
     },
     "metadata": {},
     "output_type": "display_data"
    },
    {
     "name": "stdout",
     "output_type": "stream",
     "text": [
      "no solution\n"
     ]
    }
   ],
   "source": [
    "i=6\n",
    "print('facet number:', i)\n",
    "display(sp.Eq(C.determinants[i], C.orientation[i]))\n",
    "\n",
    "i=9\n",
    "print('facet number:', i)\n",
    "display(sp.Eq(C.determinants[i], C.orientation[i]))\n",
    "\n",
    "print('no solution')"
   ]
  },
  {
   "cell_type": "markdown",
   "id": "7768d90a-2a8f-4cbf-9276-3bf61319ee20",
   "metadata": {
    "jp-MarkdownHeadingCollapsed": true
   },
   "source": [
    "## $a_0=0$ ($a_2 \\not= 0$, $d_1 \\not= 0$)"
   ]
  },
  {
   "cell_type": "code",
   "execution_count": 94,
   "id": "85f9262a-4db6-477e-a8b8-82fcf6254937",
   "metadata": {},
   "outputs": [],
   "source": [
    "C2=copy.deepcopy(C1)\n",
    "C=C2\n",
    "C.subs(a0, 0)"
   ]
  },
  {
   "cell_type": "code",
   "execution_count": 95,
   "id": "f100a1b7-0e09-4d90-ab95-d02d915ab25e",
   "metadata": {},
   "outputs": [
    {
     "name": "stdout",
     "output_type": "stream",
     "text": [
      "facet number: 15\n"
     ]
    },
    {
     "data": {
      "text/latex": [
       "$\\displaystyle - c_{1} + d_{1} - 1 = -1$"
      ],
      "text/plain": [
       "Eq(-c1 + d1 - 1, -1)"
      ]
     },
     "metadata": {},
     "output_type": "display_data"
    }
   ],
   "source": [
    "i=15\n",
    "print('facet number:', i)\n",
    "display(sp.Eq(C.determinants[i], C.orientation[i]))\n",
    "\n",
    "C.subs(c1, d1)"
   ]
  },
  {
   "cell_type": "code",
   "execution_count": 96,
   "id": "735796bf-5cc3-4e4b-8887-ec161e1aa0f6",
   "metadata": {},
   "outputs": [
    {
     "name": "stdout",
     "output_type": "stream",
     "text": [
      "facet number: 8\n"
     ]
    },
    {
     "data": {
      "text/latex": [
       "$\\displaystyle - a_{2} d_{1} - d_{1} + 1 = 1$"
      ],
      "text/plain": [
       "Eq(-a2*d1 - d1 + 1, 1)"
      ]
     },
     "metadata": {},
     "output_type": "display_data"
    }
   ],
   "source": [
    "i=8\n",
    "print('facet number:', i)\n",
    "display(sp.Eq(C.determinants[i], C.orientation[i]))\n",
    "\n",
    "C.subs(a2, -1)"
   ]
  },
  {
   "cell_type": "code",
   "execution_count": 97,
   "id": "c6c4dd97-25ca-4899-9604-2152fabd5f89",
   "metadata": {},
   "outputs": [
    {
     "name": "stdout",
     "output_type": "stream",
     "text": [
      "facet number: 5\n"
     ]
    },
    {
     "data": {
      "text/latex": [
       "$\\displaystyle b_{1} - b_{2} = 1$"
      ],
      "text/plain": [
       "Eq(b1 - b2, 1)"
      ]
     },
     "metadata": {},
     "output_type": "display_data"
    }
   ],
   "source": [
    "i=5\n",
    "print('facet number:', i)\n",
    "display(sp.Eq(C.determinants[i], C.orientation[i]))\n",
    "\n",
    "C.subs(b1, b2+1)"
   ]
  },
  {
   "cell_type": "code",
   "execution_count": 98,
   "id": "6ce6bb41-9916-413d-bb0c-67b9138d59d8",
   "metadata": {},
   "outputs": [
    {
     "name": "stdout",
     "output_type": "stream",
     "text": [
      "facet number: 16\n"
     ]
    },
    {
     "data": {
      "text/latex": [
       "$\\displaystyle b_{0} d_{1} + 1 = 1$"
      ],
      "text/plain": [
       "Eq(b0*d1 + 1, 1)"
      ]
     },
     "metadata": {},
     "output_type": "display_data"
    }
   ],
   "source": [
    "i=16\n",
    "print('facet number:', i)\n",
    "display(sp.Eq(C.determinants[i], C.orientation[i]))\n",
    "\n",
    "C.subs(b0, 0)"
   ]
  },
  {
   "cell_type": "code",
   "execution_count": 99,
   "id": "84eff8a4-db7e-42ba-9602-1dbd3422df8e",
   "metadata": {},
   "outputs": [
    {
     "name": "stdout",
     "output_type": "stream",
     "text": [
      "facet number: 17\n"
     ]
    },
    {
     "data": {
      "text/latex": [
       "$\\displaystyle - b_{2} - 1 = 1$"
      ],
      "text/plain": [
       "Eq(-b2 - 1, 1)"
      ]
     },
     "metadata": {},
     "output_type": "display_data"
    }
   ],
   "source": [
    "i=17\n",
    "print('facet number:', i)\n",
    "display(sp.Eq(C.determinants[i], C.orientation[i]))\n",
    "\n",
    "C.subs(b2, -2)"
   ]
  },
  {
   "cell_type": "code",
   "execution_count": 100,
   "id": "661c3093-f9a1-4743-b27f-8e63eda21706",
   "metadata": {},
   "outputs": [
    {
     "name": "stdout",
     "output_type": "stream",
     "text": [
      "facet number: 6\n"
     ]
    },
    {
     "data": {
      "text/latex": [
       "$\\displaystyle 2 d_{1} + 1 = 1$"
      ],
      "text/plain": [
       "Eq(2*d1 + 1, 1)"
      ]
     },
     "metadata": {},
     "output_type": "display_data"
    },
    {
     "name": "stdout",
     "output_type": "stream",
     "text": [
      "d1 != 0\n"
     ]
    }
   ],
   "source": [
    "i=6\n",
    "print('facet number:', i)\n",
    "display(sp.Eq(C.determinants[i], C.orientation[i]))\n",
    "\n",
    "print('d1 != 0')"
   ]
  },
  {
   "cell_type": "markdown",
   "id": "7fac5cb0-e98f-43f4-a565-d82d5f472a8e",
   "metadata": {},
   "source": [
    "# There is no positive characteristic map"
   ]
  }
 ],
 "metadata": {
  "kernelspec": {
   "display_name": "Python 3 (ipykernel)",
   "language": "python",
   "name": "python3"
  },
  "language_info": {
   "codemirror_mode": {
    "name": "ipython",
    "version": 3
   },
   "file_extension": ".py",
   "mimetype": "text/x-python",
   "name": "python",
   "nbconvert_exporter": "python",
   "pygments_lexer": "ipython3",
   "version": "3.12.7"
  }
 },
 "nbformat": 4,
 "nbformat_minor": 5
}
