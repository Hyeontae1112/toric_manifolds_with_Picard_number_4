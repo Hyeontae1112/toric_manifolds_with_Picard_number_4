{
 "cells": [
  {
   "cell_type": "markdown",
   "id": "fbebef22-9242-465e-90c1-64d65c1ae31f",
   "metadata": {},
   "source": [
    "# Preparation"
   ]
  },
  {
   "cell_type": "code",
   "execution_count": 122,
   "id": "99e278ae-6436-4b9a-a908-913b6e9b7f9e",
   "metadata": {},
   "outputs": [],
   "source": [
    "%run programs\\\\Characteristic_Pair.py\n",
    "import copy\n",
    "\n",
    "minimally_non_fanlikes_index=3\n",
    "\n",
    "K = Simplicial_Complex(json.loads(read_file('programs\\\\minimally_non_fanlikes')[minimally_non_fanlikes_index]))\n",
    "M = initial_char(K.n)\n",
    "C0 = Characteristic_Pair(K, M)\n",
    "\n",
    "a0, a1, a2, a3 = sp.symbols('a0:%d'%K.n)\n",
    "b0, b1, b2, b3 = sp.symbols('b0:%d'%K.n)\n",
    "c0, c1, c2, c3 = sp.symbols('c0:%d'%K.n)\n",
    "d0, d1, d2, d3 = sp.symbols('d0:%d'%K.n)"
   ]
  },
  {
   "cell_type": "code",
   "execution_count": 123,
   "id": "0f4973fc-ab26-4bc6-97ba-f3f11d351658",
   "metadata": {},
   "outputs": [],
   "source": [
    "C=C0"
   ]
  },
  {
   "cell_type": "code",
   "execution_count": 124,
   "id": "04877898-cddc-4b4a-82d6-387041a36646",
   "metadata": {},
   "outputs": [
    {
     "name": "stdout",
     "output_type": "stream",
     "text": [
      "facet number: 3\n"
     ]
    },
    {
     "data": {
      "text/latex": [
       "$\\displaystyle a_{1} = -1$"
      ],
      "text/plain": [
       "Eq(a1, -1)"
      ]
     },
     "metadata": {},
     "output_type": "display_data"
    },
    {
     "name": "stdout",
     "output_type": "stream",
     "text": [
      "facet number: 10\n"
     ]
    },
    {
     "data": {
      "text/latex": [
       "$\\displaystyle - b_{0} = 1$"
      ],
      "text/plain": [
       "Eq(-b0, 1)"
      ]
     },
     "metadata": {},
     "output_type": "display_data"
    },
    {
     "name": "stdout",
     "output_type": "stream",
     "text": [
      "facet number: 2\n"
     ]
    },
    {
     "data": {
      "text/latex": [
       "$\\displaystyle - d_{2} = 1$"
      ],
      "text/plain": [
       "Eq(-d2, 1)"
      ]
     },
     "metadata": {},
     "output_type": "display_data"
    },
    {
     "name": "stdout",
     "output_type": "stream",
     "text": [
      "facet number: 1\n"
     ]
    },
    {
     "data": {
      "text/latex": [
       "$\\displaystyle d_{3} = -1$"
      ],
      "text/plain": [
       "Eq(d3, -1)"
      ]
     },
     "metadata": {},
     "output_type": "display_data"
    }
   ],
   "source": [
    "i=3\n",
    "print('facet number:', i)\n",
    "display(sp.Eq(C.determinants[i], C.orientation[i]))\n",
    "\n",
    "i=10\n",
    "print('facet number:', i)\n",
    "display(sp.Eq(C.determinants[i], C.orientation[i]))\n",
    "\n",
    "i=2\n",
    "print('facet number:', i)\n",
    "display(sp.Eq(C.determinants[i], C.orientation[i]))\n",
    "\n",
    "i=1\n",
    "print('facet number:', i)\n",
    "display(sp.Eq(C.determinants[i], C.orientation[i]))\n",
    "\n",
    "C.subs(a1, -1)\n",
    "C.subs(b0, -1)\n",
    "C.subs(d2, -1)\n",
    "C.subs(d3, -1)"
   ]
  },
  {
   "cell_type": "code",
   "execution_count": 125,
   "id": "5117276d-900b-4e76-b0db-e69cf09f9ec8",
   "metadata": {},
   "outputs": [
    {
     "name": "stdout",
     "output_type": "stream",
     "text": [
      "facet number: 17\n"
     ]
    },
    {
     "data": {
      "text/latex": [
       "$\\displaystyle a_{0} b_{1} - 1 = -1$"
      ],
      "text/plain": [
       "Eq(a0*b1 - 1, -1)"
      ]
     },
     "metadata": {},
     "output_type": "display_data"
    }
   ],
   "source": [
    "i=17\n",
    "print('facet number:', i)\n",
    "display(sp.Eq(C.determinants[i], C.orientation[i]))"
   ]
  },
  {
   "cell_type": "markdown",
   "id": "4750d754-71d5-4f02-b96f-06401e1ee6f8",
   "metadata": {
    "jp-MarkdownHeadingCollapsed": true
   },
   "source": [
    "# $a_0=0$"
   ]
  },
  {
   "cell_type": "code",
   "execution_count": 126,
   "id": "dafae730-3b48-422c-8e25-c4a1f695d1c0",
   "metadata": {},
   "outputs": [],
   "source": [
    "C1=copy.deepcopy(C0)\n",
    "C=C1\n",
    "C.subs(a0, 0)"
   ]
  },
  {
   "cell_type": "code",
   "execution_count": 127,
   "id": "719e8dd8-18ae-4637-a476-ff221ba29430",
   "metadata": {},
   "outputs": [
    {
     "name": "stdout",
     "output_type": "stream",
     "text": [
      "facet number: 11\n"
     ]
    },
    {
     "data": {
      "text/latex": [
       "$\\displaystyle a_{3} = -1$"
      ],
      "text/plain": [
       "Eq(a3, -1)"
      ]
     },
     "metadata": {},
     "output_type": "display_data"
    }
   ],
   "source": [
    "i=11\n",
    "print('facet number:', i)\n",
    "display(sp.Eq(C.determinants[i], C.orientation[i]))\n",
    "\n",
    "C.subs(a3, -1)"
   ]
  },
  {
   "cell_type": "code",
   "execution_count": 128,
   "id": "b81fc962-6096-4abe-8f1a-dd3de3e4656f",
   "metadata": {},
   "outputs": [
    {
     "name": "stdout",
     "output_type": "stream",
     "text": [
      "facet number: 4\n"
     ]
    },
    {
     "data": {
      "text/latex": [
       "$\\displaystyle - d_{1} - 1 = -1$"
      ],
      "text/plain": [
       "Eq(-d1 - 1, -1)"
      ]
     },
     "metadata": {},
     "output_type": "display_data"
    }
   ],
   "source": [
    "i=4\n",
    "print('facet number:', i)\n",
    "display(sp.Eq(C.determinants[i], C.orientation[i]))\n",
    "\n",
    "C.subs(d1, 0)"
   ]
  },
  {
   "cell_type": "code",
   "execution_count": 129,
   "id": "cef50644-8b2a-4786-be19-a8203aa961fc",
   "metadata": {},
   "outputs": [
    {
     "name": "stdout",
     "output_type": "stream",
     "text": [
      "facet number: 7\n"
     ]
    },
    {
     "data": {
      "text/latex": [
       "$\\displaystyle - c_{1} = 1$"
      ],
      "text/plain": [
       "Eq(-c1, 1)"
      ]
     },
     "metadata": {},
     "output_type": "display_data"
    }
   ],
   "source": [
    "i=7\n",
    "print('facet number:', i)\n",
    "display(sp.Eq(C.determinants[i], C.orientation[i]))\n",
    "\n",
    "C.subs(c1, -1)"
   ]
  },
  {
   "cell_type": "code",
   "execution_count": 130,
   "id": "e1f9348a-9e5e-437e-9b16-c821f7bbf5fe",
   "metadata": {},
   "outputs": [
    {
     "name": "stdout",
     "output_type": "stream",
     "text": [
      "facet number: 12\n"
     ]
    },
    {
     "data": {
      "text/latex": [
       "$\\displaystyle d_{0} = 1$"
      ],
      "text/plain": [
       "Eq(d0, 1)"
      ]
     },
     "metadata": {},
     "output_type": "display_data"
    }
   ],
   "source": [
    "i=12\n",
    "print('facet number:', i)\n",
    "display(sp.Eq(C.determinants[i], C.orientation[i]))\n",
    "\n",
    "C.subs(d0, 1)"
   ]
  },
  {
   "cell_type": "code",
   "execution_count": 131,
   "id": "b7fe4745-8e2b-4062-b9ee-b80af8089e3e",
   "metadata": {},
   "outputs": [
    {
     "name": "stdout",
     "output_type": "stream",
     "text": [
      "facet number: 14\n"
     ]
    },
    {
     "data": {
      "text/latex": [
       "$\\displaystyle c_{0} + c_{2} = -1$"
      ],
      "text/plain": [
       "Eq(c0 + c2, -1)"
      ]
     },
     "metadata": {},
     "output_type": "display_data"
    }
   ],
   "source": [
    "i=14\n",
    "print('facet number:', i)\n",
    "display(sp.Eq(C.determinants[i], C.orientation[i]))\n",
    "\n",
    "C.subs(c0, -c2-1)"
   ]
  },
  {
   "cell_type": "code",
   "execution_count": 132,
   "id": "057957ae-1ae9-4a83-957f-2ad6688b838b",
   "metadata": {},
   "outputs": [
    {
     "name": "stdout",
     "output_type": "stream",
     "text": [
      "facet number: 13\n"
     ]
    },
    {
     "data": {
      "text/latex": [
       "$\\displaystyle - b_{2} c_{2} - b_{2} + c_{2} = -1$"
      ],
      "text/plain": [
       "Eq(-b2*c2 - b2 + c2, -1)"
      ]
     },
     "metadata": {},
     "output_type": "display_data"
    },
    {
     "data": {
      "text/latex": [
       "$\\displaystyle \\left(b_{2} - 1\\right) \\left(c_{2} + 1\\right) = 0$"
      ],
      "text/plain": [
       "Eq((b2 - 1)*(c2 + 1), 0)"
      ]
     },
     "metadata": {},
     "output_type": "display_data"
    }
   ],
   "source": [
    "i=13\n",
    "print('facet number:', i)\n",
    "display(sp.Eq(C.determinants[i], C.orientation[i]))\n",
    "display(sp.Eq((b2-1)*(c2+1), 0))"
   ]
  },
  {
   "cell_type": "markdown",
   "id": "8f4067c9-b849-4087-9721-364519575431",
   "metadata": {
    "jp-MarkdownHeadingCollapsed": true
   },
   "source": [
    "## $b_2=1$"
   ]
  },
  {
   "cell_type": "code",
   "execution_count": 133,
   "id": "82332b82-fe1a-4501-a2eb-83aa19ac419c",
   "metadata": {},
   "outputs": [],
   "source": [
    "C2=copy.deepcopy(C1)\n",
    "C=C2\n",
    "C.subs(b2, 1)"
   ]
  },
  {
   "cell_type": "code",
   "execution_count": 134,
   "id": "167c0ce7-f859-456d-ad75-34baed7dc295",
   "metadata": {},
   "outputs": [
    {
     "name": "stdout",
     "output_type": "stream",
     "text": [
      "facet number: 16\n"
     ]
    },
    {
     "data": {
      "text/latex": [
       "$\\displaystyle 1 - b_{3} = 1$"
      ],
      "text/plain": [
       "Eq(1 - b3, 1)"
      ]
     },
     "metadata": {},
     "output_type": "display_data"
    }
   ],
   "source": [
    "i=16\n",
    "print('facet number:', i)\n",
    "display(sp.Eq(C.determinants[i], C.orientation[i]))\n",
    "\n",
    "C.subs(b3, 0)"
   ]
  },
  {
   "cell_type": "code",
   "execution_count": 135,
   "id": "8387bc0f-8e59-4e77-92f7-b23b7b8f1fb0",
   "metadata": {},
   "outputs": [
    {
     "name": "stdout",
     "output_type": "stream",
     "text": [
      "facet number: 15\n"
     ]
    },
    {
     "data": {
      "text/latex": [
       "$\\displaystyle a_{2} = 1$"
      ],
      "text/plain": [
       "Eq(a2, 1)"
      ]
     },
     "metadata": {},
     "output_type": "display_data"
    }
   ],
   "source": [
    "i=15\n",
    "print('facet number:', i)\n",
    "display(sp.Eq(C.determinants[i], C.orientation[i]))\n",
    "\n",
    "C.subs(a2, 1)"
   ]
  },
  {
   "cell_type": "code",
   "execution_count": 136,
   "id": "c0ad5361-94d9-4e72-af48-3f574fee10aa",
   "metadata": {},
   "outputs": [
    {
     "name": "stdout",
     "output_type": "stream",
     "text": [
      "facet number: 5\n"
     ]
    },
    {
     "data": {
      "text/latex": [
       "$\\displaystyle - b_{1} - 1 = 1$"
      ],
      "text/plain": [
       "Eq(-b1 - 1, 1)"
      ]
     },
     "metadata": {},
     "output_type": "display_data"
    },
    {
     "name": "stdout",
     "output_type": "stream",
     "text": [
      "facet number: 8\n"
     ]
    },
    {
     "data": {
      "text/latex": [
       "$\\displaystyle 2 b_{1} + 1 = -1$"
      ],
      "text/plain": [
       "Eq(2*b1 + 1, -1)"
      ]
     },
     "metadata": {},
     "output_type": "display_data"
    },
    {
     "name": "stdout",
     "output_type": "stream",
     "text": [
      "no solution\n"
     ]
    }
   ],
   "source": [
    "i=5\n",
    "print('facet number:', i)\n",
    "display(sp.Eq(C.determinants[i], C.orientation[i]))\n",
    "\n",
    "i=8\n",
    "print('facet number:', i)\n",
    "display(sp.Eq(C.determinants[i], C.orientation[i]))\n",
    "\n",
    "print('no solution')"
   ]
  },
  {
   "cell_type": "markdown",
   "id": "e2402940-bf56-4006-9809-59da3fc3e5f0",
   "metadata": {
    "jp-MarkdownHeadingCollapsed": true
   },
   "source": [
    "## $c_2=-1$ ($b_2 \\not= 1$)"
   ]
  },
  {
   "cell_type": "code",
   "execution_count": 137,
   "id": "482adb27-2094-4039-b536-dfb364277517",
   "metadata": {},
   "outputs": [],
   "source": [
    "C2=copy.deepcopy(C1)\n",
    "C=C2\n",
    "C.subs(c2, -1)"
   ]
  },
  {
   "cell_type": "code",
   "execution_count": 138,
   "id": "6c33650c-3355-4601-beef-0aca41745c46",
   "metadata": {},
   "outputs": [
    {
     "name": "stdout",
     "output_type": "stream",
     "text": [
      "facet number: 6\n"
     ]
    },
    {
     "data": {
      "text/latex": [
       "$\\displaystyle - b_{1} + b_{2} = 1$"
      ],
      "text/plain": [
       "Eq(-b1 + b2, 1)"
      ]
     },
     "metadata": {},
     "output_type": "display_data"
    }
   ],
   "source": [
    "i=6\n",
    "print('facet number:', i)\n",
    "display(sp.Eq(C.determinants[i], C.orientation[i]))\n",
    "\n",
    "C.subs(b1, b2-1)"
   ]
  },
  {
   "cell_type": "code",
   "execution_count": 139,
   "id": "c016aa9b-824f-4fd9-8c84-d22eb383cbd8",
   "metadata": {},
   "outputs": [
    {
     "name": "stdout",
     "output_type": "stream",
     "text": [
      "facet number: 5\n"
     ]
    },
    {
     "data": {
      "text/latex": [
       "$\\displaystyle - a_{2} b_{2} + a_{2} - b_{2} = 1$"
      ],
      "text/plain": [
       "Eq(-a2*b2 + a2 - b2, 1)"
      ]
     },
     "metadata": {},
     "output_type": "display_data"
    },
    {
     "name": "stdout",
     "output_type": "stream",
     "text": [
      "facet number: 8\n"
     ]
    },
    {
     "data": {
      "text/latex": [
       "$\\displaystyle a_{2} b_{2} - a_{2} + 2 b_{2} - b_{3} - 1 = -1$"
      ],
      "text/plain": [
       "Eq(a2*b2 - a2 + 2*b2 - b3 - 1, -1)"
      ]
     },
     "metadata": {},
     "output_type": "display_data"
    },
    {
     "data": {
      "text/latex": [
       "$\\displaystyle b_{2} - b_{3} - 1 = 0$"
      ],
      "text/plain": [
       "Eq(b2 - b3 - 1, 0)"
      ]
     },
     "metadata": {},
     "output_type": "display_data"
    }
   ],
   "source": [
    "i=5\n",
    "print('facet number:', i)\n",
    "display(sp.Eq(C.determinants[i], C.orientation[i]))\n",
    "\n",
    "i=8\n",
    "print('facet number:', i)\n",
    "display(sp.Eq(C.determinants[i], C.orientation[i]))\n",
    "\n",
    "display(sp.Eq(C.determinants[5] + C.determinants[8], C.orientation[5] + C.orientation[8]))\n",
    "\n",
    "C.subs(b3, b2-1)"
   ]
  },
  {
   "cell_type": "code",
   "execution_count": 140,
   "id": "ed9422a7-1589-4199-b410-bd921e91f80d",
   "metadata": {},
   "outputs": [
    {
     "name": "stdout",
     "output_type": "stream",
     "text": [
      "facet number: 5\n"
     ]
    },
    {
     "data": {
      "text/latex": [
       "$\\displaystyle - a_{2} b_{2} + a_{2} - b_{2} = 1$"
      ],
      "text/plain": [
       "Eq(-a2*b2 + a2 - b2, 1)"
      ]
     },
     "metadata": {},
     "output_type": "display_data"
    },
    {
     "name": "stdout",
     "output_type": "stream",
     "text": [
      "facet number: 15\n"
     ]
    },
    {
     "data": {
      "text/latex": [
       "$\\displaystyle - a_{2} b_{2} + 2 a_{2} - b_{2} + 1 = 1$"
      ],
      "text/plain": [
       "Eq(-a2*b2 + 2*a2 - b2 + 1, 1)"
      ]
     },
     "metadata": {},
     "output_type": "display_data"
    },
    {
     "data": {
      "text/latex": [
       "$\\displaystyle a_{2} + 1 = 0$"
      ],
      "text/plain": [
       "Eq(a2 + 1, 0)"
      ]
     },
     "metadata": {},
     "output_type": "display_data"
    },
    {
     "name": "stdout",
     "output_type": "stream",
     "text": [
      "a_2 != -1\n"
     ]
    }
   ],
   "source": [
    "i=5\n",
    "print('facet number:', i)\n",
    "display(sp.Eq(C.determinants[i], C.orientation[i]))\n",
    "\n",
    "i=15\n",
    "print('facet number:', i)\n",
    "display(sp.Eq(C.determinants[i], C.orientation[i]))\n",
    "\n",
    "display(sp.Eq(-C.determinants[5] + C.determinants[15], -C.orientation[5] + C.orientation[15]))\n",
    "\n",
    "print('a_2 != -1')"
   ]
  },
  {
   "cell_type": "markdown",
   "id": "5cd0465d-40ec-42a6-b65e-edadb6f454a9",
   "metadata": {
    "jp-MarkdownHeadingCollapsed": true
   },
   "source": [
    "# $b_1=0$ ($a_0 \\not=0$)"
   ]
  },
  {
   "cell_type": "code",
   "execution_count": 141,
   "id": "5f1e902c-a732-41c4-814b-f433bd0f4db6",
   "metadata": {},
   "outputs": [],
   "source": [
    "C1=copy.deepcopy(C0)\n",
    "C=C1\n",
    "C.subs(b1, 0)"
   ]
  },
  {
   "cell_type": "code",
   "execution_count": 142,
   "id": "b0a9543d-de63-4525-9a0e-c42684a9a524",
   "metadata": {},
   "outputs": [
    {
     "name": "stdout",
     "output_type": "stream",
     "text": [
      "facet number: 5\n"
     ]
    },
    {
     "data": {
      "text/latex": [
       "$\\displaystyle - b_{2} = 1$"
      ],
      "text/plain": [
       "Eq(-b2, 1)"
      ]
     },
     "metadata": {},
     "output_type": "display_data"
    }
   ],
   "source": [
    "i=5\n",
    "print('facet number:', i)\n",
    "display(sp.Eq(C.determinants[i], C.orientation[i]))\n",
    "\n",
    "C.subs(b2, -1)"
   ]
  },
  {
   "cell_type": "code",
   "execution_count": 143,
   "id": "2e5be037-3775-4425-b9a0-1b7f456b0413",
   "metadata": {},
   "outputs": [
    {
     "name": "stdout",
     "output_type": "stream",
     "text": [
      "facet number: 6\n"
     ]
    },
    {
     "data": {
      "text/latex": [
       "$\\displaystyle c_{1} = 1$"
      ],
      "text/plain": [
       "Eq(c1, 1)"
      ]
     },
     "metadata": {},
     "output_type": "display_data"
    }
   ],
   "source": [
    "i=6\n",
    "print('facet number:', i)\n",
    "display(sp.Eq(C.determinants[i], C.orientation[i]))\n",
    "\n",
    "C.subs(c1, 1)"
   ]
  },
  {
   "cell_type": "code",
   "execution_count": 144,
   "id": "f2f23a26-293c-4cc9-9637-19821efc9ae6",
   "metadata": {},
   "outputs": [
    {
     "name": "stdout",
     "output_type": "stream",
     "text": [
      "facet number: 13\n"
     ]
    },
    {
     "data": {
      "text/latex": [
       "$\\displaystyle - c_{0} + c_{2} = -1$"
      ],
      "text/plain": [
       "Eq(-c0 + c2, -1)"
      ]
     },
     "metadata": {},
     "output_type": "display_data"
    }
   ],
   "source": [
    "i=13\n",
    "print('facet number:', i)\n",
    "display(sp.Eq(C.determinants[i], C.orientation[i]))\n",
    "\n",
    "C.subs(c0, c2+1)"
   ]
  },
  {
   "cell_type": "code",
   "execution_count": 145,
   "id": "e47a929b-667c-433a-8109-db8a90ad14c0",
   "metadata": {},
   "outputs": [
    {
     "name": "stdout",
     "output_type": "stream",
     "text": [
      "facet number: 4\n"
     ]
    },
    {
     "data": {
      "text/latex": [
       "$\\displaystyle a_{3} d_{1} - 1 = -1$"
      ],
      "text/plain": [
       "Eq(a3*d1 - 1, -1)"
      ]
     },
     "metadata": {},
     "output_type": "display_data"
    },
    {
     "name": "stdout",
     "output_type": "stream",
     "text": [
      "facet number: 7\n"
     ]
    },
    {
     "data": {
      "text/latex": [
       "$\\displaystyle - c_{2} d_{1} - 1 = 1$"
      ],
      "text/plain": [
       "Eq(-c2*d1 - 1, 1)"
      ]
     },
     "metadata": {},
     "output_type": "display_data"
    },
    {
     "name": "stdout",
     "output_type": "stream",
     "text": [
      "d1 != 0\n"
     ]
    }
   ],
   "source": [
    "i=4\n",
    "print('facet number:', i)\n",
    "display(sp.Eq(C.determinants[i], C.orientation[i]))\n",
    "\n",
    "i=7\n",
    "print('facet number:', i)\n",
    "display(sp.Eq(C.determinants[i], C.orientation[i]))\n",
    "\n",
    "print('d1 != 0')\n",
    "\n",
    "C.subs(a3, 0)"
   ]
  },
  {
   "cell_type": "code",
   "execution_count": 146,
   "id": "d7fb522a-4311-4b04-b2c4-f3608aea8ced",
   "metadata": {},
   "outputs": [
    {
     "name": "stdout",
     "output_type": "stream",
     "text": [
      "facet number: 12\n"
     ]
    },
    {
     "data": {
      "text/latex": [
       "$\\displaystyle - a_{0} = 1$"
      ],
      "text/plain": [
       "Eq(-a0, 1)"
      ]
     },
     "metadata": {},
     "output_type": "display_data"
    }
   ],
   "source": [
    "i=12\n",
    "print('facet number:', i)\n",
    "display(sp.Eq(C.determinants[i], C.orientation[i]))\n",
    "\n",
    "C.subs(a0, -1)"
   ]
  },
  {
   "cell_type": "code",
   "execution_count": 147,
   "id": "477e322c-5e33-4547-942a-5e840b62edfc",
   "metadata": {},
   "outputs": [
    {
     "name": "stdout",
     "output_type": "stream",
     "text": [
      "facet number: 11\n"
     ]
    },
    {
     "data": {
      "text/latex": [
       "$\\displaystyle - b_{3} = -1$"
      ],
      "text/plain": [
       "Eq(-b3, -1)"
      ]
     },
     "metadata": {},
     "output_type": "display_data"
    }
   ],
   "source": [
    "i=11\n",
    "print('facet number:', i)\n",
    "display(sp.Eq(C.determinants[i], C.orientation[i]))\n",
    "\n",
    "C.subs(b3, 1)"
   ]
  },
  {
   "cell_type": "code",
   "execution_count": 148,
   "id": "de4ed904-553f-4338-b560-853ad08aede5",
   "metadata": {},
   "outputs": [
    {
     "name": "stdout",
     "output_type": "stream",
     "text": [
      "facet number: 8\n"
     ]
    },
    {
     "data": {
      "text/latex": [
       "$\\displaystyle a_{2} d_{1} - 2 = -1$"
      ],
      "text/plain": [
       "Eq(a2*d1 - 2, -1)"
      ]
     },
     "metadata": {},
     "output_type": "display_data"
    }
   ],
   "source": [
    "i=8\n",
    "print('facet number:', i)\n",
    "display(sp.Eq(C.determinants[i], C.orientation[i]))"
   ]
  },
  {
   "cell_type": "markdown",
   "id": "1c637294-0422-49eb-ab84-b9c33d2ae4e5",
   "metadata": {
    "jp-MarkdownHeadingCollapsed": true
   },
   "source": [
    "## $a_2=1$, $d_1=1$"
   ]
  },
  {
   "cell_type": "code",
   "execution_count": 149,
   "id": "827c773a-06a6-4a30-8e89-051dfb1eb21a",
   "metadata": {},
   "outputs": [],
   "source": [
    "C2=copy.deepcopy(C1)\n",
    "C=C2\n",
    "C.subs(a2, 1)\n",
    "C.subs(d1, 1)"
   ]
  },
  {
   "cell_type": "code",
   "execution_count": 150,
   "id": "aa913b77-f87a-4b4f-b429-07582103e394",
   "metadata": {},
   "outputs": [
    {
     "name": "stdout",
     "output_type": "stream",
     "text": [
      "facet number: 7\n"
     ]
    },
    {
     "data": {
      "text/latex": [
       "$\\displaystyle - c_{2} - 1 = 1$"
      ],
      "text/plain": [
       "Eq(-c2 - 1, 1)"
      ]
     },
     "metadata": {},
     "output_type": "display_data"
    }
   ],
   "source": [
    "i=7\n",
    "print('facet number:', i)\n",
    "display(sp.Eq(C.determinants[i], C.orientation[i]))\n",
    "\n",
    "C.subs(c2, -2)"
   ]
  },
  {
   "cell_type": "code",
   "execution_count": 151,
   "id": "9487f7ac-0520-41d1-a9b9-97635e6b8abf",
   "metadata": {},
   "outputs": [
    {
     "name": "stdout",
     "output_type": "stream",
     "text": [
      "facet number: 14\n"
     ]
    },
    {
     "data": {
      "text/latex": [
       "$\\displaystyle - 2 d_{0} - 1 = -1$"
      ],
      "text/plain": [
       "Eq(-2*d0 - 1, -1)"
      ]
     },
     "metadata": {},
     "output_type": "display_data"
    },
    {
     "name": "stdout",
     "output_type": "stream",
     "text": [
      "facet number: 15\n"
     ]
    },
    {
     "data": {
      "text/latex": [
       "$\\displaystyle 3 - d_{0} = 1$"
      ],
      "text/plain": [
       "Eq(3 - d0, 1)"
      ]
     },
     "metadata": {},
     "output_type": "display_data"
    },
    {
     "name": "stdout",
     "output_type": "stream",
     "text": [
      "no solution\n"
     ]
    }
   ],
   "source": [
    "i=14\n",
    "print('facet number:', i)\n",
    "display(sp.Eq(C.determinants[i], C.orientation[i]))\n",
    "\n",
    "i=15\n",
    "print('facet number:', i)\n",
    "display(sp.Eq(C.determinants[i], C.orientation[i]))\n",
    "\n",
    "print('no solution')"
   ]
  },
  {
   "cell_type": "markdown",
   "id": "41c18f1d-420e-4274-953b-0da0bc7b9925",
   "metadata": {
    "jp-MarkdownHeadingCollapsed": true
   },
   "source": [
    "## $a_2=-1$, $d_1=-1$"
   ]
  },
  {
   "cell_type": "code",
   "execution_count": 152,
   "id": "9a7bd6c7-dc25-4deb-bcc6-ef5d4cca6574",
   "metadata": {},
   "outputs": [],
   "source": [
    "C2=copy.deepcopy(C1)\n",
    "C=C2\n",
    "C.subs(a2, -1)\n",
    "C.subs(d1, -1)"
   ]
  },
  {
   "cell_type": "code",
   "execution_count": 153,
   "id": "d099b6f5-51ff-4f55-833c-4a42fd4bd3da",
   "metadata": {},
   "outputs": [
    {
     "name": "stdout",
     "output_type": "stream",
     "text": [
      "facet number: 7\n"
     ]
    },
    {
     "data": {
      "text/latex": [
       "$\\displaystyle c_{2} - 1 = 1$"
      ],
      "text/plain": [
       "Eq(c2 - 1, 1)"
      ]
     },
     "metadata": {},
     "output_type": "display_data"
    }
   ],
   "source": [
    "i=7\n",
    "print('facet number:', i)\n",
    "display(sp.Eq(C.determinants[i], C.orientation[i]))\n",
    "\n",
    "C.subs(c2, 2)"
   ]
  },
  {
   "cell_type": "code",
   "execution_count": 154,
   "id": "d6544e2c-83c0-40aa-87d1-190266f9843c",
   "metadata": {},
   "outputs": [
    {
     "name": "stdout",
     "output_type": "stream",
     "text": [
      "facet number: 14\n"
     ]
    },
    {
     "data": {
      "text/latex": [
       "$\\displaystyle 2 d_{0} + 3 = -1$"
      ],
      "text/plain": [
       "Eq(2*d0 + 3, -1)"
      ]
     },
     "metadata": {},
     "output_type": "display_data"
    },
    {
     "name": "stdout",
     "output_type": "stream",
     "text": [
      "facet number: 15\n"
     ]
    },
    {
     "data": {
      "text/latex": [
       "$\\displaystyle d_{0} + 1 = 1$"
      ],
      "text/plain": [
       "Eq(d0 + 1, 1)"
      ]
     },
     "metadata": {},
     "output_type": "display_data"
    },
    {
     "name": "stdout",
     "output_type": "stream",
     "text": [
      "no solution\n"
     ]
    }
   ],
   "source": [
    "i=14\n",
    "print('facet number:', i)\n",
    "display(sp.Eq(C.determinants[i], C.orientation[i]))\n",
    "\n",
    "i=15\n",
    "print('facet number:', i)\n",
    "display(sp.Eq(C.determinants[i], C.orientation[i]))\n",
    "\n",
    "print('no solution')"
   ]
  },
  {
   "cell_type": "markdown",
   "id": "2fdf26ab-d7b5-4896-8c4a-8eaf713e9fca",
   "metadata": {},
   "source": [
    "# There is no positive characteristic map"
   ]
  }
 ],
 "metadata": {
  "kernelspec": {
   "display_name": "Python 3 (ipykernel)",
   "language": "python",
   "name": "python3"
  },
  "language_info": {
   "codemirror_mode": {
    "name": "ipython",
    "version": 3
   },
   "file_extension": ".py",
   "mimetype": "text/x-python",
   "name": "python",
   "nbconvert_exporter": "python",
   "pygments_lexer": "ipython3",
   "version": "3.12.7"
  }
 },
 "nbformat": 4,
 "nbformat_minor": 5
}
