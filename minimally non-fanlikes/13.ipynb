{
 "cells": [
  {
   "cell_type": "markdown",
   "id": "ab47a923-db30-47b9-87ee-1b6186e20a71",
   "metadata": {
    "jp-MarkdownHeadingCollapsed": true
   },
   "source": [
    "# Preparation"
   ]
  },
  {
   "cell_type": "code",
   "execution_count": 2,
   "id": "99e278ae-6436-4b9a-a908-913b6e9b7f9e",
   "metadata": {},
   "outputs": [],
   "source": [
    "%run programs\\\\Characteristic_Pair.py\n",
    "import copy\n",
    "\n",
    "minimally_non_fanlikes_index=13\n",
    "\n",
    "K = Simplicial_Complex(json.loads(read_file('programs\\\\minimally_non_fanlikes')[minimally_non_fanlikes_index]))\n",
    "M = initial_char(K.n)\n",
    "C0 = Characteristic_Pair(K, M)\n",
    "\n",
    "a0, a1, a2, a3, a4 = sp.symbols('a0:%d'%K.n)\n",
    "b0, b1, b2, b3, b4 = sp.symbols('b0:%d'%K.n)\n",
    "c0, c1, c2, c3, c4 = sp.symbols('c0:%d'%K.n)\n",
    "d0, d1, d2, d3, d4 = sp.symbols('d0:%d'%K.n)"
   ]
  },
  {
   "cell_type": "code",
   "execution_count": 8,
   "id": "0f4973fc-ab26-4bc6-97ba-f3f11d351658",
   "metadata": {},
   "outputs": [],
   "source": [
    "C=C0"
   ]
  },
  {
   "cell_type": "code",
   "execution_count": 9,
   "id": "04877898-cddc-4b4a-82d6-387041a36646",
   "metadata": {},
   "outputs": [
    {
     "name": "stdout",
     "output_type": "stream",
     "text": [
      "facet number: 17\n"
     ]
    },
    {
     "data": {
      "text/latex": [
       "$\\displaystyle \\text{True}$"
      ],
      "text/plain": [
       "True"
      ]
     },
     "metadata": {},
     "output_type": "display_data"
    },
    {
     "name": "stdout",
     "output_type": "stream",
     "text": [
      "facet number: 10\n"
     ]
    },
    {
     "data": {
      "text/latex": [
       "$\\displaystyle \\text{True}$"
      ],
      "text/plain": [
       "True"
      ]
     },
     "metadata": {},
     "output_type": "display_data"
    },
    {
     "name": "stdout",
     "output_type": "stream",
     "text": [
      "facet number: 1\n"
     ]
    },
    {
     "data": {
      "text/latex": [
       "$\\displaystyle \\text{True}$"
      ],
      "text/plain": [
       "True"
      ]
     },
     "metadata": {},
     "output_type": "display_data"
    },
    {
     "name": "stdout",
     "output_type": "stream",
     "text": [
      "facet number: 6\n"
     ]
    },
    {
     "data": {
      "text/latex": [
       "$\\displaystyle \\text{True}$"
      ],
      "text/plain": [
       "True"
      ]
     },
     "metadata": {},
     "output_type": "display_data"
    },
    {
     "name": "stdout",
     "output_type": "stream",
     "text": [
      "facet number: 2\n"
     ]
    },
    {
     "data": {
      "text/latex": [
       "$\\displaystyle \\text{True}$"
      ],
      "text/plain": [
       "True"
      ]
     },
     "metadata": {},
     "output_type": "display_data"
    }
   ],
   "source": [
    "i=17\n",
    "print('facet number:', i)\n",
    "display(sp.Eq(C.determinants[i], C.orientation[i]))\n",
    "\n",
    "i=10\n",
    "print('facet number:', i)\n",
    "display(sp.Eq(C.determinants[i], C.orientation[i]))\n",
    "\n",
    "i=1\n",
    "print('facet number:', i)\n",
    "display(sp.Eq(C.determinants[i], C.orientation[i]))\n",
    "\n",
    "i=6\n",
    "print('facet number:', i)\n",
    "display(sp.Eq(C.determinants[i], C.orientation[i]))\n",
    "\n",
    "i=2\n",
    "print('facet number:', i)\n",
    "display(sp.Eq(C.determinants[i], C.orientation[i]))\n",
    "\n",
    "C.subs(a0, -1)\n",
    "C.subs(b1, -1)\n",
    "C.subs(b4, -1)\n",
    "C.subs(c2, -1)\n",
    "C.subs(c3, -1)"
   ]
  },
  {
   "cell_type": "code",
   "execution_count": 10,
   "id": "5117276d-900b-4e76-b0db-e69cf09f9ec8",
   "metadata": {},
   "outputs": [
    {
     "name": "stdout",
     "output_type": "stream",
     "text": [
      "facet number: 18\n"
     ]
    },
    {
     "data": {
      "text/latex": [
       "$\\displaystyle a_{4} b_{0} - 1 = -1$"
      ],
      "text/plain": [
       "Eq(a4*b0 - 1, -1)"
      ]
     },
     "metadata": {},
     "output_type": "display_data"
    }
   ],
   "source": [
    "i=18\n",
    "print('facet number:', i)\n",
    "display(sp.Eq(C.determinants[i], C.orientation[i]))"
   ]
  },
  {
   "cell_type": "markdown",
   "id": "4ddd5881-9937-40f9-a798-727e230feebd",
   "metadata": {
    "jp-MarkdownHeadingCollapsed": true
   },
   "source": [
    "# $b_0=0$"
   ]
  },
  {
   "cell_type": "code",
   "execution_count": 11,
   "id": "700e56b9-68e1-447c-826c-09afb4abb699",
   "metadata": {},
   "outputs": [],
   "source": [
    "C1=copy.deepcopy(C0)\n",
    "C=C1\n",
    "C.subs(b0, 0)"
   ]
  },
  {
   "cell_type": "code",
   "execution_count": 13,
   "id": "240a362a-648c-4c38-af6c-8e9086d00e38",
   "metadata": {},
   "outputs": [
    {
     "name": "stdout",
     "output_type": "stream",
     "text": [
      "facet number: 19\n"
     ]
    },
    {
     "data": {
      "text/latex": [
       "$\\displaystyle - a_{3} c_{0} + 1 = 1$"
      ],
      "text/plain": [
       "Eq(-a3*c0 + 1, 1)"
      ]
     },
     "metadata": {},
     "output_type": "display_data"
    }
   ],
   "source": [
    "i=19\n",
    "print('facet number:', i)\n",
    "display(sp.Eq(C.determinants[i], C.orientation[i]))"
   ]
  },
  {
   "cell_type": "markdown",
   "id": "75683a17-e2ae-4509-9e1e-62032a138837",
   "metadata": {
    "jp-MarkdownHeadingCollapsed": true
   },
   "source": [
    "## $c_0=0$"
   ]
  },
  {
   "cell_type": "code",
   "execution_count": 14,
   "id": "ed06c9d1-0810-4d8c-b2a5-4577f72868fa",
   "metadata": {},
   "outputs": [],
   "source": [
    "C2=copy.deepcopy(C1)\n",
    "C=C2\n",
    "C.subs(c0, 0)"
   ]
  },
  {
   "cell_type": "code",
   "execution_count": 16,
   "id": "f690b664-ae4d-4405-a2cd-4147cad211d0",
   "metadata": {},
   "outputs": [
    {
     "name": "stdout",
     "output_type": "stream",
     "text": [
      "facet number: 14\n"
     ]
    },
    {
     "data": {
      "text/latex": [
       "$\\displaystyle - b_{2} c_{1} + 1 = 1$"
      ],
      "text/plain": [
       "Eq(-b2*c1 + 1, 1)"
      ]
     },
     "metadata": {},
     "output_type": "display_data"
    },
    {
     "name": "stdout",
     "output_type": "stream",
     "text": [
      "facet number: 28\n"
     ]
    },
    {
     "data": {
      "text/latex": [
       "$\\displaystyle d_{0} \\left(- b_{2} c_{1} + 1\\right) = -1$"
      ],
      "text/plain": [
       "Eq(d0*(-b2*c1 + 1), -1)"
      ]
     },
     "metadata": {},
     "output_type": "display_data"
    }
   ],
   "source": [
    "i=14\n",
    "print('facet number:', i)\n",
    "display(sp.Eq(C.determinants[i], C.orientation[i]))\n",
    "\n",
    "i=28\n",
    "print('facet number:', i)\n",
    "display(sp.Eq(C.determinants[i], C.orientation[i]))\n",
    "\n",
    "C.subs(d0, -1)"
   ]
  },
  {
   "cell_type": "code",
   "execution_count": 18,
   "id": "1066105f-5a41-4124-8c73-cc99e9ee89c2",
   "metadata": {},
   "outputs": [
    {
     "name": "stdout",
     "output_type": "stream",
     "text": [
      "facet number: 7\n"
     ]
    },
    {
     "data": {
      "text/latex": [
       "$\\displaystyle - b_{2} c_{4} + 1 = 1$"
      ],
      "text/plain": [
       "Eq(-b2*c4 + 1, 1)"
      ]
     },
     "metadata": {},
     "output_type": "display_data"
    }
   ],
   "source": [
    "i=7\n",
    "print('facet number:', i)\n",
    "display(sp.Eq(C.determinants[i], C.orientation[i]))"
   ]
  },
  {
   "cell_type": "markdown",
   "id": "6ad1b248-1b8e-49db-88be-3e74784edf79",
   "metadata": {
    "jp-MarkdownHeadingCollapsed": true
   },
   "source": [
    "### $b_2=0$"
   ]
  },
  {
   "cell_type": "code",
   "execution_count": 19,
   "id": "e346ed9a-cb44-4e7b-a94f-68d41a001857",
   "metadata": {},
   "outputs": [],
   "source": [
    "C3=copy.deepcopy(C2)\n",
    "C=C3\n",
    "C.subs(b2, 0)"
   ]
  },
  {
   "cell_type": "code",
   "execution_count": 21,
   "id": "b48185bf-3cb4-41af-99d3-23a743640c9e",
   "metadata": {},
   "outputs": [
    {
     "name": "stdout",
     "output_type": "stream",
     "text": [
      "facet number: 26\n"
     ]
    },
    {
     "data": {
      "text/latex": [
       "$\\displaystyle - a_{2} + d_{2} = -1$"
      ],
      "text/plain": [
       "Eq(-a2 + d2, -1)"
      ]
     },
     "metadata": {},
     "output_type": "display_data"
    }
   ],
   "source": [
    "i=26\n",
    "print('facet number:', i)\n",
    "display(sp.Eq(C.determinants[i], C.orientation[i]))\n",
    "\n",
    "C.subs(a2, d2+1)"
   ]
  },
  {
   "cell_type": "code",
   "execution_count": 23,
   "id": "14e70cc4-ad7d-44e8-90e3-c925b503e2a6",
   "metadata": {},
   "outputs": [
    {
     "name": "stdout",
     "output_type": "stream",
     "text": [
      "facet number: 3\n"
     ]
    },
    {
     "data": {
      "text/latex": [
       "$\\displaystyle - a_{3} - a_{4} b_{3} = 1$"
      ],
      "text/plain": [
       "Eq(-a3 - a4*b3, 1)"
      ]
     },
     "metadata": {},
     "output_type": "display_data"
    },
    {
     "name": "stdout",
     "output_type": "stream",
     "text": [
      "facet number: 11\n"
     ]
    },
    {
     "data": {
      "text/latex": [
       "$\\displaystyle - a_{1} b_{3} - a_{3} = 1$"
      ],
      "text/plain": [
       "Eq(-a1*b3 - a3, 1)"
      ]
     },
     "metadata": {},
     "output_type": "display_data"
    },
    {
     "data": {
      "text/latex": [
       "$\\displaystyle a_{1} b_{3} - a_{4} b_{3} = 0$"
      ],
      "text/plain": [
       "Eq(a1*b3 - a4*b3, 0)"
      ]
     },
     "metadata": {},
     "output_type": "display_data"
    }
   ],
   "source": [
    "i=3\n",
    "print('facet number:', i)\n",
    "display(sp.Eq(C.determinants[i], C.orientation[i]))\n",
    "\n",
    "i=11\n",
    "print('facet number:', i)\n",
    "display(sp.Eq(C.determinants[i], C.orientation[i]))\n",
    "\n",
    "display(sp.Eq(C.determinants[3] - C.determinants[11], C.orientation[3] - C.orientation[11]))"
   ]
  },
  {
   "cell_type": "markdown",
   "id": "61f7b0fc-3973-4364-b0bc-96bd0761f955",
   "metadata": {
    "jp-MarkdownHeadingCollapsed": true
   },
   "source": [
    "#### $b_3=0$"
   ]
  },
  {
   "cell_type": "code",
   "execution_count": 24,
   "id": "cacb6863-e4fe-44e4-b45c-26d15d4637cc",
   "metadata": {},
   "outputs": [],
   "source": [
    "C4=copy.deepcopy(C3)\n",
    "C=C4\n",
    "C.subs(b3, 0)"
   ]
  },
  {
   "cell_type": "code",
   "execution_count": 26,
   "id": "aa492db7-9e21-4902-92f4-eb41f605a903",
   "metadata": {},
   "outputs": [
    {
     "name": "stdout",
     "output_type": "stream",
     "text": [
      "facet number: 3\n"
     ]
    },
    {
     "data": {
      "text/latex": [
       "$\\displaystyle - a_{3} = 1$"
      ],
      "text/plain": [
       "Eq(-a3, 1)"
      ]
     },
     "metadata": {},
     "output_type": "display_data"
    }
   ],
   "source": [
    "i=3\n",
    "print('facet number:', i)\n",
    "display(sp.Eq(C.determinants[i], C.orientation[i]))\n",
    "\n",
    "C.subs(a3, -1)"
   ]
  },
  {
   "cell_type": "code",
   "execution_count": 28,
   "id": "6f969d5e-4709-45b6-81c1-dcd90a7bfebc",
   "metadata": {},
   "outputs": [
    {
     "name": "stdout",
     "output_type": "stream",
     "text": [
      "facet number: 23\n"
     ]
    },
    {
     "data": {
      "text/latex": [
       "$\\displaystyle d_{3} + 2 = -1$"
      ],
      "text/plain": [
       "Eq(d3 + 2, -1)"
      ]
     },
     "metadata": {},
     "output_type": "display_data"
    }
   ],
   "source": [
    "i=23\n",
    "print('facet number:', i)\n",
    "display(sp.Eq(C.determinants[i], C.orientation[i]))\n",
    "\n",
    "C.subs(d3, -3)"
   ]
  },
  {
   "cell_type": "code",
   "execution_count": 30,
   "id": "65409555-80d2-410e-8672-15a38ca2b7bd",
   "metadata": {},
   "outputs": [
    {
     "name": "stdout",
     "output_type": "stream",
     "text": [
      "facet number: 15\n"
     ]
    },
    {
     "data": {
      "text/latex": [
       "$\\displaystyle 2 d_{2} + 3 = 1$"
      ],
      "text/plain": [
       "Eq(2*d2 + 3, 1)"
      ]
     },
     "metadata": {},
     "output_type": "display_data"
    },
    {
     "name": "stdout",
     "output_type": "stream",
     "text": [
      "facet number: 16\n"
     ]
    },
    {
     "data": {
      "text/latex": [
       "$\\displaystyle d_{2} + 3 = 1$"
      ],
      "text/plain": [
       "Eq(d2 + 3, 1)"
      ]
     },
     "metadata": {},
     "output_type": "display_data"
    },
    {
     "name": "stdout",
     "output_type": "stream",
     "text": [
      "no solution\n"
     ]
    }
   ],
   "source": [
    "i=15\n",
    "print('facet number:', i)\n",
    "display(sp.Eq(C.determinants[i], C.orientation[i]))\n",
    "\n",
    "i=16\n",
    "print('facet number:', i)\n",
    "display(sp.Eq(C.determinants[i], C.orientation[i]))\n",
    "\n",
    "print('no solution')"
   ]
  },
  {
   "cell_type": "markdown",
   "id": "1f2b4511-99b8-4956-9382-919dc658190e",
   "metadata": {
    "jp-MarkdownHeadingCollapsed": true
   },
   "source": [
    "#### $a_1=a_4$ ($b_3 \\not= 0$)"
   ]
  },
  {
   "cell_type": "code",
   "execution_count": 31,
   "id": "9e5be2a5-5acc-4dd1-9fcc-27c1dd956804",
   "metadata": {},
   "outputs": [],
   "source": [
    "C4=copy.deepcopy(C3)\n",
    "C=C4\n",
    "C.subs(a1, a4)"
   ]
  },
  {
   "cell_type": "code",
   "execution_count": 33,
   "id": "8dcd795b-58e4-49b3-85ad-9836f615de69",
   "metadata": {},
   "outputs": [
    {
     "name": "stdout",
     "output_type": "stream",
     "text": [
      "facet number: 4\n"
     ]
    },
    {
     "data": {
      "text/latex": [
       "$\\displaystyle a_{3} d_{4} - a_{4} d_{3} = -1$"
      ],
      "text/plain": [
       "Eq(a3*d4 - a4*d3, -1)"
      ]
     },
     "metadata": {},
     "output_type": "display_data"
    },
    {
     "name": "stdout",
     "output_type": "stream",
     "text": [
      "facet number: 12\n"
     ]
    },
    {
     "data": {
      "text/latex": [
       "$\\displaystyle a_{3} d_{1} - a_{4} d_{3} = -1$"
      ],
      "text/plain": [
       "Eq(a3*d1 - a4*d3, -1)"
      ]
     },
     "metadata": {},
     "output_type": "display_data"
    },
    {
     "data": {
      "text/latex": [
       "$\\displaystyle - a_{3} d_{1} + a_{3} d_{4} = 0$"
      ],
      "text/plain": [
       "Eq(-a3*d1 + a3*d4, 0)"
      ]
     },
     "metadata": {},
     "output_type": "display_data"
    }
   ],
   "source": [
    "i=4\n",
    "print('facet number:', i)\n",
    "display(sp.Eq(C.determinants[i], C.orientation[i]))\n",
    "\n",
    "i=12\n",
    "print('facet number:', i)\n",
    "display(sp.Eq(C.determinants[i], C.orientation[i]))\n",
    "\n",
    "display(sp.Eq(C.determinants[4] - C.determinants[12], C.orientation[4] - C.orientation[12]))"
   ]
  },
  {
   "cell_type": "markdown",
   "id": "105daf79-9423-4f7a-b935-53bd936466ac",
   "metadata": {
    "jp-MarkdownHeadingCollapsed": true
   },
   "source": [
    "##### $a_3=0$ ($b_3 \\not= 0$)"
   ]
  },
  {
   "cell_type": "code",
   "execution_count": 51,
   "id": "841c4424-8920-47ab-9890-f851c914dbb6",
   "metadata": {},
   "outputs": [],
   "source": [
    "C5=copy.deepcopy(C4)\n",
    "C=C5\n",
    "C.subs(a3, 0)"
   ]
  },
  {
   "cell_type": "code",
   "execution_count": 52,
   "id": "4d586f71-f422-4696-acf0-afe0ec6eac1e",
   "metadata": {},
   "outputs": [
    {
     "name": "stdout",
     "output_type": "stream",
     "text": [
      "facet number: 5\n"
     ]
    },
    {
     "data": {
      "text/latex": [
       "$\\displaystyle - c_{4} d_{3} - d_{4} = 1$"
      ],
      "text/plain": [
       "Eq(-c4*d3 - d4, 1)"
      ]
     },
     "metadata": {},
     "output_type": "display_data"
    },
    {
     "name": "stdout",
     "output_type": "stream",
     "text": [
      "facet number: 20\n"
     ]
    },
    {
     "data": {
      "text/latex": [
       "$\\displaystyle - a_{4} + c_{4} d_{3} + d_{4} = -1$"
      ],
      "text/plain": [
       "Eq(-a4 + c4*d3 + d4, -1)"
      ]
     },
     "metadata": {},
     "output_type": "display_data"
    },
    {
     "data": {
      "text/latex": [
       "$\\displaystyle - a_{4} = 0$"
      ],
      "text/plain": [
       "Eq(-a4, 0)"
      ]
     },
     "metadata": {},
     "output_type": "display_data"
    },
    {
     "name": "stdout",
     "output_type": "stream",
     "text": [
      "facet number: 3\n"
     ]
    },
    {
     "data": {
      "text/latex": [
       "$\\displaystyle - a_{4} b_{3} = 1$"
      ],
      "text/plain": [
       "Eq(-a4*b3, 1)"
      ]
     },
     "metadata": {},
     "output_type": "display_data"
    },
    {
     "name": "stdout",
     "output_type": "stream",
     "text": [
      "no solution\n"
     ]
    }
   ],
   "source": [
    "i=5\n",
    "print('facet number:', i)\n",
    "display(sp.Eq(C.determinants[i], C.orientation[i]))\n",
    "\n",
    "i=20\n",
    "print('facet number:', i)\n",
    "display(sp.Eq(C.determinants[i], C.orientation[i]))\n",
    "\n",
    "display(sp.Eq(C.determinants[5] + C.determinants[20], C.orientation[5] + C.orientation[20]))\n",
    "\n",
    "i=3\n",
    "print('facet number:', i)\n",
    "display(sp.Eq(C.determinants[i], C.orientation[i]))\n",
    "\n",
    "print('no solution')"
   ]
  },
  {
   "cell_type": "markdown",
   "id": "9b40ea1f-25b2-4e3f-8b72-df435722bf38",
   "metadata": {
    "jp-MarkdownHeadingCollapsed": true
   },
   "source": [
    "##### $d_1=d_4$ ($a_3 \\not= 0$, $b_3 \\not= 0$)"
   ]
  },
  {
   "cell_type": "code",
   "execution_count": 58,
   "id": "60270eb8-9e92-4f88-afdf-63d9c07c8d3a",
   "metadata": {},
   "outputs": [],
   "source": [
    "C5=copy.deepcopy(C4)\n",
    "C=C5\n",
    "C.subs(d1, d4)"
   ]
  },
  {
   "cell_type": "code",
   "execution_count": 59,
   "id": "8b006ffb-50bc-43df-accc-e679e0adf1ba",
   "metadata": {},
   "outputs": [
    {
     "name": "stdout",
     "output_type": "stream",
     "text": [
      "facet number: 29\n"
     ]
    },
    {
     "data": {
      "text/latex": [
       "$\\displaystyle c_{1} - c_{4} = 1$"
      ],
      "text/plain": [
       "Eq(c1 - c4, 1)"
      ]
     },
     "metadata": {},
     "output_type": "display_data"
    }
   ],
   "source": [
    "i=29\n",
    "print('facet number:', i)\n",
    "display(sp.Eq(C.determinants[i], C.orientation[i]))\n",
    "\n",
    "C.subs(c1, c4+1)"
   ]
  },
  {
   "cell_type": "code",
   "execution_count": 60,
   "id": "a3d55a48-27c3-42ad-9dfc-a1d7e10bc2ee",
   "metadata": {},
   "outputs": [
    {
     "name": "stdout",
     "output_type": "stream",
     "text": [
      "facet number: 5\n"
     ]
    },
    {
     "data": {
      "text/latex": [
       "$\\displaystyle - c_{4} d_{3} - d_{4} = 1$"
      ],
      "text/plain": [
       "Eq(-c4*d3 - d4, 1)"
      ]
     },
     "metadata": {},
     "output_type": "display_data"
    },
    {
     "name": "stdout",
     "output_type": "stream",
     "text": [
      "facet number: 20\n"
     ]
    },
    {
     "data": {
      "text/latex": [
       "$\\displaystyle - a_{3} c_{4} - a_{4} + c_{4} d_{3} + d_{4} = -1$"
      ],
      "text/plain": [
       "Eq(-a3*c4 - a4 + c4*d3 + d4, -1)"
      ]
     },
     "metadata": {},
     "output_type": "display_data"
    },
    {
     "data": {
      "text/latex": [
       "$\\displaystyle - a_{3} c_{4} - a_{4} = 0$"
      ],
      "text/plain": [
       "Eq(-a3*c4 - a4, 0)"
      ]
     },
     "metadata": {},
     "output_type": "display_data"
    },
    {
     "name": "stdout",
     "output_type": "stream",
     "text": [
      "facet number: 13\n"
     ]
    },
    {
     "data": {
      "text/latex": [
       "$\\displaystyle - c_{4} d_{3} - d_{3} - d_{4} = 1$"
      ],
      "text/plain": [
       "Eq(-c4*d3 - d3 - d4, 1)"
      ]
     },
     "metadata": {},
     "output_type": "display_data"
    },
    {
     "name": "stdout",
     "output_type": "stream",
     "text": [
      "facet number: 25\n"
     ]
    },
    {
     "data": {
      "text/latex": [
       "$\\displaystyle - a_{3} c_{4} - a_{3} - a_{4} + c_{4} d_{3} + d_{3} + d_{4} = -1$"
      ],
      "text/plain": [
       "Eq(-a3*c4 - a3 - a4 + c4*d3 + d3 + d4, -1)"
      ]
     },
     "metadata": {},
     "output_type": "display_data"
    },
    {
     "data": {
      "text/latex": [
       "$\\displaystyle - a_{3} c_{4} - a_{3} - a_{4} = 0$"
      ],
      "text/plain": [
       "Eq(-a3*c4 - a3 - a4, 0)"
      ]
     },
     "metadata": {},
     "output_type": "display_data"
    },
    {
     "data": {
      "text/latex": [
       "$\\displaystyle a_{3} = 0$"
      ],
      "text/plain": [
       "Eq(a3, 0)"
      ]
     },
     "metadata": {},
     "output_type": "display_data"
    },
    {
     "name": "stdout",
     "output_type": "stream",
     "text": [
      "no solution\n"
     ]
    }
   ],
   "source": [
    "i=5\n",
    "print('facet number:', i)\n",
    "display(sp.Eq(C.determinants[i], C.orientation[i]))\n",
    "\n",
    "i=20\n",
    "print('facet number:', i)\n",
    "display(sp.Eq(C.determinants[i], C.orientation[i]))\n",
    "\n",
    "display(sp.Eq(C.determinants[5] + C.determinants[20], C.orientation[5] + C.orientation[20]))\n",
    "\n",
    "i=13\n",
    "print('facet number:', i)\n",
    "display(sp.Eq(C.determinants[i], C.orientation[i]))\n",
    "\n",
    "i=25\n",
    "print('facet number:', i)\n",
    "display(sp.Eq(C.determinants[i], C.orientation[i]))\n",
    "\n",
    "display(sp.Eq(C.determinants[13] + C.determinants[25], C.orientation[13] + C.orientation[25]))\n",
    "\n",
    "display(sp.Eq(C.determinants[5] + C.determinants[20] - C.determinants[13] - C.determinants[25], C.orientation[5] + C.orientation[20] - C.orientation[13] - C.orientation[25]))\n",
    "\n",
    "print('no solution')"
   ]
  },
  {
   "cell_type": "markdown",
   "id": "29b42a41-92a4-41bd-a7fc-251b19c48aa8",
   "metadata": {
    "jp-MarkdownHeadingCollapsed": true
   },
   "source": [
    "### $c_4=0$ ($b_2 \\not= 0$)"
   ]
  },
  {
   "cell_type": "code",
   "execution_count": 61,
   "id": "c9ec87a0-8a57-43a9-b573-0ddfac45198a",
   "metadata": {},
   "outputs": [],
   "source": [
    "C3=copy.deepcopy(C2)\n",
    "C=C3\n",
    "C.subs(c4, 0)"
   ]
  },
  {
   "cell_type": "code",
   "execution_count": 63,
   "id": "b4f828c0-5aab-4401-ba87-8e514ae8b0c9",
   "metadata": {},
   "outputs": [
    {
     "name": "stdout",
     "output_type": "stream",
     "text": [
      "facet number: 5\n"
     ]
    },
    {
     "data": {
      "text/latex": [
       "$\\displaystyle - d_{4} = 1$"
      ],
      "text/plain": [
       "Eq(-d4, 1)"
      ]
     },
     "metadata": {},
     "output_type": "display_data"
    }
   ],
   "source": [
    "i=5\n",
    "print('facet number:', i)\n",
    "display(sp.Eq(C.determinants[i], C.orientation[i]))\n",
    "\n",
    "C.subs(d4, -1)"
   ]
  },
  {
   "cell_type": "code",
   "execution_count": 65,
   "id": "514950be-cd8f-42f8-9bde-0b754ef8b107",
   "metadata": {},
   "outputs": [
    {
     "name": "stdout",
     "output_type": "stream",
     "text": [
      "facet number: 20\n"
     ]
    },
    {
     "data": {
      "text/latex": [
       "$\\displaystyle - a_{4} - 1 = -1$"
      ],
      "text/plain": [
       "Eq(-a4 - 1, -1)"
      ]
     },
     "metadata": {},
     "output_type": "display_data"
    }
   ],
   "source": [
    "i=20\n",
    "print('facet number:', i)\n",
    "display(sp.Eq(C.determinants[i], C.orientation[i]))\n",
    "\n",
    "C.subs(a4, 0)"
   ]
  },
  {
   "cell_type": "code",
   "execution_count": 67,
   "id": "7c1fbb7b-feaa-4392-9367-dc751bf381dd",
   "metadata": {},
   "outputs": [
    {
     "name": "stdout",
     "output_type": "stream",
     "text": [
      "facet number: 3\n"
     ]
    },
    {
     "data": {
      "text/latex": [
       "$\\displaystyle - a_{3} = 1$"
      ],
      "text/plain": [
       "Eq(-a3, 1)"
      ]
     },
     "metadata": {},
     "output_type": "display_data"
    },
    {
     "name": "stdout",
     "output_type": "stream",
     "text": [
      "facet number: 4\n"
     ]
    },
    {
     "data": {
      "text/latex": [
       "$\\displaystyle - a_{3} = -1$"
      ],
      "text/plain": [
       "Eq(-a3, -1)"
      ]
     },
     "metadata": {},
     "output_type": "display_data"
    },
    {
     "name": "stdout",
     "output_type": "stream",
     "text": [
      "no solution\n"
     ]
    }
   ],
   "source": [
    "i=3\n",
    "print('facet number:', i)\n",
    "display(sp.Eq(C.determinants[i], C.orientation[i]))\n",
    "\n",
    "i=4\n",
    "print('facet number:', i)\n",
    "display(sp.Eq(C.determinants[i], C.orientation[i]))\n",
    "\n",
    "print('no solution')"
   ]
  },
  {
   "cell_type": "markdown",
   "id": "d68a4705-ce1d-45fb-8d24-4a9cbb02fd16",
   "metadata": {
    "jp-MarkdownHeadingCollapsed": true
   },
   "source": [
    "## $a_3=0$ ($c_0 \\not= 0$)"
   ]
  },
  {
   "cell_type": "code",
   "execution_count": 68,
   "id": "a7f04187-9dd1-4af0-a8a6-3dce040b64f3",
   "metadata": {},
   "outputs": [],
   "source": [
    "C2=copy.deepcopy(C1)\n",
    "C=C2\n",
    "C.subs(a3, 0)"
   ]
  },
  {
   "cell_type": "code",
   "execution_count": 70,
   "id": "a04d1209-f721-44bb-af12-f93bdfbeee83",
   "metadata": {},
   "outputs": [
    {
     "name": "stdout",
     "output_type": "stream",
     "text": [
      "facet number: 21\n"
     ]
    },
    {
     "data": {
      "text/latex": [
       "$\\displaystyle a_{2} c_{0} - 1 = -1$"
      ],
      "text/plain": [
       "Eq(a2*c0 - 1, -1)"
      ]
     },
     "metadata": {},
     "output_type": "display_data"
    }
   ],
   "source": [
    "i=21\n",
    "print('facet number:', i)\n",
    "display(sp.Eq(C.determinants[i], C.orientation[i]))\n",
    "\n",
    "C.subs(a2, 0)"
   ]
  },
  {
   "cell_type": "code",
   "execution_count": 72,
   "id": "bd5d577c-4485-403a-8197-8c14307bfc7b",
   "metadata": {},
   "outputs": [
    {
     "name": "stdout",
     "output_type": "stream",
     "text": [
      "facet number: 3\n"
     ]
    },
    {
     "data": {
      "text/latex": [
       "$\\displaystyle - a_{4} b_{3} = 1$"
      ],
      "text/plain": [
       "Eq(-a4*b3, 1)"
      ]
     },
     "metadata": {},
     "output_type": "display_data"
    }
   ],
   "source": [
    "i=3\n",
    "print('facet number:', i)\n",
    "display(sp.Eq(C.determinants[i], C.orientation[i]))"
   ]
  },
  {
   "cell_type": "markdown",
   "id": "043aecfe-f1e7-4114-ac2f-e81dc9baa0f0",
   "metadata": {
    "jp-MarkdownHeadingCollapsed": true
   },
   "source": [
    "### $a_4=1$ ($c_0 \\not= 0$)"
   ]
  },
  {
   "cell_type": "code",
   "execution_count": 73,
   "id": "192d764d-b992-4bde-b228-6b99273614fc",
   "metadata": {},
   "outputs": [],
   "source": [
    "C3=copy.deepcopy(C2)\n",
    "C=C3\n",
    "C.subs(a4, 1)\n",
    "C.subs(b3, -1)"
   ]
  },
  {
   "cell_type": "code",
   "execution_count": 75,
   "id": "2aaa7061-1ac4-47ec-93a9-2ef6a264edf5",
   "metadata": {},
   "outputs": [
    {
     "name": "stdout",
     "output_type": "stream",
     "text": [
      "facet number: 4\n"
     ]
    },
    {
     "data": {
      "text/latex": [
       "$\\displaystyle - d_{3} = -1$"
      ],
      "text/plain": [
       "Eq(-d3, -1)"
      ]
     },
     "metadata": {},
     "output_type": "display_data"
    }
   ],
   "source": [
    "i=4\n",
    "print('facet number:', i)\n",
    "display(sp.Eq(C.determinants[i], C.orientation[i]))\n",
    "\n",
    "C.subs(d3, 1)"
   ]
  },
  {
   "cell_type": "code",
   "execution_count": 77,
   "id": "6868928b-b031-43bd-af76-b3672978aee9",
   "metadata": {},
   "outputs": [
    {
     "name": "stdout",
     "output_type": "stream",
     "text": [
      "facet number: 11\n"
     ]
    },
    {
     "data": {
      "text/latex": [
       "$\\displaystyle a_{1} = 1$"
      ],
      "text/plain": [
       "Eq(a1, 1)"
      ]
     },
     "metadata": {},
     "output_type": "display_data"
    }
   ],
   "source": [
    "i=11\n",
    "print('facet number:', i)\n",
    "display(sp.Eq(C.determinants[i], C.orientation[i]))\n",
    "\n",
    "C.subs(a1, 1)"
   ]
  },
  {
   "cell_type": "code",
   "execution_count": 79,
   "id": "5036a79a-c91e-4dc8-993e-43bb001c2437",
   "metadata": {},
   "outputs": [
    {
     "name": "stdout",
     "output_type": "stream",
     "text": [
      "facet number: 5\n"
     ]
    },
    {
     "data": {
      "text/latex": [
       "$\\displaystyle - c_{4} - d_{4} = 1$"
      ],
      "text/plain": [
       "Eq(-c4 - d4, 1)"
      ]
     },
     "metadata": {},
     "output_type": "display_data"
    }
   ],
   "source": [
    "i=5\n",
    "print('facet number:', i)\n",
    "display(sp.Eq(C.determinants[i], C.orientation[i]))\n",
    "\n",
    "C.subs(c4, -d4-1)"
   ]
  },
  {
   "cell_type": "code",
   "execution_count": 81,
   "id": "a3064261-7726-4aad-af7d-14ed5c24b421",
   "metadata": {},
   "outputs": [
    {
     "name": "stdout",
     "output_type": "stream",
     "text": [
      "facet number: 8\n"
     ]
    },
    {
     "data": {
      "text/latex": [
       "$\\displaystyle b_{2} + d_{2} = -1$"
      ],
      "text/plain": [
       "Eq(b2 + d2, -1)"
      ]
     },
     "metadata": {},
     "output_type": "display_data"
    }
   ],
   "source": [
    "i=8\n",
    "print('facet number:', i)\n",
    "display(sp.Eq(C.determinants[i], C.orientation[i]))\n",
    "\n",
    "C.subs(b2, -d2-1)"
   ]
  },
  {
   "cell_type": "code",
   "execution_count": 83,
   "id": "c8eada0b-9fdc-44bf-bdd2-148f3f06d1da",
   "metadata": {},
   "outputs": [
    {
     "name": "stdout",
     "output_type": "stream",
     "text": [
      "facet number: 13\n"
     ]
    },
    {
     "data": {
      "text/latex": [
       "$\\displaystyle - c_{1} - d_{1} = 1$"
      ],
      "text/plain": [
       "Eq(-c1 - d1, 1)"
      ]
     },
     "metadata": {},
     "output_type": "display_data"
    }
   ],
   "source": [
    "i=13\n",
    "print('facet number:', i)\n",
    "display(sp.Eq(C.determinants[i], C.orientation[i]))\n",
    "\n",
    "C.subs(c1, -d1-1)"
   ]
  },
  {
   "cell_type": "code",
   "execution_count": 85,
   "id": "a5824164-effb-4f3d-8f4f-b2d370d3ddaf",
   "metadata": {},
   "outputs": [
    {
     "name": "stdout",
     "output_type": "stream",
     "text": [
      "facet number: 20\n"
     ]
    },
    {
     "data": {
      "text/latex": [
       "$\\displaystyle c_{0} + d_{0} - 1 = -1$"
      ],
      "text/plain": [
       "Eq(c0 + d0 - 1, -1)"
      ]
     },
     "metadata": {},
     "output_type": "display_data"
    }
   ],
   "source": [
    "i=20\n",
    "print('facet number:', i)\n",
    "display(sp.Eq(C.determinants[i], C.orientation[i]))\n",
    "\n",
    "C.subs(c0, -d0)"
   ]
  },
  {
   "cell_type": "code",
   "execution_count": 87,
   "id": "2713025c-1208-44fa-95cd-71e89963aeba",
   "metadata": {},
   "outputs": [
    {
     "name": "stdout",
     "output_type": "stream",
     "text": [
      "facet number: 28\n"
     ]
    },
    {
     "data": {
      "text/latex": [
       "$\\displaystyle - 2 d_{0} d_{2} = -1$"
      ],
      "text/plain": [
       "Eq(-2*d0*d2, -1)"
      ]
     },
     "metadata": {},
     "output_type": "display_data"
    },
    {
     "name": "stdout",
     "output_type": "stream",
     "text": [
      "no solution\n"
     ]
    }
   ],
   "source": [
    "i=28\n",
    "print('facet number:', i)\n",
    "display(sp.Eq(C.determinants[i], C.orientation[i]))\n",
    "\n",
    "print('no solution')"
   ]
  },
  {
   "cell_type": "markdown",
   "id": "bf34640f-4d0b-490b-a6b5-19be1d150b69",
   "metadata": {
    "jp-MarkdownHeadingCollapsed": true
   },
   "source": [
    "### $a_4=-1$ ($c_0 \\not= 0$)"
   ]
  },
  {
   "cell_type": "code",
   "execution_count": 102,
   "id": "2b0ff3c9-6939-4637-9a94-e45e5122356e",
   "metadata": {},
   "outputs": [],
   "source": [
    "C3=copy.deepcopy(C2)\n",
    "C=C3\n",
    "C.subs(a4, -1)\n",
    "C.subs(b3, 1)"
   ]
  },
  {
   "cell_type": "code",
   "execution_count": 103,
   "id": "31fe9bf9-f408-4bcd-9d16-abdb588b51a7",
   "metadata": {},
   "outputs": [
    {
     "name": "stdout",
     "output_type": "stream",
     "text": [
      "facet number: 4\n"
     ]
    },
    {
     "data": {
      "text/latex": [
       "$\\displaystyle d_{3} = -1$"
      ],
      "text/plain": [
       "Eq(d3, -1)"
      ]
     },
     "metadata": {},
     "output_type": "display_data"
    }
   ],
   "source": [
    "i=4\n",
    "print('facet number:', i)\n",
    "display(sp.Eq(C.determinants[i], C.orientation[i]))\n",
    "\n",
    "C.subs(d3, -1)"
   ]
  },
  {
   "cell_type": "code",
   "execution_count": 104,
   "id": "4a8a89e4-18dd-443d-aa67-f28e93892eea",
   "metadata": {},
   "outputs": [
    {
     "name": "stdout",
     "output_type": "stream",
     "text": [
      "facet number: 11\n"
     ]
    },
    {
     "data": {
      "text/latex": [
       "$\\displaystyle - a_{1} = 1$"
      ],
      "text/plain": [
       "Eq(-a1, 1)"
      ]
     },
     "metadata": {},
     "output_type": "display_data"
    }
   ],
   "source": [
    "i=11\n",
    "print('facet number:', i)\n",
    "display(sp.Eq(C.determinants[i], C.orientation[i]))\n",
    "\n",
    "C.subs(a1, -1)"
   ]
  },
  {
   "cell_type": "code",
   "execution_count": 105,
   "id": "5492de11-45c9-459a-8817-af4863070155",
   "metadata": {},
   "outputs": [
    {
     "name": "stdout",
     "output_type": "stream",
     "text": [
      "facet number: 5\n"
     ]
    },
    {
     "data": {
      "text/latex": [
       "$\\displaystyle c_{4} - d_{4} = 1$"
      ],
      "text/plain": [
       "Eq(c4 - d4, 1)"
      ]
     },
     "metadata": {},
     "output_type": "display_data"
    }
   ],
   "source": [
    "i=5\n",
    "print('facet number:', i)\n",
    "display(sp.Eq(C.determinants[i], C.orientation[i]))\n",
    "\n",
    "C.subs(c4, d4+1)"
   ]
  },
  {
   "cell_type": "code",
   "execution_count": 106,
   "id": "31f7f567-6ec5-4d8b-8b4e-61141891bc81",
   "metadata": {},
   "outputs": [
    {
     "name": "stdout",
     "output_type": "stream",
     "text": [
      "facet number: 8\n"
     ]
    },
    {
     "data": {
      "text/latex": [
       "$\\displaystyle b_{2} + d_{2} = -1$"
      ],
      "text/plain": [
       "Eq(b2 + d2, -1)"
      ]
     },
     "metadata": {},
     "output_type": "display_data"
    }
   ],
   "source": [
    "i=8\n",
    "print('facet number:', i)\n",
    "display(sp.Eq(C.determinants[i], C.orientation[i]))\n",
    "\n",
    "C.subs(b2,-d2-1)"
   ]
  },
  {
   "cell_type": "code",
   "execution_count": 108,
   "id": "eec9e3a0-781c-4064-b3d0-3d31b281a690",
   "metadata": {},
   "outputs": [
    {
     "name": "stdout",
     "output_type": "stream",
     "text": [
      "facet number: 13\n"
     ]
    },
    {
     "data": {
      "text/latex": [
       "$\\displaystyle c_{1} - d_{1} = 1$"
      ],
      "text/plain": [
       "Eq(c1 - d1, 1)"
      ]
     },
     "metadata": {},
     "output_type": "display_data"
    }
   ],
   "source": [
    "i=13\n",
    "print('facet number:', i)\n",
    "display(sp.Eq(C.determinants[i], C.orientation[i]))\n",
    "\n",
    "C.subs(c1, d1+1)"
   ]
  },
  {
   "cell_type": "code",
   "execution_count": 110,
   "id": "e83e34e8-d8e2-4992-bb58-e07d9ac5a942",
   "metadata": {},
   "outputs": [
    {
     "name": "stdout",
     "output_type": "stream",
     "text": [
      "facet number: 20\n"
     ]
    },
    {
     "data": {
      "text/latex": [
       "$\\displaystyle c_{0} - d_{0} - 1 = -1$"
      ],
      "text/plain": [
       "Eq(c0 - d0 - 1, -1)"
      ]
     },
     "metadata": {},
     "output_type": "display_data"
    }
   ],
   "source": [
    "i=20\n",
    "print('facet number:', i)\n",
    "display(sp.Eq(C.determinants[i], C.orientation[i]))\n",
    "\n",
    "C.subs(c0, d0)"
   ]
  },
  {
   "cell_type": "code",
   "execution_count": 112,
   "id": "d3e51121-2658-4a21-83a6-fc739548e57b",
   "metadata": {},
   "outputs": [
    {
     "name": "stdout",
     "output_type": "stream",
     "text": [
      "facet number: 28\n"
     ]
    },
    {
     "data": {
      "text/latex": [
       "$\\displaystyle 2 d_{0} \\left(d_{2} + 1\\right) = -1$"
      ],
      "text/plain": [
       "Eq(2*d0*(d2 + 1), -1)"
      ]
     },
     "metadata": {},
     "output_type": "display_data"
    },
    {
     "name": "stdout",
     "output_type": "stream",
     "text": [
      "no solution\n"
     ]
    }
   ],
   "source": [
    "i=28\n",
    "print('facet number:', i)\n",
    "display(sp.Eq(C.determinants[i], C.orientation[i]))\n",
    "\n",
    "print('no solution')"
   ]
  },
  {
   "cell_type": "markdown",
   "id": "0888fea6-de45-4316-b9ec-83847caae47a",
   "metadata": {
    "jp-MarkdownHeadingCollapsed": true
   },
   "source": [
    "# $a_4=0$ ($b_0 \\not= 0$)"
   ]
  },
  {
   "cell_type": "code",
   "execution_count": 113,
   "id": "bfd531ca-34f3-4d67-a778-9de70b3f3259",
   "metadata": {},
   "outputs": [],
   "source": [
    "C1=copy.deepcopy(C0)\n",
    "C=C1\n",
    "C.subs(a4, 0)"
   ]
  },
  {
   "cell_type": "code",
   "execution_count": 115,
   "id": "17736b4e-60ea-485c-bbb6-c2b5d03b795d",
   "metadata": {},
   "outputs": [
    {
     "name": "stdout",
     "output_type": "stream",
     "text": [
      "facet number: 3\n"
     ]
    },
    {
     "data": {
      "text/latex": [
       "$\\displaystyle - a_{3} = 1$"
      ],
      "text/plain": [
       "Eq(-a3, 1)"
      ]
     },
     "metadata": {},
     "output_type": "display_data"
    }
   ],
   "source": [
    "i=3\n",
    "print('facet number:', i)\n",
    "display(sp.Eq(C.determinants[i], C.orientation[i]))\n",
    "\n",
    "C.subs(a3, -1)"
   ]
  },
  {
   "cell_type": "code",
   "execution_count": 117,
   "id": "95ccc336-ebfd-4e4f-98e5-9a9271cc3e96",
   "metadata": {},
   "outputs": [
    {
     "name": "stdout",
     "output_type": "stream",
     "text": [
      "facet number: 4\n"
     ]
    },
    {
     "data": {
      "text/latex": [
       "$\\displaystyle - d_{4} = -1$"
      ],
      "text/plain": [
       "Eq(-d4, -1)"
      ]
     },
     "metadata": {},
     "output_type": "display_data"
    }
   ],
   "source": [
    "i=4\n",
    "print('facet number:', i)\n",
    "display(sp.Eq(C.determinants[i], C.orientation[i]))\n",
    "\n",
    "C.subs(d4, 1)"
   ]
  },
  {
   "cell_type": "code",
   "execution_count": 119,
   "id": "f6591477-6775-4e87-a6dd-8ea554a9bf87",
   "metadata": {},
   "outputs": [
    {
     "name": "stdout",
     "output_type": "stream",
     "text": [
      "facet number: 19\n"
     ]
    },
    {
     "data": {
      "text/latex": [
       "$\\displaystyle c_{0} + 1 = 1$"
      ],
      "text/plain": [
       "Eq(c0 + 1, 1)"
      ]
     },
     "metadata": {},
     "output_type": "display_data"
    }
   ],
   "source": [
    "i=19\n",
    "print('facet number:', i)\n",
    "display(sp.Eq(C.determinants[i], C.orientation[i]))\n",
    "\n",
    "C.subs(c0, 0)"
   ]
  },
  {
   "cell_type": "code",
   "execution_count": 122,
   "id": "e2e424ab-b5b5-4ff0-b5af-1c11db0667f4",
   "metadata": {},
   "outputs": [
    {
     "name": "stdout",
     "output_type": "stream",
     "text": [
      "facet number: 24\n"
     ]
    },
    {
     "data": {
      "text/latex": [
       "$\\displaystyle - a_{1} b_{0} + 1 = 1$"
      ],
      "text/plain": [
       "Eq(-a1*b0 + 1, 1)"
      ]
     },
     "metadata": {},
     "output_type": "display_data"
    }
   ],
   "source": [
    "i=24\n",
    "print('facet number:', i)\n",
    "display(sp.Eq(C.determinants[i], C.orientation[i]))\n",
    "\n",
    "C.subs(a1, 0)"
   ]
  },
  {
   "cell_type": "code",
   "execution_count": 124,
   "id": "52a090a0-7801-4a27-9cac-dd4149250fa9",
   "metadata": {},
   "outputs": [
    {
     "name": "stdout",
     "output_type": "stream",
     "text": [
      "facet number: 12\n"
     ]
    },
    {
     "data": {
      "text/latex": [
       "$\\displaystyle - d_{1} = -1$"
      ],
      "text/plain": [
       "Eq(-d1, -1)"
      ]
     },
     "metadata": {},
     "output_type": "display_data"
    }
   ],
   "source": [
    "i=12\n",
    "print('facet number:', i)\n",
    "display(sp.Eq(C.determinants[i], C.orientation[i]))\n",
    "\n",
    "C.subs(d1, 1)"
   ]
  },
  {
   "cell_type": "code",
   "execution_count": 129,
   "id": "b4717b7c-5ef4-4ce7-b5e3-6cafd43edb11",
   "metadata": {},
   "outputs": [
    {
     "name": "stdout",
     "output_type": "stream",
     "text": [
      "facet number: 5\n"
     ]
    },
    {
     "data": {
      "text/latex": [
       "$\\displaystyle - c_{4} d_{3} - 1 = 1$"
      ],
      "text/plain": [
       "Eq(-c4*d3 - 1, 1)"
      ]
     },
     "metadata": {},
     "output_type": "display_data"
    },
    {
     "name": "stdout",
     "output_type": "stream",
     "text": [
      "facet number: 20\n"
     ]
    },
    {
     "data": {
      "text/latex": [
       "$\\displaystyle - c_{4} d_{0} + c_{4} d_{3} + 1 = -1$"
      ],
      "text/plain": [
       "Eq(-c4*d0 + c4*d3 + 1, -1)"
      ]
     },
     "metadata": {},
     "output_type": "display_data"
    },
    {
     "data": {
      "text/latex": [
       "$\\displaystyle - c_{4} d_{0} = 0$"
      ],
      "text/plain": [
       "Eq(-c4*d0, 0)"
      ]
     },
     "metadata": {},
     "output_type": "display_data"
    }
   ],
   "source": [
    "i=5\n",
    "print('facet number:', i)\n",
    "display(sp.Eq(C.determinants[i], C.orientation[i]))\n",
    "\n",
    "i=20\n",
    "print('facet number:', i)\n",
    "display(sp.Eq(C.determinants[i], C.orientation[i]))\n",
    "\n",
    "display(sp.Eq(C.determinants[5] + C.determinants[20], C.orientation[5] + C.orientation[20]))\n",
    "\n",
    "C.subs(d0, 0)"
   ]
  },
  {
   "cell_type": "code",
   "execution_count": 130,
   "id": "2ec9da5a-4977-43f2-be9b-ae2f76bda6dc",
   "metadata": {},
   "outputs": [
    {
     "name": "stdout",
     "output_type": "stream",
     "text": [
      "facet number: 27\n"
     ]
    },
    {
     "data": {
      "text/latex": [
       "$\\displaystyle - c_{1} d_{2} - 1 = 1$"
      ],
      "text/plain": [
       "Eq(-c1*d2 - 1, 1)"
      ]
     },
     "metadata": {},
     "output_type": "display_data"
    },
    {
     "name": "stdout",
     "output_type": "stream",
     "text": [
      "facet number: 28\n"
     ]
    },
    {
     "data": {
      "text/latex": [
       "$\\displaystyle b_{0} \\left(c_{1} d_{2} + 1\\right) = -1$"
      ],
      "text/plain": [
       "Eq(b0*(c1*d2 + 1), -1)"
      ]
     },
     "metadata": {},
     "output_type": "display_data"
    }
   ],
   "source": [
    "i=27\n",
    "print('facet number:', i)\n",
    "display(sp.Eq(C.determinants[i], C.orientation[i]))\n",
    "\n",
    "i=28\n",
    "print('facet number:', i)\n",
    "display(sp.Eq(C.determinants[i], C.orientation[i]))\n",
    "\n",
    "C.subs(b0, 1)"
   ]
  },
  {
   "cell_type": "code",
   "execution_count": 135,
   "id": "b0d12a67-6605-4aea-8616-56b5369bccaf",
   "metadata": {},
   "outputs": [
    {
     "name": "stdout",
     "output_type": "stream",
     "text": [
      "facet number: 20\n"
     ]
    },
    {
     "data": {
      "text/latex": [
       "$\\displaystyle c_{4} d_{3} + 1 = -1$"
      ],
      "text/plain": [
       "Eq(c4*d3 + 1, -1)"
      ]
     },
     "metadata": {},
     "output_type": "display_data"
    },
    {
     "name": "stdout",
     "output_type": "stream",
     "text": [
      "facet number: 22\n"
     ]
    },
    {
     "data": {
      "text/latex": [
       "$\\displaystyle a_{2} c_{4} + b_{2} c_{4} - 1 = -1$"
      ],
      "text/plain": [
       "Eq(a2*c4 + b2*c4 - 1, -1)"
      ]
     },
     "metadata": {},
     "output_type": "display_data"
    }
   ],
   "source": [
    "i=20\n",
    "print('facet number:', i)\n",
    "display(sp.Eq(C.determinants[i], C.orientation[i]))\n",
    "\n",
    "i=22\n",
    "print('facet number:', i)\n",
    "display(sp.Eq(C.determinants[i], C.orientation[i]))\n",
    "\n",
    "C.subs(a2, -b2)"
   ]
  },
  {
   "cell_type": "code",
   "execution_count": 136,
   "id": "f221e7f9-df7b-45cd-9365-14d9c3b1c339",
   "metadata": {},
   "outputs": [
    {
     "name": "stdout",
     "output_type": "stream",
     "text": [
      "facet number: 26\n"
     ]
    },
    {
     "data": {
      "text/latex": [
       "$\\displaystyle d_{2} = -1$"
      ],
      "text/plain": [
       "Eq(d2, -1)"
      ]
     },
     "metadata": {},
     "output_type": "display_data"
    }
   ],
   "source": [
    "i=26\n",
    "print('facet number:', i)\n",
    "display(sp.Eq(C.determinants[i], C.orientation[i]))\n",
    "\n",
    "C.subs(d2, -1)"
   ]
  },
  {
   "cell_type": "code",
   "execution_count": 138,
   "id": "cf4672b3-4149-48aa-a239-eaec4467187a",
   "metadata": {},
   "outputs": [
    {
     "name": "stdout",
     "output_type": "stream",
     "text": [
      "facet number: 27\n"
     ]
    },
    {
     "data": {
      "text/latex": [
       "$\\displaystyle c_{1} - 1 = 1$"
      ],
      "text/plain": [
       "Eq(c1 - 1, 1)"
      ]
     },
     "metadata": {},
     "output_type": "display_data"
    }
   ],
   "source": [
    "i=27\n",
    "print('facet number:', i)\n",
    "display(sp.Eq(C.determinants[i], C.orientation[i]))\n",
    "\n",
    "C.subs(c1, 2)"
   ]
  },
  {
   "cell_type": "code",
   "execution_count": 139,
   "id": "3daf7461-11c1-4f8f-b87a-ada6903fb525",
   "metadata": {},
   "outputs": [
    {
     "name": "stdout",
     "output_type": "stream",
     "text": [
      "facet number: 25\n"
     ]
    },
    {
     "data": {
      "text/latex": [
       "$\\displaystyle 2 d_{3} + 1 = -1$"
      ],
      "text/plain": [
       "Eq(2*d3 + 1, -1)"
      ]
     },
     "metadata": {},
     "output_type": "display_data"
    }
   ],
   "source": [
    "i=25\n",
    "print('facet number:', i)\n",
    "display(sp.Eq(C.determinants[i], C.orientation[i]))\n",
    "\n",
    "C.subs(d3, -1)"
   ]
  },
  {
   "cell_type": "code",
   "execution_count": 141,
   "id": "b98119cb-c185-4621-b9a1-a93e1ca5de67",
   "metadata": {},
   "outputs": [
    {
     "name": "stdout",
     "output_type": "stream",
     "text": [
      "facet number: 5\n"
     ]
    },
    {
     "data": {
      "text/latex": [
       "$\\displaystyle c_{4} - 1 = 1$"
      ],
      "text/plain": [
       "Eq(c4 - 1, 1)"
      ]
     },
     "metadata": {},
     "output_type": "display_data"
    },
    {
     "name": "stdout",
     "output_type": "stream",
     "text": [
      "facet number: 29\n"
     ]
    },
    {
     "data": {
      "text/latex": [
       "$\\displaystyle 2 - c_{4} = 1$"
      ],
      "text/plain": [
       "Eq(2 - c4, 1)"
      ]
     },
     "metadata": {},
     "output_type": "display_data"
    },
    {
     "name": "stdout",
     "output_type": "stream",
     "text": [
      "no solution\n"
     ]
    }
   ],
   "source": [
    "i=5\n",
    "print('facet number:', i)\n",
    "display(sp.Eq(C.determinants[i], C.orientation[i]))\n",
    "\n",
    "i=29\n",
    "print('facet number:', i)\n",
    "display(sp.Eq(C.determinants[i], C.orientation[i]))\n",
    "\n",
    "print('no solution')"
   ]
  },
  {
   "cell_type": "markdown",
   "id": "bba99252-f0c4-4287-96fd-5cc3d41c50f6",
   "metadata": {},
   "source": [
    "# There is no positive characteristic map"
   ]
  }
 ],
 "metadata": {
  "kernelspec": {
   "display_name": "Python 3 (ipykernel)",
   "language": "python",
   "name": "python3"
  },
  "language_info": {
   "codemirror_mode": {
    "name": "ipython",
    "version": 3
   },
   "file_extension": ".py",
   "mimetype": "text/x-python",
   "name": "python",
   "nbconvert_exporter": "python",
   "pygments_lexer": "ipython3",
   "version": "3.12.7"
  }
 },
 "nbformat": 4,
 "nbformat_minor": 5
}
