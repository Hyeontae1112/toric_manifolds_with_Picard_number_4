{
 "cells": [
  {
   "cell_type": "markdown",
   "id": "63fb094e-fb34-442a-b76f-031ca2917e05",
   "metadata": {
    "jp-MarkdownHeadingCollapsed": true
   },
   "source": [
    "# Preparation"
   ]
  },
  {
   "cell_type": "code",
   "execution_count": 1,
   "id": "cb6c9ab3-840d-4a87-a8c2-4afc2d84c0e5",
   "metadata": {},
   "outputs": [],
   "source": [
    "%run programs\\\\Characteristic_Pair.py\n",
    "import copy\n",
    "\n",
    "minimally_non_fanlikes_index=1\n",
    "\n",
    "K = Simplicial_Complex(json.loads(read_file('programs\\\\minimally_non_fanlikes')[minimally_non_fanlikes_index]))\n",
    "M = initial_char(K.n)\n",
    "C0 = Characteristic_Pair(K, M)\n",
    "positive_maps = []\n",
    "\n",
    "a0, a1, a2, a3 = sp.symbols('a0:%d'%K.n)\n",
    "b0, b1, b2, b3 = sp.symbols('b0:%d'%K.n)\n",
    "c0, c1, c2, c3 = sp.symbols('c0:%d'%K.n)\n",
    "d0, d1, d2, d3 = sp.symbols('d0:%d'%K.n)"
   ]
  },
  {
   "cell_type": "code",
   "execution_count": 2,
   "id": "36fbc03b-463b-4ade-bb02-316c36da5765",
   "metadata": {},
   "outputs": [],
   "source": [
    "C=C0"
   ]
  },
  {
   "cell_type": "code",
   "execution_count": 3,
   "id": "9dc53ae8-2fc4-43ce-a5dd-f6108c8f0f11",
   "metadata": {},
   "outputs": [
    {
     "name": "stdout",
     "output_type": "stream",
     "text": [
      "facet number: 3\n"
     ]
    },
    {
     "data": {
      "text/latex": [
       "$\\displaystyle a_{1} = -1$"
      ],
      "text/plain": [
       "Eq(a1, -1)"
      ]
     },
     "metadata": {},
     "output_type": "display_data"
    },
    {
     "name": "stdout",
     "output_type": "stream",
     "text": [
      "facet number: 10\n"
     ]
    },
    {
     "data": {
      "text/latex": [
       "$\\displaystyle - b_{0} = 1$"
      ],
      "text/plain": [
       "Eq(-b0, 1)"
      ]
     },
     "metadata": {},
     "output_type": "display_data"
    },
    {
     "name": "stdout",
     "output_type": "stream",
     "text": [
      "facet number: 2\n"
     ]
    },
    {
     "data": {
      "text/latex": [
       "$\\displaystyle - d_{2} = 1$"
      ],
      "text/plain": [
       "Eq(-d2, 1)"
      ]
     },
     "metadata": {},
     "output_type": "display_data"
    },
    {
     "name": "stdout",
     "output_type": "stream",
     "text": [
      "facet number: 1\n"
     ]
    },
    {
     "data": {
      "text/latex": [
       "$\\displaystyle d_{3} = -1$"
      ],
      "text/plain": [
       "Eq(d3, -1)"
      ]
     },
     "metadata": {},
     "output_type": "display_data"
    }
   ],
   "source": [
    "i=3\n",
    "print('facet number:', i)\n",
    "display(sp.Eq(C.determinants[i], C.orientation[i]))\n",
    "\n",
    "i=10\n",
    "print('facet number:', i)\n",
    "display(sp.Eq(C.determinants[i], C.orientation[i]))\n",
    "\n",
    "i=2\n",
    "print('facet number:', i)\n",
    "display(sp.Eq(C.determinants[i], C.orientation[i]))\n",
    "\n",
    "i=1\n",
    "print('facet number:', i)\n",
    "display(sp.Eq(C.determinants[i], C.orientation[i]))\n",
    "\n",
    "C.subs(a1, -1)\n",
    "C.subs(b0, -1)\n",
    "C.subs(d2, -1)\n",
    "C.subs(d3, -1)"
   ]
  },
  {
   "cell_type": "code",
   "execution_count": 4,
   "id": "588e5215-20c5-444e-a23f-a476dd960d71",
   "metadata": {},
   "outputs": [
    {
     "name": "stdout",
     "output_type": "stream",
     "text": [
      "facet number: 11\n"
     ]
    },
    {
     "data": {
      "text/latex": [
       "$\\displaystyle - b_{3} d_{0} + 1 = 1$"
      ],
      "text/plain": [
       "Eq(-b3*d0 + 1, 1)"
      ]
     },
     "metadata": {},
     "output_type": "display_data"
    }
   ],
   "source": [
    "i=11\n",
    "print('facet number:', i)\n",
    "display(sp.Eq(C.determinants[i], C.orientation[i]))"
   ]
  },
  {
   "cell_type": "markdown",
   "id": "ca198d34-8abd-4f6d-a3f4-a675217a1c9c",
   "metadata": {
    "jp-MarkdownHeadingCollapsed": true
   },
   "source": [
    "# $b_3=0$"
   ]
  },
  {
   "cell_type": "code",
   "execution_count": 5,
   "id": "add84be3-7fe8-4c6d-888c-54a1aeae9b97",
   "metadata": {},
   "outputs": [],
   "source": [
    "C1=copy.deepcopy(C0)\n",
    "C=C1\n",
    "C.subs(b3, 0)"
   ]
  },
  {
   "cell_type": "code",
   "execution_count": 6,
   "id": "c906fb70-7da0-4be4-b7c1-42b3341be617",
   "metadata": {},
   "outputs": [
    {
     "name": "stdout",
     "output_type": "stream",
     "text": [
      "facet number: 4\n"
     ]
    },
    {
     "data": {
      "text/latex": [
       "$\\displaystyle a_{3} b_{1} = -1$"
      ],
      "text/plain": [
       "Eq(a3*b1, -1)"
      ]
     },
     "metadata": {},
     "output_type": "display_data"
    }
   ],
   "source": [
    "i=4\n",
    "print('facet number:', i)\n",
    "display(sp.Eq(C.determinants[i], C.orientation[i]))"
   ]
  },
  {
   "cell_type": "markdown",
   "id": "7bd643c9-4975-4fc5-83c0-f22da71189c1",
   "metadata": {
    "jp-MarkdownHeadingCollapsed": true
   },
   "source": [
    "## $a_3=1$, $b_1=-1$"
   ]
  },
  {
   "cell_type": "code",
   "execution_count": 7,
   "id": "2047d131-a9cd-44e5-9cc1-651a40a960e3",
   "metadata": {},
   "outputs": [],
   "source": [
    "C2=copy.deepcopy(C1)\n",
    "C=C2\n",
    "C.subs(a3, 1)\n",
    "C.subs(b1, -1)"
   ]
  },
  {
   "cell_type": "code",
   "execution_count": 8,
   "id": "bfd30a27-2b9e-4e6b-a4e7-f0e81c9ac6cd",
   "metadata": {},
   "outputs": [
    {
     "name": "stdout",
     "output_type": "stream",
     "text": [
      "facet number: 5\n"
     ]
    },
    {
     "data": {
      "text/latex": [
       "$\\displaystyle c_{3} = -1$"
      ],
      "text/plain": [
       "Eq(c3, -1)"
      ]
     },
     "metadata": {},
     "output_type": "display_data"
    }
   ],
   "source": [
    "i=5\n",
    "print('facet number:', i)\n",
    "display(sp.Eq(C.determinants[i], C.orientation[i]))\n",
    "\n",
    "C.subs(c3, -1)"
   ]
  },
  {
   "cell_type": "code",
   "execution_count": 9,
   "id": "3dcc06e5-09f0-461c-8002-bb38eb8b0ce8",
   "metadata": {},
   "outputs": [
    {
     "name": "stdout",
     "output_type": "stream",
     "text": [
      "facet number: 15\n"
     ]
    },
    {
     "data": {
      "text/latex": [
       "$\\displaystyle - a_{0} - 1 = -1$"
      ],
      "text/plain": [
       "Eq(-a0 - 1, -1)"
      ]
     },
     "metadata": {},
     "output_type": "display_data"
    }
   ],
   "source": [
    "i=15\n",
    "print('facet number:', i)\n",
    "display(sp.Eq(C.determinants[i], C.orientation[i]))\n",
    "\n",
    "C.subs(a0, 0)"
   ]
  },
  {
   "cell_type": "code",
   "execution_count": 10,
   "id": "03205a01-83af-404f-9f87-40d53e3a26b2",
   "metadata": {},
   "outputs": [
    {
     "name": "stdout",
     "output_type": "stream",
     "text": [
      "facet number: 6\n"
     ]
    },
    {
     "data": {
      "text/latex": [
       "$\\displaystyle c_{1} - d_{1} = -1$"
      ],
      "text/plain": [
       "Eq(c1 - d1, -1)"
      ]
     },
     "metadata": {},
     "output_type": "display_data"
    }
   ],
   "source": [
    "i=6\n",
    "print('facet number:', i)\n",
    "display(sp.Eq(C.determinants[i], C.orientation[i]))\n",
    "\n",
    "C.subs(c1, d1-1)"
   ]
  },
  {
   "cell_type": "code",
   "execution_count": 11,
   "id": "6392f105-3ecd-461c-8a9c-f9321066e537",
   "metadata": {},
   "outputs": [
    {
     "name": "stdout",
     "output_type": "stream",
     "text": [
      "facet number: 7\n"
     ]
    },
    {
     "data": {
      "text/latex": [
       "$\\displaystyle a_{2} - b_{2} = 1$"
      ],
      "text/plain": [
       "Eq(a2 - b2, 1)"
      ]
     },
     "metadata": {},
     "output_type": "display_data"
    }
   ],
   "source": [
    "i=7\n",
    "print('facet number:', i)\n",
    "display(sp.Eq(C.determinants[i], C.orientation[i]))\n",
    "\n",
    "C.subs(a2, b2+1)"
   ]
  },
  {
   "cell_type": "code",
   "execution_count": 12,
   "id": "2f9c194b-588c-443d-9a67-811ed72b96ff",
   "metadata": {},
   "outputs": [
    {
     "name": "stdout",
     "output_type": "stream",
     "text": [
      "facet number: 16\n"
     ]
    },
    {
     "data": {
      "text/latex": [
       "$\\displaystyle - c_{0} + d_{0} - 1 = -1$"
      ],
      "text/plain": [
       "Eq(-c0 + d0 - 1, -1)"
      ]
     },
     "metadata": {},
     "output_type": "display_data"
    }
   ],
   "source": [
    "i=16\n",
    "print('facet number:', i)\n",
    "display(sp.Eq(C.determinants[i], C.orientation[i]))\n",
    "\n",
    "C.subs(c0, d0)"
   ]
  },
  {
   "cell_type": "code",
   "execution_count": 13,
   "id": "2c910bf3-d72d-4704-845d-7059eecb531f",
   "metadata": {},
   "outputs": [
    {
     "name": "stdout",
     "output_type": "stream",
     "text": [
      "facet number: 14\n"
     ]
    },
    {
     "data": {
      "text/latex": [
       "$\\displaystyle - c_{2} - 1 = 1$"
      ],
      "text/plain": [
       "Eq(-c2 - 1, 1)"
      ]
     },
     "metadata": {},
     "output_type": "display_data"
    }
   ],
   "source": [
    "i=14\n",
    "print('facet number:', i)\n",
    "display(sp.Eq(C.determinants[i], C.orientation[i]))\n",
    "\n",
    "C.subs(c2, -2)"
   ]
  },
  {
   "cell_type": "code",
   "execution_count": 14,
   "id": "34e97029-0d37-4f06-9a20-69c011f4eec2",
   "metadata": {},
   "outputs": [
    {
     "name": "stdout",
     "output_type": "stream",
     "text": [
      "facet number: 13\n"
     ]
    },
    {
     "data": {
      "text/latex": [
       "$\\displaystyle - d_{0} = -1$"
      ],
      "text/plain": [
       "Eq(-d0, -1)"
      ]
     },
     "metadata": {},
     "output_type": "display_data"
    }
   ],
   "source": [
    "i=13\n",
    "print('facet number:', i)\n",
    "display(sp.Eq(C.determinants[i], C.orientation[i]))\n",
    "\n",
    "C.subs(d0, 1)"
   ]
  },
  {
   "cell_type": "code",
   "execution_count": 15,
   "id": "af6c8b60-9129-4793-8e17-045bfe4ec44b",
   "metadata": {},
   "outputs": [
    {
     "name": "stdout",
     "output_type": "stream",
     "text": [
      "facet number: 9\n"
     ]
    },
    {
     "data": {
      "text/latex": [
       "$\\displaystyle d_{1} + 1 = 1$"
      ],
      "text/plain": [
       "Eq(d1 + 1, 1)"
      ]
     },
     "metadata": {},
     "output_type": "display_data"
    }
   ],
   "source": [
    "i=9\n",
    "print('facet number:', i)\n",
    "display(sp.Eq(C.determinants[i], C.orientation[i]))\n",
    "\n",
    "C.subs(d1, 0)"
   ]
  },
  {
   "cell_type": "code",
   "execution_count": 16,
   "id": "f64a6eb5-275e-4102-b3c4-b6208b0f1a8a",
   "metadata": {},
   "outputs": [
    {
     "name": "stdout",
     "output_type": "stream",
     "text": [
      "facet number: 8\n"
     ]
    },
    {
     "data": {
      "text/latex": [
       "$\\displaystyle b_{2} + 2 = 1$"
      ],
      "text/plain": [
       "Eq(b2 + 2, 1)"
      ]
     },
     "metadata": {},
     "output_type": "display_data"
    },
    {
     "name": "stdout",
     "output_type": "stream",
     "text": [
      "facet number: 12\n"
     ]
    },
    {
     "data": {
      "text/latex": [
       "$\\displaystyle b_{2} - 2 = -1$"
      ],
      "text/plain": [
       "Eq(b2 - 2, -1)"
      ]
     },
     "metadata": {},
     "output_type": "display_data"
    },
    {
     "name": "stdout",
     "output_type": "stream",
     "text": [
      "no solution\n"
     ]
    }
   ],
   "source": [
    "i=8\n",
    "print('facet number:', i)\n",
    "display(sp.Eq(C.determinants[i], C.orientation[i]))\n",
    "\n",
    "i=12\n",
    "print('facet number:', i)\n",
    "display(sp.Eq(C.determinants[i], C.orientation[i]))\n",
    "\n",
    "print('no solution')"
   ]
  },
  {
   "cell_type": "markdown",
   "id": "e67ced96-2850-42e4-8455-b7a1c8aaf0e6",
   "metadata": {
    "jp-MarkdownHeadingCollapsed": true
   },
   "source": [
    "## $a_3=-1$, $b_1=1$"
   ]
  },
  {
   "cell_type": "code",
   "execution_count": 17,
   "id": "fbfee0bd-c27e-4dab-abea-80add065f478",
   "metadata": {},
   "outputs": [],
   "source": [
    "C2=copy.deepcopy(C1)\n",
    "C=C2\n",
    "C.subs(a3, -1)\n",
    "C.subs(b1, 1)"
   ]
  },
  {
   "cell_type": "code",
   "execution_count": 18,
   "id": "70145d57-0f61-409c-bf30-00fb41fe1ff8",
   "metadata": {},
   "outputs": [
    {
     "name": "stdout",
     "output_type": "stream",
     "text": [
      "facet number: 5\n"
     ]
    },
    {
     "data": {
      "text/latex": [
       "$\\displaystyle - c_{3} = -1$"
      ],
      "text/plain": [
       "Eq(-c3, -1)"
      ]
     },
     "metadata": {},
     "output_type": "display_data"
    }
   ],
   "source": [
    "i=5\n",
    "print('facet number:', i)\n",
    "display(sp.Eq(C.determinants[i], C.orientation[i]))\n",
    "\n",
    "C.subs(c3, 1)"
   ]
  },
  {
   "cell_type": "code",
   "execution_count": 19,
   "id": "9e787c1b-dcf0-4010-9ddc-f763688c9c37",
   "metadata": {},
   "outputs": [
    {
     "name": "stdout",
     "output_type": "stream",
     "text": [
      "facet number: 15\n"
     ]
    },
    {
     "data": {
      "text/latex": [
       "$\\displaystyle a_{0} - 1 = -1$"
      ],
      "text/plain": [
       "Eq(a0 - 1, -1)"
      ]
     },
     "metadata": {},
     "output_type": "display_data"
    }
   ],
   "source": [
    "i=15\n",
    "print('facet number:', i)\n",
    "display(sp.Eq(C.determinants[i], C.orientation[i]))\n",
    "\n",
    "C.subs(a0, 0)"
   ]
  },
  {
   "cell_type": "code",
   "execution_count": 20,
   "id": "a47fd8a2-5daa-4596-b6ac-1748f81645ae",
   "metadata": {},
   "outputs": [
    {
     "name": "stdout",
     "output_type": "stream",
     "text": [
      "facet number: 6\n"
     ]
    },
    {
     "data": {
      "text/latex": [
       "$\\displaystyle c_{1} + d_{1} = -1$"
      ],
      "text/plain": [
       "Eq(c1 + d1, -1)"
      ]
     },
     "metadata": {},
     "output_type": "display_data"
    }
   ],
   "source": [
    "i=6\n",
    "print('facet number:', i)\n",
    "display(sp.Eq(C.determinants[i], C.orientation[i]))\n",
    "\n",
    "C.subs(c1, -d1-1)"
   ]
  },
  {
   "cell_type": "code",
   "execution_count": 21,
   "id": "e33acfc3-fa5e-41ca-9cfd-f5eb3a0825f4",
   "metadata": {},
   "outputs": [
    {
     "name": "stdout",
     "output_type": "stream",
     "text": [
      "facet number: 7\n"
     ]
    },
    {
     "data": {
      "text/latex": [
       "$\\displaystyle - a_{2} - b_{2} = 1$"
      ],
      "text/plain": [
       "Eq(-a2 - b2, 1)"
      ]
     },
     "metadata": {},
     "output_type": "display_data"
    }
   ],
   "source": [
    "i=7\n",
    "print('facet number:', i)\n",
    "display(sp.Eq(C.determinants[i], C.orientation[i]))\n",
    "\n",
    "C.subs(a2, -b2-1)"
   ]
  },
  {
   "cell_type": "code",
   "execution_count": 22,
   "id": "18b8856e-2760-4c50-85e4-c4c0753d7685",
   "metadata": {},
   "outputs": [
    {
     "name": "stdout",
     "output_type": "stream",
     "text": [
      "facet number: 16\n"
     ]
    },
    {
     "data": {
      "text/latex": [
       "$\\displaystyle c_{0} + d_{0} - 1 = -1$"
      ],
      "text/plain": [
       "Eq(c0 + d0 - 1, -1)"
      ]
     },
     "metadata": {},
     "output_type": "display_data"
    }
   ],
   "source": [
    "i=16\n",
    "print('facet number:', i)\n",
    "display(sp.Eq(C.determinants[i], C.orientation[i]))\n",
    "\n",
    "C.subs(c0, -d0)"
   ]
  },
  {
   "cell_type": "code",
   "execution_count": 23,
   "id": "31a99919-db52-4285-991d-0ed82671ce3f",
   "metadata": {},
   "outputs": [
    {
     "name": "stdout",
     "output_type": "stream",
     "text": [
      "facet number: 14\n"
     ]
    },
    {
     "data": {
      "text/latex": [
       "$\\displaystyle 1 - c_{2} = 1$"
      ],
      "text/plain": [
       "Eq(1 - c2, 1)"
      ]
     },
     "metadata": {},
     "output_type": "display_data"
    }
   ],
   "source": [
    "i=14\n",
    "print('facet number:', i)\n",
    "display(sp.Eq(C.determinants[i], C.orientation[i]))\n",
    "\n",
    "C.subs(c2, 0)"
   ]
  },
  {
   "cell_type": "code",
   "execution_count": 24,
   "id": "e522352d-17db-4d0a-8ad4-4271c67dd0ae",
   "metadata": {},
   "outputs": [
    {
     "name": "stdout",
     "output_type": "stream",
     "text": [
      "facet number: 13\n"
     ]
    },
    {
     "data": {
      "text/latex": [
       "$\\displaystyle - d_{0} = -1$"
      ],
      "text/plain": [
       "Eq(-d0, -1)"
      ]
     },
     "metadata": {},
     "output_type": "display_data"
    }
   ],
   "source": [
    "i=13\n",
    "print('facet number:', i)\n",
    "display(sp.Eq(C.determinants[i], C.orientation[i]))\n",
    "\n",
    "C.subs(d0, 1)"
   ]
  },
  {
   "cell_type": "code",
   "execution_count": 25,
   "id": "a8a6d20a-06a7-4dbc-a10d-f96595068c3f",
   "metadata": {},
   "outputs": [
    {
     "name": "stdout",
     "output_type": "stream",
     "text": [
      "facet number: 12\n"
     ]
    },
    {
     "data": {
      "text/latex": [
       "$\\displaystyle - b_{2} = -1$"
      ],
      "text/plain": [
       "Eq(-b2, -1)"
      ]
     },
     "metadata": {},
     "output_type": "display_data"
    }
   ],
   "source": [
    "i=12\n",
    "print('facet number:', i)\n",
    "display(sp.Eq(C.determinants[i], C.orientation[i]))\n",
    "\n",
    "C.subs(b2, 1)"
   ]
  },
  {
   "cell_type": "code",
   "execution_count": 26,
   "id": "6cfd6f9b-ecde-4e5b-8cb2-6f00a1616026",
   "metadata": {},
   "outputs": [
    {
     "name": "stdout",
     "output_type": "stream",
     "text": [
      "facet number: 8\n"
     ]
    },
    {
     "data": {
      "text/latex": [
       "$\\displaystyle d_{1} + 1 = 1$"
      ],
      "text/plain": [
       "Eq(d1 + 1, 1)"
      ]
     },
     "metadata": {},
     "output_type": "display_data"
    }
   ],
   "source": [
    "i=8\n",
    "print('facet number:', i)\n",
    "display(sp.Eq(C.determinants[i], C.orientation[i]))\n",
    "\n",
    "C.subs(d1, 0)"
   ]
  },
  {
   "cell_type": "code",
   "execution_count": 27,
   "id": "028fdaeb-d307-4a19-8ac9-9e97d3a823f8",
   "metadata": {},
   "outputs": [
    {
     "data": {
      "text/latex": [
       "$\\displaystyle \\left[\\begin{matrix}1 & 0 & 0 & 0 & 0 & -1 & -1 & 1\\\\0 & 1 & 0 & 0 & -1 & 1 & -1 & 0\\\\0 & 0 & 1 & 0 & -2 & 1 & 0 & -1\\\\0 & 0 & 0 & 1 & -1 & 0 & 1 & -1\\end{matrix}\\right]$"
      ],
      "text/plain": [
       "Matrix([\n",
       "[1, 0, 0, 0,  0, -1, -1,  1],\n",
       "[0, 1, 0, 0, -1,  1, -1,  0],\n",
       "[0, 0, 1, 0, -2,  1,  0, -1],\n",
       "[0, 0, 0, 1, -1,  0,  1, -1]])"
      ]
     },
     "metadata": {},
     "output_type": "display_data"
    }
   ],
   "source": [
    "display(C.char)"
   ]
  },
  {
   "cell_type": "code",
   "execution_count": 28,
   "id": "5d09acb2-1ec9-4afd-b931-6ba6e9658435",
   "metadata": {},
   "outputs": [
    {
     "data": {
      "text/plain": [
       "([1, 3, 4, 5], [2, 4, 7, 8])"
      ]
     },
     "execution_count": 28,
     "metadata": {},
     "output_type": "execute_result"
    }
   ],
   "source": [
    "C.is_fangiving"
   ]
  },
  {
   "cell_type": "code",
   "execution_count": 29,
   "id": "ed1a9c25-a01a-4a31-99c0-29a6522123d7",
   "metadata": {},
   "outputs": [
    {
     "data": {
      "text/plain": [
       "13"
      ]
     },
     "execution_count": 29,
     "metadata": {},
     "output_type": "execute_result"
    }
   ],
   "source": [
    "C.cpx.cpx.index([2, 4, 7, 8])"
   ]
  },
  {
   "cell_type": "code",
   "execution_count": 30,
   "id": "df3077c6-127e-452c-a077-4a0722127cd1",
   "metadata": {},
   "outputs": [
    {
     "data": {
      "text/latex": [
       "$\\displaystyle \\left[\\begin{matrix}1 & 0 & 0 & 0 & 0 & -1 & -1 & 1\\\\0 & 1 & 0 & 0 & -1 & 1 & -1 & 0\\\\0 & 0 & 1 & 0 & -2 & 1 & 0 & -1\\\\0 & 0 & 0 & 1 & -1 & 0 & 1 & -1\\end{matrix}\\right]$"
      ],
      "text/plain": [
       "Matrix([\n",
       "[1, 0, 0, 0,  0, -1, -1,  1],\n",
       "[0, 1, 0, 0, -1,  1, -1,  0],\n",
       "[0, 0, 1, 0, -2,  1,  0, -1],\n",
       "[0, 0, 0, 1, -1,  0,  1, -1]])"
      ]
     },
     "metadata": {},
     "output_type": "display_data"
    },
    {
     "name": "stdout",
     "output_type": "stream",
     "text": [
      "The cones of the facets [1, 3, 4, 5] and [2, 4, 7, 8] overlap.\n"
     ]
    },
    {
     "data": {
      "text/latex": [
       "$\\displaystyle \\left[\\begin{matrix}1 & 0 & 0 & 0\\\\0 & 0 & 0 & -1\\\\0 & 1 & 0 & -2\\\\0 & 0 & 1 & -1\\end{matrix}\\right] \\left[\\begin{matrix}0\\\\1\\\\1\\\\1\\end{matrix}\\right] = \\left[\\begin{matrix}0\\\\-1\\\\-1\\\\0\\end{matrix}\\right]$"
      ],
      "text/plain": [
       "Eq(Matrix([\n",
       "[1, 0, 0,  0],\n",
       "[0, 0, 0, -1],\n",
       "[0, 1, 0, -2],\n",
       "[0, 0, 1, -1]])*Matrix([\n",
       "[0],\n",
       "[1],\n",
       "[1],\n",
       "[1]]), Matrix([\n",
       "[ 0],\n",
       "[-1],\n",
       "[-1],\n",
       "[ 0]]))"
      ]
     },
     "metadata": {},
     "output_type": "display_data"
    },
    {
     "data": {
      "text/latex": [
       "$\\displaystyle \\left[\\begin{matrix}0 & 0 & -1 & 1\\\\1 & 0 & -1 & 0\\\\0 & 0 & 0 & -1\\\\0 & 1 & 1 & -1\\end{matrix}\\right] \\left[\\begin{matrix}0\\\\0\\\\1\\\\1\\end{matrix}\\right] = \\left[\\begin{matrix}0\\\\-1\\\\-1\\\\0\\end{matrix}\\right]$"
      ],
      "text/plain": [
       "Eq(Matrix([\n",
       "[0, 0, -1,  1],\n",
       "[1, 0, -1,  0],\n",
       "[0, 0,  0, -1],\n",
       "[0, 1,  1, -1]])*Matrix([\n",
       "[0],\n",
       "[0],\n",
       "[1],\n",
       "[1]]), Matrix([\n",
       "[ 0],\n",
       "[-1],\n",
       "[-1],\n",
       "[ 0]]))"
      ]
     },
     "metadata": {},
     "output_type": "display_data"
    }
   ],
   "source": [
    "F1 = C.cpx.cpx[3]\n",
    "coeff1 = [0, 1, 1, 1]\n",
    "F2 = C.cpx.cpx[13]\n",
    "coeff2 = [0, 0, 1, 1]\n",
    "display(C.char)\n",
    "print('The cones of the facets %s and %s overlap.'%(F1, F2))\n",
    "display(sp.Eq(sp.MatMul(C.vector(F1), sp.Matrix(coeff1)), C.vector_sum(F1, coeff1)))\n",
    "display(sp.Eq(sp.MatMul(C.vector(F2), sp.Matrix(coeff2)), C.vector_sum(F2, coeff2)))\n",
    "positive_maps.append(C.char)"
   ]
  },
  {
   "cell_type": "markdown",
   "id": "538c454f-ad9e-43a1-bb35-073c960b64ed",
   "metadata": {
    "jp-MarkdownHeadingCollapsed": true
   },
   "source": [
    "# $d_0=0$ ($b_3 \\not= 0$)"
   ]
  },
  {
   "cell_type": "code",
   "execution_count": 31,
   "id": "4b36238c-b61a-47ff-91f9-5964e1518156",
   "metadata": {},
   "outputs": [],
   "source": [
    "C1=copy.deepcopy(C0)\n",
    "C=C1\n",
    "C.subs(d0, 0)"
   ]
  },
  {
   "cell_type": "code",
   "execution_count": 32,
   "id": "27c119e8-69b1-424a-b8e6-f93ddfec838c",
   "metadata": {},
   "outputs": [
    {
     "name": "stdout",
     "output_type": "stream",
     "text": [
      "facet number: 13\n"
     ]
    },
    {
     "data": {
      "text/latex": [
       "$\\displaystyle c_{0} = -1$"
      ],
      "text/plain": [
       "Eq(c0, -1)"
      ]
     },
     "metadata": {},
     "output_type": "display_data"
    }
   ],
   "source": [
    "i=13\n",
    "print('facet number:', i)\n",
    "display(sp.Eq(C.determinants[i], C.orientation[i]))\n",
    "\n",
    "C.subs(c0, -1)"
   ]
  },
  {
   "cell_type": "code",
   "execution_count": 33,
   "id": "b85af574-6b4b-4c0a-8095-5febea863730",
   "metadata": {},
   "outputs": [
    {
     "name": "stdout",
     "output_type": "stream",
     "text": [
      "facet number: 12\n"
     ]
    },
    {
     "data": {
      "text/latex": [
       "$\\displaystyle - b_{2} + c_{2} = -1$"
      ],
      "text/plain": [
       "Eq(-b2 + c2, -1)"
      ]
     },
     "metadata": {},
     "output_type": "display_data"
    }
   ],
   "source": [
    "i=12\n",
    "print('facet number:', i)\n",
    "display(sp.Eq(C.determinants[i], C.orientation[i]))\n",
    "\n",
    "C.subs(b2, c2+1)"
   ]
  },
  {
   "cell_type": "code",
   "execution_count": 34,
   "id": "d42926f7-0975-41e9-abb1-cfa43e505487",
   "metadata": {},
   "outputs": [
    {
     "name": "stdout",
     "output_type": "stream",
     "text": [
      "facet number: 14\n"
     ]
    },
    {
     "data": {
      "text/latex": [
       "$\\displaystyle - b_{3} + c_{3} + 1 = 1$"
      ],
      "text/plain": [
       "Eq(-b3 + c3 + 1, 1)"
      ]
     },
     "metadata": {},
     "output_type": "display_data"
    }
   ],
   "source": [
    "i=14\n",
    "print('facet number:', i)\n",
    "display(sp.Eq(C.determinants[i], C.orientation[i]))\n",
    "\n",
    "C.subs(b3, c3)"
   ]
  },
  {
   "cell_type": "code",
   "execution_count": 35,
   "id": "7f166192-2032-483e-8199-6f32e52b8b6e",
   "metadata": {},
   "outputs": [
    {
     "name": "stdout",
     "output_type": "stream",
     "text": [
      "facet number: 16\n"
     ]
    },
    {
     "data": {
      "text/latex": [
       "$\\displaystyle - b_{1} + c_{1} = -1$"
      ],
      "text/plain": [
       "Eq(-b1 + c1, -1)"
      ]
     },
     "metadata": {},
     "output_type": "display_data"
    }
   ],
   "source": [
    "i=16\n",
    "print('facet number:', i)\n",
    "display(sp.Eq(C.determinants[i], C.orientation[i]))\n",
    "\n",
    "C.subs(b1, c1+1)"
   ]
  },
  {
   "cell_type": "code",
   "execution_count": 36,
   "id": "dec3a791-b7b1-4b7d-a58e-22a9a532a8d2",
   "metadata": {},
   "outputs": [
    {
     "name": "stdout",
     "output_type": "stream",
     "text": [
      "facet number: 5\n"
     ]
    },
    {
     "data": {
      "text/latex": [
       "$\\displaystyle - c_{3} = -1$"
      ],
      "text/plain": [
       "Eq(-c3, -1)"
      ]
     },
     "metadata": {},
     "output_type": "display_data"
    }
   ],
   "source": [
    "i=5\n",
    "print('facet number:', i)\n",
    "display(sp.Eq(C.determinants[i], C.orientation[i]))\n",
    "\n",
    "C.subs(c3, 1)"
   ]
  },
  {
   "cell_type": "code",
   "execution_count": 37,
   "id": "5d64f3b7-f9c5-4a76-a848-ef8aa05c5031",
   "metadata": {},
   "outputs": [
    {
     "name": "stdout",
     "output_type": "stream",
     "text": [
      "facet number: 6\n"
     ]
    },
    {
     "data": {
      "text/latex": [
       "$\\displaystyle c_{1} + d_{1} = -1$"
      ],
      "text/plain": [
       "Eq(c1 + d1, -1)"
      ]
     },
     "metadata": {},
     "output_type": "display_data"
    }
   ],
   "source": [
    "i=6\n",
    "print('facet number:', i)\n",
    "display(sp.Eq(C.determinants[i], C.orientation[i]))\n",
    "\n",
    "C.subs(c1, -d1-1)"
   ]
  },
  {
   "cell_type": "code",
   "execution_count": 38,
   "id": "6e066186-7205-4b09-96fe-b32c1fd8c30f",
   "metadata": {},
   "outputs": [
    {
     "name": "stdout",
     "output_type": "stream",
     "text": [
      "facet number: 8\n"
     ]
    },
    {
     "data": {
      "text/latex": [
       "$\\displaystyle c_{2} + d_{1} + 1 = 1$"
      ],
      "text/plain": [
       "Eq(c2 + d1 + 1, 1)"
      ]
     },
     "metadata": {},
     "output_type": "display_data"
    }
   ],
   "source": [
    "i=8\n",
    "print('facet number:', i)\n",
    "display(sp.Eq(C.determinants[i], C.orientation[i]))\n",
    "\n",
    "C.subs(c2, -d1)"
   ]
  },
  {
   "cell_type": "code",
   "execution_count": 39,
   "id": "43acc8f3-948a-4d84-bb81-474d45593696",
   "metadata": {},
   "outputs": [
    {
     "name": "stdout",
     "output_type": "stream",
     "text": [
      "facet number: 4\n"
     ]
    },
    {
     "data": {
      "text/latex": [
       "$\\displaystyle - a_{3} d_{1} + 1 = -1$"
      ],
      "text/plain": [
       "Eq(-a3*d1 + 1, -1)"
      ]
     },
     "metadata": {},
     "output_type": "display_data"
    },
    {
     "name": "stdout",
     "output_type": "stream",
     "text": [
      "facet number: 15\n"
     ]
    },
    {
     "data": {
      "text/latex": [
       "$\\displaystyle - a_{0} d_{1} - 1 = -1$"
      ],
      "text/plain": [
       "Eq(-a0*d1 - 1, -1)"
      ]
     },
     "metadata": {},
     "output_type": "display_data"
    },
    {
     "name": "stdout",
     "output_type": "stream",
     "text": [
      "facet number: 9\n"
     ]
    },
    {
     "data": {
      "text/latex": [
       "$\\displaystyle d_{1}^{2} + d_{1} + 1 = 1$"
      ],
      "text/plain": [
       "Eq(d1**2 + d1 + 1, 1)"
      ]
     },
     "metadata": {},
     "output_type": "display_data"
    },
    {
     "name": "stdout",
     "output_type": "stream",
     "text": [
      "d1 != 0\n"
     ]
    }
   ],
   "source": [
    "i=4\n",
    "print('facet number:', i)\n",
    "display(sp.Eq(C.determinants[i], C.orientation[i]))\n",
    "\n",
    "i=15\n",
    "print('facet number:', i)\n",
    "display(sp.Eq(C.determinants[i], C.orientation[i]))\n",
    "\n",
    "i=9\n",
    "print('facet number:', i)\n",
    "display(sp.Eq(C.determinants[i], C.orientation[i]))\n",
    "\n",
    "print('d1 != 0')\n",
    "\n",
    "C.subs(a0, 0)\n",
    "C.subs(d1, -1)"
   ]
  },
  {
   "cell_type": "code",
   "execution_count": 40,
   "id": "b3152a1f-d218-4ac8-9052-7cc020745bd1",
   "metadata": {},
   "outputs": [
    {
     "name": "stdout",
     "output_type": "stream",
     "text": [
      "facet number: 4\n"
     ]
    },
    {
     "data": {
      "text/latex": [
       "$\\displaystyle a_{3} + 1 = -1$"
      ],
      "text/plain": [
       "Eq(a3 + 1, -1)"
      ]
     },
     "metadata": {},
     "output_type": "display_data"
    }
   ],
   "source": [
    "i=4\n",
    "print('facet number:', i)\n",
    "display(sp.Eq(C.determinants[i], C.orientation[i]))\n",
    "\n",
    "C.subs(a3, -2)"
   ]
  },
  {
   "cell_type": "code",
   "execution_count": 41,
   "id": "00ccf2e8-6cd5-4b81-a4dc-80bc81b0dd4e",
   "metadata": {},
   "outputs": [
    {
     "name": "stdout",
     "output_type": "stream",
     "text": [
      "facet number: 7\n"
     ]
    },
    {
     "data": {
      "text/latex": [
       "$\\displaystyle - a_{2} - 2 = 1$"
      ],
      "text/plain": [
       "Eq(-a2 - 2, 1)"
      ]
     },
     "metadata": {},
     "output_type": "display_data"
    }
   ],
   "source": [
    "i=7\n",
    "print('facet number:', i)\n",
    "display(sp.Eq(C.determinants[i], C.orientation[i]))\n",
    "\n",
    "C.subs(a2, -3)"
   ]
  },
  {
   "cell_type": "code",
   "execution_count": 42,
   "id": "d002cc2c-2c96-4f85-8785-2d711771d6e7",
   "metadata": {},
   "outputs": [
    {
     "data": {
      "text/latex": [
       "$\\displaystyle \\left[\\begin{matrix}1 & 0 & 0 & 0 & 0 & -1 & -1 & 0\\\\0 & 1 & 0 & 0 & -1 & 1 & 0 & -1\\\\0 & 0 & 1 & 0 & -3 & 2 & 1 & -1\\\\0 & 0 & 0 & 1 & -2 & 1 & 1 & -1\\end{matrix}\\right]$"
      ],
      "text/plain": [
       "Matrix([\n",
       "[1, 0, 0, 0,  0, -1, -1,  0],\n",
       "[0, 1, 0, 0, -1,  1,  0, -1],\n",
       "[0, 0, 1, 0, -3,  2,  1, -1],\n",
       "[0, 0, 0, 1, -2,  1,  1, -1]])"
      ]
     },
     "metadata": {},
     "output_type": "display_data"
    }
   ],
   "source": [
    "display(C.char)"
   ]
  },
  {
   "cell_type": "code",
   "execution_count": 43,
   "id": "b28ad724-3d7b-4db3-ac8c-b60cf558dc70",
   "metadata": {},
   "outputs": [
    {
     "data": {
      "text/latex": [
       "$\\displaystyle \\left[\\begin{matrix}1 & 0 & 0 & 0 & 0 & -1 & -1 & 0\\\\0 & 1 & 0 & 0 & -1 & 1 & 0 & -1\\\\0 & 0 & 1 & 0 & -3 & 2 & 1 & -1\\\\0 & 0 & 0 & 1 & -2 & 1 & 1 & -1\\end{matrix}\\right]$"
      ],
      "text/plain": [
       "Matrix([\n",
       "[1, 0, 0, 0,  0, -1, -1,  0],\n",
       "[0, 1, 0, 0, -1,  1,  0, -1],\n",
       "[0, 0, 1, 0, -3,  2,  1, -1],\n",
       "[0, 0, 0, 1, -2,  1,  1, -1]])"
      ]
     },
     "metadata": {},
     "output_type": "display_data"
    },
    {
     "name": "stdout",
     "output_type": "stream",
     "text": [
      "The cones of the facets [1, 2, 4, 8] and [1, 3, 4, 5] overlap.\n"
     ]
    },
    {
     "data": {
      "text/latex": [
       "$\\displaystyle \\left[\\begin{matrix}1 & 0 & 0 & 0\\\\0 & 1 & 0 & -1\\\\0 & 0 & 0 & -1\\\\0 & 0 & 1 & -1\\end{matrix}\\right] \\left[\\begin{matrix}0\\\\2\\\\2\\\\3\\end{matrix}\\right] = \\left[\\begin{matrix}0\\\\-1\\\\-3\\\\-1\\end{matrix}\\right]$"
      ],
      "text/plain": [
       "Eq(Matrix([\n",
       "[1, 0, 0,  0],\n",
       "[0, 1, 0, -1],\n",
       "[0, 0, 0, -1],\n",
       "[0, 0, 1, -1]])*Matrix([\n",
       "[0],\n",
       "[2],\n",
       "[2],\n",
       "[3]]), Matrix([\n",
       "[ 0],\n",
       "[-1],\n",
       "[-3],\n",
       "[-1]]))"
      ]
     },
     "metadata": {},
     "output_type": "display_data"
    },
    {
     "data": {
      "text/latex": [
       "$\\displaystyle \\left[\\begin{matrix}1 & 0 & 0 & 0\\\\0 & 0 & 0 & -1\\\\0 & 1 & 0 & -3\\\\0 & 0 & 1 & -2\\end{matrix}\\right] \\left[\\begin{matrix}0\\\\0\\\\1\\\\1\\end{matrix}\\right] = \\left[\\begin{matrix}0\\\\-1\\\\-3\\\\-1\\end{matrix}\\right]$"
      ],
      "text/plain": [
       "Eq(Matrix([\n",
       "[1, 0, 0,  0],\n",
       "[0, 0, 0, -1],\n",
       "[0, 1, 0, -3],\n",
       "[0, 0, 1, -2]])*Matrix([\n",
       "[0],\n",
       "[0],\n",
       "[1],\n",
       "[1]]), Matrix([\n",
       "[ 0],\n",
       "[-1],\n",
       "[-3],\n",
       "[-1]]))"
      ]
     },
     "metadata": {},
     "output_type": "display_data"
    }
   ],
   "source": [
    "F1 = C.cpx.cpx[2]\n",
    "coeff1 = [0, 2, 2, 3]\n",
    "F2 = C.cpx.cpx[3]\n",
    "coeff2 = [0, 0, 1, 1]\n",
    "display(C.char)\n",
    "print('The cones of the facets %s and %s overlap.'%(F1, F2))\n",
    "display(sp.Eq(sp.MatMul(C.vector(F1), sp.Matrix(coeff1)), C.vector_sum(F1, coeff1)))\n",
    "display(sp.Eq(sp.MatMul(C.vector(F2), sp.Matrix(coeff2)), C.vector_sum(F2, coeff2)))\n",
    "positive_maps.append(C.char)"
   ]
  },
  {
   "cell_type": "markdown",
   "id": "ae571239-ff26-47f5-8aae-d5a1ea48d6ed",
   "metadata": {},
   "source": [
    "# There are 2 positive characteristic maps up to D-J equivalence"
   ]
  },
  {
   "cell_type": "code",
   "execution_count": 44,
   "id": "e1c6f5f5-548e-455b-8c79-7195b77f3132",
   "metadata": {},
   "outputs": [
    {
     "data": {
      "text/latex": [
       "$\\displaystyle \\left[\\begin{matrix}1 & 0 & 0 & 0 & 0 & -1 & -1 & 1\\\\0 & 1 & 0 & 0 & -1 & 1 & -1 & 0\\\\0 & 0 & 1 & 0 & -2 & 1 & 0 & -1\\\\0 & 0 & 0 & 1 & -1 & 0 & 1 & -1\\end{matrix}\\right]$"
      ],
      "text/plain": [
       "Matrix([\n",
       "[1, 0, 0, 0,  0, -1, -1,  1],\n",
       "[0, 1, 0, 0, -1,  1, -1,  0],\n",
       "[0, 0, 1, 0, -2,  1,  0, -1],\n",
       "[0, 0, 0, 1, -1,  0,  1, -1]])"
      ]
     },
     "metadata": {},
     "output_type": "display_data"
    },
    {
     "data": {
      "text/latex": [
       "$\\displaystyle \\left[\\begin{matrix}1 & 0 & 0 & 0 & 0 & -1 & -1 & 0\\\\0 & 1 & 0 & 0 & -1 & 1 & 0 & -1\\\\0 & 0 & 1 & 0 & -3 & 2 & 1 & -1\\\\0 & 0 & 0 & 1 & -2 & 1 & 1 & -1\\end{matrix}\\right]$"
      ],
      "text/plain": [
       "Matrix([\n",
       "[1, 0, 0, 0,  0, -1, -1,  0],\n",
       "[0, 1, 0, 0, -1,  1,  0, -1],\n",
       "[0, 0, 1, 0, -3,  2,  1, -1],\n",
       "[0, 0, 0, 1, -2,  1,  1, -1]])"
      ]
     },
     "metadata": {},
     "output_type": "display_data"
    }
   ],
   "source": [
    "for f in positive_maps:\n",
    "    display(f)"
   ]
  }
 ],
 "metadata": {
  "kernelspec": {
   "display_name": "Python 3 (ipykernel)",
   "language": "python",
   "name": "python3"
  },
  "language_info": {
   "codemirror_mode": {
    "name": "ipython",
    "version": 3
   },
   "file_extension": ".py",
   "mimetype": "text/x-python",
   "name": "python",
   "nbconvert_exporter": "python",
   "pygments_lexer": "ipython3",
   "version": "3.12.7"
  }
 },
 "nbformat": 4,
 "nbformat_minor": 5
}
