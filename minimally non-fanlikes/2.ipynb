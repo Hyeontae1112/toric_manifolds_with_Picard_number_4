{
 "cells": [
  {
   "cell_type": "markdown",
   "id": "de4d0db2-c0ec-459a-a529-95d171acb78f",
   "metadata": {
    "jp-MarkdownHeadingCollapsed": true
   },
   "source": [
    "# Preparation"
   ]
  },
  {
   "cell_type": "code",
   "execution_count": 1,
   "id": "04370107-dbfa-4c31-83a7-3c56356283b0",
   "metadata": {},
   "outputs": [],
   "source": [
    "%run programs\\\\Characteristic_Pair.py\n",
    "import copy\n",
    "\n",
    "minimally_non_fanlikes_index=2\n",
    "\n",
    "K = Simplicial_Complex(json.loads(read_file('programs\\\\minimally_non_fanlikes')[minimally_non_fanlikes_index]))\n",
    "M = initial_char(K.n)\n",
    "C0 = Characteristic_Pair(K, M)\n",
    "positive_maps = []\n",
    "\n",
    "a0, a1, a2, a3 = sp.symbols('a0:%d'%K.n)\n",
    "b0, b1, b2, b3 = sp.symbols('b0:%d'%K.n)\n",
    "c0, c1, c2, c3 = sp.symbols('c0:%d'%K.n)\n",
    "d0, d1, d2, d3 = sp.symbols('d0:%d'%K.n)"
   ]
  },
  {
   "cell_type": "code",
   "execution_count": 2,
   "id": "02ad489f-3779-4124-9e83-867218a19bd6",
   "metadata": {},
   "outputs": [],
   "source": [
    "C=C0"
   ]
  },
  {
   "cell_type": "code",
   "execution_count": 3,
   "id": "fae6df51-e5ac-4b3a-91ce-67c92bf825d0",
   "metadata": {},
   "outputs": [
    {
     "name": "stdout",
     "output_type": "stream",
     "text": [
      "facet number: 3\n"
     ]
    },
    {
     "data": {
      "text/latex": [
       "$\\displaystyle a_{1} = -1$"
      ],
      "text/plain": [
       "Eq(a1, -1)"
      ]
     },
     "metadata": {},
     "output_type": "display_data"
    },
    {
     "name": "stdout",
     "output_type": "stream",
     "text": [
      "facet number: 2\n"
     ]
    },
    {
     "data": {
      "text/latex": [
       "$\\displaystyle - c_{2} = 1$"
      ],
      "text/plain": [
       "Eq(-c2, 1)"
      ]
     },
     "metadata": {},
     "output_type": "display_data"
    },
    {
     "name": "stdout",
     "output_type": "stream",
     "text": [
      "facet number: 1\n"
     ]
    },
    {
     "data": {
      "text/latex": [
       "$\\displaystyle c_{3} = -1$"
      ],
      "text/plain": [
       "Eq(c3, -1)"
      ]
     },
     "metadata": {},
     "output_type": "display_data"
    },
    {
     "name": "stdout",
     "output_type": "stream",
     "text": [
      "facet number: 8\n"
     ]
    },
    {
     "data": {
      "text/latex": [
       "$\\displaystyle - d_{0} = 1$"
      ],
      "text/plain": [
       "Eq(-d0, 1)"
      ]
     },
     "metadata": {},
     "output_type": "display_data"
    }
   ],
   "source": [
    "i=3\n",
    "print('facet number:', i)\n",
    "display(sp.Eq(C.determinants[i], C.orientation[i]))\n",
    "\n",
    "i=2\n",
    "print('facet number:', i)\n",
    "display(sp.Eq(C.determinants[i], C.orientation[i]))\n",
    "\n",
    "i=1\n",
    "print('facet number:', i)\n",
    "display(sp.Eq(C.determinants[i], C.orientation[i]))\n",
    "\n",
    "i=8\n",
    "print('facet number:', i)\n",
    "display(sp.Eq(C.determinants[i], C.orientation[i]))\n",
    "\n",
    "C.subs(a1, -1)\n",
    "C.subs(c2, -1)\n",
    "C.subs(c3, -1)\n",
    "C.subs(d0, -1)"
   ]
  },
  {
   "cell_type": "code",
   "execution_count": 4,
   "id": "2039905f-9c64-4895-8007-30ad446fec6a",
   "metadata": {},
   "outputs": [
    {
     "name": "stdout",
     "output_type": "stream",
     "text": [
      "facet number: 11\n"
     ]
    },
    {
     "data": {
      "text/latex": [
       "$\\displaystyle - c_{0} d_{2} + 1 = 1$"
      ],
      "text/plain": [
       "Eq(-c0*d2 + 1, 1)"
      ]
     },
     "metadata": {},
     "output_type": "display_data"
    }
   ],
   "source": [
    "i=11\n",
    "print('facet number:', i)\n",
    "display(sp.Eq(C.determinants[i], C.orientation[i]))"
   ]
  },
  {
   "cell_type": "markdown",
   "id": "7c15cf3a-4d0f-41f9-b4e6-44e0a5c63f22",
   "metadata": {
    "jp-MarkdownHeadingCollapsed": true
   },
   "source": [
    "# $c_0=0$"
   ]
  },
  {
   "cell_type": "code",
   "execution_count": 5,
   "id": "1626bd87-ed21-4fc2-b175-5301c1140516",
   "metadata": {},
   "outputs": [],
   "source": [
    "C1=copy.deepcopy(C0)\n",
    "C=C1\n",
    "C.subs(c0, 0)"
   ]
  },
  {
   "cell_type": "code",
   "execution_count": 6,
   "id": "81af5561-6be1-4ee8-a385-44817b7bb942",
   "metadata": {},
   "outputs": [
    {
     "name": "stdout",
     "output_type": "stream",
     "text": [
      "facet number: 9\n"
     ]
    },
    {
     "data": {
      "text/latex": [
       "$\\displaystyle - a_{0} = 1$"
      ],
      "text/plain": [
       "Eq(-a0, 1)"
      ]
     },
     "metadata": {},
     "output_type": "display_data"
    }
   ],
   "source": [
    "i=9\n",
    "print('facet number:', i)\n",
    "display(sp.Eq(C.determinants[i], C.orientation[i]))\n",
    "\n",
    "C.subs(a0, -1)"
   ]
  },
  {
   "cell_type": "code",
   "execution_count": 7,
   "id": "1184e199-c256-4ad5-918b-ec7246721181",
   "metadata": {},
   "outputs": [
    {
     "name": "stdout",
     "output_type": "stream",
     "text": [
      "facet number: 15\n"
     ]
    },
    {
     "data": {
      "text/latex": [
       "$\\displaystyle - d_{1} - 1 = -1$"
      ],
      "text/plain": [
       "Eq(-d1 - 1, -1)"
      ]
     },
     "metadata": {},
     "output_type": "display_data"
    }
   ],
   "source": [
    "i=15\n",
    "print('facet number:', i)\n",
    "display(sp.Eq(C.determinants[i], C.orientation[i]))\n",
    "\n",
    "C.subs(d1, 0)"
   ]
  },
  {
   "cell_type": "code",
   "execution_count": 8,
   "id": "369b9d95-2a88-46ca-85d5-86f58fee0b73",
   "metadata": {},
   "outputs": [
    {
     "name": "stdout",
     "output_type": "stream",
     "text": [
      "facet number: 10\n"
     ]
    },
    {
     "data": {
      "text/latex": [
       "$\\displaystyle a_{3} - d_{3} = -1$"
      ],
      "text/plain": [
       "Eq(a3 - d3, -1)"
      ]
     },
     "metadata": {},
     "output_type": "display_data"
    }
   ],
   "source": [
    "i=10\n",
    "print('facet number:', i)\n",
    "display(sp.Eq(C.determinants[i], C.orientation[i]))\n",
    "\n",
    "C.subs(a3, d3-1)"
   ]
  },
  {
   "cell_type": "code",
   "execution_count": 9,
   "id": "3b8ec362-b0e3-45c3-aa03-ab2dc0310d78",
   "metadata": {},
   "outputs": [
    {
     "name": "stdout",
     "output_type": "stream",
     "text": [
      "facet number: 5\n"
     ]
    },
    {
     "data": {
      "text/latex": [
       "$\\displaystyle b_{1} + b_{3} c_{1} = -1$"
      ],
      "text/plain": [
       "Eq(b1 + b3*c1, -1)"
      ]
     },
     "metadata": {},
     "output_type": "display_data"
    },
    {
     "name": "stdout",
     "output_type": "stream",
     "text": [
      "facet number: 7\n"
     ]
    },
    {
     "data": {
      "text/latex": [
       "$\\displaystyle - b_{1} - b_{2} c_{1} = 1$"
      ],
      "text/plain": [
       "Eq(-b1 - b2*c1, 1)"
      ]
     },
     "metadata": {},
     "output_type": "display_data"
    },
    {
     "data": {
      "text/latex": [
       "$\\displaystyle - b_{2} c_{1} + b_{3} c_{1} = 0$"
      ],
      "text/plain": [
       "Eq(-b2*c1 + b3*c1, 0)"
      ]
     },
     "metadata": {},
     "output_type": "display_data"
    }
   ],
   "source": [
    "i=5\n",
    "print('facet number:', i)\n",
    "display(sp.Eq(C.determinants[i], C.orientation[i]))\n",
    "\n",
    "i=7\n",
    "print('facet number:', i)\n",
    "display(sp.Eq(C.determinants[i], C.orientation[i]))\n",
    "\n",
    "display(sp.Eq(C.determinants[5] + C.determinants[7], C.orientation[5] + C.orientation[7]))"
   ]
  },
  {
   "cell_type": "markdown",
   "id": "f6481e12-d876-4caa-b7c8-a37a4710c9b9",
   "metadata": {
    "jp-MarkdownHeadingCollapsed": true
   },
   "source": [
    "## $c_1=0$"
   ]
  },
  {
   "cell_type": "code",
   "execution_count": 10,
   "id": "50759907-c4b3-48a0-afe3-6377aac50439",
   "metadata": {},
   "outputs": [],
   "source": [
    "C2=copy.deepcopy(C1)\n",
    "C=C2\n",
    "C.subs(c1, 0)"
   ]
  },
  {
   "cell_type": "code",
   "execution_count": 11,
   "id": "9b2184ab-419c-4dce-89a0-4d85752b8479",
   "metadata": {},
   "outputs": [
    {
     "name": "stdout",
     "output_type": "stream",
     "text": [
      "facet number: 5\n"
     ]
    },
    {
     "data": {
      "text/latex": [
       "$\\displaystyle b_{1} = -1$"
      ],
      "text/plain": [
       "Eq(b1, -1)"
      ]
     },
     "metadata": {},
     "output_type": "display_data"
    }
   ],
   "source": [
    "i=5\n",
    "print('facet number:', i)\n",
    "display(sp.Eq(C.determinants[i], C.orientation[i]))\n",
    "\n",
    "C.subs(b1, -1)"
   ]
  },
  {
   "cell_type": "code",
   "execution_count": 12,
   "id": "071f8b6d-c1b3-4323-8dec-7348f1db6ba7",
   "metadata": {},
   "outputs": [
    {
     "name": "stdout",
     "output_type": "stream",
     "text": [
      "facet number: 16\n"
     ]
    },
    {
     "data": {
      "text/latex": [
       "$\\displaystyle - b_{0} - 1 = -1$"
      ],
      "text/plain": [
       "Eq(-b0 - 1, -1)"
      ]
     },
     "metadata": {},
     "output_type": "display_data"
    }
   ],
   "source": [
    "i=16\n",
    "print('facet number:', i)\n",
    "display(sp.Eq(C.determinants[i], C.orientation[i]))\n",
    "\n",
    "C.subs(b0, 0)"
   ]
  },
  {
   "cell_type": "code",
   "execution_count": 13,
   "id": "448a0572-6b65-4550-8194-231f62eea5ba",
   "metadata": {},
   "outputs": [
    {
     "name": "stdout",
     "output_type": "stream",
     "text": [
      "facet number: 12\n"
     ]
    },
    {
     "data": {
      "text/latex": [
       "$\\displaystyle - b_{2} + b_{3} = 1$"
      ],
      "text/plain": [
       "Eq(-b2 + b3, 1)"
      ]
     },
     "metadata": {},
     "output_type": "display_data"
    },
    {
     "name": "stdout",
     "output_type": "stream",
     "text": [
      "facet number: 14\n"
     ]
    },
    {
     "data": {
      "text/latex": [
       "$\\displaystyle - b_{2} + b_{3} = -1$"
      ],
      "text/plain": [
       "Eq(-b2 + b3, -1)"
      ]
     },
     "metadata": {},
     "output_type": "display_data"
    },
    {
     "name": "stdout",
     "output_type": "stream",
     "text": [
      "no solution\n"
     ]
    }
   ],
   "source": [
    "i=12\n",
    "print('facet number:', i)\n",
    "display(sp.Eq(C.determinants[i], C.orientation[i]))\n",
    "\n",
    "i=14\n",
    "print('facet number:', i)\n",
    "display(sp.Eq(C.determinants[i], C.orientation[i]))\n",
    "\n",
    "print('no solution')"
   ]
  },
  {
   "cell_type": "markdown",
   "id": "e3c2a78a-95a4-4d31-8e3b-8d4bc1411fb2",
   "metadata": {
    "jp-MarkdownHeadingCollapsed": true
   },
   "source": [
    "## $b_2=b_3$ ($c_1 \\not= 0$)"
   ]
  },
  {
   "cell_type": "code",
   "execution_count": 14,
   "id": "99731a99-aaa1-4718-a5e9-b533218b2e6f",
   "metadata": {},
   "outputs": [],
   "source": [
    "C2=copy.deepcopy(C1)\n",
    "C=C2\n",
    "C.subs(b2, b3)"
   ]
  },
  {
   "cell_type": "code",
   "execution_count": 15,
   "id": "a111d252-d94e-4662-841f-031bd116e7c7",
   "metadata": {},
   "outputs": [
    {
     "name": "stdout",
     "output_type": "stream",
     "text": [
      "facet number: 12\n"
     ]
    },
    {
     "data": {
      "text/latex": [
       "$\\displaystyle b_{0} \\left(- a_{2} + d_{3} - 1\\right) = 1$"
      ],
      "text/plain": [
       "Eq(b0*(-a2 + d3 - 1), 1)"
      ]
     },
     "metadata": {},
     "output_type": "display_data"
    }
   ],
   "source": [
    "i=12\n",
    "print('facet number:', i)\n",
    "display(sp.Eq(C.determinants[i], C.orientation[i]))"
   ]
  },
  {
   "cell_type": "markdown",
   "id": "8cdab329-e535-4d43-af99-b786759bc246",
   "metadata": {
    "jp-MarkdownHeadingCollapsed": true
   },
   "source": [
    "### $b_0=1$ ($c_1 \\not= 0$)"
   ]
  },
  {
   "cell_type": "code",
   "execution_count": 16,
   "id": "70ec3e2d-f79d-4e5c-939e-4d614f549732",
   "metadata": {},
   "outputs": [],
   "source": [
    "C3=copy.deepcopy(C2)\n",
    "C=C3\n",
    "C.subs(b0, 1)"
   ]
  },
  {
   "cell_type": "code",
   "execution_count": 17,
   "id": "64b1cae8-4044-4801-af02-0386f5c78f14",
   "metadata": {},
   "outputs": [
    {
     "name": "stdout",
     "output_type": "stream",
     "text": [
      "facet number: 12\n"
     ]
    },
    {
     "data": {
      "text/latex": [
       "$\\displaystyle - a_{2} + d_{3} - 1 = 1$"
      ],
      "text/plain": [
       "Eq(-a2 + d3 - 1, 1)"
      ]
     },
     "metadata": {},
     "output_type": "display_data"
    }
   ],
   "source": [
    "i=12\n",
    "print('facet number:', i)\n",
    "display(sp.Eq(C.determinants[i], C.orientation[i]))\n",
    "\n",
    "C.subs(a2, d3-2)"
   ]
  },
  {
   "cell_type": "code",
   "execution_count": 18,
   "id": "81350502-3a08-4a50-9036-a0692071ea35",
   "metadata": {},
   "outputs": [
    {
     "name": "stdout",
     "output_type": "stream",
     "text": [
      "facet number: 14\n"
     ]
    },
    {
     "data": {
      "text/latex": [
       "$\\displaystyle - d_{2} + d_{3} = -1$"
      ],
      "text/plain": [
       "Eq(-d2 + d3, -1)"
      ]
     },
     "metadata": {},
     "output_type": "display_data"
    }
   ],
   "source": [
    "i=14\n",
    "print('facet number:', i)\n",
    "display(sp.Eq(C.determinants[i], C.orientation[i]))\n",
    "\n",
    "C.subs(d2, d3+1)"
   ]
  },
  {
   "cell_type": "code",
   "execution_count": 19,
   "id": "0fddefa4-b7cf-43dc-a70c-f86d02c4aa67",
   "metadata": {},
   "outputs": [
    {
     "name": "stdout",
     "output_type": "stream",
     "text": [
      "facet number: 13\n"
     ]
    },
    {
     "data": {
      "text/latex": [
       "$\\displaystyle - 2 b_{3} - 2 d_{3} + 1 = -1$"
      ],
      "text/plain": [
       "Eq(-2*b3 - 2*d3 + 1, -1)"
      ]
     },
     "metadata": {},
     "output_type": "display_data"
    }
   ],
   "source": [
    "i=13\n",
    "print('facet number:', i)\n",
    "display(sp.Eq(C.determinants[i], C.orientation[i]))\n",
    "\n",
    "C.subs(b3, -d3+1)"
   ]
  },
  {
   "cell_type": "code",
   "execution_count": 20,
   "id": "79198827-e682-4a51-a4dc-368528ff6300",
   "metadata": {},
   "outputs": [
    {
     "name": "stdout",
     "output_type": "stream",
     "text": [
      "facet number: 16\n"
     ]
    },
    {
     "data": {
      "text/latex": [
       "$\\displaystyle b_{1} - 1 = -1$"
      ],
      "text/plain": [
       "Eq(b1 - 1, -1)"
      ]
     },
     "metadata": {},
     "output_type": "display_data"
    },
    {
     "name": "stdout",
     "output_type": "stream",
     "text": [
      "facet number: 17\n"
     ]
    },
    {
     "data": {
      "text/latex": [
       "$\\displaystyle 3 b_{1} - 2 = 1$"
      ],
      "text/plain": [
       "Eq(3*b1 - 2, 1)"
      ]
     },
     "metadata": {},
     "output_type": "display_data"
    },
    {
     "name": "stdout",
     "output_type": "stream",
     "text": [
      "no solution\n"
     ]
    }
   ],
   "source": [
    "i=16\n",
    "print('facet number:', i)\n",
    "display(sp.Eq(C.determinants[i], C.orientation[i]))\n",
    "\n",
    "i=17\n",
    "print('facet number:', i)\n",
    "display(sp.Eq(C.determinants[i], C.orientation[i]))\n",
    "\n",
    "print('no solution')"
   ]
  },
  {
   "cell_type": "markdown",
   "id": "dc3ea81c-2cd4-4cc6-9d86-e4c7e2688375",
   "metadata": {
    "jp-MarkdownHeadingCollapsed": true
   },
   "source": [
    "### $b_0=-1$ ($c_1 \\not= 0$)"
   ]
  },
  {
   "cell_type": "code",
   "execution_count": 21,
   "id": "61554d31-d592-4903-b247-23a5a6a6118a",
   "metadata": {},
   "outputs": [],
   "source": [
    "C3=copy.deepcopy(C2)\n",
    "C=C3\n",
    "C.subs(b0, -1)"
   ]
  },
  {
   "cell_type": "code",
   "execution_count": 22,
   "id": "ad3a9995-72b9-4420-b53d-13e4e1a97818",
   "metadata": {},
   "outputs": [
    {
     "name": "stdout",
     "output_type": "stream",
     "text": [
      "facet number: 12\n"
     ]
    },
    {
     "data": {
      "text/latex": [
       "$\\displaystyle a_{2} - d_{3} + 1 = 1$"
      ],
      "text/plain": [
       "Eq(a2 - d3 + 1, 1)"
      ]
     },
     "metadata": {},
     "output_type": "display_data"
    }
   ],
   "source": [
    "i=12\n",
    "print('facet number:', i)\n",
    "display(sp.Eq(C.determinants[i], C.orientation[i]))\n",
    "\n",
    "C.subs(a2, d3)"
   ]
  },
  {
   "cell_type": "code",
   "execution_count": 23,
   "id": "8fe2583f-c57f-4a05-b82e-76d285ca0978",
   "metadata": {},
   "outputs": [
    {
     "name": "stdout",
     "output_type": "stream",
     "text": [
      "facet number: 14\n"
     ]
    },
    {
     "data": {
      "text/latex": [
       "$\\displaystyle d_{2} - d_{3} = -1$"
      ],
      "text/plain": [
       "Eq(d2 - d3, -1)"
      ]
     },
     "metadata": {},
     "output_type": "display_data"
    }
   ],
   "source": [
    "i=14\n",
    "print('facet number:', i)\n",
    "display(sp.Eq(C.determinants[i], C.orientation[i]))\n",
    "\n",
    "C.subs(d2, d3-1)"
   ]
  },
  {
   "cell_type": "code",
   "execution_count": 24,
   "id": "0c6596a1-73ca-4e0d-bc40-7755e9cd4f8d",
   "metadata": {},
   "outputs": [
    {
     "name": "stdout",
     "output_type": "stream",
     "text": [
      "facet number: 13\n"
     ]
    },
    {
     "data": {
      "text/latex": [
       "$\\displaystyle 2 b_{3} - 2 d_{3} + 1 = -1$"
      ],
      "text/plain": [
       "Eq(2*b3 - 2*d3 + 1, -1)"
      ]
     },
     "metadata": {},
     "output_type": "display_data"
    }
   ],
   "source": [
    "i=13\n",
    "print('facet number:', i)\n",
    "display(sp.Eq(C.determinants[i], C.orientation[i]))\n",
    "\n",
    "C.subs(b3, d3-1)"
   ]
  },
  {
   "cell_type": "code",
   "execution_count": 25,
   "id": "7f763683-195a-4c56-96da-1e26cc886394",
   "metadata": {},
   "outputs": [
    {
     "name": "stdout",
     "output_type": "stream",
     "text": [
      "facet number: 16\n"
     ]
    },
    {
     "data": {
      "text/latex": [
       "$\\displaystyle b_{1} + 1 = -1$"
      ],
      "text/plain": [
       "Eq(b1 + 1, -1)"
      ]
     },
     "metadata": {},
     "output_type": "display_data"
    },
    {
     "name": "stdout",
     "output_type": "stream",
     "text": [
      "facet number: 17\n"
     ]
    },
    {
     "data": {
      "text/latex": [
       "$\\displaystyle - b_{1} = 1$"
      ],
      "text/plain": [
       "Eq(-b1, 1)"
      ]
     },
     "metadata": {},
     "output_type": "display_data"
    },
    {
     "name": "stdout",
     "output_type": "stream",
     "text": [
      "no solution\n"
     ]
    }
   ],
   "source": [
    "i=16\n",
    "print('facet number:', i)\n",
    "display(sp.Eq(C.determinants[i], C.orientation[i]))\n",
    "\n",
    "i=17\n",
    "print('facet number:', i)\n",
    "display(sp.Eq(C.determinants[i], C.orientation[i]))\n",
    "\n",
    "print('no solution')"
   ]
  },
  {
   "cell_type": "markdown",
   "id": "524d9760-1694-436f-8858-53d7e2f7bceb",
   "metadata": {
    "jp-MarkdownHeadingCollapsed": true
   },
   "source": [
    "# $d_2=0$ ($c_0 \\not = 0$)"
   ]
  },
  {
   "cell_type": "code",
   "execution_count": 26,
   "id": "123e9527-6292-4206-8c6f-e04a790b379d",
   "metadata": {},
   "outputs": [],
   "source": [
    "C1=copy.deepcopy(C0)\n",
    "C=C1\n",
    "C.subs(d2, 0)"
   ]
  },
  {
   "cell_type": "code",
   "execution_count": 27,
   "id": "1f2f660e-b57d-42ff-b0a5-6ce550253e8c",
   "metadata": {},
   "outputs": [
    {
     "name": "stdout",
     "output_type": "stream",
     "text": [
      "facet number: 15\n"
     ]
    },
    {
     "data": {
      "text/latex": [
       "$\\displaystyle a_{0} d_{1} - 1 = -1$"
      ],
      "text/plain": [
       "Eq(a0*d1 - 1, -1)"
      ]
     },
     "metadata": {},
     "output_type": "display_data"
    }
   ],
   "source": [
    "i=15\n",
    "print('facet number:', i)\n",
    "display(sp.Eq(C.determinants[i], C.orientation[i]))"
   ]
  },
  {
   "cell_type": "markdown",
   "id": "ca1ba4a5-462c-4a02-bdc7-61689fc97f7e",
   "metadata": {
    "jp-MarkdownHeadingCollapsed": true
   },
   "source": [
    "## $a_0=0$ ($c_0 \\not= 0$)"
   ]
  },
  {
   "cell_type": "code",
   "execution_count": 28,
   "id": "f9f2606e-6fbe-4463-8277-639d090ec211",
   "metadata": {},
   "outputs": [],
   "source": [
    "C2=copy.deepcopy(C1)\n",
    "C=C2\n",
    "C.subs(a0, 0)"
   ]
  },
  {
   "cell_type": "code",
   "execution_count": 29,
   "id": "9dfe94ec-2eaa-435e-80ba-b22c5b69c4a1",
   "metadata": {},
   "outputs": [
    {
     "name": "stdout",
     "output_type": "stream",
     "text": [
      "facet number: 10\n"
     ]
    },
    {
     "data": {
      "text/latex": [
       "$\\displaystyle a_{3} = -1$"
      ],
      "text/plain": [
       "Eq(a3, -1)"
      ]
     },
     "metadata": {},
     "output_type": "display_data"
    }
   ],
   "source": [
    "i=10\n",
    "print('facet number:', i)\n",
    "display(sp.Eq(C.determinants[i], C.orientation[i]))\n",
    "\n",
    "C.subs(a3, -1)"
   ]
  },
  {
   "cell_type": "code",
   "execution_count": 30,
   "id": "bb3f7bd3-fb0e-4726-8a4d-841d0ee59280",
   "metadata": {},
   "outputs": [
    {
     "name": "stdout",
     "output_type": "stream",
     "text": [
      "facet number: 9\n"
     ]
    },
    {
     "data": {
      "text/latex": [
       "$\\displaystyle c_{0} = 1$"
      ],
      "text/plain": [
       "Eq(c0, 1)"
      ]
     },
     "metadata": {},
     "output_type": "display_data"
    }
   ],
   "source": [
    "i=9\n",
    "print('facet number:', i)\n",
    "display(sp.Eq(C.determinants[i], C.orientation[i]))\n",
    "\n",
    "C.subs(c0, 1)"
   ]
  },
  {
   "cell_type": "code",
   "execution_count": 31,
   "id": "18896dd0-5900-461e-a2ef-8386b24dfb00",
   "metadata": {},
   "outputs": [
    {
     "name": "stdout",
     "output_type": "stream",
     "text": [
      "facet number: 4\n"
     ]
    },
    {
     "data": {
      "text/latex": [
       "$\\displaystyle - b_{1} + b_{3} = -1$"
      ],
      "text/plain": [
       "Eq(-b1 + b3, -1)"
      ]
     },
     "metadata": {},
     "output_type": "display_data"
    }
   ],
   "source": [
    "i=4\n",
    "print('facet number:', i)\n",
    "display(sp.Eq(C.determinants[i], C.orientation[i]))\n",
    "\n",
    "C.subs(b1, b3+1)"
   ]
  },
  {
   "cell_type": "code",
   "execution_count": 32,
   "id": "2a2c6c67-406c-43dd-8fef-387eacb81dd0",
   "metadata": {},
   "outputs": [
    {
     "name": "stdout",
     "output_type": "stream",
     "text": [
      "facet number: 5\n"
     ]
    },
    {
     "data": {
      "text/latex": [
       "$\\displaystyle b_{3} c_{1} + b_{3} + 1 = -1$"
      ],
      "text/plain": [
       "Eq(b3*c1 + b3 + 1, -1)"
      ]
     },
     "metadata": {},
     "output_type": "display_data"
    }
   ],
   "source": [
    "i=5\n",
    "print('facet number:', i)\n",
    "display(sp.Eq(C.determinants[i], C.orientation[i]))"
   ]
  },
  {
   "cell_type": "markdown",
   "id": "24ba7f19-a085-4e55-9e02-172666de6474",
   "metadata": {
    "jp-MarkdownHeadingCollapsed": true
   },
   "source": [
    "### $b_3=1$"
   ]
  },
  {
   "cell_type": "code",
   "execution_count": 33,
   "id": "1482801f-217a-498b-acc0-885fa5f0ca73",
   "metadata": {},
   "outputs": [],
   "source": [
    "C3=copy.deepcopy(C2)\n",
    "C=C3\n",
    "C.subs(b3, 1)"
   ]
  },
  {
   "cell_type": "code",
   "execution_count": 34,
   "id": "f055d0e3-c31c-49ba-a1e6-323f42f14771",
   "metadata": {},
   "outputs": [
    {
     "name": "stdout",
     "output_type": "stream",
     "text": [
      "facet number: 5\n"
     ]
    },
    {
     "data": {
      "text/latex": [
       "$\\displaystyle c_{1} + 2 = -1$"
      ],
      "text/plain": [
       "Eq(c1 + 2, -1)"
      ]
     },
     "metadata": {},
     "output_type": "display_data"
    }
   ],
   "source": [
    "i=5\n",
    "print('facet number:', i)\n",
    "display(sp.Eq(C.determinants[i], C.orientation[i]))\n",
    "\n",
    "C.subs(c1, -3)"
   ]
  },
  {
   "cell_type": "code",
   "execution_count": 35,
   "id": "ff7d35e5-e1d4-4ace-8636-adab2abe0b64",
   "metadata": {},
   "outputs": [
    {
     "name": "stdout",
     "output_type": "stream",
     "text": [
      "facet number: 7\n"
     ]
    },
    {
     "data": {
      "text/latex": [
       "$\\displaystyle 3 b_{2} - 2 = 1$"
      ],
      "text/plain": [
       "Eq(3*b2 - 2, 1)"
      ]
     },
     "metadata": {},
     "output_type": "display_data"
    }
   ],
   "source": [
    "i=7\n",
    "print('facet number:', i)\n",
    "display(sp.Eq(C.determinants[i], C.orientation[i]))\n",
    "\n",
    "C.subs(b2, 1)"
   ]
  },
  {
   "cell_type": "code",
   "execution_count": 36,
   "id": "5cc79e57-444a-4ba6-9a13-97b12a5d3b8b",
   "metadata": {},
   "outputs": [
    {
     "name": "stdout",
     "output_type": "stream",
     "text": [
      "facet number: 14\n"
     ]
    },
    {
     "data": {
      "text/latex": [
       "$\\displaystyle d_{3} \\left(b_{0} + 1\\right) = -1$"
      ],
      "text/plain": [
       "Eq(d3*(b0 + 1), -1)"
      ]
     },
     "metadata": {},
     "output_type": "display_data"
    },
    {
     "name": "stdout",
     "output_type": "stream",
     "text": [
      "facet number: 16\n"
     ]
    },
    {
     "data": {
      "text/latex": [
       "$\\displaystyle 2 b_{0} + 1 = -1$"
      ],
      "text/plain": [
       "Eq(2*b0 + 1, -1)"
      ]
     },
     "metadata": {},
     "output_type": "display_data"
    },
    {
     "name": "stdout",
     "output_type": "stream",
     "text": [
      "no solution\n"
     ]
    }
   ],
   "source": [
    "i=14\n",
    "print('facet number:', i)\n",
    "display(sp.Eq(C.determinants[i], C.orientation[i]))\n",
    "\n",
    "i=16\n",
    "print('facet number:', i)\n",
    "display(sp.Eq(C.determinants[i], C.orientation[i]))\n",
    "\n",
    "print('no solution')"
   ]
  },
  {
   "cell_type": "markdown",
   "id": "81e5fdd6-8928-463e-87b8-aeb6215d08c3",
   "metadata": {
    "jp-MarkdownHeadingCollapsed": true
   },
   "source": [
    "### $b_3=-1$"
   ]
  },
  {
   "cell_type": "code",
   "execution_count": 37,
   "id": "eb6cda28-c01c-4d5b-9fd2-b8f4edefb2e2",
   "metadata": {},
   "outputs": [],
   "source": [
    "C3=copy.deepcopy(C2)\n",
    "C=C3\n",
    "C.subs(b3, -1)"
   ]
  },
  {
   "cell_type": "code",
   "execution_count": 38,
   "id": "c2a0d85e-2915-4f7a-867c-f1cfa48c66e2",
   "metadata": {},
   "outputs": [
    {
     "name": "stdout",
     "output_type": "stream",
     "text": [
      "facet number: 5\n"
     ]
    },
    {
     "data": {
      "text/latex": [
       "$\\displaystyle - c_{1} = -1$"
      ],
      "text/plain": [
       "Eq(-c1, -1)"
      ]
     },
     "metadata": {},
     "output_type": "display_data"
    }
   ],
   "source": [
    "i=5\n",
    "print('facet number:', i)\n",
    "display(sp.Eq(C.determinants[i], C.orientation[i]))\n",
    "\n",
    "C.subs(c1, 1)"
   ]
  },
  {
   "cell_type": "code",
   "execution_count": 39,
   "id": "5ab58e82-dc3c-47c1-a14c-8595815c82b2",
   "metadata": {},
   "outputs": [
    {
     "name": "stdout",
     "output_type": "stream",
     "text": [
      "facet number: 6\n"
     ]
    },
    {
     "data": {
      "text/latex": [
       "$\\displaystyle - b_{2} = 1$"
      ],
      "text/plain": [
       "Eq(-b2, 1)"
      ]
     },
     "metadata": {},
     "output_type": "display_data"
    }
   ],
   "source": [
    "i=6\n",
    "print('facet number:', i)\n",
    "display(sp.Eq(C.determinants[i], C.orientation[i]))\n",
    "\n",
    "C.subs(b2, -1)"
   ]
  },
  {
   "cell_type": "code",
   "execution_count": 40,
   "id": "b185085b-1824-41a3-a286-aa52971fd346",
   "metadata": {},
   "outputs": [
    {
     "name": "stdout",
     "output_type": "stream",
     "text": [
      "facet number: 14\n"
     ]
    },
    {
     "data": {
      "text/latex": [
       "$\\displaystyle d_{3} \\left(b_{0} - 1\\right) = -1$"
      ],
      "text/plain": [
       "Eq(d3*(b0 - 1), -1)"
      ]
     },
     "metadata": {},
     "output_type": "display_data"
    },
    {
     "name": "stdout",
     "output_type": "stream",
     "text": [
      "facet number: 16\n"
     ]
    },
    {
     "data": {
      "text/latex": [
       "$\\displaystyle 1 - 2 b_{0} = -1$"
      ],
      "text/plain": [
       "Eq(1 - 2*b0, -1)"
      ]
     },
     "metadata": {},
     "output_type": "display_data"
    },
    {
     "name": "stdout",
     "output_type": "stream",
     "text": [
      "no solution\n"
     ]
    }
   ],
   "source": [
    "i=14\n",
    "print('facet number:', i)\n",
    "display(sp.Eq(C.determinants[i], C.orientation[i]))\n",
    "\n",
    "i=16\n",
    "print('facet number:', i)\n",
    "display(sp.Eq(C.determinants[i], C.orientation[i]))\n",
    "\n",
    "print('no solution')"
   ]
  },
  {
   "cell_type": "markdown",
   "id": "d188ed46-46a6-448a-ae0c-d855a637cf8f",
   "metadata": {
    "jp-MarkdownHeadingCollapsed": true
   },
   "source": [
    "### $b_3=2$"
   ]
  },
  {
   "cell_type": "code",
   "execution_count": 41,
   "id": "bc4876b2-f478-42ef-9183-ab0abc6c579d",
   "metadata": {},
   "outputs": [],
   "source": [
    "C3=copy.deepcopy(C2)\n",
    "C=C3\n",
    "C.subs(b3, 2)"
   ]
  },
  {
   "cell_type": "code",
   "execution_count": 42,
   "id": "9d3a4669-57f6-419e-8081-2b20f9919575",
   "metadata": {},
   "outputs": [
    {
     "name": "stdout",
     "output_type": "stream",
     "text": [
      "facet number: 5\n"
     ]
    },
    {
     "data": {
      "text/latex": [
       "$\\displaystyle 2 c_{1} + 3 = -1$"
      ],
      "text/plain": [
       "Eq(2*c1 + 3, -1)"
      ]
     },
     "metadata": {},
     "output_type": "display_data"
    }
   ],
   "source": [
    "i=5\n",
    "print('facet number:', i)\n",
    "display(sp.Eq(C.determinants[i], C.orientation[i]))\n",
    "\n",
    "C.subs(c1, -2)"
   ]
  },
  {
   "cell_type": "code",
   "execution_count": 43,
   "id": "e8d9bab2-3165-486a-9e07-67060c2168b6",
   "metadata": {},
   "outputs": [
    {
     "name": "stdout",
     "output_type": "stream",
     "text": [
      "facet number: 16\n"
     ]
    },
    {
     "data": {
      "text/latex": [
       "$\\displaystyle b_{0} + 1 = -1$"
      ],
      "text/plain": [
       "Eq(b0 + 1, -1)"
      ]
     },
     "metadata": {},
     "output_type": "display_data"
    }
   ],
   "source": [
    "i=16\n",
    "print('facet number:', i)\n",
    "display(sp.Eq(C.determinants[i], C.orientation[i]))\n",
    "\n",
    "C.subs(b0, -2)"
   ]
  },
  {
   "cell_type": "code",
   "execution_count": 44,
   "id": "74ff6232-1b01-4291-aee4-a30e5a31ce55",
   "metadata": {},
   "outputs": [
    {
     "name": "stdout",
     "output_type": "stream",
     "text": [
      "facet number: 7\n"
     ]
    },
    {
     "data": {
      "text/latex": [
       "$\\displaystyle 2 b_{2} - 3 = 1$"
      ],
      "text/plain": [
       "Eq(2*b2 - 3, 1)"
      ]
     },
     "metadata": {},
     "output_type": "display_data"
    },
    {
     "name": "stdout",
     "output_type": "stream",
     "text": [
      "facet number: 12\n"
     ]
    },
    {
     "data": {
      "text/latex": [
       "$\\displaystyle 2 - b_{2} = 1$"
      ],
      "text/plain": [
       "Eq(2 - b2, 1)"
      ]
     },
     "metadata": {},
     "output_type": "display_data"
    },
    {
     "name": "stdout",
     "output_type": "stream",
     "text": [
      "no solution\n"
     ]
    }
   ],
   "source": [
    "i=7\n",
    "print('facet number:', i)\n",
    "display(sp.Eq(C.determinants[i], C.orientation[i]))\n",
    "\n",
    "i=12\n",
    "print('facet number:', i)\n",
    "display(sp.Eq(C.determinants[i], C.orientation[i]))\n",
    "\n",
    "print('no solution')"
   ]
  },
  {
   "cell_type": "markdown",
   "id": "f2c757e7-2b8e-46b3-9590-0cae162bd842",
   "metadata": {
    "jp-MarkdownHeadingCollapsed": true
   },
   "source": [
    "### $b_3=-2$"
   ]
  },
  {
   "cell_type": "code",
   "execution_count": 45,
   "id": "cf9aebea-b6ca-4bad-9f23-247655b28c36",
   "metadata": {},
   "outputs": [],
   "source": [
    "C3=copy.deepcopy(C2)\n",
    "C=C3\n",
    "C.subs(b3, -2)"
   ]
  },
  {
   "cell_type": "code",
   "execution_count": 46,
   "id": "553f13b4-85d8-49b7-bd10-0f4279211bd6",
   "metadata": {},
   "outputs": [
    {
     "name": "stdout",
     "output_type": "stream",
     "text": [
      "facet number: 5\n"
     ]
    },
    {
     "data": {
      "text/latex": [
       "$\\displaystyle - 2 c_{1} - 1 = -1$"
      ],
      "text/plain": [
       "Eq(-2*c1 - 1, -1)"
      ]
     },
     "metadata": {},
     "output_type": "display_data"
    }
   ],
   "source": [
    "i=5\n",
    "print('facet number:', i)\n",
    "display(sp.Eq(C.determinants[i], C.orientation[i]))\n",
    "\n",
    "C.subs(c1, 0)"
   ]
  },
  {
   "cell_type": "code",
   "execution_count": 47,
   "id": "2424439f-68a7-4420-9cf3-fccc109ce1b4",
   "metadata": {},
   "outputs": [
    {
     "name": "stdout",
     "output_type": "stream",
     "text": [
      "facet number: 16\n"
     ]
    },
    {
     "data": {
      "text/latex": [
       "$\\displaystyle 1 - b_{0} = -1$"
      ],
      "text/plain": [
       "Eq(1 - b0, -1)"
      ]
     },
     "metadata": {},
     "output_type": "display_data"
    }
   ],
   "source": [
    "i=16\n",
    "print('facet number:', i)\n",
    "display(sp.Eq(C.determinants[i], C.orientation[i]))\n",
    "\n",
    "C.subs(b0, 2)"
   ]
  },
  {
   "cell_type": "code",
   "execution_count": 48,
   "id": "244a0c10-4c8a-4537-a35a-8ad424e536e3",
   "metadata": {},
   "outputs": [
    {
     "name": "stdout",
     "output_type": "stream",
     "text": [
      "facet number: 12\n"
     ]
    },
    {
     "data": {
      "text/latex": [
       "$\\displaystyle - b_{2} - 2 = 1$"
      ],
      "text/plain": [
       "Eq(-b2 - 2, 1)"
      ]
     },
     "metadata": {},
     "output_type": "display_data"
    }
   ],
   "source": [
    "i=12\n",
    "print('facet number:', i)\n",
    "display(sp.Eq(C.determinants[i], C.orientation[i]))\n",
    "\n",
    "C.subs(b2, -3)"
   ]
  },
  {
   "cell_type": "code",
   "execution_count": 49,
   "id": "1863e974-a94d-4d92-869e-7f11c5966323",
   "metadata": {},
   "outputs": [
    {
     "name": "stdout",
     "output_type": "stream",
     "text": [
      "facet number: 14\n"
     ]
    },
    {
     "data": {
      "text/latex": [
       "$\\displaystyle 1 - d_{3} = -1$"
      ],
      "text/plain": [
       "Eq(1 - d3, -1)"
      ]
     },
     "metadata": {},
     "output_type": "display_data"
    }
   ],
   "source": [
    "i=14\n",
    "print('facet number:', i)\n",
    "display(sp.Eq(C.determinants[i], C.orientation[i]))\n",
    "\n",
    "C.subs(d3, 2)"
   ]
  },
  {
   "cell_type": "code",
   "execution_count": 50,
   "id": "768622f8-61c2-4c09-9252-bf130dc37400",
   "metadata": {},
   "outputs": [
    {
     "name": "stdout",
     "output_type": "stream",
     "text": [
      "facet number: 6\n"
     ]
    },
    {
     "data": {
      "text/latex": [
       "$\\displaystyle a_{2} + 3 = 1$"
      ],
      "text/plain": [
       "Eq(a2 + 3, 1)"
      ]
     },
     "metadata": {},
     "output_type": "display_data"
    },
    {
     "name": "stdout",
     "output_type": "stream",
     "text": [
      "facet number: 13\n"
     ]
    },
    {
     "data": {
      "text/latex": [
       "$\\displaystyle 2 a_{2} - 3 = -1$"
      ],
      "text/plain": [
       "Eq(2*a2 - 3, -1)"
      ]
     },
     "metadata": {},
     "output_type": "display_data"
    },
    {
     "name": "stdout",
     "output_type": "stream",
     "text": [
      "no solution\n"
     ]
    }
   ],
   "source": [
    "i=6\n",
    "print('facet number:', i)\n",
    "display(sp.Eq(C.determinants[i], C.orientation[i]))\n",
    "\n",
    "i=13\n",
    "print('facet number:', i)\n",
    "display(sp.Eq(C.determinants[i], C.orientation[i]))\n",
    "\n",
    "print('no solution')"
   ]
  },
  {
   "cell_type": "markdown",
   "id": "f1916561-b947-4fb0-95da-332f9ac6f95a",
   "metadata": {
    "jp-MarkdownHeadingCollapsed": true
   },
   "source": [
    "## $d_1=0$ ($a_0 \\not= 0$, $c_0 \\not= 0$)"
   ]
  },
  {
   "cell_type": "code",
   "execution_count": 51,
   "id": "de68aea2-a460-469d-ae0c-264c9f9d49db",
   "metadata": {},
   "outputs": [],
   "source": [
    "C2=copy.deepcopy(C1)\n",
    "C=C2\n",
    "C.subs(d1, 0)"
   ]
  },
  {
   "cell_type": "code",
   "execution_count": 52,
   "id": "940d5b22-8d36-43f7-83e5-bd4ee8e8f47d",
   "metadata": {},
   "outputs": [
    {
     "name": "stdout",
     "output_type": "stream",
     "text": [
      "facet number: 5\n"
     ]
    },
    {
     "data": {
      "text/latex": [
       "$\\displaystyle b_{1} + b_{3} c_{1} = -1$"
      ],
      "text/plain": [
       "Eq(b1 + b3*c1, -1)"
      ]
     },
     "metadata": {},
     "output_type": "display_data"
    },
    {
     "name": "stdout",
     "output_type": "stream",
     "text": [
      "facet number: 7\n"
     ]
    },
    {
     "data": {
      "text/latex": [
       "$\\displaystyle - b_{1} - b_{2} c_{1} = 1$"
      ],
      "text/plain": [
       "Eq(-b1 - b2*c1, 1)"
      ]
     },
     "metadata": {},
     "output_type": "display_data"
    },
    {
     "data": {
      "text/latex": [
       "$\\displaystyle - b_{2} c_{1} + b_{3} c_{1} = 0$"
      ],
      "text/plain": [
       "Eq(-b2*c1 + b3*c1, 0)"
      ]
     },
     "metadata": {},
     "output_type": "display_data"
    }
   ],
   "source": [
    "i=5\n",
    "print('facet number:', i)\n",
    "display(sp.Eq(C.determinants[i], C.orientation[i]))\n",
    "\n",
    "i=7\n",
    "print('facet number:', i)\n",
    "display(sp.Eq(C.determinants[i], C.orientation[i]))\n",
    "\n",
    "display(sp.Eq(C.determinants[5] + C.determinants[7], C.orientation[5] + C.orientation[7]))"
   ]
  },
  {
   "cell_type": "markdown",
   "id": "6c838ada-22d3-491a-8a7c-24383ecfeb0e",
   "metadata": {
    "jp-MarkdownHeadingCollapsed": true
   },
   "source": [
    "### $c_1=0$ ($a_0 \\not= 0$, $c_0 \\not= 0$)"
   ]
  },
  {
   "cell_type": "code",
   "execution_count": 53,
   "id": "7311fd4b-4d5a-44d5-afd0-b8a82254b6c0",
   "metadata": {},
   "outputs": [],
   "source": [
    "C3=copy.deepcopy(C2)\n",
    "C=C3\n",
    "C.subs(c1, 0)"
   ]
  },
  {
   "cell_type": "code",
   "execution_count": 54,
   "id": "f5f4a00f-6db0-4dc4-a81f-3bd295235075",
   "metadata": {},
   "outputs": [
    {
     "name": "stdout",
     "output_type": "stream",
     "text": [
      "facet number: 5\n"
     ]
    },
    {
     "data": {
      "text/latex": [
       "$\\displaystyle b_{1} = -1$"
      ],
      "text/plain": [
       "Eq(b1, -1)"
      ]
     },
     "metadata": {},
     "output_type": "display_data"
    }
   ],
   "source": [
    "i=5\n",
    "print('facet number:', i)\n",
    "display(sp.Eq(C.determinants[i], C.orientation[i]))\n",
    "\n",
    "C.subs(b1, -1)"
   ]
  },
  {
   "cell_type": "code",
   "execution_count": 55,
   "id": "c92c520c-0d49-4b0e-b288-abce151f3ff1",
   "metadata": {},
   "outputs": [
    {
     "name": "stdout",
     "output_type": "stream",
     "text": [
      "facet number: 4\n"
     ]
    },
    {
     "data": {
      "text/latex": [
       "$\\displaystyle - a_{3} + b_{3} = -1$"
      ],
      "text/plain": [
       "Eq(-a3 + b3, -1)"
      ]
     },
     "metadata": {},
     "output_type": "display_data"
    }
   ],
   "source": [
    "i=4\n",
    "print('facet number:', i)\n",
    "display(sp.Eq(C.determinants[i], C.orientation[i]))\n",
    "\n",
    "C.subs(a3, b3+1)"
   ]
  },
  {
   "cell_type": "code",
   "execution_count": 56,
   "id": "6595c0a3-9433-4d85-aae3-269d4abe20d1",
   "metadata": {},
   "outputs": [
    {
     "name": "stdout",
     "output_type": "stream",
     "text": [
      "facet number: 6\n"
     ]
    },
    {
     "data": {
      "text/latex": [
       "$\\displaystyle a_{2} - b_{2} = 1$"
      ],
      "text/plain": [
       "Eq(a2 - b2, 1)"
      ]
     },
     "metadata": {},
     "output_type": "display_data"
    }
   ],
   "source": [
    "i=6\n",
    "print('facet number:', i)\n",
    "display(sp.Eq(C.determinants[i], C.orientation[i]))\n",
    "\n",
    "C.subs(a2, b2+1)"
   ]
  },
  {
   "cell_type": "code",
   "execution_count": 57,
   "id": "b54533c6-c66f-40ed-afd9-45cc3222559c",
   "metadata": {},
   "outputs": [
    {
     "name": "stdout",
     "output_type": "stream",
     "text": [
      "facet number: 16\n"
     ]
    },
    {
     "data": {
      "text/latex": [
       "$\\displaystyle a_{0} - b_{0} + c_{0} = -1$"
      ],
      "text/plain": [
       "Eq(a0 - b0 + c0, -1)"
      ]
     },
     "metadata": {},
     "output_type": "display_data"
    }
   ],
   "source": [
    "i=16\n",
    "print('facet number:', i)\n",
    "display(sp.Eq(C.determinants[i], C.orientation[i]))\n",
    "\n",
    "C.subs(a0, b0-c0-1)"
   ]
  },
  {
   "cell_type": "code",
   "execution_count": 58,
   "id": "e43e284f-29e2-4122-ac9e-0cbd44b886ad",
   "metadata": {},
   "outputs": [
    {
     "name": "stdout",
     "output_type": "stream",
     "text": [
      "facet number: 12\n"
     ]
    },
    {
     "data": {
      "text/latex": [
       "$\\displaystyle - b_{2} + b_{3} = 1$"
      ],
      "text/plain": [
       "Eq(-b2 + b3, 1)"
      ]
     },
     "metadata": {},
     "output_type": "display_data"
    }
   ],
   "source": [
    "i=12\n",
    "print('facet number:', i)\n",
    "display(sp.Eq(C.determinants[i], C.orientation[i]))\n",
    "\n",
    "C.subs(b2, b3-1)"
   ]
  },
  {
   "cell_type": "code",
   "execution_count": 59,
   "id": "cb001260-f0ef-47d1-a92f-ab76dd90adba",
   "metadata": {},
   "outputs": [
    {
     "name": "stdout",
     "output_type": "stream",
     "text": [
      "facet number: 13\n"
     ]
    },
    {
     "data": {
      "text/latex": [
       "$\\displaystyle b_{0} d_{3} + b_{3} c_{0} d_{3} + b_{3} d_{3} - c_{0} d_{3} - d_{3} + 1 = -1$"
      ],
      "text/plain": [
       "Eq(b0*d3 + b3*c0*d3 + b3*d3 - c0*d3 - d3 + 1, -1)"
      ]
     },
     "metadata": {},
     "output_type": "display_data"
    },
    {
     "name": "stdout",
     "output_type": "stream",
     "text": [
      "facet number: 14\n"
     ]
    },
    {
     "data": {
      "text/latex": [
       "$\\displaystyle b_{0} d_{3} + b_{3} c_{0} d_{3} - c_{0} d_{3} + 1 = -1$"
      ],
      "text/plain": [
       "Eq(b0*d3 + b3*c0*d3 - c0*d3 + 1, -1)"
      ]
     },
     "metadata": {},
     "output_type": "display_data"
    },
    {
     "data": {
      "text/latex": [
       "$\\displaystyle b_{3} d_{3} - d_{3} = 0$"
      ],
      "text/plain": [
       "Eq(b3*d3 - d3, 0)"
      ]
     },
     "metadata": {},
     "output_type": "display_data"
    },
    {
     "name": "stdout",
     "output_type": "stream",
     "text": [
      "d3=0 => the two equations are false.\n"
     ]
    }
   ],
   "source": [
    "i=13\n",
    "print('facet number:', i)\n",
    "display(sp.Eq(C.determinants[i], C.orientation[i]))\n",
    "\n",
    "i=14\n",
    "print('facet number:', i)\n",
    "display(sp.Eq(C.determinants[i], C.orientation[i]))\n",
    "\n",
    "display(sp.Eq(C.determinants[13] - C.determinants[14], C.orientation[13] - C.orientation[14]))\n",
    "\n",
    "print('d3=0 => the two equations are false.')\n",
    "C.subs(b3, 1)"
   ]
  },
  {
   "cell_type": "code",
   "execution_count": 60,
   "id": "8a07a7f4-4070-4be8-b39a-fece8cd21206",
   "metadata": {},
   "outputs": [
    {
     "name": "stdout",
     "output_type": "stream",
     "text": [
      "facet number: 9\n"
     ]
    },
    {
     "data": {
      "text/latex": [
       "$\\displaystyle - b_{0} - c_{0} + 1 = 1$"
      ],
      "text/plain": [
       "Eq(-b0 - c0 + 1, 1)"
      ]
     },
     "metadata": {},
     "output_type": "display_data"
    }
   ],
   "source": [
    "i=9\n",
    "print('facet number:', i)\n",
    "display(sp.Eq(C.determinants[i], C.orientation[i]))\n",
    "\n",
    "C.subs(b0, -c0)"
   ]
  },
  {
   "cell_type": "code",
   "execution_count": 61,
   "id": "b7a8f3ab-7717-4b0c-8e35-8d70f5957384",
   "metadata": {},
   "outputs": [
    {
     "name": "stdout",
     "output_type": "stream",
     "text": [
      "facet number: 10\n"
     ]
    },
    {
     "data": {
      "text/latex": [
       "$\\displaystyle - 2 c_{0} d_{3} - d_{3} + 2 = -1$"
      ],
      "text/plain": [
       "Eq(-2*c0*d3 - d3 + 2, -1)"
      ]
     },
     "metadata": {},
     "output_type": "display_data"
    },
    {
     "name": "stdout",
     "output_type": "stream",
     "text": [
      "facet number: 13\n"
     ]
    },
    {
     "data": {
      "text/latex": [
       "$\\displaystyle - c_{0} d_{3} + 1 = -1$"
      ],
      "text/plain": [
       "Eq(-c0*d3 + 1, -1)"
      ]
     },
     "metadata": {},
     "output_type": "display_data"
    },
    {
     "data": {
      "text/latex": [
       "$\\displaystyle - d_{3} = 1$"
      ],
      "text/plain": [
       "Eq(-d3, 1)"
      ]
     },
     "metadata": {},
     "output_type": "display_data"
    }
   ],
   "source": [
    "i=10\n",
    "print('facet number:', i)\n",
    "display(sp.Eq(C.determinants[i], C.orientation[i]))\n",
    "\n",
    "i=13\n",
    "print('facet number:', i)\n",
    "display(sp.Eq(C.determinants[i], C.orientation[i]))\n",
    "\n",
    "display(sp.Eq(C.determinants[10] - 2*C.determinants[13], C.orientation[10] - 2*C.orientation[13]))\n",
    "\n",
    "C.subs(d3, -1)"
   ]
  },
  {
   "cell_type": "code",
   "execution_count": 62,
   "id": "9de69f21-817a-438e-a099-8c01c539832d",
   "metadata": {},
   "outputs": [
    {
     "name": "stdout",
     "output_type": "stream",
     "text": [
      "facet number: 13\n"
     ]
    },
    {
     "data": {
      "text/latex": [
       "$\\displaystyle c_{0} + 1 = -1$"
      ],
      "text/plain": [
       "Eq(c0 + 1, -1)"
      ]
     },
     "metadata": {},
     "output_type": "display_data"
    }
   ],
   "source": [
    "i=13\n",
    "print('facet number:', i)\n",
    "display(sp.Eq(C.determinants[i], C.orientation[i]))\n",
    "\n",
    "C.subs(c0, -2)"
   ]
  },
  {
   "cell_type": "code",
   "execution_count": 63,
   "id": "a7c9fab4-89bc-4c34-b291-b369a290f214",
   "metadata": {},
   "outputs": [
    {
     "data": {
      "text/latex": [
       "$\\displaystyle \\left[\\begin{matrix}1 & 0 & 0 & 0 & 3 & 2 & -2 & -1\\\\0 & 1 & 0 & 0 & -1 & -1 & 0 & 0\\\\0 & 0 & 1 & 0 & 1 & 0 & -1 & 0\\\\0 & 0 & 0 & 1 & 2 & 1 & -1 & -1\\end{matrix}\\right]$"
      ],
      "text/plain": [
       "Matrix([\n",
       "[1, 0, 0, 0,  3,  2, -2, -1],\n",
       "[0, 1, 0, 0, -1, -1,  0,  0],\n",
       "[0, 0, 1, 0,  1,  0, -1,  0],\n",
       "[0, 0, 0, 1,  2,  1, -1, -1]])"
      ]
     },
     "metadata": {},
     "output_type": "display_data"
    }
   ],
   "source": [
    "display(C.char)"
   ]
  },
  {
   "cell_type": "code",
   "execution_count": 64,
   "id": "39f7818f-cbaf-4163-a404-f52061ef26ac",
   "metadata": {},
   "outputs": [
    {
     "data": {
      "text/latex": [
       "$\\displaystyle \\left[\\begin{matrix}1 & 0 & 0 & 0 & 3 & 2 & -2 & -1\\\\0 & 1 & 0 & 0 & -1 & -1 & 0 & 0\\\\0 & 0 & 1 & 0 & 1 & 0 & -1 & 0\\\\0 & 0 & 0 & 1 & 2 & 1 & -1 & -1\\end{matrix}\\right]$"
      ],
      "text/plain": [
       "Matrix([\n",
       "[1, 0, 0, 0,  3,  2, -2, -1],\n",
       "[0, 1, 0, 0, -1, -1,  0,  0],\n",
       "[0, 0, 1, 0,  1,  0, -1,  0],\n",
       "[0, 0, 0, 1,  2,  1, -1, -1]])"
      ]
     },
     "metadata": {},
     "output_type": "display_data"
    },
    {
     "name": "stdout",
     "output_type": "stream",
     "text": [
      "The cones of the facets [1, 2, 3, 7] and [2, 5, 6, 8] overlap.\n"
     ]
    },
    {
     "data": {
      "text/latex": [
       "$\\displaystyle \\left[\\begin{matrix}1 & 0 & 0 & -2\\\\0 & 1 & 0 & 0\\\\0 & 0 & 1 & -1\\\\0 & 0 & 0 & -1\\end{matrix}\\right] \\left[\\begin{matrix}1\\\\0\\\\1\\\\1\\end{matrix}\\right] = \\left[\\begin{matrix}-1\\\\0\\\\0\\\\-1\\end{matrix}\\right]$"
      ],
      "text/plain": [
       "Eq(Matrix([\n",
       "[1, 0, 0, -2],\n",
       "[0, 1, 0,  0],\n",
       "[0, 0, 1, -1],\n",
       "[0, 0, 0, -1]])*Matrix([\n",
       "[1],\n",
       "[0],\n",
       "[1],\n",
       "[1]]), Matrix([\n",
       "[-1],\n",
       "[ 0],\n",
       "[ 0],\n",
       "[-1]]))"
      ]
     },
     "metadata": {},
     "output_type": "display_data"
    },
    {
     "data": {
      "text/latex": [
       "$\\displaystyle \\left[\\begin{matrix}0 & 3 & 2 & -1\\\\1 & -1 & -1 & 0\\\\0 & 1 & 0 & 0\\\\0 & 2 & 1 & -1\\end{matrix}\\right] \\left[\\begin{matrix}0\\\\0\\\\0\\\\1\\end{matrix}\\right] = \\left[\\begin{matrix}-1\\\\0\\\\0\\\\-1\\end{matrix}\\right]$"
      ],
      "text/plain": [
       "Eq(Matrix([\n",
       "[0,  3,  2, -1],\n",
       "[1, -1, -1,  0],\n",
       "[0,  1,  0,  0],\n",
       "[0,  2,  1, -1]])*Matrix([\n",
       "[0],\n",
       "[0],\n",
       "[0],\n",
       "[1]]), Matrix([\n",
       "[-1],\n",
       "[ 0],\n",
       "[ 0],\n",
       "[-1]]))"
      ]
     },
     "metadata": {},
     "output_type": "display_data"
    }
   ],
   "source": [
    "F1 = C.cpx.cpx[1]\n",
    "coeff1 = [1, 0, 1, 1]\n",
    "F2 = C.cpx.cpx[13]\n",
    "coeff2 = [0, 0, 0, 1]\n",
    "display(C.char)\n",
    "print('The cones of the facets %s and %s overlap.'%(F1, F2))\n",
    "display(sp.Eq(sp.MatMul(C.vector(F1), sp.Matrix(coeff1)), C.vector_sum(F1, coeff1)))\n",
    "display(sp.Eq(sp.MatMul(C.vector(F2), sp.Matrix(coeff2)), C.vector_sum(F2, coeff2)))\n",
    "positive_maps.append(C.char)"
   ]
  },
  {
   "cell_type": "markdown",
   "id": "e7d446bd-f586-4a67-9dc0-52a6f400f238",
   "metadata": {
    "jp-MarkdownHeadingCollapsed": true
   },
   "source": [
    "### $b_2=b_3$ ($a_0 \\not= 0$, $c_0 \\not= 0$, $c_1 \\not= 0$)"
   ]
  },
  {
   "cell_type": "code",
   "execution_count": 65,
   "id": "1a2ec371-6fb9-46fe-b6a6-15d2695c8acc",
   "metadata": {},
   "outputs": [],
   "source": [
    "C3=copy.deepcopy(C2)\n",
    "C=C3\n",
    "C.subs(b2, b3)"
   ]
  },
  {
   "cell_type": "code",
   "execution_count": 66,
   "id": "077c31b0-14d7-4789-aa52-694fe995ef76",
   "metadata": {},
   "outputs": [
    {
     "name": "stdout",
     "output_type": "stream",
     "text": [
      "facet number: 4\n"
     ]
    },
    {
     "data": {
      "text/latex": [
       "$\\displaystyle a_{3} b_{1} + b_{3} = -1$"
      ],
      "text/plain": [
       "Eq(a3*b1 + b3, -1)"
      ]
     },
     "metadata": {},
     "output_type": "display_data"
    },
    {
     "name": "stdout",
     "output_type": "stream",
     "text": [
      "facet number: 6\n"
     ]
    },
    {
     "data": {
      "text/latex": [
       "$\\displaystyle - a_{2} b_{1} - b_{3} = 1$"
      ],
      "text/plain": [
       "Eq(-a2*b1 - b3, 1)"
      ]
     },
     "metadata": {},
     "output_type": "display_data"
    },
    {
     "data": {
      "text/latex": [
       "$\\displaystyle - a_{2} b_{1} + a_{3} b_{1} = 0$"
      ],
      "text/plain": [
       "Eq(-a2*b1 + a3*b1, 0)"
      ]
     },
     "metadata": {},
     "output_type": "display_data"
    },
    {
     "name": "stdout",
     "output_type": "stream",
     "text": [
      "facet number: 12\n"
     ]
    },
    {
     "data": {
      "text/latex": [
       "$\\displaystyle - a_{2} b_{0} - a_{2} b_{3} c_{0} + a_{3} b_{0} + a_{3} b_{3} c_{0} = 1$"
      ],
      "text/plain": [
       "Eq(-a2*b0 - a2*b3*c0 + a3*b0 + a3*b3*c0, 1)"
      ]
     },
     "metadata": {},
     "output_type": "display_data"
    },
    {
     "name": "stdout",
     "output_type": "stream",
     "text": [
      "a2 != a3 => b1=0\n"
     ]
    }
   ],
   "source": [
    "i=4\n",
    "print('facet number:', i)\n",
    "display(sp.Eq(C.determinants[i], C.orientation[i]))\n",
    "\n",
    "i=6\n",
    "print('facet number:', i)\n",
    "display(sp.Eq(C.determinants[i], C.orientation[i]))\n",
    "\n",
    "display(sp.Eq(C.determinants[4] + C.determinants[6], C.orientation[4] + C.orientation[6]))\n",
    "\n",
    "i=12\n",
    "print('facet number:', i)\n",
    "display(sp.Eq(C.determinants[i], C.orientation[i]))\n",
    "\n",
    "print('a2 != a3 => b1=0')\n",
    "\n",
    "C.subs(b1, 0)"
   ]
  },
  {
   "cell_type": "code",
   "execution_count": 67,
   "id": "fa0a550c-ad0a-4f37-9d4a-7ec0a1c87ff1",
   "metadata": {},
   "outputs": [
    {
     "name": "stdout",
     "output_type": "stream",
     "text": [
      "facet number: 4\n"
     ]
    },
    {
     "data": {
      "text/latex": [
       "$\\displaystyle b_{3} = -1$"
      ],
      "text/plain": [
       "Eq(b3, -1)"
      ]
     },
     "metadata": {},
     "output_type": "display_data"
    }
   ],
   "source": [
    "i=4\n",
    "print('facet number:', i)\n",
    "display(sp.Eq(C.determinants[i], C.orientation[i]))\n",
    "\n",
    "C.subs(b3, -1)"
   ]
  },
  {
   "cell_type": "code",
   "execution_count": 68,
   "id": "ae1a8684-3a80-4aa4-b996-aa2d51baf69d",
   "metadata": {},
   "outputs": [
    {
     "name": "stdout",
     "output_type": "stream",
     "text": [
      "facet number: 5\n"
     ]
    },
    {
     "data": {
      "text/latex": [
       "$\\displaystyle - c_{1} = -1$"
      ],
      "text/plain": [
       "Eq(-c1, -1)"
      ]
     },
     "metadata": {},
     "output_type": "display_data"
    }
   ],
   "source": [
    "i=5\n",
    "print('facet number:', i)\n",
    "display(sp.Eq(C.determinants[i], C.orientation[i]))\n",
    "\n",
    "C.subs(c1, 1)"
   ]
  },
  {
   "cell_type": "code",
   "execution_count": 69,
   "id": "641f5391-b746-4a8a-8e18-1047b2819fb6",
   "metadata": {},
   "outputs": [
    {
     "name": "stdout",
     "output_type": "stream",
     "text": [
      "facet number: 14\n"
     ]
    },
    {
     "data": {
      "text/latex": [
       "$\\displaystyle d_{3} \\left(b_{0} - c_{0}\\right) = -1$"
      ],
      "text/plain": [
       "Eq(d3*(b0 - c0), -1)"
      ]
     },
     "metadata": {},
     "output_type": "display_data"
    }
   ],
   "source": [
    "i=14\n",
    "print('facet number:', i)\n",
    "display(sp.Eq(C.determinants[i], C.orientation[i]))"
   ]
  },
  {
   "cell_type": "markdown",
   "id": "77c39e7d-aab7-4486-a700-3fa6f3f7e167",
   "metadata": {
    "jp-MarkdownHeadingCollapsed": true
   },
   "source": [
    "#### $d_3=1$ ($a_0 \\not= 0$, $c_0 \\not= 0$, $c_1 \\not= 0$)"
   ]
  },
  {
   "cell_type": "code",
   "execution_count": 70,
   "id": "f09d6ce8-2dcb-45cd-9e4d-dfd0da8bb904",
   "metadata": {},
   "outputs": [],
   "source": [
    "C4=copy.deepcopy(C3)\n",
    "C=C4\n",
    "C.subs(d3, 1)"
   ]
  },
  {
   "cell_type": "code",
   "execution_count": 71,
   "id": "78f87183-e471-429d-9d95-3c3a0795dbb4",
   "metadata": {},
   "outputs": [
    {
     "name": "stdout",
     "output_type": "stream",
     "text": [
      "facet number: 10\n"
     ]
    },
    {
     "data": {
      "text/latex": [
       "$\\displaystyle a_{0} + a_{3} = -1$"
      ],
      "text/plain": [
       "Eq(a0 + a3, -1)"
      ]
     },
     "metadata": {},
     "output_type": "display_data"
    }
   ],
   "source": [
    "i=10\n",
    "print('facet number:', i)\n",
    "display(sp.Eq(C.determinants[i], C.orientation[i]))\n",
    "\n",
    "C.subs(a0, -a3-1)"
   ]
  },
  {
   "cell_type": "code",
   "execution_count": 72,
   "id": "a007f048-ace7-4c06-9e6b-7f71f493072e",
   "metadata": {},
   "outputs": [
    {
     "name": "stdout",
     "output_type": "stream",
     "text": [
      "facet number: 14\n"
     ]
    },
    {
     "data": {
      "text/latex": [
       "$\\displaystyle b_{0} - c_{0} = -1$"
      ],
      "text/plain": [
       "Eq(b0 - c0, -1)"
      ]
     },
     "metadata": {},
     "output_type": "display_data"
    }
   ],
   "source": [
    "i=14\n",
    "print('facet number:', i)\n",
    "display(sp.Eq(C.determinants[i], C.orientation[i]))\n",
    "\n",
    "C.subs(b0, c0-1)"
   ]
  },
  {
   "cell_type": "code",
   "execution_count": 73,
   "id": "93240b24-43bd-4333-b3bc-c557fa97f064",
   "metadata": {},
   "outputs": [
    {
     "name": "stdout",
     "output_type": "stream",
     "text": [
      "facet number: 12\n"
     ]
    },
    {
     "data": {
      "text/latex": [
       "$\\displaystyle a_{2} - a_{3} = 1$"
      ],
      "text/plain": [
       "Eq(a2 - a3, 1)"
      ]
     },
     "metadata": {},
     "output_type": "display_data"
    }
   ],
   "source": [
    "i=12\n",
    "print('facet number:', i)\n",
    "display(sp.Eq(C.determinants[i], C.orientation[i]))\n",
    "\n",
    "C.subs(a3, a2-1)"
   ]
  },
  {
   "cell_type": "code",
   "execution_count": 74,
   "id": "e654e5e8-eacc-470b-befe-c875a00bd0a8",
   "metadata": {},
   "outputs": [
    {
     "name": "stdout",
     "output_type": "stream",
     "text": [
      "facet number: 13\n"
     ]
    },
    {
     "data": {
      "text/latex": [
       "$\\displaystyle a_{2} c_{0} - 2 a_{2} - 1 = -1$"
      ],
      "text/plain": [
       "Eq(a2*c0 - 2*a2 - 1, -1)"
      ]
     },
     "metadata": {},
     "output_type": "display_data"
    },
    {
     "name": "stdout",
     "output_type": "stream",
     "text": [
      "facet number: 16\n"
     ]
    },
    {
     "data": {
      "text/latex": [
       "$\\displaystyle a_{2} c_{0} - 2 a_{2} - c_{0} + 2 = -1$"
      ],
      "text/plain": [
       "Eq(a2*c0 - 2*a2 - c0 + 2, -1)"
      ]
     },
     "metadata": {},
     "output_type": "display_data"
    },
    {
     "name": "stdout",
     "output_type": "stream",
     "text": [
      "c0 != 2 => a2 = 0\n"
     ]
    }
   ],
   "source": [
    "i=13\n",
    "print('facet number:', i)\n",
    "display(sp.Eq(C.determinants[i], C.orientation[i]))\n",
    "\n",
    "i=16\n",
    "print('facet number:', i)\n",
    "display(sp.Eq(C.determinants[i], C.orientation[i]))\n",
    "\n",
    "print('c0 != 2 => a2 = 0')\n",
    "\n",
    "C.subs(a2, 0)"
   ]
  },
  {
   "cell_type": "code",
   "execution_count": 75,
   "id": "65edac2a-f32c-4da6-9b5f-78e9499ac1c5",
   "metadata": {},
   "outputs": [
    {
     "name": "stdout",
     "output_type": "stream",
     "text": [
      "facet number: 9\n"
     ]
    },
    {
     "data": {
      "text/latex": [
       "$\\displaystyle c_{0} = 1$"
      ],
      "text/plain": [
       "Eq(c0, 1)"
      ]
     },
     "metadata": {},
     "output_type": "display_data"
    },
    {
     "name": "stdout",
     "output_type": "stream",
     "text": [
      "facet number: 16\n"
     ]
    },
    {
     "data": {
      "text/latex": [
       "$\\displaystyle 2 - c_{0} = -1$"
      ],
      "text/plain": [
       "Eq(2 - c0, -1)"
      ]
     },
     "metadata": {},
     "output_type": "display_data"
    },
    {
     "name": "stdout",
     "output_type": "stream",
     "text": [
      "no solution\n"
     ]
    }
   ],
   "source": [
    "i=9\n",
    "print('facet number:', i)\n",
    "display(sp.Eq(C.determinants[i], C.orientation[i]))\n",
    "\n",
    "i=16\n",
    "print('facet number:', i)\n",
    "display(sp.Eq(C.determinants[i], C.orientation[i]))\n",
    "\n",
    "print('no solution')"
   ]
  },
  {
   "cell_type": "markdown",
   "id": "9ef9e481-614e-4587-867c-6555349c385a",
   "metadata": {
    "jp-MarkdownHeadingCollapsed": true
   },
   "source": [
    "#### $d_3 = -1$ ($a_0 \\not= 0$, $c_0 \\not= 0$, $c_1 \\not= 0$)"
   ]
  },
  {
   "cell_type": "code",
   "execution_count": 76,
   "id": "da554224-94aa-4f4d-85b0-1e2bcb30a1c8",
   "metadata": {},
   "outputs": [],
   "source": [
    "C4=copy.deepcopy(C3)\n",
    "C=C4\n",
    "C.subs(d3, -1)"
   ]
  },
  {
   "cell_type": "code",
   "execution_count": 77,
   "id": "ef03a900-cddc-498a-bc5e-b7b708f4a3cf",
   "metadata": {},
   "outputs": [
    {
     "name": "stdout",
     "output_type": "stream",
     "text": [
      "facet number: 10\n"
     ]
    },
    {
     "data": {
      "text/latex": [
       "$\\displaystyle - a_{0} + a_{3} = -1$"
      ],
      "text/plain": [
       "Eq(-a0 + a3, -1)"
      ]
     },
     "metadata": {},
     "output_type": "display_data"
    }
   ],
   "source": [
    "i=10\n",
    "print('facet number:', i)\n",
    "display(sp.Eq(C.determinants[i], C.orientation[i]))\n",
    "\n",
    "C.subs(a0, a3+1)"
   ]
  },
  {
   "cell_type": "code",
   "execution_count": 78,
   "id": "0c9c5321-df8c-4f09-a128-fa72ef23183f",
   "metadata": {},
   "outputs": [
    {
     "name": "stdout",
     "output_type": "stream",
     "text": [
      "facet number: 14\n"
     ]
    },
    {
     "data": {
      "text/latex": [
       "$\\displaystyle - b_{0} + c_{0} = -1$"
      ],
      "text/plain": [
       "Eq(-b0 + c0, -1)"
      ]
     },
     "metadata": {},
     "output_type": "display_data"
    }
   ],
   "source": [
    "i=14\n",
    "print('facet number:', i)\n",
    "display(sp.Eq(C.determinants[i], C.orientation[i]))\n",
    "\n",
    "C.subs(b0, c0+1)"
   ]
  },
  {
   "cell_type": "code",
   "execution_count": 79,
   "id": "d31a5588-694f-4bfc-84d9-943f79ac7354",
   "metadata": {},
   "outputs": [
    {
     "name": "stdout",
     "output_type": "stream",
     "text": [
      "facet number: 12\n"
     ]
    },
    {
     "data": {
      "text/latex": [
       "$\\displaystyle - a_{2} + a_{3} = 1$"
      ],
      "text/plain": [
       "Eq(-a2 + a3, 1)"
      ]
     },
     "metadata": {},
     "output_type": "display_data"
    }
   ],
   "source": [
    "i=12\n",
    "print('facet number:', i)\n",
    "display(sp.Eq(C.determinants[i], C.orientation[i]))\n",
    "\n",
    "C.subs(a3, a2+1)"
   ]
  },
  {
   "cell_type": "code",
   "execution_count": 80,
   "id": "57c668f7-7139-4fb8-abf2-41b37c98f444",
   "metadata": {},
   "outputs": [
    {
     "name": "stdout",
     "output_type": "stream",
     "text": [
      "facet number: 13\n"
     ]
    },
    {
     "data": {
      "text/latex": [
       "$\\displaystyle - a_{2} c_{0} - 2 a_{2} - 1 = -1$"
      ],
      "text/plain": [
       "Eq(-a2*c0 - 2*a2 - 1, -1)"
      ]
     },
     "metadata": {},
     "output_type": "display_data"
    },
    {
     "name": "stdout",
     "output_type": "stream",
     "text": [
      "facet number: 16\n"
     ]
    },
    {
     "data": {
      "text/latex": [
       "$\\displaystyle a_{2} c_{0} + 2 a_{2} + c_{0} + 2 = -1$"
      ],
      "text/plain": [
       "Eq(a2*c0 + 2*a2 + c0 + 2, -1)"
      ]
     },
     "metadata": {},
     "output_type": "display_data"
    },
    {
     "name": "stdout",
     "output_type": "stream",
     "text": [
      "c0 != -2 => a2 = 0\n"
     ]
    }
   ],
   "source": [
    "i=13\n",
    "print('facet number:', i)\n",
    "display(sp.Eq(C.determinants[i], C.orientation[i]))\n",
    "\n",
    "i=16\n",
    "print('facet number:', i)\n",
    "display(sp.Eq(C.determinants[i], C.orientation[i]))\n",
    "\n",
    "print('c0 != -2 => a2 = 0')\n",
    "\n",
    "C.subs(a2, 0)"
   ]
  },
  {
   "cell_type": "code",
   "execution_count": 81,
   "id": "198ccebc-046f-4ced-a4f1-eaa9d86fdef6",
   "metadata": {},
   "outputs": [
    {
     "name": "stdout",
     "output_type": "stream",
     "text": [
      "facet number: 9\n"
     ]
    },
    {
     "data": {
      "text/latex": [
       "$\\displaystyle - c_{0} - 2 = 1$"
      ],
      "text/plain": [
       "Eq(-c0 - 2, 1)"
      ]
     },
     "metadata": {},
     "output_type": "display_data"
    }
   ],
   "source": [
    "i=9\n",
    "print('facet number:', i)\n",
    "display(sp.Eq(C.determinants[i], C.orientation[i]))\n",
    "\n",
    "C.subs(c0, -3)"
   ]
  },
  {
   "cell_type": "code",
   "execution_count": 82,
   "id": "91341c3b-950d-4c98-8d72-09c45d18d3ab",
   "metadata": {},
   "outputs": [
    {
     "data": {
      "text/latex": [
       "$\\displaystyle \\left[\\begin{matrix}1 & 0 & 0 & 0 & 2 & -2 & -3 & -1\\\\0 & 1 & 0 & 0 & -1 & 0 & 1 & 0\\\\0 & 0 & 1 & 0 & 0 & -1 & -1 & 0\\\\0 & 0 & 0 & 1 & 1 & -1 & -1 & -1\\end{matrix}\\right]$"
      ],
      "text/plain": [
       "Matrix([\n",
       "[1, 0, 0, 0,  2, -2, -3, -1],\n",
       "[0, 1, 0, 0, -1,  0,  1,  0],\n",
       "[0, 0, 1, 0,  0, -1, -1,  0],\n",
       "[0, 0, 0, 1,  1, -1, -1, -1]])"
      ]
     },
     "metadata": {},
     "output_type": "display_data"
    }
   ],
   "source": [
    "display(C.char)"
   ]
  },
  {
   "cell_type": "code",
   "execution_count": 83,
   "id": "e3f00a31-1e64-4103-9641-5e5fd8c3b09b",
   "metadata": {},
   "outputs": [
    {
     "data": {
      "text/latex": [
       "$\\displaystyle \\left[\\begin{matrix}1 & 0 & 0 & 0 & 2 & -2 & -3 & -1\\\\0 & 1 & 0 & 0 & -1 & 0 & 1 & 0\\\\0 & 0 & 1 & 0 & 0 & -1 & -1 & 0\\\\0 & 0 & 0 & 1 & 1 & -1 & -1 & -1\\end{matrix}\\right]$"
      ],
      "text/plain": [
       "Matrix([\n",
       "[1, 0, 0, 0,  2, -2, -3, -1],\n",
       "[0, 1, 0, 0, -1,  0,  1,  0],\n",
       "[0, 0, 1, 0,  0, -1, -1,  0],\n",
       "[0, 0, 0, 1,  1, -1, -1, -1]])"
      ]
     },
     "metadata": {},
     "output_type": "display_data"
    },
    {
     "name": "stdout",
     "output_type": "stream",
     "text": [
      "The cones of the facets [1, 3, 5, 6] and [2, 4, 7, 8] overlap.\n"
     ]
    },
    {
     "data": {
      "text/latex": [
       "$\\displaystyle \\left[\\begin{matrix}1 & 0 & 2 & -2\\\\0 & 0 & -1 & 0\\\\0 & 1 & 0 & -1\\\\0 & 0 & 1 & -1\\end{matrix}\\right] \\left[\\begin{matrix}1\\\\1\\\\0\\\\1\\end{matrix}\\right] = \\left[\\begin{matrix}-1\\\\0\\\\0\\\\-1\\end{matrix}\\right]$"
      ],
      "text/plain": [
       "Eq(Matrix([\n",
       "[1, 0,  2, -2],\n",
       "[0, 0, -1,  0],\n",
       "[0, 1,  0, -1],\n",
       "[0, 0,  1, -1]])*Matrix([\n",
       "[1],\n",
       "[1],\n",
       "[0],\n",
       "[1]]), Matrix([\n",
       "[-1],\n",
       "[ 0],\n",
       "[ 0],\n",
       "[-1]]))"
      ]
     },
     "metadata": {},
     "output_type": "display_data"
    },
    {
     "data": {
      "text/latex": [
       "$\\displaystyle \\left[\\begin{matrix}0 & 0 & -3 & -1\\\\1 & 0 & 1 & 0\\\\0 & 0 & -1 & 0\\\\0 & 1 & -1 & -1\\end{matrix}\\right] \\left[\\begin{matrix}0\\\\0\\\\0\\\\1\\end{matrix}\\right] = \\left[\\begin{matrix}-1\\\\0\\\\0\\\\-1\\end{matrix}\\right]$"
      ],
      "text/plain": [
       "Eq(Matrix([\n",
       "[0, 0, -3, -1],\n",
       "[1, 0,  1,  0],\n",
       "[0, 0, -1,  0],\n",
       "[0, 1, -1, -1]])*Matrix([\n",
       "[0],\n",
       "[0],\n",
       "[0],\n",
       "[1]]), Matrix([\n",
       "[-1],\n",
       "[ 0],\n",
       "[ 0],\n",
       "[-1]]))"
      ]
     },
     "metadata": {},
     "output_type": "display_data"
    }
   ],
   "source": [
    "F1 = C.cpx.cpx[4]\n",
    "coeff1 = [1, 1, 0, 1]\n",
    "F2 = C.cpx.cpx[11]\n",
    "coeff2 = [0, 0, 0, 1]\n",
    "display(C.char)\n",
    "print('The cones of the facets %s and %s overlap.'%(F1, F2))\n",
    "display(sp.Eq(sp.MatMul(C.vector(F1), sp.Matrix(coeff1)), C.vector_sum(F1, coeff1)))\n",
    "display(sp.Eq(sp.MatMul(C.vector(F2), sp.Matrix(coeff2)), C.vector_sum(F2, coeff2)))\n",
    "positive_maps.append(C.char)"
   ]
  },
  {
   "cell_type": "markdown",
   "id": "515ab8c8-5c61-4be2-b3c8-97dc3d731ffb",
   "metadata": {},
   "source": [
    "# There are two positive characteristic maps up to D-J equivalence."
   ]
  },
  {
   "cell_type": "code",
   "execution_count": 84,
   "id": "2122d4e5-4a83-460a-a796-fc3200fdc662",
   "metadata": {},
   "outputs": [
    {
     "data": {
      "text/latex": [
       "$\\displaystyle \\left[\\begin{matrix}1 & 0 & 0 & 0 & 3 & 2 & -2 & -1\\\\0 & 1 & 0 & 0 & -1 & -1 & 0 & 0\\\\0 & 0 & 1 & 0 & 1 & 0 & -1 & 0\\\\0 & 0 & 0 & 1 & 2 & 1 & -1 & -1\\end{matrix}\\right]$"
      ],
      "text/plain": [
       "Matrix([\n",
       "[1, 0, 0, 0,  3,  2, -2, -1],\n",
       "[0, 1, 0, 0, -1, -1,  0,  0],\n",
       "[0, 0, 1, 0,  1,  0, -1,  0],\n",
       "[0, 0, 0, 1,  2,  1, -1, -1]])"
      ]
     },
     "metadata": {},
     "output_type": "display_data"
    },
    {
     "data": {
      "text/latex": [
       "$\\displaystyle \\left[\\begin{matrix}1 & 0 & 0 & 0 & 2 & -2 & -3 & -1\\\\0 & 1 & 0 & 0 & -1 & 0 & 1 & 0\\\\0 & 0 & 1 & 0 & 0 & -1 & -1 & 0\\\\0 & 0 & 0 & 1 & 1 & -1 & -1 & -1\\end{matrix}\\right]$"
      ],
      "text/plain": [
       "Matrix([\n",
       "[1, 0, 0, 0,  2, -2, -3, -1],\n",
       "[0, 1, 0, 0, -1,  0,  1,  0],\n",
       "[0, 0, 1, 0,  0, -1, -1,  0],\n",
       "[0, 0, 0, 1,  1, -1, -1, -1]])"
      ]
     },
     "metadata": {},
     "output_type": "display_data"
    }
   ],
   "source": [
    "for f in positive_maps:\n",
    "    display(f)"
   ]
  }
 ],
 "metadata": {
  "kernelspec": {
   "display_name": "Python 3 (ipykernel)",
   "language": "python",
   "name": "python3"
  },
  "language_info": {
   "codemirror_mode": {
    "name": "ipython",
    "version": 3
   },
   "file_extension": ".py",
   "mimetype": "text/x-python",
   "name": "python",
   "nbconvert_exporter": "python",
   "pygments_lexer": "ipython3",
   "version": "3.12.7"
  }
 },
 "nbformat": 4,
 "nbformat_minor": 5
}
