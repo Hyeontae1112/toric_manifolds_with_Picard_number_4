{
 "cells": [
  {
   "cell_type": "markdown",
   "id": "8221a95e",
   "metadata": {},
   "source": [
    "# Fans of dimension 7\n",
    "\n",
    "Fans with $k$ indeterminates are encoded as functions with \n",
    "- **inputs**: $k$ integer\n",
    "- **output**: the corresponding fan after fixing the indeterminates to the input values."
   ]
  },
  {
   "cell_type": "code",
   "execution_count": null,
   "id": "552559a3",
   "metadata": {
    "vscode": {
     "languageId": "julia"
    }
   },
   "outputs": [
    {
     "data": {
      "text/plain": [
       "IM (generic function with 1 method)"
      ]
     },
     "metadata": {},
     "output_type": "display_data"
    }
   ],
   "source": [
    "using Oscar\n",
    "function IM(K)\n",
    "    return(incidence_matrix([[Base.Integer(i) for i in facet] for facet in facets(K)]))\n",
    "end"
   ]
  },
  {
   "cell_type": "markdown",
   "id": "fe74f319",
   "metadata": {},
   "source": [
    "### $K_{49}^6$"
   ]
  },
  {
   "cell_type": "code",
   "execution_count": null,
   "id": "0e4a8e89",
   "metadata": {
    "vscode": {
     "languageId": "julia"
    }
   },
   "outputs": [
    {
     "name": "stdout",
     "output_type": "stream",
     "text": [
      "true"
     ]
    }
   ],
   "source": [
    "K_49_6 = load(\"./Oscar_fanlike_seeds/K_49_6\")\n",
    "fans_K_49_6 =Vector{Function}()\n",
    "push!(fans_K_49_6,()->polyhedral_fan(IM(K_49_6),\n",
    "[1 0 0 0 0 0 0;0 1 0 0 0 0 0;0 0 1 0 0 0 0;0 0 0 1 0 0 0;0 0 0 0 1 0 0;0 0 0 0 0 1 0;0 0 0 0 0 0 1;-1 0 0 -1 0 -1 0;1 -1 0 1 -1 0 -1;0 2 -1 -1 1 1 1;0 1 -1 -1 0 0 1]))\n",
    "print(is_smooth(fans_K_49_6[1]()))"
   ]
  },
  {
   "cell_type": "markdown",
   "id": "8b4b2b74",
   "metadata": {},
   "source": [
    "### $K_{50}^6$"
   ]
  },
  {
   "cell_type": "code",
   "execution_count": null,
   "id": "8d1badeb",
   "metadata": {
    "vscode": {
     "languageId": "julia"
    }
   },
   "outputs": [
    {
     "name": "stdout",
     "output_type": "stream",
     "text": [
      "true"
     ]
    }
   ],
   "source": [
    "K_50_6 = load(\"./Oscar_fanlike_seeds/K_50_6\")\n",
    "fans_K_50_6 =Vector{Function}()\n",
    "push!(fans_K_50_6,()->polyhedral_fan(IM(K_50_6),\n",
    "[1 0 0 0 0 0 0;0 1 0 0 0 0 0;0 0 1 0 0 0 0;0 0 0 1 0 0 0;0 0 0 0 1 0 0;0 0 0 0 0 1 0;0 0 0 0 0 0 1;-1 -1 0 0 0 -1 0;-1 0 -1 1 -1 0 0;0 1 -1 0 -1 0 -1;1 2 -1 -1 0 1 -1]))\n",
    "print(is_smooth(fans_K_50_6[1]()))"
   ]
  },
  {
   "cell_type": "markdown",
   "id": "0a156369",
   "metadata": {},
   "source": [
    "### $K_{51}^6$"
   ]
  },
  {
   "cell_type": "code",
   "execution_count": null,
   "id": "d0576d08",
   "metadata": {
    "vscode": {
     "languageId": "julia"
    }
   },
   "outputs": [
    {
     "name": "stdout",
     "output_type": "stream",
     "text": [
      "true"
     ]
    }
   ],
   "source": [
    "K_51_6 = load(\"./Oscar_fanlike_seeds/K_51_6\")\n",
    "fans_K_51_6 =Vector{Function}()\n",
    "push!(fans_K_51_6,()->polyhedral_fan(IM(K_51_6),\n",
    "[1 0 0 0 0 0 0;0 1 0 0 0 0 0;0 0 1 0 0 0 0;0 0 0 1 0 0 0;0 0 0 0 1 0 0;0 0 0 0 0 1 0;0 0 0 0 0 0 1;-1 -1 0 1 0 0 0;-1 -1 -1 0 -1 -1 0;-1 0 -1 0 -1 0 -1;0 1 -1 -1 0 1 -1]))\n",
    "print(is_smooth(fans_K_51_6[1]()))"
   ]
  },
  {
   "cell_type": "markdown",
   "id": "8c261b06",
   "metadata": {},
   "source": [
    "### $K_{52}^6$"
   ]
  },
  {
   "cell_type": "code",
   "execution_count": null,
   "id": "8f6c26f2",
   "metadata": {
    "vscode": {
     "languageId": "julia"
    }
   },
   "outputs": [
    {
     "name": "stdout",
     "output_type": "stream",
     "text": [
      "true"
     ]
    }
   ],
   "source": [
    "K_52_6 = load(\"./Oscar_fanlike_seeds/K_52_6\")\n",
    "fans_K_52_6 =Vector{Function}()\n",
    "push!(fans_K_52_6,()->polyhedral_fan(IM(K_52_6),\n",
    "[1 0 0 0 0 0 0;0 1 0 0 0 0 0;0 0 1 0 0 0 0;0 0 0 1 0 0 0;0 0 0 0 1 0 0;0 0 0 0 0 1 0;0 0 0 0 0 0 1;1 -1 2 1 -1 0 -1;-1 0 -1 -1 0 0 0;-1 1 -2 -2 1 -1 2;0 1 -1 -1 0 -1 1]))\n",
    "print(is_smooth(fans_K_52_6[1]()))"
   ]
  },
  {
   "cell_type": "markdown",
   "id": "6d2fae09",
   "metadata": {},
   "source": [
    "### $K_{53}^6$"
   ]
  },
  {
   "cell_type": "code",
   "execution_count": null,
   "id": "df51c072",
   "metadata": {
    "vscode": {
     "languageId": "julia"
    }
   },
   "outputs": [
    {
     "name": "stdout",
     "output_type": "stream",
     "text": [
      "true"
     ]
    }
   ],
   "source": [
    "K_53_6 = load(\"./Oscar_fanlike_seeds/K_53_6\")\n",
    "fans_K_53_6 =Vector{Function}()\n",
    "push!(fans_K_53_6,(x0,x1,x2)->polyhedral_fan(IM(K_53_6),\n",
    "[1 0 0 0 0 0 0;0 1 0 0 0 0 0;0 0 1 0 0 0 0;0 0 0 1 0 0 0;0 0 0 0 1 0 0;0 0 0 0 0 1 0;0 0 0 0 0 0 1;-1 -1 1 0 1 0 -1;-1 -2 1 1 2 -1 -1;-1 -1 0 0 0 -1 0;x0 x1 -1 -1 -1 x2 0] ))\n",
    "print(is_smooth(fans_K_53_6[1](0,0,0)))"
   ]
  },
  {
   "cell_type": "markdown",
   "id": "b1b5057a",
   "metadata": {},
   "source": [
    "### $K_{54}^6$"
   ]
  },
  {
   "cell_type": "code",
   "execution_count": null,
   "id": "6b0b2d54",
   "metadata": {
    "vscode": {
     "languageId": "julia"
    }
   },
   "outputs": [
    {
     "name": "stdout",
     "output_type": "stream",
     "text": [
      "true"
     ]
    }
   ],
   "source": [
    "K_54_6 = load(\"./Oscar_fanlike_seeds/K_54_6\")\n",
    "fans_K_54_6 =Vector{Function}()\n",
    "push!(fans_K_54_6,()->polyhedral_fan(IM(K_54_6),\n",
    "[1 0 0 0 0 0 0;0 1 0 0 0 0 0;0 0 1 0 0 0 0;0 0 0 1 0 0 0;0 0 0 0 1 0 0;0 0 0 0 0 1 0;0 0 0 0 0 0 1;1 -1 2 1 -1 0 1;-1 0 -1 -1 0 0 -1;-1 1 -2 -2 1 -1 -1;0 1 -1 -1 0 -1 -1]))\n",
    "print(is_smooth(fans_K_54_6[1]()))"
   ]
  },
  {
   "cell_type": "markdown",
   "id": "1df85f64",
   "metadata": {},
   "source": [
    "### $K_{55}^6$"
   ]
  },
  {
   "cell_type": "code",
   "execution_count": null,
   "id": "431e79ba",
   "metadata": {
    "vscode": {
     "languageId": "julia"
    }
   },
   "outputs": [
    {
     "name": "stdout",
     "output_type": "stream",
     "text": [
      "true"
     ]
    }
   ],
   "source": [
    "K_55_6 = load(\"./Oscar_fanlike_seeds/K_55_6\")\n",
    "fans_K_55_6 =Vector{Function}()\n",
    "push!(fans_K_55_6,()->polyhedral_fan(IM(K_55_6),\n",
    "[1 0 0 0 0 0 0;0 1 0 0 0 0 0;0 0 1 0 0 0 0;0 0 0 1 0 0 0;0 0 0 0 1 0 0;0 0 0 0 0 1 0;0 0 0 0 0 0 1;0 -1 0 -1 0 -1 -1;-1 -2 -1 -1 -1 -1 -1;0 -1 -1 -1 -1 -1 0;1 0 -1 -1 0 0 0]))\n",
    "print(is_smooth(fans_K_55_6[1]()))"
   ]
  },
  {
   "cell_type": "markdown",
   "id": "76c358db",
   "metadata": {},
   "source": [
    "### $K_{56}^6$"
   ]
  },
  {
   "cell_type": "code",
   "execution_count": null,
   "id": "a5b02265",
   "metadata": {
    "vscode": {
     "languageId": "julia"
    }
   },
   "outputs": [
    {
     "name": "stdout",
     "output_type": "stream",
     "text": [
      "true"
     ]
    }
   ],
   "source": [
    "K_56_6 = load(\"./Oscar_fanlike_seeds/K_56_6\")\n",
    "fans_K_56_6 =Vector{Function}()\n",
    "push!(fans_K_56_6,()->polyhedral_fan(IM(K_56_6),\n",
    "[1 0 0 0 0 0 0;0 1 0 0 0 0 0;0 0 1 0 0 0 0;0 0 0 1 0 0 0;0 0 0 0 1 0 0;0 0 0 0 0 1 0;0 0 0 0 0 0 1;-1 -2 1 1 -1 -1 -2;0 -1 0 1 0 -1 -1;0 2 -1 -1 1 0 1;-1 -1 0 0 -1 -1 -1]))\n",
    "print(is_smooth(fans_K_56_6[1]()))"
   ]
  },
  {
   "cell_type": "markdown",
   "id": "b2aad130",
   "metadata": {},
   "source": [
    "### $K_{57}^6$"
   ]
  },
  {
   "cell_type": "code",
   "execution_count": null,
   "id": "27a91cad",
   "metadata": {
    "vscode": {
     "languageId": "julia"
    }
   },
   "outputs": [
    {
     "name": "stdout",
     "output_type": "stream",
     "text": [
      "true"
     ]
    }
   ],
   "source": [
    "K_57_6 = load(\"./Oscar_fanlike_seeds/K_57_6\")\n",
    "fans_K_57_6 =Vector{Function}()\n",
    "push!(fans_K_57_6,()->polyhedral_fan(IM(K_57_6),\n",
    "[1 0 0 0 0 0 0;0 1 0 0 0 0 0;0 0 1 0 0 0 0;0 0 0 1 0 0 0;0 0 0 0 1 0 0;0 0 0 0 0 1 0;0 0 0 0 0 0 1;-1 -1 0 1 0 -1 0;-1 -1 -1 0 -1 -1 0;-1 0 -1 0 -1 0 -1;0 1 -1 -1 0 0 -1]))\n",
    "print(is_smooth(fans_K_57_6[1]()))"
   ]
  }
 ],
 "metadata": {
  "language_info": {
   "name": "python"
  }
 },
 "nbformat": 4,
 "nbformat_minor": 5
}
