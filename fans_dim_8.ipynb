{
 "cells": [
  {
   "cell_type": "markdown",
   "id": "42690c67",
   "metadata": {},
   "source": [
    "# Fans of dimension 8\n",
    "\n",
    "Fans with $k$ indeterminates are encoded as functions with \n",
    "- **inputs**: $k$ integer\n",
    "- **output**: the corresponding fan after fixing the indeterminates to the input values."
   ]
  },
  {
   "cell_type": "code",
   "execution_count": null,
   "id": "aa0a10ff",
   "metadata": {
    "vscode": {
     "languageId": "julia"
    }
   },
   "outputs": [
    {
     "data": {
      "text/plain": [
       "IM (generic function with 1 method)"
      ]
     },
     "metadata": {},
     "output_type": "display_data"
    }
   ],
   "source": [
    "using Oscar\n",
    "function IM(K)\n",
    "    return(incidence_matrix([[Base.Integer(i) for i in facet] for facet in facets(K)]))\n",
    "end"
   ]
  },
  {
   "cell_type": "markdown",
   "id": "6c67f5b0",
   "metadata": {},
   "source": [
    "### $K_{58}^7$"
   ]
  },
  {
   "cell_type": "code",
   "execution_count": null,
   "id": "2c57e273",
   "metadata": {
    "vscode": {
     "languageId": "julia"
    }
   },
   "outputs": [
    {
     "name": "stdout",
     "output_type": "stream",
     "text": [
      "true"
     ]
    }
   ],
   "source": [
    "K_58_7 = load(\"./Oscar_fanlike_seeds/K_58_7\")\n",
    "fans_K_58_7 =Vector{Function}()\n",
    "push!(fans_K_58_7,()->polyhedral_fan(IM(K_58_7),\n",
    "[1 0 0 0 0 0 0 0;0 1 0 0 0 0 0 0;0 0 1 0 0 0 0 0;0 0 0 1 0 0 0 0;0 0 0 0 1 0 0 0;0 0 0 0 0 1 0 0;0 0 0 0 0 0 1 0;0 0 0 0 0 0 0 1;-1 -2 1 1 -1 -1 -2 -1;0 -1 0 1 0 -1 -1 -1;0 2 -1 -1 1 0 1 1;-1 -1 0 0 -1 -1 -1 -1]))\n",
    "print(is_smooth(fans_K_58_7[1]()))"
   ]
  }
 ],
 "metadata": {
  "language_info": {
   "name": "python"
  }
 },
 "nbformat": 4,
 "nbformat_minor": 5
}
