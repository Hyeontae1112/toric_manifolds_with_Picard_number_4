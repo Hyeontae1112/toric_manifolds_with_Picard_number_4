{
 "cells": [
  {
   "cell_type": "markdown",
   "id": "13129441",
   "metadata": {},
   "source": [
    "# Fans of dimension 3\n",
    "\n",
    "Fans with $k$ indeterminates are encoded as functions with \n",
    "- **inputs**: $k$ integer\n",
    "- **output**: the corresponding fan after fixing the indeterminates to the input values."
   ]
  },
  {
   "cell_type": "code",
   "execution_count": null,
   "id": "6dab2e82",
   "metadata": {
    "vscode": {
     "languageId": "julia"
    }
   },
   "outputs": [
    {
     "data": {
      "text/plain": [
       "IM (generic function with 1 method)"
      ]
     },
     "metadata": {},
     "output_type": "display_data"
    }
   ],
   "source": [
    "using Oscar\n",
    "function IM(K)\n",
    "    return(incidence_matrix([[Base.Integer(i) for i in facet] for facet in facets(K)]))\n",
    "end"
   ]
  },
  {
   "cell_type": "markdown",
   "id": "52f0e7d7",
   "metadata": {},
   "source": [
    "### $K_1^2$"
   ]
  },
  {
   "cell_type": "code",
   "execution_count": null,
   "id": "f33510d0",
   "metadata": {
    "vscode": {
     "languageId": "julia"
    }
   },
   "outputs": [
    {
     "data": {
      "text/plain": [
       "8-element Vector{Function}:\n",
       " #461 (generic function with 1 method)\n",
       " #463 (generic function with 1 method)\n",
       " #465 (generic function with 1 method)\n",
       " #467 (generic function with 1 method)\n",
       " #469 (generic function with 1 method)\n",
       " #471 (generic function with 1 method)\n",
       " #473 (generic function with 1 method)\n",
       " #475 (generic function with 1 method)"
      ]
     },
     "metadata": {},
     "output_type": "display_data"
    }
   ],
   "source": [
    "K_1_2 = load(\"./Oscar_fanlike_seeds/K_1_2\")\n",
    "\n",
    "fans_K_1_2 =Vector{Function}()\n",
    "push!(fans_K_1_2,(x0,x1)->polyhedral_fan(IM(K_1_2),\n",
    "[1 0 0;0 1 0; 0 0 1; x0 -1 x1; -1 0 -1; 0 1 -1;1 2 -1]))\n",
    "push!(fans_K_1_2,(x0,x1)->polyhedral_fan(IM(K_1_2),\n",
    "[1 0 0;0 1 0; 0 0 1; x0 -1 x1; -1 0 -1; -1 1 -2;0 1 -1]))\n",
    "push!(fans_K_1_2,x->polyhedral_fan(IM(K_1_2),\n",
    "[1 0 0;0 1 0; 0 0 1; 0 -1 0; -1 x-2 -1; 0 x-1 -1;1 x -1]))\n",
    "push!(fans_K_1_2,x->polyhedral_fan(IM(K_1_2),\n",
    "[1 0 0;0 1 0; 0 0 1; 0 -1 0; -1 x-1 -1; -1 2*x-1 -2;0 x -1]))\n",
    "push!(fans_K_1_2,(x0,x1)->polyhedral_fan(IM(K_1_2),\n",
    "[1 0 0;0 1 0; 0 0 1; 0 -1 1; -1 -1 0; x0-1 x1-1 -1;x0 x1 -1]))\n",
    "push!(fans_K_1_2,x->polyhedral_fan(IM(K_1_2),\n",
    "[1 0 0;0 1 0; 0 0 1; 0 -1 1; -1 x -x-1; 0 1 -1;1 2 -1]))\n",
    "push!(fans_K_1_2,x->polyhedral_fan(IM(K_1_2),\n",
    "[1 0 0;0 1 0; 0 0 1; 0 -1 1; -1 -x-2 x+1; -1 -x-1 x;0 1 -1]))\n",
    "push!(fans_K_1_2,x->polyhedral_fan(IM(K_1_2),\n",
    "[1 0 0;0 1 0; 0 0 1; 0 -1 x; -1 -1 x-1; 0 0 -1;1 1 -1]))\n"
   ]
  },
  {
   "cell_type": "markdown",
   "id": "912f66eb",
   "metadata": {},
   "source": [
    "### $K_2^2$"
   ]
  },
  {
   "cell_type": "code",
   "execution_count": null,
   "id": "4ceb9c49",
   "metadata": {
    "vscode": {
     "languageId": "julia"
    }
   },
   "outputs": [
    {
     "data": {
      "text/plain": [
       "4-element Vector{Function}:\n",
       " #477 (generic function with 1 method)\n",
       " #479 (generic function with 1 method)\n",
       " #481 (generic function with 1 method)\n",
       " #483 (generic function with 1 method)"
      ]
     },
     "metadata": {},
     "output_type": "display_data"
    }
   ],
   "source": [
    "K_2_2 = load(\"./Oscar_fanlike_seeds/K_2_2\")\n",
    "\n",
    "fans_K_2_2 =Vector{Function}()\n",
    "\n",
    "push!(fans_K_2_2,(x_0,x_1)->polyhedral_fan(IM(K_2_2),\n",
    "[1 0 0;0 1 0;0 0 1;-1 1 0;0 -1 1;1 0 -1;x_0 x_1 -x_0-x_1-1]))\n",
    "push!(fans_K_2_2,(x_0,x_1,x_2)->polyhedral_fan(IM(K_2_2),\n",
    "[1 0 0;0 1 0;0 0 1;-1 x_0 x_1;0 -1 x_2;0 0 -1;-1 x_0-1 x_1+x_2-1]))\n",
    "push!(fans_K_2_2,()->polyhedral_fan(IM(K_2_2),\n",
    "[1 0 0;0 1 0;0 0 1;1 -1 0;0 -1 -1;-1 0 -1;-1 -1 -1]))\n",
    "push!(fans_K_2_2,x->polyhedral_fan(IM(K_2_2),\n",
    "[1 0 0;0 1 0;0 0 1;-1 1 0;0 -1 1;x 0 -1;-1 0 0]))"
   ]
  },
  {
   "cell_type": "markdown",
   "id": "8668ad71",
   "metadata": {},
   "source": [
    "### $K_3^2$"
   ]
  },
  {
   "cell_type": "code",
   "execution_count": null,
   "id": "1fe3c68c",
   "metadata": {
    "vscode": {
     "languageId": "julia"
    }
   },
   "outputs": [
    {
     "data": {
      "text/plain": [
       "3-element Vector{Function}:\n",
       " #485 (generic function with 1 method)\n",
       " #487 (generic function with 1 method)\n",
       " #489 (generic function with 1 method)"
      ]
     },
     "metadata": {},
     "output_type": "display_data"
    }
   ],
   "source": [
    "K_3_2 = load(\"./Oscar_fanlike_seeds/K_3_2\")\n",
    "\n",
    "fans_K_3_2 =Vector{Function}()\n",
    "push!(fans_K_3_2,(x0,x1,x2)->polyhedral_fan(IM(K_3_2),\n",
    "[1 0 0;0 1 0;0 0 1;0 -1 1;0 -1 0;0 x0 -1;-1 x1 x2]))\n",
    "push!(fans_K_3_2,(x0,x1,x2,x3)->polyhedral_fan(IM(K_3_2),\n",
    "[1 0 0;0 1 0;0 0 1;x0 -1 1;x1 -1 0;x2 x3 -1;-1 0 0]))\n",
    "push!(fans_K_3_2,(x0,x1,x2)->polyhedral_fan(IM(K_3_2),\n",
    "[1 0 0;0 1 0;0 0 1;0 -1 1;0 -1 0;x0 x1 -1;-1 x2 0]))\n"
   ]
  },
  {
   "cell_type": "markdown",
   "id": "2d4b57a4",
   "metadata": {},
   "source": [
    "### $K_4^2$"
   ]
  },
  {
   "cell_type": "code",
   "execution_count": null,
   "id": "f08a1a0f",
   "metadata": {
    "vscode": {
     "languageId": "julia"
    }
   },
   "outputs": [
    {
     "data": {
      "text/plain": [
       "3-element Vector{Function}:\n",
       " #491 (generic function with 1 method)\n",
       " #493 (generic function with 1 method)\n",
       " #495 (generic function with 1 method)"
      ]
     },
     "metadata": {},
     "output_type": "display_data"
    }
   ],
   "source": [
    "K_4_2 = load(\"./Oscar_fanlike_seeds/K_4_2\")\n",
    "fans_K_4_2 =Vector{Function}()\n",
    "push!(fans_K_4_2,x->polyhedral_fan(IM(K_4_2),\n",
    "[1 0 0;0 1 0;0 0 1;-1 -1 x;0 0 -1;0 1 -1;1 2 -1] ))\n",
    "push!(fans_K_4_2,(x0,x1)->polyhedral_fan(IM(K_4_2),\n",
    "[1 0 0;0 1 0;0 0 1;-1 -1 1;-1 -2 1;-1 -1 0;x0 x1 -1] ))\n",
    "push!(fans_K_4_2,x->polyhedral_fan(IM(K_4_2),\n",
    "[1 0 0;0 1 0;0 0 1;-1 -1 1;0 -1 0;0 x-1 -1;1 x -1]))"
   ]
  }
 ],
 "metadata": {
  "language_info": {
   "name": "python"
  }
 },
 "nbformat": 4,
 "nbformat_minor": 5
}
