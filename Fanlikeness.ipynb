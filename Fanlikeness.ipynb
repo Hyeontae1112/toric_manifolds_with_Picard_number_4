{
 "cells": [
  {
   "cell_type": "code",
   "execution_count": 1,
   "id": "f50ddaf9-176e-4ede-885d-712c114a57e3",
   "metadata": {},
   "outputs": [],
   "source": [
    "%run Characteristic_Pair.py"
   ]
  },
  {
   "cell_type": "code",
   "execution_count": 2,
   "id": "edf38335-5be3-4a06-92fc-9bbc14bcc66c",
   "metadata": {},
   "outputs": [
    {
     "name": "stdout",
     "output_type": "stream",
     "text": [
      "Fanlikes are provided as tuples of indices in the lists \"CSPLS_n_n+4\" and \"fanlikes\"\n",
      "Refer to documents in the folder \"fanlikes\" for the complete non-singular fans over the seeds in \"fanlikes\".\n",
      "\n",
      "Minimally non-fanlikes are provided as tuples of indices in the lists \"CSPLS_n_n+4\" and \"minimally_non_fanlikes\"\n",
      "Refer to documents in the folder \"minimally non-fanlikes\" to see the seeds in \"minimally_non_fanlikes\" are non-fanlike.\n"
     ]
    }
   ],
   "source": [
    "fanlikes = [Simplicial_Complex(json.loads(K)) for K in read_file('fanlikes')]\n",
    "non_fanlikes = [[] for n in range(12)]\n",
    "minimally_non_fanlikes = [Simplicial_Complex(json.loads(K)) for K in read_file('minimally_non_fanlikes')]\n",
    "CSPLS = [0]*12\n",
    "for n in range(2, 12):\n",
    "    CSPLS[n]=[Simplicial_Complex(json.loads(K)) for K in read_file('CSPLS\\\\CSPLS_%d_%d' % (n, n+4))]\n",
    "print(\"Fanlikes are provided as tuples of indices in the lists \\\"CSPLS_n_n+4\\\" and \\\"fanlikes\\\"\")\n",
    "print(\"Refer to documents in the folder \\\"fanlikes\\\" for the complete non-singular fans over the seeds in \\\"fanlikes\\\".\\n\")\n",
    "print(\"Minimally non-fanlikes are provided as tuples of indices in the lists \\\"CSPLS_n_n+4\\\" and \\\"minimally_non_fanlikes\\\"\")\n",
    "print(\"Refer to documents in the folder \\\"minimally non-fanlikes\\\" to see the seeds in \\\"minimally_non_fanlikes\\\" are non-fanlike.\")"
   ]
  },
  {
   "cell_type": "code",
   "execution_count": 3,
   "id": "a2e68e1e-ff45-4583-8895-1c853d499f15",
   "metadata": {},
   "outputs": [],
   "source": [
    "# cyclic polytope 4, 7\n",
    "C47 = Simplicial_Complex([[1, 2, 3, 4], [2, 3, 4, 5], [1, 2, 4, 5], [1, 3, 4, 7], [1, 2, 3, 7], [1, 2, 5, 6], [1, 2, 6,7], [2, 3, 5, 6], [2, 3, 6, 7], [3, 4, 5, 6], [3, 4, 6, 7], [1, 4, 5, 7], [1, 5, 6, 7], [4, 5, 6, 7]])"
   ]
  },
  {
   "cell_type": "markdown",
   "id": "81801b95-b905-4e78-a66a-08baa53aef5b",
   "metadata": {},
   "source": [
    "# Dimension 2 (n=3)"
   ]
  },
  {
   "cell_type": "code",
   "execution_count": 4,
   "id": "d3d130ab-7f07-4009-96fa-f49bce7825f7",
   "metadata": {},
   "outputs": [],
   "source": [
    "n=3\n",
    "fanlikes_indices=[]\n",
    "minimally_non_fanlikes_indices=[]\n",
    "for K in CSPLS[n]:\n",
    "    for L in fanlikes:\n",
    "        if is_iso(K, L)==1:\n",
    "            fanlikes_indices.append((CSPLS[n].index(K), fanlikes.index(L)))\n",
    "            break\n",
    "    else: # non-fanlike\n",
    "        non_fanlikes[n].append(CSPLS[n].index(K))"
   ]
  },
  {
   "cell_type": "code",
   "execution_count": 5,
   "id": "7166f058-6c5c-4751-a8f4-a623656f6626",
   "metadata": {},
   "outputs": [
    {
     "name": "stdout",
     "output_type": "stream",
     "text": [
      "4 fanlikes: [(0, 1), (1, 2), (2, 3), (3, 4)]\n",
      "0 minimally non-fanlikes:  []\n",
      "4 CSPLS_3_7 =  4 fanlikes  +  0 non_fanlikes\n"
     ]
    }
   ],
   "source": [
    "print(len(fanlikes_indices), \"fanlikes:\", fanlikes_indices)\n",
    "print(len(minimally_non_fanlikes_indices), \"minimally non-fanlikes: \", minimally_non_fanlikes_indices)\n",
    "print(len(CSPLS[n]), \"CSPLS_%d_%d = \"%(n, n+4), len(fanlikes_indices), \"fanlikes\", \" + \", len(non_fanlikes[n]), \"non_fanlikes\")"
   ]
  },
  {
   "cell_type": "markdown",
   "id": "c8278d94-b5f6-4f82-a38e-b1af2f466b6d",
   "metadata": {},
   "source": [
    "# Dimension 3 (n=4)"
   ]
  },
  {
   "cell_type": "code",
   "execution_count": 6,
   "id": "8a8de8c8-7aa4-4c01-9938-da3a4480439e",
   "metadata": {},
   "outputs": [],
   "source": [
    "n=4\n",
    "fanlikes_indices=[]\n",
    "minimally_non_fanlikes_indices=[]\n",
    "for K in CSPLS[n]:\n",
    "    for L in fanlikes:\n",
    "        if is_iso(K, L)==1:\n",
    "            fanlikes_indices.append((CSPLS[n].index(K), fanlikes.index(L)))\n",
    "            break\n",
    "    else: # minimally non-fanlike since there is no non-fanlike seed with dimension 2 and Picard number =< 4.\n",
    "        non_fanlikes[n].append(CSPLS[n].index(K))\n",
    "        for L in minimally_non_fanlikes:\n",
    "            if is_iso(K, L)==1:\n",
    "                minimally_non_fanlikes_indices.append((CSPLS[n].index(K), minimally_non_fanlikes.index(L)))\n",
    "                break"
   ]
  },
  {
   "cell_type": "code",
   "execution_count": 7,
   "id": "0500b155-9904-4417-8afe-533e12c57f63",
   "metadata": {},
   "outputs": [
    {
     "name": "stdout",
     "output_type": "stream",
     "text": [
      "9 fanlikes: [(2, 6), (3, 7), (4, 8), (5, 9), (6, 10), (7, 11), (11, 12), (12, 13), (14, 14)]\n",
      "11 minimally non-fanlikes:  [(0, 3), (1, 4), (8, 2), (9, 1), (10, 5), (13, 6), (15, 7), (16, 8), (17, 9), (18, 10), (19, 11)]\n",
      "20 CSPLS_4_8 =  9 fanlikes  +  11 non_fanlikes\n"
     ]
    }
   ],
   "source": [
    "print(len(fanlikes_indices), \"fanlikes:\", fanlikes_indices)\n",
    "print(len(minimally_non_fanlikes_indices), \"minimally non-fanlikes: \", minimally_non_fanlikes_indices)\n",
    "print(len(CSPLS[n]), \"CSPLS_%d_%d = \"%(n, n+4), len(fanlikes_indices), \"fanlikes\", \" + \", len(non_fanlikes[n]), \"non_fanlikes\")"
   ]
  },
  {
   "cell_type": "markdown",
   "id": "6997fc78-3d82-4374-9f4f-d34edb2bed6b",
   "metadata": {},
   "source": [
    "# Dimension 4 (n=5)"
   ]
  },
  {
   "cell_type": "code",
   "execution_count": 8,
   "id": "c645f481-9a6e-480a-b350-7f7b676ee06f",
   "metadata": {},
   "outputs": [
    {
     "name": "stderr",
     "output_type": "stream",
     "text": [
      "100%|████████████████████████████████████████████████████████████████████████████████| 142/142 [00:05<00:00, 24.16it/s]\n"
     ]
    }
   ],
   "source": [
    "n=5\n",
    "fanlikes_indices=[]\n",
    "minimally_non_fanlikes_indices=[]\n",
    "for K in tqdm(CSPLS[n]):\n",
    "    for f in K.faces: # take a face of K.\n",
    "        if n-len(f) < 4:\n",
    "            continue\n",
    "        L = Link(K, f, relabeling=True) # the link of K at f.\n",
    "        for k in non_fanlikes[n-len(f)]: \n",
    "            if is_iso(L, C47): # if the link is isomorphic to C47, then K is non-fanlike.\n",
    "                non_fanlikes[n].append(CSPLS[n].index(K))\n",
    "                break\n",
    "            if is_iso(L, CSPLS[K.n-len(f)][k]): # if the link is non-fanlike, then K is non-fanlike.\n",
    "                non_fanlikes[n].append(CSPLS[n].index(K))\n",
    "                break\n",
    "        else: # if the link is fanlike, then take another face.\n",
    "            continue\n",
    "        break\n",
    "    else: # if there is no face whose link is non-fanlike, it is fanlike or minimally non-fanlike.\n",
    "        for L in fanlikes:\n",
    "            if is_iso(K, L)==1: # correspondence between indices in the lists \"fanlike\" and \"CSPLS_n_m\".\n",
    "                fanlikes_indices.append((CSPLS[n].index(K), fanlikes.index(L)))\n",
    "                break\n",
    "        else: \n",
    "            for L in minimally_non_fanlikes:\n",
    "                if is_iso(K, L)==1: # correspondence between indices in the lists \"minimally non-fanlike\" and \"CSPLS_n_m\".\n",
    "                    non_fanlikes[n].append(CSPLS[n].index(K))\n",
    "                    minimally_non_fanlikes_indices.append((CSPLS[n].index(K), minimally_non_fanlikes.index(L)))\n",
    "                    break"
   ]
  },
  {
   "cell_type": "code",
   "execution_count": 9,
   "id": "e387b647-dbcf-45fe-80ab-9d5b41f52fc1",
   "metadata": {},
   "outputs": [
    {
     "name": "stdout",
     "output_type": "stream",
     "text": [
      "16 fanlikes: [(6, 15), (7, 16), (8, 17), (10, 18), (11, 19), (18, 20), (19, 21), (20, 22), (28, 23), (47, 24), (53, 25), (76, 26), (92, 27), (95, 28), (97, 29), (108, 30)]\n",
      "3 minimally non-fanlikes:  [(30, 12), (63, 13), (128, 14)]\n",
      "142 CSPLS_5_9 =  16 fanlikes  +  126 non_fanlikes\n"
     ]
    }
   ],
   "source": [
    "print(len(fanlikes_indices), \"fanlikes:\", fanlikes_indices)\n",
    "print(len(minimally_non_fanlikes_indices), \"minimally non-fanlikes: \", minimally_non_fanlikes_indices)\n",
    "print(len(CSPLS[n]), \"CSPLS_%d_%d = \"%(n, n+4), len(fanlikes_indices), \"fanlikes\", \" + \", len(non_fanlikes[n]), \"non_fanlikes\")"
   ]
  },
  {
   "cell_type": "markdown",
   "id": "9ba45d07-2a19-4305-8356-400b3cbddca9",
   "metadata": {},
   "source": [
    "# Dimension 5 (n=6)"
   ]
  },
  {
   "cell_type": "code",
   "execution_count": 10,
   "id": "96067a24-6da9-4527-af4a-34d5da26d01b",
   "metadata": {},
   "outputs": [
    {
     "name": "stderr",
     "output_type": "stream",
     "text": [
      "100%|███████████████████████████████████████████████████████████████████████████████| 733/733 [00:03<00:00, 223.86it/s]\n"
     ]
    }
   ],
   "source": [
    "n=6\n",
    "fanlikes_indices=[]\n",
    "minimally_non_fanlikes_indices=[]\n",
    "for K in tqdm(CSPLS[n]):\n",
    "    for f in K.faces: # take a face of K.\n",
    "        if n-len(f) < 4:\n",
    "            continue\n",
    "        L = Link(K, f, relabeling=True) # the link of K at f.\n",
    "        for k in non_fanlikes[n-len(f)]: \n",
    "            if is_iso(L, C47): # if the link is isomorphic to C47, then K is non-fanlike.\n",
    "                non_fanlikes[n].append(CSPLS[n].index(K))\n",
    "                break\n",
    "            if is_iso(L, CSPLS[K.n-len(f)][k]): # if the link is non-fanlike, then K is non-fanlike.\n",
    "                non_fanlikes[n].append(CSPLS[n].index(K))\n",
    "                break\n",
    "        else: # if the link is fanlike, then take another face.\n",
    "            continue\n",
    "        break\n",
    "    else: # if there is no face whose link is non-fanlike, it is fanlike or minimally non-fanlike.\n",
    "        for L in fanlikes:\n",
    "            if is_iso(K, L)==1: # correspondence between indices in the lists \"fanlike\" and \"CSPLS_n_m\".\n",
    "                fanlikes_indices.append((CSPLS[n].index(K), fanlikes.index(L)))\n",
    "                break\n",
    "        else: \n",
    "            for L in minimally_non_fanlikes:\n",
    "                if is_iso(K, L)==1: # correspondence between indices in the lists \"minimally non-fanlike\" and \"CSPLS_n_m\".\n",
    "                    non_fanlikes[n].append(CSPLS[n].index(K))\n",
    "                    minimally_non_fanlikes_indices.append((CSPLS[n].index(K), minimally_non_fanlikes.index(L)))\n",
    "                    break"
   ]
  },
  {
   "cell_type": "code",
   "execution_count": 11,
   "id": "32ffef36-f767-4dc1-a7d5-be184623d584",
   "metadata": {},
   "outputs": [
    {
     "name": "stdout",
     "output_type": "stream",
     "text": [
      "18 fanlikes: [(5, 31), (6, 32), (11, 33), (55, 34), (72, 35), (126, 36), (127, 37), (188, 38), (271, 39), (293, 40), (309, 41), (326, 42), (330, 43), (352, 44), (392, 45), (550, 46), (583, 47), (616, 48)]\n",
      "0 minimally non-fanlikes:  []\n",
      "733 CSPLS_6_10 =  18 fanlikes  +  715 non_fanlikes\n"
     ]
    }
   ],
   "source": [
    "print(len(fanlikes_indices), \"fanlikes:\", fanlikes_indices)\n",
    "print(len(minimally_non_fanlikes_indices), \"minimally non-fanlikes: \", minimally_non_fanlikes_indices)\n",
    "print(len(CSPLS[n]), \"CSPLS_%d_%d = \"%(n, n+4), len(fanlikes_indices), \"fanlikes\", \" + \", len(non_fanlikes[n]), \"non_fanlikes\")"
   ]
  },
  {
   "cell_type": "markdown",
   "id": "83f8b10c-bf2b-41a7-a916-996f31c95f9e",
   "metadata": {},
   "source": [
    "# Dimension 6 (n=7)"
   ]
  },
  {
   "cell_type": "code",
   "execution_count": 12,
   "id": "7bd42133-b06d-4183-b317-7159c6925142",
   "metadata": {},
   "outputs": [
    {
     "name": "stderr",
     "output_type": "stream",
     "text": [
      "100%|██████████████████████████████████████████████████████████████████████████████| 1190/1190 [01:13<00:00, 16.14it/s]\n"
     ]
    }
   ],
   "source": [
    "n=7\n",
    "fanlikes_indices=[]\n",
    "minimally_non_fanlikes_indices=[]\n",
    "for K in tqdm(CSPLS[n]):\n",
    "    for f in K.faces: # take a face of K.\n",
    "        if n-len(f) < 4:\n",
    "            continue\n",
    "        L = Link(K, f, relabeling=True) # the link of K at f.\n",
    "        for k in non_fanlikes[n-len(f)]: \n",
    "            if is_iso(L, C47): # if the link is isomorphic to C47, then K is non-fanlike.\n",
    "                non_fanlikes[n].append(CSPLS[n].index(K))\n",
    "                break\n",
    "            if is_iso(L, CSPLS[K.n-len(f)][k]): # if the link is non-fanlike, then K is non-fanlike.\n",
    "                non_fanlikes[n].append(CSPLS[n].index(K))\n",
    "                break\n",
    "        else: # if the link is fanlike, then take another face.\n",
    "            continue\n",
    "        break\n",
    "    else: # if there is no face whose link is non-fanlike, it is fanlike or minimally non-fanlike.\n",
    "        for L in fanlikes:\n",
    "            if is_iso(K, L)==1: # correspondence between indices in the lists \"fanlike\" and \"CSPLS_n_m\".\n",
    "                fanlikes_indices.append((CSPLS[n].index(K), fanlikes.index(L)))\n",
    "                break\n",
    "        else: \n",
    "            for L in minimally_non_fanlikes:\n",
    "                if is_iso(K, L)==1: # correspondence between indices in the lists \"minimally non-fanlike\" and \"CSPLS_n_m\".\n",
    "                    non_fanlikes[n].append(CSPLS[n].index(K))\n",
    "                    minimally_non_fanlikes_indices.append((CSPLS[n].index(K), minimally_non_fanlikes.index(L)))\n",
    "                    break"
   ]
  },
  {
   "cell_type": "code",
   "execution_count": 13,
   "id": "d6f09a11-ee46-46a5-9a0a-d2ba1f272cdf",
   "metadata": {},
   "outputs": [
    {
     "name": "stdout",
     "output_type": "stream",
     "text": [
      "9 fanlikes: [(12, 49), (162, 50), (210, 51), (247, 52), (355, 53), (359, 54), (556, 55), (1117, 56), (1155, 57)]\n",
      "0 minimally non-fanlikes:  []\n",
      "1190 CSPLS_7_11 =  9 fanlikes  +  1181 non_fanlikes\n"
     ]
    }
   ],
   "source": [
    "print(len(fanlikes_indices), \"fanlikes:\", fanlikes_indices)\n",
    "print(len(minimally_non_fanlikes_indices), \"minimally non-fanlikes: \", minimally_non_fanlikes_indices)\n",
    "print(len(CSPLS[n]), \"CSPLS_%d_%d = \"%(n, n+4), len(fanlikes_indices), \"fanlikes\", \" + \", len(non_fanlikes[n]), \"non_fanlikes\")"
   ]
  },
  {
   "cell_type": "markdown",
   "id": "cb359596-412e-45e4-979e-e5f57128db5a",
   "metadata": {},
   "source": [
    "# Dimension 7 (n=8)"
   ]
  },
  {
   "cell_type": "code",
   "execution_count": 14,
   "id": "da1e7538-5aca-4652-9f8f-ad26acb4c549",
   "metadata": {},
   "outputs": [
    {
     "name": "stderr",
     "output_type": "stream",
     "text": [
      "100%|████████████████████████████████████████████████████████████████████████████████| 776/776 [00:21<00:00, 36.41it/s]\n"
     ]
    }
   ],
   "source": [
    "n=8\n",
    "fanlikes_indices=[]\n",
    "minimally_non_fanlikes_indices=[]\n",
    "for K in tqdm(CSPLS[n]):\n",
    "    for f in K.faces: # take a face of K.\n",
    "        if n-len(f) < 4:\n",
    "            continue\n",
    "        L = Link(K, f, relabeling=True) # the link of K at f.\n",
    "        for k in non_fanlikes[n-len(f)]: \n",
    "            if is_iso(L, C47): # if the link is isomorphic to C47, then K is non-fanlike.\n",
    "                non_fanlikes[n].append(CSPLS[n].index(K))\n",
    "                break\n",
    "            if is_iso(L, CSPLS[K.n-len(f)][k]): # if the link is non-fanlike, then K is non-fanlike.\n",
    "                non_fanlikes[n].append(CSPLS[n].index(K))\n",
    "                break\n",
    "        else: # if the link is fanlike, then take another face.\n",
    "            continue\n",
    "        break\n",
    "    else: # if there is no face whose link is non-fanlike, it is fanlike or minimally non-fanlike.\n",
    "        for L in fanlikes:\n",
    "            if is_iso(K, L)==1: # correspondence between indices in the lists \"fanlike\" and \"CSPLS_n_m\".\n",
    "                fanlikes_indices.append((CSPLS[n].index(K), fanlikes.index(L)))\n",
    "                break\n",
    "        else: \n",
    "            for L in minimally_non_fanlikes:\n",
    "                if is_iso(K, L)==1: # correspondence between indices in the lists \"minimally non-fanlike\" and \"CSPLS_n_m\".\n",
    "                    non_fanlikes[n].append(CSPLS[n].index(K))\n",
    "                    minimally_non_fanlikes_indices.append((CSPLS[n].index(K), minimally_non_fanlikes.index(L)))\n",
    "                    break"
   ]
  },
  {
   "cell_type": "code",
   "execution_count": 15,
   "id": "2c5a5859-7433-472b-8f57-ac73afec6167",
   "metadata": {},
   "outputs": [
    {
     "name": "stdout",
     "output_type": "stream",
     "text": [
      "1 fanlikes: [(25, 58)]\n",
      "0 minimally non-fanlikes:  []\n",
      "776 CSPLS_8_12 =  1 fanlikes  +  775 non_fanlikes\n"
     ]
    }
   ],
   "source": [
    "print(len(fanlikes_indices), \"fanlikes:\", fanlikes_indices)\n",
    "print(len(minimally_non_fanlikes_indices), \"minimally non-fanlikes: \", minimally_non_fanlikes_indices)\n",
    "print(len(CSPLS[n]), \"CSPLS_%d_%d = \"%(n, n+4), len(fanlikes_indices), \"fanlikes\", \" + \", len(non_fanlikes[n]), \"non_fanlikes\")"
   ]
  },
  {
   "cell_type": "markdown",
   "id": "293dedeb-da9a-42a4-abac-2120376f0ea0",
   "metadata": {},
   "source": [
    "# Dimension 8 (n=9)"
   ]
  },
  {
   "cell_type": "code",
   "execution_count": 16,
   "id": "4e6f3db0-0f10-4ea0-9d2d-d8114d9fd5b6",
   "metadata": {},
   "outputs": [
    {
     "name": "stderr",
     "output_type": "stream",
     "text": [
      "100%|████████████████████████████████████████████████████████████████████████████████| 243/243 [00:18<00:00, 13.10it/s]\n"
     ]
    }
   ],
   "source": [
    "n=9\n",
    "fanlikes_indices=[]\n",
    "minimally_non_fanlikes_indices=[]\n",
    "for K in tqdm(CSPLS[n]):\n",
    "    for f in K.faces: # take a face of K.\n",
    "        if n-len(f) < 4:\n",
    "            continue\n",
    "        L = Link(K, f, relabeling=True) # the link of K at f.\n",
    "        for k in non_fanlikes[n-len(f)]: \n",
    "            if is_iso(L, C47): # if the link is isomorphic to C47, then K is non-fanlike.\n",
    "                non_fanlikes[n].append(CSPLS[n].index(K))\n",
    "                break\n",
    "            if is_iso(L, CSPLS[K.n-len(f)][k]): # if the link is non-fanlike, then K is non-fanlike.\n",
    "                non_fanlikes[n].append(CSPLS[n].index(K))\n",
    "                break\n",
    "        else: # if the link is fanlike, then take another face.\n",
    "            continue\n",
    "        break\n",
    "    else: # if there is no face whose link is non-fanlike, it is fanlike or minimally non-fanlike.\n",
    "        for L in fanlikes:\n",
    "            if is_iso(K, L)==1: # correspondence between indices in the lists \"fanlike\" and \"CSPLS_n_m\".\n",
    "                fanlikes_indices.append((CSPLS[n].index(K), fanlikes.index(L)))\n",
    "                break\n",
    "        else: \n",
    "            for L in minimally_non_fanlikes:\n",
    "                if is_iso(K, L)==1: # correspondence between indices in the lists \"minimally non-fanlike\" and \"CSPLS_n_m\".\n",
    "                    non_fanlikes[n].append(CSPLS[n].index(K))\n",
    "                    minimally_non_fanlikes_indices.append((CSPLS[n].index(K), minimally_non_fanlikes.index(L)))\n",
    "                    break"
   ]
  },
  {
   "cell_type": "code",
   "execution_count": 17,
   "id": "48b38204-9ebc-4e70-9427-bc8515ca8f75",
   "metadata": {},
   "outputs": [
    {
     "name": "stdout",
     "output_type": "stream",
     "text": [
      "0 fanlikes: []\n",
      "0 minimally non-fanlikes:  []\n",
      "243 CSPLS_9_13 =  0 fanlikes  +  243 non_fanlikes\n"
     ]
    }
   ],
   "source": [
    "print(len(fanlikes_indices), \"fanlikes:\", fanlikes_indices)\n",
    "print(len(minimally_non_fanlikes_indices), \"minimally non-fanlikes: \", minimally_non_fanlikes_indices)\n",
    "print(len(CSPLS[n]), \"CSPLS_%d_%d = \"%(n, n+4), len(fanlikes_indices), \"fanlikes\", \" + \", len(non_fanlikes[n]), \"non_fanlikes\")"
   ]
  },
  {
   "cell_type": "markdown",
   "id": "8532b55b-65dd-42bb-9355-3d12a010c283",
   "metadata": {},
   "source": [
    "# Dimension 9 (n=10)"
   ]
  },
  {
   "cell_type": "code",
   "execution_count": 18,
   "id": "e612e030-a073-496d-be24-61dd4533d8c5",
   "metadata": {},
   "outputs": [
    {
     "name": "stderr",
     "output_type": "stream",
     "text": [
      "100%|██████████████████████████████████████████████████████████████████████████████████| 39/39 [00:07<00:00,  5.43it/s]\n"
     ]
    }
   ],
   "source": [
    "n=10\n",
    "fanlikes_indices=[]\n",
    "minimally_non_fanlikes_indices=[]\n",
    "for K in tqdm(CSPLS[n]):\n",
    "    for f in K.faces: # take a face of K.\n",
    "        if n-len(f) < 4:\n",
    "            continue\n",
    "        L = Link(K, f, relabeling=True) # the link of K at f.\n",
    "        for k in non_fanlikes[n-len(f)]: \n",
    "            if is_iso(L, C47): # if the link is isomorphic to C47, then K is non-fanlike.\n",
    "                non_fanlikes[n].append(CSPLS[n].index(K))\n",
    "                break\n",
    "            if is_iso(L, CSPLS[K.n-len(f)][k]): # if the link is non-fanlike, then K is non-fanlike.\n",
    "                non_fanlikes[n].append(CSPLS[n].index(K))\n",
    "                break\n",
    "        else: # if the link is fanlike, then take another face.\n",
    "            continue\n",
    "        break\n",
    "    else: # if there is no face whose link is non-fanlike, it is fanlike or minimally non-fanlike.\n",
    "        for L in fanlikes:\n",
    "            if is_iso(K, L)==1: # correspondence between indices in the lists \"fanlike\" and \"CSPLS_n_m\".\n",
    "                fanlikes_indices.append((CSPLS[n].index(K), fanlikes.index(L)))\n",
    "                break\n",
    "        else: \n",
    "            for L in minimally_non_fanlikes:\n",
    "                if is_iso(K, L)==1: # correspondence between indices in the lists \"minimally non-fanlike\" and \"CSPLS_n_m\".\n",
    "                    non_fanlikes[n].append(CSPLS[n].index(K))\n",
    "                    minimally_non_fanlikes_indices.append((CSPLS[n].index(K), minimally_non_fanlikes.index(L)))\n",
    "                    break"
   ]
  },
  {
   "cell_type": "code",
   "execution_count": 19,
   "id": "26670698-3143-4d9e-b93b-6f0cc09bb8bc",
   "metadata": {},
   "outputs": [
    {
     "name": "stdout",
     "output_type": "stream",
     "text": [
      "0 fanlikes: []\n",
      "0 minimally non-fanlikes:  []\n",
      "39 CSPLS_10_14 =  0 fanlikes  +  39 non_fanlikes\n"
     ]
    }
   ],
   "source": [
    "print(len(fanlikes_indices), \"fanlikes:\", fanlikes_indices)\n",
    "print(len(minimally_non_fanlikes_indices), \"minimally non-fanlikes: \", minimally_non_fanlikes_indices)\n",
    "print(len(CSPLS[n]), \"CSPLS_%d_%d = \"%(n, n+4), len(fanlikes_indices), \"fanlikes\", \" + \", len(non_fanlikes[n]), \"non_fanlikes\")"
   ]
  },
  {
   "cell_type": "markdown",
   "id": "087ba8fb-9d65-4039-8a7b-52863be5a081",
   "metadata": {},
   "source": [
    "# Dimension 10 (n=11)"
   ]
  },
  {
   "cell_type": "code",
   "execution_count": 20,
   "id": "d6c4ac78-69cf-4b8a-baf9-da905f3bd95e",
   "metadata": {},
   "outputs": [
    {
     "name": "stderr",
     "output_type": "stream",
     "text": [
      "100%|████████████████████████████████████████████████████████████████████████████████████| 4/4 [00:02<00:00,  1.94it/s]\n"
     ]
    }
   ],
   "source": [
    "n=11\n",
    "fanlikes_indices=[]\n",
    "minimally_non_fanlikes_indices=[]\n",
    "for K in tqdm(CSPLS[n]):\n",
    "    for f in K.faces: # take a face of K.\n",
    "        if n-len(f) < 4:\n",
    "            continue\n",
    "        L = Link(K, f, relabeling=True) # the link of K at f.\n",
    "        for k in non_fanlikes[n-len(f)]: \n",
    "            if is_iso(L, C47): # if the link is isomorphic to C47, then K is non-fanlike.\n",
    "                non_fanlikes[n].append(CSPLS[n].index(K))\n",
    "                break\n",
    "            if is_iso(L, CSPLS[K.n-len(f)][k]): # if the link is non-fanlike, then K is non-fanlike.\n",
    "                non_fanlikes[n].append(CSPLS[n].index(K))\n",
    "                break\n",
    "        else: # if the link is fanlike, then take another face.\n",
    "            continue\n",
    "        break\n",
    "    else: # if there is no face whose link is non-fanlike, it is fanlike or minimally non-fanlike.\n",
    "        for L in fanlikes:\n",
    "            if is_iso(K, L)==1: # correspondence between indices in the lists \"fanlike\" and \"CSPLS_n_m\".\n",
    "                fanlikes_indices.append((CSPLS[n].index(K), fanlikes.index(L)))\n",
    "                break\n",
    "        else: \n",
    "            for L in minimally_non_fanlikes:\n",
    "                if is_iso(K, L)==1: # correspondence between indices in the lists \"minimally non-fanlike\" and \"CSPLS_n_m\".\n",
    "                    non_fanlikes[n].append(CSPLS[n].index(K))\n",
    "                    minimally_non_fanlikes_indices.append((CSPLS[n].index(K), minimally_non_fanlikes.index(L)))\n",
    "                    break"
   ]
  },
  {
   "cell_type": "code",
   "execution_count": 21,
   "id": "152d3172-e1c3-4955-b72c-0ba4986b3048",
   "metadata": {},
   "outputs": [
    {
     "name": "stdout",
     "output_type": "stream",
     "text": [
      "0 fanlikes: []\n",
      "0 minimally non-fanlikes:  []\n",
      "4 CSPLS_11_15 =  0 fanlikes  +  4 non_fanlikes\n"
     ]
    }
   ],
   "source": [
    "print(len(fanlikes_indices), \"fanlikes:\", fanlikes_indices)\n",
    "print(len(minimally_non_fanlikes_indices), \"minimally non-fanlikes: \", minimally_non_fanlikes_indices)\n",
    "print(len(CSPLS[n]), \"CSPLS_%d_%d = \"%(n, n+4), len(fanlikes_indices), \"fanlikes\", \" + \", len(non_fanlikes[n]), \"non_fanlikes\")"
   ]
  }
 ],
 "metadata": {
  "kernelspec": {
   "display_name": "Python 3 (ipykernel)",
   "language": "python",
   "name": "python3"
  },
  "language_info": {
   "codemirror_mode": {
    "name": "ipython",
    "version": 3
   },
   "file_extension": ".py",
   "mimetype": "text/x-python",
   "name": "python",
   "nbconvert_exporter": "python",
   "pygments_lexer": "ipython3",
   "version": "3.12.7"
  }
 },
 "nbformat": 4,
 "nbformat_minor": 5
}
