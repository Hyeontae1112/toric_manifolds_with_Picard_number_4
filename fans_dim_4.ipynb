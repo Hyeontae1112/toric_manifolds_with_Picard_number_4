{
 "cells": [
  {
   "cell_type": "markdown",
   "id": "54e64732",
   "metadata": {},
   "source": [
    "# Fans of dimension 4\n",
    "\n",
    "Fans with $k$ indeterminates are encoded as functions with \n",
    "- **inputs**: $k$ integer\n",
    "- **output**: the corresponding fan after fixing the indeterminates to the input values."
   ]
  },
  {
   "cell_type": "code",
   "execution_count": null,
   "id": "d97f8781",
   "metadata": {
    "vscode": {
     "languageId": "julia"
    }
   },
   "outputs": [
    {
     "data": {
      "text/plain": [
       "IM (generic function with 1 method)"
      ]
     },
     "metadata": {},
     "output_type": "display_data"
    }
   ],
   "source": [
    "using Oscar\n",
    "function IM(K)\n",
    "    return(incidence_matrix([[Base.Integer(i) for i in facet] for facet in facets(K)]))\n",
    "end"
   ]
  },
  {
   "cell_type": "markdown",
   "id": "a4b53e8a",
   "metadata": {},
   "source": [
    "### $K_5^3$\n",
    "This is the boundary of a cross-polytope. "
   ]
  },
  {
   "cell_type": "markdown",
   "id": "036d304d",
   "metadata": {},
   "source": [
    "### $K_6^3$"
   ]
  },
  {
   "cell_type": "code",
   "execution_count": null,
   "id": "fd2df3e3",
   "metadata": {
    "vscode": {
     "languageId": "julia"
    }
   },
   "outputs": [
    {
     "data": {
      "text/plain": [
       "4-element Vector{Function}:\n",
       " #497 (generic function with 1 method)\n",
       " #499 (generic function with 1 method)\n",
       " #501 (generic function with 1 method)\n",
       " #503 (generic function with 1 method)"
      ]
     },
     "metadata": {},
     "output_type": "display_data"
    }
   ],
   "source": [
    "K_6_3 = load(\"./Oscar_fanlike_seeds/K_6_3\")\n",
    "fans_K_6_3 =Vector{Function}()\n",
    "push!(fans_K_6_3,(x0,x1)->polyhedral_fan(IM(K_6_3),\n",
    "[1 0 0 0;0 1 0 0;0 0 1 0;0 0 0 1;x0 -1 x1 -1;-1 0 -1 0;0 1 -1 1;1 2 -1 1] ))\n",
    "push!(fans_K_6_3,(x0,x1,x2)->polyhedral_fan(IM(K_6_3),\n",
    "[1 0 0 0;0 1 0 0;0 0 1 0;0 0 0 1;0 -1 1 -1;-1 -1 0 -1;x0-1 x1-1 -1 x2;x0 x1 -1 x2] ))\n",
    "push!(fans_K_6_3,x->polyhedral_fan(IM(K_6_3),\n",
    "[1 0 0 0;0 1 0 0;0 0 1 0;0 0 0 1;0 -1 x;-1 -1 x-1;0 0 -1;1 1 -1]))\n",
    "push!(fans_K_6_3,x->polyhedral_fan(IM(K_6_3),\n",
    "[1 0 0 0;0 1 0 0;0 0 1 0;0 0 0 1;0 -1 1 -1;-1 x -x-1 x;0 1 -1 1;1 2 -1 1] ))"
   ]
  },
  {
   "cell_type": "markdown",
   "id": "348581d6",
   "metadata": {},
   "source": [
    "### $K_7^3$"
   ]
  },
  {
   "cell_type": "code",
   "execution_count": null,
   "id": "1e86d7bd",
   "metadata": {
    "vscode": {
     "languageId": "julia"
    }
   },
   "outputs": [
    {
     "data": {
      "text/plain": [
       "8-element Vector{Function}:\n",
       " #505 (generic function with 1 method)\n",
       " #507 (generic function with 1 method)\n",
       " #509 (generic function with 1 method)\n",
       " #511 (generic function with 1 method)\n",
       " #513 (generic function with 1 method)\n",
       " #515 (generic function with 1 method)\n",
       " #517 (generic function with 1 method)\n",
       " #519 (generic function with 1 method)"
      ]
     },
     "metadata": {},
     "output_type": "display_data"
    }
   ],
   "source": [
    "K_7_3 = load(\"./Oscar_fanlike_seeds/K_7_3\")\n",
    "fans_K_7_3 =Vector{Function}()\n",
    "push!(fans_K_7_3,(x0,x1)->polyhedral_fan(IM(K_7_3),\n",
    "[1 0 0 0;0 1 0 0;0 0 1 0;0 0 0 1;-1 -1 1 0;-1 -2 1 1;-1 -1 0 0;x0 x1 -1 -1] ))\n",
    "push!(fans_K_7_3,(x0,x1,x2)->polyhedral_fan(IM(K_7_3),\n",
    "[1 0 0 0;0 1 0 0;0 0 1 0;0 0 0 1;-1 -1 0 0;x0-1 x1-2 -1 1;x0-1 x1-1 -1 0;x0 x1 -1 -1] ))\n",
    "push!(fans_K_7_3,x->polyhedral_fan(IM(K_7_3),\n",
    "[1 0 0 0;0 1 0 0;0 0 1 0;0 0 0 1;-1 -1 1 0;-1 -2 1 1;-x-1 -2x-1 x x;1 2 -1 -1] ))\n",
    "push!(fans_K_7_3,x->polyhedral_fan(IM(K_7_3),\n",
    "[1 0 0 0;0 1 0 0;0 0 1 0;0 0 0 1;-1 -1 1 0;0 -1 0 0;0 x-1 -1 -1;1 x -1 -1] ))\n",
    "push!(fans_K_7_3,(x0,x1,x2)->polyhedral_fan(IM(K_7_3),\n",
    "[1 0 0 0;0 1 0 0;0 0 1 0;0 0 0 1;-1 -1 1 0;x0 x1 -x1-1 x2;0 1 -1 -1;1 2 -1 -1] ))\n",
    "push!(fans_K_7_3,x->polyhedral_fan(IM(K_7_3),\n",
    "[1 0 0 0;0 1 0 0;0 0 1 0;0 0 0 1;-1 -1 1 0;-x0-1 -x0-2 x0+1 x1+1;-x0-1 -x0-1 x0 x1;1 1 -1 -1] ))\n",
    "push!(fans_K_7_3,(x0,x1)->polyhedral_fan(IM(K_7_3),\n",
    "[1 0 0 0;0 1 0 0;0 0 1 0;0 0 0 1;-1 -1 x0+1 x1;-1 -2 2x0+1 2x1+1;-1 -1 x0 x1;0 0 -1 -1] ))\n",
    "push!(fans_K_7_3,x->polyhedral_fan(IM(K_7_3),\n",
    "[1 0 0 0;0 1 0 0;0 0 1 0;0 0 0 1;-1 -1 x 0;0 -1 x-1 1;0 0 -1 0;1 1 -1 -1] ))"
   ]
  },
  {
   "cell_type": "markdown",
   "id": "dc853c4b",
   "metadata": {},
   "source": [
    "### $K_8^3$"
   ]
  },
  {
   "cell_type": "code",
   "execution_count": null,
   "id": "d6a84fbc",
   "metadata": {
    "vscode": {
     "languageId": "julia"
    }
   },
   "outputs": [
    {
     "data": {
      "text/plain": [
       "6-element Vector{Function}:\n",
       " #521 (generic function with 1 method)\n",
       " #523 (generic function with 1 method)\n",
       " #525 (generic function with 1 method)\n",
       " #527 (generic function with 1 method)\n",
       " #529 (generic function with 1 method)\n",
       " #531 (generic function with 1 method)"
      ]
     },
     "metadata": {},
     "output_type": "display_data"
    }
   ],
   "source": [
    "K_8_3 = load(\"./Oscar_fanlike_seeds/K_8_3\")\n",
    "fans_K_8_3 =Vector{Function}()\n",
    "push!(fans_K_8_3,()->polyhedral_fan(IM(K_8_3),\n",
    "[1 0 0 0;0 1 0 0;0 0 1 0;0 0 0 1;-1 0 -1 -1;-1 -1 0 0;0 -1 -1 0;-1 -1 -1 -1]))\n",
    "push!(fans_K_8_3,(x0,x1)->polyhedral_fan(IM(K_8_3),\n",
    "[1 0 0 0;0 1 0 0;0 0 1 0;0 0 0 1;-1 1 0 -1;0 -1 1 1;x0 0 -1 x1;-1 0 0 -1] ))\n",
    "push!(fans_K_8_3,x->polyhedral_fan(IM(K_8_3),\n",
    "[1 0 0 0;0 1 0 0;0 0 1 0;0 0 0 1;-1 x 0 -1;0 -1 1 1;1 0 -1 0;0 -1 0 0]))\n",
    "push!(fans_K_8_3,(x0,x1)->polyhedral_fan(IM(K_8_3),\n",
    "[1 0 0 0;0 1 0 0;0 0 1 0;0 0 0 1;-1 1 x0 -1;0 -1 x1 1;0 0 -1 0;-1 0 x0+x1-1 -1] ))\n",
    "push!(fans_K_8_3,(x0,x1,x2)->polyhedral_fan(IM(K_8_3),\n",
    "[1 0 0 0;0 1 0 0;0 0 1 0;0 0 0 1;-1 0 0 -1;x0 -1 x1 x2;1 0 -1 0;x0 -1 x1-1 x2-1] ))\n",
    "push!(fans_K_8_3,x->polyhedral_fan(IM(K_8_3),\n",
    "[1 0 0 0;0 1 0 0;0 0 1 0;0 0 0 1;-1 1 0 -1;0 -1 x x;1 0 -1 0;0 0 -1 -1] ))\n",
    "\n"
   ]
  },
  {
   "cell_type": "markdown",
   "id": "a1ee5f1c",
   "metadata": {},
   "source": [
    "### $K_9^3$"
   ]
  },
  {
   "cell_type": "code",
   "execution_count": null,
   "id": "b3009572",
   "metadata": {
    "vscode": {
     "languageId": "julia"
    }
   },
   "outputs": [
    {
     "data": {
      "text/plain": [
       "6-element Vector{Function}:\n",
       " #533 (generic function with 1 method)\n",
       " #535 (generic function with 1 method)\n",
       " #537 (generic function with 1 method)\n",
       " #539 (generic function with 1 method)\n",
       " #541 (generic function with 1 method)\n",
       " #543 (generic function with 1 method)"
      ]
     },
     "metadata": {},
     "output_type": "display_data"
    }
   ],
   "source": [
    "K_9_3 = load(\"./Oscar_fanlike_seeds/K_9_3\")\n",
    "fans_K_9_3 =Vector{Function}()\n",
    "\n",
    "push!(fans_K_9_3,(x0,x1)->polyhedral_fan(IM(K_9_3),\n",
    "[1 0 0 0;0 1 0 0;0 0 1 0;0 0 0 1;x0 -1 x1 0;-1 0 -1 0;0 1 -1 -1;1 2 -1 -1] ))\n",
    "push!(fans_K_9_3,()->polyhedral_fan(IM(K_9_3),\n",
    "[1 0 0 0;0 1 0 0;0 0 1 0;0 0 0 1;1 -1 2 1;-1 0 -1 -1;-1 1 -2 -2;0 1 -1 -1] ))\n",
    "push!(fans_K_9_3,x->polyhedral_fan(IM(K_9_3),\n",
    "[1 0 0 0;0 1 0 0;0 0 1 0;0 0 0 1;0 -1 0 0;-1 x-2 -1 0;0 x-1 -1 -1;1 x -1 -1] ))\n",
    "push!(fans_K_9_3,(x0,x1)->polyhedral_fan(IM(K_9_3),\n",
    "[1 0 0 0;0 1 0 0;0 0 1 0;0 0 0 1;0 -1 1 0;-1 -1 0 0;x0-1 x1-1 -1 -1;x0 x1 -1 -1] ))\n",
    "push!(fans_K_9_3,(x0,x1)->polyhedral_fan(IM(K_9_3),\n",
    "[1 0 0 0;0 1 0 0;0 0 1 0;0 0 0 1;0 -1 1 0;-1 x0 -x0-1 x1;0 1 -1 -1;1 2 -1 -1] ))\n",
    "push!(fans_K_9_3,(x0,x1)->polyhedral_fan(IM(K_9_3),\n",
    "[1 0 0 0;0 1 0 0;0 0 1 0;0 0 0 1;0 -1 x0 x1;-1 -1 x0-1 x1;0 0 -1 -1;1 1 -1 -1] ))"
   ]
  },
  {
   "cell_type": "markdown",
   "id": "8529123e",
   "metadata": {},
   "source": [
    "### $K_{10}^3$"
   ]
  },
  {
   "cell_type": "code",
   "execution_count": null,
   "id": "87c9cc87",
   "metadata": {
    "vscode": {
     "languageId": "julia"
    }
   },
   "outputs": [
    {
     "data": {
      "text/plain": [
       "1-element Vector{Function}:\n",
       " #545 (generic function with 1 method)"
      ]
     },
     "metadata": {},
     "output_type": "display_data"
    }
   ],
   "source": [
    "K_10_3 = load(\"./Oscar_fanlike_seeds/K_10_3\")\n",
    "fans_K_10_3 =Vector{Function}()\n",
    "push!(fans_K_10_3,()->polyhedral_fan(IM(K_10_3),\n",
    "[1 0 0 0;0 1 0 0;0 0 1 0;0 0 0 1;-1 -1 0 0;-1 0 -1 1;0 1 -1 0;1 2 -1 -1] ))\n"
   ]
  },
  {
   "cell_type": "markdown",
   "id": "b2ce5202",
   "metadata": {},
   "source": [
    "### $K_{11}^3$"
   ]
  },
  {
   "cell_type": "code",
   "execution_count": null,
   "id": "5bb7ef17",
   "metadata": {
    "vscode": {
     "languageId": "julia"
    }
   },
   "outputs": [
    {
     "data": {
      "text/plain": [
       "1-element Vector{Function}:\n",
       " #547 (generic function with 1 method)"
      ]
     },
     "metadata": {},
     "output_type": "display_data"
    }
   ],
   "source": [
    "K_11_3 = load(\"./Oscar_fanlike_seeds/K_11_3\")\n",
    "fans_K_11_3 =Vector{Function}()\n",
    "push!(fans_K_11_3,()->polyhedral_fan(IM(K_11_3),\n",
    "[1 0 0 0;0 1 0 0;0 0 1 0;0 0 0 1;-1 0 0 -1;1 -1 0 1;0 2 -1 -1;0 1 -1 -1] ))"
   ]
  },
  {
   "cell_type": "markdown",
   "id": "f909f099",
   "metadata": {},
   "source": [
    "### $K_{12}^3$"
   ]
  },
  {
   "cell_type": "code",
   "execution_count": null,
   "id": "7c57985e",
   "metadata": {
    "vscode": {
     "languageId": "julia"
    }
   },
   "outputs": [
    {
     "data": {
      "text/plain": [
       "3-element Vector{Function}:\n",
       " #549 (generic function with 1 method)\n",
       " #551 (generic function with 1 method)\n",
       " #553 (generic function with 1 method)"
      ]
     },
     "metadata": {},
     "output_type": "display_data"
    }
   ],
   "source": [
    "K_12_3 = load(\"./Oscar_fanlike_seeds/K_12_3\")\n",
    "fans_K_12_3 =Vector{Function}()\n",
    "push!(fans_K_12_3,(x0,x1)->polyhedral_fan(IM(K_12_3),\n",
    "[1 0 0 0;0 1 0 0;0 0 1 0;0 0 0 1;x0 -1 x1 0;-1 0 -1 0;-1 1 -2 -1;0 1 -1 -1] ))\n",
    "push!(fans_K_12_3,x->polyhedral_fan(IM(K_12_3),\n",
    "[1 0 0 0;0 1 0 0;0 0 1 0;0 0 0 1;0 -1 0 0;-1 x-1 -1 0;-1 2x-1 -2 -1;0 x -1 -1] ))\n",
    "push!(fans_K_12_3,(x0,x1)->polyhedral_fan(IM(K_12_3),\n",
    "[1 0 0 0;0 1 0 0;0 0 1 0;0 0 0 1;0 -1 1 0;-1 -1 0 0;x0-1 x1-1 -1 -1;x0 x1 -1 -1] ))"
   ]
  },
  {
   "cell_type": "markdown",
   "id": "2489e367",
   "metadata": {},
   "source": [
    "### $K_{13}^3$"
   ]
  },
  {
   "cell_type": "code",
   "execution_count": null,
   "id": "8bbec3e7",
   "metadata": {
    "vscode": {
     "languageId": "julia"
    }
   },
   "outputs": [
    {
     "data": {
      "text/plain": [
       "3-element Vector{Function}:\n",
       " #555 (generic function with 1 method)\n",
       " #557 (generic function with 1 method)\n",
       " #559 (generic function with 1 method)"
      ]
     },
     "metadata": {},
     "output_type": "display_data"
    }
   ],
   "source": [
    "K_13_3 = load(\"./Oscar_fanlike_seeds/K_13_3\")\n",
    "fans_K_13_3 =Vector{Function}()\n",
    "push!(fans_K_13_3,(x0,x1,x2)->polyhedral_fan(IM(K_13_3),\n",
    "[1 0 0 0;0 1 0 0;0 0 1 0;0 0 0 1;x0 -1 x1 x2;-1 0 -1 -1;0 1 -1 -1;1 2 -1 0] ))\n",
    "push!(fans_K_13_3,x->polyhedral_fan(IM(K_13_3),\n",
    "[1 0 0 0;0 1 0 0;0 0 1 0;0 0 0 1;0 -1 0 0;-1 x-2 -1 -1;0 x-1 -1 -1;1 x -1 0] ))\n",
    "push!(fans_K_13_3,(x0,x1)->polyhedral_fan(IM(K_13_3),\n",
    "[1 0 0 0;0 1 0 0;0 0 1 0;0 0 0 1;0 -1 1 1;-1 -1 0 0;x0-1 x1-1 -1 -1;x0 x1 -1 0] ))"
   ]
  },
  {
   "cell_type": "markdown",
   "id": "4eeef40b",
   "metadata": {},
   "source": [
    "### $K_{14}^3$"
   ]
  },
  {
   "cell_type": "code",
   "execution_count": null,
   "id": "858a7cb5",
   "metadata": {
    "vscode": {
     "languageId": "julia"
    }
   },
   "outputs": [
    {
     "data": {
      "text/plain": [
       "1-element Vector{Function}:\n",
       " #561 (generic function with 1 method)"
      ]
     },
     "metadata": {},
     "output_type": "display_data"
    }
   ],
   "source": [
    "K_14_3 = load(\"./Oscar_fanlike_seeds/K_14_3\")\n",
    "fans_K_14_3 =Vector{Function}()\n",
    "push!(fans_K_14_3,()->polyhedral_fan(IM(K_14_3),\n",
    "[1 0 0 0;0 1 0 0;0 0 1 0;0 0 0 1;-1 -1 0 1;-1 -1 -1 0;-1 0 -1 0;0 1 -1 -1] ))\n"
   ]
  }
 ],
 "metadata": {
  "language_info": {
   "name": "python"
  }
 },
 "nbformat": 4,
 "nbformat_minor": 5
}
