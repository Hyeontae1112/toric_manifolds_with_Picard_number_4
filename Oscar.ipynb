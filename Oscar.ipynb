{
 "cells": [
  {
   "cell_type": "markdown",
   "id": "3fa3f86a",
   "metadata": {},
   "source": [
    "## Initialization"
   ]
  },
  {
   "cell_type": "code",
   "execution_count": 2,
   "id": "5c8a4b9f",
   "metadata": {},
   "outputs": [
    {
     "name": "stdout",
     "output_type": "stream",
     "text": [
      "  ___   ___   ___    _    ____\n",
      " / _ \\ / __\\ / __\\  / \\  |  _ \\  | Combining and extending ANTIC, GAP,\n",
      "| |_| |\\__ \\| |__  / ^ \\ |  ´ /  | Polymake and Singular\n",
      " \\___/ \\___/ \\___//_/ \\_\\|_|\\_\\  | Type \"?Oscar\" for more information\n",
      "\u001b[33mo--------o-----o-----o--------o\u001b[39m  | Documentation: https://docs.oscar-system.org\n",
      "  S Y M B O L I C   T O O L S    | Version 1.4.1\n"
     ]
    }
   ],
   "source": [
    "using Oscar\n",
    "using MultivariatePolynomials"
   ]
  },
  {
   "cell_type": "code",
   "execution_count": null,
   "id": "29e140ad",
   "metadata": {},
   "outputs": [],
   "source": [
    "input_file = \"./fanlike seeds\"  # Change to your actual file path\n",
    "output_folder = \"./Oscar_fanlike_seeds\"\n",
    "\n",
    "open(input_file, \"r\") do f\n",
    "    for (i, line) in enumerate(eachline(f))\n",
    "        # Parse the line into a list of lists of integers\n",
    "        # Example line: \"[[1,2],[2,3],[3,4]]\"\n",
    "        faces = eval(Meta.parse(line))\n",
    "        K = simplicial_complex(faces)\n",
    "        dim_K = dim(K)\n",
    "        save(\"$(output_folder)/K_$(i-1)_$(dim_K)\", K)\n",
    "    end\n",
    "end\n",
    "\n",
    "input_file = \"./minimally non-fanlike seeds\"  # Change to your actual file path\n",
    "output_folder = \"./Oscar_minimally_non-fanlike_seeds\"\n",
    "\n",
    "open(input_file, \"r\") do f\n",
    "    for (i, line) in enumerate(eachline(f))\n",
    "        # Parse the line into a list of lists of integers\n",
    "        # Example line: \"[[1,2],[2,3],[3,4]]\"\n",
    "        faces = eval(Meta.parse(line))\n",
    "        K = simplicial_complex(faces)\n",
    "        dim_K = dim(K)\n",
    "        save(\"$(output_folder)/L_$(i-1)_$(dim_K)\", K)\n",
    "    end\n",
    "end"
   ]
  },
  {
   "cell_type": "markdown",
   "id": "e6fd927d",
   "metadata": {},
   "source": [
    "## Loading a seed\n",
    "\n",
    "To load a seed from the saved files, use the following\n",
    "1. `K = load(\"./Oscar_fanlike_seeds/K_<i>_<n>\")` for a fanlike seed where `i` is the number of the seed and `n` its dimension.\n",
    "2. `L = load(\"./Oscar_minimally_non-fanlike_seeds/L_<i>_<n>\")` for a fanlike seed where `i` is the number of the seed and `n` its dimension."
   ]
  },
  {
   "cell_type": "code",
   "execution_count": 28,
   "id": "3c715a5a",
   "metadata": {},
   "outputs": [
    {
     "data": {
      "text/plain": [
       "30×9 IncidenceMatrix\n",
       " [1, 2, 3, 4, 5]\n",
       " [1, 2, 3, 4, 7]\n",
       " [1, 2, 3, 5, 8]\n",
       " [1, 2, 3, 7, 9]\n",
       " [1, 2, 3, 8, 9]\n",
       " [1, 2, 4, 5, 8]\n",
       " [1, 2, 4, 7, 8]\n",
       " [1, 2, 7, 8, 9]\n",
       " [1, 3, 4, 5, 7]\n",
       " [1, 3, 5, 6, 7]\n",
       " [1, 3, 5, 6, 9]\n",
       " [1, 3, 5, 8, 9]\n",
       " [1, 3, 6, 7, 9]\n",
       " [1, 4, 5, 7, 8]\n",
       " [1, 5, 6, 7, 9]\n",
       " [1, 5, 7, 8, 9]\n",
       " [2, 3, 4, 5, 6]\n",
       " [2, 3, 4, 6, 7]\n",
       " [2, 3, 5, 6, 8]\n",
       " [2, 3, 6, 7, 9]\n",
       " [2, 3, 6, 8, 9]\n",
       " [2, 4, 5, 6, 8]\n",
       " [2, 4, 6, 7, 9]\n",
       " [2, 4, 6, 8, 9]\n",
       " [2, 4, 7, 8, 9]\n",
       " ⁝"
      ]
     },
     "execution_count": 28,
     "metadata": {},
     "output_type": "execute_result"
    }
   ],
   "source": [
    "K = load(\"./Oscar_fanlike_seeds/K_27_4\")  # Example of loading a saved seed\n",
    "incidence_matrix([[Integer(i) for i in facet] for facet in facets(K)])"
   ]
  },
  {
   "cell_type": "markdown",
   "id": "488c42a0",
   "metadata": {},
   "source": [
    "## Fans\n",
    "\n",
    "Fans that have no indeterminate entries in their generators are encoded as fans, and those with $k$ indeterminates are encoded as functions with $k$ integer inputs which output the corresponding fan after fixing the indeterminates to the input values."
   ]
  },
  {
   "cell_type": "code",
   "execution_count": 11,
   "id": "5b06714d",
   "metadata": {},
   "outputs": [
    {
     "data": {
      "text/plain": [
       "IM (generic function with 1 method)"
      ]
     },
     "execution_count": 11,
     "metadata": {},
     "output_type": "execute_result"
    }
   ],
   "source": [
    "\n",
    "function IM(K)\n",
    "    return(incidence_matrix([[Base.Integer(i) for i in facet] for facet in facets(K)]))\n",
    "end"
   ]
  },
  {
   "cell_type": "markdown",
   "id": "6a3f248e",
   "metadata": {},
   "source": [
    "### $K_0^1$"
   ]
  },
  {
   "cell_type": "code",
   "execution_count": null,
   "id": "39dfb32f",
   "metadata": {},
   "outputs": [
    {
     "name": "stdout",
     "output_type": "stream",
     "text": [
      "true\n",
      "true\n",
      "true\n",
      "true\n",
      "true\n",
      "true\n"
     ]
    }
   ],
   "source": [
    "K_0_1 = load(\"./Oscar_fanlike_seeds/K_0_1\")\n",
    "\n",
    "fans_K_0_1 =Vector{Function}()\n",
    "push!(fans_K_0_1,x->polyhedral_fan(IM(K_0_1),\n",
    "[[1,0], [0,1], [-1,2], [-1,1], [-1,0],[x,-1]]))\n",
    "push!(fans_K_0_1,x->polyhedral_fan(IM(K_0_1),\n",
    "[1 0; 0 1; -1 1; -2 1; -1 0; x -1]))\n",
    "push!(fans_K_0_1,x->polyhedral_fan(IM(K_0_1),\n",
    "[1 0; 0 1; -1 1; -1 0; x-1 -1; x -1]))\n",
    "\n",
    "for fan in fans_K_0_1\n",
    "    println(is_smooth(fan(2)))\n",
    "    println(is_complete(fan(3)))\n",
    "end\n",
    "\n"
   ]
  },
  {
   "cell_type": "markdown",
   "id": "1d2bd54b",
   "metadata": {},
   "source": [
    "### $K_1^2$"
   ]
  },
  {
   "cell_type": "code",
   "execution_count": null,
   "id": "1117c19b",
   "metadata": {},
   "outputs": [
    {
     "data": {
      "text/plain": [
       "Set{Function} with 8 elements:\n",
       "  var\"#1245#1246\"()\n",
       "  var\"#1251#1252\"()\n",
       "  var\"#1255#1256\"()\n",
       "  var\"#1257#1258\"()\n",
       "  var\"#1247#1248\"()\n",
       "  var\"#1253#1254\"()\n",
       "  var\"#1259#1260\"()\n",
       "  var\"#1249#1250\"()"
      ]
     },
     "execution_count": 156,
     "metadata": {},
     "output_type": "execute_result"
    }
   ],
   "source": [
    "K_1_2 = load(\"./Oscar_fanlike_seeds/K_1_2\")\n",
    "\n",
    "fans_K_1_2 =Vector{Function}()\n",
    "push!(fans_K_1_2,(x0,x1)->polyhedral_fan(IM(K_1_2),\n",
    "[1 0 0;0 1 0; 0 0 1; x0 -1 x1; -1 0 -1; 0 1 -1;1 2 -1]))\n",
    "push!(fans_K_1_2,(x0,x1)->polyhedral_fan(IM(K_1_2),\n",
    "[1 0 0;0 1 0; 0 0 1; x0 -1 x1; -1 0 -1; -1 1 -2;0 1 -1]))\n",
    "push!(fans_K_1_2,x->polyhedral_fan(IM(K_1_2),\n",
    "[1 0 0;0 1 0; 0 0 1; 0 -1 0; -1 x-2 -1; 0 x-1 -1;1 x -1]))\n",
    "push!(fans_K_1_2,x->polyhedral_fan(IM(K_1_2),\n",
    "[1 0 0;0 1 0; 0 0 1; 0 -1 0; -1 x-1 -1; -1 2*x-1 -2;0 x -1]))\n",
    "push!(fans_K_1_2,(x0,x1)->polyhedral_fan(IM(K_1_2),\n",
    "[1 0 0;0 1 0; 0 0 1; 0 -1 1; -1 -1 0; x0-1 x1-1 -1;x0 x1 -1]))\n",
    "push!(fans_K_1_2,x->polyhedral_fan(IM(K_1_2),\n",
    "[1 0 0;0 1 0; 0 0 1; 0 -1 1; -1 x -x-1; 0 1 -1;1 2 -1]))\n",
    "push!(fans_K_1_2,x->polyhedral_fan(IM(K_1_2),\n",
    "[1 0 0;0 1 0; 0 0 1; 0 -1 1; -1 -x-2 x+1; -1 -x-1 x;0 1 -1]))\n",
    "push!(fans_K_1_2,x->polyhedral_fan(IM(K_1_2),\n",
    "[1 0 0;0 1 0; 0 0 1; 0 -1 x; -1 -1 x-1; 0 0 -1;1 1 -1]))\n"
   ]
  },
  {
   "cell_type": "markdown",
   "id": "202b7ab6",
   "metadata": {},
   "source": [
    "### $K_2^2$"
   ]
  },
  {
   "cell_type": "code",
   "execution_count": null,
   "id": "7c2803b0",
   "metadata": {},
   "outputs": [
    {
     "data": {
      "text/plain": [
       "Set{Function} with 4 elements:\n",
       "  var\"#1263#1264\"()\n",
       "  var\"#1265#1266\"()\n",
       "  var\"#1267#1268\"()\n",
       "  var\"#1261#1262\"()"
      ]
     },
     "execution_count": 157,
     "metadata": {},
     "output_type": "execute_result"
    }
   ],
   "source": [
    "K_2_2 = load(\"./Oscar_fanlike_seeds/K_2_2\")\n",
    "\n",
    "fans_K_2_2 =Vector{Function}()\n",
    "\n",
    "push!(fans_K_2_2,(x_0,x_1)->polyhedral_fan(IM(K_2_2),\n",
    "[1 0 0;0 1 0;0 0 1;-1 1 0;0 -1 1;1 0 -1;x_0 x_1 -x_0-x_1-1]))\n",
    "push!(fans_K_2_2,(x_0,x_1,x_2)->polyhedral_fan(IM(K_2_2),\n",
    "[1 0 0;0 1 0;0 0 1;-1 x_0 x_1;0 -1 x_2;0 0 -1;-1 x_0-1 x_1+x_2-1]))\n",
    "push!(fans_K_2_2,()->polyhedral_fan(IM(K_2_2),\n",
    "[1 0 0;0 1 0;0 0 1;1 -1 0;0 -1 -1;-1 0 -1;-1 -1 -1]))\n",
    "push!(fans_K_2_2,x->polyhedral_fan(IM(K_2_2),\n",
    "[1 0 0;0 1 0;0 0 1;-1 1 0;0 -1 1;x 0 -1;-1 0 0]))"
   ]
  },
  {
   "cell_type": "markdown",
   "id": "25a236a6",
   "metadata": {},
   "source": [
    "### $K_3^2$"
   ]
  },
  {
   "cell_type": "code",
   "execution_count": null,
   "id": "f03cdd8a",
   "metadata": {},
   "outputs": [
    {
     "data": {
      "text/plain": [
       "Set{Function} with 3 elements:\n",
       "  var\"#1271#1272\"()\n",
       "  var\"#1269#1270\"()\n",
       "  var\"#1273#1274\"()"
      ]
     },
     "execution_count": 158,
     "metadata": {},
     "output_type": "execute_result"
    }
   ],
   "source": [
    "K_3_2 = load(\"./Oscar_fanlike_seeds/K_3_2\")\n",
    "\n",
    "fans_K_3_2 =Vector{Function}()\n",
    "push!(fans_K_3_2,(x0,x1,x2)->polyhedral_fan(IM(K_3_2),\n",
    "[1 0 0;0 1 0;0 0 1;0 -1 1;0 -1 0;0 x0 -1;-1 x1 x2]))\n",
    "push!(fans_K_3_2,(x0,x1,x2,x3)->polyhedral_fan(IM(K_3_2),\n",
    "[1 0 0;0 1 0;0 0 1;x0 -1 1;x1 -1 0;x2 x3 -1;-1 0 0]))\n",
    "push!(fans_K_3_2,(x0,x1,x2)->polyhedral_fan(IM(K_3_2),\n",
    "[1 0 0;0 1 0;0 0 1;0 -1 1;0 -1 0;x0 x1 -1;-1 x2 0]))\n"
   ]
  },
  {
   "cell_type": "markdown",
   "id": "0b32dd91",
   "metadata": {},
   "source": [
    "### $K_4^2$"
   ]
  },
  {
   "cell_type": "code",
   "execution_count": null,
   "id": "7d55a935",
   "metadata": {},
   "outputs": [
    {
     "data": {
      "text/plain": [
       "Set{Function} with 3 elements:\n",
       "  var\"#1277#1278\"()\n",
       "  var\"#1279#1280\"()\n",
       "  var\"#1275#1276\"()"
      ]
     },
     "execution_count": 159,
     "metadata": {},
     "output_type": "execute_result"
    }
   ],
   "source": [
    "K_4_2 = load(\"./Oscar_fanlike_seeds/K_4_2\")\n",
    "fans_K_4_2 =Vector{Function}()\n",
    "push!(fans_K_4_2,x->polyhedral_fan(IM(K_4_2),\n",
    "[1 0 0;0 1 0;0 0 1;-1 -1 x;0 0 -1;0 1 -1;1 2 -1] ))\n",
    "push!(fans_K_4_2,(x0,x1)->polyhedral_fan(IM(K_4_2),\n",
    "[1 0 0;0 1 0;0 0 1;-1 -1 1;-1 -2 1;-1 -1 0;x0 x1 -1] ))\n",
    "push!(fans_K_4_2,x->polyhedral_fan(IM(K_4_2),\n",
    "[1 0 0;0 1 0;0 0 1;-1 -1 1;0 -1 0;0 x-1 -1;1 x -1]))"
   ]
  },
  {
   "cell_type": "markdown",
   "id": "4d2ebc5c",
   "metadata": {},
   "source": [
    "### $K_5^3$"
   ]
  },
  {
   "cell_type": "markdown",
   "id": "11df5984",
   "metadata": {},
   "source": [
    "### $K_6^3$"
   ]
  },
  {
   "cell_type": "code",
   "execution_count": null,
   "id": "63b2fa99",
   "metadata": {},
   "outputs": [
    {
     "data": {
      "text/plain": [
       "Set{Function} with 4 elements:\n",
       "  var\"#1287#1288\"()\n",
       "  var\"#1283#1284\"()\n",
       "  var\"#1285#1286\"()\n",
       "  var\"#1281#1282\"()"
      ]
     },
     "execution_count": 160,
     "metadata": {},
     "output_type": "execute_result"
    }
   ],
   "source": [
    "K_6_3 = load(\"./Oscar_fanlike_seeds/K_6_3\")\n",
    "fans_K_6_3 =Vector{Function}()\n",
    "push!(fans_K_6_3,(x0,x1)->polyhedral_fan(IM(K_6_3),\n",
    "[1 0 0 0;0 1 0 0;0 0 1 0;0 0 0 1;x0 -1 x1 -1;-1 0 -1 0;0 1 -1 1;1 2 -1 1] ))\n",
    "push!(fans_K_6_3,(x0,x1,x2)->polyhedral_fan(IM(K_6_3),\n",
    "[1 0 0 0;0 1 0 0;0 0 1 0;0 0 0 1;0 -1 1 -1;-1 -1 0 -1;x0-1 x1-1 -1 x2;x0 x1 -1 x2] ))\n",
    "push!(fans_K_6_3,x->polyhedral_fan(IM(K_6_3),\n",
    "[1 0 0 0;0 1 0 0;0 0 1 0;0 0 0 1;0 -1 x;-1 -1 x-1;0 0 -1;1 1 -1]))\n",
    "push!(fans_K_6_3,x->polyhedral_fan(IM(K_6_3),\n",
    "[1 0 0 0;0 1 0 0;0 0 1 0;0 0 0 1;0 -1 1 -1;-1 x -x-1 x;0 1 -1 1;1 2 -1 1] ))"
   ]
  },
  {
   "cell_type": "markdown",
   "id": "d87f574f",
   "metadata": {},
   "source": [
    "### $K_7^3$"
   ]
  },
  {
   "cell_type": "code",
   "execution_count": null,
   "id": "5890de84",
   "metadata": {},
   "outputs": [
    {
     "data": {
      "text/plain": [
       "Set{Function} with 8 elements:\n",
       "  var\"#1297#1298\"()\n",
       "  var\"#1303#1304\"()\n",
       "  var\"#1293#1294\"()\n",
       "  var\"#1295#1296\"()\n",
       "  var\"#1301#1302\"()\n",
       "  var\"#1299#1300\"()\n",
       "  var\"#1291#1292\"()\n",
       "  var\"#1289#1290\"()"
      ]
     },
     "execution_count": 161,
     "metadata": {},
     "output_type": "execute_result"
    }
   ],
   "source": [
    "K_7_3 = load(\"./Oscar_fanlike_seeds/K_7_3\")\n",
    "fans_K_7_3 =Vector{Function}()\n",
    "push!(fans_K_7_3,(x0,x1)->polyhedral_fan(IM(K_7_3),\n",
    "[1 0 0 0;0 1 0 0;0 0 1 0;0 0 0 1;-1 -1 1 0;-1 -2 1 1;-1 -1 0 0;x0 x1 -1 -1] ))\n",
    "push!(fans_K_7_3,(x0,x1,x2)->polyhedral_fan(IM(K_7_3),\n",
    "[1 0 0 0;0 1 0 0;0 0 1 0;0 0 0 1;-1 -1 0 0;x0-1 x1-2 -1 1;x0-1 x1-1 -1 0;x0 x1 -1 -1] ))\n",
    "push!(fans_K_7_3,x->polyhedral_fan(IM(K_7_3),\n",
    "[1 0 0 0;0 1 0 0;0 0 1 0;0 0 0 1;-1 -1 1 0;-1 -2 1 1;-x-1 -2x-1 x x;1 2 -1 -1] ))\n",
    "push!(fans_K_7_3,x->polyhedral_fan(IM(K_7_3),\n",
    "[1 0 0 0;0 1 0 0;0 0 1 0;0 0 0 1;-1 -1 1 0;0 -1 0 0;0 x-1 -1 -1;1 x -1 -1] ))\n",
    "push!(fans_K_7_3,(x0,x1,x2)->polyhedral_fan(IM(K_7_3),\n",
    "[1 0 0 0;0 1 0 0;0 0 1 0;0 0 0 1;-1 -1 1 0;x0 x1 -x1-1 x2;0 1 -1 -1;1 2 -1 -1] ))\n",
    "push!(fans_K_7_3,x->polyhedral_fan(IM(K_7_3),\n",
    "[1 0 0 0;0 1 0 0;0 0 1 0;0 0 0 1;-1 -1 1 0;-x0-1 -x0-2 x0+1 x1+1;-x0-1 -x0-1 x0 x1;1 1 -1 -1] ))\n",
    "push!(fans_K_7_3,(x0,x1)->polyhedral_fan(IM(K_7_3),\n",
    "[1 0 0 0;0 1 0 0;0 0 1 0;0 0 0 1;-1 -1 x0+1 x1;-1 -2 2x0+1 2x1+1;-1 -1 x0 x1;0 0 -1 -1] ))\n",
    "push!(fans_K_7_3,x->polyhedral_fan(IM(K_7_3),\n",
    "[1 0 0 0;0 1 0 0;0 0 1 0;0 0 0 1;-1 -1 x 0;0 -1 x-1 1;0 0 -1 0;1 1 -1 -1] ))"
   ]
  },
  {
   "cell_type": "markdown",
   "id": "18cb4992",
   "metadata": {},
   "source": [
    "### $K_8^3$"
   ]
  },
  {
   "cell_type": "code",
   "execution_count": null,
   "id": "3dcb0aae",
   "metadata": {},
   "outputs": [
    {
     "ename": "LoadError",
     "evalue": "MethodError: no method matching is_projective(::PolyhedralFan{QQFieldElem})\nThe function `is_projective` exists, but no method is defined for this combination of argument types.\n\n\u001b[0mClosest candidates are:\n\u001b[0m  is_projective(\u001b[91m::FreeMod\u001b[39m; check)\n\u001b[0m\u001b[90m   @\u001b[39m \u001b[36mOscar\u001b[39m \u001b[90m~/.julia/packages/Oscar/T5Jnd/experimental/Schemes/src/\u001b[39m\u001b[90m\u001b[4mProjectiveModules.jl:39\u001b[24m\u001b[39m\n\u001b[0m  is_projective(\u001b[91m::SubquoModule\u001b[39m; check)\n\u001b[0m\u001b[90m   @\u001b[39m \u001b[36mOscar\u001b[39m \u001b[90m~/.julia/packages/Oscar/T5Jnd/experimental/Schemes/src/\u001b[39m\u001b[90m\u001b[4mProjectiveModules.jl:13\u001b[24m\u001b[39m\n\u001b[0m  is_projective(\u001b[91m::LinRep\u001b[39m, \u001b[91m::GAPGroupHomomorphism\u001b[39m)\n\u001b[0m\u001b[90m   @\u001b[39m \u001b[36mOscar\u001b[39m \u001b[90m~/.julia/packages/Oscar/T5Jnd/experimental/SymmetricIntersections/src/\u001b[39m\u001b[90m\u001b[4mrepresentations.jl:401\u001b[24m\u001b[39m\n\u001b[0m  ...\n",
     "output_type": "error",
     "traceback": [
      "MethodError: no method matching is_projective(::PolyhedralFan{QQFieldElem})\nThe function `is_projective` exists, but no method is defined for this combination of argument types.\n\n\u001b[0mClosest candidates are:\n\u001b[0m  is_projective(\u001b[91m::FreeMod\u001b[39m; check)\n\u001b[0m\u001b[90m   @\u001b[39m \u001b[36mOscar\u001b[39m \u001b[90m~/.julia/packages/Oscar/T5Jnd/experimental/Schemes/src/\u001b[39m\u001b[90m\u001b[4mProjectiveModules.jl:39\u001b[24m\u001b[39m\n\u001b[0m  is_projective(\u001b[91m::SubquoModule\u001b[39m; check)\n\u001b[0m\u001b[90m   @\u001b[39m \u001b[36mOscar\u001b[39m \u001b[90m~/.julia/packages/Oscar/T5Jnd/experimental/Schemes/src/\u001b[39m\u001b[90m\u001b[4mProjectiveModules.jl:13\u001b[24m\u001b[39m\n\u001b[0m  is_projective(\u001b[91m::LinRep\u001b[39m, \u001b[91m::GAPGroupHomomorphism\u001b[39m)\n\u001b[0m\u001b[90m   @\u001b[39m \u001b[36mOscar\u001b[39m \u001b[90m~/.julia/packages/Oscar/T5Jnd/experimental/SymmetricIntersections/src/\u001b[39m\u001b[90m\u001b[4mrepresentations.jl:401\u001b[24m\u001b[39m\n\u001b[0m  ...\n",
      "",
      "Stacktrace:",
      " [1] top-level scope",
      "\u001b[90m   @\u001b[39m \u001b[90m\u001b[4mIn[14]:16\u001b[24m\u001b[39m"
     ]
    }
   ],
   "source": [
    "K_8_3 = load(\"./Oscar_fanlike_seeds/K_8_3\")\n",
    "fans_K_8_3 =Vector{Function}()\n",
    "push!(fans_K_8_3,()->polyhedral_fan(IM(K_8_3),\n",
    "[1 0 0 0;0 1 0 0;0 0 1 0;0 0 0 1;-1 0 -1 -1;-1 -1 0 0;0 -1 -1 0;-1 -1 -1 -1]))\n",
    "push!(fans_K_8_3,(x0,x1)->polyhedral_fan(IM(K_8_3),\n",
    "[1 0 0 0;0 1 0 0;0 0 1 0;0 0 0 1;-1 1 0 -1;0 -1 1 1;x0 0 -1 x1;-1 0 0 -1] ))\n",
    "push!(fans_K_8_3,x->polyhedral_fan(IM(K_8_3),\n",
    "[1 0 0 0;0 1 0 0;0 0 1 0;0 0 0 1;-1 x 0 -1;0 -1 1 1;1 0 -1 0;0 -1 0 0]))\n",
    "push!(fans_K_8_3,(x0,x1)->polyhedral_fan(IM(K_8_3),\n",
    "[1 0 0 0;0 1 0 0;0 0 1 0;0 0 0 1;-1 1 x0 -1;0 -1 x1 1;0 0 -1 0;-1 0 x0+x1-1 -1] ))\n",
    "push!(fans_K_8_3,(x0,x1,x2)->polyhedral_fan(IM(K_8_3),\n",
    "[1 0 0 0;0 1 0 0;0 0 1 0;0 0 0 1;-1 0 0 -1;x0 -1 x1 x2;1 0 -1 0;x0 -1 x1-1 x2-1] ))\n",
    "push!(fans_K_8_3,x->polyhedral_fan(IM(K_8_3),\n",
    "[1 0 0 0;0 1 0 0;0 0 1 0;0 0 0 1;-1 1 0 -1;0 -1 x x;1 0 -1 0;0 0 -1 -1] ))\n",
    "\n"
   ]
  },
  {
   "cell_type": "markdown",
   "id": "b5925f45",
   "metadata": {},
   "source": [
    "### $K_9^3$"
   ]
  },
  {
   "cell_type": "code",
   "execution_count": null,
   "id": "dea62083",
   "metadata": {},
   "outputs": [
    {
     "data": {
      "text/plain": [
       "6-element Vector{Function}:\n",
       " #125 (generic function with 1 method)\n",
       " #127 (generic function with 1 method)\n",
       " #129 (generic function with 1 method)\n",
       " #131 (generic function with 1 method)\n",
       " #133 (generic function with 1 method)\n",
       " #135 (generic function with 1 method)"
      ]
     },
     "execution_count": 15,
     "metadata": {},
     "output_type": "execute_result"
    }
   ],
   "source": [
    "K_9_3 = load(\"./Oscar_fanlike_seeds/K_9_3\")\n",
    "fans_K_9_3 =Vector{Function}()\n",
    "\n",
    "push!(fans_K_9_3,(x0,x1)->polyhedral_fan(IM(K_9_3),\n",
    "[1 0 0 0;0 1 0 0;0 0 1 0;0 0 0 1;x0 -1 x1 0;-1 0 -1 0;0 1 -1 -1;1 2 -1 -1] ))\n",
    "push!(fans_K_9_3,()->polyhedral_fan(IM(K_9_3),\n",
    "[1 0 0 0;0 1 0 0;0 0 1 0;0 0 0 1;1 -1 2 1;-1 0 -1 -1;-1 1 -2 -2;0 1 -1 -1] ))\n",
    "push!(fans_K_9_3,x->polyhedral_fan(IM(K_9_3),\n",
    "[1 0 0 0;0 1 0 0;0 0 1 0;0 0 0 1;0 -1 0 0;-1 x-2 -1 0;0 x-1 -1 -1;1 x -1 -1] ))\n",
    "push!(fans_K_9_3,(x0,x1)->polyhedral_fan(IM(K_9_3),\n",
    "[1 0 0 0;0 1 0 0;0 0 1 0;0 0 0 1;0 -1 1 0;-1 -1 0 0;x0-1 x1-1 -1 -1;x0 x1 -1 -1] ))\n",
    "push!(fans_K_9_3,(x0,x1)->polyhedral_fan(IM(K_9_3),\n",
    "[1 0 0 0;0 1 0 0;0 0 1 0;0 0 0 1;0 -1 1 0;-1 x0 -x0-1 x1;0 1 -1 -1;1 2 -1 -1] ))\n",
    "push!(fans_K_9_3,(x0,x1)->polyhedral_fan(IM(K_9_3),\n",
    "[1 0 0 0;0 1 0 0;0 0 1 0;0 0 0 1;0 -1 x0 x1;-1 -1 x0-1 x1;0 0 -1 -1;1 1 -1 -1] ))"
   ]
  },
  {
   "cell_type": "markdown",
   "id": "3fb94c1c",
   "metadata": {},
   "source": [
    "### $K_{10}^3$"
   ]
  },
  {
   "cell_type": "code",
   "execution_count": null,
   "id": "be40dec4",
   "metadata": {},
   "outputs": [
    {
     "data": {
      "text/plain": [
       "1-element Vector{Function}:\n",
       " #137 (generic function with 1 method)"
      ]
     },
     "execution_count": 16,
     "metadata": {},
     "output_type": "execute_result"
    }
   ],
   "source": [
    "K_10_3 = load(\"./Oscar_fanlike_seeds/K_10_3\")\n",
    "fans_K_10_3 =Vector{Function}()\n",
    "push!(fans_K_10_3,()->polyhedral_fan(IM(K_10_3),\n",
    "[1 0 0 0;0 1 0 0;0 0 1 0;0 0 0 1;-1 -1 0 0;-1 0 -1 1;0 1 -1 0;1 2 -1 -1] ))\n"
   ]
  },
  {
   "cell_type": "markdown",
   "id": "56738125",
   "metadata": {},
   "source": [
    "### $K_{11}^3$"
   ]
  },
  {
   "cell_type": "code",
   "execution_count": null,
   "id": "47cf5b05",
   "metadata": {},
   "outputs": [
    {
     "data": {
      "text/plain": [
       "1-element Vector{Function}:\n",
       " #139 (generic function with 1 method)"
      ]
     },
     "execution_count": 17,
     "metadata": {},
     "output_type": "execute_result"
    }
   ],
   "source": [
    "K_11_3 = load(\"./Oscar_fanlike_seeds/K_11_3\")\n",
    "fans_K_11_3 =Vector{Function}()\n",
    "push!(fans_K_11_3,()->polyhedral_fan(IM(K_11_3),\n",
    "[1 0 0 0;0 1 0 0;0 0 1 0;0 0 0 1;-1 0 0 -1;1 -1 0 1;0 2 -1 -1;0 1 -1 -1] ))"
   ]
  },
  {
   "cell_type": "markdown",
   "id": "25c47ce3",
   "metadata": {},
   "source": [
    "### $K_{12}^3$"
   ]
  },
  {
   "cell_type": "code",
   "execution_count": 19,
   "id": "899eadb6",
   "metadata": {},
   "outputs": [
    {
     "data": {
      "text/plain": [
       "3-element Vector{Function}:\n",
       " #147 (generic function with 1 method)\n",
       " #149 (generic function with 1 method)\n",
       " #151 (generic function with 1 method)"
      ]
     },
     "execution_count": 19,
     "metadata": {},
     "output_type": "execute_result"
    }
   ],
   "source": [
    "K_12_3 = load(\"./Oscar_fanlike_seeds/K_12_3\")\n",
    "fans_K_12_3 =Vector{Function}()\n",
    "push!(fans_K_12_3,(x0,x1)->polyhedral_fan(IM(K_12_3),\n",
    "[1 0 0 0;0 1 0 0;0 0 1 0;0 0 0 1;x0 -1 x1 0;-1 0 -1 0;-1 1 -2 -1;0 1 -1 -1] ))\n",
    "push!(fans_K_12_3,x->polyhedral_fan(IM(K_12_3),\n",
    "[1 0 0 0;0 1 0 0;0 0 1 0;0 0 0 1;0 -1 0 0;-1 x-1 -1 0;-1 2x-1 -2 -1;0 x -1 -1] ))\n",
    "push!(fans_K_12_3,(x0,x1)->polyhedral_fan(IM(K_12_3),\n",
    "[1 0 0 0;0 1 0 0;0 0 1 0;0 0 0 1;0 -1 1 0;-1 -1 0 0;x0-1 x1-1 -1 -1;x0 x1 -1 -1] ))"
   ]
  },
  {
   "cell_type": "markdown",
   "id": "61ca0d45",
   "metadata": {},
   "source": [
    "### $K_{13}^3$"
   ]
  },
  {
   "cell_type": "code",
   "execution_count": 18,
   "id": "15d1e8a9",
   "metadata": {},
   "outputs": [
    {
     "data": {
      "text/plain": [
       "3-element Vector{Function}:\n",
       " #141 (generic function with 1 method)\n",
       " #143 (generic function with 1 method)\n",
       " #145 (generic function with 1 method)"
      ]
     },
     "execution_count": 18,
     "metadata": {},
     "output_type": "execute_result"
    }
   ],
   "source": [
    "K_13_3 = load(\"./Oscar_fanlike_seeds/K_13_3\")\n",
    "fans_K_13_3 =Vector{Function}()\n",
    "push!(fans_K_13_3,(x0,x1,x2)->polyhedral_fan(IM(K_13_3),\n",
    "[1 0 0 0;0 1 0 0;0 0 1 0;0 0 0 1;x0 -1 x1 x2;-1 0 -1 -1;0 1 -1 -1;1 2 -1 0] ))\n",
    "push!(fans_K_13_3,x->polyhedral_fan(IM(K_13_3),\n",
    "[1 0 0 0;0 1 0 0;0 0 1 0;0 0 0 1;0 -1 0 0;-1 x-2 -1 -1;0 x-1 -1 -1;1 x -1 0] ))\n",
    "push!(fans_K_13_3,(x0,x1)->polyhedral_fan(IM(K_13_3),\n",
    "[1 0 0 0;0 1 0 0;0 0 1 0;0 0 0 1;0 -1 1 1;-1 -1 0 0;x0-1 x1-1 -1 -1;x0 x1 -1 0] ))"
   ]
  },
  {
   "cell_type": "markdown",
   "id": "d84ec9f6",
   "metadata": {},
   "source": [
    "### $K_{14}^3$"
   ]
  },
  {
   "cell_type": "code",
   "execution_count": 21,
   "id": "d6583032",
   "metadata": {},
   "outputs": [
    {
     "data": {
      "text/plain": [
       "1-element Vector{Function}:\n",
       " #159 (generic function with 1 method)"
      ]
     },
     "execution_count": 21,
     "metadata": {},
     "output_type": "execute_result"
    }
   ],
   "source": [
    "K_14_3 = load(\"./Oscar_fanlike_seeds/K_14_3\")\n",
    "fans_K_14_3 =Vector{Function}()\n",
    "push!(fans_K_14_3,()->polyhedral_fan(IM(K_14_3),\n",
    "[1 0 0 0;0 1 0 0;0 0 1 0;0 0 0 1;-1 -1 0 1;-1 -1 -1 0;-1 0 -1 0;0 1 -1 -1] ))\n"
   ]
  },
  {
   "cell_type": "markdown",
   "id": "dc3f7c64",
   "metadata": {},
   "source": [
    "### $K_{15}^4$"
   ]
  },
  {
   "cell_type": "code",
   "execution_count": 20,
   "id": "082b7d57",
   "metadata": {},
   "outputs": [
    {
     "data": {
      "text/plain": [
       "3-element Vector{Function}:\n",
       " #153 (generic function with 1 method)\n",
       " #155 (generic function with 1 method)\n",
       " #157 (generic function with 1 method)"
      ]
     },
     "execution_count": 20,
     "metadata": {},
     "output_type": "execute_result"
    }
   ],
   "source": [
    "K_15_4 = load(\"./Oscar_fanlike_seeds/K_15_4\")\n",
    "fans_K_15_4 =Vector{Function}()\n",
    "push!(fans_K_15_4,()->polyhedral_fan(IM(K_15_4),\n",
    "[1 0 0 0 0;0 1 0 0 0;0 0 1 0 0;0 0 0 1 0;0 0 0 0 1;-1 0 -1 -1 0;-1 -1 0 0 0;0 -1 -1 0 -1;-1 -1 -1 -1 -1]))\n",
    "push!(fans_K_15_4,(x0,x1)->polyhedral_fan(IM(K_15_4),\n",
    "[1 0 0 0 0;0 1 0 0 0;0 0 1 0 0;0 0 0 1 0;0 0 0 0 1;-1 1 0 -1 1;0 -1 1 1 0;x0 0 -1 x1 -1;-1 0 0 -1 0] ))\n",
    "push!(fans_K_15_4,()->polyhedral_fan(IM(K_15_4),\n",
    "[1 0 0 0 0;0 1 0 0 0;0 0 1 0 0;0 0 0 1 0;0 0 0 0 1;-1 0 0 -1 0;0 -1 1 0 0;1 0 -1 0 -1;0 -1 0 -1 -1] ))"
   ]
  },
  {
   "cell_type": "markdown",
   "id": "01aee92e",
   "metadata": {},
   "source": [
    "### $K_{16}^4$"
   ]
  },
  {
   "cell_type": "code",
   "execution_count": 25,
   "id": "a29ac31f",
   "metadata": {},
   "outputs": [
    {
     "data": {
      "text/plain": [
       "6-element Vector{Function}:\n",
       " #179 (generic function with 1 method)\n",
       " #181 (generic function with 1 method)\n",
       " #183 (generic function with 1 method)\n",
       " #185 (generic function with 1 method)\n",
       " #187 (generic function with 1 method)\n",
       " #189 (generic function with 1 method)"
      ]
     },
     "execution_count": 25,
     "metadata": {},
     "output_type": "execute_result"
    }
   ],
   "source": [
    "K_16_4 = load(\"./Oscar_fanlike_seeds/K_16_4\")\n",
    "fans_K_16_4 =Vector{Function}()\n",
    "push!(fans_K_16_4,(x0,x1,x2)->polyhedral_fan(IM(K_16_4),\n",
    "[1 0 0 0 0;0 1 0 0 0;0 0 1 0 0;0 0 0 1 0;0 0 0 0 1;-1 -1 1 0 0;-1 -2 1 1 -1;-1 -1 0 0 -1;x0 x1 -1 -1 x2] ))\n",
    "push!(fans_K_16_4,(x0,x1)->polyhedral_fan(IM(K_16_4),\n",
    "[1 0 0 0 0;0 1 0 0 0;0 0 1 0 0;0 0 0 1 0;0 0 0 0 1;-1 -1 0 0 0;x0-1 x1-2 -1 1 -1;x0-1 x1-1 -1 0 -1;x0 x1 -1 -1 0] ))\n",
    "push!(fans_K_16_4,()->polyhedral_fan(IM(K_16_4),\n",
    "[1 0 0 0 0;0 1 0 0 0;0 0 1 0 0;0 0 0 1 0;0 0 0 0 1;-1 -1 1 0 0;0 0 -1 0 -1;0 1 -1 -1 -1;1 2 -1 -1 0] ))\n",
    "push!(fans_K_16_4,(x0,x1)->polyhedral_fan(IM(K_16_4),\n",
    "[1 0 0 0 0;0 1 0 0 0;0 0 1 0 0;0 0 0 1 0;0 0 0 0 1;-1 -1 1 0 0;-x0-1 -x0-2 x0+1 x1+1 -1;-x0-1 -x0-1 x0 x1 -1;1 1 -1 -1 0] ))\n",
    "push!(fans_K_16_4,(x0,x1)->polyhedral_fan(IM(K_16_4),\n",
    "[1 0 0 0 0;0 1 0 0 0;0 0 1 0 0;0 0 0 1 0;0 0 0 0 1;-1 -1 x0+1 x1 0;-1 -2 2x0+1 2x1+1 -1;-1 -1 x0 x1 -1;0 0 -1 -1 0] ))\n",
    "push!(fans_K_16_4,(x0,x1)->polyhedral_fan(IM(K_16_4),\n",
    "[1 0 0 0 0;0 1 0 0 0;0 0 1 0 0;0 0 0 1 0;0 0 0 0 1;-1 -1 x0 0 x1+1;0 -1 x0-1 1 x1;0 0 -1 0 -1;1 1 -1 -1 0] ))"
   ]
  },
  {
   "cell_type": "markdown",
   "id": "c747a7fd",
   "metadata": {},
   "source": [
    "### $K_{17}^4$"
   ]
  },
  {
   "cell_type": "code",
   "execution_count": 26,
   "id": "6ff0bb2e",
   "metadata": {},
   "outputs": [
    {
     "data": {
      "text/plain": [
       "2-element Vector{Function}:\n",
       " #191 (generic function with 1 method)\n",
       " #193 (generic function with 1 method)"
      ]
     },
     "execution_count": 26,
     "metadata": {},
     "output_type": "execute_result"
    }
   ],
   "source": [
    "K_17_4 = load(\"./Oscar_fanlike_seeds/K_17_4\")\n",
    "fans_K_17_4 =Vector{Function}()\n",
    "push!(fans_K_17_4,()->polyhedral_fan(IM(K_17_4),\n",
    "[1 0 0 0 0;0 1 0 0 0;0 0 1 0 0;0 0 0 1 0;0 0 0 0 1;-1 0 0 -1 -1;1 -1 0 1 0;0 2 -1 -1 1;0 1 -1 -1 0] ))\n",
    "push!(fans_K_17_4,()->polyhedral_fan(IM(K_17_4),\n",
    "[1 0 0 0 0;0 1 0 0 0;0 0 1 0 0;0 0 0 1 0;0 0 0 0 1;-1 -2 1 1 -1;0 -1 0 1 0;0 2 -1 -1 1;-1 -1 0 0 -1] ))"
   ]
  },
  {
   "cell_type": "markdown",
   "id": "7351ae6a",
   "metadata": {},
   "source": [
    "### $K_{18}^4$"
   ]
  },
  {
   "cell_type": "code",
   "execution_count": 27,
   "id": "52255474",
   "metadata": {},
   "outputs": [
    {
     "data": {
      "text/plain": [
       "1-element Vector{Function}:\n",
       " #195 (generic function with 1 method)"
      ]
     },
     "execution_count": 27,
     "metadata": {},
     "output_type": "execute_result"
    }
   ],
   "source": [
    "K_18_4 = load(\"./Oscar_fanlike_seeds/K_18_4\")\n",
    "fans_K_18_4 =Vector{Function}()\n",
    "push!(fans_K_18_4,()->polyhedral_fan(IM(K_18_4),\n",
    "[1 0 0 0 0;0 1 0 0 0;0 0 1 0 0;0 0 0 1 0;0 0 0 0 1;-1 0 0 -1 -1;1 -1 0 1 0;0 2 -1 -1 0;0 1 -1 -1 -1] ))"
   ]
  },
  {
   "cell_type": "markdown",
   "id": "53af9b70",
   "metadata": {},
   "source": [
    "### $K_{19}^4$"
   ]
  },
  {
   "cell_type": "code",
   "execution_count": 28,
   "id": "5647b07c",
   "metadata": {},
   "outputs": [
    {
     "data": {
      "text/plain": [
       "3-element Vector{Function}:\n",
       " #197 (generic function with 1 method)\n",
       " #199 (generic function with 1 method)\n",
       " #201 (generic function with 1 method)"
      ]
     },
     "execution_count": 28,
     "metadata": {},
     "output_type": "execute_result"
    }
   ],
   "source": [
    "K_19_4 = load(\"./Oscar_fanlike_seeds/K_19_4\")\n",
    "fans_K_19_4 =Vector{Function}()\n",
    "push!(fans_K_19_4,(x0,x1)->polyhedral_fan(IM(K_19_4),\n",
    "[1 0 0 0 0;0 1 0 0 0;0 0 1 0 0;0 0 0 1 0;0 0 0 0 1;-1 -1 1 0 1;-1 -2 1 1 2;-1 -1 0 0 0;x0 x1 -1 -1 -1] ))\n",
    "push!(fans_K_19_4,(x0,x1)->polyhedral_fan(IM(K_19_4),\n",
    "[1 0 0 0 0;0 1 0 0 0;0 0 1 0 0;0 0 0 1 0;0 0 0 0 1;-1 -1 1 0 1;-x0-1 -x0-2 x0+1 x1+1 x0+2;-x0-1 -x0-1 x0 x1 x0;1 1 -1 -1 -1] ))\n",
    "push!(fans_K_19_4,(x0,x1,x2)->polyhedral_fan(IM(K_19_4),\n",
    "[1 0 0 0 0;0 1 0 0 0;0 0 1 0 0;0 0 0 1 0;0 0 0 0 1;-1 -1 x0+1 x1 x2+1;-1 -2 2x0+1 2x1+1 2x2+2;-1 -1 x0 x1 x2;0 0 -1 -1 -1] ))\n"
   ]
  },
  {
   "cell_type": "markdown",
   "id": "3b4d43dd",
   "metadata": {},
   "source": [
    "### $K_{20}^4$"
   ]
  },
  {
   "cell_type": "code",
   "execution_count": 29,
   "id": "d4f12bbd",
   "metadata": {},
   "outputs": [
    {
     "data": {
      "text/plain": [
       "3-element Vector{Function}:\n",
       " #203 (generic function with 1 method)\n",
       " #205 (generic function with 1 method)\n",
       " #207 (generic function with 1 method)"
      ]
     },
     "execution_count": 29,
     "metadata": {},
     "output_type": "execute_result"
    }
   ],
   "source": [
    "K_20_4 = load(\"./Oscar_fanlike_seeds/K_20_4\")\n",
    "fans_K_20_4 =Vector{Function}()\n",
    "push!(fans_K_20_4,()->polyhedral_fan(IM(K_20_4),\n",
    "[1 0 0 0 0;0 1 0 0 0;0 0 1 0 0;0 0 0 1 0;0 0 0 0 1;-1 -1 0 0 -1;-1 0 -1 -1 0;0 1 -1 -1 1;1 2 -1 0 1] ))\n",
    "push!(fans_K_20_4,()->polyhedral_fan(IM(K_20_4),\n",
    "[1 0 0 0 0;0 1 0 0 0;0 0 1 0 0;0 0 0 1 0;0 0 0 0 1;0 -1 1 1 -1;-1 -1 0 0 -1;-1 0 -1 -1 0;0 1 -1 0 0] ))\n",
    "push!(fans_K_20_4,()->polyhedral_fan(IM(K_20_4),\n",
    "[1 0 0 0 0;0 1 0 0 0;0 0 1 0 0;0 0 0 1 0;0 0 0 0 1;0 -1 1 0 -1;-1 -1 0 -1 0;0 0 -1 -1 1;1 1 -1 0 0] ))"
   ]
  },
  {
   "cell_type": "markdown",
   "id": "90b30726",
   "metadata": {},
   "source": [
    "### $K_{21}^4$"
   ]
  },
  {
   "cell_type": "code",
   "execution_count": 30,
   "id": "fa518f10",
   "metadata": {},
   "outputs": [
    {
     "data": {
      "text/plain": [
       "1-element Vector{Function}:\n",
       " #209 (generic function with 1 method)"
      ]
     },
     "execution_count": 30,
     "metadata": {},
     "output_type": "execute_result"
    }
   ],
   "source": [
    "K_21_4 = load(\"./Oscar_fanlike_seeds/K_21_4\")\n",
    "fans_K_21_4 =Vector{Function}()\n",
    "push!(fans_K_21_4,()->polyhedral_fan(IM(K_21_4),\n",
    "[1 0 0 0 0;0 1 0 0 0;0 0 1 0 0;0 0 0 1 0;0 0 0 0 1;-1 -1 0 0 -1;-1 0 -1 1 0;0 1 -1 0 0;1 2 -1 -1 1]))"
   ]
  },
  {
   "cell_type": "markdown",
   "id": "1ed70a40",
   "metadata": {},
   "source": [
    "### $K_{22}^4$"
   ]
  },
  {
   "cell_type": "code",
   "execution_count": 32,
   "id": "06bcc25d",
   "metadata": {},
   "outputs": [
    {
     "data": {
      "text/plain": [
       "2-element Vector{Function}:\n",
       " #213 (generic function with 1 method)\n",
       " #215 (generic function with 1 method)"
      ]
     },
     "execution_count": 32,
     "metadata": {},
     "output_type": "execute_result"
    }
   ],
   "source": [
    "K_22_4 = load(\"./Oscar_fanlike_seeds/K_22_4\")\n",
    "fans_K_22_4 =Vector{Function}()\n",
    "push!(fans_K_22_4,()->polyhedral_fan(IM(K_22_4),\n",
    "[1 0 0 0 0;0 1 0 0 0;0 0 1 0 0;0 0 0 1 0;0 0 0 0 1;-1 -1 0 0 0;-1 0 -1 1 -1;0 1 -1 0 -1;1 2 -1 -1 0] ))\n",
    "push!(fans_K_22_4,()->polyhedral_fan(IM(K_22_4),\n",
    "[1 0 0 0 0;0 1 0 0 0;0 0 1 0 0;0 0 0 1 0;0 0 0 0 1;0 -1 0 -1 0;-1 -2 -1 -1 -1;0 -1 -1 -1 -1;1 0 -1 -1 0] ))"
   ]
  },
  {
   "cell_type": "markdown",
   "id": "6694293d",
   "metadata": {},
   "source": [
    "### $K_{23}^4$"
   ]
  },
  {
   "cell_type": "code",
   "execution_count": 34,
   "id": "2c9959b1",
   "metadata": {},
   "outputs": [
    {
     "data": {
      "text/plain": [
       "5-element Vector{Function}:\n",
       " #225 (generic function with 1 method)\n",
       " #227 (generic function with 1 method)\n",
       " #229 (generic function with 1 method)\n",
       " #231 (generic function with 1 method)\n",
       " #233 (generic function with 1 method)"
      ]
     },
     "execution_count": 34,
     "metadata": {},
     "output_type": "execute_result"
    }
   ],
   "source": [
    "K_23_4 = load(\"./Oscar_fanlike_seeds/K_23_4\")\n",
    "fans_K_23_4 =Vector{Function}()\n",
    "push!(fans_K_23_4,(x0,x1)->polyhedral_fan(IM(K_23_4),\n",
    "[1 0 0 0 0;0 1 0 0 0;0 0 1 0 0;0 0 0 1 0;0 0 0 0 1;-1 -1 1 0 -1;-1 -2 1 1 -1;-1 -1 0 0 0;x0 x1 -1 -1 0] ))\n",
    "push!(fans_K_23_4,(x0,x1,x2)->polyhedral_fan(IM(K_23_4),\n",
    "[1 0 0 0 0;0 1 0 0 0;0 0 1 0 0;0 0 0 1 0;0 0 0 0 1;-1 -1 0 0 -1;x0-1 x1-2 -1 1 x2-1;x0-1 x1-1 -1 0 x2;x0 x1 -1 -1 x2] ))\n",
    "push!(fans_K_23_4,(x0,x1)->polyhedral_fan(IM(K_23_4),\n",
    "[1 0 0 0 0;0 1 0 0 0;0 0 1 0 0;0 0 0 1 0;0 0 0 0 1;-1 -1 1 0 -1;-1 -2 1 1 -1;-x0-1 -2x0-1 x0 x0 x1;1 2 -1 -1 0] ))\n",
    "push!(fans_K_23_4,(x)->polyhedral_fan(IM(K_23_4),\n",
    "[1 0 0 0 0;0 1 0 0 0;0 0 1 0 0;0 0 0 1 0;0 0 0 0 1;-1 -1 1 0 -1;0 -1 0 0 0;0 x-1 -1 -1 1;1 x -1 -1 0] ))\n",
    "push!(fans_K_23_4,(x0,x1,x2)->polyhedral_fan(IM(K_23_4),\n",
    "[1 0 0 0 0;0 1 0 0 0;0 0 1 0 0;0 0 0 1 0;0 0 0 0 1;-1 -1 1 0 -1;-x0-1 -x0-2 x0+1 x1+1 x2-1;-x0-1 -x0-1 x0 x1 x2;1 1 -1 -1 0] ))"
   ]
  },
  {
   "cell_type": "markdown",
   "id": "7daddc45",
   "metadata": {},
   "source": [
    "### $K_{24}^4$"
   ]
  },
  {
   "cell_type": "code",
   "execution_count": 37,
   "id": "8c61b797",
   "metadata": {},
   "outputs": [
    {
     "data": {
      "text/plain": [
       "3-element Vector{Function}:\n",
       " #241 (generic function with 1 method)\n",
       " #243 (generic function with 1 method)\n",
       " #245 (generic function with 1 method)"
      ]
     },
     "execution_count": 37,
     "metadata": {},
     "output_type": "execute_result"
    }
   ],
   "source": [
    "K_24_4 = load(\"./Oscar_fanlike_seeds/K_24_4\")\n",
    "fans_K_24_4 =Vector{Function}()\n",
    "push!(fans_K_24_4,(x0,x1)->polyhedral_fan(IM(K_24_4),\n",
    "[1 0 0 0 0;0 1 0 0 0;0 0 1 0 0;0 0 0 1 0;0 0 0 0 1;0 -1 1 0 -1;-1 -2 1 1 -1;-1 -1 0 0 0;x0 x1 -1 -1 0] ))\n",
    "push!(fans_K_24_4,(x0,x1)->polyhedral_fan(IM(K_24_4),\n",
    "[1 0 0 0 0;0 1 0 0 0;0 0 1 0 0;0 0 0 1 0;0 0 0 0 1;0 -1 1 0 -1;-1 -2 1 1 -1;-x0-1 -2x0-1 x0 x0 x1;1 2 -1 -1 0] ))\n",
    "push!(fans_K_24_4,(x0,x1,x2)->polyhedral_fan(IM(K_24_4),\n",
    "[1 0 0 0 0;0 1 0 0 0;0 0 1 0 0;0 0 0 1 0;0 0 0 0 1;0 -1 1 0 -1;-1 -x0-2 x0+1 x1+1 x2-1;-1 -x0-1 x0 x1 x2;0 1 -1 -1 0] ))"
   ]
  },
  {
   "cell_type": "markdown",
   "id": "7a1d5d60",
   "metadata": {},
   "source": [
    "### $K_{25}^4$"
   ]
  },
  {
   "cell_type": "code",
   "execution_count": 40,
   "id": "af83491f",
   "metadata": {},
   "outputs": [
    {
     "data": {
      "text/plain": [
       "3-element Vector{Function}:\n",
       " #253 (generic function with 1 method)\n",
       " #255 (generic function with 1 method)\n",
       " #257 (generic function with 1 method)"
      ]
     },
     "execution_count": 40,
     "metadata": {},
     "output_type": "execute_result"
    }
   ],
   "source": [
    "K_25_4 = load(\"./Oscar_fanlike_seeds/K_25_4\")\n",
    "fans_K_25_4 =Vector{Function}()\n",
    "push!(fans_K_25_4,(x0,x1,x2)->polyhedral_fan(IM(K_25_25_4),\n",
    "[1 0 0 0 0;0 1 0 0 0;0 0 1 0 0;0 0 0 1 0;0 0 0 0 1;-1 -1 1 0 0;-1 -2 1 1 -1;-1 -1 0 0 -1;x0 x1 -1 -1 x2] ))\n",
    "push!(fans_K_25_4,(x)->polyhedral_fan(IM(K_25_25_4),\n",
    "[1 0 0 0 0;0 1 0 0 0;0 0 1 0 0;0 0 0 1 0;0 0 0 0 1;-1 -1 1 0 0;-1 -2 1 1 -1;-x-1 -2x-1 x x -x-1;1 2 -1 -1 1] ))\n",
    "push!(fans_K_25_4,(x0,x1)->polyhedral_fan(IM(K_25_25_4),\n",
    "[1 0 0 0 0;0 1 0 0 0;0 0 1 0 0;0 0 0 1 0;0 0 0 0 1;-1 -1 1 0 0;0 -1 0 0 -1;0 x0-1 -1 -1 x1-1;1 x0 -1 -1 x1] ))"
   ]
  },
  {
   "cell_type": "markdown",
   "id": "244354b0",
   "metadata": {},
   "source": [
    "### $K_{26}^4$"
   ]
  },
  {
   "cell_type": "code",
   "execution_count": 42,
   "id": "6d7bf161",
   "metadata": {},
   "outputs": [
    {
     "data": {
      "text/plain": [
       "1-element Vector{Function}:\n",
       " #261 (generic function with 1 method)"
      ]
     },
     "execution_count": 42,
     "metadata": {},
     "output_type": "execute_result"
    }
   ],
   "source": [
    "K_26_4 = load(\"./Oscar_fanlike_seeds/K_26_4\")\n",
    "fans_K_26_4 =Vector{Function}()\n",
    "push!(fans_K_26_4,()->polyhedral_fan(IM(K_26_4),\n",
    "[1 0 0 0 0;0 1 0 0 0;0 0 1 0 0;0 0 0 1 0;0 0 0 0 1;-1 -1 0 1 -1;-1 -1 -1 0 -1;-1 0 -1 0 0;0 1 -1 -1 0] ))"
   ]
  },
  {
   "cell_type": "markdown",
   "id": "f2d4891b",
   "metadata": {},
   "source": [
    "### $K_{27}^4$"
   ]
  },
  {
   "cell_type": "code",
   "execution_count": 43,
   "id": "e1e7a85b",
   "metadata": {},
   "outputs": [
    {
     "data": {
      "text/plain": [
       "1-element Vector{Function}:\n",
       " #263 (generic function with 1 method)"
      ]
     },
     "execution_count": 43,
     "metadata": {},
     "output_type": "execute_result"
    }
   ],
   "source": [
    "K_27_4 = load(\"./Oscar_fanlike_seeds/K_27_4\")\n",
    "fans_K_27_4 =Vector{Function}()\n",
    "push!(fans_K_27_4,()->polyhedral_fan(IM(K_27_4),\n",
    "[1 0 0 0 0;0 1 0 0 0;0 0 1 0 0;0 0 0 1 0;0 0 0 0 1;-1 0 0 -1 0;1 -1 0 1 -1;0 2 -1 -1 1;0 1 -1 -1 0] ))"
   ]
  },
  {
   "cell_type": "markdown",
   "id": "ff390bfc",
   "metadata": {},
   "source": [
    "### $K_{28}^4$"
   ]
  },
  {
   "cell_type": "code",
   "execution_count": 44,
   "id": "e28ea7f7",
   "metadata": {},
   "outputs": [
    {
     "data": {
      "text/plain": [
       "2-element Vector{Function}:\n",
       " #265 (generic function with 1 method)\n",
       " #267 (generic function with 1 method)"
      ]
     },
     "execution_count": 44,
     "metadata": {},
     "output_type": "execute_result"
    }
   ],
   "source": [
    "K_28_4 = load(\"./Oscar_fanlike_seeds/K_28_4\")\n",
    "fans_K_28_4 =Vector{Function}()\n",
    "push!(fans_K_28_4,()->polyhedral_fan(IM(K_28_4),\n",
    "[1 0 0 0 0;0 1 0 0 0;0 0 1 0 0;0 0 0 1 0;0 0 0 0 1;1 -1 2 1 -1;-1 0 -1 -1 0;-1 1 -2 -2 1;0 1 -1 -1 0] ))\n",
    "push!(fans_K_28_4,()->polyhedral_fan(IM(K_28_4),\n",
    "[1 0 0 0 0;0 1 0 0 0;0 0 1 0 0;0 0 0 1 0;0 0 0 0 1;0 -1 1 0 -1;-1 -1 0 0 -1;-1 0 -1 -1 0;0 1 -1 -1 0] ))"
   ]
  },
  {
   "cell_type": "markdown",
   "id": "7a5bb9b3",
   "metadata": {},
   "source": [
    "### $K_{29}^4$"
   ]
  },
  {
   "cell_type": "code",
   "execution_count": 45,
   "id": "e4d9a6f8",
   "metadata": {},
   "outputs": [
    {
     "data": {
      "text/plain": [
       "1-element Vector{Function}:\n",
       " #269 (generic function with 1 method)"
      ]
     },
     "execution_count": 45,
     "metadata": {},
     "output_type": "execute_result"
    }
   ],
   "source": [
    "K_29_4 = load(\"./Oscar_fanlike_seeds/K_29_4\")\n",
    "fans_K_29_4 =Vector{Function}()\n",
    "push!(fans_K_29_4,()->polyhedral_fan(IM(K_29_4),\n",
    "[1 0 0 0 0;0 1 0 0 0;0 0 1 0 0;0 0 0 1 0;0 0 0 0 1;-1 -1 0 1 0;-1 -1 -1 0 -1;-1 0 -1 0 -1;0 1 -1 -1 0] ))"
   ]
  },
  {
   "cell_type": "markdown",
   "id": "3bf1bebf",
   "metadata": {},
   "source": [
    "### $K_{30}^4$"
   ]
  },
  {
   "cell_type": "code",
   "execution_count": 46,
   "id": "a25fade1",
   "metadata": {},
   "outputs": [
    {
     "data": {
      "text/plain": [
       "1-element Vector{Function}:\n",
       " #271 (generic function with 1 method)"
      ]
     },
     "execution_count": 46,
     "metadata": {},
     "output_type": "execute_result"
    }
   ],
   "source": [
    "K_30_4 = load(\"./Oscar_fanlike_seeds/K_30_4\")\n",
    "fans_K_30_4 =Vector{Function}()\n",
    "push!(fans_K_30_4,()->polyhedral_fan(IM(K_30_4),\n",
    "[1 0 0 0 0;0 1 0 0 0;0 0 1 0 0;0 0 0 1 0;0 0 0 0 1;-1 -1 0 1 0;-1 -1 -1 0 1;-1 0 -1 0 0;0 1 -1 -1 -1] ))"
   ]
  },
  {
   "cell_type": "markdown",
   "id": "f887cc23",
   "metadata": {},
   "source": [
    "### $K_{31}^5$"
   ]
  },
  {
   "cell_type": "code",
   "execution_count": 54,
   "id": "dfd12655",
   "metadata": {},
   "outputs": [
    {
     "name": "stdout",
     "output_type": "stream",
     "text": [
      "truetruetrue"
     ]
    }
   ],
   "source": [
    "K_31_5 = load(\"./Oscar_fanlike_seeds/K_31_5\")\n",
    "fans_K_31_5 =Vector{Function}()\n",
    "push!(fans_K_31_5,()->polyhedral_fan(IM(K_31_5),\n",
    "[1 0 0 0 0 0;0 1 0 0 0 0;0 0 1 0 0 0;0 0 0 1 0 0;0 0 0 0 1 0;0 0 0 0 0 1;0 -1 2 1 -1 1;-1 -1 1 0 -1 0;-1 -1 0 -1 0 0;0 1 -1 0 0 -1] ))\n",
    "push!(fans_K_31_5,()->polyhedral_fan(IM(K_31_5),\n",
    "[1 0 0 0 0 0;0 1 0 0 0 0;0 0 1 0 0 0;0 0 0 1 0 0;0 0 0 0 1 0;0 0 0 0 0 1;0 -1 1 1 -1 1;-1 -1 0 0 -1 0;-1 0 -1 -1 0 0;0 1 -1 0 0 -1] ))\n",
    "push!(fans_K_31_5,()->polyhedral_fan(IM(K_31_5),\n",
    "[1 0 0 0 0 0;0 1 0 0 0 0;0 0 1 0 0 0;0 0 0 1 0 0;0 0 0 0 1 0;0 0 0 0 0 1;0 -1 1 0 -1 1;-1 -1 0 -1 0 0;0 0 -1 -1 1 0;1 1 -1 0 0 -1]))\n",
    "\n",
    "print(is_smooth(fans_K_31_5[1]()),is_smooth(fans_K_31_5[2]()),is_smooth(fans_K_31_5[3]()))"
   ]
  },
  {
   "cell_type": "markdown",
   "id": "74cfb7c5",
   "metadata": {},
   "source": [
    "### $K_{32}^5$"
   ]
  },
  {
   "cell_type": "code",
   "execution_count": 56,
   "id": "6e2167a4",
   "metadata": {},
   "outputs": [
    {
     "name": "stdout",
     "output_type": "stream",
     "text": [
      "truetrue"
     ]
    }
   ],
   "source": [
    "K_32_5 = load(\"./Oscar_fanlike_seeds/K_32_5\")\n",
    "fans_K_32_5 =Vector{Function}()\n",
    "push!(fans_K_32_5,()->polyhedral_fan(IM(K_32_5),\n",
    "[1 0 0 0 0 0;0 1 0 0 0 0;0 0 1 0 0 0;0 0 0 1 0 0;0 0 0 0 1 0;0 0 0 0 0 1;-1 -1 0 0 0 -1;-1 0 -1 1 -1 0;0 1 -1 0 -1 0;1 2 -1 -1 0 1] ))\n",
    "push!(fans_K_32_5,()->polyhedral_fan(IM(K_32_5),\n",
    "[1 0 0 0 0 0;0 1 0 0 0 0;0 0 1 0 0 0;0 0 0 1 0 0;0 0 0 0 1 0;0 0 0 0 0 1;0 -1 0 -1 0 -1;-1 -2 -1 -1 -1 -1;0 -1 -1 -1 -1 -1;1 0 -1 -1 0 0]))\n",
    "print(is_smooth(fans_K_31_5[1]()),is_smooth(fans_K_31_5[2]()))"
   ]
  },
  {
   "cell_type": "markdown",
   "id": "9f5729d9",
   "metadata": {},
   "source": [
    "### $K_{33}^5$"
   ]
  },
  {
   "cell_type": "code",
   "execution_count": 59,
   "id": "4be0cb63",
   "metadata": {},
   "outputs": [
    {
     "data": {
      "text/plain": [
       "3-element Vector{Function}:\n",
       " #329 (generic function with 1 method)\n",
       " #331 (generic function with 1 method)\n",
       " #333 (generic function with 1 method)"
      ]
     },
     "execution_count": 59,
     "metadata": {},
     "output_type": "execute_result"
    }
   ],
   "source": [
    "K_33_5 = load(\"./Oscar_fanlike_seeds/K_33_5\")\n",
    "fans_K_33_5 =Vector{Function}()\n",
    "push!(fans_K_33_5,(x0,x1,x2)->polyhedral_fan(IM(K_33_5),\n",
    "[1 0 0 0 0 0;0 1 0 0 0 0;0 0 1 0 0 0;0 0 0 1 0 0;0 0 0 0 1 0;0 0 0 0 0 1;-1 -1 1 0 1 0;-1 -2 1 1 2 -1;-1 -1 0 0 0 -1;x0 x1 -1 -1 -1 x2]))\n",
    "push!(fans_K_33_5,(x0,x1)->polyhedral_fan(IM(K_33_5),\n",
    "[1 0 0 0 0 0;0 1 0 0 0 0;0 0 1 0 0 0;0 0 0 1 0 0;0 0 0 0 1 0;0 0 0 0 0 1;-1 -1 0 0 0 0;x0-1 x1-2 -1 1 0 -1;x0-1 x1-1 -1 0 -1 -1;x0 x1 -1 -1 -1 0]))\n",
    "push!(fans_K_33_5,(x0,x1,x2)->polyhedral_fan(IM(K_33_5),\n",
    "[1 0 0 0 0 0;0 1 0 0 0 0;0 0 1 0 0 0;0 0 0 1 0 0;0 0 0 0 1 0;0 0 0 0 0 1;-1 -1 x0 0 x1 x2;0 -1 x0-1 1 x1 x2-1;0 0 -1 0 -1 -1;1 1 -1 -1 -1 0]))"
   ]
  },
  {
   "cell_type": "markdown",
   "id": "4ac0898d",
   "metadata": {},
   "source": [
    "### $K_{34}^5$"
   ]
  },
  {
   "cell_type": "code",
   "execution_count": 60,
   "id": "ca120b0e",
   "metadata": {},
   "outputs": [
    {
     "data": {
      "text/plain": [
       "1-element Vector{Function}:\n",
       " #335 (generic function with 1 method)"
      ]
     },
     "execution_count": 60,
     "metadata": {},
     "output_type": "execute_result"
    }
   ],
   "source": [
    "K_34_5 = load(\"./Oscar_fanlike_seeds/K_34_5\")\n",
    "fans_K_34_5 =Vector{Function}()\n",
    "push!(fans_K_34_5,()->polyhedral_fan(IM(K_34_5),\n",
    "[1 0 0 0 0 0;0 1 0 0 0 0;0 0 1 0 0 0;0 0 0 1 0 0;0 0 0 0 1 0;0 0 0 0 0 1;-1 -1 0 0 0 0;-1 0 -1 1 -1 0;0 1 -1 0 -1 -1;1 2 -1 -1 0 -1]))"
   ]
  },
  {
   "cell_type": "markdown",
   "id": "f5ed9314",
   "metadata": {},
   "source": [
    "### $K_{35}^5$"
   ]
  },
  {
   "cell_type": "code",
   "execution_count": 64,
   "id": "aa1c5993",
   "metadata": {},
   "outputs": [
    {
     "data": {
      "text/plain": [
       "3-element Vector{Function}:\n",
       " #345 (generic function with 1 method)\n",
       " #347 (generic function with 1 method)\n",
       " #349 (generic function with 1 method)"
      ]
     },
     "execution_count": 64,
     "metadata": {},
     "output_type": "execute_result"
    }
   ],
   "source": [
    "K_35_5 = load(\"./Oscar_fanlike_seeds/K_35_5\")\n",
    "fans_K_35_5 =Vector{Function}()\n",
    "push!(fans_K_35_5,(x0,x1,x2)->polyhedral_fan(IM(K_35_5),\n",
    "[1 0 0 0 0 0;0 1 0 0 0 0;0 0 1 0 0 0;0 0 0 1 0 0;0 0 0 0 1 0;0 0 0 0 0 1;-1 -1 1 0 0 -1;-1 -2 1 1 -1 -1;-1 -1 0 0 -1 0;x0 x1 -1 -1 x2 0]))\n",
    "push!(fans_K_35_5,(x0,x1)->polyhedral_fan(IM(K_35_5),\n",
    "[1 0 0 0 0 0;0 1 0 0 0 0;0 0 1 0 0 0;0 0 0 1 0 0;0 0 0 0 1 0;0 0 0 0 0 1;-1 -1 1 0 0 -1;-1 -2 1 1 -1 -1;-x0-1 -2x0-1 x0 x0 -x0-1 x1;1 2 -1 -1 1 0]))\n",
    "push!(fans_K_35_5,(x0,x1,x2)->polyhedral_fan(IM(K_35_5),\n",
    "[1 0 0 0 0 0;0 1 0 0 0 0;0 0 1 0 0 0;0 0 0 1 0 0;0 0 0 0 1 0;0 0 0 0 0 1;-1 -1 1 0 0 -1;x0 x1 -x1-1 x2 -1 x1+1;0 1 -1 -1 0 1;1 2 -1 -1 1 0]))"
   ]
  },
  {
   "cell_type": "markdown",
   "id": "1dbc94de",
   "metadata": {},
   "source": [
    "### $K_{36}^5$"
   ]
  },
  {
   "cell_type": "code",
   "execution_count": 67,
   "id": "ce57051e",
   "metadata": {},
   "outputs": [
    {
     "name": "stdout",
     "output_type": "stream",
     "text": [
      "truetrue"
     ]
    }
   ],
   "source": [
    "K_36_5 = load(\"./Oscar_fanlike_seeds/K_36_5\")\n",
    "fans_K_36_5 =Vector{Function}()\n",
    "push!(fans_K_36_5,()->polyhedral_fan(IM(K_36_5),\n",
    "[1 0 0 0 0 0;0 1 0 0 0 0;0 0 1 0 0 0;0 0 0 1 0 0;0 0 0 0 1 0;0 0 0 0 0 1;-1 0 0 -1 0 -1;1 -1 0 1 -1 0;0 2 -1 -1 1 1;0 1 -1 -1 0 0]))\n",
    "push!(fans_K_36_5,()->polyhedral_fan(IM(K_36_5),\n",
    "[1 0 0 0 0 0;0 1 0 0 0 0;0 0 1 0 0 0;0 0 0 1 0 0;0 0 0 0 1 0;0 0 0 0 0 1;-1 -2 1 1 -1 -1;0 -1 0 1 -1 0;0 2 -1 -1 1 1;-1 -1 0 0 -1 -1]))\n",
    "print(is_smooth(fans_K_36_5[1]()),is_smooth(fans_K_36_5[2]()))"
   ]
  },
  {
   "cell_type": "markdown",
   "id": "072e181f",
   "metadata": {},
   "source": [
    "### $K_{37}^5$"
   ]
  },
  {
   "cell_type": "code",
   "execution_count": 70,
   "id": "df7dfc00",
   "metadata": {},
   "outputs": [
    {
     "name": "stdout",
     "output_type": "stream",
     "text": [
      "truetrue"
     ]
    }
   ],
   "source": [
    "K_37_5 = load(\"./Oscar_fanlike_seeds/K_37_5\")\n",
    "fans_K_37_5 =Vector{Function}()\n",
    "push!(fans_K_37_5,()->polyhedral_fan(IM(K_37_5),\n",
    "[1 0 0 0 0 0;0 1 0 0 0 0;0 0 1 0 0 0;0 0 0 1 0 0;0 0 0 0 1 0;0 0 0 0 0 1;1 -1 2 1 -1 1;-1 0 -1 -1 0 -1;-1 1 -2 -2 1 -1;0 1 -1 -1 0 -1]))\n",
    "push!(fans_K_37_5,()->polyhedral_fan(IM(K_37_5),\n",
    "[1 0 0 0 0 0;0 1 0 0 0 0;0 0 1 0 0 0;0 0 0 1 0 0;0 0 0 0 1 0;0 0 0 0 0 1;0 -1 1 0 -1 1;-1 -1 0 0 -1 0;-1 0 -1 -1 0 0;0 1 -1 -1 0 -1]))\n",
    "print(is_smooth(fans_K_37_5[1]()),is_smooth(fans_K_37_5[2]()))"
   ]
  },
  {
   "cell_type": "markdown",
   "id": "0c62bd1f",
   "metadata": {},
   "source": [
    "### $K_{38}^5$"
   ]
  },
  {
   "cell_type": "code",
   "execution_count": 71,
   "id": "177e35b5",
   "metadata": {},
   "outputs": [
    {
     "data": {
      "text/plain": [
       "1-element Vector{Function}:\n",
       " #371 (generic function with 1 method)"
      ]
     },
     "execution_count": 71,
     "metadata": {},
     "output_type": "execute_result"
    }
   ],
   "source": [
    "K_38_5 = load(\"./Oscar_fanlike_seeds/K_38_5\")\n",
    "fans_K_38_5 =Vector{Function}()\n",
    "push!(fans_K_38_5,()->polyhedral_fan(IM(K_38_5),\n",
    "[1 0 0 0 0 0;0 1 0 0 0 0;0 0 1 0 0 0;0 0 0 1 0 0;0 0 0 0 1 0;0 0 0 0 0 1;-1 -1 0 1 0 0;-1 -1 -1 0 -1 -1;-1 0 -1 0 -1 0;0 1 -1 -1 0 1]))"
   ]
  },
  {
   "cell_type": "markdown",
   "id": "97d80be0",
   "metadata": {},
   "source": [
    "### $K_{39}^5$"
   ]
  },
  {
   "cell_type": "code",
   "execution_count": 72,
   "id": "3c5f782b",
   "metadata": {},
   "outputs": [
    {
     "data": {
      "text/plain": [
       "1-element Vector{Function}:\n",
       " #373 (generic function with 1 method)"
      ]
     },
     "execution_count": 72,
     "metadata": {},
     "output_type": "execute_result"
    }
   ],
   "source": [
    "K_39_5 = load(\"./Oscar_fanlike_seeds/K_39_5\")\n",
    "fans_K_39_5 =Vector{Function}()\n",
    "push!(fans_K_39_5,()->polyhedral_fan(IM(K_39_5),\n",
    "[1 0 0 0 0 0;0 1 0 0 0 0;0 0 1 0 0 0;0 0 0 1 0 0;0 0 0 0 1 0;0 0 0 0 0 1;-1 -2 1 1 -1 -1;0 -1 0 1 0 -1;0 2 -1 -1 1 0;-1 -1 0 0 -1 -1]))"
   ]
  },
  {
   "cell_type": "markdown",
   "id": "c71eb4a6",
   "metadata": {},
   "source": [
    "### $K_{40}^5$"
   ]
  },
  {
   "cell_type": "code",
   "execution_count": 73,
   "id": "99d553bd",
   "metadata": {},
   "outputs": [
    {
     "data": {
      "text/plain": [
       "1-element Vector{Function}:\n",
       " #375 (generic function with 1 method)"
      ]
     },
     "execution_count": 73,
     "metadata": {},
     "output_type": "execute_result"
    }
   ],
   "source": [
    "K_40_5 = load(\"./Oscar_fanlike_seeds/K_40_5\")\n",
    "fans_K_40_5 =Vector{Function}()\n",
    "push!(fans_K_40_5,()->polyhedral_fan(IM(K_40_5),\n",
    "[1 0 0 0 0 0;0 1 0 0 0 0;0 0 1 0 0 0;0 0 0 1 0 0;0 0 0 0 1 0;0 0 0 0 0 1;-1 -1 0 1 0 -1;-1 -1 -1 0 -1 -1;-1 0 -1 0 -1 0;0 1 -1 -1 0 0]))"
   ]
  },
  {
   "cell_type": "markdown",
   "id": "3bab7ffe",
   "metadata": {},
   "source": [
    "### $K_{41}^5$"
   ]
  },
  {
   "cell_type": "code",
   "execution_count": 75,
   "id": "b6acb2e3",
   "metadata": {},
   "outputs": [
    {
     "name": "stdout",
     "output_type": "stream",
     "text": [
      "truetrue"
     ]
    }
   ],
   "source": [
    "K_41_5 = load(\"./Oscar_fanlike_seeds/K_41_5\")\n",
    "fans_K_41_5 =Vector{Function}()\n",
    "push!(fans_K_41_5,()->polyhedral_fan(IM(K_41_5),\n",
    "[1 0 0 0 0 0;0 1 0 0 0 0;0 0 1 0 0 0;0 0 0 1 0 0;0 0 0 0 1 0;0 0 0 0 0 1;1 -1 2 1 -1 0;-1 0 -1 -1 0 0;-1 1 -2 -2 1 -1;0 1 -1 -1 0 -1]))\n",
    "push!(fans_K_41_5,()->polyhedral_fan(IM(K_41_5),\n",
    "[1 0 0 0 0 0;0 1 0 0 0 0;0 0 1 0 0 0;0 0 0 1 0 0;0 0 0 0 1 0;0 0 0 0 0 1;0 -1 1 0 -1 0;-1 -1 0 0 -1 1;-1 0 -1 -1 0 0;0 1 -1 -1 0 -1]))\n",
    "print(is_smooth(fans_K_41_5[1]()),is_smooth(fans_K_41_5[2]()))"
   ]
  },
  {
   "cell_type": "markdown",
   "id": "c91cc106",
   "metadata": {},
   "source": [
    "### $K_{42}^5$"
   ]
  },
  {
   "cell_type": "code",
   "execution_count": 77,
   "id": "27514b75",
   "metadata": {},
   "outputs": [
    {
     "name": "stdout",
     "output_type": "stream",
     "text": [
      "true"
     ]
    }
   ],
   "source": [
    "K_42_5 = load(\"./Oscar_fanlike_seeds/K_42_5\")\n",
    "fans_K_42_5 =Vector{Function}()\n",
    "push!(fans_K_42_5,()->polyhedral_fan(IM(K_42_5),\n",
    "[1 0 0 0 0 0;0 1 0 0 0 0;0 0 1 0 0 0;0 0 0 1 0 0;0 0 0 0 1 0;0 0 0 0 0 1;-1 -1 0 1 0 0;-1 -1 -1 0 -1 1;-1 0 -1 0 -1 0;0 1 -1 -1 0 -1]))\n",
    "print(is_smooth(fans_K_42_5[1]()))"
   ]
  },
  {
   "cell_type": "markdown",
   "id": "defd1aeb",
   "metadata": {},
   "source": [
    "### $K_{43}^5$"
   ]
  },
  {
   "cell_type": "code",
   "execution_count": 78,
   "id": "72adac9b",
   "metadata": {},
   "outputs": [
    {
     "name": "stdout",
     "output_type": "stream",
     "text": [
      "true"
     ]
    }
   ],
   "source": [
    "K_43_5 = load(\"./Oscar_fanlike_seeds/K_43_5\")\n",
    "fans_K_43_5 =Vector{Function}()\n",
    "push!(fans_K_43_5,()->polyhedral_fan(IM(K_43_5),\n",
    "[1 0 0 0 0 0;0 1 0 0 0 0;0 0 1 0 0 0;0 0 0 1 0 0;0 0 0 0 1 0;0 0 0 0 0 1;-1 0 0 -1 -1 -1;1 -1 0 1 0 0;0 2 -1 -1 1 0;0 1 -1 -1 0 -1]))\n",
    "print(is_smooth(fans_K_43_5[1]()))"
   ]
  },
  {
   "cell_type": "markdown",
   "id": "d6b56ee7",
   "metadata": {},
   "source": [
    "### $K_{44}^5$"
   ]
  },
  {
   "cell_type": "code",
   "execution_count": 79,
   "id": "826c6498",
   "metadata": {},
   "outputs": [
    {
     "data": {
      "text/plain": [
       "1-element Vector{Function}:\n",
       " #391 (generic function with 1 method)"
      ]
     },
     "execution_count": 79,
     "metadata": {},
     "output_type": "execute_result"
    }
   ],
   "source": [
    "K_44_5 = load(\"./Oscar_fanlike_seeds/K_44_5\")\n",
    "fans_K_44_5 =Vector{Function}()\n",
    "push!(fans_K_44_5,()->polyhedral_fan(IM(K_44_5),\n",
    "[1 0 0 0 0 0;0 1 0 0 0 0;0 0 1 0 0 0;0 0 0 1 0 0;0 0 0 0 1 0;0 0 0 0 0 1;-1 0 0 -1 -1 0;1 -1 0 1 0 -1;0 2 -1 -1 1 1;0 1 -1 -1 0 1]))"
   ]
  },
  {
   "cell_type": "markdown",
   "id": "23a8af78",
   "metadata": {},
   "source": [
    "### $K_{45}^5$"
   ]
  },
  {
   "cell_type": "code",
   "execution_count": 81,
   "id": "20049fdb",
   "metadata": {},
   "outputs": [
    {
     "data": {
      "text/plain": [
       "1-element Vector{Function}:\n",
       " #395 (generic function with 1 method)"
      ]
     },
     "execution_count": 81,
     "metadata": {},
     "output_type": "execute_result"
    }
   ],
   "source": [
    "K_45_5 = load(\"./Oscar_fanlike_seeds/K_45_5\")\n",
    "fans_K_45_5 =Vector{Function}()\n",
    "push!(fans_K_45_5,()->polyhedral_fan(IM(K_45_5),\n",
    "[1 0 0 0 0 0;0 1 0 0 0 0;0 0 1 0 0 0;0 0 0 1 0 0;0 0 0 0 1 0;0 0 0 0 0 1;-1 -1 0 1 0 -1;-1 -1 -1 0 -1 -1;-1 0 -1 0 -1 0;0 1 -1 -1 0 0]))"
   ]
  },
  {
   "cell_type": "markdown",
   "id": "8e5c98d0",
   "metadata": {},
   "source": [
    "### $K_{46}^5$"
   ]
  },
  {
   "cell_type": "code",
   "execution_count": 83,
   "id": "8acf1a6a",
   "metadata": {},
   "outputs": [
    {
     "name": "stdout",
     "output_type": "stream",
     "text": [
      "true"
     ]
    }
   ],
   "source": [
    "K_46_5 = load(\"./Oscar_fanlike_seeds/K_46_5\")\n",
    "fans_K_46_5 =Vector{Function}()\n",
    "push!(fans_K_46_5,()->polyhedral_fan(IM(K_46_5),\n",
    "[1 0 0 0 0 0;0 1 0 0 0 0;0 0 1 0 0 0;0 0 0 1 0 0;0 0 0 0 1 0;0 0 0 0 0 1;-1 -2 1 1 -1 -1;0 -1 0 1 -1 -1;0 2 -1 -1 1 0;-1 -1 0 0 -1 -1]))\n",
    "print(is_smooth(fans_K_46_5[1]()))"
   ]
  },
  {
   "cell_type": "markdown",
   "id": "f0473db7",
   "metadata": {},
   "source": [
    "### $K_{47}^5$"
   ]
  },
  {
   "cell_type": "code",
   "execution_count": 85,
   "id": "ab9aa92b",
   "metadata": {},
   "outputs": [
    {
     "name": "stdout",
     "output_type": "stream",
     "text": [
      "true"
     ]
    }
   ],
   "source": [
    "K_47_5 = load(\"./Oscar_fanlike_seeds/K_47_5\")\n",
    "fans_K_47_5 =Vector{Function}()\n",
    "push!(fans_K_47_5,()->polyhedral_fan(IM(K_47_5),\n",
    "[1 0 0 0 0 0;0 1 0 0 0 0;0 0 1 0 0 0;0 0 0 1 0 0;0 0 0 0 1 0;0 0 0 0 0 1;0 -1 1 1 -1 0;-1 -1 0 0 -1 1;-1 0 -1 -1 0 0;0 1 -1 0 0 -1]))\n",
    "print(is_smooth(fans_K_47_5[1]()))"
   ]
  },
  {
   "cell_type": "markdown",
   "id": "06584d7a",
   "metadata": {},
   "source": [
    "### $K_{48}^5$"
   ]
  },
  {
   "cell_type": "code",
   "execution_count": 87,
   "id": "6ec3c056",
   "metadata": {},
   "outputs": [
    {
     "name": "stdout",
     "output_type": "stream",
     "text": [
      "true"
     ]
    }
   ],
   "source": [
    "K_48_5 = load(\"./Oscar_fanlike_seeds/K_48_5\")\n",
    "fans_K_48_5 =Vector{Function}()\n",
    "push!(fans_K_48_5,()->polyhedral_fan(IM(K_48_5),\n",
    "[1 0 0 0 0 0;0 1 0 0 0 0;0 0 1 0 0 0;0 0 0 1 0 0;0 0 0 0 1 0;0 0 0 0 0 1;-1 -1 0 1 0 0;-1 -1 -1 0 -1 0;-1 0 -1 0 -1 -1;0 1 -1 -1 0 -1]))\n",
    "print(is_smooth(fans_K_48_5[1]()))"
   ]
  },
  {
   "cell_type": "markdown",
   "id": "5b818d5c",
   "metadata": {},
   "source": [
    "### $K_{49}^6$"
   ]
  },
  {
   "cell_type": "code",
   "execution_count": 89,
   "id": "c211e25e",
   "metadata": {},
   "outputs": [
    {
     "name": "stdout",
     "output_type": "stream",
     "text": [
      "true"
     ]
    }
   ],
   "source": [
    "K_49_6 = load(\"./Oscar_fanlike_seeds/K_49_6\")\n",
    "fans_K_49_6 =Vector{Function}()\n",
    "push!(fans_K_49_6,()->polyhedral_fan(IM(K_49_6),\n",
    "[1 0 0 0 0 0 0;0 1 0 0 0 0 0;0 0 1 0 0 0 0;0 0 0 1 0 0 0;0 0 0 0 1 0 0;0 0 0 0 0 1 0;0 0 0 0 0 0 1;-1 0 0 -1 0 -1 0;1 -1 0 1 -1 0 -1;0 2 -1 -1 1 1 1;0 1 -1 -1 0 0 1]))\n",
    "print(is_smooth(fans_K_49_6[1]()))"
   ]
  },
  {
   "cell_type": "markdown",
   "id": "6bb913d6",
   "metadata": {},
   "source": [
    "### $K_{50}^6$"
   ]
  },
  {
   "cell_type": "code",
   "execution_count": 90,
   "id": "e9680a38",
   "metadata": {},
   "outputs": [
    {
     "name": "stdout",
     "output_type": "stream",
     "text": [
      "true"
     ]
    }
   ],
   "source": [
    "K_50_6 = load(\"./Oscar_fanlike_seeds/K_50_6\")\n",
    "fans_K_50_6 =Vector{Function}()\n",
    "push!(fans_K_50_6,()->polyhedral_fan(IM(K_50_6),\n",
    "[1 0 0 0 0 0 0;0 1 0 0 0 0 0;0 0 1 0 0 0 0;0 0 0 1 0 0 0;0 0 0 0 1 0 0;0 0 0 0 0 1 0;0 0 0 0 0 0 1;-1 -1 0 0 0 -1 0;-1 0 -1 1 -1 0 0;0 1 -1 0 -1 0 -1;1 2 -1 -1 0 1 -1]))\n",
    "print(is_smooth(fans_K_50_6[1]()))"
   ]
  },
  {
   "cell_type": "markdown",
   "id": "0e633e62",
   "metadata": {},
   "source": [
    "### $K_{51}^6$"
   ]
  },
  {
   "cell_type": "code",
   "execution_count": 91,
   "id": "70c215e0",
   "metadata": {},
   "outputs": [
    {
     "name": "stdout",
     "output_type": "stream",
     "text": [
      "true"
     ]
    }
   ],
   "source": [
    "K_51_6 = load(\"./Oscar_fanlike_seeds/K_51_6\")\n",
    "fans_K_51_6 =Vector{Function}()\n",
    "push!(fans_K_51_6,()->polyhedral_fan(IM(K_51_6),\n",
    "[1 0 0 0 0 0 0;0 1 0 0 0 0 0;0 0 1 0 0 0 0;0 0 0 1 0 0 0;0 0 0 0 1 0 0;0 0 0 0 0 1 0;0 0 0 0 0 0 1;-1 -1 0 1 0 0 0;-1 -1 -1 0 -1 -1 0;-1 0 -1 0 -1 0 -1;0 1 -1 -1 0 1 -1]))\n",
    "print(is_smooth(fans_K_51_6[1]()))"
   ]
  },
  {
   "cell_type": "markdown",
   "id": "e90f847c",
   "metadata": {},
   "source": [
    "### $K_{52}^6$"
   ]
  },
  {
   "cell_type": "code",
   "execution_count": 93,
   "id": "d780a621",
   "metadata": {},
   "outputs": [
    {
     "name": "stdout",
     "output_type": "stream",
     "text": [
      "true"
     ]
    }
   ],
   "source": [
    "K_52_6 = load(\"./Oscar_fanlike_seeds/K_52_6\")\n",
    "fans_K_52_6 =Vector{Function}()\n",
    "push!(fans_K_52_6,()->polyhedral_fan(IM(K_52_6),\n",
    "[1 0 0 0 0 0 0;0 1 0 0 0 0 0;0 0 1 0 0 0 0;0 0 0 1 0 0 0;0 0 0 0 1 0 0;0 0 0 0 0 1 0;0 0 0 0 0 0 1;1 -1 2 1 -1 0 -1;-1 0 -1 -1 0 0 0;-1 1 -2 -2 1 -1 2;0 1 -1 -1 0 -1 1]))\n",
    "print(is_smooth(fans_K_52_6[1]()))"
   ]
  },
  {
   "cell_type": "markdown",
   "id": "7b00caf5",
   "metadata": {},
   "source": [
    "### $K_{53}^6$"
   ]
  },
  {
   "cell_type": "code",
   "execution_count": 94,
   "id": "79d353a5",
   "metadata": {},
   "outputs": [
    {
     "name": "stdout",
     "output_type": "stream",
     "text": [
      "true"
     ]
    }
   ],
   "source": [
    "K_53_6 = load(\"./Oscar_fanlike_seeds/K_53_6\")\n",
    "fans_K_53_6 =Vector{Function}()\n",
    "push!(fans_K_53_6,(x0,x1,x2)->polyhedral_fan(IM(K_53_6),\n",
    "[1 0 0 0 0 0 0;0 1 0 0 0 0 0;0 0 1 0 0 0 0;0 0 0 1 0 0 0;0 0 0 0 1 0 0;0 0 0 0 0 1 0;0 0 0 0 0 0 1;-1 -1 1 0 1 0 -1;-1 -2 1 1 2 -1 -1;-1 -1 0 0 0 -1 0;x0 x1 -1 -1 -1 x2 0] ))\n",
    "print(is_smooth(fans_K_53_6[1](0,0,0)))"
   ]
  },
  {
   "cell_type": "markdown",
   "id": "53494b3b",
   "metadata": {},
   "source": [
    "### $K_{54}^6$"
   ]
  },
  {
   "cell_type": "code",
   "execution_count": 96,
   "id": "cbc1f73f",
   "metadata": {},
   "outputs": [
    {
     "name": "stdout",
     "output_type": "stream",
     "text": [
      "true"
     ]
    }
   ],
   "source": [
    "K_54_6 = load(\"./Oscar_fanlike_seeds/K_54_6\")\n",
    "fans_K_54_6 =Vector{Function}()\n",
    "push!(fans_K_54_6,()->polyhedral_fan(IM(K_54_6),\n",
    "[1 0 0 0 0 0 0;0 1 0 0 0 0 0;0 0 1 0 0 0 0;0 0 0 1 0 0 0;0 0 0 0 1 0 0;0 0 0 0 0 1 0;0 0 0 0 0 0 1;1 -1 2 1 -1 0 1;-1 0 -1 -1 0 0 -1;-1 1 -2 -2 1 -1 -1;0 1 -1 -1 0 -1 -1]))\n",
    "print(is_smooth(fans_K_54_6[1]()))"
   ]
  },
  {
   "cell_type": "markdown",
   "id": "f0e0190c",
   "metadata": {},
   "source": [
    "### $K_{55}^6$"
   ]
  },
  {
   "cell_type": "code",
   "execution_count": 99,
   "id": "99f7e8c1",
   "metadata": {},
   "outputs": [
    {
     "name": "stdout",
     "output_type": "stream",
     "text": [
      "true"
     ]
    }
   ],
   "source": [
    "K_55_6 = load(\"./Oscar_fanlike_seeds/K_55_6\")\n",
    "fans_K_55_6 =Vector{Function}()\n",
    "push!(fans_K_55_6,()->polyhedral_fan(IM(K_55_6),\n",
    "[1 0 0 0 0 0 0;0 1 0 0 0 0 0;0 0 1 0 0 0 0;0 0 0 1 0 0 0;0 0 0 0 1 0 0;0 0 0 0 0 1 0;0 0 0 0 0 0 1;0 -1 0 -1 0 -1 -1;-1 -2 -1 -1 -1 -1 -1;0 -1 -1 -1 -1 -1 0;1 0 -1 -1 0 0 0]))\n",
    "print(is_smooth(fans_K_55_6[1]()))"
   ]
  },
  {
   "cell_type": "markdown",
   "id": "f65f8f2f",
   "metadata": {},
   "source": [
    "### $K_{56}^6$"
   ]
  },
  {
   "cell_type": "code",
   "execution_count": 101,
   "id": "5e9f375a",
   "metadata": {},
   "outputs": [
    {
     "name": "stdout",
     "output_type": "stream",
     "text": [
      "true"
     ]
    }
   ],
   "source": [
    "K_56_6 = load(\"./Oscar_fanlike_seeds/K_56_6\")\n",
    "fans_K_56_6 =Vector{Function}()\n",
    "push!(fans_K_56_6,()->polyhedral_fan(IM(K_56_6),\n",
    "[1 0 0 0 0 0 0;0 1 0 0 0 0 0;0 0 1 0 0 0 0;0 0 0 1 0 0 0;0 0 0 0 1 0 0;0 0 0 0 0 1 0;0 0 0 0 0 0 1;-1 -2 1 1 -1 -1 -2;0 -1 0 1 0 -1 -1;0 2 -1 -1 1 0 1;-1 -1 0 0 -1 -1 -1]))\n",
    "print(is_smooth(fans_K_56_6[1]()))"
   ]
  },
  {
   "cell_type": "markdown",
   "id": "d9ed4376",
   "metadata": {},
   "source": [
    "### $K_{57}^6$"
   ]
  },
  {
   "cell_type": "code",
   "execution_count": 102,
   "id": "87786f1a",
   "metadata": {},
   "outputs": [
    {
     "name": "stdout",
     "output_type": "stream",
     "text": [
      "true"
     ]
    }
   ],
   "source": [
    "K_57_6 = load(\"./Oscar_fanlike_seeds/K_57_6\")\n",
    "fans_K_57_6 =Vector{Function}()\n",
    "push!(fans_K_57_6,()->polyhedral_fan(IM(K_57_6),\n",
    "[1 0 0 0 0 0 0;0 1 0 0 0 0 0;0 0 1 0 0 0 0;0 0 0 1 0 0 0;0 0 0 0 1 0 0;0 0 0 0 0 1 0;0 0 0 0 0 0 1;-1 -1 0 1 0 -1 0;-1 -1 -1 0 -1 -1 0;-1 0 -1 0 -1 0 -1;0 1 -1 -1 0 0 -1]))\n",
    "print(is_smooth(fans_K_57_6[1]()))"
   ]
  },
  {
   "cell_type": "markdown",
   "id": "b8250e38",
   "metadata": {},
   "source": [
    "### $K_{58}^7$"
   ]
  },
  {
   "cell_type": "code",
   "execution_count": null,
   "id": "ec9adba0",
   "metadata": {},
   "outputs": [],
   "source": [
    "K_58_7 = load(\"./Oscar_fanlike_seeds/K_58_7\")\n",
    "fans_K_58_7 =Vector{Function}()\n",
    "push!(fans_K_58_7,()->polyhedral_fan(IM(K_58_7),\n",
    "[1 0 0 0 0 0 0 0;0 1 0 0 0 0 0 0;0 0 1 0 0 0 0 0;0 0 0 1 0 0 0 0;0 0 0 0 1 0 0 0;0 0 0 0 0 1 0 0;0 0 0 0 0 0 1 0;0 0 0 0 0 0 0 1;-1 -2 1 1 -1 -1 -2 -1;0 -1 0 1 0 -1 -1 -1;0 2 -1 -1 1 0 1 1;-1 -1 0 0 -1 -1 -1 -1]))\n",
    "print(is_smooth(fans_K_58_7[1]()),is_complete(fans_K_58_7[1]()))"
   ]
  }
 ],
 "metadata": {
  "kernelspec": {
   "display_name": "Julia 1.11.6",
   "language": "julia",
   "name": "julia-1.11"
  },
  "language_info": {
   "file_extension": ".jl",
   "mimetype": "application/julia",
   "name": "julia",
   "version": "1.11.6"
  }
 },
 "nbformat": 4,
 "nbformat_minor": 5
}
