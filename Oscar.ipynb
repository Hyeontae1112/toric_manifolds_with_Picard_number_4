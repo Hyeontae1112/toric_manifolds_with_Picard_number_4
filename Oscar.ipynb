{
 "cells": [
  {
   "cell_type": "markdown",
   "id": "3fa3f86a",
   "metadata": {},
   "source": [
    "## Initialization"
   ]
  },
  {
   "cell_type": "code",
   "execution_count": 2,
   "id": "5c8a4b9f",
   "metadata": {},
   "outputs": [
    {
     "name": "stdout",
     "output_type": "stream",
     "text": [
      "  ___   ___   ___    _    ____\n",
      " / _ \\ / __\\ / __\\  / \\  |  _ \\  | Combining and extending ANTIC, GAP,\n",
      "| |_| |\\__ \\| |__  / ^ \\ |  ´ /  | Polymake and Singular\n",
      " \\___/ \\___/ \\___//_/ \\_\\|_|\\_\\  | Type \"?Oscar\" for more information\n",
      "\u001b[33mo--------o-----o-----o--------o\u001b[39m  | Documentation: https://docs.oscar-system.org\n",
      "  S Y M B O L I C   T O O L S    | Version 1.4.1\n"
     ]
    }
   ],
   "source": [
    "using Oscar"
   ]
  },
  {
   "cell_type": "code",
   "execution_count": null,
   "id": "29e140ad",
   "metadata": {},
   "outputs": [],
   "source": [
    "input_file = \"./fanlike seeds\"  # Change to your actual file path\n",
    "output_folder = \"./Oscar_fanlike_seeds\"\n",
    "\n",
    "open(input_file, \"r\") do f\n",
    "    for (i, line) in enumerate(eachline(f))\n",
    "        # Parse the line into a list of lists of integers\n",
    "        # Example line: \"[[1,2],[2,3],[3,4]]\"\n",
    "        faces = eval(Meta.parse(line))\n",
    "        K = simplicial_complex(faces)\n",
    "        dim_K = dim(K)\n",
    "        save(\"$(output_folder)/K_$(i-1)_$(dim_K)\", K)\n",
    "    end\n",
    "end\n",
    "\n",
    "input_file = \"./minimally non-fanlike seeds\"  # Change to your actual file path\n",
    "output_folder = \"./Oscar_minimally_non-fanlike_seeds\"\n",
    "\n",
    "open(input_file, \"r\") do f\n",
    "    for (i, line) in enumerate(eachline(f))\n",
    "        # Parse the line into a list of lists of integers\n",
    "        # Example line: \"[[1,2],[2,3],[3,4]]\"\n",
    "        faces = eval(Meta.parse(line))\n",
    "        K = simplicial_complex(faces)\n",
    "        dim_K = dim(K)\n",
    "        save(\"$(output_folder)/L_$(i-1)_$(dim_K)\", K)\n",
    "    end\n",
    "end"
   ]
  },
  {
   "cell_type": "markdown",
   "id": "e6fd927d",
   "metadata": {},
   "source": [
    "## Loading a seed\n",
    "\n",
    "To load a seed from the saved files, use the following\n",
    "1. `K = load(\"./Oscar_fanlike_seeds/K_<i>_<n>\")` for a fanlike seed where `i` is the number of the seed and `n` its dimension.\n",
    "2. `L = load(\"./Oscar_minimally_non-fanlike_seeds/L_<i>_<n>\")` for a fanlike seed where `i` is the number of the seed and `n` its dimension."
   ]
  },
  {
   "cell_type": "code",
   "execution_count": 28,
   "id": "3c715a5a",
   "metadata": {},
   "outputs": [
    {
     "data": {
      "text/plain": [
       "30×9 IncidenceMatrix\n",
       " [1, 2, 3, 4, 5]\n",
       " [1, 2, 3, 4, 7]\n",
       " [1, 2, 3, 5, 8]\n",
       " [1, 2, 3, 7, 9]\n",
       " [1, 2, 3, 8, 9]\n",
       " [1, 2, 4, 5, 8]\n",
       " [1, 2, 4, 7, 8]\n",
       " [1, 2, 7, 8, 9]\n",
       " [1, 3, 4, 5, 7]\n",
       " [1, 3, 5, 6, 7]\n",
       " [1, 3, 5, 6, 9]\n",
       " [1, 3, 5, 8, 9]\n",
       " [1, 3, 6, 7, 9]\n",
       " [1, 4, 5, 7, 8]\n",
       " [1, 5, 6, 7, 9]\n",
       " [1, 5, 7, 8, 9]\n",
       " [2, 3, 4, 5, 6]\n",
       " [2, 3, 4, 6, 7]\n",
       " [2, 3, 5, 6, 8]\n",
       " [2, 3, 6, 7, 9]\n",
       " [2, 3, 6, 8, 9]\n",
       " [2, 4, 5, 6, 8]\n",
       " [2, 4, 6, 7, 9]\n",
       " [2, 4, 6, 8, 9]\n",
       " [2, 4, 7, 8, 9]\n",
       " ⁝"
      ]
     },
     "execution_count": 28,
     "metadata": {},
     "output_type": "execute_result"
    }
   ],
   "source": [
    "K = load(\"./Oscar_fanlike_seeds/K_27_4\")  # Example of loading a saved seed\n",
    "incidence_matrix([[Integer(i) for i in facet] for facet in facets(K)])"
   ]
  },
  {
   "cell_type": "markdown",
   "id": "488c42a0",
   "metadata": {},
   "source": [
    "## Fans"
   ]
  },
  {
   "cell_type": "code",
   "execution_count": null,
   "id": "5b06714d",
   "metadata": {},
   "outputs": [],
   "source": [
    "R , (x0,x1,x2,x3) = polynomial_ring(ZZ, [\"x0\", \"x1\", \"x2\", \"x3\"])\n",
    "\n"
   ]
  }
 ],
 "metadata": {
  "kernelspec": {
   "display_name": "Julia 1.11.6",
   "language": "julia",
   "name": "julia-1.11"
  },
  "language_info": {
   "file_extension": ".jl",
   "mimetype": "application/julia",
   "name": "julia",
   "version": "1.11.6"
  }
 },
 "nbformat": 4,
 "nbformat_minor": 5
}
