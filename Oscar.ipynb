{
 "cells": [
  {
   "cell_type": "markdown",
   "id": "3fa3f86a",
   "metadata": {},
   "source": [
    "## Initialization"
   ]
  },
  {
   "cell_type": "code",
   "execution_count": 105,
   "id": "5c8a4b9f",
   "metadata": {},
   "outputs": [
    {
     "name": "stderr",
     "output_type": "stream",
     "text": [
      "WARNING: using MultivariatePolynomials.monomial in module Main conflicts with an existing identifier.\n",
      "WARNING: using MultivariatePolynomials.degree in module Main conflicts with an existing identifier.\n",
      "WARNING: using MultivariatePolynomials.powers in module Main conflicts with an existing identifier.\n",
      "WARNING: using MultivariatePolynomials.coefficients in module Main conflicts with an existing identifier.\n",
      "WARNING: using MultivariatePolynomials.polynomial in module Main conflicts with an existing identifier.\n",
      "WARNING: using MultivariatePolynomials.monomials in module Main conflicts with an existing identifier.\n",
      "WARNING: using MultivariatePolynomials.map_coefficients in module Main conflicts with an existing identifier.\n",
      "WARNING: using MultivariatePolynomials.divides in module Main conflicts with an existing identifier.\n",
      "WARNING: using MultivariatePolynomials.Field in module Main conflicts with an existing identifier.\n",
      "WARNING: using MultivariatePolynomials.content in module Main conflicts with an existing identifier.\n",
      "WARNING: using MultivariatePolynomials.deflation in module Main conflicts with an existing identifier.\n",
      "WARNING: using MultivariatePolynomials.deflate in module Main conflicts with an existing identifier.\n",
      "WARNING: using MultivariatePolynomials.inflate in module Main conflicts with an existing identifier.\n",
      "WARNING: using MultivariatePolynomials.pullback in module Main conflicts with an existing identifier.\n"
     ]
    }
   ],
   "source": [
    "using Oscar\n",
    "using MultivariatePolynomials"
   ]
  },
  {
   "cell_type": "code",
   "execution_count": null,
   "id": "29e140ad",
   "metadata": {},
   "outputs": [],
   "source": [
    "input_file = \"./fanlike seeds\"  # Change to your actual file path\n",
    "output_folder = \"./Oscar_fanlike_seeds\"\n",
    "\n",
    "open(input_file, \"r\") do f\n",
    "    for (i, line) in enumerate(eachline(f))\n",
    "        # Parse the line into a list of lists of integers\n",
    "        # Example line: \"[[1,2],[2,3],[3,4]]\"\n",
    "        faces = eval(Meta.parse(line))\n",
    "        K = simplicial_complex(faces)\n",
    "        dim_K = dim(K)\n",
    "        save(\"$(output_folder)/K_$(i-1)_$(dim_K)\", K)\n",
    "    end\n",
    "end\n",
    "\n",
    "input_file = \"./minimally non-fanlike seeds\"  # Change to your actual file path\n",
    "output_folder = \"./Oscar_minimally_non-fanlike_seeds\"\n",
    "\n",
    "open(input_file, \"r\") do f\n",
    "    for (i, line) in enumerate(eachline(f))\n",
    "        # Parse the line into a list of lists of integers\n",
    "        # Example line: \"[[1,2],[2,3],[3,4]]\"\n",
    "        faces = eval(Meta.parse(line))\n",
    "        K = simplicial_complex(faces)\n",
    "        dim_K = dim(K)\n",
    "        save(\"$(output_folder)/L_$(i-1)_$(dim_K)\", K)\n",
    "    end\n",
    "end"
   ]
  },
  {
   "cell_type": "markdown",
   "id": "e6fd927d",
   "metadata": {},
   "source": [
    "## Loading a seed\n",
    "\n",
    "To load a seed from the saved files, use the following\n",
    "1. `K = load(\"./Oscar_fanlike_seeds/K_<i>_<n>\")` for a fanlike seed where `i` is the number of the seed and `n` its dimension.\n",
    "2. `L = load(\"./Oscar_minimally_non-fanlike_seeds/L_<i>_<n>\")` for a fanlike seed where `i` is the number of the seed and `n` its dimension."
   ]
  },
  {
   "cell_type": "code",
   "execution_count": 28,
   "id": "3c715a5a",
   "metadata": {},
   "outputs": [
    {
     "data": {
      "text/plain": [
       "30×9 IncidenceMatrix\n",
       " [1, 2, 3, 4, 5]\n",
       " [1, 2, 3, 4, 7]\n",
       " [1, 2, 3, 5, 8]\n",
       " [1, 2, 3, 7, 9]\n",
       " [1, 2, 3, 8, 9]\n",
       " [1, 2, 4, 5, 8]\n",
       " [1, 2, 4, 7, 8]\n",
       " [1, 2, 7, 8, 9]\n",
       " [1, 3, 4, 5, 7]\n",
       " [1, 3, 5, 6, 7]\n",
       " [1, 3, 5, 6, 9]\n",
       " [1, 3, 5, 8, 9]\n",
       " [1, 3, 6, 7, 9]\n",
       " [1, 4, 5, 7, 8]\n",
       " [1, 5, 6, 7, 9]\n",
       " [1, 5, 7, 8, 9]\n",
       " [2, 3, 4, 5, 6]\n",
       " [2, 3, 4, 6, 7]\n",
       " [2, 3, 5, 6, 8]\n",
       " [2, 3, 6, 7, 9]\n",
       " [2, 3, 6, 8, 9]\n",
       " [2, 4, 5, 6, 8]\n",
       " [2, 4, 6, 7, 9]\n",
       " [2, 4, 6, 8, 9]\n",
       " [2, 4, 7, 8, 9]\n",
       " ⁝"
      ]
     },
     "execution_count": 28,
     "metadata": {},
     "output_type": "execute_result"
    }
   ],
   "source": [
    "K = load(\"./Oscar_fanlike_seeds/K_27_4\")  # Example of loading a saved seed\n",
    "incidence_matrix([[Integer(i) for i in facet] for facet in facets(K)])"
   ]
  },
  {
   "cell_type": "markdown",
   "id": "488c42a0",
   "metadata": {},
   "source": [
    "## Fans\n",
    "\n",
    "Fans that have no indeterminate entries in their generators are encoded as fans, and those with $k$ indeterminates are encoded as functions with $k$ integer inputs which output the corresponding fan after fixing the indeterminates to the input values."
   ]
  },
  {
   "cell_type": "code",
   "execution_count": 153,
   "id": "5b06714d",
   "metadata": {},
   "outputs": [
    {
     "data": {
      "text/plain": [
       "IM (generic function with 1 method)"
      ]
     },
     "execution_count": 153,
     "metadata": {},
     "output_type": "execute_result"
    }
   ],
   "source": [
    "\n",
    "function IM(K)\n",
    "    return(incidence_matrix([[Base.Integer(i) for i in facet] for facet in facets(K)]))\n",
    "end"
   ]
  },
  {
   "cell_type": "markdown",
   "id": "6a3f248e",
   "metadata": {},
   "source": [
    "### $K_0^1$"
   ]
  },
  {
   "cell_type": "code",
   "execution_count": 155,
   "id": "39dfb32f",
   "metadata": {},
   "outputs": [
    {
     "name": "stdout",
     "output_type": "stream",
     "text": [
      "true\n",
      "true\n",
      "true\n",
      "true\n",
      "true\n",
      "true\n"
     ]
    }
   ],
   "source": [
    "K_0_1 = load(\"./Oscar_fanlike_seeds/K_0_1\")\n",
    "\n",
    "fans_K_0_1 =Set{Function}()\n",
    "push!(fans_K_0_1,x->polyhedral_fan(IM(K_0_1),\n",
    "[[1,0], [0,1], [-1,2], [-1,1], [-1,0],[x,-1]]))\n",
    "push!(fans_K_0_1,x->polyhedral_fan(IM(K_0_1),\n",
    "[1 0; 0 1; -1 1; -2 1; -1 0; x -1]))\n",
    "push!(fans_K_0_1,x->polyhedral_fan(IM(K_0_1),\n",
    "[1 0; 0 1; -1 1; -1 0; x-1 -1; x -1]))\n",
    "\n",
    "for fan in fans_K_0_1\n",
    "    println(is_smooth(fan(2)))\n",
    "    println(is_complete(fan(3)))\n",
    "end\n",
    "\n"
   ]
  },
  {
   "cell_type": "markdown",
   "id": "1d2bd54b",
   "metadata": {},
   "source": [
    "### $K_1^2$"
   ]
  },
  {
   "cell_type": "code",
   "execution_count": 156,
   "id": "1117c19b",
   "metadata": {},
   "outputs": [
    {
     "data": {
      "text/plain": [
       "Set{Function} with 8 elements:\n",
       "  var\"#1245#1246\"()\n",
       "  var\"#1251#1252\"()\n",
       "  var\"#1255#1256\"()\n",
       "  var\"#1257#1258\"()\n",
       "  var\"#1247#1248\"()\n",
       "  var\"#1253#1254\"()\n",
       "  var\"#1259#1260\"()\n",
       "  var\"#1249#1250\"()"
      ]
     },
     "execution_count": 156,
     "metadata": {},
     "output_type": "execute_result"
    }
   ],
   "source": [
    "K_1_2 = load(\"./Oscar_fanlike_seeds/K_1_2\")\n",
    "\n",
    "fans_K_1_2 =Set{Function}()\n",
    "push!(fans_K_1_2,(x0,x1)->polyhedral_fan(IM(K_1_2),\n",
    "[1 0 0;0 1 0; 0 0 1; x0 -1 x1; -1 0 -1; 0 1 -1;1 2 -1]))\n",
    "push!(fans_K_1_2,(x0,x1)->polyhedral_fan(IM(K_1_2),\n",
    "[1 0 0;0 1 0; 0 0 1; x0 -1 x1; -1 0 -1; -1 1 -2;0 1 -1]))\n",
    "push!(fans_K_1_2,x->polyhedral_fan(IM(K_1_2),\n",
    "[1 0 0;0 1 0; 0 0 1; 0 -1 0; -1 x-2 -1; 0 x-1 -1;1 x -1]))\n",
    "push!(fans_K_1_2,x->polyhedral_fan(IM(K_1_2),\n",
    "[1 0 0;0 1 0; 0 0 1; 0 -1 0; -1 x-1 -1; -1 2*x-1 -2;0 x -1]))\n",
    "push!(fans_K_1_2,(x0,x1)->polyhedral_fan(IM(K_1_2),\n",
    "[1 0 0;0 1 0; 0 0 1; 0 -1 1; -1 -1 0; x0-1 x1-1 -1;x0 x1 -1]))\n",
    "push!(fans_K_1_2,x->polyhedral_fan(IM(K_1_2),\n",
    "[1 0 0;0 1 0; 0 0 1; 0 -1 1; -1 x -x-1; 0 1 -1;1 2 -1]))\n",
    "push!(fans_K_1_2,x->polyhedral_fan(IM(K_1_2),\n",
    "[1 0 0;0 1 0; 0 0 1; 0 -1 1; -1 -x-2 x+1; -1 -x-1 x;0 1 -1]))\n",
    "push!(fans_K_1_2,x->polyhedral_fan(IM(K_1_2),\n",
    "[1 0 0;0 1 0; 0 0 1; 0 -1 x; -1 -1 x-1; 0 0 -1;1 1 -1]))\n"
   ]
  },
  {
   "cell_type": "markdown",
   "id": "202b7ab6",
   "metadata": {},
   "source": [
    "### $K_2^2$"
   ]
  },
  {
   "cell_type": "code",
   "execution_count": 157,
   "id": "7c2803b0",
   "metadata": {},
   "outputs": [
    {
     "data": {
      "text/plain": [
       "Set{Function} with 4 elements:\n",
       "  var\"#1263#1264\"()\n",
       "  var\"#1265#1266\"()\n",
       "  var\"#1267#1268\"()\n",
       "  var\"#1261#1262\"()"
      ]
     },
     "execution_count": 157,
     "metadata": {},
     "output_type": "execute_result"
    }
   ],
   "source": [
    "K_2_2 = load(\"./Oscar_fanlike_seeds/K_2_2\")\n",
    "\n",
    "fans_K_2_2 =Set{Function}()\n",
    "\n",
    "push!(fans_K_2_2,(x_0,x_1)->polyhedral_fan(IM(K_2_2),\n",
    "[1 0 0;0 1 0;0 0 1;-1 1 0;0 -1 1;1 0 -1;x_0 x_1 -x_0-x_1-1]))\n",
    "push!(fans_K_2_2,(x_0,x_1,x_2)->polyhedral_fan(IM(K_2_2),\n",
    "[1 0 0;0 1 0;0 0 1;-1 x_0 x_1;0 -1 x_2;0 0 -1;-1 x_0-1 x_1+x_2-1]))\n",
    "push!(fans_K_2_2,None->polyhedral_fan(IM(K_2_2),\n",
    "[1 0 0;0 1 0;0 0 1;1 -1 0;0 -1 -1;-1 0 -1;-1 -1 -1]))\n",
    "push!(fans_K_2_2,x->polyhedral_fan(IM(K_2_2),\n",
    "[1 0 0;0 1 0;0 0 1;-1 1 0;0 -1 1;x 0 -1;-1 0 0]))"
   ]
  },
  {
   "cell_type": "markdown",
   "id": "25a236a6",
   "metadata": {},
   "source": [
    "### $K_3^2$"
   ]
  },
  {
   "cell_type": "code",
   "execution_count": 158,
   "id": "f03cdd8a",
   "metadata": {},
   "outputs": [
    {
     "data": {
      "text/plain": [
       "Set{Function} with 3 elements:\n",
       "  var\"#1271#1272\"()\n",
       "  var\"#1269#1270\"()\n",
       "  var\"#1273#1274\"()"
      ]
     },
     "execution_count": 158,
     "metadata": {},
     "output_type": "execute_result"
    }
   ],
   "source": [
    "K_3_2 = load(\"./Oscar_fanlike_seeds/K_3_2\")\n",
    "\n",
    "fans_K_3_2 =Set{Function}()\n",
    "push!(fans_K_3_2,(x0,x1,x2)->polyhedral_fan(IM(K_3_2),\n",
    "[1 0 0;0 1 0;0 0 1;0 -1 1;0 -1 0;0 x0 -1;-1 x1 x2]))\n",
    "push!(fans_K_3_2,(x0,x1,x2,x3)->polyhedral_fan(IM(K_3_2),\n",
    "[1 0 0;0 1 0;0 0 1;x0 -1 1;x1 -1 0;x2 x3 -1;-1 0 0]))\n",
    "push!(fans_K_3_2,(x0,x1,x2)->polyhedral_fan(IM(K_3_2),\n",
    "[1 0 0;0 1 0;0 0 1;0 -1 1;0 -1 0;x0 x1 -1;-1 x2 0]))\n"
   ]
  },
  {
   "cell_type": "markdown",
   "id": "0b32dd91",
   "metadata": {},
   "source": [
    "### $K_4^2$"
   ]
  },
  {
   "cell_type": "code",
   "execution_count": 159,
   "id": "7d55a935",
   "metadata": {},
   "outputs": [
    {
     "data": {
      "text/plain": [
       "Set{Function} with 3 elements:\n",
       "  var\"#1277#1278\"()\n",
       "  var\"#1279#1280\"()\n",
       "  var\"#1275#1276\"()"
      ]
     },
     "execution_count": 159,
     "metadata": {},
     "output_type": "execute_result"
    }
   ],
   "source": [
    "K_4_2 = load(\"./Oscar_fanlike_seeds/K_4_2\")\n",
    "fans_K_4_2 =Set{Function}()\n",
    "push!(fans_K_4_2,x->polyhedral_fan(IM(K_4_2),\n",
    "[1 0 0;0 1 0;0 0 1;-1 -1 x;0 0 -1;0 1 -1;1 2 -1] ))\n",
    "push!(fans_K_4_2,(x0,x1)->polyhedral_fan(IM(K_4_2),\n",
    "[1 0 0;0 1 0;0 0 1;-1 -1 1;-1 -2 1;-1 -1 0;x0 x1 -1] ))\n",
    "push!(fans_K_4_2,x->polyhedral_fan(IM(K_4_2),\n",
    "[1 0 0;0 1 0;0 0 1;-1 -1 1;0 -1 0;0 x-1 -1;1 x -1]))"
   ]
  },
  {
   "cell_type": "markdown",
   "id": "4d2ebc5c",
   "metadata": {},
   "source": [
    "### $K_5^3$"
   ]
  },
  {
   "cell_type": "markdown",
   "id": "11df5984",
   "metadata": {},
   "source": [
    "### $K_6^3$"
   ]
  },
  {
   "cell_type": "code",
   "execution_count": 160,
   "id": "63b2fa99",
   "metadata": {},
   "outputs": [
    {
     "data": {
      "text/plain": [
       "Set{Function} with 4 elements:\n",
       "  var\"#1287#1288\"()\n",
       "  var\"#1283#1284\"()\n",
       "  var\"#1285#1286\"()\n",
       "  var\"#1281#1282\"()"
      ]
     },
     "execution_count": 160,
     "metadata": {},
     "output_type": "execute_result"
    }
   ],
   "source": [
    "K_6_3 = load(\"./Oscar_fanlike_seeds/K_6_3\")\n",
    "fans_K_6_3 =Set{Function}()\n",
    "push!(fans_K_6_3,(x0,x1)->polyhedral_fan(IM(K_6_3),\n",
    "[1 0 0 0;0 1 0 0;0 0 1 0;0 0 0 1;x0 -1 x1 -1;-1 0 -1 0;0 1 -1 1;1 2 -1 1] ))\n",
    "push!(fans_K_6_3,(x0,x1,x2)->polyhedral_fan(IM(K_6_3),\n",
    "[1 0 0 0;0 1 0 0;0 0 1 0;0 0 0 1;0 -1 1 -1;-1 -1 0 -1;x0-1 x1-1 -1 x2;x0 x1 -1 x2] ))\n",
    "push!(fans_K_6_3,x->polyhedral_fan(IM(K_6_3),\n",
    "[1 0 0 0;0 1 0 0;0 0 1 0;0 0 0 1;0 -1 x;-1 -1 x-1;0 0 -1;1 1 -1]))\n",
    "push!(fans_K_6_3,x->polyhedral_fan(IM(K_6_3),\n",
    "[1 0 0 0;0 1 0 0;0 0 1 0;0 0 0 1;0 -1 1 -1;-1 x -x-1 x;0 1 -1 1;1 2 -1 1] ))"
   ]
  },
  {
   "cell_type": "markdown",
   "id": "d87f574f",
   "metadata": {},
   "source": [
    "### $K_7^3$"
   ]
  },
  {
   "cell_type": "code",
   "execution_count": 161,
   "id": "5890de84",
   "metadata": {},
   "outputs": [
    {
     "data": {
      "text/plain": [
       "Set{Function} with 8 elements:\n",
       "  var\"#1297#1298\"()\n",
       "  var\"#1303#1304\"()\n",
       "  var\"#1293#1294\"()\n",
       "  var\"#1295#1296\"()\n",
       "  var\"#1301#1302\"()\n",
       "  var\"#1299#1300\"()\n",
       "  var\"#1291#1292\"()\n",
       "  var\"#1289#1290\"()"
      ]
     },
     "execution_count": 161,
     "metadata": {},
     "output_type": "execute_result"
    }
   ],
   "source": [
    "K_7_3 = load(\"./Oscar_fanlike_seeds/K_7_3\")\n",
    "fans_K_7_3 =Set{Function}()\n",
    "push!(fans_K_7_3,(x0,x1)->polyhedral_fan(IM(K_7_3),\n",
    "[1 0 0 0;0 1 0 0;0 0 1 0;0 0 0 1;-1 -1 1 0;-1 -2 1 1;-1 -1 0 0;x0 x1 -1 -1] ))\n",
    "push!(fans_K_7_3,(x0,x1,x2)->polyhedral_fan(IM(K_7_3),\n",
    "[1 0 0 0;0 1 0 0;0 0 1 0;0 0 0 1;-1 -1 0 0;x0-1 x1-2 -1 1;x0-1 x1-1 -1 0;x0 x1 -1 -1] ))\n",
    "push!(fans_K_7_3,x->polyhedral_fan(IM(K_7_3),\n",
    "[1 0 0 0;0 1 0 0;0 0 1 0;0 0 0 1;-1 -1 1 0;-1 -2 1 1;-x-1 -2x-1 x x;1 2 -1 -1] ))\n",
    "push!(fans_K_7_3,x->polyhedral_fan(IM(K_7_3),\n",
    "[1 0 0 0;0 1 0 0;0 0 1 0;0 0 0 1;-1 -1 1 0;0 -1 0 0;0 x-1 -1 -1;1 x -1 -1] ))\n",
    "push!(fans_K_7_3,(x0,x1,x2)->polyhedral_fan(IM(K_7_3),\n",
    "[1 0 0 0;0 1 0 0;0 0 1 0;0 0 0 1;-1 -1 1 0;x0 x1 -x1-1 x2;0 1 -1 -1;1 2 -1 -1] ))\n",
    "push!(fans_K_7_3,x->polyhedral_fan(IM(K_7_3),\n",
    "[1 0 0 0;0 1 0 0;0 0 1 0;0 0 0 1;-1 -1 1 0;-x0-1 -x0-2 x0+1 x1+1;-x0-1 -x0-1 x0 x1;1 1 -1 -1] ))\n",
    "push!(fans_K_7_3,(x0,x1)->polyhedral_fan(IM(K_7_3),\n",
    "[1 0 0 0;0 1 0 0;0 0 1 0;0 0 0 1;-1 -1 x0+1 x1;-1 -2 2x0+1 2x1+1;-1 -1 x0 x1;0 0 -1 -1] ))\n",
    "push!(fans_K_7_3,x->polyhedral_fan(IM(K_7_3),\n",
    "[1 0 0 0;0 1 0 0;0 0 1 0;0 0 0 1;-1 -1 x 0;0 -1 x-1 1;0 0 -1 0;1 1 -1 -1] ))"
   ]
  },
  {
   "cell_type": "markdown",
   "id": "18cb4992",
   "metadata": {},
   "source": [
    "### $K_8^3$"
   ]
  },
  {
   "cell_type": "code",
   "execution_count": 163,
   "id": "3dcb0aae",
   "metadata": {},
   "outputs": [
    {
     "data": {
      "text/plain": [
       "Set{Function} with 6 elements:\n",
       "  var\"#1321#1322\"()\n",
       "  var\"#1319#1320\"()\n",
       "  var\"#1315#1316\"()\n",
       "  var\"#1313#1314\"()\n",
       "  var\"#1317#1318\"()\n",
       "  var\"#1323#1324\"()"
      ]
     },
     "execution_count": 163,
     "metadata": {},
     "output_type": "execute_result"
    }
   ],
   "source": [
    "K_8_3 = load(\"./Oscar_fanlike_seeds/K_8_3\")\n",
    "fans_K_8_3 =Set{Function}()\n",
    "push!(fans_K_8_3,None->polyhedral_fan(IM(K_8_3),\n",
    "[1 0 0 0;0 1 0 0;0 0 1 0;0 0 0 1;-1 0 -1 -1;-1 -1 0 0;0 -1 -1 0;-1 -1 -1 -1]))\n",
    "push!(fans_K_8_3,(x0,x1)->polyhedral_fan(IM(K_8_3),\n",
    "[1 0 0 0;0 1 0 0;0 0 1 0;0 0 0 1;-1 1 0 -1;0 -1 1 1;x0 0 -1 x1;-1 0 0 -1] ))\n",
    "push!(fans_K_8_3,x->polyhedral_fan(IM(K_8_3),\n",
    "[1 0 0 0;0 1 0 0;0 0 1 0;0 0 0 1;-1 x 0 -1;0 -1 1 1;1 0 -1 0;0 -1 0 0]))\n",
    "push!(fans_K_8_3,(x0,x1)->polyhedral_fan(IM(K_8_3),\n",
    "[1 0 0 0;0 1 0 0;0 0 1 0;0 0 0 1;-1 1 x0 -1;0 -1 x1 1;0 0 -1 0;-1 0 x0+x1-1 -1] ))\n",
    "push!(fans_K_8_3,(x0,x1,x2)->polyhedral_fan(IM(K_8_3),\n",
    "[1 0 0 0;0 1 0 0;0 0 1 0;0 0 0 1;-1 0 0 -1;x0 -1 x1 x2;1 0 -1 0;x0 -1 x1-1 x2-1] ))\n",
    "push!(fans_K_8_3,x->polyhedral_fan(IM(K_8_3),\n",
    "[1 0 0 0;0 1 0 0;0 0 1 0;0 0 0 1;-1 1 0 -1;0 -1 x x;1 0 -1 0;0 0 -1 -1] ))"
   ]
  }
 ],
 "metadata": {
  "kernelspec": {
   "display_name": "Julia 1.11.6",
   "language": "julia",
   "name": "julia-1.11"
  },
  "language_info": {
   "file_extension": ".jl",
   "mimetype": "application/julia",
   "name": "julia",
   "version": "1.11.6"
  }
 },
 "nbformat": 4,
 "nbformat_minor": 5
}
