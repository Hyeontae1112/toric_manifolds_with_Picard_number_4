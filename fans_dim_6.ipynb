{
 "cells": [
  {
   "cell_type": "markdown",
   "id": "88a2d9e8",
   "metadata": {},
   "source": [
    "# Fans of dimension 6\n",
    "\n",
    "Fans with $k$ indeterminates are encoded as functions with \n",
    "- **inputs**: $k$ integer\n",
    "- **output**: the corresponding fan after fixing the indeterminates to the input values."
   ]
  },
  {
   "cell_type": "code",
   "execution_count": null,
   "id": "8f3a8940",
   "metadata": {
    "vscode": {
     "languageId": "julia"
    }
   },
   "outputs": [
    {
     "data": {
      "text/plain": [
       "IM (generic function with 1 method)"
      ]
     },
     "metadata": {},
     "output_type": "display_data"
    }
   ],
   "source": [
    "using Oscar\n",
    "function IM(K)\n",
    "    return(incidence_matrix([[Base.Integer(i) for i in facet] for facet in facets(K)]))\n",
    "end"
   ]
  },
  {
   "cell_type": "markdown",
   "id": "c810a70c",
   "metadata": {},
   "source": [
    "### $K_{31}^5$"
   ]
  },
  {
   "cell_type": "code",
   "execution_count": null,
   "id": "347aa1b0",
   "metadata": {
    "vscode": {
     "languageId": "julia"
    }
   },
   "outputs": [
    {
     "name": "stdout",
     "output_type": "stream",
     "text": [
      "truetruetrue"
     ]
    }
   ],
   "source": [
    "K_31_5 = load(\"./Oscar_fanlike_seeds/K_31_5\")\n",
    "fans_K_31_5 =Vector{Function}()\n",
    "push!(fans_K_31_5,()->polyhedral_fan(IM(K_31_5),\n",
    "[1 0 0 0 0 0;0 1 0 0 0 0;0 0 1 0 0 0;0 0 0 1 0 0;0 0 0 0 1 0;0 0 0 0 0 1;0 -1 2 1 -1 1;-1 -1 1 0 -1 0;-1 -1 0 -1 0 0;0 1 -1 0 0 -1] ))\n",
    "push!(fans_K_31_5,()->polyhedral_fan(IM(K_31_5),\n",
    "[1 0 0 0 0 0;0 1 0 0 0 0;0 0 1 0 0 0;0 0 0 1 0 0;0 0 0 0 1 0;0 0 0 0 0 1;0 -1 1 1 -1 1;-1 -1 0 0 -1 0;-1 0 -1 -1 0 0;0 1 -1 0 0 -1] ))\n",
    "push!(fans_K_31_5,()->polyhedral_fan(IM(K_31_5),\n",
    "[1 0 0 0 0 0;0 1 0 0 0 0;0 0 1 0 0 0;0 0 0 1 0 0;0 0 0 0 1 0;0 0 0 0 0 1;0 -1 1 0 -1 1;-1 -1 0 -1 0 0;0 0 -1 -1 1 0;1 1 -1 0 0 -1]))\n",
    "\n",
    "print(is_smooth(fans_K_31_5[1]()),is_smooth(fans_K_31_5[2]()),is_smooth(fans_K_31_5[3]()))"
   ]
  },
  {
   "cell_type": "markdown",
   "id": "7cd0d287",
   "metadata": {},
   "source": [
    "### $K_{32}^5$"
   ]
  },
  {
   "cell_type": "code",
   "execution_count": null,
   "id": "97741793",
   "metadata": {
    "vscode": {
     "languageId": "julia"
    }
   },
   "outputs": [
    {
     "name": "stdout",
     "output_type": "stream",
     "text": [
      "truetrue"
     ]
    }
   ],
   "source": [
    "K_32_5 = load(\"./Oscar_fanlike_seeds/K_32_5\")\n",
    "fans_K_32_5 =Vector{Function}()\n",
    "push!(fans_K_32_5,()->polyhedral_fan(IM(K_32_5),\n",
    "[1 0 0 0 0 0;0 1 0 0 0 0;0 0 1 0 0 0;0 0 0 1 0 0;0 0 0 0 1 0;0 0 0 0 0 1;-1 -1 0 0 0 -1;-1 0 -1 1 -1 0;0 1 -1 0 -1 0;1 2 -1 -1 0 1] ))\n",
    "push!(fans_K_32_5,()->polyhedral_fan(IM(K_32_5),\n",
    "[1 0 0 0 0 0;0 1 0 0 0 0;0 0 1 0 0 0;0 0 0 1 0 0;0 0 0 0 1 0;0 0 0 0 0 1;0 -1 0 -1 0 -1;-1 -2 -1 -1 -1 -1;0 -1 -1 -1 -1 -1;1 0 -1 -1 0 0]))\n",
    "print(is_smooth(fans_K_31_5[1]()),is_smooth(fans_K_31_5[2]()))"
   ]
  },
  {
   "cell_type": "markdown",
   "id": "bc284c55",
   "metadata": {},
   "source": [
    "### $K_{33}^5$"
   ]
  },
  {
   "cell_type": "code",
   "execution_count": null,
   "id": "ac091e79",
   "metadata": {
    "vscode": {
     "languageId": "julia"
    }
   },
   "outputs": [
    {
     "data": {
      "text/plain": [
       "3-element Vector{Function}:\n",
       " #649 (generic function with 1 method)\n",
       " #651 (generic function with 1 method)\n",
       " #653 (generic function with 1 method)"
      ]
     },
     "metadata": {},
     "output_type": "display_data"
    }
   ],
   "source": [
    "K_33_5 = load(\"./Oscar_fanlike_seeds/K_33_5\")\n",
    "fans_K_33_5 =Vector{Function}()\n",
    "push!(fans_K_33_5,(x0,x1,x2)->polyhedral_fan(IM(K_33_5),\n",
    "[1 0 0 0 0 0;0 1 0 0 0 0;0 0 1 0 0 0;0 0 0 1 0 0;0 0 0 0 1 0;0 0 0 0 0 1;-1 -1 1 0 1 0;-1 -2 1 1 2 -1;-1 -1 0 0 0 -1;x0 x1 -1 -1 -1 x2]))\n",
    "push!(fans_K_33_5,(x0,x1)->polyhedral_fan(IM(K_33_5),\n",
    "[1 0 0 0 0 0;0 1 0 0 0 0;0 0 1 0 0 0;0 0 0 1 0 0;0 0 0 0 1 0;0 0 0 0 0 1;-1 -1 0 0 0 0;x0-1 x1-2 -1 1 0 -1;x0-1 x1-1 -1 0 -1 -1;x0 x1 -1 -1 -1 0]))\n",
    "push!(fans_K_33_5,(x0,x1,x2)->polyhedral_fan(IM(K_33_5),\n",
    "[1 0 0 0 0 0;0 1 0 0 0 0;0 0 1 0 0 0;0 0 0 1 0 0;0 0 0 0 1 0;0 0 0 0 0 1;-1 -1 x0 0 x1 x2;0 -1 x0-1 1 x1 x2-1;0 0 -1 0 -1 -1;1 1 -1 -1 -1 0]))"
   ]
  },
  {
   "cell_type": "markdown",
   "id": "57ceb729",
   "metadata": {},
   "source": [
    "### $K_{34}^5$"
   ]
  },
  {
   "cell_type": "code",
   "execution_count": null,
   "id": "8835ac21",
   "metadata": {
    "vscode": {
     "languageId": "julia"
    }
   },
   "outputs": [
    {
     "data": {
      "text/plain": [
       "1-element Vector{Function}:\n",
       " #655 (generic function with 1 method)"
      ]
     },
     "metadata": {},
     "output_type": "display_data"
    }
   ],
   "source": [
    "K_34_5 = load(\"./Oscar_fanlike_seeds/K_34_5\")\n",
    "fans_K_34_5 =Vector{Function}()\n",
    "push!(fans_K_34_5,()->polyhedral_fan(IM(K_34_5),\n",
    "[1 0 0 0 0 0;0 1 0 0 0 0;0 0 1 0 0 0;0 0 0 1 0 0;0 0 0 0 1 0;0 0 0 0 0 1;-1 -1 0 0 0 0;-1 0 -1 1 -1 0;0 1 -1 0 -1 -1;1 2 -1 -1 0 -1]))"
   ]
  },
  {
   "cell_type": "markdown",
   "id": "a59d3bd0",
   "metadata": {},
   "source": [
    "### $K_{35}^5$"
   ]
  },
  {
   "cell_type": "code",
   "execution_count": null,
   "id": "ee6dddc2",
   "metadata": {
    "vscode": {
     "languageId": "julia"
    }
   },
   "outputs": [
    {
     "data": {
      "text/plain": [
       "3-element Vector{Function}:\n",
       " #657 (generic function with 1 method)\n",
       " #659 (generic function with 1 method)\n",
       " #661 (generic function with 1 method)"
      ]
     },
     "metadata": {},
     "output_type": "display_data"
    }
   ],
   "source": [
    "K_35_5 = load(\"./Oscar_fanlike_seeds/K_35_5\")\n",
    "fans_K_35_5 =Vector{Function}()\n",
    "push!(fans_K_35_5,(x0,x1,x2)->polyhedral_fan(IM(K_35_5),\n",
    "[1 0 0 0 0 0;0 1 0 0 0 0;0 0 1 0 0 0;0 0 0 1 0 0;0 0 0 0 1 0;0 0 0 0 0 1;-1 -1 1 0 0 -1;-1 -2 1 1 -1 -1;-1 -1 0 0 -1 0;x0 x1 -1 -1 x2 0]))\n",
    "push!(fans_K_35_5,(x0,x1)->polyhedral_fan(IM(K_35_5),\n",
    "[1 0 0 0 0 0;0 1 0 0 0 0;0 0 1 0 0 0;0 0 0 1 0 0;0 0 0 0 1 0;0 0 0 0 0 1;-1 -1 1 0 0 -1;-1 -2 1 1 -1 -1;-x0-1 -2x0-1 x0 x0 -x0-1 x1;1 2 -1 -1 1 0]))\n",
    "push!(fans_K_35_5,(x0,x1,x2)->polyhedral_fan(IM(K_35_5),\n",
    "[1 0 0 0 0 0;0 1 0 0 0 0;0 0 1 0 0 0;0 0 0 1 0 0;0 0 0 0 1 0;0 0 0 0 0 1;-1 -1 1 0 0 -1;x0 x1 -x1-1 x2 -1 x1+1;0 1 -1 -1 0 1;1 2 -1 -1 1 0]))"
   ]
  },
  {
   "cell_type": "markdown",
   "id": "7a878852",
   "metadata": {},
   "source": [
    "### $K_{36}^5$"
   ]
  },
  {
   "cell_type": "code",
   "execution_count": null,
   "id": "0f0dc884",
   "metadata": {
    "vscode": {
     "languageId": "julia"
    }
   },
   "outputs": [
    {
     "name": "stdout",
     "output_type": "stream",
     "text": [
      "truetrue"
     ]
    }
   ],
   "source": [
    "K_36_5 = load(\"./Oscar_fanlike_seeds/K_36_5\")\n",
    "fans_K_36_5 =Vector{Function}()\n",
    "push!(fans_K_36_5,()->polyhedral_fan(IM(K_36_5),\n",
    "[1 0 0 0 0 0;0 1 0 0 0 0;0 0 1 0 0 0;0 0 0 1 0 0;0 0 0 0 1 0;0 0 0 0 0 1;-1 0 0 -1 0 -1;1 -1 0 1 -1 0;0 2 -1 -1 1 1;0 1 -1 -1 0 0]))\n",
    "push!(fans_K_36_5,()->polyhedral_fan(IM(K_36_5),\n",
    "[1 0 0 0 0 0;0 1 0 0 0 0;0 0 1 0 0 0;0 0 0 1 0 0;0 0 0 0 1 0;0 0 0 0 0 1;-1 -2 1 1 -1 -1;0 -1 0 1 -1 0;0 2 -1 -1 1 1;-1 -1 0 0 -1 -1]))\n",
    "print(is_smooth(fans_K_36_5[1]()),is_smooth(fans_K_36_5[2]()))"
   ]
  },
  {
   "cell_type": "markdown",
   "id": "fc5bea22",
   "metadata": {},
   "source": [
    "### $K_{37}^5$"
   ]
  },
  {
   "cell_type": "code",
   "execution_count": null,
   "id": "3bf98ead",
   "metadata": {
    "vscode": {
     "languageId": "julia"
    }
   },
   "outputs": [
    {
     "name": "stdout",
     "output_type": "stream",
     "text": [
      "truetrue"
     ]
    }
   ],
   "source": [
    "K_37_5 = load(\"./Oscar_fanlike_seeds/K_37_5\")\n",
    "fans_K_37_5 =Vector{Function}()\n",
    "push!(fans_K_37_5,()->polyhedral_fan(IM(K_37_5),\n",
    "[1 0 0 0 0 0;0 1 0 0 0 0;0 0 1 0 0 0;0 0 0 1 0 0;0 0 0 0 1 0;0 0 0 0 0 1;1 -1 2 1 -1 1;-1 0 -1 -1 0 -1;-1 1 -2 -2 1 -1;0 1 -1 -1 0 -1]))\n",
    "push!(fans_K_37_5,()->polyhedral_fan(IM(K_37_5),\n",
    "[1 0 0 0 0 0;0 1 0 0 0 0;0 0 1 0 0 0;0 0 0 1 0 0;0 0 0 0 1 0;0 0 0 0 0 1;0 -1 1 0 -1 1;-1 -1 0 0 -1 0;-1 0 -1 -1 0 0;0 1 -1 -1 0 -1]))\n",
    "print(is_smooth(fans_K_37_5[1]()),is_smooth(fans_K_37_5[2]()))"
   ]
  },
  {
   "cell_type": "markdown",
   "id": "58e0e776",
   "metadata": {},
   "source": [
    "### $K_{38}^5$"
   ]
  },
  {
   "cell_type": "code",
   "execution_count": null,
   "id": "ab7ac4ef",
   "metadata": {
    "vscode": {
     "languageId": "julia"
    }
   },
   "outputs": [
    {
     "data": {
      "text/plain": [
       "1-element Vector{Function}:\n",
       " #671 (generic function with 1 method)"
      ]
     },
     "metadata": {},
     "output_type": "display_data"
    }
   ],
   "source": [
    "K_38_5 = load(\"./Oscar_fanlike_seeds/K_38_5\")\n",
    "fans_K_38_5 =Vector{Function}()\n",
    "push!(fans_K_38_5,()->polyhedral_fan(IM(K_38_5),\n",
    "[1 0 0 0 0 0;0 1 0 0 0 0;0 0 1 0 0 0;0 0 0 1 0 0;0 0 0 0 1 0;0 0 0 0 0 1;-1 -1 0 1 0 0;-1 -1 -1 0 -1 -1;-1 0 -1 0 -1 0;0 1 -1 -1 0 1]))"
   ]
  },
  {
   "cell_type": "markdown",
   "id": "39fd673d",
   "metadata": {},
   "source": [
    "### $K_{39}^5$"
   ]
  },
  {
   "cell_type": "code",
   "execution_count": null,
   "id": "312ace38",
   "metadata": {
    "vscode": {
     "languageId": "julia"
    }
   },
   "outputs": [
    {
     "data": {
      "text/plain": [
       "1-element Vector{Function}:\n",
       " #673 (generic function with 1 method)"
      ]
     },
     "metadata": {},
     "output_type": "display_data"
    }
   ],
   "source": [
    "K_39_5 = load(\"./Oscar_fanlike_seeds/K_39_5\")\n",
    "fans_K_39_5 =Vector{Function}()\n",
    "push!(fans_K_39_5,()->polyhedral_fan(IM(K_39_5),\n",
    "[1 0 0 0 0 0;0 1 0 0 0 0;0 0 1 0 0 0;0 0 0 1 0 0;0 0 0 0 1 0;0 0 0 0 0 1;-1 -2 1 1 -1 -1;0 -1 0 1 0 -1;0 2 -1 -1 1 0;-1 -1 0 0 -1 -1]))"
   ]
  },
  {
   "cell_type": "markdown",
   "id": "43a9770d",
   "metadata": {},
   "source": [
    "### $K_{40}^5$"
   ]
  },
  {
   "cell_type": "code",
   "execution_count": null,
   "id": "2696fe7c",
   "metadata": {
    "vscode": {
     "languageId": "julia"
    }
   },
   "outputs": [
    {
     "data": {
      "text/plain": [
       "1-element Vector{Function}:\n",
       " #675 (generic function with 1 method)"
      ]
     },
     "metadata": {},
     "output_type": "display_data"
    }
   ],
   "source": [
    "K_40_5 = load(\"./Oscar_fanlike_seeds/K_40_5\")\n",
    "fans_K_40_5 =Vector{Function}()\n",
    "push!(fans_K_40_5,()->polyhedral_fan(IM(K_40_5),\n",
    "[1 0 0 0 0 0;0 1 0 0 0 0;0 0 1 0 0 0;0 0 0 1 0 0;0 0 0 0 1 0;0 0 0 0 0 1;-1 -1 0 1 0 -1;-1 -1 -1 0 -1 -1;-1 0 -1 0 -1 0;0 1 -1 -1 0 0]))"
   ]
  },
  {
   "cell_type": "markdown",
   "id": "cb88f754",
   "metadata": {},
   "source": [
    "### $K_{41}^5$"
   ]
  },
  {
   "cell_type": "code",
   "execution_count": null,
   "id": "faa903ac",
   "metadata": {
    "vscode": {
     "languageId": "julia"
    }
   },
   "outputs": [
    {
     "name": "stdout",
     "output_type": "stream",
     "text": [
      "truetrue"
     ]
    }
   ],
   "source": [
    "K_41_5 = load(\"./Oscar_fanlike_seeds/K_41_5\")\n",
    "fans_K_41_5 =Vector{Function}()\n",
    "push!(fans_K_41_5,()->polyhedral_fan(IM(K_41_5),\n",
    "[1 0 0 0 0 0;0 1 0 0 0 0;0 0 1 0 0 0;0 0 0 1 0 0;0 0 0 0 1 0;0 0 0 0 0 1;1 -1 2 1 -1 0;-1 0 -1 -1 0 0;-1 1 -2 -2 1 -1;0 1 -1 -1 0 -1]))\n",
    "push!(fans_K_41_5,()->polyhedral_fan(IM(K_41_5),\n",
    "[1 0 0 0 0 0;0 1 0 0 0 0;0 0 1 0 0 0;0 0 0 1 0 0;0 0 0 0 1 0;0 0 0 0 0 1;0 -1 1 0 -1 0;-1 -1 0 0 -1 1;-1 0 -1 -1 0 0;0 1 -1 -1 0 -1]))\n",
    "print(is_smooth(fans_K_41_5[1]()),is_smooth(fans_K_41_5[2]()))"
   ]
  },
  {
   "cell_type": "markdown",
   "id": "c763a9a0",
   "metadata": {},
   "source": [
    "### $K_{42}^5$"
   ]
  },
  {
   "cell_type": "code",
   "execution_count": null,
   "id": "90ea352a",
   "metadata": {
    "vscode": {
     "languageId": "julia"
    }
   },
   "outputs": [
    {
     "name": "stdout",
     "output_type": "stream",
     "text": [
      "true"
     ]
    }
   ],
   "source": [
    "K_42_5 = load(\"./Oscar_fanlike_seeds/K_42_5\")\n",
    "fans_K_42_5 =Vector{Function}()\n",
    "push!(fans_K_42_5,()->polyhedral_fan(IM(K_42_5),\n",
    "[1 0 0 0 0 0;0 1 0 0 0 0;0 0 1 0 0 0;0 0 0 1 0 0;0 0 0 0 1 0;0 0 0 0 0 1;-1 -1 0 1 0 0;-1 -1 -1 0 -1 1;-1 0 -1 0 -1 0;0 1 -1 -1 0 -1]))\n",
    "print(is_smooth(fans_K_42_5[1]()))"
   ]
  },
  {
   "cell_type": "markdown",
   "id": "abb6292b",
   "metadata": {},
   "source": [
    "### $K_{43}^5$"
   ]
  },
  {
   "cell_type": "code",
   "execution_count": null,
   "id": "07e83084",
   "metadata": {
    "vscode": {
     "languageId": "julia"
    }
   },
   "outputs": [
    {
     "name": "stdout",
     "output_type": "stream",
     "text": [
      "true"
     ]
    }
   ],
   "source": [
    "K_43_5 = load(\"./Oscar_fanlike_seeds/K_43_5\")\n",
    "fans_K_43_5 =Vector{Function}()\n",
    "push!(fans_K_43_5,()->polyhedral_fan(IM(K_43_5),\n",
    "[1 0 0 0 0 0;0 1 0 0 0 0;0 0 1 0 0 0;0 0 0 1 0 0;0 0 0 0 1 0;0 0 0 0 0 1;-1 0 0 -1 -1 -1;1 -1 0 1 0 0;0 2 -1 -1 1 0;0 1 -1 -1 0 -1]))\n",
    "print(is_smooth(fans_K_43_5[1]()))"
   ]
  },
  {
   "cell_type": "markdown",
   "id": "e538c2ce",
   "metadata": {},
   "source": [
    "### $K_{44}^5$"
   ]
  },
  {
   "cell_type": "code",
   "execution_count": null,
   "id": "dab1b041",
   "metadata": {
    "vscode": {
     "languageId": "julia"
    }
   },
   "outputs": [
    {
     "data": {
      "text/plain": [
       "1-element Vector{Function}:\n",
       " #685 (generic function with 1 method)"
      ]
     },
     "metadata": {},
     "output_type": "display_data"
    }
   ],
   "source": [
    "K_44_5 = load(\"./Oscar_fanlike_seeds/K_44_5\")\n",
    "fans_K_44_5 =Vector{Function}()\n",
    "push!(fans_K_44_5,()->polyhedral_fan(IM(K_44_5),\n",
    "[1 0 0 0 0 0;0 1 0 0 0 0;0 0 1 0 0 0;0 0 0 1 0 0;0 0 0 0 1 0;0 0 0 0 0 1;-1 0 0 -1 -1 0;1 -1 0 1 0 -1;0 2 -1 -1 1 1;0 1 -1 -1 0 1]))"
   ]
  },
  {
   "cell_type": "markdown",
   "id": "ccb13258",
   "metadata": {},
   "source": [
    "### $K_{45}^5$"
   ]
  },
  {
   "cell_type": "code",
   "execution_count": null,
   "id": "9b69b8c0",
   "metadata": {
    "vscode": {
     "languageId": "julia"
    }
   },
   "outputs": [
    {
     "data": {
      "text/plain": [
       "1-element Vector{Function}:\n",
       " #687 (generic function with 1 method)"
      ]
     },
     "metadata": {},
     "output_type": "display_data"
    }
   ],
   "source": [
    "K_45_5 = load(\"./Oscar_fanlike_seeds/K_45_5\")\n",
    "fans_K_45_5 =Vector{Function}()\n",
    "push!(fans_K_45_5,()->polyhedral_fan(IM(K_45_5),\n",
    "[1 0 0 0 0 0;0 1 0 0 0 0;0 0 1 0 0 0;0 0 0 1 0 0;0 0 0 0 1 0;0 0 0 0 0 1;-1 -1 0 1 0 -1;-1 -1 -1 0 -1 -1;-1 0 -1 0 -1 0;0 1 -1 -1 0 0]))"
   ]
  },
  {
   "cell_type": "markdown",
   "id": "9cff8ba1",
   "metadata": {},
   "source": [
    "### $K_{46}^5$"
   ]
  },
  {
   "cell_type": "code",
   "execution_count": null,
   "id": "6a58cdcc",
   "metadata": {
    "vscode": {
     "languageId": "julia"
    }
   },
   "outputs": [
    {
     "name": "stdout",
     "output_type": "stream",
     "text": [
      "true"
     ]
    }
   ],
   "source": [
    "K_46_5 = load(\"./Oscar_fanlike_seeds/K_46_5\")\n",
    "fans_K_46_5 =Vector{Function}()\n",
    "push!(fans_K_46_5,()->polyhedral_fan(IM(K_46_5),\n",
    "[1 0 0 0 0 0;0 1 0 0 0 0;0 0 1 0 0 0;0 0 0 1 0 0;0 0 0 0 1 0;0 0 0 0 0 1;-1 -2 1 1 -1 -1;0 -1 0 1 -1 -1;0 2 -1 -1 1 0;-1 -1 0 0 -1 -1]))\n",
    "print(is_smooth(fans_K_46_5[1]()))"
   ]
  },
  {
   "cell_type": "markdown",
   "id": "015ebde8",
   "metadata": {},
   "source": [
    "### $K_{47}^5$"
   ]
  },
  {
   "cell_type": "code",
   "execution_count": null,
   "id": "95e03848",
   "metadata": {
    "vscode": {
     "languageId": "julia"
    }
   },
   "outputs": [
    {
     "name": "stdout",
     "output_type": "stream",
     "text": [
      "true"
     ]
    }
   ],
   "source": [
    "K_47_5 = load(\"./Oscar_fanlike_seeds/K_47_5\")\n",
    "fans_K_47_5 =Vector{Function}()\n",
    "push!(fans_K_47_5,()->polyhedral_fan(IM(K_47_5),\n",
    "[1 0 0 0 0 0;0 1 0 0 0 0;0 0 1 0 0 0;0 0 0 1 0 0;0 0 0 0 1 0;0 0 0 0 0 1;0 -1 1 1 -1 0;-1 -1 0 0 -1 1;-1 0 -1 -1 0 0;0 1 -1 0 0 -1]))\n",
    "print(is_smooth(fans_K_47_5[1]()))"
   ]
  },
  {
   "cell_type": "markdown",
   "id": "fa3c0525",
   "metadata": {},
   "source": [
    "### $K_{48}^5$"
   ]
  },
  {
   "cell_type": "code",
   "execution_count": null,
   "id": "256fa375",
   "metadata": {
    "vscode": {
     "languageId": "julia"
    }
   },
   "outputs": [
    {
     "name": "stdout",
     "output_type": "stream",
     "text": [
      "true"
     ]
    }
   ],
   "source": [
    "K_48_5 = load(\"./Oscar_fanlike_seeds/K_48_5\")\n",
    "fans_K_48_5 =Vector{Function}()\n",
    "push!(fans_K_48_5,()->polyhedral_fan(IM(K_48_5),\n",
    "[1 0 0 0 0 0;0 1 0 0 0 0;0 0 1 0 0 0;0 0 0 1 0 0;0 0 0 0 1 0;0 0 0 0 0 1;-1 -1 0 1 0 0;-1 -1 -1 0 -1 0;-1 0 -1 0 -1 -1;0 1 -1 -1 0 -1]))\n",
    "print(is_smooth(fans_K_48_5[1]()))"
   ]
  }
 ],
 "metadata": {
  "language_info": {
   "name": "python"
  }
 },
 "nbformat": 4,
 "nbformat_minor": 5
}
