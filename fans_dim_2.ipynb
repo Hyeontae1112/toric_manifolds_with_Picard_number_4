{
 "cells": [
  {
   "cell_type": "markdown",
   "id": "5412e581",
   "metadata": {},
   "source": [
    "# Fans of dimension 2\n",
    "\n",
    "Fans with $k$ indeterminates are encoded as functions with \n",
    "- **inputs**: $k$ integer\n",
    "- **output**: the corresponding fan after fixing the indeterminates to the input values."
   ]
  },
  {
   "cell_type": "code",
   "execution_count": null,
   "id": "fe127009",
   "metadata": {
    "vscode": {
     "languageId": "julia"
    }
   },
   "outputs": [
    {
     "data": {
      "text/plain": [
       "IM (generic function with 1 method)"
      ]
     },
     "metadata": {},
     "output_type": "display_data"
    }
   ],
   "source": [
    "using Oscar\n",
    "function IM(K)\n",
    "    return(incidence_matrix([[Base.Integer(i) for i in facet] for facet in facets(K)]))\n",
    "end"
   ]
  },
  {
   "cell_type": "markdown",
   "id": "68d0a0a9",
   "metadata": {},
   "source": [
    "### $K_0^1$"
   ]
  },
  {
   "cell_type": "code",
   "execution_count": null,
   "id": "0f3a4160",
   "metadata": {
    "vscode": {
     "languageId": "julia"
    }
   },
   "outputs": [
    {
     "name": "stdout",
     "output_type": "stream",
     "text": [
      "true\n",
      "true\n",
      "true\n",
      "true\n",
      "true\n",
      "true\n"
     ]
    }
   ],
   "source": [
    "K_0_1 = load(\"./Oscar_fanlike_seeds/K_0_1\")\n",
    "\n",
    "fans_K_0_1 =Vector{Function}()\n",
    "push!(fans_K_0_1,x->polyhedral_fan(IM(K_0_1),\n",
    "[[1,0], [0,1], [-1,2], [-1,1], [-1,0],[x,-1]]))\n",
    "push!(fans_K_0_1,x->polyhedral_fan(IM(K_0_1),\n",
    "[1 0; 0 1; -1 1; -2 1; -1 0; x -1]))\n",
    "push!(fans_K_0_1,x->polyhedral_fan(IM(K_0_1),\n",
    "[1 0; 0 1; -1 1; -1 0; x-1 -1; x -1]))\n",
    "\n",
    "for fan in fans_K_0_1\n",
    "    println(is_smooth(fan(2)))\n",
    "    println(is_complete(fan(3)))\n",
    "end\n",
    "\n"
   ]
  }
 ],
 "metadata": {
  "language_info": {
   "name": "python"
  }
 },
 "nbformat": 4,
 "nbformat_minor": 5
}
